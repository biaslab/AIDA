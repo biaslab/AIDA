{
 "cells": [
  {
   "cell_type": "markdown",
   "id": "frank-toilet",
   "metadata": {},
   "source": [
    "# Active Inference Design Agent (research)"
   ]
  },
  {
   "cell_type": "code",
   "execution_count": 2,
   "id": "constant-union",
   "metadata": {},
   "outputs": [],
   "source": [
    "using JLD\n",
    "using Distributions\n",
    "using LinearAlgebra\n",
    "using GraphPPL\n",
    "using ReactiveMP\n",
    "using Random \n",
    "using WAV\n",
    "using Plots\n",
    "using ImageCore\n",
    "using AIDA\n",
    "using Parameters\n",
    "import ProgressMeter"
   ]
  },
  {
   "cell_type": "markdown",
   "id": "present-packet",
   "metadata": {},
   "source": [
    "In this demo we will work with two different contexts (environemtns): babble and train noises. \n",
    "\n",
    "You can think of a user who keeps wandering around a train station: sometimes train arrives and he/she hears the train noises. When there is no train arriving to the platform, the user hears the babble from people waiting for the train.\n",
    "When someone starts talking to the user he would (maybe) prefer to damp the environmental noise and focus only on the speaker.\n",
    "\n",
    "Another possible scenario you can think of is the user who steps out of the train and goes to the bar, where people produce babble noise :D "
   ]
  },
  {
   "cell_type": "markdown",
   "id": "above-diploma",
   "metadata": {},
   "source": [
    "## Let's obtain priors for the environment"
   ]
  },
  {
   "cell_type": "code",
   "execution_count": 3,
   "id": "robust-gentleman",
   "metadata": {},
   "outputs": [],
   "source": [
    "speech_dir = \"../sound/speech/\"\n",
    "contexts = [\"babble\", \"train\"]\n",
    "input_SNRs = [\"0dB\", \"5dB\", \"10dB\"]\n",
    "input_fn = \"sp01\";"
   ]
  },
  {
   "cell_type": "markdown",
   "id": "outstanding-gregory",
   "metadata": {},
   "source": [
    "To make our model identifiabile, we would like to obtain priors for the environmental noises. To do this, we use Voice-Activity-Detection (VAD) to find the silent segments (with no speech). When those frames are identified, we fit them to AR model of order 2 to learn the parameters of AR.\n",
    "\n",
    "Surely, you can obtain the priors based on different logic. (to discuss (1) it doesn't have to be AR, (2) it doesn't have to be VAD)"
   ]
  },
  {
   "cell_type": "code",
   "execution_count": 9,
   "id": "operating-little",
   "metadata": {},
   "outputs": [],
   "source": [
    "snr_id = 2\n",
    "wavs = map(x -> wavread(\"$(speech_dir)$(x)/$(input_SNRs[snr_id])/$(input_fn)_$(x)_sn$(input_SNRs[snr_id][1:end-2]).wav\"), contexts)\n",
    "signals = first.(wavs)\n",
    "fs = getindex.(wavs, 2)[1]\n",
    "seg_signals = get_frames.(signals, fs);\n",
    "totsegs = size.(seg_signals, 1);"
   ]
  },
  {
   "cell_type": "markdown",
   "id": "embedded-answer",
   "metadata": {},
   "source": [
    "### VAD block"
   ]
  },
  {
   "cell_type": "code",
   "execution_count": 10,
   "id": "polished-medication",
   "metadata": {},
   "outputs": [],
   "source": [
    "@unpack θ, γ, context = JLD.load(\"../src/memory/context_babble_$(input_SNRs[snr_id]).jld\")\n",
    "# prior for babble noise\n",
    "bblmη = mean(θ)\n",
    "bblvη = cov(θ)\n",
    "bblτ  = (shape(γ), rate(γ));"
   ]
  },
  {
   "cell_type": "code",
   "execution_count": 11,
   "id": "architectural-effort",
   "metadata": {},
   "outputs": [],
   "source": [
    "@unpack θ, γ, context = JLD.load(\"../src/memory/context_train_$(input_SNRs[snr_id]).jld\")\n",
    "# prior for train noise\n",
    "trmη = mean(θ)\n",
    "trvη = cov(θ)\n",
    "trτ  = (shape(γ), rate(γ));"
   ]
  },
  {
   "cell_type": "markdown",
   "id": "wooden-significance",
   "metadata": {},
   "source": [
    "You can skip this entire block if you used priors from the above cell."
   ]
  },
  {
   "cell_type": "code",
   "execution_count": 12,
   "id": "attached-lloyd",
   "metadata": {},
   "outputs": [
    {
     "name": "stderr",
     "output_type": "stream",
     "text": [
      "\u001b[32mProgress: 100%|█████████████████████████████████████████| Time: 0:06:33\u001b[39m\n",
      "\u001b[32mProgress: 100%|█████████████████████████████████████████| Time: 0:05:07\u001b[39m\n"
     ]
    }
   ],
   "source": [
    "# compute free energies of two models (gaussian for silent frame, lar for voiced frame)\n",
    "vads = map(_ -> [], contexts)\n",
    "ar_order = 10\n",
    "vmp_iter = 50\n",
    "for c_num in 1:length(contexts)\n",
    "    ProgressMeter.@showprogress for segnum in 1:totsegs[c_num]\n",
    "        vad = model_selection(seg_signals[c_num][segnum, :], \n",
    "                              [lar_inference, inference_gaussian],\n",
    "                              [Dict(:aτ => 1e-4, :bτ => 1e-4, :aγ => 1e-4, :bγ => 1e-4, :order => ar_order), \n",
    "                               Dict(:aτ => 1e-4, :bτ => 1e-4)],\n",
    "                              vmp_iter=vmp_iter)\n",
    "        push!(vads[c_num], vad)\n",
    "    end\n",
    "end"
   ]
  },
  {
   "cell_type": "code",
   "execution_count": 14,
   "id": "cheap-treasure",
   "metadata": {},
   "outputs": [
    {
     "name": "stderr",
     "output_type": "stream",
     "text": [
      "\u001b[32mProgress: 100%|█████████████████████████████████████████| Time: 0:00:03\u001b[39m\n"
     ]
    },
    {
     "name": "stdout",
     "output_type": "stream",
     "text": [
      "Context-babble [1.0526046070458872, -0.4232782070078879], [0.0002274117502010668 -0.0001681986150731712; -0.0001681986150731712 0.00022744882724672668], 5144.5, 1.5403421819348209\n"
     ]
    },
    {
     "name": "stderr",
     "output_type": "stream",
     "text": [
      "\u001b[32mProgress: 100%|█████████████████████████████████████████| Time: 0:00:06\u001b[39m\n"
     ]
    },
    {
     "name": "stdout",
     "output_type": "stream",
     "text": [
      "Context-train [0.497019359872337, -0.15475030421215585], [8.002457029876353e-5 -3.4446944242771045e-5; -3.4446944242771045e-5 8.003099010678723e-5], 7679.5, 4.857063799328507\n"
     ]
    }
   ],
   "source": [
    "order   = 2\n",
    "vmp_its = 10\n",
    "\n",
    "for c_num in 1:length(contexts)\n",
    "    context_seg = seg_signals[c_num]\n",
    "    totseg = totsegs[c_num]\n",
    "    # find voiced and silent frames\n",
    "    vsegs = findall(isequal(1), vads[c_num]) # voiced frames\n",
    "    ssegs = findall(isequal(2), vads[c_num]); # silent frames\n",
    "    signal = get_signal(hcat([context_seg[sseg, :] for sseg in ssegs]...)', fs)\n",
    "    signal = filter!(a -> a != 0.0, signal)\n",
    "    inputs, outputs = ar_ssm(signal, order)\n",
    "    γ, θ, fe = ar_inference(inputs, outputs, order, vmp_its, priors=Dict(:μθ => zeros(order), :Λθ => diageye(order), :aγ => 1.0, :bγ => 1.0))\n",
    "    println(\"Context-$(contexts[c_num]) $(mean(θ)), $(cov(θ)), $(shape(γ)), $(rate(γ))\")\n",
    "    JLD.save(\"../src/memory/context_$(contexts[c_num])_$(input_SNRs[snr_id]).jld\", \"θ\", θ, \"γ\", γ, \"context\", contexts[c_num])\n",
    "end"
   ]
  },
  {
   "cell_type": "markdown",
   "id": "rapid-recipe",
   "metadata": {},
   "source": [
    "## Source seperation\n",
    "When priors for the contexts are indentified, we can run noise reduction algorithm based on coupled AR: AR_speech + AR_envrionment = output. This algorithm seperates speech (**z**) and noise (**x**)\n",
    "\n",
    "We will split our dataset into training and test set. We use signals from training set to learn the mapping function between the gains proposed by agent and aprraisals provided by user. Bare in mind that this split is not necessary and in theory we can get along without it."
   ]
  },
  {
   "cell_type": "code",
   "execution_count": 15,
   "id": "authorized-nepal",
   "metadata": {},
   "outputs": [],
   "source": [
    "# informative\n",
    "# map \"static\" priors to the corresponding matrices with equal element\n",
    "bblmη_arr, bblvη_arr, bblτ_arr = prior_to_priors(bblmη, bblvη, bblτ, totsegs[1], 2);\n",
    "trmη_arr, trvη_arr, trτ_arr = prior_to_priors(trmη, trvη, trτ, totsegs[2], 2);"
   ]
  },
  {
   "cell_type": "code",
   "execution_count": 16,
   "id": "comprehensive-birth",
   "metadata": {},
   "outputs": [],
   "source": [
    "# weakly informative\n",
    "bblmη_arr, bblvη_arr, bblτ_arr = prior_to_priors(zeros(2), diageye(2), bblτ, totsegs[1], 2);\n",
    "trmη_arr, trvη_arr, trτ_arr = prior_to_priors(zeros(2), diageye(2), trτ, totsegs[2], 2);"
   ]
  },
  {
   "cell_type": "code",
   "execution_count": 17,
   "id": "destroyed-satin",
   "metadata": {},
   "outputs": [],
   "source": [
    "# uninfomrmative informative\n",
    "bblmη_arr, bblvη_arr, bblτ_arr = prior_to_priors(zeros(2), diageye(2), (100.0, 0.15), totsegs[1], 2);\n",
    "trmη_arr, trvη_arr, trτ_arr = deepcopy(bblmη_arr), deepcopy(bblvη_arr), deepcopy(bblτ_arr);"
   ]
  },
  {
   "cell_type": "code",
   "execution_count": 18,
   "id": "prime-tackle",
   "metadata": {},
   "outputs": [],
   "source": [
    "db = \"5dB\"\n",
    "audio_files = vcat(get_files.(map(x -> \"../sound/speech/$(x)/$(db)\", contexts))...);"
   ]
  },
  {
   "cell_type": "code",
   "execution_count": 19,
   "id": "funded-prophet",
   "metadata": {},
   "outputs": [],
   "source": [
    "audio_files = filter!(x -> contains(x, \"wav\"), audio_files);"
   ]
  },
  {
   "cell_type": "code",
   "execution_count": 25,
   "id": "capable-environment",
   "metadata": {},
   "outputs": [
    {
     "name": "stdout",
     "output_type": "stream",
     "text": [
      "../sound/speech/babble/5dB/sp08_babble_sn5.wav\n"
     ]
    },
    {
     "data": {
      "text/plain": [
       "380×80 Matrix{Float64}:\n",
       "  0.0124821    0.0105899    0.00146489   …  -0.00985748    0.0145268\n",
       " -0.00766015  -0.0184027    0.003296        -0.00372326   -0.0199286\n",
       "  0.0262154    0.00979644   0.0133061       -0.00766015   -0.00616474\n",
       " -0.0069277   -0.00656148  -0.0177313        0.0105594     0.0203864\n",
       " -0.011597    -0.00241096  -0.0069277       -0.0133061    -0.0186468\n",
       " -0.0176702   -0.0256966   -0.0152287    …  -0.0315867    -0.0348521\n",
       " -0.0147099   -0.00439467  -0.00103763       0.0335398     0.0371105\n",
       "  0.0440687    0.0233161    0.0130314       -0.0137944    -0.0118107\n",
       " -0.027192    -0.0391552   -0.0315867        0.0154424     0.0127873\n",
       " -0.0266732   -0.00750755   0.00442518      -0.00811792   -0.0104984\n",
       " -0.0130619   -0.00466933   0.000579852  …  -0.00689718   -0.00701926\n",
       "  0.0160527    0.0143742    0.00570696       0.00262459   -0.0044557\n",
       " -0.00210578  -0.0130924   -0.0373241        0.00756859   -0.00708029\n",
       "  ⋮                                      ⋱                \n",
       " -0.0213324   -0.00646992  -0.00701926      -0.0144047    -0.0213019\n",
       " -0.0195624   -0.00778222   0.00506607       0.0112613    -0.00439467\n",
       " -0.00454726   0.00210578   0.0167547    …  -0.00604266   -0.0148015\n",
       "  0.0217292    0.0146489   -0.000793481     -0.0786462    -0.0696432\n",
       "  0.0263375   -0.00979644  -0.0221564        0.0282601     0.023835\n",
       " -0.0516068   -0.0299387   -0.0132145        0.0343028     0.023133\n",
       "  0.0152898    0.0239875    0.0213324       -0.0383007    -0.0106204\n",
       "  0.0765709    0.0651265    0.00180059   …  -0.0414441    -0.0417493\n",
       " -0.00970489   0.014832    -0.034669        -0.000549333   0.000885037\n",
       " -0.0172124   -0.016419    -0.0245369        0.0199896     0.0426954\n",
       " -0.0477004   -0.0506912   -0.0136113        0.0374157     0.027955\n",
       "  0.0263375    0.0267342    0.0293588        0.0           0.0"
      ]
     },
     "execution_count": 25,
     "metadata": {},
     "output_type": "execute_result"
    }
   ],
   "source": [
    "# Check for how the data is organized\n",
    "audio_file = audio_files[8]\n",
    "println(audio_file)\n",
    "speech, fs = WAV.wavread(audio_file)\n",
    "speech_seg = get_frames(speech, fs)"
   ]
  },
  {
   "cell_type": "markdown",
   "id": "computational-difficulty",
   "metadata": {},
   "source": [
    "At this stage we run our inference algorithm to seperate **z** and **x**. We write the output into *.jld* files.\n",
    "\n",
    "You don't need to run this snippet if you haven't changed the default parameters of HA_algorithm and priors (just see *sound/AIDA/separated_jld/training/*)"
   ]
  },
  {
   "cell_type": "code",
   "execution_count": 27,
   "id": "grateful-treasury",
   "metadata": {},
   "outputs": [
    {
     "name": "stderr",
     "output_type": "stream",
     "text": [
      "\u001b[32mProgress: 100%|█████████████████████████████████████████| Time: 0:09:35\u001b[39m\n",
      "\u001b[32mProgress: 100%|█████████████████████████████████████████| Time: 0:07:38\u001b[39m\n",
      "\u001b[32mProgress: 100%|█████████████████████████████████████████| Time: 0:04:47\u001b[39m\n",
      "\u001b[32mProgress: 100%|█████████████████████████████████████████| Time: 0:03:21\u001b[39m\n",
      "\u001b[32mProgress: 100%|█████████████████████████████████████████| Time: 0:03:18\u001b[39m\n",
      "\u001b[32mProgress: 100%|█████████████████████████████████████████| Time: 0:04:01\u001b[39m\n",
      "\u001b[32mProgress: 100%|█████████████████████████████████████████| Time: 0:03:42\u001b[39m\n",
      "\u001b[32mProgress: 100%|█████████████████████████████████████████| Time: 0:04:13\u001b[39m\n",
      "\u001b[32mProgress: 100%|█████████████████████████████████████████| Time: 0:04:29\u001b[39m\n",
      "\u001b[32mProgress: 100%|█████████████████████████████████████████| Time: 0:03:58\u001b[39m\n",
      "\u001b[32mProgress: 100%|█████████████████████████████████████████| Time: 0:04:20\u001b[39m\n",
      "\u001b[32mProgress: 100%|█████████████████████████████████████████| Time: 0:04:05\u001b[39m\n",
      "\u001b[32mProgress: 100%|█████████████████████████████████████████| Time: 0:03:46\u001b[39m\n",
      "\u001b[32mProgress: 100%|█████████████████████████████████████████| Time: 0:04:22\u001b[39m\n",
      "\u001b[32mProgress: 100%|█████████████████████████████████████████| Time: 0:04:19\u001b[39m\n",
      "\u001b[32mProgress: 100%|█████████████████████████████████████████| Time: 0:03:26\u001b[39m\n",
      "\u001b[32mProgress: 100%|█████████████████████████████████████████| Time: 0:03:34\u001b[39m\n",
      "\u001b[32mProgress: 100%|█████████████████████████████████████████| Time: 0:03:22\u001b[39m\n",
      "\u001b[32mProgress: 100%|█████████████████████████████████████████| Time: 0:03:57\u001b[39m\n",
      "\u001b[32mProgress: 100%|█████████████████████████████████████████| Time: 0:03:50\u001b[39m\n",
      "\u001b[32mProgress: 100%|█████████████████████████████████████████| Time: 0:05:12\u001b[39m\n",
      "\u001b[32mProgress: 100%|█████████████████████████████████████████| Time: 0:04:00\u001b[39m\n",
      "\u001b[32mProgress: 100%|█████████████████████████████████████████| Time: 0:03:57\u001b[39m\n",
      "\u001b[32mProgress: 100%|█████████████████████████████████████████| Time: 0:05:11\u001b[39m\n",
      "\u001b[32mProgress: 100%|█████████████████████████████████████████| Time: 0:04:22\u001b[39m\n",
      "\u001b[32mProgress: 100%|█████████████████████████████████████████| Time: 0:03:42\u001b[39m\n",
      "\u001b[32mProgress: 100%|█████████████████████████████████████████| Time: 0:03:46\u001b[39m\n",
      "\u001b[32mProgress: 100%|█████████████████████████████████████████| Time: 0:03:36\u001b[39m\n",
      "\u001b[32mProgress: 100%|█████████████████████████████████████████| Time: 0:03:47\u001b[39m\n",
      "\u001b[32mProgress: 100%|█████████████████████████████████████████| Time: 0:03:55\u001b[39m\n",
      "\u001b[32mProgress: 100%|█████████████████████████████████████████| Time: 0:04:12\u001b[39m\n",
      "\u001b[32mProgress: 100%|█████████████████████████████████████████| Time: 0:03:54\u001b[39m\n",
      "\u001b[32mProgress: 100%|█████████████████████████████████████████| Time: 0:03:19\u001b[39m\n",
      "\u001b[32mProgress: 100%|█████████████████████████████████████████| Time: 0:03:09\u001b[39m\n",
      "\u001b[32mProgress: 100%|█████████████████████████████████████████| Time: 0:03:15\u001b[39m\n",
      "\u001b[32mProgress: 100%|█████████████████████████████████████████| Time: 0:04:02\u001b[39m\n",
      "\u001b[32mProgress: 100%|█████████████████████████████████████████| Time: 0:03:44\u001b[39m\n",
      "\u001b[32mProgress: 100%|█████████████████████████████████████████| Time: 0:04:13\u001b[39m\n",
      "\u001b[32mProgress: 100%|█████████████████████████████████████████| Time: 0:04:27\u001b[39m\n",
      "\u001b[32mProgress: 100%|█████████████████████████████████████████| Time: 0:03:57\u001b[39m\n",
      "\u001b[32mProgress: 100%|█████████████████████████████████████████| Time: 0:04:20\u001b[39m\n",
      "\u001b[32mProgress: 100%|█████████████████████████████████████████| Time: 0:04:04\u001b[39m\n",
      "\u001b[32mProgress: 100%|█████████████████████████████████████████| Time: 0:03:45\u001b[39m\n",
      "\u001b[32mProgress: 100%|█████████████████████████████████████████| Time: 0:04:20\u001b[39m\n",
      "\u001b[32mProgress: 100%|█████████████████████████████████████████| Time: 0:04:18\u001b[39m\n",
      "\u001b[32mProgress: 100%|█████████████████████████████████████████| Time: 0:03:25\u001b[39m\n",
      "\u001b[32mProgress: 100%|█████████████████████████████████████████| Time: 0:03:32\u001b[39m\n",
      "\u001b[32mProgress: 100%|█████████████████████████████████████████| Time: 0:03:21\u001b[39m\n",
      "\u001b[32mProgress: 100%|█████████████████████████████████████████| Time: 0:03:55\u001b[39m\n",
      "\u001b[32mProgress: 100%|█████████████████████████████████████████| Time: 0:03:48\u001b[39m\n",
      "\u001b[32mProgress: 100%|█████████████████████████████████████████| Time: 0:05:08\u001b[39m\n",
      "\u001b[32mProgress: 100%|█████████████████████████████████████████| Time: 0:03:57\u001b[39m\n",
      "\u001b[32mProgress: 100%|█████████████████████████████████████████| Time: 0:03:54\u001b[39m\n",
      "\u001b[32mProgress: 100%|█████████████████████████████████████████| Time: 0:05:05\u001b[39m\n",
      "\u001b[32mProgress: 100%|█████████████████████████████████████████| Time: 0:04:18\u001b[39m\n",
      "\u001b[32mProgress: 100%|█████████████████████████████████████████| Time: 0:03:39\u001b[39m\n",
      "\u001b[32mProgress: 100%|█████████████████████████████████████████| Time: 0:03:43\u001b[39m\n",
      "\u001b[32mProgress: 100%|█████████████████████████████████████████| Time: 0:03:33\u001b[39m\n",
      "\u001b[32mProgress: 100%|█████████████████████████████████████████| Time: 0:03:44\u001b[39m\n",
      "\u001b[32mProgress: 100%|█████████████████████████████████████████| Time: 0:03:51\u001b[39m\n"
     ]
    }
   ],
   "source": [
    "# r for recovered\n",
    "ar_speech = 10\n",
    "ar_env = 2\n",
    "vmp_iter = 30\n",
    "\n",
    "for audio_file in audio_files\n",
    "    if !occursin(\".wav\", audio_file) continue end\n",
    "    \n",
    "    if occursin(\"/$(contexts[1])/\", audio_file)\n",
    "        priors_eta = (bblmη_arr, bblvη_arr)\n",
    "        priors_tau = bblτ_arr\n",
    "    elseif occursin(\"/$(contexts[2])/\", audio_file)\n",
    "        priors_eta = (trmη_arr, trvη_arr)\n",
    "        priors_tau = trτ_arr\n",
    "    else\n",
    "        continue\n",
    "    end\n",
    "    \n",
    "    speech, fs = WAV.wavread(audio_file)\n",
    "    speech_seg = get_frames(speech, fs)\n",
    "    \n",
    "    # make sure that 1D of priors and speech_seg are equal\n",
    "    if size(priors_eta, 1) != size(speech_seg, 1)\n",
    "        totseg = size(speech_seg, 1)\n",
    "        priors_eta_m, priors_eta_v, priors_tau = prior_to_priors(priors_eta[1][1, :]', priors_eta[2][1, :, :], priors_tau[1], totseg, ar_env)\n",
    "        priors_eta = priors_eta_m, priors_eta_v\n",
    "    end\n",
    "    \n",
    "    rmz, rvz, rmθ, rvθ, rγ, rmx, rvx, rmη, rvη, rτ, fe = batch_coupled_learning(speech_seg, priors_eta, priors_tau, ar_speech, ar_env, vmp_iter);\n",
    "    \n",
    "    JLD.save(\"../sound/separated_jld/\"*audio_file[findfirst(\"sp\", audio_file)[1]:end][1:end-3]*\"jld\",\n",
    "         \"rmz\", rmz, \"rvz\", rvz, \"rmθ\", rmθ, \"rvθ\", rvθ, \"rγ\", rγ, \n",
    "         \"rmx\", rmx, \"rvx\", rvx, \"rmη\", rmη, \"rvη\", rvη, \"rτ\", rτ,\n",
    "         \"fe\", fe, \"filename\", audio_file)\n",
    "end"
   ]
  },
  {
   "cell_type": "markdown",
   "id": "monetary-white",
   "metadata": {},
   "source": [
    "## Context inference"
   ]
  },
  {
   "cell_type": "code",
   "execution_count": 34,
   "id": "exposed-richardson",
   "metadata": {},
   "outputs": [],
   "source": [
    "# r for recovered\n",
    "ar_env = 2\n",
    "vmp_iter = 50\n",
    "active_contexts = []\n",
    "active_models = []\n",
    "for audio_file in audio_files\n",
    "    if !occursin(\".wav\", audio_file) continue end\n",
    "    \n",
    "    speech, fs = WAV.wavread(audio_file)\n",
    "    speech_seg = get_frames(speech, fs)\n",
    "    vad = model_selection(speech_seg[1, :], \n",
    "                              [lar_inference, lar_inference], \n",
    "                              [Dict(:mθ => [1.0526046070458872, -0.4232782070078879], \n",
    "                                    :vθ => [0.0002274117502010668 -0.0001681986150731712; -0.0001681986150731712 0.00022744882724672668], \n",
    "                                    :aγ => 5144.5, :bγ => 1.5403421819348209, \n",
    "                                    :τ  => 1e12, :order=>ar_env),\n",
    "                              Dict(:mθ => [0.497019359872337, -0.15475030421215585], \n",
    "                                   :vθ => [8.002457029876353e-5 -3.4446944242771045e-5; -3.4446944242771045e-5 8.003099010678723e-5], \n",
    "                                   :aγ => 7679.5, :bγ => 4.857063799328507, \n",
    "                                   :τ  => 1e12, :order=>ar_env)],\n",
    "                              vmp_iter=vmp_iter)\n",
    "    push!(active_models, vad)\n",
    "    if occursin(\"/$(contexts[1])/\", audio_file)\n",
    "        push!(active_contexts, 1.0)\n",
    "    elseif occursin(\"/$(contexts[2])/\", audio_file)\n",
    "        push!(active_contexts, 2.0)\n",
    "    else\n",
    "        continue\n",
    "    end\n",
    "end"
   ]
  },
  {
   "cell_type": "code",
   "execution_count": 35,
   "id": "proper-gospel",
   "metadata": {},
   "outputs": [
    {
     "data": {
      "text/plain": [
       "0.75"
      ]
     },
     "execution_count": 35,
     "metadata": {},
     "output_type": "execute_result"
    }
   ],
   "source": [
    "cat_accuracy(active_contexts, active_models)"
   ]
  },
  {
   "cell_type": "code",
   "execution_count": 36,
   "id": "sized-innocent",
   "metadata": {},
   "outputs": [
    {
     "data": {
      "image/svg+xml": [
       "<?xml version=\"1.0\" encoding=\"utf-8\"?>\n",
       "<svg xmlns=\"http://www.w3.org/2000/svg\" xmlns:xlink=\"http://www.w3.org/1999/xlink\" width=\"600\" height=\"400\" viewBox=\"0 0 2400 1600\">\n",
       "<defs>\n",
       "  <clipPath id=\"clip320\">\n",
       "    <rect x=\"0\" y=\"0\" width=\"2400\" height=\"1600\"/>\n",
       "  </clipPath>\n",
       "</defs>\n",
       "<path clip-path=\"url(#clip320)\" d=\"\n",
       "M0 1600 L2400 1600 L2400 0 L0 0  Z\n",
       "  \" fill=\"#ffffff\" fill-rule=\"evenodd\" fill-opacity=\"1\"/>\n",
       "<defs>\n",
       "  <clipPath id=\"clip321\">\n",
       "    <rect x=\"480\" y=\"0\" width=\"1681\" height=\"1600\"/>\n",
       "  </clipPath>\n",
       "</defs>\n",
       "<path clip-path=\"url(#clip320)\" d=\"\n",
       "M185.927 1486.45 L2352.76 1486.45 L2352.76 47.2441 L185.927 47.2441  Z\n",
       "  \" fill=\"#ffffff\" fill-rule=\"evenodd\" fill-opacity=\"1\"/>\n",
       "<defs>\n",
       "  <clipPath id=\"clip322\">\n",
       "    <rect x=\"185\" y=\"47\" width=\"2168\" height=\"1440\"/>\n",
       "  </clipPath>\n",
       "</defs>\n",
       "<polyline clip-path=\"url(#clip322)\" style=\"stroke:#000000; stroke-linecap:butt; stroke-linejoin:round; stroke-width:2; stroke-opacity:0.1; fill:none\" points=\"\n",
       "  212.605,1486.45 212.605,47.2441 \n",
       "  \"/>\n",
       "<polyline clip-path=\"url(#clip322)\" style=\"stroke:#000000; stroke-linecap:butt; stroke-linejoin:round; stroke-width:2; stroke-opacity:0.1; fill:none\" points=\"\n",
       "  559.076,1486.45 559.076,47.2441 \n",
       "  \"/>\n",
       "<polyline clip-path=\"url(#clip322)\" style=\"stroke:#000000; stroke-linecap:butt; stroke-linejoin:round; stroke-width:2; stroke-opacity:0.1; fill:none\" points=\"\n",
       "  905.547,1486.45 905.547,47.2441 \n",
       "  \"/>\n",
       "<polyline clip-path=\"url(#clip322)\" style=\"stroke:#000000; stroke-linecap:butt; stroke-linejoin:round; stroke-width:2; stroke-opacity:0.1; fill:none\" points=\"\n",
       "  1252.02,1486.45 1252.02,47.2441 \n",
       "  \"/>\n",
       "<polyline clip-path=\"url(#clip322)\" style=\"stroke:#000000; stroke-linecap:butt; stroke-linejoin:round; stroke-width:2; stroke-opacity:0.1; fill:none\" points=\"\n",
       "  1598.49,1486.45 1598.49,47.2441 \n",
       "  \"/>\n",
       "<polyline clip-path=\"url(#clip322)\" style=\"stroke:#000000; stroke-linecap:butt; stroke-linejoin:round; stroke-width:2; stroke-opacity:0.1; fill:none\" points=\"\n",
       "  1944.96,1486.45 1944.96,47.2441 \n",
       "  \"/>\n",
       "<polyline clip-path=\"url(#clip322)\" style=\"stroke:#000000; stroke-linecap:butt; stroke-linejoin:round; stroke-width:2; stroke-opacity:0.1; fill:none\" points=\"\n",
       "  2291.43,1486.45 2291.43,47.2441 \n",
       "  \"/>\n",
       "<polyline clip-path=\"url(#clip320)\" style=\"stroke:#000000; stroke-linecap:butt; stroke-linejoin:round; stroke-width:4; stroke-opacity:1; fill:none\" points=\"\n",
       "  185.927,1486.45 2352.76,1486.45 \n",
       "  \"/>\n",
       "<polyline clip-path=\"url(#clip320)\" style=\"stroke:#000000; stroke-linecap:butt; stroke-linejoin:round; stroke-width:4; stroke-opacity:1; fill:none\" points=\"\n",
       "  212.605,1486.45 212.605,1467.55 \n",
       "  \"/>\n",
       "<polyline clip-path=\"url(#clip320)\" style=\"stroke:#000000; stroke-linecap:butt; stroke-linejoin:round; stroke-width:4; stroke-opacity:1; fill:none\" points=\"\n",
       "  559.076,1486.45 559.076,1467.55 \n",
       "  \"/>\n",
       "<polyline clip-path=\"url(#clip320)\" style=\"stroke:#000000; stroke-linecap:butt; stroke-linejoin:round; stroke-width:4; stroke-opacity:1; fill:none\" points=\"\n",
       "  905.547,1486.45 905.547,1467.55 \n",
       "  \"/>\n",
       "<polyline clip-path=\"url(#clip320)\" style=\"stroke:#000000; stroke-linecap:butt; stroke-linejoin:round; stroke-width:4; stroke-opacity:1; fill:none\" points=\"\n",
       "  1252.02,1486.45 1252.02,1467.55 \n",
       "  \"/>\n",
       "<polyline clip-path=\"url(#clip320)\" style=\"stroke:#000000; stroke-linecap:butt; stroke-linejoin:round; stroke-width:4; stroke-opacity:1; fill:none\" points=\"\n",
       "  1598.49,1486.45 1598.49,1467.55 \n",
       "  \"/>\n",
       "<polyline clip-path=\"url(#clip320)\" style=\"stroke:#000000; stroke-linecap:butt; stroke-linejoin:round; stroke-width:4; stroke-opacity:1; fill:none\" points=\"\n",
       "  1944.96,1486.45 1944.96,1467.55 \n",
       "  \"/>\n",
       "<polyline clip-path=\"url(#clip320)\" style=\"stroke:#000000; stroke-linecap:butt; stroke-linejoin:round; stroke-width:4; stroke-opacity:1; fill:none\" points=\"\n",
       "  2291.43,1486.45 2291.43,1467.55 \n",
       "  \"/>\n",
       "<path clip-path=\"url(#clip320)\" d=\"M212.605 1517.37 Q208.994 1517.37 207.165 1520.93 Q205.36 1524.47 205.36 1531.6 Q205.36 1538.71 207.165 1542.27 Q208.994 1545.82 212.605 1545.82 Q216.239 1545.82 218.045 1542.27 Q219.874 1538.71 219.874 1531.6 Q219.874 1524.47 218.045 1520.93 Q216.239 1517.37 212.605 1517.37 M212.605 1513.66 Q218.415 1513.66 221.471 1518.27 Q224.549 1522.85 224.549 1531.6 Q224.549 1540.33 221.471 1544.94 Q218.415 1549.52 212.605 1549.52 Q206.795 1549.52 203.716 1544.94 Q200.661 1540.33 200.661 1531.6 Q200.661 1522.85 203.716 1518.27 Q206.795 1513.66 212.605 1513.66 Z\" fill=\"#000000\" fill-rule=\"evenodd\" fill-opacity=\"1\" /><path clip-path=\"url(#clip320)\" d=\"M533.764 1544.91 L541.402 1544.91 L541.402 1518.55 L533.092 1520.21 L533.092 1515.95 L541.356 1514.29 L546.032 1514.29 L546.032 1544.91 L553.671 1544.91 L553.671 1548.85 L533.764 1548.85 L533.764 1544.91 Z\" fill=\"#000000\" fill-rule=\"evenodd\" fill-opacity=\"1\" /><path clip-path=\"url(#clip320)\" d=\"M573.115 1517.37 Q569.504 1517.37 567.675 1520.93 Q565.87 1524.47 565.87 1531.6 Q565.87 1538.71 567.675 1542.27 Q569.504 1545.82 573.115 1545.82 Q576.749 1545.82 578.555 1542.27 Q580.384 1538.71 580.384 1531.6 Q580.384 1524.47 578.555 1520.93 Q576.749 1517.37 573.115 1517.37 M573.115 1513.66 Q578.925 1513.66 581.981 1518.27 Q585.06 1522.85 585.06 1531.6 Q585.06 1540.33 581.981 1544.94 Q578.925 1549.52 573.115 1549.52 Q567.305 1549.52 564.226 1544.94 Q561.171 1540.33 561.171 1531.6 Q561.171 1522.85 564.226 1518.27 Q567.305 1513.66 573.115 1513.66 Z\" fill=\"#000000\" fill-rule=\"evenodd\" fill-opacity=\"1\" /><path clip-path=\"url(#clip320)\" d=\"M884.32 1544.91 L900.639 1544.91 L900.639 1548.85 L878.695 1548.85 L878.695 1544.91 Q881.357 1542.16 885.941 1537.53 Q890.547 1532.88 891.728 1531.53 Q893.973 1529.01 894.852 1527.27 Q895.755 1525.51 895.755 1523.82 Q895.755 1521.07 893.811 1519.33 Q891.89 1517.6 888.788 1517.6 Q886.589 1517.6 884.135 1518.36 Q881.704 1519.13 878.927 1520.68 L878.927 1515.95 Q881.751 1514.82 884.204 1514.24 Q886.658 1513.66 888.695 1513.66 Q894.065 1513.66 897.26 1516.35 Q900.454 1519.03 900.454 1523.52 Q900.454 1525.65 899.644 1527.57 Q898.857 1529.47 896.751 1532.07 Q896.172 1532.74 893.07 1535.95 Q889.968 1539.15 884.32 1544.91 Z\" fill=\"#000000\" fill-rule=\"evenodd\" fill-opacity=\"1\" /><path clip-path=\"url(#clip320)\" d=\"M920.454 1517.37 Q916.843 1517.37 915.014 1520.93 Q913.209 1524.47 913.209 1531.6 Q913.209 1538.71 915.014 1542.27 Q916.843 1545.82 920.454 1545.82 Q924.088 1545.82 925.894 1542.27 Q927.723 1538.71 927.723 1531.6 Q927.723 1524.47 925.894 1520.93 Q924.088 1517.37 920.454 1517.37 M920.454 1513.66 Q926.264 1513.66 929.32 1518.27 Q932.399 1522.85 932.399 1531.6 Q932.399 1540.33 929.32 1544.94 Q926.264 1549.52 920.454 1549.52 Q914.644 1549.52 911.565 1544.94 Q908.51 1540.33 908.51 1531.6 Q908.51 1522.85 911.565 1518.27 Q914.644 1513.66 920.454 1513.66 Z\" fill=\"#000000\" fill-rule=\"evenodd\" fill-opacity=\"1\" /><path clip-path=\"url(#clip320)\" d=\"M1240.86 1530.21 Q1244.22 1530.93 1246.09 1533.2 Q1247.99 1535.47 1247.99 1538.8 Q1247.99 1543.92 1244.47 1546.72 Q1240.95 1549.52 1234.47 1549.52 Q1232.3 1549.52 1229.98 1549.08 Q1227.69 1548.66 1225.24 1547.81 L1225.24 1543.29 Q1227.18 1544.43 1229.49 1545.01 Q1231.81 1545.58 1234.33 1545.58 Q1238.73 1545.58 1241.02 1543.85 Q1243.34 1542.11 1243.34 1538.8 Q1243.34 1535.75 1241.18 1534.03 Q1239.05 1532.3 1235.24 1532.3 L1231.21 1532.3 L1231.21 1528.45 L1235.42 1528.45 Q1238.87 1528.45 1240.7 1527.09 Q1242.53 1525.7 1242.53 1523.11 Q1242.53 1520.45 1240.63 1519.03 Q1238.75 1517.6 1235.24 1517.6 Q1233.31 1517.6 1231.12 1518.01 Q1228.92 1518.43 1226.28 1519.31 L1226.28 1515.14 Q1228.94 1514.4 1231.25 1514.03 Q1233.59 1513.66 1235.65 1513.66 Q1240.98 1513.66 1244.08 1516.09 Q1247.18 1518.5 1247.18 1522.62 Q1247.18 1525.49 1245.54 1527.48 Q1243.89 1529.45 1240.86 1530.21 Z\" fill=\"#000000\" fill-rule=\"evenodd\" fill-opacity=\"1\" /><path clip-path=\"url(#clip320)\" d=\"M1266.86 1517.37 Q1263.24 1517.37 1261.42 1520.93 Q1259.61 1524.47 1259.61 1531.6 Q1259.61 1538.71 1261.42 1542.27 Q1263.24 1545.82 1266.86 1545.82 Q1270.49 1545.82 1272.3 1542.27 Q1274.12 1538.71 1274.12 1531.6 Q1274.12 1524.47 1272.3 1520.93 Q1270.49 1517.37 1266.86 1517.37 M1266.86 1513.66 Q1272.67 1513.66 1275.72 1518.27 Q1278.8 1522.85 1278.8 1531.6 Q1278.8 1540.33 1275.72 1544.94 Q1272.67 1549.52 1266.86 1549.52 Q1261.05 1549.52 1257.97 1544.94 Q1254.91 1540.33 1254.91 1531.6 Q1254.91 1522.85 1257.97 1518.27 Q1261.05 1513.66 1266.86 1513.66 Z\" fill=\"#000000\" fill-rule=\"evenodd\" fill-opacity=\"1\" /><path clip-path=\"url(#clip320)\" d=\"M1586.66 1518.36 L1574.85 1536.81 L1586.66 1536.81 L1586.66 1518.36 M1585.43 1514.29 L1591.31 1514.29 L1591.31 1536.81 L1596.24 1536.81 L1596.24 1540.7 L1591.31 1540.7 L1591.31 1548.85 L1586.66 1548.85 L1586.66 1540.7 L1571.06 1540.7 L1571.06 1536.19 L1585.43 1514.29 Z\" fill=\"#000000\" fill-rule=\"evenodd\" fill-opacity=\"1\" /><path clip-path=\"url(#clip320)\" d=\"M1613.97 1517.37 Q1610.36 1517.37 1608.53 1520.93 Q1606.73 1524.47 1606.73 1531.6 Q1606.73 1538.71 1608.53 1542.27 Q1610.36 1545.82 1613.97 1545.82 Q1617.61 1545.82 1619.41 1542.27 Q1621.24 1538.71 1621.24 1531.6 Q1621.24 1524.47 1619.41 1520.93 Q1617.61 1517.37 1613.97 1517.37 M1613.97 1513.66 Q1619.78 1513.66 1622.84 1518.27 Q1625.92 1522.85 1625.92 1531.6 Q1625.92 1540.33 1622.84 1544.94 Q1619.78 1549.52 1613.97 1549.52 Q1608.16 1549.52 1605.09 1544.94 Q1602.03 1540.33 1602.03 1531.6 Q1602.03 1522.85 1605.09 1518.27 Q1608.16 1513.66 1613.97 1513.66 Z\" fill=\"#000000\" fill-rule=\"evenodd\" fill-opacity=\"1\" /><path clip-path=\"url(#clip320)\" d=\"M1919.66 1514.29 L1938.02 1514.29 L1938.02 1518.22 L1923.94 1518.22 L1923.94 1526.7 Q1924.96 1526.35 1925.98 1526.19 Q1927 1526 1928.02 1526 Q1933.8 1526 1937.18 1529.17 Q1940.56 1532.34 1940.56 1537.76 Q1940.56 1543.34 1937.09 1546.44 Q1933.62 1549.52 1927.3 1549.52 Q1925.12 1549.52 1922.85 1549.15 Q1920.61 1548.78 1918.2 1548.04 L1918.2 1543.34 Q1920.28 1544.47 1922.51 1545.03 Q1924.73 1545.58 1927.21 1545.58 Q1931.21 1545.58 1933.55 1543.48 Q1935.89 1541.37 1935.89 1537.76 Q1935.89 1534.15 1933.55 1532.04 Q1931.21 1529.94 1927.21 1529.94 Q1925.33 1529.94 1923.46 1530.35 Q1921.6 1530.77 1919.66 1531.65 L1919.66 1514.29 Z\" fill=\"#000000\" fill-rule=\"evenodd\" fill-opacity=\"1\" /><path clip-path=\"url(#clip320)\" d=\"M1959.77 1517.37 Q1956.16 1517.37 1954.33 1520.93 Q1952.53 1524.47 1952.53 1531.6 Q1952.53 1538.71 1954.33 1542.27 Q1956.16 1545.82 1959.77 1545.82 Q1963.41 1545.82 1965.21 1542.27 Q1967.04 1538.71 1967.04 1531.6 Q1967.04 1524.47 1965.21 1520.93 Q1963.41 1517.37 1959.77 1517.37 M1959.77 1513.66 Q1965.58 1513.66 1968.64 1518.27 Q1971.72 1522.85 1971.72 1531.6 Q1971.72 1540.33 1968.64 1544.94 Q1965.58 1549.52 1959.77 1549.52 Q1953.96 1549.52 1950.89 1544.94 Q1947.83 1540.33 1947.83 1531.6 Q1947.83 1522.85 1950.89 1518.27 Q1953.96 1513.66 1959.77 1513.66 Z\" fill=\"#000000\" fill-rule=\"evenodd\" fill-opacity=\"1\" /><path clip-path=\"url(#clip320)\" d=\"M2276.84 1529.7 Q2273.69 1529.7 2271.84 1531.86 Q2270.01 1534.01 2270.01 1537.76 Q2270.01 1541.49 2271.84 1543.66 Q2273.69 1545.82 2276.84 1545.82 Q2279.98 1545.82 2281.81 1543.66 Q2283.66 1541.49 2283.66 1537.76 Q2283.66 1534.01 2281.81 1531.86 Q2279.98 1529.7 2276.84 1529.7 M2286.12 1515.05 L2286.12 1519.31 Q2284.36 1518.48 2282.55 1518.04 Q2280.77 1517.6 2279.01 1517.6 Q2274.38 1517.6 2271.93 1520.72 Q2269.5 1523.85 2269.15 1530.17 Q2270.52 1528.15 2272.58 1527.09 Q2274.64 1526 2277.11 1526 Q2282.32 1526 2285.33 1529.17 Q2288.36 1532.32 2288.36 1537.76 Q2288.36 1543.08 2285.22 1546.3 Q2282.07 1549.52 2276.84 1549.52 Q2270.84 1549.52 2267.67 1544.94 Q2264.5 1540.33 2264.5 1531.6 Q2264.5 1523.41 2268.39 1518.55 Q2272.28 1513.66 2278.83 1513.66 Q2280.59 1513.66 2282.37 1514.01 Q2284.17 1514.36 2286.12 1515.05 Z\" fill=\"#000000\" fill-rule=\"evenodd\" fill-opacity=\"1\" /><path clip-path=\"url(#clip320)\" d=\"M2306.42 1517.37 Q2302.81 1517.37 2300.98 1520.93 Q2299.17 1524.47 2299.17 1531.6 Q2299.17 1538.71 2300.98 1542.27 Q2302.81 1545.82 2306.42 1545.82 Q2310.05 1545.82 2311.86 1542.27 Q2313.69 1538.71 2313.69 1531.6 Q2313.69 1524.47 2311.86 1520.93 Q2310.05 1517.37 2306.42 1517.37 M2306.42 1513.66 Q2312.23 1513.66 2315.28 1518.27 Q2318.36 1522.85 2318.36 1531.6 Q2318.36 1540.33 2315.28 1544.94 Q2312.23 1549.52 2306.42 1549.52 Q2300.61 1549.52 2297.53 1544.94 Q2294.47 1540.33 2294.47 1531.6 Q2294.47 1522.85 2297.53 1518.27 Q2300.61 1513.66 2306.42 1513.66 Z\" fill=\"#000000\" fill-rule=\"evenodd\" fill-opacity=\"1\" /><polyline clip-path=\"url(#clip322)\" style=\"stroke:#000000; stroke-linecap:butt; stroke-linejoin:round; stroke-width:2; stroke-opacity:0.1; fill:none\" points=\"\n",
       "  185.927,1445.72 2352.76,1445.72 \n",
       "  \"/>\n",
       "<polyline clip-path=\"url(#clip322)\" style=\"stroke:#000000; stroke-linecap:butt; stroke-linejoin:round; stroke-width:2; stroke-opacity:0.1; fill:none\" points=\"\n",
       "  185.927,1106.28 2352.76,1106.28 \n",
       "  \"/>\n",
       "<polyline clip-path=\"url(#clip322)\" style=\"stroke:#000000; stroke-linecap:butt; stroke-linejoin:round; stroke-width:2; stroke-opacity:0.1; fill:none\" points=\"\n",
       "  185.927,766.846 2352.76,766.846 \n",
       "  \"/>\n",
       "<polyline clip-path=\"url(#clip322)\" style=\"stroke:#000000; stroke-linecap:butt; stroke-linejoin:round; stroke-width:2; stroke-opacity:0.1; fill:none\" points=\"\n",
       "  185.927,427.411 2352.76,427.411 \n",
       "  \"/>\n",
       "<polyline clip-path=\"url(#clip322)\" style=\"stroke:#000000; stroke-linecap:butt; stroke-linejoin:round; stroke-width:2; stroke-opacity:0.1; fill:none\" points=\"\n",
       "  185.927,87.9763 2352.76,87.9763 \n",
       "  \"/>\n",
       "<polyline clip-path=\"url(#clip320)\" style=\"stroke:#000000; stroke-linecap:butt; stroke-linejoin:round; stroke-width:4; stroke-opacity:1; fill:none\" points=\"\n",
       "  185.927,1486.45 185.927,47.2441 \n",
       "  \"/>\n",
       "<polyline clip-path=\"url(#clip320)\" style=\"stroke:#000000; stroke-linecap:butt; stroke-linejoin:round; stroke-width:4; stroke-opacity:1; fill:none\" points=\"\n",
       "  185.927,1445.72 204.824,1445.72 \n",
       "  \"/>\n",
       "<polyline clip-path=\"url(#clip320)\" style=\"stroke:#000000; stroke-linecap:butt; stroke-linejoin:round; stroke-width:4; stroke-opacity:1; fill:none\" points=\"\n",
       "  185.927,1106.28 204.824,1106.28 \n",
       "  \"/>\n",
       "<polyline clip-path=\"url(#clip320)\" style=\"stroke:#000000; stroke-linecap:butt; stroke-linejoin:round; stroke-width:4; stroke-opacity:1; fill:none\" points=\"\n",
       "  185.927,766.846 204.824,766.846 \n",
       "  \"/>\n",
       "<polyline clip-path=\"url(#clip320)\" style=\"stroke:#000000; stroke-linecap:butt; stroke-linejoin:round; stroke-width:4; stroke-opacity:1; fill:none\" points=\"\n",
       "  185.927,427.411 204.824,427.411 \n",
       "  \"/>\n",
       "<polyline clip-path=\"url(#clip320)\" style=\"stroke:#000000; stroke-linecap:butt; stroke-linejoin:round; stroke-width:4; stroke-opacity:1; fill:none\" points=\"\n",
       "  185.927,87.9763 204.824,87.9763 \n",
       "  \"/>\n",
       "<path clip-path=\"url(#clip320)\" d=\"M53.3995 1459.06 L61.0384 1459.06 L61.0384 1432.69 L52.7282 1434.36 L52.7282 1430.1 L60.9921 1428.44 L65.668 1428.44 L65.668 1459.06 L73.3068 1459.06 L73.3068 1463 L53.3995 1463 L53.3995 1459.06 Z\" fill=\"#000000\" fill-rule=\"evenodd\" fill-opacity=\"1\" /><path clip-path=\"url(#clip320)\" d=\"M82.7512 1457.12 L87.6354 1457.12 L87.6354 1463 L82.7512 1463 L82.7512 1457.12 Z\" fill=\"#000000\" fill-rule=\"evenodd\" fill-opacity=\"1\" /><path clip-path=\"url(#clip320)\" d=\"M107.821 1431.51 Q104.209 1431.51 102.381 1435.08 Q100.575 1438.62 100.575 1445.75 Q100.575 1452.86 102.381 1456.42 Q104.209 1459.96 107.821 1459.96 Q111.455 1459.96 113.26 1456.42 Q115.089 1452.86 115.089 1445.75 Q115.089 1438.62 113.26 1435.08 Q111.455 1431.51 107.821 1431.51 M107.821 1427.81 Q113.631 1427.81 116.686 1432.42 Q119.765 1437 119.765 1445.75 Q119.765 1454.48 116.686 1459.08 Q113.631 1463.67 107.821 1463.67 Q102.01 1463.67 98.9317 1459.08 Q95.8761 1454.48 95.8761 1445.75 Q95.8761 1437 98.9317 1432.42 Q102.01 1427.81 107.821 1427.81 Z\" fill=\"#000000\" fill-rule=\"evenodd\" fill-opacity=\"1\" /><path clip-path=\"url(#clip320)\" d=\"M137.982 1431.51 Q134.371 1431.51 132.543 1435.08 Q130.737 1438.62 130.737 1445.75 Q130.737 1452.86 132.543 1456.42 Q134.371 1459.96 137.982 1459.96 Q141.617 1459.96 143.422 1456.42 Q145.251 1452.86 145.251 1445.75 Q145.251 1438.62 143.422 1435.08 Q141.617 1431.51 137.982 1431.51 M137.982 1427.81 Q143.793 1427.81 146.848 1432.42 Q149.927 1437 149.927 1445.75 Q149.927 1454.48 146.848 1459.08 Q143.793 1463.67 137.982 1463.67 Q132.172 1463.67 129.094 1459.08 Q126.038 1454.48 126.038 1445.75 Q126.038 1437 129.094 1432.42 Q132.172 1427.81 137.982 1427.81 Z\" fill=\"#000000\" fill-rule=\"evenodd\" fill-opacity=\"1\" /><path clip-path=\"url(#clip320)\" d=\"M54.3949 1119.63 L62.0337 1119.63 L62.0337 1093.26 L53.7236 1094.93 L53.7236 1090.67 L61.9874 1089 L66.6633 1089 L66.6633 1119.63 L74.3022 1119.63 L74.3022 1123.56 L54.3949 1123.56 L54.3949 1119.63 Z\" fill=\"#000000\" fill-rule=\"evenodd\" fill-opacity=\"1\" /><path clip-path=\"url(#clip320)\" d=\"M83.7466 1117.68 L88.6308 1117.68 L88.6308 1123.56 L83.7466 1123.56 L83.7466 1117.68 Z\" fill=\"#000000\" fill-rule=\"evenodd\" fill-opacity=\"1\" /><path clip-path=\"url(#clip320)\" d=\"M102.844 1119.63 L119.163 1119.63 L119.163 1123.56 L97.2187 1123.56 L97.2187 1119.63 Q99.8808 1116.87 104.464 1112.24 Q109.071 1107.59 110.251 1106.25 Q112.496 1103.72 113.376 1101.99 Q114.279 1100.23 114.279 1098.54 Q114.279 1095.78 112.334 1094.05 Q110.413 1092.31 107.311 1092.31 Q105.112 1092.31 102.659 1093.07 Q100.228 1093.84 97.4502 1095.39 L97.4502 1090.67 Q100.274 1089.53 102.728 1088.95 Q105.182 1088.38 107.219 1088.38 Q112.589 1088.38 115.783 1091.06 Q118.978 1093.75 118.978 1098.24 Q118.978 1100.37 118.168 1102.29 Q117.381 1104.19 115.274 1106.78 Q114.695 1107.45 111.594 1110.67 Q108.492 1113.86 102.844 1119.63 Z\" fill=\"#000000\" fill-rule=\"evenodd\" fill-opacity=\"1\" /><path clip-path=\"url(#clip320)\" d=\"M129.024 1089 L147.38 1089 L147.38 1092.94 L133.306 1092.94 L133.306 1101.41 Q134.325 1101.06 135.344 1100.9 Q136.362 1100.71 137.381 1100.71 Q143.168 1100.71 146.547 1103.89 Q149.927 1107.06 149.927 1112.47 Q149.927 1118.05 146.455 1121.15 Q142.982 1124.23 136.663 1124.23 Q134.487 1124.23 132.219 1123.86 Q129.973 1123.49 127.566 1122.75 L127.566 1118.05 Q129.649 1119.19 131.871 1119.74 Q134.094 1120.3 136.57 1120.3 Q140.575 1120.3 142.913 1118.19 Q145.251 1116.08 145.251 1112.47 Q145.251 1108.86 142.913 1106.76 Q140.575 1104.65 136.57 1104.65 Q134.695 1104.65 132.82 1105.07 Q130.969 1105.48 129.024 1106.36 L129.024 1089 Z\" fill=\"#000000\" fill-rule=\"evenodd\" fill-opacity=\"1\" /><path clip-path=\"url(#clip320)\" d=\"M53.3995 780.191 L61.0384 780.191 L61.0384 753.825 L52.7282 755.492 L52.7282 751.233 L60.9921 749.566 L65.668 749.566 L65.668 780.191 L73.3068 780.191 L73.3068 784.126 L53.3995 784.126 L53.3995 780.191 Z\" fill=\"#000000\" fill-rule=\"evenodd\" fill-opacity=\"1\" /><path clip-path=\"url(#clip320)\" d=\"M82.7512 778.246 L87.6354 778.246 L87.6354 784.126 L82.7512 784.126 L82.7512 778.246 Z\" fill=\"#000000\" fill-rule=\"evenodd\" fill-opacity=\"1\" /><path clip-path=\"url(#clip320)\" d=\"M97.8669 749.566 L116.223 749.566 L116.223 753.501 L102.149 753.501 L102.149 761.973 Q103.168 761.626 104.186 761.464 Q105.205 761.279 106.223 761.279 Q112.01 761.279 115.39 764.45 Q118.77 767.621 118.77 773.038 Q118.77 778.617 115.297 781.719 Q111.825 784.797 105.506 784.797 Q103.33 784.797 101.061 784.427 Q98.8159 784.057 96.4085 783.316 L96.4085 778.617 Q98.4919 779.751 100.714 780.307 Q102.936 780.862 105.413 780.862 Q109.418 780.862 111.756 778.756 Q114.094 776.649 114.094 773.038 Q114.094 769.427 111.756 767.321 Q109.418 765.214 105.413 765.214 Q103.538 765.214 101.663 765.631 Q99.8113 766.047 97.8669 766.927 L97.8669 749.566 Z\" fill=\"#000000\" fill-rule=\"evenodd\" fill-opacity=\"1\" /><path clip-path=\"url(#clip320)\" d=\"M137.982 752.645 Q134.371 752.645 132.543 756.209 Q130.737 759.751 130.737 766.881 Q130.737 773.987 132.543 777.552 Q134.371 781.094 137.982 781.094 Q141.617 781.094 143.422 777.552 Q145.251 773.987 145.251 766.881 Q145.251 759.751 143.422 756.209 Q141.617 752.645 137.982 752.645 M137.982 748.941 Q143.793 748.941 146.848 753.547 Q149.927 758.131 149.927 766.881 Q149.927 775.608 146.848 780.214 Q143.793 784.797 137.982 784.797 Q132.172 784.797 129.094 780.214 Q126.038 775.608 126.038 766.881 Q126.038 758.131 129.094 753.547 Q132.172 748.941 137.982 748.941 Z\" fill=\"#000000\" fill-rule=\"evenodd\" fill-opacity=\"1\" /><path clip-path=\"url(#clip320)\" d=\"M54.3949 440.756 L62.0337 440.756 L62.0337 414.39 L53.7236 416.057 L53.7236 411.798 L61.9874 410.131 L66.6633 410.131 L66.6633 440.756 L74.3022 440.756 L74.3022 444.691 L54.3949 444.691 L54.3949 440.756 Z\" fill=\"#000000\" fill-rule=\"evenodd\" fill-opacity=\"1\" /><path clip-path=\"url(#clip320)\" d=\"M83.7466 438.812 L88.6308 438.812 L88.6308 444.691 L83.7466 444.691 L83.7466 438.812 Z\" fill=\"#000000\" fill-rule=\"evenodd\" fill-opacity=\"1\" /><path clip-path=\"url(#clip320)\" d=\"M97.6354 410.131 L119.857 410.131 L119.857 412.122 L107.311 444.691 L102.427 444.691 L114.233 414.066 L97.6354 414.066 L97.6354 410.131 Z\" fill=\"#000000\" fill-rule=\"evenodd\" fill-opacity=\"1\" /><path clip-path=\"url(#clip320)\" d=\"M129.024 410.131 L147.38 410.131 L147.38 414.066 L133.306 414.066 L133.306 422.538 Q134.325 422.191 135.344 422.029 Q136.362 421.844 137.381 421.844 Q143.168 421.844 146.547 425.015 Q149.927 428.187 149.927 433.603 Q149.927 439.182 146.455 442.284 Q142.982 445.362 136.663 445.362 Q134.487 445.362 132.219 444.992 Q129.973 444.622 127.566 443.881 L127.566 439.182 Q129.649 440.316 131.871 440.872 Q134.094 441.427 136.57 441.427 Q140.575 441.427 142.913 439.321 Q145.251 437.214 145.251 433.603 Q145.251 429.992 142.913 427.886 Q140.575 425.779 136.57 425.779 Q134.695 425.779 132.82 426.196 Q130.969 426.613 129.024 427.492 L129.024 410.131 Z\" fill=\"#000000\" fill-rule=\"evenodd\" fill-opacity=\"1\" /><path clip-path=\"url(#clip320)\" d=\"M56.6171 101.321 L72.9365 101.321 L72.9365 105.256 L50.9921 105.256 L50.9921 101.321 Q53.6541 98.5665 58.2375 93.9369 Q62.8439 89.2841 64.0245 87.9416 Q66.2698 85.4184 67.1494 83.6823 Q68.0522 81.9231 68.0522 80.2333 Q68.0522 77.4786 66.1078 75.7425 Q64.1865 74.0064 61.0847 74.0064 Q58.8856 74.0064 56.4319 74.7703 Q54.0014 75.5342 51.2236 77.0851 L51.2236 72.3629 Q54.0477 71.2287 56.5014 70.65 Q58.955 70.0713 60.9921 70.0713 Q66.3624 70.0713 69.5568 72.7565 Q72.7513 75.4416 72.7513 79.9323 Q72.7513 82.062 71.9411 83.9832 Q71.1541 85.8814 69.0476 88.474 Q68.4689 89.1453 65.367 92.3628 Q62.2652 95.5573 56.6171 101.321 Z\" fill=\"#000000\" fill-rule=\"evenodd\" fill-opacity=\"1\" /><path clip-path=\"url(#clip320)\" d=\"M82.7512 99.3767 L87.6354 99.3767 L87.6354 105.256 L82.7512 105.256 L82.7512 99.3767 Z\" fill=\"#000000\" fill-rule=\"evenodd\" fill-opacity=\"1\" /><path clip-path=\"url(#clip320)\" d=\"M107.821 73.775 Q104.209 73.775 102.381 77.3398 Q100.575 80.8814 100.575 88.011 Q100.575 95.1174 102.381 98.6822 Q104.209 102.224 107.821 102.224 Q111.455 102.224 113.26 98.6822 Q115.089 95.1174 115.089 88.011 Q115.089 80.8814 113.26 77.3398 Q111.455 73.775 107.821 73.775 M107.821 70.0713 Q113.631 70.0713 116.686 74.6777 Q119.765 79.261 119.765 88.011 Q119.765 96.7378 116.686 101.344 Q113.631 105.928 107.821 105.928 Q102.01 105.928 98.9317 101.344 Q95.8761 96.7378 95.8761 88.011 Q95.8761 79.261 98.9317 74.6777 Q102.01 70.0713 107.821 70.0713 Z\" fill=\"#000000\" fill-rule=\"evenodd\" fill-opacity=\"1\" /><path clip-path=\"url(#clip320)\" d=\"M137.982 73.775 Q134.371 73.775 132.543 77.3398 Q130.737 80.8814 130.737 88.011 Q130.737 95.1174 132.543 98.6822 Q134.371 102.224 137.982 102.224 Q141.617 102.224 143.422 98.6822 Q145.251 95.1174 145.251 88.011 Q145.251 80.8814 143.422 77.3398 Q141.617 73.775 137.982 73.775 M137.982 70.0713 Q143.793 70.0713 146.848 74.6777 Q149.927 79.261 149.927 88.011 Q149.927 96.7378 146.848 101.344 Q143.793 105.928 137.982 105.928 Q132.172 105.928 129.094 101.344 Q126.038 96.7378 126.038 88.011 Q126.038 79.261 129.094 74.6777 Q132.172 70.0713 137.982 70.0713 Z\" fill=\"#000000\" fill-rule=\"evenodd\" fill-opacity=\"1\" /><circle clip-path=\"url(#clip322)\" cx=\"247.252\" cy=\"1445.72\" r=\"28\" fill=\"#009af9\" fill-rule=\"evenodd\" fill-opacity=\"1\" stroke=\"#000000\" stroke-opacity=\"1\" stroke-width=\"3.2\"/>\n",
       "<circle clip-path=\"url(#clip322)\" cx=\"281.899\" cy=\"1445.72\" r=\"28\" fill=\"#009af9\" fill-rule=\"evenodd\" fill-opacity=\"1\" stroke=\"#000000\" stroke-opacity=\"1\" stroke-width=\"3.2\"/>\n",
       "<circle clip-path=\"url(#clip322)\" cx=\"316.546\" cy=\"1445.72\" r=\"28\" fill=\"#009af9\" fill-rule=\"evenodd\" fill-opacity=\"1\" stroke=\"#000000\" stroke-opacity=\"1\" stroke-width=\"3.2\"/>\n",
       "<circle clip-path=\"url(#clip322)\" cx=\"351.193\" cy=\"1445.72\" r=\"28\" fill=\"#009af9\" fill-rule=\"evenodd\" fill-opacity=\"1\" stroke=\"#000000\" stroke-opacity=\"1\" stroke-width=\"3.2\"/>\n",
       "<circle clip-path=\"url(#clip322)\" cx=\"385.841\" cy=\"1445.72\" r=\"28\" fill=\"#009af9\" fill-rule=\"evenodd\" fill-opacity=\"1\" stroke=\"#000000\" stroke-opacity=\"1\" stroke-width=\"3.2\"/>\n",
       "<circle clip-path=\"url(#clip322)\" cx=\"420.488\" cy=\"1445.72\" r=\"28\" fill=\"#009af9\" fill-rule=\"evenodd\" fill-opacity=\"1\" stroke=\"#000000\" stroke-opacity=\"1\" stroke-width=\"3.2\"/>\n",
       "<circle clip-path=\"url(#clip322)\" cx=\"455.135\" cy=\"1445.72\" r=\"28\" fill=\"#009af9\" fill-rule=\"evenodd\" fill-opacity=\"1\" stroke=\"#000000\" stroke-opacity=\"1\" stroke-width=\"3.2\"/>\n",
       "<circle clip-path=\"url(#clip322)\" cx=\"489.782\" cy=\"1445.72\" r=\"28\" fill=\"#009af9\" fill-rule=\"evenodd\" fill-opacity=\"1\" stroke=\"#000000\" stroke-opacity=\"1\" stroke-width=\"3.2\"/>\n",
       "<circle clip-path=\"url(#clip322)\" cx=\"524.429\" cy=\"1445.72\" r=\"28\" fill=\"#009af9\" fill-rule=\"evenodd\" fill-opacity=\"1\" stroke=\"#000000\" stroke-opacity=\"1\" stroke-width=\"3.2\"/>\n",
       "<circle clip-path=\"url(#clip322)\" cx=\"559.076\" cy=\"1445.72\" r=\"28\" fill=\"#009af9\" fill-rule=\"evenodd\" fill-opacity=\"1\" stroke=\"#000000\" stroke-opacity=\"1\" stroke-width=\"3.2\"/>\n",
       "<circle clip-path=\"url(#clip322)\" cx=\"593.723\" cy=\"1445.72\" r=\"28\" fill=\"#009af9\" fill-rule=\"evenodd\" fill-opacity=\"1\" stroke=\"#000000\" stroke-opacity=\"1\" stroke-width=\"3.2\"/>\n",
       "<circle clip-path=\"url(#clip322)\" cx=\"628.37\" cy=\"1445.72\" r=\"28\" fill=\"#009af9\" fill-rule=\"evenodd\" fill-opacity=\"1\" stroke=\"#000000\" stroke-opacity=\"1\" stroke-width=\"3.2\"/>\n",
       "<circle clip-path=\"url(#clip322)\" cx=\"663.017\" cy=\"1445.72\" r=\"28\" fill=\"#009af9\" fill-rule=\"evenodd\" fill-opacity=\"1\" stroke=\"#000000\" stroke-opacity=\"1\" stroke-width=\"3.2\"/>\n",
       "<circle clip-path=\"url(#clip322)\" cx=\"697.664\" cy=\"1445.72\" r=\"28\" fill=\"#009af9\" fill-rule=\"evenodd\" fill-opacity=\"1\" stroke=\"#000000\" stroke-opacity=\"1\" stroke-width=\"3.2\"/>\n",
       "<circle clip-path=\"url(#clip322)\" cx=\"732.311\" cy=\"1445.72\" r=\"28\" fill=\"#009af9\" fill-rule=\"evenodd\" fill-opacity=\"1\" stroke=\"#000000\" stroke-opacity=\"1\" stroke-width=\"3.2\"/>\n",
       "<circle clip-path=\"url(#clip322)\" cx=\"766.959\" cy=\"1445.72\" r=\"28\" fill=\"#009af9\" fill-rule=\"evenodd\" fill-opacity=\"1\" stroke=\"#000000\" stroke-opacity=\"1\" stroke-width=\"3.2\"/>\n",
       "<circle clip-path=\"url(#clip322)\" cx=\"801.606\" cy=\"1445.72\" r=\"28\" fill=\"#009af9\" fill-rule=\"evenodd\" fill-opacity=\"1\" stroke=\"#000000\" stroke-opacity=\"1\" stroke-width=\"3.2\"/>\n",
       "<circle clip-path=\"url(#clip322)\" cx=\"836.253\" cy=\"1445.72\" r=\"28\" fill=\"#009af9\" fill-rule=\"evenodd\" fill-opacity=\"1\" stroke=\"#000000\" stroke-opacity=\"1\" stroke-width=\"3.2\"/>\n",
       "<circle clip-path=\"url(#clip322)\" cx=\"870.9\" cy=\"1445.72\" r=\"28\" fill=\"#009af9\" fill-rule=\"evenodd\" fill-opacity=\"1\" stroke=\"#000000\" stroke-opacity=\"1\" stroke-width=\"3.2\"/>\n",
       "<circle clip-path=\"url(#clip322)\" cx=\"905.547\" cy=\"1445.72\" r=\"28\" fill=\"#009af9\" fill-rule=\"evenodd\" fill-opacity=\"1\" stroke=\"#000000\" stroke-opacity=\"1\" stroke-width=\"3.2\"/>\n",
       "<circle clip-path=\"url(#clip322)\" cx=\"940.194\" cy=\"1445.72\" r=\"28\" fill=\"#009af9\" fill-rule=\"evenodd\" fill-opacity=\"1\" stroke=\"#000000\" stroke-opacity=\"1\" stroke-width=\"3.2\"/>\n",
       "<circle clip-path=\"url(#clip322)\" cx=\"974.841\" cy=\"1445.72\" r=\"28\" fill=\"#009af9\" fill-rule=\"evenodd\" fill-opacity=\"1\" stroke=\"#000000\" stroke-opacity=\"1\" stroke-width=\"3.2\"/>\n",
       "<circle clip-path=\"url(#clip322)\" cx=\"1009.49\" cy=\"1445.72\" r=\"28\" fill=\"#009af9\" fill-rule=\"evenodd\" fill-opacity=\"1\" stroke=\"#000000\" stroke-opacity=\"1\" stroke-width=\"3.2\"/>\n",
       "<circle clip-path=\"url(#clip322)\" cx=\"1044.14\" cy=\"1445.72\" r=\"28\" fill=\"#009af9\" fill-rule=\"evenodd\" fill-opacity=\"1\" stroke=\"#000000\" stroke-opacity=\"1\" stroke-width=\"3.2\"/>\n",
       "<circle clip-path=\"url(#clip322)\" cx=\"1078.78\" cy=\"1445.72\" r=\"28\" fill=\"#009af9\" fill-rule=\"evenodd\" fill-opacity=\"1\" stroke=\"#000000\" stroke-opacity=\"1\" stroke-width=\"3.2\"/>\n",
       "<circle clip-path=\"url(#clip322)\" cx=\"1113.43\" cy=\"1445.72\" r=\"28\" fill=\"#009af9\" fill-rule=\"evenodd\" fill-opacity=\"1\" stroke=\"#000000\" stroke-opacity=\"1\" stroke-width=\"3.2\"/>\n",
       "<circle clip-path=\"url(#clip322)\" cx=\"1148.08\" cy=\"1445.72\" r=\"28\" fill=\"#009af9\" fill-rule=\"evenodd\" fill-opacity=\"1\" stroke=\"#000000\" stroke-opacity=\"1\" stroke-width=\"3.2\"/>\n",
       "<circle clip-path=\"url(#clip322)\" cx=\"1182.72\" cy=\"1445.72\" r=\"28\" fill=\"#009af9\" fill-rule=\"evenodd\" fill-opacity=\"1\" stroke=\"#000000\" stroke-opacity=\"1\" stroke-width=\"3.2\"/>\n",
       "<circle clip-path=\"url(#clip322)\" cx=\"1217.37\" cy=\"1445.72\" r=\"28\" fill=\"#009af9\" fill-rule=\"evenodd\" fill-opacity=\"1\" stroke=\"#000000\" stroke-opacity=\"1\" stroke-width=\"3.2\"/>\n",
       "<circle clip-path=\"url(#clip322)\" cx=\"1252.02\" cy=\"1445.72\" r=\"28\" fill=\"#009af9\" fill-rule=\"evenodd\" fill-opacity=\"1\" stroke=\"#000000\" stroke-opacity=\"1\" stroke-width=\"3.2\"/>\n",
       "<circle clip-path=\"url(#clip322)\" cx=\"1286.66\" cy=\"87.9763\" r=\"28\" fill=\"#009af9\" fill-rule=\"evenodd\" fill-opacity=\"1\" stroke=\"#000000\" stroke-opacity=\"1\" stroke-width=\"3.2\"/>\n",
       "<circle clip-path=\"url(#clip322)\" cx=\"1321.31\" cy=\"87.9763\" r=\"28\" fill=\"#009af9\" fill-rule=\"evenodd\" fill-opacity=\"1\" stroke=\"#000000\" stroke-opacity=\"1\" stroke-width=\"3.2\"/>\n",
       "<circle clip-path=\"url(#clip322)\" cx=\"1355.96\" cy=\"87.9763\" r=\"28\" fill=\"#009af9\" fill-rule=\"evenodd\" fill-opacity=\"1\" stroke=\"#000000\" stroke-opacity=\"1\" stroke-width=\"3.2\"/>\n",
       "<circle clip-path=\"url(#clip322)\" cx=\"1390.61\" cy=\"87.9763\" r=\"28\" fill=\"#009af9\" fill-rule=\"evenodd\" fill-opacity=\"1\" stroke=\"#000000\" stroke-opacity=\"1\" stroke-width=\"3.2\"/>\n",
       "<circle clip-path=\"url(#clip322)\" cx=\"1425.25\" cy=\"87.9763\" r=\"28\" fill=\"#009af9\" fill-rule=\"evenodd\" fill-opacity=\"1\" stroke=\"#000000\" stroke-opacity=\"1\" stroke-width=\"3.2\"/>\n",
       "<circle clip-path=\"url(#clip322)\" cx=\"1459.9\" cy=\"87.9763\" r=\"28\" fill=\"#009af9\" fill-rule=\"evenodd\" fill-opacity=\"1\" stroke=\"#000000\" stroke-opacity=\"1\" stroke-width=\"3.2\"/>\n",
       "<circle clip-path=\"url(#clip322)\" cx=\"1494.55\" cy=\"87.9763\" r=\"28\" fill=\"#009af9\" fill-rule=\"evenodd\" fill-opacity=\"1\" stroke=\"#000000\" stroke-opacity=\"1\" stroke-width=\"3.2\"/>\n",
       "<circle clip-path=\"url(#clip322)\" cx=\"1529.19\" cy=\"87.9763\" r=\"28\" fill=\"#009af9\" fill-rule=\"evenodd\" fill-opacity=\"1\" stroke=\"#000000\" stroke-opacity=\"1\" stroke-width=\"3.2\"/>\n",
       "<circle clip-path=\"url(#clip322)\" cx=\"1563.84\" cy=\"87.9763\" r=\"28\" fill=\"#009af9\" fill-rule=\"evenodd\" fill-opacity=\"1\" stroke=\"#000000\" stroke-opacity=\"1\" stroke-width=\"3.2\"/>\n",
       "<circle clip-path=\"url(#clip322)\" cx=\"1598.49\" cy=\"87.9763\" r=\"28\" fill=\"#009af9\" fill-rule=\"evenodd\" fill-opacity=\"1\" stroke=\"#000000\" stroke-opacity=\"1\" stroke-width=\"3.2\"/>\n",
       "<circle clip-path=\"url(#clip322)\" cx=\"1633.14\" cy=\"87.9763\" r=\"28\" fill=\"#009af9\" fill-rule=\"evenodd\" fill-opacity=\"1\" stroke=\"#000000\" stroke-opacity=\"1\" stroke-width=\"3.2\"/>\n",
       "<circle clip-path=\"url(#clip322)\" cx=\"1667.78\" cy=\"87.9763\" r=\"28\" fill=\"#009af9\" fill-rule=\"evenodd\" fill-opacity=\"1\" stroke=\"#000000\" stroke-opacity=\"1\" stroke-width=\"3.2\"/>\n",
       "<circle clip-path=\"url(#clip322)\" cx=\"1702.43\" cy=\"87.9763\" r=\"28\" fill=\"#009af9\" fill-rule=\"evenodd\" fill-opacity=\"1\" stroke=\"#000000\" stroke-opacity=\"1\" stroke-width=\"3.2\"/>\n",
       "<circle clip-path=\"url(#clip322)\" cx=\"1737.08\" cy=\"87.9763\" r=\"28\" fill=\"#009af9\" fill-rule=\"evenodd\" fill-opacity=\"1\" stroke=\"#000000\" stroke-opacity=\"1\" stroke-width=\"3.2\"/>\n",
       "<circle clip-path=\"url(#clip322)\" cx=\"1771.72\" cy=\"87.9763\" r=\"28\" fill=\"#009af9\" fill-rule=\"evenodd\" fill-opacity=\"1\" stroke=\"#000000\" stroke-opacity=\"1\" stroke-width=\"3.2\"/>\n",
       "<circle clip-path=\"url(#clip322)\" cx=\"1806.37\" cy=\"87.9763\" r=\"28\" fill=\"#009af9\" fill-rule=\"evenodd\" fill-opacity=\"1\" stroke=\"#000000\" stroke-opacity=\"1\" stroke-width=\"3.2\"/>\n",
       "<circle clip-path=\"url(#clip322)\" cx=\"1841.02\" cy=\"87.9763\" r=\"28\" fill=\"#009af9\" fill-rule=\"evenodd\" fill-opacity=\"1\" stroke=\"#000000\" stroke-opacity=\"1\" stroke-width=\"3.2\"/>\n",
       "<circle clip-path=\"url(#clip322)\" cx=\"1875.67\" cy=\"87.9763\" r=\"28\" fill=\"#009af9\" fill-rule=\"evenodd\" fill-opacity=\"1\" stroke=\"#000000\" stroke-opacity=\"1\" stroke-width=\"3.2\"/>\n",
       "<circle clip-path=\"url(#clip322)\" cx=\"1910.31\" cy=\"87.9763\" r=\"28\" fill=\"#009af9\" fill-rule=\"evenodd\" fill-opacity=\"1\" stroke=\"#000000\" stroke-opacity=\"1\" stroke-width=\"3.2\"/>\n",
       "<circle clip-path=\"url(#clip322)\" cx=\"1944.96\" cy=\"87.9763\" r=\"28\" fill=\"#009af9\" fill-rule=\"evenodd\" fill-opacity=\"1\" stroke=\"#000000\" stroke-opacity=\"1\" stroke-width=\"3.2\"/>\n",
       "<circle clip-path=\"url(#clip322)\" cx=\"1979.61\" cy=\"87.9763\" r=\"28\" fill=\"#009af9\" fill-rule=\"evenodd\" fill-opacity=\"1\" stroke=\"#000000\" stroke-opacity=\"1\" stroke-width=\"3.2\"/>\n",
       "<circle clip-path=\"url(#clip322)\" cx=\"2014.25\" cy=\"87.9763\" r=\"28\" fill=\"#009af9\" fill-rule=\"evenodd\" fill-opacity=\"1\" stroke=\"#000000\" stroke-opacity=\"1\" stroke-width=\"3.2\"/>\n",
       "<circle clip-path=\"url(#clip322)\" cx=\"2048.9\" cy=\"87.9763\" r=\"28\" fill=\"#009af9\" fill-rule=\"evenodd\" fill-opacity=\"1\" stroke=\"#000000\" stroke-opacity=\"1\" stroke-width=\"3.2\"/>\n",
       "<circle clip-path=\"url(#clip322)\" cx=\"2083.55\" cy=\"87.9763\" r=\"28\" fill=\"#009af9\" fill-rule=\"evenodd\" fill-opacity=\"1\" stroke=\"#000000\" stroke-opacity=\"1\" stroke-width=\"3.2\"/>\n",
       "<circle clip-path=\"url(#clip322)\" cx=\"2118.2\" cy=\"87.9763\" r=\"28\" fill=\"#009af9\" fill-rule=\"evenodd\" fill-opacity=\"1\" stroke=\"#000000\" stroke-opacity=\"1\" stroke-width=\"3.2\"/>\n",
       "<circle clip-path=\"url(#clip322)\" cx=\"2152.84\" cy=\"87.9763\" r=\"28\" fill=\"#009af9\" fill-rule=\"evenodd\" fill-opacity=\"1\" stroke=\"#000000\" stroke-opacity=\"1\" stroke-width=\"3.2\"/>\n",
       "<circle clip-path=\"url(#clip322)\" cx=\"2187.49\" cy=\"87.9763\" r=\"28\" fill=\"#009af9\" fill-rule=\"evenodd\" fill-opacity=\"1\" stroke=\"#000000\" stroke-opacity=\"1\" stroke-width=\"3.2\"/>\n",
       "<circle clip-path=\"url(#clip322)\" cx=\"2222.14\" cy=\"87.9763\" r=\"28\" fill=\"#009af9\" fill-rule=\"evenodd\" fill-opacity=\"1\" stroke=\"#000000\" stroke-opacity=\"1\" stroke-width=\"3.2\"/>\n",
       "<circle clip-path=\"url(#clip322)\" cx=\"2256.78\" cy=\"87.9763\" r=\"28\" fill=\"#009af9\" fill-rule=\"evenodd\" fill-opacity=\"1\" stroke=\"#000000\" stroke-opacity=\"1\" stroke-width=\"3.2\"/>\n",
       "<circle clip-path=\"url(#clip322)\" cx=\"2291.43\" cy=\"87.9763\" r=\"28\" fill=\"#009af9\" fill-rule=\"evenodd\" fill-opacity=\"1\" stroke=\"#000000\" stroke-opacity=\"1\" stroke-width=\"3.2\"/>\n",
       "<circle clip-path=\"url(#clip322)\" cx=\"247.252\" cy=\"1445.72\" r=\"14\" fill=\"#e26f46\" fill-rule=\"evenodd\" fill-opacity=\"1\" stroke=\"#000000\" stroke-opacity=\"1\" stroke-width=\"3.2\"/>\n",
       "<circle clip-path=\"url(#clip322)\" cx=\"281.899\" cy=\"1445.72\" r=\"14\" fill=\"#e26f46\" fill-rule=\"evenodd\" fill-opacity=\"1\" stroke=\"#000000\" stroke-opacity=\"1\" stroke-width=\"3.2\"/>\n",
       "<circle clip-path=\"url(#clip322)\" cx=\"316.546\" cy=\"1445.72\" r=\"14\" fill=\"#e26f46\" fill-rule=\"evenodd\" fill-opacity=\"1\" stroke=\"#000000\" stroke-opacity=\"1\" stroke-width=\"3.2\"/>\n",
       "<circle clip-path=\"url(#clip322)\" cx=\"351.193\" cy=\"1445.72\" r=\"14\" fill=\"#e26f46\" fill-rule=\"evenodd\" fill-opacity=\"1\" stroke=\"#000000\" stroke-opacity=\"1\" stroke-width=\"3.2\"/>\n",
       "<circle clip-path=\"url(#clip322)\" cx=\"385.841\" cy=\"1445.72\" r=\"14\" fill=\"#e26f46\" fill-rule=\"evenodd\" fill-opacity=\"1\" stroke=\"#000000\" stroke-opacity=\"1\" stroke-width=\"3.2\"/>\n",
       "<circle clip-path=\"url(#clip322)\" cx=\"420.488\" cy=\"1445.72\" r=\"14\" fill=\"#e26f46\" fill-rule=\"evenodd\" fill-opacity=\"1\" stroke=\"#000000\" stroke-opacity=\"1\" stroke-width=\"3.2\"/>\n",
       "<circle clip-path=\"url(#clip322)\" cx=\"455.135\" cy=\"1445.72\" r=\"14\" fill=\"#e26f46\" fill-rule=\"evenodd\" fill-opacity=\"1\" stroke=\"#000000\" stroke-opacity=\"1\" stroke-width=\"3.2\"/>\n",
       "<circle clip-path=\"url(#clip322)\" cx=\"489.782\" cy=\"1445.72\" r=\"14\" fill=\"#e26f46\" fill-rule=\"evenodd\" fill-opacity=\"1\" stroke=\"#000000\" stroke-opacity=\"1\" stroke-width=\"3.2\"/>\n",
       "<circle clip-path=\"url(#clip322)\" cx=\"524.429\" cy=\"1445.72\" r=\"14\" fill=\"#e26f46\" fill-rule=\"evenodd\" fill-opacity=\"1\" stroke=\"#000000\" stroke-opacity=\"1\" stroke-width=\"3.2\"/>\n",
       "<circle clip-path=\"url(#clip322)\" cx=\"559.076\" cy=\"1445.72\" r=\"14\" fill=\"#e26f46\" fill-rule=\"evenodd\" fill-opacity=\"1\" stroke=\"#000000\" stroke-opacity=\"1\" stroke-width=\"3.2\"/>\n",
       "<circle clip-path=\"url(#clip322)\" cx=\"593.723\" cy=\"1445.72\" r=\"14\" fill=\"#e26f46\" fill-rule=\"evenodd\" fill-opacity=\"1\" stroke=\"#000000\" stroke-opacity=\"1\" stroke-width=\"3.2\"/>\n",
       "<circle clip-path=\"url(#clip322)\" cx=\"628.37\" cy=\"1445.72\" r=\"14\" fill=\"#e26f46\" fill-rule=\"evenodd\" fill-opacity=\"1\" stroke=\"#000000\" stroke-opacity=\"1\" stroke-width=\"3.2\"/>\n",
       "<circle clip-path=\"url(#clip322)\" cx=\"663.017\" cy=\"1445.72\" r=\"14\" fill=\"#e26f46\" fill-rule=\"evenodd\" fill-opacity=\"1\" stroke=\"#000000\" stroke-opacity=\"1\" stroke-width=\"3.2\"/>\n",
       "<circle clip-path=\"url(#clip322)\" cx=\"697.664\" cy=\"1445.72\" r=\"14\" fill=\"#e26f46\" fill-rule=\"evenodd\" fill-opacity=\"1\" stroke=\"#000000\" stroke-opacity=\"1\" stroke-width=\"3.2\"/>\n",
       "<circle clip-path=\"url(#clip322)\" cx=\"732.311\" cy=\"1445.72\" r=\"14\" fill=\"#e26f46\" fill-rule=\"evenodd\" fill-opacity=\"1\" stroke=\"#000000\" stroke-opacity=\"1\" stroke-width=\"3.2\"/>\n",
       "<circle clip-path=\"url(#clip322)\" cx=\"766.959\" cy=\"1445.72\" r=\"14\" fill=\"#e26f46\" fill-rule=\"evenodd\" fill-opacity=\"1\" stroke=\"#000000\" stroke-opacity=\"1\" stroke-width=\"3.2\"/>\n",
       "<circle clip-path=\"url(#clip322)\" cx=\"801.606\" cy=\"1445.72\" r=\"14\" fill=\"#e26f46\" fill-rule=\"evenodd\" fill-opacity=\"1\" stroke=\"#000000\" stroke-opacity=\"1\" stroke-width=\"3.2\"/>\n",
       "<circle clip-path=\"url(#clip322)\" cx=\"836.253\" cy=\"87.9763\" r=\"14\" fill=\"#e26f46\" fill-rule=\"evenodd\" fill-opacity=\"1\" stroke=\"#000000\" stroke-opacity=\"1\" stroke-width=\"3.2\"/>\n",
       "<circle clip-path=\"url(#clip322)\" cx=\"870.9\" cy=\"1445.72\" r=\"14\" fill=\"#e26f46\" fill-rule=\"evenodd\" fill-opacity=\"1\" stroke=\"#000000\" stroke-opacity=\"1\" stroke-width=\"3.2\"/>\n",
       "<circle clip-path=\"url(#clip322)\" cx=\"905.547\" cy=\"1445.72\" r=\"14\" fill=\"#e26f46\" fill-rule=\"evenodd\" fill-opacity=\"1\" stroke=\"#000000\" stroke-opacity=\"1\" stroke-width=\"3.2\"/>\n",
       "<circle clip-path=\"url(#clip322)\" cx=\"940.194\" cy=\"1445.72\" r=\"14\" fill=\"#e26f46\" fill-rule=\"evenodd\" fill-opacity=\"1\" stroke=\"#000000\" stroke-opacity=\"1\" stroke-width=\"3.2\"/>\n",
       "<circle clip-path=\"url(#clip322)\" cx=\"974.841\" cy=\"1445.72\" r=\"14\" fill=\"#e26f46\" fill-rule=\"evenodd\" fill-opacity=\"1\" stroke=\"#000000\" stroke-opacity=\"1\" stroke-width=\"3.2\"/>\n",
       "<circle clip-path=\"url(#clip322)\" cx=\"1009.49\" cy=\"1445.72\" r=\"14\" fill=\"#e26f46\" fill-rule=\"evenodd\" fill-opacity=\"1\" stroke=\"#000000\" stroke-opacity=\"1\" stroke-width=\"3.2\"/>\n",
       "<circle clip-path=\"url(#clip322)\" cx=\"1044.14\" cy=\"1445.72\" r=\"14\" fill=\"#e26f46\" fill-rule=\"evenodd\" fill-opacity=\"1\" stroke=\"#000000\" stroke-opacity=\"1\" stroke-width=\"3.2\"/>\n",
       "<circle clip-path=\"url(#clip322)\" cx=\"1078.78\" cy=\"1445.72\" r=\"14\" fill=\"#e26f46\" fill-rule=\"evenodd\" fill-opacity=\"1\" stroke=\"#000000\" stroke-opacity=\"1\" stroke-width=\"3.2\"/>\n",
       "<circle clip-path=\"url(#clip322)\" cx=\"1113.43\" cy=\"1445.72\" r=\"14\" fill=\"#e26f46\" fill-rule=\"evenodd\" fill-opacity=\"1\" stroke=\"#000000\" stroke-opacity=\"1\" stroke-width=\"3.2\"/>\n",
       "<circle clip-path=\"url(#clip322)\" cx=\"1148.08\" cy=\"1445.72\" r=\"14\" fill=\"#e26f46\" fill-rule=\"evenodd\" fill-opacity=\"1\" stroke=\"#000000\" stroke-opacity=\"1\" stroke-width=\"3.2\"/>\n",
       "<circle clip-path=\"url(#clip322)\" cx=\"1182.72\" cy=\"1445.72\" r=\"14\" fill=\"#e26f46\" fill-rule=\"evenodd\" fill-opacity=\"1\" stroke=\"#000000\" stroke-opacity=\"1\" stroke-width=\"3.2\"/>\n",
       "<circle clip-path=\"url(#clip322)\" cx=\"1217.37\" cy=\"1445.72\" r=\"14\" fill=\"#e26f46\" fill-rule=\"evenodd\" fill-opacity=\"1\" stroke=\"#000000\" stroke-opacity=\"1\" stroke-width=\"3.2\"/>\n",
       "<circle clip-path=\"url(#clip322)\" cx=\"1252.02\" cy=\"1445.72\" r=\"14\" fill=\"#e26f46\" fill-rule=\"evenodd\" fill-opacity=\"1\" stroke=\"#000000\" stroke-opacity=\"1\" stroke-width=\"3.2\"/>\n",
       "<circle clip-path=\"url(#clip322)\" cx=\"1286.66\" cy=\"1445.72\" r=\"14\" fill=\"#e26f46\" fill-rule=\"evenodd\" fill-opacity=\"1\" stroke=\"#000000\" stroke-opacity=\"1\" stroke-width=\"3.2\"/>\n",
       "<circle clip-path=\"url(#clip322)\" cx=\"1321.31\" cy=\"1445.72\" r=\"14\" fill=\"#e26f46\" fill-rule=\"evenodd\" fill-opacity=\"1\" stroke=\"#000000\" stroke-opacity=\"1\" stroke-width=\"3.2\"/>\n",
       "<circle clip-path=\"url(#clip322)\" cx=\"1355.96\" cy=\"87.9763\" r=\"14\" fill=\"#e26f46\" fill-rule=\"evenodd\" fill-opacity=\"1\" stroke=\"#000000\" stroke-opacity=\"1\" stroke-width=\"3.2\"/>\n",
       "<circle clip-path=\"url(#clip322)\" cx=\"1390.61\" cy=\"87.9763\" r=\"14\" fill=\"#e26f46\" fill-rule=\"evenodd\" fill-opacity=\"1\" stroke=\"#000000\" stroke-opacity=\"1\" stroke-width=\"3.2\"/>\n",
       "<circle clip-path=\"url(#clip322)\" cx=\"1425.25\" cy=\"1445.72\" r=\"14\" fill=\"#e26f46\" fill-rule=\"evenodd\" fill-opacity=\"1\" stroke=\"#000000\" stroke-opacity=\"1\" stroke-width=\"3.2\"/>\n",
       "<circle clip-path=\"url(#clip322)\" cx=\"1459.9\" cy=\"1445.72\" r=\"14\" fill=\"#e26f46\" fill-rule=\"evenodd\" fill-opacity=\"1\" stroke=\"#000000\" stroke-opacity=\"1\" stroke-width=\"3.2\"/>\n",
       "<circle clip-path=\"url(#clip322)\" cx=\"1494.55\" cy=\"87.9763\" r=\"14\" fill=\"#e26f46\" fill-rule=\"evenodd\" fill-opacity=\"1\" stroke=\"#000000\" stroke-opacity=\"1\" stroke-width=\"3.2\"/>\n",
       "<circle clip-path=\"url(#clip322)\" cx=\"1529.19\" cy=\"87.9763\" r=\"14\" fill=\"#e26f46\" fill-rule=\"evenodd\" fill-opacity=\"1\" stroke=\"#000000\" stroke-opacity=\"1\" stroke-width=\"3.2\"/>\n",
       "<circle clip-path=\"url(#clip322)\" cx=\"1563.84\" cy=\"87.9763\" r=\"14\" fill=\"#e26f46\" fill-rule=\"evenodd\" fill-opacity=\"1\" stroke=\"#000000\" stroke-opacity=\"1\" stroke-width=\"3.2\"/>\n",
       "<circle clip-path=\"url(#clip322)\" cx=\"1598.49\" cy=\"87.9763\" r=\"14\" fill=\"#e26f46\" fill-rule=\"evenodd\" fill-opacity=\"1\" stroke=\"#000000\" stroke-opacity=\"1\" stroke-width=\"3.2\"/>\n",
       "<circle clip-path=\"url(#clip322)\" cx=\"1633.14\" cy=\"87.9763\" r=\"14\" fill=\"#e26f46\" fill-rule=\"evenodd\" fill-opacity=\"1\" stroke=\"#000000\" stroke-opacity=\"1\" stroke-width=\"3.2\"/>\n",
       "<circle clip-path=\"url(#clip322)\" cx=\"1667.78\" cy=\"1445.72\" r=\"14\" fill=\"#e26f46\" fill-rule=\"evenodd\" fill-opacity=\"1\" stroke=\"#000000\" stroke-opacity=\"1\" stroke-width=\"3.2\"/>\n",
       "<circle clip-path=\"url(#clip322)\" cx=\"1702.43\" cy=\"87.9763\" r=\"14\" fill=\"#e26f46\" fill-rule=\"evenodd\" fill-opacity=\"1\" stroke=\"#000000\" stroke-opacity=\"1\" stroke-width=\"3.2\"/>\n",
       "<circle clip-path=\"url(#clip322)\" cx=\"1737.08\" cy=\"1445.72\" r=\"14\" fill=\"#e26f46\" fill-rule=\"evenodd\" fill-opacity=\"1\" stroke=\"#000000\" stroke-opacity=\"1\" stroke-width=\"3.2\"/>\n",
       "<circle clip-path=\"url(#clip322)\" cx=\"1771.72\" cy=\"87.9763\" r=\"14\" fill=\"#e26f46\" fill-rule=\"evenodd\" fill-opacity=\"1\" stroke=\"#000000\" stroke-opacity=\"1\" stroke-width=\"3.2\"/>\n",
       "<circle clip-path=\"url(#clip322)\" cx=\"1806.37\" cy=\"87.9763\" r=\"14\" fill=\"#e26f46\" fill-rule=\"evenodd\" fill-opacity=\"1\" stroke=\"#000000\" stroke-opacity=\"1\" stroke-width=\"3.2\"/>\n",
       "<circle clip-path=\"url(#clip322)\" cx=\"1841.02\" cy=\"87.9763\" r=\"14\" fill=\"#e26f46\" fill-rule=\"evenodd\" fill-opacity=\"1\" stroke=\"#000000\" stroke-opacity=\"1\" stroke-width=\"3.2\"/>\n",
       "<circle clip-path=\"url(#clip322)\" cx=\"1875.67\" cy=\"1445.72\" r=\"14\" fill=\"#e26f46\" fill-rule=\"evenodd\" fill-opacity=\"1\" stroke=\"#000000\" stroke-opacity=\"1\" stroke-width=\"3.2\"/>\n",
       "<circle clip-path=\"url(#clip322)\" cx=\"1910.31\" cy=\"87.9763\" r=\"14\" fill=\"#e26f46\" fill-rule=\"evenodd\" fill-opacity=\"1\" stroke=\"#000000\" stroke-opacity=\"1\" stroke-width=\"3.2\"/>\n",
       "<circle clip-path=\"url(#clip322)\" cx=\"1944.96\" cy=\"1445.72\" r=\"14\" fill=\"#e26f46\" fill-rule=\"evenodd\" fill-opacity=\"1\" stroke=\"#000000\" stroke-opacity=\"1\" stroke-width=\"3.2\"/>\n",
       "<circle clip-path=\"url(#clip322)\" cx=\"1979.61\" cy=\"1445.72\" r=\"14\" fill=\"#e26f46\" fill-rule=\"evenodd\" fill-opacity=\"1\" stroke=\"#000000\" stroke-opacity=\"1\" stroke-width=\"3.2\"/>\n",
       "<circle clip-path=\"url(#clip322)\" cx=\"2014.25\" cy=\"1445.72\" r=\"14\" fill=\"#e26f46\" fill-rule=\"evenodd\" fill-opacity=\"1\" stroke=\"#000000\" stroke-opacity=\"1\" stroke-width=\"3.2\"/>\n",
       "<circle clip-path=\"url(#clip322)\" cx=\"2048.9\" cy=\"1445.72\" r=\"14\" fill=\"#e26f46\" fill-rule=\"evenodd\" fill-opacity=\"1\" stroke=\"#000000\" stroke-opacity=\"1\" stroke-width=\"3.2\"/>\n",
       "<circle clip-path=\"url(#clip322)\" cx=\"2083.55\" cy=\"1445.72\" r=\"14\" fill=\"#e26f46\" fill-rule=\"evenodd\" fill-opacity=\"1\" stroke=\"#000000\" stroke-opacity=\"1\" stroke-width=\"3.2\"/>\n",
       "<circle clip-path=\"url(#clip322)\" cx=\"2118.2\" cy=\"87.9763\" r=\"14\" fill=\"#e26f46\" fill-rule=\"evenodd\" fill-opacity=\"1\" stroke=\"#000000\" stroke-opacity=\"1\" stroke-width=\"3.2\"/>\n",
       "<circle clip-path=\"url(#clip322)\" cx=\"2152.84\" cy=\"87.9763\" r=\"14\" fill=\"#e26f46\" fill-rule=\"evenodd\" fill-opacity=\"1\" stroke=\"#000000\" stroke-opacity=\"1\" stroke-width=\"3.2\"/>\n",
       "<circle clip-path=\"url(#clip322)\" cx=\"2187.49\" cy=\"1445.72\" r=\"14\" fill=\"#e26f46\" fill-rule=\"evenodd\" fill-opacity=\"1\" stroke=\"#000000\" stroke-opacity=\"1\" stroke-width=\"3.2\"/>\n",
       "<circle clip-path=\"url(#clip322)\" cx=\"2222.14\" cy=\"87.9763\" r=\"14\" fill=\"#e26f46\" fill-rule=\"evenodd\" fill-opacity=\"1\" stroke=\"#000000\" stroke-opacity=\"1\" stroke-width=\"3.2\"/>\n",
       "<circle clip-path=\"url(#clip322)\" cx=\"2256.78\" cy=\"87.9763\" r=\"14\" fill=\"#e26f46\" fill-rule=\"evenodd\" fill-opacity=\"1\" stroke=\"#000000\" stroke-opacity=\"1\" stroke-width=\"3.2\"/>\n",
       "<circle clip-path=\"url(#clip322)\" cx=\"2291.43\" cy=\"1445.72\" r=\"14\" fill=\"#e26f46\" fill-rule=\"evenodd\" fill-opacity=\"1\" stroke=\"#000000\" stroke-opacity=\"1\" stroke-width=\"3.2\"/>\n",
       "</svg>\n"
      ]
     },
     "execution_count": 36,
     "metadata": {},
     "output_type": "execute_result"
    }
   ],
   "source": [
    "scatter(active_contexts, markersize=8.0)\n",
    "scatter!(active_models, legend=false)"
   ]
  },
  {
   "cell_type": "markdown",
   "id": "heated-seafood",
   "metadata": {},
   "source": [
    "### Preference learning stage"
   ]
  },
  {
   "cell_type": "markdown",
   "id": "durable-suspension",
   "metadata": {},
   "source": [
    "#### Generate outputs of HA from JLD files"
   ]
  },
  {
   "cell_type": "code",
   "execution_count": 54,
   "id": "atlantic-sculpture",
   "metadata": {},
   "outputs": [
    {
     "data": {
      "text/plain": [
       "60-element Vector{Any}:\n",
       " \"../sound/separated_jld/speech/babble/5dB/sp01_babble_sn5.jld\"\n",
       " \"../sound/separated_jld/speech/babble/5dB/sp02_babble_sn5.jld\"\n",
       " \"../sound/separated_jld/speech/babble/5dB/sp03_babble_sn5.jld\"\n",
       " \"../sound/separated_jld/speech/babble/5dB/sp04_babble_sn5.jld\"\n",
       " \"../sound/separated_jld/speech/babble/5dB/sp05_babble_sn5.jld\"\n",
       " \"../sound/separated_jld/speech/babble/5dB/sp06_babble_sn5.jld\"\n",
       " \"../sound/separated_jld/speech/babble/5dB/sp07_babble_sn5.jld\"\n",
       " \"../sound/separated_jld/speech/babble/5dB/sp08_babble_sn5.jld\"\n",
       " \"../sound/separated_jld/speech/babble/5dB/sp09_babble_sn5.jld\"\n",
       " \"../sound/separated_jld/speech/babble/5dB/sp10_babble_sn5.jld\"\n",
       " \"../sound/separated_jld/speech/babble/5dB/sp11_babble_sn5.jld\"\n",
       " \"../sound/separated_jld/speech/babble/5dB/sp12_babble_sn5.jld\"\n",
       " \"../sound/separated_jld/speech/babble/5dB/sp13_babble_sn5.jld\"\n",
       " ⋮\n",
       " \"../sound/separated_jld/speech/train/5dB/sp19_train_sn5.jld\"\n",
       " \"../sound/separated_jld/speech/train/5dB/sp20_train_sn5.jld\"\n",
       " \"../sound/separated_jld/speech/train/5dB/sp21_train_sn5.jld\"\n",
       " \"../sound/separated_jld/speech/train/5dB/sp22_train_sn5.jld\"\n",
       " \"../sound/separated_jld/speech/train/5dB/sp23_train_sn5.jld\"\n",
       " \"../sound/separated_jld/speech/train/5dB/sp24_train_sn5.jld\"\n",
       " \"../sound/separated_jld/speech/train/5dB/sp25_train_sn5.jld\"\n",
       " \"../sound/separated_jld/speech/train/5dB/sp26_train_sn5.jld\"\n",
       " \"../sound/separated_jld/speech/train/5dB/sp27_train_sn5.jld\"\n",
       " \"../sound/separated_jld/speech/train/5dB/sp28_train_sn5.jld\"\n",
       " \"../sound/separated_jld/speech/train/5dB/sp29_train_sn5.jld\"\n",
       " \"../sound/separated_jld/speech/train/5dB/sp30_train_sn5.jld\""
      ]
     },
     "execution_count": 54,
     "metadata": {},
     "output_type": "execute_result"
    }
   ],
   "source": [
    "# obtain saved jld files containing inference result\n",
    "audio_jlds = get_files(\"../sound/separated_jld/speech\");\n",
    "filter!(x -> occursin(\"jld\", x), audio_jlds)"
   ]
  },
  {
   "cell_type": "code",
   "execution_count": 56,
   "id": "suffering-wealth",
   "metadata": {},
   "outputs": [],
   "source": [
    "# initialize gains that agent randomly assigns to the outputs of HA\n",
    "agent_gains = [[2.0, 1.0], [1.0, 0.0], [0.5, 0.5], [0.9, 0.3], [2.5, 1.0], [0.9, 0.1], [0.7, 0.2], [0.2, 0.7], [2.0, 0.0]];"
   ]
  },
  {
   "cell_type": "code",
   "execution_count": 61,
   "id": "married-profit",
   "metadata": {},
   "outputs": [],
   "source": [
    "# this snippet generates new ha outputs\n",
    "for audio_jld in audio_jlds\n",
    "    # read file\n",
    "    d = JLD.load(audio_jld)\n",
    "    filename = d[\"filename\"]\n",
    "    # extract speech and noise\n",
    "    rz, rx = get_signal(d[\"rmz\"], fs), get_signal(d[\"rmx\"], fs)\n",
    "    # pick weights \n",
    "    whgs = rand(agent_gains) # can be changed to a smarter function\n",
    "    # create output\n",
    "    ha_out = whgs[1] .* rz + whgs[2] .* rx\n",
    "    # write wav file\n",
    "    WAV.wavwrite(ha_out, fs, \"../sound/preference_learning/ha_out_$(whgs[1])_$(whgs[2])_\"*filename[findfirst(\"dB\", filename)[1]+3:end])\n",
    "end"
   ]
  },
  {
   "cell_type": "markdown",
   "id": "specific-superior",
   "metadata": {},
   "source": [
    "#### Create pairs (gains, context) <-> appraisals"
   ]
  },
  {
   "cell_type": "code",
   "execution_count": 107,
   "id": "distant-reach",
   "metadata": {},
   "outputs": [
    {
     "data": {
      "text/plain": [
       "Dict{String, Any} with 3 entries:\n",
       "  \"gains\"      => [[2.0, 1.0], [2.0, 1.0], [2.5, 1.0], [1.0, 0.0], [0.5, 0.5], …\n",
       "  \"appraisals\" => [0.5, 0.4, 0.5, 0.9, 0.5, 0.4, 0.5, 0.9, 0.3, 0.7  …  0.7, 0.…\n",
       "  \"contexts\"   => [1.0, 1.0, 0.0, 0.0, 1.0, 1.0, 1.0, 0.0, 1.0, 0.0  …  1.0, 0.…"
      ]
     },
     "execution_count": 107,
     "metadata": {},
     "output_type": "execute_result"
    }
   ],
   "source": [
    "# Recorded gains and appraisals \n",
    "# If you want to generate new pairs, please procceed with listening\n",
    "preferences = JLD.load(\"../src/memory/preferences.jld\")\n",
    "@unpack gains, appraisals, contexts = preferences"
   ]
  }
 ],
 "metadata": {
  "kernelspec": {
   "display_name": "Julia 1.6.0",
   "language": "julia",
   "name": "julia-1.6"
  },
  "language_info": {
   "file_extension": ".jl",
   "mimetype": "application/julia",
   "name": "julia",
   "version": "1.6.0"
  }
 },
 "nbformat": 4,
 "nbformat_minor": 5
}
