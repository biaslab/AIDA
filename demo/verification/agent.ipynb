{
 "cells": [
  {
   "cell_type": "code",
   "execution_count": null,
   "source": [
    "function generate_data(nr_samples::Int64)\n",
    "\n",
    "    # sample weights\n",
    "    w = rand(nr_samples,2)\n",
    "\n",
    "    # sample appraisal\n",
    "    y = zeros(Float64, nr_samples)\n",
    "    for k = 1:nr_samples\n",
    "        y[k] = 1.0*(w[k,1] > 0.5)*(w[k,2] < 0.5)\n",
    "    end\n",
    "\n",
    "    # return data\n",
    "    return y, w\n",
    "\n",
    "end;"
   ],
   "outputs": [],
   "metadata": {}
  },
  {
   "cell_type": "code",
   "execution_count": null,
   "source": [
    "dat_to_col(data) = map(x -> x == 1 ? \"red\" : \"blue\", Int64.(round.(data)))\n",
    "data_y, data_x = generate_data(200);\n",
    "scatter(data_x[:,1], data_x[:,2], color=dat_to_col(data_y), grid=true, xlabel=\"g1\", ylabel=\"g2\", label=false)"
   ],
   "outputs": [],
   "metadata": {}
  },
  {
   "cell_type": "code",
   "execution_count": null,
   "source": [
    "function f(params)\n",
    "    fe = inference_flow_classifier(Float64.(data_y), [data_x[k,:] for k=1:size(data_x,1)], params)\n",
    "    return fe\n",
    "end;"
   ],
   "outputs": [],
   "metadata": {}
  },
  {
   "cell_type": "code",
   "execution_count": null,
   "source": [
    "using Optim\n",
    "res_train = optimize(f, randn(12), LBFGS(), Optim.Options(store_trace = true, show_trace = true, f_tol=1e-6), autodiff=:forward);"
   ],
   "outputs": [],
   "metadata": {}
  },
  {
   "cell_type": "code",
   "execution_count": null,
   "source": [
    "using ImageCore\n",
    "using LinearAlgebra\n",
    "\n",
    "est_params = Optim.minimizer(res_train)\n",
    "cmap = colorsigned(color(\"blue\"), color(\"magenta\"), color(\"red\")) ∘ scalesigned(0, 0.5, 1.0)\n",
    "colors = cmap.(data_y)\n",
    "inferred_model = deepcopy(compile(model, est_params))\n",
    "trans_data_x_1 = hcat(map((x) -> forward(inferred_model, x), [data_x[k,:] for k=1:size(data_x,1)])...)'\n",
    "trans_data_x_2 = map((x) -> dot([1, 1], x), [trans_data_x_1[k,:] for k=1:size(data_x,1)])\n",
    "trans_data_x_2_split = [trans_data_x_2[data_y .>= 0.5], trans_data_x_2[data_y .<= 0.5]]\n",
    "plt1 = scatter(data_x[:,1], data_x[:,2], color=colors)\n",
    "plt2 = scatter(trans_data_x_1[:,1], trans_data_x_1[:,2], color=colors)\n",
    "hist = histogram(trans_data_x_2_split; stacked=true, normalize=:density, bins=60,  fillcolor=[\"red\" \"blue\"], label = [\"Positive\" \"Negative\"], legend=:topleft)\n",
    "plot(plt1, plt2, hist, size=(1600, 400), legend=false, layout=(1, 3))"
   ],
   "outputs": [],
   "metadata": {}
  },
  {
   "cell_type": "code",
   "execution_count": null,
   "source": [
    "# test\n",
    "function f_input(input)\n",
    "    fe = inference_flow_classifier_input(input, model, est_params)\n",
    "    return fe\n",
    "end;"
   ],
   "outputs": [],
   "metadata": {}
  },
  {
   "cell_type": "code",
   "execution_count": null,
   "source": [
    "est_params = Optim.minimizer(res_train)"
   ],
   "outputs": [],
   "metadata": {}
  },
  {
   "cell_type": "code",
   "execution_count": null,
   "source": [
    "res = optimize(f_input, rand(2), LBFGS(), Optim.Options(iterations = 100, store_trace = true, show_trace = true), autodiff=:forward)"
   ],
   "outputs": [],
   "metadata": {}
  },
  {
   "cell_type": "code",
   "execution_count": null,
   "source": [
    "optimum = Optim.minimizer(res)"
   ],
   "outputs": [],
   "metadata": {}
  },
  {
   "cell_type": "code",
   "execution_count": null,
   "source": [
    "z = zeros(100,100)\n",
    "for kx = 1:100\n",
    "    for ky = 1:100\n",
    "        z[kx, ky] = generate_user_response([kx/100, ky/100])\n",
    "    end\n",
    "end"
   ],
   "outputs": [],
   "metadata": {}
  }
 ],
 "metadata": {
  "orig_nbformat": 4,
  "language_info": {
   "name": "julia"
  },
  "kernelspec": {
   "name": "julia-1.6",
   "display_name": "Julia 1.6.0",
   "language": "julia"
  }
 },
 "nbformat": 4,
 "nbformat_minor": 2
}