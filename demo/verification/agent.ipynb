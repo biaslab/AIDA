{
 "cells": [
  {
   "cell_type": "code",
   "execution_count": 2,
   "metadata": {},
   "outputs": [],
   "source": [
    "using Distributions\n",
    "using Plots\n",
    "using PGFPlotsX\n",
    "using LaTeXStrings\n",
    "using LinearAlgebra\n",
    "using Colors\n",
    "using JLD\n",
    "using Parameters\n",
    "using Random\n",
    "pgfplotsx()\n",
    "push!(PGFPlotsX.CUSTOM_PREAMBLE, raw\"\\usepgfplotslibrary{fillbetween}\");"
   ]
  },
  {
   "cell_type": "code",
   "execution_count": null,
   "metadata": {},
   "outputs": [],
   "source": [
    "T = 80\n",
    "n_steps = 50\n",
    "gridman = LinRange(0, 1, n_steps)"
   ]
  },
  {
   "cell_type": "markdown",
   "metadata": {},
   "source": [
    "### Heatmap example"
   ]
  },
  {
   "cell_type": "code",
   "execution_count": 3,
   "metadata": {},
   "outputs": [
    {
     "data": {
      "text/plain": [
       "Dict{String, Any} with 1 entry:\n",
       "  \"efe_grids\" => Any[22.3695, 22.452, 22.5289, 22.5996, 22.6638, 22.7213, 22.77…"
      ]
     },
     "execution_count": 3,
     "metadata": {},
     "output_type": "execute_result"
    }
   ],
   "source": [
    "@unpack efe_grids = JLD.load(\"jlds/efe_grids.jld\")\n",
    "efe_grids = reshape(efe_grids, n_steps,n_steps, T);\n",
    "efe_grids[efe_grids .== Inf] .= maximum(efe_grids[efe_grids .!= Inf])"
   ]
  },
  {
   "cell_type": "code",
   "execution_count": 78,
   "metadata": {},
   "outputs": [
    {
     "data": {
      "text/plain": [
       "Axis(PGFPlotsX.Options(OrderedCollections.OrderedDict{Any, Any}(\"xlabel\" => L\"$g_s$\", \"ylabel\" => L\"$g_n$\", \"zlabel\" => \"hz\", \"legend_pos\" => \"north east\", \"legend_cell_align\" => \"{left}\", \"grid\" => \"major\", \"view\" => (0, 90), \"colorbar\" => nothing, \"colormap/hot\" => nothing, \"colorbar_style\" => PGFPlotsX.Options(OrderedCollections.OrderedDict{Any, Any}(\"xlabel=EFE, xticklabel pos=upper\" => nothing), true)…), true), Any[Plot(false, false, PGFPlotsX.Options(OrderedCollections.OrderedDict{Any, Any}(\"only_marks\" => nothing, \"color\" => \"green\", \"mark_size\" => 3.0, \"mark\" => \"*\"), true), Coordinates{2}(Union{Nothing, Coordinate{2}}[Coordinate{2}((0.8, 0.2), nothing, nothing, nothing, nothing)]), Any[]), LegendEntry(PGFPlotsX.Options(OrderedCollections.OrderedDict{Any, Any}(), false), \"Target\", false), Plot(false, false, PGFPlotsX.Options(OrderedCollections.OrderedDict{Any, Any}(\"only_marks\" => nothing, \"color\" => \"black\", \"mark_size\" => 3.0, \"mark\" => \"*\"), true), Coordinates{2}(Union{Nothing, Coordinate{2}}[Coordinate{2}((0.5, 0.5), nothing, nothing, nothing, nothing)]), Any[]), LegendEntry(PGFPlotsX.Options(OrderedCollections.OrderedDict{Any, Any}(), false), \"Current\", false), Plot(true, false, PGFPlotsX.Options(OrderedCollections.OrderedDict{Any, Any}(\"surf\" => nothing, \"shader\" => \"flat\"), true), Coordinates{3}(Union{Nothing, Coordinate{3}}[Coordinate{3}((0.0, 0.0, 24.827239959882057), nothing, nothing, nothing, nothing), Coordinate{3}((0.02040816326530612, 0.0, 24.613144396712606), nothing, nothing, nothing, nothing), Coordinate{3}((0.04081632653061224, 0.0, 24.007398340935584), nothing, nothing, nothing, nothing), Coordinate{3}((0.061224489795918366, 0.0, 23.11372718877097), nothing, nothing, nothing, nothing), Coordinate{3}((0.08163265306122448, 0.0, 22.081032994188647), nothing, nothing, nothing, nothing), Coordinate{3}((0.10204081632653061, 0.0, 21.064221196730237), nothing, nothing, nothing, nothing), Coordinate{3}((0.12244897959183673, 0.0, 20.18276699332603), nothing, nothing, nothing, nothing), Coordinate{3}((0.14285714285714285, 0.0, 19.497896287679257), nothing, nothing, nothing, nothing), Coordinate{3}((0.16326530612244897, 0.0, 19.01542358801124), nothing, nothing, nothing, nothing), Coordinate{3}((0.1836734693877551, 0.0, 18.70490314274862), nothing, nothing, nothing, nothing)  …  Coordinate{3}((0.8367346938775511, 1.0, 19.699367816774505), nothing, nothing, nothing, nothing), Coordinate{3}((0.8571428571428571, 1.0, 20.661620084110563), nothing, nothing, nothing, nothing), Coordinate{3}((0.8775510204081632, 1.0, 22.01539150447777), nothing, nothing, nothing, nothing), Coordinate{3}((0.8979591836734694, 1.0, 23.72387757687924), nothing, nothing, nothing, nothing), Coordinate{3}((0.9183673469387755, 1.0, 25.62526110205744), nothing, nothing, nothing, nothing), Coordinate{3}((0.9387755102040817, 1.0, 27.45438837675335), nothing, nothing, nothing, nothing), Coordinate{3}((0.9591836734693877, 1.0, 28.935309504127755), nothing, nothing, nothing, nothing), Coordinate{3}((0.9795918367346939, 1.0, 29.877712187203016), nothing, nothing, nothing, nothing), Coordinate{3}((1.0, 1.0, 30.198068102892446), nothing, nothing, nothing, nothing), nothing]), Any[])])"
      ]
     },
     "execution_count": 78,
     "metadata": {},
     "output_type": "execute_result"
    }
   ],
   "source": [
    "index = 11\n",
    "x = gridman\n",
    "y = gridman\n",
    "\n",
    "target = [[0.8], [0.2]]\n",
    "current = map(x -> [first(x)], [0.5, 0.5])\n",
    "\n",
    "\n",
    "axis1 = @pgf Axis(\n",
    "    {\n",
    "        xlabel=L\"g_s\",\n",
    "        ylabel=L\"g_n\",\n",
    "        zlabel=\"hz\",\n",
    "        legend_pos = \"north east\",\n",
    "        legend_cell_align=\"{left}\",\n",
    "        grid = \"major\",\n",
    "        view = (0, 90),\n",
    "        colorbar,\n",
    "        \"colormap/hot\",\n",
    "        colorbar_style={\"xlabel=EFE, xticklabel pos=upper\"}\n",
    "    },\n",
    "    Plot({only_marks, color=\"green\", mark_size=3.0, mark=\"*\"}, \n",
    "    Coordinates(target...)), LegendEntry(\"Target\"),\n",
    "    Plot({only_marks, color=\"black\", mark_size=3.0, mark=\"*\"}, \n",
    "    Coordinates(current...)), LegendEntry(\"Current\"),\n",
    "    Plot3(\n",
    "        {\n",
    "            surf,\n",
    "            shader = \"flat\",\n",
    "        },\n",
    "        Coordinates(x, y, efe_grids[:, :, index]))\n",
    "    )"
   ]
  },
  {
   "cell_type": "code",
   "execution_count": 79,
   "metadata": {},
   "outputs": [],
   "source": [
    "pgfsave(\"tmp/heatmap_$(n).pdf\", axis1)\n",
    "pgfsave(\"tikz/hetamap_$(n).tikz\", axis1)"
   ]
  },
  {
   "cell_type": "markdown",
   "metadata": {},
   "source": [
    "### Time-series plots example"
   ]
  },
  {
   "cell_type": "code",
   "execution_count": 87,
   "metadata": {},
   "outputs": [],
   "source": [
    "@unpack epi_grids = JLD.load(\"jlds/epi_grids.jld\")\n",
    "epi_grids = reshape(epi_grids, n_steps,n_steps, T);\n"
   ]
  },
  {
   "cell_type": "code",
   "execution_count": 88,
   "metadata": {},
   "outputs": [],
   "source": [
    "@unpack inst_grids = JLD.load(\"jlds/inst_grids.jld\")\n",
    "inst_grids = reshape(inst_grids, n_steps,n_steps, T);"
   ]
  },
  {
   "cell_type": "code",
   "execution_count": 95,
   "metadata": {},
   "outputs": [],
   "source": [
    "# EH?\n",
    "idxs = [argmin(efe_grids[:, :, i]) for i in 1:T]\n",
    "\n",
    "# Get the values of queried points for all time steps\n",
    "epi_mins = [epi_grids[:,:,i][idxs[i]] for i in 1:T]\n",
    "inst_mins = [inst_grids[:,:,i][idxs[i]] for i in 1:T]\n",
    "\n",
    "# Get rid of infs for inhibition of return\n",
    "epi_means = [mean(epi_grids[:,:,i][isfinite.(epi_grids[:,:,i])]) for i in 1:T]\n",
    "inst_means = [mean(inst_grids[:,:,i][isfinite.(inst_grids[:,:,i])]) for i in 1:T]\n"
   ]
  },
  {
   "cell_type": "code",
   "execution_count": 100,
   "metadata": {},
   "outputs": [],
   "source": [
    "n_samples = 100\n",
    "index = 42\n",
    "\n",
    "plt_agent = @pgf GroupPlot(\n",
    "    # group plot options\n",
    "    {\n",
    "        width=\"15cm\", height=\"8cm\",\n",
    "\n",
    "        group_style = {\n",
    "            group_size = \"2 by 1\",\n",
    "            horizontal_sep = \"1.5cm\",\n",
    "        },\n",
    "    },\n",
    "    # first\n",
    "    {xlabel=L\"t\",\n",
    "           ylabel=\"value\",\n",
    "           legend_pos = \"north east\",\n",
    "           legend_cell_align=\"{left}\",\n",
    "           grid = \"major\",\n",
    "        #    title=\"TODO: TITLE\",\n",
    "           legend_style = \"{nodes={scale=0.8, transform shape}}\",\n",
    "    },\n",
    "    Plot(\n",
    "        {no_marks,color=\"blue\"}, Coordinates(collect(1:T), epi_mins - epi_means)\n",
    "    ), LegendEntry(\"Epistemic value\"),\n",
    "    # second\n",
    "    {xlabel=L\"t\",\n",
    "           legend_pos = \"south east\",\n",
    "           legend_cell_align=\"{left}\",\n",
    "           grid = \"major\",\n",
    "        #    title=\"Dataset $(index)\",\n",
    "           legend_style = \"{nodes={scale=0.8, transform shape}}\",\n",
    "    },\n",
    "    Plot(\n",
    "        {no_marks,color=\"blue\"}, Coordinates(collect(1:T), inst_mins - inst_means)\n",
    "    ), LegendEntry(\"Instrumental value\"),\n",
    ")\n",
    "\n",
    "pgfsave(\"tmp/grouped_agent.pdf\", plt_agent)\n",
    "pgfsave(\"tikz/grouped_agent.tikz\", plt_agent)"
   ]
  }
 ],
 "metadata": {
  "interpreter": {
   "hash": "aee8b7b246df8f9039afb4144a1f6fd8d2ca17a180786b69acc140d282b71a49"
  },
  "kernelspec": {
   "display_name": "Julia 1.6.0",
   "language": "julia",
   "name": "julia-1.6"
  },
  "language_info": {
   "file_extension": ".jl",
   "mimetype": "application/julia",
   "name": "julia",
   "version": "1.6.0"
  },
  "orig_nbformat": 4
 },
 "nbformat": 4,
 "nbformat_minor": 2
}
