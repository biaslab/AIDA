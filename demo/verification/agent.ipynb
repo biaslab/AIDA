{
 "cells": [
  {
   "cell_type": "code",
   "execution_count": 1,
   "metadata": {
    "scrolled": true
   },
   "outputs": [
    {
     "name": "stderr",
     "output_type": "stream",
     "text": [
      "┌ Info: Precompiling AIDA [02ab3c64-7f6e-4624-92b1-4056b28faae1]\n",
      "└ @ Base loading.jl:1317\n"
     ]
    }
   ],
   "source": [
    "using Distributions\n",
    "using Plots\n",
    "using LaTeXStrings\n",
    "using LinearAlgebra\n",
    "using Colors\n",
    "using JLD\n",
    "using Parameters\n",
    "using Random\n",
    "import ProgressMeter\n",
    "using AIDA"
   ]
  },
  {
   "cell_type": "markdown",
   "metadata": {},
   "source": [
    "### Parameters"
   ]
  },
  {
   "cell_type": "code",
   "execution_count": 2,
   "metadata": {},
   "outputs": [],
   "source": [
    "# Dimensionality of input. We use 2 parameters\n",
    "ndims = 2\n",
    "# How many points to seed the agent with\n",
    "npoints = 1\n",
    "\n",
    "# Generate random queries for initial seed and get user feedback\n",
    "x1 = rand(ndims, npoints)\n",
    "y1 = generate_user_response.(eachcol(x1))\n",
    "\n",
    "# Set up the grid to search over\n",
    "n_steps = 50 # Number of cells per axis\n",
    "grid_axis = LinRange(0, 1, n_steps)\n",
    "grid = Iterators.product(grid_axis, grid_axis) # make the grid\n",
    "\n",
    "# Initial hyperparameters for the kernel\n",
    "σ = 0.5\n",
    "l = 0.5\n",
    "\n",
    "# Number of timesteps to run\n",
    "T = 80\n",
    "\n",
    "# current keeps track of the point the agent is at.\n",
    "# We use it to prevent the agent proposing identical gains on consequtive trials \n",
    "current = (0.5, 0.5)\n",
    "\n",
    "# bookkeeping\n",
    "efe_grids, epi_grids, inst_grids, idxs = [],[],[],[]\n",
    ";"
   ]
  },
  {
   "cell_type": "markdown",
   "metadata": {},
   "source": [
    "### Run a single experiment and save results"
   ]
  },
  {
   "cell_type": "code",
   "execution_count": 3,
   "metadata": {},
   "outputs": [
    {
     "name": "stderr",
     "output_type": "stream",
     "text": [
      "\u001b[32mProgress: 100%|█████████████████████████████████████████| Time: 0:02:47\u001b[39m\n"
     ]
    },
    {
     "name": "stdout",
     "output_type": "stream",
     "text": [
      "All done, saving results\n"
     ]
    }
   ],
   "source": [
    "p = ProgressMeter.Progress(T, 1)\n",
    "Random.seed!(42)\n",
    "let x1 = x1, y1 = y1, current = current, σ = σ, l = l, idxs = idxs\n",
    "    for t ∈ 1:T\n",
    "        # Get a new proposal (x2), grids of epistemic (epi) an instrumental value (inst), \n",
    "        #grid of EFE (value) and the position to move to (idx)\n",
    "        #x2, epi_grid, inst_grid, value_grid, idx = get_new_decomp(grid, x1, y1, current, σ, l)\n",
    "        epi_grid, inst_grid = get_new_decomp(grid, x1, y1, current, σ, l)\n",
    "\n",
    "        # Compute the EFE grid\n",
    "        value_grid = epi_grid + inst_grid\n",
    "        # Ensure that we propose a new trial and not the same one twice in a row\n",
    "        value_grid[collect(grid).==[(current[1], current[2])]] .= Inf\n",
    "\n",
    "        # Find the minimum and try it out\n",
    "        idx = argmin(value_grid)\n",
    "        x2 = collect(grid)[idx]\n",
    "\n",
    "        # Update current point after testing\n",
    "        current = (x2[1], x2[2])\n",
    "\n",
    "        # Get some user feedback\n",
    "        y1 = vcat(y1, generate_user_response(collect(x2)))\n",
    "        x1 = hcat(x1, collect(x2))\n",
    "\n",
    "        # Optimize hyperparams every 5th iteration\n",
    "        if t % 5 == 0\n",
    "            σ, l = optimize_hyperparams(x1, y1, [0.5, 0.5])\n",
    "        end\n",
    "\n",
    "        # bookkeeping\n",
    "        append!(efe_grids, value_grid)\n",
    "        append!(epi_grids, epi_grid)\n",
    "        append!(inst_grids, inst_grid)\n",
    "        idxs = vcat(idxs, idx)\n",
    "        \n",
    "        ProgressMeter.next!(p)\n",
    "    end\n",
    "    println(\"All done, saving results\")\n",
    "    save(\"jlds/experiment.jld\", \"efe_grids\", efe_grids, \"epi_grids\", epi_grids, \"inst_grids\", inst_grids, \"responses\", y1, \"points\", x1, \"idxs\", idxs)\n",
    "end;"
   ]
  },
  {
   "cell_type": "markdown",
   "metadata": {},
   "source": [
    "# Batch  experiments\n",
    "FYI, this takes a long time to run."
   ]
  },
  {
   "cell_type": "code",
   "execution_count": null,
   "metadata": {},
   "outputs": [],
   "source": [
    "### Parameters"
   ]
  },
  {
   "cell_type": "code",
   "execution_count": 20,
   "metadata": {},
   "outputs": [],
   "source": [
    "# Dimensionality of input. We use 2 gains\n",
    "ndims = 2\n",
    "# Number of points to seed each agent with at the start of a run\n",
    "npoints = 1\n",
    "# Number of timesteps for each experiment\n",
    "T = 80\n",
    "\n",
    "# Number of experiments to run. The paper uses 2x40\n",
    "n_runs = 2\n",
    "\n",
    "# Set up the grid to search over\n",
    "n_steps = 50 # Number of cells per axis\n",
    "grid_axis = LinRange(0, 1, n_steps)\n",
    "grid = Iterators.product(grid_axis, grid_axis) # make the grid\n",
    "\n",
    "# Bookkeeping\n",
    "efe_vals = zeros(n_runs, T)\n",
    "epi_vals = zeros(n_runs, T)\n",
    "inst_vals = zeros(n_runs, T)\n",
    "responses = ones(n_runs, T + 1)\n",
    "traj = zeros(n_runs, 2, T)\n",
    ";"
   ]
  },
  {
   "cell_type": "code",
   "execution_count": 21,
   "metadata": {},
   "outputs": [
    {
     "name": "stderr",
     "output_type": "stream",
     "text": [
      "\u001b[32mProgress: 100%|█████████████████████████████████████████| Time: 0:07:37\u001b[39m\n"
     ]
    },
    {
     "name": "stdout",
     "output_type": "stream",
     "text": [
      "All done, saving data\n"
     ]
    }
   ],
   "source": [
    "# Runs experiments in a loop\n",
    "p = ProgressMeter.Progress(n_runs*T, 1)\n",
    "Random.seed!(123)\n",
    "for run ∈ 1:n_runs\n",
    "    #println(\"starting run: \", run)\n",
    "    x1 = rand(ndims, npoints) # Start the agent at a random location\n",
    "    y1 = generate_user_response.(eachcol(x1)) \n",
    "\n",
    "    # Initial hyperparameters for the kernel\n",
    "    σ = 0.5\n",
    "    l = 0.5\n",
    "\n",
    "    # Keep track of last point visited\n",
    "    current = (0.5, 0.5)\n",
    "\n",
    "    let x1 = x1, y1 = y1, current = current, σ = σ, l = l\n",
    "        for t ∈ 1:T\n",
    "            # Get new proposal (x2) and epistemic/instrumental value at the queried point\n",
    "            #x2, epi, inst = get_new_pointvalues(grid, x1, y1, current, σ, l)\n",
    "            #x2, epi_grid, inst_grid, value_grid, idx = get_new_decomp(grid, x1, y1, current, σ, l)\n",
    "            epi_grid, inst_grid = get_new_decomp(grid, x1, y1, current, σ, l)\n",
    "\n",
    "            # Compute the EFE grid\n",
    "            value_grid = epi_grid + inst_grid\n",
    "            # Ensure that we propose a new trial and not the same one twice in a row\n",
    "            value_grid[collect(grid).==[(current[1], current[2])]] .= Inf\n",
    "\n",
    "            # Find the minimum and try it out\n",
    "            idx = argmin(value_grid)\n",
    "            x2 = collect(grid)[idx]\n",
    "\n",
    "            # Update current point after testing\n",
    "            current = (x2[1], x2[2])\n",
    "\n",
    "            # Get some user feedback\n",
    "            y1 = vcat(y1, generate_user_response(collect(x2)))\n",
    "            x1 = hcat(x1, collect(x2))\n",
    "\n",
    "            # Optimize hyperparams every 5th iteration\n",
    "            if t % 5 == 0\n",
    "                σ, l = optimize_hyperparams(x1, y1, [0.5,0.5])\n",
    "            end\n",
    "\n",
    "            # Store results\n",
    "            epi_vals[run, t] = epi_grid[idx]\n",
    "            inst_vals[run, t] = inst_grid[idx]\n",
    "            traj[run, :, t] .= x2\n",
    "            ProgressMeter.next!(p)\n",
    "        end\n",
    "        # Save user responses\n",
    "        responses[run, :] .= y1\n",
    "    end        \n",
    "end\n",
    "efe_vals = epi_vals + inst_vals\n",
    "println(\"All done, saving data\")\n",
    "save(\"jlds/batch_experiment.jld\", \"efe_vals\", efe_vals, \"epi_vals\", epi_vals, \"inst_vals\", inst_vals, \"traj\", traj, \"responses\", responses)"
   ]
  },
  {
   "cell_type": "markdown",
   "metadata": {},
   "source": [
    "## PGFPLOTS"
   ]
  },
  {
   "cell_type": "code",
   "execution_count": null,
   "metadata": {},
   "outputs": [],
   "source": [
    "epi_vals + inst_vals"
   ]
  },
  {
   "cell_type": "code",
   "execution_count": null,
   "metadata": {},
   "outputs": [],
   "source": [
    "using PGFPlotsX\n",
    "pgfplotsx()\n",
    "push!(PGFPlotsX.CUSTOM_PREAMBLE, raw\"\\usepgfplotslibrary{fillbetween}\");"
   ]
  },
  {
   "cell_type": "code",
   "execution_count": null,
   "metadata": {},
   "outputs": [],
   "source": [
    "# Parameters for plotting\n",
    "#T = 40\n",
    "#n_steps = 50\n",
    "#grid_axis = LinRange(0, 1, n_steps);"
   ]
  },
  {
   "cell_type": "markdown",
   "metadata": {},
   "source": [
    "### Heatmap"
   ]
  },
  {
   "cell_type": "code",
   "execution_count": null,
   "metadata": {},
   "outputs": [],
   "source": [
    "experiment = JLD.load(\"jlds/experiment.jld\")\n",
    "\n",
    "efe_grids = experiment[\"efe_grids\"]\n",
    "efe_grids = reshape(efe_grids, n_steps,n_steps, T);\n",
    "efe_grids[efe_grids .== Inf] .= maximum(efe_grids[efe_grids .!= Inf])\n",
    "\n",
    "epi_grids = experiment[\"epi_grids\"]\n",
    "epi_grids = reshape(epi_grids, n_steps,n_steps, T);\n",
    "\n",
    "inst_grids = experiment[\"inst_grids\"]\n",
    "inst_grids = reshape(inst_grids, n_steps,n_steps, T);\n",
    "\n",
    "idxs = experiment[\"idxs\"]\n",
    "points = experiment[\"points\"]\n",
    "resp = experiment[\"responses\"];"
   ]
  },
  {
   "cell_type": "code",
   "execution_count": null,
   "metadata": {
    "scrolled": false
   },
   "outputs": [],
   "source": [
    "index = 80 # timepoint to visualize\n",
    "x = y = grid_axis\n",
    "\n",
    "target = [[0.8], [0.2]]\n",
    "current = map(x -> [first(x)], points[:,index])\n",
    "\n",
    "\n",
    "axis1 = @pgf Axis(\n",
    "    {\n",
    "        title=\"EFE landscape at time $(index)\",\n",
    "        xlabel=L\"g_s\",\n",
    "        ylabel=L\"g_n\",\n",
    "        zlabel=\"hz\",\n",
    "        legend_pos = \"north east\",\n",
    "        legend_cell_align=\"{left}\",\n",
    "        grid = \"major\",\n",
    "        view = (0, 90),\n",
    "        colorbar,\n",
    "        \"colormap/hot\",\n",
    "        colorbar_style={\"xlabel=EFE, xticklabel pos=upper\"}\n",
    "    },\n",
    "    Plot({only_marks, color=\"green\", mark_size=3.0, mark=\"*\"}, \n",
    "    Coordinates(target...)), LegendEntry(\"Target\"),\n",
    "    Plot({only_marks, color=\"black\", mark_size=3.0, mark=\"*\"}, \n",
    "    Coordinates(current...)), LegendEntry(\"Current\"),\n",
    "    Plot3(\n",
    "        {\n",
    "            surf,\n",
    "            shader = \"flat\",\n",
    "        },\n",
    "        Coordinates(x, y, efe_grids[:, :, index]))\n",
    "    )\n",
    "pgfsave(\"tmp/heatmap_$(index).svg\", axis1)\n",
    "pgfsave(\"tmp/heatmap_$(index).pdf\", axis1)\n",
    "pgfsave(\"tikz/heatmap_$(index).tikz\", axis1)"
   ]
  },
  {
   "cell_type": "code",
   "execution_count": null,
   "metadata": {},
   "outputs": [],
   "source": [
    "idxs = findfirst( isequal(1),resp)"
   ]
  },
  {
   "cell_type": "code",
   "execution_count": null,
   "metadata": {},
   "outputs": [],
   "source": [
    "sum(resp)"
   ]
  },
  {
   "cell_type": "code",
   "execution_count": null,
   "metadata": {},
   "outputs": [],
   "source": [
    "scatter(points[1,:],points[2,:])"
   ]
  },
  {
   "cell_type": "markdown",
   "metadata": {},
   "source": [
    "### EFE plots"
   ]
  },
  {
   "cell_type": "code",
   "execution_count": null,
   "metadata": {},
   "outputs": [],
   "source": [
    "# Get the values of queried points for all time steps\n",
    "epi_mins = [epi_grids[:,:,i][idxs[i]] for i in 1:T]\n",
    "inst_mins = [inst_grids[:,:,i][idxs[i]] for i in 1:T]\n",
    "\n",
    "# Compute ensemble means. Get rid of infs for inhibition of return\n",
    "epi_means = [mean(epi_grids[:,:,i][isfinite.(epi_grids[:,:,i])]) for i in 1:T]\n",
    "inst_means = [mean(inst_grids[:,:,i][isfinite.(inst_grids[:,:,i])]) for i in 1:T];"
   ]
  },
  {
   "cell_type": "code",
   "execution_count": null,
   "metadata": {},
   "outputs": [],
   "source": [
    "plt_agent = @pgf GroupPlot(\n",
    "    # group plot options\n",
    "    {\n",
    "        width=\"15cm\", height=\"8cm\",\n",
    "\n",
    "        group_style = {\n",
    "            group_size = \"2 by 1\",\n",
    "            horizontal_sep = \"1.5cm\",\n",
    "        },\n",
    "    },\n",
    "    # first\n",
    "    {xlabel=L\"t\",\n",
    "           ylabel=\"value\",\n",
    "           legend_pos = \"north east\",\n",
    "           legend_cell_align=\"{left}\",\n",
    "           grid = \"major\",\n",
    "        #    title=\"TODO: TITLE\",\n",
    "           legend_style = \"{nodes={scale=0.8, transform shape}}\",\n",
    "    },\n",
    "    Plot(\n",
    "        {no_marks,color=\"blue\"}, Coordinates(collect(1:T), epi_mins)\n",
    "    ), LegendEntry(\"Negative information gain\"),\n",
    "    # second\n",
    "    {xlabel=L\"t\",\n",
    "           legend_pos = \"south east\",\n",
    "           legend_cell_align=\"{left}\",\n",
    "           grid = \"major\",\n",
    "        #    title=\"Dataset $(index)\",\n",
    "           legend_style = \"{nodes={scale=0.8, transform shape}}\",\n",
    "    },\n",
    "    Plot(\n",
    "        {no_marks,color=\"blue\"}, Coordinates(collect(1:T), inst_mins)\n",
    "    ), LegendEntry(\"Utility drive\"),\n",
    ")\n",
    "pgfsave(\"tmp/grouped_agent.svg\", plt_agent)\n",
    "pgfsave(\"tmp/grouped_agent.pdf\", plt_agent)\n",
    "pgfsave(\"tikz/grouped_agent.tikz\", plt_agent)"
   ]
  },
  {
   "cell_type": "code",
   "execution_count": null,
   "metadata": {},
   "outputs": [],
   "source": [
    "# Plot of user pref function\n",
    "n_ticks = 100 # How finely to grid the preference function\n",
    "\n",
    "x = y = LinRange(0,1,n_ticks)\n",
    "\n",
    "z = zeros(n_ticks,n_ticks);\n",
    "for i in 1:n_ticks\n",
    "    for j in 1:100\n",
    "\tz[i,j] = generate_user_response([i/n_ticks,j/n_ticks],binary=false)\n",
    "    end\n",
    "end;\n",
    "\n",
    "pref_map= @pgf Axis(\n",
    "    {\n",
    "        title=\"User preference function\",\n",
    "        xlabel=L\"g_s\",\n",
    "        ylabel=L\"g_n\",\n",
    "        zlabel=\"hz\",\n",
    "        legend_pos = \"north east\",\n",
    "        legend_cell_align=\"{left}\",\n",
    "        grid = \"major\",\n",
    "        view = (0, 90),\n",
    "        colorbar,\n",
    "        \"colormap/hot\",\n",
    "        colorbar_style={\"xlabel=θ, xticklabel pos=upper\"}\n",
    "    },\n",
    "    Plot3(\n",
    "        {\n",
    "            surf,\n",
    "            shader = \"flat\",\n",
    "        },\n",
    "        Coordinates(x, y, z))\n",
    "    )\n",
    "pgfsave(\"tmp/pref_map.svg\", pref_map)\n",
    "pgfsave(\"tmp/pref_map.pdf\", pref_map)\n",
    "pgfsave(\"tikz/pref_map.tikz\", pref_map)"
   ]
  },
  {
   "cell_type": "code",
   "execution_count": null,
   "metadata": {},
   "outputs": [],
   "source": [
    "### Batch Plots"
   ]
  },
  {
   "cell_type": "code",
   "execution_count": null,
   "metadata": {},
   "outputs": [],
   "source": [
    "using Colors\n",
    "# For the paper, experiments were done in 2 batches of 40\n",
    "#experiment_1 = JLD.load(\"batch_experiment_1.jld\")\n",
    "#experiment_2 = JLD.load(\"batch_experiment_2.jld\")\n",
    "experiment = JLD.load(\"jlds/batch_experiment.jld\")\n",
    "\n",
    "\n",
    "# Heatmap of positive user appraisals\n",
    "#responses_1 = experiment_1[\"responses\"]\n",
    "#responses_2 = experiment_2[\"responses\"]\n",
    "#resp = vcat(responses_1,responses_2);\n",
    "resp = experiment[\"responses\"]\n",
    "\n",
    "# Histogram of first index of positive response\n",
    "idxs = [findfirst( isequal(1),resp[i,:]) for i in 1:size(resp)[1]]\n",
    "idxs[isnothing.(idxs)] .= 82 # If the agent didn't get a positive response, set it to 82. \n",
    "                             # Each experiment has 80 trials + 1 seed"
   ]
  },
  {
   "cell_type": "code",
   "execution_count": null,
   "metadata": {},
   "outputs": [],
   "source": [
    "y = 1:T \n",
    "x = 1:T+1\n",
    "\n",
    "resp_map= @pgf Axis(\n",
    "    {\n",
    "        title=\"Positive Appraisals\",\n",
    "        xlabel=\"Time Index\",\n",
    "        ylabel=\"Agent number\",\n",
    "        grid = \"minor\",\n",
    "        view = (0, 90), \n",
    "        colormap = \"{blackwhite}{color=(black) color=(yellow)}\"\n",
    "    },\n",
    "    Plot3(\n",
    "        {\n",
    "            surf,\n",
    "            shader = \"flat corner\",\n",
    "        },\n",
    "        Coordinates(x, y, resp')),\n",
    "    )\n",
    "#pgfsave(\"tmp/resp_map.pdf\", resp_map)\n",
    "#pgfsave(\"tikz/resp_map.tikz\", resp_map)"
   ]
  },
  {
   "cell_type": "code",
   "execution_count": null,
   "metadata": {},
   "outputs": [],
   "source": [
    "using StatsBase: Histogram, fit, normalize\n",
    "h = fit(Histogram, Float64.(idxs), nbins=100, closed = :left)\n",
    "\n",
    "shift = 2\n",
    "plt_histogram = @pgf Axis(\n",
    "    {\n",
    "        xlabel=\"\\\\small{Time Index}\",\n",
    "        ylabel=\"\\\\small{Number of Postive responses}\",\n",
    "        title=\"Ensemble Performance\",\n",
    "        ticklabel_style={\"font=\\\\tiny\"},\n",
    "        yticklabel_style={\n",
    "        \"/pgf/number format/fixed,\n",
    "        /pgf/number format/precision=0\"\n",
    "        },\n",
    "        grid=\"major\",\n",
    "        yminorgrids=true,\n",
    "        tick_align=\"outside\",\n",
    "        xtick=range(0, 80; length=5),\n",
    "        ytick=range(1, 18; length=9),\n",
    "        xmin =0.0,\n",
    "        xmax=maximum(idxs)+shift,\n",
    "        scaled_y_ticks = false,\n",
    "    },\n",
    "    Plot({\"ybar interval\", fill=\"blue!85\", \"forget plot\"}, Table(h)))\n",
    "#pgfsave(\"tikz/ensemble_perf.tikz\", plt_histogram)\n",
    "#pgfsave(\"tmp/ensemble_perf.pdf\", plt_histogram)"
   ]
  },
  {
   "cell_type": "code",
   "execution_count": null,
   "metadata": {},
   "outputs": [],
   "source": [
    "# Average EFE of ensemble as a function of time\n",
    "#efes = vcat(experiment_1[\"efe_vals\"]\n",
    "#            ,experiment_2[\"efe_vals\"]\n",
    "#            )\n",
    "efes = experiment[\"efe_vals\"]\n",
    "efe_means = mean(efes,dims=1)[:]\n",
    "avg_efe = @pgf Axis(\n",
    "    {\n",
    "        title=\"Average EFE of ensemble\",\n",
    "        xlabel=\"Time Index\",\n",
    "        ylabel=\"EFE\",\n",
    "        grid = \"minor\",\n",
    "        view = (0, 90), \n",
    "        colormap = \"{blackwhite}{color=(black) color=(yellow)}\",\n",
    "        no_marks,\n",
    "        x_post_scale = 1.5\n",
    "    },\n",
    "    Plot(Coordinates(1:T, efe_means))\n",
    ")\n",
    "#pgfsave(\"tikz/avg_efe.tikz\", avg_efe)\n",
    "#pgfsave(\"tmp/avg_efe.pdf\", avg_efe)"
   ]
  },
  {
   "cell_type": "code",
   "execution_count": null,
   "metadata": {},
   "outputs": [],
   "source": []
  }
 ],
 "metadata": {
  "interpreter": {
   "hash": "aee8b7b246df8f9039afb4144a1f6fd8d2ca17a180786b69acc140d282b71a49"
  },
  "kernelspec": {
   "display_name": "Julia 1.6.0",
   "language": "julia",
   "name": "julia-1.6"
  },
  "language_info": {
   "file_extension": ".jl",
   "mimetype": "application/julia",
   "name": "julia",
   "version": "1.6.0"
  }
 },
 "nbformat": 4,
 "nbformat_minor": 2
}
