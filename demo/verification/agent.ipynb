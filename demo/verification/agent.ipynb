{
 "cells": [
  {
   "cell_type": "code",
   "execution_count": 1,
   "metadata": {},
   "outputs": [],
   "source": [
    "using Distributions\n",
    "using Plots\n",
    "using PGFPlotsX\n",
    "using LaTeXStrings\n",
    "using LinearAlgebra\n",
    "using Colors\n",
    "using JLD\n",
    "using Parameters\n",
    "using Random\n",
    "pgfplotsx()\n",
    "push!(PGFPlotsX.CUSTOM_PREAMBLE, raw\"\\usepgfplotslibrary{fillbetween}\");"
   ]
  },
  {
   "cell_type": "code",
   "execution_count": 2,
   "metadata": {},
   "outputs": [],
   "source": [
    "T = 80\n",
    "n_steps = 50\n",
    "gridman = LinRange(0, 1, n_steps);"
   ]
  },
  {
   "cell_type": "markdown",
   "metadata": {},
   "source": [
    "### Heatmap"
   ]
  },
  {
   "cell_type": "code",
   "execution_count": 135,
   "metadata": {},
   "outputs": [
    {
     "data": {
      "text/plain": [
       "Dict{String, Any} with 6 entries:\n",
       "  \"efe_grids\"  => Any[19.9776, 20.0538, 20.1301, 20.2064, 20.2823, 20.3576, 20.…\n",
       "  \"points\"     => [0.528234 0.0 … 0.795918 0.77551; 0.543932 0.0 … 0.22449 0.22…\n",
       "  \"inst_grids\" => Any[19.7641, 19.8398, 19.9157, 19.9915, 20.067, 20.1418, 20.2…\n",
       "  \"responses\"  => [0.0, 0.0, 0.0, 0.0, 0.0, 0.0, 0.0, 0.0, 0.0, 0.0  …  1.0, 1.…\n",
       "  \"idxs\"       => Any[CartesianIndex(1, 1), CartesianIndex(50, 50), CartesianIn…\n",
       "  \"epi_grids\"  => Any[0.213498, 0.213928, 0.214377, 0.214845, 0.215328, 0.21582…"
      ]
     },
     "execution_count": 135,
     "metadata": {},
     "output_type": "execute_result"
    }
   ],
   "source": [
    "experiment = JLD.load(\"jlds/experiment.jld\")\n"
   ]
  },
  {
   "cell_type": "code",
   "execution_count": 136,
   "metadata": {},
   "outputs": [],
   "source": [
    "efe_grids = experiment[\"efe_grids\"]\n",
    "efe_grids = reshape(efe_grids, n_steps,n_steps, T);\n",
    "efe_grids[efe_grids .== Inf] .= maximum(efe_grids[efe_grids .!= Inf])\n",
    "\n",
    "epi_grids = experiment[\"epi_grids\"]\n",
    "epi_grids = reshape(epi_grids, n_steps,n_steps, T);\n",
    "\n",
    "inst_grids = experiment[\"inst_grids\"]\n",
    "inst_grids = reshape(inst_grids, n_steps,n_steps, T);\n",
    "\n",
    "idxs = experiment[\"idxs\"]\n",
    "points = experiment[\"points\"];"
   ]
  },
  {
   "cell_type": "code",
   "execution_count": 137,
   "metadata": {},
   "outputs": [],
   "source": [
    "index = 80\n",
    "x = y = gridman\n",
    "\n",
    "target = [[0.8], [0.2]]\n",
    "current = map(x -> [first(x)], points[:,index])\n",
    "\n",
    "\n",
    "axis1 = @pgf Axis(\n",
    "    {\n",
    "        title=\"EFE landscape at time $(index)\",\n",
    "        xlabel=L\"g_s\",\n",
    "        ylabel=L\"g_n\",\n",
    "        zlabel=\"hz\",\n",
    "        legend_pos = \"north east\",\n",
    "        legend_cell_align=\"{left}\",\n",
    "        grid = \"major\",\n",
    "        view = (0, 90),\n",
    "        colorbar,\n",
    "        \"colormap/hot\",\n",
    "        colorbar_style={\"xlabel=EFE, xticklabel pos=upper\"}\n",
    "    },\n",
    "    Plot({only_marks, color=\"green\", mark_size=3.0, mark=\"*\"}, \n",
    "    Coordinates(target...)), LegendEntry(\"Target\"),\n",
    "    Plot({only_marks, color=\"black\", mark_size=3.0, mark=\"*\"}, \n",
    "    Coordinates(current...)), LegendEntry(\"Current\"),\n",
    "    Plot3(\n",
    "        {\n",
    "            surf,\n",
    "            shader = \"flat\",\n",
    "        },\n",
    "        Coordinates(x, y, efe_grids[:, :, index]))\n",
    "    )\n",
    "pgfsave(\"tmp/heatmap_$(index).pdf\", axis1)\n",
    "pgfsave(\"tikz/heatmap_$(index).tikz\", axis1)"
   ]
  },
  {
   "cell_type": "markdown",
   "metadata": {},
   "source": [
    "### EFE plots"
   ]
  },
  {
   "cell_type": "code",
   "execution_count": 138,
   "metadata": {},
   "outputs": [],
   "source": [
    "# Get the values of queried points for all time steps\n",
    "epi_mins = [epi_grids[:,:,i][idxs[i]] for i in 1:T]\n",
    "inst_mins = [inst_grids[:,:,i][idxs[i]] for i in 1:T]\n",
    "\n",
    "# Get rid of infs for inhibition of return\n",
    "epi_means = [mean(epi_grids[:,:,i][isfinite.(epi_grids[:,:,i])]) for i in 1:T]\n",
    "inst_means = [mean(inst_grids[:,:,i][isfinite.(inst_grids[:,:,i])]) for i in 1:T];"
   ]
  },
  {
   "cell_type": "code",
   "execution_count": 139,
   "metadata": {},
   "outputs": [],
   "source": [
    "plt_agent = @pgf GroupPlot(\n",
    "    # group plot options\n",
    "    {\n",
    "        width=\"15cm\", height=\"8cm\",\n",
    "\n",
    "        group_style = {\n",
    "            group_size = \"2 by 1\",\n",
    "            horizontal_sep = \"1.5cm\",\n",
    "        },\n",
    "    },\n",
    "    # first\n",
    "    {xlabel=L\"t\",\n",
    "           ylabel=\"value\",\n",
    "           legend_pos = \"north east\",\n",
    "           legend_cell_align=\"{left}\",\n",
    "           grid = \"major\",\n",
    "        #    title=\"TODO: TITLE\",\n",
    "           legend_style = \"{nodes={scale=0.8, transform shape}}\",\n",
    "    },\n",
    "    Plot(\n",
    "        {no_marks,color=\"blue\"}, Coordinates(collect(1:T), epi_mins)\n",
    "    ), LegendEntry(\"Epistemic value\"),\n",
    "    # second\n",
    "    {xlabel=L\"t\",\n",
    "           legend_pos = \"south east\",\n",
    "           legend_cell_align=\"{left}\",\n",
    "           grid = \"major\",\n",
    "        #    title=\"Dataset $(index)\",\n",
    "           legend_style = \"{nodes={scale=0.8, transform shape}}\",\n",
    "    },\n",
    "    Plot(\n",
    "        {no_marks,color=\"blue\"}, Coordinates(collect(1:T), inst_mins)\n",
    "    ), LegendEntry(\"Instrumental value\"),\n",
    ")\n",
    "\n",
    "pgfsave(\"tmp/grouped_agent.pdf\", plt_agent)\n",
    "pgfsave(\"tikz/grouped_agent.tikz\", plt_agent)"
   ]
  },
  {
   "cell_type": "code",
   "execution_count": 140,
   "metadata": {},
   "outputs": [],
   "source": [
    "# Plot of user pref function\n",
    "include(\"../../src/environment/user.jl\")\n",
    "n_ticks = 100 # How finely to grid the preference function\n",
    "\n",
    "x = y = LinRange(0,1,n_ticks)\n",
    "\n",
    "z = zeros(n_ticks,n_ticks);\n",
    "for i in 1:n_ticks\n",
    "    for j in 1:100\n",
    "\tz[i,j] = generate_user_response([i/n_ticks,j/n_ticks],binary=false)\n",
    "    end\n",
    "end;\n",
    "\n",
    "pref_map= @pgf Axis(\n",
    "    {\n",
    "        title=\"User preference function\",\n",
    "        xlabel=L\"g_s\",\n",
    "        ylabel=L\"g_n\",\n",
    "        zlabel=\"hz\",\n",
    "        legend_pos = \"north east\",\n",
    "        legend_cell_align=\"{left}\",\n",
    "        grid = \"major\",\n",
    "        view = (0, 90),\n",
    "        colorbar,\n",
    "        \"colormap/hot\",\n",
    "        colorbar_style={\"xlabel=θ, xticklabel pos=upper\"}\n",
    "    },\n",
    "    Plot3(\n",
    "        {\n",
    "            surf,\n",
    "            shader = \"flat\",\n",
    "        },\n",
    "        Coordinates(x, y, z))\n",
    "    )\n",
    "pgfsave(\"tmp/pref_map.pdf\", pref_map)\n",
    "pgfsave(\"tikz/pref_map.tikz\", pref_map)"
   ]
  },
  {
   "cell_type": "markdown",
   "metadata": {},
   "source": [
    "### Batch Plots"
   ]
  },
  {
   "cell_type": "code",
   "execution_count": 142,
   "metadata": {
    "scrolled": false
   },
   "outputs": [],
   "source": [
    "using Colors\n",
    "experiment_1 = JLD.load(\"jlds/batch_experiment_1.jld\")\n",
    "experiment_2 = JLD.load(\"jlds/batch_experiment_2.jld\")\n",
    "\n",
    "# Heatmap of positive user appraisals\n",
    "responses_1 = experiment_1[\"responses\"]\n",
    "responses_2 = experiment_2[\"responses\"]\n",
    "resp = vcat(responses_1,responses_2);"
   ]
  },
  {
   "cell_type": "code",
   "execution_count": 143,
   "metadata": {},
   "outputs": [],
   "source": [
    "y = 1:T \n",
    "x = 1:T+1\n",
    "\n",
    "resp_map= @pgf Axis(\n",
    "    {\n",
    "        title=\"Positive Appraisals\",\n",
    "        xlabel=\"Time Index\",\n",
    "        ylabel=\"Agent number\",\n",
    "        grid = \"minor\",\n",
    "        view = (0, 90), \n",
    "        colormap = \"{blackwhite}{color=(black) color=(yellow)}\"\n",
    "    },\n",
    "    Plot3(\n",
    "        {\n",
    "            surf,\n",
    "            shader = \"flat corner\",\n",
    "        },\n",
    "        Coordinates(x, y, resp')),\n",
    "    )\n",
    "pgfsave(\"tmp/resp_map.pdf\", resp_map)\n",
    "pgfsave(\"tikz/resp_map.tikz\", resp_map)"
   ]
  },
  {
   "cell_type": "code",
   "execution_count": 133,
   "metadata": {},
   "outputs": [
    {
     "data": {
      "text/plain": [
       "Axis(PGFPlotsX.Options(OrderedCollections.OrderedDict{Any, Any}(\"xlabel\" => \"Time Index\", \"ylabel\" => \"Number of Postive responses\", \"title\" => \"Ensemble Performance\", \"yticklabel_style\" => PGFPlotsX.Options(OrderedCollections.OrderedDict{Any, Any}(\"/pgf/number format/fixed,\\n        /pgf/number format/precision=0\" => nothing), true), \"grid\" => \"major\", \"yminorgrids\" => true, \"tick_align\" => \"outside\", \"xtick\" => 0.0:20.0:80.0, \"ytick\" => 1.0:2.125:18.0, \"xmin\" => 0.0…), true), Any[Plot(false, false, PGFPlotsX.Options(OrderedCollections.OrderedDict{Any, Any}(\"ybar interval\" => nothing, \"fill\" => \"blue!85\", \"forget plot\" => nothing), true), Table(PGFPlotsX.Options(OrderedCollections.OrderedDict{Any, Any}(), false), TableData([1.0 2.0; 2.0 0.0; … ; 82.0 16.0; 83.0 0.0], nothing, Int64[], true)), Any[])])"
      ]
     },
     "execution_count": 133,
     "metadata": {},
     "output_type": "execute_result"
    }
   ],
   "source": [
    "using StatsBase: Histogram, fit, normalize\n",
    "h = fit(Histogram, Float64.(idxs), nbins=100, closed = :left)\n",
    "\n",
    "shift = 2\n",
    "plt_histogram = @pgf Axis(\n",
    "    {\n",
    "        xlabel=\"Time Index\",\n",
    "        ylabel=\"Number of Postive responses\",\n",
    "        title=\"Ensemble Performance\",\n",
    "        yticklabel_style={\n",
    "        \"/pgf/number format/fixed,\n",
    "        /pgf/number format/precision=0\"\n",
    "        },\n",
    "        grid=\"major\",\n",
    "        yminorgrids=true,\n",
    "        tick_align=\"outside\",\n",
    "        xtick=range(0, 80; length=5),\n",
    "        ytick=range(1, 18; length=9),\n",
    "        xmin =0.0,\n",
    "        xmax=maximum(idxs)+shift,\n",
    "        scaled_y_ticks = false,\n",
    "    },\n",
    "    Plot({\"ybar interval\", fill=\"blue!85\", \"forget plot\"}, Table(h)))\n",
    "pgfsave(\"tikz/ensemble_perf.tikz\", plt_histogram)\n",
    "pgfsave(\"tmp/ensemble_perf.pdf\", plt_histogram)"
   ]
  }
 ],
 "metadata": {
  "interpreter": {
   "hash": "aee8b7b246df8f9039afb4144a1f6fd8d2ca17a180786b69acc140d282b71a49"
  },
  "kernelspec": {
   "display_name": "Julia 1.6.0",
   "language": "julia",
   "name": "julia-1.6"
  },
  "language_info": {
   "file_extension": ".jl",
   "mimetype": "application/julia",
   "name": "julia",
   "version": "1.6.0"
  }
 },
 "nbformat": 4,
 "nbformat_minor": 2
}
