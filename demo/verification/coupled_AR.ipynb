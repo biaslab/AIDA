{
 "cells": [
  {
   "cell_type": "code",
   "execution_count": 2,
   "source": [
    "import PolynomialRoots.roots\n",
    "using Distributions\n",
    "using Plots\n",
    "using PGFPlotsX\n",
    "using LaTeXStrings\n",
    "using Colors\n",
    "using JLD\n",
    "using Parameters\n",
    "pgfplotsx()\n",
    "push!(PGFPlotsX.CUSTOM_PREAMBLE, raw\"\\usepgfplotslibrary{fillbetween}\");"
   ],
   "outputs": [],
   "metadata": {}
  },
  {
   "cell_type": "code",
   "execution_count": 130,
   "source": [
    "using Random\n",
    "Random.seed!(42)"
   ],
   "outputs": [
    {
     "output_type": "execute_result",
     "data": {
      "text/plain": [
       "MersenneTwister(42)"
      ]
     },
     "metadata": {},
     "execution_count": 130
    }
   ],
   "metadata": {}
  },
  {
   "cell_type": "code",
   "execution_count": 137,
   "source": [
    "@unpack speech_data, noise_data, rγ, rmθ, rvθ, rmx, rvx, rτ, rmη, rvη, rmz, rvz = JLD.load(\"jlds/coupled_ar.jld\");"
   ],
   "outputs": [
    {
     "output_type": "execute_result",
     "data": {
      "text/plain": [
       "Dict{String, Any} with 12 entries:\n",
       "  \"rvz\"         => [0.209553 0.186014 … 0.197358 0.234594; 0.174367 0.17429 … 0…\n",
       "  \"rmz\"         => [0.527773 -0.157931 … -0.930114 0.139958; 1.48064 0.590398 ……\n",
       "  \"rvθ\"         => Any[[0.00966394 0.00712845 0.00758662 0.000155139; 0.0071284…\n",
       "  \"rvη\"         => Any[[0.00661246], [0.00916538 0.0111524 0.00397711; 0.011152…\n",
       "  \"noise_data\"  => [([-0.210409], [[0.222001], [-0.181659], [0.413966], [0.1857…\n",
       "  \"rmη\"         => Any[[0.577027], [-1.34654, -0.806668, -0.314372], [-1.58938,…\n",
       "  \"rγ\"          => [(51.0, 15.3114), (51.0, 10.1961), (51.0, 9.18817), (51.0, 9…\n",
       "  \"rmx\"         => [-0.233572 -0.246246 … -0.463908 -0.375859; 1.50592 -1.84256…\n",
       "  \"rτ\"          => [(51.0, 19.7225), (51.0, 30.5068), (51.0, 10.5986), (51.0, 1…\n",
       "  \"rvx\"         => [0.209553 0.186013 … 0.197357 0.234594; 0.174374 0.174182 … …\n",
       "  \"speech_data\" => [([0.296762, -0.51642, 0.495933, -0.347842], [[0.0721997, -0…\n",
       "  \"rmθ\"         => Any[[-0.760145, -0.837214, -0.0626256, -0.0349474], [1.25076…"
      ]
     },
     "metadata": {},
     "execution_count": 137
    }
   ],
   "metadata": {}
  },
  {
   "cell_type": "code",
   "execution_count": 1,
   "source": [
    "function generate_coefficients(order::Int)\n",
    "    stable = false\n",
    "    true_a = []\n",
    "    # Keep generating coefficients until we come across a set of coefficients\n",
    "    # that correspond to stable poles\n",
    "    while !stable\n",
    "        true_a = randn(order)\n",
    "        coefs =  append!([1.0], -true_a)\n",
    "        if false in ([abs(root) for root in roots(coefs)] .> 1)\n",
    "            continue\n",
    "        else\n",
    "            stable = true\n",
    "        end\n",
    "    end\n",
    "    return true_a\n",
    "end\n",
    "\n",
    "function generateAR(num::Int, order::Int; nvar=1, stat=true, coefs=nothing)\n",
    "    if isnothing(coefs) && stat\n",
    "        coefs = generate_coefficients(order)\n",
    "    else\n",
    "        coefs = randn(order)\n",
    "    end\n",
    "    inits = randn(order)\n",
    "    data = Vector{Vector{Float64}}(undef, num+3*order)\n",
    "    data[1] = inits\n",
    "    for i in 2:num+3*order\n",
    "        data[i] = insert!(data[i-1][1:end-1], 1, rand(Distributions.Normal(coefs'data[i-1], sqrt(nvar[])), 1)[1])\n",
    "    end\n",
    "    data = data[1+3*order:end]\n",
    "    return coefs, data\n",
    "end"
   ],
   "outputs": [
    {
     "output_type": "execute_result",
     "data": {
      "text/plain": [
       "generateAR (generic function with 1 method)"
      ]
     },
     "metadata": {},
     "execution_count": 1
    }
   ],
   "metadata": {}
  },
  {
   "cell_type": "code",
   "execution_count": 131,
   "source": [
    "n_datasets = 100\n",
    "n_samples = 100\n",
    "AR_z = 4:8\n",
    "AR_x = 1:4\n",
    "noise_var = [1.0, 0.3, 0.1]\n",
    "SNR_s = rand(noise_var, n_datasets)\n",
    "speech_data, noise_data = [generateAR(100, rand(AR_z)) for _ in 1:n_datasets], [generateAR(100, rand(AR_x), nvar=SNR_s[i]) for i in 1:n_datasets];"
   ],
   "outputs": [],
   "metadata": {}
  },
  {
   "cell_type": "markdown",
   "source": [
    "### Coupled AR inference"
   ],
   "metadata": {}
  },
  {
   "cell_type": "code",
   "execution_count": 132,
   "source": [
    "using AIDA\n",
    "using ReactiveMP\n",
    "import ProgressMeter\n",
    "\n",
    "vmp_its = 100\n",
    "\n",
    "rmx = zeros(n_datasets, n_samples)\n",
    "rvx = zeros(n_datasets, n_samples)\n",
    "rmθ, rvθ = [], []\n",
    "rγ = fill(tuple(.0, .0), n_datasets)\n",
    "\n",
    "rmz = zeros(n_datasets, n_samples)\n",
    "rvz = zeros(n_datasets, n_samples)\n",
    "rmη, rvη  = [], []\n",
    "rτ = fill(tuple(.0, .0), n_datasets)\n",
    "\n",
    "fe  = zeros(n_datasets, vmp_its)\n",
    "\n",
    "ProgressMeter.@showprogress for i in 1:n_datasets\n",
    "    \n",
    "    output = first.(speech_data[i][2]) + first.(noise_data[i][2])\n",
    "    ar_speech, ar_env = length(speech_data[i][1]), length(noise_data[i][1])\n",
    "    \n",
    "    priors_mη, priors_vη, priors_τ = prior_to_priors(zeros(ar_env), diageye(ar_env), (1.0, SNR_s[i]), n_samples, ar_env)\n",
    "    \n",
    "    prior_η                           = (priors_mη[i, :], priors_vη[i, :, :])\n",
    "    prior_τ                           = priors_τ[i]\n",
    "    γ, θ, zs, τ, η, xs, fe[i, :]      = coupled_inference(output, prior_η, prior_τ, ar_speech, ar_env, vmp_its)\n",
    "    mz, vz                            = mean.(zs), cov.(zs)\n",
    "    mθ, vθ                            = mean(θ), cov(θ)\n",
    "    rmz[i, :], rvz[i, :]              = first.(mz), first.(vz)\n",
    "    \n",
    "    push!(rmθ, mθ)\n",
    "    push!(rvθ, vθ)\n",
    "    \n",
    "    rγ[i]                             = shape(γ), rate(γ)\n",
    "    \n",
    "    mx, vx                            = mean.(xs), cov.(xs)\n",
    "    mη, vη                            = mean(η), cov(η)\n",
    "    rmx[i, :], rvx[i, :]              = first.(mx), first.(vx)\n",
    "    push!(rmη, mη)\n",
    "    push!(rvη, vη)\n",
    "    rτ[i]                             = shape(τ), rate(τ)\n",
    "\n",
    "end"
   ],
   "outputs": [
    {
     "output_type": "stream",
     "name": "stderr",
     "text": [
      "\u001b[32mProgress: 100%|█████████████████████████████████████████| Time: 0:06:42\u001b[39m\n"
     ]
    }
   ],
   "metadata": {}
  },
  {
   "cell_type": "code",
   "execution_count": 133,
   "source": [
    "JLD.save(\"jlds/coupled_ar.jld\", \"speech_data\", speech_data, \"noise_data\", noise_data, \n",
    "                                \"rγ\", rγ, \"rmθ\", rmθ, \"rvθ\", rvθ, \"rmx\", rmx, \"rvx\", rvx, \n",
    "                                \"rτ\", rτ, \"rmη\", rmη, \"rvη\", rvη, \"rmz\", rmz, \"rvz\", rvz)"
   ],
   "outputs": [],
   "metadata": {}
  },
  {
   "cell_type": "code",
   "execution_count": 139,
   "source": [
    "# 13 11\n",
    "index = 13\n",
    "ar_1 = first.(speech_data[index][2])\n",
    "ar_2 = first.(noise_data[index][2])\n",
    "output = ar_1 + ar_2\n",
    "axis1 = @pgf Axis({xlabel=L\"t\",\n",
    "           ylabel=\"value\",\n",
    "           legend_pos = \"south east\",\n",
    "           legend_cell_align=\"{left}\",\n",
    "           grid = \"major\",\n",
    "           title=\"Dataset $(index)\",\n",
    "           legend_style = \"{nodes={scale=0.8, transform shape}}\",\n",
    "    },\n",
    "    Plot(\n",
    "        {only_marks,color=\"black\",opacity=0.8, mark=\"x\"},\n",
    "        Table(\n",
    "            {x = \"x\", y = \"y\"},\n",
    "             x = collect(1:n_samples), y = output\n",
    "        ),\n",
    "    ), LegendEntry(\"observations\"),\n",
    "    Plot({no_marks,color=\"orange\"}, Coordinates(collect(1:n_samples), ar_1)), LegendEntry(\"AR($(length(speech_data[index][1])))\"),\n",
    "    Plot({no_marks,color=\"blue!70\"}, Coordinates(collect(1:n_samples), ar_2)), LegendEntry(\"AR($(length(noise_data[index][1])))\"),\n",
    "    )\n",
    "pgfsave(\"tmp/coupled_AR_signal.pdf\", axis1)\n",
    "pgfsave(\"tikz/coupled_AR_signal.tikz\", axis1)"
   ],
   "outputs": [],
   "metadata": {}
  },
  {
   "cell_type": "code",
   "execution_count": 140,
   "source": [
    "axis2 = @pgf Axis({xlabel=L\"t\",\n",
    "           ylabel=\"value\",\n",
    "           legend_pos = \"south east\",\n",
    "           legend_cell_align=\"{left}\",\n",
    "           grid = \"major\",\n",
    "           title=\"Dataset $(index)\",\n",
    "           legend_style = \"{nodes={scale=0.8, transform shape}}\",\n",
    "    },\n",
    "    Plot({no_marks,color=\"orange\"}, Coordinates(collect(1:n_samples), ar_1)), LegendEntry(\"AR($(length(speech_data[index][1])))\"),\n",
    "    Plot({no_marks,color=\"black\", style =\"{dashed}\"}, Coordinates(collect(1:n_samples), rmz[index, :])),\n",
    "    Plot({\"name path=f\", no_marks,color=\"black\",opacity=0.2 }, Coordinates(collect(1:n_samples), rmz[index, :] .+  sqrt.(rvz[index, :]))),\n",
    "    Plot({\"name path=g\", no_marks, color=\"black\",opacity=0.2}, Coordinates(collect(1:n_samples), rmz[index, :] .-  sqrt.(rvz[index, :]))),\n",
    "    Plot({ thick, color = \"blue\", fill = \"black\", opacity = 0.2 },\n",
    "            raw\"fill between [of=f and g]\"), LegendEntry(\"inferred\")\n",
    "    )\n",
    "pgfsave(\"tmp/coupled_AR_1_inference.pdf\", axis2)\n",
    "pgfsave(\"tikz/coupled_AR_1_inference.tikz\", axis2)"
   ],
   "outputs": [],
   "metadata": {}
  },
  {
   "cell_type": "code",
   "execution_count": 141,
   "source": [
    "axis3 = @pgf Axis({xlabel=L\"t\",\n",
    "           ylabel=\"value\",\n",
    "           legend_pos = \"south east\",\n",
    "           legend_cell_align=\"{left}\",\n",
    "           grid = \"major\",\n",
    "           ymax = 7,\n",
    "           ymin = -7,\n",
    "           title=\"Dataset $(index)\",\n",
    "           legend_style = \"{nodes={scale=0.8, transform shape}}\",\n",
    "    },\n",
    "    Plot({no_marks,color=\"blue!70\"}, Coordinates(collect(1:n_samples), ar_2)), LegendEntry(\"AR($(length(noise_data[index][1])))\"),\n",
    "    Plot({no_marks,color=\"black\", style =\"{dashed}\"}, Coordinates(collect(1:n_samples), rmx[index, :])),\n",
    "    Plot({\"name path=f\", no_marks,color=\"black\",opacity=0.2 }, Coordinates(collect(1:n_samples), rmx[index, :] .+  sqrt.(rvx[index, :]))),\n",
    "    Plot({\"name path=g\", no_marks, color=\"black\",opacity=0.2}, Coordinates(collect(1:n_samples), rmx[index, :] .-  sqrt.(rvx[index, :]))),\n",
    "    Plot({ thick, color = \"blue\", fill = \"black\", opacity = 0.2 },\n",
    "            raw\"fill between [of=f and g]\"), LegendEntry(\"inferred\")\n",
    "    )\n",
    "pgfsave(\"tmp/coupled_AR_2_inference.pdf\", axis3)\n",
    "pgfsave(\"tikz/coupled_AR_2_inference.tikz\", axis3)"
   ],
   "outputs": [],
   "metadata": {}
  },
  {
   "cell_type": "code",
   "execution_count": 143,
   "source": [
    "# FE\n",
    "FE = collect(reshape((sum(fe, dims=1)'), (vmp_its, )))\n",
    "axis4 = @pgf Axis({xlabel=\"iteration\",\n",
    "                  ylabel=\"Free energy [nats]\",\n",
    "                  legend_pos = \"north east\",\n",
    "                  legend_cell_align=\"{left}\",\n",
    "                  scale = 1.0,\n",
    "                  grid = \"major\",\n",
    "    },\n",
    "    Plot({mark = \"o\", \"red\"}, Coordinates(collect(1:vmp_its), FE)), LegendEntry(\"FE\"))\n",
    "\n",
    "pgfsave(\"tmp/FE.pdf\", axis4)\n",
    "pgfsave(\"tikz/FE.tikz\", axis4)"
   ],
   "outputs": [],
   "metadata": {}
  },
  {
   "cell_type": "markdown",
   "source": [
    "### FE for context inference"
   ],
   "metadata": {}
  },
  {
   "cell_type": "code",
   "execution_count": 117,
   "source": [
    "using Random\n",
    "Random.seed!(0)\n",
    "\n",
    "AR_params = [\n",
    "                [[-0.6693908457426764], 1.0], [[0.10842053519608219, 0.7390494065227768], 0.5], \n",
    "                [[-0.678351427612566, -0.21078755359601015], 1.0], \n",
    "                [[0.7046791518736013, 0.11793145287291551, 0.044013757019289834, -0.3858860748183223], 0.1]\n",
    "            ]\n",
    "orders = map(x -> length(x), first.(AR_params))\n",
    "coefs = map(x -> length(x), last.(AR_params))\n",
    "\n",
    "n_datasets = 1000\n",
    "n_samples = 100\n",
    "\n",
    "ar_data = [generateAR(n_samples, rand(orders),  nvar=rand(coefs)) for i in 1:n_datasets];"
   ],
   "outputs": [],
   "metadata": {}
  },
  {
   "cell_type": "code",
   "execution_count": 108,
   "source": [
    "function cat_accuracy(y_pred, y_true)\n",
    "    return sum(y_pred .== y_true) / length(y_true)\n",
    "end"
   ],
   "outputs": [
    {
     "output_type": "execute_result",
     "data": {
      "text/plain": [
       "cat_accuracy (generic function with 1 method)"
      ]
     },
     "metadata": {},
     "execution_count": 108
    }
   ],
   "metadata": {}
  },
  {
   "cell_type": "code",
   "execution_count": 118,
   "source": [
    "# compute free energies of two models (gaussian for silent frame, lar for voiced frame)\n",
    "active_models = []\n",
    "active_scenes = []\n",
    "vmp_iter = 50\n",
    "models = convert(AbstractArray{Any}, map(_ -> lar_inference, orders))\n",
    "push!(models, inference_gaussian)\n",
    "priors = map(x -> Dict(:mθ => x[1], :vθ => diageye(length(x[1])), :aτ => 1e12, :bτ => 1.0, :aγ => 1.0, :bγ => x[2], :order => length(x[1])), AR_params)\n",
    "push!(priors, Dict(:aτ => 1e-4, :bτ => 1.0))\n",
    "ProgressMeter.@showprogress for j in 1:n_datasets\n",
    "    push!(active_scenes, length(ar_data[j][1]))\n",
    "    observations = first.(ar_data[j][2])\n",
    "    scene = model_selection(observations, \n",
    "                            models,\n",
    "                            priors,\n",
    "                            vmp_iter=vmp_iter)\n",
    "    push!(active_models, scene)\n",
    "end"
   ],
   "outputs": [
    {
     "output_type": "stream",
     "name": "stderr",
     "text": [
      "\u001b[32mProgress:  23%|█████████▎                               |  ETA: 0:26:12\u001b[39m"
     ]
    }
   ],
   "metadata": {}
  },
  {
   "cell_type": "code",
   "execution_count": 116,
   "source": [
    "cat_accuracy(active_scenes, active_models)"
   ],
   "outputs": [
    {
     "output_type": "execute_result",
     "data": {
      "text/plain": [
       "0.82"
      ]
     },
     "metadata": {},
     "execution_count": 116
    }
   ],
   "metadata": {}
  },
  {
   "cell_type": "code",
   "execution_count": 115,
   "source": [
    "scatter(active_models,markersize=10.0)\n",
    "scatter!(active_scenes, xlims=(1, 10), markersize=5.0)"
   ],
   "outputs": [
    {
     "output_type": "execute_result",
     "data": {
      "image/svg+xml": "<?xml version=\"1.0\" encoding=\"utf-8\"?>\n<svg xmlns=\"http://www.w3.org/2000/svg\" xmlns:xlink=\"http://www.w3.org/1999/xlink\" width=\"600\" height=\"400\" viewBox=\"0 0 2400 1600\">\n<defs>\n  <clipPath id=\"clip700\">\n    <rect x=\"0\" y=\"0\" width=\"2400\" height=\"1600\"/>\n  </clipPath>\n</defs>\n<path clip-path=\"url(#clip700)\" d=\"\nM0 1600 L2400 1600 L2400 0 L0 0  Z\n  \" fill=\"#ffffff\" fill-rule=\"evenodd\" fill-opacity=\"1\"/>\n<defs>\n  <clipPath id=\"clip701\">\n    <rect x=\"480\" y=\"0\" width=\"1681\" height=\"1600\"/>\n  </clipPath>\n</defs>\n<path clip-path=\"url(#clip700)\" d=\"\nM112.177 1486.45 L2352.76 1486.45 L2352.76 47.2441 L112.177 47.2441  Z\n  \" fill=\"#ffffff\" fill-rule=\"evenodd\" fill-opacity=\"1\"/>\n<defs>\n  <clipPath id=\"clip702\">\n    <rect x=\"112\" y=\"47\" width=\"2242\" height=\"1440\"/>\n  </clipPath>\n</defs>\n<polyline clip-path=\"url(#clip702)\" style=\"stroke:#000000; stroke-linecap:butt; stroke-linejoin:round; stroke-width:2; stroke-opacity:0.1; fill:none\" points=\"\n  361.13,1486.45 361.13,47.2441 \n  \"/>\n<polyline clip-path=\"url(#clip702)\" style=\"stroke:#000000; stroke-linecap:butt; stroke-linejoin:round; stroke-width:2; stroke-opacity:0.1; fill:none\" points=\"\n  859.037,1486.45 859.037,47.2441 \n  \"/>\n<polyline clip-path=\"url(#clip702)\" style=\"stroke:#000000; stroke-linecap:butt; stroke-linejoin:round; stroke-width:2; stroke-opacity:0.1; fill:none\" points=\"\n  1356.94,1486.45 1356.94,47.2441 \n  \"/>\n<polyline clip-path=\"url(#clip702)\" style=\"stroke:#000000; stroke-linecap:butt; stroke-linejoin:round; stroke-width:2; stroke-opacity:0.1; fill:none\" points=\"\n  1854.85,1486.45 1854.85,47.2441 \n  \"/>\n<polyline clip-path=\"url(#clip702)\" style=\"stroke:#000000; stroke-linecap:butt; stroke-linejoin:round; stroke-width:2; stroke-opacity:0.1; fill:none\" points=\"\n  2352.76,1486.45 2352.76,47.2441 \n  \"/>\n<polyline clip-path=\"url(#clip700)\" style=\"stroke:#000000; stroke-linecap:butt; stroke-linejoin:round; stroke-width:4; stroke-opacity:1; fill:none\" points=\"\n  112.177,1486.45 2352.76,1486.45 \n  \"/>\n<polyline clip-path=\"url(#clip700)\" style=\"stroke:#000000; stroke-linecap:butt; stroke-linejoin:round; stroke-width:4; stroke-opacity:1; fill:none\" points=\"\n  361.13,1486.45 361.13,1467.55 \n  \"/>\n<polyline clip-path=\"url(#clip700)\" style=\"stroke:#000000; stroke-linecap:butt; stroke-linejoin:round; stroke-width:4; stroke-opacity:1; fill:none\" points=\"\n  859.037,1486.45 859.037,1467.55 \n  \"/>\n<polyline clip-path=\"url(#clip700)\" style=\"stroke:#000000; stroke-linecap:butt; stroke-linejoin:round; stroke-width:4; stroke-opacity:1; fill:none\" points=\"\n  1356.94,1486.45 1356.94,1467.55 \n  \"/>\n<polyline clip-path=\"url(#clip700)\" style=\"stroke:#000000; stroke-linecap:butt; stroke-linejoin:round; stroke-width:4; stroke-opacity:1; fill:none\" points=\"\n  1854.85,1486.45 1854.85,1467.55 \n  \"/>\n<polyline clip-path=\"url(#clip700)\" style=\"stroke:#000000; stroke-linecap:butt; stroke-linejoin:round; stroke-width:4; stroke-opacity:1; fill:none\" points=\"\n  2352.76,1486.45 2352.76,1467.55 \n  \"/>\n<path clip-path=\"url(#clip700)\" d=\"M355.783 1543.18 L372.103 1543.18 L372.103 1547.12 L350.158 1547.12 L350.158 1543.18 Q352.82 1540.43 357.404 1535.8 Q362.01 1531.15 363.191 1529.81 Q365.436 1527.28 366.316 1525.55 Q367.218 1523.79 367.218 1522.1 Q367.218 1519.34 365.274 1517.61 Q363.353 1515.87 360.251 1515.87 Q358.052 1515.87 355.598 1516.63 Q353.167 1517.4 350.39 1518.95 L350.39 1514.23 Q353.214 1513.09 355.667 1512.51 Q358.121 1511.93 360.158 1511.93 Q365.528 1511.93 368.723 1514.62 Q371.917 1517.31 371.917 1521.8 Q371.917 1523.93 371.107 1525.85 Q370.32 1527.74 368.214 1530.34 Q367.635 1531.01 364.533 1534.23 Q361.431 1537.42 355.783 1543.18 Z\" fill=\"#000000\" fill-rule=\"evenodd\" fill-opacity=\"1\" /><path clip-path=\"url(#clip700)\" d=\"M862.046 1516.63 L850.241 1535.08 L862.046 1535.08 L862.046 1516.63 M860.819 1512.56 L866.699 1512.56 L866.699 1535.08 L871.629 1535.08 L871.629 1538.97 L866.699 1538.97 L866.699 1547.12 L862.046 1547.12 L862.046 1538.97 L846.444 1538.97 L846.444 1534.46 L860.819 1512.56 Z\" fill=\"#000000\" fill-rule=\"evenodd\" fill-opacity=\"1\" /><path clip-path=\"url(#clip700)\" d=\"M1357.35 1527.98 Q1354.2 1527.98 1352.35 1530.13 Q1350.52 1532.28 1350.52 1536.03 Q1350.52 1539.76 1352.35 1541.93 Q1354.2 1544.09 1357.35 1544.09 Q1360.5 1544.09 1362.33 1541.93 Q1364.18 1539.76 1364.18 1536.03 Q1364.18 1532.28 1362.33 1530.13 Q1360.5 1527.98 1357.35 1527.98 M1366.63 1513.32 L1366.63 1517.58 Q1364.87 1516.75 1363.07 1516.31 Q1361.28 1515.87 1359.52 1515.87 Q1354.89 1515.87 1352.44 1519 Q1350.01 1522.12 1349.66 1528.44 Q1351.03 1526.43 1353.09 1525.36 Q1355.15 1524.27 1357.63 1524.27 Q1362.83 1524.27 1365.84 1527.44 Q1368.88 1530.59 1368.88 1536.03 Q1368.88 1541.36 1365.73 1544.57 Q1362.58 1547.79 1357.35 1547.79 Q1351.35 1547.79 1348.18 1543.21 Q1345.01 1538.6 1345.01 1529.87 Q1345.01 1521.68 1348.9 1516.82 Q1352.79 1511.93 1359.34 1511.93 Q1361.1 1511.93 1362.88 1512.28 Q1364.69 1512.63 1366.63 1513.32 Z\" fill=\"#000000\" fill-rule=\"evenodd\" fill-opacity=\"1\" /><path clip-path=\"url(#clip700)\" d=\"M1854.85 1530.71 Q1851.52 1530.71 1849.59 1532.49 Q1847.7 1534.27 1847.7 1537.4 Q1847.7 1540.52 1849.59 1542.31 Q1851.52 1544.09 1854.85 1544.09 Q1858.18 1544.09 1860.1 1542.31 Q1862.03 1540.5 1862.03 1537.4 Q1862.03 1534.27 1860.1 1532.49 Q1858.21 1530.71 1854.85 1530.71 M1850.17 1528.72 Q1847.16 1527.98 1845.47 1525.92 Q1843.81 1523.86 1843.81 1520.89 Q1843.81 1516.75 1846.75 1514.34 Q1849.71 1511.93 1854.85 1511.93 Q1860.01 1511.93 1862.95 1514.34 Q1865.89 1516.75 1865.89 1520.89 Q1865.89 1523.86 1864.2 1525.92 Q1862.53 1527.98 1859.55 1528.72 Q1862.93 1529.5 1864.8 1531.8 Q1866.7 1534.09 1866.7 1537.4 Q1866.7 1542.42 1863.62 1545.11 Q1860.57 1547.79 1854.85 1547.79 Q1849.13 1547.79 1846.05 1545.11 Q1843 1542.42 1843 1537.4 Q1843 1534.09 1844.9 1531.8 Q1846.79 1529.5 1850.17 1528.72 M1848.46 1521.33 Q1848.46 1524.02 1850.13 1525.52 Q1851.82 1527.03 1854.85 1527.03 Q1857.86 1527.03 1859.55 1525.52 Q1861.26 1524.02 1861.26 1521.33 Q1861.26 1518.65 1859.55 1517.14 Q1857.86 1515.64 1854.85 1515.64 Q1851.82 1515.64 1850.13 1517.14 Q1848.46 1518.65 1848.46 1521.33 Z\" fill=\"#000000\" fill-rule=\"evenodd\" fill-opacity=\"1\" /><path clip-path=\"url(#clip700)\" d=\"M2327.44 1543.18 L2335.08 1543.18 L2335.08 1516.82 L2326.77 1518.49 L2326.77 1514.23 L2335.04 1512.56 L2339.71 1512.56 L2339.71 1543.18 L2347.35 1543.18 L2347.35 1547.12 L2327.44 1547.12 L2327.44 1543.18 Z\" fill=\"#000000\" fill-rule=\"evenodd\" fill-opacity=\"1\" /><path clip-path=\"url(#clip700)\" d=\"M2366.8 1515.64 Q2363.18 1515.64 2361.36 1519.2 Q2359.55 1522.75 2359.55 1529.87 Q2359.55 1536.98 2361.36 1540.55 Q2363.18 1544.09 2366.8 1544.09 Q2370.43 1544.09 2372.23 1540.55 Q2374.06 1536.98 2374.06 1529.87 Q2374.06 1522.75 2372.23 1519.2 Q2370.43 1515.64 2366.8 1515.64 M2366.8 1511.93 Q2372.61 1511.93 2375.66 1516.54 Q2378.74 1521.12 2378.74 1529.87 Q2378.74 1538.6 2375.66 1543.21 Q2372.61 1547.79 2366.8 1547.79 Q2360.99 1547.79 2357.91 1543.21 Q2354.85 1538.6 2354.85 1529.87 Q2354.85 1521.12 2357.91 1516.54 Q2360.99 1511.93 2366.8 1511.93 Z\" fill=\"#000000\" fill-rule=\"evenodd\" fill-opacity=\"1\" /><polyline clip-path=\"url(#clip702)\" style=\"stroke:#000000; stroke-linecap:butt; stroke-linejoin:round; stroke-width:2; stroke-opacity:0.1; fill:none\" points=\"\n  112.177,1445.72 2352.76,1445.72 \n  \"/>\n<polyline clip-path=\"url(#clip702)\" style=\"stroke:#000000; stroke-linecap:butt; stroke-linejoin:round; stroke-width:2; stroke-opacity:0.1; fill:none\" points=\"\n  112.177,993.136 2352.76,993.136 \n  \"/>\n<polyline clip-path=\"url(#clip702)\" style=\"stroke:#000000; stroke-linecap:butt; stroke-linejoin:round; stroke-width:2; stroke-opacity:0.1; fill:none\" points=\"\n  112.177,540.556 2352.76,540.556 \n  \"/>\n<polyline clip-path=\"url(#clip702)\" style=\"stroke:#000000; stroke-linecap:butt; stroke-linejoin:round; stroke-width:2; stroke-opacity:0.1; fill:none\" points=\"\n  112.177,87.9763 2352.76,87.9763 \n  \"/>\n<polyline clip-path=\"url(#clip700)\" style=\"stroke:#000000; stroke-linecap:butt; stroke-linejoin:round; stroke-width:4; stroke-opacity:1; fill:none\" points=\"\n  112.177,1486.45 112.177,47.2441 \n  \"/>\n<polyline clip-path=\"url(#clip700)\" style=\"stroke:#000000; stroke-linecap:butt; stroke-linejoin:round; stroke-width:4; stroke-opacity:1; fill:none\" points=\"\n  112.177,1445.72 131.075,1445.72 \n  \"/>\n<polyline clip-path=\"url(#clip700)\" style=\"stroke:#000000; stroke-linecap:butt; stroke-linejoin:round; stroke-width:4; stroke-opacity:1; fill:none\" points=\"\n  112.177,993.136 131.075,993.136 \n  \"/>\n<polyline clip-path=\"url(#clip700)\" style=\"stroke:#000000; stroke-linecap:butt; stroke-linejoin:round; stroke-width:4; stroke-opacity:1; fill:none\" points=\"\n  112.177,540.556 131.075,540.556 \n  \"/>\n<polyline clip-path=\"url(#clip700)\" style=\"stroke:#000000; stroke-linecap:butt; stroke-linejoin:round; stroke-width:4; stroke-opacity:1; fill:none\" points=\"\n  112.177,87.9763 131.075,87.9763 \n  \"/>\n<path clip-path=\"url(#clip700)\" d=\"M56.2699 1459.06 L63.9087 1459.06 L63.9087 1432.69 L55.5986 1434.36 L55.5986 1430.1 L63.8624 1428.44 L68.5383 1428.44 L68.5383 1459.06 L76.1772 1459.06 L76.1772 1463 L56.2699 1463 L56.2699 1459.06 Z\" fill=\"#000000\" fill-rule=\"evenodd\" fill-opacity=\"1\" /><path clip-path=\"url(#clip700)\" d=\"M59.8578 1006.48 L76.1772 1006.48 L76.1772 1010.42 L54.2328 1010.42 L54.2328 1006.48 Q56.8949 1003.73 61.4782 999.097 Q66.0846 994.444 67.2652 993.101 Q69.5105 990.578 70.3902 988.842 Q71.2929 987.083 71.2929 985.393 Q71.2929 982.638 69.3485 980.902 Q67.4272 979.166 64.3254 979.166 Q62.1263 979.166 59.6726 979.93 Q57.2421 980.694 54.4643 982.245 L54.4643 977.523 Q57.2884 976.388 59.7421 975.81 Q62.1958 975.231 64.2328 975.231 Q69.6031 975.231 72.7976 977.916 Q75.992 980.601 75.992 985.092 Q75.992 987.222 75.1818 989.143 Q74.3948 991.041 72.2883 993.634 Q71.7096 994.305 68.6078 997.522 Q65.5059 1000.72 59.8578 1006.48 Z\" fill=\"#000000\" fill-rule=\"evenodd\" fill-opacity=\"1\" /><path clip-path=\"url(#clip700)\" d=\"M69.0476 539.202 Q72.404 539.92 74.279 542.188 Q76.1772 544.457 76.1772 547.79 Q76.1772 552.906 72.6587 555.706 Q69.1402 558.507 62.6587 558.507 Q60.4828 558.507 58.168 558.068 Q55.8764 557.651 53.4227 556.794 L53.4227 552.281 Q55.3671 553.415 57.6819 553.994 Q59.9967 554.572 62.5198 554.572 Q66.918 554.572 69.2096 552.836 Q71.5244 551.1 71.5244 547.79 Q71.5244 544.734 69.3717 543.021 Q67.242 541.285 63.4226 541.285 L59.3949 541.285 L59.3949 537.443 L63.6078 537.443 Q67.0569 537.443 68.8855 536.077 Q70.7142 534.688 70.7142 532.095 Q70.7142 529.433 68.8161 528.021 Q66.9411 526.586 63.4226 526.586 Q61.5013 526.586 59.3023 527.003 Q57.1032 527.42 54.4643 528.299 L54.4643 524.133 Q57.1264 523.392 59.4412 523.021 Q61.7791 522.651 63.8393 522.651 Q69.1633 522.651 72.2652 525.082 Q75.367 527.489 75.367 531.609 Q75.367 534.48 73.7235 536.47 Q72.08 538.438 69.0476 539.202 Z\" fill=\"#000000\" fill-rule=\"evenodd\" fill-opacity=\"1\" /><path clip-path=\"url(#clip700)\" d=\"M66.5939 74.7703 L54.7884 93.2193 L66.5939 93.2193 L66.5939 74.7703 M65.367 70.6963 L71.2466 70.6963 L71.2466 93.2193 L76.1772 93.2193 L76.1772 97.1082 L71.2466 97.1082 L71.2466 105.256 L66.5939 105.256 L66.5939 97.1082 L50.9921 97.1082 L50.9921 92.5943 L65.367 70.6963 Z\" fill=\"#000000\" fill-rule=\"evenodd\" fill-opacity=\"1\" /><circle clip-path=\"url(#clip702)\" cx=\"112.177\" cy=\"993.136\" r=\"36\" fill=\"#009af9\" fill-rule=\"evenodd\" fill-opacity=\"1\" stroke=\"#000000\" stroke-opacity=\"1\" stroke-width=\"3.2\"/>\n<circle clip-path=\"url(#clip702)\" cx=\"361.13\" cy=\"993.136\" r=\"36\" fill=\"#009af9\" fill-rule=\"evenodd\" fill-opacity=\"1\" stroke=\"#000000\" stroke-opacity=\"1\" stroke-width=\"3.2\"/>\n<circle clip-path=\"url(#clip702)\" cx=\"610.084\" cy=\"87.9763\" r=\"36\" fill=\"#009af9\" fill-rule=\"evenodd\" fill-opacity=\"1\" stroke=\"#000000\" stroke-opacity=\"1\" stroke-width=\"3.2\"/>\n<circle clip-path=\"url(#clip702)\" cx=\"859.037\" cy=\"87.9763\" r=\"36\" fill=\"#009af9\" fill-rule=\"evenodd\" fill-opacity=\"1\" stroke=\"#000000\" stroke-opacity=\"1\" stroke-width=\"3.2\"/>\n<circle clip-path=\"url(#clip702)\" cx=\"1107.99\" cy=\"993.136\" r=\"36\" fill=\"#009af9\" fill-rule=\"evenodd\" fill-opacity=\"1\" stroke=\"#000000\" stroke-opacity=\"1\" stroke-width=\"3.2\"/>\n<circle clip-path=\"url(#clip702)\" cx=\"1356.94\" cy=\"1445.72\" r=\"36\" fill=\"#009af9\" fill-rule=\"evenodd\" fill-opacity=\"1\" stroke=\"#000000\" stroke-opacity=\"1\" stroke-width=\"3.2\"/>\n<circle clip-path=\"url(#clip702)\" cx=\"1605.9\" cy=\"993.136\" r=\"36\" fill=\"#009af9\" fill-rule=\"evenodd\" fill-opacity=\"1\" stroke=\"#000000\" stroke-opacity=\"1\" stroke-width=\"3.2\"/>\n<circle clip-path=\"url(#clip702)\" cx=\"1854.85\" cy=\"87.9763\" r=\"36\" fill=\"#009af9\" fill-rule=\"evenodd\" fill-opacity=\"1\" stroke=\"#000000\" stroke-opacity=\"1\" stroke-width=\"3.2\"/>\n<circle clip-path=\"url(#clip702)\" cx=\"2103.8\" cy=\"993.136\" r=\"36\" fill=\"#009af9\" fill-rule=\"evenodd\" fill-opacity=\"1\" stroke=\"#000000\" stroke-opacity=\"1\" stroke-width=\"3.2\"/>\n<circle clip-path=\"url(#clip702)\" cx=\"2352.76\" cy=\"993.136\" r=\"36\" fill=\"#009af9\" fill-rule=\"evenodd\" fill-opacity=\"1\" stroke=\"#000000\" stroke-opacity=\"1\" stroke-width=\"3.2\"/>\n<circle clip-path=\"url(#clip702)\" cx=\"112.177\" cy=\"993.136\" r=\"18\" fill=\"#e26f46\" fill-rule=\"evenodd\" fill-opacity=\"1\" stroke=\"#000000\" stroke-opacity=\"1\" stroke-width=\"3.2\"/>\n<circle clip-path=\"url(#clip702)\" cx=\"361.13\" cy=\"993.136\" r=\"18\" fill=\"#e26f46\" fill-rule=\"evenodd\" fill-opacity=\"1\" stroke=\"#000000\" stroke-opacity=\"1\" stroke-width=\"3.2\"/>\n<circle clip-path=\"url(#clip702)\" cx=\"610.084\" cy=\"87.9763\" r=\"18\" fill=\"#e26f46\" fill-rule=\"evenodd\" fill-opacity=\"1\" stroke=\"#000000\" stroke-opacity=\"1\" stroke-width=\"3.2\"/>\n<circle clip-path=\"url(#clip702)\" cx=\"859.037\" cy=\"87.9763\" r=\"18\" fill=\"#e26f46\" fill-rule=\"evenodd\" fill-opacity=\"1\" stroke=\"#000000\" stroke-opacity=\"1\" stroke-width=\"3.2\"/>\n<circle clip-path=\"url(#clip702)\" cx=\"1107.99\" cy=\"993.136\" r=\"18\" fill=\"#e26f46\" fill-rule=\"evenodd\" fill-opacity=\"1\" stroke=\"#000000\" stroke-opacity=\"1\" stroke-width=\"3.2\"/>\n<circle clip-path=\"url(#clip702)\" cx=\"1356.94\" cy=\"1445.72\" r=\"18\" fill=\"#e26f46\" fill-rule=\"evenodd\" fill-opacity=\"1\" stroke=\"#000000\" stroke-opacity=\"1\" stroke-width=\"3.2\"/>\n<circle clip-path=\"url(#clip702)\" cx=\"1605.9\" cy=\"993.136\" r=\"18\" fill=\"#e26f46\" fill-rule=\"evenodd\" fill-opacity=\"1\" stroke=\"#000000\" stroke-opacity=\"1\" stroke-width=\"3.2\"/>\n<circle clip-path=\"url(#clip702)\" cx=\"1854.85\" cy=\"87.9763\" r=\"18\" fill=\"#e26f46\" fill-rule=\"evenodd\" fill-opacity=\"1\" stroke=\"#000000\" stroke-opacity=\"1\" stroke-width=\"3.2\"/>\n<circle clip-path=\"url(#clip702)\" cx=\"2103.8\" cy=\"993.136\" r=\"18\" fill=\"#e26f46\" fill-rule=\"evenodd\" fill-opacity=\"1\" stroke=\"#000000\" stroke-opacity=\"1\" stroke-width=\"3.2\"/>\n<circle clip-path=\"url(#clip702)\" cx=\"2352.76\" cy=\"993.136\" r=\"18\" fill=\"#e26f46\" fill-rule=\"evenodd\" fill-opacity=\"1\" stroke=\"#000000\" stroke-opacity=\"1\" stroke-width=\"3.2\"/>\n<path clip-path=\"url(#clip700)\" d=\"\nM1976.69 250.738 L2278.07 250.738 L2278.07 95.2176 L1976.69 95.2176  Z\n  \" fill=\"#ffffff\" fill-rule=\"evenodd\" fill-opacity=\"1\"/>\n<polyline clip-path=\"url(#clip700)\" style=\"stroke:#000000; stroke-linecap:butt; stroke-linejoin:round; stroke-width:4; stroke-opacity:1; fill:none\" points=\"\n  1976.69,250.738 2278.07,250.738 2278.07,95.2176 1976.69,95.2176 1976.69,250.738 \n  \"/>\n<circle clip-path=\"url(#clip700)\" cx=\"2076.27\" cy=\"147.058\" r=\"23\" fill=\"#009af9\" fill-rule=\"evenodd\" fill-opacity=\"1\" stroke=\"#000000\" stroke-opacity=\"1\" stroke-width=\"2.048\"/>\n<path clip-path=\"url(#clip700)\" d=\"M2189.69 166.745 Q2187.89 171.375 2186.17 172.787 Q2184.46 174.199 2181.59 174.199 L2178.19 174.199 L2178.19 170.634 L2180.69 170.634 Q2182.45 170.634 2183.42 169.8 Q2184.39 168.967 2185.57 165.865 L2186.34 163.921 L2175.85 138.412 L2180.36 138.412 L2188.46 158.689 L2196.57 138.412 L2201.08 138.412 L2189.69 166.745 Z\" fill=\"#000000\" fill-rule=\"evenodd\" fill-opacity=\"1\" /><path clip-path=\"url(#clip700)\" d=\"M2208.37 160.402 L2216.01 160.402 L2216.01 134.037 L2207.7 135.703 L2207.7 131.444 L2215.96 129.778 L2220.64 129.778 L2220.64 160.402 L2228.28 160.402 L2228.28 164.338 L2208.37 164.338 L2208.37 160.402 Z\" fill=\"#000000\" fill-rule=\"evenodd\" fill-opacity=\"1\" /><circle clip-path=\"url(#clip700)\" cx=\"2076.27\" cy=\"198.898\" r=\"23\" fill=\"#e26f46\" fill-rule=\"evenodd\" fill-opacity=\"1\" stroke=\"#000000\" stroke-opacity=\"1\" stroke-width=\"4.096\"/>\n<path clip-path=\"url(#clip700)\" d=\"M2189.69 218.585 Q2187.89 223.215 2186.17 224.627 Q2184.46 226.039 2181.59 226.039 L2178.19 226.039 L2178.19 222.474 L2180.69 222.474 Q2182.45 222.474 2183.42 221.64 Q2184.39 220.807 2185.57 217.705 L2186.34 215.761 L2175.85 190.252 L2180.36 190.252 L2188.46 210.529 L2196.57 190.252 L2201.08 190.252 L2189.69 218.585 Z\" fill=\"#000000\" fill-rule=\"evenodd\" fill-opacity=\"1\" /><path clip-path=\"url(#clip700)\" d=\"M2211.59 212.242 L2227.91 212.242 L2227.91 216.178 L2205.96 216.178 L2205.96 212.242 Q2208.63 209.488 2213.21 204.858 Q2217.82 200.205 2219 198.863 Q2221.24 196.34 2222.12 194.604 Q2223.02 192.844 2223.02 191.155 Q2223.02 188.4 2221.08 186.664 Q2219.16 184.928 2216.06 184.928 Q2213.86 184.928 2211.4 185.692 Q2208.97 186.455 2206.2 188.006 L2206.2 183.284 Q2209.02 182.15 2211.47 181.571 Q2213.93 180.993 2215.96 180.993 Q2221.33 180.993 2224.53 183.678 Q2227.72 186.363 2227.72 190.854 Q2227.72 192.983 2226.91 194.905 Q2226.13 196.803 2224.02 199.395 Q2223.44 200.067 2220.34 203.284 Q2217.24 206.479 2211.59 212.242 Z\" fill=\"#000000\" fill-rule=\"evenodd\" fill-opacity=\"1\" /></svg>\n"
     },
     "metadata": {},
     "execution_count": 115
    }
   ],
   "metadata": {}
  }
 ],
 "metadata": {
  "kernelspec": {
   "display_name": "Julia 1.6.0",
   "language": "julia",
   "name": "julia-1.6"
  },
  "language_info": {
   "name": "julia",
   "version": "1.6.0",
   "mimetype": "application/julia",
   "file_extension": ".jl"
  }
 },
 "nbformat": 4,
 "nbformat_minor": 5
}