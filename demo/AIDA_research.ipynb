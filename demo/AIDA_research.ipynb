{
 "cells": [
  {
   "cell_type": "markdown",
   "id": "celtic-ownership",
   "metadata": {},
   "source": [
    "# Active Inference Design Agent (research)"
   ]
  },
  {
   "cell_type": "code",
   "execution_count": 1,
   "id": "enormous-volleyball",
   "metadata": {},
   "outputs": [],
   "source": [
    "using JLD\n",
    "using Distributions\n",
    "using LinearAlgebra\n",
    "using GraphPPL\n",
    "using ReactiveMP\n",
    "using Random \n",
    "using WAV\n",
    "using Plots\n",
    "using ImageCore\n",
    "using AIDA\n",
    "using Parameters\n",
    "import ProgressMeter"
   ]
  },
  {
   "cell_type": "markdown",
   "id": "focal-format",
   "metadata": {},
   "source": [
    "In this demo we will work with two different contexts (environemtns): babble and train noises. \n",
    "\n",
    "You can think of a user who keeps wandering around a train station: sometimes train arrives and he/she hears the train noises. When there is no train arriving to the platform, the user hears the babble from people waiting for the train.\n",
    "When someone starts talking to the user he would (maybe) prefer to damp the environmental noise and focus only on the speaker.\n",
    "\n",
    "Another possible scenario you can think of is the user who steps out of the train and goes to the bar, where people produce babble noise :D "
   ]
  },
  {
   "cell_type": "markdown",
   "id": "amateur-template",
   "metadata": {},
   "source": [
    "## Let's obtain priors for the environment"
   ]
  },
  {
   "cell_type": "code",
   "execution_count": 2,
   "id": "still-acrobat",
   "metadata": {},
   "outputs": [],
   "source": [
    "training_dir = \"../sound/AIDA/training/\"\n",
    "contexts = [\"babble\", \"train\"]\n",
    "input_SNRs = [\"0dB\", \"5dB\", \"10dB\"]\n",
    "input_fn = \"sp01\";"
   ]
  },
  {
   "cell_type": "markdown",
   "id": "circular-vietnam",
   "metadata": {},
   "source": [
    "To make our model identifiabile, we would like to obtain priors for the environmental noises. To do this, we use Voice-Activity-Detection (VAD) to find the silent segments (with no speech). When those frames are identified, we fit them to AR model of order 2 to learn the parameters of AR.\n",
    "\n",
    "Surely, you can obtain the priors based on different logic. (to discuss (1) it doesn't have to be AR, (2) it doesn't have to be VAD)"
   ]
  },
  {
   "cell_type": "code",
   "execution_count": 3,
   "id": "exact-wayne",
   "metadata": {},
   "outputs": [],
   "source": [
    "snr_id = 2\n",
    "wavs = map(x -> wavread(\"$(training_dir)$(x)/$(input_SNRs[snr_id])/$(input_fn)_$(x)_sn$(input_SNRs[snr_id][1:end-2]).wav\"), contexts)\n",
    "signals = first.(wavs)\n",
    "fs = getindex.(wavs, 2)[1]\n",
    "seg_signals = get_frames.(signals, fs);\n",
    "totsegs = size.(seg_signals, 1);"
   ]
  },
  {
   "cell_type": "markdown",
   "id": "israeli-essay",
   "metadata": {},
   "source": [
    "### VAD block"
   ]
  },
  {
   "cell_type": "code",
   "execution_count": 30,
   "id": "passing-grenada",
   "metadata": {},
   "outputs": [],
   "source": [
    "@unpack θ, γ, context = JLD.load(\"../src/memory/context_params/context_babble_$(input_SNRs[snr_id]).jld\")\n",
    "# prior for babble noise\n",
    "bblmη = mean(θ)\n",
    "bblvη = cov(θ)\n",
    "bblτ  = (shape(γ), rate(γ));"
   ]
  },
  {
   "cell_type": "code",
   "execution_count": 31,
   "id": "paperback-synthetic",
   "metadata": {},
   "outputs": [],
   "source": [
    "@unpack θ, γ, context = JLD.load(\"../src/memory/context_params/context_train_$(input_SNRs[snr_id]).jld\")\n",
    "# prior for train noise\n",
    "trmη = mean(θ)\n",
    "trvη = cov(θ)\n",
    "trτ  = (shape(γ), rate(γ));"
   ]
  },
  {
   "cell_type": "markdown",
   "id": "automotive-programmer",
   "metadata": {},
   "source": [
    "You can skip this entire block if you used priors from the above cell."
   ]
  },
  {
   "cell_type": "code",
   "execution_count": 17,
   "id": "compound-clinton",
   "metadata": {},
   "outputs": [
    {
     "name": "stderr",
     "output_type": "stream",
     "text": [
      "\u001b[32mProgress: 100%|█████████████████████████████████████████| Time: 0:05:27\u001b[39m\n",
      "\u001b[32mProgress: 100%|█████████████████████████████████████████| Time: 0:05:14\u001b[39m\n"
     ]
    }
   ],
   "source": [
    "# compute free energies of two models (gaussian for silent frame, lar for voiced frame)\n",
    "vads = map(_ -> [], contexts)\n",
    "ar_order = 10\n",
    "vmp_iter = 50\n",
    "for c_num in 1:length(contexts)\n",
    "    ProgressMeter.@showprogress for segnum in 1:totsegs[c_num]\n",
    "        vad = model_selection(seg_signals[c_num][segnum, :], \n",
    "                              [lar_inference, inference_gaussian],\n",
    "                              [Dict(:aτ => 1e-4, :bτ => 1e-4, :aγ => 1e-4, :bγ => 1e-4, :order => ar_order), \n",
    "                               Dict(:aτ => 1e-4, :bτ => 1e-4)],\n",
    "                              vmp_iter=vmp_iter)\n",
    "        push!(vads[c_num], vad)\n",
    "    end\n",
    "end"
   ]
  },
  {
   "cell_type": "code",
   "execution_count": 25,
   "id": "religious-system",
   "metadata": {},
   "outputs": [
    {
     "name": "stderr",
     "output_type": "stream",
     "text": [
      "\u001b[32mProgress: 100%|█████████████████████████████████████████| Time: 0:00:03\u001b[39m\n"
     ]
    },
    {
     "name": "stdout",
     "output_type": "stream",
     "text": [
      "Context-babble [1.0526046070458872, -0.4232782070078879], [0.0002274117502010668 -0.0001681986150731712; -0.0001681986150731712 0.00022744882724672668], 5144.5, 1.5403421819348209\n"
     ]
    },
    {
     "name": "stderr",
     "output_type": "stream",
     "text": [
      "\u001b[32mProgress: 100%|█████████████████████████████████████████| Time: 0:00:05\u001b[39m\n"
     ]
    },
    {
     "name": "stdout",
     "output_type": "stream",
     "text": [
      "Context-train [0.497019359872337, -0.15475030421215585], [8.002457029876353e-5 -3.4446944242771045e-5; -3.4446944242771045e-5 8.003099010678723e-5], 7679.5, 4.857063799328507\n"
     ]
    }
   ],
   "source": [
    "for c_num in 1:length(contexts)\n",
    "    context_seg = seg_signals[c_num]\n",
    "    totseg = totsegs[c_num]\n",
    "    # find voiced and silent frames\n",
    "    vsegs = findall(isequal(1), vads[c_num]) # voiced frames\n",
    "    ssegs = findall(isequal(2), vads[c_num]); # silent frames\n",
    "    signal = get_signal(hcat([context_seg[sseg, :] for sseg in ssegs]...)', fs)\n",
    "    signal = filter!(a -> a != 0.0, signal)\n",
    "    inputs, outputs = ar_ssm(signal, 2)\n",
    "    γ, θ, fe = ar_inference(inputs, outputs, 2, 10, 1.0, 1.0)\n",
    "    println(\"Context-$(contexts[c_num]) $(mean(θ)), $(cov(θ)), $(shape(γ)), $(rate(γ))\")\n",
    "    JLD.save(\"../src/memory/context_params/context_$(contexts[c_num])_$(input_SNRs[snr_id]).jld\", \"θ\", θ, \"γ\", γ, \"context\", contexts[c_num])\n",
    "end"
   ]
  },
  {
   "cell_type": "markdown",
   "id": "former-officer",
   "metadata": {},
   "source": [
    "## Source seperation\n",
    "When priors for the contexts are indentified, we can run noise reduction algorithm based on coupled AR: AR_speech + AR_envrionment = output. This algorithm seperates speech (**z**) and noise (**x**)\n",
    "\n",
    "We will split our dataset into training and test set. We use signals from training set to learn the mapping function between the gains proposed by agent and aprraisals provided by user. Bare in mind that this split is not necessary and in theory we can get along without it."
   ]
  },
  {
   "cell_type": "code",
   "execution_count": 34,
   "id": "concrete-poverty",
   "metadata": {},
   "outputs": [],
   "source": [
    "# informative\n",
    "# map \"static\" priors to the corresponding matrices with equal element\n",
    "bblmη_arr, bblvη_arr, bblτ_arr = prior_to_priors(bblmη, bblvη, bblτ, totsegs[1], 2);\n",
    "trmη_arr, trvη_arr, trτ_arr = prior_to_priors(trmη, trvη, trτ, totsegs[2], 2);"
   ]
  },
  {
   "cell_type": "code",
   "execution_count": 33,
   "id": "unusual-custom",
   "metadata": {},
   "outputs": [],
   "source": [
    "# weakly informative\n",
    "bblmη_arr, bblvη_arr, bblτ_arr = prior_to_priors(zeros(2), diageye(2), bblτ, totsegs[1], 2);\n",
    "trmη_arr, trvη_arr, trτ_arr = prior_to_priors(zeros(2), diageye(2), trτ, totsegs[2], 2);"
   ]
  },
  {
   "cell_type": "code",
   "execution_count": 40,
   "id": "treated-motivation",
   "metadata": {},
   "outputs": [],
   "source": [
    "# uninfomrmative informative\n",
    "bblmη_arr, bblvη_arr, bblτ_arr = prior_to_priors(zeros(2), diageye(2), (100.0, 0.15), totsegs[1], 2);\n",
    "trmη_arr, trvη_arr, trτ_arr = deepcopy(bblmη_arr), deepcopy(bblvη_arr), deepcopy(bblτ_arr);"
   ]
  },
  {
   "cell_type": "code",
   "execution_count": 41,
   "id": "forbidden-livestock",
   "metadata": {},
   "outputs": [],
   "source": [
    "db = \"5dB\"\n",
    "training_files = vcat(get_files.(map(x -> \"../sound/AIDA/training/$(x)/$(db)\", contexts))...);"
   ]
  },
  {
   "cell_type": "code",
   "execution_count": 8,
   "id": "optical-halloween",
   "metadata": {},
   "outputs": [],
   "source": [
    "training_files = filter!(x -> contains(x, \"wav\"), training_files);"
   ]
  },
  {
   "cell_type": "code",
   "execution_count": 23,
   "id": "latest-medicaid",
   "metadata": {},
   "outputs": [
    {
     "name": "stdout",
     "output_type": "stream",
     "text": [
      "../sound/AIDA/training/babble/5dB/sp08_babble_sn5.wav\n"
     ]
    },
    {
     "data": {
      "text/plain": [
       "380×80 Matrix{Float64}:\n",
       "  0.0124821    0.0105899    0.00146489   …  -0.00985748    0.0145268\n",
       " -0.00766015  -0.0184027    0.003296        -0.00372326   -0.0199286\n",
       "  0.0262154    0.00979644   0.0133061       -0.00766015   -0.00616474\n",
       " -0.0069277   -0.00656148  -0.0177313        0.0105594     0.0203864\n",
       " -0.011597    -0.00241096  -0.0069277       -0.0133061    -0.0186468\n",
       " -0.0176702   -0.0256966   -0.0152287    …  -0.0315867    -0.0348521\n",
       " -0.0147099   -0.00439467  -0.00103763       0.0335398     0.0371105\n",
       "  0.0440687    0.0233161    0.0130314       -0.0137944    -0.0118107\n",
       " -0.027192    -0.0391552   -0.0315867        0.0154424     0.0127873\n",
       " -0.0266732   -0.00750755   0.00442518      -0.00811792   -0.0104984\n",
       " -0.0130619   -0.00466933   0.000579852  …  -0.00689718   -0.00701926\n",
       "  0.0160527    0.0143742    0.00570696       0.00262459   -0.0044557\n",
       " -0.00210578  -0.0130924   -0.0373241        0.00756859   -0.00708029\n",
       "  ⋮                                      ⋱                \n",
       " -0.0213324   -0.00646992  -0.00701926      -0.0144047    -0.0213019\n",
       " -0.0195624   -0.00778222   0.00506607       0.0112613    -0.00439467\n",
       " -0.00454726   0.00210578   0.0167547    …  -0.00604266   -0.0148015\n",
       "  0.0217292    0.0146489   -0.000793481     -0.0786462    -0.0696432\n",
       "  0.0263375   -0.00979644  -0.0221564        0.0282601     0.023835\n",
       " -0.0516068   -0.0299387   -0.0132145        0.0343028     0.023133\n",
       "  0.0152898    0.0239875    0.0213324       -0.0383007    -0.0106204\n",
       "  0.0765709    0.0651265    0.00180059   …  -0.0414441    -0.0417493\n",
       " -0.00970489   0.014832    -0.034669        -0.000549333   0.000885037\n",
       " -0.0172124   -0.016419    -0.0245369        0.0199896     0.0426954\n",
       " -0.0477004   -0.0506912   -0.0136113        0.0374157     0.027955\n",
       "  0.0263375    0.0267342    0.0293588        0.0           0.0"
      ]
     },
     "execution_count": 23,
     "metadata": {},
     "output_type": "execute_result"
    }
   ],
   "source": [
    "# Check for how the data is organized\n",
    "training_file = training_files[8]\n",
    "println(training_file)\n",
    "speech, fs = WAV.wavread(training_file)\n",
    "speech_seg = get_frames(speech, fs)"
   ]
  },
  {
   "cell_type": "markdown",
   "id": "diagnostic-feedback",
   "metadata": {},
   "source": [
    "At this stage we run our inference algorithm to seperate **z** and **x**. We write the output into *.jld* files.\n",
    "\n",
    "You don't need to run this snippet if you haven't changed the default parameters of HA_algorithm and priors (just see *sound/AIDA/separated_jld/training/*)"
   ]
  },
  {
   "cell_type": "code",
   "execution_count": 24,
   "id": "victorian-plate",
   "metadata": {},
   "outputs": [
    {
     "name": "stderr",
     "output_type": "stream",
     "text": [
      "\u001b[32mProgress: 100%|█████████████████████████████████████████| Time: 0:05:45\u001b[39m\n",
      "\u001b[32mProgress: 100%|█████████████████████████████████████████| Time: 0:04:57\u001b[39m\n",
      "\u001b[32mProgress: 100%|█████████████████████████████████████████| Time: 0:03:58\u001b[39m\n",
      "\u001b[32mProgress: 100%|█████████████████████████████████████████| Time: 0:04:42\u001b[39m\n",
      "\u001b[32mProgress: 100%|█████████████████████████████████████████| Time: 0:05:49\u001b[39m\n",
      "\u001b[32mProgress: 100%|█████████████████████████████████████████| Time: 0:04:47\u001b[39m\n",
      "\u001b[32mProgress: 100%|█████████████████████████████████████████| Time: 0:04:10\u001b[39m\n",
      "\u001b[32mProgress: 100%|█████████████████████████████████████████| Time: 0:04:57\u001b[39m\n",
      "\u001b[32mProgress: 100%|█████████████████████████████████████████| Time: 0:04:51\u001b[39m\n",
      "\u001b[32mProgress: 100%|█████████████████████████████████████████| Time: 0:04:12\u001b[39m\n",
      "\u001b[32mProgress: 100%|█████████████████████████████████████████| Time: 0:04:35\u001b[39m\n",
      "\u001b[32mProgress: 100%|█████████████████████████████████████████| Time: 0:04:21\u001b[39m\n",
      "\u001b[32mProgress: 100%|█████████████████████████████████████████| Time: 0:04:11\u001b[39m\n",
      "\u001b[32mProgress: 100%|█████████████████████████████████████████| Time: 0:05:21\u001b[39m\n",
      "\u001b[32mProgress: 100%|█████████████████████████████████████████| Time: 0:05:33\u001b[39m\n",
      "\u001b[32mProgress: 100%|█████████████████████████████████████████| Time: 0:04:18\u001b[39m\n",
      "\u001b[32mProgress: 100%|█████████████████████████████████████████| Time: 0:03:53\u001b[39m\n",
      "\u001b[32mProgress: 100%|█████████████████████████████████████████| Time: 0:03:48\u001b[39m\n",
      "\u001b[32mProgress: 100%|█████████████████████████████████████████| Time: 0:04:24\u001b[39m\n",
      "\u001b[32mProgress: 100%|█████████████████████████████████████████| Time: 0:04:16\u001b[39m\n",
      "\u001b[32mProgress: 100%|█████████████████████████████████████████| Time: 0:04:38\u001b[39m\n",
      "\u001b[32mProgress: 100%|█████████████████████████████████████████| Time: 0:04:20\u001b[39m\n",
      "\u001b[32mProgress: 100%|█████████████████████████████████████████| Time: 0:03:42\u001b[39m\n",
      "\u001b[32mProgress: 100%|█████████████████████████████████████████| Time: 0:03:31\u001b[39m\n",
      "\u001b[32mProgress: 100%|█████████████████████████████████████████| Time: 0:03:37\u001b[39m\n",
      "\u001b[32mProgress: 100%|█████████████████████████████████████████| Time: 0:04:30\u001b[39m\n",
      "\u001b[32mProgress: 100%|█████████████████████████████████████████| Time: 0:04:08\u001b[39m\n",
      "\u001b[32mProgress: 100%|█████████████████████████████████████████| Time: 0:04:41\u001b[39m\n",
      "\u001b[32mProgress: 100%|█████████████████████████████████████████| Time: 0:04:57\u001b[39m\n",
      "\u001b[32mProgress: 100%|█████████████████████████████████████████| Time: 0:04:25\u001b[39m\n",
      "\u001b[32mProgress: 100%|█████████████████████████████████████████| Time: 0:04:49\u001b[39m\n",
      "\u001b[32mProgress: 100%|█████████████████████████████████████████| Time: 0:04:31\u001b[39m\n",
      "\u001b[32mProgress: 100%|█████████████████████████████████████████| Time: 0:04:11\u001b[39m\n",
      "\u001b[32mProgress: 100%|█████████████████████████████████████████| Time: 0:04:50\u001b[39m\n",
      "\u001b[32mProgress: 100%|█████████████████████████████████████████| Time: 0:04:48\u001b[39m\n",
      "\u001b[32mProgress: 100%|█████████████████████████████████████████| Time: 0:03:50\u001b[39m\n",
      "\u001b[32mProgress: 100%|█████████████████████████████████████████| Time: 0:03:58\u001b[39m\n",
      "\u001b[32mProgress: 100%|█████████████████████████████████████████| Time: 0:03:45\u001b[39m\n",
      "\u001b[32mProgress: 100%|█████████████████████████████████████████| Time: 0:04:22\u001b[39m\n",
      "\u001b[32mProgress: 100%|█████████████████████████████████████████| Time: 0:04:15\u001b[39m\n"
     ]
    }
   ],
   "source": [
    "# r for recovered\n",
    "ar_speech = 10\n",
    "ar_env = 2\n",
    "vmp_iter = 30\n",
    "\n",
    "for training_file in training_files\n",
    "    if !occursin(\".wav\", training_file) continue end\n",
    "    \n",
    "    if occursin(\"/$(contexts[1])/\", training_file)\n",
    "        priors_eta = (bblmη_arr, bblvη_arr)\n",
    "        priors_tau = bblτ_arr\n",
    "    elseif occursin(\"/$(contexts[2])/\", training_file)\n",
    "        priors_eta = (trmη_arr, trvη_arr)\n",
    "        priors_tau = trτ_arr\n",
    "    else\n",
    "        continue\n",
    "    end\n",
    "    \n",
    "    speech, fs = WAV.wavread(training_file)\n",
    "    speech_seg = get_frames(speech, fs)\n",
    "    \n",
    "    # make sure that 1D of priors and speech_seg are equal\n",
    "    if size(priors_eta, 1) != size(speech_seg, 1)\n",
    "        totseg = size(speech_seg, 1)\n",
    "        priors_eta_m, priors_eta_v, priors_tau = prior_to_priors(priors_eta[1][1, :]', priors_eta[2][1, :, :], priors_tau[1], totseg, ar_env)\n",
    "        priors_eta = priors_eta_m, priors_eta_v\n",
    "    end\n",
    "    \n",
    "    rmz, rvz, rmθ, rvθ, rγ, rmx, rvx, rmη, rvη, rτ, fe = batch_coupled_learning(speech_seg, priors_eta, priors_tau, ar_speech, ar_env, vmp_iter);\n",
    "    \n",
    "    JLD.save(\"../sound/AIDA/separated_jld/training/\"*training_file[findfirst(\"sp\", training_file)[1]:end][1:end-3]*\"jld\",\n",
    "         \"rmz\", rmz, \"rvz\", rvz, \"rmθ\", rmθ, \"rvθ\", rvθ, \"rγ\", rγ, \n",
    "         \"rmx\", rmx, \"rvx\", rvx, \"rmη\", rmη, \"rvη\", rvη, \"rτ\", rτ,\n",
    "         \"fe\", fe, \"filename\", training_file)\n",
    "end"
   ]
  },
  {
   "cell_type": "markdown",
   "id": "varied-difficulty",
   "metadata": {},
   "source": [
    "## Context inference"
   ]
  },
  {
   "cell_type": "code",
   "execution_count": 157,
   "id": "animal-sword",
   "metadata": {},
   "outputs": [],
   "source": [
    "# r for recovered\n",
    "ar_env = 2\n",
    "vmp_iter = 50\n",
    "active_contexts = []\n",
    "active_models = []\n",
    "for training_file in training_files\n",
    "    if !occursin(\".wav\", training_file) continue end\n",
    "    \n",
    "    speech, fs = WAV.wavread(training_file)\n",
    "    speech_seg = get_frames(speech, fs)\n",
    "    \n",
    "    fe, vad = model_selection(speech_seg[1, :], \n",
    "                              [lar_inference, lar_inference], \n",
    "                              [Dict(:mθ => [1.0526046070458872, -0.4232782070078879], \n",
    "                                    :vθ => [0.0002274117502010668 -0.0001681986150731712; -0.0001681986150731712 0.00022744882724672668], \n",
    "                                    :aγ => 5144.5, :bγ => 1.5403421819348209, \n",
    "                                    :τ  => 1e12, :order=>ar_env),\n",
    "\n",
    "                              Dict(:mθ => [0.497019359872337, -0.15475030421215585], \n",
    "                                   :vθ => [8.002457029876353e-5 -3.4446944242771045e-5; -3.4446944242771045e-5 8.003099010678723e-5], \n",
    "                                   :aγ => 7679.5, :bγ => 4.857063799328507, \n",
    "                                   :τ  => 1e12, :order=>ar_env)],\n",
    "                              vmp_iter=vmp_iter)\n",
    "    push!(active_models, vad)\n",
    "    if occursin(\"/$(contexts[1])/\", training_file)\n",
    "        push!(active_contexts, 1.0)\n",
    "    elseif occursin(\"/$(contexts[2])/\", training_file)\n",
    "        push!(active_contexts, 2.0)\n",
    "    else\n",
    "        continue\n",
    "    end\n",
    "end"
   ]
  },
  {
   "cell_type": "code",
   "execution_count": 160,
   "id": "superior-jacksonville",
   "metadata": {},
   "outputs": [
    {
     "data": {
      "text/plain": [
       "cat_accuracy (generic function with 1 method)"
      ]
     },
     "execution_count": 160,
     "metadata": {},
     "output_type": "execute_result"
    }
   ],
   "source": [
    "function cat_accuracy(y_pred, y_true)\n",
    "    return sum(y_pred .== y_true) / length(y_true)\n",
    "end"
   ]
  },
  {
   "cell_type": "code",
   "execution_count": 159,
   "id": "compressed-summer",
   "metadata": {},
   "outputs": [
    {
     "data": {
      "text/plain": [
       "0.775"
      ]
     },
     "execution_count": 159,
     "metadata": {},
     "output_type": "execute_result"
    }
   ],
   "source": [
    "cat_accuracy(active_contexts, active_models)"
   ]
  },
  {
   "cell_type": "code",
   "execution_count": 167,
   "id": "fifteen-milton",
   "metadata": {},
   "outputs": [
    {
     "data": {
      "image/svg+xml": [
       "<?xml version=\"1.0\" encoding=\"utf-8\"?>\n",
       "<svg xmlns=\"http://www.w3.org/2000/svg\" xmlns:xlink=\"http://www.w3.org/1999/xlink\" width=\"600\" height=\"400\" viewBox=\"0 0 2400 1600\">\n",
       "<defs>\n",
       "  <clipPath id=\"clip680\">\n",
       "    <rect x=\"0\" y=\"0\" width=\"2400\" height=\"1600\"/>\n",
       "  </clipPath>\n",
       "</defs>\n",
       "<path clip-path=\"url(#clip680)\" d=\"\n",
       "M0 1600 L2400 1600 L2400 0 L0 0  Z\n",
       "  \" fill=\"#ffffff\" fill-rule=\"evenodd\" fill-opacity=\"1\"/>\n",
       "<defs>\n",
       "  <clipPath id=\"clip681\">\n",
       "    <rect x=\"480\" y=\"0\" width=\"1681\" height=\"1600\"/>\n",
       "  </clipPath>\n",
       "</defs>\n",
       "<path clip-path=\"url(#clip680)\" d=\"\n",
       "M185.927 1486.45 L2352.76 1486.45 L2352.76 47.2441 L185.927 47.2441  Z\n",
       "  \" fill=\"#ffffff\" fill-rule=\"evenodd\" fill-opacity=\"1\"/>\n",
       "<defs>\n",
       "  <clipPath id=\"clip682\">\n",
       "    <rect x=\"185\" y=\"47\" width=\"2168\" height=\"1440\"/>\n",
       "  </clipPath>\n",
       "</defs>\n",
       "<polyline clip-path=\"url(#clip682)\" style=\"stroke:#000000; stroke-linecap:butt; stroke-linejoin:round; stroke-width:2; stroke-opacity:0.1; fill:none\" points=\"\n",
       "  194.837,1486.45 194.837,47.2441 \n",
       "  \"/>\n",
       "<polyline clip-path=\"url(#clip682)\" style=\"stroke:#000000; stroke-linecap:butt; stroke-linejoin:round; stroke-width:2; stroke-opacity:0.1; fill:none\" points=\"\n",
       "  718.986,1486.45 718.986,47.2441 \n",
       "  \"/>\n",
       "<polyline clip-path=\"url(#clip682)\" style=\"stroke:#000000; stroke-linecap:butt; stroke-linejoin:round; stroke-width:2; stroke-opacity:0.1; fill:none\" points=\"\n",
       "  1243.13,1486.45 1243.13,47.2441 \n",
       "  \"/>\n",
       "<polyline clip-path=\"url(#clip682)\" style=\"stroke:#000000; stroke-linecap:butt; stroke-linejoin:round; stroke-width:2; stroke-opacity:0.1; fill:none\" points=\"\n",
       "  1767.28,1486.45 1767.28,47.2441 \n",
       "  \"/>\n",
       "<polyline clip-path=\"url(#clip682)\" style=\"stroke:#000000; stroke-linecap:butt; stroke-linejoin:round; stroke-width:2; stroke-opacity:0.1; fill:none\" points=\"\n",
       "  2291.43,1486.45 2291.43,47.2441 \n",
       "  \"/>\n",
       "<polyline clip-path=\"url(#clip680)\" style=\"stroke:#000000; stroke-linecap:butt; stroke-linejoin:round; stroke-width:4; stroke-opacity:1; fill:none\" points=\"\n",
       "  185.927,1486.45 2352.76,1486.45 \n",
       "  \"/>\n",
       "<polyline clip-path=\"url(#clip680)\" style=\"stroke:#000000; stroke-linecap:butt; stroke-linejoin:round; stroke-width:4; stroke-opacity:1; fill:none\" points=\"\n",
       "  194.837,1486.45 194.837,1467.55 \n",
       "  \"/>\n",
       "<polyline clip-path=\"url(#clip680)\" style=\"stroke:#000000; stroke-linecap:butt; stroke-linejoin:round; stroke-width:4; stroke-opacity:1; fill:none\" points=\"\n",
       "  718.986,1486.45 718.986,1467.55 \n",
       "  \"/>\n",
       "<polyline clip-path=\"url(#clip680)\" style=\"stroke:#000000; stroke-linecap:butt; stroke-linejoin:round; stroke-width:4; stroke-opacity:1; fill:none\" points=\"\n",
       "  1243.13,1486.45 1243.13,1467.55 \n",
       "  \"/>\n",
       "<polyline clip-path=\"url(#clip680)\" style=\"stroke:#000000; stroke-linecap:butt; stroke-linejoin:round; stroke-width:4; stroke-opacity:1; fill:none\" points=\"\n",
       "  1767.28,1486.45 1767.28,1467.55 \n",
       "  \"/>\n",
       "<polyline clip-path=\"url(#clip680)\" style=\"stroke:#000000; stroke-linecap:butt; stroke-linejoin:round; stroke-width:4; stroke-opacity:1; fill:none\" points=\"\n",
       "  2291.43,1486.45 2291.43,1467.55 \n",
       "  \"/>\n",
       "<path clip-path=\"url(#clip680)\" d=\"M194.837 1517.37 Q191.226 1517.37 189.398 1520.93 Q187.592 1524.47 187.592 1531.6 Q187.592 1538.71 189.398 1542.27 Q191.226 1545.82 194.837 1545.82 Q198.472 1545.82 200.277 1542.27 Q202.106 1538.71 202.106 1531.6 Q202.106 1524.47 200.277 1520.93 Q198.472 1517.37 194.837 1517.37 M194.837 1513.66 Q200.647 1513.66 203.703 1518.27 Q206.782 1522.85 206.782 1531.6 Q206.782 1540.33 203.703 1544.94 Q200.647 1549.52 194.837 1549.52 Q189.027 1549.52 185.948 1544.94 Q182.893 1540.33 182.893 1531.6 Q182.893 1522.85 185.948 1518.27 Q189.027 1513.66 194.837 1513.66 Z\" fill=\"#000000\" fill-rule=\"evenodd\" fill-opacity=\"1\" /><path clip-path=\"url(#clip680)\" d=\"M693.673 1544.91 L701.312 1544.91 L701.312 1518.55 L693.002 1520.21 L693.002 1515.95 L701.266 1514.29 L705.942 1514.29 L705.942 1544.91 L713.581 1544.91 L713.581 1548.85 L693.673 1548.85 L693.673 1544.91 Z\" fill=\"#000000\" fill-rule=\"evenodd\" fill-opacity=\"1\" /><path clip-path=\"url(#clip680)\" d=\"M733.025 1517.37 Q729.414 1517.37 727.585 1520.93 Q725.78 1524.47 725.78 1531.6 Q725.78 1538.71 727.585 1542.27 Q729.414 1545.82 733.025 1545.82 Q736.659 1545.82 738.465 1542.27 Q740.293 1538.71 740.293 1531.6 Q740.293 1524.47 738.465 1520.93 Q736.659 1517.37 733.025 1517.37 M733.025 1513.66 Q738.835 1513.66 741.891 1518.27 Q744.969 1522.85 744.969 1531.6 Q744.969 1540.33 741.891 1544.94 Q738.835 1549.52 733.025 1549.52 Q727.215 1549.52 724.136 1544.94 Q721.081 1540.33 721.081 1531.6 Q721.081 1522.85 724.136 1518.27 Q727.215 1513.66 733.025 1513.66 Z\" fill=\"#000000\" fill-rule=\"evenodd\" fill-opacity=\"1\" /><path clip-path=\"url(#clip680)\" d=\"M1221.91 1544.91 L1238.23 1544.91 L1238.23 1548.85 L1216.28 1548.85 L1216.28 1544.91 Q1218.94 1542.16 1223.53 1537.53 Q1228.13 1532.88 1229.31 1531.53 Q1231.56 1529.01 1232.44 1527.27 Q1233.34 1525.51 1233.34 1523.82 Q1233.34 1521.07 1231.4 1519.33 Q1229.48 1517.6 1226.37 1517.6 Q1224.18 1517.6 1221.72 1518.36 Q1219.29 1519.13 1216.51 1520.68 L1216.51 1515.95 Q1219.34 1514.82 1221.79 1514.24 Q1224.25 1513.66 1226.28 1513.66 Q1231.65 1513.66 1234.85 1516.35 Q1238.04 1519.03 1238.04 1523.52 Q1238.04 1525.65 1237.23 1527.57 Q1236.44 1529.47 1234.34 1532.07 Q1233.76 1532.74 1230.66 1535.95 Q1227.56 1539.15 1221.91 1544.91 Z\" fill=\"#000000\" fill-rule=\"evenodd\" fill-opacity=\"1\" /><path clip-path=\"url(#clip680)\" d=\"M1258.04 1517.37 Q1254.43 1517.37 1252.6 1520.93 Q1250.8 1524.47 1250.8 1531.6 Q1250.8 1538.71 1252.6 1542.27 Q1254.43 1545.82 1258.04 1545.82 Q1261.68 1545.82 1263.48 1542.27 Q1265.31 1538.71 1265.31 1531.6 Q1265.31 1524.47 1263.48 1520.93 Q1261.68 1517.37 1258.04 1517.37 M1258.04 1513.66 Q1263.85 1513.66 1266.91 1518.27 Q1269.99 1522.85 1269.99 1531.6 Q1269.99 1540.33 1266.91 1544.94 Q1263.85 1549.52 1258.04 1549.52 Q1252.23 1549.52 1249.15 1544.94 Q1246.1 1540.33 1246.1 1531.6 Q1246.1 1522.85 1249.15 1518.27 Q1252.23 1513.66 1258.04 1513.66 Z\" fill=\"#000000\" fill-rule=\"evenodd\" fill-opacity=\"1\" /><path clip-path=\"url(#clip680)\" d=\"M1756.12 1530.21 Q1759.48 1530.93 1761.36 1533.2 Q1763.25 1535.47 1763.25 1538.8 Q1763.25 1543.92 1759.74 1546.72 Q1756.22 1549.52 1749.74 1549.52 Q1747.56 1549.52 1745.25 1549.08 Q1742.95 1548.66 1740.5 1547.81 L1740.5 1543.29 Q1742.44 1544.43 1744.76 1545.01 Q1747.07 1545.58 1749.6 1545.58 Q1754 1545.58 1756.29 1543.85 Q1758.6 1542.11 1758.6 1538.8 Q1758.6 1535.75 1756.45 1534.03 Q1754.32 1532.3 1750.5 1532.3 L1746.47 1532.3 L1746.47 1528.45 L1750.69 1528.45 Q1754.13 1528.45 1755.96 1527.09 Q1757.79 1525.7 1757.79 1523.11 Q1757.79 1520.45 1755.89 1519.03 Q1754.02 1517.6 1750.5 1517.6 Q1748.58 1517.6 1746.38 1518.01 Q1744.18 1518.43 1741.54 1519.31 L1741.54 1515.14 Q1744.2 1514.4 1746.52 1514.03 Q1748.86 1513.66 1750.92 1513.66 Q1756.24 1513.66 1759.34 1516.09 Q1762.44 1518.5 1762.44 1522.62 Q1762.44 1525.49 1760.8 1527.48 Q1759.16 1529.45 1756.12 1530.21 Z\" fill=\"#000000\" fill-rule=\"evenodd\" fill-opacity=\"1\" /><path clip-path=\"url(#clip680)\" d=\"M1782.12 1517.37 Q1778.51 1517.37 1776.68 1520.93 Q1774.87 1524.47 1774.87 1531.6 Q1774.87 1538.71 1776.68 1542.27 Q1778.51 1545.82 1782.12 1545.82 Q1785.75 1545.82 1787.56 1542.27 Q1789.39 1538.71 1789.39 1531.6 Q1789.39 1524.47 1787.56 1520.93 Q1785.75 1517.37 1782.12 1517.37 M1782.12 1513.66 Q1787.93 1513.66 1790.99 1518.27 Q1794.06 1522.85 1794.06 1531.6 Q1794.06 1540.33 1790.99 1544.94 Q1787.93 1549.52 1782.12 1549.52 Q1776.31 1549.52 1773.23 1544.94 Q1770.18 1540.33 1770.18 1531.6 Q1770.18 1522.85 1773.23 1518.27 Q1776.31 1513.66 1782.12 1513.66 Z\" fill=\"#000000\" fill-rule=\"evenodd\" fill-opacity=\"1\" /><path clip-path=\"url(#clip680)\" d=\"M2279.6 1518.36 L2267.8 1536.81 L2279.6 1536.81 L2279.6 1518.36 M2278.38 1514.29 L2284.25 1514.29 L2284.25 1536.81 L2289.19 1536.81 L2289.19 1540.7 L2284.25 1540.7 L2284.25 1548.85 L2279.6 1548.85 L2279.6 1540.7 L2264 1540.7 L2264 1536.19 L2278.38 1514.29 Z\" fill=\"#000000\" fill-rule=\"evenodd\" fill-opacity=\"1\" /><path clip-path=\"url(#clip680)\" d=\"M2306.92 1517.37 Q2303.31 1517.37 2301.48 1520.93 Q2299.67 1524.47 2299.67 1531.6 Q2299.67 1538.71 2301.48 1542.27 Q2303.31 1545.82 2306.92 1545.82 Q2310.55 1545.82 2312.36 1542.27 Q2314.19 1538.71 2314.19 1531.6 Q2314.19 1524.47 2312.36 1520.93 Q2310.55 1517.37 2306.92 1517.37 M2306.92 1513.66 Q2312.73 1513.66 2315.78 1518.27 Q2318.86 1522.85 2318.86 1531.6 Q2318.86 1540.33 2315.78 1544.94 Q2312.73 1549.52 2306.92 1549.52 Q2301.11 1549.52 2298.03 1544.94 Q2294.97 1540.33 2294.97 1531.6 Q2294.97 1522.85 2298.03 1518.27 Q2301.11 1513.66 2306.92 1513.66 Z\" fill=\"#000000\" fill-rule=\"evenodd\" fill-opacity=\"1\" /><polyline clip-path=\"url(#clip682)\" style=\"stroke:#000000; stroke-linecap:butt; stroke-linejoin:round; stroke-width:2; stroke-opacity:0.1; fill:none\" points=\"\n",
       "  185.927,1445.72 2352.76,1445.72 \n",
       "  \"/>\n",
       "<polyline clip-path=\"url(#clip682)\" style=\"stroke:#000000; stroke-linecap:butt; stroke-linejoin:round; stroke-width:2; stroke-opacity:0.1; fill:none\" points=\"\n",
       "  185.927,1106.28 2352.76,1106.28 \n",
       "  \"/>\n",
       "<polyline clip-path=\"url(#clip682)\" style=\"stroke:#000000; stroke-linecap:butt; stroke-linejoin:round; stroke-width:2; stroke-opacity:0.1; fill:none\" points=\"\n",
       "  185.927,766.846 2352.76,766.846 \n",
       "  \"/>\n",
       "<polyline clip-path=\"url(#clip682)\" style=\"stroke:#000000; stroke-linecap:butt; stroke-linejoin:round; stroke-width:2; stroke-opacity:0.1; fill:none\" points=\"\n",
       "  185.927,427.411 2352.76,427.411 \n",
       "  \"/>\n",
       "<polyline clip-path=\"url(#clip682)\" style=\"stroke:#000000; stroke-linecap:butt; stroke-linejoin:round; stroke-width:2; stroke-opacity:0.1; fill:none\" points=\"\n",
       "  185.927,87.9763 2352.76,87.9763 \n",
       "  \"/>\n",
       "<polyline clip-path=\"url(#clip680)\" style=\"stroke:#000000; stroke-linecap:butt; stroke-linejoin:round; stroke-width:4; stroke-opacity:1; fill:none\" points=\"\n",
       "  185.927,1486.45 185.927,47.2441 \n",
       "  \"/>\n",
       "<polyline clip-path=\"url(#clip680)\" style=\"stroke:#000000; stroke-linecap:butt; stroke-linejoin:round; stroke-width:4; stroke-opacity:1; fill:none\" points=\"\n",
       "  185.927,1445.72 204.824,1445.72 \n",
       "  \"/>\n",
       "<polyline clip-path=\"url(#clip680)\" style=\"stroke:#000000; stroke-linecap:butt; stroke-linejoin:round; stroke-width:4; stroke-opacity:1; fill:none\" points=\"\n",
       "  185.927,1106.28 204.824,1106.28 \n",
       "  \"/>\n",
       "<polyline clip-path=\"url(#clip680)\" style=\"stroke:#000000; stroke-linecap:butt; stroke-linejoin:round; stroke-width:4; stroke-opacity:1; fill:none\" points=\"\n",
       "  185.927,766.846 204.824,766.846 \n",
       "  \"/>\n",
       "<polyline clip-path=\"url(#clip680)\" style=\"stroke:#000000; stroke-linecap:butt; stroke-linejoin:round; stroke-width:4; stroke-opacity:1; fill:none\" points=\"\n",
       "  185.927,427.411 204.824,427.411 \n",
       "  \"/>\n",
       "<polyline clip-path=\"url(#clip680)\" style=\"stroke:#000000; stroke-linecap:butt; stroke-linejoin:round; stroke-width:4; stroke-opacity:1; fill:none\" points=\"\n",
       "  185.927,87.9763 204.824,87.9763 \n",
       "  \"/>\n",
       "<path clip-path=\"url(#clip680)\" d=\"M53.3995 1459.06 L61.0384 1459.06 L61.0384 1432.69 L52.7282 1434.36 L52.7282 1430.1 L60.9921 1428.44 L65.668 1428.44 L65.668 1459.06 L73.3068 1459.06 L73.3068 1463 L53.3995 1463 L53.3995 1459.06 Z\" fill=\"#000000\" fill-rule=\"evenodd\" fill-opacity=\"1\" /><path clip-path=\"url(#clip680)\" d=\"M82.7512 1457.12 L87.6354 1457.12 L87.6354 1463 L82.7512 1463 L82.7512 1457.12 Z\" fill=\"#000000\" fill-rule=\"evenodd\" fill-opacity=\"1\" /><path clip-path=\"url(#clip680)\" d=\"M107.821 1431.51 Q104.209 1431.51 102.381 1435.08 Q100.575 1438.62 100.575 1445.75 Q100.575 1452.86 102.381 1456.42 Q104.209 1459.96 107.821 1459.96 Q111.455 1459.96 113.26 1456.42 Q115.089 1452.86 115.089 1445.75 Q115.089 1438.62 113.26 1435.08 Q111.455 1431.51 107.821 1431.51 M107.821 1427.81 Q113.631 1427.81 116.686 1432.42 Q119.765 1437 119.765 1445.75 Q119.765 1454.48 116.686 1459.08 Q113.631 1463.67 107.821 1463.67 Q102.01 1463.67 98.9317 1459.08 Q95.8761 1454.48 95.8761 1445.75 Q95.8761 1437 98.9317 1432.42 Q102.01 1427.81 107.821 1427.81 Z\" fill=\"#000000\" fill-rule=\"evenodd\" fill-opacity=\"1\" /><path clip-path=\"url(#clip680)\" d=\"M137.982 1431.51 Q134.371 1431.51 132.543 1435.08 Q130.737 1438.62 130.737 1445.75 Q130.737 1452.86 132.543 1456.42 Q134.371 1459.96 137.982 1459.96 Q141.617 1459.96 143.422 1456.42 Q145.251 1452.86 145.251 1445.75 Q145.251 1438.62 143.422 1435.08 Q141.617 1431.51 137.982 1431.51 M137.982 1427.81 Q143.793 1427.81 146.848 1432.42 Q149.927 1437 149.927 1445.75 Q149.927 1454.48 146.848 1459.08 Q143.793 1463.67 137.982 1463.67 Q132.172 1463.67 129.094 1459.08 Q126.038 1454.48 126.038 1445.75 Q126.038 1437 129.094 1432.42 Q132.172 1427.81 137.982 1427.81 Z\" fill=\"#000000\" fill-rule=\"evenodd\" fill-opacity=\"1\" /><path clip-path=\"url(#clip680)\" d=\"M54.3949 1119.63 L62.0337 1119.63 L62.0337 1093.26 L53.7236 1094.93 L53.7236 1090.67 L61.9874 1089 L66.6633 1089 L66.6633 1119.63 L74.3022 1119.63 L74.3022 1123.56 L54.3949 1123.56 L54.3949 1119.63 Z\" fill=\"#000000\" fill-rule=\"evenodd\" fill-opacity=\"1\" /><path clip-path=\"url(#clip680)\" d=\"M83.7466 1117.68 L88.6308 1117.68 L88.6308 1123.56 L83.7466 1123.56 L83.7466 1117.68 Z\" fill=\"#000000\" fill-rule=\"evenodd\" fill-opacity=\"1\" /><path clip-path=\"url(#clip680)\" d=\"M102.844 1119.63 L119.163 1119.63 L119.163 1123.56 L97.2187 1123.56 L97.2187 1119.63 Q99.8808 1116.87 104.464 1112.24 Q109.071 1107.59 110.251 1106.25 Q112.496 1103.72 113.376 1101.99 Q114.279 1100.23 114.279 1098.54 Q114.279 1095.78 112.334 1094.05 Q110.413 1092.31 107.311 1092.31 Q105.112 1092.31 102.659 1093.07 Q100.228 1093.84 97.4502 1095.39 L97.4502 1090.67 Q100.274 1089.53 102.728 1088.95 Q105.182 1088.38 107.219 1088.38 Q112.589 1088.38 115.783 1091.06 Q118.978 1093.75 118.978 1098.24 Q118.978 1100.37 118.168 1102.29 Q117.381 1104.19 115.274 1106.78 Q114.695 1107.45 111.594 1110.67 Q108.492 1113.86 102.844 1119.63 Z\" fill=\"#000000\" fill-rule=\"evenodd\" fill-opacity=\"1\" /><path clip-path=\"url(#clip680)\" d=\"M129.024 1089 L147.38 1089 L147.38 1092.94 L133.306 1092.94 L133.306 1101.41 Q134.325 1101.06 135.344 1100.9 Q136.362 1100.71 137.381 1100.71 Q143.168 1100.71 146.547 1103.89 Q149.927 1107.06 149.927 1112.47 Q149.927 1118.05 146.455 1121.15 Q142.982 1124.23 136.663 1124.23 Q134.487 1124.23 132.219 1123.86 Q129.973 1123.49 127.566 1122.75 L127.566 1118.05 Q129.649 1119.19 131.871 1119.74 Q134.094 1120.3 136.57 1120.3 Q140.575 1120.3 142.913 1118.19 Q145.251 1116.08 145.251 1112.47 Q145.251 1108.86 142.913 1106.76 Q140.575 1104.65 136.57 1104.65 Q134.695 1104.65 132.82 1105.07 Q130.969 1105.48 129.024 1106.36 L129.024 1089 Z\" fill=\"#000000\" fill-rule=\"evenodd\" fill-opacity=\"1\" /><path clip-path=\"url(#clip680)\" d=\"M53.3995 780.191 L61.0384 780.191 L61.0384 753.825 L52.7282 755.492 L52.7282 751.233 L60.9921 749.566 L65.668 749.566 L65.668 780.191 L73.3068 780.191 L73.3068 784.126 L53.3995 784.126 L53.3995 780.191 Z\" fill=\"#000000\" fill-rule=\"evenodd\" fill-opacity=\"1\" /><path clip-path=\"url(#clip680)\" d=\"M82.7512 778.246 L87.6354 778.246 L87.6354 784.126 L82.7512 784.126 L82.7512 778.246 Z\" fill=\"#000000\" fill-rule=\"evenodd\" fill-opacity=\"1\" /><path clip-path=\"url(#clip680)\" d=\"M97.8669 749.566 L116.223 749.566 L116.223 753.501 L102.149 753.501 L102.149 761.973 Q103.168 761.626 104.186 761.464 Q105.205 761.279 106.223 761.279 Q112.01 761.279 115.39 764.45 Q118.77 767.621 118.77 773.038 Q118.77 778.617 115.297 781.719 Q111.825 784.797 105.506 784.797 Q103.33 784.797 101.061 784.427 Q98.8159 784.057 96.4085 783.316 L96.4085 778.617 Q98.4919 779.751 100.714 780.307 Q102.936 780.862 105.413 780.862 Q109.418 780.862 111.756 778.756 Q114.094 776.649 114.094 773.038 Q114.094 769.427 111.756 767.321 Q109.418 765.214 105.413 765.214 Q103.538 765.214 101.663 765.631 Q99.8113 766.047 97.8669 766.927 L97.8669 749.566 Z\" fill=\"#000000\" fill-rule=\"evenodd\" fill-opacity=\"1\" /><path clip-path=\"url(#clip680)\" d=\"M137.982 752.645 Q134.371 752.645 132.543 756.209 Q130.737 759.751 130.737 766.881 Q130.737 773.987 132.543 777.552 Q134.371 781.094 137.982 781.094 Q141.617 781.094 143.422 777.552 Q145.251 773.987 145.251 766.881 Q145.251 759.751 143.422 756.209 Q141.617 752.645 137.982 752.645 M137.982 748.941 Q143.793 748.941 146.848 753.547 Q149.927 758.131 149.927 766.881 Q149.927 775.608 146.848 780.214 Q143.793 784.797 137.982 784.797 Q132.172 784.797 129.094 780.214 Q126.038 775.608 126.038 766.881 Q126.038 758.131 129.094 753.547 Q132.172 748.941 137.982 748.941 Z\" fill=\"#000000\" fill-rule=\"evenodd\" fill-opacity=\"1\" /><path clip-path=\"url(#clip680)\" d=\"M54.3949 440.756 L62.0337 440.756 L62.0337 414.39 L53.7236 416.057 L53.7236 411.798 L61.9874 410.131 L66.6633 410.131 L66.6633 440.756 L74.3022 440.756 L74.3022 444.691 L54.3949 444.691 L54.3949 440.756 Z\" fill=\"#000000\" fill-rule=\"evenodd\" fill-opacity=\"1\" /><path clip-path=\"url(#clip680)\" d=\"M83.7466 438.812 L88.6308 438.812 L88.6308 444.691 L83.7466 444.691 L83.7466 438.812 Z\" fill=\"#000000\" fill-rule=\"evenodd\" fill-opacity=\"1\" /><path clip-path=\"url(#clip680)\" d=\"M97.6354 410.131 L119.857 410.131 L119.857 412.122 L107.311 444.691 L102.427 444.691 L114.233 414.066 L97.6354 414.066 L97.6354 410.131 Z\" fill=\"#000000\" fill-rule=\"evenodd\" fill-opacity=\"1\" /><path clip-path=\"url(#clip680)\" d=\"M129.024 410.131 L147.38 410.131 L147.38 414.066 L133.306 414.066 L133.306 422.538 Q134.325 422.191 135.344 422.029 Q136.362 421.844 137.381 421.844 Q143.168 421.844 146.547 425.015 Q149.927 428.187 149.927 433.603 Q149.927 439.182 146.455 442.284 Q142.982 445.362 136.663 445.362 Q134.487 445.362 132.219 444.992 Q129.973 444.622 127.566 443.881 L127.566 439.182 Q129.649 440.316 131.871 440.872 Q134.094 441.427 136.57 441.427 Q140.575 441.427 142.913 439.321 Q145.251 437.214 145.251 433.603 Q145.251 429.992 142.913 427.886 Q140.575 425.779 136.57 425.779 Q134.695 425.779 132.82 426.196 Q130.969 426.613 129.024 427.492 L129.024 410.131 Z\" fill=\"#000000\" fill-rule=\"evenodd\" fill-opacity=\"1\" /><path clip-path=\"url(#clip680)\" d=\"M56.6171 101.321 L72.9365 101.321 L72.9365 105.256 L50.9921 105.256 L50.9921 101.321 Q53.6541 98.5665 58.2375 93.9369 Q62.8439 89.2841 64.0245 87.9416 Q66.2698 85.4184 67.1494 83.6823 Q68.0522 81.9231 68.0522 80.2333 Q68.0522 77.4786 66.1078 75.7425 Q64.1865 74.0064 61.0847 74.0064 Q58.8856 74.0064 56.4319 74.7703 Q54.0014 75.5342 51.2236 77.0851 L51.2236 72.3629 Q54.0477 71.2287 56.5014 70.65 Q58.955 70.0713 60.9921 70.0713 Q66.3624 70.0713 69.5568 72.7565 Q72.7513 75.4416 72.7513 79.9323 Q72.7513 82.062 71.9411 83.9832 Q71.1541 85.8814 69.0476 88.474 Q68.4689 89.1453 65.367 92.3628 Q62.2652 95.5573 56.6171 101.321 Z\" fill=\"#000000\" fill-rule=\"evenodd\" fill-opacity=\"1\" /><path clip-path=\"url(#clip680)\" d=\"M82.7512 99.3767 L87.6354 99.3767 L87.6354 105.256 L82.7512 105.256 L82.7512 99.3767 Z\" fill=\"#000000\" fill-rule=\"evenodd\" fill-opacity=\"1\" /><path clip-path=\"url(#clip680)\" d=\"M107.821 73.775 Q104.209 73.775 102.381 77.3398 Q100.575 80.8814 100.575 88.011 Q100.575 95.1174 102.381 98.6822 Q104.209 102.224 107.821 102.224 Q111.455 102.224 113.26 98.6822 Q115.089 95.1174 115.089 88.011 Q115.089 80.8814 113.26 77.3398 Q111.455 73.775 107.821 73.775 M107.821 70.0713 Q113.631 70.0713 116.686 74.6777 Q119.765 79.261 119.765 88.011 Q119.765 96.7378 116.686 101.344 Q113.631 105.928 107.821 105.928 Q102.01 105.928 98.9317 101.344 Q95.8761 96.7378 95.8761 88.011 Q95.8761 79.261 98.9317 74.6777 Q102.01 70.0713 107.821 70.0713 Z\" fill=\"#000000\" fill-rule=\"evenodd\" fill-opacity=\"1\" /><path clip-path=\"url(#clip680)\" d=\"M137.982 73.775 Q134.371 73.775 132.543 77.3398 Q130.737 80.8814 130.737 88.011 Q130.737 95.1174 132.543 98.6822 Q134.371 102.224 137.982 102.224 Q141.617 102.224 143.422 98.6822 Q145.251 95.1174 145.251 88.011 Q145.251 80.8814 143.422 77.3398 Q141.617 73.775 137.982 73.775 M137.982 70.0713 Q143.793 70.0713 146.848 74.6777 Q149.927 79.261 149.927 88.011 Q149.927 96.7378 146.848 101.344 Q143.793 105.928 137.982 105.928 Q132.172 105.928 129.094 101.344 Q126.038 96.7378 126.038 88.011 Q126.038 79.261 129.094 74.6777 Q132.172 70.0713 137.982 70.0713 Z\" fill=\"#000000\" fill-rule=\"evenodd\" fill-opacity=\"1\" /><circle clip-path=\"url(#clip682)\" cx=\"247.252\" cy=\"1445.72\" r=\"28\" fill=\"#009af9\" fill-rule=\"evenodd\" fill-opacity=\"1\" stroke=\"#000000\" stroke-opacity=\"1\" stroke-width=\"3.2\"/>\n",
       "<circle clip-path=\"url(#clip682)\" cx=\"299.667\" cy=\"1445.72\" r=\"28\" fill=\"#009af9\" fill-rule=\"evenodd\" fill-opacity=\"1\" stroke=\"#000000\" stroke-opacity=\"1\" stroke-width=\"3.2\"/>\n",
       "<circle clip-path=\"url(#clip682)\" cx=\"352.082\" cy=\"1445.72\" r=\"28\" fill=\"#009af9\" fill-rule=\"evenodd\" fill-opacity=\"1\" stroke=\"#000000\" stroke-opacity=\"1\" stroke-width=\"3.2\"/>\n",
       "<circle clip-path=\"url(#clip682)\" cx=\"404.497\" cy=\"1445.72\" r=\"28\" fill=\"#009af9\" fill-rule=\"evenodd\" fill-opacity=\"1\" stroke=\"#000000\" stroke-opacity=\"1\" stroke-width=\"3.2\"/>\n",
       "<circle clip-path=\"url(#clip682)\" cx=\"456.911\" cy=\"1445.72\" r=\"28\" fill=\"#009af9\" fill-rule=\"evenodd\" fill-opacity=\"1\" stroke=\"#000000\" stroke-opacity=\"1\" stroke-width=\"3.2\"/>\n",
       "<circle clip-path=\"url(#clip682)\" cx=\"509.326\" cy=\"1445.72\" r=\"28\" fill=\"#009af9\" fill-rule=\"evenodd\" fill-opacity=\"1\" stroke=\"#000000\" stroke-opacity=\"1\" stroke-width=\"3.2\"/>\n",
       "<circle clip-path=\"url(#clip682)\" cx=\"561.741\" cy=\"1445.72\" r=\"28\" fill=\"#009af9\" fill-rule=\"evenodd\" fill-opacity=\"1\" stroke=\"#000000\" stroke-opacity=\"1\" stroke-width=\"3.2\"/>\n",
       "<circle clip-path=\"url(#clip682)\" cx=\"614.156\" cy=\"1445.72\" r=\"28\" fill=\"#009af9\" fill-rule=\"evenodd\" fill-opacity=\"1\" stroke=\"#000000\" stroke-opacity=\"1\" stroke-width=\"3.2\"/>\n",
       "<circle clip-path=\"url(#clip682)\" cx=\"666.571\" cy=\"1445.72\" r=\"28\" fill=\"#009af9\" fill-rule=\"evenodd\" fill-opacity=\"1\" stroke=\"#000000\" stroke-opacity=\"1\" stroke-width=\"3.2\"/>\n",
       "<circle clip-path=\"url(#clip682)\" cx=\"718.986\" cy=\"1445.72\" r=\"28\" fill=\"#009af9\" fill-rule=\"evenodd\" fill-opacity=\"1\" stroke=\"#000000\" stroke-opacity=\"1\" stroke-width=\"3.2\"/>\n",
       "<circle clip-path=\"url(#clip682)\" cx=\"771.4\" cy=\"1445.72\" r=\"28\" fill=\"#009af9\" fill-rule=\"evenodd\" fill-opacity=\"1\" stroke=\"#000000\" stroke-opacity=\"1\" stroke-width=\"3.2\"/>\n",
       "<circle clip-path=\"url(#clip682)\" cx=\"823.815\" cy=\"1445.72\" r=\"28\" fill=\"#009af9\" fill-rule=\"evenodd\" fill-opacity=\"1\" stroke=\"#000000\" stroke-opacity=\"1\" stroke-width=\"3.2\"/>\n",
       "<circle clip-path=\"url(#clip682)\" cx=\"876.23\" cy=\"1445.72\" r=\"28\" fill=\"#009af9\" fill-rule=\"evenodd\" fill-opacity=\"1\" stroke=\"#000000\" stroke-opacity=\"1\" stroke-width=\"3.2\"/>\n",
       "<circle clip-path=\"url(#clip682)\" cx=\"928.645\" cy=\"1445.72\" r=\"28\" fill=\"#009af9\" fill-rule=\"evenodd\" fill-opacity=\"1\" stroke=\"#000000\" stroke-opacity=\"1\" stroke-width=\"3.2\"/>\n",
       "<circle clip-path=\"url(#clip682)\" cx=\"981.06\" cy=\"1445.72\" r=\"28\" fill=\"#009af9\" fill-rule=\"evenodd\" fill-opacity=\"1\" stroke=\"#000000\" stroke-opacity=\"1\" stroke-width=\"3.2\"/>\n",
       "<circle clip-path=\"url(#clip682)\" cx=\"1033.47\" cy=\"1445.72\" r=\"28\" fill=\"#009af9\" fill-rule=\"evenodd\" fill-opacity=\"1\" stroke=\"#000000\" stroke-opacity=\"1\" stroke-width=\"3.2\"/>\n",
       "<circle clip-path=\"url(#clip682)\" cx=\"1085.89\" cy=\"1445.72\" r=\"28\" fill=\"#009af9\" fill-rule=\"evenodd\" fill-opacity=\"1\" stroke=\"#000000\" stroke-opacity=\"1\" stroke-width=\"3.2\"/>\n",
       "<circle clip-path=\"url(#clip682)\" cx=\"1138.3\" cy=\"1445.72\" r=\"28\" fill=\"#009af9\" fill-rule=\"evenodd\" fill-opacity=\"1\" stroke=\"#000000\" stroke-opacity=\"1\" stroke-width=\"3.2\"/>\n",
       "<circle clip-path=\"url(#clip682)\" cx=\"1190.72\" cy=\"1445.72\" r=\"28\" fill=\"#009af9\" fill-rule=\"evenodd\" fill-opacity=\"1\" stroke=\"#000000\" stroke-opacity=\"1\" stroke-width=\"3.2\"/>\n",
       "<circle clip-path=\"url(#clip682)\" cx=\"1243.13\" cy=\"1445.72\" r=\"28\" fill=\"#009af9\" fill-rule=\"evenodd\" fill-opacity=\"1\" stroke=\"#000000\" stroke-opacity=\"1\" stroke-width=\"3.2\"/>\n",
       "<circle clip-path=\"url(#clip682)\" cx=\"1295.55\" cy=\"87.9763\" r=\"28\" fill=\"#009af9\" fill-rule=\"evenodd\" fill-opacity=\"1\" stroke=\"#000000\" stroke-opacity=\"1\" stroke-width=\"3.2\"/>\n",
       "<circle clip-path=\"url(#clip682)\" cx=\"1347.96\" cy=\"87.9763\" r=\"28\" fill=\"#009af9\" fill-rule=\"evenodd\" fill-opacity=\"1\" stroke=\"#000000\" stroke-opacity=\"1\" stroke-width=\"3.2\"/>\n",
       "<circle clip-path=\"url(#clip682)\" cx=\"1400.38\" cy=\"87.9763\" r=\"28\" fill=\"#009af9\" fill-rule=\"evenodd\" fill-opacity=\"1\" stroke=\"#000000\" stroke-opacity=\"1\" stroke-width=\"3.2\"/>\n",
       "<circle clip-path=\"url(#clip682)\" cx=\"1452.79\" cy=\"87.9763\" r=\"28\" fill=\"#009af9\" fill-rule=\"evenodd\" fill-opacity=\"1\" stroke=\"#000000\" stroke-opacity=\"1\" stroke-width=\"3.2\"/>\n",
       "<circle clip-path=\"url(#clip682)\" cx=\"1505.21\" cy=\"87.9763\" r=\"28\" fill=\"#009af9\" fill-rule=\"evenodd\" fill-opacity=\"1\" stroke=\"#000000\" stroke-opacity=\"1\" stroke-width=\"3.2\"/>\n",
       "<circle clip-path=\"url(#clip682)\" cx=\"1557.62\" cy=\"87.9763\" r=\"28\" fill=\"#009af9\" fill-rule=\"evenodd\" fill-opacity=\"1\" stroke=\"#000000\" stroke-opacity=\"1\" stroke-width=\"3.2\"/>\n",
       "<circle clip-path=\"url(#clip682)\" cx=\"1610.04\" cy=\"87.9763\" r=\"28\" fill=\"#009af9\" fill-rule=\"evenodd\" fill-opacity=\"1\" stroke=\"#000000\" stroke-opacity=\"1\" stroke-width=\"3.2\"/>\n",
       "<circle clip-path=\"url(#clip682)\" cx=\"1662.45\" cy=\"87.9763\" r=\"28\" fill=\"#009af9\" fill-rule=\"evenodd\" fill-opacity=\"1\" stroke=\"#000000\" stroke-opacity=\"1\" stroke-width=\"3.2\"/>\n",
       "<circle clip-path=\"url(#clip682)\" cx=\"1714.87\" cy=\"87.9763\" r=\"28\" fill=\"#009af9\" fill-rule=\"evenodd\" fill-opacity=\"1\" stroke=\"#000000\" stroke-opacity=\"1\" stroke-width=\"3.2\"/>\n",
       "<circle clip-path=\"url(#clip682)\" cx=\"1767.28\" cy=\"87.9763\" r=\"28\" fill=\"#009af9\" fill-rule=\"evenodd\" fill-opacity=\"1\" stroke=\"#000000\" stroke-opacity=\"1\" stroke-width=\"3.2\"/>\n",
       "<circle clip-path=\"url(#clip682)\" cx=\"1819.7\" cy=\"87.9763\" r=\"28\" fill=\"#009af9\" fill-rule=\"evenodd\" fill-opacity=\"1\" stroke=\"#000000\" stroke-opacity=\"1\" stroke-width=\"3.2\"/>\n",
       "<circle clip-path=\"url(#clip682)\" cx=\"1872.11\" cy=\"87.9763\" r=\"28\" fill=\"#009af9\" fill-rule=\"evenodd\" fill-opacity=\"1\" stroke=\"#000000\" stroke-opacity=\"1\" stroke-width=\"3.2\"/>\n",
       "<circle clip-path=\"url(#clip682)\" cx=\"1924.53\" cy=\"87.9763\" r=\"28\" fill=\"#009af9\" fill-rule=\"evenodd\" fill-opacity=\"1\" stroke=\"#000000\" stroke-opacity=\"1\" stroke-width=\"3.2\"/>\n",
       "<circle clip-path=\"url(#clip682)\" cx=\"1976.94\" cy=\"87.9763\" r=\"28\" fill=\"#009af9\" fill-rule=\"evenodd\" fill-opacity=\"1\" stroke=\"#000000\" stroke-opacity=\"1\" stroke-width=\"3.2\"/>\n",
       "<circle clip-path=\"url(#clip682)\" cx=\"2029.36\" cy=\"87.9763\" r=\"28\" fill=\"#009af9\" fill-rule=\"evenodd\" fill-opacity=\"1\" stroke=\"#000000\" stroke-opacity=\"1\" stroke-width=\"3.2\"/>\n",
       "<circle clip-path=\"url(#clip682)\" cx=\"2081.77\" cy=\"87.9763\" r=\"28\" fill=\"#009af9\" fill-rule=\"evenodd\" fill-opacity=\"1\" stroke=\"#000000\" stroke-opacity=\"1\" stroke-width=\"3.2\"/>\n",
       "<circle clip-path=\"url(#clip682)\" cx=\"2134.19\" cy=\"87.9763\" r=\"28\" fill=\"#009af9\" fill-rule=\"evenodd\" fill-opacity=\"1\" stroke=\"#000000\" stroke-opacity=\"1\" stroke-width=\"3.2\"/>\n",
       "<circle clip-path=\"url(#clip682)\" cx=\"2186.6\" cy=\"87.9763\" r=\"28\" fill=\"#009af9\" fill-rule=\"evenodd\" fill-opacity=\"1\" stroke=\"#000000\" stroke-opacity=\"1\" stroke-width=\"3.2\"/>\n",
       "<circle clip-path=\"url(#clip682)\" cx=\"2239.02\" cy=\"87.9763\" r=\"28\" fill=\"#009af9\" fill-rule=\"evenodd\" fill-opacity=\"1\" stroke=\"#000000\" stroke-opacity=\"1\" stroke-width=\"3.2\"/>\n",
       "<circle clip-path=\"url(#clip682)\" cx=\"2291.43\" cy=\"87.9763\" r=\"28\" fill=\"#009af9\" fill-rule=\"evenodd\" fill-opacity=\"1\" stroke=\"#000000\" stroke-opacity=\"1\" stroke-width=\"3.2\"/>\n",
       "<circle clip-path=\"url(#clip682)\" cx=\"247.252\" cy=\"1445.72\" r=\"14\" fill=\"#e26f46\" fill-rule=\"evenodd\" fill-opacity=\"1\" stroke=\"#000000\" stroke-opacity=\"1\" stroke-width=\"3.2\"/>\n",
       "<circle clip-path=\"url(#clip682)\" cx=\"299.667\" cy=\"1445.72\" r=\"14\" fill=\"#e26f46\" fill-rule=\"evenodd\" fill-opacity=\"1\" stroke=\"#000000\" stroke-opacity=\"1\" stroke-width=\"3.2\"/>\n",
       "<circle clip-path=\"url(#clip682)\" cx=\"352.082\" cy=\"1445.72\" r=\"14\" fill=\"#e26f46\" fill-rule=\"evenodd\" fill-opacity=\"1\" stroke=\"#000000\" stroke-opacity=\"1\" stroke-width=\"3.2\"/>\n",
       "<circle clip-path=\"url(#clip682)\" cx=\"404.497\" cy=\"1445.72\" r=\"14\" fill=\"#e26f46\" fill-rule=\"evenodd\" fill-opacity=\"1\" stroke=\"#000000\" stroke-opacity=\"1\" stroke-width=\"3.2\"/>\n",
       "<circle clip-path=\"url(#clip682)\" cx=\"456.911\" cy=\"1445.72\" r=\"14\" fill=\"#e26f46\" fill-rule=\"evenodd\" fill-opacity=\"1\" stroke=\"#000000\" stroke-opacity=\"1\" stroke-width=\"3.2\"/>\n",
       "<circle clip-path=\"url(#clip682)\" cx=\"509.326\" cy=\"1445.72\" r=\"14\" fill=\"#e26f46\" fill-rule=\"evenodd\" fill-opacity=\"1\" stroke=\"#000000\" stroke-opacity=\"1\" stroke-width=\"3.2\"/>\n",
       "<circle clip-path=\"url(#clip682)\" cx=\"561.741\" cy=\"1445.72\" r=\"14\" fill=\"#e26f46\" fill-rule=\"evenodd\" fill-opacity=\"1\" stroke=\"#000000\" stroke-opacity=\"1\" stroke-width=\"3.2\"/>\n",
       "<circle clip-path=\"url(#clip682)\" cx=\"614.156\" cy=\"1445.72\" r=\"14\" fill=\"#e26f46\" fill-rule=\"evenodd\" fill-opacity=\"1\" stroke=\"#000000\" stroke-opacity=\"1\" stroke-width=\"3.2\"/>\n",
       "<circle clip-path=\"url(#clip682)\" cx=\"666.571\" cy=\"1445.72\" r=\"14\" fill=\"#e26f46\" fill-rule=\"evenodd\" fill-opacity=\"1\" stroke=\"#000000\" stroke-opacity=\"1\" stroke-width=\"3.2\"/>\n",
       "<circle clip-path=\"url(#clip682)\" cx=\"718.986\" cy=\"1445.72\" r=\"14\" fill=\"#e26f46\" fill-rule=\"evenodd\" fill-opacity=\"1\" stroke=\"#000000\" stroke-opacity=\"1\" stroke-width=\"3.2\"/>\n",
       "<circle clip-path=\"url(#clip682)\" cx=\"771.4\" cy=\"1445.72\" r=\"14\" fill=\"#e26f46\" fill-rule=\"evenodd\" fill-opacity=\"1\" stroke=\"#000000\" stroke-opacity=\"1\" stroke-width=\"3.2\"/>\n",
       "<circle clip-path=\"url(#clip682)\" cx=\"823.815\" cy=\"1445.72\" r=\"14\" fill=\"#e26f46\" fill-rule=\"evenodd\" fill-opacity=\"1\" stroke=\"#000000\" stroke-opacity=\"1\" stroke-width=\"3.2\"/>\n",
       "<circle clip-path=\"url(#clip682)\" cx=\"876.23\" cy=\"1445.72\" r=\"14\" fill=\"#e26f46\" fill-rule=\"evenodd\" fill-opacity=\"1\" stroke=\"#000000\" stroke-opacity=\"1\" stroke-width=\"3.2\"/>\n",
       "<circle clip-path=\"url(#clip682)\" cx=\"928.645\" cy=\"1445.72\" r=\"14\" fill=\"#e26f46\" fill-rule=\"evenodd\" fill-opacity=\"1\" stroke=\"#000000\" stroke-opacity=\"1\" stroke-width=\"3.2\"/>\n",
       "<circle clip-path=\"url(#clip682)\" cx=\"981.06\" cy=\"1445.72\" r=\"14\" fill=\"#e26f46\" fill-rule=\"evenodd\" fill-opacity=\"1\" stroke=\"#000000\" stroke-opacity=\"1\" stroke-width=\"3.2\"/>\n",
       "<circle clip-path=\"url(#clip682)\" cx=\"1033.47\" cy=\"1445.72\" r=\"14\" fill=\"#e26f46\" fill-rule=\"evenodd\" fill-opacity=\"1\" stroke=\"#000000\" stroke-opacity=\"1\" stroke-width=\"3.2\"/>\n",
       "<circle clip-path=\"url(#clip682)\" cx=\"1085.89\" cy=\"1445.72\" r=\"14\" fill=\"#e26f46\" fill-rule=\"evenodd\" fill-opacity=\"1\" stroke=\"#000000\" stroke-opacity=\"1\" stroke-width=\"3.2\"/>\n",
       "<circle clip-path=\"url(#clip682)\" cx=\"1138.3\" cy=\"87.9763\" r=\"14\" fill=\"#e26f46\" fill-rule=\"evenodd\" fill-opacity=\"1\" stroke=\"#000000\" stroke-opacity=\"1\" stroke-width=\"3.2\"/>\n",
       "<circle clip-path=\"url(#clip682)\" cx=\"1190.72\" cy=\"1445.72\" r=\"14\" fill=\"#e26f46\" fill-rule=\"evenodd\" fill-opacity=\"1\" stroke=\"#000000\" stroke-opacity=\"1\" stroke-width=\"3.2\"/>\n",
       "<circle clip-path=\"url(#clip682)\" cx=\"1243.13\" cy=\"1445.72\" r=\"14\" fill=\"#e26f46\" fill-rule=\"evenodd\" fill-opacity=\"1\" stroke=\"#000000\" stroke-opacity=\"1\" stroke-width=\"3.2\"/>\n",
       "<circle clip-path=\"url(#clip682)\" cx=\"1295.55\" cy=\"1445.72\" r=\"14\" fill=\"#e26f46\" fill-rule=\"evenodd\" fill-opacity=\"1\" stroke=\"#000000\" stroke-opacity=\"1\" stroke-width=\"3.2\"/>\n",
       "<circle clip-path=\"url(#clip682)\" cx=\"1347.96\" cy=\"1445.72\" r=\"14\" fill=\"#e26f46\" fill-rule=\"evenodd\" fill-opacity=\"1\" stroke=\"#000000\" stroke-opacity=\"1\" stroke-width=\"3.2\"/>\n",
       "<circle clip-path=\"url(#clip682)\" cx=\"1400.38\" cy=\"87.9763\" r=\"14\" fill=\"#e26f46\" fill-rule=\"evenodd\" fill-opacity=\"1\" stroke=\"#000000\" stroke-opacity=\"1\" stroke-width=\"3.2\"/>\n",
       "<circle clip-path=\"url(#clip682)\" cx=\"1452.79\" cy=\"87.9763\" r=\"14\" fill=\"#e26f46\" fill-rule=\"evenodd\" fill-opacity=\"1\" stroke=\"#000000\" stroke-opacity=\"1\" stroke-width=\"3.2\"/>\n",
       "<circle clip-path=\"url(#clip682)\" cx=\"1505.21\" cy=\"1445.72\" r=\"14\" fill=\"#e26f46\" fill-rule=\"evenodd\" fill-opacity=\"1\" stroke=\"#000000\" stroke-opacity=\"1\" stroke-width=\"3.2\"/>\n",
       "<circle clip-path=\"url(#clip682)\" cx=\"1557.62\" cy=\"1445.72\" r=\"14\" fill=\"#e26f46\" fill-rule=\"evenodd\" fill-opacity=\"1\" stroke=\"#000000\" stroke-opacity=\"1\" stroke-width=\"3.2\"/>\n",
       "<circle clip-path=\"url(#clip682)\" cx=\"1610.04\" cy=\"87.9763\" r=\"14\" fill=\"#e26f46\" fill-rule=\"evenodd\" fill-opacity=\"1\" stroke=\"#000000\" stroke-opacity=\"1\" stroke-width=\"3.2\"/>\n",
       "<circle clip-path=\"url(#clip682)\" cx=\"1662.45\" cy=\"87.9763\" r=\"14\" fill=\"#e26f46\" fill-rule=\"evenodd\" fill-opacity=\"1\" stroke=\"#000000\" stroke-opacity=\"1\" stroke-width=\"3.2\"/>\n",
       "<circle clip-path=\"url(#clip682)\" cx=\"1714.87\" cy=\"87.9763\" r=\"14\" fill=\"#e26f46\" fill-rule=\"evenodd\" fill-opacity=\"1\" stroke=\"#000000\" stroke-opacity=\"1\" stroke-width=\"3.2\"/>\n",
       "<circle clip-path=\"url(#clip682)\" cx=\"1767.28\" cy=\"87.9763\" r=\"14\" fill=\"#e26f46\" fill-rule=\"evenodd\" fill-opacity=\"1\" stroke=\"#000000\" stroke-opacity=\"1\" stroke-width=\"3.2\"/>\n",
       "<circle clip-path=\"url(#clip682)\" cx=\"1819.7\" cy=\"87.9763\" r=\"14\" fill=\"#e26f46\" fill-rule=\"evenodd\" fill-opacity=\"1\" stroke=\"#000000\" stroke-opacity=\"1\" stroke-width=\"3.2\"/>\n",
       "<circle clip-path=\"url(#clip682)\" cx=\"1872.11\" cy=\"1445.72\" r=\"14\" fill=\"#e26f46\" fill-rule=\"evenodd\" fill-opacity=\"1\" stroke=\"#000000\" stroke-opacity=\"1\" stroke-width=\"3.2\"/>\n",
       "<circle clip-path=\"url(#clip682)\" cx=\"1924.53\" cy=\"87.9763\" r=\"14\" fill=\"#e26f46\" fill-rule=\"evenodd\" fill-opacity=\"1\" stroke=\"#000000\" stroke-opacity=\"1\" stroke-width=\"3.2\"/>\n",
       "<circle clip-path=\"url(#clip682)\" cx=\"1976.94\" cy=\"1445.72\" r=\"14\" fill=\"#e26f46\" fill-rule=\"evenodd\" fill-opacity=\"1\" stroke=\"#000000\" stroke-opacity=\"1\" stroke-width=\"3.2\"/>\n",
       "<circle clip-path=\"url(#clip682)\" cx=\"2029.36\" cy=\"87.9763\" r=\"14\" fill=\"#e26f46\" fill-rule=\"evenodd\" fill-opacity=\"1\" stroke=\"#000000\" stroke-opacity=\"1\" stroke-width=\"3.2\"/>\n",
       "<circle clip-path=\"url(#clip682)\" cx=\"2081.77\" cy=\"87.9763\" r=\"14\" fill=\"#e26f46\" fill-rule=\"evenodd\" fill-opacity=\"1\" stroke=\"#000000\" stroke-opacity=\"1\" stroke-width=\"3.2\"/>\n",
       "<circle clip-path=\"url(#clip682)\" cx=\"2134.19\" cy=\"87.9763\" r=\"14\" fill=\"#e26f46\" fill-rule=\"evenodd\" fill-opacity=\"1\" stroke=\"#000000\" stroke-opacity=\"1\" stroke-width=\"3.2\"/>\n",
       "<circle clip-path=\"url(#clip682)\" cx=\"2186.6\" cy=\"1445.72\" r=\"14\" fill=\"#e26f46\" fill-rule=\"evenodd\" fill-opacity=\"1\" stroke=\"#000000\" stroke-opacity=\"1\" stroke-width=\"3.2\"/>\n",
       "<circle clip-path=\"url(#clip682)\" cx=\"2239.02\" cy=\"87.9763\" r=\"14\" fill=\"#e26f46\" fill-rule=\"evenodd\" fill-opacity=\"1\" stroke=\"#000000\" stroke-opacity=\"1\" stroke-width=\"3.2\"/>\n",
       "<circle clip-path=\"url(#clip682)\" cx=\"2291.43\" cy=\"1445.72\" r=\"14\" fill=\"#e26f46\" fill-rule=\"evenodd\" fill-opacity=\"1\" stroke=\"#000000\" stroke-opacity=\"1\" stroke-width=\"3.2\"/>\n",
       "</svg>\n"
      ]
     },
     "execution_count": 167,
     "metadata": {},
     "output_type": "execute_result"
    }
   ],
   "source": [
    "scatter(active_contexts, markersize=8.0)\n",
    "scatter!(active_models, legend=false)"
   ]
  },
  {
   "cell_type": "markdown",
   "id": "brave-retro",
   "metadata": {},
   "source": [
    "### Preference learning stage"
   ]
  },
  {
   "cell_type": "markdown",
   "id": "cathedral-scratch",
   "metadata": {},
   "source": [
    "#### Generate outputs of HA from JLD files"
   ]
  },
  {
   "cell_type": "code",
   "execution_count": 25,
   "id": "downtown-punishment",
   "metadata": {},
   "outputs": [],
   "source": [
    "# obtain saved jld files containing inference result\n",
    "training_jlds = get_files(\"../sound/AIDA/separated_jld/training/\");"
   ]
  },
  {
   "cell_type": "code",
   "execution_count": 104,
   "id": "american-trace",
   "metadata": {},
   "outputs": [],
   "source": [
    "# initialize gains that agent randomly assigns to the outputs of HA\n",
    "agent_gains = [[2.0, 1.0], [1.0, 0.0], [0.5, 0.5], [0.9, 0.3], [2.5, 1.0], [0.9, 0.1], [0.7, 0.2], [0.2, 0.7], [2.0, 0.0]];"
   ]
  },
  {
   "cell_type": "code",
   "execution_count": 110,
   "id": "operating-seafood",
   "metadata": {},
   "outputs": [],
   "source": [
    "# this snippet generates new ha outputs\n",
    "for training_jld in training_jlds\n",
    "    # read file\n",
    "    d = JLD.load(training_jld)\n",
    "    filename = d[\"filename\"]\n",
    "    # extract speech and noise\n",
    "    rz, rx = get_signal(d[\"rmz\"], fs), get_signal(d[\"rmx\"], fs)\n",
    "    # pick weights \n",
    "    whgs = rand(agent_gains) # can be changed to a smarter function\n",
    "    # create output\n",
    "    ha_out = whgs[1] .* rz + whgs[2] .* rx\n",
    "    # write wav file\n",
    "    WAV.wavwrite(ha_out, fs, \"../sound/AIDA/preference_learning/ha_out_$(whgs[1])_$(whgs[2])_\"*filename[findfirst(\"sp\", filename)[1]:end])\n",
    "end"
   ]
  },
  {
   "cell_type": "markdown",
   "id": "saved-overall",
   "metadata": {},
   "source": [
    "#### Create pairs (gains, context) <-> appraisals"
   ]
  },
  {
   "cell_type": "code",
   "execution_count": 107,
   "id": "noted-belize",
   "metadata": {},
   "outputs": [
    {
     "data": {
      "text/plain": [
       "Dict{String, Any} with 3 entries:\n",
       "  \"gains\"      => [[2.0, 1.0], [2.0, 1.0], [2.5, 1.0], [1.0, 0.0], [0.5, 0.5], …\n",
       "  \"appraisals\" => [0.5, 0.4, 0.5, 0.9, 0.5, 0.4, 0.5, 0.9, 0.3, 0.7  …  0.7, 0.…\n",
       "  \"contexts\"   => [1.0, 1.0, 0.0, 0.0, 1.0, 1.0, 1.0, 0.0, 1.0, 0.0  …  1.0, 0.…"
      ]
     },
     "execution_count": 107,
     "metadata": {},
     "output_type": "execute_result"
    }
   ],
   "source": [
    "# Recorded gains and appraisals \n",
    "# If you want to generate new pairs, please procceed with listening\n",
    "preferences = JLD.load(\"../src/memory/preferences.jld\")\n",
    "@unpack gains, appraisals, contexts = preferences"
   ]
  },
  {
   "cell_type": "markdown",
   "id": "exclusive-nation",
   "metadata": {},
   "source": [
    "#### Listening"
   ]
  },
  {
   "cell_type": "markdown",
   "id": "answering-internship",
   "metadata": {},
   "source": [
    "User gets to listen new audio samples with proposed gains. After each listening he/she evaluates the performance of HA output by binary feedback."
   ]
  },
  {
   "cell_type": "code",
   "execution_count": null,
   "id": "assumed-spare",
   "metadata": {},
   "outputs": [],
   "source": [
    "prl_files = get_files(\"../sound/AIDA/preference_learning/\");\n",
    "\n",
    "# This snippet creates interactive loop where user can like/dislike hearing aid output\n",
    "nnum = 8 # prefix for gains\n",
    "\n",
    "appraisals, gains, contexts = [], [], []\n",
    "shuffle!(prl_files)\n",
    "println(\"Evaluate the HA output from 0.0 (very bad) to 1.0 (excellent)\")\n",
    "flush(stdout)\n",
    "for prl_file in prl_files\n",
    "    \n",
    "    if !occursin(\"wav\", prl_file)\n",
    "        continue\n",
    "    end\n",
    "    WAV.wavplay(prl_file)\n",
    "    \n",
    "    # extract gains routine\n",
    "    pref_id = findfirst(\"out_\", prl_file)[end]\n",
    "    gains_str = prl_file[pref_id+1:pref_id+nnum-1]\n",
    "    push!(gains, parse.(Float64, split(gains_str, \"_\")))\n",
    "    println(gains[end])\n",
    "    # extract context routine\n",
    "    push!(contexts, occursin(\"babble\", prl_file) ? 1.0 : 2.0)\n",
    "    \n",
    "    println(\"How's HA output? (r to repeat)\")\n",
    "    appraisal = -1\n",
    "    while !(0.0 <= appraisal <= 1.0)\n",
    "        flush(stdout)\n",
    "        appraisal = readline()\n",
    "        if appraisal == \"r\"\n",
    "            WAV.wavplay(prl_file)\n",
    "            appraisal = -1\n",
    "            continue\n",
    "        end\n",
    "        try \n",
    "            appraisal = parse(Float64, appraisal)\n",
    "        catch error\n",
    "            println(error)\n",
    "            appraisal = -1\n",
    "            continue\n",
    "        end\n",
    "    end\n",
    "    push!(appraisals, appraisal)\n",
    "    \n",
    "end\n",
    "JLD.save(\"../src/memory/preferences.jld\", \"appraisals\", appraisals, \"gains\", gains, \"contexts\", contexts)"
   ]
  },
  {
   "cell_type": "code",
   "execution_count": 54,
   "id": "technological-childhood",
   "metadata": {},
   "outputs": [],
   "source": [
    "function f(params)\n",
    "    fe = inference_flow_classifier(Float64.(data_y), [data_x[k,:] for k=1:size(data_x,1)], params)\n",
    "    return fe\n",
    "end;"
   ]
  },
  {
   "cell_type": "code",
   "execution_count": 56,
   "id": "classical-radio",
   "metadata": {},
   "outputs": [
    {
     "data": {
      "text/plain": [
       "([2.039163646439623 0.961518323989664; 2.0162345477630517 0.9880893495648702; … ; 2.4936673408293486 0.998753713265008; 0.9819225690131673 -0.050998745463014625], [0.5, 0.4, 0.5, 0.9, 0.5, 0.4, 0.5, 0.9, 0.3, 0.7  …  0.7, 0.4, 0.65, 0.25, 0.7, 0.0, 0.4, 0.69, 0.7, 0.8])"
      ]
     },
     "execution_count": 56,
     "metadata": {},
     "output_type": "execute_result"
    }
   ],
   "source": [
    "context = 1.0 #babble\n",
    "# context = 2.0 #train\n",
    "data_x, data_y = get_learning_data(preferences, context)"
   ]
  },
  {
   "cell_type": "code",
   "execution_count": 58,
   "id": "pregnant-asian",
   "metadata": {},
   "outputs": [
    {
     "data": {
      "text/plain": [
       "3230.795323208903"
      ]
     },
     "execution_count": 58,
     "metadata": {},
     "output_type": "execute_result"
    }
   ],
   "source": [
    "rng = MersenneTwister(1)\n",
    "\n",
    "f(randn(rng, 12))"
   ]
  },
  {
   "cell_type": "code",
   "execution_count": null,
   "id": "emerging-sweet",
   "metadata": {},
   "outputs": [],
   "source": [
    "# Here agent plans and learns\n",
    "gs = [0.5, 0.5]\n",
    "covgs = diageye(2)\n",
    "context = 0.5\n",
    "for test_jld in test_jlds\n",
    "    d = JLD.load(test_jld)\n",
    "    rmz, rmx = d[\"rmz\"], d[\"rmx\"]\n",
    "    filename = d[\"filename\"]\n",
    "    # TODO: context inference\n",
    "    if occursin(\"/babble/\", filename)\n",
    "        context = 1.0\n",
    "        params = Optim.minimizer(res_babble)\n",
    "        fe, gains = inference_flow_planner(gs, covgs, 1.0, params)\n",
    "    elseif occursin(\"/train/\", filename)\n",
    "        context = 0.0\n",
    "        params = Optim.minimizer(res_train)\n",
    "        fe, gains = inference_flow_planner(gs, covgs, 1.0, params)\n",
    "    else\n",
    "        continue\n",
    "    end\n",
    "    rz, rx = get_signal(rmz, fs), get_signal(rmx, fs)\n",
    "    # TODO change to the output of flow_nn\n",
    "    gs = mean(gains)\n",
    "    ha_out = gs[1] .* rz + gs[2] .* rx\n",
    "    \n",
    "    full_name = \"../sound/AIDA/planning/ha_out_$(gs[1])_$(gs[2])_\"*filename[findfirst(\"sp\", filename)[1]:end]\n",
    "    WAV.wavwrite(ha_out, fs, full_name)\n",
    "    WAV.wavplay(full_name)\n",
    "    println(\"How's HA output 0..1 ?\")\n",
    "    appraisal = readline()\n",
    "    \n",
    "    # we can learn here as well. If the user provides a feedback to each proposal, we can feed this information back to our learning function.\n",
    "    push!(active_dict[\"appraisals\"], parse(Float64, appraisal))\n",
    "    push!(active_dict[\"gains\"], gs)\n",
    "    push!(active_dict[\"contexts\"], context)\n",
    "end"
   ]
  },
  {
   "cell_type": "code",
   "execution_count": null,
   "id": "rising-webster",
   "metadata": {},
   "outputs": [
    {
     "name": "stdout",
     "output_type": "stream",
     "text": [
      "Iter     Function value   Gradient norm \n",
      "     0     1.209474e+04     6.701012e+03\n",
      " * time: 0.00010085105895996094\n",
      "     1     3.251034e+03     2.362342e+03\n",
      " * time: 0.32674694061279297\n",
      "     2     4.804030e+02     4.138629e+02\n",
      " * time: 0.47789788246154785\n",
      "     3     2.772470e+02     1.262527e+02\n",
      " * time: 0.6343679428100586\n",
      "     4     2.525020e+02     1.375445e+02\n",
      " * time: 0.7901079654693604\n",
      "     5     2.398343e+02     1.007449e+02\n",
      " * time: 0.9000217914581299\n",
      "     6     2.303162e+02     6.324120e+01\n",
      " * time: 1.067605972290039\n",
      "     7     2.241098e+02     1.563470e+02\n",
      " * time: 1.227712869644165\n",
      "     8     1.785655e+02     1.891067e+02\n",
      " * time: 1.433762788772583\n",
      "     9     1.742830e+02     1.427989e+02\n",
      " * time: 1.5871319770812988\n",
      "    10     1.641674e+02     1.360540e+02\n",
      " * time: 1.7534849643707275\n",
      "    11     1.611405e+02     6.436318e+01\n",
      " * time: 1.9063308238983154\n",
      "    12     1.593350e+02     3.289795e+01\n",
      " * time: 2.1091527938842773\n",
      "    13     1.570431e+02     4.289117e+01\n",
      " * time: 2.4023489952087402\n",
      "    14     1.552845e+02     5.672014e+01\n",
      " * time: 2.629396915435791\n",
      "    15     1.535678e+02     3.004312e+01\n",
      " * time: 2.824270009994507\n",
      "    16     1.502135e+02     3.161627e+01\n",
      " * time: 3.108253002166748\n",
      "    17     1.491644e+02     4.933280e+01\n",
      " * time: 3.336146831512451\n",
      "    18     1.480721e+02     9.969766e+01\n",
      " * time: 3.56630277633667\n",
      "    19     1.467182e+02     2.598433e+01\n",
      " * time: 3.7419707775115967\n",
      "    20     1.464697e+02     2.117633e+01\n",
      " * time: 3.9591097831726074\n",
      "    21     1.446382e+02     2.503022e+01\n",
      " * time: 4.11702299118042\n",
      "    22     1.445875e+02     1.508722e+01\n",
      " * time: 8.188669919967651\n",
      "    23     1.424635e+02     2.606515e+01\n",
      " * time: 8.304382801055908\n",
      "    24     1.419762e+02     2.666860e+01\n",
      " * time: 10.150467872619629\n",
      "    25     1.419762e+02     2.666860e+01\n",
      " * time: 15.848605871200562\n"
     ]
    }
   ],
   "source": [
    "data_x, data_y = get_learning_data(active_dict, 0.0)\n",
    "res_train = optimize(f, randn(12), LBFGS(), Optim.Options(store_trace = false, show_trace = true, f_tol=1e-10), autodiff=:forward);"
   ]
  },
  {
   "cell_type": "code",
   "execution_count": null,
   "id": "sacred-section",
   "metadata": {},
   "outputs": [
    {
     "name": "stdout",
     "output_type": "stream",
     "text": [
      "Iter     Function value   Gradient norm \n",
      "     0     1.896678e+04     8.453586e+03\n",
      " * time: 0.00014781951904296875\n",
      "     1     3.031413e+03     8.696211e+03\n",
      " * time: 0.3738739490509033\n",
      "     2     1.408799e+03     2.492577e+03\n",
      " * time: 0.6177668571472168\n",
      "     3     5.303161e+02     8.336671e+02\n",
      " * time: 0.8022058010101318\n",
      "     4     4.764814e+02     3.304571e+02\n",
      " * time: 0.9433548450469971\n",
      "     5     3.480734e+02     3.894615e+02\n",
      " * time: 1.1286427974700928\n",
      "     6     2.893697e+02     4.497519e+02\n",
      " * time: 1.2758409976959229\n",
      "     7     2.449295e+02     1.305892e+02\n",
      " * time: 1.3842239379882812\n",
      "     8     2.380654e+02     4.238580e+02\n",
      " * time: 1.4889748096466064\n",
      "     9     2.165718e+02     2.677151e+02\n",
      " * time: 1.6860268115997314\n",
      "    10     1.933184e+02     5.339142e+01\n",
      " * time: 1.8787009716033936\n",
      "    11     1.878039e+02     8.013747e+01\n",
      " * time: 2.0669097900390625\n",
      "    12     1.780145e+02     1.062218e+02\n",
      " * time: 2.22525691986084\n",
      "    13     1.747833e+02     1.138836e+02\n",
      " * time: 2.4210047721862793\n",
      "    14     1.735816e+02     2.816416e+01\n",
      " * time: 2.518044948577881\n",
      "    15     1.730951e+02     1.230745e+01\n",
      " * time: 2.707246780395508\n",
      "    16     1.704127e+02     9.050428e+01\n",
      " * time: 2.948678970336914\n",
      "    17     1.693437e+02     1.304008e+02\n",
      " * time: 3.0966169834136963\n",
      "    18     1.656864e+02     2.115845e+02\n",
      " * time: 3.2533998489379883\n",
      "    19     1.601554e+02     4.334684e+01\n",
      " * time: 3.443372964859009\n",
      "    20     1.569727e+02     8.468771e+01\n",
      " * time: 3.544466972351074\n",
      "    21     1.566665e+02     3.159573e+01\n",
      " * time: 3.6858057975769043\n",
      "    22     1.564848e+02     3.299761e+01\n",
      " * time: 3.87959885597229\n",
      "    23     1.563280e+02     3.649800e+01\n",
      " * time: 3.982449769973755\n",
      "    24     1.561651e+02     2.310450e+01\n",
      " * time: 4.180693864822388\n",
      "    25     1.561058e+02     1.115830e+01\n",
      " * time: 4.390478849411011\n",
      "    26     1.553305e+02     7.007924e+01\n",
      " * time: 4.58139181137085\n",
      "    27     1.530822e+02     8.730666e+01\n",
      " * time: 4.762662887573242\n",
      "    28     1.514268e+02     3.952285e+01\n",
      " * time: 4.896990776062012\n",
      "    29     1.508790e+02     2.382480e+01\n",
      " * time: 4.995876789093018\n",
      "    30     1.505092e+02     5.441396e+01\n",
      " * time: 5.212882995605469\n",
      "    31     1.501766e+02     4.505413e+01\n",
      " * time: 5.405096769332886\n",
      "    32     1.487040e+02     5.612170e+01\n",
      " * time: 5.56895899772644\n",
      "    33     1.478817e+02     1.740179e+02\n",
      " * time: 5.7168920040130615\n",
      "    34     1.471423e+02     1.985316e+01\n",
      " * time: 5.825103998184204\n",
      "    35     1.468871e+02     6.126335e+01\n",
      " * time: 6.0303308963775635\n",
      "    36     1.466376e+02     1.288333e+01\n",
      " * time: 6.24448299407959\n",
      "    37     1.465648e+02     8.078679e+00\n",
      " * time: 6.396607875823975\n",
      "    38     1.465261e+02     1.561229e+01\n",
      " * time: 6.5595269203186035\n",
      "    39     1.462658e+02     7.157852e+01\n",
      " * time: 6.70043683052063\n",
      "    40     1.447683e+02     2.212272e+01\n",
      " * time: 6.95259690284729\n",
      "    41     1.436364e+02     3.302499e+01\n",
      " * time: 7.10784387588501\n",
      "    42     1.434897e+02     3.374554e+01\n",
      " * time: 7.212215900421143\n",
      "    43     1.424184e+02     2.650659e+01\n",
      " * time: 7.3661208152771\n",
      "    44     1.415319e+02     5.452722e+01\n",
      " * time: 7.468862771987915\n",
      "    45     1.414112e+02     2.762370e+01\n",
      " * time: 7.611975908279419\n",
      "    46     1.413041e+02     2.569365e+01\n",
      " * time: 7.712101936340332\n",
      "    47     1.412178e+02     2.364929e+01\n",
      " * time: 7.859717845916748\n",
      "    48     1.411152e+02     2.237926e+01\n",
      " * time: 7.968480825424194\n",
      "    49     1.409610e+02     1.323769e+01\n",
      " * time: 8.104213953018188\n",
      "    50     1.407304e+02     4.327537e+01\n",
      " * time: 8.330196857452393\n",
      "    51     1.404886e+02     1.042517e+02\n",
      " * time: 8.88100290298462\n",
      "    52     1.403204e+02     1.916788e+02\n",
      " * time: 10.453919887542725\n",
      "    53     1.386953e+02     2.068284e+02\n",
      " * time: 10.597869873046875\n",
      "    54     1.358701e+02     2.873809e+02\n",
      " * time: 10.846248865127563\n",
      "    55     1.353717e+02     3.004338e+02\n",
      " * time: 11.099190950393677\n",
      "    56     1.308228e+02     2.348572e+02\n",
      " * time: 11.299532890319824\n",
      "    57     1.297576e+02     1.234912e+02\n",
      " * time: 11.452619791030884\n",
      "    58     1.262455e+02     1.426839e+02\n",
      " * time: 11.6335129737854\n",
      "    59     1.262403e+02     1.364198e+02\n",
      " * time: 14.781839847564697\n",
      "    60     1.233068e+02     2.061390e+02\n",
      " * time: 14.980287790298462\n",
      "    61     1.215724e+02     2.067312e+02\n",
      " * time: 18.318078994750977\n",
      "    62     1.195547e+02     2.045281e+02\n",
      " * time: 21.81609082221985\n",
      "    63     1.195547e+02     2.045281e+02\n",
      " * time: 27.353206872940063\n"
     ]
    },
    {
     "data": {
      "text/plain": [
       " * Status: success\n",
       "\n",
       " * Candidate solution\n",
       "    Final objective value:     1.195547e+02\n",
       "\n",
       " * Found with\n",
       "    Algorithm:     L-BFGS\n",
       "\n",
       " * Convergence measures\n",
       "    |x - x'|               = 0.00e+00 ≤ 0.0e+00\n",
       "    |x - x'|/|x'|          = 0.00e+00 ≤ 0.0e+00\n",
       "    |f(x) - f(x')|         = 0.00e+00 ≤ 0.0e+00\n",
       "    |f(x) - f(x')|/|f(x')| = 0.00e+00 ≤ 1.0e-10\n",
       "    |g(x)|                 = 2.05e+02 ≰ 1.0e-08\n",
       "\n",
       " * Work counters\n",
       "    Seconds run:   27  (vs limit Inf)\n",
       "    Iterations:    63\n",
       "    f(x) calls:    448\n",
       "    ∇f(x) calls:   448\n"
      ]
     },
     "execution_count": 56,
     "metadata": {},
     "output_type": "execute_result"
    }
   ],
   "source": [
    "data_x, data_y = get_learning_data(active_dict, 1.0)\n",
    "res_babble = optimize(f, randn(12), LBFGS(), Optim.Options(store_trace = false, show_trace = true, f_tol=1e-10), autodiff=:forward)"
   ]
  },
  {
   "cell_type": "code",
   "execution_count": null,
   "id": "realistic-background",
   "metadata": {},
   "outputs": [],
   "source": [
    "using StatsFuns: normcdf\n",
    "data_x, data_y = get_learning_data(active_dict, 0.0)\n",
    "params = Optim.minimizer(res_train)\n",
    "inferred_model = deepcopy(compile(model, params))\n",
    "classification_map = map((x) -> normcdf(dot([1,1],x)), map((x) -> forward(inferred_model, [x...]), collect(Iterators.product(0:0.01:3, 0:0.01:1))))\n",
    "im1 = scatter(data_x[:,1], data_x[:,2], xlabel=\"gain 1\", ylabel=\"gain 2\", color=dat_to_col(data_y))\n",
    "im2 = scatter(data_x[:,1], data_x[:,2], xlabel=\"gain 1\", ylabel=\"gain 2\", color=cmap.(normcdf.(trans_data_x_2)))\n",
    "im3 = contour(0.0:0.1:2.5, 0.0:0.01:2.5, (x, y) -> normcdf(dot([1, 1], forward(inferred_model, [x, y]))), color=[\"blue\", \"red\"])\n",
    "plot(im1, im2, im3, legend=false, layout=(1, 3), size=(1200, 300))"
   ]
  }
 ],
 "metadata": {
  "kernelspec": {
   "display_name": "Julia 1.6.0",
   "language": "julia",
   "name": "julia-1.6"
  },
  "language_info": {
   "file_extension": ".jl",
   "mimetype": "application/julia",
   "name": "julia",
   "version": "1.6.0"
  }
 },
 "nbformat": 4,
 "nbformat_minor": 5
}
