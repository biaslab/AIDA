{
 "cells": [
  {
   "cell_type": "code",
   "execution_count": 12,
   "metadata": {},
   "outputs": [],
   "source": [
    "using JLD\n",
    "using Distributions\n",
    "using LinearAlgebra\n",
    "using Random\n",
    "using WAV\n",
    "using Plots\n",
    "using ImageCore\n",
    "using GraphPPL\n",
    "using ReactiveMP\n",
    "using Optim\n",
    "using AIDA\n",
    "using Parameters\n",
    "import ProgressMeter"
   ]
  },
  {
   "cell_type": "code",
   "execution_count": null,
   "metadata": {},
   "outputs": [],
   "source": [
    "function init_environment(; from_scratch=false)\n",
    "    \n",
    "    if !from_scratch\n",
    "        # read context memory \n",
    "        context_priors = [JLD.load(file) for file in get_sounds_fn(\"../src/memory/context\")]    \n",
    "\n",
    "        # read processed auido\n",
    "        test_jlds = get_files(\"sound/AIDA/separated_jld/test/\");\n",
    "        \n",
    "        \n",
    "    end\n",
    "    \n",
    "end"
   ]
  },
  {
   "cell_type": "code",
   "execution_count": null,
   "metadata": {},
   "outputs": [],
   "source": [
    "function init_agent(; from_scratch=false)\n",
    "    # read preferences\n",
    "    preferences = JLD.load(\"../src/memory/preferences.jld\")\n",
    "    \n",
    "    # read neural params of trained NN?\n",
    "end"
   ]
  },
  {
   "cell_type": "code",
   "execution_count": 19,
   "metadata": {},
   "outputs": [
    {
     "data": {
      "text/plain": [
       "preference_learning (generic function with 1 method)"
      ]
     },
     "execution_count": 19,
     "metadata": {},
     "output_type": "execute_result"
    }
   ],
   "source": [
    "function preference_learning(preferences, context_num; augment_data=true)\n",
    "    data_x, data_y = augment_data ? get_learning_data(preferences, context_num) : (preferences[\"gains\"], preferences[\"appraisals\"])\n",
    "    function f(params)\n",
    "        fe = inference_flow_classifier(Float64.(data_y), [data_x[k,:] for k=1:size(data_x,1)], params)\n",
    "    end\n",
    "    res = optimize(f, randn(nr_params(model)), LBFGS(), Optim.Options(store_trace = true, show_trace = true, f_tol=1e-12), autodiff=:forward)\n",
    "end"
   ]
  },
  {
   "cell_type": "code",
   "execution_count": null,
   "metadata": {},
   "outputs": [],
   "source": [
    "function listen()\n",
    "    # \n",
    "end"
   ]
  },
  {
   "cell_type": "code",
   "execution_count": null,
   "metadata": {},
   "outputs": [],
   "source": [
    "function act()\n",
    "    #\n",
    "end"
   ]
  }
 ],
 "metadata": {
  "kernelspec": {
   "display_name": "Julia 1.6.0",
   "language": "julia",
   "name": "julia-1.6"
  },
  "language_info": {
   "file_extension": ".jl",
   "mimetype": "application/julia",
   "name": "julia",
   "version": "1.6.0"
  }
 },
 "nbformat": 4,
 "nbformat_minor": 4
}
