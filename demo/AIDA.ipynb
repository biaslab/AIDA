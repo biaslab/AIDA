{
 "cells": [
  {
   "cell_type": "code",
   "execution_count": 19,
   "metadata": {},
   "outputs": [
    {
     "name": "stderr",
     "output_type": "stream",
     "text": [
      "┌ Info: Precompiling AIDA [02ab3c64-7f6e-4624-92b1-4056b28faae1]\n",
      "└ @ Base loading.jl:1317\n"
     ]
    }
   ],
   "source": [
    "using JLD\n",
    "using Distributions\n",
    "using LinearAlgebra\n",
    "using Random\n",
    "using WAV\n",
    "using Plots\n",
    "using ImageCore\n",
    "using GraphPPL\n",
    "using ReactiveMP\n",
    "using Optim\n",
    "using Parameters\n",
    "using AIDA\n",
    "import ProgressMeter"
   ]
  },
  {
   "cell_type": "code",
   "execution_count": 53,
   "metadata": {},
   "outputs": [
    {
     "data": {
      "text/plain": [
       "init_environment (generic function with 1 method)"
      ]
     },
     "execution_count": 53,
     "metadata": {},
     "output_type": "execute_result"
    }
   ],
   "source": [
    "function init_environment(; from_scratch=false)\n",
    "    \n",
    "    if !from_scratch\n",
    "        # read context memory \n",
    "        context_priors = [JLD.load(file) for file in get_files(\"../src/memory/context_params\")]    \n",
    "        # read processed auido\n",
    "        training_jlds = JLD.load.(get_files(\"../sound/AIDA/separated_jld/training/\"))\n",
    "        test_jlds = JLD.load.(get_files(\"../sound/AIDA/separated_jld/test/\"));\n",
    "        \n",
    "        return context_priors, training_jlds, test_jlds\n",
    "    else\n",
    "        return error(\"Please create training and test files\")\n",
    "    end\n",
    "    \n",
    "end"
   ]
  },
  {
   "cell_type": "code",
   "execution_count": 34,
   "metadata": {},
   "outputs": [
    {
     "data": {
      "text/plain": [
       "init_agent (generic function with 1 method)"
      ]
     },
     "execution_count": 34,
     "metadata": {},
     "output_type": "execute_result"
    }
   ],
   "source": [
    "function init_agent(; preferences=nothing, contexts=nothing)\n",
    "    # read preferences\n",
    "    if !isnothing(preferences)\n",
    "        for context in contexts\n",
    "            preference_learning(preferences, context, record=true)\n",
    "        end\n",
    "    else\n",
    "        preferences = JLD.load(\"../src/memory/preferences.jld\")\n",
    "    end\n",
    "    \n",
    "end"
   ]
  },
  {
   "cell_type": "code",
   "execution_count": 19,
   "metadata": {},
   "outputs": [
    {
     "data": {
      "text/plain": [
       "preference_learning (generic function with 1 method)"
      ]
     },
     "execution_count": 19,
     "metadata": {},
     "output_type": "execute_result"
    }
   ],
   "source": [
    "function preference_learning(preferences, context_num; augment_data=true, tolerance=1e-12, record=false)\n",
    "    data_x, data_y = augment_data ? get_learning_data(preferences, context_num) : (preferences[\"gains\"], preferences[\"appraisals\"])\n",
    "    function f(params)\n",
    "        fe = inference_flow_classifier(Float64.(data_y), [data_x[k,:] for k=1:size(data_x,1)], params)\n",
    "    end\n",
    "    res = optimize(f, randn(nr_params(model)), LBFGS(), Optim.Options(store_trace = true, show_trace = true, f_tol=tolerance), autodiff=:forward)\n",
    "    if record JLD.save(\"../src/memory/preference_params_$(context_num).jld\") end\n",
    "    return res\n",
    "end"
   ]
  },
  {
   "cell_type": "code",
   "execution_count": null,
   "metadata": {},
   "outputs": [],
   "source": [
    "listen(sound) = WAV.wavplay(sound, 8000)"
   ]
  },
  {
   "cell_type": "code",
   "execution_count": null,
   "metadata": {},
   "outputs": [],
   "source": [
    "function act(goal=1.0; params, priors_gs=[repeat([0.5], 2), diagm(ones(2))])\n",
    "    m_gs, cov_gs = priors_gs[1], priors_gs[2]\n",
    "    fe, gains = inference_flow_planner(m_gs, cov_gs, goal, params)\n",
    "    mean(gains)\n",
    "end"
   ]
  },
  {
   "cell_type": "code",
   "execution_count": null,
   "metadata": {},
   "outputs": [],
   "source": [
    "function observe(user)\n",
    "    # \n",
    "end"
   ]
  },
  {
   "cell_type": "code",
   "execution_count": 57,
   "metadata": {},
   "outputs": [],
   "source": [
    "# let there be environment\n",
    "context_priors, training_jlds, test_jlds = init_environment();"
   ]
  },
  {
   "cell_type": "code",
   "execution_count": 35,
   "metadata": {},
   "outputs": [
    {
     "data": {
      "text/plain": [
       "Dict{String, Any} with 3 entries:\n",
       "  \"gains\"      => Any[]\n",
       "  \"appraisals\" => Any[]\n",
       "  \"contexts\"   => Any[]"
      ]
     },
     "execution_count": 35,
     "metadata": {},
     "output_type": "execute_result"
    }
   ],
   "source": [
    "# let there be agent\n",
    "preferences = JLD.load(\"../src/memory/preferences.jld\")"
   ]
  },
  {
   "cell_type": "code",
   "execution_count": null,
   "metadata": {},
   "outputs": [],
   "source": [
    "init_agent()"
   ]
  },
  {
   "cell_type": "code",
   "execution_count": 60,
   "metadata": {},
   "outputs": [],
   "source": [
    "# we must get sensible context change\n",
    "sounds = vcat(training_jlds, test_jlds);"
   ]
  },
  {
   "cell_type": "code",
   "execution_count": null,
   "metadata": {},
   "outputs": [],
   "source": [
    "fs = 8000\n",
    "gs = [1.5, 0.0]\n",
    "for sound in sounds\n",
    "    rz, rx = get_signal(sound[\"rmz\"], fs), get_signal(sound[\"rmx\"], fs)\n",
    "    listen(gs[1]*rx + gs[2]*rz)\n",
    "#     observe()\n",
    "#     act()\n",
    "end"
   ]
  },
  {
   "cell_type": "code",
   "execution_count": 7,
   "metadata": {},
   "outputs": [
    {
     "data": {
      "text/plain": [
       "Base.RefValue{Vector{Float64}}([1.0, 1.0])"
      ]
     },
     "execution_count": 7,
     "metadata": {},
     "output_type": "execute_result"
    }
   ],
   "source": [
    "stop = Ref(false)\n",
    "params = Ref([ 1.0, 1.0 ])"
   ]
  },
  {
   "cell_type": "code",
   "execution_count": 8,
   "metadata": {},
   "outputs": [
    {
     "data": {
      "text/plain": [
       "Task (runnable) @0x0000000149ef8780"
      ]
     },
     "execution_count": 8,
     "metadata": {},
     "output_type": "execute_result"
    }
   ],
   "source": [
    "thread_task = Threads.@spawn begin \n",
    "    while !stop[]\n",
    "        params[] = rand(2)\n",
    "        sleep(1)\n",
    "    end\n",
    "    println(\"Stopped\")\n",
    "end"
   ]
  },
  {
   "cell_type": "code",
   "execution_count": 14,
   "metadata": {},
   "outputs": [
    {
     "data": {
      "text/plain": [
       "2-element Vector{Float64}:\n",
       " 0.5435637769124955\n",
       " 0.6544541146155975"
      ]
     },
     "execution_count": 14,
     "metadata": {},
     "output_type": "execute_result"
    }
   ],
   "source": [
    "params[]"
   ]
  },
  {
   "cell_type": "code",
   "execution_count": 13,
   "metadata": {},
   "outputs": [
    {
     "data": {
      "text/plain": [
       "true"
      ]
     },
     "execution_count": 13,
     "metadata": {},
     "output_type": "execute_result"
    },
    {
     "name": "stdout",
     "output_type": "stream",
     "text": [
      "Stopped\n"
     ]
    }
   ],
   "source": [
    "stop[] = true"
   ]
  },
  {
   "cell_type": "code",
   "execution_count": 63,
   "metadata": {},
   "outputs": [
    {
     "data": {
      "text/plain": [
       "Dict{String, Any} with 12 entries:\n",
       "  \"rvz\"      => [0.000101767 5.94421e-5 … 4.27124e-5 4.77129e-5; 0.00015319 7.8…\n",
       "  \"rmz\"      => [0.00393807 0.00172847 … 0.00398806 0.00186795; -0.00781915 -0.…\n",
       "  \"rvθ\"      => [0.0086706 -0.00395446 … 0.00018301 7.04482e-5; 0.00997423 -0.0…\n",
       "  \"rvη\"      => [0.0169373 -0.00292943; 0.0140704 -0.00232894; … ; 0.018825 -0.…\n",
       "  \"rmη\"      => [0.213052 -0.0603124; 0.199062 -0.0806925; … ; 0.269107 -0.1362…\n",
       "  \"rγ\"       => [(41.0, 0.00213666), (41.0, 0.00273831), (41.0, 0.00219114), (4…\n",
       "  \"fe\"       => [344.243 321.8 … -477.472 -478.108; 344.244 321.8 … -466.351 -4…\n",
       "  \"rmx\"      => [0.000677795 0.00490101 … 0.00841169 0.000695601; 0.00368916 -0…\n",
       "  \"rτ\"       => [(81.0, 0.0106904), (81.0, 0.0114115), (81.0, 0.0107034), (81.0…\n",
       "  \"filename\" => \"../sound/AIDA/training/babble/5dB/sp01_babble_sn5.wav\"\n",
       "  \"rvx\"      => [0.000100599 5.956e-5 … 4.27913e-5 4.77129e-5; 0.000151011 7.84…\n",
       "  \"rmθ\"      => [0.524894 0.180105 … -0.0179563 -0.00511929; 0.51373 0.127555 ……"
      ]
     },
     "execution_count": 63,
     "metadata": {},
     "output_type": "execute_result"
    }
   ],
   "source": [
    "sounds[2]"
   ]
  },
  {
   "cell_type": "code",
   "execution_count": null,
   "metadata": {},
   "outputs": [],
   "source": []
  }
 ],
 "metadata": {
  "kernelspec": {
   "display_name": "Julia 1.6.0",
   "language": "julia",
   "name": "julia-1.6"
  },
  "language_info": {
   "file_extension": ".jl",
   "mimetype": "application/julia",
   "name": "julia",
   "version": "1.6.0"
  }
 },
 "nbformat": 4,
 "nbformat_minor": 4
}
