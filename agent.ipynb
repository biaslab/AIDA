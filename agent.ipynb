{
 "cells": [
  {
   "cell_type": "code",
   "execution_count": 156,
   "id": "creative-footwear",
   "metadata": {},
   "outputs": [
    {
     "data": {
      "text/plain": [
       "10-element Vector{Bool}:\n",
       " 1\n",
       " 1\n",
       " 1\n",
       " 1\n",
       " 0\n",
       " 1\n",
       " 1\n",
       " 0\n",
       " 1\n",
       " 1"
      ]
     },
     "execution_count": 156,
     "metadata": {},
     "output_type": "execute_result"
    }
   ],
   "source": [
    "# generate data\n",
    "import Distributions\n",
    "using Random\n",
    "\n",
    "Random.seed!(42)\n",
    "\n",
    "n_samples = 10\n",
    "dimensionality = 2\n",
    "rθ = [-0.5, 0.2]\n",
    "inputs = randn(n_samples, dimensionality)\n",
    "σ(w, x) = 1/(1+exp(-w'x))\n",
    "πs = [σ(rθ, inputs[i, :]) for i in 1:n_samples]\n",
    "outputs = [rand(Distributions.Bernoulli(πs[i])) for i in 1:n_samples]"
   ]
  },
  {
   "cell_type": "code",
   "execution_count": 233,
   "id": "biological-rough",
   "metadata": {},
   "outputs": [],
   "source": [
    "# test nonlinear\n",
    "using ForneyLab\n",
    "import ForneyLab: unsafeMean, unsafeCov\n",
    "\n",
    "graph = FactorGraph()\n",
    "\n",
    "T = n_samples\n",
    "x = Vector{Variable}(undef, T)\n",
    "y = Vector{Variable}(undef, T)\n",
    "\n",
    "# Hearing aid parameters\n",
    "@RV θ  ~ GaussianMeanPrecision(placeholder(:m_θ, dims=(order,)), placeholder(:W_θ, dims=(order, order)))\n",
    "f(w,x) = 1/(1+exp(-w'x))\n",
    "for i in 1:T\n",
    "    @eval $(Symbol(\"func$i\"))(θ) = f(θ,inputs[$i, :])\n",
    "    @RV x[i] ~ Nonlinear{Sampling}(θ, g=eval(Symbol(\"func$i\")), in_variates=[Multivariate], out_variate=Univariate)\n",
    "    @RV y[i] ~ Bernoulli(x[i])\n",
    "    placeholder(y[i], :y, index=i)\n",
    "end"
   ]
  },
  {
   "cell_type": "code",
   "execution_count": 234,
   "id": "absolute-arabic",
   "metadata": {},
   "outputs": [],
   "source": [
    "algo = messagePassingAlgorithm(θ, free_energy=true)\n",
    "src_code = algorithmSourceCode(algo, free_energy=true);"
   ]
  },
  {
   "cell_type": "code",
   "execution_count": 235,
   "id": "bigger-netscape",
   "metadata": {},
   "outputs": [
    {
     "name": "stdout",
     "output_type": "stream",
     "text": [
      "begin\n",
      "\n",
      "function step!(data::Dict, marginals::Dict=Dict(), messages::Vector{Message}=Array{Message}(undef, 4))\n",
      "\n",
      "messages[1] = ruleSPGaussianMeanPrecisionOutNPP(nothing, Message(Multivariate, PointMass, m=data[:m_θ]), Message(MatrixVariate, PointMass, m=data[:W_θ]))\n",
      "messages[2] = ruleSPBernoulliIn1PN(Message(Univariate, PointMass, m=data[:y][1]), nothing)\n",
      "messages[3] = ruleSPNonlinearSIn1MN(func1, messages[2], nothing, variate=Multivariate)\n",
      "messages[4] = ruleSPNonlinearSOutNM(func1, nothing, messages[1], variate=Univariate)\n",
      "\n",
      "marginals[:x_1] = messages[4].dist * messages[2].dist\n",
      "marginals[:θ] = messages[1].dist * messages[3].dist\n",
      "\n",
      "return marginals\n",
      "\n",
      "end\n",
      "\n",
      "function freeEnergy(data::Dict, marginals::Dict)\n",
      "\n",
      "F = 0.0\n",
      "\n",
      "F += averageEnergy(Bernoulli, ProbabilityDistribution(Univariate, PointMass, m=data[:y][1]), marginals[:x_1])\n",
      "F += averageEnergy(GaussianMeanPrecision, marginals[:θ], ProbabilityDistribution(Multivariate, PointMass, m=data[:m_θ]), ProbabilityDistribution(MatrixVariate, PointMass, m=data[:W_θ]))\n",
      "\n",
      "F -= differentialEntropy(marginals[:θ])\n",
      "\n",
      "return F\n",
      "\n",
      "end\n",
      "\n",
      "end # block\n"
     ]
    }
   ],
   "source": [
    "println(src_code);"
   ]
  },
  {
   "cell_type": "code",
   "execution_count": 236,
   "id": "statewide-taste",
   "metadata": {},
   "outputs": [
    {
     "data": {
      "text/plain": [
       "freeEnergy (generic function with 1 method)"
      ]
     },
     "execution_count": 236,
     "metadata": {},
     "output_type": "execute_result"
    }
   ],
   "source": [
    "# Load algorithm\n",
    "eval(Meta.parse(src_code))"
   ]
  },
  {
   "cell_type": "code",
   "execution_count": 237,
   "id": "desperate-minister",
   "metadata": {},
   "outputs": [
    {
     "data": {
      "text/plain": [
       "Dict{Any, Any} with 2 entries:\n",
       "  :x_1 => SampleList(s=[0.80, 0.04, 0.59, 0.74, 1.00, 9.24e-03, 0.83, 0.97, 0.9…\n",
       "  :θ   => 𝒩(m=[-0.71, 1.38], w=[[0.14, -0.07][-0.07, 0.23]])…"
      ]
     },
     "execution_count": 237,
     "metadata": {},
     "output_type": "execute_result"
    }
   ],
   "source": [
    "data = Dict(:y => outputs, :m_θ => zeros(dimensionality), :W_θ => 0.1*diageye(dimensionality))\n",
    "marginals = step!(data)"
   ]
  },
  {
   "cell_type": "code",
   "execution_count": 238,
   "id": "optical-department",
   "metadata": {},
   "outputs": [
    {
     "data": {
      "text/plain": [
       "2-element Vector{Float64}:\n",
       " -0.7070884632433143\n",
       "  1.3764429313586235"
      ]
     },
     "execution_count": 238,
     "metadata": {},
     "output_type": "execute_result"
    }
   ],
   "source": [
    "meθ = unsafeMean(marginals[:θ])"
   ]
  },
  {
   "cell_type": "code",
   "execution_count": 239,
   "id": "metric-candy",
   "metadata": {},
   "outputs": [
    {
     "data": {
      "text/plain": [
       "2×2 Matrix{Float64}:\n",
       " 8.68621  2.55746\n",
       " 2.55746  5.02156"
      ]
     },
     "execution_count": 239,
     "metadata": {},
     "output_type": "execute_result"
    }
   ],
   "source": [
    "weθ = unsafeCov(marginals[:θ])"
   ]
  },
  {
   "cell_type": "code",
   "execution_count": 291,
   "id": "specified-cathedral",
   "metadata": {},
   "outputs": [
    {
     "name": "stdout",
     "output_type": "stream",
     "text": [
      "training errors = 1.0\n"
     ]
    }
   ],
   "source": [
    "println(\"training errors = $(sum(abs.([round(f(meθ, inputs[i, :])) - round(πs[i]) for i in 1:n_samples])))\")"
   ]
  },
  {
   "cell_type": "code",
   "execution_count": 375,
   "id": "certain-million",
   "metadata": {},
   "outputs": [],
   "source": [
    "# test nonlinear\n",
    "using ForneyLab\n",
    "using LinearAlgebra\n",
    "import ForneyLab: unsafeMean, unsafeCov\n",
    "\n",
    "graph = FactorGraph()\n",
    "\n",
    "T = 2\n",
    "x = Vector{Variable}(undef, T)\n",
    "z = Vector{Variable}(undef, T)\n",
    "y = Vector{Variable}(undef, T)\n",
    "\n",
    "# Hearing aid parameters\n",
    "@RV θ  ~ GaussianMeanPrecision(placeholder(:m_θ, dims=(dimensionality,)), placeholder(:W_θ, dims=(dimensionality, dimensionality)))\n",
    "f(w, x) = 1/(1+exp(-w'x))\n",
    "for i in 1:T\n",
    "    @RV z[i] ~ GaussianMeanPrecision(inputs[i, :], 1e4*diageye(dimensionality))\n",
    "    @RV x[i] ~ Nonlinear{Sampling}(θ, z[i], g=f, in_variates=[Multivariate, Multivariate], out_variate=Univariate)\n",
    "    @RV y[i] ~ Bernoulli(x[i])\n",
    "    placeholder(y[i], :y, index=i)\n",
    "end"
   ]
  },
  {
   "cell_type": "code",
   "execution_count": 376,
   "id": "caroline-shaft",
   "metadata": {},
   "outputs": [
    {
     "data": {
      "text/html": [
       "<?xml version=\"1.0\" encoding=\"UTF-8\" standalone=\"no\"?>\n",
       "<!DOCTYPE svg PUBLIC \"-//W3C//DTD SVG 1.1//EN\"\n",
       " \"http://www.w3.org/Graphics/SVG/1.1/DTD/svg11.dtd\">\n",
       "<!-- Generated by graphviz version 2.47.2 (20210527.0053)\n",
       " -->\n",
       "<!-- Title: G Pages: 1 -->\n",
       "<svg width=\"841pt\" height=\"512pt\"\n",
       " viewBox=\"0.00 0.00 841.00 512.00\" xmlns=\"http://www.w3.org/2000/svg\" xmlns:xlink=\"http://www.w3.org/1999/xlink\">\n",
       "<g id=\"graph0\" class=\"graph\" transform=\"scale(1 1) rotate(0) translate(4 508)\">\n",
       "<title>G</title>\n",
       "<polygon fill=\"white\" stroke=\"transparent\" points=\"-4,4 -4,-508 837,-508 837,4 -4,4\"/>\n",
       "<!-- 4272520496268082245 -->\n",
       "<g id=\"node1\" class=\"node\">\n",
       "<title>4272520496268082245</title>\n",
       "<polygon fill=\"lightgrey\" stroke=\"black\" points=\"151.5,-504 76.5,-504 76.5,-450 151.5,-450 151.5,-504\"/>\n",
       "<text text-anchor=\"middle\" x=\"114\" y=\"-474.8\" font-family=\"Times,serif\" font-size=\"9.00\">placeholder_y_1</text>\n",
       "</g>\n",
       "<!-- 15006462186345505204 -->\n",
       "<g id=\"node4\" class=\"node\">\n",
       "<title>15006462186345505204</title>\n",
       "<polygon fill=\"none\" stroke=\"black\" points=\"150,-405 78,-405 78,-333 150,-333 150,-405\"/>\n",
       "<text text-anchor=\"middle\" x=\"114\" y=\"-371.8\" font-family=\"Times,serif\" font-size=\"9.00\">Ber</text>\n",
       "<text text-anchor=\"middle\" x=\"114\" y=\"-361.8\" font-family=\"Times,serif\" font-size=\"9.00\">bernoulli_1</text>\n",
       "</g>\n",
       "<!-- 4272520496268082245&#45;&#45;15006462186345505204 -->\n",
       "<g id=\"edge15\" class=\"edge\">\n",
       "<title>4272520496268082245&#45;&#45;15006462186345505204</title>\n",
       "<path fill=\"none\" stroke=\"black\" d=\"M114,-449.8C114,-436.31 114,-419.68 114,-405.1\"/>\n",
       "<text text-anchor=\"start\" x=\"114\" y=\"-425.6\" font-family=\"Times,serif\" font-size=\"8.00\" fill=\"red\">y_1</text>\n",
       "<text text-anchor=\"start\" x=\"95\" y=\"-407.7\" font-family=\"Times,serif\" font-size=\"8.00\">1 out </text>\n",
       "<text text-anchor=\"start\" x=\"95\" y=\"-443.4\" font-family=\"Times,serif\" font-size=\"8.00\">1 out </text>\n",
       "</g>\n",
       "<!-- 10214283830915002291 -->\n",
       "<g id=\"node2\" class=\"node\">\n",
       "<title>10214283830915002291</title>\n",
       "<polygon fill=\"lightgrey\" stroke=\"black\" points=\"704.5,-504 629.5,-504 629.5,-450 704.5,-450 704.5,-504\"/>\n",
       "<text text-anchor=\"middle\" x=\"667\" y=\"-474.8\" font-family=\"Times,serif\" font-size=\"9.00\">placeholder_y_2</text>\n",
       "</g>\n",
       "<!-- 8224144393233565915 -->\n",
       "<g id=\"node7\" class=\"node\">\n",
       "<title>8224144393233565915</title>\n",
       "<polygon fill=\"none\" stroke=\"black\" points=\"703,-405 631,-405 631,-333 703,-333 703,-405\"/>\n",
       "<text text-anchor=\"middle\" x=\"667\" y=\"-371.8\" font-family=\"Times,serif\" font-size=\"9.00\">Ber</text>\n",
       "<text text-anchor=\"middle\" x=\"667\" y=\"-361.8\" font-family=\"Times,serif\" font-size=\"9.00\">bernoulli_2</text>\n",
       "</g>\n",
       "<!-- 10214283830915002291&#45;&#45;8224144393233565915 -->\n",
       "<g id=\"edge7\" class=\"edge\">\n",
       "<title>10214283830915002291&#45;&#45;8224144393233565915</title>\n",
       "<path fill=\"none\" stroke=\"black\" d=\"M667,-449.8C667,-436.31 667,-419.68 667,-405.1\"/>\n",
       "<text text-anchor=\"start\" x=\"667\" y=\"-425.6\" font-family=\"Times,serif\" font-size=\"8.00\" fill=\"red\">y_2</text>\n",
       "<text text-anchor=\"start\" x=\"648\" y=\"-407.7\" font-family=\"Times,serif\" font-size=\"8.00\">1 out </text>\n",
       "<text text-anchor=\"start\" x=\"648\" y=\"-443.4\" font-family=\"Times,serif\" font-size=\"8.00\">1 out </text>\n",
       "</g>\n",
       "<!-- 1183587289073611544 -->\n",
       "<g id=\"node3\" class=\"node\">\n",
       "<title>1183587289073611544</title>\n",
       "<polygon fill=\"lightgrey\" stroke=\"black\" points=\"664,-54 610,-54 610,0 664,0 664,-54\"/>\n",
       "<text text-anchor=\"middle\" x=\"637\" y=\"-24.8\" font-family=\"Times,serif\" font-size=\"9.00\">clamp_4</text>\n",
       "</g>\n",
       "<!-- 13558487332618118094 -->\n",
       "<g id=\"node12\" class=\"node\">\n",
       "<title>13558487332618118094</title>\n",
       "<polygon fill=\"none\" stroke=\"black\" points=\"150,-288 78,-288 78,-216 150,-216 150,-288\"/>\n",
       "<text text-anchor=\"middle\" x=\"114\" y=\"-254.8\" font-family=\"Times,serif\" font-size=\"9.00\">g{Sampling}</text>\n",
       "<text text-anchor=\"middle\" x=\"114\" y=\"-244.8\" font-family=\"Times,serif\" font-size=\"9.00\">nonlinear_1</text>\n",
       "</g>\n",
       "<!-- 15006462186345505204&#45;&#45;13558487332618118094 -->\n",
       "<g id=\"edge13\" class=\"edge\">\n",
       "<title>15006462186345505204&#45;&#45;13558487332618118094</title>\n",
       "<path fill=\"none\" stroke=\"black\" d=\"M112.49,-332.94C112.29,-326.96 112.11,-320.8 112,-315 111.84,-306.28 111.98,-296.87 112.24,-288.08\"/>\n",
       "<text text-anchor=\"start\" x=\"112\" y=\"-308.6\" font-family=\"Times,serif\" font-size=\"8.00\" fill=\"red\">x_1</text>\n",
       "<text text-anchor=\"start\" x=\"93.24\" y=\"-290.68\" font-family=\"Times,serif\" font-size=\"8.00\">1 out </text>\n",
       "<text text-anchor=\"start\" x=\"99.49\" y=\"-326.54\" font-family=\"Times,serif\" font-size=\"8.00\">2 p </text>\n",
       "</g>\n",
       "<!-- 9018848755142160459 -->\n",
       "<g id=\"node5\" class=\"node\">\n",
       "<title>9018848755142160459</title>\n",
       "<polygon fill=\"none\" stroke=\"black\" points=\"458.5,-288 351.5,-288 351.5,-216 458.5,-216 458.5,-288\"/>\n",
       "<text text-anchor=\"middle\" x=\"405\" y=\"-254.8\" font-family=\"Times,serif\" font-size=\"9.00\">𝒩</text>\n",
       "<text text-anchor=\"middle\" x=\"405\" y=\"-244.8\" font-family=\"Times,serif\" font-size=\"9.00\">gaussianmeanprecision_1</text>\n",
       "</g>\n",
       "<!-- 143706769862255191 -->\n",
       "<g id=\"node11\" class=\"node\">\n",
       "<title>143706769862255191</title>\n",
       "<polygon fill=\"lightgrey\" stroke=\"black\" points=\"360,-162 280,-162 280,-108 360,-108 360,-162\"/>\n",
       "<text text-anchor=\"middle\" x=\"320\" y=\"-132.8\" font-family=\"Times,serif\" font-size=\"9.00\">placeholder_W_θ</text>\n",
       "</g>\n",
       "<!-- 9018848755142160459&#45;&#45;143706769862255191 -->\n",
       "<g id=\"edge1\" class=\"edge\">\n",
       "<title>9018848755142160459&#45;&#45;143706769862255191</title>\n",
       "<path fill=\"none\" stroke=\"black\" d=\"M369.61,-215.82C364.47,-210.06 359.43,-204.01 355,-198 346.79,-186.86 339.06,-173.6 332.97,-162.2\"/>\n",
       "<text text-anchor=\"start\" x=\"355\" y=\"-191.6\" font-family=\"Times,serif\" font-size=\"8.00\" fill=\"red\">W_θ</text>\n",
       "<text text-anchor=\"start\" x=\"313.97\" y=\"-164.8\" font-family=\"Times,serif\" font-size=\"8.00\">1 out </text>\n",
       "<text text-anchor=\"start\" x=\"354.61\" y=\"-209.42\" font-family=\"Times,serif\" font-size=\"8.00\">3 w </text>\n",
       "</g>\n",
       "<!-- 15806283522943940197 -->\n",
       "<g id=\"node13\" class=\"node\">\n",
       "<title>15806283522943940197</title>\n",
       "<polygon fill=\"lightgrey\" stroke=\"black\" points=\"553,-162 475,-162 475,-108 553,-108 553,-162\"/>\n",
       "<text text-anchor=\"middle\" x=\"514\" y=\"-132.8\" font-family=\"Times,serif\" font-size=\"9.00\">placeholder_m_θ</text>\n",
       "</g>\n",
       "<!-- 9018848755142160459&#45;&#45;15806283522943940197 -->\n",
       "<g id=\"edge3\" class=\"edge\">\n",
       "<title>9018848755142160459&#45;&#45;15806283522943940197</title>\n",
       "<path fill=\"none\" stroke=\"black\" d=\"M438.3,-215.87C454.7,-198.57 474.14,-178.06 489.21,-162.15\"/>\n",
       "<text text-anchor=\"start\" x=\"463\" y=\"-191.6\" font-family=\"Times,serif\" font-size=\"8.00\" fill=\"red\">m_θ</text>\n",
       "<text text-anchor=\"start\" x=\"470.21\" y=\"-164.75\" font-family=\"Times,serif\" font-size=\"8.00\">1 out </text>\n",
       "<text text-anchor=\"start\" x=\"423.3\" y=\"-209.47\" font-family=\"Times,serif\" font-size=\"8.00\">2 m </text>\n",
       "</g>\n",
       "<!-- 4042784542115340737 -->\n",
       "<g id=\"node6\" class=\"node\">\n",
       "<title>4042784542115340737</title>\n",
       "<polygon fill=\"none\" stroke=\"black\" points=\"703,-288 631,-288 631,-216 703,-216 703,-288\"/>\n",
       "<text text-anchor=\"middle\" x=\"667\" y=\"-254.8\" font-family=\"Times,serif\" font-size=\"9.00\">g{Sampling}</text>\n",
       "<text text-anchor=\"middle\" x=\"667\" y=\"-244.8\" font-family=\"Times,serif\" font-size=\"9.00\">nonlinear_2</text>\n",
       "</g>\n",
       "<!-- 815416855342792530 -->\n",
       "<g id=\"node10\" class=\"node\">\n",
       "<title>815416855342792530</title>\n",
       "<polygon fill=\"none\" stroke=\"black\" points=\"775.5,-171 668.5,-171 668.5,-99 775.5,-99 775.5,-171\"/>\n",
       "<text text-anchor=\"middle\" x=\"722\" y=\"-137.8\" font-family=\"Times,serif\" font-size=\"9.00\">𝒩</text>\n",
       "<text text-anchor=\"middle\" x=\"722\" y=\"-127.8\" font-family=\"Times,serif\" font-size=\"9.00\">gaussianmeanprecision_3</text>\n",
       "</g>\n",
       "<!-- 4042784542115340737&#45;&#45;815416855342792530 -->\n",
       "<g id=\"edge2\" class=\"edge\">\n",
       "<title>4042784542115340737&#45;&#45;815416855342792530</title>\n",
       "<path fill=\"none\" stroke=\"black\" d=\"M683.8,-215.87C690.56,-201.74 698.34,-185.46 705.11,-171.31\"/>\n",
       "<text text-anchor=\"start\" x=\"696\" y=\"-191.6\" font-family=\"Times,serif\" font-size=\"8.00\" fill=\"red\">z_2</text>\n",
       "<text text-anchor=\"start\" x=\"686.11\" y=\"-173.91\" font-family=\"Times,serif\" font-size=\"8.00\">1 out </text>\n",
       "<text text-anchor=\"start\" x=\"664.8\" y=\"-209.47\" font-family=\"Times,serif\" font-size=\"8.00\">3 in2 </text>\n",
       "</g>\n",
       "<!-- 8224144393233565915&#45;&#45;4042784542115340737 -->\n",
       "<g id=\"edge10\" class=\"edge\">\n",
       "<title>8224144393233565915&#45;&#45;4042784542115340737</title>\n",
       "<path fill=\"none\" stroke=\"black\" d=\"M667,-332.87C667,-318.74 667,-302.46 667,-288.31\"/>\n",
       "<text text-anchor=\"start\" x=\"667\" y=\"-308.6\" font-family=\"Times,serif\" font-size=\"8.00\" fill=\"red\">x_2</text>\n",
       "<text text-anchor=\"start\" x=\"648\" y=\"-290.91\" font-family=\"Times,serif\" font-size=\"8.00\">1 out </text>\n",
       "<text text-anchor=\"start\" x=\"654\" y=\"-326.47\" font-family=\"Times,serif\" font-size=\"8.00\">2 p </text>\n",
       "</g>\n",
       "<!-- 6650370946060692794 -->\n",
       "<g id=\"node8\" class=\"node\">\n",
       "<title>6650370946060692794</title>\n",
       "<polygon fill=\"none\" stroke=\"black\" points=\"441,-405 369,-405 369,-333 441,-333 441,-405\"/>\n",
       "<text text-anchor=\"middle\" x=\"405\" y=\"-371.8\" font-family=\"Times,serif\" font-size=\"9.00\">=</text>\n",
       "<text text-anchor=\"middle\" x=\"405\" y=\"-361.8\" font-family=\"Times,serif\" font-size=\"9.00\">equ_θ_1</text>\n",
       "</g>\n",
       "<!-- 6650370946060692794&#45;&#45;9018848755142160459 -->\n",
       "<g id=\"edge4\" class=\"edge\">\n",
       "<title>6650370946060692794&#45;&#45;9018848755142160459</title>\n",
       "<path fill=\"none\" stroke=\"black\" d=\"M405,-332.87C405,-318.74 405,-302.46 405,-288.31\"/>\n",
       "<text text-anchor=\"start\" x=\"405\" y=\"-308.6\" font-family=\"Times,serif\" font-size=\"8.00\" fill=\"red\">θ</text>\n",
       "<text text-anchor=\"start\" x=\"386\" y=\"-290.91\" font-family=\"Times,serif\" font-size=\"8.00\">1 out </text>\n",
       "<text text-anchor=\"start\" x=\"392\" y=\"-326.47\" font-family=\"Times,serif\" font-size=\"8.00\">1 1 </text>\n",
       "</g>\n",
       "<!-- 6650370946060692794&#45;&#45;4042784542115340737 -->\n",
       "<g id=\"edge6\" class=\"edge\">\n",
       "<title>6650370946060692794&#45;&#45;4042784542115340737</title>\n",
       "<path fill=\"none\" stroke=\"black\" d=\"M441.15,-352.13C491.13,-330.2 580.8,-290.84 630.8,-268.89\"/>\n",
       "<text text-anchor=\"start\" x=\"544\" y=\"-308.6\" font-family=\"Times,serif\" font-size=\"8.00\" fill=\"red\">θ</text>\n",
       "<text text-anchor=\"start\" x=\"611.8\" y=\"-271.49\" font-family=\"Times,serif\" font-size=\"8.00\">2 in1 </text>\n",
       "<text text-anchor=\"start\" x=\"441.15\" y=\"-354.73\" font-family=\"Times,serif\" font-size=\"8.00\">3 3 </text>\n",
       "</g>\n",
       "<!-- 6650370946060692794&#45;&#45;13558487332618118094 -->\n",
       "<g id=\"edge14\" class=\"edge\">\n",
       "<title>6650370946060692794&#45;&#45;13558487332618118094</title>\n",
       "<path fill=\"none\" stroke=\"black\" d=\"M368.73,-353.67C312.82,-331.57 206.18,-289.43 150.27,-267.33\"/>\n",
       "<text text-anchor=\"start\" x=\"269\" y=\"-308.6\" font-family=\"Times,serif\" font-size=\"8.00\" fill=\"red\">θ</text>\n",
       "<text text-anchor=\"start\" x=\"150.27\" y=\"-269.93\" font-family=\"Times,serif\" font-size=\"8.00\">2 in1 </text>\n",
       "<text text-anchor=\"start\" x=\"355.73\" y=\"-356.27\" font-family=\"Times,serif\" font-size=\"8.00\">2 2 </text>\n",
       "</g>\n",
       "<!-- 15353340341171232116 -->\n",
       "<g id=\"node9\" class=\"node\">\n",
       "<title>15353340341171232116</title>\n",
       "<polygon fill=\"lightgrey\" stroke=\"black\" points=\"54,-54 0,-54 0,0 54,0 54,-54\"/>\n",
       "<text text-anchor=\"middle\" x=\"27\" y=\"-24.8\" font-family=\"Times,serif\" font-size=\"9.00\">clamp_2</text>\n",
       "</g>\n",
       "<!-- 815416855342792530&#45;&#45;1183587289073611544 -->\n",
       "<g id=\"edge8\" class=\"edge\">\n",
       "<title>815416855342792530&#45;&#45;1183587289073611544</title>\n",
       "<path fill=\"none\" stroke=\"black\" d=\"M693.93,-99C682.23,-84.4 668.87,-67.75 658.04,-54.23\"/>\n",
       "<text text-anchor=\"start\" x=\"679\" y=\"-74.6\" font-family=\"Times,serif\" font-size=\"8.00\" fill=\"red\">clamp_4</text>\n",
       "<text text-anchor=\"start\" x=\"639.04\" y=\"-56.83\" font-family=\"Times,serif\" font-size=\"8.00\">1 out </text>\n",
       "<text text-anchor=\"start\" x=\"678.93\" y=\"-92.6\" font-family=\"Times,serif\" font-size=\"8.00\">3 w </text>\n",
       "</g>\n",
       "<!-- 1903691017461356593 -->\n",
       "<g id=\"node16\" class=\"node\">\n",
       "<title>1903691017461356593</title>\n",
       "<polygon fill=\"lightgrey\" stroke=\"black\" points=\"833,-54 779,-54 779,0 833,0 833,-54\"/>\n",
       "<text text-anchor=\"middle\" x=\"806\" y=\"-24.8\" font-family=\"Times,serif\" font-size=\"9.00\">clamp_3</text>\n",
       "</g>\n",
       "<!-- 815416855342792530&#45;&#45;1903691017461356593 -->\n",
       "<g id=\"edge11\" class=\"edge\">\n",
       "<title>815416855342792530&#45;&#45;1903691017461356593</title>\n",
       "<path fill=\"none\" stroke=\"black\" d=\"M749.74,-99C761.3,-84.4 774.5,-67.75 785.21,-54.23\"/>\n",
       "<text text-anchor=\"start\" x=\"769\" y=\"-74.6\" font-family=\"Times,serif\" font-size=\"8.00\" fill=\"red\">clamp_3</text>\n",
       "<text text-anchor=\"start\" x=\"766.21\" y=\"-56.83\" font-family=\"Times,serif\" font-size=\"8.00\">1 out </text>\n",
       "<text text-anchor=\"start\" x=\"734.74\" y=\"-92.6\" font-family=\"Times,serif\" font-size=\"8.00\">2 m </text>\n",
       "</g>\n",
       "<!-- 10661251336546118771 -->\n",
       "<g id=\"node14\" class=\"node\">\n",
       "<title>10661251336546118771</title>\n",
       "<polygon fill=\"none\" stroke=\"black\" points=\"164.5,-171 57.5,-171 57.5,-99 164.5,-99 164.5,-171\"/>\n",
       "<text text-anchor=\"middle\" x=\"111\" y=\"-137.8\" font-family=\"Times,serif\" font-size=\"9.00\">𝒩</text>\n",
       "<text text-anchor=\"middle\" x=\"111\" y=\"-127.8\" font-family=\"Times,serif\" font-size=\"9.00\">gaussianmeanprecision_2</text>\n",
       "</g>\n",
       "<!-- 13558487332618118094&#45;&#45;10661251336546118771 -->\n",
       "<g id=\"edge12\" class=\"edge\">\n",
       "<title>13558487332618118094&#45;&#45;10661251336546118771</title>\n",
       "<path fill=\"none\" stroke=\"black\" d=\"M113.08,-215.87C112.71,-201.74 112.29,-185.46 111.92,-171.31\"/>\n",
       "<text text-anchor=\"start\" x=\"113\" y=\"-191.6\" font-family=\"Times,serif\" font-size=\"8.00\" fill=\"red\">z_1</text>\n",
       "<text text-anchor=\"start\" x=\"92.92\" y=\"-173.91\" font-family=\"Times,serif\" font-size=\"8.00\">1 out </text>\n",
       "<text text-anchor=\"start\" x=\"94.08\" y=\"-209.47\" font-family=\"Times,serif\" font-size=\"8.00\">3 in2 </text>\n",
       "</g>\n",
       "<!-- 10661251336546118771&#45;&#45;15353340341171232116 -->\n",
       "<g id=\"edge5\" class=\"edge\">\n",
       "<title>10661251336546118771&#45;&#45;15353340341171232116</title>\n",
       "<path fill=\"none\" stroke=\"black\" d=\"M57.32,-112.35C44.47,-104.47 32.35,-94.17 25,-81 20.51,-72.96 19.83,-63.11 20.68,-54.1\"/>\n",
       "<text text-anchor=\"start\" x=\"25\" y=\"-74.6\" font-family=\"Times,serif\" font-size=\"8.00\" fill=\"red\">clamp_2</text>\n",
       "<text text-anchor=\"start\" x=\"1.68\" y=\"-56.7\" font-family=\"Times,serif\" font-size=\"8.00\">1 out </text>\n",
       "<text text-anchor=\"start\" x=\"42.32\" y=\"-114.95\" font-family=\"Times,serif\" font-size=\"8.00\">3 w </text>\n",
       "</g>\n",
       "<!-- 9045958292410383509 -->\n",
       "<g id=\"node15\" class=\"node\">\n",
       "<title>9045958292410383509</title>\n",
       "<polygon fill=\"lightgrey\" stroke=\"black\" points=\"223,-54 169,-54 169,0 223,0 223,-54\"/>\n",
       "<text text-anchor=\"middle\" x=\"196\" y=\"-24.8\" font-family=\"Times,serif\" font-size=\"9.00\">clamp_1</text>\n",
       "</g>\n",
       "<!-- 10661251336546118771&#45;&#45;9045958292410383509 -->\n",
       "<g id=\"edge9\" class=\"edge\">\n",
       "<title>10661251336546118771&#45;&#45;9045958292410383509</title>\n",
       "<path fill=\"none\" stroke=\"black\" d=\"M139.07,-99C150.77,-84.4 164.13,-67.75 174.96,-54.23\"/>\n",
       "<text text-anchor=\"start\" x=\"159\" y=\"-74.6\" font-family=\"Times,serif\" font-size=\"8.00\" fill=\"red\">clamp_1</text>\n",
       "<text text-anchor=\"start\" x=\"155.96\" y=\"-56.83\" font-family=\"Times,serif\" font-size=\"8.00\">1 out </text>\n",
       "<text text-anchor=\"start\" x=\"124.07\" y=\"-92.6\" font-family=\"Times,serif\" font-size=\"8.00\">2 m </text>\n",
       "</g>\n",
       "</g>\n",
       "</svg>\n"
      ]
     },
     "metadata": {},
     "output_type": "display_data"
    }
   ],
   "source": [
    "draw()"
   ]
  },
  {
   "cell_type": "code",
   "execution_count": 377,
   "id": "stone-record",
   "metadata": {},
   "outputs": [
    {
     "data": {
      "text/plain": [
       "PosteriorFactorization(FactorGraph(Dict{Symbol, FactorNode}(:nonlinear_1 => Nonlinear{Sampling} with id nonlinear_1\n",
       ", :equ_θ_1 => Equality with id equ_θ_1\n",
       ", :clamp_3 => Clamp{Multivariate} with id clamp_3\n",
       ", :placeholder_W_θ => Clamp{MatrixVariate} with id placeholder_W_θ\n",
       ", :clamp_1 => Clamp{Multivariate} with id clamp_1\n",
       ", :bernoulli_1 => Bernoulli with id bernoulli_1\n",
       ", :gaussianmeanprecision_1 => GaussianMeanPrecision with id gaussianmeanprecision_1\n",
       ", :gaussianmeanprecision_2 => GaussianMeanPrecision with id gaussianmeanprecision_2\n",
       ", :clamp_2 => Clamp{MatrixVariate} with id clamp_2\n",
       ", :placeholder_y_2 => Clamp{Univariate} with id placeholder_y_2\n",
       "…), Edges:\n",
       "Edge belonging to variable m_θ: ( placeholder_m_θ.i[out] )----( gaussianmeanprecision_1.i[m] ).\n",
       "Edge belonging to variable W_θ: ( placeholder_W_θ.i[out] )----( gaussianmeanprecision_1.i[w] ).\n",
       "Edge belonging to variable θ: ( gaussianmeanprecision_1.i[out] )----( equ_θ_1.i[1] ).\n",
       "Edge belonging to variable clamp_1: ( clamp_1.i[out] )----( gaussianmeanprecision_2.i[m] ).\n",
       "Edge belonging to variable clamp_2: ( clamp_2.i[out] )----( gaussianmeanprecision_2.i[w] ).\n",
       "Edge belonging to variable z_1: ( gaussianmeanprecision_2.i[out] )----( nonlinear_1.i[in2] ).\n",
       "Edge belonging to variable x_1: ( nonlinear_1.i[out] )----( bernoulli_1.i[p] ).\n",
       "Edge belonging to variable y_1: ( bernoulli_1.i[out] )----( placeholder_y_1.i[out] ).\n",
       "Edge belonging to variable clamp_3: ( clamp_3.i[out] )----( gaussianmeanprecision_3.i[m] ).\n",
       "Edge belonging to variable clamp_4: ( clamp_4.i[out] )----( gaussianmeanprecision_3.i[w] ).\n",
       "Edge belonging to variable z_2: ( gaussianmeanprecision_3.i[out] )----( nonlinear_2.i[in2] ).\n",
       "Edge belonging to variable x_2: ( nonlinear_2.i[out] )----( bernoulli_2.i[p] ).\n",
       "Edge belonging to variable θ: ( nonlinear_1.i[in1] )----( equ_θ_1.i[2] ).\n",
       "Edge belonging to variable θ: ( nonlinear_2.i[in1] )----( equ_θ_1.i[3] ).\n",
       "Edge belonging to variable y_2: ( bernoulli_2.i[out] )----( placeholder_y_2.i[out] ).\n",
       ", Dict{Symbol, Variable}(:z_1 => Variable(:z_1, Edges:\n",
       "Edge belonging to variable z_1: ( gaussianmeanprecision_2.i[out] )----( nonlinear_1.i[in2] ).\n",
       "), :clamp_3 => Variable(:clamp_3, Edges:\n",
       "Edge belonging to variable clamp_3: ( clamp_3.i[out] )----( gaussianmeanprecision_3.i[m] ).\n",
       "), :y_1 => Variable(:y_1, Edges:\n",
       "Edge belonging to variable y_1: ( bernoulli_1.i[out] )----( placeholder_y_1.i[out] ).\n",
       "), :clamp_1 => Variable(:clamp_1, Edges:\n",
       "Edge belonging to variable clamp_1: ( clamp_1.i[out] )----( gaussianmeanprecision_2.i[m] ).\n",
       "), :x_2 => Variable(:x_2, Edges:\n",
       "Edge belonging to variable x_2: ( nonlinear_2.i[out] )----( bernoulli_2.i[p] ).\n",
       "), :y_2 => Variable(:y_2, Edges:\n",
       "Edge belonging to variable y_2: ( bernoulli_2.i[out] )----( placeholder_y_2.i[out] ).\n",
       "), :x_1 => Variable(:x_1, Edges:\n",
       "Edge belonging to variable x_1: ( nonlinear_1.i[out] )----( bernoulli_1.i[p] ).\n",
       "), :clamp_2 => Variable(:clamp_2, Edges:\n",
       "Edge belonging to variable clamp_2: ( clamp_2.i[out] )----( gaussianmeanprecision_2.i[w] ).\n",
       "), :m_θ => Variable(:m_θ, Edges:\n",
       "Edge belonging to variable m_θ: ( placeholder_m_θ.i[out] )----( gaussianmeanprecision_1.i[m] ).\n",
       "), :θ => Variable(:θ, Edges:\n",
       "Edge belonging to variable θ: ( gaussianmeanprecision_1.i[out] )----( equ_θ_1.i[1] ).\n",
       "Edge belonging to variable θ: ( nonlinear_1.i[in1] )----( equ_θ_1.i[2] ).\n",
       "Edge belonging to variable θ: ( nonlinear_2.i[in1] )----( equ_θ_1.i[3] ).\n",
       ")…), Dict(\"gaussianmeanprecision\" => 3, \"clamp\" => 4, \"nonlinear\" => 2, \"bernoulli\" => 2), Dict{Clamp, Tuple{Symbol, Int64}}(Clamp{Univariate} with id placeholder_y_1\n",
       " => (:y, 1), Clamp{Univariate} with id placeholder_y_2\n",
       " => (:y, 2), Clamp{MatrixVariate} with id placeholder_W_θ\n",
       " => (:W_θ, 0), Clamp{Multivariate} with id placeholder_m_θ\n",
       " => (:m_θ, 0))), Dict{Symbol, PosteriorFactor}(), Dict{Edge, PosteriorFactor}(), Dict{Tuple{FactorNode, Edge}, ForneyLab.Cluster}(), Edges:\n",
       "Edge belonging to variable clamp_3: ( clamp_3.i[out] )----( gaussianmeanprecision_3.i[m] ).\n",
       "Edge belonging to variable W_θ: ( placeholder_W_θ.i[out] )----( gaussianmeanprecision_1.i[w] ).\n",
       "Edge belonging to variable m_θ: ( placeholder_m_θ.i[out] )----( gaussianmeanprecision_1.i[m] ).\n",
       "Edge belonging to variable clamp_2: ( clamp_2.i[out] )----( gaussianmeanprecision_2.i[w] ).\n",
       "Edge belonging to variable y_2: ( bernoulli_2.i[out] )----( placeholder_y_2.i[out] ).\n",
       "Edge belonging to variable clamp_4: ( clamp_4.i[out] )----( gaussianmeanprecision_3.i[w] ).\n",
       "Edge belonging to variable y_1: ( bernoulli_1.i[out] )----( placeholder_y_1.i[out] ).\n",
       "Edge belonging to variable clamp_1: ( clamp_1.i[out] )----( gaussianmeanprecision_2.i[m] ).\n",
       ", Dict{FactorNode, Int64}(), Dict{ForneyLab.Region, Int64}(), false)"
      ]
     },
     "execution_count": 377,
     "metadata": {},
     "output_type": "execute_result"
    }
   ],
   "source": [
    "# Define posterior factorization\n",
    "pfz = PosteriorFactorization()"
   ]
  },
  {
   "cell_type": "code",
   "execution_count": 378,
   "id": "macro-raise",
   "metadata": {},
   "outputs": [],
   "source": [
    "# Compile algorithm\n",
    "algo = messagePassingAlgorithm(free_energy=true)\n",
    "\n",
    "# Generate source code\n",
    "src_code = algorithmSourceCode(algo, free_energy=true);"
   ]
  },
  {
   "cell_type": "code",
   "execution_count": 379,
   "id": "arranged-equilibrium",
   "metadata": {},
   "outputs": [
    {
     "name": "stdout",
     "output_type": "stream",
     "text": [
      "begin\n",
      "\n",
      "function init()\n",
      "\n",
      "messages = Array{Message}(undef, 14)\n",
      "\n",
      "messages[1] = Message(vague(GaussianMeanPrecision))\n",
      "messages[2] = Message(vague(GaussianMeanPrecision))\n",
      "messages[6] = Message(vague(GaussianWeightedMeanPrecision))\n",
      "messages[9] = Message(vague(GaussianWeightedMeanPrecision))\n",
      "\n",
      "return messages\n",
      "\n",
      "end\n",
      "\n",
      "function step!(data::Dict, marginals::Dict=Dict(), messages::Vector{Message}=Array{Message}(undef, 14))\n",
      "\n",
      "messages[1] = ruleSPGaussianMeanPrecisionOutNPP(nothing, Message(Multivariate, PointMass, m=[-0.444383357109696, 0.18702790710363]), Message(MatrixVariate, PointMass, m=Diagonal([10000.0, 10000.0])))\n",
      "messages[2] = ruleSPGaussianMeanPrecisionOutNPP(nothing, Message(Multivariate, PointMass, m=[-0.5560268761463861, 1.0823812056084292]), Message(MatrixVariate, PointMass, m=Diagonal([10000.0, 10000.0])))\n",
      "messages[3] = ruleSPGaussianMeanPrecisionOutNPP(nothing, Message(Multivariate, PointMass, m=data[:m_θ]), Message(MatrixVariate, PointMass, m=data[:W_θ]))\n",
      "messages[4] = ruleSPBernoulliIn1PN(Message(Univariate, PointMass, m=data[:y][1]), nothing)\n",
      "messages[5] = ruleSPNonlinearSInGX(f, 1, messages[4], messages[9], messages[2], variate=Multivariate)\n",
      "messages[6] = ruleSPEqualityGaussian(messages[3], messages[5], nothing)\n",
      "messages[7] = ruleSPBernoulliIn1PN(Message(Univariate, PointMass, m=data[:y][2]), nothing)\n",
      "messages[8] = ruleSPNonlinearSInGX(f, 1, messages[7], messages[6], messages[1], variate=Multivariate)\n",
      "messages[9] = ruleSPEqualityGaussian(messages[3], nothing, messages[8])\n",
      "messages[10] = ruleSPEqualityGaussian(nothing, messages[5], messages[8])\n",
      "messages[11] = ruleSPNonlinearSInGX(f, 2, messages[7], messages[6], messages[1], variate=Multivariate)\n",
      "messages[12] = ruleSPNonlinearSInGX(f, 2, messages[4], messages[9], messages[2], variate=Multivariate)\n",
      "messages[13] = ruleSPNonlinearSOutNGX(f, nothing, messages[6], messages[1], variate=Univariate)\n",
      "messages[14] = ruleSPNonlinearSOutNGX(f, nothing, messages[9], messages[2], variate=Univariate)\n",
      "\n",
      "marginals[:x_1] = messages[14].dist * messages[4].dist\n",
      "marginals[:x_2] = messages[13].dist * messages[7].dist\n",
      "marginals[:z_1] = messages[2].dist * messages[12].dist\n",
      "marginals[:z_2] = messages[1].dist * messages[11].dist\n",
      "marginals[:θ] = messages[3].dist * messages[10].dist\n",
      "marginals[:θ_z_1] = ruleMNonlinearSInGX(f, messages[4], messages[9], messages[2])\n",
      "marginals[:θ_z_2] = ruleMNonlinearSInGX(f, messages[7], messages[6], messages[1])\n",
      "\n",
      "return marginals\n",
      "\n",
      "end\n",
      "\n",
      "function freeEnergy(data::Dict, marginals::Dict)\n",
      "\n",
      "F = 0.0\n",
      "\n",
      "F += averageEnergy(Bernoulli, ProbabilityDistribution(Univariate, PointMass, m=data[:y][1]), marginals[:x_1])\n",
      "F += averageEnergy(Bernoulli, ProbabilityDistribution(Univariate, PointMass, m=data[:y][2]), marginals[:x_2])\n",
      "F += averageEnergy(GaussianMeanPrecision, marginals[:θ], ProbabilityDistribution(Multivariate, PointMass, m=data[:m_θ]), ProbabilityDistribution(MatrixVariate, PointMass, m=data[:W_θ]))\n",
      "F += averageEnergy(GaussianMeanPrecision, marginals[:z_1], ProbabilityDistribution(Multivariate, PointMass, m=[-0.5560268761463861, 1.0823812056084292]), ProbabilityDistribution(MatrixVariate, PointMass, m=Diagonal([10000.0, 10000.0])))\n",
      "F += averageEnergy(GaussianMeanPrecision, marginals[:z_2], ProbabilityDistribution(Multivariate, PointMass, m=[-0.444383357109696, 0.18702790710363]), ProbabilityDistribution(MatrixVariate, PointMass, m=Diagonal([10000.0, 10000.0])))\n",
      "\n",
      "F -= -1*differentialEntropy(marginals[:θ])\n",
      "F -= differentialEntropy(marginals[:θ_z_1])\n",
      "F -= differentialEntropy(marginals[:θ_z_2])\n",
      "\n",
      "return F\n",
      "\n",
      "end\n",
      "\n",
      "end # block\n"
     ]
    }
   ],
   "source": [
    "println(src_code)"
   ]
  },
  {
   "cell_type": "code",
   "execution_count": 380,
   "id": "outer-option",
   "metadata": {},
   "outputs": [
    {
     "data": {
      "text/plain": [
       "freeEnergy (generic function with 1 method)"
      ]
     },
     "execution_count": 380,
     "metadata": {},
     "output_type": "execute_result"
    }
   ],
   "source": [
    "# Load algorithm\n",
    "eval(Meta.parse(src_code))"
   ]
  },
  {
   "cell_type": "code",
   "execution_count": 381,
   "id": "electoral-homeless",
   "metadata": {},
   "outputs": [
    {
     "data": {
      "text/plain": [
       "Message: 𝒩(m=[0.16, -1.59], w=diag[1.00e+04, 1.00e+04])\n"
      ]
     },
     "execution_count": 381,
     "metadata": {},
     "output_type": "execute_result"
    }
   ],
   "source": [
    "ruleSPGaussianMeanPrecisionOutNPP(nothing, Message(Multivariate, PointMass, m=[0.15614346264074028, -1.590579974922555]), Message(MatrixVariate, PointMass, m=Diagonal([10000.0, 10000.0])))"
   ]
  },
  {
   "cell_type": "code",
   "execution_count": 384,
   "id": "dressed-gospel",
   "metadata": {},
   "outputs": [
    {
     "data": {
      "text/plain": [
       "init (generic function with 1 method)"
      ]
     },
     "execution_count": 384,
     "metadata": {},
     "output_type": "execute_result"
    }
   ],
   "source": [
    "function init()\n",
    "    messages = Array{Message}(undef, 14)\n",
    "    for i in 1:length(messages)\n",
    "        messages[i] = Message(vague(GaussianMeanPrecision, 2))\n",
    "    end\n",
    "    messages\n",
    "end"
   ]
  },
  {
   "cell_type": "code",
   "execution_count": 385,
   "id": "attended-relay",
   "metadata": {},
   "outputs": [
    {
     "ename": "LoadError",
     "evalue": "MethodError: no method matching ruleSPNonlinearSOutNGX(::typeof(f), ::Nothing, ::Message{GaussianWeightedMeanPrecision, Multivariate}, ::Message{GaussianMeanPrecision, Multivariate}; variate=Univariate)\n\u001b[0mClosest candidates are:\n\u001b[0m  ruleSPNonlinearSOutNGX(::Function, ::Nothing, ::Message{var\"#s158\", V} where var\"#s158\"<:Gaussian...; n_samples) where V<:ForneyLab.VariateType at /Users/apodusenko/.julia/dev/ForneyLab/src/engines/julia/update_rules/nonlinear_sampling.jl:73\u001b[91m got unsupported keyword argument \"variate\"\u001b[39m\n\u001b[0m  ruleSPNonlinearSOutNGX(::Function, ::Nothing, ::Message{var\"#s148\", var\"#s147\"} where {var\"#s148\"<:Gaussian, var\"#s147\"<:ForneyLab.VariateType}...; n_samples, variate) at /Users/apodusenko/.julia/dev/ForneyLab/src/engines/julia/update_rules/nonlinear_sampling.jl:65",
     "output_type": "error",
     "traceback": [
      "MethodError: no method matching ruleSPNonlinearSOutNGX(::typeof(f), ::Nothing, ::Message{GaussianWeightedMeanPrecision, Multivariate}, ::Message{GaussianMeanPrecision, Multivariate}; variate=Univariate)\n\u001b[0mClosest candidates are:\n\u001b[0m  ruleSPNonlinearSOutNGX(::Function, ::Nothing, ::Message{var\"#s158\", V} where var\"#s158\"<:Gaussian...; n_samples) where V<:ForneyLab.VariateType at /Users/apodusenko/.julia/dev/ForneyLab/src/engines/julia/update_rules/nonlinear_sampling.jl:73\u001b[91m got unsupported keyword argument \"variate\"\u001b[39m\n\u001b[0m  ruleSPNonlinearSOutNGX(::Function, ::Nothing, ::Message{var\"#s148\", var\"#s147\"} where {var\"#s148\"<:Gaussian, var\"#s147\"<:ForneyLab.VariateType}...; n_samples, variate) at /Users/apodusenko/.julia/dev/ForneyLab/src/engines/julia/update_rules/nonlinear_sampling.jl:65",
      "",
      "Stacktrace:",
      " [1] kwerr(::NamedTuple{(:variate,), Tuple{DataType}}, ::Function, ::Function, ::Nothing, ::Message{GaussianWeightedMeanPrecision, Multivariate}, ::Message{GaussianMeanPrecision, Multivariate})",
      "   @ Base ./error.jl:157",
      " [2] step!(data::Dict{Symbol, AbstractArray}, marginals::Dict{Any, Any}, messages::Vector{Message})",
      "   @ Main ./none:30",
      " [3] top-level scope",
      "   @ In[385]:4",
      " [4] eval",
      "   @ ./boot.jl:360 [inlined]",
      " [5] include_string(mapexpr::typeof(REPL.softscope), mod::Module, code::String, filename::String)",
      "   @ Base ./loading.jl:1094"
     ]
    }
   ],
   "source": [
    "data = Dict(:y => outputs, :m_θ => zeros(dimensionality), :W_θ => 0.1*diageye(dimensionality))\n",
    "messages = init()\n",
    "marginals = Dict()\n",
    "step!(data, marginals, messages)"
   ]
  },
  {
   "cell_type": "code",
   "execution_count": 383,
   "id": "minus-senior",
   "metadata": {},
   "outputs": [
    {
     "data": {
      "text/plain": [
       "14-element Vector{Message}:\n",
       "    Message: 𝒩(m=[-0.44, 0.19], w=diag[1.00e+04, 1.00e+04])\n",
       "\n",
       "    Message: 𝒩(m=[-0.56, 1.08], w=diag[1.00e+04, 1.00e+04])\n",
       "\n",
       "    Message: 𝒩(m=[0.00, 0.00], w=diag[0.10, 0.10])\n",
       "\n",
       "    Message: Beta(a=2, b=1)\n",
       "\n",
       " #undef\n",
       "    Message: 𝒩(xi=0.00, w=1.00e-12)\n",
       "\n",
       " #undef\n",
       " #undef\n",
       "    Message: 𝒩(xi=0.00, w=1.00e-12)\n",
       "\n",
       " #undef\n",
       " #undef\n",
       " #undef\n",
       " #undef\n",
       " #undef"
      ]
     },
     "execution_count": 383,
     "metadata": {},
     "output_type": "execute_result"
    }
   ],
   "source": [
    "messages"
   ]
  },
  {
   "cell_type": "code",
   "execution_count": 391,
   "id": "hidden-blame",
   "metadata": {},
   "outputs": [
    {
     "ename": "LoadError",
     "evalue": "MethodError: no method matching ruleSPNonlinearSOutNGX(::typeof(f), ::Nothing, ::Message{GaussianWeightedMeanPrecision, Multivariate}, ::Message{GaussianMeanPrecision, Multivariate}; variate=Univariate)\n\u001b[0mClosest candidates are:\n\u001b[0m  ruleSPNonlinearSOutNGX(::Function, ::Nothing, ::Message{var\"#s158\", V} where var\"#s158\"<:Gaussian...; n_samples) where V<:ForneyLab.VariateType at /Users/apodusenko/.julia/dev/ForneyLab/src/engines/julia/update_rules/nonlinear_sampling.jl:73\u001b[91m got unsupported keyword argument \"variate\"\u001b[39m\n\u001b[0m  ruleSPNonlinearSOutNGX(::Function, ::Nothing, ::Message{var\"#s148\", var\"#s147\"} where {var\"#s148\"<:Gaussian, var\"#s147\"<:ForneyLab.VariateType}...; n_samples, variate) at /Users/apodusenko/.julia/dev/ForneyLab/src/engines/julia/update_rules/nonlinear_sampling.jl:65",
     "output_type": "error",
     "traceback": [
      "MethodError: no method matching ruleSPNonlinearSOutNGX(::typeof(f), ::Nothing, ::Message{GaussianWeightedMeanPrecision, Multivariate}, ::Message{GaussianMeanPrecision, Multivariate}; variate=Univariate)\n\u001b[0mClosest candidates are:\n\u001b[0m  ruleSPNonlinearSOutNGX(::Function, ::Nothing, ::Message{var\"#s158\", V} where var\"#s158\"<:Gaussian...; n_samples) where V<:ForneyLab.VariateType at /Users/apodusenko/.julia/dev/ForneyLab/src/engines/julia/update_rules/nonlinear_sampling.jl:73\u001b[91m got unsupported keyword argument \"variate\"\u001b[39m\n\u001b[0m  ruleSPNonlinearSOutNGX(::Function, ::Nothing, ::Message{var\"#s148\", var\"#s147\"} where {var\"#s148\"<:Gaussian, var\"#s147\"<:ForneyLab.VariateType}...; n_samples, variate) at /Users/apodusenko/.julia/dev/ForneyLab/src/engines/julia/update_rules/nonlinear_sampling.jl:65",
      "",
      "Stacktrace:",
      " [1] kwerr(::NamedTuple{(:variate,), Tuple{DataType}}, ::Function, ::Function, ::Nothing, ::Message{GaussianWeightedMeanPrecision, Multivariate}, ::Message{GaussianMeanPrecision, Multivariate})",
      "   @ Base ./error.jl:157",
      " [2] top-level scope",
      "   @ In[391]:13",
      " [3] eval",
      "   @ ./boot.jl:360 [inlined]",
      " [4] include_string(mapexpr::typeof(REPL.softscope), mod::Module, code::String, filename::String)",
      "   @ Base ./loading.jl:1094"
     ]
    }
   ],
   "source": [
    "messages[1] = ruleSPGaussianMeanPrecisionOutNPP(nothing, Message(Multivariate, PointMass, m=[-0.444383357109696, 0.18702790710363]), Message(MatrixVariate, PointMass, m=Diagonal([10000.0, 10000.0])))\n",
    "messages[2] = ruleSPGaussianMeanPrecisionOutNPP(nothing, Message(Multivariate, PointMass, m=[-0.5560268761463861, 1.0823812056084292]), Message(MatrixVariate, PointMass, m=Diagonal([10000.0, 10000.0])))\n",
    "messages[3] = ruleSPGaussianMeanPrecisionOutNPP(nothing, Message(Multivariate, PointMass, m=data[:m_θ]), Message(MatrixVariate, PointMass, m=data[:W_θ]))\n",
    "messages[4] = ruleSPBernoulliIn1PN(Message(Univariate, PointMass, m=data[:y][1]), nothing)\n",
    "messages[5] = ruleSPNonlinearSInGX(f, 1, messages[4], messages[9], messages[2], variate=Multivariate)\n",
    "messages[6] = ruleSPEqualityGaussian(messages[3], messages[5], nothing)\n",
    "messages[7] = ruleSPBernoulliIn1PN(Message(Univariate, PointMass, m=data[:y][2]), nothing)\n",
    "messages[8] = ruleSPNonlinearSInGX(f, 1, messages[7], messages[6], messages[1], variate=Multivariate)\n",
    "messages[9] = ruleSPEqualityGaussian(messages[3], nothing, messages[8])\n",
    "messages[10] = ruleSPEqualityGaussian(nothing, messages[5], messages[8])\n",
    "messages[11] = ruleSPNonlinearSInGX(f, 2, messages[7], messages[6], messages[1], variate=Multivariate)\n",
    "messages[12] = ruleSPNonlinearSInGX(f, 2, messages[4], messages[9], messages[2], variate=Multivariate)\n",
    "messages[13] = ruleSPNonlinearSOutNGX(f, nothing, messages[6], messages[1], variate=Univariate)"
   ]
  },
  {
   "cell_type": "code",
   "execution_count": 365,
   "id": "weird-illness",
   "metadata": {},
   "outputs": [
    {
     "name": "stdout",
     "output_type": "stream",
     "text": [
      "search: \u001b[0m\u001b[1mr\u001b[22m\u001b[0m\u001b[1mu\u001b[22m\u001b[0m\u001b[1ml\u001b[22m\u001b[0m\u001b[1me\u001b[22m\u001b[0m\u001b[1mS\u001b[22m\u001b[0m\u001b[1mP\u001b[22m\u001b[0m\u001b[1mN\u001b[22m\u001b[0m\u001b[1mo\u001b[22m\u001b[0m\u001b[1mn\u001b[22m\u001b[0m\u001b[1ml\u001b[22m\u001b[0m\u001b[1mi\u001b[22m\u001b[0m\u001b[1mn\u001b[22m\u001b[0m\u001b[1me\u001b[22m\u001b[0m\u001b[1ma\u001b[22m\u001b[0m\u001b[1mr\u001b[22m\u001b[0m\u001b[1mS\u001b[22m\u001b[0m\u001b[1mO\u001b[22m\u001b[0m\u001b[1mu\u001b[22m\u001b[0m\u001b[1mt\u001b[22m\u001b[0m\u001b[1mN\u001b[22m\u001b[0m\u001b[1mG\u001b[22m\u001b[0m\u001b[1mX\u001b[22m \u001b[0m\u001b[1mr\u001b[22m\u001b[0m\u001b[1mu\u001b[22m\u001b[0m\u001b[1ml\u001b[22m\u001b[0m\u001b[1me\u001b[22m\u001b[0m\u001b[1mS\u001b[22m\u001b[0m\u001b[1mP\u001b[22m\u001b[0m\u001b[1mN\u001b[22m\u001b[0m\u001b[1mo\u001b[22m\u001b[0m\u001b[1mn\u001b[22m\u001b[0m\u001b[1ml\u001b[22m\u001b[0m\u001b[1mi\u001b[22m\u001b[0m\u001b[1mn\u001b[22m\u001b[0m\u001b[1me\u001b[22m\u001b[0m\u001b[1ma\u001b[22m\u001b[0m\u001b[1mr\u001b[22m\u001b[0m\u001b[1mS\u001b[22m\u001b[0m\u001b[1mO\u001b[22m\u001b[0m\u001b[1mu\u001b[22m\u001b[0m\u001b[1mt\u001b[22m\u001b[0m\u001b[1mN\u001b[22mM \u001b[0m\u001b[1mr\u001b[22m\u001b[0m\u001b[1mu\u001b[22m\u001b[0m\u001b[1ml\u001b[22m\u001b[0m\u001b[1me\u001b[22m\u001b[0m\u001b[1mS\u001b[22m\u001b[0m\u001b[1mP\u001b[22m\u001b[0m\u001b[1mN\u001b[22m\u001b[0m\u001b[1mo\u001b[22m\u001b[0m\u001b[1mn\u001b[22m\u001b[0m\u001b[1ml\u001b[22m\u001b[0m\u001b[1mi\u001b[22m\u001b[0m\u001b[1mn\u001b[22m\u001b[0m\u001b[1me\u001b[22m\u001b[0m\u001b[1ma\u001b[22m\u001b[0m\u001b[1mr\u001b[22m\u001b[0m\u001b[1mS\u001b[22m\u001b[0m\u001b[1mO\u001b[22m\u001b[0m\u001b[1mu\u001b[22m\u001b[0m\u001b[1mt\u001b[22m\u001b[0m\u001b[1mN\u001b[22mFactorX\n",
      "\n"
     ]
    },
    {
     "data": {
      "text/latex": [
       "No documentation found.\n",
       "\n",
       "\\texttt{ForneyLab.ruleSPNonlinearSOutNGX} is a \\texttt{Function}.\n",
       "\n",
       "\\begin{verbatim}\n",
       "# 2 methods for generic function \"ruleSPNonlinearSOutNGX\":\n",
       "[1] ruleSPNonlinearSOutNGX(g::Function, msg_out::Nothing, msgs_in::Message{var\"#s158\", V} where var\"#s158\"<:Gaussian...; n_samples) where V<:ForneyLab.VariateType in ForneyLab at /Users/apodusenko/.julia/dev/ForneyLab/src/engines/julia/update_rules/nonlinear_sampling.jl:73\n",
       "[2] ruleSPNonlinearSOutNGX(g::Function, msg_out::Nothing, msgs_in::Message{var\"#s148\", var\"#s147\"} where {var\"#s148\"<:Gaussian, var\"#s147\"<:ForneyLab.VariateType}...; n_samples, variate) in ForneyLab at /Users/apodusenko/.julia/dev/ForneyLab/src/engines/julia/update_rules/nonlinear_sampling.jl:65\n",
       "\\end{verbatim}\n"
      ],
      "text/markdown": [
       "No documentation found.\n",
       "\n",
       "`ForneyLab.ruleSPNonlinearSOutNGX` is a `Function`.\n",
       "\n",
       "```\n",
       "# 2 methods for generic function \"ruleSPNonlinearSOutNGX\":\n",
       "[1] ruleSPNonlinearSOutNGX(g::Function, msg_out::Nothing, msgs_in::Message{var\"#s158\", V} where var\"#s158\"<:Gaussian...; n_samples) where V<:ForneyLab.VariateType in ForneyLab at /Users/apodusenko/.julia/dev/ForneyLab/src/engines/julia/update_rules/nonlinear_sampling.jl:73\n",
       "[2] ruleSPNonlinearSOutNGX(g::Function, msg_out::Nothing, msgs_in::Message{var\"#s148\", var\"#s147\"} where {var\"#s148\"<:Gaussian, var\"#s147\"<:ForneyLab.VariateType}...; n_samples, variate) in ForneyLab at /Users/apodusenko/.julia/dev/ForneyLab/src/engines/julia/update_rules/nonlinear_sampling.jl:65\n",
       "```\n"
      ],
      "text/plain": [
       "  No documentation found.\n",
       "\n",
       "  \u001b[36mForneyLab.ruleSPNonlinearSOutNGX\u001b[39m is a \u001b[36mFunction\u001b[39m.\n",
       "\n",
       "\u001b[36m  # 2 methods for generic function \"ruleSPNonlinearSOutNGX\":\u001b[39m\n",
       "\u001b[36m  [1] ruleSPNonlinearSOutNGX(g::Function, msg_out::Nothing, msgs_in::Message{var\"#s158\", V} where var\"#s158\"<:Gaussian...; n_samples) where V<:ForneyLab.VariateType in ForneyLab at /Users/apodusenko/.julia/dev/ForneyLab/src/engines/julia/update_rules/nonlinear_sampling.jl:73\u001b[39m\n",
       "\u001b[36m  [2] ruleSPNonlinearSOutNGX(g::Function, msg_out::Nothing, msgs_in::Message{var\"#s148\", var\"#s147\"} where {var\"#s148\"<:Gaussian, var\"#s147\"<:ForneyLab.VariateType}...; n_samples, variate) in ForneyLab at /Users/apodusenko/.julia/dev/ForneyLab/src/engines/julia/update_rules/nonlinear_sampling.jl:65\u001b[39m"
      ]
     },
     "execution_count": 365,
     "metadata": {},
     "output_type": "execute_result"
    }
   ],
   "source": [
    "?ruleSPNonlinearSOutNGX"
   ]
  },
  {
   "cell_type": "code",
   "execution_count": null,
   "id": "directed-attendance",
   "metadata": {},
   "outputs": [],
   "source": []
  }
 ],
 "metadata": {
  "kernelspec": {
   "display_name": "Julia 1.6.0",
   "language": "julia",
   "name": "julia-1.6"
  },
  "language_info": {
   "file_extension": ".jl",
   "mimetype": "application/julia",
   "name": "julia",
   "version": "1.6.0"
  }
 },
 "nbformat": 4,
 "nbformat_minor": 5
}
