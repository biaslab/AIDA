{
 "cells": [
  {
   "cell_type": "code",
   "execution_count": 156,
   "id": "comfortable-proportion",
   "metadata": {},
   "outputs": [
    {
     "data": {
      "text/plain": [
       "10-element Vector{Bool}:\n",
       " 1\n",
       " 1\n",
       " 1\n",
       " 1\n",
       " 0\n",
       " 1\n",
       " 1\n",
       " 0\n",
       " 1\n",
       " 1"
      ]
     },
     "execution_count": 156,
     "metadata": {},
     "output_type": "execute_result"
    }
   ],
   "source": [
    "# generate data\n",
    "import Distributions\n",
    "using Random\n",
    "\n",
    "Random.seed!(42)\n",
    "\n",
    "n_samples = 10\n",
    "dimensionality = 2\n",
    "rθ = [-0.5, 0.2]\n",
    "inputs = randn(n_samples, dimensionality)\n",
    "σ(w, x) = 1/(1+exp(-w'x))\n",
    "πs = [σ(rθ, inputs[i, :]) for i in 1:n_samples]\n",
    "outputs = [rand(Distributions.Bernoulli(πs[i])) for i in 1:n_samples]"
   ]
  },
  {
   "cell_type": "code",
   "execution_count": 165,
   "id": "engaging-resort",
   "metadata": {},
   "outputs": [],
   "source": [
    "# test nonlinear\n",
    "using ForneyLab\n",
    "import ForneyLab: unsafeMean, unsafeCov\n",
    "\n",
    "graph = FactorGraph()\n",
    "\n",
    "T = n_samples\n",
    "x = Vector{Variable}(undef, T)\n",
    "y = Vector{Variable}(undef, T)\n",
    "\n",
    "# Hearing aid parameters\n",
    "@RV θ  ~ GaussianMeanPrecision(placeholder(:m_θ, dims=(order,)), placeholder(:W_θ, dims=(order, order)))\n",
    "f(w,x) = 1/(1+exp(-w'x))\n",
    "for i in 1:T\n",
    "    @eval $(Symbol(\"func$i\"))(θ) = f(θ,inputs[$i, :])\n",
    "    @RV x[i] ~ Nonlinear{Sampling}(θ, g=eval(Symbol(\"func$i\")), in_variates=[Multivariate], out_variate=Univariate)\n",
    "    @RV y[i] ~ Bernoulli(x[i])\n",
    "    placeholder(y[i], :y, index=i)\n",
    "end"
   ]
  },
  {
   "cell_type": "code",
   "execution_count": 166,
   "id": "cultural-pressing",
   "metadata": {},
   "outputs": [],
   "source": [
    "algo = messagePassingAlgorithm(θ, free_energy=true)\n",
    "src_code = algorithmSourceCode(algo, free_energy=true);"
   ]
  },
  {
   "cell_type": "code",
   "execution_count": 167,
   "id": "iraqi-protection",
   "metadata": {},
   "outputs": [
    {
     "name": "stdout",
     "output_type": "stream",
     "text": [
      "begin\n",
      "\n",
      "function step!(data::Dict, marginals::Dict=Dict(), messages::Vector{Message}=Array{Message}(undef, 58))\n",
      "\n",
      "messages[1] = ruleSPGaussianMeanPrecisionOutNPP(nothing, Message(Multivariate, PointMass, m=data[:m_θ]), Message(MatrixVariate, PointMass, m=data[:W_θ]))\n",
      "messages[2] = ruleSPBernoulliIn1PN(Message(Univariate, PointMass, m=data[:y][10]), nothing)\n",
      "messages[3] = ruleSPNonlinearSIn1MN(func10, messages[2], nothing, variate=Multivariate)\n",
      "messages[4] = ruleSPBernoulliIn1PN(Message(Univariate, PointMass, m=data[:y][9]), nothing)\n",
      "messages[5] = ruleSPNonlinearSIn1MN(func9, messages[4], nothing, variate=Multivariate)\n",
      "messages[6] = ruleSPEqualityFn(messages[5], nothing, messages[3])\n",
      "messages[7] = ruleSPBernoulliIn1PN(Message(Univariate, PointMass, m=data[:y][8]), nothing)\n",
      "messages[8] = ruleSPNonlinearSIn1MN(func8, messages[7], nothing, variate=Multivariate)\n",
      "messages[9] = ruleSPEqualityFn(messages[8], nothing, messages[6])\n",
      "messages[10] = ruleSPBernoulliIn1PN(Message(Univariate, PointMass, m=data[:y][7]), nothing)\n",
      "messages[11] = ruleSPNonlinearSIn1MN(func7, messages[10], nothing, variate=Multivariate)\n",
      "messages[12] = ruleSPEqualityFn(messages[11], nothing, messages[9])\n",
      "messages[13] = ruleSPBernoulliIn1PN(Message(Univariate, PointMass, m=data[:y][6]), nothing)\n",
      "messages[14] = ruleSPNonlinearSIn1MN(func6, messages[13], nothing, variate=Multivariate)\n",
      "messages[15] = ruleSPEqualityFn(messages[14], nothing, messages[12])\n",
      "messages[16] = ruleSPBernoulliIn1PN(Message(Univariate, PointMass, m=data[:y][5]), nothing)\n",
      "messages[17] = ruleSPNonlinearSIn1MN(func5, messages[16], nothing, variate=Multivariate)\n",
      "messages[18] = ruleSPEqualityFn(messages[17], nothing, messages[15])\n",
      "messages[19] = ruleSPBernoulliIn1PN(Message(Univariate, PointMass, m=data[:y][4]), nothing)\n",
      "messages[20] = ruleSPNonlinearSIn1MN(func4, messages[19], nothing, variate=Multivariate)\n",
      "messages[21] = ruleSPEqualityFn(messages[20], nothing, messages[18])\n",
      "messages[22] = ruleSPBernoulliIn1PN(Message(Univariate, PointMass, m=data[:y][3]), nothing)\n",
      "messages[23] = ruleSPNonlinearSIn1MN(func3, messages[22], nothing, variate=Multivariate)\n",
      "messages[24] = ruleSPEqualityFn(messages[23], nothing, messages[21])\n",
      "messages[25] = ruleSPBernoulliIn1PN(Message(Univariate, PointMass, m=data[:y][2]), nothing)\n",
      "messages[26] = ruleSPNonlinearSIn1MN(func2, messages[25], nothing, variate=Multivariate)\n",
      "messages[27] = ruleSPEqualityFn(messages[26], nothing, messages[24])\n",
      "messages[28] = ruleSPBernoulliIn1PN(Message(Univariate, PointMass, m=data[:y][1]), nothing)\n",
      "messages[29] = ruleSPNonlinearSIn1MN(func1, messages[28], nothing, variate=Multivariate)\n",
      "messages[30] = ruleSPEqualityFn(nothing, messages[29], messages[27])\n",
      "messages[31] = ruleSPEqualityFnG(messages[1], messages[29], nothing)\n",
      "messages[32] = ruleSPEqualityFnG(messages[26], messages[31], nothing)\n",
      "messages[33] = ruleSPEqualityFnG(messages[23], messages[32], nothing)\n",
      "messages[34] = ruleSPEqualityFnG(messages[20], messages[33], nothing)\n",
      "messages[35] = ruleSPEqualityFnG(messages[17], messages[34], nothing)\n",
      "messages[36] = ruleSPEqualityFnG(messages[14], messages[35], nothing)\n",
      "messages[37] = ruleSPEqualityFnG(messages[11], messages[36], nothing)\n",
      "messages[38] = ruleSPEqualityFnG(messages[8], messages[37], nothing)\n",
      "messages[39] = ruleSPEqualityFnG(nothing, messages[38], messages[3])\n",
      "messages[40] = ruleSPNonlinearSOutNM(func9, nothing, messages[39], variate=Univariate)\n",
      "messages[41] = ruleSPEqualityFnG(nothing, messages[37], messages[6])\n",
      "messages[42] = ruleSPNonlinearSOutNM(func8, nothing, messages[41], variate=Univariate)\n",
      "messages[43] = ruleSPEqualityFnG(nothing, messages[36], messages[9])\n",
      "messages[44] = ruleSPNonlinearSOutNM(func7, nothing, messages[43], variate=Univariate)\n",
      "messages[45] = ruleSPEqualityFnG(nothing, messages[35], messages[12])\n",
      "messages[46] = ruleSPNonlinearSOutNM(func6, nothing, messages[45], variate=Univariate)\n",
      "messages[47] = ruleSPEqualityFnG(nothing, messages[34], messages[15])\n",
      "messages[48] = ruleSPNonlinearSOutNM(func5, nothing, messages[47], variate=Univariate)\n",
      "messages[49] = ruleSPEqualityFnG(nothing, messages[33], messages[18])\n",
      "messages[50] = ruleSPNonlinearSOutNM(func4, nothing, messages[49], variate=Univariate)\n",
      "messages[51] = ruleSPEqualityFnG(nothing, messages[32], messages[21])\n",
      "messages[52] = ruleSPNonlinearSOutNM(func3, nothing, messages[51], variate=Univariate)\n",
      "messages[53] = ruleSPEqualityFnG(nothing, messages[31], messages[24])\n",
      "messages[54] = ruleSPNonlinearSOutNM(func2, nothing, messages[53], variate=Univariate)\n",
      "messages[55] = ruleSPEqualityFnG(messages[5], messages[38], nothing)\n",
      "messages[56] = ruleSPNonlinearSOutNM(func10, nothing, messages[55], variate=Univariate)\n",
      "messages[57] = ruleSPEqualityFnG(messages[1], nothing, messages[27])\n",
      "messages[58] = ruleSPNonlinearSOutNM(func1, nothing, messages[57], variate=Univariate)\n",
      "\n",
      "marginals[:x_1] = messages[58].dist * messages[28].dist\n",
      "marginals[:x_10] = messages[56].dist * messages[2].dist\n",
      "marginals[:x_2] = messages[54].dist * messages[25].dist\n",
      "marginals[:x_3] = messages[52].dist * messages[22].dist\n",
      "marginals[:x_4] = messages[50].dist * messages[19].dist\n",
      "marginals[:x_5] = messages[48].dist * messages[16].dist\n",
      "marginals[:x_6] = messages[46].dist * messages[13].dist\n",
      "marginals[:x_7] = messages[44].dist * messages[10].dist\n",
      "marginals[:x_8] = messages[42].dist * messages[7].dist\n",
      "marginals[:x_9] = messages[40].dist * messages[4].dist\n",
      "marginals[:θ] = messages[1].dist * messages[30].dist\n",
      "\n",
      "return marginals\n",
      "\n",
      "end\n",
      "\n",
      "function freeEnergy(data::Dict, marginals::Dict)\n",
      "\n",
      "F = 0.0\n",
      "\n",
      "F += averageEnergy(Bernoulli, ProbabilityDistribution(Univariate, PointMass, m=data[:y][1]), marginals[:x_1])\n",
      "F += averageEnergy(Bernoulli, ProbabilityDistribution(Univariate, PointMass, m=data[:y][10]), marginals[:x_10])\n",
      "F += averageEnergy(Bernoulli, ProbabilityDistribution(Univariate, PointMass, m=data[:y][2]), marginals[:x_2])\n",
      "F += averageEnergy(Bernoulli, ProbabilityDistribution(Univariate, PointMass, m=data[:y][3]), marginals[:x_3])\n",
      "F += averageEnergy(Bernoulli, ProbabilityDistribution(Univariate, PointMass, m=data[:y][4]), marginals[:x_4])\n",
      "F += averageEnergy(Bernoulli, ProbabilityDistribution(Univariate, PointMass, m=data[:y][5]), marginals[:x_5])\n",
      "F += averageEnergy(Bernoulli, ProbabilityDistribution(Univariate, PointMass, m=data[:y][6]), marginals[:x_6])\n",
      "F += averageEnergy(Bernoulli, ProbabilityDistribution(Univariate, PointMass, m=data[:y][7]), marginals[:x_7])\n",
      "F += averageEnergy(Bernoulli, ProbabilityDistribution(Univariate, PointMass, m=data[:y][8]), marginals[:x_8])\n",
      "F += averageEnergy(Bernoulli, ProbabilityDistribution(Univariate, PointMass, m=data[:y][9]), marginals[:x_9])\n",
      "F += averageEnergy(GaussianMeanPrecision, marginals[:θ], ProbabilityDistribution(Multivariate, PointMass, m=data[:m_θ]), ProbabilityDistribution(MatrixVariate, PointMass, m=data[:W_θ]))\n",
      "\n",
      "F -= differentialEntropy(marginals[:θ])\n",
      "\n",
      "return F\n",
      "\n",
      "end\n",
      "\n",
      "end # block\n"
     ]
    }
   ],
   "source": [
    "println(src_code);"
   ]
  },
  {
   "cell_type": "code",
   "execution_count": 168,
   "id": "instant-platform",
   "metadata": {},
   "outputs": [
    {
     "data": {
      "text/plain": [
       "freeEnergy (generic function with 1 method)"
      ]
     },
     "execution_count": 168,
     "metadata": {},
     "output_type": "execute_result"
    }
   ],
   "source": [
    "# Load algorithm\n",
    "eval(Meta.parse(src_code))"
   ]
  },
  {
   "cell_type": "code",
   "execution_count": 169,
   "id": "exact-doctrine",
   "metadata": {},
   "outputs": [
    {
     "data": {
      "text/plain": [
       "Dict{Any, Any} with 11 entries:\n",
       "  :x_3  => SampleList(s=[0.79, 0.65, 0.51, 0.36, 0.53, 0.62, 0.61, 0.47, 0.43, …\n",
       "  :x_10 => SampleList(s=[0.01, 0.02, 0.05, 1.08e-03, 1.17e-03, 0.10, 4.91e-03, …\n",
       "  :x_2  => SampleList(s=[0.71, 0.66, 0.61, 0.55, 0.60, 0.67, 0.62, 0.60, 0.50, …\n",
       "  :x_5  => SampleList(s=[0.07, 0.74, 0.20, 0.13, 0.06, 0.10, 0.03, 0.46, 0.25, …\n",
       "  :x_1  => SampleList(s=[0.87, 0.59, 0.83, 0.75, 0.96, 0.86, 0.75, 0.62, 0.96, …\n",
       "  :x_4  => SampleList(s=[0.58, 0.93, 0.85, 0.84, 0.58, 0.97, 0.74, 0.91, 0.83, …\n",
       "  :x_9  => SampleList(s=[0.87, 0.80, 0.83, 1.00, 0.55, 0.98, 0.06, 0.68, 1.00, …\n",
       "  :θ    => 𝒩(m=[-1.33, 0.81], w=[[1.08, -0.08][-0.08, 1.36]])…\n",
       "  :x_6  => SampleList(s=[0.94, 0.31, 0.57, 0.52, 0.39, 0.03, 0.74, 0.06, 0.04, …\n",
       "  :x_7  => SampleList(s=[0.46, 0.66, 0.65, 0.81, 0.42, 0.79, 0.85, 0.67, 0.40, …\n",
       "  :x_8  => SampleList(s=[0.41, 0.62, 0.13, 0.23, 0.52, 0.23, 0.41, 0.12, 0.03, …"
      ]
     },
     "execution_count": 169,
     "metadata": {},
     "output_type": "execute_result"
    }
   ],
   "source": [
    "import ProgressMeter\n",
    "\n",
    "data = Dict(:y => outputs, :m_θ => zeros(dimensionality), :W_θ => 0.1*diageye(dimensionality))\n",
    "marginals = step!(data)"
   ]
  },
  {
   "cell_type": "code",
   "execution_count": 170,
   "id": "packed-report",
   "metadata": {},
   "outputs": [
    {
     "data": {
      "text/plain": [
       "2-element Vector{Float64}:\n",
       " -1.3319520146225503\n",
       "  0.8149393727598759"
      ]
     },
     "execution_count": 170,
     "metadata": {},
     "output_type": "execute_result"
    }
   ],
   "source": [
    "meθ = unsafeMean(marginals[:θ])"
   ]
  },
  {
   "cell_type": "code",
   "execution_count": 171,
   "id": "continued-distribution",
   "metadata": {},
   "outputs": [
    {
     "data": {
      "text/plain": [
       "2×2 Matrix{Float64}:\n",
       " 0.929187   0.0559767\n",
       " 0.0559767  0.737735"
      ]
     },
     "execution_count": 171,
     "metadata": {},
     "output_type": "execute_result"
    }
   ],
   "source": [
    "weθ = unsafeCov(marginals[:θ])"
   ]
  },
  {
   "cell_type": "code",
   "execution_count": 172,
   "id": "steady-shirt",
   "metadata": {},
   "outputs": [
    {
     "name": "stdout",
     "output_type": "stream",
     "text": [
      "training errors = 0.0\n"
     ]
    }
   ],
   "source": [
    "println(\"training errors = $(sum([round(f(meθ, inputs[i, :])) - round(πs[i]) for i in 1:n_samples]))\")"
   ]
  },
  {
   "cell_type": "code",
   "execution_count": 173,
   "id": "sporting-conspiracy",
   "metadata": {},
   "outputs": [],
   "source": [
    "# test nonlinear\n",
    "using ForneyLab\n",
    "import ForneyLab: unsafeMean, unsafeCov\n",
    "\n",
    "graph = FactorGraph()\n",
    "\n",
    "T = n_samples\n",
    "x = Vector{Variable}(undef, T)\n",
    "z = Vector{Variable}(undef, T)\n",
    "y = Vector{Variable}(undef, T)\n",
    "\n",
    "# Hearing aid parameters\n",
    "@RV θ  ~ GaussianMeanPrecision(placeholder(:m_θ, dims=(order,)), placeholder(:W_θ, dims=(order, order)))\n",
    "f(w,x) = 1/(1+exp(-w'x))\n",
    "for i in 1:T\n",
    "#     @eval $(Symbol(\"func$i\"))(θ) = f(θ,inputs[$i, :])\n",
    "    @RV z[i] ~ GaussianMeanPrecision(x, 1e3*diageye(dimensionality))\n",
    "#     @RV x[i] ~ Nonlinear{Sampling}(θ, g=eval(Symbol(\"func$i\")), in_variates=[Multivariate], out_variate=Univariate)\n",
    "    @RV x[i] ~ Nonlinear{Sampling}(θ, z[i], g=f, in_variates=[Multivariate, Multivariate], out_variate=Univariate)\n",
    "    @RV y[i] ~ Bernoulli(x[i])\n",
    "    placeholder(y[i], :y, index=i)\n",
    "end"
   ]
  },
  {
   "cell_type": "code",
   "execution_count": null,
   "id": "demanding-australia",
   "metadata": {},
   "outputs": [],
   "source": []
  }
 ],
 "metadata": {
  "kernelspec": {
   "display_name": "Julia 1.6.0",
   "language": "julia",
   "name": "julia-1.6"
  },
  "language_info": {
   "file_extension": ".jl",
   "mimetype": "application/julia",
   "name": "julia",
   "version": "1.6.0"
  }
 },
 "nbformat": 4,
 "nbformat_minor": 5
}
