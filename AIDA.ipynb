{
 "cells": [
  {
   "cell_type": "markdown",
   "id": "prepared-robert",
   "metadata": {},
   "source": [
    "# Active Inference Design Agent (demo)"
   ]
  },
  {
   "cell_type": "code",
   "execution_count": null,
   "id": "bright-ethnic",
   "metadata": {},
   "outputs": [],
   "source": [
    "using Revise\n",
    "using Rocket\n",
    "using ReactiveMP\n",
    "using GraphPPL\n",
    "using Distributions\n",
    "using LinearAlgebra\n",
    "import ProgressMeter\n",
    "using WAV\n",
    "using Plots"
   ]
  },
  {
   "cell_type": "code",
   "execution_count": 1,
   "id": "accomplished-grade",
   "metadata": {},
   "outputs": [
    {
     "name": "stderr",
     "output_type": "stream",
     "text": [
      "┌ Info: Precompiling ReactiveMP [a194aa59-28ba-4574-a09c-4a745416d6e3]\n",
      "└ @ Base loading.jl:1317\n"
     ]
    },
    {
     "data": {
      "text/plain": [
       "batch_coupled_learning (generic function with 1 method)"
      ]
     },
     "execution_count": 1,
     "metadata": {},
     "output_type": "execute_result"
    }
   ],
   "source": [
    "# include auxilary functions for data processing\n",
    "include(\"helpers/aida_segmentation.jl\")\n",
    "# include SNR quality metric\n",
    "include(\"helpers/aida_snr.jl\")\n",
    "# include SNR quality metric\n",
    "include(\"helpers/aida_ar.jl\")\n",
    "# include models and corresponding inference algos\n",
    "include(\"models_inferences.jl\")"
   ]
  },
  {
   "cell_type": "code",
   "execution_count": 2,
   "id": "satellite-sharp",
   "metadata": {},
   "outputs": [
    {
     "data": {
      "text/plain": [
       "8000"
      ]
     },
     "execution_count": 2,
     "metadata": {},
     "output_type": "execute_result"
    }
   ],
   "source": [
    "fs = 8000"
   ]
  },
  {
   "cell_type": "markdown",
   "id": "finished-musician",
   "metadata": {},
   "source": [
    "In this demo we will work with two different contexts (environemtns): babble and train noises. \n",
    "\n",
    "You can think of a user who keeps wandering around a train station: sometimes train arrives and he/she hears the train noises. When there is no train arriving to the platform, the user hears the babble from people waiting for the train.\n",
    "When someone starts talking to the user he would (maybe) prefer to damp the environmental noise and focus only on the speaker.\n",
    "\n",
    "Another possible scenario you can think of is the user who steps out of the train and goes to the bar, where people produce babble noise :D "
   ]
  },
  {
   "cell_type": "markdown",
   "id": "double-stand",
   "metadata": {},
   "source": [
    "## Let's obtain priors for the environment"
   ]
  },
  {
   "cell_type": "markdown",
   "id": "geographic-rabbit",
   "metadata": {},
   "source": [
    "To make our model identifiabile, we would like to obtain priors for the environmental noises. To do this, we use Voice-Activity-Detection (VAD) to find the silent segments (with no speech). When those frames are identified, we fit them to AR model of order 2 to learn the parameters of AR.\n",
    "\n",
    "Surely, you can obtain the priors based on different logic. (to discuss (1) it doesn't have to be AR, (2) it doesn't have to be VAD)"
   ]
  },
  {
   "cell_type": "code",
   "execution_count": 4,
   "id": "tamil-birth",
   "metadata": {},
   "outputs": [
    {
     "data": {
      "text/plain": [
       "376"
      ]
     },
     "execution_count": 4,
     "metadata": {},
     "output_type": "execute_result"
    }
   ],
   "source": [
    "# Load sound from .wav\n",
    "babble, fs = wavread(\"sound/AIDA/training/sp01_babble_sn0.wav\")\n",
    "# split babble into overlapping segments (default 0.01s=10ms, 0.0025=2.5ms)\n",
    "bbl_seg = get_frames(babble, fs)\n",
    "# compute number of segments\n",
    "bbl_totseg = size(bbl_seg, 1)"
   ]
  },
  {
   "cell_type": "code",
   "execution_count": 5,
   "id": "secret-latest",
   "metadata": {},
   "outputs": [
    {
     "data": {
      "text/plain": [
       "391"
      ]
     },
     "execution_count": 5,
     "metadata": {},
     "output_type": "execute_result"
    }
   ],
   "source": [
    "train, fs = wavread(\"sound/AIDA/training/sp11_train_sn0.wav\")\n",
    "tr_seg = get_frames(train, fs)\n",
    "tr_totseg = size(tr_seg, 1)"
   ]
  },
  {
   "cell_type": "code",
   "execution_count": 3,
   "id": "scheduled-wagner",
   "metadata": {},
   "outputs": [],
   "source": [
    "# Priors for contexts were obtained through running VAD-AR block\n",
    "# prior for train noise\n",
    "trmη = [0.4132104755921993 -0.16961911841949667]\n",
    "trvη = [0.00972993440498344 -0.0027103005529199036; -0.0027103005529199036 0.004281987640515784]\n",
    "# trτ  = (41.0, 0.03644943410647206)\n",
    "trτ  = (41.0, 0.05)\n",
    "\n",
    "# prior for babble noise\n",
    "bblmη = [1.1192255902602752 -0.43086292293101314]\n",
    "bblvη = [0.007837790430663492 -0.005039080815241558; -0.005039080815241558 0.00596413119195013]\n",
    "# bblτ  = (41.0, 0.0029780512310493387);\n",
    "bblτ  = (41.0, 0.05);"
   ]
  },
  {
   "cell_type": "markdown",
   "id": "consistent-pressing",
   "metadata": {},
   "source": [
    "### VAD block\n",
    "You can skip this entire block if you used priors from the above cell."
   ]
  },
  {
   "cell_type": "code",
   "execution_count": 7,
   "id": "palestinian-lebanon",
   "metadata": {},
   "outputs": [
    {
     "data": {
      "text/plain": [
       "lar_inference_ex (generic function with 1 method)"
      ]
     },
     "execution_count": 7,
     "metadata": {},
     "output_type": "execute_result"
    }
   ],
   "source": [
    "include(\"models/everything.jl\")"
   ]
  },
  {
   "cell_type": "code",
   "execution_count": 8,
   "id": "duplicate-principal",
   "metadata": {},
   "outputs": [
    {
     "data": {
      "text/plain": [
       "ar_ssm (generic function with 1 method)"
      ]
     },
     "execution_count": 8,
     "metadata": {},
     "output_type": "execute_result"
    }
   ],
   "source": [
    "import WAV\n",
    "include(\"helpers/aida_segmentation.jl\")\n",
    "include(\"helpers/aida_ar.jl\")"
   ]
  },
  {
   "cell_type": "code",
   "execution_count": 9,
   "id": "accessory-james",
   "metadata": {},
   "outputs": [
    {
     "data": {
      "text/plain": [
       "376"
      ]
     },
     "execution_count": 9,
     "metadata": {},
     "output_type": "execute_result"
    }
   ],
   "source": [
    "# Choose the auido signal from where you intend to extract the parameters\n",
    "context_seg = bbl_seg\n",
    "totseg = bbl_totseg\n",
    "# context_seg = tr_seg\n",
    "# totseg = tr_totseg"
   ]
  },
  {
   "cell_type": "code",
   "execution_count": 10,
   "id": "foreign-interstate",
   "metadata": {},
   "outputs": [],
   "source": [
    "ar_order = 10\n",
    "vmp_iter = 50\n",
    "fe_ar = zeros(totseg, vmp_iter)\n",
    "fe_gaussian = zeros(totseg, vmp_iter);"
   ]
  },
  {
   "cell_type": "code",
   "execution_count": 56,
   "id": "forward-semiconductor",
   "metadata": {},
   "outputs": [
    {
     "name": "stderr",
     "output_type": "stream",
     "text": [
      "\u001b[32mProgress: 100%|█████████████████████████████████████████| Time: 0:08:47\u001b[39m\n"
     ]
    }
   ],
   "source": [
    "ProgressMeter.@showprogress for segnum in 1:totseg\n",
    "    inputs, outputs = ar_ssm(context_seg[segnum, :], ar_order)\n",
    "    γ, τ, θ, x, fe = lar_inference_ex(outputs, ar_order, vmp_iter)\n",
    "    mθ, vθ = mean(θ), cov(θ)\n",
    "    mγ = mean(γ)\n",
    "    fe_ar[segnum, :] = fe\n",
    "    \n",
    "    x, γ, fe = inference_gaussian(outputs, vmp_iter, 1e4)\n",
    "    mx, vx = mean(x), cov(x)\n",
    "    mγ = mean(γ)\n",
    "    fe_gaussian[segnum, :] = fe\n",
    "end"
   ]
  },
  {
   "cell_type": "code",
   "execution_count": 57,
   "id": "actual-translation",
   "metadata": {},
   "outputs": [],
   "source": [
    "# detect silent frames based on model comparison\n",
    "vad = [x[end] < y[end] for (x, y) in zip(eachrow(fe_ar), eachrow(fe_gaussian))];"
   ]
  },
  {
   "cell_type": "code",
   "execution_count": 58,
   "id": "electoral-insured",
   "metadata": {},
   "outputs": [],
   "source": [
    "rsegs = findall(isequal(1), vad)\n",
    "nsegs = findall(isequal(0), vad);"
   ]
  },
  {
   "cell_type": "code",
   "execution_count": 59,
   "id": "mexican-event",
   "metadata": {},
   "outputs": [
    {
     "data": {
      "text/plain": [
       "17.938993996124832"
      ]
     },
     "execution_count": 59,
     "metadata": {},
     "output_type": "execute_result"
    }
   ],
   "source": [
    "inv(var(sum([context_seg[nseg, :] for nseg in nsegs])))"
   ]
  },
  {
   "cell_type": "code",
   "execution_count": 60,
   "id": "humanitarian-department",
   "metadata": {},
   "outputs": [
    {
     "name": "stderr",
     "output_type": "stream",
     "text": [
      "\u001b[32mProgress: 100%|█████████████████████████████████████████| Time: 0:00:06\u001b[39m\n"
     ]
    }
   ],
   "source": [
    "cmx, cvx, cmη, cvη, cτ = lar_batch_learning(hcat([context_seg[nseg, :] for nseg in nsegs]...)', 2, 10, 1e-12);"
   ]
  },
  {
   "cell_type": "code",
   "execution_count": 64,
   "id": "casual-level",
   "metadata": {},
   "outputs": [
    {
     "name": "stdout",
     "output_type": "stream",
     "text": [
      "[1.1192255902602752 -0.43086292293101314], [0.007837790430663492 -0.005039080815241558; -0.005039080815241558 0.00596413119195013], , (41.0, 0.0029780512310493387)\n"
     ]
    }
   ],
   "source": [
    "println(\"$(mean(cmη, dims=1)), $(mean(cvη, dims=1)[1, :, :]), , $((cτ[end][1], cτ[end][2]))\")"
   ]
  },
  {
   "cell_type": "code",
   "execution_count": null,
   "id": "sixth-blind",
   "metadata": {},
   "outputs": [],
   "source": [
    "# Priors for contexts were obtained through running VAD block\n",
    "trmη = mean(cmη, dims=1)\n",
    "trvη = mean(cvη, dims=1)[1, :, :]\n",
    "trτ  = (cτ[end][1], cτ[end][2])\n",
    "\n",
    "# prior for babble noise\n",
    "bblmη = mean(cmη, dims=1)\n",
    "bblvη = mean(cvη, dims=1)[1, :, :]\n",
    "bblτ  = (cτ[end][1], cτ[end][2]);"
   ]
  },
  {
   "cell_type": "markdown",
   "id": "little-white",
   "metadata": {},
   "source": [
    "## Source seperation\n",
    "When priors for the contexts are indentified, we can run noise reduction algorithm based on coupled AR: AR_speech + AR_envrionment = output. This algorithm seperates speech (**z**) and noise (**x**)\n",
    "\n",
    "We will split our dataset into training and test set. We use signals from training set to learn the mapping function between the gains proposed by agent and aprraisals provided by user. Bare in mind that this split is not necessary and in theory we can get along without it."
   ]
  },
  {
   "cell_type": "code",
   "execution_count": 11,
   "id": "crucial-emerald",
   "metadata": {},
   "outputs": [
    {
     "data": {
      "text/plain": [
       "prior_to_priors (generic function with 1 method)"
      ]
     },
     "execution_count": 11,
     "metadata": {},
     "output_type": "execute_result"
    }
   ],
   "source": [
    "# coupled AR model is deisgned to work with time-varying priors for both speech and environmental noise\n",
    "# prior_to_priors map \"static\" priors to the corresponding matrices with equal elements\n",
    "function prior_to_priors(mη, vη, τ, totseg)\n",
    "    ar_order = size(mη, 2)\n",
    "    rmη = zeros(totseg, ar_order)\n",
    "    rvη = zeros(totseg, ar_order, ar_order)\n",
    "    for segnum in 1:totseg\n",
    "        rmη[segnum, :], rvη[segnum, :, :] = reshape(mη, (ar_order,)), vη\n",
    "    end\n",
    "    priors_eta = rmη, rvη\n",
    "    priors_tau = [τ for _ in 1:totseg]\n",
    "    priors_eta[1], priors_eta[2], priors_tau\n",
    "end"
   ]
  },
  {
   "cell_type": "code",
   "execution_count": 12,
   "id": "temporal-ethnic",
   "metadata": {},
   "outputs": [],
   "source": [
    "trmη_arr, trvη_arr, trτ_arr = prior_to_priors(trmη, trvη, trτ, tr_totseg)\n",
    "bblmη_arr, bblvη_arr, bblτ_arr = prior_to_priors(bblmη, bblvη, bblτ, bbl_totseg);"
   ]
  },
  {
   "cell_type": "code",
   "execution_count": 13,
   "id": "infectious-marsh",
   "metadata": {},
   "outputs": [
    {
     "data": {
      "text/plain": [
       "HA_algorithm (generic function with 1 method)"
      ]
     },
     "execution_count": 13,
     "metadata": {},
     "output_type": "execute_result"
    }
   ],
   "source": [
    "function HA_algorithm(segments, priors_η, priors_τ, ar_1_order, ar_2_order, vmp_its)\n",
    "    \"\"\"Source seperation based on coupled AR model. Inference is performed in batch manner\n",
    "\n",
    "       segments: segmented audio signal\n",
    "       priors_η:   matrix of means and covariances of AR coefficients (see output formal of prior_to_priors\n",
    "       priors_τ:   array of tupes contatining the prior of environmental noise precision\n",
    "       ar_1_order: order of speech signal\n",
    "       ar_2_order: order of environmental noise signal\n",
    "       vmp_its:    number of variational iterations\n",
    "    \"\"\"\n",
    "    n_sources = 2\n",
    "    totseg = size(segments, 1)\n",
    "    l      = size(segments, 2) # dimensionality of the buffer\n",
    "    \n",
    "    rmx = zeros(totseg, l)\n",
    "    rvx = zeros(totseg, l)\n",
    "    rmθ = zeros(totseg, ar_1_order)\n",
    "    rvθ = zeros(totseg, ar_1_order, ar_1_order)\n",
    "    rγ = fill(tuple(.0, .0), totseg)\n",
    "    \n",
    "    rmz = zeros(totseg, l)\n",
    "    rvz = zeros(totseg, l)\n",
    "    rmη = zeros(totseg, ar_2_order)\n",
    "    rvη = zeros(totseg, ar_2_order, ar_2_order)\n",
    "    rτ = fill(tuple(.0, .0), totseg)\n",
    "    \n",
    "    fe  = zeros(totseg, vmp_its)\n",
    "    \n",
    "    rmo = zeros(totseg, l)\n",
    "    \n",
    "    # agent proposes gains according to its beliefs\n",
    "    ProgressMeter.@showprogress for segnum in 1:totseg\n",
    "        prior_η                           = (priors_η[1][segnum, :], priors_η[2][segnum, :, :])\n",
    "        prior_τ                           = priors_τ[segnum]\n",
    "        γ, θ, zs, τ, η, xs, fe[segnum, :] = coupled_inference(segments[segnum, :], prior_η, prior_τ, ar_1_order, ar_2_order, vmp_its)\n",
    "        mz, vz                            = mean.(zs), cov.(zs)\n",
    "        mθ, vθ                            = mean(θ), cov(θ)\n",
    "        rmz[segnum, :], rvz[segnum, :]    = first.(mz), first.(vz)\n",
    "        rmθ[segnum, :], rvθ[segnum, :, :] = mθ, vθ\n",
    "        rγ[segnum]                        = shape(γ), rate(γ)\n",
    "        \n",
    "        mx, vx                            = mean.(xs), cov.(xs)\n",
    "        mη, vη                            = mean(η), cov(η)\n",
    "        rmx[segnum, :], rvx[segnum, :]    = first.(mx), first.(vx)\n",
    "        rmη[segnum, :], rvη[segnum, :, :] = mη, vη\n",
    "        rτ[segnum]                        = shape(τ), rate(τ)\n",
    "        \n",
    "        # HA part\n",
    "        speech = rmz[segnum, :]\n",
    "        noise  = rmx[segnum, :]\n",
    "        rmo[segnum, :] = speech .+ noise\n",
    "    end\n",
    "    rmz, rvz, rmθ, rvθ, rγ, rmx, rvx, rmη, rvη, rτ, fe, rmo\n",
    "end"
   ]
  },
  {
   "cell_type": "markdown",
   "id": "german-logic",
   "metadata": {},
   "source": [
    "#### Obtain the outputs from HA"
   ]
  },
  {
   "cell_type": "code",
   "execution_count": 5,
   "id": "classical-running",
   "metadata": {},
   "outputs": [
    {
     "data": {
      "text/plain": [
       "get_sounds_fn (generic function with 1 method)"
      ]
     },
     "execution_count": 5,
     "metadata": {},
     "output_type": "execute_result"
    }
   ],
   "source": [
    "# return list of files from dir_name\n",
    "function get_sounds_fn(dir_name)\n",
    "    file_names = []\n",
    "    for (root, dirs, files) in walkdir(dir_name)\n",
    "        for file in files\n",
    "            push!(file_names, joinpath(root, file)) # path to files\n",
    "        end\n",
    "    end\n",
    "    file_names\n",
    "end"
   ]
  },
  {
   "cell_type": "code",
   "execution_count": 7,
   "id": "bacterial-smith",
   "metadata": {},
   "outputs": [],
   "source": [
    "training_files = get_sounds_fn(\"sound/AIDA/training/\");"
   ]
  },
  {
   "cell_type": "code",
   "execution_count": 8,
   "id": "optional-spider",
   "metadata": {},
   "outputs": [
    {
     "name": "stdout",
     "output_type": "stream",
     "text": [
      "sound/AIDA/training/sp08_babble_sn0.wav\n"
     ]
    },
    {
     "data": {
      "text/plain": [
       "380×80 Matrix{Float64}:\n",
       "  0.0542314   0.0467544    0.00265511  …  -0.126011    -0.206244\n",
       "  0.033723    0.0573443    0.0773339      -0.0227058   -0.0657979\n",
       "  0.140538    0.106693     0.0360118       0.146092     0.0616169\n",
       "  0.0662252  -0.018128    -0.032075       -0.0811182    0.0431227\n",
       "  0.0480972   0.0445875    0.0498367      -0.0253609   -0.0185553\n",
       " -0.0292673  -0.0645466   -0.103793    …   0.14066      0.123875\n",
       " -0.0381481  -0.0107425    0.0104678       0.0936613    0.0746178\n",
       " -0.028077   -0.0843837   -0.0903348      -0.036256    -0.0307016\n",
       "  0.0492569   0.0639973    0.0399182       0.050264    -0.0648824\n",
       "  0.0670797   0.00317392   0.00521867      0.044496     0.0498978\n",
       " -0.101077   -0.0573138   -0.014069    …  -0.0697348   -0.0841395\n",
       "  0.0554827   0.0452589   -0.0309763       0.156255     0.0937223\n",
       " -0.0675069   0.0357677    0.0458998      -0.156713    -0.0555437\n",
       "  ⋮                                    ⋱               \n",
       "  0.0116581  -0.00210578  -0.0115665      -0.0350963   -0.0211493\n",
       " -0.0178533  -0.0216987   -0.0550859      -0.0550249   -0.0961638\n",
       "  0.0670492   0.0895108    0.0596026   …   0.0244758    0.0264901\n",
       " -0.0633869  -0.0693991   -0.0431227       0.032197     0.0103153\n",
       "  0.0513932   0.0548112    0.0653096      -0.00201422  -0.0256661\n",
       "  0.009064   -0.00671407  -0.00466933      0.0665609    0.028901\n",
       " -0.0514847   0.00173956   0.0195929      -0.0431532   -0.0391552\n",
       "  0.0169378  -0.00396741  -0.0189825   …   0.0251473   -0.0334788\n",
       " -0.0783105  -0.120151    -0.0912198       0.0107425   -0.0112003\n",
       " -0.0747703  -0.0825526   -0.0419324       0.0646992    0.10184\n",
       "  0.0134587   0.0128178    0.0318918       0.0203558    0.0274667\n",
       " -0.0343638  -0.0481277   -0.0563677       0.0          0.0"
      ]
     },
     "execution_count": 8,
     "metadata": {},
     "output_type": "execute_result"
    }
   ],
   "source": [
    "# Check for how the data is organized\n",
    "training_file = training_files[8]\n",
    "println(training_file)\n",
    "speech, fs = WAV.wavread(training_file)\n",
    "speech_seg = get_frames(speech, fs)"
   ]
  },
  {
   "cell_type": "markdown",
   "id": "seasonal-egyptian",
   "metadata": {},
   "source": [
    "At this stage we run our inference algorithm to seperate **z** and **x**. We write the output into *.jld* files.\n",
    "\n",
    "You don't need to run this snippet if you haven't changed the default parameters of HA_algorithm and priors (just see *sound/AIDA/separated_jld/training/*)"
   ]
  },
  {
   "cell_type": "code",
   "execution_count": 312,
   "id": "green-annotation",
   "metadata": {},
   "outputs": [
    {
     "name": "stdout",
     "output_type": "stream",
     "text": [
      "sound/AIDA/training/sp08_babble_sn0.wav\n"
     ]
    },
    {
     "name": "stderr",
     "output_type": "stream",
     "text": [
      "\u001b[32mProgress: 100%|█████████████████████████████████████████| Time: 0:03:39\u001b[39m\n"
     ]
    },
    {
     "name": "stdout",
     "output_type": "stream",
     "text": [
      "sound/AIDA/training/sp09_babble_sn0.wav\n"
     ]
    },
    {
     "name": "stderr",
     "output_type": "stream",
     "text": [
      "\u001b[32mProgress: 100%|█████████████████████████████████████████| Time: 0:03:46\u001b[39m\n"
     ]
    },
    {
     "name": "stdout",
     "output_type": "stream",
     "text": [
      "sound/AIDA/training/sp10_babble_sn0.wav\n"
     ]
    },
    {
     "name": "stderr",
     "output_type": "stream",
     "text": [
      "\u001b[32mProgress: 100%|█████████████████████████████████████████| Time: 0:03:20\u001b[39m\n"
     ]
    },
    {
     "name": "stdout",
     "output_type": "stream",
     "text": [
      "sound/AIDA/training/sp11_train_sn0.wav\n"
     ]
    },
    {
     "name": "stderr",
     "output_type": "stream",
     "text": [
      "\u001b[32mProgress: 100%|█████████████████████████████████████████| Time: 0:03:39\u001b[39m\n"
     ]
    },
    {
     "name": "stdout",
     "output_type": "stream",
     "text": [
      "sound/AIDA/training/sp12_train_sn0.wav\n"
     ]
    },
    {
     "name": "stderr",
     "output_type": "stream",
     "text": [
      "\u001b[32mProgress: 100%|█████████████████████████████████████████| Time: 0:03:26\u001b[39m\n"
     ]
    },
    {
     "name": "stdout",
     "output_type": "stream",
     "text": [
      "sound/AIDA/training/sp13_train_sn0.wav\n"
     ]
    },
    {
     "name": "stderr",
     "output_type": "stream",
     "text": [
      "\u001b[32mProgress: 100%|█████████████████████████████████████████| Time: 0:03:10\u001b[39m\n"
     ]
    },
    {
     "name": "stdout",
     "output_type": "stream",
     "text": [
      "sound/AIDA/training/sp14_train_sn0.wav\n"
     ]
    },
    {
     "name": "stderr",
     "output_type": "stream",
     "text": [
      "\u001b[32mProgress: 100%|█████████████████████████████████████████| Time: 0:03:39\u001b[39m\n"
     ]
    },
    {
     "name": "stdout",
     "output_type": "stream",
     "text": [
      "sound/AIDA/training/sp15_train_sn0.wav\n"
     ]
    },
    {
     "name": "stderr",
     "output_type": "stream",
     "text": [
      "\u001b[32mProgress: 100%|█████████████████████████████████████████| Time: 0:03:41\u001b[39m\n"
     ]
    },
    {
     "name": "stdout",
     "output_type": "stream",
     "text": [
      "sound/AIDA/training/sp16_train_sn0.wav\n"
     ]
    },
    {
     "name": "stderr",
     "output_type": "stream",
     "text": [
      "\u001b[32mProgress: 100%|█████████████████████████████████████████| Time: 0:02:54\u001b[39m\n"
     ]
    },
    {
     "name": "stdout",
     "output_type": "stream",
     "text": [
      "sound/AIDA/training/sp17_train_sn0.wav\n"
     ]
    },
    {
     "name": "stderr",
     "output_type": "stream",
     "text": [
      "\u001b[32mProgress: 100%|█████████████████████████████████████████| Time: 0:03:00\u001b[39m\n"
     ]
    },
    {
     "name": "stdout",
     "output_type": "stream",
     "text": [
      "sound/AIDA/training/sp18_train_sn0.wav\n"
     ]
    },
    {
     "name": "stderr",
     "output_type": "stream",
     "text": [
      "\u001b[32mProgress: 100%|█████████████████████████████████████████| Time: 0:02:51\u001b[39m\n"
     ]
    },
    {
     "name": "stdout",
     "output_type": "stream",
     "text": [
      "sound/AIDA/training/sp19_train_sn0.wav\n"
     ]
    },
    {
     "name": "stderr",
     "output_type": "stream",
     "text": [
      "\u001b[32mProgress: 100%|█████████████████████████████████████████| Time: 0:03:20\u001b[39m\n"
     ]
    },
    {
     "name": "stdout",
     "output_type": "stream",
     "text": [
      "sound/AIDA/training/sp20_train_sn0.wav\n"
     ]
    },
    {
     "name": "stderr",
     "output_type": "stream",
     "text": [
      "\u001b[32mProgress: 100%|█████████████████████████████████████████| Time: 0:03:14\u001b[39m\n"
     ]
    }
   ],
   "source": [
    "import JLD\n",
    "# r for recovered\n",
    "for training_file in training_files\n",
    "    println(training_file)\n",
    "    speech, fs = WAV.wavread(training_file)\n",
    "    speech_seg = get_frames(speech, fs)\n",
    "    # choose priors\n",
    "    priors_eta = occursin(\"babble\", training_file) ? (bblmη_arr, bblvη_arr) : (trmη_arr, trvη_arr)\n",
    "    priors_tau = occursin(\"babble\", training_file) ? bblτ_arr : trτ_arr\n",
    "    # make sure that 1D of priors and speech_seg are equal\n",
    "    if size(priors_eta, 1) != size(speech_seg, 1)\n",
    "        totseg = size(speech_seg, 1)\n",
    "        priors_eta_m, priors_eta_v, priors_tau = prior_to_priors(priors_eta[1][1, :]', priors_eta[2][1, :, :], priors_tau[1], totseg)\n",
    "        priors_eta = priors_eta_m, priors_eta_v\n",
    "    end\n",
    "    rmz, rvz, rmθ, rvθ, rγ, rmx, rvx, rmη, rvη, rτ, fe, rmo = HA_algorithm(speech_seg, priors_eta, priors_tau, 10, 2, 10);\n",
    "    \n",
    "    JLD.save(\"sound/AIDA/separated_jld/training/\"*training_file[findfirst(\"sp\", training_file)[1]:end][1:end-3]*\"jld\",\n",
    "         \"rmz\", rmz, \"rvz\", rvz, \"rmθ\", rmθ, \"rvθ\", rvθ, \"rγ\", rγ, \n",
    "         \"rmx\", rmx, \"rvx\", rvx, \"rmη\", rmη, \"rvη\", rvη, \"rτ\", rτ,\n",
    "         \"fe\", fe, \"rmo\", rmo, \"filename\", training_file,\n",
    "         \"audio\", speech)\n",
    "end"
   ]
  },
  {
   "cell_type": "markdown",
   "id": "automotive-guidance",
   "metadata": {},
   "source": [
    "### Preference learning stage"
   ]
  },
  {
   "cell_type": "markdown",
   "id": "quick-peripheral",
   "metadata": {},
   "source": [
    "#### Generate outputs of HA from JLD files"
   ]
  },
  {
   "cell_type": "code",
   "execution_count": 12,
   "id": "secure-joining",
   "metadata": {},
   "outputs": [],
   "source": [
    "# obtain saved jld files containing inference result\n",
    "training_jlds = get_sounds_fn(\"sound/AIDA/separated_jld/training/\");"
   ]
  },
  {
   "cell_type": "code",
   "execution_count": 13,
   "id": "raising-blade",
   "metadata": {},
   "outputs": [],
   "source": [
    "# initialize gains that agent randomly assigns to the outputs of HA\n",
    "agent_gains = [[2.0, 1.0], [1.0, 0.0], [0.5, 0.5], [0.9, 0.3], [2.5, 1.0]];"
   ]
  },
  {
   "cell_type": "code",
   "execution_count": null,
   "id": "delayed-peeing",
   "metadata": {},
   "outputs": [],
   "source": [
    "# this snippet generates new ha outputs\n",
    "for training_jld in training_jlds\n",
    "    # read file\n",
    "    d = JLD.load(training_jld)\n",
    "    filename = d[\"filename\"]\n",
    "    # extract speech\n",
    "    rmz, rmx = d[\"rmz\"], d[\"rmx\"]\n",
    "    # extract noise\n",
    "    rz, rx = get_signal(rmz, fs), get_signal(rmx, fs)\n",
    "    # pick weights \n",
    "    whgs = rand(agent_gains) # can be changed to a smarter function\n",
    "    # create output\n",
    "    ha_out = whgs[1] .* rz + whgs[2] .* rx\n",
    "    # write wav file\n",
    "    WAV.wavwrite(ha_out, fs, \"sound/AIDA/preference_learning/ha_out_$(whgs[1])_$(whgs[2])_\"*filename[findfirst(\"sp\", filename)[1]:end])\n",
    "end"
   ]
  },
  {
   "cell_type": "markdown",
   "id": "spoken-white",
   "metadata": {},
   "source": [
    "#### Create pairs (gains, context) <-> appraisals"
   ]
  },
  {
   "cell_type": "code",
   "execution_count": 6,
   "id": "great-sound",
   "metadata": {},
   "outputs": [],
   "source": [
    "# Recorded gains and appraisals \n",
    "# If you want to generate new pairs, please procceed with listening\n",
    "gains = [[0.5, 0.5], [0.9, 0.3], [0.9, 0.3], [0.9, 0.3], [0.9, 0.3], [0.9, 0.3], [0.9, 0.3], [0.9, 0.3], [0.9, 0.3], [0.9, 0.3], [1.0, 0.0], [1.0, 0.0], [1.0, 0.0], [1.0, 0.0], [1.0, 0.0], [2.0, 1.0], [2.0, 1.0], [2.5, 1.0], [2.5, 1.0], [2.5, 1.0]]\n",
    "appraisals = [0.0, 0.0, 0.0, 0.0, 0.0, 0.0, 0.0, 0.0, 0.0, 1.0, 1.0, 0.0, 1.0, 1.0, 1.0, 1.0, 0.0, 1.0, 0.0, 0.0]\n",
    "contexts = [1.0, 1.0, 1.0, 1.0, 1.0, 0.0, 0.0, 0.0, 0.0, 0.0, 1.0, 1.0, 1.0, 0.0, 0.0, 0.0, 0.0, 1.0, 1.0, 0.0];"
   ]
  },
  {
   "cell_type": "code",
   "execution_count": 7,
   "id": "current-angola",
   "metadata": {},
   "outputs": [],
   "source": [
    "prl_files = get_sounds_fn(\"sound/AIDA/preference_learning/\");"
   ]
  },
  {
   "cell_type": "markdown",
   "id": "conscious-diana",
   "metadata": {},
   "source": [
    "#### Listening"
   ]
  },
  {
   "cell_type": "markdown",
   "id": "brave-federation",
   "metadata": {},
   "source": [
    "User gets to listen new audio samples with proposed gains. After each listening he/she evaluates the performance of HA output by binary feedback."
   ]
  },
  {
   "cell_type": "code",
   "execution_count": null,
   "id": "centered-consistency",
   "metadata": {},
   "outputs": [],
   "source": [
    "# This snippet creates interactive loop where user can like/dislike hearing aid output\n",
    "nnum = 8 # prefix for gains\n",
    "appraisals = []\n",
    "gains = []\n",
    "contexts = []\n",
    "for prl_file in prl_files\n",
    "    \n",
    "    if !occursin(\"wav\", prl_file)\n",
    "        continue\n",
    "    end\n",
    "    WAV.wavplay(prl_file)\n",
    "    println(\"How's HA output 1, 0 ?\")\n",
    "    appraisal = readline()\n",
    "    push!(appraisals, parse(Float64, appraisal))\n",
    "    \n",
    "    # extract gains routine\n",
    "    pref_id = findfirst(\"out_\", prl_file)[end]\n",
    "    gains_str = prl_file[pref_id+1:pref_id+nnum-1]\n",
    "    push!(gains, parse.(Float64, split(gains_str, \"_\")))\n",
    "    \n",
    "    # extract context routine\n",
    "    push!(contexts, occursin(\"babble\", prl_file) ? 1.0 : 0.0)\n",
    "end"
   ]
  },
  {
   "cell_type": "code",
   "execution_count": 11,
   "id": "threatened-decrease",
   "metadata": {},
   "outputs": [
    {
     "name": "stdout",
     "output_type": "stream",
     "text": [
      "[[0.5, 0.5], [0.9, 0.3], [0.9, 0.3], [0.9, 0.3], [0.9, 0.3], [0.9, 0.3], [0.9, 0.3], [0.9, 0.3], [0.9, 0.3], [0.9, 0.3], [1.0, 0.0], [1.0, 0.0], [1.0, 0.0], [1.0, 0.0], [1.0, 0.0], [2.0, 1.0], [2.0, 1.0], [2.5, 1.0], [2.5, 1.0], [2.5, 1.0]]\n",
      "[0.0, 0.0, 0.0, 0.0, 0.0, 0.0, 0.0, 0.0, 0.0, 1.0, 1.0, 0.0, 1.0, 1.0, 1.0, 1.0, 0.0, 1.0, 0.0, 0.0]\n",
      "[1.0, 1.0, 1.0, 1.0, 1.0, 0.0, 0.0, 0.0, 0.0, 0.0, 1.0, 1.0, 1.0, 0.0, 0.0, 0.0, 0.0, 1.0, 1.0, 0.0]\n"
     ]
    }
   ],
   "source": [
    "println(gains)\n",
    "println(appraisals)\n",
    "println(contexts)"
   ]
  },
  {
   "cell_type": "code",
   "execution_count": 64,
   "id": "approximate-ceremony",
   "metadata": {},
   "outputs": [
    {
     "data": {
      "text/plain": [
       "inference_flow_classifier (generic function with 1 method)"
      ]
     },
     "execution_count": 64,
     "metadata": {},
     "output_type": "execute_result"
    }
   ],
   "source": [
    "# normalizing flows agent\n",
    "include(\"agent/agent_Bart/flow_agent.jl\")"
   ]
  },
  {
   "cell_type": "code",
   "execution_count": 65,
   "id": "offensive-criterion",
   "metadata": {},
   "outputs": [
    {
     "data": {
      "text/plain": [
       "60-element Vector{Float64}:\n",
       " 0.0\n",
       " 0.0\n",
       " 0.0\n",
       " 0.0\n",
       " 0.0\n",
       " 0.0\n",
       " 0.0\n",
       " 0.0\n",
       " 0.0\n",
       " 1.0\n",
       " 1.0\n",
       " 0.0\n",
       " 1.0\n",
       " ⋮\n",
       " 0.0\n",
       " 1.0\n",
       " 1.0\n",
       " 0.0\n",
       " 1.0\n",
       " 1.0\n",
       " 1.0\n",
       " 1.0\n",
       " 0.0\n",
       " 1.0\n",
       " 0.0\n",
       " 0.0"
      ]
     },
     "execution_count": 65,
     "metadata": {},
     "output_type": "execute_result"
    }
   ],
   "source": [
    "# augmentation of the dataset with copies\n",
    "n_gains = vcat(hcat(gains...)', hcat(gains...)', hcat(gains...)')\n",
    "n_appraisals = vcat(appraisals, appraisals, appraisals)"
   ]
  },
  {
   "cell_type": "code",
   "execution_count": 66,
   "id": "efficient-correction",
   "metadata": {},
   "outputs": [
    {
     "data": {
      "text/plain": [
       "60×2 Matrix{Float64}:\n",
       " -0.17483    0.623381\n",
       "  0.935293   0.418722\n",
       "  1.18221    0.574969\n",
       "  0.743925   0.27716\n",
       "  0.760244   0.252569\n",
       "  0.902348   0.00131636\n",
       "  1.35227    0.0463142\n",
       "  0.944443   0.458767\n",
       "  0.6053    -0.0485935\n",
       "  0.879299   0.357325\n",
       "  1.03604   -0.0574217\n",
       "  0.573032   0.0389548\n",
       "  0.743515  -0.280851\n",
       "  ⋮         \n",
       "  0.480092  -0.17759\n",
       "  1.25263    0.534271\n",
       "  0.845755  -0.300375\n",
       "  1.23255   -0.320517\n",
       "  1.22886    0.309913\n",
       "  1.0505    -0.0286634\n",
       "  1.24167    0.0778717\n",
       "  1.67883    0.493121\n",
       "  1.2497     0.647216\n",
       "  2.60864    1.10202\n",
       "  2.93607    0.547357\n",
       "  2.33985    0.416381"
      ]
     },
     "execution_count": 66,
     "metadata": {},
     "output_type": "execute_result"
    }
   ],
   "source": [
    "# augmentation of the dataset with copies\n",
    "data_y = n_appraisals\n",
    "m_gains = n_gains .+ sqrt(1e-1)*randn(size(n_gains))\n",
    "data_x = m_gains"
   ]
  },
  {
   "cell_type": "code",
   "execution_count": 70,
   "id": "super-exclusive",
   "metadata": {},
   "outputs": [
    {
     "data": {
      "image/svg+xml": [
       "<?xml version=\"1.0\" encoding=\"utf-8\"?>\n",
       "<svg xmlns=\"http://www.w3.org/2000/svg\" xmlns:xlink=\"http://www.w3.org/1999/xlink\" width=\"600\" height=\"400\" viewBox=\"0 0 2400 1600\">\n",
       "<defs>\n",
       "  <clipPath id=\"clip030\">\n",
       "    <rect x=\"0\" y=\"0\" width=\"2400\" height=\"1600\"/>\n",
       "  </clipPath>\n",
       "</defs>\n",
       "<path clip-path=\"url(#clip030)\" d=\"\n",
       "M0 1600 L2400 1600 L2400 0 L0 0  Z\n",
       "  \" fill=\"#ffffff\" fill-rule=\"evenodd\" fill-opacity=\"1\"/>\n",
       "<defs>\n",
       "  <clipPath id=\"clip031\">\n",
       "    <rect x=\"480\" y=\"0\" width=\"1681\" height=\"1600\"/>\n",
       "  </clipPath>\n",
       "</defs>\n",
       "<path clip-path=\"url(#clip030)\" d=\"\n",
       "M249.542 1423.18 L2352.76 1423.18 L2352.76 47.2441 L249.542 47.2441  Z\n",
       "  \" fill=\"#ffffff\" fill-rule=\"evenodd\" fill-opacity=\"1\"/>\n",
       "<defs>\n",
       "  <clipPath id=\"clip032\">\n",
       "    <rect x=\"249\" y=\"47\" width=\"2104\" height=\"1377\"/>\n",
       "  </clipPath>\n",
       "</defs>\n",
       "<polyline clip-path=\"url(#clip032)\" style=\"stroke:#000000; stroke-linecap:butt; stroke-linejoin:round; stroke-width:2; stroke-opacity:0.1; fill:none\" points=\"\n",
       "  261.113,1423.18 261.113,47.2441 \n",
       "  \"/>\n",
       "<polyline clip-path=\"url(#clip032)\" style=\"stroke:#000000; stroke-linecap:butt; stroke-linejoin:round; stroke-width:2; stroke-opacity:0.1; fill:none\" points=\"\n",
       "  769.926,1423.18 769.926,47.2441 \n",
       "  \"/>\n",
       "<polyline clip-path=\"url(#clip032)\" style=\"stroke:#000000; stroke-linecap:butt; stroke-linejoin:round; stroke-width:2; stroke-opacity:0.1; fill:none\" points=\"\n",
       "  1278.74,1423.18 1278.74,47.2441 \n",
       "  \"/>\n",
       "<polyline clip-path=\"url(#clip032)\" style=\"stroke:#000000; stroke-linecap:butt; stroke-linejoin:round; stroke-width:2; stroke-opacity:0.1; fill:none\" points=\"\n",
       "  1787.55,1423.18 1787.55,47.2441 \n",
       "  \"/>\n",
       "<polyline clip-path=\"url(#clip032)\" style=\"stroke:#000000; stroke-linecap:butt; stroke-linejoin:round; stroke-width:2; stroke-opacity:0.1; fill:none\" points=\"\n",
       "  2296.36,1423.18 2296.36,47.2441 \n",
       "  \"/>\n",
       "<polyline clip-path=\"url(#clip030)\" style=\"stroke:#000000; stroke-linecap:butt; stroke-linejoin:round; stroke-width:4; stroke-opacity:1; fill:none\" points=\"\n",
       "  249.542,1423.18 2352.76,1423.18 \n",
       "  \"/>\n",
       "<polyline clip-path=\"url(#clip030)\" style=\"stroke:#000000; stroke-linecap:butt; stroke-linejoin:round; stroke-width:4; stroke-opacity:1; fill:none\" points=\"\n",
       "  261.113,1423.18 261.113,1404.28 \n",
       "  \"/>\n",
       "<polyline clip-path=\"url(#clip030)\" style=\"stroke:#000000; stroke-linecap:butt; stroke-linejoin:round; stroke-width:4; stroke-opacity:1; fill:none\" points=\"\n",
       "  769.926,1423.18 769.926,1404.28 \n",
       "  \"/>\n",
       "<polyline clip-path=\"url(#clip030)\" style=\"stroke:#000000; stroke-linecap:butt; stroke-linejoin:round; stroke-width:4; stroke-opacity:1; fill:none\" points=\"\n",
       "  1278.74,1423.18 1278.74,1404.28 \n",
       "  \"/>\n",
       "<polyline clip-path=\"url(#clip030)\" style=\"stroke:#000000; stroke-linecap:butt; stroke-linejoin:round; stroke-width:4; stroke-opacity:1; fill:none\" points=\"\n",
       "  1787.55,1423.18 1787.55,1404.28 \n",
       "  \"/>\n",
       "<polyline clip-path=\"url(#clip030)\" style=\"stroke:#000000; stroke-linecap:butt; stroke-linejoin:round; stroke-width:4; stroke-opacity:1; fill:none\" points=\"\n",
       "  2296.36,1423.18 2296.36,1404.28 \n",
       "  \"/>\n",
       "<path clip-path=\"url(#clip030)\" d=\"M223.417 1452.37 Q219.805 1452.37 217.977 1455.94 Q216.171 1459.48 216.171 1466.61 Q216.171 1473.71 217.977 1477.28 Q219.805 1480.82 223.417 1480.82 Q227.051 1480.82 228.856 1477.28 Q230.685 1473.71 230.685 1466.61 Q230.685 1459.48 228.856 1455.94 Q227.051 1452.37 223.417 1452.37 M223.417 1448.67 Q229.227 1448.67 232.282 1453.27 Q235.361 1457.86 235.361 1466.61 Q235.361 1475.33 232.282 1479.94 Q229.227 1484.52 223.417 1484.52 Q217.606 1484.52 214.528 1479.94 Q211.472 1475.33 211.472 1466.61 Q211.472 1457.86 214.528 1453.27 Q217.606 1448.67 223.417 1448.67 Z\" fill=\"#000000\" fill-rule=\"evenodd\" fill-opacity=\"1\" /><path clip-path=\"url(#clip030)\" d=\"M243.578 1477.97 L248.463 1477.97 L248.463 1483.85 L243.578 1483.85 L243.578 1477.97 Z\" fill=\"#000000\" fill-rule=\"evenodd\" fill-opacity=\"1\" /><path clip-path=\"url(#clip030)\" d=\"M268.648 1452.37 Q265.037 1452.37 263.208 1455.94 Q261.402 1459.48 261.402 1466.61 Q261.402 1473.71 263.208 1477.28 Q265.037 1480.82 268.648 1480.82 Q272.282 1480.82 274.088 1477.28 Q275.916 1473.71 275.916 1466.61 Q275.916 1459.48 274.088 1455.94 Q272.282 1452.37 268.648 1452.37 M268.648 1448.67 Q274.458 1448.67 277.513 1453.27 Q280.592 1457.86 280.592 1466.61 Q280.592 1475.33 277.513 1479.94 Q274.458 1484.52 268.648 1484.52 Q262.838 1484.52 259.759 1479.94 Q256.703 1475.33 256.703 1466.61 Q256.703 1457.86 259.759 1453.27 Q262.838 1448.67 268.648 1448.67 Z\" fill=\"#000000\" fill-rule=\"evenodd\" fill-opacity=\"1\" /><path clip-path=\"url(#clip030)\" d=\"M298.81 1452.37 Q295.199 1452.37 293.37 1455.94 Q291.564 1459.48 291.564 1466.61 Q291.564 1473.71 293.37 1477.28 Q295.199 1480.82 298.81 1480.82 Q302.444 1480.82 304.249 1477.28 Q306.078 1473.71 306.078 1466.61 Q306.078 1459.48 304.249 1455.94 Q302.444 1452.37 298.81 1452.37 M298.81 1448.67 Q304.62 1448.67 307.675 1453.27 Q310.754 1457.86 310.754 1466.61 Q310.754 1475.33 307.675 1479.94 Q304.62 1484.52 298.81 1484.52 Q292.999 1484.52 289.921 1479.94 Q286.865 1475.33 286.865 1466.61 Q286.865 1457.86 289.921 1453.27 Q292.999 1448.67 298.81 1448.67 Z\" fill=\"#000000\" fill-rule=\"evenodd\" fill-opacity=\"1\" /><path clip-path=\"url(#clip030)\" d=\"M732.727 1452.37 Q729.116 1452.37 727.287 1455.94 Q725.482 1459.48 725.482 1466.61 Q725.482 1473.71 727.287 1477.28 Q729.116 1480.82 732.727 1480.82 Q736.361 1480.82 738.167 1477.28 Q739.996 1473.71 739.996 1466.61 Q739.996 1459.48 738.167 1455.94 Q736.361 1452.37 732.727 1452.37 M732.727 1448.67 Q738.537 1448.67 741.593 1453.27 Q744.671 1457.86 744.671 1466.61 Q744.671 1475.33 741.593 1479.94 Q738.537 1484.52 732.727 1484.52 Q726.917 1484.52 723.838 1479.94 Q720.783 1475.33 720.783 1466.61 Q720.783 1457.86 723.838 1453.27 Q726.917 1448.67 732.727 1448.67 Z\" fill=\"#000000\" fill-rule=\"evenodd\" fill-opacity=\"1\" /><path clip-path=\"url(#clip030)\" d=\"M752.889 1477.97 L757.773 1477.97 L757.773 1483.85 L752.889 1483.85 L752.889 1477.97 Z\" fill=\"#000000\" fill-rule=\"evenodd\" fill-opacity=\"1\" /><path clip-path=\"url(#clip030)\" d=\"M771.986 1479.92 L788.305 1479.92 L788.305 1483.85 L766.361 1483.85 L766.361 1479.92 Q769.023 1477.16 773.606 1472.53 Q778.213 1467.88 779.393 1466.54 Q781.639 1464.01 782.518 1462.28 Q783.421 1460.52 783.421 1458.83 Q783.421 1456.07 781.477 1454.34 Q779.555 1452.6 776.454 1452.6 Q774.255 1452.6 771.801 1453.37 Q769.37 1454.13 766.593 1455.68 L766.593 1450.96 Q769.417 1449.82 771.87 1449.25 Q774.324 1448.67 776.361 1448.67 Q781.731 1448.67 784.926 1451.35 Q788.12 1454.04 788.12 1458.53 Q788.12 1460.66 787.31 1462.58 Q786.523 1464.48 784.417 1467.07 Q783.838 1467.74 780.736 1470.96 Q777.634 1474.15 771.986 1479.92 Z\" fill=\"#000000\" fill-rule=\"evenodd\" fill-opacity=\"1\" /><path clip-path=\"url(#clip030)\" d=\"M798.166 1449.29 L816.523 1449.29 L816.523 1453.23 L802.449 1453.23 L802.449 1461.7 Q803.467 1461.35 804.486 1461.19 Q805.504 1461 806.523 1461 Q812.31 1461 815.69 1464.18 Q819.069 1467.35 819.069 1472.76 Q819.069 1478.34 815.597 1481.44 Q812.125 1484.52 805.805 1484.52 Q803.629 1484.52 801.361 1484.15 Q799.116 1483.78 796.708 1483.04 L796.708 1478.34 Q798.791 1479.48 801.014 1480.03 Q803.236 1480.59 805.713 1480.59 Q809.717 1480.59 812.055 1478.48 Q814.393 1476.38 814.393 1472.76 Q814.393 1469.15 812.055 1467.05 Q809.717 1464.94 805.713 1464.94 Q803.838 1464.94 801.963 1465.36 Q800.111 1465.77 798.166 1466.65 L798.166 1449.29 Z\" fill=\"#000000\" fill-rule=\"evenodd\" fill-opacity=\"1\" /><path clip-path=\"url(#clip030)\" d=\"M1241.04 1452.37 Q1237.43 1452.37 1235.6 1455.94 Q1233.8 1459.48 1233.8 1466.61 Q1233.8 1473.71 1235.6 1477.28 Q1237.43 1480.82 1241.04 1480.82 Q1244.68 1480.82 1246.48 1477.28 Q1248.31 1473.71 1248.31 1466.61 Q1248.31 1459.48 1246.48 1455.94 Q1244.68 1452.37 1241.04 1452.37 M1241.04 1448.67 Q1246.85 1448.67 1249.91 1453.27 Q1252.99 1457.86 1252.99 1466.61 Q1252.99 1475.33 1249.91 1479.94 Q1246.85 1484.52 1241.04 1484.52 Q1235.23 1484.52 1232.15 1479.94 Q1229.1 1475.33 1229.1 1466.61 Q1229.1 1457.86 1232.15 1453.27 Q1235.23 1448.67 1241.04 1448.67 Z\" fill=\"#000000\" fill-rule=\"evenodd\" fill-opacity=\"1\" /><path clip-path=\"url(#clip030)\" d=\"M1261.2 1477.97 L1266.09 1477.97 L1266.09 1483.85 L1261.2 1483.85 L1261.2 1477.97 Z\" fill=\"#000000\" fill-rule=\"evenodd\" fill-opacity=\"1\" /><path clip-path=\"url(#clip030)\" d=\"M1276.32 1449.29 L1294.68 1449.29 L1294.68 1453.23 L1280.6 1453.23 L1280.6 1461.7 Q1281.62 1461.35 1282.64 1461.19 Q1283.66 1461 1284.68 1461 Q1290.46 1461 1293.84 1464.18 Q1297.22 1467.35 1297.22 1472.76 Q1297.22 1478.34 1293.75 1481.44 Q1290.28 1484.52 1283.96 1484.52 Q1281.78 1484.52 1279.51 1484.15 Q1277.27 1483.78 1274.86 1483.04 L1274.86 1478.34 Q1276.94 1479.48 1279.17 1480.03 Q1281.39 1480.59 1283.87 1480.59 Q1287.87 1480.59 1290.21 1478.48 Q1292.55 1476.38 1292.55 1472.76 Q1292.55 1469.15 1290.21 1467.05 Q1287.87 1464.94 1283.87 1464.94 Q1281.99 1464.94 1280.12 1465.36 Q1278.26 1465.77 1276.32 1466.65 L1276.32 1449.29 Z\" fill=\"#000000\" fill-rule=\"evenodd\" fill-opacity=\"1\" /><path clip-path=\"url(#clip030)\" d=\"M1316.44 1452.37 Q1312.82 1452.37 1311 1455.94 Q1309.19 1459.48 1309.19 1466.61 Q1309.19 1473.71 1311 1477.28 Q1312.82 1480.82 1316.44 1480.82 Q1320.07 1480.82 1321.88 1477.28 Q1323.7 1473.71 1323.7 1466.61 Q1323.7 1459.48 1321.88 1455.94 Q1320.07 1452.37 1316.44 1452.37 M1316.44 1448.67 Q1322.25 1448.67 1325.3 1453.27 Q1328.38 1457.86 1328.38 1466.61 Q1328.38 1475.33 1325.3 1479.94 Q1322.25 1484.52 1316.44 1484.52 Q1310.63 1484.52 1307.55 1479.94 Q1304.49 1475.33 1304.49 1466.61 Q1304.49 1457.86 1307.55 1453.27 Q1310.63 1448.67 1316.44 1448.67 Z\" fill=\"#000000\" fill-rule=\"evenodd\" fill-opacity=\"1\" /><path clip-path=\"url(#clip030)\" d=\"M1750.35 1452.37 Q1746.74 1452.37 1744.91 1455.94 Q1743.11 1459.48 1743.11 1466.61 Q1743.11 1473.71 1744.91 1477.28 Q1746.74 1480.82 1750.35 1480.82 Q1753.99 1480.82 1755.79 1477.28 Q1757.62 1473.71 1757.62 1466.61 Q1757.62 1459.48 1755.79 1455.94 Q1753.99 1452.37 1750.35 1452.37 M1750.35 1448.67 Q1756.16 1448.67 1759.22 1453.27 Q1762.3 1457.86 1762.3 1466.61 Q1762.3 1475.33 1759.22 1479.94 Q1756.16 1484.52 1750.35 1484.52 Q1744.54 1484.52 1741.46 1479.94 Q1738.41 1475.33 1738.41 1466.61 Q1738.41 1457.86 1741.46 1453.27 Q1744.54 1448.67 1750.35 1448.67 Z\" fill=\"#000000\" fill-rule=\"evenodd\" fill-opacity=\"1\" /><path clip-path=\"url(#clip030)\" d=\"M1770.51 1477.97 L1775.4 1477.97 L1775.4 1483.85 L1770.51 1483.85 L1770.51 1477.97 Z\" fill=\"#000000\" fill-rule=\"evenodd\" fill-opacity=\"1\" /><path clip-path=\"url(#clip030)\" d=\"M1784.4 1449.29 L1806.63 1449.29 L1806.63 1451.28 L1794.08 1483.85 L1789.2 1483.85 L1801 1453.23 L1784.4 1453.23 L1784.4 1449.29 Z\" fill=\"#000000\" fill-rule=\"evenodd\" fill-opacity=\"1\" /><path clip-path=\"url(#clip030)\" d=\"M1815.79 1449.29 L1834.15 1449.29 L1834.15 1453.23 L1820.07 1453.23 L1820.07 1461.7 Q1821.09 1461.35 1822.11 1461.19 Q1823.13 1461 1824.15 1461 Q1829.94 1461 1833.32 1464.18 Q1836.69 1467.35 1836.69 1472.76 Q1836.69 1478.34 1833.22 1481.44 Q1829.75 1484.52 1823.43 1484.52 Q1821.26 1484.52 1818.99 1484.15 Q1816.74 1483.78 1814.33 1483.04 L1814.33 1478.34 Q1816.42 1479.48 1818.64 1480.03 Q1820.86 1480.59 1823.34 1480.59 Q1827.34 1480.59 1829.68 1478.48 Q1832.02 1476.38 1832.02 1472.76 Q1832.02 1469.15 1829.68 1467.05 Q1827.34 1464.94 1823.34 1464.94 Q1821.46 1464.94 1819.59 1465.36 Q1817.74 1465.77 1815.79 1466.65 L1815.79 1449.29 Z\" fill=\"#000000\" fill-rule=\"evenodd\" fill-opacity=\"1\" /><path clip-path=\"url(#clip030)\" d=\"M2248.44 1479.92 L2256.08 1479.92 L2256.08 1453.55 L2247.77 1455.22 L2247.77 1450.96 L2256.03 1449.29 L2260.7 1449.29 L2260.7 1479.92 L2268.34 1479.92 L2268.34 1483.85 L2248.44 1483.85 L2248.44 1479.92 Z\" fill=\"#000000\" fill-rule=\"evenodd\" fill-opacity=\"1\" /><path clip-path=\"url(#clip030)\" d=\"M2277.79 1477.97 L2282.67 1477.97 L2282.67 1483.85 L2277.79 1483.85 L2277.79 1477.97 Z\" fill=\"#000000\" fill-rule=\"evenodd\" fill-opacity=\"1\" /><path clip-path=\"url(#clip030)\" d=\"M2302.86 1452.37 Q2299.25 1452.37 2297.42 1455.94 Q2295.61 1459.48 2295.61 1466.61 Q2295.61 1473.71 2297.42 1477.28 Q2299.25 1480.82 2302.86 1480.82 Q2306.49 1480.82 2308.3 1477.28 Q2310.13 1473.71 2310.13 1466.61 Q2310.13 1459.48 2308.3 1455.94 Q2306.49 1452.37 2302.86 1452.37 M2302.86 1448.67 Q2308.67 1448.67 2311.72 1453.27 Q2314.8 1457.86 2314.8 1466.61 Q2314.8 1475.33 2311.72 1479.94 Q2308.67 1484.52 2302.86 1484.52 Q2297.05 1484.52 2293.97 1479.94 Q2290.91 1475.33 2290.91 1466.61 Q2290.91 1457.86 2293.97 1453.27 Q2297.05 1448.67 2302.86 1448.67 Z\" fill=\"#000000\" fill-rule=\"evenodd\" fill-opacity=\"1\" /><path clip-path=\"url(#clip030)\" d=\"M2333.02 1452.37 Q2329.41 1452.37 2327.58 1455.94 Q2325.77 1459.48 2325.77 1466.61 Q2325.77 1473.71 2327.58 1477.28 Q2329.41 1480.82 2333.02 1480.82 Q2336.65 1480.82 2338.46 1477.28 Q2340.29 1473.71 2340.29 1466.61 Q2340.29 1459.48 2338.46 1455.94 Q2336.65 1452.37 2333.02 1452.37 M2333.02 1448.67 Q2338.83 1448.67 2341.88 1453.27 Q2344.96 1457.86 2344.96 1466.61 Q2344.96 1475.33 2341.88 1479.94 Q2338.83 1484.52 2333.02 1484.52 Q2327.21 1484.52 2324.13 1479.94 Q2321.07 1475.33 2321.07 1466.61 Q2321.07 1457.86 2324.13 1453.27 Q2327.21 1448.67 2333.02 1448.67 Z\" fill=\"#000000\" fill-rule=\"evenodd\" fill-opacity=\"1\" /><path clip-path=\"url(#clip030)\" d=\"M1290.53 1549.81 Q1290.53 1543.44 1287.89 1539.94 Q1285.28 1536.44 1280.54 1536.44 Q1275.83 1536.44 1273.19 1539.94 Q1270.58 1543.44 1270.58 1549.81 Q1270.58 1556.14 1273.19 1559.64 Q1275.83 1563.14 1280.54 1563.14 Q1285.28 1563.14 1287.89 1559.64 Q1290.53 1556.14 1290.53 1549.81 M1296.39 1563.62 Q1296.39 1572.72 1292.35 1577.15 Q1288.31 1581.6 1279.97 1581.6 Q1276.88 1581.6 1274.14 1581.13 Q1271.41 1580.68 1268.83 1579.72 L1268.83 1574.03 Q1271.41 1575.43 1273.92 1576.1 Q1276.43 1576.76 1279.04 1576.76 Q1284.81 1576.76 1287.67 1573.74 Q1290.53 1570.75 1290.53 1564.67 L1290.53 1561.77 Q1288.72 1564.92 1285.89 1566.48 Q1283.05 1568.04 1279.11 1568.04 Q1272.55 1568.04 1268.54 1563.05 Q1264.53 1558.05 1264.53 1549.81 Q1264.53 1541.53 1268.54 1536.53 Q1272.55 1531.54 1279.11 1531.54 Q1283.05 1531.54 1285.89 1533.1 Q1288.72 1534.66 1290.53 1537.81 L1290.53 1532.4 L1296.39 1532.4 L1296.39 1563.62 Z\" fill=\"#000000\" fill-rule=\"evenodd\" fill-opacity=\"1\" /><path clip-path=\"url(#clip030)\" d=\"M1310.4 1562.63 L1320.9 1562.63 L1320.9 1526.38 L1309.47 1528.67 L1309.47 1522.82 L1320.83 1520.52 L1327.26 1520.52 L1327.26 1562.63 L1337.77 1562.63 L1337.77 1568.04 L1310.4 1568.04 L1310.4 1562.63 Z\" fill=\"#000000\" fill-rule=\"evenodd\" fill-opacity=\"1\" /><polyline clip-path=\"url(#clip032)\" style=\"stroke:#000000; stroke-linecap:butt; stroke-linejoin:round; stroke-width:2; stroke-opacity:0.1; fill:none\" points=\"\n",
       "  249.542,1384.61 2352.76,1384.61 \n",
       "  \"/>\n",
       "<polyline clip-path=\"url(#clip032)\" style=\"stroke:#000000; stroke-linecap:butt; stroke-linejoin:round; stroke-width:2; stroke-opacity:0.1; fill:none\" points=\"\n",
       "  249.542,1056.36 2352.76,1056.36 \n",
       "  \"/>\n",
       "<polyline clip-path=\"url(#clip032)\" style=\"stroke:#000000; stroke-linecap:butt; stroke-linejoin:round; stroke-width:2; stroke-opacity:0.1; fill:none\" points=\"\n",
       "  249.542,728.112 2352.76,728.112 \n",
       "  \"/>\n",
       "<polyline clip-path=\"url(#clip032)\" style=\"stroke:#000000; stroke-linecap:butt; stroke-linejoin:round; stroke-width:2; stroke-opacity:0.1; fill:none\" points=\"\n",
       "  249.542,399.863 2352.76,399.863 \n",
       "  \"/>\n",
       "<polyline clip-path=\"url(#clip032)\" style=\"stroke:#000000; stroke-linecap:butt; stroke-linejoin:round; stroke-width:2; stroke-opacity:0.1; fill:none\" points=\"\n",
       "  249.542,71.6132 2352.76,71.6132 \n",
       "  \"/>\n",
       "<polyline clip-path=\"url(#clip030)\" style=\"stroke:#000000; stroke-linecap:butt; stroke-linejoin:round; stroke-width:4; stroke-opacity:1; fill:none\" points=\"\n",
       "  249.542,1423.18 249.542,47.2441 \n",
       "  \"/>\n",
       "<polyline clip-path=\"url(#clip030)\" style=\"stroke:#000000; stroke-linecap:butt; stroke-linejoin:round; stroke-width:4; stroke-opacity:1; fill:none\" points=\"\n",
       "  249.542,1384.61 268.44,1384.61 \n",
       "  \"/>\n",
       "<polyline clip-path=\"url(#clip030)\" style=\"stroke:#000000; stroke-linecap:butt; stroke-linejoin:round; stroke-width:4; stroke-opacity:1; fill:none\" points=\"\n",
       "  249.542,1056.36 268.44,1056.36 \n",
       "  \"/>\n",
       "<polyline clip-path=\"url(#clip030)\" style=\"stroke:#000000; stroke-linecap:butt; stroke-linejoin:round; stroke-width:4; stroke-opacity:1; fill:none\" points=\"\n",
       "  249.542,728.112 268.44,728.112 \n",
       "  \"/>\n",
       "<polyline clip-path=\"url(#clip030)\" style=\"stroke:#000000; stroke-linecap:butt; stroke-linejoin:round; stroke-width:4; stroke-opacity:1; fill:none\" points=\"\n",
       "  249.542,399.863 268.44,399.863 \n",
       "  \"/>\n",
       "<polyline clip-path=\"url(#clip030)\" style=\"stroke:#000000; stroke-linecap:butt; stroke-linejoin:round; stroke-width:4; stroke-opacity:1; fill:none\" points=\"\n",
       "  249.542,71.6132 268.44,71.6132 \n",
       "  \"/>\n",
       "<path clip-path=\"url(#clip030)\" d=\"M126.205 1370.41 Q122.593 1370.41 120.765 1373.97 Q118.959 1377.52 118.959 1384.65 Q118.959 1391.75 120.765 1395.32 Q122.593 1398.86 126.205 1398.86 Q129.839 1398.86 131.644 1395.32 Q133.473 1391.75 133.473 1384.65 Q133.473 1377.52 131.644 1373.97 Q129.839 1370.41 126.205 1370.41 M126.205 1366.71 Q132.015 1366.71 135.07 1371.31 Q138.149 1375.9 138.149 1384.65 Q138.149 1393.37 135.07 1397.98 Q132.015 1402.56 126.205 1402.56 Q120.394 1402.56 117.316 1397.98 Q114.26 1393.37 114.26 1384.65 Q114.26 1375.9 117.316 1371.31 Q120.394 1366.71 126.205 1366.71 Z\" fill=\"#000000\" fill-rule=\"evenodd\" fill-opacity=\"1\" /><path clip-path=\"url(#clip030)\" d=\"M146.366 1396.01 L151.251 1396.01 L151.251 1401.89 L146.366 1401.89 L146.366 1396.01 Z\" fill=\"#000000\" fill-rule=\"evenodd\" fill-opacity=\"1\" /><path clip-path=\"url(#clip030)\" d=\"M171.436 1370.41 Q167.825 1370.41 165.996 1373.97 Q164.19 1377.52 164.19 1384.65 Q164.19 1391.75 165.996 1395.32 Q167.825 1398.86 171.436 1398.86 Q175.07 1398.86 176.876 1395.32 Q178.704 1391.75 178.704 1384.65 Q178.704 1377.52 176.876 1373.97 Q175.07 1370.41 171.436 1370.41 M171.436 1366.71 Q177.246 1366.71 180.301 1371.31 Q183.38 1375.9 183.38 1384.65 Q183.38 1393.37 180.301 1397.98 Q177.246 1402.56 171.436 1402.56 Q165.626 1402.56 162.547 1397.98 Q159.491 1393.37 159.491 1384.65 Q159.491 1375.9 162.547 1371.31 Q165.626 1366.71 171.436 1366.71 Z\" fill=\"#000000\" fill-rule=\"evenodd\" fill-opacity=\"1\" /><path clip-path=\"url(#clip030)\" d=\"M201.598 1370.41 Q197.987 1370.41 196.158 1373.97 Q194.352 1377.52 194.352 1384.65 Q194.352 1391.75 196.158 1395.32 Q197.987 1398.86 201.598 1398.86 Q205.232 1398.86 207.037 1395.32 Q208.866 1391.75 208.866 1384.65 Q208.866 1377.52 207.037 1373.97 Q205.232 1370.41 201.598 1370.41 M201.598 1366.71 Q207.408 1366.71 210.463 1371.31 Q213.542 1375.9 213.542 1384.65 Q213.542 1393.37 210.463 1397.98 Q207.408 1402.56 201.598 1402.56 Q195.787 1402.56 192.709 1397.98 Q189.653 1393.37 189.653 1384.65 Q189.653 1375.9 192.709 1371.31 Q195.787 1366.71 201.598 1366.71 Z\" fill=\"#000000\" fill-rule=\"evenodd\" fill-opacity=\"1\" /><path clip-path=\"url(#clip030)\" d=\"M127.2 1042.16 Q123.589 1042.16 121.76 1045.73 Q119.955 1049.27 119.955 1056.4 Q119.955 1063.5 121.76 1067.07 Q123.589 1070.61 127.2 1070.61 Q130.834 1070.61 132.64 1067.07 Q134.468 1063.5 134.468 1056.4 Q134.468 1049.27 132.64 1045.73 Q130.834 1042.16 127.2 1042.16 M127.2 1038.46 Q133.01 1038.46 136.066 1043.06 Q139.144 1047.65 139.144 1056.4 Q139.144 1065.12 136.066 1069.73 Q133.01 1074.31 127.2 1074.31 Q121.39 1074.31 118.311 1069.73 Q115.256 1065.12 115.256 1056.4 Q115.256 1047.65 118.311 1043.06 Q121.39 1038.46 127.2 1038.46 Z\" fill=\"#000000\" fill-rule=\"evenodd\" fill-opacity=\"1\" /><path clip-path=\"url(#clip030)\" d=\"M147.362 1067.76 L152.246 1067.76 L152.246 1073.64 L147.362 1073.64 L147.362 1067.76 Z\" fill=\"#000000\" fill-rule=\"evenodd\" fill-opacity=\"1\" /><path clip-path=\"url(#clip030)\" d=\"M166.459 1069.71 L182.778 1069.71 L182.778 1073.64 L160.834 1073.64 L160.834 1069.71 Q163.496 1066.95 168.079 1062.32 Q172.686 1057.67 173.866 1056.33 Q176.112 1053.8 176.991 1052.07 Q177.894 1050.31 177.894 1048.62 Q177.894 1045.86 175.95 1044.13 Q174.028 1042.39 170.927 1042.39 Q168.727 1042.39 166.274 1043.16 Q163.843 1043.92 161.065 1045.47 L161.065 1040.75 Q163.89 1039.61 166.343 1039.04 Q168.797 1038.46 170.834 1038.46 Q176.204 1038.46 179.399 1041.14 Q182.593 1043.83 182.593 1048.32 Q182.593 1050.45 181.783 1052.37 Q180.996 1054.27 178.889 1056.86 Q178.311 1057.53 175.209 1060.75 Q172.107 1063.94 166.459 1069.71 Z\" fill=\"#000000\" fill-rule=\"evenodd\" fill-opacity=\"1\" /><path clip-path=\"url(#clip030)\" d=\"M192.639 1039.08 L210.996 1039.08 L210.996 1043.02 L196.922 1043.02 L196.922 1051.49 Q197.94 1051.14 198.959 1050.98 Q199.977 1050.79 200.996 1050.79 Q206.783 1050.79 210.162 1053.97 Q213.542 1057.14 213.542 1062.55 Q213.542 1068.13 210.07 1071.23 Q206.598 1074.31 200.278 1074.31 Q198.102 1074.31 195.834 1073.94 Q193.588 1073.57 191.181 1072.83 L191.181 1068.13 Q193.264 1069.27 195.487 1069.82 Q197.709 1070.38 200.186 1070.38 Q204.19 1070.38 206.528 1068.27 Q208.866 1066.16 208.866 1062.55 Q208.866 1058.94 206.528 1056.84 Q204.19 1054.73 200.186 1054.73 Q198.311 1054.73 196.436 1055.15 Q194.584 1055.56 192.639 1056.44 L192.639 1039.08 Z\" fill=\"#000000\" fill-rule=\"evenodd\" fill-opacity=\"1\" /><path clip-path=\"url(#clip030)\" d=\"M126.205 713.911 Q122.593 713.911 120.765 717.476 Q118.959 721.017 118.959 728.147 Q118.959 735.253 120.765 738.818 Q122.593 742.36 126.205 742.36 Q129.839 742.36 131.644 738.818 Q133.473 735.253 133.473 728.147 Q133.473 721.017 131.644 717.476 Q129.839 713.911 126.205 713.911 M126.205 710.207 Q132.015 710.207 135.07 714.814 Q138.149 719.397 138.149 728.147 Q138.149 736.874 135.07 741.48 Q132.015 746.064 126.205 746.064 Q120.394 746.064 117.316 741.48 Q114.26 736.874 114.26 728.147 Q114.26 719.397 117.316 714.814 Q120.394 710.207 126.205 710.207 Z\" fill=\"#000000\" fill-rule=\"evenodd\" fill-opacity=\"1\" /><path clip-path=\"url(#clip030)\" d=\"M146.366 739.513 L151.251 739.513 L151.251 745.392 L146.366 745.392 L146.366 739.513 Z\" fill=\"#000000\" fill-rule=\"evenodd\" fill-opacity=\"1\" /><path clip-path=\"url(#clip030)\" d=\"M161.482 710.832 L179.839 710.832 L179.839 714.767 L165.765 714.767 L165.765 723.24 Q166.783 722.892 167.802 722.73 Q168.82 722.545 169.839 722.545 Q175.626 722.545 179.005 725.716 Q182.385 728.888 182.385 734.304 Q182.385 739.883 178.913 742.985 Q175.44 746.064 169.121 746.064 Q166.945 746.064 164.677 745.693 Q162.431 745.323 160.024 744.582 L160.024 739.883 Q162.107 741.017 164.329 741.573 Q166.552 742.128 169.028 742.128 Q173.033 742.128 175.371 740.022 Q177.709 737.915 177.709 734.304 Q177.709 730.693 175.371 728.587 Q173.033 726.48 169.028 726.48 Q167.153 726.48 165.278 726.897 Q163.427 727.314 161.482 728.193 L161.482 710.832 Z\" fill=\"#000000\" fill-rule=\"evenodd\" fill-opacity=\"1\" /><path clip-path=\"url(#clip030)\" d=\"M201.598 713.911 Q197.987 713.911 196.158 717.476 Q194.352 721.017 194.352 728.147 Q194.352 735.253 196.158 738.818 Q197.987 742.36 201.598 742.36 Q205.232 742.36 207.037 738.818 Q208.866 735.253 208.866 728.147 Q208.866 721.017 207.037 717.476 Q205.232 713.911 201.598 713.911 M201.598 710.207 Q207.408 710.207 210.463 714.814 Q213.542 719.397 213.542 728.147 Q213.542 736.874 210.463 741.48 Q207.408 746.064 201.598 746.064 Q195.787 746.064 192.709 741.48 Q189.653 736.874 189.653 728.147 Q189.653 719.397 192.709 714.814 Q195.787 710.207 201.598 710.207 Z\" fill=\"#000000\" fill-rule=\"evenodd\" fill-opacity=\"1\" /><path clip-path=\"url(#clip030)\" d=\"M127.2 385.661 Q123.589 385.661 121.76 389.226 Q119.955 392.768 119.955 399.897 Q119.955 407.004 121.76 410.569 Q123.589 414.11 127.2 414.11 Q130.834 414.11 132.64 410.569 Q134.468 407.004 134.468 399.897 Q134.468 392.768 132.64 389.226 Q130.834 385.661 127.2 385.661 M127.2 381.958 Q133.01 381.958 136.066 386.564 Q139.144 391.148 139.144 399.897 Q139.144 408.624 136.066 413.231 Q133.01 417.814 127.2 417.814 Q121.39 417.814 118.311 413.231 Q115.256 408.624 115.256 399.897 Q115.256 391.148 118.311 386.564 Q121.39 381.958 127.2 381.958 Z\" fill=\"#000000\" fill-rule=\"evenodd\" fill-opacity=\"1\" /><path clip-path=\"url(#clip030)\" d=\"M147.362 411.263 L152.246 411.263 L152.246 417.143 L147.362 417.143 L147.362 411.263 Z\" fill=\"#000000\" fill-rule=\"evenodd\" fill-opacity=\"1\" /><path clip-path=\"url(#clip030)\" d=\"M161.251 382.583 L183.473 382.583 L183.473 384.573 L170.927 417.143 L166.042 417.143 L177.848 386.518 L161.251 386.518 L161.251 382.583 Z\" fill=\"#000000\" fill-rule=\"evenodd\" fill-opacity=\"1\" /><path clip-path=\"url(#clip030)\" d=\"M192.639 382.583 L210.996 382.583 L210.996 386.518 L196.922 386.518 L196.922 394.99 Q197.94 394.643 198.959 394.481 Q199.977 394.296 200.996 394.296 Q206.783 394.296 210.162 397.467 Q213.542 400.638 213.542 406.055 Q213.542 411.634 210.07 414.735 Q206.598 417.814 200.278 417.814 Q198.102 417.814 195.834 417.444 Q193.588 417.073 191.181 416.333 L191.181 411.634 Q193.264 412.768 195.487 413.323 Q197.709 413.879 200.186 413.879 Q204.19 413.879 206.528 411.772 Q208.866 409.666 208.866 406.055 Q208.866 402.444 206.528 400.337 Q204.19 398.231 200.186 398.231 Q198.311 398.231 196.436 398.647 Q194.584 399.064 192.639 399.944 L192.639 382.583 Z\" fill=\"#000000\" fill-rule=\"evenodd\" fill-opacity=\"1\" /><path clip-path=\"url(#clip030)\" d=\"M117.015 84.9581 L124.654 84.9581 L124.654 58.5925 L116.343 60.2591 L116.343 55.9999 L124.607 54.3332 L129.283 54.3332 L129.283 84.9581 L136.922 84.9581 L136.922 88.8932 L117.015 88.8932 L117.015 84.9581 Z\" fill=\"#000000\" fill-rule=\"evenodd\" fill-opacity=\"1\" /><path clip-path=\"url(#clip030)\" d=\"M146.366 83.0136 L151.251 83.0136 L151.251 88.8932 L146.366 88.8932 L146.366 83.0136 Z\" fill=\"#000000\" fill-rule=\"evenodd\" fill-opacity=\"1\" /><path clip-path=\"url(#clip030)\" d=\"M171.436 57.4119 Q167.825 57.4119 165.996 60.9767 Q164.19 64.5184 164.19 71.648 Q164.19 78.7544 165.996 82.3192 Q167.825 85.8609 171.436 85.8609 Q175.07 85.8609 176.876 82.3192 Q178.704 78.7544 178.704 71.648 Q178.704 64.5184 176.876 60.9767 Q175.07 57.4119 171.436 57.4119 M171.436 53.7082 Q177.246 53.7082 180.301 58.3147 Q183.38 62.898 183.38 71.648 Q183.38 80.3748 180.301 84.9812 Q177.246 89.5645 171.436 89.5645 Q165.626 89.5645 162.547 84.9812 Q159.491 80.3748 159.491 71.648 Q159.491 62.898 162.547 58.3147 Q165.626 53.7082 171.436 53.7082 Z\" fill=\"#000000\" fill-rule=\"evenodd\" fill-opacity=\"1\" /><path clip-path=\"url(#clip030)\" d=\"M201.598 57.4119 Q197.987 57.4119 196.158 60.9767 Q194.352 64.5184 194.352 71.648 Q194.352 78.7544 196.158 82.3192 Q197.987 85.8609 201.598 85.8609 Q205.232 85.8609 207.037 82.3192 Q208.866 78.7544 208.866 71.648 Q208.866 64.5184 207.037 60.9767 Q205.232 57.4119 201.598 57.4119 M201.598 53.7082 Q207.408 53.7082 210.463 58.3147 Q213.542 62.898 213.542 71.648 Q213.542 80.3748 210.463 84.9812 Q207.408 89.5645 201.598 89.5645 Q195.787 89.5645 192.709 84.9812 Q189.653 80.3748 189.653 71.648 Q189.653 62.898 192.709 58.3147 Q195.787 53.7082 201.598 53.7082 Z\" fill=\"#000000\" fill-rule=\"evenodd\" fill-opacity=\"1\" /><path clip-path=\"url(#clip030)\" d=\"M45.7664 745.572 Q39.4007 745.572 35.8996 748.214 Q32.3984 750.824 32.3984 755.566 Q32.3984 760.277 35.8996 762.919 Q39.4007 765.529 45.7664 765.529 Q52.1003 765.529 55.6014 762.919 Q59.1026 760.277 59.1026 755.566 Q59.1026 750.824 55.6014 748.214 Q52.1003 745.572 45.7664 745.572 M59.58 739.716 Q68.683 739.716 73.1071 743.758 Q77.5631 747.8 77.5631 756.139 Q77.5631 759.227 77.0857 761.964 Q76.6401 764.701 75.6852 767.279 L69.9879 767.279 Q71.3884 764.701 72.0568 762.187 Q72.7252 759.672 72.7252 757.062 Q72.7252 751.301 69.7015 748.437 Q66.7096 745.572 60.6303 745.572 L57.7339 745.572 Q60.885 747.386 62.4446 750.219 Q64.0042 753.052 64.0042 756.999 Q64.0042 763.555 59.0071 767.566 Q54.01 771.576 45.7664 771.576 Q37.491 771.576 32.4939 767.566 Q27.4968 763.555 27.4968 756.999 Q27.4968 753.052 29.0564 750.219 Q30.616 747.386 33.7671 745.572 L28.3562 745.572 L28.3562 739.716 L59.58 739.716 Z\" fill=\"#000000\" fill-rule=\"evenodd\" fill-opacity=\"1\" /><path clip-path=\"url(#clip030)\" d=\"M58.5933 721.287 L58.5933 698.848 L64.0042 698.848 L64.0042 729.021 L58.5933 729.021 Q54.8057 725.361 48.44 719.059 Q42.0425 712.725 40.1964 711.102 Q36.7271 708.014 34.34 706.805 Q31.921 705.564 29.5975 705.564 Q25.8099 705.564 23.4228 708.237 Q21.0356 710.879 21.0356 715.144 Q21.0356 718.168 22.086 721.542 Q23.1363 724.884 25.2688 728.703 L18.7758 728.703 Q17.2162 724.82 16.4205 721.446 Q15.6248 718.072 15.6248 715.271 Q15.6248 707.887 19.3169 703.495 Q23.009 699.102 29.1837 699.102 Q32.112 699.102 34.7537 700.216 Q37.3637 701.299 40.9285 704.195 Q41.8515 704.991 46.2757 709.256 Q50.668 713.521 58.5933 721.287 Z\" fill=\"#000000\" fill-rule=\"evenodd\" fill-opacity=\"1\" /><circle clip-path=\"url(#clip032)\" cx=\"875.8\" cy=\"842.212\" r=\"14\" fill=\"#6b9e32\" fill-rule=\"evenodd\" fill-opacity=\"1\" stroke=\"#000000\" stroke-opacity=\"1\" stroke-width=\"3.2\"/>\n",
       "<circle clip-path=\"url(#clip032)\" cx=\"771.813\" cy=\"1218.46\" r=\"14\" fill=\"#6b9e32\" fill-rule=\"evenodd\" fill-opacity=\"1\" stroke=\"#000000\" stroke-opacity=\"1\" stroke-width=\"3.2\"/>\n",
       "<circle clip-path=\"url(#clip032)\" cx=\"1236.68\" cy=\"359.955\" r=\"14\" fill=\"#6b9e32\" fill-rule=\"evenodd\" fill-opacity=\"1\" stroke=\"#000000\" stroke-opacity=\"1\" stroke-width=\"3.2\"/>\n",
       "<circle clip-path=\"url(#clip032)\" cx=\"542.557\" cy=\"1384.24\" r=\"14\" fill=\"#6b9e32\" fill-rule=\"evenodd\" fill-opacity=\"1\" stroke=\"#000000\" stroke-opacity=\"1\" stroke-width=\"3.2\"/>\n",
       "<circle clip-path=\"url(#clip032)\" cx=\"326.732\" cy=\"506.853\" r=\"14\" fill=\"#6b9e32\" fill-rule=\"evenodd\" fill-opacity=\"1\" stroke=\"#000000\" stroke-opacity=\"1\" stroke-width=\"3.2\"/>\n",
       "<circle clip-path=\"url(#clip032)\" cx=\"1380.41\" cy=\"345.726\" r=\"14\" fill=\"#6b9e32\" fill-rule=\"evenodd\" fill-opacity=\"1\" stroke=\"#000000\" stroke-opacity=\"1\" stroke-width=\"3.2\"/>\n",
       "<circle clip-path=\"url(#clip032)\" cx=\"911.199\" cy=\"117.574\" r=\"14\" fill=\"#6b9e32\" fill-rule=\"evenodd\" fill-opacity=\"1\" stroke=\"#000000\" stroke-opacity=\"1\" stroke-width=\"3.2\"/>\n",
       "<circle clip-path=\"url(#clip032)\" cx=\"1652.22\" cy=\"1046.87\" r=\"14\" fill=\"#009af9\" fill-rule=\"evenodd\" fill-opacity=\"1\" stroke=\"#000000\" stroke-opacity=\"1\" stroke-width=\"3.2\"/>\n",
       "<circle clip-path=\"url(#clip032)\" cx=\"1838.43\" cy=\"298.095\" r=\"14\" fill=\"#6b9e32\" fill-rule=\"evenodd\" fill-opacity=\"1\" stroke=\"#000000\" stroke-opacity=\"1\" stroke-width=\"3.2\"/>\n",
       "<circle clip-path=\"url(#clip032)\" cx=\"644.198\" cy=\"857.338\" r=\"14\" fill=\"#6b9e32\" fill-rule=\"evenodd\" fill-opacity=\"1\" stroke=\"#000000\" stroke-opacity=\"1\" stroke-width=\"3.2\"/>\n",
       "<circle clip-path=\"url(#clip032)\" cx=\"457.688\" cy=\"154.454\" r=\"14\" fill=\"#6b9e32\" fill-rule=\"evenodd\" fill-opacity=\"1\" stroke=\"#000000\" stroke-opacity=\"1\" stroke-width=\"3.2\"/>\n",
       "<circle clip-path=\"url(#clip032)\" cx=\"2111.41\" cy=\"281.936\" r=\"14\" fill=\"#6b9e32\" fill-rule=\"evenodd\" fill-opacity=\"1\" stroke=\"#000000\" stroke-opacity=\"1\" stroke-width=\"3.2\"/>\n",
       "<circle clip-path=\"url(#clip032)\" cx=\"1850.35\" cy=\"361.365\" r=\"14\" fill=\"#6b9e32\" fill-rule=\"evenodd\" fill-opacity=\"1\" stroke=\"#000000\" stroke-opacity=\"1\" stroke-width=\"3.2\"/>\n",
       "<circle clip-path=\"url(#clip032)\" cx=\"1033.02\" cy=\"929.204\" r=\"14\" fill=\"#6b9e32\" fill-rule=\"evenodd\" fill-opacity=\"1\" stroke=\"#000000\" stroke-opacity=\"1\" stroke-width=\"3.2\"/>\n",
       "<circle clip-path=\"url(#clip032)\" cx=\"943.827\" cy=\"906.055\" r=\"14\" fill=\"#6b9e32\" fill-rule=\"evenodd\" fill-opacity=\"1\" stroke=\"#000000\" stroke-opacity=\"1\" stroke-width=\"3.2\"/>\n",
       "<circle clip-path=\"url(#clip032)\" cx=\"1364.54\" cy=\"769.476\" r=\"14\" fill=\"#009af9\" fill-rule=\"evenodd\" fill-opacity=\"1\" stroke=\"#000000\" stroke-opacity=\"1\" stroke-width=\"3.2\"/>\n",
       "<circle clip-path=\"url(#clip032)\" cx=\"374.511\" cy=\"1025.94\" r=\"14\" fill=\"#6b9e32\" fill-rule=\"evenodd\" fill-opacity=\"1\" stroke=\"#000000\" stroke-opacity=\"1\" stroke-width=\"3.2\"/>\n",
       "<circle clip-path=\"url(#clip032)\" cx=\"593.004\" cy=\"264.581\" r=\"14\" fill=\"#6b9e32\" fill-rule=\"evenodd\" fill-opacity=\"1\" stroke=\"#000000\" stroke-opacity=\"1\" stroke-width=\"3.2\"/>\n",
       "<circle clip-path=\"url(#clip032)\" cx=\"1309.24\" cy=\"426.892\" r=\"14\" fill=\"#6b9e32\" fill-rule=\"evenodd\" fill-opacity=\"1\" stroke=\"#000000\" stroke-opacity=\"1\" stroke-width=\"3.2\"/>\n",
       "<circle clip-path=\"url(#clip032)\" cx=\"1964.01\" cy=\"589.236\" r=\"14\" fill=\"#6b9e32\" fill-rule=\"evenodd\" fill-opacity=\"1\" stroke=\"#000000\" stroke-opacity=\"1\" stroke-width=\"3.2\"/>\n",
       "<circle clip-path=\"url(#clip032)\" cx=\"1875.41\" cy=\"686.398\" r=\"14\" fill=\"#6b9e32\" fill-rule=\"evenodd\" fill-opacity=\"1\" stroke=\"#000000\" stroke-opacity=\"1\" stroke-width=\"3.2\"/>\n",
       "<circle clip-path=\"url(#clip032)\" cx=\"808.239\" cy=\"417.197\" r=\"14\" fill=\"#6b9e32\" fill-rule=\"evenodd\" fill-opacity=\"1\" stroke=\"#000000\" stroke-opacity=\"1\" stroke-width=\"3.2\"/>\n",
       "<circle clip-path=\"url(#clip032)\" cx=\"1523.13\" cy=\"1133.23\" r=\"14\" fill=\"#009af9\" fill-rule=\"evenodd\" fill-opacity=\"1\" stroke=\"#000000\" stroke-opacity=\"1\" stroke-width=\"3.2\"/>\n",
       "<circle clip-path=\"url(#clip032)\" cx=\"1925.39\" cy=\"719.405\" r=\"14\" fill=\"#6b9e32\" fill-rule=\"evenodd\" fill-opacity=\"1\" stroke=\"#000000\" stroke-opacity=\"1\" stroke-width=\"3.2\"/>\n",
       "<circle clip-path=\"url(#clip032)\" cx=\"1185.16\" cy=\"1270.22\" r=\"14\" fill=\"#6b9e32\" fill-rule=\"evenodd\" fill-opacity=\"1\" stroke=\"#000000\" stroke-opacity=\"1\" stroke-width=\"3.2\"/>\n",
       "<circle clip-path=\"url(#clip032)\" cx=\"1341.62\" cy=\"361.053\" r=\"14\" fill=\"#6b9e32\" fill-rule=\"evenodd\" fill-opacity=\"1\" stroke=\"#000000\" stroke-opacity=\"1\" stroke-width=\"3.2\"/>\n",
       "<circle clip-path=\"url(#clip032)\" cx=\"757.757\" cy=\"754.526\" r=\"14\" fill=\"#6b9e32\" fill-rule=\"evenodd\" fill-opacity=\"1\" stroke=\"#000000\" stroke-opacity=\"1\" stroke-width=\"3.2\"/>\n",
       "<circle clip-path=\"url(#clip032)\" cx=\"473.059\" cy=\"1007.53\" r=\"14\" fill=\"#6b9e32\" fill-rule=\"evenodd\" fill-opacity=\"1\" stroke=\"#000000\" stroke-opacity=\"1\" stroke-width=\"3.2\"/>\n",
       "<circle clip-path=\"url(#clip032)\" cx=\"1300.3\" cy=\"694.517\" r=\"14\" fill=\"#6b9e32\" fill-rule=\"evenodd\" fill-opacity=\"1\" stroke=\"#000000\" stroke-opacity=\"1\" stroke-width=\"3.2\"/>\n",
       "<circle clip-path=\"url(#clip032)\" cx=\"696.4\" cy=\"199.153\" r=\"14\" fill=\"#6b9e32\" fill-rule=\"evenodd\" fill-opacity=\"1\" stroke=\"#000000\" stroke-opacity=\"1\" stroke-width=\"3.2\"/>\n",
       "<circle clip-path=\"url(#clip032)\" cx=\"309.067\" cy=\"1230.08\" r=\"14\" fill=\"#6b9e32\" fill-rule=\"evenodd\" fill-opacity=\"1\" stroke=\"#000000\" stroke-opacity=\"1\" stroke-width=\"3.2\"/>\n",
       "<circle clip-path=\"url(#clip032)\" cx=\"2066.7\" cy=\"1306.14\" r=\"14\" fill=\"#009af9\" fill-rule=\"evenodd\" fill-opacity=\"1\" stroke=\"#000000\" stroke-opacity=\"1\" stroke-width=\"3.2\"/>\n",
       "<circle clip-path=\"url(#clip032)\" cx=\"510.193\" cy=\"840.992\" r=\"14\" fill=\"#6b9e32\" fill-rule=\"evenodd\" fill-opacity=\"1\" stroke=\"#000000\" stroke-opacity=\"1\" stroke-width=\"3.2\"/>\n",
       "<circle clip-path=\"url(#clip032)\" cx=\"1609.34\" cy=\"766.081\" r=\"14\" fill=\"#009af9\" fill-rule=\"evenodd\" fill-opacity=\"1\" stroke=\"#000000\" stroke-opacity=\"1\" stroke-width=\"3.2\"/>\n",
       "<circle clip-path=\"url(#clip032)\" cx=\"1203.14\" cy=\"546.921\" r=\"14\" fill=\"#6b9e32\" fill-rule=\"evenodd\" fill-opacity=\"1\" stroke=\"#000000\" stroke-opacity=\"1\" stroke-width=\"3.2\"/>\n",
       "<circle clip-path=\"url(#clip032)\" cx=\"812.122\" cy=\"1006.81\" r=\"14\" fill=\"#6b9e32\" fill-rule=\"evenodd\" fill-opacity=\"1\" stroke=\"#000000\" stroke-opacity=\"1\" stroke-width=\"3.2\"/>\n",
       "<circle clip-path=\"url(#clip032)\" cx=\"1270.49\" cy=\"1302.72\" r=\"14\" fill=\"#6b9e32\" fill-rule=\"evenodd\" fill-opacity=\"1\" stroke=\"#000000\" stroke-opacity=\"1\" stroke-width=\"3.2\"/>\n",
       "<circle clip-path=\"url(#clip032)\" cx=\"1116.1\" cy=\"682.588\" r=\"14\" fill=\"#6b9e32\" fill-rule=\"evenodd\" fill-opacity=\"1\" stroke=\"#000000\" stroke-opacity=\"1\" stroke-width=\"3.2\"/>\n",
       "<circle clip-path=\"url(#clip032)\" cx=\"543.779\" cy=\"755.687\" r=\"14\" fill=\"#6b9e32\" fill-rule=\"evenodd\" fill-opacity=\"1\" stroke=\"#000000\" stroke-opacity=\"1\" stroke-width=\"3.2\"/>\n",
       "<circle clip-path=\"url(#clip032)\" cx=\"1037.71\" cy=\"822.949\" r=\"14\" fill=\"#6b9e32\" fill-rule=\"evenodd\" fill-opacity=\"1\" stroke=\"#000000\" stroke-opacity=\"1\" stroke-width=\"3.2\"/>\n",
       "<circle clip-path=\"url(#clip032)\" cx=\"416.499\" cy=\"112.141\" r=\"14\" fill=\"#6b9e32\" fill-rule=\"evenodd\" fill-opacity=\"1\" stroke=\"#000000\" stroke-opacity=\"1\" stroke-width=\"3.2\"/>\n",
       "<circle clip-path=\"url(#clip032)\" cx=\"1119.91\" cy=\"902.938\" r=\"14\" fill=\"#6b9e32\" fill-rule=\"evenodd\" fill-opacity=\"1\" stroke=\"#000000\" stroke-opacity=\"1\" stroke-width=\"3.2\"/>\n",
       "<circle clip-path=\"url(#clip032)\" cx=\"1833.53\" cy=\"1199.64\" r=\"14\" fill=\"#009af9\" fill-rule=\"evenodd\" fill-opacity=\"1\" stroke=\"#000000\" stroke-opacity=\"1\" stroke-width=\"3.2\"/>\n",
       "<circle clip-path=\"url(#clip032)\" cx=\"444.032\" cy=\"164.949\" r=\"14\" fill=\"#6b9e32\" fill-rule=\"evenodd\" fill-opacity=\"1\" stroke=\"#000000\" stroke-opacity=\"1\" stroke-width=\"3.2\"/>\n",
       "<circle clip-path=\"url(#clip032)\" cx=\"1353.51\" cy=\"1183.19\" r=\"14\" fill=\"#009af9\" fill-rule=\"evenodd\" fill-opacity=\"1\" stroke=\"#000000\" stroke-opacity=\"1\" stroke-width=\"3.2\"/>\n",
       "<circle clip-path=\"url(#clip032)\" cx=\"373.31\" cy=\"119.304\" r=\"14\" fill=\"#6b9e32\" fill-rule=\"evenodd\" fill-opacity=\"1\" stroke=\"#000000\" stroke-opacity=\"1\" stroke-width=\"3.2\"/>\n",
       "<circle clip-path=\"url(#clip032)\" cx=\"1723.02\" cy=\"86.1857\" r=\"14\" fill=\"#6b9e32\" fill-rule=\"evenodd\" fill-opacity=\"1\" stroke=\"#000000\" stroke-opacity=\"1\" stroke-width=\"3.2\"/>\n",
       "<circle clip-path=\"url(#clip032)\" cx=\"927.693\" cy=\"601.587\" r=\"14\" fill=\"#6b9e32\" fill-rule=\"evenodd\" fill-opacity=\"1\" stroke=\"#000000\" stroke-opacity=\"1\" stroke-width=\"3.2\"/>\n",
       "<circle clip-path=\"url(#clip032)\" cx=\"355.694\" cy=\"696.842\" r=\"14\" fill=\"#6b9e32\" fill-rule=\"evenodd\" fill-opacity=\"1\" stroke=\"#000000\" stroke-opacity=\"1\" stroke-width=\"3.2\"/>\n",
       "<circle clip-path=\"url(#clip032)\" cx=\"1572.22\" cy=\"321.944\" r=\"14\" fill=\"#6b9e32\" fill-rule=\"evenodd\" fill-opacity=\"1\" stroke=\"#000000\" stroke-opacity=\"1\" stroke-width=\"3.2\"/>\n",
       "<circle clip-path=\"url(#clip032)\" cx=\"660.869\" cy=\"642.297\" r=\"14\" fill=\"#6b9e32\" fill-rule=\"evenodd\" fill-opacity=\"1\" stroke=\"#000000\" stroke-opacity=\"1\" stroke-width=\"3.2\"/>\n",
       "<circle clip-path=\"url(#clip032)\" cx=\"1162.34\" cy=\"128.254\" r=\"14\" fill=\"#6b9e32\" fill-rule=\"evenodd\" fill-opacity=\"1\" stroke=\"#000000\" stroke-opacity=\"1\" stroke-width=\"3.2\"/>\n",
       "<circle clip-path=\"url(#clip032)\" cx=\"788.76\" cy=\"339.018\" r=\"14\" fill=\"#6b9e32\" fill-rule=\"evenodd\" fill-opacity=\"1\" stroke=\"#000000\" stroke-opacity=\"1\" stroke-width=\"3.2\"/>\n",
       "<circle clip-path=\"url(#clip032)\" cx=\"1824.91\" cy=\"904.268\" r=\"14\" fill=\"#009af9\" fill-rule=\"evenodd\" fill-opacity=\"1\" stroke=\"#000000\" stroke-opacity=\"1\" stroke-width=\"3.2\"/>\n",
       "<circle clip-path=\"url(#clip032)\" cx=\"583.337\" cy=\"607.044\" r=\"14\" fill=\"#6b9e32\" fill-rule=\"evenodd\" fill-opacity=\"1\" stroke=\"#000000\" stroke-opacity=\"1\" stroke-width=\"3.2\"/>\n",
       "<circle clip-path=\"url(#clip032)\" cx=\"613.618\" cy=\"1373.55\" r=\"14\" fill=\"#6b9e32\" fill-rule=\"evenodd\" fill-opacity=\"1\" stroke=\"#000000\" stroke-opacity=\"1\" stroke-width=\"3.2\"/>\n",
       "<circle clip-path=\"url(#clip032)\" cx=\"1472.5\" cy=\"248.259\" r=\"14\" fill=\"#6b9e32\" fill-rule=\"evenodd\" fill-opacity=\"1\" stroke=\"#000000\" stroke-opacity=\"1\" stroke-width=\"3.2\"/>\n",
       "<circle clip-path=\"url(#clip032)\" cx=\"1287.4\" cy=\"848.713\" r=\"14\" fill=\"#009af9\" fill-rule=\"evenodd\" fill-opacity=\"1\" stroke=\"#000000\" stroke-opacity=\"1\" stroke-width=\"3.2\"/>\n",
       "<circle clip-path=\"url(#clip032)\" cx=\"423.79\" cy=\"1266.06\" r=\"14\" fill=\"#6b9e32\" fill-rule=\"evenodd\" fill-opacity=\"1\" stroke=\"#000000\" stroke-opacity=\"1\" stroke-width=\"3.2\"/>\n",
       "<circle clip-path=\"url(#clip032)\" cx=\"1472.25\" cy=\"743.179\" r=\"14\" fill=\"#009af9\" fill-rule=\"evenodd\" fill-opacity=\"1\" stroke=\"#000000\" stroke-opacity=\"1\" stroke-width=\"3.2\"/>\n",
       "<circle clip-path=\"url(#clip032)\" cx=\"1278.22\" cy=\"1322.78\" r=\"14\" fill=\"#6b9e32\" fill-rule=\"evenodd\" fill-opacity=\"1\" stroke=\"#000000\" stroke-opacity=\"1\" stroke-width=\"3.2\"/>\n",
       "<circle clip-path=\"url(#clip032)\" cx=\"1649.68\" cy=\"458.04\" r=\"14\" fill=\"#6b9e32\" fill-rule=\"evenodd\" fill-opacity=\"1\" stroke=\"#000000\" stroke-opacity=\"1\" stroke-width=\"3.2\"/>\n",
       "<circle clip-path=\"url(#clip032)\" cx=\"2291.55\" cy=\"876.806\" r=\"14\" fill=\"#009af9\" fill-rule=\"evenodd\" fill-opacity=\"1\" stroke=\"#000000\" stroke-opacity=\"1\" stroke-width=\"3.2\"/>\n",
       "<circle clip-path=\"url(#clip032)\" cx=\"1060.55\" cy=\"407.368\" r=\"14\" fill=\"#6b9e32\" fill-rule=\"evenodd\" fill-opacity=\"1\" stroke=\"#000000\" stroke-opacity=\"1\" stroke-width=\"3.2\"/>\n",
       "<circle clip-path=\"url(#clip032)\" cx=\"2100.49\" cy=\"154.852\" r=\"14\" fill=\"#6b9e32\" fill-rule=\"evenodd\" fill-opacity=\"1\" stroke=\"#000000\" stroke-opacity=\"1\" stroke-width=\"3.2\"/>\n",
       "<circle clip-path=\"url(#clip032)\" cx=\"778.497\" cy=\"730.359\" r=\"14\" fill=\"#6b9e32\" fill-rule=\"evenodd\" fill-opacity=\"1\" stroke=\"#000000\" stroke-opacity=\"1\" stroke-width=\"3.2\"/>\n",
       "<circle clip-path=\"url(#clip032)\" cx=\"2038.58\" cy=\"721.33\" r=\"14\" fill=\"#6b9e32\" fill-rule=\"evenodd\" fill-opacity=\"1\" stroke=\"#000000\" stroke-opacity=\"1\" stroke-width=\"3.2\"/>\n",
       "<circle clip-path=\"url(#clip032)\" cx=\"1600.65\" cy=\"501.278\" r=\"14\" fill=\"#6b9e32\" fill-rule=\"evenodd\" fill-opacity=\"1\" stroke=\"#000000\" stroke-opacity=\"1\" stroke-width=\"3.2\"/>\n",
       "<circle clip-path=\"url(#clip032)\" cx=\"462.703\" cy=\"89.846\" r=\"14\" fill=\"#6b9e32\" fill-rule=\"evenodd\" fill-opacity=\"1\" stroke=\"#000000\" stroke-opacity=\"1\" stroke-width=\"3.2\"/>\n",
       "<circle clip-path=\"url(#clip032)\" cx=\"324.753\" cy=\"1111.75\" r=\"14\" fill=\"#6b9e32\" fill-rule=\"evenodd\" fill-opacity=\"1\" stroke=\"#000000\" stroke-opacity=\"1\" stroke-width=\"3.2\"/>\n",
       "<circle clip-path=\"url(#clip032)\" cx=\"1122.43\" cy=\"1382.68\" r=\"14\" fill=\"#6b9e32\" fill-rule=\"evenodd\" fill-opacity=\"1\" stroke=\"#000000\" stroke-opacity=\"1\" stroke-width=\"3.2\"/>\n",
       "<circle clip-path=\"url(#clip032)\" cx=\"450.897\" cy=\"681.778\" r=\"14\" fill=\"#6b9e32\" fill-rule=\"evenodd\" fill-opacity=\"1\" stroke=\"#000000\" stroke-opacity=\"1\" stroke-width=\"3.2\"/>\n",
       "<circle clip-path=\"url(#clip032)\" cx=\"1221.38\" cy=\"233.866\" r=\"14\" fill=\"#6b9e32\" fill-rule=\"evenodd\" fill-opacity=\"1\" stroke=\"#000000\" stroke-opacity=\"1\" stroke-width=\"3.2\"/>\n",
       "<circle clip-path=\"url(#clip032)\" cx=\"901.185\" cy=\"1288.01\" r=\"14\" fill=\"#6b9e32\" fill-rule=\"evenodd\" fill-opacity=\"1\" stroke=\"#000000\" stroke-opacity=\"1\" stroke-width=\"3.2\"/>\n",
       "<circle clip-path=\"url(#clip032)\" cx=\"1574.1\" cy=\"960.943\" r=\"14\" fill=\"#009af9\" fill-rule=\"evenodd\" fill-opacity=\"1\" stroke=\"#000000\" stroke-opacity=\"1\" stroke-width=\"3.2\"/>\n",
       "<circle clip-path=\"url(#clip032)\" cx=\"976.311\" cy=\"987.855\" r=\"14\" fill=\"#6b9e32\" fill-rule=\"evenodd\" fill-opacity=\"1\" stroke=\"#000000\" stroke-opacity=\"1\" stroke-width=\"3.2\"/>\n",
       "<circle clip-path=\"url(#clip032)\" cx=\"1151.02\" cy=\"347.213\" r=\"14\" fill=\"#6b9e32\" fill-rule=\"evenodd\" fill-opacity=\"1\" stroke=\"#000000\" stroke-opacity=\"1\" stroke-width=\"3.2\"/>\n",
       "<circle clip-path=\"url(#clip032)\" cx=\"1200.9\" cy=\"1186.59\" r=\"14\" fill=\"#6b9e32\" fill-rule=\"evenodd\" fill-opacity=\"1\" stroke=\"#000000\" stroke-opacity=\"1\" stroke-width=\"3.2\"/>\n",
       "<circle clip-path=\"url(#clip032)\" cx=\"1762.03\" cy=\"1077.95\" r=\"14\" fill=\"#009af9\" fill-rule=\"evenodd\" fill-opacity=\"1\" stroke=\"#000000\" stroke-opacity=\"1\" stroke-width=\"3.2\"/>\n",
       "<circle clip-path=\"url(#clip032)\" cx=\"2216.15\" cy=\"1162.37\" r=\"14\" fill=\"#009af9\" fill-rule=\"evenodd\" fill-opacity=\"1\" stroke=\"#000000\" stroke-opacity=\"1\" stroke-width=\"3.2\"/>\n",
       "<circle clip-path=\"url(#clip032)\" cx=\"991.529\" cy=\"1242.71\" r=\"14\" fill=\"#6b9e32\" fill-rule=\"evenodd\" fill-opacity=\"1\" stroke=\"#000000\" stroke-opacity=\"1\" stroke-width=\"3.2\"/>\n",
       "<circle clip-path=\"url(#clip032)\" cx=\"2224.13\" cy=\"219.1\" r=\"14\" fill=\"#6b9e32\" fill-rule=\"evenodd\" fill-opacity=\"1\" stroke=\"#000000\" stroke-opacity=\"1\" stroke-width=\"3.2\"/>\n",
       "<circle clip-path=\"url(#clip032)\" cx=\"1861.79\" cy=\"377.369\" r=\"14\" fill=\"#6b9e32\" fill-rule=\"evenodd\" fill-opacity=\"1\" stroke=\"#000000\" stroke-opacity=\"1\" stroke-width=\"3.2\"/>\n",
       "<circle clip-path=\"url(#clip032)\" cx=\"2047.2\" cy=\"579.647\" r=\"14\" fill=\"#6b9e32\" fill-rule=\"evenodd\" fill-opacity=\"1\" stroke=\"#000000\" stroke-opacity=\"1\" stroke-width=\"3.2\"/>\n",
       "<circle clip-path=\"url(#clip032)\" cx=\"2236.36\" cy=\"1348.15\" r=\"14\" fill=\"#009af9\" fill-rule=\"evenodd\" fill-opacity=\"1\" stroke=\"#000000\" stroke-opacity=\"1\" stroke-width=\"3.2\"/>\n",
       "<circle clip-path=\"url(#clip032)\" cx=\"1639.02\" cy=\"150.71\" r=\"14\" fill=\"#6b9e32\" fill-rule=\"evenodd\" fill-opacity=\"1\" stroke=\"#000000\" stroke-opacity=\"1\" stroke-width=\"3.2\"/>\n",
       "<circle clip-path=\"url(#clip032)\" cx=\"1326.95\" cy=\"912.989\" r=\"14\" fill=\"#009af9\" fill-rule=\"evenodd\" fill-opacity=\"1\" stroke=\"#000000\" stroke-opacity=\"1\" stroke-width=\"3.2\"/>\n",
       "<circle clip-path=\"url(#clip032)\" cx=\"2293.23\" cy=\"256.909\" r=\"14\" fill=\"#6b9e32\" fill-rule=\"evenodd\" fill-opacity=\"1\" stroke=\"#000000\" stroke-opacity=\"1\" stroke-width=\"3.2\"/>\n",
       "<circle clip-path=\"url(#clip032)\" cx=\"328.706\" cy=\"105.82\" r=\"14\" fill=\"#6b9e32\" fill-rule=\"evenodd\" fill-opacity=\"1\" stroke=\"#000000\" stroke-opacity=\"1\" stroke-width=\"3.2\"/>\n",
       "<circle clip-path=\"url(#clip032)\" cx=\"873.075\" cy=\"931.558\" r=\"14\" fill=\"#6b9e32\" fill-rule=\"evenodd\" fill-opacity=\"1\" stroke=\"#000000\" stroke-opacity=\"1\" stroke-width=\"3.2\"/>\n",
       "<circle clip-path=\"url(#clip032)\" cx=\"358.902\" cy=\"1360.66\" r=\"14\" fill=\"#6b9e32\" fill-rule=\"evenodd\" fill-opacity=\"1\" stroke=\"#000000\" stroke-opacity=\"1\" stroke-width=\"3.2\"/>\n",
       "<circle clip-path=\"url(#clip032)\" cx=\"1066.09\" cy=\"968.201\" r=\"14\" fill=\"#6b9e32\" fill-rule=\"evenodd\" fill-opacity=\"1\" stroke=\"#000000\" stroke-opacity=\"1\" stroke-width=\"3.2\"/>\n",
       "<circle clip-path=\"url(#clip032)\" cx=\"496.421\" cy=\"357.313\" r=\"14\" fill=\"#6b9e32\" fill-rule=\"evenodd\" fill-opacity=\"1\" stroke=\"#000000\" stroke-opacity=\"1\" stroke-width=\"3.2\"/>\n",
       "<circle clip-path=\"url(#clip032)\" cx=\"354.284\" cy=\"90.9414\" r=\"14\" fill=\"#6b9e32\" fill-rule=\"evenodd\" fill-opacity=\"1\" stroke=\"#000000\" stroke-opacity=\"1\" stroke-width=\"3.2\"/>\n",
       "<circle clip-path=\"url(#clip032)\" cx=\"1320.98\" cy=\"1298.75\" r=\"14\" fill=\"#009af9\" fill-rule=\"evenodd\" fill-opacity=\"1\" stroke=\"#000000\" stroke-opacity=\"1\" stroke-width=\"3.2\"/>\n",
       "<circle clip-path=\"url(#clip032)\" cx=\"1365.11\" cy=\"368.52\" r=\"14\" fill=\"#6b9e32\" fill-rule=\"evenodd\" fill-opacity=\"1\" stroke=\"#000000\" stroke-opacity=\"1\" stroke-width=\"3.2\"/>\n",
       "<circle clip-path=\"url(#clip032)\" cx=\"1328.63\" cy=\"981.23\" r=\"14\" fill=\"#009af9\" fill-rule=\"evenodd\" fill-opacity=\"1\" stroke=\"#000000\" stroke-opacity=\"1\" stroke-width=\"3.2\"/>\n",
       "<circle clip-path=\"url(#clip032)\" cx=\"1320.56\" cy=\"496.983\" r=\"14\" fill=\"#6b9e32\" fill-rule=\"evenodd\" fill-opacity=\"1\" stroke=\"#000000\" stroke-opacity=\"1\" stroke-width=\"3.2\"/>\n",
       "<circle clip-path=\"url(#clip032)\" cx=\"1993.69\" cy=\"176.695\" r=\"14\" fill=\"#6b9e32\" fill-rule=\"evenodd\" fill-opacity=\"1\" stroke=\"#000000\" stroke-opacity=\"1\" stroke-width=\"3.2\"/>\n",
       "<circle clip-path=\"url(#clip032)\" cx=\"1790.3\" cy=\"1285.02\" r=\"14\" fill=\"#009af9\" fill-rule=\"evenodd\" fill-opacity=\"1\" stroke=\"#000000\" stroke-opacity=\"1\" stroke-width=\"3.2\"/>\n",
       "</svg>\n"
      ]
     },
     "execution_count": 70,
     "metadata": {},
     "output_type": "execute_result"
    }
   ],
   "source": [
    "scatter(data_x[:,1], data_x[:,2], color=Int64.(data_y), legend=false)\n",
    "xlabel!(\"g1\")\n",
    "ylabel!(\"g2\")"
   ]
  },
  {
   "cell_type": "code",
   "execution_count": 68,
   "id": "covered-temple",
   "metadata": {},
   "outputs": [],
   "source": [
    "function generate_data(nr_samples::Int64)\n",
    "\n",
    "    # sample weights\n",
    "    w = rand(nr_samples,2)\n",
    "\n",
    "    # sample appraisal\n",
    "    y = zeros(Float64, nr_samples)\n",
    "    for k = 1:nr_samples\n",
    "        y[k] = 1.0*(w[k,1] > 0.5)*(w[k,2] < 0.5)\n",
    "    end\n",
    "\n",
    "    # return data\n",
    "    return y, w\n",
    "\n",
    "end;"
   ]
  },
  {
   "cell_type": "code",
   "execution_count": 69,
   "id": "future-thickness",
   "metadata": {},
   "outputs": [],
   "source": [
    "data_y, data_x = generate_data(100);"
   ]
  },
  {
   "cell_type": "code",
   "execution_count": 71,
   "id": "bearing-conservative",
   "metadata": {},
   "outputs": [],
   "source": [
    "function f(params)\n",
    "    fe = inference_flow_classifier(data_y, [data_x[k,:] for k=1:size(data_x,1)], params)\n",
    "    return fe\n",
    "end;"
   ]
  },
  {
   "cell_type": "code",
   "execution_count": 91,
   "id": "amazing-juice",
   "metadata": {},
   "outputs": [
    {
     "data": {
      "text/plain": [
       "13084.557985585314"
      ]
     },
     "execution_count": 91,
     "metadata": {},
     "output_type": "execute_result"
    }
   ],
   "source": [
    "f(randn(12))"
   ]
  },
  {
   "cell_type": "code",
   "execution_count": 76,
   "id": "attractive-netherlands",
   "metadata": {},
   "outputs": [
    {
     "name": "stdout",
     "output_type": "stream",
     "text": [
      "Iter     Function value   Gradient norm \n",
      "     0     3.139095e+03     3.875675e+03\n",
      " * time: 7.009506225585938e-5\n"
     ]
    },
    {
     "ename": "LoadError",
     "evalue": "DomainError with -3.594846866267512e-13:\nsqrt will only return a complex result if called with a complex argument. Try sqrt(Complex(x)).",
     "output_type": "error",
     "traceback": [
      "DomainError with -3.594846866267512e-13:\nsqrt will only return a complex result if called with a complex argument. Try sqrt(Complex(x)).",
      "",
      "Stacktrace:",
      "   [1] throw_complex_domainerror(f::Symbol, x::Float64)",
      "     @ Base.Math ./math.jl:33",
      "   [2] sqrt",
      "     @ ./math.jl:582 [inlined]",
      "   [3] sqrt",
      "     @ ~/.julia/packages/ForwardDiff/QOqCN/src/dual.jl:203 [inlined]",
      "   [4] macro expansion",
      "     @ ~/.julia/dev/ReactiveMP/src/nodes/probit.jl:37 [inlined]",
      "   [5] score(#unused#::AverageEnergy, fform::Type{Probit}, marginals_names::Type{Val{(:out, :in)}}, marginals::Tuple{Marginal{PointMass{Float64}}, Marginal{NormalMeanVariance{ForwardDiff.Dual{ForwardDiff.Tag{typeof(f), Float64}, Float64, 12}}}}, meta::ProbitMeta)",
      "     @ ReactiveMP ~/.julia/dev/ReactiveMP/src/score.jl:101",
      "   [6] score(#unused#::AverageEnergy, fform::Type, #unused#::Type{Val{(:out_in,)}}, marginals::Tuple{Marginal{NamedTuple{(:out, :in), Tuple{PointMass{Float64}, NormalMeanVariance{ForwardDiff.Dual{ForwardDiff.Tag{typeof(f), Float64}, Float64, 12}}}}}}, meta::ProbitMeta)",
      "     @ ReactiveMP ~/.julia/dev/ReactiveMP/src/score.jl:53",
      "   [7] (::ReactiveMP.var\"#362#365\"{ReactiveMP.InfCountingReal, DataType, ProbitMeta, DataType})(marginals::Tuple{Marginal{NamedTuple{(:out, :in), Tuple{PointMass{Float64}, NormalMeanVariance{ForwardDiff.Dual{ForwardDiff.Tag{typeof(f), Float64}, Float64, 12}}}}}})",
      "     @ ReactiveMP ~/.julia/dev/ReactiveMP/src/score/node.jl:33",
      "   [8] on_next!(actor::Rocket.MapActor{Tuple{Marginal}, Rocket.CollectLatestObservableInnerActor{ReactiveMP.InfCountingReal, CartesianIndex{1}, Rocket.CollectLatestObservableWrapper{ReactiveMP.InfCountingReal, Rocket.CombineLatestInnerActor{ReactiveMP.InfCountingReal, Rocket.CombineLatestActorWrapper{Rocket.MStorage2{ReactiveMP.InfCountingReal, ReactiveMP.InfCountingReal}, Rocket.MapActor{Tuple{ReactiveMP.InfCountingReal, ReactiveMP.InfCountingReal}, FunctionActor{Real, var\"#60#61\"}, ReactiveMP.var\"#247#251\"{ReactiveMP.Infinity}}, PushNew, Rocket.UInt8UpdatesStatus}, 1}, Vector{ReactiveMP.InfCountingReal}, BitVector, Vector{Teardown}, typeof(ReactiveMP.reduce_with_sum)}}, ReactiveMP.var\"#362#365\"{ReactiveMP.InfCountingReal, DataType, ProbitMeta, DataType}}, data::Tuple{Marginal{NamedTuple{(:out, :in), Tuple{PointMass{Float64}, NormalMeanVariance{ForwardDiff.Dual{ForwardDiff.Tag{typeof(f), Float64}, Float64, 12}}}}}})",
      "     @ Rocket ~/.julia/packages/Rocket/kCxUG/src/operators/map.jl:60",
      "   [9] next!(actor::Rocket.MapActor{Tuple{Marginal}, Rocket.CollectLatestObservableInnerActor{ReactiveMP.InfCountingReal, CartesianIndex{1}, Rocket.CollectLatestObservableWrapper{ReactiveMP.InfCountingReal, Rocket.CombineLatestInnerActor{ReactiveMP.InfCountingReal, Rocket.CombineLatestActorWrapper{Rocket.MStorage2{ReactiveMP.InfCountingReal, ReactiveMP.InfCountingReal}, Rocket.MapActor{Tuple{ReactiveMP.InfCountingReal, ReactiveMP.InfCountingReal}, FunctionActor{Real, var\"#60#61\"}, ReactiveMP.var\"#247#251\"{ReactiveMP.Infinity}}, PushNew, Rocket.UInt8UpdatesStatus}, 1}, Vector{ReactiveMP.InfCountingReal}, BitVector, Vector{Teardown}, typeof(ReactiveMP.reduce_with_sum)}}, ReactiveMP.var\"#362#365\"{ReactiveMP.InfCountingReal, DataType, ProbitMeta, DataType}}, data::Tuple{Marginal{NamedTuple{(:out, :in), Tuple{PointMass{Float64}, NormalMeanVariance{ForwardDiff.Dual{ForwardDiff.Tag{typeof(f), Float64}, Float64, 12}}}}}})",
      "     @ Rocket ~/.julia/packages/Rocket/kCxUG/src/actor.jl:206",
      "  [10] next_received!(wrapper::Rocket.CombineLatestActorWrapper{Rocket.MStorage1{Marginal}, Rocket.MapActor{Tuple{Marginal}, Rocket.CollectLatestObservableInnerActor{ReactiveMP.InfCountingReal, CartesianIndex{1}, Rocket.CollectLatestObservableWrapper{ReactiveMP.InfCountingReal, Rocket.CombineLatestInnerActor{ReactiveMP.InfCountingReal, Rocket.CombineLatestActorWrapper{Rocket.MStorage2{ReactiveMP.InfCountingReal, ReactiveMP.InfCountingReal}, Rocket.MapActor{Tuple{ReactiveMP.InfCountingReal, ReactiveMP.InfCountingReal}, FunctionActor{Real, var\"#60#61\"}, ReactiveMP.var\"#247#251\"{ReactiveMP.Infinity}}, PushNew, Rocket.UInt8UpdatesStatus}, 1}, Vector{ReactiveMP.InfCountingReal}, BitVector, Vector{Teardown}, typeof(ReactiveMP.reduce_with_sum)}}, ReactiveMP.var\"#362#365\"{ReactiveMP.InfCountingReal, DataType, ProbitMeta, DataType}}, PushNew, Rocket.UInt8UpdatesStatus}, data::Marginal{NamedTuple{(:out, :in), Tuple{PointMass{Float64}, NormalMeanVariance{ForwardDiff.Dual{ForwardDiff.Tag{typeof(f), Float64}, Float64, 12}}}}}, index::Val{1})",
      "     @ Rocket ~/.julia/packages/Rocket/kCxUG/src/observable/combined.jl:98",
      "  [11] on_next!",
      "     @ ~/.julia/packages/Rocket/kCxUG/src/observable/combined.jl:65 [inlined]",
      "  [12] next!",
      "     @ ~/.julia/packages/Rocket/kCxUG/src/actor.jl:206 [inlined]",
      "  [13] on_next!",
      "     @ ~/.julia/packages/Rocket/kCxUG/src/operators/filter.jl:62 [inlined]",
      "  [14] scheduled_next!(actor::Rocket.FilterActor{Marginal, Rocket.CombineLatestInnerActor{Marginal, Rocket.CombineLatestActorWrapper{Rocket.MStorage1{Marginal}, Rocket.MapActor{Tuple{Marginal}, Rocket.CollectLatestObservableInnerActor{ReactiveMP.InfCountingReal, CartesianIndex{1}, Rocket.CollectLatestObservableWrapper{ReactiveMP.InfCountingReal, Rocket.CombineLatestInnerActor{ReactiveMP.InfCountingReal, Rocket.CombineLatestActorWrapper{Rocket.MStorage2{ReactiveMP.InfCountingReal, ReactiveMP.InfCountingReal}, Rocket.MapActor{Tuple{ReactiveMP.InfCountingReal, ReactiveMP.InfCountingReal}, FunctionActor{Real, var\"#60#61\"}, ReactiveMP.var\"#247#251\"{ReactiveMP.Infinity}}, PushNew, Rocket.UInt8UpdatesStatus}, 1}, Vector{ReactiveMP.InfCountingReal}, BitVector, Vector{Teardown}, typeof(ReactiveMP.reduce_with_sum)}}, ReactiveMP.var\"#362#365\"{ReactiveMP.InfCountingReal, DataType, ProbitMeta, DataType}}, PushNew, Rocket.UInt8UpdatesStatus}, 1}, ReactiveMP.var\"#39#40\"}, value::Marginal{NamedTuple{(:out, :in), Tuple{PointMass{Float64}, NormalMeanVariance{ForwardDiff.Dual{ForwardDiff.Tag{typeof(f), Float64}, Float64, 12}}}}}, #unused#::AsapScheduler)",
      "     @ Rocket ~/.julia/packages/Rocket/kCxUG/src/schedulers/asap.jl:23",
      "  [15] on_next!(subject::Subject{Marginal, AsapScheduler, AsapScheduler}, data::Marginal{NamedTuple{(:out, :in), Tuple{PointMass{Float64}, NormalMeanVariance{ForwardDiff.Dual{ForwardDiff.Tag{typeof(f), Float64}, Float64, 12}}}}})",
      "     @ Rocket ~/.julia/packages/Rocket/kCxUG/src/subjects/subject.jl:62",
      "  [16] actor_on_next!",
      "     @ ~/.julia/packages/Rocket/kCxUG/src/actor.jl:250 [inlined]",
      "  [17] next!",
      "     @ ~/.julia/packages/Rocket/kCxUG/src/actor.jl:202 [inlined]",
      "  [18] on_next!",
      "     @ ~/.julia/packages/Rocket/kCxUG/src/subjects/recent.jl:62 [inlined]",
      "  [19] actor_on_next!",
      "     @ ~/.julia/packages/Rocket/kCxUG/src/actor.jl:250 [inlined]",
      "  [20] next!",
      "     @ ~/.julia/packages/Rocket/kCxUG/src/actor.jl:202 [inlined]",
      "  [21] on_next!",
      "     @ ~/.julia/packages/Rocket/kCxUG/src/operators/map.jl:60 [inlined]",
      "  [22] next!",
      "     @ ~/.julia/packages/Rocket/kCxUG/src/actor.jl:206 [inlined]",
      "  [23] on_next!",
      "     @ ~/.julia/packages/Rocket/kCxUG/src/operators/discontinue.jl:67 [inlined]",
      "  [24] next!(actor::Rocket.DiscontinueActor{Tuple{Tuple{AbstractMessage, AbstractMessage}, Nothing}, Rocket.MapActor{Tuple{Tuple{AbstractMessage, AbstractMessage}, Nothing}, Rocket.RecentSubjectInstance{Marginal, Subject{Marginal, AsapScheduler, AsapScheduler}}, ReactiveMP.var\"#314#317\"{DataType, DataType, DataType, Nothing, ProbitMeta, FactorNode{Type{Probit}, Tuple{NodeInterface, NodeInterface}, Tuple{Tuple{Int64, Int64}}, ReactiveMP.FactorNodeLocalMarginals{Tuple{ReactiveMP.FactorNodeLocalMarginal}}, ProbitMeta, ReactiveMP.FactorNodePipeline{RequireInboundFunctionalDependencies{Tuple{Int64}, Tuple{NormalMeanPrecision{Float64}}}, EmptyPipelineStage}}}}}, data::Tuple{Tuple{Message{PointMass{Float64}}, Message{NormalMeanVariance{ForwardDiff.Dual{ForwardDiff.Tag{typeof(f), Float64}, Float64, 12}}}}, Nothing})",
      "     @ Rocket ~/.julia/packages/Rocket/kCxUG/src/actor.jl:206",
      "  [25] next_received!(wrapper::Rocket.CombineLatestActorWrapper{Rocket.MStorage2{Tuple{AbstractMessage, AbstractMessage}, Nothing}, Rocket.DiscontinueActor{Tuple{Tuple{AbstractMessage, AbstractMessage}, Nothing}, Rocket.MapActor{Tuple{Tuple{AbstractMessage, AbstractMessage}, Nothing}, Rocket.RecentSubjectInstance{Marginal, Subject{Marginal, AsapScheduler, AsapScheduler}}, ReactiveMP.var\"#314#317\"{DataType, DataType, DataType, Nothing, ProbitMeta, FactorNode{Type{Probit}, Tuple{NodeInterface, NodeInterface}, Tuple{Tuple{Int64, Int64}}, ReactiveMP.FactorNodeLocalMarginals{Tuple{ReactiveMP.FactorNodeLocalMarginal}}, ProbitMeta, ReactiveMP.FactorNodePipeline{RequireInboundFunctionalDependencies{Tuple{Int64}, Tuple{NormalMeanPrecision{Float64}}}, EmptyPipelineStage}}}}}, PushNew, Rocket.UInt8UpdatesStatus}, data::Tuple{Message{PointMass{Float64}}, Message{NormalMeanVariance{ForwardDiff.Dual{ForwardDiff.Tag{typeof(f), Float64}, Float64, 12}}}}, index::Val{1})",
      "     @ Rocket ~/.julia/packages/Rocket/kCxUG/src/observable/combined.jl:98",
      "  [26] on_next!",
      "     @ ~/.julia/packages/Rocket/kCxUG/src/observable/combined.jl:65 [inlined]",
      "--- the last 3 lines are repeated 1 more time ---",
      "  [30] next!(actor::Rocket.CombineLatestInnerActor{AbstractMessage, Rocket.CombineLatestActorWrapper{Rocket.MStorage2{AbstractMessage, AbstractMessage}, Rocket.CombineLatestInnerActor{Tuple{AbstractMessage, AbstractMessage}, Rocket.CombineLatestActorWrapper{Rocket.MStorage2{Tuple{AbstractMessage, AbstractMessage}, Nothing}, Rocket.DiscontinueActor{Tuple{Tuple{AbstractMessage, AbstractMessage}, Nothing}, Rocket.MapActor{Tuple{Tuple{AbstractMessage, AbstractMessage}, Nothing}, Rocket.RecentSubjectInstance{Marginal, Subject{Marginal, AsapScheduler, AsapScheduler}}, ReactiveMP.var\"#314#317\"{DataType, DataType, DataType, Nothing, ProbitMeta, FactorNode{Type{Probit}, Tuple{NodeInterface, NodeInterface}, Tuple{Tuple{Int64, Int64}}, ReactiveMP.FactorNodeLocalMarginals{Tuple{ReactiveMP.FactorNodeLocalMarginal}}, ProbitMeta, ReactiveMP.FactorNodePipeline{RequireInboundFunctionalDependencies{Tuple{Int64}, Tuple{NormalMeanPrecision{Float64}}}, EmptyPipelineStage}}}}}, PushNew, Rocket.UInt8UpdatesStatus}, 1}, PushNew, Rocket.UInt8UpdatesStatus}, 2}, data::Message{NormalMeanVariance{ForwardDiff.Dual{ForwardDiff.Tag{typeof(f), Float64}, Float64, 12}}})",
      "     @ Rocket ~/.julia/packages/Rocket/kCxUG/src/actor.jl:206",
      "  [31] next_received!(wrapper::Rocket.CollectLatestObservableWrapper{AbstractMessage, Rocket.CombineLatestInnerActor{AbstractMessage, Rocket.CombineLatestActorWrapper{Rocket.MStorage2{AbstractMessage, AbstractMessage}, Rocket.CombineLatestInnerActor{Tuple{AbstractMessage, AbstractMessage}, Rocket.CombineLatestActorWrapper{Rocket.MStorage2{Tuple{AbstractMessage, AbstractMessage}, Nothing}, Rocket.DiscontinueActor{Tuple{Tuple{AbstractMessage, AbstractMessage}, Nothing}, Rocket.MapActor{Tuple{Tuple{AbstractMessage, AbstractMessage}, Nothing}, Rocket.RecentSubjectInstance{Marginal, Subject{Marginal, AsapScheduler, AsapScheduler}}, ReactiveMP.var\"#314#317\"{DataType, DataType, DataType, Nothing, ProbitMeta, FactorNode{Type{Probit}, Tuple{NodeInterface, NodeInterface}, Tuple{Tuple{Int64, Int64}}, ReactiveMP.FactorNodeLocalMarginals{Tuple{ReactiveMP.FactorNodeLocalMarginal}}, ProbitMeta, ReactiveMP.FactorNodePipeline{RequireInboundFunctionalDependencies{Tuple{Int64}, Tuple{NormalMeanPrecision{Float64}}}, EmptyPipelineStage}}}}}, PushNew, Rocket.UInt8UpdatesStatus}, 1}, PushNew, Rocket.UInt8UpdatesStatus}, 2}, Vector{AbstractMessage}, BitVector, Vector{Teardown}, ReactiveMP.var\"#19#21\"{ProdAnalytical, UnspecifiedFormConstraint}}, data::Message{NormalMeanVariance{ForwardDiff.Dual{ForwardDiff.Tag{typeof(f), Float64}, Float64, 12}}}, index::CartesianIndex{1})",
      "     @ Rocket ~/.julia/packages/Rocket/kCxUG/src/observable/collected.jl:95",
      "  [32] on_next!",
      "     @ ~/.julia/packages/Rocket/kCxUG/src/observable/collected.jl:85 [inlined]",
      "  [33] scheduled_next!(actor::Rocket.CollectLatestObservableInnerActor{AbstractMessage, CartesianIndex{1}, Rocket.CollectLatestObservableWrapper{AbstractMessage, Rocket.CombineLatestInnerActor{AbstractMessage, Rocket.CombineLatestActorWrapper{Rocket.MStorage2{AbstractMessage, AbstractMessage}, Rocket.CombineLatestInnerActor{Tuple{AbstractMessage, AbstractMessage}, Rocket.CombineLatestActorWrapper{Rocket.MStorage2{Tuple{AbstractMessage, AbstractMessage}, Nothing}, Rocket.DiscontinueActor{Tuple{Tuple{AbstractMessage, AbstractMessage}, Nothing}, Rocket.MapActor{Tuple{Tuple{AbstractMessage, AbstractMessage}, Nothing}, Rocket.RecentSubjectInstance{Marginal, Subject{Marginal, AsapScheduler, AsapScheduler}}, ReactiveMP.var\"#314#317\"{DataType, DataType, DataType, Nothing, ProbitMeta, FactorNode{Type{Probit}, Tuple{NodeInterface, NodeInterface}, Tuple{Tuple{Int64, Int64}}, ReactiveMP.FactorNodeLocalMarginals{Tuple{ReactiveMP.FactorNodeLocalMarginal}}, ProbitMeta, ReactiveMP.FactorNodePipeline{RequireInboundFunctionalDependencies{Tuple{Int64}, Tuple{NormalMeanPrecision{Float64}}}, EmptyPipelineStage}}}}}, PushNew, Rocket.UInt8UpdatesStatus}, 1}, PushNew, Rocket.UInt8UpdatesStatus}, 2}, Vector{AbstractMessage}, BitVector, Vector{Teardown}, ReactiveMP.var\"#19#21\"{ProdAnalytical, UnspecifiedFormConstraint}}}, value::Message{NormalMeanVariance{ForwardDiff.Dual{ForwardDiff.Tag{typeof(f), Float64}, Float64, 12}}}, #unused#::AsapScheduler)",
      "     @ Rocket ~/.julia/packages/Rocket/kCxUG/src/schedulers/asap.jl:23",
      "  [34] on_next!(subject::Subject{AbstractMessage, AsapScheduler, AsapScheduler}, data::Message{NormalMeanVariance{ForwardDiff.Dual{ForwardDiff.Tag{typeof(f), Float64}, Float64, 12}}})",
      "     @ Rocket ~/.julia/packages/Rocket/kCxUG/src/subjects/subject.jl:62",
      "  [35] actor_on_next!",
      "     @ ~/.julia/packages/Rocket/kCxUG/src/actor.jl:250 [inlined]",
      "  [36] next!",
      "     @ ~/.julia/packages/Rocket/kCxUG/src/actor.jl:202 [inlined]",
      "  [37] on_next!",
      "     @ ~/.julia/packages/Rocket/kCxUG/src/subjects/recent.jl:62 [inlined]",
      "  [38] actor_on_next!",
      "     @ ~/.julia/packages/Rocket/kCxUG/src/actor.jl:250 [inlined]",
      "  [39] next!",
      "     @ ~/.julia/packages/Rocket/kCxUG/src/actor.jl:202 [inlined]",
      "  [40] on_next!",
      "     @ ~/.julia/packages/Rocket/kCxUG/src/operators/map.jl:60 [inlined]",
      "--- the last 17 lines are repeated 2 more times ---",
      "  [75] next!(actor::Rocket.MapActor{Tuple{Tuple{AbstractMessage, AbstractMessage}, Nothing}, Rocket.RecentSubjectInstance{AbstractMessage, Subject{AbstractMessage, AsapScheduler, AsapScheduler}}, ReactiveMP.MessageMapping{MvNormalMeanPrecision, Nothing, DataType, Marginalisation, DataType, Nothing, Nothing, FactorNode{Type{MvNormalMeanPrecision}, Tuple{NodeInterface, NodeInterface, NodeInterface}, Tuple{Tuple{Int64, Int64, Int64}}, ReactiveMP.FactorNodeLocalMarginals{Tuple{ReactiveMP.FactorNodeLocalMarginal}}, Nothing, ReactiveMP.FactorNodePipeline{DefaultFunctionalDependencies, EmptyPipelineStage}}}}, data::Tuple{Tuple{Message{PointMass{Vector{Float64}}}, Message{PointMass{Matrix{Float64}}}}, Nothing})",
      "     @ Rocket ~/.julia/packages/Rocket/kCxUG/src/actor.jl:206",
      "  [76] next_received!(wrapper::Rocket.CombineLatestActorWrapper{Rocket.MStorage2{Tuple{AbstractMessage, AbstractMessage}, Nothing}, Rocket.MapActor{Tuple{Tuple{AbstractMessage, AbstractMessage}, Nothing}, Rocket.RecentSubjectInstance{AbstractMessage, Subject{AbstractMessage, AsapScheduler, AsapScheduler}}, ReactiveMP.MessageMapping{MvNormalMeanPrecision, Nothing, DataType, Marginalisation, DataType, Nothing, Nothing, FactorNode{Type{MvNormalMeanPrecision}, Tuple{NodeInterface, NodeInterface, NodeInterface}, Tuple{Tuple{Int64, Int64, Int64}}, ReactiveMP.FactorNodeLocalMarginals{Tuple{ReactiveMP.FactorNodeLocalMarginal}}, Nothing, ReactiveMP.FactorNodePipeline{DefaultFunctionalDependencies, EmptyPipelineStage}}}}, PushNew, Rocket.UInt8UpdatesStatus}, data::Tuple{Message{PointMass{Vector{Float64}}}, Message{PointMass{Matrix{Float64}}}}, index::Val{1})",
      "     @ Rocket ~/.julia/packages/Rocket/kCxUG/src/observable/combined.jl:98",
      "  [77] on_next!",
      "     @ ~/.julia/packages/Rocket/kCxUG/src/observable/combined.jl:65 [inlined]",
      "--- the last 3 lines are repeated 1 more time ---",
      "  [81] scheduled_next!(actor::Rocket.CombineLatestInnerActor{AbstractMessage, Rocket.CombineLatestActorWrapper{Rocket.MStorage2{AbstractMessage, AbstractMessage}, Rocket.CombineLatestInnerActor{Tuple{AbstractMessage, AbstractMessage}, Rocket.CombineLatestActorWrapper{Rocket.MStorage2{Tuple{AbstractMessage, AbstractMessage}, Nothing}, Rocket.MapActor{Tuple{Tuple{AbstractMessage, AbstractMessage}, Nothing}, Rocket.RecentSubjectInstance{AbstractMessage, Subject{AbstractMessage, AsapScheduler, AsapScheduler}}, ReactiveMP.MessageMapping{MvNormalMeanPrecision, Nothing, DataType, Marginalisation, DataType, Nothing, Nothing, FactorNode{Type{MvNormalMeanPrecision}, Tuple{NodeInterface, NodeInterface, NodeInterface}, Tuple{Tuple{Int64, Int64, Int64}}, ReactiveMP.FactorNodeLocalMarginals{Tuple{ReactiveMP.FactorNodeLocalMarginal}}, Nothing, ReactiveMP.FactorNodePipeline{DefaultFunctionalDependencies, EmptyPipelineStage}}}}, PushNew, Rocket.UInt8UpdatesStatus}, 1}, PushNew, Rocket.UInt8UpdatesStatus}, 1}, value::Message{PointMass{Vector{Float64}}}, #unused#::AsapScheduler)",
      "     @ Rocket ~/.julia/packages/Rocket/kCxUG/src/schedulers/asap.jl:23",
      "  [82] on_next!(subject::Subject{Union{Message{Missing}, Message{PointMass{Vector{Float64}}}}, AsapScheduler, AsapScheduler}, data::Message{PointMass{Vector{Float64}}})",
      "     @ Rocket ~/.julia/packages/Rocket/kCxUG/src/subjects/subject.jl:62",
      "  [83] actor_on_next!",
      "     @ ~/.julia/packages/Rocket/kCxUG/src/actor.jl:250 [inlined]",
      "  [84] next!",
      "     @ ~/.julia/packages/Rocket/kCxUG/src/actor.jl:202 [inlined]",
      "  [85] on_next!",
      "     @ ~/.julia/packages/Rocket/kCxUG/src/subjects/recent.jl:62 [inlined]",
      "  [86] actor_on_next!",
      "     @ ~/.julia/packages/Rocket/kCxUG/src/actor.jl:250 [inlined]",
      "  [87] next!",
      "     @ ~/.julia/packages/Rocket/kCxUG/src/actor.jl:202 [inlined]",
      "  [88] update!",
      "     @ ~/.julia/dev/ReactiveMP/src/variables/data.jl:39 [inlined]",
      "  [89] #126",
      "     @ ~/.julia/dev/ReactiveMP/src/variables/data.jl:47 [inlined]",
      "  [90] foreach(f::ReactiveMP.var\"#126#127\", itr::Base.Iterators.Zip{Tuple{Vector{DataVariable{PointMass{Vector{Float64}}, Rocket.RecentSubjectInstance{Union{Message{Missing}, Message{PointMass{Vector{Float64}}}}, Subject{Union{Message{Missing}, Message{PointMass{Vector{Float64}}}}, AsapScheduler, AsapScheduler}}}}, Vector{Vector{Float64}}}})",
      "     @ Base ./abstractarray.jl:2141",
      "  [91] update!",
      "     @ ~/.julia/dev/ReactiveMP/src/variables/data.jl:46 [inlined]",
      "  [92] inference_flow_classifier(data_y::Vector{Float64}, data_x::Vector{Vector{Float64}}, params::Vector{ForwardDiff.Dual{ForwardDiff.Tag{typeof(f), Float64}, Float64, 12}})",
      "     @ Main ~/Documents/Julia/AIDA/agent/agent_Bart/flow_agent.jl:57",
      "  [93] f(params::Vector{ForwardDiff.Dual{ForwardDiff.Tag{typeof(f), Float64}, Float64, 12}})",
      "     @ Main ./In[71]:2",
      "  [94] vector_mode_dual_eval",
      "     @ ~/.julia/packages/ForwardDiff/QOqCN/src/apiutils.jl:37 [inlined]",
      "  [95] vector_mode_gradient!(result::DiffResults.MutableDiffResult{1, Float64, Tuple{Vector{Float64}}}, f::typeof(f), x::Vector{Float64}, cfg::ForwardDiff.GradientConfig{ForwardDiff.Tag{typeof(f), Float64}, Float64, 12, Vector{ForwardDiff.Dual{ForwardDiff.Tag{typeof(f), Float64}, Float64, 12}}})",
      "     @ ForwardDiff ~/.julia/packages/ForwardDiff/QOqCN/src/gradient.jl:113",
      "  [96] gradient!",
      "     @ ~/.julia/packages/ForwardDiff/QOqCN/src/gradient.jl:37 [inlined]",
      "  [97] gradient!",
      "     @ ~/.julia/packages/ForwardDiff/QOqCN/src/gradient.jl:35 [inlined]",
      "  [98] (::NLSolversBase.var\"#14#18\"{Float64, typeof(f), ForwardDiff.GradientConfig{ForwardDiff.Tag{typeof(f), Float64}, Float64, 12, Vector{ForwardDiff.Dual{ForwardDiff.Tag{typeof(f), Float64}, Float64, 12}}}})(out::Vector{Float64}, x::Vector{Float64})",
      "     @ NLSolversBase ~/.julia/packages/NLSolversBase/geyh3/src/objective_types/oncedifferentiable.jl:70",
      "  [99] value_gradient!!(obj::OnceDifferentiable{Float64, Vector{Float64}, Vector{Float64}}, x::Vector{Float64})",
      "     @ NLSolversBase ~/.julia/packages/NLSolversBase/geyh3/src/interface.jl:82",
      " [100] value_gradient!(obj::OnceDifferentiable{Float64, Vector{Float64}, Vector{Float64}}, x::Vector{Float64})",
      "     @ NLSolversBase ~/.julia/packages/NLSolversBase/geyh3/src/interface.jl:69",
      " [101] value_gradient!(obj::Optim.ManifoldObjective{OnceDifferentiable{Float64, Vector{Float64}, Vector{Float64}}}, x::Vector{Float64})",
      "     @ Optim ~/.julia/packages/Optim/uwNqi/src/Manifolds.jl:50",
      " [102] (::LineSearches.var\"#ϕdϕ#6\"{Optim.ManifoldObjective{OnceDifferentiable{Float64, Vector{Float64}, Vector{Float64}}}, Vector{Float64}, Vector{Float64}, Vector{Float64}})(α::Float64)",
      "     @ LineSearches ~/.julia/packages/LineSearches/Ki4c5/src/LineSearches.jl:84",
      " [103] (::LineSearches.HagerZhang{Float64, Base.RefValue{Bool}})(ϕ::Function, ϕdϕ::LineSearches.var\"#ϕdϕ#6\"{Optim.ManifoldObjective{OnceDifferentiable{Float64, Vector{Float64}, Vector{Float64}}}, Vector{Float64}, Vector{Float64}, Vector{Float64}}, c::Float64, phi_0::Float64, dphi_0::Float64)",
      "     @ LineSearches ~/.julia/packages/LineSearches/Ki4c5/src/hagerzhang.jl:145",
      " [104] HagerZhang",
      "     @ ~/.julia/packages/LineSearches/Ki4c5/src/hagerzhang.jl:101 [inlined]",
      " [105] perform_linesearch!(state::Optim.LBFGSState{Vector{Float64}, Vector{Vector{Float64}}, Vector{Vector{Float64}}, Float64, Vector{Float64}}, method::LBFGS{Nothing, LineSearches.InitialStatic{Float64}, LineSearches.HagerZhang{Float64, Base.RefValue{Bool}}, Optim.var\"#17#19\"}, d::Optim.ManifoldObjective{OnceDifferentiable{Float64, Vector{Float64}, Vector{Float64}}})",
      "     @ Optim ~/.julia/packages/Optim/uwNqi/src/utilities/perform_linesearch.jl:59",
      " [106] update_state!(d::OnceDifferentiable{Float64, Vector{Float64}, Vector{Float64}}, state::Optim.LBFGSState{Vector{Float64}, Vector{Vector{Float64}}, Vector{Vector{Float64}}, Float64, Vector{Float64}}, method::LBFGS{Nothing, LineSearches.InitialStatic{Float64}, LineSearches.HagerZhang{Float64, Base.RefValue{Bool}}, Optim.var\"#17#19\"})",
      "     @ Optim ~/.julia/packages/Optim/uwNqi/src/multivariate/solvers/first_order/l_bfgs.jl:204",
      " [107] optimize(d::OnceDifferentiable{Float64, Vector{Float64}, Vector{Float64}}, initial_x::Vector{Float64}, method::LBFGS{Nothing, LineSearches.InitialStatic{Float64}, LineSearches.HagerZhang{Float64, Base.RefValue{Bool}}, Optim.var\"#17#19\"}, options::Optim.Options{Float64, Nothing}, state::Optim.LBFGSState{Vector{Float64}, Vector{Vector{Float64}}, Vector{Vector{Float64}}, Float64, Vector{Float64}})",
      "     @ Optim ~/.julia/packages/Optim/uwNqi/src/multivariate/optimize/optimize.jl:57",
      " [108] optimize",
      "     @ ~/.julia/packages/Optim/uwNqi/src/multivariate/optimize/optimize.jl:35 [inlined]",
      " [109] #optimize#87",
      "     @ ~/.julia/packages/Optim/uwNqi/src/multivariate/optimize/interface.jl:142 [inlined]",
      " [110] top-level scope",
      "     @ In[76]:3",
      " [111] eval",
      "     @ ./boot.jl:360 [inlined]"
     ]
    }
   ],
   "source": [
    "using Optim\n",
    "\n",
    "res = optimize(f, randn(12), LBFGS(), Optim.Options(store_trace = true, show_trace = true), autodiff=:forward)"
   ]
  },
  {
   "cell_type": "code",
   "execution_count": null,
   "id": "emerging-unemployment",
   "metadata": {},
   "outputs": [],
   "source": [
    "# sampling based agent. \n",
    "include(\"agent/agent_Albert/agent_sampling.jl\");"
   ]
  },
  {
   "cell_type": "code",
   "execution_count": 22,
   "id": "professional-hygiene",
   "metadata": {},
   "outputs": [
    {
     "data": {
      "text/plain": [
       "learning (generic function with 2 methods)"
      ]
     },
     "execution_count": 22,
     "metadata": {},
     "output_type": "execute_result"
    }
   ],
   "source": [
    "# Returns paramaters of a neural netwrok that provides the highest log posterior.\n",
    "function learning(gains, contexts, appraisals, N=1000; g_jitter=1e-4)\n",
    "    # adding jitter to gains might be useful when dealing with small number of observations\n",
    "    gains = [g .+ sqrt(g_jitter)*randn(length(g)) for g in gains]\n",
    "    inputs = [vcat(g, c) for (g, c) in zip(gains, contexts)]\n",
    "    ch = Turing.sample(prefernce_learning(hcat(inputs...), appraisals, 1.0), Turing.HMC(0.05, 10), N);\n",
    "    # Extract all weight and bias parameters.\n",
    "    theta = Turing.MCMCChains.group(ch, :nn_params).value;\n",
    "    # Find the index that provided the highest log posterior in the chain.\n",
    "    _, i = findmax(ch[:lp])\n",
    "    i = i.I[1]\n",
    "    θ = Float64.(theta[i, :])\n",
    "end"
   ]
  },
  {
   "cell_type": "code",
   "execution_count": 32,
   "id": "experimental-recommendation",
   "metadata": {},
   "outputs": [
    {
     "name": "stderr",
     "output_type": "stream",
     "text": [
      "\u001b[32mSampling: 100%|█████████████████████████████████████████| Time: 0:00:00\u001b[39m\n"
     ]
    }
   ],
   "source": [
    "nn_params = learning(gains, contexts, appraisals);"
   ]
  },
  {
   "cell_type": "code",
   "execution_count": 33,
   "id": "hispanic-timeline",
   "metadata": {},
   "outputs": [
    {
     "name": "stderr",
     "output_type": "stream",
     "text": [
      "\u001b[32mSampling: 100%|█████████████████████████████████████████| Time: 0:00:00\u001b[39m\n"
     ]
    }
   ],
   "source": [
    "# Alternative (in case you don't want to use learning function)\n",
    "gains₊ = [g .+ sqrt(1e-4)*randn(length(g)) for g in gains]\n",
    "inputs = [vcat(g, c) for (g, c) in zip(gains, contexts)]\n",
    "ch = Turing.sample(prefernce_learning(hcat(inputs...), appraisals, 1.0), Turing.HMC(0.05, 10), 1000);"
   ]
  },
  {
   "cell_type": "code",
   "execution_count": null,
   "id": "square-chile",
   "metadata": {},
   "outputs": [],
   "source": [
    "sumstats = Turing.summarize(ch, Turing.mean, Turing.std)\n",
    "mθ, vθ   = sumstats.nt.mean, sumstats.nt.std;"
   ]
  },
  {
   "cell_type": "code",
   "execution_count": 27,
   "id": "social-profile",
   "metadata": {},
   "outputs": [],
   "source": [
    "theta = Turing.MCMCChains.group(ch, :nn_params).value;\n",
    "# Find the index that provided the highest log posterior in the chain.\n",
    "_, i = findmax(ch[:lp])\n",
    "i = i.I[1]\n",
    "θ = theta[i, :];"
   ]
  },
  {
   "cell_type": "code",
   "execution_count": 28,
   "id": "dimensional-smile",
   "metadata": {},
   "outputs": [],
   "source": [
    "predictions = []\n",
    "for n in 1:length(appraisals)\n",
    "    push!(predictions, nn_forward(inputs[n], θ))\n",
    "end"
   ]
  },
  {
   "cell_type": "code",
   "execution_count": 33,
   "id": "tested-surrey",
   "metadata": {},
   "outputs": [
    {
     "data": {
      "text/plain": [
       "7.0"
      ]
     },
     "execution_count": 33,
     "metadata": {},
     "output_type": "execute_result"
    }
   ],
   "source": [
    "# Check for errors on training set\n",
    "appraisals_ = [rand(Distributions.Bernoulli(p[1])) for p in predictions]\n",
    "err = sum(abs.(appraisals .- appraisals_))"
   ]
  },
  {
   "cell_type": "markdown",
   "id": "aquatic-karaoke",
   "metadata": {},
   "source": [
    "## Planning\n",
    "Few things must be said about the planning stage. \n",
    "First of all, the idea of planning is a reverse problem to prefernce learning. \n",
    "Given the parameters of neural network, the goal prior for the appraisal (1.0) and an informative prior for the future context (we have an idea of how the environment evolves), we want to infer the most suitable gains.\n",
    "The evolution of the context will be based on HMM model, where the observations are \n",
    "\n",
    "For illustration purposes, we will first run the inference algorithm to obtain **z** and **x**. Secondly, we run our agent that proposes gains."
   ]
  },
  {
   "cell_type": "code",
   "execution_count": 72,
   "id": "elegant-rescue",
   "metadata": {},
   "outputs": [
    {
     "data": {
      "text/plain": [
       "sample_gains (generic function with 2 methods)"
      ]
     },
     "execution_count": 72,
     "metadata": {},
     "output_type": "execute_result"
    },
    {
     "name": "stderr",
     "output_type": "stream",
     "text": [
      "WARNING: both Flux and Distributions export \"params\"; uses of it in module Main must be qualified\n"
     ]
    }
   ],
   "source": [
    "# infer gains\n",
    "function sample_gains(context, nn_params, N=1000)\n",
    "    ch = Turing.sample(planning(nn_params, [1.0], context), Turing.HMC(0.01, 4), N);\n",
    "    gains_context = Turing.MCMCChains.group(ch, :gs).value\n",
    "    # Find the index that provided the highest log posterior in the chain.\n",
    "    _, i = findmax(ch[:lp])\n",
    "    i = i.I[1]\n",
    "    Float64.(gains_context[i, :])\n",
    "end"
   ]
  },
  {
   "cell_type": "code",
   "execution_count": 34,
   "id": "streaming-dodge",
   "metadata": {},
   "outputs": [],
   "source": [
    "test_files = get_sounds_fn(\"sound/AIDA/test/\");"
   ]
  },
  {
   "cell_type": "code",
   "execution_count": 25,
   "id": "persistent-vehicle",
   "metadata": {},
   "outputs": [
    {
     "name": "stdout",
     "output_type": "stream",
     "text": [
      "sound/AIDA/test/sp09_train_sn0.wav\n"
     ]
    },
    {
     "name": "stderr",
     "output_type": "stream",
     "text": [
      "\u001b[32mProgress: 100%|█████████████████████████████████████████| Time: 0:04:12\u001b[39m\n"
     ]
    },
    {
     "name": "stdout",
     "output_type": "stream",
     "text": [
      "sound/AIDA/test/sp10_train_sn0.wav\n"
     ]
    },
    {
     "name": "stderr",
     "output_type": "stream",
     "text": [
      "\u001b[32mProgress: 100%|█████████████████████████████████████████| Time: 0:04:19\u001b[39m\n"
     ]
    },
    {
     "name": "stdout",
     "output_type": "stream",
     "text": [
      "sound/AIDA/test/sp11_babble_sn0.wav\n"
     ]
    },
    {
     "name": "stderr",
     "output_type": "stream",
     "text": [
      "\u001b[32mProgress: 100%|█████████████████████████████████████████| Time: 0:05:01\u001b[39m\n"
     ]
    },
    {
     "name": "stdout",
     "output_type": "stream",
     "text": [
      "sound/AIDA/test/sp12_babble_sn0.wav\n"
     ]
    },
    {
     "name": "stderr",
     "output_type": "stream",
     "text": [
      "\u001b[32mProgress: 100%|█████████████████████████████████████████| Time: 0:04:01\u001b[39m\n"
     ]
    },
    {
     "name": "stdout",
     "output_type": "stream",
     "text": [
      "sound/AIDA/test/sp13_babble_sn0.wav\n"
     ]
    },
    {
     "name": "stderr",
     "output_type": "stream",
     "text": [
      "\u001b[32mProgress: 100%|█████████████████████████████████████████| Time: 0:03:17\u001b[39m\n"
     ]
    },
    {
     "name": "stdout",
     "output_type": "stream",
     "text": [
      "sound/AIDA/test/sp14_babble_sn0.wav\n"
     ]
    },
    {
     "name": "stderr",
     "output_type": "stream",
     "text": [
      "\u001b[32mProgress: 100%|█████████████████████████████████████████| Time: 0:03:43\u001b[39m\n"
     ]
    },
    {
     "name": "stdout",
     "output_type": "stream",
     "text": [
      "sound/AIDA/test/sp15_babble_sn0.wav\n"
     ]
    },
    {
     "name": "stderr",
     "output_type": "stream",
     "text": [
      "\u001b[32mProgress: 100%|█████████████████████████████████████████| Time: 0:03:42\u001b[39m\n"
     ]
    },
    {
     "name": "stdout",
     "output_type": "stream",
     "text": [
      "sound/AIDA/test/sp16_babble_sn0.wav\n"
     ]
    },
    {
     "name": "stderr",
     "output_type": "stream",
     "text": [
      "\u001b[32mProgress: 100%|█████████████████████████████████████████| Time: 0:02:57\u001b[39m\n"
     ]
    },
    {
     "name": "stdout",
     "output_type": "stream",
     "text": [
      "sound/AIDA/test/sp17_babble_sn0.wav\n"
     ]
    },
    {
     "name": "stderr",
     "output_type": "stream",
     "text": [
      "\u001b[32mProgress: 100%|█████████████████████████████████████████| Time: 0:03:01\u001b[39m\n"
     ]
    },
    {
     "name": "stdout",
     "output_type": "stream",
     "text": [
      "sound/AIDA/test/sp18_babble_sn0.wav\n"
     ]
    },
    {
     "name": "stderr",
     "output_type": "stream",
     "text": [
      "\u001b[32mProgress: 100%|█████████████████████████████████████████| Time: 0:03:04\u001b[39m\n"
     ]
    },
    {
     "name": "stdout",
     "output_type": "stream",
     "text": [
      "sound/AIDA/test/sp19_babble_sn0.wav\n"
     ]
    },
    {
     "name": "stderr",
     "output_type": "stream",
     "text": [
      "\u001b[32mProgress: 100%|█████████████████████████████████████████| Time: 0:03:49\u001b[39m\n"
     ]
    },
    {
     "name": "stdout",
     "output_type": "stream",
     "text": [
      "sound/AIDA/test/sp20_babble_sn0.wav\n"
     ]
    },
    {
     "name": "stderr",
     "output_type": "stream",
     "text": [
      "\u001b[32mProgress: 100%|█████████████████████████████████████████| Time: 0:03:48\u001b[39m\n"
     ]
    }
   ],
   "source": [
    "# obtain HA output for test set (data for acting)\n",
    "using JLD\n",
    "# r for recovered\n",
    "for test_file in test_files\n",
    "    println(test_file)\n",
    "    speech, fs = WAV.wavread(test_file)\n",
    "    speech_seg = get_frames(speech, fs)\n",
    "    # choose priors\n",
    "    priors_eta = occursin(\"babble\", test_file) ? (bblmη_arr, bblvη_arr) : (trmη_arr, trvη_arr)\n",
    "    priors_tau = occursin(\"babble\", test_file) ? bblτ_arr : trτ_arr\n",
    "    \n",
    "    # make sure that 1D of priors and speech_seg are equal\n",
    "    if size(priors_eta, 1) != size(speech_seg, 1)\n",
    "        totseg = size(speech_seg, 1)\n",
    "        priors_eta_m, priors_eta_v, priors_tau = prior_to_priors(priors_eta[1][1, :]', priors_eta[2][1, :, :], priors_tau[1], totseg)\n",
    "        priors_eta = priors_eta_m, priors_eta_v\n",
    "    end\n",
    "    rmz, rvz, rmθ, rvθ, rγ, rmx, rvx, rmη, rvη, rτ, fe, rmo = HA_algorithm(speech_seg, priors_eta, priors_tau, 10, 2, 10);\n",
    "    \n",
    "    JLD.save(\"sound/AIDA/separated_jld/test/\"*test_file[findfirst(\"sp\", test_file)[1]:end][1:end-3]*\"jld\",\n",
    "         \"rmz\", rmz, \"rvz\", rvz, \"rmθ\", rmθ, \"rvθ\", rvθ, \"rγ\", rγ, \n",
    "         \"rmx\", rmx, \"rvx\", rvx, \"rmη\", rmη, \"rvη\", rvη, \"rτ\", rτ,\n",
    "         \"fe\", fe, \"rmo\", rmo, \"filename\", test_file,\n",
    "         \"audio\", speech)\n",
    "end"
   ]
  },
  {
   "cell_type": "code",
   "execution_count": 87,
   "id": "premium-notebook",
   "metadata": {},
   "outputs": [],
   "source": [
    "test_jlds = get_sounds_fn(\"sound/AIDA/separated_jld/test/\");"
   ]
  },
  {
   "cell_type": "code",
   "execution_count": 89,
   "id": "excited-guatemala",
   "metadata": {},
   "outputs": [],
   "source": [
    "# Here agent plans and learns\n",
    "for test_jld in test_jlds\n",
    "    d = JLD.load(test_jld)\n",
    "    rmz, rmx = d[\"rmz\"], d[\"rmx\"]\n",
    "    filename = d[\"filename\"]\n",
    "    context = occursin(\"babble\", filename) ? 1.0 : 0.0\n",
    "    rz, rx = get_signal(rmz, fs), get_signal(rmx, fs)\n",
    "    # TODO change to the output of flow_nn\n",
    "    gs = sample_gains(context, Float64.(θ))\n",
    "    ha_out = gs[1] .* rz + gs[2] .* rx\n",
    "    # TODO: we can learn here as well. If the user provides a feedback to each proposal, we can feed this information back to our learning function.\n",
    "    WAV.wavwrite(ha_out, fs, \"sound/AIDA/planning/ha_out_$(gs[1])_$(gs[2])_\"*filename[findfirst(\"sp\", filename)[1]:end])\n",
    "end"
   ]
  }
 ],
 "metadata": {
  "kernelspec": {
   "display_name": "Julia 1.6.0",
   "language": "julia",
   "name": "julia-1.6"
  },
  "language_info": {
   "file_extension": ".jl",
   "mimetype": "application/julia",
   "name": "julia",
   "version": "1.6.0"
  }
 },
 "nbformat": 4,
 "nbformat_minor": 5
}
