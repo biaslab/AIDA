{
 "cells": [
  {
   "cell_type": "markdown",
   "id": "forty-choir",
   "metadata": {},
   "source": [
    "# Active Inference Design Agent (demo)"
   ]
  },
  {
   "cell_type": "code",
   "execution_count": 1,
   "id": "directed-exposure",
   "metadata": {},
   "outputs": [],
   "source": [
    "using JLD\n",
    "using Revise\n",
    "using Rocket\n",
    "using ReactiveMP\n",
    "using GraphPPL\n",
    "using Distributions\n",
    "using LinearAlgebra\n",
    "using Random \n",
    "import ProgressMeter\n",
    "using WAV\n",
    "using Plots\n",
    "using ImageCore"
   ]
  },
  {
   "cell_type": "code",
   "execution_count": 2,
   "id": "banner-statistics",
   "metadata": {},
   "outputs": [
    {
     "data": {
      "text/plain": [
       "batch_coupled_learning (generic function with 1 method)"
      ]
     },
     "execution_count": 2,
     "metadata": {},
     "output_type": "execute_result"
    }
   ],
   "source": [
    "# include auxilary functions for data processing\n",
    "include(\"helpers/aida_segmentation.jl\")\n",
    "# include SNR quality metric\n",
    "include(\"helpers/aida_snr.jl\")\n",
    "# include SNR quality metric\n",
    "include(\"helpers/aida_ar.jl\")\n",
    "# include models and corresponding inference algos\n",
    "include(\"models_inferences.jl\")"
   ]
  },
  {
   "cell_type": "code",
   "execution_count": 3,
   "id": "portuguese-platform",
   "metadata": {},
   "outputs": [
    {
     "data": {
      "text/plain": [
       "get_sounds_fn (generic function with 1 method)"
      ]
     },
     "execution_count": 3,
     "metadata": {},
     "output_type": "execute_result"
    }
   ],
   "source": [
    "# return list of files from dir_name\n",
    "function get_sounds_fn(dir_name)\n",
    "    file_names = []\n",
    "    for (root, dirs, files) in walkdir(dir_name)\n",
    "        for file in files\n",
    "            push!(file_names, joinpath(root, file)) # path to files\n",
    "        end\n",
    "    end\n",
    "    file_names\n",
    "end"
   ]
  },
  {
   "cell_type": "code",
   "execution_count": 4,
   "id": "honey-carpet",
   "metadata": {},
   "outputs": [
    {
     "data": {
      "text/plain": [
       "8000"
      ]
     },
     "execution_count": 4,
     "metadata": {},
     "output_type": "execute_result"
    }
   ],
   "source": [
    "fs = 8000"
   ]
  },
  {
   "cell_type": "markdown",
   "id": "norwegian-despite",
   "metadata": {},
   "source": [
    "In this demo we will work with two different contexts (environemtns): babble and train noises. \n",
    "\n",
    "You can think of a user who keeps wandering around a train station: sometimes train arrives and he/she hears the train noises. When there is no train arriving to the platform, the user hears the babble from people waiting for the train.\n",
    "When someone starts talking to the user he would (maybe) prefer to damp the environmental noise and focus only on the speaker.\n",
    "\n",
    "Another possible scenario you can think of is the user who steps out of the train and goes to the bar, where people produce babble noise :D "
   ]
  },
  {
   "cell_type": "markdown",
   "id": "employed-hardware",
   "metadata": {},
   "source": [
    "## Let's obtain priors for the environment"
   ]
  },
  {
   "cell_type": "markdown",
   "id": "promotional-israel",
   "metadata": {},
   "source": [
    "To make our model identifiabile, we would like to obtain priors for the environmental noises. To do this, we use Voice-Activity-Detection (VAD) to find the silent segments (with no speech). When those frames are identified, we fit them to AR model of order 2 to learn the parameters of AR.\n",
    "\n",
    "Surely, you can obtain the priors based on different logic. (to discuss (1) it doesn't have to be AR, (2) it doesn't have to be VAD)"
   ]
  },
  {
   "cell_type": "code",
   "execution_count": 5,
   "id": "further-reunion",
   "metadata": {},
   "outputs": [
    {
     "data": {
      "text/plain": [
       "376"
      ]
     },
     "execution_count": 5,
     "metadata": {},
     "output_type": "execute_result"
    }
   ],
   "source": [
    "# Load sound from .wav\n",
    "babble, fs = wavread(\"sound/AIDA/training/babble/0dB/sp01_babble_sn0.wav\")\n",
    "# split babble into overlapping segments (default 0.01s=10ms, 0.0025=2.5ms)\n",
    "bbl_seg = get_frames(babble, fs)\n",
    "# compute number of segments\n",
    "bbl_totseg = size(bbl_seg, 1)"
   ]
  },
  {
   "cell_type": "code",
   "execution_count": 6,
   "id": "local-mississippi",
   "metadata": {},
   "outputs": [
    {
     "data": {
      "text/plain": [
       "376"
      ]
     },
     "execution_count": 6,
     "metadata": {},
     "output_type": "execute_result"
    }
   ],
   "source": [
    "train, fs = wavread(\"sound/AIDA/training/train/0dB/sp01_train_sn0.wav\")\n",
    "tr_seg = get_frames(train, fs)\n",
    "tr_totseg = size(tr_seg, 1)"
   ]
  },
  {
   "cell_type": "code",
   "execution_count": 7,
   "id": "postal-hobby",
   "metadata": {},
   "outputs": [],
   "source": [
    "# Priors for contexts were obtained through running VAD-AR block\n",
    "# prior for train noise\n",
    "trmη = [0.34546575880691316 -0.16774278649436555]\n",
    "trvη = [0.00972993440498344 -0.0027103005529199036; -0.0027103005529199036 0.004281987640515784]\n",
    "# trτ  = (41.0, 0.03644943410647206)\n",
    "trτ  = (41.0, 0.05)\n",
    "\n",
    "# prior for babble noise\n",
    "bblmη = [1.1192255902602752 -0.43086292293101314]\n",
    "bblvη = [0.007837790430663492 -0.005039080815241558; -0.005039080815241558 0.00596413119195013]\n",
    "# bblτ  = (41.0, 0.0029780512310493387);\n",
    "bblτ  = (41.0, 0.05);"
   ]
  },
  {
   "cell_type": "markdown",
   "id": "historical-triple",
   "metadata": {},
   "source": [
    "### VAD block\n",
    "You can skip this entire block if you used priors from the above cell."
   ]
  },
  {
   "cell_type": "code",
   "execution_count": 132,
   "id": "grand-clearance",
   "metadata": {},
   "outputs": [
    {
     "data": {
      "text/plain": [
       "lar_inference_ex (generic function with 1 method)"
      ]
     },
     "execution_count": 132,
     "metadata": {},
     "output_type": "execute_result"
    }
   ],
   "source": [
    "include(\"models/everything.jl\")"
   ]
  },
  {
   "cell_type": "code",
   "execution_count": 133,
   "id": "future-namibia",
   "metadata": {},
   "outputs": [
    {
     "data": {
      "text/plain": [
       "ar_ssm (generic function with 1 method)"
      ]
     },
     "execution_count": 133,
     "metadata": {},
     "output_type": "execute_result"
    }
   ],
   "source": [
    "import WAV\n",
    "include(\"helpers/aida_segmentation.jl\")\n",
    "include(\"helpers/aida_ar.jl\")"
   ]
  },
  {
   "cell_type": "code",
   "execution_count": 13,
   "id": "european-colorado",
   "metadata": {},
   "outputs": [
    {
     "data": {
      "text/plain": [
       "376"
      ]
     },
     "execution_count": 13,
     "metadata": {},
     "output_type": "execute_result"
    }
   ],
   "source": [
    "# Choose the auido signal from where you intend to extract the parameters\n",
    "# context_seg = bbl_seg\n",
    "# totseg = bbl_totseg\n",
    "context_seg = tr_seg\n",
    "totseg = tr_totseg"
   ]
  },
  {
   "cell_type": "code",
   "execution_count": 144,
   "id": "dense-monitoring",
   "metadata": {},
   "outputs": [],
   "source": [
    "ar_order = 10\n",
    "vmp_iter = 50\n",
    "fe_ar = zeros(totseg, vmp_iter)\n",
    "fe_gaussian = zeros(totseg, vmp_iter);"
   ]
  },
  {
   "cell_type": "code",
   "execution_count": 145,
   "id": "considered-magnet",
   "metadata": {},
   "outputs": [
    {
     "name": "stderr",
     "output_type": "stream",
     "text": [
      "\u001b[32mProgress: 100%|█████████████████████████████████████████| Time: 0:10:28\u001b[39m\n"
     ]
    }
   ],
   "source": [
    "ProgressMeter.@showprogress for segnum in 1:totseg\n",
    "    inputs, outputs = ar_ssm(context_seg[segnum, :], ar_order)\n",
    "    γ, τ, θ, x, fe = lar_inference_ex(outputs, ar_order, vmp_iter)\n",
    "    mθ, vθ = mean(θ), cov(θ)\n",
    "    mγ = mean(γ)\n",
    "    fe_ar[segnum, :] = fe\n",
    "    \n",
    "    x, γ, fe = inference_gaussian(outputs, vmp_iter, 1e4)\n",
    "    mx, vx = mean(x), cov(x)\n",
    "    mγ = mean(γ)\n",
    "    fe_gaussian[segnum, :] = fe\n",
    "end"
   ]
  },
  {
   "cell_type": "code",
   "execution_count": 146,
   "id": "vocal-feedback",
   "metadata": {},
   "outputs": [],
   "source": [
    "# detect silent frames based on model comparison\n",
    "vad = [x[end] < y[end] for (x, y) in zip(eachrow(fe_ar), eachrow(fe_gaussian))];"
   ]
  },
  {
   "cell_type": "code",
   "execution_count": 147,
   "id": "insured-persian",
   "metadata": {},
   "outputs": [],
   "source": [
    "rsegs = findall(isequal(1), vad)\n",
    "nsegs = findall(isequal(0), vad);"
   ]
  },
  {
   "cell_type": "code",
   "execution_count": 148,
   "id": "functional-recruitment",
   "metadata": {},
   "outputs": [
    {
     "data": {
      "text/plain": [
       "15.743337043226559"
      ]
     },
     "execution_count": 148,
     "metadata": {},
     "output_type": "execute_result"
    }
   ],
   "source": [
    "inv(var(sum([context_seg[nseg, :] for nseg in nsegs])))"
   ]
  },
  {
   "cell_type": "code",
   "execution_count": 149,
   "id": "downtown-weight",
   "metadata": {},
   "outputs": [
    {
     "name": "stderr",
     "output_type": "stream",
     "text": [
      "\u001b[32mProgress: 100%|█████████████████████████████████████████| Time: 0:00:08\u001b[39m\n"
     ]
    }
   ],
   "source": [
    "cmx, cvx, cmη, cvη, cτ = lar_batch_learning(hcat([context_seg[nseg, :] for nseg in nsegs]...)', 2, 10, 1e-12);"
   ]
  },
  {
   "cell_type": "code",
   "execution_count": 152,
   "id": "golden-armenia",
   "metadata": {},
   "outputs": [
    {
     "name": "stdout",
     "output_type": "stream",
     "text": [
      "[0.34546575880691316 -0.16774278649436555], [0.009534157580617082 -0.0023172071341109046; -0.0023172071341109046 0.004737992984855385], , (41.0, 0.005006868523501751)\n"
     ]
    }
   ],
   "source": [
    "println(\"$(mean(cmη, dims=1)), $(mean(cvη, dims=1)[1, :, :]), , $((cτ[end][1], cτ[end][2]))\")"
   ]
  },
  {
   "cell_type": "code",
   "execution_count": 141,
   "id": "understood-clause",
   "metadata": {},
   "outputs": [],
   "source": [
    "# prior for babble noise\n",
    "bblmη = mean(cmη, dims=1)\n",
    "bblvη = mean(cvη, dims=1)[1, :, :]\n",
    "bblτ  = (cτ[end][1], cτ[end][2]);"
   ]
  },
  {
   "cell_type": "code",
   "execution_count": 151,
   "id": "precise-rwanda",
   "metadata": {},
   "outputs": [
    {
     "data": {
      "text/plain": [
       "(41.0, 0.005006868523501751)"
      ]
     },
     "execution_count": 151,
     "metadata": {},
     "output_type": "execute_result"
    }
   ],
   "source": [
    "# Priors for contexts were obtained through running VAD block\n",
    "trmη = mean(cmη, dims=1)\n",
    "trvη = mean(cvη, dims=1)[1, :, :]\n",
    "trτ  = (cτ[end][1], cτ[end][2])"
   ]
  },
  {
   "cell_type": "markdown",
   "id": "metric-barrier",
   "metadata": {},
   "source": [
    "## Source seperation\n",
    "When priors for the contexts are indentified, we can run noise reduction algorithm based on coupled AR: AR_speech + AR_envrionment = output. This algorithm seperates speech (**z**) and noise (**x**)\n",
    "\n",
    "We will split our dataset into training and test set. We use signals from training set to learn the mapping function between the gains proposed by agent and aprraisals provided by user. Bare in mind that this split is not necessary and in theory we can get along without it."
   ]
  },
  {
   "cell_type": "code",
   "execution_count": 39,
   "id": "pointed-anniversary",
   "metadata": {},
   "outputs": [
    {
     "data": {
      "text/plain": [
       "prior_to_priors (generic function with 1 method)"
      ]
     },
     "execution_count": 39,
     "metadata": {},
     "output_type": "execute_result"
    }
   ],
   "source": [
    "# coupled AR model is deisgned to work with time-varying priors for both speech and environmental noise\n",
    "# prior_to_priors map \"static\" priors to the corresponding matrices with equal elements\n",
    "function prior_to_priors(mη, vη, τ, totseg)\n",
    "    ar_order = size(mη, 2)\n",
    "    rmη = zeros(totseg, ar_order)\n",
    "    rvη = zeros(totseg, ar_order, ar_order)\n",
    "    for segnum in 1:totseg\n",
    "        rmη[segnum, :], rvη[segnum, :, :] = reshape(mη, (ar_order,)), vη\n",
    "    end\n",
    "    priors_eta = rmη, rvη\n",
    "    priors_tau = [τ for _ in 1:totseg]\n",
    "    priors_eta[1], priors_eta[2], priors_tau\n",
    "end"
   ]
  },
  {
   "cell_type": "code",
   "execution_count": 40,
   "id": "boolean-brunswick",
   "metadata": {},
   "outputs": [],
   "source": [
    "trmη_arr, trvη_arr, trτ_arr = prior_to_priors(trmη, trvη, trτ, tr_totseg)\n",
    "bblmη_arr, bblvη_arr, bblτ_arr = prior_to_priors(bblmη, bblvη, bblτ, bbl_totseg);"
   ]
  },
  {
   "cell_type": "code",
   "execution_count": 42,
   "id": "italian-degree",
   "metadata": {},
   "outputs": [
    {
     "data": {
      "text/plain": [
       "HA_algorithm (generic function with 1 method)"
      ]
     },
     "execution_count": 42,
     "metadata": {},
     "output_type": "execute_result"
    }
   ],
   "source": [
    "function HA_algorithm(segments, priors_η, priors_τ, ar_1_order, ar_2_order, vmp_its)\n",
    "    \"\"\"Source seperation based on coupled AR model. Inference is performed in batch manner\n",
    "\n",
    "       segments: segmented audio signal\n",
    "       priors_η:   matrix of means and covariances of AR coefficients (see output formal of prior_to_priors\n",
    "       priors_τ:   array of tupes contatining the prior of environmental noise precision\n",
    "       ar_1_order: order of speech signal\n",
    "       ar_2_order: order of environmental noise signal\n",
    "       vmp_its:    number of variational iterations\n",
    "    \"\"\"\n",
    "    n_sources = 2\n",
    "    totseg = size(segments, 1)\n",
    "    l      = size(segments, 2) # dimensionality of the buffer\n",
    "    \n",
    "    rmx = zeros(totseg, l)\n",
    "    rvx = zeros(totseg, l)\n",
    "    rmθ = zeros(totseg, ar_1_order)\n",
    "    rvθ = zeros(totseg, ar_1_order, ar_1_order)\n",
    "    rγ = fill(tuple(.0, .0), totseg)\n",
    "    \n",
    "    rmz = zeros(totseg, l)\n",
    "    rvz = zeros(totseg, l)\n",
    "    rmη = zeros(totseg, ar_2_order)\n",
    "    rvη = zeros(totseg, ar_2_order, ar_2_order)\n",
    "    rτ = fill(tuple(.0, .0), totseg)\n",
    "    \n",
    "    fe  = zeros(totseg, vmp_its)\n",
    "    \n",
    "    rmo = zeros(totseg, l)\n",
    "    \n",
    "    # agent proposes gains according to its beliefs\n",
    "    ProgressMeter.@showprogress for segnum in 1:totseg\n",
    "        prior_η                           = (priors_η[1][segnum, :], priors_η[2][segnum, :, :])\n",
    "        prior_τ                           = priors_τ[segnum]\n",
    "        γ, θ, zs, τ, η, xs, fe[segnum, :] = coupled_inference(segments[segnum, :], prior_η, prior_τ, ar_1_order, ar_2_order, vmp_its)\n",
    "        mz, vz                            = mean.(zs), cov.(zs)\n",
    "        mθ, vθ                            = mean(θ), cov(θ)\n",
    "        rmz[segnum, :], rvz[segnum, :]    = first.(mz), first.(vz)\n",
    "        rmθ[segnum, :], rvθ[segnum, :, :] = mθ, vθ\n",
    "        rγ[segnum]                        = shape(γ), rate(γ)\n",
    "        \n",
    "        mx, vx                            = mean.(xs), cov.(xs)\n",
    "        mη, vη                            = mean(η), cov(η)\n",
    "        rmx[segnum, :], rvx[segnum, :]    = first.(mx), first.(vx)\n",
    "        rmη[segnum, :], rvη[segnum, :, :] = mη, vη\n",
    "        rτ[segnum]                        = shape(τ), rate(τ)\n",
    "        \n",
    "        # HA part\n",
    "        speech = rmz[segnum, :]\n",
    "        noise  = rmx[segnum, :]\n",
    "        rmo[segnum, :] = speech .+ noise\n",
    "    end\n",
    "    rmz, rvz, rmθ, rvθ, rγ, rmx, rvx, rmη, rvη, rτ, fe, rmo\n",
    "end"
   ]
  },
  {
   "cell_type": "markdown",
   "id": "swiss-soldier",
   "metadata": {},
   "source": [
    "#### Obtain the outputs from HA"
   ]
  },
  {
   "cell_type": "code",
   "execution_count": 16,
   "id": "divine-december",
   "metadata": {},
   "outputs": [
    {
     "data": {
      "text/plain": [
       "89-element Vector{Any}:\n",
       " \"sound/AIDA/training/.DS_Store\"\n",
       " \"sound/AIDA/training/babble/.DS_Store\"\n",
       " \"sound/AIDA/training/babble/0dB/.DS_Store\"\n",
       " \"sound/AIDA/training/babble/0dB/sp01_babble_sn0.wav\"\n",
       " \"sound/AIDA/training/babble/0dB/sp02_babble_sn0.wav\"\n",
       " \"sound/AIDA/training/babble/0dB/sp03_babble_sn0.wav\"\n",
       " \"sound/AIDA/training/babble/0dB/sp04_babble_sn0.wav\"\n",
       " \"sound/AIDA/training/babble/0dB/sp05_babble_sn0.wav\"\n",
       " \"sound/AIDA/training/babble/0dB/sp06_babble_sn0.wav\"\n",
       " \"sound/AIDA/training/babble/0dB/sp07_babble_sn0.wav\"\n",
       " \"sound/AIDA/training/babble/0dB/sp08_babble_sn0.wav\"\n",
       " \"sound/AIDA/training/babble/0dB/sp09_babble_sn0.wav\"\n",
       " \"sound/AIDA/training/babble/0dB/sp10_babble_sn0.wav\"\n",
       " ⋮\n",
       " \"sound/AIDA/training/train/0dB/sp09_train_sn0.wav\"\n",
       " \"sound/AIDA/training/train/0dB/sp10_train_sn0.wav\"\n",
       " \"sound/AIDA/training/train/0dB/sp11_train_sn0.wav\"\n",
       " \"sound/AIDA/training/train/0dB/sp12_train_sn0.wav\"\n",
       " \"sound/AIDA/training/train/0dB/sp13_train_sn0.wav\"\n",
       " \"sound/AIDA/training/train/0dB/sp14_train_sn0.wav\"\n",
       " \"sound/AIDA/training/train/0dB/sp15_train_sn0.wav\"\n",
       " \"sound/AIDA/training/train/0dB/sp16_train_sn0.wav\"\n",
       " \"sound/AIDA/training/train/0dB/sp17_train_sn0.wav\"\n",
       " \"sound/AIDA/training/train/0dB/sp18_train_sn0.wav\"\n",
       " \"sound/AIDA/training/train/0dB/sp19_train_sn0.wav\"\n",
       " \"sound/AIDA/training/train/0dB/sp20_train_sn0.wav\""
      ]
     },
     "execution_count": 16,
     "metadata": {},
     "output_type": "execute_result"
    }
   ],
   "source": [
    "training_files = get_sounds_fn(\"sound/AIDA/training\")"
   ]
  },
  {
   "cell_type": "code",
   "execution_count": 17,
   "id": "external-humor",
   "metadata": {},
   "outputs": [
    {
     "name": "stdout",
     "output_type": "stream",
     "text": [
      "sound/AIDA/training/babble/0dB/sp05_babble_sn0.wav\n"
     ]
    },
    {
     "data": {
      "text/plain": [
       "294×80 Matrix{Float64}:\n",
       " -0.0101016   -0.0143132   -0.0397656    …   0.00061037  -0.0360118\n",
       "  0.0959502    0.102451     0.0734275       -0.132481    -0.096408\n",
       " -0.0475784   -0.0173345   -0.0341197        0.00979644   0.017304\n",
       " -0.0299387   -0.0424512   -0.0852382        0.0191046    0.0619221\n",
       " -0.00543229  -0.0138249    0.0266427        0.0713218    0.0814844\n",
       "  0.0159612    0.0746178    0.0951567    …   0.0327769    0.0158696\n",
       " -0.123508    -0.0682394   -0.0294809       -0.0438246   -0.0236824\n",
       " -0.113529    -0.11359     -0.0176092       -0.0545671   -0.0472121\n",
       " -0.0150761   -0.0573138   -0.0483413        0.0200812    0.023072\n",
       "  0.00305185  -0.00897244  -0.037141         0.0422071    0.00637837\n",
       "  0.112766     0.0451064   -0.0314646    …   0.00613422  -0.0160833\n",
       " -0.037843    -0.00888089   0.00585955      -0.0687887   -0.13831\n",
       " -0.0147099   -0.00366222  -0.00299081       0.0211188   -0.0129398\n",
       "  ⋮                                      ⋱               \n",
       " -0.0194708   -0.042787    -0.0336314       -0.0878933    0.0401624\n",
       "  0.067629     0.0655843    0.0366222        0.058565     0.0552995\n",
       " -0.0913419   -0.046968     0.0317392        0.0103153   -0.0137638\n",
       " -0.0725425   -0.0450758   -0.000305185  …  -0.0285348   -0.0578936\n",
       " -0.0176397    0.017304     0.123325         0.0674154    0.0620746\n",
       "  0.0460524    0.0390027    0.0194403        0.0846889    0.0543229\n",
       "  0.0837123    0.143895     0.115726        -0.0175787   -0.0802942\n",
       " -0.00570696  -0.0339976   -0.0308847       -0.0219123   -0.0514542\n",
       " -0.0317392   -0.064272    -0.0553301    …  -0.0624409    0.0660726\n",
       "  0.00454726   0.0267953    0.0021363        0.110019     0.0631733\n",
       "  0.0765099    0.0745872    0.0749229       -0.0473037   -0.0616169\n",
       "  0.00375378  -0.00933866  -0.00183111       0.0          0.0"
      ]
     },
     "execution_count": 17,
     "metadata": {},
     "output_type": "execute_result"
    }
   ],
   "source": [
    "# Check for how the data is organized\n",
    "training_file = training_files[8]\n",
    "println(training_file)\n",
    "speech, fs = WAV.wavread(training_file)\n",
    "speech_seg = get_frames(speech, fs)"
   ]
  },
  {
   "cell_type": "markdown",
   "id": "important-playback",
   "metadata": {},
   "source": [
    "At this stage we run our inference algorithm to seperate **z** and **x**. We write the output into *.jld* files.\n",
    "\n",
    "You don't need to run this snippet if you haven't changed the default parameters of HA_algorithm and priors (just see *sound/AIDA/separated_jld/training/*)"
   ]
  },
  {
   "cell_type": "code",
   "execution_count": 19,
   "id": "given-summary",
   "metadata": {},
   "outputs": [
    {
     "name": "stdout",
     "output_type": "stream",
     "text": [
      "sound/AIDA/training/babble/0dB/sp01_babble_sn0.wav\n"
     ]
    },
    {
     "name": "stderr",
     "output_type": "stream",
     "text": [
      "\u001b[32mProgress: 100%|█████████████████████████████████████████| Time: 0:04:10\u001b[39m\n"
     ]
    },
    {
     "name": "stdout",
     "output_type": "stream",
     "text": [
      "sound/AIDA/training/babble/0dB/sp02_babble_sn0.wav\n"
     ]
    },
    {
     "name": "stderr",
     "output_type": "stream",
     "text": [
      "\u001b[32mProgress: 100%|█████████████████████████████████████████| Time: 0:03:44\u001b[39m\n"
     ]
    },
    {
     "name": "stdout",
     "output_type": "stream",
     "text": [
      "sound/AIDA/training/babble/0dB/sp03_babble_sn0.wav\n"
     ]
    },
    {
     "name": "stderr",
     "output_type": "stream",
     "text": [
      "\u001b[32mProgress: 100%|█████████████████████████████████████████| Time: 0:03:14\u001b[39m\n"
     ]
    },
    {
     "name": "stdout",
     "output_type": "stream",
     "text": [
      "sound/AIDA/training/babble/0dB/sp04_babble_sn0.wav\n"
     ]
    },
    {
     "name": "stderr",
     "output_type": "stream",
     "text": [
      "\u001b[32mProgress: 100%|█████████████████████████████████████████| Time: 0:03:01\u001b[39m\n"
     ]
    },
    {
     "name": "stdout",
     "output_type": "stream",
     "text": [
      "sound/AIDA/training/babble/0dB/sp05_babble_sn0.wav\n"
     ]
    },
    {
     "name": "stderr",
     "output_type": "stream",
     "text": [
      "\u001b[32mProgress: 100%|█████████████████████████████████████████| Time: 0:03:09\u001b[39m\n"
     ]
    },
    {
     "name": "stdout",
     "output_type": "stream",
     "text": [
      "sound/AIDA/training/babble/0dB/sp06_babble_sn0.wav\n"
     ]
    },
    {
     "name": "stderr",
     "output_type": "stream",
     "text": [
      "\u001b[32mProgress: 100%|█████████████████████████████████████████| Time: 0:03:43\u001b[39m\n"
     ]
    },
    {
     "name": "stdout",
     "output_type": "stream",
     "text": [
      "sound/AIDA/training/babble/0dB/sp07_babble_sn0.wav\n"
     ]
    },
    {
     "name": "stderr",
     "output_type": "stream",
     "text": [
      "\u001b[32mProgress: 100%|█████████████████████████████████████████| Time: 0:03:25\u001b[39m\n"
     ]
    },
    {
     "name": "stdout",
     "output_type": "stream",
     "text": [
      "sound/AIDA/training/babble/0dB/sp08_babble_sn0.wav\n"
     ]
    },
    {
     "name": "stderr",
     "output_type": "stream",
     "text": [
      "\u001b[32mProgress: 100%|█████████████████████████████████████████| Time: 0:03:53\u001b[39m\n"
     ]
    },
    {
     "name": "stdout",
     "output_type": "stream",
     "text": [
      "sound/AIDA/training/babble/0dB/sp09_babble_sn0.wav\n"
     ]
    },
    {
     "name": "stderr",
     "output_type": "stream",
     "text": [
      "\u001b[32mProgress: 100%|█████████████████████████████████████████| Time: 0:04:19\u001b[39m\n"
     ]
    },
    {
     "name": "stdout",
     "output_type": "stream",
     "text": [
      "sound/AIDA/training/babble/0dB/sp10_babble_sn0.wav\n"
     ]
    },
    {
     "name": "stderr",
     "output_type": "stream",
     "text": [
      "\u001b[32mProgress: 100%|█████████████████████████████████████████| Time: 0:04:11\u001b[39m\n"
     ]
    },
    {
     "name": "stdout",
     "output_type": "stream",
     "text": [
      "sound/AIDA/training/babble/0dB/sp11_babble_sn0.wav\n"
     ]
    },
    {
     "name": "stderr",
     "output_type": "stream",
     "text": [
      "\u001b[32mProgress: 100%|█████████████████████████████████████████| Time: 0:04:29\u001b[39m\n"
     ]
    },
    {
     "name": "stdout",
     "output_type": "stream",
     "text": [
      "sound/AIDA/training/babble/0dB/sp12_babble_sn0.wav\n"
     ]
    },
    {
     "name": "stderr",
     "output_type": "stream",
     "text": [
      "\u001b[32mProgress: 100%|█████████████████████████████████████████| Time: 0:04:12\u001b[39m\n"
     ]
    },
    {
     "name": "stdout",
     "output_type": "stream",
     "text": [
      "sound/AIDA/training/babble/0dB/sp13_babble_sn0.wav\n"
     ]
    },
    {
     "name": "stderr",
     "output_type": "stream",
     "text": [
      "\u001b[32mProgress: 100%|█████████████████████████████████████████| Time: 0:03:46\u001b[39m\n"
     ]
    },
    {
     "name": "stdout",
     "output_type": "stream",
     "text": [
      "sound/AIDA/training/babble/0dB/sp14_babble_sn0.wav\n"
     ]
    },
    {
     "name": "stderr",
     "output_type": "stream",
     "text": [
      "\u001b[32mProgress: 100%|█████████████████████████████████████████| Time: 0:04:36\u001b[39m\n"
     ]
    },
    {
     "name": "stdout",
     "output_type": "stream",
     "text": [
      "sound/AIDA/training/babble/0dB/sp15_babble_sn0.wav\n"
     ]
    },
    {
     "name": "stderr",
     "output_type": "stream",
     "text": [
      "\u001b[32mProgress: 100%|█████████████████████████████████████████| Time: 0:04:36\u001b[39m\n"
     ]
    },
    {
     "name": "stdout",
     "output_type": "stream",
     "text": [
      "sound/AIDA/training/babble/0dB/sp16_babble_sn0.wav\n"
     ]
    },
    {
     "name": "stderr",
     "output_type": "stream",
     "text": [
      "\u001b[32mProgress: 100%|█████████████████████████████████████████| Time: 0:03:41\u001b[39m\n"
     ]
    },
    {
     "name": "stdout",
     "output_type": "stream",
     "text": [
      "sound/AIDA/training/babble/0dB/sp17_babble_sn0.wav\n"
     ]
    },
    {
     "name": "stderr",
     "output_type": "stream",
     "text": [
      "\u001b[32mProgress: 100%|█████████████████████████████████████████| Time: 0:03:34\u001b[39m\n"
     ]
    },
    {
     "name": "stdout",
     "output_type": "stream",
     "text": [
      "sound/AIDA/training/babble/0dB/sp18_babble_sn0.wav\n"
     ]
    },
    {
     "name": "stderr",
     "output_type": "stream",
     "text": [
      "\u001b[32mProgress: 100%|█████████████████████████████████████████| Time: 0:03:09\u001b[39m\n"
     ]
    },
    {
     "name": "stdout",
     "output_type": "stream",
     "text": [
      "sound/AIDA/training/babble/0dB/sp19_babble_sn0.wav\n"
     ]
    },
    {
     "name": "stderr",
     "output_type": "stream",
     "text": [
      "\u001b[32mProgress: 100%|█████████████████████████████████████████| Time: 0:03:38\u001b[39m\n"
     ]
    },
    {
     "name": "stdout",
     "output_type": "stream",
     "text": [
      "sound/AIDA/training/babble/0dB/sp20_babble_sn0.wav\n"
     ]
    },
    {
     "name": "stderr",
     "output_type": "stream",
     "text": [
      "\u001b[32mProgress: 100%|█████████████████████████████████████████| Time: 0:03:32\u001b[39m\n"
     ]
    },
    {
     "name": "stdout",
     "output_type": "stream",
     "text": [
      "sound/AIDA/training/car/0dB/sp01_car_sn0.wav\n"
     ]
    },
    {
     "name": "stderr",
     "output_type": "stream",
     "text": [
      "\u001b[32mProgress: 100%|█████████████████████████████████████████| Time: 0:03:51\u001b[39m\n"
     ]
    },
    {
     "name": "stdout",
     "output_type": "stream",
     "text": [
      "sound/AIDA/training/car/0dB/sp02_car_sn0.wav\n"
     ]
    },
    {
     "name": "stderr",
     "output_type": "stream",
     "text": [
      "\u001b[32mProgress: 100%|█████████████████████████████████████████| Time: 0:03:36\u001b[39m\n"
     ]
    },
    {
     "name": "stdout",
     "output_type": "stream",
     "text": [
      "sound/AIDA/training/car/0dB/sp03_car_sn0.wav\n"
     ]
    },
    {
     "name": "stderr",
     "output_type": "stream",
     "text": [
      "\u001b[32mProgress: 100%|█████████████████████████████████████████| Time: 0:03:04\u001b[39m\n"
     ]
    },
    {
     "name": "stdout",
     "output_type": "stream",
     "text": [
      "sound/AIDA/training/car/0dB/sp04_car_sn0.wav\n"
     ]
    },
    {
     "name": "stderr",
     "output_type": "stream",
     "text": [
      "\u001b[32mProgress: 100%|█████████████████████████████████████████| Time: 0:02:53\u001b[39m\n"
     ]
    },
    {
     "name": "stdout",
     "output_type": "stream",
     "text": [
      "sound/AIDA/training/car/0dB/sp05_car_sn0.wav\n"
     ]
    },
    {
     "name": "stderr",
     "output_type": "stream",
     "text": [
      "\u001b[32mProgress: 100%|█████████████████████████████████████████| Time: 0:03:00\u001b[39m\n"
     ]
    },
    {
     "name": "stdout",
     "output_type": "stream",
     "text": [
      "sound/AIDA/training/car/0dB/sp06_car_sn0.wav\n"
     ]
    },
    {
     "name": "stderr",
     "output_type": "stream",
     "text": [
      "\u001b[32mProgress: 100%|█████████████████████████████████████████| Time: 0:03:43\u001b[39m\n"
     ]
    },
    {
     "name": "stdout",
     "output_type": "stream",
     "text": [
      "sound/AIDA/training/car/0dB/sp07_car_sn0.wav\n"
     ]
    },
    {
     "name": "stderr",
     "output_type": "stream",
     "text": [
      "\u001b[32mProgress: 100%|█████████████████████████████████████████| Time: 0:03:26\u001b[39m\n"
     ]
    },
    {
     "name": "stdout",
     "output_type": "stream",
     "text": [
      "sound/AIDA/training/car/0dB/sp08_car_sn0.wav\n"
     ]
    },
    {
     "name": "stderr",
     "output_type": "stream",
     "text": [
      "\u001b[32mProgress: 100%|█████████████████████████████████████████| Time: 0:03:52\u001b[39m\n"
     ]
    },
    {
     "name": "stdout",
     "output_type": "stream",
     "text": [
      "sound/AIDA/training/car/0dB/sp09_car_sn0.wav\n"
     ]
    },
    {
     "name": "stderr",
     "output_type": "stream",
     "text": [
      "\u001b[32mProgress: 100%|█████████████████████████████████████████| Time: 0:04:07\u001b[39m\n"
     ]
    },
    {
     "name": "stdout",
     "output_type": "stream",
     "text": [
      "sound/AIDA/training/car/0dB/sp10_car_sn0.wav\n"
     ]
    },
    {
     "name": "stderr",
     "output_type": "stream",
     "text": [
      "\u001b[32mProgress: 100%|█████████████████████████████████████████| Time: 0:03:40\u001b[39m\n"
     ]
    },
    {
     "name": "stdout",
     "output_type": "stream",
     "text": [
      "sound/AIDA/training/car/0dB/sp11_car_sn0.wav\n"
     ]
    },
    {
     "name": "stderr",
     "output_type": "stream",
     "text": [
      "\u001b[32mProgress: 100%|█████████████████████████████████████████| Time: 0:04:00\u001b[39m\n"
     ]
    },
    {
     "name": "stdout",
     "output_type": "stream",
     "text": [
      "sound/AIDA/training/car/0dB/sp12_car_sn0.wav\n"
     ]
    },
    {
     "name": "stderr",
     "output_type": "stream",
     "text": [
      "\u001b[32mProgress: 100%|█████████████████████████████████████████| Time: 0:03:46\u001b[39m\n"
     ]
    },
    {
     "name": "stdout",
     "output_type": "stream",
     "text": [
      "sound/AIDA/training/car/0dB/sp13_car_sn0.wav\n"
     ]
    },
    {
     "name": "stderr",
     "output_type": "stream",
     "text": [
      "\u001b[32mProgress: 100%|█████████████████████████████████████████| Time: 0:03:28\u001b[39m\n"
     ]
    },
    {
     "name": "stdout",
     "output_type": "stream",
     "text": [
      "sound/AIDA/training/car/0dB/sp14_car_sn0.wav\n"
     ]
    },
    {
     "name": "stderr",
     "output_type": "stream",
     "text": [
      "\u001b[32mProgress: 100%|█████████████████████████████████████████| Time: 0:04:02\u001b[39m\n"
     ]
    },
    {
     "name": "stdout",
     "output_type": "stream",
     "text": [
      "sound/AIDA/training/car/0dB/sp15_car_sn0.wav\n"
     ]
    },
    {
     "name": "stderr",
     "output_type": "stream",
     "text": [
      "\u001b[32mProgress: 100%|█████████████████████████████████████████| Time: 0:03:59\u001b[39m\n"
     ]
    },
    {
     "name": "stdout",
     "output_type": "stream",
     "text": [
      "sound/AIDA/training/car/0dB/sp16_car_sn0.wav\n"
     ]
    },
    {
     "name": "stderr",
     "output_type": "stream",
     "text": [
      "\u001b[32mProgress: 100%|█████████████████████████████████████████| Time: 0:03:10\u001b[39m\n"
     ]
    },
    {
     "name": "stdout",
     "output_type": "stream",
     "text": [
      "sound/AIDA/training/car/0dB/sp17_car_sn0.wav\n"
     ]
    },
    {
     "name": "stderr",
     "output_type": "stream",
     "text": [
      "\u001b[32mProgress: 100%|█████████████████████████████████████████| Time: 0:03:17\u001b[39m\n"
     ]
    },
    {
     "name": "stdout",
     "output_type": "stream",
     "text": [
      "sound/AIDA/training/car/0dB/sp18_car_sn0.wav\n"
     ]
    },
    {
     "name": "stderr",
     "output_type": "stream",
     "text": [
      "\u001b[32mProgress: 100%|█████████████████████████████████████████| Time: 0:03:07\u001b[39m\n"
     ]
    },
    {
     "name": "stdout",
     "output_type": "stream",
     "text": [
      "sound/AIDA/training/car/0dB/sp19_car_sn0.wav\n"
     ]
    },
    {
     "name": "stderr",
     "output_type": "stream",
     "text": [
      "\u001b[32mProgress: 100%|█████████████████████████████████████████| Time: 0:03:39\u001b[39m\n"
     ]
    },
    {
     "name": "stdout",
     "output_type": "stream",
     "text": [
      "sound/AIDA/training/car/0dB/sp20_car_sn0.wav\n"
     ]
    },
    {
     "name": "stderr",
     "output_type": "stream",
     "text": [
      "\u001b[32mProgress: 100%|█████████████████████████████████████████| Time: 0:03:32\u001b[39m\n"
     ]
    },
    {
     "name": "stdout",
     "output_type": "stream",
     "text": [
      "sound/AIDA/training/station/0dB/sp01_station_sn0.wav\n"
     ]
    },
    {
     "name": "stderr",
     "output_type": "stream",
     "text": [
      "\u001b[32mProgress: 100%|█████████████████████████████████████████| Time: 0:03:50\u001b[39m\n"
     ]
    },
    {
     "name": "stdout",
     "output_type": "stream",
     "text": [
      "sound/AIDA/training/station/0dB/sp02_station_sn0.wav\n"
     ]
    },
    {
     "name": "stderr",
     "output_type": "stream",
     "text": [
      "\u001b[32mProgress: 100%|█████████████████████████████████████████| Time: 0:03:35\u001b[39m\n"
     ]
    },
    {
     "name": "stdout",
     "output_type": "stream",
     "text": [
      "sound/AIDA/training/station/0dB/sp03_station_sn0.wav\n"
     ]
    },
    {
     "name": "stderr",
     "output_type": "stream",
     "text": [
      "\u001b[32mProgress: 100%|█████████████████████████████████████████| Time: 0:03:04\u001b[39m\n"
     ]
    },
    {
     "name": "stdout",
     "output_type": "stream",
     "text": [
      "sound/AIDA/training/station/0dB/sp04_station_sn0.wav\n"
     ]
    },
    {
     "name": "stderr",
     "output_type": "stream",
     "text": [
      "\u001b[32mProgress: 100%|█████████████████████████████████████████| Time: 0:02:54\u001b[39m\n"
     ]
    },
    {
     "name": "stdout",
     "output_type": "stream",
     "text": [
      "sound/AIDA/training/station/0dB/sp05_station_sn0.wav\n"
     ]
    },
    {
     "name": "stderr",
     "output_type": "stream",
     "text": [
      "\u001b[32mProgress: 100%|█████████████████████████████████████████| Time: 0:03:00\u001b[39m\n"
     ]
    },
    {
     "name": "stdout",
     "output_type": "stream",
     "text": [
      "sound/AIDA/training/station/0dB/sp06_station_sn0.wav\n"
     ]
    },
    {
     "name": "stderr",
     "output_type": "stream",
     "text": [
      "\u001b[32mProgress: 100%|█████████████████████████████████████████| Time: 0:03:45\u001b[39m\n"
     ]
    },
    {
     "name": "stdout",
     "output_type": "stream",
     "text": [
      "sound/AIDA/training/station/0dB/sp07_station_sn0.wav\n"
     ]
    },
    {
     "name": "stderr",
     "output_type": "stream",
     "text": [
      "\u001b[32mProgress: 100%|█████████████████████████████████████████| Time: 0:03:27\u001b[39m\n"
     ]
    },
    {
     "name": "stdout",
     "output_type": "stream",
     "text": [
      "sound/AIDA/training/station/0dB/sp08_station_sn0.wav\n"
     ]
    },
    {
     "name": "stderr",
     "output_type": "stream",
     "text": [
      "\u001b[32mProgress: 100%|█████████████████████████████████████████| Time: 0:03:53\u001b[39m\n"
     ]
    },
    {
     "name": "stdout",
     "output_type": "stream",
     "text": [
      "sound/AIDA/training/station/0dB/sp09_station_sn0.wav\n"
     ]
    },
    {
     "name": "stderr",
     "output_type": "stream",
     "text": [
      "\u001b[32mProgress: 100%|█████████████████████████████████████████| Time: 0:04:07\u001b[39m\n"
     ]
    },
    {
     "name": "stdout",
     "output_type": "stream",
     "text": [
      "sound/AIDA/training/station/0dB/sp10_station_sn0.wav\n"
     ]
    },
    {
     "name": "stderr",
     "output_type": "stream",
     "text": [
      "\u001b[32mProgress: 100%|█████████████████████████████████████████| Time: 0:03:40\u001b[39m\n"
     ]
    },
    {
     "name": "stdout",
     "output_type": "stream",
     "text": [
      "sound/AIDA/training/station/0dB/sp11_station_sn0.wav\n"
     ]
    },
    {
     "name": "stderr",
     "output_type": "stream",
     "text": [
      "\u001b[32mProgress: 100%|█████████████████████████████████████████| Time: 0:04:00\u001b[39m\n"
     ]
    },
    {
     "name": "stdout",
     "output_type": "stream",
     "text": [
      "sound/AIDA/training/station/0dB/sp12_station_sn0.wav\n"
     ]
    },
    {
     "name": "stderr",
     "output_type": "stream",
     "text": [
      "\u001b[32mProgress: 100%|█████████████████████████████████████████| Time: 0:03:46\u001b[39m\n"
     ]
    },
    {
     "name": "stdout",
     "output_type": "stream",
     "text": [
      "sound/AIDA/training/station/0dB/sp13_station_sn0.wav\n"
     ]
    },
    {
     "name": "stderr",
     "output_type": "stream",
     "text": [
      "\u001b[32mProgress: 100%|█████████████████████████████████████████| Time: 0:03:28\u001b[39m\n"
     ]
    },
    {
     "name": "stdout",
     "output_type": "stream",
     "text": [
      "sound/AIDA/training/station/0dB/sp14_station_sn0.wav\n"
     ]
    },
    {
     "name": "stderr",
     "output_type": "stream",
     "text": [
      "\u001b[32mProgress: 100%|█████████████████████████████████████████| Time: 0:04:00\u001b[39m\n"
     ]
    },
    {
     "name": "stdout",
     "output_type": "stream",
     "text": [
      "sound/AIDA/training/station/0dB/sp15_station_sn0.wav\n"
     ]
    },
    {
     "name": "stderr",
     "output_type": "stream",
     "text": [
      "\u001b[32mProgress: 100%|█████████████████████████████████████████| Time: 0:03:59\u001b[39m\n"
     ]
    },
    {
     "name": "stdout",
     "output_type": "stream",
     "text": [
      "sound/AIDA/training/station/0dB/sp16_station_sn0.wav\n"
     ]
    },
    {
     "name": "stderr",
     "output_type": "stream",
     "text": [
      "\u001b[32mProgress: 100%|█████████████████████████████████████████| Time: 0:03:09\u001b[39m\n"
     ]
    },
    {
     "name": "stdout",
     "output_type": "stream",
     "text": [
      "sound/AIDA/training/station/0dB/sp17_station_sn0.wav\n"
     ]
    },
    {
     "name": "stderr",
     "output_type": "stream",
     "text": [
      "\u001b[32mProgress: 100%|█████████████████████████████████████████| Time: 0:03:18\u001b[39m\n"
     ]
    },
    {
     "name": "stdout",
     "output_type": "stream",
     "text": [
      "sound/AIDA/training/station/0dB/sp18_station_sn0.wav\n"
     ]
    },
    {
     "name": "stderr",
     "output_type": "stream",
     "text": [
      "\u001b[32mProgress: 100%|█████████████████████████████████████████| Time: 0:03:08\u001b[39m\n"
     ]
    },
    {
     "name": "stdout",
     "output_type": "stream",
     "text": [
      "sound/AIDA/training/station/0dB/sp19_station_sn0.wav\n"
     ]
    },
    {
     "name": "stderr",
     "output_type": "stream",
     "text": [
      "\u001b[32mProgress: 100%|█████████████████████████████████████████| Time: 0:03:38\u001b[39m\n"
     ]
    },
    {
     "name": "stdout",
     "output_type": "stream",
     "text": [
      "sound/AIDA/training/station/0dB/sp20_station_sn0.wav\n"
     ]
    },
    {
     "name": "stderr",
     "output_type": "stream",
     "text": [
      "\u001b[32mProgress: 100%|█████████████████████████████████████████| Time: 0:03:33\u001b[39m\n"
     ]
    },
    {
     "name": "stdout",
     "output_type": "stream",
     "text": [
      "sound/AIDA/training/train/0dB/sp01_train_sn0.wav\n"
     ]
    },
    {
     "name": "stderr",
     "output_type": "stream",
     "text": [
      "\u001b[32mProgress: 100%|█████████████████████████████████████████| Time: 0:03:51\u001b[39m\n"
     ]
    },
    {
     "name": "stdout",
     "output_type": "stream",
     "text": [
      "sound/AIDA/training/train/0dB/sp02_train_sn0.wav\n"
     ]
    },
    {
     "name": "stderr",
     "output_type": "stream",
     "text": [
      "\u001b[32mProgress: 100%|█████████████████████████████████████████| Time: 0:03:37\u001b[39m\n"
     ]
    },
    {
     "name": "stdout",
     "output_type": "stream",
     "text": [
      "sound/AIDA/training/train/0dB/sp03_train_sn0.wav\n"
     ]
    },
    {
     "name": "stderr",
     "output_type": "stream",
     "text": [
      "\u001b[32mProgress: 100%|█████████████████████████████████████████| Time: 0:03:04\u001b[39m\n"
     ]
    },
    {
     "name": "stdout",
     "output_type": "stream",
     "text": [
      "sound/AIDA/training/train/0dB/sp04_train_sn0.wav\n"
     ]
    },
    {
     "name": "stderr",
     "output_type": "stream",
     "text": [
      "\u001b[32mProgress: 100%|█████████████████████████████████████████| Time: 0:02:54\u001b[39m\n"
     ]
    },
    {
     "name": "stdout",
     "output_type": "stream",
     "text": [
      "sound/AIDA/training/train/0dB/sp05_train_sn0.wav\n"
     ]
    },
    {
     "name": "stderr",
     "output_type": "stream",
     "text": [
      "\u001b[32mProgress: 100%|█████████████████████████████████████████| Time: 0:03:00\u001b[39m\n"
     ]
    },
    {
     "name": "stdout",
     "output_type": "stream",
     "text": [
      "sound/AIDA/training/train/0dB/sp06_train_sn0.wav\n"
     ]
    },
    {
     "name": "stderr",
     "output_type": "stream",
     "text": [
      "\u001b[32mProgress: 100%|█████████████████████████████████████████| Time: 0:03:44\u001b[39m\n"
     ]
    },
    {
     "name": "stdout",
     "output_type": "stream",
     "text": [
      "sound/AIDA/training/train/0dB/sp07_train_sn0.wav\n"
     ]
    },
    {
     "name": "stderr",
     "output_type": "stream",
     "text": [
      "\u001b[32mProgress: 100%|█████████████████████████████████████████| Time: 0:03:26\u001b[39m\n"
     ]
    },
    {
     "name": "stdout",
     "output_type": "stream",
     "text": [
      "sound/AIDA/training/train/0dB/sp08_train_sn0.wav\n"
     ]
    },
    {
     "name": "stderr",
     "output_type": "stream",
     "text": [
      "\u001b[32mProgress: 100%|█████████████████████████████████████████| Time: 0:03:54\u001b[39m\n"
     ]
    },
    {
     "name": "stdout",
     "output_type": "stream",
     "text": [
      "sound/AIDA/training/train/0dB/sp09_train_sn0.wav\n"
     ]
    },
    {
     "name": "stderr",
     "output_type": "stream",
     "text": [
      "\u001b[32mProgress: 100%|█████████████████████████████████████████| Time: 0:04:08\u001b[39m\n"
     ]
    },
    {
     "name": "stdout",
     "output_type": "stream",
     "text": [
      "sound/AIDA/training/train/0dB/sp10_train_sn0.wav\n"
     ]
    },
    {
     "name": "stderr",
     "output_type": "stream",
     "text": [
      "\u001b[32mProgress: 100%|█████████████████████████████████████████| Time: 0:03:39\u001b[39m\n"
     ]
    },
    {
     "name": "stdout",
     "output_type": "stream",
     "text": [
      "sound/AIDA/training/train/0dB/sp11_train_sn0.wav\n"
     ]
    },
    {
     "name": "stderr",
     "output_type": "stream",
     "text": [
      "\u001b[32mProgress: 100%|█████████████████████████████████████████| Time: 0:04:00\u001b[39m\n"
     ]
    },
    {
     "name": "stdout",
     "output_type": "stream",
     "text": [
      "sound/AIDA/training/train/0dB/sp12_train_sn0.wav\n"
     ]
    },
    {
     "name": "stderr",
     "output_type": "stream",
     "text": [
      "\u001b[32mProgress: 100%|█████████████████████████████████████████| Time: 0:03:46\u001b[39m\n"
     ]
    },
    {
     "name": "stdout",
     "output_type": "stream",
     "text": [
      "sound/AIDA/training/train/0dB/sp13_train_sn0.wav\n"
     ]
    },
    {
     "name": "stderr",
     "output_type": "stream",
     "text": [
      "\u001b[32mProgress: 100%|█████████████████████████████████████████| Time: 0:03:28\u001b[39m\n"
     ]
    },
    {
     "name": "stdout",
     "output_type": "stream",
     "text": [
      "sound/AIDA/training/train/0dB/sp14_train_sn0.wav\n"
     ]
    },
    {
     "name": "stderr",
     "output_type": "stream",
     "text": [
      "\u001b[32mProgress: 100%|█████████████████████████████████████████| Time: 0:04:00\u001b[39m\n"
     ]
    },
    {
     "name": "stdout",
     "output_type": "stream",
     "text": [
      "sound/AIDA/training/train/0dB/sp15_train_sn0.wav\n"
     ]
    },
    {
     "name": "stderr",
     "output_type": "stream",
     "text": [
      "\u001b[32mProgress: 100%|█████████████████████████████████████████| Time: 0:03:59\u001b[39m\n"
     ]
    },
    {
     "name": "stdout",
     "output_type": "stream",
     "text": [
      "sound/AIDA/training/train/0dB/sp16_train_sn0.wav\n"
     ]
    },
    {
     "name": "stderr",
     "output_type": "stream",
     "text": [
      "\u001b[32mProgress: 100%|█████████████████████████████████████████| Time: 0:03:11\u001b[39m\n"
     ]
    },
    {
     "name": "stdout",
     "output_type": "stream",
     "text": [
      "sound/AIDA/training/train/0dB/sp17_train_sn0.wav\n"
     ]
    },
    {
     "name": "stderr",
     "output_type": "stream",
     "text": [
      "\u001b[32mProgress: 100%|█████████████████████████████████████████| Time: 0:03:17\u001b[39m\n"
     ]
    },
    {
     "name": "stdout",
     "output_type": "stream",
     "text": [
      "sound/AIDA/training/train/0dB/sp18_train_sn0.wav\n"
     ]
    },
    {
     "name": "stderr",
     "output_type": "stream",
     "text": [
      "\u001b[32mProgress: 100%|█████████████████████████████████████████| Time: 0:03:09\u001b[39m\n"
     ]
    },
    {
     "name": "stdout",
     "output_type": "stream",
     "text": [
      "sound/AIDA/training/train/0dB/sp19_train_sn0.wav\n"
     ]
    },
    {
     "name": "stderr",
     "output_type": "stream",
     "text": [
      "\u001b[32mProgress: 100%|█████████████████████████████████████████| Time: 0:03:38\u001b[39m\n"
     ]
    },
    {
     "name": "stdout",
     "output_type": "stream",
     "text": [
      "sound/AIDA/training/train/0dB/sp20_train_sn0.wav\n"
     ]
    },
    {
     "name": "stderr",
     "output_type": "stream",
     "text": [
      "\u001b[32mProgress: 100%|█████████████████████████████████████████| Time: 0:03:32\u001b[39m\n"
     ]
    }
   ],
   "source": [
    "# r for recovered\n",
    "for training_file in training_files\n",
    "    if !occursin(\".wav\", training_file)\n",
    "        continue\n",
    "    end\n",
    "    \n",
    "    if occursin(\"/babble/\", training_file)\n",
    "        priors_eta = (bblmη_arr, bblvη_arr)\n",
    "        priors_tau = bblτ_arr\n",
    "    elseif occursin(\"/train/\", training_file)\n",
    "        priors_eta = (trmη_arr, trvη_arr)\n",
    "        priors_tau = trτ_arr\n",
    "    else\n",
    "        continue\n",
    "    end\n",
    "    println(training_file)\n",
    "    speech, fs = WAV.wavread(training_file)\n",
    "    speech_seg = get_frames(speech, fs)\n",
    "    \n",
    "    # make sure that 1D of priors and speech_seg are equal\n",
    "    if size(priors_eta, 1) != size(speech_seg, 1)\n",
    "        totseg = size(speech_seg, 1)\n",
    "        priors_eta_m, priors_eta_v, priors_tau = prior_to_priors(priors_eta[1][1, :]', priors_eta[2][1, :, :], priors_tau[1], totseg)\n",
    "        priors_eta = priors_eta_m, priors_eta_v\n",
    "    end\n",
    "    rmz, rvz, rmθ, rvθ, rγ, rmx, rvx, rmη, rvη, rτ, fe, rmo = HA_algorithm(speech_seg, priors_eta, priors_tau, 10, 2, 10);\n",
    "    \n",
    "    JLD.save(\"sound/AIDA/separated_jld/training/\"*training_file[findfirst(\"sp\", training_file)[1]:end][1:end-3]*\"jld\",\n",
    "         \"rmz\", rmz, \"rvz\", rvz, \"rmθ\", rmθ, \"rvθ\", rvθ, \"rγ\", rγ, \n",
    "         \"rmx\", rmx, \"rvx\", rvx, \"rmη\", rmη, \"rvη\", rvη, \"rτ\", rτ,\n",
    "         \"fe\", fe, \"rmo\", rmo, \"filename\", training_file,\n",
    "         \"audio\", speech)\n",
    "end"
   ]
  },
  {
   "cell_type": "markdown",
   "id": "likely-volume",
   "metadata": {},
   "source": [
    "### Preference learning stage"
   ]
  },
  {
   "cell_type": "markdown",
   "id": "together-diesel",
   "metadata": {},
   "source": [
    "#### Generate outputs of HA from JLD files"
   ]
  },
  {
   "cell_type": "code",
   "execution_count": 28,
   "id": "entire-payroll",
   "metadata": {},
   "outputs": [],
   "source": [
    "# obtain saved jld files containing inference result\n",
    "training_jlds = get_sounds_fn(\"sound/AIDA/separated_jld/training/\");"
   ]
  },
  {
   "cell_type": "code",
   "execution_count": 33,
   "id": "latin-knife",
   "metadata": {},
   "outputs": [],
   "source": [
    "# initialize gains that agent randomly assigns to the outputs of HA\n",
    "agent_gains = [[2.0, 1.0], [1.0, 0.0], [0.5, 0.5], [0.9, 0.3], [2.5, 1.0], [0.9, 0.1], [0.7, 0.2], [0.2, 0.7], [2.0, 0.0]];"
   ]
  },
  {
   "cell_type": "code",
   "execution_count": 34,
   "id": "complex-asian",
   "metadata": {},
   "outputs": [],
   "source": [
    "# this snippet generates new ha outputs\n",
    "for training_jld in training_jlds\n",
    "    # read file\n",
    "    d = JLD.load(training_jld)\n",
    "    filename = d[\"filename\"]\n",
    "    # extract speech\n",
    "    rmz, rmx = d[\"rmz\"], d[\"rmx\"]\n",
    "    # extract noise\n",
    "    rz, rx = get_signal(rmz, fs), get_signal(rmx, fs)\n",
    "    # pick weights \n",
    "    whgs = rand(agent_gains) # can be changed to a smarter function\n",
    "    # create output\n",
    "    ha_out = whgs[1] .* rz + whgs[2] .* rx\n",
    "    # write wav file\n",
    "    WAV.wavwrite(ha_out, fs, \"sound/AIDA/preference_learning/ha_out_$(whgs[1])_$(whgs[2])_\"*filename[findfirst(\"sp\", filename)[1]:end])\n",
    "end"
   ]
  },
  {
   "cell_type": "markdown",
   "id": "moved-programming",
   "metadata": {},
   "source": [
    "#### Create pairs (gains, context) <-> appraisals"
   ]
  },
  {
   "cell_type": "code",
   "execution_count": 8,
   "id": "coastal-income",
   "metadata": {},
   "outputs": [],
   "source": [
    "# Recorded gains and appraisals \n",
    "# If you want to generate new pairs, please procceed with listening\n",
    "gains = [[0.2, 0.7], [0.2, 0.7], [0.2, 0.7], [0.2, 0.7], [0.2, 0.7], [0.5, 0.5], [0.5, 0.5], [0.5, 0.5], [0.7, 0.2], [0.7, 0.2], [0.7, 0.2], [0.7, 0.2], [0.7, 0.2], [0.7, 0.2], [0.7, 0.2], [0.7, 0.2], [0.9, 0.1], [0.9, 0.1], [0.9, 0.1], [0.9, 0.3], [0.9, 0.3], [1.0, 0.0], [1.0, 0.0], [1.0, 0.0], [1.0, 0.0], [1.0, 0.0], [1.0, 0.0], [1.0, 0.0], [2.0, 0.0], [2.0, 0.0], [2.0, 0.0], [2.0, 0.0], [2.0, 0.0], [2.0, 0.0], [2.0, 0.0], [2.0, 1.0], [2.0, 1.0], [2.5, 1.0], [2.5, 1.0], [2.5, 1.0]]\n",
    "appraisals = [0.6, 0.0, 0.0, 0.7, 0.0, 1.0, 0.5, 0.2, 0.0, 0.8, 1.0, 1.0, 0.3, 0.0, 0.0, 1.0, 1.0, 0.4, 0.8, 0.0, 0.3, 0.5, 0.9, 0.7, 1.0, 0.4, 0.5, 0.8, 0.9, 0.8, 0.6, 0.1, 0.1, 0.1, 0.3, 0.9, 0.0, 0.1, 0.5, 0.5]\n",
    "contexts = [1.0, 1.0, 1.0, 0.0, 1.0, 0.0, 0.0, 1.0, 1.0, 0.0, 1.0, 1.0, 0.0, 1.0, 1.0, 1.0, 1.0, 0.0, 0.0, 1.0, 0.0, 1.0, 0.0, 0.0, 1.0, 0.0, 0.0, 0.0, 1.0, 1.0, 0.0, 0.0, 1.0, 0.0, 0.0, 0.0, 0.0, 1.0, 0.0, 1.0];\n",
    "pl_dict = Dict(:gains => gains, :appraisals => appraisals, :contexts => contexts);"
   ]
  },
  {
   "cell_type": "code",
   "execution_count": 9,
   "id": "optimum-partition",
   "metadata": {},
   "outputs": [],
   "source": [
    "prl_files = get_sounds_fn(\"sound/AIDA/preference_learning/\");"
   ]
  },
  {
   "cell_type": "markdown",
   "id": "fabulous-capitol",
   "metadata": {},
   "source": [
    "#### Listening"
   ]
  },
  {
   "cell_type": "markdown",
   "id": "complete-auckland",
   "metadata": {},
   "source": [
    "User gets to listen new audio samples with proposed gains. After each listening he/she evaluates the performance of HA output by binary feedback."
   ]
  },
  {
   "cell_type": "code",
   "execution_count": 16,
   "id": "worse-abortion",
   "metadata": {},
   "outputs": [
    {
     "data": {
      "text/plain": [
       "learning_data (generic function with 2 methods)"
      ]
     },
     "execution_count": 16,
     "metadata": {},
     "output_type": "execute_result"
    }
   ],
   "source": [
    "function learning_data(preferences::Dict, context, jitter=1e-3)\n",
    "    idx = findall(isequal(context), preferences[:contexts])\n",
    "    gains = preferences[:gains]\n",
    "    appraisals = preferences[:appraisals]\n",
    "    tgains = vcat(hcat(gains...)', hcat(gains...)', hcat(gains...)')\n",
    "    tappraisals = vcat(appraisals, appraisals, appraisals)\n",
    "    \n",
    "    # augmentation of the dataset with copies\n",
    "    y = tappraisals\n",
    "    X = tgains .+ sqrt(jitter)*randn(size(tgains))\n",
    "    \n",
    "    return X, y\n",
    "end"
   ]
  },
  {
   "cell_type": "code",
   "execution_count": 11,
   "id": "becoming-joseph",
   "metadata": {},
   "outputs": [
    {
     "name": "stdout",
     "output_type": "stream",
     "text": [
      "How's HA output 1, 0 ?\n"
     ]
    },
    {
     "name": "stdin",
     "output_type": "stream",
     "text": [
      "stdin>  0.6\n"
     ]
    },
    {
     "name": "stdout",
     "output_type": "stream",
     "text": [
      "How's HA output 1, 0 ?\n"
     ]
    },
    {
     "name": "stdin",
     "output_type": "stream",
     "text": [
      "stdin>  0\n"
     ]
    },
    {
     "name": "stdout",
     "output_type": "stream",
     "text": [
      "How's HA output 1, 0 ?\n"
     ]
    },
    {
     "name": "stdin",
     "output_type": "stream",
     "text": [
      "stdin>  0\n"
     ]
    },
    {
     "name": "stdout",
     "output_type": "stream",
     "text": [
      "How's HA output 1, 0 ?\n"
     ]
    },
    {
     "name": "stdin",
     "output_type": "stream",
     "text": [
      "stdin>  0.7\n"
     ]
    },
    {
     "name": "stdout",
     "output_type": "stream",
     "text": [
      "How's HA output 1, 0 ?\n"
     ]
    },
    {
     "name": "stdin",
     "output_type": "stream",
     "text": [
      "stdin>  0.0\n"
     ]
    },
    {
     "name": "stdout",
     "output_type": "stream",
     "text": [
      "How's HA output 1, 0 ?\n"
     ]
    },
    {
     "name": "stdin",
     "output_type": "stream",
     "text": [
      "stdin>  1\n"
     ]
    },
    {
     "name": "stdout",
     "output_type": "stream",
     "text": [
      "How's HA output 1, 0 ?\n"
     ]
    },
    {
     "name": "stdin",
     "output_type": "stream",
     "text": [
      "stdin>  0.5\n"
     ]
    },
    {
     "name": "stdout",
     "output_type": "stream",
     "text": [
      "How's HA output 1, 0 ?\n"
     ]
    },
    {
     "name": "stdin",
     "output_type": "stream",
     "text": [
      "stdin>  0.2\n"
     ]
    },
    {
     "name": "stdout",
     "output_type": "stream",
     "text": [
      "How's HA output 1, 0 ?\n"
     ]
    },
    {
     "name": "stdin",
     "output_type": "stream",
     "text": [
      "stdin>  0\n"
     ]
    },
    {
     "name": "stdout",
     "output_type": "stream",
     "text": [
      "How's HA output 1, 0 ?\n"
     ]
    },
    {
     "name": "stdin",
     "output_type": "stream",
     "text": [
      "stdin>  0.8\n"
     ]
    },
    {
     "name": "stdout",
     "output_type": "stream",
     "text": [
      "How's HA output 1, 0 ?\n"
     ]
    },
    {
     "name": "stdin",
     "output_type": "stream",
     "text": [
      "stdin>  1\n"
     ]
    },
    {
     "name": "stdout",
     "output_type": "stream",
     "text": [
      "How's HA output 1, 0 ?\n"
     ]
    },
    {
     "name": "stdin",
     "output_type": "stream",
     "text": [
      "stdin>  1\n"
     ]
    },
    {
     "name": "stdout",
     "output_type": "stream",
     "text": [
      "How's HA output 1, 0 ?\n"
     ]
    },
    {
     "name": "stdin",
     "output_type": "stream",
     "text": [
      "stdin>  0.3\n"
     ]
    },
    {
     "name": "stdout",
     "output_type": "stream",
     "text": [
      "How's HA output 1, 0 ?\n"
     ]
    },
    {
     "name": "stdin",
     "output_type": "stream",
     "text": [
      "stdin>  0.0\n"
     ]
    },
    {
     "name": "stdout",
     "output_type": "stream",
     "text": [
      "How's HA output 1, 0 ?\n"
     ]
    },
    {
     "name": "stdin",
     "output_type": "stream",
     "text": [
      "stdin>  0.0\n"
     ]
    },
    {
     "name": "stdout",
     "output_type": "stream",
     "text": [
      "How's HA output 1, 0 ?\n"
     ]
    },
    {
     "name": "stdin",
     "output_type": "stream",
     "text": [
      "stdin>  1.0\n"
     ]
    },
    {
     "name": "stdout",
     "output_type": "stream",
     "text": [
      "How's HA output 1, 0 ?\n"
     ]
    },
    {
     "name": "stdin",
     "output_type": "stream",
     "text": [
      "stdin>  1.0\n"
     ]
    },
    {
     "name": "stdout",
     "output_type": "stream",
     "text": [
      "How's HA output 1, 0 ?\n"
     ]
    },
    {
     "name": "stdin",
     "output_type": "stream",
     "text": [
      "stdin>  0.4\n"
     ]
    },
    {
     "name": "stdout",
     "output_type": "stream",
     "text": [
      "How's HA output 1, 0 ?\n"
     ]
    },
    {
     "name": "stdin",
     "output_type": "stream",
     "text": [
      "stdin>  0.8\n"
     ]
    },
    {
     "name": "stdout",
     "output_type": "stream",
     "text": [
      "How's HA output 1, 0 ?\n"
     ]
    },
    {
     "name": "stdin",
     "output_type": "stream",
     "text": [
      "stdin>  0.0\n"
     ]
    },
    {
     "name": "stdout",
     "output_type": "stream",
     "text": [
      "How's HA output 1, 0 ?\n"
     ]
    },
    {
     "name": "stdin",
     "output_type": "stream",
     "text": [
      "stdin>  0.3\n"
     ]
    },
    {
     "name": "stdout",
     "output_type": "stream",
     "text": [
      "How's HA output 1, 0 ?\n"
     ]
    },
    {
     "name": "stdin",
     "output_type": "stream",
     "text": [
      "stdin>  0.5\n"
     ]
    },
    {
     "name": "stdout",
     "output_type": "stream",
     "text": [
      "How's HA output 1, 0 ?\n"
     ]
    },
    {
     "name": "stdin",
     "output_type": "stream",
     "text": [
      "stdin>  0.9\n"
     ]
    },
    {
     "name": "stdout",
     "output_type": "stream",
     "text": [
      "How's HA output 1, 0 ?\n"
     ]
    },
    {
     "name": "stdin",
     "output_type": "stream",
     "text": [
      "stdin>  0.7\n"
     ]
    },
    {
     "name": "stdout",
     "output_type": "stream",
     "text": [
      "How's HA output 1, 0 ?\n"
     ]
    },
    {
     "name": "stdin",
     "output_type": "stream",
     "text": [
      "stdin>  1.0\n"
     ]
    },
    {
     "name": "stdout",
     "output_type": "stream",
     "text": [
      "How's HA output 1, 0 ?\n"
     ]
    },
    {
     "name": "stdin",
     "output_type": "stream",
     "text": [
      "stdin>  0.4\n"
     ]
    },
    {
     "name": "stdout",
     "output_type": "stream",
     "text": [
      "How's HA output 1, 0 ?\n"
     ]
    },
    {
     "name": "stdin",
     "output_type": "stream",
     "text": [
      "stdin>  0.5\n"
     ]
    },
    {
     "name": "stdout",
     "output_type": "stream",
     "text": [
      "How's HA output 1, 0 ?\n"
     ]
    },
    {
     "name": "stdin",
     "output_type": "stream",
     "text": [
      "stdin>  0.8\n"
     ]
    },
    {
     "name": "stdout",
     "output_type": "stream",
     "text": [
      "How's HA output 1, 0 ?\n"
     ]
    },
    {
     "name": "stdin",
     "output_type": "stream",
     "text": [
      "stdin>  0.9\n"
     ]
    },
    {
     "name": "stdout",
     "output_type": "stream",
     "text": [
      "How's HA output 1, 0 ?\n"
     ]
    },
    {
     "name": "stdin",
     "output_type": "stream",
     "text": [
      "stdin>  0.8\n"
     ]
    },
    {
     "name": "stdout",
     "output_type": "stream",
     "text": [
      "How's HA output 1, 0 ?\n"
     ]
    },
    {
     "name": "stdin",
     "output_type": "stream",
     "text": [
      "stdin>  0.6\n"
     ]
    },
    {
     "name": "stdout",
     "output_type": "stream",
     "text": [
      "How's HA output 1, 0 ?\n"
     ]
    },
    {
     "name": "stdin",
     "output_type": "stream",
     "text": [
      "stdin>  0.1\n"
     ]
    },
    {
     "name": "stdout",
     "output_type": "stream",
     "text": [
      "How's HA output 1, 0 ?\n"
     ]
    },
    {
     "name": "stdin",
     "output_type": "stream",
     "text": [
      "stdin>  0.1\n"
     ]
    },
    {
     "name": "stdout",
     "output_type": "stream",
     "text": [
      "How's HA output 1, 0 ?\n"
     ]
    },
    {
     "name": "stdin",
     "output_type": "stream",
     "text": [
      "stdin>  0.1\n"
     ]
    },
    {
     "name": "stdout",
     "output_type": "stream",
     "text": [
      "How's HA output 1, 0 ?\n"
     ]
    },
    {
     "name": "stdin",
     "output_type": "stream",
     "text": [
      "stdin>  0.3\n"
     ]
    },
    {
     "name": "stdout",
     "output_type": "stream",
     "text": [
      "How's HA output 1, 0 ?\n"
     ]
    },
    {
     "name": "stdin",
     "output_type": "stream",
     "text": [
      "stdin>  0.9\n"
     ]
    },
    {
     "name": "stdout",
     "output_type": "stream",
     "text": [
      "How's HA output 1, 0 ?\n"
     ]
    },
    {
     "name": "stdin",
     "output_type": "stream",
     "text": [
      "stdin>  0.0\n"
     ]
    },
    {
     "name": "stdout",
     "output_type": "stream",
     "text": [
      "How's HA output 1, 0 ?\n"
     ]
    },
    {
     "name": "stdin",
     "output_type": "stream",
     "text": [
      "stdin>  0.1\n"
     ]
    },
    {
     "name": "stdout",
     "output_type": "stream",
     "text": [
      "How's HA output 1, 0 ?\n"
     ]
    },
    {
     "name": "stdin",
     "output_type": "stream",
     "text": [
      "stdin>  0.5\n"
     ]
    },
    {
     "name": "stdout",
     "output_type": "stream",
     "text": [
      "How's HA output 1, 0 ?\n"
     ]
    },
    {
     "name": "stdin",
     "output_type": "stream",
     "text": [
      "stdin>  0.5\n"
     ]
    }
   ],
   "source": [
    "# This snippet creates interactive loop where user can like/dislike hearing aid output\n",
    "nnum = 8 # prefix for gains\n",
    "pl_dict = Dict(:appraisals => [], :gains => [], :contexts => [])\n",
    "\n",
    "for prl_file in prl_files\n",
    "    \n",
    "    if !occursin(\"wav\", prl_file)\n",
    "        continue\n",
    "    end\n",
    "    WAV.wavplay(prl_file)\n",
    "    println(\"How's HA output 1, 0 ?\")\n",
    "    appraisal = readline()\n",
    "    push!(pl_dict[:appraisals], parse(Float64, appraisal))\n",
    "    \n",
    "    # extract gains routine\n",
    "    pref_id = findfirst(\"out_\", prl_file)[end]\n",
    "    gains_str = prl_file[pref_id+1:pref_id+nnum-1]\n",
    "    push!(pl_dict[:gains], parse.(Float64, split(gains_str, \"_\")))\n",
    "    \n",
    "    # extract context routine\n",
    "    push!(pl_dict[:contexts], occursin(\"babble\", prl_file) ? 1.0 : 0.0)\n",
    "end"
   ]
  },
  {
   "cell_type": "code",
   "execution_count": 12,
   "id": "executed-paintball",
   "metadata": {},
   "outputs": [
    {
     "name": "stdout",
     "output_type": "stream",
     "text": [
      "Any[[0.2, 0.7], [0.2, 0.7], [0.2, 0.7], [0.2, 0.7], [0.2, 0.7], [0.5, 0.5], [0.5, 0.5], [0.5, 0.5], [0.7, 0.2], [0.7, 0.2], [0.7, 0.2], [0.7, 0.2], [0.7, 0.2], [0.7, 0.2], [0.7, 0.2], [0.7, 0.2], [0.9, 0.1], [0.9, 0.1], [0.9, 0.1], [0.9, 0.3], [0.9, 0.3], [1.0, 0.0], [1.0, 0.0], [1.0, 0.0], [1.0, 0.0], [1.0, 0.0], [1.0, 0.0], [1.0, 0.0], [2.0, 0.0], [2.0, 0.0], [2.0, 0.0], [2.0, 0.0], [2.0, 0.0], [2.0, 0.0], [2.0, 0.0], [2.0, 1.0], [2.0, 1.0], [2.5, 1.0], [2.5, 1.0], [2.5, 1.0]]\n",
      "Any[0.6, 0.0, 0.0, 0.7, 0.0, 1.0, 0.5, 0.2, 0.0, 0.8, 1.0, 1.0, 0.3, 0.0, 0.0, 1.0, 1.0, 0.4, 0.8, 0.0, 0.3, 0.5, 0.9, 0.7, 1.0, 0.4, 0.5, 0.8, 0.9, 0.8, 0.6, 0.1, 0.1, 0.1, 0.3, 0.9, 0.0, 0.1, 0.5, 0.5]\n",
      "Any[1.0, 1.0, 1.0, 0.0, 1.0, 0.0, 0.0, 1.0, 1.0, 0.0, 1.0, 1.0, 0.0, 1.0, 1.0, 1.0, 1.0, 0.0, 0.0, 1.0, 0.0, 1.0, 0.0, 0.0, 1.0, 0.0, 0.0, 0.0, 1.0, 1.0, 0.0, 0.0, 1.0, 0.0, 0.0, 0.0, 0.0, 1.0, 0.0, 1.0]\n"
     ]
    }
   ],
   "source": [
    "println(pl_dict[:gains])\n",
    "println(pl_dict[:appraisals])\n",
    "println(pl_dict[:contexts])"
   ]
  },
  {
   "cell_type": "code",
   "execution_count": 10,
   "id": "modular-upset",
   "metadata": {},
   "outputs": [
    {
     "data": {
      "text/plain": [
       "inference_flow_planner (generic function with 1 method)"
      ]
     },
     "execution_count": 10,
     "metadata": {},
     "output_type": "execute_result"
    }
   ],
   "source": [
    "# normalizing flows agent\n",
    "include(\"agent/agent_Bart/flow_agent.jl\")"
   ]
  },
  {
   "cell_type": "code",
   "execution_count": 11,
   "id": "regular-october",
   "metadata": {},
   "outputs": [],
   "source": [
    "function f(params)\n",
    "    fe = inference_flow_classifier(Float64.(data_y), [data_x[k,:] for k=1:size(data_x,1)], params)\n",
    "    return fe\n",
    "end;"
   ]
  },
  {
   "cell_type": "code",
   "execution_count": 17,
   "id": "finnish-outside",
   "metadata": {},
   "outputs": [
    {
     "data": {
      "text/plain": [
       "([0.2117330714925126 0.7117883529566282; 0.17108852402369132 0.6586360349509821; … ; 2.5006471881304293 0.9507812389114169; 2.501273583455672 0.9183275576883542], [0.6, 0.0, 0.0, 0.7, 0.0, 1.0, 0.5, 0.2, 0.0, 0.8  …  0.6, 0.1, 0.1, 0.1, 0.3, 0.9, 0.0, 0.1, 0.5, 0.5])"
      ]
     },
     "execution_count": 17,
     "metadata": {},
     "output_type": "execute_result"
    }
   ],
   "source": [
    "context = 1.0 #babble\n",
    "# context = 0.0 #train\n",
    "data_x, data_y = learning_data(pl_dict, context)"
   ]
  },
  {
   "cell_type": "code",
   "execution_count": 18,
   "id": "sitting-drilling",
   "metadata": {},
   "outputs": [
    {
     "data": {
      "text/plain": [
       "2973.160552835964"
      ]
     },
     "execution_count": 18,
     "metadata": {},
     "output_type": "execute_result"
    }
   ],
   "source": [
    "rng = MersenneTwister(1)\n",
    "\n",
    "f(randn(rng, 12))"
   ]
  },
  {
   "cell_type": "code",
   "execution_count": 26,
   "id": "conservative-bride",
   "metadata": {},
   "outputs": [
    {
     "name": "stdout",
     "output_type": "stream",
     "text": [
      "Iter     Function value   Gradient norm \n",
      "     0     6.231473e+03     5.026953e+03\n",
      " * time: 6.198883056640625e-5\n",
      "     1     5.467553e+03     2.205991e+03\n",
      " * time: 0.13877105712890625\n",
      "     2     2.177229e+03     3.124699e+03\n",
      " * time: 0.29968905448913574\n",
      "     3     6.248094e+02     5.518407e+02\n",
      " * time: 0.3856949806213379\n",
      "     4     5.299580e+02     2.905221e+02\n",
      " * time: 0.44235992431640625\n",
      "     5     4.966417e+02     1.588737e+02\n",
      " * time: 0.5627269744873047\n",
      "     6     3.080416e+02     6.781410e+02\n",
      " * time: 0.730741024017334\n",
      "     7     2.881734e+02     3.220378e+02\n",
      " * time: 0.8208091259002686\n",
      "     8     2.564690e+02     1.589271e+02\n",
      " * time: 0.9932200908660889\n",
      "     9     2.554666e+02     1.012143e+02\n",
      " * time: 1.0794780254364014\n",
      "    10     2.548853e+02     7.288703e+01\n",
      " * time: 1.1358511447906494\n",
      "    11     2.548317e+02     9.324727e+01\n",
      " * time: 2.8760790824890137\n",
      "    12     2.545221e+02     8.058466e+01\n",
      " * time: 2.932314157485962\n",
      "    13     2.541516e+02     7.683935e+01\n",
      " * time: 4.6612279415130615\n",
      "    14     2.391942e+02     4.566459e+02\n",
      " * time: 4.739678144454956\n",
      "    15     2.279248e+02     8.025075e+02\n",
      " * time: 4.81680703163147\n",
      "    16     2.146716e+02     9.541667e+02\n",
      " * time: 4.899878978729248\n",
      "    17     2.088534e+02     9.565734e+02\n",
      " * time: 4.953372001647949\n",
      "    18     2.014895e+02     8.413163e+02\n",
      " * time: 5.006006956100464\n",
      "    19     1.946747e+02     5.732801e+02\n",
      " * time: 5.059133052825928\n",
      "    20     1.894895e+02     2.544181e+01\n",
      " * time: 5.141371965408325\n",
      "    21     1.890705e+02     3.473560e+01\n",
      " * time: 5.219228982925415\n",
      "    22     1.879384e+02     3.615612e+01\n",
      " * time: 5.2724010944366455\n",
      "    23     1.851533e+02     6.928358e+01\n",
      " * time: 5.379534959793091\n",
      "    24     1.760954e+02     3.128530e+02\n",
      " * time: 5.458518028259277\n",
      "    25     1.737194e+02     3.845034e+02\n",
      " * time: 5.5601770877838135\n",
      "    26     1.603871e+02     5.090537e+02\n",
      " * time: 5.642296075820923\n",
      "    27     1.557143e+02     3.767325e+02\n",
      " * time: 5.720618963241577\n",
      "    28     1.539480e+02     4.674572e+01\n",
      " * time: 5.773007154464722\n",
      "    29     1.528170e+02     2.050118e+02\n",
      " * time: 5.881104946136475\n",
      "    30     1.487918e+02     3.242194e+02\n",
      " * time: 5.93464207649231\n",
      "    31     1.446463e+02     5.522219e+01\n",
      " * time: 6.011505126953125\n",
      "    32     1.443998e+02     6.645166e+01\n",
      " * time: 7.69796895980835\n",
      "    33     1.436532e+02     5.200033e+01\n",
      " * time: 9.238866090774536\n",
      "    34     1.425555e+02     7.062142e+01\n",
      " * time: 10.835607051849365\n",
      "    35     1.423773e+02     7.310787e+01\n",
      " * time: 12.481402158737183\n",
      "    36     1.421400e+02     6.068417e+01\n",
      " * time: 14.24751615524292\n",
      "    37     1.418133e+02     4.671109e+01\n",
      " * time: 16.110090017318726\n",
      "    38     1.417114e+02     4.122656e+01\n",
      " * time: 17.949727058410645\n",
      "    39     1.411208e+02     6.140723e+01\n",
      " * time: 19.725953102111816\n",
      "    40     1.410877e+02     6.166584e+01\n",
      " * time: 21.479501008987427\n",
      "    41     1.354001e+02     1.625870e+02\n",
      " * time: 21.562754154205322\n",
      "    42     1.172513e+02     1.826391e+02\n",
      " * time: 21.665913105010986\n",
      "    43     1.169938e+02     2.701138e+02\n",
      " * time: 21.74232316017151\n",
      "    44     1.152504e+02     6.673623e+01\n",
      " * time: 21.830459117889404\n",
      "    45     1.121653e+02     3.761476e+01\n",
      " * time: 21.910004138946533\n",
      "    46     1.115018e+02     2.860738e+01\n",
      " * time: 23.776036024093628\n",
      "    47     1.045554e+02     1.227547e+02\n",
      " * time: 23.86265206336975\n",
      "    48     1.031440e+02     1.117561e+02\n",
      " * time: 23.91968011856079\n",
      "    49     1.007521e+02     3.453945e+01\n",
      " * time: 24.018054962158203\n",
      "    50     9.863375e+01     1.003487e+02\n",
      " * time: 24.08777904510498\n",
      "    51     9.637287e+01     1.211439e+02\n",
      " * time: 24.217947959899902\n",
      "    52     9.626634e+01     5.149777e+01\n",
      " * time: 24.31116795539856\n",
      "    53     9.460975e+01     7.294067e+01\n",
      " * time: 24.39594006538391\n",
      "    54     9.332049e+01     6.604576e+01\n",
      " * time: 24.45270609855652\n",
      "    55     9.279682e+01     6.173081e+01\n",
      " * time: 24.508485078811646\n",
      "    56     9.120875e+01     4.685648e+01\n",
      " * time: 24.60087013244629\n",
      "    57     8.887951e+01     1.754150e+01\n",
      " * time: 24.65664005279541\n",
      "    58     8.753155e+01     5.556486e+00\n",
      " * time: 24.712132930755615\n",
      "    59     8.654746e+01     1.645907e+01\n",
      " * time: 24.76871109008789\n",
      "    60     8.654589e+01     1.618438e+01\n",
      " * time: 26.609813928604126\n",
      "    61     8.654354e+01     1.609278e+01\n",
      " * time: 28.400155067443848\n",
      "    62     8.646723e+01     5.415183e+00\n",
      " * time: 30.133635997772217\n",
      "    63     8.642368e+01     2.044373e+00\n",
      " * time: 30.191982984542847\n",
      "    64     8.641617e+01     2.126670e+00\n",
      " * time: 32.098775148391724\n",
      "    65     8.639604e+01     1.230089e+00\n",
      " * time: 32.15465211868286\n",
      "    66     8.639210e+01     1.588299e+00\n",
      " * time: 33.83578705787659\n",
      "    67     8.638957e+01     1.749037e+00\n",
      " * time: 35.4566969871521\n",
      "    68     8.638478e+01     1.999305e+00\n",
      " * time: 37.13514304161072\n",
      "    69     8.638276e+01     2.012968e+00\n",
      " * time: 38.817842960357666\n",
      "    70     8.634861e+01     5.379648e+00\n",
      " * time: 38.90646409988403\n",
      "    71     8.633583e+01     5.398089e+00\n",
      " * time: 40.49417805671692\n",
      "    72     8.628606e+01     4.007100e+00\n",
      " * time: 42.07191610336304\n",
      "    73     8.628167e+01     3.998776e+00\n",
      " * time: 43.74533414840698\n",
      "    74     8.628125e+01     3.983650e+00\n",
      " * time: 45.52620816230774\n",
      "    75     8.626905e+01     3.619959e+00\n",
      " * time: 47.24242305755615\n",
      "    76     8.620745e+01     4.384760e+00\n",
      " * time: 48.83842206001282\n",
      "    77     8.619721e+01     4.915789e+00\n",
      " * time: 48.92670702934265\n",
      "    78     8.619113e+01     1.447937e+00\n",
      " * time: 49.22285604476929\n",
      "    79     8.618881e+01     7.458668e-01\n",
      " * time: 49.446736097335815\n"
     ]
    }
   ],
   "source": [
    "using Optim\n",
    "\n",
    "data_x, data_y = learning_data(pl_dict, 1.0)\n",
    "res_babble = optimize(f, randn(12), LBFGS(), Optim.Options(store_trace = true, show_trace = true, f_tol=1e-12), autodiff=:forward);"
   ]
  },
  {
   "cell_type": "code",
   "execution_count": 27,
   "id": "cross-fourth",
   "metadata": {},
   "outputs": [
    {
     "name": "stdout",
     "output_type": "stream",
     "text": [
      "Iter     Function value   Gradient norm \n",
      "     0     2.409616e+03     1.690262e+03\n",
      " * time: 8.893013000488281e-5\n",
      "     1     1.361555e+03     5.350935e+02\n",
      " * time: 0.18096590042114258\n",
      "     2     6.606388e+02     6.147264e+02\n",
      " * time: 0.2675638198852539\n",
      "     3     3.640130e+02     3.803317e+02\n",
      " * time: 0.39049291610717773\n",
      "     4     1.450419e+02     9.888548e+01\n",
      " * time: 0.5116407871246338\n",
      "     5     1.085244e+02     8.319457e+01\n",
      " * time: 0.5974018573760986\n",
      "     6     9.336104e+01     6.453681e+01\n",
      " * time: 0.6893048286437988\n",
      "     7     8.892770e+01     1.928385e+01\n",
      " * time: 0.7458779811859131\n",
      "     8     8.796273e+01     3.023846e+01\n",
      " * time: 0.8333029747009277\n",
      "     9     8.535407e+01     2.396622e+01\n",
      " * time: 0.9704649448394775\n",
      "    10     8.447115e+01     1.478055e+01\n",
      " * time: 1.0333168506622314\n",
      "    11     8.356605e+01     1.452133e+01\n",
      " * time: 1.1265349388122559\n",
      "    12     8.272468e+01     1.165610e+01\n",
      " * time: 1.252830982208252\n",
      "    13     8.195918e+01     8.281360e+00\n",
      " * time: 1.3481779098510742\n",
      "    14     8.170041e+01     2.285445e+00\n",
      " * time: 1.4132678508758545\n",
      "    15     8.164179e+01     6.603627e+00\n",
      " * time: 1.5528569221496582\n",
      "    16     8.153789e+01     8.484571e+00\n",
      " * time: 1.647458791732788\n",
      "    17     8.140824e+01     6.528760e+00\n",
      " * time: 1.7096879482269287\n",
      "    18     7.918058e+01     3.443056e+01\n",
      " * time: 1.9469878673553467\n",
      "    19     7.865282e+01     1.105373e+01\n",
      " * time: 2.1572089195251465\n",
      "    20     7.734817e+01     1.356666e+01\n",
      " * time: 2.2234268188476562\n",
      "    21     7.680513e+01     9.807838e+00\n",
      " * time: 2.2889978885650635\n",
      "    22     7.644623e+01     9.804385e+00\n",
      " * time: 4.230072021484375\n",
      "    23     7.644623e+01     9.804373e+00\n",
      " * time: 6.267552852630615\n",
      "    24     7.631138e+01     9.798140e+00\n",
      " * time: 8.208562850952148\n",
      "    25     7.579170e+01     9.792551e+00\n",
      " * time: 10.086488008499146\n",
      "    26     7.570434e+01     1.124448e+01\n",
      " * time: 11.940006971359253\n",
      "    27     7.521264e+01     1.312080e+01\n",
      " * time: 14.255897998809814\n",
      "    28     7.521264e+01     1.312080e+01\n",
      " * time: 16.671960830688477\n",
      "    29     7.521264e+01     1.312080e+01\n",
      " * time: 19.23990797996521\n",
      "    30     7.521264e+01     1.312080e+01\n",
      " * time: 21.40122079849243\n",
      "    31     7.521264e+01     1.312080e+01\n",
      " * time: 23.812564849853516\n",
      "    32     7.521264e+01     1.312080e+01\n",
      " * time: 26.349815845489502\n"
     ]
    }
   ],
   "source": [
    "data_x, data_y = learning_data(pl_dict, 0.0)\n",
    "res_train = optimize(f, randn(12), LBFGS(), Optim.Options(store_trace = true, show_trace = true, f_tol=1e-12), autodiff=:forward);"
   ]
  },
  {
   "cell_type": "code",
   "execution_count": 22,
   "id": "whole-storage",
   "metadata": {},
   "outputs": [
    {
     "data": {
      "text/plain": [
       "dat_to_col (generic function with 1 method)"
      ]
     },
     "execution_count": 22,
     "metadata": {},
     "output_type": "execute_result"
    }
   ],
   "source": [
    "dat_to_col(data) = map(x -> x == 1 ? \"red\" : \"blue\", Int64.(round.(data)))"
   ]
  },
  {
   "cell_type": "code",
   "execution_count": 20,
   "id": "explicit-poultry",
   "metadata": {
    "tags": []
   },
   "outputs": [
    {
     "data": {
      "image/svg+xml": [
       "<?xml version=\"1.0\" encoding=\"utf-8\"?>\n",
       "<svg xmlns=\"http://www.w3.org/2000/svg\" xmlns:xlink=\"http://www.w3.org/1999/xlink\" width=\"1600\" height=\"400\" viewBox=\"0 0 6400 1600\">\n",
       "<defs>\n",
       "  <clipPath id=\"clip710\">\n",
       "    <rect x=\"0\" y=\"0\" width=\"6400\" height=\"1600\"/>\n",
       "  </clipPath>\n",
       "</defs>\n",
       "<path clip-path=\"url(#clip710)\" d=\"\n",
       "M0 1600 L6400 1600 L6400 0 L0 0  Z\n",
       "  \" fill=\"#ffffff\" fill-rule=\"evenodd\" fill-opacity=\"1\"/>\n",
       "<defs>\n",
       "  <clipPath id=\"clip711\">\n",
       "    <rect x=\"1280\" y=\"0\" width=\"4481\" height=\"1600\"/>\n",
       "  </clipPath>\n",
       "</defs>\n",
       "<path clip-path=\"url(#clip710)\" d=\"\n",
       "M226.274 1508.05 L2108.23 1508.05 L2108.23 47.2441 L226.274 47.2441  Z\n",
       "  \" fill=\"#ffffff\" fill-rule=\"evenodd\" fill-opacity=\"1\"/>\n",
       "<defs>\n",
       "  <clipPath id=\"clip712\">\n",
       "    <rect x=\"226\" y=\"47\" width=\"1883\" height=\"1462\"/>\n",
       "  </clipPath>\n",
       "</defs>\n",
       "<polyline clip-path=\"url(#clip712)\" style=\"stroke:#000000; stroke-linecap:butt; stroke-linejoin:round; stroke-width:2; stroke-opacity:0.1; fill:none\" points=\"\n",
       "  546.016,1508.05 546.016,47.2441 \n",
       "  \"/>\n",
       "<polyline clip-path=\"url(#clip712)\" style=\"stroke:#000000; stroke-linecap:butt; stroke-linejoin:round; stroke-width:2; stroke-opacity:0.1; fill:none\" points=\"\n",
       "  917.518,1508.05 917.518,47.2441 \n",
       "  \"/>\n",
       "<polyline clip-path=\"url(#clip712)\" style=\"stroke:#000000; stroke-linecap:butt; stroke-linejoin:round; stroke-width:2; stroke-opacity:0.1; fill:none\" points=\"\n",
       "  1289.02,1508.05 1289.02,47.2441 \n",
       "  \"/>\n",
       "<polyline clip-path=\"url(#clip712)\" style=\"stroke:#000000; stroke-linecap:butt; stroke-linejoin:round; stroke-width:2; stroke-opacity:0.1; fill:none\" points=\"\n",
       "  1660.52,1508.05 1660.52,47.2441 \n",
       "  \"/>\n",
       "<polyline clip-path=\"url(#clip712)\" style=\"stroke:#000000; stroke-linecap:butt; stroke-linejoin:round; stroke-width:2; stroke-opacity:0.1; fill:none\" points=\"\n",
       "  2032.02,1508.05 2032.02,47.2441 \n",
       "  \"/>\n",
       "<polyline clip-path=\"url(#clip710)\" style=\"stroke:#000000; stroke-linecap:butt; stroke-linejoin:round; stroke-width:4; stroke-opacity:1; fill:none\" points=\"\n",
       "  226.274,1508.05 2108.23,1508.05 \n",
       "  \"/>\n",
       "<polyline clip-path=\"url(#clip710)\" style=\"stroke:#000000; stroke-linecap:butt; stroke-linejoin:round; stroke-width:4; stroke-opacity:1; fill:none\" points=\"\n",
       "  546.016,1508.05 546.016,1489.15 \n",
       "  \"/>\n",
       "<polyline clip-path=\"url(#clip710)\" style=\"stroke:#000000; stroke-linecap:butt; stroke-linejoin:round; stroke-width:4; stroke-opacity:1; fill:none\" points=\"\n",
       "  917.518,1508.05 917.518,1489.15 \n",
       "  \"/>\n",
       "<polyline clip-path=\"url(#clip710)\" style=\"stroke:#000000; stroke-linecap:butt; stroke-linejoin:round; stroke-width:4; stroke-opacity:1; fill:none\" points=\"\n",
       "  1289.02,1508.05 1289.02,1489.15 \n",
       "  \"/>\n",
       "<polyline clip-path=\"url(#clip710)\" style=\"stroke:#000000; stroke-linecap:butt; stroke-linejoin:round; stroke-width:4; stroke-opacity:1; fill:none\" points=\"\n",
       "  1660.52,1508.05 1660.52,1489.15 \n",
       "  \"/>\n",
       "<polyline clip-path=\"url(#clip710)\" style=\"stroke:#000000; stroke-linecap:butt; stroke-linejoin:round; stroke-width:4; stroke-opacity:1; fill:none\" points=\"\n",
       "  2032.02,1508.05 2032.02,1489.15 \n",
       "  \"/>\n",
       "<path clip-path=\"url(#clip710)\" d=\"M523.898 1569.24 Q520.287 1569.24 518.458 1572.8 Q516.653 1576.35 516.653 1583.47 Q516.653 1590.58 518.458 1594.15 Q520.287 1597.69 523.898 1597.69 Q527.532 1597.69 529.338 1594.15 Q531.166 1590.58 531.166 1583.47 Q531.166 1576.35 529.338 1572.8 Q527.532 1569.24 523.898 1569.24 M523.898 1565.53 Q529.708 1565.53 532.764 1570.14 Q535.842 1574.72 535.842 1583.47 Q535.842 1592.2 532.764 1596.81 Q529.708 1601.39 523.898 1601.39 Q518.088 1601.39 515.009 1596.81 Q511.954 1592.2 511.954 1583.47 Q511.954 1574.72 515.009 1570.14 Q518.088 1565.53 523.898 1565.53 Z\" fill=\"#000000\" fill-rule=\"evenodd\" fill-opacity=\"1\" /><path clip-path=\"url(#clip710)\" d=\"M544.06 1594.84 L548.944 1594.84 L548.944 1600.72 L544.06 1600.72 L544.06 1594.84 Z\" fill=\"#000000\" fill-rule=\"evenodd\" fill-opacity=\"1\" /><path clip-path=\"url(#clip710)\" d=\"M559.176 1566.16 L577.532 1566.16 L577.532 1570.1 L563.458 1570.1 L563.458 1578.57 Q564.476 1578.22 565.495 1578.06 Q566.513 1577.87 567.532 1577.87 Q573.319 1577.87 576.699 1581.04 Q580.078 1584.22 580.078 1589.63 Q580.078 1595.21 576.606 1598.31 Q573.134 1601.39 566.814 1601.39 Q564.638 1601.39 562.37 1601.02 Q560.125 1600.65 557.717 1599.91 L557.717 1595.21 Q559.801 1596.34 562.023 1596.9 Q564.245 1597.46 566.722 1597.46 Q570.726 1597.46 573.064 1595.35 Q575.402 1593.24 575.402 1589.63 Q575.402 1586.02 573.064 1583.91 Q570.726 1581.81 566.722 1581.81 Q564.847 1581.81 562.972 1582.22 Q561.12 1582.64 559.176 1583.52 L559.176 1566.16 Z\" fill=\"#000000\" fill-rule=\"evenodd\" fill-opacity=\"1\" /><path clip-path=\"url(#clip710)\" d=\"M884.67 1596.78 L892.309 1596.78 L892.309 1570.42 L883.999 1572.09 L883.999 1567.83 L892.263 1566.16 L896.939 1566.16 L896.939 1596.78 L904.578 1596.78 L904.578 1600.72 L884.67 1600.72 L884.67 1596.78 Z\" fill=\"#000000\" fill-rule=\"evenodd\" fill-opacity=\"1\" /><path clip-path=\"url(#clip710)\" d=\"M914.022 1594.84 L918.906 1594.84 L918.906 1600.72 L914.022 1600.72 L914.022 1594.84 Z\" fill=\"#000000\" fill-rule=\"evenodd\" fill-opacity=\"1\" /><path clip-path=\"url(#clip710)\" d=\"M939.091 1569.24 Q935.48 1569.24 933.652 1572.8 Q931.846 1576.35 931.846 1583.47 Q931.846 1590.58 933.652 1594.15 Q935.48 1597.69 939.091 1597.69 Q942.726 1597.69 944.531 1594.15 Q946.36 1590.58 946.36 1583.47 Q946.36 1576.35 944.531 1572.8 Q942.726 1569.24 939.091 1569.24 M939.091 1565.53 Q944.902 1565.53 947.957 1570.14 Q951.036 1574.72 951.036 1583.47 Q951.036 1592.2 947.957 1596.81 Q944.902 1601.39 939.091 1601.39 Q933.281 1601.39 930.203 1596.81 Q927.147 1592.2 927.147 1583.47 Q927.147 1574.72 930.203 1570.14 Q933.281 1565.53 939.091 1565.53 Z\" fill=\"#000000\" fill-rule=\"evenodd\" fill-opacity=\"1\" /><path clip-path=\"url(#clip710)\" d=\"M1256.67 1596.78 L1264.31 1596.78 L1264.31 1570.42 L1256 1572.09 L1256 1567.83 L1264.26 1566.16 L1268.94 1566.16 L1268.94 1596.78 L1276.58 1596.78 L1276.58 1600.72 L1256.67 1600.72 L1256.67 1596.78 Z\" fill=\"#000000\" fill-rule=\"evenodd\" fill-opacity=\"1\" /><path clip-path=\"url(#clip710)\" d=\"M1286.02 1594.84 L1290.91 1594.84 L1290.91 1600.72 L1286.02 1600.72 L1286.02 1594.84 Z\" fill=\"#000000\" fill-rule=\"evenodd\" fill-opacity=\"1\" /><path clip-path=\"url(#clip710)\" d=\"M1301.14 1566.16 L1319.49 1566.16 L1319.49 1570.1 L1305.42 1570.1 L1305.42 1578.57 Q1306.44 1578.22 1307.46 1578.06 Q1308.48 1577.87 1309.49 1577.87 Q1315.28 1577.87 1318.66 1581.04 Q1322.04 1584.22 1322.04 1589.63 Q1322.04 1595.21 1318.57 1598.31 Q1315.1 1601.39 1308.78 1601.39 Q1306.6 1601.39 1304.33 1601.02 Q1302.09 1600.65 1299.68 1599.91 L1299.68 1595.21 Q1301.76 1596.34 1303.98 1596.9 Q1306.21 1597.46 1308.68 1597.46 Q1312.69 1597.46 1315.03 1595.35 Q1317.36 1593.24 1317.36 1589.63 Q1317.36 1586.02 1315.03 1583.91 Q1312.69 1581.81 1308.68 1581.81 Q1306.81 1581.81 1304.93 1582.22 Q1303.08 1582.64 1301.14 1583.52 L1301.14 1566.16 Z\" fill=\"#000000\" fill-rule=\"evenodd\" fill-opacity=\"1\" /><path clip-path=\"url(#clip710)\" d=\"M1631.76 1596.78 L1648.08 1596.78 L1648.08 1600.72 L1626.13 1600.72 L1626.13 1596.78 Q1628.8 1594.03 1633.38 1589.4 Q1637.99 1584.75 1639.17 1583.41 Q1641.41 1580.88 1642.29 1579.15 Q1643.19 1577.39 1643.19 1575.7 Q1643.19 1572.94 1641.25 1571.21 Q1639.33 1569.47 1636.23 1569.47 Q1634.03 1569.47 1631.57 1570.23 Q1629.14 1571 1626.37 1572.55 L1626.37 1567.83 Q1629.19 1566.69 1631.64 1566.11 Q1634.1 1565.53 1636.13 1565.53 Q1641.5 1565.53 1644.7 1568.22 Q1647.89 1570.91 1647.89 1575.4 Q1647.89 1577.53 1647.08 1579.45 Q1646.3 1581.34 1644.19 1583.94 Q1643.61 1584.61 1640.51 1587.83 Q1637.41 1591.02 1631.76 1596.78 Z\" fill=\"#000000\" fill-rule=\"evenodd\" fill-opacity=\"1\" /><path clip-path=\"url(#clip710)\" d=\"M1657.89 1594.84 L1662.78 1594.84 L1662.78 1600.72 L1657.89 1600.72 L1657.89 1594.84 Z\" fill=\"#000000\" fill-rule=\"evenodd\" fill-opacity=\"1\" /><path clip-path=\"url(#clip710)\" d=\"M1682.96 1569.24 Q1679.35 1569.24 1677.52 1572.8 Q1675.72 1576.35 1675.72 1583.47 Q1675.72 1590.58 1677.52 1594.15 Q1679.35 1597.69 1682.96 1597.69 Q1686.6 1597.69 1688.4 1594.15 Q1690.23 1590.58 1690.23 1583.47 Q1690.23 1576.35 1688.4 1572.8 Q1686.6 1569.24 1682.96 1569.24 M1682.96 1565.53 Q1688.77 1565.53 1691.83 1570.14 Q1694.91 1574.72 1694.91 1583.47 Q1694.91 1592.2 1691.83 1596.81 Q1688.77 1601.39 1682.96 1601.39 Q1677.15 1601.39 1674.07 1596.81 Q1671.02 1592.2 1671.02 1583.47 Q1671.02 1574.72 1674.07 1570.14 Q1677.15 1565.53 1682.96 1565.53 Z\" fill=\"#000000\" fill-rule=\"evenodd\" fill-opacity=\"1\" /><path clip-path=\"url(#clip710)\" d=\"M2003.76 1596.78 L2020.08 1596.78 L2020.08 1600.72 L1998.13 1600.72 L1998.13 1596.78 Q2000.8 1594.03 2005.38 1589.4 Q2009.99 1584.75 2011.17 1583.41 Q2013.41 1580.88 2014.29 1579.15 Q2015.19 1577.39 2015.19 1575.7 Q2015.19 1572.94 2013.25 1571.21 Q2011.33 1569.47 2008.23 1569.47 Q2006.03 1569.47 2003.57 1570.23 Q2001.14 1571 1998.37 1572.55 L1998.37 1567.83 Q2001.19 1566.69 2003.64 1566.11 Q2006.1 1565.53 2008.13 1565.53 Q2013.5 1565.53 2016.7 1568.22 Q2019.89 1570.91 2019.89 1575.4 Q2019.89 1577.53 2019.08 1579.45 Q2018.3 1581.34 2016.19 1583.94 Q2015.61 1584.61 2012.51 1587.83 Q2009.41 1591.02 2003.76 1596.78 Z\" fill=\"#000000\" fill-rule=\"evenodd\" fill-opacity=\"1\" /><path clip-path=\"url(#clip710)\" d=\"M2029.89 1594.84 L2034.78 1594.84 L2034.78 1600.72 L2029.89 1600.72 L2029.89 1594.84 Z\" fill=\"#000000\" fill-rule=\"evenodd\" fill-opacity=\"1\" /><path clip-path=\"url(#clip710)\" d=\"M2045.01 1566.16 L2063.36 1566.16 L2063.36 1570.1 L2049.29 1570.1 L2049.29 1578.57 Q2050.31 1578.22 2051.33 1578.06 Q2052.35 1577.87 2053.36 1577.87 Q2059.15 1577.87 2062.53 1581.04 Q2065.91 1584.22 2065.91 1589.63 Q2065.91 1595.21 2062.44 1598.31 Q2058.97 1601.39 2052.65 1601.39 Q2050.47 1601.39 2048.2 1601.02 Q2045.96 1600.65 2043.55 1599.91 L2043.55 1595.21 Q2045.63 1596.34 2047.86 1596.9 Q2050.08 1597.46 2052.55 1597.46 Q2056.56 1597.46 2058.9 1595.35 Q2061.24 1593.24 2061.24 1589.63 Q2061.24 1586.02 2058.9 1583.91 Q2056.56 1581.81 2052.55 1581.81 Q2050.68 1581.81 2048.8 1582.22 Q2046.95 1582.64 2045.01 1583.52 L2045.01 1566.16 Z\" fill=\"#000000\" fill-rule=\"evenodd\" fill-opacity=\"1\" /><polyline clip-path=\"url(#clip712)\" style=\"stroke:#000000; stroke-linecap:butt; stroke-linejoin:round; stroke-width:2; stroke-opacity:0.1; fill:none\" points=\"\n",
       "  226.274,1370.01 2108.23,1370.01 \n",
       "  \"/>\n",
       "<polyline clip-path=\"url(#clip712)\" style=\"stroke:#000000; stroke-linecap:butt; stroke-linejoin:round; stroke-width:2; stroke-opacity:0.1; fill:none\" points=\"\n",
       "  226.274,1059.7 2108.23,1059.7 \n",
       "  \"/>\n",
       "<polyline clip-path=\"url(#clip712)\" style=\"stroke:#000000; stroke-linecap:butt; stroke-linejoin:round; stroke-width:2; stroke-opacity:0.1; fill:none\" points=\"\n",
       "  226.274,749.387 2108.23,749.387 \n",
       "  \"/>\n",
       "<polyline clip-path=\"url(#clip712)\" style=\"stroke:#000000; stroke-linecap:butt; stroke-linejoin:round; stroke-width:2; stroke-opacity:0.1; fill:none\" points=\"\n",
       "  226.274,439.077 2108.23,439.077 \n",
       "  \"/>\n",
       "<polyline clip-path=\"url(#clip712)\" style=\"stroke:#000000; stroke-linecap:butt; stroke-linejoin:round; stroke-width:2; stroke-opacity:0.1; fill:none\" points=\"\n",
       "  226.274,128.768 2108.23,128.768 \n",
       "  \"/>\n",
       "<polyline clip-path=\"url(#clip710)\" style=\"stroke:#000000; stroke-linecap:butt; stroke-linejoin:round; stroke-width:4; stroke-opacity:1; fill:none\" points=\"\n",
       "  226.274,1508.05 226.274,47.2441 \n",
       "  \"/>\n",
       "<polyline clip-path=\"url(#clip710)\" style=\"stroke:#000000; stroke-linecap:butt; stroke-linejoin:round; stroke-width:4; stroke-opacity:1; fill:none\" points=\"\n",
       "  226.274,1370.01 245.172,1370.01 \n",
       "  \"/>\n",
       "<polyline clip-path=\"url(#clip710)\" style=\"stroke:#000000; stroke-linecap:butt; stroke-linejoin:round; stroke-width:4; stroke-opacity:1; fill:none\" points=\"\n",
       "  226.274,1059.7 245.172,1059.7 \n",
       "  \"/>\n",
       "<polyline clip-path=\"url(#clip710)\" style=\"stroke:#000000; stroke-linecap:butt; stroke-linejoin:round; stroke-width:4; stroke-opacity:1; fill:none\" points=\"\n",
       "  226.274,749.387 245.172,749.387 \n",
       "  \"/>\n",
       "<polyline clip-path=\"url(#clip710)\" style=\"stroke:#000000; stroke-linecap:butt; stroke-linejoin:round; stroke-width:4; stroke-opacity:1; fill:none\" points=\"\n",
       "  226.274,439.077 245.172,439.077 \n",
       "  \"/>\n",
       "<polyline clip-path=\"url(#clip710)\" style=\"stroke:#000000; stroke-linecap:butt; stroke-linejoin:round; stroke-width:4; stroke-opacity:1; fill:none\" points=\"\n",
       "  226.274,128.768 245.172,128.768 \n",
       "  \"/>\n",
       "<path clip-path=\"url(#clip710)\" d=\"M42.9365 1355.8 Q39.3254 1355.8 37.4967 1359.37 Q35.6912 1362.91 35.6912 1370.04 Q35.6912 1377.15 37.4967 1380.71 Q39.3254 1384.25 42.9365 1384.25 Q46.5707 1384.25 48.3763 1380.71 Q50.205 1377.15 50.205 1370.04 Q50.205 1362.91 48.3763 1359.37 Q46.5707 1355.8 42.9365 1355.8 M42.9365 1352.1 Q48.7467 1352.1 51.8022 1356.71 Q54.8809 1361.29 54.8809 1370.04 Q54.8809 1378.77 51.8022 1383.37 Q48.7467 1387.96 42.9365 1387.96 Q37.1264 1387.96 34.0477 1383.37 Q30.9921 1378.77 30.9921 1370.04 Q30.9921 1361.29 34.0477 1356.71 Q37.1264 1352.1 42.9365 1352.1 Z\" fill=\"#000000\" fill-rule=\"evenodd\" fill-opacity=\"1\" /><path clip-path=\"url(#clip710)\" d=\"M63.0984 1381.41 L67.9827 1381.41 L67.9827 1387.29 L63.0984 1387.29 L63.0984 1381.41 Z\" fill=\"#000000\" fill-rule=\"evenodd\" fill-opacity=\"1\" /><path clip-path=\"url(#clip710)\" d=\"M88.1677 1355.8 Q84.5567 1355.8 82.728 1359.37 Q80.9224 1362.91 80.9224 1370.04 Q80.9224 1377.15 82.728 1380.71 Q84.5567 1384.25 88.1677 1384.25 Q91.802 1384.25 93.6075 1380.71 Q95.4362 1377.15 95.4362 1370.04 Q95.4362 1362.91 93.6075 1359.37 Q91.802 1355.8 88.1677 1355.8 M88.1677 1352.1 Q93.9779 1352.1 97.0334 1356.71 Q100.112 1361.29 100.112 1370.04 Q100.112 1378.77 97.0334 1383.37 Q93.9779 1387.96 88.1677 1387.96 Q82.3576 1387.96 79.2789 1383.37 Q76.2234 1378.77 76.2234 1370.04 Q76.2234 1361.29 79.2789 1356.71 Q82.3576 1352.1 88.1677 1352.1 Z\" fill=\"#000000\" fill-rule=\"evenodd\" fill-opacity=\"1\" /><path clip-path=\"url(#clip710)\" d=\"M118.33 1355.8 Q114.719 1355.8 112.89 1359.37 Q111.084 1362.91 111.084 1370.04 Q111.084 1377.15 112.89 1380.71 Q114.719 1384.25 118.33 1384.25 Q121.964 1384.25 123.769 1380.71 Q125.598 1377.15 125.598 1370.04 Q125.598 1362.91 123.769 1359.37 Q121.964 1355.8 118.33 1355.8 M118.33 1352.1 Q124.14 1352.1 127.195 1356.71 Q130.274 1361.29 130.274 1370.04 Q130.274 1378.77 127.195 1383.37 Q124.14 1387.96 118.33 1387.96 Q112.519 1387.96 109.441 1383.37 Q106.385 1378.77 106.385 1370.04 Q106.385 1361.29 109.441 1356.71 Q112.519 1352.1 118.33 1352.1 Z\" fill=\"#000000\" fill-rule=\"evenodd\" fill-opacity=\"1\" /><path clip-path=\"url(#clip710)\" d=\"M43.9319 1045.5 Q40.3208 1045.5 38.4921 1049.06 Q36.6865 1052.6 36.6865 1059.73 Q36.6865 1066.84 38.4921 1070.4 Q40.3208 1073.94 43.9319 1073.94 Q47.5661 1073.94 49.3717 1070.4 Q51.2004 1066.84 51.2004 1059.73 Q51.2004 1052.6 49.3717 1049.06 Q47.5661 1045.5 43.9319 1045.5 M43.9319 1041.79 Q49.742 1041.79 52.7976 1046.4 Q55.8763 1050.98 55.8763 1059.73 Q55.8763 1068.46 52.7976 1073.06 Q49.742 1077.65 43.9319 1077.65 Q38.1217 1077.65 35.043 1073.06 Q31.9875 1068.46 31.9875 1059.73 Q31.9875 1050.98 35.043 1046.4 Q38.1217 1041.79 43.9319 1041.79 Z\" fill=\"#000000\" fill-rule=\"evenodd\" fill-opacity=\"1\" /><path clip-path=\"url(#clip710)\" d=\"M64.0938 1071.1 L68.978 1071.1 L68.978 1076.98 L64.0938 1076.98 L64.0938 1071.1 Z\" fill=\"#000000\" fill-rule=\"evenodd\" fill-opacity=\"1\" /><path clip-path=\"url(#clip710)\" d=\"M83.1909 1073.04 L99.5103 1073.04 L99.5103 1076.98 L77.566 1076.98 L77.566 1073.04 Q80.228 1070.29 84.8113 1065.66 Q89.4177 1061 90.5983 1059.66 Q92.8436 1057.14 93.7233 1055.4 Q94.626 1053.64 94.626 1051.95 Q94.626 1049.2 92.6816 1047.46 Q90.7603 1045.73 87.6585 1045.73 Q85.4594 1045.73 83.0057 1046.49 Q80.5752 1047.25 77.7974 1048.81 L77.7974 1044.08 Q80.6215 1042.95 83.0752 1042.37 Q85.5289 1041.79 87.5659 1041.79 Q92.9362 1041.79 96.1307 1044.48 Q99.3251 1047.16 99.3251 1051.65 Q99.3251 1053.78 98.5149 1055.7 Q97.7279 1057.6 95.6214 1060.19 Q95.0427 1060.87 91.9409 1064.08 Q88.839 1067.28 83.1909 1073.04 Z\" fill=\"#000000\" fill-rule=\"evenodd\" fill-opacity=\"1\" /><path clip-path=\"url(#clip710)\" d=\"M109.371 1042.42 L127.728 1042.42 L127.728 1046.35 L113.654 1046.35 L113.654 1054.82 Q114.672 1054.48 115.691 1054.31 Q116.709 1054.13 117.728 1054.13 Q123.515 1054.13 126.894 1057.3 Q130.274 1060.47 130.274 1065.89 Q130.274 1071.47 126.802 1074.57 Q123.33 1077.65 117.01 1077.65 Q114.834 1077.65 112.566 1077.28 Q110.32 1076.91 107.913 1076.17 L107.913 1071.47 Q109.996 1072.6 112.219 1073.16 Q114.441 1073.71 116.918 1073.71 Q120.922 1073.71 123.26 1071.61 Q125.598 1069.5 125.598 1065.89 Q125.598 1062.28 123.26 1060.17 Q120.922 1058.06 116.918 1058.06 Q115.043 1058.06 113.168 1058.48 Q111.316 1058.9 109.371 1059.78 L109.371 1042.42 Z\" fill=\"#000000\" fill-rule=\"evenodd\" fill-opacity=\"1\" /><path clip-path=\"url(#clip710)\" d=\"M42.9365 735.186 Q39.3254 735.186 37.4967 738.751 Q35.6912 742.292 35.6912 749.422 Q35.6912 756.528 37.4967 760.093 Q39.3254 763.635 42.9365 763.635 Q46.5707 763.635 48.3763 760.093 Q50.205 756.528 50.205 749.422 Q50.205 742.292 48.3763 738.751 Q46.5707 735.186 42.9365 735.186 M42.9365 731.482 Q48.7467 731.482 51.8022 736.089 Q54.8809 740.672 54.8809 749.422 Q54.8809 758.149 51.8022 762.755 Q48.7467 767.338 42.9365 767.338 Q37.1264 767.338 34.0477 762.755 Q30.9921 758.149 30.9921 749.422 Q30.9921 740.672 34.0477 736.089 Q37.1264 731.482 42.9365 731.482 Z\" fill=\"#000000\" fill-rule=\"evenodd\" fill-opacity=\"1\" /><path clip-path=\"url(#clip710)\" d=\"M63.0984 760.787 L67.9827 760.787 L67.9827 766.667 L63.0984 766.667 L63.0984 760.787 Z\" fill=\"#000000\" fill-rule=\"evenodd\" fill-opacity=\"1\" /><path clip-path=\"url(#clip710)\" d=\"M78.2141 732.107 L96.5705 732.107 L96.5705 736.042 L82.4965 736.042 L82.4965 744.514 Q83.515 744.167 84.5335 744.005 Q85.552 743.82 86.5705 743.82 Q92.3575 743.82 95.7371 746.991 Q99.1168 750.163 99.1168 755.579 Q99.1168 761.158 95.6446 764.26 Q92.1724 767.338 85.8529 767.338 Q83.677 767.338 81.4085 766.968 Q79.1632 766.598 76.7558 765.857 L76.7558 761.158 Q78.8391 762.292 81.0613 762.848 Q83.2835 763.403 85.7604 763.403 Q89.765 763.403 92.1029 761.297 Q94.4409 759.19 94.4409 755.579 Q94.4409 751.968 92.1029 749.862 Q89.765 747.755 85.7604 747.755 Q83.8854 747.755 82.0104 748.172 Q80.1585 748.588 78.2141 749.468 L78.2141 732.107 Z\" fill=\"#000000\" fill-rule=\"evenodd\" fill-opacity=\"1\" /><path clip-path=\"url(#clip710)\" d=\"M118.33 735.186 Q114.719 735.186 112.89 738.751 Q111.084 742.292 111.084 749.422 Q111.084 756.528 112.89 760.093 Q114.719 763.635 118.33 763.635 Q121.964 763.635 123.769 760.093 Q125.598 756.528 125.598 749.422 Q125.598 742.292 123.769 738.751 Q121.964 735.186 118.33 735.186 M118.33 731.482 Q124.14 731.482 127.195 736.089 Q130.274 740.672 130.274 749.422 Q130.274 758.149 127.195 762.755 Q124.14 767.338 118.33 767.338 Q112.519 767.338 109.441 762.755 Q106.385 758.149 106.385 749.422 Q106.385 740.672 109.441 736.089 Q112.519 731.482 118.33 731.482 Z\" fill=\"#000000\" fill-rule=\"evenodd\" fill-opacity=\"1\" /><path clip-path=\"url(#clip710)\" d=\"M43.9319 424.876 Q40.3208 424.876 38.4921 428.441 Q36.6865 431.983 36.6865 439.112 Q36.6865 446.219 38.4921 449.783 Q40.3208 453.325 43.9319 453.325 Q47.5661 453.325 49.3717 449.783 Q51.2004 446.219 51.2004 439.112 Q51.2004 431.983 49.3717 428.441 Q47.5661 424.876 43.9319 424.876 M43.9319 421.172 Q49.742 421.172 52.7976 425.779 Q55.8763 430.362 55.8763 439.112 Q55.8763 447.839 52.7976 452.445 Q49.742 457.029 43.9319 457.029 Q38.1217 457.029 35.043 452.445 Q31.9875 447.839 31.9875 439.112 Q31.9875 430.362 35.043 425.779 Q38.1217 421.172 43.9319 421.172 Z\" fill=\"#000000\" fill-rule=\"evenodd\" fill-opacity=\"1\" /><path clip-path=\"url(#clip710)\" d=\"M64.0938 450.478 L68.978 450.478 L68.978 456.357 L64.0938 456.357 L64.0938 450.478 Z\" fill=\"#000000\" fill-rule=\"evenodd\" fill-opacity=\"1\" /><path clip-path=\"url(#clip710)\" d=\"M77.9826 421.797 L100.205 421.797 L100.205 423.788 L87.6585 456.357 L82.7743 456.357 L94.5797 425.733 L77.9826 425.733 L77.9826 421.797 Z\" fill=\"#000000\" fill-rule=\"evenodd\" fill-opacity=\"1\" /><path clip-path=\"url(#clip710)\" d=\"M109.371 421.797 L127.728 421.797 L127.728 425.733 L113.654 425.733 L113.654 434.205 Q114.672 433.858 115.691 433.696 Q116.709 433.51 117.728 433.51 Q123.515 433.51 126.894 436.682 Q130.274 439.853 130.274 445.27 Q130.274 450.848 126.802 453.95 Q123.33 457.029 117.01 457.029 Q114.834 457.029 112.566 456.658 Q110.32 456.288 107.913 455.547 L107.913 450.848 Q109.996 451.982 112.219 452.538 Q114.441 453.094 116.918 453.094 Q120.922 453.094 123.26 450.987 Q125.598 448.881 125.598 445.27 Q125.598 441.658 123.26 439.552 Q120.922 437.446 116.918 437.446 Q115.043 437.446 113.168 437.862 Q111.316 438.279 109.371 439.158 L109.371 421.797 Z\" fill=\"#000000\" fill-rule=\"evenodd\" fill-opacity=\"1\" /><path clip-path=\"url(#clip710)\" d=\"M33.7467 142.113 L41.3856 142.113 L41.3856 115.747 L33.0754 117.414 L33.0754 113.155 L41.3393 111.488 L46.0152 111.488 L46.0152 142.113 L53.654 142.113 L53.654 146.048 L33.7467 146.048 L33.7467 142.113 Z\" fill=\"#000000\" fill-rule=\"evenodd\" fill-opacity=\"1\" /><path clip-path=\"url(#clip710)\" d=\"M63.0984 140.168 L67.9827 140.168 L67.9827 146.048 L63.0984 146.048 L63.0984 140.168 Z\" fill=\"#000000\" fill-rule=\"evenodd\" fill-opacity=\"1\" /><path clip-path=\"url(#clip710)\" d=\"M88.1677 114.567 Q84.5567 114.567 82.728 118.131 Q80.9224 121.673 80.9224 128.803 Q80.9224 135.909 82.728 139.474 Q84.5567 143.015 88.1677 143.015 Q91.802 143.015 93.6075 139.474 Q95.4362 135.909 95.4362 128.803 Q95.4362 121.673 93.6075 118.131 Q91.802 114.567 88.1677 114.567 M88.1677 110.863 Q93.9779 110.863 97.0334 115.469 Q100.112 120.053 100.112 128.803 Q100.112 137.529 97.0334 142.136 Q93.9779 146.719 88.1677 146.719 Q82.3576 146.719 79.2789 142.136 Q76.2234 137.529 76.2234 128.803 Q76.2234 120.053 79.2789 115.469 Q82.3576 110.863 88.1677 110.863 Z\" fill=\"#000000\" fill-rule=\"evenodd\" fill-opacity=\"1\" /><path clip-path=\"url(#clip710)\" d=\"M118.33 114.567 Q114.719 114.567 112.89 118.131 Q111.084 121.673 111.084 128.803 Q111.084 135.909 112.89 139.474 Q114.719 143.015 118.33 143.015 Q121.964 143.015 123.769 139.474 Q125.598 135.909 125.598 128.803 Q125.598 121.673 123.769 118.131 Q121.964 114.567 118.33 114.567 M118.33 110.863 Q124.14 110.863 127.195 115.469 Q130.274 120.053 130.274 128.803 Q130.274 137.529 127.195 142.136 Q124.14 146.719 118.33 146.719 Q112.519 146.719 109.441 142.136 Q106.385 137.529 106.385 128.803 Q106.385 120.053 109.441 115.469 Q112.519 110.863 118.33 110.863 Z\" fill=\"#000000\" fill-rule=\"evenodd\" fill-opacity=\"1\" /><circle clip-path=\"url(#clip712)\" cx=\"331.833\" cy=\"486.507\" r=\"14\" fill=\"#ff00cc\" fill-rule=\"evenodd\" fill-opacity=\"1\" stroke=\"#000000\" stroke-opacity=\"1\" stroke-width=\"3.2\"/>\n",
       "<circle clip-path=\"url(#clip712)\" cx=\"301.634\" cy=\"552.482\" r=\"14\" fill=\"#0000ff\" fill-rule=\"evenodd\" fill-opacity=\"1\" stroke=\"#000000\" stroke-opacity=\"1\" stroke-width=\"3.2\"/>\n",
       "<circle clip-path=\"url(#clip712)\" cx=\"279.537\" cy=\"553.419\" r=\"14\" fill=\"#0000ff\" fill-rule=\"evenodd\" fill-opacity=\"1\" stroke=\"#000000\" stroke-opacity=\"1\" stroke-width=\"3.2\"/>\n",
       "<circle clip-path=\"url(#clip712)\" cx=\"317.019\" cy=\"504.456\" r=\"14\" fill=\"#ff0099\" fill-rule=\"evenodd\" fill-opacity=\"1\" stroke=\"#000000\" stroke-opacity=\"1\" stroke-width=\"3.2\"/>\n",
       "<circle clip-path=\"url(#clip712)\" cx=\"311.641\" cy=\"548.558\" r=\"14\" fill=\"#0000ff\" fill-rule=\"evenodd\" fill-opacity=\"1\" stroke=\"#000000\" stroke-opacity=\"1\" stroke-width=\"3.2\"/>\n",
       "<circle clip-path=\"url(#clip712)\" cx=\"521.969\" cy=\"734.03\" r=\"14\" fill=\"#ff0000\" fill-rule=\"evenodd\" fill-opacity=\"1\" stroke=\"#000000\" stroke-opacity=\"1\" stroke-width=\"3.2\"/>\n",
       "<circle clip-path=\"url(#clip712)\" cx=\"544.009\" cy=\"738.881\" r=\"14\" fill=\"#ff00ff\" fill-rule=\"evenodd\" fill-opacity=\"1\" stroke=\"#000000\" stroke-opacity=\"1\" stroke-width=\"3.2\"/>\n",
       "<circle clip-path=\"url(#clip712)\" cx=\"538.187\" cy=\"790.517\" r=\"14\" fill=\"#6600ff\" fill-rule=\"evenodd\" fill-opacity=\"1\" stroke=\"#000000\" stroke-opacity=\"1\" stroke-width=\"3.2\"/>\n",
       "<circle clip-path=\"url(#clip712)\" cx=\"703.871\" cy=\"1117.85\" r=\"14\" fill=\"#0000ff\" fill-rule=\"evenodd\" fill-opacity=\"1\" stroke=\"#000000\" stroke-opacity=\"1\" stroke-width=\"3.2\"/>\n",
       "<circle clip-path=\"url(#clip712)\" cx=\"677.718\" cy=\"1112.92\" r=\"14\" fill=\"#ff0066\" fill-rule=\"evenodd\" fill-opacity=\"1\" stroke=\"#000000\" stroke-opacity=\"1\" stroke-width=\"3.2\"/>\n",
       "<circle clip-path=\"url(#clip712)\" cx=\"714.698\" cy=\"1164\" r=\"14\" fill=\"#ff0000\" fill-rule=\"evenodd\" fill-opacity=\"1\" stroke=\"#000000\" stroke-opacity=\"1\" stroke-width=\"3.2\"/>\n",
       "<circle clip-path=\"url(#clip712)\" cx=\"681.002\" cy=\"1091.15\" r=\"14\" fill=\"#ff0000\" fill-rule=\"evenodd\" fill-opacity=\"1\" stroke=\"#000000\" stroke-opacity=\"1\" stroke-width=\"3.2\"/>\n",
       "<circle clip-path=\"url(#clip712)\" cx=\"678.065\" cy=\"1156.6\" r=\"14\" fill=\"#9900ff\" fill-rule=\"evenodd\" fill-opacity=\"1\" stroke=\"#000000\" stroke-opacity=\"1\" stroke-width=\"3.2\"/>\n",
       "<circle clip-path=\"url(#clip712)\" cx=\"695.832\" cy=\"1108.33\" r=\"14\" fill=\"#0000ff\" fill-rule=\"evenodd\" fill-opacity=\"1\" stroke=\"#000000\" stroke-opacity=\"1\" stroke-width=\"3.2\"/>\n",
       "<circle clip-path=\"url(#clip712)\" cx=\"665.675\" cy=\"1143.17\" r=\"14\" fill=\"#0000ff\" fill-rule=\"evenodd\" fill-opacity=\"1\" stroke=\"#000000\" stroke-opacity=\"1\" stroke-width=\"3.2\"/>\n",
       "<circle clip-path=\"url(#clip712)\" cx=\"708.13\" cy=\"1144.52\" r=\"14\" fill=\"#ff0000\" fill-rule=\"evenodd\" fill-opacity=\"1\" stroke=\"#000000\" stroke-opacity=\"1\" stroke-width=\"3.2\"/>\n",
       "<circle clip-path=\"url(#clip712)\" cx=\"870.745\" cy=\"1185.93\" r=\"14\" fill=\"#ff0000\" fill-rule=\"evenodd\" fill-opacity=\"1\" stroke=\"#000000\" stroke-opacity=\"1\" stroke-width=\"3.2\"/>\n",
       "<circle clip-path=\"url(#clip712)\" cx=\"824.581\" cy=\"1225.19\" r=\"14\" fill=\"#cc00ff\" fill-rule=\"evenodd\" fill-opacity=\"1\" stroke=\"#000000\" stroke-opacity=\"1\" stroke-width=\"3.2\"/>\n",
       "<circle clip-path=\"url(#clip712)\" cx=\"813.831\" cy=\"1205.74\" r=\"14\" fill=\"#ff0066\" fill-rule=\"evenodd\" fill-opacity=\"1\" stroke=\"#000000\" stroke-opacity=\"1\" stroke-width=\"3.2\"/>\n",
       "<circle clip-path=\"url(#clip712)\" cx=\"848.714\" cy=\"976.096\" r=\"14\" fill=\"#0000ff\" fill-rule=\"evenodd\" fill-opacity=\"1\" stroke=\"#000000\" stroke-opacity=\"1\" stroke-width=\"3.2\"/>\n",
       "<circle clip-path=\"url(#clip712)\" cx=\"870.062\" cy=\"1007.4\" r=\"14\" fill=\"#9900ff\" fill-rule=\"evenodd\" fill-opacity=\"1\" stroke=\"#000000\" stroke-opacity=\"1\" stroke-width=\"3.2\"/>\n",
       "<circle clip-path=\"url(#clip712)\" cx=\"927.042\" cy=\"1356.56\" r=\"14\" fill=\"#ff00ff\" fill-rule=\"evenodd\" fill-opacity=\"1\" stroke=\"#000000\" stroke-opacity=\"1\" stroke-width=\"3.2\"/>\n",
       "<circle clip-path=\"url(#clip712)\" cx=\"895.093\" cy=\"1359.21\" r=\"14\" fill=\"#ff0033\" fill-rule=\"evenodd\" fill-opacity=\"1\" stroke=\"#000000\" stroke-opacity=\"1\" stroke-width=\"3.2\"/>\n",
       "<circle clip-path=\"url(#clip712)\" cx=\"907.302\" cy=\"1346.25\" r=\"14\" fill=\"#ff0099\" fill-rule=\"evenodd\" fill-opacity=\"1\" stroke=\"#000000\" stroke-opacity=\"1\" stroke-width=\"3.2\"/>\n",
       "<circle clip-path=\"url(#clip712)\" cx=\"946.792\" cy=\"1364.66\" r=\"14\" fill=\"#ff0000\" fill-rule=\"evenodd\" fill-opacity=\"1\" stroke=\"#000000\" stroke-opacity=\"1\" stroke-width=\"3.2\"/>\n",
       "<circle clip-path=\"url(#clip712)\" cx=\"947.754\" cy=\"1348.15\" r=\"14\" fill=\"#cc00ff\" fill-rule=\"evenodd\" fill-opacity=\"1\" stroke=\"#000000\" stroke-opacity=\"1\" stroke-width=\"3.2\"/>\n",
       "<circle clip-path=\"url(#clip712)\" cx=\"912.467\" cy=\"1340.52\" r=\"14\" fill=\"#ff00ff\" fill-rule=\"evenodd\" fill-opacity=\"1\" stroke=\"#000000\" stroke-opacity=\"1\" stroke-width=\"3.2\"/>\n",
       "<circle clip-path=\"url(#clip712)\" cx=\"925.546\" cy=\"1339.93\" r=\"14\" fill=\"#ff0066\" fill-rule=\"evenodd\" fill-opacity=\"1\" stroke=\"#000000\" stroke-opacity=\"1\" stroke-width=\"3.2\"/>\n",
       "<circle clip-path=\"url(#clip712)\" cx=\"1689.92\" cy=\"1364.3\" r=\"14\" fill=\"#ff0033\" fill-rule=\"evenodd\" fill-opacity=\"1\" stroke=\"#000000\" stroke-opacity=\"1\" stroke-width=\"3.2\"/>\n",
       "<circle clip-path=\"url(#clip712)\" cx=\"1628.35\" cy=\"1421.08\" r=\"14\" fill=\"#ff0066\" fill-rule=\"evenodd\" fill-opacity=\"1\" stroke=\"#000000\" stroke-opacity=\"1\" stroke-width=\"3.2\"/>\n",
       "<circle clip-path=\"url(#clip712)\" cx=\"1646.93\" cy=\"1381.34\" r=\"14\" fill=\"#ff00cc\" fill-rule=\"evenodd\" fill-opacity=\"1\" stroke=\"#000000\" stroke-opacity=\"1\" stroke-width=\"3.2\"/>\n",
       "<circle clip-path=\"url(#clip712)\" cx=\"1599.36\" cy=\"1364.23\" r=\"14\" fill=\"#3300ff\" fill-rule=\"evenodd\" fill-opacity=\"1\" stroke=\"#000000\" stroke-opacity=\"1\" stroke-width=\"3.2\"/>\n",
       "<circle clip-path=\"url(#clip712)\" cx=\"1651.15\" cy=\"1323.59\" r=\"14\" fill=\"#3300ff\" fill-rule=\"evenodd\" fill-opacity=\"1\" stroke=\"#000000\" stroke-opacity=\"1\" stroke-width=\"3.2\"/>\n",
       "<circle clip-path=\"url(#clip712)\" cx=\"1665.75\" cy=\"1334.42\" r=\"14\" fill=\"#3300ff\" fill-rule=\"evenodd\" fill-opacity=\"1\" stroke=\"#000000\" stroke-opacity=\"1\" stroke-width=\"3.2\"/>\n",
       "<circle clip-path=\"url(#clip712)\" cx=\"1702.48\" cy=\"1376.82\" r=\"14\" fill=\"#9900ff\" fill-rule=\"evenodd\" fill-opacity=\"1\" stroke=\"#000000\" stroke-opacity=\"1\" stroke-width=\"3.2\"/>\n",
       "<circle clip-path=\"url(#clip712)\" cx=\"1677.99\" cy=\"158.485\" r=\"14\" fill=\"#ff0033\" fill-rule=\"evenodd\" fill-opacity=\"1\" stroke=\"#000000\" stroke-opacity=\"1\" stroke-width=\"3.2\"/>\n",
       "<circle clip-path=\"url(#clip712)\" cx=\"1713.76\" cy=\"158.318\" r=\"14\" fill=\"#0000ff\" fill-rule=\"evenodd\" fill-opacity=\"1\" stroke=\"#000000\" stroke-opacity=\"1\" stroke-width=\"3.2\"/>\n",
       "<circle clip-path=\"url(#clip712)\" cx=\"2036.78\" cy=\"99.0212\" r=\"14\" fill=\"#3300ff\" fill-rule=\"evenodd\" fill-opacity=\"1\" stroke=\"#000000\" stroke-opacity=\"1\" stroke-width=\"3.2\"/>\n",
       "<circle clip-path=\"url(#clip712)\" cx=\"2050.12\" cy=\"143.749\" r=\"14\" fill=\"#ff00ff\" fill-rule=\"evenodd\" fill-opacity=\"1\" stroke=\"#000000\" stroke-opacity=\"1\" stroke-width=\"3.2\"/>\n",
       "<circle clip-path=\"url(#clip712)\" cx=\"2054.97\" cy=\"146.17\" r=\"14\" fill=\"#ff00ff\" fill-rule=\"evenodd\" fill-opacity=\"1\" stroke=\"#000000\" stroke-opacity=\"1\" stroke-width=\"3.2\"/>\n",
       "<circle clip-path=\"url(#clip712)\" cx=\"324.753\" cy=\"543.537\" r=\"14\" fill=\"#ff00cc\" fill-rule=\"evenodd\" fill-opacity=\"1\" stroke=\"#000000\" stroke-opacity=\"1\" stroke-width=\"3.2\"/>\n",
       "<circle clip-path=\"url(#clip712)\" cx=\"319.019\" cy=\"535.025\" r=\"14\" fill=\"#0000ff\" fill-rule=\"evenodd\" fill-opacity=\"1\" stroke=\"#000000\" stroke-opacity=\"1\" stroke-width=\"3.2\"/>\n",
       "<circle clip-path=\"url(#clip712)\" cx=\"348.791\" cy=\"521.148\" r=\"14\" fill=\"#0000ff\" fill-rule=\"evenodd\" fill-opacity=\"1\" stroke=\"#000000\" stroke-opacity=\"1\" stroke-width=\"3.2\"/>\n",
       "<circle clip-path=\"url(#clip712)\" cx=\"386.41\" cy=\"549.709\" r=\"14\" fill=\"#ff0099\" fill-rule=\"evenodd\" fill-opacity=\"1\" stroke=\"#000000\" stroke-opacity=\"1\" stroke-width=\"3.2\"/>\n",
       "<circle clip-path=\"url(#clip712)\" cx=\"308.41\" cy=\"461.996\" r=\"14\" fill=\"#0000ff\" fill-rule=\"evenodd\" fill-opacity=\"1\" stroke=\"#000000\" stroke-opacity=\"1\" stroke-width=\"3.2\"/>\n",
       "<circle clip-path=\"url(#clip712)\" cx=\"559.165\" cy=\"665.293\" r=\"14\" fill=\"#ff0000\" fill-rule=\"evenodd\" fill-opacity=\"1\" stroke=\"#000000\" stroke-opacity=\"1\" stroke-width=\"3.2\"/>\n",
       "<circle clip-path=\"url(#clip712)\" cx=\"563.193\" cy=\"770.755\" r=\"14\" fill=\"#ff00ff\" fill-rule=\"evenodd\" fill-opacity=\"1\" stroke=\"#000000\" stroke-opacity=\"1\" stroke-width=\"3.2\"/>\n",
       "<circle clip-path=\"url(#clip712)\" cx=\"523.853\" cy=\"829.084\" r=\"14\" fill=\"#6600ff\" fill-rule=\"evenodd\" fill-opacity=\"1\" stroke=\"#000000\" stroke-opacity=\"1\" stroke-width=\"3.2\"/>\n",
       "<circle clip-path=\"url(#clip712)\" cx=\"687.803\" cy=\"1124.35\" r=\"14\" fill=\"#0000ff\" fill-rule=\"evenodd\" fill-opacity=\"1\" stroke=\"#000000\" stroke-opacity=\"1\" stroke-width=\"3.2\"/>\n",
       "<circle clip-path=\"url(#clip712)\" cx=\"718.096\" cy=\"1076.48\" r=\"14\" fill=\"#ff0066\" fill-rule=\"evenodd\" fill-opacity=\"1\" stroke=\"#000000\" stroke-opacity=\"1\" stroke-width=\"3.2\"/>\n",
       "<circle clip-path=\"url(#clip712)\" cx=\"742.705\" cy=\"1092.7\" r=\"14\" fill=\"#ff0000\" fill-rule=\"evenodd\" fill-opacity=\"1\" stroke=\"#000000\" stroke-opacity=\"1\" stroke-width=\"3.2\"/>\n",
       "<circle clip-path=\"url(#clip712)\" cx=\"673.146\" cy=\"1104.45\" r=\"14\" fill=\"#ff0000\" fill-rule=\"evenodd\" fill-opacity=\"1\" stroke=\"#000000\" stroke-opacity=\"1\" stroke-width=\"3.2\"/>\n",
       "<circle clip-path=\"url(#clip712)\" cx=\"719.238\" cy=\"1108.92\" r=\"14\" fill=\"#9900ff\" fill-rule=\"evenodd\" fill-opacity=\"1\" stroke=\"#000000\" stroke-opacity=\"1\" stroke-width=\"3.2\"/>\n",
       "<circle clip-path=\"url(#clip712)\" cx=\"689.488\" cy=\"1110.37\" r=\"14\" fill=\"#0000ff\" fill-rule=\"evenodd\" fill-opacity=\"1\" stroke=\"#000000\" stroke-opacity=\"1\" stroke-width=\"3.2\"/>\n",
       "<circle clip-path=\"url(#clip712)\" cx=\"682.032\" cy=\"1098.19\" r=\"14\" fill=\"#0000ff\" fill-rule=\"evenodd\" fill-opacity=\"1\" stroke=\"#000000\" stroke-opacity=\"1\" stroke-width=\"3.2\"/>\n",
       "<circle clip-path=\"url(#clip712)\" cx=\"675.188\" cy=\"1101.58\" r=\"14\" fill=\"#ff0000\" fill-rule=\"evenodd\" fill-opacity=\"1\" stroke=\"#000000\" stroke-opacity=\"1\" stroke-width=\"3.2\"/>\n",
       "<circle clip-path=\"url(#clip712)\" cx=\"873.463\" cy=\"1192.33\" r=\"14\" fill=\"#ff0000\" fill-rule=\"evenodd\" fill-opacity=\"1\" stroke=\"#000000\" stroke-opacity=\"1\" stroke-width=\"3.2\"/>\n",
       "<circle clip-path=\"url(#clip712)\" cx=\"907.481\" cy=\"1238.71\" r=\"14\" fill=\"#cc00ff\" fill-rule=\"evenodd\" fill-opacity=\"1\" stroke=\"#000000\" stroke-opacity=\"1\" stroke-width=\"3.2\"/>\n",
       "<circle clip-path=\"url(#clip712)\" cx=\"848.105\" cy=\"1284.7\" r=\"14\" fill=\"#ff0066\" fill-rule=\"evenodd\" fill-opacity=\"1\" stroke=\"#000000\" stroke-opacity=\"1\" stroke-width=\"3.2\"/>\n",
       "<circle clip-path=\"url(#clip712)\" cx=\"850.472\" cy=\"930.432\" r=\"14\" fill=\"#0000ff\" fill-rule=\"evenodd\" fill-opacity=\"1\" stroke=\"#000000\" stroke-opacity=\"1\" stroke-width=\"3.2\"/>\n",
       "<circle clip-path=\"url(#clip712)\" cx=\"824.406\" cy=\"955.565\" r=\"14\" fill=\"#9900ff\" fill-rule=\"evenodd\" fill-opacity=\"1\" stroke=\"#000000\" stroke-opacity=\"1\" stroke-width=\"3.2\"/>\n",
       "<circle clip-path=\"url(#clip712)\" cx=\"956.982\" cy=\"1311.5\" r=\"14\" fill=\"#ff00ff\" fill-rule=\"evenodd\" fill-opacity=\"1\" stroke=\"#000000\" stroke-opacity=\"1\" stroke-width=\"3.2\"/>\n",
       "<circle clip-path=\"url(#clip712)\" cx=\"920.85\" cy=\"1331.05\" r=\"14\" fill=\"#ff0033\" fill-rule=\"evenodd\" fill-opacity=\"1\" stroke=\"#000000\" stroke-opacity=\"1\" stroke-width=\"3.2\"/>\n",
       "<circle clip-path=\"url(#clip712)\" cx=\"914.382\" cy=\"1409.09\" r=\"14\" fill=\"#ff0099\" fill-rule=\"evenodd\" fill-opacity=\"1\" stroke=\"#000000\" stroke-opacity=\"1\" stroke-width=\"3.2\"/>\n",
       "<circle clip-path=\"url(#clip712)\" cx=\"936.851\" cy=\"1415.25\" r=\"14\" fill=\"#ff0000\" fill-rule=\"evenodd\" fill-opacity=\"1\" stroke=\"#000000\" stroke-opacity=\"1\" stroke-width=\"3.2\"/>\n",
       "<circle clip-path=\"url(#clip712)\" cx=\"896.034\" cy=\"1401.3\" r=\"14\" fill=\"#cc00ff\" fill-rule=\"evenodd\" fill-opacity=\"1\" stroke=\"#000000\" stroke-opacity=\"1\" stroke-width=\"3.2\"/>\n",
       "<circle clip-path=\"url(#clip712)\" cx=\"898.304\" cy=\"1341.37\" r=\"14\" fill=\"#ff00ff\" fill-rule=\"evenodd\" fill-opacity=\"1\" stroke=\"#000000\" stroke-opacity=\"1\" stroke-width=\"3.2\"/>\n",
       "<circle clip-path=\"url(#clip712)\" cx=\"953.958\" cy=\"1436.66\" r=\"14\" fill=\"#ff0066\" fill-rule=\"evenodd\" fill-opacity=\"1\" stroke=\"#000000\" stroke-opacity=\"1\" stroke-width=\"3.2\"/>\n",
       "<circle clip-path=\"url(#clip712)\" cx=\"1651.48\" cy=\"1335.02\" r=\"14\" fill=\"#ff0033\" fill-rule=\"evenodd\" fill-opacity=\"1\" stroke=\"#000000\" stroke-opacity=\"1\" stroke-width=\"3.2\"/>\n",
       "<circle clip-path=\"url(#clip712)\" cx=\"1653.23\" cy=\"1373\" r=\"14\" fill=\"#ff0066\" fill-rule=\"evenodd\" fill-opacity=\"1\" stroke=\"#000000\" stroke-opacity=\"1\" stroke-width=\"3.2\"/>\n",
       "<circle clip-path=\"url(#clip712)\" cx=\"1669.49\" cy=\"1396.26\" r=\"14\" fill=\"#ff00cc\" fill-rule=\"evenodd\" fill-opacity=\"1\" stroke=\"#000000\" stroke-opacity=\"1\" stroke-width=\"3.2\"/>\n",
       "<circle clip-path=\"url(#clip712)\" cx=\"1695.73\" cy=\"1407.15\" r=\"14\" fill=\"#3300ff\" fill-rule=\"evenodd\" fill-opacity=\"1\" stroke=\"#000000\" stroke-opacity=\"1\" stroke-width=\"3.2\"/>\n",
       "<circle clip-path=\"url(#clip712)\" cx=\"1639.28\" cy=\"1326.5\" r=\"14\" fill=\"#3300ff\" fill-rule=\"evenodd\" fill-opacity=\"1\" stroke=\"#000000\" stroke-opacity=\"1\" stroke-width=\"3.2\"/>\n",
       "<circle clip-path=\"url(#clip712)\" cx=\"1655.75\" cy=\"1369.07\" r=\"14\" fill=\"#3300ff\" fill-rule=\"evenodd\" fill-opacity=\"1\" stroke=\"#000000\" stroke-opacity=\"1\" stroke-width=\"3.2\"/>\n",
       "<circle clip-path=\"url(#clip712)\" cx=\"1655.93\" cy=\"1413.1\" r=\"14\" fill=\"#9900ff\" fill-rule=\"evenodd\" fill-opacity=\"1\" stroke=\"#000000\" stroke-opacity=\"1\" stroke-width=\"3.2\"/>\n",
       "<circle clip-path=\"url(#clip712)\" cx=\"1647.36\" cy=\"194.979\" r=\"14\" fill=\"#ff0033\" fill-rule=\"evenodd\" fill-opacity=\"1\" stroke=\"#000000\" stroke-opacity=\"1\" stroke-width=\"3.2\"/>\n",
       "<circle clip-path=\"url(#clip712)\" cx=\"1713.04\" cy=\"97.2265\" r=\"14\" fill=\"#0000ff\" fill-rule=\"evenodd\" fill-opacity=\"1\" stroke=\"#000000\" stroke-opacity=\"1\" stroke-width=\"3.2\"/>\n",
       "<circle clip-path=\"url(#clip712)\" cx=\"2026.27\" cy=\"114.901\" r=\"14\" fill=\"#3300ff\" fill-rule=\"evenodd\" fill-opacity=\"1\" stroke=\"#000000\" stroke-opacity=\"1\" stroke-width=\"3.2\"/>\n",
       "<circle clip-path=\"url(#clip712)\" cx=\"2020.3\" cy=\"121.409\" r=\"14\" fill=\"#ff00ff\" fill-rule=\"evenodd\" fill-opacity=\"1\" stroke=\"#000000\" stroke-opacity=\"1\" stroke-width=\"3.2\"/>\n",
       "<circle clip-path=\"url(#clip712)\" cx=\"2027.57\" cy=\"120.683\" r=\"14\" fill=\"#ff00ff\" fill-rule=\"evenodd\" fill-opacity=\"1\" stroke=\"#000000\" stroke-opacity=\"1\" stroke-width=\"3.2\"/>\n",
       "<circle clip-path=\"url(#clip712)\" cx=\"292.703\" cy=\"482.597\" r=\"14\" fill=\"#ff00cc\" fill-rule=\"evenodd\" fill-opacity=\"1\" stroke=\"#000000\" stroke-opacity=\"1\" stroke-width=\"3.2\"/>\n",
       "<circle clip-path=\"url(#clip712)\" cx=\"295.49\" cy=\"428.104\" r=\"14\" fill=\"#0000ff\" fill-rule=\"evenodd\" fill-opacity=\"1\" stroke=\"#000000\" stroke-opacity=\"1\" stroke-width=\"3.2\"/>\n",
       "<circle clip-path=\"url(#clip712)\" cx=\"325.336\" cy=\"484.855\" r=\"14\" fill=\"#0000ff\" fill-rule=\"evenodd\" fill-opacity=\"1\" stroke=\"#000000\" stroke-opacity=\"1\" stroke-width=\"3.2\"/>\n",
       "<circle clip-path=\"url(#clip712)\" cx=\"330.377\" cy=\"477.246\" r=\"14\" fill=\"#ff0099\" fill-rule=\"evenodd\" fill-opacity=\"1\" stroke=\"#000000\" stroke-opacity=\"1\" stroke-width=\"3.2\"/>\n",
       "<circle clip-path=\"url(#clip712)\" cx=\"332.426\" cy=\"497.242\" r=\"14\" fill=\"#0000ff\" fill-rule=\"evenodd\" fill-opacity=\"1\" stroke=\"#000000\" stroke-opacity=\"1\" stroke-width=\"3.2\"/>\n",
       "<circle clip-path=\"url(#clip712)\" cx=\"511.689\" cy=\"801.575\" r=\"14\" fill=\"#ff0000\" fill-rule=\"evenodd\" fill-opacity=\"1\" stroke=\"#000000\" stroke-opacity=\"1\" stroke-width=\"3.2\"/>\n",
       "<circle clip-path=\"url(#clip712)\" cx=\"529.98\" cy=\"819.972\" r=\"14\" fill=\"#ff00ff\" fill-rule=\"evenodd\" fill-opacity=\"1\" stroke=\"#000000\" stroke-opacity=\"1\" stroke-width=\"3.2\"/>\n",
       "<circle clip-path=\"url(#clip712)\" cx=\"517.321\" cy=\"728.097\" r=\"14\" fill=\"#6600ff\" fill-rule=\"evenodd\" fill-opacity=\"1\" stroke=\"#000000\" stroke-opacity=\"1\" stroke-width=\"3.2\"/>\n",
       "<circle clip-path=\"url(#clip712)\" cx=\"706.771\" cy=\"1126.72\" r=\"14\" fill=\"#0000ff\" fill-rule=\"evenodd\" fill-opacity=\"1\" stroke=\"#000000\" stroke-opacity=\"1\" stroke-width=\"3.2\"/>\n",
       "<circle clip-path=\"url(#clip712)\" cx=\"705.597\" cy=\"1078.16\" r=\"14\" fill=\"#ff0066\" fill-rule=\"evenodd\" fill-opacity=\"1\" stroke=\"#000000\" stroke-opacity=\"1\" stroke-width=\"3.2\"/>\n",
       "<circle clip-path=\"url(#clip712)\" cx=\"672.906\" cy=\"1158.23\" r=\"14\" fill=\"#ff0000\" fill-rule=\"evenodd\" fill-opacity=\"1\" stroke=\"#000000\" stroke-opacity=\"1\" stroke-width=\"3.2\"/>\n",
       "<circle clip-path=\"url(#clip712)\" cx=\"704.839\" cy=\"1119.3\" r=\"14\" fill=\"#ff0000\" fill-rule=\"evenodd\" fill-opacity=\"1\" stroke=\"#000000\" stroke-opacity=\"1\" stroke-width=\"3.2\"/>\n",
       "<circle clip-path=\"url(#clip712)\" cx=\"648.226\" cy=\"1120.16\" r=\"14\" fill=\"#9900ff\" fill-rule=\"evenodd\" fill-opacity=\"1\" stroke=\"#000000\" stroke-opacity=\"1\" stroke-width=\"3.2\"/>\n",
       "<circle clip-path=\"url(#clip712)\" cx=\"711.16\" cy=\"1093.8\" r=\"14\" fill=\"#0000ff\" fill-rule=\"evenodd\" fill-opacity=\"1\" stroke=\"#000000\" stroke-opacity=\"1\" stroke-width=\"3.2\"/>\n",
       "<circle clip-path=\"url(#clip712)\" cx=\"706.603\" cy=\"1153.42\" r=\"14\" fill=\"#0000ff\" fill-rule=\"evenodd\" fill-opacity=\"1\" stroke=\"#000000\" stroke-opacity=\"1\" stroke-width=\"3.2\"/>\n",
       "<circle clip-path=\"url(#clip712)\" cx=\"679.692\" cy=\"1113.84\" r=\"14\" fill=\"#ff0000\" fill-rule=\"evenodd\" fill-opacity=\"1\" stroke=\"#000000\" stroke-opacity=\"1\" stroke-width=\"3.2\"/>\n",
       "<circle clip-path=\"url(#clip712)\" cx=\"852.83\" cy=\"1224.38\" r=\"14\" fill=\"#ff0000\" fill-rule=\"evenodd\" fill-opacity=\"1\" stroke=\"#000000\" stroke-opacity=\"1\" stroke-width=\"3.2\"/>\n",
       "<circle clip-path=\"url(#clip712)\" cx=\"821.389\" cy=\"1182.92\" r=\"14\" fill=\"#cc00ff\" fill-rule=\"evenodd\" fill-opacity=\"1\" stroke=\"#000000\" stroke-opacity=\"1\" stroke-width=\"3.2\"/>\n",
       "<circle clip-path=\"url(#clip712)\" cx=\"865.807\" cy=\"1329.67\" r=\"14\" fill=\"#ff0066\" fill-rule=\"evenodd\" fill-opacity=\"1\" stroke=\"#000000\" stroke-opacity=\"1\" stroke-width=\"3.2\"/>\n",
       "<circle clip-path=\"url(#clip712)\" cx=\"851.792\" cy=\"992.489\" r=\"14\" fill=\"#0000ff\" fill-rule=\"evenodd\" fill-opacity=\"1\" stroke=\"#000000\" stroke-opacity=\"1\" stroke-width=\"3.2\"/>\n",
       "<circle clip-path=\"url(#clip712)\" cx=\"846.518\" cy=\"1102.16\" r=\"14\" fill=\"#9900ff\" fill-rule=\"evenodd\" fill-opacity=\"1\" stroke=\"#000000\" stroke-opacity=\"1\" stroke-width=\"3.2\"/>\n",
       "<circle clip-path=\"url(#clip712)\" cx=\"933.301\" cy=\"1364.6\" r=\"14\" fill=\"#ff00ff\" fill-rule=\"evenodd\" fill-opacity=\"1\" stroke=\"#000000\" stroke-opacity=\"1\" stroke-width=\"3.2\"/>\n",
       "<circle clip-path=\"url(#clip712)\" cx=\"894.899\" cy=\"1376.78\" r=\"14\" fill=\"#ff0033\" fill-rule=\"evenodd\" fill-opacity=\"1\" stroke=\"#000000\" stroke-opacity=\"1\" stroke-width=\"3.2\"/>\n",
       "<circle clip-path=\"url(#clip712)\" cx=\"890.527\" cy=\"1466.7\" r=\"14\" fill=\"#ff0099\" fill-rule=\"evenodd\" fill-opacity=\"1\" stroke=\"#000000\" stroke-opacity=\"1\" stroke-width=\"3.2\"/>\n",
       "<circle clip-path=\"url(#clip712)\" cx=\"917.729\" cy=\"1407.81\" r=\"14\" fill=\"#ff0000\" fill-rule=\"evenodd\" fill-opacity=\"1\" stroke=\"#000000\" stroke-opacity=\"1\" stroke-width=\"3.2\"/>\n",
       "<circle clip-path=\"url(#clip712)\" cx=\"869.54\" cy=\"1390.63\" r=\"14\" fill=\"#cc00ff\" fill-rule=\"evenodd\" fill-opacity=\"1\" stroke=\"#000000\" stroke-opacity=\"1\" stroke-width=\"3.2\"/>\n",
       "<circle clip-path=\"url(#clip712)\" cx=\"911.896\" cy=\"1395.96\" r=\"14\" fill=\"#ff00ff\" fill-rule=\"evenodd\" fill-opacity=\"1\" stroke=\"#000000\" stroke-opacity=\"1\" stroke-width=\"3.2\"/>\n",
       "<circle clip-path=\"url(#clip712)\" cx=\"898.327\" cy=\"1375.95\" r=\"14\" fill=\"#ff0066\" fill-rule=\"evenodd\" fill-opacity=\"1\" stroke=\"#000000\" stroke-opacity=\"1\" stroke-width=\"3.2\"/>\n",
       "<circle clip-path=\"url(#clip712)\" cx=\"1681.08\" cy=\"1407.7\" r=\"14\" fill=\"#ff0033\" fill-rule=\"evenodd\" fill-opacity=\"1\" stroke=\"#000000\" stroke-opacity=\"1\" stroke-width=\"3.2\"/>\n",
       "<circle clip-path=\"url(#clip712)\" cx=\"1652.21\" cy=\"1450.38\" r=\"14\" fill=\"#ff0066\" fill-rule=\"evenodd\" fill-opacity=\"1\" stroke=\"#000000\" stroke-opacity=\"1\" stroke-width=\"3.2\"/>\n",
       "<circle clip-path=\"url(#clip712)\" cx=\"1673.96\" cy=\"1346.31\" r=\"14\" fill=\"#ff00cc\" fill-rule=\"evenodd\" fill-opacity=\"1\" stroke=\"#000000\" stroke-opacity=\"1\" stroke-width=\"3.2\"/>\n",
       "<circle clip-path=\"url(#clip712)\" cx=\"1668.87\" cy=\"1347.91\" r=\"14\" fill=\"#3300ff\" fill-rule=\"evenodd\" fill-opacity=\"1\" stroke=\"#000000\" stroke-opacity=\"1\" stroke-width=\"3.2\"/>\n",
       "<circle clip-path=\"url(#clip712)\" cx=\"1635.75\" cy=\"1394.39\" r=\"14\" fill=\"#3300ff\" fill-rule=\"evenodd\" fill-opacity=\"1\" stroke=\"#000000\" stroke-opacity=\"1\" stroke-width=\"3.2\"/>\n",
       "<circle clip-path=\"url(#clip712)\" cx=\"1673.56\" cy=\"1391.31\" r=\"14\" fill=\"#3300ff\" fill-rule=\"evenodd\" fill-opacity=\"1\" stroke=\"#000000\" stroke-opacity=\"1\" stroke-width=\"3.2\"/>\n",
       "<circle clip-path=\"url(#clip712)\" cx=\"1620.84\" cy=\"1366.1\" r=\"14\" fill=\"#9900ff\" fill-rule=\"evenodd\" fill-opacity=\"1\" stroke=\"#000000\" stroke-opacity=\"1\" stroke-width=\"3.2\"/>\n",
       "<circle clip-path=\"url(#clip712)\" cx=\"1626.05\" cy=\"150.846\" r=\"14\" fill=\"#ff0033\" fill-rule=\"evenodd\" fill-opacity=\"1\" stroke=\"#000000\" stroke-opacity=\"1\" stroke-width=\"3.2\"/>\n",
       "<circle clip-path=\"url(#clip712)\" cx=\"1639.84\" cy=\"158.442\" r=\"14\" fill=\"#0000ff\" fill-rule=\"evenodd\" fill-opacity=\"1\" stroke=\"#000000\" stroke-opacity=\"1\" stroke-width=\"3.2\"/>\n",
       "<circle clip-path=\"url(#clip712)\" cx=\"2041.12\" cy=\"88.5876\" r=\"14\" fill=\"#3300ff\" fill-rule=\"evenodd\" fill-opacity=\"1\" stroke=\"#000000\" stroke-opacity=\"1\" stroke-width=\"3.2\"/>\n",
       "<circle clip-path=\"url(#clip712)\" cx=\"2032.5\" cy=\"189.86\" r=\"14\" fill=\"#ff00ff\" fill-rule=\"evenodd\" fill-opacity=\"1\" stroke=\"#000000\" stroke-opacity=\"1\" stroke-width=\"3.2\"/>\n",
       "<circle clip-path=\"url(#clip712)\" cx=\"2032.97\" cy=\"230.143\" r=\"14\" fill=\"#ff00ff\" fill-rule=\"evenodd\" fill-opacity=\"1\" stroke=\"#000000\" stroke-opacity=\"1\" stroke-width=\"3.2\"/>\n",
       "<path clip-path=\"url(#clip710)\" d=\"\n",
       "M2389.41 1508.05 L4271.37 1508.05 L4271.37 47.2441 L2389.41 47.2441  Z\n",
       "  \" fill=\"#ffffff\" fill-rule=\"evenodd\" fill-opacity=\"1\"/>\n",
       "<defs>\n",
       "  <clipPath id=\"clip713\">\n",
       "    <rect x=\"2389\" y=\"47\" width=\"1883\" height=\"1462\"/>\n",
       "  </clipPath>\n",
       "</defs>\n",
       "<polyline clip-path=\"url(#clip713)\" style=\"stroke:#000000; stroke-linecap:butt; stroke-linejoin:round; stroke-width:2; stroke-opacity:0.1; fill:none\" points=\"\n",
       "  2488.9,1508.05 2488.9,47.2441 \n",
       "  \"/>\n",
       "<polyline clip-path=\"url(#clip713)\" style=\"stroke:#000000; stroke-linecap:butt; stroke-linejoin:round; stroke-width:2; stroke-opacity:0.1; fill:none\" points=\"\n",
       "  2824.67,1508.05 2824.67,47.2441 \n",
       "  \"/>\n",
       "<polyline clip-path=\"url(#clip713)\" style=\"stroke:#000000; stroke-linecap:butt; stroke-linejoin:round; stroke-width:2; stroke-opacity:0.1; fill:none\" points=\"\n",
       "  3160.45,1508.05 3160.45,47.2441 \n",
       "  \"/>\n",
       "<polyline clip-path=\"url(#clip713)\" style=\"stroke:#000000; stroke-linecap:butt; stroke-linejoin:round; stroke-width:2; stroke-opacity:0.1; fill:none\" points=\"\n",
       "  3496.22,1508.05 3496.22,47.2441 \n",
       "  \"/>\n",
       "<polyline clip-path=\"url(#clip713)\" style=\"stroke:#000000; stroke-linecap:butt; stroke-linejoin:round; stroke-width:2; stroke-opacity:0.1; fill:none\" points=\"\n",
       "  3831.99,1508.05 3831.99,47.2441 \n",
       "  \"/>\n",
       "<polyline clip-path=\"url(#clip713)\" style=\"stroke:#000000; stroke-linecap:butt; stroke-linejoin:round; stroke-width:2; stroke-opacity:0.1; fill:none\" points=\"\n",
       "  4167.77,1508.05 4167.77,47.2441 \n",
       "  \"/>\n",
       "<polyline clip-path=\"url(#clip710)\" style=\"stroke:#000000; stroke-linecap:butt; stroke-linejoin:round; stroke-width:4; stroke-opacity:1; fill:none\" points=\"\n",
       "  2389.41,1508.05 4271.37,1508.05 \n",
       "  \"/>\n",
       "<polyline clip-path=\"url(#clip710)\" style=\"stroke:#000000; stroke-linecap:butt; stroke-linejoin:round; stroke-width:4; stroke-opacity:1; fill:none\" points=\"\n",
       "  2488.9,1508.05 2488.9,1489.15 \n",
       "  \"/>\n",
       "<polyline clip-path=\"url(#clip710)\" style=\"stroke:#000000; stroke-linecap:butt; stroke-linejoin:round; stroke-width:4; stroke-opacity:1; fill:none\" points=\"\n",
       "  2824.67,1508.05 2824.67,1489.15 \n",
       "  \"/>\n",
       "<polyline clip-path=\"url(#clip710)\" style=\"stroke:#000000; stroke-linecap:butt; stroke-linejoin:round; stroke-width:4; stroke-opacity:1; fill:none\" points=\"\n",
       "  3160.45,1508.05 3160.45,1489.15 \n",
       "  \"/>\n",
       "<polyline clip-path=\"url(#clip710)\" style=\"stroke:#000000; stroke-linecap:butt; stroke-linejoin:round; stroke-width:4; stroke-opacity:1; fill:none\" points=\"\n",
       "  3496.22,1508.05 3496.22,1489.15 \n",
       "  \"/>\n",
       "<polyline clip-path=\"url(#clip710)\" style=\"stroke:#000000; stroke-linecap:butt; stroke-linejoin:round; stroke-width:4; stroke-opacity:1; fill:none\" points=\"\n",
       "  3831.99,1508.05 3831.99,1489.15 \n",
       "  \"/>\n",
       "<polyline clip-path=\"url(#clip710)\" style=\"stroke:#000000; stroke-linecap:butt; stroke-linejoin:round; stroke-width:4; stroke-opacity:1; fill:none\" points=\"\n",
       "  4167.77,1508.05 4167.77,1489.15 \n",
       "  \"/>\n",
       "<path clip-path=\"url(#clip710)\" d=\"M2435.43 1583.89 L2465.1 1583.89 L2465.1 1587.83 L2435.43 1587.83 L2435.43 1583.89 Z\" fill=\"#000000\" fill-rule=\"evenodd\" fill-opacity=\"1\" /><path clip-path=\"url(#clip710)\" d=\"M2476.01 1596.78 L2483.64 1596.78 L2483.64 1570.42 L2475.33 1572.09 L2475.33 1567.83 L2483.6 1566.16 L2488.27 1566.16 L2488.27 1596.78 L2495.91 1596.78 L2495.91 1600.72 L2476.01 1600.72 L2476.01 1596.78 Z\" fill=\"#000000\" fill-rule=\"evenodd\" fill-opacity=\"1\" /><path clip-path=\"url(#clip710)\" d=\"M2505.36 1594.84 L2510.24 1594.84 L2510.24 1600.72 L2505.36 1600.72 L2505.36 1594.84 Z\" fill=\"#000000\" fill-rule=\"evenodd\" fill-opacity=\"1\" /><path clip-path=\"url(#clip710)\" d=\"M2530.43 1569.24 Q2526.81 1569.24 2524.99 1572.8 Q2523.18 1576.35 2523.18 1583.47 Q2523.18 1590.58 2524.99 1594.15 Q2526.81 1597.69 2530.43 1597.69 Q2534.06 1597.69 2535.87 1594.15 Q2537.69 1590.58 2537.69 1583.47 Q2537.69 1576.35 2535.87 1572.8 Q2534.06 1569.24 2530.43 1569.24 M2530.43 1565.53 Q2536.24 1565.53 2539.29 1570.14 Q2542.37 1574.72 2542.37 1583.47 Q2542.37 1592.2 2539.29 1596.81 Q2536.24 1601.39 2530.43 1601.39 Q2524.62 1601.39 2521.54 1596.81 Q2518.48 1592.2 2518.48 1583.47 Q2518.48 1574.72 2521.54 1570.14 Q2524.62 1565.53 2530.43 1565.53 Z\" fill=\"#000000\" fill-rule=\"evenodd\" fill-opacity=\"1\" /><path clip-path=\"url(#clip710)\" d=\"M2771.7 1583.89 L2801.37 1583.89 L2801.37 1587.83 L2771.7 1587.83 L2771.7 1583.89 Z\" fill=\"#000000\" fill-rule=\"evenodd\" fill-opacity=\"1\" /><path clip-path=\"url(#clip710)\" d=\"M2821.47 1569.24 Q2817.86 1569.24 2816.03 1572.8 Q2814.22 1576.35 2814.22 1583.47 Q2814.22 1590.58 2816.03 1594.15 Q2817.86 1597.69 2821.47 1597.69 Q2825.1 1597.69 2826.91 1594.15 Q2828.73 1590.58 2828.73 1583.47 Q2828.73 1576.35 2826.91 1572.8 Q2825.1 1569.24 2821.47 1569.24 M2821.47 1565.53 Q2827.28 1565.53 2830.33 1570.14 Q2833.41 1574.72 2833.41 1583.47 Q2833.41 1592.2 2830.33 1596.81 Q2827.28 1601.39 2821.47 1601.39 Q2815.66 1601.39 2812.58 1596.81 Q2809.52 1592.2 2809.52 1583.47 Q2809.52 1574.72 2812.58 1570.14 Q2815.66 1565.53 2821.47 1565.53 Z\" fill=\"#000000\" fill-rule=\"evenodd\" fill-opacity=\"1\" /><path clip-path=\"url(#clip710)\" d=\"M2841.63 1594.84 L2846.51 1594.84 L2846.51 1600.72 L2841.63 1600.72 L2841.63 1594.84 Z\" fill=\"#000000\" fill-rule=\"evenodd\" fill-opacity=\"1\" /><path clip-path=\"url(#clip710)\" d=\"M2856.74 1566.16 L2875.1 1566.16 L2875.1 1570.1 L2861.03 1570.1 L2861.03 1578.57 Q2862.04 1578.22 2863.06 1578.06 Q2864.08 1577.87 2865.1 1577.87 Q2870.89 1577.87 2874.27 1581.04 Q2877.65 1584.22 2877.65 1589.63 Q2877.65 1595.21 2874.17 1598.31 Q2870.7 1601.39 2864.38 1601.39 Q2862.21 1601.39 2859.94 1601.02 Q2857.69 1600.65 2855.29 1599.91 L2855.29 1595.21 Q2857.37 1596.34 2859.59 1596.9 Q2861.81 1597.46 2864.29 1597.46 Q2868.29 1597.46 2870.63 1595.35 Q2872.97 1593.24 2872.97 1589.63 Q2872.97 1586.02 2870.63 1583.91 Q2868.29 1581.81 2864.29 1581.81 Q2862.42 1581.81 2860.54 1582.22 Q2858.69 1582.64 2856.74 1583.52 L2856.74 1566.16 Z\" fill=\"#000000\" fill-rule=\"evenodd\" fill-opacity=\"1\" /><path clip-path=\"url(#clip710)\" d=\"M3137.83 1569.24 Q3134.22 1569.24 3132.39 1572.8 Q3130.59 1576.35 3130.59 1583.47 Q3130.59 1590.58 3132.39 1594.15 Q3134.22 1597.69 3137.83 1597.69 Q3141.46 1597.69 3143.27 1594.15 Q3145.1 1590.58 3145.1 1583.47 Q3145.1 1576.35 3143.27 1572.8 Q3141.46 1569.24 3137.83 1569.24 M3137.83 1565.53 Q3143.64 1565.53 3146.7 1570.14 Q3149.77 1574.72 3149.77 1583.47 Q3149.77 1592.2 3146.7 1596.81 Q3143.64 1601.39 3137.83 1601.39 Q3132.02 1601.39 3128.94 1596.81 Q3125.89 1592.2 3125.89 1583.47 Q3125.89 1574.72 3128.94 1570.14 Q3132.02 1565.53 3137.83 1565.53 Z\" fill=\"#000000\" fill-rule=\"evenodd\" fill-opacity=\"1\" /><path clip-path=\"url(#clip710)\" d=\"M3157.99 1594.84 L3162.88 1594.84 L3162.88 1600.72 L3157.99 1600.72 L3157.99 1594.84 Z\" fill=\"#000000\" fill-rule=\"evenodd\" fill-opacity=\"1\" /><path clip-path=\"url(#clip710)\" d=\"M3183.06 1569.24 Q3179.45 1569.24 3177.62 1572.8 Q3175.82 1576.35 3175.82 1583.47 Q3175.82 1590.58 3177.62 1594.15 Q3179.45 1597.69 3183.06 1597.69 Q3186.7 1597.69 3188.5 1594.15 Q3190.33 1590.58 3190.33 1583.47 Q3190.33 1576.35 3188.5 1572.8 Q3186.7 1569.24 3183.06 1569.24 M3183.06 1565.53 Q3188.87 1565.53 3191.93 1570.14 Q3195.01 1574.72 3195.01 1583.47 Q3195.01 1592.2 3191.93 1596.81 Q3188.87 1601.39 3183.06 1601.39 Q3177.25 1601.39 3174.17 1596.81 Q3171.12 1592.2 3171.12 1583.47 Q3171.12 1574.72 3174.17 1570.14 Q3177.25 1565.53 3183.06 1565.53 Z\" fill=\"#000000\" fill-rule=\"evenodd\" fill-opacity=\"1\" /><path clip-path=\"url(#clip710)\" d=\"M3474.1 1569.24 Q3470.49 1569.24 3468.66 1572.8 Q3466.86 1576.35 3466.86 1583.47 Q3466.86 1590.58 3468.66 1594.15 Q3470.49 1597.69 3474.1 1597.69 Q3477.74 1597.69 3479.54 1594.15 Q3481.37 1590.58 3481.37 1583.47 Q3481.37 1576.35 3479.54 1572.8 Q3477.74 1569.24 3474.1 1569.24 M3474.1 1565.53 Q3479.91 1565.53 3482.97 1570.14 Q3486.05 1574.72 3486.05 1583.47 Q3486.05 1592.2 3482.97 1596.81 Q3479.91 1601.39 3474.1 1601.39 Q3468.29 1601.39 3465.21 1596.81 Q3462.16 1592.2 3462.16 1583.47 Q3462.16 1574.72 3465.21 1570.14 Q3468.29 1565.53 3474.1 1565.53 Z\" fill=\"#000000\" fill-rule=\"evenodd\" fill-opacity=\"1\" /><path clip-path=\"url(#clip710)\" d=\"M3494.26 1594.84 L3499.15 1594.84 L3499.15 1600.72 L3494.26 1600.72 L3494.26 1594.84 Z\" fill=\"#000000\" fill-rule=\"evenodd\" fill-opacity=\"1\" /><path clip-path=\"url(#clip710)\" d=\"M3509.38 1566.16 L3527.74 1566.16 L3527.74 1570.1 L3513.66 1570.1 L3513.66 1578.57 Q3514.68 1578.22 3515.7 1578.06 Q3516.72 1577.87 3517.74 1577.87 Q3523.52 1577.87 3526.9 1581.04 Q3530.28 1584.22 3530.28 1589.63 Q3530.28 1595.21 3526.81 1598.31 Q3523.34 1601.39 3517.02 1601.39 Q3514.84 1601.39 3512.57 1601.02 Q3510.33 1600.65 3507.92 1599.91 L3507.92 1595.21 Q3510 1596.34 3512.23 1596.9 Q3514.45 1597.46 3516.93 1597.46 Q3520.93 1597.46 3523.27 1595.35 Q3525.61 1593.24 3525.61 1589.63 Q3525.61 1586.02 3523.27 1583.91 Q3520.93 1581.81 3516.93 1581.81 Q3515.05 1581.81 3513.18 1582.22 Q3511.32 1582.64 3509.38 1583.52 L3509.38 1566.16 Z\" fill=\"#000000\" fill-rule=\"evenodd\" fill-opacity=\"1\" /><path clip-path=\"url(#clip710)\" d=\"M3799.15 1596.78 L3806.79 1596.78 L3806.79 1570.42 L3798.48 1572.09 L3798.48 1567.83 L3806.74 1566.16 L3811.41 1566.16 L3811.41 1596.78 L3819.05 1596.78 L3819.05 1600.72 L3799.15 1600.72 L3799.15 1596.78 Z\" fill=\"#000000\" fill-rule=\"evenodd\" fill-opacity=\"1\" /><path clip-path=\"url(#clip710)\" d=\"M3828.5 1594.84 L3833.38 1594.84 L3833.38 1600.72 L3828.5 1600.72 L3828.5 1594.84 Z\" fill=\"#000000\" fill-rule=\"evenodd\" fill-opacity=\"1\" /><path clip-path=\"url(#clip710)\" d=\"M3853.57 1569.24 Q3849.96 1569.24 3848.13 1572.8 Q3846.32 1576.35 3846.32 1583.47 Q3846.32 1590.58 3848.13 1594.15 Q3849.96 1597.69 3853.57 1597.69 Q3857.2 1597.69 3859.01 1594.15 Q3860.84 1590.58 3860.84 1583.47 Q3860.84 1576.35 3859.01 1572.8 Q3857.2 1569.24 3853.57 1569.24 M3853.57 1565.53 Q3859.38 1565.53 3862.43 1570.14 Q3865.51 1574.72 3865.51 1583.47 Q3865.51 1592.2 3862.43 1596.81 Q3859.38 1601.39 3853.57 1601.39 Q3847.76 1601.39 3844.68 1596.81 Q3841.62 1592.2 3841.62 1583.47 Q3841.62 1574.72 3844.68 1570.14 Q3847.76 1565.53 3853.57 1565.53 Z\" fill=\"#000000\" fill-rule=\"evenodd\" fill-opacity=\"1\" /><path clip-path=\"url(#clip710)\" d=\"M4135.42 1596.78 L4143.06 1596.78 L4143.06 1570.42 L4134.75 1572.09 L4134.75 1567.83 L4143.01 1566.16 L4147.69 1566.16 L4147.69 1596.78 L4155.33 1596.78 L4155.33 1600.72 L4135.42 1600.72 L4135.42 1596.78 Z\" fill=\"#000000\" fill-rule=\"evenodd\" fill-opacity=\"1\" /><path clip-path=\"url(#clip710)\" d=\"M4164.77 1594.84 L4169.65 1594.84 L4169.65 1600.72 L4164.77 1600.72 L4164.77 1594.84 Z\" fill=\"#000000\" fill-rule=\"evenodd\" fill-opacity=\"1\" /><path clip-path=\"url(#clip710)\" d=\"M4179.89 1566.16 L4198.24 1566.16 L4198.24 1570.1 L4184.17 1570.1 L4184.17 1578.57 Q4185.19 1578.22 4186.2 1578.06 Q4187.22 1577.87 4188.24 1577.87 Q4194.03 1577.87 4197.41 1581.04 Q4200.79 1584.22 4200.79 1589.63 Q4200.79 1595.21 4197.32 1598.31 Q4193.84 1601.39 4187.52 1601.39 Q4185.35 1601.39 4183.08 1601.02 Q4180.83 1600.65 4178.43 1599.91 L4178.43 1595.21 Q4180.51 1596.34 4182.73 1596.9 Q4184.95 1597.46 4187.43 1597.46 Q4191.44 1597.46 4193.77 1595.35 Q4196.11 1593.24 4196.11 1589.63 Q4196.11 1586.02 4193.77 1583.91 Q4191.44 1581.81 4187.43 1581.81 Q4185.56 1581.81 4183.68 1582.22 Q4181.83 1582.64 4179.89 1583.52 L4179.89 1566.16 Z\" fill=\"#000000\" fill-rule=\"evenodd\" fill-opacity=\"1\" /><polyline clip-path=\"url(#clip713)\" style=\"stroke:#000000; stroke-linecap:butt; stroke-linejoin:round; stroke-width:2; stroke-opacity:0.1; fill:none\" points=\"\n",
       "  2389.41,1362.44 4271.37,1362.44 \n",
       "  \"/>\n",
       "<polyline clip-path=\"url(#clip713)\" style=\"stroke:#000000; stroke-linecap:butt; stroke-linejoin:round; stroke-width:2; stroke-opacity:0.1; fill:none\" points=\"\n",
       "  2389.41,1121.14 4271.37,1121.14 \n",
       "  \"/>\n",
       "<polyline clip-path=\"url(#clip713)\" style=\"stroke:#000000; stroke-linecap:butt; stroke-linejoin:round; stroke-width:2; stroke-opacity:0.1; fill:none\" points=\"\n",
       "  2389.41,879.846 4271.37,879.846 \n",
       "  \"/>\n",
       "<polyline clip-path=\"url(#clip713)\" style=\"stroke:#000000; stroke-linecap:butt; stroke-linejoin:round; stroke-width:2; stroke-opacity:0.1; fill:none\" points=\"\n",
       "  2389.41,638.552 4271.37,638.552 \n",
       "  \"/>\n",
       "<polyline clip-path=\"url(#clip713)\" style=\"stroke:#000000; stroke-linecap:butt; stroke-linejoin:round; stroke-width:2; stroke-opacity:0.1; fill:none\" points=\"\n",
       "  2389.41,397.258 4271.37,397.258 \n",
       "  \"/>\n",
       "<polyline clip-path=\"url(#clip713)\" style=\"stroke:#000000; stroke-linecap:butt; stroke-linejoin:round; stroke-width:2; stroke-opacity:0.1; fill:none\" points=\"\n",
       "  2389.41,155.963 4271.37,155.963 \n",
       "  \"/>\n",
       "<polyline clip-path=\"url(#clip710)\" style=\"stroke:#000000; stroke-linecap:butt; stroke-linejoin:round; stroke-width:4; stroke-opacity:1; fill:none\" points=\"\n",
       "  2389.41,1508.05 2389.41,47.2441 \n",
       "  \"/>\n",
       "<polyline clip-path=\"url(#clip710)\" style=\"stroke:#000000; stroke-linecap:butt; stroke-linejoin:round; stroke-width:4; stroke-opacity:1; fill:none\" points=\"\n",
       "  2389.41,1362.44 2408.31,1362.44 \n",
       "  \"/>\n",
       "<polyline clip-path=\"url(#clip710)\" style=\"stroke:#000000; stroke-linecap:butt; stroke-linejoin:round; stroke-width:4; stroke-opacity:1; fill:none\" points=\"\n",
       "  2389.41,1121.14 2408.31,1121.14 \n",
       "  \"/>\n",
       "<polyline clip-path=\"url(#clip710)\" style=\"stroke:#000000; stroke-linecap:butt; stroke-linejoin:round; stroke-width:4; stroke-opacity:1; fill:none\" points=\"\n",
       "  2389.41,879.846 2408.31,879.846 \n",
       "  \"/>\n",
       "<polyline clip-path=\"url(#clip710)\" style=\"stroke:#000000; stroke-linecap:butt; stroke-linejoin:round; stroke-width:4; stroke-opacity:1; fill:none\" points=\"\n",
       "  2389.41,638.552 2408.31,638.552 \n",
       "  \"/>\n",
       "<polyline clip-path=\"url(#clip710)\" style=\"stroke:#000000; stroke-linecap:butt; stroke-linejoin:round; stroke-width:4; stroke-opacity:1; fill:none\" points=\"\n",
       "  2389.41,397.258 2408.31,397.258 \n",
       "  \"/>\n",
       "<polyline clip-path=\"url(#clip710)\" style=\"stroke:#000000; stroke-linecap:butt; stroke-linejoin:round; stroke-width:4; stroke-opacity:1; fill:none\" points=\"\n",
       "  2389.41,155.963 2408.31,155.963 \n",
       "  \"/>\n",
       "<path clip-path=\"url(#clip710)\" d=\"M2187.47 1362.89 L2217.14 1362.89 L2217.14 1366.82 L2187.47 1366.82 L2187.47 1362.89 Z\" fill=\"#000000\" fill-rule=\"evenodd\" fill-opacity=\"1\" /><path clip-path=\"url(#clip710)\" d=\"M2228.04 1375.78 L2235.68 1375.78 L2235.68 1349.41 L2227.37 1351.08 L2227.37 1346.82 L2235.64 1345.16 L2240.31 1345.16 L2240.31 1375.78 L2247.95 1375.78 L2247.95 1379.72 L2228.04 1379.72 L2228.04 1375.78 Z\" fill=\"#000000\" fill-rule=\"evenodd\" fill-opacity=\"1\" /><path clip-path=\"url(#clip710)\" d=\"M2257.4 1373.84 L2262.28 1373.84 L2262.28 1379.72 L2257.4 1379.72 L2257.4 1373.84 Z\" fill=\"#000000\" fill-rule=\"evenodd\" fill-opacity=\"1\" /><path clip-path=\"url(#clip710)\" d=\"M2272.51 1345.16 L2290.87 1345.16 L2290.87 1349.09 L2276.79 1349.09 L2276.79 1357.56 Q2277.81 1357.22 2278.83 1357.05 Q2279.85 1356.87 2280.87 1356.87 Q2286.66 1356.87 2290.03 1360.04 Q2293.41 1363.21 2293.41 1368.63 Q2293.41 1374.21 2289.94 1377.31 Q2286.47 1380.39 2280.15 1380.39 Q2277.97 1380.39 2275.71 1380.02 Q2273.46 1379.65 2271.05 1378.91 L2271.05 1374.21 Q2273.14 1375.34 2275.36 1375.9 Q2277.58 1376.45 2280.06 1376.45 Q2284.06 1376.45 2286.4 1374.34 Q2288.74 1372.24 2288.74 1368.63 Q2288.74 1365.02 2286.4 1362.91 Q2284.06 1360.8 2280.06 1360.8 Q2278.18 1360.8 2276.31 1361.22 Q2274.46 1361.64 2272.51 1362.52 L2272.51 1345.16 Z\" fill=\"#000000\" fill-rule=\"evenodd\" fill-opacity=\"1\" /><path clip-path=\"url(#clip710)\" d=\"M2186.47 1121.59 L2216.15 1121.59 L2216.15 1125.53 L2186.47 1125.53 L2186.47 1121.59 Z\" fill=\"#000000\" fill-rule=\"evenodd\" fill-opacity=\"1\" /><path clip-path=\"url(#clip710)\" d=\"M2227.05 1134.49 L2234.69 1134.49 L2234.69 1108.12 L2226.38 1109.79 L2226.38 1105.53 L2234.64 1103.86 L2239.32 1103.86 L2239.32 1134.49 L2246.96 1134.49 L2246.96 1138.42 L2227.05 1138.42 L2227.05 1134.49 Z\" fill=\"#000000\" fill-rule=\"evenodd\" fill-opacity=\"1\" /><path clip-path=\"url(#clip710)\" d=\"M2256.4 1132.54 L2261.28 1132.54 L2261.28 1138.42 L2256.4 1138.42 L2256.4 1132.54 Z\" fill=\"#000000\" fill-rule=\"evenodd\" fill-opacity=\"1\" /><path clip-path=\"url(#clip710)\" d=\"M2281.47 1106.94 Q2277.86 1106.94 2276.03 1110.5 Q2274.22 1114.05 2274.22 1121.18 Q2274.22 1128.28 2276.03 1131.85 Q2277.86 1135.39 2281.47 1135.39 Q2285.1 1135.39 2286.91 1131.85 Q2288.74 1128.28 2288.74 1121.18 Q2288.74 1114.05 2286.91 1110.5 Q2285.1 1106.94 2281.47 1106.94 M2281.47 1103.24 Q2287.28 1103.24 2290.34 1107.84 Q2293.41 1112.43 2293.41 1121.18 Q2293.41 1129.9 2290.34 1134.51 Q2287.28 1139.09 2281.47 1139.09 Q2275.66 1139.09 2272.58 1134.51 Q2269.53 1129.9 2269.53 1121.18 Q2269.53 1112.43 2272.58 1107.84 Q2275.66 1103.24 2281.47 1103.24 Z\" fill=\"#000000\" fill-rule=\"evenodd\" fill-opacity=\"1\" /><path clip-path=\"url(#clip710)\" d=\"M2187.47 880.298 L2217.14 880.298 L2217.14 884.233 L2187.47 884.233 L2187.47 880.298 Z\" fill=\"#000000\" fill-rule=\"evenodd\" fill-opacity=\"1\" /><path clip-path=\"url(#clip710)\" d=\"M2237.23 865.645 Q2233.62 865.645 2231.79 869.21 Q2229.99 872.752 2229.99 879.881 Q2229.99 886.988 2231.79 890.552 Q2233.62 894.094 2237.23 894.094 Q2240.87 894.094 2242.67 890.552 Q2244.5 886.988 2244.5 879.881 Q2244.5 872.752 2242.67 869.21 Q2240.87 865.645 2237.23 865.645 M2237.23 861.941 Q2243.04 861.941 2246.1 866.548 Q2249.18 871.131 2249.18 879.881 Q2249.18 888.608 2246.1 893.214 Q2243.04 897.798 2237.23 897.798 Q2231.42 897.798 2228.35 893.214 Q2225.29 888.608 2225.29 879.881 Q2225.29 871.131 2228.35 866.548 Q2231.42 861.941 2237.23 861.941 Z\" fill=\"#000000\" fill-rule=\"evenodd\" fill-opacity=\"1\" /><path clip-path=\"url(#clip710)\" d=\"M2257.4 891.247 L2262.28 891.247 L2262.28 897.126 L2257.4 897.126 L2257.4 891.247 Z\" fill=\"#000000\" fill-rule=\"evenodd\" fill-opacity=\"1\" /><path clip-path=\"url(#clip710)\" d=\"M2272.51 862.566 L2290.87 862.566 L2290.87 866.502 L2276.79 866.502 L2276.79 874.974 Q2277.81 874.627 2278.83 874.465 Q2279.85 874.279 2280.87 874.279 Q2286.66 874.279 2290.03 877.451 Q2293.41 880.622 2293.41 886.039 Q2293.41 891.617 2289.94 894.719 Q2286.47 897.798 2280.15 897.798 Q2277.97 897.798 2275.71 897.427 Q2273.46 897.057 2271.05 896.316 L2271.05 891.617 Q2273.14 892.751 2275.36 893.307 Q2277.58 893.863 2280.06 893.863 Q2284.06 893.863 2286.4 891.756 Q2288.74 889.65 2288.74 886.039 Q2288.74 882.427 2286.4 880.321 Q2284.06 878.215 2280.06 878.215 Q2278.18 878.215 2276.31 878.631 Q2274.46 879.048 2272.51 879.927 L2272.51 862.566 Z\" fill=\"#000000\" fill-rule=\"evenodd\" fill-opacity=\"1\" /><path clip-path=\"url(#clip710)\" d=\"M2236.24 624.351 Q2232.63 624.351 2230.8 627.916 Q2228.99 631.457 2228.99 638.587 Q2228.99 645.693 2230.8 649.258 Q2232.63 652.8 2236.24 652.8 Q2239.87 652.8 2241.68 649.258 Q2243.51 645.693 2243.51 638.587 Q2243.51 631.457 2241.68 627.916 Q2239.87 624.351 2236.24 624.351 M2236.24 620.647 Q2242.05 620.647 2245.1 625.253 Q2248.18 629.837 2248.18 638.587 Q2248.18 647.314 2245.1 651.92 Q2242.05 656.503 2236.24 656.503 Q2230.43 656.503 2227.35 651.92 Q2224.29 647.314 2224.29 638.587 Q2224.29 629.837 2227.35 625.253 Q2230.43 620.647 2236.24 620.647 Z\" fill=\"#000000\" fill-rule=\"evenodd\" fill-opacity=\"1\" /><path clip-path=\"url(#clip710)\" d=\"M2256.4 649.952 L2261.28 649.952 L2261.28 655.832 L2256.4 655.832 L2256.4 649.952 Z\" fill=\"#000000\" fill-rule=\"evenodd\" fill-opacity=\"1\" /><path clip-path=\"url(#clip710)\" d=\"M2281.47 624.351 Q2277.86 624.351 2276.03 627.916 Q2274.22 631.457 2274.22 638.587 Q2274.22 645.693 2276.03 649.258 Q2277.86 652.8 2281.47 652.8 Q2285.1 652.8 2286.91 649.258 Q2288.74 645.693 2288.74 638.587 Q2288.74 631.457 2286.91 627.916 Q2285.1 624.351 2281.47 624.351 M2281.47 620.647 Q2287.28 620.647 2290.34 625.253 Q2293.41 629.837 2293.41 638.587 Q2293.41 647.314 2290.34 651.92 Q2287.28 656.503 2281.47 656.503 Q2275.66 656.503 2272.58 651.92 Q2269.53 647.314 2269.53 638.587 Q2269.53 629.837 2272.58 625.253 Q2275.66 620.647 2281.47 620.647 Z\" fill=\"#000000\" fill-rule=\"evenodd\" fill-opacity=\"1\" /><path clip-path=\"url(#clip710)\" d=\"M2237.23 383.056 Q2233.62 383.056 2231.79 386.621 Q2229.99 390.163 2229.99 397.292 Q2229.99 404.399 2231.79 407.964 Q2233.62 411.505 2237.23 411.505 Q2240.87 411.505 2242.67 407.964 Q2244.5 404.399 2244.5 397.292 Q2244.5 390.163 2242.67 386.621 Q2240.87 383.056 2237.23 383.056 M2237.23 379.353 Q2243.04 379.353 2246.1 383.959 Q2249.18 388.542 2249.18 397.292 Q2249.18 406.019 2246.1 410.626 Q2243.04 415.209 2237.23 415.209 Q2231.42 415.209 2228.35 410.626 Q2225.29 406.019 2225.29 397.292 Q2225.29 388.542 2228.35 383.959 Q2231.42 379.353 2237.23 379.353 Z\" fill=\"#000000\" fill-rule=\"evenodd\" fill-opacity=\"1\" /><path clip-path=\"url(#clip710)\" d=\"M2257.4 408.658 L2262.28 408.658 L2262.28 414.538 L2257.4 414.538 L2257.4 408.658 Z\" fill=\"#000000\" fill-rule=\"evenodd\" fill-opacity=\"1\" /><path clip-path=\"url(#clip710)\" d=\"M2272.51 379.978 L2290.87 379.978 L2290.87 383.913 L2276.79 383.913 L2276.79 392.385 Q2277.81 392.038 2278.83 391.876 Q2279.85 391.691 2280.87 391.691 Q2286.66 391.691 2290.03 394.862 Q2293.41 398.033 2293.41 403.45 Q2293.41 409.028 2289.94 412.13 Q2286.47 415.209 2280.15 415.209 Q2277.97 415.209 2275.71 414.839 Q2273.46 414.468 2271.05 413.727 L2271.05 409.028 Q2273.14 410.163 2275.36 410.718 Q2277.58 411.274 2280.06 411.274 Q2284.06 411.274 2286.4 409.167 Q2288.74 407.061 2288.74 403.45 Q2288.74 399.839 2286.4 397.732 Q2284.06 395.626 2280.06 395.626 Q2278.18 395.626 2276.31 396.042 Q2274.46 396.459 2272.51 397.339 L2272.51 379.978 Z\" fill=\"#000000\" fill-rule=\"evenodd\" fill-opacity=\"1\" /><path clip-path=\"url(#clip710)\" d=\"M2227.05 169.308 L2234.69 169.308 L2234.69 142.942 L2226.38 144.609 L2226.38 140.35 L2234.64 138.683 L2239.32 138.683 L2239.32 169.308 L2246.96 169.308 L2246.96 173.243 L2227.05 173.243 L2227.05 169.308 Z\" fill=\"#000000\" fill-rule=\"evenodd\" fill-opacity=\"1\" /><path clip-path=\"url(#clip710)\" d=\"M2256.4 167.364 L2261.28 167.364 L2261.28 173.243 L2256.4 173.243 L2256.4 167.364 Z\" fill=\"#000000\" fill-rule=\"evenodd\" fill-opacity=\"1\" /><path clip-path=\"url(#clip710)\" d=\"M2281.47 141.762 Q2277.86 141.762 2276.03 145.327 Q2274.22 148.868 2274.22 155.998 Q2274.22 163.104 2276.03 166.669 Q2277.86 170.211 2281.47 170.211 Q2285.1 170.211 2286.91 166.669 Q2288.74 163.104 2288.74 155.998 Q2288.74 148.868 2286.91 145.327 Q2285.1 141.762 2281.47 141.762 M2281.47 138.058 Q2287.28 138.058 2290.34 142.665 Q2293.41 147.248 2293.41 155.998 Q2293.41 164.725 2290.34 169.331 Q2287.28 173.914 2281.47 173.914 Q2275.66 173.914 2272.58 169.331 Q2269.53 164.725 2269.53 155.998 Q2269.53 147.248 2272.58 142.665 Q2275.66 138.058 2281.47 138.058 Z\" fill=\"#000000\" fill-rule=\"evenodd\" fill-opacity=\"1\" /><circle clip-path=\"url(#clip713)\" cx=\"2475.52\" cy=\"228.795\" r=\"14\" fill=\"#ff00cc\" fill-rule=\"evenodd\" fill-opacity=\"1\" stroke=\"#000000\" stroke-opacity=\"1\" stroke-width=\"3.2\"/>\n",
       "<circle clip-path=\"url(#clip713)\" cx=\"2442.87\" cy=\"249.641\" r=\"14\" fill=\"#0000ff\" fill-rule=\"evenodd\" fill-opacity=\"1\" stroke=\"#000000\" stroke-opacity=\"1\" stroke-width=\"3.2\"/>\n",
       "<circle clip-path=\"url(#clip713)\" cx=\"2453.68\" cy=\"223.411\" r=\"14\" fill=\"#0000ff\" fill-rule=\"evenodd\" fill-opacity=\"1\" stroke=\"#000000\" stroke-opacity=\"1\" stroke-width=\"3.2\"/>\n",
       "<circle clip-path=\"url(#clip713)\" cx=\"2466.33\" cy=\"230.646\" r=\"14\" fill=\"#ff0099\" fill-rule=\"evenodd\" fill-opacity=\"1\" stroke=\"#000000\" stroke-opacity=\"1\" stroke-width=\"3.2\"/>\n",
       "<circle clip-path=\"url(#clip713)\" cx=\"2442.68\" cy=\"256.579\" r=\"14\" fill=\"#0000ff\" fill-rule=\"evenodd\" fill-opacity=\"1\" stroke=\"#000000\" stroke-opacity=\"1\" stroke-width=\"3.2\"/>\n",
       "<circle clip-path=\"url(#clip713)\" cx=\"2502.39\" cy=\"340.057\" r=\"14\" fill=\"#ff0000\" fill-rule=\"evenodd\" fill-opacity=\"1\" stroke=\"#000000\" stroke-opacity=\"1\" stroke-width=\"3.2\"/>\n",
       "<circle clip-path=\"url(#clip713)\" cx=\"2522.12\" cy=\"321.657\" r=\"14\" fill=\"#ff00ff\" fill-rule=\"evenodd\" fill-opacity=\"1\" stroke=\"#000000\" stroke-opacity=\"1\" stroke-width=\"3.2\"/>\n",
       "<circle clip-path=\"url(#clip713)\" cx=\"2501.78\" cy=\"362.837\" r=\"14\" fill=\"#6600ff\" fill-rule=\"evenodd\" fill-opacity=\"1\" stroke=\"#000000\" stroke-opacity=\"1\" stroke-width=\"3.2\"/>\n",
       "<circle clip-path=\"url(#clip713)\" cx=\"2581.67\" cy=\"379.676\" r=\"14\" fill=\"#0000ff\" fill-rule=\"evenodd\" fill-opacity=\"1\" stroke=\"#000000\" stroke-opacity=\"1\" stroke-width=\"3.2\"/>\n",
       "<circle clip-path=\"url(#clip713)\" cx=\"2557.01\" cy=\"412.269\" r=\"14\" fill=\"#ff0066\" fill-rule=\"evenodd\" fill-opacity=\"1\" stroke=\"#000000\" stroke-opacity=\"1\" stroke-width=\"3.2\"/>\n",
       "<circle clip-path=\"url(#clip713)\" cx=\"2581.83\" cy=\"395.527\" r=\"14\" fill=\"#ff0000\" fill-rule=\"evenodd\" fill-opacity=\"1\" stroke=\"#000000\" stroke-opacity=\"1\" stroke-width=\"3.2\"/>\n",
       "<circle clip-path=\"url(#clip713)\" cx=\"2565.04\" cy=\"393.061\" r=\"14\" fill=\"#ff0000\" fill-rule=\"evenodd\" fill-opacity=\"1\" stroke=\"#000000\" stroke-opacity=\"1\" stroke-width=\"3.2\"/>\n",
       "<circle clip-path=\"url(#clip713)\" cx=\"2547.58\" cy=\"441.56\" r=\"14\" fill=\"#9900ff\" fill-rule=\"evenodd\" fill-opacity=\"1\" stroke=\"#000000\" stroke-opacity=\"1\" stroke-width=\"3.2\"/>\n",
       "<circle clip-path=\"url(#clip713)\" cx=\"2575.79\" cy=\"384.343\" r=\"14\" fill=\"#0000ff\" fill-rule=\"evenodd\" fill-opacity=\"1\" stroke=\"#000000\" stroke-opacity=\"1\" stroke-width=\"3.2\"/>\n",
       "<circle clip-path=\"url(#clip713)\" cx=\"2538.53\" cy=\"449.467\" r=\"14\" fill=\"#0000ff\" fill-rule=\"evenodd\" fill-opacity=\"1\" stroke=\"#000000\" stroke-opacity=\"1\" stroke-width=\"3.2\"/>\n",
       "<circle clip-path=\"url(#clip713)\" cx=\"2579.72\" cy=\"391.621\" r=\"14\" fill=\"#ff0000\" fill-rule=\"evenodd\" fill-opacity=\"1\" stroke=\"#000000\" stroke-opacity=\"1\" stroke-width=\"3.2\"/>\n",
       "<circle clip-path=\"url(#clip713)\" cx=\"2800.07\" cy=\"203.229\" r=\"14\" fill=\"#ff0000\" fill-rule=\"evenodd\" fill-opacity=\"1\" stroke=\"#000000\" stroke-opacity=\"1\" stroke-width=\"3.2\"/>\n",
       "<circle clip-path=\"url(#clip713)\" cx=\"2696.3\" cy=\"284.326\" r=\"14\" fill=\"#cc00ff\" fill-rule=\"evenodd\" fill-opacity=\"1\" stroke=\"#000000\" stroke-opacity=\"1\" stroke-width=\"3.2\"/>\n",
       "<circle clip-path=\"url(#clip713)\" cx=\"2688.6\" cy=\"286.541\" r=\"14\" fill=\"#ff0066\" fill-rule=\"evenodd\" fill-opacity=\"1\" stroke=\"#000000\" stroke-opacity=\"1\" stroke-width=\"3.2\"/>\n",
       "<circle clip-path=\"url(#clip713)\" cx=\"2913.7\" cy=\"113.64\" r=\"14\" fill=\"#0000ff\" fill-rule=\"evenodd\" fill-opacity=\"1\" stroke=\"#000000\" stroke-opacity=\"1\" stroke-width=\"3.2\"/>\n",
       "<circle clip-path=\"url(#clip713)\" cx=\"2937.56\" cy=\"108.185\" r=\"14\" fill=\"#9900ff\" fill-rule=\"evenodd\" fill-opacity=\"1\" stroke=\"#000000\" stroke-opacity=\"1\" stroke-width=\"3.2\"/>\n",
       "<circle clip-path=\"url(#clip713)\" cx=\"2802.53\" cy=\"232.65\" r=\"14\" fill=\"#ff00ff\" fill-rule=\"evenodd\" fill-opacity=\"1\" stroke=\"#000000\" stroke-opacity=\"1\" stroke-width=\"3.2\"/>\n",
       "<circle clip-path=\"url(#clip713)\" cx=\"2745.53\" cy=\"273.547\" r=\"14\" fill=\"#ff0033\" fill-rule=\"evenodd\" fill-opacity=\"1\" stroke=\"#000000\" stroke-opacity=\"1\" stroke-width=\"3.2\"/>\n",
       "<circle clip-path=\"url(#clip713)\" cx=\"2772.61\" cy=\"250.662\" r=\"14\" fill=\"#ff0099\" fill-rule=\"evenodd\" fill-opacity=\"1\" stroke=\"#000000\" stroke-opacity=\"1\" stroke-width=\"3.2\"/>\n",
       "<circle clip-path=\"url(#clip713)\" cx=\"2835.41\" cy=\"214.222\" r=\"14\" fill=\"#ff0000\" fill-rule=\"evenodd\" fill-opacity=\"1\" stroke=\"#000000\" stroke-opacity=\"1\" stroke-width=\"3.2\"/>\n",
       "<circle clip-path=\"url(#clip713)\" cx=\"2847.97\" cy=\"204.225\" r=\"14\" fill=\"#cc00ff\" fill-rule=\"evenodd\" fill-opacity=\"1\" stroke=\"#000000\" stroke-opacity=\"1\" stroke-width=\"3.2\"/>\n",
       "<circle clip-path=\"url(#clip713)\" cx=\"2784.96\" cy=\"241.059\" r=\"14\" fill=\"#ff00ff\" fill-rule=\"evenodd\" fill-opacity=\"1\" stroke=\"#000000\" stroke-opacity=\"1\" stroke-width=\"3.2\"/>\n",
       "<circle clip-path=\"url(#clip713)\" cx=\"2809.6\" cy=\"225.113\" r=\"14\" fill=\"#ff0066\" fill-rule=\"evenodd\" fill-opacity=\"1\" stroke=\"#000000\" stroke-opacity=\"1\" stroke-width=\"3.2\"/>\n",
       "<circle clip-path=\"url(#clip713)\" cx=\"3560.99\" cy=\"1274\" r=\"14\" fill=\"#ff0033\" fill-rule=\"evenodd\" fill-opacity=\"1\" stroke=\"#000000\" stroke-opacity=\"1\" stroke-width=\"3.2\"/>\n",
       "<circle clip-path=\"url(#clip713)\" cx=\"3755.53\" cy=\"1022.71\" r=\"14\" fill=\"#ff0066\" fill-rule=\"evenodd\" fill-opacity=\"1\" stroke=\"#000000\" stroke-opacity=\"1\" stroke-width=\"3.2\"/>\n",
       "<circle clip-path=\"url(#clip713)\" cx=\"3683.85\" cy=\"1119.39\" r=\"14\" fill=\"#ff00cc\" fill-rule=\"evenodd\" fill-opacity=\"1\" stroke=\"#000000\" stroke-opacity=\"1\" stroke-width=\"3.2\"/>\n",
       "<circle clip-path=\"url(#clip713)\" cx=\"3800.09\" cy=\"970.152\" r=\"14\" fill=\"#3300ff\" fill-rule=\"evenodd\" fill-opacity=\"1\" stroke=\"#000000\" stroke-opacity=\"1\" stroke-width=\"3.2\"/>\n",
       "<circle clip-path=\"url(#clip713)\" cx=\"3641.1\" cy=\"1180.02\" r=\"14\" fill=\"#3300ff\" fill-rule=\"evenodd\" fill-opacity=\"1\" stroke=\"#000000\" stroke-opacity=\"1\" stroke-width=\"3.2\"/>\n",
       "<circle clip-path=\"url(#clip713)\" cx=\"3608.22\" cy=\"1219.33\" r=\"14\" fill=\"#3300ff\" fill-rule=\"evenodd\" fill-opacity=\"1\" stroke=\"#000000\" stroke-opacity=\"1\" stroke-width=\"3.2\"/>\n",
       "<circle clip-path=\"url(#clip713)\" cx=\"3535.61\" cy=\"1304.06\" r=\"14\" fill=\"#9900ff\" fill-rule=\"evenodd\" fill-opacity=\"1\" stroke=\"#000000\" stroke-opacity=\"1\" stroke-width=\"3.2\"/>\n",
       "<circle clip-path=\"url(#clip713)\" cx=\"3727.59\" cy=\"1442.04\" r=\"14\" fill=\"#ff0033\" fill-rule=\"evenodd\" fill-opacity=\"1\" stroke=\"#000000\" stroke-opacity=\"1\" stroke-width=\"3.2\"/>\n",
       "<circle clip-path=\"url(#clip713)\" cx=\"3755.1\" cy=\"1433.41\" r=\"14\" fill=\"#0000ff\" fill-rule=\"evenodd\" fill-opacity=\"1\" stroke=\"#000000\" stroke-opacity=\"1\" stroke-width=\"3.2\"/>\n",
       "<circle clip-path=\"url(#clip713)\" cx=\"4197.98\" cy=\"1355.56\" r=\"14\" fill=\"#3300ff\" fill-rule=\"evenodd\" fill-opacity=\"1\" stroke=\"#000000\" stroke-opacity=\"1\" stroke-width=\"3.2\"/>\n",
       "<circle clip-path=\"url(#clip713)\" cx=\"4188.16\" cy=\"1364.47\" r=\"14\" fill=\"#ff00ff\" fill-rule=\"evenodd\" fill-opacity=\"1\" stroke=\"#000000\" stroke-opacity=\"1\" stroke-width=\"3.2\"/>\n",
       "<circle clip-path=\"url(#clip713)\" cx=\"4197.39\" cy=\"1362.69\" r=\"14\" fill=\"#ff00ff\" fill-rule=\"evenodd\" fill-opacity=\"1\" stroke=\"#000000\" stroke-opacity=\"1\" stroke-width=\"3.2\"/>\n",
       "<circle clip-path=\"url(#clip713)\" cx=\"2444.27\" cy=\"263.536\" r=\"14\" fill=\"#ff00cc\" fill-rule=\"evenodd\" fill-opacity=\"1\" stroke=\"#000000\" stroke-opacity=\"1\" stroke-width=\"3.2\"/>\n",
       "<circle clip-path=\"url(#clip713)\" cx=\"2448.82\" cy=\"253.366\" r=\"14\" fill=\"#0000ff\" fill-rule=\"evenodd\" fill-opacity=\"1\" stroke=\"#000000\" stroke-opacity=\"1\" stroke-width=\"3.2\"/>\n",
       "<circle clip-path=\"url(#clip713)\" cx=\"2458.19\" cy=\"261.129\" r=\"14\" fill=\"#0000ff\" fill-rule=\"evenodd\" fill-opacity=\"1\" stroke=\"#000000\" stroke-opacity=\"1\" stroke-width=\"3.2\"/>\n",
       "<circle clip-path=\"url(#clip713)\" cx=\"2459.77\" cy=\"287.564\" r=\"14\" fill=\"#ff0099\" fill-rule=\"evenodd\" fill-opacity=\"1\" stroke=\"#000000\" stroke-opacity=\"1\" stroke-width=\"3.2\"/>\n",
       "<circle clip-path=\"url(#clip713)\" cx=\"2497.3\" cy=\"194.002\" r=\"14\" fill=\"#0000ff\" fill-rule=\"evenodd\" fill-opacity=\"1\" stroke=\"#000000\" stroke-opacity=\"1\" stroke-width=\"3.2\"/>\n",
       "<circle clip-path=\"url(#clip713)\" cx=\"2570.72\" cy=\"256.84\" r=\"14\" fill=\"#ff0000\" fill-rule=\"evenodd\" fill-opacity=\"1\" stroke=\"#000000\" stroke-opacity=\"1\" stroke-width=\"3.2\"/>\n",
       "<circle clip-path=\"url(#clip713)\" cx=\"2531.42\" cy=\"323.015\" r=\"14\" fill=\"#ff00ff\" fill-rule=\"evenodd\" fill-opacity=\"1\" stroke=\"#000000\" stroke-opacity=\"1\" stroke-width=\"3.2\"/>\n",
       "<circle clip-path=\"url(#clip713)\" cx=\"2481.01\" cy=\"403.868\" r=\"14\" fill=\"#6600ff\" fill-rule=\"evenodd\" fill-opacity=\"1\" stroke=\"#000000\" stroke-opacity=\"1\" stroke-width=\"3.2\"/>\n",
       "<circle clip-path=\"url(#clip713)\" cx=\"2564.24\" cy=\"406.153\" r=\"14\" fill=\"#0000ff\" fill-rule=\"evenodd\" fill-opacity=\"1\" stroke=\"#000000\" stroke-opacity=\"1\" stroke-width=\"3.2\"/>\n",
       "<circle clip-path=\"url(#clip713)\" cx=\"2608.52\" cy=\"332.981\" r=\"14\" fill=\"#ff0066\" fill-rule=\"evenodd\" fill-opacity=\"1\" stroke=\"#000000\" stroke-opacity=\"1\" stroke-width=\"3.2\"/>\n",
       "<circle clip-path=\"url(#clip713)\" cx=\"2633.79\" cy=\"310.358\" r=\"14\" fill=\"#ff0000\" fill-rule=\"evenodd\" fill-opacity=\"1\" stroke=\"#000000\" stroke-opacity=\"1\" stroke-width=\"3.2\"/>\n",
       "<circle clip-path=\"url(#clip713)\" cx=\"2554.48\" cy=\"412.764\" r=\"14\" fill=\"#ff0000\" fill-rule=\"evenodd\" fill-opacity=\"1\" stroke=\"#000000\" stroke-opacity=\"1\" stroke-width=\"3.2\"/>\n",
       "<circle clip-path=\"url(#clip713)\" cx=\"2600.26\" cy=\"352.697\" r=\"14\" fill=\"#9900ff\" fill-rule=\"evenodd\" fill-opacity=\"1\" stroke=\"#000000\" stroke-opacity=\"1\" stroke-width=\"3.2\"/>\n",
       "<circle clip-path=\"url(#clip713)\" cx=\"2569.01\" cy=\"394.411\" r=\"14\" fill=\"#0000ff\" fill-rule=\"evenodd\" fill-opacity=\"1\" stroke=\"#000000\" stroke-opacity=\"1\" stroke-width=\"3.2\"/>\n",
       "<circle clip-path=\"url(#clip713)\" cx=\"2564.46\" cy=\"396.405\" r=\"14\" fill=\"#0000ff\" fill-rule=\"evenodd\" fill-opacity=\"1\" stroke=\"#000000\" stroke-opacity=\"1\" stroke-width=\"3.2\"/>\n",
       "<circle clip-path=\"url(#clip713)\" cx=\"2557.08\" cy=\"408.029\" r=\"14\" fill=\"#ff0000\" fill-rule=\"evenodd\" fill-opacity=\"1\" stroke=\"#000000\" stroke-opacity=\"1\" stroke-width=\"3.2\"/>\n",
       "<circle clip-path=\"url(#clip713)\" cx=\"2801.28\" cy=\"203.637\" r=\"14\" fill=\"#ff0000\" fill-rule=\"evenodd\" fill-opacity=\"1\" stroke=\"#000000\" stroke-opacity=\"1\" stroke-width=\"3.2\"/>\n",
       "<circle clip-path=\"url(#clip713)\" cx=\"2839.45\" cy=\"190.119\" r=\"14\" fill=\"#cc00ff\" fill-rule=\"evenodd\" fill-opacity=\"1\" stroke=\"#000000\" stroke-opacity=\"1\" stroke-width=\"3.2\"/>\n",
       "<circle clip-path=\"url(#clip713)\" cx=\"2705.95\" cy=\"289.754\" r=\"14\" fill=\"#ff0066\" fill-rule=\"evenodd\" fill-opacity=\"1\" stroke=\"#000000\" stroke-opacity=\"1\" stroke-width=\"3.2\"/>\n",
       "<circle clip-path=\"url(#clip713)\" cx=\"2958.41\" cy=\"88.5876\" r=\"14\" fill=\"#0000ff\" fill-rule=\"evenodd\" fill-opacity=\"1\" stroke=\"#000000\" stroke-opacity=\"1\" stroke-width=\"3.2\"/>\n",
       "<circle clip-path=\"url(#clip713)\" cx=\"2873.77\" cy=\"128.347\" r=\"14\" fill=\"#9900ff\" fill-rule=\"evenodd\" fill-opacity=\"1\" stroke=\"#000000\" stroke-opacity=\"1\" stroke-width=\"3.2\"/>\n",
       "<circle clip-path=\"url(#clip713)\" cx=\"2892.57\" cy=\"175.058\" r=\"14\" fill=\"#ff00ff\" fill-rule=\"evenodd\" fill-opacity=\"1\" stroke=\"#000000\" stroke-opacity=\"1\" stroke-width=\"3.2\"/>\n",
       "<circle clip-path=\"url(#clip713)\" cx=\"2806.03\" cy=\"225.679\" r=\"14\" fill=\"#ff0033\" fill-rule=\"evenodd\" fill-opacity=\"1\" stroke=\"#000000\" stroke-opacity=\"1\" stroke-width=\"3.2\"/>\n",
       "<circle clip-path=\"url(#clip713)\" cx=\"2753.18\" cy=\"278.409\" r=\"14\" fill=\"#ff0099\" fill-rule=\"evenodd\" fill-opacity=\"1\" stroke=\"#000000\" stroke-opacity=\"1\" stroke-width=\"3.2\"/>\n",
       "<circle clip-path=\"url(#clip713)\" cx=\"2787.59\" cy=\"254.044\" r=\"14\" fill=\"#ff0000\" fill-rule=\"evenodd\" fill-opacity=\"1\" stroke=\"#000000\" stroke-opacity=\"1\" stroke-width=\"3.2\"/>\n",
       "<circle clip-path=\"url(#clip713)\" cx=\"2728.43\" cy=\"297.436\" r=\"14\" fill=\"#cc00ff\" fill-rule=\"evenodd\" fill-opacity=\"1\" stroke=\"#000000\" stroke-opacity=\"1\" stroke-width=\"3.2\"/>\n",
       "<circle clip-path=\"url(#clip713)\" cx=\"2759.63\" cy=\"259.003\" r=\"14\" fill=\"#ff00ff\" fill-rule=\"evenodd\" fill-opacity=\"1\" stroke=\"#000000\" stroke-opacity=\"1\" stroke-width=\"3.2\"/>\n",
       "<circle clip-path=\"url(#clip713)\" cx=\"2806.31\" cy=\"245.596\" r=\"14\" fill=\"#ff0066\" fill-rule=\"evenodd\" fill-opacity=\"1\" stroke=\"#000000\" stroke-opacity=\"1\" stroke-width=\"3.2\"/>\n",
       "<circle clip-path=\"url(#clip713)\" cx=\"3646.33\" cy=\"1172.04\" r=\"14\" fill=\"#ff0033\" fill-rule=\"evenodd\" fill-opacity=\"1\" stroke=\"#000000\" stroke-opacity=\"1\" stroke-width=\"3.2\"/>\n",
       "<circle clip-path=\"url(#clip713)\" cx=\"3662.21\" cy=\"1147.39\" r=\"14\" fill=\"#ff0066\" fill-rule=\"evenodd\" fill-opacity=\"1\" stroke=\"#000000\" stroke-opacity=\"1\" stroke-width=\"3.2\"/>\n",
       "<circle clip-path=\"url(#clip713)\" cx=\"3630.97\" cy=\"1183.02\" r=\"14\" fill=\"#ff00cc\" fill-rule=\"evenodd\" fill-opacity=\"1\" stroke=\"#000000\" stroke-opacity=\"1\" stroke-width=\"3.2\"/>\n",
       "<circle clip-path=\"url(#clip713)\" cx=\"3567.42\" cy=\"1260.1\" r=\"14\" fill=\"#3300ff\" fill-rule=\"evenodd\" fill-opacity=\"1\" stroke=\"#000000\" stroke-opacity=\"1\" stroke-width=\"3.2\"/>\n",
       "<circle clip-path=\"url(#clip713)\" cx=\"3674.5\" cy=\"1138.17\" r=\"14\" fill=\"#3300ff\" fill-rule=\"evenodd\" fill-opacity=\"1\" stroke=\"#000000\" stroke-opacity=\"1\" stroke-width=\"3.2\"/>\n",
       "<circle clip-path=\"url(#clip713)\" cx=\"3653.25\" cy=\"1159.02\" r=\"14\" fill=\"#3300ff\" fill-rule=\"evenodd\" fill-opacity=\"1\" stroke=\"#000000\" stroke-opacity=\"1\" stroke-width=\"3.2\"/>\n",
       "<circle clip-path=\"url(#clip713)\" cx=\"3676.96\" cy=\"1123.87\" r=\"14\" fill=\"#9900ff\" fill-rule=\"evenodd\" fill-opacity=\"1\" stroke=\"#000000\" stroke-opacity=\"1\" stroke-width=\"3.2\"/>\n",
       "<circle clip-path=\"url(#clip713)\" cx=\"3683.82\" cy=\"1466.7\" r=\"14\" fill=\"#ff0033\" fill-rule=\"evenodd\" fill-opacity=\"1\" stroke=\"#000000\" stroke-opacity=\"1\" stroke-width=\"3.2\"/>\n",
       "<circle clip-path=\"url(#clip713)\" cx=\"3792.85\" cy=\"1393.17\" r=\"14\" fill=\"#0000ff\" fill-rule=\"evenodd\" fill-opacity=\"1\" stroke=\"#000000\" stroke-opacity=\"1\" stroke-width=\"3.2\"/>\n",
       "<circle clip-path=\"url(#clip713)\" cx=\"4159.51\" cy=\"1366.28\" r=\"14\" fill=\"#3300ff\" fill-rule=\"evenodd\" fill-opacity=\"1\" stroke=\"#000000\" stroke-opacity=\"1\" stroke-width=\"3.2\"/>\n",
       "<circle clip-path=\"url(#clip713)\" cx=\"4140.77\" cy=\"1371.08\" r=\"14\" fill=\"#ff00ff\" fill-rule=\"evenodd\" fill-opacity=\"1\" stroke=\"#000000\" stroke-opacity=\"1\" stroke-width=\"3.2\"/>\n",
       "<circle clip-path=\"url(#clip713)\" cx=\"4157.33\" cy=\"1367.64\" r=\"14\" fill=\"#ff00ff\" fill-rule=\"evenodd\" fill-opacity=\"1\" stroke=\"#000000\" stroke-opacity=\"1\" stroke-width=\"3.2\"/>\n",
       "<circle clip-path=\"url(#clip713)\" cx=\"2491.83\" cy=\"191.557\" r=\"14\" fill=\"#ff00cc\" fill-rule=\"evenodd\" fill-opacity=\"1\" stroke=\"#000000\" stroke-opacity=\"1\" stroke-width=\"3.2\"/>\n",
       "<circle clip-path=\"url(#clip713)\" cx=\"2532.38\" cy=\"157.656\" r=\"14\" fill=\"#0000ff\" fill-rule=\"evenodd\" fill-opacity=\"1\" stroke=\"#000000\" stroke-opacity=\"1\" stroke-width=\"3.2\"/>\n",
       "<circle clip-path=\"url(#clip713)\" cx=\"2477.01\" cy=\"223.425\" r=\"14\" fill=\"#0000ff\" fill-rule=\"evenodd\" fill-opacity=\"1\" stroke=\"#000000\" stroke-opacity=\"1\" stroke-width=\"3.2\"/>\n",
       "<circle clip-path=\"url(#clip713)\" cx=\"2481.32\" cy=\"221.539\" r=\"14\" fill=\"#ff0099\" fill-rule=\"evenodd\" fill-opacity=\"1\" stroke=\"#000000\" stroke-opacity=\"1\" stroke-width=\"3.2\"/>\n",
       "<circle clip-path=\"url(#clip713)\" cx=\"2469.13\" cy=\"236.535\" r=\"14\" fill=\"#0000ff\" fill-rule=\"evenodd\" fill-opacity=\"1\" stroke=\"#000000\" stroke-opacity=\"1\" stroke-width=\"3.2\"/>\n",
       "<circle clip-path=\"url(#clip713)\" cx=\"2477.19\" cy=\"396.318\" r=\"14\" fill=\"#ff0000\" fill-rule=\"evenodd\" fill-opacity=\"1\" stroke=\"#000000\" stroke-opacity=\"1\" stroke-width=\"3.2\"/>\n",
       "<circle clip-path=\"url(#clip713)\" cx=\"2487.96\" cy=\"391.463\" r=\"14\" fill=\"#ff00ff\" fill-rule=\"evenodd\" fill-opacity=\"1\" stroke=\"#000000\" stroke-opacity=\"1\" stroke-width=\"3.2\"/>\n",
       "<circle clip-path=\"url(#clip713)\" cx=\"2499.88\" cy=\"340.346\" r=\"14\" fill=\"#6600ff\" fill-rule=\"evenodd\" fill-opacity=\"1\" stroke=\"#000000\" stroke-opacity=\"1\" stroke-width=\"3.2\"/>\n",
       "<circle clip-path=\"url(#clip713)\" cx=\"2582.51\" cy=\"381.6\" r=\"14\" fill=\"#0000ff\" fill-rule=\"evenodd\" fill-opacity=\"1\" stroke=\"#000000\" stroke-opacity=\"1\" stroke-width=\"3.2\"/>\n",
       "<circle clip-path=\"url(#clip713)\" cx=\"2593.71\" cy=\"350.978\" r=\"14\" fill=\"#ff0066\" fill-rule=\"evenodd\" fill-opacity=\"1\" stroke=\"#000000\" stroke-opacity=\"1\" stroke-width=\"3.2\"/>\n",
       "<circle clip-path=\"url(#clip713)\" cx=\"2542.1\" cy=\"449.831\" r=\"14\" fill=\"#ff0000\" fill-rule=\"evenodd\" fill-opacity=\"1\" stroke=\"#000000\" stroke-opacity=\"1\" stroke-width=\"3.2\"/>\n",
       "<circle clip-path=\"url(#clip713)\" cx=\"2582.31\" cy=\"379.314\" r=\"14\" fill=\"#ff0000\" fill-rule=\"evenodd\" fill-opacity=\"1\" stroke=\"#000000\" stroke-opacity=\"1\" stroke-width=\"3.2\"/>\n",
       "<circle clip-path=\"url(#clip713)\" cx=\"2526.85\" cy=\"457.418\" r=\"14\" fill=\"#9900ff\" fill-rule=\"evenodd\" fill-opacity=\"1\" stroke=\"#000000\" stroke-opacity=\"1\" stroke-width=\"3.2\"/>\n",
       "<circle clip-path=\"url(#clip713)\" cx=\"2595.52\" cy=\"353.746\" r=\"14\" fill=\"#0000ff\" fill-rule=\"evenodd\" fill-opacity=\"1\" stroke=\"#000000\" stroke-opacity=\"1\" stroke-width=\"3.2\"/>\n",
       "<circle clip-path=\"url(#clip713)\" cx=\"2576.18\" cy=\"399.711\" r=\"14\" fill=\"#0000ff\" fill-rule=\"evenodd\" fill-opacity=\"1\" stroke=\"#000000\" stroke-opacity=\"1\" stroke-width=\"3.2\"/>\n",
       "<circle clip-path=\"url(#clip713)\" cx=\"2558.71\" cy=\"410.183\" r=\"14\" fill=\"#ff0000\" fill-rule=\"evenodd\" fill-opacity=\"1\" stroke=\"#000000\" stroke-opacity=\"1\" stroke-width=\"3.2\"/>\n",
       "<circle clip-path=\"url(#clip713)\" cx=\"2742.91\" cy=\"247.369\" r=\"14\" fill=\"#ff0000\" fill-rule=\"evenodd\" fill-opacity=\"1\" stroke=\"#000000\" stroke-opacity=\"1\" stroke-width=\"3.2\"/>\n",
       "<circle clip-path=\"url(#clip713)\" cx=\"2711.13\" cy=\"262.675\" r=\"14\" fill=\"#cc00ff\" fill-rule=\"evenodd\" fill-opacity=\"1\" stroke=\"#000000\" stroke-opacity=\"1\" stroke-width=\"3.2\"/>\n",
       "<circle clip-path=\"url(#clip713)\" cx=\"2713.34\" cy=\"293.817\" r=\"14\" fill=\"#ff0066\" fill-rule=\"evenodd\" fill-opacity=\"1\" stroke=\"#000000\" stroke-opacity=\"1\" stroke-width=\"3.2\"/>\n",
       "<circle clip-path=\"url(#clip713)\" cx=\"2906.89\" cy=\"119.008\" r=\"14\" fill=\"#0000ff\" fill-rule=\"evenodd\" fill-opacity=\"1\" stroke=\"#000000\" stroke-opacity=\"1\" stroke-width=\"3.2\"/>\n",
       "<circle clip-path=\"url(#clip713)\" cx=\"2808.08\" cy=\"184.39\" r=\"14\" fill=\"#9900ff\" fill-rule=\"evenodd\" fill-opacity=\"1\" stroke=\"#000000\" stroke-opacity=\"1\" stroke-width=\"3.2\"/>\n",
       "<circle clip-path=\"url(#clip713)\" cx=\"2809.5\" cy=\"229.758\" r=\"14\" fill=\"#ff00ff\" fill-rule=\"evenodd\" fill-opacity=\"1\" stroke=\"#000000\" stroke-opacity=\"1\" stroke-width=\"3.2\"/>\n",
       "<circle clip-path=\"url(#clip713)\" cx=\"2737.17\" cy=\"284.226\" r=\"14\" fill=\"#ff0033\" fill-rule=\"evenodd\" fill-opacity=\"1\" stroke=\"#000000\" stroke-opacity=\"1\" stroke-width=\"3.2\"/>\n",
       "<circle clip-path=\"url(#clip713)\" cx=\"2697.83\" cy=\"344.813\" r=\"14\" fill=\"#ff0099\" fill-rule=\"evenodd\" fill-opacity=\"1\" stroke=\"#000000\" stroke-opacity=\"1\" stroke-width=\"3.2\"/>\n",
       "<circle clip-path=\"url(#clip713)\" cx=\"2759.15\" cy=\"273.424\" r=\"14\" fill=\"#ff0000\" fill-rule=\"evenodd\" fill-opacity=\"1\" stroke=\"#000000\" stroke-opacity=\"1\" stroke-width=\"3.2\"/>\n",
       "<circle clip-path=\"url(#clip713)\" cx=\"2695.56\" cy=\"326.241\" r=\"14\" fill=\"#cc00ff\" fill-rule=\"evenodd\" fill-opacity=\"1\" stroke=\"#000000\" stroke-opacity=\"1\" stroke-width=\"3.2\"/>\n",
       "<circle clip-path=\"url(#clip713)\" cx=\"2755.31\" cy=\"273.85\" r=\"14\" fill=\"#ff00ff\" fill-rule=\"evenodd\" fill-opacity=\"1\" stroke=\"#000000\" stroke-opacity=\"1\" stroke-width=\"3.2\"/>\n",
       "<circle clip-path=\"url(#clip713)\" cx=\"2742.91\" cy=\"279.326\" r=\"14\" fill=\"#ff0066\" fill-rule=\"evenodd\" fill-opacity=\"1\" stroke=\"#000000\" stroke-opacity=\"1\" stroke-width=\"3.2\"/>\n",
       "<circle clip-path=\"url(#clip713)\" cx=\"3606.1\" cy=\"1212.2\" r=\"14\" fill=\"#ff0033\" fill-rule=\"evenodd\" fill-opacity=\"1\" stroke=\"#000000\" stroke-opacity=\"1\" stroke-width=\"3.2\"/>\n",
       "<circle clip-path=\"url(#clip713)\" cx=\"3707.77\" cy=\"1080.41\" r=\"14\" fill=\"#ff0066\" fill-rule=\"evenodd\" fill-opacity=\"1\" stroke=\"#000000\" stroke-opacity=\"1\" stroke-width=\"3.2\"/>\n",
       "<circle clip-path=\"url(#clip713)\" cx=\"3592.91\" cy=\"1236.73\" r=\"14\" fill=\"#ff00cc\" fill-rule=\"evenodd\" fill-opacity=\"1\" stroke=\"#000000\" stroke-opacity=\"1\" stroke-width=\"3.2\"/>\n",
       "<circle clip-path=\"url(#clip713)\" cx=\"3607.01\" cy=\"1219.02\" r=\"14\" fill=\"#3300ff\" fill-rule=\"evenodd\" fill-opacity=\"1\" stroke=\"#000000\" stroke-opacity=\"1\" stroke-width=\"3.2\"/>\n",
       "<circle clip-path=\"url(#clip713)\" cx=\"3721.31\" cy=\"1070.5\" r=\"14\" fill=\"#3300ff\" fill-rule=\"evenodd\" fill-opacity=\"1\" stroke=\"#000000\" stroke-opacity=\"1\" stroke-width=\"3.2\"/>\n",
       "<circle clip-path=\"url(#clip713)\" cx=\"3617.41\" cy=\"1200.4\" r=\"14\" fill=\"#3300ff\" fill-rule=\"evenodd\" fill-opacity=\"1\" stroke=\"#000000\" stroke-opacity=\"1\" stroke-width=\"3.2\"/>\n",
       "<circle clip-path=\"url(#clip713)\" cx=\"3745.74\" cy=\"1042.82\" r=\"14\" fill=\"#9900ff\" fill-rule=\"evenodd\" fill-opacity=\"1\" stroke=\"#000000\" stroke-opacity=\"1\" stroke-width=\"3.2\"/>\n",
       "<circle clip-path=\"url(#clip713)\" cx=\"3697.16\" cy=\"1442.26\" r=\"14\" fill=\"#ff0033\" fill-rule=\"evenodd\" fill-opacity=\"1\" stroke=\"#000000\" stroke-opacity=\"1\" stroke-width=\"3.2\"/>\n",
       "<circle clip-path=\"url(#clip713)\" cx=\"3701.05\" cy=\"1446.57\" r=\"14\" fill=\"#0000ff\" fill-rule=\"evenodd\" fill-opacity=\"1\" stroke=\"#000000\" stroke-opacity=\"1\" stroke-width=\"3.2\"/>\n",
       "<circle clip-path=\"url(#clip713)\" cx=\"4218.11\" cy=\"1349.43\" r=\"14\" fill=\"#3300ff\" fill-rule=\"evenodd\" fill-opacity=\"1\" stroke=\"#000000\" stroke-opacity=\"1\" stroke-width=\"3.2\"/>\n",
       "<circle clip-path=\"url(#clip713)\" cx=\"4109.13\" cy=\"1388.66\" r=\"14\" fill=\"#ff00ff\" fill-rule=\"evenodd\" fill-opacity=\"1\" stroke=\"#000000\" stroke-opacity=\"1\" stroke-width=\"3.2\"/>\n",
       "<circle clip-path=\"url(#clip713)\" cx=\"4077.9\" cy=\"1401.75\" r=\"14\" fill=\"#ff00ff\" fill-rule=\"evenodd\" fill-opacity=\"1\" stroke=\"#000000\" stroke-opacity=\"1\" stroke-width=\"3.2\"/>\n",
       "<path clip-path=\"url(#clip710)\" d=\"\n",
       "M4470.8 1508.05 L6352.76 1508.05 L6352.76 47.2441 L4470.8 47.2441  Z\n",
       "  \" fill=\"#ffffff\" fill-rule=\"evenodd\" fill-opacity=\"1\"/>\n",
       "<defs>\n",
       "  <clipPath id=\"clip714\">\n",
       "    <rect x=\"4470\" y=\"47\" width=\"1883\" height=\"1462\"/>\n",
       "  </clipPath>\n",
       "</defs>\n",
       "<polyline clip-path=\"url(#clip714)\" style=\"stroke:#000000; stroke-linecap:butt; stroke-linejoin:round; stroke-width:2; stroke-opacity:0.1; fill:none\" points=\"\n",
       "  4478.6,1508.05 4478.6,47.2441 \n",
       "  \"/>\n",
       "<polyline clip-path=\"url(#clip714)\" style=\"stroke:#000000; stroke-linecap:butt; stroke-linejoin:round; stroke-width:2; stroke-opacity:0.1; fill:none\" points=\"\n",
       "  4957.15,1508.05 4957.15,47.2441 \n",
       "  \"/>\n",
       "<polyline clip-path=\"url(#clip714)\" style=\"stroke:#000000; stroke-linecap:butt; stroke-linejoin:round; stroke-width:2; stroke-opacity:0.1; fill:none\" points=\"\n",
       "  5435.7,1508.05 5435.7,47.2441 \n",
       "  \"/>\n",
       "<polyline clip-path=\"url(#clip714)\" style=\"stroke:#000000; stroke-linecap:butt; stroke-linejoin:round; stroke-width:2; stroke-opacity:0.1; fill:none\" points=\"\n",
       "  5914.26,1508.05 5914.26,47.2441 \n",
       "  \"/>\n",
       "<polyline clip-path=\"url(#clip710)\" style=\"stroke:#000000; stroke-linecap:butt; stroke-linejoin:round; stroke-width:4; stroke-opacity:1; fill:none\" points=\"\n",
       "  4470.8,1508.05 6352.76,1508.05 \n",
       "  \"/>\n",
       "<polyline clip-path=\"url(#clip710)\" style=\"stroke:#000000; stroke-linecap:butt; stroke-linejoin:round; stroke-width:4; stroke-opacity:1; fill:none\" points=\"\n",
       "  4478.6,1508.05 4478.6,1489.15 \n",
       "  \"/>\n",
       "<polyline clip-path=\"url(#clip710)\" style=\"stroke:#000000; stroke-linecap:butt; stroke-linejoin:round; stroke-width:4; stroke-opacity:1; fill:none\" points=\"\n",
       "  4957.15,1508.05 4957.15,1489.15 \n",
       "  \"/>\n",
       "<polyline clip-path=\"url(#clip710)\" style=\"stroke:#000000; stroke-linecap:butt; stroke-linejoin:round; stroke-width:4; stroke-opacity:1; fill:none\" points=\"\n",
       "  5435.7,1508.05 5435.7,1489.15 \n",
       "  \"/>\n",
       "<polyline clip-path=\"url(#clip710)\" style=\"stroke:#000000; stroke-linecap:butt; stroke-linejoin:round; stroke-width:4; stroke-opacity:1; fill:none\" points=\"\n",
       "  5914.26,1508.05 5914.26,1489.15 \n",
       "  \"/>\n",
       "<path clip-path=\"url(#clip710)\" d=\"M4425.12 1583.89 L4454.8 1583.89 L4454.8 1587.83 L4425.12 1587.83 L4425.12 1583.89 Z\" fill=\"#000000\" fill-rule=\"evenodd\" fill-opacity=\"1\" /><path clip-path=\"url(#clip710)\" d=\"M4465.7 1596.78 L4473.34 1596.78 L4473.34 1570.42 L4465.03 1572.09 L4465.03 1567.83 L4473.3 1566.16 L4477.97 1566.16 L4477.97 1596.78 L4485.61 1596.78 L4485.61 1600.72 L4465.7 1600.72 L4465.7 1596.78 Z\" fill=\"#000000\" fill-rule=\"evenodd\" fill-opacity=\"1\" /><path clip-path=\"url(#clip710)\" d=\"M4495.05 1594.84 L4499.94 1594.84 L4499.94 1600.72 L4495.05 1600.72 L4495.05 1594.84 Z\" fill=\"#000000\" fill-rule=\"evenodd\" fill-opacity=\"1\" /><path clip-path=\"url(#clip710)\" d=\"M4520.12 1569.24 Q4516.51 1569.24 4514.68 1572.8 Q4512.88 1576.35 4512.88 1583.47 Q4512.88 1590.58 4514.68 1594.15 Q4516.51 1597.69 4520.12 1597.69 Q4523.76 1597.69 4525.56 1594.15 Q4527.39 1590.58 4527.39 1583.47 Q4527.39 1576.35 4525.56 1572.8 Q4523.76 1569.24 4520.12 1569.24 M4520.12 1565.53 Q4525.93 1565.53 4528.99 1570.14 Q4532.07 1574.72 4532.07 1583.47 Q4532.07 1592.2 4528.99 1596.81 Q4525.93 1601.39 4520.12 1601.39 Q4514.31 1601.39 4511.23 1596.81 Q4508.18 1592.2 4508.18 1583.47 Q4508.18 1574.72 4511.23 1570.14 Q4514.31 1565.53 4520.12 1565.53 Z\" fill=\"#000000\" fill-rule=\"evenodd\" fill-opacity=\"1\" /><path clip-path=\"url(#clip710)\" d=\"M4904.18 1583.89 L4933.85 1583.89 L4933.85 1587.83 L4904.18 1587.83 L4904.18 1583.89 Z\" fill=\"#000000\" fill-rule=\"evenodd\" fill-opacity=\"1\" /><path clip-path=\"url(#clip710)\" d=\"M4953.94 1569.24 Q4950.33 1569.24 4948.5 1572.8 Q4946.7 1576.35 4946.7 1583.47 Q4946.7 1590.58 4948.5 1594.15 Q4950.33 1597.69 4953.94 1597.69 Q4957.58 1597.69 4959.38 1594.15 Q4961.21 1590.58 4961.21 1583.47 Q4961.21 1576.35 4959.38 1572.8 Q4957.58 1569.24 4953.94 1569.24 M4953.94 1565.53 Q4959.75 1565.53 4962.81 1570.14 Q4965.89 1574.72 4965.89 1583.47 Q4965.89 1592.2 4962.81 1596.81 Q4959.75 1601.39 4953.94 1601.39 Q4948.13 1601.39 4945.05 1596.81 Q4942 1592.2 4942 1583.47 Q4942 1574.72 4945.05 1570.14 Q4948.13 1565.53 4953.94 1565.53 Z\" fill=\"#000000\" fill-rule=\"evenodd\" fill-opacity=\"1\" /><path clip-path=\"url(#clip710)\" d=\"M4974.11 1594.84 L4978.99 1594.84 L4978.99 1600.72 L4974.11 1600.72 L4974.11 1594.84 Z\" fill=\"#000000\" fill-rule=\"evenodd\" fill-opacity=\"1\" /><path clip-path=\"url(#clip710)\" d=\"M4989.22 1566.16 L5007.58 1566.16 L5007.58 1570.1 L4993.5 1570.1 L4993.5 1578.57 Q4994.52 1578.22 4995.54 1578.06 Q4996.56 1577.87 4997.58 1577.87 Q5003.36 1577.87 5006.74 1581.04 Q5010.12 1584.22 5010.12 1589.63 Q5010.12 1595.21 5006.65 1598.31 Q5003.18 1601.39 4996.86 1601.39 Q4994.68 1601.39 4992.42 1601.02 Q4990.17 1600.65 4987.76 1599.91 L4987.76 1595.21 Q4989.85 1596.34 4992.07 1596.9 Q4994.29 1597.46 4996.77 1597.46 Q5000.77 1597.46 5003.11 1595.35 Q5005.45 1593.24 5005.45 1589.63 Q5005.45 1586.02 5003.11 1583.91 Q5000.77 1581.81 4996.77 1581.81 Q4994.89 1581.81 4993.02 1582.22 Q4991.17 1582.64 4989.22 1583.52 L4989.22 1566.16 Z\" fill=\"#000000\" fill-rule=\"evenodd\" fill-opacity=\"1\" /><path clip-path=\"url(#clip710)\" d=\"M5413.09 1569.24 Q5409.48 1569.24 5407.65 1572.8 Q5405.84 1576.35 5405.84 1583.47 Q5405.84 1590.58 5407.65 1594.15 Q5409.48 1597.69 5413.09 1597.69 Q5416.72 1597.69 5418.53 1594.15 Q5420.36 1590.58 5420.36 1583.47 Q5420.36 1576.35 5418.53 1572.8 Q5416.72 1569.24 5413.09 1569.24 M5413.09 1565.53 Q5418.9 1565.53 5421.95 1570.14 Q5425.03 1574.72 5425.03 1583.47 Q5425.03 1592.2 5421.95 1596.81 Q5418.9 1601.39 5413.09 1601.39 Q5407.28 1601.39 5404.2 1596.81 Q5401.14 1592.2 5401.14 1583.47 Q5401.14 1574.72 5404.2 1570.14 Q5407.28 1565.53 5413.09 1565.53 Z\" fill=\"#000000\" fill-rule=\"evenodd\" fill-opacity=\"1\" /><path clip-path=\"url(#clip710)\" d=\"M5433.25 1594.84 L5438.13 1594.84 L5438.13 1600.72 L5433.25 1600.72 L5433.25 1594.84 Z\" fill=\"#000000\" fill-rule=\"evenodd\" fill-opacity=\"1\" /><path clip-path=\"url(#clip710)\" d=\"M5458.32 1569.24 Q5454.71 1569.24 5452.88 1572.8 Q5451.07 1576.35 5451.07 1583.47 Q5451.07 1590.58 5452.88 1594.15 Q5454.71 1597.69 5458.32 1597.69 Q5461.95 1597.69 5463.76 1594.15 Q5465.59 1590.58 5465.59 1583.47 Q5465.59 1576.35 5463.76 1572.8 Q5461.95 1569.24 5458.32 1569.24 M5458.32 1565.53 Q5464.13 1565.53 5467.18 1570.14 Q5470.26 1574.72 5470.26 1583.47 Q5470.26 1592.2 5467.18 1596.81 Q5464.13 1601.39 5458.32 1601.39 Q5452.51 1601.39 5449.43 1596.81 Q5446.37 1592.2 5446.37 1583.47 Q5446.37 1574.72 5449.43 1570.14 Q5452.51 1565.53 5458.32 1565.53 Z\" fill=\"#000000\" fill-rule=\"evenodd\" fill-opacity=\"1\" /><path clip-path=\"url(#clip710)\" d=\"M5892.14 1569.24 Q5888.53 1569.24 5886.7 1572.8 Q5884.89 1576.35 5884.89 1583.47 Q5884.89 1590.58 5886.7 1594.15 Q5888.53 1597.69 5892.14 1597.69 Q5895.77 1597.69 5897.58 1594.15 Q5899.41 1590.58 5899.41 1583.47 Q5899.41 1576.35 5897.58 1572.8 Q5895.77 1569.24 5892.14 1569.24 M5892.14 1565.53 Q5897.95 1565.53 5901 1570.14 Q5904.08 1574.72 5904.08 1583.47 Q5904.08 1592.2 5901 1596.81 Q5897.95 1601.39 5892.14 1601.39 Q5886.33 1601.39 5883.25 1596.81 Q5880.19 1592.2 5880.19 1583.47 Q5880.19 1574.72 5883.25 1570.14 Q5886.33 1565.53 5892.14 1565.53 Z\" fill=\"#000000\" fill-rule=\"evenodd\" fill-opacity=\"1\" /><path clip-path=\"url(#clip710)\" d=\"M5912.3 1594.84 L5917.19 1594.84 L5917.19 1600.72 L5912.3 1600.72 L5912.3 1594.84 Z\" fill=\"#000000\" fill-rule=\"evenodd\" fill-opacity=\"1\" /><path clip-path=\"url(#clip710)\" d=\"M5927.42 1566.16 L5945.77 1566.16 L5945.77 1570.1 L5931.7 1570.1 L5931.7 1578.57 Q5932.72 1578.22 5933.74 1578.06 Q5934.75 1577.87 5935.77 1577.87 Q5941.56 1577.87 5944.94 1581.04 Q5948.32 1584.22 5948.32 1589.63 Q5948.32 1595.21 5944.85 1598.31 Q5941.38 1601.39 5935.06 1601.39 Q5932.88 1601.39 5930.61 1601.02 Q5928.37 1600.65 5925.96 1599.91 L5925.96 1595.21 Q5928.04 1596.34 5930.26 1596.9 Q5932.49 1597.46 5934.96 1597.46 Q5938.97 1597.46 5941.31 1595.35 Q5943.64 1593.24 5943.64 1589.63 Q5943.64 1586.02 5941.31 1583.91 Q5938.97 1581.81 5934.96 1581.81 Q5933.09 1581.81 5931.21 1582.22 Q5929.36 1582.64 5927.42 1583.52 L5927.42 1566.16 Z\" fill=\"#000000\" fill-rule=\"evenodd\" fill-opacity=\"1\" /><polyline clip-path=\"url(#clip714)\" style=\"stroke:#000000; stroke-linecap:butt; stroke-linejoin:round; stroke-width:2; stroke-opacity:0.1; fill:none\" points=\"\n",
       "  4470.8,1466.7 6352.76,1466.7 \n",
       "  \"/>\n",
       "<polyline clip-path=\"url(#clip714)\" style=\"stroke:#000000; stroke-linecap:butt; stroke-linejoin:round; stroke-width:2; stroke-opacity:0.1; fill:none\" points=\"\n",
       "  4470.8,1191.08 6352.76,1191.08 \n",
       "  \"/>\n",
       "<polyline clip-path=\"url(#clip714)\" style=\"stroke:#000000; stroke-linecap:butt; stroke-linejoin:round; stroke-width:2; stroke-opacity:0.1; fill:none\" points=\"\n",
       "  4470.8,915.458 6352.76,915.458 \n",
       "  \"/>\n",
       "<polyline clip-path=\"url(#clip714)\" style=\"stroke:#000000; stroke-linecap:butt; stroke-linejoin:round; stroke-width:2; stroke-opacity:0.1; fill:none\" points=\"\n",
       "  4470.8,639.834 6352.76,639.834 \n",
       "  \"/>\n",
       "<polyline clip-path=\"url(#clip714)\" style=\"stroke:#000000; stroke-linecap:butt; stroke-linejoin:round; stroke-width:2; stroke-opacity:0.1; fill:none\" points=\"\n",
       "  4470.8,364.211 6352.76,364.211 \n",
       "  \"/>\n",
       "<polyline clip-path=\"url(#clip714)\" style=\"stroke:#000000; stroke-linecap:butt; stroke-linejoin:round; stroke-width:2; stroke-opacity:0.1; fill:none\" points=\"\n",
       "  4470.8,88.5876 6352.76,88.5876 \n",
       "  \"/>\n",
       "<polyline clip-path=\"url(#clip710)\" style=\"stroke:#000000; stroke-linecap:butt; stroke-linejoin:round; stroke-width:4; stroke-opacity:1; fill:none\" points=\"\n",
       "  4470.8,1508.05 4470.8,47.2441 \n",
       "  \"/>\n",
       "<polyline clip-path=\"url(#clip710)\" style=\"stroke:#000000; stroke-linecap:butt; stroke-linejoin:round; stroke-width:4; stroke-opacity:1; fill:none\" points=\"\n",
       "  4470.8,1466.7 4489.69,1466.7 \n",
       "  \"/>\n",
       "<polyline clip-path=\"url(#clip710)\" style=\"stroke:#000000; stroke-linecap:butt; stroke-linejoin:round; stroke-width:4; stroke-opacity:1; fill:none\" points=\"\n",
       "  4470.8,1191.08 4489.69,1191.08 \n",
       "  \"/>\n",
       "<polyline clip-path=\"url(#clip710)\" style=\"stroke:#000000; stroke-linecap:butt; stroke-linejoin:round; stroke-width:4; stroke-opacity:1; fill:none\" points=\"\n",
       "  4470.8,915.458 4489.69,915.458 \n",
       "  \"/>\n",
       "<polyline clip-path=\"url(#clip710)\" style=\"stroke:#000000; stroke-linecap:butt; stroke-linejoin:round; stroke-width:4; stroke-opacity:1; fill:none\" points=\"\n",
       "  4470.8,639.834 4489.69,639.834 \n",
       "  \"/>\n",
       "<polyline clip-path=\"url(#clip710)\" style=\"stroke:#000000; stroke-linecap:butt; stroke-linejoin:round; stroke-width:4; stroke-opacity:1; fill:none\" points=\"\n",
       "  4470.8,364.211 4489.69,364.211 \n",
       "  \"/>\n",
       "<polyline clip-path=\"url(#clip710)\" style=\"stroke:#000000; stroke-linecap:butt; stroke-linejoin:round; stroke-width:4; stroke-opacity:1; fill:none\" points=\"\n",
       "  4470.8,88.5876 4489.69,88.5876 \n",
       "  \"/>\n",
       "<path clip-path=\"url(#clip710)\" d=\"M4362.85 1452.5 Q4359.24 1452.5 4357.41 1456.07 Q4355.61 1459.61 4355.61 1466.74 Q4355.61 1473.85 4357.41 1477.41 Q4359.24 1480.95 4362.85 1480.95 Q4366.49 1480.95 4368.29 1477.41 Q4370.12 1473.85 4370.12 1466.74 Q4370.12 1459.61 4368.29 1456.07 Q4366.49 1452.5 4362.85 1452.5 M4362.85 1448.8 Q4368.66 1448.8 4371.72 1453.41 Q4374.8 1457.99 4374.8 1466.74 Q4374.8 1475.47 4371.72 1480.07 Q4368.66 1484.66 4362.85 1484.66 Q4357.04 1484.66 4353.96 1480.07 Q4350.91 1475.47 4350.91 1466.74 Q4350.91 1457.99 4353.96 1453.41 Q4357.04 1448.8 4362.85 1448.8 Z\" fill=\"#000000\" fill-rule=\"evenodd\" fill-opacity=\"1\" /><path clip-path=\"url(#clip710)\" d=\"M4354.89 1204.43 L4362.53 1204.43 L4362.53 1178.06 L4354.22 1179.73 L4354.22 1175.47 L4362.48 1173.8 L4367.16 1173.8 L4367.16 1204.43 L4374.8 1204.43 L4374.8 1208.36 L4354.89 1208.36 L4354.89 1204.43 Z\" fill=\"#000000\" fill-rule=\"evenodd\" fill-opacity=\"1\" /><path clip-path=\"url(#clip710)\" d=\"M4358.48 928.802 L4374.8 928.802 L4374.8 932.738 L4352.85 932.738 L4352.85 928.802 Q4355.51 926.048 4360.1 921.418 Q4364.7 916.766 4365.88 915.423 Q4368.13 912.9 4369.01 911.164 Q4369.91 909.404 4369.91 907.715 Q4369.91 904.96 4367.97 903.224 Q4366.05 901.488 4362.94 901.488 Q4360.74 901.488 4358.29 902.252 Q4355.86 903.016 4353.08 904.567 L4353.08 899.844 Q4355.91 898.71 4358.36 898.131 Q4360.81 897.553 4362.85 897.553 Q4368.22 897.553 4371.42 900.238 Q4374.61 902.923 4374.61 907.414 Q4374.61 909.543 4373.8 911.465 Q4373.01 913.363 4370.91 915.955 Q4370.33 916.627 4367.23 919.844 Q4364.12 923.039 4358.48 928.802 Z\" fill=\"#000000\" fill-rule=\"evenodd\" fill-opacity=\"1\" /><path clip-path=\"url(#clip710)\" d=\"M4367.67 638.48 Q4371.02 639.198 4372.9 641.466 Q4374.8 643.735 4374.8 647.068 Q4374.8 652.184 4371.28 654.985 Q4367.76 657.786 4361.28 657.786 Q4359.1 657.786 4356.79 657.346 Q4354.49 656.929 4352.04 656.073 L4352.04 651.559 Q4353.99 652.693 4356.3 653.272 Q4358.62 653.85 4361.14 653.85 Q4365.54 653.85 4367.83 652.114 Q4370.14 650.378 4370.14 647.068 Q4370.14 644.013 4367.99 642.3 Q4365.86 640.563 4362.04 640.563 L4358.01 640.563 L4358.01 636.721 L4362.23 636.721 Q4365.68 636.721 4367.5 635.355 Q4369.33 633.966 4369.33 631.374 Q4369.33 628.712 4367.43 627.3 Q4365.56 625.864 4362.04 625.864 Q4360.12 625.864 4357.92 626.281 Q4355.72 626.698 4353.08 627.577 L4353.08 623.411 Q4355.74 622.67 4358.06 622.3 Q4360.4 621.929 4362.46 621.929 Q4367.78 621.929 4370.88 624.36 Q4373.99 626.767 4373.99 630.888 Q4373.99 633.758 4372.34 635.749 Q4370.7 637.716 4367.67 638.48 Z\" fill=\"#000000\" fill-rule=\"evenodd\" fill-opacity=\"1\" /><path clip-path=\"url(#clip710)\" d=\"M4365.21 351.005 L4353.41 369.454 L4365.21 369.454 L4365.21 351.005 M4363.99 346.931 L4369.87 346.931 L4369.87 369.454 L4374.8 369.454 L4374.8 373.343 L4369.87 373.343 L4369.87 381.491 L4365.21 381.491 L4365.21 373.343 L4349.61 373.343 L4349.61 368.829 L4363.99 346.931 Z\" fill=\"#000000\" fill-rule=\"evenodd\" fill-opacity=\"1\" /><path clip-path=\"url(#clip710)\" d=\"M4353.89 71.3076 L4372.25 71.3076 L4372.25 75.2428 L4358.18 75.2428 L4358.18 83.7149 Q4359.19 83.3677 4360.21 83.2057 Q4361.23 83.0205 4362.25 83.0205 Q4368.04 83.0205 4371.42 86.1918 Q4374.8 89.3631 4374.8 94.7797 Q4374.8 100.358 4371.32 103.46 Q4367.85 106.539 4361.53 106.539 Q4359.36 106.539 4357.09 106.169 Q4354.84 105.798 4352.43 105.057 L4352.43 100.358 Q4354.52 101.493 4356.74 102.048 Q4358.96 102.604 4361.44 102.604 Q4365.44 102.604 4367.78 100.497 Q4370.12 98.3908 4370.12 94.7797 Q4370.12 91.1686 4367.78 89.0621 Q4365.44 86.9557 4361.44 86.9557 Q4359.56 86.9557 4357.69 87.3723 Q4355.84 87.789 4353.89 88.6686 L4353.89 71.3076 Z\" fill=\"#000000\" fill-rule=\"evenodd\" fill-opacity=\"1\" /><path clip-path=\"url(#clip714)\" d=\"\n",
       "M4918.87 1191.08 L4918.87 1466.7 L4938.01 1466.7 L4938.01 1191.08 L4918.87 1191.08 L4918.87 1191.08  Z\n",
       "  \" fill=\"#ff0000\" fill-rule=\"evenodd\" fill-opacity=\"1\"/>\n",
       "<polyline clip-path=\"url(#clip714)\" style=\"stroke:#000000; stroke-linecap:butt; stroke-linejoin:round; stroke-width:4; stroke-opacity:1; fill:none\" points=\"\n",
       "  4918.87,1191.08 4918.87,1466.7 4938.01,1466.7 4938.01,1191.08 4918.87,1191.08 \n",
       "  \"/>\n",
       "<path clip-path=\"url(#clip714)\" d=\"\n",
       "M4938.01 1191.08 L4938.01 1466.7 L4957.15 1466.7 L4957.15 1191.08 L4938.01 1191.08 L4938.01 1191.08  Z\n",
       "  \" fill=\"#ff0000\" fill-rule=\"evenodd\" fill-opacity=\"1\"/>\n",
       "<polyline clip-path=\"url(#clip714)\" style=\"stroke:#000000; stroke-linecap:butt; stroke-linejoin:round; stroke-width:4; stroke-opacity:1; fill:none\" points=\"\n",
       "  4938.01,1191.08 4938.01,1466.7 4957.15,1466.7 4957.15,1191.08 4938.01,1191.08 \n",
       "  \"/>\n",
       "<path clip-path=\"url(#clip714)\" d=\"\n",
       "M4957.15 1466.7 L4957.15 1466.7 L4976.29 1466.7 L4976.29 1466.7 L4957.15 1466.7 L4957.15 1466.7  Z\n",
       "  \" fill=\"#ff0000\" fill-rule=\"evenodd\" fill-opacity=\"1\"/>\n",
       "<polyline clip-path=\"url(#clip714)\" style=\"stroke:#000000; stroke-linecap:butt; stroke-linejoin:round; stroke-width:4; stroke-opacity:1; fill:none\" points=\"\n",
       "  4957.15,1466.7 4957.15,1466.7 4976.29,1466.7 4957.15,1466.7 \n",
       "  \"/>\n",
       "<path clip-path=\"url(#clip714)\" d=\"\n",
       "M4976.29 1466.7 L4976.29 1466.7 L4995.43 1466.7 L4995.43 1466.7 L4976.29 1466.7 L4976.29 1466.7  Z\n",
       "  \" fill=\"#ff0000\" fill-rule=\"evenodd\" fill-opacity=\"1\"/>\n",
       "<polyline clip-path=\"url(#clip714)\" style=\"stroke:#000000; stroke-linecap:butt; stroke-linejoin:round; stroke-width:4; stroke-opacity:1; fill:none\" points=\"\n",
       "  4976.29,1466.7 4976.29,1466.7 4995.43,1466.7 4976.29,1466.7 \n",
       "  \"/>\n",
       "<path clip-path=\"url(#clip714)\" d=\"\n",
       "M4995.43 1466.7 L4995.43 1466.7 L5014.58 1466.7 L5014.58 1466.7 L4995.43 1466.7 L4995.43 1466.7  Z\n",
       "  \" fill=\"#ff0000\" fill-rule=\"evenodd\" fill-opacity=\"1\"/>\n",
       "<polyline clip-path=\"url(#clip714)\" style=\"stroke:#000000; stroke-linecap:butt; stroke-linejoin:round; stroke-width:4; stroke-opacity:1; fill:none\" points=\"\n",
       "  4995.43,1466.7 4995.43,1466.7 5014.58,1466.7 4995.43,1466.7 \n",
       "  \"/>\n",
       "<path clip-path=\"url(#clip714)\" d=\"\n",
       "M5014.58 639.834 L5014.58 1466.7 L5033.72 1466.7 L5033.72 639.834 L5014.58 639.834 L5014.58 639.834  Z\n",
       "  \" fill=\"#ff0000\" fill-rule=\"evenodd\" fill-opacity=\"1\"/>\n",
       "<polyline clip-path=\"url(#clip714)\" style=\"stroke:#000000; stroke-linecap:butt; stroke-linejoin:round; stroke-width:4; stroke-opacity:1; fill:none\" points=\"\n",
       "  5014.58,639.834 5014.58,1466.7 5033.72,1466.7 5033.72,639.834 5014.58,639.834 \n",
       "  \"/>\n",
       "<path clip-path=\"url(#clip714)\" d=\"\n",
       "M5033.72 1466.7 L5033.72 1466.7 L5052.86 1466.7 L5052.86 1466.7 L5033.72 1466.7 L5033.72 1466.7  Z\n",
       "  \" fill=\"#ff0000\" fill-rule=\"evenodd\" fill-opacity=\"1\"/>\n",
       "<polyline clip-path=\"url(#clip714)\" style=\"stroke:#000000; stroke-linecap:butt; stroke-linejoin:round; stroke-width:4; stroke-opacity:1; fill:none\" points=\"\n",
       "  5033.72,1466.7 5033.72,1466.7 5052.86,1466.7 5033.72,1466.7 \n",
       "  \"/>\n",
       "<path clip-path=\"url(#clip714)\" d=\"\n",
       "M5052.86 1466.7 L5052.86 1466.7 L5072 1466.7 L5072 1466.7 L5052.86 1466.7 L5052.86 1466.7  Z\n",
       "  \" fill=\"#ff0000\" fill-rule=\"evenodd\" fill-opacity=\"1\"/>\n",
       "<polyline clip-path=\"url(#clip714)\" style=\"stroke:#000000; stroke-linecap:butt; stroke-linejoin:round; stroke-width:4; stroke-opacity:1; fill:none\" points=\"\n",
       "  5052.86,1466.7 5052.86,1466.7 5072,1466.7 5052.86,1466.7 \n",
       "  \"/>\n",
       "<path clip-path=\"url(#clip714)\" d=\"\n",
       "M5072 915.458 L5072 1466.7 L5091.14 1466.7 L5091.14 915.458 L5072 915.458 L5072 915.458  Z\n",
       "  \" fill=\"#ff0000\" fill-rule=\"evenodd\" fill-opacity=\"1\"/>\n",
       "<polyline clip-path=\"url(#clip714)\" style=\"stroke:#000000; stroke-linecap:butt; stroke-linejoin:round; stroke-width:4; stroke-opacity:1; fill:none\" points=\"\n",
       "  5072,915.458 5072,1466.7 5091.14,1466.7 5091.14,915.458 5072,915.458 \n",
       "  \"/>\n",
       "<path clip-path=\"url(#clip714)\" d=\"\n",
       "M5091.14 915.458 L5091.14 1466.7 L5110.29 1466.7 L5110.29 915.458 L5091.14 915.458 L5091.14 915.458  Z\n",
       "  \" fill=\"#ff0000\" fill-rule=\"evenodd\" fill-opacity=\"1\"/>\n",
       "<polyline clip-path=\"url(#clip714)\" style=\"stroke:#000000; stroke-linecap:butt; stroke-linejoin:round; stroke-width:4; stroke-opacity:1; fill:none\" points=\"\n",
       "  5091.14,915.458 5091.14,1466.7 5110.29,1466.7 5110.29,915.458 5091.14,915.458 \n",
       "  \"/>\n",
       "<path clip-path=\"url(#clip714)\" d=\"\n",
       "M5110.29 1191.08 L5110.29 1466.7 L5129.43 1466.7 L5129.43 1191.08 L5110.29 1191.08 L5110.29 1191.08  Z\n",
       "  \" fill=\"#ff0000\" fill-rule=\"evenodd\" fill-opacity=\"1\"/>\n",
       "<polyline clip-path=\"url(#clip714)\" style=\"stroke:#000000; stroke-linecap:butt; stroke-linejoin:round; stroke-width:4; stroke-opacity:1; fill:none\" points=\"\n",
       "  5110.29,1191.08 5110.29,1466.7 5129.43,1466.7 5129.43,1191.08 5110.29,1191.08 \n",
       "  \"/>\n",
       "<path clip-path=\"url(#clip714)\" d=\"\n",
       "M5129.43 1466.7 L5129.43 1466.7 L5148.57 1466.7 L5148.57 1466.7 L5129.43 1466.7 L5129.43 1466.7  Z\n",
       "  \" fill=\"#ff0000\" fill-rule=\"evenodd\" fill-opacity=\"1\"/>\n",
       "<polyline clip-path=\"url(#clip714)\" style=\"stroke:#000000; stroke-linecap:butt; stroke-linejoin:round; stroke-width:4; stroke-opacity:1; fill:none\" points=\"\n",
       "  5129.43,1466.7 5129.43,1466.7 5148.57,1466.7 5129.43,1466.7 \n",
       "  \"/>\n",
       "<path clip-path=\"url(#clip714)\" d=\"\n",
       "M5148.57 1466.7 L5148.57 1466.7 L5167.71 1466.7 L5167.71 1466.7 L5148.57 1466.7 L5148.57 1466.7  Z\n",
       "  \" fill=\"#ff0000\" fill-rule=\"evenodd\" fill-opacity=\"1\"/>\n",
       "<polyline clip-path=\"url(#clip714)\" style=\"stroke:#000000; stroke-linecap:butt; stroke-linejoin:round; stroke-width:4; stroke-opacity:1; fill:none\" points=\"\n",
       "  5148.57,1466.7 5148.57,1466.7 5167.71,1466.7 5148.57,1466.7 \n",
       "  \"/>\n",
       "<path clip-path=\"url(#clip714)\" d=\"\n",
       "M5167.71 1466.7 L5167.71 1466.7 L5186.86 1466.7 L5186.86 1466.7 L5167.71 1466.7 L5167.71 1466.7  Z\n",
       "  \" fill=\"#ff0000\" fill-rule=\"evenodd\" fill-opacity=\"1\"/>\n",
       "<polyline clip-path=\"url(#clip714)\" style=\"stroke:#000000; stroke-linecap:butt; stroke-linejoin:round; stroke-width:4; stroke-opacity:1; fill:none\" points=\"\n",
       "  5167.71,1466.7 5167.71,1466.7 5186.86,1466.7 5167.71,1466.7 \n",
       "  \"/>\n",
       "<path clip-path=\"url(#clip714)\" d=\"\n",
       "M5186.86 1466.7 L5186.86 1466.7 L5206 1466.7 L5206 1466.7 L5186.86 1466.7 L5186.86 1466.7  Z\n",
       "  \" fill=\"#ff0000\" fill-rule=\"evenodd\" fill-opacity=\"1\"/>\n",
       "<polyline clip-path=\"url(#clip714)\" style=\"stroke:#000000; stroke-linecap:butt; stroke-linejoin:round; stroke-width:4; stroke-opacity:1; fill:none\" points=\"\n",
       "  5186.86,1466.7 5186.86,1466.7 5206,1466.7 5186.86,1466.7 \n",
       "  \"/>\n",
       "<path clip-path=\"url(#clip714)\" d=\"\n",
       "M5206 1466.7 L5206 1466.7 L5225.14 1466.7 L5225.14 1466.7 L5206 1466.7 L5206 1466.7  Z\n",
       "  \" fill=\"#ff0000\" fill-rule=\"evenodd\" fill-opacity=\"1\"/>\n",
       "<polyline clip-path=\"url(#clip714)\" style=\"stroke:#000000; stroke-linecap:butt; stroke-linejoin:round; stroke-width:4; stroke-opacity:1; fill:none\" points=\"\n",
       "  5206,1466.7 5206,1466.7 5225.14,1466.7 5206,1466.7 \n",
       "  \"/>\n",
       "<path clip-path=\"url(#clip714)\" d=\"\n",
       "M5225.14 1466.7 L5225.14 1466.7 L5244.28 1466.7 L5244.28 1466.7 L5225.14 1466.7 L5225.14 1466.7  Z\n",
       "  \" fill=\"#ff0000\" fill-rule=\"evenodd\" fill-opacity=\"1\"/>\n",
       "<polyline clip-path=\"url(#clip714)\" style=\"stroke:#000000; stroke-linecap:butt; stroke-linejoin:round; stroke-width:4; stroke-opacity:1; fill:none\" points=\"\n",
       "  5225.14,1466.7 5225.14,1466.7 5244.28,1466.7 5225.14,1466.7 \n",
       "  \"/>\n",
       "<path clip-path=\"url(#clip714)\" d=\"\n",
       "M5244.28 1466.7 L5244.28 1466.7 L5263.42 1466.7 L5263.42 1466.7 L5244.28 1466.7 L5244.28 1466.7  Z\n",
       "  \" fill=\"#ff0000\" fill-rule=\"evenodd\" fill-opacity=\"1\"/>\n",
       "<polyline clip-path=\"url(#clip714)\" style=\"stroke:#000000; stroke-linecap:butt; stroke-linejoin:round; stroke-width:4; stroke-opacity:1; fill:none\" points=\"\n",
       "  5244.28,1466.7 5244.28,1466.7 5263.42,1466.7 5244.28,1466.7 \n",
       "  \"/>\n",
       "<path clip-path=\"url(#clip714)\" d=\"\n",
       "M5263.42 1466.7 L5263.42 1466.7 L5282.57 1466.7 L5282.57 1466.7 L5263.42 1466.7 L5263.42 1466.7  Z\n",
       "  \" fill=\"#ff0000\" fill-rule=\"evenodd\" fill-opacity=\"1\"/>\n",
       "<polyline clip-path=\"url(#clip714)\" style=\"stroke:#000000; stroke-linecap:butt; stroke-linejoin:round; stroke-width:4; stroke-opacity:1; fill:none\" points=\"\n",
       "  5263.42,1466.7 5263.42,1466.7 5282.57,1466.7 5263.42,1466.7 \n",
       "  \"/>\n",
       "<path clip-path=\"url(#clip714)\" d=\"\n",
       "M5282.57 1466.7 L5282.57 1466.7 L5301.71 1466.7 L5301.71 1466.7 L5282.57 1466.7 L5282.57 1466.7  Z\n",
       "  \" fill=\"#ff0000\" fill-rule=\"evenodd\" fill-opacity=\"1\"/>\n",
       "<polyline clip-path=\"url(#clip714)\" style=\"stroke:#000000; stroke-linecap:butt; stroke-linejoin:round; stroke-width:4; stroke-opacity:1; fill:none\" points=\"\n",
       "  5282.57,1466.7 5282.57,1466.7 5301.71,1466.7 5282.57,1466.7 \n",
       "  \"/>\n",
       "<path clip-path=\"url(#clip714)\" d=\"\n",
       "M5301.71 1466.7 L5301.71 1466.7 L5320.85 1466.7 L5320.85 1466.7 L5301.71 1466.7 L5301.71 1466.7  Z\n",
       "  \" fill=\"#ff0000\" fill-rule=\"evenodd\" fill-opacity=\"1\"/>\n",
       "<polyline clip-path=\"url(#clip714)\" style=\"stroke:#000000; stroke-linecap:butt; stroke-linejoin:round; stroke-width:4; stroke-opacity:1; fill:none\" points=\"\n",
       "  5301.71,1466.7 5301.71,1466.7 5320.85,1466.7 5301.71,1466.7 \n",
       "  \"/>\n",
       "<path clip-path=\"url(#clip714)\" d=\"\n",
       "M5320.85 1191.08 L5320.85 1466.7 L5339.99 1466.7 L5339.99 1191.08 L5320.85 1191.08 L5320.85 1191.08  Z\n",
       "  \" fill=\"#ff0000\" fill-rule=\"evenodd\" fill-opacity=\"1\"/>\n",
       "<polyline clip-path=\"url(#clip714)\" style=\"stroke:#000000; stroke-linecap:butt; stroke-linejoin:round; stroke-width:4; stroke-opacity:1; fill:none\" points=\"\n",
       "  5320.85,1191.08 5320.85,1466.7 5339.99,1466.7 5339.99,1191.08 5320.85,1191.08 \n",
       "  \"/>\n",
       "<path clip-path=\"url(#clip714)\" d=\"\n",
       "M5339.99 1191.08 L5339.99 1466.7 L5359.13 1466.7 L5359.13 1191.08 L5339.99 1191.08 L5339.99 1191.08  Z\n",
       "  \" fill=\"#ff0000\" fill-rule=\"evenodd\" fill-opacity=\"1\"/>\n",
       "<polyline clip-path=\"url(#clip714)\" style=\"stroke:#000000; stroke-linecap:butt; stroke-linejoin:round; stroke-width:4; stroke-opacity:1; fill:none\" points=\"\n",
       "  5339.99,1191.08 5339.99,1466.7 5359.13,1466.7 5359.13,1191.08 5339.99,1191.08 \n",
       "  \"/>\n",
       "<path clip-path=\"url(#clip714)\" d=\"\n",
       "M5359.13 1466.7 L5359.13 1466.7 L5378.28 1466.7 L5378.28 1466.7 L5359.13 1466.7 L5359.13 1466.7  Z\n",
       "  \" fill=\"#ff0000\" fill-rule=\"evenodd\" fill-opacity=\"1\"/>\n",
       "<polyline clip-path=\"url(#clip714)\" style=\"stroke:#000000; stroke-linecap:butt; stroke-linejoin:round; stroke-width:4; stroke-opacity:1; fill:none\" points=\"\n",
       "  5359.13,1466.7 5359.13,1466.7 5378.28,1466.7 5359.13,1466.7 \n",
       "  \"/>\n",
       "<path clip-path=\"url(#clip714)\" d=\"\n",
       "M5378.28 1466.7 L5378.28 1466.7 L5397.42 1466.7 L5397.42 1466.7 L5378.28 1466.7 L5378.28 1466.7  Z\n",
       "  \" fill=\"#ff0000\" fill-rule=\"evenodd\" fill-opacity=\"1\"/>\n",
       "<polyline clip-path=\"url(#clip714)\" style=\"stroke:#000000; stroke-linecap:butt; stroke-linejoin:round; stroke-width:4; stroke-opacity:1; fill:none\" points=\"\n",
       "  5378.28,1466.7 5378.28,1466.7 5397.42,1466.7 5378.28,1466.7 \n",
       "  \"/>\n",
       "<path clip-path=\"url(#clip714)\" d=\"\n",
       "M5397.42 1466.7 L5397.42 1466.7 L5416.56 1466.7 L5416.56 1466.7 L5397.42 1466.7 L5397.42 1466.7  Z\n",
       "  \" fill=\"#ff0000\" fill-rule=\"evenodd\" fill-opacity=\"1\"/>\n",
       "<polyline clip-path=\"url(#clip714)\" style=\"stroke:#000000; stroke-linecap:butt; stroke-linejoin:round; stroke-width:4; stroke-opacity:1; fill:none\" points=\"\n",
       "  5397.42,1466.7 5397.42,1466.7 5416.56,1466.7 5397.42,1466.7 \n",
       "  \"/>\n",
       "<path clip-path=\"url(#clip714)\" d=\"\n",
       "M5416.56 1466.7 L5416.56 1466.7 L5435.7 1466.7 L5435.7 1466.7 L5416.56 1466.7 L5416.56 1466.7  Z\n",
       "  \" fill=\"#ff0000\" fill-rule=\"evenodd\" fill-opacity=\"1\"/>\n",
       "<polyline clip-path=\"url(#clip714)\" style=\"stroke:#000000; stroke-linecap:butt; stroke-linejoin:round; stroke-width:4; stroke-opacity:1; fill:none\" points=\"\n",
       "  5416.56,1466.7 5416.56,1466.7 5435.7,1466.7 5416.56,1466.7 \n",
       "  \"/>\n",
       "<path clip-path=\"url(#clip714)\" d=\"\n",
       "M5435.7 1466.7 L5435.7 1466.7 L5454.85 1466.7 L5454.85 1466.7 L5435.7 1466.7 L5435.7 1466.7  Z\n",
       "  \" fill=\"#ff0000\" fill-rule=\"evenodd\" fill-opacity=\"1\"/>\n",
       "<polyline clip-path=\"url(#clip714)\" style=\"stroke:#000000; stroke-linecap:butt; stroke-linejoin:round; stroke-width:4; stroke-opacity:1; fill:none\" points=\"\n",
       "  5435.7,1466.7 5435.7,1466.7 5454.85,1466.7 5435.7,1466.7 \n",
       "  \"/>\n",
       "<path clip-path=\"url(#clip714)\" d=\"\n",
       "M5454.85 1466.7 L5454.85 1466.7 L5473.99 1466.7 L5473.99 1466.7 L5454.85 1466.7 L5454.85 1466.7  Z\n",
       "  \" fill=\"#ff0000\" fill-rule=\"evenodd\" fill-opacity=\"1\"/>\n",
       "<polyline clip-path=\"url(#clip714)\" style=\"stroke:#000000; stroke-linecap:butt; stroke-linejoin:round; stroke-width:4; stroke-opacity:1; fill:none\" points=\"\n",
       "  5454.85,1466.7 5454.85,1466.7 5473.99,1466.7 5454.85,1466.7 \n",
       "  \"/>\n",
       "<path clip-path=\"url(#clip714)\" d=\"\n",
       "M5473.99 1466.7 L5473.99 1466.7 L5493.13 1466.7 L5493.13 1466.7 L5473.99 1466.7 L5473.99 1466.7  Z\n",
       "  \" fill=\"#ff0000\" fill-rule=\"evenodd\" fill-opacity=\"1\"/>\n",
       "<polyline clip-path=\"url(#clip714)\" style=\"stroke:#000000; stroke-linecap:butt; stroke-linejoin:round; stroke-width:4; stroke-opacity:1; fill:none\" points=\"\n",
       "  5473.99,1466.7 5473.99,1466.7 5493.13,1466.7 5473.99,1466.7 \n",
       "  \"/>\n",
       "<path clip-path=\"url(#clip714)\" d=\"\n",
       "M5493.13 1466.7 L5493.13 1466.7 L5512.27 1466.7 L5512.27 1466.7 L5493.13 1466.7 L5493.13 1466.7  Z\n",
       "  \" fill=\"#ff0000\" fill-rule=\"evenodd\" fill-opacity=\"1\"/>\n",
       "<polyline clip-path=\"url(#clip714)\" style=\"stroke:#000000; stroke-linecap:butt; stroke-linejoin:round; stroke-width:4; stroke-opacity:1; fill:none\" points=\"\n",
       "  5493.13,1466.7 5493.13,1466.7 5512.27,1466.7 5493.13,1466.7 \n",
       "  \"/>\n",
       "<path clip-path=\"url(#clip714)\" d=\"\n",
       "M5512.27 1466.7 L5512.27 1466.7 L5531.41 1466.7 L5531.41 1466.7 L5512.27 1466.7 L5512.27 1466.7  Z\n",
       "  \" fill=\"#ff0000\" fill-rule=\"evenodd\" fill-opacity=\"1\"/>\n",
       "<polyline clip-path=\"url(#clip714)\" style=\"stroke:#000000; stroke-linecap:butt; stroke-linejoin:round; stroke-width:4; stroke-opacity:1; fill:none\" points=\"\n",
       "  5512.27,1466.7 5512.27,1466.7 5531.41,1466.7 5512.27,1466.7 \n",
       "  \"/>\n",
       "<path clip-path=\"url(#clip714)\" d=\"\n",
       "M5531.41 1466.7 L5531.41 1466.7 L5550.56 1466.7 L5550.56 1466.7 L5531.41 1466.7 L5531.41 1466.7  Z\n",
       "  \" fill=\"#ff0000\" fill-rule=\"evenodd\" fill-opacity=\"1\"/>\n",
       "<polyline clip-path=\"url(#clip714)\" style=\"stroke:#000000; stroke-linecap:butt; stroke-linejoin:round; stroke-width:4; stroke-opacity:1; fill:none\" points=\"\n",
       "  5531.41,1466.7 5531.41,1466.7 5550.56,1466.7 5531.41,1466.7 \n",
       "  \"/>\n",
       "<path clip-path=\"url(#clip714)\" d=\"\n",
       "M5550.56 1466.7 L5550.56 1466.7 L5569.7 1466.7 L5569.7 1466.7 L5550.56 1466.7 L5550.56 1466.7  Z\n",
       "  \" fill=\"#ff0000\" fill-rule=\"evenodd\" fill-opacity=\"1\"/>\n",
       "<polyline clip-path=\"url(#clip714)\" style=\"stroke:#000000; stroke-linecap:butt; stroke-linejoin:round; stroke-width:4; stroke-opacity:1; fill:none\" points=\"\n",
       "  5550.56,1466.7 5550.56,1466.7 5569.7,1466.7 5550.56,1466.7 \n",
       "  \"/>\n",
       "<path clip-path=\"url(#clip714)\" d=\"\n",
       "M5569.7 1191.08 L5569.7 1466.7 L5588.84 1466.7 L5588.84 1191.08 L5569.7 1191.08 L5569.7 1191.08  Z\n",
       "  \" fill=\"#ff0000\" fill-rule=\"evenodd\" fill-opacity=\"1\"/>\n",
       "<polyline clip-path=\"url(#clip714)\" style=\"stroke:#000000; stroke-linecap:butt; stroke-linejoin:round; stroke-width:4; stroke-opacity:1; fill:none\" points=\"\n",
       "  5569.7,1191.08 5569.7,1466.7 5588.84,1466.7 5588.84,1191.08 5569.7,1191.08 \n",
       "  \"/>\n",
       "<path clip-path=\"url(#clip714)\" d=\"\n",
       "M5588.84 1466.7 L5588.84 1466.7 L5607.98 1466.7 L5607.98 1466.7 L5588.84 1466.7 L5588.84 1466.7  Z\n",
       "  \" fill=\"#ff0000\" fill-rule=\"evenodd\" fill-opacity=\"1\"/>\n",
       "<polyline clip-path=\"url(#clip714)\" style=\"stroke:#000000; stroke-linecap:butt; stroke-linejoin:round; stroke-width:4; stroke-opacity:1; fill:none\" points=\"\n",
       "  5588.84,1466.7 5588.84,1466.7 5607.98,1466.7 5588.84,1466.7 \n",
       "  \"/>\n",
       "<path clip-path=\"url(#clip714)\" d=\"\n",
       "M5607.98 1191.08 L5607.98 1466.7 L5627.12 1466.7 L5627.12 1191.08 L5607.98 1191.08 L5607.98 1191.08  Z\n",
       "  \" fill=\"#ff0000\" fill-rule=\"evenodd\" fill-opacity=\"1\"/>\n",
       "<polyline clip-path=\"url(#clip714)\" style=\"stroke:#000000; stroke-linecap:butt; stroke-linejoin:round; stroke-width:4; stroke-opacity:1; fill:none\" points=\"\n",
       "  5607.98,1191.08 5607.98,1466.7 5627.12,1466.7 5627.12,1191.08 5607.98,1191.08 \n",
       "  \"/>\n",
       "<path clip-path=\"url(#clip714)\" d=\"\n",
       "M5627.12 1466.7 L5627.12 1466.7 L5646.27 1466.7 L5646.27 1466.7 L5627.12 1466.7 L5627.12 1466.7  Z\n",
       "  \" fill=\"#ff0000\" fill-rule=\"evenodd\" fill-opacity=\"1\"/>\n",
       "<polyline clip-path=\"url(#clip714)\" style=\"stroke:#000000; stroke-linecap:butt; stroke-linejoin:round; stroke-width:4; stroke-opacity:1; fill:none\" points=\"\n",
       "  5627.12,1466.7 5627.12,1466.7 5646.27,1466.7 5627.12,1466.7 \n",
       "  \"/>\n",
       "<path clip-path=\"url(#clip714)\" d=\"\n",
       "M5646.27 1466.7 L5646.27 1466.7 L5665.41 1466.7 L5665.41 1466.7 L5646.27 1466.7 L5646.27 1466.7  Z\n",
       "  \" fill=\"#ff0000\" fill-rule=\"evenodd\" fill-opacity=\"1\"/>\n",
       "<polyline clip-path=\"url(#clip714)\" style=\"stroke:#000000; stroke-linecap:butt; stroke-linejoin:round; stroke-width:4; stroke-opacity:1; fill:none\" points=\"\n",
       "  5646.27,1466.7 5646.27,1466.7 5665.41,1466.7 5646.27,1466.7 \n",
       "  \"/>\n",
       "<path clip-path=\"url(#clip714)\" d=\"\n",
       "M5665.41 1191.08 L5665.41 1466.7 L5684.55 1466.7 L5684.55 1191.08 L5665.41 1191.08 L5665.41 1191.08  Z\n",
       "  \" fill=\"#ff0000\" fill-rule=\"evenodd\" fill-opacity=\"1\"/>\n",
       "<polyline clip-path=\"url(#clip714)\" style=\"stroke:#000000; stroke-linecap:butt; stroke-linejoin:round; stroke-width:4; stroke-opacity:1; fill:none\" points=\"\n",
       "  5665.41,1191.08 5665.41,1466.7 5684.55,1466.7 5684.55,1191.08 5665.41,1191.08 \n",
       "  \"/>\n",
       "<path clip-path=\"url(#clip714)\" d=\"\n",
       "M5684.55 1466.7 L5684.55 1466.7 L5703.69 1466.7 L5703.69 1466.7 L5684.55 1466.7 L5684.55 1466.7  Z\n",
       "  \" fill=\"#ff0000\" fill-rule=\"evenodd\" fill-opacity=\"1\"/>\n",
       "<polyline clip-path=\"url(#clip714)\" style=\"stroke:#000000; stroke-linecap:butt; stroke-linejoin:round; stroke-width:4; stroke-opacity:1; fill:none\" points=\"\n",
       "  5684.55,1466.7 5684.55,1466.7 5703.69,1466.7 5684.55,1466.7 \n",
       "  \"/>\n",
       "<path clip-path=\"url(#clip714)\" d=\"\n",
       "M5703.69 1466.7 L5703.69 1466.7 L5722.84 1466.7 L5722.84 1466.7 L5703.69 1466.7 L5703.69 1466.7  Z\n",
       "  \" fill=\"#ff0000\" fill-rule=\"evenodd\" fill-opacity=\"1\"/>\n",
       "<polyline clip-path=\"url(#clip714)\" style=\"stroke:#000000; stroke-linecap:butt; stroke-linejoin:round; stroke-width:4; stroke-opacity:1; fill:none\" points=\"\n",
       "  5703.69,1466.7 5703.69,1466.7 5722.84,1466.7 5703.69,1466.7 \n",
       "  \"/>\n",
       "<path clip-path=\"url(#clip714)\" d=\"\n",
       "M5722.84 1466.7 L5722.84 1466.7 L5741.98 1466.7 L5741.98 1466.7 L5722.84 1466.7 L5722.84 1466.7  Z\n",
       "  \" fill=\"#ff0000\" fill-rule=\"evenodd\" fill-opacity=\"1\"/>\n",
       "<polyline clip-path=\"url(#clip714)\" style=\"stroke:#000000; stroke-linecap:butt; stroke-linejoin:round; stroke-width:4; stroke-opacity:1; fill:none\" points=\"\n",
       "  5722.84,1466.7 5722.84,1466.7 5741.98,1466.7 5722.84,1466.7 \n",
       "  \"/>\n",
       "<path clip-path=\"url(#clip714)\" d=\"\n",
       "M5741.98 1466.7 L5741.98 1466.7 L5761.12 1466.7 L5761.12 1466.7 L5741.98 1466.7 L5741.98 1466.7  Z\n",
       "  \" fill=\"#ff0000\" fill-rule=\"evenodd\" fill-opacity=\"1\"/>\n",
       "<polyline clip-path=\"url(#clip714)\" style=\"stroke:#000000; stroke-linecap:butt; stroke-linejoin:round; stroke-width:4; stroke-opacity:1; fill:none\" points=\"\n",
       "  5741.98,1466.7 5741.98,1466.7 5761.12,1466.7 5741.98,1466.7 \n",
       "  \"/>\n",
       "<path clip-path=\"url(#clip714)\" d=\"\n",
       "M5761.12 1466.7 L5761.12 1466.7 L5780.26 1466.7 L5780.26 1466.7 L5761.12 1466.7 L5761.12 1466.7  Z\n",
       "  \" fill=\"#ff0000\" fill-rule=\"evenodd\" fill-opacity=\"1\"/>\n",
       "<polyline clip-path=\"url(#clip714)\" style=\"stroke:#000000; stroke-linecap:butt; stroke-linejoin:round; stroke-width:4; stroke-opacity:1; fill:none\" points=\"\n",
       "  5761.12,1466.7 5761.12,1466.7 5780.26,1466.7 5761.12,1466.7 \n",
       "  \"/>\n",
       "<path clip-path=\"url(#clip714)\" d=\"\n",
       "M5780.26 915.458 L5780.26 1466.7 L5799.4 1466.7 L5799.4 915.458 L5780.26 915.458 L5780.26 915.458  Z\n",
       "  \" fill=\"#ff0000\" fill-rule=\"evenodd\" fill-opacity=\"1\"/>\n",
       "<polyline clip-path=\"url(#clip714)\" style=\"stroke:#000000; stroke-linecap:butt; stroke-linejoin:round; stroke-width:4; stroke-opacity:1; fill:none\" points=\"\n",
       "  5780.26,915.458 5780.26,1466.7 5799.4,1466.7 5799.4,915.458 5780.26,915.458 \n",
       "  \"/>\n",
       "<path clip-path=\"url(#clip714)\" d=\"\n",
       "M5799.4 1191.08 L5799.4 1466.7 L5818.55 1466.7 L5818.55 1191.08 L5799.4 1191.08 L5799.4 1191.08  Z\n",
       "  \" fill=\"#ff0000\" fill-rule=\"evenodd\" fill-opacity=\"1\"/>\n",
       "<polyline clip-path=\"url(#clip714)\" style=\"stroke:#000000; stroke-linecap:butt; stroke-linejoin:round; stroke-width:4; stroke-opacity:1; fill:none\" points=\"\n",
       "  5799.4,1191.08 5799.4,1466.7 5818.55,1466.7 5818.55,1191.08 5799.4,1191.08 \n",
       "  \"/>\n",
       "<circle clip-path=\"url(#clip714)\" style=\"fill:#009af9; stroke:none; fill-opacity:0\" cx=\"4928.44\" cy=\"1191.08\" r=\"2\"/>\n",
       "<circle clip-path=\"url(#clip714)\" style=\"fill:#009af9; stroke:none; fill-opacity:0\" cx=\"4947.58\" cy=\"1191.08\" r=\"2\"/>\n",
       "<circle clip-path=\"url(#clip714)\" style=\"fill:#009af9; stroke:none; fill-opacity:0\" cx=\"4966.72\" cy=\"1466.7\" r=\"2\"/>\n",
       "<circle clip-path=\"url(#clip714)\" style=\"fill:#009af9; stroke:none; fill-opacity:0\" cx=\"4985.86\" cy=\"1466.7\" r=\"2\"/>\n",
       "<circle clip-path=\"url(#clip714)\" style=\"fill:#009af9; stroke:none; fill-opacity:0\" cx=\"5005.01\" cy=\"1466.7\" r=\"2\"/>\n",
       "<circle clip-path=\"url(#clip714)\" style=\"fill:#009af9; stroke:none; fill-opacity:0\" cx=\"5024.15\" cy=\"639.834\" r=\"2\"/>\n",
       "<circle clip-path=\"url(#clip714)\" style=\"fill:#009af9; stroke:none; fill-opacity:0\" cx=\"5043.29\" cy=\"1466.7\" r=\"2\"/>\n",
       "<circle clip-path=\"url(#clip714)\" style=\"fill:#009af9; stroke:none; fill-opacity:0\" cx=\"5062.43\" cy=\"1466.7\" r=\"2\"/>\n",
       "<circle clip-path=\"url(#clip714)\" style=\"fill:#009af9; stroke:none; fill-opacity:0\" cx=\"5081.57\" cy=\"915.458\" r=\"2\"/>\n",
       "<circle clip-path=\"url(#clip714)\" style=\"fill:#009af9; stroke:none; fill-opacity:0\" cx=\"5100.72\" cy=\"915.458\" r=\"2\"/>\n",
       "<circle clip-path=\"url(#clip714)\" style=\"fill:#009af9; stroke:none; fill-opacity:0\" cx=\"5119.86\" cy=\"1191.08\" r=\"2\"/>\n",
       "<circle clip-path=\"url(#clip714)\" style=\"fill:#009af9; stroke:none; fill-opacity:0\" cx=\"5139\" cy=\"1466.7\" r=\"2\"/>\n",
       "<circle clip-path=\"url(#clip714)\" style=\"fill:#009af9; stroke:none; fill-opacity:0\" cx=\"5158.14\" cy=\"1466.7\" r=\"2\"/>\n",
       "<circle clip-path=\"url(#clip714)\" style=\"fill:#009af9; stroke:none; fill-opacity:0\" cx=\"5177.28\" cy=\"1466.7\" r=\"2\"/>\n",
       "<circle clip-path=\"url(#clip714)\" style=\"fill:#009af9; stroke:none; fill-opacity:0\" cx=\"5196.43\" cy=\"1466.7\" r=\"2\"/>\n",
       "<circle clip-path=\"url(#clip714)\" style=\"fill:#009af9; stroke:none; fill-opacity:0\" cx=\"5215.57\" cy=\"1466.7\" r=\"2\"/>\n",
       "<circle clip-path=\"url(#clip714)\" style=\"fill:#009af9; stroke:none; fill-opacity:0\" cx=\"5234.71\" cy=\"1466.7\" r=\"2\"/>\n",
       "<circle clip-path=\"url(#clip714)\" style=\"fill:#009af9; stroke:none; fill-opacity:0\" cx=\"5253.85\" cy=\"1466.7\" r=\"2\"/>\n",
       "<circle clip-path=\"url(#clip714)\" style=\"fill:#009af9; stroke:none; fill-opacity:0\" cx=\"5273\" cy=\"1466.7\" r=\"2\"/>\n",
       "<circle clip-path=\"url(#clip714)\" style=\"fill:#009af9; stroke:none; fill-opacity:0\" cx=\"5292.14\" cy=\"1466.7\" r=\"2\"/>\n",
       "<circle clip-path=\"url(#clip714)\" style=\"fill:#009af9; stroke:none; fill-opacity:0\" cx=\"5311.28\" cy=\"1466.7\" r=\"2\"/>\n",
       "<circle clip-path=\"url(#clip714)\" style=\"fill:#009af9; stroke:none; fill-opacity:0\" cx=\"5330.42\" cy=\"1191.08\" r=\"2\"/>\n",
       "<circle clip-path=\"url(#clip714)\" style=\"fill:#009af9; stroke:none; fill-opacity:0\" cx=\"5349.56\" cy=\"1191.08\" r=\"2\"/>\n",
       "<circle clip-path=\"url(#clip714)\" style=\"fill:#009af9; stroke:none; fill-opacity:0\" cx=\"5368.71\" cy=\"1466.7\" r=\"2\"/>\n",
       "<circle clip-path=\"url(#clip714)\" style=\"fill:#009af9; stroke:none; fill-opacity:0\" cx=\"5387.85\" cy=\"1466.7\" r=\"2\"/>\n",
       "<circle clip-path=\"url(#clip714)\" style=\"fill:#009af9; stroke:none; fill-opacity:0\" cx=\"5406.99\" cy=\"1466.7\" r=\"2\"/>\n",
       "<circle clip-path=\"url(#clip714)\" style=\"fill:#009af9; stroke:none; fill-opacity:0\" cx=\"5426.13\" cy=\"1466.7\" r=\"2\"/>\n",
       "<circle clip-path=\"url(#clip714)\" style=\"fill:#009af9; stroke:none; fill-opacity:0\" cx=\"5445.27\" cy=\"1466.7\" r=\"2\"/>\n",
       "<circle clip-path=\"url(#clip714)\" style=\"fill:#009af9; stroke:none; fill-opacity:0\" cx=\"5464.42\" cy=\"1466.7\" r=\"2\"/>\n",
       "<circle clip-path=\"url(#clip714)\" style=\"fill:#009af9; stroke:none; fill-opacity:0\" cx=\"5483.56\" cy=\"1466.7\" r=\"2\"/>\n",
       "<circle clip-path=\"url(#clip714)\" style=\"fill:#009af9; stroke:none; fill-opacity:0\" cx=\"5502.7\" cy=\"1466.7\" r=\"2\"/>\n",
       "<circle clip-path=\"url(#clip714)\" style=\"fill:#009af9; stroke:none; fill-opacity:0\" cx=\"5521.84\" cy=\"1466.7\" r=\"2\"/>\n",
       "<circle clip-path=\"url(#clip714)\" style=\"fill:#009af9; stroke:none; fill-opacity:0\" cx=\"5540.99\" cy=\"1466.7\" r=\"2\"/>\n",
       "<circle clip-path=\"url(#clip714)\" style=\"fill:#009af9; stroke:none; fill-opacity:0\" cx=\"5560.13\" cy=\"1466.7\" r=\"2\"/>\n",
       "<circle clip-path=\"url(#clip714)\" style=\"fill:#009af9; stroke:none; fill-opacity:0\" cx=\"5579.27\" cy=\"1191.08\" r=\"2\"/>\n",
       "<circle clip-path=\"url(#clip714)\" style=\"fill:#009af9; stroke:none; fill-opacity:0\" cx=\"5598.41\" cy=\"1466.7\" r=\"2\"/>\n",
       "<circle clip-path=\"url(#clip714)\" style=\"fill:#009af9; stroke:none; fill-opacity:0\" cx=\"5617.55\" cy=\"1191.08\" r=\"2\"/>\n",
       "<circle clip-path=\"url(#clip714)\" style=\"fill:#009af9; stroke:none; fill-opacity:0\" cx=\"5636.7\" cy=\"1466.7\" r=\"2\"/>\n",
       "<circle clip-path=\"url(#clip714)\" style=\"fill:#009af9; stroke:none; fill-opacity:0\" cx=\"5655.84\" cy=\"1466.7\" r=\"2\"/>\n",
       "<circle clip-path=\"url(#clip714)\" style=\"fill:#009af9; stroke:none; fill-opacity:0\" cx=\"5674.98\" cy=\"1191.08\" r=\"2\"/>\n",
       "<circle clip-path=\"url(#clip714)\" style=\"fill:#009af9; stroke:none; fill-opacity:0\" cx=\"5694.12\" cy=\"1466.7\" r=\"2\"/>\n",
       "<circle clip-path=\"url(#clip714)\" style=\"fill:#009af9; stroke:none; fill-opacity:0\" cx=\"5713.26\" cy=\"1466.7\" r=\"2\"/>\n",
       "<circle clip-path=\"url(#clip714)\" style=\"fill:#009af9; stroke:none; fill-opacity:0\" cx=\"5732.41\" cy=\"1466.7\" r=\"2\"/>\n",
       "<circle clip-path=\"url(#clip714)\" style=\"fill:#009af9; stroke:none; fill-opacity:0\" cx=\"5751.55\" cy=\"1466.7\" r=\"2\"/>\n",
       "<circle clip-path=\"url(#clip714)\" style=\"fill:#009af9; stroke:none; fill-opacity:0\" cx=\"5770.69\" cy=\"1466.7\" r=\"2\"/>\n",
       "<circle clip-path=\"url(#clip714)\" style=\"fill:#009af9; stroke:none; fill-opacity:0\" cx=\"5789.83\" cy=\"915.458\" r=\"2\"/>\n",
       "<circle clip-path=\"url(#clip714)\" style=\"fill:#009af9; stroke:none; fill-opacity:0\" cx=\"5808.98\" cy=\"1191.08\" r=\"2\"/>\n",
       "<path clip-path=\"url(#clip714)\" d=\"\n",
       "M4574.31 1191.08 L4574.31 1466.7 L4622.16 1466.7 L4622.16 1191.08 L4574.31 1191.08 L4574.31 1191.08  Z\n",
       "  \" fill=\"#0000ff\" fill-rule=\"evenodd\" fill-opacity=\"1\"/>\n",
       "<polyline clip-path=\"url(#clip714)\" style=\"stroke:#000000; stroke-linecap:butt; stroke-linejoin:round; stroke-width:4; stroke-opacity:1; fill:none\" points=\"\n",
       "  4574.31,1191.08 4574.31,1466.7 4622.16,1466.7 4622.16,1191.08 4574.31,1191.08 \n",
       "  \"/>\n",
       "<path clip-path=\"url(#clip714)\" d=\"\n",
       "M4622.16 1466.7 L4622.16 1466.7 L4670.02 1466.7 L4670.02 1466.7 L4622.16 1466.7 L4622.16 1466.7  Z\n",
       "  \" fill=\"#0000ff\" fill-rule=\"evenodd\" fill-opacity=\"1\"/>\n",
       "<polyline clip-path=\"url(#clip714)\" style=\"stroke:#000000; stroke-linecap:butt; stroke-linejoin:round; stroke-width:4; stroke-opacity:1; fill:none\" points=\"\n",
       "  4622.16,1466.7 4622.16,1466.7 4670.02,1466.7 4622.16,1466.7 \n",
       "  \"/>\n",
       "<path clip-path=\"url(#clip714)\" d=\"\n",
       "M4670.02 1191.08 L4670.02 1466.7 L4717.87 1466.7 L4717.87 1191.08 L4670.02 1191.08 L4670.02 1191.08  Z\n",
       "  \" fill=\"#0000ff\" fill-rule=\"evenodd\" fill-opacity=\"1\"/>\n",
       "<polyline clip-path=\"url(#clip714)\" style=\"stroke:#000000; stroke-linecap:butt; stroke-linejoin:round; stroke-width:4; stroke-opacity:1; fill:none\" points=\"\n",
       "  4670.02,1191.08 4670.02,1466.7 4717.87,1466.7 4717.87,1191.08 4670.02,1191.08 \n",
       "  \"/>\n",
       "<path clip-path=\"url(#clip714)\" d=\"\n",
       "M4717.87 1466.7 L4717.87 1466.7 L4765.73 1466.7 L4765.73 1466.7 L4717.87 1466.7 L4717.87 1466.7  Z\n",
       "  \" fill=\"#0000ff\" fill-rule=\"evenodd\" fill-opacity=\"1\"/>\n",
       "<polyline clip-path=\"url(#clip714)\" style=\"stroke:#000000; stroke-linecap:butt; stroke-linejoin:round; stroke-width:4; stroke-opacity:1; fill:none\" points=\"\n",
       "  4717.87,1466.7 4717.87,1466.7 4765.73,1466.7 4717.87,1466.7 \n",
       "  \"/>\n",
       "<path clip-path=\"url(#clip714)\" d=\"\n",
       "M4765.73 1466.7 L4765.73 1466.7 L4813.58 1466.7 L4813.58 1466.7 L4765.73 1466.7 L4765.73 1466.7  Z\n",
       "  \" fill=\"#0000ff\" fill-rule=\"evenodd\" fill-opacity=\"1\"/>\n",
       "<polyline clip-path=\"url(#clip714)\" style=\"stroke:#000000; stroke-linecap:butt; stroke-linejoin:round; stroke-width:4; stroke-opacity:1; fill:none\" points=\"\n",
       "  4765.73,1466.7 4765.73,1466.7 4813.58,1466.7 4765.73,1466.7 \n",
       "  \"/>\n",
       "<path clip-path=\"url(#clip714)\" d=\"\n",
       "M4813.58 1191.08 L4813.58 1466.7 L4861.44 1466.7 L4861.44 1191.08 L4813.58 1191.08 L4813.58 1191.08  Z\n",
       "  \" fill=\"#0000ff\" fill-rule=\"evenodd\" fill-opacity=\"1\"/>\n",
       "<polyline clip-path=\"url(#clip714)\" style=\"stroke:#000000; stroke-linecap:butt; stroke-linejoin:round; stroke-width:4; stroke-opacity:1; fill:none\" points=\"\n",
       "  4813.58,1191.08 4813.58,1466.7 4861.44,1466.7 4861.44,1191.08 4813.58,1191.08 \n",
       "  \"/>\n",
       "<path clip-path=\"url(#clip714)\" d=\"\n",
       "M4861.44 1466.7 L4861.44 1466.7 L4909.29 1466.7 L4909.29 1466.7 L4861.44 1466.7 L4861.44 1466.7  Z\n",
       "  \" fill=\"#0000ff\" fill-rule=\"evenodd\" fill-opacity=\"1\"/>\n",
       "<polyline clip-path=\"url(#clip714)\" style=\"stroke:#000000; stroke-linecap:butt; stroke-linejoin:round; stroke-width:4; stroke-opacity:1; fill:none\" points=\"\n",
       "  4861.44,1466.7 4861.44,1466.7 4909.29,1466.7 4861.44,1466.7 \n",
       "  \"/>\n",
       "<path clip-path=\"url(#clip714)\" d=\"\n",
       "M4909.29 1191.08 L4909.29 1466.7 L4957.15 1466.7 L4957.15 1191.08 L4909.29 1191.08 L4909.29 1191.08  Z\n",
       "  \" fill=\"#0000ff\" fill-rule=\"evenodd\" fill-opacity=\"1\"/>\n",
       "<polyline clip-path=\"url(#clip714)\" style=\"stroke:#000000; stroke-linecap:butt; stroke-linejoin:round; stroke-width:4; stroke-opacity:1; fill:none\" points=\"\n",
       "  4909.29,1191.08 4909.29,1466.7 4957.15,1466.7 4957.15,1191.08 4909.29,1191.08 \n",
       "  \"/>\n",
       "<path clip-path=\"url(#clip714)\" d=\"\n",
       "M4957.15 1466.7 L4957.15 1466.7 L5005.01 1466.7 L5005.01 1466.7 L4957.15 1466.7 L4957.15 1466.7  Z\n",
       "  \" fill=\"#0000ff\" fill-rule=\"evenodd\" fill-opacity=\"1\"/>\n",
       "<polyline clip-path=\"url(#clip714)\" style=\"stroke:#000000; stroke-linecap:butt; stroke-linejoin:round; stroke-width:4; stroke-opacity:1; fill:none\" points=\"\n",
       "  4957.15,1466.7 4957.15,1466.7 5005.01,1466.7 4957.15,1466.7 \n",
       "  \"/>\n",
       "<path clip-path=\"url(#clip714)\" d=\"\n",
       "M5005.01 1191.08 L5005.01 1466.7 L5052.86 1466.7 L5052.86 1191.08 L5005.01 1191.08 L5005.01 1191.08  Z\n",
       "  \" fill=\"#0000ff\" fill-rule=\"evenodd\" fill-opacity=\"1\"/>\n",
       "<polyline clip-path=\"url(#clip714)\" style=\"stroke:#000000; stroke-linecap:butt; stroke-linejoin:round; stroke-width:4; stroke-opacity:1; fill:none\" points=\"\n",
       "  5005.01,1191.08 5005.01,1466.7 5052.86,1466.7 5052.86,1191.08 5005.01,1191.08 \n",
       "  \"/>\n",
       "<path clip-path=\"url(#clip714)\" d=\"\n",
       "M5052.86 639.834 L5052.86 1466.7 L5100.72 1466.7 L5100.72 639.834 L5052.86 639.834 L5052.86 639.834  Z\n",
       "  \" fill=\"#0000ff\" fill-rule=\"evenodd\" fill-opacity=\"1\"/>\n",
       "<polyline clip-path=\"url(#clip714)\" style=\"stroke:#000000; stroke-linecap:butt; stroke-linejoin:round; stroke-width:4; stroke-opacity:1; fill:none\" points=\"\n",
       "  5052.86,639.834 5052.86,1466.7 5100.72,1466.7 5100.72,639.834 5052.86,639.834 \n",
       "  \"/>\n",
       "<path clip-path=\"url(#clip714)\" d=\"\n",
       "M5100.72 639.834 L5100.72 1466.7 L5148.57 1466.7 L5148.57 639.834 L5100.72 639.834 L5100.72 639.834  Z\n",
       "  \" fill=\"#0000ff\" fill-rule=\"evenodd\" fill-opacity=\"1\"/>\n",
       "<polyline clip-path=\"url(#clip714)\" style=\"stroke:#000000; stroke-linecap:butt; stroke-linejoin:round; stroke-width:4; stroke-opacity:1; fill:none\" points=\"\n",
       "  5100.72,639.834 5100.72,1466.7 5148.57,1466.7 5148.57,639.834 5100.72,639.834 \n",
       "  \"/>\n",
       "<path clip-path=\"url(#clip714)\" d=\"\n",
       "M5148.57 88.5876 L5148.57 1466.7 L5196.43 1466.7 L5196.43 88.5876 L5148.57 88.5876 L5148.57 88.5876  Z\n",
       "  \" fill=\"#0000ff\" fill-rule=\"evenodd\" fill-opacity=\"1\"/>\n",
       "<polyline clip-path=\"url(#clip714)\" style=\"stroke:#000000; stroke-linecap:butt; stroke-linejoin:round; stroke-width:4; stroke-opacity:1; fill:none\" points=\"\n",
       "  5148.57,88.5876 5148.57,1466.7 5196.43,1466.7 5196.43,88.5876 5148.57,88.5876 \n",
       "  \"/>\n",
       "<path clip-path=\"url(#clip714)\" d=\"\n",
       "M5196.43 1466.7 L5196.43 1466.7 L5244.28 1466.7 L5244.28 1466.7 L5196.43 1466.7 L5196.43 1466.7  Z\n",
       "  \" fill=\"#0000ff\" fill-rule=\"evenodd\" fill-opacity=\"1\"/>\n",
       "<polyline clip-path=\"url(#clip714)\" style=\"stroke:#000000; stroke-linecap:butt; stroke-linejoin:round; stroke-width:4; stroke-opacity:1; fill:none\" points=\"\n",
       "  5196.43,1466.7 5196.43,1466.7 5244.28,1466.7 5196.43,1466.7 \n",
       "  \"/>\n",
       "<path clip-path=\"url(#clip714)\" d=\"\n",
       "M5244.28 639.834 L5244.28 1466.7 L5292.14 1466.7 L5292.14 639.834 L5244.28 639.834 L5244.28 639.834  Z\n",
       "  \" fill=\"#0000ff\" fill-rule=\"evenodd\" fill-opacity=\"1\"/>\n",
       "<polyline clip-path=\"url(#clip714)\" style=\"stroke:#000000; stroke-linecap:butt; stroke-linejoin:round; stroke-width:4; stroke-opacity:1; fill:none\" points=\"\n",
       "  5244.28,639.834 5244.28,1466.7 5292.14,1466.7 5292.14,639.834 5244.28,639.834 \n",
       "  \"/>\n",
       "<path clip-path=\"url(#clip714)\" d=\"\n",
       "M5292.14 1466.7 L5292.14 1466.7 L5339.99 1466.7 L5339.99 1466.7 L5292.14 1466.7 L5292.14 1466.7  Z\n",
       "  \" fill=\"#0000ff\" fill-rule=\"evenodd\" fill-opacity=\"1\"/>\n",
       "<polyline clip-path=\"url(#clip714)\" style=\"stroke:#000000; stroke-linecap:butt; stroke-linejoin:round; stroke-width:4; stroke-opacity:1; fill:none\" points=\"\n",
       "  5292.14,1466.7 5292.14,1466.7 5339.99,1466.7 5292.14,1466.7 \n",
       "  \"/>\n",
       "<path clip-path=\"url(#clip714)\" d=\"\n",
       "M5339.99 1191.08 L5339.99 1466.7 L5387.85 1466.7 L5387.85 1191.08 L5339.99 1191.08 L5339.99 1191.08  Z\n",
       "  \" fill=\"#0000ff\" fill-rule=\"evenodd\" fill-opacity=\"1\"/>\n",
       "<polyline clip-path=\"url(#clip714)\" style=\"stroke:#000000; stroke-linecap:butt; stroke-linejoin:round; stroke-width:4; stroke-opacity:1; fill:none\" points=\"\n",
       "  5339.99,1191.08 5339.99,1466.7 5387.85,1466.7 5387.85,1191.08 5339.99,1191.08 \n",
       "  \"/>\n",
       "<path clip-path=\"url(#clip714)\" d=\"\n",
       "M5387.85 1466.7 L5387.85 1466.7 L5435.7 1466.7 L5435.7 1466.7 L5387.85 1466.7 L5387.85 1466.7  Z\n",
       "  \" fill=\"#0000ff\" fill-rule=\"evenodd\" fill-opacity=\"1\"/>\n",
       "<polyline clip-path=\"url(#clip714)\" style=\"stroke:#000000; stroke-linecap:butt; stroke-linejoin:round; stroke-width:4; stroke-opacity:1; fill:none\" points=\"\n",
       "  5387.85,1466.7 5387.85,1466.7 5435.7,1466.7 5387.85,1466.7 \n",
       "  \"/>\n",
       "<path clip-path=\"url(#clip714)\" d=\"\n",
       "M5435.7 1466.7 L5435.7 1466.7 L5483.56 1466.7 L5483.56 1466.7 L5435.7 1466.7 L5435.7 1466.7  Z\n",
       "  \" fill=\"#0000ff\" fill-rule=\"evenodd\" fill-opacity=\"1\"/>\n",
       "<polyline clip-path=\"url(#clip714)\" style=\"stroke:#000000; stroke-linecap:butt; stroke-linejoin:round; stroke-width:4; stroke-opacity:1; fill:none\" points=\"\n",
       "  5435.7,1466.7 5435.7,1466.7 5483.56,1466.7 5435.7,1466.7 \n",
       "  \"/>\n",
       "<path clip-path=\"url(#clip714)\" d=\"\n",
       "M5483.56 1191.08 L5483.56 1466.7 L5531.41 1466.7 L5531.41 1191.08 L5483.56 1191.08 L5483.56 1191.08  Z\n",
       "  \" fill=\"#0000ff\" fill-rule=\"evenodd\" fill-opacity=\"1\"/>\n",
       "<polyline clip-path=\"url(#clip714)\" style=\"stroke:#000000; stroke-linecap:butt; stroke-linejoin:round; stroke-width:4; stroke-opacity:1; fill:none\" points=\"\n",
       "  5483.56,1191.08 5483.56,1466.7 5531.41,1466.7 5531.41,1191.08 5483.56,1191.08 \n",
       "  \"/>\n",
       "<path clip-path=\"url(#clip714)\" d=\"\n",
       "M5531.41 1466.7 L5531.41 1466.7 L5579.27 1466.7 L5579.27 1466.7 L5531.41 1466.7 L5531.41 1466.7  Z\n",
       "  \" fill=\"#0000ff\" fill-rule=\"evenodd\" fill-opacity=\"1\"/>\n",
       "<polyline clip-path=\"url(#clip714)\" style=\"stroke:#000000; stroke-linecap:butt; stroke-linejoin:round; stroke-width:4; stroke-opacity:1; fill:none\" points=\"\n",
       "  5531.41,1466.7 5531.41,1466.7 5579.27,1466.7 5531.41,1466.7 \n",
       "  \"/>\n",
       "<path clip-path=\"url(#clip714)\" d=\"\n",
       "M5579.27 1466.7 L5579.27 1466.7 L5627.12 1466.7 L5627.12 1466.7 L5579.27 1466.7 L5579.27 1466.7  Z\n",
       "  \" fill=\"#0000ff\" fill-rule=\"evenodd\" fill-opacity=\"1\"/>\n",
       "<polyline clip-path=\"url(#clip714)\" style=\"stroke:#000000; stroke-linecap:butt; stroke-linejoin:round; stroke-width:4; stroke-opacity:1; fill:none\" points=\"\n",
       "  5579.27,1466.7 5579.27,1466.7 5627.12,1466.7 5579.27,1466.7 \n",
       "  \"/>\n",
       "<path clip-path=\"url(#clip714)\" d=\"\n",
       "M5627.12 1466.7 L5627.12 1466.7 L5674.98 1466.7 L5674.98 1466.7 L5627.12 1466.7 L5627.12 1466.7  Z\n",
       "  \" fill=\"#0000ff\" fill-rule=\"evenodd\" fill-opacity=\"1\"/>\n",
       "<polyline clip-path=\"url(#clip714)\" style=\"stroke:#000000; stroke-linecap:butt; stroke-linejoin:round; stroke-width:4; stroke-opacity:1; fill:none\" points=\"\n",
       "  5627.12,1466.7 5627.12,1466.7 5674.98,1466.7 5627.12,1466.7 \n",
       "  \"/>\n",
       "<path clip-path=\"url(#clip714)\" d=\"\n",
       "M5674.98 1466.7 L5674.98 1466.7 L5722.84 1466.7 L5722.84 1466.7 L5674.98 1466.7 L5674.98 1466.7  Z\n",
       "  \" fill=\"#0000ff\" fill-rule=\"evenodd\" fill-opacity=\"1\"/>\n",
       "<polyline clip-path=\"url(#clip714)\" style=\"stroke:#000000; stroke-linecap:butt; stroke-linejoin:round; stroke-width:4; stroke-opacity:1; fill:none\" points=\"\n",
       "  5674.98,1466.7 5674.98,1466.7 5722.84,1466.7 5674.98,1466.7 \n",
       "  \"/>\n",
       "<path clip-path=\"url(#clip714)\" d=\"\n",
       "M5722.84 1466.7 L5722.84 1466.7 L5770.69 1466.7 L5770.69 1466.7 L5722.84 1466.7 L5722.84 1466.7  Z\n",
       "  \" fill=\"#0000ff\" fill-rule=\"evenodd\" fill-opacity=\"1\"/>\n",
       "<polyline clip-path=\"url(#clip714)\" style=\"stroke:#000000; stroke-linecap:butt; stroke-linejoin:round; stroke-width:4; stroke-opacity:1; fill:none\" points=\"\n",
       "  5722.84,1466.7 5722.84,1466.7 5770.69,1466.7 5722.84,1466.7 \n",
       "  \"/>\n",
       "<path clip-path=\"url(#clip714)\" d=\"\n",
       "M5770.69 1466.7 L5770.69 1466.7 L5818.55 1466.7 L5818.55 1466.7 L5770.69 1466.7 L5770.69 1466.7  Z\n",
       "  \" fill=\"#0000ff\" fill-rule=\"evenodd\" fill-opacity=\"1\"/>\n",
       "<polyline clip-path=\"url(#clip714)\" style=\"stroke:#000000; stroke-linecap:butt; stroke-linejoin:round; stroke-width:4; stroke-opacity:1; fill:none\" points=\"\n",
       "  5770.69,1466.7 5770.69,1466.7 5818.55,1466.7 5770.69,1466.7 \n",
       "  \"/>\n",
       "<path clip-path=\"url(#clip714)\" d=\"\n",
       "M5818.55 1466.7 L5818.55 1466.7 L5866.4 1466.7 L5866.4 1466.7 L5818.55 1466.7 L5818.55 1466.7  Z\n",
       "  \" fill=\"#0000ff\" fill-rule=\"evenodd\" fill-opacity=\"1\"/>\n",
       "<polyline clip-path=\"url(#clip714)\" style=\"stroke:#000000; stroke-linecap:butt; stroke-linejoin:round; stroke-width:4; stroke-opacity:1; fill:none\" points=\"\n",
       "  5818.55,1466.7 5818.55,1466.7 5866.4,1466.7 5818.55,1466.7 \n",
       "  \"/>\n",
       "<path clip-path=\"url(#clip714)\" d=\"\n",
       "M5866.4 1466.7 L5866.4 1466.7 L5914.26 1466.7 L5914.26 1466.7 L5866.4 1466.7 L5866.4 1466.7  Z\n",
       "  \" fill=\"#0000ff\" fill-rule=\"evenodd\" fill-opacity=\"1\"/>\n",
       "<polyline clip-path=\"url(#clip714)\" style=\"stroke:#000000; stroke-linecap:butt; stroke-linejoin:round; stroke-width:4; stroke-opacity:1; fill:none\" points=\"\n",
       "  5866.4,1466.7 5866.4,1466.7 5914.26,1466.7 5866.4,1466.7 \n",
       "  \"/>\n",
       "<path clip-path=\"url(#clip714)\" d=\"\n",
       "M5914.26 1466.7 L5914.26 1466.7 L5962.11 1466.7 L5962.11 1466.7 L5914.26 1466.7 L5914.26 1466.7  Z\n",
       "  \" fill=\"#0000ff\" fill-rule=\"evenodd\" fill-opacity=\"1\"/>\n",
       "<polyline clip-path=\"url(#clip714)\" style=\"stroke:#000000; stroke-linecap:butt; stroke-linejoin:round; stroke-width:4; stroke-opacity:1; fill:none\" points=\"\n",
       "  5914.26,1466.7 5914.26,1466.7 5962.11,1466.7 5914.26,1466.7 \n",
       "  \"/>\n",
       "<path clip-path=\"url(#clip714)\" d=\"\n",
       "M5962.11 1466.7 L5962.11 1466.7 L6009.97 1466.7 L6009.97 1466.7 L5962.11 1466.7 L5962.11 1466.7  Z\n",
       "  \" fill=\"#0000ff\" fill-rule=\"evenodd\" fill-opacity=\"1\"/>\n",
       "<polyline clip-path=\"url(#clip714)\" style=\"stroke:#000000; stroke-linecap:butt; stroke-linejoin:round; stroke-width:4; stroke-opacity:1; fill:none\" points=\"\n",
       "  5962.11,1466.7 5962.11,1466.7 6009.97,1466.7 5962.11,1466.7 \n",
       "  \"/>\n",
       "<path clip-path=\"url(#clip714)\" d=\"\n",
       "M6009.97 1466.7 L6009.97 1466.7 L6057.82 1466.7 L6057.82 1466.7 L6009.97 1466.7 L6009.97 1466.7  Z\n",
       "  \" fill=\"#0000ff\" fill-rule=\"evenodd\" fill-opacity=\"1\"/>\n",
       "<polyline clip-path=\"url(#clip714)\" style=\"stroke:#000000; stroke-linecap:butt; stroke-linejoin:round; stroke-width:4; stroke-opacity:1; fill:none\" points=\"\n",
       "  6009.97,1466.7 6009.97,1466.7 6057.82,1466.7 6009.97,1466.7 \n",
       "  \"/>\n",
       "<path clip-path=\"url(#clip714)\" d=\"\n",
       "M6057.82 1191.08 L6057.82 1466.7 L6105.68 1466.7 L6105.68 1191.08 L6057.82 1191.08 L6057.82 1191.08  Z\n",
       "  \" fill=\"#0000ff\" fill-rule=\"evenodd\" fill-opacity=\"1\"/>\n",
       "<polyline clip-path=\"url(#clip714)\" style=\"stroke:#000000; stroke-linecap:butt; stroke-linejoin:round; stroke-width:4; stroke-opacity:1; fill:none\" points=\"\n",
       "  6057.82,1191.08 6057.82,1466.7 6105.68,1466.7 6105.68,1191.08 6057.82,1191.08 \n",
       "  \"/>\n",
       "<path clip-path=\"url(#clip714)\" d=\"\n",
       "M6105.68 1191.08 L6105.68 1466.7 L6153.53 1466.7 L6153.53 1191.08 L6105.68 1191.08 L6105.68 1191.08  Z\n",
       "  \" fill=\"#0000ff\" fill-rule=\"evenodd\" fill-opacity=\"1\"/>\n",
       "<polyline clip-path=\"url(#clip714)\" style=\"stroke:#000000; stroke-linecap:butt; stroke-linejoin:round; stroke-width:4; stroke-opacity:1; fill:none\" points=\"\n",
       "  6105.68,1191.08 6105.68,1466.7 6153.53,1466.7 6153.53,1191.08 6105.68,1191.08 \n",
       "  \"/>\n",
       "<path clip-path=\"url(#clip714)\" d=\"\n",
       "M6153.53 1466.7 L6153.53 1466.7 L6201.39 1466.7 L6201.39 1466.7 L6153.53 1466.7 L6153.53 1466.7  Z\n",
       "  \" fill=\"#0000ff\" fill-rule=\"evenodd\" fill-opacity=\"1\"/>\n",
       "<polyline clip-path=\"url(#clip714)\" style=\"stroke:#000000; stroke-linecap:butt; stroke-linejoin:round; stroke-width:4; stroke-opacity:1; fill:none\" points=\"\n",
       "  6153.53,1466.7 6153.53,1466.7 6201.39,1466.7 6153.53,1466.7 \n",
       "  \"/>\n",
       "<path clip-path=\"url(#clip714)\" d=\"\n",
       "M6201.39 1191.08 L6201.39 1466.7 L6249.24 1466.7 L6249.24 1191.08 L6201.39 1191.08 L6201.39 1191.08  Z\n",
       "  \" fill=\"#0000ff\" fill-rule=\"evenodd\" fill-opacity=\"1\"/>\n",
       "<polyline clip-path=\"url(#clip714)\" style=\"stroke:#000000; stroke-linecap:butt; stroke-linejoin:round; stroke-width:4; stroke-opacity:1; fill:none\" points=\"\n",
       "  6201.39,1191.08 6201.39,1466.7 6249.24,1466.7 6249.24,1191.08 6201.39,1191.08 \n",
       "  \"/>\n",
       "<circle clip-path=\"url(#clip714)\" style=\"fill:#e26f46; stroke:none; fill-opacity:0\" cx=\"4598.23\" cy=\"1191.08\" r=\"2\"/>\n",
       "<circle clip-path=\"url(#clip714)\" style=\"fill:#e26f46; stroke:none; fill-opacity:0\" cx=\"4646.09\" cy=\"1466.7\" r=\"2\"/>\n",
       "<circle clip-path=\"url(#clip714)\" style=\"fill:#e26f46; stroke:none; fill-opacity:0\" cx=\"4693.95\" cy=\"1191.08\" r=\"2\"/>\n",
       "<circle clip-path=\"url(#clip714)\" style=\"fill:#e26f46; stroke:none; fill-opacity:0\" cx=\"4741.8\" cy=\"1466.7\" r=\"2\"/>\n",
       "<circle clip-path=\"url(#clip714)\" style=\"fill:#e26f46; stroke:none; fill-opacity:0\" cx=\"4789.66\" cy=\"1466.7\" r=\"2\"/>\n",
       "<circle clip-path=\"url(#clip714)\" style=\"fill:#e26f46; stroke:none; fill-opacity:0\" cx=\"4837.51\" cy=\"1191.08\" r=\"2\"/>\n",
       "<circle clip-path=\"url(#clip714)\" style=\"fill:#e26f46; stroke:none; fill-opacity:0\" cx=\"4885.37\" cy=\"1466.7\" r=\"2\"/>\n",
       "<circle clip-path=\"url(#clip714)\" style=\"fill:#e26f46; stroke:none; fill-opacity:0\" cx=\"4933.22\" cy=\"1191.08\" r=\"2\"/>\n",
       "<circle clip-path=\"url(#clip714)\" style=\"fill:#e26f46; stroke:none; fill-opacity:0\" cx=\"4981.08\" cy=\"1466.7\" r=\"2\"/>\n",
       "<circle clip-path=\"url(#clip714)\" style=\"fill:#e26f46; stroke:none; fill-opacity:0\" cx=\"5028.93\" cy=\"1191.08\" r=\"2\"/>\n",
       "<circle clip-path=\"url(#clip714)\" style=\"fill:#e26f46; stroke:none; fill-opacity:0\" cx=\"5076.79\" cy=\"639.834\" r=\"2\"/>\n",
       "<circle clip-path=\"url(#clip714)\" style=\"fill:#e26f46; stroke:none; fill-opacity:0\" cx=\"5124.64\" cy=\"639.834\" r=\"2\"/>\n",
       "<circle clip-path=\"url(#clip714)\" style=\"fill:#e26f46; stroke:none; fill-opacity:0\" cx=\"5172.5\" cy=\"88.5876\" r=\"2\"/>\n",
       "<circle clip-path=\"url(#clip714)\" style=\"fill:#e26f46; stroke:none; fill-opacity:0\" cx=\"5220.35\" cy=\"1466.7\" r=\"2\"/>\n",
       "<circle clip-path=\"url(#clip714)\" style=\"fill:#e26f46; stroke:none; fill-opacity:0\" cx=\"5268.21\" cy=\"639.834\" r=\"2\"/>\n",
       "<circle clip-path=\"url(#clip714)\" style=\"fill:#e26f46; stroke:none; fill-opacity:0\" cx=\"5316.07\" cy=\"1466.7\" r=\"2\"/>\n",
       "<circle clip-path=\"url(#clip714)\" style=\"fill:#e26f46; stroke:none; fill-opacity:0\" cx=\"5363.92\" cy=\"1191.08\" r=\"2\"/>\n",
       "<circle clip-path=\"url(#clip714)\" style=\"fill:#e26f46; stroke:none; fill-opacity:0\" cx=\"5411.78\" cy=\"1466.7\" r=\"2\"/>\n",
       "<circle clip-path=\"url(#clip714)\" style=\"fill:#e26f46; stroke:none; fill-opacity:0\" cx=\"5459.63\" cy=\"1466.7\" r=\"2\"/>\n",
       "<circle clip-path=\"url(#clip714)\" style=\"fill:#e26f46; stroke:none; fill-opacity:0\" cx=\"5507.49\" cy=\"1191.08\" r=\"2\"/>\n",
       "<circle clip-path=\"url(#clip714)\" style=\"fill:#e26f46; stroke:none; fill-opacity:0\" cx=\"5555.34\" cy=\"1466.7\" r=\"2\"/>\n",
       "<circle clip-path=\"url(#clip714)\" style=\"fill:#e26f46; stroke:none; fill-opacity:0\" cx=\"5603.2\" cy=\"1466.7\" r=\"2\"/>\n",
       "<circle clip-path=\"url(#clip714)\" style=\"fill:#e26f46; stroke:none; fill-opacity:0\" cx=\"5651.05\" cy=\"1466.7\" r=\"2\"/>\n",
       "<circle clip-path=\"url(#clip714)\" style=\"fill:#e26f46; stroke:none; fill-opacity:0\" cx=\"5698.91\" cy=\"1466.7\" r=\"2\"/>\n",
       "<circle clip-path=\"url(#clip714)\" style=\"fill:#e26f46; stroke:none; fill-opacity:0\" cx=\"5746.76\" cy=\"1466.7\" r=\"2\"/>\n",
       "<circle clip-path=\"url(#clip714)\" style=\"fill:#e26f46; stroke:none; fill-opacity:0\" cx=\"5794.62\" cy=\"1466.7\" r=\"2\"/>\n",
       "<circle clip-path=\"url(#clip714)\" style=\"fill:#e26f46; stroke:none; fill-opacity:0\" cx=\"5842.47\" cy=\"1466.7\" r=\"2\"/>\n",
       "<circle clip-path=\"url(#clip714)\" style=\"fill:#e26f46; stroke:none; fill-opacity:0\" cx=\"5890.33\" cy=\"1466.7\" r=\"2\"/>\n",
       "<circle clip-path=\"url(#clip714)\" style=\"fill:#e26f46; stroke:none; fill-opacity:0\" cx=\"5938.18\" cy=\"1466.7\" r=\"2\"/>\n",
       "<circle clip-path=\"url(#clip714)\" style=\"fill:#e26f46; stroke:none; fill-opacity:0\" cx=\"5986.04\" cy=\"1466.7\" r=\"2\"/>\n",
       "<circle clip-path=\"url(#clip714)\" style=\"fill:#e26f46; stroke:none; fill-opacity:0\" cx=\"6033.9\" cy=\"1466.7\" r=\"2\"/>\n",
       "<circle clip-path=\"url(#clip714)\" style=\"fill:#e26f46; stroke:none; fill-opacity:0\" cx=\"6081.75\" cy=\"1191.08\" r=\"2\"/>\n",
       "<circle clip-path=\"url(#clip714)\" style=\"fill:#e26f46; stroke:none; fill-opacity:0\" cx=\"6129.61\" cy=\"1191.08\" r=\"2\"/>\n",
       "<circle clip-path=\"url(#clip714)\" style=\"fill:#e26f46; stroke:none; fill-opacity:0\" cx=\"6177.46\" cy=\"1466.7\" r=\"2\"/>\n",
       "<circle clip-path=\"url(#clip714)\" style=\"fill:#e26f46; stroke:none; fill-opacity:0\" cx=\"6225.32\" cy=\"1191.08\" r=\"2\"/>\n",
       "</svg>\n"
      ]
     },
     "execution_count": 20,
     "metadata": {},
     "output_type": "execute_result"
    }
   ],
   "source": [
    "params = Optim.minimizer(res)\n",
    "cmap = colorsigned(color(\"blue\"), color(\"magenta\"), color(\"red\")) ∘ scalesigned(0, 0.5, 1.0)\n",
    "colors = cmap.(data_y)\n",
    "inferred_model = FlowModel( (AdditiveCouplingLayer(         PlanarFlow(params[1],  params[2],  params[3])),\n",
    "                             ReverseAdditiveCouplingLayer(  PlanarFlow(params[4],  params[5],  params[6])),\n",
    "                             AdditiveCouplingLayer(         PlanarFlow(params[7],  params[8],  params[9])),\n",
    "                             ReverseAdditiveCouplingLayer(  PlanarFlow(params[10], params[11], params[12]))))\n",
    "trans_data_x_1 = hcat(map((x) -> forward(inferred_model, x), [data_x[k,:] for k=1:size(data_x,1)])...)'\n",
    "trans_data_x_2 = map((x) -> dot([1, 1], x), [trans_data_x_1[k,:] for k=1:size(data_x,1)])\n",
    "trans_data_x_2_split = [trans_data_x_2[data_y .== 1.0], trans_data_x_2[data_y .== 0.0]]\n",
    "plt1 = scatter(data_x[:,1], data_x[:,2], color=colors)\n",
    "plt2 = scatter(trans_data_x_1[:,1], trans_data_x_1[:,2], color=colors)\n",
    "hist = histogram(trans_data_x_2_split; stacked=true, bins=60,  fillcolor=[\"red\" \"blue\"], label = [\"Positive\" \"Negative\"], legend=:topleft)\n",
    "plot(plt1, plt2, hist, size=(1600, 400), legend=false, layout=(1, 3))"
   ]
  },
  {
   "cell_type": "code",
   "execution_count": 23,
   "id": "intellectual-equality",
   "metadata": {},
   "outputs": [
    {
     "data": {
      "image/svg+xml": [
       "<?xml version=\"1.0\" encoding=\"utf-8\"?>\n",
       "<svg xmlns=\"http://www.w3.org/2000/svg\" xmlns:xlink=\"http://www.w3.org/1999/xlink\" width=\"1200\" height=\"300\" viewBox=\"0 0 4800 1200\">\n",
       "<defs>\n",
       "  <clipPath id=\"clip750\">\n",
       "    <rect x=\"0\" y=\"0\" width=\"4800\" height=\"1200\"/>\n",
       "  </clipPath>\n",
       "</defs>\n",
       "<path clip-path=\"url(#clip750)\" d=\"\n",
       "M0 1200 L4800 1200 L4800 0 L0 0  Z\n",
       "  \" fill=\"#ffffff\" fill-rule=\"evenodd\" fill-opacity=\"1\"/>\n",
       "<defs>\n",
       "  <clipPath id=\"clip751\">\n",
       "    <rect x=\"960\" y=\"0\" width=\"3361\" height=\"1200\"/>\n",
       "  </clipPath>\n",
       "</defs>\n",
       "<path clip-path=\"url(#clip750)\" d=\"\n",
       "M243.842 1078.48 L1573.84 1078.48 L1573.84 47.2441 L243.842 47.2441  Z\n",
       "  \" fill=\"#ffffff\" fill-rule=\"evenodd\" fill-opacity=\"1\"/>\n",
       "<defs>\n",
       "  <clipPath id=\"clip752\">\n",
       "    <rect x=\"243\" y=\"47\" width=\"1331\" height=\"1032\"/>\n",
       "  </clipPath>\n",
       "</defs>\n",
       "<polyline clip-path=\"url(#clip752)\" style=\"stroke:#000000; stroke-linecap:butt; stroke-linejoin:round; stroke-width:2; stroke-opacity:0.1; fill:none\" points=\"\n",
       "  469.806,1078.48 469.806,47.2441 \n",
       "  \"/>\n",
       "<polyline clip-path=\"url(#clip752)\" style=\"stroke:#000000; stroke-linecap:butt; stroke-linejoin:round; stroke-width:2; stroke-opacity:0.1; fill:none\" points=\"\n",
       "  732.349,1078.48 732.349,47.2441 \n",
       "  \"/>\n",
       "<polyline clip-path=\"url(#clip752)\" style=\"stroke:#000000; stroke-linecap:butt; stroke-linejoin:round; stroke-width:2; stroke-opacity:0.1; fill:none\" points=\"\n",
       "  994.892,1078.48 994.892,47.2441 \n",
       "  \"/>\n",
       "<polyline clip-path=\"url(#clip752)\" style=\"stroke:#000000; stroke-linecap:butt; stroke-linejoin:round; stroke-width:2; stroke-opacity:0.1; fill:none\" points=\"\n",
       "  1257.43,1078.48 1257.43,47.2441 \n",
       "  \"/>\n",
       "<polyline clip-path=\"url(#clip752)\" style=\"stroke:#000000; stroke-linecap:butt; stroke-linejoin:round; stroke-width:2; stroke-opacity:0.1; fill:none\" points=\"\n",
       "  1519.98,1078.48 1519.98,47.2441 \n",
       "  \"/>\n",
       "<polyline clip-path=\"url(#clip750)\" style=\"stroke:#000000; stroke-linecap:butt; stroke-linejoin:round; stroke-width:4; stroke-opacity:1; fill:none\" points=\"\n",
       "  243.842,1078.48 1573.84,1078.48 \n",
       "  \"/>\n",
       "<polyline clip-path=\"url(#clip750)\" style=\"stroke:#000000; stroke-linecap:butt; stroke-linejoin:round; stroke-width:4; stroke-opacity:1; fill:none\" points=\"\n",
       "  469.806,1078.48 469.806,1059.58 \n",
       "  \"/>\n",
       "<polyline clip-path=\"url(#clip750)\" style=\"stroke:#000000; stroke-linecap:butt; stroke-linejoin:round; stroke-width:4; stroke-opacity:1; fill:none\" points=\"\n",
       "  732.349,1078.48 732.349,1059.58 \n",
       "  \"/>\n",
       "<polyline clip-path=\"url(#clip750)\" style=\"stroke:#000000; stroke-linecap:butt; stroke-linejoin:round; stroke-width:4; stroke-opacity:1; fill:none\" points=\"\n",
       "  994.892,1078.48 994.892,1059.58 \n",
       "  \"/>\n",
       "<polyline clip-path=\"url(#clip750)\" style=\"stroke:#000000; stroke-linecap:butt; stroke-linejoin:round; stroke-width:4; stroke-opacity:1; fill:none\" points=\"\n",
       "  1257.43,1078.48 1257.43,1059.58 \n",
       "  \"/>\n",
       "<polyline clip-path=\"url(#clip750)\" style=\"stroke:#000000; stroke-linecap:butt; stroke-linejoin:round; stroke-width:4; stroke-opacity:1; fill:none\" points=\"\n",
       "  1519.98,1078.48 1519.98,1059.58 \n",
       "  \"/>\n",
       "<path clip-path=\"url(#clip750)\" d=\"M447.688 1126.87 Q444.077 1126.87 442.248 1130.44 Q440.443 1133.98 440.443 1141.11 Q440.443 1148.21 442.248 1151.78 Q444.077 1155.32 447.688 1155.32 Q451.322 1155.32 453.128 1151.78 Q454.957 1148.21 454.957 1141.11 Q454.957 1133.98 453.128 1130.44 Q451.322 1126.87 447.688 1126.87 M447.688 1123.17 Q453.498 1123.17 456.554 1127.77 Q459.632 1132.36 459.632 1141.11 Q459.632 1149.83 456.554 1154.44 Q453.498 1159.02 447.688 1159.02 Q441.878 1159.02 438.799 1154.44 Q435.744 1149.83 435.744 1141.11 Q435.744 1132.36 438.799 1127.77 Q441.878 1123.17 447.688 1123.17 Z\" fill=\"#000000\" fill-rule=\"evenodd\" fill-opacity=\"1\" /><path clip-path=\"url(#clip750)\" d=\"M467.85 1152.47 L472.734 1152.47 L472.734 1158.35 L467.85 1158.35 L467.85 1152.47 Z\" fill=\"#000000\" fill-rule=\"evenodd\" fill-opacity=\"1\" /><path clip-path=\"url(#clip750)\" d=\"M482.966 1123.79 L501.322 1123.79 L501.322 1127.73 L487.248 1127.73 L487.248 1136.2 Q488.267 1135.85 489.285 1135.69 Q490.304 1135.5 491.322 1135.5 Q497.109 1135.5 500.489 1138.68 Q503.868 1141.85 503.868 1147.26 Q503.868 1152.84 500.396 1155.94 Q496.924 1159.02 490.604 1159.02 Q488.429 1159.02 486.16 1158.65 Q483.915 1158.28 481.507 1157.54 L481.507 1152.84 Q483.591 1153.98 485.813 1154.53 Q488.035 1155.09 490.512 1155.09 Q494.517 1155.09 496.854 1152.98 Q499.192 1150.88 499.192 1147.26 Q499.192 1143.65 496.854 1141.55 Q494.517 1139.44 490.512 1139.44 Q488.637 1139.44 486.762 1139.86 Q484.91 1140.27 482.966 1141.15 L482.966 1123.79 Z\" fill=\"#000000\" fill-rule=\"evenodd\" fill-opacity=\"1\" /><path clip-path=\"url(#clip750)\" d=\"M699.502 1154.42 L707.141 1154.42 L707.141 1128.05 L698.831 1129.72 L698.831 1125.46 L707.094 1123.79 L711.77 1123.79 L711.77 1154.42 L719.409 1154.42 L719.409 1158.35 L699.502 1158.35 L699.502 1154.42 Z\" fill=\"#000000\" fill-rule=\"evenodd\" fill-opacity=\"1\" /><path clip-path=\"url(#clip750)\" d=\"M728.854 1152.47 L733.738 1152.47 L733.738 1158.35 L728.854 1158.35 L728.854 1152.47 Z\" fill=\"#000000\" fill-rule=\"evenodd\" fill-opacity=\"1\" /><path clip-path=\"url(#clip750)\" d=\"M753.923 1126.87 Q750.312 1126.87 748.483 1130.44 Q746.678 1133.98 746.678 1141.11 Q746.678 1148.21 748.483 1151.78 Q750.312 1155.32 753.923 1155.32 Q757.557 1155.32 759.363 1151.78 Q761.191 1148.21 761.191 1141.11 Q761.191 1133.98 759.363 1130.44 Q757.557 1126.87 753.923 1126.87 M753.923 1123.17 Q759.733 1123.17 762.789 1127.77 Q765.867 1132.36 765.867 1141.11 Q765.867 1149.83 762.789 1154.44 Q759.733 1159.02 753.923 1159.02 Q748.113 1159.02 745.034 1154.44 Q741.979 1149.83 741.979 1141.11 Q741.979 1132.36 745.034 1127.77 Q748.113 1123.17 753.923 1123.17 Z\" fill=\"#000000\" fill-rule=\"evenodd\" fill-opacity=\"1\" /><path clip-path=\"url(#clip750)\" d=\"M962.543 1154.42 L970.181 1154.42 L970.181 1128.05 L961.871 1129.72 L961.871 1125.46 L970.135 1123.79 L974.811 1123.79 L974.811 1154.42 L982.45 1154.42 L982.45 1158.35 L962.543 1158.35 L962.543 1154.42 Z\" fill=\"#000000\" fill-rule=\"evenodd\" fill-opacity=\"1\" /><path clip-path=\"url(#clip750)\" d=\"M991.894 1152.47 L996.778 1152.47 L996.778 1158.35 L991.894 1158.35 L991.894 1152.47 Z\" fill=\"#000000\" fill-rule=\"evenodd\" fill-opacity=\"1\" /><path clip-path=\"url(#clip750)\" d=\"M1007.01 1123.79 L1025.37 1123.79 L1025.37 1127.73 L1011.29 1127.73 L1011.29 1136.2 Q1012.31 1135.85 1013.33 1135.69 Q1014.35 1135.5 1015.37 1135.5 Q1021.15 1135.5 1024.53 1138.68 Q1027.91 1141.85 1027.91 1147.26 Q1027.91 1152.84 1024.44 1155.94 Q1020.97 1159.02 1014.65 1159.02 Q1012.47 1159.02 1010.2 1158.65 Q1007.96 1158.28 1005.55 1157.54 L1005.55 1152.84 Q1007.63 1153.98 1009.86 1154.53 Q1012.08 1155.09 1014.56 1155.09 Q1018.56 1155.09 1020.9 1152.98 Q1023.24 1150.88 1023.24 1147.26 Q1023.24 1143.65 1020.9 1141.55 Q1018.56 1139.44 1014.56 1139.44 Q1012.68 1139.44 1010.81 1139.86 Q1008.95 1140.27 1007.01 1141.15 L1007.01 1123.79 Z\" fill=\"#000000\" fill-rule=\"evenodd\" fill-opacity=\"1\" /><path clip-path=\"url(#clip750)\" d=\"M1228.67 1154.42 L1244.99 1154.42 L1244.99 1158.35 L1223.05 1158.35 L1223.05 1154.42 Q1225.71 1151.66 1230.29 1147.03 Q1234.9 1142.38 1236.08 1141.04 Q1238.33 1138.51 1239.21 1136.78 Q1240.11 1135.02 1240.11 1133.33 Q1240.11 1130.57 1238.16 1128.84 Q1236.24 1127.1 1233.14 1127.1 Q1230.94 1127.1 1228.49 1127.87 Q1226.06 1128.63 1223.28 1130.18 L1223.28 1125.46 Q1226.1 1124.32 1228.56 1123.75 Q1231.01 1123.17 1233.05 1123.17 Q1238.42 1123.17 1241.61 1125.85 Q1244.81 1128.54 1244.81 1133.03 Q1244.81 1135.16 1244 1137.08 Q1243.21 1138.98 1241.1 1141.57 Q1240.53 1142.24 1237.42 1145.46 Q1234.32 1148.65 1228.67 1154.42 Z\" fill=\"#000000\" fill-rule=\"evenodd\" fill-opacity=\"1\" /><path clip-path=\"url(#clip750)\" d=\"M1254.81 1152.47 L1259.69 1152.47 L1259.69 1158.35 L1254.81 1158.35 L1254.81 1152.47 Z\" fill=\"#000000\" fill-rule=\"evenodd\" fill-opacity=\"1\" /><path clip-path=\"url(#clip750)\" d=\"M1279.88 1126.87 Q1276.27 1126.87 1274.44 1130.44 Q1272.63 1133.98 1272.63 1141.11 Q1272.63 1148.21 1274.44 1151.78 Q1276.27 1155.32 1279.88 1155.32 Q1283.51 1155.32 1285.32 1151.78 Q1287.15 1148.21 1287.15 1141.11 Q1287.15 1133.98 1285.32 1130.44 Q1283.51 1126.87 1279.88 1126.87 M1279.88 1123.17 Q1285.69 1123.17 1288.74 1127.77 Q1291.82 1132.36 1291.82 1141.11 Q1291.82 1149.83 1288.74 1154.44 Q1285.69 1159.02 1279.88 1159.02 Q1274.07 1159.02 1270.99 1154.44 Q1267.93 1149.83 1267.93 1141.11 Q1267.93 1132.36 1270.99 1127.77 Q1274.07 1123.17 1279.88 1123.17 Z\" fill=\"#000000\" fill-rule=\"evenodd\" fill-opacity=\"1\" /><path clip-path=\"url(#clip750)\" d=\"M1491.71 1154.42 L1508.03 1154.42 L1508.03 1158.35 L1486.09 1158.35 L1486.09 1154.42 Q1488.75 1151.66 1493.33 1147.03 Q1497.94 1142.38 1499.12 1141.04 Q1501.37 1138.51 1502.25 1136.78 Q1503.15 1135.02 1503.15 1133.33 Q1503.15 1130.57 1501.2 1128.84 Q1499.28 1127.1 1496.18 1127.1 Q1493.98 1127.1 1491.53 1127.87 Q1489.1 1128.63 1486.32 1130.18 L1486.32 1125.46 Q1489.14 1124.32 1491.6 1123.75 Q1494.05 1123.17 1496.09 1123.17 Q1501.46 1123.17 1504.65 1125.85 Q1507.85 1128.54 1507.85 1133.03 Q1507.85 1135.16 1507.04 1137.08 Q1506.25 1138.98 1504.14 1141.57 Q1503.57 1142.24 1500.46 1145.46 Q1497.36 1148.65 1491.71 1154.42 Z\" fill=\"#000000\" fill-rule=\"evenodd\" fill-opacity=\"1\" /><path clip-path=\"url(#clip750)\" d=\"M1517.85 1152.47 L1522.73 1152.47 L1522.73 1158.35 L1517.85 1158.35 L1517.85 1152.47 Z\" fill=\"#000000\" fill-rule=\"evenodd\" fill-opacity=\"1\" /><path clip-path=\"url(#clip750)\" d=\"M1532.96 1123.79 L1551.32 1123.79 L1551.32 1127.73 L1537.25 1127.73 L1537.25 1136.2 Q1538.26 1135.85 1539.28 1135.69 Q1540.3 1135.5 1541.32 1135.5 Q1547.11 1135.5 1550.49 1138.68 Q1553.87 1141.85 1553.87 1147.26 Q1553.87 1152.84 1550.39 1155.94 Q1546.92 1159.02 1540.6 1159.02 Q1538.43 1159.02 1536.16 1158.65 Q1533.91 1158.28 1531.51 1157.54 L1531.51 1152.84 Q1533.59 1153.98 1535.81 1154.53 Q1538.03 1155.09 1540.51 1155.09 Q1544.51 1155.09 1546.85 1152.98 Q1549.19 1150.88 1549.19 1147.26 Q1549.19 1143.65 1546.85 1141.55 Q1544.51 1139.44 1540.51 1139.44 Q1538.64 1139.44 1536.76 1139.86 Q1534.91 1140.27 1532.96 1141.15 L1532.96 1123.79 Z\" fill=\"#000000\" fill-rule=\"evenodd\" fill-opacity=\"1\" /><path clip-path=\"url(#clip750)\" d=\"M838.18 1241.11 Q838.18 1234.74 835.538 1231.24 Q832.929 1227.74 828.186 1227.74 Q823.475 1227.74 820.834 1231.24 Q818.224 1234.74 818.224 1241.11 Q818.224 1247.44 820.834 1250.94 Q823.475 1254.44 828.186 1254.44 Q832.929 1254.44 835.538 1250.94 Q838.18 1247.44 838.18 1241.11 M844.037 1254.92 Q844.037 1264.02 839.994 1268.45 Q835.952 1272.9 827.613 1272.9 Q824.526 1272.9 821.789 1272.43 Q819.051 1271.98 816.473 1271.02 L816.473 1265.33 Q819.051 1266.73 821.566 1267.4 Q824.08 1268.06 826.69 1268.06 Q832.451 1268.06 835.316 1265.04 Q838.18 1262.05 838.18 1255.97 L838.18 1253.07 Q836.366 1256.22 833.533 1257.78 Q830.701 1259.34 826.754 1259.34 Q820.197 1259.34 816.187 1254.35 Q812.176 1249.35 812.176 1241.11 Q812.176 1232.83 816.187 1227.83 Q820.197 1222.84 826.754 1222.84 Q830.701 1222.84 833.533 1224.4 Q836.366 1225.96 838.18 1229.11 L838.18 1223.7 L844.037 1223.7 L844.037 1254.92 Z\" fill=\"#000000\" fill-rule=\"evenodd\" fill-opacity=\"1\" /><path clip-path=\"url(#clip750)\" d=\"M872.3 1241.42 Q865.203 1241.42 862.465 1243.05 Q859.728 1244.67 859.728 1248.59 Q859.728 1251.7 861.765 1253.55 Q863.834 1255.37 867.367 1255.37 Q872.237 1255.37 875.165 1251.93 Q878.125 1248.46 878.125 1242.73 L878.125 1241.42 L872.3 1241.42 M883.982 1239.01 L883.982 1259.34 L878.125 1259.34 L878.125 1253.93 Q876.12 1257.18 873.128 1258.74 Q870.136 1260.27 865.807 1260.27 Q860.333 1260.27 857.086 1257.21 Q853.872 1254.12 853.872 1248.97 Q853.872 1242.95 857.882 1239.9 Q861.924 1236.84 869.913 1236.84 L878.125 1236.84 L878.125 1236.27 Q878.125 1232.23 875.451 1230.03 Q872.81 1227.8 868.004 1227.8 Q864.948 1227.8 862.052 1228.53 Q859.155 1229.27 856.482 1230.73 L856.482 1225.32 Q859.696 1224.08 862.72 1223.47 Q865.744 1222.84 868.608 1222.84 Q876.343 1222.84 880.162 1226.85 Q883.982 1230.86 883.982 1239.01 Z\" fill=\"#000000\" fill-rule=\"evenodd\" fill-opacity=\"1\" /><path clip-path=\"url(#clip750)\" d=\"M896.045 1223.7 L901.901 1223.7 L901.901 1259.34 L896.045 1259.34 L896.045 1223.7 M896.045 1209.82 L901.901 1209.82 L901.901 1217.23 L896.045 1217.23 L896.045 1209.82 Z\" fill=\"#000000\" fill-rule=\"evenodd\" fill-opacity=\"1\" /><path clip-path=\"url(#clip750)\" d=\"M943.787 1237.83 L943.787 1259.34 L937.931 1259.34 L937.931 1238.02 Q937.931 1232.96 935.958 1230.44 Q933.984 1227.93 930.037 1227.93 Q925.295 1227.93 922.558 1230.95 Q919.82 1233.98 919.82 1239.2 L919.82 1259.34 L913.932 1259.34 L913.932 1223.7 L919.82 1223.7 L919.82 1229.23 Q921.921 1226.02 924.754 1224.43 Q927.618 1222.84 931.342 1222.84 Q937.485 1222.84 940.636 1226.66 Q943.787 1230.44 943.787 1237.83 Z\" fill=\"#000000\" fill-rule=\"evenodd\" fill-opacity=\"1\" /><path clip-path=\"url(#clip750)\" d=\"M978.13 1253.93 L988.634 1253.93 L988.634 1217.68 L977.207 1219.97 L977.207 1214.12 L988.57 1211.82 L994.999 1211.82 L994.999 1253.93 L1005.5 1253.93 L1005.5 1259.34 L978.13 1259.34 L978.13 1253.93 Z\" fill=\"#000000\" fill-rule=\"evenodd\" fill-opacity=\"1\" /><polyline clip-path=\"url(#clip752)\" style=\"stroke:#000000; stroke-linecap:butt; stroke-linejoin:round; stroke-width:2; stroke-opacity:0.1; fill:none\" points=\"\n",
       "  243.842,981.031 1573.84,981.031 \n",
       "  \"/>\n",
       "<polyline clip-path=\"url(#clip752)\" style=\"stroke:#000000; stroke-linecap:butt; stroke-linejoin:round; stroke-width:2; stroke-opacity:0.1; fill:none\" points=\"\n",
       "  243.842,761.972 1573.84,761.972 \n",
       "  \"/>\n",
       "<polyline clip-path=\"url(#clip752)\" style=\"stroke:#000000; stroke-linecap:butt; stroke-linejoin:round; stroke-width:2; stroke-opacity:0.1; fill:none\" points=\"\n",
       "  243.842,542.913 1573.84,542.913 \n",
       "  \"/>\n",
       "<polyline clip-path=\"url(#clip752)\" style=\"stroke:#000000; stroke-linecap:butt; stroke-linejoin:round; stroke-width:2; stroke-opacity:0.1; fill:none\" points=\"\n",
       "  243.842,323.854 1573.84,323.854 \n",
       "  \"/>\n",
       "<polyline clip-path=\"url(#clip752)\" style=\"stroke:#000000; stroke-linecap:butt; stroke-linejoin:round; stroke-width:2; stroke-opacity:0.1; fill:none\" points=\"\n",
       "  243.842,104.795 1573.84,104.795 \n",
       "  \"/>\n",
       "<polyline clip-path=\"url(#clip750)\" style=\"stroke:#000000; stroke-linecap:butt; stroke-linejoin:round; stroke-width:4; stroke-opacity:1; fill:none\" points=\"\n",
       "  243.842,1078.48 243.842,47.2441 \n",
       "  \"/>\n",
       "<polyline clip-path=\"url(#clip750)\" style=\"stroke:#000000; stroke-linecap:butt; stroke-linejoin:round; stroke-width:4; stroke-opacity:1; fill:none\" points=\"\n",
       "  243.842,981.031 262.74,981.031 \n",
       "  \"/>\n",
       "<polyline clip-path=\"url(#clip750)\" style=\"stroke:#000000; stroke-linecap:butt; stroke-linejoin:round; stroke-width:4; stroke-opacity:1; fill:none\" points=\"\n",
       "  243.842,761.972 262.74,761.972 \n",
       "  \"/>\n",
       "<polyline clip-path=\"url(#clip750)\" style=\"stroke:#000000; stroke-linecap:butt; stroke-linejoin:round; stroke-width:4; stroke-opacity:1; fill:none\" points=\"\n",
       "  243.842,542.913 262.74,542.913 \n",
       "  \"/>\n",
       "<polyline clip-path=\"url(#clip750)\" style=\"stroke:#000000; stroke-linecap:butt; stroke-linejoin:round; stroke-width:4; stroke-opacity:1; fill:none\" points=\"\n",
       "  243.842,323.854 262.74,323.854 \n",
       "  \"/>\n",
       "<polyline clip-path=\"url(#clip750)\" style=\"stroke:#000000; stroke-linecap:butt; stroke-linejoin:round; stroke-width:4; stroke-opacity:1; fill:none\" points=\"\n",
       "  243.842,104.795 262.74,104.795 \n",
       "  \"/>\n",
       "<path clip-path=\"url(#clip750)\" d=\"M84.5045 966.83 Q80.8934 966.83 79.0648 970.395 Q77.2592 973.936 77.2592 981.066 Q77.2592 988.172 79.0648 991.737 Q80.8934 995.279 84.5045 995.279 Q88.1388 995.279 89.9443 991.737 Q91.773 988.172 91.773 981.066 Q91.773 973.936 89.9443 970.395 Q88.1388 966.83 84.5045 966.83 M84.5045 963.126 Q90.3147 963.126 93.3702 967.733 Q96.4489 972.316 96.4489 981.066 Q96.4489 989.793 93.3702 994.399 Q90.3147 998.982 84.5045 998.982 Q78.6944 998.982 75.6157 994.399 Q72.5602 989.793 72.5602 981.066 Q72.5602 972.316 75.6157 967.733 Q78.6944 963.126 84.5045 963.126 Z\" fill=\"#000000\" fill-rule=\"evenodd\" fill-opacity=\"1\" /><path clip-path=\"url(#clip750)\" d=\"M104.666 992.432 L109.551 992.432 L109.551 998.311 L104.666 998.311 L104.666 992.432 Z\" fill=\"#000000\" fill-rule=\"evenodd\" fill-opacity=\"1\" /><path clip-path=\"url(#clip750)\" d=\"M129.736 966.83 Q126.125 966.83 124.296 970.395 Q122.49 973.936 122.49 981.066 Q122.49 988.172 124.296 991.737 Q126.125 995.279 129.736 995.279 Q133.37 995.279 135.176 991.737 Q137.004 988.172 137.004 981.066 Q137.004 973.936 135.176 970.395 Q133.37 966.83 129.736 966.83 M129.736 963.126 Q135.546 963.126 138.601 967.733 Q141.68 972.316 141.68 981.066 Q141.68 989.793 138.601 994.399 Q135.546 998.982 129.736 998.982 Q123.926 998.982 120.847 994.399 Q117.791 989.793 117.791 981.066 Q117.791 972.316 120.847 967.733 Q123.926 963.126 129.736 963.126 Z\" fill=\"#000000\" fill-rule=\"evenodd\" fill-opacity=\"1\" /><path clip-path=\"url(#clip750)\" d=\"M159.898 966.83 Q156.287 966.83 154.458 970.395 Q152.652 973.936 152.652 981.066 Q152.652 988.172 154.458 991.737 Q156.287 995.279 159.898 995.279 Q163.532 995.279 165.337 991.737 Q167.166 988.172 167.166 981.066 Q167.166 973.936 165.337 970.395 Q163.532 966.83 159.898 966.83 M159.898 963.126 Q165.708 963.126 168.763 967.733 Q171.842 972.316 171.842 981.066 Q171.842 989.793 168.763 994.399 Q165.708 998.982 159.898 998.982 Q154.087 998.982 151.009 994.399 Q147.953 989.793 147.953 981.066 Q147.953 972.316 151.009 967.733 Q154.087 963.126 159.898 963.126 Z\" fill=\"#000000\" fill-rule=\"evenodd\" fill-opacity=\"1\" /><path clip-path=\"url(#clip750)\" d=\"M85.4999 747.771 Q81.8888 747.771 80.0601 751.336 Q78.2546 754.877 78.2546 762.007 Q78.2546 769.113 80.0601 772.678 Q81.8888 776.22 85.4999 776.22 Q89.1341 776.22 90.9397 772.678 Q92.7684 769.113 92.7684 762.007 Q92.7684 754.877 90.9397 751.336 Q89.1341 747.771 85.4999 747.771 M85.4999 744.067 Q91.3101 744.067 94.3656 748.674 Q97.4443 753.257 97.4443 762.007 Q97.4443 770.734 94.3656 775.34 Q91.3101 779.923 85.4999 779.923 Q79.6897 779.923 76.6111 775.34 Q73.5555 770.734 73.5555 762.007 Q73.5555 753.257 76.6111 748.674 Q79.6897 744.067 85.4999 744.067 Z\" fill=\"#000000\" fill-rule=\"evenodd\" fill-opacity=\"1\" /><path clip-path=\"url(#clip750)\" d=\"M105.662 773.372 L110.546 773.372 L110.546 779.252 L105.662 779.252 L105.662 773.372 Z\" fill=\"#000000\" fill-rule=\"evenodd\" fill-opacity=\"1\" /><path clip-path=\"url(#clip750)\" d=\"M124.759 775.317 L141.078 775.317 L141.078 779.252 L119.134 779.252 L119.134 775.317 Q121.796 772.562 126.379 767.933 Q130.986 763.28 132.166 761.937 Q134.412 759.414 135.291 757.678 Q136.194 755.919 136.194 754.229 Q136.194 751.474 134.25 749.738 Q132.328 748.002 129.227 748.002 Q127.027 748.002 124.574 748.766 Q122.143 749.53 119.365 751.081 L119.365 746.359 Q122.19 745.224 124.643 744.646 Q127.097 744.067 129.134 744.067 Q134.504 744.067 137.699 746.752 Q140.893 749.437 140.893 753.928 Q140.893 756.058 140.083 757.979 Q139.296 759.877 137.189 762.47 Q136.611 763.141 133.509 766.359 Q130.407 769.553 124.759 775.317 Z\" fill=\"#000000\" fill-rule=\"evenodd\" fill-opacity=\"1\" /><path clip-path=\"url(#clip750)\" d=\"M150.939 744.692 L169.296 744.692 L169.296 748.627 L155.222 748.627 L155.222 757.099 Q156.24 756.752 157.259 756.59 Q158.277 756.405 159.296 756.405 Q165.083 756.405 168.462 759.576 Q171.842 762.748 171.842 768.164 Q171.842 773.743 168.37 776.845 Q164.898 779.923 158.578 779.923 Q156.402 779.923 154.134 779.553 Q151.888 779.183 149.481 778.442 L149.481 773.743 Q151.564 774.877 153.787 775.433 Q156.009 775.988 158.486 775.988 Q162.49 775.988 164.828 773.882 Q167.166 771.775 167.166 768.164 Q167.166 764.553 164.828 762.447 Q162.49 760.34 158.486 760.34 Q156.611 760.34 154.736 760.757 Q152.884 761.173 150.939 762.053 L150.939 744.692 Z\" fill=\"#000000\" fill-rule=\"evenodd\" fill-opacity=\"1\" /><path clip-path=\"url(#clip750)\" d=\"M84.5045 528.712 Q80.8934 528.712 79.0648 532.276 Q77.2592 535.818 77.2592 542.948 Q77.2592 550.054 79.0648 553.619 Q80.8934 557.161 84.5045 557.161 Q88.1388 557.161 89.9443 553.619 Q91.773 550.054 91.773 542.948 Q91.773 535.818 89.9443 532.276 Q88.1388 528.712 84.5045 528.712 M84.5045 525.008 Q90.3147 525.008 93.3702 529.614 Q96.4489 534.198 96.4489 542.948 Q96.4489 551.674 93.3702 556.281 Q90.3147 560.864 84.5045 560.864 Q78.6944 560.864 75.6157 556.281 Q72.5602 551.674 72.5602 542.948 Q72.5602 534.198 75.6157 529.614 Q78.6944 525.008 84.5045 525.008 Z\" fill=\"#000000\" fill-rule=\"evenodd\" fill-opacity=\"1\" /><path clip-path=\"url(#clip750)\" d=\"M104.666 554.313 L109.551 554.313 L109.551 560.193 L104.666 560.193 L104.666 554.313 Z\" fill=\"#000000\" fill-rule=\"evenodd\" fill-opacity=\"1\" /><path clip-path=\"url(#clip750)\" d=\"M119.782 525.633 L138.139 525.633 L138.139 529.568 L124.065 529.568 L124.065 538.04 Q125.083 537.693 126.102 537.531 Q127.12 537.346 128.139 537.346 Q133.926 537.346 137.305 540.517 Q140.685 543.688 140.685 549.105 Q140.685 554.684 137.213 557.786 Q133.74 560.864 127.421 560.864 Q125.245 560.864 122.977 560.494 Q120.731 560.124 118.324 559.383 L118.324 554.684 Q120.407 555.818 122.629 556.374 Q124.852 556.929 127.328 556.929 Q131.333 556.929 133.671 554.823 Q136.009 552.716 136.009 549.105 Q136.009 545.494 133.671 543.387 Q131.333 541.281 127.328 541.281 Q125.453 541.281 123.578 541.698 Q121.727 542.114 119.782 542.994 L119.782 525.633 Z\" fill=\"#000000\" fill-rule=\"evenodd\" fill-opacity=\"1\" /><path clip-path=\"url(#clip750)\" d=\"M159.898 528.712 Q156.287 528.712 154.458 532.276 Q152.652 535.818 152.652 542.948 Q152.652 550.054 154.458 553.619 Q156.287 557.161 159.898 557.161 Q163.532 557.161 165.337 553.619 Q167.166 550.054 167.166 542.948 Q167.166 535.818 165.337 532.276 Q163.532 528.712 159.898 528.712 M159.898 525.008 Q165.708 525.008 168.763 529.614 Q171.842 534.198 171.842 542.948 Q171.842 551.674 168.763 556.281 Q165.708 560.864 159.898 560.864 Q154.087 560.864 151.009 556.281 Q147.953 551.674 147.953 542.948 Q147.953 534.198 151.009 529.614 Q154.087 525.008 159.898 525.008 Z\" fill=\"#000000\" fill-rule=\"evenodd\" fill-opacity=\"1\" /><path clip-path=\"url(#clip750)\" d=\"M85.4999 309.653 Q81.8888 309.653 80.0601 313.217 Q78.2546 316.759 78.2546 323.889 Q78.2546 330.995 80.0601 334.56 Q81.8888 338.101 85.4999 338.101 Q89.1341 338.101 90.9397 334.56 Q92.7684 330.995 92.7684 323.889 Q92.7684 316.759 90.9397 313.217 Q89.1341 309.653 85.4999 309.653 M85.4999 305.949 Q91.3101 305.949 94.3656 310.555 Q97.4443 315.139 97.4443 323.889 Q97.4443 332.615 94.3656 337.222 Q91.3101 341.805 85.4999 341.805 Q79.6897 341.805 76.6111 337.222 Q73.5555 332.615 73.5555 323.889 Q73.5555 315.139 76.6111 310.555 Q79.6897 305.949 85.4999 305.949 Z\" fill=\"#000000\" fill-rule=\"evenodd\" fill-opacity=\"1\" /><path clip-path=\"url(#clip750)\" d=\"M105.662 335.254 L110.546 335.254 L110.546 341.134 L105.662 341.134 L105.662 335.254 Z\" fill=\"#000000\" fill-rule=\"evenodd\" fill-opacity=\"1\" /><path clip-path=\"url(#clip750)\" d=\"M119.551 306.574 L141.773 306.574 L141.773 308.565 L129.227 341.134 L124.342 341.134 L136.148 310.509 L119.551 310.509 L119.551 306.574 Z\" fill=\"#000000\" fill-rule=\"evenodd\" fill-opacity=\"1\" /><path clip-path=\"url(#clip750)\" d=\"M150.939 306.574 L169.296 306.574 L169.296 310.509 L155.222 310.509 L155.222 318.981 Q156.24 318.634 157.259 318.472 Q158.277 318.287 159.296 318.287 Q165.083 318.287 168.462 321.458 Q171.842 324.629 171.842 330.046 Q171.842 335.625 168.37 338.726 Q164.898 341.805 158.578 341.805 Q156.402 341.805 154.134 341.435 Q151.888 341.064 149.481 340.324 L149.481 335.625 Q151.564 336.759 153.787 337.314 Q156.009 337.87 158.486 337.87 Q162.49 337.87 164.828 335.764 Q167.166 333.657 167.166 330.046 Q167.166 326.435 164.828 324.328 Q162.49 322.222 158.486 322.222 Q156.611 322.222 154.736 322.639 Q152.884 323.055 150.939 323.935 L150.939 306.574 Z\" fill=\"#000000\" fill-rule=\"evenodd\" fill-opacity=\"1\" /><path clip-path=\"url(#clip750)\" d=\"M75.3148 118.14 L82.9536 118.14 L82.9536 91.774 L74.6435 93.4406 L74.6435 89.1814 L82.9073 87.5148 L87.5832 87.5148 L87.5832 118.14 L95.2221 118.14 L95.2221 122.075 L75.3148 122.075 L75.3148 118.14 Z\" fill=\"#000000\" fill-rule=\"evenodd\" fill-opacity=\"1\" /><path clip-path=\"url(#clip750)\" d=\"M104.666 116.195 L109.551 116.195 L109.551 122.075 L104.666 122.075 L104.666 116.195 Z\" fill=\"#000000\" fill-rule=\"evenodd\" fill-opacity=\"1\" /><path clip-path=\"url(#clip750)\" d=\"M129.736 90.5934 Q126.125 90.5934 124.296 94.1582 Q122.49 97.6999 122.49 104.829 Q122.49 111.936 124.296 115.501 Q126.125 119.042 129.736 119.042 Q133.37 119.042 135.176 115.501 Q137.004 111.936 137.004 104.829 Q137.004 97.6999 135.176 94.1582 Q133.37 90.5934 129.736 90.5934 M129.736 86.8898 Q135.546 86.8898 138.601 91.4962 Q141.68 96.0795 141.68 104.829 Q141.68 113.556 138.601 118.163 Q135.546 122.746 129.736 122.746 Q123.926 122.746 120.847 118.163 Q117.791 113.556 117.791 104.829 Q117.791 96.0795 120.847 91.4962 Q123.926 86.8898 129.736 86.8898 Z\" fill=\"#000000\" fill-rule=\"evenodd\" fill-opacity=\"1\" /><path clip-path=\"url(#clip750)\" d=\"M159.898 90.5934 Q156.287 90.5934 154.458 94.1582 Q152.652 97.6999 152.652 104.829 Q152.652 111.936 154.458 115.501 Q156.287 119.042 159.898 119.042 Q163.532 119.042 165.337 115.501 Q167.166 111.936 167.166 104.829 Q167.166 97.6999 165.337 94.1582 Q163.532 90.5934 159.898 90.5934 M159.898 86.8898 Q165.708 86.8898 168.763 91.4962 Q171.842 96.0795 171.842 104.829 Q171.842 113.556 168.763 118.163 Q165.708 122.746 159.898 122.746 Q154.087 122.746 151.009 118.163 Q147.953 113.556 147.953 104.829 Q147.953 96.0795 151.009 91.4962 Q154.087 86.8898 159.898 86.8898 Z\" fill=\"#000000\" fill-rule=\"evenodd\" fill-opacity=\"1\" /><path clip-path=\"url(#clip750)\" d=\"M-31.9336 633.267 Q-38.2993 633.267 -41.8004 635.908 Q-45.3016 638.518 -45.3016 643.261 Q-45.3016 647.971 -41.8004 650.613 Q-38.2993 653.223 -31.9336 653.223 Q-25.5997 653.223 -22.0986 650.613 Q-18.5974 647.971 -18.5974 643.261 Q-18.5974 638.518 -22.0986 635.908 Q-25.5997 633.267 -31.9336 633.267 M-18.12 627.41 Q-9.01705 627.41 -4.59288 631.452 Q-0.136887 635.495 -0.136887 643.834 Q-0.136887 646.921 -0.614315 649.658 Q-1.05991 652.396 -2.01477 654.974 L-7.71208 654.974 Q-6.31162 652.396 -5.64322 649.881 Q-4.97482 647.367 -4.97482 644.757 Q-4.97482 638.996 -7.99854 636.131 Q-10.9904 633.267 -17.0697 633.267 L-19.9661 633.267 Q-16.815 635.081 -15.2554 637.914 Q-13.6958 640.746 -13.6958 644.693 Q-13.6958 651.25 -18.6929 655.26 Q-23.69 659.271 -31.9336 659.271 Q-40.209 659.271 -45.2061 655.26 Q-50.2032 651.25 -50.2032 644.693 Q-50.2032 640.746 -48.6436 637.914 Q-47.084 635.081 -43.9329 633.267 L-49.3438 633.267 L-49.3438 627.41 L-18.12 627.41 Z\" fill=\"#000000\" fill-rule=\"evenodd\" fill-opacity=\"1\" /><path clip-path=\"url(#clip750)\" d=\"M-31.6153 599.146 Q-31.6153 606.244 -29.9921 608.982 Q-28.3688 611.719 -24.4539 611.719 Q-21.3347 611.719 -19.4886 609.682 Q-17.6744 607.613 -17.6744 604.08 Q-17.6744 599.21 -21.1119 596.282 Q-24.5812 593.322 -30.3103 593.322 L-31.6153 593.322 L-31.6153 599.146 M-34.0343 587.465 L-13.6958 587.465 L-13.6958 593.322 L-19.1067 593.322 Q-15.8602 595.327 -14.3006 598.319 Q-12.7728 601.311 -12.7728 605.64 Q-12.7728 611.114 -15.8284 614.361 Q-18.9157 617.575 -24.0719 617.575 Q-30.0875 617.575 -33.1431 613.565 Q-36.1986 609.523 -36.1986 601.534 L-36.1986 593.322 L-36.7715 593.322 Q-40.8138 593.322 -43.0099 595.995 Q-45.2379 598.637 -45.2379 603.443 Q-45.2379 606.499 -44.5059 609.395 Q-43.7738 612.292 -42.3097 614.965 L-47.7205 614.965 Q-48.9619 611.751 -49.5666 608.727 Q-50.2032 605.703 -50.2032 602.839 Q-50.2032 595.104 -46.1928 591.285 Q-42.1824 587.465 -34.0343 587.465 Z\" fill=\"#000000\" fill-rule=\"evenodd\" fill-opacity=\"1\" /><path clip-path=\"url(#clip750)\" d=\"M-49.3438 575.402 L-49.3438 569.546 L-13.6958 569.546 L-13.6958 575.402 L-49.3438 575.402 M-63.221 575.402 L-63.221 569.546 L-55.805 569.546 L-55.805 575.402 L-63.221 575.402 Z\" fill=\"#000000\" fill-rule=\"evenodd\" fill-opacity=\"1\" /><path clip-path=\"url(#clip750)\" d=\"M-35.2119 527.66 L-13.6958 527.66 L-13.6958 533.516 L-35.021 533.516 Q-40.0817 533.516 -42.5962 535.489 Q-45.1106 537.463 -45.1106 541.41 Q-45.1106 546.152 -42.0869 548.889 Q-39.0632 551.626 -33.8433 551.626 L-13.6958 551.626 L-13.6958 557.515 L-49.3438 557.515 L-49.3438 551.626 L-43.8056 551.626 Q-47.0203 549.526 -48.6117 546.693 Q-50.2032 543.829 -50.2032 540.105 Q-50.2032 533.962 -46.3837 530.811 Q-42.5962 527.66 -35.2119 527.66 Z\" fill=\"#000000\" fill-rule=\"evenodd\" fill-opacity=\"1\" /><path clip-path=\"url(#clip750)\" d=\"M-19.1067 488.892 L-19.1067 466.453 L-13.6958 466.453 L-13.6958 496.627 L-19.1067 496.627 Q-22.8943 492.967 -29.26 486.664 Q-35.6575 480.331 -37.5036 478.707 Q-40.9729 475.62 -43.36 474.41 Q-45.779 473.169 -48.1025 473.169 Q-51.8901 473.169 -54.2772 475.843 Q-56.6644 478.485 -56.6644 482.75 Q-56.6644 485.773 -55.614 489.147 Q-54.5637 492.489 -52.4312 496.309 L-58.9242 496.309 Q-60.4838 492.425 -61.2795 489.052 Q-62.0752 485.678 -62.0752 482.877 Q-62.0752 475.493 -58.3831 471.1 Q-54.691 466.708 -48.5163 466.708 Q-45.588 466.708 -42.9463 467.822 Q-40.3363 468.904 -36.7715 471.801 Q-35.8485 472.596 -31.4243 476.861 Q-27.032 481.126 -19.1067 488.892 Z\" fill=\"#000000\" fill-rule=\"evenodd\" fill-opacity=\"1\" /><circle clip-path=\"url(#clip752)\" cx=\"318.441\" cy=\"357.336\" r=\"14\" fill=\"#ff0000\" fill-rule=\"evenodd\" fill-opacity=\"1\" stroke=\"#000000\" stroke-opacity=\"1\" stroke-width=\"2.4\"/>\n",
       "<circle clip-path=\"url(#clip752)\" cx=\"297.099\" cy=\"403.91\" r=\"14\" fill=\"#0000ff\" fill-rule=\"evenodd\" fill-opacity=\"1\" stroke=\"#000000\" stroke-opacity=\"1\" stroke-width=\"2.4\"/>\n",
       "<circle clip-path=\"url(#clip752)\" cx=\"281.483\" cy=\"404.572\" r=\"14\" fill=\"#0000ff\" fill-rule=\"evenodd\" fill-opacity=\"1\" stroke=\"#000000\" stroke-opacity=\"1\" stroke-width=\"2.4\"/>\n",
       "<circle clip-path=\"url(#clip752)\" cx=\"307.972\" cy=\"370.007\" r=\"14\" fill=\"#ff0000\" fill-rule=\"evenodd\" fill-opacity=\"1\" stroke=\"#000000\" stroke-opacity=\"1\" stroke-width=\"2.4\"/>\n",
       "<circle clip-path=\"url(#clip752)\" cx=\"304.172\" cy=\"401.14\" r=\"14\" fill=\"#0000ff\" fill-rule=\"evenodd\" fill-opacity=\"1\" stroke=\"#000000\" stroke-opacity=\"1\" stroke-width=\"2.4\"/>\n",
       "<circle clip-path=\"url(#clip752)\" cx=\"452.812\" cy=\"532.072\" r=\"14\" fill=\"#ff0000\" fill-rule=\"evenodd\" fill-opacity=\"1\" stroke=\"#000000\" stroke-opacity=\"1\" stroke-width=\"2.4\"/>\n",
       "<circle clip-path=\"url(#clip752)\" cx=\"468.388\" cy=\"535.496\" r=\"14\" fill=\"#0000ff\" fill-rule=\"evenodd\" fill-opacity=\"1\" stroke=\"#000000\" stroke-opacity=\"1\" stroke-width=\"2.4\"/>\n",
       "<circle clip-path=\"url(#clip752)\" cx=\"464.273\" cy=\"571.948\" r=\"14\" fill=\"#0000ff\" fill-rule=\"evenodd\" fill-opacity=\"1\" stroke=\"#000000\" stroke-opacity=\"1\" stroke-width=\"2.4\"/>\n",
       "<circle clip-path=\"url(#clip752)\" cx=\"581.363\" cy=\"803.024\" r=\"14\" fill=\"#0000ff\" fill-rule=\"evenodd\" fill-opacity=\"1\" stroke=\"#000000\" stroke-opacity=\"1\" stroke-width=\"2.4\"/>\n",
       "<circle clip-path=\"url(#clip752)\" cx=\"562.881\" cy=\"799.547\" r=\"14\" fill=\"#ff0000\" fill-rule=\"evenodd\" fill-opacity=\"1\" stroke=\"#000000\" stroke-opacity=\"1\" stroke-width=\"2.4\"/>\n",
       "<circle clip-path=\"url(#clip752)\" cx=\"589.015\" cy=\"835.605\" r=\"14\" fill=\"#ff0000\" fill-rule=\"evenodd\" fill-opacity=\"1\" stroke=\"#000000\" stroke-opacity=\"1\" stroke-width=\"2.4\"/>\n",
       "<circle clip-path=\"url(#clip752)\" cx=\"565.202\" cy=\"784.176\" r=\"14\" fill=\"#ff0000\" fill-rule=\"evenodd\" fill-opacity=\"1\" stroke=\"#000000\" stroke-opacity=\"1\" stroke-width=\"2.4\"/>\n",
       "<circle clip-path=\"url(#clip752)\" cx=\"563.126\" cy=\"830.381\" r=\"14\" fill=\"#0000ff\" fill-rule=\"evenodd\" fill-opacity=\"1\" stroke=\"#000000\" stroke-opacity=\"1\" stroke-width=\"2.4\"/>\n",
       "<circle clip-path=\"url(#clip752)\" cx=\"575.682\" cy=\"796.301\" r=\"14\" fill=\"#0000ff\" fill-rule=\"evenodd\" fill-opacity=\"1\" stroke=\"#000000\" stroke-opacity=\"1\" stroke-width=\"2.4\"/>\n",
       "<circle clip-path=\"url(#clip752)\" cx=\"554.37\" cy=\"820.9\" r=\"14\" fill=\"#0000ff\" fill-rule=\"evenodd\" fill-opacity=\"1\" stroke=\"#000000\" stroke-opacity=\"1\" stroke-width=\"2.4\"/>\n",
       "<circle clip-path=\"url(#clip752)\" cx=\"584.373\" cy=\"821.851\" r=\"14\" fill=\"#ff0000\" fill-rule=\"evenodd\" fill-opacity=\"1\" stroke=\"#000000\" stroke-opacity=\"1\" stroke-width=\"2.4\"/>\n",
       "<circle clip-path=\"url(#clip752)\" cx=\"699.294\" cy=\"851.086\" r=\"14\" fill=\"#ff0000\" fill-rule=\"evenodd\" fill-opacity=\"1\" stroke=\"#000000\" stroke-opacity=\"1\" stroke-width=\"2.4\"/>\n",
       "<circle clip-path=\"url(#clip752)\" cx=\"666.67\" cy=\"878.8\" r=\"14\" fill=\"#0000ff\" fill-rule=\"evenodd\" fill-opacity=\"1\" stroke=\"#000000\" stroke-opacity=\"1\" stroke-width=\"2.4\"/>\n",
       "<circle clip-path=\"url(#clip752)\" cx=\"659.073\" cy=\"865.066\" r=\"14\" fill=\"#ff0000\" fill-rule=\"evenodd\" fill-opacity=\"1\" stroke=\"#000000\" stroke-opacity=\"1\" stroke-width=\"2.4\"/>\n",
       "<circle clip-path=\"url(#clip752)\" cx=\"683.725\" cy=\"702.955\" r=\"14\" fill=\"#0000ff\" fill-rule=\"evenodd\" fill-opacity=\"1\" stroke=\"#000000\" stroke-opacity=\"1\" stroke-width=\"2.4\"/>\n",
       "<circle clip-path=\"url(#clip752)\" cx=\"698.812\" cy=\"725.055\" r=\"14\" fill=\"#0000ff\" fill-rule=\"evenodd\" fill-opacity=\"1\" stroke=\"#000000\" stroke-opacity=\"1\" stroke-width=\"2.4\"/>\n",
       "<circle clip-path=\"url(#clip752)\" cx=\"739.08\" cy=\"971.538\" r=\"14\" fill=\"#0000ff\" fill-rule=\"evenodd\" fill-opacity=\"1\" stroke=\"#000000\" stroke-opacity=\"1\" stroke-width=\"2.4\"/>\n",
       "<circle clip-path=\"url(#clip752)\" cx=\"716.501\" cy=\"973.412\" r=\"14\" fill=\"#ff0000\" fill-rule=\"evenodd\" fill-opacity=\"1\" stroke=\"#000000\" stroke-opacity=\"1\" stroke-width=\"2.4\"/>\n",
       "<circle clip-path=\"url(#clip752)\" cx=\"725.13\" cy=\"964.264\" r=\"14\" fill=\"#ff0000\" fill-rule=\"evenodd\" fill-opacity=\"1\" stroke=\"#000000\" stroke-opacity=\"1\" stroke-width=\"2.4\"/>\n",
       "<circle clip-path=\"url(#clip752)\" cx=\"753.037\" cy=\"977.258\" r=\"14\" fill=\"#ff0000\" fill-rule=\"evenodd\" fill-opacity=\"1\" stroke=\"#000000\" stroke-opacity=\"1\" stroke-width=\"2.4\"/>\n",
       "<circle clip-path=\"url(#clip752)\" cx=\"753.717\" cy=\"965.602\" r=\"14\" fill=\"#0000ff\" fill-rule=\"evenodd\" fill-opacity=\"1\" stroke=\"#000000\" stroke-opacity=\"1\" stroke-width=\"2.4\"/>\n",
       "<circle clip-path=\"url(#clip752)\" cx=\"728.779\" cy=\"960.217\" r=\"14\" fill=\"#0000ff\" fill-rule=\"evenodd\" fill-opacity=\"1\" stroke=\"#000000\" stroke-opacity=\"1\" stroke-width=\"2.4\"/>\n",
       "<circle clip-path=\"url(#clip752)\" cx=\"738.023\" cy=\"959.797\" r=\"14\" fill=\"#ff0000\" fill-rule=\"evenodd\" fill-opacity=\"1\" stroke=\"#000000\" stroke-opacity=\"1\" stroke-width=\"2.4\"/>\n",
       "<circle clip-path=\"url(#clip752)\" cx=\"1278.21\" cy=\"977.006\" r=\"14\" fill=\"#ff0000\" fill-rule=\"evenodd\" fill-opacity=\"1\" stroke=\"#000000\" stroke-opacity=\"1\" stroke-width=\"2.4\"/>\n",
       "<circle clip-path=\"url(#clip752)\" cx=\"1234.7\" cy=\"1017.09\" r=\"14\" fill=\"#ff0000\" fill-rule=\"evenodd\" fill-opacity=\"1\" stroke=\"#000000\" stroke-opacity=\"1\" stroke-width=\"2.4\"/>\n",
       "<circle clip-path=\"url(#clip752)\" cx=\"1247.83\" cy=\"989.031\" r=\"14\" fill=\"#ff0000\" fill-rule=\"evenodd\" fill-opacity=\"1\" stroke=\"#000000\" stroke-opacity=\"1\" stroke-width=\"2.4\"/>\n",
       "<circle clip-path=\"url(#clip752)\" cx=\"1214.21\" cy=\"976.951\" r=\"14\" fill=\"#0000ff\" fill-rule=\"evenodd\" fill-opacity=\"1\" stroke=\"#000000\" stroke-opacity=\"1\" stroke-width=\"2.4\"/>\n",
       "<circle clip-path=\"url(#clip752)\" cx=\"1250.81\" cy=\"948.262\" r=\"14\" fill=\"#0000ff\" fill-rule=\"evenodd\" fill-opacity=\"1\" stroke=\"#000000\" stroke-opacity=\"1\" stroke-width=\"2.4\"/>\n",
       "<circle clip-path=\"url(#clip752)\" cx=\"1261.13\" cy=\"955.911\" r=\"14\" fill=\"#0000ff\" fill-rule=\"evenodd\" fill-opacity=\"1\" stroke=\"#000000\" stroke-opacity=\"1\" stroke-width=\"2.4\"/>\n",
       "<circle clip-path=\"url(#clip752)\" cx=\"1287.09\" cy=\"985.838\" r=\"14\" fill=\"#0000ff\" fill-rule=\"evenodd\" fill-opacity=\"1\" stroke=\"#000000\" stroke-opacity=\"1\" stroke-width=\"2.4\"/>\n",
       "<circle clip-path=\"url(#clip752)\" cx=\"1269.78\" cy=\"125.773\" r=\"14\" fill=\"#ff0000\" fill-rule=\"evenodd\" fill-opacity=\"1\" stroke=\"#000000\" stroke-opacity=\"1\" stroke-width=\"2.4\"/>\n",
       "<circle clip-path=\"url(#clip752)\" cx=\"1295.06\" cy=\"125.655\" r=\"14\" fill=\"#0000ff\" fill-rule=\"evenodd\" fill-opacity=\"1\" stroke=\"#000000\" stroke-opacity=\"1\" stroke-width=\"2.4\"/>\n",
       "<circle clip-path=\"url(#clip752)\" cx=\"1523.34\" cy=\"83.7955\" r=\"14\" fill=\"#0000ff\" fill-rule=\"evenodd\" fill-opacity=\"1\" stroke=\"#000000\" stroke-opacity=\"1\" stroke-width=\"2.4\"/>\n",
       "<circle clip-path=\"url(#clip752)\" cx=\"1532.77\" cy=\"115.37\" r=\"14\" fill=\"#0000ff\" fill-rule=\"evenodd\" fill-opacity=\"1\" stroke=\"#000000\" stroke-opacity=\"1\" stroke-width=\"2.4\"/>\n",
       "<circle clip-path=\"url(#clip752)\" cx=\"1536.2\" cy=\"117.08\" r=\"14\" fill=\"#0000ff\" fill-rule=\"evenodd\" fill-opacity=\"1\" stroke=\"#000000\" stroke-opacity=\"1\" stroke-width=\"2.4\"/>\n",
       "<circle clip-path=\"url(#clip752)\" cx=\"313.438\" cy=\"397.596\" r=\"14\" fill=\"#ff0000\" fill-rule=\"evenodd\" fill-opacity=\"1\" stroke=\"#000000\" stroke-opacity=\"1\" stroke-width=\"2.4\"/>\n",
       "<circle clip-path=\"url(#clip752)\" cx=\"309.385\" cy=\"391.587\" r=\"14\" fill=\"#0000ff\" fill-rule=\"evenodd\" fill-opacity=\"1\" stroke=\"#000000\" stroke-opacity=\"1\" stroke-width=\"2.4\"/>\n",
       "<circle clip-path=\"url(#clip752)\" cx=\"330.426\" cy=\"381.79\" r=\"14\" fill=\"#0000ff\" fill-rule=\"evenodd\" fill-opacity=\"1\" stroke=\"#000000\" stroke-opacity=\"1\" stroke-width=\"2.4\"/>\n",
       "<circle clip-path=\"url(#clip752)\" cx=\"357.011\" cy=\"401.952\" r=\"14\" fill=\"#ff0000\" fill-rule=\"evenodd\" fill-opacity=\"1\" stroke=\"#000000\" stroke-opacity=\"1\" stroke-width=\"2.4\"/>\n",
       "<circle clip-path=\"url(#clip752)\" cx=\"301.888\" cy=\"340.033\" r=\"14\" fill=\"#0000ff\" fill-rule=\"evenodd\" fill-opacity=\"1\" stroke=\"#000000\" stroke-opacity=\"1\" stroke-width=\"2.4\"/>\n",
       "<circle clip-path=\"url(#clip752)\" cx=\"479.099\" cy=\"483.548\" r=\"14\" fill=\"#ff0000\" fill-rule=\"evenodd\" fill-opacity=\"1\" stroke=\"#000000\" stroke-opacity=\"1\" stroke-width=\"2.4\"/>\n",
       "<circle clip-path=\"url(#clip752)\" cx=\"481.945\" cy=\"557.997\" r=\"14\" fill=\"#0000ff\" fill-rule=\"evenodd\" fill-opacity=\"1\" stroke=\"#000000\" stroke-opacity=\"1\" stroke-width=\"2.4\"/>\n",
       "<circle clip-path=\"url(#clip752)\" cx=\"454.143\" cy=\"599.174\" r=\"14\" fill=\"#0000ff\" fill-rule=\"evenodd\" fill-opacity=\"1\" stroke=\"#000000\" stroke-opacity=\"1\" stroke-width=\"2.4\"/>\n",
       "<circle clip-path=\"url(#clip752)\" cx=\"570.008\" cy=\"807.611\" r=\"14\" fill=\"#0000ff\" fill-rule=\"evenodd\" fill-opacity=\"1\" stroke=\"#000000\" stroke-opacity=\"1\" stroke-width=\"2.4\"/>\n",
       "<circle clip-path=\"url(#clip752)\" cx=\"591.416\" cy=\"773.82\" r=\"14\" fill=\"#ff0000\" fill-rule=\"evenodd\" fill-opacity=\"1\" stroke=\"#000000\" stroke-opacity=\"1\" stroke-width=\"2.4\"/>\n",
       "<circle clip-path=\"url(#clip752)\" cx=\"608.808\" cy=\"785.27\" r=\"14\" fill=\"#ff0000\" fill-rule=\"evenodd\" fill-opacity=\"1\" stroke=\"#000000\" stroke-opacity=\"1\" stroke-width=\"2.4\"/>\n",
       "<circle clip-path=\"url(#clip752)\" cx=\"559.65\" cy=\"793.564\" r=\"14\" fill=\"#ff0000\" fill-rule=\"evenodd\" fill-opacity=\"1\" stroke=\"#000000\" stroke-opacity=\"1\" stroke-width=\"2.4\"/>\n",
       "<circle clip-path=\"url(#clip752)\" cx=\"592.223\" cy=\"796.724\" r=\"14\" fill=\"#0000ff\" fill-rule=\"evenodd\" fill-opacity=\"1\" stroke=\"#000000\" stroke-opacity=\"1\" stroke-width=\"2.4\"/>\n",
       "<circle clip-path=\"url(#clip752)\" cx=\"571.199\" cy=\"797.742\" r=\"14\" fill=\"#0000ff\" fill-rule=\"evenodd\" fill-opacity=\"1\" stroke=\"#000000\" stroke-opacity=\"1\" stroke-width=\"2.4\"/>\n",
       "<circle clip-path=\"url(#clip752)\" cx=\"565.93\" cy=\"789.147\" r=\"14\" fill=\"#0000ff\" fill-rule=\"evenodd\" fill-opacity=\"1\" stroke=\"#000000\" stroke-opacity=\"1\" stroke-width=\"2.4\"/>\n",
       "<circle clip-path=\"url(#clip752)\" cx=\"561.093\" cy=\"791.536\" r=\"14\" fill=\"#ff0000\" fill-rule=\"evenodd\" fill-opacity=\"1\" stroke=\"#000000\" stroke-opacity=\"1\" stroke-width=\"2.4\"/>\n",
       "<circle clip-path=\"url(#clip752)\" cx=\"701.215\" cy=\"855.606\" r=\"14\" fill=\"#ff0000\" fill-rule=\"evenodd\" fill-opacity=\"1\" stroke=\"#000000\" stroke-opacity=\"1\" stroke-width=\"2.4\"/>\n",
       "<circle clip-path=\"url(#clip752)\" cx=\"725.256\" cy=\"888.342\" r=\"14\" fill=\"#0000ff\" fill-rule=\"evenodd\" fill-opacity=\"1\" stroke=\"#000000\" stroke-opacity=\"1\" stroke-width=\"2.4\"/>\n",
       "<circle clip-path=\"url(#clip752)\" cx=\"683.294\" cy=\"920.809\" r=\"14\" fill=\"#ff0000\" fill-rule=\"evenodd\" fill-opacity=\"1\" stroke=\"#000000\" stroke-opacity=\"1\" stroke-width=\"2.4\"/>\n",
       "<circle clip-path=\"url(#clip752)\" cx=\"684.968\" cy=\"670.72\" r=\"14\" fill=\"#0000ff\" fill-rule=\"evenodd\" fill-opacity=\"1\" stroke=\"#000000\" stroke-opacity=\"1\" stroke-width=\"2.4\"/>\n",
       "<circle clip-path=\"url(#clip752)\" cx=\"666.546\" cy=\"688.462\" r=\"14\" fill=\"#0000ff\" fill-rule=\"evenodd\" fill-opacity=\"1\" stroke=\"#000000\" stroke-opacity=\"1\" stroke-width=\"2.4\"/>\n",
       "<circle clip-path=\"url(#clip752)\" cx=\"760.239\" cy=\"939.73\" r=\"14\" fill=\"#0000ff\" fill-rule=\"evenodd\" fill-opacity=\"1\" stroke=\"#000000\" stroke-opacity=\"1\" stroke-width=\"2.4\"/>\n",
       "<circle clip-path=\"url(#clip752)\" cx=\"734.704\" cy=\"953.529\" r=\"14\" fill=\"#ff0000\" fill-rule=\"evenodd\" fill-opacity=\"1\" stroke=\"#000000\" stroke-opacity=\"1\" stroke-width=\"2.4\"/>\n",
       "<circle clip-path=\"url(#clip752)\" cx=\"730.133\" cy=\"1008.62\" r=\"14\" fill=\"#ff0000\" fill-rule=\"evenodd\" fill-opacity=\"1\" stroke=\"#000000\" stroke-opacity=\"1\" stroke-width=\"2.4\"/>\n",
       "<circle clip-path=\"url(#clip752)\" cx=\"746.012\" cy=\"1012.97\" r=\"14\" fill=\"#ff0000\" fill-rule=\"evenodd\" fill-opacity=\"1\" stroke=\"#000000\" stroke-opacity=\"1\" stroke-width=\"2.4\"/>\n",
       "<circle clip-path=\"url(#clip752)\" cx=\"717.166\" cy=\"1003.12\" r=\"14\" fill=\"#0000ff\" fill-rule=\"evenodd\" fill-opacity=\"1\" stroke=\"#000000\" stroke-opacity=\"1\" stroke-width=\"2.4\"/>\n",
       "<circle clip-path=\"url(#clip752)\" cx=\"718.771\" cy=\"960.815\" r=\"14\" fill=\"#0000ff\" fill-rule=\"evenodd\" fill-opacity=\"1\" stroke=\"#000000\" stroke-opacity=\"1\" stroke-width=\"2.4\"/>\n",
       "<circle clip-path=\"url(#clip752)\" cx=\"758.102\" cy=\"1028.09\" r=\"14\" fill=\"#ff0000\" fill-rule=\"evenodd\" fill-opacity=\"1\" stroke=\"#000000\" stroke-opacity=\"1\" stroke-width=\"2.4\"/>\n",
       "<circle clip-path=\"url(#clip752)\" cx=\"1251.04\" cy=\"956.333\" r=\"14\" fill=\"#ff0000\" fill-rule=\"evenodd\" fill-opacity=\"1\" stroke=\"#000000\" stroke-opacity=\"1\" stroke-width=\"2.4\"/>\n",
       "<circle clip-path=\"url(#clip752)\" cx=\"1252.28\" cy=\"983.145\" r=\"14\" fill=\"#ff0000\" fill-rule=\"evenodd\" fill-opacity=\"1\" stroke=\"#000000\" stroke-opacity=\"1\" stroke-width=\"2.4\"/>\n",
       "<circle clip-path=\"url(#clip752)\" cx=\"1263.78\" cy=\"999.562\" r=\"14\" fill=\"#ff0000\" fill-rule=\"evenodd\" fill-opacity=\"1\" stroke=\"#000000\" stroke-opacity=\"1\" stroke-width=\"2.4\"/>\n",
       "<circle clip-path=\"url(#clip752)\" cx=\"1282.32\" cy=\"1007.25\" r=\"14\" fill=\"#0000ff\" fill-rule=\"evenodd\" fill-opacity=\"1\" stroke=\"#000000\" stroke-opacity=\"1\" stroke-width=\"2.4\"/>\n",
       "<circle clip-path=\"url(#clip752)\" cx=\"1242.42\" cy=\"950.32\" r=\"14\" fill=\"#0000ff\" fill-rule=\"evenodd\" fill-opacity=\"1\" stroke=\"#000000\" stroke-opacity=\"1\" stroke-width=\"2.4\"/>\n",
       "<circle clip-path=\"url(#clip752)\" cx=\"1254.06\" cy=\"980.369\" r=\"14\" fill=\"#0000ff\" fill-rule=\"evenodd\" fill-opacity=\"1\" stroke=\"#000000\" stroke-opacity=\"1\" stroke-width=\"2.4\"/>\n",
       "<circle clip-path=\"url(#clip752)\" cx=\"1254.19\" cy=\"1011.45\" r=\"14\" fill=\"#0000ff\" fill-rule=\"evenodd\" fill-opacity=\"1\" stroke=\"#000000\" stroke-opacity=\"1\" stroke-width=\"2.4\"/>\n",
       "<circle clip-path=\"url(#clip752)\" cx=\"1248.13\" cy=\"151.535\" r=\"14\" fill=\"#ff0000\" fill-rule=\"evenodd\" fill-opacity=\"1\" stroke=\"#000000\" stroke-opacity=\"1\" stroke-width=\"2.4\"/>\n",
       "<circle clip-path=\"url(#clip752)\" cx=\"1294.55\" cy=\"82.5285\" r=\"14\" fill=\"#0000ff\" fill-rule=\"evenodd\" fill-opacity=\"1\" stroke=\"#000000\" stroke-opacity=\"1\" stroke-width=\"2.4\"/>\n",
       "<circle clip-path=\"url(#clip752)\" cx=\"1515.91\" cy=\"95.0055\" r=\"14\" fill=\"#0000ff\" fill-rule=\"evenodd\" fill-opacity=\"1\" stroke=\"#000000\" stroke-opacity=\"1\" stroke-width=\"2.4\"/>\n",
       "<circle clip-path=\"url(#clip752)\" cx=\"1511.7\" cy=\"99.5998\" r=\"14\" fill=\"#0000ff\" fill-rule=\"evenodd\" fill-opacity=\"1\" stroke=\"#000000\" stroke-opacity=\"1\" stroke-width=\"2.4\"/>\n",
       "<circle clip-path=\"url(#clip752)\" cx=\"1516.83\" cy=\"99.0876\" r=\"14\" fill=\"#0000ff\" fill-rule=\"evenodd\" fill-opacity=\"1\" stroke=\"#000000\" stroke-opacity=\"1\" stroke-width=\"2.4\"/>\n",
       "<circle clip-path=\"url(#clip752)\" cx=\"290.788\" cy=\"354.576\" r=\"14\" fill=\"#ff0000\" fill-rule=\"evenodd\" fill-opacity=\"1\" stroke=\"#000000\" stroke-opacity=\"1\" stroke-width=\"2.4\"/>\n",
       "<circle clip-path=\"url(#clip752)\" cx=\"292.758\" cy=\"316.107\" r=\"14\" fill=\"#0000ff\" fill-rule=\"evenodd\" fill-opacity=\"1\" stroke=\"#000000\" stroke-opacity=\"1\" stroke-width=\"2.4\"/>\n",
       "<circle clip-path=\"url(#clip752)\" cx=\"313.85\" cy=\"356.17\" r=\"14\" fill=\"#0000ff\" fill-rule=\"evenodd\" fill-opacity=\"1\" stroke=\"#000000\" stroke-opacity=\"1\" stroke-width=\"2.4\"/>\n",
       "<circle clip-path=\"url(#clip752)\" cx=\"317.412\" cy=\"350.798\" r=\"14\" fill=\"#ff0000\" fill-rule=\"evenodd\" fill-opacity=\"1\" stroke=\"#000000\" stroke-opacity=\"1\" stroke-width=\"2.4\"/>\n",
       "<circle clip-path=\"url(#clip752)\" cx=\"318.861\" cy=\"364.914\" r=\"14\" fill=\"#0000ff\" fill-rule=\"evenodd\" fill-opacity=\"1\" stroke=\"#000000\" stroke-opacity=\"1\" stroke-width=\"2.4\"/>\n",
       "<circle clip-path=\"url(#clip752)\" cx=\"445.547\" cy=\"579.754\" r=\"14\" fill=\"#ff0000\" fill-rule=\"evenodd\" fill-opacity=\"1\" stroke=\"#000000\" stroke-opacity=\"1\" stroke-width=\"2.4\"/>\n",
       "<circle clip-path=\"url(#clip752)\" cx=\"458.473\" cy=\"592.742\" r=\"14\" fill=\"#0000ff\" fill-rule=\"evenodd\" fill-opacity=\"1\" stroke=\"#000000\" stroke-opacity=\"1\" stroke-width=\"2.4\"/>\n",
       "<circle clip-path=\"url(#clip752)\" cx=\"449.527\" cy=\"527.884\" r=\"14\" fill=\"#0000ff\" fill-rule=\"evenodd\" fill-opacity=\"1\" stroke=\"#000000\" stroke-opacity=\"1\" stroke-width=\"2.4\"/>\n",
       "<circle clip-path=\"url(#clip752)\" cx=\"583.413\" cy=\"809.283\" r=\"14\" fill=\"#0000ff\" fill-rule=\"evenodd\" fill-opacity=\"1\" stroke=\"#000000\" stroke-opacity=\"1\" stroke-width=\"2.4\"/>\n",
       "<circle clip-path=\"url(#clip752)\" cx=\"582.583\" cy=\"775.004\" r=\"14\" fill=\"#ff0000\" fill-rule=\"evenodd\" fill-opacity=\"1\" stroke=\"#000000\" stroke-opacity=\"1\" stroke-width=\"2.4\"/>\n",
       "<circle clip-path=\"url(#clip752)\" cx=\"559.48\" cy=\"831.53\" r=\"14\" fill=\"#ff0000\" fill-rule=\"evenodd\" fill-opacity=\"1\" stroke=\"#000000\" stroke-opacity=\"1\" stroke-width=\"2.4\"/>\n",
       "<circle clip-path=\"url(#clip752)\" cx=\"582.048\" cy=\"804.05\" r=\"14\" fill=\"#ff0000\" fill-rule=\"evenodd\" fill-opacity=\"1\" stroke=\"#000000\" stroke-opacity=\"1\" stroke-width=\"2.4\"/>\n",
       "<circle clip-path=\"url(#clip752)\" cx=\"542.039\" cy=\"804.658\" r=\"14\" fill=\"#0000ff\" fill-rule=\"evenodd\" fill-opacity=\"1\" stroke=\"#000000\" stroke-opacity=\"1\" stroke-width=\"2.4\"/>\n",
       "<circle clip-path=\"url(#clip752)\" cx=\"586.515\" cy=\"786.047\" r=\"14\" fill=\"#0000ff\" fill-rule=\"evenodd\" fill-opacity=\"1\" stroke=\"#000000\" stroke-opacity=\"1\" stroke-width=\"2.4\"/>\n",
       "<circle clip-path=\"url(#clip752)\" cx=\"583.294\" cy=\"828.135\" r=\"14\" fill=\"#0000ff\" fill-rule=\"evenodd\" fill-opacity=\"1\" stroke=\"#000000\" stroke-opacity=\"1\" stroke-width=\"2.4\"/>\n",
       "<circle clip-path=\"url(#clip752)\" cx=\"564.276\" cy=\"800.191\" r=\"14\" fill=\"#ff0000\" fill-rule=\"evenodd\" fill-opacity=\"1\" stroke=\"#000000\" stroke-opacity=\"1\" stroke-width=\"2.4\"/>\n",
       "<circle clip-path=\"url(#clip752)\" cx=\"686.634\" cy=\"878.231\" r=\"14\" fill=\"#ff0000\" fill-rule=\"evenodd\" fill-opacity=\"1\" stroke=\"#000000\" stroke-opacity=\"1\" stroke-width=\"2.4\"/>\n",
       "<circle clip-path=\"url(#clip752)\" cx=\"664.414\" cy=\"848.963\" r=\"14\" fill=\"#0000ff\" fill-rule=\"evenodd\" fill-opacity=\"1\" stroke=\"#000000\" stroke-opacity=\"1\" stroke-width=\"2.4\"/>\n",
       "<circle clip-path=\"url(#clip752)\" cx=\"695.804\" cy=\"952.554\" r=\"14\" fill=\"#ff0000\" fill-rule=\"evenodd\" fill-opacity=\"1\" stroke=\"#000000\" stroke-opacity=\"1\" stroke-width=\"2.4\"/>\n",
       "<circle clip-path=\"url(#clip752)\" cx=\"685.9\" cy=\"714.528\" r=\"14\" fill=\"#0000ff\" fill-rule=\"evenodd\" fill-opacity=\"1\" stroke=\"#000000\" stroke-opacity=\"1\" stroke-width=\"2.4\"/>\n",
       "<circle clip-path=\"url(#clip752)\" cx=\"682.173\" cy=\"791.951\" r=\"14\" fill=\"#0000ff\" fill-rule=\"evenodd\" fill-opacity=\"1\" stroke=\"#000000\" stroke-opacity=\"1\" stroke-width=\"2.4\"/>\n",
       "<circle clip-path=\"url(#clip752)\" cx=\"743.503\" cy=\"977.215\" r=\"14\" fill=\"#0000ff\" fill-rule=\"evenodd\" fill-opacity=\"1\" stroke=\"#000000\" stroke-opacity=\"1\" stroke-width=\"2.4\"/>\n",
       "<circle clip-path=\"url(#clip752)\" cx=\"716.364\" cy=\"985.812\" r=\"14\" fill=\"#ff0000\" fill-rule=\"evenodd\" fill-opacity=\"1\" stroke=\"#000000\" stroke-opacity=\"1\" stroke-width=\"2.4\"/>\n",
       "<circle clip-path=\"url(#clip752)\" cx=\"713.275\" cy=\"1049.29\" r=\"14\" fill=\"#ff0000\" fill-rule=\"evenodd\" fill-opacity=\"1\" stroke=\"#000000\" stroke-opacity=\"1\" stroke-width=\"2.4\"/>\n",
       "<circle clip-path=\"url(#clip752)\" cx=\"732.498\" cy=\"1007.72\" r=\"14\" fill=\"#ff0000\" fill-rule=\"evenodd\" fill-opacity=\"1\" stroke=\"#000000\" stroke-opacity=\"1\" stroke-width=\"2.4\"/>\n",
       "<circle clip-path=\"url(#clip752)\" cx=\"698.443\" cy=\"995.59\" r=\"14\" fill=\"#0000ff\" fill-rule=\"evenodd\" fill-opacity=\"1\" stroke=\"#000000\" stroke-opacity=\"1\" stroke-width=\"2.4\"/>\n",
       "<circle clip-path=\"url(#clip752)\" cx=\"728.376\" cy=\"999.355\" r=\"14\" fill=\"#0000ff\" fill-rule=\"evenodd\" fill-opacity=\"1\" stroke=\"#000000\" stroke-opacity=\"1\" stroke-width=\"2.4\"/>\n",
       "<circle clip-path=\"url(#clip752)\" cx=\"718.787\" cy=\"985.228\" r=\"14\" fill=\"#ff0000\" fill-rule=\"evenodd\" fill-opacity=\"1\" stroke=\"#000000\" stroke-opacity=\"1\" stroke-width=\"2.4\"/>\n",
       "<circle clip-path=\"url(#clip752)\" cx=\"1271.97\" cy=\"1007.64\" r=\"14\" fill=\"#ff0000\" fill-rule=\"evenodd\" fill-opacity=\"1\" stroke=\"#000000\" stroke-opacity=\"1\" stroke-width=\"2.4\"/>\n",
       "<circle clip-path=\"url(#clip752)\" cx=\"1251.56\" cy=\"1037.77\" r=\"14\" fill=\"#ff0000\" fill-rule=\"evenodd\" fill-opacity=\"1\" stroke=\"#000000\" stroke-opacity=\"1\" stroke-width=\"2.4\"/>\n",
       "<circle clip-path=\"url(#clip752)\" cx=\"1266.94\" cy=\"964.306\" r=\"14\" fill=\"#ff0000\" fill-rule=\"evenodd\" fill-opacity=\"1\" stroke=\"#000000\" stroke-opacity=\"1\" stroke-width=\"2.4\"/>\n",
       "<circle clip-path=\"url(#clip752)\" cx=\"1263.34\" cy=\"965.431\" r=\"14\" fill=\"#0000ff\" fill-rule=\"evenodd\" fill-opacity=\"1\" stroke=\"#000000\" stroke-opacity=\"1\" stroke-width=\"2.4\"/>\n",
       "<circle clip-path=\"url(#clip752)\" cx=\"1239.93\" cy=\"998.244\" r=\"14\" fill=\"#0000ff\" fill-rule=\"evenodd\" fill-opacity=\"1\" stroke=\"#000000\" stroke-opacity=\"1\" stroke-width=\"2.4\"/>\n",
       "<circle clip-path=\"url(#clip752)\" cx=\"1266.65\" cy=\"996.07\" r=\"14\" fill=\"#0000ff\" fill-rule=\"evenodd\" fill-opacity=\"1\" stroke=\"#000000\" stroke-opacity=\"1\" stroke-width=\"2.4\"/>\n",
       "<circle clip-path=\"url(#clip752)\" cx=\"1229.39\" cy=\"978.273\" r=\"14\" fill=\"#0000ff\" fill-rule=\"evenodd\" fill-opacity=\"1\" stroke=\"#000000\" stroke-opacity=\"1\" stroke-width=\"2.4\"/>\n",
       "<circle clip-path=\"url(#clip752)\" cx=\"1233.07\" cy=\"120.38\" r=\"14\" fill=\"#ff0000\" fill-rule=\"evenodd\" fill-opacity=\"1\" stroke=\"#000000\" stroke-opacity=\"1\" stroke-width=\"2.4\"/>\n",
       "<circle clip-path=\"url(#clip752)\" cx=\"1242.82\" cy=\"125.743\" r=\"14\" fill=\"#0000ff\" fill-rule=\"evenodd\" fill-opacity=\"1\" stroke=\"#000000\" stroke-opacity=\"1\" stroke-width=\"2.4\"/>\n",
       "<circle clip-path=\"url(#clip752)\" cx=\"1526.41\" cy=\"76.43\" r=\"14\" fill=\"#0000ff\" fill-rule=\"evenodd\" fill-opacity=\"1\" stroke=\"#000000\" stroke-opacity=\"1\" stroke-width=\"2.4\"/>\n",
       "<circle clip-path=\"url(#clip752)\" cx=\"1520.32\" cy=\"147.922\" r=\"14\" fill=\"#0000ff\" fill-rule=\"evenodd\" fill-opacity=\"1\" stroke=\"#000000\" stroke-opacity=\"1\" stroke-width=\"2.4\"/>\n",
       "<circle clip-path=\"url(#clip752)\" cx=\"1520.65\" cy=\"176.359\" r=\"14\" fill=\"#0000ff\" fill-rule=\"evenodd\" fill-opacity=\"1\" stroke=\"#000000\" stroke-opacity=\"1\" stroke-width=\"2.4\"/>\n",
       "<path clip-path=\"url(#clip750)\" d=\"\n",
       "M1864.92 1078.48 L3194.92 1078.48 L3194.92 47.2441 L1864.92 47.2441  Z\n",
       "  \" fill=\"#ffffff\" fill-rule=\"evenodd\" fill-opacity=\"1\"/>\n",
       "<defs>\n",
       "  <clipPath id=\"clip753\">\n",
       "    <rect x=\"1864\" y=\"47\" width=\"1331\" height=\"1032\"/>\n",
       "  </clipPath>\n",
       "</defs>\n",
       "<polyline clip-path=\"url(#clip753)\" style=\"stroke:#000000; stroke-linecap:butt; stroke-linejoin:round; stroke-width:2; stroke-opacity:0.1; fill:none\" points=\"\n",
       "  2090.89,1078.48 2090.89,47.2441 \n",
       "  \"/>\n",
       "<polyline clip-path=\"url(#clip753)\" style=\"stroke:#000000; stroke-linecap:butt; stroke-linejoin:round; stroke-width:2; stroke-opacity:0.1; fill:none\" points=\"\n",
       "  2353.43,1078.48 2353.43,47.2441 \n",
       "  \"/>\n",
       "<polyline clip-path=\"url(#clip753)\" style=\"stroke:#000000; stroke-linecap:butt; stroke-linejoin:round; stroke-width:2; stroke-opacity:0.1; fill:none\" points=\"\n",
       "  2615.97,1078.48 2615.97,47.2441 \n",
       "  \"/>\n",
       "<polyline clip-path=\"url(#clip753)\" style=\"stroke:#000000; stroke-linecap:butt; stroke-linejoin:round; stroke-width:2; stroke-opacity:0.1; fill:none\" points=\"\n",
       "  2878.52,1078.48 2878.52,47.2441 \n",
       "  \"/>\n",
       "<polyline clip-path=\"url(#clip753)\" style=\"stroke:#000000; stroke-linecap:butt; stroke-linejoin:round; stroke-width:2; stroke-opacity:0.1; fill:none\" points=\"\n",
       "  3141.06,1078.48 3141.06,47.2441 \n",
       "  \"/>\n",
       "<polyline clip-path=\"url(#clip750)\" style=\"stroke:#000000; stroke-linecap:butt; stroke-linejoin:round; stroke-width:4; stroke-opacity:1; fill:none\" points=\"\n",
       "  1864.92,1078.48 3194.92,1078.48 \n",
       "  \"/>\n",
       "<polyline clip-path=\"url(#clip750)\" style=\"stroke:#000000; stroke-linecap:butt; stroke-linejoin:round; stroke-width:4; stroke-opacity:1; fill:none\" points=\"\n",
       "  2090.89,1078.48 2090.89,1059.58 \n",
       "  \"/>\n",
       "<polyline clip-path=\"url(#clip750)\" style=\"stroke:#000000; stroke-linecap:butt; stroke-linejoin:round; stroke-width:4; stroke-opacity:1; fill:none\" points=\"\n",
       "  2353.43,1078.48 2353.43,1059.58 \n",
       "  \"/>\n",
       "<polyline clip-path=\"url(#clip750)\" style=\"stroke:#000000; stroke-linecap:butt; stroke-linejoin:round; stroke-width:4; stroke-opacity:1; fill:none\" points=\"\n",
       "  2615.97,1078.48 2615.97,1059.58 \n",
       "  \"/>\n",
       "<polyline clip-path=\"url(#clip750)\" style=\"stroke:#000000; stroke-linecap:butt; stroke-linejoin:round; stroke-width:4; stroke-opacity:1; fill:none\" points=\"\n",
       "  2878.52,1078.48 2878.52,1059.58 \n",
       "  \"/>\n",
       "<polyline clip-path=\"url(#clip750)\" style=\"stroke:#000000; stroke-linecap:butt; stroke-linejoin:round; stroke-width:4; stroke-opacity:1; fill:none\" points=\"\n",
       "  3141.06,1078.48 3141.06,1059.58 \n",
       "  \"/>\n",
       "<path clip-path=\"url(#clip750)\" d=\"M2068.77 1126.87 Q2065.16 1126.87 2063.33 1130.44 Q2061.52 1133.98 2061.52 1141.11 Q2061.52 1148.21 2063.33 1151.78 Q2065.16 1155.32 2068.77 1155.32 Q2072.4 1155.32 2074.21 1151.78 Q2076.04 1148.21 2076.04 1141.11 Q2076.04 1133.98 2074.21 1130.44 Q2072.4 1126.87 2068.77 1126.87 M2068.77 1123.17 Q2074.58 1123.17 2077.64 1127.77 Q2080.71 1132.36 2080.71 1141.11 Q2080.71 1149.83 2077.64 1154.44 Q2074.58 1159.02 2068.77 1159.02 Q2062.96 1159.02 2059.88 1154.44 Q2056.82 1149.83 2056.82 1141.11 Q2056.82 1132.36 2059.88 1127.77 Q2062.96 1123.17 2068.77 1123.17 Z\" fill=\"#000000\" fill-rule=\"evenodd\" fill-opacity=\"1\" /><path clip-path=\"url(#clip750)\" d=\"M2088.93 1152.47 L2093.82 1152.47 L2093.82 1158.35 L2088.93 1158.35 L2088.93 1152.47 Z\" fill=\"#000000\" fill-rule=\"evenodd\" fill-opacity=\"1\" /><path clip-path=\"url(#clip750)\" d=\"M2104.05 1123.79 L2122.4 1123.79 L2122.4 1127.73 L2108.33 1127.73 L2108.33 1136.2 Q2109.35 1135.85 2110.37 1135.69 Q2111.38 1135.5 2112.4 1135.5 Q2118.19 1135.5 2121.57 1138.68 Q2124.95 1141.85 2124.95 1147.26 Q2124.95 1152.84 2121.48 1155.94 Q2118.01 1159.02 2111.69 1159.02 Q2109.51 1159.02 2107.24 1158.65 Q2105 1158.28 2102.59 1157.54 L2102.59 1152.84 Q2104.67 1153.98 2106.89 1154.53 Q2109.12 1155.09 2111.59 1155.09 Q2115.6 1155.09 2117.94 1152.98 Q2120.27 1150.88 2120.27 1147.26 Q2120.27 1143.65 2117.94 1141.55 Q2115.6 1139.44 2111.59 1139.44 Q2109.72 1139.44 2107.84 1139.86 Q2105.99 1140.27 2104.05 1141.15 L2104.05 1123.79 Z\" fill=\"#000000\" fill-rule=\"evenodd\" fill-opacity=\"1\" /><path clip-path=\"url(#clip750)\" d=\"M2320.58 1154.42 L2328.22 1154.42 L2328.22 1128.05 L2319.91 1129.72 L2319.91 1125.46 L2328.18 1123.79 L2332.85 1123.79 L2332.85 1154.42 L2340.49 1154.42 L2340.49 1158.35 L2320.58 1158.35 L2320.58 1154.42 Z\" fill=\"#000000\" fill-rule=\"evenodd\" fill-opacity=\"1\" /><path clip-path=\"url(#clip750)\" d=\"M2349.93 1152.47 L2354.82 1152.47 L2354.82 1158.35 L2349.93 1158.35 L2349.93 1152.47 Z\" fill=\"#000000\" fill-rule=\"evenodd\" fill-opacity=\"1\" /><path clip-path=\"url(#clip750)\" d=\"M2375 1126.87 Q2371.39 1126.87 2369.56 1130.44 Q2367.76 1133.98 2367.76 1141.11 Q2367.76 1148.21 2369.56 1151.78 Q2371.39 1155.32 2375 1155.32 Q2378.64 1155.32 2380.44 1151.78 Q2382.27 1148.21 2382.27 1141.11 Q2382.27 1133.98 2380.44 1130.44 Q2378.64 1126.87 2375 1126.87 M2375 1123.17 Q2380.81 1123.17 2383.87 1127.77 Q2386.95 1132.36 2386.95 1141.11 Q2386.95 1149.83 2383.87 1154.44 Q2380.81 1159.02 2375 1159.02 Q2369.19 1159.02 2366.12 1154.44 Q2363.06 1149.83 2363.06 1141.11 Q2363.06 1132.36 2366.12 1127.77 Q2369.19 1123.17 2375 1123.17 Z\" fill=\"#000000\" fill-rule=\"evenodd\" fill-opacity=\"1\" /><path clip-path=\"url(#clip750)\" d=\"M2583.62 1154.42 L2591.26 1154.42 L2591.26 1128.05 L2582.95 1129.72 L2582.95 1125.46 L2591.22 1123.79 L2595.89 1123.79 L2595.89 1154.42 L2603.53 1154.42 L2603.53 1158.35 L2583.62 1158.35 L2583.62 1154.42 Z\" fill=\"#000000\" fill-rule=\"evenodd\" fill-opacity=\"1\" /><path clip-path=\"url(#clip750)\" d=\"M2612.98 1152.47 L2617.86 1152.47 L2617.86 1158.35 L2612.98 1158.35 L2612.98 1152.47 Z\" fill=\"#000000\" fill-rule=\"evenodd\" fill-opacity=\"1\" /><path clip-path=\"url(#clip750)\" d=\"M2628.09 1123.79 L2646.45 1123.79 L2646.45 1127.73 L2632.37 1127.73 L2632.37 1136.2 Q2633.39 1135.85 2634.41 1135.69 Q2635.43 1135.5 2636.45 1135.5 Q2642.23 1135.5 2645.61 1138.68 Q2648.99 1141.85 2648.99 1147.26 Q2648.99 1152.84 2645.52 1155.94 Q2642.05 1159.02 2635.73 1159.02 Q2633.55 1159.02 2631.29 1158.65 Q2629.04 1158.28 2626.63 1157.54 L2626.63 1152.84 Q2628.72 1153.98 2630.94 1154.53 Q2633.16 1155.09 2635.64 1155.09 Q2639.64 1155.09 2641.98 1152.98 Q2644.32 1150.88 2644.32 1147.26 Q2644.32 1143.65 2641.98 1141.55 Q2639.64 1139.44 2635.64 1139.44 Q2633.76 1139.44 2631.89 1139.86 Q2630.04 1140.27 2628.09 1141.15 L2628.09 1123.79 Z\" fill=\"#000000\" fill-rule=\"evenodd\" fill-opacity=\"1\" /><path clip-path=\"url(#clip750)\" d=\"M2849.75 1154.42 L2866.07 1154.42 L2866.07 1158.35 L2844.13 1158.35 L2844.13 1154.42 Q2846.79 1151.66 2851.38 1147.03 Q2855.98 1142.38 2857.16 1141.04 Q2859.41 1138.51 2860.29 1136.78 Q2861.19 1135.02 2861.19 1133.33 Q2861.19 1130.57 2859.25 1128.84 Q2857.32 1127.1 2854.22 1127.1 Q2852.02 1127.1 2849.57 1127.87 Q2847.14 1128.63 2844.36 1130.18 L2844.36 1125.46 Q2847.19 1124.32 2849.64 1123.75 Q2852.09 1123.17 2854.13 1123.17 Q2859.5 1123.17 2862.69 1125.85 Q2865.89 1128.54 2865.89 1133.03 Q2865.89 1135.16 2865.08 1137.08 Q2864.29 1138.98 2862.19 1141.57 Q2861.61 1142.24 2858.5 1145.46 Q2855.4 1148.65 2849.75 1154.42 Z\" fill=\"#000000\" fill-rule=\"evenodd\" fill-opacity=\"1\" /><path clip-path=\"url(#clip750)\" d=\"M2875.89 1152.47 L2880.77 1152.47 L2880.77 1158.35 L2875.89 1158.35 L2875.89 1152.47 Z\" fill=\"#000000\" fill-rule=\"evenodd\" fill-opacity=\"1\" /><path clip-path=\"url(#clip750)\" d=\"M2900.96 1126.87 Q2897.35 1126.87 2895.52 1130.44 Q2893.71 1133.98 2893.71 1141.11 Q2893.71 1148.21 2895.52 1151.78 Q2897.35 1155.32 2900.96 1155.32 Q2904.59 1155.32 2906.4 1151.78 Q2908.23 1148.21 2908.23 1141.11 Q2908.23 1133.98 2906.4 1130.44 Q2904.59 1126.87 2900.96 1126.87 M2900.96 1123.17 Q2906.77 1123.17 2909.82 1127.77 Q2912.9 1132.36 2912.9 1141.11 Q2912.9 1149.83 2909.82 1154.44 Q2906.77 1159.02 2900.96 1159.02 Q2895.15 1159.02 2892.07 1154.44 Q2889.01 1149.83 2889.01 1141.11 Q2889.01 1132.36 2892.07 1127.77 Q2895.15 1123.17 2900.96 1123.17 Z\" fill=\"#000000\" fill-rule=\"evenodd\" fill-opacity=\"1\" /><path clip-path=\"url(#clip750)\" d=\"M3112.8 1154.42 L3129.11 1154.42 L3129.11 1158.35 L3107.17 1158.35 L3107.17 1154.42 Q3109.83 1151.66 3114.42 1147.03 Q3119.02 1142.38 3120.2 1141.04 Q3122.45 1138.51 3123.33 1136.78 Q3124.23 1135.02 3124.23 1133.33 Q3124.23 1130.57 3122.29 1128.84 Q3120.36 1127.1 3117.26 1127.1 Q3115.06 1127.1 3112.61 1127.87 Q3110.18 1128.63 3107.4 1130.18 L3107.4 1125.46 Q3110.23 1124.32 3112.68 1123.75 Q3115.13 1123.17 3117.17 1123.17 Q3122.54 1123.17 3125.74 1125.85 Q3128.93 1128.54 3128.93 1133.03 Q3128.93 1135.16 3128.12 1137.08 Q3127.33 1138.98 3125.23 1141.57 Q3124.65 1142.24 3121.55 1145.46 Q3118.44 1148.65 3112.8 1154.42 Z\" fill=\"#000000\" fill-rule=\"evenodd\" fill-opacity=\"1\" /><path clip-path=\"url(#clip750)\" d=\"M3138.93 1152.47 L3143.81 1152.47 L3143.81 1158.35 L3138.93 1158.35 L3138.93 1152.47 Z\" fill=\"#000000\" fill-rule=\"evenodd\" fill-opacity=\"1\" /><path clip-path=\"url(#clip750)\" d=\"M3154.05 1123.79 L3172.4 1123.79 L3172.4 1127.73 L3158.33 1127.73 L3158.33 1136.2 Q3159.35 1135.85 3160.36 1135.69 Q3161.38 1135.5 3162.4 1135.5 Q3168.19 1135.5 3171.57 1138.68 Q3174.95 1141.85 3174.95 1147.26 Q3174.95 1152.84 3171.48 1155.94 Q3168 1159.02 3161.68 1159.02 Q3159.51 1159.02 3157.24 1158.65 Q3154.99 1158.28 3152.59 1157.54 L3152.59 1152.84 Q3154.67 1153.98 3156.89 1154.53 Q3159.11 1155.09 3161.59 1155.09 Q3165.6 1155.09 3167.93 1152.98 Q3170.27 1150.88 3170.27 1147.26 Q3170.27 1143.65 3167.93 1141.55 Q3165.6 1139.44 3161.59 1139.44 Q3159.72 1139.44 3157.84 1139.86 Q3155.99 1140.27 3154.05 1141.15 L3154.05 1123.79 Z\" fill=\"#000000\" fill-rule=\"evenodd\" fill-opacity=\"1\" /><path clip-path=\"url(#clip750)\" d=\"M2459.26 1241.11 Q2459.26 1234.74 2456.62 1231.24 Q2454.01 1227.74 2449.27 1227.74 Q2444.56 1227.74 2441.91 1231.24 Q2439.31 1234.74 2439.31 1241.11 Q2439.31 1247.44 2441.91 1250.94 Q2444.56 1254.44 2449.27 1254.44 Q2454.01 1254.44 2456.62 1250.94 Q2459.26 1247.44 2459.26 1241.11 M2465.12 1254.92 Q2465.12 1264.02 2461.08 1268.45 Q2457.03 1272.9 2448.69 1272.9 Q2445.61 1272.9 2442.87 1272.43 Q2440.13 1271.98 2437.55 1271.02 L2437.55 1265.33 Q2440.13 1266.73 2442.65 1267.4 Q2445.16 1268.06 2447.77 1268.06 Q2453.53 1268.06 2456.4 1265.04 Q2459.26 1262.05 2459.26 1255.97 L2459.26 1253.07 Q2457.45 1256.22 2454.61 1257.78 Q2451.78 1259.34 2447.84 1259.34 Q2441.28 1259.34 2437.27 1254.35 Q2433.26 1249.35 2433.26 1241.11 Q2433.26 1232.83 2437.27 1227.83 Q2441.28 1222.84 2447.84 1222.84 Q2451.78 1222.84 2454.61 1224.4 Q2457.45 1225.96 2459.26 1229.11 L2459.26 1223.7 L2465.12 1223.7 L2465.12 1254.92 Z\" fill=\"#000000\" fill-rule=\"evenodd\" fill-opacity=\"1\" /><path clip-path=\"url(#clip750)\" d=\"M2493.38 1241.42 Q2486.28 1241.42 2483.55 1243.05 Q2480.81 1244.67 2480.81 1248.59 Q2480.81 1251.7 2482.85 1253.55 Q2484.92 1255.37 2488.45 1255.37 Q2493.32 1255.37 2496.25 1251.93 Q2499.21 1248.46 2499.21 1242.73 L2499.21 1241.42 L2493.38 1241.42 M2505.06 1239.01 L2505.06 1259.34 L2499.21 1259.34 L2499.21 1253.93 Q2497.2 1257.18 2494.21 1258.74 Q2491.22 1260.27 2486.89 1260.27 Q2481.41 1260.27 2478.17 1257.21 Q2474.95 1254.12 2474.95 1248.97 Q2474.95 1242.95 2478.96 1239.9 Q2483.01 1236.84 2490.99 1236.84 L2499.21 1236.84 L2499.21 1236.27 Q2499.21 1232.23 2496.53 1230.03 Q2493.89 1227.8 2489.08 1227.8 Q2486.03 1227.8 2483.13 1228.53 Q2480.24 1229.27 2477.56 1230.73 L2477.56 1225.32 Q2480.78 1224.08 2483.8 1223.47 Q2486.83 1222.84 2489.69 1222.84 Q2497.42 1222.84 2501.24 1226.85 Q2505.06 1230.86 2505.06 1239.01 Z\" fill=\"#000000\" fill-rule=\"evenodd\" fill-opacity=\"1\" /><path clip-path=\"url(#clip750)\" d=\"M2517.13 1223.7 L2522.98 1223.7 L2522.98 1259.34 L2517.13 1259.34 L2517.13 1223.7 M2517.13 1209.82 L2522.98 1209.82 L2522.98 1217.23 L2517.13 1217.23 L2517.13 1209.82 Z\" fill=\"#000000\" fill-rule=\"evenodd\" fill-opacity=\"1\" /><path clip-path=\"url(#clip750)\" d=\"M2564.87 1237.83 L2564.87 1259.34 L2559.01 1259.34 L2559.01 1238.02 Q2559.01 1232.96 2557.04 1230.44 Q2555.07 1227.93 2551.12 1227.93 Q2546.38 1227.93 2543.64 1230.95 Q2540.9 1233.98 2540.9 1239.2 L2540.9 1259.34 L2535.01 1259.34 L2535.01 1223.7 L2540.9 1223.7 L2540.9 1229.23 Q2543 1226.02 2545.84 1224.43 Q2548.7 1222.84 2552.42 1222.84 Q2558.57 1222.84 2561.72 1226.66 Q2564.87 1230.44 2564.87 1237.83 Z\" fill=\"#000000\" fill-rule=\"evenodd\" fill-opacity=\"1\" /><path clip-path=\"url(#clip750)\" d=\"M2599.21 1253.93 L2609.72 1253.93 L2609.72 1217.68 L2598.29 1219.97 L2598.29 1214.12 L2609.65 1211.82 L2616.08 1211.82 L2616.08 1253.93 L2626.58 1253.93 L2626.58 1259.34 L2599.21 1259.34 L2599.21 1253.93 Z\" fill=\"#000000\" fill-rule=\"evenodd\" fill-opacity=\"1\" /><polyline clip-path=\"url(#clip753)\" style=\"stroke:#000000; stroke-linecap:butt; stroke-linejoin:round; stroke-width:2; stroke-opacity:0.1; fill:none\" points=\"\n",
       "  1864.92,981.031 3194.92,981.031 \n",
       "  \"/>\n",
       "<polyline clip-path=\"url(#clip753)\" style=\"stroke:#000000; stroke-linecap:butt; stroke-linejoin:round; stroke-width:2; stroke-opacity:0.1; fill:none\" points=\"\n",
       "  1864.92,761.972 3194.92,761.972 \n",
       "  \"/>\n",
       "<polyline clip-path=\"url(#clip753)\" style=\"stroke:#000000; stroke-linecap:butt; stroke-linejoin:round; stroke-width:2; stroke-opacity:0.1; fill:none\" points=\"\n",
       "  1864.92,542.913 3194.92,542.913 \n",
       "  \"/>\n",
       "<polyline clip-path=\"url(#clip753)\" style=\"stroke:#000000; stroke-linecap:butt; stroke-linejoin:round; stroke-width:2; stroke-opacity:0.1; fill:none\" points=\"\n",
       "  1864.92,323.854 3194.92,323.854 \n",
       "  \"/>\n",
       "<polyline clip-path=\"url(#clip753)\" style=\"stroke:#000000; stroke-linecap:butt; stroke-linejoin:round; stroke-width:2; stroke-opacity:0.1; fill:none\" points=\"\n",
       "  1864.92,104.795 3194.92,104.795 \n",
       "  \"/>\n",
       "<polyline clip-path=\"url(#clip750)\" style=\"stroke:#000000; stroke-linecap:butt; stroke-linejoin:round; stroke-width:4; stroke-opacity:1; fill:none\" points=\"\n",
       "  1864.92,1078.48 1864.92,47.2441 \n",
       "  \"/>\n",
       "<polyline clip-path=\"url(#clip750)\" style=\"stroke:#000000; stroke-linecap:butt; stroke-linejoin:round; stroke-width:4; stroke-opacity:1; fill:none\" points=\"\n",
       "  1864.92,981.031 1883.82,981.031 \n",
       "  \"/>\n",
       "<polyline clip-path=\"url(#clip750)\" style=\"stroke:#000000; stroke-linecap:butt; stroke-linejoin:round; stroke-width:4; stroke-opacity:1; fill:none\" points=\"\n",
       "  1864.92,761.972 1883.82,761.972 \n",
       "  \"/>\n",
       "<polyline clip-path=\"url(#clip750)\" style=\"stroke:#000000; stroke-linecap:butt; stroke-linejoin:round; stroke-width:4; stroke-opacity:1; fill:none\" points=\"\n",
       "  1864.92,542.913 1883.82,542.913 \n",
       "  \"/>\n",
       "<polyline clip-path=\"url(#clip750)\" style=\"stroke:#000000; stroke-linecap:butt; stroke-linejoin:round; stroke-width:4; stroke-opacity:1; fill:none\" points=\"\n",
       "  1864.92,323.854 1883.82,323.854 \n",
       "  \"/>\n",
       "<polyline clip-path=\"url(#clip750)\" style=\"stroke:#000000; stroke-linecap:butt; stroke-linejoin:round; stroke-width:4; stroke-opacity:1; fill:none\" points=\"\n",
       "  1864.92,104.795 1883.82,104.795 \n",
       "  \"/>\n",
       "<path clip-path=\"url(#clip750)\" d=\"M1705.59 966.83 Q1701.97 966.83 1700.15 970.395 Q1698.34 973.936 1698.34 981.066 Q1698.34 988.172 1700.15 991.737 Q1701.97 995.279 1705.59 995.279 Q1709.22 995.279 1711.03 991.737 Q1712.85 988.172 1712.85 981.066 Q1712.85 973.936 1711.03 970.395 Q1709.22 966.83 1705.59 966.83 M1705.59 963.126 Q1711.4 963.126 1714.45 967.733 Q1717.53 972.316 1717.53 981.066 Q1717.53 989.793 1714.45 994.399 Q1711.4 998.982 1705.59 998.982 Q1699.78 998.982 1696.7 994.399 Q1693.64 989.793 1693.64 981.066 Q1693.64 972.316 1696.7 967.733 Q1699.78 963.126 1705.59 963.126 Z\" fill=\"#000000\" fill-rule=\"evenodd\" fill-opacity=\"1\" /><path clip-path=\"url(#clip750)\" d=\"M1725.75 992.432 L1730.63 992.432 L1730.63 998.311 L1725.75 998.311 L1725.75 992.432 Z\" fill=\"#000000\" fill-rule=\"evenodd\" fill-opacity=\"1\" /><path clip-path=\"url(#clip750)\" d=\"M1750.82 966.83 Q1747.21 966.83 1745.38 970.395 Q1743.57 973.936 1743.57 981.066 Q1743.57 988.172 1745.38 991.737 Q1747.21 995.279 1750.82 995.279 Q1754.45 995.279 1756.26 991.737 Q1758.09 988.172 1758.09 981.066 Q1758.09 973.936 1756.26 970.395 Q1754.45 966.83 1750.82 966.83 M1750.82 963.126 Q1756.63 963.126 1759.68 967.733 Q1762.76 972.316 1762.76 981.066 Q1762.76 989.793 1759.68 994.399 Q1756.63 998.982 1750.82 998.982 Q1745.01 998.982 1741.93 994.399 Q1738.87 989.793 1738.87 981.066 Q1738.87 972.316 1741.93 967.733 Q1745.01 963.126 1750.82 963.126 Z\" fill=\"#000000\" fill-rule=\"evenodd\" fill-opacity=\"1\" /><path clip-path=\"url(#clip750)\" d=\"M1780.98 966.83 Q1777.37 966.83 1775.54 970.395 Q1773.73 973.936 1773.73 981.066 Q1773.73 988.172 1775.54 991.737 Q1777.37 995.279 1780.98 995.279 Q1784.61 995.279 1786.42 991.737 Q1788.25 988.172 1788.25 981.066 Q1788.25 973.936 1786.42 970.395 Q1784.61 966.83 1780.98 966.83 M1780.98 963.126 Q1786.79 963.126 1789.84 967.733 Q1792.92 972.316 1792.92 981.066 Q1792.92 989.793 1789.84 994.399 Q1786.79 998.982 1780.98 998.982 Q1775.17 998.982 1772.09 994.399 Q1769.03 989.793 1769.03 981.066 Q1769.03 972.316 1772.09 967.733 Q1775.17 963.126 1780.98 963.126 Z\" fill=\"#000000\" fill-rule=\"evenodd\" fill-opacity=\"1\" /><path clip-path=\"url(#clip750)\" d=\"M1706.58 747.771 Q1702.97 747.771 1701.14 751.336 Q1699.34 754.877 1699.34 762.007 Q1699.34 769.113 1701.14 772.678 Q1702.97 776.22 1706.58 776.22 Q1710.22 776.22 1712.02 772.678 Q1713.85 769.113 1713.85 762.007 Q1713.85 754.877 1712.02 751.336 Q1710.22 747.771 1706.58 747.771 M1706.58 744.067 Q1712.39 744.067 1715.45 748.674 Q1718.53 753.257 1718.53 762.007 Q1718.53 770.734 1715.45 775.34 Q1712.39 779.923 1706.58 779.923 Q1700.77 779.923 1697.69 775.34 Q1694.64 770.734 1694.64 762.007 Q1694.64 753.257 1697.69 748.674 Q1700.77 744.067 1706.58 744.067 Z\" fill=\"#000000\" fill-rule=\"evenodd\" fill-opacity=\"1\" /><path clip-path=\"url(#clip750)\" d=\"M1726.74 773.372 L1731.63 773.372 L1731.63 779.252 L1726.74 779.252 L1726.74 773.372 Z\" fill=\"#000000\" fill-rule=\"evenodd\" fill-opacity=\"1\" /><path clip-path=\"url(#clip750)\" d=\"M1745.84 775.317 L1762.16 775.317 L1762.16 779.252 L1740.22 779.252 L1740.22 775.317 Q1742.88 772.562 1747.46 767.933 Q1752.07 763.28 1753.25 761.937 Q1755.49 759.414 1756.37 757.678 Q1757.28 755.919 1757.28 754.229 Q1757.28 751.474 1755.33 749.738 Q1753.41 748.002 1750.31 748.002 Q1748.11 748.002 1745.66 748.766 Q1743.22 749.53 1740.45 751.081 L1740.45 746.359 Q1743.27 745.224 1745.72 744.646 Q1748.18 744.067 1750.22 744.067 Q1755.59 744.067 1758.78 746.752 Q1761.97 749.437 1761.97 753.928 Q1761.97 756.058 1761.16 757.979 Q1760.38 759.877 1758.27 762.47 Q1757.69 763.141 1754.59 766.359 Q1751.49 769.553 1745.84 775.317 Z\" fill=\"#000000\" fill-rule=\"evenodd\" fill-opacity=\"1\" /><path clip-path=\"url(#clip750)\" d=\"M1772.02 744.692 L1790.38 744.692 L1790.38 748.627 L1776.3 748.627 L1776.3 757.099 Q1777.32 756.752 1778.34 756.59 Q1779.36 756.405 1780.38 756.405 Q1786.16 756.405 1789.54 759.576 Q1792.92 762.748 1792.92 768.164 Q1792.92 773.743 1789.45 776.845 Q1785.98 779.923 1779.66 779.923 Q1777.48 779.923 1775.22 779.553 Q1772.97 779.183 1770.56 778.442 L1770.56 773.743 Q1772.65 774.877 1774.87 775.433 Q1777.09 775.988 1779.57 775.988 Q1783.57 775.988 1785.91 773.882 Q1788.25 771.775 1788.25 768.164 Q1788.25 764.553 1785.91 762.447 Q1783.57 760.34 1779.57 760.34 Q1777.69 760.34 1775.82 760.757 Q1773.97 761.173 1772.02 762.053 L1772.02 744.692 Z\" fill=\"#000000\" fill-rule=\"evenodd\" fill-opacity=\"1\" /><path clip-path=\"url(#clip750)\" d=\"M1705.59 528.712 Q1701.97 528.712 1700.15 532.276 Q1698.34 535.818 1698.34 542.948 Q1698.34 550.054 1700.15 553.619 Q1701.97 557.161 1705.59 557.161 Q1709.22 557.161 1711.03 553.619 Q1712.85 550.054 1712.85 542.948 Q1712.85 535.818 1711.03 532.276 Q1709.22 528.712 1705.59 528.712 M1705.59 525.008 Q1711.4 525.008 1714.45 529.614 Q1717.53 534.198 1717.53 542.948 Q1717.53 551.674 1714.45 556.281 Q1711.4 560.864 1705.59 560.864 Q1699.78 560.864 1696.7 556.281 Q1693.64 551.674 1693.64 542.948 Q1693.64 534.198 1696.7 529.614 Q1699.78 525.008 1705.59 525.008 Z\" fill=\"#000000\" fill-rule=\"evenodd\" fill-opacity=\"1\" /><path clip-path=\"url(#clip750)\" d=\"M1725.75 554.313 L1730.63 554.313 L1730.63 560.193 L1725.75 560.193 L1725.75 554.313 Z\" fill=\"#000000\" fill-rule=\"evenodd\" fill-opacity=\"1\" /><path clip-path=\"url(#clip750)\" d=\"M1740.86 525.633 L1759.22 525.633 L1759.22 529.568 L1745.15 529.568 L1745.15 538.04 Q1746.16 537.693 1747.18 537.531 Q1748.2 537.346 1749.22 537.346 Q1755.01 537.346 1758.39 540.517 Q1761.77 543.688 1761.77 549.105 Q1761.77 554.684 1758.29 557.786 Q1754.82 560.864 1748.5 560.864 Q1746.33 560.864 1744.06 560.494 Q1741.81 560.124 1739.41 559.383 L1739.41 554.684 Q1741.49 555.818 1743.71 556.374 Q1745.93 556.929 1748.41 556.929 Q1752.41 556.929 1754.75 554.823 Q1757.09 552.716 1757.09 549.105 Q1757.09 545.494 1754.75 543.387 Q1752.41 541.281 1748.41 541.281 Q1746.53 541.281 1744.66 541.698 Q1742.81 542.114 1740.86 542.994 L1740.86 525.633 Z\" fill=\"#000000\" fill-rule=\"evenodd\" fill-opacity=\"1\" /><path clip-path=\"url(#clip750)\" d=\"M1780.98 528.712 Q1777.37 528.712 1775.54 532.276 Q1773.73 535.818 1773.73 542.948 Q1773.73 550.054 1775.54 553.619 Q1777.37 557.161 1780.98 557.161 Q1784.61 557.161 1786.42 553.619 Q1788.25 550.054 1788.25 542.948 Q1788.25 535.818 1786.42 532.276 Q1784.61 528.712 1780.98 528.712 M1780.98 525.008 Q1786.79 525.008 1789.84 529.614 Q1792.92 534.198 1792.92 542.948 Q1792.92 551.674 1789.84 556.281 Q1786.79 560.864 1780.98 560.864 Q1775.17 560.864 1772.09 556.281 Q1769.03 551.674 1769.03 542.948 Q1769.03 534.198 1772.09 529.614 Q1775.17 525.008 1780.98 525.008 Z\" fill=\"#000000\" fill-rule=\"evenodd\" fill-opacity=\"1\" /><path clip-path=\"url(#clip750)\" d=\"M1706.58 309.653 Q1702.97 309.653 1701.14 313.217 Q1699.34 316.759 1699.34 323.889 Q1699.34 330.995 1701.14 334.56 Q1702.97 338.101 1706.58 338.101 Q1710.22 338.101 1712.02 334.56 Q1713.85 330.995 1713.85 323.889 Q1713.85 316.759 1712.02 313.217 Q1710.22 309.653 1706.58 309.653 M1706.58 305.949 Q1712.39 305.949 1715.45 310.555 Q1718.53 315.139 1718.53 323.889 Q1718.53 332.615 1715.45 337.222 Q1712.39 341.805 1706.58 341.805 Q1700.77 341.805 1697.69 337.222 Q1694.64 332.615 1694.64 323.889 Q1694.64 315.139 1697.69 310.555 Q1700.77 305.949 1706.58 305.949 Z\" fill=\"#000000\" fill-rule=\"evenodd\" fill-opacity=\"1\" /><path clip-path=\"url(#clip750)\" d=\"M1726.74 335.254 L1731.63 335.254 L1731.63 341.134 L1726.74 341.134 L1726.74 335.254 Z\" fill=\"#000000\" fill-rule=\"evenodd\" fill-opacity=\"1\" /><path clip-path=\"url(#clip750)\" d=\"M1740.63 306.574 L1762.85 306.574 L1762.85 308.565 L1750.31 341.134 L1745.42 341.134 L1757.23 310.509 L1740.63 310.509 L1740.63 306.574 Z\" fill=\"#000000\" fill-rule=\"evenodd\" fill-opacity=\"1\" /><path clip-path=\"url(#clip750)\" d=\"M1772.02 306.574 L1790.38 306.574 L1790.38 310.509 L1776.3 310.509 L1776.3 318.981 Q1777.32 318.634 1778.34 318.472 Q1779.36 318.287 1780.38 318.287 Q1786.16 318.287 1789.54 321.458 Q1792.92 324.629 1792.92 330.046 Q1792.92 335.625 1789.45 338.726 Q1785.98 341.805 1779.66 341.805 Q1777.48 341.805 1775.22 341.435 Q1772.97 341.064 1770.56 340.324 L1770.56 335.625 Q1772.65 336.759 1774.87 337.314 Q1777.09 337.87 1779.57 337.87 Q1783.57 337.87 1785.91 335.764 Q1788.25 333.657 1788.25 330.046 Q1788.25 326.435 1785.91 324.328 Q1783.57 322.222 1779.57 322.222 Q1777.69 322.222 1775.82 322.639 Q1773.97 323.055 1772.02 323.935 L1772.02 306.574 Z\" fill=\"#000000\" fill-rule=\"evenodd\" fill-opacity=\"1\" /><path clip-path=\"url(#clip750)\" d=\"M1696.4 118.14 L1704.03 118.14 L1704.03 91.774 L1695.72 93.4406 L1695.72 89.1814 L1703.99 87.5148 L1708.66 87.5148 L1708.66 118.14 L1716.3 118.14 L1716.3 122.075 L1696.4 122.075 L1696.4 118.14 Z\" fill=\"#000000\" fill-rule=\"evenodd\" fill-opacity=\"1\" /><path clip-path=\"url(#clip750)\" d=\"M1725.75 116.195 L1730.63 116.195 L1730.63 122.075 L1725.75 122.075 L1725.75 116.195 Z\" fill=\"#000000\" fill-rule=\"evenodd\" fill-opacity=\"1\" /><path clip-path=\"url(#clip750)\" d=\"M1750.82 90.5934 Q1747.21 90.5934 1745.38 94.1582 Q1743.57 97.6999 1743.57 104.829 Q1743.57 111.936 1745.38 115.501 Q1747.21 119.042 1750.82 119.042 Q1754.45 119.042 1756.26 115.501 Q1758.09 111.936 1758.09 104.829 Q1758.09 97.6999 1756.26 94.1582 Q1754.45 90.5934 1750.82 90.5934 M1750.82 86.8898 Q1756.63 86.8898 1759.68 91.4962 Q1762.76 96.0795 1762.76 104.829 Q1762.76 113.556 1759.68 118.163 Q1756.63 122.746 1750.82 122.746 Q1745.01 122.746 1741.93 118.163 Q1738.87 113.556 1738.87 104.829 Q1738.87 96.0795 1741.93 91.4962 Q1745.01 86.8898 1750.82 86.8898 Z\" fill=\"#000000\" fill-rule=\"evenodd\" fill-opacity=\"1\" /><path clip-path=\"url(#clip750)\" d=\"M1780.98 90.5934 Q1777.37 90.5934 1775.54 94.1582 Q1773.73 97.6999 1773.73 104.829 Q1773.73 111.936 1775.54 115.501 Q1777.37 119.042 1780.98 119.042 Q1784.61 119.042 1786.42 115.501 Q1788.25 111.936 1788.25 104.829 Q1788.25 97.6999 1786.42 94.1582 Q1784.61 90.5934 1780.98 90.5934 M1780.98 86.8898 Q1786.79 86.8898 1789.84 91.4962 Q1792.92 96.0795 1792.92 104.829 Q1792.92 113.556 1789.84 118.163 Q1786.79 122.746 1780.98 122.746 Q1775.17 122.746 1772.09 118.163 Q1769.03 113.556 1769.03 104.829 Q1769.03 96.0795 1772.09 91.4962 Q1775.17 86.8898 1780.98 86.8898 Z\" fill=\"#000000\" fill-rule=\"evenodd\" fill-opacity=\"1\" /><path clip-path=\"url(#clip750)\" d=\"M1589.15 633.267 Q1582.78 633.267 1579.28 635.908 Q1575.78 638.518 1575.78 643.261 Q1575.78 647.971 1579.28 650.613 Q1582.78 653.223 1589.15 653.223 Q1595.48 653.223 1598.98 650.613 Q1602.48 647.971 1602.48 643.261 Q1602.48 638.518 1598.98 635.908 Q1595.48 633.267 1589.15 633.267 M1602.96 627.41 Q1612.06 627.41 1616.49 631.452 Q1620.94 635.495 1620.94 643.834 Q1620.94 646.921 1620.47 649.658 Q1620.02 652.396 1619.07 654.974 L1613.37 654.974 Q1614.77 652.396 1615.44 649.881 Q1616.11 647.367 1616.11 644.757 Q1616.11 638.996 1613.08 636.131 Q1610.09 633.267 1604.01 633.267 L1601.12 633.267 Q1604.27 635.081 1605.83 637.914 Q1607.39 640.746 1607.39 644.693 Q1607.39 651.25 1602.39 655.26 Q1597.39 659.271 1589.15 659.271 Q1580.87 659.271 1575.88 655.26 Q1570.88 651.25 1570.88 644.693 Q1570.88 640.746 1572.44 637.914 Q1574 635.081 1577.15 633.267 L1571.74 633.267 L1571.74 627.41 L1602.96 627.41 Z\" fill=\"#000000\" fill-rule=\"evenodd\" fill-opacity=\"1\" /><path clip-path=\"url(#clip750)\" d=\"M1589.47 599.146 Q1589.47 606.244 1591.09 608.982 Q1592.71 611.719 1596.63 611.719 Q1599.75 611.719 1601.59 609.682 Q1603.41 607.613 1603.41 604.08 Q1603.41 599.21 1599.97 596.282 Q1596.5 593.322 1590.77 593.322 L1589.47 593.322 L1589.47 599.146 M1587.05 587.465 L1607.39 587.465 L1607.39 593.322 L1601.97 593.322 Q1605.22 595.327 1606.78 598.319 Q1608.31 601.311 1608.31 605.64 Q1608.31 611.114 1605.25 614.361 Q1602.17 617.575 1597.01 617.575 Q1590.99 617.575 1587.94 613.565 Q1584.88 609.523 1584.88 601.534 L1584.88 593.322 L1584.31 593.322 Q1580.27 593.322 1578.07 595.995 Q1575.84 598.637 1575.84 603.443 Q1575.84 606.499 1576.58 609.395 Q1577.31 612.292 1578.77 614.965 L1573.36 614.965 Q1572.12 611.751 1571.51 608.727 Q1570.88 605.703 1570.88 602.839 Q1570.88 595.104 1574.89 591.285 Q1578.9 587.465 1587.05 587.465 Z\" fill=\"#000000\" fill-rule=\"evenodd\" fill-opacity=\"1\" /><path clip-path=\"url(#clip750)\" d=\"M1571.74 575.402 L1571.74 569.546 L1607.39 569.546 L1607.39 575.402 L1571.74 575.402 M1557.86 575.402 L1557.86 569.546 L1565.28 569.546 L1565.28 575.402 L1557.86 575.402 Z\" fill=\"#000000\" fill-rule=\"evenodd\" fill-opacity=\"1\" /><path clip-path=\"url(#clip750)\" d=\"M1585.87 527.66 L1607.39 527.66 L1607.39 533.516 L1586.06 533.516 Q1581 533.516 1578.49 535.489 Q1575.97 537.463 1575.97 541.41 Q1575.97 546.152 1578.99 548.889 Q1582.02 551.626 1587.24 551.626 L1607.39 551.626 L1607.39 557.515 L1571.74 557.515 L1571.74 551.626 L1577.28 551.626 Q1574.06 549.526 1572.47 546.693 Q1570.88 543.829 1570.88 540.105 Q1570.88 533.962 1574.7 530.811 Q1578.49 527.66 1585.87 527.66 Z\" fill=\"#000000\" fill-rule=\"evenodd\" fill-opacity=\"1\" /><path clip-path=\"url(#clip750)\" d=\"M1601.97 488.892 L1601.97 466.453 L1607.39 466.453 L1607.39 496.627 L1601.97 496.627 Q1598.19 492.967 1591.82 486.664 Q1585.42 480.331 1583.58 478.707 Q1580.11 475.62 1577.72 474.41 Q1575.3 473.169 1572.98 473.169 Q1569.19 473.169 1566.8 475.843 Q1564.42 478.485 1564.42 482.75 Q1564.42 485.773 1565.47 489.147 Q1566.52 492.489 1568.65 496.309 L1562.16 496.309 Q1560.6 492.425 1559.8 489.052 Q1559.01 485.678 1559.01 482.877 Q1559.01 475.493 1562.7 471.1 Q1566.39 466.708 1572.57 466.708 Q1575.49 466.708 1578.14 467.822 Q1580.74 468.904 1584.31 471.801 Q1585.23 472.596 1589.66 476.861 Q1594.05 481.126 1601.97 488.892 Z\" fill=\"#000000\" fill-rule=\"evenodd\" fill-opacity=\"1\" /><circle clip-path=\"url(#clip753)\" cx=\"1939.52\" cy=\"357.336\" r=\"14\" fill=\"#dc00ff\" fill-rule=\"evenodd\" fill-opacity=\"1\" stroke=\"#000000\" stroke-opacity=\"1\" stroke-width=\"2.4\"/>\n",
       "<circle clip-path=\"url(#clip753)\" cx=\"1918.18\" cy=\"403.91\" r=\"14\" fill=\"#ca00ff\" fill-rule=\"evenodd\" fill-opacity=\"1\" stroke=\"#000000\" stroke-opacity=\"1\" stroke-width=\"2.4\"/>\n",
       "<circle clip-path=\"url(#clip753)\" cx=\"1902.56\" cy=\"404.572\" r=\"14\" fill=\"#d800ff\" fill-rule=\"evenodd\" fill-opacity=\"1\" stroke=\"#000000\" stroke-opacity=\"1\" stroke-width=\"2.4\"/>\n",
       "<circle clip-path=\"url(#clip753)\" cx=\"1929.05\" cy=\"370.007\" r=\"14\" fill=\"#d900ff\" fill-rule=\"evenodd\" fill-opacity=\"1\" stroke=\"#000000\" stroke-opacity=\"1\" stroke-width=\"2.4\"/>\n",
       "<circle clip-path=\"url(#clip753)\" cx=\"1925.25\" cy=\"401.14\" r=\"14\" fill=\"#c700ff\" fill-rule=\"evenodd\" fill-opacity=\"1\" stroke=\"#000000\" stroke-opacity=\"1\" stroke-width=\"2.4\"/>\n",
       "<circle clip-path=\"url(#clip753)\" cx=\"2073.89\" cy=\"532.072\" r=\"14\" fill=\"#b700ff\" fill-rule=\"evenodd\" fill-opacity=\"1\" stroke=\"#000000\" stroke-opacity=\"1\" stroke-width=\"2.4\"/>\n",
       "<circle clip-path=\"url(#clip753)\" cx=\"2089.47\" cy=\"535.496\" r=\"14\" fill=\"#c400ff\" fill-rule=\"evenodd\" fill-opacity=\"1\" stroke=\"#000000\" stroke-opacity=\"1\" stroke-width=\"2.4\"/>\n",
       "<circle clip-path=\"url(#clip753)\" cx=\"2085.35\" cy=\"571.948\" r=\"14\" fill=\"#ae00ff\" fill-rule=\"evenodd\" fill-opacity=\"1\" stroke=\"#000000\" stroke-opacity=\"1\" stroke-width=\"2.4\"/>\n",
       "<circle clip-path=\"url(#clip753)\" cx=\"2202.44\" cy=\"803.024\" r=\"14\" fill=\"#be00ff\" fill-rule=\"evenodd\" fill-opacity=\"1\" stroke=\"#000000\" stroke-opacity=\"1\" stroke-width=\"2.4\"/>\n",
       "<circle clip-path=\"url(#clip753)\" cx=\"2183.96\" cy=\"799.547\" r=\"14\" fill=\"#aa00ff\" fill-rule=\"evenodd\" fill-opacity=\"1\" stroke=\"#000000\" stroke-opacity=\"1\" stroke-width=\"2.4\"/>\n",
       "<circle clip-path=\"url(#clip753)\" cx=\"2210.1\" cy=\"835.605\" r=\"14\" fill=\"#b800ff\" fill-rule=\"evenodd\" fill-opacity=\"1\" stroke=\"#000000\" stroke-opacity=\"1\" stroke-width=\"2.4\"/>\n",
       "<circle clip-path=\"url(#clip753)\" cx=\"2186.28\" cy=\"784.176\" r=\"14\" fill=\"#b400ff\" fill-rule=\"evenodd\" fill-opacity=\"1\" stroke=\"#000000\" stroke-opacity=\"1\" stroke-width=\"2.4\"/>\n",
       "<circle clip-path=\"url(#clip753)\" cx=\"2184.21\" cy=\"830.381\" r=\"14\" fill=\"#9d00ff\" fill-rule=\"evenodd\" fill-opacity=\"1\" stroke=\"#000000\" stroke-opacity=\"1\" stroke-width=\"2.4\"/>\n",
       "<circle clip-path=\"url(#clip753)\" cx=\"2196.76\" cy=\"796.301\" r=\"14\" fill=\"#ba00ff\" fill-rule=\"evenodd\" fill-opacity=\"1\" stroke=\"#000000\" stroke-opacity=\"1\" stroke-width=\"2.4\"/>\n",
       "<circle clip-path=\"url(#clip753)\" cx=\"2175.45\" cy=\"820.9\" r=\"14\" fill=\"#9700ff\" fill-rule=\"evenodd\" fill-opacity=\"1\" stroke=\"#000000\" stroke-opacity=\"1\" stroke-width=\"2.4\"/>\n",
       "<circle clip-path=\"url(#clip753)\" cx=\"2205.45\" cy=\"821.851\" r=\"14\" fill=\"#b900ff\" fill-rule=\"evenodd\" fill-opacity=\"1\" stroke=\"#000000\" stroke-opacity=\"1\" stroke-width=\"2.4\"/>\n",
       "<circle clip-path=\"url(#clip753)\" cx=\"2320.38\" cy=\"851.086\" r=\"14\" fill=\"#ff00b6\" fill-rule=\"evenodd\" fill-opacity=\"1\" stroke=\"#000000\" stroke-opacity=\"1\" stroke-width=\"2.4\"/>\n",
       "<circle clip-path=\"url(#clip753)\" cx=\"2287.75\" cy=\"878.8\" r=\"14\" fill=\"#ff00f6\" fill-rule=\"evenodd\" fill-opacity=\"1\" stroke=\"#000000\" stroke-opacity=\"1\" stroke-width=\"2.4\"/>\n",
       "<circle clip-path=\"url(#clip753)\" cx=\"2280.15\" cy=\"865.066\" r=\"14\" fill=\"#ff00fa\" fill-rule=\"evenodd\" fill-opacity=\"1\" stroke=\"#000000\" stroke-opacity=\"1\" stroke-width=\"2.4\"/>\n",
       "<circle clip-path=\"url(#clip753)\" cx=\"2304.81\" cy=\"702.955\" r=\"14\" fill=\"#ff0078\" fill-rule=\"evenodd\" fill-opacity=\"1\" stroke=\"#000000\" stroke-opacity=\"1\" stroke-width=\"2.4\"/>\n",
       "<circle clip-path=\"url(#clip753)\" cx=\"2319.89\" cy=\"725.055\" r=\"14\" fill=\"#ff0071\" fill-rule=\"evenodd\" fill-opacity=\"1\" stroke=\"#000000\" stroke-opacity=\"1\" stroke-width=\"2.4\"/>\n",
       "<circle clip-path=\"url(#clip753)\" cx=\"2360.16\" cy=\"971.538\" r=\"14\" fill=\"#ff00c1\" fill-rule=\"evenodd\" fill-opacity=\"1\" stroke=\"#000000\" stroke-opacity=\"1\" stroke-width=\"2.4\"/>\n",
       "<circle clip-path=\"url(#clip753)\" cx=\"2337.58\" cy=\"973.412\" r=\"14\" fill=\"#ff00e3\" fill-rule=\"evenodd\" fill-opacity=\"1\" stroke=\"#000000\" stroke-opacity=\"1\" stroke-width=\"2.4\"/>\n",
       "<circle clip-path=\"url(#clip753)\" cx=\"2346.21\" cy=\"964.264\" r=\"14\" fill=\"#ff00d1\" fill-rule=\"evenodd\" fill-opacity=\"1\" stroke=\"#000000\" stroke-opacity=\"1\" stroke-width=\"2.4\"/>\n",
       "<circle clip-path=\"url(#clip753)\" cx=\"2374.12\" cy=\"977.258\" r=\"14\" fill=\"#ff00b1\" fill-rule=\"evenodd\" fill-opacity=\"1\" stroke=\"#000000\" stroke-opacity=\"1\" stroke-width=\"2.4\"/>\n",
       "<circle clip-path=\"url(#clip753)\" cx=\"2374.8\" cy=\"965.602\" r=\"14\" fill=\"#ff00a9\" fill-rule=\"evenodd\" fill-opacity=\"1\" stroke=\"#000000\" stroke-opacity=\"1\" stroke-width=\"2.4\"/>\n",
       "<circle clip-path=\"url(#clip753)\" cx=\"2349.86\" cy=\"960.217\" r=\"14\" fill=\"#ff00ca\" fill-rule=\"evenodd\" fill-opacity=\"1\" stroke=\"#000000\" stroke-opacity=\"1\" stroke-width=\"2.4\"/>\n",
       "<circle clip-path=\"url(#clip753)\" cx=\"2359.1\" cy=\"959.797\" r=\"14\" fill=\"#ff00bc\" fill-rule=\"evenodd\" fill-opacity=\"1\" stroke=\"#000000\" stroke-opacity=\"1\" stroke-width=\"2.4\"/>\n",
       "<circle clip-path=\"url(#clip753)\" cx=\"2899.3\" cy=\"977.006\" r=\"14\" fill=\"#7800ff\" fill-rule=\"evenodd\" fill-opacity=\"1\" stroke=\"#000000\" stroke-opacity=\"1\" stroke-width=\"2.4\"/>\n",
       "<circle clip-path=\"url(#clip753)\" cx=\"2855.78\" cy=\"1017.09\" r=\"14\" fill=\"#ff00ed\" fill-rule=\"evenodd\" fill-opacity=\"1\" stroke=\"#000000\" stroke-opacity=\"1\" stroke-width=\"2.4\"/>\n",
       "<circle clip-path=\"url(#clip753)\" cx=\"2868.91\" cy=\"989.031\" r=\"14\" fill=\"#d300ff\" fill-rule=\"evenodd\" fill-opacity=\"1\" stroke=\"#000000\" stroke-opacity=\"1\" stroke-width=\"2.4\"/>\n",
       "<circle clip-path=\"url(#clip753)\" cx=\"2835.29\" cy=\"976.951\" r=\"14\" fill=\"#ff00ca\" fill-rule=\"evenodd\" fill-opacity=\"1\" stroke=\"#000000\" stroke-opacity=\"1\" stroke-width=\"2.4\"/>\n",
       "<circle clip-path=\"url(#clip753)\" cx=\"2871.89\" cy=\"948.262\" r=\"14\" fill=\"#af00ff\" fill-rule=\"evenodd\" fill-opacity=\"1\" stroke=\"#000000\" stroke-opacity=\"1\" stroke-width=\"2.4\"/>\n",
       "<circle clip-path=\"url(#clip753)\" cx=\"2882.21\" cy=\"955.911\" r=\"14\" fill=\"#9700ff\" fill-rule=\"evenodd\" fill-opacity=\"1\" stroke=\"#000000\" stroke-opacity=\"1\" stroke-width=\"2.4\"/>\n",
       "<circle clip-path=\"url(#clip753)\" cx=\"2908.17\" cy=\"985.838\" r=\"14\" fill=\"#6900ff\" fill-rule=\"evenodd\" fill-opacity=\"1\" stroke=\"#000000\" stroke-opacity=\"1\" stroke-width=\"2.4\"/>\n",
       "<circle clip-path=\"url(#clip753)\" cx=\"2890.86\" cy=\"125.773\" r=\"14\" fill=\"#6900ff\" fill-rule=\"evenodd\" fill-opacity=\"1\" stroke=\"#000000\" stroke-opacity=\"1\" stroke-width=\"2.4\"/>\n",
       "<circle clip-path=\"url(#clip753)\" cx=\"2916.14\" cy=\"125.655\" r=\"14\" fill=\"#7200ff\" fill-rule=\"evenodd\" fill-opacity=\"1\" stroke=\"#000000\" stroke-opacity=\"1\" stroke-width=\"2.4\"/>\n",
       "<circle clip-path=\"url(#clip753)\" cx=\"3144.42\" cy=\"83.7955\" r=\"14\" fill=\"#ff00f3\" fill-rule=\"evenodd\" fill-opacity=\"1\" stroke=\"#000000\" stroke-opacity=\"1\" stroke-width=\"2.4\"/>\n",
       "<circle clip-path=\"url(#clip753)\" cx=\"3153.85\" cy=\"115.37\" r=\"14\" fill=\"#ff00fa\" fill-rule=\"evenodd\" fill-opacity=\"1\" stroke=\"#000000\" stroke-opacity=\"1\" stroke-width=\"2.4\"/>\n",
       "<circle clip-path=\"url(#clip753)\" cx=\"3157.28\" cy=\"117.08\" r=\"14\" fill=\"#ff00f6\" fill-rule=\"evenodd\" fill-opacity=\"1\" stroke=\"#000000\" stroke-opacity=\"1\" stroke-width=\"2.4\"/>\n",
       "<circle clip-path=\"url(#clip753)\" cx=\"1934.52\" cy=\"397.596\" r=\"14\" fill=\"#c500ff\" fill-rule=\"evenodd\" fill-opacity=\"1\" stroke=\"#000000\" stroke-opacity=\"1\" stroke-width=\"2.4\"/>\n",
       "<circle clip-path=\"url(#clip753)\" cx=\"1930.47\" cy=\"391.587\" r=\"14\" fill=\"#ca00ff\" fill-rule=\"evenodd\" fill-opacity=\"1\" stroke=\"#000000\" stroke-opacity=\"1\" stroke-width=\"2.4\"/>\n",
       "<circle clip-path=\"url(#clip753)\" cx=\"1951.51\" cy=\"381.79\" r=\"14\" fill=\"#ca00ff\" fill-rule=\"evenodd\" fill-opacity=\"1\" stroke=\"#000000\" stroke-opacity=\"1\" stroke-width=\"2.4\"/>\n",
       "<circle clip-path=\"url(#clip753)\" cx=\"1978.09\" cy=\"401.952\" r=\"14\" fill=\"#c000ff\" fill-rule=\"evenodd\" fill-opacity=\"1\" stroke=\"#000000\" stroke-opacity=\"1\" stroke-width=\"2.4\"/>\n",
       "<circle clip-path=\"url(#clip753)\" cx=\"1922.97\" cy=\"340.033\" r=\"14\" fill=\"#f200ff\" fill-rule=\"evenodd\" fill-opacity=\"1\" stroke=\"#000000\" stroke-opacity=\"1\" stroke-width=\"2.4\"/>\n",
       "<circle clip-path=\"url(#clip753)\" cx=\"2100.18\" cy=\"483.548\" r=\"14\" fill=\"#ed00ff\" fill-rule=\"evenodd\" fill-opacity=\"1\" stroke=\"#000000\" stroke-opacity=\"1\" stroke-width=\"2.4\"/>\n",
       "<circle clip-path=\"url(#clip753)\" cx=\"2103.03\" cy=\"557.997\" r=\"14\" fill=\"#c600ff\" fill-rule=\"evenodd\" fill-opacity=\"1\" stroke=\"#000000\" stroke-opacity=\"1\" stroke-width=\"2.4\"/>\n",
       "<circle clip-path=\"url(#clip753)\" cx=\"2075.22\" cy=\"599.174\" r=\"14\" fill=\"#9900ff\" fill-rule=\"evenodd\" fill-opacity=\"1\" stroke=\"#000000\" stroke-opacity=\"1\" stroke-width=\"2.4\"/>\n",
       "<circle clip-path=\"url(#clip753)\" cx=\"2191.09\" cy=\"807.611\" r=\"14\" fill=\"#af00ff\" fill-rule=\"evenodd\" fill-opacity=\"1\" stroke=\"#000000\" stroke-opacity=\"1\" stroke-width=\"2.4\"/>\n",
       "<circle clip-path=\"url(#clip753)\" cx=\"2212.5\" cy=\"773.82\" r=\"14\" fill=\"#d900ff\" fill-rule=\"evenodd\" fill-opacity=\"1\" stroke=\"#000000\" stroke-opacity=\"1\" stroke-width=\"2.4\"/>\n",
       "<circle clip-path=\"url(#clip753)\" cx=\"2229.89\" cy=\"785.27\" r=\"14\" fill=\"#ea00ff\" fill-rule=\"evenodd\" fill-opacity=\"1\" stroke=\"#000000\" stroke-opacity=\"1\" stroke-width=\"2.4\"/>\n",
       "<circle clip-path=\"url(#clip753)\" cx=\"2180.73\" cy=\"793.564\" r=\"14\" fill=\"#a900ff\" fill-rule=\"evenodd\" fill-opacity=\"1\" stroke=\"#000000\" stroke-opacity=\"1\" stroke-width=\"2.4\"/>\n",
       "<circle clip-path=\"url(#clip753)\" cx=\"2213.3\" cy=\"796.724\" r=\"14\" fill=\"#ce00ff\" fill-rule=\"evenodd\" fill-opacity=\"1\" stroke=\"#000000\" stroke-opacity=\"1\" stroke-width=\"2.4\"/>\n",
       "<circle clip-path=\"url(#clip753)\" cx=\"2192.28\" cy=\"797.742\" r=\"14\" fill=\"#b400ff\" fill-rule=\"evenodd\" fill-opacity=\"1\" stroke=\"#000000\" stroke-opacity=\"1\" stroke-width=\"2.4\"/>\n",
       "<circle clip-path=\"url(#clip753)\" cx=\"2187.01\" cy=\"789.147\" r=\"14\" fill=\"#b200ff\" fill-rule=\"evenodd\" fill-opacity=\"1\" stroke=\"#000000\" stroke-opacity=\"1\" stroke-width=\"2.4\"/>\n",
       "<circle clip-path=\"url(#clip753)\" cx=\"2182.17\" cy=\"791.536\" r=\"14\" fill=\"#ac00ff\" fill-rule=\"evenodd\" fill-opacity=\"1\" stroke=\"#000000\" stroke-opacity=\"1\" stroke-width=\"2.4\"/>\n",
       "<circle clip-path=\"url(#clip753)\" cx=\"2322.3\" cy=\"855.606\" r=\"14\" fill=\"#ff00b6\" fill-rule=\"evenodd\" fill-opacity=\"1\" stroke=\"#000000\" stroke-opacity=\"1\" stroke-width=\"2.4\"/>\n",
       "<circle clip-path=\"url(#clip753)\" cx=\"2346.34\" cy=\"888.342\" r=\"14\" fill=\"#ff00a6\" fill-rule=\"evenodd\" fill-opacity=\"1\" stroke=\"#000000\" stroke-opacity=\"1\" stroke-width=\"2.4\"/>\n",
       "<circle clip-path=\"url(#clip753)\" cx=\"2304.38\" cy=\"920.809\" r=\"14\" fill=\"#ff00f6\" fill-rule=\"evenodd\" fill-opacity=\"1\" stroke=\"#000000\" stroke-opacity=\"1\" stroke-width=\"2.4\"/>\n",
       "<circle clip-path=\"url(#clip753)\" cx=\"2306.05\" cy=\"670.72\" r=\"14\" fill=\"#ff0066\" fill-rule=\"evenodd\" fill-opacity=\"1\" stroke=\"#000000\" stroke-opacity=\"1\" stroke-width=\"2.4\"/>\n",
       "<circle clip-path=\"url(#clip753)\" cx=\"2287.63\" cy=\"688.462\" r=\"14\" fill=\"#ff0087\" fill-rule=\"evenodd\" fill-opacity=\"1\" stroke=\"#000000\" stroke-opacity=\"1\" stroke-width=\"2.4\"/>\n",
       "<circle clip-path=\"url(#clip753)\" cx=\"2381.32\" cy=\"939.73\" r=\"14\" fill=\"#ff0092\" fill-rule=\"evenodd\" fill-opacity=\"1\" stroke=\"#000000\" stroke-opacity=\"1\" stroke-width=\"2.4\"/>\n",
       "<circle clip-path=\"url(#clip753)\" cx=\"2355.79\" cy=\"953.529\" r=\"14\" fill=\"#ff00bd\" fill-rule=\"evenodd\" fill-opacity=\"1\" stroke=\"#000000\" stroke-opacity=\"1\" stroke-width=\"2.4\"/>\n",
       "<circle clip-path=\"url(#clip753)\" cx=\"2351.21\" cy=\"1008.62\" r=\"14\" fill=\"#ff00e3\" fill-rule=\"evenodd\" fill-opacity=\"1\" stroke=\"#000000\" stroke-opacity=\"1\" stroke-width=\"2.4\"/>\n",
       "<circle clip-path=\"url(#clip753)\" cx=\"2367.09\" cy=\"1012.97\" r=\"14\" fill=\"#ff00ce\" fill-rule=\"evenodd\" fill-opacity=\"1\" stroke=\"#000000\" stroke-opacity=\"1\" stroke-width=\"2.4\"/>\n",
       "<circle clip-path=\"url(#clip753)\" cx=\"2338.25\" cy=\"1003.12\" r=\"14\" fill=\"#ff00f2\" fill-rule=\"evenodd\" fill-opacity=\"1\" stroke=\"#000000\" stroke-opacity=\"1\" stroke-width=\"2.4\"/>\n",
       "<circle clip-path=\"url(#clip753)\" cx=\"2339.85\" cy=\"960.815\" r=\"14\" fill=\"#ff00d9\" fill-rule=\"evenodd\" fill-opacity=\"1\" stroke=\"#000000\" stroke-opacity=\"1\" stroke-width=\"2.4\"/>\n",
       "<circle clip-path=\"url(#clip753)\" cx=\"2379.18\" cy=\"1028.09\" r=\"14\" fill=\"#ff00c5\" fill-rule=\"evenodd\" fill-opacity=\"1\" stroke=\"#000000\" stroke-opacity=\"1\" stroke-width=\"2.4\"/>\n",
       "<circle clip-path=\"url(#clip753)\" cx=\"2872.13\" cy=\"956.333\" r=\"14\" fill=\"#b300ff\" fill-rule=\"evenodd\" fill-opacity=\"1\" stroke=\"#000000\" stroke-opacity=\"1\" stroke-width=\"2.4\"/>\n",
       "<circle clip-path=\"url(#clip753)\" cx=\"2873.36\" cy=\"983.145\" r=\"14\" fill=\"#c100ff\" fill-rule=\"evenodd\" fill-opacity=\"1\" stroke=\"#000000\" stroke-opacity=\"1\" stroke-width=\"2.4\"/>\n",
       "<circle clip-path=\"url(#clip753)\" cx=\"2884.86\" cy=\"999.562\" r=\"14\" fill=\"#ab00ff\" fill-rule=\"evenodd\" fill-opacity=\"1\" stroke=\"#000000\" stroke-opacity=\"1\" stroke-width=\"2.4\"/>\n",
       "<circle clip-path=\"url(#clip753)\" cx=\"2903.4\" cy=\"1007.25\" r=\"14\" fill=\"#7e00ff\" fill-rule=\"evenodd\" fill-opacity=\"1\" stroke=\"#000000\" stroke-opacity=\"1\" stroke-width=\"2.4\"/>\n",
       "<circle clip-path=\"url(#clip753)\" cx=\"2863.51\" cy=\"950.32\" r=\"14\" fill=\"#c900ff\" fill-rule=\"evenodd\" fill-opacity=\"1\" stroke=\"#000000\" stroke-opacity=\"1\" stroke-width=\"2.4\"/>\n",
       "<circle clip-path=\"url(#clip753)\" cx=\"2875.14\" cy=\"980.369\" r=\"14\" fill=\"#ba00ff\" fill-rule=\"evenodd\" fill-opacity=\"1\" stroke=\"#000000\" stroke-opacity=\"1\" stroke-width=\"2.4\"/>\n",
       "<circle clip-path=\"url(#clip753)\" cx=\"2875.27\" cy=\"1011.45\" r=\"14\" fill=\"#cf00ff\" fill-rule=\"evenodd\" fill-opacity=\"1\" stroke=\"#000000\" stroke-opacity=\"1\" stroke-width=\"2.4\"/>\n",
       "<circle clip-path=\"url(#clip753)\" cx=\"2869.22\" cy=\"151.535\" r=\"14\" fill=\"#5900ff\" fill-rule=\"evenodd\" fill-opacity=\"1\" stroke=\"#000000\" stroke-opacity=\"1\" stroke-width=\"2.4\"/>\n",
       "<circle clip-path=\"url(#clip753)\" cx=\"2915.63\" cy=\"82.5285\" r=\"14\" fill=\"#8800ff\" fill-rule=\"evenodd\" fill-opacity=\"1\" stroke=\"#000000\" stroke-opacity=\"1\" stroke-width=\"2.4\"/>\n",
       "<circle clip-path=\"url(#clip753)\" cx=\"3136.99\" cy=\"95.0055\" r=\"14\" fill=\"#fb00ff\" fill-rule=\"evenodd\" fill-opacity=\"1\" stroke=\"#000000\" stroke-opacity=\"1\" stroke-width=\"2.4\"/>\n",
       "<circle clip-path=\"url(#clip753)\" cx=\"3132.78\" cy=\"99.5998\" r=\"14\" fill=\"#f300ff\" fill-rule=\"evenodd\" fill-opacity=\"1\" stroke=\"#000000\" stroke-opacity=\"1\" stroke-width=\"2.4\"/>\n",
       "<circle clip-path=\"url(#clip753)\" cx=\"3137.91\" cy=\"99.0876\" r=\"14\" fill=\"#fa00ff\" fill-rule=\"evenodd\" fill-opacity=\"1\" stroke=\"#000000\" stroke-opacity=\"1\" stroke-width=\"2.4\"/>\n",
       "<circle clip-path=\"url(#clip753)\" cx=\"1911.87\" cy=\"354.576\" r=\"14\" fill=\"#f100ff\" fill-rule=\"evenodd\" fill-opacity=\"1\" stroke=\"#000000\" stroke-opacity=\"1\" stroke-width=\"2.4\"/>\n",
       "<circle clip-path=\"url(#clip753)\" cx=\"1913.84\" cy=\"316.107\" r=\"14\" fill=\"#ff00f3\" fill-rule=\"evenodd\" fill-opacity=\"1\" stroke=\"#000000\" stroke-opacity=\"1\" stroke-width=\"2.4\"/>\n",
       "<circle clip-path=\"url(#clip753)\" cx=\"1934.93\" cy=\"356.17\" r=\"14\" fill=\"#df00ff\" fill-rule=\"evenodd\" fill-opacity=\"1\" stroke=\"#000000\" stroke-opacity=\"1\" stroke-width=\"2.4\"/>\n",
       "<circle clip-path=\"url(#clip753)\" cx=\"1938.49\" cy=\"350.798\" r=\"14\" fill=\"#e100ff\" fill-rule=\"evenodd\" fill-opacity=\"1\" stroke=\"#000000\" stroke-opacity=\"1\" stroke-width=\"2.4\"/>\n",
       "<circle clip-path=\"url(#clip753)\" cx=\"1939.94\" cy=\"364.914\" r=\"14\" fill=\"#d700ff\" fill-rule=\"evenodd\" fill-opacity=\"1\" stroke=\"#000000\" stroke-opacity=\"1\" stroke-width=\"2.4\"/>\n",
       "<circle clip-path=\"url(#clip753)\" cx=\"2066.63\" cy=\"579.754\" r=\"14\" fill=\"#9b00ff\" fill-rule=\"evenodd\" fill-opacity=\"1\" stroke=\"#000000\" stroke-opacity=\"1\" stroke-width=\"2.4\"/>\n",
       "<circle clip-path=\"url(#clip753)\" cx=\"2079.55\" cy=\"592.742\" r=\"14\" fill=\"#9f00ff\" fill-rule=\"evenodd\" fill-opacity=\"1\" stroke=\"#000000\" stroke-opacity=\"1\" stroke-width=\"2.4\"/>\n",
       "<circle clip-path=\"url(#clip753)\" cx=\"2070.61\" cy=\"527.884\" r=\"14\" fill=\"#b600ff\" fill-rule=\"evenodd\" fill-opacity=\"1\" stroke=\"#000000\" stroke-opacity=\"1\" stroke-width=\"2.4\"/>\n",
       "<circle clip-path=\"url(#clip753)\" cx=\"2204.49\" cy=\"809.283\" r=\"14\" fill=\"#bd00ff\" fill-rule=\"evenodd\" fill-opacity=\"1\" stroke=\"#000000\" stroke-opacity=\"1\" stroke-width=\"2.4\"/>\n",
       "<circle clip-path=\"url(#clip753)\" cx=\"2203.66\" cy=\"775.004\" r=\"14\" fill=\"#cd00ff\" fill-rule=\"evenodd\" fill-opacity=\"1\" stroke=\"#000000\" stroke-opacity=\"1\" stroke-width=\"2.4\"/>\n",
       "<circle clip-path=\"url(#clip753)\" cx=\"2180.56\" cy=\"831.53\" r=\"14\" fill=\"#9800ff\" fill-rule=\"evenodd\" fill-opacity=\"1\" stroke=\"#000000\" stroke-opacity=\"1\" stroke-width=\"2.4\"/>\n",
       "<circle clip-path=\"url(#clip753)\" cx=\"2203.13\" cy=\"804.05\" r=\"14\" fill=\"#be00ff\" fill-rule=\"evenodd\" fill-opacity=\"1\" stroke=\"#000000\" stroke-opacity=\"1\" stroke-width=\"2.4\"/>\n",
       "<circle clip-path=\"url(#clip753)\" cx=\"2163.12\" cy=\"804.658\" r=\"14\" fill=\"#9100ff\" fill-rule=\"evenodd\" fill-opacity=\"1\" stroke=\"#000000\" stroke-opacity=\"1\" stroke-width=\"2.4\"/>\n",
       "<circle clip-path=\"url(#clip753)\" cx=\"2207.6\" cy=\"786.047\" r=\"14\" fill=\"#cc00ff\" fill-rule=\"evenodd\" fill-opacity=\"1\" stroke=\"#000000\" stroke-opacity=\"1\" stroke-width=\"2.4\"/>\n",
       "<circle clip-path=\"url(#clip753)\" cx=\"2204.38\" cy=\"828.135\" r=\"14\" fill=\"#b400ff\" fill-rule=\"evenodd\" fill-opacity=\"1\" stroke=\"#000000\" stroke-opacity=\"1\" stroke-width=\"2.4\"/>\n",
       "<circle clip-path=\"url(#clip753)\" cx=\"2185.36\" cy=\"800.191\" r=\"14\" fill=\"#ab00ff\" fill-rule=\"evenodd\" fill-opacity=\"1\" stroke=\"#000000\" stroke-opacity=\"1\" stroke-width=\"2.4\"/>\n",
       "<circle clip-path=\"url(#clip753)\" cx=\"2307.72\" cy=\"878.231\" r=\"14\" fill=\"#ff00d9\" fill-rule=\"evenodd\" fill-opacity=\"1\" stroke=\"#000000\" stroke-opacity=\"1\" stroke-width=\"2.4\"/>\n",
       "<circle clip-path=\"url(#clip753)\" cx=\"2285.5\" cy=\"848.963\" r=\"14\" fill=\"#ff00e9\" fill-rule=\"evenodd\" fill-opacity=\"1\" stroke=\"#000000\" stroke-opacity=\"1\" stroke-width=\"2.4\"/>\n",
       "<circle clip-path=\"url(#clip753)\" cx=\"2316.89\" cy=\"952.554\" r=\"14\" fill=\"#ff00f5\" fill-rule=\"evenodd\" fill-opacity=\"1\" stroke=\"#000000\" stroke-opacity=\"1\" stroke-width=\"2.4\"/>\n",
       "<circle clip-path=\"url(#clip753)\" cx=\"2306.98\" cy=\"714.528\" r=\"14\" fill=\"#ff007c\" fill-rule=\"evenodd\" fill-opacity=\"1\" stroke=\"#000000\" stroke-opacity=\"1\" stroke-width=\"2.4\"/>\n",
       "<circle clip-path=\"url(#clip753)\" cx=\"2303.25\" cy=\"791.951\" r=\"14\" fill=\"#ff00ad\" fill-rule=\"evenodd\" fill-opacity=\"1\" stroke=\"#000000\" stroke-opacity=\"1\" stroke-width=\"2.4\"/>\n",
       "<circle clip-path=\"url(#clip753)\" cx=\"2364.58\" cy=\"977.215\" r=\"14\" fill=\"#ff00be\" fill-rule=\"evenodd\" fill-opacity=\"1\" stroke=\"#000000\" stroke-opacity=\"1\" stroke-width=\"2.4\"/>\n",
       "<circle clip-path=\"url(#clip753)\" cx=\"2337.45\" cy=\"985.812\" r=\"14\" fill=\"#ff00ea\" fill-rule=\"evenodd\" fill-opacity=\"1\" stroke=\"#000000\" stroke-opacity=\"1\" stroke-width=\"2.4\"/>\n",
       "<circle clip-path=\"url(#clip753)\" cx=\"2334.36\" cy=\"1049.29\" r=\"14\" fill=\"#ef00ff\" fill-rule=\"evenodd\" fill-opacity=\"1\" stroke=\"#000000\" stroke-opacity=\"1\" stroke-width=\"2.4\"/>\n",
       "<circle clip-path=\"url(#clip753)\" cx=\"2353.58\" cy=\"1007.72\" r=\"14\" fill=\"#ff00df\" fill-rule=\"evenodd\" fill-opacity=\"1\" stroke=\"#000000\" stroke-opacity=\"1\" stroke-width=\"2.4\"/>\n",
       "<circle clip-path=\"url(#clip753)\" cx=\"2319.52\" cy=\"995.59\" r=\"14\" fill=\"#f600ff\" fill-rule=\"evenodd\" fill-opacity=\"1\" stroke=\"#000000\" stroke-opacity=\"1\" stroke-width=\"2.4\"/>\n",
       "<circle clip-path=\"url(#clip753)\" cx=\"2349.46\" cy=\"999.355\" r=\"14\" fill=\"#ff00e0\" fill-rule=\"evenodd\" fill-opacity=\"1\" stroke=\"#000000\" stroke-opacity=\"1\" stroke-width=\"2.4\"/>\n",
       "<circle clip-path=\"url(#clip753)\" cx=\"2339.87\" cy=\"985.228\" r=\"14\" fill=\"#ff00e6\" fill-rule=\"evenodd\" fill-opacity=\"1\" stroke=\"#000000\" stroke-opacity=\"1\" stroke-width=\"2.4\"/>\n",
       "<circle clip-path=\"url(#clip753)\" cx=\"2893.05\" cy=\"1007.64\" r=\"14\" fill=\"#9900ff\" fill-rule=\"evenodd\" fill-opacity=\"1\" stroke=\"#000000\" stroke-opacity=\"1\" stroke-width=\"2.4\"/>\n",
       "<circle clip-path=\"url(#clip753)\" cx=\"2872.64\" cy=\"1037.77\" r=\"14\" fill=\"#eb00ff\" fill-rule=\"evenodd\" fill-opacity=\"1\" stroke=\"#000000\" stroke-opacity=\"1\" stroke-width=\"2.4\"/>\n",
       "<circle clip-path=\"url(#clip753)\" cx=\"2888.02\" cy=\"964.306\" r=\"14\" fill=\"#8d00ff\" fill-rule=\"evenodd\" fill-opacity=\"1\" stroke=\"#000000\" stroke-opacity=\"1\" stroke-width=\"2.4\"/>\n",
       "<circle clip-path=\"url(#clip753)\" cx=\"2884.42\" cy=\"965.431\" r=\"14\" fill=\"#9700ff\" fill-rule=\"evenodd\" fill-opacity=\"1\" stroke=\"#000000\" stroke-opacity=\"1\" stroke-width=\"2.4\"/>\n",
       "<circle clip-path=\"url(#clip753)\" cx=\"2861.01\" cy=\"998.244\" r=\"14\" fill=\"#f300ff\" fill-rule=\"evenodd\" fill-opacity=\"1\" stroke=\"#000000\" stroke-opacity=\"1\" stroke-width=\"2.4\"/>\n",
       "<circle clip-path=\"url(#clip753)\" cx=\"2887.73\" cy=\"996.07\" r=\"14\" fill=\"#a000ff\" fill-rule=\"evenodd\" fill-opacity=\"1\" stroke=\"#000000\" stroke-opacity=\"1\" stroke-width=\"2.4\"/>\n",
       "<circle clip-path=\"url(#clip753)\" cx=\"2850.47\" cy=\"978.273\" r=\"14\" fill=\"#ff00f8\" fill-rule=\"evenodd\" fill-opacity=\"1\" stroke=\"#000000\" stroke-opacity=\"1\" stroke-width=\"2.4\"/>\n",
       "<circle clip-path=\"url(#clip753)\" cx=\"2854.16\" cy=\"120.38\" r=\"14\" fill=\"#6300ff\" fill-rule=\"evenodd\" fill-opacity=\"1\" stroke=\"#000000\" stroke-opacity=\"1\" stroke-width=\"2.4\"/>\n",
       "<circle clip-path=\"url(#clip753)\" cx=\"2863.9\" cy=\"125.743\" r=\"14\" fill=\"#6200ff\" fill-rule=\"evenodd\" fill-opacity=\"1\" stroke=\"#000000\" stroke-opacity=\"1\" stroke-width=\"2.4\"/>\n",
       "<circle clip-path=\"url(#clip753)\" cx=\"3147.49\" cy=\"76.43\" r=\"14\" fill=\"#ff00ea\" fill-rule=\"evenodd\" fill-opacity=\"1\" stroke=\"#000000\" stroke-opacity=\"1\" stroke-width=\"2.4\"/>\n",
       "<circle clip-path=\"url(#clip753)\" cx=\"3141.4\" cy=\"147.922\" r=\"14\" fill=\"#e200ff\" fill-rule=\"evenodd\" fill-opacity=\"1\" stroke=\"#000000\" stroke-opacity=\"1\" stroke-width=\"2.4\"/>\n",
       "<circle clip-path=\"url(#clip753)\" cx=\"3141.73\" cy=\"176.359\" r=\"14\" fill=\"#d400ff\" fill-rule=\"evenodd\" fill-opacity=\"1\" stroke=\"#000000\" stroke-opacity=\"1\" stroke-width=\"2.4\"/>\n",
       "<path clip-path=\"url(#clip750)\" d=\"\n",
       "M3422.76 1078.48 L4272.76 1078.48 L4272.76 47.2441 L3422.76 47.2441  Z\n",
       "  \" fill=\"#ffffff\" fill-rule=\"evenodd\" fill-opacity=\"1\"/>\n",
       "<defs>\n",
       "  <clipPath id=\"clip754\">\n",
       "    <rect x=\"3422\" y=\"47\" width=\"851\" height=\"1032\"/>\n",
       "  </clipPath>\n",
       "</defs>\n",
       "<polyline clip-path=\"url(#clip754)\" style=\"stroke:#000000; stroke-linecap:butt; stroke-linejoin:round; stroke-width:2; stroke-opacity:0.1; fill:none\" points=\"\n",
       "  3422.76,1078.48 3422.76,47.2441 \n",
       "  \"/>\n",
       "<polyline clip-path=\"url(#clip754)\" style=\"stroke:#000000; stroke-linecap:butt; stroke-linejoin:round; stroke-width:2; stroke-opacity:0.1; fill:none\" points=\"\n",
       "  3592.76,1078.48 3592.76,47.2441 \n",
       "  \"/>\n",
       "<polyline clip-path=\"url(#clip754)\" style=\"stroke:#000000; stroke-linecap:butt; stroke-linejoin:round; stroke-width:2; stroke-opacity:0.1; fill:none\" points=\"\n",
       "  3762.76,1078.48 3762.76,47.2441 \n",
       "  \"/>\n",
       "<polyline clip-path=\"url(#clip754)\" style=\"stroke:#000000; stroke-linecap:butt; stroke-linejoin:round; stroke-width:2; stroke-opacity:0.1; fill:none\" points=\"\n",
       "  3932.76,1078.48 3932.76,47.2441 \n",
       "  \"/>\n",
       "<polyline clip-path=\"url(#clip754)\" style=\"stroke:#000000; stroke-linecap:butt; stroke-linejoin:round; stroke-width:2; stroke-opacity:0.1; fill:none\" points=\"\n",
       "  4102.76,1078.48 4102.76,47.2441 \n",
       "  \"/>\n",
       "<polyline clip-path=\"url(#clip754)\" style=\"stroke:#000000; stroke-linecap:butt; stroke-linejoin:round; stroke-width:2; stroke-opacity:0.1; fill:none\" points=\"\n",
       "  4272.76,1078.48 4272.76,47.2441 \n",
       "  \"/>\n",
       "<polyline clip-path=\"url(#clip750)\" style=\"stroke:#000000; stroke-linecap:butt; stroke-linejoin:round; stroke-width:4; stroke-opacity:1; fill:none\" points=\"\n",
       "  3422.76,1078.48 4272.76,1078.48 \n",
       "  \"/>\n",
       "<polyline clip-path=\"url(#clip750)\" style=\"stroke:#000000; stroke-linecap:butt; stroke-linejoin:round; stroke-width:4; stroke-opacity:1; fill:none\" points=\"\n",
       "  3422.76,1078.48 3422.76,1059.58 \n",
       "  \"/>\n",
       "<polyline clip-path=\"url(#clip750)\" style=\"stroke:#000000; stroke-linecap:butt; stroke-linejoin:round; stroke-width:4; stroke-opacity:1; fill:none\" points=\"\n",
       "  3592.76,1078.48 3592.76,1059.58 \n",
       "  \"/>\n",
       "<polyline clip-path=\"url(#clip750)\" style=\"stroke:#000000; stroke-linecap:butt; stroke-linejoin:round; stroke-width:4; stroke-opacity:1; fill:none\" points=\"\n",
       "  3762.76,1078.48 3762.76,1059.58 \n",
       "  \"/>\n",
       "<polyline clip-path=\"url(#clip750)\" style=\"stroke:#000000; stroke-linecap:butt; stroke-linejoin:round; stroke-width:4; stroke-opacity:1; fill:none\" points=\"\n",
       "  3932.76,1078.48 3932.76,1059.58 \n",
       "  \"/>\n",
       "<polyline clip-path=\"url(#clip750)\" style=\"stroke:#000000; stroke-linecap:butt; stroke-linejoin:round; stroke-width:4; stroke-opacity:1; fill:none\" points=\"\n",
       "  4102.76,1078.48 4102.76,1059.58 \n",
       "  \"/>\n",
       "<polyline clip-path=\"url(#clip750)\" style=\"stroke:#000000; stroke-linecap:butt; stroke-linejoin:round; stroke-width:4; stroke-opacity:1; fill:none\" points=\"\n",
       "  4272.76,1078.48 4272.76,1059.58 \n",
       "  \"/>\n",
       "<path clip-path=\"url(#clip750)\" d=\"M3400.15 1126.87 Q3396.53 1126.87 3394.71 1130.44 Q3392.9 1133.98 3392.9 1141.11 Q3392.9 1148.21 3394.71 1151.78 Q3396.53 1155.32 3400.15 1155.32 Q3403.78 1155.32 3405.58 1151.78 Q3407.41 1148.21 3407.41 1141.11 Q3407.41 1133.98 3405.58 1130.44 Q3403.78 1126.87 3400.15 1126.87 M3400.15 1123.17 Q3405.96 1123.17 3409.01 1127.77 Q3412.09 1132.36 3412.09 1141.11 Q3412.09 1149.83 3409.01 1154.44 Q3405.96 1159.02 3400.15 1159.02 Q3394.33 1159.02 3391.26 1154.44 Q3388.2 1149.83 3388.2 1141.11 Q3388.2 1132.36 3391.26 1127.77 Q3394.33 1123.17 3400.15 1123.17 Z\" fill=\"#000000\" fill-rule=\"evenodd\" fill-opacity=\"1\" /><path clip-path=\"url(#clip750)\" d=\"M3420.31 1152.47 L3425.19 1152.47 L3425.19 1158.35 L3420.31 1158.35 L3420.31 1152.47 Z\" fill=\"#000000\" fill-rule=\"evenodd\" fill-opacity=\"1\" /><path clip-path=\"url(#clip750)\" d=\"M3445.38 1126.87 Q3441.77 1126.87 3439.94 1130.44 Q3438.13 1133.98 3438.13 1141.11 Q3438.13 1148.21 3439.94 1151.78 Q3441.77 1155.32 3445.38 1155.32 Q3449.01 1155.32 3450.82 1151.78 Q3452.64 1148.21 3452.64 1141.11 Q3452.64 1133.98 3450.82 1130.44 Q3449.01 1126.87 3445.38 1126.87 M3445.38 1123.17 Q3451.19 1123.17 3454.24 1127.77 Q3457.32 1132.36 3457.32 1141.11 Q3457.32 1149.83 3454.24 1154.44 Q3451.19 1159.02 3445.38 1159.02 Q3439.57 1159.02 3436.49 1154.44 Q3433.43 1149.83 3433.43 1141.11 Q3433.43 1132.36 3436.49 1127.77 Q3439.57 1123.17 3445.38 1123.17 Z\" fill=\"#000000\" fill-rule=\"evenodd\" fill-opacity=\"1\" /><path clip-path=\"url(#clip750)\" d=\"M3570.64 1126.87 Q3567.03 1126.87 3565.2 1130.44 Q3563.4 1133.98 3563.4 1141.11 Q3563.4 1148.21 3565.2 1151.78 Q3567.03 1155.32 3570.64 1155.32 Q3574.28 1155.32 3576.08 1151.78 Q3577.91 1148.21 3577.91 1141.11 Q3577.91 1133.98 3576.08 1130.44 Q3574.28 1126.87 3570.64 1126.87 M3570.64 1123.17 Q3576.45 1123.17 3579.51 1127.77 Q3582.59 1132.36 3582.59 1141.11 Q3582.59 1149.83 3579.51 1154.44 Q3576.45 1159.02 3570.64 1159.02 Q3564.83 1159.02 3561.75 1154.44 Q3558.7 1149.83 3558.7 1141.11 Q3558.7 1132.36 3561.75 1127.77 Q3564.83 1123.17 3570.64 1123.17 Z\" fill=\"#000000\" fill-rule=\"evenodd\" fill-opacity=\"1\" /><path clip-path=\"url(#clip750)\" d=\"M3590.8 1152.47 L3595.69 1152.47 L3595.69 1158.35 L3590.8 1158.35 L3590.8 1152.47 Z\" fill=\"#000000\" fill-rule=\"evenodd\" fill-opacity=\"1\" /><path clip-path=\"url(#clip750)\" d=\"M3605.92 1123.79 L3624.28 1123.79 L3624.28 1127.73 L3610.2 1127.73 L3610.2 1136.2 Q3611.22 1135.85 3612.24 1135.69 Q3613.26 1135.5 3614.28 1135.5 Q3620.06 1135.5 3623.44 1138.68 Q3626.82 1141.85 3626.82 1147.26 Q3626.82 1152.84 3623.35 1155.94 Q3619.88 1159.02 3613.56 1159.02 Q3611.38 1159.02 3609.11 1158.65 Q3606.87 1158.28 3604.46 1157.54 L3604.46 1152.84 Q3606.54 1153.98 3608.77 1154.53 Q3610.99 1155.09 3613.47 1155.09 Q3617.47 1155.09 3619.81 1152.98 Q3622.15 1150.88 3622.15 1147.26 Q3622.15 1143.65 3619.81 1141.55 Q3617.47 1139.44 3613.47 1139.44 Q3611.59 1139.44 3609.72 1139.86 Q3607.86 1140.27 3605.92 1141.15 L3605.92 1123.79 Z\" fill=\"#000000\" fill-rule=\"evenodd\" fill-opacity=\"1\" /><path clip-path=\"url(#clip750)\" d=\"M3729.91 1154.42 L3737.55 1154.42 L3737.55 1128.05 L3729.24 1129.72 L3729.24 1125.46 L3737.5 1123.79 L3742.18 1123.79 L3742.18 1154.42 L3749.82 1154.42 L3749.82 1158.35 L3729.91 1158.35 L3729.91 1154.42 Z\" fill=\"#000000\" fill-rule=\"evenodd\" fill-opacity=\"1\" /><path clip-path=\"url(#clip750)\" d=\"M3759.26 1152.47 L3764.15 1152.47 L3764.15 1158.35 L3759.26 1158.35 L3759.26 1152.47 Z\" fill=\"#000000\" fill-rule=\"evenodd\" fill-opacity=\"1\" /><path clip-path=\"url(#clip750)\" d=\"M3784.33 1126.87 Q3780.72 1126.87 3778.89 1130.44 Q3777.09 1133.98 3777.09 1141.11 Q3777.09 1148.21 3778.89 1151.78 Q3780.72 1155.32 3784.33 1155.32 Q3787.97 1155.32 3789.77 1151.78 Q3791.6 1148.21 3791.6 1141.11 Q3791.6 1133.98 3789.77 1130.44 Q3787.97 1126.87 3784.33 1126.87 M3784.33 1123.17 Q3790.14 1123.17 3793.2 1127.77 Q3796.28 1132.36 3796.28 1141.11 Q3796.28 1149.83 3793.2 1154.44 Q3790.14 1159.02 3784.33 1159.02 Q3778.52 1159.02 3775.44 1154.44 Q3772.39 1149.83 3772.39 1141.11 Q3772.39 1132.36 3775.44 1127.77 Q3778.52 1123.17 3784.33 1123.17 Z\" fill=\"#000000\" fill-rule=\"evenodd\" fill-opacity=\"1\" /><path clip-path=\"url(#clip750)\" d=\"M3900.41 1154.42 L3908.05 1154.42 L3908.05 1128.05 L3899.74 1129.72 L3899.74 1125.46 L3908 1123.79 L3912.68 1123.79 L3912.68 1154.42 L3920.32 1154.42 L3920.32 1158.35 L3900.41 1158.35 L3900.41 1154.42 Z\" fill=\"#000000\" fill-rule=\"evenodd\" fill-opacity=\"1\" /><path clip-path=\"url(#clip750)\" d=\"M3929.76 1152.47 L3934.64 1152.47 L3934.64 1158.35 L3929.76 1158.35 L3929.76 1152.47 Z\" fill=\"#000000\" fill-rule=\"evenodd\" fill-opacity=\"1\" /><path clip-path=\"url(#clip750)\" d=\"M3944.88 1123.79 L3963.23 1123.79 L3963.23 1127.73 L3949.16 1127.73 L3949.16 1136.2 Q3950.18 1135.85 3951.2 1135.69 Q3952.21 1135.5 3953.23 1135.5 Q3959.02 1135.5 3962.4 1138.68 Q3965.78 1141.85 3965.78 1147.26 Q3965.78 1152.84 3962.31 1155.94 Q3958.83 1159.02 3952.51 1159.02 Q3950.34 1159.02 3948.07 1158.65 Q3945.82 1158.28 3943.42 1157.54 L3943.42 1152.84 Q3945.5 1153.98 3947.72 1154.53 Q3949.95 1155.09 3952.42 1155.09 Q3956.43 1155.09 3958.76 1152.98 Q3961.1 1150.88 3961.1 1147.26 Q3961.1 1143.65 3958.76 1141.55 Q3956.43 1139.44 3952.42 1139.44 Q3950.55 1139.44 3948.67 1139.86 Q3946.82 1140.27 3944.88 1141.15 L3944.88 1123.79 Z\" fill=\"#000000\" fill-rule=\"evenodd\" fill-opacity=\"1\" /><path clip-path=\"url(#clip750)\" d=\"M4074 1154.42 L4090.31 1154.42 L4090.31 1158.35 L4068.37 1158.35 L4068.37 1154.42 Q4071.03 1151.66 4075.62 1147.03 Q4080.22 1142.38 4081.4 1141.04 Q4083.65 1138.51 4084.53 1136.78 Q4085.43 1135.02 4085.43 1133.33 Q4085.43 1130.57 4083.49 1128.84 Q4081.56 1127.1 4078.46 1127.1 Q4076.26 1127.1 4073.81 1127.87 Q4071.38 1128.63 4068.6 1130.18 L4068.6 1125.46 Q4071.43 1124.32 4073.88 1123.75 Q4076.33 1123.17 4078.37 1123.17 Q4083.74 1123.17 4086.94 1125.85 Q4090.13 1128.54 4090.13 1133.03 Q4090.13 1135.16 4089.32 1137.08 Q4088.53 1138.98 4086.43 1141.57 Q4085.85 1142.24 4082.75 1145.46 Q4079.64 1148.65 4074 1154.42 Z\" fill=\"#000000\" fill-rule=\"evenodd\" fill-opacity=\"1\" /><path clip-path=\"url(#clip750)\" d=\"M4100.13 1152.47 L4105.01 1152.47 L4105.01 1158.35 L4100.13 1158.35 L4100.13 1152.47 Z\" fill=\"#000000\" fill-rule=\"evenodd\" fill-opacity=\"1\" /><path clip-path=\"url(#clip750)\" d=\"M4125.2 1126.87 Q4121.59 1126.87 4119.76 1130.44 Q4117.95 1133.98 4117.95 1141.11 Q4117.95 1148.21 4119.76 1151.78 Q4121.59 1155.32 4125.2 1155.32 Q4128.83 1155.32 4130.64 1151.78 Q4132.47 1148.21 4132.47 1141.11 Q4132.47 1133.98 4130.64 1130.44 Q4128.83 1126.87 4125.2 1126.87 M4125.2 1123.17 Q4131.01 1123.17 4134.06 1127.77 Q4137.14 1132.36 4137.14 1141.11 Q4137.14 1149.83 4134.06 1154.44 Q4131.01 1159.02 4125.2 1159.02 Q4119.39 1159.02 4116.31 1154.44 Q4113.25 1149.83 4113.25 1141.11 Q4113.25 1132.36 4116.31 1127.77 Q4119.39 1123.17 4125.2 1123.17 Z\" fill=\"#000000\" fill-rule=\"evenodd\" fill-opacity=\"1\" /><path clip-path=\"url(#clip750)\" d=\"M4244.49 1154.42 L4260.81 1154.42 L4260.81 1158.35 L4238.87 1158.35 L4238.87 1154.42 Q4241.53 1151.66 4246.11 1147.03 Q4250.72 1142.38 4251.9 1141.04 Q4254.14 1138.51 4255.02 1136.78 Q4255.93 1135.02 4255.93 1133.33 Q4255.93 1130.57 4253.98 1128.84 Q4252.06 1127.1 4248.96 1127.1 Q4246.76 1127.1 4244.31 1127.87 Q4241.88 1128.63 4239.1 1130.18 L4239.1 1125.46 Q4241.92 1124.32 4244.38 1123.75 Q4246.83 1123.17 4248.87 1123.17 Q4254.24 1123.17 4257.43 1125.85 Q4260.63 1128.54 4260.63 1133.03 Q4260.63 1135.16 4259.82 1137.08 Q4259.03 1138.98 4256.92 1141.57 Q4256.34 1142.24 4253.24 1145.46 Q4250.14 1148.65 4244.49 1154.42 Z\" fill=\"#000000\" fill-rule=\"evenodd\" fill-opacity=\"1\" /><path clip-path=\"url(#clip750)\" d=\"M4270.63 1152.47 L4275.51 1152.47 L4275.51 1158.35 L4270.63 1158.35 L4270.63 1152.47 Z\" fill=\"#000000\" fill-rule=\"evenodd\" fill-opacity=\"1\" /><path clip-path=\"url(#clip750)\" d=\"M4285.74 1123.79 L4304.1 1123.79 L4304.1 1127.73 L4290.02 1127.73 L4290.02 1136.2 Q4291.04 1135.85 4292.06 1135.69 Q4293.08 1135.5 4294.1 1135.5 Q4299.89 1135.5 4303.27 1138.68 Q4306.64 1141.85 4306.64 1147.26 Q4306.64 1152.84 4303.17 1155.94 Q4299.7 1159.02 4293.38 1159.02 Q4291.2 1159.02 4288.94 1158.65 Q4286.69 1158.28 4284.28 1157.54 L4284.28 1152.84 Q4286.37 1153.98 4288.59 1154.53 Q4290.81 1155.09 4293.29 1155.09 Q4297.29 1155.09 4299.63 1152.98 Q4301.97 1150.88 4301.97 1147.26 Q4301.97 1143.65 4299.63 1141.55 Q4297.29 1139.44 4293.29 1139.44 Q4291.41 1139.44 4289.54 1139.86 Q4287.69 1140.27 4285.74 1141.15 L4285.74 1123.79 Z\" fill=\"#000000\" fill-rule=\"evenodd\" fill-opacity=\"1\" /><polyline clip-path=\"url(#clip754)\" style=\"stroke:#000000; stroke-linecap:butt; stroke-linejoin:round; stroke-width:2; stroke-opacity:0.1; fill:none\" points=\"\n",
       "  3422.76,1078.48 4272.76,1078.48 \n",
       "  \"/>\n",
       "<polyline clip-path=\"url(#clip754)\" style=\"stroke:#000000; stroke-linecap:butt; stroke-linejoin:round; stroke-width:2; stroke-opacity:0.1; fill:none\" points=\"\n",
       "  3422.76,872.233 4272.76,872.233 \n",
       "  \"/>\n",
       "<polyline clip-path=\"url(#clip754)\" style=\"stroke:#000000; stroke-linecap:butt; stroke-linejoin:round; stroke-width:2; stroke-opacity:0.1; fill:none\" points=\"\n",
       "  3422.76,665.986 4272.76,665.986 \n",
       "  \"/>\n",
       "<polyline clip-path=\"url(#clip754)\" style=\"stroke:#000000; stroke-linecap:butt; stroke-linejoin:round; stroke-width:2; stroke-opacity:0.1; fill:none\" points=\"\n",
       "  3422.76,459.738 4272.76,459.738 \n",
       "  \"/>\n",
       "<polyline clip-path=\"url(#clip754)\" style=\"stroke:#000000; stroke-linecap:butt; stroke-linejoin:round; stroke-width:2; stroke-opacity:0.1; fill:none\" points=\"\n",
       "  3422.76,253.491 4272.76,253.491 \n",
       "  \"/>\n",
       "<polyline clip-path=\"url(#clip754)\" style=\"stroke:#000000; stroke-linecap:butt; stroke-linejoin:round; stroke-width:2; stroke-opacity:0.1; fill:none\" points=\"\n",
       "  3422.76,47.2441 4272.76,47.2441 \n",
       "  \"/>\n",
       "<polyline clip-path=\"url(#clip750)\" style=\"stroke:#000000; stroke-linecap:butt; stroke-linejoin:round; stroke-width:4; stroke-opacity:1; fill:none\" points=\"\n",
       "  3422.76,1078.48 3422.76,47.2441 \n",
       "  \"/>\n",
       "<polyline clip-path=\"url(#clip750)\" style=\"stroke:#000000; stroke-linecap:butt; stroke-linejoin:round; stroke-width:4; stroke-opacity:1; fill:none\" points=\"\n",
       "  3422.76,1078.48 3434.84,1078.48 \n",
       "  \"/>\n",
       "<polyline clip-path=\"url(#clip750)\" style=\"stroke:#000000; stroke-linecap:butt; stroke-linejoin:round; stroke-width:4; stroke-opacity:1; fill:none\" points=\"\n",
       "  3422.76,872.233 3434.84,872.233 \n",
       "  \"/>\n",
       "<polyline clip-path=\"url(#clip750)\" style=\"stroke:#000000; stroke-linecap:butt; stroke-linejoin:round; stroke-width:4; stroke-opacity:1; fill:none\" points=\"\n",
       "  3422.76,665.986 3434.84,665.986 \n",
       "  \"/>\n",
       "<polyline clip-path=\"url(#clip750)\" style=\"stroke:#000000; stroke-linecap:butt; stroke-linejoin:round; stroke-width:4; stroke-opacity:1; fill:none\" points=\"\n",
       "  3422.76,459.738 3434.84,459.738 \n",
       "  \"/>\n",
       "<polyline clip-path=\"url(#clip750)\" style=\"stroke:#000000; stroke-linecap:butt; stroke-linejoin:round; stroke-width:4; stroke-opacity:1; fill:none\" points=\"\n",
       "  3422.76,253.491 3434.84,253.491 \n",
       "  \"/>\n",
       "<polyline clip-path=\"url(#clip750)\" style=\"stroke:#000000; stroke-linecap:butt; stroke-linejoin:round; stroke-width:4; stroke-opacity:1; fill:none\" points=\"\n",
       "  3422.76,47.2441 3434.84,47.2441 \n",
       "  \"/>\n",
       "<path clip-path=\"url(#clip750)\" d=\"M3293.59 1064.28 Q3289.97 1064.28 3288.15 1067.84 Q3286.34 1071.38 3286.34 1078.51 Q3286.34 1085.62 3288.15 1089.19 Q3289.97 1092.73 3293.59 1092.73 Q3297.22 1092.73 3299.02 1089.19 Q3300.85 1085.62 3300.85 1078.51 Q3300.85 1071.38 3299.02 1067.84 Q3297.22 1064.28 3293.59 1064.28 M3293.59 1060.57 Q3299.4 1060.57 3302.45 1065.18 Q3305.53 1069.76 3305.53 1078.51 Q3305.53 1087.24 3302.45 1091.85 Q3299.4 1096.43 3293.59 1096.43 Q3287.77 1096.43 3284.7 1091.85 Q3281.64 1087.24 3281.64 1078.51 Q3281.64 1069.76 3284.7 1065.18 Q3287.77 1060.57 3293.59 1060.57 Z\" fill=\"#000000\" fill-rule=\"evenodd\" fill-opacity=\"1\" /><path clip-path=\"url(#clip750)\" d=\"M3313.75 1089.88 L3318.63 1089.88 L3318.63 1095.76 L3313.75 1095.76 L3313.75 1089.88 Z\" fill=\"#000000\" fill-rule=\"evenodd\" fill-opacity=\"1\" /><path clip-path=\"url(#clip750)\" d=\"M3338.82 1064.28 Q3335.21 1064.28 3333.38 1067.84 Q3331.57 1071.38 3331.57 1078.51 Q3331.57 1085.62 3333.38 1089.19 Q3335.21 1092.73 3338.82 1092.73 Q3342.45 1092.73 3344.26 1089.19 Q3346.08 1085.62 3346.08 1078.51 Q3346.08 1071.38 3344.26 1067.84 Q3342.45 1064.28 3338.82 1064.28 M3338.82 1060.57 Q3344.63 1060.57 3347.68 1065.18 Q3350.76 1069.76 3350.76 1078.51 Q3350.76 1087.24 3347.68 1091.85 Q3344.63 1096.43 3338.82 1096.43 Q3333.01 1096.43 3329.93 1091.85 Q3326.87 1087.24 3326.87 1078.51 Q3326.87 1069.76 3329.93 1065.18 Q3333.01 1060.57 3338.82 1060.57 Z\" fill=\"#000000\" fill-rule=\"evenodd\" fill-opacity=\"1\" /><path clip-path=\"url(#clip750)\" d=\"M3295.18 858.031 Q3291.57 858.031 3289.74 861.596 Q3287.94 865.138 3287.94 872.267 Q3287.94 879.374 3289.74 882.939 Q3291.57 886.48 3295.18 886.48 Q3298.82 886.48 3300.62 882.939 Q3302.45 879.374 3302.45 872.267 Q3302.45 865.138 3300.62 861.596 Q3298.82 858.031 3295.18 858.031 M3295.18 854.328 Q3300.99 854.328 3304.05 858.934 Q3307.13 863.517 3307.13 872.267 Q3307.13 880.994 3304.05 885.601 Q3300.99 890.184 3295.18 890.184 Q3289.37 890.184 3286.29 885.601 Q3283.24 880.994 3283.24 872.267 Q3283.24 863.517 3286.29 858.934 Q3289.37 854.328 3295.18 854.328 Z\" fill=\"#000000\" fill-rule=\"evenodd\" fill-opacity=\"1\" /><path clip-path=\"url(#clip750)\" d=\"M3315.34 883.633 L3320.23 883.633 L3320.23 889.513 L3315.34 889.513 L3315.34 883.633 Z\" fill=\"#000000\" fill-rule=\"evenodd\" fill-opacity=\"1\" /><path clip-path=\"url(#clip750)\" d=\"M3334.44 885.578 L3350.76 885.578 L3350.76 889.513 L3328.82 889.513 L3328.82 885.578 Q3331.48 882.823 3336.06 878.193 Q3340.67 873.541 3341.85 872.198 Q3344.09 869.675 3344.97 867.939 Q3345.88 866.179 3345.88 864.49 Q3345.88 861.735 3343.93 859.999 Q3342.01 858.263 3338.91 858.263 Q3336.71 858.263 3334.26 859.027 Q3331.83 859.791 3329.05 861.342 L3329.05 856.619 Q3331.87 855.485 3334.33 854.906 Q3336.78 854.328 3338.82 854.328 Q3344.19 854.328 3347.38 857.013 Q3350.58 859.698 3350.58 864.189 Q3350.58 866.318 3349.77 868.24 Q3348.98 870.138 3346.87 872.73 Q3346.29 873.402 3343.19 876.619 Q3340.09 879.814 3334.44 885.578 Z\" fill=\"#000000\" fill-rule=\"evenodd\" fill-opacity=\"1\" /><path clip-path=\"url(#clip750)\" d=\"M3293.1 651.784 Q3289.49 651.784 3287.66 655.349 Q3285.85 658.891 3285.85 666.02 Q3285.85 673.127 3287.66 676.692 Q3289.49 680.233 3293.1 680.233 Q3296.73 680.233 3298.54 676.692 Q3300.37 673.127 3300.37 666.02 Q3300.37 658.891 3298.54 655.349 Q3296.73 651.784 3293.1 651.784 M3293.1 648.081 Q3298.91 648.081 3301.96 652.687 Q3305.04 657.27 3305.04 666.02 Q3305.04 674.747 3301.96 679.354 Q3298.91 683.937 3293.1 683.937 Q3287.29 683.937 3284.21 679.354 Q3281.15 674.747 3281.15 666.02 Q3281.15 657.27 3284.21 652.687 Q3287.29 648.081 3293.1 648.081 Z\" fill=\"#000000\" fill-rule=\"evenodd\" fill-opacity=\"1\" /><path clip-path=\"url(#clip750)\" d=\"M3313.26 677.386 L3318.15 677.386 L3318.15 683.266 L3313.26 683.266 L3313.26 677.386 Z\" fill=\"#000000\" fill-rule=\"evenodd\" fill-opacity=\"1\" /><path clip-path=\"url(#clip750)\" d=\"M3341.18 652.78 L3329.37 671.229 L3341.18 671.229 L3341.18 652.78 M3339.95 648.706 L3345.83 648.706 L3345.83 671.229 L3350.76 671.229 L3350.76 675.117 L3345.83 675.117 L3345.83 683.266 L3341.18 683.266 L3341.18 675.117 L3325.58 675.117 L3325.58 670.604 L3339.95 648.706 Z\" fill=\"#000000\" fill-rule=\"evenodd\" fill-opacity=\"1\" /><path clip-path=\"url(#clip750)\" d=\"M3293.42 445.537 Q3289.81 445.537 3287.98 449.102 Q3286.18 452.644 3286.18 459.773 Q3286.18 466.88 3287.98 470.444 Q3289.81 473.986 3293.42 473.986 Q3297.06 473.986 3298.86 470.444 Q3300.69 466.88 3300.69 459.773 Q3300.69 452.644 3298.86 449.102 Q3297.06 445.537 3293.42 445.537 M3293.42 441.833 Q3299.23 441.833 3302.29 446.44 Q3305.37 451.023 3305.37 459.773 Q3305.37 468.5 3302.29 473.106 Q3299.23 477.69 3293.42 477.69 Q3287.61 477.69 3284.53 473.106 Q3281.48 468.5 3281.48 459.773 Q3281.48 451.023 3284.53 446.44 Q3287.61 441.833 3293.42 441.833 Z\" fill=\"#000000\" fill-rule=\"evenodd\" fill-opacity=\"1\" /><path clip-path=\"url(#clip750)\" d=\"M3313.59 471.139 L3318.47 471.139 L3318.47 477.018 L3313.59 477.018 L3313.59 471.139 Z\" fill=\"#000000\" fill-rule=\"evenodd\" fill-opacity=\"1\" /><path clip-path=\"url(#clip750)\" d=\"M3339.23 457.875 Q3336.08 457.875 3334.23 460.028 Q3332.4 462.181 3332.4 465.93 Q3332.4 469.657 3334.23 471.833 Q3336.08 473.986 3339.23 473.986 Q3342.38 473.986 3344.21 471.833 Q3346.06 469.657 3346.06 465.93 Q3346.06 462.181 3344.21 460.028 Q3342.38 457.875 3339.23 457.875 M3348.52 443.222 L3348.52 447.482 Q3346.76 446.648 3344.95 446.208 Q3343.17 445.769 3341.41 445.769 Q3336.78 445.769 3334.33 448.894 Q3331.9 452.019 3331.55 458.338 Q3332.91 456.324 3334.97 455.259 Q3337.03 454.171 3339.51 454.171 Q3344.72 454.171 3347.73 457.343 Q3350.76 460.491 3350.76 465.93 Q3350.76 471.255 3347.61 474.472 Q3344.46 477.69 3339.23 477.69 Q3333.24 477.69 3330.07 473.106 Q3326.9 468.5 3326.9 459.773 Q3326.9 451.579 3330.78 446.718 Q3334.67 441.833 3341.22 441.833 Q3342.98 441.833 3344.77 442.181 Q3346.57 442.528 3348.52 443.222 Z\" fill=\"#000000\" fill-rule=\"evenodd\" fill-opacity=\"1\" /><path clip-path=\"url(#clip750)\" d=\"M3293.68 239.29 Q3290.07 239.29 3288.24 242.855 Q3286.43 246.396 3286.43 253.526 Q3286.43 260.632 3288.24 264.197 Q3290.07 267.739 3293.68 267.739 Q3297.31 267.739 3299.12 264.197 Q3300.95 260.632 3300.95 253.526 Q3300.95 246.396 3299.12 242.855 Q3297.31 239.29 3293.68 239.29 M3293.68 235.586 Q3299.49 235.586 3302.54 240.193 Q3305.62 244.776 3305.62 253.526 Q3305.62 262.253 3302.54 266.859 Q3299.49 271.443 3293.68 271.443 Q3287.87 271.443 3284.79 266.859 Q3281.73 262.253 3281.73 253.526 Q3281.73 244.776 3284.79 240.193 Q3287.87 235.586 3293.68 235.586 Z\" fill=\"#000000\" fill-rule=\"evenodd\" fill-opacity=\"1\" /><path clip-path=\"url(#clip750)\" d=\"M3313.84 264.892 L3318.72 264.892 L3318.72 270.771 L3313.84 270.771 L3313.84 264.892 Z\" fill=\"#000000\" fill-rule=\"evenodd\" fill-opacity=\"1\" /><path clip-path=\"url(#clip750)\" d=\"M3338.91 254.359 Q3335.58 254.359 3333.65 256.142 Q3331.76 257.924 3331.76 261.049 Q3331.76 264.174 3333.65 265.956 Q3335.58 267.739 3338.91 267.739 Q3342.24 267.739 3344.16 265.956 Q3346.08 264.151 3346.08 261.049 Q3346.08 257.924 3344.16 256.142 Q3342.27 254.359 3338.91 254.359 M3334.23 252.369 Q3331.22 251.628 3329.53 249.568 Q3327.87 247.507 3327.87 244.545 Q3327.87 240.401 3330.81 237.994 Q3333.77 235.586 3338.91 235.586 Q3344.07 235.586 3347.01 237.994 Q3349.95 240.401 3349.95 244.545 Q3349.95 247.507 3348.26 249.568 Q3346.59 251.628 3343.61 252.369 Q3346.99 253.156 3348.86 255.447 Q3350.76 257.739 3350.76 261.049 Q3350.76 266.072 3347.68 268.757 Q3344.63 271.443 3338.91 271.443 Q3333.19 271.443 3330.11 268.757 Q3327.06 266.072 3327.06 261.049 Q3327.06 257.739 3328.96 255.447 Q3330.85 253.156 3334.23 252.369 M3332.52 244.984 Q3332.52 247.67 3334.19 249.174 Q3335.88 250.679 3338.91 250.679 Q3341.92 250.679 3343.61 249.174 Q3345.32 247.67 3345.32 244.984 Q3345.32 242.299 3343.61 240.795 Q3341.92 239.29 3338.91 239.29 Q3335.88 239.29 3334.19 240.795 Q3332.52 242.299 3332.52 244.984 Z\" fill=\"#000000\" fill-rule=\"evenodd\" fill-opacity=\"1\" /><path clip-path=\"url(#clip750)\" d=\"M3284.4 60.5889 L3292.03 60.5889 L3292.03 34.2233 L3283.72 35.89 L3283.72 31.6308 L3291.99 29.9641 L3296.66 29.9641 L3296.66 60.5889 L3304.3 60.5889 L3304.3 64.5241 L3284.4 64.5241 L3284.4 60.5889 Z\" fill=\"#000000\" fill-rule=\"evenodd\" fill-opacity=\"1\" /><path clip-path=\"url(#clip750)\" d=\"M3313.75 58.6445 L3318.63 58.6445 L3318.63 64.5241 L3313.75 64.5241 L3313.75 58.6445 Z\" fill=\"#000000\" fill-rule=\"evenodd\" fill-opacity=\"1\" /><path clip-path=\"url(#clip750)\" d=\"M3338.82 33.0428 Q3335.21 33.0428 3333.38 36.6076 Q3331.57 40.1492 3331.57 47.2788 Q3331.57 54.3853 3333.38 57.9501 Q3335.21 61.4917 3338.82 61.4917 Q3342.45 61.4917 3344.26 57.9501 Q3346.08 54.3853 3346.08 47.2788 Q3346.08 40.1492 3344.26 36.6076 Q3342.45 33.0428 3338.82 33.0428 M3338.82 29.3391 Q3344.63 29.3391 3347.68 33.9456 Q3350.76 38.5289 3350.76 47.2788 Q3350.76 56.0056 3347.68 60.6121 Q3344.63 65.1954 3338.82 65.1954 Q3333.01 65.1954 3329.93 60.6121 Q3326.87 56.0056 3326.87 47.2788 Q3326.87 38.5289 3329.93 33.9456 Q3333.01 29.3391 3338.82 29.3391 Z\" fill=\"#000000\" fill-rule=\"evenodd\" fill-opacity=\"1\" /><polyline clip-path=\"url(#clip754)\" style=\"stroke:#0f00f0; stroke-linecap:butt; stroke-linejoin:round; stroke-width:4; stroke-opacity:1; fill:none\" points=\"\n",
       "  3441.26,1078.48 3442.67,1068.17 3444.04,1057.86 3445.39,1047.54 3446.71,1037.23 3448.02,1026.92 3449.32,1016.61 3450.61,1006.29 3451.91,995.981 3453.21,985.669 \n",
       "  3454.52,975.356 3455.84,965.044 3456.76,957.895 3458.06,954.732 3462.19,944.419 3466.12,934.107 3469.88,923.794 3473.51,913.482 3477.02,903.17 3480.45,892.857 \n",
       "  3483.8,882.545 3487.11,872.233 3490.39,861.92 3490.76,860.766 3524.76,855.58 3528.17,861.92 3533.85,872.233 3539.75,882.545 3545.92,892.857 3552.39,903.17 \n",
       "  3558.76,912.813 3558.96,913.482 3562,923.794 3565.12,934.107 3568.34,944.419 3571.67,954.732 3575.13,965.044 3578.75,975.356 3582.56,985.669 3586.58,995.981 \n",
       "  3590.85,1006.29 3592.76,1010.76 3594.08,1016.61 3596.41,1026.92 3598.8,1037.23 3601.25,1047.54 3603.77,1057.86 3606.39,1068.17 3609.12,1078.48 \n",
       "  \"/>\n",
       "<polyline clip-path=\"url(#clip754)\" style=\"stroke:#1f00e0; stroke-linecap:butt; stroke-linejoin:round; stroke-width:4; stroke-opacity:1; fill:none\" points=\"\n",
       "  3637.31,1078.48 3635.01,1068.17 3632.74,1057.86 3630.48,1047.54 3628.22,1037.23 3626.76,1030.56 3625.6,1026.92 3622.41,1016.61 3619.34,1006.29 3616.38,995.981 \n",
       "  3613.51,985.669 3610.72,975.356 3607.99,965.044 3605.31,954.732 3602.67,944.419 3600.07,934.107 3597.49,923.794 3594.92,913.482 3592.76,904.787 3592.14,903.17 \n",
       "  3588.27,892.857 3584.52,882.545 3580.89,872.233 3577.36,861.92 3573.91,851.608 3570.52,841.296 3567.18,830.983 3563.89,820.671 3560.63,810.359 3558.76,804.434 \n",
       "  3556.1,800.046 3549.97,789.734 3544.01,779.421 3538.2,769.109 3532.52,758.797 3526.95,748.484 3524.76,744.399 3490.76,746.499 3490.03,748.484 3486.29,758.797 \n",
       "  3482.57,769.109 3478.85,779.421 3475.15,789.734 3471.44,800.046 3467.72,810.359 3463.97,820.671 3460.18,830.983 3456.76,840.137 3456.59,841.296 3455.11,851.608 \n",
       "  3453.61,861.92 3452.09,872.233 3450.55,882.545 3449.02,892.857 3447.48,903.17 3445.93,913.482 3444.39,923.794 3442.85,934.107 3441.31,944.419 3439.77,954.732 \n",
       "  3438.22,965.044 3436.66,975.356 3435.08,985.669 3433.49,995.981 3431.87,1006.29 3430.22,1016.61 3428.52,1026.92 3426.77,1037.23 3424.96,1047.54 3423.07,1057.86 \n",
       "  3422.76,1059.52 \n",
       "  \"/>\n",
       "<polyline clip-path=\"url(#clip754)\" style=\"stroke:#2f00d0; stroke-linecap:butt; stroke-linejoin:round; stroke-width:4; stroke-opacity:1; fill:none\" points=\"\n",
       "  3658.47,1078.48 3655.87,1068.17 3653.32,1057.86 3650.83,1047.54 3648.37,1037.23 3645.95,1026.92 3643.55,1016.61 3641.16,1006.29 3638.79,995.981 3636.43,985.669 \n",
       "  3634.07,975.356 3631.71,965.044 3629.36,954.732 3627.01,944.419 3626.76,943.321 3624.14,934.107 3621.27,923.794 3618.45,913.482 3615.68,903.17 3612.94,892.857 \n",
       "  3610.23,882.545 3607.54,872.233 3604.86,861.92 3602.2,851.608 3599.55,841.296 3596.91,830.983 3594.28,820.671 3592.76,814.69 3591.25,810.359 3587.7,800.046 \n",
       "  3584.21,789.734 3580.77,779.421 3577.36,769.109 3573.99,758.797 3570.65,748.484 3567.33,738.172 3564.04,727.86 3560.77,717.547 3558.76,711.174 3556.55,707.235 \n",
       "  3550.84,696.923 3545.23,686.61 3539.69,676.298 3534.24,665.986 3528.85,655.673 3524.76,647.747 3490.76,646.305 3487.29,655.673 3483.43,665.986 3479.54,676.298 \n",
       "  3475.62,686.61 3471.7,696.923 3467.78,707.235 3463.87,717.547 3459.97,727.86 3456.76,736.393 3456.54,738.172 3455.21,748.484 3453.82,758.797 3452.39,769.109 \n",
       "  3450.9,779.421 3449.38,789.734 3447.81,800.046 3446.2,810.359 3444.57,820.671 3442.91,830.983 3441.24,841.296 3439.55,851.608 3437.84,861.92 3436.14,872.233 \n",
       "  3434.43,882.545 3432.72,892.857 3431,903.17 3429.29,913.482 3427.57,923.794 3425.85,934.107 3424.12,944.419 3422.76,952.427 \n",
       "  \"/>\n",
       "<polyline clip-path=\"url(#clip754)\" style=\"stroke:#3f00c0; stroke-linecap:butt; stroke-linejoin:round; stroke-width:4; stroke-opacity:1; fill:none\" points=\"\n",
       "  3422.76,858.266 3423.98,851.608 3425.88,841.296 3427.77,830.983 3429.66,820.671 3431.54,810.359 3433.41,800.046 3435.24,789.734 3437.06,779.421 3438.83,769.109 \n",
       "  3440.57,758.797 3442.26,748.484 3443.91,738.172 3445.5,727.86 3447.04,717.547 3448.53,707.235 3449.96,696.923 3451.34,686.61 3452.67,676.298 3453.94,665.986 \n",
       "  3455.18,655.673 3456.36,645.361 3456.76,641.855 3459.52,635.048 3463.69,624.736 3467.81,614.424 3471.88,604.111 3475.86,593.799 3479.75,583.487 3483.53,573.174 \n",
       "  3487.18,562.862 3490.71,552.55 3490.76,552.396 3492.51,552.55 3524.76,555.416 3528.49,562.862 3533.7,573.174 3538.98,583.487 3544.32,593.799 3549.73,604.111 \n",
       "  3555.19,614.424 3558.76,621.112 3559.86,624.736 3563.03,635.048 3566.23,645.361 3569.47,655.673 3572.75,665.986 3576.05,676.298 3579.38,686.61 3582.74,696.923 \n",
       "  3586.11,707.235 3589.51,717.547 3592.76,727.339 3592.89,727.86 3595.44,738.172 3598.02,748.484 3600.62,758.797 3603.25,769.109 3605.9,779.421 3608.57,789.734 \n",
       "  3611.24,800.046 3613.93,810.359 3616.63,820.671 3619.34,830.983 3622.07,841.296 3624.81,851.608 3626.76,858.892 3627.43,861.92 3629.75,872.233 3632.08,882.545 \n",
       "  3634.43,892.857 3636.79,903.17 3639.16,913.482 3641.54,923.794 3643.93,934.107 3646.32,944.419 3648.71,954.732 3651.12,965.044 3653.53,975.356 3655.96,985.669 \n",
       "  3658.4,995.981 3660.76,1005.81 3660.86,1006.29 3663.07,1016.61 3665.28,1026.92 3667.5,1037.23 3669.73,1047.54 3671.96,1057.86 3674.2,1068.17 3676.43,1078.48 \n",
       "  \n",
       "  \"/>\n",
       "<polyline clip-path=\"url(#clip754)\" style=\"stroke:#4f00b0; stroke-linecap:butt; stroke-linejoin:round; stroke-width:4; stroke-opacity:1; fill:none\" points=\"\n",
       "  3694,1078.48 3691.75,1068.17 3689.51,1057.86 3687.26,1047.54 3685.01,1037.23 3682.76,1026.92 3680.52,1016.61 3678.27,1006.29 3676.03,995.981 3673.8,985.669 \n",
       "  3671.58,975.356 3669.37,965.044 3667.18,954.732 3665.02,944.419 3662.88,934.107 3660.77,923.794 3660.76,923.765 3658.34,913.482 3655.92,903.17 3653.5,892.857 \n",
       "  3651.08,882.545 3648.66,872.233 3646.26,861.92 3643.86,851.608 3641.48,841.296 3639.11,830.983 3636.77,820.671 3634.45,810.359 3632.16,800.046 3629.9,789.734 \n",
       "  3627.67,779.421 3626.76,775.172 3625.14,769.109 3622.39,758.797 3619.64,748.484 3616.91,738.172 3614.19,727.86 3611.49,717.547 3608.81,707.235 3606.15,696.923 \n",
       "  3603.53,686.61 3600.94,676.298 3598.39,665.986 3595.87,655.673 3593.4,645.361 3592.76,642.694 3590.2,635.048 3586.76,624.736 3583.35,614.424 3579.96,604.111 \n",
       "  3576.61,593.799 3573.3,583.487 3570.03,573.174 3566.8,562.862 3563.63,552.55 3560.5,542.237 3558.76,536.464 3556.32,531.925 3550.77,521.613 3545.29,511.3 \n",
       "  3539.86,500.988 3534.49,490.675 3529.18,480.363 3524.76,471.708 3490.76,470.492 3487.62,480.363 3484.21,490.675 3480.67,500.988 3477,511.3 3473.18,521.613 \n",
       "  3469.22,531.925 3465.13,542.237 3460.9,552.55 3456.76,562.378 3456.71,562.862 3455.53,573.174 3454.33,583.487 3453.11,593.799 3451.86,604.111 3450.57,614.424 \n",
       "  3449.25,624.736 3447.88,635.048 3446.47,645.361 3445.01,655.673 3443.49,665.986 3441.92,676.298 3440.29,686.61 3438.6,696.923 3436.85,707.235 3435.05,717.547 \n",
       "  3433.19,727.86 3431.28,738.172 3429.32,748.484 3427.32,758.797 3425.28,769.109 3423.21,779.421 3422.76,781.655 \n",
       "  \"/>\n",
       "<polyline clip-path=\"url(#clip754)\" style=\"stroke:#5f00a0; stroke-linecap:butt; stroke-linejoin:round; stroke-width:4; stroke-opacity:1; fill:none\" points=\"\n",
       "  3422.76,718.979 3423.06,717.547 3425.18,707.235 3427.24,696.923 3429.24,686.61 3431.17,676.298 3433.04,665.986 3434.84,655.673 3436.58,645.361 3438.26,635.048 \n",
       "  3439.88,624.736 3441.44,614.424 3442.95,604.111 3444.42,593.799 3445.84,583.487 3447.22,573.174 3448.57,562.862 3449.9,552.55 3451.2,542.237 3452.48,531.925 \n",
       "  3453.75,521.613 3455.01,511.3 3456.26,500.988 3456.76,496.959 3459.37,490.675 3463.55,480.363 3467.57,470.051 3471.45,459.738 3475.18,449.426 3478.78,439.114 \n",
       "  3482.25,428.801 3485.62,418.489 3488.88,408.177 3490.76,402.154 3524.76,400.395 3528.95,408.177 3534.53,418.489 3540.15,428.801 3545.81,439.114 3551.54,449.426 \n",
       "  3557.32,459.738 3558.76,462.313 3561.16,470.051 3564.37,480.363 3567.63,490.675 3570.92,500.988 3574.26,511.3 3577.65,521.613 3581.08,531.925 3584.56,542.237 \n",
       "  3588.08,552.55 3591.65,562.862 3592.76,566.069 3594.48,573.174 3596.99,583.487 3599.53,593.799 3602.11,604.111 3604.72,614.424 3607.37,624.736 3610.06,635.048 \n",
       "  3612.78,645.361 3615.53,655.673 3618.32,665.986 3621.14,676.298 3623.98,686.61 3626.76,696.637 3626.82,696.923 3629.02,707.235 3631.25,717.547 3633.5,727.86 \n",
       "  3635.79,738.172 3638.1,748.484 3640.45,758.797 3642.82,769.109 3645.23,779.421 3647.66,789.734 3650.11,800.046 3652.58,810.359 3655.07,820.671 3657.56,830.983 \n",
       "  3660.07,841.296 3660.76,844.164 3662.25,851.608 3664.34,861.92 3666.45,872.233 3668.59,882.545 3670.76,892.857 3672.95,903.17 3675.16,913.482 3677.39,923.794 \n",
       "  3679.65,934.107 3681.92,944.419 3684.2,954.732 3686.49,965.044 3688.79,975.356 3691.09,985.669 3693.39,995.981 3694.76,1002.17 3695.57,1006.29 3697.6,1016.61 \n",
       "  3699.65,1026.92 3701.72,1037.23 3703.82,1047.54 3705.94,1057.86 3708.07,1068.17 3710.22,1078.48 \n",
       "  \"/>\n",
       "<polyline clip-path=\"url(#clip754)\" style=\"stroke:#6f0090; stroke-linecap:butt; stroke-linejoin:round; stroke-width:4; stroke-opacity:1; fill:none\" points=\"\n",
       "  3726.37,1078.48 3724.13,1068.17 3721.89,1057.86 3719.66,1047.54 3717.43,1037.23 3715.23,1026.92 3713.04,1016.61 3710.87,1006.29 3708.71,995.981 3706.58,985.669 \n",
       "  3704.47,975.356 3702.37,965.044 3700.29,954.732 3698.23,944.419 3696.18,934.107 3694.76,926.983 3694.02,923.794 3691.64,913.482 3689.26,903.17 3686.9,892.857 \n",
       "  3684.56,882.545 3682.24,872.233 3679.95,861.92 3677.68,851.608 3675.43,841.296 3673.21,830.983 3671.02,820.671 3668.84,810.359 3666.68,800.046 3664.54,789.734 \n",
       "  3662.4,779.421 3660.76,771.449 3660.17,769.109 3657.58,758.797 3655.01,748.484 3652.47,738.172 3649.95,727.86 3647.47,717.547 3645.02,707.235 3642.6,696.923 \n",
       "  3640.21,686.61 3637.84,676.298 3635.5,665.986 3633.19,655.673 3630.88,645.361 3628.59,635.048 3626.76,626.789 3626.17,624.736 3623.24,614.424 3620.33,604.111 \n",
       "  3617.47,593.799 3614.65,583.487 3611.87,573.174 3609.12,562.862 3606.41,552.55 3603.73,542.237 3601.07,531.925 3598.44,521.613 3595.82,511.3 3593.21,500.988 \n",
       "  3592.76,499.206 3589.73,490.675 3586.1,480.363 3582.53,470.051 3579,459.738 3575.52,449.426 3572.08,439.114 3568.67,428.801 3565.29,418.489 3561.93,408.177 \n",
       "  3558.76,398.418 3558.44,397.864 3552.42,387.552 3546.45,377.24 3540.52,366.927 3534.61,356.615 3528.73,346.302 3524.76,339.353 3490.76,343.732 3489.95,346.302 \n",
       "  3486.71,356.615 3483.4,366.927 3480.02,377.24 3476.56,387.552 3472.99,397.864 3469.32,408.177 3465.52,418.489 3461.58,428.801 3457.49,439.114 3456.76,440.936 \n",
       "  3455.63,449.426 3454.27,459.738 3452.93,470.051 3451.59,480.363 3450.25,490.675 3448.9,500.988 3447.55,511.3 3446.18,521.613 3444.79,531.925 3443.38,542.237 \n",
       "  3441.93,552.55 3440.44,562.862 3438.92,573.174 3437.35,583.487 3435.73,593.799 3434.05,604.111 3432.31,614.424 3430.5,624.736 3428.63,635.048 3426.69,645.361 \n",
       "  3424.67,655.673 3422.76,665.138 \n",
       "  \"/>\n",
       "<polyline clip-path=\"url(#clip754)\" style=\"stroke:#7f0080; stroke-linecap:butt; stroke-linejoin:round; stroke-width:4; stroke-opacity:1; fill:none\" points=\"\n",
       "  3422.76,616.544 3423.17,614.424 3425.14,604.111 3427.03,593.799 3428.86,583.487 3430.62,573.174 3432.31,562.862 3433.96,552.55 3435.55,542.237 3437.1,531.925 \n",
       "  3438.61,521.613 3440.09,511.3 3441.54,500.988 3442.97,490.675 3444.38,480.363 3445.78,470.051 3447.17,459.738 3448.56,449.426 3449.96,439.114 3451.36,428.801 \n",
       "  3452.79,418.489 3454.23,408.177 3455.71,397.864 3456.76,390.645 3457.95,387.552 3461.84,377.24 3465.6,366.927 3469.27,356.615 3472.83,346.302 3476.32,335.99 \n",
       "  3479.74,325.678 3483.1,315.365 3486.43,305.053 3489.73,294.741 3490.76,291.542 3524.76,285.029 3530.6,294.741 3536.78,305.053 3542.94,315.365 3549.11,325.678 \n",
       "  3555.29,335.99 3558.76,341.766 3560.32,346.302 3563.85,356.615 3567.36,366.927 3570.88,377.24 3574.4,387.552 3577.95,397.864 3581.52,408.177 3585.12,418.489 \n",
       "  3588.77,428.801 3592.47,439.114 3592.76,439.917 3595.31,449.426 3598.05,459.738 3600.79,470.051 3603.53,480.363 3606.28,490.675 3609.04,500.988 3611.83,511.3 \n",
       "  3614.64,521.613 3617.48,531.925 3620.36,542.237 3623.28,552.55 3626.25,562.862 3626.76,564.645 3628.77,573.174 3631.17,583.487 3633.58,593.799 3635.98,604.111 \n",
       "  3638.38,614.424 3640.8,624.736 3643.23,635.048 3645.68,645.361 3648.16,655.673 3650.67,665.986 3653.2,676.298 3655.77,686.61 3658.38,696.923 3660.76,706.232 \n",
       "  3660.98,707.235 3663.23,717.547 3665.46,727.86 3667.69,738.172 3669.92,748.484 3672.15,758.797 3674.4,769.109 3676.66,779.421 3678.94,789.734 3681.23,800.046 \n",
       "  3683.56,810.359 3685.9,820.671 3688.28,830.983 3690.68,841.296 3693.11,851.608 3694.76,858.579 3695.46,861.92 3697.61,872.233 3699.75,882.545 3701.88,892.857 \n",
       "  3704.02,903.17 3706.17,913.482 3708.32,923.794 3710.49,934.107 3712.67,944.419 3714.87,954.732 3717.09,965.044 3719.33,975.356 3721.59,985.669 3723.87,995.981 \n",
       "  3726.17,1006.29 3728.48,1016.61 3728.76,1017.85 3730.61,1026.92 3732.7,1037.23 3734.79,1047.54 3736.87,1057.86 3738.97,1068.17 3741.06,1078.48 \n",
       "  \"/>\n",
       "<polyline clip-path=\"url(#clip754)\" style=\"stroke:#8f0070; stroke-linecap:butt; stroke-linejoin:round; stroke-width:4; stroke-opacity:1; fill:none\" points=\"\n",
       "  3755.5,1078.48 3753.31,1068.17 3751.13,1057.86 3748.96,1047.54 3746.8,1037.23 3744.65,1026.92 3742.5,1016.61 3740.35,1006.29 3738.2,995.981 3736.03,985.669 \n",
       "  3733.85,975.356 3731.65,965.044 3729.42,954.732 3728.76,951.713 3727.11,944.419 3724.8,934.107 3722.51,923.794 3720.24,913.482 3717.99,903.17 3715.76,892.857 \n",
       "  3713.54,882.545 3711.33,872.233 3709.13,861.92 3706.93,851.608 3704.72,841.296 3702.5,830.983 3700.27,820.671 3698.01,810.359 3695.72,800.046 3694.76,795.743 \n",
       "  3693.34,789.734 3690.91,779.421 3688.52,769.109 3686.15,758.797 3683.8,748.484 3681.47,738.172 3679.16,727.86 3676.86,717.547 3674.56,707.235 3672.25,696.923 \n",
       "  3669.95,686.61 3667.62,676.298 3665.28,665.986 3662.91,655.673 3660.76,646.437 3660.49,645.361 3657.87,635.048 3655.29,624.736 3652.74,614.424 3650.21,604.111 \n",
       "  3647.71,593.799 3645.22,583.487 3642.74,573.174 3640.27,562.862 3637.79,552.55 3635.3,542.237 3632.79,531.925 3630.26,521.613 3627.69,511.3 3626.76,507.596 \n",
       "  3624.87,500.988 3621.95,490.675 3619.06,480.363 3616.19,470.051 3613.35,459.738 3610.52,449.426 3607.7,439.114 3604.88,428.801 3602.04,418.489 3599.19,408.177 \n",
       "  3596.31,397.864 3593.4,387.552 3592.76,385.329 3589.86,377.24 3586.2,366.927 3582.56,356.615 3578.93,346.302 3575.32,335.99 3571.7,325.678 3568.06,315.365 \n",
       "  3564.41,305.053 3560.71,294.741 3558.76,289.359 3555.74,284.428 3549.4,274.116 3543.04,263.804 3536.65,253.491 3530.2,243.179 3524.76,234.581 3490.76,242.813 \n",
       "  3490.64,243.179 3487.26,253.491 3483.89,263.804 3480.52,274.116 3477.13,284.428 3473.72,294.741 3470.26,305.053 3466.74,315.365 3463.15,325.678 3459.48,335.99 \n",
       "  3456.76,343.464 3456.31,346.302 3454.69,356.615 3453.12,366.927 3451.59,377.24 3450.09,387.552 3448.62,397.864 3447.18,408.177 3445.75,418.489 3444.33,428.801 \n",
       "  3442.91,439.114 3441.49,449.426 3440.06,459.738 3438.63,470.051 3437.17,480.363 3435.69,490.675 3434.18,500.988 3432.63,511.3 3431.05,521.613 3429.42,531.925 \n",
       "  3427.73,542.237 3425.99,552.55 3424.18,562.862 3422.76,570.742 \n",
       "  \"/>\n",
       "<polyline clip-path=\"url(#clip754)\" style=\"stroke:#9f0060; stroke-linecap:butt; stroke-linejoin:round; stroke-width:4; stroke-opacity:1; fill:none\" points=\"\n",
       "  3422.76,525.895 3423.48,521.613 3425.18,511.3 3426.82,500.988 3428.41,490.675 3429.96,480.363 3431.48,470.051 3432.96,459.738 3434.42,449.426 3435.86,439.114 \n",
       "  3437.29,428.801 3438.71,418.489 3440.12,408.177 3441.54,397.864 3442.97,387.552 3444.41,377.24 3445.87,366.927 3447.36,356.615 3448.88,346.302 3450.45,335.99 \n",
       "  3452.06,325.678 3453.72,315.365 3455.44,305.053 3456.76,297.436 3457.7,294.741 3461.24,284.428 3464.72,274.116 3468.16,263.804 3471.56,253.491 3474.95,243.179 \n",
       "  3478.33,232.867 3481.72,222.554 3485.13,212.242 3488.57,201.929 3490.76,195.464 3504.45,191.617 3524.76,185.74 3528.66,191.617 3535.4,201.929 3542.03,212.242 \n",
       "  3548.57,222.554 3555.04,232.867 3558.76,238.837 3560.42,243.179 3564.3,253.491 3568.1,263.804 3571.85,274.116 3575.56,284.428 3579.23,294.741 3582.89,305.053 \n",
       "  3586.54,315.365 3590.19,325.678 3592.76,332.919 3593.69,335.99 3596.77,346.302 3599.79,356.615 3602.75,366.927 3605.68,377.24 3608.57,387.552 3611.43,397.864 \n",
       "  3614.29,408.177 3617.14,418.489 3619.99,428.801 3622.86,439.114 3625.74,449.426 3626.76,453.044 3628.55,459.738 3631.26,470.051 3633.92,480.363 3636.52,490.675 \n",
       "  3639.1,500.988 3641.64,511.3 3644.16,521.613 3646.67,531.925 3649.17,542.237 3651.68,552.55 3654.19,562.862 3656.72,573.174 3659.27,583.487 3660.76,589.469 \n",
       "  3661.85,593.799 3664.39,604.111 3666.88,614.424 3669.32,624.736 3671.73,635.048 3674.11,645.361 3676.46,655.673 3678.8,665.986 3681.13,676.298 3683.46,686.61 \n",
       "  3685.79,696.923 3688.13,707.235 3690.49,717.547 3692.86,727.86 3694.76,736.03 3695.28,738.172 3697.73,748.484 3700.13,758.797 3702.49,769.109 3704.81,779.421 \n",
       "  3707.1,789.734 3709.37,800.046 3711.61,810.359 3713.85,820.671 3716.08,830.983 3718.32,841.296 3720.55,851.608 3722.8,861.92 3725.06,872.233 3727.34,882.545 \n",
       "  3728.76,888.916 3729.69,892.857 3732.07,903.17 3734.41,913.482 3736.7,923.794 3738.96,934.107 3741.19,944.419 3743.4,954.732 3745.6,965.044 3747.78,975.356 \n",
       "  3749.95,985.669 3752.13,995.981 3754.31,1006.29 3756.5,1016.61 3758.69,1026.92 3760.91,1037.23 3762.76,1045.81 3763.16,1047.54 3765.52,1057.86 3767.83,1068.17 \n",
       "  3770.1,1078.48 \n",
       "  \"/>\n",
       "<polyline clip-path=\"url(#clip754)\" style=\"stroke:#af0050; stroke-linecap:butt; stroke-linejoin:round; stroke-width:4; stroke-opacity:1; fill:none\" points=\"\n",
       "  3784.86,1078.48 3782.69,1068.17 3780.51,1057.86 3778.3,1047.54 3776.06,1037.23 3773.77,1026.92 3771.44,1016.61 3769.05,1006.29 3766.6,995.981 3764.09,985.669 \n",
       "  3762.76,980.35 3761.71,975.356 3759.54,965.044 3757.38,954.732 3755.23,944.419 3753.06,934.107 3750.89,923.794 3748.7,913.482 3746.49,903.17 3744.25,892.857 \n",
       "  3741.97,882.545 3739.65,872.233 3737.29,861.92 3734.87,851.608 3732.38,841.296 3729.82,830.983 3728.76,826.779 3727.44,820.671 3725.22,810.359 3723.01,800.046 \n",
       "  3720.79,789.734 3718.57,779.421 3716.34,769.109 3714.1,758.797 3711.83,748.484 3709.52,738.172 3707.18,727.86 3704.79,717.547 3702.35,707.235 3699.85,696.923 \n",
       "  3697.28,686.61 3694.76,676.811 3694.64,676.298 3692.32,665.986 3690.02,655.673 3687.71,645.361 3685.4,635.048 3683.08,624.736 3680.74,614.424 3678.38,604.111 \n",
       "  3675.99,593.799 3673.56,583.487 3671.08,573.174 3668.55,562.862 3665.95,552.55 3663.28,542.237 3660.76,532.795 3660.55,531.925 3658.06,521.613 3655.58,511.3 \n",
       "  3653.1,500.988 3650.62,490.675 3648.12,480.363 3645.59,470.051 3643.04,459.738 3640.44,449.426 3637.8,439.114 3635.1,428.801 3632.33,418.489 3629.48,408.177 \n",
       "  3626.76,398.603 3626.56,397.864 3623.74,387.552 3620.92,377.24 3618.09,366.927 3615.25,356.615 3612.38,346.302 3609.48,335.99 3606.52,325.678 3603.52,315.365 \n",
       "  3600.44,305.053 3597.29,294.741 3594.04,284.428 3592.76,280.431 3590.55,274.116 3586.93,263.804 3583.29,253.491 3579.61,243.179 3575.88,232.867 3572.08,222.554 \n",
       "  3568.21,212.242 3564.25,201.929 3560.18,191.617 3558.76,188.078 3554.48,181.305 3547.88,170.992 3541.15,160.68 3534.28,150.368 3527.22,140.055 3524.76,136.51 \n",
       "  3514.07,140.055 3490.76,147.592 3489.79,150.368 3486.23,160.68 3482.75,170.992 3479.32,181.305 3475.94,191.617 3472.59,201.929 3469.27,212.242 3465.94,222.554 \n",
       "  3462.61,232.867 3459.26,243.179 3456.76,250.772 3456.25,253.491 3454.34,263.804 3452.52,274.116 3450.78,284.428 3449.1,294.741 3447.49,305.053 3445.92,315.365 \n",
       "  3444.4,325.678 3442.92,335.99 3441.46,346.302 3440.04,356.615 3438.63,366.927 3437.23,377.24 3435.84,387.552 3434.46,397.864 3433.07,408.177 3431.67,418.489 \n",
       "  3430.25,428.801 3428.81,439.114 3427.35,449.426 3425.86,459.738 3424.33,470.051 3422.76,480.323 \n",
       "  \"/>\n",
       "<polyline clip-path=\"url(#clip754)\" style=\"stroke:#bf0040; stroke-linecap:butt; stroke-linejoin:round; stroke-width:4; stroke-opacity:1; fill:none\" points=\"\n",
       "  3422.76,432.024 3423.21,428.801 3424.62,418.489 3426.01,408.177 3427.37,397.864 3428.72,387.552 3430.05,377.24 3431.38,366.927 3432.71,356.615 3434.04,346.302 \n",
       "  3435.39,335.99 3436.74,325.678 3438.12,315.365 3439.53,305.053 3440.97,294.741 3442.45,284.428 3443.98,274.116 3445.56,263.804 3447.21,253.491 3448.92,243.179 \n",
       "  3450.72,232.867 3452.6,222.554 3454.58,212.242 3456.66,201.929 3456.76,201.452 3459.81,191.617 3463,181.305 3466.21,170.992 3469.44,160.68 3472.71,150.368 \n",
       "  3476.03,140.055 3479.42,129.743 3482.89,119.431 3486.46,109.118 3490.14,98.8059 3490.76,97.0837 3514.43,88.4935 3524.76,84.6678 3527.54,88.4935 3534.89,98.8059 \n",
       "  3541.98,109.118 3548.87,119.431 3555.56,129.743 3558.76,134.738 3561,140.055 3565.24,150.368 3569.34,160.68 3573.31,170.992 3577.16,181.305 3580.92,191.617 \n",
       "  3584.6,201.929 3588.22,212.242 3591.78,222.554 3592.76,225.4 3595.29,232.867 3598.67,243.179 3601.94,253.491 3605.1,263.804 3608.17,274.116 3611.15,284.428 \n",
       "  3614.07,294.741 3616.93,305.053 3619.74,315.365 3622.51,325.678 3625.26,335.99 3626.76,341.629 3628.18,346.302 3631.25,356.615 3634.21,366.927 3637.06,377.24 \n",
       "  3639.83,387.552 3642.51,397.864 3645.13,408.177 3647.69,418.489 3650.2,428.801 3652.67,439.114 3655.11,449.426 3657.53,459.738 3659.93,470.051 3660.76,473.617 \n",
       "  3662.69,480.363 3665.56,490.675 3668.33,500.988 3671,511.3 3673.59,521.613 3676.1,531.925 3678.55,542.237 3680.95,552.55 3683.3,562.862 3685.61,573.174 \n",
       "  3687.89,583.487 3690.14,593.799 3692.38,604.111 3694.61,614.424 3694.76,615.109 3697.42,624.736 3700.17,635.048 3702.82,645.361 3705.38,655.673 3707.86,665.986 \n",
       "  3710.28,676.298 3712.63,686.61 3714.93,696.923 3717.19,707.235 3719.41,717.547 3721.6,727.86 3723.77,738.172 3725.92,748.484 3728.06,758.797 3728.76,762.143 \n",
       "  3730.65,769.109 3733.38,779.421 3736,789.734 3738.54,800.046 3741,810.359 3743.39,820.671 3745.72,830.983 3747.99,841.296 3750.22,851.608 3752.41,861.92 \n",
       "  3754.57,872.233 3756.7,882.545 3758.81,892.857 3760.9,903.17 3762.76,912.327 3763.07,913.482 3765.83,923.794 3768.49,934.107 3771.05,944.419 3773.53,954.732 \n",
       "  3775.94,965.044 3778.28,975.356 3780.57,985.669 3782.8,995.981 3784.99,1006.29 3787.15,1016.61 3789.27,1026.92 3791.36,1037.23 3793.44,1047.54 3795.51,1057.86 \n",
       "  3796.76,1064.12 3797.85,1068.17 3800.57,1078.48 \n",
       "  \"/>\n",
       "<polyline clip-path=\"url(#clip754)\" style=\"stroke:#cf0030; stroke-linecap:butt; stroke-linejoin:round; stroke-width:4; stroke-opacity:1; fill:none\" points=\"\n",
       "  3820.28,1078.48 3818.07,1068.17 3815.79,1057.86 3813.44,1047.54 3811.01,1037.23 3808.48,1026.92 3805.84,1016.61 3803.1,1006.29 3800.23,995.981 3797.22,985.669 \n",
       "  3796.76,984.105 3795.08,975.356 3793.07,965.044 3791.03,954.732 3788.95,944.419 3786.82,934.107 3784.63,923.794 3782.38,913.482 3780.05,903.17 3777.64,892.857 \n",
       "  3775.15,882.545 3772.55,872.233 3769.85,861.92 3767.02,851.608 3764.07,841.296 3762.76,836.85 3761.62,830.983 3759.6,820.671 3757.55,810.359 3755.46,800.046 \n",
       "  3753.33,789.734 3751.14,779.421 3748.89,769.109 3746.57,758.797 3744.17,748.484 3741.68,738.172 3739.09,727.86 3736.4,717.547 3733.59,707.235 3730.65,696.923 \n",
       "  3728.76,690.518 3727.98,686.61 3725.93,676.298 3723.84,665.986 3721.71,655.673 3719.54,645.361 3717.32,635.048 3715.03,624.736 3712.67,614.424 3710.24,604.111 \n",
       "  3707.71,593.799 3705.09,583.487 3702.35,573.174 3699.49,562.862 3696.5,552.55 3694.76,546.731 3693.83,542.237 3691.68,531.925 3689.51,521.613 3687.29,511.3 \n",
       "  3685.02,500.988 3682.69,490.675 3680.3,480.363 3677.83,470.051 3675.27,459.738 3672.61,449.426 3669.85,439.114 3666.97,428.801 3663.95,418.489 3660.79,408.177 \n",
       "  3660.76,408.074 3658.48,397.864 3656.15,387.552 3653.77,377.24 3651.34,366.927 3648.84,356.615 3646.28,346.302 3643.63,335.99 3640.88,325.678 3638.03,315.365 \n",
       "  3635.06,305.053 3631.95,294.741 3628.7,284.428 3626.76,278.461 3625.64,274.116 3622.98,263.804 3620.26,253.491 3617.48,243.179 3614.62,232.867 3611.68,222.554 \n",
       "  3608.63,212.242 3605.47,201.929 3602.19,191.617 3598.76,181.305 3595.17,170.992 3592.76,164.317 3591.53,160.68 3588.02,150.368 3584.41,140.055 3580.71,129.743 \n",
       "  3576.87,119.431 3572.9,109.118 3568.77,98.8059 3564.47,88.4935 3559.96,78.1812 3558.76,75.4874 3553.8,67.8688 3546.91,57.5565 3539.74,47.2441 \n",
       "  \"/>\n",
       "<polyline clip-path=\"url(#clip754)\" style=\"stroke:#df0020; stroke-linecap:butt; stroke-linejoin:round; stroke-width:4; stroke-opacity:1; fill:none\" points=\"\n",
       "  3577.42,47.2441 3581.31,57.5565 3585.04,67.8688 3588.61,78.1812 3592.06,88.4935 3592.76,90.6124 3595.92,98.8059 3599.71,109.118 3603.29,119.431 3606.69,129.743 \n",
       "  3609.93,140.055 3613.01,150.368 3615.96,160.68 3618.79,170.992 3621.51,181.305 3624.14,191.617 3626.69,201.929 3626.76,202.201 3630.27,212.242 3633.67,222.554 \n",
       "  3636.9,232.867 3639.96,243.179 3642.86,253.491 3645.63,263.804 3648.28,274.116 3650.82,284.428 3653.26,294.741 3655.62,305.053 3657.9,315.365 3660.11,325.678 \n",
       "  3660.76,328.728 3663.18,335.99 3666.47,346.302 3669.59,356.615 3672.54,366.927 3675.35,377.24 3678.02,387.552 3680.57,397.864 3683.01,408.177 3685.35,418.489 \n",
       "  3687.61,428.801 3689.79,439.114 3691.9,449.426 3693.95,459.738 3694.76,463.852 3696.78,470.051 3700.01,480.363 3703.07,490.675 3705.97,500.988 3708.73,511.3 \n",
       "  3711.35,521.613 3713.85,531.925 3716.25,542.237 3718.54,552.55 3720.75,562.862 3722.88,573.174 3724.94,583.487 3726.94,593.799 3728.76,603.426 3728.98,604.111 \n",
       "  3732.29,614.424 3735.41,624.736 3738.37,635.048 3741.18,645.361 3743.85,655.673 3746.4,665.986 3748.83,676.298 3751.16,686.61 3753.39,696.923 3755.54,707.235 \n",
       "  3757.61,717.547 3759.62,727.86 3761.57,738.172 3762.76,744.596 3764.02,748.484 3767.29,758.797 3770.37,769.109 3773.3,779.421 3776.07,789.734 3778.71,800.046 \n",
       "  3781.22,810.359 3783.63,820.671 3785.93,830.983 3788.13,841.296 3790.26,851.608 3792.3,861.92 3794.28,872.233 3796.2,882.545 3796.76,885.537 3799.17,892.857 \n",
       "  3802.43,903.17 3805.5,913.482 3808.41,923.794 3811.17,934.107 3813.79,944.419 3816.29,954.732 3818.68,965.044 3820.96,975.356 3823.15,985.669 3825.26,995.981 \n",
       "  3827.29,1006.29 3829.25,1016.61 3830.76,1024.71 3831.51,1026.92 3834.96,1037.23 3838.21,1047.54 3841.27,1057.86 3844.17,1068.17 3846.91,1078.48 \n",
       "  \"/>\n",
       "<polyline clip-path=\"url(#clip754)\" style=\"stroke:#df0020; stroke-linecap:butt; stroke-linejoin:round; stroke-width:4; stroke-opacity:1; fill:none\" points=\"\n",
       "  4028.26,1078.48 4026.2,1068.17 4024.29,1057.86 4022.53,1047.54 4020.89,1037.23 4019.36,1026.92 4017.93,1016.61 4016.6,1006.29 4015.35,995.981 4014.17,985.669 \n",
       "  4013.06,975.356 4012.02,965.044 4011.02,954.732 4010.08,944.419 4009.18,934.107 4008.31,923.794 4007.48,913.482 4006.69,903.17 4005.91,892.857 4005.17,882.545 \n",
       "  4004.44,872.233 4003.73,861.92 4003.04,851.608 4002.35,841.296 4001.68,830.983 4001.02,820.671 4000.76,816.72 3999.18,810.359 3996.75,800.046 3994.51,789.734 \n",
       "  3992.44,779.421 3990.52,769.109 3988.73,758.797 3987.08,748.484 3985.53,738.172 3984.09,727.86 3982.74,717.547 3981.47,707.235 3980.27,696.923 3979.14,686.61 \n",
       "  3978.07,676.298 3977.05,665.986 3976.08,655.673 3975.15,645.361 3974.26,635.048 3973.4,624.736 3972.57,614.424 3971.77,604.111 3970.99,593.799 3970.22,583.487 \n",
       "  3969.48,573.174 3968.74,562.862 3968.01,552.55 3967.29,542.237 3966.76,534.56 3966.11,531.925 3963.67,521.613 3961.4,511.3 3959.31,500.988 3957.36,490.675 \n",
       "  3955.56,480.363 3953.88,470.051 3952.31,459.738 3950.85,449.426 3949.47,439.114 3948.18,428.801 3946.96,418.489 3945.8,408.177 3944.71,397.864 3943.66,387.552 \n",
       "  3942.66,377.24 3941.71,366.927 3940.79,356.615 3939.9,346.302 3939.04,335.99 3938.21,325.678 3937.39,315.365 3936.59,305.053 3935.81,294.741 3935.04,284.428 \n",
       "  3934.27,274.116 3933.51,263.804 3932.76,253.501 3932.76,253.491 3930.38,243.179 3928.18,232.867 3926.14,222.554 3924.25,212.242 3922.49,201.929 3920.85,191.617 \n",
       "  3919.31,181.305 3917.87,170.992 3916.51,160.68 3915.24,150.368 3914.03,140.055 3912.88,129.743 3911.79,119.431 3910.75,109.118 3909.76,98.8059 3908.8,88.4935 \n",
       "  3907.88,78.1812 3906.99,67.8688 3906.12,57.5565 3905.28,47.2441 \n",
       "  \"/>\n",
       "<polyline clip-path=\"url(#clip754)\" style=\"stroke:#bf0040; stroke-linecap:butt; stroke-linejoin:round; stroke-width:4; stroke-opacity:1; fill:none\" points=\"\n",
       "  3931.65,47.2441 3932.76,54.4203 3933.07,57.5565 3934.08,67.8688 3935.09,78.1812 3936.09,88.4935 3937.09,98.8059 3938.08,109.118 3939.07,119.431 3940.06,129.743 \n",
       "  3941.05,140.055 3942.05,150.368 3943.06,160.68 3944.08,170.992 3945.11,181.305 3946.17,191.617 3947.24,201.929 3948.33,212.242 3949.46,222.554 3950.62,232.867 \n",
       "  3951.81,243.179 3953.04,253.491 3954.33,263.804 3955.66,274.116 3957.05,284.428 3958.5,294.741 3960.03,305.053 3961.64,315.365 3963.33,325.678 3965.12,335.99 \n",
       "  3966.76,344.978 3966.9,346.302 3967.95,356.615 3969,366.927 3970.04,377.24 3971.08,387.552 3972.11,397.864 3973.14,408.177 3974.17,418.489 3975.21,428.801 \n",
       "  3976.25,439.114 3977.31,449.426 3978.39,459.738 3979.48,470.051 3980.6,480.363 3981.75,490.675 3982.92,500.988 3984.14,511.3 3985.39,521.613 3986.7,531.925 \n",
       "  3988.05,542.237 3989.47,552.55 3990.95,562.862 3992.5,573.174 3994.14,583.487 3995.86,593.799 3997.68,604.111 3999.61,614.424 4000.76,620.331 4001.21,624.736 \n",
       "  4002.25,635.048 4003.28,645.361 4004.31,655.673 4005.33,665.986 4006.35,676.298 4007.37,686.61 4008.4,696.923 4009.44,707.235 4010.5,717.547 4011.57,727.86 \n",
       "  4012.65,738.172 4013.77,748.484 4014.91,758.797 4016.09,769.109 4017.3,779.421 4018.56,789.734 4019.86,800.046 4021.22,810.359 4022.64,820.671 4024.13,830.983 \n",
       "  4025.69,841.296 4027.33,851.608 4029.06,861.92 4030.9,872.233 4032.84,882.545 4034.76,892.165 4034.83,892.857 4035.84,903.17 4036.85,913.482 4037.85,923.794 \n",
       "  4038.85,934.107 4039.85,944.419 4040.85,954.732 4041.86,965.044 4042.88,975.356 4043.91,985.669 4044.97,995.981 4046.04,1006.29 4047.14,1016.61 4048.27,1026.92 \n",
       "  4049.43,1037.23 4050.63,1047.54 4051.87,1057.86 4053.17,1068.17 4054.51,1078.48 \n",
       "  \"/>\n",
       "<polyline clip-path=\"url(#clip754)\" style=\"stroke:#af0050; stroke-linecap:butt; stroke-linejoin:round; stroke-width:4; stroke-opacity:1; fill:none\" points=\"\n",
       "  4065.19,1078.48 4063.46,1068.17 4061.82,1057.86 4060.25,1047.54 4058.74,1037.23 4057.3,1026.92 4055.92,1016.61 4054.58,1006.29 4053.29,995.981 4052.04,985.669 \n",
       "  4050.82,975.356 4049.63,965.044 4048.47,954.732 4047.32,944.419 4046.2,934.107 4045.09,923.794 4043.99,913.482 4042.89,903.17 4041.8,892.857 4040.71,882.545 \n",
       "  4039.61,872.233 4038.5,861.92 4037.39,851.608 4036.26,841.296 4035.11,830.983 4034.76,827.836 4033.45,820.671 4031.66,810.359 4029.95,800.046 4028.32,789.734 \n",
       "  4026.76,779.421 4025.27,769.109 4023.84,758.797 4022.46,748.484 4021.14,738.172 4019.85,727.86 4018.6,717.547 4017.38,707.235 4016.19,696.923 4015.03,686.61 \n",
       "  4013.88,676.298 4012.76,665.986 4011.64,655.673 4010.53,645.361 4009.43,635.048 4008.32,624.736 4007.22,614.424 4006.11,604.111 4005,593.799 4003.87,583.487 \n",
       "  4002.73,573.174 4001.57,562.862 4000.76,555.742 4000.2,552.55 3998.43,542.237 3996.76,531.925 3995.16,521.613 3993.63,511.3 3992.17,500.988 3990.76,490.675 \n",
       "  3989.4,480.363 3988.1,470.051 3986.83,459.738 3985.59,449.426 3984.39,439.114 3983.22,428.801 3982.06,418.489 3980.93,408.177 3979.81,397.864 3978.71,387.552 \n",
       "  3977.61,377.24 3976.52,366.927 3975.43,356.615 3974.34,346.302 3973.25,335.99 3972.15,325.678 3971.04,315.365 3969.92,305.053 3968.79,294.741 3967.64,284.428 \n",
       "  3966.76,276.625 3966.35,274.116 3964.73,263.804 3963.19,253.491 3961.71,243.179 3960.3,232.867 3958.95,222.554 3957.64,212.242 3956.38,201.929 3955.17,191.617 \n",
       "  3953.99,181.305 3952.84,170.992 3951.73,160.68 3950.64,150.368 3949.57,140.055 3948.52,129.743 3947.49,119.431 3946.47,109.118 3945.46,98.8059 3944.46,88.4935 \n",
       "  3943.47,78.1812 3942.48,67.8688 3941.5,57.5565 3940.52,47.2441 \n",
       "  \"/>\n",
       "<polyline clip-path=\"url(#clip754)\" style=\"stroke:#7f0080; stroke-linecap:butt; stroke-linejoin:round; stroke-width:4; stroke-opacity:1; fill:none\" points=\"\n",
       "  3965.96,47.2441 3966.76,57.024 3966.81,57.5565 3967.92,67.8688 3969.02,78.1812 3970.12,88.4935 3971.21,98.8059 3972.3,109.118 3973.38,119.431 3974.45,129.743 \n",
       "  3975.52,140.055 3976.58,150.368 3977.63,160.68 3978.68,170.992 3979.72,181.305 3980.76,191.617 3981.79,201.929 3982.82,212.242 3983.85,222.554 3984.87,232.867 \n",
       "  3985.9,243.179 3986.93,253.491 3987.97,263.804 3989.01,274.116 3990.06,284.428 3991.12,294.741 3992.19,305.053 3993.28,315.365 3994.39,325.678 3995.52,335.99 \n",
       "  3996.67,346.302 3997.86,356.615 3999.07,366.927 4000.32,377.24 4000.76,380.767 4001.69,387.552 4003.08,397.864 4004.43,408.177 4005.76,418.489 4007.06,428.801 \n",
       "  4008.33,439.114 4009.58,449.426 4010.81,459.738 4012.01,470.051 4013.21,480.363 4014.38,490.675 4015.55,500.988 4016.71,511.3 4017.86,521.613 4019,531.925 \n",
       "  4020.15,542.237 4021.3,552.55 4022.45,562.862 4023.61,573.174 4024.79,583.487 4025.97,593.799 4027.18,604.111 4028.41,614.424 4029.67,624.736 4030.95,635.048 \n",
       "  4032.27,645.361 4033.63,655.673 4034.76,663.946 4035.05,665.986 4036.5,676.298 4037.91,686.61 4039.29,696.923 4040.63,707.235 4041.95,717.547 4043.23,727.86 \n",
       "  4044.5,738.172 4045.74,748.484 4046.96,758.797 4048.17,769.109 4049.37,779.421 4050.56,789.734 4051.74,800.046 4052.92,810.359 4054.1,820.671 4055.29,830.983 \n",
       "  4056.48,841.296 4057.69,851.608 4058.91,861.92 4060.16,872.233 4061.42,882.545 4062.71,892.857 4064.04,903.17 4065.4,913.482 4066.8,923.794 4068.25,934.107 \n",
       "  4068.76,937.6 4069.73,944.419 4071.17,954.732 4072.56,965.044 4073.92,975.356 4075.25,985.669 4076.55,995.981 4077.83,1006.29 4079.08,1016.61 4080.31,1026.92 \n",
       "  4081.53,1037.23 4082.74,1047.54 4083.94,1057.86 4085.13,1068.17 4086.32,1078.48 \n",
       "  \"/>\n",
       "<polyline clip-path=\"url(#clip754)\" style=\"stroke:#5f00a0; stroke-linecap:butt; stroke-linejoin:round; stroke-width:4; stroke-opacity:1; fill:none\" points=\"\n",
       "  4099.5,1078.48 4098.31,1068.17 4097.13,1057.86 4095.96,1047.54 4094.8,1037.23 4093.65,1026.92 4092.51,1016.61 4091.36,1006.29 4090.21,995.981 4089.05,985.669 \n",
       "  4087.89,975.356 4086.71,965.044 4085.51,954.732 4084.29,944.419 4083.06,934.107 4081.79,923.794 4080.5,913.482 4079.18,903.17 4077.82,892.857 4076.42,882.545 \n",
       "  4074.98,872.233 4073.49,861.92 4071.96,851.608 4070.37,841.296 4068.76,831.132 4068.74,830.983 4067.54,820.671 4066.36,810.359 4065.2,800.046 4064.06,789.734 \n",
       "  4062.93,779.421 4061.81,769.109 4060.7,758.797 4059.58,748.484 4058.47,738.172 4057.36,727.86 4056.24,717.547 4055.11,707.235 4053.98,696.923 4052.82,686.61 \n",
       "  4051.66,676.298 4050.47,665.986 4049.26,655.673 4048.03,645.361 4046.77,635.048 4045.48,624.736 4044.16,614.424 4042.8,604.111 4041.41,593.799 4039.98,583.487 \n",
       "  4038.51,573.174 4037,562.862 4035.44,552.55 4034.76,548.123 4034.12,542.237 4033.03,531.925 4031.95,521.613 4030.89,511.3 4029.84,500.988 4028.8,490.675 \n",
       "  4027.76,480.363 4026.73,470.051 4025.7,459.738 4024.67,449.426 4023.64,439.114 4022.6,428.801 4021.56,418.489 4020.51,408.177 4019.45,397.864 4018.38,387.552 \n",
       "  4017.3,377.24 4016.2,366.927 4015.08,356.615 4013.95,346.302 4012.8,335.99 4011.64,325.678 4010.45,315.365 4009.24,305.053 4008.02,294.741 4006.77,284.428 \n",
       "  4005.5,274.116 4004.2,263.804 4002.89,253.491 4001.55,243.179 4000.76,237.07 4000.4,232.867 3999.55,222.554 3998.72,212.242 3997.9,201.929 3997.11,191.617 \n",
       "  3996.33,181.305 3995.56,170.992 3994.82,160.68 3994.09,150.368 3993.38,140.055 3992.69,129.743 3992.01,119.431 3991.36,109.118 3990.73,98.8059 3990.12,88.4935 \n",
       "  3989.54,78.1812 3988.99,67.8688 3988.47,57.5565 3987.99,47.2441 \n",
       "  \"/>\n",
       "<polyline clip-path=\"url(#clip754)\" style=\"stroke:#4f00b0; stroke-linecap:butt; stroke-linejoin:round; stroke-width:4; stroke-opacity:1; fill:none\" points=\"\n",
       "  3999.14,47.2441 3999.3,57.5565 3999.53,67.8688 3999.8,78.1812 4000.12,88.4935 4000.49,98.8059 4000.76,105.702 4001.01,109.118 4001.85,119.431 4002.72,129.743 \n",
       "  4003.63,140.055 4004.56,150.368 4005.51,160.68 4006.47,170.992 4007.45,181.305 4008.44,191.617 4009.43,201.929 4010.43,212.242 4011.42,222.554 4012.42,232.867 \n",
       "  4013.42,243.179 4014.41,253.491 4015.39,263.804 4016.37,274.116 4017.35,284.428 4018.31,294.741 4019.27,305.053 4020.23,315.365 4021.17,325.678 4022.11,335.99 \n",
       "  4023.04,346.302 4023.97,356.615 4024.89,366.927 4025.81,377.24 4026.73,387.552 4027.64,397.864 4028.55,408.177 4029.46,418.489 4030.38,428.801 4031.3,439.114 \n",
       "  4032.22,449.426 4033.15,459.738 4034.09,470.051 4034.76,477.28 4035.23,480.363 4036.8,490.675 4038.33,500.988 4039.81,511.3 4041.25,521.613 4042.66,531.925 \n",
       "  4044.02,542.237 4045.35,552.55 4046.65,562.862 4047.92,573.174 4049.15,583.487 4050.36,593.799 4051.54,604.111 4052.69,614.424 4053.83,624.736 4054.94,635.048 \n",
       "  4056.03,645.361 4057.11,655.673 4058.18,665.986 4059.23,676.298 4060.28,686.61 4061.32,696.923 4062.35,707.235 4063.39,717.547 4064.42,727.86 4065.46,738.172 \n",
       "  4066.51,748.484 4067.56,758.797 4068.63,769.109 4068.76,770.326 4070.26,779.421 4071.91,789.734 4073.5,800.046 4075.04,810.359 4076.53,820.671 4077.98,830.983 \n",
       "  4079.38,841.296 4080.73,851.608 4082.05,861.92 4083.34,872.233 4084.59,882.545 4085.81,892.857 4087,903.17 4088.18,913.482 4089.33,923.794 4090.46,934.107 \n",
       "  4091.58,944.419 4092.68,954.732 4093.78,965.044 4094.87,975.356 4095.95,985.669 4097.04,995.981 4098.13,1006.29 4099.22,1016.61 4100.32,1026.92 4101.44,1037.23 \n",
       "  4102.57,1047.54 4102.76,1049.2 4104.22,1057.86 4105.91,1068.17 4107.54,1078.48 \n",
       "  \"/>\n",
       "<polyline clip-path=\"url(#clip754)\" style=\"stroke:#1f00e0; stroke-linecap:butt; stroke-linejoin:round; stroke-width:4; stroke-opacity:1; fill:none\" points=\"\n",
       "  4135.89,1078.48 4135.1,1068.17 4134.31,1057.86 4133.5,1047.54 4132.67,1037.23 4131.83,1026.92 4130.97,1016.61 4130.09,1006.29 4129.18,995.981 4128.25,985.669 \n",
       "  4127.29,975.356 4126.31,965.044 4125.29,954.732 4124.24,944.419 4123.16,934.107 4122.04,923.794 4120.88,913.482 4119.68,903.17 4118.44,892.857 4117.16,882.545 \n",
       "  4115.83,872.233 4114.45,861.92 4113.03,851.608 4111.55,841.296 4110.03,830.983 4108.45,820.671 4106.81,810.359 4105.12,800.046 4103.37,789.734 4102.76,786.118 \n",
       "  4102.3,779.421 4101.6,769.109 4100.9,758.797 4100.18,748.484 4099.45,738.172 4098.72,727.86 4097.96,717.547 4097.2,707.235 4096.42,696.923 4095.63,686.61 \n",
       "  4094.82,676.298 4093.99,665.986 4093.15,655.673 4092.3,645.361 4091.42,635.048 4090.53,624.736 4089.62,614.424 4088.7,604.111 4087.76,593.799 4086.8,583.487 \n",
       "  4085.83,573.174 4084.84,562.862 4083.84,552.55 4082.83,542.237 4081.81,531.925 4080.78,521.613 4079.74,511.3 4078.69,500.988 4077.64,490.675 4076.59,480.363 \n",
       "  4075.53,470.051 4074.49,459.738 4073.45,449.426 4072.42,439.114 4071.4,428.801 4070.41,418.489 4069.44,408.177 4068.76,400.547 4068.67,397.864 4068.35,387.552 \n",
       "  4068.05,377.24 4067.79,366.927 4067.55,356.615 4067.35,346.302 4067.19,335.99 4067.08,325.678 4067.01,315.365 4067,305.053 4067.06,294.741 4067.19,284.428 \n",
       "  4067.41,274.116 4067.72,263.804 4068.13,253.491 4068.67,243.179 4068.76,241.859 4071.34,232.867 4075.45,222.554 4081.28,212.242 4089.73,201.929 4102.44,191.617 \n",
       "  4102.76,191.418 4102.9,191.617 4110.65,201.929 4119.32,212.242 4129.19,222.554 4136.76,229.61 4138.35,232.867 4143.39,243.179 4148.59,253.491 4153.96,263.804 \n",
       "  4159.55,274.116 4165.37,284.428 4170.76,293.556 4171.22,294.741 4175.21,305.053 4179.23,315.365 4183.29,325.678 4187.41,335.99 4191.59,346.302 4195.84,356.615 \n",
       "  4200.18,366.927 4204.62,377.24 4204.76,377.56 4207.89,387.552 4211.13,397.864 4214.38,408.177 4217.65,418.489 4220.93,428.801 4224.24,439.114 4227.57,449.426 \n",
       "  4230.93,459.738 4234.33,470.051 4237.76,480.363 4238.76,483.343 4240.62,490.675 4243.25,500.988 4245.88,511.3 4248.52,521.613 4251.16,531.925 4253.81,542.237 \n",
       "  4256.46,552.55 4259.13,562.862 4261.8,573.174 4264.5,583.487 4267.22,593.799 4269.96,604.111 4272.75,614.424 4272.76,614.458 \n",
       "  \"/>\n",
       "<polyline clip-path=\"url(#clip754)\" style=\"stroke:#2f00d0; stroke-linecap:butt; stroke-linejoin:round; stroke-width:4; stroke-opacity:1; fill:none\" points=\"\n",
       "  4272.76,463.776 4271.55,459.738 4268.46,449.426 4265.37,439.114 4262.29,428.801 4259.22,418.489 4256.15,408.177 4253.1,397.864 4250.05,387.552 4247.01,377.24 \n",
       "  4243.97,366.927 4240.95,356.615 4238.76,349.152 4237.7,346.302 4233.87,335.99 4230.05,325.678 4226.25,315.365 4222.45,305.053 4218.64,294.741 4214.82,284.428 \n",
       "  4210.98,274.116 4207.11,263.804 4204.76,257.608 4202.86,253.491 4198.12,243.179 4193.4,232.867 4188.69,222.554 4183.95,212.242 4179.17,201.929 4174.31,191.617 \n",
       "  4170.76,184.219 4169.05,181.305 4163.04,170.992 4157.11,160.68 4151.23,150.368 4145.35,140.055 4139.42,129.743 4136.76,125.218 4132.03,119.431 4123.9,109.118 \n",
       "  4116.14,98.8059 4108.65,88.4935 4102.76,80.2326 4098.82,78.1812 4081.56,67.8688 4068.76,58.3735 4061.47,67.8688 4055.48,78.1812 4050.93,88.4935 4047.45,98.8059 \n",
       "  4044.78,109.118 4042.74,119.431 4041.21,129.743 4040.09,140.055 4039.3,150.368 4038.78,160.68 4038.49,170.992 4038.39,181.305 4038.45,191.617 4038.64,201.929 \n",
       "  4038.96,212.242 4039.37,222.554 4039.86,232.867 4040.43,243.179 4041.06,253.491 4041.75,263.804 4042.47,274.116 4043.24,284.428 4044.04,294.741 4044.86,305.053 \n",
       "  4045.7,315.365 4046.56,325.678 4047.43,335.99 4048.31,346.302 4049.19,356.615 4050.08,366.927 4050.97,377.24 4051.86,387.552 4052.75,397.864 4053.63,408.177 \n",
       "  4054.51,418.489 4055.38,428.801 4056.25,439.114 4057.1,449.426 4057.95,459.738 4058.79,470.051 4059.62,480.363 4060.44,490.675 4061.25,500.988 4062.05,511.3 \n",
       "  4062.85,521.613 4063.64,531.925 4064.42,542.237 4065.19,552.55 4065.96,562.862 4066.72,573.174 4067.49,583.487 4068.24,593.799 4068.76,600.729 4069.3,604.111 \n",
       "  4070.95,614.424 4072.55,624.736 4074.1,635.048 4075.61,645.361 4077.07,655.673 4078.49,665.986 4079.87,676.298 4081.2,686.61 4082.5,696.923 4083.76,707.235 \n",
       "  4084.98,717.547 4086.16,727.86 4087.31,738.172 4088.43,748.484 4089.52,758.797 4090.59,769.109 4091.62,779.421 4092.63,789.734 4093.62,800.046 4094.59,810.359 \n",
       "  4095.54,820.671 4096.47,830.983 4097.38,841.296 4098.28,851.608 4099.17,861.92 4100.05,872.233 4100.93,882.545 4101.8,892.857 4102.66,903.17 4102.76,904.271 \n",
       "  4104.41,913.482 4106.2,923.794 4107.92,934.107 4109.57,944.419 4111.16,954.732 4112.7,965.044 4114.17,975.356 4115.59,985.669 4116.96,995.981 4118.29,1006.29 \n",
       "  4119.56,1016.61 4120.8,1026.92 4121.99,1037.23 4123.15,1047.54 4124.28,1057.86 4125.37,1068.17 4126.44,1078.48 \n",
       "  \"/>\n",
       "<polyline clip-path=\"url(#clip754)\" style=\"stroke:#3f00c0; stroke-linecap:butt; stroke-linejoin:round; stroke-width:4; stroke-opacity:1; fill:none\" points=\"\n",
       "  4116.99,1078.48 4115.64,1068.17 4114.25,1057.86 4112.81,1047.54 4111.32,1037.23 4109.77,1026.92 4108.16,1016.61 4106.48,1006.29 4104.74,995.981 4102.93,985.669 \n",
       "  4102.76,984.672 4101.85,975.356 4100.85,965.044 4099.85,954.732 4098.86,944.419 4097.86,934.107 4096.86,923.794 4095.85,913.482 4094.83,903.17 4093.8,892.857 \n",
       "  4092.76,882.545 4091.7,872.233 4090.61,861.92 4089.51,851.608 4088.38,841.296 4087.22,830.983 4086.03,820.671 4084.82,810.359 4083.56,800.046 4082.27,789.734 \n",
       "  4080.94,779.421 4079.57,769.109 4078.15,758.797 4076.69,748.484 4075.17,738.172 4073.61,727.86 4071.99,717.547 4070.31,707.235 4068.76,697.964 4068.66,696.923 \n",
       "  4067.73,686.61 4066.81,676.298 4065.89,665.986 4064.97,655.673 4064.04,645.361 4063.11,635.048 4062.17,624.736 4061.23,614.424 4060.27,604.111 4059.3,593.799 \n",
       "  4058.32,583.487 4057.32,573.174 4056.31,562.862 4055.27,552.55 4054.22,542.237 4053.15,531.925 4052.05,521.613 4050.93,511.3 4049.79,500.988 4048.62,490.675 \n",
       "  4047.42,480.363 4046.2,470.051 4044.95,459.738 4043.67,449.426 4042.36,439.114 4041.03,428.801 4039.66,418.489 4038.26,408.177 4036.84,397.864 4035.38,387.552 \n",
       "  4034.76,383.143 4034.33,377.24 4033.59,366.927 4032.86,356.615 4032.13,346.302 4031.42,335.99 4030.71,325.678 4030,315.365 4029.3,305.053 4028.61,294.741 \n",
       "  4027.92,284.428 4027.25,274.116 4026.58,263.804 4025.92,253.491 4025.28,243.179 4024.65,232.867 4024.03,222.554 4023.44,212.242 4022.87,201.929 4022.32,191.617 \n",
       "  4021.8,181.305 4021.32,170.992 4020.88,160.68 4020.48,150.368 4020.14,140.055 4019.85,129.743 4019.64,119.431 4019.51,109.118 4019.47,98.8059 4019.53,88.4935 \n",
       "  4019.72,78.1812 4020.05,67.8688 4020.55,57.5565 4021.23,47.2441 \n",
       "  \"/>\n",
       "<polyline clip-path=\"url(#clip754)\" style=\"stroke:#6f0090; stroke-linecap:butt; stroke-linejoin:round; stroke-width:4; stroke-opacity:1; fill:none\" points=\"\n",
       "  3976.85,47.2441 3977.64,57.5565 3978.45,67.8688 3979.28,78.1812 3980.12,88.4935 3980.97,98.8059 3981.83,109.118 3982.7,119.431 3983.57,129.743 3984.45,140.055 \n",
       "  3985.34,150.368 3986.23,160.68 3987.12,170.992 3988.02,181.305 3988.93,191.617 3989.85,201.929 3990.77,212.242 3991.7,222.554 3992.64,232.867 3993.59,243.179 \n",
       "  3994.55,253.491 3995.53,263.804 3996.52,274.116 3997.53,284.428 3998.56,294.741 3999.62,305.053 4000.7,315.365 4000.76,315.946 4002.1,325.678 4003.5,335.99 \n",
       "  4004.86,346.302 4006.2,356.615 4007.5,366.927 4008.78,377.24 4010.03,387.552 4011.26,397.864 4012.47,408.177 4013.66,418.489 4014.83,428.801 4015.99,439.114 \n",
       "  4017.13,449.426 4018.25,459.738 4019.37,470.051 4020.48,480.363 4021.59,490.675 4022.69,500.988 4023.8,511.3 4024.9,521.613 4026.02,531.925 4027.14,542.237 \n",
       "  4028.27,552.55 4029.41,562.862 4030.58,573.174 4031.76,583.487 4032.97,593.799 4034.21,604.111 4034.76,608.607 4035.62,614.424 4037.13,624.736 4038.6,635.048 \n",
       "  4040.02,645.361 4041.41,655.673 4042.76,665.986 4044.08,676.298 4045.37,686.61 4046.63,696.923 4047.87,707.235 4049.1,717.547 4050.3,727.86 4051.49,738.172 \n",
       "  4052.66,748.484 4053.83,758.797 4054.99,769.109 4056.15,779.421 4057.31,789.734 4058.47,800.046 4059.64,810.359 4060.82,820.671 4062.01,830.983 4063.23,841.296 \n",
       "  4064.46,851.608 4065.72,861.92 4067,872.233 4068.33,882.545 4068.76,885.838 4069.82,892.857 4071.35,903.17 4072.82,913.482 4074.26,923.794 4075.65,934.107 \n",
       "  4077.01,944.419 4078.34,954.732 4079.63,965.044 4080.9,975.356 4082.15,985.669 4083.38,995.981 4084.59,1006.29 4085.79,1016.61 4086.98,1026.92 4088.17,1037.23 \n",
       "  4089.35,1047.54 4090.53,1057.86 4091.72,1068.17 4092.91,1078.48 \n",
       "  \"/>\n",
       "<polyline clip-path=\"url(#clip754)\" style=\"stroke:#8f0070; stroke-linecap:butt; stroke-linejoin:round; stroke-width:4; stroke-opacity:1; fill:none\" points=\"\n",
       "  4079.74,1078.48 4078.54,1068.17 4077.34,1057.86 4076.13,1047.54 4074.9,1037.23 4073.64,1026.92 4072.37,1016.61 4071.06,1006.29 4069.72,995.981 4068.76,988.688 \n",
       "  4068.28,985.669 4066.69,975.356 4065.17,965.044 4063.7,954.732 4062.28,944.419 4060.9,934.107 4059.57,923.794 4058.26,913.482 4056.99,903.17 4055.74,892.857 \n",
       "  4054.52,882.545 4053.31,872.233 4052.11,861.92 4050.92,851.608 4049.74,841.296 4048.56,830.983 4047.38,820.671 4046.2,810.359 4045.01,800.046 4043.8,789.734 \n",
       "  4042.59,779.421 4041.35,769.109 4040.1,758.797 4038.82,748.484 4037.51,738.172 4036.17,727.86 4034.8,717.547 4034.76,717.217 4033.26,707.235 4031.78,696.923 \n",
       "  4030.34,686.61 4028.96,676.298 4027.61,665.986 4026.3,655.673 4025.03,645.361 4023.78,635.048 4022.55,624.736 4021.35,614.424 4020.16,604.111 4018.98,593.799 \n",
       "  4017.81,583.487 4016.65,573.174 4015.49,562.862 4014.33,552.55 4013.16,542.237 4011.99,531.925 4010.81,521.613 4009.62,511.3 4008.41,500.988 4007.18,490.675 \n",
       "  4005.93,480.363 4004.66,470.051 4003.36,459.738 4002.03,449.426 4000.76,439.735 4000.67,439.114 3999.24,428.801 3997.86,418.489 3996.53,408.177 3995.23,397.864 \n",
       "  3993.97,387.552 3992.75,377.24 3991.55,366.927 3990.38,356.615 3989.23,346.302 3988.1,335.99 3986.98,325.678 3985.87,315.365 3984.77,305.053 3983.67,294.741 \n",
       "  3982.58,284.428 3981.5,274.116 3980.41,263.804 3979.31,253.491 3978.21,243.179 3977.11,232.867 3975.99,222.554 3974.87,212.242 3973.73,201.929 3972.58,191.617 \n",
       "  3971.42,181.305 3970.24,170.992 3969.04,160.68 3967.82,150.368 3966.76,141.428 3966.6,140.055 3965.44,129.743 3964.32,119.431 3963.25,109.118 3962.21,98.8059 \n",
       "  3961.2,88.4935 3960.23,78.1812 3959.28,67.8688 3958.37,57.5565 3957.48,47.2441 \n",
       "  \"/>\n",
       "<polyline clip-path=\"url(#clip754)\" style=\"stroke:#9f0060; stroke-linecap:butt; stroke-linejoin:round; stroke-width:4; stroke-opacity:1; fill:none\" points=\"\n",
       "  3949,47.2441 3949.93,57.5565 3950.88,67.8688 3951.85,78.1812 3952.83,88.4935 3953.83,98.8059 3954.86,109.118 3955.9,119.431 3956.98,129.743 3958.08,140.055 \n",
       "  3959.22,150.368 3960.39,160.68 3961.61,170.992 3962.86,181.305 3964.17,191.617 3965.53,201.929 3966.76,210.869 3966.92,212.242 3968.14,222.554 3969.35,232.867 \n",
       "  3970.53,243.179 3971.69,253.491 3972.85,263.804 3973.98,274.116 3975.11,284.428 3976.23,294.741 3977.34,305.053 3978.45,315.365 3979.56,325.678 3980.67,335.99 \n",
       "  3981.78,346.302 3982.91,356.615 3984.04,366.927 3985.18,377.24 3986.34,387.552 3987.52,397.864 3988.73,408.177 3989.96,418.489 3991.23,428.801 3992.53,439.114 \n",
       "  3993.87,449.426 3995.27,459.738 3996.71,470.051 3998.21,480.363 3999.77,490.675 4000.76,496.939 4001.26,500.988 4002.52,511.3 4003.76,521.613 4004.98,531.925 \n",
       "  4006.18,542.237 4007.36,552.55 4008.53,562.862 4009.69,573.174 4010.84,583.487 4011.99,593.799 4013.13,604.111 4014.28,614.424 4015.44,624.736 4016.6,635.048 \n",
       "  4017.78,645.361 4018.97,655.673 4020.18,665.986 4021.42,676.298 4022.69,686.61 4023.99,696.923 4025.32,707.235 4026.7,717.547 4028.13,727.86 4029.62,738.172 \n",
       "  4031.16,748.484 4032.77,758.797 4034.45,769.109 4034.76,770.923 4035.81,779.421 4037.05,789.734 4038.28,800.046 4039.48,810.359 4040.67,820.671 4041.84,830.983 \n",
       "  4043,841.296 4044.16,851.608 4045.31,861.92 4046.46,872.233 4047.61,882.545 4048.77,892.857 4049.94,903.17 4051.12,913.482 4052.33,923.794 4053.55,934.107 \n",
       "  4054.8,944.419 4056.08,954.732 4057.4,965.044 4058.76,975.356 4060.16,985.669 4061.61,995.981 4063.12,1006.29 4064.7,1016.61 4066.34,1026.92 4068.06,1037.23 \n",
       "  4068.76,1041.3 4069.52,1047.54 4070.75,1057.86 4071.96,1068.17 4073.15,1078.48 \n",
       "  \"/>\n",
       "<polyline clip-path=\"url(#clip754)\" style=\"stroke:#cf0030; stroke-linecap:butt; stroke-linejoin:round; stroke-width:4; stroke-opacity:1; fill:none\" points=\"\n",
       "  4043.84,1078.48 4042.87,1068.17 4041.93,1057.86 4041.01,1047.54 4040.11,1037.23 4039.23,1026.92 4038.36,1016.61 4037.5,1006.29 4036.64,995.981 4035.79,985.669 \n",
       "  4034.94,975.356 4034.76,973.154 4032.96,965.044 4030.8,954.732 4028.78,944.419 4026.9,934.107 4025.13,923.794 4023.46,913.482 4021.89,903.17 4020.41,892.857 \n",
       "  4019,882.545 4017.67,872.233 4016.4,861.92 4015.18,851.608 4014.02,841.296 4012.9,830.983 4011.83,820.671 4010.79,810.359 4009.78,800.046 4008.8,789.734 \n",
       "  4007.84,779.421 4006.9,769.109 4005.98,758.797 4005.07,748.484 4004.17,738.172 4003.28,727.86 4002.39,717.547 4001.5,707.235 4000.76,698.624 4000.38,696.923 \n",
       "  3998.17,686.61 3996.11,676.298 3994.17,665.986 3992.36,655.673 3990.65,645.361 3989.05,635.048 3987.53,624.736 3986.09,614.424 3984.72,604.111 3983.42,593.799 \n",
       "  3982.18,583.487 3980.99,573.174 3979.84,562.862 3978.74,552.55 3977.67,542.237 3976.64,531.925 3975.63,521.613 3974.65,511.3 3973.68,500.988 3972.73,490.675 \n",
       "  3971.8,480.363 3970.87,470.051 3969.95,459.738 3969.03,449.426 3968.11,439.114 3967.19,428.801 3966.76,423.96 3965.61,418.489 3963.53,408.177 3961.59,397.864 \n",
       "  3959.76,387.552 3958.05,377.24 3956.43,366.927 3954.9,356.615 3953.46,346.302 3952.08,335.99 3950.77,325.678 3949.51,315.365 3948.31,305.053 3947.16,294.741 \n",
       "  3946.04,284.428 3944.96,274.116 3943.92,263.804 3942.9,253.491 3941.91,243.179 3940.93,232.867 3939.97,222.554 3939.03,212.242 3938.09,201.929 3937.16,191.617 \n",
       "  3936.24,181.305 3935.32,170.992 3934.4,160.68 3933.47,150.368 3932.76,142.511 3932.29,140.055 3930.36,129.743 3928.56,119.431 3926.86,109.118 3925.27,98.8059 \n",
       "  3923.76,88.4935 3922.33,78.1812 3920.98,67.8688 3919.69,57.5565 3918.46,47.2441 \n",
       "  \"/>\n",
       "<polyline clip-path=\"url(#clip754)\" style=\"stroke:#ef0010; stroke-linecap:butt; stroke-linejoin:round; stroke-width:4; stroke-opacity:1; fill:none\" points=\"\n",
       "  3873.34,47.2441 3874.21,57.5565 3875.16,67.8688 3876.18,78.1812 3877.29,88.4935 3878.49,98.8059 3879.79,109.118 3881.18,119.431 3882.66,129.743 3884.23,140.055 \n",
       "  3885.88,150.368 3887.59,160.68 3889.34,170.992 3891.11,181.305 3892.87,191.617 3894.58,201.929 3896.23,212.242 3897.79,222.554 3898.76,229.525 3898.87,232.867 \n",
       "  3899.22,243.179 3899.57,253.491 3899.93,263.804 3900.3,274.116 3900.69,284.428 3901.11,294.741 3901.54,305.053 3902.01,315.365 3902.51,325.678 3903.05,335.99 \n",
       "  3903.65,346.302 3904.3,356.615 3905,366.927 3905.78,377.24 3906.63,387.552 3907.55,397.864 3908.54,408.177 3909.61,418.489 3910.73,428.801 3911.92,439.114 \n",
       "  3913.14,449.426 3914.39,459.738 3915.65,470.051 3916.89,480.363 3918.1,490.675 3919.26,500.988 3920.36,511.3 3921.39,521.613 3922.34,531.925 3923.21,542.237 \n",
       "  3924,552.55 3924.71,562.862 3925.36,573.174 3925.94,583.487 3926.47,593.799 3926.95,604.111 3927.39,614.424 3927.8,624.736 3928.19,635.048 3928.56,645.361 \n",
       "  3928.93,655.673 3929.28,665.986 3929.63,676.298 3929.99,686.61 3930.35,696.923 3930.71,707.235 3931.08,717.547 3931.47,727.86 3931.86,738.172 3932.27,748.484 \n",
       "  3932.69,758.797 3932.76,760.367 3933.21,769.109 3933.77,779.421 3934.34,789.734 3934.9,800.046 3935.46,810.359 3935.99,820.671 3936.49,830.983 3936.96,841.296 \n",
       "  3937.38,851.608 3937.76,861.92 3938.1,872.233 3938.38,882.545 3938.61,892.857 3938.79,903.17 3938.91,913.482 3938.98,923.794 3938.98,934.107 3938.93,944.419 \n",
       "  3938.81,954.732 3938.61,965.044 3938.34,975.356 3937.99,985.669 3937.54,995.981 3936.98,1006.29 3936.31,1016.61 3935.49,1026.92 3934.52,1037.23 3933.37,1047.54 \n",
       "  3932.76,1052.18 3898.76,1052.98 3897.46,1047.54 3894.84,1037.23 3891.92,1026.92 3888.64,1016.61 3884.93,1006.29 3880.68,995.981 3875.75,985.669 3869.93,975.356 \n",
       "  3864.76,967.503 3864.26,965.044 3862.11,954.732 3859.81,944.419 3857.33,934.107 3854.66,923.794 3851.77,913.482 3848.62,903.17 3845.19,892.857 3841.42,882.545 \n",
       "  3837.27,872.233 3832.66,861.92 3830.76,857.913 3829.56,851.608 3827.52,841.296 3825.36,830.983 3823.06,820.671 3820.61,810.359 3817.99,800.046 3815.18,789.734 \n",
       "  3812.17,779.421 3808.93,769.109 3805.42,758.797 3801.63,748.484 3797.51,738.172 3796.76,736.347 3795.2,727.86 3793.22,717.547 3791.14,707.235 3788.93,696.923 \n",
       "  3786.6,686.61 3784.11,676.298 3781.47,665.986 3778.64,655.673 3775.63,645.361 3772.39,635.048 3768.93,624.736 3765.2,614.424 3762.76,608.02 3762.05,604.111 \n",
       "  3760.16,593.799 3758.16,583.487 3756.07,573.174 3753.85,562.862 3751.5,552.55 3749.02,542.237 3746.37,531.925 3743.56,521.613 3740.56,511.3 3737.35,500.988 \n",
       "  3733.92,490.675 3730.24,480.363 3728.76,476.362 3727.61,470.051 3725.69,459.738 3723.67,449.426 3721.54,439.114 3719.3,428.801 3716.93,418.489 3714.42,408.177 \n",
       "  3711.75,397.864 3708.91,387.552 3705.88,377.24 3702.65,366.927 3699.19,356.615 3695.49,346.302 3694.76,344.315 3693.2,335.99 3691.19,325.678 3689.08,315.365 \n",
       "  3686.86,305.053 3684.52,294.741 3682.05,284.428 3679.42,274.116 3676.63,263.804 3673.66,253.491 3670.5,243.179 3667.11,232.867 3663.49,222.554 3660.76,215.18 \n",
       "  3660.16,212.242 3658.04,201.929 3655.82,191.617 3653.48,181.305 3651.01,170.992 3648.4,160.68 3645.63,150.368 3642.68,140.055 3639.55,129.743 3636.2,119.431 \n",
       "  3632.63,109.118 3628.8,98.8059 3626.76,93.5368 3625.56,88.4935 3623.05,78.1812 3620.4,67.8688 3617.61,57.5565 3614.66,47.2441 \n",
       "  \"/>\n",
       "<polyline clip-path=\"url(#clip754)\" style=\"stroke:#cf0030; stroke-linecap:butt; stroke-linejoin:round; stroke-width:4; stroke-opacity:1; fill:none\" points=\"\n",
       "  3488.37,47.2441 3484.64,57.5565 3481.06,67.8688 3477.6,78.1812 3474.25,88.4935 3470.99,98.8059 3467.81,109.118 3464.7,119.431 3461.65,129.743 3458.63,140.055 \n",
       "  3456.76,146.436 3455.88,150.368 3453.66,160.68 3451.56,170.992 3449.58,181.305 3447.71,191.617 3445.94,201.929 3444.25,212.242 3442.63,222.554 3441.09,232.867 \n",
       "  3439.6,243.179 3438.17,253.491 3436.78,263.804 3435.44,274.116 3434.13,284.428 3432.84,294.741 3431.57,305.053 3430.33,315.365 3429.09,325.678 3427.85,335.99 \n",
       "  3426.62,346.302 3425.38,356.615 3424.14,366.927 3422.88,377.24 3422.76,378.163 \n",
       "  \"/>\n",
       "<polyline clip-path=\"url(#clip754)\" style=\"stroke:#df0020; stroke-linecap:butt; stroke-linejoin:round; stroke-width:4; stroke-opacity:1; fill:none\" points=\"\n",
       "  3422.76,313.127 3423.62,305.053 3424.71,294.741 3425.8,284.428 3426.9,274.116 3428.01,263.804 3429.13,253.491 3430.28,243.179 3431.46,232.867 3432.67,222.554 \n",
       "  3433.92,212.242 3435.21,201.929 3436.55,191.617 3437.96,181.305 3439.43,170.992 3440.97,160.68 3442.6,150.368 3444.32,140.055 3446.15,129.743 3448.08,119.431 \n",
       "  3450.15,109.118 3452.36,98.8059 3454.72,88.4935 3456.76,80.1071 3457.29,78.1812 3460.08,67.8688 3462.94,57.5565 3465.88,47.2441 \n",
       "  \"/>\n",
       "<polyline clip-path=\"url(#clip754)\" style=\"stroke:#ef0010; stroke-linecap:butt; stroke-linejoin:round; stroke-width:4; stroke-opacity:1; fill:none\" points=\"\n",
       "  3443.12,47.2441 3441.33,57.5565 3439.65,67.8688 3438.08,78.1812 3436.61,88.4935 3435.23,98.8059 3433.92,109.118 3432.68,119.431 3431.51,129.743 3430.39,140.055 \n",
       "  3429.32,150.368 3428.29,160.68 3427.29,170.992 3426.33,181.305 3425.39,191.617 3424.48,201.929 3423.59,212.242 3422.76,221.853 \n",
       "  \"/>\n",
       "<polyline clip-path=\"url(#clip754)\" style=\"stroke:#3f00c0; stroke-linecap:butt; stroke-linejoin:round; stroke-width:4; stroke-opacity:1; fill:none\" points=\"\n",
       "  4136.03,47.2441 4136.76,48.1626 4143.79,57.5565 4151.03,67.8688 4157.9,78.1812 4164.5,88.4935 4170.76,98.5325 4170.92,98.8059 4176.99,109.118 4182.8,119.431 \n",
       "  4188.39,129.743 4193.8,140.055 4199.05,150.368 4204.2,160.68 4204.76,161.818 4208.62,170.992 4212.94,181.305 4217.23,191.617 4221.49,201.929 4225.71,212.242 \n",
       "  4229.89,222.554 4234.05,232.867 4238.19,243.179 4238.76,244.607 4241.49,253.491 4244.71,263.804 4247.96,274.116 4251.25,284.428 4254.57,294.741 4257.91,305.053 \n",
       "  4261.27,315.365 4264.65,325.678 4268.05,335.99 4271.47,346.302 4272.76,350.192 \n",
       "  \"/>\n",
       "<polyline clip-path=\"url(#clip754)\" style=\"stroke:#4f00b0; stroke-linecap:butt; stroke-linejoin:round; stroke-width:4; stroke-opacity:1; fill:none\" points=\"\n",
       "  4272.76,256.86 4271.59,253.491 4268.03,243.179 4264.51,232.867 4261.03,222.554 4257.61,212.242 4254.25,201.929 4250.96,191.617 4247.74,181.305 4244.61,170.992 \n",
       "  4241.56,160.68 4238.76,150.891 4238.53,150.368 4234.13,140.055 4229.72,129.743 4225.3,119.431 4220.9,109.118 4216.53,98.8059 4212.22,88.4935 4207.98,78.1812 \n",
       "  4204.76,70.1526 4203.46,67.8688 4197.48,57.5565 4191.22,47.2441 \n",
       "  \"/>\n",
       "<polyline clip-path=\"url(#clip754)\" style=\"stroke:#5f00a0; stroke-linecap:butt; stroke-linejoin:round; stroke-width:4; stroke-opacity:1; fill:none\" points=\"\n",
       "  4231.84,47.2441 4236.26,57.5565 4238.76,63.3124 4239.92,67.8688 4242.61,78.1812 4245.4,88.4935 4248.28,98.8059 4251.27,109.118 4254.36,119.431 4257.54,129.743 \n",
       "  4260.82,140.055 4264.2,150.368 4267.66,160.68 4271.21,170.992 4272.76,175.45 \n",
       "  \"/>\n",
       "<polyline clip-path=\"url(#clip754)\" style=\"stroke:#6f0090; stroke-linecap:butt; stroke-linejoin:round; stroke-width:4; stroke-opacity:1; fill:none\" points=\"\n",
       "  4272.76,103.271 4271.25,98.8059 4267.85,88.4935 4264.55,78.1812 4261.35,67.8688 4258.26,57.5565 4255.27,47.2441 \n",
       "  \"/>\n",
       "<polyline clip-path=\"url(#clip754)\" style=\"stroke:#0f00f0; stroke-linecap:butt; stroke-linejoin:round; stroke-width:4; stroke-opacity:1; fill:none\" points=\"\n",
       "  4272.76,796.556 4270.45,789.734 4267.1,779.421 4263.94,769.109 4260.92,758.797 4258.04,748.484 4255.29,738.172 4252.63,727.86 4250.07,717.547 4247.58,707.235 \n",
       "  4245.16,696.923 4242.79,686.61 4240.46,676.298 4238.76,668.683 4237.71,665.986 4233.82,655.673 4230.14,645.361 4226.65,635.048 4223.33,624.736 4220.14,614.424 \n",
       "  4217.08,604.111 4214.12,593.799 4211.26,583.487 4208.46,573.174 4205.73,562.862 4204.76,559.162 4201.41,552.55 4196.49,542.237 4191.92,531.925 4187.64,521.613 \n",
       "  4183.62,511.3 4179.8,500.988 4176.16,490.675 4172.68,480.363 4170.76,474.541 4165.9,470.051 4156.28,459.738 4148.4,449.426 4141.75,439.114 4136.76,430.28 \n",
       "  4132.6,439.114 4128.81,449.426 4125.89,459.738 4123.62,470.051 4121.87,480.363 4120.53,490.675 4119.53,500.988 4118.8,511.3 4118.29,521.613 4117.98,531.925 \n",
       "  4117.82,542.237 4117.79,552.55 4117.88,562.862 4118.07,573.174 4118.34,583.487 4118.68,593.799 4119.08,604.111 4119.54,614.424 4120.04,624.736 4120.57,635.048 \n",
       "  4121.14,645.361 4121.74,655.673 4122.35,665.986 4122.99,676.298 4123.63,686.61 4124.29,696.923 4124.95,707.235 4125.62,717.547 4126.29,727.86 4126.97,738.172 \n",
       "  4127.64,748.484 4128.3,758.797 4128.97,769.109 4129.62,779.421 4130.27,789.734 4130.91,800.046 4131.54,810.359 4132.17,820.671 4132.78,830.983 4133.39,841.296 \n",
       "  4133.98,851.608 4134.57,861.92 4135.14,872.233 4135.71,882.545 4136.26,892.857 4136.76,902.179 4136.92,903.17 4138.61,913.482 4140.24,923.794 4141.84,934.107 \n",
       "  4143.38,944.419 4144.88,954.732 4146.33,965.044 4147.74,975.356 4149.1,985.669 4150.42,995.981 4151.69,1006.29 4152.93,1016.61 4154.12,1026.92 4155.27,1037.23 \n",
       "  4156.38,1047.54 4157.46,1057.86 4158.5,1068.17 4159.5,1078.48 \n",
       "  \"/>\n",
       "<defs>\n",
       "  <clipPath id=\"clip755\">\n",
       "    <rect x=\"4368\" y=\"47\" width=\"145\" height=\"1032\"/>\n",
       "  </clipPath>\n",
       "</defs>\n",
       "<polyline clip-path=\"url(#clip755)\" style=\"stroke:#1000ef; stroke-linecap:butt; stroke-linejoin:round; stroke-width:4; stroke-opacity:1; fill:none\" points=\"\n",
       "  4368.76,1014.03 4512.76,1014.03 \n",
       "  \"/>\n",
       "<polyline clip-path=\"url(#clip755)\" style=\"stroke:#2000df; stroke-linecap:butt; stroke-linejoin:round; stroke-width:4; stroke-opacity:1; fill:none\" points=\"\n",
       "  4368.76,949.575 4512.76,949.575 \n",
       "  \"/>\n",
       "<polyline clip-path=\"url(#clip755)\" style=\"stroke:#3000cf; stroke-linecap:butt; stroke-linejoin:round; stroke-width:4; stroke-opacity:1; fill:none\" points=\"\n",
       "  4368.76,885.123 4512.76,885.123 \n",
       "  \"/>\n",
       "<polyline clip-path=\"url(#clip755)\" style=\"stroke:#4000bf; stroke-linecap:butt; stroke-linejoin:round; stroke-width:4; stroke-opacity:1; fill:none\" points=\"\n",
       "  4368.76,820.671 4512.76,820.671 \n",
       "  \"/>\n",
       "<polyline clip-path=\"url(#clip755)\" style=\"stroke:#5000af; stroke-linecap:butt; stroke-linejoin:round; stroke-width:4; stroke-opacity:1; fill:none\" points=\"\n",
       "  4368.76,756.219 4512.76,756.219 \n",
       "  \"/>\n",
       "<polyline clip-path=\"url(#clip755)\" style=\"stroke:#60009f; stroke-linecap:butt; stroke-linejoin:round; stroke-width:4; stroke-opacity:1; fill:none\" points=\"\n",
       "  4368.76,691.766 4512.76,691.766 \n",
       "  \"/>\n",
       "<polyline clip-path=\"url(#clip755)\" style=\"stroke:#70008f; stroke-linecap:butt; stroke-linejoin:round; stroke-width:4; stroke-opacity:1; fill:none\" points=\"\n",
       "  4368.76,627.314 4512.76,627.314 \n",
       "  \"/>\n",
       "<polyline clip-path=\"url(#clip755)\" style=\"stroke:#80007f; stroke-linecap:butt; stroke-linejoin:round; stroke-width:4; stroke-opacity:1; fill:none\" points=\"\n",
       "  4368.76,562.862 4512.76,562.862 \n",
       "  \"/>\n",
       "<polyline clip-path=\"url(#clip755)\" style=\"stroke:#8f0070; stroke-linecap:butt; stroke-linejoin:round; stroke-width:4; stroke-opacity:1; fill:none\" points=\"\n",
       "  4368.76,498.41 4512.76,498.41 \n",
       "  \"/>\n",
       "<polyline clip-path=\"url(#clip755)\" style=\"stroke:#9f0060; stroke-linecap:butt; stroke-linejoin:round; stroke-width:4; stroke-opacity:1; fill:none\" points=\"\n",
       "  4368.76,433.958 4512.76,433.958 \n",
       "  \"/>\n",
       "<polyline clip-path=\"url(#clip755)\" style=\"stroke:#af0050; stroke-linecap:butt; stroke-linejoin:round; stroke-width:4; stroke-opacity:1; fill:none\" points=\"\n",
       "  4368.76,369.505 4512.76,369.505 \n",
       "  \"/>\n",
       "<polyline clip-path=\"url(#clip755)\" style=\"stroke:#bf0040; stroke-linecap:butt; stroke-linejoin:round; stroke-width:4; stroke-opacity:1; fill:none\" points=\"\n",
       "  4368.76,305.053 4512.76,305.053 \n",
       "  \"/>\n",
       "<polyline clip-path=\"url(#clip755)\" style=\"stroke:#cf0030; stroke-linecap:butt; stroke-linejoin:round; stroke-width:4; stroke-opacity:1; fill:none\" points=\"\n",
       "  4368.76,240.601 4512.76,240.601 \n",
       "  \"/>\n",
       "<polyline clip-path=\"url(#clip755)\" style=\"stroke:#df0020; stroke-linecap:butt; stroke-linejoin:round; stroke-width:4; stroke-opacity:1; fill:none\" points=\"\n",
       "  4368.76,176.149 4512.76,176.149 \n",
       "  \"/>\n",
       "<polyline clip-path=\"url(#clip755)\" style=\"stroke:#ef0010; stroke-linecap:butt; stroke-linejoin:round; stroke-width:4; stroke-opacity:1; fill:none\" points=\"\n",
       "  4368.76,111.696 4512.76,111.696 \n",
       "  \"/>\n",
       "<path clip-path=\"url(#clip750)\" d=\"M4596.7 965.08 Q4593.09 965.08 4591.26 968.645 Q4589.45 972.186 4589.45 979.316 Q4589.45 986.422 4591.26 989.987 Q4593.09 993.529 4596.7 993.529 Q4600.33 993.529 4602.14 989.987 Q4603.97 986.422 4603.97 979.316 Q4603.97 972.186 4602.14 968.645 Q4600.33 965.08 4596.7 965.08 M4596.7 961.376 Q4602.51 961.376 4605.57 965.983 Q4608.64 970.566 4608.64 979.316 Q4608.64 988.043 4605.57 992.649 Q4602.51 997.232 4596.7 997.232 Q4590.89 997.232 4587.81 992.649 Q4584.76 988.043 4584.76 979.316 Q4584.76 970.566 4587.81 965.983 Q4590.89 961.376 4596.7 961.376 Z\" fill=\"#000000\" fill-rule=\"evenodd\" fill-opacity=\"1\" /><path clip-path=\"url(#clip750)\" d=\"M4616.86 990.681 L4621.75 990.681 L4621.75 996.561 L4616.86 996.561 L4616.86 990.681 Z\" fill=\"#000000\" fill-rule=\"evenodd\" fill-opacity=\"1\" /><path clip-path=\"url(#clip750)\" d=\"M4632.74 992.626 L4640.38 992.626 L4640.38 966.26 L4632.07 967.927 L4632.07 963.668 L4640.33 962.001 L4645.01 962.001 L4645.01 992.626 L4652.65 992.626 L4652.65 996.561 L4632.74 996.561 L4632.74 992.626 Z\" fill=\"#000000\" fill-rule=\"evenodd\" fill-opacity=\"1\" /><path clip-path=\"url(#clip750)\" d=\"M4596.7 859.935 Q4593.09 859.935 4591.26 863.5 Q4589.45 867.041 4589.45 874.171 Q4589.45 881.277 4591.26 884.842 Q4593.09 888.384 4596.7 888.384 Q4600.33 888.384 4602.14 884.842 Q4603.97 881.277 4603.97 874.171 Q4603.97 867.041 4602.14 863.5 Q4600.33 859.935 4596.7 859.935 M4596.7 856.231 Q4602.51 856.231 4605.57 860.838 Q4608.64 865.421 4608.64 874.171 Q4608.64 882.898 4605.57 887.504 Q4602.51 892.087 4596.7 892.087 Q4590.89 892.087 4587.81 887.504 Q4584.76 882.898 4584.76 874.171 Q4584.76 865.421 4587.81 860.838 Q4590.89 856.231 4596.7 856.231 Z\" fill=\"#000000\" fill-rule=\"evenodd\" fill-opacity=\"1\" /><path clip-path=\"url(#clip750)\" d=\"M4616.86 885.537 L4621.75 885.537 L4621.75 891.416 L4616.86 891.416 L4616.86 885.537 Z\" fill=\"#000000\" fill-rule=\"evenodd\" fill-opacity=\"1\" /><path clip-path=\"url(#clip750)\" d=\"M4635.96 887.481 L4652.28 887.481 L4652.28 891.416 L4630.33 891.416 L4630.33 887.481 Q4633 884.726 4637.58 880.097 Q4642.19 875.444 4643.37 874.101 Q4645.61 871.578 4646.49 869.842 Q4647.39 868.083 4647.39 866.393 Q4647.39 863.639 4645.45 861.902 Q4643.53 860.166 4640.43 860.166 Q4638.23 860.166 4635.77 860.93 Q4633.34 861.694 4630.57 863.245 L4630.57 858.523 Q4633.39 857.389 4635.84 856.81 Q4638.3 856.231 4640.33 856.231 Q4645.7 856.231 4648.9 858.916 Q4652.09 861.602 4652.09 866.092 Q4652.09 868.222 4651.28 870.143 Q4650.5 872.041 4648.39 874.634 Q4647.81 875.305 4644.71 878.523 Q4641.61 881.717 4635.96 887.481 Z\" fill=\"#000000\" fill-rule=\"evenodd\" fill-opacity=\"1\" /><path clip-path=\"url(#clip750)\" d=\"M4596.7 754.79 Q4593.09 754.79 4591.26 758.355 Q4589.45 761.896 4589.45 769.026 Q4589.45 776.132 4591.26 779.697 Q4593.09 783.239 4596.7 783.239 Q4600.33 783.239 4602.14 779.697 Q4603.97 776.132 4603.97 769.026 Q4603.97 761.896 4602.14 758.355 Q4600.33 754.79 4596.7 754.79 M4596.7 751.086 Q4602.51 751.086 4605.57 755.693 Q4608.64 760.276 4608.64 769.026 Q4608.64 777.753 4605.57 782.359 Q4602.51 786.943 4596.7 786.943 Q4590.89 786.943 4587.81 782.359 Q4584.76 777.753 4584.76 769.026 Q4584.76 760.276 4587.81 755.693 Q4590.89 751.086 4596.7 751.086 Z\" fill=\"#000000\" fill-rule=\"evenodd\" fill-opacity=\"1\" /><path clip-path=\"url(#clip750)\" d=\"M4616.86 780.392 L4621.75 780.392 L4621.75 786.271 L4616.86 786.271 L4616.86 780.392 Z\" fill=\"#000000\" fill-rule=\"evenodd\" fill-opacity=\"1\" /><path clip-path=\"url(#clip750)\" d=\"M4646.1 767.637 Q4649.45 768.355 4651.33 770.623 Q4653.23 772.892 4653.23 776.225 Q4653.23 781.341 4649.71 784.142 Q4646.19 786.943 4639.71 786.943 Q4637.53 786.943 4635.22 786.503 Q4632.93 786.086 4630.47 785.23 L4630.47 780.716 Q4632.42 781.85 4634.73 782.429 Q4637.05 783.007 4639.57 783.007 Q4643.97 783.007 4646.26 781.271 Q4648.58 779.535 4648.58 776.225 Q4648.58 773.169 4646.42 771.456 Q4644.29 769.72 4640.47 769.72 L4636.45 769.72 L4636.45 765.878 L4640.66 765.878 Q4644.11 765.878 4645.94 764.512 Q4647.76 763.123 4647.76 760.531 Q4647.76 757.869 4645.87 756.457 Q4643.99 755.021 4640.47 755.021 Q4638.55 755.021 4636.35 755.438 Q4634.15 755.855 4631.51 756.734 L4631.51 752.568 Q4634.18 751.827 4636.49 751.457 Q4638.83 751.086 4640.89 751.086 Q4646.21 751.086 4649.32 753.517 Q4652.42 755.924 4652.42 760.045 Q4652.42 762.915 4650.77 764.906 Q4649.13 766.873 4646.1 767.637 Z\" fill=\"#000000\" fill-rule=\"evenodd\" fill-opacity=\"1\" /><path clip-path=\"url(#clip750)\" d=\"M4596.7 649.645 Q4593.09 649.645 4591.26 653.21 Q4589.45 656.751 4589.45 663.881 Q4589.45 670.987 4591.26 674.552 Q4593.09 678.094 4596.7 678.094 Q4600.33 678.094 4602.14 674.552 Q4603.97 670.987 4603.97 663.881 Q4603.97 656.751 4602.14 653.21 Q4600.33 649.645 4596.7 649.645 M4596.7 645.941 Q4602.51 645.941 4605.57 650.548 Q4608.64 655.131 4608.64 663.881 Q4608.64 672.608 4605.57 677.214 Q4602.51 681.798 4596.7 681.798 Q4590.89 681.798 4587.81 677.214 Q4584.76 672.608 4584.76 663.881 Q4584.76 655.131 4587.81 650.548 Q4590.89 645.941 4596.7 645.941 Z\" fill=\"#000000\" fill-rule=\"evenodd\" fill-opacity=\"1\" /><path clip-path=\"url(#clip750)\" d=\"M4616.86 675.247 L4621.75 675.247 L4621.75 681.126 L4616.86 681.126 L4616.86 675.247 Z\" fill=\"#000000\" fill-rule=\"evenodd\" fill-opacity=\"1\" /><path clip-path=\"url(#clip750)\" d=\"M4644.78 650.64 L4632.97 669.089 L4644.78 669.089 L4644.78 650.64 M4643.55 646.566 L4649.43 646.566 L4649.43 669.089 L4654.36 669.089 L4654.36 672.978 L4649.43 672.978 L4649.43 681.126 L4644.78 681.126 L4644.78 672.978 L4629.18 672.978 L4629.18 668.464 L4643.55 646.566 Z\" fill=\"#000000\" fill-rule=\"evenodd\" fill-opacity=\"1\" /><path clip-path=\"url(#clip750)\" d=\"M4596.7 544.5 Q4593.09 544.5 4591.26 548.065 Q4589.45 551.607 4589.45 558.736 Q4589.45 565.843 4591.26 569.407 Q4593.09 572.949 4596.7 572.949 Q4600.33 572.949 4602.14 569.407 Q4603.97 565.843 4603.97 558.736 Q4603.97 551.607 4602.14 548.065 Q4600.33 544.5 4596.7 544.5 M4596.7 540.796 Q4602.51 540.796 4605.57 545.403 Q4608.64 549.986 4608.64 558.736 Q4608.64 567.463 4605.57 572.069 Q4602.51 576.653 4596.7 576.653 Q4590.89 576.653 4587.81 572.069 Q4584.76 567.463 4584.76 558.736 Q4584.76 549.986 4587.81 545.403 Q4590.89 540.796 4596.7 540.796 Z\" fill=\"#000000\" fill-rule=\"evenodd\" fill-opacity=\"1\" /><path clip-path=\"url(#clip750)\" d=\"M4616.86 570.102 L4621.75 570.102 L4621.75 575.981 L4616.86 575.981 L4616.86 570.102 Z\" fill=\"#000000\" fill-rule=\"evenodd\" fill-opacity=\"1\" /><path clip-path=\"url(#clip750)\" d=\"M4631.98 541.421 L4650.33 541.421 L4650.33 545.357 L4636.26 545.357 L4636.26 553.829 Q4637.28 553.481 4638.3 553.319 Q4639.32 553.134 4640.33 553.134 Q4646.12 553.134 4649.5 556.306 Q4652.88 559.477 4652.88 564.893 Q4652.88 570.472 4649.41 573.574 Q4645.94 576.653 4639.62 576.653 Q4637.44 576.653 4635.17 576.282 Q4632.93 575.912 4630.52 575.171 L4630.52 570.472 Q4632.6 571.606 4634.83 572.162 Q4637.05 572.718 4639.52 572.718 Q4643.53 572.718 4645.87 570.611 Q4648.2 568.505 4648.2 564.893 Q4648.2 561.282 4645.87 559.176 Q4643.53 557.069 4639.52 557.069 Q4637.65 557.069 4635.77 557.486 Q4633.92 557.903 4631.98 558.782 L4631.98 541.421 Z\" fill=\"#000000\" fill-rule=\"evenodd\" fill-opacity=\"1\" /><path clip-path=\"url(#clip750)\" d=\"M4596.7 439.355 Q4593.09 439.355 4591.26 442.92 Q4589.45 446.462 4589.45 453.591 Q4589.45 460.698 4591.26 464.262 Q4593.09 467.804 4596.7 467.804 Q4600.33 467.804 4602.14 464.262 Q4603.97 460.698 4603.97 453.591 Q4603.97 446.462 4602.14 442.92 Q4600.33 439.355 4596.7 439.355 M4596.7 435.651 Q4602.51 435.651 4605.57 440.258 Q4608.64 444.841 4608.64 453.591 Q4608.64 462.318 4605.57 466.924 Q4602.51 471.508 4596.7 471.508 Q4590.89 471.508 4587.81 466.924 Q4584.76 462.318 4584.76 453.591 Q4584.76 444.841 4587.81 440.258 Q4590.89 435.651 4596.7 435.651 Z\" fill=\"#000000\" fill-rule=\"evenodd\" fill-opacity=\"1\" /><path clip-path=\"url(#clip750)\" d=\"M4616.86 464.957 L4621.75 464.957 L4621.75 470.836 L4616.86 470.836 L4616.86 464.957 Z\" fill=\"#000000\" fill-rule=\"evenodd\" fill-opacity=\"1\" /><path clip-path=\"url(#clip750)\" d=\"M4642.51 451.693 Q4639.36 451.693 4637.51 453.846 Q4635.68 455.999 4635.68 459.749 Q4635.68 463.475 4637.51 465.651 Q4639.36 467.804 4642.51 467.804 Q4645.66 467.804 4647.49 465.651 Q4649.34 463.475 4649.34 459.749 Q4649.34 455.999 4647.49 453.846 Q4645.66 451.693 4642.51 451.693 M4651.79 437.04 L4651.79 441.3 Q4650.03 440.466 4648.23 440.026 Q4646.45 439.587 4644.69 439.587 Q4640.06 439.587 4637.6 442.712 Q4635.17 445.837 4634.83 452.156 Q4636.19 450.142 4638.25 449.077 Q4640.31 447.989 4642.79 447.989 Q4648 447.989 4651.01 451.161 Q4654.04 454.309 4654.04 459.749 Q4654.04 465.073 4650.89 468.29 Q4647.74 471.508 4642.51 471.508 Q4636.51 471.508 4633.34 466.924 Q4630.17 462.318 4630.17 453.591 Q4630.17 445.397 4634.06 440.536 Q4637.95 435.651 4644.5 435.651 Q4646.26 435.651 4648.04 435.999 Q4649.85 436.346 4651.79 437.04 Z\" fill=\"#000000\" fill-rule=\"evenodd\" fill-opacity=\"1\" /><path clip-path=\"url(#clip750)\" d=\"M4596.7 334.21 Q4593.09 334.21 4591.26 337.775 Q4589.45 341.317 4589.45 348.446 Q4589.45 355.553 4591.26 359.117 Q4593.09 362.659 4596.7 362.659 Q4600.33 362.659 4602.14 359.117 Q4603.97 355.553 4603.97 348.446 Q4603.97 341.317 4602.14 337.775 Q4600.33 334.21 4596.7 334.21 M4596.7 330.507 Q4602.51 330.507 4605.57 335.113 Q4608.64 339.696 4608.64 348.446 Q4608.64 357.173 4605.57 361.78 Q4602.51 366.363 4596.7 366.363 Q4590.89 366.363 4587.81 361.78 Q4584.76 357.173 4584.76 348.446 Q4584.76 339.696 4587.81 335.113 Q4590.89 330.507 4596.7 330.507 Z\" fill=\"#000000\" fill-rule=\"evenodd\" fill-opacity=\"1\" /><path clip-path=\"url(#clip750)\" d=\"M4616.86 359.812 L4621.75 359.812 L4621.75 365.692 L4616.86 365.692 L4616.86 359.812 Z\" fill=\"#000000\" fill-rule=\"evenodd\" fill-opacity=\"1\" /><path clip-path=\"url(#clip750)\" d=\"M4630.75 331.132 L4652.97 331.132 L4652.97 333.122 L4640.43 365.692 L4635.54 365.692 L4647.35 335.067 L4630.75 335.067 L4630.75 331.132 Z\" fill=\"#000000\" fill-rule=\"evenodd\" fill-opacity=\"1\" /><path clip-path=\"url(#clip750)\" d=\"M4596.7 229.065 Q4593.09 229.065 4591.26 232.63 Q4589.45 236.172 4589.45 243.301 Q4589.45 250.408 4591.26 253.973 Q4593.09 257.514 4596.7 257.514 Q4600.33 257.514 4602.14 253.973 Q4603.97 250.408 4603.97 243.301 Q4603.97 236.172 4602.14 232.63 Q4600.33 229.065 4596.7 229.065 M4596.7 225.362 Q4602.51 225.362 4605.57 229.968 Q4608.64 234.551 4608.64 243.301 Q4608.64 252.028 4605.57 256.635 Q4602.51 261.218 4596.7 261.218 Q4590.89 261.218 4587.81 256.635 Q4584.76 252.028 4584.76 243.301 Q4584.76 234.551 4587.81 229.968 Q4590.89 225.362 4596.7 225.362 Z\" fill=\"#000000\" fill-rule=\"evenodd\" fill-opacity=\"1\" /><path clip-path=\"url(#clip750)\" d=\"M4616.86 254.667 L4621.75 254.667 L4621.75 260.547 L4616.86 260.547 L4616.86 254.667 Z\" fill=\"#000000\" fill-rule=\"evenodd\" fill-opacity=\"1\" /><path clip-path=\"url(#clip750)\" d=\"M4641.93 244.135 Q4638.6 244.135 4636.68 245.917 Q4634.78 247.699 4634.78 250.824 Q4634.78 253.949 4636.68 255.732 Q4638.6 257.514 4641.93 257.514 Q4645.26 257.514 4647.19 255.732 Q4649.11 253.926 4649.11 250.824 Q4649.11 247.699 4647.19 245.917 Q4645.29 244.135 4641.93 244.135 M4637.26 242.144 Q4634.25 241.403 4632.56 239.343 Q4630.89 237.283 4630.89 234.32 Q4630.89 230.176 4633.83 227.769 Q4636.79 225.362 4641.93 225.362 Q4647.09 225.362 4650.03 227.769 Q4652.97 230.176 4652.97 234.32 Q4652.97 237.283 4651.28 239.343 Q4649.62 241.403 4646.63 242.144 Q4650.01 242.931 4651.89 245.223 Q4653.78 247.514 4653.78 250.824 Q4653.78 255.848 4650.7 258.533 Q4647.65 261.218 4641.93 261.218 Q4636.21 261.218 4633.14 258.533 Q4630.08 255.848 4630.08 250.824 Q4630.08 247.514 4631.98 245.223 Q4633.88 242.931 4637.26 242.144 M4635.54 234.76 Q4635.54 237.445 4637.21 238.949 Q4638.9 240.454 4641.93 240.454 Q4644.94 240.454 4646.63 238.949 Q4648.34 237.445 4648.34 234.76 Q4648.34 232.075 4646.63 230.57 Q4644.94 229.065 4641.93 229.065 Q4638.9 229.065 4637.21 230.57 Q4635.54 232.075 4635.54 234.76 Z\" fill=\"#000000\" fill-rule=\"evenodd\" fill-opacity=\"1\" /><path clip-path=\"url(#clip750)\" d=\"M4596.7 123.92 Q4593.09 123.92 4591.26 127.485 Q4589.45 131.027 4589.45 138.156 Q4589.45 145.263 4591.26 148.828 Q4593.09 152.369 4596.7 152.369 Q4600.33 152.369 4602.14 148.828 Q4603.97 145.263 4603.97 138.156 Q4603.97 131.027 4602.14 127.485 Q4600.33 123.92 4596.7 123.92 M4596.7 120.217 Q4602.51 120.217 4605.57 124.823 Q4608.64 129.406 4608.64 138.156 Q4608.64 146.883 4605.57 151.49 Q4602.51 156.073 4596.7 156.073 Q4590.89 156.073 4587.81 151.49 Q4584.76 146.883 4584.76 138.156 Q4584.76 129.406 4587.81 124.823 Q4590.89 120.217 4596.7 120.217 Z\" fill=\"#000000\" fill-rule=\"evenodd\" fill-opacity=\"1\" /><path clip-path=\"url(#clip750)\" d=\"M4616.86 149.522 L4621.75 149.522 L4621.75 155.402 L4616.86 155.402 L4616.86 149.522 Z\" fill=\"#000000\" fill-rule=\"evenodd\" fill-opacity=\"1\" /><path clip-path=\"url(#clip750)\" d=\"M4632.07 154.684 L4632.07 150.425 Q4633.83 151.258 4635.64 151.698 Q4637.44 152.138 4639.18 152.138 Q4643.81 152.138 4646.24 149.036 Q4648.69 145.911 4649.04 139.568 Q4647.7 141.559 4645.64 142.624 Q4643.58 143.689 4641.08 143.689 Q4635.89 143.689 4632.86 140.564 Q4629.85 137.416 4629.85 131.976 Q4629.85 126.652 4633 123.434 Q4636.14 120.217 4641.38 120.217 Q4647.37 120.217 4650.52 124.823 Q4653.69 129.406 4653.69 138.156 Q4653.69 146.328 4649.8 151.212 Q4645.94 156.073 4639.39 156.073 Q4637.63 156.073 4635.82 155.726 Q4634.01 155.379 4632.07 154.684 M4641.38 140.031 Q4644.52 140.031 4646.35 137.879 Q4648.2 135.726 4648.2 131.976 Q4648.2 128.249 4646.35 126.096 Q4644.52 123.92 4641.38 123.92 Q4638.23 123.92 4636.38 126.096 Q4634.55 128.249 4634.55 131.976 Q4634.55 135.726 4636.38 137.879 Q4638.23 140.031 4641.38 140.031 Z\" fill=\"#000000\" fill-rule=\"evenodd\" fill-opacity=\"1\" /><polyline clip-path=\"url(#clip750)\" style=\"stroke:#000000; stroke-linecap:butt; stroke-linejoin:round; stroke-width:4; stroke-opacity:1; fill:none\" points=\"\n",
       "  4512.76,1078.48 4512.76,982.91 4560.76,982.91 4512.76,982.91 4512.76,877.765 4560.76,877.765 4512.76,877.765 4512.76,772.62 4560.76,772.62 4512.76,772.62 \n",
       "  4512.76,667.475 4560.76,667.475 4512.76,667.475 4512.76,562.33 4560.76,562.33 4512.76,562.33 4512.76,457.185 4560.76,457.185 4512.76,457.185 4512.76,352.04 \n",
       "  4560.76,352.04 4512.76,352.04 4512.76,246.895 4560.76,246.895 4512.76,246.895 4512.76,141.75 4560.76,141.75 4512.76,141.75 4512.76,47.2441 \n",
       "  \"/>\n",
       "</svg>\n"
      ]
     },
     "execution_count": 23,
     "metadata": {},
     "output_type": "execute_result"
    }
   ],
   "source": [
    "using StatsFuns: normcdf\n",
    "classification_map = map((x) -> normcdf(dot([1,1],x)), map((x) -> forward(inferred_model, [x...]), collect(Iterators.product(0:0.01:3, 0:0.01:1))))\n",
    "im1 = scatter(data_x[:,1], data_x[:,2], xlabel=\"gain 1\", ylabel=\"gain 2\", color=dat_to_col(data_y))\n",
    "im2 = scatter(data_x[:,1], data_x[:,2], xlabel=\"gain 1\", ylabel=\"gain 2\", color=cmap.(normcdf.(trans_data_x_2)))\n",
    "im3 = contour(0.0:0.1:2.5, 0.0:0.01:1, (x, y) -> normcdf(dot([1, 1], forward(inferred_model, [x, y]))), color=[\"blue\", \"red\"])\n",
    "plot(im1, im2, im3, legend=false, layout=(1, 3), size=(1200, 300))"
   ]
  },
  {
   "cell_type": "markdown",
   "id": "original-hearing",
   "metadata": {},
   "source": [
    "## Planning\n",
    "Few things must be said about the planning stage. \n",
    "First of all, the idea of planning is a reverse problem to prefernce learning. \n",
    "Given the parameters of neural network, the goal prior for the appraisal (1.0) and an informative prior for the future context (we have an idea of how the environment evolves), we want to infer the most suitable gains.\n",
    "The evolution of the context will be based on HMM model, where the observations are \n",
    "\n",
    "For illustration purposes, we will first run the inference algorithm to obtain **z** and **x**. Secondly, we run our agent that proposes gains."
   ]
  },
  {
   "cell_type": "code",
   "execution_count": 24,
   "id": "neutral-equation",
   "metadata": {},
   "outputs": [
    {
     "data": {
      "text/plain": [
       "(KeepActor{Real}(Real[1.2087418129214136, 1.2087418129214136, 1.2087418129214136, 1.2087418129214136, 1.2087418129214136, 1.2087418129214136, 1.2087418129214136, 1.2087418129214136, 1.2087418129214136, 1.2087418129214136  …  1.2087418129214136, 1.2087418129214136, 1.2087418129214136, 1.2087418129214136, 1.2087418129214136, 1.2087418129214136, 1.2087418129214136, 1.2087418129214136, 1.2087418129214136, 1.2087418129214136]), Marginal(MvNormalWeightedMeanPrecision(\n",
       "xi: [71.8229818259273, 67.26083242197328]\n",
       "Λ: [113.44139067812844 10.631434048018336; 10.631434048018336 108.40890594016291]\n",
       ")\n",
       "))"
      ]
     },
     "execution_count": 24,
     "metadata": {},
     "output_type": "execute_result"
    }
   ],
   "source": [
    "# test\n",
    "mgs, covgs = repeat([0.5], 2), 1e-2*diagm(ones(2))\n",
    "fe, gains = inference_flow_planner(mgs, covgs, 1.0, params)"
   ]
  },
  {
   "cell_type": "code",
   "execution_count": 25,
   "id": "comparable-christian",
   "metadata": {},
   "outputs": [],
   "source": [
    "test_files = get_sounds_fn(\"sound/AIDA/test/\");"
   ]
  },
  {
   "cell_type": "code",
   "execution_count": 43,
   "id": "military-india",
   "metadata": {},
   "outputs": [
    {
     "name": "stdout",
     "output_type": "stream",
     "text": [
      "sound/AIDA/test/babble/0dB/sp21_babble_sn0.wav\n"
     ]
    },
    {
     "name": "stderr",
     "output_type": "stream",
     "text": [
      "\u001b[32mProgress: 100%|█████████████████████████████████████████| Time: 0:05:27\u001b[39m\n"
     ]
    },
    {
     "name": "stdout",
     "output_type": "stream",
     "text": [
      "sound/AIDA/test/babble/0dB/sp22_babble_sn0.wav\n"
     ]
    },
    {
     "name": "stderr",
     "output_type": "stream",
     "text": [
      "\u001b[32mProgress: 100%|█████████████████████████████████████████| Time: 0:04:05\u001b[39m\n"
     ]
    },
    {
     "name": "stdout",
     "output_type": "stream",
     "text": [
      "sound/AIDA/test/babble/0dB/sp23_babble_sn0.wav\n"
     ]
    },
    {
     "name": "stderr",
     "output_type": "stream",
     "text": [
      "\u001b[32mProgress: 100%|█████████████████████████████████████████| Time: 0:03:35\u001b[39m\n"
     ]
    },
    {
     "name": "stdout",
     "output_type": "stream",
     "text": [
      "sound/AIDA/test/babble/0dB/sp24_babble_sn0.wav\n"
     ]
    },
    {
     "name": "stderr",
     "output_type": "stream",
     "text": [
      "\u001b[32mProgress: 100%|█████████████████████████████████████████| Time: 0:04:43\u001b[39m\n"
     ]
    },
    {
     "name": "stdout",
     "output_type": "stream",
     "text": [
      "sound/AIDA/test/babble/0dB/sp25_babble_sn0.wav\n"
     ]
    },
    {
     "name": "stderr",
     "output_type": "stream",
     "text": [
      "\u001b[32mProgress: 100%|█████████████████████████████████████████| Time: 0:04:19\u001b[39m\n"
     ]
    },
    {
     "name": "stdout",
     "output_type": "stream",
     "text": [
      "sound/AIDA/test/babble/0dB/sp26_babble_sn0.wav\n"
     ]
    },
    {
     "name": "stderr",
     "output_type": "stream",
     "text": [
      "\u001b[32mProgress: 100%|█████████████████████████████████████████| Time: 0:03:45\u001b[39m\n"
     ]
    },
    {
     "name": "stdout",
     "output_type": "stream",
     "text": [
      "sound/AIDA/test/babble/0dB/sp27_babble_sn0.wav\n"
     ]
    },
    {
     "name": "stderr",
     "output_type": "stream",
     "text": [
      "\u001b[32mProgress: 100%|█████████████████████████████████████████| Time: 0:04:35\u001b[39m\n"
     ]
    },
    {
     "name": "stdout",
     "output_type": "stream",
     "text": [
      "sound/AIDA/test/babble/0dB/sp28_babble_sn0.wav\n"
     ]
    },
    {
     "name": "stderr",
     "output_type": "stream",
     "text": [
      "\u001b[32mProgress: 100%|█████████████████████████████████████████| Time: 0:04:39\u001b[39m\n"
     ]
    },
    {
     "name": "stdout",
     "output_type": "stream",
     "text": [
      "sound/AIDA/test/babble/0dB/sp29_babble_sn0.wav\n"
     ]
    },
    {
     "name": "stderr",
     "output_type": "stream",
     "text": [
      "\u001b[32mProgress: 100%|█████████████████████████████████████████| Time: 0:04:02\u001b[39m\n"
     ]
    },
    {
     "name": "stdout",
     "output_type": "stream",
     "text": [
      "sound/AIDA/test/babble/0dB/sp30_babble_sn0.wav\n"
     ]
    },
    {
     "name": "stderr",
     "output_type": "stream",
     "text": [
      "\u001b[32mProgress: 100%|█████████████████████████████████████████| Time: 0:03:44\u001b[39m\n"
     ]
    },
    {
     "name": "stdout",
     "output_type": "stream",
     "text": [
      "sound/AIDA/test/train/0dB/sp21_train_sn0.wav\n"
     ]
    },
    {
     "name": "stderr",
     "output_type": "stream",
     "text": [
      "\u001b[32mProgress: 100%|█████████████████████████████████████████| Time: 0:05:13\u001b[39m\n"
     ]
    },
    {
     "name": "stdout",
     "output_type": "stream",
     "text": [
      "sound/AIDA/test/train/0dB/sp22_train_sn0.wav\n"
     ]
    },
    {
     "name": "stderr",
     "output_type": "stream",
     "text": [
      "\u001b[32mProgress: 100%|█████████████████████████████████████████| Time: 0:03:32\u001b[39m\n"
     ]
    },
    {
     "name": "stdout",
     "output_type": "stream",
     "text": [
      "sound/AIDA/test/train/0dB/sp23_train_sn0.wav\n"
     ]
    },
    {
     "name": "stderr",
     "output_type": "stream",
     "text": [
      "\u001b[32mProgress: 100%|█████████████████████████████████████████| Time: 0:03:36\u001b[39m\n"
     ]
    },
    {
     "name": "stdout",
     "output_type": "stream",
     "text": [
      "sound/AIDA/test/train/0dB/sp24_train_sn0.wav\n"
     ]
    },
    {
     "name": "stderr",
     "output_type": "stream",
     "text": [
      "\u001b[32mProgress: 100%|█████████████████████████████████████████| Time: 0:04:37\u001b[39m\n"
     ]
    },
    {
     "name": "stdout",
     "output_type": "stream",
     "text": [
      "sound/AIDA/test/train/0dB/sp25_train_sn0.wav\n"
     ]
    },
    {
     "name": "stderr",
     "output_type": "stream",
     "text": [
      "\u001b[32mProgress: 100%|█████████████████████████████████████████| Time: 0:04:05\u001b[39m\n"
     ]
    },
    {
     "name": "stdout",
     "output_type": "stream",
     "text": [
      "sound/AIDA/test/train/0dB/sp26_train_sn0.wav\n"
     ]
    },
    {
     "name": "stderr",
     "output_type": "stream",
     "text": [
      "\u001b[32mProgress: 100%|█████████████████████████████████████████| Time: 0:03:19\u001b[39m\n"
     ]
    },
    {
     "name": "stdout",
     "output_type": "stream",
     "text": [
      "sound/AIDA/test/train/0dB/sp27_train_sn0.wav\n"
     ]
    },
    {
     "name": "stderr",
     "output_type": "stream",
     "text": [
      "\u001b[32mProgress: 100%|█████████████████████████████████████████| Time: 0:03:18\u001b[39m\n"
     ]
    },
    {
     "name": "stdout",
     "output_type": "stream",
     "text": [
      "sound/AIDA/test/train/0dB/sp28_train_sn0.wav\n"
     ]
    },
    {
     "name": "stderr",
     "output_type": "stream",
     "text": [
      "\u001b[32mProgress: 100%|█████████████████████████████████████████| Time: 0:03:09\u001b[39m\n"
     ]
    },
    {
     "name": "stdout",
     "output_type": "stream",
     "text": [
      "sound/AIDA/test/train/0dB/sp29_train_sn0.wav\n"
     ]
    },
    {
     "name": "stderr",
     "output_type": "stream",
     "text": [
      "\u001b[32mProgress: 100%|█████████████████████████████████████████| Time: 0:03:30\u001b[39m\n"
     ]
    },
    {
     "name": "stdout",
     "output_type": "stream",
     "text": [
      "sound/AIDA/test/train/0dB/sp30_train_sn0.wav\n"
     ]
    },
    {
     "name": "stderr",
     "output_type": "stream",
     "text": [
      "\u001b[32mProgress: 100%|█████████████████████████████████████████| Time: 0:03:26\u001b[39m\n"
     ]
    }
   ],
   "source": [
    "# obtain HA output for test set (data for acting)\n",
    "using JLD\n",
    "# r for recovered\n",
    "for test_file in test_files\n",
    "    if !occursin(\".wav\", test_file)\n",
    "        continue\n",
    "    end\n",
    "    \n",
    "    speech, fs = WAV.wavread(test_file)\n",
    "    speech_seg = get_frames(speech, fs)\n",
    "    \n",
    "    # choose priors\n",
    "    # TODO: infer context\n",
    "    if occursin(\"/babble/\", test_file)\n",
    "        priors_eta = (bblmη_arr, bblvη_arr)\n",
    "        priors_tau = bblτ_arr\n",
    "    elseif occursin(\"/train/\", test_file)\n",
    "        priors_eta = (trmη_arr, trvη_arr)\n",
    "        priors_tau = trτ_arr\n",
    "    else\n",
    "        continue\n",
    "    end\n",
    "    println(test_file)\n",
    "    \n",
    "    # make sure that 1D of priors and speech_seg are equal\n",
    "    if size(priors_eta, 1) != size(speech_seg, 1)\n",
    "        totseg = size(speech_seg, 1)\n",
    "        priors_eta_m, priors_eta_v, priors_tau = prior_to_priors(priors_eta[1][1, :]', priors_eta[2][1, :, :], priors_tau[1], totseg)\n",
    "        priors_eta = priors_eta_m, priors_eta_v\n",
    "    end\n",
    "    rmz, rvz, rmθ, rvθ, rγ, rmx, rvx, rmη, rvη, rτ, fe, rmo = HA_algorithm(speech_seg, priors_eta, priors_tau, 10, 2, 10);\n",
    "    \n",
    "    JLD.save(\"sound/AIDA/separated_jld/test/\"*test_file[findfirst(\"sp\", test_file)[1]:end][1:end-3]*\"jld\",\n",
    "         \"rmz\", rmz, \"rvz\", rvz, \"rmθ\", rmθ, \"rvθ\", rvθ, \"rγ\", rγ, \n",
    "         \"rmx\", rmx, \"rvx\", rvx, \"rmη\", rmη, \"rvη\", rvη, \"rτ\", rτ,\n",
    "         \"fe\", fe, \"rmo\", rmo, \"filename\", test_file,\n",
    "         \"audio\", speech)\n",
    "end"
   ]
  },
  {
   "cell_type": "code",
   "execution_count": 45,
   "id": "quality-teens",
   "metadata": {},
   "outputs": [],
   "source": [
    "test_jlds = get_sounds_fn(\"sound/AIDA/separated_jld/test/\");"
   ]
  },
  {
   "cell_type": "code",
   "execution_count": 46,
   "id": "unable-bulgarian",
   "metadata": {},
   "outputs": [
    {
     "data": {
      "text/plain": [
       "Dict{String, Any} with 14 entries:\n",
       "  \"audio\"    => [0.0659505; 0.0466628; … ; 0.0177007; 0.0260323]\n",
       "  \"rvz\"      => [0.00132598 0.000487292 … 0.000435906 0.000557015; 0.00136346 0…\n",
       "  \"rmz\"      => [0.0146437 0.0158006 … -0.0175001 -0.019014; -0.0264399 0.00196…\n",
       "  \"rvθ\"      => [0.00718847 -0.000881056 … 4.45185e-5 1.15663e-5; 0.00689001 -0…\n",
       "  \"rvη\"      => [0.0135076 -0.00793697; 0.014867 -0.00958109; … ; 0.0152392 -0.…\n",
       "  \"rmη\"      => [0.745136 -0.190553; 0.726476 -0.0568321; … ; 0.907209 -0.26019…\n",
       "  \"rγ\"       => [(41.0, 0.0260959), (41.0, 0.0245033), (41.0, 0.0303322), (41.0…\n",
       "  \"fe\"       => [444.712 259.632 … 21.4958 -6.58402; 444.711 259.63 … 21.7304 -…\n",
       "  \"rmo\"      => [0.0658367 0.0470218 … -0.0603806 -0.0624228; -0.0501297 -0.003…\n",
       "  \"rmx\"      => [0.051193 0.0312213 … -0.0428805 -0.0434088; -0.0236898 -0.0055…\n",
       "  \"rτ\"       => [(81.0, 0.0833871), (81.0, 0.0810728), (81.0, 0.0837156), (81.0…\n",
       "  \"filename\" => \"sound/AIDA/test/babble/0dB/sp21_babble_sn0.wav\"\n",
       "  \"rvx\"      => [0.00138101 0.000485686 … 0.000490908 0.000550814; 0.00139781 0…\n",
       "  \"rmθ\"      => [0.167088 -0.0331565 … -0.00283989 -0.00178122; 0.195652 0.0089…"
      ]
     },
     "execution_count": 46,
     "metadata": {},
     "output_type": "execute_result"
    }
   ],
   "source": [
    "JLD.load(test_jlds[1])"
   ]
  },
  {
   "cell_type": "code",
   "execution_count": 47,
   "id": "sweet-yugoslavia",
   "metadata": {},
   "outputs": [
    {
     "name": "stdout",
     "output_type": "stream",
     "text": [
      "How's HA output 1, 0 ?\n"
     ]
    },
    {
     "name": "stdin",
     "output_type": "stream",
     "text": [
      "stdin>  0.0\n"
     ]
    },
    {
     "name": "stdout",
     "output_type": "stream",
     "text": [
      "How's HA output 1, 0 ?\n"
     ]
    },
    {
     "name": "stdin",
     "output_type": "stream",
     "text": [
      "stdin>  0.0\n"
     ]
    },
    {
     "name": "stdout",
     "output_type": "stream",
     "text": [
      "How's HA output 1, 0 ?\n"
     ]
    },
    {
     "name": "stdin",
     "output_type": "stream",
     "text": [
      "stdin>  0.5\n"
     ]
    },
    {
     "name": "stdout",
     "output_type": "stream",
     "text": [
      "How's HA output 1, 0 ?\n"
     ]
    },
    {
     "name": "stdin",
     "output_type": "stream",
     "text": [
      "stdin>  1.0\n"
     ]
    },
    {
     "name": "stdout",
     "output_type": "stream",
     "text": [
      "How's HA output 1, 0 ?\n"
     ]
    },
    {
     "name": "stdin",
     "output_type": "stream",
     "text": [
      "stdin>  0.0\n"
     ]
    },
    {
     "name": "stdout",
     "output_type": "stream",
     "text": [
      "How's HA output 1, 0 ?\n"
     ]
    },
    {
     "name": "stdin",
     "output_type": "stream",
     "text": [
      "stdin>  0.0\n"
     ]
    },
    {
     "name": "stdout",
     "output_type": "stream",
     "text": [
      "How's HA output 1, 0 ?\n"
     ]
    },
    {
     "name": "stdin",
     "output_type": "stream",
     "text": [
      "stdin>  0.0\n"
     ]
    },
    {
     "name": "stdout",
     "output_type": "stream",
     "text": [
      "How's HA output 1, 0 ?\n"
     ]
    },
    {
     "name": "stdin",
     "output_type": "stream",
     "text": [
      "stdin>  .\n"
     ]
    },
    {
     "name": "stdout",
     "output_type": "stream",
     "text": [
      "How's HA output 1, 0 ?\n"
     ]
    },
    {
     "name": "stdin",
     "output_type": "stream",
     "text": [
      "stdin>  0.0\n"
     ]
    },
    {
     "name": "stdout",
     "output_type": "stream",
     "text": [
      "How's HA output 1, 0 ?\n"
     ]
    },
    {
     "name": "stdin",
     "output_type": "stream",
     "text": [
      "stdin>  0.0\n"
     ]
    },
    {
     "name": "stdout",
     "output_type": "stream",
     "text": [
      "How's HA output 1, 0 ?\n"
     ]
    },
    {
     "name": "stdin",
     "output_type": "stream",
     "text": [
      "stdin>  0.8\n"
     ]
    },
    {
     "name": "stdout",
     "output_type": "stream",
     "text": [
      "How's HA output 1, 0 ?\n"
     ]
    },
    {
     "name": "stdin",
     "output_type": "stream",
     "text": [
      "stdin>  0.0\n"
     ]
    },
    {
     "name": "stdout",
     "output_type": "stream",
     "text": [
      "How's HA output 1, 0 ?\n"
     ]
    },
    {
     "name": "stdin",
     "output_type": "stream",
     "text": [
      "stdin>  1.0\n"
     ]
    },
    {
     "name": "stdout",
     "output_type": "stream",
     "text": [
      "How's HA output 1, 0 ?\n"
     ]
    },
    {
     "name": "stdin",
     "output_type": "stream",
     "text": [
      "stdin>  0.1\n"
     ]
    },
    {
     "name": "stdout",
     "output_type": "stream",
     "text": [
      "How's HA output 1, 0 ?\n"
     ]
    },
    {
     "name": "stdin",
     "output_type": "stream",
     "text": [
      "stdin>  0.2\n"
     ]
    },
    {
     "name": "stdout",
     "output_type": "stream",
     "text": [
      "How's HA output 1, 0 ?\n"
     ]
    },
    {
     "name": "stdin",
     "output_type": "stream",
     "text": [
      "stdin>  0.2\n"
     ]
    },
    {
     "name": "stdout",
     "output_type": "stream",
     "text": [
      "How's HA output 1, 0 ?\n"
     ]
    },
    {
     "name": "stdin",
     "output_type": "stream",
     "text": [
      "stdin>  0.0\n"
     ]
    },
    {
     "name": "stdout",
     "output_type": "stream",
     "text": [
      "How's HA output 1, 0 ?\n"
     ]
    },
    {
     "name": "stdin",
     "output_type": "stream",
     "text": [
      "stdin>  0.0\n"
     ]
    },
    {
     "name": "stdout",
     "output_type": "stream",
     "text": [
      "How's HA output 1, 0 ?\n"
     ]
    },
    {
     "name": "stdin",
     "output_type": "stream",
     "text": [
      "stdin>  0.0\n"
     ]
    },
    {
     "name": "stdout",
     "output_type": "stream",
     "text": [
      "How's HA output 1, 0 ?\n"
     ]
    },
    {
     "name": "stdin",
     "output_type": "stream",
     "text": [
      "stdin>  0\n"
     ]
    }
   ],
   "source": [
    "# Here agent plans and learns\n",
    "gs = [0.5, 0.5]\n",
    "covgs = diageye(2)\n",
    "for test_jld in test_jlds\n",
    "    d = JLD.load(test_jld)\n",
    "    rmz, rmx = d[\"rmz\"], d[\"rmx\"]\n",
    "    filename = d[\"filename\"]\n",
    "    if occursin(\"/babble/\", filename)\n",
    "        context = 1.0\n",
    "        params = Optim.minimizer(res_babble)\n",
    "        fe, gains = inference_flow_planner(gs, covgs, 1.0, params)\n",
    "    elseif occursin(\"/train/\", filename)\n",
    "        context = 0.0\n",
    "        params = Optim.minimizer(res_train)\n",
    "        fe, gains = inference_flow_planner(gs, covgs, 1.0, params)\n",
    "    else\n",
    "        continue\n",
    "    end\n",
    "    rz, rx = get_signal(rmz, fs), get_signal(rmx, fs)\n",
    "    # TODO change to the output of flow_nn\n",
    "    gs = mean(gains)\n",
    "    ha_out = gs[1] .* rz + gs[2] .* rx\n",
    "    # TODO: we can learn here as well. If the user provides a feedback to each proposal, we can feed this information back to our learning function.\n",
    "\n",
    "    \n",
    "    full_name = \"sound/AIDA/planning/ha_out_$(gs[1])_$(gs[2])_\"*filename[findfirst(\"sp\", filename)[1]:end]\n",
    "    WAV.wavwrite(ha_out, fs, full_name)\n",
    "    WAV.wavplay(full_name)\n",
    "    println(\"How's HA output 1, 0 ?\")\n",
    "    appraisal = readline()\n",
    "end"
   ]
  },
  {
   "cell_type": "code",
   "execution_count": 34,
   "id": "martial-public",
   "metadata": {},
   "outputs": [
    {
     "name": "stderr",
     "output_type": "stream",
     "text": [
      "\u001b[32m\u001b[1m    Updating\u001b[22m\u001b[39m registry at `~/.julia/registries/General`\n",
      "\u001b[32m\u001b[1m   Resolving\u001b[22m\u001b[39m package versions...\n",
      "\u001b[32m\u001b[1m   Installed\u001b[22m\u001b[39m MemPool ─ v0.3.6\n",
      "\u001b[32m\u001b[1m   Installed\u001b[22m\u001b[39m Tables ── v1.5.2\n",
      "\u001b[32m\u001b[1m   Installed\u001b[22m\u001b[39m Dagger ── v0.13.2\n",
      "\u001b[32m\u001b[1m    Updating\u001b[22m\u001b[39m `~/Documents/Julia/AIDA/Project.toml`\n",
      " \u001b[90m [d58978e5] \u001b[39m\u001b[92m+ Dagger v0.13.2\u001b[39m\n",
      "\u001b[32m\u001b[1m    Updating\u001b[22m\u001b[39m `~/Documents/Julia/AIDA/Manifest.toml`\n",
      " \u001b[90m [d58978e5] \u001b[39m\u001b[92m+ Dagger v0.13.2\u001b[39m\n",
      " \u001b[90m [e2d170a0] \u001b[39m\u001b[92m+ DataValueInterfaces v1.0.0\u001b[39m\n",
      " \u001b[90m [82899510] \u001b[39m\u001b[92m+ IteratorInterfaceExtensions v1.0.0\u001b[39m\n",
      " \u001b[90m [f9f48841] \u001b[39m\u001b[92m+ MemPool v0.3.6\u001b[39m\n",
      " \u001b[90m [91c51154] \u001b[39m\u001b[92m+ SentinelArrays v1.3.7\u001b[39m\n",
      " \u001b[90m [ab02a1b2] \u001b[39m\u001b[92m+ TableOperations v1.1.0\u001b[39m\n",
      " \u001b[90m [3783bdb8] \u001b[39m\u001b[92m+ TableTraits v1.0.1\u001b[39m\n",
      " \u001b[90m [bd369af6] \u001b[39m\u001b[92m+ Tables v1.5.2\u001b[39m\n",
      "\u001b[32m\u001b[1mPrecompiling\u001b[22m\u001b[39m project...\n",
      "\u001b[32m  ✓ \u001b[39m\u001b[90mMemPool\u001b[39m\n",
      "\u001b[32m  ✓ \u001b[39m\u001b[90mTables\u001b[39m\n",
      "\u001b[33m  ? \u001b[39m\u001b[90mTableOperations\u001b[39m\n",
      "\u001b[33m  ? \u001b[39mDagger\n",
      "2 dependencies successfully precompiled in 5 seconds (111 already precompiled)\n",
      "\u001b[33m2\u001b[39m dependencies failed but may be precompilable after restarting julia\n"
     ]
    }
   ],
   "source": [
    "] add Dagger"
   ]
  },
  {
   "cell_type": "code",
   "execution_count": null,
   "id": "federal-token",
   "metadata": {},
   "outputs": [],
   "source": []
  }
 ],
 "metadata": {
  "kernelspec": {
   "display_name": "Julia 1.6.0",
   "language": "julia",
   "name": "julia-1.6"
  },
  "language_info": {
   "file_extension": ".jl",
   "mimetype": "application/julia",
   "name": "julia",
   "version": "1.6.0"
  }
 },
 "nbformat": 4,
 "nbformat_minor": 5
}
