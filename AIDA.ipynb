{
 "cells": [
  {
   "cell_type": "markdown",
   "id": "successful-harvey",
   "metadata": {},
   "source": [
    "# Active Inference Design Agent (demo)"
   ]
  },
  {
   "cell_type": "code",
   "execution_count": 3,
   "id": "correct-angle",
   "metadata": {},
   "outputs": [],
   "source": [
    "using JLD\n",
    "using Revise\n",
    "using Rocket\n",
    "using ReactiveMP\n",
    "using GraphPPL\n",
    "using Distributions\n",
    "using LinearAlgebra\n",
    "using Random \n",
    "import ProgressMeter\n",
    "using WAV\n",
    "using Plots\n",
    "using ImageCore"
   ]
  },
  {
   "cell_type": "code",
   "execution_count": 4,
   "id": "choice-taxation",
   "metadata": {},
   "outputs": [
    {
     "data": {
      "text/plain": [
       "batch_coupled_learning (generic function with 1 method)"
      ]
     },
     "execution_count": 4,
     "metadata": {},
     "output_type": "execute_result"
    }
   ],
   "source": [
    "# include auxilary functions for data processing\n",
    "include(\"helpers/aida_segmentation.jl\")\n",
    "# include SNR quality metric\n",
    "include(\"helpers/aida_snr.jl\")\n",
    "# include SNR quality metric\n",
    "include(\"helpers/aida_ar.jl\")\n",
    "# include models and corresponding inference algos\n",
    "include(\"models_inferences.jl\")"
   ]
  },
  {
   "cell_type": "code",
   "execution_count": 5,
   "id": "proud-hometown",
   "metadata": {},
   "outputs": [
    {
     "data": {
      "text/plain": [
       "lar_inference_ex (generic function with 1 method)"
      ]
     },
     "execution_count": 5,
     "metadata": {},
     "output_type": "execute_result"
    }
   ],
   "source": [
    "include(\"models/everything.jl\")"
   ]
  },
  {
   "cell_type": "code",
   "execution_count": 6,
   "id": "third-somalia",
   "metadata": {},
   "outputs": [
    {
     "data": {
      "text/plain": [
       "inference_flow_planner (generic function with 1 method)"
      ]
     },
     "execution_count": 6,
     "metadata": {},
     "output_type": "execute_result"
    }
   ],
   "source": [
    "# normalizing flows agent\n",
    "include(\"agent/agent_Bart/flow_agent.jl\")"
   ]
  },
  {
   "cell_type": "code",
   "execution_count": 7,
   "id": "worst-panic",
   "metadata": {},
   "outputs": [
    {
     "data": {
      "text/plain": [
       "get_sounds_fn (generic function with 1 method)"
      ]
     },
     "execution_count": 7,
     "metadata": {},
     "output_type": "execute_result"
    }
   ],
   "source": [
    "# return list of files from dir_name\n",
    "function get_sounds_fn(dir_name)\n",
    "    file_names = []\n",
    "    for (root, dirs, files) in walkdir(dir_name)\n",
    "        for file in files\n",
    "            push!(file_names, joinpath(root, file)) # path to files\n",
    "        end\n",
    "    end\n",
    "    file_names\n",
    "end"
   ]
  },
  {
   "cell_type": "code",
   "execution_count": 8,
   "id": "covered-split",
   "metadata": {},
   "outputs": [
    {
     "data": {
      "text/plain": [
       "8000"
      ]
     },
     "execution_count": 8,
     "metadata": {},
     "output_type": "execute_result"
    }
   ],
   "source": [
    "fs = 8000"
   ]
  },
  {
   "cell_type": "markdown",
   "id": "provincial-falls",
   "metadata": {},
   "source": [
    "In this demo we will work with two different contexts (environemtns): babble and train noises. \n",
    "\n",
    "You can think of a user who keeps wandering around a train station: sometimes train arrives and he/she hears the train noises. When there is no train arriving to the platform, the user hears the babble from people waiting for the train.\n",
    "When someone starts talking to the user he would (maybe) prefer to damp the environmental noise and focus only on the speaker.\n",
    "\n",
    "Another possible scenario you can think of is the user who steps out of the train and goes to the bar, where people produce babble noise :D "
   ]
  },
  {
   "cell_type": "markdown",
   "id": "reflected-bandwidth",
   "metadata": {},
   "source": [
    "## Let's obtain priors for the environment"
   ]
  },
  {
   "cell_type": "markdown",
   "id": "bored-queens",
   "metadata": {},
   "source": [
    "To make our model identifiabile, we would like to obtain priors for the environmental noises. To do this, we use Voice-Activity-Detection (VAD) to find the silent segments (with no speech). When those frames are identified, we fit them to AR model of order 2 to learn the parameters of AR.\n",
    "\n",
    "Surely, you can obtain the priors based on different logic. (to discuss (1) it doesn't have to be AR, (2) it doesn't have to be VAD)"
   ]
  },
  {
   "cell_type": "code",
   "execution_count": 9,
   "id": "united-longer",
   "metadata": {},
   "outputs": [
    {
     "data": {
      "text/plain": [
       "376"
      ]
     },
     "execution_count": 9,
     "metadata": {},
     "output_type": "execute_result"
    }
   ],
   "source": [
    "# Load sound from .wav\n",
    "babble, fs = wavread(\"sound/AIDA/training/babble/0dB/sp01_babble_sn0.wav\")\n",
    "# split babble into overlapping segments (default 0.01s=10ms, 0.0025=2.5ms)\n",
    "bbl_seg = get_frames(babble, fs)\n",
    "# compute number of segments\n",
    "bbl_totseg = size(bbl_seg, 1)"
   ]
  },
  {
   "cell_type": "code",
   "execution_count": 10,
   "id": "specific-asset",
   "metadata": {},
   "outputs": [
    {
     "data": {
      "text/plain": [
       "376"
      ]
     },
     "execution_count": 10,
     "metadata": {},
     "output_type": "execute_result"
    }
   ],
   "source": [
    "train, fs = wavread(\"sound/AIDA/training/train/0dB/sp01_train_sn0.wav\")\n",
    "tr_seg = get_frames(train, fs)\n",
    "tr_totseg = size(tr_seg, 1)"
   ]
  },
  {
   "cell_type": "code",
   "execution_count": 11,
   "id": "painful-judges",
   "metadata": {},
   "outputs": [],
   "source": [
    "# Priors for contexts were obtained through running VAD-AR block\n",
    "# prior for train noise\n",
    "trmη = [0.34546575880691316 -0.16774278649436555]\n",
    "trvη = [0.00972993440498344 -0.0027103005529199036; -0.0027103005529199036 0.004281987640515784]\n",
    "# trτ  = (41.0, 0.03644943410647206)\n",
    "trτ  = (41.0, 0.05)\n",
    "\n",
    "# prior for babble noise\n",
    "bblmη = [1.1192255902602752 -0.43086292293101314]\n",
    "bblvη = [0.007837790430663492 -0.005039080815241558; -0.005039080815241558 0.00596413119195013]\n",
    "# bblτ  = (41.0, 0.0029780512310493387);\n",
    "bblτ  = (41.0, 0.05);"
   ]
  },
  {
   "cell_type": "markdown",
   "id": "complete-pillow",
   "metadata": {},
   "source": [
    "### VAD block\n",
    "You can skip this entire block if you used priors from the above cell."
   ]
  },
  {
   "cell_type": "code",
   "execution_count": 133,
   "id": "interim-ranch",
   "metadata": {},
   "outputs": [
    {
     "data": {
      "text/plain": [
       "ar_ssm (generic function with 1 method)"
      ]
     },
     "execution_count": 133,
     "metadata": {},
     "output_type": "execute_result"
    }
   ],
   "source": [
    "import WAV\n",
    "include(\"helpers/aida_segmentation.jl\")\n",
    "include(\"helpers/aida_ar.jl\")"
   ]
  },
  {
   "cell_type": "code",
   "execution_count": 13,
   "id": "emerging-relaxation",
   "metadata": {},
   "outputs": [
    {
     "data": {
      "text/plain": [
       "376"
      ]
     },
     "execution_count": 13,
     "metadata": {},
     "output_type": "execute_result"
    }
   ],
   "source": [
    "# Choose the auido signal from where you intend to extract the parameters\n",
    "# context_seg = bbl_seg\n",
    "# totseg = bbl_totseg\n",
    "context_seg = tr_seg\n",
    "totseg = tr_totseg"
   ]
  },
  {
   "cell_type": "code",
   "execution_count": 144,
   "id": "reported-spider",
   "metadata": {},
   "outputs": [],
   "source": [
    "ar_order = 10\n",
    "vmp_iter = 50\n",
    "fe_ar = zeros(totseg, vmp_iter)\n",
    "fe_gaussian = zeros(totseg, vmp_iter);"
   ]
  },
  {
   "cell_type": "code",
   "execution_count": 145,
   "id": "viral-craps",
   "metadata": {},
   "outputs": [
    {
     "name": "stderr",
     "output_type": "stream",
     "text": [
      "\u001b[32mProgress: 100%|█████████████████████████████████████████| Time: 0:10:28\u001b[39m\n"
     ]
    }
   ],
   "source": [
    "ProgressMeter.@showprogress for segnum in 1:totseg\n",
    "    inputs, outputs = ar_ssm(context_seg[segnum, :], ar_order)\n",
    "    γ, τ, θ, x, fe = lar_inference_ex(outputs, ar_order, vmp_iter)\n",
    "    mθ, vθ = mean(θ), cov(θ)\n",
    "    mγ = mean(γ)\n",
    "    fe_ar[segnum, :] = fe\n",
    "    \n",
    "    x, γ, fe = inference_gaussian(outputs, vmp_iter, 1e4)\n",
    "    mx, vx = mean(x), cov(x)\n",
    "    mγ = mean(γ)\n",
    "    fe_gaussian[segnum, :] = fe\n",
    "end"
   ]
  },
  {
   "cell_type": "code",
   "execution_count": 146,
   "id": "handy-friend",
   "metadata": {},
   "outputs": [],
   "source": [
    "# detect silent frames based on model comparison\n",
    "vad = [x[end] < y[end] for (x, y) in zip(eachrow(fe_ar), eachrow(fe_gaussian))];"
   ]
  },
  {
   "cell_type": "code",
   "execution_count": 147,
   "id": "therapeutic-overview",
   "metadata": {},
   "outputs": [],
   "source": [
    "rsegs = findall(isequal(1), vad)\n",
    "nsegs = findall(isequal(0), vad);"
   ]
  },
  {
   "cell_type": "code",
   "execution_count": 148,
   "id": "adopted-steal",
   "metadata": {},
   "outputs": [
    {
     "data": {
      "text/plain": [
       "15.743337043226559"
      ]
     },
     "execution_count": 148,
     "metadata": {},
     "output_type": "execute_result"
    }
   ],
   "source": [
    "inv(var(sum([context_seg[nseg, :] for nseg in nsegs])))"
   ]
  },
  {
   "cell_type": "code",
   "execution_count": 149,
   "id": "shared-opposition",
   "metadata": {},
   "outputs": [
    {
     "name": "stderr",
     "output_type": "stream",
     "text": [
      "\u001b[32mProgress: 100%|█████████████████████████████████████████| Time: 0:00:08\u001b[39m\n"
     ]
    }
   ],
   "source": [
    "cmx, cvx, cmη, cvη, cτ = lar_batch_learning(hcat([context_seg[nseg, :] for nseg in nsegs]...)', 2, 10, 1e-12);"
   ]
  },
  {
   "cell_type": "code",
   "execution_count": 152,
   "id": "foster-terry",
   "metadata": {},
   "outputs": [
    {
     "name": "stdout",
     "output_type": "stream",
     "text": [
      "[0.34546575880691316 -0.16774278649436555], [0.009534157580617082 -0.0023172071341109046; -0.0023172071341109046 0.004737992984855385], , (41.0, 0.005006868523501751)\n"
     ]
    }
   ],
   "source": [
    "println(\"$(mean(cmη, dims=1)), $(mean(cvη, dims=1)[1, :, :]), , $((cτ[end][1], cτ[end][2]))\")"
   ]
  },
  {
   "cell_type": "code",
   "execution_count": 141,
   "id": "interpreted-stable",
   "metadata": {},
   "outputs": [],
   "source": [
    "# prior for babble noise\n",
    "bblmη = mean(cmη, dims=1)\n",
    "bblvη = mean(cvη, dims=1)[1, :, :]\n",
    "bblτ  = (cτ[end][1], cτ[end][2]);"
   ]
  },
  {
   "cell_type": "code",
   "execution_count": 151,
   "id": "recovered-lotus",
   "metadata": {},
   "outputs": [
    {
     "data": {
      "text/plain": [
       "(41.0, 0.005006868523501751)"
      ]
     },
     "execution_count": 151,
     "metadata": {},
     "output_type": "execute_result"
    }
   ],
   "source": [
    "# Priors for contexts were obtained through running VAD block\n",
    "trmη = mean(cmη, dims=1)\n",
    "trvη = mean(cvη, dims=1)[1, :, :]\n",
    "trτ  = (cτ[end][1], cτ[end][2])"
   ]
  },
  {
   "cell_type": "markdown",
   "id": "handmade-registrar",
   "metadata": {},
   "source": [
    "## Source seperation\n",
    "When priors for the contexts are indentified, we can run noise reduction algorithm based on coupled AR: AR_speech + AR_envrionment = output. This algorithm seperates speech (**z**) and noise (**x**)\n",
    "\n",
    "We will split our dataset into training and test set. We use signals from training set to learn the mapping function between the gains proposed by agent and aprraisals provided by user. Bare in mind that this split is not necessary and in theory we can get along without it."
   ]
  },
  {
   "cell_type": "code",
   "execution_count": 39,
   "id": "geological-level",
   "metadata": {},
   "outputs": [
    {
     "data": {
      "text/plain": [
       "prior_to_priors (generic function with 1 method)"
      ]
     },
     "execution_count": 39,
     "metadata": {},
     "output_type": "execute_result"
    }
   ],
   "source": [
    "# coupled AR model is deisgned to work with time-varying priors for both speech and environmental noise\n",
    "# prior_to_priors map \"static\" priors to the corresponding matrices with equal elements\n",
    "function prior_to_priors(mη, vη, τ, totseg)\n",
    "    ar_order = size(mη, 2)\n",
    "    rmη = zeros(totseg, ar_order)\n",
    "    rvη = zeros(totseg, ar_order, ar_order)\n",
    "    for segnum in 1:totseg\n",
    "        rmη[segnum, :], rvη[segnum, :, :] = reshape(mη, (ar_order,)), vη\n",
    "    end\n",
    "    priors_eta = rmη, rvη\n",
    "    priors_tau = [τ for _ in 1:totseg]\n",
    "    priors_eta[1], priors_eta[2], priors_tau\n",
    "end"
   ]
  },
  {
   "cell_type": "code",
   "execution_count": 40,
   "id": "systematic-postage",
   "metadata": {},
   "outputs": [],
   "source": [
    "trmη_arr, trvη_arr, trτ_arr = prior_to_priors(trmη, trvη, trτ, tr_totseg)\n",
    "bblmη_arr, bblvη_arr, bblτ_arr = prior_to_priors(bblmη, bblvη, bblτ, bbl_totseg);"
   ]
  },
  {
   "cell_type": "code",
   "execution_count": 42,
   "id": "outer-database",
   "metadata": {},
   "outputs": [
    {
     "data": {
      "text/plain": [
       "HA_algorithm (generic function with 1 method)"
      ]
     },
     "execution_count": 42,
     "metadata": {},
     "output_type": "execute_result"
    }
   ],
   "source": [
    "function HA_algorithm(segments, priors_η, priors_τ, ar_1_order, ar_2_order, vmp_its)\n",
    "    \"\"\"Source seperation based on coupled AR model. Inference is performed in batch manner\n",
    "\n",
    "       segments: segmented audio signal\n",
    "       priors_η:   matrix of means and covariances of AR coefficients (see output formal of prior_to_priors\n",
    "       priors_τ:   array of tupes contatining the prior of environmental noise precision\n",
    "       ar_1_order: order of speech signal\n",
    "       ar_2_order: order of environmental noise signal\n",
    "       vmp_its:    number of variational iterations\n",
    "    \"\"\"\n",
    "    n_sources = 2\n",
    "    totseg = size(segments, 1)\n",
    "    l      = size(segments, 2) # dimensionality of the buffer\n",
    "    \n",
    "    rmx = zeros(totseg, l)\n",
    "    rvx = zeros(totseg, l)\n",
    "    rmθ = zeros(totseg, ar_1_order)\n",
    "    rvθ = zeros(totseg, ar_1_order, ar_1_order)\n",
    "    rγ = fill(tuple(.0, .0), totseg)\n",
    "    \n",
    "    rmz = zeros(totseg, l)\n",
    "    rvz = zeros(totseg, l)\n",
    "    rmη = zeros(totseg, ar_2_order)\n",
    "    rvη = zeros(totseg, ar_2_order, ar_2_order)\n",
    "    rτ = fill(tuple(.0, .0), totseg)\n",
    "    \n",
    "    fe  = zeros(totseg, vmp_its)\n",
    "    \n",
    "    rmo = zeros(totseg, l)\n",
    "    \n",
    "    # agent proposes gains according to its beliefs\n",
    "    ProgressMeter.@showprogress for segnum in 1:totseg\n",
    "        prior_η                           = (priors_η[1][segnum, :], priors_η[2][segnum, :, :])\n",
    "        prior_τ                           = priors_τ[segnum]\n",
    "        γ, θ, zs, τ, η, xs, fe[segnum, :] = coupled_inference(segments[segnum, :], prior_η, prior_τ, ar_1_order, ar_2_order, vmp_its)\n",
    "        mz, vz                            = mean.(zs), cov.(zs)\n",
    "        mθ, vθ                            = mean(θ), cov(θ)\n",
    "        rmz[segnum, :], rvz[segnum, :]    = first.(mz), first.(vz)\n",
    "        rmθ[segnum, :], rvθ[segnum, :, :] = mθ, vθ\n",
    "        rγ[segnum]                        = shape(γ), rate(γ)\n",
    "        \n",
    "        mx, vx                            = mean.(xs), cov.(xs)\n",
    "        mη, vη                            = mean(η), cov(η)\n",
    "        rmx[segnum, :], rvx[segnum, :]    = first.(mx), first.(vx)\n",
    "        rmη[segnum, :], rvη[segnum, :, :] = mη, vη\n",
    "        rτ[segnum]                        = shape(τ), rate(τ)\n",
    "        \n",
    "        # HA part\n",
    "        speech = rmz[segnum, :]\n",
    "        noise  = rmx[segnum, :]\n",
    "        rmo[segnum, :] = speech .+ noise\n",
    "    end\n",
    "    rmz, rvz, rmθ, rvθ, rγ, rmx, rvx, rmη, rvη, rτ, fe, rmo\n",
    "end"
   ]
  },
  {
   "cell_type": "markdown",
   "id": "junior-amplifier",
   "metadata": {},
   "source": [
    "#### Obtain the outputs from HA"
   ]
  },
  {
   "cell_type": "code",
   "execution_count": 16,
   "id": "unnecessary-plenty",
   "metadata": {},
   "outputs": [
    {
     "data": {
      "text/plain": [
       "89-element Vector{Any}:\n",
       " \"sound/AIDA/training/.DS_Store\"\n",
       " \"sound/AIDA/training/babble/.DS_Store\"\n",
       " \"sound/AIDA/training/babble/0dB/.DS_Store\"\n",
       " \"sound/AIDA/training/babble/0dB/sp01_babble_sn0.wav\"\n",
       " \"sound/AIDA/training/babble/0dB/sp02_babble_sn0.wav\"\n",
       " \"sound/AIDA/training/babble/0dB/sp03_babble_sn0.wav\"\n",
       " \"sound/AIDA/training/babble/0dB/sp04_babble_sn0.wav\"\n",
       " \"sound/AIDA/training/babble/0dB/sp05_babble_sn0.wav\"\n",
       " \"sound/AIDA/training/babble/0dB/sp06_babble_sn0.wav\"\n",
       " \"sound/AIDA/training/babble/0dB/sp07_babble_sn0.wav\"\n",
       " \"sound/AIDA/training/babble/0dB/sp08_babble_sn0.wav\"\n",
       " \"sound/AIDA/training/babble/0dB/sp09_babble_sn0.wav\"\n",
       " \"sound/AIDA/training/babble/0dB/sp10_babble_sn0.wav\"\n",
       " ⋮\n",
       " \"sound/AIDA/training/train/0dB/sp09_train_sn0.wav\"\n",
       " \"sound/AIDA/training/train/0dB/sp10_train_sn0.wav\"\n",
       " \"sound/AIDA/training/train/0dB/sp11_train_sn0.wav\"\n",
       " \"sound/AIDA/training/train/0dB/sp12_train_sn0.wav\"\n",
       " \"sound/AIDA/training/train/0dB/sp13_train_sn0.wav\"\n",
       " \"sound/AIDA/training/train/0dB/sp14_train_sn0.wav\"\n",
       " \"sound/AIDA/training/train/0dB/sp15_train_sn0.wav\"\n",
       " \"sound/AIDA/training/train/0dB/sp16_train_sn0.wav\"\n",
       " \"sound/AIDA/training/train/0dB/sp17_train_sn0.wav\"\n",
       " \"sound/AIDA/training/train/0dB/sp18_train_sn0.wav\"\n",
       " \"sound/AIDA/training/train/0dB/sp19_train_sn0.wav\"\n",
       " \"sound/AIDA/training/train/0dB/sp20_train_sn0.wav\""
      ]
     },
     "execution_count": 16,
     "metadata": {},
     "output_type": "execute_result"
    }
   ],
   "source": [
    "training_files = get_sounds_fn(\"sound/AIDA/training\")"
   ]
  },
  {
   "cell_type": "code",
   "execution_count": 17,
   "id": "suited-trainer",
   "metadata": {},
   "outputs": [
    {
     "name": "stdout",
     "output_type": "stream",
     "text": [
      "sound/AIDA/training/babble/0dB/sp05_babble_sn0.wav\n"
     ]
    },
    {
     "data": {
      "text/plain": [
       "294×80 Matrix{Float64}:\n",
       " -0.0101016   -0.0143132   -0.0397656    …   0.00061037  -0.0360118\n",
       "  0.0959502    0.102451     0.0734275       -0.132481    -0.096408\n",
       " -0.0475784   -0.0173345   -0.0341197        0.00979644   0.017304\n",
       " -0.0299387   -0.0424512   -0.0852382        0.0191046    0.0619221\n",
       " -0.00543229  -0.0138249    0.0266427        0.0713218    0.0814844\n",
       "  0.0159612    0.0746178    0.0951567    …   0.0327769    0.0158696\n",
       " -0.123508    -0.0682394   -0.0294809       -0.0438246   -0.0236824\n",
       " -0.113529    -0.11359     -0.0176092       -0.0545671   -0.0472121\n",
       " -0.0150761   -0.0573138   -0.0483413        0.0200812    0.023072\n",
       "  0.00305185  -0.00897244  -0.037141         0.0422071    0.00637837\n",
       "  0.112766     0.0451064   -0.0314646    …   0.00613422  -0.0160833\n",
       " -0.037843    -0.00888089   0.00585955      -0.0687887   -0.13831\n",
       " -0.0147099   -0.00366222  -0.00299081       0.0211188   -0.0129398\n",
       "  ⋮                                      ⋱               \n",
       " -0.0194708   -0.042787    -0.0336314       -0.0878933    0.0401624\n",
       "  0.067629     0.0655843    0.0366222        0.058565     0.0552995\n",
       " -0.0913419   -0.046968     0.0317392        0.0103153   -0.0137638\n",
       " -0.0725425   -0.0450758   -0.000305185  …  -0.0285348   -0.0578936\n",
       " -0.0176397    0.017304     0.123325         0.0674154    0.0620746\n",
       "  0.0460524    0.0390027    0.0194403        0.0846889    0.0543229\n",
       "  0.0837123    0.143895     0.115726        -0.0175787   -0.0802942\n",
       " -0.00570696  -0.0339976   -0.0308847       -0.0219123   -0.0514542\n",
       " -0.0317392   -0.064272    -0.0553301    …  -0.0624409    0.0660726\n",
       "  0.00454726   0.0267953    0.0021363        0.110019     0.0631733\n",
       "  0.0765099    0.0745872    0.0749229       -0.0473037   -0.0616169\n",
       "  0.00375378  -0.00933866  -0.00183111       0.0          0.0"
      ]
     },
     "execution_count": 17,
     "metadata": {},
     "output_type": "execute_result"
    }
   ],
   "source": [
    "# Check for how the data is organized\n",
    "training_file = training_files[8]\n",
    "println(training_file)\n",
    "speech, fs = WAV.wavread(training_file)\n",
    "speech_seg = get_frames(speech, fs)"
   ]
  },
  {
   "cell_type": "markdown",
   "id": "modular-guatemala",
   "metadata": {},
   "source": [
    "At this stage we run our inference algorithm to seperate **z** and **x**. We write the output into *.jld* files.\n",
    "\n",
    "You don't need to run this snippet if you haven't changed the default parameters of HA_algorithm and priors (just see *sound/AIDA/separated_jld/training/*)"
   ]
  },
  {
   "cell_type": "code",
   "execution_count": 19,
   "id": "innovative-state",
   "metadata": {},
   "outputs": [
    {
     "name": "stdout",
     "output_type": "stream",
     "text": [
      "sound/AIDA/training/babble/0dB/sp01_babble_sn0.wav\n"
     ]
    },
    {
     "name": "stderr",
     "output_type": "stream",
     "text": [
      "\u001b[32mProgress: 100%|█████████████████████████████████████████| Time: 0:04:10\u001b[39m\n"
     ]
    },
    {
     "name": "stdout",
     "output_type": "stream",
     "text": [
      "sound/AIDA/training/babble/0dB/sp02_babble_sn0.wav\n"
     ]
    },
    {
     "name": "stderr",
     "output_type": "stream",
     "text": [
      "\u001b[32mProgress: 100%|█████████████████████████████████████████| Time: 0:03:44\u001b[39m\n"
     ]
    },
    {
     "name": "stdout",
     "output_type": "stream",
     "text": [
      "sound/AIDA/training/babble/0dB/sp03_babble_sn0.wav\n"
     ]
    },
    {
     "name": "stderr",
     "output_type": "stream",
     "text": [
      "\u001b[32mProgress: 100%|█████████████████████████████████████████| Time: 0:03:14\u001b[39m\n"
     ]
    },
    {
     "name": "stdout",
     "output_type": "stream",
     "text": [
      "sound/AIDA/training/babble/0dB/sp04_babble_sn0.wav\n"
     ]
    },
    {
     "name": "stderr",
     "output_type": "stream",
     "text": [
      "\u001b[32mProgress: 100%|█████████████████████████████████████████| Time: 0:03:01\u001b[39m\n"
     ]
    },
    {
     "name": "stdout",
     "output_type": "stream",
     "text": [
      "sound/AIDA/training/babble/0dB/sp05_babble_sn0.wav\n"
     ]
    },
    {
     "name": "stderr",
     "output_type": "stream",
     "text": [
      "\u001b[32mProgress: 100%|█████████████████████████████████████████| Time: 0:03:09\u001b[39m\n"
     ]
    },
    {
     "name": "stdout",
     "output_type": "stream",
     "text": [
      "sound/AIDA/training/babble/0dB/sp06_babble_sn0.wav\n"
     ]
    },
    {
     "name": "stderr",
     "output_type": "stream",
     "text": [
      "\u001b[32mProgress: 100%|█████████████████████████████████████████| Time: 0:03:43\u001b[39m\n"
     ]
    },
    {
     "name": "stdout",
     "output_type": "stream",
     "text": [
      "sound/AIDA/training/babble/0dB/sp07_babble_sn0.wav\n"
     ]
    },
    {
     "name": "stderr",
     "output_type": "stream",
     "text": [
      "\u001b[32mProgress: 100%|█████████████████████████████████████████| Time: 0:03:25\u001b[39m\n"
     ]
    },
    {
     "name": "stdout",
     "output_type": "stream",
     "text": [
      "sound/AIDA/training/babble/0dB/sp08_babble_sn0.wav\n"
     ]
    },
    {
     "name": "stderr",
     "output_type": "stream",
     "text": [
      "\u001b[32mProgress: 100%|█████████████████████████████████████████| Time: 0:03:53\u001b[39m\n"
     ]
    },
    {
     "name": "stdout",
     "output_type": "stream",
     "text": [
      "sound/AIDA/training/babble/0dB/sp09_babble_sn0.wav\n"
     ]
    },
    {
     "name": "stderr",
     "output_type": "stream",
     "text": [
      "\u001b[32mProgress: 100%|█████████████████████████████████████████| Time: 0:04:19\u001b[39m\n"
     ]
    },
    {
     "name": "stdout",
     "output_type": "stream",
     "text": [
      "sound/AIDA/training/babble/0dB/sp10_babble_sn0.wav\n"
     ]
    },
    {
     "name": "stderr",
     "output_type": "stream",
     "text": [
      "\u001b[32mProgress: 100%|█████████████████████████████████████████| Time: 0:04:11\u001b[39m\n"
     ]
    },
    {
     "name": "stdout",
     "output_type": "stream",
     "text": [
      "sound/AIDA/training/babble/0dB/sp11_babble_sn0.wav\n"
     ]
    },
    {
     "name": "stderr",
     "output_type": "stream",
     "text": [
      "\u001b[32mProgress: 100%|█████████████████████████████████████████| Time: 0:04:29\u001b[39m\n"
     ]
    },
    {
     "name": "stdout",
     "output_type": "stream",
     "text": [
      "sound/AIDA/training/babble/0dB/sp12_babble_sn0.wav\n"
     ]
    },
    {
     "name": "stderr",
     "output_type": "stream",
     "text": [
      "\u001b[32mProgress: 100%|█████████████████████████████████████████| Time: 0:04:12\u001b[39m\n"
     ]
    },
    {
     "name": "stdout",
     "output_type": "stream",
     "text": [
      "sound/AIDA/training/babble/0dB/sp13_babble_sn0.wav\n"
     ]
    },
    {
     "name": "stderr",
     "output_type": "stream",
     "text": [
      "\u001b[32mProgress: 100%|█████████████████████████████████████████| Time: 0:03:46\u001b[39m\n"
     ]
    },
    {
     "name": "stdout",
     "output_type": "stream",
     "text": [
      "sound/AIDA/training/babble/0dB/sp14_babble_sn0.wav\n"
     ]
    },
    {
     "name": "stderr",
     "output_type": "stream",
     "text": [
      "\u001b[32mProgress: 100%|█████████████████████████████████████████| Time: 0:04:36\u001b[39m\n"
     ]
    },
    {
     "name": "stdout",
     "output_type": "stream",
     "text": [
      "sound/AIDA/training/babble/0dB/sp15_babble_sn0.wav\n"
     ]
    },
    {
     "name": "stderr",
     "output_type": "stream",
     "text": [
      "\u001b[32mProgress: 100%|█████████████████████████████████████████| Time: 0:04:36\u001b[39m\n"
     ]
    },
    {
     "name": "stdout",
     "output_type": "stream",
     "text": [
      "sound/AIDA/training/babble/0dB/sp16_babble_sn0.wav\n"
     ]
    },
    {
     "name": "stderr",
     "output_type": "stream",
     "text": [
      "\u001b[32mProgress: 100%|█████████████████████████████████████████| Time: 0:03:41\u001b[39m\n"
     ]
    },
    {
     "name": "stdout",
     "output_type": "stream",
     "text": [
      "sound/AIDA/training/babble/0dB/sp17_babble_sn0.wav\n"
     ]
    },
    {
     "name": "stderr",
     "output_type": "stream",
     "text": [
      "\u001b[32mProgress: 100%|█████████████████████████████████████████| Time: 0:03:34\u001b[39m\n"
     ]
    },
    {
     "name": "stdout",
     "output_type": "stream",
     "text": [
      "sound/AIDA/training/babble/0dB/sp18_babble_sn0.wav\n"
     ]
    },
    {
     "name": "stderr",
     "output_type": "stream",
     "text": [
      "\u001b[32mProgress: 100%|█████████████████████████████████████████| Time: 0:03:09\u001b[39m\n"
     ]
    },
    {
     "name": "stdout",
     "output_type": "stream",
     "text": [
      "sound/AIDA/training/babble/0dB/sp19_babble_sn0.wav\n"
     ]
    },
    {
     "name": "stderr",
     "output_type": "stream",
     "text": [
      "\u001b[32mProgress: 100%|█████████████████████████████████████████| Time: 0:03:38\u001b[39m\n"
     ]
    },
    {
     "name": "stdout",
     "output_type": "stream",
     "text": [
      "sound/AIDA/training/babble/0dB/sp20_babble_sn0.wav\n"
     ]
    },
    {
     "name": "stderr",
     "output_type": "stream",
     "text": [
      "\u001b[32mProgress: 100%|█████████████████████████████████████████| Time: 0:03:32\u001b[39m\n"
     ]
    },
    {
     "name": "stdout",
     "output_type": "stream",
     "text": [
      "sound/AIDA/training/car/0dB/sp01_car_sn0.wav\n"
     ]
    },
    {
     "name": "stderr",
     "output_type": "stream",
     "text": [
      "\u001b[32mProgress: 100%|█████████████████████████████████████████| Time: 0:03:51\u001b[39m\n"
     ]
    },
    {
     "name": "stdout",
     "output_type": "stream",
     "text": [
      "sound/AIDA/training/car/0dB/sp02_car_sn0.wav\n"
     ]
    },
    {
     "name": "stderr",
     "output_type": "stream",
     "text": [
      "\u001b[32mProgress: 100%|█████████████████████████████████████████| Time: 0:03:36\u001b[39m\n"
     ]
    },
    {
     "name": "stdout",
     "output_type": "stream",
     "text": [
      "sound/AIDA/training/car/0dB/sp03_car_sn0.wav\n"
     ]
    },
    {
     "name": "stderr",
     "output_type": "stream",
     "text": [
      "\u001b[32mProgress: 100%|█████████████████████████████████████████| Time: 0:03:04\u001b[39m\n"
     ]
    },
    {
     "name": "stdout",
     "output_type": "stream",
     "text": [
      "sound/AIDA/training/car/0dB/sp04_car_sn0.wav\n"
     ]
    },
    {
     "name": "stderr",
     "output_type": "stream",
     "text": [
      "\u001b[32mProgress: 100%|█████████████████████████████████████████| Time: 0:02:53\u001b[39m\n"
     ]
    },
    {
     "name": "stdout",
     "output_type": "stream",
     "text": [
      "sound/AIDA/training/car/0dB/sp05_car_sn0.wav\n"
     ]
    },
    {
     "name": "stderr",
     "output_type": "stream",
     "text": [
      "\u001b[32mProgress: 100%|█████████████████████████████████████████| Time: 0:03:00\u001b[39m\n"
     ]
    },
    {
     "name": "stdout",
     "output_type": "stream",
     "text": [
      "sound/AIDA/training/car/0dB/sp06_car_sn0.wav\n"
     ]
    },
    {
     "name": "stderr",
     "output_type": "stream",
     "text": [
      "\u001b[32mProgress: 100%|█████████████████████████████████████████| Time: 0:03:43\u001b[39m\n"
     ]
    },
    {
     "name": "stdout",
     "output_type": "stream",
     "text": [
      "sound/AIDA/training/car/0dB/sp07_car_sn0.wav\n"
     ]
    },
    {
     "name": "stderr",
     "output_type": "stream",
     "text": [
      "\u001b[32mProgress: 100%|█████████████████████████████████████████| Time: 0:03:26\u001b[39m\n"
     ]
    },
    {
     "name": "stdout",
     "output_type": "stream",
     "text": [
      "sound/AIDA/training/car/0dB/sp08_car_sn0.wav\n"
     ]
    },
    {
     "name": "stderr",
     "output_type": "stream",
     "text": [
      "\u001b[32mProgress: 100%|█████████████████████████████████████████| Time: 0:03:52\u001b[39m\n"
     ]
    },
    {
     "name": "stdout",
     "output_type": "stream",
     "text": [
      "sound/AIDA/training/car/0dB/sp09_car_sn0.wav\n"
     ]
    },
    {
     "name": "stderr",
     "output_type": "stream",
     "text": [
      "\u001b[32mProgress: 100%|█████████████████████████████████████████| Time: 0:04:07\u001b[39m\n"
     ]
    },
    {
     "name": "stdout",
     "output_type": "stream",
     "text": [
      "sound/AIDA/training/car/0dB/sp10_car_sn0.wav\n"
     ]
    },
    {
     "name": "stderr",
     "output_type": "stream",
     "text": [
      "\u001b[32mProgress: 100%|█████████████████████████████████████████| Time: 0:03:40\u001b[39m\n"
     ]
    },
    {
     "name": "stdout",
     "output_type": "stream",
     "text": [
      "sound/AIDA/training/car/0dB/sp11_car_sn0.wav\n"
     ]
    },
    {
     "name": "stderr",
     "output_type": "stream",
     "text": [
      "\u001b[32mProgress: 100%|█████████████████████████████████████████| Time: 0:04:00\u001b[39m\n"
     ]
    },
    {
     "name": "stdout",
     "output_type": "stream",
     "text": [
      "sound/AIDA/training/car/0dB/sp12_car_sn0.wav\n"
     ]
    },
    {
     "name": "stderr",
     "output_type": "stream",
     "text": [
      "\u001b[32mProgress: 100%|█████████████████████████████████████████| Time: 0:03:46\u001b[39m\n"
     ]
    },
    {
     "name": "stdout",
     "output_type": "stream",
     "text": [
      "sound/AIDA/training/car/0dB/sp13_car_sn0.wav\n"
     ]
    },
    {
     "name": "stderr",
     "output_type": "stream",
     "text": [
      "\u001b[32mProgress: 100%|█████████████████████████████████████████| Time: 0:03:28\u001b[39m\n"
     ]
    },
    {
     "name": "stdout",
     "output_type": "stream",
     "text": [
      "sound/AIDA/training/car/0dB/sp14_car_sn0.wav\n"
     ]
    },
    {
     "name": "stderr",
     "output_type": "stream",
     "text": [
      "\u001b[32mProgress: 100%|█████████████████████████████████████████| Time: 0:04:02\u001b[39m\n"
     ]
    },
    {
     "name": "stdout",
     "output_type": "stream",
     "text": [
      "sound/AIDA/training/car/0dB/sp15_car_sn0.wav\n"
     ]
    },
    {
     "name": "stderr",
     "output_type": "stream",
     "text": [
      "\u001b[32mProgress: 100%|█████████████████████████████████████████| Time: 0:03:59\u001b[39m\n"
     ]
    },
    {
     "name": "stdout",
     "output_type": "stream",
     "text": [
      "sound/AIDA/training/car/0dB/sp16_car_sn0.wav\n"
     ]
    },
    {
     "name": "stderr",
     "output_type": "stream",
     "text": [
      "\u001b[32mProgress: 100%|█████████████████████████████████████████| Time: 0:03:10\u001b[39m\n"
     ]
    },
    {
     "name": "stdout",
     "output_type": "stream",
     "text": [
      "sound/AIDA/training/car/0dB/sp17_car_sn0.wav\n"
     ]
    },
    {
     "name": "stderr",
     "output_type": "stream",
     "text": [
      "\u001b[32mProgress: 100%|█████████████████████████████████████████| Time: 0:03:17\u001b[39m\n"
     ]
    },
    {
     "name": "stdout",
     "output_type": "stream",
     "text": [
      "sound/AIDA/training/car/0dB/sp18_car_sn0.wav\n"
     ]
    },
    {
     "name": "stderr",
     "output_type": "stream",
     "text": [
      "\u001b[32mProgress: 100%|█████████████████████████████████████████| Time: 0:03:07\u001b[39m\n"
     ]
    },
    {
     "name": "stdout",
     "output_type": "stream",
     "text": [
      "sound/AIDA/training/car/0dB/sp19_car_sn0.wav\n"
     ]
    },
    {
     "name": "stderr",
     "output_type": "stream",
     "text": [
      "\u001b[32mProgress: 100%|█████████████████████████████████████████| Time: 0:03:39\u001b[39m\n"
     ]
    },
    {
     "name": "stdout",
     "output_type": "stream",
     "text": [
      "sound/AIDA/training/car/0dB/sp20_car_sn0.wav\n"
     ]
    },
    {
     "name": "stderr",
     "output_type": "stream",
     "text": [
      "\u001b[32mProgress: 100%|█████████████████████████████████████████| Time: 0:03:32\u001b[39m\n"
     ]
    },
    {
     "name": "stdout",
     "output_type": "stream",
     "text": [
      "sound/AIDA/training/station/0dB/sp01_station_sn0.wav\n"
     ]
    },
    {
     "name": "stderr",
     "output_type": "stream",
     "text": [
      "\u001b[32mProgress: 100%|█████████████████████████████████████████| Time: 0:03:50\u001b[39m\n"
     ]
    },
    {
     "name": "stdout",
     "output_type": "stream",
     "text": [
      "sound/AIDA/training/station/0dB/sp02_station_sn0.wav\n"
     ]
    },
    {
     "name": "stderr",
     "output_type": "stream",
     "text": [
      "\u001b[32mProgress: 100%|█████████████████████████████████████████| Time: 0:03:35\u001b[39m\n"
     ]
    },
    {
     "name": "stdout",
     "output_type": "stream",
     "text": [
      "sound/AIDA/training/station/0dB/sp03_station_sn0.wav\n"
     ]
    },
    {
     "name": "stderr",
     "output_type": "stream",
     "text": [
      "\u001b[32mProgress: 100%|█████████████████████████████████████████| Time: 0:03:04\u001b[39m\n"
     ]
    },
    {
     "name": "stdout",
     "output_type": "stream",
     "text": [
      "sound/AIDA/training/station/0dB/sp04_station_sn0.wav\n"
     ]
    },
    {
     "name": "stderr",
     "output_type": "stream",
     "text": [
      "\u001b[32mProgress: 100%|█████████████████████████████████████████| Time: 0:02:54\u001b[39m\n"
     ]
    },
    {
     "name": "stdout",
     "output_type": "stream",
     "text": [
      "sound/AIDA/training/station/0dB/sp05_station_sn0.wav\n"
     ]
    },
    {
     "name": "stderr",
     "output_type": "stream",
     "text": [
      "\u001b[32mProgress: 100%|█████████████████████████████████████████| Time: 0:03:00\u001b[39m\n"
     ]
    },
    {
     "name": "stdout",
     "output_type": "stream",
     "text": [
      "sound/AIDA/training/station/0dB/sp06_station_sn0.wav\n"
     ]
    },
    {
     "name": "stderr",
     "output_type": "stream",
     "text": [
      "\u001b[32mProgress: 100%|█████████████████████████████████████████| Time: 0:03:45\u001b[39m\n"
     ]
    },
    {
     "name": "stdout",
     "output_type": "stream",
     "text": [
      "sound/AIDA/training/station/0dB/sp07_station_sn0.wav\n"
     ]
    },
    {
     "name": "stderr",
     "output_type": "stream",
     "text": [
      "\u001b[32mProgress: 100%|█████████████████████████████████████████| Time: 0:03:27\u001b[39m\n"
     ]
    },
    {
     "name": "stdout",
     "output_type": "stream",
     "text": [
      "sound/AIDA/training/station/0dB/sp08_station_sn0.wav\n"
     ]
    },
    {
     "name": "stderr",
     "output_type": "stream",
     "text": [
      "\u001b[32mProgress: 100%|█████████████████████████████████████████| Time: 0:03:53\u001b[39m\n"
     ]
    },
    {
     "name": "stdout",
     "output_type": "stream",
     "text": [
      "sound/AIDA/training/station/0dB/sp09_station_sn0.wav\n"
     ]
    },
    {
     "name": "stderr",
     "output_type": "stream",
     "text": [
      "\u001b[32mProgress: 100%|█████████████████████████████████████████| Time: 0:04:07\u001b[39m\n"
     ]
    },
    {
     "name": "stdout",
     "output_type": "stream",
     "text": [
      "sound/AIDA/training/station/0dB/sp10_station_sn0.wav\n"
     ]
    },
    {
     "name": "stderr",
     "output_type": "stream",
     "text": [
      "\u001b[32mProgress: 100%|█████████████████████████████████████████| Time: 0:03:40\u001b[39m\n"
     ]
    },
    {
     "name": "stdout",
     "output_type": "stream",
     "text": [
      "sound/AIDA/training/station/0dB/sp11_station_sn0.wav\n"
     ]
    },
    {
     "name": "stderr",
     "output_type": "stream",
     "text": [
      "\u001b[32mProgress: 100%|█████████████████████████████████████████| Time: 0:04:00\u001b[39m\n"
     ]
    },
    {
     "name": "stdout",
     "output_type": "stream",
     "text": [
      "sound/AIDA/training/station/0dB/sp12_station_sn0.wav\n"
     ]
    },
    {
     "name": "stderr",
     "output_type": "stream",
     "text": [
      "\u001b[32mProgress: 100%|█████████████████████████████████████████| Time: 0:03:46\u001b[39m\n"
     ]
    },
    {
     "name": "stdout",
     "output_type": "stream",
     "text": [
      "sound/AIDA/training/station/0dB/sp13_station_sn0.wav\n"
     ]
    },
    {
     "name": "stderr",
     "output_type": "stream",
     "text": [
      "\u001b[32mProgress: 100%|█████████████████████████████████████████| Time: 0:03:28\u001b[39m\n"
     ]
    },
    {
     "name": "stdout",
     "output_type": "stream",
     "text": [
      "sound/AIDA/training/station/0dB/sp14_station_sn0.wav\n"
     ]
    },
    {
     "name": "stderr",
     "output_type": "stream",
     "text": [
      "\u001b[32mProgress: 100%|█████████████████████████████████████████| Time: 0:04:00\u001b[39m\n"
     ]
    },
    {
     "name": "stdout",
     "output_type": "stream",
     "text": [
      "sound/AIDA/training/station/0dB/sp15_station_sn0.wav\n"
     ]
    },
    {
     "name": "stderr",
     "output_type": "stream",
     "text": [
      "\u001b[32mProgress: 100%|█████████████████████████████████████████| Time: 0:03:59\u001b[39m\n"
     ]
    },
    {
     "name": "stdout",
     "output_type": "stream",
     "text": [
      "sound/AIDA/training/station/0dB/sp16_station_sn0.wav\n"
     ]
    },
    {
     "name": "stderr",
     "output_type": "stream",
     "text": [
      "\u001b[32mProgress: 100%|█████████████████████████████████████████| Time: 0:03:09\u001b[39m\n"
     ]
    },
    {
     "name": "stdout",
     "output_type": "stream",
     "text": [
      "sound/AIDA/training/station/0dB/sp17_station_sn0.wav\n"
     ]
    },
    {
     "name": "stderr",
     "output_type": "stream",
     "text": [
      "\u001b[32mProgress: 100%|█████████████████████████████████████████| Time: 0:03:18\u001b[39m\n"
     ]
    },
    {
     "name": "stdout",
     "output_type": "stream",
     "text": [
      "sound/AIDA/training/station/0dB/sp18_station_sn0.wav\n"
     ]
    },
    {
     "name": "stderr",
     "output_type": "stream",
     "text": [
      "\u001b[32mProgress: 100%|█████████████████████████████████████████| Time: 0:03:08\u001b[39m\n"
     ]
    },
    {
     "name": "stdout",
     "output_type": "stream",
     "text": [
      "sound/AIDA/training/station/0dB/sp19_station_sn0.wav\n"
     ]
    },
    {
     "name": "stderr",
     "output_type": "stream",
     "text": [
      "\u001b[32mProgress: 100%|█████████████████████████████████████████| Time: 0:03:38\u001b[39m\n"
     ]
    },
    {
     "name": "stdout",
     "output_type": "stream",
     "text": [
      "sound/AIDA/training/station/0dB/sp20_station_sn0.wav\n"
     ]
    },
    {
     "name": "stderr",
     "output_type": "stream",
     "text": [
      "\u001b[32mProgress: 100%|█████████████████████████████████████████| Time: 0:03:33\u001b[39m\n"
     ]
    },
    {
     "name": "stdout",
     "output_type": "stream",
     "text": [
      "sound/AIDA/training/train/0dB/sp01_train_sn0.wav\n"
     ]
    },
    {
     "name": "stderr",
     "output_type": "stream",
     "text": [
      "\u001b[32mProgress: 100%|█████████████████████████████████████████| Time: 0:03:51\u001b[39m\n"
     ]
    },
    {
     "name": "stdout",
     "output_type": "stream",
     "text": [
      "sound/AIDA/training/train/0dB/sp02_train_sn0.wav\n"
     ]
    },
    {
     "name": "stderr",
     "output_type": "stream",
     "text": [
      "\u001b[32mProgress: 100%|█████████████████████████████████████████| Time: 0:03:37\u001b[39m\n"
     ]
    },
    {
     "name": "stdout",
     "output_type": "stream",
     "text": [
      "sound/AIDA/training/train/0dB/sp03_train_sn0.wav\n"
     ]
    },
    {
     "name": "stderr",
     "output_type": "stream",
     "text": [
      "\u001b[32mProgress: 100%|█████████████████████████████████████████| Time: 0:03:04\u001b[39m\n"
     ]
    },
    {
     "name": "stdout",
     "output_type": "stream",
     "text": [
      "sound/AIDA/training/train/0dB/sp04_train_sn0.wav\n"
     ]
    },
    {
     "name": "stderr",
     "output_type": "stream",
     "text": [
      "\u001b[32mProgress: 100%|█████████████████████████████████████████| Time: 0:02:54\u001b[39m\n"
     ]
    },
    {
     "name": "stdout",
     "output_type": "stream",
     "text": [
      "sound/AIDA/training/train/0dB/sp05_train_sn0.wav\n"
     ]
    },
    {
     "name": "stderr",
     "output_type": "stream",
     "text": [
      "\u001b[32mProgress: 100%|█████████████████████████████████████████| Time: 0:03:00\u001b[39m\n"
     ]
    },
    {
     "name": "stdout",
     "output_type": "stream",
     "text": [
      "sound/AIDA/training/train/0dB/sp06_train_sn0.wav\n"
     ]
    },
    {
     "name": "stderr",
     "output_type": "stream",
     "text": [
      "\u001b[32mProgress: 100%|█████████████████████████████████████████| Time: 0:03:44\u001b[39m\n"
     ]
    },
    {
     "name": "stdout",
     "output_type": "stream",
     "text": [
      "sound/AIDA/training/train/0dB/sp07_train_sn0.wav\n"
     ]
    },
    {
     "name": "stderr",
     "output_type": "stream",
     "text": [
      "\u001b[32mProgress: 100%|█████████████████████████████████████████| Time: 0:03:26\u001b[39m\n"
     ]
    },
    {
     "name": "stdout",
     "output_type": "stream",
     "text": [
      "sound/AIDA/training/train/0dB/sp08_train_sn0.wav\n"
     ]
    },
    {
     "name": "stderr",
     "output_type": "stream",
     "text": [
      "\u001b[32mProgress: 100%|█████████████████████████████████████████| Time: 0:03:54\u001b[39m\n"
     ]
    },
    {
     "name": "stdout",
     "output_type": "stream",
     "text": [
      "sound/AIDA/training/train/0dB/sp09_train_sn0.wav\n"
     ]
    },
    {
     "name": "stderr",
     "output_type": "stream",
     "text": [
      "\u001b[32mProgress: 100%|█████████████████████████████████████████| Time: 0:04:08\u001b[39m\n"
     ]
    },
    {
     "name": "stdout",
     "output_type": "stream",
     "text": [
      "sound/AIDA/training/train/0dB/sp10_train_sn0.wav\n"
     ]
    },
    {
     "name": "stderr",
     "output_type": "stream",
     "text": [
      "\u001b[32mProgress: 100%|█████████████████████████████████████████| Time: 0:03:39\u001b[39m\n"
     ]
    },
    {
     "name": "stdout",
     "output_type": "stream",
     "text": [
      "sound/AIDA/training/train/0dB/sp11_train_sn0.wav\n"
     ]
    },
    {
     "name": "stderr",
     "output_type": "stream",
     "text": [
      "\u001b[32mProgress: 100%|█████████████████████████████████████████| Time: 0:04:00\u001b[39m\n"
     ]
    },
    {
     "name": "stdout",
     "output_type": "stream",
     "text": [
      "sound/AIDA/training/train/0dB/sp12_train_sn0.wav\n"
     ]
    },
    {
     "name": "stderr",
     "output_type": "stream",
     "text": [
      "\u001b[32mProgress: 100%|█████████████████████████████████████████| Time: 0:03:46\u001b[39m\n"
     ]
    },
    {
     "name": "stdout",
     "output_type": "stream",
     "text": [
      "sound/AIDA/training/train/0dB/sp13_train_sn0.wav\n"
     ]
    },
    {
     "name": "stderr",
     "output_type": "stream",
     "text": [
      "\u001b[32mProgress: 100%|█████████████████████████████████████████| Time: 0:03:28\u001b[39m\n"
     ]
    },
    {
     "name": "stdout",
     "output_type": "stream",
     "text": [
      "sound/AIDA/training/train/0dB/sp14_train_sn0.wav\n"
     ]
    },
    {
     "name": "stderr",
     "output_type": "stream",
     "text": [
      "\u001b[32mProgress: 100%|█████████████████████████████████████████| Time: 0:04:00\u001b[39m\n"
     ]
    },
    {
     "name": "stdout",
     "output_type": "stream",
     "text": [
      "sound/AIDA/training/train/0dB/sp15_train_sn0.wav\n"
     ]
    },
    {
     "name": "stderr",
     "output_type": "stream",
     "text": [
      "\u001b[32mProgress: 100%|█████████████████████████████████████████| Time: 0:03:59\u001b[39m\n"
     ]
    },
    {
     "name": "stdout",
     "output_type": "stream",
     "text": [
      "sound/AIDA/training/train/0dB/sp16_train_sn0.wav\n"
     ]
    },
    {
     "name": "stderr",
     "output_type": "stream",
     "text": [
      "\u001b[32mProgress: 100%|█████████████████████████████████████████| Time: 0:03:11\u001b[39m\n"
     ]
    },
    {
     "name": "stdout",
     "output_type": "stream",
     "text": [
      "sound/AIDA/training/train/0dB/sp17_train_sn0.wav\n"
     ]
    },
    {
     "name": "stderr",
     "output_type": "stream",
     "text": [
      "\u001b[32mProgress: 100%|█████████████████████████████████████████| Time: 0:03:17\u001b[39m\n"
     ]
    },
    {
     "name": "stdout",
     "output_type": "stream",
     "text": [
      "sound/AIDA/training/train/0dB/sp18_train_sn0.wav\n"
     ]
    },
    {
     "name": "stderr",
     "output_type": "stream",
     "text": [
      "\u001b[32mProgress: 100%|█████████████████████████████████████████| Time: 0:03:09\u001b[39m\n"
     ]
    },
    {
     "name": "stdout",
     "output_type": "stream",
     "text": [
      "sound/AIDA/training/train/0dB/sp19_train_sn0.wav\n"
     ]
    },
    {
     "name": "stderr",
     "output_type": "stream",
     "text": [
      "\u001b[32mProgress: 100%|█████████████████████████████████████████| Time: 0:03:38\u001b[39m\n"
     ]
    },
    {
     "name": "stdout",
     "output_type": "stream",
     "text": [
      "sound/AIDA/training/train/0dB/sp20_train_sn0.wav\n"
     ]
    },
    {
     "name": "stderr",
     "output_type": "stream",
     "text": [
      "\u001b[32mProgress: 100%|█████████████████████████████████████████| Time: 0:03:32\u001b[39m\n"
     ]
    }
   ],
   "source": [
    "# r for recovered\n",
    "for training_file in training_files\n",
    "    if !occursin(\".wav\", training_file)\n",
    "        continue\n",
    "    end\n",
    "    \n",
    "    if occursin(\"/babble/\", training_file)\n",
    "        priors_eta = (bblmη_arr, bblvη_arr)\n",
    "        priors_tau = bblτ_arr\n",
    "    elseif occursin(\"/train/\", training_file)\n",
    "        priors_eta = (trmη_arr, trvη_arr)\n",
    "        priors_tau = trτ_arr\n",
    "    else\n",
    "        continue\n",
    "    end\n",
    "    println(training_file)\n",
    "    speech, fs = WAV.wavread(training_file)\n",
    "    speech_seg = get_frames(speech, fs)\n",
    "    \n",
    "    # make sure that 1D of priors and speech_seg are equal\n",
    "    if size(priors_eta, 1) != size(speech_seg, 1)\n",
    "        totseg = size(speech_seg, 1)\n",
    "        priors_eta_m, priors_eta_v, priors_tau = prior_to_priors(priors_eta[1][1, :]', priors_eta[2][1, :, :], priors_tau[1], totseg)\n",
    "        priors_eta = priors_eta_m, priors_eta_v\n",
    "    end\n",
    "    rmz, rvz, rmθ, rvθ, rγ, rmx, rvx, rmη, rvη, rτ, fe, rmo = HA_algorithm(speech_seg, priors_eta, priors_tau, 10, 2, 10);\n",
    "    \n",
    "    JLD.save(\"sound/AIDA/separated_jld/training/\"*training_file[findfirst(\"sp\", training_file)[1]:end][1:end-3]*\"jld\",\n",
    "         \"rmz\", rmz, \"rvz\", rvz, \"rmθ\", rmθ, \"rvθ\", rvθ, \"rγ\", rγ, \n",
    "         \"rmx\", rmx, \"rvx\", rvx, \"rmη\", rmη, \"rvη\", rvη, \"rτ\", rτ,\n",
    "         \"fe\", fe, \"rmo\", rmo, \"filename\", training_file,\n",
    "         \"audio\", speech)\n",
    "end"
   ]
  },
  {
   "cell_type": "markdown",
   "id": "civil-selection",
   "metadata": {},
   "source": [
    "### Preference learning stage"
   ]
  },
  {
   "cell_type": "markdown",
   "id": "revolutionary-drill",
   "metadata": {},
   "source": [
    "#### Generate outputs of HA from JLD files"
   ]
  },
  {
   "cell_type": "code",
   "execution_count": 12,
   "id": "rubber-volunteer",
   "metadata": {},
   "outputs": [],
   "source": [
    "# obtain saved jld files containing inference result\n",
    "training_jlds = get_sounds_fn(\"sound/AIDA/separated_jld/training/\");"
   ]
  },
  {
   "cell_type": "code",
   "execution_count": 13,
   "id": "dominant-arrival",
   "metadata": {},
   "outputs": [],
   "source": [
    "# initialize gains that agent randomly assigns to the outputs of HA\n",
    "agent_gains = [[2.0, 1.0], [1.0, 0.0], [0.5, 0.5], [0.9, 0.3], [2.5, 1.0], [0.9, 0.1], [0.7, 0.2], [0.2, 0.7], [2.0, 0.0]];"
   ]
  },
  {
   "cell_type": "code",
   "execution_count": 34,
   "id": "funny-veteran",
   "metadata": {},
   "outputs": [],
   "source": [
    "# this snippet generates new ha outputs\n",
    "for training_jld in training_jlds\n",
    "    # read file\n",
    "    d = JLD.load(training_jld)\n",
    "    filename = d[\"filename\"]\n",
    "    # extract speech\n",
    "    rmz, rmx = d[\"rmz\"], d[\"rmx\"]\n",
    "    # extract noise\n",
    "    rz, rx = get_signal(rmz, fs), get_signal(rmx, fs)\n",
    "    # pick weights \n",
    "    whgs = rand(agent_gains) # can be changed to a smarter function\n",
    "    # create output\n",
    "    ha_out = whgs[1] .* rz + whgs[2] .* rx\n",
    "    # write wav file\n",
    "    WAV.wavwrite(ha_out, fs, \"sound/AIDA/preference_learning/ha_out_$(whgs[1])_$(whgs[2])_\"*filename[findfirst(\"sp\", filename)[1]:end])\n",
    "end"
   ]
  },
  {
   "cell_type": "markdown",
   "id": "supreme-shoot",
   "metadata": {},
   "source": [
    "#### Create pairs (gains, context) <-> appraisals"
   ]
  },
  {
   "cell_type": "code",
   "execution_count": 14,
   "id": "elect-logic",
   "metadata": {},
   "outputs": [],
   "source": [
    "# Recorded gains and appraisals \n",
    "# If you want to generate new pairs, please procceed with listening\n",
    "gains = [[0.2, 0.7], [0.2, 0.7], [0.2, 0.7], [0.2, 0.7], [0.2, 0.7], [0.5, 0.5], [0.5, 0.5], [0.5, 0.5], [0.7, 0.2], [0.7, 0.2], [0.7, 0.2], [0.7, 0.2], [0.7, 0.2], [0.7, 0.2], [0.7, 0.2], [0.7, 0.2], [0.9, 0.1], [0.9, 0.1], [0.9, 0.1], [0.9, 0.3], [0.9, 0.3], [1.0, 0.0], [1.0, 0.0], [1.0, 0.0], [1.0, 0.0], [1.0, 0.0], [1.0, 0.0], [1.0, 0.0], [2.0, 0.0], [2.0, 0.0], [2.0, 0.0], [2.0, 0.0], [2.0, 0.0], [2.0, 0.0], [2.0, 0.0], [2.0, 1.0], [2.0, 1.0], [2.5, 1.0], [2.5, 1.0], [2.5, 1.0]]\n",
    "appraisals = [0.6, 0.0, 0.0, 0.7, 0.0, 1.0, 0.5, 0.2, 0.0, 0.8, 1.0, 1.0, 0.3, 0.0, 0.0, 1.0, 1.0, 0.4, 0.8, 0.0, 0.3, 0.5, 0.9, 0.7, 1.0, 0.4, 0.5, 0.8, 0.9, 0.8, 0.6, 0.1, 0.1, 0.1, 0.3, 0.9, 0.0, 0.1, 0.5, 0.5]\n",
    "contexts = [1.0, 1.0, 1.0, 0.0, 1.0, 0.0, 0.0, 1.0, 1.0, 0.0, 1.0, 1.0, 0.0, 1.0, 1.0, 1.0, 1.0, 0.0, 0.0, 1.0, 0.0, 1.0, 0.0, 0.0, 1.0, 0.0, 0.0, 0.0, 1.0, 1.0, 0.0, 0.0, 1.0, 0.0, 0.0, 0.0, 0.0, 1.0, 0.0, 1.0];\n",
    "pl_dict = Dict(:gains => gains, :appraisals => appraisals, :contexts => contexts);"
   ]
  },
  {
   "cell_type": "code",
   "execution_count": 15,
   "id": "major-stationery",
   "metadata": {},
   "outputs": [],
   "source": [
    "prl_files = get_sounds_fn(\"sound/AIDA/preference_learning/\");"
   ]
  },
  {
   "cell_type": "markdown",
   "id": "expressed-johnson",
   "metadata": {},
   "source": [
    "#### Listening"
   ]
  },
  {
   "cell_type": "markdown",
   "id": "patient-switzerland",
   "metadata": {},
   "source": [
    "User gets to listen new audio samples with proposed gains. After each listening he/she evaluates the performance of HA output by binary feedback."
   ]
  },
  {
   "cell_type": "code",
   "execution_count": 21,
   "id": "material-basin",
   "metadata": {},
   "outputs": [
    {
     "data": {
      "text/plain": [
       "get_learning_data (generic function with 2 methods)"
      ]
     },
     "execution_count": 21,
     "metadata": {},
     "output_type": "execute_result"
    }
   ],
   "source": [
    "function get_learning_data(preferences::Dict, context, jitter=1e-3)\n",
    "    idx = findall(isequal(context), preferences[:contexts])\n",
    "    gains = preferences[:gains]\n",
    "    appraisals = preferences[:appraisals]\n",
    "    tgains = vcat(hcat(gains...)', hcat(gains...)', hcat(gains...)')\n",
    "    tappraisals = vcat(appraisals, appraisals, appraisals)\n",
    "    \n",
    "    # augmentation of the dataset with copies\n",
    "    y = tappraisals\n",
    "    X = tgains .+ sqrt(jitter)*randn(size(tgains))\n",
    "    \n",
    "    return X, y\n",
    "end"
   ]
  },
  {
   "cell_type": "code",
   "execution_count": 11,
   "id": "hybrid-philippines",
   "metadata": {},
   "outputs": [
    {
     "name": "stdout",
     "output_type": "stream",
     "text": [
      "How's HA output 1, 0 ?\n"
     ]
    },
    {
     "name": "stdin",
     "output_type": "stream",
     "text": [
      "stdin>  0.6\n"
     ]
    },
    {
     "name": "stdout",
     "output_type": "stream",
     "text": [
      "How's HA output 1, 0 ?\n"
     ]
    },
    {
     "name": "stdin",
     "output_type": "stream",
     "text": [
      "stdin>  0\n"
     ]
    },
    {
     "name": "stdout",
     "output_type": "stream",
     "text": [
      "How's HA output 1, 0 ?\n"
     ]
    },
    {
     "name": "stdin",
     "output_type": "stream",
     "text": [
      "stdin>  0\n"
     ]
    },
    {
     "name": "stdout",
     "output_type": "stream",
     "text": [
      "How's HA output 1, 0 ?\n"
     ]
    },
    {
     "name": "stdin",
     "output_type": "stream",
     "text": [
      "stdin>  0.7\n"
     ]
    },
    {
     "name": "stdout",
     "output_type": "stream",
     "text": [
      "How's HA output 1, 0 ?\n"
     ]
    },
    {
     "name": "stdin",
     "output_type": "stream",
     "text": [
      "stdin>  0.0\n"
     ]
    },
    {
     "name": "stdout",
     "output_type": "stream",
     "text": [
      "How's HA output 1, 0 ?\n"
     ]
    },
    {
     "name": "stdin",
     "output_type": "stream",
     "text": [
      "stdin>  1\n"
     ]
    },
    {
     "name": "stdout",
     "output_type": "stream",
     "text": [
      "How's HA output 1, 0 ?\n"
     ]
    },
    {
     "name": "stdin",
     "output_type": "stream",
     "text": [
      "stdin>  0.5\n"
     ]
    },
    {
     "name": "stdout",
     "output_type": "stream",
     "text": [
      "How's HA output 1, 0 ?\n"
     ]
    },
    {
     "name": "stdin",
     "output_type": "stream",
     "text": [
      "stdin>  0.2\n"
     ]
    },
    {
     "name": "stdout",
     "output_type": "stream",
     "text": [
      "How's HA output 1, 0 ?\n"
     ]
    },
    {
     "name": "stdin",
     "output_type": "stream",
     "text": [
      "stdin>  0\n"
     ]
    },
    {
     "name": "stdout",
     "output_type": "stream",
     "text": [
      "How's HA output 1, 0 ?\n"
     ]
    },
    {
     "name": "stdin",
     "output_type": "stream",
     "text": [
      "stdin>  0.8\n"
     ]
    },
    {
     "name": "stdout",
     "output_type": "stream",
     "text": [
      "How's HA output 1, 0 ?\n"
     ]
    },
    {
     "name": "stdin",
     "output_type": "stream",
     "text": [
      "stdin>  1\n"
     ]
    },
    {
     "name": "stdout",
     "output_type": "stream",
     "text": [
      "How's HA output 1, 0 ?\n"
     ]
    },
    {
     "name": "stdin",
     "output_type": "stream",
     "text": [
      "stdin>  1\n"
     ]
    },
    {
     "name": "stdout",
     "output_type": "stream",
     "text": [
      "How's HA output 1, 0 ?\n"
     ]
    },
    {
     "name": "stdin",
     "output_type": "stream",
     "text": [
      "stdin>  0.3\n"
     ]
    },
    {
     "name": "stdout",
     "output_type": "stream",
     "text": [
      "How's HA output 1, 0 ?\n"
     ]
    },
    {
     "name": "stdin",
     "output_type": "stream",
     "text": [
      "stdin>  0.0\n"
     ]
    },
    {
     "name": "stdout",
     "output_type": "stream",
     "text": [
      "How's HA output 1, 0 ?\n"
     ]
    },
    {
     "name": "stdin",
     "output_type": "stream",
     "text": [
      "stdin>  0.0\n"
     ]
    },
    {
     "name": "stdout",
     "output_type": "stream",
     "text": [
      "How's HA output 1, 0 ?\n"
     ]
    },
    {
     "name": "stdin",
     "output_type": "stream",
     "text": [
      "stdin>  1.0\n"
     ]
    },
    {
     "name": "stdout",
     "output_type": "stream",
     "text": [
      "How's HA output 1, 0 ?\n"
     ]
    },
    {
     "name": "stdin",
     "output_type": "stream",
     "text": [
      "stdin>  1.0\n"
     ]
    },
    {
     "name": "stdout",
     "output_type": "stream",
     "text": [
      "How's HA output 1, 0 ?\n"
     ]
    },
    {
     "name": "stdin",
     "output_type": "stream",
     "text": [
      "stdin>  0.4\n"
     ]
    },
    {
     "name": "stdout",
     "output_type": "stream",
     "text": [
      "How's HA output 1, 0 ?\n"
     ]
    },
    {
     "name": "stdin",
     "output_type": "stream",
     "text": [
      "stdin>  0.8\n"
     ]
    },
    {
     "name": "stdout",
     "output_type": "stream",
     "text": [
      "How's HA output 1, 0 ?\n"
     ]
    },
    {
     "name": "stdin",
     "output_type": "stream",
     "text": [
      "stdin>  0.0\n"
     ]
    },
    {
     "name": "stdout",
     "output_type": "stream",
     "text": [
      "How's HA output 1, 0 ?\n"
     ]
    },
    {
     "name": "stdin",
     "output_type": "stream",
     "text": [
      "stdin>  0.3\n"
     ]
    },
    {
     "name": "stdout",
     "output_type": "stream",
     "text": [
      "How's HA output 1, 0 ?\n"
     ]
    },
    {
     "name": "stdin",
     "output_type": "stream",
     "text": [
      "stdin>  0.5\n"
     ]
    },
    {
     "name": "stdout",
     "output_type": "stream",
     "text": [
      "How's HA output 1, 0 ?\n"
     ]
    },
    {
     "name": "stdin",
     "output_type": "stream",
     "text": [
      "stdin>  0.9\n"
     ]
    },
    {
     "name": "stdout",
     "output_type": "stream",
     "text": [
      "How's HA output 1, 0 ?\n"
     ]
    },
    {
     "name": "stdin",
     "output_type": "stream",
     "text": [
      "stdin>  0.7\n"
     ]
    },
    {
     "name": "stdout",
     "output_type": "stream",
     "text": [
      "How's HA output 1, 0 ?\n"
     ]
    },
    {
     "name": "stdin",
     "output_type": "stream",
     "text": [
      "stdin>  1.0\n"
     ]
    },
    {
     "name": "stdout",
     "output_type": "stream",
     "text": [
      "How's HA output 1, 0 ?\n"
     ]
    },
    {
     "name": "stdin",
     "output_type": "stream",
     "text": [
      "stdin>  0.4\n"
     ]
    },
    {
     "name": "stdout",
     "output_type": "stream",
     "text": [
      "How's HA output 1, 0 ?\n"
     ]
    },
    {
     "name": "stdin",
     "output_type": "stream",
     "text": [
      "stdin>  0.5\n"
     ]
    },
    {
     "name": "stdout",
     "output_type": "stream",
     "text": [
      "How's HA output 1, 0 ?\n"
     ]
    },
    {
     "name": "stdin",
     "output_type": "stream",
     "text": [
      "stdin>  0.8\n"
     ]
    },
    {
     "name": "stdout",
     "output_type": "stream",
     "text": [
      "How's HA output 1, 0 ?\n"
     ]
    },
    {
     "name": "stdin",
     "output_type": "stream",
     "text": [
      "stdin>  0.9\n"
     ]
    },
    {
     "name": "stdout",
     "output_type": "stream",
     "text": [
      "How's HA output 1, 0 ?\n"
     ]
    },
    {
     "name": "stdin",
     "output_type": "stream",
     "text": [
      "stdin>  0.8\n"
     ]
    },
    {
     "name": "stdout",
     "output_type": "stream",
     "text": [
      "How's HA output 1, 0 ?\n"
     ]
    },
    {
     "name": "stdin",
     "output_type": "stream",
     "text": [
      "stdin>  0.6\n"
     ]
    },
    {
     "name": "stdout",
     "output_type": "stream",
     "text": [
      "How's HA output 1, 0 ?\n"
     ]
    },
    {
     "name": "stdin",
     "output_type": "stream",
     "text": [
      "stdin>  0.1\n"
     ]
    },
    {
     "name": "stdout",
     "output_type": "stream",
     "text": [
      "How's HA output 1, 0 ?\n"
     ]
    },
    {
     "name": "stdin",
     "output_type": "stream",
     "text": [
      "stdin>  0.1\n"
     ]
    },
    {
     "name": "stdout",
     "output_type": "stream",
     "text": [
      "How's HA output 1, 0 ?\n"
     ]
    },
    {
     "name": "stdin",
     "output_type": "stream",
     "text": [
      "stdin>  0.1\n"
     ]
    },
    {
     "name": "stdout",
     "output_type": "stream",
     "text": [
      "How's HA output 1, 0 ?\n"
     ]
    },
    {
     "name": "stdin",
     "output_type": "stream",
     "text": [
      "stdin>  0.3\n"
     ]
    },
    {
     "name": "stdout",
     "output_type": "stream",
     "text": [
      "How's HA output 1, 0 ?\n"
     ]
    },
    {
     "name": "stdin",
     "output_type": "stream",
     "text": [
      "stdin>  0.9\n"
     ]
    },
    {
     "name": "stdout",
     "output_type": "stream",
     "text": [
      "How's HA output 1, 0 ?\n"
     ]
    },
    {
     "name": "stdin",
     "output_type": "stream",
     "text": [
      "stdin>  0.0\n"
     ]
    },
    {
     "name": "stdout",
     "output_type": "stream",
     "text": [
      "How's HA output 1, 0 ?\n"
     ]
    },
    {
     "name": "stdin",
     "output_type": "stream",
     "text": [
      "stdin>  0.1\n"
     ]
    },
    {
     "name": "stdout",
     "output_type": "stream",
     "text": [
      "How's HA output 1, 0 ?\n"
     ]
    },
    {
     "name": "stdin",
     "output_type": "stream",
     "text": [
      "stdin>  0.5\n"
     ]
    },
    {
     "name": "stdout",
     "output_type": "stream",
     "text": [
      "How's HA output 1, 0 ?\n"
     ]
    },
    {
     "name": "stdin",
     "output_type": "stream",
     "text": [
      "stdin>  0.5\n"
     ]
    }
   ],
   "source": [
    "# This snippet creates interactive loop where user can like/dislike hearing aid output\n",
    "nnum = 8 # prefix for gains\n",
    "pl_dict = Dict(:appraisals => [], :gains => [], :contexts => [])\n",
    "\n",
    "for prl_file in prl_files\n",
    "    \n",
    "    if !occursin(\"wav\", prl_file)\n",
    "        continue\n",
    "    end\n",
    "    WAV.wavplay(prl_file)\n",
    "    println(\"How's HA output 1, 0 ?\")\n",
    "    appraisal = readline()\n",
    "    push!(pl_dict[:appraisals], parse(Float64, appraisal))\n",
    "    \n",
    "    # extract gains routine\n",
    "    pref_id = findfirst(\"out_\", prl_file)[end]\n",
    "    gains_str = prl_file[pref_id+1:pref_id+nnum-1]\n",
    "    push!(pl_dict[:gains], parse.(Float64, split(gains_str, \"_\")))\n",
    "    \n",
    "    # extract context routine\n",
    "    push!(pl_dict[:contexts], occursin(\"babble\", prl_file) ? 1.0 : 0.0)\n",
    "end"
   ]
  },
  {
   "cell_type": "code",
   "execution_count": 16,
   "id": "otherwise-cargo",
   "metadata": {},
   "outputs": [
    {
     "name": "stdout",
     "output_type": "stream",
     "text": [
      "[[0.2, 0.7], [0.2, 0.7], [0.2, 0.7], [0.2, 0.7], [0.2, 0.7], [0.5, 0.5], [0.5, 0.5], [0.5, 0.5], [0.7, 0.2], [0.7, 0.2], [0.7, 0.2], [0.7, 0.2], [0.7, 0.2], [0.7, 0.2], [0.7, 0.2], [0.7, 0.2], [0.9, 0.1], [0.9, 0.1], [0.9, 0.1], [0.9, 0.3], [0.9, 0.3], [1.0, 0.0], [1.0, 0.0], [1.0, 0.0], [1.0, 0.0], [1.0, 0.0], [1.0, 0.0], [1.0, 0.0], [2.0, 0.0], [2.0, 0.0], [2.0, 0.0], [2.0, 0.0], [2.0, 0.0], [2.0, 0.0], [2.0, 0.0], [2.0, 1.0], [2.0, 1.0], [2.5, 1.0], [2.5, 1.0], [2.5, 1.0]]\n",
      "[0.6, 0.0, 0.0, 0.7, 0.0, 1.0, 0.5, 0.2, 0.0, 0.8, 1.0, 1.0, 0.3, 0.0, 0.0, 1.0, 1.0, 0.4, 0.8, 0.0, 0.3, 0.5, 0.9, 0.7, 1.0, 0.4, 0.5, 0.8, 0.9, 0.8, 0.6, 0.1, 0.1, 0.1, 0.3, 0.9, 0.0, 0.1, 0.5, 0.5]\n",
      "[1.0, 1.0, 1.0, 0.0, 1.0, 0.0, 0.0, 1.0, 1.0, 0.0, 1.0, 1.0, 0.0, 1.0, 1.0, 1.0, 1.0, 0.0, 0.0, 1.0, 0.0, 1.0, 0.0, 0.0, 1.0, 0.0, 0.0, 0.0, 1.0, 1.0, 0.0, 0.0, 1.0, 0.0, 0.0, 0.0, 0.0, 1.0, 0.0, 1.0]\n"
     ]
    }
   ],
   "source": [
    "println(pl_dict[:gains])\n",
    "println(pl_dict[:appraisals])\n",
    "println(pl_dict[:contexts])"
   ]
  },
  {
   "cell_type": "code",
   "execution_count": 17,
   "id": "municipal-electricity",
   "metadata": {},
   "outputs": [],
   "source": [
    "function f(params)\n",
    "    fe = inference_flow_classifier(Float64.(data_y), [data_x[k,:] for k=1:size(data_x,1)], params)\n",
    "    return fe\n",
    "end;"
   ]
  },
  {
   "cell_type": "code",
   "execution_count": 22,
   "id": "physical-banks",
   "metadata": {},
   "outputs": [
    {
     "data": {
      "text/plain": [
       "([0.23366774398402004 0.6783205266771785; 0.20855945388693822 0.6857090354708872; … ; 2.45754734690037 1.0234572320152584; 2.5039107387927317 1.0110848076608163], [0.6, 0.0, 0.0, 0.7, 0.0, 1.0, 0.5, 0.2, 0.0, 0.8  …  0.6, 0.1, 0.1, 0.1, 0.3, 0.9, 0.0, 0.1, 0.5, 0.5])"
      ]
     },
     "execution_count": 22,
     "metadata": {},
     "output_type": "execute_result"
    }
   ],
   "source": [
    "context = 1.0 #babble\n",
    "# context = 0.0 #train\n",
    "data_x, data_y = get_learning_data(pl_dict, context)"
   ]
  },
  {
   "cell_type": "code",
   "execution_count": 23,
   "id": "controlled-hammer",
   "metadata": {},
   "outputs": [
    {
     "data": {
      "text/plain": [
       "2964.7107105120203"
      ]
     },
     "execution_count": 23,
     "metadata": {},
     "output_type": "execute_result"
    }
   ],
   "source": [
    "rng = MersenneTwister(1)\n",
    "\n",
    "f(randn(rng, 12))"
   ]
  },
  {
   "cell_type": "code",
   "execution_count": 25,
   "id": "binding-roots",
   "metadata": {},
   "outputs": [
    {
     "name": "stdout",
     "output_type": "stream",
     "text": [
      "Iter     Function value   Gradient norm \n",
      "     0     2.992256e+03     2.369837e+03\n",
      " * time: 0.019121170043945312\n",
      "     1     1.123858e+03     5.672796e+02\n",
      " * time: 2.1478631496429443\n",
      "     2     5.258823e+02     6.118985e+02\n",
      " * time: 2.2238340377807617\n",
      "     3     3.432232e+02     3.587648e+02\n",
      " * time: 2.3476669788360596\n",
      "     4     2.428420e+02     1.533036e+02\n",
      " * time: 2.402419090270996\n",
      "     5     1.756882e+02     7.379116e+01\n",
      " * time: 2.4806020259857178\n",
      "     6     1.537659e+02     7.748950e+01\n",
      " * time: 2.6003241539001465\n",
      "     7     1.406206e+02     4.762753e+01\n",
      " * time: 2.685202121734619\n",
      "     8     1.331404e+02     3.821804e+01\n",
      " * time: 2.8074121475219727\n",
      "     9     1.296726e+02     7.543437e+01\n",
      " * time: 2.9370601177215576\n",
      "    10     1.288129e+02     6.066067e+01\n",
      " * time: 3.1008901596069336\n",
      "    11     1.266751e+02     3.494992e+01\n",
      " * time: 3.1571061611175537\n",
      "    12     1.247030e+02     2.054161e+01\n",
      " * time: 3.681797981262207\n",
      "    13     1.243424e+02     2.801222e+01\n",
      " * time: 5.515704154968262\n",
      "    14     1.235168e+02     1.660104e+02\n",
      " * time: 5.822721004486084\n",
      "    15     1.222132e+02     1.239411e+02\n",
      " * time: 7.82412314414978\n",
      "    16     1.221392e+02     2.104000e+02\n",
      " * time: 10.568420171737671\n",
      "    17     1.221180e+02     2.021952e+02\n",
      " * time: 12.768387079238892\n",
      "    18     1.219373e+02     1.923594e+02\n",
      " * time: 14.654333114624023\n",
      "    19     1.214483e+02     1.677278e+02\n",
      " * time: 16.608899116516113\n",
      "    20     1.210638e+02     2.043468e+02\n",
      " * time: 18.5909321308136\n",
      "    21     1.210638e+02     2.043468e+02\n",
      " * time: 21.948357105255127\n"
     ]
    }
   ],
   "source": [
    "using Optim\n",
    "\n",
    "data_x, data_y = get_learning_data(pl_dict, 1.0)\n",
    "res_babble = optimize(f, randn(nr_params(model)), LBFGS(), Optim.Options(store_trace = true, show_trace = true, f_tol=1e-12), autodiff=:forward);"
   ]
  },
  {
   "cell_type": "code",
   "execution_count": 26,
   "id": "rational-stomach",
   "metadata": {},
   "outputs": [
    {
     "name": "stdout",
     "output_type": "stream",
     "text": [
      "Iter     Function value   Gradient norm \n",
      "     0     8.468229e+03     2.523851e+03\n",
      " * time: 9.918212890625e-5\n",
      "     1     3.233531e+03     2.377686e+03\n",
      " * time: 0.20890522003173828\n",
      "     2     1.109858e+03     1.723736e+03\n",
      " * time: 0.29486513137817383\n",
      "     3     6.067595e+02     8.816126e+02\n",
      " * time: 0.38488316535949707\n",
      "     4     2.835957e+02     4.473194e+02\n",
      " * time: 0.49185800552368164\n",
      "     5     2.420051e+02     1.431651e+02\n",
      " * time: 0.6299521923065186\n",
      "     6     2.226124e+02     1.385006e+02\n",
      " * time: 0.7060661315917969\n",
      "     7     1.401543e+02     2.466528e+02\n",
      " * time: 0.8175342082977295\n",
      "     8     9.390739e+01     5.774675e+01\n",
      " * time: 0.8969550132751465\n",
      "     9     8.368058e+01     1.284794e+01\n",
      " * time: 1.0083770751953125\n",
      "    10     8.261955e+01     3.161732e+01\n",
      " * time: 1.0606050491333008\n",
      "    11     8.204092e+01     7.874332e+00\n",
      " * time: 1.1360111236572266\n",
      "    12     8.143980e+01     3.207885e+01\n",
      " * time: 1.2720282077789307\n",
      "    13     8.006979e+01     6.205619e+00\n",
      " * time: 1.3469722270965576\n",
      "    14     7.952837e+01     1.174633e+01\n",
      " * time: 1.4297080039978027\n",
      "    15     7.937629e+01     4.832174e+00\n",
      " * time: 1.5051460266113281\n",
      "    16     7.935280e+01     3.856572e+00\n",
      " * time: 1.6154861450195312\n",
      "    17     7.924551e+01     3.395134e+00\n",
      " * time: 1.7151391506195068\n",
      "    18     7.904326e+01     9.324445e+00\n",
      " * time: 1.821838140487671\n",
      "    19     7.894811e+01     1.473741e+01\n",
      " * time: 1.872380018234253\n",
      "    20     7.883885e+01     3.363092e+00\n",
      " * time: 1.9811742305755615\n",
      "    21     7.873131e+01     5.583685e+00\n",
      " * time: 2.0604450702667236\n",
      "    22     7.846550e+01     3.474704e+00\n",
      " * time: 2.13480806350708\n",
      "    23     7.833709e+01     1.218059e+01\n",
      " * time: 2.2954602241516113\n",
      "    24     7.821489e+01     5.475402e+00\n",
      " * time: 2.345881223678589\n",
      "    25     7.805132e+01     1.151009e+01\n",
      " * time: 2.4290521144866943\n",
      "    26     7.793359e+01     2.609428e+00\n",
      " * time: 2.504728078842163\n",
      "    27     7.785279e+01     1.883421e+00\n",
      " * time: 2.589548110961914\n",
      "    28     7.784431e+01     1.385982e+00\n",
      " * time: 2.643604040145874\n",
      "    29     7.783669e+01     5.142257e-01\n",
      " * time: 2.7210490703582764\n",
      "    30     7.782849e+01     2.711791e+00\n",
      " * time: 2.858699083328247\n",
      "    31     7.751362e+01     2.518604e+00\n",
      " * time: 3.025813102722168\n",
      "    32     7.745874e+01     2.734340e+00\n",
      " * time: 3.1290650367736816\n",
      "    33     7.741374e+01     4.174013e+00\n",
      " * time: 3.215555191040039\n",
      "    34     7.736960e+01     1.856896e+00\n",
      " * time: 3.269369125366211\n",
      "    35     7.734110e+01     5.916037e+00\n",
      " * time: 3.3208870887756348\n",
      "    36     7.733019e+01     1.270148e+00\n",
      " * time: 3.371462106704712\n",
      "    37     7.732264e+01     1.886123e+00\n",
      " * time: 3.456505060195923\n",
      "    38     7.731710e+01     6.807680e-01\n",
      " * time: 3.5374820232391357\n",
      "    39     7.730703e+01     1.777066e+00\n",
      " * time: 3.6495201587677\n",
      "    40     7.729783e+01     1.255099e+00\n",
      " * time: 3.7286720275878906\n",
      "    41     7.729372e+01     7.284762e-01\n",
      " * time: 3.8364100456237793\n",
      "    42     7.729195e+01     8.038527e-01\n",
      " * time: 3.8926730155944824\n",
      "    43     7.729136e+01     3.009892e-01\n",
      " * time: 3.9701812267303467\n",
      "    44     7.729102e+01     3.434346e-01\n",
      " * time: 4.085179090499878\n",
      "    45     7.728972e+01     5.228095e-01\n",
      " * time: 4.187199115753174\n",
      "    46     7.728436e+01     7.325820e-01\n",
      " * time: 4.325247049331665\n",
      "    47     7.728051e+01     1.265952e+00\n",
      " * time: 4.404905080795288\n",
      "    48     7.727283e+01     3.123074e+00\n",
      " * time: 4.513768196105957\n",
      "    49     7.725385e+01     2.835282e+00\n",
      " * time: 4.590519189834595\n",
      "    50     7.724913e+01     3.130451e+00\n",
      " * time: 4.676392078399658\n",
      "    51     7.721918e+01     3.683212e+00\n",
      " * time: 4.729396104812622\n",
      "    52     7.717189e+01     3.104519e+00\n",
      " * time: 4.8067522048950195\n",
      "    53     7.716035e+01     3.180706e+00\n",
      " * time: 4.890576124191284\n",
      "    54     7.715326e+01     3.290299e+00\n",
      " * time: 4.942470073699951\n",
      "    55     7.714936e+01     1.045871e+00\n",
      " * time: 4.993824005126953\n",
      "    56     7.714791e+01     2.308116e+00\n",
      " * time: 5.081217050552368\n",
      "    57     7.714303e+01     2.726324e+00\n",
      " * time: 5.15932822227478\n",
      "    58     7.712235e+01     7.102936e+00\n",
      " * time: 5.269172191619873\n",
      "    59     7.710386e+01     1.380225e+00\n",
      " * time: 5.346714019775391\n",
      "    60     7.710292e+01     1.263253e+00\n",
      " * time: 5.397565126419067\n",
      "    61     7.709869e+01     1.817187e+00\n",
      " * time: 5.508763074874878\n",
      "    62     7.709383e+01     1.948785e+00\n",
      " * time: 5.586000204086304\n",
      "    63     7.708218e+01     4.291706e+00\n",
      " * time: 5.697441101074219\n",
      "    64     7.706213e+01     4.919785e+00\n",
      " * time: 5.7751381397247314\n",
      "    65     7.705044e+01     5.274177e+00\n",
      " * time: 5.826716184616089\n",
      "    66     7.704020e+01     4.588274e+00\n",
      " * time: 6.009135007858276\n",
      "    67     7.702962e+01     9.484001e+00\n",
      " * time: 6.215898036956787\n",
      "    68     7.701853e+01     7.547852e+00\n",
      " * time: 6.298960208892822\n",
      "    69     7.700492e+01     4.657949e+00\n",
      " * time: 6.374220132827759\n",
      "    70     7.699015e+01     6.007900e+00\n",
      " * time: 6.481222152709961\n",
      "    71     7.698413e+01     7.619633e+00\n",
      " * time: 6.5313780307769775\n",
      "    72     7.696902e+01     2.179138e+00\n",
      " * time: 6.662858009338379\n",
      "    73     7.696559e+01     3.307031e+00\n",
      " * time: 6.764008045196533\n",
      "    74     7.696277e+01     6.922780e+00\n",
      " * time: 6.813953161239624\n",
      "    75     7.695798e+01     7.437406e+00\n",
      " * time: 6.920843124389648\n",
      "    76     7.694214e+01     1.046186e+01\n",
      " * time: 6.9950151443481445\n",
      "    77     7.692962e+01     6.799536e+00\n",
      " * time: 7.07785701751709\n",
      "    78     7.692561e+01     2.074542e+00\n",
      " * time: 7.178783178329468\n",
      "    79     7.692363e+01     2.218100e+00\n",
      " * time: 7.264346122741699\n",
      "    80     7.692111e+01     3.595379e+00\n",
      " * time: 7.318230152130127\n",
      "    81     7.691941e+01     7.020088e+00\n",
      " * time: 7.3691771030426025\n",
      "    82     7.691677e+01     3.219694e+00\n",
      " * time: 7.475671052932739\n",
      "    83     7.691340e+01     5.291728e+00\n",
      " * time: 7.5509772300720215\n",
      "    84     7.691032e+01     2.551779e+00\n",
      " * time: 7.658681154251099\n",
      "    85     7.690802e+01     3.580986e+00\n",
      " * time: 7.710644006729126\n",
      "    86     7.690461e+01     4.207551e+00\n",
      " * time: 7.760670185089111\n",
      "    87     7.689328e+01     8.603915e+00\n",
      " * time: 7.871970176696777\n",
      "    88     7.688499e+01     1.162284e+01\n",
      " * time: 7.924903154373169\n",
      "    89     7.687643e+01     3.917336e+00\n",
      " * time: 8.023914098739624\n",
      "    90     7.687321e+01     4.306288e+00\n",
      " * time: 8.15386700630188\n",
      "    91     7.686853e+01     1.193453e+01\n",
      " * time: 8.20327115058899\n",
      "    92     7.686185e+01     1.869743e+01\n",
      " * time: 8.310411214828491\n",
      "    93     7.685790e+01     2.343514e+00\n",
      " * time: 8.360703229904175\n",
      "    94     7.685619e+01     4.929972e+00\n",
      " * time: 8.47184419631958\n",
      "    95     7.685567e+01     3.896367e+00\n",
      " * time: 8.523791074752808\n",
      "    96     7.685446e+01     9.207441e+00\n",
      " * time: 8.599040031433105\n",
      "    97     7.685300e+01     1.435349e+00\n",
      " * time: 8.708574056625366\n",
      "    98     7.685279e+01     1.771721e+00\n",
      " * time: 8.783285140991211\n",
      "    99     7.685253e+01     1.523093e+00\n",
      " * time: 8.895729064941406\n",
      "   100     7.685193e+01     1.402370e+00\n",
      " * time: 8.970596075057983\n",
      "   101     7.685056e+01     1.894363e+00\n",
      " * time: 9.077186107635498\n",
      "   102     7.684944e+01     6.022063e+00\n",
      " * time: 9.153334140777588\n",
      "   103     7.684903e+01     9.433553e-01\n",
      " * time: 9.203240156173706\n",
      "   104     7.684884e+01     1.185323e+00\n",
      " * time: 9.30993103981018\n",
      "   105     7.684858e+01     1.238183e+00\n",
      " * time: 9.384734153747559\n",
      "   106     7.684698e+01     2.141380e+00\n",
      " * time: 9.518481016159058\n",
      "   107     7.684674e+01     8.249151e-01\n",
      " * time: 9.568619012832642\n",
      "   108     7.684557e+01     3.848067e+00\n",
      " * time: 9.728860139846802\n",
      "   109     7.684393e+01     6.096519e+00\n",
      " * time: 9.803491115570068\n",
      "   110     7.683794e+01     2.697683e+01\n",
      " * time: 9.91156005859375\n",
      "   111     7.683641e+01     2.149017e+01\n",
      " * time: 10.01118016242981\n",
      "   112     7.683289e+01     1.000475e+01\n",
      " * time: 10.14112401008606\n",
      "   113     7.682748e+01     1.094112e+01\n",
      " * time: 10.191274166107178\n",
      "   114     7.682552e+01     1.634295e+00\n",
      " * time: 10.274148225784302\n",
      "   115     7.682116e+01     1.291437e+01\n",
      " * time: 10.349828004837036\n",
      "   116     7.681706e+01     1.037614e+01\n",
      " * time: 10.456157207489014\n",
      "   117     7.681581e+01     1.299366e+00\n",
      " * time: 10.506625175476074\n",
      "   118     7.681526e+01     7.037309e+00\n",
      " * time: 10.581541061401367\n",
      "   119     7.681461e+01     7.074541e+00\n",
      " * time: 10.688936233520508\n",
      "   120     7.681397e+01     9.059432e+00\n",
      " * time: 10.739631175994873\n",
      "   121     7.681281e+01     6.796144e+00\n",
      " * time: 10.789636135101318\n",
      "   122     7.681234e+01     3.491448e+00\n",
      " * time: 10.89972710609436\n",
      "   123     7.681208e+01     3.132838e-01\n",
      " * time: 10.950160026550293\n",
      "   124     7.681196e+01     8.979775e-01\n",
      " * time: 11.061686038970947\n",
      "   125     7.681042e+01     2.309583e+01\n",
      " * time: 11.161310195922852\n",
      "   126     7.680848e+01     1.328759e+01\n",
      " * time: 11.295448064804077\n",
      "   127     7.680770e+01     6.774843e+00\n",
      " * time: 11.45153021812439\n",
      "   128     7.680535e+01     1.194223e+01\n",
      " * time: 11.502800226211548\n",
      "   129     7.680306e+01     1.284477e+01\n",
      " * time: 11.577792167663574\n",
      "   130     7.680183e+01     1.046382e+01\n",
      " * time: 11.661364078521729\n",
      "   131     7.679622e+01     8.129034e+00\n",
      " * time: 11.737090110778809\n",
      "   132     7.679486e+01     2.194175e+00\n",
      " * time: 11.787589073181152\n",
      "   133     7.679365e+01     1.389743e+01\n",
      " * time: 11.868810176849365\n",
      "   134     7.679325e+01     5.835351e+00\n",
      " * time: 11.91937804222107\n",
      "   135     7.679227e+01     8.288506e+00\n",
      " * time: 11.994288206100464\n",
      "   136     7.679084e+01     8.621708e+00\n",
      " * time: 12.077802181243896\n",
      "   137     7.679038e+01     1.121083e+01\n",
      " * time: 12.128098011016846\n",
      "   138     7.678927e+01     8.309032e+00\n",
      " * time: 12.236979007720947\n",
      "   139     7.678817e+01     1.065087e+00\n",
      " * time: 12.314505100250244\n",
      "   140     7.678807e+01     2.294419e+00\n",
      " * time: 12.364880084991455\n",
      "   141     7.678767e+01     5.240701e+00\n",
      " * time: 12.451045036315918\n",
      "   142     7.678755e+01     9.564462e-01\n",
      " * time: 12.527599096298218\n",
      "   143     7.678745e+01     2.260135e+00\n",
      " * time: 12.57800817489624\n",
      "   144     7.678739e+01     1.952373e+00\n",
      " * time: 12.687247037887573\n",
      "   145     7.678734e+01     2.639262e+00\n",
      " * time: 12.737220048904419\n",
      "   146     7.678732e+01     8.004922e-01\n",
      " * time: 12.849567174911499\n",
      "   147     7.678731e+01     6.549195e-01\n",
      " * time: 12.902773141860962\n",
      "   148     7.678727e+01     2.147066e-01\n",
      " * time: 13.00914216041565\n",
      "   149     7.678726e+01     1.059209e+00\n",
      " * time: 13.11416506767273\n",
      "   150     7.678725e+01     2.187599e-01\n",
      " * time: 13.189005136489868\n",
      "   151     7.678724e+01     2.126208e-01\n",
      " * time: 13.297962188720703\n",
      "   152     7.678717e+01     2.738152e-01\n",
      " * time: 13.372907161712646\n",
      "   153     7.678716e+01     2.873438e-01\n",
      " * time: 13.45633602142334\n",
      "   154     7.678707e+01     4.291237e+00\n",
      " * time: 13.532256126403809\n",
      "   155     7.678694e+01     5.446823e-01\n",
      " * time: 13.64044713973999\n",
      "   156     7.678665e+01     6.596281e+00\n",
      " * time: 13.717791080474854\n",
      "   157     7.678522e+01     3.439832e+00\n",
      " * time: 13.792972087860107\n",
      "   158     7.678252e+01     3.000301e+00\n",
      " * time: 13.901067018508911\n",
      "   159     7.678204e+01     4.694105e+00\n",
      " * time: 13.950961112976074\n",
      "   160     7.678066e+01     3.449894e+01\n",
      " * time: 14.002833127975464\n",
      "   161     7.678036e+01     3.091310e+01\n",
      " * time: 14.086398124694824\n",
      "   162     7.677824e+01     4.663938e+00\n",
      " * time: 14.136756181716919\n",
      "   163     7.677735e+01     1.757157e+00\n",
      " * time: 14.245536088943481\n",
      "   164     7.677698e+01     2.202092e+00\n",
      " * time: 14.297521114349365\n",
      "   165     7.677660e+01     3.200993e+00\n",
      " * time: 14.348125219345093\n",
      "   166     7.677639e+01     1.501006e+00\n",
      " * time: 14.398786067962646\n",
      "   167     7.677443e+01     5.145331e+00\n",
      " * time: 14.52884817123413\n",
      "   168     7.677395e+01     1.007473e+01\n",
      " * time: 14.603726148605347\n",
      "   169     7.677349e+01     2.011995e+00\n",
      " * time: 14.707727193832397\n",
      "   170     7.677312e+01     4.937999e+00\n",
      " * time: 14.782148122787476\n",
      "   171     7.677274e+01     2.964569e+00\n",
      " * time: 14.890169143676758\n",
      "   172     7.677238e+01     2.098602e+00\n",
      " * time: 14.964874029159546\n",
      "   173     7.677206e+01     4.875464e+00\n",
      " * time: 15.071224212646484\n",
      "   174     7.677191e+01     1.802867e+00\n",
      " * time: 15.146344184875488\n",
      "   175     7.677177e+01     1.070229e+01\n",
      " * time: 15.256004095077515\n",
      "   176     7.677124e+01     1.581492e+00\n",
      " * time: 15.330514192581177\n",
      "   177     7.677084e+01     5.230562e+00\n",
      " * time: 15.380551099777222\n",
      "   178     7.677077e+01     1.431557e+00\n",
      " * time: 15.46191120147705\n",
      "   179     7.677060e+01     2.877846e+00\n",
      " * time: 15.537484169006348\n",
      "   180     7.677053e+01     3.664352e+00\n",
      " * time: 15.64554214477539\n",
      "   181     7.677045e+01     9.817247e-01\n",
      " * time: 15.720684051513672\n",
      "   182     7.677037e+01     3.506726e+00\n",
      " * time: 15.828450202941895\n",
      "   183     7.677027e+01     4.310949e-01\n",
      " * time: 15.904536008834839\n",
      "   184     7.677024e+01     1.900676e+00\n",
      " * time: 15.979551076889038\n",
      "   185     7.677020e+01     5.404188e-01\n",
      " * time: 16.060697078704834\n",
      "   186     7.677019e+01     6.907184e-02\n",
      " * time: 16.13508105278015\n",
      "   187     7.677019e+01     5.441164e-01\n",
      " * time: 16.24448323249817\n",
      "   188     7.677019e+01     3.488243e-01\n",
      " * time: 16.31983518600464\n",
      "   189     7.677019e+01     3.894104e-01\n",
      " * time: 16.37047004699707\n",
      "   190     7.677008e+01     3.953515e+00\n",
      " * time: 16.50328803062439\n",
      "   191     7.677002e+01     5.692961e-01\n",
      " * time: 16.578724145889282\n",
      "   192     7.677002e+01     4.325096e-01\n",
      " * time: 16.682871103286743\n",
      "   193     7.677002e+01     4.100282e-01\n",
      " * time: 16.732713222503662\n",
      "   194     7.677000e+01     3.282419e-01\n",
      " * time: 16.840797185897827\n",
      "   195     7.676997e+01     1.406011e+00\n",
      " * time: 16.916357040405273\n",
      "   196     7.676995e+01     5.249975e-01\n",
      " * time: 16.966073036193848\n",
      "   197     7.676988e+01     1.291124e+00\n",
      " * time: 17.0714750289917\n",
      "   198     7.676984e+01     2.553608e+00\n",
      " * time: 17.145697116851807\n",
      "   199     7.676973e+01     6.682087e+00\n",
      " * time: 17.32925510406494\n",
      "   200     7.676970e+01     9.700404e+00\n",
      " * time: 17.487589120864868\n",
      "   201     7.676899e+01     6.748980e+00\n",
      " * time: 17.595810174942017\n",
      "   202     7.676727e+01     6.895518e+00\n",
      " * time: 17.648906230926514\n",
      "   203     7.676672e+01     5.106410e+00\n",
      " * time: 17.889880180358887\n",
      "   204     7.676640e+01     8.918622e+00\n",
      " * time: 17.940611124038696\n",
      "   205     7.676615e+01     3.380330e+00\n",
      " * time: 18.022245168685913\n",
      "   206     7.676597e+01     2.800479e+00\n",
      " * time: 18.09980607032776\n",
      "   207     7.676583e+01     3.023577e+00\n",
      " * time: 18.150065183639526\n",
      "   208     7.676558e+01     2.990218e+00\n",
      " * time: 18.258119106292725\n",
      "   209     7.676551e+01     3.174702e+00\n",
      " * time: 18.308871030807495\n",
      "   210     7.676535e+01     3.984869e+00\n",
      " * time: 18.417001008987427\n",
      "   211     7.676465e+01     2.824658e+00\n",
      " * time: 18.518957138061523\n",
      "   212     7.676341e+01     9.092109e+00\n",
      " * time: 18.624778032302856\n",
      "   213     7.676243e+01     1.368072e+01\n",
      " * time: 18.675220012664795\n",
      "   214     7.676044e+01     5.047404e+00\n",
      " * time: 18.75057601928711\n",
      "   215     7.675926e+01     4.697475e+00\n",
      " * time: 18.831902027130127\n",
      "   216     7.675757e+01     3.667329e+00\n",
      " * time: 18.882875204086304\n",
      "   217     7.675657e+01     4.710201e+00\n",
      " * time: 18.932887077331543\n",
      "   218     6.226583e+01     6.138200e+02\n",
      " * time: 19.09211015701294\n",
      "   219     6.083802e+01     6.789139e+02\n",
      " * time: 19.349192142486572\n",
      "   220     6.046320e+01     6.745651e+02\n",
      " * time: 19.50434422492981\n",
      "   221     5.982552e+01     5.989192e+02\n",
      " * time: 19.554373025894165\n",
      "   222     5.516031e+01     5.103683e+02\n",
      " * time: 19.66147518157959\n",
      "   223     5.456337e+01     4.982606e+02\n",
      " * time: 21.625108003616333\n",
      "   224     5.456337e+01     4.982606e+02\n",
      " * time: 23.91187310218811\n",
      "   225     5.455389e+01     5.250865e+02\n",
      " * time: 26.108352184295654\n",
      "   226     5.384580e+01     5.081649e+02\n",
      " * time: 28.22858500480652\n",
      "   227     5.384580e+01     5.081649e+02\n",
      " * time: 30.448257207870483\n"
     ]
    }
   ],
   "source": [
    "data_x, data_y = get_learning_data(pl_dict, 0.0)\n",
    "res_train = optimize(f, randn(12), LBFGS(), Optim.Options(store_trace = true, show_trace = true, f_tol=1e-12), autodiff=:forward);"
   ]
  },
  {
   "cell_type": "code",
   "execution_count": 27,
   "id": "incorrect-twins",
   "metadata": {},
   "outputs": [
    {
     "data": {
      "text/plain": [
       "dat_to_col (generic function with 1 method)"
      ]
     },
     "execution_count": 27,
     "metadata": {},
     "output_type": "execute_result"
    }
   ],
   "source": [
    "dat_to_col(data) = map(x -> x == 1 ? \"red\" : \"blue\", Int64.(round.(data)))"
   ]
  },
  {
   "cell_type": "code",
   "execution_count": 30,
   "id": "entire-hampton",
   "metadata": {
    "tags": []
   },
   "outputs": [
    {
     "data": {
      "image/svg+xml": [
       "<?xml version=\"1.0\" encoding=\"utf-8\"?>\n",
       "<svg xmlns=\"http://www.w3.org/2000/svg\" xmlns:xlink=\"http://www.w3.org/1999/xlink\" width=\"1600\" height=\"400\" viewBox=\"0 0 6400 1600\">\n",
       "<defs>\n",
       "  <clipPath id=\"clip670\">\n",
       "    <rect x=\"0\" y=\"0\" width=\"6400\" height=\"1600\"/>\n",
       "  </clipPath>\n",
       "</defs>\n",
       "<path clip-path=\"url(#clip670)\" d=\"\n",
       "M0 1600 L6400 1600 L6400 0 L0 0  Z\n",
       "  \" fill=\"#ffffff\" fill-rule=\"evenodd\" fill-opacity=\"1\"/>\n",
       "<defs>\n",
       "  <clipPath id=\"clip671\">\n",
       "    <rect x=\"1280\" y=\"0\" width=\"4481\" height=\"1600\"/>\n",
       "  </clipPath>\n",
       "</defs>\n",
       "<path clip-path=\"url(#clip670)\" d=\"\n",
       "M226.274 1508.05 L2109.08 1508.05 L2109.08 47.2441 L226.274 47.2441  Z\n",
       "  \" fill=\"#ffffff\" fill-rule=\"evenodd\" fill-opacity=\"1\"/>\n",
       "<defs>\n",
       "  <clipPath id=\"clip672\">\n",
       "    <rect x=\"226\" y=\"47\" width=\"1884\" height=\"1462\"/>\n",
       "  </clipPath>\n",
       "</defs>\n",
       "<polyline clip-path=\"url(#clip672)\" style=\"stroke:#000000; stroke-linecap:butt; stroke-linejoin:round; stroke-width:2; stroke-opacity:0.1; fill:none\" points=\"\n",
       "  537.949,1508.05 537.949,47.2441 \n",
       "  \"/>\n",
       "<polyline clip-path=\"url(#clip672)\" style=\"stroke:#000000; stroke-linecap:butt; stroke-linejoin:round; stroke-width:2; stroke-opacity:0.1; fill:none\" points=\"\n",
       "  899.424,1508.05 899.424,47.2441 \n",
       "  \"/>\n",
       "<polyline clip-path=\"url(#clip672)\" style=\"stroke:#000000; stroke-linecap:butt; stroke-linejoin:round; stroke-width:2; stroke-opacity:0.1; fill:none\" points=\"\n",
       "  1260.9,1508.05 1260.9,47.2441 \n",
       "  \"/>\n",
       "<polyline clip-path=\"url(#clip672)\" style=\"stroke:#000000; stroke-linecap:butt; stroke-linejoin:round; stroke-width:2; stroke-opacity:0.1; fill:none\" points=\"\n",
       "  1622.38,1508.05 1622.38,47.2441 \n",
       "  \"/>\n",
       "<polyline clip-path=\"url(#clip672)\" style=\"stroke:#000000; stroke-linecap:butt; stroke-linejoin:round; stroke-width:2; stroke-opacity:0.1; fill:none\" points=\"\n",
       "  1983.85,1508.05 1983.85,47.2441 \n",
       "  \"/>\n",
       "<polyline clip-path=\"url(#clip670)\" style=\"stroke:#000000; stroke-linecap:butt; stroke-linejoin:round; stroke-width:4; stroke-opacity:1; fill:none\" points=\"\n",
       "  226.274,1508.05 2109.08,1508.05 \n",
       "  \"/>\n",
       "<polyline clip-path=\"url(#clip670)\" style=\"stroke:#000000; stroke-linecap:butt; stroke-linejoin:round; stroke-width:4; stroke-opacity:1; fill:none\" points=\"\n",
       "  537.949,1508.05 537.949,1489.15 \n",
       "  \"/>\n",
       "<polyline clip-path=\"url(#clip670)\" style=\"stroke:#000000; stroke-linecap:butt; stroke-linejoin:round; stroke-width:4; stroke-opacity:1; fill:none\" points=\"\n",
       "  899.424,1508.05 899.424,1489.15 \n",
       "  \"/>\n",
       "<polyline clip-path=\"url(#clip670)\" style=\"stroke:#000000; stroke-linecap:butt; stroke-linejoin:round; stroke-width:4; stroke-opacity:1; fill:none\" points=\"\n",
       "  1260.9,1508.05 1260.9,1489.15 \n",
       "  \"/>\n",
       "<polyline clip-path=\"url(#clip670)\" style=\"stroke:#000000; stroke-linecap:butt; stroke-linejoin:round; stroke-width:4; stroke-opacity:1; fill:none\" points=\"\n",
       "  1622.38,1508.05 1622.38,1489.15 \n",
       "  \"/>\n",
       "<polyline clip-path=\"url(#clip670)\" style=\"stroke:#000000; stroke-linecap:butt; stroke-linejoin:round; stroke-width:4; stroke-opacity:1; fill:none\" points=\"\n",
       "  1983.85,1508.05 1983.85,1489.15 \n",
       "  \"/>\n",
       "<path clip-path=\"url(#clip670)\" d=\"M515.831 1569.24 Q512.219 1569.24 510.391 1572.8 Q508.585 1576.35 508.585 1583.47 Q508.585 1590.58 510.391 1594.15 Q512.219 1597.69 515.831 1597.69 Q519.465 1597.69 521.27 1594.15 Q523.099 1590.58 523.099 1583.47 Q523.099 1576.35 521.27 1572.8 Q519.465 1569.24 515.831 1569.24 M515.831 1565.53 Q521.641 1565.53 524.696 1570.14 Q527.775 1574.72 527.775 1583.47 Q527.775 1592.2 524.696 1596.81 Q521.641 1601.39 515.831 1601.39 Q510.02 1601.39 506.942 1596.81 Q503.886 1592.2 503.886 1583.47 Q503.886 1574.72 506.942 1570.14 Q510.02 1565.53 515.831 1565.53 Z\" fill=\"#000000\" fill-rule=\"evenodd\" fill-opacity=\"1\" /><path clip-path=\"url(#clip670)\" d=\"M535.993 1594.84 L540.877 1594.84 L540.877 1600.72 L535.993 1600.72 L535.993 1594.84 Z\" fill=\"#000000\" fill-rule=\"evenodd\" fill-opacity=\"1\" /><path clip-path=\"url(#clip670)\" d=\"M551.108 1566.16 L569.465 1566.16 L569.465 1570.1 L555.391 1570.1 L555.391 1578.57 Q556.409 1578.22 557.428 1578.06 Q558.446 1577.87 559.465 1577.87 Q565.252 1577.87 568.631 1581.04 Q572.011 1584.22 572.011 1589.63 Q572.011 1595.21 568.539 1598.31 Q565.066 1601.39 558.747 1601.39 Q556.571 1601.39 554.303 1601.02 Q552.057 1600.65 549.65 1599.91 L549.65 1595.21 Q551.733 1596.34 553.955 1596.9 Q556.178 1597.46 558.654 1597.46 Q562.659 1597.46 564.997 1595.35 Q567.335 1593.24 567.335 1589.63 Q567.335 1586.02 564.997 1583.91 Q562.659 1581.81 558.654 1581.81 Q556.779 1581.81 554.904 1582.22 Q553.053 1582.64 551.108 1583.52 L551.108 1566.16 Z\" fill=\"#000000\" fill-rule=\"evenodd\" fill-opacity=\"1\" /><path clip-path=\"url(#clip670)\" d=\"M866.577 1596.78 L874.216 1596.78 L874.216 1570.42 L865.906 1572.09 L865.906 1567.83 L874.17 1566.16 L878.846 1566.16 L878.846 1596.78 L886.485 1596.78 L886.485 1600.72 L866.577 1600.72 L866.577 1596.78 Z\" fill=\"#000000\" fill-rule=\"evenodd\" fill-opacity=\"1\" /><path clip-path=\"url(#clip670)\" d=\"M895.929 1594.84 L900.813 1594.84 L900.813 1600.72 L895.929 1600.72 L895.929 1594.84 Z\" fill=\"#000000\" fill-rule=\"evenodd\" fill-opacity=\"1\" /><path clip-path=\"url(#clip670)\" d=\"M920.998 1569.24 Q917.387 1569.24 915.558 1572.8 Q913.753 1576.35 913.753 1583.47 Q913.753 1590.58 915.558 1594.15 Q917.387 1597.69 920.998 1597.69 Q924.633 1597.69 926.438 1594.15 Q928.267 1590.58 928.267 1583.47 Q928.267 1576.35 926.438 1572.8 Q924.633 1569.24 920.998 1569.24 M920.998 1565.53 Q926.808 1565.53 929.864 1570.14 Q932.943 1574.72 932.943 1583.47 Q932.943 1592.2 929.864 1596.81 Q926.808 1601.39 920.998 1601.39 Q915.188 1601.39 912.109 1596.81 Q909.054 1592.2 909.054 1583.47 Q909.054 1574.72 912.109 1570.14 Q915.188 1565.53 920.998 1565.53 Z\" fill=\"#000000\" fill-rule=\"evenodd\" fill-opacity=\"1\" /><path clip-path=\"url(#clip670)\" d=\"M1228.55 1596.78 L1236.19 1596.78 L1236.19 1570.42 L1227.88 1572.09 L1227.88 1567.83 L1236.14 1566.16 L1240.82 1566.16 L1240.82 1596.78 L1248.46 1596.78 L1248.46 1600.72 L1228.55 1600.72 L1228.55 1596.78 Z\" fill=\"#000000\" fill-rule=\"evenodd\" fill-opacity=\"1\" /><path clip-path=\"url(#clip670)\" d=\"M1257.9 1594.84 L1262.79 1594.84 L1262.79 1600.72 L1257.9 1600.72 L1257.9 1594.84 Z\" fill=\"#000000\" fill-rule=\"evenodd\" fill-opacity=\"1\" /><path clip-path=\"url(#clip670)\" d=\"M1273.02 1566.16 L1291.37 1566.16 L1291.37 1570.1 L1277.3 1570.1 L1277.3 1578.57 Q1278.32 1578.22 1279.34 1578.06 Q1280.36 1577.87 1281.37 1577.87 Q1287.16 1577.87 1290.54 1581.04 Q1293.92 1584.22 1293.92 1589.63 Q1293.92 1595.21 1290.45 1598.31 Q1286.98 1601.39 1280.66 1601.39 Q1278.48 1601.39 1276.21 1601.02 Q1273.97 1600.65 1271.56 1599.91 L1271.56 1595.21 Q1273.64 1596.34 1275.87 1596.9 Q1278.09 1597.46 1280.56 1597.46 Q1284.57 1597.46 1286.91 1595.35 Q1289.24 1593.24 1289.24 1589.63 Q1289.24 1586.02 1286.91 1583.91 Q1284.57 1581.81 1280.56 1581.81 Q1278.69 1581.81 1276.81 1582.22 Q1274.96 1582.64 1273.02 1583.52 L1273.02 1566.16 Z\" fill=\"#000000\" fill-rule=\"evenodd\" fill-opacity=\"1\" /><path clip-path=\"url(#clip670)\" d=\"M1593.61 1596.78 L1609.93 1596.78 L1609.93 1600.72 L1587.99 1600.72 L1587.99 1596.78 Q1590.65 1594.03 1595.23 1589.4 Q1599.84 1584.75 1601.02 1583.41 Q1603.27 1580.88 1604.15 1579.15 Q1605.05 1577.39 1605.05 1575.7 Q1605.05 1572.94 1603.11 1571.21 Q1601.18 1569.47 1598.08 1569.47 Q1595.88 1569.47 1593.43 1570.23 Q1591 1571 1588.22 1572.55 L1588.22 1567.83 Q1591.05 1566.69 1593.5 1566.11 Q1595.95 1565.53 1597.99 1565.53 Q1603.36 1565.53 1606.55 1568.22 Q1609.75 1570.91 1609.75 1575.4 Q1609.75 1577.53 1608.94 1579.45 Q1608.15 1581.34 1606.04 1583.94 Q1605.47 1584.61 1602.36 1587.83 Q1599.26 1591.02 1593.61 1596.78 Z\" fill=\"#000000\" fill-rule=\"evenodd\" fill-opacity=\"1\" /><path clip-path=\"url(#clip670)\" d=\"M1619.75 1594.84 L1624.63 1594.84 L1624.63 1600.72 L1619.75 1600.72 L1619.75 1594.84 Z\" fill=\"#000000\" fill-rule=\"evenodd\" fill-opacity=\"1\" /><path clip-path=\"url(#clip670)\" d=\"M1644.82 1569.24 Q1641.21 1569.24 1639.38 1572.8 Q1637.57 1576.35 1637.57 1583.47 Q1637.57 1590.58 1639.38 1594.15 Q1641.21 1597.69 1644.82 1597.69 Q1648.45 1597.69 1650.26 1594.15 Q1652.09 1590.58 1652.09 1583.47 Q1652.09 1576.35 1650.26 1572.8 Q1648.45 1569.24 1644.82 1569.24 M1644.82 1565.53 Q1650.63 1565.53 1653.68 1570.14 Q1656.76 1574.72 1656.76 1583.47 Q1656.76 1592.2 1653.68 1596.81 Q1650.63 1601.39 1644.82 1601.39 Q1639.01 1601.39 1635.93 1596.81 Q1632.87 1592.2 1632.87 1583.47 Q1632.87 1574.72 1635.93 1570.14 Q1639.01 1565.53 1644.82 1565.53 Z\" fill=\"#000000\" fill-rule=\"evenodd\" fill-opacity=\"1\" /><path clip-path=\"url(#clip670)\" d=\"M1955.59 1596.78 L1971.91 1596.78 L1971.91 1600.72 L1949.96 1600.72 L1949.96 1596.78 Q1952.63 1594.03 1957.21 1589.4 Q1961.81 1584.75 1963 1583.41 Q1965.24 1580.88 1966.12 1579.15 Q1967.02 1577.39 1967.02 1575.7 Q1967.02 1572.94 1965.08 1571.21 Q1963.16 1569.47 1960.06 1569.47 Q1957.86 1569.47 1955.4 1570.23 Q1952.97 1571 1950.19 1572.55 L1950.19 1567.83 Q1953.02 1566.69 1955.47 1566.11 Q1957.93 1565.53 1959.96 1565.53 Q1965.33 1565.53 1968.53 1568.22 Q1971.72 1570.91 1971.72 1575.4 Q1971.72 1577.53 1970.91 1579.45 Q1970.12 1581.34 1968.02 1583.94 Q1967.44 1584.61 1964.34 1587.83 Q1961.24 1591.02 1955.59 1596.78 Z\" fill=\"#000000\" fill-rule=\"evenodd\" fill-opacity=\"1\" /><path clip-path=\"url(#clip670)\" d=\"M1981.72 1594.84 L1986.61 1594.84 L1986.61 1600.72 L1981.72 1600.72 L1981.72 1594.84 Z\" fill=\"#000000\" fill-rule=\"evenodd\" fill-opacity=\"1\" /><path clip-path=\"url(#clip670)\" d=\"M1996.84 1566.16 L2015.19 1566.16 L2015.19 1570.1 L2001.12 1570.1 L2001.12 1578.57 Q2002.14 1578.22 2003.16 1578.06 Q2004.18 1577.87 2005.19 1577.87 Q2010.98 1577.87 2014.36 1581.04 Q2017.74 1584.22 2017.74 1589.63 Q2017.74 1595.21 2014.27 1598.31 Q2010.8 1601.39 2004.48 1601.39 Q2002.3 1601.39 2000.03 1601.02 Q1997.79 1600.65 1995.38 1599.91 L1995.38 1595.21 Q1997.46 1596.34 1999.68 1596.9 Q2001.91 1597.46 2004.38 1597.46 Q2008.39 1597.46 2010.73 1595.35 Q2013.06 1593.24 2013.06 1589.63 Q2013.06 1586.02 2010.73 1583.91 Q2008.39 1581.81 2004.38 1581.81 Q2002.51 1581.81 2000.63 1582.22 Q1998.78 1582.64 1996.84 1583.52 L1996.84 1566.16 Z\" fill=\"#000000\" fill-rule=\"evenodd\" fill-opacity=\"1\" /><polyline clip-path=\"url(#clip672)\" style=\"stroke:#000000; stroke-linecap:butt; stroke-linejoin:round; stroke-width:2; stroke-opacity:0.1; fill:none\" points=\"\n",
       "  226.274,1374.95 2109.08,1374.95 \n",
       "  \"/>\n",
       "<polyline clip-path=\"url(#clip672)\" style=\"stroke:#000000; stroke-linecap:butt; stroke-linejoin:round; stroke-width:2; stroke-opacity:0.1; fill:none\" points=\"\n",
       "  226.274,1079.01 2109.08,1079.01 \n",
       "  \"/>\n",
       "<polyline clip-path=\"url(#clip672)\" style=\"stroke:#000000; stroke-linecap:butt; stroke-linejoin:round; stroke-width:2; stroke-opacity:0.1; fill:none\" points=\"\n",
       "  226.274,783.072 2109.08,783.072 \n",
       "  \"/>\n",
       "<polyline clip-path=\"url(#clip672)\" style=\"stroke:#000000; stroke-linecap:butt; stroke-linejoin:round; stroke-width:2; stroke-opacity:0.1; fill:none\" points=\"\n",
       "  226.274,487.134 2109.08,487.134 \n",
       "  \"/>\n",
       "<polyline clip-path=\"url(#clip672)\" style=\"stroke:#000000; stroke-linecap:butt; stroke-linejoin:round; stroke-width:2; stroke-opacity:0.1; fill:none\" points=\"\n",
       "  226.274,191.196 2109.08,191.196 \n",
       "  \"/>\n",
       "<polyline clip-path=\"url(#clip670)\" style=\"stroke:#000000; stroke-linecap:butt; stroke-linejoin:round; stroke-width:4; stroke-opacity:1; fill:none\" points=\"\n",
       "  226.274,1508.05 226.274,47.2441 \n",
       "  \"/>\n",
       "<polyline clip-path=\"url(#clip670)\" style=\"stroke:#000000; stroke-linecap:butt; stroke-linejoin:round; stroke-width:4; stroke-opacity:1; fill:none\" points=\"\n",
       "  226.274,1374.95 245.172,1374.95 \n",
       "  \"/>\n",
       "<polyline clip-path=\"url(#clip670)\" style=\"stroke:#000000; stroke-linecap:butt; stroke-linejoin:round; stroke-width:4; stroke-opacity:1; fill:none\" points=\"\n",
       "  226.274,1079.01 245.172,1079.01 \n",
       "  \"/>\n",
       "<polyline clip-path=\"url(#clip670)\" style=\"stroke:#000000; stroke-linecap:butt; stroke-linejoin:round; stroke-width:4; stroke-opacity:1; fill:none\" points=\"\n",
       "  226.274,783.072 245.172,783.072 \n",
       "  \"/>\n",
       "<polyline clip-path=\"url(#clip670)\" style=\"stroke:#000000; stroke-linecap:butt; stroke-linejoin:round; stroke-width:4; stroke-opacity:1; fill:none\" points=\"\n",
       "  226.274,487.134 245.172,487.134 \n",
       "  \"/>\n",
       "<polyline clip-path=\"url(#clip670)\" style=\"stroke:#000000; stroke-linecap:butt; stroke-linejoin:round; stroke-width:4; stroke-opacity:1; fill:none\" points=\"\n",
       "  226.274,191.196 245.172,191.196 \n",
       "  \"/>\n",
       "<path clip-path=\"url(#clip670)\" d=\"M42.9365 1360.75 Q39.3254 1360.75 37.4967 1364.31 Q35.6912 1367.85 35.6912 1374.98 Q35.6912 1382.09 37.4967 1385.65 Q39.3254 1389.19 42.9365 1389.19 Q46.5707 1389.19 48.3763 1385.65 Q50.205 1382.09 50.205 1374.98 Q50.205 1367.85 48.3763 1364.31 Q46.5707 1360.75 42.9365 1360.75 M42.9365 1357.04 Q48.7467 1357.04 51.8022 1361.65 Q54.8809 1366.23 54.8809 1374.98 Q54.8809 1383.71 51.8022 1388.32 Q48.7467 1392.9 42.9365 1392.9 Q37.1264 1392.9 34.0477 1388.32 Q30.9921 1383.71 30.9921 1374.98 Q30.9921 1366.23 34.0477 1361.65 Q37.1264 1357.04 42.9365 1357.04 Z\" fill=\"#000000\" fill-rule=\"evenodd\" fill-opacity=\"1\" /><path clip-path=\"url(#clip670)\" d=\"M63.0984 1386.35 L67.9827 1386.35 L67.9827 1392.23 L63.0984 1392.23 L63.0984 1386.35 Z\" fill=\"#000000\" fill-rule=\"evenodd\" fill-opacity=\"1\" /><path clip-path=\"url(#clip670)\" d=\"M88.1677 1360.75 Q84.5567 1360.75 82.728 1364.31 Q80.9224 1367.85 80.9224 1374.98 Q80.9224 1382.09 82.728 1385.65 Q84.5567 1389.19 88.1677 1389.19 Q91.802 1389.19 93.6075 1385.65 Q95.4362 1382.09 95.4362 1374.98 Q95.4362 1367.85 93.6075 1364.31 Q91.802 1360.75 88.1677 1360.75 M88.1677 1357.04 Q93.9779 1357.04 97.0334 1361.65 Q100.112 1366.23 100.112 1374.98 Q100.112 1383.71 97.0334 1388.32 Q93.9779 1392.9 88.1677 1392.9 Q82.3576 1392.9 79.2789 1388.32 Q76.2234 1383.71 76.2234 1374.98 Q76.2234 1366.23 79.2789 1361.65 Q82.3576 1357.04 88.1677 1357.04 Z\" fill=\"#000000\" fill-rule=\"evenodd\" fill-opacity=\"1\" /><path clip-path=\"url(#clip670)\" d=\"M118.33 1360.75 Q114.719 1360.75 112.89 1364.31 Q111.084 1367.85 111.084 1374.98 Q111.084 1382.09 112.89 1385.65 Q114.719 1389.19 118.33 1389.19 Q121.964 1389.19 123.769 1385.65 Q125.598 1382.09 125.598 1374.98 Q125.598 1367.85 123.769 1364.31 Q121.964 1360.75 118.33 1360.75 M118.33 1357.04 Q124.14 1357.04 127.195 1361.65 Q130.274 1366.23 130.274 1374.98 Q130.274 1383.71 127.195 1388.32 Q124.14 1392.9 118.33 1392.9 Q112.519 1392.9 109.441 1388.32 Q106.385 1383.71 106.385 1374.98 Q106.385 1366.23 109.441 1361.65 Q112.519 1357.04 118.33 1357.04 Z\" fill=\"#000000\" fill-rule=\"evenodd\" fill-opacity=\"1\" /><path clip-path=\"url(#clip670)\" d=\"M43.9319 1064.81 Q40.3208 1064.81 38.4921 1068.37 Q36.6865 1071.91 36.6865 1079.04 Q36.6865 1086.15 38.4921 1089.72 Q40.3208 1093.26 43.9319 1093.26 Q47.5661 1093.26 49.3717 1089.72 Q51.2004 1086.15 51.2004 1079.04 Q51.2004 1071.91 49.3717 1068.37 Q47.5661 1064.81 43.9319 1064.81 M43.9319 1061.1 Q49.742 1061.1 52.7976 1065.71 Q55.8763 1070.29 55.8763 1079.04 Q55.8763 1087.77 52.7976 1092.38 Q49.742 1096.96 43.9319 1096.96 Q38.1217 1096.96 35.043 1092.38 Q31.9875 1087.77 31.9875 1079.04 Q31.9875 1070.29 35.043 1065.71 Q38.1217 1061.1 43.9319 1061.1 Z\" fill=\"#000000\" fill-rule=\"evenodd\" fill-opacity=\"1\" /><path clip-path=\"url(#clip670)\" d=\"M64.0938 1090.41 L68.978 1090.41 L68.978 1096.29 L64.0938 1096.29 L64.0938 1090.41 Z\" fill=\"#000000\" fill-rule=\"evenodd\" fill-opacity=\"1\" /><path clip-path=\"url(#clip670)\" d=\"M83.1909 1092.35 L99.5103 1092.35 L99.5103 1096.29 L77.566 1096.29 L77.566 1092.35 Q80.228 1089.6 84.8113 1084.97 Q89.4177 1080.32 90.5983 1078.97 Q92.8436 1076.45 93.7233 1074.72 Q94.626 1072.96 94.626 1071.27 Q94.626 1068.51 92.6816 1066.78 Q90.7603 1065.04 87.6585 1065.04 Q85.4594 1065.04 83.0057 1065.8 Q80.5752 1066.57 77.7974 1068.12 L77.7974 1063.4 Q80.6215 1062.26 83.0752 1061.68 Q85.5289 1061.1 87.5659 1061.1 Q92.9362 1061.1 96.1307 1063.79 Q99.3251 1066.47 99.3251 1070.97 Q99.3251 1073.1 98.5149 1075.02 Q97.7279 1076.91 95.6214 1079.51 Q95.0427 1080.18 91.9409 1083.4 Q88.839 1086.59 83.1909 1092.35 Z\" fill=\"#000000\" fill-rule=\"evenodd\" fill-opacity=\"1\" /><path clip-path=\"url(#clip670)\" d=\"M109.371 1061.73 L127.728 1061.73 L127.728 1065.66 L113.654 1065.66 L113.654 1074.14 Q114.672 1073.79 115.691 1073.63 Q116.709 1073.44 117.728 1073.44 Q123.515 1073.44 126.894 1076.61 Q130.274 1079.78 130.274 1085.2 Q130.274 1090.78 126.802 1093.88 Q123.33 1096.96 117.01 1096.96 Q114.834 1096.96 112.566 1096.59 Q110.32 1096.22 107.913 1095.48 L107.913 1090.78 Q109.996 1091.91 112.219 1092.47 Q114.441 1093.03 116.918 1093.03 Q120.922 1093.03 123.26 1090.92 Q125.598 1088.81 125.598 1085.2 Q125.598 1081.59 123.26 1079.48 Q120.922 1077.38 116.918 1077.38 Q115.043 1077.38 113.168 1077.79 Q111.316 1078.21 109.371 1079.09 L109.371 1061.73 Z\" fill=\"#000000\" fill-rule=\"evenodd\" fill-opacity=\"1\" /><path clip-path=\"url(#clip670)\" d=\"M42.9365 768.87 Q39.3254 768.87 37.4967 772.435 Q35.6912 775.977 35.6912 783.106 Q35.6912 790.213 37.4967 793.778 Q39.3254 797.319 42.9365 797.319 Q46.5707 797.319 48.3763 793.778 Q50.205 790.213 50.205 783.106 Q50.205 775.977 48.3763 772.435 Q46.5707 768.87 42.9365 768.87 M42.9365 765.167 Q48.7467 765.167 51.8022 769.773 Q54.8809 774.356 54.8809 783.106 Q54.8809 791.833 51.8022 796.44 Q48.7467 801.023 42.9365 801.023 Q37.1264 801.023 34.0477 796.44 Q30.9921 791.833 30.9921 783.106 Q30.9921 774.356 34.0477 769.773 Q37.1264 765.167 42.9365 765.167 Z\" fill=\"#000000\" fill-rule=\"evenodd\" fill-opacity=\"1\" /><path clip-path=\"url(#clip670)\" d=\"M63.0984 794.472 L67.9827 794.472 L67.9827 800.352 L63.0984 800.352 L63.0984 794.472 Z\" fill=\"#000000\" fill-rule=\"evenodd\" fill-opacity=\"1\" /><path clip-path=\"url(#clip670)\" d=\"M78.2141 765.792 L96.5705 765.792 L96.5705 769.727 L82.4965 769.727 L82.4965 778.199 Q83.515 777.852 84.5335 777.69 Q85.552 777.505 86.5705 777.505 Q92.3575 777.505 95.7371 780.676 Q99.1168 783.847 99.1168 789.264 Q99.1168 794.842 95.6446 797.944 Q92.1724 801.023 85.8529 801.023 Q83.677 801.023 81.4085 800.653 Q79.1632 800.282 76.7558 799.542 L76.7558 794.842 Q78.8391 795.977 81.0613 796.532 Q83.2835 797.088 85.7604 797.088 Q89.765 797.088 92.1029 794.981 Q94.4409 792.875 94.4409 789.264 Q94.4409 785.653 92.1029 783.546 Q89.765 781.44 85.7604 781.44 Q83.8854 781.44 82.0104 781.856 Q80.1585 782.273 78.2141 783.153 L78.2141 765.792 Z\" fill=\"#000000\" fill-rule=\"evenodd\" fill-opacity=\"1\" /><path clip-path=\"url(#clip670)\" d=\"M118.33 768.87 Q114.719 768.87 112.89 772.435 Q111.084 775.977 111.084 783.106 Q111.084 790.213 112.89 793.778 Q114.719 797.319 118.33 797.319 Q121.964 797.319 123.769 793.778 Q125.598 790.213 125.598 783.106 Q125.598 775.977 123.769 772.435 Q121.964 768.87 118.33 768.87 M118.33 765.167 Q124.14 765.167 127.195 769.773 Q130.274 774.356 130.274 783.106 Q130.274 791.833 127.195 796.44 Q124.14 801.023 118.33 801.023 Q112.519 801.023 109.441 796.44 Q106.385 791.833 106.385 783.106 Q106.385 774.356 109.441 769.773 Q112.519 765.167 118.33 765.167 Z\" fill=\"#000000\" fill-rule=\"evenodd\" fill-opacity=\"1\" /><path clip-path=\"url(#clip670)\" d=\"M43.9319 472.933 Q40.3208 472.933 38.4921 476.497 Q36.6865 480.039 36.6865 487.169 Q36.6865 494.275 38.4921 497.84 Q40.3208 501.382 43.9319 501.382 Q47.5661 501.382 49.3717 497.84 Q51.2004 494.275 51.2004 487.169 Q51.2004 480.039 49.3717 476.497 Q47.5661 472.933 43.9319 472.933 M43.9319 469.229 Q49.742 469.229 52.7976 473.835 Q55.8763 478.419 55.8763 487.169 Q55.8763 495.895 52.7976 500.502 Q49.742 505.085 43.9319 505.085 Q38.1217 505.085 35.043 500.502 Q31.9875 495.895 31.9875 487.169 Q31.9875 478.419 35.043 473.835 Q38.1217 469.229 43.9319 469.229 Z\" fill=\"#000000\" fill-rule=\"evenodd\" fill-opacity=\"1\" /><path clip-path=\"url(#clip670)\" d=\"M64.0938 498.534 L68.978 498.534 L68.978 504.414 L64.0938 504.414 L64.0938 498.534 Z\" fill=\"#000000\" fill-rule=\"evenodd\" fill-opacity=\"1\" /><path clip-path=\"url(#clip670)\" d=\"M77.9826 469.854 L100.205 469.854 L100.205 471.845 L87.6585 504.414 L82.7743 504.414 L94.5797 473.789 L77.9826 473.789 L77.9826 469.854 Z\" fill=\"#000000\" fill-rule=\"evenodd\" fill-opacity=\"1\" /><path clip-path=\"url(#clip670)\" d=\"M109.371 469.854 L127.728 469.854 L127.728 473.789 L113.654 473.789 L113.654 482.261 Q114.672 481.914 115.691 481.752 Q116.709 481.567 117.728 481.567 Q123.515 481.567 126.894 484.738 Q130.274 487.909 130.274 493.326 Q130.274 498.905 126.802 502.007 Q123.33 505.085 117.01 505.085 Q114.834 505.085 112.566 504.715 Q110.32 504.345 107.913 503.604 L107.913 498.905 Q109.996 500.039 112.219 500.595 Q114.441 501.15 116.918 501.15 Q120.922 501.15 123.26 499.044 Q125.598 496.937 125.598 493.326 Q125.598 489.715 123.26 487.609 Q120.922 485.502 116.918 485.502 Q115.043 485.502 113.168 485.919 Q111.316 486.335 109.371 487.215 L109.371 469.854 Z\" fill=\"#000000\" fill-rule=\"evenodd\" fill-opacity=\"1\" /><path clip-path=\"url(#clip670)\" d=\"M33.7467 204.541 L41.3856 204.541 L41.3856 178.175 L33.0754 179.842 L33.0754 175.583 L41.3393 173.916 L46.0152 173.916 L46.0152 204.541 L53.654 204.541 L53.654 208.476 L33.7467 208.476 L33.7467 204.541 Z\" fill=\"#000000\" fill-rule=\"evenodd\" fill-opacity=\"1\" /><path clip-path=\"url(#clip670)\" d=\"M63.0984 202.597 L67.9827 202.597 L67.9827 208.476 L63.0984 208.476 L63.0984 202.597 Z\" fill=\"#000000\" fill-rule=\"evenodd\" fill-opacity=\"1\" /><path clip-path=\"url(#clip670)\" d=\"M88.1677 176.995 Q84.5567 176.995 82.728 180.56 Q80.9224 184.101 80.9224 191.231 Q80.9224 198.337 82.728 201.902 Q84.5567 205.444 88.1677 205.444 Q91.802 205.444 93.6075 201.902 Q95.4362 198.337 95.4362 191.231 Q95.4362 184.101 93.6075 180.56 Q91.802 176.995 88.1677 176.995 M88.1677 173.291 Q93.9779 173.291 97.0334 177.898 Q100.112 182.481 100.112 191.231 Q100.112 199.958 97.0334 204.564 Q93.9779 209.148 88.1677 209.148 Q82.3576 209.148 79.2789 204.564 Q76.2234 199.958 76.2234 191.231 Q76.2234 182.481 79.2789 177.898 Q82.3576 173.291 88.1677 173.291 Z\" fill=\"#000000\" fill-rule=\"evenodd\" fill-opacity=\"1\" /><path clip-path=\"url(#clip670)\" d=\"M118.33 176.995 Q114.719 176.995 112.89 180.56 Q111.084 184.101 111.084 191.231 Q111.084 198.337 112.89 201.902 Q114.719 205.444 118.33 205.444 Q121.964 205.444 123.769 201.902 Q125.598 198.337 125.598 191.231 Q125.598 184.101 123.769 180.56 Q121.964 176.995 118.33 176.995 M118.33 173.291 Q124.14 173.291 127.195 177.898 Q130.274 182.481 130.274 191.231 Q130.274 199.958 127.195 204.564 Q124.14 209.148 118.33 209.148 Q112.519 209.148 109.441 204.564 Q106.385 199.958 106.385 191.231 Q106.385 182.481 109.441 177.898 Q112.519 173.291 118.33 173.291 Z\" fill=\"#000000\" fill-rule=\"evenodd\" fill-opacity=\"1\" /><circle clip-path=\"url(#clip672)\" cx=\"322.431\" cy=\"559.799\" r=\"14\" fill=\"#ff00cc\" fill-rule=\"evenodd\" fill-opacity=\"1\" stroke=\"#000000\" stroke-opacity=\"1\" stroke-width=\"3.2\"/>\n",
       "<circle clip-path=\"url(#clip672)\" cx=\"311.456\" cy=\"544.272\" r=\"14\" fill=\"#0000ff\" fill-rule=\"evenodd\" fill-opacity=\"1\" stroke=\"#000000\" stroke-opacity=\"1\" stroke-width=\"3.2\"/>\n",
       "<circle clip-path=\"url(#clip672)\" cx=\"335.983\" cy=\"537.771\" r=\"14\" fill=\"#0000ff\" fill-rule=\"evenodd\" fill-opacity=\"1\" stroke=\"#000000\" stroke-opacity=\"1\" stroke-width=\"3.2\"/>\n",
       "<circle clip-path=\"url(#clip672)\" cx=\"309.849\" cy=\"536.159\" r=\"14\" fill=\"#ff0099\" fill-rule=\"evenodd\" fill-opacity=\"1\" stroke=\"#000000\" stroke-opacity=\"1\" stroke-width=\"3.2\"/>\n",
       "<circle clip-path=\"url(#clip672)\" cx=\"349.858\" cy=\"590.538\" r=\"14\" fill=\"#0000ff\" fill-rule=\"evenodd\" fill-opacity=\"1\" stroke=\"#000000\" stroke-opacity=\"1\" stroke-width=\"3.2\"/>\n",
       "<circle clip-path=\"url(#clip672)\" cx=\"524.035\" cy=\"818.11\" r=\"14\" fill=\"#ff0000\" fill-rule=\"evenodd\" fill-opacity=\"1\" stroke=\"#000000\" stroke-opacity=\"1\" stroke-width=\"3.2\"/>\n",
       "<circle clip-path=\"url(#clip672)\" cx=\"576.843\" cy=\"887.806\" r=\"14\" fill=\"#ff00ff\" fill-rule=\"evenodd\" fill-opacity=\"1\" stroke=\"#000000\" stroke-opacity=\"1\" stroke-width=\"3.2\"/>\n",
       "<circle clip-path=\"url(#clip672)\" cx=\"517.839\" cy=\"772.961\" r=\"14\" fill=\"#6600ff\" fill-rule=\"evenodd\" fill-opacity=\"1\" stroke=\"#000000\" stroke-opacity=\"1\" stroke-width=\"3.2\"/>\n",
       "<circle clip-path=\"url(#clip672)\" cx=\"693.603\" cy=\"1075.45\" r=\"14\" fill=\"#0000ff\" fill-rule=\"evenodd\" fill-opacity=\"1\" stroke=\"#000000\" stroke-opacity=\"1\" stroke-width=\"3.2\"/>\n",
       "<circle clip-path=\"url(#clip672)\" cx=\"698.25\" cy=\"1131.37\" r=\"14\" fill=\"#ff0066\" fill-rule=\"evenodd\" fill-opacity=\"1\" stroke=\"#000000\" stroke-opacity=\"1\" stroke-width=\"3.2\"/>\n",
       "<circle clip-path=\"url(#clip672)\" cx=\"682.491\" cy=\"1074.73\" r=\"14\" fill=\"#ff0000\" fill-rule=\"evenodd\" fill-opacity=\"1\" stroke=\"#000000\" stroke-opacity=\"1\" stroke-width=\"3.2\"/>\n",
       "<circle clip-path=\"url(#clip672)\" cx=\"704.6\" cy=\"1162.81\" r=\"14\" fill=\"#ff0000\" fill-rule=\"evenodd\" fill-opacity=\"1\" stroke=\"#000000\" stroke-opacity=\"1\" stroke-width=\"3.2\"/>\n",
       "<circle clip-path=\"url(#clip672)\" cx=\"721.015\" cy=\"1145.75\" r=\"14\" fill=\"#9900ff\" fill-rule=\"evenodd\" fill-opacity=\"1\" stroke=\"#000000\" stroke-opacity=\"1\" stroke-width=\"3.2\"/>\n",
       "<circle clip-path=\"url(#clip672)\" cx=\"690.839\" cy=\"1166.41\" r=\"14\" fill=\"#0000ff\" fill-rule=\"evenodd\" fill-opacity=\"1\" stroke=\"#000000\" stroke-opacity=\"1\" stroke-width=\"3.2\"/>\n",
       "<circle clip-path=\"url(#clip672)\" cx=\"698.58\" cy=\"1166.73\" r=\"14\" fill=\"#0000ff\" fill-rule=\"evenodd\" fill-opacity=\"1\" stroke=\"#000000\" stroke-opacity=\"1\" stroke-width=\"3.2\"/>\n",
       "<circle clip-path=\"url(#clip672)\" cx=\"672.23\" cy=\"1105.49\" r=\"14\" fill=\"#ff0000\" fill-rule=\"evenodd\" fill-opacity=\"1\" stroke=\"#000000\" stroke-opacity=\"1\" stroke-width=\"3.2\"/>\n",
       "<circle clip-path=\"url(#clip672)\" cx=\"853.551\" cy=\"1273.25\" r=\"14\" fill=\"#ff0000\" fill-rule=\"evenodd\" fill-opacity=\"1\" stroke=\"#000000\" stroke-opacity=\"1\" stroke-width=\"3.2\"/>\n",
       "<circle clip-path=\"url(#clip672)\" cx=\"787.477\" cy=\"1280.72\" r=\"14\" fill=\"#cc00ff\" fill-rule=\"evenodd\" fill-opacity=\"1\" stroke=\"#000000\" stroke-opacity=\"1\" stroke-width=\"3.2\"/>\n",
       "<circle clip-path=\"url(#clip672)\" cx=\"778.785\" cy=\"1254\" r=\"14\" fill=\"#ff0066\" fill-rule=\"evenodd\" fill-opacity=\"1\" stroke=\"#000000\" stroke-opacity=\"1\" stroke-width=\"3.2\"/>\n",
       "<circle clip-path=\"url(#clip672)\" cx=\"808.118\" cy=\"1024.9\" r=\"14\" fill=\"#0000ff\" fill-rule=\"evenodd\" fill-opacity=\"1\" stroke=\"#000000\" stroke-opacity=\"1\" stroke-width=\"3.2\"/>\n",
       "<circle clip-path=\"url(#clip672)\" cx=\"846.44\" cy=\"1022.53\" r=\"14\" fill=\"#9900ff\" fill-rule=\"evenodd\" fill-opacity=\"1\" stroke=\"#000000\" stroke-opacity=\"1\" stroke-width=\"3.2\"/>\n",
       "<circle clip-path=\"url(#clip672)\" cx=\"907.336\" cy=\"1337.49\" r=\"14\" fill=\"#ff00ff\" fill-rule=\"evenodd\" fill-opacity=\"1\" stroke=\"#000000\" stroke-opacity=\"1\" stroke-width=\"3.2\"/>\n",
       "<circle clip-path=\"url(#clip672)\" cx=\"886.268\" cy=\"1353.96\" r=\"14\" fill=\"#ff0033\" fill-rule=\"evenodd\" fill-opacity=\"1\" stroke=\"#000000\" stroke-opacity=\"1\" stroke-width=\"3.2\"/>\n",
       "<circle clip-path=\"url(#clip672)\" cx=\"875.131\" cy=\"1411.44\" r=\"14\" fill=\"#ff0099\" fill-rule=\"evenodd\" fill-opacity=\"1\" stroke=\"#000000\" stroke-opacity=\"1\" stroke-width=\"3.2\"/>\n",
       "<circle clip-path=\"url(#clip672)\" cx=\"905.407\" cy=\"1345.56\" r=\"14\" fill=\"#ff0000\" fill-rule=\"evenodd\" fill-opacity=\"1\" stroke=\"#000000\" stroke-opacity=\"1\" stroke-width=\"3.2\"/>\n",
       "<circle clip-path=\"url(#clip672)\" cx=\"891.989\" cy=\"1360.11\" r=\"14\" fill=\"#cc00ff\" fill-rule=\"evenodd\" fill-opacity=\"1\" stroke=\"#000000\" stroke-opacity=\"1\" stroke-width=\"3.2\"/>\n",
       "<circle clip-path=\"url(#clip672)\" cx=\"865.96\" cy=\"1350.72\" r=\"14\" fill=\"#ff00ff\" fill-rule=\"evenodd\" fill-opacity=\"1\" stroke=\"#000000\" stroke-opacity=\"1\" stroke-width=\"3.2\"/>\n",
       "<circle clip-path=\"url(#clip672)\" cx=\"899.539\" cy=\"1389.93\" r=\"14\" fill=\"#ff0066\" fill-rule=\"evenodd\" fill-opacity=\"1\" stroke=\"#000000\" stroke-opacity=\"1\" stroke-width=\"3.2\"/>\n",
       "<circle clip-path=\"url(#clip672)\" cx=\"1618.38\" cy=\"1350.04\" r=\"14\" fill=\"#ff0033\" fill-rule=\"evenodd\" fill-opacity=\"1\" stroke=\"#000000\" stroke-opacity=\"1\" stroke-width=\"3.2\"/>\n",
       "<circle clip-path=\"url(#clip672)\" cx=\"1614.54\" cy=\"1365.67\" r=\"14\" fill=\"#ff0066\" fill-rule=\"evenodd\" fill-opacity=\"1\" stroke=\"#000000\" stroke-opacity=\"1\" stroke-width=\"3.2\"/>\n",
       "<circle clip-path=\"url(#clip672)\" cx=\"1609.64\" cy=\"1384.76\" r=\"14\" fill=\"#ff00cc\" fill-rule=\"evenodd\" fill-opacity=\"1\" stroke=\"#000000\" stroke-opacity=\"1\" stroke-width=\"3.2\"/>\n",
       "<circle clip-path=\"url(#clip672)\" cx=\"1625.6\" cy=\"1447.48\" r=\"14\" fill=\"#3300ff\" fill-rule=\"evenodd\" fill-opacity=\"1\" stroke=\"#000000\" stroke-opacity=\"1\" stroke-width=\"3.2\"/>\n",
       "<circle clip-path=\"url(#clip672)\" cx=\"1626.23\" cy=\"1435.66\" r=\"14\" fill=\"#3300ff\" fill-rule=\"evenodd\" fill-opacity=\"1\" stroke=\"#000000\" stroke-opacity=\"1\" stroke-width=\"3.2\"/>\n",
       "<circle clip-path=\"url(#clip672)\" cx=\"1585.82\" cy=\"1390.58\" r=\"14\" fill=\"#3300ff\" fill-rule=\"evenodd\" fill-opacity=\"1\" stroke=\"#000000\" stroke-opacity=\"1\" stroke-width=\"3.2\"/>\n",
       "<circle clip-path=\"url(#clip672)\" cx=\"1603.82\" cy=\"1384.3\" r=\"14\" fill=\"#9900ff\" fill-rule=\"evenodd\" fill-opacity=\"1\" stroke=\"#000000\" stroke-opacity=\"1\" stroke-width=\"3.2\"/>\n",
       "<circle clip-path=\"url(#clip672)\" cx=\"1625.02\" cy=\"177.945\" r=\"14\" fill=\"#ff0033\" fill-rule=\"evenodd\" fill-opacity=\"1\" stroke=\"#000000\" stroke-opacity=\"1\" stroke-width=\"3.2\"/>\n",
       "<circle clip-path=\"url(#clip672)\" cx=\"1643.93\" cy=\"182.434\" r=\"14\" fill=\"#0000ff\" fill-rule=\"evenodd\" fill-opacity=\"1\" stroke=\"#000000\" stroke-opacity=\"1\" stroke-width=\"3.2\"/>\n",
       "<circle clip-path=\"url(#clip672)\" cx=\"1999.99\" cy=\"172.894\" r=\"14\" fill=\"#3300ff\" fill-rule=\"evenodd\" fill-opacity=\"1\" stroke=\"#000000\" stroke-opacity=\"1\" stroke-width=\"3.2\"/>\n",
       "<circle clip-path=\"url(#clip672)\" cx=\"2055.79\" cy=\"264.734\" r=\"14\" fill=\"#ff00ff\" fill-rule=\"evenodd\" fill-opacity=\"1\" stroke=\"#000000\" stroke-opacity=\"1\" stroke-width=\"3.2\"/>\n",
       "<circle clip-path=\"url(#clip672)\" cx=\"2003.59\" cy=\"200.437\" r=\"14\" fill=\"#ff00ff\" fill-rule=\"evenodd\" fill-opacity=\"1\" stroke=\"#000000\" stroke-opacity=\"1\" stroke-width=\"3.2\"/>\n",
       "<circle clip-path=\"url(#clip672)\" cx=\"281.633\" cy=\"481.73\" r=\"14\" fill=\"#ff00cc\" fill-rule=\"evenodd\" fill-opacity=\"1\" stroke=\"#000000\" stroke-opacity=\"1\" stroke-width=\"3.2\"/>\n",
       "<circle clip-path=\"url(#clip672)\" cx=\"332.63\" cy=\"530.263\" r=\"14\" fill=\"#0000ff\" fill-rule=\"evenodd\" fill-opacity=\"1\" stroke=\"#000000\" stroke-opacity=\"1\" stroke-width=\"3.2\"/>\n",
       "<circle clip-path=\"url(#clip672)\" cx=\"286.208\" cy=\"543.182\" r=\"14\" fill=\"#0000ff\" fill-rule=\"evenodd\" fill-opacity=\"1\" stroke=\"#000000\" stroke-opacity=\"1\" stroke-width=\"3.2\"/>\n",
       "<circle clip-path=\"url(#clip672)\" cx=\"330.304\" cy=\"560.383\" r=\"14\" fill=\"#ff0099\" fill-rule=\"evenodd\" fill-opacity=\"1\" stroke=\"#000000\" stroke-opacity=\"1\" stroke-width=\"3.2\"/>\n",
       "<circle clip-path=\"url(#clip672)\" cx=\"329.136\" cy=\"506.632\" r=\"14\" fill=\"#0000ff\" fill-rule=\"evenodd\" fill-opacity=\"1\" stroke=\"#000000\" stroke-opacity=\"1\" stroke-width=\"3.2\"/>\n",
       "<circle clip-path=\"url(#clip672)\" cx=\"523.905\" cy=\"757.039\" r=\"14\" fill=\"#ff0000\" fill-rule=\"evenodd\" fill-opacity=\"1\" stroke=\"#000000\" stroke-opacity=\"1\" stroke-width=\"3.2\"/>\n",
       "<circle clip-path=\"url(#clip672)\" cx=\"529.636\" cy=\"751.792\" r=\"14\" fill=\"#ff00ff\" fill-rule=\"evenodd\" fill-opacity=\"1\" stroke=\"#000000\" stroke-opacity=\"1\" stroke-width=\"3.2\"/>\n",
       "<circle clip-path=\"url(#clip672)\" cx=\"569.903\" cy=\"809.883\" r=\"14\" fill=\"#6600ff\" fill-rule=\"evenodd\" fill-opacity=\"1\" stroke=\"#000000\" stroke-opacity=\"1\" stroke-width=\"3.2\"/>\n",
       "<circle clip-path=\"url(#clip672)\" cx=\"605.382\" cy=\"1049.41\" r=\"14\" fill=\"#0000ff\" fill-rule=\"evenodd\" fill-opacity=\"1\" stroke=\"#000000\" stroke-opacity=\"1\" stroke-width=\"3.2\"/>\n",
       "<circle clip-path=\"url(#clip672)\" cx=\"691.944\" cy=\"1096.63\" r=\"14\" fill=\"#ff0066\" fill-rule=\"evenodd\" fill-opacity=\"1\" stroke=\"#000000\" stroke-opacity=\"1\" stroke-width=\"3.2\"/>\n",
       "<circle clip-path=\"url(#clip672)\" cx=\"730.297\" cy=\"1162.05\" r=\"14\" fill=\"#ff0000\" fill-rule=\"evenodd\" fill-opacity=\"1\" stroke=\"#000000\" stroke-opacity=\"1\" stroke-width=\"3.2\"/>\n",
       "<circle clip-path=\"url(#clip672)\" cx=\"710.32\" cy=\"1147.64\" r=\"14\" fill=\"#ff0000\" fill-rule=\"evenodd\" fill-opacity=\"1\" stroke=\"#000000\" stroke-opacity=\"1\" stroke-width=\"3.2\"/>\n",
       "<circle clip-path=\"url(#clip672)\" cx=\"695.13\" cy=\"1181.45\" r=\"14\" fill=\"#9900ff\" fill-rule=\"evenodd\" fill-opacity=\"1\" stroke=\"#000000\" stroke-opacity=\"1\" stroke-width=\"3.2\"/>\n",
       "<circle clip-path=\"url(#clip672)\" cx=\"728.227\" cy=\"1191.43\" r=\"14\" fill=\"#0000ff\" fill-rule=\"evenodd\" fill-opacity=\"1\" stroke=\"#000000\" stroke-opacity=\"1\" stroke-width=\"3.2\"/>\n",
       "<circle clip-path=\"url(#clip672)\" cx=\"660.846\" cy=\"1131.32\" r=\"14\" fill=\"#0000ff\" fill-rule=\"evenodd\" fill-opacity=\"1\" stroke=\"#000000\" stroke-opacity=\"1\" stroke-width=\"3.2\"/>\n",
       "<circle clip-path=\"url(#clip672)\" cx=\"682.738\" cy=\"1087.01\" r=\"14\" fill=\"#ff0000\" fill-rule=\"evenodd\" fill-opacity=\"1\" stroke=\"#000000\" stroke-opacity=\"1\" stroke-width=\"3.2\"/>\n",
       "<circle clip-path=\"url(#clip672)\" cx=\"858.178\" cy=\"1212.83\" r=\"14\" fill=\"#ff0000\" fill-rule=\"evenodd\" fill-opacity=\"1\" stroke=\"#000000\" stroke-opacity=\"1\" stroke-width=\"3.2\"/>\n",
       "<circle clip-path=\"url(#clip672)\" cx=\"809.328\" cy=\"1291.16\" r=\"14\" fill=\"#cc00ff\" fill-rule=\"evenodd\" fill-opacity=\"1\" stroke=\"#000000\" stroke-opacity=\"1\" stroke-width=\"3.2\"/>\n",
       "<circle clip-path=\"url(#clip672)\" cx=\"841.098\" cy=\"1241.35\" r=\"14\" fill=\"#ff0066\" fill-rule=\"evenodd\" fill-opacity=\"1\" stroke=\"#000000\" stroke-opacity=\"1\" stroke-width=\"3.2\"/>\n",
       "<circle clip-path=\"url(#clip672)\" cx=\"867.687\" cy=\"966.888\" r=\"14\" fill=\"#0000ff\" fill-rule=\"evenodd\" fill-opacity=\"1\" stroke=\"#000000\" stroke-opacity=\"1\" stroke-width=\"3.2\"/>\n",
       "<circle clip-path=\"url(#clip672)\" cx=\"851.27\" cy=\"1047.68\" r=\"14\" fill=\"#9900ff\" fill-rule=\"evenodd\" fill-opacity=\"1\" stroke=\"#000000\" stroke-opacity=\"1\" stroke-width=\"3.2\"/>\n",
       "<circle clip-path=\"url(#clip672)\" cx=\"907.903\" cy=\"1401.86\" r=\"14\" fill=\"#ff00ff\" fill-rule=\"evenodd\" fill-opacity=\"1\" stroke=\"#000000\" stroke-opacity=\"1\" stroke-width=\"3.2\"/>\n",
       "<circle clip-path=\"url(#clip672)\" cx=\"906.247\" cy=\"1356.78\" r=\"14\" fill=\"#ff0033\" fill-rule=\"evenodd\" fill-opacity=\"1\" stroke=\"#000000\" stroke-opacity=\"1\" stroke-width=\"3.2\"/>\n",
       "<circle clip-path=\"url(#clip672)\" cx=\"899.931\" cy=\"1348.3\" r=\"14\" fill=\"#ff0099\" fill-rule=\"evenodd\" fill-opacity=\"1\" stroke=\"#000000\" stroke-opacity=\"1\" stroke-width=\"3.2\"/>\n",
       "<circle clip-path=\"url(#clip672)\" cx=\"911.164\" cy=\"1392.2\" r=\"14\" fill=\"#ff0000\" fill-rule=\"evenodd\" fill-opacity=\"1\" stroke=\"#000000\" stroke-opacity=\"1\" stroke-width=\"3.2\"/>\n",
       "<circle clip-path=\"url(#clip672)\" cx=\"889.805\" cy=\"1448.91\" r=\"14\" fill=\"#cc00ff\" fill-rule=\"evenodd\" fill-opacity=\"1\" stroke=\"#000000\" stroke-opacity=\"1\" stroke-width=\"3.2\"/>\n",
       "<circle clip-path=\"url(#clip672)\" cx=\"900.347\" cy=\"1344.49\" r=\"14\" fill=\"#ff00ff\" fill-rule=\"evenodd\" fill-opacity=\"1\" stroke=\"#000000\" stroke-opacity=\"1\" stroke-width=\"3.2\"/>\n",
       "<circle clip-path=\"url(#clip672)\" cx=\"922.264\" cy=\"1347.46\" r=\"14\" fill=\"#ff0066\" fill-rule=\"evenodd\" fill-opacity=\"1\" stroke=\"#000000\" stroke-opacity=\"1\" stroke-width=\"3.2\"/>\n",
       "<circle clip-path=\"url(#clip672)\" cx=\"1624.05\" cy=\"1437.44\" r=\"14\" fill=\"#ff0033\" fill-rule=\"evenodd\" fill-opacity=\"1\" stroke=\"#000000\" stroke-opacity=\"1\" stroke-width=\"3.2\"/>\n",
       "<circle clip-path=\"url(#clip672)\" cx=\"1652.01\" cy=\"1354.06\" r=\"14\" fill=\"#ff0066\" fill-rule=\"evenodd\" fill-opacity=\"1\" stroke=\"#000000\" stroke-opacity=\"1\" stroke-width=\"3.2\"/>\n",
       "<circle clip-path=\"url(#clip672)\" cx=\"1621.3\" cy=\"1352.31\" r=\"14\" fill=\"#ff00cc\" fill-rule=\"evenodd\" fill-opacity=\"1\" stroke=\"#000000\" stroke-opacity=\"1\" stroke-width=\"3.2\"/>\n",
       "<circle clip-path=\"url(#clip672)\" cx=\"1619.46\" cy=\"1394.7\" r=\"14\" fill=\"#3300ff\" fill-rule=\"evenodd\" fill-opacity=\"1\" stroke=\"#000000\" stroke-opacity=\"1\" stroke-width=\"3.2\"/>\n",
       "<circle clip-path=\"url(#clip672)\" cx=\"1615.1\" cy=\"1372.8\" r=\"14\" fill=\"#3300ff\" fill-rule=\"evenodd\" fill-opacity=\"1\" stroke=\"#000000\" stroke-opacity=\"1\" stroke-width=\"3.2\"/>\n",
       "<circle clip-path=\"url(#clip672)\" cx=\"1609.32\" cy=\"1338.37\" r=\"14\" fill=\"#3300ff\" fill-rule=\"evenodd\" fill-opacity=\"1\" stroke=\"#000000\" stroke-opacity=\"1\" stroke-width=\"3.2\"/>\n",
       "<circle clip-path=\"url(#clip672)\" cx=\"1623.44\" cy=\"1317.84\" r=\"14\" fill=\"#9900ff\" fill-rule=\"evenodd\" fill-opacity=\"1\" stroke=\"#000000\" stroke-opacity=\"1\" stroke-width=\"3.2\"/>\n",
       "<circle clip-path=\"url(#clip672)\" cx=\"1582.22\" cy=\"164.513\" r=\"14\" fill=\"#ff0033\" fill-rule=\"evenodd\" fill-opacity=\"1\" stroke=\"#000000\" stroke-opacity=\"1\" stroke-width=\"3.2\"/>\n",
       "<circle clip-path=\"url(#clip672)\" cx=\"1581.67\" cy=\"175.851\" r=\"14\" fill=\"#0000ff\" fill-rule=\"evenodd\" fill-opacity=\"1\" stroke=\"#000000\" stroke-opacity=\"1\" stroke-width=\"3.2\"/>\n",
       "<circle clip-path=\"url(#clip672)\" cx=\"2014.64\" cy=\"175.79\" r=\"14\" fill=\"#3300ff\" fill-rule=\"evenodd\" fill-opacity=\"1\" stroke=\"#000000\" stroke-opacity=\"1\" stroke-width=\"3.2\"/>\n",
       "<circle clip-path=\"url(#clip672)\" cx=\"1969.3\" cy=\"233.979\" r=\"14\" fill=\"#ff00ff\" fill-rule=\"evenodd\" fill-opacity=\"1\" stroke=\"#000000\" stroke-opacity=\"1\" stroke-width=\"3.2\"/>\n",
       "<circle clip-path=\"url(#clip672)\" cx=\"1946.12\" cy=\"195.769\" r=\"14\" fill=\"#ff00ff\" fill-rule=\"evenodd\" fill-opacity=\"1\" stroke=\"#000000\" stroke-opacity=\"1\" stroke-width=\"3.2\"/>\n",
       "<circle clip-path=\"url(#clip672)\" cx=\"331.791\" cy=\"536.673\" r=\"14\" fill=\"#ff00cc\" fill-rule=\"evenodd\" fill-opacity=\"1\" stroke=\"#000000\" stroke-opacity=\"1\" stroke-width=\"3.2\"/>\n",
       "<circle clip-path=\"url(#clip672)\" cx=\"311.632\" cy=\"504.769\" r=\"14\" fill=\"#0000ff\" fill-rule=\"evenodd\" fill-opacity=\"1\" stroke=\"#000000\" stroke-opacity=\"1\" stroke-width=\"3.2\"/>\n",
       "<circle clip-path=\"url(#clip672)\" cx=\"355.164\" cy=\"544.073\" r=\"14\" fill=\"#0000ff\" fill-rule=\"evenodd\" fill-opacity=\"1\" stroke=\"#000000\" stroke-opacity=\"1\" stroke-width=\"3.2\"/>\n",
       "<circle clip-path=\"url(#clip672)\" cx=\"296.2\" cy=\"592.199\" r=\"14\" fill=\"#ff0099\" fill-rule=\"evenodd\" fill-opacity=\"1\" stroke=\"#000000\" stroke-opacity=\"1\" stroke-width=\"3.2\"/>\n",
       "<circle clip-path=\"url(#clip672)\" cx=\"279.561\" cy=\"549.048\" r=\"14\" fill=\"#0000ff\" fill-rule=\"evenodd\" fill-opacity=\"1\" stroke=\"#000000\" stroke-opacity=\"1\" stroke-width=\"3.2\"/>\n",
       "<circle clip-path=\"url(#clip672)\" cx=\"518.011\" cy=\"743.472\" r=\"14\" fill=\"#ff0000\" fill-rule=\"evenodd\" fill-opacity=\"1\" stroke=\"#000000\" stroke-opacity=\"1\" stroke-width=\"3.2\"/>\n",
       "<circle clip-path=\"url(#clip672)\" cx=\"555.262\" cy=\"830.161\" r=\"14\" fill=\"#ff00ff\" fill-rule=\"evenodd\" fill-opacity=\"1\" stroke=\"#000000\" stroke-opacity=\"1\" stroke-width=\"3.2\"/>\n",
       "<circle clip-path=\"url(#clip672)\" cx=\"521.111\" cy=\"820.58\" r=\"14\" fill=\"#6600ff\" fill-rule=\"evenodd\" fill-opacity=\"1\" stroke=\"#000000\" stroke-opacity=\"1\" stroke-width=\"3.2\"/>\n",
       "<circle clip-path=\"url(#clip672)\" cx=\"699.492\" cy=\"1165.61\" r=\"14\" fill=\"#0000ff\" fill-rule=\"evenodd\" fill-opacity=\"1\" stroke=\"#000000\" stroke-opacity=\"1\" stroke-width=\"3.2\"/>\n",
       "<circle clip-path=\"url(#clip672)\" cx=\"685.17\" cy=\"1122.57\" r=\"14\" fill=\"#ff0066\" fill-rule=\"evenodd\" fill-opacity=\"1\" stroke=\"#000000\" stroke-opacity=\"1\" stroke-width=\"3.2\"/>\n",
       "<circle clip-path=\"url(#clip672)\" cx=\"707.944\" cy=\"1116.09\" r=\"14\" fill=\"#ff0000\" fill-rule=\"evenodd\" fill-opacity=\"1\" stroke=\"#000000\" stroke-opacity=\"1\" stroke-width=\"3.2\"/>\n",
       "<circle clip-path=\"url(#clip672)\" cx=\"675.468\" cy=\"1150.46\" r=\"14\" fill=\"#ff0000\" fill-rule=\"evenodd\" fill-opacity=\"1\" stroke=\"#000000\" stroke-opacity=\"1\" stroke-width=\"3.2\"/>\n",
       "<circle clip-path=\"url(#clip672)\" cx=\"720.43\" cy=\"1123.34\" r=\"14\" fill=\"#9900ff\" fill-rule=\"evenodd\" fill-opacity=\"1\" stroke=\"#000000\" stroke-opacity=\"1\" stroke-width=\"3.2\"/>\n",
       "<circle clip-path=\"url(#clip672)\" cx=\"666.395\" cy=\"1050.94\" r=\"14\" fill=\"#0000ff\" fill-rule=\"evenodd\" fill-opacity=\"1\" stroke=\"#000000\" stroke-opacity=\"1\" stroke-width=\"3.2\"/>\n",
       "<circle clip-path=\"url(#clip672)\" cx=\"691.829\" cy=\"1168.77\" r=\"14\" fill=\"#0000ff\" fill-rule=\"evenodd\" fill-opacity=\"1\" stroke=\"#000000\" stroke-opacity=\"1\" stroke-width=\"3.2\"/>\n",
       "<circle clip-path=\"url(#clip672)\" cx=\"689.429\" cy=\"1127.68\" r=\"14\" fill=\"#ff0000\" fill-rule=\"evenodd\" fill-opacity=\"1\" stroke=\"#000000\" stroke-opacity=\"1\" stroke-width=\"3.2\"/>\n",
       "<circle clip-path=\"url(#clip672)\" cx=\"880.619\" cy=\"1232.54\" r=\"14\" fill=\"#ff0000\" fill-rule=\"evenodd\" fill-opacity=\"1\" stroke=\"#000000\" stroke-opacity=\"1\" stroke-width=\"3.2\"/>\n",
       "<circle clip-path=\"url(#clip672)\" cx=\"813.489\" cy=\"1248.25\" r=\"14\" fill=\"#cc00ff\" fill-rule=\"evenodd\" fill-opacity=\"1\" stroke=\"#000000\" stroke-opacity=\"1\" stroke-width=\"3.2\"/>\n",
       "<circle clip-path=\"url(#clip672)\" cx=\"807.642\" cy=\"1179.11\" r=\"14\" fill=\"#ff0066\" fill-rule=\"evenodd\" fill-opacity=\"1\" stroke=\"#000000\" stroke-opacity=\"1\" stroke-width=\"3.2\"/>\n",
       "<circle clip-path=\"url(#clip672)\" cx=\"800.651\" cy=\"1014.1\" r=\"14\" fill=\"#0000ff\" fill-rule=\"evenodd\" fill-opacity=\"1\" stroke=\"#000000\" stroke-opacity=\"1\" stroke-width=\"3.2\"/>\n",
       "<circle clip-path=\"url(#clip672)\" cx=\"831.033\" cy=\"1067.37\" r=\"14\" fill=\"#9900ff\" fill-rule=\"evenodd\" fill-opacity=\"1\" stroke=\"#000000\" stroke-opacity=\"1\" stroke-width=\"3.2\"/>\n",
       "<circle clip-path=\"url(#clip672)\" cx=\"869.034\" cy=\"1374.72\" r=\"14\" fill=\"#ff00ff\" fill-rule=\"evenodd\" fill-opacity=\"1\" stroke=\"#000000\" stroke-opacity=\"1\" stroke-width=\"3.2\"/>\n",
       "<circle clip-path=\"url(#clip672)\" cx=\"937.007\" cy=\"1391.53\" r=\"14\" fill=\"#ff0033\" fill-rule=\"evenodd\" fill-opacity=\"1\" stroke=\"#000000\" stroke-opacity=\"1\" stroke-width=\"3.2\"/>\n",
       "<circle clip-path=\"url(#clip672)\" cx=\"911.656\" cy=\"1466.7\" r=\"14\" fill=\"#ff0099\" fill-rule=\"evenodd\" fill-opacity=\"1\" stroke=\"#000000\" stroke-opacity=\"1\" stroke-width=\"3.2\"/>\n",
       "<circle clip-path=\"url(#clip672)\" cx=\"879.289\" cy=\"1339\" r=\"14\" fill=\"#ff0000\" fill-rule=\"evenodd\" fill-opacity=\"1\" stroke=\"#000000\" stroke-opacity=\"1\" stroke-width=\"3.2\"/>\n",
       "<circle clip-path=\"url(#clip672)\" cx=\"908.97\" cy=\"1375.97\" r=\"14\" fill=\"#cc00ff\" fill-rule=\"evenodd\" fill-opacity=\"1\" stroke=\"#000000\" stroke-opacity=\"1\" stroke-width=\"3.2\"/>\n",
       "<circle clip-path=\"url(#clip672)\" cx=\"894.599\" cy=\"1439.68\" r=\"14\" fill=\"#ff00ff\" fill-rule=\"evenodd\" fill-opacity=\"1\" stroke=\"#000000\" stroke-opacity=\"1\" stroke-width=\"3.2\"/>\n",
       "<circle clip-path=\"url(#clip672)\" cx=\"913.065\" cy=\"1372.65\" r=\"14\" fill=\"#ff0066\" fill-rule=\"evenodd\" fill-opacity=\"1\" stroke=\"#000000\" stroke-opacity=\"1\" stroke-width=\"3.2\"/>\n",
       "<circle clip-path=\"url(#clip672)\" cx=\"1622.68\" cy=\"1383.13\" r=\"14\" fill=\"#ff0033\" fill-rule=\"evenodd\" fill-opacity=\"1\" stroke=\"#000000\" stroke-opacity=\"1\" stroke-width=\"3.2\"/>\n",
       "<circle clip-path=\"url(#clip672)\" cx=\"1623.09\" cy=\"1358.73\" r=\"14\" fill=\"#ff0066\" fill-rule=\"evenodd\" fill-opacity=\"1\" stroke=\"#000000\" stroke-opacity=\"1\" stroke-width=\"3.2\"/>\n",
       "<circle clip-path=\"url(#clip672)\" cx=\"1604.81\" cy=\"1387.12\" r=\"14\" fill=\"#ff00cc\" fill-rule=\"evenodd\" fill-opacity=\"1\" stroke=\"#000000\" stroke-opacity=\"1\" stroke-width=\"3.2\"/>\n",
       "<circle clip-path=\"url(#clip672)\" cx=\"1589.47\" cy=\"1407.46\" r=\"14\" fill=\"#3300ff\" fill-rule=\"evenodd\" fill-opacity=\"1\" stroke=\"#000000\" stroke-opacity=\"1\" stroke-width=\"3.2\"/>\n",
       "<circle clip-path=\"url(#clip672)\" cx=\"1645.89\" cy=\"1419.7\" r=\"14\" fill=\"#3300ff\" fill-rule=\"evenodd\" fill-opacity=\"1\" stroke=\"#000000\" stroke-opacity=\"1\" stroke-width=\"3.2\"/>\n",
       "<circle clip-path=\"url(#clip672)\" cx=\"1656.83\" cy=\"1387.16\" r=\"14\" fill=\"#3300ff\" fill-rule=\"evenodd\" fill-opacity=\"1\" stroke=\"#000000\" stroke-opacity=\"1\" stroke-width=\"3.2\"/>\n",
       "<circle clip-path=\"url(#clip672)\" cx=\"1607.28\" cy=\"1309.39\" r=\"14\" fill=\"#9900ff\" fill-rule=\"evenodd\" fill-opacity=\"1\" stroke=\"#000000\" stroke-opacity=\"1\" stroke-width=\"3.2\"/>\n",
       "<circle clip-path=\"url(#clip672)\" cx=\"1622.9\" cy=\"250.479\" r=\"14\" fill=\"#ff0033\" fill-rule=\"evenodd\" fill-opacity=\"1\" stroke=\"#000000\" stroke-opacity=\"1\" stroke-width=\"3.2\"/>\n",
       "<circle clip-path=\"url(#clip672)\" cx=\"1593.1\" cy=\"253.222\" r=\"14\" fill=\"#0000ff\" fill-rule=\"evenodd\" fill-opacity=\"1\" stroke=\"#000000\" stroke-opacity=\"1\" stroke-width=\"3.2\"/>\n",
       "<circle clip-path=\"url(#clip672)\" cx=\"1954.01\" cy=\"230.744\" r=\"14\" fill=\"#3300ff\" fill-rule=\"evenodd\" fill-opacity=\"1\" stroke=\"#000000\" stroke-opacity=\"1\" stroke-width=\"3.2\"/>\n",
       "<circle clip-path=\"url(#clip672)\" cx=\"1984.21\" cy=\"88.5876\" r=\"14\" fill=\"#ff00ff\" fill-rule=\"evenodd\" fill-opacity=\"1\" stroke=\"#000000\" stroke-opacity=\"1\" stroke-width=\"3.2\"/>\n",
       "<circle clip-path=\"url(#clip672)\" cx=\"1959.09\" cy=\"235.673\" r=\"14\" fill=\"#ff00ff\" fill-rule=\"evenodd\" fill-opacity=\"1\" stroke=\"#000000\" stroke-opacity=\"1\" stroke-width=\"3.2\"/>\n",
       "<path clip-path=\"url(#clip670)\" d=\"\n",
       "M2343.8 1508.05 L4226.6 1508.05 L4226.6 47.2441 L2343.8 47.2441  Z\n",
       "  \" fill=\"#ffffff\" fill-rule=\"evenodd\" fill-opacity=\"1\"/>\n",
       "<defs>\n",
       "  <clipPath id=\"clip673\">\n",
       "    <rect x=\"2343\" y=\"47\" width=\"1884\" height=\"1462\"/>\n",
       "  </clipPath>\n",
       "</defs>\n",
       "<polyline clip-path=\"url(#clip673)\" style=\"stroke:#000000; stroke-linecap:butt; stroke-linejoin:round; stroke-width:2; stroke-opacity:0.1; fill:none\" points=\"\n",
       "  2541.33,1508.05 2541.33,47.2441 \n",
       "  \"/>\n",
       "<polyline clip-path=\"url(#clip673)\" style=\"stroke:#000000; stroke-linecap:butt; stroke-linejoin:round; stroke-width:2; stroke-opacity:0.1; fill:none\" points=\"\n",
       "  2820.43,1508.05 2820.43,47.2441 \n",
       "  \"/>\n",
       "<polyline clip-path=\"url(#clip673)\" style=\"stroke:#000000; stroke-linecap:butt; stroke-linejoin:round; stroke-width:2; stroke-opacity:0.1; fill:none\" points=\"\n",
       "  3099.53,1508.05 3099.53,47.2441 \n",
       "  \"/>\n",
       "<polyline clip-path=\"url(#clip673)\" style=\"stroke:#000000; stroke-linecap:butt; stroke-linejoin:round; stroke-width:2; stroke-opacity:0.1; fill:none\" points=\"\n",
       "  3378.63,1508.05 3378.63,47.2441 \n",
       "  \"/>\n",
       "<polyline clip-path=\"url(#clip673)\" style=\"stroke:#000000; stroke-linecap:butt; stroke-linejoin:round; stroke-width:2; stroke-opacity:0.1; fill:none\" points=\"\n",
       "  3657.73,1508.05 3657.73,47.2441 \n",
       "  \"/>\n",
       "<polyline clip-path=\"url(#clip673)\" style=\"stroke:#000000; stroke-linecap:butt; stroke-linejoin:round; stroke-width:2; stroke-opacity:0.1; fill:none\" points=\"\n",
       "  3936.82,1508.05 3936.82,47.2441 \n",
       "  \"/>\n",
       "<polyline clip-path=\"url(#clip673)\" style=\"stroke:#000000; stroke-linecap:butt; stroke-linejoin:round; stroke-width:2; stroke-opacity:0.1; fill:none\" points=\"\n",
       "  4215.92,1508.05 4215.92,47.2441 \n",
       "  \"/>\n",
       "<polyline clip-path=\"url(#clip670)\" style=\"stroke:#000000; stroke-linecap:butt; stroke-linejoin:round; stroke-width:4; stroke-opacity:1; fill:none\" points=\"\n",
       "  2343.8,1508.05 4226.6,1508.05 \n",
       "  \"/>\n",
       "<polyline clip-path=\"url(#clip670)\" style=\"stroke:#000000; stroke-linecap:butt; stroke-linejoin:round; stroke-width:4; stroke-opacity:1; fill:none\" points=\"\n",
       "  2541.33,1508.05 2541.33,1489.15 \n",
       "  \"/>\n",
       "<polyline clip-path=\"url(#clip670)\" style=\"stroke:#000000; stroke-linecap:butt; stroke-linejoin:round; stroke-width:4; stroke-opacity:1; fill:none\" points=\"\n",
       "  2820.43,1508.05 2820.43,1489.15 \n",
       "  \"/>\n",
       "<polyline clip-path=\"url(#clip670)\" style=\"stroke:#000000; stroke-linecap:butt; stroke-linejoin:round; stroke-width:4; stroke-opacity:1; fill:none\" points=\"\n",
       "  3099.53,1508.05 3099.53,1489.15 \n",
       "  \"/>\n",
       "<polyline clip-path=\"url(#clip670)\" style=\"stroke:#000000; stroke-linecap:butt; stroke-linejoin:round; stroke-width:4; stroke-opacity:1; fill:none\" points=\"\n",
       "  3378.63,1508.05 3378.63,1489.15 \n",
       "  \"/>\n",
       "<polyline clip-path=\"url(#clip670)\" style=\"stroke:#000000; stroke-linecap:butt; stroke-linejoin:round; stroke-width:4; stroke-opacity:1; fill:none\" points=\"\n",
       "  3657.73,1508.05 3657.73,1489.15 \n",
       "  \"/>\n",
       "<polyline clip-path=\"url(#clip670)\" style=\"stroke:#000000; stroke-linecap:butt; stroke-linejoin:round; stroke-width:4; stroke-opacity:1; fill:none\" points=\"\n",
       "  3936.82,1508.05 3936.82,1489.15 \n",
       "  \"/>\n",
       "<polyline clip-path=\"url(#clip670)\" style=\"stroke:#000000; stroke-linecap:butt; stroke-linejoin:round; stroke-width:4; stroke-opacity:1; fill:none\" points=\"\n",
       "  4215.92,1508.05 4215.92,1489.15 \n",
       "  \"/>\n",
       "<path clip-path=\"url(#clip670)\" d=\"M2510.97 1583.89 L2540.64 1583.89 L2540.64 1587.83 L2510.97 1587.83 L2510.97 1583.89 Z\" fill=\"#000000\" fill-rule=\"evenodd\" fill-opacity=\"1\" /><path clip-path=\"url(#clip670)\" d=\"M2550.78 1566.16 L2569.14 1566.16 L2569.14 1570.1 L2555.07 1570.1 L2555.07 1578.57 Q2556.08 1578.22 2557.1 1578.06 Q2558.12 1577.87 2559.14 1577.87 Q2564.93 1577.87 2568.31 1581.04 Q2571.69 1584.22 2571.69 1589.63 Q2571.69 1595.21 2568.21 1598.31 Q2564.74 1601.39 2558.42 1601.39 Q2556.25 1601.39 2553.98 1601.02 Q2551.73 1600.65 2549.33 1599.91 L2549.33 1595.21 Q2551.41 1596.34 2553.63 1596.9 Q2555.85 1597.46 2558.33 1597.46 Q2562.33 1597.46 2564.67 1595.35 Q2567.01 1593.24 2567.01 1589.63 Q2567.01 1586.02 2564.67 1583.91 Q2562.33 1581.81 2558.33 1581.81 Q2556.45 1581.81 2554.58 1582.22 Q2552.73 1582.64 2550.78 1583.52 L2550.78 1566.16 Z\" fill=\"#000000\" fill-rule=\"evenodd\" fill-opacity=\"1\" /><path clip-path=\"url(#clip670)\" d=\"M2789.33 1583.89 L2819 1583.89 L2819 1587.83 L2789.33 1587.83 L2789.33 1583.89 Z\" fill=\"#000000\" fill-rule=\"evenodd\" fill-opacity=\"1\" /><path clip-path=\"url(#clip670)\" d=\"M2841.94 1570.23 L2830.14 1588.68 L2841.94 1588.68 L2841.94 1570.23 M2840.72 1566.16 L2846.6 1566.16 L2846.6 1588.68 L2851.53 1588.68 L2851.53 1592.57 L2846.6 1592.57 L2846.6 1600.72 L2841.94 1600.72 L2841.94 1592.57 L2826.34 1592.57 L2826.34 1588.06 L2840.72 1566.16 Z\" fill=\"#000000\" fill-rule=\"evenodd\" fill-opacity=\"1\" /><path clip-path=\"url(#clip670)\" d=\"M3068.99 1583.89 L3098.67 1583.89 L3098.67 1587.83 L3068.99 1587.83 L3068.99 1583.89 Z\" fill=\"#000000\" fill-rule=\"evenodd\" fill-opacity=\"1\" /><path clip-path=\"url(#clip670)\" d=\"M3122.93 1582.09 Q3126.29 1582.8 3128.16 1585.07 Q3130.06 1587.34 3130.06 1590.67 Q3130.06 1595.79 3126.54 1598.59 Q3123.02 1601.39 3116.54 1601.39 Q3114.36 1601.39 3112.05 1600.95 Q3109.76 1600.53 3107.3 1599.68 L3107.3 1595.16 Q3109.25 1596.3 3111.56 1596.88 Q3113.88 1597.46 3116.4 1597.46 Q3120.8 1597.46 3123.09 1595.72 Q3125.41 1593.98 3125.41 1590.67 Q3125.41 1587.62 3123.25 1585.91 Q3121.12 1584.17 3117.3 1584.17 L3113.28 1584.17 L3113.28 1580.33 L3117.49 1580.33 Q3120.94 1580.33 3122.77 1578.96 Q3124.6 1577.57 3124.6 1574.98 Q3124.6 1572.32 3122.7 1570.91 Q3120.82 1569.47 3117.3 1569.47 Q3115.38 1569.47 3113.18 1569.89 Q3110.98 1570.3 3108.35 1571.18 L3108.35 1567.02 Q3111.01 1566.28 3113.32 1565.91 Q3115.66 1565.53 3117.72 1565.53 Q3123.04 1565.53 3126.15 1567.97 Q3129.25 1570.37 3129.25 1574.49 Q3129.25 1577.36 3127.6 1579.35 Q3125.96 1581.32 3122.93 1582.09 Z\" fill=\"#000000\" fill-rule=\"evenodd\" fill-opacity=\"1\" /><path clip-path=\"url(#clip670)\" d=\"M3348.57 1583.89 L3378.24 1583.89 L3378.24 1587.83 L3348.57 1587.83 L3348.57 1583.89 Z\" fill=\"#000000\" fill-rule=\"evenodd\" fill-opacity=\"1\" /><path clip-path=\"url(#clip670)\" d=\"M3392.36 1596.78 L3408.68 1596.78 L3408.68 1600.72 L3386.74 1600.72 L3386.74 1596.78 Q3389.4 1594.03 3393.98 1589.4 Q3398.59 1584.75 3399.77 1583.41 Q3402.02 1580.88 3402.9 1579.15 Q3403.8 1577.39 3403.8 1575.7 Q3403.8 1572.94 3401.85 1571.21 Q3399.93 1569.47 3396.83 1569.47 Q3394.63 1569.47 3392.18 1570.23 Q3389.75 1571 3386.97 1572.55 L3386.97 1567.83 Q3389.79 1566.69 3392.25 1566.11 Q3394.7 1565.53 3396.74 1565.53 Q3402.11 1565.53 3405.3 1568.22 Q3408.5 1570.91 3408.5 1575.4 Q3408.5 1577.53 3407.69 1579.45 Q3406.9 1581.34 3404.79 1583.94 Q3404.22 1584.61 3401.11 1587.83 Q3398.01 1591.02 3392.36 1596.78 Z\" fill=\"#000000\" fill-rule=\"evenodd\" fill-opacity=\"1\" /><path clip-path=\"url(#clip670)\" d=\"M3627.48 1583.89 L3657.16 1583.89 L3657.16 1587.83 L3627.48 1587.83 L3627.48 1583.89 Z\" fill=\"#000000\" fill-rule=\"evenodd\" fill-opacity=\"1\" /><path clip-path=\"url(#clip670)\" d=\"M3668.06 1596.78 L3675.7 1596.78 L3675.7 1570.42 L3667.39 1572.09 L3667.39 1567.83 L3675.65 1566.16 L3680.33 1566.16 L3680.33 1596.78 L3687.97 1596.78 L3687.97 1600.72 L3668.06 1600.72 L3668.06 1596.78 Z\" fill=\"#000000\" fill-rule=\"evenodd\" fill-opacity=\"1\" /><path clip-path=\"url(#clip670)\" d=\"M3936.82 1569.24 Q3933.21 1569.24 3931.38 1572.8 Q3929.58 1576.35 3929.58 1583.47 Q3929.58 1590.58 3931.38 1594.15 Q3933.21 1597.69 3936.82 1597.69 Q3940.46 1597.69 3942.26 1594.15 Q3944.09 1590.58 3944.09 1583.47 Q3944.09 1576.35 3942.26 1572.8 Q3940.46 1569.24 3936.82 1569.24 M3936.82 1565.53 Q3942.63 1565.53 3945.69 1570.14 Q3948.77 1574.72 3948.77 1583.47 Q3948.77 1592.2 3945.69 1596.81 Q3942.63 1601.39 3936.82 1601.39 Q3931.01 1601.39 3927.94 1596.81 Q3924.88 1592.2 3924.88 1583.47 Q3924.88 1574.72 3927.94 1570.14 Q3931.01 1565.53 3936.82 1565.53 Z\" fill=\"#000000\" fill-rule=\"evenodd\" fill-opacity=\"1\" /><path clip-path=\"url(#clip670)\" d=\"M4206.31 1596.78 L4213.94 1596.78 L4213.94 1570.42 L4205.63 1572.09 L4205.63 1567.83 L4213.9 1566.16 L4218.57 1566.16 L4218.57 1596.78 L4226.21 1596.78 L4226.21 1600.72 L4206.31 1600.72 L4206.31 1596.78 Z\" fill=\"#000000\" fill-rule=\"evenodd\" fill-opacity=\"1\" /><polyline clip-path=\"url(#clip673)\" style=\"stroke:#000000; stroke-linecap:butt; stroke-linejoin:round; stroke-width:2; stroke-opacity:0.1; fill:none\" points=\"\n",
       "  2343.8,1475.44 4226.6,1475.44 \n",
       "  \"/>\n",
       "<polyline clip-path=\"url(#clip673)\" style=\"stroke:#000000; stroke-linecap:butt; stroke-linejoin:round; stroke-width:2; stroke-opacity:0.1; fill:none\" points=\"\n",
       "  2343.8,1233.7 4226.6,1233.7 \n",
       "  \"/>\n",
       "<polyline clip-path=\"url(#clip673)\" style=\"stroke:#000000; stroke-linecap:butt; stroke-linejoin:round; stroke-width:2; stroke-opacity:0.1; fill:none\" points=\"\n",
       "  2343.8,991.962 4226.6,991.962 \n",
       "  \"/>\n",
       "<polyline clip-path=\"url(#clip673)\" style=\"stroke:#000000; stroke-linecap:butt; stroke-linejoin:round; stroke-width:2; stroke-opacity:0.1; fill:none\" points=\"\n",
       "  2343.8,750.22 4226.6,750.22 \n",
       "  \"/>\n",
       "<polyline clip-path=\"url(#clip673)\" style=\"stroke:#000000; stroke-linecap:butt; stroke-linejoin:round; stroke-width:2; stroke-opacity:0.1; fill:none\" points=\"\n",
       "  2343.8,508.479 4226.6,508.479 \n",
       "  \"/>\n",
       "<polyline clip-path=\"url(#clip673)\" style=\"stroke:#000000; stroke-linecap:butt; stroke-linejoin:round; stroke-width:2; stroke-opacity:0.1; fill:none\" points=\"\n",
       "  2343.8,266.737 4226.6,266.737 \n",
       "  \"/>\n",
       "<polyline clip-path=\"url(#clip670)\" style=\"stroke:#000000; stroke-linecap:butt; stroke-linejoin:round; stroke-width:4; stroke-opacity:1; fill:none\" points=\"\n",
       "  2343.8,1508.05 2343.8,47.2441 \n",
       "  \"/>\n",
       "<polyline clip-path=\"url(#clip670)\" style=\"stroke:#000000; stroke-linecap:butt; stroke-linejoin:round; stroke-width:4; stroke-opacity:1; fill:none\" points=\"\n",
       "  2343.8,1475.44 2362.69,1475.44 \n",
       "  \"/>\n",
       "<polyline clip-path=\"url(#clip670)\" style=\"stroke:#000000; stroke-linecap:butt; stroke-linejoin:round; stroke-width:4; stroke-opacity:1; fill:none\" points=\"\n",
       "  2343.8,1233.7 2362.69,1233.7 \n",
       "  \"/>\n",
       "<polyline clip-path=\"url(#clip670)\" style=\"stroke:#000000; stroke-linecap:butt; stroke-linejoin:round; stroke-width:4; stroke-opacity:1; fill:none\" points=\"\n",
       "  2343.8,991.962 2362.69,991.962 \n",
       "  \"/>\n",
       "<polyline clip-path=\"url(#clip670)\" style=\"stroke:#000000; stroke-linecap:butt; stroke-linejoin:round; stroke-width:4; stroke-opacity:1; fill:none\" points=\"\n",
       "  2343.8,750.22 2362.69,750.22 \n",
       "  \"/>\n",
       "<polyline clip-path=\"url(#clip670)\" style=\"stroke:#000000; stroke-linecap:butt; stroke-linejoin:round; stroke-width:4; stroke-opacity:1; fill:none\" points=\"\n",
       "  2343.8,508.479 2362.69,508.479 \n",
       "  \"/>\n",
       "<polyline clip-path=\"url(#clip670)\" style=\"stroke:#000000; stroke-linecap:butt; stroke-linejoin:round; stroke-width:4; stroke-opacity:1; fill:none\" points=\"\n",
       "  2343.8,266.737 2362.69,266.737 \n",
       "  \"/>\n",
       "<path clip-path=\"url(#clip670)\" d=\"M2187.31 1475.9 L2216.99 1475.9 L2216.99 1479.83 L2187.31 1479.83 L2187.31 1475.9 Z\" fill=\"#000000\" fill-rule=\"evenodd\" fill-opacity=\"1\" /><path clip-path=\"url(#clip670)\" d=\"M2227.89 1488.79 L2235.53 1488.79 L2235.53 1462.42 L2227.22 1464.09 L2227.22 1459.83 L2235.48 1458.16 L2240.16 1458.16 L2240.16 1488.79 L2247.8 1488.79 L2247.8 1492.72 L2227.89 1492.72 L2227.89 1488.79 Z\" fill=\"#000000\" fill-rule=\"evenodd\" fill-opacity=\"1\" /><path clip-path=\"url(#clip670)\" d=\"M2235.85 1219.5 Q2232.24 1219.5 2230.41 1223.07 Q2228.61 1226.61 2228.61 1233.74 Q2228.61 1240.84 2230.41 1244.41 Q2232.24 1247.95 2235.85 1247.95 Q2239.49 1247.95 2241.29 1244.41 Q2243.12 1240.84 2243.12 1233.74 Q2243.12 1226.61 2241.29 1223.07 Q2239.49 1219.5 2235.85 1219.5 M2235.85 1215.8 Q2241.66 1215.8 2244.72 1220.4 Q2247.8 1224.99 2247.8 1233.74 Q2247.8 1242.46 2244.72 1247.07 Q2241.66 1251.65 2235.85 1251.65 Q2230.04 1251.65 2226.96 1247.07 Q2223.91 1242.46 2223.91 1233.74 Q2223.91 1224.99 2226.96 1220.4 Q2230.04 1215.8 2235.85 1215.8 Z\" fill=\"#000000\" fill-rule=\"evenodd\" fill-opacity=\"1\" /><path clip-path=\"url(#clip670)\" d=\"M2227.89 1005.31 L2235.53 1005.31 L2235.53 978.941 L2227.22 980.608 L2227.22 976.348 L2235.48 974.682 L2240.16 974.682 L2240.16 1005.31 L2247.8 1005.31 L2247.8 1009.24 L2227.89 1009.24 L2227.89 1005.31 Z\" fill=\"#000000\" fill-rule=\"evenodd\" fill-opacity=\"1\" /><path clip-path=\"url(#clip670)\" d=\"M2231.48 763.565 L2247.8 763.565 L2247.8 767.5 L2225.85 767.5 L2225.85 763.565 Q2228.51 760.81 2233.1 756.181 Q2237.7 751.528 2238.89 750.185 Q2241.13 747.662 2242.01 745.926 Q2242.91 744.167 2242.91 742.477 Q2242.91 739.723 2240.97 737.986 Q2239.05 736.25 2235.95 736.25 Q2233.75 736.25 2231.29 737.014 Q2228.86 737.778 2226.08 739.329 L2226.08 734.607 Q2228.91 733.473 2231.36 732.894 Q2233.82 732.315 2235.85 732.315 Q2241.22 732.315 2244.42 735 Q2247.61 737.686 2247.61 742.176 Q2247.61 744.306 2246.8 746.227 Q2246.01 748.125 2243.91 750.718 Q2243.33 751.389 2240.23 754.607 Q2237.13 757.801 2231.48 763.565 Z\" fill=\"#000000\" fill-rule=\"evenodd\" fill-opacity=\"1\" /><path clip-path=\"url(#clip670)\" d=\"M2240.67 507.125 Q2244.02 507.842 2245.9 510.111 Q2247.8 512.379 2247.8 515.712 Q2247.8 520.828 2244.28 523.629 Q2240.76 526.43 2234.28 526.43 Q2232.1 526.43 2229.79 525.99 Q2227.5 525.574 2225.04 524.717 L2225.04 520.203 Q2226.99 521.337 2229.3 521.916 Q2231.62 522.495 2234.14 522.495 Q2238.54 522.495 2240.83 520.759 Q2243.14 519.023 2243.14 515.712 Q2243.14 512.657 2240.99 510.944 Q2238.86 509.208 2235.04 509.208 L2231.01 509.208 L2231.01 505.365 L2235.23 505.365 Q2238.68 505.365 2240.51 504 Q2242.33 502.611 2242.33 500.018 Q2242.33 497.356 2240.44 495.944 Q2238.56 494.509 2235.04 494.509 Q2233.12 494.509 2230.92 494.926 Q2228.72 495.342 2226.08 496.222 L2226.08 492.055 Q2228.75 491.314 2231.06 490.944 Q2233.4 490.574 2235.46 490.574 Q2240.78 490.574 2243.89 493.004 Q2246.99 495.412 2246.99 499.532 Q2246.99 502.402 2245.34 504.393 Q2243.7 506.361 2240.67 507.125 Z\" fill=\"#000000\" fill-rule=\"evenodd\" fill-opacity=\"1\" /><path clip-path=\"url(#clip670)\" d=\"M2238.21 253.531 L2226.41 271.98 L2238.21 271.98 L2238.21 253.531 M2236.99 249.457 L2242.87 249.457 L2242.87 271.98 L2247.8 271.98 L2247.8 275.869 L2242.87 275.869 L2242.87 284.017 L2238.21 284.017 L2238.21 275.869 L2222.61 275.869 L2222.61 271.355 L2236.99 249.457 Z\" fill=\"#000000\" fill-rule=\"evenodd\" fill-opacity=\"1\" /><circle clip-path=\"url(#clip673)\" cx=\"2467.2\" cy=\"124.121\" r=\"14\" fill=\"#ff00cc\" fill-rule=\"evenodd\" fill-opacity=\"1\" stroke=\"#000000\" stroke-opacity=\"1\" stroke-width=\"3.2\"/>\n",
       "<circle clip-path=\"url(#clip673)\" cx=\"2459.93\" cy=\"125.696\" r=\"14\" fill=\"#0000ff\" fill-rule=\"evenodd\" fill-opacity=\"1\" stroke=\"#000000\" stroke-opacity=\"1\" stroke-width=\"3.2\"/>\n",
       "<circle clip-path=\"url(#clip673)\" cx=\"2514.2\" cy=\"109.883\" r=\"14\" fill=\"#0000ff\" fill-rule=\"evenodd\" fill-opacity=\"1\" stroke=\"#000000\" stroke-opacity=\"1\" stroke-width=\"3.2\"/>\n",
       "<circle clip-path=\"url(#clip673)\" cx=\"2463.85\" cy=\"124.15\" r=\"14\" fill=\"#ff0099\" fill-rule=\"evenodd\" fill-opacity=\"1\" stroke=\"#000000\" stroke-opacity=\"1\" stroke-width=\"3.2\"/>\n",
       "<circle clip-path=\"url(#clip673)\" cx=\"2492.26\" cy=\"117.992\" r=\"14\" fill=\"#0000ff\" fill-rule=\"evenodd\" fill-opacity=\"1\" stroke=\"#000000\" stroke-opacity=\"1\" stroke-width=\"3.2\"/>\n",
       "<circle clip-path=\"url(#clip673)\" cx=\"2620.64\" cy=\"97.703\" r=\"14\" fill=\"#ff0000\" fill-rule=\"evenodd\" fill-opacity=\"1\" stroke=\"#000000\" stroke-opacity=\"1\" stroke-width=\"3.2\"/>\n",
       "<circle clip-path=\"url(#clip673)\" cx=\"2657.3\" cy=\"95.6836\" r=\"14\" fill=\"#ff00ff\" fill-rule=\"evenodd\" fill-opacity=\"1\" stroke=\"#000000\" stroke-opacity=\"1\" stroke-width=\"3.2\"/>\n",
       "<circle clip-path=\"url(#clip673)\" cx=\"2656.34\" cy=\"91.5732\" r=\"14\" fill=\"#6600ff\" fill-rule=\"evenodd\" fill-opacity=\"1\" stroke=\"#000000\" stroke-opacity=\"1\" stroke-width=\"3.2\"/>\n",
       "<circle clip-path=\"url(#clip673)\" cx=\"2699.65\" cy=\"100.779\" r=\"14\" fill=\"#0000ff\" fill-rule=\"evenodd\" fill-opacity=\"1\" stroke=\"#000000\" stroke-opacity=\"1\" stroke-width=\"3.2\"/>\n",
       "<circle clip-path=\"url(#clip673)\" cx=\"2658.33\" cy=\"105.928\" r=\"14\" fill=\"#ff0066\" fill-rule=\"evenodd\" fill-opacity=\"1\" stroke=\"#000000\" stroke-opacity=\"1\" stroke-width=\"3.2\"/>\n",
       "<circle clip-path=\"url(#clip673)\" cx=\"2679.69\" cy=\"101.485\" r=\"14\" fill=\"#ff0000\" fill-rule=\"evenodd\" fill-opacity=\"1\" stroke=\"#000000\" stroke-opacity=\"1\" stroke-width=\"3.2\"/>\n",
       "<circle clip-path=\"url(#clip673)\" cx=\"2644.01\" cy=\"109.307\" r=\"14\" fill=\"#ff0000\" fill-rule=\"evenodd\" fill-opacity=\"1\" stroke=\"#000000\" stroke-opacity=\"1\" stroke-width=\"3.2\"/>\n",
       "<circle clip-path=\"url(#clip673)\" cx=\"2685.11\" cy=\"104.313\" r=\"14\" fill=\"#9900ff\" fill-rule=\"evenodd\" fill-opacity=\"1\" stroke=\"#000000\" stroke-opacity=\"1\" stroke-width=\"3.2\"/>\n",
       "<circle clip-path=\"url(#clip673)\" cx=\"2619.99\" cy=\"113.5\" r=\"14\" fill=\"#0000ff\" fill-rule=\"evenodd\" fill-opacity=\"1\" stroke=\"#000000\" stroke-opacity=\"1\" stroke-width=\"3.2\"/>\n",
       "<circle clip-path=\"url(#clip673)\" cx=\"2631.65\" cy=\"111.443\" r=\"14\" fill=\"#0000ff\" fill-rule=\"evenodd\" fill-opacity=\"1\" stroke=\"#000000\" stroke-opacity=\"1\" stroke-width=\"3.2\"/>\n",
       "<circle clip-path=\"url(#clip673)\" cx=\"2635.83\" cy=\"107.743\" r=\"14\" fill=\"#ff0000\" fill-rule=\"evenodd\" fill-opacity=\"1\" stroke=\"#000000\" stroke-opacity=\"1\" stroke-width=\"3.2\"/>\n",
       "<circle clip-path=\"url(#clip673)\" cx=\"2800.02\" cy=\"129.765\" r=\"14\" fill=\"#ff0000\" fill-rule=\"evenodd\" fill-opacity=\"1\" stroke=\"#000000\" stroke-opacity=\"1\" stroke-width=\"3.2\"/>\n",
       "<circle clip-path=\"url(#clip673)\" cx=\"2685.05\" cy=\"110.806\" r=\"14\" fill=\"#cc00ff\" fill-rule=\"evenodd\" fill-opacity=\"1\" stroke=\"#000000\" stroke-opacity=\"1\" stroke-width=\"3.2\"/>\n",
       "<circle clip-path=\"url(#clip673)\" cx=\"2691.99\" cy=\"109.09\" r=\"14\" fill=\"#ff0066\" fill-rule=\"evenodd\" fill-opacity=\"1\" stroke=\"#000000\" stroke-opacity=\"1\" stroke-width=\"3.2\"/>\n",
       "<circle clip-path=\"url(#clip673)\" cx=\"2840.53\" cy=\"371.651\" r=\"14\" fill=\"#0000ff\" fill-rule=\"evenodd\" fill-opacity=\"1\" stroke=\"#000000\" stroke-opacity=\"1\" stroke-width=\"3.2\"/>\n",
       "<circle clip-path=\"url(#clip673)\" cx=\"2769.21\" cy=\"554.804\" r=\"14\" fill=\"#9900ff\" fill-rule=\"evenodd\" fill-opacity=\"1\" stroke=\"#000000\" stroke-opacity=\"1\" stroke-width=\"3.2\"/>\n",
       "<circle clip-path=\"url(#clip673)\" cx=\"2827.01\" cy=\"154.773\" r=\"14\" fill=\"#ff00ff\" fill-rule=\"evenodd\" fill-opacity=\"1\" stroke=\"#000000\" stroke-opacity=\"1\" stroke-width=\"3.2\"/>\n",
       "<circle clip-path=\"url(#clip673)\" cx=\"2783.03\" cy=\"125.767\" r=\"14\" fill=\"#ff0033\" fill-rule=\"evenodd\" fill-opacity=\"1\" stroke=\"#000000\" stroke-opacity=\"1\" stroke-width=\"3.2\"/>\n",
       "<circle clip-path=\"url(#clip673)\" cx=\"2720.32\" cy=\"116.965\" r=\"14\" fill=\"#ff0099\" fill-rule=\"evenodd\" fill-opacity=\"1\" stroke=\"#000000\" stroke-opacity=\"1\" stroke-width=\"3.2\"/>\n",
       "<circle clip-path=\"url(#clip673)\" cx=\"2818.48\" cy=\"146.672\" r=\"14\" fill=\"#ff0000\" fill-rule=\"evenodd\" fill-opacity=\"1\" stroke=\"#000000\" stroke-opacity=\"1\" stroke-width=\"3.2\"/>\n",
       "<circle clip-path=\"url(#clip673)\" cx=\"2786.84\" cy=\"127.634\" r=\"14\" fill=\"#cc00ff\" fill-rule=\"evenodd\" fill-opacity=\"1\" stroke=\"#000000\" stroke-opacity=\"1\" stroke-width=\"3.2\"/>\n",
       "<circle clip-path=\"url(#clip673)\" cx=\"2753.5\" cy=\"117.337\" r=\"14\" fill=\"#ff00ff\" fill-rule=\"evenodd\" fill-opacity=\"1\" stroke=\"#000000\" stroke-opacity=\"1\" stroke-width=\"3.2\"/>\n",
       "<circle clip-path=\"url(#clip673)\" cx=\"2774.03\" cy=\"124.405\" r=\"14\" fill=\"#ff0066\" fill-rule=\"evenodd\" fill-opacity=\"1\" stroke=\"#000000\" stroke-opacity=\"1\" stroke-width=\"3.2\"/>\n",
       "<circle clip-path=\"url(#clip673)\" cx=\"4039.82\" cy=\"1449.8\" r=\"14\" fill=\"#ff0033\" fill-rule=\"evenodd\" fill-opacity=\"1\" stroke=\"#000000\" stroke-opacity=\"1\" stroke-width=\"3.2\"/>\n",
       "<circle clip-path=\"url(#clip673)\" cx=\"4014.9\" cy=\"1447\" r=\"14\" fill=\"#ff0066\" fill-rule=\"evenodd\" fill-opacity=\"1\" stroke=\"#000000\" stroke-opacity=\"1\" stroke-width=\"3.2\"/>\n",
       "<circle clip-path=\"url(#clip673)\" cx=\"3982.74\" cy=\"1443.31\" r=\"14\" fill=\"#ff00cc\" fill-rule=\"evenodd\" fill-opacity=\"1\" stroke=\"#000000\" stroke-opacity=\"1\" stroke-width=\"3.2\"/>\n",
       "<circle clip-path=\"url(#clip673)\" cx=\"4010.62\" cy=\"1447.99\" r=\"14\" fill=\"#3300ff\" fill-rule=\"evenodd\" fill-opacity=\"1\" stroke=\"#000000\" stroke-opacity=\"1\" stroke-width=\"3.2\"/>\n",
       "<circle clip-path=\"url(#clip673)\" cx=\"4020.86\" cy=\"1449.06\" r=\"14\" fill=\"#3300ff\" fill-rule=\"evenodd\" fill-opacity=\"1\" stroke=\"#000000\" stroke-opacity=\"1\" stroke-width=\"3.2\"/>\n",
       "<circle clip-path=\"url(#clip673)\" cx=\"3877.3\" cy=\"1429.75\" r=\"14\" fill=\"#3300ff\" fill-rule=\"evenodd\" fill-opacity=\"1\" stroke=\"#000000\" stroke-opacity=\"1\" stroke-width=\"3.2\"/>\n",
       "<circle clip-path=\"url(#clip673)\" cx=\"3958.49\" cy=\"1440.21\" r=\"14\" fill=\"#9900ff\" fill-rule=\"evenodd\" fill-opacity=\"1\" stroke=\"#000000\" stroke-opacity=\"1\" stroke-width=\"3.2\"/>\n",
       "<circle clip-path=\"url(#clip673)\" cx=\"4090.31\" cy=\"1412.65\" r=\"14\" fill=\"#ff0033\" fill-rule=\"evenodd\" fill-opacity=\"1\" stroke=\"#000000\" stroke-opacity=\"1\" stroke-width=\"3.2\"/>\n",
       "<circle clip-path=\"url(#clip673)\" cx=\"4101\" cy=\"1412.16\" r=\"14\" fill=\"#0000ff\" fill-rule=\"evenodd\" fill-opacity=\"1\" stroke=\"#000000\" stroke-opacity=\"1\" stroke-width=\"3.2\"/>\n",
       "<circle clip-path=\"url(#clip673)\" cx=\"3897.56\" cy=\"1309.84\" r=\"14\" fill=\"#3300ff\" fill-rule=\"evenodd\" fill-opacity=\"1\" stroke=\"#000000\" stroke-opacity=\"1\" stroke-width=\"3.2\"/>\n",
       "<circle clip-path=\"url(#clip673)\" cx=\"3905.04\" cy=\"1305.8\" r=\"14\" fill=\"#ff00ff\" fill-rule=\"evenodd\" fill-opacity=\"1\" stroke=\"#000000\" stroke-opacity=\"1\" stroke-width=\"3.2\"/>\n",
       "<circle clip-path=\"url(#clip673)\" cx=\"3911.87\" cy=\"1314.91\" r=\"14\" fill=\"#ff00ff\" fill-rule=\"evenodd\" fill-opacity=\"1\" stroke=\"#000000\" stroke-opacity=\"1\" stroke-width=\"3.2\"/>\n",
       "<circle clip-path=\"url(#clip673)\" cx=\"2457.66\" cy=\"123.805\" r=\"14\" fill=\"#ff00cc\" fill-rule=\"evenodd\" fill-opacity=\"1\" stroke=\"#000000\" stroke-opacity=\"1\" stroke-width=\"3.2\"/>\n",
       "<circle clip-path=\"url(#clip673)\" cx=\"2514.72\" cy=\"109.466\" r=\"14\" fill=\"#0000ff\" fill-rule=\"evenodd\" fill-opacity=\"1\" stroke=\"#000000\" stroke-opacity=\"1\" stroke-width=\"3.2\"/>\n",
       "<circle clip-path=\"url(#clip673)\" cx=\"2415.66\" cy=\"140.047\" r=\"14\" fill=\"#0000ff\" fill-rule=\"evenodd\" fill-opacity=\"1\" stroke=\"#000000\" stroke-opacity=\"1\" stroke-width=\"3.2\"/>\n",
       "<circle clip-path=\"url(#clip673)\" cx=\"2481.56\" cy=\"119.85\" r=\"14\" fill=\"#ff0099\" fill-rule=\"evenodd\" fill-opacity=\"1\" stroke=\"#000000\" stroke-opacity=\"1\" stroke-width=\"3.2\"/>\n",
       "<circle clip-path=\"url(#clip673)\" cx=\"2531.99\" cy=\"104.254\" r=\"14\" fill=\"#0000ff\" fill-rule=\"evenodd\" fill-opacity=\"1\" stroke=\"#000000\" stroke-opacity=\"1\" stroke-width=\"3.2\"/>\n",
       "<circle clip-path=\"url(#clip673)\" cx=\"2689.65\" cy=\"89.0879\" r=\"14\" fill=\"#ff0000\" fill-rule=\"evenodd\" fill-opacity=\"1\" stroke=\"#000000\" stroke-opacity=\"1\" stroke-width=\"3.2\"/>\n",
       "<circle clip-path=\"url(#clip673)\" cx=\"2710.11\" cy=\"88.9908\" r=\"14\" fill=\"#ff00ff\" fill-rule=\"evenodd\" fill-opacity=\"1\" stroke=\"#000000\" stroke-opacity=\"1\" stroke-width=\"3.2\"/>\n",
       "<circle clip-path=\"url(#clip673)\" cx=\"2732.26\" cy=\"92.3128\" r=\"14\" fill=\"#6600ff\" fill-rule=\"evenodd\" fill-opacity=\"1\" stroke=\"#000000\" stroke-opacity=\"1\" stroke-width=\"3.2\"/>\n",
       "<circle clip-path=\"url(#clip673)\" cx=\"2571.05\" cy=\"118.11\" r=\"14\" fill=\"#0000ff\" fill-rule=\"evenodd\" fill-opacity=\"1\" stroke=\"#000000\" stroke-opacity=\"1\" stroke-width=\"3.2\"/>\n",
       "<circle clip-path=\"url(#clip673)\" cx=\"2677\" cy=\"102.618\" r=\"14\" fill=\"#ff0066\" fill-rule=\"evenodd\" fill-opacity=\"1\" stroke=\"#000000\" stroke-opacity=\"1\" stroke-width=\"3.2\"/>\n",
       "<circle clip-path=\"url(#clip673)\" cx=\"2687.12\" cy=\"104.952\" r=\"14\" fill=\"#ff0000\" fill-rule=\"evenodd\" fill-opacity=\"1\" stroke=\"#000000\" stroke-opacity=\"1\" stroke-width=\"3.2\"/>\n",
       "<circle clip-path=\"url(#clip673)\" cx=\"2665.27\" cy=\"105.947\" r=\"14\" fill=\"#ff0000\" fill-rule=\"evenodd\" fill-opacity=\"1\" stroke=\"#000000\" stroke-opacity=\"1\" stroke-width=\"3.2\"/>\n",
       "<circle clip-path=\"url(#clip673)\" cx=\"2616\" cy=\"115.049\" r=\"14\" fill=\"#9900ff\" fill-rule=\"evenodd\" fill-opacity=\"1\" stroke=\"#000000\" stroke-opacity=\"1\" stroke-width=\"3.2\"/>\n",
       "<circle clip-path=\"url(#clip673)\" cx=\"2659.84\" cy=\"108.647\" r=\"14\" fill=\"#0000ff\" fill-rule=\"evenodd\" fill-opacity=\"1\" stroke=\"#000000\" stroke-opacity=\"1\" stroke-width=\"3.2\"/>\n",
       "<circle clip-path=\"url(#clip673)\" cx=\"2598.98\" cy=\"115.914\" r=\"14\" fill=\"#0000ff\" fill-rule=\"evenodd\" fill-opacity=\"1\" stroke=\"#000000\" stroke-opacity=\"1\" stroke-width=\"3.2\"/>\n",
       "<circle clip-path=\"url(#clip673)\" cx=\"2669.12\" cy=\"102.812\" r=\"14\" fill=\"#ff0000\" fill-rule=\"evenodd\" fill-opacity=\"1\" stroke=\"#000000\" stroke-opacity=\"1\" stroke-width=\"3.2\"/>\n",
       "<circle clip-path=\"url(#clip673)\" cx=\"2850.2\" cy=\"185.373\" r=\"14\" fill=\"#ff0000\" fill-rule=\"evenodd\" fill-opacity=\"1\" stroke=\"#000000\" stroke-opacity=\"1\" stroke-width=\"3.2\"/>\n",
       "<circle clip-path=\"url(#clip673)\" cx=\"2711.37\" cy=\"110.578\" r=\"14\" fill=\"#cc00ff\" fill-rule=\"evenodd\" fill-opacity=\"1\" stroke=\"#000000\" stroke-opacity=\"1\" stroke-width=\"3.2\"/>\n",
       "<circle clip-path=\"url(#clip673)\" cx=\"2807.86\" cy=\"132.964\" r=\"14\" fill=\"#ff0066\" fill-rule=\"evenodd\" fill-opacity=\"1\" stroke=\"#000000\" stroke-opacity=\"1\" stroke-width=\"3.2\"/>\n",
       "<circle clip-path=\"url(#clip673)\" cx=\"2687.41\" cy=\"740.706\" r=\"14\" fill=\"#0000ff\" fill-rule=\"evenodd\" fill-opacity=\"1\" stroke=\"#000000\" stroke-opacity=\"1\" stroke-width=\"3.2\"/>\n",
       "<circle clip-path=\"url(#clip673)\" cx=\"2785.86\" cy=\"515.72\" r=\"14\" fill=\"#9900ff\" fill-rule=\"evenodd\" fill-opacity=\"1\" stroke=\"#000000\" stroke-opacity=\"1\" stroke-width=\"3.2\"/>\n",
       "<circle clip-path=\"url(#clip673)\" cx=\"2777.2\" cy=\"126.068\" r=\"14\" fill=\"#ff00ff\" fill-rule=\"evenodd\" fill-opacity=\"1\" stroke=\"#000000\" stroke-opacity=\"1\" stroke-width=\"3.2\"/>\n",
       "<circle clip-path=\"url(#clip673)\" cx=\"2810.99\" cy=\"141.192\" r=\"14\" fill=\"#ff0033\" fill-rule=\"evenodd\" fill-opacity=\"1\" stroke=\"#000000\" stroke-opacity=\"1\" stroke-width=\"3.2\"/>\n",
       "<circle clip-path=\"url(#clip673)\" cx=\"2808.54\" cy=\"138.963\" r=\"14\" fill=\"#ff0099\" fill-rule=\"evenodd\" fill-opacity=\"1\" stroke=\"#000000\" stroke-opacity=\"1\" stroke-width=\"3.2\"/>\n",
       "<circle clip-path=\"url(#clip673)\" cx=\"2789.93\" cy=\"130.659\" r=\"14\" fill=\"#ff0000\" fill-rule=\"evenodd\" fill-opacity=\"1\" stroke=\"#000000\" stroke-opacity=\"1\" stroke-width=\"3.2\"/>\n",
       "<circle clip-path=\"url(#clip673)\" cx=\"2714.81\" cy=\"118.895\" r=\"14\" fill=\"#cc00ff\" fill-rule=\"evenodd\" fill-opacity=\"1\" stroke=\"#000000\" stroke-opacity=\"1\" stroke-width=\"3.2\"/>\n",
       "<circle clip-path=\"url(#clip673)\" cx=\"2812.17\" cy=\"141.404\" r=\"14\" fill=\"#ff00ff\" fill-rule=\"evenodd\" fill-opacity=\"1\" stroke=\"#000000\" stroke-opacity=\"1\" stroke-width=\"3.2\"/>\n",
       "<circle clip-path=\"url(#clip673)\" cx=\"2838.1\" cy=\"170.653\" r=\"14\" fill=\"#ff0066\" fill-rule=\"evenodd\" fill-opacity=\"1\" stroke=\"#000000\" stroke-opacity=\"1\" stroke-width=\"3.2\"/>\n",
       "<circle clip-path=\"url(#clip673)\" cx=\"4010.42\" cy=\"1447.78\" r=\"14\" fill=\"#ff0033\" fill-rule=\"evenodd\" fill-opacity=\"1\" stroke=\"#000000\" stroke-opacity=\"1\" stroke-width=\"3.2\"/>\n",
       "<circle clip-path=\"url(#clip673)\" cx=\"4170.98\" cy=\"1465.75\" r=\"14\" fill=\"#ff0066\" fill-rule=\"evenodd\" fill-opacity=\"1\" stroke=\"#000000\" stroke-opacity=\"1\" stroke-width=\"3.2\"/>\n",
       "<circle clip-path=\"url(#clip673)\" cx=\"4050.39\" cy=\"1451.15\" r=\"14\" fill=\"#ff00cc\" fill-rule=\"evenodd\" fill-opacity=\"1\" stroke=\"#000000\" stroke-opacity=\"1\" stroke-width=\"3.2\"/>\n",
       "<circle clip-path=\"url(#clip673)\" cx=\"4017.77\" cy=\"1447.91\" r=\"14\" fill=\"#3300ff\" fill-rule=\"evenodd\" fill-opacity=\"1\" stroke=\"#000000\" stroke-opacity=\"1\" stroke-width=\"3.2\"/>\n",
       "<circle clip-path=\"url(#clip673)\" cx=\"4012.94\" cy=\"1446.89\" r=\"14\" fill=\"#3300ff\" fill-rule=\"evenodd\" fill-opacity=\"1\" stroke=\"#000000\" stroke-opacity=\"1\" stroke-width=\"3.2\"/>\n",
       "<circle clip-path=\"url(#clip673)\" cx=\"4009.64\" cy=\"1445.82\" r=\"14\" fill=\"#3300ff\" fill-rule=\"evenodd\" fill-opacity=\"1\" stroke=\"#000000\" stroke-opacity=\"1\" stroke-width=\"3.2\"/>\n",
       "<circle clip-path=\"url(#clip673)\" cx=\"4077.97\" cy=\"1453.86\" r=\"14\" fill=\"#9900ff\" fill-rule=\"evenodd\" fill-opacity=\"1\" stroke=\"#000000\" stroke-opacity=\"1\" stroke-width=\"3.2\"/>\n",
       "<circle clip-path=\"url(#clip673)\" cx=\"4055.82\" cy=\"1411.86\" r=\"14\" fill=\"#ff0033\" fill-rule=\"evenodd\" fill-opacity=\"1\" stroke=\"#000000\" stroke-opacity=\"1\" stroke-width=\"3.2\"/>\n",
       "<circle clip-path=\"url(#clip673)\" cx=\"4059.16\" cy=\"1412.96\" r=\"14\" fill=\"#0000ff\" fill-rule=\"evenodd\" fill-opacity=\"1\" stroke=\"#000000\" stroke-opacity=\"1\" stroke-width=\"3.2\"/>\n",
       "<circle clip-path=\"url(#clip673)\" cx=\"3886.68\" cy=\"1303.57\" r=\"14\" fill=\"#3300ff\" fill-rule=\"evenodd\" fill-opacity=\"1\" stroke=\"#000000\" stroke-opacity=\"1\" stroke-width=\"3.2\"/>\n",
       "<circle clip-path=\"url(#clip673)\" cx=\"3968.1\" cy=\"1338.21\" r=\"14\" fill=\"#ff00ff\" fill-rule=\"evenodd\" fill-opacity=\"1\" stroke=\"#000000\" stroke-opacity=\"1\" stroke-width=\"3.2\"/>\n",
       "<circle clip-path=\"url(#clip673)\" cx=\"3963.1\" cy=\"1339.14\" r=\"14\" fill=\"#ff00ff\" fill-rule=\"evenodd\" fill-opacity=\"1\" stroke=\"#000000\" stroke-opacity=\"1\" stroke-width=\"3.2\"/>\n",
       "<circle clip-path=\"url(#clip673)\" cx=\"2506.59\" cy=\"111.865\" r=\"14\" fill=\"#ff00cc\" fill-rule=\"evenodd\" fill-opacity=\"1\" stroke=\"#000000\" stroke-opacity=\"1\" stroke-width=\"3.2\"/>\n",
       "<circle clip-path=\"url(#clip673)\" cx=\"2496.27\" cy=\"113.46\" r=\"14\" fill=\"#0000ff\" fill-rule=\"evenodd\" fill-opacity=\"1\" stroke=\"#000000\" stroke-opacity=\"1\" stroke-width=\"3.2\"/>\n",
       "<circle clip-path=\"url(#clip673)\" cx=\"2549.09\" cy=\"101.549\" r=\"14\" fill=\"#0000ff\" fill-rule=\"evenodd\" fill-opacity=\"1\" stroke=\"#000000\" stroke-opacity=\"1\" stroke-width=\"3.2\"/>\n",
       "<circle clip-path=\"url(#clip673)\" cx=\"2397.08\" cy=\"148.808\" r=\"14\" fill=\"#ff0099\" fill-rule=\"evenodd\" fill-opacity=\"1\" stroke=\"#000000\" stroke-opacity=\"1\" stroke-width=\"3.2\"/>\n",
       "<circle clip-path=\"url(#clip673)\" cx=\"2400.03\" cy=\"145.715\" r=\"14\" fill=\"#0000ff\" fill-rule=\"evenodd\" fill-opacity=\"1\" stroke=\"#000000\" stroke-opacity=\"1\" stroke-width=\"3.2\"/>\n",
       "<circle clip-path=\"url(#clip673)\" cx=\"2692.64\" cy=\"88.5876\" r=\"14\" fill=\"#ff0000\" fill-rule=\"evenodd\" fill-opacity=\"1\" stroke=\"#000000\" stroke-opacity=\"1\" stroke-width=\"3.2\"/>\n",
       "<circle clip-path=\"url(#clip673)\" cx=\"2674.15\" cy=\"92.23\" r=\"14\" fill=\"#ff00ff\" fill-rule=\"evenodd\" fill-opacity=\"1\" stroke=\"#000000\" stroke-opacity=\"1\" stroke-width=\"3.2\"/>\n",
       "<circle clip-path=\"url(#clip673)\" cx=\"2612.26\" cy=\"99.1647\" r=\"14\" fill=\"#6600ff\" fill-rule=\"evenodd\" fill-opacity=\"1\" stroke=\"#000000\" stroke-opacity=\"1\" stroke-width=\"3.2\"/>\n",
       "<circle clip-path=\"url(#clip673)\" cx=\"2633.89\" cy=\"111.015\" r=\"14\" fill=\"#0000ff\" fill-rule=\"evenodd\" fill-opacity=\"1\" stroke=\"#000000\" stroke-opacity=\"1\" stroke-width=\"3.2\"/>\n",
       "<circle clip-path=\"url(#clip673)\" cx=\"2643.67\" cy=\"107.395\" r=\"14\" fill=\"#ff0066\" fill-rule=\"evenodd\" fill-opacity=\"1\" stroke=\"#000000\" stroke-opacity=\"1\" stroke-width=\"3.2\"/>\n",
       "<circle clip-path=\"url(#clip673)\" cx=\"2688.21\" cy=\"102.836\" r=\"14\" fill=\"#ff0000\" fill-rule=\"evenodd\" fill-opacity=\"1\" stroke=\"#000000\" stroke-opacity=\"1\" stroke-width=\"3.2\"/>\n",
       "<circle clip-path=\"url(#clip673)\" cx=\"2607.84\" cy=\"115.051\" r=\"14\" fill=\"#ff0000\" fill-rule=\"evenodd\" fill-opacity=\"1\" stroke=\"#000000\" stroke-opacity=\"1\" stroke-width=\"3.2\"/>\n",
       "<circle clip-path=\"url(#clip673)\" cx=\"2704.16\" cy=\"102.792\" r=\"14\" fill=\"#9900ff\" fill-rule=\"evenodd\" fill-opacity=\"1\" stroke=\"#000000\" stroke-opacity=\"1\" stroke-width=\"3.2\"/>\n",
       "<circle clip-path=\"url(#clip673)\" cx=\"2672\" cy=\"101.001\" r=\"14\" fill=\"#0000ff\" fill-rule=\"evenodd\" fill-opacity=\"1\" stroke=\"#000000\" stroke-opacity=\"1\" stroke-width=\"3.2\"/>\n",
       "<circle clip-path=\"url(#clip673)\" cx=\"2619.84\" cy=\"113.651\" r=\"14\" fill=\"#0000ff\" fill-rule=\"evenodd\" fill-opacity=\"1\" stroke=\"#000000\" stroke-opacity=\"1\" stroke-width=\"3.2\"/>\n",
       "<circle clip-path=\"url(#clip673)\" cx=\"2646.64\" cy=\"107.224\" r=\"14\" fill=\"#ff0000\" fill-rule=\"evenodd\" fill-opacity=\"1\" stroke=\"#000000\" stroke-opacity=\"1\" stroke-width=\"3.2\"/>\n",
       "<circle clip-path=\"url(#clip673)\" cx=\"2857.19\" cy=\"216.084\" r=\"14\" fill=\"#ff0000\" fill-rule=\"evenodd\" fill-opacity=\"1\" stroke=\"#000000\" stroke-opacity=\"1\" stroke-width=\"3.2\"/>\n",
       "<circle clip-path=\"url(#clip673)\" cx=\"2755.06\" cy=\"112.761\" r=\"14\" fill=\"#cc00ff\" fill-rule=\"evenodd\" fill-opacity=\"1\" stroke=\"#000000\" stroke-opacity=\"1\" stroke-width=\"3.2\"/>\n",
       "<circle clip-path=\"url(#clip673)\" cx=\"2808.87\" cy=\"130.587\" r=\"14\" fill=\"#ff0066\" fill-rule=\"evenodd\" fill-opacity=\"1\" stroke=\"#000000\" stroke-opacity=\"1\" stroke-width=\"3.2\"/>\n",
       "<circle clip-path=\"url(#clip673)\" cx=\"2842.86\" cy=\"364.505\" r=\"14\" fill=\"#0000ff\" fill-rule=\"evenodd\" fill-opacity=\"1\" stroke=\"#000000\" stroke-opacity=\"1\" stroke-width=\"3.2\"/>\n",
       "<circle clip-path=\"url(#clip673)\" cx=\"2840.08\" cy=\"370.678\" r=\"14\" fill=\"#9900ff\" fill-rule=\"evenodd\" fill-opacity=\"1\" stroke=\"#000000\" stroke-opacity=\"1\" stroke-width=\"3.2\"/>\n",
       "<circle clip-path=\"url(#clip673)\" cx=\"2738.96\" cy=\"116.387\" r=\"14\" fill=\"#ff00ff\" fill-rule=\"evenodd\" fill-opacity=\"1\" stroke=\"#000000\" stroke-opacity=\"1\" stroke-width=\"3.2\"/>\n",
       "<circle clip-path=\"url(#clip673)\" cx=\"2826.62\" cy=\"157.706\" r=\"14\" fill=\"#ff0033\" fill-rule=\"evenodd\" fill-opacity=\"1\" stroke=\"#000000\" stroke-opacity=\"1\" stroke-width=\"3.2\"/>\n",
       "<circle clip-path=\"url(#clip673)\" cx=\"2733.29\" cy=\"120.724\" r=\"14\" fill=\"#ff0099\" fill-rule=\"evenodd\" fill-opacity=\"1\" stroke=\"#000000\" stroke-opacity=\"1\" stroke-width=\"3.2\"/>\n",
       "<circle clip-path=\"url(#clip673)\" cx=\"2784.61\" cy=\"125.646\" r=\"14\" fill=\"#ff0000\" fill-rule=\"evenodd\" fill-opacity=\"1\" stroke=\"#000000\" stroke-opacity=\"1\" stroke-width=\"3.2\"/>\n",
       "<circle clip-path=\"url(#clip673)\" cx=\"2799.72\" cy=\"134.847\" r=\"14\" fill=\"#cc00ff\" fill-rule=\"evenodd\" fill-opacity=\"1\" stroke=\"#000000\" stroke-opacity=\"1\" stroke-width=\"3.2\"/>\n",
       "<circle clip-path=\"url(#clip673)\" cx=\"2728.2\" cy=\"118.871\" r=\"14\" fill=\"#ff00ff\" fill-rule=\"evenodd\" fill-opacity=\"1\" stroke=\"#000000\" stroke-opacity=\"1\" stroke-width=\"3.2\"/>\n",
       "<circle clip-path=\"url(#clip673)\" cx=\"2808.35\" cy=\"140.153\" r=\"14\" fill=\"#ff0066\" fill-rule=\"evenodd\" fill-opacity=\"1\" stroke=\"#000000\" stroke-opacity=\"1\" stroke-width=\"3.2\"/>\n",
       "<circle clip-path=\"url(#clip673)\" cx=\"4038.12\" cy=\"1450.23\" r=\"14\" fill=\"#ff0033\" fill-rule=\"evenodd\" fill-opacity=\"1\" stroke=\"#000000\" stroke-opacity=\"1\" stroke-width=\"3.2\"/>\n",
       "<circle clip-path=\"url(#clip673)\" cx=\"4054\" cy=\"1451.72\" r=\"14\" fill=\"#ff0066\" fill-rule=\"evenodd\" fill-opacity=\"1\" stroke=\"#000000\" stroke-opacity=\"1\" stroke-width=\"3.2\"/>\n",
       "<circle clip-path=\"url(#clip673)\" cx=\"3960.88\" cy=\"1440.56\" r=\"14\" fill=\"#ff00cc\" fill-rule=\"evenodd\" fill-opacity=\"1\" stroke=\"#000000\" stroke-opacity=\"1\" stroke-width=\"3.2\"/>\n",
       "<circle clip-path=\"url(#clip673)\" cx=\"3881.46\" cy=\"1430.61\" r=\"14\" fill=\"#3300ff\" fill-rule=\"evenodd\" fill-opacity=\"1\" stroke=\"#000000\" stroke-opacity=\"1\" stroke-width=\"3.2\"/>\n",
       "<circle clip-path=\"url(#clip673)\" cx=\"4112.29\" cy=\"1460.03\" r=\"14\" fill=\"#3300ff\" fill-rule=\"evenodd\" fill-opacity=\"1\" stroke=\"#000000\" stroke-opacity=\"1\" stroke-width=\"3.2\"/>\n",
       "<circle clip-path=\"url(#clip673)\" cx=\"4173.31\" cy=\"1466.7\" r=\"14\" fill=\"#3300ff\" fill-rule=\"evenodd\" fill-opacity=\"1\" stroke=\"#000000\" stroke-opacity=\"1\" stroke-width=\"3.2\"/>\n",
       "<circle clip-path=\"url(#clip673)\" cx=\"4018.13\" cy=\"1446.31\" r=\"14\" fill=\"#9900ff\" fill-rule=\"evenodd\" fill-opacity=\"1\" stroke=\"#000000\" stroke-opacity=\"1\" stroke-width=\"3.2\"/>\n",
       "<circle clip-path=\"url(#clip673)\" cx=\"4119.24\" cy=\"1420.67\" r=\"14\" fill=\"#ff0033\" fill-rule=\"evenodd\" fill-opacity=\"1\" stroke=\"#000000\" stroke-opacity=\"1\" stroke-width=\"3.2\"/>\n",
       "<circle clip-path=\"url(#clip673)\" cx=\"4094.82\" cy=\"1420.54\" r=\"14\" fill=\"#0000ff\" fill-rule=\"evenodd\" fill-opacity=\"1\" stroke=\"#000000\" stroke-opacity=\"1\" stroke-width=\"3.2\"/>\n",
       "<circle clip-path=\"url(#clip673)\" cx=\"3980.98\" cy=\"1343.86\" r=\"14\" fill=\"#3300ff\" fill-rule=\"evenodd\" fill-opacity=\"1\" stroke=\"#000000\" stroke-opacity=\"1\" stroke-width=\"3.2\"/>\n",
       "<circle clip-path=\"url(#clip673)\" cx=\"3860.58\" cy=\"1296.5\" r=\"14\" fill=\"#ff00ff\" fill-rule=\"evenodd\" fill-opacity=\"1\" stroke=\"#000000\" stroke-opacity=\"1\" stroke-width=\"3.2\"/>\n",
       "<circle clip-path=\"url(#clip673)\" cx=\"3979.58\" cy=\"1342.89\" r=\"14\" fill=\"#ff00ff\" fill-rule=\"evenodd\" fill-opacity=\"1\" stroke=\"#000000\" stroke-opacity=\"1\" stroke-width=\"3.2\"/>\n",
       "<path clip-path=\"url(#clip670)\" d=\"\n",
       "M4469.95 1508.05 L6352.76 1508.05 L6352.76 47.2441 L4469.95 47.2441  Z\n",
       "  \" fill=\"#ffffff\" fill-rule=\"evenodd\" fill-opacity=\"1\"/>\n",
       "<defs>\n",
       "  <clipPath id=\"clip674\">\n",
       "    <rect x=\"4469\" y=\"47\" width=\"1884\" height=\"1462\"/>\n",
       "  </clipPath>\n",
       "</defs>\n",
       "<polyline clip-path=\"url(#clip674)\" style=\"stroke:#000000; stroke-linecap:butt; stroke-linejoin:round; stroke-width:2; stroke-opacity:0.1; fill:none\" points=\"\n",
       "  4542.16,1508.05 4542.16,47.2441 \n",
       "  \"/>\n",
       "<polyline clip-path=\"url(#clip674)\" style=\"stroke:#000000; stroke-linecap:butt; stroke-linejoin:round; stroke-width:2; stroke-opacity:0.1; fill:none\" points=\"\n",
       "  4833.18,1508.05 4833.18,47.2441 \n",
       "  \"/>\n",
       "<polyline clip-path=\"url(#clip674)\" style=\"stroke:#000000; stroke-linecap:butt; stroke-linejoin:round; stroke-width:2; stroke-opacity:0.1; fill:none\" points=\"\n",
       "  5124.2,1508.05 5124.2,47.2441 \n",
       "  \"/>\n",
       "<polyline clip-path=\"url(#clip674)\" style=\"stroke:#000000; stroke-linecap:butt; stroke-linejoin:round; stroke-width:2; stroke-opacity:0.1; fill:none\" points=\"\n",
       "  5415.23,1508.05 5415.23,47.2441 \n",
       "  \"/>\n",
       "<polyline clip-path=\"url(#clip674)\" style=\"stroke:#000000; stroke-linecap:butt; stroke-linejoin:round; stroke-width:2; stroke-opacity:0.1; fill:none\" points=\"\n",
       "  5706.25,1508.05 5706.25,47.2441 \n",
       "  \"/>\n",
       "<polyline clip-path=\"url(#clip674)\" style=\"stroke:#000000; stroke-linecap:butt; stroke-linejoin:round; stroke-width:2; stroke-opacity:0.1; fill:none\" points=\"\n",
       "  5997.27,1508.05 5997.27,47.2441 \n",
       "  \"/>\n",
       "<polyline clip-path=\"url(#clip674)\" style=\"stroke:#000000; stroke-linecap:butt; stroke-linejoin:round; stroke-width:2; stroke-opacity:0.1; fill:none\" points=\"\n",
       "  6288.29,1508.05 6288.29,47.2441 \n",
       "  \"/>\n",
       "<polyline clip-path=\"url(#clip670)\" style=\"stroke:#000000; stroke-linecap:butt; stroke-linejoin:round; stroke-width:4; stroke-opacity:1; fill:none\" points=\"\n",
       "  4469.95,1508.05 6352.76,1508.05 \n",
       "  \"/>\n",
       "<polyline clip-path=\"url(#clip670)\" style=\"stroke:#000000; stroke-linecap:butt; stroke-linejoin:round; stroke-width:4; stroke-opacity:1; fill:none\" points=\"\n",
       "  4542.16,1508.05 4542.16,1489.15 \n",
       "  \"/>\n",
       "<polyline clip-path=\"url(#clip670)\" style=\"stroke:#000000; stroke-linecap:butt; stroke-linejoin:round; stroke-width:4; stroke-opacity:1; fill:none\" points=\"\n",
       "  4833.18,1508.05 4833.18,1489.15 \n",
       "  \"/>\n",
       "<polyline clip-path=\"url(#clip670)\" style=\"stroke:#000000; stroke-linecap:butt; stroke-linejoin:round; stroke-width:4; stroke-opacity:1; fill:none\" points=\"\n",
       "  5124.2,1508.05 5124.2,1489.15 \n",
       "  \"/>\n",
       "<polyline clip-path=\"url(#clip670)\" style=\"stroke:#000000; stroke-linecap:butt; stroke-linejoin:round; stroke-width:4; stroke-opacity:1; fill:none\" points=\"\n",
       "  5415.23,1508.05 5415.23,1489.15 \n",
       "  \"/>\n",
       "<polyline clip-path=\"url(#clip670)\" style=\"stroke:#000000; stroke-linecap:butt; stroke-linejoin:round; stroke-width:4; stroke-opacity:1; fill:none\" points=\"\n",
       "  5706.25,1508.05 5706.25,1489.15 \n",
       "  \"/>\n",
       "<polyline clip-path=\"url(#clip670)\" style=\"stroke:#000000; stroke-linecap:butt; stroke-linejoin:round; stroke-width:4; stroke-opacity:1; fill:none\" points=\"\n",
       "  5997.27,1508.05 5997.27,1489.15 \n",
       "  \"/>\n",
       "<polyline clip-path=\"url(#clip670)\" style=\"stroke:#000000; stroke-linecap:butt; stroke-linejoin:round; stroke-width:4; stroke-opacity:1; fill:none\" points=\"\n",
       "  6288.29,1508.05 6288.29,1489.15 \n",
       "  \"/>\n",
       "<path clip-path=\"url(#clip670)\" d=\"M4489.18 1583.89 L4518.86 1583.89 L4518.86 1587.83 L4489.18 1587.83 L4489.18 1583.89 Z\" fill=\"#000000\" fill-rule=\"evenodd\" fill-opacity=\"1\" /><path clip-path=\"url(#clip670)\" d=\"M4532.98 1596.78 L4549.3 1596.78 L4549.3 1600.72 L4527.35 1600.72 L4527.35 1596.78 Q4530.02 1594.03 4534.6 1589.4 Q4539.21 1584.75 4540.39 1583.41 Q4542.63 1580.88 4543.51 1579.15 Q4544.41 1577.39 4544.41 1575.7 Q4544.41 1572.94 4542.47 1571.21 Q4540.55 1569.47 4537.45 1569.47 Q4535.25 1569.47 4532.79 1570.23 Q4530.36 1571 4527.59 1572.55 L4527.59 1567.83 Q4530.41 1566.69 4532.86 1566.11 Q4535.32 1565.53 4537.35 1565.53 Q4542.73 1565.53 4545.92 1568.22 Q4549.11 1570.91 4549.11 1575.4 Q4549.11 1577.53 4548.3 1579.45 Q4547.52 1581.34 4545.41 1583.94 Q4544.83 1584.61 4541.73 1587.83 Q4538.63 1591.02 4532.98 1596.78 Z\" fill=\"#000000\" fill-rule=\"evenodd\" fill-opacity=\"1\" /><path clip-path=\"url(#clip670)\" d=\"M4559.11 1594.84 L4564 1594.84 L4564 1600.72 L4559.11 1600.72 L4559.11 1594.84 Z\" fill=\"#000000\" fill-rule=\"evenodd\" fill-opacity=\"1\" /><path clip-path=\"url(#clip670)\" d=\"M4574.23 1566.16 L4592.59 1566.16 L4592.59 1570.1 L4578.51 1570.1 L4578.51 1578.57 Q4579.53 1578.22 4580.55 1578.06 Q4581.57 1577.87 4582.59 1577.87 Q4588.37 1577.87 4591.75 1581.04 Q4595.13 1584.22 4595.13 1589.63 Q4595.13 1595.21 4591.66 1598.31 Q4588.19 1601.39 4581.87 1601.39 Q4579.69 1601.39 4577.42 1601.02 Q4575.18 1600.65 4572.77 1599.91 L4572.77 1595.21 Q4574.85 1596.34 4577.08 1596.9 Q4579.3 1597.46 4581.78 1597.46 Q4585.78 1597.46 4588.12 1595.35 Q4590.46 1593.24 4590.46 1589.63 Q4590.46 1586.02 4588.12 1583.91 Q4585.78 1581.81 4581.78 1581.81 Q4579.9 1581.81 4578.03 1582.22 Q4576.17 1582.64 4574.23 1583.52 L4574.23 1566.16 Z\" fill=\"#000000\" fill-rule=\"evenodd\" fill-opacity=\"1\" /><path clip-path=\"url(#clip670)\" d=\"M4779.71 1583.89 L4809.38 1583.89 L4809.38 1587.83 L4779.71 1587.83 L4779.71 1583.89 Z\" fill=\"#000000\" fill-rule=\"evenodd\" fill-opacity=\"1\" /><path clip-path=\"url(#clip670)\" d=\"M4823.5 1596.78 L4839.82 1596.78 L4839.82 1600.72 L4817.88 1600.72 L4817.88 1596.78 Q4820.54 1594.03 4825.13 1589.4 Q4829.73 1584.75 4830.91 1583.41 Q4833.16 1580.88 4834.04 1579.15 Q4834.94 1577.39 4834.94 1575.7 Q4834.94 1572.94 4833 1571.21 Q4831.07 1569.47 4827.97 1569.47 Q4825.77 1569.47 4823.32 1570.23 Q4820.89 1571 4818.11 1572.55 L4818.11 1567.83 Q4820.94 1566.69 4823.39 1566.11 Q4825.84 1565.53 4827.88 1565.53 Q4833.25 1565.53 4836.44 1568.22 Q4839.64 1570.91 4839.64 1575.4 Q4839.64 1577.53 4838.83 1579.45 Q4838.04 1581.34 4835.94 1583.94 Q4835.36 1584.61 4832.25 1587.83 Q4829.15 1591.02 4823.5 1596.78 Z\" fill=\"#000000\" fill-rule=\"evenodd\" fill-opacity=\"1\" /><path clip-path=\"url(#clip670)\" d=\"M4849.64 1594.84 L4854.52 1594.84 L4854.52 1600.72 L4849.64 1600.72 L4849.64 1594.84 Z\" fill=\"#000000\" fill-rule=\"evenodd\" fill-opacity=\"1\" /><path clip-path=\"url(#clip670)\" d=\"M4874.71 1569.24 Q4871.1 1569.24 4869.27 1572.8 Q4867.46 1576.35 4867.46 1583.47 Q4867.46 1590.58 4869.27 1594.15 Q4871.1 1597.69 4874.71 1597.69 Q4878.34 1597.69 4880.15 1594.15 Q4881.98 1590.58 4881.98 1583.47 Q4881.98 1576.35 4880.15 1572.8 Q4878.34 1569.24 4874.71 1569.24 M4874.71 1565.53 Q4880.52 1565.53 4883.57 1570.14 Q4886.65 1574.72 4886.65 1583.47 Q4886.65 1592.2 4883.57 1596.81 Q4880.52 1601.39 4874.71 1601.39 Q4868.9 1601.39 4865.82 1596.81 Q4862.76 1592.2 4862.76 1583.47 Q4862.76 1574.72 4865.82 1570.14 Q4868.9 1565.53 4874.71 1565.53 Z\" fill=\"#000000\" fill-rule=\"evenodd\" fill-opacity=\"1\" /><path clip-path=\"url(#clip670)\" d=\"M5071.23 1583.89 L5100.9 1583.89 L5100.9 1587.83 L5071.23 1587.83 L5071.23 1583.89 Z\" fill=\"#000000\" fill-rule=\"evenodd\" fill-opacity=\"1\" /><path clip-path=\"url(#clip670)\" d=\"M5111.81 1596.78 L5119.45 1596.78 L5119.45 1570.42 L5111.14 1572.09 L5111.14 1567.83 L5119.4 1566.16 L5124.08 1566.16 L5124.08 1596.78 L5131.71 1596.78 L5131.71 1600.72 L5111.81 1600.72 L5111.81 1596.78 Z\" fill=\"#000000\" fill-rule=\"evenodd\" fill-opacity=\"1\" /><path clip-path=\"url(#clip670)\" d=\"M5141.16 1594.84 L5146.04 1594.84 L5146.04 1600.72 L5141.16 1600.72 L5141.16 1594.84 Z\" fill=\"#000000\" fill-rule=\"evenodd\" fill-opacity=\"1\" /><path clip-path=\"url(#clip670)\" d=\"M5156.27 1566.16 L5174.63 1566.16 L5174.63 1570.1 L5160.56 1570.1 L5160.56 1578.57 Q5161.58 1578.22 5162.59 1578.06 Q5163.61 1577.87 5164.63 1577.87 Q5170.42 1577.87 5173.8 1581.04 Q5177.18 1584.22 5177.18 1589.63 Q5177.18 1595.21 5173.71 1598.31 Q5170.23 1601.39 5163.91 1601.39 Q5161.74 1601.39 5159.47 1601.02 Q5157.22 1600.65 5154.82 1599.91 L5154.82 1595.21 Q5156.9 1596.34 5159.12 1596.9 Q5161.34 1597.46 5163.82 1597.46 Q5167.83 1597.46 5170.16 1595.35 Q5172.5 1593.24 5172.5 1589.63 Q5172.5 1586.02 5170.16 1583.91 Q5167.83 1581.81 5163.82 1581.81 Q5161.95 1581.81 5160.07 1582.22 Q5158.22 1582.64 5156.27 1583.52 L5156.27 1566.16 Z\" fill=\"#000000\" fill-rule=\"evenodd\" fill-opacity=\"1\" /><path clip-path=\"url(#clip670)\" d=\"M5361.75 1583.89 L5391.43 1583.89 L5391.43 1587.83 L5361.75 1587.83 L5361.75 1583.89 Z\" fill=\"#000000\" fill-rule=\"evenodd\" fill-opacity=\"1\" /><path clip-path=\"url(#clip670)\" d=\"M5402.33 1596.78 L5409.97 1596.78 L5409.97 1570.42 L5401.66 1572.09 L5401.66 1567.83 L5409.92 1566.16 L5414.6 1566.16 L5414.6 1596.78 L5422.24 1596.78 L5422.24 1600.72 L5402.33 1600.72 L5402.33 1596.78 Z\" fill=\"#000000\" fill-rule=\"evenodd\" fill-opacity=\"1\" /><path clip-path=\"url(#clip670)\" d=\"M5431.68 1594.84 L5436.57 1594.84 L5436.57 1600.72 L5431.68 1600.72 L5431.68 1594.84 Z\" fill=\"#000000\" fill-rule=\"evenodd\" fill-opacity=\"1\" /><path clip-path=\"url(#clip670)\" d=\"M5456.75 1569.24 Q5453.14 1569.24 5451.31 1572.8 Q5449.51 1576.35 5449.51 1583.47 Q5449.51 1590.58 5451.31 1594.15 Q5453.14 1597.69 5456.75 1597.69 Q5460.39 1597.69 5462.19 1594.15 Q5464.02 1590.58 5464.02 1583.47 Q5464.02 1576.35 5462.19 1572.8 Q5460.39 1569.24 5456.75 1569.24 M5456.75 1565.53 Q5462.56 1565.53 5465.62 1570.14 Q5468.7 1574.72 5468.7 1583.47 Q5468.7 1592.2 5465.62 1596.81 Q5462.56 1601.39 5456.75 1601.39 Q5450.94 1601.39 5447.86 1596.81 Q5444.81 1592.2 5444.81 1583.47 Q5444.81 1574.72 5447.86 1570.14 Q5450.94 1565.53 5456.75 1565.53 Z\" fill=\"#000000\" fill-rule=\"evenodd\" fill-opacity=\"1\" /><path clip-path=\"url(#clip670)\" d=\"M5653.27 1583.89 L5682.95 1583.89 L5682.95 1587.83 L5653.27 1587.83 L5653.27 1583.89 Z\" fill=\"#000000\" fill-rule=\"evenodd\" fill-opacity=\"1\" /><path clip-path=\"url(#clip670)\" d=\"M5703.04 1569.24 Q5699.43 1569.24 5697.6 1572.8 Q5695.8 1576.35 5695.8 1583.47 Q5695.8 1590.58 5697.6 1594.15 Q5699.43 1597.69 5703.04 1597.69 Q5706.68 1597.69 5708.48 1594.15 Q5710.31 1590.58 5710.31 1583.47 Q5710.31 1576.35 5708.48 1572.8 Q5706.68 1569.24 5703.04 1569.24 M5703.04 1565.53 Q5708.85 1565.53 5711.91 1570.14 Q5714.99 1574.72 5714.99 1583.47 Q5714.99 1592.2 5711.91 1596.81 Q5708.85 1601.39 5703.04 1601.39 Q5697.23 1601.39 5694.15 1596.81 Q5691.1 1592.2 5691.1 1583.47 Q5691.1 1574.72 5694.15 1570.14 Q5697.23 1565.53 5703.04 1565.53 Z\" fill=\"#000000\" fill-rule=\"evenodd\" fill-opacity=\"1\" /><path clip-path=\"url(#clip670)\" d=\"M5723.2 1594.84 L5728.09 1594.84 L5728.09 1600.72 L5723.2 1600.72 L5723.2 1594.84 Z\" fill=\"#000000\" fill-rule=\"evenodd\" fill-opacity=\"1\" /><path clip-path=\"url(#clip670)\" d=\"M5738.32 1566.16 L5756.68 1566.16 L5756.68 1570.1 L5742.6 1570.1 L5742.6 1578.57 Q5743.62 1578.22 5744.64 1578.06 Q5745.66 1577.87 5746.68 1577.87 Q5752.46 1577.87 5755.84 1581.04 Q5759.22 1584.22 5759.22 1589.63 Q5759.22 1595.21 5755.75 1598.31 Q5752.28 1601.39 5745.96 1601.39 Q5743.78 1601.39 5741.51 1601.02 Q5739.27 1600.65 5736.86 1599.91 L5736.86 1595.21 Q5738.95 1596.34 5741.17 1596.9 Q5743.39 1597.46 5745.87 1597.46 Q5749.87 1597.46 5752.21 1595.35 Q5754.55 1593.24 5754.55 1589.63 Q5754.55 1586.02 5752.21 1583.91 Q5749.87 1581.81 5745.87 1581.81 Q5743.99 1581.81 5742.12 1582.22 Q5740.26 1582.64 5738.32 1583.52 L5738.32 1566.16 Z\" fill=\"#000000\" fill-rule=\"evenodd\" fill-opacity=\"1\" /><path clip-path=\"url(#clip670)\" d=\"M5974.66 1569.24 Q5971.04 1569.24 5969.22 1572.8 Q5967.41 1576.35 5967.41 1583.47 Q5967.41 1590.58 5969.22 1594.15 Q5971.04 1597.69 5974.66 1597.69 Q5978.29 1597.69 5980.1 1594.15 Q5981.92 1590.58 5981.92 1583.47 Q5981.92 1576.35 5980.1 1572.8 Q5978.29 1569.24 5974.66 1569.24 M5974.66 1565.53 Q5980.47 1565.53 5983.52 1570.14 Q5986.6 1574.72 5986.6 1583.47 Q5986.6 1592.2 5983.52 1596.81 Q5980.47 1601.39 5974.66 1601.39 Q5968.85 1601.39 5965.77 1596.81 Q5962.71 1592.2 5962.71 1583.47 Q5962.71 1574.72 5965.77 1570.14 Q5968.85 1565.53 5974.66 1565.53 Z\" fill=\"#000000\" fill-rule=\"evenodd\" fill-opacity=\"1\" /><path clip-path=\"url(#clip670)\" d=\"M5994.82 1594.84 L5999.7 1594.84 L5999.7 1600.72 L5994.82 1600.72 L5994.82 1594.84 Z\" fill=\"#000000\" fill-rule=\"evenodd\" fill-opacity=\"1\" /><path clip-path=\"url(#clip670)\" d=\"M6019.89 1569.24 Q6016.28 1569.24 6014.45 1572.8 Q6012.64 1576.35 6012.64 1583.47 Q6012.64 1590.58 6014.45 1594.15 Q6016.28 1597.69 6019.89 1597.69 Q6023.52 1597.69 6025.33 1594.15 Q6027.16 1590.58 6027.16 1583.47 Q6027.16 1576.35 6025.33 1572.8 Q6023.52 1569.24 6019.89 1569.24 M6019.89 1565.53 Q6025.7 1565.53 6028.75 1570.14 Q6031.83 1574.72 6031.83 1583.47 Q6031.83 1592.2 6028.75 1596.81 Q6025.7 1601.39 6019.89 1601.39 Q6014.08 1601.39 6011 1596.81 Q6007.94 1592.2 6007.94 1583.47 Q6007.94 1574.72 6011 1570.14 Q6014.08 1565.53 6019.89 1565.53 Z\" fill=\"#000000\" fill-rule=\"evenodd\" fill-opacity=\"1\" /><path clip-path=\"url(#clip670)\" d=\"M6266.18 1569.24 Q6262.56 1569.24 6260.74 1572.8 Q6258.93 1576.35 6258.93 1583.47 Q6258.93 1590.58 6260.74 1594.15 Q6262.56 1597.69 6266.18 1597.69 Q6269.81 1597.69 6271.62 1594.15 Q6273.44 1590.58 6273.44 1583.47 Q6273.44 1576.35 6271.62 1572.8 Q6269.81 1569.24 6266.18 1569.24 M6266.18 1565.53 Q6271.99 1565.53 6275.04 1570.14 Q6278.12 1574.72 6278.12 1583.47 Q6278.12 1592.2 6275.04 1596.81 Q6271.99 1601.39 6266.18 1601.39 Q6260.37 1601.39 6257.29 1596.81 Q6254.23 1592.2 6254.23 1583.47 Q6254.23 1574.72 6257.29 1570.14 Q6260.37 1565.53 6266.18 1565.53 Z\" fill=\"#000000\" fill-rule=\"evenodd\" fill-opacity=\"1\" /><path clip-path=\"url(#clip670)\" d=\"M6286.34 1594.84 L6291.22 1594.84 L6291.22 1600.72 L6286.34 1600.72 L6286.34 1594.84 Z\" fill=\"#000000\" fill-rule=\"evenodd\" fill-opacity=\"1\" /><path clip-path=\"url(#clip670)\" d=\"M6301.45 1566.16 L6319.81 1566.16 L6319.81 1570.1 L6305.74 1570.1 L6305.74 1578.57 Q6306.75 1578.22 6307.77 1578.06 Q6308.79 1577.87 6309.81 1577.87 Q6315.6 1577.87 6318.98 1581.04 Q6322.36 1584.22 6322.36 1589.63 Q6322.36 1595.21 6318.88 1598.31 Q6315.41 1601.39 6309.09 1601.39 Q6306.92 1601.39 6304.65 1601.02 Q6302.4 1600.65 6300 1599.91 L6300 1595.21 Q6302.08 1596.34 6304.3 1596.9 Q6306.52 1597.46 6309 1597.46 Q6313 1597.46 6315.34 1595.35 Q6317.68 1593.24 6317.68 1589.63 Q6317.68 1586.02 6315.34 1583.91 Q6313 1581.81 6309 1581.81 Q6307.12 1581.81 6305.25 1582.22 Q6303.4 1582.64 6301.45 1583.52 L6301.45 1566.16 Z\" fill=\"#000000\" fill-rule=\"evenodd\" fill-opacity=\"1\" /><polyline clip-path=\"url(#clip674)\" style=\"stroke:#000000; stroke-linecap:butt; stroke-linejoin:round; stroke-width:2; stroke-opacity:0.1; fill:none\" points=\"\n",
       "  4469.95,1466.7 6352.76,1466.7 \n",
       "  \"/>\n",
       "<polyline clip-path=\"url(#clip674)\" style=\"stroke:#000000; stroke-linecap:butt; stroke-linejoin:round; stroke-width:2; stroke-opacity:0.1; fill:none\" points=\"\n",
       "  4469.95,1122.18 6352.76,1122.18 \n",
       "  \"/>\n",
       "<polyline clip-path=\"url(#clip674)\" style=\"stroke:#000000; stroke-linecap:butt; stroke-linejoin:round; stroke-width:2; stroke-opacity:0.1; fill:none\" points=\"\n",
       "  4469.95,777.646 6352.76,777.646 \n",
       "  \"/>\n",
       "<polyline clip-path=\"url(#clip674)\" style=\"stroke:#000000; stroke-linecap:butt; stroke-linejoin:round; stroke-width:2; stroke-opacity:0.1; fill:none\" points=\"\n",
       "  4469.95,433.117 6352.76,433.117 \n",
       "  \"/>\n",
       "<polyline clip-path=\"url(#clip674)\" style=\"stroke:#000000; stroke-linecap:butt; stroke-linejoin:round; stroke-width:2; stroke-opacity:0.1; fill:none\" points=\"\n",
       "  4469.95,88.5876 6352.76,88.5876 \n",
       "  \"/>\n",
       "<polyline clip-path=\"url(#clip670)\" style=\"stroke:#000000; stroke-linecap:butt; stroke-linejoin:round; stroke-width:4; stroke-opacity:1; fill:none\" points=\"\n",
       "  4469.95,1508.05 4469.95,47.2441 \n",
       "  \"/>\n",
       "<polyline clip-path=\"url(#clip670)\" style=\"stroke:#000000; stroke-linecap:butt; stroke-linejoin:round; stroke-width:4; stroke-opacity:1; fill:none\" points=\"\n",
       "  4469.95,1466.7 4488.85,1466.7 \n",
       "  \"/>\n",
       "<polyline clip-path=\"url(#clip670)\" style=\"stroke:#000000; stroke-linecap:butt; stroke-linejoin:round; stroke-width:4; stroke-opacity:1; fill:none\" points=\"\n",
       "  4469.95,1122.18 4488.85,1122.18 \n",
       "  \"/>\n",
       "<polyline clip-path=\"url(#clip670)\" style=\"stroke:#000000; stroke-linecap:butt; stroke-linejoin:round; stroke-width:4; stroke-opacity:1; fill:none\" points=\"\n",
       "  4469.95,777.646 4488.85,777.646 \n",
       "  \"/>\n",
       "<polyline clip-path=\"url(#clip670)\" style=\"stroke:#000000; stroke-linecap:butt; stroke-linejoin:round; stroke-width:4; stroke-opacity:1; fill:none\" points=\"\n",
       "  4469.95,433.117 4488.85,433.117 \n",
       "  \"/>\n",
       "<polyline clip-path=\"url(#clip670)\" style=\"stroke:#000000; stroke-linecap:butt; stroke-linejoin:round; stroke-width:4; stroke-opacity:1; fill:none\" points=\"\n",
       "  4469.95,88.5876 4488.85,88.5876 \n",
       "  \"/>\n",
       "<path clip-path=\"url(#clip670)\" d=\"M4316.78 1452.5 Q4313.17 1452.5 4311.34 1456.07 Q4309.53 1459.61 4309.53 1466.74 Q4309.53 1473.85 4311.34 1477.41 Q4313.17 1480.95 4316.78 1480.95 Q4320.41 1480.95 4322.22 1477.41 Q4324.05 1473.85 4324.05 1466.74 Q4324.05 1459.61 4322.22 1456.07 Q4320.41 1452.5 4316.78 1452.5 M4316.78 1448.8 Q4322.59 1448.8 4325.64 1453.41 Q4328.72 1457.99 4328.72 1466.74 Q4328.72 1475.47 4325.64 1480.07 Q4322.59 1484.66 4316.78 1484.66 Q4310.97 1484.66 4307.89 1480.07 Q4304.83 1475.47 4304.83 1466.74 Q4304.83 1457.99 4307.89 1453.41 Q4310.97 1448.8 4316.78 1448.8 Z\" fill=\"#000000\" fill-rule=\"evenodd\" fill-opacity=\"1\" /><path clip-path=\"url(#clip670)\" d=\"M4336.94 1478.1 L4341.83 1478.1 L4341.83 1483.98 L4336.94 1483.98 L4336.94 1478.1 Z\" fill=\"#000000\" fill-rule=\"evenodd\" fill-opacity=\"1\" /><path clip-path=\"url(#clip670)\" d=\"M4362.01 1452.5 Q4358.4 1452.5 4356.57 1456.07 Q4354.76 1459.61 4354.76 1466.74 Q4354.76 1473.85 4356.57 1477.41 Q4358.4 1480.95 4362.01 1480.95 Q4365.64 1480.95 4367.45 1477.41 Q4369.28 1473.85 4369.28 1466.74 Q4369.28 1459.61 4367.45 1456.07 Q4365.64 1452.5 4362.01 1452.5 M4362.01 1448.8 Q4367.82 1448.8 4370.88 1453.41 Q4373.95 1457.99 4373.95 1466.74 Q4373.95 1475.47 4370.88 1480.07 Q4367.82 1484.66 4362.01 1484.66 Q4356.2 1484.66 4353.12 1480.07 Q4350.07 1475.47 4350.07 1466.74 Q4350.07 1457.99 4353.12 1453.41 Q4356.2 1448.8 4362.01 1448.8 Z\" fill=\"#000000\" fill-rule=\"evenodd\" fill-opacity=\"1\" /><path clip-path=\"url(#clip670)\" d=\"M4317.77 1107.97 Q4314.16 1107.97 4312.33 1111.54 Q4310.53 1115.08 4310.53 1122.21 Q4310.53 1129.32 4312.33 1132.88 Q4314.16 1136.42 4317.77 1136.42 Q4321.41 1136.42 4323.21 1132.88 Q4325.04 1129.32 4325.04 1122.21 Q4325.04 1115.08 4323.21 1111.54 Q4321.41 1107.97 4317.77 1107.97 M4317.77 1104.27 Q4323.58 1104.27 4326.64 1108.88 Q4329.72 1113.46 4329.72 1122.21 Q4329.72 1130.94 4326.64 1135.54 Q4323.58 1140.13 4317.77 1140.13 Q4311.96 1140.13 4308.89 1135.54 Q4305.83 1130.94 4305.83 1122.21 Q4305.83 1113.46 4308.89 1108.88 Q4311.96 1104.27 4317.77 1104.27 Z\" fill=\"#000000\" fill-rule=\"evenodd\" fill-opacity=\"1\" /><path clip-path=\"url(#clip670)\" d=\"M4337.94 1133.58 L4342.82 1133.58 L4342.82 1139.46 L4337.94 1139.46 L4337.94 1133.58 Z\" fill=\"#000000\" fill-rule=\"evenodd\" fill-opacity=\"1\" /><path clip-path=\"url(#clip670)\" d=\"M4353.05 1104.9 L4371.41 1104.9 L4371.41 1108.83 L4357.33 1108.83 L4357.33 1117.3 Q4358.35 1116.96 4359.37 1116.79 Q4360.39 1116.61 4361.41 1116.61 Q4367.2 1116.61 4370.58 1119.78 Q4373.95 1122.95 4373.95 1128.37 Q4373.95 1133.95 4370.48 1137.05 Q4367.01 1140.13 4360.69 1140.13 Q4358.51 1140.13 4356.25 1139.76 Q4354 1139.39 4351.59 1138.64 L4351.59 1133.95 Q4353.68 1135.08 4355.9 1135.64 Q4358.12 1136.19 4360.6 1136.19 Q4364.6 1136.19 4366.94 1134.08 Q4369.28 1131.98 4369.28 1128.37 Q4369.28 1124.76 4366.94 1122.65 Q4364.6 1120.54 4360.6 1120.54 Q4358.72 1120.54 4356.85 1120.96 Q4355 1121.38 4353.05 1122.26 L4353.05 1104.9 Z\" fill=\"#000000\" fill-rule=\"evenodd\" fill-opacity=\"1\" /><path clip-path=\"url(#clip670)\" d=\"M4307.59 790.991 L4315.23 790.991 L4315.23 764.625 L4306.92 766.292 L4306.92 762.033 L4315.18 760.366 L4319.86 760.366 L4319.86 790.991 L4327.5 790.991 L4327.5 794.926 L4307.59 794.926 L4307.59 790.991 Z\" fill=\"#000000\" fill-rule=\"evenodd\" fill-opacity=\"1\" /><path clip-path=\"url(#clip670)\" d=\"M4336.94 789.046 L4341.83 789.046 L4341.83 794.926 L4336.94 794.926 L4336.94 789.046 Z\" fill=\"#000000\" fill-rule=\"evenodd\" fill-opacity=\"1\" /><path clip-path=\"url(#clip670)\" d=\"M4362.01 763.445 Q4358.4 763.445 4356.57 767.009 Q4354.76 770.551 4354.76 777.681 Q4354.76 784.787 4356.57 788.352 Q4358.4 791.894 4362.01 791.894 Q4365.64 791.894 4367.45 788.352 Q4369.28 784.787 4369.28 777.681 Q4369.28 770.551 4367.45 767.009 Q4365.64 763.445 4362.01 763.445 M4362.01 759.741 Q4367.82 759.741 4370.88 764.347 Q4373.95 768.931 4373.95 777.681 Q4373.95 786.408 4370.88 791.014 Q4367.82 795.597 4362.01 795.597 Q4356.2 795.597 4353.12 791.014 Q4350.07 786.408 4350.07 777.681 Q4350.07 768.931 4353.12 764.347 Q4356.2 759.741 4362.01 759.741 Z\" fill=\"#000000\" fill-rule=\"evenodd\" fill-opacity=\"1\" /><path clip-path=\"url(#clip670)\" d=\"M4308.58 446.462 L4316.22 446.462 L4316.22 420.096 L4307.91 421.763 L4307.91 417.503 L4316.18 415.837 L4320.85 415.837 L4320.85 446.462 L4328.49 446.462 L4328.49 450.397 L4308.58 450.397 L4308.58 446.462 Z\" fill=\"#000000\" fill-rule=\"evenodd\" fill-opacity=\"1\" /><path clip-path=\"url(#clip670)\" d=\"M4337.94 444.517 L4342.82 444.517 L4342.82 450.397 L4337.94 450.397 L4337.94 444.517 Z\" fill=\"#000000\" fill-rule=\"evenodd\" fill-opacity=\"1\" /><path clip-path=\"url(#clip670)\" d=\"M4353.05 415.837 L4371.41 415.837 L4371.41 419.772 L4357.33 419.772 L4357.33 428.244 Q4358.35 427.897 4359.37 427.735 Q4360.39 427.55 4361.41 427.55 Q4367.2 427.55 4370.58 430.721 Q4373.95 433.892 4373.95 439.309 Q4373.95 444.888 4370.48 447.989 Q4367.01 451.068 4360.69 451.068 Q4358.51 451.068 4356.25 450.698 Q4354 450.327 4351.59 449.587 L4351.59 444.888 Q4353.68 446.022 4355.9 446.577 Q4358.12 447.133 4360.6 447.133 Q4364.6 447.133 4366.94 445.026 Q4369.28 442.92 4369.28 439.309 Q4369.28 435.698 4366.94 433.591 Q4364.6 431.485 4360.6 431.485 Q4358.72 431.485 4356.85 431.902 Q4355 432.318 4353.05 433.198 L4353.05 415.837 Z\" fill=\"#000000\" fill-rule=\"evenodd\" fill-opacity=\"1\" /><path clip-path=\"url(#clip670)\" d=\"M4310.81 101.932 L4327.13 101.932 L4327.13 105.868 L4305.18 105.868 L4305.18 101.932 Q4307.84 99.1778 4312.43 94.5482 Q4317.03 89.8955 4318.21 88.5529 Q4320.46 86.0297 4321.34 84.2936 Q4322.24 82.5344 4322.24 80.8446 Q4322.24 78.09 4320.3 76.3539 Q4318.38 74.6178 4315.27 74.6178 Q4313.08 74.6178 4310.62 75.3816 Q4308.19 76.1455 4305.41 77.6965 L4305.41 72.9743 Q4308.24 71.84 4310.69 71.2613 Q4313.14 70.6826 4315.18 70.6826 Q4320.55 70.6826 4323.75 73.3678 Q4326.94 76.0529 4326.94 80.5437 Q4326.94 82.6733 4326.13 84.5946 Q4325.34 86.4927 4323.24 89.0853 Q4322.66 89.7566 4319.56 92.9741 Q4316.45 96.1686 4310.81 101.932 Z\" fill=\"#000000\" fill-rule=\"evenodd\" fill-opacity=\"1\" /><path clip-path=\"url(#clip670)\" d=\"M4336.94 99.988 L4341.83 99.988 L4341.83 105.868 L4336.94 105.868 L4336.94 99.988 Z\" fill=\"#000000\" fill-rule=\"evenodd\" fill-opacity=\"1\" /><path clip-path=\"url(#clip670)\" d=\"M4362.01 74.3863 Q4358.4 74.3863 4356.57 77.9511 Q4354.76 81.4927 4354.76 88.6223 Q4354.76 95.7288 4356.57 99.2936 Q4358.4 102.835 4362.01 102.835 Q4365.64 102.835 4367.45 99.2936 Q4369.28 95.7288 4369.28 88.6223 Q4369.28 81.4927 4367.45 77.9511 Q4365.64 74.3863 4362.01 74.3863 M4362.01 70.6826 Q4367.82 70.6826 4370.88 75.2891 Q4373.95 79.8724 4373.95 88.6223 Q4373.95 97.3491 4370.88 101.956 Q4367.82 106.539 4362.01 106.539 Q4356.2 106.539 4353.12 101.956 Q4350.07 97.3491 4350.07 88.6223 Q4350.07 79.8724 4353.12 75.2891 Q4356.2 70.6826 4362.01 70.6826 Z\" fill=\"#000000\" fill-rule=\"evenodd\" fill-opacity=\"1\" /><path clip-path=\"url(#clip674)\" d=\"\n",
       "M5915.78 777.646 L5915.78 1466.7 L5921.61 1466.7 L5921.61 777.646 L5915.78 777.646 L5915.78 777.646  Z\n",
       "  \" fill=\"#ff0000\" fill-rule=\"evenodd\" fill-opacity=\"1\"/>\n",
       "<polyline clip-path=\"url(#clip674)\" style=\"stroke:#000000; stroke-linecap:butt; stroke-linejoin:round; stroke-width:4; stroke-opacity:1; fill:none\" points=\"\n",
       "  5915.78,777.646 5915.78,1466.7 5921.61,1466.7 5921.61,777.646 5915.78,777.646 \n",
       "  \"/>\n",
       "<path clip-path=\"url(#clip674)\" d=\"\n",
       "M5921.61 1466.7 L5921.61 1466.7 L5927.43 1466.7 L5927.43 1466.7 L5921.61 1466.7 L5921.61 1466.7  Z\n",
       "  \" fill=\"#ff0000\" fill-rule=\"evenodd\" fill-opacity=\"1\"/>\n",
       "<polyline clip-path=\"url(#clip674)\" style=\"stroke:#000000; stroke-linecap:butt; stroke-linejoin:round; stroke-width:4; stroke-opacity:1; fill:none\" points=\"\n",
       "  5921.61,1466.7 5921.61,1466.7 5927.43,1466.7 5921.61,1466.7 \n",
       "  \"/>\n",
       "<path clip-path=\"url(#clip674)\" d=\"\n",
       "M5927.43 1466.7 L5927.43 1466.7 L5933.25 1466.7 L5933.25 1466.7 L5927.43 1466.7 L5927.43 1466.7  Z\n",
       "  \" fill=\"#ff0000\" fill-rule=\"evenodd\" fill-opacity=\"1\"/>\n",
       "<polyline clip-path=\"url(#clip674)\" style=\"stroke:#000000; stroke-linecap:butt; stroke-linejoin:round; stroke-width:4; stroke-opacity:1; fill:none\" points=\"\n",
       "  5927.43,1466.7 5927.43,1466.7 5933.25,1466.7 5927.43,1466.7 \n",
       "  \"/>\n",
       "<path clip-path=\"url(#clip674)\" d=\"\n",
       "M5933.25 1466.7 L5933.25 1466.7 L5939.07 1466.7 L5939.07 1466.7 L5933.25 1466.7 L5933.25 1466.7  Z\n",
       "  \" fill=\"#ff0000\" fill-rule=\"evenodd\" fill-opacity=\"1\"/>\n",
       "<polyline clip-path=\"url(#clip674)\" style=\"stroke:#000000; stroke-linecap:butt; stroke-linejoin:round; stroke-width:4; stroke-opacity:1; fill:none\" points=\"\n",
       "  5933.25,1466.7 5933.25,1466.7 5939.07,1466.7 5933.25,1466.7 \n",
       "  \"/>\n",
       "<path clip-path=\"url(#clip674)\" d=\"\n",
       "M5939.07 1466.7 L5939.07 1466.7 L5944.89 1466.7 L5944.89 1466.7 L5939.07 1466.7 L5939.07 1466.7  Z\n",
       "  \" fill=\"#ff0000\" fill-rule=\"evenodd\" fill-opacity=\"1\"/>\n",
       "<polyline clip-path=\"url(#clip674)\" style=\"stroke:#000000; stroke-linecap:butt; stroke-linejoin:round; stroke-width:4; stroke-opacity:1; fill:none\" points=\"\n",
       "  5939.07,1466.7 5939.07,1466.7 5944.89,1466.7 5939.07,1466.7 \n",
       "  \"/>\n",
       "<path clip-path=\"url(#clip674)\" d=\"\n",
       "M5944.89 1466.7 L5944.89 1466.7 L5950.71 1466.7 L5950.71 1466.7 L5944.89 1466.7 L5944.89 1466.7  Z\n",
       "  \" fill=\"#ff0000\" fill-rule=\"evenodd\" fill-opacity=\"1\"/>\n",
       "<polyline clip-path=\"url(#clip674)\" style=\"stroke:#000000; stroke-linecap:butt; stroke-linejoin:round; stroke-width:4; stroke-opacity:1; fill:none\" points=\"\n",
       "  5944.89,1466.7 5944.89,1466.7 5950.71,1466.7 5944.89,1466.7 \n",
       "  \"/>\n",
       "<path clip-path=\"url(#clip674)\" d=\"\n",
       "M5950.71 1466.7 L5950.71 1466.7 L5956.53 1466.7 L5956.53 1466.7 L5950.71 1466.7 L5950.71 1466.7  Z\n",
       "  \" fill=\"#ff0000\" fill-rule=\"evenodd\" fill-opacity=\"1\"/>\n",
       "<polyline clip-path=\"url(#clip674)\" style=\"stroke:#000000; stroke-linecap:butt; stroke-linejoin:round; stroke-width:4; stroke-opacity:1; fill:none\" points=\"\n",
       "  5950.71,1466.7 5950.71,1466.7 5956.53,1466.7 5950.71,1466.7 \n",
       "  \"/>\n",
       "<path clip-path=\"url(#clip674)\" d=\"\n",
       "M5956.53 1466.7 L5956.53 1466.7 L5962.35 1466.7 L5962.35 1466.7 L5956.53 1466.7 L5956.53 1466.7  Z\n",
       "  \" fill=\"#ff0000\" fill-rule=\"evenodd\" fill-opacity=\"1\"/>\n",
       "<polyline clip-path=\"url(#clip674)\" style=\"stroke:#000000; stroke-linecap:butt; stroke-linejoin:round; stroke-width:4; stroke-opacity:1; fill:none\" points=\"\n",
       "  5956.53,1466.7 5956.53,1466.7 5962.35,1466.7 5956.53,1466.7 \n",
       "  \"/>\n",
       "<path clip-path=\"url(#clip674)\" d=\"\n",
       "M5962.35 1466.7 L5962.35 1466.7 L5968.17 1466.7 L5968.17 1466.7 L5962.35 1466.7 L5962.35 1466.7  Z\n",
       "  \" fill=\"#ff0000\" fill-rule=\"evenodd\" fill-opacity=\"1\"/>\n",
       "<polyline clip-path=\"url(#clip674)\" style=\"stroke:#000000; stroke-linecap:butt; stroke-linejoin:round; stroke-width:4; stroke-opacity:1; fill:none\" points=\"\n",
       "  5962.35,1466.7 5962.35,1466.7 5968.17,1466.7 5962.35,1466.7 \n",
       "  \"/>\n",
       "<path clip-path=\"url(#clip674)\" d=\"\n",
       "M5968.17 1466.7 L5968.17 1466.7 L5973.99 1466.7 L5973.99 1466.7 L5968.17 1466.7 L5968.17 1466.7  Z\n",
       "  \" fill=\"#ff0000\" fill-rule=\"evenodd\" fill-opacity=\"1\"/>\n",
       "<polyline clip-path=\"url(#clip674)\" style=\"stroke:#000000; stroke-linecap:butt; stroke-linejoin:round; stroke-width:4; stroke-opacity:1; fill:none\" points=\"\n",
       "  5968.17,1466.7 5968.17,1466.7 5973.99,1466.7 5968.17,1466.7 \n",
       "  \"/>\n",
       "<path clip-path=\"url(#clip674)\" d=\"\n",
       "M5973.99 1466.7 L5973.99 1466.7 L5979.81 1466.7 L5979.81 1466.7 L5973.99 1466.7 L5973.99 1466.7  Z\n",
       "  \" fill=\"#ff0000\" fill-rule=\"evenodd\" fill-opacity=\"1\"/>\n",
       "<polyline clip-path=\"url(#clip674)\" style=\"stroke:#000000; stroke-linecap:butt; stroke-linejoin:round; stroke-width:4; stroke-opacity:1; fill:none\" points=\"\n",
       "  5973.99,1466.7 5973.99,1466.7 5979.81,1466.7 5973.99,1466.7 \n",
       "  \"/>\n",
       "<path clip-path=\"url(#clip674)\" d=\"\n",
       "M5979.81 1466.7 L5979.81 1466.7 L5985.63 1466.7 L5985.63 1466.7 L5979.81 1466.7 L5979.81 1466.7  Z\n",
       "  \" fill=\"#ff0000\" fill-rule=\"evenodd\" fill-opacity=\"1\"/>\n",
       "<polyline clip-path=\"url(#clip674)\" style=\"stroke:#000000; stroke-linecap:butt; stroke-linejoin:round; stroke-width:4; stroke-opacity:1; fill:none\" points=\"\n",
       "  5979.81,1466.7 5979.81,1466.7 5985.63,1466.7 5979.81,1466.7 \n",
       "  \"/>\n",
       "<path clip-path=\"url(#clip674)\" d=\"\n",
       "M5985.63 777.646 L5985.63 1466.7 L5991.45 1466.7 L5991.45 777.646 L5985.63 777.646 L5985.63 777.646  Z\n",
       "  \" fill=\"#ff0000\" fill-rule=\"evenodd\" fill-opacity=\"1\"/>\n",
       "<polyline clip-path=\"url(#clip674)\" style=\"stroke:#000000; stroke-linecap:butt; stroke-linejoin:round; stroke-width:4; stroke-opacity:1; fill:none\" points=\"\n",
       "  5985.63,777.646 5985.63,1466.7 5991.45,1466.7 5991.45,777.646 5985.63,777.646 \n",
       "  \"/>\n",
       "<path clip-path=\"url(#clip674)\" d=\"\n",
       "M5991.45 777.646 L5991.45 1466.7 L5997.27 1466.7 L5997.27 777.646 L5991.45 777.646 L5991.45 777.646  Z\n",
       "  \" fill=\"#ff0000\" fill-rule=\"evenodd\" fill-opacity=\"1\"/>\n",
       "<polyline clip-path=\"url(#clip674)\" style=\"stroke:#000000; stroke-linecap:butt; stroke-linejoin:round; stroke-width:4; stroke-opacity:1; fill:none\" points=\"\n",
       "  5991.45,777.646 5991.45,1466.7 5997.27,1466.7 5997.27,777.646 5991.45,777.646 \n",
       "  \"/>\n",
       "<path clip-path=\"url(#clip674)\" d=\"\n",
       "M5997.27 1466.7 L5997.27 1466.7 L6003.09 1466.7 L6003.09 1466.7 L5997.27 1466.7 L5997.27 1466.7  Z\n",
       "  \" fill=\"#ff0000\" fill-rule=\"evenodd\" fill-opacity=\"1\"/>\n",
       "<polyline clip-path=\"url(#clip674)\" style=\"stroke:#000000; stroke-linecap:butt; stroke-linejoin:round; stroke-width:4; stroke-opacity:1; fill:none\" points=\"\n",
       "  5997.27,1466.7 5997.27,1466.7 6003.09,1466.7 5997.27,1466.7 \n",
       "  \"/>\n",
       "<path clip-path=\"url(#clip674)\" d=\"\n",
       "M6003.09 777.646 L6003.09 1466.7 L6008.91 1466.7 L6008.91 777.646 L6003.09 777.646 L6003.09 777.646  Z\n",
       "  \" fill=\"#ff0000\" fill-rule=\"evenodd\" fill-opacity=\"1\"/>\n",
       "<polyline clip-path=\"url(#clip674)\" style=\"stroke:#000000; stroke-linecap:butt; stroke-linejoin:round; stroke-width:4; stroke-opacity:1; fill:none\" points=\"\n",
       "  6003.09,777.646 6003.09,1466.7 6008.91,1466.7 6008.91,777.646 6003.09,777.646 \n",
       "  \"/>\n",
       "<path clip-path=\"url(#clip674)\" d=\"\n",
       "M6008.91 1466.7 L6008.91 1466.7 L6014.73 1466.7 L6014.73 1466.7 L6008.91 1466.7 L6008.91 1466.7  Z\n",
       "  \" fill=\"#ff0000\" fill-rule=\"evenodd\" fill-opacity=\"1\"/>\n",
       "<polyline clip-path=\"url(#clip674)\" style=\"stroke:#000000; stroke-linecap:butt; stroke-linejoin:round; stroke-width:4; stroke-opacity:1; fill:none\" points=\"\n",
       "  6008.91,1466.7 6008.91,1466.7 6014.73,1466.7 6008.91,1466.7 \n",
       "  \"/>\n",
       "<path clip-path=\"url(#clip674)\" d=\"\n",
       "M6014.73 777.646 L6014.73 1466.7 L6020.55 1466.7 L6020.55 777.646 L6014.73 777.646 L6014.73 777.646  Z\n",
       "  \" fill=\"#ff0000\" fill-rule=\"evenodd\" fill-opacity=\"1\"/>\n",
       "<polyline clip-path=\"url(#clip674)\" style=\"stroke:#000000; stroke-linecap:butt; stroke-linejoin:round; stroke-width:4; stroke-opacity:1; fill:none\" points=\"\n",
       "  6014.73,777.646 6014.73,1466.7 6020.55,1466.7 6020.55,777.646 6014.73,777.646 \n",
       "  \"/>\n",
       "<path clip-path=\"url(#clip674)\" d=\"\n",
       "M6020.55 1466.7 L6020.55 1466.7 L6026.37 1466.7 L6026.37 1466.7 L6020.55 1466.7 L6020.55 1466.7  Z\n",
       "  \" fill=\"#ff0000\" fill-rule=\"evenodd\" fill-opacity=\"1\"/>\n",
       "<polyline clip-path=\"url(#clip674)\" style=\"stroke:#000000; stroke-linecap:butt; stroke-linejoin:round; stroke-width:4; stroke-opacity:1; fill:none\" points=\"\n",
       "  6020.55,1466.7 6020.55,1466.7 6026.37,1466.7 6020.55,1466.7 \n",
       "  \"/>\n",
       "<path clip-path=\"url(#clip674)\" d=\"\n",
       "M6026.37 1466.7 L6026.37 1466.7 L6032.19 1466.7 L6032.19 1466.7 L6026.37 1466.7 L6026.37 1466.7  Z\n",
       "  \" fill=\"#ff0000\" fill-rule=\"evenodd\" fill-opacity=\"1\"/>\n",
       "<polyline clip-path=\"url(#clip674)\" style=\"stroke:#000000; stroke-linecap:butt; stroke-linejoin:round; stroke-width:4; stroke-opacity:1; fill:none\" points=\"\n",
       "  6026.37,1466.7 6026.37,1466.7 6032.19,1466.7 6026.37,1466.7 \n",
       "  \"/>\n",
       "<path clip-path=\"url(#clip674)\" d=\"\n",
       "M6032.19 1466.7 L6032.19 1466.7 L6038.01 1466.7 L6038.01 1466.7 L6032.19 1466.7 L6032.19 1466.7  Z\n",
       "  \" fill=\"#ff0000\" fill-rule=\"evenodd\" fill-opacity=\"1\"/>\n",
       "<polyline clip-path=\"url(#clip674)\" style=\"stroke:#000000; stroke-linecap:butt; stroke-linejoin:round; stroke-width:4; stroke-opacity:1; fill:none\" points=\"\n",
       "  6032.19,1466.7 6032.19,1466.7 6038.01,1466.7 6032.19,1466.7 \n",
       "  \"/>\n",
       "<path clip-path=\"url(#clip674)\" d=\"\n",
       "M6038.01 1466.7 L6038.01 1466.7 L6043.83 1466.7 L6043.83 1466.7 L6038.01 1466.7 L6038.01 1466.7  Z\n",
       "  \" fill=\"#ff0000\" fill-rule=\"evenodd\" fill-opacity=\"1\"/>\n",
       "<polyline clip-path=\"url(#clip674)\" style=\"stroke:#000000; stroke-linecap:butt; stroke-linejoin:round; stroke-width:4; stroke-opacity:1; fill:none\" points=\"\n",
       "  6038.01,1466.7 6038.01,1466.7 6043.83,1466.7 6038.01,1466.7 \n",
       "  \"/>\n",
       "<path clip-path=\"url(#clip674)\" d=\"\n",
       "M6043.83 1466.7 L6043.83 1466.7 L6049.66 1466.7 L6049.66 1466.7 L6043.83 1466.7 L6043.83 1466.7  Z\n",
       "  \" fill=\"#ff0000\" fill-rule=\"evenodd\" fill-opacity=\"1\"/>\n",
       "<polyline clip-path=\"url(#clip674)\" style=\"stroke:#000000; stroke-linecap:butt; stroke-linejoin:round; stroke-width:4; stroke-opacity:1; fill:none\" points=\"\n",
       "  6043.83,1466.7 6043.83,1466.7 6049.66,1466.7 6043.83,1466.7 \n",
       "  \"/>\n",
       "<path clip-path=\"url(#clip674)\" d=\"\n",
       "M6049.66 1466.7 L6049.66 1466.7 L6055.48 1466.7 L6055.48 1466.7 L6049.66 1466.7 L6049.66 1466.7  Z\n",
       "  \" fill=\"#ff0000\" fill-rule=\"evenodd\" fill-opacity=\"1\"/>\n",
       "<polyline clip-path=\"url(#clip674)\" style=\"stroke:#000000; stroke-linecap:butt; stroke-linejoin:round; stroke-width:4; stroke-opacity:1; fill:none\" points=\"\n",
       "  6049.66,1466.7 6049.66,1466.7 6055.48,1466.7 6049.66,1466.7 \n",
       "  \"/>\n",
       "<path clip-path=\"url(#clip674)\" d=\"\n",
       "M6055.48 777.646 L6055.48 1466.7 L6061.3 1466.7 L6061.3 777.646 L6055.48 777.646 L6055.48 777.646  Z\n",
       "  \" fill=\"#ff0000\" fill-rule=\"evenodd\" fill-opacity=\"1\"/>\n",
       "<polyline clip-path=\"url(#clip674)\" style=\"stroke:#000000; stroke-linecap:butt; stroke-linejoin:round; stroke-width:4; stroke-opacity:1; fill:none\" points=\"\n",
       "  6055.48,777.646 6055.48,1466.7 6061.3,1466.7 6061.3,777.646 6055.48,777.646 \n",
       "  \"/>\n",
       "<path clip-path=\"url(#clip674)\" d=\"\n",
       "M6061.3 1466.7 L6061.3 1466.7 L6067.12 1466.7 L6067.12 1466.7 L6061.3 1466.7 L6061.3 1466.7  Z\n",
       "  \" fill=\"#ff0000\" fill-rule=\"evenodd\" fill-opacity=\"1\"/>\n",
       "<polyline clip-path=\"url(#clip674)\" style=\"stroke:#000000; stroke-linecap:butt; stroke-linejoin:round; stroke-width:4; stroke-opacity:1; fill:none\" points=\"\n",
       "  6061.3,1466.7 6061.3,1466.7 6067.12,1466.7 6061.3,1466.7 \n",
       "  \"/>\n",
       "<path clip-path=\"url(#clip674)\" d=\"\n",
       "M6067.12 1466.7 L6067.12 1466.7 L6072.94 1466.7 L6072.94 1466.7 L6067.12 1466.7 L6067.12 1466.7  Z\n",
       "  \" fill=\"#ff0000\" fill-rule=\"evenodd\" fill-opacity=\"1\"/>\n",
       "<polyline clip-path=\"url(#clip674)\" style=\"stroke:#000000; stroke-linecap:butt; stroke-linejoin:round; stroke-width:4; stroke-opacity:1; fill:none\" points=\"\n",
       "  6067.12,1466.7 6067.12,1466.7 6072.94,1466.7 6067.12,1466.7 \n",
       "  \"/>\n",
       "<path clip-path=\"url(#clip674)\" d=\"\n",
       "M6072.94 777.646 L6072.94 1466.7 L6078.76 1466.7 L6078.76 777.646 L6072.94 777.646 L6072.94 777.646  Z\n",
       "  \" fill=\"#ff0000\" fill-rule=\"evenodd\" fill-opacity=\"1\"/>\n",
       "<polyline clip-path=\"url(#clip674)\" style=\"stroke:#000000; stroke-linecap:butt; stroke-linejoin:round; stroke-width:4; stroke-opacity:1; fill:none\" points=\"\n",
       "  6072.94,777.646 6072.94,1466.7 6078.76,1466.7 6078.76,777.646 6072.94,777.646 \n",
       "  \"/>\n",
       "<path clip-path=\"url(#clip674)\" d=\"\n",
       "M6078.76 1466.7 L6078.76 1466.7 L6084.58 1466.7 L6084.58 1466.7 L6078.76 1466.7 L6078.76 1466.7  Z\n",
       "  \" fill=\"#ff0000\" fill-rule=\"evenodd\" fill-opacity=\"1\"/>\n",
       "<polyline clip-path=\"url(#clip674)\" style=\"stroke:#000000; stroke-linecap:butt; stroke-linejoin:round; stroke-width:4; stroke-opacity:1; fill:none\" points=\"\n",
       "  6078.76,1466.7 6078.76,1466.7 6084.58,1466.7 6078.76,1466.7 \n",
       "  \"/>\n",
       "<path clip-path=\"url(#clip674)\" d=\"\n",
       "M6084.58 1466.7 L6084.58 1466.7 L6090.4 1466.7 L6090.4 1466.7 L6084.58 1466.7 L6084.58 1466.7  Z\n",
       "  \" fill=\"#ff0000\" fill-rule=\"evenodd\" fill-opacity=\"1\"/>\n",
       "<polyline clip-path=\"url(#clip674)\" style=\"stroke:#000000; stroke-linecap:butt; stroke-linejoin:round; stroke-width:4; stroke-opacity:1; fill:none\" points=\"\n",
       "  6084.58,1466.7 6084.58,1466.7 6090.4,1466.7 6084.58,1466.7 \n",
       "  \"/>\n",
       "<path clip-path=\"url(#clip674)\" d=\"\n",
       "M6090.4 1466.7 L6090.4 1466.7 L6096.22 1466.7 L6096.22 1466.7 L6090.4 1466.7 L6090.4 1466.7  Z\n",
       "  \" fill=\"#ff0000\" fill-rule=\"evenodd\" fill-opacity=\"1\"/>\n",
       "<polyline clip-path=\"url(#clip674)\" style=\"stroke:#000000; stroke-linecap:butt; stroke-linejoin:round; stroke-width:4; stroke-opacity:1; fill:none\" points=\"\n",
       "  6090.4,1466.7 6090.4,1466.7 6096.22,1466.7 6090.4,1466.7 \n",
       "  \"/>\n",
       "<path clip-path=\"url(#clip674)\" d=\"\n",
       "M6096.22 777.646 L6096.22 1466.7 L6102.04 1466.7 L6102.04 777.646 L6096.22 777.646 L6096.22 777.646  Z\n",
       "  \" fill=\"#ff0000\" fill-rule=\"evenodd\" fill-opacity=\"1\"/>\n",
       "<polyline clip-path=\"url(#clip674)\" style=\"stroke:#000000; stroke-linecap:butt; stroke-linejoin:round; stroke-width:4; stroke-opacity:1; fill:none\" points=\"\n",
       "  6096.22,777.646 6096.22,1466.7 6102.04,1466.7 6102.04,777.646 6096.22,777.646 \n",
       "  \"/>\n",
       "<path clip-path=\"url(#clip674)\" d=\"\n",
       "M6102.04 1466.7 L6102.04 1466.7 L6107.86 1466.7 L6107.86 1466.7 L6102.04 1466.7 L6102.04 1466.7  Z\n",
       "  \" fill=\"#ff0000\" fill-rule=\"evenodd\" fill-opacity=\"1\"/>\n",
       "<polyline clip-path=\"url(#clip674)\" style=\"stroke:#000000; stroke-linecap:butt; stroke-linejoin:round; stroke-width:4; stroke-opacity:1; fill:none\" points=\"\n",
       "  6102.04,1466.7 6102.04,1466.7 6107.86,1466.7 6102.04,1466.7 \n",
       "  \"/>\n",
       "<path clip-path=\"url(#clip674)\" d=\"\n",
       "M6107.86 777.646 L6107.86 1466.7 L6113.68 1466.7 L6113.68 777.646 L6107.86 777.646 L6107.86 777.646  Z\n",
       "  \" fill=\"#ff0000\" fill-rule=\"evenodd\" fill-opacity=\"1\"/>\n",
       "<polyline clip-path=\"url(#clip674)\" style=\"stroke:#000000; stroke-linecap:butt; stroke-linejoin:round; stroke-width:4; stroke-opacity:1; fill:none\" points=\"\n",
       "  6107.86,777.646 6107.86,1466.7 6113.68,1466.7 6113.68,777.646 6107.86,777.646 \n",
       "  \"/>\n",
       "<path clip-path=\"url(#clip674)\" d=\"\n",
       "M6113.68 777.646 L6113.68 1466.7 L6119.5 1466.7 L6119.5 777.646 L6113.68 777.646 L6113.68 777.646  Z\n",
       "  \" fill=\"#ff0000\" fill-rule=\"evenodd\" fill-opacity=\"1\"/>\n",
       "<polyline clip-path=\"url(#clip674)\" style=\"stroke:#000000; stroke-linecap:butt; stroke-linejoin:round; stroke-width:4; stroke-opacity:1; fill:none\" points=\"\n",
       "  6113.68,777.646 6113.68,1466.7 6119.5,1466.7 6119.5,777.646 6113.68,777.646 \n",
       "  \"/>\n",
       "<path clip-path=\"url(#clip674)\" d=\"\n",
       "M6119.5 1466.7 L6119.5 1466.7 L6125.32 1466.7 L6125.32 1466.7 L6119.5 1466.7 L6119.5 1466.7  Z\n",
       "  \" fill=\"#ff0000\" fill-rule=\"evenodd\" fill-opacity=\"1\"/>\n",
       "<polyline clip-path=\"url(#clip674)\" style=\"stroke:#000000; stroke-linecap:butt; stroke-linejoin:round; stroke-width:4; stroke-opacity:1; fill:none\" points=\"\n",
       "  6119.5,1466.7 6119.5,1466.7 6125.32,1466.7 6119.5,1466.7 \n",
       "  \"/>\n",
       "<path clip-path=\"url(#clip674)\" d=\"\n",
       "M6125.32 1466.7 L6125.32 1466.7 L6131.14 1466.7 L6131.14 1466.7 L6125.32 1466.7 L6125.32 1466.7  Z\n",
       "  \" fill=\"#ff0000\" fill-rule=\"evenodd\" fill-opacity=\"1\"/>\n",
       "<polyline clip-path=\"url(#clip674)\" style=\"stroke:#000000; stroke-linecap:butt; stroke-linejoin:round; stroke-width:4; stroke-opacity:1; fill:none\" points=\"\n",
       "  6125.32,1466.7 6125.32,1466.7 6131.14,1466.7 6125.32,1466.7 \n",
       "  \"/>\n",
       "<path clip-path=\"url(#clip674)\" d=\"\n",
       "M6131.14 1466.7 L6131.14 1466.7 L6136.96 1466.7 L6136.96 1466.7 L6131.14 1466.7 L6131.14 1466.7  Z\n",
       "  \" fill=\"#ff0000\" fill-rule=\"evenodd\" fill-opacity=\"1\"/>\n",
       "<polyline clip-path=\"url(#clip674)\" style=\"stroke:#000000; stroke-linecap:butt; stroke-linejoin:round; stroke-width:4; stroke-opacity:1; fill:none\" points=\"\n",
       "  6131.14,1466.7 6131.14,1466.7 6136.96,1466.7 6131.14,1466.7 \n",
       "  \"/>\n",
       "<path clip-path=\"url(#clip674)\" d=\"\n",
       "M6136.96 1466.7 L6136.96 1466.7 L6142.78 1466.7 L6142.78 1466.7 L6136.96 1466.7 L6136.96 1466.7  Z\n",
       "  \" fill=\"#ff0000\" fill-rule=\"evenodd\" fill-opacity=\"1\"/>\n",
       "<polyline clip-path=\"url(#clip674)\" style=\"stroke:#000000; stroke-linecap:butt; stroke-linejoin:round; stroke-width:4; stroke-opacity:1; fill:none\" points=\"\n",
       "  6136.96,1466.7 6136.96,1466.7 6142.78,1466.7 6136.96,1466.7 \n",
       "  \"/>\n",
       "<path clip-path=\"url(#clip674)\" d=\"\n",
       "M6142.78 1466.7 L6142.78 1466.7 L6148.6 1466.7 L6148.6 1466.7 L6142.78 1466.7 L6142.78 1466.7  Z\n",
       "  \" fill=\"#ff0000\" fill-rule=\"evenodd\" fill-opacity=\"1\"/>\n",
       "<polyline clip-path=\"url(#clip674)\" style=\"stroke:#000000; stroke-linecap:butt; stroke-linejoin:round; stroke-width:4; stroke-opacity:1; fill:none\" points=\"\n",
       "  6142.78,1466.7 6142.78,1466.7 6148.6,1466.7 6142.78,1466.7 \n",
       "  \"/>\n",
       "<path clip-path=\"url(#clip674)\" d=\"\n",
       "M6148.6 777.646 L6148.6 1466.7 L6154.42 1466.7 L6154.42 777.646 L6148.6 777.646 L6148.6 777.646  Z\n",
       "  \" fill=\"#ff0000\" fill-rule=\"evenodd\" fill-opacity=\"1\"/>\n",
       "<polyline clip-path=\"url(#clip674)\" style=\"stroke:#000000; stroke-linecap:butt; stroke-linejoin:round; stroke-width:4; stroke-opacity:1; fill:none\" points=\"\n",
       "  6148.6,777.646 6148.6,1466.7 6154.42,1466.7 6154.42,777.646 6148.6,777.646 \n",
       "  \"/>\n",
       "<path clip-path=\"url(#clip674)\" d=\"\n",
       "M6154.42 777.646 L6154.42 1466.7 L6160.24 1466.7 L6160.24 777.646 L6154.42 777.646 L6154.42 777.646  Z\n",
       "  \" fill=\"#ff0000\" fill-rule=\"evenodd\" fill-opacity=\"1\"/>\n",
       "<polyline clip-path=\"url(#clip674)\" style=\"stroke:#000000; stroke-linecap:butt; stroke-linejoin:round; stroke-width:4; stroke-opacity:1; fill:none\" points=\"\n",
       "  6154.42,777.646 6154.42,1466.7 6160.24,1466.7 6160.24,777.646 6154.42,777.646 \n",
       "  \"/>\n",
       "<path clip-path=\"url(#clip674)\" d=\"\n",
       "M6160.24 1466.7 L6160.24 1466.7 L6166.06 1466.7 L6166.06 1466.7 L6160.24 1466.7 L6160.24 1466.7  Z\n",
       "  \" fill=\"#ff0000\" fill-rule=\"evenodd\" fill-opacity=\"1\"/>\n",
       "<polyline clip-path=\"url(#clip674)\" style=\"stroke:#000000; stroke-linecap:butt; stroke-linejoin:round; stroke-width:4; stroke-opacity:1; fill:none\" points=\"\n",
       "  6160.24,1466.7 6160.24,1466.7 6166.06,1466.7 6160.24,1466.7 \n",
       "  \"/>\n",
       "<path clip-path=\"url(#clip674)\" d=\"\n",
       "M6166.06 1466.7 L6166.06 1466.7 L6171.88 1466.7 L6171.88 1466.7 L6166.06 1466.7 L6166.06 1466.7  Z\n",
       "  \" fill=\"#ff0000\" fill-rule=\"evenodd\" fill-opacity=\"1\"/>\n",
       "<polyline clip-path=\"url(#clip674)\" style=\"stroke:#000000; stroke-linecap:butt; stroke-linejoin:round; stroke-width:4; stroke-opacity:1; fill:none\" points=\"\n",
       "  6166.06,1466.7 6166.06,1466.7 6171.88,1466.7 6166.06,1466.7 \n",
       "  \"/>\n",
       "<path clip-path=\"url(#clip674)\" d=\"\n",
       "M6171.88 1466.7 L6171.88 1466.7 L6177.71 1466.7 L6177.71 1466.7 L6171.88 1466.7 L6171.88 1466.7  Z\n",
       "  \" fill=\"#ff0000\" fill-rule=\"evenodd\" fill-opacity=\"1\"/>\n",
       "<polyline clip-path=\"url(#clip674)\" style=\"stroke:#000000; stroke-linecap:butt; stroke-linejoin:round; stroke-width:4; stroke-opacity:1; fill:none\" points=\"\n",
       "  6171.88,1466.7 6171.88,1466.7 6177.71,1466.7 6171.88,1466.7 \n",
       "  \"/>\n",
       "<path clip-path=\"url(#clip674)\" d=\"\n",
       "M6177.71 1466.7 L6177.71 1466.7 L6183.53 1466.7 L6183.53 1466.7 L6177.71 1466.7 L6177.71 1466.7  Z\n",
       "  \" fill=\"#ff0000\" fill-rule=\"evenodd\" fill-opacity=\"1\"/>\n",
       "<polyline clip-path=\"url(#clip674)\" style=\"stroke:#000000; stroke-linecap:butt; stroke-linejoin:round; stroke-width:4; stroke-opacity:1; fill:none\" points=\"\n",
       "  6177.71,1466.7 6177.71,1466.7 6183.53,1466.7 6177.71,1466.7 \n",
       "  \"/>\n",
       "<path clip-path=\"url(#clip674)\" d=\"\n",
       "M6183.53 1466.7 L6183.53 1466.7 L6189.35 1466.7 L6189.35 1466.7 L6183.53 1466.7 L6183.53 1466.7  Z\n",
       "  \" fill=\"#ff0000\" fill-rule=\"evenodd\" fill-opacity=\"1\"/>\n",
       "<polyline clip-path=\"url(#clip674)\" style=\"stroke:#000000; stroke-linecap:butt; stroke-linejoin:round; stroke-width:4; stroke-opacity:1; fill:none\" points=\"\n",
       "  6183.53,1466.7 6183.53,1466.7 6189.35,1466.7 6183.53,1466.7 \n",
       "  \"/>\n",
       "<path clip-path=\"url(#clip674)\" d=\"\n",
       "M6189.35 1466.7 L6189.35 1466.7 L6195.17 1466.7 L6195.17 1466.7 L6189.35 1466.7 L6189.35 1466.7  Z\n",
       "  \" fill=\"#ff0000\" fill-rule=\"evenodd\" fill-opacity=\"1\"/>\n",
       "<polyline clip-path=\"url(#clip674)\" style=\"stroke:#000000; stroke-linecap:butt; stroke-linejoin:round; stroke-width:4; stroke-opacity:1; fill:none\" points=\"\n",
       "  6189.35,1466.7 6189.35,1466.7 6195.17,1466.7 6189.35,1466.7 \n",
       "  \"/>\n",
       "<path clip-path=\"url(#clip674)\" d=\"\n",
       "M6195.17 777.646 L6195.17 1466.7 L6200.99 1466.7 L6200.99 777.646 L6195.17 777.646 L6195.17 777.646  Z\n",
       "  \" fill=\"#ff0000\" fill-rule=\"evenodd\" fill-opacity=\"1\"/>\n",
       "<polyline clip-path=\"url(#clip674)\" style=\"stroke:#000000; stroke-linecap:butt; stroke-linejoin:round; stroke-width:4; stroke-opacity:1; fill:none\" points=\"\n",
       "  6195.17,777.646 6195.17,1466.7 6200.99,1466.7 6200.99,777.646 6195.17,777.646 \n",
       "  \"/>\n",
       "<path clip-path=\"url(#clip674)\" d=\"\n",
       "M6200.99 1466.7 L6200.99 1466.7 L6206.81 1466.7 L6206.81 1466.7 L6200.99 1466.7 L6200.99 1466.7  Z\n",
       "  \" fill=\"#ff0000\" fill-rule=\"evenodd\" fill-opacity=\"1\"/>\n",
       "<polyline clip-path=\"url(#clip674)\" style=\"stroke:#000000; stroke-linecap:butt; stroke-linejoin:round; stroke-width:4; stroke-opacity:1; fill:none\" points=\"\n",
       "  6200.99,1466.7 6200.99,1466.7 6206.81,1466.7 6200.99,1466.7 \n",
       "  \"/>\n",
       "<path clip-path=\"url(#clip674)\" d=\"\n",
       "M6206.81 1466.7 L6206.81 1466.7 L6212.63 1466.7 L6212.63 1466.7 L6206.81 1466.7 L6206.81 1466.7  Z\n",
       "  \" fill=\"#ff0000\" fill-rule=\"evenodd\" fill-opacity=\"1\"/>\n",
       "<polyline clip-path=\"url(#clip674)\" style=\"stroke:#000000; stroke-linecap:butt; stroke-linejoin:round; stroke-width:4; stroke-opacity:1; fill:none\" points=\"\n",
       "  6206.81,1466.7 6206.81,1466.7 6212.63,1466.7 6206.81,1466.7 \n",
       "  \"/>\n",
       "<path clip-path=\"url(#clip674)\" d=\"\n",
       "M6212.63 1466.7 L6212.63 1466.7 L6218.45 1466.7 L6218.45 1466.7 L6212.63 1466.7 L6212.63 1466.7  Z\n",
       "  \" fill=\"#ff0000\" fill-rule=\"evenodd\" fill-opacity=\"1\"/>\n",
       "<polyline clip-path=\"url(#clip674)\" style=\"stroke:#000000; stroke-linecap:butt; stroke-linejoin:round; stroke-width:4; stroke-opacity:1; fill:none\" points=\"\n",
       "  6212.63,1466.7 6212.63,1466.7 6218.45,1466.7 6212.63,1466.7 \n",
       "  \"/>\n",
       "<path clip-path=\"url(#clip674)\" d=\"\n",
       "M6218.45 1466.7 L6218.45 1466.7 L6224.27 1466.7 L6224.27 1466.7 L6218.45 1466.7 L6218.45 1466.7  Z\n",
       "  \" fill=\"#ff0000\" fill-rule=\"evenodd\" fill-opacity=\"1\"/>\n",
       "<polyline clip-path=\"url(#clip674)\" style=\"stroke:#000000; stroke-linecap:butt; stroke-linejoin:round; stroke-width:4; stroke-opacity:1; fill:none\" points=\"\n",
       "  6218.45,1466.7 6218.45,1466.7 6224.27,1466.7 6218.45,1466.7 \n",
       "  \"/>\n",
       "<path clip-path=\"url(#clip674)\" d=\"\n",
       "M6224.27 1466.7 L6224.27 1466.7 L6230.09 1466.7 L6230.09 1466.7 L6224.27 1466.7 L6224.27 1466.7  Z\n",
       "  \" fill=\"#ff0000\" fill-rule=\"evenodd\" fill-opacity=\"1\"/>\n",
       "<polyline clip-path=\"url(#clip674)\" style=\"stroke:#000000; stroke-linecap:butt; stroke-linejoin:round; stroke-width:4; stroke-opacity:1; fill:none\" points=\"\n",
       "  6224.27,1466.7 6224.27,1466.7 6230.09,1466.7 6224.27,1466.7 \n",
       "  \"/>\n",
       "<path clip-path=\"url(#clip674)\" d=\"\n",
       "M6230.09 1466.7 L6230.09 1466.7 L6235.91 1466.7 L6235.91 1466.7 L6230.09 1466.7 L6230.09 1466.7  Z\n",
       "  \" fill=\"#ff0000\" fill-rule=\"evenodd\" fill-opacity=\"1\"/>\n",
       "<polyline clip-path=\"url(#clip674)\" style=\"stroke:#000000; stroke-linecap:butt; stroke-linejoin:round; stroke-width:4; stroke-opacity:1; fill:none\" points=\"\n",
       "  6230.09,1466.7 6230.09,1466.7 6235.91,1466.7 6230.09,1466.7 \n",
       "  \"/>\n",
       "<path clip-path=\"url(#clip674)\" d=\"\n",
       "M6235.91 1466.7 L6235.91 1466.7 L6241.73 1466.7 L6241.73 1466.7 L6235.91 1466.7 L6235.91 1466.7  Z\n",
       "  \" fill=\"#ff0000\" fill-rule=\"evenodd\" fill-opacity=\"1\"/>\n",
       "<polyline clip-path=\"url(#clip674)\" style=\"stroke:#000000; stroke-linecap:butt; stroke-linejoin:round; stroke-width:4; stroke-opacity:1; fill:none\" points=\"\n",
       "  6235.91,1466.7 6235.91,1466.7 6241.73,1466.7 6235.91,1466.7 \n",
       "  \"/>\n",
       "<path clip-path=\"url(#clip674)\" d=\"\n",
       "M6241.73 1466.7 L6241.73 1466.7 L6247.55 1466.7 L6247.55 1466.7 L6241.73 1466.7 L6241.73 1466.7  Z\n",
       "  \" fill=\"#ff0000\" fill-rule=\"evenodd\" fill-opacity=\"1\"/>\n",
       "<polyline clip-path=\"url(#clip674)\" style=\"stroke:#000000; stroke-linecap:butt; stroke-linejoin:round; stroke-width:4; stroke-opacity:1; fill:none\" points=\"\n",
       "  6241.73,1466.7 6241.73,1466.7 6247.55,1466.7 6241.73,1466.7 \n",
       "  \"/>\n",
       "<path clip-path=\"url(#clip674)\" d=\"\n",
       "M6247.55 1466.7 L6247.55 1466.7 L6253.37 1466.7 L6253.37 1466.7 L6247.55 1466.7 L6247.55 1466.7  Z\n",
       "  \" fill=\"#ff0000\" fill-rule=\"evenodd\" fill-opacity=\"1\"/>\n",
       "<polyline clip-path=\"url(#clip674)\" style=\"stroke:#000000; stroke-linecap:butt; stroke-linejoin:round; stroke-width:4; stroke-opacity:1; fill:none\" points=\"\n",
       "  6247.55,1466.7 6247.55,1466.7 6253.37,1466.7 6247.55,1466.7 \n",
       "  \"/>\n",
       "<path clip-path=\"url(#clip674)\" d=\"\n",
       "M6253.37 777.646 L6253.37 1466.7 L6259.19 1466.7 L6259.19 777.646 L6253.37 777.646 L6253.37 777.646  Z\n",
       "  \" fill=\"#ff0000\" fill-rule=\"evenodd\" fill-opacity=\"1\"/>\n",
       "<polyline clip-path=\"url(#clip674)\" style=\"stroke:#000000; stroke-linecap:butt; stroke-linejoin:round; stroke-width:4; stroke-opacity:1; fill:none\" points=\"\n",
       "  6253.37,777.646 6253.37,1466.7 6259.19,1466.7 6259.19,777.646 6253.37,777.646 \n",
       "  \"/>\n",
       "<path clip-path=\"url(#clip674)\" d=\"\n",
       "M6259.19 88.5876 L6259.19 1466.7 L6265.01 1466.7 L6265.01 88.5876 L6259.19 88.5876 L6259.19 88.5876  Z\n",
       "  \" fill=\"#ff0000\" fill-rule=\"evenodd\" fill-opacity=\"1\"/>\n",
       "<polyline clip-path=\"url(#clip674)\" style=\"stroke:#000000; stroke-linecap:butt; stroke-linejoin:round; stroke-width:4; stroke-opacity:1; fill:none\" points=\"\n",
       "  6259.19,88.5876 6259.19,1466.7 6265.01,1466.7 6265.01,88.5876 6259.19,88.5876 \n",
       "  \"/>\n",
       "<path clip-path=\"url(#clip674)\" d=\"\n",
       "M6265.01 1466.7 L6265.01 1466.7 L6270.83 1466.7 L6270.83 1466.7 L6265.01 1466.7 L6265.01 1466.7  Z\n",
       "  \" fill=\"#ff0000\" fill-rule=\"evenodd\" fill-opacity=\"1\"/>\n",
       "<polyline clip-path=\"url(#clip674)\" style=\"stroke:#000000; stroke-linecap:butt; stroke-linejoin:round; stroke-width:4; stroke-opacity:1; fill:none\" points=\"\n",
       "  6265.01,1466.7 6265.01,1466.7 6270.83,1466.7 6265.01,1466.7 \n",
       "  \"/>\n",
       "<path clip-path=\"url(#clip674)\" d=\"\n",
       "M6270.83 1466.7 L6270.83 1466.7 L6276.65 1466.7 L6276.65 1466.7 L6270.83 1466.7 L6270.83 1466.7  Z\n",
       "  \" fill=\"#ff0000\" fill-rule=\"evenodd\" fill-opacity=\"1\"/>\n",
       "<polyline clip-path=\"url(#clip674)\" style=\"stroke:#000000; stroke-linecap:butt; stroke-linejoin:round; stroke-width:4; stroke-opacity:1; fill:none\" points=\"\n",
       "  6270.83,1466.7 6270.83,1466.7 6276.65,1466.7 6270.83,1466.7 \n",
       "  \"/>\n",
       "<path clip-path=\"url(#clip674)\" d=\"\n",
       "M6276.65 777.646 L6276.65 1466.7 L6282.47 1466.7 L6282.47 777.646 L6276.65 777.646 L6276.65 777.646  Z\n",
       "  \" fill=\"#ff0000\" fill-rule=\"evenodd\" fill-opacity=\"1\"/>\n",
       "<polyline clip-path=\"url(#clip674)\" style=\"stroke:#000000; stroke-linecap:butt; stroke-linejoin:round; stroke-width:4; stroke-opacity:1; fill:none\" points=\"\n",
       "  6276.65,777.646 6276.65,1466.7 6282.47,1466.7 6282.47,777.646 6276.65,777.646 \n",
       "  \"/>\n",
       "<path clip-path=\"url(#clip674)\" d=\"\n",
       "M6282.47 777.646 L6282.47 1466.7 L6288.29 1466.7 L6288.29 777.646 L6282.47 777.646 L6282.47 777.646  Z\n",
       "  \" fill=\"#ff0000\" fill-rule=\"evenodd\" fill-opacity=\"1\"/>\n",
       "<polyline clip-path=\"url(#clip674)\" style=\"stroke:#000000; stroke-linecap:butt; stroke-linejoin:round; stroke-width:4; stroke-opacity:1; fill:none\" points=\"\n",
       "  6282.47,777.646 6282.47,1466.7 6288.29,1466.7 6288.29,777.646 6282.47,777.646 \n",
       "  \"/>\n",
       "<circle clip-path=\"url(#clip674)\" style=\"fill:#009af9; stroke:none; fill-opacity:0\" cx=\"5918.7\" cy=\"777.646\" r=\"2\"/>\n",
       "<circle clip-path=\"url(#clip674)\" style=\"fill:#009af9; stroke:none; fill-opacity:0\" cx=\"5924.52\" cy=\"1466.7\" r=\"2\"/>\n",
       "<circle clip-path=\"url(#clip674)\" style=\"fill:#009af9; stroke:none; fill-opacity:0\" cx=\"5930.34\" cy=\"1466.7\" r=\"2\"/>\n",
       "<circle clip-path=\"url(#clip674)\" style=\"fill:#009af9; stroke:none; fill-opacity:0\" cx=\"5936.16\" cy=\"1466.7\" r=\"2\"/>\n",
       "<circle clip-path=\"url(#clip674)\" style=\"fill:#009af9; stroke:none; fill-opacity:0\" cx=\"5941.98\" cy=\"1466.7\" r=\"2\"/>\n",
       "<circle clip-path=\"url(#clip674)\" style=\"fill:#009af9; stroke:none; fill-opacity:0\" cx=\"5947.8\" cy=\"1466.7\" r=\"2\"/>\n",
       "<circle clip-path=\"url(#clip674)\" style=\"fill:#009af9; stroke:none; fill-opacity:0\" cx=\"5953.62\" cy=\"1466.7\" r=\"2\"/>\n",
       "<circle clip-path=\"url(#clip674)\" style=\"fill:#009af9; stroke:none; fill-opacity:0\" cx=\"5959.44\" cy=\"1466.7\" r=\"2\"/>\n",
       "<circle clip-path=\"url(#clip674)\" style=\"fill:#009af9; stroke:none; fill-opacity:0\" cx=\"5965.26\" cy=\"1466.7\" r=\"2\"/>\n",
       "<circle clip-path=\"url(#clip674)\" style=\"fill:#009af9; stroke:none; fill-opacity:0\" cx=\"5971.08\" cy=\"1466.7\" r=\"2\"/>\n",
       "<circle clip-path=\"url(#clip674)\" style=\"fill:#009af9; stroke:none; fill-opacity:0\" cx=\"5976.9\" cy=\"1466.7\" r=\"2\"/>\n",
       "<circle clip-path=\"url(#clip674)\" style=\"fill:#009af9; stroke:none; fill-opacity:0\" cx=\"5982.72\" cy=\"1466.7\" r=\"2\"/>\n",
       "<circle clip-path=\"url(#clip674)\" style=\"fill:#009af9; stroke:none; fill-opacity:0\" cx=\"5988.54\" cy=\"777.646\" r=\"2\"/>\n",
       "<circle clip-path=\"url(#clip674)\" style=\"fill:#009af9; stroke:none; fill-opacity:0\" cx=\"5994.36\" cy=\"777.646\" r=\"2\"/>\n",
       "<circle clip-path=\"url(#clip674)\" style=\"fill:#009af9; stroke:none; fill-opacity:0\" cx=\"6000.18\" cy=\"1466.7\" r=\"2\"/>\n",
       "<circle clip-path=\"url(#clip674)\" style=\"fill:#009af9; stroke:none; fill-opacity:0\" cx=\"6006\" cy=\"777.646\" r=\"2\"/>\n",
       "<circle clip-path=\"url(#clip674)\" style=\"fill:#009af9; stroke:none; fill-opacity:0\" cx=\"6011.82\" cy=\"1466.7\" r=\"2\"/>\n",
       "<circle clip-path=\"url(#clip674)\" style=\"fill:#009af9; stroke:none; fill-opacity:0\" cx=\"6017.64\" cy=\"777.646\" r=\"2\"/>\n",
       "<circle clip-path=\"url(#clip674)\" style=\"fill:#009af9; stroke:none; fill-opacity:0\" cx=\"6023.46\" cy=\"1466.7\" r=\"2\"/>\n",
       "<circle clip-path=\"url(#clip674)\" style=\"fill:#009af9; stroke:none; fill-opacity:0\" cx=\"6029.28\" cy=\"1466.7\" r=\"2\"/>\n",
       "<circle clip-path=\"url(#clip674)\" style=\"fill:#009af9; stroke:none; fill-opacity:0\" cx=\"6035.1\" cy=\"1466.7\" r=\"2\"/>\n",
       "<circle clip-path=\"url(#clip674)\" style=\"fill:#009af9; stroke:none; fill-opacity:0\" cx=\"6040.92\" cy=\"1466.7\" r=\"2\"/>\n",
       "<circle clip-path=\"url(#clip674)\" style=\"fill:#009af9; stroke:none; fill-opacity:0\" cx=\"6046.75\" cy=\"1466.7\" r=\"2\"/>\n",
       "<circle clip-path=\"url(#clip674)\" style=\"fill:#009af9; stroke:none; fill-opacity:0\" cx=\"6052.57\" cy=\"1466.7\" r=\"2\"/>\n",
       "<circle clip-path=\"url(#clip674)\" style=\"fill:#009af9; stroke:none; fill-opacity:0\" cx=\"6058.39\" cy=\"777.646\" r=\"2\"/>\n",
       "<circle clip-path=\"url(#clip674)\" style=\"fill:#009af9; stroke:none; fill-opacity:0\" cx=\"6064.21\" cy=\"1466.7\" r=\"2\"/>\n",
       "<circle clip-path=\"url(#clip674)\" style=\"fill:#009af9; stroke:none; fill-opacity:0\" cx=\"6070.03\" cy=\"1466.7\" r=\"2\"/>\n",
       "<circle clip-path=\"url(#clip674)\" style=\"fill:#009af9; stroke:none; fill-opacity:0\" cx=\"6075.85\" cy=\"777.646\" r=\"2\"/>\n",
       "<circle clip-path=\"url(#clip674)\" style=\"fill:#009af9; stroke:none; fill-opacity:0\" cx=\"6081.67\" cy=\"1466.7\" r=\"2\"/>\n",
       "<circle clip-path=\"url(#clip674)\" style=\"fill:#009af9; stroke:none; fill-opacity:0\" cx=\"6087.49\" cy=\"1466.7\" r=\"2\"/>\n",
       "<circle clip-path=\"url(#clip674)\" style=\"fill:#009af9; stroke:none; fill-opacity:0\" cx=\"6093.31\" cy=\"1466.7\" r=\"2\"/>\n",
       "<circle clip-path=\"url(#clip674)\" style=\"fill:#009af9; stroke:none; fill-opacity:0\" cx=\"6099.13\" cy=\"777.646\" r=\"2\"/>\n",
       "<circle clip-path=\"url(#clip674)\" style=\"fill:#009af9; stroke:none; fill-opacity:0\" cx=\"6104.95\" cy=\"1466.7\" r=\"2\"/>\n",
       "<circle clip-path=\"url(#clip674)\" style=\"fill:#009af9; stroke:none; fill-opacity:0\" cx=\"6110.77\" cy=\"777.646\" r=\"2\"/>\n",
       "<circle clip-path=\"url(#clip674)\" style=\"fill:#009af9; stroke:none; fill-opacity:0\" cx=\"6116.59\" cy=\"777.646\" r=\"2\"/>\n",
       "<circle clip-path=\"url(#clip674)\" style=\"fill:#009af9; stroke:none; fill-opacity:0\" cx=\"6122.41\" cy=\"1466.7\" r=\"2\"/>\n",
       "<circle clip-path=\"url(#clip674)\" style=\"fill:#009af9; stroke:none; fill-opacity:0\" cx=\"6128.23\" cy=\"1466.7\" r=\"2\"/>\n",
       "<circle clip-path=\"url(#clip674)\" style=\"fill:#009af9; stroke:none; fill-opacity:0\" cx=\"6134.05\" cy=\"1466.7\" r=\"2\"/>\n",
       "<circle clip-path=\"url(#clip674)\" style=\"fill:#009af9; stroke:none; fill-opacity:0\" cx=\"6139.87\" cy=\"1466.7\" r=\"2\"/>\n",
       "<circle clip-path=\"url(#clip674)\" style=\"fill:#009af9; stroke:none; fill-opacity:0\" cx=\"6145.69\" cy=\"1466.7\" r=\"2\"/>\n",
       "<circle clip-path=\"url(#clip674)\" style=\"fill:#009af9; stroke:none; fill-opacity:0\" cx=\"6151.51\" cy=\"777.646\" r=\"2\"/>\n",
       "<circle clip-path=\"url(#clip674)\" style=\"fill:#009af9; stroke:none; fill-opacity:0\" cx=\"6157.33\" cy=\"777.646\" r=\"2\"/>\n",
       "<circle clip-path=\"url(#clip674)\" style=\"fill:#009af9; stroke:none; fill-opacity:0\" cx=\"6163.15\" cy=\"1466.7\" r=\"2\"/>\n",
       "<circle clip-path=\"url(#clip674)\" style=\"fill:#009af9; stroke:none; fill-opacity:0\" cx=\"6168.97\" cy=\"1466.7\" r=\"2\"/>\n",
       "<circle clip-path=\"url(#clip674)\" style=\"fill:#009af9; stroke:none; fill-opacity:0\" cx=\"6174.79\" cy=\"1466.7\" r=\"2\"/>\n",
       "<circle clip-path=\"url(#clip674)\" style=\"fill:#009af9; stroke:none; fill-opacity:0\" cx=\"6180.62\" cy=\"1466.7\" r=\"2\"/>\n",
       "<circle clip-path=\"url(#clip674)\" style=\"fill:#009af9; stroke:none; fill-opacity:0\" cx=\"6186.44\" cy=\"1466.7\" r=\"2\"/>\n",
       "<circle clip-path=\"url(#clip674)\" style=\"fill:#009af9; stroke:none; fill-opacity:0\" cx=\"6192.26\" cy=\"1466.7\" r=\"2\"/>\n",
       "<circle clip-path=\"url(#clip674)\" style=\"fill:#009af9; stroke:none; fill-opacity:0\" cx=\"6198.08\" cy=\"777.646\" r=\"2\"/>\n",
       "<circle clip-path=\"url(#clip674)\" style=\"fill:#009af9; stroke:none; fill-opacity:0\" cx=\"6203.9\" cy=\"1466.7\" r=\"2\"/>\n",
       "<circle clip-path=\"url(#clip674)\" style=\"fill:#009af9; stroke:none; fill-opacity:0\" cx=\"6209.72\" cy=\"1466.7\" r=\"2\"/>\n",
       "<circle clip-path=\"url(#clip674)\" style=\"fill:#009af9; stroke:none; fill-opacity:0\" cx=\"6215.54\" cy=\"1466.7\" r=\"2\"/>\n",
       "<circle clip-path=\"url(#clip674)\" style=\"fill:#009af9; stroke:none; fill-opacity:0\" cx=\"6221.36\" cy=\"1466.7\" r=\"2\"/>\n",
       "<circle clip-path=\"url(#clip674)\" style=\"fill:#009af9; stroke:none; fill-opacity:0\" cx=\"6227.18\" cy=\"1466.7\" r=\"2\"/>\n",
       "<circle clip-path=\"url(#clip674)\" style=\"fill:#009af9; stroke:none; fill-opacity:0\" cx=\"6233\" cy=\"1466.7\" r=\"2\"/>\n",
       "<circle clip-path=\"url(#clip674)\" style=\"fill:#009af9; stroke:none; fill-opacity:0\" cx=\"6238.82\" cy=\"1466.7\" r=\"2\"/>\n",
       "<circle clip-path=\"url(#clip674)\" style=\"fill:#009af9; stroke:none; fill-opacity:0\" cx=\"6244.64\" cy=\"1466.7\" r=\"2\"/>\n",
       "<circle clip-path=\"url(#clip674)\" style=\"fill:#009af9; stroke:none; fill-opacity:0\" cx=\"6250.46\" cy=\"1466.7\" r=\"2\"/>\n",
       "<circle clip-path=\"url(#clip674)\" style=\"fill:#009af9; stroke:none; fill-opacity:0\" cx=\"6256.28\" cy=\"777.646\" r=\"2\"/>\n",
       "<circle clip-path=\"url(#clip674)\" style=\"fill:#009af9; stroke:none; fill-opacity:0\" cx=\"6262.1\" cy=\"88.5876\" r=\"2\"/>\n",
       "<circle clip-path=\"url(#clip674)\" style=\"fill:#009af9; stroke:none; fill-opacity:0\" cx=\"6267.92\" cy=\"1466.7\" r=\"2\"/>\n",
       "<circle clip-path=\"url(#clip674)\" style=\"fill:#009af9; stroke:none; fill-opacity:0\" cx=\"6273.74\" cy=\"1466.7\" r=\"2\"/>\n",
       "<circle clip-path=\"url(#clip674)\" style=\"fill:#009af9; stroke:none; fill-opacity:0\" cx=\"6279.56\" cy=\"777.646\" r=\"2\"/>\n",
       "<circle clip-path=\"url(#clip674)\" style=\"fill:#009af9; stroke:none; fill-opacity:0\" cx=\"6285.38\" cy=\"777.646\" r=\"2\"/>\n",
       "<path clip-path=\"url(#clip674)\" d=\"\n",
       "M4571.26 777.646 L4571.26 1466.7 L4600.36 1466.7 L4600.36 777.646 L4571.26 777.646 L4571.26 777.646  Z\n",
       "  \" fill=\"#0000ff\" fill-rule=\"evenodd\" fill-opacity=\"1\"/>\n",
       "<polyline clip-path=\"url(#clip674)\" style=\"stroke:#000000; stroke-linecap:butt; stroke-linejoin:round; stroke-width:4; stroke-opacity:1; fill:none\" points=\"\n",
       "  4571.26,777.646 4571.26,1466.7 4600.36,1466.7 4600.36,777.646 4571.26,777.646 \n",
       "  \"/>\n",
       "<path clip-path=\"url(#clip674)\" d=\"\n",
       "M4600.36 1466.7 L4600.36 1466.7 L4629.46 1466.7 L4629.46 1466.7 L4600.36 1466.7 L4600.36 1466.7  Z\n",
       "  \" fill=\"#0000ff\" fill-rule=\"evenodd\" fill-opacity=\"1\"/>\n",
       "<polyline clip-path=\"url(#clip674)\" style=\"stroke:#000000; stroke-linecap:butt; stroke-linejoin:round; stroke-width:4; stroke-opacity:1; fill:none\" points=\"\n",
       "  4600.36,1466.7 4600.36,1466.7 4629.46,1466.7 4600.36,1466.7 \n",
       "  \"/>\n",
       "<path clip-path=\"url(#clip674)\" d=\"\n",
       "M4629.46 1466.7 L4629.46 1466.7 L4658.57 1466.7 L4658.57 1466.7 L4629.46 1466.7 L4629.46 1466.7  Z\n",
       "  \" fill=\"#0000ff\" fill-rule=\"evenodd\" fill-opacity=\"1\"/>\n",
       "<polyline clip-path=\"url(#clip674)\" style=\"stroke:#000000; stroke-linecap:butt; stroke-linejoin:round; stroke-width:4; stroke-opacity:1; fill:none\" points=\"\n",
       "  4629.46,1466.7 4629.46,1466.7 4658.57,1466.7 4629.46,1466.7 \n",
       "  \"/>\n",
       "<path clip-path=\"url(#clip674)\" d=\"\n",
       "M4658.57 1466.7 L4658.57 1466.7 L4687.67 1466.7 L4687.67 1466.7 L4658.57 1466.7 L4658.57 1466.7  Z\n",
       "  \" fill=\"#0000ff\" fill-rule=\"evenodd\" fill-opacity=\"1\"/>\n",
       "<polyline clip-path=\"url(#clip674)\" style=\"stroke:#000000; stroke-linecap:butt; stroke-linejoin:round; stroke-width:4; stroke-opacity:1; fill:none\" points=\"\n",
       "  4658.57,1466.7 4658.57,1466.7 4687.67,1466.7 4658.57,1466.7 \n",
       "  \"/>\n",
       "<path clip-path=\"url(#clip674)\" d=\"\n",
       "M4687.67 1466.7 L4687.67 1466.7 L4716.77 1466.7 L4716.77 1466.7 L4687.67 1466.7 L4687.67 1466.7  Z\n",
       "  \" fill=\"#0000ff\" fill-rule=\"evenodd\" fill-opacity=\"1\"/>\n",
       "<polyline clip-path=\"url(#clip674)\" style=\"stroke:#000000; stroke-linecap:butt; stroke-linejoin:round; stroke-width:4; stroke-opacity:1; fill:none\" points=\"\n",
       "  4687.67,1466.7 4687.67,1466.7 4716.77,1466.7 4687.67,1466.7 \n",
       "  \"/>\n",
       "<path clip-path=\"url(#clip674)\" d=\"\n",
       "M4716.77 1466.7 L4716.77 1466.7 L4745.87 1466.7 L4745.87 1466.7 L4716.77 1466.7 L4716.77 1466.7  Z\n",
       "  \" fill=\"#0000ff\" fill-rule=\"evenodd\" fill-opacity=\"1\"/>\n",
       "<polyline clip-path=\"url(#clip674)\" style=\"stroke:#000000; stroke-linecap:butt; stroke-linejoin:round; stroke-width:4; stroke-opacity:1; fill:none\" points=\"\n",
       "  4716.77,1466.7 4716.77,1466.7 4745.87,1466.7 4716.77,1466.7 \n",
       "  \"/>\n",
       "<path clip-path=\"url(#clip674)\" d=\"\n",
       "M4745.87 1466.7 L4745.87 1466.7 L4774.98 1466.7 L4774.98 1466.7 L4745.87 1466.7 L4745.87 1466.7  Z\n",
       "  \" fill=\"#0000ff\" fill-rule=\"evenodd\" fill-opacity=\"1\"/>\n",
       "<polyline clip-path=\"url(#clip674)\" style=\"stroke:#000000; stroke-linecap:butt; stroke-linejoin:round; stroke-width:4; stroke-opacity:1; fill:none\" points=\"\n",
       "  4745.87,1466.7 4745.87,1466.7 4774.98,1466.7 4745.87,1466.7 \n",
       "  \"/>\n",
       "<path clip-path=\"url(#clip674)\" d=\"\n",
       "M4774.98 1466.7 L4774.98 1466.7 L4804.08 1466.7 L4804.08 1466.7 L4774.98 1466.7 L4774.98 1466.7  Z\n",
       "  \" fill=\"#0000ff\" fill-rule=\"evenodd\" fill-opacity=\"1\"/>\n",
       "<polyline clip-path=\"url(#clip674)\" style=\"stroke:#000000; stroke-linecap:butt; stroke-linejoin:round; stroke-width:4; stroke-opacity:1; fill:none\" points=\"\n",
       "  4774.98,1466.7 4774.98,1466.7 4804.08,1466.7 4774.98,1466.7 \n",
       "  \"/>\n",
       "<path clip-path=\"url(#clip674)\" d=\"\n",
       "M4804.08 1466.7 L4804.08 1466.7 L4833.18 1466.7 L4833.18 1466.7 L4804.08 1466.7 L4804.08 1466.7  Z\n",
       "  \" fill=\"#0000ff\" fill-rule=\"evenodd\" fill-opacity=\"1\"/>\n",
       "<polyline clip-path=\"url(#clip674)\" style=\"stroke:#000000; stroke-linecap:butt; stroke-linejoin:round; stroke-width:4; stroke-opacity:1; fill:none\" points=\"\n",
       "  4804.08,1466.7 4804.08,1466.7 4833.18,1466.7 4804.08,1466.7 \n",
       "  \"/>\n",
       "<path clip-path=\"url(#clip674)\" d=\"\n",
       "M4833.18 1466.7 L4833.18 1466.7 L4862.28 1466.7 L4862.28 1466.7 L4833.18 1466.7 L4833.18 1466.7  Z\n",
       "  \" fill=\"#0000ff\" fill-rule=\"evenodd\" fill-opacity=\"1\"/>\n",
       "<polyline clip-path=\"url(#clip674)\" style=\"stroke:#000000; stroke-linecap:butt; stroke-linejoin:round; stroke-width:4; stroke-opacity:1; fill:none\" points=\"\n",
       "  4833.18,1466.7 4833.18,1466.7 4862.28,1466.7 4833.18,1466.7 \n",
       "  \"/>\n",
       "<path clip-path=\"url(#clip674)\" d=\"\n",
       "M4862.28 1466.7 L4862.28 1466.7 L4891.39 1466.7 L4891.39 1466.7 L4862.28 1466.7 L4862.28 1466.7  Z\n",
       "  \" fill=\"#0000ff\" fill-rule=\"evenodd\" fill-opacity=\"1\"/>\n",
       "<polyline clip-path=\"url(#clip674)\" style=\"stroke:#000000; stroke-linecap:butt; stroke-linejoin:round; stroke-width:4; stroke-opacity:1; fill:none\" points=\"\n",
       "  4862.28,1466.7 4862.28,1466.7 4891.39,1466.7 4862.28,1466.7 \n",
       "  \"/>\n",
       "<path clip-path=\"url(#clip674)\" d=\"\n",
       "M4891.39 1466.7 L4891.39 1466.7 L4920.49 1466.7 L4920.49 1466.7 L4891.39 1466.7 L4891.39 1466.7  Z\n",
       "  \" fill=\"#0000ff\" fill-rule=\"evenodd\" fill-opacity=\"1\"/>\n",
       "<polyline clip-path=\"url(#clip674)\" style=\"stroke:#000000; stroke-linecap:butt; stroke-linejoin:round; stroke-width:4; stroke-opacity:1; fill:none\" points=\"\n",
       "  4891.39,1466.7 4891.39,1466.7 4920.49,1466.7 4891.39,1466.7 \n",
       "  \"/>\n",
       "<path clip-path=\"url(#clip674)\" d=\"\n",
       "M4920.49 1466.7 L4920.49 1466.7 L4949.59 1466.7 L4949.59 1466.7 L4920.49 1466.7 L4920.49 1466.7  Z\n",
       "  \" fill=\"#0000ff\" fill-rule=\"evenodd\" fill-opacity=\"1\"/>\n",
       "<polyline clip-path=\"url(#clip674)\" style=\"stroke:#000000; stroke-linecap:butt; stroke-linejoin:round; stroke-width:4; stroke-opacity:1; fill:none\" points=\"\n",
       "  4920.49,1466.7 4920.49,1466.7 4949.59,1466.7 4920.49,1466.7 \n",
       "  \"/>\n",
       "<path clip-path=\"url(#clip674)\" d=\"\n",
       "M4949.59 1466.7 L4949.59 1466.7 L4978.69 1466.7 L4978.69 1466.7 L4949.59 1466.7 L4949.59 1466.7  Z\n",
       "  \" fill=\"#0000ff\" fill-rule=\"evenodd\" fill-opacity=\"1\"/>\n",
       "<polyline clip-path=\"url(#clip674)\" style=\"stroke:#000000; stroke-linecap:butt; stroke-linejoin:round; stroke-width:4; stroke-opacity:1; fill:none\" points=\"\n",
       "  4949.59,1466.7 4949.59,1466.7 4978.69,1466.7 4949.59,1466.7 \n",
       "  \"/>\n",
       "<path clip-path=\"url(#clip674)\" d=\"\n",
       "M4978.69 1466.7 L4978.69 1466.7 L5007.79 1466.7 L5007.79 1466.7 L4978.69 1466.7 L4978.69 1466.7  Z\n",
       "  \" fill=\"#0000ff\" fill-rule=\"evenodd\" fill-opacity=\"1\"/>\n",
       "<polyline clip-path=\"url(#clip674)\" style=\"stroke:#000000; stroke-linecap:butt; stroke-linejoin:round; stroke-width:4; stroke-opacity:1; fill:none\" points=\"\n",
       "  4978.69,1466.7 4978.69,1466.7 5007.79,1466.7 4978.69,1466.7 \n",
       "  \"/>\n",
       "<path clip-path=\"url(#clip674)\" d=\"\n",
       "M5007.79 1466.7 L5007.79 1466.7 L5036.9 1466.7 L5036.9 1466.7 L5007.79 1466.7 L5007.79 1466.7  Z\n",
       "  \" fill=\"#0000ff\" fill-rule=\"evenodd\" fill-opacity=\"1\"/>\n",
       "<polyline clip-path=\"url(#clip674)\" style=\"stroke:#000000; stroke-linecap:butt; stroke-linejoin:round; stroke-width:4; stroke-opacity:1; fill:none\" points=\"\n",
       "  5007.79,1466.7 5007.79,1466.7 5036.9,1466.7 5007.79,1466.7 \n",
       "  \"/>\n",
       "<path clip-path=\"url(#clip674)\" d=\"\n",
       "M5036.9 1466.7 L5036.9 1466.7 L5066 1466.7 L5066 1466.7 L5036.9 1466.7 L5036.9 1466.7  Z\n",
       "  \" fill=\"#0000ff\" fill-rule=\"evenodd\" fill-opacity=\"1\"/>\n",
       "<polyline clip-path=\"url(#clip674)\" style=\"stroke:#000000; stroke-linecap:butt; stroke-linejoin:round; stroke-width:4; stroke-opacity:1; fill:none\" points=\"\n",
       "  5036.9,1466.7 5036.9,1466.7 5066,1466.7 5036.9,1466.7 \n",
       "  \"/>\n",
       "<path clip-path=\"url(#clip674)\" d=\"\n",
       "M5066 1466.7 L5066 1466.7 L5095.1 1466.7 L5095.1 1466.7 L5066 1466.7 L5066 1466.7  Z\n",
       "  \" fill=\"#0000ff\" fill-rule=\"evenodd\" fill-opacity=\"1\"/>\n",
       "<polyline clip-path=\"url(#clip674)\" style=\"stroke:#000000; stroke-linecap:butt; stroke-linejoin:round; stroke-width:4; stroke-opacity:1; fill:none\" points=\"\n",
       "  5066,1466.7 5066,1466.7 5095.1,1466.7 5066,1466.7 \n",
       "  \"/>\n",
       "<path clip-path=\"url(#clip674)\" d=\"\n",
       "M5095.1 1466.7 L5095.1 1466.7 L5124.2 1466.7 L5124.2 1466.7 L5095.1 1466.7 L5095.1 1466.7  Z\n",
       "  \" fill=\"#0000ff\" fill-rule=\"evenodd\" fill-opacity=\"1\"/>\n",
       "<polyline clip-path=\"url(#clip674)\" style=\"stroke:#000000; stroke-linecap:butt; stroke-linejoin:round; stroke-width:4; stroke-opacity:1; fill:none\" points=\"\n",
       "  5095.1,1466.7 5095.1,1466.7 5124.2,1466.7 5095.1,1466.7 \n",
       "  \"/>\n",
       "<path clip-path=\"url(#clip674)\" d=\"\n",
       "M5124.2 1466.7 L5124.2 1466.7 L5153.31 1466.7 L5153.31 1466.7 L5124.2 1466.7 L5124.2 1466.7  Z\n",
       "  \" fill=\"#0000ff\" fill-rule=\"evenodd\" fill-opacity=\"1\"/>\n",
       "<polyline clip-path=\"url(#clip674)\" style=\"stroke:#000000; stroke-linecap:butt; stroke-linejoin:round; stroke-width:4; stroke-opacity:1; fill:none\" points=\"\n",
       "  5124.2,1466.7 5124.2,1466.7 5153.31,1466.7 5124.2,1466.7 \n",
       "  \"/>\n",
       "<path clip-path=\"url(#clip674)\" d=\"\n",
       "M5153.31 1466.7 L5153.31 1466.7 L5182.41 1466.7 L5182.41 1466.7 L5153.31 1466.7 L5153.31 1466.7  Z\n",
       "  \" fill=\"#0000ff\" fill-rule=\"evenodd\" fill-opacity=\"1\"/>\n",
       "<polyline clip-path=\"url(#clip674)\" style=\"stroke:#000000; stroke-linecap:butt; stroke-linejoin:round; stroke-width:4; stroke-opacity:1; fill:none\" points=\"\n",
       "  5153.31,1466.7 5153.31,1466.7 5182.41,1466.7 5153.31,1466.7 \n",
       "  \"/>\n",
       "<path clip-path=\"url(#clip674)\" d=\"\n",
       "M5182.41 1466.7 L5182.41 1466.7 L5211.51 1466.7 L5211.51 1466.7 L5182.41 1466.7 L5182.41 1466.7  Z\n",
       "  \" fill=\"#0000ff\" fill-rule=\"evenodd\" fill-opacity=\"1\"/>\n",
       "<polyline clip-path=\"url(#clip674)\" style=\"stroke:#000000; stroke-linecap:butt; stroke-linejoin:round; stroke-width:4; stroke-opacity:1; fill:none\" points=\"\n",
       "  5182.41,1466.7 5182.41,1466.7 5211.51,1466.7 5182.41,1466.7 \n",
       "  \"/>\n",
       "<path clip-path=\"url(#clip674)\" d=\"\n",
       "M5211.51 1466.7 L5211.51 1466.7 L5240.61 1466.7 L5240.61 1466.7 L5211.51 1466.7 L5211.51 1466.7  Z\n",
       "  \" fill=\"#0000ff\" fill-rule=\"evenodd\" fill-opacity=\"1\"/>\n",
       "<polyline clip-path=\"url(#clip674)\" style=\"stroke:#000000; stroke-linecap:butt; stroke-linejoin:round; stroke-width:4; stroke-opacity:1; fill:none\" points=\"\n",
       "  5211.51,1466.7 5211.51,1466.7 5240.61,1466.7 5211.51,1466.7 \n",
       "  \"/>\n",
       "<path clip-path=\"url(#clip674)\" d=\"\n",
       "M5240.61 1466.7 L5240.61 1466.7 L5269.71 1466.7 L5269.71 1466.7 L5240.61 1466.7 L5240.61 1466.7  Z\n",
       "  \" fill=\"#0000ff\" fill-rule=\"evenodd\" fill-opacity=\"1\"/>\n",
       "<polyline clip-path=\"url(#clip674)\" style=\"stroke:#000000; stroke-linecap:butt; stroke-linejoin:round; stroke-width:4; stroke-opacity:1; fill:none\" points=\"\n",
       "  5240.61,1466.7 5240.61,1466.7 5269.71,1466.7 5240.61,1466.7 \n",
       "  \"/>\n",
       "<path clip-path=\"url(#clip674)\" d=\"\n",
       "M5269.71 1466.7 L5269.71 1466.7 L5298.82 1466.7 L5298.82 1466.7 L5269.71 1466.7 L5269.71 1466.7  Z\n",
       "  \" fill=\"#0000ff\" fill-rule=\"evenodd\" fill-opacity=\"1\"/>\n",
       "<polyline clip-path=\"url(#clip674)\" style=\"stroke:#000000; stroke-linecap:butt; stroke-linejoin:round; stroke-width:4; stroke-opacity:1; fill:none\" points=\"\n",
       "  5269.71,1466.7 5269.71,1466.7 5298.82,1466.7 5269.71,1466.7 \n",
       "  \"/>\n",
       "<path clip-path=\"url(#clip674)\" d=\"\n",
       "M5298.82 1466.7 L5298.82 1466.7 L5327.92 1466.7 L5327.92 1466.7 L5298.82 1466.7 L5298.82 1466.7  Z\n",
       "  \" fill=\"#0000ff\" fill-rule=\"evenodd\" fill-opacity=\"1\"/>\n",
       "<polyline clip-path=\"url(#clip674)\" style=\"stroke:#000000; stroke-linecap:butt; stroke-linejoin:round; stroke-width:4; stroke-opacity:1; fill:none\" points=\"\n",
       "  5298.82,1466.7 5298.82,1466.7 5327.92,1466.7 5298.82,1466.7 \n",
       "  \"/>\n",
       "<path clip-path=\"url(#clip674)\" d=\"\n",
       "M5327.92 1466.7 L5327.92 1466.7 L5357.02 1466.7 L5357.02 1466.7 L5327.92 1466.7 L5327.92 1466.7  Z\n",
       "  \" fill=\"#0000ff\" fill-rule=\"evenodd\" fill-opacity=\"1\"/>\n",
       "<polyline clip-path=\"url(#clip674)\" style=\"stroke:#000000; stroke-linecap:butt; stroke-linejoin:round; stroke-width:4; stroke-opacity:1; fill:none\" points=\"\n",
       "  5327.92,1466.7 5327.92,1466.7 5357.02,1466.7 5327.92,1466.7 \n",
       "  \"/>\n",
       "<path clip-path=\"url(#clip674)\" d=\"\n",
       "M5357.02 1466.7 L5357.02 1466.7 L5386.12 1466.7 L5386.12 1466.7 L5357.02 1466.7 L5357.02 1466.7  Z\n",
       "  \" fill=\"#0000ff\" fill-rule=\"evenodd\" fill-opacity=\"1\"/>\n",
       "<polyline clip-path=\"url(#clip674)\" style=\"stroke:#000000; stroke-linecap:butt; stroke-linejoin:round; stroke-width:4; stroke-opacity:1; fill:none\" points=\"\n",
       "  5357.02,1466.7 5357.02,1466.7 5386.12,1466.7 5357.02,1466.7 \n",
       "  \"/>\n",
       "<path clip-path=\"url(#clip674)\" d=\"\n",
       "M5386.12 777.646 L5386.12 1466.7 L5415.23 1466.7 L5415.23 777.646 L5386.12 777.646 L5386.12 777.646  Z\n",
       "  \" fill=\"#0000ff\" fill-rule=\"evenodd\" fill-opacity=\"1\"/>\n",
       "<polyline clip-path=\"url(#clip674)\" style=\"stroke:#000000; stroke-linecap:butt; stroke-linejoin:round; stroke-width:4; stroke-opacity:1; fill:none\" points=\"\n",
       "  5386.12,777.646 5386.12,1466.7 5415.23,1466.7 5415.23,777.646 5386.12,777.646 \n",
       "  \"/>\n",
       "<path clip-path=\"url(#clip674)\" d=\"\n",
       "M5415.23 1466.7 L5415.23 1466.7 L5444.33 1466.7 L5444.33 1466.7 L5415.23 1466.7 L5415.23 1466.7  Z\n",
       "  \" fill=\"#0000ff\" fill-rule=\"evenodd\" fill-opacity=\"1\"/>\n",
       "<polyline clip-path=\"url(#clip674)\" style=\"stroke:#000000; stroke-linecap:butt; stroke-linejoin:round; stroke-width:4; stroke-opacity:1; fill:none\" points=\"\n",
       "  5415.23,1466.7 5415.23,1466.7 5444.33,1466.7 5415.23,1466.7 \n",
       "  \"/>\n",
       "<path clip-path=\"url(#clip674)\" d=\"\n",
       "M5444.33 777.646 L5444.33 1466.7 L5473.43 1466.7 L5473.43 777.646 L5444.33 777.646 L5444.33 777.646  Z\n",
       "  \" fill=\"#0000ff\" fill-rule=\"evenodd\" fill-opacity=\"1\"/>\n",
       "<polyline clip-path=\"url(#clip674)\" style=\"stroke:#000000; stroke-linecap:butt; stroke-linejoin:round; stroke-width:4; stroke-opacity:1; fill:none\" points=\"\n",
       "  5444.33,777.646 5444.33,1466.7 5473.43,1466.7 5473.43,777.646 5444.33,777.646 \n",
       "  \"/>\n",
       "<path clip-path=\"url(#clip674)\" d=\"\n",
       "M5473.43 1466.7 L5473.43 1466.7 L5502.53 1466.7 L5502.53 1466.7 L5473.43 1466.7 L5473.43 1466.7  Z\n",
       "  \" fill=\"#0000ff\" fill-rule=\"evenodd\" fill-opacity=\"1\"/>\n",
       "<polyline clip-path=\"url(#clip674)\" style=\"stroke:#000000; stroke-linecap:butt; stroke-linejoin:round; stroke-width:4; stroke-opacity:1; fill:none\" points=\"\n",
       "  5473.43,1466.7 5473.43,1466.7 5502.53,1466.7 5473.43,1466.7 \n",
       "  \"/>\n",
       "<path clip-path=\"url(#clip674)\" d=\"\n",
       "M5502.53 1466.7 L5502.53 1466.7 L5531.63 1466.7 L5531.63 1466.7 L5502.53 1466.7 L5502.53 1466.7  Z\n",
       "  \" fill=\"#0000ff\" fill-rule=\"evenodd\" fill-opacity=\"1\"/>\n",
       "<polyline clip-path=\"url(#clip674)\" style=\"stroke:#000000; stroke-linecap:butt; stroke-linejoin:round; stroke-width:4; stroke-opacity:1; fill:none\" points=\"\n",
       "  5502.53,1466.7 5502.53,1466.7 5531.63,1466.7 5502.53,1466.7 \n",
       "  \"/>\n",
       "<path clip-path=\"url(#clip674)\" d=\"\n",
       "M5531.63 1466.7 L5531.63 1466.7 L5560.74 1466.7 L5560.74 1466.7 L5531.63 1466.7 L5531.63 1466.7  Z\n",
       "  \" fill=\"#0000ff\" fill-rule=\"evenodd\" fill-opacity=\"1\"/>\n",
       "<polyline clip-path=\"url(#clip674)\" style=\"stroke:#000000; stroke-linecap:butt; stroke-linejoin:round; stroke-width:4; stroke-opacity:1; fill:none\" points=\"\n",
       "  5531.63,1466.7 5531.63,1466.7 5560.74,1466.7 5531.63,1466.7 \n",
       "  \"/>\n",
       "<path clip-path=\"url(#clip674)\" d=\"\n",
       "M5560.74 777.646 L5560.74 1466.7 L5589.84 1466.7 L5589.84 777.646 L5560.74 777.646 L5560.74 777.646  Z\n",
       "  \" fill=\"#0000ff\" fill-rule=\"evenodd\" fill-opacity=\"1\"/>\n",
       "<polyline clip-path=\"url(#clip674)\" style=\"stroke:#000000; stroke-linecap:butt; stroke-linejoin:round; stroke-width:4; stroke-opacity:1; fill:none\" points=\"\n",
       "  5560.74,777.646 5560.74,1466.7 5589.84,1466.7 5589.84,777.646 5560.74,777.646 \n",
       "  \"/>\n",
       "<path clip-path=\"url(#clip674)\" d=\"\n",
       "M5589.84 1466.7 L5589.84 1466.7 L5618.94 1466.7 L5618.94 1466.7 L5589.84 1466.7 L5589.84 1466.7  Z\n",
       "  \" fill=\"#0000ff\" fill-rule=\"evenodd\" fill-opacity=\"1\"/>\n",
       "<polyline clip-path=\"url(#clip674)\" style=\"stroke:#000000; stroke-linecap:butt; stroke-linejoin:round; stroke-width:4; stroke-opacity:1; fill:none\" points=\"\n",
       "  5589.84,1466.7 5589.84,1466.7 5618.94,1466.7 5589.84,1466.7 \n",
       "  \"/>\n",
       "<path clip-path=\"url(#clip674)\" d=\"\n",
       "M5618.94 1466.7 L5618.94 1466.7 L5648.04 1466.7 L5648.04 1466.7 L5618.94 1466.7 L5618.94 1466.7  Z\n",
       "  \" fill=\"#0000ff\" fill-rule=\"evenodd\" fill-opacity=\"1\"/>\n",
       "<polyline clip-path=\"url(#clip674)\" style=\"stroke:#000000; stroke-linecap:butt; stroke-linejoin:round; stroke-width:4; stroke-opacity:1; fill:none\" points=\"\n",
       "  5618.94,1466.7 5618.94,1466.7 5648.04,1466.7 5618.94,1466.7 \n",
       "  \"/>\n",
       "<path clip-path=\"url(#clip674)\" d=\"\n",
       "M5648.04 777.646 L5648.04 1466.7 L5677.15 1466.7 L5677.15 777.646 L5648.04 777.646 L5648.04 777.646  Z\n",
       "  \" fill=\"#0000ff\" fill-rule=\"evenodd\" fill-opacity=\"1\"/>\n",
       "<polyline clip-path=\"url(#clip674)\" style=\"stroke:#000000; stroke-linecap:butt; stroke-linejoin:round; stroke-width:4; stroke-opacity:1; fill:none\" points=\"\n",
       "  5648.04,777.646 5648.04,1466.7 5677.15,1466.7 5677.15,777.646 5648.04,777.646 \n",
       "  \"/>\n",
       "<path clip-path=\"url(#clip674)\" d=\"\n",
       "M5677.15 777.646 L5677.15 1466.7 L5706.25 1466.7 L5706.25 777.646 L5677.15 777.646 L5677.15 777.646  Z\n",
       "  \" fill=\"#0000ff\" fill-rule=\"evenodd\" fill-opacity=\"1\"/>\n",
       "<polyline clip-path=\"url(#clip674)\" style=\"stroke:#000000; stroke-linecap:butt; stroke-linejoin:round; stroke-width:4; stroke-opacity:1; fill:none\" points=\"\n",
       "  5677.15,777.646 5677.15,1466.7 5706.25,1466.7 5706.25,777.646 5677.15,777.646 \n",
       "  \"/>\n",
       "<path clip-path=\"url(#clip674)\" d=\"\n",
       "M5706.25 1466.7 L5706.25 1466.7 L5735.35 1466.7 L5735.35 1466.7 L5706.25 1466.7 L5706.25 1466.7  Z\n",
       "  \" fill=\"#0000ff\" fill-rule=\"evenodd\" fill-opacity=\"1\"/>\n",
       "<polyline clip-path=\"url(#clip674)\" style=\"stroke:#000000; stroke-linecap:butt; stroke-linejoin:round; stroke-width:4; stroke-opacity:1; fill:none\" points=\"\n",
       "  5706.25,1466.7 5706.25,1466.7 5735.35,1466.7 5706.25,1466.7 \n",
       "  \"/>\n",
       "<path clip-path=\"url(#clip674)\" d=\"\n",
       "M5735.35 88.5876 L5735.35 1466.7 L5764.45 1466.7 L5764.45 88.5876 L5735.35 88.5876 L5735.35 88.5876  Z\n",
       "  \" fill=\"#0000ff\" fill-rule=\"evenodd\" fill-opacity=\"1\"/>\n",
       "<polyline clip-path=\"url(#clip674)\" style=\"stroke:#000000; stroke-linecap:butt; stroke-linejoin:round; stroke-width:4; stroke-opacity:1; fill:none\" points=\"\n",
       "  5735.35,88.5876 5735.35,1466.7 5764.45,1466.7 5764.45,88.5876 5735.35,88.5876 \n",
       "  \"/>\n",
       "<path clip-path=\"url(#clip674)\" d=\"\n",
       "M5764.45 88.5876 L5764.45 1466.7 L5793.56 1466.7 L5793.56 88.5876 L5764.45 88.5876 L5764.45 88.5876  Z\n",
       "  \" fill=\"#0000ff\" fill-rule=\"evenodd\" fill-opacity=\"1\"/>\n",
       "<polyline clip-path=\"url(#clip674)\" style=\"stroke:#000000; stroke-linecap:butt; stroke-linejoin:round; stroke-width:4; stroke-opacity:1; fill:none\" points=\"\n",
       "  5764.45,88.5876 5764.45,1466.7 5793.56,1466.7 5793.56,88.5876 5764.45,88.5876 \n",
       "  \"/>\n",
       "<path clip-path=\"url(#clip674)\" d=\"\n",
       "M5793.56 88.5876 L5793.56 1466.7 L5822.66 1466.7 L5822.66 88.5876 L5793.56 88.5876 L5793.56 88.5876  Z\n",
       "  \" fill=\"#0000ff\" fill-rule=\"evenodd\" fill-opacity=\"1\"/>\n",
       "<polyline clip-path=\"url(#clip674)\" style=\"stroke:#000000; stroke-linecap:butt; stroke-linejoin:round; stroke-width:4; stroke-opacity:1; fill:none\" points=\"\n",
       "  5793.56,88.5876 5793.56,1466.7 5822.66,1466.7 5822.66,88.5876 5793.56,88.5876 \n",
       "  \"/>\n",
       "<path clip-path=\"url(#clip674)\" d=\"\n",
       "M5822.66 88.5876 L5822.66 1466.7 L5851.76 1466.7 L5851.76 88.5876 L5822.66 88.5876 L5822.66 88.5876  Z\n",
       "  \" fill=\"#0000ff\" fill-rule=\"evenodd\" fill-opacity=\"1\"/>\n",
       "<polyline clip-path=\"url(#clip674)\" style=\"stroke:#000000; stroke-linecap:butt; stroke-linejoin:round; stroke-width:4; stroke-opacity:1; fill:none\" points=\"\n",
       "  5822.66,88.5876 5822.66,1466.7 5851.76,1466.7 5851.76,88.5876 5822.66,88.5876 \n",
       "  \"/>\n",
       "<path clip-path=\"url(#clip674)\" d=\"\n",
       "M5851.76 777.646 L5851.76 1466.7 L5880.86 1466.7 L5880.86 777.646 L5851.76 777.646 L5851.76 777.646  Z\n",
       "  \" fill=\"#0000ff\" fill-rule=\"evenodd\" fill-opacity=\"1\"/>\n",
       "<polyline clip-path=\"url(#clip674)\" style=\"stroke:#000000; stroke-linecap:butt; stroke-linejoin:round; stroke-width:4; stroke-opacity:1; fill:none\" points=\"\n",
       "  5851.76,777.646 5851.76,1466.7 5880.86,1466.7 5880.86,777.646 5851.76,777.646 \n",
       "  \"/>\n",
       "<path clip-path=\"url(#clip674)\" d=\"\n",
       "M5880.86 88.5876 L5880.86 1466.7 L5909.96 1466.7 L5909.96 88.5876 L5880.86 88.5876 L5880.86 88.5876  Z\n",
       "  \" fill=\"#0000ff\" fill-rule=\"evenodd\" fill-opacity=\"1\"/>\n",
       "<polyline clip-path=\"url(#clip674)\" style=\"stroke:#000000; stroke-linecap:butt; stroke-linejoin:round; stroke-width:4; stroke-opacity:1; fill:none\" points=\"\n",
       "  5880.86,88.5876 5880.86,1466.7 5909.96,1466.7 5909.96,88.5876 5880.86,88.5876 \n",
       "  \"/>\n",
       "<path clip-path=\"url(#clip674)\" d=\"\n",
       "M5909.96 1466.7 L5909.96 1466.7 L5939.07 1466.7 L5939.07 1466.7 L5909.96 1466.7 L5909.96 1466.7  Z\n",
       "  \" fill=\"#0000ff\" fill-rule=\"evenodd\" fill-opacity=\"1\"/>\n",
       "<polyline clip-path=\"url(#clip674)\" style=\"stroke:#000000; stroke-linecap:butt; stroke-linejoin:round; stroke-width:4; stroke-opacity:1; fill:none\" points=\"\n",
       "  5909.96,1466.7 5909.96,1466.7 5939.07,1466.7 5909.96,1466.7 \n",
       "  \"/>\n",
       "<path clip-path=\"url(#clip674)\" d=\"\n",
       "M5939.07 88.5876 L5939.07 1466.7 L5968.17 1466.7 L5968.17 88.5876 L5939.07 88.5876 L5939.07 88.5876  Z\n",
       "  \" fill=\"#0000ff\" fill-rule=\"evenodd\" fill-opacity=\"1\"/>\n",
       "<polyline clip-path=\"url(#clip674)\" style=\"stroke:#000000; stroke-linecap:butt; stroke-linejoin:round; stroke-width:4; stroke-opacity:1; fill:none\" points=\"\n",
       "  5939.07,88.5876 5939.07,1466.7 5968.17,1466.7 5968.17,88.5876 5939.07,88.5876 \n",
       "  \"/>\n",
       "<path clip-path=\"url(#clip674)\" d=\"\n",
       "M5968.17 88.5876 L5968.17 1466.7 L5997.27 1466.7 L5997.27 88.5876 L5968.17 88.5876 L5968.17 88.5876  Z\n",
       "  \" fill=\"#0000ff\" fill-rule=\"evenodd\" fill-opacity=\"1\"/>\n",
       "<polyline clip-path=\"url(#clip674)\" style=\"stroke:#000000; stroke-linecap:butt; stroke-linejoin:round; stroke-width:4; stroke-opacity:1; fill:none\" points=\"\n",
       "  5968.17,88.5876 5968.17,1466.7 5997.27,1466.7 5997.27,88.5876 5968.17,88.5876 \n",
       "  \"/>\n",
       "<path clip-path=\"url(#clip674)\" d=\"\n",
       "M5997.27 1466.7 L5997.27 1466.7 L6026.37 1466.7 L6026.37 1466.7 L5997.27 1466.7 L5997.27 1466.7  Z\n",
       "  \" fill=\"#0000ff\" fill-rule=\"evenodd\" fill-opacity=\"1\"/>\n",
       "<polyline clip-path=\"url(#clip674)\" style=\"stroke:#000000; stroke-linecap:butt; stroke-linejoin:round; stroke-width:4; stroke-opacity:1; fill:none\" points=\"\n",
       "  5997.27,1466.7 5997.27,1466.7 6026.37,1466.7 5997.27,1466.7 \n",
       "  \"/>\n",
       "<path clip-path=\"url(#clip674)\" d=\"\n",
       "M6026.37 777.646 L6026.37 1466.7 L6055.48 1466.7 L6055.48 777.646 L6026.37 777.646 L6026.37 777.646  Z\n",
       "  \" fill=\"#0000ff\" fill-rule=\"evenodd\" fill-opacity=\"1\"/>\n",
       "<polyline clip-path=\"url(#clip674)\" style=\"stroke:#000000; stroke-linecap:butt; stroke-linejoin:round; stroke-width:4; stroke-opacity:1; fill:none\" points=\"\n",
       "  6026.37,777.646 6026.37,1466.7 6055.48,1466.7 6055.48,777.646 6026.37,777.646 \n",
       "  \"/>\n",
       "<path clip-path=\"url(#clip674)\" d=\"\n",
       "M6055.48 1466.7 L6055.48 1466.7 L6084.58 1466.7 L6084.58 1466.7 L6055.48 1466.7 L6055.48 1466.7  Z\n",
       "  \" fill=\"#0000ff\" fill-rule=\"evenodd\" fill-opacity=\"1\"/>\n",
       "<polyline clip-path=\"url(#clip674)\" style=\"stroke:#000000; stroke-linecap:butt; stroke-linejoin:round; stroke-width:4; stroke-opacity:1; fill:none\" points=\"\n",
       "  6055.48,1466.7 6055.48,1466.7 6084.58,1466.7 6055.48,1466.7 \n",
       "  \"/>\n",
       "<path clip-path=\"url(#clip674)\" d=\"\n",
       "M6084.58 777.646 L6084.58 1466.7 L6113.68 1466.7 L6113.68 777.646 L6084.58 777.646 L6084.58 777.646  Z\n",
       "  \" fill=\"#0000ff\" fill-rule=\"evenodd\" fill-opacity=\"1\"/>\n",
       "<polyline clip-path=\"url(#clip674)\" style=\"stroke:#000000; stroke-linecap:butt; stroke-linejoin:round; stroke-width:4; stroke-opacity:1; fill:none\" points=\"\n",
       "  6084.58,777.646 6084.58,1466.7 6113.68,1466.7 6113.68,777.646 6084.58,777.646 \n",
       "  \"/>\n",
       "<path clip-path=\"url(#clip674)\" d=\"\n",
       "M6113.68 1466.7 L6113.68 1466.7 L6142.78 1466.7 L6142.78 1466.7 L6113.68 1466.7 L6113.68 1466.7  Z\n",
       "  \" fill=\"#0000ff\" fill-rule=\"evenodd\" fill-opacity=\"1\"/>\n",
       "<polyline clip-path=\"url(#clip674)\" style=\"stroke:#000000; stroke-linecap:butt; stroke-linejoin:round; stroke-width:4; stroke-opacity:1; fill:none\" points=\"\n",
       "  6113.68,1466.7 6113.68,1466.7 6142.78,1466.7 6113.68,1466.7 \n",
       "  \"/>\n",
       "<path clip-path=\"url(#clip674)\" d=\"\n",
       "M6142.78 777.646 L6142.78 1466.7 L6171.88 1466.7 L6171.88 777.646 L6142.78 777.646 L6142.78 777.646  Z\n",
       "  \" fill=\"#0000ff\" fill-rule=\"evenodd\" fill-opacity=\"1\"/>\n",
       "<polyline clip-path=\"url(#clip674)\" style=\"stroke:#000000; stroke-linecap:butt; stroke-linejoin:round; stroke-width:4; stroke-opacity:1; fill:none\" points=\"\n",
       "  6142.78,777.646 6142.78,1466.7 6171.88,1466.7 6171.88,777.646 6142.78,777.646 \n",
       "  \"/>\n",
       "<circle clip-path=\"url(#clip674)\" style=\"fill:#e26f46; stroke:none; fill-opacity:0\" cx=\"4585.81\" cy=\"777.646\" r=\"2\"/>\n",
       "<circle clip-path=\"url(#clip674)\" style=\"fill:#e26f46; stroke:none; fill-opacity:0\" cx=\"4614.91\" cy=\"1466.7\" r=\"2\"/>\n",
       "<circle clip-path=\"url(#clip674)\" style=\"fill:#e26f46; stroke:none; fill-opacity:0\" cx=\"4644.02\" cy=\"1466.7\" r=\"2\"/>\n",
       "<circle clip-path=\"url(#clip674)\" style=\"fill:#e26f46; stroke:none; fill-opacity:0\" cx=\"4673.12\" cy=\"1466.7\" r=\"2\"/>\n",
       "<circle clip-path=\"url(#clip674)\" style=\"fill:#e26f46; stroke:none; fill-opacity:0\" cx=\"4702.22\" cy=\"1466.7\" r=\"2\"/>\n",
       "<circle clip-path=\"url(#clip674)\" style=\"fill:#e26f46; stroke:none; fill-opacity:0\" cx=\"4731.32\" cy=\"1466.7\" r=\"2\"/>\n",
       "<circle clip-path=\"url(#clip674)\" style=\"fill:#e26f46; stroke:none; fill-opacity:0\" cx=\"4760.42\" cy=\"1466.7\" r=\"2\"/>\n",
       "<circle clip-path=\"url(#clip674)\" style=\"fill:#e26f46; stroke:none; fill-opacity:0\" cx=\"4789.53\" cy=\"1466.7\" r=\"2\"/>\n",
       "<circle clip-path=\"url(#clip674)\" style=\"fill:#e26f46; stroke:none; fill-opacity:0\" cx=\"4818.63\" cy=\"1466.7\" r=\"2\"/>\n",
       "<circle clip-path=\"url(#clip674)\" style=\"fill:#e26f46; stroke:none; fill-opacity:0\" cx=\"4847.73\" cy=\"1466.7\" r=\"2\"/>\n",
       "<circle clip-path=\"url(#clip674)\" style=\"fill:#e26f46; stroke:none; fill-opacity:0\" cx=\"4876.83\" cy=\"1466.7\" r=\"2\"/>\n",
       "<circle clip-path=\"url(#clip674)\" style=\"fill:#e26f46; stroke:none; fill-opacity:0\" cx=\"4905.94\" cy=\"1466.7\" r=\"2\"/>\n",
       "<circle clip-path=\"url(#clip674)\" style=\"fill:#e26f46; stroke:none; fill-opacity:0\" cx=\"4935.04\" cy=\"1466.7\" r=\"2\"/>\n",
       "<circle clip-path=\"url(#clip674)\" style=\"fill:#e26f46; stroke:none; fill-opacity:0\" cx=\"4964.14\" cy=\"1466.7\" r=\"2\"/>\n",
       "<circle clip-path=\"url(#clip674)\" style=\"fill:#e26f46; stroke:none; fill-opacity:0\" cx=\"4993.24\" cy=\"1466.7\" r=\"2\"/>\n",
       "<circle clip-path=\"url(#clip674)\" style=\"fill:#e26f46; stroke:none; fill-opacity:0\" cx=\"5022.35\" cy=\"1466.7\" r=\"2\"/>\n",
       "<circle clip-path=\"url(#clip674)\" style=\"fill:#e26f46; stroke:none; fill-opacity:0\" cx=\"5051.45\" cy=\"1466.7\" r=\"2\"/>\n",
       "<circle clip-path=\"url(#clip674)\" style=\"fill:#e26f46; stroke:none; fill-opacity:0\" cx=\"5080.55\" cy=\"1466.7\" r=\"2\"/>\n",
       "<circle clip-path=\"url(#clip674)\" style=\"fill:#e26f46; stroke:none; fill-opacity:0\" cx=\"5109.65\" cy=\"1466.7\" r=\"2\"/>\n",
       "<circle clip-path=\"url(#clip674)\" style=\"fill:#e26f46; stroke:none; fill-opacity:0\" cx=\"5138.75\" cy=\"1466.7\" r=\"2\"/>\n",
       "<circle clip-path=\"url(#clip674)\" style=\"fill:#e26f46; stroke:none; fill-opacity:0\" cx=\"5167.86\" cy=\"1466.7\" r=\"2\"/>\n",
       "<circle clip-path=\"url(#clip674)\" style=\"fill:#e26f46; stroke:none; fill-opacity:0\" cx=\"5196.96\" cy=\"1466.7\" r=\"2\"/>\n",
       "<circle clip-path=\"url(#clip674)\" style=\"fill:#e26f46; stroke:none; fill-opacity:0\" cx=\"5226.06\" cy=\"1466.7\" r=\"2\"/>\n",
       "<circle clip-path=\"url(#clip674)\" style=\"fill:#e26f46; stroke:none; fill-opacity:0\" cx=\"5255.16\" cy=\"1466.7\" r=\"2\"/>\n",
       "<circle clip-path=\"url(#clip674)\" style=\"fill:#e26f46; stroke:none; fill-opacity:0\" cx=\"5284.27\" cy=\"1466.7\" r=\"2\"/>\n",
       "<circle clip-path=\"url(#clip674)\" style=\"fill:#e26f46; stroke:none; fill-opacity:0\" cx=\"5313.37\" cy=\"1466.7\" r=\"2\"/>\n",
       "<circle clip-path=\"url(#clip674)\" style=\"fill:#e26f46; stroke:none; fill-opacity:0\" cx=\"5342.47\" cy=\"1466.7\" r=\"2\"/>\n",
       "<circle clip-path=\"url(#clip674)\" style=\"fill:#e26f46; stroke:none; fill-opacity:0\" cx=\"5371.57\" cy=\"1466.7\" r=\"2\"/>\n",
       "<circle clip-path=\"url(#clip674)\" style=\"fill:#e26f46; stroke:none; fill-opacity:0\" cx=\"5400.67\" cy=\"777.646\" r=\"2\"/>\n",
       "<circle clip-path=\"url(#clip674)\" style=\"fill:#e26f46; stroke:none; fill-opacity:0\" cx=\"5429.78\" cy=\"1466.7\" r=\"2\"/>\n",
       "<circle clip-path=\"url(#clip674)\" style=\"fill:#e26f46; stroke:none; fill-opacity:0\" cx=\"5458.88\" cy=\"777.646\" r=\"2\"/>\n",
       "<circle clip-path=\"url(#clip674)\" style=\"fill:#e26f46; stroke:none; fill-opacity:0\" cx=\"5487.98\" cy=\"1466.7\" r=\"2\"/>\n",
       "<circle clip-path=\"url(#clip674)\" style=\"fill:#e26f46; stroke:none; fill-opacity:0\" cx=\"5517.08\" cy=\"1466.7\" r=\"2\"/>\n",
       "<circle clip-path=\"url(#clip674)\" style=\"fill:#e26f46; stroke:none; fill-opacity:0\" cx=\"5546.19\" cy=\"1466.7\" r=\"2\"/>\n",
       "<circle clip-path=\"url(#clip674)\" style=\"fill:#e26f46; stroke:none; fill-opacity:0\" cx=\"5575.29\" cy=\"777.646\" r=\"2\"/>\n",
       "<circle clip-path=\"url(#clip674)\" style=\"fill:#e26f46; stroke:none; fill-opacity:0\" cx=\"5604.39\" cy=\"1466.7\" r=\"2\"/>\n",
       "<circle clip-path=\"url(#clip674)\" style=\"fill:#e26f46; stroke:none; fill-opacity:0\" cx=\"5633.49\" cy=\"1466.7\" r=\"2\"/>\n",
       "<circle clip-path=\"url(#clip674)\" style=\"fill:#e26f46; stroke:none; fill-opacity:0\" cx=\"5662.6\" cy=\"777.646\" r=\"2\"/>\n",
       "<circle clip-path=\"url(#clip674)\" style=\"fill:#e26f46; stroke:none; fill-opacity:0\" cx=\"5691.7\" cy=\"777.646\" r=\"2\"/>\n",
       "<circle clip-path=\"url(#clip674)\" style=\"fill:#e26f46; stroke:none; fill-opacity:0\" cx=\"5720.8\" cy=\"1466.7\" r=\"2\"/>\n",
       "<circle clip-path=\"url(#clip674)\" style=\"fill:#e26f46; stroke:none; fill-opacity:0\" cx=\"5749.9\" cy=\"88.5876\" r=\"2\"/>\n",
       "<circle clip-path=\"url(#clip674)\" style=\"fill:#e26f46; stroke:none; fill-opacity:0\" cx=\"5779\" cy=\"88.5876\" r=\"2\"/>\n",
       "<circle clip-path=\"url(#clip674)\" style=\"fill:#e26f46; stroke:none; fill-opacity:0\" cx=\"5808.11\" cy=\"88.5876\" r=\"2\"/>\n",
       "<circle clip-path=\"url(#clip674)\" style=\"fill:#e26f46; stroke:none; fill-opacity:0\" cx=\"5837.21\" cy=\"88.5876\" r=\"2\"/>\n",
       "<circle clip-path=\"url(#clip674)\" style=\"fill:#e26f46; stroke:none; fill-opacity:0\" cx=\"5866.31\" cy=\"777.646\" r=\"2\"/>\n",
       "<circle clip-path=\"url(#clip674)\" style=\"fill:#e26f46; stroke:none; fill-opacity:0\" cx=\"5895.41\" cy=\"88.5876\" r=\"2\"/>\n",
       "<circle clip-path=\"url(#clip674)\" style=\"fill:#e26f46; stroke:none; fill-opacity:0\" cx=\"5924.52\" cy=\"1466.7\" r=\"2\"/>\n",
       "<circle clip-path=\"url(#clip674)\" style=\"fill:#e26f46; stroke:none; fill-opacity:0\" cx=\"5953.62\" cy=\"88.5876\" r=\"2\"/>\n",
       "<circle clip-path=\"url(#clip674)\" style=\"fill:#e26f46; stroke:none; fill-opacity:0\" cx=\"5982.72\" cy=\"88.5876\" r=\"2\"/>\n",
       "<circle clip-path=\"url(#clip674)\" style=\"fill:#e26f46; stroke:none; fill-opacity:0\" cx=\"6011.82\" cy=\"1466.7\" r=\"2\"/>\n",
       "<circle clip-path=\"url(#clip674)\" style=\"fill:#e26f46; stroke:none; fill-opacity:0\" cx=\"6040.92\" cy=\"777.646\" r=\"2\"/>\n",
       "<circle clip-path=\"url(#clip674)\" style=\"fill:#e26f46; stroke:none; fill-opacity:0\" cx=\"6070.03\" cy=\"1466.7\" r=\"2\"/>\n",
       "<circle clip-path=\"url(#clip674)\" style=\"fill:#e26f46; stroke:none; fill-opacity:0\" cx=\"6099.13\" cy=\"777.646\" r=\"2\"/>\n",
       "<circle clip-path=\"url(#clip674)\" style=\"fill:#e26f46; stroke:none; fill-opacity:0\" cx=\"6128.23\" cy=\"1466.7\" r=\"2\"/>\n",
       "<circle clip-path=\"url(#clip674)\" style=\"fill:#e26f46; stroke:none; fill-opacity:0\" cx=\"6157.33\" cy=\"777.646\" r=\"2\"/>\n",
       "</svg>\n"
      ]
     },
     "execution_count": 30,
     "metadata": {},
     "output_type": "execute_result"
    }
   ],
   "source": [
    "params = Optim.minimizer(res_train)\n",
    "cmap = colorsigned(color(\"blue\"), color(\"magenta\"), color(\"red\")) ∘ scalesigned(0, 0.5, 1.0)\n",
    "colors = cmap.(data_y)\n",
    "inferred_model = deepcopy(compile(model, params))\n",
    "trans_data_x_1 = hcat(map((x) -> forward(inferred_model, x), [data_x[k,:] for k=1:size(data_x,1)])...)'\n",
    "trans_data_x_2 = map((x) -> dot([1, 1], x), [trans_data_x_1[k,:] for k=1:size(data_x,1)])\n",
    "trans_data_x_2_split = [trans_data_x_2[data_y .== 1.0], trans_data_x_2[data_y .== 0.0]]\n",
    "plt1 = scatter(data_x[:,1], data_x[:,2], color=colors)\n",
    "plt2 = scatter(trans_data_x_1[:,1], trans_data_x_1[:,2], color=colors)\n",
    "hist = histogram(trans_data_x_2_split; stacked=true, bins=60,  fillcolor=[\"red\" \"blue\"], label = [\"Positive\" \"Negative\"], legend=:topleft)\n",
    "plot(plt1, plt2, hist, size=(1600, 400), legend=false, layout=(1, 3))"
   ]
  },
  {
   "cell_type": "code",
   "execution_count": 31,
   "id": "certain-comedy",
   "metadata": {},
   "outputs": [
    {
     "data": {
      "image/svg+xml": [
       "<?xml version=\"1.0\" encoding=\"utf-8\"?>\n",
       "<svg xmlns=\"http://www.w3.org/2000/svg\" xmlns:xlink=\"http://www.w3.org/1999/xlink\" width=\"1200\" height=\"300\" viewBox=\"0 0 4800 1200\">\n",
       "<defs>\n",
       "  <clipPath id=\"clip710\">\n",
       "    <rect x=\"0\" y=\"0\" width=\"4800\" height=\"1200\"/>\n",
       "  </clipPath>\n",
       "</defs>\n",
       "<path clip-path=\"url(#clip710)\" d=\"\n",
       "M0 1200 L4800 1200 L4800 0 L0 0  Z\n",
       "  \" fill=\"#ffffff\" fill-rule=\"evenodd\" fill-opacity=\"1\"/>\n",
       "<defs>\n",
       "  <clipPath id=\"clip711\">\n",
       "    <rect x=\"960\" y=\"0\" width=\"3361\" height=\"1200\"/>\n",
       "  </clipPath>\n",
       "</defs>\n",
       "<path clip-path=\"url(#clip710)\" d=\"\n",
       "M243.842 1078.48 L1573.84 1078.48 L1573.84 47.2441 L243.842 47.2441  Z\n",
       "  \" fill=\"#ffffff\" fill-rule=\"evenodd\" fill-opacity=\"1\"/>\n",
       "<defs>\n",
       "  <clipPath id=\"clip712\">\n",
       "    <rect x=\"243\" y=\"47\" width=\"1331\" height=\"1032\"/>\n",
       "  </clipPath>\n",
       "</defs>\n",
       "<polyline clip-path=\"url(#clip712)\" style=\"stroke:#000000; stroke-linecap:butt; stroke-linejoin:round; stroke-width:2; stroke-opacity:0.1; fill:none\" points=\"\n",
       "  464.006,1078.48 464.006,47.2441 \n",
       "  \"/>\n",
       "<polyline clip-path=\"url(#clip712)\" style=\"stroke:#000000; stroke-linecap:butt; stroke-linejoin:round; stroke-width:2; stroke-opacity:0.1; fill:none\" points=\"\n",
       "  719.35,1078.48 719.35,47.2441 \n",
       "  \"/>\n",
       "<polyline clip-path=\"url(#clip712)\" style=\"stroke:#000000; stroke-linecap:butt; stroke-linejoin:round; stroke-width:2; stroke-opacity:0.1; fill:none\" points=\"\n",
       "  974.693,1078.48 974.693,47.2441 \n",
       "  \"/>\n",
       "<polyline clip-path=\"url(#clip712)\" style=\"stroke:#000000; stroke-linecap:butt; stroke-linejoin:round; stroke-width:2; stroke-opacity:0.1; fill:none\" points=\"\n",
       "  1230.04,1078.48 1230.04,47.2441 \n",
       "  \"/>\n",
       "<polyline clip-path=\"url(#clip712)\" style=\"stroke:#000000; stroke-linecap:butt; stroke-linejoin:round; stroke-width:2; stroke-opacity:0.1; fill:none\" points=\"\n",
       "  1485.38,1078.48 1485.38,47.2441 \n",
       "  \"/>\n",
       "<polyline clip-path=\"url(#clip710)\" style=\"stroke:#000000; stroke-linecap:butt; stroke-linejoin:round; stroke-width:4; stroke-opacity:1; fill:none\" points=\"\n",
       "  243.842,1078.48 1573.84,1078.48 \n",
       "  \"/>\n",
       "<polyline clip-path=\"url(#clip710)\" style=\"stroke:#000000; stroke-linecap:butt; stroke-linejoin:round; stroke-width:4; stroke-opacity:1; fill:none\" points=\"\n",
       "  464.006,1078.48 464.006,1059.58 \n",
       "  \"/>\n",
       "<polyline clip-path=\"url(#clip710)\" style=\"stroke:#000000; stroke-linecap:butt; stroke-linejoin:round; stroke-width:4; stroke-opacity:1; fill:none\" points=\"\n",
       "  719.35,1078.48 719.35,1059.58 \n",
       "  \"/>\n",
       "<polyline clip-path=\"url(#clip710)\" style=\"stroke:#000000; stroke-linecap:butt; stroke-linejoin:round; stroke-width:4; stroke-opacity:1; fill:none\" points=\"\n",
       "  974.693,1078.48 974.693,1059.58 \n",
       "  \"/>\n",
       "<polyline clip-path=\"url(#clip710)\" style=\"stroke:#000000; stroke-linecap:butt; stroke-linejoin:round; stroke-width:4; stroke-opacity:1; fill:none\" points=\"\n",
       "  1230.04,1078.48 1230.04,1059.58 \n",
       "  \"/>\n",
       "<polyline clip-path=\"url(#clip710)\" style=\"stroke:#000000; stroke-linecap:butt; stroke-linejoin:round; stroke-width:4; stroke-opacity:1; fill:none\" points=\"\n",
       "  1485.38,1078.48 1485.38,1059.58 \n",
       "  \"/>\n",
       "<path clip-path=\"url(#clip710)\" d=\"M441.888 1126.87 Q438.277 1126.87 436.449 1130.44 Q434.643 1133.98 434.643 1141.11 Q434.643 1148.21 436.449 1151.78 Q438.277 1155.32 441.888 1155.32 Q445.523 1155.32 447.328 1151.78 Q449.157 1148.21 449.157 1141.11 Q449.157 1133.98 447.328 1130.44 Q445.523 1126.87 441.888 1126.87 M441.888 1123.17 Q447.699 1123.17 450.754 1127.77 Q453.833 1132.36 453.833 1141.11 Q453.833 1149.83 450.754 1154.44 Q447.699 1159.02 441.888 1159.02 Q436.078 1159.02 433 1154.44 Q429.944 1149.83 429.944 1141.11 Q429.944 1132.36 433 1127.77 Q436.078 1123.17 441.888 1123.17 Z\" fill=\"#000000\" fill-rule=\"evenodd\" fill-opacity=\"1\" /><path clip-path=\"url(#clip710)\" d=\"M462.05 1152.47 L466.935 1152.47 L466.935 1158.35 L462.05 1158.35 L462.05 1152.47 Z\" fill=\"#000000\" fill-rule=\"evenodd\" fill-opacity=\"1\" /><path clip-path=\"url(#clip710)\" d=\"M477.166 1123.79 L495.522 1123.79 L495.522 1127.73 L481.448 1127.73 L481.448 1136.2 Q482.467 1135.85 483.485 1135.69 Q484.504 1135.5 485.522 1135.5 Q491.309 1135.5 494.689 1138.68 Q498.069 1141.85 498.069 1147.26 Q498.069 1152.84 494.596 1155.94 Q491.124 1159.02 484.805 1159.02 Q482.629 1159.02 480.36 1158.65 Q478.115 1158.28 475.708 1157.54 L475.708 1152.84 Q477.791 1153.98 480.013 1154.53 Q482.235 1155.09 484.712 1155.09 Q488.717 1155.09 491.055 1152.98 Q493.393 1150.88 493.393 1147.26 Q493.393 1143.65 491.055 1141.55 Q488.717 1139.44 484.712 1139.44 Q482.837 1139.44 480.962 1139.86 Q479.11 1140.27 477.166 1141.15 L477.166 1123.79 Z\" fill=\"#000000\" fill-rule=\"evenodd\" fill-opacity=\"1\" /><path clip-path=\"url(#clip710)\" d=\"M686.503 1154.42 L694.142 1154.42 L694.142 1128.05 L685.831 1129.72 L685.831 1125.46 L694.095 1123.79 L698.771 1123.79 L698.771 1154.42 L706.41 1154.42 L706.41 1158.35 L686.503 1158.35 L686.503 1154.42 Z\" fill=\"#000000\" fill-rule=\"evenodd\" fill-opacity=\"1\" /><path clip-path=\"url(#clip710)\" d=\"M715.854 1152.47 L720.739 1152.47 L720.739 1158.35 L715.854 1158.35 L715.854 1152.47 Z\" fill=\"#000000\" fill-rule=\"evenodd\" fill-opacity=\"1\" /><path clip-path=\"url(#clip710)\" d=\"M740.924 1126.87 Q737.313 1126.87 735.484 1130.44 Q733.678 1133.98 733.678 1141.11 Q733.678 1148.21 735.484 1151.78 Q737.313 1155.32 740.924 1155.32 Q744.558 1155.32 746.364 1151.78 Q748.192 1148.21 748.192 1141.11 Q748.192 1133.98 746.364 1130.44 Q744.558 1126.87 740.924 1126.87 M740.924 1123.17 Q746.734 1123.17 749.789 1127.77 Q752.868 1132.36 752.868 1141.11 Q752.868 1149.83 749.789 1154.44 Q746.734 1159.02 740.924 1159.02 Q735.114 1159.02 732.035 1154.44 Q728.979 1149.83 728.979 1141.11 Q728.979 1132.36 732.035 1127.77 Q735.114 1123.17 740.924 1123.17 Z\" fill=\"#000000\" fill-rule=\"evenodd\" fill-opacity=\"1\" /><path clip-path=\"url(#clip710)\" d=\"M942.344 1154.42 L949.983 1154.42 L949.983 1128.05 L941.673 1129.72 L941.673 1125.46 L949.937 1123.79 L954.612 1123.79 L954.612 1154.42 L962.251 1154.42 L962.251 1158.35 L942.344 1158.35 L942.344 1154.42 Z\" fill=\"#000000\" fill-rule=\"evenodd\" fill-opacity=\"1\" /><path clip-path=\"url(#clip710)\" d=\"M971.696 1152.47 L976.58 1152.47 L976.58 1158.35 L971.696 1158.35 L971.696 1152.47 Z\" fill=\"#000000\" fill-rule=\"evenodd\" fill-opacity=\"1\" /><path clip-path=\"url(#clip710)\" d=\"M986.811 1123.79 L1005.17 1123.79 L1005.17 1127.73 L991.094 1127.73 L991.094 1136.2 Q992.112 1135.85 993.131 1135.69 Q994.149 1135.5 995.168 1135.5 Q1000.95 1135.5 1004.33 1138.68 Q1007.71 1141.85 1007.71 1147.26 Q1007.71 1152.84 1004.24 1155.94 Q1000.77 1159.02 994.45 1159.02 Q992.274 1159.02 990.006 1158.65 Q987.76 1158.28 985.353 1157.54 L985.353 1152.84 Q987.436 1153.98 989.659 1154.53 Q991.881 1155.09 994.358 1155.09 Q998.362 1155.09 1000.7 1152.98 Q1003.04 1150.88 1003.04 1147.26 Q1003.04 1143.65 1000.7 1141.55 Q998.362 1139.44 994.358 1139.44 Q992.483 1139.44 990.608 1139.86 Q988.756 1140.27 986.811 1141.15 L986.811 1123.79 Z\" fill=\"#000000\" fill-rule=\"evenodd\" fill-opacity=\"1\" /><path clip-path=\"url(#clip710)\" d=\"M1201.28 1154.42 L1217.59 1154.42 L1217.59 1158.35 L1195.65 1158.35 L1195.65 1154.42 Q1198.31 1151.66 1202.9 1147.03 Q1207.5 1142.38 1208.68 1141.04 Q1210.93 1138.51 1211.81 1136.78 Q1212.71 1135.02 1212.71 1133.33 Q1212.71 1130.57 1210.77 1128.84 Q1208.84 1127.1 1205.74 1127.1 Q1203.54 1127.1 1201.09 1127.87 Q1198.66 1128.63 1195.88 1130.18 L1195.88 1125.46 Q1198.71 1124.32 1201.16 1123.75 Q1203.61 1123.17 1205.65 1123.17 Q1211.02 1123.17 1214.22 1125.85 Q1217.41 1128.54 1217.41 1133.03 Q1217.41 1135.16 1216.6 1137.08 Q1215.81 1138.98 1213.71 1141.57 Q1213.13 1142.24 1210.03 1145.46 Q1206.92 1148.65 1201.28 1154.42 Z\" fill=\"#000000\" fill-rule=\"evenodd\" fill-opacity=\"1\" /><path clip-path=\"url(#clip710)\" d=\"M1227.41 1152.47 L1232.29 1152.47 L1232.29 1158.35 L1227.41 1158.35 L1227.41 1152.47 Z\" fill=\"#000000\" fill-rule=\"evenodd\" fill-opacity=\"1\" /><path clip-path=\"url(#clip710)\" d=\"M1252.48 1126.87 Q1248.87 1126.87 1247.04 1130.44 Q1245.23 1133.98 1245.23 1141.11 Q1245.23 1148.21 1247.04 1151.78 Q1248.87 1155.32 1252.48 1155.32 Q1256.11 1155.32 1257.92 1151.78 Q1259.75 1148.21 1259.75 1141.11 Q1259.75 1133.98 1257.92 1130.44 Q1256.11 1126.87 1252.48 1126.87 M1252.48 1123.17 Q1258.29 1123.17 1261.34 1127.77 Q1264.42 1132.36 1264.42 1141.11 Q1264.42 1149.83 1261.34 1154.44 Q1258.29 1159.02 1252.48 1159.02 Q1246.67 1159.02 1243.59 1154.44 Q1240.53 1149.83 1240.53 1141.11 Q1240.53 1132.36 1243.59 1127.77 Q1246.67 1123.17 1252.48 1123.17 Z\" fill=\"#000000\" fill-rule=\"evenodd\" fill-opacity=\"1\" /><path clip-path=\"url(#clip710)\" d=\"M1457.12 1154.42 L1473.44 1154.42 L1473.44 1158.35 L1451.49 1158.35 L1451.49 1154.42 Q1454.15 1151.66 1458.74 1147.03 Q1463.34 1142.38 1464.52 1141.04 Q1466.77 1138.51 1467.65 1136.78 Q1468.55 1135.02 1468.55 1133.33 Q1468.55 1130.57 1466.61 1128.84 Q1464.69 1127.1 1461.58 1127.1 Q1459.39 1127.1 1456.93 1127.87 Q1454.5 1128.63 1451.72 1130.18 L1451.72 1125.46 Q1454.55 1124.32 1457 1123.75 Q1459.45 1123.17 1461.49 1123.17 Q1466.86 1123.17 1470.06 1125.85 Q1473.25 1128.54 1473.25 1133.03 Q1473.25 1135.16 1472.44 1137.08 Q1471.65 1138.98 1469.55 1141.57 Q1468.97 1142.24 1465.87 1145.46 Q1462.76 1148.65 1457.12 1154.42 Z\" fill=\"#000000\" fill-rule=\"evenodd\" fill-opacity=\"1\" /><path clip-path=\"url(#clip710)\" d=\"M1483.25 1152.47 L1488.13 1152.47 L1488.13 1158.35 L1483.25 1158.35 L1483.25 1152.47 Z\" fill=\"#000000\" fill-rule=\"evenodd\" fill-opacity=\"1\" /><path clip-path=\"url(#clip710)\" d=\"M1498.37 1123.79 L1516.72 1123.79 L1516.72 1127.73 L1502.65 1127.73 L1502.65 1136.2 Q1503.67 1135.85 1504.69 1135.69 Q1505.7 1135.5 1506.72 1135.5 Q1512.51 1135.5 1515.89 1138.68 Q1519.27 1141.85 1519.27 1147.26 Q1519.27 1152.84 1515.8 1155.94 Q1512.32 1159.02 1506.01 1159.02 Q1503.83 1159.02 1501.56 1158.65 Q1499.32 1158.28 1496.91 1157.54 L1496.91 1152.84 Q1498.99 1153.98 1501.21 1154.53 Q1503.44 1155.09 1505.91 1155.09 Q1509.92 1155.09 1512.26 1152.98 Q1514.59 1150.88 1514.59 1147.26 Q1514.59 1143.65 1512.26 1141.55 Q1509.92 1139.44 1505.91 1139.44 Q1504.04 1139.44 1502.16 1139.86 Q1500.31 1140.27 1498.37 1141.15 L1498.37 1123.79 Z\" fill=\"#000000\" fill-rule=\"evenodd\" fill-opacity=\"1\" /><path clip-path=\"url(#clip710)\" d=\"M838.18 1241.11 Q838.18 1234.74 835.538 1231.24 Q832.929 1227.74 828.186 1227.74 Q823.475 1227.74 820.834 1231.24 Q818.224 1234.74 818.224 1241.11 Q818.224 1247.44 820.834 1250.94 Q823.475 1254.44 828.186 1254.44 Q832.929 1254.44 835.538 1250.94 Q838.18 1247.44 838.18 1241.11 M844.037 1254.92 Q844.037 1264.02 839.994 1268.45 Q835.952 1272.9 827.613 1272.9 Q824.526 1272.9 821.789 1272.43 Q819.051 1271.98 816.473 1271.02 L816.473 1265.33 Q819.051 1266.73 821.566 1267.4 Q824.08 1268.06 826.69 1268.06 Q832.451 1268.06 835.316 1265.04 Q838.18 1262.05 838.18 1255.97 L838.18 1253.07 Q836.366 1256.22 833.533 1257.78 Q830.701 1259.34 826.754 1259.34 Q820.197 1259.34 816.187 1254.35 Q812.176 1249.35 812.176 1241.11 Q812.176 1232.83 816.187 1227.83 Q820.197 1222.84 826.754 1222.84 Q830.701 1222.84 833.533 1224.4 Q836.366 1225.96 838.18 1229.11 L838.18 1223.7 L844.037 1223.7 L844.037 1254.92 Z\" fill=\"#000000\" fill-rule=\"evenodd\" fill-opacity=\"1\" /><path clip-path=\"url(#clip710)\" d=\"M872.3 1241.42 Q865.203 1241.42 862.465 1243.05 Q859.728 1244.67 859.728 1248.59 Q859.728 1251.7 861.765 1253.55 Q863.834 1255.37 867.367 1255.37 Q872.237 1255.37 875.165 1251.93 Q878.125 1248.46 878.125 1242.73 L878.125 1241.42 L872.3 1241.42 M883.982 1239.01 L883.982 1259.34 L878.125 1259.34 L878.125 1253.93 Q876.12 1257.18 873.128 1258.74 Q870.136 1260.27 865.807 1260.27 Q860.333 1260.27 857.086 1257.21 Q853.872 1254.12 853.872 1248.97 Q853.872 1242.95 857.882 1239.9 Q861.924 1236.84 869.913 1236.84 L878.125 1236.84 L878.125 1236.27 Q878.125 1232.23 875.451 1230.03 Q872.81 1227.8 868.004 1227.8 Q864.948 1227.8 862.052 1228.53 Q859.155 1229.27 856.482 1230.73 L856.482 1225.32 Q859.696 1224.08 862.72 1223.47 Q865.744 1222.84 868.608 1222.84 Q876.343 1222.84 880.162 1226.85 Q883.982 1230.86 883.982 1239.01 Z\" fill=\"#000000\" fill-rule=\"evenodd\" fill-opacity=\"1\" /><path clip-path=\"url(#clip710)\" d=\"M896.045 1223.7 L901.901 1223.7 L901.901 1259.34 L896.045 1259.34 L896.045 1223.7 M896.045 1209.82 L901.901 1209.82 L901.901 1217.23 L896.045 1217.23 L896.045 1209.82 Z\" fill=\"#000000\" fill-rule=\"evenodd\" fill-opacity=\"1\" /><path clip-path=\"url(#clip710)\" d=\"M943.787 1237.83 L943.787 1259.34 L937.931 1259.34 L937.931 1238.02 Q937.931 1232.96 935.958 1230.44 Q933.984 1227.93 930.037 1227.93 Q925.295 1227.93 922.558 1230.95 Q919.82 1233.98 919.82 1239.2 L919.82 1259.34 L913.932 1259.34 L913.932 1223.7 L919.82 1223.7 L919.82 1229.23 Q921.921 1226.02 924.754 1224.43 Q927.618 1222.84 931.342 1222.84 Q937.485 1222.84 940.636 1226.66 Q943.787 1230.44 943.787 1237.83 Z\" fill=\"#000000\" fill-rule=\"evenodd\" fill-opacity=\"1\" /><path clip-path=\"url(#clip710)\" d=\"M978.13 1253.93 L988.634 1253.93 L988.634 1217.68 L977.207 1219.97 L977.207 1214.12 L988.57 1211.82 L994.999 1211.82 L994.999 1253.93 L1005.5 1253.93 L1005.5 1259.34 L978.13 1259.34 L978.13 1253.93 Z\" fill=\"#000000\" fill-rule=\"evenodd\" fill-opacity=\"1\" /><polyline clip-path=\"url(#clip712)\" style=\"stroke:#000000; stroke-linecap:butt; stroke-linejoin:round; stroke-width:2; stroke-opacity:0.1; fill:none\" points=\"\n",
       "  243.842,984.519 1573.84,984.519 \n",
       "  \"/>\n",
       "<polyline clip-path=\"url(#clip712)\" style=\"stroke:#000000; stroke-linecap:butt; stroke-linejoin:round; stroke-width:2; stroke-opacity:0.1; fill:none\" points=\"\n",
       "  243.842,775.606 1573.84,775.606 \n",
       "  \"/>\n",
       "<polyline clip-path=\"url(#clip712)\" style=\"stroke:#000000; stroke-linecap:butt; stroke-linejoin:round; stroke-width:2; stroke-opacity:0.1; fill:none\" points=\"\n",
       "  243.842,566.692 1573.84,566.692 \n",
       "  \"/>\n",
       "<polyline clip-path=\"url(#clip712)\" style=\"stroke:#000000; stroke-linecap:butt; stroke-linejoin:round; stroke-width:2; stroke-opacity:0.1; fill:none\" points=\"\n",
       "  243.842,357.779 1573.84,357.779 \n",
       "  \"/>\n",
       "<polyline clip-path=\"url(#clip712)\" style=\"stroke:#000000; stroke-linecap:butt; stroke-linejoin:round; stroke-width:2; stroke-opacity:0.1; fill:none\" points=\"\n",
       "  243.842,148.865 1573.84,148.865 \n",
       "  \"/>\n",
       "<polyline clip-path=\"url(#clip710)\" style=\"stroke:#000000; stroke-linecap:butt; stroke-linejoin:round; stroke-width:4; stroke-opacity:1; fill:none\" points=\"\n",
       "  243.842,1078.48 243.842,47.2441 \n",
       "  \"/>\n",
       "<polyline clip-path=\"url(#clip710)\" style=\"stroke:#000000; stroke-linecap:butt; stroke-linejoin:round; stroke-width:4; stroke-opacity:1; fill:none\" points=\"\n",
       "  243.842,984.519 262.74,984.519 \n",
       "  \"/>\n",
       "<polyline clip-path=\"url(#clip710)\" style=\"stroke:#000000; stroke-linecap:butt; stroke-linejoin:round; stroke-width:4; stroke-opacity:1; fill:none\" points=\"\n",
       "  243.842,775.606 262.74,775.606 \n",
       "  \"/>\n",
       "<polyline clip-path=\"url(#clip710)\" style=\"stroke:#000000; stroke-linecap:butt; stroke-linejoin:round; stroke-width:4; stroke-opacity:1; fill:none\" points=\"\n",
       "  243.842,566.692 262.74,566.692 \n",
       "  \"/>\n",
       "<polyline clip-path=\"url(#clip710)\" style=\"stroke:#000000; stroke-linecap:butt; stroke-linejoin:round; stroke-width:4; stroke-opacity:1; fill:none\" points=\"\n",
       "  243.842,357.779 262.74,357.779 \n",
       "  \"/>\n",
       "<polyline clip-path=\"url(#clip710)\" style=\"stroke:#000000; stroke-linecap:butt; stroke-linejoin:round; stroke-width:4; stroke-opacity:1; fill:none\" points=\"\n",
       "  243.842,148.865 262.74,148.865 \n",
       "  \"/>\n",
       "<path clip-path=\"url(#clip710)\" d=\"M84.5045 970.318 Q80.8934 970.318 79.0648 973.883 Q77.2592 977.424 77.2592 984.554 Q77.2592 991.66 79.0648 995.225 Q80.8934 998.767 84.5045 998.767 Q88.1388 998.767 89.9443 995.225 Q91.773 991.66 91.773 984.554 Q91.773 977.424 89.9443 973.883 Q88.1388 970.318 84.5045 970.318 M84.5045 966.614 Q90.3147 966.614 93.3702 971.221 Q96.4489 975.804 96.4489 984.554 Q96.4489 993.281 93.3702 997.887 Q90.3147 1002.47 84.5045 1002.47 Q78.6944 1002.47 75.6157 997.887 Q72.5602 993.281 72.5602 984.554 Q72.5602 975.804 75.6157 971.221 Q78.6944 966.614 84.5045 966.614 Z\" fill=\"#000000\" fill-rule=\"evenodd\" fill-opacity=\"1\" /><path clip-path=\"url(#clip710)\" d=\"M104.666 995.92 L109.551 995.92 L109.551 1001.8 L104.666 1001.8 L104.666 995.92 Z\" fill=\"#000000\" fill-rule=\"evenodd\" fill-opacity=\"1\" /><path clip-path=\"url(#clip710)\" d=\"M129.736 970.318 Q126.125 970.318 124.296 973.883 Q122.49 977.424 122.49 984.554 Q122.49 991.66 124.296 995.225 Q126.125 998.767 129.736 998.767 Q133.37 998.767 135.176 995.225 Q137.004 991.66 137.004 984.554 Q137.004 977.424 135.176 973.883 Q133.37 970.318 129.736 970.318 M129.736 966.614 Q135.546 966.614 138.601 971.221 Q141.68 975.804 141.68 984.554 Q141.68 993.281 138.601 997.887 Q135.546 1002.47 129.736 1002.47 Q123.926 1002.47 120.847 997.887 Q117.791 993.281 117.791 984.554 Q117.791 975.804 120.847 971.221 Q123.926 966.614 129.736 966.614 Z\" fill=\"#000000\" fill-rule=\"evenodd\" fill-opacity=\"1\" /><path clip-path=\"url(#clip710)\" d=\"M159.898 970.318 Q156.287 970.318 154.458 973.883 Q152.652 977.424 152.652 984.554 Q152.652 991.66 154.458 995.225 Q156.287 998.767 159.898 998.767 Q163.532 998.767 165.337 995.225 Q167.166 991.66 167.166 984.554 Q167.166 977.424 165.337 973.883 Q163.532 970.318 159.898 970.318 M159.898 966.614 Q165.708 966.614 168.763 971.221 Q171.842 975.804 171.842 984.554 Q171.842 993.281 168.763 997.887 Q165.708 1002.47 159.898 1002.47 Q154.087 1002.47 151.009 997.887 Q147.953 993.281 147.953 984.554 Q147.953 975.804 151.009 971.221 Q154.087 966.614 159.898 966.614 Z\" fill=\"#000000\" fill-rule=\"evenodd\" fill-opacity=\"1\" /><path clip-path=\"url(#clip710)\" d=\"M85.4999 761.404 Q81.8888 761.404 80.0601 764.969 Q78.2546 768.511 78.2546 775.64 Q78.2546 782.747 80.0601 786.312 Q81.8888 789.853 85.4999 789.853 Q89.1341 789.853 90.9397 786.312 Q92.7684 782.747 92.7684 775.64 Q92.7684 768.511 90.9397 764.969 Q89.1341 761.404 85.4999 761.404 M85.4999 757.701 Q91.3101 757.701 94.3656 762.307 Q97.4443 766.89 97.4443 775.64 Q97.4443 784.367 94.3656 788.974 Q91.3101 793.557 85.4999 793.557 Q79.6897 793.557 76.6111 788.974 Q73.5555 784.367 73.5555 775.64 Q73.5555 766.89 76.6111 762.307 Q79.6897 757.701 85.4999 757.701 Z\" fill=\"#000000\" fill-rule=\"evenodd\" fill-opacity=\"1\" /><path clip-path=\"url(#clip710)\" d=\"M105.662 787.006 L110.546 787.006 L110.546 792.886 L105.662 792.886 L105.662 787.006 Z\" fill=\"#000000\" fill-rule=\"evenodd\" fill-opacity=\"1\" /><path clip-path=\"url(#clip710)\" d=\"M124.759 788.95 L141.078 788.95 L141.078 792.886 L119.134 792.886 L119.134 788.95 Q121.796 786.196 126.379 781.566 Q130.986 776.914 132.166 775.571 Q134.412 773.048 135.291 771.312 Q136.194 769.552 136.194 767.863 Q136.194 765.108 134.25 763.372 Q132.328 761.636 129.227 761.636 Q127.027 761.636 124.574 762.4 Q122.143 763.164 119.365 764.715 L119.365 759.992 Q122.19 758.858 124.643 758.279 Q127.097 757.701 129.134 757.701 Q134.504 757.701 137.699 760.386 Q140.893 763.071 140.893 767.562 Q140.893 769.691 140.083 771.613 Q139.296 773.511 137.189 776.103 Q136.611 776.775 133.509 779.992 Q130.407 783.187 124.759 788.95 Z\" fill=\"#000000\" fill-rule=\"evenodd\" fill-opacity=\"1\" /><path clip-path=\"url(#clip710)\" d=\"M150.939 758.326 L169.296 758.326 L169.296 762.261 L155.222 762.261 L155.222 770.733 Q156.24 770.386 157.259 770.224 Q158.277 770.039 159.296 770.039 Q165.083 770.039 168.462 773.21 Q171.842 776.381 171.842 781.798 Q171.842 787.376 168.37 790.478 Q164.898 793.557 158.578 793.557 Q156.402 793.557 154.134 793.187 Q151.888 792.816 149.481 792.075 L149.481 787.376 Q151.564 788.511 153.787 789.066 Q156.009 789.622 158.486 789.622 Q162.49 789.622 164.828 787.515 Q167.166 785.409 167.166 781.798 Q167.166 778.187 164.828 776.08 Q162.49 773.974 158.486 773.974 Q156.611 773.974 154.736 774.39 Q152.884 774.807 150.939 775.687 L150.939 758.326 Z\" fill=\"#000000\" fill-rule=\"evenodd\" fill-opacity=\"1\" /><path clip-path=\"url(#clip710)\" d=\"M84.5045 552.491 Q80.8934 552.491 79.0648 556.056 Q77.2592 559.597 77.2592 566.727 Q77.2592 573.833 79.0648 577.398 Q80.8934 580.94 84.5045 580.94 Q88.1388 580.94 89.9443 577.398 Q91.773 573.833 91.773 566.727 Q91.773 559.597 89.9443 556.056 Q88.1388 552.491 84.5045 552.491 M84.5045 548.787 Q90.3147 548.787 93.3702 553.394 Q96.4489 557.977 96.4489 566.727 Q96.4489 575.454 93.3702 580.06 Q90.3147 584.643 84.5045 584.643 Q78.6944 584.643 75.6157 580.06 Q72.5602 575.454 72.5602 566.727 Q72.5602 557.977 75.6157 553.394 Q78.6944 548.787 84.5045 548.787 Z\" fill=\"#000000\" fill-rule=\"evenodd\" fill-opacity=\"1\" /><path clip-path=\"url(#clip710)\" d=\"M104.666 578.093 L109.551 578.093 L109.551 583.972 L104.666 583.972 L104.666 578.093 Z\" fill=\"#000000\" fill-rule=\"evenodd\" fill-opacity=\"1\" /><path clip-path=\"url(#clip710)\" d=\"M119.782 549.412 L138.139 549.412 L138.139 553.347 L124.065 553.347 L124.065 561.82 Q125.083 561.472 126.102 561.31 Q127.12 561.125 128.139 561.125 Q133.926 561.125 137.305 564.296 Q140.685 567.468 140.685 572.884 Q140.685 578.463 137.213 581.565 Q133.74 584.643 127.421 584.643 Q125.245 584.643 122.977 584.273 Q120.731 583.903 118.324 583.162 L118.324 578.463 Q120.407 579.597 122.629 580.153 Q124.852 580.708 127.328 580.708 Q131.333 580.708 133.671 578.602 Q136.009 576.495 136.009 572.884 Q136.009 569.273 133.671 567.167 Q131.333 565.06 127.328 565.06 Q125.453 565.06 123.578 565.477 Q121.727 565.894 119.782 566.773 L119.782 549.412 Z\" fill=\"#000000\" fill-rule=\"evenodd\" fill-opacity=\"1\" /><path clip-path=\"url(#clip710)\" d=\"M159.898 552.491 Q156.287 552.491 154.458 556.056 Q152.652 559.597 152.652 566.727 Q152.652 573.833 154.458 577.398 Q156.287 580.94 159.898 580.94 Q163.532 580.94 165.337 577.398 Q167.166 573.833 167.166 566.727 Q167.166 559.597 165.337 556.056 Q163.532 552.491 159.898 552.491 M159.898 548.787 Q165.708 548.787 168.763 553.394 Q171.842 557.977 171.842 566.727 Q171.842 575.454 168.763 580.06 Q165.708 584.643 159.898 584.643 Q154.087 584.643 151.009 580.06 Q147.953 575.454 147.953 566.727 Q147.953 557.977 151.009 553.394 Q154.087 548.787 159.898 548.787 Z\" fill=\"#000000\" fill-rule=\"evenodd\" fill-opacity=\"1\" /><path clip-path=\"url(#clip710)\" d=\"M85.4999 343.577 Q81.8888 343.577 80.0601 347.142 Q78.2546 350.684 78.2546 357.813 Q78.2546 364.92 80.0601 368.485 Q81.8888 372.026 85.4999 372.026 Q89.1341 372.026 90.9397 368.485 Q92.7684 364.92 92.7684 357.813 Q92.7684 350.684 90.9397 347.142 Q89.1341 343.577 85.4999 343.577 M85.4999 339.874 Q91.3101 339.874 94.3656 344.48 Q97.4443 349.063 97.4443 357.813 Q97.4443 366.54 94.3656 371.147 Q91.3101 375.73 85.4999 375.73 Q79.6897 375.73 76.6111 371.147 Q73.5555 366.54 73.5555 357.813 Q73.5555 349.063 76.6111 344.48 Q79.6897 339.874 85.4999 339.874 Z\" fill=\"#000000\" fill-rule=\"evenodd\" fill-opacity=\"1\" /><path clip-path=\"url(#clip710)\" d=\"M105.662 369.179 L110.546 369.179 L110.546 375.059 L105.662 375.059 L105.662 369.179 Z\" fill=\"#000000\" fill-rule=\"evenodd\" fill-opacity=\"1\" /><path clip-path=\"url(#clip710)\" d=\"M119.551 340.499 L141.773 340.499 L141.773 342.489 L129.227 375.059 L124.342 375.059 L136.148 344.434 L119.551 344.434 L119.551 340.499 Z\" fill=\"#000000\" fill-rule=\"evenodd\" fill-opacity=\"1\" /><path clip-path=\"url(#clip710)\" d=\"M150.939 340.499 L169.296 340.499 L169.296 344.434 L155.222 344.434 L155.222 352.906 Q156.24 352.559 157.259 352.397 Q158.277 352.212 159.296 352.212 Q165.083 352.212 168.462 355.383 Q171.842 358.554 171.842 363.971 Q171.842 369.549 168.37 372.651 Q164.898 375.73 158.578 375.73 Q156.402 375.73 154.134 375.36 Q151.888 374.989 149.481 374.249 L149.481 369.549 Q151.564 370.684 153.787 371.239 Q156.009 371.795 158.486 371.795 Q162.49 371.795 164.828 369.688 Q167.166 367.582 167.166 363.971 Q167.166 360.36 164.828 358.253 Q162.49 356.147 158.486 356.147 Q156.611 356.147 154.736 356.563 Q152.884 356.98 150.939 357.86 L150.939 340.499 Z\" fill=\"#000000\" fill-rule=\"evenodd\" fill-opacity=\"1\" /><path clip-path=\"url(#clip710)\" d=\"M75.3148 162.21 L82.9536 162.21 L82.9536 135.845 L74.6435 137.511 L74.6435 133.252 L82.9073 131.585 L87.5832 131.585 L87.5832 162.21 L95.2221 162.21 L95.2221 166.145 L75.3148 166.145 L75.3148 162.21 Z\" fill=\"#000000\" fill-rule=\"evenodd\" fill-opacity=\"1\" /><path clip-path=\"url(#clip710)\" d=\"M104.666 160.266 L109.551 160.266 L109.551 166.145 L104.666 166.145 L104.666 160.266 Z\" fill=\"#000000\" fill-rule=\"evenodd\" fill-opacity=\"1\" /><path clip-path=\"url(#clip710)\" d=\"M129.736 134.664 Q126.125 134.664 124.296 138.229 Q122.49 141.77 122.49 148.9 Q122.49 156.006 124.296 159.571 Q126.125 163.113 129.736 163.113 Q133.37 163.113 135.176 159.571 Q137.004 156.006 137.004 148.9 Q137.004 141.77 135.176 138.229 Q133.37 134.664 129.736 134.664 M129.736 130.96 Q135.546 130.96 138.601 135.567 Q141.68 140.15 141.68 148.9 Q141.68 157.627 138.601 162.233 Q135.546 166.817 129.736 166.817 Q123.926 166.817 120.847 162.233 Q117.791 157.627 117.791 148.9 Q117.791 140.15 120.847 135.567 Q123.926 130.96 129.736 130.96 Z\" fill=\"#000000\" fill-rule=\"evenodd\" fill-opacity=\"1\" /><path clip-path=\"url(#clip710)\" d=\"M159.898 134.664 Q156.287 134.664 154.458 138.229 Q152.652 141.77 152.652 148.9 Q152.652 156.006 154.458 159.571 Q156.287 163.113 159.898 163.113 Q163.532 163.113 165.337 159.571 Q167.166 156.006 167.166 148.9 Q167.166 141.77 165.337 138.229 Q163.532 134.664 159.898 134.664 M159.898 130.96 Q165.708 130.96 168.763 135.567 Q171.842 140.15 171.842 148.9 Q171.842 157.627 168.763 162.233 Q165.708 166.817 159.898 166.817 Q154.087 166.817 151.009 162.233 Q147.953 157.627 147.953 148.9 Q147.953 140.15 151.009 135.567 Q154.087 130.96 159.898 130.96 Z\" fill=\"#000000\" fill-rule=\"evenodd\" fill-opacity=\"1\" /><path clip-path=\"url(#clip710)\" d=\"M-31.9336 633.267 Q-38.2993 633.267 -41.8004 635.908 Q-45.3016 638.518 -45.3016 643.261 Q-45.3016 647.971 -41.8004 650.613 Q-38.2993 653.223 -31.9336 653.223 Q-25.5997 653.223 -22.0986 650.613 Q-18.5974 647.971 -18.5974 643.261 Q-18.5974 638.518 -22.0986 635.908 Q-25.5997 633.267 -31.9336 633.267 M-18.12 627.41 Q-9.01705 627.41 -4.59288 631.452 Q-0.136887 635.495 -0.136887 643.834 Q-0.136887 646.921 -0.614315 649.658 Q-1.05991 652.396 -2.01477 654.974 L-7.71208 654.974 Q-6.31162 652.396 -5.64322 649.881 Q-4.97482 647.367 -4.97482 644.757 Q-4.97482 638.996 -7.99854 636.131 Q-10.9904 633.267 -17.0697 633.267 L-19.9661 633.267 Q-16.815 635.081 -15.2554 637.914 Q-13.6958 640.746 -13.6958 644.693 Q-13.6958 651.25 -18.6929 655.26 Q-23.69 659.271 -31.9336 659.271 Q-40.209 659.271 -45.2061 655.26 Q-50.2032 651.25 -50.2032 644.693 Q-50.2032 640.746 -48.6436 637.914 Q-47.084 635.081 -43.9329 633.267 L-49.3438 633.267 L-49.3438 627.41 L-18.12 627.41 Z\" fill=\"#000000\" fill-rule=\"evenodd\" fill-opacity=\"1\" /><path clip-path=\"url(#clip710)\" d=\"M-31.6153 599.146 Q-31.6153 606.244 -29.9921 608.982 Q-28.3688 611.719 -24.4539 611.719 Q-21.3347 611.719 -19.4886 609.682 Q-17.6744 607.613 -17.6744 604.08 Q-17.6744 599.21 -21.1119 596.282 Q-24.5812 593.322 -30.3103 593.322 L-31.6153 593.322 L-31.6153 599.146 M-34.0343 587.465 L-13.6958 587.465 L-13.6958 593.322 L-19.1067 593.322 Q-15.8602 595.327 -14.3006 598.319 Q-12.7728 601.311 -12.7728 605.64 Q-12.7728 611.114 -15.8284 614.361 Q-18.9157 617.575 -24.0719 617.575 Q-30.0875 617.575 -33.1431 613.565 Q-36.1986 609.523 -36.1986 601.534 L-36.1986 593.322 L-36.7715 593.322 Q-40.8138 593.322 -43.0099 595.995 Q-45.2379 598.637 -45.2379 603.443 Q-45.2379 606.499 -44.5059 609.395 Q-43.7738 612.292 -42.3097 614.965 L-47.7205 614.965 Q-48.9619 611.751 -49.5666 608.727 Q-50.2032 605.703 -50.2032 602.839 Q-50.2032 595.104 -46.1928 591.285 Q-42.1824 587.465 -34.0343 587.465 Z\" fill=\"#000000\" fill-rule=\"evenodd\" fill-opacity=\"1\" /><path clip-path=\"url(#clip710)\" d=\"M-49.3438 575.402 L-49.3438 569.546 L-13.6958 569.546 L-13.6958 575.402 L-49.3438 575.402 M-63.221 575.402 L-63.221 569.546 L-55.805 569.546 L-55.805 575.402 L-63.221 575.402 Z\" fill=\"#000000\" fill-rule=\"evenodd\" fill-opacity=\"1\" /><path clip-path=\"url(#clip710)\" d=\"M-35.2119 527.66 L-13.6958 527.66 L-13.6958 533.516 L-35.021 533.516 Q-40.0817 533.516 -42.5962 535.489 Q-45.1106 537.463 -45.1106 541.41 Q-45.1106 546.152 -42.0869 548.889 Q-39.0632 551.626 -33.8433 551.626 L-13.6958 551.626 L-13.6958 557.515 L-49.3438 557.515 L-49.3438 551.626 L-43.8056 551.626 Q-47.0203 549.526 -48.6117 546.693 Q-50.2032 543.829 -50.2032 540.105 Q-50.2032 533.962 -46.3837 530.811 Q-42.5962 527.66 -35.2119 527.66 Z\" fill=\"#000000\" fill-rule=\"evenodd\" fill-opacity=\"1\" /><path clip-path=\"url(#clip710)\" d=\"M-19.1067 488.892 L-19.1067 466.453 L-13.6958 466.453 L-13.6958 496.627 L-19.1067 496.627 Q-22.8943 492.967 -29.26 486.664 Q-35.6575 480.331 -37.5036 478.707 Q-40.9729 475.62 -43.36 474.41 Q-45.779 473.169 -48.1025 473.169 Q-51.8901 473.169 -54.2772 475.843 Q-56.6644 478.485 -56.6644 482.75 Q-56.6644 485.773 -55.614 489.147 Q-54.5637 492.489 -52.4312 496.309 L-58.9242 496.309 Q-60.4838 492.425 -61.2795 489.052 Q-62.0752 485.678 -62.0752 482.877 Q-62.0752 475.493 -58.3831 471.1 Q-54.691 466.708 -48.5163 466.708 Q-45.588 466.708 -42.9463 467.822 Q-40.3363 468.904 -36.7715 471.801 Q-35.8485 472.596 -31.4243 476.861 Q-27.032 481.126 -19.1067 488.892 Z\" fill=\"#000000\" fill-rule=\"evenodd\" fill-opacity=\"1\" /><circle clip-path=\"url(#clip712)\" cx=\"311.767\" cy=\"409.076\" r=\"14\" fill=\"#ff0000\" fill-rule=\"evenodd\" fill-opacity=\"1\" stroke=\"#000000\" stroke-opacity=\"1\" stroke-width=\"2.4\"/>\n",
       "<circle clip-path=\"url(#clip712)\" cx=\"304.014\" cy=\"398.115\" r=\"14\" fill=\"#0000ff\" fill-rule=\"evenodd\" fill-opacity=\"1\" stroke=\"#000000\" stroke-opacity=\"1\" stroke-width=\"2.4\"/>\n",
       "<circle clip-path=\"url(#clip712)\" cx=\"321.34\" cy=\"393.526\" r=\"14\" fill=\"#0000ff\" fill-rule=\"evenodd\" fill-opacity=\"1\" stroke=\"#000000\" stroke-opacity=\"1\" stroke-width=\"2.4\"/>\n",
       "<circle clip-path=\"url(#clip712)\" cx=\"302.879\" cy=\"392.387\" r=\"14\" fill=\"#ff0000\" fill-rule=\"evenodd\" fill-opacity=\"1\" stroke=\"#000000\" stroke-opacity=\"1\" stroke-width=\"2.4\"/>\n",
       "<circle clip-path=\"url(#clip712)\" cx=\"331.141\" cy=\"430.776\" r=\"14\" fill=\"#0000ff\" fill-rule=\"evenodd\" fill-opacity=\"1\" stroke=\"#000000\" stroke-opacity=\"1\" stroke-width=\"2.4\"/>\n",
       "<circle clip-path=\"url(#clip712)\" cx=\"454.178\" cy=\"591.427\" r=\"14\" fill=\"#ff0000\" fill-rule=\"evenodd\" fill-opacity=\"1\" stroke=\"#000000\" stroke-opacity=\"1\" stroke-width=\"2.4\"/>\n",
       "<circle clip-path=\"url(#clip712)\" cx=\"491.481\" cy=\"640.628\" r=\"14\" fill=\"#0000ff\" fill-rule=\"evenodd\" fill-opacity=\"1\" stroke=\"#000000\" stroke-opacity=\"1\" stroke-width=\"2.4\"/>\n",
       "<circle clip-path=\"url(#clip712)\" cx=\"449.801\" cy=\"559.555\" r=\"14\" fill=\"#0000ff\" fill-rule=\"evenodd\" fill-opacity=\"1\" stroke=\"#000000\" stroke-opacity=\"1\" stroke-width=\"2.4\"/>\n",
       "<circle clip-path=\"url(#clip712)\" cx=\"573.959\" cy=\"773.089\" r=\"14\" fill=\"#0000ff\" fill-rule=\"evenodd\" fill-opacity=\"1\" stroke=\"#000000\" stroke-opacity=\"1\" stroke-width=\"2.4\"/>\n",
       "<circle clip-path=\"url(#clip712)\" cx=\"577.242\" cy=\"812.568\" r=\"14\" fill=\"#ff0000\" fill-rule=\"evenodd\" fill-opacity=\"1\" stroke=\"#000000\" stroke-opacity=\"1\" stroke-width=\"2.4\"/>\n",
       "<circle clip-path=\"url(#clip712)\" cx=\"566.11\" cy=\"772.587\" r=\"14\" fill=\"#ff0000\" fill-rule=\"evenodd\" fill-opacity=\"1\" stroke=\"#000000\" stroke-opacity=\"1\" stroke-width=\"2.4\"/>\n",
       "<circle clip-path=\"url(#clip712)\" cx=\"581.727\" cy=\"834.761\" r=\"14\" fill=\"#ff0000\" fill-rule=\"evenodd\" fill-opacity=\"1\" stroke=\"#000000\" stroke-opacity=\"1\" stroke-width=\"2.4\"/>\n",
       "<circle clip-path=\"url(#clip712)\" cx=\"593.323\" cy=\"822.722\" r=\"14\" fill=\"#0000ff\" fill-rule=\"evenodd\" fill-opacity=\"1\" stroke=\"#000000\" stroke-opacity=\"1\" stroke-width=\"2.4\"/>\n",
       "<circle clip-path=\"url(#clip712)\" cx=\"572.007\" cy=\"837.306\" r=\"14\" fill=\"#0000ff\" fill-rule=\"evenodd\" fill-opacity=\"1\" stroke=\"#000000\" stroke-opacity=\"1\" stroke-width=\"2.4\"/>\n",
       "<circle clip-path=\"url(#clip712)\" cx=\"577.475\" cy=\"837.528\" r=\"14\" fill=\"#0000ff\" fill-rule=\"evenodd\" fill-opacity=\"1\" stroke=\"#000000\" stroke-opacity=\"1\" stroke-width=\"2.4\"/>\n",
       "<circle clip-path=\"url(#clip712)\" cx=\"558.862\" cy=\"794.299\" r=\"14\" fill=\"#ff0000\" fill-rule=\"evenodd\" fill-opacity=\"1\" stroke=\"#000000\" stroke-opacity=\"1\" stroke-width=\"2.4\"/>\n",
       "<circle clip-path=\"url(#clip712)\" cx=\"686.945\" cy=\"912.73\" r=\"14\" fill=\"#ff0000\" fill-rule=\"evenodd\" fill-opacity=\"1\" stroke=\"#000000\" stroke-opacity=\"1\" stroke-width=\"2.4\"/>\n",
       "<circle clip-path=\"url(#clip712)\" cx=\"640.271\" cy=\"917.999\" r=\"14\" fill=\"#0000ff\" fill-rule=\"evenodd\" fill-opacity=\"1\" stroke=\"#000000\" stroke-opacity=\"1\" stroke-width=\"2.4\"/>\n",
       "<circle clip-path=\"url(#clip712)\" cx=\"634.131\" cy=\"899.14\" r=\"14\" fill=\"#ff0000\" fill-rule=\"evenodd\" fill-opacity=\"1\" stroke=\"#000000\" stroke-opacity=\"1\" stroke-width=\"2.4\"/>\n",
       "<circle clip-path=\"url(#clip712)\" cx=\"654.852\" cy=\"737.408\" r=\"14\" fill=\"#0000ff\" fill-rule=\"evenodd\" fill-opacity=\"1\" stroke=\"#000000\" stroke-opacity=\"1\" stroke-width=\"2.4\"/>\n",
       "<circle clip-path=\"url(#clip712)\" cx=\"681.922\" cy=\"735.734\" r=\"14\" fill=\"#0000ff\" fill-rule=\"evenodd\" fill-opacity=\"1\" stroke=\"#000000\" stroke-opacity=\"1\" stroke-width=\"2.4\"/>\n",
       "<circle clip-path=\"url(#clip712)\" cx=\"724.939\" cy=\"958.075\" r=\"14\" fill=\"#0000ff\" fill-rule=\"evenodd\" fill-opacity=\"1\" stroke=\"#000000\" stroke-opacity=\"1\" stroke-width=\"2.4\"/>\n",
       "<circle clip-path=\"url(#clip712)\" cx=\"710.056\" cy=\"969.702\" r=\"14\" fill=\"#ff0000\" fill-rule=\"evenodd\" fill-opacity=\"1\" stroke=\"#000000\" stroke-opacity=\"1\" stroke-width=\"2.4\"/>\n",
       "<circle clip-path=\"url(#clip712)\" cx=\"702.189\" cy=\"1010.28\" r=\"14\" fill=\"#ff0000\" fill-rule=\"evenodd\" fill-opacity=\"1\" stroke=\"#000000\" stroke-opacity=\"1\" stroke-width=\"2.4\"/>\n",
       "<circle clip-path=\"url(#clip712)\" cx=\"723.576\" cy=\"963.776\" r=\"14\" fill=\"#ff0000\" fill-rule=\"evenodd\" fill-opacity=\"1\" stroke=\"#000000\" stroke-opacity=\"1\" stroke-width=\"2.4\"/>\n",
       "<circle clip-path=\"url(#clip712)\" cx=\"714.097\" cy=\"974.043\" r=\"14\" fill=\"#0000ff\" fill-rule=\"evenodd\" fill-opacity=\"1\" stroke=\"#000000\" stroke-opacity=\"1\" stroke-width=\"2.4\"/>\n",
       "<circle clip-path=\"url(#clip712)\" cx=\"695.711\" cy=\"967.415\" r=\"14\" fill=\"#0000ff\" fill-rule=\"evenodd\" fill-opacity=\"1\" stroke=\"#000000\" stroke-opacity=\"1\" stroke-width=\"2.4\"/>\n",
       "<circle clip-path=\"url(#clip712)\" cx=\"719.431\" cy=\"995.094\" r=\"14\" fill=\"#ff0000\" fill-rule=\"evenodd\" fill-opacity=\"1\" stroke=\"#000000\" stroke-opacity=\"1\" stroke-width=\"2.4\"/>\n",
       "<circle clip-path=\"url(#clip712)\" cx=\"1227.21\" cy=\"966.937\" r=\"14\" fill=\"#ff0000\" fill-rule=\"evenodd\" fill-opacity=\"1\" stroke=\"#000000\" stroke-opacity=\"1\" stroke-width=\"2.4\"/>\n",
       "<circle clip-path=\"url(#clip712)\" cx=\"1224.5\" cy=\"977.971\" r=\"14\" fill=\"#ff0000\" fill-rule=\"evenodd\" fill-opacity=\"1\" stroke=\"#000000\" stroke-opacity=\"1\" stroke-width=\"2.4\"/>\n",
       "<circle clip-path=\"url(#clip712)\" cx=\"1221.04\" cy=\"991.446\" r=\"14\" fill=\"#ff0000\" fill-rule=\"evenodd\" fill-opacity=\"1\" stroke=\"#000000\" stroke-opacity=\"1\" stroke-width=\"2.4\"/>\n",
       "<circle clip-path=\"url(#clip712)\" cx=\"1232.31\" cy=\"1035.72\" r=\"14\" fill=\"#0000ff\" fill-rule=\"evenodd\" fill-opacity=\"1\" stroke=\"#000000\" stroke-opacity=\"1\" stroke-width=\"2.4\"/>\n",
       "<circle clip-path=\"url(#clip712)\" cx=\"1232.76\" cy=\"1027.38\" r=\"14\" fill=\"#0000ff\" fill-rule=\"evenodd\" fill-opacity=\"1\" stroke=\"#000000\" stroke-opacity=\"1\" stroke-width=\"2.4\"/>\n",
       "<circle clip-path=\"url(#clip712)\" cx=\"1204.21\" cy=\"995.555\" r=\"14\" fill=\"#0000ff\" fill-rule=\"evenodd\" fill-opacity=\"1\" stroke=\"#000000\" stroke-opacity=\"1\" stroke-width=\"2.4\"/>\n",
       "<circle clip-path=\"url(#clip712)\" cx=\"1216.93\" cy=\"991.12\" r=\"14\" fill=\"#0000ff\" fill-rule=\"evenodd\" fill-opacity=\"1\" stroke=\"#000000\" stroke-opacity=\"1\" stroke-width=\"2.4\"/>\n",
       "<circle clip-path=\"url(#clip712)\" cx=\"1231.91\" cy=\"139.511\" r=\"14\" fill=\"#ff0000\" fill-rule=\"evenodd\" fill-opacity=\"1\" stroke=\"#000000\" stroke-opacity=\"1\" stroke-width=\"2.4\"/>\n",
       "<circle clip-path=\"url(#clip712)\" cx=\"1245.26\" cy=\"142.679\" r=\"14\" fill=\"#0000ff\" fill-rule=\"evenodd\" fill-opacity=\"1\" stroke=\"#000000\" stroke-opacity=\"1\" stroke-width=\"2.4\"/>\n",
       "<circle clip-path=\"url(#clip712)\" cx=\"1496.78\" cy=\"135.945\" r=\"14\" fill=\"#0000ff\" fill-rule=\"evenodd\" fill-opacity=\"1\" stroke=\"#000000\" stroke-opacity=\"1\" stroke-width=\"2.4\"/>\n",
       "<circle clip-path=\"url(#clip712)\" cx=\"1536.2\" cy=\"200.778\" r=\"14\" fill=\"#0000ff\" fill-rule=\"evenodd\" fill-opacity=\"1\" stroke=\"#000000\" stroke-opacity=\"1\" stroke-width=\"2.4\"/>\n",
       "<circle clip-path=\"url(#clip712)\" cx=\"1499.32\" cy=\"155.389\" r=\"14\" fill=\"#0000ff\" fill-rule=\"evenodd\" fill-opacity=\"1\" stroke=\"#000000\" stroke-opacity=\"1\" stroke-width=\"2.4\"/>\n",
       "<circle clip-path=\"url(#clip712)\" cx=\"282.947\" cy=\"353.964\" r=\"14\" fill=\"#ff0000\" fill-rule=\"evenodd\" fill-opacity=\"1\" stroke=\"#000000\" stroke-opacity=\"1\" stroke-width=\"2.4\"/>\n",
       "<circle clip-path=\"url(#clip712)\" cx=\"318.971\" cy=\"388.225\" r=\"14\" fill=\"#0000ff\" fill-rule=\"evenodd\" fill-opacity=\"1\" stroke=\"#000000\" stroke-opacity=\"1\" stroke-width=\"2.4\"/>\n",
       "<circle clip-path=\"url(#clip712)\" cx=\"286.179\" cy=\"397.345\" r=\"14\" fill=\"#0000ff\" fill-rule=\"evenodd\" fill-opacity=\"1\" stroke=\"#000000\" stroke-opacity=\"1\" stroke-width=\"2.4\"/>\n",
       "<circle clip-path=\"url(#clip712)\" cx=\"317.328\" cy=\"409.488\" r=\"14\" fill=\"#ff0000\" fill-rule=\"evenodd\" fill-opacity=\"1\" stroke=\"#000000\" stroke-opacity=\"1\" stroke-width=\"2.4\"/>\n",
       "<circle clip-path=\"url(#clip712)\" cx=\"316.503\" cy=\"371.543\" r=\"14\" fill=\"#0000ff\" fill-rule=\"evenodd\" fill-opacity=\"1\" stroke=\"#000000\" stroke-opacity=\"1\" stroke-width=\"2.4\"/>\n",
       "<circle clip-path=\"url(#clip712)\" cx=\"454.086\" cy=\"548.315\" r=\"14\" fill=\"#ff0000\" fill-rule=\"evenodd\" fill-opacity=\"1\" stroke=\"#000000\" stroke-opacity=\"1\" stroke-width=\"2.4\"/>\n",
       "<circle clip-path=\"url(#clip712)\" cx=\"458.134\" cy=\"544.61\" r=\"14\" fill=\"#0000ff\" fill-rule=\"evenodd\" fill-opacity=\"1\" stroke=\"#000000\" stroke-opacity=\"1\" stroke-width=\"2.4\"/>\n",
       "<circle clip-path=\"url(#clip712)\" cx=\"486.578\" cy=\"585.619\" r=\"14\" fill=\"#0000ff\" fill-rule=\"evenodd\" fill-opacity=\"1\" stroke=\"#000000\" stroke-opacity=\"1\" stroke-width=\"2.4\"/>\n",
       "<circle clip-path=\"url(#clip712)\" cx=\"511.64\" cy=\"754.713\" r=\"14\" fill=\"#0000ff\" fill-rule=\"evenodd\" fill-opacity=\"1\" stroke=\"#000000\" stroke-opacity=\"1\" stroke-width=\"2.4\"/>\n",
       "<circle clip-path=\"url(#clip712)\" cx=\"572.788\" cy=\"788.045\" r=\"14\" fill=\"#ff0000\" fill-rule=\"evenodd\" fill-opacity=\"1\" stroke=\"#000000\" stroke-opacity=\"1\" stroke-width=\"2.4\"/>\n",
       "<circle clip-path=\"url(#clip712)\" cx=\"599.88\" cy=\"834.227\" r=\"14\" fill=\"#ff0000\" fill-rule=\"evenodd\" fill-opacity=\"1\" stroke=\"#000000\" stroke-opacity=\"1\" stroke-width=\"2.4\"/>\n",
       "<circle clip-path=\"url(#clip712)\" cx=\"585.768\" cy=\"824.057\" r=\"14\" fill=\"#ff0000\" fill-rule=\"evenodd\" fill-opacity=\"1\" stroke=\"#000000\" stroke-opacity=\"1\" stroke-width=\"2.4\"/>\n",
       "<circle clip-path=\"url(#clip712)\" cx=\"575.038\" cy=\"847.92\" r=\"14\" fill=\"#0000ff\" fill-rule=\"evenodd\" fill-opacity=\"1\" stroke=\"#000000\" stroke-opacity=\"1\" stroke-width=\"2.4\"/>\n",
       "<circle clip-path=\"url(#clip712)\" cx=\"598.417\" cy=\"854.964\" r=\"14\" fill=\"#0000ff\" fill-rule=\"evenodd\" fill-opacity=\"1\" stroke=\"#000000\" stroke-opacity=\"1\" stroke-width=\"2.4\"/>\n",
       "<circle clip-path=\"url(#clip712)\" cx=\"550.82\" cy=\"812.535\" r=\"14\" fill=\"#0000ff\" fill-rule=\"evenodd\" fill-opacity=\"1\" stroke=\"#000000\" stroke-opacity=\"1\" stroke-width=\"2.4\"/>\n",
       "<circle clip-path=\"url(#clip712)\" cx=\"566.285\" cy=\"781.251\" r=\"14\" fill=\"#ff0000\" fill-rule=\"evenodd\" fill-opacity=\"1\" stroke=\"#000000\" stroke-opacity=\"1\" stroke-width=\"2.4\"/>\n",
       "<circle clip-path=\"url(#clip712)\" cx=\"690.213\" cy=\"870.072\" r=\"14\" fill=\"#ff0000\" fill-rule=\"evenodd\" fill-opacity=\"1\" stroke=\"#000000\" stroke-opacity=\"1\" stroke-width=\"2.4\"/>\n",
       "<circle clip-path=\"url(#clip712)\" cx=\"655.706\" cy=\"925.37\" r=\"14\" fill=\"#0000ff\" fill-rule=\"evenodd\" fill-opacity=\"1\" stroke=\"#000000\" stroke-opacity=\"1\" stroke-width=\"2.4\"/>\n",
       "<circle clip-path=\"url(#clip712)\" cx=\"678.149\" cy=\"890.209\" r=\"14\" fill=\"#ff0000\" fill-rule=\"evenodd\" fill-opacity=\"1\" stroke=\"#000000\" stroke-opacity=\"1\" stroke-width=\"2.4\"/>\n",
       "<circle clip-path=\"url(#clip712)\" cx=\"696.931\" cy=\"696.455\" r=\"14\" fill=\"#0000ff\" fill-rule=\"evenodd\" fill-opacity=\"1\" stroke=\"#000000\" stroke-opacity=\"1\" stroke-width=\"2.4\"/>\n",
       "<circle clip-path=\"url(#clip712)\" cx=\"685.334\" cy=\"753.492\" r=\"14\" fill=\"#0000ff\" fill-rule=\"evenodd\" fill-opacity=\"1\" stroke=\"#000000\" stroke-opacity=\"1\" stroke-width=\"2.4\"/>\n",
       "<circle clip-path=\"url(#clip712)\" cx=\"725.339\" cy=\"1003.52\" r=\"14\" fill=\"#0000ff\" fill-rule=\"evenodd\" fill-opacity=\"1\" stroke=\"#000000\" stroke-opacity=\"1\" stroke-width=\"2.4\"/>\n",
       "<circle clip-path=\"url(#clip712)\" cx=\"724.169\" cy=\"971.694\" r=\"14\" fill=\"#ff0000\" fill-rule=\"evenodd\" fill-opacity=\"1\" stroke=\"#000000\" stroke-opacity=\"1\" stroke-width=\"2.4\"/>\n",
       "<circle clip-path=\"url(#clip712)\" cx=\"719.708\" cy=\"965.711\" r=\"14\" fill=\"#ff0000\" fill-rule=\"evenodd\" fill-opacity=\"1\" stroke=\"#000000\" stroke-opacity=\"1\" stroke-width=\"2.4\"/>\n",
       "<circle clip-path=\"url(#clip712)\" cx=\"727.643\" cy=\"996.701\" r=\"14\" fill=\"#ff0000\" fill-rule=\"evenodd\" fill-opacity=\"1\" stroke=\"#000000\" stroke-opacity=\"1\" stroke-width=\"2.4\"/>\n",
       "<circle clip-path=\"url(#clip712)\" cx=\"712.554\" cy=\"1036.73\" r=\"14\" fill=\"#0000ff\" fill-rule=\"evenodd\" fill-opacity=\"1\" stroke=\"#000000\" stroke-opacity=\"1\" stroke-width=\"2.4\"/>\n",
       "<circle clip-path=\"url(#clip712)\" cx=\"720.002\" cy=\"963.017\" r=\"14\" fill=\"#0000ff\" fill-rule=\"evenodd\" fill-opacity=\"1\" stroke=\"#000000\" stroke-opacity=\"1\" stroke-width=\"2.4\"/>\n",
       "<circle clip-path=\"url(#clip712)\" cx=\"735.483\" cy=\"965.115\" r=\"14\" fill=\"#ff0000\" fill-rule=\"evenodd\" fill-opacity=\"1\" stroke=\"#000000\" stroke-opacity=\"1\" stroke-width=\"2.4\"/>\n",
       "<circle clip-path=\"url(#clip712)\" cx=\"1231.22\" cy=\"1028.63\" r=\"14\" fill=\"#ff0000\" fill-rule=\"evenodd\" fill-opacity=\"1\" stroke=\"#000000\" stroke-opacity=\"1\" stroke-width=\"2.4\"/>\n",
       "<circle clip-path=\"url(#clip712)\" cx=\"1250.97\" cy=\"969.772\" r=\"14\" fill=\"#ff0000\" fill-rule=\"evenodd\" fill-opacity=\"1\" stroke=\"#000000\" stroke-opacity=\"1\" stroke-width=\"2.4\"/>\n",
       "<circle clip-path=\"url(#clip712)\" cx=\"1229.28\" cy=\"968.537\" r=\"14\" fill=\"#ff0000\" fill-rule=\"evenodd\" fill-opacity=\"1\" stroke=\"#000000\" stroke-opacity=\"1\" stroke-width=\"2.4\"/>\n",
       "<circle clip-path=\"url(#clip712)\" cx=\"1227.98\" cy=\"998.461\" r=\"14\" fill=\"#0000ff\" fill-rule=\"evenodd\" fill-opacity=\"1\" stroke=\"#000000\" stroke-opacity=\"1\" stroke-width=\"2.4\"/>\n",
       "<circle clip-path=\"url(#clip712)\" cx=\"1224.9\" cy=\"983.006\" r=\"14\" fill=\"#0000ff\" fill-rule=\"evenodd\" fill-opacity=\"1\" stroke=\"#000000\" stroke-opacity=\"1\" stroke-width=\"2.4\"/>\n",
       "<circle clip-path=\"url(#clip712)\" cx=\"1220.81\" cy=\"958.699\" r=\"14\" fill=\"#0000ff\" fill-rule=\"evenodd\" fill-opacity=\"1\" stroke=\"#000000\" stroke-opacity=\"1\" stroke-width=\"2.4\"/>\n",
       "<circle clip-path=\"url(#clip712)\" cx=\"1230.79\" cy=\"944.207\" r=\"14\" fill=\"#0000ff\" fill-rule=\"evenodd\" fill-opacity=\"1\" stroke=\"#000000\" stroke-opacity=\"1\" stroke-width=\"2.4\"/>\n",
       "<circle clip-path=\"url(#clip712)\" cx=\"1201.67\" cy=\"130.029\" r=\"14\" fill=\"#ff0000\" fill-rule=\"evenodd\" fill-opacity=\"1\" stroke=\"#000000\" stroke-opacity=\"1\" stroke-width=\"2.4\"/>\n",
       "<circle clip-path=\"url(#clip712)\" cx=\"1201.28\" cy=\"138.033\" r=\"14\" fill=\"#0000ff\" fill-rule=\"evenodd\" fill-opacity=\"1\" stroke=\"#000000\" stroke-opacity=\"1\" stroke-width=\"2.4\"/>\n",
       "<circle clip-path=\"url(#clip712)\" cx=\"1507.13\" cy=\"137.99\" r=\"14\" fill=\"#0000ff\" fill-rule=\"evenodd\" fill-opacity=\"1\" stroke=\"#000000\" stroke-opacity=\"1\" stroke-width=\"2.4\"/>\n",
       "<circle clip-path=\"url(#clip712)\" cx=\"1475.1\" cy=\"179.067\" r=\"14\" fill=\"#0000ff\" fill-rule=\"evenodd\" fill-opacity=\"1\" stroke=\"#000000\" stroke-opacity=\"1\" stroke-width=\"2.4\"/>\n",
       "<circle clip-path=\"url(#clip712)\" cx=\"1458.73\" cy=\"152.093\" r=\"14\" fill=\"#0000ff\" fill-rule=\"evenodd\" fill-opacity=\"1\" stroke=\"#000000\" stroke-opacity=\"1\" stroke-width=\"2.4\"/>\n",
       "<circle clip-path=\"url(#clip712)\" cx=\"318.378\" cy=\"392.75\" r=\"14\" fill=\"#ff0000\" fill-rule=\"evenodd\" fill-opacity=\"1\" stroke=\"#000000\" stroke-opacity=\"1\" stroke-width=\"2.4\"/>\n",
       "<circle clip-path=\"url(#clip712)\" cx=\"304.138\" cy=\"370.228\" r=\"14\" fill=\"#0000ff\" fill-rule=\"evenodd\" fill-opacity=\"1\" stroke=\"#000000\" stroke-opacity=\"1\" stroke-width=\"2.4\"/>\n",
       "<circle clip-path=\"url(#clip712)\" cx=\"334.889\" cy=\"397.974\" r=\"14\" fill=\"#0000ff\" fill-rule=\"evenodd\" fill-opacity=\"1\" stroke=\"#000000\" stroke-opacity=\"1\" stroke-width=\"2.4\"/>\n",
       "<circle clip-path=\"url(#clip712)\" cx=\"293.237\" cy=\"431.948\" r=\"14\" fill=\"#ff0000\" fill-rule=\"evenodd\" fill-opacity=\"1\" stroke=\"#000000\" stroke-opacity=\"1\" stroke-width=\"2.4\"/>\n",
       "<circle clip-path=\"url(#clip712)\" cx=\"281.483\" cy=\"401.486\" r=\"14\" fill=\"#0000ff\" fill-rule=\"evenodd\" fill-opacity=\"1\" stroke=\"#000000\" stroke-opacity=\"1\" stroke-width=\"2.4\"/>\n",
       "<circle clip-path=\"url(#clip712)\" cx=\"449.922\" cy=\"538.737\" r=\"14\" fill=\"#ff0000\" fill-rule=\"evenodd\" fill-opacity=\"1\" stroke=\"#000000\" stroke-opacity=\"1\" stroke-width=\"2.4\"/>\n",
       "<circle clip-path=\"url(#clip712)\" cx=\"476.236\" cy=\"599.934\" r=\"14\" fill=\"#0000ff\" fill-rule=\"evenodd\" fill-opacity=\"1\" stroke=\"#000000\" stroke-opacity=\"1\" stroke-width=\"2.4\"/>\n",
       "<circle clip-path=\"url(#clip712)\" cx=\"452.113\" cy=\"593.171\" r=\"14\" fill=\"#0000ff\" fill-rule=\"evenodd\" fill-opacity=\"1\" stroke=\"#000000\" stroke-opacity=\"1\" stroke-width=\"2.4\"/>\n",
       "<circle clip-path=\"url(#clip712)\" cx=\"578.12\" cy=\"836.738\" r=\"14\" fill=\"#0000ff\" fill-rule=\"evenodd\" fill-opacity=\"1\" stroke=\"#000000\" stroke-opacity=\"1\" stroke-width=\"2.4\"/>\n",
       "<circle clip-path=\"url(#clip712)\" cx=\"568.002\" cy=\"806.356\" r=\"14\" fill=\"#ff0000\" fill-rule=\"evenodd\" fill-opacity=\"1\" stroke=\"#000000\" stroke-opacity=\"1\" stroke-width=\"2.4\"/>\n",
       "<circle clip-path=\"url(#clip712)\" cx=\"584.09\" cy=\"801.785\" r=\"14\" fill=\"#ff0000\" fill-rule=\"evenodd\" fill-opacity=\"1\" stroke=\"#000000\" stroke-opacity=\"1\" stroke-width=\"2.4\"/>\n",
       "<circle clip-path=\"url(#clip712)\" cx=\"561.149\" cy=\"826.044\" r=\"14\" fill=\"#ff0000\" fill-rule=\"evenodd\" fill-opacity=\"1\" stroke=\"#000000\" stroke-opacity=\"1\" stroke-width=\"2.4\"/>\n",
       "<circle clip-path=\"url(#clip712)\" cx=\"592.91\" cy=\"806.901\" r=\"14\" fill=\"#0000ff\" fill-rule=\"evenodd\" fill-opacity=\"1\" stroke=\"#000000\" stroke-opacity=\"1\" stroke-width=\"2.4\"/>\n",
       "<circle clip-path=\"url(#clip712)\" cx=\"554.74\" cy=\"755.79\" r=\"14\" fill=\"#0000ff\" fill-rule=\"evenodd\" fill-opacity=\"1\" stroke=\"#000000\" stroke-opacity=\"1\" stroke-width=\"2.4\"/>\n",
       "<circle clip-path=\"url(#clip712)\" cx=\"572.706\" cy=\"838.968\" r=\"14\" fill=\"#0000ff\" fill-rule=\"evenodd\" fill-opacity=\"1\" stroke=\"#000000\" stroke-opacity=\"1\" stroke-width=\"2.4\"/>\n",
       "<circle clip-path=\"url(#clip712)\" cx=\"571.011\" cy=\"809.964\" r=\"14\" fill=\"#ff0000\" fill-rule=\"evenodd\" fill-opacity=\"1\" stroke=\"#000000\" stroke-opacity=\"1\" stroke-width=\"2.4\"/>\n",
       "<circle clip-path=\"url(#clip712)\" cx=\"706.066\" cy=\"883.987\" r=\"14\" fill=\"#ff0000\" fill-rule=\"evenodd\" fill-opacity=\"1\" stroke=\"#000000\" stroke-opacity=\"1\" stroke-width=\"2.4\"/>\n",
       "<circle clip-path=\"url(#clip712)\" cx=\"658.646\" cy=\"895.082\" r=\"14\" fill=\"#0000ff\" fill-rule=\"evenodd\" fill-opacity=\"1\" stroke=\"#000000\" stroke-opacity=\"1\" stroke-width=\"2.4\"/>\n",
       "<circle clip-path=\"url(#clip712)\" cx=\"654.515\" cy=\"846.272\" r=\"14\" fill=\"#ff0000\" fill-rule=\"evenodd\" fill-opacity=\"1\" stroke=\"#000000\" stroke-opacity=\"1\" stroke-width=\"2.4\"/>\n",
       "<circle clip-path=\"url(#clip712)\" cx=\"649.577\" cy=\"729.784\" r=\"14\" fill=\"#0000ff\" fill-rule=\"evenodd\" fill-opacity=\"1\" stroke=\"#000000\" stroke-opacity=\"1\" stroke-width=\"2.4\"/>\n",
       "<circle clip-path=\"url(#clip712)\" cx=\"671.039\" cy=\"767.385\" r=\"14\" fill=\"#0000ff\" fill-rule=\"evenodd\" fill-opacity=\"1\" stroke=\"#000000\" stroke-opacity=\"1\" stroke-width=\"2.4\"/>\n",
       "<circle clip-path=\"url(#clip712)\" cx=\"697.882\" cy=\"984.361\" r=\"14\" fill=\"#0000ff\" fill-rule=\"evenodd\" fill-opacity=\"1\" stroke=\"#000000\" stroke-opacity=\"1\" stroke-width=\"2.4\"/>\n",
       "<circle clip-path=\"url(#clip712)\" cx=\"745.898\" cy=\"996.228\" r=\"14\" fill=\"#ff0000\" fill-rule=\"evenodd\" fill-opacity=\"1\" stroke=\"#000000\" stroke-opacity=\"1\" stroke-width=\"2.4\"/>\n",
       "<circle clip-path=\"url(#clip712)\" cx=\"727.99\" cy=\"1049.29\" r=\"14\" fill=\"#ff0000\" fill-rule=\"evenodd\" fill-opacity=\"1\" stroke=\"#000000\" stroke-opacity=\"1\" stroke-width=\"2.4\"/>\n",
       "<circle clip-path=\"url(#clip712)\" cx=\"705.127\" cy=\"959.139\" r=\"14\" fill=\"#ff0000\" fill-rule=\"evenodd\" fill-opacity=\"1\" stroke=\"#000000\" stroke-opacity=\"1\" stroke-width=\"2.4\"/>\n",
       "<circle clip-path=\"url(#clip712)\" cx=\"726.093\" cy=\"985.241\" r=\"14\" fill=\"#0000ff\" fill-rule=\"evenodd\" fill-opacity=\"1\" stroke=\"#000000\" stroke-opacity=\"1\" stroke-width=\"2.4\"/>\n",
       "<circle clip-path=\"url(#clip712)\" cx=\"715.941\" cy=\"1030.21\" r=\"14\" fill=\"#0000ff\" fill-rule=\"evenodd\" fill-opacity=\"1\" stroke=\"#000000\" stroke-opacity=\"1\" stroke-width=\"2.4\"/>\n",
       "<circle clip-path=\"url(#clip712)\" cx=\"728.986\" cy=\"982.9\" r=\"14\" fill=\"#ff0000\" fill-rule=\"evenodd\" fill-opacity=\"1\" stroke=\"#000000\" stroke-opacity=\"1\" stroke-width=\"2.4\"/>\n",
       "<circle clip-path=\"url(#clip712)\" cx=\"1230.25\" cy=\"990.299\" r=\"14\" fill=\"#ff0000\" fill-rule=\"evenodd\" fill-opacity=\"1\" stroke=\"#000000\" stroke-opacity=\"1\" stroke-width=\"2.4\"/>\n",
       "<circle clip-path=\"url(#clip712)\" cx=\"1230.54\" cy=\"973.069\" r=\"14\" fill=\"#ff0000\" fill-rule=\"evenodd\" fill-opacity=\"1\" stroke=\"#000000\" stroke-opacity=\"1\" stroke-width=\"2.4\"/>\n",
       "<circle clip-path=\"url(#clip712)\" cx=\"1217.63\" cy=\"993.116\" r=\"14\" fill=\"#ff0000\" fill-rule=\"evenodd\" fill-opacity=\"1\" stroke=\"#000000\" stroke-opacity=\"1\" stroke-width=\"2.4\"/>\n",
       "<circle clip-path=\"url(#clip712)\" cx=\"1206.79\" cy=\"1007.47\" r=\"14\" fill=\"#0000ff\" fill-rule=\"evenodd\" fill-opacity=\"1\" stroke=\"#000000\" stroke-opacity=\"1\" stroke-width=\"2.4\"/>\n",
       "<circle clip-path=\"url(#clip712)\" cx=\"1246.65\" cy=\"1016.11\" r=\"14\" fill=\"#0000ff\" fill-rule=\"evenodd\" fill-opacity=\"1\" stroke=\"#000000\" stroke-opacity=\"1\" stroke-width=\"2.4\"/>\n",
       "<circle clip-path=\"url(#clip712)\" cx=\"1254.37\" cy=\"993.142\" r=\"14\" fill=\"#0000ff\" fill-rule=\"evenodd\" fill-opacity=\"1\" stroke=\"#000000\" stroke-opacity=\"1\" stroke-width=\"2.4\"/>\n",
       "<circle clip-path=\"url(#clip712)\" cx=\"1219.37\" cy=\"938.241\" r=\"14\" fill=\"#0000ff\" fill-rule=\"evenodd\" fill-opacity=\"1\" stroke=\"#000000\" stroke-opacity=\"1\" stroke-width=\"2.4\"/>\n",
       "<circle clip-path=\"url(#clip712)\" cx=\"1230.41\" cy=\"190.716\" r=\"14\" fill=\"#ff0000\" fill-rule=\"evenodd\" fill-opacity=\"1\" stroke=\"#000000\" stroke-opacity=\"1\" stroke-width=\"2.4\"/>\n",
       "<circle clip-path=\"url(#clip712)\" cx=\"1209.35\" cy=\"192.651\" r=\"14\" fill=\"#0000ff\" fill-rule=\"evenodd\" fill-opacity=\"1\" stroke=\"#000000\" stroke-opacity=\"1\" stroke-width=\"2.4\"/>\n",
       "<circle clip-path=\"url(#clip712)\" cx=\"1464.3\" cy=\"176.783\" r=\"14\" fill=\"#0000ff\" fill-rule=\"evenodd\" fill-opacity=\"1\" stroke=\"#000000\" stroke-opacity=\"1\" stroke-width=\"2.4\"/>\n",
       "<circle clip-path=\"url(#clip712)\" cx=\"1485.63\" cy=\"76.43\" r=\"14\" fill=\"#0000ff\" fill-rule=\"evenodd\" fill-opacity=\"1\" stroke=\"#000000\" stroke-opacity=\"1\" stroke-width=\"2.4\"/>\n",
       "<circle clip-path=\"url(#clip712)\" cx=\"1467.89\" cy=\"180.263\" r=\"14\" fill=\"#0000ff\" fill-rule=\"evenodd\" fill-opacity=\"1\" stroke=\"#000000\" stroke-opacity=\"1\" stroke-width=\"2.4\"/>\n",
       "<path clip-path=\"url(#clip710)\" d=\"\n",
       "M1864.92 1078.48 L3194.92 1078.48 L3194.92 47.2441 L1864.92 47.2441  Z\n",
       "  \" fill=\"#ffffff\" fill-rule=\"evenodd\" fill-opacity=\"1\"/>\n",
       "<defs>\n",
       "  <clipPath id=\"clip713\">\n",
       "    <rect x=\"1864\" y=\"47\" width=\"1331\" height=\"1032\"/>\n",
       "  </clipPath>\n",
       "</defs>\n",
       "<polyline clip-path=\"url(#clip713)\" style=\"stroke:#000000; stroke-linecap:butt; stroke-linejoin:round; stroke-width:2; stroke-opacity:0.1; fill:none\" points=\"\n",
       "  2085.09,1078.48 2085.09,47.2441 \n",
       "  \"/>\n",
       "<polyline clip-path=\"url(#clip713)\" style=\"stroke:#000000; stroke-linecap:butt; stroke-linejoin:round; stroke-width:2; stroke-opacity:0.1; fill:none\" points=\"\n",
       "  2340.43,1078.48 2340.43,47.2441 \n",
       "  \"/>\n",
       "<polyline clip-path=\"url(#clip713)\" style=\"stroke:#000000; stroke-linecap:butt; stroke-linejoin:round; stroke-width:2; stroke-opacity:0.1; fill:none\" points=\"\n",
       "  2595.77,1078.48 2595.77,47.2441 \n",
       "  \"/>\n",
       "<polyline clip-path=\"url(#clip713)\" style=\"stroke:#000000; stroke-linecap:butt; stroke-linejoin:round; stroke-width:2; stroke-opacity:0.1; fill:none\" points=\"\n",
       "  2851.12,1078.48 2851.12,47.2441 \n",
       "  \"/>\n",
       "<polyline clip-path=\"url(#clip713)\" style=\"stroke:#000000; stroke-linecap:butt; stroke-linejoin:round; stroke-width:2; stroke-opacity:0.1; fill:none\" points=\"\n",
       "  3106.46,1078.48 3106.46,47.2441 \n",
       "  \"/>\n",
       "<polyline clip-path=\"url(#clip710)\" style=\"stroke:#000000; stroke-linecap:butt; stroke-linejoin:round; stroke-width:4; stroke-opacity:1; fill:none\" points=\"\n",
       "  1864.92,1078.48 3194.92,1078.48 \n",
       "  \"/>\n",
       "<polyline clip-path=\"url(#clip710)\" style=\"stroke:#000000; stroke-linecap:butt; stroke-linejoin:round; stroke-width:4; stroke-opacity:1; fill:none\" points=\"\n",
       "  2085.09,1078.48 2085.09,1059.58 \n",
       "  \"/>\n",
       "<polyline clip-path=\"url(#clip710)\" style=\"stroke:#000000; stroke-linecap:butt; stroke-linejoin:round; stroke-width:4; stroke-opacity:1; fill:none\" points=\"\n",
       "  2340.43,1078.48 2340.43,1059.58 \n",
       "  \"/>\n",
       "<polyline clip-path=\"url(#clip710)\" style=\"stroke:#000000; stroke-linecap:butt; stroke-linejoin:round; stroke-width:4; stroke-opacity:1; fill:none\" points=\"\n",
       "  2595.77,1078.48 2595.77,1059.58 \n",
       "  \"/>\n",
       "<polyline clip-path=\"url(#clip710)\" style=\"stroke:#000000; stroke-linecap:butt; stroke-linejoin:round; stroke-width:4; stroke-opacity:1; fill:none\" points=\"\n",
       "  2851.12,1078.48 2851.12,1059.58 \n",
       "  \"/>\n",
       "<polyline clip-path=\"url(#clip710)\" style=\"stroke:#000000; stroke-linecap:butt; stroke-linejoin:round; stroke-width:4; stroke-opacity:1; fill:none\" points=\"\n",
       "  3106.46,1078.48 3106.46,1059.58 \n",
       "  \"/>\n",
       "<path clip-path=\"url(#clip710)\" d=\"M2062.97 1126.87 Q2059.36 1126.87 2057.53 1130.44 Q2055.72 1133.98 2055.72 1141.11 Q2055.72 1148.21 2057.53 1151.78 Q2059.36 1155.32 2062.97 1155.32 Q2066.6 1155.32 2068.41 1151.78 Q2070.24 1148.21 2070.24 1141.11 Q2070.24 1133.98 2068.41 1130.44 Q2066.6 1126.87 2062.97 1126.87 M2062.97 1123.17 Q2068.78 1123.17 2071.84 1127.77 Q2074.91 1132.36 2074.91 1141.11 Q2074.91 1149.83 2071.84 1154.44 Q2068.78 1159.02 2062.97 1159.02 Q2057.16 1159.02 2054.08 1154.44 Q2051.03 1149.83 2051.03 1141.11 Q2051.03 1132.36 2054.08 1127.77 Q2057.16 1123.17 2062.97 1123.17 Z\" fill=\"#000000\" fill-rule=\"evenodd\" fill-opacity=\"1\" /><path clip-path=\"url(#clip710)\" d=\"M2083.13 1152.47 L2088.02 1152.47 L2088.02 1158.35 L2083.13 1158.35 L2083.13 1152.47 Z\" fill=\"#000000\" fill-rule=\"evenodd\" fill-opacity=\"1\" /><path clip-path=\"url(#clip710)\" d=\"M2098.25 1123.79 L2116.6 1123.79 L2116.6 1127.73 L2102.53 1127.73 L2102.53 1136.2 Q2103.55 1135.85 2104.57 1135.69 Q2105.59 1135.5 2106.6 1135.5 Q2112.39 1135.5 2115.77 1138.68 Q2119.15 1141.85 2119.15 1147.26 Q2119.15 1152.84 2115.68 1155.94 Q2112.21 1159.02 2105.89 1159.02 Q2103.71 1159.02 2101.44 1158.65 Q2099.2 1158.28 2096.79 1157.54 L2096.79 1152.84 Q2098.87 1153.98 2101.09 1154.53 Q2103.32 1155.09 2105.79 1155.09 Q2109.8 1155.09 2112.14 1152.98 Q2114.47 1150.88 2114.47 1147.26 Q2114.47 1143.65 2112.14 1141.55 Q2109.8 1139.44 2105.79 1139.44 Q2103.92 1139.44 2102.04 1139.86 Q2100.19 1140.27 2098.25 1141.15 L2098.25 1123.79 Z\" fill=\"#000000\" fill-rule=\"evenodd\" fill-opacity=\"1\" /><path clip-path=\"url(#clip710)\" d=\"M2307.58 1154.42 L2315.22 1154.42 L2315.22 1128.05 L2306.91 1129.72 L2306.91 1125.46 L2315.18 1123.79 L2319.85 1123.79 L2319.85 1154.42 L2327.49 1154.42 L2327.49 1158.35 L2307.58 1158.35 L2307.58 1154.42 Z\" fill=\"#000000\" fill-rule=\"evenodd\" fill-opacity=\"1\" /><path clip-path=\"url(#clip710)\" d=\"M2336.94 1152.47 L2341.82 1152.47 L2341.82 1158.35 L2336.94 1158.35 L2336.94 1152.47 Z\" fill=\"#000000\" fill-rule=\"evenodd\" fill-opacity=\"1\" /><path clip-path=\"url(#clip710)\" d=\"M2362.01 1126.87 Q2358.39 1126.87 2356.57 1130.44 Q2354.76 1133.98 2354.76 1141.11 Q2354.76 1148.21 2356.57 1151.78 Q2358.39 1155.32 2362.01 1155.32 Q2365.64 1155.32 2367.44 1151.78 Q2369.27 1148.21 2369.27 1141.11 Q2369.27 1133.98 2367.44 1130.44 Q2365.64 1126.87 2362.01 1126.87 M2362.01 1123.17 Q2367.82 1123.17 2370.87 1127.77 Q2373.95 1132.36 2373.95 1141.11 Q2373.95 1149.83 2370.87 1154.44 Q2367.82 1159.02 2362.01 1159.02 Q2356.19 1159.02 2353.12 1154.44 Q2350.06 1149.83 2350.06 1141.11 Q2350.06 1132.36 2353.12 1127.77 Q2356.19 1123.17 2362.01 1123.17 Z\" fill=\"#000000\" fill-rule=\"evenodd\" fill-opacity=\"1\" /><path clip-path=\"url(#clip710)\" d=\"M2563.43 1154.42 L2571.06 1154.42 L2571.06 1128.05 L2562.75 1129.72 L2562.75 1125.46 L2571.02 1123.79 L2575.69 1123.79 L2575.69 1154.42 L2583.33 1154.42 L2583.33 1158.35 L2563.43 1158.35 L2563.43 1154.42 Z\" fill=\"#000000\" fill-rule=\"evenodd\" fill-opacity=\"1\" /><path clip-path=\"url(#clip710)\" d=\"M2592.78 1152.47 L2597.66 1152.47 L2597.66 1158.35 L2592.78 1158.35 L2592.78 1152.47 Z\" fill=\"#000000\" fill-rule=\"evenodd\" fill-opacity=\"1\" /><path clip-path=\"url(#clip710)\" d=\"M2607.89 1123.79 L2626.25 1123.79 L2626.25 1127.73 L2612.17 1127.73 L2612.17 1136.2 Q2613.19 1135.85 2614.21 1135.69 Q2615.23 1135.5 2616.25 1135.5 Q2622.04 1135.5 2625.42 1138.68 Q2628.8 1141.85 2628.8 1147.26 Q2628.8 1152.84 2625.32 1155.94 Q2621.85 1159.02 2615.53 1159.02 Q2613.36 1159.02 2611.09 1158.65 Q2608.84 1158.28 2606.43 1157.54 L2606.43 1152.84 Q2608.52 1153.98 2610.74 1154.53 Q2612.96 1155.09 2615.44 1155.09 Q2619.44 1155.09 2621.78 1152.98 Q2624.12 1150.88 2624.12 1147.26 Q2624.12 1143.65 2621.78 1141.55 Q2619.44 1139.44 2615.44 1139.44 Q2613.56 1139.44 2611.69 1139.86 Q2609.84 1140.27 2607.89 1141.15 L2607.89 1123.79 Z\" fill=\"#000000\" fill-rule=\"evenodd\" fill-opacity=\"1\" /><path clip-path=\"url(#clip710)\" d=\"M2822.36 1154.42 L2838.68 1154.42 L2838.68 1158.35 L2816.73 1158.35 L2816.73 1154.42 Q2819.39 1151.66 2823.98 1147.03 Q2828.58 1142.38 2829.76 1141.04 Q2832.01 1138.51 2832.89 1136.78 Q2833.79 1135.02 2833.79 1133.33 Q2833.79 1130.57 2831.85 1128.84 Q2829.93 1127.1 2826.82 1127.1 Q2824.63 1127.1 2822.17 1127.87 Q2819.74 1128.63 2816.96 1130.18 L2816.96 1125.46 Q2819.79 1124.32 2822.24 1123.75 Q2824.69 1123.17 2826.73 1123.17 Q2832.1 1123.17 2835.3 1125.85 Q2838.49 1128.54 2838.49 1133.03 Q2838.49 1135.16 2837.68 1137.08 Q2836.89 1138.98 2834.79 1141.57 Q2834.21 1142.24 2831.11 1145.46 Q2828 1148.65 2822.36 1154.42 Z\" fill=\"#000000\" fill-rule=\"evenodd\" fill-opacity=\"1\" /><path clip-path=\"url(#clip710)\" d=\"M2848.49 1152.47 L2853.38 1152.47 L2853.38 1158.35 L2848.49 1158.35 L2848.49 1152.47 Z\" fill=\"#000000\" fill-rule=\"evenodd\" fill-opacity=\"1\" /><path clip-path=\"url(#clip710)\" d=\"M2873.56 1126.87 Q2869.95 1126.87 2868.12 1130.44 Q2866.31 1133.98 2866.31 1141.11 Q2866.31 1148.21 2868.12 1151.78 Q2869.95 1155.32 2873.56 1155.32 Q2877.19 1155.32 2879 1151.78 Q2880.83 1148.21 2880.83 1141.11 Q2880.83 1133.98 2879 1130.44 Q2877.19 1126.87 2873.56 1126.87 M2873.56 1123.17 Q2879.37 1123.17 2882.43 1127.77 Q2885.5 1132.36 2885.5 1141.11 Q2885.5 1149.83 2882.43 1154.44 Q2879.37 1159.02 2873.56 1159.02 Q2867.75 1159.02 2864.67 1154.44 Q2861.62 1149.83 2861.62 1141.11 Q2861.62 1132.36 2864.67 1127.77 Q2867.75 1123.17 2873.56 1123.17 Z\" fill=\"#000000\" fill-rule=\"evenodd\" fill-opacity=\"1\" /><path clip-path=\"url(#clip710)\" d=\"M3078.2 1154.42 L3094.52 1154.42 L3094.52 1158.35 L3072.57 1158.35 L3072.57 1154.42 Q3075.23 1151.66 3079.82 1147.03 Q3084.42 1142.38 3085.61 1141.04 Q3087.85 1138.51 3088.73 1136.78 Q3089.63 1135.02 3089.63 1133.33 Q3089.63 1130.57 3087.69 1128.84 Q3085.77 1127.1 3082.67 1127.1 Q3080.47 1127.1 3078.01 1127.87 Q3075.58 1128.63 3072.8 1130.18 L3072.8 1125.46 Q3075.63 1124.32 3078.08 1123.75 Q3080.54 1123.17 3082.57 1123.17 Q3087.94 1123.17 3091.14 1125.85 Q3094.33 1128.54 3094.33 1133.03 Q3094.33 1135.16 3093.52 1137.08 Q3092.73 1138.98 3090.63 1141.57 Q3090.05 1142.24 3086.95 1145.46 Q3083.85 1148.65 3078.2 1154.42 Z\" fill=\"#000000\" fill-rule=\"evenodd\" fill-opacity=\"1\" /><path clip-path=\"url(#clip710)\" d=\"M3104.33 1152.47 L3109.22 1152.47 L3109.22 1158.35 L3104.33 1158.35 L3104.33 1152.47 Z\" fill=\"#000000\" fill-rule=\"evenodd\" fill-opacity=\"1\" /><path clip-path=\"url(#clip710)\" d=\"M3119.45 1123.79 L3137.8 1123.79 L3137.8 1127.73 L3123.73 1127.73 L3123.73 1136.2 Q3124.75 1135.85 3125.77 1135.69 Q3126.79 1135.5 3127.8 1135.5 Q3133.59 1135.5 3136.97 1138.68 Q3140.35 1141.85 3140.35 1147.26 Q3140.35 1152.84 3136.88 1155.94 Q3133.41 1159.02 3127.09 1159.02 Q3124.91 1159.02 3122.64 1158.65 Q3120.4 1158.28 3117.99 1157.54 L3117.99 1152.84 Q3120.07 1153.98 3122.29 1154.53 Q3124.52 1155.09 3126.99 1155.09 Q3131 1155.09 3133.34 1152.98 Q3135.67 1150.88 3135.67 1147.26 Q3135.67 1143.65 3133.34 1141.55 Q3131 1139.44 3126.99 1139.44 Q3125.12 1139.44 3123.24 1139.86 Q3121.39 1140.27 3119.45 1141.15 L3119.45 1123.79 Z\" fill=\"#000000\" fill-rule=\"evenodd\" fill-opacity=\"1\" /><path clip-path=\"url(#clip710)\" d=\"M2459.26 1241.11 Q2459.26 1234.74 2456.62 1231.24 Q2454.01 1227.74 2449.27 1227.74 Q2444.56 1227.74 2441.91 1231.24 Q2439.31 1234.74 2439.31 1241.11 Q2439.31 1247.44 2441.91 1250.94 Q2444.56 1254.44 2449.27 1254.44 Q2454.01 1254.44 2456.62 1250.94 Q2459.26 1247.44 2459.26 1241.11 M2465.12 1254.92 Q2465.12 1264.02 2461.08 1268.45 Q2457.03 1272.9 2448.69 1272.9 Q2445.61 1272.9 2442.87 1272.43 Q2440.13 1271.98 2437.55 1271.02 L2437.55 1265.33 Q2440.13 1266.73 2442.65 1267.4 Q2445.16 1268.06 2447.77 1268.06 Q2453.53 1268.06 2456.4 1265.04 Q2459.26 1262.05 2459.26 1255.97 L2459.26 1253.07 Q2457.45 1256.22 2454.61 1257.78 Q2451.78 1259.34 2447.84 1259.34 Q2441.28 1259.34 2437.27 1254.35 Q2433.26 1249.35 2433.26 1241.11 Q2433.26 1232.83 2437.27 1227.83 Q2441.28 1222.84 2447.84 1222.84 Q2451.78 1222.84 2454.61 1224.4 Q2457.45 1225.96 2459.26 1229.11 L2459.26 1223.7 L2465.12 1223.7 L2465.12 1254.92 Z\" fill=\"#000000\" fill-rule=\"evenodd\" fill-opacity=\"1\" /><path clip-path=\"url(#clip710)\" d=\"M2493.38 1241.42 Q2486.28 1241.42 2483.55 1243.05 Q2480.81 1244.67 2480.81 1248.59 Q2480.81 1251.7 2482.85 1253.55 Q2484.92 1255.37 2488.45 1255.37 Q2493.32 1255.37 2496.25 1251.93 Q2499.21 1248.46 2499.21 1242.73 L2499.21 1241.42 L2493.38 1241.42 M2505.06 1239.01 L2505.06 1259.34 L2499.21 1259.34 L2499.21 1253.93 Q2497.2 1257.18 2494.21 1258.74 Q2491.22 1260.27 2486.89 1260.27 Q2481.41 1260.27 2478.17 1257.21 Q2474.95 1254.12 2474.95 1248.97 Q2474.95 1242.95 2478.96 1239.9 Q2483.01 1236.84 2490.99 1236.84 L2499.21 1236.84 L2499.21 1236.27 Q2499.21 1232.23 2496.53 1230.03 Q2493.89 1227.8 2489.08 1227.8 Q2486.03 1227.8 2483.13 1228.53 Q2480.24 1229.27 2477.56 1230.73 L2477.56 1225.32 Q2480.78 1224.08 2483.8 1223.47 Q2486.83 1222.84 2489.69 1222.84 Q2497.42 1222.84 2501.24 1226.85 Q2505.06 1230.86 2505.06 1239.01 Z\" fill=\"#000000\" fill-rule=\"evenodd\" fill-opacity=\"1\" /><path clip-path=\"url(#clip710)\" d=\"M2517.13 1223.7 L2522.98 1223.7 L2522.98 1259.34 L2517.13 1259.34 L2517.13 1223.7 M2517.13 1209.82 L2522.98 1209.82 L2522.98 1217.23 L2517.13 1217.23 L2517.13 1209.82 Z\" fill=\"#000000\" fill-rule=\"evenodd\" fill-opacity=\"1\" /><path clip-path=\"url(#clip710)\" d=\"M2564.87 1237.83 L2564.87 1259.34 L2559.01 1259.34 L2559.01 1238.02 Q2559.01 1232.96 2557.04 1230.44 Q2555.07 1227.93 2551.12 1227.93 Q2546.38 1227.93 2543.64 1230.95 Q2540.9 1233.98 2540.9 1239.2 L2540.9 1259.34 L2535.01 1259.34 L2535.01 1223.7 L2540.9 1223.7 L2540.9 1229.23 Q2543 1226.02 2545.84 1224.43 Q2548.7 1222.84 2552.42 1222.84 Q2558.57 1222.84 2561.72 1226.66 Q2564.87 1230.44 2564.87 1237.83 Z\" fill=\"#000000\" fill-rule=\"evenodd\" fill-opacity=\"1\" /><path clip-path=\"url(#clip710)\" d=\"M2599.21 1253.93 L2609.72 1253.93 L2609.72 1217.68 L2598.29 1219.97 L2598.29 1214.12 L2609.65 1211.82 L2616.08 1211.82 L2616.08 1253.93 L2626.58 1253.93 L2626.58 1259.34 L2599.21 1259.34 L2599.21 1253.93 Z\" fill=\"#000000\" fill-rule=\"evenodd\" fill-opacity=\"1\" /><polyline clip-path=\"url(#clip713)\" style=\"stroke:#000000; stroke-linecap:butt; stroke-linejoin:round; stroke-width:2; stroke-opacity:0.1; fill:none\" points=\"\n",
       "  1864.92,984.519 3194.92,984.519 \n",
       "  \"/>\n",
       "<polyline clip-path=\"url(#clip713)\" style=\"stroke:#000000; stroke-linecap:butt; stroke-linejoin:round; stroke-width:2; stroke-opacity:0.1; fill:none\" points=\"\n",
       "  1864.92,775.606 3194.92,775.606 \n",
       "  \"/>\n",
       "<polyline clip-path=\"url(#clip713)\" style=\"stroke:#000000; stroke-linecap:butt; stroke-linejoin:round; stroke-width:2; stroke-opacity:0.1; fill:none\" points=\"\n",
       "  1864.92,566.692 3194.92,566.692 \n",
       "  \"/>\n",
       "<polyline clip-path=\"url(#clip713)\" style=\"stroke:#000000; stroke-linecap:butt; stroke-linejoin:round; stroke-width:2; stroke-opacity:0.1; fill:none\" points=\"\n",
       "  1864.92,357.779 3194.92,357.779 \n",
       "  \"/>\n",
       "<polyline clip-path=\"url(#clip713)\" style=\"stroke:#000000; stroke-linecap:butt; stroke-linejoin:round; stroke-width:2; stroke-opacity:0.1; fill:none\" points=\"\n",
       "  1864.92,148.865 3194.92,148.865 \n",
       "  \"/>\n",
       "<polyline clip-path=\"url(#clip710)\" style=\"stroke:#000000; stroke-linecap:butt; stroke-linejoin:round; stroke-width:4; stroke-opacity:1; fill:none\" points=\"\n",
       "  1864.92,1078.48 1864.92,47.2441 \n",
       "  \"/>\n",
       "<polyline clip-path=\"url(#clip710)\" style=\"stroke:#000000; stroke-linecap:butt; stroke-linejoin:round; stroke-width:4; stroke-opacity:1; fill:none\" points=\"\n",
       "  1864.92,984.519 1883.82,984.519 \n",
       "  \"/>\n",
       "<polyline clip-path=\"url(#clip710)\" style=\"stroke:#000000; stroke-linecap:butt; stroke-linejoin:round; stroke-width:4; stroke-opacity:1; fill:none\" points=\"\n",
       "  1864.92,775.606 1883.82,775.606 \n",
       "  \"/>\n",
       "<polyline clip-path=\"url(#clip710)\" style=\"stroke:#000000; stroke-linecap:butt; stroke-linejoin:round; stroke-width:4; stroke-opacity:1; fill:none\" points=\"\n",
       "  1864.92,566.692 1883.82,566.692 \n",
       "  \"/>\n",
       "<polyline clip-path=\"url(#clip710)\" style=\"stroke:#000000; stroke-linecap:butt; stroke-linejoin:round; stroke-width:4; stroke-opacity:1; fill:none\" points=\"\n",
       "  1864.92,357.779 1883.82,357.779 \n",
       "  \"/>\n",
       "<polyline clip-path=\"url(#clip710)\" style=\"stroke:#000000; stroke-linecap:butt; stroke-linejoin:round; stroke-width:4; stroke-opacity:1; fill:none\" points=\"\n",
       "  1864.92,148.865 1883.82,148.865 \n",
       "  \"/>\n",
       "<path clip-path=\"url(#clip710)\" d=\"M1705.59 970.318 Q1701.97 970.318 1700.15 973.883 Q1698.34 977.424 1698.34 984.554 Q1698.34 991.66 1700.15 995.225 Q1701.97 998.767 1705.59 998.767 Q1709.22 998.767 1711.03 995.225 Q1712.85 991.66 1712.85 984.554 Q1712.85 977.424 1711.03 973.883 Q1709.22 970.318 1705.59 970.318 M1705.59 966.614 Q1711.4 966.614 1714.45 971.221 Q1717.53 975.804 1717.53 984.554 Q1717.53 993.281 1714.45 997.887 Q1711.4 1002.47 1705.59 1002.47 Q1699.78 1002.47 1696.7 997.887 Q1693.64 993.281 1693.64 984.554 Q1693.64 975.804 1696.7 971.221 Q1699.78 966.614 1705.59 966.614 Z\" fill=\"#000000\" fill-rule=\"evenodd\" fill-opacity=\"1\" /><path clip-path=\"url(#clip710)\" d=\"M1725.75 995.92 L1730.63 995.92 L1730.63 1001.8 L1725.75 1001.8 L1725.75 995.92 Z\" fill=\"#000000\" fill-rule=\"evenodd\" fill-opacity=\"1\" /><path clip-path=\"url(#clip710)\" d=\"M1750.82 970.318 Q1747.21 970.318 1745.38 973.883 Q1743.57 977.424 1743.57 984.554 Q1743.57 991.66 1745.38 995.225 Q1747.21 998.767 1750.82 998.767 Q1754.45 998.767 1756.26 995.225 Q1758.09 991.66 1758.09 984.554 Q1758.09 977.424 1756.26 973.883 Q1754.45 970.318 1750.82 970.318 M1750.82 966.614 Q1756.63 966.614 1759.68 971.221 Q1762.76 975.804 1762.76 984.554 Q1762.76 993.281 1759.68 997.887 Q1756.63 1002.47 1750.82 1002.47 Q1745.01 1002.47 1741.93 997.887 Q1738.87 993.281 1738.87 984.554 Q1738.87 975.804 1741.93 971.221 Q1745.01 966.614 1750.82 966.614 Z\" fill=\"#000000\" fill-rule=\"evenodd\" fill-opacity=\"1\" /><path clip-path=\"url(#clip710)\" d=\"M1780.98 970.318 Q1777.37 970.318 1775.54 973.883 Q1773.73 977.424 1773.73 984.554 Q1773.73 991.66 1775.54 995.225 Q1777.37 998.767 1780.98 998.767 Q1784.61 998.767 1786.42 995.225 Q1788.25 991.66 1788.25 984.554 Q1788.25 977.424 1786.42 973.883 Q1784.61 970.318 1780.98 970.318 M1780.98 966.614 Q1786.79 966.614 1789.84 971.221 Q1792.92 975.804 1792.92 984.554 Q1792.92 993.281 1789.84 997.887 Q1786.79 1002.47 1780.98 1002.47 Q1775.17 1002.47 1772.09 997.887 Q1769.03 993.281 1769.03 984.554 Q1769.03 975.804 1772.09 971.221 Q1775.17 966.614 1780.98 966.614 Z\" fill=\"#000000\" fill-rule=\"evenodd\" fill-opacity=\"1\" /><path clip-path=\"url(#clip710)\" d=\"M1706.58 761.404 Q1702.97 761.404 1701.14 764.969 Q1699.34 768.511 1699.34 775.64 Q1699.34 782.747 1701.14 786.312 Q1702.97 789.853 1706.58 789.853 Q1710.22 789.853 1712.02 786.312 Q1713.85 782.747 1713.85 775.64 Q1713.85 768.511 1712.02 764.969 Q1710.22 761.404 1706.58 761.404 M1706.58 757.701 Q1712.39 757.701 1715.45 762.307 Q1718.53 766.89 1718.53 775.64 Q1718.53 784.367 1715.45 788.974 Q1712.39 793.557 1706.58 793.557 Q1700.77 793.557 1697.69 788.974 Q1694.64 784.367 1694.64 775.64 Q1694.64 766.89 1697.69 762.307 Q1700.77 757.701 1706.58 757.701 Z\" fill=\"#000000\" fill-rule=\"evenodd\" fill-opacity=\"1\" /><path clip-path=\"url(#clip710)\" d=\"M1726.74 787.006 L1731.63 787.006 L1731.63 792.886 L1726.74 792.886 L1726.74 787.006 Z\" fill=\"#000000\" fill-rule=\"evenodd\" fill-opacity=\"1\" /><path clip-path=\"url(#clip710)\" d=\"M1745.84 788.95 L1762.16 788.95 L1762.16 792.886 L1740.22 792.886 L1740.22 788.95 Q1742.88 786.196 1747.46 781.566 Q1752.07 776.914 1753.25 775.571 Q1755.49 773.048 1756.37 771.312 Q1757.28 769.552 1757.28 767.863 Q1757.28 765.108 1755.33 763.372 Q1753.41 761.636 1750.31 761.636 Q1748.11 761.636 1745.66 762.4 Q1743.22 763.164 1740.45 764.715 L1740.45 759.992 Q1743.27 758.858 1745.72 758.279 Q1748.18 757.701 1750.22 757.701 Q1755.59 757.701 1758.78 760.386 Q1761.97 763.071 1761.97 767.562 Q1761.97 769.691 1761.16 771.613 Q1760.38 773.511 1758.27 776.103 Q1757.69 776.775 1754.59 779.992 Q1751.49 783.187 1745.84 788.95 Z\" fill=\"#000000\" fill-rule=\"evenodd\" fill-opacity=\"1\" /><path clip-path=\"url(#clip710)\" d=\"M1772.02 758.326 L1790.38 758.326 L1790.38 762.261 L1776.3 762.261 L1776.3 770.733 Q1777.32 770.386 1778.34 770.224 Q1779.36 770.039 1780.38 770.039 Q1786.16 770.039 1789.54 773.21 Q1792.92 776.381 1792.92 781.798 Q1792.92 787.376 1789.45 790.478 Q1785.98 793.557 1779.66 793.557 Q1777.48 793.557 1775.22 793.187 Q1772.97 792.816 1770.56 792.075 L1770.56 787.376 Q1772.65 788.511 1774.87 789.066 Q1777.09 789.622 1779.57 789.622 Q1783.57 789.622 1785.91 787.515 Q1788.25 785.409 1788.25 781.798 Q1788.25 778.187 1785.91 776.08 Q1783.57 773.974 1779.57 773.974 Q1777.69 773.974 1775.82 774.39 Q1773.97 774.807 1772.02 775.687 L1772.02 758.326 Z\" fill=\"#000000\" fill-rule=\"evenodd\" fill-opacity=\"1\" /><path clip-path=\"url(#clip710)\" d=\"M1705.59 552.491 Q1701.97 552.491 1700.15 556.056 Q1698.34 559.597 1698.34 566.727 Q1698.34 573.833 1700.15 577.398 Q1701.97 580.94 1705.59 580.94 Q1709.22 580.94 1711.03 577.398 Q1712.85 573.833 1712.85 566.727 Q1712.85 559.597 1711.03 556.056 Q1709.22 552.491 1705.59 552.491 M1705.59 548.787 Q1711.4 548.787 1714.45 553.394 Q1717.53 557.977 1717.53 566.727 Q1717.53 575.454 1714.45 580.06 Q1711.4 584.643 1705.59 584.643 Q1699.78 584.643 1696.7 580.06 Q1693.64 575.454 1693.64 566.727 Q1693.64 557.977 1696.7 553.394 Q1699.78 548.787 1705.59 548.787 Z\" fill=\"#000000\" fill-rule=\"evenodd\" fill-opacity=\"1\" /><path clip-path=\"url(#clip710)\" d=\"M1725.75 578.093 L1730.63 578.093 L1730.63 583.972 L1725.75 583.972 L1725.75 578.093 Z\" fill=\"#000000\" fill-rule=\"evenodd\" fill-opacity=\"1\" /><path clip-path=\"url(#clip710)\" d=\"M1740.86 549.412 L1759.22 549.412 L1759.22 553.347 L1745.15 553.347 L1745.15 561.82 Q1746.16 561.472 1747.18 561.31 Q1748.2 561.125 1749.22 561.125 Q1755.01 561.125 1758.39 564.296 Q1761.77 567.468 1761.77 572.884 Q1761.77 578.463 1758.29 581.565 Q1754.82 584.643 1748.5 584.643 Q1746.33 584.643 1744.06 584.273 Q1741.81 583.903 1739.41 583.162 L1739.41 578.463 Q1741.49 579.597 1743.71 580.153 Q1745.93 580.708 1748.41 580.708 Q1752.41 580.708 1754.75 578.602 Q1757.09 576.495 1757.09 572.884 Q1757.09 569.273 1754.75 567.167 Q1752.41 565.06 1748.41 565.06 Q1746.53 565.06 1744.66 565.477 Q1742.81 565.894 1740.86 566.773 L1740.86 549.412 Z\" fill=\"#000000\" fill-rule=\"evenodd\" fill-opacity=\"1\" /><path clip-path=\"url(#clip710)\" d=\"M1780.98 552.491 Q1777.37 552.491 1775.54 556.056 Q1773.73 559.597 1773.73 566.727 Q1773.73 573.833 1775.54 577.398 Q1777.37 580.94 1780.98 580.94 Q1784.61 580.94 1786.42 577.398 Q1788.25 573.833 1788.25 566.727 Q1788.25 559.597 1786.42 556.056 Q1784.61 552.491 1780.98 552.491 M1780.98 548.787 Q1786.79 548.787 1789.84 553.394 Q1792.92 557.977 1792.92 566.727 Q1792.92 575.454 1789.84 580.06 Q1786.79 584.643 1780.98 584.643 Q1775.17 584.643 1772.09 580.06 Q1769.03 575.454 1769.03 566.727 Q1769.03 557.977 1772.09 553.394 Q1775.17 548.787 1780.98 548.787 Z\" fill=\"#000000\" fill-rule=\"evenodd\" fill-opacity=\"1\" /><path clip-path=\"url(#clip710)\" d=\"M1706.58 343.577 Q1702.97 343.577 1701.14 347.142 Q1699.34 350.684 1699.34 357.813 Q1699.34 364.92 1701.14 368.485 Q1702.97 372.026 1706.58 372.026 Q1710.22 372.026 1712.02 368.485 Q1713.85 364.92 1713.85 357.813 Q1713.85 350.684 1712.02 347.142 Q1710.22 343.577 1706.58 343.577 M1706.58 339.874 Q1712.39 339.874 1715.45 344.48 Q1718.53 349.063 1718.53 357.813 Q1718.53 366.54 1715.45 371.147 Q1712.39 375.73 1706.58 375.73 Q1700.77 375.73 1697.69 371.147 Q1694.64 366.54 1694.64 357.813 Q1694.64 349.063 1697.69 344.48 Q1700.77 339.874 1706.58 339.874 Z\" fill=\"#000000\" fill-rule=\"evenodd\" fill-opacity=\"1\" /><path clip-path=\"url(#clip710)\" d=\"M1726.74 369.179 L1731.63 369.179 L1731.63 375.059 L1726.74 375.059 L1726.74 369.179 Z\" fill=\"#000000\" fill-rule=\"evenodd\" fill-opacity=\"1\" /><path clip-path=\"url(#clip710)\" d=\"M1740.63 340.499 L1762.85 340.499 L1762.85 342.489 L1750.31 375.059 L1745.42 375.059 L1757.23 344.434 L1740.63 344.434 L1740.63 340.499 Z\" fill=\"#000000\" fill-rule=\"evenodd\" fill-opacity=\"1\" /><path clip-path=\"url(#clip710)\" d=\"M1772.02 340.499 L1790.38 340.499 L1790.38 344.434 L1776.3 344.434 L1776.3 352.906 Q1777.32 352.559 1778.34 352.397 Q1779.36 352.212 1780.38 352.212 Q1786.16 352.212 1789.54 355.383 Q1792.92 358.554 1792.92 363.971 Q1792.92 369.549 1789.45 372.651 Q1785.98 375.73 1779.66 375.73 Q1777.48 375.73 1775.22 375.36 Q1772.97 374.989 1770.56 374.249 L1770.56 369.549 Q1772.65 370.684 1774.87 371.239 Q1777.09 371.795 1779.57 371.795 Q1783.57 371.795 1785.91 369.688 Q1788.25 367.582 1788.25 363.971 Q1788.25 360.36 1785.91 358.253 Q1783.57 356.147 1779.57 356.147 Q1777.69 356.147 1775.82 356.563 Q1773.97 356.98 1772.02 357.86 L1772.02 340.499 Z\" fill=\"#000000\" fill-rule=\"evenodd\" fill-opacity=\"1\" /><path clip-path=\"url(#clip710)\" d=\"M1696.4 162.21 L1704.03 162.21 L1704.03 135.845 L1695.72 137.511 L1695.72 133.252 L1703.99 131.585 L1708.66 131.585 L1708.66 162.21 L1716.3 162.21 L1716.3 166.145 L1696.4 166.145 L1696.4 162.21 Z\" fill=\"#000000\" fill-rule=\"evenodd\" fill-opacity=\"1\" /><path clip-path=\"url(#clip710)\" d=\"M1725.75 160.266 L1730.63 160.266 L1730.63 166.145 L1725.75 166.145 L1725.75 160.266 Z\" fill=\"#000000\" fill-rule=\"evenodd\" fill-opacity=\"1\" /><path clip-path=\"url(#clip710)\" d=\"M1750.82 134.664 Q1747.21 134.664 1745.38 138.229 Q1743.57 141.77 1743.57 148.9 Q1743.57 156.006 1745.38 159.571 Q1747.21 163.113 1750.82 163.113 Q1754.45 163.113 1756.26 159.571 Q1758.09 156.006 1758.09 148.9 Q1758.09 141.77 1756.26 138.229 Q1754.45 134.664 1750.82 134.664 M1750.82 130.96 Q1756.63 130.96 1759.68 135.567 Q1762.76 140.15 1762.76 148.9 Q1762.76 157.627 1759.68 162.233 Q1756.63 166.817 1750.82 166.817 Q1745.01 166.817 1741.93 162.233 Q1738.87 157.627 1738.87 148.9 Q1738.87 140.15 1741.93 135.567 Q1745.01 130.96 1750.82 130.96 Z\" fill=\"#000000\" fill-rule=\"evenodd\" fill-opacity=\"1\" /><path clip-path=\"url(#clip710)\" d=\"M1780.98 134.664 Q1777.37 134.664 1775.54 138.229 Q1773.73 141.77 1773.73 148.9 Q1773.73 156.006 1775.54 159.571 Q1777.37 163.113 1780.98 163.113 Q1784.61 163.113 1786.42 159.571 Q1788.25 156.006 1788.25 148.9 Q1788.25 141.77 1786.42 138.229 Q1784.61 134.664 1780.98 134.664 M1780.98 130.96 Q1786.79 130.96 1789.84 135.567 Q1792.92 140.15 1792.92 148.9 Q1792.92 157.627 1789.84 162.233 Q1786.79 166.817 1780.98 166.817 Q1775.17 166.817 1772.09 162.233 Q1769.03 157.627 1769.03 148.9 Q1769.03 140.15 1772.09 135.567 Q1775.17 130.96 1780.98 130.96 Z\" fill=\"#000000\" fill-rule=\"evenodd\" fill-opacity=\"1\" /><path clip-path=\"url(#clip710)\" d=\"M1589.15 633.267 Q1582.78 633.267 1579.28 635.908 Q1575.78 638.518 1575.78 643.261 Q1575.78 647.971 1579.28 650.613 Q1582.78 653.223 1589.15 653.223 Q1595.48 653.223 1598.98 650.613 Q1602.48 647.971 1602.48 643.261 Q1602.48 638.518 1598.98 635.908 Q1595.48 633.267 1589.15 633.267 M1602.96 627.41 Q1612.06 627.41 1616.49 631.452 Q1620.94 635.495 1620.94 643.834 Q1620.94 646.921 1620.47 649.658 Q1620.02 652.396 1619.07 654.974 L1613.37 654.974 Q1614.77 652.396 1615.44 649.881 Q1616.11 647.367 1616.11 644.757 Q1616.11 638.996 1613.08 636.131 Q1610.09 633.267 1604.01 633.267 L1601.12 633.267 Q1604.27 635.081 1605.83 637.914 Q1607.39 640.746 1607.39 644.693 Q1607.39 651.25 1602.39 655.26 Q1597.39 659.271 1589.15 659.271 Q1580.87 659.271 1575.88 655.26 Q1570.88 651.25 1570.88 644.693 Q1570.88 640.746 1572.44 637.914 Q1574 635.081 1577.15 633.267 L1571.74 633.267 L1571.74 627.41 L1602.96 627.41 Z\" fill=\"#000000\" fill-rule=\"evenodd\" fill-opacity=\"1\" /><path clip-path=\"url(#clip710)\" d=\"M1589.47 599.146 Q1589.47 606.244 1591.09 608.982 Q1592.71 611.719 1596.63 611.719 Q1599.75 611.719 1601.59 609.682 Q1603.41 607.613 1603.41 604.08 Q1603.41 599.21 1599.97 596.282 Q1596.5 593.322 1590.77 593.322 L1589.47 593.322 L1589.47 599.146 M1587.05 587.465 L1607.39 587.465 L1607.39 593.322 L1601.97 593.322 Q1605.22 595.327 1606.78 598.319 Q1608.31 601.311 1608.31 605.64 Q1608.31 611.114 1605.25 614.361 Q1602.17 617.575 1597.01 617.575 Q1590.99 617.575 1587.94 613.565 Q1584.88 609.523 1584.88 601.534 L1584.88 593.322 L1584.31 593.322 Q1580.27 593.322 1578.07 595.995 Q1575.84 598.637 1575.84 603.443 Q1575.84 606.499 1576.58 609.395 Q1577.31 612.292 1578.77 614.965 L1573.36 614.965 Q1572.12 611.751 1571.51 608.727 Q1570.88 605.703 1570.88 602.839 Q1570.88 595.104 1574.89 591.285 Q1578.9 587.465 1587.05 587.465 Z\" fill=\"#000000\" fill-rule=\"evenodd\" fill-opacity=\"1\" /><path clip-path=\"url(#clip710)\" d=\"M1571.74 575.402 L1571.74 569.546 L1607.39 569.546 L1607.39 575.402 L1571.74 575.402 M1557.86 575.402 L1557.86 569.546 L1565.28 569.546 L1565.28 575.402 L1557.86 575.402 Z\" fill=\"#000000\" fill-rule=\"evenodd\" fill-opacity=\"1\" /><path clip-path=\"url(#clip710)\" d=\"M1585.87 527.66 L1607.39 527.66 L1607.39 533.516 L1586.06 533.516 Q1581 533.516 1578.49 535.489 Q1575.97 537.463 1575.97 541.41 Q1575.97 546.152 1578.99 548.889 Q1582.02 551.626 1587.24 551.626 L1607.39 551.626 L1607.39 557.515 L1571.74 557.515 L1571.74 551.626 L1577.28 551.626 Q1574.06 549.526 1572.47 546.693 Q1570.88 543.829 1570.88 540.105 Q1570.88 533.962 1574.7 530.811 Q1578.49 527.66 1585.87 527.66 Z\" fill=\"#000000\" fill-rule=\"evenodd\" fill-opacity=\"1\" /><path clip-path=\"url(#clip710)\" d=\"M1601.97 488.892 L1601.97 466.453 L1607.39 466.453 L1607.39 496.627 L1601.97 496.627 Q1598.19 492.967 1591.82 486.664 Q1585.42 480.331 1583.58 478.707 Q1580.11 475.62 1577.72 474.41 Q1575.3 473.169 1572.98 473.169 Q1569.19 473.169 1566.8 475.843 Q1564.42 478.485 1564.42 482.75 Q1564.42 485.773 1565.47 489.147 Q1566.52 492.489 1568.65 496.309 L1562.16 496.309 Q1560.6 492.425 1559.8 489.052 Q1559.01 485.678 1559.01 482.877 Q1559.01 475.493 1562.7 471.1 Q1566.39 466.708 1572.57 466.708 Q1575.49 466.708 1578.14 467.822 Q1580.74 468.904 1584.31 471.801 Q1585.23 472.596 1589.66 476.861 Q1594.05 481.126 1601.97 488.892 Z\" fill=\"#000000\" fill-rule=\"evenodd\" fill-opacity=\"1\" /><circle clip-path=\"url(#clip713)\" cx=\"1932.85\" cy=\"409.076\" r=\"14\" fill=\"#7f00ff\" fill-rule=\"evenodd\" fill-opacity=\"1\" stroke=\"#000000\" stroke-opacity=\"1\" stroke-width=\"2.4\"/>\n",
       "<circle clip-path=\"url(#clip713)\" cx=\"1925.09\" cy=\"398.115\" r=\"14\" fill=\"#7a00ff\" fill-rule=\"evenodd\" fill-opacity=\"1\" stroke=\"#000000\" stroke-opacity=\"1\" stroke-width=\"2.4\"/>\n",
       "<circle clip-path=\"url(#clip713)\" cx=\"1942.42\" cy=\"393.526\" r=\"14\" fill=\"#a700ff\" fill-rule=\"evenodd\" fill-opacity=\"1\" stroke=\"#000000\" stroke-opacity=\"1\" stroke-width=\"2.4\"/>\n",
       "<circle clip-path=\"url(#clip713)\" cx=\"1923.96\" cy=\"392.387\" r=\"14\" fill=\"#7d00ff\" fill-rule=\"evenodd\" fill-opacity=\"1\" stroke=\"#000000\" stroke-opacity=\"1\" stroke-width=\"2.4\"/>\n",
       "<circle clip-path=\"url(#clip713)\" cx=\"1952.22\" cy=\"430.776\" r=\"14\" fill=\"#9300ff\" fill-rule=\"evenodd\" fill-opacity=\"1\" stroke=\"#000000\" stroke-opacity=\"1\" stroke-width=\"2.4\"/>\n",
       "<circle clip-path=\"url(#clip713)\" cx=\"2075.26\" cy=\"591.427\" r=\"14\" fill=\"#fc00ff\" fill-rule=\"evenodd\" fill-opacity=\"1\" stroke=\"#000000\" stroke-opacity=\"1\" stroke-width=\"2.4\"/>\n",
       "<circle clip-path=\"url(#clip713)\" cx=\"2112.56\" cy=\"640.628\" r=\"14\" fill=\"#ff00e6\" fill-rule=\"evenodd\" fill-opacity=\"1\" stroke=\"#000000\" stroke-opacity=\"1\" stroke-width=\"2.4\"/>\n",
       "<circle clip-path=\"url(#clip713)\" cx=\"2070.88\" cy=\"559.555\" r=\"14\" fill=\"#ff00e3\" fill-rule=\"evenodd\" fill-opacity=\"1\" stroke=\"#000000\" stroke-opacity=\"1\" stroke-width=\"2.4\"/>\n",
       "<circle clip-path=\"url(#clip713)\" cx=\"2195.04\" cy=\"773.089\" r=\"14\" fill=\"#ff00cc\" fill-rule=\"evenodd\" fill-opacity=\"1\" stroke=\"#000000\" stroke-opacity=\"1\" stroke-width=\"2.4\"/>\n",
       "<circle clip-path=\"url(#clip713)\" cx=\"2198.32\" cy=\"812.568\" r=\"14\" fill=\"#ff00ee\" fill-rule=\"evenodd\" fill-opacity=\"1\" stroke=\"#000000\" stroke-opacity=\"1\" stroke-width=\"2.4\"/>\n",
       "<circle clip-path=\"url(#clip713)\" cx=\"2187.19\" cy=\"772.587\" r=\"14\" fill=\"#ff00db\" fill-rule=\"evenodd\" fill-opacity=\"1\" stroke=\"#000000\" stroke-opacity=\"1\" stroke-width=\"2.4\"/>\n",
       "<circle clip-path=\"url(#clip713)\" cx=\"2202.81\" cy=\"834.761\" r=\"14\" fill=\"#ff00fb\" fill-rule=\"evenodd\" fill-opacity=\"1\" stroke=\"#000000\" stroke-opacity=\"1\" stroke-width=\"2.4\"/>\n",
       "<circle clip-path=\"url(#clip713)\" cx=\"2214.4\" cy=\"822.722\" r=\"14\" fill=\"#ff00d9\" fill-rule=\"evenodd\" fill-opacity=\"1\" stroke=\"#000000\" stroke-opacity=\"1\" stroke-width=\"2.4\"/>\n",
       "<circle clip-path=\"url(#clip713)\" cx=\"2193.09\" cy=\"837.306\" r=\"14\" fill=\"#ee00ff\" fill-rule=\"evenodd\" fill-opacity=\"1\" stroke=\"#000000\" stroke-opacity=\"1\" stroke-width=\"2.4\"/>\n",
       "<circle clip-path=\"url(#clip713)\" cx=\"2198.56\" cy=\"837.528\" r=\"14\" fill=\"#f800ff\" fill-rule=\"evenodd\" fill-opacity=\"1\" stroke=\"#000000\" stroke-opacity=\"1\" stroke-width=\"2.4\"/>\n",
       "<circle clip-path=\"url(#clip713)\" cx=\"2179.94\" cy=\"794.299\" r=\"14\" fill=\"#fe00ff\" fill-rule=\"evenodd\" fill-opacity=\"1\" stroke=\"#000000\" stroke-opacity=\"1\" stroke-width=\"2.4\"/>\n",
       "<circle clip-path=\"url(#clip713)\" cx=\"2308.03\" cy=\"912.73\" r=\"14\" fill=\"#ff009f\" fill-rule=\"evenodd\" fill-opacity=\"1\" stroke=\"#000000\" stroke-opacity=\"1\" stroke-width=\"2.4\"/>\n",
       "<circle clip-path=\"url(#clip713)\" cx=\"2261.35\" cy=\"917.999\" r=\"14\" fill=\"#ff00df\" fill-rule=\"evenodd\" fill-opacity=\"1\" stroke=\"#000000\" stroke-opacity=\"1\" stroke-width=\"2.4\"/>\n",
       "<circle clip-path=\"url(#clip713)\" cx=\"2255.21\" cy=\"899.14\" r=\"14\" fill=\"#ff00d8\" fill-rule=\"evenodd\" fill-opacity=\"1\" stroke=\"#000000\" stroke-opacity=\"1\" stroke-width=\"2.4\"/>\n",
       "<circle clip-path=\"url(#clip713)\" cx=\"2275.93\" cy=\"737.408\" r=\"14\" fill=\"#b700ff\" fill-rule=\"evenodd\" fill-opacity=\"1\" stroke=\"#000000\" stroke-opacity=\"1\" stroke-width=\"2.4\"/>\n",
       "<circle clip-path=\"url(#clip713)\" cx=\"2303\" cy=\"735.734\" r=\"14\" fill=\"#2b00ff\" fill-rule=\"evenodd\" fill-opacity=\"1\" stroke=\"#000000\" stroke-opacity=\"1\" stroke-width=\"2.4\"/>\n",
       "<circle clip-path=\"url(#clip713)\" cx=\"2346.02\" cy=\"958.075\" r=\"14\" fill=\"#ff00a0\" fill-rule=\"evenodd\" fill-opacity=\"1\" stroke=\"#000000\" stroke-opacity=\"1\" stroke-width=\"2.4\"/>\n",
       "<circle clip-path=\"url(#clip713)\" cx=\"2331.14\" cy=\"969.702\" r=\"14\" fill=\"#ff00a7\" fill-rule=\"evenodd\" fill-opacity=\"1\" stroke=\"#000000\" stroke-opacity=\"1\" stroke-width=\"2.4\"/>\n",
       "<circle clip-path=\"url(#clip713)\" cx=\"2323.27\" cy=\"1010.28\" r=\"14\" fill=\"#ff00cb\" fill-rule=\"evenodd\" fill-opacity=\"1\" stroke=\"#000000\" stroke-opacity=\"1\" stroke-width=\"2.4\"/>\n",
       "<circle clip-path=\"url(#clip713)\" cx=\"2344.66\" cy=\"963.776\" r=\"14\" fill=\"#ff009f\" fill-rule=\"evenodd\" fill-opacity=\"1\" stroke=\"#000000\" stroke-opacity=\"1\" stroke-width=\"2.4\"/>\n",
       "<circle clip-path=\"url(#clip713)\" cx=\"2335.18\" cy=\"974.043\" r=\"14\" fill=\"#ff00a6\" fill-rule=\"evenodd\" fill-opacity=\"1\" stroke=\"#000000\" stroke-opacity=\"1\" stroke-width=\"2.4\"/>\n",
       "<circle clip-path=\"url(#clip713)\" cx=\"2316.79\" cy=\"967.415\" r=\"14\" fill=\"#ff00b4\" fill-rule=\"evenodd\" fill-opacity=\"1\" stroke=\"#000000\" stroke-opacity=\"1\" stroke-width=\"2.4\"/>\n",
       "<circle clip-path=\"url(#clip713)\" cx=\"2340.51\" cy=\"995.094\" r=\"14\" fill=\"#ff00ac\" fill-rule=\"evenodd\" fill-opacity=\"1\" stroke=\"#000000\" stroke-opacity=\"1\" stroke-width=\"2.4\"/>\n",
       "<circle clip-path=\"url(#clip713)\" cx=\"2848.29\" cy=\"966.937\" r=\"14\" fill=\"#9900ff\" fill-rule=\"evenodd\" fill-opacity=\"1\" stroke=\"#000000\" stroke-opacity=\"1\" stroke-width=\"2.4\"/>\n",
       "<circle clip-path=\"url(#clip713)\" cx=\"2845.58\" cy=\"977.971\" r=\"14\" fill=\"#8b00ff\" fill-rule=\"evenodd\" fill-opacity=\"1\" stroke=\"#000000\" stroke-opacity=\"1\" stroke-width=\"2.4\"/>\n",
       "<circle clip-path=\"url(#clip713)\" cx=\"2842.12\" cy=\"991.446\" r=\"14\" fill=\"#7b00ff\" fill-rule=\"evenodd\" fill-opacity=\"1\" stroke=\"#000000\" stroke-opacity=\"1\" stroke-width=\"2.4\"/>\n",
       "<circle clip-path=\"url(#clip713)\" cx=\"2853.39\" cy=\"1035.72\" r=\"14\" fill=\"#8800ff\" fill-rule=\"evenodd\" fill-opacity=\"1\" stroke=\"#000000\" stroke-opacity=\"1\" stroke-width=\"2.4\"/>\n",
       "<circle clip-path=\"url(#clip713)\" cx=\"2853.84\" cy=\"1027.38\" r=\"14\" fill=\"#8e00ff\" fill-rule=\"evenodd\" fill-opacity=\"1\" stroke=\"#000000\" stroke-opacity=\"1\" stroke-width=\"2.4\"/>\n",
       "<circle clip-path=\"url(#clip713)\" cx=\"2825.3\" cy=\"995.555\" r=\"14\" fill=\"#4e00ff\" fill-rule=\"evenodd\" fill-opacity=\"1\" stroke=\"#000000\" stroke-opacity=\"1\" stroke-width=\"2.4\"/>\n",
       "<circle clip-path=\"url(#clip713)\" cx=\"2838.01\" cy=\"991.12\" r=\"14\" fill=\"#7000ff\" fill-rule=\"evenodd\" fill-opacity=\"1\" stroke=\"#000000\" stroke-opacity=\"1\" stroke-width=\"2.4\"/>\n",
       "<circle clip-path=\"url(#clip713)\" cx=\"2852.99\" cy=\"139.511\" r=\"14\" fill=\"#d900ff\" fill-rule=\"evenodd\" fill-opacity=\"1\" stroke=\"#000000\" stroke-opacity=\"1\" stroke-width=\"2.4\"/>\n",
       "<circle clip-path=\"url(#clip713)\" cx=\"2866.35\" cy=\"142.679\" r=\"14\" fill=\"#e100ff\" fill-rule=\"evenodd\" fill-opacity=\"1\" stroke=\"#000000\" stroke-opacity=\"1\" stroke-width=\"2.4\"/>\n",
       "<circle clip-path=\"url(#clip713)\" cx=\"3117.86\" cy=\"135.945\" r=\"14\" fill=\"#a500ff\" fill-rule=\"evenodd\" fill-opacity=\"1\" stroke=\"#000000\" stroke-opacity=\"1\" stroke-width=\"2.4\"/>\n",
       "<circle clip-path=\"url(#clip713)\" cx=\"3157.28\" cy=\"200.778\" r=\"14\" fill=\"#ad00ff\" fill-rule=\"evenodd\" fill-opacity=\"1\" stroke=\"#000000\" stroke-opacity=\"1\" stroke-width=\"2.4\"/>\n",
       "<circle clip-path=\"url(#clip713)\" cx=\"3120.41\" cy=\"155.389\" r=\"14\" fill=\"#ab00ff\" fill-rule=\"evenodd\" fill-opacity=\"1\" stroke=\"#000000\" stroke-opacity=\"1\" stroke-width=\"2.4\"/>\n",
       "<circle clip-path=\"url(#clip713)\" cx=\"1904.03\" cy=\"353.964\" r=\"14\" fill=\"#7a00ff\" fill-rule=\"evenodd\" fill-opacity=\"1\" stroke=\"#000000\" stroke-opacity=\"1\" stroke-width=\"2.4\"/>\n",
       "<circle clip-path=\"url(#clip713)\" cx=\"1940.05\" cy=\"388.225\" r=\"14\" fill=\"#a700ff\" fill-rule=\"evenodd\" fill-opacity=\"1\" stroke=\"#000000\" stroke-opacity=\"1\" stroke-width=\"2.4\"/>\n",
       "<circle clip-path=\"url(#clip713)\" cx=\"1907.26\" cy=\"397.345\" r=\"14\" fill=\"#5a00ff\" fill-rule=\"evenodd\" fill-opacity=\"1\" stroke=\"#000000\" stroke-opacity=\"1\" stroke-width=\"2.4\"/>\n",
       "<circle clip-path=\"url(#clip713)\" cx=\"1938.41\" cy=\"409.488\" r=\"14\" fill=\"#8b00ff\" fill-rule=\"evenodd\" fill-opacity=\"1\" stroke=\"#000000\" stroke-opacity=\"1\" stroke-width=\"2.4\"/>\n",
       "<circle clip-path=\"url(#clip713)\" cx=\"1937.58\" cy=\"371.543\" r=\"14\" fill=\"#b700ff\" fill-rule=\"evenodd\" fill-opacity=\"1\" stroke=\"#000000\" stroke-opacity=\"1\" stroke-width=\"2.4\"/>\n",
       "<circle clip-path=\"url(#clip713)\" cx=\"2075.17\" cy=\"548.315\" r=\"14\" fill=\"#ff00c9\" fill-rule=\"evenodd\" fill-opacity=\"1\" stroke=\"#000000\" stroke-opacity=\"1\" stroke-width=\"2.4\"/>\n",
       "<circle clip-path=\"url(#clip713)\" cx=\"2079.22\" cy=\"544.61\" r=\"14\" fill=\"#ff00bb\" fill-rule=\"evenodd\" fill-opacity=\"1\" stroke=\"#000000\" stroke-opacity=\"1\" stroke-width=\"2.4\"/>\n",
       "<circle clip-path=\"url(#clip713)\" cx=\"2107.66\" cy=\"585.619\" r=\"14\" fill=\"#ff00af\" fill-rule=\"evenodd\" fill-opacity=\"1\" stroke=\"#000000\" stroke-opacity=\"1\" stroke-width=\"2.4\"/>\n",
       "<circle clip-path=\"url(#clip713)\" cx=\"2132.72\" cy=\"754.713\" r=\"14\" fill=\"#c700ff\" fill-rule=\"evenodd\" fill-opacity=\"1\" stroke=\"#000000\" stroke-opacity=\"1\" stroke-width=\"2.4\"/>\n",
       "<circle clip-path=\"url(#clip713)\" cx=\"2193.87\" cy=\"788.045\" r=\"14\" fill=\"#ff00de\" fill-rule=\"evenodd\" fill-opacity=\"1\" stroke=\"#000000\" stroke-opacity=\"1\" stroke-width=\"2.4\"/>\n",
       "<circle clip-path=\"url(#clip713)\" cx=\"2220.96\" cy=\"834.227\" r=\"14\" fill=\"#ff00d8\" fill-rule=\"evenodd\" fill-opacity=\"1\" stroke=\"#000000\" stroke-opacity=\"1\" stroke-width=\"2.4\"/>\n",
       "<circle clip-path=\"url(#clip713)\" cx=\"2206.85\" cy=\"824.057\" r=\"14\" fill=\"#ff00e9\" fill-rule=\"evenodd\" fill-opacity=\"1\" stroke=\"#000000\" stroke-opacity=\"1\" stroke-width=\"2.4\"/>\n",
       "<circle clip-path=\"url(#clip713)\" cx=\"2196.12\" cy=\"847.92\" r=\"14\" fill=\"#ea00ff\" fill-rule=\"evenodd\" fill-opacity=\"1\" stroke=\"#000000\" stroke-opacity=\"1\" stroke-width=\"2.4\"/>\n",
       "<circle clip-path=\"url(#clip713)\" cx=\"2219.5\" cy=\"854.964\" r=\"14\" fill=\"#ff00ef\" fill-rule=\"evenodd\" fill-opacity=\"1\" stroke=\"#000000\" stroke-opacity=\"1\" stroke-width=\"2.4\"/>\n",
       "<circle clip-path=\"url(#clip713)\" cx=\"2171.9\" cy=\"812.535\" r=\"14\" fill=\"#dd00ff\" fill-rule=\"evenodd\" fill-opacity=\"1\" stroke=\"#000000\" stroke-opacity=\"1\" stroke-width=\"2.4\"/>\n",
       "<circle clip-path=\"url(#clip713)\" cx=\"2187.37\" cy=\"781.251\" r=\"14\" fill=\"#ff00e3\" fill-rule=\"evenodd\" fill-opacity=\"1\" stroke=\"#000000\" stroke-opacity=\"1\" stroke-width=\"2.4\"/>\n",
       "<circle clip-path=\"url(#clip713)\" cx=\"2311.29\" cy=\"870.072\" r=\"14\" fill=\"#ff00a8\" fill-rule=\"evenodd\" fill-opacity=\"1\" stroke=\"#000000\" stroke-opacity=\"1\" stroke-width=\"2.4\"/>\n",
       "<circle clip-path=\"url(#clip713)\" cx=\"2276.79\" cy=\"925.37\" r=\"14\" fill=\"#ff00cc\" fill-rule=\"evenodd\" fill-opacity=\"1\" stroke=\"#000000\" stroke-opacity=\"1\" stroke-width=\"2.4\"/>\n",
       "<circle clip-path=\"url(#clip713)\" cx=\"2299.23\" cy=\"890.209\" r=\"14\" fill=\"#ff009c\" fill-rule=\"evenodd\" fill-opacity=\"1\" stroke=\"#000000\" stroke-opacity=\"1\" stroke-width=\"2.4\"/>\n",
       "<circle clip-path=\"url(#clip713)\" cx=\"2318.01\" cy=\"696.455\" r=\"14\" fill=\"#0400ff\" fill-rule=\"evenodd\" fill-opacity=\"1\" stroke=\"#000000\" stroke-opacity=\"1\" stroke-width=\"2.4\"/>\n",
       "<circle clip-path=\"url(#clip713)\" cx=\"2306.41\" cy=\"753.492\" r=\"14\" fill=\"#3f00ff\" fill-rule=\"evenodd\" fill-opacity=\"1\" stroke=\"#000000\" stroke-opacity=\"1\" stroke-width=\"2.4\"/>\n",
       "<circle clip-path=\"url(#clip713)\" cx=\"2346.42\" cy=\"1003.52\" r=\"14\" fill=\"#ff00ab\" fill-rule=\"evenodd\" fill-opacity=\"1\" stroke=\"#000000\" stroke-opacity=\"1\" stroke-width=\"2.4\"/>\n",
       "<circle clip-path=\"url(#clip713)\" cx=\"2345.25\" cy=\"971.694\" r=\"14\" fill=\"#ff00a0\" fill-rule=\"evenodd\" fill-opacity=\"1\" stroke=\"#000000\" stroke-opacity=\"1\" stroke-width=\"2.4\"/>\n",
       "<circle clip-path=\"url(#clip713)\" cx=\"2340.79\" cy=\"965.711\" r=\"14\" fill=\"#ff00a0\" fill-rule=\"evenodd\" fill-opacity=\"1\" stroke=\"#000000\" stroke-opacity=\"1\" stroke-width=\"2.4\"/>\n",
       "<circle clip-path=\"url(#clip713)\" cx=\"2348.72\" cy=\"996.701\" r=\"14\" fill=\"#ff00a6\" fill-rule=\"evenodd\" fill-opacity=\"1\" stroke=\"#000000\" stroke-opacity=\"1\" stroke-width=\"2.4\"/>\n",
       "<circle clip-path=\"url(#clip713)\" cx=\"2333.64\" cy=\"1036.73\" r=\"14\" fill=\"#ff00d0\" fill-rule=\"evenodd\" fill-opacity=\"1\" stroke=\"#000000\" stroke-opacity=\"1\" stroke-width=\"2.4\"/>\n",
       "<circle clip-path=\"url(#clip713)\" cx=\"2341.08\" cy=\"963.017\" r=\"14\" fill=\"#ff009f\" fill-rule=\"evenodd\" fill-opacity=\"1\" stroke=\"#000000\" stroke-opacity=\"1\" stroke-width=\"2.4\"/>\n",
       "<circle clip-path=\"url(#clip713)\" cx=\"2356.56\" cy=\"965.115\" r=\"14\" fill=\"#ff00a4\" fill-rule=\"evenodd\" fill-opacity=\"1\" stroke=\"#000000\" stroke-opacity=\"1\" stroke-width=\"2.4\"/>\n",
       "<circle clip-path=\"url(#clip713)\" cx=\"2852.3\" cy=\"1028.63\" r=\"14\" fill=\"#8800ff\" fill-rule=\"evenodd\" fill-opacity=\"1\" stroke=\"#000000\" stroke-opacity=\"1\" stroke-width=\"2.4\"/>\n",
       "<circle clip-path=\"url(#clip713)\" cx=\"2872.05\" cy=\"969.772\" r=\"14\" fill=\"#e600ff\" fill-rule=\"evenodd\" fill-opacity=\"1\" stroke=\"#000000\" stroke-opacity=\"1\" stroke-width=\"2.4\"/>\n",
       "<circle clip-path=\"url(#clip713)\" cx=\"2850.36\" cy=\"968.537\" r=\"14\" fill=\"#9f00ff\" fill-rule=\"evenodd\" fill-opacity=\"1\" stroke=\"#000000\" stroke-opacity=\"1\" stroke-width=\"2.4\"/>\n",
       "<circle clip-path=\"url(#clip713)\" cx=\"2849.06\" cy=\"998.461\" r=\"14\" fill=\"#8d00ff\" fill-rule=\"evenodd\" fill-opacity=\"1\" stroke=\"#000000\" stroke-opacity=\"1\" stroke-width=\"2.4\"/>\n",
       "<circle clip-path=\"url(#clip713)\" cx=\"2845.98\" cy=\"983.006\" r=\"14\" fill=\"#8a00ff\" fill-rule=\"evenodd\" fill-opacity=\"1\" stroke=\"#000000\" stroke-opacity=\"1\" stroke-width=\"2.4\"/>\n",
       "<circle clip-path=\"url(#clip713)\" cx=\"2841.89\" cy=\"958.699\" r=\"14\" fill=\"#8900ff\" fill-rule=\"evenodd\" fill-opacity=\"1\" stroke=\"#000000\" stroke-opacity=\"1\" stroke-width=\"2.4\"/>\n",
       "<circle clip-path=\"url(#clip713)\" cx=\"2851.87\" cy=\"944.207\" r=\"14\" fill=\"#af00ff\" fill-rule=\"evenodd\" fill-opacity=\"1\" stroke=\"#000000\" stroke-opacity=\"1\" stroke-width=\"2.4\"/>\n",
       "<circle clip-path=\"url(#clip713)\" cx=\"2822.75\" cy=\"130.029\" r=\"14\" fill=\"#c100ff\" fill-rule=\"evenodd\" fill-opacity=\"1\" stroke=\"#000000\" stroke-opacity=\"1\" stroke-width=\"2.4\"/>\n",
       "<circle clip-path=\"url(#clip713)\" cx=\"2822.36\" cy=\"138.033\" r=\"14\" fill=\"#c200ff\" fill-rule=\"evenodd\" fill-opacity=\"1\" stroke=\"#000000\" stroke-opacity=\"1\" stroke-width=\"2.4\"/>\n",
       "<circle clip-path=\"url(#clip713)\" cx=\"3128.21\" cy=\"137.99\" r=\"14\" fill=\"#a300ff\" fill-rule=\"evenodd\" fill-opacity=\"1\" stroke=\"#000000\" stroke-opacity=\"1\" stroke-width=\"2.4\"/>\n",
       "<circle clip-path=\"url(#clip713)\" cx=\"3096.18\" cy=\"179.067\" r=\"14\" fill=\"#bf00ff\" fill-rule=\"evenodd\" fill-opacity=\"1\" stroke=\"#000000\" stroke-opacity=\"1\" stroke-width=\"2.4\"/>\n",
       "<circle clip-path=\"url(#clip713)\" cx=\"3079.81\" cy=\"152.093\" r=\"14\" fill=\"#bb00ff\" fill-rule=\"evenodd\" fill-opacity=\"1\" stroke=\"#000000\" stroke-opacity=\"1\" stroke-width=\"2.4\"/>\n",
       "<circle clip-path=\"url(#clip713)\" cx=\"1939.46\" cy=\"392.75\" r=\"14\" fill=\"#a000ff\" fill-rule=\"evenodd\" fill-opacity=\"1\" stroke=\"#000000\" stroke-opacity=\"1\" stroke-width=\"2.4\"/>\n",
       "<circle clip-path=\"url(#clip713)\" cx=\"1925.22\" cy=\"370.228\" r=\"14\" fill=\"#9800ff\" fill-rule=\"evenodd\" fill-opacity=\"1\" stroke=\"#000000\" stroke-opacity=\"1\" stroke-width=\"2.4\"/>\n",
       "<circle clip-path=\"url(#clip713)\" cx=\"1955.97\" cy=\"397.974\" r=\"14\" fill=\"#c500ff\" fill-rule=\"evenodd\" fill-opacity=\"1\" stroke=\"#000000\" stroke-opacity=\"1\" stroke-width=\"2.4\"/>\n",
       "<circle clip-path=\"url(#clip713)\" cx=\"1914.32\" cy=\"431.948\" r=\"14\" fill=\"#4d00ff\" fill-rule=\"evenodd\" fill-opacity=\"1\" stroke=\"#000000\" stroke-opacity=\"1\" stroke-width=\"2.4\"/>\n",
       "<circle clip-path=\"url(#clip713)\" cx=\"1902.56\" cy=\"401.486\" r=\"14\" fill=\"#5000ff\" fill-rule=\"evenodd\" fill-opacity=\"1\" stroke=\"#000000\" stroke-opacity=\"1\" stroke-width=\"2.4\"/>\n",
       "<circle clip-path=\"url(#clip713)\" cx=\"2071\" cy=\"538.737\" r=\"14\" fill=\"#ff00c7\" fill-rule=\"evenodd\" fill-opacity=\"1\" stroke=\"#000000\" stroke-opacity=\"1\" stroke-width=\"2.4\"/>\n",
       "<circle clip-path=\"url(#clip713)\" cx=\"2097.32\" cy=\"599.934\" r=\"14\" fill=\"#ff00d7\" fill-rule=\"evenodd\" fill-opacity=\"1\" stroke=\"#000000\" stroke-opacity=\"1\" stroke-width=\"2.4\"/>\n",
       "<circle clip-path=\"url(#clip713)\" cx=\"2073.19\" cy=\"593.171\" r=\"14\" fill=\"#f400ff\" fill-rule=\"evenodd\" fill-opacity=\"1\" stroke=\"#000000\" stroke-opacity=\"1\" stroke-width=\"2.4\"/>\n",
       "<circle clip-path=\"url(#clip713)\" cx=\"2199.2\" cy=\"836.738\" r=\"14\" fill=\"#fa00ff\" fill-rule=\"evenodd\" fill-opacity=\"1\" stroke=\"#000000\" stroke-opacity=\"1\" stroke-width=\"2.4\"/>\n",
       "<circle clip-path=\"url(#clip713)\" cx=\"2189.08\" cy=\"806.356\" r=\"14\" fill=\"#ff00fa\" fill-rule=\"evenodd\" fill-opacity=\"1\" stroke=\"#000000\" stroke-opacity=\"1\" stroke-width=\"2.4\"/>\n",
       "<circle clip-path=\"url(#clip713)\" cx=\"2205.17\" cy=\"801.785\" r=\"14\" fill=\"#ff00d6\" fill-rule=\"evenodd\" fill-opacity=\"1\" stroke=\"#000000\" stroke-opacity=\"1\" stroke-width=\"2.4\"/>\n",
       "<circle clip-path=\"url(#clip713)\" cx=\"2182.23\" cy=\"826.044\" r=\"14\" fill=\"#e400ff\" fill-rule=\"evenodd\" fill-opacity=\"1\" stroke=\"#000000\" stroke-opacity=\"1\" stroke-width=\"2.4\"/>\n",
       "<circle clip-path=\"url(#clip713)\" cx=\"2213.99\" cy=\"806.901\" r=\"14\" fill=\"#ff00ca\" fill-rule=\"evenodd\" fill-opacity=\"1\" stroke=\"#000000\" stroke-opacity=\"1\" stroke-width=\"2.4\"/>\n",
       "<circle clip-path=\"url(#clip713)\" cx=\"2175.82\" cy=\"755.79\" r=\"14\" fill=\"#ff00e0\" fill-rule=\"evenodd\" fill-opacity=\"1\" stroke=\"#000000\" stroke-opacity=\"1\" stroke-width=\"2.4\"/>\n",
       "<circle clip-path=\"url(#clip713)\" cx=\"2193.79\" cy=\"838.968\" r=\"14\" fill=\"#ee00ff\" fill-rule=\"evenodd\" fill-opacity=\"1\" stroke=\"#000000\" stroke-opacity=\"1\" stroke-width=\"2.4\"/>\n",
       "<circle clip-path=\"url(#clip713)\" cx=\"2192.09\" cy=\"809.964\" r=\"14\" fill=\"#ff00f7\" fill-rule=\"evenodd\" fill-opacity=\"1\" stroke=\"#000000\" stroke-opacity=\"1\" stroke-width=\"2.4\"/>\n",
       "<circle clip-path=\"url(#clip713)\" cx=\"2327.15\" cy=\"883.987\" r=\"14\" fill=\"#ff00bb\" fill-rule=\"evenodd\" fill-opacity=\"1\" stroke=\"#000000\" stroke-opacity=\"1\" stroke-width=\"2.4\"/>\n",
       "<circle clip-path=\"url(#clip713)\" cx=\"2279.73\" cy=\"895.082\" r=\"14\" fill=\"#ff00af\" fill-rule=\"evenodd\" fill-opacity=\"1\" stroke=\"#000000\" stroke-opacity=\"1\" stroke-width=\"2.4\"/>\n",
       "<circle clip-path=\"url(#clip713)\" cx=\"2275.6\" cy=\"846.272\" r=\"14\" fill=\"#ff0099\" fill-rule=\"evenodd\" fill-opacity=\"1\" stroke=\"#000000\" stroke-opacity=\"1\" stroke-width=\"2.4\"/>\n",
       "<circle clip-path=\"url(#clip713)\" cx=\"2270.66\" cy=\"729.784\" r=\"14\" fill=\"#be00ff\" fill-rule=\"evenodd\" fill-opacity=\"1\" stroke=\"#000000\" stroke-opacity=\"1\" stroke-width=\"2.4\"/>\n",
       "<circle clip-path=\"url(#clip713)\" cx=\"2292.12\" cy=\"767.385\" r=\"14\" fill=\"#b700ff\" fill-rule=\"evenodd\" fill-opacity=\"1\" stroke=\"#000000\" stroke-opacity=\"1\" stroke-width=\"2.4\"/>\n",
       "<circle clip-path=\"url(#clip713)\" cx=\"2318.96\" cy=\"984.361\" r=\"14\" fill=\"#ff00bd\" fill-rule=\"evenodd\" fill-opacity=\"1\" stroke=\"#000000\" stroke-opacity=\"1\" stroke-width=\"2.4\"/>\n",
       "<circle clip-path=\"url(#clip713)\" cx=\"2366.98\" cy=\"996.228\" r=\"14\" fill=\"#ff00a2\" fill-rule=\"evenodd\" fill-opacity=\"1\" stroke=\"#000000\" stroke-opacity=\"1\" stroke-width=\"2.4\"/>\n",
       "<circle clip-path=\"url(#clip713)\" cx=\"2349.07\" cy=\"1049.29\" r=\"14\" fill=\"#ff00c4\" fill-rule=\"evenodd\" fill-opacity=\"1\" stroke=\"#000000\" stroke-opacity=\"1\" stroke-width=\"2.4\"/>\n",
       "<circle clip-path=\"url(#clip713)\" cx=\"2326.21\" cy=\"959.139\" r=\"14\" fill=\"#ff00a5\" fill-rule=\"evenodd\" fill-opacity=\"1\" stroke=\"#000000\" stroke-opacity=\"1\" stroke-width=\"2.4\"/>\n",
       "<circle clip-path=\"url(#clip713)\" cx=\"2347.17\" cy=\"985.241\" r=\"14\" fill=\"#ff00a3\" fill-rule=\"evenodd\" fill-opacity=\"1\" stroke=\"#000000\" stroke-opacity=\"1\" stroke-width=\"2.4\"/>\n",
       "<circle clip-path=\"url(#clip713)\" cx=\"2337.02\" cy=\"1030.21\" r=\"14\" fill=\"#ff00c7\" fill-rule=\"evenodd\" fill-opacity=\"1\" stroke=\"#000000\" stroke-opacity=\"1\" stroke-width=\"2.4\"/>\n",
       "<circle clip-path=\"url(#clip713)\" cx=\"2350.07\" cy=\"982.9\" r=\"14\" fill=\"#ff00a1\" fill-rule=\"evenodd\" fill-opacity=\"1\" stroke=\"#000000\" stroke-opacity=\"1\" stroke-width=\"2.4\"/>\n",
       "<circle clip-path=\"url(#clip713)\" cx=\"2851.33\" cy=\"990.299\" r=\"14\" fill=\"#9800ff\" fill-rule=\"evenodd\" fill-opacity=\"1\" stroke=\"#000000\" stroke-opacity=\"1\" stroke-width=\"2.4\"/>\n",
       "<circle clip-path=\"url(#clip713)\" cx=\"2851.62\" cy=\"973.069\" r=\"14\" fill=\"#a100ff\" fill-rule=\"evenodd\" fill-opacity=\"1\" stroke=\"#000000\" stroke-opacity=\"1\" stroke-width=\"2.4\"/>\n",
       "<circle clip-path=\"url(#clip713)\" cx=\"2838.71\" cy=\"993.116\" r=\"14\" fill=\"#7100ff\" fill-rule=\"evenodd\" fill-opacity=\"1\" stroke=\"#000000\" stroke-opacity=\"1\" stroke-width=\"2.4\"/>\n",
       "<circle clip-path=\"url(#clip713)\" cx=\"2827.87\" cy=\"1007.47\" r=\"14\" fill=\"#4f00ff\" fill-rule=\"evenodd\" fill-opacity=\"1\" stroke=\"#000000\" stroke-opacity=\"1\" stroke-width=\"2.4\"/>\n",
       "<circle clip-path=\"url(#clip713)\" cx=\"2867.73\" cy=\"1016.11\" r=\"14\" fill=\"#c100ff\" fill-rule=\"evenodd\" fill-opacity=\"1\" stroke=\"#000000\" stroke-opacity=\"1\" stroke-width=\"2.4\"/>\n",
       "<circle clip-path=\"url(#clip713)\" cx=\"2875.45\" cy=\"993.142\" r=\"14\" fill=\"#e700ff\" fill-rule=\"evenodd\" fill-opacity=\"1\" stroke=\"#000000\" stroke-opacity=\"1\" stroke-width=\"2.4\"/>\n",
       "<circle clip-path=\"url(#clip713)\" cx=\"2840.45\" cy=\"938.241\" r=\"14\" fill=\"#8e00ff\" fill-rule=\"evenodd\" fill-opacity=\"1\" stroke=\"#000000\" stroke-opacity=\"1\" stroke-width=\"2.4\"/>\n",
       "<circle clip-path=\"url(#clip713)\" cx=\"2851.49\" cy=\"190.716\" r=\"14\" fill=\"#e700ff\" fill-rule=\"evenodd\" fill-opacity=\"1\" stroke=\"#000000\" stroke-opacity=\"1\" stroke-width=\"2.4\"/>\n",
       "<circle clip-path=\"url(#clip713)\" cx=\"2830.44\" cy=\"192.651\" r=\"14\" fill=\"#d500ff\" fill-rule=\"evenodd\" fill-opacity=\"1\" stroke=\"#000000\" stroke-opacity=\"1\" stroke-width=\"2.4\"/>\n",
       "<circle clip-path=\"url(#clip713)\" cx=\"3085.38\" cy=\"176.783\" r=\"14\" fill=\"#c300ff\" fill-rule=\"evenodd\" fill-opacity=\"1\" stroke=\"#000000\" stroke-opacity=\"1\" stroke-width=\"2.4\"/>\n",
       "<circle clip-path=\"url(#clip713)\" cx=\"3106.71\" cy=\"76.43\" r=\"14\" fill=\"#9700ff\" fill-rule=\"evenodd\" fill-opacity=\"1\" stroke=\"#000000\" stroke-opacity=\"1\" stroke-width=\"2.4\"/>\n",
       "<circle clip-path=\"url(#clip713)\" cx=\"3088.97\" cy=\"180.263\" r=\"14\" fill=\"#c300ff\" fill-rule=\"evenodd\" fill-opacity=\"1\" stroke=\"#000000\" stroke-opacity=\"1\" stroke-width=\"2.4\"/>\n",
       "<path clip-path=\"url(#clip710)\" d=\"\n",
       "M3422.76 1078.48 L4272.76 1078.48 L4272.76 47.2441 L3422.76 47.2441  Z\n",
       "  \" fill=\"#ffffff\" fill-rule=\"evenodd\" fill-opacity=\"1\"/>\n",
       "<defs>\n",
       "  <clipPath id=\"clip714\">\n",
       "    <rect x=\"3422\" y=\"47\" width=\"851\" height=\"1032\"/>\n",
       "  </clipPath>\n",
       "</defs>\n",
       "<polyline clip-path=\"url(#clip714)\" style=\"stroke:#000000; stroke-linecap:butt; stroke-linejoin:round; stroke-width:2; stroke-opacity:0.1; fill:none\" points=\"\n",
       "  3422.76,1078.48 3422.76,47.2441 \n",
       "  \"/>\n",
       "<polyline clip-path=\"url(#clip714)\" style=\"stroke:#000000; stroke-linecap:butt; stroke-linejoin:round; stroke-width:2; stroke-opacity:0.1; fill:none\" points=\"\n",
       "  3592.76,1078.48 3592.76,47.2441 \n",
       "  \"/>\n",
       "<polyline clip-path=\"url(#clip714)\" style=\"stroke:#000000; stroke-linecap:butt; stroke-linejoin:round; stroke-width:2; stroke-opacity:0.1; fill:none\" points=\"\n",
       "  3762.76,1078.48 3762.76,47.2441 \n",
       "  \"/>\n",
       "<polyline clip-path=\"url(#clip714)\" style=\"stroke:#000000; stroke-linecap:butt; stroke-linejoin:round; stroke-width:2; stroke-opacity:0.1; fill:none\" points=\"\n",
       "  3932.76,1078.48 3932.76,47.2441 \n",
       "  \"/>\n",
       "<polyline clip-path=\"url(#clip714)\" style=\"stroke:#000000; stroke-linecap:butt; stroke-linejoin:round; stroke-width:2; stroke-opacity:0.1; fill:none\" points=\"\n",
       "  4102.76,1078.48 4102.76,47.2441 \n",
       "  \"/>\n",
       "<polyline clip-path=\"url(#clip714)\" style=\"stroke:#000000; stroke-linecap:butt; stroke-linejoin:round; stroke-width:2; stroke-opacity:0.1; fill:none\" points=\"\n",
       "  4272.76,1078.48 4272.76,47.2441 \n",
       "  \"/>\n",
       "<polyline clip-path=\"url(#clip710)\" style=\"stroke:#000000; stroke-linecap:butt; stroke-linejoin:round; stroke-width:4; stroke-opacity:1; fill:none\" points=\"\n",
       "  3422.76,1078.48 4272.76,1078.48 \n",
       "  \"/>\n",
       "<polyline clip-path=\"url(#clip710)\" style=\"stroke:#000000; stroke-linecap:butt; stroke-linejoin:round; stroke-width:4; stroke-opacity:1; fill:none\" points=\"\n",
       "  3422.76,1078.48 3422.76,1059.58 \n",
       "  \"/>\n",
       "<polyline clip-path=\"url(#clip710)\" style=\"stroke:#000000; stroke-linecap:butt; stroke-linejoin:round; stroke-width:4; stroke-opacity:1; fill:none\" points=\"\n",
       "  3592.76,1078.48 3592.76,1059.58 \n",
       "  \"/>\n",
       "<polyline clip-path=\"url(#clip710)\" style=\"stroke:#000000; stroke-linecap:butt; stroke-linejoin:round; stroke-width:4; stroke-opacity:1; fill:none\" points=\"\n",
       "  3762.76,1078.48 3762.76,1059.58 \n",
       "  \"/>\n",
       "<polyline clip-path=\"url(#clip710)\" style=\"stroke:#000000; stroke-linecap:butt; stroke-linejoin:round; stroke-width:4; stroke-opacity:1; fill:none\" points=\"\n",
       "  3932.76,1078.48 3932.76,1059.58 \n",
       "  \"/>\n",
       "<polyline clip-path=\"url(#clip710)\" style=\"stroke:#000000; stroke-linecap:butt; stroke-linejoin:round; stroke-width:4; stroke-opacity:1; fill:none\" points=\"\n",
       "  4102.76,1078.48 4102.76,1059.58 \n",
       "  \"/>\n",
       "<polyline clip-path=\"url(#clip710)\" style=\"stroke:#000000; stroke-linecap:butt; stroke-linejoin:round; stroke-width:4; stroke-opacity:1; fill:none\" points=\"\n",
       "  4272.76,1078.48 4272.76,1059.58 \n",
       "  \"/>\n",
       "<path clip-path=\"url(#clip710)\" d=\"M3400.15 1126.87 Q3396.53 1126.87 3394.71 1130.44 Q3392.9 1133.98 3392.9 1141.11 Q3392.9 1148.21 3394.71 1151.78 Q3396.53 1155.32 3400.15 1155.32 Q3403.78 1155.32 3405.58 1151.78 Q3407.41 1148.21 3407.41 1141.11 Q3407.41 1133.98 3405.58 1130.44 Q3403.78 1126.87 3400.15 1126.87 M3400.15 1123.17 Q3405.96 1123.17 3409.01 1127.77 Q3412.09 1132.36 3412.09 1141.11 Q3412.09 1149.83 3409.01 1154.44 Q3405.96 1159.02 3400.15 1159.02 Q3394.33 1159.02 3391.26 1154.44 Q3388.2 1149.83 3388.2 1141.11 Q3388.2 1132.36 3391.26 1127.77 Q3394.33 1123.17 3400.15 1123.17 Z\" fill=\"#000000\" fill-rule=\"evenodd\" fill-opacity=\"1\" /><path clip-path=\"url(#clip710)\" d=\"M3420.31 1152.47 L3425.19 1152.47 L3425.19 1158.35 L3420.31 1158.35 L3420.31 1152.47 Z\" fill=\"#000000\" fill-rule=\"evenodd\" fill-opacity=\"1\" /><path clip-path=\"url(#clip710)\" d=\"M3445.38 1126.87 Q3441.77 1126.87 3439.94 1130.44 Q3438.13 1133.98 3438.13 1141.11 Q3438.13 1148.21 3439.94 1151.78 Q3441.77 1155.32 3445.38 1155.32 Q3449.01 1155.32 3450.82 1151.78 Q3452.64 1148.21 3452.64 1141.11 Q3452.64 1133.98 3450.82 1130.44 Q3449.01 1126.87 3445.38 1126.87 M3445.38 1123.17 Q3451.19 1123.17 3454.24 1127.77 Q3457.32 1132.36 3457.32 1141.11 Q3457.32 1149.83 3454.24 1154.44 Q3451.19 1159.02 3445.38 1159.02 Q3439.57 1159.02 3436.49 1154.44 Q3433.43 1149.83 3433.43 1141.11 Q3433.43 1132.36 3436.49 1127.77 Q3439.57 1123.17 3445.38 1123.17 Z\" fill=\"#000000\" fill-rule=\"evenodd\" fill-opacity=\"1\" /><path clip-path=\"url(#clip710)\" d=\"M3570.64 1126.87 Q3567.03 1126.87 3565.2 1130.44 Q3563.4 1133.98 3563.4 1141.11 Q3563.4 1148.21 3565.2 1151.78 Q3567.03 1155.32 3570.64 1155.32 Q3574.28 1155.32 3576.08 1151.78 Q3577.91 1148.21 3577.91 1141.11 Q3577.91 1133.98 3576.08 1130.44 Q3574.28 1126.87 3570.64 1126.87 M3570.64 1123.17 Q3576.45 1123.17 3579.51 1127.77 Q3582.59 1132.36 3582.59 1141.11 Q3582.59 1149.83 3579.51 1154.44 Q3576.45 1159.02 3570.64 1159.02 Q3564.83 1159.02 3561.75 1154.44 Q3558.7 1149.83 3558.7 1141.11 Q3558.7 1132.36 3561.75 1127.77 Q3564.83 1123.17 3570.64 1123.17 Z\" fill=\"#000000\" fill-rule=\"evenodd\" fill-opacity=\"1\" /><path clip-path=\"url(#clip710)\" d=\"M3590.8 1152.47 L3595.69 1152.47 L3595.69 1158.35 L3590.8 1158.35 L3590.8 1152.47 Z\" fill=\"#000000\" fill-rule=\"evenodd\" fill-opacity=\"1\" /><path clip-path=\"url(#clip710)\" d=\"M3605.92 1123.79 L3624.28 1123.79 L3624.28 1127.73 L3610.2 1127.73 L3610.2 1136.2 Q3611.22 1135.85 3612.24 1135.69 Q3613.26 1135.5 3614.28 1135.5 Q3620.06 1135.5 3623.44 1138.68 Q3626.82 1141.85 3626.82 1147.26 Q3626.82 1152.84 3623.35 1155.94 Q3619.88 1159.02 3613.56 1159.02 Q3611.38 1159.02 3609.11 1158.65 Q3606.87 1158.28 3604.46 1157.54 L3604.46 1152.84 Q3606.54 1153.98 3608.77 1154.53 Q3610.99 1155.09 3613.47 1155.09 Q3617.47 1155.09 3619.81 1152.98 Q3622.15 1150.88 3622.15 1147.26 Q3622.15 1143.65 3619.81 1141.55 Q3617.47 1139.44 3613.47 1139.44 Q3611.59 1139.44 3609.72 1139.86 Q3607.86 1140.27 3605.92 1141.15 L3605.92 1123.79 Z\" fill=\"#000000\" fill-rule=\"evenodd\" fill-opacity=\"1\" /><path clip-path=\"url(#clip710)\" d=\"M3729.91 1154.42 L3737.55 1154.42 L3737.55 1128.05 L3729.24 1129.72 L3729.24 1125.46 L3737.5 1123.79 L3742.18 1123.79 L3742.18 1154.42 L3749.82 1154.42 L3749.82 1158.35 L3729.91 1158.35 L3729.91 1154.42 Z\" fill=\"#000000\" fill-rule=\"evenodd\" fill-opacity=\"1\" /><path clip-path=\"url(#clip710)\" d=\"M3759.26 1152.47 L3764.15 1152.47 L3764.15 1158.35 L3759.26 1158.35 L3759.26 1152.47 Z\" fill=\"#000000\" fill-rule=\"evenodd\" fill-opacity=\"1\" /><path clip-path=\"url(#clip710)\" d=\"M3784.33 1126.87 Q3780.72 1126.87 3778.89 1130.44 Q3777.09 1133.98 3777.09 1141.11 Q3777.09 1148.21 3778.89 1151.78 Q3780.72 1155.32 3784.33 1155.32 Q3787.97 1155.32 3789.77 1151.78 Q3791.6 1148.21 3791.6 1141.11 Q3791.6 1133.98 3789.77 1130.44 Q3787.97 1126.87 3784.33 1126.87 M3784.33 1123.17 Q3790.14 1123.17 3793.2 1127.77 Q3796.28 1132.36 3796.28 1141.11 Q3796.28 1149.83 3793.2 1154.44 Q3790.14 1159.02 3784.33 1159.02 Q3778.52 1159.02 3775.44 1154.44 Q3772.39 1149.83 3772.39 1141.11 Q3772.39 1132.36 3775.44 1127.77 Q3778.52 1123.17 3784.33 1123.17 Z\" fill=\"#000000\" fill-rule=\"evenodd\" fill-opacity=\"1\" /><path clip-path=\"url(#clip710)\" d=\"M3900.41 1154.42 L3908.05 1154.42 L3908.05 1128.05 L3899.74 1129.72 L3899.74 1125.46 L3908 1123.79 L3912.68 1123.79 L3912.68 1154.42 L3920.32 1154.42 L3920.32 1158.35 L3900.41 1158.35 L3900.41 1154.42 Z\" fill=\"#000000\" fill-rule=\"evenodd\" fill-opacity=\"1\" /><path clip-path=\"url(#clip710)\" d=\"M3929.76 1152.47 L3934.64 1152.47 L3934.64 1158.35 L3929.76 1158.35 L3929.76 1152.47 Z\" fill=\"#000000\" fill-rule=\"evenodd\" fill-opacity=\"1\" /><path clip-path=\"url(#clip710)\" d=\"M3944.88 1123.79 L3963.23 1123.79 L3963.23 1127.73 L3949.16 1127.73 L3949.16 1136.2 Q3950.18 1135.85 3951.2 1135.69 Q3952.21 1135.5 3953.23 1135.5 Q3959.02 1135.5 3962.4 1138.68 Q3965.78 1141.85 3965.78 1147.26 Q3965.78 1152.84 3962.31 1155.94 Q3958.83 1159.02 3952.51 1159.02 Q3950.34 1159.02 3948.07 1158.65 Q3945.82 1158.28 3943.42 1157.54 L3943.42 1152.84 Q3945.5 1153.98 3947.72 1154.53 Q3949.95 1155.09 3952.42 1155.09 Q3956.43 1155.09 3958.76 1152.98 Q3961.1 1150.88 3961.1 1147.26 Q3961.1 1143.65 3958.76 1141.55 Q3956.43 1139.44 3952.42 1139.44 Q3950.55 1139.44 3948.67 1139.86 Q3946.82 1140.27 3944.88 1141.15 L3944.88 1123.79 Z\" fill=\"#000000\" fill-rule=\"evenodd\" fill-opacity=\"1\" /><path clip-path=\"url(#clip710)\" d=\"M4074 1154.42 L4090.31 1154.42 L4090.31 1158.35 L4068.37 1158.35 L4068.37 1154.42 Q4071.03 1151.66 4075.62 1147.03 Q4080.22 1142.38 4081.4 1141.04 Q4083.65 1138.51 4084.53 1136.78 Q4085.43 1135.02 4085.43 1133.33 Q4085.43 1130.57 4083.49 1128.84 Q4081.56 1127.1 4078.46 1127.1 Q4076.26 1127.1 4073.81 1127.87 Q4071.38 1128.63 4068.6 1130.18 L4068.6 1125.46 Q4071.43 1124.32 4073.88 1123.75 Q4076.33 1123.17 4078.37 1123.17 Q4083.74 1123.17 4086.94 1125.85 Q4090.13 1128.54 4090.13 1133.03 Q4090.13 1135.16 4089.32 1137.08 Q4088.53 1138.98 4086.43 1141.57 Q4085.85 1142.24 4082.75 1145.46 Q4079.64 1148.65 4074 1154.42 Z\" fill=\"#000000\" fill-rule=\"evenodd\" fill-opacity=\"1\" /><path clip-path=\"url(#clip710)\" d=\"M4100.13 1152.47 L4105.01 1152.47 L4105.01 1158.35 L4100.13 1158.35 L4100.13 1152.47 Z\" fill=\"#000000\" fill-rule=\"evenodd\" fill-opacity=\"1\" /><path clip-path=\"url(#clip710)\" d=\"M4125.2 1126.87 Q4121.59 1126.87 4119.76 1130.44 Q4117.95 1133.98 4117.95 1141.11 Q4117.95 1148.21 4119.76 1151.78 Q4121.59 1155.32 4125.2 1155.32 Q4128.83 1155.32 4130.64 1151.78 Q4132.47 1148.21 4132.47 1141.11 Q4132.47 1133.98 4130.64 1130.44 Q4128.83 1126.87 4125.2 1126.87 M4125.2 1123.17 Q4131.01 1123.17 4134.06 1127.77 Q4137.14 1132.36 4137.14 1141.11 Q4137.14 1149.83 4134.06 1154.44 Q4131.01 1159.02 4125.2 1159.02 Q4119.39 1159.02 4116.31 1154.44 Q4113.25 1149.83 4113.25 1141.11 Q4113.25 1132.36 4116.31 1127.77 Q4119.39 1123.17 4125.2 1123.17 Z\" fill=\"#000000\" fill-rule=\"evenodd\" fill-opacity=\"1\" /><path clip-path=\"url(#clip710)\" d=\"M4244.49 1154.42 L4260.81 1154.42 L4260.81 1158.35 L4238.87 1158.35 L4238.87 1154.42 Q4241.53 1151.66 4246.11 1147.03 Q4250.72 1142.38 4251.9 1141.04 Q4254.14 1138.51 4255.02 1136.78 Q4255.93 1135.02 4255.93 1133.33 Q4255.93 1130.57 4253.98 1128.84 Q4252.06 1127.1 4248.96 1127.1 Q4246.76 1127.1 4244.31 1127.87 Q4241.88 1128.63 4239.1 1130.18 L4239.1 1125.46 Q4241.92 1124.32 4244.38 1123.75 Q4246.83 1123.17 4248.87 1123.17 Q4254.24 1123.17 4257.43 1125.85 Q4260.63 1128.54 4260.63 1133.03 Q4260.63 1135.16 4259.82 1137.08 Q4259.03 1138.98 4256.92 1141.57 Q4256.34 1142.24 4253.24 1145.46 Q4250.14 1148.65 4244.49 1154.42 Z\" fill=\"#000000\" fill-rule=\"evenodd\" fill-opacity=\"1\" /><path clip-path=\"url(#clip710)\" d=\"M4270.63 1152.47 L4275.51 1152.47 L4275.51 1158.35 L4270.63 1158.35 L4270.63 1152.47 Z\" fill=\"#000000\" fill-rule=\"evenodd\" fill-opacity=\"1\" /><path clip-path=\"url(#clip710)\" d=\"M4285.74 1123.79 L4304.1 1123.79 L4304.1 1127.73 L4290.02 1127.73 L4290.02 1136.2 Q4291.04 1135.85 4292.06 1135.69 Q4293.08 1135.5 4294.1 1135.5 Q4299.89 1135.5 4303.27 1138.68 Q4306.64 1141.85 4306.64 1147.26 Q4306.64 1152.84 4303.17 1155.94 Q4299.7 1159.02 4293.38 1159.02 Q4291.2 1159.02 4288.94 1158.65 Q4286.69 1158.28 4284.28 1157.54 L4284.28 1152.84 Q4286.37 1153.98 4288.59 1154.53 Q4290.81 1155.09 4293.29 1155.09 Q4297.29 1155.09 4299.63 1152.98 Q4301.97 1150.88 4301.97 1147.26 Q4301.97 1143.65 4299.63 1141.55 Q4297.29 1139.44 4293.29 1139.44 Q4291.41 1139.44 4289.54 1139.86 Q4287.69 1140.27 4285.74 1141.15 L4285.74 1123.79 Z\" fill=\"#000000\" fill-rule=\"evenodd\" fill-opacity=\"1\" /><polyline clip-path=\"url(#clip714)\" style=\"stroke:#000000; stroke-linecap:butt; stroke-linejoin:round; stroke-width:2; stroke-opacity:0.1; fill:none\" points=\"\n",
       "  3422.76,1078.48 4272.76,1078.48 \n",
       "  \"/>\n",
       "<polyline clip-path=\"url(#clip714)\" style=\"stroke:#000000; stroke-linecap:butt; stroke-linejoin:round; stroke-width:2; stroke-opacity:0.1; fill:none\" points=\"\n",
       "  3422.76,872.233 4272.76,872.233 \n",
       "  \"/>\n",
       "<polyline clip-path=\"url(#clip714)\" style=\"stroke:#000000; stroke-linecap:butt; stroke-linejoin:round; stroke-width:2; stroke-opacity:0.1; fill:none\" points=\"\n",
       "  3422.76,665.986 4272.76,665.986 \n",
       "  \"/>\n",
       "<polyline clip-path=\"url(#clip714)\" style=\"stroke:#000000; stroke-linecap:butt; stroke-linejoin:round; stroke-width:2; stroke-opacity:0.1; fill:none\" points=\"\n",
       "  3422.76,459.738 4272.76,459.738 \n",
       "  \"/>\n",
       "<polyline clip-path=\"url(#clip714)\" style=\"stroke:#000000; stroke-linecap:butt; stroke-linejoin:round; stroke-width:2; stroke-opacity:0.1; fill:none\" points=\"\n",
       "  3422.76,253.491 4272.76,253.491 \n",
       "  \"/>\n",
       "<polyline clip-path=\"url(#clip714)\" style=\"stroke:#000000; stroke-linecap:butt; stroke-linejoin:round; stroke-width:2; stroke-opacity:0.1; fill:none\" points=\"\n",
       "  3422.76,47.2441 4272.76,47.2441 \n",
       "  \"/>\n",
       "<polyline clip-path=\"url(#clip710)\" style=\"stroke:#000000; stroke-linecap:butt; stroke-linejoin:round; stroke-width:4; stroke-opacity:1; fill:none\" points=\"\n",
       "  3422.76,1078.48 3422.76,47.2441 \n",
       "  \"/>\n",
       "<polyline clip-path=\"url(#clip710)\" style=\"stroke:#000000; stroke-linecap:butt; stroke-linejoin:round; stroke-width:4; stroke-opacity:1; fill:none\" points=\"\n",
       "  3422.76,1078.48 3434.84,1078.48 \n",
       "  \"/>\n",
       "<polyline clip-path=\"url(#clip710)\" style=\"stroke:#000000; stroke-linecap:butt; stroke-linejoin:round; stroke-width:4; stroke-opacity:1; fill:none\" points=\"\n",
       "  3422.76,872.233 3434.84,872.233 \n",
       "  \"/>\n",
       "<polyline clip-path=\"url(#clip710)\" style=\"stroke:#000000; stroke-linecap:butt; stroke-linejoin:round; stroke-width:4; stroke-opacity:1; fill:none\" points=\"\n",
       "  3422.76,665.986 3434.84,665.986 \n",
       "  \"/>\n",
       "<polyline clip-path=\"url(#clip710)\" style=\"stroke:#000000; stroke-linecap:butt; stroke-linejoin:round; stroke-width:4; stroke-opacity:1; fill:none\" points=\"\n",
       "  3422.76,459.738 3434.84,459.738 \n",
       "  \"/>\n",
       "<polyline clip-path=\"url(#clip710)\" style=\"stroke:#000000; stroke-linecap:butt; stroke-linejoin:round; stroke-width:4; stroke-opacity:1; fill:none\" points=\"\n",
       "  3422.76,253.491 3434.84,253.491 \n",
       "  \"/>\n",
       "<polyline clip-path=\"url(#clip710)\" style=\"stroke:#000000; stroke-linecap:butt; stroke-linejoin:round; stroke-width:4; stroke-opacity:1; fill:none\" points=\"\n",
       "  3422.76,47.2441 3434.84,47.2441 \n",
       "  \"/>\n",
       "<path clip-path=\"url(#clip710)\" d=\"M3293.59 1064.28 Q3289.97 1064.28 3288.15 1067.84 Q3286.34 1071.38 3286.34 1078.51 Q3286.34 1085.62 3288.15 1089.19 Q3289.97 1092.73 3293.59 1092.73 Q3297.22 1092.73 3299.02 1089.19 Q3300.85 1085.62 3300.85 1078.51 Q3300.85 1071.38 3299.02 1067.84 Q3297.22 1064.28 3293.59 1064.28 M3293.59 1060.57 Q3299.4 1060.57 3302.45 1065.18 Q3305.53 1069.76 3305.53 1078.51 Q3305.53 1087.24 3302.45 1091.85 Q3299.4 1096.43 3293.59 1096.43 Q3287.77 1096.43 3284.7 1091.85 Q3281.64 1087.24 3281.64 1078.51 Q3281.64 1069.76 3284.7 1065.18 Q3287.77 1060.57 3293.59 1060.57 Z\" fill=\"#000000\" fill-rule=\"evenodd\" fill-opacity=\"1\" /><path clip-path=\"url(#clip710)\" d=\"M3313.75 1089.88 L3318.63 1089.88 L3318.63 1095.76 L3313.75 1095.76 L3313.75 1089.88 Z\" fill=\"#000000\" fill-rule=\"evenodd\" fill-opacity=\"1\" /><path clip-path=\"url(#clip710)\" d=\"M3338.82 1064.28 Q3335.21 1064.28 3333.38 1067.84 Q3331.57 1071.38 3331.57 1078.51 Q3331.57 1085.62 3333.38 1089.19 Q3335.21 1092.73 3338.82 1092.73 Q3342.45 1092.73 3344.26 1089.19 Q3346.08 1085.62 3346.08 1078.51 Q3346.08 1071.38 3344.26 1067.84 Q3342.45 1064.28 3338.82 1064.28 M3338.82 1060.57 Q3344.63 1060.57 3347.68 1065.18 Q3350.76 1069.76 3350.76 1078.51 Q3350.76 1087.24 3347.68 1091.85 Q3344.63 1096.43 3338.82 1096.43 Q3333.01 1096.43 3329.93 1091.85 Q3326.87 1087.24 3326.87 1078.51 Q3326.87 1069.76 3329.93 1065.18 Q3333.01 1060.57 3338.82 1060.57 Z\" fill=\"#000000\" fill-rule=\"evenodd\" fill-opacity=\"1\" /><path clip-path=\"url(#clip710)\" d=\"M3295.18 858.031 Q3291.57 858.031 3289.74 861.596 Q3287.94 865.138 3287.94 872.267 Q3287.94 879.374 3289.74 882.939 Q3291.57 886.48 3295.18 886.48 Q3298.82 886.48 3300.62 882.939 Q3302.45 879.374 3302.45 872.267 Q3302.45 865.138 3300.62 861.596 Q3298.82 858.031 3295.18 858.031 M3295.18 854.328 Q3300.99 854.328 3304.05 858.934 Q3307.13 863.517 3307.13 872.267 Q3307.13 880.994 3304.05 885.601 Q3300.99 890.184 3295.18 890.184 Q3289.37 890.184 3286.29 885.601 Q3283.24 880.994 3283.24 872.267 Q3283.24 863.517 3286.29 858.934 Q3289.37 854.328 3295.18 854.328 Z\" fill=\"#000000\" fill-rule=\"evenodd\" fill-opacity=\"1\" /><path clip-path=\"url(#clip710)\" d=\"M3315.34 883.633 L3320.23 883.633 L3320.23 889.513 L3315.34 889.513 L3315.34 883.633 Z\" fill=\"#000000\" fill-rule=\"evenodd\" fill-opacity=\"1\" /><path clip-path=\"url(#clip710)\" d=\"M3334.44 885.578 L3350.76 885.578 L3350.76 889.513 L3328.82 889.513 L3328.82 885.578 Q3331.48 882.823 3336.06 878.193 Q3340.67 873.541 3341.85 872.198 Q3344.09 869.675 3344.97 867.939 Q3345.88 866.179 3345.88 864.49 Q3345.88 861.735 3343.93 859.999 Q3342.01 858.263 3338.91 858.263 Q3336.71 858.263 3334.26 859.027 Q3331.83 859.791 3329.05 861.342 L3329.05 856.619 Q3331.87 855.485 3334.33 854.906 Q3336.78 854.328 3338.82 854.328 Q3344.19 854.328 3347.38 857.013 Q3350.58 859.698 3350.58 864.189 Q3350.58 866.318 3349.77 868.24 Q3348.98 870.138 3346.87 872.73 Q3346.29 873.402 3343.19 876.619 Q3340.09 879.814 3334.44 885.578 Z\" fill=\"#000000\" fill-rule=\"evenodd\" fill-opacity=\"1\" /><path clip-path=\"url(#clip710)\" d=\"M3293.1 651.784 Q3289.49 651.784 3287.66 655.349 Q3285.85 658.891 3285.85 666.02 Q3285.85 673.127 3287.66 676.692 Q3289.49 680.233 3293.1 680.233 Q3296.73 680.233 3298.54 676.692 Q3300.37 673.127 3300.37 666.02 Q3300.37 658.891 3298.54 655.349 Q3296.73 651.784 3293.1 651.784 M3293.1 648.081 Q3298.91 648.081 3301.96 652.687 Q3305.04 657.27 3305.04 666.02 Q3305.04 674.747 3301.96 679.354 Q3298.91 683.937 3293.1 683.937 Q3287.29 683.937 3284.21 679.354 Q3281.15 674.747 3281.15 666.02 Q3281.15 657.27 3284.21 652.687 Q3287.29 648.081 3293.1 648.081 Z\" fill=\"#000000\" fill-rule=\"evenodd\" fill-opacity=\"1\" /><path clip-path=\"url(#clip710)\" d=\"M3313.26 677.386 L3318.15 677.386 L3318.15 683.266 L3313.26 683.266 L3313.26 677.386 Z\" fill=\"#000000\" fill-rule=\"evenodd\" fill-opacity=\"1\" /><path clip-path=\"url(#clip710)\" d=\"M3341.18 652.78 L3329.37 671.229 L3341.18 671.229 L3341.18 652.78 M3339.95 648.706 L3345.83 648.706 L3345.83 671.229 L3350.76 671.229 L3350.76 675.117 L3345.83 675.117 L3345.83 683.266 L3341.18 683.266 L3341.18 675.117 L3325.58 675.117 L3325.58 670.604 L3339.95 648.706 Z\" fill=\"#000000\" fill-rule=\"evenodd\" fill-opacity=\"1\" /><path clip-path=\"url(#clip710)\" d=\"M3293.42 445.537 Q3289.81 445.537 3287.98 449.102 Q3286.18 452.644 3286.18 459.773 Q3286.18 466.88 3287.98 470.444 Q3289.81 473.986 3293.42 473.986 Q3297.06 473.986 3298.86 470.444 Q3300.69 466.88 3300.69 459.773 Q3300.69 452.644 3298.86 449.102 Q3297.06 445.537 3293.42 445.537 M3293.42 441.833 Q3299.23 441.833 3302.29 446.44 Q3305.37 451.023 3305.37 459.773 Q3305.37 468.5 3302.29 473.106 Q3299.23 477.69 3293.42 477.69 Q3287.61 477.69 3284.53 473.106 Q3281.48 468.5 3281.48 459.773 Q3281.48 451.023 3284.53 446.44 Q3287.61 441.833 3293.42 441.833 Z\" fill=\"#000000\" fill-rule=\"evenodd\" fill-opacity=\"1\" /><path clip-path=\"url(#clip710)\" d=\"M3313.59 471.139 L3318.47 471.139 L3318.47 477.018 L3313.59 477.018 L3313.59 471.139 Z\" fill=\"#000000\" fill-rule=\"evenodd\" fill-opacity=\"1\" /><path clip-path=\"url(#clip710)\" d=\"M3339.23 457.875 Q3336.08 457.875 3334.23 460.028 Q3332.4 462.181 3332.4 465.93 Q3332.4 469.657 3334.23 471.833 Q3336.08 473.986 3339.23 473.986 Q3342.38 473.986 3344.21 471.833 Q3346.06 469.657 3346.06 465.93 Q3346.06 462.181 3344.21 460.028 Q3342.38 457.875 3339.23 457.875 M3348.52 443.222 L3348.52 447.482 Q3346.76 446.648 3344.95 446.208 Q3343.17 445.769 3341.41 445.769 Q3336.78 445.769 3334.33 448.894 Q3331.9 452.019 3331.55 458.338 Q3332.91 456.324 3334.97 455.259 Q3337.03 454.171 3339.51 454.171 Q3344.72 454.171 3347.73 457.343 Q3350.76 460.491 3350.76 465.93 Q3350.76 471.255 3347.61 474.472 Q3344.46 477.69 3339.23 477.69 Q3333.24 477.69 3330.07 473.106 Q3326.9 468.5 3326.9 459.773 Q3326.9 451.579 3330.78 446.718 Q3334.67 441.833 3341.22 441.833 Q3342.98 441.833 3344.77 442.181 Q3346.57 442.528 3348.52 443.222 Z\" fill=\"#000000\" fill-rule=\"evenodd\" fill-opacity=\"1\" /><path clip-path=\"url(#clip710)\" d=\"M3293.68 239.29 Q3290.07 239.29 3288.24 242.855 Q3286.43 246.396 3286.43 253.526 Q3286.43 260.632 3288.24 264.197 Q3290.07 267.739 3293.68 267.739 Q3297.31 267.739 3299.12 264.197 Q3300.95 260.632 3300.95 253.526 Q3300.95 246.396 3299.12 242.855 Q3297.31 239.29 3293.68 239.29 M3293.68 235.586 Q3299.49 235.586 3302.54 240.193 Q3305.62 244.776 3305.62 253.526 Q3305.62 262.253 3302.54 266.859 Q3299.49 271.443 3293.68 271.443 Q3287.87 271.443 3284.79 266.859 Q3281.73 262.253 3281.73 253.526 Q3281.73 244.776 3284.79 240.193 Q3287.87 235.586 3293.68 235.586 Z\" fill=\"#000000\" fill-rule=\"evenodd\" fill-opacity=\"1\" /><path clip-path=\"url(#clip710)\" d=\"M3313.84 264.892 L3318.72 264.892 L3318.72 270.771 L3313.84 270.771 L3313.84 264.892 Z\" fill=\"#000000\" fill-rule=\"evenodd\" fill-opacity=\"1\" /><path clip-path=\"url(#clip710)\" d=\"M3338.91 254.359 Q3335.58 254.359 3333.65 256.142 Q3331.76 257.924 3331.76 261.049 Q3331.76 264.174 3333.65 265.956 Q3335.58 267.739 3338.91 267.739 Q3342.24 267.739 3344.16 265.956 Q3346.08 264.151 3346.08 261.049 Q3346.08 257.924 3344.16 256.142 Q3342.27 254.359 3338.91 254.359 M3334.23 252.369 Q3331.22 251.628 3329.53 249.568 Q3327.87 247.507 3327.87 244.545 Q3327.87 240.401 3330.81 237.994 Q3333.77 235.586 3338.91 235.586 Q3344.07 235.586 3347.01 237.994 Q3349.95 240.401 3349.95 244.545 Q3349.95 247.507 3348.26 249.568 Q3346.59 251.628 3343.61 252.369 Q3346.99 253.156 3348.86 255.447 Q3350.76 257.739 3350.76 261.049 Q3350.76 266.072 3347.68 268.757 Q3344.63 271.443 3338.91 271.443 Q3333.19 271.443 3330.11 268.757 Q3327.06 266.072 3327.06 261.049 Q3327.06 257.739 3328.96 255.447 Q3330.85 253.156 3334.23 252.369 M3332.52 244.984 Q3332.52 247.67 3334.19 249.174 Q3335.88 250.679 3338.91 250.679 Q3341.92 250.679 3343.61 249.174 Q3345.32 247.67 3345.32 244.984 Q3345.32 242.299 3343.61 240.795 Q3341.92 239.29 3338.91 239.29 Q3335.88 239.29 3334.19 240.795 Q3332.52 242.299 3332.52 244.984 Z\" fill=\"#000000\" fill-rule=\"evenodd\" fill-opacity=\"1\" /><path clip-path=\"url(#clip710)\" d=\"M3284.4 60.5889 L3292.03 60.5889 L3292.03 34.2233 L3283.72 35.89 L3283.72 31.6308 L3291.99 29.9641 L3296.66 29.9641 L3296.66 60.5889 L3304.3 60.5889 L3304.3 64.5241 L3284.4 64.5241 L3284.4 60.5889 Z\" fill=\"#000000\" fill-rule=\"evenodd\" fill-opacity=\"1\" /><path clip-path=\"url(#clip710)\" d=\"M3313.75 58.6445 L3318.63 58.6445 L3318.63 64.5241 L3313.75 64.5241 L3313.75 58.6445 Z\" fill=\"#000000\" fill-rule=\"evenodd\" fill-opacity=\"1\" /><path clip-path=\"url(#clip710)\" d=\"M3338.82 33.0428 Q3335.21 33.0428 3333.38 36.6076 Q3331.57 40.1492 3331.57 47.2788 Q3331.57 54.3853 3333.38 57.9501 Q3335.21 61.4917 3338.82 61.4917 Q3342.45 61.4917 3344.26 57.9501 Q3346.08 54.3853 3346.08 47.2788 Q3346.08 40.1492 3344.26 36.6076 Q3342.45 33.0428 3338.82 33.0428 M3338.82 29.3391 Q3344.63 29.3391 3347.68 33.9456 Q3350.76 38.5289 3350.76 47.2788 Q3350.76 56.0056 3347.68 60.6121 Q3344.63 65.1954 3338.82 65.1954 Q3333.01 65.1954 3329.93 60.6121 Q3326.87 56.0056 3326.87 47.2788 Q3326.87 38.5289 3329.93 33.9456 Q3333.01 29.3391 3338.82 29.3391 Z\" fill=\"#000000\" fill-rule=\"evenodd\" fill-opacity=\"1\" /><polyline clip-path=\"url(#clip714)\" style=\"stroke:#0f00f0; stroke-linecap:butt; stroke-linejoin:round; stroke-width:4; stroke-opacity:1; fill:none\" points=\"\n",
       "  3602.62,1078.48 3600.59,1068.17 3598.64,1057.86 3596.77,1047.54 3594.96,1037.23 3593.21,1026.92 3592.76,1024.25 3590.26,1016.61 3587.05,1006.29 3584.05,995.981 \n",
       "  3581.23,985.669 3578.58,975.356 3576.07,965.044 3573.7,954.732 3571.45,944.419 3569.31,934.107 3567.26,923.794 3565.3,913.482 3563.42,903.17 3561.62,892.857 \n",
       "  3559.87,882.545 3558.76,875.859 3557.56,872.233 3554.25,861.92 3551.16,851.608 3548.26,841.296 3545.54,830.983 3542.98,820.671 3540.55,810.359 3538.26,800.046 \n",
       "  3536.09,789.734 3534.01,779.421 3532.04,769.109 3530.15,758.797 3528.33,748.484 3526.59,738.172 3524.91,727.86 3524.76,726.97 3521.63,717.547 3518.42,707.235 \n",
       "  3515.42,696.923 3512.61,686.61 3509.97,676.298 3507.48,665.986 3505.13,655.673 3502.91,645.361 3500.8,635.048 3498.79,624.736 3496.88,614.424 3495.05,604.111 \n",
       "  3493.31,593.799 3491.63,583.487 3490.76,578.044 3489.12,573.174 3485.76,562.862 3482.62,552.55 3479.7,542.237 3476.95,531.925 3474.38,521.613 3471.96,511.3 \n",
       "  3469.67,500.988 3467.52,490.675 3465.47,480.363 3463.53,470.051 3461.69,459.738 3459.94,449.426 3458.27,439.114 3456.76,429.371 3456.56,428.801 3453.02,418.489 \n",
       "  3449.72,408.177 3446.65,397.864 3443.78,387.552 3441.1,377.24 3438.59,366.927 3436.23,356.615 3434.01,346.302 3431.92,335.99 3429.95,325.678 3428.09,315.365 \n",
       "  3426.34,305.053 3424.69,294.741 3423.13,284.428 3422.76,281.96 \n",
       "  \"/>\n",
       "<polyline clip-path=\"url(#clip714)\" style=\"stroke:#1f00e0; stroke-linecap:butt; stroke-linejoin:round; stroke-width:4; stroke-opacity:1; fill:none\" points=\"\n",
       "  3422.76,194.512 3423.97,201.929 3425.71,212.242 3427.55,222.554 3429.52,232.867 3431.61,243.179 3433.83,253.491 3436.19,263.804 3438.7,274.116 3441.36,284.428 \n",
       "  3444.19,294.741 3447.18,305.053 3450.37,315.365 3453.75,325.678 3456.76,334.412 3457.03,335.99 3458.78,346.302 3460.62,356.615 3462.55,366.927 3464.59,377.24 \n",
       "  3466.72,387.552 3468.97,397.864 3471.33,408.177 3473.82,418.489 3476.44,428.801 3479.19,439.114 3482.1,449.426 3485.16,459.738 3488.41,470.051 3490.76,477.244 \n",
       "  3491.31,480.363 3493.13,490.675 3495.03,500.988 3497.01,511.3 3499.07,521.613 3501.22,531.925 3503.46,542.237 3505.8,552.55 3508.24,562.862 3510.8,573.174 \n",
       "  3513.48,583.487 3516.3,593.799 3519.27,604.111 3522.4,614.424 3524.76,621.91 3525.27,624.736 3527.15,635.048 3529.08,645.361 3531.08,655.673 3533.16,665.986 \n",
       "  3535.3,676.298 3537.53,686.61 3539.84,696.923 3542.25,707.235 3544.77,717.547 3547.39,727.86 3550.15,738.172 3553.04,748.484 3556.08,758.797 3558.76,767.481 \n",
       "  3559.06,769.109 3560.98,779.421 3562.94,789.734 3564.96,800.046 3567.04,810.359 3569.19,820.671 3571.41,830.983 3573.71,841.296 3576.09,851.608 3578.58,861.92 \n",
       "  3581.17,872.233 3583.88,882.545 3586.72,892.857 3589.7,903.17 3592.76,913.227 3592.81,913.482 3594.75,923.794 3596.74,934.107 3598.78,944.419 3600.88,954.732 \n",
       "  3603.03,965.044 3605.25,975.356 3607.55,985.669 3609.93,995.981 3612.4,1006.29 3614.98,1016.61 3617.66,1026.92 3620.47,1037.23 3623.41,1047.54 3626.51,1057.86 \n",
       "  3626.76,1058.68 3628.58,1068.17 3630.6,1078.48 \n",
       "  \"/>\n",
       "<polyline clip-path=\"url(#clip714)\" style=\"stroke:#2f00d0; stroke-linecap:butt; stroke-linejoin:round; stroke-width:4; stroke-opacity:1; fill:none\" points=\"\n",
       "  3648.8,1078.48 3646.25,1068.17 3643.77,1057.86 3641.36,1047.54 3639,1037.23 3636.7,1026.92 3634.44,1016.61 3632.22,1006.29 3630.05,995.981 3627.9,985.669 \n",
       "  3626.76,980.151 3625.37,975.356 3622.44,965.044 3619.62,954.732 3616.9,944.419 3614.27,934.107 3611.73,923.794 3609.26,913.482 3606.86,903.17 3604.52,892.857 \n",
       "  3602.23,882.545 3600,872.233 3597.82,861.92 3595.68,851.608 3593.59,841.296 3592.76,837.224 3590.92,830.983 3587.96,820.671 3585.12,810.359 3582.38,800.046 \n",
       "  3579.73,789.734 3577.18,779.421 3574.7,769.109 3572.31,758.797 3569.98,748.484 3567.71,738.172 3565.51,727.86 3563.36,717.547 3561.27,707.235 3559.22,696.923 \n",
       "  3558.76,694.585 3556.35,686.61 3553.33,676.298 3550.44,665.986 3547.66,655.673 3544.98,645.361 3542.41,635.048 3539.92,624.736 3537.52,614.424 3535.2,604.111 \n",
       "  3532.95,593.799 3530.78,583.487 3528.68,573.174 3526.64,562.862 3524.76,553.03 3524.61,552.55 3521.37,542.237 3518.27,531.925 3515.31,521.613 3512.48,511.3 \n",
       "  3509.76,500.988 3507.16,490.675 3504.67,480.363 3502.27,470.051 3499.98,459.738 3497.77,449.426 3495.66,439.114 3493.63,428.801 3491.68,418.489 3490.76,413.602 \n",
       "  3488.96,408.177 3485.61,397.864 3482.43,387.552 3479.41,377.24 3476.53,366.927 3473.8,356.615 3471.2,346.302 3468.74,335.99 3466.4,325.678 3464.17,315.365 \n",
       "  3462.06,305.053 3460.05,294.741 3458.12,284.428 3456.76,276.978 3455.74,274.116 3452.11,263.804 3448.69,253.491 3445.48,243.179 3442.45,232.867 3439.61,222.554 \n",
       "  3436.94,212.242 3434.44,201.929 3432.09,191.617 3429.88,181.305 3427.81,170.992 3425.83,160.68 3423.95,150.368 3422.76,143.79 \n",
       "  \"/>\n",
       "<polyline clip-path=\"url(#clip714)\" style=\"stroke:#3f00c0; stroke-linecap:butt; stroke-linejoin:round; stroke-width:4; stroke-opacity:1; fill:none\" points=\"\n",
       "  3422.76,108.547 3422.88,109.118 3424.98,119.431 3427.09,129.743 3429.24,140.055 3431.48,150.368 3433.83,160.68 3436.34,170.992 3439.01,181.305 3441.86,191.617 \n",
       "  3444.91,201.929 3448.18,212.242 3451.66,222.554 3455.38,232.867 3456.76,236.623 3458.09,243.179 3460.18,253.491 3462.32,263.804 3464.54,274.116 3466.86,284.428 \n",
       "  3469.3,294.741 3471.86,305.053 3474.57,315.365 3477.43,325.678 3480.45,335.99 3483.63,346.302 3486.98,356.615 3490.51,366.927 3490.76,367.657 3492.69,377.24 \n",
       "  3494.81,387.552 3496.99,397.864 3499.25,408.177 3501.6,418.489 3504.06,428.801 3506.62,439.114 3509.29,449.426 3512.08,459.738 3514.99,470.051 3518.02,480.363 \n",
       "  3521.19,490.675 3524.5,500.988 3524.76,501.808 3526.69,511.3 3528.84,521.613 3531.05,531.925 3533.32,542.237 3535.68,552.55 3538.11,562.862 3540.62,573.174 \n",
       "  3543.22,583.487 3545.91,593.799 3548.69,604.111 3551.58,614.424 3554.57,624.736 3557.67,635.048 3558.76,638.646 3560.16,645.361 3562.33,655.673 3564.55,665.986 \n",
       "  3566.83,676.298 3569.17,686.61 3571.56,696.923 3574.02,707.235 3576.55,717.547 3579.15,727.86 3581.82,738.172 3584.57,748.484 3587.41,758.797 3590.35,769.109 \n",
       "  3592.76,777.368 3593.2,779.421 3595.4,789.734 3597.64,800.046 3599.91,810.359 3602.24,820.671 3604.61,830.983 3607.02,841.296 3609.49,851.608 3612.02,861.92 \n",
       "  3614.61,872.233 3617.27,882.545 3620,892.857 3622.81,903.17 3625.7,913.482 3626.76,917.19 3628.2,923.794 3630.46,934.107 3632.75,944.419 3635.07,954.732 \n",
       "  3637.43,965.044 3639.82,975.356 3642.26,985.669 3644.74,995.981 3647.28,1006.29 3649.87,1016.61 3652.53,1026.92 3655.25,1037.23 3658.05,1047.54 3660.76,1057.24 \n",
       "  3660.9,1057.86 3663.19,1068.17 3665.51,1078.48 \n",
       "  \"/>\n",
       "<polyline clip-path=\"url(#clip714)\" style=\"stroke:#4f00b0; stroke-linecap:butt; stroke-linejoin:round; stroke-width:4; stroke-opacity:1; fill:none\" points=\"\n",
       "  3679.34,1078.48 3676.8,1068.17 3674.29,1057.86 3671.8,1047.54 3669.34,1037.23 3666.89,1026.92 3664.47,1016.61 3662.06,1006.29 3660.76,1000.74 3659.44,995.981 \n",
       "  3656.62,985.669 3653.86,975.356 3651.16,965.044 3648.5,954.732 3645.9,944.419 3643.34,934.107 3640.81,923.794 3638.32,913.482 3635.87,903.17 3633.45,892.857 \n",
       "  3631.05,882.545 3628.68,872.233 3626.76,863.815 3626.22,861.92 3623.3,851.608 3620.46,841.296 3617.68,830.983 3614.97,820.671 3612.31,810.359 3609.71,800.046 \n",
       "  3607.16,789.734 3604.66,779.421 3602.21,769.109 3599.8,758.797 3597.42,748.484 3595.09,738.172 3592.78,727.86 3592.76,727.777 3589.74,717.547 3586.78,707.235 \n",
       "  3583.9,696.923 3581.1,686.61 3578.38,676.298 3575.73,665.986 3573.14,655.673 3570.63,645.361 3568.17,635.048 3565.77,624.736 3563.42,614.424 3561.12,604.111 \n",
       "  3558.84,593.799 3558.76,593.464 3555.66,583.487 3552.56,573.174 3549.57,562.862 3546.68,552.55 3543.89,542.237 3541.19,531.925 3538.59,521.613 3536.07,511.3 \n",
       "  3533.63,500.988 3531.26,490.675 3528.94,480.363 3526.65,470.051 3524.76,461.512 3524.18,459.738 3520.8,449.426 3517.57,439.114 3514.48,428.801 3511.53,418.489 \n",
       "  3508.71,408.177 3506.01,397.864 3503.42,387.552 3500.94,377.24 3498.54,366.927 3496.21,356.615 3493.91,346.302 3491.62,335.99 3490.76,332.232 3488.46,325.678 \n",
       "  3484.97,315.365 3481.67,305.053 3478.55,294.741 3475.6,284.428 3472.82,274.116 3470.18,263.804 3467.67,253.491 3465.26,243.179 3462.92,232.867 3460.62,222.554 \n",
       "  3458.3,212.242 3456.76,205.619 3455.38,201.929 3451.63,191.617 3448.13,181.305 3444.87,170.992 3441.84,160.68 3439.01,150.368 3436.35,140.055 3433.85,129.743 \n",
       "  3431.45,119.431 3429.13,109.118 3426.81,98.8059 3424.45,88.4935 3422.76,81.5219 \n",
       "  \"/>\n",
       "<polyline clip-path=\"url(#clip714)\" style=\"stroke:#5f00a0; stroke-linecap:butt; stroke-linejoin:round; stroke-width:4; stroke-opacity:1; fill:none\" points=\"\n",
       "  3422.76,58.9573 3425.26,67.8688 3427.92,78.1812 3430.43,88.4935 3432.89,98.8059 3435.37,109.118 3437.93,119.431 3440.61,129.743 3443.47,140.055 3446.53,150.368 \n",
       "  3449.84,160.68 3453.4,170.992 3456.76,180.072 3457.11,181.305 3459.81,191.617 3462.36,201.929 3464.84,212.242 3467.31,222.554 3469.82,232.867 3472.43,243.179 \n",
       "  3475.15,253.491 3478.03,263.804 3481.09,274.116 3484.34,284.428 3487.8,294.741 3490.76,303.157 3491.27,305.053 3493.86,315.365 3496.36,325.678 3498.83,335.99 \n",
       "  3501.31,346.302 3503.84,356.615 3506.46,366.927 3509.19,377.24 3512.04,387.552 3515.03,397.864 3518.16,408.177 3521.46,418.489 3524.76,428.367 3524.87,428.801 \n",
       "  3527.41,439.114 3529.88,449.426 3532.35,459.738 3534.83,470.051 3537.37,480.363 3539.97,490.675 3542.66,500.988 3545.45,511.3 3548.34,521.613 3551.34,531.925 \n",
       "  3554.45,542.237 3557.68,552.55 3558.76,555.956 3560.45,562.862 3562.91,573.174 3565.38,583.487 3567.86,593.799 3570.38,604.111 3572.96,614.424 3575.6,624.736 \n",
       "  3578.31,635.048 3581.09,645.361 3583.95,655.673 3586.9,665.986 3589.92,676.298 3592.76,685.724 3592.98,686.61 3595.45,696.923 3597.92,707.235 3600.4,717.547 \n",
       "  3602.91,727.86 3605.46,738.172 3608.05,748.484 3610.69,758.797 3613.38,769.109 3616.12,779.421 3618.92,789.734 3621.79,800.046 3624.71,810.359 3626.76,817.488 \n",
       "  3627.54,820.671 3630.02,830.983 3632.52,841.296 3635.03,851.608 3637.56,861.92 3640.11,872.233 3642.7,882.545 3645.33,892.857 3647.98,903.17 3650.68,913.482 \n",
       "  3653.42,923.794 3656.21,934.107 3659.05,944.419 3660.76,950.59 3661.78,954.732 3664.3,965.044 3666.83,975.356 3669.37,985.669 3671.92,995.981 3674.48,1006.29 \n",
       "  3677.07,1016.61 3679.68,1026.92 3682.31,1037.23 3684.98,1047.54 3687.67,1057.86 3690.41,1068.17 3693.18,1078.48 \n",
       "  \"/>\n",
       "<polyline clip-path=\"url(#clip714)\" style=\"stroke:#6f0090; stroke-linecap:butt; stroke-linejoin:round; stroke-width:4; stroke-opacity:1; fill:none\" points=\"\n",
       "  3706.02,1078.48 3703.36,1068.17 3700.68,1057.86 3697.99,1047.54 3695.27,1037.23 3694.76,1035.31 3692.47,1026.92 3689.67,1016.61 3686.91,1006.29 3684.17,995.981 \n",
       "  3681.46,985.669 3678.77,975.356 3676.1,965.044 3673.45,954.732 3670.81,944.419 3668.17,934.107 3665.52,923.794 3662.85,913.482 3660.76,905.526 3660.1,903.17 \n",
       "  3657.2,892.857 3654.35,882.545 3651.54,872.233 3648.78,861.92 3646.05,851.608 3643.36,841.296 3640.7,830.983 3638.06,820.671 3635.44,810.359 3632.82,800.046 \n",
       "  3630.18,789.734 3627.49,779.421 3626.76,776.673 3624.55,769.109 3621.58,758.797 3618.67,748.484 3615.83,738.172 3613.05,727.86 3610.32,717.547 3607.64,707.235 \n",
       "  3605,696.923 3602.39,686.61 3599.78,676.298 3597.16,665.986 3594.48,655.673 3592.76,649.303 3591.56,645.361 3588.45,635.048 3585.43,624.736 3582.5,614.424 \n",
       "  3579.65,604.111 3576.89,593.799 3574.19,583.487 3571.55,573.174 3568.95,562.862 3566.35,552.55 3563.72,542.237 3561.02,531.925 3558.76,523.704 3558.09,521.613 \n",
       "  3554.83,511.3 3551.7,500.988 3548.69,490.675 3545.8,480.363 3543.01,470.051 3540.32,459.738 3537.69,449.426 3535.1,439.114 3532.51,428.801 3529.86,418.489 \n",
       "  3527.1,408.177 3524.76,400.003 3524.05,397.864 3520.65,387.552 3517.43,377.24 3514.38,366.927 3511.48,356.615 3508.7,346.302 3506.03,335.99 3503.43,325.678 \n",
       "  3500.86,315.365 3498.26,305.053 3495.56,294.741 3492.68,284.428 3490.76,278.124 3489.36,274.116 3485.89,263.804 3482.64,253.491 3479.59,243.179 3476.72,232.867 \n",
       "  3474,222.554 3471.38,212.242 3468.82,201.929 3466.25,191.617 3463.61,181.305 3460.8,170.992 3457.69,160.68 3456.76,157.865 3454.06,150.368 3450.59,140.055 \n",
       "  3447.38,129.743 3444.4,119.431 3441.61,109.118 3438.97,98.8059 3436.42,88.4935 3433.88,78.1812 3431.29,67.8688 3428.53,57.5565 3425.49,47.2441 \n",
       "  \"/>\n",
       "<polyline clip-path=\"url(#clip714)\" style=\"stroke:#7f0080; stroke-linecap:butt; stroke-linejoin:round; stroke-width:4; stroke-opacity:1; fill:none\" points=\"\n",
       "  3431.94,47.2441 3434.71,57.5565 3437.31,67.8688 3439.84,78.1812 3442.4,88.4935 3445.05,98.8059 3447.86,109.118 3450.87,119.431 3454.14,129.743 3456.76,137.433 \n",
       "  3457.81,140.055 3461.48,150.368 3464.63,160.68 3467.46,170.992 3470.11,181.305 3472.69,191.617 3475.27,201.929 3477.91,212.242 3480.68,222.554 3483.62,232.867 \n",
       "  3486.76,243.179 3490.12,253.491 3490.76,255.376 3493.79,263.804 3497.02,274.116 3499.92,284.428 3502.63,294.741 3505.25,305.053 3507.85,315.365 3510.5,325.678 \n",
       "  3513.24,335.99 3516.1,346.302 3519.11,356.615 3522.3,366.927 3524.76,374.51 3525.73,377.24 3529.07,387.552 3532.06,397.864 3534.84,408.177 3537.51,418.489 \n",
       "  3540.14,428.801 3542.79,439.114 3545.49,449.426 3548.29,459.738 3551.19,470.051 3554.23,480.363 3557.41,490.675 3558.76,494.967 3560.74,500.988 3563.84,511.3 \n",
       "  3566.7,521.613 3569.44,531.925 3572.1,542.237 3574.76,552.55 3577.45,562.862 3580.19,573.174 3583,583.487 3585.91,593.799 3588.92,604.111 3592.03,614.424 \n",
       "  3592.76,616.811 3595.22,624.736 3598.19,635.048 3601,645.361 3603.72,655.673 3606.41,665.986 3609.09,676.298 3611.8,686.61 3614.55,696.923 3617.36,707.235 \n",
       "  3620.23,717.547 3623.18,727.86 3626.2,738.172 3626.76,740.065 3629.28,748.484 3632.2,758.797 3634.99,769.109 3637.72,779.421 3640.42,789.734 3643.12,800.046 \n",
       "  3645.84,810.359 3648.58,820.671 3651.37,830.983 3654.2,841.296 3657.08,851.608 3660,861.92 3660.76,864.586 3663.01,872.233 3665.91,882.545 3668.72,892.857 \n",
       "  3671.46,903.17 3674.19,913.482 3676.9,923.794 3679.63,934.107 3682.36,944.419 3685.12,954.732 3687.9,965.044 3690.72,975.356 3693.56,985.669 3694.76,990.023 \n",
       "  3696.51,995.981 3699.43,1006.29 3702.26,1016.61 3705.05,1026.92 3707.8,1037.23 3710.53,1047.54 3713.26,1057.86 3716,1068.17 3718.74,1078.48 \n",
       "  \"/>\n",
       "<polyline clip-path=\"url(#clip714)\" style=\"stroke:#8f0070; stroke-linecap:butt; stroke-linejoin:round; stroke-width:4; stroke-opacity:1; fill:none\" points=\"\n",
       "  3732.14,1078.48 3728.76,1068.61 3728.64,1068.17 3725.85,1057.86 3723.08,1047.54 3720.32,1037.23 3717.58,1026.92 3714.85,1016.61 3712.11,1006.29 3709.35,995.981 \n",
       "  3706.54,985.669 3703.64,975.356 3700.6,965.044 3697.31,954.732 3694.76,947.459 3693.92,944.419 3691.08,934.107 3688.29,923.794 3685.52,913.482 3682.79,903.17 \n",
       "  3680.07,892.857 3677.36,882.545 3674.62,872.233 3671.83,861.92 3668.92,851.608 3665.82,841.296 3662.4,830.983 3660.76,826.507 3659.11,820.671 3656.24,810.359 \n",
       "  3653.42,800.046 3650.66,789.734 3647.94,779.421 3645.25,769.109 3642.57,758.797 3639.85,748.484 3637.05,738.172 3634.09,727.86 3630.87,717.547 3627.18,707.235 \n",
       "  3626.76,706.155 3624.1,696.923 3621.2,686.61 3618.39,676.298 3615.66,665.986 3612.97,655.673 3610.32,645.361 3607.66,635.048 3604.94,624.736 3602.1,614.424 \n",
       "  3599.02,604.111 3595.55,593.799 3592.76,586.65 3591.82,583.487 3588.83,573.174 3585.95,562.862 3583.17,552.55 3580.48,542.237 3577.85,531.925 3575.23,521.613 \n",
       "  3572.59,511.3 3569.83,500.988 3566.88,490.675 3563.56,480.363 3559.62,470.051 3558.76,468.059 3556.26,459.738 3553.3,449.426 3550.48,439.114 3547.78,428.801 \n",
       "  3545.16,418.489 3542.58,408.177 3539.99,397.864 3537.31,387.552 3534.45,377.24 3531.25,366.927 3527.47,356.615 3524.76,350.402 3523.49,346.302 3520.44,335.99 \n",
       "  3517.57,325.678 3514.85,315.365 3512.24,305.053 3509.7,294.741 3507.16,284.428 3504.55,274.116 3501.76,263.804 3498.65,253.491 3494.99,243.179 3490.76,233.623 \n",
       "  3490.52,232.867 3487.37,222.554 3484.45,212.242 3481.72,201.929 3479.12,191.617 3476.61,181.305 3474.12,170.992 3471.56,160.68 3468.84,150.368 3465.79,140.055 \n",
       "  3462.2,129.743 3457.68,119.431 3456.76,117.634 3454.1,109.118 3451.13,98.8059 3448.38,88.4935 3445.81,78.1812 3443.33,67.8688 3440.88,57.5565 3438.38,47.2441 \n",
       "  \n",
       "  \"/>\n",
       "<polyline clip-path=\"url(#clip714)\" style=\"stroke:#9f0060; stroke-linecap:butt; stroke-linejoin:round; stroke-width:4; stroke-opacity:1; fill:none\" points=\"\n",
       "  3444.82,47.2441 3447.06,57.5565 3449.35,67.8688 3451.77,78.1812 3454.37,88.4935 3456.76,97.1942 3457.94,98.8059 3463.83,109.118 3467.9,119.431 3471.08,129.743 \n",
       "  3473.77,140.055 3476.19,150.368 3478.5,160.68 3480.78,170.992 3483.11,181.305 3485.56,191.617 3488.17,201.929 3490.76,211.415 3491.36,212.242 3497.31,222.554 \n",
       "  3501.38,232.867 3504.56,243.179 3507.27,253.491 3509.73,263.804 3512.08,274.116 3514.4,284.428 3516.77,294.741 3519.24,305.053 3521.85,315.365 3524.64,325.678 \n",
       "  3524.76,326.089 3530.57,335.99 3534.7,346.302 3537.91,356.615 3540.66,366.927 3543.16,377.24 3545.55,387.552 3547.92,397.864 3550.32,408.177 3552.8,418.489 \n",
       "  3555.41,428.801 3558.17,439.114 3558.76,441.205 3563.58,449.426 3567.84,459.738 3571.13,470.051 3573.93,480.363 3576.48,490.675 3578.92,500.988 3581.33,511.3 \n",
       "  3583.76,521.613 3586.26,531.925 3588.86,542.237 3591.59,552.55 3592.76,556.803 3596.35,562.862 3600.81,573.174 3604.21,583.487 3607.1,593.799 3609.71,604.111 \n",
       "  3612.21,614.424 3614.65,624.736 3617.12,635.048 3619.63,645.361 3622.22,655.673 3624.91,665.986 3626.76,672.839 3628.86,676.298 3633.63,686.61 3637.2,696.923 \n",
       "  3640.18,707.235 3642.88,717.547 3645.43,727.86 3647.92,738.172 3650.41,748.484 3652.93,758.797 3655.51,769.109 3658.17,779.421 3660.76,789.198 3661.1,789.734 \n",
       "  3666.34,800.046 3670.12,810.359 3673.24,820.671 3676.02,830.983 3678.64,841.296 3681.18,851.608 3683.7,861.92 3686.23,872.233 3688.81,882.545 3691.43,892.857 \n",
       "  3694.11,903.17 3694.76,905.595 3699,913.482 3703.08,923.794 3706.36,934.107 3709.24,944.419 3711.93,954.732 3714.52,965.044 3717.07,975.356 3719.62,985.669 \n",
       "  3722.19,995.981 3724.79,1006.29 3727.43,1016.61 3728.76,1021.69 3731.77,1026.92 3736.23,1037.23 3739.7,1047.54 3742.7,1057.86 3745.46,1068.17 3748.09,1078.48 \n",
       "  \n",
       "  \"/>\n",
       "<polyline clip-path=\"url(#clip714)\" style=\"stroke:#9f0060; stroke-linecap:butt; stroke-linejoin:round; stroke-width:4; stroke-opacity:1; fill:none\" points=\"\n",
       "  3779.85,1078.48 3776.28,1068.17 3773.78,1057.86 3771.87,1047.54 3770.31,1037.23 3768.97,1026.92 3767.75,1016.61 3766.55,1006.29 3765.3,995.981 3763.87,985.669 \n",
       "  3762.76,979.033 3757.65,975.356 3749.03,965.044 3744.46,954.732 3741.45,944.419 3739.24,934.107 3737.49,923.794 3736.02,913.482 3734.71,903.17 3733.45,892.857 \n",
       "  3732.14,882.545 3730.68,872.233 3728.94,861.92 3728.76,861.037 3718.29,851.608 3712.59,841.296 3709.07,830.983 3706.57,820.671 3704.64,810.359 3703.04,800.046 \n",
       "  3701.63,789.734 3700.3,779.421 3698.94,769.109 3697.44,758.797 3695.68,748.484 3694.76,744.048 3687.78,738.172 3680.76,727.86 3676.7,717.547 3673.92,707.235 \n",
       "  3671.8,696.923 3670.07,686.61 3668.57,676.298 3667.15,665.986 3665.73,655.673 3664.18,645.361 3662.4,635.048 3660.76,627.147 3657.7,624.736 3649.1,614.424 \n",
       "  3644.44,604.111 3641.34,593.799 3639.03,583.487 3637.17,573.174 3635.55,562.862 3634.05,552.55 3632.55,542.237 3630.96,531.925 3629.15,521.613 3627.01,511.3 \n",
       "  3626.76,510.311 3617.74,500.988 3612.37,490.675 3608.92,480.363 3606.39,470.051 3604.37,459.738 3602.64,449.426 3601.04,439.114 3599.46,428.801 3597.8,418.489 \n",
       "  3595.96,408.177 3593.82,397.864 3592.76,393.522 3586.86,387.552 3580.62,377.24 3576.75,366.927 3573.97,356.615 3571.76,346.302 3569.89,335.99 3568.17,325.678 \n",
       "  3566.51,315.365 3564.78,305.053 3562.9,294.741 3560.76,284.428 3558.76,276.13 3556.73,274.116 3549.35,263.804 3544.95,253.491 3541.85,243.179 3539.42,232.867 \n",
       "  3537.38,222.554 3535.53,212.242 3533.76,201.929 3531.96,191.617 3530.03,181.305 3527.89,170.992 3525.45,160.68 3524.76,158.096 3518.77,150.368 3513.67,140.055 \n",
       "  3510.16,129.743 3507.47,119.431 3505.22,109.118 3503.22,98.8059 3501.32,88.4935 3499.43,78.1812 3497.45,67.8688 3495.31,57.5565 3492.92,47.2441 \n",
       "  \"/>\n",
       "<polyline clip-path=\"url(#clip714)\" style=\"stroke:#3f00c0; stroke-linecap:butt; stroke-linejoin:round; stroke-width:4; stroke-opacity:1; fill:none\" points=\"\n",
       "  3524.62,47.2441 3524.76,47.9466 3528.79,57.5565 3532.74,67.8688 3536.29,78.1812 3539.46,88.4935 3542.28,98.8059 3544.81,109.118 3547.08,119.431 3549.16,129.743 \n",
       "  3551.11,140.055 3552.99,150.368 3554.9,160.68 3556.92,170.992 3558.76,179.423 3559.65,181.305 3564.41,191.617 3568.52,201.929 3572.07,212.242 3575.13,222.554 \n",
       "  3577.79,232.867 3580.13,243.179 3582.23,253.491 3584.19,263.804 3586.11,274.116 3588.08,284.428 3590.23,294.741 3592.71,305.053 3592.76,305.248 3597.95,315.365 \n",
       "  3602.38,325.678 3606.07,335.99 3609.15,346.302 3611.76,356.615 3614.03,366.927 3616.06,377.24 3617.99,387.552 3619.92,397.864 3621.98,408.177 3624.33,418.489 \n",
       "  3626.76,427.442 3627.53,428.801 3633.02,439.114 3637.42,449.426 3640.98,459.738 3643.89,470.051 3646.32,480.363 3648.43,490.675 3650.36,500.988 3652.25,511.3 \n",
       "  3654.23,521.613 3656.47,531.925 3659.15,542.237 3660.76,547.339 3663.85,552.55 3669.08,562.862 3673.15,573.174 3676.37,583.487 3678.97,593.799 3681.15,604.111 \n",
       "  3683.09,614.424 3684.94,624.736 3686.85,635.048 3689,645.361 3691.57,655.673 3694.76,665.876 3694.83,665.986 3700.95,676.298 3705.57,686.61 3709.1,696.923 \n",
       "  3711.87,707.235 3714.13,717.547 3716.07,727.86 3717.89,738.172 3719.75,748.484 3721.81,758.797 3724.29,769.109 3727.4,779.421 3728.76,783.077 3732.99,789.734 \n",
       "  3738.17,800.046 3742.02,810.359 3744.95,820.671 3747.27,830.983 3749.23,841.296 3751.02,851.608 3752.83,861.92 3754.83,872.233 3757.22,882.545 3760.25,892.857 \n",
       "  3762.76,899.612 3765.16,903.17 3770.89,913.482 3775.05,923.794 3778.14,934.107 3780.53,944.419 3782.5,954.732 3784.27,965.044 3786.04,975.356 3787.98,985.669 \n",
       "  3790.32,995.981 3793.27,1006.29 3796.76,1015.69 3797.41,1016.61 3803.69,1026.92 3808.13,1037.23 3811.38,1047.54 3813.84,1057.86 3815.83,1068.17 3817.59,1078.48 \n",
       "  \n",
       "  \"/>\n",
       "<polyline clip-path=\"url(#clip714)\" style=\"stroke:#0f00f0; stroke-linecap:butt; stroke-linejoin:round; stroke-width:4; stroke-opacity:1; fill:none\" points=\"\n",
       "  3829.87,1078.48 3828.7,1068.17 3827.71,1057.86 3826.76,1047.54 3825.74,1037.23 3824.48,1026.92 3822.82,1016.61 3820.5,1006.29 3817.15,995.981 3812.22,985.669 \n",
       "  3804.84,975.356 3796.76,967.182 3796.43,965.044 3795.22,954.732 3794.19,944.419 3793.22,934.107 3792.2,923.794 3790.99,913.482 3789.45,903.17 3787.37,892.857 \n",
       "  3784.46,882.545 3780.32,872.233 3774.38,861.92 3765.82,851.608 3762.76,848.356 3761.87,841.296 3760.8,830.983 3759.81,820.671 3758.79,810.359 3757.63,800.046 \n",
       "  3756.21,789.734 3754.36,779.421 3751.88,769.109 3748.48,758.797 3743.8,748.484 3737.35,738.172 3728.76,728.1 3728.73,727.86 3727.6,717.547 3726.57,707.235 \n",
       "  3725.56,696.923 3724.45,686.61 3723.15,676.298 3721.53,665.986 3719.45,655.673 3716.72,645.361 3713.11,635.048 3708.35,624.736 3702.1,614.424 3694.76,604.911 \n",
       "  3694.66,604.111 3693.61,593.799 3692.59,583.487 3691.54,573.174 3690.35,562.862 3688.96,552.55 3687.24,542.237 3685.09,531.925 3682.37,521.613 3678.93,511.3 \n",
       "  3674.59,500.988 3669.2,490.675 3662.54,480.363 3660.76,477.687 3659.99,470.051 3658.99,459.738 3657.93,449.426 3656.74,439.114 3655.35,428.801 3653.69,418.489 \n",
       "  3651.68,408.177 3649.25,397.864 3646.31,387.552 3642.79,377.24 3638.61,366.927 3633.72,356.615 3628.07,346.302 3626.76,343.924 3626.01,335.99 3625.02,325.678 \n",
       "  3623.92,315.365 3622.68,305.053 3621.25,294.741 3619.59,284.428 3617.65,274.116 3615.42,263.804 3612.86,253.491 3609.95,243.179 3606.69,232.867 3603.07,222.554 \n",
       "  3599.12,212.242 3594.84,201.929 3592.76,196.943 3592.28,191.617 3591.31,181.305 3590.24,170.992 3589.05,160.68 3587.71,150.368 3586.23,140.055 3584.59,129.743 \n",
       "  3582.79,119.431 3580.84,109.118 3578.74,98.8059 3576.52,88.4935 3574.18,78.1812 3571.74,67.8688 3569.23,57.5565 3566.66,47.2441 \n",
       "  \"/>\n",
       "<polyline clip-path=\"url(#clip714)\" style=\"stroke:#1f00e0; stroke-linecap:butt; stroke-linejoin:round; stroke-width:4; stroke-opacity:1; fill:none\" points=\"\n",
       "  3548.79,47.2441 3550.67,57.5565 3552.38,67.8688 3553.95,78.1812 3555.38,88.4935 3556.71,98.8059 3557.97,109.118 3558.76,115.574 3560.37,119.431 3564.65,129.743 \n",
       "  3568.58,140.055 3572.15,150.368 3575.37,160.68 3578.23,170.992 3580.76,181.305 3582.99,191.617 3584.95,201.929 3586.69,212.242 3588.25,222.554 3589.68,232.867 \n",
       "  3591.05,243.179 3592.41,253.491 3592.76,255.953 3596.87,263.804 3601.76,274.116 3605.99,284.428 3609.6,294.741 3612.67,305.053 3615.27,315.365 3617.47,325.678 \n",
       "  3619.36,335.99 3621.02,346.302 3622.52,356.615 3623.95,366.927 3625.37,377.24 3626.76,386.588 3627.34,387.552 3633.49,397.864 3638.55,408.177 3642.7,418.489 \n",
       "  3646.08,428.801 3648.83,439.114 3651.09,449.426 3652.99,459.738 3654.63,470.051 3656.11,480.363 3657.54,490.675 3659.02,500.988 3660.66,511.3 3660.76,511.82 \n",
       "  3667.35,521.613 3672.88,531.925 3677.2,542.237 3680.59,552.55 3683.26,562.862 3685.41,573.174 3687.18,583.487 3688.73,593.799 3690.16,604.111 3691.6,614.424 \n",
       "  3693.17,624.736 3694.76,633.659 3695.8,635.048 3703.06,645.361 3708.52,655.673 3712.63,665.986 3715.75,676.298 3718.16,686.61 3720.07,696.923 3721.67,707.235 \n",
       "  3723.11,717.547 3724.51,727.86 3726.01,738.172 3727.77,748.484 3728.76,753.235 3733.19,758.797 3739.97,769.109 3744.88,779.421 3748.47,789.734 3751.14,800.046 \n",
       "  3753.2,810.359 3754.85,820.671 3756.29,830.983 3757.66,841.296 3759.11,851.608 3760.79,861.92 3762.76,871.661 3763.25,872.233 3771.51,882.545 3777.27,892.857 \n",
       "  3781.35,903.17 3784.29,913.482 3786.48,923.794 3788.19,934.107 3789.64,944.419 3790.98,954.732 3792.38,965.044 3794,975.356 3796.02,985.669 3796.76,988.636 \n",
       "  3803.13,995.981 3809.78,1006.29 3814.35,1016.61 3817.55,1026.92 3819.87,1037.23 3821.64,1047.54 3823.09,1057.86 3824.41,1068.17 3825.77,1078.48 \n",
       "  \"/>\n",
       "<polyline clip-path=\"url(#clip714)\" style=\"stroke:#2f00d0; stroke-linecap:butt; stroke-linejoin:round; stroke-width:4; stroke-opacity:1; fill:none\" points=\"\n",
       "  3821.68,1078.48 3820.12,1068.17 3818.46,1057.86 3816.51,1047.54 3814,1037.23 3810.62,1026.92 3805.88,1016.61 3799.07,1006.29 3796.76,1003.37 3794.48,995.981 \n",
       "  3792,985.669 3790.02,975.356 3788.33,965.044 3786.74,954.732 3785.08,944.419 3783.17,934.107 3780.76,923.794 3777.59,913.482 3773.25,903.17 3767.18,892.857 \n",
       "  3762.76,886.931 3761.4,882.545 3758.85,872.233 3756.81,861.92 3755.07,851.608 3753.45,841.296 3751.78,830.983 3749.9,820.671 3747.61,810.359 3744.66,800.046 \n",
       "  3740.73,789.734 3735.39,779.421 3728.76,769.911 3728.51,769.109 3725.87,758.797 3723.76,748.484 3721.95,738.172 3720.29,727.86 3718.62,717.547 3716.77,707.235 \n",
       "  3714.59,696.923 3711.86,686.61 3708.35,676.298 3703.73,665.986 3697.59,655.673 3694.76,651.57 3693.14,645.361 3690.93,635.048 3689.05,624.736 3687.34,614.424 \n",
       "  3685.65,604.111 3683.85,593.799 3681.78,583.487 3679.28,573.174 3676.17,562.862 3672.22,552.55 3667.16,542.237 3660.76,532.052 3660.73,531.925 3658.41,521.613 \n",
       "  3656.45,511.3 3654.69,500.988 3652.98,490.675 3651.21,480.363 3649.26,470.051 3646.98,459.738 3644.26,449.426 3640.92,439.114 3636.81,428.801 3631.71,418.489 \n",
       "  3626.76,410.077 3626.32,408.177 3624.27,397.864 3622.44,387.552 3620.72,377.24 3618.99,366.927 3617.14,356.615 3615.09,346.302 3612.72,335.99 3609.93,325.678 \n",
       "  3606.61,315.365 3602.66,305.053 3597.95,294.741 3592.76,285.02 3592.64,284.428 3590.75,274.116 3589.01,263.804 3587.32,253.491 3585.59,243.179 3583.74,232.867 \n",
       "  3581.69,222.554 3579.38,212.242 3576.74,201.929 3573.7,191.617 3570.21,181.305 3566.22,170.992 3561.69,160.68 3558.76,154.428 3558.06,150.368 3556.41,140.055 \n",
       "  3554.79,129.743 3553.14,119.431 3551.39,109.118 3549.5,98.8059 3547.42,88.4935 3545.12,78.1812 3542.56,67.8688 3539.73,57.5565 3536.61,47.2441 \n",
       "  \"/>\n",
       "<polyline clip-path=\"url(#clip714)\" style=\"stroke:#4f00b0; stroke-linecap:butt; stroke-linejoin:round; stroke-width:4; stroke-opacity:1; fill:none\" points=\"\n",
       "  3519.34,47.2441 3521.46,57.5565 3523.77,67.8688 3524.76,71.7906 3527.46,78.1812 3531.5,88.4935 3535.07,98.8059 3538.23,109.118 3541.02,119.431 3543.53,129.743 \n",
       "  3545.8,140.055 3547.93,150.368 3549.99,160.68 3552.09,170.992 3554.31,181.305 3556.81,191.617 3558.76,198.578 3560.31,201.929 3564.77,212.242 3568.58,222.554 \n",
       "  3571.84,232.867 3574.66,243.179 3577.14,253.491 3579.37,263.804 3581.47,274.116 3583.53,284.428 3585.68,294.741 3588.05,305.053 3590.82,315.365 3592.76,321.476 \n",
       "  3594.83,325.678 3599.42,335.99 3603.21,346.302 3606.38,356.615 3609.07,366.927 3611.41,377.24 3613.53,387.552 3615.57,397.864 3617.65,408.177 3619.91,418.489 \n",
       "  3622.53,428.801 3625.73,439.114 3626.76,441.916 3630.59,449.426 3634.98,459.738 3638.52,470.051 3641.42,480.363 3643.87,490.675 3646.03,500.988 3648.04,511.3 \n",
       "  3650.05,521.613 3652.22,531.925 3654.72,542.237 3657.77,552.55 3660.76,560.644 3661.98,562.862 3667.02,573.174 3670.96,583.487 3674.09,593.799 3676.65,604.111 \n",
       "  3678.83,614.424 3680.82,624.736 3682.78,635.048 3684.86,645.361 3687.26,655.673 3690.19,665.986 3693.93,676.298 3694.76,678.209 3699.28,686.61 3703.62,696.923 \n",
       "  3706.97,707.235 3709.64,717.547 3711.86,727.86 3713.83,738.172 3715.73,748.484 3717.75,758.797 3720.06,769.109 3722.89,779.421 3726.5,789.734 3728.76,794.905 \n",
       "  3731.68,800.046 3736.43,810.359 3740,820.671 3742.77,830.983 3745.02,841.296 3746.98,851.608 3748.85,861.92 3750.8,872.233 3753.04,882.545 3755.78,892.857 \n",
       "  3759.3,903.17 3762.76,911.08 3764.19,913.482 3769.33,923.794 3773.11,934.107 3775.98,944.419 3778.26,954.732 3780.22,965.044 3782.06,975.356 3783.97,985.669 \n",
       "  3786.15,995.981 3788.82,1006.29 3792.24,1016.61 3796.76,1026.92 3796.76,1026.92 3802.27,1037.23 3806.25,1047.54 3809.22,1057.86 3811.54,1068.17 3813.5,1078.48 \n",
       "  \n",
       "  \"/>\n",
       "<polyline clip-path=\"url(#clip714)\" style=\"stroke:#5f00a0; stroke-linecap:butt; stroke-linejoin:round; stroke-width:4; stroke-opacity:1; fill:none\" points=\"\n",
       "  3809.41,1078.48 3807.25,1068.17 3804.59,1057.86 3801.12,1047.54 3796.76,1037.92 3796.36,1037.23 3791.2,1026.92 3787.34,1016.61 3784.36,1006.29 3781.98,995.981 \n",
       "  3779.95,985.669 3778.07,975.356 3776.17,965.044 3774.03,954.732 3771.43,944.419 3768.08,934.107 3763.61,923.794 3762.76,922.151 3758.37,913.482 3754.38,903.17 \n",
       "  3751.32,892.857 3748.86,882.545 3746.78,872.233 3744.87,861.92 3742.94,851.608 3740.81,841.296 3738.26,830.983 3735.05,820.671 3730.84,810.359 3728.76,806.196 \n",
       "  3725.65,800.046 3721.53,789.734 3718.37,779.421 3715.84,769.109 3713.69,758.797 3711.72,748.484 3709.77,738.172 3707.64,727.86 3705.15,717.547 3702.07,707.235 \n",
       "  3698.13,696.923 3694.76,689.855 3693.13,686.61 3688.86,676.298 3685.58,665.986 3682.96,655.673 3680.73,645.361 3678.7,635.048 3676.71,624.736 3674.58,614.424 \n",
       "  3672.14,604.111 3669.21,593.799 3665.55,583.487 3660.89,573.174 3660.76,572.911 3656.44,562.862 3653.03,552.55 3650.29,542.237 3647.97,531.925 3645.87,521.613 \n",
       "  3643.83,511.3 3641.7,500.988 3639.32,490.675 3636.53,480.363 3633.15,470.051 3628.97,459.738 3626.76,455.041 3624.37,449.426 3620.79,439.114 3617.92,428.801 \n",
       "  3615.49,418.489 3613.31,408.177 3611.22,397.864 3609.08,387.552 3606.75,377.24 3604.11,366.927 3601,356.615 3597.28,346.302 3592.77,335.99 3592.76,335.973 \n",
       "  3588.99,325.678 3585.95,315.365 3583.4,305.053 3581.12,294.741 3578.98,284.428 3576.83,274.116 3574.56,263.804 3572.05,253.491 3569.2,243.179 3565.9,232.867 \n",
       "  3562.02,222.554 3558.76,214.959 3557.77,212.242 3554.54,201.929 3551.84,191.617 3549.46,181.305 3547.25,170.992 3545.09,160.68 3542.87,150.368 3540.5,140.055 \n",
       "  3537.89,129.743 3534.97,119.431 3531.64,109.118 3527.85,98.8059 3524.76,91.2201 3523.89,88.4935 3521.01,78.1812 3518.51,67.8688 3516.23,57.5565 3514.05,47.2441 \n",
       "  \n",
       "  \"/>\n",
       "<polyline clip-path=\"url(#clip714)\" style=\"stroke:#6f0090; stroke-linecap:butt; stroke-linejoin:round; stroke-width:4; stroke-opacity:1; fill:none\" points=\"\n",
       "  3508.77,47.2441 3511,57.5565 3513.24,67.8688 3515.62,78.1812 3518.25,88.4935 3521.31,98.8059 3524.76,108.352 3525.06,109.118 3528.91,119.431 3532.26,129.743 \n",
       "  3535.2,140.055 3537.81,150.368 3540.18,160.68 3542.41,170.992 3544.6,181.305 3546.87,191.617 3549.35,201.929 3552.21,212.242 3555.69,222.554 3558.76,229.926 \n",
       "  3559.95,232.867 3563.74,243.179 3566.96,253.491 3569.74,263.804 3572.19,274.116 3574.42,284.428 3576.57,294.741 3578.74,305.053 3581.09,315.365 3583.78,325.678 \n",
       "  3587.05,335.99 3591.21,346.302 3592.76,349.502 3595.62,356.615 3599.15,366.927 3602.1,377.24 3604.62,387.552 3606.87,397.864 3608.97,408.177 3611.07,418.489 \n",
       "  3613.3,428.801 3615.85,439.114 3618.93,449.426 3622.87,459.738 3626.76,467.665 3627.78,470.051 3631.63,480.363 3634.76,490.675 3637.37,500.988 3639.63,511.3 \n",
       "  3641.69,521.613 3643.72,531.925 3645.85,542.237 3648.28,552.55 3651.22,562.862 3654.96,573.174 3659.96,583.487 3660.76,584.877 3664.33,593.799 3667.64,604.111 \n",
       "  3670.33,614.424 3672.6,624.736 3674.63,635.048 3676.59,645.361 3678.65,655.673 3680.97,665.986 3683.78,676.298 3687.37,686.61 3692.15,696.923 3694.76,701.449 \n",
       "  3697.17,707.235 3700.66,717.547 3703.42,727.86 3705.71,738.172 3707.71,748.484 3709.63,758.797 3711.61,769.109 3713.85,779.421 3716.56,789.734 3720,800.046 \n",
       "  3724.58,810.359 3728.76,817.573 3730.09,820.671 3733.75,830.983 3736.59,841.296 3738.89,851.608 3740.88,861.92 3742.75,872.233 3744.68,882.545 3746.85,892.857 \n",
       "  3749.46,903.17 3752.78,913.482 3757.18,923.794 3762.76,933.446 3763.05,934.107 3766.87,944.419 3769.79,954.732 3772.11,965.044 3774.09,975.356 3775.93,985.669 \n",
       "  3777.81,995.981 3779.91,1006.29 3782.44,1016.61 3785.64,1026.92 3789.85,1037.23 3795.57,1047.54 3796.76,1049.38 3799.97,1057.86 3802.96,1068.17 3805.31,1078.48 \n",
       "  \n",
       "  \"/>\n",
       "<polyline clip-path=\"url(#clip714)\" style=\"stroke:#7f0080; stroke-linecap:butt; stroke-linejoin:round; stroke-width:4; stroke-opacity:1; fill:none\" points=\"\n",
       "  3801.22,1078.48 3798.67,1068.17 3796.76,1062.05 3793.71,1057.86 3787.67,1047.54 3783.33,1037.23 3780.08,1026.92 3777.54,1016.61 3775.46,1006.29 3773.64,995.981 \n",
       "  3771.91,985.669 3770.11,975.356 3768.06,965.044 3765.55,954.732 3762.76,945.734 3761.78,944.419 3755.23,934.107 3750.62,923.794 3747.2,913.482 3744.54,903.17 \n",
       "  3742.38,892.857 3740.5,882.545 3738.73,872.233 3736.9,861.92 3734.85,851.608 3732.38,841.296 3729.25,830.983 3728.76,829.656 3722.82,820.671 3717.94,810.359 \n",
       "  3714.35,800.046 3711.58,789.734 3709.33,779.421 3707.39,769.109 3705.56,758.797 3703.7,748.484 3701.64,738.172 3699.2,727.86 3696.17,717.547 3694.76,713.612 \n",
       "  3690.54,707.235 3685.37,696.923 3681.6,686.61 3678.71,676.298 3676.37,665.986 3674.34,655.673 3672.46,645.361 3670.55,635.048 3668.48,624.736 3666.07,614.424 \n",
       "  3663.14,604.111 3660.76,597.273 3658.46,593.799 3652.99,583.487 3649.03,573.174 3645.99,562.862 3643.54,552.55 3641.42,542.237 3639.46,531.925 3637.51,521.613 \n",
       "  3635.42,511.3 3633.04,500.988 3630.21,490.675 3626.76,480.42 3626.72,480.363 3620.89,470.051 3616.7,459.738 3613.5,449.426 3610.91,439.114 3608.69,428.801 \n",
       "  3606.65,418.489 3604.64,408.177 3602.52,397.864 3600.17,387.552 3597.44,377.24 3594.19,366.927 3592.76,362.999 3589.19,356.615 3584.73,346.302 3581.33,335.99 \n",
       "  3578.58,325.678 3576.23,315.365 3574.09,305.053 3572.01,294.741 3569.87,284.428 3567.55,274.116 3564.92,263.804 3561.88,253.491 3558.76,244.471 3558.05,243.179 \n",
       "  3553.24,232.867 3549.59,222.554 3546.65,212.242 3544.15,201.929 3541.9,191.617 3539.74,181.305 3537.57,170.992 3535.27,160.68 3532.74,150.368 3529.89,140.055 \n",
       "  3526.63,129.743 3524.76,124.452 3522.41,119.431 3518.45,109.118 3515.28,98.8059 3512.61,88.4935 3510.22,78.1812 3507.98,67.8688 3505.77,57.5565 3503.49,47.2441 \n",
       "  \n",
       "  \"/>\n",
       "<polyline clip-path=\"url(#clip714)\" style=\"stroke:#8f0070; stroke-linecap:butt; stroke-linejoin:round; stroke-width:4; stroke-opacity:1; fill:none\" points=\"\n",
       "  3498.21,47.2441 3500.54,57.5565 3502.72,67.8688 3504.83,78.1812 3506.96,88.4935 3509.25,98.8059 3511.83,109.118 3514.94,119.431 3518.91,129.743 3524.42,140.055 \n",
       "  3524.76,140.594 3527.68,150.368 3530.36,160.68 3532.73,170.992 3534.89,181.305 3536.93,191.617 3538.96,201.929 3541.09,212.242 3543.48,222.554 3546.33,232.867 \n",
       "  3549.95,243.179 3554.9,253.491 3558.76,259.49 3560.1,263.804 3562.91,274.116 3565.32,284.428 3567.46,294.741 3569.43,305.053 3571.37,315.365 3573.38,325.678 \n",
       "  3575.61,335.99 3578.25,346.302 3581.58,356.615 3586.1,366.927 3592.76,377.151 3592.79,377.24 3595.72,387.552 3598.17,397.864 3600.3,408.177 3602.23,418.489 \n",
       "  3604.07,428.801 3605.98,439.114 3608.07,449.426 3610.54,459.738 3613.64,470.051 3617.82,480.363 3623.95,490.675 3626.76,494.29 3628.71,500.988 3631.21,511.3 \n",
       "  3633.33,521.613 3635.21,531.925 3636.99,542.237 3638.79,552.55 3640.77,562.862 3643.1,573.174 3646.01,583.487 3649.9,593.799 3655.52,604.111 3660.76,610.866 \n",
       "  3661.82,614.424 3664.37,624.736 3666.48,635.048 3668.32,645.361 3670.03,655.673 3671.76,665.986 3673.64,676.298 3675.84,686.61 3678.58,696.923 3682.23,707.235 \n",
       "  3687.41,717.547 3694.76,727.113 3694.99,727.86 3697.58,738.172 3699.69,748.484 3701.5,758.797 3703.16,769.109 3704.82,779.421 3706.61,789.734 3708.7,800.046 \n",
       "  3711.29,810.359 3714.7,820.671 3719.48,830.983 3726.76,841.296 3728.76,843.538 3730.81,851.608 3732.92,861.92 3734.71,872.233 3736.32,882.545 3737.91,892.857 \n",
       "  3739.63,903.17 3741.61,913.482 3744.06,923.794 3747.24,934.107 3751.62,944.419 3758.1,954.732 3762.76,960.155 3764.01,965.044 3766.13,975.356 3767.89,985.669 \n",
       "  3769.47,995.981 3771.01,1006.29 3772.64,1016.61 3774.52,1026.92 3776.82,1037.23 3779.77,1047.54 3783.75,1057.86 3789.46,1068.17 3796.76,1077.03 3797.13,1078.48 \n",
       "  \n",
       "  \"/>\n",
       "<polyline clip-path=\"url(#clip714)\" style=\"stroke:#0f00f0; stroke-linecap:butt; stroke-linejoin:round; stroke-width:4; stroke-opacity:1; fill:none\" points=\"\n",
       "  4063.03,1078.48 4061.36,1068.17 4059.8,1057.86 4058.33,1047.54 4056.94,1037.23 4055.63,1026.92 4054.4,1016.61 4053.23,1006.29 4052.13,995.981 4051.08,985.669 \n",
       "  4050.08,975.356 4049.12,965.044 4048.21,954.732 4047.34,944.419 4046.51,934.107 4045.71,923.794 4044.94,913.482 4044.19,903.17 4043.47,892.857 4042.78,882.545 \n",
       "  4042.1,872.233 4041.44,861.92 4040.81,851.608 4040.18,841.296 4039.57,830.983 4038.97,820.671 4038.39,810.359 4037.81,800.046 4037.24,789.734 4036.68,779.421 \n",
       "  4036.13,769.109 4035.58,758.797 4035.04,748.484 4034.76,743.186 4033.92,738.172 4032.25,727.86 4030.67,717.547 4029.18,707.235 4027.77,696.923 4026.42,686.61 \n",
       "  4025.15,676.298 4023.93,665.986 4022.77,655.673 4021.67,645.361 4020.61,635.048 4019.6,624.736 4018.63,614.424 4017.7,604.111 4016.8,593.799 4015.94,583.487 \n",
       "  4015.11,573.174 4014.31,562.862 4013.53,552.55 4012.78,542.237 4012.05,531.925 4011.34,521.613 4010.65,511.3 4009.98,500.988 4009.32,490.675 4008.68,480.363 \n",
       "  4008.05,470.051 4007.44,459.738 4006.83,449.426 4006.24,439.114 4005.65,428.801 4005.08,418.489 4004.51,408.177 4003.95,397.864 4003.39,387.552 4002.84,377.24 \n",
       "  4002.3,366.927 4001.76,356.615 4001.22,346.302 4000.76,337.322 4000.58,335.99 3999.27,325.678 3998.01,315.365 3996.8,305.053 3995.65,294.741 3994.54,284.428 \n",
       "  3993.48,274.116 3992.46,263.804 3991.47,253.491 3990.52,243.179 3989.61,232.867 3988.73,222.554 3987.88,212.242 3987.05,201.929 3986.26,191.617 3985.48,181.305 \n",
       "  3984.73,170.992 3984,160.68 3983.3,150.368 3982.61,140.055 3981.93,129.743 3981.28,119.431 3980.64,109.118 3980.01,98.8059 3979.4,88.4935 3978.8,78.1812 \n",
       "  3978.22,67.8688 3977.64,57.5565 3977.08,47.2441 \n",
       "  \"/>\n",
       "<polyline clip-path=\"url(#clip714)\" style=\"stroke:#1f00e0; stroke-linecap:butt; stroke-linejoin:round; stroke-width:4; stroke-opacity:1; fill:none\" points=\"\n",
       "  4003.97,47.2441 4004.36,57.5565 4004.77,67.8688 4005.17,78.1812 4005.59,88.4935 4006.01,98.8059 4006.43,109.118 4006.87,119.431 4007.31,129.743 4007.75,140.055 \n",
       "  4008.2,150.368 4008.66,160.68 4009.13,170.992 4009.6,181.305 4010.08,191.617 4010.56,201.929 4011.06,212.242 4011.56,222.554 4012.07,232.867 4012.59,243.179 \n",
       "  4013.12,253.491 4013.66,263.804 4014.21,274.116 4014.77,284.428 4015.34,294.741 4015.92,305.053 4016.51,315.365 4017.12,325.678 4017.74,335.99 4018.38,346.302 \n",
       "  4019.03,356.615 4019.7,366.927 4020.39,377.24 4021.09,387.552 4021.82,397.864 4022.57,408.177 4023.34,418.489 4024.13,428.801 4024.95,439.114 4025.79,449.426 \n",
       "  4026.67,459.738 4027.57,470.051 4028.51,480.363 4029.48,490.675 4030.49,500.988 4031.54,511.3 4032.64,521.613 4033.78,531.925 4034.76,540.486 4034.86,542.237 \n",
       "  4035.44,552.55 4036.02,562.862 4036.61,573.174 4037.19,583.487 4037.78,593.799 4038.38,604.111 4038.97,614.424 4039.57,624.736 4040.18,635.048 4040.79,645.361 \n",
       "  4041.41,655.673 4042.04,665.986 4042.67,676.298 4043.32,686.61 4043.97,696.923 4044.63,707.235 4045.31,717.547 4046,727.86 4046.7,738.172 4047.42,748.484 \n",
       "  4048.15,758.797 4048.91,769.109 4049.68,779.421 4050.48,789.734 4051.3,800.046 4052.15,810.359 4053.02,820.671 4053.93,830.983 4054.87,841.296 4055.84,851.608 \n",
       "  4056.85,861.92 4057.91,872.233 4059.01,882.545 4060.16,892.857 4061.36,903.17 4062.62,913.482 4063.94,923.794 4065.33,934.107 4066.79,944.419 4068.33,954.732 \n",
       "  4068.76,957.497 4069.22,965.044 4069.85,975.356 4070.47,985.669 4071.11,995.981 4071.74,1006.29 4072.38,1016.61 4073.02,1026.92 4073.67,1037.23 4074.32,1047.54 \n",
       "  4074.98,1057.86 4075.66,1068.17 4076.34,1078.48 \n",
       "  \"/>\n",
       "<polyline clip-path=\"url(#clip714)\" style=\"stroke:#2f00d0; stroke-linecap:butt; stroke-linejoin:round; stroke-width:4; stroke-opacity:1; fill:none\" points=\"\n",
       "  4085.51,1078.48 4084.67,1068.17 4083.86,1057.86 4083.06,1047.54 4082.28,1037.23 4081.52,1026.92 4080.77,1016.61 4080.04,1006.29 4079.31,995.981 4078.6,985.669 \n",
       "  4077.9,975.356 4077.2,965.044 4076.52,954.732 4075.83,944.419 4075.16,934.107 4074.48,923.794 4073.81,913.482 4073.15,903.17 4072.48,892.857 4071.82,882.545 \n",
       "  4071.16,872.233 4070.5,861.92 4069.83,851.608 4069.17,841.296 4068.76,834.9 4068.28,830.983 4067.07,820.671 4065.91,810.359 4064.79,800.046 4063.72,789.734 \n",
       "  4062.68,779.421 4061.69,769.109 4060.73,758.797 4059.8,748.484 4058.9,738.172 4058.03,727.86 4057.19,717.547 4056.37,707.235 4055.57,696.923 4054.8,686.61 \n",
       "  4054.04,676.298 4053.31,665.986 4052.59,655.673 4051.88,645.361 4051.19,635.048 4050.52,624.736 4049.86,614.424 4049.21,604.111 4048.57,593.799 4047.94,583.487 \n",
       "  4047.32,573.174 4046.71,562.862 4046.11,552.55 4045.52,542.237 4044.94,531.925 4044.36,521.613 4043.78,511.3 4043.22,500.988 4042.66,490.675 4042.1,480.363 \n",
       "  4041.55,470.051 4041.01,459.738 4040.47,449.426 4039.93,439.114 4039.4,428.801 4038.87,418.489 4038.35,408.177 4037.83,397.864 4037.32,387.552 4036.8,377.24 \n",
       "  4036.29,366.927 4035.79,356.615 4035.29,346.302 4034.79,335.99 4034.76,335.366 4034.09,325.678 4033.4,315.365 4032.74,305.053 4032.1,294.741 4031.48,284.428 \n",
       "  4030.89,274.116 4030.32,263.804 4029.77,253.491 4029.23,243.179 4028.72,232.867 4028.23,222.554 4027.75,212.242 4027.29,201.929 4026.85,191.617 4026.43,181.305 \n",
       "  4026.02,170.992 4025.64,160.68 4025.26,150.368 4024.91,140.055 4024.57,129.743 4024.24,119.431 4023.94,109.118 4023.65,98.8059 4023.37,88.4935 4023.11,78.1812 \n",
       "  4022.87,67.8688 4022.65,57.5565 4022.44,47.2441 \n",
       "  \"/>\n",
       "<polyline clip-path=\"url(#clip714)\" style=\"stroke:#3f00c0; stroke-linecap:butt; stroke-linejoin:round; stroke-width:4; stroke-opacity:1; fill:none\" points=\"\n",
       "  4040.74,47.2441 4040.69,57.5565 4040.67,67.8688 4040.68,78.1812 4040.71,88.4935 4040.76,98.8059 4040.83,109.118 4040.93,119.431 4041.04,129.743 4041.18,140.055 \n",
       "  4041.33,150.368 4041.5,160.68 4041.69,170.992 4041.89,181.305 4042.1,191.617 4042.34,201.929 4042.58,212.242 4042.84,222.554 4043.11,232.867 4043.4,243.179 \n",
       "  4043.7,253.491 4044.01,263.804 4044.33,274.116 4044.66,284.428 4045,294.741 4045.35,305.053 4045.71,315.365 4046.09,325.678 4046.47,335.99 4046.86,346.302 \n",
       "  4047.26,356.615 4047.67,366.927 4048.09,377.24 4048.53,387.552 4048.96,397.864 4049.41,408.177 4049.87,418.489 4050.34,428.801 4050.82,439.114 4051.31,449.426 \n",
       "  4051.8,459.738 4052.31,470.051 4052.83,480.363 4053.36,490.675 4053.9,500.988 4054.45,511.3 4055.02,521.613 4055.59,531.925 4056.19,542.237 4056.79,552.55 \n",
       "  4057.41,562.862 4058.04,573.174 4058.69,583.487 4059.36,593.799 4060.04,604.111 4060.74,614.424 4061.47,624.736 4062.21,635.048 4062.97,645.361 4063.76,655.673 \n",
       "  4064.57,665.986 4065.41,676.298 4066.28,686.61 4067.18,696.923 4068.11,707.235 4068.76,714.23 4068.97,717.547 4069.62,727.86 4070.27,738.172 4070.92,748.484 \n",
       "  4071.57,758.797 4072.22,769.109 4072.87,779.421 4073.52,789.734 4074.18,800.046 4074.83,810.359 4075.49,820.671 4076.15,830.983 4076.81,841.296 4077.47,851.608 \n",
       "  4078.14,861.92 4078.81,872.233 4079.49,882.545 4080.17,892.857 4080.86,903.17 4081.56,913.482 4082.27,923.794 4082.98,934.107 4083.71,944.419 4084.44,954.732 \n",
       "  4085.19,965.044 4085.95,975.356 4086.73,985.669 4087.52,995.981 4088.34,1006.29 4089.17,1016.61 4090.02,1026.92 4090.9,1037.23 4091.8,1047.54 4092.73,1057.86 \n",
       "  4093.69,1068.17 4094.69,1078.48 \n",
       "  \"/>\n",
       "<polyline clip-path=\"url(#clip714)\" style=\"stroke:#4f00b0; stroke-linecap:butt; stroke-linejoin:round; stroke-width:4; stroke-opacity:1; fill:none\" points=\"\n",
       "  4103.52,1078.48 4102.76,1068.59 4102.71,1068.17 4101.61,1057.86 4100.54,1047.54 4099.51,1037.23 4098.52,1026.92 4097.56,1016.61 4096.63,1006.29 4095.73,995.981 \n",
       "  4094.86,985.669 4094.01,975.356 4093.18,965.044 4092.37,954.732 4091.58,944.419 4090.8,934.107 4090.05,923.794 4089.31,913.482 4088.58,903.17 4087.86,892.857 \n",
       "  4087.16,882.545 4086.47,872.233 4085.78,861.92 4085.11,851.608 4084.45,841.296 4083.79,830.983 4083.14,820.671 4082.49,810.359 4081.85,800.046 4081.22,789.734 \n",
       "  4080.59,779.421 4079.97,769.109 4079.35,758.797 4078.74,748.484 4078.13,738.172 4077.52,727.86 4076.92,717.547 4076.32,707.235 4075.72,696.923 4075.12,686.61 \n",
       "  4074.53,676.298 4073.94,665.986 4073.35,655.673 4072.77,645.361 4072.19,635.048 4071.61,624.736 4071.03,614.424 4070.46,604.111 4069.89,593.799 4069.32,583.487 \n",
       "  4068.76,573.174 4068.76,573.135 4068.1,562.862 4067.47,552.55 4066.85,542.237 4066.25,531.925 4065.68,521.613 4065.12,511.3 4064.58,500.988 4064.06,490.675 \n",
       "  4063.56,480.363 4063.07,470.051 4062.6,459.738 4062.14,449.426 4061.7,439.114 4061.28,428.801 4060.87,418.489 4060.48,408.177 4060.1,397.864 4059.74,387.552 \n",
       "  4059.39,377.24 4059.06,366.927 4058.74,356.615 4058.44,346.302 4058.15,335.99 4057.88,325.678 4057.63,315.365 4057.39,305.053 4057.17,294.741 4056.97,284.428 \n",
       "  4056.78,274.116 4056.61,263.804 4056.47,253.491 4056.34,243.179 4056.23,232.867 4056.14,222.554 4056.07,212.242 4056.02,201.929 4056,191.617 4056,181.305 \n",
       "  4056.02,170.992 4056.07,160.68 4056.15,150.368 4056.26,140.055 4056.39,129.743 4056.56,119.431 4056.75,109.118 4056.98,98.8059 4057.25,88.4935 4057.55,78.1812 \n",
       "  4057.89,67.8688 4058.27,57.5565 4058.69,47.2441 \n",
       "  \"/>\n",
       "<polyline clip-path=\"url(#clip714)\" style=\"stroke:#5f00a0; stroke-linecap:butt; stroke-linejoin:round; stroke-width:4; stroke-opacity:1; fill:none\" points=\"\n",
       "  4079.63,47.2441 4078.44,57.5565 4077.34,67.8688 4076.34,78.1812 4075.43,88.4935 4074.6,98.8059 4073.86,109.118 4073.18,119.431 4072.57,129.743 4072.03,140.055 \n",
       "  4071.54,150.368 4071.12,160.68 4070.74,170.992 4070.42,181.305 4070.14,191.617 4069.9,201.929 4069.71,212.242 4069.56,222.554 4069.44,232.867 4069.36,243.179 \n",
       "  4069.31,253.491 4069.29,263.804 4069.3,274.116 4069.34,284.428 4069.41,294.741 4069.5,305.053 4069.62,315.365 4069.76,325.678 4069.92,335.99 4070.1,346.302 \n",
       "  4070.3,356.615 4070.52,366.927 4070.76,377.24 4071.02,387.552 4071.29,397.864 4071.57,408.177 4071.87,418.489 4072.19,428.801 4072.52,439.114 4072.86,449.426 \n",
       "  4073.21,459.738 4073.58,470.051 4073.95,480.363 4074.34,490.675 4074.73,500.988 4075.14,511.3 4075.56,521.613 4075.98,531.925 4076.41,542.237 4076.85,552.55 \n",
       "  4077.3,562.862 4077.76,573.174 4078.22,583.487 4078.7,593.799 4079.17,604.111 4079.66,614.424 4080.15,624.736 4080.65,635.048 4081.15,645.361 4081.67,655.673 \n",
       "  4082.18,665.986 4082.71,676.298 4083.24,686.61 4083.77,696.923 4084.32,707.235 4084.87,717.547 4085.42,727.86 4085.99,738.172 4086.56,748.484 4087.14,758.797 \n",
       "  4087.72,769.109 4088.32,779.421 4088.92,789.734 4089.53,800.046 4090.15,810.359 4090.79,820.671 4091.43,830.983 4092.08,841.296 4092.75,851.608 4093.43,861.92 \n",
       "  4094.12,872.233 4094.83,882.545 4095.55,892.857 4096.29,903.17 4097.05,913.482 4097.83,923.794 4098.63,934.107 4099.45,944.419 4100.29,954.732 4101.16,965.044 \n",
       "  4102.06,975.356 4102.76,983.147 4102.95,985.669 4103.73,995.981 4104.51,1006.29 4105.29,1016.61 4106.06,1026.92 4106.82,1037.23 4107.58,1047.54 4108.34,1057.86 \n",
       "  4109.09,1068.17 4109.84,1078.48 \n",
       "  \"/>\n",
       "<polyline clip-path=\"url(#clip714)\" style=\"stroke:#6f0090; stroke-linecap:butt; stroke-linejoin:round; stroke-width:4; stroke-opacity:1; fill:none\" points=\"\n",
       "  4116.17,1078.48 4115.46,1068.17 4114.75,1057.86 4114.05,1047.54 4113.34,1037.23 4112.63,1026.92 4111.92,1016.61 4111.21,1006.29 4110.49,995.981 4109.78,985.669 \n",
       "  4109.06,975.356 4108.34,965.044 4107.62,954.732 4106.89,944.419 4106.17,934.107 4105.44,923.794 4104.7,913.482 4103.97,903.17 4103.24,892.857 4102.76,886.112 \n",
       "  4102.5,882.545 4101.78,872.233 4101.07,861.92 4100.39,851.608 4099.72,841.296 4099.07,830.983 4098.44,820.671 4097.82,810.359 4097.21,800.046 4096.62,789.734 \n",
       "  4096.04,779.421 4095.47,769.109 4094.92,758.797 4094.38,748.484 4093.85,738.172 4093.33,727.86 4092.82,717.547 4092.32,707.235 4091.83,696.923 4091.35,686.61 \n",
       "  4090.88,676.298 4090.42,665.986 4089.98,655.673 4089.54,645.361 4089.11,635.048 4088.69,624.736 4088.29,614.424 4087.89,604.111 4087.5,593.799 4087.13,583.487 \n",
       "  4086.76,573.174 4086.41,562.862 4086.07,552.55 4085.74,542.237 4085.42,531.925 4085.12,521.613 4084.83,511.3 4084.55,500.988 4084.29,490.675 4084.04,480.363 \n",
       "  4083.81,470.051 4083.59,459.738 4083.39,449.426 4083.21,439.114 4083.04,428.801 4082.9,418.489 4082.77,408.177 4082.67,397.864 4082.59,387.552 4082.53,377.24 \n",
       "  4082.5,366.927 4082.49,356.615 4082.5,346.302 4082.55,335.99 4082.62,325.678 4082.72,315.365 4082.86,305.053 4083.03,294.741 4083.23,284.428 4083.47,274.116 \n",
       "  4083.76,263.804 4084.08,253.491 4084.45,243.179 4084.86,232.867 4085.32,222.554 4085.83,212.242 4086.4,201.929 4087.03,191.617 4087.71,181.305 4088.47,170.992 \n",
       "  4089.29,160.68 4090.18,150.368 4091.16,140.055 4092.21,129.743 4093.36,119.431 4094.59,109.118 4095.93,98.8059 4097.38,88.4935 4098.94,78.1812 4100.62,67.8688 \n",
       "  4102.44,57.5565 4102.76,55.8146 4106.22,47.2441 \n",
       "  \"/>\n",
       "<polyline clip-path=\"url(#clip714)\" style=\"stroke:#6f0090; stroke-linecap:butt; stroke-linejoin:round; stroke-width:4; stroke-opacity:1; fill:none\" points=\"\n",
       "  4206.22,47.2441 4212.44,57.5565 4218.56,67.8688 4224.63,78.1812 4230.66,88.4935 4236.68,98.8059 4238.76,102.324 4242.38,109.118 4247.75,119.431 4252.95,129.743 \n",
       "  4258.03,140.055 4262.99,150.368 4267.87,160.68 4272.69,170.992 4272.76,171.125 \n",
       "  \"/>\n",
       "<polyline clip-path=\"url(#clip714)\" style=\"stroke:#7f0080; stroke-linecap:butt; stroke-linejoin:round; stroke-width:4; stroke-opacity:1; fill:none\" points=\"\n",
       "  4272.76,237.216 4270.59,232.867 4265.51,222.554 4260.43,212.242 4255.33,201.929 4250.2,191.617 4245.01,181.305 4239.73,170.992 4238.76,169.098 4233.36,160.68 \n",
       "  4226.88,150.368 4220.49,140.055 4214.16,129.743 4207.86,119.431 4204.76,114.33 4199.05,109.118 4188.33,98.8059 4178.22,88.4935 4170.76,80.5267 4136.76,85.2558 \n",
       "  4135.23,88.4935 4130.69,98.8059 4126.57,109.118 4122.84,119.431 4119.46,129.743 4116.38,140.055 4113.59,150.368 4111.05,160.68 4108.74,170.992 4106.64,181.305 \n",
       "  4104.73,191.617 4103,201.929 4102.76,203.48 4101.96,212.242 4101.09,222.554 4100.28,232.867 4099.53,243.179 4098.85,253.491 4098.22,263.804 4097.65,274.116 \n",
       "  4097.12,284.428 4096.64,294.741 4096.21,305.053 4095.83,315.365 4095.48,325.678 4095.17,335.99 4094.9,346.302 4094.67,356.615 4094.47,366.927 4094.3,377.24 \n",
       "  4094.16,387.552 4094.06,397.864 4093.98,408.177 4093.92,418.489 4093.9,428.801 4093.9,439.114 4093.92,449.426 4093.97,459.738 4094.03,470.051 4094.12,480.363 \n",
       "  4094.23,490.675 4094.36,500.988 4094.51,511.3 4094.68,521.613 4094.86,531.925 4095.06,542.237 4095.28,552.55 4095.51,562.862 4095.76,573.174 4096.03,583.487 \n",
       "  4096.31,593.799 4096.6,604.111 4096.91,614.424 4097.24,624.736 4097.57,635.048 4097.92,645.361 4098.29,655.673 4098.67,665.986 4099.06,676.298 4099.47,686.61 \n",
       "  4099.89,696.923 4100.32,707.235 4100.77,717.547 4101.23,727.86 4101.7,738.172 4102.2,748.484 4102.7,758.797 4102.76,759.872 4103.3,769.109 4103.9,779.421 \n",
       "  4104.52,789.734 4105.13,800.046 4105.76,810.359 4106.38,820.671 4107.01,830.983 4107.64,841.296 4108.27,851.608 4108.9,861.92 4109.54,872.233 4110.18,882.545 \n",
       "  4110.82,892.857 4111.45,903.17 4112.1,913.482 4112.74,923.794 4113.38,934.107 4114.02,944.419 4114.67,954.732 4115.31,965.044 4115.96,975.356 4116.6,985.669 \n",
       "  4117.25,995.981 4117.9,1006.29 4118.55,1016.61 4119.2,1026.92 4119.85,1037.23 4120.51,1047.54 4121.17,1057.86 4121.83,1068.17 4122.49,1078.48 \n",
       "  \"/>\n",
       "<polyline clip-path=\"url(#clip714)\" style=\"stroke:#8f0070; stroke-linecap:butt; stroke-linejoin:round; stroke-width:4; stroke-opacity:1; fill:none\" points=\"\n",
       "  4128.82,1078.48 4128.19,1068.17 4127.58,1057.86 4126.97,1047.54 4126.37,1037.23 4125.77,1026.92 4125.18,1016.61 4124.59,1006.29 4124.01,995.981 4123.43,985.669 \n",
       "  4122.86,975.356 4122.29,965.044 4121.72,954.732 4121.16,944.419 4120.6,934.107 4120.04,923.794 4119.49,913.482 4118.94,903.17 4118.39,892.857 4117.85,882.545 \n",
       "  4117.32,872.233 4116.78,861.92 4116.26,851.608 4115.73,841.296 4115.22,830.983 4114.7,820.671 4114.2,810.359 4113.7,800.046 4113.21,789.734 4112.72,779.421 \n",
       "  4112.24,769.109 4111.77,758.797 4111.31,748.484 4110.86,738.172 4110.42,727.86 4109.99,717.547 4109.57,707.235 4109.16,696.923 4108.76,686.61 4108.38,676.298 \n",
       "  4108.01,665.986 4107.66,655.673 4107.32,645.361 4107,635.048 4106.69,624.736 4106.4,614.424 4106.14,604.111 4105.89,593.799 4105.66,583.487 4105.45,573.174 \n",
       "  4105.27,562.862 4105.11,552.55 4104.98,542.237 4104.88,531.925 4104.8,521.613 4104.75,511.3 4104.74,500.988 4104.75,490.675 4104.8,480.363 4104.89,470.051 \n",
       "  4105.02,459.738 4105.18,449.426 4105.39,439.114 4105.64,428.801 4105.94,418.489 4106.29,408.177 4106.69,397.864 4107.15,387.552 4107.67,377.24 4108.25,366.927 \n",
       "  4108.89,356.615 4109.61,346.302 4110.4,335.99 4111.28,325.678 4112.24,315.365 4113.29,305.053 4114.44,294.741 4115.7,284.428 4117.07,274.116 4118.57,263.804 \n",
       "  4120.2,253.491 4121.98,243.179 4123.9,232.867 4126,222.554 4128.28,212.242 4130.76,201.929 4133.46,191.617 4136.4,181.305 4136.76,180.111 4147.09,170.992 \n",
       "  4161.46,160.68 4170.76,155.095 4177.46,160.68 4190.86,170.992 4204.76,180.554 4205.23,181.305 4211.81,191.617 4218.54,201.929 4225.46,212.242 4232.6,222.554 \n",
       "  4238.76,231.154 4239.63,232.867 4244.86,243.179 4250.1,253.491 4255.34,263.804 4260.63,274.116 4265.97,284.428 4271.41,294.741 4272.76,297.267 \n",
       "  \"/>\n",
       "<polyline clip-path=\"url(#clip714)\" style=\"stroke:#9f0060; stroke-linecap:butt; stroke-linejoin:round; stroke-width:4; stroke-opacity:1; fill:none\" points=\"\n",
       "  4272.76,354.748 4267.9,346.302 4262.13,335.99 4256.51,325.678 4251.02,315.365 4245.63,305.053 4240.32,294.741 4238.76,291.698 4232.72,284.428 4224.56,274.116 \n",
       "  4216.83,263.804 4209.46,253.491 4204.76,246.681 4195.29,243.179 4171.87,232.867 4170.76,232.309 4170.28,232.867 4162.09,243.179 4154.97,253.491 4148.75,263.804 \n",
       "  4143.29,274.116 4138.47,284.428 4136.76,288.455 4135.65,294.741 4133.94,305.053 4132.37,315.365 4130.91,325.678 4129.56,335.99 4128.31,346.302 4127.16,356.615 \n",
       "  4126.09,366.927 4125.11,377.24 4124.22,387.552 4123.39,397.864 4122.64,408.177 4121.95,418.489 4121.32,428.801 4120.76,439.114 4120.25,449.426 4119.79,459.738 \n",
       "  4119.38,470.051 4119.02,480.363 4118.7,490.675 4118.43,500.988 4118.2,511.3 4118,521.613 4117.85,531.925 4117.72,542.237 4117.63,552.55 4117.58,562.862 \n",
       "  4117.55,573.174 4117.55,583.487 4117.58,593.799 4117.63,604.111 4117.71,614.424 4117.82,624.736 4117.94,635.048 4118.09,645.361 4118.26,655.673 4118.44,665.986 \n",
       "  4118.65,676.298 4118.87,686.61 4119.11,696.923 4119.36,707.235 4119.64,717.547 4119.92,727.86 4120.22,738.172 4120.53,748.484 4120.86,758.797 4121.19,769.109 \n",
       "  4121.54,779.421 4121.9,789.734 4122.27,800.046 4122.64,810.359 4123.03,820.671 4123.43,830.983 4123.83,841.296 4124.24,851.608 4124.67,861.92 4125.09,872.233 \n",
       "  4125.53,882.545 4125.97,892.857 4126.42,903.17 4126.88,913.482 4127.34,923.794 4127.81,934.107 4128.29,944.419 4128.77,954.732 4129.26,965.044 4129.76,975.356 \n",
       "  4130.26,985.669 4130.77,995.981 4131.29,1006.29 4131.81,1016.61 4132.34,1026.92 4132.89,1037.23 4133.44,1047.54 4133.99,1057.86 4134.56,1068.17 4135.14,1078.48 \n",
       "  \n",
       "  \"/>\n",
       "<polyline clip-path=\"url(#clip714)\" style=\"stroke:#af0050; stroke-linecap:butt; stroke-linejoin:round; stroke-width:4; stroke-opacity:1; fill:none\" points=\"\n",
       "  4143.76,1078.48 4143.04,1068.17 4142.32,1057.86 4141.59,1047.54 4140.87,1037.23 4140.15,1026.92 4139.43,1016.61 4138.72,1006.29 4138,995.981 4137.29,985.669 \n",
       "  4136.76,977.757 4136.66,975.356 4136.23,965.044 4135.82,954.732 4135.42,944.419 4135.03,934.107 4134.64,923.794 4134.27,913.482 4133.9,903.17 4133.55,892.857 \n",
       "  4133.21,882.545 4132.87,872.233 4132.55,861.92 4132.23,851.608 4131.93,841.296 4131.64,830.983 4131.36,820.671 4131.09,810.359 4130.83,800.046 4130.59,789.734 \n",
       "  4130.36,779.421 4130.14,769.109 4129.94,758.797 4129.75,748.484 4129.58,738.172 4129.42,727.86 4129.28,717.547 4129.16,707.235 4129.06,696.923 4128.98,686.61 \n",
       "  4128.91,676.298 4128.87,665.986 4128.85,655.673 4128.86,645.361 4128.89,635.048 4128.94,624.736 4129.02,614.424 4129.13,604.111 4129.27,593.799 4129.44,583.487 \n",
       "  4129.64,573.174 4129.88,562.862 4130.15,552.55 4130.46,542.237 4130.81,531.925 4131.21,521.613 4131.64,511.3 4132.12,500.988 4132.65,490.675 4133.23,480.363 \n",
       "  4133.87,470.051 4134.56,459.738 4135.31,449.426 4136.12,439.114 4136.76,431.653 4137.23,428.801 4139.09,418.489 4141.12,408.177 4143.36,397.864 4145.81,387.552 \n",
       "  4148.5,377.24 4151.45,366.927 4154.71,356.615 4158.29,346.302 4162.25,335.99 4166.63,325.678 4170.76,316.862 4204.76,315.816 4212.74,325.678 4221.72,335.99 \n",
       "  4231.46,346.302 4238.76,353.47 4240.42,356.615 4245.95,366.927 4251.64,377.24 4257.54,387.552 4263.67,397.864 4270.08,408.177 4272.76,412.358 \n",
       "  \"/>\n",
       "<polyline clip-path=\"url(#clip714)\" style=\"stroke:#bf0040; stroke-linecap:butt; stroke-linejoin:round; stroke-width:4; stroke-opacity:1; fill:none\" points=\"\n",
       "  4272.76,472.901 4270.67,470.051 4263.39,459.738 4256.55,449.426 4250.1,439.114 4243.97,428.801 4238.76,419.618 4237.1,418.489 4223.08,408.177 4210.92,397.864 \n",
       "  4204.76,392.103 4194.86,397.864 4180.33,408.177 4170.76,416.598 4170.23,418.489 4167.5,428.801 4164.99,439.114 4162.68,449.426 4160.55,459.738 4158.58,470.051 \n",
       "  4156.77,480.363 4155.11,490.675 4153.57,500.988 4152.16,511.3 4150.86,521.613 4149.67,531.925 4148.58,542.237 4147.58,552.55 4146.66,562.862 4145.83,573.174 \n",
       "  4145.08,583.487 4144.39,593.799 4143.78,604.111 4143.23,614.424 4142.74,624.736 4142.31,635.048 4141.93,645.361 4141.61,655.673 4141.34,665.986 4141.11,676.298 \n",
       "  4140.93,686.61 4140.8,696.923 4140.7,707.235 4140.65,717.547 4140.63,727.86 4140.65,738.172 4140.7,748.484 4140.79,758.797 4140.9,769.109 4141.05,779.421 \n",
       "  4141.23,789.734 4141.43,800.046 4141.66,810.359 4141.91,820.671 4142.19,830.983 4142.48,841.296 4142.8,851.608 4143.14,861.92 4143.5,872.233 4143.88,882.545 \n",
       "  4144.27,892.857 4144.68,903.17 4145.1,913.482 4145.54,923.794 4145.99,934.107 4146.45,944.419 4146.92,954.732 4147.41,965.044 4147.9,975.356 4148.4,985.669 \n",
       "  4148.91,995.981 4149.42,1006.29 4149.94,1016.61 4150.47,1026.92 4151,1037.23 4151.54,1047.54 4152.08,1057.86 4152.62,1068.17 4153.17,1078.48 \n",
       "  \"/>\n",
       "<polyline clip-path=\"url(#clip714)\" style=\"stroke:#cf0030; stroke-linecap:butt; stroke-linejoin:round; stroke-width:4; stroke-opacity:1; fill:none\" points=\"\n",
       "  4162.58,1078.48 4162.21,1068.17 4161.84,1057.86 4161.49,1047.54 4161.14,1037.23 4160.79,1026.92 4160.46,1016.61 4160.13,1006.29 4159.81,995.981 4159.5,985.669 \n",
       "  4159.21,975.356 4158.92,965.044 4158.65,954.732 4158.38,944.419 4158.14,934.107 4157.9,923.794 4157.68,913.482 4157.48,903.17 4157.3,892.857 4157.13,882.545 \n",
       "  4156.98,872.233 4156.86,861.92 4156.75,851.608 4156.67,841.296 4156.61,830.983 4156.58,820.671 4156.57,810.359 4156.59,800.046 4156.64,789.734 4156.72,779.421 \n",
       "  4156.83,769.109 4156.98,758.797 4157.16,748.484 4157.38,738.172 4157.64,727.86 4157.93,717.547 4158.28,707.235 4158.66,696.923 4159.1,686.61 4159.58,676.298 \n",
       "  4160.12,665.986 4160.71,655.673 4161.36,645.361 4162.07,635.048 4162.85,624.736 4163.7,614.424 4164.61,604.111 4165.61,593.799 4166.69,583.487 4167.85,573.174 \n",
       "  4169.11,562.862 4170.47,552.55 4170.76,550.484 4173.66,542.237 4177.66,531.925 4182.13,521.613 4187.13,511.3 4192.76,500.988 4199.13,490.675 4204.76,482.588 \n",
       "  4225.14,490.675 4238.76,495.036 4242.59,500.988 4249.59,511.3 4257.17,521.613 4265.43,531.925 4272.76,540.366 \n",
       "  \"/>\n",
       "<polyline clip-path=\"url(#clip714)\" style=\"stroke:#df0020; stroke-linecap:butt; stroke-linejoin:round; stroke-width:4; stroke-opacity:1; fill:none\" points=\"\n",
       "  4272.76,622.414 4263.05,614.424 4252,604.111 4242.35,593.799 4238.76,589.629 4226.79,593.799 4204.76,604 4204.72,604.111 4201.53,614.424 4198.61,624.736 \n",
       "  4195.92,635.048 4193.44,645.361 4191.16,655.673 4189.06,665.986 4187.11,676.298 4185.32,686.61 4183.67,696.923 4182.15,707.235 4180.75,717.547 4179.45,727.86 \n",
       "  4178.27,738.172 4177.18,748.484 4176.18,758.797 4175.27,769.109 4174.44,779.421 4173.69,789.734 4173.01,800.046 4172.41,810.359 4171.87,820.671 4171.39,830.983 \n",
       "  4170.98,841.296 4170.76,847.745 4170.7,851.608 4170.57,861.92 4170.47,872.233 4170.38,882.545 4170.32,892.857 4170.28,903.17 4170.27,913.482 4170.27,923.794 \n",
       "  4170.28,934.107 4170.32,944.419 4170.37,954.732 4170.43,965.044 4170.52,975.356 4170.61,985.669 4170.72,995.981 4170.76,999.24 4170.95,1006.29 4171.28,1016.61 \n",
       "  4171.63,1026.92 4172,1037.23 4172.4,1047.54 4172.83,1057.86 4173.28,1068.17 4173.75,1078.48 \n",
       "  \"/>\n",
       "<polyline clip-path=\"url(#clip714)\" style=\"stroke:#ef0010; stroke-linecap:butt; stroke-linejoin:round; stroke-width:4; stroke-opacity:1; fill:none\" points=\"\n",
       "  4196.68,1078.48 4196.63,1068.17 4196.6,1057.86 4196.59,1047.54 4196.61,1037.23 4196.66,1026.92 4196.72,1016.61 4196.82,1006.29 4196.95,995.981 4197.11,985.669 \n",
       "  4197.3,975.356 4197.52,965.044 4197.78,954.732 4198.08,944.419 4198.41,934.107 4198.79,923.794 4199.21,913.482 4199.68,903.17 4200.19,892.857 4200.76,882.545 \n",
       "  4201.37,872.233 4202.05,861.92 4202.78,851.608 4203.57,841.296 4204.42,830.983 4204.76,827.248 4206.35,820.671 4209.04,810.359 4211.96,800.046 4215.15,789.734 \n",
       "  4218.63,779.421 4222.45,769.109 4226.66,758.797 4231.3,748.484 4236.46,738.172 4238.76,733.98 4258.28,738.172 4272.76,740.65 \n",
       "  \"/>\n",
       "<polyline clip-path=\"url(#clip714)\" style=\"stroke:#5f00a0; stroke-linecap:butt; stroke-linejoin:round; stroke-width:4; stroke-opacity:1; fill:none\" points=\"\n",
       "  4272.76,92.6715 4270.87,88.4935 4266.14,78.1812 4261.25,67.8688 4256.16,57.5565 4250.82,47.2441 \n",
       "  \"/>\n",
       "<polyline clip-path=\"url(#clip714)\" style=\"stroke:#af0050; stroke-linecap:butt; stroke-linejoin:round; stroke-width:4; stroke-opacity:1; fill:none\" points=\"\n",
       "  3476.86,47.2441 3484.45,57.5565 3490.76,60.9007 3492.19,67.8688 3494.03,78.1812 3495.68,88.4935 3497.18,98.8059 3498.61,109.118 3500,119.431 3501.41,129.743 \n",
       "  3502.92,140.055 3504.63,150.368 3506.81,160.68 3510.68,170.992 3524.76,179.294 3525.17,181.305 3526.99,191.617 3528.56,201.929 3529.97,212.242 3531.28,222.554 \n",
       "  3532.52,232.867 3533.74,243.179 3534.99,253.491 3536.31,263.804 3537.75,274.116 3539.55,284.428 3544.76,294.741 3558.76,297.19 3560.13,305.053 3561.64,315.365 \n",
       "  3562.97,325.678 3564.17,335.99 3565.28,346.302 3566.35,356.615 3567.4,366.927 3568.41,377.24 3569.33,387.552 3569.9,397.864 3567.54,408.177 3558.76,411.185 \n",
       "  3558.06,408.177 3555.84,397.864 3553.79,387.552 3551.87,377.24 3550.07,366.927 3548.35,356.615 3546.69,346.302 3545.06,335.99 3543.41,325.678 3541.63,315.365 \n",
       "  3538.95,305.053 3524.76,298.693 3523.84,294.741 3521.64,284.428 3519.61,274.116 3517.7,263.804 3515.89,253.491 3514.14,243.179 3512.39,232.867 3510.59,222.554 \n",
       "  3508.6,212.242 3506.05,201.929 3500.95,191.617 3490.76,186.245 3489.61,181.305 3487.44,170.992 3485.44,160.68 3483.55,150.368 3481.74,140.055 3479.95,129.743 \n",
       "  3478.12,119.431 3476.15,109.118 3473.83,98.8059 3470.63,88.4935 3463.96,78.1812 3456.76,73.9044 3455.38,67.8688 3453.24,57.5565 3451.26,47.2441 \n",
       "  \"/>\n",
       "<polyline clip-path=\"url(#clip714)\" style=\"stroke:#bf0040; stroke-linecap:butt; stroke-linejoin:round; stroke-width:4; stroke-opacity:1; fill:none\" points=\"\n",
       "  3489.73,98.8059 3488.47,109.118 3488.35,119.431 3488.83,129.743 3489.72,140.055 3490.76,148.997 3492.17,140.055 3492.66,129.743 3492.52,119.431 3491.99,109.118 \n",
       "  3491.15,98.8059 3490.76,95.3366 3489.73,98.8059 \n",
       "  \"/>\n",
       "<polyline clip-path=\"url(#clip714)\" style=\"stroke:#bf0040; stroke-linecap:butt; stroke-linejoin:round; stroke-width:4; stroke-opacity:1; fill:none\" points=\"\n",
       "  3523.87,222.554 3523.4,232.867 3523.72,243.179 3524.52,253.491 3524.76,255.526 3525.04,253.491 3525.64,243.179 3525.61,232.867 3525.17,222.554 3524.76,217.184 \n",
       "  3523.87,222.554 \n",
       "  \"/>\n",
       "<polyline clip-path=\"url(#clip714)\" style=\"stroke:#bf0040; stroke-linecap:butt; stroke-linejoin:round; stroke-width:4; stroke-opacity:1; fill:none\" points=\"\n",
       "  3558.68,346.302 3558.76,353.447 3558.8,346.302 3558.76,345.243 3558.68,346.302 \n",
       "  \"/>\n",
       "<polyline clip-path=\"url(#clip714)\" style=\"stroke:#af0050; stroke-linecap:butt; stroke-linejoin:round; stroke-width:4; stroke-opacity:1; fill:none\" points=\"\n",
       "  3579.52,418.489 3577.59,428.801 3578.39,439.114 3579.63,449.426 3581.07,459.738 3582.63,470.051 3584.3,480.363 3586.09,490.675 3588.01,500.988 3590.07,511.3 \n",
       "  3592.29,521.613 3592.76,523.619 3596.63,521.613 3601.12,511.3 3601.33,500.988 3600.79,490.675 3600.02,480.363 3599.14,470.051 3598.21,459.738 3597.2,449.426 \n",
       "  3596.1,439.114 3594.85,428.801 3593.38,418.489 3592.76,414.877 3579.52,418.489 \n",
       "  \"/>\n",
       "<polyline clip-path=\"url(#clip714)\" style=\"stroke:#af0050; stroke-linecap:butt; stroke-linejoin:round; stroke-width:4; stroke-opacity:1; fill:none\" points=\"\n",
       "  3614.36,542.237 3613.7,552.55 3614.42,562.862 3615.6,573.174 3617.03,583.487 3618.65,593.799 3620.41,604.111 3622.32,614.424 3624.37,624.736 3626.58,635.048 \n",
       "  3626.76,635.832 3627.82,635.048 3632.87,624.736 3633.58,614.424 3633.35,604.111 3632.78,593.799 3632.05,583.487 3631.23,573.174 3630.33,562.862 3629.31,552.55 \n",
       "  3628.12,542.237 3626.76,532.339 3614.36,542.237 \n",
       "  \"/>\n",
       "<polyline clip-path=\"url(#clip714)\" style=\"stroke:#af0050; stroke-linecap:butt; stroke-linejoin:round; stroke-width:4; stroke-opacity:1; fill:none\" points=\"\n",
       "  3652.87,655.673 3649.66,665.986 3649.59,676.298 3650.42,686.61 3651.67,696.923 3653.18,707.235 3654.89,717.547 3656.76,727.86 3658.79,738.172 3660.76,747.446 \n",
       "  3664.9,738.172 3665.97,727.86 3665.99,717.547 3665.6,707.235 3665.02,696.923 3664.31,686.61 3663.49,676.298 3662.55,665.986 3661.42,655.673 3660.76,650.804 \n",
       "  3652.87,655.673 \n",
       "  \"/>\n",
       "<polyline clip-path=\"url(#clip714)\" style=\"stroke:#af0050; stroke-linecap:butt; stroke-linejoin:round; stroke-width:4; stroke-opacity:1; fill:none\" points=\"\n",
       "  3686.85,779.421 3685.46,789.734 3685.73,800.046 3686.69,810.359 3688.04,820.671 3689.65,830.983 3691.45,841.296 3693.43,851.608 3694.76,857.931 3697.05,851.608 \n",
       "  3698.41,841.296 3698.66,830.983 3698.45,820.671 3697.99,810.359 3697.39,800.046 3696.66,789.734 3695.78,779.421 3694.76,769.589 3686.85,779.421 \n",
       "  \"/>\n",
       "<polyline clip-path=\"url(#clip714)\" style=\"stroke:#af0050; stroke-linecap:butt; stroke-linejoin:round; stroke-width:4; stroke-opacity:1; fill:none\" points=\"\n",
       "  3726.54,892.857 3722.58,903.17 3721.88,913.482 3722.37,923.794 3723.44,934.107 3724.87,944.419 3726.56,954.732 3728.44,965.044 3728.76,966.574 3729.21,965.044 \n",
       "  3730.81,954.732 3731.29,944.419 3731.25,934.107 3730.93,923.794 3730.44,913.482 3729.79,903.17 3728.98,892.857 3728.76,890.742 3726.54,892.857 \n",
       "  \"/>\n",
       "<polyline clip-path=\"url(#clip714)\" style=\"stroke:#af0050; stroke-linecap:butt; stroke-linejoin:round; stroke-width:4; stroke-opacity:1; fill:none\" points=\"\n",
       "  3762.08,1016.61 3759.52,1026.92 3759.13,1037.23 3759.71,1047.54 3760.83,1057.86 3762.31,1068.17 3762.76,1070.7 3763.11,1068.17 3763.82,1057.86 3763.96,1047.54 \n",
       "  3763.79,1037.23 3763.41,1026.92 3762.85,1016.61 3762.76,1015.47 3762.08,1016.61 \n",
       "  \"/>\n",
       "<defs>\n",
       "  <clipPath id=\"clip715\">\n",
       "    <rect x=\"4368\" y=\"47\" width=\"145\" height=\"1032\"/>\n",
       "  </clipPath>\n",
       "</defs>\n",
       "<polyline clip-path=\"url(#clip715)\" style=\"stroke:#1000ef; stroke-linecap:butt; stroke-linejoin:round; stroke-width:4; stroke-opacity:1; fill:none\" points=\"\n",
       "  4368.76,1014.03 4512.76,1014.03 \n",
       "  \"/>\n",
       "<polyline clip-path=\"url(#clip715)\" style=\"stroke:#2000df; stroke-linecap:butt; stroke-linejoin:round; stroke-width:4; stroke-opacity:1; fill:none\" points=\"\n",
       "  4368.76,949.575 4512.76,949.575 \n",
       "  \"/>\n",
       "<polyline clip-path=\"url(#clip715)\" style=\"stroke:#3000cf; stroke-linecap:butt; stroke-linejoin:round; stroke-width:4; stroke-opacity:1; fill:none\" points=\"\n",
       "  4368.76,885.123 4512.76,885.123 \n",
       "  \"/>\n",
       "<polyline clip-path=\"url(#clip715)\" style=\"stroke:#4000bf; stroke-linecap:butt; stroke-linejoin:round; stroke-width:4; stroke-opacity:1; fill:none\" points=\"\n",
       "  4368.76,820.671 4512.76,820.671 \n",
       "  \"/>\n",
       "<polyline clip-path=\"url(#clip715)\" style=\"stroke:#5000af; stroke-linecap:butt; stroke-linejoin:round; stroke-width:4; stroke-opacity:1; fill:none\" points=\"\n",
       "  4368.76,756.219 4512.76,756.219 \n",
       "  \"/>\n",
       "<polyline clip-path=\"url(#clip715)\" style=\"stroke:#60009f; stroke-linecap:butt; stroke-linejoin:round; stroke-width:4; stroke-opacity:1; fill:none\" points=\"\n",
       "  4368.76,691.766 4512.76,691.766 \n",
       "  \"/>\n",
       "<polyline clip-path=\"url(#clip715)\" style=\"stroke:#70008f; stroke-linecap:butt; stroke-linejoin:round; stroke-width:4; stroke-opacity:1; fill:none\" points=\"\n",
       "  4368.76,627.314 4512.76,627.314 \n",
       "  \"/>\n",
       "<polyline clip-path=\"url(#clip715)\" style=\"stroke:#80007f; stroke-linecap:butt; stroke-linejoin:round; stroke-width:4; stroke-opacity:1; fill:none\" points=\"\n",
       "  4368.76,562.862 4512.76,562.862 \n",
       "  \"/>\n",
       "<polyline clip-path=\"url(#clip715)\" style=\"stroke:#8f0070; stroke-linecap:butt; stroke-linejoin:round; stroke-width:4; stroke-opacity:1; fill:none\" points=\"\n",
       "  4368.76,498.41 4512.76,498.41 \n",
       "  \"/>\n",
       "<polyline clip-path=\"url(#clip715)\" style=\"stroke:#9f0060; stroke-linecap:butt; stroke-linejoin:round; stroke-width:4; stroke-opacity:1; fill:none\" points=\"\n",
       "  4368.76,433.958 4512.76,433.958 \n",
       "  \"/>\n",
       "<polyline clip-path=\"url(#clip715)\" style=\"stroke:#af0050; stroke-linecap:butt; stroke-linejoin:round; stroke-width:4; stroke-opacity:1; fill:none\" points=\"\n",
       "  4368.76,369.505 4512.76,369.505 \n",
       "  \"/>\n",
       "<polyline clip-path=\"url(#clip715)\" style=\"stroke:#bf0040; stroke-linecap:butt; stroke-linejoin:round; stroke-width:4; stroke-opacity:1; fill:none\" points=\"\n",
       "  4368.76,305.053 4512.76,305.053 \n",
       "  \"/>\n",
       "<polyline clip-path=\"url(#clip715)\" style=\"stroke:#cf0030; stroke-linecap:butt; stroke-linejoin:round; stroke-width:4; stroke-opacity:1; fill:none\" points=\"\n",
       "  4368.76,240.601 4512.76,240.601 \n",
       "  \"/>\n",
       "<polyline clip-path=\"url(#clip715)\" style=\"stroke:#df0020; stroke-linecap:butt; stroke-linejoin:round; stroke-width:4; stroke-opacity:1; fill:none\" points=\"\n",
       "  4368.76,176.149 4512.76,176.149 \n",
       "  \"/>\n",
       "<polyline clip-path=\"url(#clip715)\" style=\"stroke:#ef0010; stroke-linecap:butt; stroke-linejoin:round; stroke-width:4; stroke-opacity:1; fill:none\" points=\"\n",
       "  4368.76,111.696 4512.76,111.696 \n",
       "  \"/>\n",
       "<path clip-path=\"url(#clip710)\" d=\"M4596.7 956.212 Q4593.09 956.212 4591.26 959.777 Q4589.45 963.318 4589.45 970.448 Q4589.45 977.554 4591.26 981.119 Q4593.09 984.661 4596.7 984.661 Q4600.33 984.661 4602.14 981.119 Q4603.97 977.554 4603.97 970.448 Q4603.97 963.318 4602.14 959.777 Q4600.33 956.212 4596.7 956.212 M4596.7 952.508 Q4602.51 952.508 4605.57 957.115 Q4608.64 961.698 4608.64 970.448 Q4608.64 979.175 4605.57 983.781 Q4602.51 988.364 4596.7 988.364 Q4590.89 988.364 4587.81 983.781 Q4584.76 979.175 4584.76 970.448 Q4584.76 961.698 4587.81 957.115 Q4590.89 952.508 4596.7 952.508 Z\" fill=\"#000000\" fill-rule=\"evenodd\" fill-opacity=\"1\" /><path clip-path=\"url(#clip710)\" d=\"M4616.86 981.814 L4621.75 981.814 L4621.75 987.693 L4616.86 987.693 L4616.86 981.814 Z\" fill=\"#000000\" fill-rule=\"evenodd\" fill-opacity=\"1\" /><path clip-path=\"url(#clip710)\" d=\"M4632.74 983.758 L4640.38 983.758 L4640.38 957.392 L4632.07 959.059 L4632.07 954.8 L4640.33 953.133 L4645.01 953.133 L4645.01 983.758 L4652.65 983.758 L4652.65 987.693 L4632.74 987.693 L4632.74 983.758 Z\" fill=\"#000000\" fill-rule=\"evenodd\" fill-opacity=\"1\" /><path clip-path=\"url(#clip710)\" d=\"M4596.7 851.773 Q4593.09 851.773 4591.26 855.337 Q4589.45 858.879 4589.45 866.009 Q4589.45 873.115 4591.26 876.68 Q4593.09 880.222 4596.7 880.222 Q4600.33 880.222 4602.14 876.68 Q4603.97 873.115 4603.97 866.009 Q4603.97 858.879 4602.14 855.337 Q4600.33 851.773 4596.7 851.773 M4596.7 848.069 Q4602.51 848.069 4605.57 852.675 Q4608.64 857.259 4608.64 866.009 Q4608.64 874.736 4605.57 879.342 Q4602.51 883.925 4596.7 883.925 Q4590.89 883.925 4587.81 879.342 Q4584.76 874.736 4584.76 866.009 Q4584.76 857.259 4587.81 852.675 Q4590.89 848.069 4596.7 848.069 Z\" fill=\"#000000\" fill-rule=\"evenodd\" fill-opacity=\"1\" /><path clip-path=\"url(#clip710)\" d=\"M4616.86 877.374 L4621.75 877.374 L4621.75 883.254 L4616.86 883.254 L4616.86 877.374 Z\" fill=\"#000000\" fill-rule=\"evenodd\" fill-opacity=\"1\" /><path clip-path=\"url(#clip710)\" d=\"M4635.96 879.319 L4652.28 879.319 L4652.28 883.254 L4630.33 883.254 L4630.33 879.319 Q4633 876.564 4637.58 871.935 Q4642.19 867.282 4643.37 865.939 Q4645.61 863.416 4646.49 861.68 Q4647.39 859.921 4647.39 858.231 Q4647.39 855.476 4645.45 853.74 Q4643.53 852.004 4640.43 852.004 Q4638.23 852.004 4635.77 852.768 Q4633.34 853.532 4630.57 855.083 L4630.57 850.361 Q4633.39 849.226 4635.84 848.648 Q4638.3 848.069 4640.33 848.069 Q4645.7 848.069 4648.9 850.754 Q4652.09 853.439 4652.09 857.93 Q4652.09 860.06 4651.28 861.981 Q4650.5 863.879 4648.39 866.472 Q4647.81 867.143 4644.71 870.361 Q4641.61 873.555 4635.96 879.319 Z\" fill=\"#000000\" fill-rule=\"evenodd\" fill-opacity=\"1\" /><path clip-path=\"url(#clip710)\" d=\"M4596.7 747.333 Q4593.09 747.333 4591.26 750.898 Q4589.45 754.44 4589.45 761.569 Q4589.45 768.676 4591.26 772.241 Q4593.09 775.782 4596.7 775.782 Q4600.33 775.782 4602.14 772.241 Q4603.97 768.676 4603.97 761.569 Q4603.97 754.44 4602.14 750.898 Q4600.33 747.333 4596.7 747.333 M4596.7 743.63 Q4602.51 743.63 4605.57 748.236 Q4608.64 752.82 4608.64 761.569 Q4608.64 770.296 4605.57 774.903 Q4602.51 779.486 4596.7 779.486 Q4590.89 779.486 4587.81 774.903 Q4584.76 770.296 4584.76 761.569 Q4584.76 752.82 4587.81 748.236 Q4590.89 743.63 4596.7 743.63 Z\" fill=\"#000000\" fill-rule=\"evenodd\" fill-opacity=\"1\" /><path clip-path=\"url(#clip710)\" d=\"M4616.86 772.935 L4621.75 772.935 L4621.75 778.815 L4616.86 778.815 L4616.86 772.935 Z\" fill=\"#000000\" fill-rule=\"evenodd\" fill-opacity=\"1\" /><path clip-path=\"url(#clip710)\" d=\"M4646.1 760.181 Q4649.45 760.898 4651.33 763.167 Q4653.23 765.435 4653.23 768.769 Q4653.23 773.884 4649.71 776.685 Q4646.19 779.486 4639.71 779.486 Q4637.53 779.486 4635.22 779.046 Q4632.93 778.63 4630.47 777.773 L4630.47 773.259 Q4632.42 774.393 4634.73 774.972 Q4637.05 775.551 4639.57 775.551 Q4643.97 775.551 4646.26 773.815 Q4648.58 772.079 4648.58 768.769 Q4648.58 765.713 4646.42 764 Q4644.29 762.264 4640.47 762.264 L4636.45 762.264 L4636.45 758.421 L4640.66 758.421 Q4644.11 758.421 4645.94 757.056 Q4647.76 755.667 4647.76 753.074 Q4647.76 750.412 4645.87 749 Q4643.99 747.565 4640.47 747.565 Q4638.55 747.565 4636.35 747.982 Q4634.15 748.398 4631.51 749.278 L4631.51 745.111 Q4634.18 744.371 4636.49 744 Q4638.83 743.63 4640.89 743.63 Q4646.21 743.63 4649.32 746.06 Q4652.42 748.468 4652.42 752.588 Q4652.42 755.458 4650.77 757.449 Q4649.13 759.417 4646.1 760.181 Z\" fill=\"#000000\" fill-rule=\"evenodd\" fill-opacity=\"1\" /><path clip-path=\"url(#clip710)\" d=\"M4596.7 642.894 Q4593.09 642.894 4591.26 646.459 Q4589.45 650.001 4589.45 657.13 Q4589.45 664.237 4591.26 667.802 Q4593.09 671.343 4596.7 671.343 Q4600.33 671.343 4602.14 667.802 Q4603.97 664.237 4603.97 657.13 Q4603.97 650.001 4602.14 646.459 Q4600.33 642.894 4596.7 642.894 M4596.7 639.191 Q4602.51 639.191 4605.57 643.797 Q4608.64 648.38 4608.64 657.13 Q4608.64 665.857 4605.57 670.464 Q4602.51 675.047 4596.7 675.047 Q4590.89 675.047 4587.81 670.464 Q4584.76 665.857 4584.76 657.13 Q4584.76 648.38 4587.81 643.797 Q4590.89 639.191 4596.7 639.191 Z\" fill=\"#000000\" fill-rule=\"evenodd\" fill-opacity=\"1\" /><path clip-path=\"url(#clip710)\" d=\"M4616.86 668.496 L4621.75 668.496 L4621.75 674.376 L4616.86 674.376 L4616.86 668.496 Z\" fill=\"#000000\" fill-rule=\"evenodd\" fill-opacity=\"1\" /><path clip-path=\"url(#clip710)\" d=\"M4644.78 643.89 L4632.97 662.339 L4644.78 662.339 L4644.78 643.89 M4643.55 639.816 L4649.43 639.816 L4649.43 662.339 L4654.36 662.339 L4654.36 666.227 L4649.43 666.227 L4649.43 674.376 L4644.78 674.376 L4644.78 666.227 L4629.18 666.227 L4629.18 661.714 L4643.55 639.816 Z\" fill=\"#000000\" fill-rule=\"evenodd\" fill-opacity=\"1\" /><path clip-path=\"url(#clip710)\" d=\"M4596.7 538.455 Q4593.09 538.455 4591.26 542.02 Q4589.45 545.561 4589.45 552.691 Q4589.45 559.797 4591.26 563.362 Q4593.09 566.904 4596.7 566.904 Q4600.33 566.904 4602.14 563.362 Q4603.97 559.797 4603.97 552.691 Q4603.97 545.561 4602.14 542.02 Q4600.33 538.455 4596.7 538.455 M4596.7 534.751 Q4602.51 534.751 4605.57 539.358 Q4608.64 543.941 4608.64 552.691 Q4608.64 561.418 4605.57 566.024 Q4602.51 570.608 4596.7 570.608 Q4590.89 570.608 4587.81 566.024 Q4584.76 561.418 4584.76 552.691 Q4584.76 543.941 4587.81 539.358 Q4590.89 534.751 4596.7 534.751 Z\" fill=\"#000000\" fill-rule=\"evenodd\" fill-opacity=\"1\" /><path clip-path=\"url(#clip710)\" d=\"M4616.86 564.057 L4621.75 564.057 L4621.75 569.936 L4616.86 569.936 L4616.86 564.057 Z\" fill=\"#000000\" fill-rule=\"evenodd\" fill-opacity=\"1\" /><path clip-path=\"url(#clip710)\" d=\"M4631.98 535.376 L4650.33 535.376 L4650.33 539.311 L4636.26 539.311 L4636.26 547.784 Q4637.28 547.436 4638.3 547.274 Q4639.32 547.089 4640.33 547.089 Q4646.12 547.089 4649.5 550.261 Q4652.88 553.432 4652.88 558.848 Q4652.88 564.427 4649.41 567.529 Q4645.94 570.608 4639.62 570.608 Q4637.44 570.608 4635.17 570.237 Q4632.93 569.867 4630.52 569.126 L4630.52 564.427 Q4632.6 565.561 4634.83 566.117 Q4637.05 566.672 4639.52 566.672 Q4643.53 566.672 4645.87 564.566 Q4648.2 562.46 4648.2 558.848 Q4648.2 555.237 4645.87 553.131 Q4643.53 551.024 4639.52 551.024 Q4637.65 551.024 4635.77 551.441 Q4633.92 551.858 4631.98 552.737 L4631.98 535.376 Z\" fill=\"#000000\" fill-rule=\"evenodd\" fill-opacity=\"1\" /><path clip-path=\"url(#clip710)\" d=\"M4596.7 434.016 Q4593.09 434.016 4591.26 437.581 Q4589.45 441.122 4589.45 448.252 Q4589.45 455.358 4591.26 458.923 Q4593.09 462.465 4596.7 462.465 Q4600.33 462.465 4602.14 458.923 Q4603.97 455.358 4603.97 448.252 Q4603.97 441.122 4602.14 437.581 Q4600.33 434.016 4596.7 434.016 M4596.7 430.312 Q4602.51 430.312 4605.57 434.919 Q4608.64 439.502 4608.64 448.252 Q4608.64 456.979 4605.57 461.585 Q4602.51 466.168 4596.7 466.168 Q4590.89 466.168 4587.81 461.585 Q4584.76 456.979 4584.76 448.252 Q4584.76 439.502 4587.81 434.919 Q4590.89 430.312 4596.7 430.312 Z\" fill=\"#000000\" fill-rule=\"evenodd\" fill-opacity=\"1\" /><path clip-path=\"url(#clip710)\" d=\"M4616.86 459.618 L4621.75 459.618 L4621.75 465.497 L4616.86 465.497 L4616.86 459.618 Z\" fill=\"#000000\" fill-rule=\"evenodd\" fill-opacity=\"1\" /><path clip-path=\"url(#clip710)\" d=\"M4642.51 446.354 Q4639.36 446.354 4637.51 448.506 Q4635.68 450.659 4635.68 454.409 Q4635.68 458.136 4637.51 460.312 Q4639.36 462.465 4642.51 462.465 Q4645.66 462.465 4647.49 460.312 Q4649.34 458.136 4649.34 454.409 Q4649.34 450.659 4647.49 448.506 Q4645.66 446.354 4642.51 446.354 M4651.79 431.701 L4651.79 435.96 Q4650.03 435.127 4648.23 434.687 Q4646.45 434.247 4644.69 434.247 Q4640.06 434.247 4637.6 437.372 Q4635.17 440.497 4634.83 446.817 Q4636.19 444.803 4638.25 443.738 Q4640.31 442.65 4642.79 442.65 Q4648 442.65 4651.01 445.821 Q4654.04 448.969 4654.04 454.409 Q4654.04 459.733 4650.89 462.951 Q4647.74 466.168 4642.51 466.168 Q4636.51 466.168 4633.34 461.585 Q4630.17 456.979 4630.17 448.252 Q4630.17 440.057 4634.06 435.196 Q4637.95 430.312 4644.5 430.312 Q4646.26 430.312 4648.04 430.659 Q4649.85 431.007 4651.79 431.701 Z\" fill=\"#000000\" fill-rule=\"evenodd\" fill-opacity=\"1\" /><path clip-path=\"url(#clip710)\" d=\"M4596.7 329.577 Q4593.09 329.577 4591.26 333.141 Q4589.45 336.683 4589.45 343.813 Q4589.45 350.919 4591.26 354.484 Q4593.09 358.026 4596.7 358.026 Q4600.33 358.026 4602.14 354.484 Q4603.97 350.919 4603.97 343.813 Q4603.97 336.683 4602.14 333.141 Q4600.33 329.577 4596.7 329.577 M4596.7 325.873 Q4602.51 325.873 4605.57 330.479 Q4608.64 335.063 4608.64 343.813 Q4608.64 352.539 4605.57 357.146 Q4602.51 361.729 4596.7 361.729 Q4590.89 361.729 4587.81 357.146 Q4584.76 352.539 4584.76 343.813 Q4584.76 335.063 4587.81 330.479 Q4590.89 325.873 4596.7 325.873 Z\" fill=\"#000000\" fill-rule=\"evenodd\" fill-opacity=\"1\" /><path clip-path=\"url(#clip710)\" d=\"M4616.86 355.178 L4621.75 355.178 L4621.75 361.058 L4616.86 361.058 L4616.86 355.178 Z\" fill=\"#000000\" fill-rule=\"evenodd\" fill-opacity=\"1\" /><path clip-path=\"url(#clip710)\" d=\"M4630.75 326.498 L4652.97 326.498 L4652.97 328.489 L4640.43 361.058 L4635.54 361.058 L4647.35 330.433 L4630.75 330.433 L4630.75 326.498 Z\" fill=\"#000000\" fill-rule=\"evenodd\" fill-opacity=\"1\" /><path clip-path=\"url(#clip710)\" d=\"M4596.7 225.137 Q4593.09 225.137 4591.26 228.702 Q4589.45 232.244 4589.45 239.373 Q4589.45 246.48 4591.26 250.045 Q4593.09 253.586 4596.7 253.586 Q4600.33 253.586 4602.14 250.045 Q4603.97 246.48 4603.97 239.373 Q4603.97 232.244 4602.14 228.702 Q4600.33 225.137 4596.7 225.137 M4596.7 221.434 Q4602.51 221.434 4605.57 226.04 Q4608.64 230.623 4608.64 239.373 Q4608.64 248.1 4605.57 252.707 Q4602.51 257.29 4596.7 257.29 Q4590.89 257.29 4587.81 252.707 Q4584.76 248.1 4584.76 239.373 Q4584.76 230.623 4587.81 226.04 Q4590.89 221.434 4596.7 221.434 Z\" fill=\"#000000\" fill-rule=\"evenodd\" fill-opacity=\"1\" /><path clip-path=\"url(#clip710)\" d=\"M4616.86 250.739 L4621.75 250.739 L4621.75 256.619 L4616.86 256.619 L4616.86 250.739 Z\" fill=\"#000000\" fill-rule=\"evenodd\" fill-opacity=\"1\" /><path clip-path=\"url(#clip710)\" d=\"M4641.93 240.207 Q4638.6 240.207 4636.68 241.989 Q4634.78 243.772 4634.78 246.897 Q4634.78 250.021 4636.68 251.804 Q4638.6 253.586 4641.93 253.586 Q4645.26 253.586 4647.19 251.804 Q4649.11 249.998 4649.11 246.897 Q4649.11 243.772 4647.19 241.989 Q4645.29 240.207 4641.93 240.207 M4637.26 238.216 Q4634.25 237.475 4632.56 235.415 Q4630.89 233.355 4630.89 230.392 Q4630.89 226.248 4633.83 223.841 Q4636.79 221.434 4641.93 221.434 Q4647.09 221.434 4650.03 223.841 Q4652.97 226.248 4652.97 230.392 Q4652.97 233.355 4651.28 235.415 Q4649.62 237.475 4646.63 238.216 Q4650.01 239.003 4651.89 241.295 Q4653.78 243.586 4653.78 246.897 Q4653.78 251.92 4650.7 254.605 Q4647.65 257.29 4641.93 257.29 Q4636.21 257.29 4633.14 254.605 Q4630.08 251.92 4630.08 246.897 Q4630.08 243.586 4631.98 241.295 Q4633.88 239.003 4637.26 238.216 M4635.54 230.832 Q4635.54 233.517 4637.21 235.022 Q4638.9 236.526 4641.93 236.526 Q4644.94 236.526 4646.63 235.022 Q4648.34 233.517 4648.34 230.832 Q4648.34 228.147 4646.63 226.642 Q4644.94 225.137 4641.93 225.137 Q4638.9 225.137 4637.21 226.642 Q4635.54 228.147 4635.54 230.832 Z\" fill=\"#000000\" fill-rule=\"evenodd\" fill-opacity=\"1\" /><path clip-path=\"url(#clip710)\" d=\"M4596.7 120.698 Q4593.09 120.698 4591.26 124.263 Q4589.45 127.805 4589.45 134.934 Q4589.45 142.041 4591.26 145.605 Q4593.09 149.147 4596.7 149.147 Q4600.33 149.147 4602.14 145.605 Q4603.97 142.041 4603.97 134.934 Q4603.97 127.805 4602.14 124.263 Q4600.33 120.698 4596.7 120.698 M4596.7 116.994 Q4602.51 116.994 4605.57 121.601 Q4608.64 126.184 4608.64 134.934 Q4608.64 143.661 4605.57 148.267 Q4602.51 152.851 4596.7 152.851 Q4590.89 152.851 4587.81 148.267 Q4584.76 143.661 4584.76 134.934 Q4584.76 126.184 4587.81 121.601 Q4590.89 116.994 4596.7 116.994 Z\" fill=\"#000000\" fill-rule=\"evenodd\" fill-opacity=\"1\" /><path clip-path=\"url(#clip710)\" d=\"M4616.86 146.3 L4621.75 146.3 L4621.75 152.179 L4616.86 152.179 L4616.86 146.3 Z\" fill=\"#000000\" fill-rule=\"evenodd\" fill-opacity=\"1\" /><path clip-path=\"url(#clip710)\" d=\"M4632.07 151.462 L4632.07 147.203 Q4633.83 148.036 4635.64 148.476 Q4637.44 148.916 4639.18 148.916 Q4643.81 148.916 4646.24 145.814 Q4648.69 142.689 4649.04 136.346 Q4647.7 138.337 4645.64 139.402 Q4643.58 140.467 4641.08 140.467 Q4635.89 140.467 4632.86 137.342 Q4629.85 134.193 4629.85 128.754 Q4629.85 123.43 4633 120.212 Q4636.14 116.994 4641.38 116.994 Q4647.37 116.994 4650.52 121.601 Q4653.69 126.184 4653.69 134.934 Q4653.69 143.105 4649.8 147.99 Q4645.94 152.851 4639.39 152.851 Q4637.63 152.851 4635.82 152.504 Q4634.01 152.156 4632.07 151.462 M4641.38 136.809 Q4644.52 136.809 4646.35 134.656 Q4648.2 132.504 4648.2 128.754 Q4648.2 125.027 4646.35 122.874 Q4644.52 120.698 4641.38 120.698 Q4638.23 120.698 4636.38 122.874 Q4634.55 125.027 4634.55 128.754 Q4634.55 132.504 4636.38 134.656 Q4638.23 136.809 4641.38 136.809 Z\" fill=\"#000000\" fill-rule=\"evenodd\" fill-opacity=\"1\" /><polyline clip-path=\"url(#clip710)\" style=\"stroke:#000000; stroke-linecap:butt; stroke-linejoin:round; stroke-width:4; stroke-opacity:1; fill:none\" points=\"\n",
       "  4512.76,1078.48 4512.76,974.042 4560.76,974.042 4512.76,974.042 4512.76,869.603 4560.76,869.603 4512.76,869.603 4512.76,765.164 4560.76,765.164 4512.76,765.164 \n",
       "  4512.76,660.724 4560.76,660.724 4512.76,660.724 4512.76,556.285 4560.76,556.285 4512.76,556.285 4512.76,451.846 4560.76,451.846 4512.76,451.846 4512.76,347.407 \n",
       "  4560.76,347.407 4512.76,347.407 4512.76,242.967 4560.76,242.967 4512.76,242.967 4512.76,138.528 4560.76,138.528 4512.76,138.528 4512.76,47.2441 \n",
       "  \"/>\n",
       "</svg>\n"
      ]
     },
     "execution_count": 31,
     "metadata": {},
     "output_type": "execute_result"
    }
   ],
   "source": [
    "using StatsFuns: normcdf\n",
    "classification_map = map((x) -> normcdf(dot([1,1],x)), map((x) -> forward(inferred_model, [x...]), collect(Iterators.product(0:0.01:3, 0:0.01:1))))\n",
    "im1 = scatter(data_x[:,1], data_x[:,2], xlabel=\"gain 1\", ylabel=\"gain 2\", color=dat_to_col(data_y))\n",
    "im2 = scatter(data_x[:,1], data_x[:,2], xlabel=\"gain 1\", ylabel=\"gain 2\", color=cmap.(normcdf.(trans_data_x_2)))\n",
    "im3 = contour(0.0:0.1:2.5, 0.0:0.01:1, (x, y) -> normcdf(dot([1, 1], forward(inferred_model, [x, y]))), color=[\"blue\", \"red\"])\n",
    "plot(im1, im2, im3, legend=false, layout=(1, 3), size=(1200, 300))"
   ]
  },
  {
   "cell_type": "markdown",
   "id": "controlled-indonesian",
   "metadata": {},
   "source": [
    "## Planning\n",
    "Few things must be said about the planning stage. \n",
    "First of all, the idea of planning is a reverse problem to prefernce learning. \n",
    "Given the parameters of neural network, the goal prior for the appraisal (1.0) and an informative prior for the future context (we have an idea of how the environment evolves), we want to infer the most suitable gains.\n",
    "The evolution of the context will be based on HMM model, where the observations are \n",
    "\n",
    "For illustration purposes, we will first run the inference algorithm to obtain **z** and **x**. Secondly, we run our agent that proposes gains."
   ]
  },
  {
   "cell_type": "code",
   "execution_count": 32,
   "id": "engaged-partner",
   "metadata": {},
   "outputs": [
    {
     "data": {
      "text/plain": [
       "(KeepActor{Real}(Real[1.9221188598722625, 1.9221188598722625, 1.9221188598722625, 1.9221188598722625, 1.9221188598722625, 1.9221188598722625, 1.9221188598722625, 1.9221188598722625, 1.9221188598722625, 1.9221188598722625  …  1.9221188598722625, 1.9221188598722625, 1.9221188598722625, 1.9221188598722625, 1.9221188598722625, 1.9221188598722625, 1.9221188598722625, 1.9221188598722625, 1.9221188598722625, 1.9221188598722625]), Marginal(MvNormalWeightedMeanPrecision(\n",
       "xi: [70.00003974152825, 54.79758824475026]\n",
       "Λ: [104.53589482758065 1.088065623141739; 1.0880656231417394 100.26100402352036]\n",
       ")\n",
       "))"
      ]
     },
     "execution_count": 32,
     "metadata": {},
     "output_type": "execute_result"
    }
   ],
   "source": [
    "# test\n",
    "mgs, covgs = repeat([0.5], 2), 1e-2*diagm(ones(2))\n",
    "fe, gains = inference_flow_planner(mgs, covgs, 1.0, params)"
   ]
  },
  {
   "cell_type": "code",
   "execution_count": 33,
   "id": "copyrighted-semester",
   "metadata": {},
   "outputs": [],
   "source": [
    "test_files = get_sounds_fn(\"sound/AIDA/test/\");"
   ]
  },
  {
   "cell_type": "code",
   "execution_count": 43,
   "id": "hundred-destruction",
   "metadata": {},
   "outputs": [
    {
     "name": "stdout",
     "output_type": "stream",
     "text": [
      "sound/AIDA/test/babble/0dB/sp21_babble_sn0.wav\n"
     ]
    },
    {
     "name": "stderr",
     "output_type": "stream",
     "text": [
      "\u001b[32mProgress: 100%|█████████████████████████████████████████| Time: 0:05:27\u001b[39m\n"
     ]
    },
    {
     "name": "stdout",
     "output_type": "stream",
     "text": [
      "sound/AIDA/test/babble/0dB/sp22_babble_sn0.wav\n"
     ]
    },
    {
     "name": "stderr",
     "output_type": "stream",
     "text": [
      "\u001b[32mProgress: 100%|█████████████████████████████████████████| Time: 0:04:05\u001b[39m\n"
     ]
    },
    {
     "name": "stdout",
     "output_type": "stream",
     "text": [
      "sound/AIDA/test/babble/0dB/sp23_babble_sn0.wav\n"
     ]
    },
    {
     "name": "stderr",
     "output_type": "stream",
     "text": [
      "\u001b[32mProgress: 100%|█████████████████████████████████████████| Time: 0:03:35\u001b[39m\n"
     ]
    },
    {
     "name": "stdout",
     "output_type": "stream",
     "text": [
      "sound/AIDA/test/babble/0dB/sp24_babble_sn0.wav\n"
     ]
    },
    {
     "name": "stderr",
     "output_type": "stream",
     "text": [
      "\u001b[32mProgress: 100%|█████████████████████████████████████████| Time: 0:04:43\u001b[39m\n"
     ]
    },
    {
     "name": "stdout",
     "output_type": "stream",
     "text": [
      "sound/AIDA/test/babble/0dB/sp25_babble_sn0.wav\n"
     ]
    },
    {
     "name": "stderr",
     "output_type": "stream",
     "text": [
      "\u001b[32mProgress: 100%|█████████████████████████████████████████| Time: 0:04:19\u001b[39m\n"
     ]
    },
    {
     "name": "stdout",
     "output_type": "stream",
     "text": [
      "sound/AIDA/test/babble/0dB/sp26_babble_sn0.wav\n"
     ]
    },
    {
     "name": "stderr",
     "output_type": "stream",
     "text": [
      "\u001b[32mProgress: 100%|█████████████████████████████████████████| Time: 0:03:45\u001b[39m\n"
     ]
    },
    {
     "name": "stdout",
     "output_type": "stream",
     "text": [
      "sound/AIDA/test/babble/0dB/sp27_babble_sn0.wav\n"
     ]
    },
    {
     "name": "stderr",
     "output_type": "stream",
     "text": [
      "\u001b[32mProgress: 100%|█████████████████████████████████████████| Time: 0:04:35\u001b[39m\n"
     ]
    },
    {
     "name": "stdout",
     "output_type": "stream",
     "text": [
      "sound/AIDA/test/babble/0dB/sp28_babble_sn0.wav\n"
     ]
    },
    {
     "name": "stderr",
     "output_type": "stream",
     "text": [
      "\u001b[32mProgress: 100%|█████████████████████████████████████████| Time: 0:04:39\u001b[39m\n"
     ]
    },
    {
     "name": "stdout",
     "output_type": "stream",
     "text": [
      "sound/AIDA/test/babble/0dB/sp29_babble_sn0.wav\n"
     ]
    },
    {
     "name": "stderr",
     "output_type": "stream",
     "text": [
      "\u001b[32mProgress: 100%|█████████████████████████████████████████| Time: 0:04:02\u001b[39m\n"
     ]
    },
    {
     "name": "stdout",
     "output_type": "stream",
     "text": [
      "sound/AIDA/test/babble/0dB/sp30_babble_sn0.wav\n"
     ]
    },
    {
     "name": "stderr",
     "output_type": "stream",
     "text": [
      "\u001b[32mProgress: 100%|█████████████████████████████████████████| Time: 0:03:44\u001b[39m\n"
     ]
    },
    {
     "name": "stdout",
     "output_type": "stream",
     "text": [
      "sound/AIDA/test/train/0dB/sp21_train_sn0.wav\n"
     ]
    },
    {
     "name": "stderr",
     "output_type": "stream",
     "text": [
      "\u001b[32mProgress: 100%|█████████████████████████████████████████| Time: 0:05:13\u001b[39m\n"
     ]
    },
    {
     "name": "stdout",
     "output_type": "stream",
     "text": [
      "sound/AIDA/test/train/0dB/sp22_train_sn0.wav\n"
     ]
    },
    {
     "name": "stderr",
     "output_type": "stream",
     "text": [
      "\u001b[32mProgress: 100%|█████████████████████████████████████████| Time: 0:03:32\u001b[39m\n"
     ]
    },
    {
     "name": "stdout",
     "output_type": "stream",
     "text": [
      "sound/AIDA/test/train/0dB/sp23_train_sn0.wav\n"
     ]
    },
    {
     "name": "stderr",
     "output_type": "stream",
     "text": [
      "\u001b[32mProgress: 100%|█████████████████████████████████████████| Time: 0:03:36\u001b[39m\n"
     ]
    },
    {
     "name": "stdout",
     "output_type": "stream",
     "text": [
      "sound/AIDA/test/train/0dB/sp24_train_sn0.wav\n"
     ]
    },
    {
     "name": "stderr",
     "output_type": "stream",
     "text": [
      "\u001b[32mProgress: 100%|█████████████████████████████████████████| Time: 0:04:37\u001b[39m\n"
     ]
    },
    {
     "name": "stdout",
     "output_type": "stream",
     "text": [
      "sound/AIDA/test/train/0dB/sp25_train_sn0.wav\n"
     ]
    },
    {
     "name": "stderr",
     "output_type": "stream",
     "text": [
      "\u001b[32mProgress: 100%|█████████████████████████████████████████| Time: 0:04:05\u001b[39m\n"
     ]
    },
    {
     "name": "stdout",
     "output_type": "stream",
     "text": [
      "sound/AIDA/test/train/0dB/sp26_train_sn0.wav\n"
     ]
    },
    {
     "name": "stderr",
     "output_type": "stream",
     "text": [
      "\u001b[32mProgress: 100%|█████████████████████████████████████████| Time: 0:03:19\u001b[39m\n"
     ]
    },
    {
     "name": "stdout",
     "output_type": "stream",
     "text": [
      "sound/AIDA/test/train/0dB/sp27_train_sn0.wav\n"
     ]
    },
    {
     "name": "stderr",
     "output_type": "stream",
     "text": [
      "\u001b[32mProgress: 100%|█████████████████████████████████████████| Time: 0:03:18\u001b[39m\n"
     ]
    },
    {
     "name": "stdout",
     "output_type": "stream",
     "text": [
      "sound/AIDA/test/train/0dB/sp28_train_sn0.wav\n"
     ]
    },
    {
     "name": "stderr",
     "output_type": "stream",
     "text": [
      "\u001b[32mProgress: 100%|█████████████████████████████████████████| Time: 0:03:09\u001b[39m\n"
     ]
    },
    {
     "name": "stdout",
     "output_type": "stream",
     "text": [
      "sound/AIDA/test/train/0dB/sp29_train_sn0.wav\n"
     ]
    },
    {
     "name": "stderr",
     "output_type": "stream",
     "text": [
      "\u001b[32mProgress: 100%|█████████████████████████████████████████| Time: 0:03:30\u001b[39m\n"
     ]
    },
    {
     "name": "stdout",
     "output_type": "stream",
     "text": [
      "sound/AIDA/test/train/0dB/sp30_train_sn0.wav\n"
     ]
    },
    {
     "name": "stderr",
     "output_type": "stream",
     "text": [
      "\u001b[32mProgress: 100%|█████████████████████████████████████████| Time: 0:03:26\u001b[39m\n"
     ]
    }
   ],
   "source": [
    "# obtain HA output for test set (data for acting)\n",
    "using JLD\n",
    "# r for recovered\n",
    "for test_file in test_files\n",
    "    if !occursin(\".wav\", test_file)\n",
    "        continue\n",
    "    end\n",
    "    \n",
    "    speech, fs = WAV.wavread(test_file)\n",
    "    speech_seg = get_frames(speech, fs)\n",
    "    \n",
    "    # choose priors\n",
    "    # TODO: infer context\n",
    "    if occursin(\"/babble/\", test_file)\n",
    "        priors_eta = (bblmη_arr, bblvη_arr)\n",
    "        priors_tau = bblτ_arr\n",
    "    elseif occursin(\"/train/\", test_file)\n",
    "        priors_eta = (trmη_arr, trvη_arr)\n",
    "        priors_tau = trτ_arr\n",
    "    else\n",
    "        continue\n",
    "    end\n",
    "    println(test_file)\n",
    "    \n",
    "    # make sure that 1D of priors and speech_seg are equal\n",
    "    if size(priors_eta, 1) != size(speech_seg, 1)\n",
    "        totseg = size(speech_seg, 1)\n",
    "        priors_eta_m, priors_eta_v, priors_tau = prior_to_priors(priors_eta[1][1, :]', priors_eta[2][1, :, :], priors_tau[1], totseg)\n",
    "        priors_eta = priors_eta_m, priors_eta_v\n",
    "    end\n",
    "    rmz, rvz, rmθ, rvθ, rγ, rmx, rvx, rmη, rvη, rτ, fe, rmo = HA_algorithm(speech_seg, priors_eta, priors_tau, 10, 2, 10);\n",
    "    \n",
    "    JLD.save(\"sound/AIDA/separated_jld/test/\"*test_file[findfirst(\"sp\", test_file)[1]:end][1:end-3]*\"jld\",\n",
    "         \"rmz\", rmz, \"rvz\", rvz, \"rmθ\", rmθ, \"rvθ\", rvθ, \"rγ\", rγ, \n",
    "         \"rmx\", rmx, \"rvx\", rvx, \"rmη\", rmη, \"rvη\", rvη, \"rτ\", rτ,\n",
    "         \"fe\", fe, \"rmo\", rmo, \"filename\", test_file,\n",
    "         \"audio\", speech)\n",
    "end"
   ]
  },
  {
   "cell_type": "code",
   "execution_count": 34,
   "id": "continuous-prisoner",
   "metadata": {},
   "outputs": [],
   "source": [
    "test_jlds = get_sounds_fn(\"sound/AIDA/separated_jld/test/\");"
   ]
  },
  {
   "cell_type": "code",
   "execution_count": 37,
   "id": "primary-tribute",
   "metadata": {},
   "outputs": [
    {
     "data": {
      "text/plain": [
       "20-element Vector{Any}:\n",
       " \"sound/AIDA/separated_jld/test/sp29_babble_sn0.jld\"\n",
       " \"sound/AIDA/separated_jld/test/sp21_babble_sn0.jld\"\n",
       " \"sound/AIDA/separated_jld/test/sp22_train_sn0.jld\"\n",
       " \"sound/AIDA/separated_jld/test/sp22_babble_sn0.jld\"\n",
       " \"sound/AIDA/separated_jld/test/sp26_train_sn0.jld\"\n",
       " \"sound/AIDA/separated_jld/test/sp28_train_sn0.jld\"\n",
       " \"sound/AIDA/separated_jld/test/sp25_train_sn0.jld\"\n",
       " \"sound/AIDA/separated_jld/test/sp28_babble_sn0.jld\"\n",
       " \"sound/AIDA/separated_jld/test/sp24_train_sn0.jld\"\n",
       " \"sound/AIDA/separated_jld/test/sp27_babble_sn0.jld\"\n",
       " \"sound/AIDA/separated_jld/test/sp30_babble_sn0.jld\"\n",
       " \"sound/AIDA/separated_jld/test/sp24_babble_sn0.jld\"\n",
       " \"sound/AIDA/separated_jld/test/sp21_train_sn0.jld\"\n",
       " \"sound/AIDA/separated_jld/test/sp23_train_sn0.jld\"\n",
       " \"sound/AIDA/separated_jld/test/sp30_train_sn0.jld\"\n",
       " \"sound/AIDA/separated_jld/test/sp26_babble_sn0.jld\"\n",
       " \"sound/AIDA/separated_jld/test/sp23_babble_sn0.jld\"\n",
       " \"sound/AIDA/separated_jld/test/sp27_train_sn0.jld\"\n",
       " \"sound/AIDA/separated_jld/test/sp29_train_sn0.jld\"\n",
       " \"sound/AIDA/separated_jld/test/sp25_babble_sn0.jld\""
      ]
     },
     "execution_count": 37,
     "metadata": {},
     "output_type": "execute_result"
    }
   ],
   "source": [
    "shuffle!(test_jlds)"
   ]
  },
  {
   "cell_type": "code",
   "execution_count": 36,
   "id": "comic-watershed",
   "metadata": {},
   "outputs": [
    {
     "data": {
      "text/plain": [
       "Dict{String, Any} with 14 entries:\n",
       "  \"audio\"    => [0.0357982; 0.0463576; … ; 0.0561846; 0.0305185]\n",
       "  \"rvz\"      => [0.000636157 0.000395024 … 0.000352968 0.000392788; 0.00091129 …\n",
       "  \"rmz\"      => [0.0141683 0.018576 … 0.0109912 0.00266901; 0.0142426 0.0120205…\n",
       "  \"rvθ\"      => [0.00683489 -0.000595087 … 6.16575e-7 1.60723e-5; 0.00789193 -0…\n",
       "  \"rvη\"      => [0.0154174 -0.00370245; 0.0148583 -0.00430479; … ; 0.0144886 -0…\n",
       "  \"rmη\"      => [0.302686 -0.158365; 0.354431 -0.110905; … ; 0.341291 -0.018296…\n",
       "  \"rγ\"       => [(41.0, 0.0207038), (41.0, 0.0238062), (41.0, 0.0174049), (41.0…\n",
       "  \"fe\"       => [556.454 277.966 … -46.5285 -55.1719; 556.455 278.004 … -45.659…\n",
       "  \"rmo\"      => [0.0363736 0.0465442 … 0.0300146 0.00859702; 0.0307284 0.026081…\n",
       "  \"rmx\"      => [0.0222053 0.0279682 … 0.0190234 0.00592801; 0.0164858 0.014060…\n",
       "  \"rτ\"       => [(81.0, 0.0786265), (81.0, 0.0810069), (81.0, 0.074315), (81.0,…\n",
       "  \"filename\" => \"sound/AIDA/test/train/0dB/sp21_train_sn0.wav\"\n",
       "  \"rvx\"      => [0.000670542 0.000397013 … 0.000382323 0.000392403; 0.000951724…\n",
       "  \"rmθ\"      => [0.0870463 -0.0344324 … -0.00310039 -0.00032158; 0.156673 -0.04…"
      ]
     },
     "execution_count": 36,
     "metadata": {},
     "output_type": "execute_result"
    }
   ],
   "source": [
    "JLD.load(test_jlds[1])"
   ]
  },
  {
   "cell_type": "code",
   "execution_count": 41,
   "id": "central-kidney",
   "metadata": {},
   "outputs": [
    {
     "data": {
      "text/plain": [
       "Dict{Symbol, Vector{T} where T} with 3 entries:\n",
       "  :appraisals => [0.6, 0.0, 0.0, 0.7, 0.0, 1.0, 0.5, 0.2, 0.0, 0.8  …  0.6, 0.1…\n",
       "  :contexts   => [1.0, 1.0, 1.0, 0.0, 1.0, 0.0, 0.0, 1.0, 1.0, 0.0  …  0.0, 0.0…\n",
       "  :gains      => [[0.2, 0.7], [0.2, 0.7], [0.2, 0.7], [0.2, 0.7], [0.2, 0.7], […"
      ]
     },
     "execution_count": 41,
     "metadata": {},
     "output_type": "execute_result"
    }
   ],
   "source": [
    "active_dict = deepcopy(pl_dict)"
   ]
  },
  {
   "cell_type": "code",
   "execution_count": 46,
   "id": "veterinary-stack",
   "metadata": {},
   "outputs": [
    {
     "name": "stdout",
     "output_type": "stream",
     "text": [
      "How's HA output 0..1 ?\n"
     ]
    },
    {
     "name": "stdin",
     "output_type": "stream",
     "text": [
      "stdin>  0.2\n"
     ]
    },
    {
     "name": "stdout",
     "output_type": "stream",
     "text": [
      "How's HA output 0..1 ?\n"
     ]
    },
    {
     "name": "stdin",
     "output_type": "stream",
     "text": [
      "stdin>  0.0\n"
     ]
    },
    {
     "name": "stdout",
     "output_type": "stream",
     "text": [
      "How's HA output 0..1 ?\n"
     ]
    },
    {
     "name": "stdin",
     "output_type": "stream",
     "text": [
      "stdin>  0.0\n"
     ]
    },
    {
     "name": "stdout",
     "output_type": "stream",
     "text": [
      "How's HA output 0..1 ?\n"
     ]
    },
    {
     "name": "stdin",
     "output_type": "stream",
     "text": [
      "stdin>  0.2\n"
     ]
    },
    {
     "name": "stdout",
     "output_type": "stream",
     "text": [
      "How's HA output 0..1 ?\n"
     ]
    },
    {
     "name": "stdin",
     "output_type": "stream",
     "text": [
      "stdin>  0.0\n"
     ]
    },
    {
     "name": "stdout",
     "output_type": "stream",
     "text": [
      "How's HA output 0..1 ?\n"
     ]
    },
    {
     "name": "stdin",
     "output_type": "stream",
     "text": [
      "stdin>  0.2\n"
     ]
    },
    {
     "name": "stdout",
     "output_type": "stream",
     "text": [
      "How's HA output 0..1 ?\n"
     ]
    },
    {
     "name": "stdin",
     "output_type": "stream",
     "text": [
      "stdin>  0.1\n"
     ]
    },
    {
     "name": "stdout",
     "output_type": "stream",
     "text": [
      "How's HA output 0..1 ?\n"
     ]
    },
    {
     "name": "stdin",
     "output_type": "stream",
     "text": [
      "stdin>  0.1\n"
     ]
    },
    {
     "name": "stdout",
     "output_type": "stream",
     "text": [
      "How's HA output 0..1 ?\n"
     ]
    },
    {
     "name": "stdin",
     "output_type": "stream",
     "text": [
      "stdin>  0.0\n"
     ]
    },
    {
     "name": "stdout",
     "output_type": "stream",
     "text": [
      "How's HA output 0..1 ?\n"
     ]
    },
    {
     "name": "stdin",
     "output_type": "stream",
     "text": [
      "stdin>  0.7\n"
     ]
    },
    {
     "name": "stdout",
     "output_type": "stream",
     "text": [
      "How's HA output 0..1 ?\n"
     ]
    },
    {
     "name": "stdin",
     "output_type": "stream",
     "text": [
      "stdin>  0.8\n"
     ]
    },
    {
     "name": "stdout",
     "output_type": "stream",
     "text": [
      "How's HA output 0..1 ?\n"
     ]
    },
    {
     "name": "stdin",
     "output_type": "stream",
     "text": [
      "stdin>  0.5\n"
     ]
    },
    {
     "name": "stdout",
     "output_type": "stream",
     "text": [
      "How's HA output 0..1 ?\n"
     ]
    },
    {
     "name": "stdin",
     "output_type": "stream",
     "text": [
      "stdin>  0.3\n"
     ]
    },
    {
     "name": "stdout",
     "output_type": "stream",
     "text": [
      "How's HA output 0..1 ?\n"
     ]
    },
    {
     "name": "stdin",
     "output_type": "stream",
     "text": [
      "stdin>  0.4\n"
     ]
    },
    {
     "name": "stdout",
     "output_type": "stream",
     "text": [
      "How's HA output 0..1 ?\n"
     ]
    },
    {
     "name": "stdin",
     "output_type": "stream",
     "text": [
      "stdin>  0.4\n"
     ]
    },
    {
     "name": "stdout",
     "output_type": "stream",
     "text": [
      "How's HA output 0..1 ?\n"
     ]
    },
    {
     "name": "stdin",
     "output_type": "stream",
     "text": [
      "stdin>  0.4\n"
     ]
    },
    {
     "name": "stdout",
     "output_type": "stream",
     "text": [
      "How's HA output 0..1 ?\n"
     ]
    },
    {
     "name": "stdin",
     "output_type": "stream",
     "text": [
      "stdin>  0.1\n"
     ]
    },
    {
     "name": "stdout",
     "output_type": "stream",
     "text": [
      "How's HA output 0..1 ?\n"
     ]
    },
    {
     "name": "stdin",
     "output_type": "stream",
     "text": [
      "stdin>  0.2\n"
     ]
    },
    {
     "name": "stdout",
     "output_type": "stream",
     "text": [
      "How's HA output 0..1 ?\n"
     ]
    },
    {
     "name": "stdin",
     "output_type": "stream",
     "text": [
      "stdin>  0.1\n"
     ]
    },
    {
     "name": "stdout",
     "output_type": "stream",
     "text": [
      "How's HA output 0..1 ?\n"
     ]
    },
    {
     "name": "stdin",
     "output_type": "stream",
     "text": [
      "stdin>  0.1\n"
     ]
    }
   ],
   "source": [
    "# Here agent plans and learns\n",
    "gs = [0.5, 0.5]\n",
    "covgs = diageye(2)\n",
    "context = 0.5\n",
    "for test_jld in test_jlds\n",
    "    d = JLD.load(test_jld)\n",
    "    rmz, rmx = d[\"rmz\"], d[\"rmx\"]\n",
    "    filename = d[\"filename\"]\n",
    "    # TODO: context inference\n",
    "    if occursin(\"/babble/\", filename)\n",
    "        context = 1.0\n",
    "        params = Optim.minimizer(res_babble)\n",
    "        fe, gains = inference_flow_planner(gs, covgs, 1.0, params)\n",
    "    elseif occursin(\"/train/\", filename)\n",
    "        context = 0.0\n",
    "        params = Optim.minimizer(res_train)\n",
    "        fe, gains = inference_flow_planner(gs, covgs, 1.0, params)\n",
    "    else\n",
    "        continue\n",
    "    end\n",
    "    rz, rx = get_signal(rmz, fs), get_signal(rmx, fs)\n",
    "    # TODO change to the output of flow_nn\n",
    "    gs = mean(gains)\n",
    "    ha_out = gs[1] .* rz + gs[2] .* rx\n",
    "    \n",
    "    full_name = \"sound/AIDA/planning/ha_out_$(gs[1])_$(gs[2])_\"*filename[findfirst(\"sp\", filename)[1]:end]\n",
    "    WAV.wavwrite(ha_out, fs, full_name)\n",
    "    WAV.wavplay(full_name)\n",
    "    println(\"How's HA output 0..1 ?\")\n",
    "    appraisal = readline()\n",
    "    \n",
    "    # we can learn here as well. If the user provides a feedback to each proposal, we can feed this information back to our learning function.\n",
    "    push!(active_dict[:appraisals], parse(Float64, appraisal))\n",
    "    push!(active_dict[:gains], gs)\n",
    "    push!(active_dict[:contexts], context)\n",
    "end"
   ]
  },
  {
   "cell_type": "code",
   "execution_count": 60,
   "id": "employed-retirement",
   "metadata": {},
   "outputs": [
    {
     "data": {
      "text/plain": [
       "2-element Vector{Float64}:\n",
       " 1.0\n",
       " 0.0"
      ]
     },
     "execution_count": 60,
     "metadata": {},
     "output_type": "execute_result"
    }
   ],
   "source": [
    "# TODO: remove junk from active_dict"
   ]
  },
  {
   "cell_type": "code",
   "execution_count": 57,
   "id": "female-beginning",
   "metadata": {},
   "outputs": [
    {
     "name": "stdout",
     "output_type": "stream",
     "text": [
      "Iter     Function value   Gradient norm \n",
      "     0     1.209474e+04     6.701012e+03\n",
      " * time: 0.00010085105895996094\n",
      "     1     3.251034e+03     2.362342e+03\n",
      " * time: 0.32674694061279297\n",
      "     2     4.804030e+02     4.138629e+02\n",
      " * time: 0.47789788246154785\n",
      "     3     2.772470e+02     1.262527e+02\n",
      " * time: 0.6343679428100586\n",
      "     4     2.525020e+02     1.375445e+02\n",
      " * time: 0.7901079654693604\n",
      "     5     2.398343e+02     1.007449e+02\n",
      " * time: 0.9000217914581299\n",
      "     6     2.303162e+02     6.324120e+01\n",
      " * time: 1.067605972290039\n",
      "     7     2.241098e+02     1.563470e+02\n",
      " * time: 1.227712869644165\n",
      "     8     1.785655e+02     1.891067e+02\n",
      " * time: 1.433762788772583\n",
      "     9     1.742830e+02     1.427989e+02\n",
      " * time: 1.5871319770812988\n",
      "    10     1.641674e+02     1.360540e+02\n",
      " * time: 1.7534849643707275\n",
      "    11     1.611405e+02     6.436318e+01\n",
      " * time: 1.9063308238983154\n",
      "    12     1.593350e+02     3.289795e+01\n",
      " * time: 2.1091527938842773\n",
      "    13     1.570431e+02     4.289117e+01\n",
      " * time: 2.4023489952087402\n",
      "    14     1.552845e+02     5.672014e+01\n",
      " * time: 2.629396915435791\n",
      "    15     1.535678e+02     3.004312e+01\n",
      " * time: 2.824270009994507\n",
      "    16     1.502135e+02     3.161627e+01\n",
      " * time: 3.108253002166748\n",
      "    17     1.491644e+02     4.933280e+01\n",
      " * time: 3.336146831512451\n",
      "    18     1.480721e+02     9.969766e+01\n",
      " * time: 3.56630277633667\n",
      "    19     1.467182e+02     2.598433e+01\n",
      " * time: 3.7419707775115967\n",
      "    20     1.464697e+02     2.117633e+01\n",
      " * time: 3.9591097831726074\n",
      "    21     1.446382e+02     2.503022e+01\n",
      " * time: 4.11702299118042\n",
      "    22     1.445875e+02     1.508722e+01\n",
      " * time: 8.188669919967651\n",
      "    23     1.424635e+02     2.606515e+01\n",
      " * time: 8.304382801055908\n",
      "    24     1.419762e+02     2.666860e+01\n",
      " * time: 10.150467872619629\n",
      "    25     1.419762e+02     2.666860e+01\n",
      " * time: 15.848605871200562\n"
     ]
    }
   ],
   "source": [
    "data_x, data_y = get_learning_data(active_dict, 0.0)\n",
    "res_train = optimize(f, randn(12), LBFGS(), Optim.Options(store_trace = false, show_trace = true, f_tol=1e-10), autodiff=:forward);"
   ]
  },
  {
   "cell_type": "code",
   "execution_count": 56,
   "id": "tutorial-financing",
   "metadata": {},
   "outputs": [
    {
     "name": "stdout",
     "output_type": "stream",
     "text": [
      "Iter     Function value   Gradient norm \n",
      "     0     1.896678e+04     8.453586e+03\n",
      " * time: 0.00014781951904296875\n",
      "     1     3.031413e+03     8.696211e+03\n",
      " * time: 0.3738739490509033\n",
      "     2     1.408799e+03     2.492577e+03\n",
      " * time: 0.6177668571472168\n",
      "     3     5.303161e+02     8.336671e+02\n",
      " * time: 0.8022058010101318\n",
      "     4     4.764814e+02     3.304571e+02\n",
      " * time: 0.9433548450469971\n",
      "     5     3.480734e+02     3.894615e+02\n",
      " * time: 1.1286427974700928\n",
      "     6     2.893697e+02     4.497519e+02\n",
      " * time: 1.2758409976959229\n",
      "     7     2.449295e+02     1.305892e+02\n",
      " * time: 1.3842239379882812\n",
      "     8     2.380654e+02     4.238580e+02\n",
      " * time: 1.4889748096466064\n",
      "     9     2.165718e+02     2.677151e+02\n",
      " * time: 1.6860268115997314\n",
      "    10     1.933184e+02     5.339142e+01\n",
      " * time: 1.8787009716033936\n",
      "    11     1.878039e+02     8.013747e+01\n",
      " * time: 2.0669097900390625\n",
      "    12     1.780145e+02     1.062218e+02\n",
      " * time: 2.22525691986084\n",
      "    13     1.747833e+02     1.138836e+02\n",
      " * time: 2.4210047721862793\n",
      "    14     1.735816e+02     2.816416e+01\n",
      " * time: 2.518044948577881\n",
      "    15     1.730951e+02     1.230745e+01\n",
      " * time: 2.707246780395508\n",
      "    16     1.704127e+02     9.050428e+01\n",
      " * time: 2.948678970336914\n",
      "    17     1.693437e+02     1.304008e+02\n",
      " * time: 3.0966169834136963\n",
      "    18     1.656864e+02     2.115845e+02\n",
      " * time: 3.2533998489379883\n",
      "    19     1.601554e+02     4.334684e+01\n",
      " * time: 3.443372964859009\n",
      "    20     1.569727e+02     8.468771e+01\n",
      " * time: 3.544466972351074\n",
      "    21     1.566665e+02     3.159573e+01\n",
      " * time: 3.6858057975769043\n",
      "    22     1.564848e+02     3.299761e+01\n",
      " * time: 3.87959885597229\n",
      "    23     1.563280e+02     3.649800e+01\n",
      " * time: 3.982449769973755\n",
      "    24     1.561651e+02     2.310450e+01\n",
      " * time: 4.180693864822388\n",
      "    25     1.561058e+02     1.115830e+01\n",
      " * time: 4.390478849411011\n",
      "    26     1.553305e+02     7.007924e+01\n",
      " * time: 4.58139181137085\n",
      "    27     1.530822e+02     8.730666e+01\n",
      " * time: 4.762662887573242\n",
      "    28     1.514268e+02     3.952285e+01\n",
      " * time: 4.896990776062012\n",
      "    29     1.508790e+02     2.382480e+01\n",
      " * time: 4.995876789093018\n",
      "    30     1.505092e+02     5.441396e+01\n",
      " * time: 5.212882995605469\n",
      "    31     1.501766e+02     4.505413e+01\n",
      " * time: 5.405096769332886\n",
      "    32     1.487040e+02     5.612170e+01\n",
      " * time: 5.56895899772644\n",
      "    33     1.478817e+02     1.740179e+02\n",
      " * time: 5.7168920040130615\n",
      "    34     1.471423e+02     1.985316e+01\n",
      " * time: 5.825103998184204\n",
      "    35     1.468871e+02     6.126335e+01\n",
      " * time: 6.0303308963775635\n",
      "    36     1.466376e+02     1.288333e+01\n",
      " * time: 6.24448299407959\n",
      "    37     1.465648e+02     8.078679e+00\n",
      " * time: 6.396607875823975\n",
      "    38     1.465261e+02     1.561229e+01\n",
      " * time: 6.5595269203186035\n",
      "    39     1.462658e+02     7.157852e+01\n",
      " * time: 6.70043683052063\n",
      "    40     1.447683e+02     2.212272e+01\n",
      " * time: 6.95259690284729\n",
      "    41     1.436364e+02     3.302499e+01\n",
      " * time: 7.10784387588501\n",
      "    42     1.434897e+02     3.374554e+01\n",
      " * time: 7.212215900421143\n",
      "    43     1.424184e+02     2.650659e+01\n",
      " * time: 7.3661208152771\n",
      "    44     1.415319e+02     5.452722e+01\n",
      " * time: 7.468862771987915\n",
      "    45     1.414112e+02     2.762370e+01\n",
      " * time: 7.611975908279419\n",
      "    46     1.413041e+02     2.569365e+01\n",
      " * time: 7.712101936340332\n",
      "    47     1.412178e+02     2.364929e+01\n",
      " * time: 7.859717845916748\n",
      "    48     1.411152e+02     2.237926e+01\n",
      " * time: 7.968480825424194\n",
      "    49     1.409610e+02     1.323769e+01\n",
      " * time: 8.104213953018188\n",
      "    50     1.407304e+02     4.327537e+01\n",
      " * time: 8.330196857452393\n",
      "    51     1.404886e+02     1.042517e+02\n",
      " * time: 8.88100290298462\n",
      "    52     1.403204e+02     1.916788e+02\n",
      " * time: 10.453919887542725\n",
      "    53     1.386953e+02     2.068284e+02\n",
      " * time: 10.597869873046875\n",
      "    54     1.358701e+02     2.873809e+02\n",
      " * time: 10.846248865127563\n",
      "    55     1.353717e+02     3.004338e+02\n",
      " * time: 11.099190950393677\n",
      "    56     1.308228e+02     2.348572e+02\n",
      " * time: 11.299532890319824\n",
      "    57     1.297576e+02     1.234912e+02\n",
      " * time: 11.452619791030884\n",
      "    58     1.262455e+02     1.426839e+02\n",
      " * time: 11.6335129737854\n",
      "    59     1.262403e+02     1.364198e+02\n",
      " * time: 14.781839847564697\n",
      "    60     1.233068e+02     2.061390e+02\n",
      " * time: 14.980287790298462\n",
      "    61     1.215724e+02     2.067312e+02\n",
      " * time: 18.318078994750977\n",
      "    62     1.195547e+02     2.045281e+02\n",
      " * time: 21.81609082221985\n",
      "    63     1.195547e+02     2.045281e+02\n",
      " * time: 27.353206872940063\n"
     ]
    },
    {
     "data": {
      "text/plain": [
       " * Status: success\n",
       "\n",
       " * Candidate solution\n",
       "    Final objective value:     1.195547e+02\n",
       "\n",
       " * Found with\n",
       "    Algorithm:     L-BFGS\n",
       "\n",
       " * Convergence measures\n",
       "    |x - x'|               = 0.00e+00 ≤ 0.0e+00\n",
       "    |x - x'|/|x'|          = 0.00e+00 ≤ 0.0e+00\n",
       "    |f(x) - f(x')|         = 0.00e+00 ≤ 0.0e+00\n",
       "    |f(x) - f(x')|/|f(x')| = 0.00e+00 ≤ 1.0e-10\n",
       "    |g(x)|                 = 2.05e+02 ≰ 1.0e-08\n",
       "\n",
       " * Work counters\n",
       "    Seconds run:   27  (vs limit Inf)\n",
       "    Iterations:    63\n",
       "    f(x) calls:    448\n",
       "    ∇f(x) calls:   448\n"
      ]
     },
     "execution_count": 56,
     "metadata": {},
     "output_type": "execute_result"
    }
   ],
   "source": [
    "data_x, data_y = get_learning_data(active_dict, 1.0)\n",
    "res_babble = optimize(f, randn(12), LBFGS(), Optim.Options(store_trace = false, show_trace = true, f_tol=1e-10), autodiff=:forward)"
   ]
  },
  {
   "cell_type": "code",
   "execution_count": 59,
   "id": "acknowledged-capital",
   "metadata": {},
   "outputs": [
    {
     "data": {
      "image/svg+xml": [
       "<?xml version=\"1.0\" encoding=\"utf-8\"?>\n",
       "<svg xmlns=\"http://www.w3.org/2000/svg\" xmlns:xlink=\"http://www.w3.org/1999/xlink\" width=\"1200\" height=\"300\" viewBox=\"0 0 4800 1200\">\n",
       "<defs>\n",
       "  <clipPath id=\"clip990\">\n",
       "    <rect x=\"0\" y=\"0\" width=\"4800\" height=\"1200\"/>\n",
       "  </clipPath>\n",
       "</defs>\n",
       "<path clip-path=\"url(#clip990)\" d=\"\n",
       "M0 1200 L4800 1200 L4800 0 L0 0  Z\n",
       "  \" fill=\"#ffffff\" fill-rule=\"evenodd\" fill-opacity=\"1\"/>\n",
       "<defs>\n",
       "  <clipPath id=\"clip991\">\n",
       "    <rect x=\"960\" y=\"0\" width=\"3361\" height=\"1200\"/>\n",
       "  </clipPath>\n",
       "</defs>\n",
       "<path clip-path=\"url(#clip990)\" d=\"\n",
       "M205.046 1078.48 L1561.07 1078.48 L1561.07 47.2441 L205.046 47.2441  Z\n",
       "  \" fill=\"#ffffff\" fill-rule=\"evenodd\" fill-opacity=\"1\"/>\n",
       "<defs>\n",
       "  <clipPath id=\"clip992\">\n",
       "    <rect x=\"205\" y=\"47\" width=\"1357\" height=\"1032\"/>\n",
       "  </clipPath>\n",
       "</defs>\n",
       "<polyline clip-path=\"url(#clip992)\" style=\"stroke:#000000; stroke-linecap:butt; stroke-linejoin:round; stroke-width:2; stroke-opacity:0.1; fill:none\" points=\"\n",
       "  327.934,1078.48 327.934,47.2441 \n",
       "  \"/>\n",
       "<polyline clip-path=\"url(#clip992)\" style=\"stroke:#000000; stroke-linecap:butt; stroke-linejoin:round; stroke-width:2; stroke-opacity:0.1; fill:none\" points=\"\n",
       "  611.278,1078.48 611.278,47.2441 \n",
       "  \"/>\n",
       "<polyline clip-path=\"url(#clip992)\" style=\"stroke:#000000; stroke-linecap:butt; stroke-linejoin:round; stroke-width:2; stroke-opacity:0.1; fill:none\" points=\"\n",
       "  894.622,1078.48 894.622,47.2441 \n",
       "  \"/>\n",
       "<polyline clip-path=\"url(#clip992)\" style=\"stroke:#000000; stroke-linecap:butt; stroke-linejoin:round; stroke-width:2; stroke-opacity:0.1; fill:none\" points=\"\n",
       "  1177.97,1078.48 1177.97,47.2441 \n",
       "  \"/>\n",
       "<polyline clip-path=\"url(#clip992)\" style=\"stroke:#000000; stroke-linecap:butt; stroke-linejoin:round; stroke-width:2; stroke-opacity:0.1; fill:none\" points=\"\n",
       "  1461.31,1078.48 1461.31,47.2441 \n",
       "  \"/>\n",
       "<polyline clip-path=\"url(#clip990)\" style=\"stroke:#000000; stroke-linecap:butt; stroke-linejoin:round; stroke-width:4; stroke-opacity:1; fill:none\" points=\"\n",
       "  205.046,1078.48 1561.07,1078.48 \n",
       "  \"/>\n",
       "<polyline clip-path=\"url(#clip990)\" style=\"stroke:#000000; stroke-linecap:butt; stroke-linejoin:round; stroke-width:4; stroke-opacity:1; fill:none\" points=\"\n",
       "  327.934,1078.48 327.934,1059.58 \n",
       "  \"/>\n",
       "<polyline clip-path=\"url(#clip990)\" style=\"stroke:#000000; stroke-linecap:butt; stroke-linejoin:round; stroke-width:4; stroke-opacity:1; fill:none\" points=\"\n",
       "  611.278,1078.48 611.278,1059.58 \n",
       "  \"/>\n",
       "<polyline clip-path=\"url(#clip990)\" style=\"stroke:#000000; stroke-linecap:butt; stroke-linejoin:round; stroke-width:4; stroke-opacity:1; fill:none\" points=\"\n",
       "  894.622,1078.48 894.622,1059.58 \n",
       "  \"/>\n",
       "<polyline clip-path=\"url(#clip990)\" style=\"stroke:#000000; stroke-linecap:butt; stroke-linejoin:round; stroke-width:4; stroke-opacity:1; fill:none\" points=\"\n",
       "  1177.97,1078.48 1177.97,1059.58 \n",
       "  \"/>\n",
       "<polyline clip-path=\"url(#clip990)\" style=\"stroke:#000000; stroke-linecap:butt; stroke-linejoin:round; stroke-width:4; stroke-opacity:1; fill:none\" points=\"\n",
       "  1461.31,1078.48 1461.31,1059.58 \n",
       "  \"/>\n",
       "<path clip-path=\"url(#clip990)\" d=\"M297.691 1141.52 L327.367 1141.52 L327.367 1145.46 L297.691 1145.46 L297.691 1141.52 Z\" fill=\"#000000\" fill-rule=\"evenodd\" fill-opacity=\"1\" /><path clip-path=\"url(#clip990)\" d=\"M338.27 1154.42 L345.909 1154.42 L345.909 1128.05 L337.599 1129.72 L337.599 1125.46 L345.862 1123.79 L350.538 1123.79 L350.538 1154.42 L358.177 1154.42 L358.177 1158.35 L338.27 1158.35 L338.27 1154.42 Z\" fill=\"#000000\" fill-rule=\"evenodd\" fill-opacity=\"1\" /><path clip-path=\"url(#clip990)\" d=\"M611.278 1126.87 Q607.667 1126.87 605.838 1130.44 Q604.033 1133.98 604.033 1141.11 Q604.033 1148.21 605.838 1151.78 Q607.667 1155.32 611.278 1155.32 Q614.912 1155.32 616.718 1151.78 Q618.547 1148.21 618.547 1141.11 Q618.547 1133.98 616.718 1130.44 Q614.912 1126.87 611.278 1126.87 M611.278 1123.17 Q617.088 1123.17 620.144 1127.77 Q623.223 1132.36 623.223 1141.11 Q623.223 1149.83 620.144 1154.44 Q617.088 1159.02 611.278 1159.02 Q605.468 1159.02 602.389 1154.44 Q599.334 1149.83 599.334 1141.11 Q599.334 1132.36 602.389 1127.77 Q605.468 1123.17 611.278 1123.17 Z\" fill=\"#000000\" fill-rule=\"evenodd\" fill-opacity=\"1\" /><path clip-path=\"url(#clip990)\" d=\"M885.004 1154.42 L892.643 1154.42 L892.643 1128.05 L884.333 1129.72 L884.333 1125.46 L892.597 1123.79 L897.273 1123.79 L897.273 1154.42 L904.911 1154.42 L904.911 1158.35 L885.004 1158.35 L885.004 1154.42 Z\" fill=\"#000000\" fill-rule=\"evenodd\" fill-opacity=\"1\" /><path clip-path=\"url(#clip990)\" d=\"M1172.62 1154.42 L1188.94 1154.42 L1188.94 1158.35 L1166.99 1158.35 L1166.99 1154.42 Q1169.66 1151.66 1174.24 1147.03 Q1178.85 1142.38 1180.03 1141.04 Q1182.27 1138.51 1183.15 1136.78 Q1184.05 1135.02 1184.05 1133.33 Q1184.05 1130.57 1182.11 1128.84 Q1180.19 1127.1 1177.09 1127.1 Q1174.89 1127.1 1172.43 1127.87 Q1170 1128.63 1167.23 1130.18 L1167.23 1125.46 Q1170.05 1124.32 1172.5 1123.75 Q1174.96 1123.17 1176.99 1123.17 Q1182.36 1123.17 1185.56 1125.85 Q1188.75 1128.54 1188.75 1133.03 Q1188.75 1135.16 1187.94 1137.08 Q1187.16 1138.98 1185.05 1141.57 Q1184.47 1142.24 1181.37 1145.46 Q1178.27 1148.65 1172.62 1154.42 Z\" fill=\"#000000\" fill-rule=\"evenodd\" fill-opacity=\"1\" /><path clip-path=\"url(#clip990)\" d=\"M1465.56 1139.72 Q1468.91 1140.44 1470.79 1142.7 Q1472.69 1144.97 1472.69 1148.31 Q1472.69 1153.42 1469.17 1156.22 Q1465.65 1159.02 1459.17 1159.02 Q1456.99 1159.02 1454.68 1158.58 Q1452.39 1158.17 1449.93 1157.31 L1449.93 1152.8 Q1451.88 1153.93 1454.19 1154.51 Q1456.51 1155.09 1459.03 1155.09 Q1463.43 1155.09 1465.72 1153.35 Q1468.03 1151.62 1468.03 1148.31 Q1468.03 1145.25 1465.88 1143.54 Q1463.75 1141.8 1459.93 1141.8 L1455.9 1141.8 L1455.9 1137.96 L1460.12 1137.96 Q1463.57 1137.96 1465.4 1136.59 Q1467.22 1135.2 1467.22 1132.61 Q1467.22 1129.95 1465.33 1128.54 Q1463.45 1127.1 1459.93 1127.1 Q1458.01 1127.1 1455.81 1127.52 Q1453.61 1127.94 1450.97 1128.81 L1450.97 1124.65 Q1453.64 1123.91 1455.95 1123.54 Q1458.29 1123.17 1460.35 1123.17 Q1465.67 1123.17 1468.78 1125.6 Q1471.88 1128 1471.88 1132.13 Q1471.88 1135 1470.23 1136.99 Q1468.59 1138.95 1465.56 1139.72 Z\" fill=\"#000000\" fill-rule=\"evenodd\" fill-opacity=\"1\" /><path clip-path=\"url(#clip990)\" d=\"M812.397 1241.11 Q812.397 1234.74 809.755 1231.24 Q807.146 1227.74 802.403 1227.74 Q797.692 1227.74 795.051 1231.24 Q792.441 1234.74 792.441 1241.11 Q792.441 1247.44 795.051 1250.94 Q797.692 1254.44 802.403 1254.44 Q807.146 1254.44 809.755 1250.94 Q812.397 1247.44 812.397 1241.11 M818.254 1254.92 Q818.254 1264.02 814.211 1268.45 Q810.169 1272.9 801.83 1272.9 Q798.743 1272.9 796.006 1272.43 Q793.268 1271.98 790.69 1271.02 L790.69 1265.33 Q793.268 1266.73 795.783 1267.4 Q798.297 1268.06 800.907 1268.06 Q806.668 1268.06 809.533 1265.04 Q812.397 1262.05 812.397 1255.97 L812.397 1253.07 Q810.583 1256.22 807.75 1257.78 Q804.918 1259.34 800.971 1259.34 Q794.414 1259.34 790.404 1254.35 Q786.393 1249.35 786.393 1241.11 Q786.393 1232.83 790.404 1227.83 Q794.414 1222.84 800.971 1222.84 Q804.918 1222.84 807.75 1224.4 Q810.583 1225.96 812.397 1229.11 L812.397 1223.7 L818.254 1223.7 L818.254 1254.92 Z\" fill=\"#000000\" fill-rule=\"evenodd\" fill-opacity=\"1\" /><path clip-path=\"url(#clip990)\" d=\"M846.517 1241.42 Q839.42 1241.42 836.682 1243.05 Q833.945 1244.67 833.945 1248.59 Q833.945 1251.7 835.982 1253.55 Q838.051 1255.37 841.584 1255.37 Q846.454 1255.37 849.382 1251.93 Q852.342 1248.46 852.342 1242.73 L852.342 1241.42 L846.517 1241.42 M858.198 1239.01 L858.198 1259.34 L852.342 1259.34 L852.342 1253.93 Q850.337 1257.18 847.345 1258.74 Q844.353 1260.27 840.024 1260.27 Q834.55 1260.27 831.303 1257.21 Q828.089 1254.12 828.089 1248.97 Q828.089 1242.95 832.099 1239.9 Q836.141 1236.84 844.13 1236.84 L852.342 1236.84 L852.342 1236.27 Q852.342 1232.23 849.668 1230.03 Q847.027 1227.8 842.221 1227.8 Q839.165 1227.8 836.269 1228.53 Q833.372 1229.27 830.699 1230.73 L830.699 1225.32 Q833.913 1224.08 836.937 1223.47 Q839.961 1222.84 842.825 1222.84 Q850.56 1222.84 854.379 1226.85 Q858.198 1230.86 858.198 1239.01 Z\" fill=\"#000000\" fill-rule=\"evenodd\" fill-opacity=\"1\" /><path clip-path=\"url(#clip990)\" d=\"M870.261 1223.7 L876.118 1223.7 L876.118 1259.34 L870.261 1259.34 L870.261 1223.7 M870.261 1209.82 L876.118 1209.82 L876.118 1217.23 L870.261 1217.23 L870.261 1209.82 Z\" fill=\"#000000\" fill-rule=\"evenodd\" fill-opacity=\"1\" /><path clip-path=\"url(#clip990)\" d=\"M918.004 1237.83 L918.004 1259.34 L912.148 1259.34 L912.148 1238.02 Q912.148 1232.96 910.174 1230.44 Q908.201 1227.93 904.254 1227.93 Q899.512 1227.93 896.775 1230.95 Q894.037 1233.98 894.037 1239.2 L894.037 1259.34 L888.149 1259.34 L888.149 1223.7 L894.037 1223.7 L894.037 1229.23 Q896.138 1226.02 898.971 1224.43 Q901.835 1222.84 905.559 1222.84 Q911.702 1222.84 914.853 1226.66 Q918.004 1230.44 918.004 1237.83 Z\" fill=\"#000000\" fill-rule=\"evenodd\" fill-opacity=\"1\" /><path clip-path=\"url(#clip990)\" d=\"M952.347 1253.93 L962.851 1253.93 L962.851 1217.68 L951.424 1219.97 L951.424 1214.12 L962.787 1211.82 L969.216 1211.82 L969.216 1253.93 L979.72 1253.93 L979.72 1259.34 L952.347 1259.34 L952.347 1253.93 Z\" fill=\"#000000\" fill-rule=\"evenodd\" fill-opacity=\"1\" /><polyline clip-path=\"url(#clip992)\" style=\"stroke:#000000; stroke-linecap:butt; stroke-linejoin:round; stroke-width:2; stroke-opacity:0.1; fill:none\" points=\"\n",
       "  205.046,1056.51 1561.07,1056.51 \n",
       "  \"/>\n",
       "<polyline clip-path=\"url(#clip992)\" style=\"stroke:#000000; stroke-linecap:butt; stroke-linejoin:round; stroke-width:2; stroke-opacity:0.1; fill:none\" points=\"\n",
       "  205.046,778.024 1561.07,778.024 \n",
       "  \"/>\n",
       "<polyline clip-path=\"url(#clip992)\" style=\"stroke:#000000; stroke-linecap:butt; stroke-linejoin:round; stroke-width:2; stroke-opacity:0.1; fill:none\" points=\"\n",
       "  205.046,499.541 1561.07,499.541 \n",
       "  \"/>\n",
       "<polyline clip-path=\"url(#clip992)\" style=\"stroke:#000000; stroke-linecap:butt; stroke-linejoin:round; stroke-width:2; stroke-opacity:0.1; fill:none\" points=\"\n",
       "  205.046,221.059 1561.07,221.059 \n",
       "  \"/>\n",
       "<polyline clip-path=\"url(#clip990)\" style=\"stroke:#000000; stroke-linecap:butt; stroke-linejoin:round; stroke-width:4; stroke-opacity:1; fill:none\" points=\"\n",
       "  205.046,1078.48 205.046,47.2441 \n",
       "  \"/>\n",
       "<polyline clip-path=\"url(#clip990)\" style=\"stroke:#000000; stroke-linecap:butt; stroke-linejoin:round; stroke-width:4; stroke-opacity:1; fill:none\" points=\"\n",
       "  205.046,1056.51 223.944,1056.51 \n",
       "  \"/>\n",
       "<polyline clip-path=\"url(#clip990)\" style=\"stroke:#000000; stroke-linecap:butt; stroke-linejoin:round; stroke-width:4; stroke-opacity:1; fill:none\" points=\"\n",
       "  205.046,778.024 223.944,778.024 \n",
       "  \"/>\n",
       "<polyline clip-path=\"url(#clip990)\" style=\"stroke:#000000; stroke-linecap:butt; stroke-linejoin:round; stroke-width:4; stroke-opacity:1; fill:none\" points=\"\n",
       "  205.046,499.541 223.944,499.541 \n",
       "  \"/>\n",
       "<polyline clip-path=\"url(#clip990)\" style=\"stroke:#000000; stroke-linecap:butt; stroke-linejoin:round; stroke-width:4; stroke-opacity:1; fill:none\" points=\"\n",
       "  205.046,221.059 223.944,221.059 \n",
       "  \"/>\n",
       "<path clip-path=\"url(#clip990)\" d=\"M72.5602 1056.96 L102.236 1056.96 L102.236 1060.89 L72.5602 1060.89 L72.5602 1056.96 Z\" fill=\"#000000\" fill-rule=\"evenodd\" fill-opacity=\"1\" /><path clip-path=\"url(#clip990)\" d=\"M113.139 1069.85 L120.777 1069.85 L120.777 1043.49 L112.467 1045.15 L112.467 1040.89 L120.731 1039.23 L125.407 1039.23 L125.407 1069.85 L133.046 1069.85 L133.046 1073.79 L113.139 1073.79 L113.139 1069.85 Z\" fill=\"#000000\" fill-rule=\"evenodd\" fill-opacity=\"1\" /><path clip-path=\"url(#clip990)\" d=\"M121.102 763.823 Q117.49 763.823 115.662 767.388 Q113.856 770.93 113.856 778.059 Q113.856 785.166 115.662 788.73 Q117.49 792.272 121.102 792.272 Q124.736 792.272 126.541 788.73 Q128.37 785.166 128.37 778.059 Q128.37 770.93 126.541 767.388 Q124.736 763.823 121.102 763.823 M121.102 760.119 Q126.912 760.119 129.967 764.726 Q133.046 769.309 133.046 778.059 Q133.046 786.786 129.967 791.392 Q126.912 795.976 121.102 795.976 Q115.291 795.976 112.213 791.392 Q109.157 786.786 109.157 778.059 Q109.157 769.309 112.213 764.726 Q115.291 760.119 121.102 760.119 Z\" fill=\"#000000\" fill-rule=\"evenodd\" fill-opacity=\"1\" /><path clip-path=\"url(#clip990)\" d=\"M113.139 512.886 L120.777 512.886 L120.777 486.521 L112.467 488.187 L112.467 483.928 L120.731 482.261 L125.407 482.261 L125.407 512.886 L133.046 512.886 L133.046 516.821 L113.139 516.821 L113.139 512.886 Z\" fill=\"#000000\" fill-rule=\"evenodd\" fill-opacity=\"1\" /><path clip-path=\"url(#clip990)\" d=\"M116.727 234.403 L133.046 234.403 L133.046 238.339 L111.102 238.339 L111.102 234.403 Q113.764 231.649 118.347 227.019 Q122.953 222.366 124.134 221.024 Q126.379 218.501 127.259 216.765 Q128.162 215.005 128.162 213.316 Q128.162 210.561 126.217 208.825 Q124.296 207.089 121.194 207.089 Q118.995 207.089 116.541 207.853 Q114.111 208.617 111.333 210.167 L111.333 205.445 Q114.157 204.311 116.611 203.732 Q119.065 203.154 121.102 203.154 Q126.472 203.154 129.666 205.839 Q132.861 208.524 132.861 213.015 Q132.861 215.144 132.051 217.066 Q131.264 218.964 129.157 221.556 Q128.578 222.228 125.477 225.445 Q122.375 228.64 116.727 234.403 Z\" fill=\"#000000\" fill-rule=\"evenodd\" fill-opacity=\"1\" /><path clip-path=\"url(#clip990)\" d=\"M-31.9336 633.267 Q-38.2993 633.267 -41.8004 635.908 Q-45.3016 638.518 -45.3016 643.261 Q-45.3016 647.971 -41.8004 650.613 Q-38.2993 653.223 -31.9336 653.223 Q-25.5997 653.223 -22.0986 650.613 Q-18.5974 647.971 -18.5974 643.261 Q-18.5974 638.518 -22.0986 635.908 Q-25.5997 633.267 -31.9336 633.267 M-18.12 627.41 Q-9.01705 627.41 -4.59288 631.452 Q-0.136887 635.495 -0.136887 643.834 Q-0.136887 646.921 -0.614315 649.658 Q-1.05991 652.396 -2.01477 654.974 L-7.71208 654.974 Q-6.31162 652.396 -5.64322 649.881 Q-4.97482 647.367 -4.97482 644.757 Q-4.97482 638.996 -7.99854 636.131 Q-10.9904 633.267 -17.0697 633.267 L-19.9661 633.267 Q-16.815 635.081 -15.2554 637.914 Q-13.6958 640.746 -13.6958 644.693 Q-13.6958 651.25 -18.6929 655.26 Q-23.69 659.271 -31.9336 659.271 Q-40.209 659.271 -45.2061 655.26 Q-50.2032 651.25 -50.2032 644.693 Q-50.2032 640.746 -48.6436 637.914 Q-47.084 635.081 -43.9329 633.267 L-49.3438 633.267 L-49.3438 627.41 L-18.12 627.41 Z\" fill=\"#000000\" fill-rule=\"evenodd\" fill-opacity=\"1\" /><path clip-path=\"url(#clip990)\" d=\"M-31.6153 599.146 Q-31.6153 606.244 -29.9921 608.982 Q-28.3688 611.719 -24.4539 611.719 Q-21.3347 611.719 -19.4886 609.682 Q-17.6744 607.613 -17.6744 604.08 Q-17.6744 599.21 -21.1119 596.282 Q-24.5812 593.322 -30.3103 593.322 L-31.6153 593.322 L-31.6153 599.146 M-34.0343 587.465 L-13.6958 587.465 L-13.6958 593.322 L-19.1067 593.322 Q-15.8602 595.327 -14.3006 598.319 Q-12.7728 601.311 -12.7728 605.64 Q-12.7728 611.114 -15.8284 614.361 Q-18.9157 617.575 -24.0719 617.575 Q-30.0875 617.575 -33.1431 613.565 Q-36.1986 609.523 -36.1986 601.534 L-36.1986 593.322 L-36.7715 593.322 Q-40.8138 593.322 -43.0099 595.995 Q-45.2379 598.637 -45.2379 603.443 Q-45.2379 606.499 -44.5059 609.395 Q-43.7738 612.292 -42.3097 614.965 L-47.7205 614.965 Q-48.9619 611.751 -49.5666 608.727 Q-50.2032 605.703 -50.2032 602.839 Q-50.2032 595.104 -46.1928 591.285 Q-42.1824 587.465 -34.0343 587.465 Z\" fill=\"#000000\" fill-rule=\"evenodd\" fill-opacity=\"1\" /><path clip-path=\"url(#clip990)\" d=\"M-49.3438 575.402 L-49.3438 569.546 L-13.6958 569.546 L-13.6958 575.402 L-49.3438 575.402 M-63.221 575.402 L-63.221 569.546 L-55.805 569.546 L-55.805 575.402 L-63.221 575.402 Z\" fill=\"#000000\" fill-rule=\"evenodd\" fill-opacity=\"1\" /><path clip-path=\"url(#clip990)\" d=\"M-35.2119 527.66 L-13.6958 527.66 L-13.6958 533.516 L-35.021 533.516 Q-40.0817 533.516 -42.5962 535.489 Q-45.1106 537.463 -45.1106 541.41 Q-45.1106 546.152 -42.0869 548.889 Q-39.0632 551.626 -33.8433 551.626 L-13.6958 551.626 L-13.6958 557.515 L-49.3438 557.515 L-49.3438 551.626 L-43.8056 551.626 Q-47.0203 549.526 -48.6117 546.693 Q-50.2032 543.829 -50.2032 540.105 Q-50.2032 533.962 -46.3837 530.811 Q-42.5962 527.66 -35.2119 527.66 Z\" fill=\"#000000\" fill-rule=\"evenodd\" fill-opacity=\"1\" /><path clip-path=\"url(#clip990)\" d=\"M-19.1067 488.892 L-19.1067 466.453 L-13.6958 466.453 L-13.6958 496.627 L-19.1067 496.627 Q-22.8943 492.967 -29.26 486.664 Q-35.6575 480.331 -37.5036 478.707 Q-40.9729 475.62 -43.36 474.41 Q-45.779 473.169 -48.1025 473.169 Q-51.8901 473.169 -54.2772 475.843 Q-56.6644 478.485 -56.6644 482.75 Q-56.6644 485.773 -55.614 489.147 Q-54.5637 492.489 -52.4312 496.309 L-58.9242 496.309 Q-60.4838 492.425 -61.2795 489.052 Q-62.0752 485.678 -62.0752 482.877 Q-62.0752 475.493 -58.3831 471.1 Q-54.691 466.708 -48.5163 466.708 Q-45.588 466.708 -42.9463 467.822 Q-40.3363 468.904 -36.7715 471.801 Q-35.8485 472.596 -31.4243 476.861 Q-27.032 481.126 -19.1067 488.892 Z\" fill=\"#000000\" fill-rule=\"evenodd\" fill-opacity=\"1\" /><circle clip-path=\"url(#clip992)\" cx=\"659.286\" cy=\"570.934\" r=\"14\" fill=\"#ff0000\" fill-rule=\"evenodd\" fill-opacity=\"1\" stroke=\"#000000\" stroke-opacity=\"1\" stroke-width=\"2.4\"/>\n",
       "<circle clip-path=\"url(#clip992)\" cx=\"665.354\" cy=\"592.366\" r=\"14\" fill=\"#0000ff\" fill-rule=\"evenodd\" fill-opacity=\"1\" stroke=\"#000000\" stroke-opacity=\"1\" stroke-width=\"2.4\"/>\n",
       "<circle clip-path=\"url(#clip992)\" cx=\"674.174\" cy=\"583.218\" r=\"14\" fill=\"#0000ff\" fill-rule=\"evenodd\" fill-opacity=\"1\" stroke=\"#000000\" stroke-opacity=\"1\" stroke-width=\"2.4\"/>\n",
       "<circle clip-path=\"url(#clip992)\" cx=\"675.062\" cy=\"572.966\" r=\"14\" fill=\"#ff0000\" fill-rule=\"evenodd\" fill-opacity=\"1\" stroke=\"#000000\" stroke-opacity=\"1\" stroke-width=\"2.4\"/>\n",
       "<circle clip-path=\"url(#clip992)\" cx=\"668.479\" cy=\"572.04\" r=\"14\" fill=\"#0000ff\" fill-rule=\"evenodd\" fill-opacity=\"1\" stroke=\"#000000\" stroke-opacity=\"1\" stroke-width=\"2.4\"/>\n",
       "<circle clip-path=\"url(#clip992)\" cx=\"771.802\" cy=\"634.533\" r=\"14\" fill=\"#ff0000\" fill-rule=\"evenodd\" fill-opacity=\"1\" stroke=\"#000000\" stroke-opacity=\"1\" stroke-width=\"2.4\"/>\n",
       "<circle clip-path=\"url(#clip992)\" cx=\"757.974\" cy=\"634.574\" r=\"14\" fill=\"#0000ff\" fill-rule=\"evenodd\" fill-opacity=\"1\" stroke=\"#000000\" stroke-opacity=\"1\" stroke-width=\"2.4\"/>\n",
       "<circle clip-path=\"url(#clip992)\" cx=\"774.301\" cy=\"634.987\" r=\"14\" fill=\"#0000ff\" fill-rule=\"evenodd\" fill-opacity=\"1\" stroke=\"#000000\" stroke-opacity=\"1\" stroke-width=\"2.4\"/>\n",
       "<circle clip-path=\"url(#clip992)\" cx=\"818.222\" cy=\"723.325\" r=\"14\" fill=\"#0000ff\" fill-rule=\"evenodd\" fill-opacity=\"1\" stroke=\"#000000\" stroke-opacity=\"1\" stroke-width=\"2.4\"/>\n",
       "<circle clip-path=\"url(#clip992)\" cx=\"813.912\" cy=\"724.301\" r=\"14\" fill=\"#ff0000\" fill-rule=\"evenodd\" fill-opacity=\"1\" stroke=\"#000000\" stroke-opacity=\"1\" stroke-width=\"2.4\"/>\n",
       "<circle clip-path=\"url(#clip992)\" cx=\"801.6\" cy=\"733.159\" r=\"14\" fill=\"#ff0000\" fill-rule=\"evenodd\" fill-opacity=\"1\" stroke=\"#000000\" stroke-opacity=\"1\" stroke-width=\"2.4\"/>\n",
       "<circle clip-path=\"url(#clip992)\" cx=\"822.268\" cy=\"730.746\" r=\"14\" fill=\"#ff0000\" fill-rule=\"evenodd\" fill-opacity=\"1\" stroke=\"#000000\" stroke-opacity=\"1\" stroke-width=\"2.4\"/>\n",
       "<circle clip-path=\"url(#clip992)\" cx=\"791.625\" cy=\"723.329\" r=\"14\" fill=\"#0000ff\" fill-rule=\"evenodd\" fill-opacity=\"1\" stroke=\"#000000\" stroke-opacity=\"1\" stroke-width=\"2.4\"/>\n",
       "<circle clip-path=\"url(#clip992)\" cx=\"817.945\" cy=\"717.479\" r=\"14\" fill=\"#0000ff\" fill-rule=\"evenodd\" fill-opacity=\"1\" stroke=\"#000000\" stroke-opacity=\"1\" stroke-width=\"2.4\"/>\n",
       "<circle clip-path=\"url(#clip992)\" cx=\"798.216\" cy=\"721.537\" r=\"14\" fill=\"#0000ff\" fill-rule=\"evenodd\" fill-opacity=\"1\" stroke=\"#000000\" stroke-opacity=\"1\" stroke-width=\"2.4\"/>\n",
       "<circle clip-path=\"url(#clip992)\" cx=\"804.404\" cy=\"739.789\" r=\"14\" fill=\"#ff0000\" fill-rule=\"evenodd\" fill-opacity=\"1\" stroke=\"#000000\" stroke-opacity=\"1\" stroke-width=\"2.4\"/>\n",
       "<circle clip-path=\"url(#clip992)\" cx=\"862.941\" cy=\"751.077\" r=\"14\" fill=\"#ff0000\" fill-rule=\"evenodd\" fill-opacity=\"1\" stroke=\"#000000\" stroke-opacity=\"1\" stroke-width=\"2.4\"/>\n",
       "<circle clip-path=\"url(#clip992)\" cx=\"865.731\" cy=\"744.244\" r=\"14\" fill=\"#0000ff\" fill-rule=\"evenodd\" fill-opacity=\"1\" stroke=\"#000000\" stroke-opacity=\"1\" stroke-width=\"2.4\"/>\n",
       "<circle clip-path=\"url(#clip992)\" cx=\"881.94\" cy=\"726.156\" r=\"14\" fill=\"#ff0000\" fill-rule=\"evenodd\" fill-opacity=\"1\" stroke=\"#000000\" stroke-opacity=\"1\" stroke-width=\"2.4\"/>\n",
       "<circle clip-path=\"url(#clip992)\" cx=\"858.037\" cy=\"697.02\" r=\"14\" fill=\"#0000ff\" fill-rule=\"evenodd\" fill-opacity=\"1\" stroke=\"#000000\" stroke-opacity=\"1\" stroke-width=\"2.4\"/>\n",
       "<circle clip-path=\"url(#clip992)\" cx=\"855.921\" cy=\"695.535\" r=\"14\" fill=\"#0000ff\" fill-rule=\"evenodd\" fill-opacity=\"1\" stroke=\"#000000\" stroke-opacity=\"1\" stroke-width=\"2.4\"/>\n",
       "<circle clip-path=\"url(#clip992)\" cx=\"899.028\" cy=\"770.658\" r=\"14\" fill=\"#0000ff\" fill-rule=\"evenodd\" fill-opacity=\"1\" stroke=\"#000000\" stroke-opacity=\"1\" stroke-width=\"2.4\"/>\n",
       "<circle clip-path=\"url(#clip992)\" cx=\"897.087\" cy=\"783.542\" r=\"14\" fill=\"#ff0000\" fill-rule=\"evenodd\" fill-opacity=\"1\" stroke=\"#000000\" stroke-opacity=\"1\" stroke-width=\"2.4\"/>\n",
       "<circle clip-path=\"url(#clip992)\" cx=\"891.229\" cy=\"767.066\" r=\"14\" fill=\"#ff0000\" fill-rule=\"evenodd\" fill-opacity=\"1\" stroke=\"#000000\" stroke-opacity=\"1\" stroke-width=\"2.4\"/>\n",
       "<circle clip-path=\"url(#clip992)\" cx=\"893.649\" cy=\"778.381\" r=\"14\" fill=\"#ff0000\" fill-rule=\"evenodd\" fill-opacity=\"1\" stroke=\"#000000\" stroke-opacity=\"1\" stroke-width=\"2.4\"/>\n",
       "<circle clip-path=\"url(#clip992)\" cx=\"890.601\" cy=\"790.755\" r=\"14\" fill=\"#0000ff\" fill-rule=\"evenodd\" fill-opacity=\"1\" stroke=\"#000000\" stroke-opacity=\"1\" stroke-width=\"2.4\"/>\n",
       "<circle clip-path=\"url(#clip992)\" cx=\"888.809\" cy=\"779.239\" r=\"14\" fill=\"#0000ff\" fill-rule=\"evenodd\" fill-opacity=\"1\" stroke=\"#000000\" stroke-opacity=\"1\" stroke-width=\"2.4\"/>\n",
       "<circle clip-path=\"url(#clip992)\" cx=\"889.583\" cy=\"765.305\" r=\"14\" fill=\"#ff0000\" fill-rule=\"evenodd\" fill-opacity=\"1\" stroke=\"#000000\" stroke-opacity=\"1\" stroke-width=\"2.4\"/>\n",
       "<circle clip-path=\"url(#clip992)\" cx=\"1168.72\" cy=\"775.283\" r=\"14\" fill=\"#ff0000\" fill-rule=\"evenodd\" fill-opacity=\"1\" stroke=\"#000000\" stroke-opacity=\"1\" stroke-width=\"2.4\"/>\n",
       "<circle clip-path=\"url(#clip992)\" cx=\"1181.51\" cy=\"775.895\" r=\"14\" fill=\"#ff0000\" fill-rule=\"evenodd\" fill-opacity=\"1\" stroke=\"#000000\" stroke-opacity=\"1\" stroke-width=\"2.4\"/>\n",
       "<circle clip-path=\"url(#clip992)\" cx=\"1187.79\" cy=\"779.41\" r=\"14\" fill=\"#ff0000\" fill-rule=\"evenodd\" fill-opacity=\"1\" stroke=\"#000000\" stroke-opacity=\"1\" stroke-width=\"2.4\"/>\n",
       "<circle clip-path=\"url(#clip992)\" cx=\"1186.91\" cy=\"786.283\" r=\"14\" fill=\"#0000ff\" fill-rule=\"evenodd\" fill-opacity=\"1\" stroke=\"#000000\" stroke-opacity=\"1\" stroke-width=\"2.4\"/>\n",
       "<circle clip-path=\"url(#clip992)\" cx=\"1165.03\" cy=\"791.307\" r=\"14\" fill=\"#0000ff\" fill-rule=\"evenodd\" fill-opacity=\"1\" stroke=\"#000000\" stroke-opacity=\"1\" stroke-width=\"2.4\"/>\n",
       "<circle clip-path=\"url(#clip992)\" cx=\"1178.24\" cy=\"784.553\" r=\"14\" fill=\"#0000ff\" fill-rule=\"evenodd\" fill-opacity=\"1\" stroke=\"#000000\" stroke-opacity=\"1\" stroke-width=\"2.4\"/>\n",
       "<circle clip-path=\"url(#clip992)\" cx=\"1186.38\" cy=\"793.796\" r=\"14\" fill=\"#0000ff\" fill-rule=\"evenodd\" fill-opacity=\"1\" stroke=\"#000000\" stroke-opacity=\"1\" stroke-width=\"2.4\"/>\n",
       "<circle clip-path=\"url(#clip992)\" cx=\"1182.04\" cy=\"503.332\" r=\"14\" fill=\"#ff0000\" fill-rule=\"evenodd\" fill-opacity=\"1\" stroke=\"#000000\" stroke-opacity=\"1\" stroke-width=\"2.4\"/>\n",
       "<circle clip-path=\"url(#clip992)\" cx=\"1182.89\" cy=\"493.569\" r=\"14\" fill=\"#0000ff\" fill-rule=\"evenodd\" fill-opacity=\"1\" stroke=\"#000000\" stroke-opacity=\"1\" stroke-width=\"2.4\"/>\n",
       "<circle clip-path=\"url(#clip992)\" cx=\"1333.46\" cy=\"501.366\" r=\"14\" fill=\"#0000ff\" fill-rule=\"evenodd\" fill-opacity=\"1\" stroke=\"#000000\" stroke-opacity=\"1\" stroke-width=\"2.4\"/>\n",
       "<circle clip-path=\"url(#clip992)\" cx=\"1302.54\" cy=\"499.777\" r=\"14\" fill=\"#0000ff\" fill-rule=\"evenodd\" fill-opacity=\"1\" stroke=\"#000000\" stroke-opacity=\"1\" stroke-width=\"2.4\"/>\n",
       "<circle clip-path=\"url(#clip992)\" cx=\"1319.58\" cy=\"497.809\" r=\"14\" fill=\"#0000ff\" fill-rule=\"evenodd\" fill-opacity=\"1\" stroke=\"#000000\" stroke-opacity=\"1\" stroke-width=\"2.4\"/>\n",
       "<circle clip-path=\"url(#clip992)\" cx=\"690.593\" cy=\"674.387\" r=\"14\" fill=\"#0000ff\" fill-rule=\"evenodd\" fill-opacity=\"1\" stroke=\"#000000\" stroke-opacity=\"1\" stroke-width=\"2.4\"/>\n",
       "<circle clip-path=\"url(#clip992)\" cx=\"709.651\" cy=\"672.343\" r=\"14\" fill=\"#0000ff\" fill-rule=\"evenodd\" fill-opacity=\"1\" stroke=\"#000000\" stroke-opacity=\"1\" stroke-width=\"2.4\"/>\n",
       "<circle clip-path=\"url(#clip992)\" cx=\"638.173\" cy=\"712.328\" r=\"14\" fill=\"#0000ff\" fill-rule=\"evenodd\" fill-opacity=\"1\" stroke=\"#000000\" stroke-opacity=\"1\" stroke-width=\"2.4\"/>\n",
       "<circle clip-path=\"url(#clip992)\" cx=\"700.343\" cy=\"671.622\" r=\"14\" fill=\"#0000ff\" fill-rule=\"evenodd\" fill-opacity=\"1\" stroke=\"#000000\" stroke-opacity=\"1\" stroke-width=\"2.4\"/>\n",
       "<circle clip-path=\"url(#clip992)\" cx=\"705.681\" cy=\"667.881\" r=\"14\" fill=\"#0000ff\" fill-rule=\"evenodd\" fill-opacity=\"1\" stroke=\"#000000\" stroke-opacity=\"1\" stroke-width=\"2.4\"/>\n",
       "<circle clip-path=\"url(#clip992)\" cx=\"872.806\" cy=\"557.295\" r=\"14\" fill=\"#0000ff\" fill-rule=\"evenodd\" fill-opacity=\"1\" stroke=\"#000000\" stroke-opacity=\"1\" stroke-width=\"2.4\"/>\n",
       "<circle clip-path=\"url(#clip992)\" cx=\"953.173\" cy=\"378.338\" r=\"14\" fill=\"#ff0000\" fill-rule=\"evenodd\" fill-opacity=\"1\" stroke=\"#000000\" stroke-opacity=\"1\" stroke-width=\"2.4\"/>\n",
       "<circle clip-path=\"url(#clip992)\" cx=\"969.642\" cy=\"362.418\" r=\"14\" fill=\"#0000ff\" fill-rule=\"evenodd\" fill-opacity=\"1\" stroke=\"#000000\" stroke-opacity=\"1\" stroke-width=\"2.4\"/>\n",
       "<circle clip-path=\"url(#clip992)\" cx=\"957.129\" cy=\"380.158\" r=\"14\" fill=\"#0000ff\" fill-rule=\"evenodd\" fill-opacity=\"1\" stroke=\"#000000\" stroke-opacity=\"1\" stroke-width=\"2.4\"/>\n",
       "<circle clip-path=\"url(#clip992)\" cx=\"996.036\" cy=\"357.569\" r=\"14\" fill=\"#0000ff\" fill-rule=\"evenodd\" fill-opacity=\"1\" stroke=\"#000000\" stroke-opacity=\"1\" stroke-width=\"2.4\"/>\n",
       "<circle clip-path=\"url(#clip992)\" cx=\"1003.09\" cy=\"541.118\" r=\"14\" fill=\"#0000ff\" fill-rule=\"evenodd\" fill-opacity=\"1\" stroke=\"#000000\" stroke-opacity=\"1\" stroke-width=\"2.4\"/>\n",
       "<circle clip-path=\"url(#clip992)\" cx=\"940.728\" cy=\"377.147\" r=\"14\" fill=\"#0000ff\" fill-rule=\"evenodd\" fill-opacity=\"1\" stroke=\"#000000\" stroke-opacity=\"1\" stroke-width=\"2.4\"/>\n",
       "<circle clip-path=\"url(#clip992)\" cx=\"1295.11\" cy=\"156.188\" r=\"14\" fill=\"#ff0000\" fill-rule=\"evenodd\" fill-opacity=\"1\" stroke=\"#000000\" stroke-opacity=\"1\" stroke-width=\"2.4\"/>\n",
       "<circle clip-path=\"url(#clip992)\" cx=\"1371.36\" cy=\"77.4665\" r=\"14\" fill=\"#0000ff\" fill-rule=\"evenodd\" fill-opacity=\"1\" stroke=\"#000000\" stroke-opacity=\"1\" stroke-width=\"2.4\"/>\n",
       "<circle clip-path=\"url(#clip992)\" cx=\"944.212\" cy=\"566.704\" r=\"14\" fill=\"#0000ff\" fill-rule=\"evenodd\" fill-opacity=\"1\" stroke=\"#000000\" stroke-opacity=\"1\" stroke-width=\"2.4\"/>\n",
       "<circle clip-path=\"url(#clip992)\" cx=\"1017.86\" cy=\"545.37\" r=\"14\" fill=\"#0000ff\" fill-rule=\"evenodd\" fill-opacity=\"1\" stroke=\"#000000\" stroke-opacity=\"1\" stroke-width=\"2.4\"/>\n",
       "<circle clip-path=\"url(#clip992)\" cx=\"1034.47\" cy=\"558.018\" r=\"14\" fill=\"#0000ff\" fill-rule=\"evenodd\" fill-opacity=\"1\" stroke=\"#000000\" stroke-opacity=\"1\" stroke-width=\"2.4\"/>\n",
       "<circle clip-path=\"url(#clip992)\" cx=\"1378.25\" cy=\"338.019\" r=\"14\" fill=\"#0000ff\" fill-rule=\"evenodd\" fill-opacity=\"1\" stroke=\"#000000\" stroke-opacity=\"1\" stroke-width=\"2.4\"/>\n",
       "<circle clip-path=\"url(#clip992)\" cx=\"698.29\" cy=\"759.942\" r=\"14\" fill=\"#0000ff\" fill-rule=\"evenodd\" fill-opacity=\"1\" stroke=\"#000000\" stroke-opacity=\"1\" stroke-width=\"2.4\"/>\n",
       "<circle clip-path=\"url(#clip992)\" cx=\"243.424\" cy=\"1046.13\" r=\"14\" fill=\"#0000ff\" fill-rule=\"evenodd\" fill-opacity=\"1\" stroke=\"#000000\" stroke-opacity=\"1\" stroke-width=\"2.4\"/>\n",
       "<circle clip-path=\"url(#clip992)\" cx=\"352.786\" cy=\"965.364\" r=\"14\" fill=\"#0000ff\" fill-rule=\"evenodd\" fill-opacity=\"1\" stroke=\"#000000\" stroke-opacity=\"1\" stroke-width=\"2.4\"/>\n",
       "<circle clip-path=\"url(#clip992)\" cx=\"385.097\" cy=\"1021.49\" r=\"14\" fill=\"#0000ff\" fill-rule=\"evenodd\" fill-opacity=\"1\" stroke=\"#000000\" stroke-opacity=\"1\" stroke-width=\"2.4\"/>\n",
       "<circle clip-path=\"url(#clip992)\" cx=\"447.43\" cy=\"1014.27\" r=\"14\" fill=\"#0000ff\" fill-rule=\"evenodd\" fill-opacity=\"1\" stroke=\"#000000\" stroke-opacity=\"1\" stroke-width=\"2.4\"/>\n",
       "<circle clip-path=\"url(#clip992)\" cx=\"1333.48\" cy=\"411.173\" r=\"14\" fill=\"#ff0000\" fill-rule=\"evenodd\" fill-opacity=\"1\" stroke=\"#000000\" stroke-opacity=\"1\" stroke-width=\"2.4\"/>\n",
       "<circle clip-path=\"url(#clip992)\" cx=\"1521.31\" cy=\"337.018\" r=\"14\" fill=\"#ff0000\" fill-rule=\"evenodd\" fill-opacity=\"1\" stroke=\"#000000\" stroke-opacity=\"1\" stroke-width=\"2.4\"/>\n",
       "<circle clip-path=\"url(#clip992)\" cx=\"1472.78\" cy=\"349.08\" r=\"14\" fill=\"#0000ff\" fill-rule=\"evenodd\" fill-opacity=\"1\" stroke=\"#000000\" stroke-opacity=\"1\" stroke-width=\"2.4\"/>\n",
       "<circle clip-path=\"url(#clip992)\" cx=\"1461.89\" cy=\"363.074\" r=\"14\" fill=\"#0000ff\" fill-rule=\"evenodd\" fill-opacity=\"1\" stroke=\"#000000\" stroke-opacity=\"1\" stroke-width=\"2.4\"/>\n",
       "<circle clip-path=\"url(#clip992)\" cx=\"1225.6\" cy=\"501.051\" r=\"14\" fill=\"#0000ff\" fill-rule=\"evenodd\" fill-opacity=\"1\" stroke=\"#000000\" stroke-opacity=\"1\" stroke-width=\"2.4\"/>\n",
       "<circle clip-path=\"url(#clip992)\" cx=\"1287.27\" cy=\"476.54\" r=\"14\" fill=\"#0000ff\" fill-rule=\"evenodd\" fill-opacity=\"1\" stroke=\"#000000\" stroke-opacity=\"1\" stroke-width=\"2.4\"/>\n",
       "<circle clip-path=\"url(#clip992)\" cx=\"1454.22\" cy=\"358.266\" r=\"14\" fill=\"#0000ff\" fill-rule=\"evenodd\" fill-opacity=\"1\" stroke=\"#000000\" stroke-opacity=\"1\" stroke-width=\"2.4\"/>\n",
       "<circle clip-path=\"url(#clip992)\" cx=\"1522.69\" cy=\"325.742\" r=\"14\" fill=\"#0000ff\" fill-rule=\"evenodd\" fill-opacity=\"1\" stroke=\"#000000\" stroke-opacity=\"1\" stroke-width=\"2.4\"/>\n",
       "<circle clip-path=\"url(#clip992)\" cx=\"1222.5\" cy=\"520.451\" r=\"14\" fill=\"#0000ff\" fill-rule=\"evenodd\" fill-opacity=\"1\" stroke=\"#000000\" stroke-opacity=\"1\" stroke-width=\"2.4\"/>\n",
       "<circle clip-path=\"url(#clip992)\" cx=\"1272.09\" cy=\"474.691\" r=\"14\" fill=\"#0000ff\" fill-rule=\"evenodd\" fill-opacity=\"1\" stroke=\"#000000\" stroke-opacity=\"1\" stroke-width=\"2.4\"/>\n",
       "<circle clip-path=\"url(#clip992)\" cx=\"1417.16\" cy=\"373.387\" r=\"14\" fill=\"#0000ff\" fill-rule=\"evenodd\" fill-opacity=\"1\" stroke=\"#000000\" stroke-opacity=\"1\" stroke-width=\"2.4\"/>\n",
       "<circle clip-path=\"url(#clip992)\" cx=\"655.302\" cy=\"570.834\" r=\"14\" fill=\"#ff0000\" fill-rule=\"evenodd\" fill-opacity=\"1\" stroke=\"#000000\" stroke-opacity=\"1\" stroke-width=\"2.4\"/>\n",
       "<circle clip-path=\"url(#clip992)\" cx=\"666.853\" cy=\"568.708\" r=\"14\" fill=\"#0000ff\" fill-rule=\"evenodd\" fill-opacity=\"1\" stroke=\"#000000\" stroke-opacity=\"1\" stroke-width=\"2.4\"/>\n",
       "<circle clip-path=\"url(#clip992)\" cx=\"667.707\" cy=\"584.931\" r=\"14\" fill=\"#0000ff\" fill-rule=\"evenodd\" fill-opacity=\"1\" stroke=\"#000000\" stroke-opacity=\"1\" stroke-width=\"2.4\"/>\n",
       "<circle clip-path=\"url(#clip992)\" cx=\"659.539\" cy=\"581.654\" r=\"14\" fill=\"#ff0000\" fill-rule=\"evenodd\" fill-opacity=\"1\" stroke=\"#000000\" stroke-opacity=\"1\" stroke-width=\"2.4\"/>\n",
       "<circle clip-path=\"url(#clip992)\" cx=\"658.258\" cy=\"582.771\" r=\"14\" fill=\"#0000ff\" fill-rule=\"evenodd\" fill-opacity=\"1\" stroke=\"#000000\" stroke-opacity=\"1\" stroke-width=\"2.4\"/>\n",
       "<circle clip-path=\"url(#clip992)\" cx=\"751.118\" cy=\"629.24\" r=\"14\" fill=\"#ff0000\" fill-rule=\"evenodd\" fill-opacity=\"1\" stroke=\"#000000\" stroke-opacity=\"1\" stroke-width=\"2.4\"/>\n",
       "<circle clip-path=\"url(#clip992)\" cx=\"753.238\" cy=\"643.484\" r=\"14\" fill=\"#0000ff\" fill-rule=\"evenodd\" fill-opacity=\"1\" stroke=\"#000000\" stroke-opacity=\"1\" stroke-width=\"2.4\"/>\n",
       "<circle clip-path=\"url(#clip992)\" cx=\"751.708\" cy=\"633.114\" r=\"14\" fill=\"#0000ff\" fill-rule=\"evenodd\" fill-opacity=\"1\" stroke=\"#000000\" stroke-opacity=\"1\" stroke-width=\"2.4\"/>\n",
       "<circle clip-path=\"url(#clip992)\" cx=\"797.791\" cy=\"715.6\" r=\"14\" fill=\"#0000ff\" fill-rule=\"evenodd\" fill-opacity=\"1\" stroke=\"#000000\" stroke-opacity=\"1\" stroke-width=\"2.4\"/>\n",
       "<circle clip-path=\"url(#clip992)\" cx=\"816.775\" cy=\"711.849\" r=\"14\" fill=\"#ff0000\" fill-rule=\"evenodd\" fill-opacity=\"1\" stroke=\"#000000\" stroke-opacity=\"1\" stroke-width=\"2.4\"/>\n",
       "<circle clip-path=\"url(#clip992)\" cx=\"813.167\" cy=\"715.587\" r=\"14\" fill=\"#ff0000\" fill-rule=\"evenodd\" fill-opacity=\"1\" stroke=\"#000000\" stroke-opacity=\"1\" stroke-width=\"2.4\"/>\n",
       "<circle clip-path=\"url(#clip992)\" cx=\"816.421\" cy=\"732.718\" r=\"14\" fill=\"#ff0000\" fill-rule=\"evenodd\" fill-opacity=\"1\" stroke=\"#000000\" stroke-opacity=\"1\" stroke-width=\"2.4\"/>\n",
       "<circle clip-path=\"url(#clip992)\" cx=\"817.391\" cy=\"730.816\" r=\"14\" fill=\"#0000ff\" fill-rule=\"evenodd\" fill-opacity=\"1\" stroke=\"#000000\" stroke-opacity=\"1\" stroke-width=\"2.4\"/>\n",
       "<circle clip-path=\"url(#clip992)\" cx=\"805.592\" cy=\"718.306\" r=\"14\" fill=\"#0000ff\" fill-rule=\"evenodd\" fill-opacity=\"1\" stroke=\"#000000\" stroke-opacity=\"1\" stroke-width=\"2.4\"/>\n",
       "<circle clip-path=\"url(#clip992)\" cx=\"812.299\" cy=\"719.727\" r=\"14\" fill=\"#0000ff\" fill-rule=\"evenodd\" fill-opacity=\"1\" stroke=\"#000000\" stroke-opacity=\"1\" stroke-width=\"2.4\"/>\n",
       "<circle clip-path=\"url(#clip992)\" cx=\"799.627\" cy=\"728.864\" r=\"14\" fill=\"#ff0000\" fill-rule=\"evenodd\" fill-opacity=\"1\" stroke=\"#000000\" stroke-opacity=\"1\" stroke-width=\"2.4\"/>\n",
       "<circle clip-path=\"url(#clip992)\" cx=\"864.285\" cy=\"744.17\" r=\"14\" fill=\"#ff0000\" fill-rule=\"evenodd\" fill-opacity=\"1\" stroke=\"#000000\" stroke-opacity=\"1\" stroke-width=\"2.4\"/>\n",
       "<circle clip-path=\"url(#clip992)\" cx=\"868.235\" cy=\"757.403\" r=\"14\" fill=\"#0000ff\" fill-rule=\"evenodd\" fill-opacity=\"1\" stroke=\"#000000\" stroke-opacity=\"1\" stroke-width=\"2.4\"/>\n",
       "<circle clip-path=\"url(#clip992)\" cx=\"860.172\" cy=\"749.818\" r=\"14\" fill=\"#ff0000\" fill-rule=\"evenodd\" fill-opacity=\"1\" stroke=\"#000000\" stroke-opacity=\"1\" stroke-width=\"2.4\"/>\n",
       "<circle clip-path=\"url(#clip992)\" cx=\"875.105\" cy=\"703.441\" r=\"14\" fill=\"#0000ff\" fill-rule=\"evenodd\" fill-opacity=\"1\" stroke=\"#000000\" stroke-opacity=\"1\" stroke-width=\"2.4\"/>\n",
       "<circle clip-path=\"url(#clip992)\" cx=\"858.087\" cy=\"697.598\" r=\"14\" fill=\"#0000ff\" fill-rule=\"evenodd\" fill-opacity=\"1\" stroke=\"#000000\" stroke-opacity=\"1\" stroke-width=\"2.4\"/>\n",
       "<circle clip-path=\"url(#clip992)\" cx=\"894.771\" cy=\"764.981\" r=\"14\" fill=\"#0000ff\" fill-rule=\"evenodd\" fill-opacity=\"1\" stroke=\"#000000\" stroke-opacity=\"1\" stroke-width=\"2.4\"/>\n",
       "<circle clip-path=\"url(#clip992)\" cx=\"893.343\" cy=\"791.045\" r=\"14\" fill=\"#ff0000\" fill-rule=\"evenodd\" fill-opacity=\"1\" stroke=\"#000000\" stroke-opacity=\"1\" stroke-width=\"2.4\"/>\n",
       "<circle clip-path=\"url(#clip992)\" cx=\"884.882\" cy=\"773.388\" r=\"14\" fill=\"#ff0000\" fill-rule=\"evenodd\" fill-opacity=\"1\" stroke=\"#000000\" stroke-opacity=\"1\" stroke-width=\"2.4\"/>\n",
       "<circle clip-path=\"url(#clip992)\" cx=\"891.094\" cy=\"776.092\" r=\"14\" fill=\"#ff0000\" fill-rule=\"evenodd\" fill-opacity=\"1\" stroke=\"#000000\" stroke-opacity=\"1\" stroke-width=\"2.4\"/>\n",
       "<circle clip-path=\"url(#clip992)\" cx=\"883.064\" cy=\"757.436\" r=\"14\" fill=\"#0000ff\" fill-rule=\"evenodd\" fill-opacity=\"1\" stroke=\"#000000\" stroke-opacity=\"1\" stroke-width=\"2.4\"/>\n",
       "<circle clip-path=\"url(#clip992)\" cx=\"901.446\" cy=\"793.38\" r=\"14\" fill=\"#0000ff\" fill-rule=\"evenodd\" fill-opacity=\"1\" stroke=\"#000000\" stroke-opacity=\"1\" stroke-width=\"2.4\"/>\n",
       "<circle clip-path=\"url(#clip992)\" cx=\"885.553\" cy=\"766.892\" r=\"14\" fill=\"#ff0000\" fill-rule=\"evenodd\" fill-opacity=\"1\" stroke=\"#000000\" stroke-opacity=\"1\" stroke-width=\"2.4\"/>\n",
       "<circle clip-path=\"url(#clip992)\" cx=\"1182.16\" cy=\"789.395\" r=\"14\" fill=\"#ff0000\" fill-rule=\"evenodd\" fill-opacity=\"1\" stroke=\"#000000\" stroke-opacity=\"1\" stroke-width=\"2.4\"/>\n",
       "<circle clip-path=\"url(#clip992)\" cx=\"1174.07\" cy=\"778.69\" r=\"14\" fill=\"#ff0000\" fill-rule=\"evenodd\" fill-opacity=\"1\" stroke=\"#000000\" stroke-opacity=\"1\" stroke-width=\"2.4\"/>\n",
       "<circle clip-path=\"url(#clip992)\" cx=\"1178.02\" cy=\"781.084\" r=\"14\" fill=\"#ff0000\" fill-rule=\"evenodd\" fill-opacity=\"1\" stroke=\"#000000\" stroke-opacity=\"1\" stroke-width=\"2.4\"/>\n",
       "<circle clip-path=\"url(#clip992)\" cx=\"1176.62\" cy=\"775.884\" r=\"14\" fill=\"#0000ff\" fill-rule=\"evenodd\" fill-opacity=\"1\" stroke=\"#000000\" stroke-opacity=\"1\" stroke-width=\"2.4\"/>\n",
       "<circle clip-path=\"url(#clip992)\" cx=\"1171.19\" cy=\"779.824\" r=\"14\" fill=\"#0000ff\" fill-rule=\"evenodd\" fill-opacity=\"1\" stroke=\"#000000\" stroke-opacity=\"1\" stroke-width=\"2.4\"/>\n",
       "<circle clip-path=\"url(#clip992)\" cx=\"1173.96\" cy=\"781.845\" r=\"14\" fill=\"#0000ff\" fill-rule=\"evenodd\" fill-opacity=\"1\" stroke=\"#000000\" stroke-opacity=\"1\" stroke-width=\"2.4\"/>\n",
       "<circle clip-path=\"url(#clip992)\" cx=\"1176.61\" cy=\"798.155\" r=\"14\" fill=\"#0000ff\" fill-rule=\"evenodd\" fill-opacity=\"1\" stroke=\"#000000\" stroke-opacity=\"1\" stroke-width=\"2.4\"/>\n",
       "<circle clip-path=\"url(#clip992)\" cx=\"1166.5\" cy=\"510.339\" r=\"14\" fill=\"#ff0000\" fill-rule=\"evenodd\" fill-opacity=\"1\" stroke=\"#000000\" stroke-opacity=\"1\" stroke-width=\"2.4\"/>\n",
       "<circle clip-path=\"url(#clip992)\" cx=\"1180.07\" cy=\"492.44\" r=\"14\" fill=\"#0000ff\" fill-rule=\"evenodd\" fill-opacity=\"1\" stroke=\"#000000\" stroke-opacity=\"1\" stroke-width=\"2.4\"/>\n",
       "<circle clip-path=\"url(#clip992)\" cx=\"1318.15\" cy=\"498.347\" r=\"14\" fill=\"#0000ff\" fill-rule=\"evenodd\" fill-opacity=\"1\" stroke=\"#000000\" stroke-opacity=\"1\" stroke-width=\"2.4\"/>\n",
       "<circle clip-path=\"url(#clip992)\" cx=\"1314.84\" cy=\"516.839\" r=\"14\" fill=\"#0000ff\" fill-rule=\"evenodd\" fill-opacity=\"1\" stroke=\"#000000\" stroke-opacity=\"1\" stroke-width=\"2.4\"/>\n",
       "<circle clip-path=\"url(#clip992)\" cx=\"1305.45\" cy=\"501.608\" r=\"14\" fill=\"#0000ff\" fill-rule=\"evenodd\" fill-opacity=\"1\" stroke=\"#000000\" stroke-opacity=\"1\" stroke-width=\"2.4\"/>\n",
       "<circle clip-path=\"url(#clip992)\" cx=\"697.701\" cy=\"677.182\" r=\"14\" fill=\"#0000ff\" fill-rule=\"evenodd\" fill-opacity=\"1\" stroke=\"#000000\" stroke-opacity=\"1\" stroke-width=\"2.4\"/>\n",
       "<circle clip-path=\"url(#clip992)\" cx=\"710.604\" cy=\"662.809\" r=\"14\" fill=\"#0000ff\" fill-rule=\"evenodd\" fill-opacity=\"1\" stroke=\"#000000\" stroke-opacity=\"1\" stroke-width=\"2.4\"/>\n",
       "<circle clip-path=\"url(#clip992)\" cx=\"641.458\" cy=\"703.516\" r=\"14\" fill=\"#0000ff\" fill-rule=\"evenodd\" fill-opacity=\"1\" stroke=\"#000000\" stroke-opacity=\"1\" stroke-width=\"2.4\"/>\n",
       "<circle clip-path=\"url(#clip992)\" cx=\"700.662\" cy=\"667.159\" r=\"14\" fill=\"#0000ff\" fill-rule=\"evenodd\" fill-opacity=\"1\" stroke=\"#000000\" stroke-opacity=\"1\" stroke-width=\"2.4\"/>\n",
       "<circle clip-path=\"url(#clip992)\" cx=\"724.065\" cy=\"641.669\" r=\"14\" fill=\"#0000ff\" fill-rule=\"evenodd\" fill-opacity=\"1\" stroke=\"#000000\" stroke-opacity=\"1\" stroke-width=\"2.4\"/>\n",
       "<circle clip-path=\"url(#clip992)\" cx=\"875.471\" cy=\"587.98\" r=\"14\" fill=\"#0000ff\" fill-rule=\"evenodd\" fill-opacity=\"1\" stroke=\"#000000\" stroke-opacity=\"1\" stroke-width=\"2.4\"/>\n",
       "<circle clip-path=\"url(#clip992)\" cx=\"953.848\" cy=\"377.53\" r=\"14\" fill=\"#ff0000\" fill-rule=\"evenodd\" fill-opacity=\"1\" stroke=\"#000000\" stroke-opacity=\"1\" stroke-width=\"2.4\"/>\n",
       "<circle clip-path=\"url(#clip992)\" cx=\"975.8\" cy=\"368.295\" r=\"14\" fill=\"#0000ff\" fill-rule=\"evenodd\" fill-opacity=\"1\" stroke=\"#000000\" stroke-opacity=\"1\" stroke-width=\"2.4\"/>\n",
       "<circle clip-path=\"url(#clip992)\" cx=\"968.958\" cy=\"371.181\" r=\"14\" fill=\"#0000ff\" fill-rule=\"evenodd\" fill-opacity=\"1\" stroke=\"#000000\" stroke-opacity=\"1\" stroke-width=\"2.4\"/>\n",
       "<circle clip-path=\"url(#clip992)\" cx=\"962.888\" cy=\"376.099\" r=\"14\" fill=\"#0000ff\" fill-rule=\"evenodd\" fill-opacity=\"1\" stroke=\"#000000\" stroke-opacity=\"1\" stroke-width=\"2.4\"/>\n",
       "<circle clip-path=\"url(#clip992)\" cx=\"988.713\" cy=\"537.831\" r=\"14\" fill=\"#0000ff\" fill-rule=\"evenodd\" fill-opacity=\"1\" stroke=\"#000000\" stroke-opacity=\"1\" stroke-width=\"2.4\"/>\n",
       "<circle clip-path=\"url(#clip992)\" cx=\"922.278\" cy=\"355.274\" r=\"14\" fill=\"#0000ff\" fill-rule=\"evenodd\" fill-opacity=\"1\" stroke=\"#000000\" stroke-opacity=\"1\" stroke-width=\"2.4\"/>\n",
       "<circle clip-path=\"url(#clip992)\" cx=\"1279.08\" cy=\"143.475\" r=\"14\" fill=\"#ff0000\" fill-rule=\"evenodd\" fill-opacity=\"1\" stroke=\"#000000\" stroke-opacity=\"1\" stroke-width=\"2.4\"/>\n",
       "<circle clip-path=\"url(#clip992)\" cx=\"1396.52\" cy=\"78.0108\" r=\"14\" fill=\"#0000ff\" fill-rule=\"evenodd\" fill-opacity=\"1\" stroke=\"#000000\" stroke-opacity=\"1\" stroke-width=\"2.4\"/>\n",
       "<circle clip-path=\"url(#clip992)\" cx=\"952.326\" cy=\"590.842\" r=\"14\" fill=\"#0000ff\" fill-rule=\"evenodd\" fill-opacity=\"1\" stroke=\"#000000\" stroke-opacity=\"1\" stroke-width=\"2.4\"/>\n",
       "<circle clip-path=\"url(#clip992)\" cx=\"1015.79\" cy=\"558.955\" r=\"14\" fill=\"#0000ff\" fill-rule=\"evenodd\" fill-opacity=\"1\" stroke=\"#000000\" stroke-opacity=\"1\" stroke-width=\"2.4\"/>\n",
       "<circle clip-path=\"url(#clip992)\" cx=\"1036.34\" cy=\"529.653\" r=\"14\" fill=\"#0000ff\" fill-rule=\"evenodd\" fill-opacity=\"1\" stroke=\"#000000\" stroke-opacity=\"1\" stroke-width=\"2.4\"/>\n",
       "<circle clip-path=\"url(#clip992)\" cx=\"1377.38\" cy=\"332.126\" r=\"14\" fill=\"#0000ff\" fill-rule=\"evenodd\" fill-opacity=\"1\" stroke=\"#000000\" stroke-opacity=\"1\" stroke-width=\"2.4\"/>\n",
       "<circle clip-path=\"url(#clip992)\" cx=\"694.06\" cy=\"757.575\" r=\"14\" fill=\"#0000ff\" fill-rule=\"evenodd\" fill-opacity=\"1\" stroke=\"#000000\" stroke-opacity=\"1\" stroke-width=\"2.4\"/>\n",
       "<circle clip-path=\"url(#clip992)\" cx=\"257.82\" cy=\"1039.74\" r=\"14\" fill=\"#0000ff\" fill-rule=\"evenodd\" fill-opacity=\"1\" stroke=\"#000000\" stroke-opacity=\"1\" stroke-width=\"2.4\"/>\n",
       "<circle clip-path=\"url(#clip992)\" cx=\"353.112\" cy=\"965.846\" r=\"14\" fill=\"#0000ff\" fill-rule=\"evenodd\" fill-opacity=\"1\" stroke=\"#000000\" stroke-opacity=\"1\" stroke-width=\"2.4\"/>\n",
       "<circle clip-path=\"url(#clip992)\" cx=\"377.393\" cy=\"1030.48\" r=\"14\" fill=\"#0000ff\" fill-rule=\"evenodd\" fill-opacity=\"1\" stroke=\"#000000\" stroke-opacity=\"1\" stroke-width=\"2.4\"/>\n",
       "<circle clip-path=\"url(#clip992)\" cx=\"429.955\" cy=\"992.536\" r=\"14\" fill=\"#0000ff\" fill-rule=\"evenodd\" fill-opacity=\"1\" stroke=\"#000000\" stroke-opacity=\"1\" stroke-width=\"2.4\"/>\n",
       "<circle clip-path=\"url(#clip992)\" cx=\"1342.55\" cy=\"440.827\" r=\"14\" fill=\"#ff0000\" fill-rule=\"evenodd\" fill-opacity=\"1\" stroke=\"#000000\" stroke-opacity=\"1\" stroke-width=\"2.4\"/>\n",
       "<circle clip-path=\"url(#clip992)\" cx=\"1518.31\" cy=\"329.918\" r=\"14\" fill=\"#ff0000\" fill-rule=\"evenodd\" fill-opacity=\"1\" stroke=\"#000000\" stroke-opacity=\"1\" stroke-width=\"2.4\"/>\n",
       "<circle clip-path=\"url(#clip992)\" cx=\"1475.97\" cy=\"341.037\" r=\"14\" fill=\"#0000ff\" fill-rule=\"evenodd\" fill-opacity=\"1\" stroke=\"#000000\" stroke-opacity=\"1\" stroke-width=\"2.4\"/>\n",
       "<circle clip-path=\"url(#clip992)\" cx=\"1448.61\" cy=\"371.317\" r=\"14\" fill=\"#0000ff\" fill-rule=\"evenodd\" fill-opacity=\"1\" stroke=\"#000000\" stroke-opacity=\"1\" stroke-width=\"2.4\"/>\n",
       "<circle clip-path=\"url(#clip992)\" cx=\"1236.86\" cy=\"487.256\" r=\"14\" fill=\"#0000ff\" fill-rule=\"evenodd\" fill-opacity=\"1\" stroke=\"#000000\" stroke-opacity=\"1\" stroke-width=\"2.4\"/>\n",
       "<circle clip-path=\"url(#clip992)\" cx=\"1277.09\" cy=\"482.603\" r=\"14\" fill=\"#0000ff\" fill-rule=\"evenodd\" fill-opacity=\"1\" stroke=\"#000000\" stroke-opacity=\"1\" stroke-width=\"2.4\"/>\n",
       "<circle clip-path=\"url(#clip992)\" cx=\"1454.33\" cy=\"365.006\" r=\"14\" fill=\"#0000ff\" fill-rule=\"evenodd\" fill-opacity=\"1\" stroke=\"#000000\" stroke-opacity=\"1\" stroke-width=\"2.4\"/>\n",
       "<circle clip-path=\"url(#clip992)\" cx=\"1521.97\" cy=\"343.438\" r=\"14\" fill=\"#0000ff\" fill-rule=\"evenodd\" fill-opacity=\"1\" stroke=\"#000000\" stroke-opacity=\"1\" stroke-width=\"2.4\"/>\n",
       "<circle clip-path=\"url(#clip992)\" cx=\"1210.13\" cy=\"507.32\" r=\"14\" fill=\"#0000ff\" fill-rule=\"evenodd\" fill-opacity=\"1\" stroke=\"#000000\" stroke-opacity=\"1\" stroke-width=\"2.4\"/>\n",
       "<circle clip-path=\"url(#clip992)\" cx=\"1249.63\" cy=\"483.928\" r=\"14\" fill=\"#0000ff\" fill-rule=\"evenodd\" fill-opacity=\"1\" stroke=\"#000000\" stroke-opacity=\"1\" stroke-width=\"2.4\"/>\n",
       "<circle clip-path=\"url(#clip992)\" cx=\"1425.04\" cy=\"380.225\" r=\"14\" fill=\"#0000ff\" fill-rule=\"evenodd\" fill-opacity=\"1\" stroke=\"#000000\" stroke-opacity=\"1\" stroke-width=\"2.4\"/>\n",
       "<circle clip-path=\"url(#clip992)\" cx=\"663.035\" cy=\"583.283\" r=\"14\" fill=\"#ff0000\" fill-rule=\"evenodd\" fill-opacity=\"1\" stroke=\"#000000\" stroke-opacity=\"1\" stroke-width=\"2.4\"/>\n",
       "<circle clip-path=\"url(#clip992)\" cx=\"672.986\" cy=\"561.749\" r=\"14\" fill=\"#0000ff\" fill-rule=\"evenodd\" fill-opacity=\"1\" stroke=\"#000000\" stroke-opacity=\"1\" stroke-width=\"2.4\"/>\n",
       "<circle clip-path=\"url(#clip992)\" cx=\"674.142\" cy=\"581.511\" r=\"14\" fill=\"#0000ff\" fill-rule=\"evenodd\" fill-opacity=\"1\" stroke=\"#000000\" stroke-opacity=\"1\" stroke-width=\"2.4\"/>\n",
       "<circle clip-path=\"url(#clip992)\" cx=\"664.451\" cy=\"594.592\" r=\"14\" fill=\"#ff0000\" fill-rule=\"evenodd\" fill-opacity=\"1\" stroke=\"#000000\" stroke-opacity=\"1\" stroke-width=\"2.4\"/>\n",
       "<circle clip-path=\"url(#clip992)\" cx=\"660.33\" cy=\"588.642\" r=\"14\" fill=\"#0000ff\" fill-rule=\"evenodd\" fill-opacity=\"1\" stroke=\"#000000\" stroke-opacity=\"1\" stroke-width=\"2.4\"/>\n",
       "<circle clip-path=\"url(#clip992)\" cx=\"737.885\" cy=\"640.401\" r=\"14\" fill=\"#ff0000\" fill-rule=\"evenodd\" fill-opacity=\"1\" stroke=\"#000000\" stroke-opacity=\"1\" stroke-width=\"2.4\"/>\n",
       "<circle clip-path=\"url(#clip992)\" cx=\"752.501\" cy=\"633.202\" r=\"14\" fill=\"#0000ff\" fill-rule=\"evenodd\" fill-opacity=\"1\" stroke=\"#000000\" stroke-opacity=\"1\" stroke-width=\"2.4\"/>\n",
       "<circle clip-path=\"url(#clip992)\" cx=\"757.427\" cy=\"637.018\" r=\"14\" fill=\"#0000ff\" fill-rule=\"evenodd\" fill-opacity=\"1\" stroke=\"#000000\" stroke-opacity=\"1\" stroke-width=\"2.4\"/>\n",
       "<circle clip-path=\"url(#clip992)\" cx=\"796.41\" cy=\"716.97\" r=\"14\" fill=\"#0000ff\" fill-rule=\"evenodd\" fill-opacity=\"1\" stroke=\"#000000\" stroke-opacity=\"1\" stroke-width=\"2.4\"/>\n",
       "<circle clip-path=\"url(#clip992)\" cx=\"823.515\" cy=\"719.829\" r=\"14\" fill=\"#ff0000\" fill-rule=\"evenodd\" fill-opacity=\"1\" stroke=\"#000000\" stroke-opacity=\"1\" stroke-width=\"2.4\"/>\n",
       "<circle clip-path=\"url(#clip992)\" cx=\"816.981\" cy=\"718.742\" r=\"14\" fill=\"#ff0000\" fill-rule=\"evenodd\" fill-opacity=\"1\" stroke=\"#000000\" stroke-opacity=\"1\" stroke-width=\"2.4\"/>\n",
       "<circle clip-path=\"url(#clip992)\" cx=\"815.182\" cy=\"725.565\" r=\"14\" fill=\"#ff0000\" fill-rule=\"evenodd\" fill-opacity=\"1\" stroke=\"#000000\" stroke-opacity=\"1\" stroke-width=\"2.4\"/>\n",
       "<circle clip-path=\"url(#clip992)\" cx=\"820.431\" cy=\"719.194\" r=\"14\" fill=\"#0000ff\" fill-rule=\"evenodd\" fill-opacity=\"1\" stroke=\"#000000\" stroke-opacity=\"1\" stroke-width=\"2.4\"/>\n",
       "<circle clip-path=\"url(#clip992)\" cx=\"802.651\" cy=\"719.635\" r=\"14\" fill=\"#0000ff\" fill-rule=\"evenodd\" fill-opacity=\"1\" stroke=\"#000000\" stroke-opacity=\"1\" stroke-width=\"2.4\"/>\n",
       "<circle clip-path=\"url(#clip992)\" cx=\"807.539\" cy=\"721.903\" r=\"14\" fill=\"#0000ff\" fill-rule=\"evenodd\" fill-opacity=\"1\" stroke=\"#000000\" stroke-opacity=\"1\" stroke-width=\"2.4\"/>\n",
       "<circle clip-path=\"url(#clip992)\" cx=\"815.446\" cy=\"729.507\" r=\"14\" fill=\"#ff0000\" fill-rule=\"evenodd\" fill-opacity=\"1\" stroke=\"#000000\" stroke-opacity=\"1\" stroke-width=\"2.4\"/>\n",
       "<circle clip-path=\"url(#clip992)\" cx=\"868.905\" cy=\"746.963\" r=\"14\" fill=\"#ff0000\" fill-rule=\"evenodd\" fill-opacity=\"1\" stroke=\"#000000\" stroke-opacity=\"1\" stroke-width=\"2.4\"/>\n",
       "<circle clip-path=\"url(#clip992)\" cx=\"876.016\" cy=\"746.577\" r=\"14\" fill=\"#0000ff\" fill-rule=\"evenodd\" fill-opacity=\"1\" stroke=\"#000000\" stroke-opacity=\"1\" stroke-width=\"2.4\"/>\n",
       "<circle clip-path=\"url(#clip992)\" cx=\"864.79\" cy=\"754.066\" r=\"14\" fill=\"#ff0000\" fill-rule=\"evenodd\" fill-opacity=\"1\" stroke=\"#000000\" stroke-opacity=\"1\" stroke-width=\"2.4\"/>\n",
       "<circle clip-path=\"url(#clip992)\" cx=\"866.545\" cy=\"697.641\" r=\"14\" fill=\"#0000ff\" fill-rule=\"evenodd\" fill-opacity=\"1\" stroke=\"#000000\" stroke-opacity=\"1\" stroke-width=\"2.4\"/>\n",
       "<circle clip-path=\"url(#clip992)\" cx=\"853.085\" cy=\"691.162\" r=\"14\" fill=\"#0000ff\" fill-rule=\"evenodd\" fill-opacity=\"1\" stroke=\"#000000\" stroke-opacity=\"1\" stroke-width=\"2.4\"/>\n",
       "<circle clip-path=\"url(#clip992)\" cx=\"886.734\" cy=\"780.555\" r=\"14\" fill=\"#0000ff\" fill-rule=\"evenodd\" fill-opacity=\"1\" stroke=\"#000000\" stroke-opacity=\"1\" stroke-width=\"2.4\"/>\n",
       "<circle clip-path=\"url(#clip992)\" cx=\"899.809\" cy=\"766.189\" r=\"14\" fill=\"#ff0000\" fill-rule=\"evenodd\" fill-opacity=\"1\" stroke=\"#000000\" stroke-opacity=\"1\" stroke-width=\"2.4\"/>\n",
       "<circle clip-path=\"url(#clip992)\" cx=\"874.111\" cy=\"758.71\" r=\"14\" fill=\"#ff0000\" fill-rule=\"evenodd\" fill-opacity=\"1\" stroke=\"#000000\" stroke-opacity=\"1\" stroke-width=\"2.4\"/>\n",
       "<circle clip-path=\"url(#clip992)\" cx=\"894.551\" cy=\"783.225\" r=\"14\" fill=\"#ff0000\" fill-rule=\"evenodd\" fill-opacity=\"1\" stroke=\"#000000\" stroke-opacity=\"1\" stroke-width=\"2.4\"/>\n",
       "<circle clip-path=\"url(#clip992)\" cx=\"886.511\" cy=\"773.835\" r=\"14\" fill=\"#0000ff\" fill-rule=\"evenodd\" fill-opacity=\"1\" stroke=\"#000000\" stroke-opacity=\"1\" stroke-width=\"2.4\"/>\n",
       "<circle clip-path=\"url(#clip992)\" cx=\"878.187\" cy=\"779.37\" r=\"14\" fill=\"#0000ff\" fill-rule=\"evenodd\" fill-opacity=\"1\" stroke=\"#000000\" stroke-opacity=\"1\" stroke-width=\"2.4\"/>\n",
       "<circle clip-path=\"url(#clip992)\" cx=\"896.894\" cy=\"780.441\" r=\"14\" fill=\"#ff0000\" fill-rule=\"evenodd\" fill-opacity=\"1\" stroke=\"#000000\" stroke-opacity=\"1\" stroke-width=\"2.4\"/>\n",
       "<circle clip-path=\"url(#clip992)\" cx=\"1162.21\" cy=\"792.257\" r=\"14\" fill=\"#ff0000\" fill-rule=\"evenodd\" fill-opacity=\"1\" stroke=\"#000000\" stroke-opacity=\"1\" stroke-width=\"2.4\"/>\n",
       "<circle clip-path=\"url(#clip992)\" cx=\"1189.04\" cy=\"773.166\" r=\"14\" fill=\"#ff0000\" fill-rule=\"evenodd\" fill-opacity=\"1\" stroke=\"#000000\" stroke-opacity=\"1\" stroke-width=\"2.4\"/>\n",
       "<circle clip-path=\"url(#clip992)\" cx=\"1183.07\" cy=\"782.186\" r=\"14\" fill=\"#ff0000\" fill-rule=\"evenodd\" fill-opacity=\"1\" stroke=\"#000000\" stroke-opacity=\"1\" stroke-width=\"2.4\"/>\n",
       "<circle clip-path=\"url(#clip992)\" cx=\"1169.91\" cy=\"777.827\" r=\"14\" fill=\"#0000ff\" fill-rule=\"evenodd\" fill-opacity=\"1\" stroke=\"#000000\" stroke-opacity=\"1\" stroke-width=\"2.4\"/>\n",
       "<circle clip-path=\"url(#clip992)\" cx=\"1192.99\" cy=\"767.817\" r=\"14\" fill=\"#0000ff\" fill-rule=\"evenodd\" fill-opacity=\"1\" stroke=\"#000000\" stroke-opacity=\"1\" stroke-width=\"2.4\"/>\n",
       "<circle clip-path=\"url(#clip992)\" cx=\"1202.81\" cy=\"772.33\" r=\"14\" fill=\"#0000ff\" fill-rule=\"evenodd\" fill-opacity=\"1\" stroke=\"#000000\" stroke-opacity=\"1\" stroke-width=\"2.4\"/>\n",
       "<circle clip-path=\"url(#clip992)\" cx=\"1177.45\" cy=\"778.53\" r=\"14\" fill=\"#0000ff\" fill-rule=\"evenodd\" fill-opacity=\"1\" stroke=\"#000000\" stroke-opacity=\"1\" stroke-width=\"2.4\"/>\n",
       "<circle clip-path=\"url(#clip992)\" cx=\"1178.48\" cy=\"514.394\" r=\"14\" fill=\"#ff0000\" fill-rule=\"evenodd\" fill-opacity=\"1\" stroke=\"#000000\" stroke-opacity=\"1\" stroke-width=\"2.4\"/>\n",
       "<circle clip-path=\"url(#clip992)\" cx=\"1188.79\" cy=\"483.269\" r=\"14\" fill=\"#0000ff\" fill-rule=\"evenodd\" fill-opacity=\"1\" stroke=\"#000000\" stroke-opacity=\"1\" stroke-width=\"2.4\"/>\n",
       "<circle clip-path=\"url(#clip992)\" cx=\"1316.48\" cy=\"504.547\" r=\"14\" fill=\"#0000ff\" fill-rule=\"evenodd\" fill-opacity=\"1\" stroke=\"#000000\" stroke-opacity=\"1\" stroke-width=\"2.4\"/>\n",
       "<circle clip-path=\"url(#clip992)\" cx=\"1331.63\" cy=\"494.797\" r=\"14\" fill=\"#0000ff\" fill-rule=\"evenodd\" fill-opacity=\"1\" stroke=\"#000000\" stroke-opacity=\"1\" stroke-width=\"2.4\"/>\n",
       "<circle clip-path=\"url(#clip992)\" cx=\"1325.71\" cy=\"504.342\" r=\"14\" fill=\"#0000ff\" fill-rule=\"evenodd\" fill-opacity=\"1\" stroke=\"#000000\" stroke-opacity=\"1\" stroke-width=\"2.4\"/>\n",
       "<circle clip-path=\"url(#clip992)\" cx=\"706.773\" cy=\"684.753\" r=\"14\" fill=\"#0000ff\" fill-rule=\"evenodd\" fill-opacity=\"1\" stroke=\"#000000\" stroke-opacity=\"1\" stroke-width=\"2.4\"/>\n",
       "<circle clip-path=\"url(#clip992)\" cx=\"717.902\" cy=\"668.395\" r=\"14\" fill=\"#0000ff\" fill-rule=\"evenodd\" fill-opacity=\"1\" stroke=\"#000000\" stroke-opacity=\"1\" stroke-width=\"2.4\"/>\n",
       "<circle clip-path=\"url(#clip992)\" cx=\"638.554\" cy=\"696.92\" r=\"14\" fill=\"#0000ff\" fill-rule=\"evenodd\" fill-opacity=\"1\" stroke=\"#000000\" stroke-opacity=\"1\" stroke-width=\"2.4\"/>\n",
       "<circle clip-path=\"url(#clip992)\" cx=\"710.12\" cy=\"676.738\" r=\"14\" fill=\"#0000ff\" fill-rule=\"evenodd\" fill-opacity=\"1\" stroke=\"#000000\" stroke-opacity=\"1\" stroke-width=\"2.4\"/>\n",
       "<circle clip-path=\"url(#clip992)\" cx=\"727.12\" cy=\"674.951\" r=\"14\" fill=\"#0000ff\" fill-rule=\"evenodd\" fill-opacity=\"1\" stroke=\"#000000\" stroke-opacity=\"1\" stroke-width=\"2.4\"/>\n",
       "<circle clip-path=\"url(#clip992)\" cx=\"888.388\" cy=\"547.91\" r=\"14\" fill=\"#0000ff\" fill-rule=\"evenodd\" fill-opacity=\"1\" stroke=\"#000000\" stroke-opacity=\"1\" stroke-width=\"2.4\"/>\n",
       "<circle clip-path=\"url(#clip992)\" cx=\"935.109\" cy=\"401.198\" r=\"14\" fill=\"#ff0000\" fill-rule=\"evenodd\" fill-opacity=\"1\" stroke=\"#000000\" stroke-opacity=\"1\" stroke-width=\"2.4\"/>\n",
       "<circle clip-path=\"url(#clip992)\" cx=\"966.786\" cy=\"374.747\" r=\"14\" fill=\"#0000ff\" fill-rule=\"evenodd\" fill-opacity=\"1\" stroke=\"#000000\" stroke-opacity=\"1\" stroke-width=\"2.4\"/>\n",
       "<circle clip-path=\"url(#clip992)\" cx=\"945.489\" cy=\"374.661\" r=\"14\" fill=\"#0000ff\" fill-rule=\"evenodd\" fill-opacity=\"1\" stroke=\"#000000\" stroke-opacity=\"1\" stroke-width=\"2.4\"/>\n",
       "<circle clip-path=\"url(#clip992)\" cx=\"965.354\" cy=\"361.671\" r=\"14\" fill=\"#0000ff\" fill-rule=\"evenodd\" fill-opacity=\"1\" stroke=\"#000000\" stroke-opacity=\"1\" stroke-width=\"2.4\"/>\n",
       "<circle clip-path=\"url(#clip992)\" cx=\"998.166\" cy=\"550.265\" r=\"14\" fill=\"#0000ff\" fill-rule=\"evenodd\" fill-opacity=\"1\" stroke=\"#000000\" stroke-opacity=\"1\" stroke-width=\"2.4\"/>\n",
       "<circle clip-path=\"url(#clip992)\" cx=\"931.972\" cy=\"337.191\" r=\"14\" fill=\"#0000ff\" fill-rule=\"evenodd\" fill-opacity=\"1\" stroke=\"#000000\" stroke-opacity=\"1\" stroke-width=\"2.4\"/>\n",
       "<circle clip-path=\"url(#clip992)\" cx=\"1277.91\" cy=\"159.672\" r=\"14\" fill=\"#ff0000\" fill-rule=\"evenodd\" fill-opacity=\"1\" stroke=\"#000000\" stroke-opacity=\"1\" stroke-width=\"2.4\"/>\n",
       "<circle clip-path=\"url(#clip992)\" cx=\"1382.86\" cy=\"76.43\" r=\"14\" fill=\"#0000ff\" fill-rule=\"evenodd\" fill-opacity=\"1\" stroke=\"#000000\" stroke-opacity=\"1\" stroke-width=\"2.4\"/>\n",
       "<circle clip-path=\"url(#clip992)\" cx=\"938.459\" cy=\"589.735\" r=\"14\" fill=\"#0000ff\" fill-rule=\"evenodd\" fill-opacity=\"1\" stroke=\"#000000\" stroke-opacity=\"1\" stroke-width=\"2.4\"/>\n",
       "<circle clip-path=\"url(#clip992)\" cx=\"999.908\" cy=\"537.424\" r=\"14\" fill=\"#0000ff\" fill-rule=\"evenodd\" fill-opacity=\"1\" stroke=\"#000000\" stroke-opacity=\"1\" stroke-width=\"2.4\"/>\n",
       "<circle clip-path=\"url(#clip992)\" cx=\"1034.8\" cy=\"523.626\" r=\"14\" fill=\"#0000ff\" fill-rule=\"evenodd\" fill-opacity=\"1\" stroke=\"#000000\" stroke-opacity=\"1\" stroke-width=\"2.4\"/>\n",
       "<circle clip-path=\"url(#clip992)\" cx=\"1361.51\" cy=\"312.594\" r=\"14\" fill=\"#0000ff\" fill-rule=\"evenodd\" fill-opacity=\"1\" stroke=\"#000000\" stroke-opacity=\"1\" stroke-width=\"2.4\"/>\n",
       "<circle clip-path=\"url(#clip992)\" cx=\"705.284\" cy=\"763.649\" r=\"14\" fill=\"#0000ff\" fill-rule=\"evenodd\" fill-opacity=\"1\" stroke=\"#000000\" stroke-opacity=\"1\" stroke-width=\"2.4\"/>\n",
       "<circle clip-path=\"url(#clip992)\" cx=\"251.517\" cy=\"1049.29\" r=\"14\" fill=\"#0000ff\" fill-rule=\"evenodd\" fill-opacity=\"1\" stroke=\"#000000\" stroke-opacity=\"1\" stroke-width=\"2.4\"/>\n",
       "<circle clip-path=\"url(#clip992)\" cx=\"341.754\" cy=\"981.961\" r=\"14\" fill=\"#0000ff\" fill-rule=\"evenodd\" fill-opacity=\"1\" stroke=\"#000000\" stroke-opacity=\"1\" stroke-width=\"2.4\"/>\n",
       "<circle clip-path=\"url(#clip992)\" cx=\"395.991\" cy=\"1039.25\" r=\"14\" fill=\"#0000ff\" fill-rule=\"evenodd\" fill-opacity=\"1\" stroke=\"#000000\" stroke-opacity=\"1\" stroke-width=\"2.4\"/>\n",
       "<circle clip-path=\"url(#clip992)\" cx=\"440.928\" cy=\"994.028\" r=\"14\" fill=\"#0000ff\" fill-rule=\"evenodd\" fill-opacity=\"1\" stroke=\"#000000\" stroke-opacity=\"1\" stroke-width=\"2.4\"/>\n",
       "<circle clip-path=\"url(#clip992)\" cx=\"1345.69\" cy=\"424.575\" r=\"14\" fill=\"#ff0000\" fill-rule=\"evenodd\" fill-opacity=\"1\" stroke=\"#000000\" stroke-opacity=\"1\" stroke-width=\"2.4\"/>\n",
       "<circle clip-path=\"url(#clip992)\" cx=\"1516.48\" cy=\"342.102\" r=\"14\" fill=\"#ff0000\" fill-rule=\"evenodd\" fill-opacity=\"1\" stroke=\"#000000\" stroke-opacity=\"1\" stroke-width=\"2.4\"/>\n",
       "<circle clip-path=\"url(#clip992)\" cx=\"1486.48\" cy=\"342.858\" r=\"14\" fill=\"#0000ff\" fill-rule=\"evenodd\" fill-opacity=\"1\" stroke=\"#000000\" stroke-opacity=\"1\" stroke-width=\"2.4\"/>\n",
       "<circle clip-path=\"url(#clip992)\" cx=\"1459.06\" cy=\"371.855\" r=\"14\" fill=\"#0000ff\" fill-rule=\"evenodd\" fill-opacity=\"1\" stroke=\"#000000\" stroke-opacity=\"1\" stroke-width=\"2.4\"/>\n",
       "<circle clip-path=\"url(#clip992)\" cx=\"1232.87\" cy=\"508.677\" r=\"14\" fill=\"#0000ff\" fill-rule=\"evenodd\" fill-opacity=\"1\" stroke=\"#000000\" stroke-opacity=\"1\" stroke-width=\"2.4\"/>\n",
       "<circle clip-path=\"url(#clip992)\" cx=\"1263.3\" cy=\"474.758\" r=\"14\" fill=\"#0000ff\" fill-rule=\"evenodd\" fill-opacity=\"1\" stroke=\"#000000\" stroke-opacity=\"1\" stroke-width=\"2.4\"/>\n",
       "<circle clip-path=\"url(#clip992)\" cx=\"1444.19\" cy=\"356.571\" r=\"14\" fill=\"#0000ff\" fill-rule=\"evenodd\" fill-opacity=\"1\" stroke=\"#000000\" stroke-opacity=\"1\" stroke-width=\"2.4\"/>\n",
       "<circle clip-path=\"url(#clip992)\" cx=\"1512.76\" cy=\"310.475\" r=\"14\" fill=\"#0000ff\" fill-rule=\"evenodd\" fill-opacity=\"1\" stroke=\"#000000\" stroke-opacity=\"1\" stroke-width=\"2.4\"/>\n",
       "<circle clip-path=\"url(#clip992)\" cx=\"1226.44\" cy=\"511.376\" r=\"14\" fill=\"#0000ff\" fill-rule=\"evenodd\" fill-opacity=\"1\" stroke=\"#000000\" stroke-opacity=\"1\" stroke-width=\"2.4\"/>\n",
       "<circle clip-path=\"url(#clip992)\" cx=\"1253.96\" cy=\"476.871\" r=\"14\" fill=\"#0000ff\" fill-rule=\"evenodd\" fill-opacity=\"1\" stroke=\"#000000\" stroke-opacity=\"1\" stroke-width=\"2.4\"/>\n",
       "<circle clip-path=\"url(#clip992)\" cx=\"1427.41\" cy=\"382.495\" r=\"14\" fill=\"#0000ff\" fill-rule=\"evenodd\" fill-opacity=\"1\" stroke=\"#000000\" stroke-opacity=\"1\" stroke-width=\"2.4\"/>\n",
       "<path clip-path=\"url(#clip990)\" d=\"\n",
       "M1813.36 1078.48 L3169.38 1078.48 L3169.38 47.2441 L1813.36 47.2441  Z\n",
       "  \" fill=\"#ffffff\" fill-rule=\"evenodd\" fill-opacity=\"1\"/>\n",
       "<defs>\n",
       "  <clipPath id=\"clip993\">\n",
       "    <rect x=\"1813\" y=\"47\" width=\"1357\" height=\"1032\"/>\n",
       "  </clipPath>\n",
       "</defs>\n",
       "<polyline clip-path=\"url(#clip993)\" style=\"stroke:#000000; stroke-linecap:butt; stroke-linejoin:round; stroke-width:2; stroke-opacity:0.1; fill:none\" points=\"\n",
       "  1936.25,1078.48 1936.25,47.2441 \n",
       "  \"/>\n",
       "<polyline clip-path=\"url(#clip993)\" style=\"stroke:#000000; stroke-linecap:butt; stroke-linejoin:round; stroke-width:2; stroke-opacity:0.1; fill:none\" points=\"\n",
       "  2219.59,1078.48 2219.59,47.2441 \n",
       "  \"/>\n",
       "<polyline clip-path=\"url(#clip993)\" style=\"stroke:#000000; stroke-linecap:butt; stroke-linejoin:round; stroke-width:2; stroke-opacity:0.1; fill:none\" points=\"\n",
       "  2502.93,1078.48 2502.93,47.2441 \n",
       "  \"/>\n",
       "<polyline clip-path=\"url(#clip993)\" style=\"stroke:#000000; stroke-linecap:butt; stroke-linejoin:round; stroke-width:2; stroke-opacity:0.1; fill:none\" points=\"\n",
       "  2786.28,1078.48 2786.28,47.2441 \n",
       "  \"/>\n",
       "<polyline clip-path=\"url(#clip993)\" style=\"stroke:#000000; stroke-linecap:butt; stroke-linejoin:round; stroke-width:2; stroke-opacity:0.1; fill:none\" points=\"\n",
       "  3069.62,1078.48 3069.62,47.2441 \n",
       "  \"/>\n",
       "<polyline clip-path=\"url(#clip990)\" style=\"stroke:#000000; stroke-linecap:butt; stroke-linejoin:round; stroke-width:4; stroke-opacity:1; fill:none\" points=\"\n",
       "  1813.36,1078.48 3169.38,1078.48 \n",
       "  \"/>\n",
       "<polyline clip-path=\"url(#clip990)\" style=\"stroke:#000000; stroke-linecap:butt; stroke-linejoin:round; stroke-width:4; stroke-opacity:1; fill:none\" points=\"\n",
       "  1936.25,1078.48 1936.25,1059.58 \n",
       "  \"/>\n",
       "<polyline clip-path=\"url(#clip990)\" style=\"stroke:#000000; stroke-linecap:butt; stroke-linejoin:round; stroke-width:4; stroke-opacity:1; fill:none\" points=\"\n",
       "  2219.59,1078.48 2219.59,1059.58 \n",
       "  \"/>\n",
       "<polyline clip-path=\"url(#clip990)\" style=\"stroke:#000000; stroke-linecap:butt; stroke-linejoin:round; stroke-width:4; stroke-opacity:1; fill:none\" points=\"\n",
       "  2502.93,1078.48 2502.93,1059.58 \n",
       "  \"/>\n",
       "<polyline clip-path=\"url(#clip990)\" style=\"stroke:#000000; stroke-linecap:butt; stroke-linejoin:round; stroke-width:4; stroke-opacity:1; fill:none\" points=\"\n",
       "  2786.28,1078.48 2786.28,1059.58 \n",
       "  \"/>\n",
       "<polyline clip-path=\"url(#clip990)\" style=\"stroke:#000000; stroke-linecap:butt; stroke-linejoin:round; stroke-width:4; stroke-opacity:1; fill:none\" points=\"\n",
       "  3069.62,1078.48 3069.62,1059.58 \n",
       "  \"/>\n",
       "<path clip-path=\"url(#clip990)\" d=\"M1906 1141.52 L1935.68 1141.52 L1935.68 1145.46 L1906 1145.46 L1906 1141.52 Z\" fill=\"#000000\" fill-rule=\"evenodd\" fill-opacity=\"1\" /><path clip-path=\"url(#clip990)\" d=\"M1946.58 1154.42 L1954.22 1154.42 L1954.22 1128.05 L1945.91 1129.72 L1945.91 1125.46 L1954.17 1123.79 L1958.85 1123.79 L1958.85 1154.42 L1966.49 1154.42 L1966.49 1158.35 L1946.58 1158.35 L1946.58 1154.42 Z\" fill=\"#000000\" fill-rule=\"evenodd\" fill-opacity=\"1\" /><path clip-path=\"url(#clip990)\" d=\"M2219.59 1126.87 Q2215.98 1126.87 2214.15 1130.44 Q2212.34 1133.98 2212.34 1141.11 Q2212.34 1148.21 2214.15 1151.78 Q2215.98 1155.32 2219.59 1155.32 Q2223.22 1155.32 2225.03 1151.78 Q2226.86 1148.21 2226.86 1141.11 Q2226.86 1133.98 2225.03 1130.44 Q2223.22 1126.87 2219.59 1126.87 M2219.59 1123.17 Q2225.4 1123.17 2228.46 1127.77 Q2231.53 1132.36 2231.53 1141.11 Q2231.53 1149.83 2228.46 1154.44 Q2225.4 1159.02 2219.59 1159.02 Q2213.78 1159.02 2210.7 1154.44 Q2207.65 1149.83 2207.65 1141.11 Q2207.65 1132.36 2210.7 1127.77 Q2213.78 1123.17 2219.59 1123.17 Z\" fill=\"#000000\" fill-rule=\"evenodd\" fill-opacity=\"1\" /><path clip-path=\"url(#clip990)\" d=\"M2493.32 1154.42 L2500.95 1154.42 L2500.95 1128.05 L2492.64 1129.72 L2492.64 1125.46 L2500.91 1123.79 L2505.58 1123.79 L2505.58 1154.42 L2513.22 1154.42 L2513.22 1158.35 L2493.32 1158.35 L2493.32 1154.42 Z\" fill=\"#000000\" fill-rule=\"evenodd\" fill-opacity=\"1\" /><path clip-path=\"url(#clip990)\" d=\"M2780.93 1154.42 L2797.25 1154.42 L2797.25 1158.35 L2775.31 1158.35 L2775.31 1154.42 Q2777.97 1151.66 2782.55 1147.03 Q2787.16 1142.38 2788.34 1141.04 Q2790.58 1138.51 2791.46 1136.78 Q2792.37 1135.02 2792.37 1133.33 Q2792.37 1130.57 2790.42 1128.84 Q2788.5 1127.1 2785.4 1127.1 Q2783.2 1127.1 2780.74 1127.87 Q2778.31 1128.63 2775.54 1130.18 L2775.54 1125.46 Q2778.36 1124.32 2780.81 1123.75 Q2783.27 1123.17 2785.31 1123.17 Q2790.68 1123.17 2793.87 1125.85 Q2797.06 1128.54 2797.06 1133.03 Q2797.06 1135.16 2796.25 1137.08 Q2795.47 1138.98 2793.36 1141.57 Q2792.78 1142.24 2789.68 1145.46 Q2786.58 1148.65 2780.93 1154.42 Z\" fill=\"#000000\" fill-rule=\"evenodd\" fill-opacity=\"1\" /><path clip-path=\"url(#clip990)\" d=\"M3073.87 1139.72 Q3077.23 1140.44 3079.1 1142.7 Q3081 1144.97 3081 1148.31 Q3081 1153.42 3077.48 1156.22 Q3073.96 1159.02 3067.48 1159.02 Q3065.3 1159.02 3062.99 1158.58 Q3060.7 1158.17 3058.24 1157.31 L3058.24 1152.8 Q3060.19 1153.93 3062.5 1154.51 Q3064.82 1155.09 3067.34 1155.09 Q3071.74 1155.09 3074.03 1153.35 Q3076.35 1151.62 3076.35 1148.31 Q3076.35 1145.25 3074.19 1143.54 Q3072.06 1141.8 3068.24 1141.8 L3064.22 1141.8 L3064.22 1137.96 L3068.43 1137.96 Q3071.88 1137.96 3073.71 1136.59 Q3075.54 1135.2 3075.54 1132.61 Q3075.54 1129.95 3073.64 1128.54 Q3071.76 1127.1 3068.24 1127.1 Q3066.32 1127.1 3064.12 1127.52 Q3061.92 1127.94 3059.29 1128.81 L3059.29 1124.65 Q3061.95 1123.91 3064.26 1123.54 Q3066.6 1123.17 3068.66 1123.17 Q3073.98 1123.17 3077.09 1125.6 Q3080.19 1128 3080.19 1132.13 Q3080.19 1135 3078.54 1136.99 Q3076.9 1138.95 3073.87 1139.72 Z\" fill=\"#000000\" fill-rule=\"evenodd\" fill-opacity=\"1\" /><path clip-path=\"url(#clip990)\" d=\"M2420.71 1241.11 Q2420.71 1234.74 2418.07 1231.24 Q2415.46 1227.74 2410.71 1227.74 Q2406 1227.74 2403.36 1231.24 Q2400.75 1234.74 2400.75 1241.11 Q2400.75 1247.44 2403.36 1250.94 Q2406 1254.44 2410.71 1254.44 Q2415.46 1254.44 2418.07 1250.94 Q2420.71 1247.44 2420.71 1241.11 M2426.56 1254.92 Q2426.56 1264.02 2422.52 1268.45 Q2418.48 1272.9 2410.14 1272.9 Q2407.05 1272.9 2404.32 1272.43 Q2401.58 1271.98 2399 1271.02 L2399 1265.33 Q2401.58 1266.73 2404.09 1267.4 Q2406.61 1268.06 2409.22 1268.06 Q2414.98 1268.06 2417.84 1265.04 Q2420.71 1262.05 2420.71 1255.97 L2420.71 1253.07 Q2418.89 1256.22 2416.06 1257.78 Q2413.23 1259.34 2409.28 1259.34 Q2402.73 1259.34 2398.71 1254.35 Q2394.7 1249.35 2394.7 1241.11 Q2394.7 1232.83 2398.71 1227.83 Q2402.73 1222.84 2409.28 1222.84 Q2413.23 1222.84 2416.06 1224.4 Q2418.89 1225.96 2420.71 1229.11 L2420.71 1223.7 L2426.56 1223.7 L2426.56 1254.92 Z\" fill=\"#000000\" fill-rule=\"evenodd\" fill-opacity=\"1\" /><path clip-path=\"url(#clip990)\" d=\"M2454.83 1241.42 Q2447.73 1241.42 2444.99 1243.05 Q2442.26 1244.67 2442.26 1248.59 Q2442.26 1251.7 2444.29 1253.55 Q2446.36 1255.37 2449.9 1255.37 Q2454.77 1255.37 2457.69 1251.93 Q2460.65 1248.46 2460.65 1242.73 L2460.65 1241.42 L2454.83 1241.42 M2466.51 1239.01 L2466.51 1259.34 L2460.65 1259.34 L2460.65 1253.93 Q2458.65 1257.18 2455.66 1258.74 Q2452.66 1260.27 2448.34 1260.27 Q2442.86 1260.27 2439.61 1257.21 Q2436.4 1254.12 2436.4 1248.97 Q2436.4 1242.95 2440.41 1239.9 Q2444.45 1236.84 2452.44 1236.84 L2460.65 1236.84 L2460.65 1236.27 Q2460.65 1232.23 2457.98 1230.03 Q2455.34 1227.8 2450.53 1227.8 Q2447.48 1227.8 2444.58 1228.53 Q2441.68 1229.27 2439.01 1230.73 L2439.01 1225.32 Q2442.22 1224.08 2445.25 1223.47 Q2448.27 1222.84 2451.14 1222.84 Q2458.87 1222.84 2462.69 1226.85 Q2466.51 1230.86 2466.51 1239.01 Z\" fill=\"#000000\" fill-rule=\"evenodd\" fill-opacity=\"1\" /><path clip-path=\"url(#clip990)\" d=\"M2478.57 1223.7 L2484.43 1223.7 L2484.43 1259.34 L2478.57 1259.34 L2478.57 1223.7 M2478.57 1209.82 L2484.43 1209.82 L2484.43 1217.23 L2478.57 1217.23 L2478.57 1209.82 Z\" fill=\"#000000\" fill-rule=\"evenodd\" fill-opacity=\"1\" /><path clip-path=\"url(#clip990)\" d=\"M2526.32 1237.83 L2526.32 1259.34 L2520.46 1259.34 L2520.46 1238.02 Q2520.46 1232.96 2518.49 1230.44 Q2516.51 1227.93 2512.57 1227.93 Q2507.82 1227.93 2505.09 1230.95 Q2502.35 1233.98 2502.35 1239.2 L2502.35 1259.34 L2496.46 1259.34 L2496.46 1223.7 L2502.35 1223.7 L2502.35 1229.23 Q2504.45 1226.02 2507.28 1224.43 Q2510.15 1222.84 2513.87 1222.84 Q2520.01 1222.84 2523.16 1226.66 Q2526.32 1230.44 2526.32 1237.83 Z\" fill=\"#000000\" fill-rule=\"evenodd\" fill-opacity=\"1\" /><path clip-path=\"url(#clip990)\" d=\"M2560.66 1253.93 L2571.16 1253.93 L2571.16 1217.68 L2559.74 1219.97 L2559.74 1214.12 L2571.1 1211.82 L2577.53 1211.82 L2577.53 1253.93 L2588.03 1253.93 L2588.03 1259.34 L2560.66 1259.34 L2560.66 1253.93 Z\" fill=\"#000000\" fill-rule=\"evenodd\" fill-opacity=\"1\" /><polyline clip-path=\"url(#clip993)\" style=\"stroke:#000000; stroke-linecap:butt; stroke-linejoin:round; stroke-width:2; stroke-opacity:0.1; fill:none\" points=\"\n",
       "  1813.36,1056.51 3169.38,1056.51 \n",
       "  \"/>\n",
       "<polyline clip-path=\"url(#clip993)\" style=\"stroke:#000000; stroke-linecap:butt; stroke-linejoin:round; stroke-width:2; stroke-opacity:0.1; fill:none\" points=\"\n",
       "  1813.36,778.024 3169.38,778.024 \n",
       "  \"/>\n",
       "<polyline clip-path=\"url(#clip993)\" style=\"stroke:#000000; stroke-linecap:butt; stroke-linejoin:round; stroke-width:2; stroke-opacity:0.1; fill:none\" points=\"\n",
       "  1813.36,499.541 3169.38,499.541 \n",
       "  \"/>\n",
       "<polyline clip-path=\"url(#clip993)\" style=\"stroke:#000000; stroke-linecap:butt; stroke-linejoin:round; stroke-width:2; stroke-opacity:0.1; fill:none\" points=\"\n",
       "  1813.36,221.059 3169.38,221.059 \n",
       "  \"/>\n",
       "<polyline clip-path=\"url(#clip990)\" style=\"stroke:#000000; stroke-linecap:butt; stroke-linejoin:round; stroke-width:4; stroke-opacity:1; fill:none\" points=\"\n",
       "  1813.36,1078.48 1813.36,47.2441 \n",
       "  \"/>\n",
       "<polyline clip-path=\"url(#clip990)\" style=\"stroke:#000000; stroke-linecap:butt; stroke-linejoin:round; stroke-width:4; stroke-opacity:1; fill:none\" points=\"\n",
       "  1813.36,1056.51 1832.25,1056.51 \n",
       "  \"/>\n",
       "<polyline clip-path=\"url(#clip990)\" style=\"stroke:#000000; stroke-linecap:butt; stroke-linejoin:round; stroke-width:4; stroke-opacity:1; fill:none\" points=\"\n",
       "  1813.36,778.024 1832.25,778.024 \n",
       "  \"/>\n",
       "<polyline clip-path=\"url(#clip990)\" style=\"stroke:#000000; stroke-linecap:butt; stroke-linejoin:round; stroke-width:4; stroke-opacity:1; fill:none\" points=\"\n",
       "  1813.36,499.541 1832.25,499.541 \n",
       "  \"/>\n",
       "<polyline clip-path=\"url(#clip990)\" style=\"stroke:#000000; stroke-linecap:butt; stroke-linejoin:round; stroke-width:4; stroke-opacity:1; fill:none\" points=\"\n",
       "  1813.36,221.059 1832.25,221.059 \n",
       "  \"/>\n",
       "<path clip-path=\"url(#clip990)\" d=\"M1680.87 1056.96 L1710.55 1056.96 L1710.55 1060.89 L1680.87 1060.89 L1680.87 1056.96 Z\" fill=\"#000000\" fill-rule=\"evenodd\" fill-opacity=\"1\" /><path clip-path=\"url(#clip990)\" d=\"M1721.45 1069.85 L1729.09 1069.85 L1729.09 1043.49 L1720.78 1045.15 L1720.78 1040.89 L1729.04 1039.23 L1733.72 1039.23 L1733.72 1069.85 L1741.36 1069.85 L1741.36 1073.79 L1721.45 1073.79 L1721.45 1069.85 Z\" fill=\"#000000\" fill-rule=\"evenodd\" fill-opacity=\"1\" /><path clip-path=\"url(#clip990)\" d=\"M1729.41 763.823 Q1725.8 763.823 1723.97 767.388 Q1722.17 770.93 1722.17 778.059 Q1722.17 785.166 1723.97 788.73 Q1725.8 792.272 1729.41 792.272 Q1733.05 792.272 1734.85 788.73 Q1736.68 785.166 1736.68 778.059 Q1736.68 770.93 1734.85 767.388 Q1733.05 763.823 1729.41 763.823 M1729.41 760.119 Q1735.22 760.119 1738.28 764.726 Q1741.36 769.309 1741.36 778.059 Q1741.36 786.786 1738.28 791.392 Q1735.22 795.976 1729.41 795.976 Q1723.6 795.976 1720.52 791.392 Q1717.47 786.786 1717.47 778.059 Q1717.47 769.309 1720.52 764.726 Q1723.6 760.119 1729.41 760.119 Z\" fill=\"#000000\" fill-rule=\"evenodd\" fill-opacity=\"1\" /><path clip-path=\"url(#clip990)\" d=\"M1721.45 512.886 L1729.09 512.886 L1729.09 486.521 L1720.78 488.187 L1720.78 483.928 L1729.04 482.261 L1733.72 482.261 L1733.72 512.886 L1741.36 512.886 L1741.36 516.821 L1721.45 516.821 L1721.45 512.886 Z\" fill=\"#000000\" fill-rule=\"evenodd\" fill-opacity=\"1\" /><path clip-path=\"url(#clip990)\" d=\"M1725.04 234.403 L1741.36 234.403 L1741.36 238.339 L1719.41 238.339 L1719.41 234.403 Q1722.07 231.649 1726.66 227.019 Q1731.26 222.366 1732.45 221.024 Q1734.69 218.501 1735.57 216.765 Q1736.47 215.005 1736.47 213.316 Q1736.47 210.561 1734.53 208.825 Q1732.61 207.089 1729.51 207.089 Q1727.31 207.089 1724.85 207.853 Q1722.42 208.617 1719.64 210.167 L1719.64 205.445 Q1722.47 204.311 1724.92 203.732 Q1727.38 203.154 1729.41 203.154 Q1734.78 203.154 1737.98 205.839 Q1741.17 208.524 1741.17 213.015 Q1741.17 215.144 1740.36 217.066 Q1739.57 218.964 1737.47 221.556 Q1736.89 222.228 1733.79 225.445 Q1730.69 228.64 1725.04 234.403 Z\" fill=\"#000000\" fill-rule=\"evenodd\" fill-opacity=\"1\" /><path clip-path=\"url(#clip990)\" d=\"M1576.38 633.267 Q1570.01 633.267 1566.51 635.908 Q1563.01 638.518 1563.01 643.261 Q1563.01 647.971 1566.51 650.613 Q1570.01 653.223 1576.38 653.223 Q1582.71 653.223 1586.21 650.613 Q1589.71 647.971 1589.71 643.261 Q1589.71 638.518 1586.21 635.908 Q1582.71 633.267 1576.38 633.267 M1590.19 627.41 Q1599.29 627.41 1603.72 631.452 Q1608.17 635.495 1608.17 643.834 Q1608.17 646.921 1607.7 649.658 Q1607.25 652.396 1606.3 654.974 L1600.6 654.974 Q1602 652.396 1602.67 649.881 Q1603.34 647.367 1603.34 644.757 Q1603.34 638.996 1600.31 636.131 Q1597.32 633.267 1591.24 633.267 L1588.35 633.267 Q1591.5 635.081 1593.06 637.914 Q1594.62 640.746 1594.62 644.693 Q1594.62 651.25 1589.62 655.26 Q1584.62 659.271 1576.38 659.271 Q1568.1 659.271 1563.11 655.26 Q1558.11 651.25 1558.11 644.693 Q1558.11 640.746 1559.67 637.914 Q1561.23 635.081 1564.38 633.267 L1558.97 633.267 L1558.97 627.41 L1590.19 627.41 Z\" fill=\"#000000\" fill-rule=\"evenodd\" fill-opacity=\"1\" /><path clip-path=\"url(#clip990)\" d=\"M1576.7 599.146 Q1576.7 606.244 1578.32 608.982 Q1579.94 611.719 1583.86 611.719 Q1586.98 611.719 1588.82 609.682 Q1590.64 607.613 1590.64 604.08 Q1590.64 599.21 1587.2 596.282 Q1583.73 593.322 1578 593.322 L1576.7 593.322 L1576.7 599.146 M1574.28 587.465 L1594.62 587.465 L1594.62 593.322 L1589.2 593.322 Q1592.45 595.327 1594.01 598.319 Q1595.54 601.311 1595.54 605.64 Q1595.54 611.114 1592.48 614.361 Q1589.4 617.575 1584.24 617.575 Q1578.22 617.575 1575.17 613.565 Q1572.11 609.523 1572.11 601.534 L1572.11 593.322 L1571.54 593.322 Q1567.5 593.322 1565.3 595.995 Q1563.07 598.637 1563.07 603.443 Q1563.07 606.499 1563.81 609.395 Q1564.54 612.292 1566 614.965 L1560.59 614.965 Q1559.35 611.751 1558.74 608.727 Q1558.11 605.703 1558.11 602.839 Q1558.11 595.104 1562.12 591.285 Q1566.13 587.465 1574.28 587.465 Z\" fill=\"#000000\" fill-rule=\"evenodd\" fill-opacity=\"1\" /><path clip-path=\"url(#clip990)\" d=\"M1558.97 575.402 L1558.97 569.546 L1594.62 569.546 L1594.62 575.402 L1558.97 575.402 M1545.09 575.402 L1545.09 569.546 L1552.51 569.546 L1552.51 575.402 L1545.09 575.402 Z\" fill=\"#000000\" fill-rule=\"evenodd\" fill-opacity=\"1\" /><path clip-path=\"url(#clip990)\" d=\"M1573.1 527.66 L1594.62 527.66 L1594.62 533.516 L1573.29 533.516 Q1568.23 533.516 1565.72 535.489 Q1563.2 537.463 1563.2 541.41 Q1563.2 546.152 1566.22 548.889 Q1569.25 551.626 1574.47 551.626 L1594.62 551.626 L1594.62 557.515 L1558.97 557.515 L1558.97 551.626 L1564.51 551.626 Q1561.29 549.526 1559.7 546.693 Q1558.11 543.829 1558.11 540.105 Q1558.11 533.962 1561.93 530.811 Q1565.72 527.66 1573.1 527.66 Z\" fill=\"#000000\" fill-rule=\"evenodd\" fill-opacity=\"1\" /><path clip-path=\"url(#clip990)\" d=\"M1589.2 488.892 L1589.2 466.453 L1594.62 466.453 L1594.62 496.627 L1589.2 496.627 Q1585.42 492.967 1579.05 486.664 Q1572.65 480.331 1570.81 478.707 Q1567.34 475.62 1564.95 474.41 Q1562.53 473.169 1560.21 473.169 Q1556.42 473.169 1554.03 475.843 Q1551.65 478.485 1551.65 482.75 Q1551.65 485.773 1552.7 489.147 Q1553.75 492.489 1555.88 496.309 L1549.39 496.309 Q1547.83 492.425 1547.03 489.052 Q1546.24 485.678 1546.24 482.877 Q1546.24 475.493 1549.93 471.1 Q1553.62 466.708 1559.8 466.708 Q1562.72 466.708 1565.37 467.822 Q1567.97 468.904 1571.54 471.801 Q1572.46 472.596 1576.89 476.861 Q1581.28 481.126 1589.2 488.892 Z\" fill=\"#000000\" fill-rule=\"evenodd\" fill-opacity=\"1\" /><circle clip-path=\"url(#clip993)\" cx=\"2267.6\" cy=\"570.934\" r=\"14\" fill=\"#7f00ff\" fill-rule=\"evenodd\" fill-opacity=\"1\" stroke=\"#000000\" stroke-opacity=\"1\" stroke-width=\"2.4\"/>\n",
       "<circle clip-path=\"url(#clip993)\" cx=\"2273.66\" cy=\"592.366\" r=\"14\" fill=\"#7a00ff\" fill-rule=\"evenodd\" fill-opacity=\"1\" stroke=\"#000000\" stroke-opacity=\"1\" stroke-width=\"2.4\"/>\n",
       "<circle clip-path=\"url(#clip993)\" cx=\"2282.48\" cy=\"583.218\" r=\"14\" fill=\"#a700ff\" fill-rule=\"evenodd\" fill-opacity=\"1\" stroke=\"#000000\" stroke-opacity=\"1\" stroke-width=\"2.4\"/>\n",
       "<circle clip-path=\"url(#clip993)\" cx=\"2283.37\" cy=\"572.966\" r=\"14\" fill=\"#7d00ff\" fill-rule=\"evenodd\" fill-opacity=\"1\" stroke=\"#000000\" stroke-opacity=\"1\" stroke-width=\"2.4\"/>\n",
       "<circle clip-path=\"url(#clip993)\" cx=\"2276.79\" cy=\"572.04\" r=\"14\" fill=\"#9300ff\" fill-rule=\"evenodd\" fill-opacity=\"1\" stroke=\"#000000\" stroke-opacity=\"1\" stroke-width=\"2.4\"/>\n",
       "<circle clip-path=\"url(#clip993)\" cx=\"2380.11\" cy=\"634.533\" r=\"14\" fill=\"#fc00ff\" fill-rule=\"evenodd\" fill-opacity=\"1\" stroke=\"#000000\" stroke-opacity=\"1\" stroke-width=\"2.4\"/>\n",
       "<circle clip-path=\"url(#clip993)\" cx=\"2366.29\" cy=\"634.574\" r=\"14\" fill=\"#ff00e6\" fill-rule=\"evenodd\" fill-opacity=\"1\" stroke=\"#000000\" stroke-opacity=\"1\" stroke-width=\"2.4\"/>\n",
       "<circle clip-path=\"url(#clip993)\" cx=\"2382.61\" cy=\"634.987\" r=\"14\" fill=\"#ff00e3\" fill-rule=\"evenodd\" fill-opacity=\"1\" stroke=\"#000000\" stroke-opacity=\"1\" stroke-width=\"2.4\"/>\n",
       "<circle clip-path=\"url(#clip993)\" cx=\"2426.53\" cy=\"723.325\" r=\"14\" fill=\"#ff00cc\" fill-rule=\"evenodd\" fill-opacity=\"1\" stroke=\"#000000\" stroke-opacity=\"1\" stroke-width=\"2.4\"/>\n",
       "<circle clip-path=\"url(#clip993)\" cx=\"2422.22\" cy=\"724.301\" r=\"14\" fill=\"#ff00ee\" fill-rule=\"evenodd\" fill-opacity=\"1\" stroke=\"#000000\" stroke-opacity=\"1\" stroke-width=\"2.4\"/>\n",
       "<circle clip-path=\"url(#clip993)\" cx=\"2409.91\" cy=\"733.159\" r=\"14\" fill=\"#ff00db\" fill-rule=\"evenodd\" fill-opacity=\"1\" stroke=\"#000000\" stroke-opacity=\"1\" stroke-width=\"2.4\"/>\n",
       "<circle clip-path=\"url(#clip993)\" cx=\"2430.58\" cy=\"730.746\" r=\"14\" fill=\"#ff00fb\" fill-rule=\"evenodd\" fill-opacity=\"1\" stroke=\"#000000\" stroke-opacity=\"1\" stroke-width=\"2.4\"/>\n",
       "<circle clip-path=\"url(#clip993)\" cx=\"2399.94\" cy=\"723.329\" r=\"14\" fill=\"#ff00d9\" fill-rule=\"evenodd\" fill-opacity=\"1\" stroke=\"#000000\" stroke-opacity=\"1\" stroke-width=\"2.4\"/>\n",
       "<circle clip-path=\"url(#clip993)\" cx=\"2426.26\" cy=\"717.479\" r=\"14\" fill=\"#ee00ff\" fill-rule=\"evenodd\" fill-opacity=\"1\" stroke=\"#000000\" stroke-opacity=\"1\" stroke-width=\"2.4\"/>\n",
       "<circle clip-path=\"url(#clip993)\" cx=\"2406.53\" cy=\"721.537\" r=\"14\" fill=\"#f800ff\" fill-rule=\"evenodd\" fill-opacity=\"1\" stroke=\"#000000\" stroke-opacity=\"1\" stroke-width=\"2.4\"/>\n",
       "<circle clip-path=\"url(#clip993)\" cx=\"2412.72\" cy=\"739.789\" r=\"14\" fill=\"#fe00ff\" fill-rule=\"evenodd\" fill-opacity=\"1\" stroke=\"#000000\" stroke-opacity=\"1\" stroke-width=\"2.4\"/>\n",
       "<circle clip-path=\"url(#clip993)\" cx=\"2471.25\" cy=\"751.077\" r=\"14\" fill=\"#ff009f\" fill-rule=\"evenodd\" fill-opacity=\"1\" stroke=\"#000000\" stroke-opacity=\"1\" stroke-width=\"2.4\"/>\n",
       "<circle clip-path=\"url(#clip993)\" cx=\"2474.04\" cy=\"744.244\" r=\"14\" fill=\"#ff00df\" fill-rule=\"evenodd\" fill-opacity=\"1\" stroke=\"#000000\" stroke-opacity=\"1\" stroke-width=\"2.4\"/>\n",
       "<circle clip-path=\"url(#clip993)\" cx=\"2490.25\" cy=\"726.156\" r=\"14\" fill=\"#ff00d8\" fill-rule=\"evenodd\" fill-opacity=\"1\" stroke=\"#000000\" stroke-opacity=\"1\" stroke-width=\"2.4\"/>\n",
       "<circle clip-path=\"url(#clip993)\" cx=\"2466.35\" cy=\"697.02\" r=\"14\" fill=\"#b700ff\" fill-rule=\"evenodd\" fill-opacity=\"1\" stroke=\"#000000\" stroke-opacity=\"1\" stroke-width=\"2.4\"/>\n",
       "<circle clip-path=\"url(#clip993)\" cx=\"2464.23\" cy=\"695.535\" r=\"14\" fill=\"#2b00ff\" fill-rule=\"evenodd\" fill-opacity=\"1\" stroke=\"#000000\" stroke-opacity=\"1\" stroke-width=\"2.4\"/>\n",
       "<circle clip-path=\"url(#clip993)\" cx=\"2507.34\" cy=\"770.658\" r=\"14\" fill=\"#ff00a0\" fill-rule=\"evenodd\" fill-opacity=\"1\" stroke=\"#000000\" stroke-opacity=\"1\" stroke-width=\"2.4\"/>\n",
       "<circle clip-path=\"url(#clip993)\" cx=\"2505.4\" cy=\"783.542\" r=\"14\" fill=\"#ff00a7\" fill-rule=\"evenodd\" fill-opacity=\"1\" stroke=\"#000000\" stroke-opacity=\"1\" stroke-width=\"2.4\"/>\n",
       "<circle clip-path=\"url(#clip993)\" cx=\"2499.54\" cy=\"767.066\" r=\"14\" fill=\"#ff00cb\" fill-rule=\"evenodd\" fill-opacity=\"1\" stroke=\"#000000\" stroke-opacity=\"1\" stroke-width=\"2.4\"/>\n",
       "<circle clip-path=\"url(#clip993)\" cx=\"2501.96\" cy=\"778.381\" r=\"14\" fill=\"#ff009f\" fill-rule=\"evenodd\" fill-opacity=\"1\" stroke=\"#000000\" stroke-opacity=\"1\" stroke-width=\"2.4\"/>\n",
       "<circle clip-path=\"url(#clip993)\" cx=\"2498.91\" cy=\"790.755\" r=\"14\" fill=\"#ff00a6\" fill-rule=\"evenodd\" fill-opacity=\"1\" stroke=\"#000000\" stroke-opacity=\"1\" stroke-width=\"2.4\"/>\n",
       "<circle clip-path=\"url(#clip993)\" cx=\"2497.12\" cy=\"779.239\" r=\"14\" fill=\"#ff00b4\" fill-rule=\"evenodd\" fill-opacity=\"1\" stroke=\"#000000\" stroke-opacity=\"1\" stroke-width=\"2.4\"/>\n",
       "<circle clip-path=\"url(#clip993)\" cx=\"2497.89\" cy=\"765.305\" r=\"14\" fill=\"#ff00ac\" fill-rule=\"evenodd\" fill-opacity=\"1\" stroke=\"#000000\" stroke-opacity=\"1\" stroke-width=\"2.4\"/>\n",
       "<circle clip-path=\"url(#clip993)\" cx=\"2777.03\" cy=\"775.283\" r=\"14\" fill=\"#9900ff\" fill-rule=\"evenodd\" fill-opacity=\"1\" stroke=\"#000000\" stroke-opacity=\"1\" stroke-width=\"2.4\"/>\n",
       "<circle clip-path=\"url(#clip993)\" cx=\"2789.82\" cy=\"775.895\" r=\"14\" fill=\"#8b00ff\" fill-rule=\"evenodd\" fill-opacity=\"1\" stroke=\"#000000\" stroke-opacity=\"1\" stroke-width=\"2.4\"/>\n",
       "<circle clip-path=\"url(#clip993)\" cx=\"2796.1\" cy=\"779.41\" r=\"14\" fill=\"#7b00ff\" fill-rule=\"evenodd\" fill-opacity=\"1\" stroke=\"#000000\" stroke-opacity=\"1\" stroke-width=\"2.4\"/>\n",
       "<circle clip-path=\"url(#clip993)\" cx=\"2795.22\" cy=\"786.283\" r=\"14\" fill=\"#8800ff\" fill-rule=\"evenodd\" fill-opacity=\"1\" stroke=\"#000000\" stroke-opacity=\"1\" stroke-width=\"2.4\"/>\n",
       "<circle clip-path=\"url(#clip993)\" cx=\"2773.34\" cy=\"791.307\" r=\"14\" fill=\"#8e00ff\" fill-rule=\"evenodd\" fill-opacity=\"1\" stroke=\"#000000\" stroke-opacity=\"1\" stroke-width=\"2.4\"/>\n",
       "<circle clip-path=\"url(#clip993)\" cx=\"2786.55\" cy=\"784.553\" r=\"14\" fill=\"#4e00ff\" fill-rule=\"evenodd\" fill-opacity=\"1\" stroke=\"#000000\" stroke-opacity=\"1\" stroke-width=\"2.4\"/>\n",
       "<circle clip-path=\"url(#clip993)\" cx=\"2794.69\" cy=\"793.796\" r=\"14\" fill=\"#7000ff\" fill-rule=\"evenodd\" fill-opacity=\"1\" stroke=\"#000000\" stroke-opacity=\"1\" stroke-width=\"2.4\"/>\n",
       "<circle clip-path=\"url(#clip993)\" cx=\"2790.35\" cy=\"503.332\" r=\"14\" fill=\"#d900ff\" fill-rule=\"evenodd\" fill-opacity=\"1\" stroke=\"#000000\" stroke-opacity=\"1\" stroke-width=\"2.4\"/>\n",
       "<circle clip-path=\"url(#clip993)\" cx=\"2791.2\" cy=\"493.569\" r=\"14\" fill=\"#e100ff\" fill-rule=\"evenodd\" fill-opacity=\"1\" stroke=\"#000000\" stroke-opacity=\"1\" stroke-width=\"2.4\"/>\n",
       "<circle clip-path=\"url(#clip993)\" cx=\"2941.77\" cy=\"501.366\" r=\"14\" fill=\"#a500ff\" fill-rule=\"evenodd\" fill-opacity=\"1\" stroke=\"#000000\" stroke-opacity=\"1\" stroke-width=\"2.4\"/>\n",
       "<circle clip-path=\"url(#clip993)\" cx=\"2910.85\" cy=\"499.777\" r=\"14\" fill=\"#ad00ff\" fill-rule=\"evenodd\" fill-opacity=\"1\" stroke=\"#000000\" stroke-opacity=\"1\" stroke-width=\"2.4\"/>\n",
       "<circle clip-path=\"url(#clip993)\" cx=\"2927.89\" cy=\"497.809\" r=\"14\" fill=\"#ab00ff\" fill-rule=\"evenodd\" fill-opacity=\"1\" stroke=\"#000000\" stroke-opacity=\"1\" stroke-width=\"2.4\"/>\n",
       "<circle clip-path=\"url(#clip993)\" cx=\"2298.9\" cy=\"674.387\" r=\"14\" fill=\"#7a00ff\" fill-rule=\"evenodd\" fill-opacity=\"1\" stroke=\"#000000\" stroke-opacity=\"1\" stroke-width=\"2.4\"/>\n",
       "<circle clip-path=\"url(#clip993)\" cx=\"2317.96\" cy=\"672.343\" r=\"14\" fill=\"#a700ff\" fill-rule=\"evenodd\" fill-opacity=\"1\" stroke=\"#000000\" stroke-opacity=\"1\" stroke-width=\"2.4\"/>\n",
       "<circle clip-path=\"url(#clip993)\" cx=\"2246.48\" cy=\"712.328\" r=\"14\" fill=\"#5a00ff\" fill-rule=\"evenodd\" fill-opacity=\"1\" stroke=\"#000000\" stroke-opacity=\"1\" stroke-width=\"2.4\"/>\n",
       "<circle clip-path=\"url(#clip993)\" cx=\"2308.65\" cy=\"671.622\" r=\"14\" fill=\"#8b00ff\" fill-rule=\"evenodd\" fill-opacity=\"1\" stroke=\"#000000\" stroke-opacity=\"1\" stroke-width=\"2.4\"/>\n",
       "<circle clip-path=\"url(#clip993)\" cx=\"2313.99\" cy=\"667.881\" r=\"14\" fill=\"#b700ff\" fill-rule=\"evenodd\" fill-opacity=\"1\" stroke=\"#000000\" stroke-opacity=\"1\" stroke-width=\"2.4\"/>\n",
       "<circle clip-path=\"url(#clip993)\" cx=\"2481.12\" cy=\"557.295\" r=\"14\" fill=\"#ff00c9\" fill-rule=\"evenodd\" fill-opacity=\"1\" stroke=\"#000000\" stroke-opacity=\"1\" stroke-width=\"2.4\"/>\n",
       "<circle clip-path=\"url(#clip993)\" cx=\"2561.48\" cy=\"378.338\" r=\"14\" fill=\"#ff00bb\" fill-rule=\"evenodd\" fill-opacity=\"1\" stroke=\"#000000\" stroke-opacity=\"1\" stroke-width=\"2.4\"/>\n",
       "<circle clip-path=\"url(#clip993)\" cx=\"2577.95\" cy=\"362.418\" r=\"14\" fill=\"#ff00af\" fill-rule=\"evenodd\" fill-opacity=\"1\" stroke=\"#000000\" stroke-opacity=\"1\" stroke-width=\"2.4\"/>\n",
       "<circle clip-path=\"url(#clip993)\" cx=\"2565.44\" cy=\"380.158\" r=\"14\" fill=\"#c700ff\" fill-rule=\"evenodd\" fill-opacity=\"1\" stroke=\"#000000\" stroke-opacity=\"1\" stroke-width=\"2.4\"/>\n",
       "<circle clip-path=\"url(#clip993)\" cx=\"2604.35\" cy=\"357.569\" r=\"14\" fill=\"#ff00de\" fill-rule=\"evenodd\" fill-opacity=\"1\" stroke=\"#000000\" stroke-opacity=\"1\" stroke-width=\"2.4\"/>\n",
       "<circle clip-path=\"url(#clip993)\" cx=\"2611.4\" cy=\"541.118\" r=\"14\" fill=\"#ff00d8\" fill-rule=\"evenodd\" fill-opacity=\"1\" stroke=\"#000000\" stroke-opacity=\"1\" stroke-width=\"2.4\"/>\n",
       "<circle clip-path=\"url(#clip993)\" cx=\"2549.04\" cy=\"377.147\" r=\"14\" fill=\"#ff00e9\" fill-rule=\"evenodd\" fill-opacity=\"1\" stroke=\"#000000\" stroke-opacity=\"1\" stroke-width=\"2.4\"/>\n",
       "<circle clip-path=\"url(#clip993)\" cx=\"2903.43\" cy=\"156.188\" r=\"14\" fill=\"#ea00ff\" fill-rule=\"evenodd\" fill-opacity=\"1\" stroke=\"#000000\" stroke-opacity=\"1\" stroke-width=\"2.4\"/>\n",
       "<circle clip-path=\"url(#clip993)\" cx=\"2979.67\" cy=\"77.4665\" r=\"14\" fill=\"#ff00ef\" fill-rule=\"evenodd\" fill-opacity=\"1\" stroke=\"#000000\" stroke-opacity=\"1\" stroke-width=\"2.4\"/>\n",
       "<circle clip-path=\"url(#clip993)\" cx=\"2552.52\" cy=\"566.704\" r=\"14\" fill=\"#dd00ff\" fill-rule=\"evenodd\" fill-opacity=\"1\" stroke=\"#000000\" stroke-opacity=\"1\" stroke-width=\"2.4\"/>\n",
       "<circle clip-path=\"url(#clip993)\" cx=\"2626.17\" cy=\"545.37\" r=\"14\" fill=\"#ff00e3\" fill-rule=\"evenodd\" fill-opacity=\"1\" stroke=\"#000000\" stroke-opacity=\"1\" stroke-width=\"2.4\"/>\n",
       "<circle clip-path=\"url(#clip993)\" cx=\"2642.78\" cy=\"558.018\" r=\"14\" fill=\"#ff00a8\" fill-rule=\"evenodd\" fill-opacity=\"1\" stroke=\"#000000\" stroke-opacity=\"1\" stroke-width=\"2.4\"/>\n",
       "<circle clip-path=\"url(#clip993)\" cx=\"2986.56\" cy=\"338.019\" r=\"14\" fill=\"#ff00cc\" fill-rule=\"evenodd\" fill-opacity=\"1\" stroke=\"#000000\" stroke-opacity=\"1\" stroke-width=\"2.4\"/>\n",
       "<circle clip-path=\"url(#clip993)\" cx=\"2306.6\" cy=\"759.942\" r=\"14\" fill=\"#ff009c\" fill-rule=\"evenodd\" fill-opacity=\"1\" stroke=\"#000000\" stroke-opacity=\"1\" stroke-width=\"2.4\"/>\n",
       "<circle clip-path=\"url(#clip993)\" cx=\"1851.74\" cy=\"1046.13\" r=\"14\" fill=\"#0400ff\" fill-rule=\"evenodd\" fill-opacity=\"1\" stroke=\"#000000\" stroke-opacity=\"1\" stroke-width=\"2.4\"/>\n",
       "<circle clip-path=\"url(#clip993)\" cx=\"1961.1\" cy=\"965.364\" r=\"14\" fill=\"#3f00ff\" fill-rule=\"evenodd\" fill-opacity=\"1\" stroke=\"#000000\" stroke-opacity=\"1\" stroke-width=\"2.4\"/>\n",
       "<circle clip-path=\"url(#clip993)\" cx=\"1993.41\" cy=\"1021.49\" r=\"14\" fill=\"#ff00ab\" fill-rule=\"evenodd\" fill-opacity=\"1\" stroke=\"#000000\" stroke-opacity=\"1\" stroke-width=\"2.4\"/>\n",
       "<circle clip-path=\"url(#clip993)\" cx=\"2055.74\" cy=\"1014.27\" r=\"14\" fill=\"#ff00a0\" fill-rule=\"evenodd\" fill-opacity=\"1\" stroke=\"#000000\" stroke-opacity=\"1\" stroke-width=\"2.4\"/>\n",
       "<circle clip-path=\"url(#clip993)\" cx=\"2941.79\" cy=\"411.173\" r=\"14\" fill=\"#ff00a0\" fill-rule=\"evenodd\" fill-opacity=\"1\" stroke=\"#000000\" stroke-opacity=\"1\" stroke-width=\"2.4\"/>\n",
       "<circle clip-path=\"url(#clip993)\" cx=\"3129.62\" cy=\"337.018\" r=\"14\" fill=\"#ff00a6\" fill-rule=\"evenodd\" fill-opacity=\"1\" stroke=\"#000000\" stroke-opacity=\"1\" stroke-width=\"2.4\"/>\n",
       "<circle clip-path=\"url(#clip993)\" cx=\"3081.09\" cy=\"349.08\" r=\"14\" fill=\"#ff00d0\" fill-rule=\"evenodd\" fill-opacity=\"1\" stroke=\"#000000\" stroke-opacity=\"1\" stroke-width=\"2.4\"/>\n",
       "<circle clip-path=\"url(#clip993)\" cx=\"3070.2\" cy=\"363.074\" r=\"14\" fill=\"#ff009f\" fill-rule=\"evenodd\" fill-opacity=\"1\" stroke=\"#000000\" stroke-opacity=\"1\" stroke-width=\"2.4\"/>\n",
       "<circle clip-path=\"url(#clip993)\" cx=\"2833.91\" cy=\"501.051\" r=\"14\" fill=\"#ff00a4\" fill-rule=\"evenodd\" fill-opacity=\"1\" stroke=\"#000000\" stroke-opacity=\"1\" stroke-width=\"2.4\"/>\n",
       "<circle clip-path=\"url(#clip993)\" cx=\"2895.58\" cy=\"476.54\" r=\"14\" fill=\"#8800ff\" fill-rule=\"evenodd\" fill-opacity=\"1\" stroke=\"#000000\" stroke-opacity=\"1\" stroke-width=\"2.4\"/>\n",
       "<circle clip-path=\"url(#clip993)\" cx=\"3062.53\" cy=\"358.266\" r=\"14\" fill=\"#e600ff\" fill-rule=\"evenodd\" fill-opacity=\"1\" stroke=\"#000000\" stroke-opacity=\"1\" stroke-width=\"2.4\"/>\n",
       "<circle clip-path=\"url(#clip993)\" cx=\"3131\" cy=\"325.742\" r=\"14\" fill=\"#9f00ff\" fill-rule=\"evenodd\" fill-opacity=\"1\" stroke=\"#000000\" stroke-opacity=\"1\" stroke-width=\"2.4\"/>\n",
       "<circle clip-path=\"url(#clip993)\" cx=\"2830.81\" cy=\"520.451\" r=\"14\" fill=\"#8d00ff\" fill-rule=\"evenodd\" fill-opacity=\"1\" stroke=\"#000000\" stroke-opacity=\"1\" stroke-width=\"2.4\"/>\n",
       "<circle clip-path=\"url(#clip993)\" cx=\"2880.4\" cy=\"474.691\" r=\"14\" fill=\"#8a00ff\" fill-rule=\"evenodd\" fill-opacity=\"1\" stroke=\"#000000\" stroke-opacity=\"1\" stroke-width=\"2.4\"/>\n",
       "<circle clip-path=\"url(#clip993)\" cx=\"3025.47\" cy=\"373.387\" r=\"14\" fill=\"#8900ff\" fill-rule=\"evenodd\" fill-opacity=\"1\" stroke=\"#000000\" stroke-opacity=\"1\" stroke-width=\"2.4\"/>\n",
       "<circle clip-path=\"url(#clip993)\" cx=\"2263.61\" cy=\"570.834\" r=\"14\" fill=\"#af00ff\" fill-rule=\"evenodd\" fill-opacity=\"1\" stroke=\"#000000\" stroke-opacity=\"1\" stroke-width=\"2.4\"/>\n",
       "<circle clip-path=\"url(#clip993)\" cx=\"2275.16\" cy=\"568.708\" r=\"14\" fill=\"#c100ff\" fill-rule=\"evenodd\" fill-opacity=\"1\" stroke=\"#000000\" stroke-opacity=\"1\" stroke-width=\"2.4\"/>\n",
       "<circle clip-path=\"url(#clip993)\" cx=\"2276.02\" cy=\"584.931\" r=\"14\" fill=\"#c200ff\" fill-rule=\"evenodd\" fill-opacity=\"1\" stroke=\"#000000\" stroke-opacity=\"1\" stroke-width=\"2.4\"/>\n",
       "<circle clip-path=\"url(#clip993)\" cx=\"2267.85\" cy=\"581.654\" r=\"14\" fill=\"#a300ff\" fill-rule=\"evenodd\" fill-opacity=\"1\" stroke=\"#000000\" stroke-opacity=\"1\" stroke-width=\"2.4\"/>\n",
       "<circle clip-path=\"url(#clip993)\" cx=\"2266.57\" cy=\"582.771\" r=\"14\" fill=\"#bf00ff\" fill-rule=\"evenodd\" fill-opacity=\"1\" stroke=\"#000000\" stroke-opacity=\"1\" stroke-width=\"2.4\"/>\n",
       "<circle clip-path=\"url(#clip993)\" cx=\"2359.43\" cy=\"629.24\" r=\"14\" fill=\"#bb00ff\" fill-rule=\"evenodd\" fill-opacity=\"1\" stroke=\"#000000\" stroke-opacity=\"1\" stroke-width=\"2.4\"/>\n",
       "<circle clip-path=\"url(#clip993)\" cx=\"2361.55\" cy=\"643.484\" r=\"14\" fill=\"#a000ff\" fill-rule=\"evenodd\" fill-opacity=\"1\" stroke=\"#000000\" stroke-opacity=\"1\" stroke-width=\"2.4\"/>\n",
       "<circle clip-path=\"url(#clip993)\" cx=\"2360.02\" cy=\"633.114\" r=\"14\" fill=\"#9800ff\" fill-rule=\"evenodd\" fill-opacity=\"1\" stroke=\"#000000\" stroke-opacity=\"1\" stroke-width=\"2.4\"/>\n",
       "<circle clip-path=\"url(#clip993)\" cx=\"2406.1\" cy=\"715.6\" r=\"14\" fill=\"#c500ff\" fill-rule=\"evenodd\" fill-opacity=\"1\" stroke=\"#000000\" stroke-opacity=\"1\" stroke-width=\"2.4\"/>\n",
       "<circle clip-path=\"url(#clip993)\" cx=\"2425.09\" cy=\"711.849\" r=\"14\" fill=\"#4d00ff\" fill-rule=\"evenodd\" fill-opacity=\"1\" stroke=\"#000000\" stroke-opacity=\"1\" stroke-width=\"2.4\"/>\n",
       "<circle clip-path=\"url(#clip993)\" cx=\"2421.48\" cy=\"715.587\" r=\"14\" fill=\"#5000ff\" fill-rule=\"evenodd\" fill-opacity=\"1\" stroke=\"#000000\" stroke-opacity=\"1\" stroke-width=\"2.4\"/>\n",
       "<circle clip-path=\"url(#clip993)\" cx=\"2424.73\" cy=\"732.718\" r=\"14\" fill=\"#ff00c7\" fill-rule=\"evenodd\" fill-opacity=\"1\" stroke=\"#000000\" stroke-opacity=\"1\" stroke-width=\"2.4\"/>\n",
       "<circle clip-path=\"url(#clip993)\" cx=\"2425.7\" cy=\"730.816\" r=\"14\" fill=\"#ff00d7\" fill-rule=\"evenodd\" fill-opacity=\"1\" stroke=\"#000000\" stroke-opacity=\"1\" stroke-width=\"2.4\"/>\n",
       "<circle clip-path=\"url(#clip993)\" cx=\"2413.9\" cy=\"718.306\" r=\"14\" fill=\"#f400ff\" fill-rule=\"evenodd\" fill-opacity=\"1\" stroke=\"#000000\" stroke-opacity=\"1\" stroke-width=\"2.4\"/>\n",
       "<circle clip-path=\"url(#clip993)\" cx=\"2420.61\" cy=\"719.727\" r=\"14\" fill=\"#fa00ff\" fill-rule=\"evenodd\" fill-opacity=\"1\" stroke=\"#000000\" stroke-opacity=\"1\" stroke-width=\"2.4\"/>\n",
       "<circle clip-path=\"url(#clip993)\" cx=\"2407.94\" cy=\"728.864\" r=\"14\" fill=\"#ff00fa\" fill-rule=\"evenodd\" fill-opacity=\"1\" stroke=\"#000000\" stroke-opacity=\"1\" stroke-width=\"2.4\"/>\n",
       "<circle clip-path=\"url(#clip993)\" cx=\"2472.6\" cy=\"744.17\" r=\"14\" fill=\"#ff00d6\" fill-rule=\"evenodd\" fill-opacity=\"1\" stroke=\"#000000\" stroke-opacity=\"1\" stroke-width=\"2.4\"/>\n",
       "<circle clip-path=\"url(#clip993)\" cx=\"2476.55\" cy=\"757.403\" r=\"14\" fill=\"#e400ff\" fill-rule=\"evenodd\" fill-opacity=\"1\" stroke=\"#000000\" stroke-opacity=\"1\" stroke-width=\"2.4\"/>\n",
       "<circle clip-path=\"url(#clip993)\" cx=\"2468.48\" cy=\"749.818\" r=\"14\" fill=\"#ff00ca\" fill-rule=\"evenodd\" fill-opacity=\"1\" stroke=\"#000000\" stroke-opacity=\"1\" stroke-width=\"2.4\"/>\n",
       "<circle clip-path=\"url(#clip993)\" cx=\"2483.42\" cy=\"703.441\" r=\"14\" fill=\"#ff00e0\" fill-rule=\"evenodd\" fill-opacity=\"1\" stroke=\"#000000\" stroke-opacity=\"1\" stroke-width=\"2.4\"/>\n",
       "<circle clip-path=\"url(#clip993)\" cx=\"2466.4\" cy=\"697.598\" r=\"14\" fill=\"#ee00ff\" fill-rule=\"evenodd\" fill-opacity=\"1\" stroke=\"#000000\" stroke-opacity=\"1\" stroke-width=\"2.4\"/>\n",
       "<circle clip-path=\"url(#clip993)\" cx=\"2503.08\" cy=\"764.981\" r=\"14\" fill=\"#ff00f7\" fill-rule=\"evenodd\" fill-opacity=\"1\" stroke=\"#000000\" stroke-opacity=\"1\" stroke-width=\"2.4\"/>\n",
       "<circle clip-path=\"url(#clip993)\" cx=\"2501.65\" cy=\"791.045\" r=\"14\" fill=\"#ff00bb\" fill-rule=\"evenodd\" fill-opacity=\"1\" stroke=\"#000000\" stroke-opacity=\"1\" stroke-width=\"2.4\"/>\n",
       "<circle clip-path=\"url(#clip993)\" cx=\"2493.19\" cy=\"773.388\" r=\"14\" fill=\"#ff00af\" fill-rule=\"evenodd\" fill-opacity=\"1\" stroke=\"#000000\" stroke-opacity=\"1\" stroke-width=\"2.4\"/>\n",
       "<circle clip-path=\"url(#clip993)\" cx=\"2499.41\" cy=\"776.092\" r=\"14\" fill=\"#ff0099\" fill-rule=\"evenodd\" fill-opacity=\"1\" stroke=\"#000000\" stroke-opacity=\"1\" stroke-width=\"2.4\"/>\n",
       "<circle clip-path=\"url(#clip993)\" cx=\"2491.38\" cy=\"757.436\" r=\"14\" fill=\"#be00ff\" fill-rule=\"evenodd\" fill-opacity=\"1\" stroke=\"#000000\" stroke-opacity=\"1\" stroke-width=\"2.4\"/>\n",
       "<circle clip-path=\"url(#clip993)\" cx=\"2509.76\" cy=\"793.38\" r=\"14\" fill=\"#b700ff\" fill-rule=\"evenodd\" fill-opacity=\"1\" stroke=\"#000000\" stroke-opacity=\"1\" stroke-width=\"2.4\"/>\n",
       "<circle clip-path=\"url(#clip993)\" cx=\"2493.86\" cy=\"766.892\" r=\"14\" fill=\"#ff00bd\" fill-rule=\"evenodd\" fill-opacity=\"1\" stroke=\"#000000\" stroke-opacity=\"1\" stroke-width=\"2.4\"/>\n",
       "<circle clip-path=\"url(#clip993)\" cx=\"2790.47\" cy=\"789.395\" r=\"14\" fill=\"#ff00a2\" fill-rule=\"evenodd\" fill-opacity=\"1\" stroke=\"#000000\" stroke-opacity=\"1\" stroke-width=\"2.4\"/>\n",
       "<circle clip-path=\"url(#clip993)\" cx=\"2782.38\" cy=\"778.69\" r=\"14\" fill=\"#ff00c4\" fill-rule=\"evenodd\" fill-opacity=\"1\" stroke=\"#000000\" stroke-opacity=\"1\" stroke-width=\"2.4\"/>\n",
       "<circle clip-path=\"url(#clip993)\" cx=\"2786.33\" cy=\"781.084\" r=\"14\" fill=\"#ff00a5\" fill-rule=\"evenodd\" fill-opacity=\"1\" stroke=\"#000000\" stroke-opacity=\"1\" stroke-width=\"2.4\"/>\n",
       "<circle clip-path=\"url(#clip993)\" cx=\"2784.94\" cy=\"775.884\" r=\"14\" fill=\"#ff00a3\" fill-rule=\"evenodd\" fill-opacity=\"1\" stroke=\"#000000\" stroke-opacity=\"1\" stroke-width=\"2.4\"/>\n",
       "<circle clip-path=\"url(#clip993)\" cx=\"2779.5\" cy=\"779.824\" r=\"14\" fill=\"#ff00c7\" fill-rule=\"evenodd\" fill-opacity=\"1\" stroke=\"#000000\" stroke-opacity=\"1\" stroke-width=\"2.4\"/>\n",
       "<circle clip-path=\"url(#clip993)\" cx=\"2782.27\" cy=\"781.845\" r=\"14\" fill=\"#ff00a1\" fill-rule=\"evenodd\" fill-opacity=\"1\" stroke=\"#000000\" stroke-opacity=\"1\" stroke-width=\"2.4\"/>\n",
       "<circle clip-path=\"url(#clip993)\" cx=\"2784.92\" cy=\"798.155\" r=\"14\" fill=\"#9800ff\" fill-rule=\"evenodd\" fill-opacity=\"1\" stroke=\"#000000\" stroke-opacity=\"1\" stroke-width=\"2.4\"/>\n",
       "<circle clip-path=\"url(#clip993)\" cx=\"2774.82\" cy=\"510.339\" r=\"14\" fill=\"#a100ff\" fill-rule=\"evenodd\" fill-opacity=\"1\" stroke=\"#000000\" stroke-opacity=\"1\" stroke-width=\"2.4\"/>\n",
       "<circle clip-path=\"url(#clip993)\" cx=\"2788.38\" cy=\"492.44\" r=\"14\" fill=\"#7100ff\" fill-rule=\"evenodd\" fill-opacity=\"1\" stroke=\"#000000\" stroke-opacity=\"1\" stroke-width=\"2.4\"/>\n",
       "<circle clip-path=\"url(#clip993)\" cx=\"2926.46\" cy=\"498.347\" r=\"14\" fill=\"#4f00ff\" fill-rule=\"evenodd\" fill-opacity=\"1\" stroke=\"#000000\" stroke-opacity=\"1\" stroke-width=\"2.4\"/>\n",
       "<circle clip-path=\"url(#clip993)\" cx=\"2923.15\" cy=\"516.839\" r=\"14\" fill=\"#c100ff\" fill-rule=\"evenodd\" fill-opacity=\"1\" stroke=\"#000000\" stroke-opacity=\"1\" stroke-width=\"2.4\"/>\n",
       "<circle clip-path=\"url(#clip993)\" cx=\"2913.76\" cy=\"501.608\" r=\"14\" fill=\"#e700ff\" fill-rule=\"evenodd\" fill-opacity=\"1\" stroke=\"#000000\" stroke-opacity=\"1\" stroke-width=\"2.4\"/>\n",
       "<circle clip-path=\"url(#clip993)\" cx=\"2306.01\" cy=\"677.182\" r=\"14\" fill=\"#8e00ff\" fill-rule=\"evenodd\" fill-opacity=\"1\" stroke=\"#000000\" stroke-opacity=\"1\" stroke-width=\"2.4\"/>\n",
       "<circle clip-path=\"url(#clip993)\" cx=\"2318.91\" cy=\"662.809\" r=\"14\" fill=\"#e700ff\" fill-rule=\"evenodd\" fill-opacity=\"1\" stroke=\"#000000\" stroke-opacity=\"1\" stroke-width=\"2.4\"/>\n",
       "<circle clip-path=\"url(#clip993)\" cx=\"2249.77\" cy=\"703.516\" r=\"14\" fill=\"#d500ff\" fill-rule=\"evenodd\" fill-opacity=\"1\" stroke=\"#000000\" stroke-opacity=\"1\" stroke-width=\"2.4\"/>\n",
       "<circle clip-path=\"url(#clip993)\" cx=\"2308.97\" cy=\"667.159\" r=\"14\" fill=\"#c300ff\" fill-rule=\"evenodd\" fill-opacity=\"1\" stroke=\"#000000\" stroke-opacity=\"1\" stroke-width=\"2.4\"/>\n",
       "<circle clip-path=\"url(#clip993)\" cx=\"2332.38\" cy=\"641.669\" r=\"14\" fill=\"#9700ff\" fill-rule=\"evenodd\" fill-opacity=\"1\" stroke=\"#000000\" stroke-opacity=\"1\" stroke-width=\"2.4\"/>\n",
       "<circle clip-path=\"url(#clip993)\" cx=\"2483.78\" cy=\"587.98\" r=\"14\" fill=\"#c300ff\" fill-rule=\"evenodd\" fill-opacity=\"1\" stroke=\"#000000\" stroke-opacity=\"1\" stroke-width=\"2.4\"/>\n",
       "<circle clip-path=\"url(#clip993)\" cx=\"2562.16\" cy=\"377.53\" r=\"14\" fill=\"#7f00ff\" fill-rule=\"evenodd\" fill-opacity=\"1\" stroke=\"#000000\" stroke-opacity=\"1\" stroke-width=\"2.4\"/>\n",
       "<circle clip-path=\"url(#clip993)\" cx=\"2584.11\" cy=\"368.295\" r=\"14\" fill=\"#7a00ff\" fill-rule=\"evenodd\" fill-opacity=\"1\" stroke=\"#000000\" stroke-opacity=\"1\" stroke-width=\"2.4\"/>\n",
       "<circle clip-path=\"url(#clip993)\" cx=\"2577.27\" cy=\"371.181\" r=\"14\" fill=\"#a700ff\" fill-rule=\"evenodd\" fill-opacity=\"1\" stroke=\"#000000\" stroke-opacity=\"1\" stroke-width=\"2.4\"/>\n",
       "<circle clip-path=\"url(#clip993)\" cx=\"2571.2\" cy=\"376.099\" r=\"14\" fill=\"#7d00ff\" fill-rule=\"evenodd\" fill-opacity=\"1\" stroke=\"#000000\" stroke-opacity=\"1\" stroke-width=\"2.4\"/>\n",
       "<circle clip-path=\"url(#clip993)\" cx=\"2597.02\" cy=\"537.831\" r=\"14\" fill=\"#9300ff\" fill-rule=\"evenodd\" fill-opacity=\"1\" stroke=\"#000000\" stroke-opacity=\"1\" stroke-width=\"2.4\"/>\n",
       "<circle clip-path=\"url(#clip993)\" cx=\"2530.59\" cy=\"355.274\" r=\"14\" fill=\"#fc00ff\" fill-rule=\"evenodd\" fill-opacity=\"1\" stroke=\"#000000\" stroke-opacity=\"1\" stroke-width=\"2.4\"/>\n",
       "<circle clip-path=\"url(#clip993)\" cx=\"2887.4\" cy=\"143.475\" r=\"14\" fill=\"#ff00e6\" fill-rule=\"evenodd\" fill-opacity=\"1\" stroke=\"#000000\" stroke-opacity=\"1\" stroke-width=\"2.4\"/>\n",
       "<circle clip-path=\"url(#clip993)\" cx=\"3004.83\" cy=\"78.0108\" r=\"14\" fill=\"#ff00e3\" fill-rule=\"evenodd\" fill-opacity=\"1\" stroke=\"#000000\" stroke-opacity=\"1\" stroke-width=\"2.4\"/>\n",
       "<circle clip-path=\"url(#clip993)\" cx=\"2560.64\" cy=\"590.842\" r=\"14\" fill=\"#ff00cc\" fill-rule=\"evenodd\" fill-opacity=\"1\" stroke=\"#000000\" stroke-opacity=\"1\" stroke-width=\"2.4\"/>\n",
       "<circle clip-path=\"url(#clip993)\" cx=\"2624.1\" cy=\"558.955\" r=\"14\" fill=\"#ff00ee\" fill-rule=\"evenodd\" fill-opacity=\"1\" stroke=\"#000000\" stroke-opacity=\"1\" stroke-width=\"2.4\"/>\n",
       "<circle clip-path=\"url(#clip993)\" cx=\"2644.65\" cy=\"529.653\" r=\"14\" fill=\"#ff00db\" fill-rule=\"evenodd\" fill-opacity=\"1\" stroke=\"#000000\" stroke-opacity=\"1\" stroke-width=\"2.4\"/>\n",
       "<circle clip-path=\"url(#clip993)\" cx=\"2985.69\" cy=\"332.126\" r=\"14\" fill=\"#ff00fb\" fill-rule=\"evenodd\" fill-opacity=\"1\" stroke=\"#000000\" stroke-opacity=\"1\" stroke-width=\"2.4\"/>\n",
       "<circle clip-path=\"url(#clip993)\" cx=\"2302.37\" cy=\"757.575\" r=\"14\" fill=\"#ff00d9\" fill-rule=\"evenodd\" fill-opacity=\"1\" stroke=\"#000000\" stroke-opacity=\"1\" stroke-width=\"2.4\"/>\n",
       "<circle clip-path=\"url(#clip993)\" cx=\"1866.13\" cy=\"1039.74\" r=\"14\" fill=\"#ee00ff\" fill-rule=\"evenodd\" fill-opacity=\"1\" stroke=\"#000000\" stroke-opacity=\"1\" stroke-width=\"2.4\"/>\n",
       "<circle clip-path=\"url(#clip993)\" cx=\"1961.42\" cy=\"965.846\" r=\"14\" fill=\"#f800ff\" fill-rule=\"evenodd\" fill-opacity=\"1\" stroke=\"#000000\" stroke-opacity=\"1\" stroke-width=\"2.4\"/>\n",
       "<circle clip-path=\"url(#clip993)\" cx=\"1985.7\" cy=\"1030.48\" r=\"14\" fill=\"#fe00ff\" fill-rule=\"evenodd\" fill-opacity=\"1\" stroke=\"#000000\" stroke-opacity=\"1\" stroke-width=\"2.4\"/>\n",
       "<circle clip-path=\"url(#clip993)\" cx=\"2038.27\" cy=\"992.536\" r=\"14\" fill=\"#ff009f\" fill-rule=\"evenodd\" fill-opacity=\"1\" stroke=\"#000000\" stroke-opacity=\"1\" stroke-width=\"2.4\"/>\n",
       "<circle clip-path=\"url(#clip993)\" cx=\"2950.86\" cy=\"440.827\" r=\"14\" fill=\"#ff00df\" fill-rule=\"evenodd\" fill-opacity=\"1\" stroke=\"#000000\" stroke-opacity=\"1\" stroke-width=\"2.4\"/>\n",
       "<circle clip-path=\"url(#clip993)\" cx=\"3126.62\" cy=\"329.918\" r=\"14\" fill=\"#ff00d8\" fill-rule=\"evenodd\" fill-opacity=\"1\" stroke=\"#000000\" stroke-opacity=\"1\" stroke-width=\"2.4\"/>\n",
       "<circle clip-path=\"url(#clip993)\" cx=\"3084.28\" cy=\"341.037\" r=\"14\" fill=\"#b700ff\" fill-rule=\"evenodd\" fill-opacity=\"1\" stroke=\"#000000\" stroke-opacity=\"1\" stroke-width=\"2.4\"/>\n",
       "<circle clip-path=\"url(#clip993)\" cx=\"3056.93\" cy=\"371.317\" r=\"14\" fill=\"#2b00ff\" fill-rule=\"evenodd\" fill-opacity=\"1\" stroke=\"#000000\" stroke-opacity=\"1\" stroke-width=\"2.4\"/>\n",
       "<circle clip-path=\"url(#clip993)\" cx=\"2845.17\" cy=\"487.256\" r=\"14\" fill=\"#ff00a0\" fill-rule=\"evenodd\" fill-opacity=\"1\" stroke=\"#000000\" stroke-opacity=\"1\" stroke-width=\"2.4\"/>\n",
       "<circle clip-path=\"url(#clip993)\" cx=\"2885.4\" cy=\"482.603\" r=\"14\" fill=\"#ff00a7\" fill-rule=\"evenodd\" fill-opacity=\"1\" stroke=\"#000000\" stroke-opacity=\"1\" stroke-width=\"2.4\"/>\n",
       "<circle clip-path=\"url(#clip993)\" cx=\"3062.64\" cy=\"365.006\" r=\"14\" fill=\"#ff00cb\" fill-rule=\"evenodd\" fill-opacity=\"1\" stroke=\"#000000\" stroke-opacity=\"1\" stroke-width=\"2.4\"/>\n",
       "<circle clip-path=\"url(#clip993)\" cx=\"3130.28\" cy=\"343.438\" r=\"14\" fill=\"#ff009f\" fill-rule=\"evenodd\" fill-opacity=\"1\" stroke=\"#000000\" stroke-opacity=\"1\" stroke-width=\"2.4\"/>\n",
       "<circle clip-path=\"url(#clip993)\" cx=\"2818.44\" cy=\"507.32\" r=\"14\" fill=\"#ff00a6\" fill-rule=\"evenodd\" fill-opacity=\"1\" stroke=\"#000000\" stroke-opacity=\"1\" stroke-width=\"2.4\"/>\n",
       "<circle clip-path=\"url(#clip993)\" cx=\"2857.94\" cy=\"483.928\" r=\"14\" fill=\"#ff00b4\" fill-rule=\"evenodd\" fill-opacity=\"1\" stroke=\"#000000\" stroke-opacity=\"1\" stroke-width=\"2.4\"/>\n",
       "<circle clip-path=\"url(#clip993)\" cx=\"3033.35\" cy=\"380.225\" r=\"14\" fill=\"#ff00ac\" fill-rule=\"evenodd\" fill-opacity=\"1\" stroke=\"#000000\" stroke-opacity=\"1\" stroke-width=\"2.4\"/>\n",
       "<circle clip-path=\"url(#clip993)\" cx=\"2271.35\" cy=\"583.283\" r=\"14\" fill=\"#9900ff\" fill-rule=\"evenodd\" fill-opacity=\"1\" stroke=\"#000000\" stroke-opacity=\"1\" stroke-width=\"2.4\"/>\n",
       "<circle clip-path=\"url(#clip993)\" cx=\"2281.3\" cy=\"561.749\" r=\"14\" fill=\"#8b00ff\" fill-rule=\"evenodd\" fill-opacity=\"1\" stroke=\"#000000\" stroke-opacity=\"1\" stroke-width=\"2.4\"/>\n",
       "<circle clip-path=\"url(#clip993)\" cx=\"2282.45\" cy=\"581.511\" r=\"14\" fill=\"#7b00ff\" fill-rule=\"evenodd\" fill-opacity=\"1\" stroke=\"#000000\" stroke-opacity=\"1\" stroke-width=\"2.4\"/>\n",
       "<circle clip-path=\"url(#clip993)\" cx=\"2272.76\" cy=\"594.592\" r=\"14\" fill=\"#8800ff\" fill-rule=\"evenodd\" fill-opacity=\"1\" stroke=\"#000000\" stroke-opacity=\"1\" stroke-width=\"2.4\"/>\n",
       "<circle clip-path=\"url(#clip993)\" cx=\"2268.64\" cy=\"588.642\" r=\"14\" fill=\"#8e00ff\" fill-rule=\"evenodd\" fill-opacity=\"1\" stroke=\"#000000\" stroke-opacity=\"1\" stroke-width=\"2.4\"/>\n",
       "<circle clip-path=\"url(#clip993)\" cx=\"2346.2\" cy=\"640.401\" r=\"14\" fill=\"#4e00ff\" fill-rule=\"evenodd\" fill-opacity=\"1\" stroke=\"#000000\" stroke-opacity=\"1\" stroke-width=\"2.4\"/>\n",
       "<circle clip-path=\"url(#clip993)\" cx=\"2360.81\" cy=\"633.202\" r=\"14\" fill=\"#7000ff\" fill-rule=\"evenodd\" fill-opacity=\"1\" stroke=\"#000000\" stroke-opacity=\"1\" stroke-width=\"2.4\"/>\n",
       "<circle clip-path=\"url(#clip993)\" cx=\"2365.74\" cy=\"637.018\" r=\"14\" fill=\"#d900ff\" fill-rule=\"evenodd\" fill-opacity=\"1\" stroke=\"#000000\" stroke-opacity=\"1\" stroke-width=\"2.4\"/>\n",
       "<circle clip-path=\"url(#clip993)\" cx=\"2404.72\" cy=\"716.97\" r=\"14\" fill=\"#e100ff\" fill-rule=\"evenodd\" fill-opacity=\"1\" stroke=\"#000000\" stroke-opacity=\"1\" stroke-width=\"2.4\"/>\n",
       "<circle clip-path=\"url(#clip993)\" cx=\"2431.83\" cy=\"719.829\" r=\"14\" fill=\"#a500ff\" fill-rule=\"evenodd\" fill-opacity=\"1\" stroke=\"#000000\" stroke-opacity=\"1\" stroke-width=\"2.4\"/>\n",
       "<circle clip-path=\"url(#clip993)\" cx=\"2425.29\" cy=\"718.742\" r=\"14\" fill=\"#ad00ff\" fill-rule=\"evenodd\" fill-opacity=\"1\" stroke=\"#000000\" stroke-opacity=\"1\" stroke-width=\"2.4\"/>\n",
       "<circle clip-path=\"url(#clip993)\" cx=\"2423.49\" cy=\"725.565\" r=\"14\" fill=\"#ab00ff\" fill-rule=\"evenodd\" fill-opacity=\"1\" stroke=\"#000000\" stroke-opacity=\"1\" stroke-width=\"2.4\"/>\n",
       "<circle clip-path=\"url(#clip993)\" cx=\"2428.74\" cy=\"719.194\" r=\"14\" fill=\"#7a00ff\" fill-rule=\"evenodd\" fill-opacity=\"1\" stroke=\"#000000\" stroke-opacity=\"1\" stroke-width=\"2.4\"/>\n",
       "<circle clip-path=\"url(#clip993)\" cx=\"2410.96\" cy=\"719.635\" r=\"14\" fill=\"#a700ff\" fill-rule=\"evenodd\" fill-opacity=\"1\" stroke=\"#000000\" stroke-opacity=\"1\" stroke-width=\"2.4\"/>\n",
       "<circle clip-path=\"url(#clip993)\" cx=\"2415.85\" cy=\"721.903\" r=\"14\" fill=\"#5a00ff\" fill-rule=\"evenodd\" fill-opacity=\"1\" stroke=\"#000000\" stroke-opacity=\"1\" stroke-width=\"2.4\"/>\n",
       "<circle clip-path=\"url(#clip993)\" cx=\"2423.76\" cy=\"729.507\" r=\"14\" fill=\"#8b00ff\" fill-rule=\"evenodd\" fill-opacity=\"1\" stroke=\"#000000\" stroke-opacity=\"1\" stroke-width=\"2.4\"/>\n",
       "<circle clip-path=\"url(#clip993)\" cx=\"2477.22\" cy=\"746.963\" r=\"14\" fill=\"#b700ff\" fill-rule=\"evenodd\" fill-opacity=\"1\" stroke=\"#000000\" stroke-opacity=\"1\" stroke-width=\"2.4\"/>\n",
       "<circle clip-path=\"url(#clip993)\" cx=\"2484.33\" cy=\"746.577\" r=\"14\" fill=\"#ff00c9\" fill-rule=\"evenodd\" fill-opacity=\"1\" stroke=\"#000000\" stroke-opacity=\"1\" stroke-width=\"2.4\"/>\n",
       "<circle clip-path=\"url(#clip993)\" cx=\"2473.1\" cy=\"754.066\" r=\"14\" fill=\"#ff00bb\" fill-rule=\"evenodd\" fill-opacity=\"1\" stroke=\"#000000\" stroke-opacity=\"1\" stroke-width=\"2.4\"/>\n",
       "<circle clip-path=\"url(#clip993)\" cx=\"2474.86\" cy=\"697.641\" r=\"14\" fill=\"#ff00af\" fill-rule=\"evenodd\" fill-opacity=\"1\" stroke=\"#000000\" stroke-opacity=\"1\" stroke-width=\"2.4\"/>\n",
       "<circle clip-path=\"url(#clip993)\" cx=\"2461.4\" cy=\"691.162\" r=\"14\" fill=\"#c700ff\" fill-rule=\"evenodd\" fill-opacity=\"1\" stroke=\"#000000\" stroke-opacity=\"1\" stroke-width=\"2.4\"/>\n",
       "<circle clip-path=\"url(#clip993)\" cx=\"2495.05\" cy=\"780.555\" r=\"14\" fill=\"#ff00de\" fill-rule=\"evenodd\" fill-opacity=\"1\" stroke=\"#000000\" stroke-opacity=\"1\" stroke-width=\"2.4\"/>\n",
       "<circle clip-path=\"url(#clip993)\" cx=\"2508.12\" cy=\"766.189\" r=\"14\" fill=\"#ff00d8\" fill-rule=\"evenodd\" fill-opacity=\"1\" stroke=\"#000000\" stroke-opacity=\"1\" stroke-width=\"2.4\"/>\n",
       "<circle clip-path=\"url(#clip993)\" cx=\"2482.42\" cy=\"758.71\" r=\"14\" fill=\"#ff00e9\" fill-rule=\"evenodd\" fill-opacity=\"1\" stroke=\"#000000\" stroke-opacity=\"1\" stroke-width=\"2.4\"/>\n",
       "<circle clip-path=\"url(#clip993)\" cx=\"2502.86\" cy=\"783.225\" r=\"14\" fill=\"#ea00ff\" fill-rule=\"evenodd\" fill-opacity=\"1\" stroke=\"#000000\" stroke-opacity=\"1\" stroke-width=\"2.4\"/>\n",
       "<circle clip-path=\"url(#clip993)\" cx=\"2494.82\" cy=\"773.835\" r=\"14\" fill=\"#ff00ef\" fill-rule=\"evenodd\" fill-opacity=\"1\" stroke=\"#000000\" stroke-opacity=\"1\" stroke-width=\"2.4\"/>\n",
       "<circle clip-path=\"url(#clip993)\" cx=\"2486.5\" cy=\"779.37\" r=\"14\" fill=\"#dd00ff\" fill-rule=\"evenodd\" fill-opacity=\"1\" stroke=\"#000000\" stroke-opacity=\"1\" stroke-width=\"2.4\"/>\n",
       "<circle clip-path=\"url(#clip993)\" cx=\"2505.21\" cy=\"780.441\" r=\"14\" fill=\"#ff00e3\" fill-rule=\"evenodd\" fill-opacity=\"1\" stroke=\"#000000\" stroke-opacity=\"1\" stroke-width=\"2.4\"/>\n",
       "<circle clip-path=\"url(#clip993)\" cx=\"2770.52\" cy=\"792.257\" r=\"14\" fill=\"#ff00a8\" fill-rule=\"evenodd\" fill-opacity=\"1\" stroke=\"#000000\" stroke-opacity=\"1\" stroke-width=\"2.4\"/>\n",
       "<circle clip-path=\"url(#clip993)\" cx=\"2797.35\" cy=\"773.166\" r=\"14\" fill=\"#ff00cc\" fill-rule=\"evenodd\" fill-opacity=\"1\" stroke=\"#000000\" stroke-opacity=\"1\" stroke-width=\"2.4\"/>\n",
       "<circle clip-path=\"url(#clip993)\" cx=\"2791.38\" cy=\"782.186\" r=\"14\" fill=\"#ff009c\" fill-rule=\"evenodd\" fill-opacity=\"1\" stroke=\"#000000\" stroke-opacity=\"1\" stroke-width=\"2.4\"/>\n",
       "<circle clip-path=\"url(#clip993)\" cx=\"2778.22\" cy=\"777.827\" r=\"14\" fill=\"#0400ff\" fill-rule=\"evenodd\" fill-opacity=\"1\" stroke=\"#000000\" stroke-opacity=\"1\" stroke-width=\"2.4\"/>\n",
       "<circle clip-path=\"url(#clip993)\" cx=\"2801.3\" cy=\"767.817\" r=\"14\" fill=\"#3f00ff\" fill-rule=\"evenodd\" fill-opacity=\"1\" stroke=\"#000000\" stroke-opacity=\"1\" stroke-width=\"2.4\"/>\n",
       "<circle clip-path=\"url(#clip993)\" cx=\"2811.12\" cy=\"772.33\" r=\"14\" fill=\"#ff00ab\" fill-rule=\"evenodd\" fill-opacity=\"1\" stroke=\"#000000\" stroke-opacity=\"1\" stroke-width=\"2.4\"/>\n",
       "<circle clip-path=\"url(#clip993)\" cx=\"2785.76\" cy=\"778.53\" r=\"14\" fill=\"#ff00a0\" fill-rule=\"evenodd\" fill-opacity=\"1\" stroke=\"#000000\" stroke-opacity=\"1\" stroke-width=\"2.4\"/>\n",
       "<circle clip-path=\"url(#clip993)\" cx=\"2786.79\" cy=\"514.394\" r=\"14\" fill=\"#ff00a0\" fill-rule=\"evenodd\" fill-opacity=\"1\" stroke=\"#000000\" stroke-opacity=\"1\" stroke-width=\"2.4\"/>\n",
       "<circle clip-path=\"url(#clip993)\" cx=\"2797.1\" cy=\"483.269\" r=\"14\" fill=\"#ff00a6\" fill-rule=\"evenodd\" fill-opacity=\"1\" stroke=\"#000000\" stroke-opacity=\"1\" stroke-width=\"2.4\"/>\n",
       "<circle clip-path=\"url(#clip993)\" cx=\"2924.79\" cy=\"504.547\" r=\"14\" fill=\"#ff00d0\" fill-rule=\"evenodd\" fill-opacity=\"1\" stroke=\"#000000\" stroke-opacity=\"1\" stroke-width=\"2.4\"/>\n",
       "<circle clip-path=\"url(#clip993)\" cx=\"2939.94\" cy=\"494.797\" r=\"14\" fill=\"#ff009f\" fill-rule=\"evenodd\" fill-opacity=\"1\" stroke=\"#000000\" stroke-opacity=\"1\" stroke-width=\"2.4\"/>\n",
       "<circle clip-path=\"url(#clip993)\" cx=\"2934.02\" cy=\"504.342\" r=\"14\" fill=\"#ff00a4\" fill-rule=\"evenodd\" fill-opacity=\"1\" stroke=\"#000000\" stroke-opacity=\"1\" stroke-width=\"2.4\"/>\n",
       "<circle clip-path=\"url(#clip993)\" cx=\"2315.08\" cy=\"684.753\" r=\"14\" fill=\"#8800ff\" fill-rule=\"evenodd\" fill-opacity=\"1\" stroke=\"#000000\" stroke-opacity=\"1\" stroke-width=\"2.4\"/>\n",
       "<circle clip-path=\"url(#clip993)\" cx=\"2326.21\" cy=\"668.395\" r=\"14\" fill=\"#e600ff\" fill-rule=\"evenodd\" fill-opacity=\"1\" stroke=\"#000000\" stroke-opacity=\"1\" stroke-width=\"2.4\"/>\n",
       "<circle clip-path=\"url(#clip993)\" cx=\"2246.86\" cy=\"696.92\" r=\"14\" fill=\"#9f00ff\" fill-rule=\"evenodd\" fill-opacity=\"1\" stroke=\"#000000\" stroke-opacity=\"1\" stroke-width=\"2.4\"/>\n",
       "<circle clip-path=\"url(#clip993)\" cx=\"2318.43\" cy=\"676.738\" r=\"14\" fill=\"#8d00ff\" fill-rule=\"evenodd\" fill-opacity=\"1\" stroke=\"#000000\" stroke-opacity=\"1\" stroke-width=\"2.4\"/>\n",
       "<circle clip-path=\"url(#clip993)\" cx=\"2335.43\" cy=\"674.951\" r=\"14\" fill=\"#8a00ff\" fill-rule=\"evenodd\" fill-opacity=\"1\" stroke=\"#000000\" stroke-opacity=\"1\" stroke-width=\"2.4\"/>\n",
       "<circle clip-path=\"url(#clip993)\" cx=\"2496.7\" cy=\"547.91\" r=\"14\" fill=\"#8900ff\" fill-rule=\"evenodd\" fill-opacity=\"1\" stroke=\"#000000\" stroke-opacity=\"1\" stroke-width=\"2.4\"/>\n",
       "<circle clip-path=\"url(#clip993)\" cx=\"2543.42\" cy=\"401.198\" r=\"14\" fill=\"#af00ff\" fill-rule=\"evenodd\" fill-opacity=\"1\" stroke=\"#000000\" stroke-opacity=\"1\" stroke-width=\"2.4\"/>\n",
       "<circle clip-path=\"url(#clip993)\" cx=\"2575.1\" cy=\"374.747\" r=\"14\" fill=\"#c100ff\" fill-rule=\"evenodd\" fill-opacity=\"1\" stroke=\"#000000\" stroke-opacity=\"1\" stroke-width=\"2.4\"/>\n",
       "<circle clip-path=\"url(#clip993)\" cx=\"2553.8\" cy=\"374.661\" r=\"14\" fill=\"#c200ff\" fill-rule=\"evenodd\" fill-opacity=\"1\" stroke=\"#000000\" stroke-opacity=\"1\" stroke-width=\"2.4\"/>\n",
       "<circle clip-path=\"url(#clip993)\" cx=\"2573.67\" cy=\"361.671\" r=\"14\" fill=\"#a300ff\" fill-rule=\"evenodd\" fill-opacity=\"1\" stroke=\"#000000\" stroke-opacity=\"1\" stroke-width=\"2.4\"/>\n",
       "<circle clip-path=\"url(#clip993)\" cx=\"2606.48\" cy=\"550.265\" r=\"14\" fill=\"#bf00ff\" fill-rule=\"evenodd\" fill-opacity=\"1\" stroke=\"#000000\" stroke-opacity=\"1\" stroke-width=\"2.4\"/>\n",
       "<circle clip-path=\"url(#clip993)\" cx=\"2540.28\" cy=\"337.191\" r=\"14\" fill=\"#bb00ff\" fill-rule=\"evenodd\" fill-opacity=\"1\" stroke=\"#000000\" stroke-opacity=\"1\" stroke-width=\"2.4\"/>\n",
       "<circle clip-path=\"url(#clip993)\" cx=\"2886.22\" cy=\"159.672\" r=\"14\" fill=\"#a000ff\" fill-rule=\"evenodd\" fill-opacity=\"1\" stroke=\"#000000\" stroke-opacity=\"1\" stroke-width=\"2.4\"/>\n",
       "<circle clip-path=\"url(#clip993)\" cx=\"2991.17\" cy=\"76.43\" r=\"14\" fill=\"#9800ff\" fill-rule=\"evenodd\" fill-opacity=\"1\" stroke=\"#000000\" stroke-opacity=\"1\" stroke-width=\"2.4\"/>\n",
       "<circle clip-path=\"url(#clip993)\" cx=\"2546.77\" cy=\"589.735\" r=\"14\" fill=\"#c500ff\" fill-rule=\"evenodd\" fill-opacity=\"1\" stroke=\"#000000\" stroke-opacity=\"1\" stroke-width=\"2.4\"/>\n",
       "<circle clip-path=\"url(#clip993)\" cx=\"2608.22\" cy=\"537.424\" r=\"14\" fill=\"#4d00ff\" fill-rule=\"evenodd\" fill-opacity=\"1\" stroke=\"#000000\" stroke-opacity=\"1\" stroke-width=\"2.4\"/>\n",
       "<circle clip-path=\"url(#clip993)\" cx=\"2643.11\" cy=\"523.626\" r=\"14\" fill=\"#5000ff\" fill-rule=\"evenodd\" fill-opacity=\"1\" stroke=\"#000000\" stroke-opacity=\"1\" stroke-width=\"2.4\"/>\n",
       "<circle clip-path=\"url(#clip993)\" cx=\"2969.82\" cy=\"312.594\" r=\"14\" fill=\"#ff00c7\" fill-rule=\"evenodd\" fill-opacity=\"1\" stroke=\"#000000\" stroke-opacity=\"1\" stroke-width=\"2.4\"/>\n",
       "<circle clip-path=\"url(#clip993)\" cx=\"2313.59\" cy=\"763.649\" r=\"14\" fill=\"#ff00d7\" fill-rule=\"evenodd\" fill-opacity=\"1\" stroke=\"#000000\" stroke-opacity=\"1\" stroke-width=\"2.4\"/>\n",
       "<circle clip-path=\"url(#clip993)\" cx=\"1859.83\" cy=\"1049.29\" r=\"14\" fill=\"#f400ff\" fill-rule=\"evenodd\" fill-opacity=\"1\" stroke=\"#000000\" stroke-opacity=\"1\" stroke-width=\"2.4\"/>\n",
       "<circle clip-path=\"url(#clip993)\" cx=\"1950.07\" cy=\"981.961\" r=\"14\" fill=\"#fa00ff\" fill-rule=\"evenodd\" fill-opacity=\"1\" stroke=\"#000000\" stroke-opacity=\"1\" stroke-width=\"2.4\"/>\n",
       "<circle clip-path=\"url(#clip993)\" cx=\"2004.3\" cy=\"1039.25\" r=\"14\" fill=\"#ff00fa\" fill-rule=\"evenodd\" fill-opacity=\"1\" stroke=\"#000000\" stroke-opacity=\"1\" stroke-width=\"2.4\"/>\n",
       "<circle clip-path=\"url(#clip993)\" cx=\"2049.24\" cy=\"994.028\" r=\"14\" fill=\"#ff00d6\" fill-rule=\"evenodd\" fill-opacity=\"1\" stroke=\"#000000\" stroke-opacity=\"1\" stroke-width=\"2.4\"/>\n",
       "<circle clip-path=\"url(#clip993)\" cx=\"2954\" cy=\"424.575\" r=\"14\" fill=\"#e400ff\" fill-rule=\"evenodd\" fill-opacity=\"1\" stroke=\"#000000\" stroke-opacity=\"1\" stroke-width=\"2.4\"/>\n",
       "<circle clip-path=\"url(#clip993)\" cx=\"3124.79\" cy=\"342.102\" r=\"14\" fill=\"#ff00ca\" fill-rule=\"evenodd\" fill-opacity=\"1\" stroke=\"#000000\" stroke-opacity=\"1\" stroke-width=\"2.4\"/>\n",
       "<circle clip-path=\"url(#clip993)\" cx=\"3094.79\" cy=\"342.858\" r=\"14\" fill=\"#ff00e0\" fill-rule=\"evenodd\" fill-opacity=\"1\" stroke=\"#000000\" stroke-opacity=\"1\" stroke-width=\"2.4\"/>\n",
       "<circle clip-path=\"url(#clip993)\" cx=\"3067.37\" cy=\"371.855\" r=\"14\" fill=\"#ee00ff\" fill-rule=\"evenodd\" fill-opacity=\"1\" stroke=\"#000000\" stroke-opacity=\"1\" stroke-width=\"2.4\"/>\n",
       "<circle clip-path=\"url(#clip993)\" cx=\"2841.19\" cy=\"508.677\" r=\"14\" fill=\"#ff00f7\" fill-rule=\"evenodd\" fill-opacity=\"1\" stroke=\"#000000\" stroke-opacity=\"1\" stroke-width=\"2.4\"/>\n",
       "<circle clip-path=\"url(#clip993)\" cx=\"2871.61\" cy=\"474.758\" r=\"14\" fill=\"#ff00bb\" fill-rule=\"evenodd\" fill-opacity=\"1\" stroke=\"#000000\" stroke-opacity=\"1\" stroke-width=\"2.4\"/>\n",
       "<circle clip-path=\"url(#clip993)\" cx=\"3052.5\" cy=\"356.571\" r=\"14\" fill=\"#ff00af\" fill-rule=\"evenodd\" fill-opacity=\"1\" stroke=\"#000000\" stroke-opacity=\"1\" stroke-width=\"2.4\"/>\n",
       "<circle clip-path=\"url(#clip993)\" cx=\"3121.08\" cy=\"310.475\" r=\"14\" fill=\"#ff0099\" fill-rule=\"evenodd\" fill-opacity=\"1\" stroke=\"#000000\" stroke-opacity=\"1\" stroke-width=\"2.4\"/>\n",
       "<circle clip-path=\"url(#clip993)\" cx=\"2834.75\" cy=\"511.376\" r=\"14\" fill=\"#be00ff\" fill-rule=\"evenodd\" fill-opacity=\"1\" stroke=\"#000000\" stroke-opacity=\"1\" stroke-width=\"2.4\"/>\n",
       "<circle clip-path=\"url(#clip993)\" cx=\"2862.27\" cy=\"476.871\" r=\"14\" fill=\"#b700ff\" fill-rule=\"evenodd\" fill-opacity=\"1\" stroke=\"#000000\" stroke-opacity=\"1\" stroke-width=\"2.4\"/>\n",
       "<circle clip-path=\"url(#clip993)\" cx=\"3035.72\" cy=\"382.495\" r=\"14\" fill=\"#ff00bd\" fill-rule=\"evenodd\" fill-opacity=\"1\" stroke=\"#000000\" stroke-opacity=\"1\" stroke-width=\"2.4\"/>\n",
       "<path clip-path=\"url(#clip990)\" d=\"\n",
       "M3396.73 1078.48 L4272.76 1078.48 L4272.76 47.2441 L3396.73 47.2441  Z\n",
       "  \" fill=\"#ffffff\" fill-rule=\"evenodd\" fill-opacity=\"1\"/>\n",
       "<defs>\n",
       "  <clipPath id=\"clip994\">\n",
       "    <rect x=\"3396\" y=\"47\" width=\"877\" height=\"1032\"/>\n",
       "  </clipPath>\n",
       "</defs>\n",
       "<polyline clip-path=\"url(#clip994)\" style=\"stroke:#000000; stroke-linecap:butt; stroke-linejoin:round; stroke-width:2; stroke-opacity:0.1; fill:none\" points=\"\n",
       "  3396.73,1078.48 3396.73,47.2441 \n",
       "  \"/>\n",
       "<polyline clip-path=\"url(#clip994)\" style=\"stroke:#000000; stroke-linecap:butt; stroke-linejoin:round; stroke-width:2; stroke-opacity:0.1; fill:none\" points=\"\n",
       "  3571.94,1078.48 3571.94,47.2441 \n",
       "  \"/>\n",
       "<polyline clip-path=\"url(#clip994)\" style=\"stroke:#000000; stroke-linecap:butt; stroke-linejoin:round; stroke-width:2; stroke-opacity:0.1; fill:none\" points=\"\n",
       "  3747.14,1078.48 3747.14,47.2441 \n",
       "  \"/>\n",
       "<polyline clip-path=\"url(#clip994)\" style=\"stroke:#000000; stroke-linecap:butt; stroke-linejoin:round; stroke-width:2; stroke-opacity:0.1; fill:none\" points=\"\n",
       "  3922.35,1078.48 3922.35,47.2441 \n",
       "  \"/>\n",
       "<polyline clip-path=\"url(#clip994)\" style=\"stroke:#000000; stroke-linecap:butt; stroke-linejoin:round; stroke-width:2; stroke-opacity:0.1; fill:none\" points=\"\n",
       "  4097.55,1078.48 4097.55,47.2441 \n",
       "  \"/>\n",
       "<polyline clip-path=\"url(#clip994)\" style=\"stroke:#000000; stroke-linecap:butt; stroke-linejoin:round; stroke-width:2; stroke-opacity:0.1; fill:none\" points=\"\n",
       "  4272.76,1078.48 4272.76,47.2441 \n",
       "  \"/>\n",
       "<polyline clip-path=\"url(#clip990)\" style=\"stroke:#000000; stroke-linecap:butt; stroke-linejoin:round; stroke-width:4; stroke-opacity:1; fill:none\" points=\"\n",
       "  3396.73,1078.48 4272.76,1078.48 \n",
       "  \"/>\n",
       "<polyline clip-path=\"url(#clip990)\" style=\"stroke:#000000; stroke-linecap:butt; stroke-linejoin:round; stroke-width:4; stroke-opacity:1; fill:none\" points=\"\n",
       "  3396.73,1078.48 3396.73,1059.58 \n",
       "  \"/>\n",
       "<polyline clip-path=\"url(#clip990)\" style=\"stroke:#000000; stroke-linecap:butt; stroke-linejoin:round; stroke-width:4; stroke-opacity:1; fill:none\" points=\"\n",
       "  3571.94,1078.48 3571.94,1059.58 \n",
       "  \"/>\n",
       "<polyline clip-path=\"url(#clip990)\" style=\"stroke:#000000; stroke-linecap:butt; stroke-linejoin:round; stroke-width:4; stroke-opacity:1; fill:none\" points=\"\n",
       "  3747.14,1078.48 3747.14,1059.58 \n",
       "  \"/>\n",
       "<polyline clip-path=\"url(#clip990)\" style=\"stroke:#000000; stroke-linecap:butt; stroke-linejoin:round; stroke-width:4; stroke-opacity:1; fill:none\" points=\"\n",
       "  3922.35,1078.48 3922.35,1059.58 \n",
       "  \"/>\n",
       "<polyline clip-path=\"url(#clip990)\" style=\"stroke:#000000; stroke-linecap:butt; stroke-linejoin:round; stroke-width:4; stroke-opacity:1; fill:none\" points=\"\n",
       "  4097.55,1078.48 4097.55,1059.58 \n",
       "  \"/>\n",
       "<polyline clip-path=\"url(#clip990)\" style=\"stroke:#000000; stroke-linecap:butt; stroke-linejoin:round; stroke-width:4; stroke-opacity:1; fill:none\" points=\"\n",
       "  4272.76,1078.48 4272.76,1059.58 \n",
       "  \"/>\n",
       "<path clip-path=\"url(#clip990)\" d=\"M3374.12 1126.87 Q3370.51 1126.87 3368.68 1130.44 Q3366.87 1133.98 3366.87 1141.11 Q3366.87 1148.21 3368.68 1151.78 Q3370.51 1155.32 3374.12 1155.32 Q3377.75 1155.32 3379.56 1151.78 Q3381.39 1148.21 3381.39 1141.11 Q3381.39 1133.98 3379.56 1130.44 Q3377.75 1126.87 3374.12 1126.87 M3374.12 1123.17 Q3379.93 1123.17 3382.98 1127.77 Q3386.06 1132.36 3386.06 1141.11 Q3386.06 1149.83 3382.98 1154.44 Q3379.93 1159.02 3374.12 1159.02 Q3368.31 1159.02 3365.23 1154.44 Q3362.17 1149.83 3362.17 1141.11 Q3362.17 1132.36 3365.23 1127.77 Q3368.31 1123.17 3374.12 1123.17 Z\" fill=\"#000000\" fill-rule=\"evenodd\" fill-opacity=\"1\" /><path clip-path=\"url(#clip990)\" d=\"M3394.28 1152.47 L3399.17 1152.47 L3399.17 1158.35 L3394.28 1158.35 L3394.28 1152.47 Z\" fill=\"#000000\" fill-rule=\"evenodd\" fill-opacity=\"1\" /><path clip-path=\"url(#clip990)\" d=\"M3419.35 1126.87 Q3415.74 1126.87 3413.91 1130.44 Q3412.1 1133.98 3412.1 1141.11 Q3412.1 1148.21 3413.91 1151.78 Q3415.74 1155.32 3419.35 1155.32 Q3422.98 1155.32 3424.79 1151.78 Q3426.62 1148.21 3426.62 1141.11 Q3426.62 1133.98 3424.79 1130.44 Q3422.98 1126.87 3419.35 1126.87 M3419.35 1123.17 Q3425.16 1123.17 3428.22 1127.77 Q3431.29 1132.36 3431.29 1141.11 Q3431.29 1149.83 3428.22 1154.44 Q3425.16 1159.02 3419.35 1159.02 Q3413.54 1159.02 3410.46 1154.44 Q3407.41 1149.83 3407.41 1141.11 Q3407.41 1132.36 3410.46 1127.77 Q3413.54 1123.17 3419.35 1123.17 Z\" fill=\"#000000\" fill-rule=\"evenodd\" fill-opacity=\"1\" /><path clip-path=\"url(#clip990)\" d=\"M3549.82 1126.87 Q3546.21 1126.87 3544.38 1130.44 Q3542.58 1133.98 3542.58 1141.11 Q3542.58 1148.21 3544.38 1151.78 Q3546.21 1155.32 3549.82 1155.32 Q3553.46 1155.32 3555.26 1151.78 Q3557.09 1148.21 3557.09 1141.11 Q3557.09 1133.98 3555.26 1130.44 Q3553.46 1126.87 3549.82 1126.87 M3549.82 1123.17 Q3555.63 1123.17 3558.69 1127.77 Q3561.77 1132.36 3561.77 1141.11 Q3561.77 1149.83 3558.69 1154.44 Q3555.63 1159.02 3549.82 1159.02 Q3544.01 1159.02 3540.93 1154.44 Q3537.88 1149.83 3537.88 1141.11 Q3537.88 1132.36 3540.93 1127.77 Q3544.01 1123.17 3549.82 1123.17 Z\" fill=\"#000000\" fill-rule=\"evenodd\" fill-opacity=\"1\" /><path clip-path=\"url(#clip990)\" d=\"M3569.98 1152.47 L3574.87 1152.47 L3574.87 1158.35 L3569.98 1158.35 L3569.98 1152.47 Z\" fill=\"#000000\" fill-rule=\"evenodd\" fill-opacity=\"1\" /><path clip-path=\"url(#clip990)\" d=\"M3585.1 1123.79 L3603.45 1123.79 L3603.45 1127.73 L3589.38 1127.73 L3589.38 1136.2 Q3590.4 1135.85 3591.42 1135.69 Q3592.44 1135.5 3593.46 1135.5 Q3599.24 1135.5 3602.62 1138.68 Q3606 1141.85 3606 1147.26 Q3606 1152.84 3602.53 1155.94 Q3599.06 1159.02 3592.74 1159.02 Q3590.56 1159.02 3588.29 1158.65 Q3586.05 1158.28 3583.64 1157.54 L3583.64 1152.84 Q3585.72 1153.98 3587.95 1154.53 Q3590.17 1155.09 3592.64 1155.09 Q3596.65 1155.09 3598.99 1152.98 Q3601.33 1150.88 3601.33 1147.26 Q3601.33 1143.65 3598.99 1141.55 Q3596.65 1139.44 3592.64 1139.44 Q3590.77 1139.44 3588.89 1139.86 Q3587.04 1140.27 3585.1 1141.15 L3585.1 1123.79 Z\" fill=\"#000000\" fill-rule=\"evenodd\" fill-opacity=\"1\" /><path clip-path=\"url(#clip990)\" d=\"M3714.3 1154.42 L3721.93 1154.42 L3721.93 1128.05 L3713.62 1129.72 L3713.62 1125.46 L3721.89 1123.79 L3726.56 1123.79 L3726.56 1154.42 L3734.2 1154.42 L3734.2 1158.35 L3714.3 1158.35 L3714.3 1154.42 Z\" fill=\"#000000\" fill-rule=\"evenodd\" fill-opacity=\"1\" /><path clip-path=\"url(#clip990)\" d=\"M3743.65 1152.47 L3748.53 1152.47 L3748.53 1158.35 L3743.65 1158.35 L3743.65 1152.47 Z\" fill=\"#000000\" fill-rule=\"evenodd\" fill-opacity=\"1\" /><path clip-path=\"url(#clip990)\" d=\"M3768.72 1126.87 Q3765.11 1126.87 3763.28 1130.44 Q3761.47 1133.98 3761.47 1141.11 Q3761.47 1148.21 3763.28 1151.78 Q3765.11 1155.32 3768.72 1155.32 Q3772.35 1155.32 3774.16 1151.78 Q3775.99 1148.21 3775.99 1141.11 Q3775.99 1133.98 3774.16 1130.44 Q3772.35 1126.87 3768.72 1126.87 M3768.72 1123.17 Q3774.53 1123.17 3777.58 1127.77 Q3780.66 1132.36 3780.66 1141.11 Q3780.66 1149.83 3777.58 1154.44 Q3774.53 1159.02 3768.72 1159.02 Q3762.91 1159.02 3759.83 1154.44 Q3756.77 1149.83 3756.77 1141.11 Q3756.77 1132.36 3759.83 1127.77 Q3762.91 1123.17 3768.72 1123.17 Z\" fill=\"#000000\" fill-rule=\"evenodd\" fill-opacity=\"1\" /><path clip-path=\"url(#clip990)\" d=\"M3890 1154.42 L3897.64 1154.42 L3897.64 1128.05 L3889.33 1129.72 L3889.33 1125.46 L3897.59 1123.79 L3902.27 1123.79 L3902.27 1154.42 L3909.91 1154.42 L3909.91 1158.35 L3890 1158.35 L3890 1154.42 Z\" fill=\"#000000\" fill-rule=\"evenodd\" fill-opacity=\"1\" /><path clip-path=\"url(#clip990)\" d=\"M3919.35 1152.47 L3924.23 1152.47 L3924.23 1158.35 L3919.35 1158.35 L3919.35 1152.47 Z\" fill=\"#000000\" fill-rule=\"evenodd\" fill-opacity=\"1\" /><path clip-path=\"url(#clip990)\" d=\"M3934.47 1123.79 L3952.82 1123.79 L3952.82 1127.73 L3938.75 1127.73 L3938.75 1136.2 Q3939.77 1135.85 3940.78 1135.69 Q3941.8 1135.5 3942.82 1135.5 Q3948.61 1135.5 3951.99 1138.68 Q3955.37 1141.85 3955.37 1147.26 Q3955.37 1152.84 3951.9 1155.94 Q3948.42 1159.02 3942.1 1159.02 Q3939.93 1159.02 3937.66 1158.65 Q3935.41 1158.28 3933.01 1157.54 L3933.01 1152.84 Q3935.09 1153.98 3937.31 1154.53 Q3939.53 1155.09 3942.01 1155.09 Q3946.02 1155.09 3948.35 1152.98 Q3950.69 1150.88 3950.69 1147.26 Q3950.69 1143.65 3948.35 1141.55 Q3946.02 1139.44 3942.01 1139.44 Q3940.14 1139.44 3938.26 1139.86 Q3936.41 1140.27 3934.47 1141.15 L3934.47 1123.79 Z\" fill=\"#000000\" fill-rule=\"evenodd\" fill-opacity=\"1\" /><path clip-path=\"url(#clip990)\" d=\"M4068.79 1154.42 L4085.11 1154.42 L4085.11 1158.35 L4063.17 1158.35 L4063.17 1154.42 Q4065.83 1151.66 4070.41 1147.03 Q4075.02 1142.38 4076.2 1141.04 Q4078.44 1138.51 4079.32 1136.78 Q4080.23 1135.02 4080.23 1133.33 Q4080.23 1130.57 4078.28 1128.84 Q4076.36 1127.1 4073.26 1127.1 Q4071.06 1127.1 4068.61 1127.87 Q4066.17 1128.63 4063.4 1130.18 L4063.4 1125.46 Q4066.22 1124.32 4068.67 1123.75 Q4071.13 1123.17 4073.17 1123.17 Q4078.54 1123.17 4081.73 1125.85 Q4084.92 1128.54 4084.92 1133.03 Q4084.92 1135.16 4084.11 1137.08 Q4083.33 1138.98 4081.22 1141.57 Q4080.64 1142.24 4077.54 1145.46 Q4074.44 1148.65 4068.79 1154.42 Z\" fill=\"#000000\" fill-rule=\"evenodd\" fill-opacity=\"1\" /><path clip-path=\"url(#clip990)\" d=\"M4094.92 1152.47 L4099.81 1152.47 L4099.81 1158.35 L4094.92 1158.35 L4094.92 1152.47 Z\" fill=\"#000000\" fill-rule=\"evenodd\" fill-opacity=\"1\" /><path clip-path=\"url(#clip990)\" d=\"M4119.99 1126.87 Q4116.38 1126.87 4114.55 1130.44 Q4112.75 1133.98 4112.75 1141.11 Q4112.75 1148.21 4114.55 1151.78 Q4116.38 1155.32 4119.99 1155.32 Q4123.63 1155.32 4125.43 1151.78 Q4127.26 1148.21 4127.26 1141.11 Q4127.26 1133.98 4125.43 1130.44 Q4123.63 1126.87 4119.99 1126.87 M4119.99 1123.17 Q4125.8 1123.17 4128.86 1127.77 Q4131.94 1132.36 4131.94 1141.11 Q4131.94 1149.83 4128.86 1154.44 Q4125.8 1159.02 4119.99 1159.02 Q4114.18 1159.02 4111.1 1154.44 Q4108.05 1149.83 4108.05 1141.11 Q4108.05 1132.36 4111.1 1127.77 Q4114.18 1123.17 4119.99 1123.17 Z\" fill=\"#000000\" fill-rule=\"evenodd\" fill-opacity=\"1\" /><path clip-path=\"url(#clip990)\" d=\"M4244.49 1154.42 L4260.81 1154.42 L4260.81 1158.35 L4238.87 1158.35 L4238.87 1154.42 Q4241.53 1151.66 4246.11 1147.03 Q4250.72 1142.38 4251.9 1141.04 Q4254.14 1138.51 4255.02 1136.78 Q4255.93 1135.02 4255.93 1133.33 Q4255.93 1130.57 4253.98 1128.84 Q4252.06 1127.1 4248.96 1127.1 Q4246.76 1127.1 4244.31 1127.87 Q4241.88 1128.63 4239.1 1130.18 L4239.1 1125.46 Q4241.92 1124.32 4244.38 1123.75 Q4246.83 1123.17 4248.87 1123.17 Q4254.24 1123.17 4257.43 1125.85 Q4260.63 1128.54 4260.63 1133.03 Q4260.63 1135.16 4259.82 1137.08 Q4259.03 1138.98 4256.92 1141.57 Q4256.34 1142.24 4253.24 1145.46 Q4250.14 1148.65 4244.49 1154.42 Z\" fill=\"#000000\" fill-rule=\"evenodd\" fill-opacity=\"1\" /><path clip-path=\"url(#clip990)\" d=\"M4270.63 1152.47 L4275.51 1152.47 L4275.51 1158.35 L4270.63 1158.35 L4270.63 1152.47 Z\" fill=\"#000000\" fill-rule=\"evenodd\" fill-opacity=\"1\" /><path clip-path=\"url(#clip990)\" d=\"M4285.74 1123.79 L4304.1 1123.79 L4304.1 1127.73 L4290.02 1127.73 L4290.02 1136.2 Q4291.04 1135.85 4292.06 1135.69 Q4293.08 1135.5 4294.1 1135.5 Q4299.89 1135.5 4303.27 1138.68 Q4306.64 1141.85 4306.64 1147.26 Q4306.64 1152.84 4303.17 1155.94 Q4299.7 1159.02 4293.38 1159.02 Q4291.2 1159.02 4288.94 1158.65 Q4286.69 1158.28 4284.28 1157.54 L4284.28 1152.84 Q4286.37 1153.98 4288.59 1154.53 Q4290.81 1155.09 4293.29 1155.09 Q4297.29 1155.09 4299.63 1152.98 Q4301.97 1150.88 4301.97 1147.26 Q4301.97 1143.65 4299.63 1141.55 Q4297.29 1139.44 4293.29 1139.44 Q4291.41 1139.44 4289.54 1139.86 Q4287.69 1140.27 4285.74 1141.15 L4285.74 1123.79 Z\" fill=\"#000000\" fill-rule=\"evenodd\" fill-opacity=\"1\" /><polyline clip-path=\"url(#clip994)\" style=\"stroke:#000000; stroke-linecap:butt; stroke-linejoin:round; stroke-width:2; stroke-opacity:0.1; fill:none\" points=\"\n",
       "  3396.73,1078.48 4272.76,1078.48 \n",
       "  \"/>\n",
       "<polyline clip-path=\"url(#clip994)\" style=\"stroke:#000000; stroke-linecap:butt; stroke-linejoin:round; stroke-width:2; stroke-opacity:0.1; fill:none\" points=\"\n",
       "  3396.73,872.233 4272.76,872.233 \n",
       "  \"/>\n",
       "<polyline clip-path=\"url(#clip994)\" style=\"stroke:#000000; stroke-linecap:butt; stroke-linejoin:round; stroke-width:2; stroke-opacity:0.1; fill:none\" points=\"\n",
       "  3396.73,665.986 4272.76,665.986 \n",
       "  \"/>\n",
       "<polyline clip-path=\"url(#clip994)\" style=\"stroke:#000000; stroke-linecap:butt; stroke-linejoin:round; stroke-width:2; stroke-opacity:0.1; fill:none\" points=\"\n",
       "  3396.73,459.738 4272.76,459.738 \n",
       "  \"/>\n",
       "<polyline clip-path=\"url(#clip994)\" style=\"stroke:#000000; stroke-linecap:butt; stroke-linejoin:round; stroke-width:2; stroke-opacity:0.1; fill:none\" points=\"\n",
       "  3396.73,253.491 4272.76,253.491 \n",
       "  \"/>\n",
       "<polyline clip-path=\"url(#clip994)\" style=\"stroke:#000000; stroke-linecap:butt; stroke-linejoin:round; stroke-width:2; stroke-opacity:0.1; fill:none\" points=\"\n",
       "  3396.73,47.2441 4272.76,47.2441 \n",
       "  \"/>\n",
       "<polyline clip-path=\"url(#clip990)\" style=\"stroke:#000000; stroke-linecap:butt; stroke-linejoin:round; stroke-width:4; stroke-opacity:1; fill:none\" points=\"\n",
       "  3396.73,1078.48 3396.73,47.2441 \n",
       "  \"/>\n",
       "<polyline clip-path=\"url(#clip990)\" style=\"stroke:#000000; stroke-linecap:butt; stroke-linejoin:round; stroke-width:4; stroke-opacity:1; fill:none\" points=\"\n",
       "  3396.73,1078.48 3408.94,1078.48 \n",
       "  \"/>\n",
       "<polyline clip-path=\"url(#clip990)\" style=\"stroke:#000000; stroke-linecap:butt; stroke-linejoin:round; stroke-width:4; stroke-opacity:1; fill:none\" points=\"\n",
       "  3396.73,872.233 3408.94,872.233 \n",
       "  \"/>\n",
       "<polyline clip-path=\"url(#clip990)\" style=\"stroke:#000000; stroke-linecap:butt; stroke-linejoin:round; stroke-width:4; stroke-opacity:1; fill:none\" points=\"\n",
       "  3396.73,665.986 3408.94,665.986 \n",
       "  \"/>\n",
       "<polyline clip-path=\"url(#clip990)\" style=\"stroke:#000000; stroke-linecap:butt; stroke-linejoin:round; stroke-width:4; stroke-opacity:1; fill:none\" points=\"\n",
       "  3396.73,459.738 3408.94,459.738 \n",
       "  \"/>\n",
       "<polyline clip-path=\"url(#clip990)\" style=\"stroke:#000000; stroke-linecap:butt; stroke-linejoin:round; stroke-width:4; stroke-opacity:1; fill:none\" points=\"\n",
       "  3396.73,253.491 3408.94,253.491 \n",
       "  \"/>\n",
       "<polyline clip-path=\"url(#clip990)\" style=\"stroke:#000000; stroke-linecap:butt; stroke-linejoin:round; stroke-width:4; stroke-opacity:1; fill:none\" points=\"\n",
       "  3396.73,47.2441 3408.94,47.2441 \n",
       "  \"/>\n",
       "<path clip-path=\"url(#clip990)\" d=\"M3267.56 1064.28 Q3263.95 1064.28 3262.12 1067.84 Q3260.31 1071.38 3260.31 1078.51 Q3260.31 1085.62 3262.12 1089.19 Q3263.95 1092.73 3267.56 1092.73 Q3271.19 1092.73 3273 1089.19 Q3274.83 1085.62 3274.83 1078.51 Q3274.83 1071.38 3273 1067.84 Q3271.19 1064.28 3267.56 1064.28 M3267.56 1060.57 Q3273.37 1060.57 3276.42 1065.18 Q3279.5 1069.76 3279.5 1078.51 Q3279.5 1087.24 3276.42 1091.85 Q3273.37 1096.43 3267.56 1096.43 Q3261.75 1096.43 3258.67 1091.85 Q3255.61 1087.24 3255.61 1078.51 Q3255.61 1069.76 3258.67 1065.18 Q3261.75 1060.57 3267.56 1060.57 Z\" fill=\"#000000\" fill-rule=\"evenodd\" fill-opacity=\"1\" /><path clip-path=\"url(#clip990)\" d=\"M3287.72 1089.88 L3292.61 1089.88 L3292.61 1095.76 L3287.72 1095.76 L3287.72 1089.88 Z\" fill=\"#000000\" fill-rule=\"evenodd\" fill-opacity=\"1\" /><path clip-path=\"url(#clip990)\" d=\"M3312.79 1064.28 Q3309.18 1064.28 3307.35 1067.84 Q3305.54 1071.38 3305.54 1078.51 Q3305.54 1085.62 3307.35 1089.19 Q3309.18 1092.73 3312.79 1092.73 Q3316.42 1092.73 3318.23 1089.19 Q3320.06 1085.62 3320.06 1078.51 Q3320.06 1071.38 3318.23 1067.84 Q3316.42 1064.28 3312.79 1064.28 M3312.79 1060.57 Q3318.6 1060.57 3321.66 1065.18 Q3324.73 1069.76 3324.73 1078.51 Q3324.73 1087.24 3321.66 1091.85 Q3318.6 1096.43 3312.79 1096.43 Q3306.98 1096.43 3303.9 1091.85 Q3300.85 1087.24 3300.85 1078.51 Q3300.85 1069.76 3303.9 1065.18 Q3306.98 1060.57 3312.79 1060.57 Z\" fill=\"#000000\" fill-rule=\"evenodd\" fill-opacity=\"1\" /><path clip-path=\"url(#clip990)\" d=\"M3268.55 858.031 Q3264.94 858.031 3263.11 861.596 Q3261.31 865.138 3261.31 872.267 Q3261.31 879.374 3263.11 882.939 Q3264.94 886.48 3268.55 886.48 Q3272.19 886.48 3273.99 882.939 Q3275.82 879.374 3275.82 872.267 Q3275.82 865.138 3273.99 861.596 Q3272.19 858.031 3268.55 858.031 M3268.55 854.328 Q3274.36 854.328 3277.42 858.934 Q3280.5 863.517 3280.5 872.267 Q3280.5 880.994 3277.42 885.601 Q3274.36 890.184 3268.55 890.184 Q3262.74 890.184 3259.67 885.601 Q3256.61 880.994 3256.61 872.267 Q3256.61 863.517 3259.67 858.934 Q3262.74 854.328 3268.55 854.328 Z\" fill=\"#000000\" fill-rule=\"evenodd\" fill-opacity=\"1\" /><path clip-path=\"url(#clip990)\" d=\"M3288.72 883.633 L3293.6 883.633 L3293.6 889.513 L3288.72 889.513 L3288.72 883.633 Z\" fill=\"#000000\" fill-rule=\"evenodd\" fill-opacity=\"1\" /><path clip-path=\"url(#clip990)\" d=\"M3303.83 854.953 L3322.19 854.953 L3322.19 858.888 L3308.11 858.888 L3308.11 867.36 Q3309.13 867.013 3310.15 866.851 Q3311.17 866.666 3312.19 866.666 Q3317.98 866.666 3321.36 869.837 Q3324.73 873.008 3324.73 878.425 Q3324.73 884.003 3321.26 887.105 Q3317.79 890.184 3311.47 890.184 Q3309.29 890.184 3307.03 889.814 Q3304.78 889.443 3302.37 888.703 L3302.37 884.003 Q3304.46 885.138 3306.68 885.693 Q3308.9 886.249 3311.38 886.249 Q3315.38 886.249 3317.72 884.142 Q3320.06 882.036 3320.06 878.425 Q3320.06 874.814 3317.72 872.707 Q3315.38 870.601 3311.38 870.601 Q3309.5 870.601 3307.63 871.017 Q3305.78 871.434 3303.83 872.314 L3303.83 854.953 Z\" fill=\"#000000\" fill-rule=\"evenodd\" fill-opacity=\"1\" /><path clip-path=\"url(#clip990)\" d=\"M3258.37 679.33 L3266.01 679.33 L3266.01 652.965 L3257.7 654.631 L3257.7 650.372 L3265.96 648.706 L3270.64 648.706 L3270.64 679.33 L3278.28 679.33 L3278.28 683.266 L3258.37 683.266 L3258.37 679.33 Z\" fill=\"#000000\" fill-rule=\"evenodd\" fill-opacity=\"1\" /><path clip-path=\"url(#clip990)\" d=\"M3287.72 677.386 L3292.61 677.386 L3292.61 683.266 L3287.72 683.266 L3287.72 677.386 Z\" fill=\"#000000\" fill-rule=\"evenodd\" fill-opacity=\"1\" /><path clip-path=\"url(#clip990)\" d=\"M3312.79 651.784 Q3309.18 651.784 3307.35 655.349 Q3305.54 658.891 3305.54 666.02 Q3305.54 673.127 3307.35 676.692 Q3309.18 680.233 3312.79 680.233 Q3316.42 680.233 3318.23 676.692 Q3320.06 673.127 3320.06 666.02 Q3320.06 658.891 3318.23 655.349 Q3316.42 651.784 3312.79 651.784 M3312.79 648.081 Q3318.6 648.081 3321.66 652.687 Q3324.73 657.27 3324.73 666.02 Q3324.73 674.747 3321.66 679.354 Q3318.6 683.937 3312.79 683.937 Q3306.98 683.937 3303.9 679.354 Q3300.85 674.747 3300.85 666.02 Q3300.85 657.27 3303.9 652.687 Q3306.98 648.081 3312.79 648.081 Z\" fill=\"#000000\" fill-rule=\"evenodd\" fill-opacity=\"1\" /><path clip-path=\"url(#clip990)\" d=\"M3259.36 473.083 L3267 473.083 L3267 446.718 L3258.69 448.384 L3258.69 444.125 L3266.96 442.458 L3271.63 442.458 L3271.63 473.083 L3279.27 473.083 L3279.27 477.018 L3259.36 477.018 L3259.36 473.083 Z\" fill=\"#000000\" fill-rule=\"evenodd\" fill-opacity=\"1\" /><path clip-path=\"url(#clip990)\" d=\"M3288.72 471.139 L3293.6 471.139 L3293.6 477.018 L3288.72 477.018 L3288.72 471.139 Z\" fill=\"#000000\" fill-rule=\"evenodd\" fill-opacity=\"1\" /><path clip-path=\"url(#clip990)\" d=\"M3303.83 442.458 L3322.19 442.458 L3322.19 446.394 L3308.11 446.394 L3308.11 454.866 Q3309.13 454.519 3310.15 454.356 Q3311.17 454.171 3312.19 454.171 Q3317.98 454.171 3321.36 457.343 Q3324.73 460.514 3324.73 465.93 Q3324.73 471.509 3321.26 474.611 Q3317.79 477.69 3311.47 477.69 Q3309.29 477.69 3307.03 477.319 Q3304.78 476.949 3302.37 476.208 L3302.37 471.509 Q3304.46 472.643 3306.68 473.199 Q3308.9 473.755 3311.38 473.755 Q3315.38 473.755 3317.72 471.648 Q3320.06 469.542 3320.06 465.93 Q3320.06 462.319 3317.72 460.213 Q3315.38 458.106 3311.38 458.106 Q3309.5 458.106 3307.63 458.523 Q3305.78 458.94 3303.83 459.819 L3303.83 442.458 Z\" fill=\"#000000\" fill-rule=\"evenodd\" fill-opacity=\"1\" /><path clip-path=\"url(#clip990)\" d=\"M3261.59 266.836 L3277.91 266.836 L3277.91 270.771 L3255.96 270.771 L3255.96 266.836 Q3258.62 264.081 3263.21 259.452 Q3267.81 254.799 3268.99 253.457 Q3271.24 250.933 3272.12 249.197 Q3273.02 247.438 3273.02 245.748 Q3273.02 242.994 3271.08 241.258 Q3269.16 239.521 3266.05 239.521 Q3263.86 239.521 3261.4 240.285 Q3258.97 241.049 3256.19 242.6 L3256.19 237.878 Q3259.02 236.744 3261.47 236.165 Q3263.92 235.586 3265.96 235.586 Q3271.33 235.586 3274.53 238.271 Q3277.72 240.957 3277.72 245.447 Q3277.72 247.577 3276.91 249.498 Q3276.12 251.396 3274.02 253.989 Q3273.44 254.66 3270.34 257.878 Q3267.23 261.072 3261.59 266.836 Z\" fill=\"#000000\" fill-rule=\"evenodd\" fill-opacity=\"1\" /><path clip-path=\"url(#clip990)\" d=\"M3287.72 264.892 L3292.61 264.892 L3292.61 270.771 L3287.72 270.771 L3287.72 264.892 Z\" fill=\"#000000\" fill-rule=\"evenodd\" fill-opacity=\"1\" /><path clip-path=\"url(#clip990)\" d=\"M3312.79 239.29 Q3309.18 239.29 3307.35 242.855 Q3305.54 246.396 3305.54 253.526 Q3305.54 260.632 3307.35 264.197 Q3309.18 267.739 3312.79 267.739 Q3316.42 267.739 3318.23 264.197 Q3320.06 260.632 3320.06 253.526 Q3320.06 246.396 3318.23 242.855 Q3316.42 239.29 3312.79 239.29 M3312.79 235.586 Q3318.6 235.586 3321.66 240.193 Q3324.73 244.776 3324.73 253.526 Q3324.73 262.253 3321.66 266.859 Q3318.6 271.443 3312.79 271.443 Q3306.98 271.443 3303.9 266.859 Q3300.85 262.253 3300.85 253.526 Q3300.85 244.776 3303.9 240.193 Q3306.98 235.586 3312.79 235.586 Z\" fill=\"#000000\" fill-rule=\"evenodd\" fill-opacity=\"1\" /><path clip-path=\"url(#clip990)\" d=\"M3262.58 60.5889 L3278.9 60.5889 L3278.9 64.5241 L3256.96 64.5241 L3256.96 60.5889 Q3259.62 57.8343 3264.2 53.2047 Q3268.81 48.552 3269.99 47.2094 Q3272.23 44.6862 3273.11 42.9501 Q3274.02 41.1909 3274.02 39.5011 Q3274.02 36.7465 3272.07 35.0104 Q3270.15 33.2743 3267.05 33.2743 Q3264.85 33.2743 3262.4 34.0381 Q3259.97 34.802 3257.19 36.3529 L3257.19 31.6308 Q3260.01 30.4965 3262.47 29.9178 Q3264.92 29.3391 3266.96 29.3391 Q3272.33 29.3391 3275.52 32.0243 Q3278.72 34.7094 3278.72 39.2002 Q3278.72 41.3298 3277.91 43.2511 Q3277.12 45.1492 3275.01 47.7418 Q3274.43 48.4131 3271.33 51.6306 Q3268.23 54.8251 3262.58 60.5889 Z\" fill=\"#000000\" fill-rule=\"evenodd\" fill-opacity=\"1\" /><path clip-path=\"url(#clip990)\" d=\"M3288.72 58.6445 L3293.6 58.6445 L3293.6 64.5241 L3288.72 64.5241 L3288.72 58.6445 Z\" fill=\"#000000\" fill-rule=\"evenodd\" fill-opacity=\"1\" /><path clip-path=\"url(#clip990)\" d=\"M3303.83 29.9641 L3322.19 29.9641 L3322.19 33.8993 L3308.11 33.8993 L3308.11 42.3714 Q3309.13 42.0242 3310.15 41.8622 Q3311.17 41.677 3312.19 41.677 Q3317.98 41.677 3321.36 44.8483 Q3324.73 48.0196 3324.73 53.4362 Q3324.73 59.0149 3321.26 62.1167 Q3317.79 65.1954 3311.47 65.1954 Q3309.29 65.1954 3307.03 64.825 Q3304.78 64.4547 3302.37 63.7139 L3302.37 59.0149 Q3304.46 60.1491 3306.68 60.7047 Q3308.9 61.2602 3311.38 61.2602 Q3315.38 61.2602 3317.72 59.1538 Q3320.06 57.0473 3320.06 53.4362 Q3320.06 49.8251 3317.72 47.7186 Q3315.38 45.6122 3311.38 45.6122 Q3309.5 45.6122 3307.63 46.0288 Q3305.78 46.4455 3303.83 47.3251 L3303.83 29.9641 Z\" fill=\"#000000\" fill-rule=\"evenodd\" fill-opacity=\"1\" /><polyline clip-path=\"url(#clip994)\" style=\"stroke:#0f00f0; stroke-linecap:butt; stroke-linejoin:round; stroke-width:4; stroke-opacity:1; fill:none\" points=\"\n",
       "  3458.65,1078.48 3459.96,1074.35 3461.26,1070.23 3462.57,1066.11 3463.87,1061.98 3465.17,1057.86 3466.47,1053.73 3466.82,1052.6 3467.4,1049.61 3468.2,1045.48 \n",
       "  3469,1041.36 3469.8,1037.23 3470.6,1033.11 3471.39,1028.98 3472.18,1024.86 3472.96,1020.73 3473.74,1016.61 3474.5,1012.48 3475.25,1008.36 3475.99,1004.23 \n",
       "  3476.71,1000.11 3477.42,995.981 3478.1,991.856 3478.77,987.731 3479.41,983.606 3480.03,979.481 3480.62,975.356 3481.18,971.231 3481.71,967.106 3482.21,962.981 \n",
       "  3482.68,958.856 3483.11,954.732 3483.5,950.607 3483.85,946.482 3484.16,942.357 3484.42,938.232 3484.64,934.107 3484.82,929.982 3484.94,925.857 3485.01,921.732 \n",
       "  3485.03,917.607 3485,913.482 3484.91,909.357 3484.76,905.232 3484.55,901.107 3484.28,896.982 3483.95,892.857 3483.55,888.732 3483.09,884.608 3482.55,880.483 \n",
       "  3481.95,876.358 3481.27,872.233 3480.52,868.108 3479.7,863.983 3478.79,859.858 3477.8,855.733 3476.73,851.608 3475.56,847.483 3474.31,843.358 3472.96,839.233 \n",
       "  3471.52,835.108 3469.97,830.983 3468.32,826.858 3466.82,823.346 3466.29,822.733 3462.44,818.608 3458.06,814.483 3453.08,810.359 3447.36,806.234 3440.75,802.109 \n",
       "  3433.02,797.984 3431.78,797.386 3430.83,797.984 3423.75,802.109 3415.26,806.234 3404.91,810.359 3396.73,813.102 \n",
       "  \"/>\n",
       "<polyline clip-path=\"url(#clip994)\" style=\"stroke:#1f00e0; stroke-linecap:butt; stroke-linejoin:round; stroke-width:4; stroke-opacity:1; fill:none\" points=\"\n",
       "  3396.73,704.94 3398.75,703.11 3403.11,698.985 3407.2,694.86 3411.04,690.735 3414.65,686.61 3418.04,682.485 3421.24,678.36 3424.25,674.235 3427.1,670.11 \n",
       "  3429.79,665.986 3431.78,662.801 3433.52,661.861 3440.8,657.736 3447.38,653.611 3453.35,649.486 3458.79,645.361 3463.76,641.236 3466.82,638.522 3501.86,637.937 \n",
       "  3506.66,641.236 3512.31,645.361 3517.63,649.486 3522.65,653.611 3527.4,657.736 3531.89,661.861 3536.16,665.986 3536.9,666.731 3539.21,670.11 3541.96,674.235 \n",
       "  3544.65,678.36 3547.27,682.485 3549.82,686.61 3552.31,690.735 3554.73,694.86 3557.08,698.985 3559.37,703.11 3561.6,707.235 3563.76,711.36 3565.85,715.485 \n",
       "  3567.87,719.61 3569.83,723.735 3571.72,727.86 3571.94,728.367 3573.34,731.985 3574.88,736.11 3576.35,740.235 3577.75,744.359 3579.07,748.484 3580.32,752.609 \n",
       "  3581.49,756.734 3582.58,760.859 3583.59,764.984 3584.52,769.109 3585.37,773.234 3586.13,777.359 3586.81,781.484 3587.4,785.609 3587.91,789.734 3588.33,793.859 \n",
       "  3588.67,797.984 3588.92,802.109 3589.1,806.234 3589.19,810.359 3589.2,814.483 3589.14,818.608 3589,822.733 3588.78,826.858 3588.5,830.983 3588.15,835.108 \n",
       "  3587.73,839.233 3587.25,843.358 3586.71,847.483 3586.11,851.608 3585.46,855.733 3584.76,859.858 3584.02,863.983 3583.23,868.108 3582.41,872.233 3581.54,876.358 \n",
       "  3580.65,880.483 3579.72,884.608 3578.77,888.732 3577.79,892.857 3576.8,896.982 3575.78,901.107 3574.75,905.232 3573.71,909.357 3572.65,913.482 3571.94,916.231 \n",
       "  3571.46,917.607 3569.97,921.732 3568.46,925.857 3566.94,929.982 3565.41,934.107 3563.87,938.232 3562.33,942.357 3560.79,946.482 3559.25,950.607 3557.72,954.732 \n",
       "  3556.19,958.856 3554.67,962.981 3553.16,967.106 3551.66,971.231 3550.18,975.356 3548.71,979.481 3547.26,983.606 3545.82,987.731 3544.41,991.856 3543.01,995.981 \n",
       "  3541.63,1000.11 3540.27,1004.23 3538.93,1008.36 3537.61,1012.48 3536.9,1014.7 3536,1016.61 3534.07,1020.73 3532.16,1024.86 3530.28,1028.98 3528.44,1033.11 \n",
       "  3526.62,1037.23 3524.84,1041.36 3523.09,1045.48 3521.38,1049.61 3519.7,1053.73 3518.05,1057.86 3516.44,1061.98 3514.86,1066.11 3513.31,1070.23 3511.8,1074.35 \n",
       "  3510.31,1078.48 \n",
       "  \"/>\n",
       "<polyline clip-path=\"url(#clip994)\" style=\"stroke:#2f00d0; stroke-linecap:butt; stroke-linejoin:round; stroke-width:4; stroke-opacity:1; fill:none\" points=\"\n",
       "  3541.65,1078.48 3543.34,1074.35 3545.06,1070.23 3546.81,1066.11 3548.59,1061.98 3550.41,1057.86 3552.27,1053.73 3554.16,1049.61 3556.1,1045.48 3558.08,1041.36 \n",
       "  3560.11,1037.23 3562.19,1033.11 3564.31,1028.98 3566.49,1024.86 3568.73,1020.73 3571.01,1016.61 3571.94,1014.94 3572.97,1012.48 3574.71,1008.36 3576.46,1004.23 \n",
       "  3578.25,1000.11 3580.06,995.981 3581.9,991.856 3583.77,987.731 3585.68,983.606 3587.62,979.481 3589.6,975.356 3591.61,971.231 3593.67,967.106 3595.76,962.981 \n",
       "  3597.89,958.856 3600.05,954.732 3602.26,950.607 3604.5,946.482 3606.79,942.357 3606.98,942.003 3608.58,938.232 3610.35,934.107 3612.13,929.982 3613.93,925.857 \n",
       "  3615.75,921.732 3617.59,917.607 3619.45,913.482 3621.33,909.357 3623.22,905.232 3625.13,901.107 3627.06,896.982 3629,892.857 3630.95,888.732 3632.91,884.608 \n",
       "  3634.89,880.483 3636.86,876.358 3638.84,872.233 3640.81,868.108 3642.02,865.554 3642.62,863.983 3644.15,859.858 3645.68,855.733 3647.2,851.608 3648.7,847.483 \n",
       "  3650.18,843.358 3651.65,839.233 3653.09,835.108 3654.51,830.983 3655.9,826.858 3657.26,822.733 3658.58,818.608 3659.86,814.483 3661.09,810.359 3662.27,806.234 \n",
       "  3663.4,802.109 3664.47,797.984 3665.47,793.859 3666.41,789.734 3667.27,785.609 3668.04,781.484 3668.74,777.359 3669.34,773.234 3669.85,769.109 3670.26,764.984 \n",
       "  3670.56,760.859 3670.75,756.734 3670.84,752.609 3670.8,748.484 3670.65,744.359 3670.37,740.235 3669.97,736.11 3669.44,731.985 3668.78,727.86 3668,723.735 \n",
       "  3667.08,719.61 3666.04,715.485 3664.86,711.36 3663.56,707.235 3662.14,703.11 3660.59,698.985 3658.93,694.86 3657.14,690.735 3655.25,686.61 3653.25,682.485 \n",
       "  3651.15,678.36 3648.95,674.235 3646.66,670.11 3644.28,665.986 3642.02,662.188 3641.82,661.861 3639.22,657.736 3636.58,653.611 3633.88,649.486 3631.14,645.361 \n",
       "  3628.37,641.236 3625.55,637.111 3622.71,632.986 3619.85,628.861 3616.96,624.736 3614.05,620.611 3611.13,616.486 3608.19,612.361 3606.98,610.681 3605.09,608.236 \n",
       "  3601.87,604.111 3598.62,599.986 3595.34,595.862 3592.03,591.737 3588.69,587.612 3585.32,583.487 3581.91,579.362 3578.47,575.237 3574.99,571.112 3571.94,567.537 \n",
       "  3571.29,566.987 3566.28,562.862 3561.09,558.737 3555.69,554.612 3550.07,550.487 3544.2,546.362 3538.07,542.237 3536.9,541.476 3501.86,538.745 3496.56,542.237 \n",
       "  3489.76,546.362 3482.26,550.487 3473.96,554.612 3466.82,557.858 3466.16,558.737 3463.03,562.862 3459.72,566.987 3456.23,571.112 3452.54,575.237 3448.64,579.362 \n",
       "  3444.5,583.487 3440.1,587.612 3435.44,591.737 3431.78,594.81 3431.22,595.862 3429.01,599.986 3426.71,604.111 3424.32,608.236 3421.82,612.361 3419.21,616.486 \n",
       "  3416.48,620.611 3413.62,624.736 3410.63,628.861 3407.49,632.986 3404.2,637.111 3400.74,641.236 3397.11,645.361 3396.73,645.776 \n",
       "  \"/>\n",
       "<polyline clip-path=\"url(#clip994)\" style=\"stroke:#3f00c0; stroke-linecap:butt; stroke-linejoin:round; stroke-width:4; stroke-opacity:1; fill:none\" points=\"\n",
       "  3396.73,603.045 3399.16,599.986 3402.32,595.862 3405.34,591.737 3408.25,587.612 3411.04,583.487 3413.73,579.362 3416.31,575.237 3418.8,571.112 3421.2,566.987 \n",
       "  3423.52,562.862 3425.76,558.737 3427.93,554.612 3430.04,550.487 3431.78,546.989 3432.4,546.362 3436.44,542.237 3440.29,538.112 3443.96,533.987 3447.46,529.862 \n",
       "  3450.81,525.737 3454.01,521.613 3457.08,517.488 3460.02,513.363 3462.84,509.238 3465.55,505.113 3466.82,503.147 3470.02,500.988 3475.86,496.863 3481.33,492.738 \n",
       "  3486.47,488.613 3491.29,484.488 3495.84,480.363 3500.12,476.238 3501.86,474.508 3511.35,472.113 3525.84,467.988 3536.9,464.356 3549.78,467.988 3562.88,472.113 \n",
       "  3571.94,475.261 3573.17,476.238 3578.27,480.363 3583.24,484.488 3588.1,488.613 3592.85,492.738 3597.5,496.863 3602.07,500.988 3606.55,505.113 3606.98,505.513 \n",
       "  3610.23,509.238 3613.83,513.363 3617.42,517.488 3621.01,521.613 3624.6,525.737 3628.19,529.862 3631.79,533.987 3635.39,538.112 3638.99,542.237 3642.02,545.701 \n",
       "  3642.59,546.362 3646.12,550.487 3649.68,554.612 3653.26,558.737 3656.87,562.862 3660.49,566.987 3664.12,571.112 3667.77,575.237 3671.43,579.362 3675.09,583.487 \n",
       "  3677.06,585.715 3678.82,587.612 3682.62,591.737 3686.39,595.862 3690.12,599.986 3693.81,604.111 3697.44,608.236 3701,612.361 3704.5,616.486 3707.91,620.611 \n",
       "  3711.22,624.736 3712.1,625.866 3714.41,628.861 3717.44,632.986 3720.31,637.111 3723,641.236 3725.51,645.361 3727.85,649.486 3730,653.611 3731.97,657.736 \n",
       "  3733.76,661.861 3735.36,665.986 3736.78,670.11 3738.02,674.235 3739.08,678.36 3739.97,682.485 3740.68,686.61 3741.24,690.735 3741.63,694.86 3741.87,698.985 \n",
       "  3741.96,703.11 3741.91,707.235 3741.72,711.36 3741.41,715.485 3740.97,719.61 3740.41,723.735 3739.74,727.86 3738.97,731.985 3738.1,736.11 3737.14,740.235 \n",
       "  3736.1,744.359 3734.97,748.484 3733.77,752.609 3732.51,756.734 3731.18,760.859 3729.79,764.984 3728.35,769.109 3726.86,773.234 3725.32,777.359 3723.74,781.484 \n",
       "  3722.13,785.609 3720.48,789.734 3718.79,793.859 3717.08,797.984 3715.34,802.109 3713.57,806.234 3712.1,809.609 3711.72,810.359 3709.54,814.483 3707.34,818.608 \n",
       "  3705.14,822.733 3702.93,826.858 3700.72,830.983 3698.51,835.108 3696.3,839.233 3694.1,843.358 3691.89,847.483 3689.7,851.608 3687.5,855.733 3685.32,859.858 \n",
       "  3683.13,863.983 3680.96,868.108 3678.79,872.233 3677.06,875.497 3676.53,876.358 3673.97,880.483 3671.44,884.608 3668.94,888.732 3666.47,892.857 3664.03,896.982 \n",
       "  3661.62,901.107 3659.25,905.232 3656.9,909.357 3654.58,913.482 3652.28,917.607 3650.01,921.732 3647.76,925.857 3645.52,929.982 3643.31,934.107 3642.02,936.5 \n",
       "  3640.93,938.232 3638.34,942.357 3635.81,946.482 3633.33,950.607 3630.89,954.732 3628.5,958.856 3626.15,962.981 3623.84,967.106 3621.57,971.231 3619.33,975.356 \n",
       "  3617.13,979.481 3614.95,983.606 3612.8,987.731 3610.67,991.856 3608.56,995.981 3606.98,999.079 3606.36,1000.11 3603.87,1004.23 3601.45,1008.36 3599.08,1012.48 \n",
       "  3596.76,1016.61 3594.49,1020.73 3592.27,1024.86 3590.1,1028.98 3587.96,1033.11 3585.87,1037.23 3583.8,1041.36 3581.76,1045.48 3579.75,1049.61 3577.76,1053.73 \n",
       "  3575.79,1057.86 3573.82,1061.98 3571.94,1065.96 3571.85,1066.11 3569.52,1070.23 3567.24,1074.35 3565.03,1078.48 \n",
       "  \"/>\n",
       "<polyline clip-path=\"url(#clip994)\" style=\"stroke:#4f00b0; stroke-linecap:butt; stroke-linejoin:round; stroke-width:4; stroke-opacity:1; fill:none\" points=\"\n",
       "  3586.07,1078.48 3588.19,1074.35 3590.34,1070.23 3592.51,1066.11 3594.71,1061.98 3596.95,1057.86 3599.23,1053.73 3601.55,1049.61 3603.92,1045.48 3606.34,1041.36 \n",
       "  3606.98,1040.28 3608.69,1037.23 3610.98,1033.11 3613.28,1028.98 3615.58,1024.86 3617.89,1020.73 3620.22,1016.61 3622.57,1012.48 3624.94,1008.36 3627.35,1004.23 \n",
       "  3629.78,1000.11 3632.26,995.981 3634.78,991.856 3637.35,987.731 3639.97,983.606 3642.02,980.434 3642.6,979.481 3645.09,975.356 3647.58,971.231 3650.09,967.106 \n",
       "  3652.6,962.981 3655.14,958.856 3657.69,954.732 3660.28,950.607 3662.89,946.482 3665.54,942.357 3668.23,938.232 3670.96,934.107 3673.73,929.982 3676.56,925.857 \n",
       "  3677.06,925.126 3679.22,921.732 3681.85,917.607 3684.48,913.482 3687.12,909.357 3689.77,905.232 3692.44,901.107 3695.14,896.982 3697.85,892.857 3700.6,888.732 \n",
       "  3703.37,884.608 3706.17,880.483 3709.01,876.358 3711.88,872.233 3712.1,871.916 3714.49,868.108 3717.08,863.983 3719.66,859.858 3722.25,855.733 3724.83,851.608 \n",
       "  3727.43,847.483 3730.03,843.358 3732.63,839.233 3735.25,835.108 3737.88,830.983 3740.52,826.858 3743.17,822.733 3745.83,818.608 3747.14,816.566 3748.3,814.483 \n",
       "  3750.57,810.359 3752.82,806.234 3755.05,802.109 3757.27,797.984 3759.48,793.859 3761.68,789.734 3763.86,785.609 3766.03,781.484 3768.19,777.359 3770.34,773.234 \n",
       "  3772.47,769.109 3774.58,764.984 3776.68,760.859 3778.75,756.734 3780.81,752.609 3782.18,749.791 3782.7,748.484 3784.27,744.359 3785.81,740.235 3787.32,736.11 \n",
       "  3788.8,731.985 3790.24,727.86 3791.64,723.735 3793,719.61 3794.32,715.485 3795.59,711.36 3796.82,707.235 3797.99,703.11 3799.1,698.985 3800.15,694.86 \n",
       "  3801.14,690.735 3802.05,686.61 3802.88,682.485 3803.62,678.36 3804.27,674.235 3804.81,670.11 3805.25,665.986 3805.56,661.861 3805.75,657.736 3805.79,653.611 \n",
       "  3805.68,649.486 3805.4,645.361 3804.94,641.236 3804.3,637.111 3803.44,632.986 3802.36,628.861 3801.05,624.736 3799.48,620.611 3797.64,616.486 3795.51,612.361 \n",
       "  3793.07,608.236 3790.31,604.111 3787.21,599.986 3783.75,595.862 3782.18,594.145 3779.91,591.737 3775.78,587.612 3771.39,583.487 3766.77,579.362 3761.91,575.237 \n",
       "  3756.84,571.112 3751.57,566.987 3747.14,563.638 3746.23,562.862 3741.32,558.737 3736.36,554.612 3731.37,550.487 3726.36,546.362 3721.35,542.237 3716.34,538.112 \n",
       "  3712.1,534.621 3711.42,533.987 3706.99,529.862 3702.6,525.737 3698.26,521.613 3693.96,517.488 3689.71,513.363 3685.51,509.238 3681.36,505.113 3677.27,500.988 \n",
       "  3677.06,500.779 3673.35,496.863 3669.48,492.738 3665.64,488.613 3661.84,484.488 3658.06,480.363 3654.31,476.238 3650.59,472.113 3646.9,467.988 3643.23,463.863 \n",
       "  3642.02,462.51 3639.3,459.738 3635.23,455.613 3631.14,451.489 3627.02,447.364 3622.87,443.239 3618.69,439.114 3614.47,434.989 3610.2,430.864 3606.98,427.785 \n",
       "  3605.35,426.739 3598.73,422.614 3591.82,418.489 3584.6,414.364 3577.03,410.239 3571.94,407.583 3536.9,407.043 3531.69,410.239 3524.5,414.364 3516.71,418.489 \n",
       "  3508.24,422.614 3501.86,425.512 3500.83,426.739 3497.31,430.864 3493.64,434.989 3489.79,439.114 3485.77,443.239 3481.55,447.364 3477.13,451.489 3472.47,455.613 \n",
       "  3467.58,459.738 3466.82,460.364 3464.73,463.863 3462.2,467.988 3459.59,472.113 3456.89,476.238 3454.1,480.363 3451.22,484.488 3448.23,488.613 3445.12,492.738 \n",
       "  3441.9,496.863 3438.55,500.988 3435.06,505.113 3431.78,508.843 3431.58,509.238 3429.59,513.363 3427.54,517.488 3425.44,521.613 3423.3,525.737 3421.09,529.862 \n",
       "  3418.82,533.987 3416.48,538.112 3414.07,542.237 3411.58,546.362 3409.01,550.487 3406.35,554.612 3403.6,558.737 3400.75,562.862 3397.78,566.987 3396.73,568.421 \n",
       "  \n",
       "  \"/>\n",
       "<polyline clip-path=\"url(#clip994)\" style=\"stroke:#5f00a0; stroke-linecap:butt; stroke-linejoin:round; stroke-width:4; stroke-opacity:1; fill:none\" points=\"\n",
       "  3396.73,538.453 3396.97,538.112 3399.76,533.987 3402.47,529.862 3405.09,525.737 3407.63,521.613 3410.1,517.488 3412.5,513.363 3414.83,509.238 3417.11,505.113 \n",
       "  3419.33,500.988 3421.51,496.863 3423.63,492.738 3425.72,488.613 3427.76,484.488 3429.77,480.363 3431.75,476.238 3431.78,476.188 3435.05,472.113 3438.26,467.988 \n",
       "  3441.35,463.863 3444.34,459.738 3447.24,455.613 3450.06,451.489 3452.78,447.364 3455.44,443.239 3458.02,439.114 3460.53,434.989 3462.99,430.864 3465.39,426.739 \n",
       "  3466.82,424.245 3468.54,422.614 3472.78,418.489 3476.84,414.364 3480.75,410.239 3484.5,406.114 3488.11,401.989 3491.6,397.864 3494.96,393.739 3498.21,389.614 \n",
       "  3501.36,385.489 3501.86,384.829 3507.58,381.364 3514.03,377.24 3520.11,373.115 3525.84,368.99 3531.26,364.865 3536.4,360.74 3536.9,360.331 3556.41,356.615 \n",
       "  3571.94,353.157 3583.28,356.615 3595.69,360.74 3606.98,364.84 3607.01,364.865 3612.41,368.99 3617.67,373.115 3622.82,377.24 3627.86,381.364 3632.8,385.489 \n",
       "  3637.65,389.614 3642.02,393.397 3642.34,393.739 3646.24,397.864 3650.12,401.989 3654,406.114 3657.88,410.239 3661.77,414.364 3665.66,418.489 3669.56,422.614 \n",
       "  3673.48,426.739 3677.06,430.5 3677.41,430.864 3681.33,434.989 3685.3,439.114 3689.32,443.239 3693.39,447.364 3697.52,451.489 3701.7,455.613 3705.93,459.738 \n",
       "  3710.23,463.863 3712.1,465.642 3714.89,467.988 3719.85,472.113 3724.9,476.238 3730.03,480.363 3735.24,484.488 3740.53,488.613 3745.9,492.738 3747.14,493.69 \n",
       "  3752.38,496.863 3759.22,500.988 3766.1,505.113 3772.99,509.238 3779.89,513.363 3782.18,514.747 3788.44,517.488 3797.56,521.613 3806.29,525.737 3814.61,529.862 \n",
       "  3817.22,531.217 3823.83,533.987 3832.51,538.112 3840,542.237 3846.41,546.362 3851.86,550.487 3852.27,550.838 3855.27,554.612 3857.91,558.737 3860.01,562.862 \n",
       "  3861.64,566.987 3862.89,571.112 3863.82,575.237 3864.46,579.362 3864.88,583.487 3865.09,587.612 3865.12,591.737 3865.01,595.862 3864.77,599.986 3864.42,604.111 \n",
       "  3863.97,608.236 3863.43,612.361 3862.83,616.486 3862.16,620.611 3861.43,624.736 3860.65,628.861 3859.84,632.986 3858.98,637.111 3858.09,641.236 3857.16,645.361 \n",
       "  3856.21,649.486 3855.23,653.611 3854.23,657.736 3853.21,661.861 3852.27,665.59 3852.12,665.986 3850.5,670.11 3848.86,674.235 3847.22,678.36 3845.57,682.485 \n",
       "  3843.9,686.61 3842.24,690.735 3840.56,694.86 3838.88,698.985 3837.2,703.11 3835.52,707.235 3833.82,711.36 3832.13,715.485 3830.43,719.61 3828.72,723.735 \n",
       "  3827.01,727.86 3825.29,731.985 3823.56,736.11 3821.82,740.235 3820.07,744.359 3818.3,748.484 3817.22,750.967 3816.31,752.609 3813.98,756.734 3811.66,760.859 \n",
       "  3809.34,764.984 3807.02,769.109 3804.71,773.234 3802.39,777.359 3800.08,781.484 3797.76,785.609 3795.43,789.734 3793.1,793.859 3790.76,797.984 3788.4,802.109 \n",
       "  3786.03,806.234 3783.64,810.359 3782.18,812.849 3781.08,814.483 3778.27,818.608 3775.47,822.733 3772.69,826.858 3769.91,830.983 3767.14,835.108 3764.37,839.233 \n",
       "  3761.59,843.358 3758.82,847.483 3756.03,851.608 3753.24,855.733 3750.43,859.858 3747.6,863.983 3747.14,864.645 3744.59,868.108 3741.57,872.233 3738.57,876.358 \n",
       "  3735.59,880.483 3732.63,884.608 3729.68,888.732 3726.73,892.857 3723.79,896.982 3720.85,901.107 3717.91,905.232 3714.95,909.357 3712.1,913.318 3711.98,913.482 \n",
       "  3708.97,917.607 3705.99,921.732 3703.04,925.857 3700.12,929.982 3697.23,934.107 3694.35,938.232 3691.49,942.357 3688.64,946.482 3685.79,950.607 3682.94,954.732 \n",
       "  3680.08,958.856 3677.21,962.981 3677.06,963.192 3674.38,967.106 3671.6,971.231 3668.85,975.356 3666.14,979.481 3663.45,983.606 3660.79,987.731 3658.15,991.856 \n",
       "  3655.52,995.981 3652.89,1000.11 3650.27,1004.23 3647.63,1008.36 3644.99,1012.48 3642.33,1016.61 3642.02,1017.08 3639.76,1020.73 3637.24,1024.86 3634.77,1028.98 \n",
       "  3632.32,1033.11 3629.91,1037.23 3627.52,1041.36 3625.14,1045.48 3622.78,1049.61 3620.42,1053.73 3618.06,1057.86 3615.7,1061.98 3613.33,1066.11 3610.93,1070.23 \n",
       "  3608.52,1074.35 3606.98,1076.95 3606.14,1078.48 \n",
       "  \"/>\n",
       "<polyline clip-path=\"url(#clip994)\" style=\"stroke:#6f0090; stroke-linecap:butt; stroke-linejoin:round; stroke-width:4; stroke-opacity:1; fill:none\" points=\"\n",
       "  3627.76,1078.48 3630.02,1074.35 3632.28,1070.23 3634.55,1066.11 3636.83,1061.98 3639.13,1057.86 3641.46,1053.73 3642.02,1052.75 3644.12,1049.61 3646.84,1045.48 \n",
       "  3649.52,1041.36 3652.17,1037.23 3654.8,1033.11 3657.41,1028.98 3660.02,1024.86 3662.62,1020.73 3665.22,1016.61 3667.83,1012.48 3670.45,1008.36 3673.1,1004.23 \n",
       "  3675.76,1000.11 3677.06,998.12 3678.63,995.981 3681.62,991.856 3684.58,987.731 3687.52,983.606 3690.44,979.481 3693.35,975.356 3696.26,971.231 3699.16,967.106 \n",
       "  3702.08,962.981 3705,958.856 3707.94,954.732 3710.91,950.607 3712.1,948.954 3714.02,946.482 3717.2,942.357 3720.34,938.232 3723.47,934.107 3726.58,929.982 \n",
       "  3729.67,925.857 3732.77,921.732 3735.86,917.607 3738.95,913.482 3742.06,909.357 3745.18,905.232 3747.14,902.644 3748.33,901.107 3751.49,896.982 3754.61,892.857 \n",
       "  3757.7,888.732 3760.78,884.608 3763.83,880.483 3766.87,876.358 3769.91,872.233 3772.94,868.108 3775.97,863.983 3779.01,859.858 3782.06,855.733 3782.18,855.56 \n",
       "  3784.9,851.608 3787.7,847.483 3790.46,843.358 3793.2,839.233 3795.93,835.108 3798.63,830.983 3801.32,826.858 3804,822.733 3806.68,818.608 3809.35,814.483 \n",
       "  3812.03,810.359 3814.72,806.234 3817.22,802.39 3817.38,802.109 3819.62,797.984 3821.84,793.859 3824.04,789.734 3826.22,785.609 3828.39,781.484 3830.55,777.359 \n",
       "  3832.7,773.234 3834.85,769.109 3837,764.984 3839.15,760.859 3841.31,756.734 3843.48,752.609 3845.66,748.484 3847.85,744.359 3850.06,740.235 3852.27,736.169 \n",
       "  3852.29,736.11 3853.93,731.985 3855.55,727.86 3857.18,723.735 3858.79,719.61 3860.41,715.485 3862.03,711.36 3863.65,707.235 3865.28,703.11 3866.92,698.985 \n",
       "  3868.57,694.86 3870.24,690.735 3871.92,686.61 3873.62,682.485 3875.34,678.36 3877.09,674.235 3878.86,670.11 3880.66,665.986 3882.49,661.861 3884.36,657.736 \n",
       "  3886.26,653.611 3887.31,651.364 3887.85,649.486 3889.04,645.361 3890.22,641.236 3891.41,637.111 3892.61,632.986 3893.81,628.861 3895.01,624.736 3896.23,620.611 \n",
       "  3897.46,616.486 3898.7,612.361 3899.96,608.236 3901.24,604.111 3902.53,599.986 3903.84,595.862 3905.17,591.737 3906.52,587.612 3907.9,583.487 3909.3,579.362 \n",
       "  3910.72,575.237 3912.18,571.112 3913.66,566.987 3915.17,562.862 3916.71,558.737 3918.27,554.612 3919.87,550.487 3921.5,546.362 3922.35,544.175 3922.68,542.237 \n",
       "  3923.36,538.112 3924.01,533.987 3924.63,529.862 3925.2,525.737 3925.73,521.613 3926.2,517.488 3926.61,513.363 3926.93,509.238 3927.14,505.113 3927.23,500.988 \n",
       "  3927.15,496.863 3926.87,492.738 3926.31,488.613 3925.42,484.488 3924.05,480.363 3922.35,476.775 3918.51,476.238 3887.31,474.152 3852.27,474.781 3835.44,472.113 \n",
       "  3817.22,469.386 3813.46,467.988 3802.33,463.863 3791.29,459.738 3782.18,456.296 3781.03,455.613 3774.08,451.489 3767.27,447.364 3760.6,443.239 3754.07,439.114 \n",
       "  3747.68,434.989 3747.14,434.642 3742.54,430.864 3737.61,426.739 3732.76,422.614 3728,418.489 3723.32,414.364 3718.73,410.239 3714.21,406.114 3712.1,404.172 \n",
       "  3709.93,401.989 3705.87,397.864 3701.84,393.739 3697.85,389.614 3693.89,385.489 3689.97,381.364 3686.07,377.24 3682.2,373.115 3678.35,368.99 3677.06,367.607 \n",
       "  3674.34,364.865 3670.22,360.74 3666.08,356.615 3661.92,352.49 3657.72,348.365 3653.49,344.24 3649.22,340.115 3644.91,335.99 3642.02,333.258 3640,331.865 \n",
       "  3633.87,327.74 3627.52,323.615 3620.94,319.49 3614.11,315.365 3606.99,311.24 3606.98,311.232 3575.35,307.116 3571.94,306.729 3571.05,307.116 3561.14,311.24 \n",
       "  3550.28,315.365 3538.32,319.49 3536.9,319.957 3533.06,323.615 3528.57,327.74 3523.89,331.865 3519.01,335.99 3513.9,340.115 3508.56,344.24 3502.95,348.365 \n",
       "  3501.86,349.147 3499.48,352.49 3496.49,356.615 3493.42,360.74 3490.27,364.865 3487.03,368.99 3483.7,373.115 3480.25,377.24 3476.7,381.364 3473.03,385.489 \n",
       "  3469.22,389.614 3466.82,392.154 3465.93,393.739 3463.6,397.864 3461.23,401.989 3458.82,406.114 3456.37,410.239 3453.86,414.364 3451.3,418.489 3448.68,422.614 \n",
       "  3446,426.739 3443.24,430.864 3440.41,434.989 3437.5,439.114 3434.5,443.239 3431.78,446.881 3431.54,447.364 3429.56,451.489 3427.55,455.613 3425.52,459.738 \n",
       "  3423.47,463.863 3421.39,467.988 3419.27,472.113 3417.12,476.238 3414.93,480.363 3412.69,484.488 3410.4,488.613 3408.06,492.738 3405.66,496.863 3403.21,500.988 \n",
       "  3400.68,505.113 3398.08,509.238 3396.73,511.34 \n",
       "  \"/>\n",
       "<polyline clip-path=\"url(#clip994)\" style=\"stroke:#7f0080; stroke-linecap:butt; stroke-linejoin:round; stroke-width:4; stroke-opacity:1; fill:none\" points=\"\n",
       "  3396.73,485.937 3397.61,484.488 3400.08,480.363 3402.48,476.238 3404.84,472.113 3407.14,467.988 3409.4,463.863 3411.61,459.738 3413.79,455.613 3415.93,451.489 \n",
       "  3418.05,447.364 3420.14,443.239 3422.2,439.114 3424.25,434.989 3426.28,430.864 3428.3,426.739 3430.31,422.614 3431.78,419.611 3432.57,418.489 3435.43,414.364 \n",
       "  3438.22,410.239 3440.94,406.114 3443.6,401.989 3446.2,397.864 3448.75,393.739 3451.26,389.614 3453.72,385.489 3456.14,381.364 3458.53,377.24 3460.88,373.115 \n",
       "  3463.21,368.99 3465.52,364.865 3466.82,362.541 3468.38,360.74 3471.91,356.615 3475.32,352.49 3478.65,348.365 3481.89,344.24 3485.05,340.115 3488.14,335.99 \n",
       "  3491.15,331.865 3494.11,327.74 3497.01,323.615 3499.86,319.49 3501.86,316.556 3503.3,315.365 3508.19,311.24 3512.89,307.116 3517.42,302.991 3521.8,298.866 \n",
       "  3526.03,294.741 3530.13,290.616 3534.1,286.491 3536.9,283.523 3539.43,282.366 3548.11,278.241 3556.24,274.116 3563.87,269.991 3571.05,265.866 3571.94,265.343 \n",
       "  3606.98,263.756 3612.2,265.866 3621.92,269.991 3631.05,274.116 3639.67,278.241 3642.02,279.409 3645.68,282.366 3650.69,286.491 3655.6,290.616 3660.41,294.741 \n",
       "  3665.13,298.866 3669.78,302.991 3674.36,307.116 3677.06,309.585 3678.65,311.24 3682.61,315.365 3686.55,319.49 3690.48,323.615 3694.42,327.74 3698.35,331.865 \n",
       "  3702.29,335.99 3706.24,340.115 3710.2,344.24 3712.1,346.219 3714.26,348.365 3718.43,352.49 3722.65,356.615 3726.93,360.74 3731.26,364.865 3735.65,368.99 \n",
       "  3740.1,373.115 3744.62,377.24 3747.14,379.512 3749.64,381.364 3755.27,385.489 3761.04,389.614 3766.94,393.739 3772.98,397.864 3779.16,401.989 3782.18,403.973 \n",
       "  3787.15,406.114 3796.95,410.239 3807.06,414.364 3817.22,418.389 3817.97,418.489 3849.47,422.614 3852.27,422.973 3854.9,422.614 3884.63,418.489 3887.31,418.114 \n",
       "  3897.75,414.364 3908.54,410.239 3918.78,406.114 3922.35,404.649 3928.17,401.989 3936.28,397.864 3943.52,393.739 3950.13,389.614 3956.3,385.489 3957.39,384.748 \n",
       "  3968.23,381.364 3976.84,377.24 3983.05,373.115 3988.02,368.99 3992.29,364.865 3992.43,364.735 3992.56,364.865 3995.47,368.99 3997.07,373.115 3997.9,377.24 \n",
       "  3998.25,381.364 3998.27,385.489 3998.06,389.614 3997.7,393.739 3997.22,397.864 3996.65,401.989 3996.01,406.114 3995.32,410.239 3994.59,414.364 3993.83,418.489 \n",
       "  3993.03,422.614 3992.43,425.615 3991.62,426.739 3988.79,430.864 3986.29,434.989 3984.05,439.114 3982.01,443.239 3980.12,447.364 3978.36,451.489 3976.71,455.613 \n",
       "  3975.15,459.738 3973.66,463.863 3972.24,467.988 3970.87,472.113 3969.56,476.238 3968.28,480.363 3967.05,484.488 3965.85,488.613 3964.67,492.738 3963.52,496.863 \n",
       "  3962.39,500.988 3961.27,505.113 3960.16,509.238 3959.07,513.363 3957.97,517.488 3957.39,519.678 3956.31,521.613 3954.08,525.737 3951.97,529.862 3949.98,533.987 \n",
       "  3948.1,538.112 3946.3,542.237 3944.58,546.362 3942.93,550.487 3941.35,554.612 3939.82,558.737 3938.34,562.862 3936.91,566.987 3935.52,571.112 3934.17,575.237 \n",
       "  3932.84,579.362 3931.54,583.487 3930.27,587.612 3929.01,591.737 3927.78,595.862 3926.55,599.986 3925.33,604.111 3924.12,608.236 3922.91,612.361 3922.35,614.272 \n",
       "  3921.28,616.486 3919.34,620.611 3917.46,624.736 3915.63,628.861 3913.87,632.986 3912.15,637.111 3910.48,641.236 3908.85,645.361 3907.26,649.486 3905.7,653.611 \n",
       "  3904.16,657.736 3902.65,661.861 3901.17,665.986 3899.7,670.11 3898.25,674.235 3896.81,678.36 3895.38,682.485 3893.95,686.61 3892.53,690.735 3891.11,694.86 \n",
       "  3889.69,698.985 3888.26,703.11 3887.31,705.848 3886.64,707.235 3884.65,711.36 3882.7,715.485 3880.78,719.61 3878.89,723.735 3877.01,727.86 3875.16,731.985 \n",
       "  3873.32,736.11 3871.49,740.235 3869.67,744.359 3867.86,748.484 3866.04,752.609 3864.23,756.734 3862.41,760.859 3860.58,764.984 3858.74,769.109 3856.89,773.234 \n",
       "  3855.01,777.359 3853.12,781.484 3852.27,783.321 3850.96,785.609 3848.62,789.734 3846.29,793.859 3843.96,797.984 3841.63,802.109 3839.3,806.234 3836.95,810.359 \n",
       "  3834.6,814.483 3832.23,818.608 3829.84,822.733 3827.42,826.858 3824.98,830.983 3822.5,835.108 3819.99,839.233 3817.43,843.358 3817.22,843.691 3814.63,847.483 \n",
       "  3811.8,851.608 3808.97,855.733 3806.12,859.858 3803.26,863.983 3800.37,868.108 3797.45,872.233 3794.51,876.358 3791.53,880.483 3788.5,884.608 3785.43,888.732 \n",
       "  3782.31,892.857 3782.18,893.016 3779.2,896.982 3776.09,901.107 3772.98,905.232 3769.85,909.357 3766.7,913.482 3763.53,917.607 3760.32,921.732 3757.09,925.857 \n",
       "  3753.81,929.982 3750.49,934.107 3747.14,938.21 3747.13,938.232 3744.06,942.357 3740.99,946.482 3737.93,950.607 3734.85,954.732 3731.77,958.856 3728.66,962.981 \n",
       "  3725.54,967.106 3722.38,971.231 3719.19,975.356 3715.96,979.481 3712.69,983.606 3712.1,984.341 3709.8,987.731 3707.01,991.856 3704.23,995.981 3701.45,1000.11 \n",
       "  3698.66,1004.23 3695.86,1008.36 3693.04,1012.48 3690.21,1016.61 3687.34,1020.73 3684.44,1024.86 3681.5,1028.98 3678.52,1033.11 3677.06,1035.11 3675.82,1037.23 \n",
       "  3673.42,1041.36 3671.04,1045.48 3668.66,1049.61 3666.28,1053.73 3663.9,1057.86 3661.51,1061.98 3659.1,1066.11 3656.67,1070.23 3654.21,1074.35 3651.72,1078.48 \n",
       "  \n",
       "  \"/>\n",
       "<polyline clip-path=\"url(#clip994)\" style=\"stroke:#8f0070; stroke-linecap:butt; stroke-linejoin:round; stroke-width:4; stroke-opacity:1; fill:none\" points=\"\n",
       "  3681.31,1078.48 3683.79,1074.35 3686.25,1070.23 3688.7,1066.11 3691.13,1061.98 3693.54,1057.86 3695.95,1053.73 3698.34,1049.61 3700.73,1045.48 3703.11,1041.36 \n",
       "  3705.48,1037.23 3707.86,1033.11 3710.24,1028.98 3712.1,1025.79 3712.79,1024.86 3715.88,1020.73 3718.92,1016.61 3721.93,1012.48 3724.9,1008.36 3727.84,1004.23 \n",
       "  3730.76,1000.11 3733.65,995.981 3736.53,991.856 3739.38,987.731 3742.23,983.606 3745.06,979.481 3747.14,976.464 3748.04,975.356 3751.4,971.231 3754.71,967.106 \n",
       "  3757.96,962.981 3761.18,958.856 3764.35,954.732 3767.49,950.607 3770.6,946.482 3773.67,942.357 3776.72,938.232 3779.76,934.107 3782.18,930.797 3782.83,929.982 \n",
       "  3786.11,925.857 3789.32,921.732 3792.47,917.607 3795.57,913.482 3798.62,909.357 3801.63,905.232 3804.6,901.107 3807.53,896.982 3810.43,892.857 3813.3,888.732 \n",
       "  3816.15,884.608 3817.22,883.055 3818.97,880.483 3821.73,876.358 3824.43,872.233 3827.07,868.108 3829.67,863.983 3832.23,859.858 3834.75,855.733 3837.23,851.608 \n",
       "  3839.68,847.483 3842.11,843.358 3844.52,839.233 3846.9,835.108 3849.28,830.983 3851.64,826.858 3852.27,825.775 3853.82,822.733 3855.9,818.608 3857.94,814.483 \n",
       "  3859.95,810.359 3861.92,806.234 3863.87,802.109 3865.8,797.984 3867.71,793.859 3869.6,789.734 3871.48,785.609 3873.35,781.484 3875.22,777.359 3877.08,773.234 \n",
       "  3878.95,769.109 3880.82,764.984 3882.69,760.859 3884.59,756.734 3886.49,752.609 3887.31,750.859 3888.21,748.484 3889.77,744.359 3891.31,740.235 3892.83,736.11 \n",
       "  3894.34,731.985 3895.84,727.86 3897.34,723.735 3898.83,719.61 3900.32,715.485 3901.81,711.36 3903.31,707.235 3904.81,703.11 3906.32,698.985 3907.85,694.86 \n",
       "  3909.4,690.735 3910.97,686.61 3912.56,682.485 3914.18,678.36 3915.83,674.235 3917.52,670.11 3919.25,665.986 3921.02,661.861 3922.35,658.849 3922.71,657.736 \n",
       "  3924.05,653.611 3925.38,649.486 3926.71,645.361 3928.03,641.236 3929.36,637.111 3930.68,632.986 3932.02,628.861 3933.36,624.736 3934.72,620.611 3936.09,616.486 \n",
       "  3937.49,612.361 3938.91,608.236 3940.36,604.111 3941.85,599.986 3943.37,595.862 3944.94,591.737 3946.56,587.612 3948.24,583.487 3949.97,579.362 3951.78,575.237 \n",
       "  3953.67,571.112 3955.64,566.987 3957.39,563.482 3957.59,562.862 3958.92,558.737 3960.25,554.612 3961.57,550.487 3962.89,546.362 3964.22,542.237 3965.57,538.112 \n",
       "  3966.93,533.987 3968.31,529.862 3969.72,525.737 3971.16,521.613 3972.65,517.488 3974.18,513.363 3975.78,509.238 3977.43,505.113 3979.16,500.988 3980.98,496.863 \n",
       "  3982.9,492.738 3984.93,488.613 3987.09,484.488 3989.4,480.363 3991.87,476.238 3992.43,475.337 3993.51,472.113 3994.89,467.988 3996.26,463.863 3997.63,459.738 \n",
       "  3999.02,455.613 4000.42,451.489 4001.86,447.364 4003.33,443.239 4004.84,439.114 4006.41,434.989 4008.05,430.864 4009.78,426.739 4011.6,422.614 4013.53,418.489 \n",
       "  4015.61,414.364 4017.85,410.239 4020.29,406.114 4022.97,401.989 4025.95,397.864 4027.47,395.892 4028.21,393.739 4029.59,389.614 4030.97,385.489 4032.35,381.364 \n",
       "  4033.75,377.24 4035.17,373.115 4036.62,368.99 4038.12,364.865 4039.68,360.74 4041.31,356.615 4043.04,352.49 4044.89,348.365 4046.89,344.24 4049.08,340.115 \n",
       "  4051.51,335.99 4054.26,331.865 4057.45,327.74 4061.26,323.615 4062.51,322.385 4063.42,319.49 4064.68,315.365 4065.92,311.24 4067.15,307.116 4068.38,302.991 \n",
       "  4069.61,298.866 4070.85,294.741 4072.1,290.616 4073.37,286.491 4074.67,282.366 4076,278.241 4077.38,274.116 4078.8,269.991 4080.3,265.866 4081.91,261.741 \n",
       "  4083.7,257.616 4085.9,253.491 4089.65,249.366 4097.55,246.747 4097.84,245.241 4098.49,241.116 4099,236.991 4099.34,232.867 4099.45,228.742 4099.23,224.617 \n",
       "  4098.51,220.492 4097.55,217.675 4096.14,220.492 4094.16,224.617 4092.17,228.742 4090.09,232.867 4087.69,236.991 4083.9,241.116 4062.51,244.574 4061.98,245.241 \n",
       "  4058.77,249.366 4055.44,253.491 4051.94,257.616 4048.16,261.741 4043.96,265.866 4039.11,269.991 4033.17,274.116 4027.47,277.271 4026.54,278.241 4022.64,282.366 \n",
       "  4018.66,286.491 4014.55,290.616 4010.25,294.741 4005.7,298.866 4000.77,302.991 3995.35,307.116 3992.43,309.158 3990,311.24 3985.19,315.365 3980.33,319.49 \n",
       "  3975.37,323.615 3970.27,327.74 3964.97,331.865 3959.39,335.99 3957.39,337.423 3953.17,340.115 3946.74,344.24 3940.28,348.365 3933.76,352.49 3927.12,356.615 \n",
       "  3922.35,359.525 3919.19,360.74 3908.63,364.865 3898.18,368.99 3887.77,373.115 3887.31,373.3 3852.94,377.24 3852.27,377.321 3851.8,377.24 3829.13,373.115 \n",
       "  3817.22,370.817 3813.31,368.99 3804.68,364.865 3796.34,360.74 3788.27,356.615 3782.18,353.411 3780.95,352.49 3775.51,348.365 3770.17,344.24 3764.94,340.115 \n",
       "  3759.81,335.99 3754.78,331.865 3749.83,327.74 3747.14,325.474 3745.24,323.615 3741.06,319.49 3736.91,315.365 3732.8,311.24 3728.72,307.116 3724.66,302.991 \n",
       "  3720.63,298.866 3716.61,294.741 3712.6,290.616 3712.1,290.098 3708.59,286.491 3704.55,282.366 3700.49,278.241 3696.4,274.116 3692.28,269.991 3688.13,265.866 \n",
       "  3683.93,261.741 3679.69,257.616 3677.06,255.092 3675.01,253.491 3669.62,249.366 3664.09,245.241 3658.39,241.116 3652.51,236.991 3646.44,232.867 3642.02,229.949 \n",
       "  3638.11,228.742 3623.83,224.617 3607.99,220.492 3606.98,220.244 3605.86,220.492 3585.63,224.617 3571.94,227.087 3569.62,228.742 3563.68,232.867 3557.48,236.991 \n",
       "  3551,241.116 3544.21,245.241 3537.07,249.366 3536.9,249.462 3533.36,253.491 3529.67,257.616 3525.9,261.741 3522.04,265.866 3518.08,269.991 3514.02,274.116 \n",
       "  3509.83,278.241 3505.52,282.366 3501.86,285.774 3501.38,286.491 3498.63,290.616 3495.85,294.741 3493.04,298.866 3490.2,302.991 3487.31,307.116 3484.38,311.24 \n",
       "  3481.39,315.365 3478.34,319.49 3475.23,323.615 3472.05,327.74 3468.8,331.865 3466.82,334.332 3465.89,335.99 3463.59,340.115 3461.28,344.24 3458.96,348.365 \n",
       "  3456.63,352.49 3454.28,356.615 3451.9,360.74 3449.5,364.865 3447.07,368.99 3444.6,373.115 3442.09,377.24 3439.54,381.364 3436.94,385.489 3434.29,389.614 \n",
       "  3431.78,393.448 3431.63,393.739 3429.59,397.864 3427.55,401.989 3425.51,406.114 3423.48,410.239 3421.44,414.364 3419.4,418.489 3417.34,422.614 3415.27,426.739 \n",
       "  3413.18,430.864 3411.06,434.989 3408.93,439.114 3406.76,443.239 3404.55,447.364 3402.31,451.489 3400.03,455.613 3397.7,459.738 3396.73,461.43 \n",
       "  \"/>\n",
       "<polyline clip-path=\"url(#clip994)\" style=\"stroke:#9f0060; stroke-linecap:butt; stroke-linejoin:round; stroke-width:4; stroke-opacity:1; fill:none\" points=\"\n",
       "  3396.73,437.114 3397.88,434.989 3400.07,430.864 3402.24,426.739 3404.37,422.614 3406.47,418.489 3408.56,414.364 3410.62,410.239 3412.67,406.114 3414.71,401.989 \n",
       "  3416.74,397.864 3418.77,393.739 3420.8,389.614 3422.83,385.489 3424.87,381.364 3426.92,377.24 3428.99,373.115 3431.08,368.99 3431.78,367.621 3433.48,364.865 \n",
       "  3435.99,360.74 3438.46,356.615 3440.9,352.49 3443.31,348.365 3445.68,344.24 3448.04,340.115 3450.38,335.99 3452.7,331.865 3455.01,327.74 3457.32,323.615 \n",
       "  3459.62,319.49 3461.92,315.365 3464.23,311.24 3466.56,307.116 3466.82,306.655 3469.55,302.991 3472.57,298.866 3475.53,294.741 3478.45,290.616 3481.32,286.491 \n",
       "  3484.16,282.366 3486.96,278.241 3489.74,274.116 3492.49,269.991 3495.23,265.866 3497.95,261.741 3500.66,257.616 3501.86,255.8 3504.12,253.491 3508.08,249.366 \n",
       "  3511.94,245.241 3515.73,241.116 3519.44,236.991 3523.07,232.867 3526.65,228.742 3530.18,224.617 3533.65,220.492 3536.9,216.594 3537.24,216.367 3543.29,212.242 \n",
       "  3549.13,208.117 3554.76,203.992 3560.21,199.867 3565.49,195.742 3570.62,191.617 3571.94,190.542 3582.08,187.492 3594.81,183.367 3606.53,179.242 3606.98,179.078 \n",
       "  3608.51,179.242 3642.02,183.302 3642.15,183.367 3650.12,187.492 3657.71,191.617 3664.97,195.742 3671.92,199.867 3677.06,203.038 3678.19,203.992 3682.99,208.117 \n",
       "  3687.7,212.242 3692.32,216.367 3696.85,220.492 3701.31,224.617 3705.69,228.742 3710.01,232.867 3712.1,234.88 3714.18,236.991 3718.22,241.116 3722.24,245.241 \n",
       "  3726.24,249.366 3730.24,253.491 3734.23,257.616 3738.22,261.741 3742.21,265.866 3746.21,269.991 3747.14,270.95 3750.56,274.116 3755.04,278.241 3759.58,282.366 \n",
       "  3764.16,286.491 3768.8,290.616 3773.49,294.741 3778.25,298.866 3782.18,302.224 3783.37,302.991 3789.84,307.116 3796.48,311.24 3803.3,315.365 3810.32,319.49 \n",
       "  3817.22,323.432 3817.84,323.615 3832.1,327.74 3847.31,331.865 3852.27,333.15 3881.8,331.865 3887.31,331.642 3898.4,327.74 3910.6,323.615 3922.35,319.82 \n",
       "  3922.89,319.49 3929.66,315.365 3936.52,311.24 3943.5,307.116 3950.62,302.991 3957.39,299.171 3957.78,298.866 3963,294.741 3968.19,290.616 3973.38,286.491 \n",
       "  3978.6,282.366 3983.87,278.241 3989.21,274.116 3992.43,271.67 3994.34,269.991 3998.96,265.866 4003.47,261.741 4007.91,257.616 4012.32,253.491 4016.71,249.366 \n",
       "  4021.12,245.241 4025.56,241.116 4027.47,239.367 4030.13,236.991 4034.56,232.867 4038.8,228.742 4042.88,224.617 4046.87,220.492 4050.79,216.367 4054.67,212.242 \n",
       "  4058.55,208.117 4062.44,203.992 4062.51,203.92 4067.22,199.867 4071.6,195.742 4075.66,191.617 4079.5,187.492 4083.18,183.367 4086.75,179.242 4090.24,175.117 \n",
       "  4093.7,170.992 4097.13,166.867 4097.55,166.372 4102.31,162.742 4106.97,158.618 4111.08,154.493 4114.8,150.368 4118.26,146.243 4121.53,142.118 4124.66,137.993 \n",
       "  4127.71,133.868 4130.7,129.743 4132.59,127.138 4135.41,125.618 4141.52,121.493 4146.17,117.368 4149.97,113.243 4153.26,109.118 4156.21,104.993 4158.95,100.868 \n",
       "  4161.54,96.7434 4164.02,92.6185 4166.45,88.4935 4167.63,86.4916 4186.91,84.3686 4190.79,80.2436 4192.7,76.1187 4194.28,71.9938 4195.76,67.8688 4197.21,63.7439 \n",
       "  4198.65,59.6189 4200.09,55.494 4201.54,51.369 4202.67,48.2542 4203.81,51.369 4204.72,55.494 4205.18,59.6189 4205.33,63.7439 4205.23,67.8688 4204.95,71.9938 \n",
       "  4204.52,76.1187 4203.97,80.2436 4203.3,84.3686 4202.67,87.715 4196.79,88.4935 4190.54,92.6185 4188.52,96.7434 4186.97,100.868 4185.59,104.993 4184.28,109.118 \n",
       "  4183.01,113.243 4181.77,117.368 4180.54,121.493 4179.32,125.618 4178.11,129.743 4176.88,133.868 4175.65,137.993 4174.4,142.118 4173.13,146.243 4171.83,150.368 \n",
       "  4170.49,154.493 4169.1,158.618 4167.65,162.742 4167.63,162.792 4162.98,166.867 4159.29,170.992 4156.25,175.117 4153.64,179.242 4151.32,183.367 4149.21,187.492 \n",
       "  4147.26,191.617 4145.42,195.742 4143.65,199.867 4141.95,203.992 4140.28,208.117 4138.62,212.242 4136.95,216.367 4135.26,220.492 4133.53,224.617 4132.59,226.754 \n",
       "  4130.59,228.742 4126.84,232.867 4123.62,236.991 4120.78,241.116 4118.24,245.241 4115.91,249.366 4113.76,253.491 4111.73,257.616 4109.8,261.741 4107.94,265.866 \n",
       "  4106.13,269.991 4104.34,274.116 4102.55,278.241 4100.74,282.366 4098.91,286.491 4097.55,289.424 4096.49,290.616 4093.03,294.741 4089.97,298.866 4087.22,302.991 \n",
       "  4084.71,307.116 4082.4,311.24 4080.25,315.365 4078.21,319.49 4076.27,323.615 4074.41,327.74 4072.59,331.865 4070.81,335.99 4069.04,340.115 4067.26,344.24 \n",
       "  4065.47,348.365 4063.63,352.49 4062.51,354.93 4061.22,356.615 4058.24,360.74 4055.53,364.865 4053.04,368.99 4050.74,373.115 4048.59,377.24 4046.56,381.364 \n",
       "  4044.63,385.489 4042.79,389.614 4041.01,393.739 4039.29,397.864 4037.59,401.989 4035.91,406.114 4034.25,410.239 4032.57,414.364 4030.88,418.489 4029.15,422.614 \n",
       "  4027.47,426.535 4027.34,426.739 4024.74,430.864 4022.32,434.989 4020.07,439.114 4017.96,443.239 4015.97,447.364 4014.08,451.489 4012.28,455.613 4010.54,459.738 \n",
       "  4008.87,463.863 4007.25,467.988 4005.66,472.113 4004.11,476.238 4002.57,480.363 4001.04,484.488 3999.51,488.613 3997.98,492.738 3996.44,496.863 3994.87,500.988 \n",
       "  3993.27,505.113 3992.43,507.256 3991.39,509.238 3989.3,513.363 3987.32,517.488 3985.44,521.613 3983.65,525.737 3981.92,529.862 3980.27,533.987 3978.67,538.112 \n",
       "  3977.12,542.237 3975.61,546.362 3974.13,550.487 3972.69,554.612 3971.26,558.737 3969.86,562.862 3968.46,566.987 3967.08,571.112 3965.69,575.237 3964.31,579.362 \n",
       "  3962.91,583.487 3961.51,587.612 3960.09,591.737 3958.65,595.862 3957.39,599.434 3957.15,599.986 3955.4,604.111 3953.71,608.236 3952.07,612.361 3950.49,616.486 \n",
       "  3948.95,620.611 3947.45,624.736 3945.98,628.861 3944.55,632.986 3943.14,637.111 3941.76,641.236 3940.39,645.361 3939.04,649.486 3937.7,653.611 3936.37,657.736 \n",
       "  3935.04,661.861 3933.72,665.986 3932.39,670.11 3931.06,674.235 3929.73,678.36 3928.39,682.485 3927.03,686.61 3925.67,690.735 3924.29,694.86 3922.89,698.985 \n",
       "  3922.35,700.56 3921.36,703.11 3919.79,707.235 3918.24,711.36 3916.72,715.485 3915.21,719.61 3913.72,723.735 3912.25,727.86 3910.78,731.985 3909.32,736.11 \n",
       "  3907.87,740.235 3906.41,744.359 3904.95,748.484 3903.49,752.609 3902.02,756.734 3900.55,760.859 3899.06,764.984 3897.55,769.109 3896.03,773.234 3894.49,777.359 \n",
       "  3892.93,781.484 3891.34,785.609 3889.73,789.734 3888.08,793.859 3887.31,795.79 3886.35,797.984 3884.55,802.109 3882.75,806.234 3880.94,810.359 3879.12,814.483 \n",
       "  3877.29,818.608 3875.45,822.733 3873.58,826.858 3871.69,830.983 3869.78,835.108 3867.84,839.233 3865.87,843.358 3863.86,847.483 3861.81,851.608 3859.72,855.733 \n",
       "  3857.59,859.858 3855.41,863.983 3853.18,868.108 3852.27,869.779 3850.88,872.233 3848.55,876.358 3846.18,880.483 3843.79,884.608 3841.36,888.732 3838.89,892.857 \n",
       "  3836.38,896.982 3833.83,901.107 3831.23,905.232 3828.57,909.357 3825.87,913.482 3823.1,917.607 3820.28,921.732 3817.4,925.857 3817.22,926.109 3814.67,929.982 \n",
       "  3811.92,934.107 3809.13,938.232 3806.32,942.357 3803.47,946.482 3800.59,950.607 3797.66,954.732 3794.7,958.856 3791.7,962.981 3788.66,967.106 3785.58,971.231 \n",
       "  3782.46,975.356 3782.18,975.72 3779.75,979.481 3777.08,983.606 3774.4,987.731 3771.72,991.856 3769.02,995.981 3766.32,1000.11 3763.61,1004.23 3760.9,1008.36 \n",
       "  3758.19,1012.48 3755.48,1016.61 3752.78,1020.73 3750.08,1024.86 3747.4,1028.98 3747.14,1029.4 3745.29,1033.11 3743.28,1037.23 3741.3,1041.36 3739.36,1045.48 \n",
       "  3737.48,1049.61 3735.65,1053.73 3733.88,1057.86 3732.18,1061.98 3730.57,1066.11 3729.05,1070.23 3727.65,1074.35 3726.38,1078.48 \n",
       "  \"/>\n",
       "<polyline clip-path=\"url(#clip994)\" style=\"stroke:#af0050; stroke-linecap:butt; stroke-linejoin:round; stroke-width:4; stroke-opacity:1; fill:none\" points=\"\n",
       "  3797.73,1078.48 3796.15,1074.35 3794.98,1070.23 3794.19,1066.11 3793.73,1061.98 3793.57,1057.86 3793.7,1053.73 3794.08,1049.61 3794.69,1045.48 3795.5,1041.36 \n",
       "  3796.5,1037.23 3797.65,1033.11 3798.96,1028.98 3800.39,1024.86 3801.93,1020.73 3803.57,1016.61 3805.3,1012.48 3807.09,1008.36 3808.95,1004.23 3810.87,1000.11 \n",
       "  3812.82,995.981 3814.82,991.856 3816.84,987.731 3817.22,986.979 3819.12,983.606 3821.47,979.481 3823.82,975.356 3826.18,971.231 3828.53,967.106 3830.87,962.981 \n",
       "  3833.2,958.856 3835.51,954.732 3837.8,950.607 3840.06,946.482 3842.31,942.357 3844.53,938.232 3846.73,934.107 3848.9,929.982 3851.04,925.857 3852.27,923.501 \n",
       "  3853.22,921.732 3855.43,917.607 3857.6,913.482 3859.73,909.357 3861.82,905.232 3863.86,901.107 3865.86,896.982 3867.82,892.857 3869.75,888.732 3871.64,884.608 \n",
       "  3873.49,880.483 3875.31,876.358 3877.1,872.233 3878.87,868.108 3880.6,863.983 3882.32,859.858 3884.01,855.733 3885.68,851.608 3887.31,847.555 3887.34,847.483 \n",
       "  3889.02,843.358 3890.68,839.233 3892.29,835.108 3893.88,830.983 3895.43,826.858 3896.96,822.733 3898.46,818.608 3899.93,814.483 3901.38,810.359 3902.81,806.234 \n",
       "  3904.22,802.109 3905.61,797.984 3906.99,793.859 3908.35,789.734 3909.7,785.609 3911.04,781.484 3912.38,777.359 3913.71,773.234 3915.03,769.109 3916.36,764.984 \n",
       "  3917.68,760.859 3919.01,756.734 3920.35,752.609 3921.7,748.484 3922.35,746.509 3923.08,744.359 3924.48,740.235 3925.85,736.11 3927.21,731.985 3928.54,727.86 \n",
       "  3929.86,723.735 3931.16,719.61 3932.45,715.485 3933.72,711.36 3934.98,707.235 3936.23,703.11 3937.48,698.985 3938.72,694.86 3939.95,690.735 3941.19,686.61 \n",
       "  3942.43,682.485 3943.67,678.36 3944.92,674.235 3946.17,670.11 3947.44,665.986 3948.72,661.861 3950.03,657.736 3951.35,653.611 3952.7,649.486 3954.07,645.361 \n",
       "  3955.48,641.236 3956.93,637.111 3957.39,635.833 3958.44,632.986 3959.93,628.861 3961.4,624.736 3962.84,620.611 3964.26,616.486 3965.65,612.361 3967.03,608.236 \n",
       "  3968.4,604.111 3969.75,599.986 3971.1,595.862 3972.45,591.737 3973.79,587.612 3975.14,583.487 3976.5,579.362 3977.88,575.237 3979.27,571.112 3980.68,566.987 \n",
       "  3982.13,562.862 3983.61,558.737 3985.13,554.612 3986.7,550.487 3988.32,546.362 3990.01,542.237 3991.77,538.112 3992.43,536.613 3993.57,533.987 3995.31,529.862 \n",
       "  3997,525.737 3998.66,521.613 4000.27,517.488 4001.86,513.363 4003.42,509.238 4004.97,505.113 4006.52,500.988 4008.06,496.863 4009.61,492.738 4011.18,488.613 \n",
       "  4012.78,484.488 4014.41,480.363 4016.08,476.238 4017.81,472.113 4019.61,467.988 4021.48,463.863 4023.45,459.738 4025.53,455.613 4027.47,451.972 4027.71,451.489 \n",
       "  4029.75,447.364 4031.7,443.239 4033.59,439.114 4035.43,434.989 4037.22,430.864 4038.99,426.739 4040.75,422.614 4042.51,418.489 4044.27,414.364 4046.07,410.239 \n",
       "  4047.9,406.114 4049.8,401.989 4051.76,397.864 4053.82,393.739 4055.99,389.614 4058.3,385.489 4060.77,381.364 4062.51,378.618 4063.28,377.24 4065.49,373.115 \n",
       "  4067.62,368.99 4069.67,364.865 4071.66,360.74 4073.62,356.615 4075.56,352.49 4077.51,348.365 4079.47,344.24 4081.48,340.115 4083.56,335.99 4085.72,331.865 \n",
       "  4087.99,327.74 4090.41,323.615 4093,319.49 4095.81,315.365 4097.55,312.973 4098.57,311.24 4100.9,307.116 4103.13,302.991 4105.28,298.866 4107.38,294.741 \n",
       "  4109.45,290.616 4111.52,286.491 4113.61,282.366 4115.75,278.241 4117.96,274.116 4120.27,269.991 4122.71,265.866 4125.33,261.741 4128.17,257.616 4131.29,253.491 \n",
       "  4132.59,251.863 4134.07,249.366 4136.39,245.241 4138.62,241.116 4140.77,236.991 4142.89,232.867 4144.98,228.742 4147.08,224.617 4149.21,220.492 4151.41,216.367 \n",
       "  4153.71,212.242 4156.13,208.117 4158.73,203.992 4161.54,199.867 4164.64,195.742 4167.63,192.129 4167.93,191.617 4170.19,187.492 4172.33,183.367 4174.4,179.242 \n",
       "  4176.42,175.117 4178.4,170.992 4180.37,166.867 4182.35,162.742 4184.38,158.618 4186.48,154.493 4188.68,150.368 4191,146.243 4193.51,142.118 4196.24,137.993 \n",
       "  4199.28,133.868 4202.67,129.775 4202.69,129.743 4204.66,125.618 4206.54,121.493 4208.33,117.368 4210.06,113.243 4211.75,109.118 4213.42,104.993 4215.08,100.868 \n",
       "  4216.74,96.7434 4218.44,92.6185 4220.18,88.4935 4221.98,84.3686 4223.89,80.2436 4225.91,76.1187 4228.1,71.9938 4230.51,67.8688 4233.2,63.7439 4236.29,59.6189 \n",
       "  4237.72,57.8672 4238.58,55.494 4240.01,51.369 4241.35,47.2441 \n",
       "  \"/>\n",
       "<polyline clip-path=\"url(#clip994)\" style=\"stroke:#bf0040; stroke-linecap:butt; stroke-linejoin:round; stroke-width:4; stroke-opacity:1; fill:none\" points=\"\n",
       "  4255.64,47.2441 4254.1,51.369 4252.54,55.494 4250.95,59.6189 4249.33,63.7439 4247.64,67.8688 4245.89,71.9938 4244.04,76.1187 4242.1,80.2436 4240.02,84.3686 \n",
       "  4237.8,88.4935 4237.72,88.6468 4235.2,92.6185 4232.77,96.7434 4230.48,100.868 4228.32,104.993 4226.24,109.118 4224.22,113.243 4222.24,117.368 4220.28,121.493 \n",
       "  4218.32,125.618 4216.33,129.743 4214.29,133.868 4212.18,137.993 4209.97,142.118 4207.64,146.243 4205.15,150.368 4202.67,154.202 4202.47,154.493 4199.67,158.618 \n",
       "  4197.06,162.742 4194.6,166.867 4192.26,170.992 4190.01,175.117 4187.81,179.242 4185.64,183.367 4183.46,187.492 4181.26,191.617 4179,195.742 4176.65,199.867 \n",
       "  4174.19,203.992 4171.58,208.117 4168.78,212.242 4167.63,213.846 4165.88,216.367 4163.17,220.492 4160.63,224.617 4158.22,228.742 4155.9,232.867 4153.65,236.991 \n",
       "  4151.43,241.116 4149.22,245.241 4146.99,249.366 4144.71,253.491 4142.34,257.616 4139.87,261.741 4137.25,265.866 4134.46,269.991 4132.59,272.595 4131.57,274.116 \n",
       "  4128.95,278.241 4126.48,282.366 4124.14,286.491 4121.9,290.616 4119.73,294.741 4117.59,298.866 4115.48,302.991 4113.35,307.116 4111.19,311.24 4108.97,315.365 \n",
       "  4106.67,319.49 4104.26,323.615 4101.7,327.74 4098.98,331.865 4097.55,333.929 4096.3,335.99 4093.93,340.115 4091.68,344.24 4089.55,348.365 4087.49,352.49 \n",
       "  4085.5,356.615 4083.54,360.74 4081.61,364.865 4079.67,368.99 4077.71,373.115 4075.72,377.24 4073.67,381.364 4071.54,385.489 4069.32,389.614 4066.99,393.739 \n",
       "  4064.51,397.864 4062.51,401.032 4062,401.989 4059.89,406.114 4057.89,410.239 4055.98,414.364 4054.14,418.489 4052.35,422.614 4050.6,426.739 4048.89,430.864 \n",
       "  4047.18,434.989 4045.48,439.114 4043.77,443.239 4042.03,447.364 4040.25,451.489 4038.43,455.613 4036.55,459.738 4034.6,463.863 4032.57,467.988 4030.44,472.113 \n",
       "  4028.21,476.238 4027.47,477.562 4026.25,480.363 4024.51,484.488 4022.85,488.613 4021.25,492.738 4019.69,496.863 4018.17,500.988 4016.68,505.113 4015.21,509.238 \n",
       "  4013.75,513.363 4012.3,517.488 4010.85,521.613 4009.39,525.737 4007.91,529.862 4006.42,533.987 4004.9,538.112 4003.35,542.237 4001.76,546.362 4000.12,550.487 \n",
       "  3998.44,554.612 3996.7,558.737 3994.91,562.862 3993.04,566.987 3992.43,568.328 3991.46,571.112 3990.06,575.237 3988.7,579.362 3987.37,583.487 3986.08,587.612 \n",
       "  3984.81,591.737 3983.55,595.862 3982.32,599.986 3981.09,604.111 3979.88,608.236 3978.66,612.361 3977.45,616.486 3976.24,620.611 3975.02,624.736 3973.8,628.861 \n",
       "  3972.56,632.986 3971.31,637.111 3970.05,641.236 3968.77,645.361 3967.47,649.486 3966.14,653.611 3964.8,657.736 3963.43,661.861 3962.03,665.986 3960.61,670.11 \n",
       "  3959.16,674.235 3957.67,678.36 3957.39,679.148 3956.47,682.485 3955.34,686.61 3954.24,690.735 3953.15,694.86 3952.07,698.985 3951,703.11 3949.93,707.235 \n",
       "  3948.88,711.36 3947.82,715.485 3946.77,719.61 3945.72,723.735 3944.66,727.86 3943.6,731.985 3942.54,736.11 3941.47,740.235 3940.4,744.359 3939.31,748.484 \n",
       "  3938.22,752.609 3937.12,756.734 3936,760.859 3934.88,764.984 3933.74,769.109 3932.58,773.234 3931.41,777.359 3930.23,781.484 3929.02,785.609 3927.8,789.734 \n",
       "  3926.57,793.859 3925.31,797.984 3924.03,802.109 3922.74,806.234 3922.35,807.472 3921.59,810.359 3920.51,814.483 3919.43,818.608 3918.34,822.733 3917.25,826.858 \n",
       "  3916.15,830.983 3915.04,835.108 3913.92,839.233 3912.78,843.358 3911.64,847.483 3910.48,851.608 3909.31,855.733 3908.12,859.858 3906.92,863.983 3905.7,868.108 \n",
       "  3904.46,872.233 3903.21,876.358 3901.93,880.483 3900.64,884.608 3899.33,888.732 3898.01,892.857 3896.66,896.982 3895.29,901.107 3893.91,905.232 3892.51,909.357 \n",
       "  3891.1,913.482 3889.67,917.607 3888.23,921.732 3887.31,924.37 3886.83,925.857 3885.52,929.982 3884.21,934.107 3882.89,938.232 3881.58,942.357 3880.27,946.482 \n",
       "  3878.97,950.607 3877.67,954.732 3876.39,958.856 3875.13,962.981 3873.89,967.106 3872.68,971.231 3871.51,975.356 3870.38,979.481 3869.3,983.606 3868.28,987.731 \n",
       "  3867.33,991.856 3866.46,995.981 3865.68,1000.11 3865,1004.23 3864.43,1008.36 3863.99,1012.48 3863.69,1016.61 3863.54,1020.73 3863.56,1024.86 3863.76,1028.98 \n",
       "  3864.16,1033.11 3864.77,1037.23 3865.6,1041.36 3866.66,1045.48 3867.98,1049.61 3869.56,1053.73 3871.41,1057.86 3873.54,1061.98 3875.96,1066.11 3878.68,1070.23 \n",
       "  3881.69,1074.35 3885.01,1078.48 \n",
       "  \"/>\n",
       "<polyline clip-path=\"url(#clip994)\" style=\"stroke:#bf0040; stroke-linecap:butt; stroke-linejoin:round; stroke-width:4; stroke-opacity:1; fill:none\" points=\"\n",
       "  4049.27,1078.48 4050.03,1074.35 4050.74,1070.23 4051.41,1066.11 4052.04,1061.98 4052.64,1057.86 4053.2,1053.73 4053.73,1049.61 4054.24,1045.48 4054.72,1041.36 \n",
       "  4055.18,1037.23 4055.62,1033.11 4056.04,1028.98 4056.44,1024.86 4056.83,1020.73 4057.21,1016.61 4057.58,1012.48 4057.94,1008.36 4058.29,1004.23 4058.63,1000.11 \n",
       "  4058.97,995.981 4059.31,991.856 4059.64,987.731 4059.97,983.606 4060.3,979.481 4060.63,975.356 4060.96,971.231 4061.3,967.106 4061.64,962.981 4061.98,958.856 \n",
       "  4062.33,954.732 4062.51,952.627 4062.59,950.607 4062.76,946.482 4062.94,942.357 4063.12,938.232 4063.31,934.107 4063.5,929.982 4063.69,925.857 4063.89,921.732 \n",
       "  4064.1,917.607 4064.32,913.482 4064.54,909.357 4064.77,905.232 4065,901.107 4065.25,896.982 4065.5,892.857 4065.76,888.732 4066.03,884.608 4066.31,880.483 \n",
       "  4066.6,876.358 4066.9,872.233 4067.21,868.108 4067.53,863.983 4067.86,859.858 4068.21,855.733 4068.56,851.608 4068.93,847.483 4069.31,843.358 4069.71,839.233 \n",
       "  4070.11,835.108 4070.54,830.983 4070.97,826.858 4071.42,822.733 4071.89,818.608 4072.38,814.483 4072.88,810.359 4073.39,806.234 4073.93,802.109 4074.49,797.984 \n",
       "  4075.06,793.859 4075.66,789.734 4076.27,785.609 4076.91,781.484 4077.58,777.359 4078.26,773.234 4078.97,769.109 4079.71,764.984 4080.48,760.859 4081.27,756.734 \n",
       "  4082.1,752.609 4082.95,748.484 4083.84,744.359 4084.77,740.235 4085.73,736.11 4086.73,731.985 4087.77,727.86 4088.86,723.735 4089.99,719.61 4091.17,715.485 \n",
       "  4092.4,711.36 4093.69,707.235 4095.04,703.11 4096.45,698.985 4097.55,695.879 4097.77,694.86 4098.66,690.735 4099.58,686.61 4100.52,682.485 4101.49,678.36 \n",
       "  4102.49,674.235 4103.51,670.11 4104.57,665.986 4105.65,661.861 4106.77,657.736 4107.93,653.611 4109.13,649.486 4110.36,645.361 4111.65,641.236 4112.97,637.111 \n",
       "  4114.35,632.986 4115.78,628.861 4117.27,624.736 4118.82,620.611 4120.44,616.486 4122.13,612.361 4123.9,608.236 4125.75,604.111 4127.68,599.986 4129.72,595.862 \n",
       "  4131.86,591.737 4132.59,590.377 4133.6,587.612 4135.14,583.487 4136.7,579.362 4138.31,575.237 4139.96,571.112 4141.66,566.987 4143.41,562.862 4145.22,558.737 \n",
       "  4147.08,554.612 4149.02,550.487 4151.03,546.362 4153.12,542.237 4155.29,538.112 4157.57,533.987 4159.95,529.862 4162.44,525.737 4165.07,521.613 4167.63,517.771 \n",
       "  4167.78,517.488 4169.91,513.363 4172.09,509.238 4174.32,505.113 4176.6,500.988 4178.94,496.863 4181.36,492.738 4183.85,488.613 4186.42,484.488 4189.1,480.363 \n",
       "  4191.88,476.238 4194.78,472.113 4197.81,467.988 4200.99,463.863 4202.67,461.741 4204.03,459.738 4206.85,455.613 4209.71,451.489 4212.64,447.364 4215.63,443.239 \n",
       "  4218.7,439.114 4221.86,434.989 4225.12,430.864 4228.5,426.739 4232.01,422.614 4235.66,418.489 4237.72,416.235 4239.32,414.364 4242.86,410.239 4246.45,406.114 \n",
       "  4250.09,401.989 4253.81,397.864 4257.61,393.739 4261.5,389.614 4265.5,385.489 4269.62,381.364 4272.76,378.313 \n",
       "  \"/>\n",
       "<polyline clip-path=\"url(#clip994)\" style=\"stroke:#af0050; stroke-linecap:butt; stroke-linejoin:round; stroke-width:4; stroke-opacity:1; fill:none\" points=\"\n",
       "  4272.76,401.105 4271.87,401.989 4267.78,406.114 4263.79,410.239 4259.88,414.364 4256.04,418.489 4252.26,422.614 4248.53,426.739 4244.84,430.864 4241.17,434.989 \n",
       "  4237.72,438.898 4237.53,439.114 4233.99,443.239 4230.57,447.364 4227.25,451.489 4224.03,455.613 4220.89,459.738 4217.82,463.863 4214.81,467.988 4211.85,472.113 \n",
       "  4208.94,476.238 4206.06,480.363 4203.21,484.488 4202.67,485.272 4200.23,488.613 4197.31,492.738 4194.51,496.863 4191.8,500.988 4189.18,505.113 4186.65,509.238 \n",
       "  4184.18,513.363 4181.79,517.488 4179.45,521.613 4177.16,525.737 4174.92,529.862 4172.72,533.987 4170.56,538.112 4168.42,542.237 4167.63,543.773 4166.07,546.362 \n",
       "  4163.67,550.487 4161.37,554.612 4159.16,558.737 4157.04,562.862 4154.99,566.987 4153.02,571.112 4151.11,575.237 4149.26,579.362 4147.47,583.487 4145.73,587.612 \n",
       "  4144.03,591.737 4142.38,595.862 4140.77,599.986 4139.2,604.111 4137.66,608.236 4136.16,612.361 4134.68,616.486 4133.22,620.611 4132.59,622.426 4131.54,624.736 \n",
       "  4129.73,628.861 4127.99,632.986 4126.33,637.111 4124.73,641.236 4123.19,645.361 4121.72,649.486 4120.29,653.611 4118.92,657.736 4117.6,661.861 4116.33,665.986 \n",
       "  4115.09,670.11 4113.9,674.235 4112.75,678.36 4111.63,682.485 4110.54,686.61 4109.49,690.735 4108.47,694.86 4107.48,698.985 4106.52,703.11 4105.58,707.235 \n",
       "  4104.67,711.36 4103.79,715.485 4102.93,719.61 4102.09,723.735 4101.27,727.86 4100.48,731.985 4099.7,736.11 4098.95,740.235 4098.22,744.359 4097.55,748.18 \n",
       "  4097.47,748.484 4096.42,752.609 4095.42,756.734 4094.45,760.859 4093.53,764.984 4092.64,769.109 4091.78,773.234 4090.96,777.359 4090.16,781.484 4089.4,785.609 \n",
       "  4088.67,789.734 4087.97,793.859 4087.29,797.984 4086.64,802.109 4086.01,806.234 4085.41,810.359 4084.83,814.483 4084.27,818.608 4083.73,822.733 4083.22,826.858 \n",
       "  4082.72,830.983 4082.25,835.108 4081.79,839.233 4081.35,843.358 4080.92,847.483 4080.52,851.608 4080.13,855.733 4079.76,859.858 4079.4,863.983 4079.06,868.108 \n",
       "  4078.73,872.233 4078.41,876.358 4078.11,880.483 4077.83,884.608 4077.55,888.732 4077.29,892.857 4077.04,896.982 4076.8,901.107 4076.57,905.232 4076.36,909.357 \n",
       "  4076.15,913.482 4075.96,917.607 4075.77,921.732 4075.6,925.857 4075.43,929.982 4075.28,934.107 4075.13,938.232 4074.99,942.357 4074.86,946.482 4074.73,950.607 \n",
       "  4074.62,954.732 4074.51,958.856 4074.4,962.981 4074.31,967.106 4074.22,971.231 4074.13,975.356 4074.05,979.481 4073.98,983.606 4073.91,987.731 4073.85,991.856 \n",
       "  4073.78,995.981 4073.73,1000.11 4073.67,1004.23 4073.62,1008.36 4073.57,1012.48 4073.52,1016.61 4073.47,1020.73 4073.43,1024.86 4073.38,1028.98 4073.33,1033.11 \n",
       "  4073.29,1037.23 4073.24,1041.36 4073.19,1045.48 4073.13,1049.61 4073.08,1053.73 4073.01,1057.86 4072.95,1061.98 4072.88,1066.11 4072.8,1070.23 4072.71,1074.35 \n",
       "  4072.62,1078.48 \n",
       "  \"/>\n",
       "<polyline clip-path=\"url(#clip994)\" style=\"stroke:#9f0060; stroke-linecap:butt; stroke-linejoin:round; stroke-width:4; stroke-opacity:1; fill:none\" points=\"\n",
       "  4088.53,1078.48 4088.41,1074.35 4088.29,1070.23 4088.17,1066.11 4088.05,1061.98 4087.93,1057.86 4087.82,1053.73 4087.7,1049.61 4087.6,1045.48 4087.49,1041.36 \n",
       "  4087.39,1037.23 4087.3,1033.11 4087.21,1028.98 4087.12,1024.86 4087.04,1020.73 4086.97,1016.61 4086.9,1012.48 4086.84,1008.36 4086.79,1004.23 4086.74,1000.11 \n",
       "  4086.7,995.981 4086.67,991.856 4086.65,987.731 4086.64,983.606 4086.63,979.481 4086.64,975.356 4086.65,971.231 4086.68,967.106 4086.71,962.981 4086.75,958.856 \n",
       "  4086.81,954.732 4086.87,950.607 4086.95,946.482 4087.04,942.357 4087.14,938.232 4087.25,934.107 4087.37,929.982 4087.51,925.857 4087.65,921.732 4087.82,917.607 \n",
       "  4087.99,913.482 4088.18,909.357 4088.38,905.232 4088.6,901.107 4088.83,896.982 4089.08,892.857 4089.34,888.732 4089.62,884.608 4089.91,880.483 4090.23,876.358 \n",
       "  4090.55,872.233 4090.9,868.108 4091.27,863.983 4091.65,859.858 4092.05,855.733 4092.48,851.608 4092.92,847.483 4093.38,843.358 4093.87,839.233 4094.38,835.108 \n",
       "  4094.91,830.983 4095.46,826.858 4096.04,822.733 4096.65,818.608 4097.28,814.483 4097.55,812.775 4097.83,810.359 4098.32,806.234 4098.83,802.109 4099.36,797.984 \n",
       "  4099.9,793.859 4100.46,789.734 4101.04,785.609 4101.64,781.484 4102.25,777.359 4102.88,773.234 4103.54,769.109 4104.21,764.984 4104.9,760.859 4105.61,756.734 \n",
       "  4106.34,752.609 4107.09,748.484 4107.87,744.359 4108.66,740.235 4109.48,736.11 4110.33,731.985 4111.2,727.86 4112.09,723.735 4113.01,719.61 4113.96,715.485 \n",
       "  4114.94,711.36 4115.95,707.235 4116.99,703.11 4118.07,698.985 4119.18,694.86 4120.32,690.735 4121.51,686.61 4122.73,682.485 4124,678.36 4125.31,674.235 \n",
       "  4126.67,670.11 4128.09,665.986 4129.55,661.861 4131.07,657.736 4132.59,653.775 4132.65,653.611 4134,649.486 4135.38,645.361 4136.77,641.236 4138.19,637.111 \n",
       "  4139.64,632.986 4141.11,628.861 4142.61,624.736 4144.14,620.611 4145.71,616.486 4147.31,612.361 4148.95,608.236 4150.63,604.111 4152.36,599.986 4154.13,595.862 \n",
       "  4155.96,591.737 4157.85,587.612 4159.8,583.487 4161.81,579.362 4163.9,575.237 4166.07,571.112 4167.63,568.224 4168.26,566.987 4170.37,562.862 4172.49,558.737 \n",
       "  4174.64,554.612 4176.81,550.487 4179.02,546.362 4181.26,542.237 4183.55,538.112 4185.88,533.987 4188.26,529.862 4190.71,525.737 4193.21,521.613 4195.79,517.488 \n",
       "  4198.45,513.363 4201.2,509.238 4202.67,507.081 4204.05,505.113 4206.92,500.988 4209.81,496.863 4212.73,492.738 4215.67,488.613 4218.65,484.488 4221.67,480.363 \n",
       "  4224.75,476.238 4227.88,472.113 4231.09,467.988 4234.37,463.863 4237.72,459.771 4237.75,459.738 4241.49,455.613 4245.24,451.489 4248.99,447.364 4252.76,443.239 \n",
       "  4256.56,439.114 4260.39,434.989 4264.26,430.864 4268.19,426.739 4272.19,422.614 4272.76,422.035 \n",
       "  \"/>\n",
       "<polyline clip-path=\"url(#clip994)\" style=\"stroke:#8f0070; stroke-linecap:butt; stroke-linejoin:round; stroke-width:4; stroke-opacity:1; fill:none\" points=\"\n",
       "  4272.76,442.062 4271.64,443.239 4267.74,447.364 4263.88,451.489 4260.05,455.613 4256.24,459.738 4252.44,463.863 4248.65,467.988 4244.85,472.113 4241.04,476.238 \n",
       "  4237.72,479.818 4237.29,480.363 4234.09,484.488 4230.95,488.613 4227.87,492.738 4224.84,496.863 4221.85,500.988 4218.89,505.113 4215.96,509.238 4213.05,513.363 \n",
       "  4210.15,517.488 4207.27,521.613 4204.38,525.737 4202.67,528.181 4201.61,529.862 4199.04,533.987 4196.54,538.112 4194.1,542.237 4191.72,546.362 4189.39,550.487 \n",
       "  4187.11,554.612 4184.86,558.737 4182.66,562.862 4180.48,566.987 4178.34,571.112 4176.21,575.237 4174.11,579.362 4172.03,583.487 4169.96,587.612 4167.9,591.737 \n",
       "  4167.63,592.266 4165.89,595.862 4163.94,599.986 4162.06,604.111 4160.24,608.236 4158.46,612.361 4156.74,616.486 4155.06,620.611 4153.43,624.736 4151.83,628.861 \n",
       "  4150.27,632.986 4148.75,637.111 4147.26,641.236 4145.79,645.361 4144.36,649.486 4142.95,653.611 4141.57,657.736 4140.21,661.861 4138.87,665.986 4137.56,670.11 \n",
       "  4136.26,674.235 4134.98,678.36 4133.72,682.485 4132.59,686.235 4132.47,686.61 4131.15,690.735 4129.88,694.86 4128.65,698.985 4127.47,703.11 4126.32,707.235 \n",
       "  4125.21,711.36 4124.14,715.485 4123.1,719.61 4122.09,723.735 4121.12,727.86 4120.18,731.985 4119.26,736.11 4118.38,740.235 4117.52,744.359 4116.68,748.484 \n",
       "  4115.88,752.609 4115.09,756.734 4114.33,760.859 4113.6,764.984 4112.89,769.109 4112.19,773.234 4111.52,777.359 4110.87,781.484 4110.24,785.609 4109.64,789.734 \n",
       "  4109.05,793.859 4108.48,797.984 4107.92,802.109 4107.39,806.234 4106.88,810.359 4106.38,814.483 4105.9,818.608 4105.44,822.733 4104.99,826.858 4104.57,830.983 \n",
       "  4104.15,835.108 4103.76,839.233 4103.38,843.358 4103.02,847.483 4102.67,851.608 4102.34,855.733 4102.03,859.858 4101.73,863.983 4101.44,868.108 4101.17,872.233 \n",
       "  4100.92,876.358 4100.68,880.483 4100.45,884.608 4100.24,888.732 4100.04,892.857 4099.86,896.982 4099.68,901.107 4099.53,905.232 4099.38,909.357 4099.25,913.482 \n",
       "  4099.13,917.607 4099.03,921.732 4098.94,925.857 4098.86,929.982 4098.79,934.107 4098.73,938.232 4098.68,942.357 4098.65,946.482 4098.62,950.607 4098.61,954.732 \n",
       "  4098.61,958.856 4098.61,962.981 4098.63,967.106 4098.66,971.231 4098.7,975.356 4098.74,979.481 4098.79,983.606 4098.86,987.731 4098.93,991.856 4099.01,995.981 \n",
       "  4099.1,1000.11 4099.19,1004.23 4099.29,1008.36 4099.4,1012.48 4099.52,1016.61 4099.64,1020.73 4099.77,1024.86 4099.9,1028.98 4100.04,1033.11 4100.18,1037.23 \n",
       "  4100.33,1041.36 4100.49,1045.48 4100.65,1049.61 4100.81,1053.73 4100.98,1057.86 4101.15,1061.98 4101.32,1066.11 4101.5,1070.23 4101.68,1074.35 4101.86,1078.48 \n",
       "  \n",
       "  \"/>\n",
       "<polyline clip-path=\"url(#clip994)\" style=\"stroke:#5f00a0; stroke-linecap:butt; stroke-linejoin:round; stroke-width:4; stroke-opacity:1; fill:none\" points=\"\n",
       "  4131.77,1078.48 4131.38,1074.35 4131,1070.23 4130.63,1066.11 4130.28,1061.98 4129.93,1057.86 4129.6,1053.73 4129.29,1049.61 4128.98,1045.48 4128.69,1041.36 \n",
       "  4128.41,1037.23 4128.14,1033.11 4127.88,1028.98 4127.63,1024.86 4127.4,1020.73 4127.18,1016.61 4126.97,1012.48 4126.77,1008.36 4126.59,1004.23 4126.41,1000.11 \n",
       "  4126.25,995.981 4126.11,991.856 4125.97,987.731 4125.85,983.606 4125.74,979.481 4125.64,975.356 4125.56,971.231 4125.49,967.106 4125.43,962.981 4125.38,958.856 \n",
       "  4125.35,954.732 4125.33,950.607 4125.33,946.482 4125.34,942.357 4125.36,938.232 4125.4,934.107 4125.45,929.982 4125.52,925.857 4125.6,921.732 4125.69,917.607 \n",
       "  4125.8,913.482 4125.93,909.357 4126.07,905.232 4126.22,901.107 4126.39,896.982 4126.58,892.857 4126.78,888.732 4127,884.608 4127.24,880.483 4127.49,876.358 \n",
       "  4127.76,872.233 4128.04,868.108 4128.35,863.983 4128.67,859.858 4129.01,855.733 4129.37,851.608 4129.74,847.483 4130.14,843.358 4130.55,839.233 4130.98,835.108 \n",
       "  4131.44,830.983 4131.91,826.858 4132.4,822.733 4132.59,821.212 4132.98,818.608 4133.62,814.483 4134.28,810.359 4134.96,806.234 4135.66,802.109 4136.37,797.984 \n",
       "  4137.11,793.859 4137.86,789.734 4138.63,785.609 4139.42,781.484 4140.23,777.359 4141.05,773.234 4141.89,769.109 4142.75,764.984 4143.63,760.859 4144.52,756.734 \n",
       "  4145.44,752.609 4146.37,748.484 4147.31,744.359 4148.28,740.235 4149.27,736.11 4150.27,731.985 4151.3,727.86 4152.34,723.735 4153.4,719.61 4154.49,715.485 \n",
       "  4155.59,711.36 4156.72,707.235 4157.87,703.11 4159.05,698.985 4160.25,694.86 4161.47,690.735 4162.72,686.61 4164,682.485 4165.31,678.36 4166.65,674.235 \n",
       "  4167.63,671.282 4168.15,670.11 4169.96,665.986 4171.77,661.861 4173.59,657.736 4175.41,653.611 4177.23,649.486 4179.05,645.361 4180.88,641.236 4182.72,637.111 \n",
       "  4184.56,632.986 4186.42,628.861 4188.29,624.736 4190.17,620.611 4192.07,616.486 4193.99,612.361 4195.93,608.236 4197.89,604.111 4199.88,599.986 4201.9,595.862 \n",
       "  4202.67,594.299 4204.42,591.737 4207.23,587.612 4210.01,583.487 4212.76,579.362 4215.5,575.237 4218.23,571.112 4220.94,566.987 4223.65,562.862 4226.35,558.737 \n",
       "  4229.05,554.612 4231.76,550.487 4234.48,546.362 4237.22,542.237 4237.72,541.499 4240.98,538.112 4244.91,533.987 4248.77,529.862 4252.57,525.737 4256.33,521.613 \n",
       "  4260.05,517.488 4263.73,513.363 4267.38,509.238 4271.02,505.113 4272.76,503.137 \n",
       "  \"/>\n",
       "<polyline clip-path=\"url(#clip994)\" style=\"stroke:#6f0090; stroke-linecap:butt; stroke-linejoin:round; stroke-width:4; stroke-opacity:1; fill:none\" points=\"\n",
       "  4272.76,482.02 4270.52,484.488 4266.8,488.613 4263.07,492.738 4259.33,496.863 4255.57,500.988 4251.78,505.113 4247.96,509.238 4244.1,513.363 4240.19,517.488 \n",
       "  4237.72,520.072 4236.62,521.613 4233.74,525.737 4230.88,529.862 4228.04,533.987 4225.22,538.112 4222.41,542.237 4219.6,546.362 4216.8,550.487 4214,554.612 \n",
       "  4211.18,558.737 4208.36,562.862 4205.52,566.987 4202.67,571.083 4202.66,571.112 4200.44,575.237 4198.26,579.362 4196.12,583.487 4194.01,587.612 4191.93,591.737 \n",
       "  4189.88,595.862 4187.85,599.986 4185.85,604.111 4183.86,608.236 4181.89,612.361 4179.93,616.486 4177.98,620.611 4176.04,624.736 4174.11,628.861 4172.18,632.986 \n",
       "  4170.26,637.111 4168.34,641.236 4167.63,642.751 4166.63,645.361 4165.08,649.486 4163.57,653.611 4162.09,657.736 4160.65,661.861 4159.24,665.986 4157.87,670.11 \n",
       "  4156.52,674.235 4155.2,678.36 4153.91,682.485 4152.64,686.61 4151.4,690.735 4150.18,694.86 4148.98,698.985 4147.8,703.11 4146.65,707.235 4145.51,711.36 \n",
       "  4144.39,715.485 4143.29,719.61 4142.21,723.735 4141.15,727.86 4140.11,731.985 4139.08,736.11 4138.07,740.235 4137.08,744.359 4136.1,748.484 4135.14,752.609 \n",
       "  4134.2,756.734 4133.27,760.859 4132.59,763.936 4132.38,764.984 4131.58,769.109 4130.81,773.234 4130.07,777.359 4129.35,781.484 4128.65,785.609 4127.98,789.734 \n",
       "  4127.33,793.859 4126.71,797.984 4126.11,802.109 4125.53,806.234 4124.97,810.359 4124.43,814.483 4123.91,818.608 4123.41,822.733 4122.94,826.858 4122.48,830.983 \n",
       "  4122.04,835.108 4121.62,839.233 4121.22,843.358 4120.83,847.483 4120.47,851.608 4120.12,855.733 4119.79,859.858 4119.47,863.983 4119.18,868.108 4118.9,872.233 \n",
       "  4118.63,876.358 4118.38,880.483 4118.15,884.608 4117.93,888.732 4117.73,892.857 4117.55,896.982 4117.38,901.107 4117.22,905.232 4117.08,909.357 4116.95,913.482 \n",
       "  4116.84,917.607 4116.74,921.732 4116.66,925.857 4116.59,929.982 4116.53,934.107 4116.48,938.232 4116.45,942.357 4116.44,946.482 4116.43,950.607 4116.44,954.732 \n",
       "  4116.46,958.856 4116.49,962.981 4116.54,967.106 4116.59,971.231 4116.66,975.356 4116.74,979.481 4116.83,983.606 4116.93,987.731 4117.05,991.856 4117.17,995.981 \n",
       "  4117.31,1000.11 4117.45,1004.23 4117.61,1008.36 4117.78,1012.48 4117.96,1016.61 4118.15,1020.73 4118.34,1024.86 4118.55,1028.98 4118.77,1033.11 4119,1037.23 \n",
       "  4119.24,1041.36 4119.48,1045.48 4119.74,1049.61 4120.01,1053.73 4120.28,1057.86 4120.57,1061.98 4120.86,1066.11 4121.17,1070.23 4121.48,1074.35 4121.8,1078.48 \n",
       "  \n",
       "  \"/>\n",
       "<polyline clip-path=\"url(#clip994)\" style=\"stroke:#7f0080; stroke-linecap:butt; stroke-linejoin:round; stroke-width:4; stroke-opacity:1; fill:none\" points=\"\n",
       "  4111.83,1078.48 4111.58,1074.35 4111.33,1070.23 4111.09,1066.11 4110.86,1061.98 4110.63,1057.86 4110.41,1053.73 4110.19,1049.61 4109.99,1045.48 4109.78,1041.36 \n",
       "  4109.59,1037.23 4109.4,1033.11 4109.23,1028.98 4109.05,1024.86 4108.89,1020.73 4108.74,1016.61 4108.59,1012.48 4108.45,1008.36 4108.32,1004.23 4108.2,1000.11 \n",
       "  4108.09,995.981 4107.99,991.856 4107.9,987.731 4107.81,983.606 4107.74,979.481 4107.68,975.356 4107.63,971.231 4107.58,967.106 4107.55,962.981 4107.53,958.856 \n",
       "  4107.52,954.732 4107.53,950.607 4107.54,946.482 4107.57,942.357 4107.61,938.232 4107.66,934.107 4107.72,929.982 4107.8,925.857 4107.88,921.732 4107.99,917.607 \n",
       "  4108.1,913.482 4108.23,909.357 4108.37,905.232 4108.53,901.107 4108.7,896.982 4108.89,892.857 4109.09,888.732 4109.3,884.608 4109.53,880.483 4109.77,876.358 \n",
       "  4110.03,872.233 4110.31,868.108 4110.6,863.983 4110.91,859.858 4111.23,855.733 4111.57,851.608 4111.93,847.483 4112.3,843.358 4112.69,839.233 4113.1,835.108 \n",
       "  4113.52,830.983 4113.97,826.858 4114.43,822.733 4114.91,818.608 4115.4,814.483 4115.92,810.359 4116.46,806.234 4117.02,802.109 4117.59,797.984 4118.19,793.859 \n",
       "  4118.81,789.734 4119.45,785.609 4120.11,781.484 4120.79,777.359 4121.5,773.234 4122.23,769.109 4122.99,764.984 4123.77,760.859 4124.58,756.734 4125.41,752.609 \n",
       "  4126.28,748.484 4127.17,744.359 4128.09,740.235 4129.04,736.11 4130.03,731.985 4131.04,727.86 4132.1,723.735 4132.59,721.842 4133.19,719.61 4134.3,715.485 \n",
       "  4135.43,711.36 4136.57,707.235 4137.73,703.11 4138.91,698.985 4140.11,694.86 4141.33,690.735 4142.56,686.61 4143.82,682.485 4145.09,678.36 4146.39,674.235 \n",
       "  4147.71,670.11 4149.06,665.986 4150.43,661.861 4151.83,657.736 4153.26,653.611 4154.72,649.486 4156.21,645.361 4157.74,641.236 4159.3,637.111 4160.91,632.986 \n",
       "  4162.55,628.861 4164.24,624.736 4165.98,620.611 4167.63,616.8 4167.78,616.486 4169.79,612.361 4171.79,608.236 4173.8,604.111 4175.83,599.986 4177.86,595.862 \n",
       "  4179.91,591.737 4181.98,587.612 4184.07,583.487 4186.18,579.362 4188.33,575.237 4190.5,571.112 4192.7,566.987 4194.95,562.862 4197.24,558.737 4199.58,554.612 \n",
       "  4201.97,550.487 4202.67,549.296 4204.72,546.362 4207.6,542.237 4210.46,538.112 4213.32,533.987 4216.19,529.862 4219.06,525.737 4221.95,521.613 4224.85,517.488 \n",
       "  4227.78,513.363 4230.74,509.238 4233.73,505.113 4236.77,500.988 4237.72,499.722 4240.42,496.863 4244.29,492.738 4248.12,488.613 4251.93,484.488 4255.73,480.363 \n",
       "  4259.51,476.238 4263.3,472.113 4267.09,467.988 4270.9,463.863 4272.76,461.864 \n",
       "  \"/>\n",
       "<polyline clip-path=\"url(#clip994)\" style=\"stroke:#4f00b0; stroke-linecap:butt; stroke-linejoin:round; stroke-width:4; stroke-opacity:1; fill:none\" points=\"\n",
       "  4272.76,525.975 4269.44,529.862 4265.9,533.987 4262.31,538.112 4258.68,542.237 4254.99,546.362 4251.25,550.487 4247.45,554.612 4243.57,558.737 4239.62,562.862 \n",
       "  4237.72,564.828 4236.36,566.987 4233.8,571.112 4231.24,575.237 4228.67,579.362 4226.1,583.487 4223.53,587.612 4220.94,591.737 4218.33,595.862 4215.71,599.986 \n",
       "  4213.06,604.111 4210.39,608.236 4207.69,612.361 4204.97,616.486 4202.67,619.92 4202.36,620.611 4200.54,624.736 4198.73,628.861 4196.95,632.986 4195.18,637.111 \n",
       "  4193.43,641.236 4191.69,645.361 4189.96,649.486 4188.24,653.611 4186.54,657.736 4184.84,661.861 4183.15,665.986 4181.46,670.11 4179.78,674.235 4178.1,678.36 \n",
       "  4176.43,682.485 4174.76,686.61 4173.09,690.735 4171.42,694.86 4169.75,698.985 4168.08,703.11 4167.63,704.226 4166.8,707.235 4165.68,711.36 4164.58,715.485 \n",
       "  4163.51,719.61 4162.47,723.735 4161.44,727.86 4160.44,731.985 4159.46,736.11 4158.49,740.235 4157.55,744.359 4156.63,748.484 4155.73,752.609 4154.85,756.734 \n",
       "  4153.98,760.859 4153.14,764.984 4152.31,769.109 4151.51,773.234 4150.72,777.359 4149.95,781.484 4149.19,785.609 4148.46,789.734 4147.74,793.859 4147.04,797.984 \n",
       "  4146.36,802.109 4145.7,806.234 4145.06,810.359 4144.43,814.483 4143.82,818.608 4143.24,822.733 4142.67,826.858 4142.12,830.983 4141.58,835.108 4141.07,839.233 \n",
       "  4140.58,843.358 4140.1,847.483 4139.65,851.608 4139.21,855.733 4138.8,859.858 4138.4,863.983 4138.03,868.108 4137.67,872.233 4137.33,876.358 4137.02,880.483 \n",
       "  4136.72,884.608 4136.45,888.732 4136.19,892.857 4135.95,896.982 4135.74,901.107 4135.54,905.232 4135.36,909.357 4135.21,913.482 4135.07,917.607 4134.95,921.732 \n",
       "  4134.85,925.857 4134.77,929.982 4134.71,934.107 4134.67,938.232 4134.64,942.357 4134.64,946.482 4134.65,950.607 4134.68,954.732 4134.72,958.856 4134.79,962.981 \n",
       "  4134.87,967.106 4134.96,971.231 4135.08,975.356 4135.2,979.481 4135.35,983.606 4135.51,987.731 4135.68,991.856 4135.86,995.981 4136.06,1000.11 4136.28,1004.23 \n",
       "  4136.5,1008.36 4136.74,1012.48 4136.99,1016.61 4137.25,1020.73 4137.52,1024.86 4137.81,1028.98 4138.1,1033.11 4138.4,1037.23 4138.72,1041.36 4139.04,1045.48 \n",
       "  4139.37,1049.61 4139.71,1053.73 4140.06,1057.86 4140.41,1061.98 4140.77,1066.11 4141.14,1070.23 4141.52,1074.35 4141.9,1078.48 \n",
       "  \"/>\n",
       "<polyline clip-path=\"url(#clip994)\" style=\"stroke:#2f00d0; stroke-linecap:butt; stroke-linejoin:round; stroke-width:4; stroke-opacity:1; fill:none\" points=\"\n",
       "  4162.2,1078.48 4161.87,1074.35 4161.56,1070.23 4161.25,1066.11 4160.94,1061.98 4160.65,1057.86 4160.37,1053.73 4160.1,1049.61 4159.84,1045.48 4159.59,1041.36 \n",
       "  4159.34,1037.23 4159.11,1033.11 4158.89,1028.98 4158.68,1024.86 4158.48,1020.73 4158.29,1016.61 4158.11,1012.48 4157.95,1008.36 4157.79,1004.23 4157.65,1000.11 \n",
       "  4157.52,995.981 4157.4,991.856 4157.29,987.731 4157.19,983.606 4157.11,979.481 4157.04,975.356 4156.99,971.231 4156.94,967.106 4156.91,962.981 4156.9,958.856 \n",
       "  4156.89,954.732 4156.91,950.607 4156.93,946.482 4156.97,942.357 4157.03,938.232 4157.1,934.107 4157.18,929.982 4157.28,925.857 4157.4,921.732 4157.53,917.607 \n",
       "  4157.68,913.482 4157.84,909.357 4158.02,905.232 4158.21,901.107 4158.42,896.982 4158.64,892.857 4158.89,888.732 4159.14,884.608 4159.42,880.483 4159.71,876.358 \n",
       "  4160.01,872.233 4160.34,868.108 4160.68,863.983 4161.03,859.858 4161.4,855.733 4161.79,851.608 4162.2,847.483 4162.62,843.358 4163.06,839.233 4163.51,835.108 \n",
       "  4163.99,830.983 4164.47,826.858 4164.98,822.733 4165.5,818.608 4166.04,814.483 4166.6,810.359 4167.18,806.234 4167.63,803.051 4167.88,802.109 4168.98,797.984 \n",
       "  4170.1,793.859 4171.23,789.734 4172.38,785.609 4173.53,781.484 4174.7,777.359 4175.87,773.234 4177.06,769.109 4178.26,764.984 4179.46,760.859 4180.67,756.734 \n",
       "  4181.89,752.609 4183.12,748.484 4184.36,744.359 4185.6,740.235 4186.86,736.11 4188.12,731.985 4189.38,727.86 4190.66,723.735 4191.94,719.61 4193.23,715.485 \n",
       "  4194.53,711.36 4195.84,707.235 4197.16,703.11 4198.48,698.985 4199.82,694.86 4201.17,690.735 4202.52,686.61 4202.67,686.165 4204.89,682.485 4207.34,678.36 \n",
       "  4209.76,674.235 4212.15,670.11 4214.51,665.986 4216.84,661.861 4219.15,657.736 4221.43,653.611 4223.69,649.486 4225.92,645.361 4228.14,641.236 4230.33,637.111 \n",
       "  4232.52,632.986 4234.69,628.861 4236.84,624.736 4237.72,623.076 4240.05,620.611 4243.9,616.486 4247.66,612.361 4251.34,608.236 4254.93,604.111 4258.44,599.986 \n",
       "  4261.88,595.862 4265.24,591.737 4268.55,587.612 4271.8,583.487 4272.76,582.265 \n",
       "  \"/>\n",
       "<polyline clip-path=\"url(#clip994)\" style=\"stroke:#3f00c0; stroke-linecap:butt; stroke-linejoin:round; stroke-width:4; stroke-opacity:1; fill:none\" points=\"\n",
       "  4272.76,551.692 4270.35,554.612 4266.93,558.737 4263.46,562.862 4259.93,566.987 4256.34,571.112 4252.68,575.237 4248.95,579.362 4245.14,583.487 4241.25,587.612 \n",
       "  4237.72,591.276 4237.45,591.737 4235.07,595.862 4232.69,599.986 4230.3,604.111 4227.89,608.236 4225.48,612.361 4223.05,616.486 4220.6,620.611 4218.12,624.736 \n",
       "  4215.63,628.861 4213.11,632.986 4210.55,637.111 4207.97,641.236 4205.36,645.361 4202.71,649.486 4202.67,649.537 4201.08,653.611 4199.49,657.736 4197.9,661.861 \n",
       "  4196.33,665.986 4194.78,670.11 4193.23,674.235 4191.69,678.36 4190.16,682.485 4188.64,686.61 4187.13,690.735 4185.62,694.86 4184.12,698.985 4182.62,703.11 \n",
       "  4181.13,707.235 4179.64,711.36 4178.16,715.485 4176.68,719.61 4175.2,723.735 4173.73,727.86 4172.26,731.985 4170.8,736.11 4169.34,740.235 4167.89,744.359 \n",
       "  4167.63,745.091 4166.9,748.484 4166.03,752.609 4165.17,756.734 4164.34,760.859 4163.53,764.984 4162.74,769.109 4161.96,773.234 4161.21,777.359 4160.47,781.484 \n",
       "  4159.75,785.609 4159.05,789.734 4158.37,793.859 4157.71,797.984 4157.07,802.109 4156.44,806.234 4155.83,810.359 4155.24,814.483 4154.66,818.608 4154.11,822.733 \n",
       "  4153.57,826.858 4153.05,830.983 4152.55,835.108 4152.06,839.233 4151.6,843.358 4151.15,847.483 4150.72,851.608 4150.31,855.733 4149.91,859.858 4149.54,863.983 \n",
       "  4149.18,868.108 4148.84,872.233 4148.52,876.358 4148.22,880.483 4147.93,884.608 4147.67,888.732 4147.42,892.857 4147.19,896.982 4146.97,901.107 4146.78,905.232 \n",
       "  4146.6,909.357 4146.44,913.482 4146.3,917.607 4146.17,921.732 4146.07,925.857 4145.98,929.982 4145.9,934.107 4145.85,938.232 4145.81,942.357 4145.78,946.482 \n",
       "  4145.78,950.607 4145.79,954.732 4145.81,958.856 4145.85,962.981 4145.91,967.106 4145.97,971.231 4146.06,975.356 4146.16,979.481 4146.27,983.606 4146.4,987.731 \n",
       "  4146.54,991.856 4146.69,995.981 4146.86,1000.11 4147.03,1004.23 4147.22,1008.36 4147.43,1012.48 4147.64,1016.61 4147.87,1020.73 4148.1,1024.86 4148.35,1028.98 \n",
       "  4148.61,1033.11 4148.87,1037.23 4149.15,1041.36 4149.44,1045.48 4149.73,1049.61 4150.04,1053.73 4150.35,1057.86 4150.68,1061.98 4151.01,1066.11 4151.35,1070.23 \n",
       "  4151.7,1074.35 4152.05,1078.48 \n",
       "  \"/>\n",
       "<polyline clip-path=\"url(#clip994)\" style=\"stroke:#0f00f0; stroke-linecap:butt; stroke-linejoin:round; stroke-width:4; stroke-opacity:1; fill:none\" points=\"\n",
       "  4195.63,1078.48 4195.37,1074.35 4195.12,1070.23 4194.87,1066.11 4194.64,1061.98 4194.41,1057.86 4194.19,1053.73 4193.98,1049.61 4193.78,1045.48 4193.59,1041.36 \n",
       "  4193.41,1037.23 4193.24,1033.11 4193.08,1028.98 4192.93,1024.86 4192.79,1020.73 4192.67,1016.61 4192.55,1012.48 4192.46,1008.36 4192.37,1004.23 4192.3,1000.11 \n",
       "  4192.24,995.981 4192.19,991.856 4192.16,987.731 4192.14,983.606 4192.14,979.481 4192.16,975.356 4192.19,971.231 4192.23,967.106 4192.29,962.981 4192.37,958.856 \n",
       "  4192.46,954.732 4192.57,950.607 4192.7,946.482 4192.84,942.357 4193,938.232 4193.18,934.107 4193.37,929.982 4193.58,925.857 4193.81,921.732 4194.05,917.607 \n",
       "  4194.31,913.482 4194.59,909.357 4194.88,905.232 4195.19,901.107 4195.52,896.982 4195.86,892.857 4196.22,888.732 4196.59,884.608 4196.98,880.483 4197.38,876.358 \n",
       "  4197.8,872.233 4198.24,868.108 4198.69,863.983 4199.15,859.858 4199.63,855.733 4200.12,851.608 4200.62,847.483 4201.14,843.358 4201.67,839.233 4202.22,835.108 \n",
       "  4202.67,831.763 4202.95,830.983 4204.44,826.858 4205.93,822.733 4207.42,818.608 4208.92,814.483 4210.42,810.359 4211.91,806.234 4213.41,802.109 4214.91,797.984 \n",
       "  4216.4,793.859 4217.89,789.734 4219.38,785.609 4220.86,781.484 4222.34,777.359 4223.81,773.234 4225.27,769.109 4226.73,764.984 4228.18,760.859 4229.63,756.734 \n",
       "  4231.07,752.609 4232.5,748.484 4233.93,744.359 4235.34,740.235 4236.76,736.11 4237.72,733.315 4238.78,731.985 4242.09,727.86 4245.33,723.735 4248.49,719.61 \n",
       "  4251.57,715.485 4254.59,711.36 4257.54,707.235 4260.42,703.11 4263.23,698.985 4265.99,694.86 4268.68,690.735 4271.32,686.61 4272.76,684.349 \n",
       "  \"/>\n",
       "<polyline clip-path=\"url(#clip994)\" style=\"stroke:#1f00e0; stroke-linecap:butt; stroke-linejoin:round; stroke-width:4; stroke-opacity:1; fill:none\" points=\"\n",
       "  4272.76,622.015 4270.77,624.736 4267.72,628.861 4264.61,632.986 4261.43,637.111 4258.17,641.236 4254.84,645.361 4251.42,649.486 4247.92,653.611 4244.34,657.736 \n",
       "  4240.66,661.861 4237.72,665.097 4237.31,665.986 4235.44,670.11 4233.57,674.235 4231.68,678.36 4229.77,682.485 4227.84,686.61 4225.9,690.735 4223.94,694.86 \n",
       "  4221.97,698.985 4219.97,703.11 4217.95,707.235 4215.9,711.36 4213.84,715.485 4211.75,719.61 4209.64,723.735 4207.51,727.86 4205.35,731.985 4203.17,736.11 \n",
       "  4202.67,737.058 4201.87,740.235 4200.83,744.359 4199.81,748.484 4198.79,752.609 4197.79,756.734 4196.79,760.859 4195.81,764.984 4194.84,769.109 4193.88,773.234 \n",
       "  4192.92,777.359 4191.98,781.484 4191.06,785.609 4190.14,789.734 4189.23,793.859 4188.34,797.984 4187.46,802.109 4186.59,806.234 4185.74,810.359 4184.9,814.483 \n",
       "  4184.07,818.608 4183.26,822.733 4182.47,826.858 4181.69,830.983 4180.93,835.108 4180.18,839.233 4179.45,843.358 4178.75,847.483 4178.06,851.608 4177.39,855.733 \n",
       "  4176.74,859.858 4176.11,863.983 4175.5,868.108 4174.91,872.233 4174.35,876.358 4173.81,880.483 4173.29,884.608 4172.8,888.732 4172.33,892.857 4171.88,896.982 \n",
       "  4171.46,901.107 4171.07,905.232 4170.7,909.357 4170.36,913.482 4170.05,917.607 4169.76,921.732 4169.5,925.857 4169.27,929.982 4169.06,934.107 4168.88,938.232 \n",
       "  4168.73,942.357 4168.6,946.482 4168.5,950.607 4168.43,954.732 4168.39,958.856 4168.37,962.981 4168.38,967.106 4168.42,971.231 4168.48,975.356 4168.56,979.481 \n",
       "  4168.67,983.606 4168.81,987.731 4168.96,991.856 4169.15,995.981 4169.35,1000.11 4169.57,1004.23 4169.82,1008.36 4170.09,1012.48 4170.37,1016.61 4170.68,1020.73 \n",
       "  4171,1024.86 4171.35,1028.98 4171.7,1033.11 4172.08,1037.23 4172.47,1041.36 4172.87,1045.48 4173.29,1049.61 4173.72,1053.73 4174.16,1057.86 4174.61,1061.98 \n",
       "  4175.08,1066.11 4175.55,1070.23 4176.03,1074.35 4176.52,1078.48 \n",
       "  \"/>\n",
       "<polyline clip-path=\"url(#clip994)\" style=\"stroke:#af0050; stroke-linecap:butt; stroke-linejoin:round; stroke-width:4; stroke-opacity:1; fill:none\" points=\"\n",
       "  3396.73,412.265 3397.76,410.239 3399.83,406.114 3401.87,401.989 3403.9,397.864 3405.91,393.739 3407.9,389.614 3409.9,385.489 3411.88,381.364 3413.87,377.24 \n",
       "  3415.86,373.115 3417.86,368.99 3419.87,364.865 3421.9,360.74 3423.95,356.615 3426.02,352.49 3428.12,348.365 3430.26,344.24 3431.78,341.349 3432.49,340.115 \n",
       "  3434.86,335.99 3437.21,331.865 3439.53,327.74 3441.83,323.615 3444.12,319.49 3446.39,315.365 3448.66,311.24 3450.92,307.116 3453.19,302.991 3455.46,298.866 \n",
       "  3457.74,294.741 3460.04,290.616 3462.35,286.491 3464.69,282.366 3466.82,278.658 3467.11,278.241 3469.96,274.116 3472.77,269.991 3475.55,265.866 3478.31,261.741 \n",
       "  3481.03,257.616 3483.74,253.491 3486.43,249.366 3489.12,245.241 3491.8,241.116 3494.47,236.991 3497.16,232.867 3499.85,228.742 3501.86,225.682 3502.81,224.617 \n",
       "  3506.46,220.492 3510.05,216.367 3513.58,212.242 3517.07,208.117 3520.51,203.992 3523.91,199.867 3527.28,195.742 3530.63,191.617 3533.96,187.492 3536.9,183.837 \n",
       "  3537.51,183.367 3542.78,179.242 3547.92,175.117 3552.92,170.992 3557.81,166.867 3562.6,162.742 3567.29,158.618 3571.91,154.493 3571.94,154.465 3581.83,150.368 \n",
       "  3591.25,146.243 3600.18,142.118 3606.98,138.834 3642.02,137.996 3653,142.118 3663.27,146.243 3672.88,150.368 3677.06,152.247 3680.18,154.493 3685.78,158.618 \n",
       "  3691.21,162.742 3696.49,166.867 3701.62,170.992 3706.63,175.117 3711.5,179.242 3712.1,179.757 3715.87,183.367 3720.13,187.492 3724.32,191.617 3728.47,195.742 \n",
       "  3732.58,199.867 3736.64,203.992 3740.67,208.117 3744.67,212.242 3747.14,214.8 3748.75,216.367 3752.99,220.492 3757.23,224.617 3761.48,228.742 3765.75,232.867 \n",
       "  3770.03,236.991 3774.32,241.116 3778.65,245.241 3782.18,248.59 3783.2,249.366 3788.67,253.491 3794.23,257.616 3799.88,261.741 3805.65,265.866 3811.52,269.991 \n",
       "  3817.22,273.909 3817.71,274.116 3827.64,278.241 3838.04,282.366 3848.94,286.491 3852.27,287.707 3887.31,289.739 3899.52,286.491 3916.23,282.366 3922.35,280.94 \n",
       "  3927.22,278.241 3934.87,274.116 3942.83,269.991 3951.12,265.866 3957.39,262.868 3958.84,261.741 3964.22,257.616 3969.7,253.491 3975.3,249.366 3981.06,245.241 \n",
       "  3986.99,241.116 3992.43,237.445 3992.92,236.991 3997.43,232.867 4001.95,228.742 4006.52,224.617 4011.15,220.492 4015.86,216.367 4020.67,212.242 4025.59,208.117 \n",
       "  4027.47,206.574 4030.07,203.992 4034.17,199.867 4038.25,195.742 4042.32,191.617 4046.4,187.492 4050.52,183.367 4054.69,179.242 4058.94,175.117 4062.51,171.711 \n",
       "  4063.21,170.992 4067.17,166.867 4071.03,162.742 4074.81,158.618 4078.54,154.493 4082.25,150.368 4085.96,146.243 4089.69,142.118 4093.46,137.993 4097.27,133.868 \n",
       "  4097.55,133.571 4101.19,129.743 4104.93,125.618 4108.53,121.493 4112.01,117.368 4115.42,113.243 4118.77,109.118 4122.1,104.993 4125.41,100.868 4128.73,96.7434 \n",
       "  4132.07,92.6185 4132.59,91.9852 4135.9,88.4935 4139.54,84.3686 4142.96,80.2436 4146.19,76.1187 4149.3,71.9938 4152.3,67.8688 4155.23,63.7439 4158.1,59.6189 \n",
       "  4160.94,55.494 4163.76,51.369 4166.58,47.2441 \n",
       "  \"/>\n",
       "<polyline clip-path=\"url(#clip994)\" style=\"stroke:#bf0040; stroke-linecap:butt; stroke-linejoin:round; stroke-width:4; stroke-opacity:1; fill:none\" points=\"\n",
       "  4142.14,47.2441 4139.15,51.369 4136.08,55.494 4132.93,59.6189 4132.59,60.0481 4129.4,63.7439 4125.91,67.8688 4122.47,71.9938 4119.08,76.1187 4115.72,80.2436 \n",
       "  4112.38,84.3686 4109.05,88.4935 4105.71,92.6185 4102.34,96.7434 4098.94,100.868 4097.55,102.52 4095.08,104.993 4091.03,109.118 4087.08,113.243 4083.21,117.368 \n",
       "  4079.4,121.493 4075.65,125.618 4071.94,129.743 4068.25,133.868 4064.57,137.993 4062.51,140.293 4060.41,142.118 4055.77,146.243 4051.26,150.368 4046.88,154.493 \n",
       "  4042.6,158.618 4038.41,162.742 4034.3,166.867 4030.25,170.992 4027.47,173.838 4025.74,175.117 4020.27,179.242 4014.99,183.367 4009.89,187.492 4004.96,191.617 \n",
       "  4000.16,195.742 3995.48,199.867 3992.43,202.6 3990.03,203.992 3983.13,208.117 3976.52,212.242 3970.2,216.367 3964.12,220.492 3958.27,224.617 3957.39,225.247 \n",
       "  3948.34,228.742 3938.27,232.867 3928.82,236.991 3922.35,239.96 3913.42,241.116 3887.31,244.854 3866.32,241.116 3852.27,238.373 3849.47,236.991 3841.33,232.867 \n",
       "  3833.44,228.742 3825.78,224.617 3818.33,220.492 3817.22,219.865 3812.9,216.367 3807.85,212.242 3802.86,208.117 3797.91,203.992 3793,199.867 3788.13,195.742 \n",
       "  3783.28,191.617 3782.18,190.679 3779.03,187.492 3774.94,183.367 3770.84,179.242 3766.73,175.117 3762.59,170.992 3758.42,166.867 3754.23,162.742 3750,158.618 \n",
       "  3747.14,155.857 3745.76,154.493 3741.54,150.368 3737.25,146.243 3732.88,142.118 3728.42,137.993 3723.87,133.868 3719.22,129.743 3714.47,125.618 3712.1,123.601 \n",
       "  3709.11,121.493 3703.09,117.368 3696.83,113.243 3690.31,109.118 3683.52,104.993 3677.06,101.225 3675.79,100.868 3660.24,96.7434 3642.93,92.6185 3642.02,92.4145 \n",
       "  3640.86,92.6185 3615.51,96.7434 3606.98,97.9979 3602.15,100.868 3595.03,104.993 3587.69,109.118 3580.08,113.243 3572.2,117.368 3571.94,117.501 3567.79,121.493 \n",
       "  3563.47,125.618 3559.12,129.743 3554.71,133.868 3550.26,137.993 3545.73,142.118 3541.13,146.243 3536.9,149.973 3536.59,150.368 3533.34,154.493 3530.11,158.618 \n",
       "  3526.88,162.742 3523.66,166.867 3520.44,170.992 3517.2,175.117 3513.95,179.242 3510.68,183.367 3507.39,187.492 3504.05,191.617 3501.86,194.307 3500.91,195.742 \n",
       "  3498.2,199.867 3495.52,203.992 3492.87,208.117 3490.24,212.242 3487.63,216.367 3485.04,220.492 3482.45,224.617 3479.86,228.742 3477.27,232.867 3474.67,236.991 \n",
       "  3472.06,241.116 3469.43,245.241 3466.82,249.312 3466.78,249.366 3464.36,253.491 3461.98,257.616 3459.65,261.741 3457.35,265.866 3455.08,269.991 3452.84,274.116 \n",
       "  3450.62,278.241 3448.41,282.366 3446.22,286.491 3444.04,290.616 3441.85,294.741 3439.67,298.866 3437.49,302.991 3435.29,307.116 3433.08,311.24 3431.78,313.663 \n",
       "  3430.84,315.365 3428.62,319.49 3426.45,323.615 3424.33,327.74 3422.25,331.865 3420.2,335.99 3418.19,340.115 3416.21,344.24 3414.25,348.365 3412.31,352.49 \n",
       "  3410.38,356.615 3408.47,360.74 3406.55,364.865 3404.65,368.99 3402.74,373.115 3400.82,377.24 3398.9,381.364 3396.96,385.489 3396.73,385.972 \n",
       "  \"/>\n",
       "<polyline clip-path=\"url(#clip994)\" style=\"stroke:#cf0030; stroke-linecap:butt; stroke-linejoin:round; stroke-width:4; stroke-opacity:1; fill:none\" points=\"\n",
       "  3396.73,356.802 3396.82,356.615 3398.6,352.49 3400.38,348.365 3402.17,344.24 3403.96,340.115 3405.76,335.99 3407.57,331.865 3409.41,327.74 3411.26,323.615 \n",
       "  3413.15,319.49 3415.06,315.365 3417.02,311.24 3419.01,307.116 3421.05,302.991 3423.15,298.866 3425.3,294.741 3427.53,290.616 3429.82,286.491 3431.78,283.083 \n",
       "  3432.13,282.366 3434.18,278.241 3436.22,274.116 3438.26,269.991 3440.31,265.866 3442.38,261.741 3444.46,257.616 3446.56,253.491 3448.68,249.366 3450.84,245.241 \n",
       "  3453.03,241.116 3455.26,236.991 3457.54,232.867 3459.87,228.742 3462.26,224.617 3464.71,220.492 3466.82,217.048 3467.22,216.367 3469.65,212.242 3472.08,208.117 \n",
       "  3474.51,203.992 3476.95,199.867 3479.4,195.742 3481.87,191.617 3484.35,187.492 3486.86,183.367 3489.41,179.242 3491.99,175.117 3494.62,170.992 3497.3,166.867 \n",
       "  3500.03,162.742 3501.86,160.03 3502.91,158.618 3505.96,154.493 3509,150.368 3512.04,146.243 3515.07,142.118 3518.12,137.993 3521.18,133.868 3524.25,129.743 \n",
       "  3527.36,125.618 3530.5,121.493 3533.68,117.368 3536.9,113.247 3536.9,113.243 3541.05,109.118 3545.16,104.993 3549.24,100.868 3553.29,96.7434 3557.34,92.6185 \n",
       "  3561.38,88.4935 3565.43,84.3686 3569.48,80.2436 3571.94,77.7502 3574.54,76.1187 3580.97,71.9938 3587.28,67.8688 3593.47,63.7439 3599.56,59.6189 3605.58,55.494 \n",
       "  3606.98,54.5196 3618.48,51.369 3632.63,47.2441 \n",
       "  \"/>\n",
       "<polyline clip-path=\"url(#clip994)\" style=\"stroke:#cf0030; stroke-linecap:butt; stroke-linejoin:round; stroke-width:4; stroke-opacity:1; fill:none\" points=\"\n",
       "  3672.31,47.2441 3677.06,47.7469 3685.39,51.369 3694.36,55.494 3702.82,59.6189 3710.82,63.7439 3712.1,64.4252 3716.86,67.8688 3722.38,71.9938 3727.72,76.1187 \n",
       "  3732.9,80.2436 3737.92,84.3686 3742.8,88.4935 3747.14,92.2723 3747.53,92.6185 3752.07,96.7434 3756.52,100.868 3760.89,104.993 3765.19,109.118 3769.42,113.243 \n",
       "  3773.58,117.368 3777.69,121.493 3781.74,125.618 3782.18,126.073 3786.26,129.743 3790.81,133.868 3795.33,137.993 3799.84,142.118 3804.33,146.243 3808.82,150.368 \n",
       "  3813.3,154.493 3817.22,158.099 3817.97,158.618 3823.94,162.742 3829.98,166.867 3836.09,170.992 3842.29,175.117 3848.6,179.242 3852.27,181.605 3857.13,183.367 \n",
       "  3868.98,187.492 3881.47,191.617 3887.31,193.456 3922.35,193.498 3928.07,191.617 3941.46,187.492 3956.22,183.367 3957.39,183.054 3963.65,179.242 3970.8,175.117 \n",
       "  3978.37,170.992 3986.4,166.867 3992.43,163.924 3993.83,162.742 3998.83,158.618 4004.02,154.493 4009.45,150.368 4015.12,146.243 4021.06,142.118 4027.29,137.993 \n",
       "  4027.47,137.875 4031.42,133.868 4035.6,129.743 4039.92,125.618 4044.37,121.493 4048.99,117.368 4053.78,113.243 4058.77,109.118 4062.51,106.124 4063.48,104.993 \n",
       "  4067.05,100.868 4070.67,96.7434 4074.37,92.6185 4078.16,88.4935 4082.06,84.3686 4086.06,80.2436 4090.2,76.1187 4094.47,71.9938 4097.55,69.0983 4098.49,67.8688 \n",
       "  4101.64,63.7439 4104.8,59.6189 4107.99,55.494 4111.23,51.369 4114.51,47.2441 \n",
       "  \"/>\n",
       "<polyline clip-path=\"url(#clip994)\" style=\"stroke:#df0020; stroke-linecap:butt; stroke-linejoin:round; stroke-width:4; stroke-opacity:1; fill:none\" points=\"\n",
       "  4077.86,47.2441 4073.98,51.369 4070.24,55.494 4066.62,59.6189 4063.11,63.7439 4062.51,64.4542 4057.8,67.8688 4052.36,71.9938 4047.17,76.1187 4042.23,80.2436 \n",
       "  4037.51,84.3686 4032.99,88.4935 4028.67,92.6185 4027.47,93.7795 4022.2,96.7434 4015.2,100.868 4008.61,104.993 4002.39,109.118 3996.51,113.243 3992.43,116.236 \n",
       "  3989.34,117.368 3978.54,121.493 3968.59,125.618 3959.4,129.743 3957.39,130.682 3933.31,133.868 3922.35,135.484 3912.83,133.868 3890.51,129.743 3887.31,129.107 \n",
       "  3880.29,125.618 3872.19,121.493 3864.26,117.368 3856.46,113.243 3852.27,110.984 3849.93,109.118 3844.79,104.993 3839.66,100.868 3834.52,96.7434 3829.37,92.6185 \n",
       "  3824.2,88.4935 3819,84.3686 3817.22,82.9635 3814.46,80.2436 3810.23,76.1187 3805.95,71.9938 3801.6,67.8688 3797.18,63.7439 3792.69,59.6189 3788.12,55.494 \n",
       "  3783.46,51.369 3782.18,50.2485 3779.01,47.2441 \n",
       "  \"/>\n",
       "<polyline clip-path=\"url(#clip994)\" style=\"stroke:#ef0010; stroke-linecap:butt; stroke-linejoin:round; stroke-width:4; stroke-opacity:1; fill:none\" points=\"\n",
       "  3918.14,47.2441 3922.35,48.9487 3946.12,51.369 3957.39,52.4075 3961.9,51.369 3981.24,47.2441 \n",
       "  \"/>\n",
       "<polyline clip-path=\"url(#clip994)\" style=\"stroke:#cf0030; stroke-linecap:butt; stroke-linejoin:round; stroke-width:4; stroke-opacity:1; fill:none\" points=\"\n",
       "  4269.93,47.2441 4268.19,51.369 4266.5,55.494 4264.83,59.6189 4263.18,63.7439 4261.53,67.8688 4259.86,71.9938 4258.17,76.1187 4256.43,80.2436 4254.63,84.3686 \n",
       "  4252.75,88.4935 4250.78,92.6185 4248.68,96.7434 4246.44,100.868 4244.04,104.993 4241.43,109.118 4238.6,113.243 4237.72,114.466 4236.16,117.368 4234.03,121.493 \n",
       "  4231.98,125.618 4229.97,129.743 4227.98,133.868 4226,137.993 4223.99,142.118 4221.94,146.243 4219.81,150.368 4217.6,154.493 4215.25,158.618 4212.75,162.742 \n",
       "  4210.07,166.867 4207.16,170.992 4203.98,175.117 4202.67,176.717 4201.22,179.242 4198.94,183.367 4196.74,187.492 4194.59,191.617 4192.46,195.742 4190.33,199.867 \n",
       "  4188.17,203.992 4185.94,208.117 4183.62,212.242 4181.19,216.367 4178.59,220.492 4175.81,224.617 4172.79,228.742 4169.5,232.867 4167.63,235.068 4166.52,236.991 \n",
       "  4164.25,241.116 4162.05,245.241 4159.91,249.366 4157.8,253.491 4155.68,257.616 4153.53,261.741 4151.33,265.866 4149.05,269.991 4146.65,274.116 4144.11,278.241 \n",
       "  4141.38,282.366 4138.44,286.491 4135.24,290.616 4132.59,293.789 4132.07,294.741 4129.91,298.866 4127.83,302.991 4125.8,307.116 4123.81,311.24 4121.83,315.365 \n",
       "  4119.84,319.49 4117.81,323.615 4115.72,327.74 4113.55,331.865 4111.27,335.99 4108.86,340.115 4106.28,344.24 4103.51,348.365 4100.51,352.49 4097.55,356.263 \n",
       "  4097.38,356.615 4095.43,360.74 4093.55,364.865 4091.72,368.99 4089.93,373.115 4088.16,377.24 4086.39,381.364 4084.6,385.489 4082.78,389.614 4080.91,393.739 \n",
       "  4078.98,397.864 4076.96,401.989 4074.83,406.114 4072.59,410.239 4070.21,414.364 4067.66,418.489 4064.93,422.614 4062.51,426.037 4062.22,426.739 4060.55,430.864 \n",
       "  4058.94,434.989 4057.37,439.114 4055.83,443.239 4054.31,447.364 4052.79,451.489 4051.28,455.613 4049.74,459.738 4048.19,463.863 4046.6,467.988 4044.96,472.113 \n",
       "  4043.27,476.238 4041.52,480.363 4039.7,484.488 4037.79,488.613 4035.78,492.738 4033.67,496.863 4031.44,500.988 4029.08,505.113 4027.47,507.811 4026.99,509.238 \n",
       "  4025.64,513.363 4024.32,517.488 4023.04,521.613 4021.77,525.737 4020.52,529.862 4019.27,533.987 4018.03,538.112 4016.79,542.237 4015.54,546.362 4014.28,550.487 \n",
       "  4013,554.612 4011.7,558.737 4010.37,562.862 4009.01,566.987 4007.62,571.112 4006.2,575.237 4004.73,579.362 4003.21,583.487 4001.65,587.612 4000.04,591.737 \n",
       "  3998.36,595.862 3996.63,599.986 3994.83,604.111 3992.96,608.236 3992.43,609.389 3991.67,612.361 3990.65,616.486 3989.64,620.611 3988.64,624.736 3987.66,628.861 \n",
       "  3986.68,632.986 3985.71,637.111 3984.75,641.236 3983.78,645.361 3982.82,649.486 3981.85,653.611 3980.88,657.736 3979.91,661.861 3978.93,665.986 3977.94,670.11 \n",
       "  3976.94,674.235 3975.94,678.36 3974.92,682.485 3973.89,686.61 3972.85,690.735 3971.8,694.86 3970.73,698.985 3969.65,703.11 3968.55,707.235 3967.44,711.36 \n",
       "  3966.31,715.485 3965.17,719.61 3964.01,723.735 3962.83,727.86 3961.63,731.985 3960.42,736.11 3959.19,740.235 3957.94,744.359 3957.39,746.184 3956.97,748.484 \n",
       "  3956.23,752.609 3955.5,756.734 3954.77,760.859 3954.04,764.984 3953.32,769.109 3952.6,773.234 3951.89,777.359 3951.17,781.484 3950.46,785.609 3949.75,789.734 \n",
       "  3949.04,793.859 3948.33,797.984 3947.62,802.109 3946.91,806.234 3946.2,810.359 3945.49,814.483 3944.78,818.608 3944.07,822.733 3943.37,826.858 3942.66,830.983 \n",
       "  3941.95,835.108 3941.25,839.233 3940.54,843.358 3939.84,847.483 3939.14,851.608 3938.45,855.733 3937.75,859.858 3937.07,863.983 3936.39,868.108 3935.71,872.233 \n",
       "  3935.04,876.358 3934.39,880.483 3933.74,884.608 3933.1,888.732 3932.48,892.857 3931.87,896.982 3931.28,901.107 3930.71,905.232 3930.16,909.357 3929.64,913.482 \n",
       "  3929.14,917.607 3928.67,921.732 3928.24,925.857 3927.84,929.982 3927.49,934.107 3927.18,938.232 3926.92,942.357 3926.71,946.482 3926.57,950.607 3926.49,954.732 \n",
       "  3926.48,958.856 3926.56,962.981 3926.71,967.106 3926.97,971.231 3927.32,975.356 3927.78,979.481 3928.36,983.606 3929.06,987.731 3929.9,991.856 3930.88,995.981 \n",
       "  3932.01,1000.11 3933.31,1004.23 3934.78,1008.36 3936.44,1012.48 3938.28,1016.61 3940.31,1020.73 3942.56,1024.86 3945.01,1028.98 3947.68,1033.11 3950.57,1037.23 \n",
       "  3953.68,1041.36 3957.02,1045.48 3957.39,1045.92 3965.56,1049.61 3975.07,1053.73 3984.87,1057.86 3992.43,1060.96 3995.89,1057.86 4000.2,1053.73 4004.23,1049.61 \n",
       "  4008.02,1045.48 4011.58,1041.36 4014.94,1037.23 4018.13,1033.11 4021.17,1028.98 4024.06,1024.86 4026.82,1020.73 4027.47,1019.74 4028.01,1016.61 4028.7,1012.48 \n",
       "  4029.36,1008.36 4030,1004.23 4030.62,1000.11 4031.22,995.981 4031.8,991.856 4032.37,987.731 4032.92,983.606 4033.46,979.481 4033.99,975.356 4034.51,971.231 \n",
       "  4035.02,967.106 4035.52,962.981 4036.01,958.856 4036.5,954.732 4036.98,950.607 4037.46,946.482 4037.94,942.357 4038.42,938.232 4038.89,934.107 4039.37,929.982 \n",
       "  4039.84,925.857 4040.32,921.732 4040.8,917.607 4041.29,913.482 4041.78,909.357 4042.28,905.232 4042.78,901.107 4043.29,896.982 4043.81,892.857 4044.34,888.732 \n",
       "  4044.87,884.608 4045.42,880.483 4045.98,876.358 4046.56,872.233 4047.15,868.108 4047.75,863.983 4048.37,859.858 4049.01,855.733 4049.67,851.608 4050.34,847.483 \n",
       "  4051.04,843.358 4051.76,839.233 4052.51,835.108 4053.28,830.983 4054.08,826.858 4054.9,822.733 4055.76,818.608 4056.65,814.483 4057.58,810.359 4058.54,806.234 \n",
       "  4059.55,802.109 4060.59,797.984 4061.69,793.859 4062.51,790.866 4062.65,789.734 4063.15,785.609 4063.66,781.484 4064.2,777.359 4064.75,773.234 4065.31,769.109 \n",
       "  4065.9,764.984 4066.5,760.859 4067.13,756.734 4067.77,752.609 4068.43,748.484 4069.12,744.359 4069.83,740.235 4070.57,736.11 4071.33,731.985 4072.13,727.86 \n",
       "  4072.95,723.735 4073.8,719.61 4074.68,715.485 4075.6,711.36 4076.56,707.235 4077.55,703.11 4078.59,698.985 4079.67,694.86 4080.79,690.735 4081.97,686.61 \n",
       "  4083.2,682.485 4084.49,678.36 4085.85,674.235 4087.26,670.11 4088.76,665.986 4090.32,661.861 4091.98,657.736 4093.72,653.611 4095.57,649.486 4097.52,645.361 \n",
       "  4097.55,645.296 4098.56,641.236 4099.62,637.111 4100.71,632.986 4101.84,628.861 4103,624.736 4104.21,620.611 4105.46,616.486 4106.76,612.361 4108.1,608.236 \n",
       "  4109.51,604.111 4110.97,599.986 4112.5,595.862 4114.1,591.737 4115.78,587.612 4117.54,583.487 4119.39,579.362 4121.34,575.237 4123.4,571.112 4125.58,566.987 \n",
       "  4127.89,562.862 4130.34,558.737 4132.59,555.156 4132.8,554.612 4134.37,550.487 4135.98,546.362 4137.65,542.237 4139.37,538.112 4141.16,533.987 4143.01,529.862 \n",
       "  4144.95,525.737 4146.96,521.613 4149.07,517.488 4151.28,513.363 4153.6,509.238 4156.05,505.113 4158.64,500.988 4161.37,496.863 4164.28,492.738 4167.37,488.613 \n",
       "  4167.63,488.276 4169.58,484.488 4171.76,480.363 4174,476.238 4176.32,472.113 4178.73,467.988 4181.22,463.863 4183.83,459.738 4186.55,455.613 4189.4,451.489 \n",
       "  4192.41,447.364 4195.57,443.239 4198.92,439.114 4202.47,434.989 4202.67,434.759 4205.24,430.864 4208.02,426.739 4210.89,422.614 4213.84,418.489 4216.89,414.364 \n",
       "  4220.06,410.239 4223.36,406.114 4226.81,401.989 4230.42,397.864 4234.22,393.739 4237.72,390.116 4238.13,389.614 4241.5,385.489 4244.94,381.364 4248.47,377.24 \n",
       "  4252.09,373.115 4255.82,368.99 4259.68,364.865 4263.68,360.74 4267.85,356.615 4272.2,352.49 4272.76,351.964 \n",
       "  \"/>\n",
       "<polyline clip-path=\"url(#clip994)\" style=\"stroke:#df0020; stroke-linecap:butt; stroke-linejoin:round; stroke-width:4; stroke-opacity:1; fill:none\" points=\"\n",
       "  4272.76,318.055 4271.15,319.49 4266.64,323.615 4262.39,327.74 4258.37,331.865 4254.54,335.99 4250.89,340.115 4247.4,344.24 4244.04,348.365 4240.8,352.49 \n",
       "  4237.72,356.534 4237.63,356.615 4233.29,360.74 4229.25,364.865 4225.47,368.99 4221.92,373.115 4218.57,377.24 4215.39,381.364 4212.38,385.489 4209.5,389.614 \n",
       "  4206.74,393.739 4204.09,397.864 4202.67,400.106 4200.81,401.989 4196.91,406.114 4193.3,410.239 4189.95,414.364 4186.82,418.489 4183.89,422.614 4181.13,426.739 \n",
       "  4178.53,430.864 4176.06,434.989 4173.71,439.114 4171.46,443.239 4169.31,447.364 4167.63,450.692 4166.91,451.489 4163.27,455.613 4159.93,459.738 4156.85,463.863 \n",
       "  4154,467.988 4151.35,472.113 4148.87,476.238 4146.55,480.363 4144.36,484.488 4142.29,488.613 4140.33,492.738 4138.47,496.863 4136.7,500.988 4135,505.113 \n",
       "  4133.38,509.238 4132.59,511.275 4130.9,513.363 4127.74,517.488 4124.86,521.613 4122.21,525.737 4119.76,529.862 4117.48,533.987 4115.36,538.112 4113.37,542.237 \n",
       "  4111.51,546.362 4109.76,550.487 4108.1,554.612 4106.54,558.737 4105.05,562.862 4103.63,566.987 4102.28,571.112 4101,575.237 4099.76,579.362 4098.58,583.487 \n",
       "  4097.55,587.19 4097.25,587.612 4094.42,591.737 4091.84,595.862 4089.48,599.986 4087.3,604.111 4085.29,608.236 4083.42,612.361 4081.68,616.486 4080.04,620.611 \n",
       "  4078.51,624.736 4077.06,628.861 4075.7,632.986 4074.41,637.111 4073.18,641.236 4072.02,645.361 4070.91,649.486 4069.86,653.611 4068.85,657.736 4067.88,661.861 \n",
       "  4066.96,665.986 4066.07,670.11 4065.22,674.235 4064.4,678.36 4063.61,682.485 4062.85,686.61 4062.51,688.508 4061.17,690.735 4058.85,694.86 4056.73,698.985 \n",
       "  4054.79,703.11 4052.99,707.235 4051.33,711.36 4049.77,715.485 4048.32,719.61 4046.96,723.735 4045.67,727.86 4044.46,731.985 4043.31,736.11 4042.22,740.235 \n",
       "  4041.18,744.359 4040.19,748.484 4039.24,752.609 4038.33,756.734 4037.46,760.859 4036.62,764.984 4035.82,769.109 4035.04,773.234 4034.29,777.359 4033.57,781.484 \n",
       "  4032.87,785.609 4032.18,789.734 4031.52,793.859 4030.88,797.984 4030.25,802.109 4029.64,806.234 4029.05,810.359 4028.46,814.483 4027.89,818.608 4027.47,821.712 \n",
       "  4026.35,822.733 4022.24,826.858 4018.66,830.983 4015.49,835.108 4012.64,839.233 4010.05,843.358 4007.66,847.483 4005.44,851.608 4003.36,855.733 4001.38,859.858 \n",
       "  3999.5,863.983 3997.69,868.108 3995.95,872.233 3994.25,876.358 3992.59,880.483 3992.43,880.885 3992.31,880.483 3991.22,876.358 3990.22,872.233 3989.32,868.108 \n",
       "  3988.52,863.983 3987.79,859.858 3987.15,855.733 3986.58,851.608 3986.08,847.483 3985.65,843.358 3985.27,839.233 3984.96,835.108 3984.69,830.983 3984.48,826.858 \n",
       "  3984.32,822.733 3984.2,818.608 3984.12,814.483 3984.08,810.359 3984.08,806.234 3984.11,802.109 3984.17,797.984 3984.26,793.859 3984.39,789.734 3984.54,785.609 \n",
       "  3984.71,781.484 3984.91,777.359 3985.13,773.234 3985.37,769.109 3985.63,764.984 3985.91,760.859 3986.2,756.734 3986.51,752.609 3986.84,748.484 3987.18,744.359 \n",
       "  3987.54,740.235 3987.91,736.11 3988.29,731.985 3988.68,727.86 3989.09,723.735 3989.5,719.61 3989.93,715.485 3990.36,711.36 3990.81,707.235 3991.26,703.11 \n",
       "  3991.73,698.985 3992.2,694.86 3992.43,692.971 3993.28,690.735 3994.82,686.61 3996.29,682.485 3997.7,678.36 3999.05,674.235 4000.36,670.11 4001.63,665.986 \n",
       "  4002.85,661.861 4004.04,657.736 4005.2,653.611 4006.33,649.486 4007.43,645.361 4008.51,641.236 4009.56,637.111 4010.58,632.986 4011.59,628.861 4012.58,624.736 \n",
       "  4013.54,620.611 4014.49,616.486 4015.42,612.361 4016.34,608.236 4017.25,604.111 4018.14,599.986 4019.02,595.862 4019.89,591.737 4020.75,587.612 4021.6,583.487 \n",
       "  4022.45,579.362 4023.29,575.237 4024.14,571.112 4024.98,566.987 4025.83,562.862 4026.69,558.737 4027.47,555.016 4027.72,554.612 4030.28,550.487 4032.65,546.362 \n",
       "  4034.85,542.237 4036.9,538.112 4038.83,533.987 4040.65,529.862 4042.38,525.737 4044.01,521.613 4045.56,517.488 4047.05,513.363 4048.47,509.238 4049.83,505.113 \n",
       "  4051.15,500.988 4052.42,496.863 4053.65,492.738 4054.86,488.613 4056.03,484.488 4057.19,480.363 4058.34,476.238 4059.48,472.113 4060.62,467.988 4061.77,463.863 \n",
       "  4062.51,461.261 4063.7,459.738 4066.81,455.613 4069.64,451.489 4072.23,447.364 4074.63,443.239 4076.85,439.114 4078.93,434.989 4080.87,430.864 4082.69,426.739 \n",
       "  4084.42,422.614 4086.06,418.489 4087.63,414.364 4089.14,410.239 4090.6,406.114 4092.03,401.989 4093.44,397.864 4094.84,393.739 4096.25,389.614 4097.55,385.828 \n",
       "  4097.86,385.489 4101.48,381.364 4104.76,377.24 4107.73,373.115 4110.44,368.99 4112.94,364.865 4115.24,360.74 4117.38,356.615 4119.39,352.49 4121.28,348.365 \n",
       "  4123.08,344.24 4124.81,340.115 4126.48,335.99 4128.12,331.865 4129.75,327.74 4131.37,323.615 4132.59,320.565 4133.63,319.49 4137.46,315.365 4140.91,311.24 \n",
       "  4144.02,307.116 4146.85,302.991 4149.45,298.866 4151.84,294.741 4154.07,290.616 4156.15,286.491 4158.13,282.366 4160.02,278.241 4161.85,274.116 4163.64,269.991 \n",
       "  4165.41,265.866 4167.2,261.741 4167.63,260.774 4170.75,257.616 4174.47,253.491 4177.82,249.366 4180.85,245.241 4183.61,241.116 4186.14,236.991 4188.49,232.867 \n",
       "  4190.68,228.742 4192.74,224.617 4194.71,220.492 4196.61,216.367 4198.47,212.242 4200.3,208.117 4202.14,203.992 4202.67,202.836 4205.54,199.867 4209.19,195.742 \n",
       "  4212.48,191.617 4215.46,187.492 4218.18,183.367 4220.67,179.242 4222.97,175.117 4225.12,170.992 4227.14,166.867 4229.06,162.742 4230.91,158.618 4232.71,154.493 \n",
       "  4234.48,150.368 4236.24,146.243 4237.72,142.816 4238.34,142.118 4241.89,137.993 4245.1,133.868 4248.01,129.743 4250.66,125.618 4253.09,121.493 4255.33,117.368 \n",
       "  4257.4,113.243 4259.34,109.118 4261.16,104.993 4262.89,100.868 4264.55,96.7434 4266.14,92.6185 4267.7,88.4935 4269.24,84.3686 4270.76,80.2436 4272.29,76.1187 \n",
       "  4272.76,74.8835 \n",
       "  \"/>\n",
       "<polyline clip-path=\"url(#clip994)\" style=\"stroke:#ef0010; stroke-linecap:butt; stroke-linejoin:round; stroke-width:4; stroke-opacity:1; fill:none\" points=\"\n",
       "  4272.76,126.496 4271.85,129.743 4270.65,133.868 4269.39,137.993 4268.04,142.118 4266.6,146.243 4265.04,150.368 4263.35,154.493 4261.5,158.618 4259.47,162.742 \n",
       "  4257.23,166.867 4254.74,170.992 4251.95,175.117 4248.81,179.242 4245.24,183.367 4241.12,187.492 4237.72,190.52 4237.38,191.617 4236.14,195.742 4234.83,199.867 \n",
       "  4233.45,203.992 4231.96,208.117 4230.36,212.242 4228.63,216.367 4226.73,220.492 4224.65,224.617 4222.35,228.742 4219.77,232.867 4216.86,236.991 4213.52,241.116 \n",
       "  4209.6,245.241 4204.88,249.366 4202.67,251.088 4201.99,253.491 4200.8,257.616 4199.56,261.741 4198.25,265.866 4196.87,269.991 4195.39,274.116 4193.8,278.241 \n",
       "  4192.09,282.366 4190.23,286.491 4188.19,290.616 4185.91,294.741 4183.34,298.866 4180.32,302.991 4176.63,307.116 4171.78,311.24 4167.63,313.93 4167.29,315.365 \n",
       "  4166.33,319.49 4165.36,323.615 4164.37,327.74 4163.35,331.865 4162.32,335.99 4161.28,340.115 4160.23,344.24 4159.19,348.365 4158.16,352.49 4157.19,356.615 \n",
       "  4156.32,360.74 4155.63,364.865 4155.31,368.99 4155.85,373.115 4159.18,377.24 4167.63,379.755 4168.71,377.24 4170.53,373.115 4172.47,368.99 4174.56,364.865 \n",
       "  4176.85,360.74 4179.41,356.615 4182.35,352.49 4185.87,348.365 4190.38,344.24 4196.8,340.115 4202.67,337.531 4203.52,335.99 4205.82,331.865 4208.27,327.74 \n",
       "  4210.91,323.615 4213.79,319.49 4216.97,315.365 4220.55,311.24 4224.67,307.116 4229.55,302.991 4235.61,298.866 4237.72,297.614 4239.59,294.741 4242.38,290.616 \n",
       "  4245.36,286.491 4248.54,282.366 4251.99,278.241 4255.77,274.116 4259.95,269.991 4264.66,265.866 4270.08,261.741 4272.76,259.888 \n",
       "  \"/>\n",
       "<polyline clip-path=\"url(#clip994)\" style=\"stroke:#ef0010; stroke-linecap:butt; stroke-linejoin:round; stroke-width:4; stroke-opacity:1; fill:none\" points=\"\n",
       "  3396.73,273.103 3397.76,269.991 3399.13,265.866 3400.54,261.741 3401.97,257.616 3403.45,253.491 3404.96,249.366 3406.53,245.241 3408.15,241.116 3409.83,236.991 \n",
       "  3411.59,232.867 3413.41,228.742 3415.32,224.617 3417.33,220.492 3419.44,216.367 3421.66,212.242 3424.01,208.117 3426.5,203.992 3429.14,199.867 3431.78,195.986 \n",
       "  3431.87,195.742 3433.44,191.617 3435.04,187.492 3436.68,183.367 3438.35,179.242 3440.07,175.117 3441.85,170.992 3443.68,166.867 3445.58,162.742 3447.55,158.618 \n",
       "  3449.6,154.493 3451.74,150.368 3453.98,146.243 3456.33,142.118 3458.8,137.993 3461.4,133.868 3464.15,129.743 3466.82,125.956 3466.97,125.618 3468.85,121.493 \n",
       "  3470.77,117.368 3472.73,113.243 3474.74,109.118 3476.8,104.993 3478.92,100.868 3481.11,96.7434 3483.38,92.6185 3485.74,88.4935 3488.19,84.3686 3490.74,80.2436 \n",
       "  3493.41,76.1187 3496.2,71.9938 3499.14,67.8688 3501.86,64.2216 3502.13,63.7439 3504.48,59.6189 3506.87,55.494 3509.31,51.369 3511.8,47.2441 \n",
       "  \"/>\n",
       "<polyline clip-path=\"url(#clip994)\" style=\"stroke:#df0020; stroke-linecap:butt; stroke-linejoin:round; stroke-width:4; stroke-opacity:1; fill:none\" points=\"\n",
       "  3557.45,47.2441 3553.72,51.369 3550.03,55.494 3546.36,59.6189 3542.71,63.7439 3539.06,67.8688 3536.9,70.3104 3535.57,71.9938 3532.35,76.1187 3529.22,80.2436 \n",
       "  3526.16,84.3686 3523.16,88.4935 3520.22,92.6185 3517.34,96.7434 3514.49,100.868 3511.68,104.993 3508.89,109.118 3506.13,113.243 3503.39,117.368 3501.86,119.671 \n",
       "  3500.59,121.493 3497.75,125.618 3495.02,129.743 3492.36,133.868 3489.78,137.993 3487.27,142.118 3484.82,146.243 3482.42,150.368 3480.06,154.493 3477.75,158.618 \n",
       "  3475.47,162.742 3473.22,166.867 3471,170.992 3468.79,175.117 3466.82,178.834 3466.55,179.242 3463.91,183.367 3461.37,187.492 3458.93,191.617 3456.57,195.742 \n",
       "  3454.29,199.867 3452.07,203.992 3449.92,208.117 3447.83,212.242 3445.79,216.367 3443.79,220.492 3441.82,224.617 3439.89,228.742 3437.99,232.867 3436.12,236.991 \n",
       "  3434.26,241.116 3432.41,245.241 3431.78,246.659 3430.11,249.366 3427.66,253.491 3425.32,257.616 3423.07,261.741 3420.91,265.866 3418.83,269.991 3416.82,274.116 \n",
       "  3414.87,278.241 3412.98,282.366 3411.15,286.491 3409.36,290.616 3407.6,294.741 3405.89,298.866 3404.2,302.991 3402.54,307.116 3400.9,311.24 3399.28,315.365 \n",
       "  3397.68,319.49 3396.73,321.9 \n",
       "  \"/>\n",
       "<polyline clip-path=\"url(#clip994)\" style=\"stroke:#ef0010; stroke-linecap:butt; stroke-linejoin:round; stroke-width:4; stroke-opacity:1; fill:none\" points=\"\n",
       "  4131.25,401.989 4131.08,406.114 4131.11,410.239 4131.4,414.364 4132.09,418.489 4132.59,420.257 4133.06,418.489 4134.05,414.364 4135,410.239 4135.87,406.114 \n",
       "  4136.58,401.989 4136.99,397.864 4136.72,393.739 4134.5,389.614 4132.59,388.394 4132.43,389.614 4131.95,393.739 4131.55,397.864 4131.25,401.989 \n",
       "  \"/>\n",
       "<defs>\n",
       "  <clipPath id=\"clip995\">\n",
       "    <rect x=\"4368\" y=\"47\" width=\"145\" height=\"1032\"/>\n",
       "  </clipPath>\n",
       "</defs>\n",
       "<polyline clip-path=\"url(#clip995)\" style=\"stroke:#1000ef; stroke-linecap:butt; stroke-linejoin:round; stroke-width:4; stroke-opacity:1; fill:none\" points=\"\n",
       "  4368.76,1014.03 4512.76,1014.03 \n",
       "  \"/>\n",
       "<polyline clip-path=\"url(#clip995)\" style=\"stroke:#2000df; stroke-linecap:butt; stroke-linejoin:round; stroke-width:4; stroke-opacity:1; fill:none\" points=\"\n",
       "  4368.76,949.575 4512.76,949.575 \n",
       "  \"/>\n",
       "<polyline clip-path=\"url(#clip995)\" style=\"stroke:#3000cf; stroke-linecap:butt; stroke-linejoin:round; stroke-width:4; stroke-opacity:1; fill:none\" points=\"\n",
       "  4368.76,885.123 4512.76,885.123 \n",
       "  \"/>\n",
       "<polyline clip-path=\"url(#clip995)\" style=\"stroke:#4000bf; stroke-linecap:butt; stroke-linejoin:round; stroke-width:4; stroke-opacity:1; fill:none\" points=\"\n",
       "  4368.76,820.671 4512.76,820.671 \n",
       "  \"/>\n",
       "<polyline clip-path=\"url(#clip995)\" style=\"stroke:#5000af; stroke-linecap:butt; stroke-linejoin:round; stroke-width:4; stroke-opacity:1; fill:none\" points=\"\n",
       "  4368.76,756.219 4512.76,756.219 \n",
       "  \"/>\n",
       "<polyline clip-path=\"url(#clip995)\" style=\"stroke:#60009f; stroke-linecap:butt; stroke-linejoin:round; stroke-width:4; stroke-opacity:1; fill:none\" points=\"\n",
       "  4368.76,691.766 4512.76,691.766 \n",
       "  \"/>\n",
       "<polyline clip-path=\"url(#clip995)\" style=\"stroke:#70008f; stroke-linecap:butt; stroke-linejoin:round; stroke-width:4; stroke-opacity:1; fill:none\" points=\"\n",
       "  4368.76,627.314 4512.76,627.314 \n",
       "  \"/>\n",
       "<polyline clip-path=\"url(#clip995)\" style=\"stroke:#80007f; stroke-linecap:butt; stroke-linejoin:round; stroke-width:4; stroke-opacity:1; fill:none\" points=\"\n",
       "  4368.76,562.862 4512.76,562.862 \n",
       "  \"/>\n",
       "<polyline clip-path=\"url(#clip995)\" style=\"stroke:#8f0070; stroke-linecap:butt; stroke-linejoin:round; stroke-width:4; stroke-opacity:1; fill:none\" points=\"\n",
       "  4368.76,498.41 4512.76,498.41 \n",
       "  \"/>\n",
       "<polyline clip-path=\"url(#clip995)\" style=\"stroke:#9f0060; stroke-linecap:butt; stroke-linejoin:round; stroke-width:4; stroke-opacity:1; fill:none\" points=\"\n",
       "  4368.76,433.958 4512.76,433.958 \n",
       "  \"/>\n",
       "<polyline clip-path=\"url(#clip995)\" style=\"stroke:#af0050; stroke-linecap:butt; stroke-linejoin:round; stroke-width:4; stroke-opacity:1; fill:none\" points=\"\n",
       "  4368.76,369.505 4512.76,369.505 \n",
       "  \"/>\n",
       "<polyline clip-path=\"url(#clip995)\" style=\"stroke:#bf0040; stroke-linecap:butt; stroke-linejoin:round; stroke-width:4; stroke-opacity:1; fill:none\" points=\"\n",
       "  4368.76,305.053 4512.76,305.053 \n",
       "  \"/>\n",
       "<polyline clip-path=\"url(#clip995)\" style=\"stroke:#cf0030; stroke-linecap:butt; stroke-linejoin:round; stroke-width:4; stroke-opacity:1; fill:none\" points=\"\n",
       "  4368.76,240.601 4512.76,240.601 \n",
       "  \"/>\n",
       "<polyline clip-path=\"url(#clip995)\" style=\"stroke:#df0020; stroke-linecap:butt; stroke-linejoin:round; stroke-width:4; stroke-opacity:1; fill:none\" points=\"\n",
       "  4368.76,176.149 4512.76,176.149 \n",
       "  \"/>\n",
       "<polyline clip-path=\"url(#clip995)\" style=\"stroke:#ef0010; stroke-linecap:butt; stroke-linejoin:round; stroke-width:4; stroke-opacity:1; fill:none\" points=\"\n",
       "  4368.76,111.696 4512.76,111.696 \n",
       "  \"/>\n",
       "<path clip-path=\"url(#clip990)\" d=\"M4596.7 958.895 Q4593.09 958.895 4591.26 962.46 Q4589.45 966.001 4589.45 973.131 Q4589.45 980.237 4591.26 983.802 Q4593.09 987.344 4596.7 987.344 Q4600.33 987.344 4602.14 983.802 Q4603.97 980.237 4603.97 973.131 Q4603.97 966.001 4602.14 962.46 Q4600.33 958.895 4596.7 958.895 M4596.7 955.191 Q4602.51 955.191 4605.57 959.798 Q4608.64 964.381 4608.64 973.131 Q4608.64 981.858 4605.57 986.464 Q4602.51 991.047 4596.7 991.047 Q4590.89 991.047 4587.81 986.464 Q4584.76 981.858 4584.76 973.131 Q4584.76 964.381 4587.81 959.798 Q4590.89 955.191 4596.7 955.191 Z\" fill=\"#000000\" fill-rule=\"evenodd\" fill-opacity=\"1\" /><path clip-path=\"url(#clip990)\" d=\"M4616.86 984.496 L4621.75 984.496 L4621.75 990.376 L4616.86 990.376 L4616.86 984.496 Z\" fill=\"#000000\" fill-rule=\"evenodd\" fill-opacity=\"1\" /><path clip-path=\"url(#clip990)\" d=\"M4632.74 986.441 L4640.38 986.441 L4640.38 960.075 L4632.07 961.742 L4632.07 957.483 L4640.33 955.816 L4645.01 955.816 L4645.01 986.441 L4652.65 986.441 L4652.65 990.376 L4632.74 990.376 L4632.74 986.441 Z\" fill=\"#000000\" fill-rule=\"evenodd\" fill-opacity=\"1\" /><path clip-path=\"url(#clip990)\" d=\"M4596.7 855.593 Q4593.09 855.593 4591.26 859.158 Q4589.45 862.699 4589.45 869.829 Q4589.45 876.935 4591.26 880.5 Q4593.09 884.042 4596.7 884.042 Q4600.33 884.042 4602.14 880.5 Q4603.97 876.935 4603.97 869.829 Q4603.97 862.699 4602.14 859.158 Q4600.33 855.593 4596.7 855.593 M4596.7 851.889 Q4602.51 851.889 4605.57 856.496 Q4608.64 861.079 4608.64 869.829 Q4608.64 878.556 4605.57 883.162 Q4602.51 887.745 4596.7 887.745 Q4590.89 887.745 4587.81 883.162 Q4584.76 878.556 4584.76 869.829 Q4584.76 861.079 4587.81 856.496 Q4590.89 851.889 4596.7 851.889 Z\" fill=\"#000000\" fill-rule=\"evenodd\" fill-opacity=\"1\" /><path clip-path=\"url(#clip990)\" d=\"M4616.86 881.195 L4621.75 881.195 L4621.75 887.074 L4616.86 887.074 L4616.86 881.195 Z\" fill=\"#000000\" fill-rule=\"evenodd\" fill-opacity=\"1\" /><path clip-path=\"url(#clip990)\" d=\"M4635.96 883.139 L4652.28 883.139 L4652.28 887.074 L4630.33 887.074 L4630.33 883.139 Q4633 880.384 4637.58 875.755 Q4642.19 871.102 4643.37 869.759 Q4645.61 867.236 4646.49 865.5 Q4647.39 863.741 4647.39 862.051 Q4647.39 859.296 4645.45 857.56 Q4643.53 855.824 4640.43 855.824 Q4638.23 855.824 4635.77 856.588 Q4633.34 857.352 4630.57 858.903 L4630.57 854.181 Q4633.39 853.047 4635.84 852.468 Q4638.3 851.889 4640.33 851.889 Q4645.7 851.889 4648.9 854.574 Q4652.09 857.259 4652.09 861.75 Q4652.09 863.88 4651.28 865.801 Q4650.5 867.699 4648.39 870.292 Q4647.81 870.963 4644.71 874.181 Q4641.61 877.375 4635.96 883.139 Z\" fill=\"#000000\" fill-rule=\"evenodd\" fill-opacity=\"1\" /><path clip-path=\"url(#clip990)\" d=\"M4596.7 752.291 Q4593.09 752.291 4591.26 755.856 Q4589.45 759.397 4589.45 766.527 Q4589.45 773.633 4591.26 777.198 Q4593.09 780.74 4596.7 780.74 Q4600.33 780.74 4602.14 777.198 Q4603.97 773.633 4603.97 766.527 Q4603.97 759.397 4602.14 755.856 Q4600.33 752.291 4596.7 752.291 M4596.7 748.587 Q4602.51 748.587 4605.57 753.194 Q4608.64 757.777 4608.64 766.527 Q4608.64 775.254 4605.57 779.86 Q4602.51 784.443 4596.7 784.443 Q4590.89 784.443 4587.81 779.86 Q4584.76 775.254 4584.76 766.527 Q4584.76 757.777 4587.81 753.194 Q4590.89 748.587 4596.7 748.587 Z\" fill=\"#000000\" fill-rule=\"evenodd\" fill-opacity=\"1\" /><path clip-path=\"url(#clip990)\" d=\"M4616.86 777.893 L4621.75 777.893 L4621.75 783.772 L4616.86 783.772 L4616.86 777.893 Z\" fill=\"#000000\" fill-rule=\"evenodd\" fill-opacity=\"1\" /><path clip-path=\"url(#clip990)\" d=\"M4646.1 765.138 Q4649.45 765.856 4651.33 768.124 Q4653.23 770.393 4653.23 773.726 Q4653.23 778.842 4649.71 781.643 Q4646.19 784.443 4639.71 784.443 Q4637.53 784.443 4635.22 784.004 Q4632.93 783.587 4630.47 782.731 L4630.47 778.217 Q4632.42 779.351 4634.73 779.93 Q4637.05 780.508 4639.57 780.508 Q4643.97 780.508 4646.26 778.772 Q4648.58 777.036 4648.58 773.726 Q4648.58 770.67 4646.42 768.957 Q4644.29 767.221 4640.47 767.221 L4636.45 767.221 L4636.45 763.379 L4640.66 763.379 Q4644.11 763.379 4645.94 762.013 Q4647.76 760.624 4647.76 758.032 Q4647.76 755.37 4645.87 753.958 Q4643.99 752.522 4640.47 752.522 Q4638.55 752.522 4636.35 752.939 Q4634.15 753.356 4631.51 754.235 L4631.51 750.069 Q4634.18 749.328 4636.49 748.958 Q4638.83 748.587 4640.89 748.587 Q4646.21 748.587 4649.32 751.018 Q4652.42 753.425 4652.42 757.545 Q4652.42 760.416 4650.77 762.407 Q4649.13 764.374 4646.1 765.138 Z\" fill=\"#000000\" fill-rule=\"evenodd\" fill-opacity=\"1\" /><path clip-path=\"url(#clip990)\" d=\"M4596.7 648.989 Q4593.09 648.989 4591.26 652.554 Q4589.45 656.095 4589.45 663.225 Q4589.45 670.331 4591.26 673.896 Q4593.09 677.438 4596.7 677.438 Q4600.33 677.438 4602.14 673.896 Q4603.97 670.331 4603.97 663.225 Q4603.97 656.095 4602.14 652.554 Q4600.33 648.989 4596.7 648.989 M4596.7 645.285 Q4602.51 645.285 4605.57 649.892 Q4608.64 654.475 4608.64 663.225 Q4608.64 671.952 4605.57 676.558 Q4602.51 681.142 4596.7 681.142 Q4590.89 681.142 4587.81 676.558 Q4584.76 671.952 4584.76 663.225 Q4584.76 654.475 4587.81 649.892 Q4590.89 645.285 4596.7 645.285 Z\" fill=\"#000000\" fill-rule=\"evenodd\" fill-opacity=\"1\" /><path clip-path=\"url(#clip990)\" d=\"M4616.86 674.591 L4621.75 674.591 L4621.75 680.47 L4616.86 680.47 L4616.86 674.591 Z\" fill=\"#000000\" fill-rule=\"evenodd\" fill-opacity=\"1\" /><path clip-path=\"url(#clip990)\" d=\"M4644.78 649.984 L4632.97 668.433 L4644.78 668.433 L4644.78 649.984 M4643.55 645.91 L4649.43 645.91 L4649.43 668.433 L4654.36 668.433 L4654.36 672.322 L4649.43 672.322 L4649.43 680.47 L4644.78 680.47 L4644.78 672.322 L4629.18 672.322 L4629.18 667.808 L4643.55 645.91 Z\" fill=\"#000000\" fill-rule=\"evenodd\" fill-opacity=\"1\" /><path clip-path=\"url(#clip990)\" d=\"M4596.7 545.687 Q4593.09 545.687 4591.26 549.252 Q4589.45 552.793 4589.45 559.923 Q4589.45 567.029 4591.26 570.594 Q4593.09 574.136 4596.7 574.136 Q4600.33 574.136 4602.14 570.594 Q4603.97 567.029 4603.97 559.923 Q4603.97 552.793 4602.14 549.252 Q4600.33 545.687 4596.7 545.687 M4596.7 541.983 Q4602.51 541.983 4605.57 546.59 Q4608.64 551.173 4608.64 559.923 Q4608.64 568.65 4605.57 573.256 Q4602.51 577.84 4596.7 577.84 Q4590.89 577.84 4587.81 573.256 Q4584.76 568.65 4584.76 559.923 Q4584.76 551.173 4587.81 546.59 Q4590.89 541.983 4596.7 541.983 Z\" fill=\"#000000\" fill-rule=\"evenodd\" fill-opacity=\"1\" /><path clip-path=\"url(#clip990)\" d=\"M4616.86 571.289 L4621.75 571.289 L4621.75 577.168 L4616.86 577.168 L4616.86 571.289 Z\" fill=\"#000000\" fill-rule=\"evenodd\" fill-opacity=\"1\" /><path clip-path=\"url(#clip990)\" d=\"M4631.98 542.608 L4650.33 542.608 L4650.33 546.543 L4636.26 546.543 L4636.26 555.016 Q4637.28 554.668 4638.3 554.506 Q4639.32 554.321 4640.33 554.321 Q4646.12 554.321 4649.5 557.492 Q4652.88 560.664 4652.88 566.08 Q4652.88 571.659 4649.41 574.761 Q4645.94 577.84 4639.62 577.84 Q4637.44 577.84 4635.17 577.469 Q4632.93 577.099 4630.52 576.358 L4630.52 571.659 Q4632.6 572.793 4634.83 573.349 Q4637.05 573.904 4639.52 573.904 Q4643.53 573.904 4645.87 571.798 Q4648.2 569.691 4648.2 566.08 Q4648.2 562.469 4645.87 560.363 Q4643.53 558.256 4639.52 558.256 Q4637.65 558.256 4635.77 558.673 Q4633.92 559.09 4631.98 559.969 L4631.98 542.608 Z\" fill=\"#000000\" fill-rule=\"evenodd\" fill-opacity=\"1\" /><path clip-path=\"url(#clip990)\" d=\"M4596.7 442.385 Q4593.09 442.385 4591.26 445.95 Q4589.45 449.491 4589.45 456.621 Q4589.45 463.728 4591.26 467.292 Q4593.09 470.834 4596.7 470.834 Q4600.33 470.834 4602.14 467.292 Q4603.97 463.728 4603.97 456.621 Q4603.97 449.491 4602.14 445.95 Q4600.33 442.385 4596.7 442.385 M4596.7 438.681 Q4602.51 438.681 4605.57 443.288 Q4608.64 447.871 4608.64 456.621 Q4608.64 465.348 4605.57 469.954 Q4602.51 474.538 4596.7 474.538 Q4590.89 474.538 4587.81 469.954 Q4584.76 465.348 4584.76 456.621 Q4584.76 447.871 4587.81 443.288 Q4590.89 438.681 4596.7 438.681 Z\" fill=\"#000000\" fill-rule=\"evenodd\" fill-opacity=\"1\" /><path clip-path=\"url(#clip990)\" d=\"M4616.86 467.987 L4621.75 467.987 L4621.75 473.866 L4616.86 473.866 L4616.86 467.987 Z\" fill=\"#000000\" fill-rule=\"evenodd\" fill-opacity=\"1\" /><path clip-path=\"url(#clip990)\" d=\"M4642.51 454.723 Q4639.36 454.723 4637.51 456.876 Q4635.68 459.028 4635.68 462.778 Q4635.68 466.505 4637.51 468.681 Q4639.36 470.834 4642.51 470.834 Q4645.66 470.834 4647.49 468.681 Q4649.34 466.505 4649.34 462.778 Q4649.34 459.028 4647.49 456.876 Q4645.66 454.723 4642.51 454.723 M4651.79 440.07 L4651.79 444.329 Q4650.03 443.496 4648.23 443.056 Q4646.45 442.617 4644.69 442.617 Q4640.06 442.617 4637.6 445.741 Q4635.17 448.866 4634.83 455.186 Q4636.19 453.172 4638.25 452.107 Q4640.31 451.019 4642.79 451.019 Q4648 451.019 4651.01 454.191 Q4654.04 457.339 4654.04 462.778 Q4654.04 468.102 4650.89 471.32 Q4647.74 474.538 4642.51 474.538 Q4636.51 474.538 4633.34 469.954 Q4630.17 465.348 4630.17 456.621 Q4630.17 448.427 4634.06 443.566 Q4637.95 438.681 4644.5 438.681 Q4646.26 438.681 4648.04 439.029 Q4649.85 439.376 4651.79 440.07 Z\" fill=\"#000000\" fill-rule=\"evenodd\" fill-opacity=\"1\" /><path clip-path=\"url(#clip990)\" d=\"M4596.7 339.083 Q4593.09 339.083 4591.26 342.648 Q4589.45 346.19 4589.45 353.319 Q4589.45 360.426 4591.26 363.99 Q4593.09 367.532 4596.7 367.532 Q4600.33 367.532 4602.14 363.99 Q4603.97 360.426 4603.97 353.319 Q4603.97 346.19 4602.14 342.648 Q4600.33 339.083 4596.7 339.083 M4596.7 335.379 Q4602.51 335.379 4605.57 339.986 Q4608.64 344.569 4608.64 353.319 Q4608.64 362.046 4605.57 366.652 Q4602.51 371.236 4596.7 371.236 Q4590.89 371.236 4587.81 366.652 Q4584.76 362.046 4584.76 353.319 Q4584.76 344.569 4587.81 339.986 Q4590.89 335.379 4596.7 335.379 Z\" fill=\"#000000\" fill-rule=\"evenodd\" fill-opacity=\"1\" /><path clip-path=\"url(#clip990)\" d=\"M4616.86 364.685 L4621.75 364.685 L4621.75 370.564 L4616.86 370.564 L4616.86 364.685 Z\" fill=\"#000000\" fill-rule=\"evenodd\" fill-opacity=\"1\" /><path clip-path=\"url(#clip990)\" d=\"M4630.75 336.004 L4652.97 336.004 L4652.97 337.995 L4640.43 370.564 L4635.54 370.564 L4647.35 339.94 L4630.75 339.94 L4630.75 336.004 Z\" fill=\"#000000\" fill-rule=\"evenodd\" fill-opacity=\"1\" /><path clip-path=\"url(#clip990)\" d=\"M4596.7 235.781 Q4593.09 235.781 4591.26 239.346 Q4589.45 242.888 4589.45 250.017 Q4589.45 257.124 4591.26 260.688 Q4593.09 264.23 4596.7 264.23 Q4600.33 264.23 4602.14 260.688 Q4603.97 257.124 4603.97 250.017 Q4603.97 242.888 4602.14 239.346 Q4600.33 235.781 4596.7 235.781 M4596.7 232.077 Q4602.51 232.077 4605.57 236.684 Q4608.64 241.267 4608.64 250.017 Q4608.64 258.744 4605.57 263.35 Q4602.51 267.934 4596.7 267.934 Q4590.89 267.934 4587.81 263.35 Q4584.76 258.744 4584.76 250.017 Q4584.76 241.267 4587.81 236.684 Q4590.89 232.077 4596.7 232.077 Z\" fill=\"#000000\" fill-rule=\"evenodd\" fill-opacity=\"1\" /><path clip-path=\"url(#clip990)\" d=\"M4616.86 261.383 L4621.75 261.383 L4621.75 267.262 L4616.86 267.262 L4616.86 261.383 Z\" fill=\"#000000\" fill-rule=\"evenodd\" fill-opacity=\"1\" /><path clip-path=\"url(#clip990)\" d=\"M4641.93 250.85 Q4638.6 250.85 4636.68 252.633 Q4634.78 254.415 4634.78 257.54 Q4634.78 260.665 4636.68 262.448 Q4638.6 264.23 4641.93 264.23 Q4645.26 264.23 4647.19 262.448 Q4649.11 260.642 4649.11 257.54 Q4649.11 254.415 4647.19 252.633 Q4645.29 250.85 4641.93 250.85 M4637.26 248.86 Q4634.25 248.119 4632.56 246.059 Q4630.89 243.999 4630.89 241.036 Q4630.89 236.892 4633.83 234.485 Q4636.79 232.077 4641.93 232.077 Q4647.09 232.077 4650.03 234.485 Q4652.97 236.892 4652.97 241.036 Q4652.97 243.999 4651.28 246.059 Q4649.62 248.119 4646.63 248.86 Q4650.01 249.647 4651.89 251.938 Q4653.78 254.23 4653.78 257.54 Q4653.78 262.563 4650.7 265.249 Q4647.65 267.934 4641.93 267.934 Q4636.21 267.934 4633.14 265.249 Q4630.08 262.563 4630.08 257.54 Q4630.08 254.23 4631.98 251.938 Q4633.88 249.647 4637.26 248.86 M4635.54 241.476 Q4635.54 244.161 4637.21 245.665 Q4638.9 247.17 4641.93 247.17 Q4644.94 247.17 4646.63 245.665 Q4648.34 244.161 4648.34 241.476 Q4648.34 238.79 4646.63 237.286 Q4644.94 235.781 4641.93 235.781 Q4638.9 235.781 4637.21 237.286 Q4635.54 238.79 4635.54 241.476 Z\" fill=\"#000000\" fill-rule=\"evenodd\" fill-opacity=\"1\" /><path clip-path=\"url(#clip990)\" d=\"M4596.7 132.479 Q4593.09 132.479 4591.26 136.044 Q4589.45 139.586 4589.45 146.715 Q4589.45 153.822 4591.26 157.386 Q4593.09 160.928 4596.7 160.928 Q4600.33 160.928 4602.14 157.386 Q4603.97 153.822 4603.97 146.715 Q4603.97 139.586 4602.14 136.044 Q4600.33 132.479 4596.7 132.479 M4596.7 128.776 Q4602.51 128.776 4605.57 133.382 Q4608.64 137.965 4608.64 146.715 Q4608.64 155.442 4605.57 160.048 Q4602.51 164.632 4596.7 164.632 Q4590.89 164.632 4587.81 160.048 Q4584.76 155.442 4584.76 146.715 Q4584.76 137.965 4587.81 133.382 Q4590.89 128.776 4596.7 128.776 Z\" fill=\"#000000\" fill-rule=\"evenodd\" fill-opacity=\"1\" /><path clip-path=\"url(#clip990)\" d=\"M4616.86 158.081 L4621.75 158.081 L4621.75 163.961 L4616.86 163.961 L4616.86 158.081 Z\" fill=\"#000000\" fill-rule=\"evenodd\" fill-opacity=\"1\" /><path clip-path=\"url(#clip990)\" d=\"M4632.07 163.243 L4632.07 158.984 Q4633.83 159.817 4635.64 160.257 Q4637.44 160.697 4639.18 160.697 Q4643.81 160.697 4646.24 157.595 Q4648.69 154.47 4649.04 148.127 Q4647.7 150.118 4645.64 151.183 Q4643.58 152.248 4641.08 152.248 Q4635.89 152.248 4632.86 149.123 Q4629.85 145.974 4629.85 140.535 Q4629.85 135.211 4633 131.993 Q4636.14 128.776 4641.38 128.776 Q4647.37 128.776 4650.52 133.382 Q4653.69 137.965 4653.69 146.715 Q4653.69 154.886 4649.8 159.771 Q4645.94 164.632 4639.39 164.632 Q4637.63 164.632 4635.82 164.285 Q4634.01 163.937 4632.07 163.243 M4641.38 148.59 Q4644.52 148.59 4646.35 146.437 Q4648.2 144.285 4648.2 140.535 Q4648.2 136.808 4646.35 134.655 Q4644.52 132.479 4641.38 132.479 Q4638.23 132.479 4636.38 134.655 Q4634.55 136.808 4634.55 140.535 Q4634.55 144.285 4636.38 146.437 Q4638.23 148.59 4641.38 148.59 Z\" fill=\"#000000\" fill-rule=\"evenodd\" fill-opacity=\"1\" /><polyline clip-path=\"url(#clip990)\" style=\"stroke:#000000; stroke-linecap:butt; stroke-linejoin:round; stroke-width:4; stroke-opacity:1; fill:none\" points=\"\n",
       "  4512.76,1078.48 4512.76,976.725 4560.76,976.725 4512.76,976.725 4512.76,873.423 4560.76,873.423 4512.76,873.423 4512.76,770.121 4560.76,770.121 4512.76,770.121 \n",
       "  4512.76,666.819 4560.76,666.819 4512.76,666.819 4512.76,563.517 4560.76,563.517 4512.76,563.517 4512.76,460.215 4560.76,460.215 4512.76,460.215 4512.76,356.913 \n",
       "  4560.76,356.913 4512.76,356.913 4512.76,253.611 4560.76,253.611 4512.76,253.611 4512.76,150.309 4560.76,150.309 4512.76,150.309 4512.76,47.2441 \n",
       "  \"/>\n",
       "</svg>\n"
      ]
     },
     "execution_count": 59,
     "metadata": {},
     "output_type": "execute_result"
    },
    {
     "name": "stderr",
     "output_type": "stream",
     "text": [
      "┌ Warning: Indices Base.OneTo(120) of attribute `seriescolor` does not match data indices 1:222.\n",
      "└ @ Plots /Users/apodusenko/.julia/packages/Plots/Di0Qb/src/utils.jl:129\n",
      "┌ Warning: Indices Base.OneTo(120) of attribute `linecolor` does not match data indices 1:222.\n",
      "└ @ Plots /Users/apodusenko/.julia/packages/Plots/Di0Qb/src/utils.jl:129\n",
      "┌ Warning: Indices Base.OneTo(120) of attribute `fillcolor` does not match data indices 1:222.\n",
      "└ @ Plots /Users/apodusenko/.julia/packages/Plots/Di0Qb/src/utils.jl:129\n",
      "┌ Warning: Indices Base.OneTo(120) of attribute `markercolor` does not match data indices 1:222.\n",
      "└ @ Plots /Users/apodusenko/.julia/packages/Plots/Di0Qb/src/utils.jl:129\n",
      "┌ Warning: Indices Base.OneTo(120) of attribute `seriescolor` does not match data indices 1:222.\n",
      "└ @ Plots /Users/apodusenko/.julia/packages/Plots/Di0Qb/src/utils.jl:129\n",
      "┌ Warning: Indices Base.OneTo(120) of attribute `linecolor` does not match data indices 1:222.\n",
      "└ @ Plots /Users/apodusenko/.julia/packages/Plots/Di0Qb/src/utils.jl:129\n",
      "┌ Warning: Indices Base.OneTo(120) of attribute `fillcolor` does not match data indices 1:222.\n",
      "└ @ Plots /Users/apodusenko/.julia/packages/Plots/Di0Qb/src/utils.jl:129\n",
      "┌ Warning: Indices Base.OneTo(120) of attribute `markercolor` does not match data indices 1:222.\n",
      "└ @ Plots /Users/apodusenko/.julia/packages/Plots/Di0Qb/src/utils.jl:129\n"
     ]
    }
   ],
   "source": [
    "using StatsFuns: normcdf\n",
    "data_x, data_y = get_learning_data(active_dict, 0.0)\n",
    "params = Optim.minimizer(res_train)\n",
    "inferred_model = deepcopy(compile(model, params))\n",
    "classification_map = map((x) -> normcdf(dot([1,1],x)), map((x) -> forward(inferred_model, [x...]), collect(Iterators.product(0:0.01:3, 0:0.01:1))))\n",
    "im1 = scatter(data_x[:,1], data_x[:,2], xlabel=\"gain 1\", ylabel=\"gain 2\", color=dat_to_col(data_y))\n",
    "im2 = scatter(data_x[:,1], data_x[:,2], xlabel=\"gain 1\", ylabel=\"gain 2\", color=cmap.(normcdf.(trans_data_x_2)))\n",
    "im3 = contour(0.0:0.1:2.5, 0.0:0.01:2.5, (x, y) -> normcdf(dot([1, 1], forward(inferred_model, [x, y]))), color=[\"blue\", \"red\"])\n",
    "plot(im1, im2, im3, legend=false, layout=(1, 3), size=(1200, 300))"
   ]
  }
 ],
 "metadata": {
  "kernelspec": {
   "display_name": "Julia 1.6.0",
   "language": "julia",
   "name": "julia-1.6"
  },
  "language_info": {
   "file_extension": ".jl",
   "mimetype": "application/julia",
   "name": "julia",
   "version": "1.6.0"
  }
 },
 "nbformat": 4,
 "nbformat_minor": 5
}
