{
 "cells": [
  {
   "cell_type": "markdown",
   "id": "atomic-serum",
   "metadata": {},
   "source": [
    "# Active Inference Design Agent (demo)"
   ]
  },
  {
   "cell_type": "code",
   "execution_count": 4,
   "id": "magnetic-sequence",
   "metadata": {},
   "outputs": [
    {
     "name": "stderr",
     "output_type": "stream",
     "text": [
      "┌ Info: Precompiling ReactiveMP [a194aa59-28ba-4574-a09c-4a745416d6e3]\n",
      "└ @ Base loading.jl:1317\n"
     ]
    }
   ],
   "source": [
    "using Revise\n",
    "using Rocket\n",
    "using ReactiveMP\n",
    "using GraphPPL\n",
    "using Distributions\n",
    "using LinearAlgebra\n",
    "import ProgressMeter\n",
    "using WAV\n",
    "using Plots"
   ]
  },
  {
   "cell_type": "code",
   "execution_count": 5,
   "id": "placed-cheat",
   "metadata": {},
   "outputs": [
    {
     "data": {
      "text/plain": [
       "batch_coupled_learning (generic function with 1 method)"
      ]
     },
     "execution_count": 5,
     "metadata": {},
     "output_type": "execute_result"
    }
   ],
   "source": [
    "# include auxilary functions for data processing\n",
    "include(\"helpers/aida_segmentation.jl\")\n",
    "# include SNR quality metric\n",
    "include(\"helpers/aida_snr.jl\")\n",
    "# include SNR quality metric\n",
    "include(\"helpers/aida_ar.jl\")\n",
    "# include models and corresponding inference algos\n",
    "include(\"models_inferences.jl\")"
   ]
  },
  {
   "cell_type": "code",
   "execution_count": 3,
   "id": "fundamental-millennium",
   "metadata": {},
   "outputs": [
    {
     "data": {
      "text/plain": [
       "8000"
      ]
     },
     "execution_count": 3,
     "metadata": {},
     "output_type": "execute_result"
    }
   ],
   "source": [
    "fs = 8000"
   ]
  },
  {
   "cell_type": "markdown",
   "id": "complex-auction",
   "metadata": {},
   "source": [
    "In this demo we will work with two different contexts (environemtns): babble and train noises. \n",
    "\n",
    "You can think of a user who keeps wandering around a train station: sometimes train arrives and he/she hears the train noises. When there is no train arriving to the platform, the user hears the babble from people waiting for the train.\n",
    "When someone starts talking to the user he would (maybe) prefer to damp the environmental noise and focus only on the speaker.\n",
    "\n",
    "Another possible scenario you can think of is the user who steps out of the train and goes to the bar, where people produce babble noise :D "
   ]
  },
  {
   "cell_type": "markdown",
   "id": "administrative-protein",
   "metadata": {},
   "source": [
    "## Let's obtain priors for the environment"
   ]
  },
  {
   "cell_type": "markdown",
   "id": "reasonable-argument",
   "metadata": {},
   "source": [
    "To make our model identifiabile, we would like to obtain priors for the environmental noises. To do this, we use Voice-Activity-Detection (VAD) to find the silent segments (with no speech). When those frames are identified, we fit them to AR model of order 2 to learn the parameters of AR.\n",
    "\n",
    "Surely, you can obtain the priors based on different logic. (to discuss (1) it doesn't have to be AR, (2) it doesn't have to be VAD)"
   ]
  },
  {
   "cell_type": "code",
   "execution_count": 4,
   "id": "brown-clinton",
   "metadata": {},
   "outputs": [
    {
     "data": {
      "text/plain": [
       "376"
      ]
     },
     "execution_count": 4,
     "metadata": {},
     "output_type": "execute_result"
    }
   ],
   "source": [
    "# Load sound from .wav\n",
    "babble, fs = wavread(\"sound/AIDA/training/sp01_babble_sn0.wav\")\n",
    "# split babble into overlapping segments (default 0.01s=10ms, 0.0025=2.5ms)\n",
    "bbl_seg = get_frames(babble, fs)\n",
    "# compute number of segments\n",
    "bbl_totseg = size(bbl_seg, 1)"
   ]
  },
  {
   "cell_type": "code",
   "execution_count": 5,
   "id": "small-omaha",
   "metadata": {},
   "outputs": [
    {
     "data": {
      "text/plain": [
       "391"
      ]
     },
     "execution_count": 5,
     "metadata": {},
     "output_type": "execute_result"
    }
   ],
   "source": [
    "train, fs = wavread(\"sound/AIDA/training/sp11_train_sn0.wav\")\n",
    "tr_seg = get_frames(train, fs)\n",
    "tr_totseg = size(tr_seg, 1)"
   ]
  },
  {
   "cell_type": "code",
   "execution_count": 4,
   "id": "unsigned-natural",
   "metadata": {},
   "outputs": [],
   "source": [
    "# Priors for contexts were obtained through running VAD-AR block\n",
    "# prior for train noise\n",
    "trmη = [0.4132104755921993 -0.16961911841949667]\n",
    "trvη = [0.00972993440498344 -0.0027103005529199036; -0.0027103005529199036 0.004281987640515784]\n",
    "# trτ  = (41.0, 0.03644943410647206)\n",
    "trτ  = (41.0, 0.05)\n",
    "\n",
    "# prior for babble noise\n",
    "bblmη = [1.1192255902602752 -0.43086292293101314]\n",
    "bblvη = [0.007837790430663492 -0.005039080815241558; -0.005039080815241558 0.00596413119195013]\n",
    "# bblτ  = (41.0, 0.0029780512310493387);\n",
    "bblτ  = (41.0, 0.05);"
   ]
  },
  {
   "cell_type": "markdown",
   "id": "narrow-wagon",
   "metadata": {},
   "source": [
    "### VAD block\n",
    "You can skip this entire block if you used priors from the above cell."
   ]
  },
  {
   "cell_type": "code",
   "execution_count": 7,
   "id": "deluxe-combat",
   "metadata": {},
   "outputs": [
    {
     "data": {
      "text/plain": [
       "lar_inference_ex (generic function with 1 method)"
      ]
     },
     "execution_count": 7,
     "metadata": {},
     "output_type": "execute_result"
    }
   ],
   "source": [
    "include(\"models/everything.jl\")"
   ]
  },
  {
   "cell_type": "code",
   "execution_count": 8,
   "id": "strong-voluntary",
   "metadata": {},
   "outputs": [
    {
     "data": {
      "text/plain": [
       "ar_ssm (generic function with 1 method)"
      ]
     },
     "execution_count": 8,
     "metadata": {},
     "output_type": "execute_result"
    }
   ],
   "source": [
    "import WAV\n",
    "include(\"helpers/aida_segmentation.jl\")\n",
    "include(\"helpers/aida_ar.jl\")"
   ]
  },
  {
   "cell_type": "code",
   "execution_count": 9,
   "id": "painted-cyprus",
   "metadata": {},
   "outputs": [
    {
     "data": {
      "text/plain": [
       "376"
      ]
     },
     "execution_count": 9,
     "metadata": {},
     "output_type": "execute_result"
    }
   ],
   "source": [
    "# Choose the auido signal from where you intend to extract the parameters\n",
    "context_seg = bbl_seg\n",
    "totseg = bbl_totseg\n",
    "# context_seg = tr_seg\n",
    "# totseg = tr_totseg"
   ]
  },
  {
   "cell_type": "code",
   "execution_count": 10,
   "id": "large-creativity",
   "metadata": {},
   "outputs": [],
   "source": [
    "ar_order = 10\n",
    "vmp_iter = 50\n",
    "fe_ar = zeros(totseg, vmp_iter)\n",
    "fe_gaussian = zeros(totseg, vmp_iter);"
   ]
  },
  {
   "cell_type": "code",
   "execution_count": 56,
   "id": "treated-pilot",
   "metadata": {},
   "outputs": [
    {
     "name": "stderr",
     "output_type": "stream",
     "text": [
      "\u001b[32mProgress: 100%|█████████████████████████████████████████| Time: 0:08:47\u001b[39m\n"
     ]
    }
   ],
   "source": [
    "ProgressMeter.@showprogress for segnum in 1:totseg\n",
    "    inputs, outputs = ar_ssm(context_seg[segnum, :], ar_order)\n",
    "    γ, τ, θ, x, fe = lar_inference_ex(outputs, ar_order, vmp_iter)\n",
    "    mθ, vθ = mean(θ), cov(θ)\n",
    "    mγ = mean(γ)\n",
    "    fe_ar[segnum, :] = fe\n",
    "    \n",
    "    x, γ, fe = inference_gaussian(outputs, vmp_iter, 1e4)\n",
    "    mx, vx = mean(x), cov(x)\n",
    "    mγ = mean(γ)\n",
    "    fe_gaussian[segnum, :] = fe\n",
    "end"
   ]
  },
  {
   "cell_type": "code",
   "execution_count": 57,
   "id": "iraqi-summary",
   "metadata": {},
   "outputs": [],
   "source": [
    "# detect silent frames based on model comparison\n",
    "vad = [x[end] < y[end] for (x, y) in zip(eachrow(fe_ar), eachrow(fe_gaussian))];"
   ]
  },
  {
   "cell_type": "code",
   "execution_count": 58,
   "id": "later-prediction",
   "metadata": {},
   "outputs": [],
   "source": [
    "rsegs = findall(isequal(1), vad)\n",
    "nsegs = findall(isequal(0), vad);"
   ]
  },
  {
   "cell_type": "code",
   "execution_count": 59,
   "id": "undefined-tokyo",
   "metadata": {},
   "outputs": [
    {
     "data": {
      "text/plain": [
       "17.938993996124832"
      ]
     },
     "execution_count": 59,
     "metadata": {},
     "output_type": "execute_result"
    }
   ],
   "source": [
    "inv(var(sum([context_seg[nseg, :] for nseg in nsegs])))"
   ]
  },
  {
   "cell_type": "code",
   "execution_count": 60,
   "id": "balanced-lending",
   "metadata": {},
   "outputs": [
    {
     "name": "stderr",
     "output_type": "stream",
     "text": [
      "\u001b[32mProgress: 100%|█████████████████████████████████████████| Time: 0:00:06\u001b[39m\n"
     ]
    }
   ],
   "source": [
    "cmx, cvx, cmη, cvη, cτ = lar_batch_learning(hcat([context_seg[nseg, :] for nseg in nsegs]...)', 2, 10, 1e-12);"
   ]
  },
  {
   "cell_type": "code",
   "execution_count": 64,
   "id": "cognitive-halifax",
   "metadata": {},
   "outputs": [
    {
     "name": "stdout",
     "output_type": "stream",
     "text": [
      "[1.1192255902602752 -0.43086292293101314], [0.007837790430663492 -0.005039080815241558; -0.005039080815241558 0.00596413119195013], , (41.0, 0.0029780512310493387)\n"
     ]
    }
   ],
   "source": [
    "println(\"$(mean(cmη, dims=1)), $(mean(cvη, dims=1)[1, :, :]), , $((cτ[end][1], cτ[end][2]))\")"
   ]
  },
  {
   "cell_type": "code",
   "execution_count": null,
   "id": "irish-charge",
   "metadata": {},
   "outputs": [],
   "source": [
    "# Priors for contexts were obtained through running VAD block\n",
    "trmη = mean(cmη, dims=1)\n",
    "trvη = mean(cvη, dims=1)[1, :, :]\n",
    "trτ  = (cτ[end][1], cτ[end][2])\n",
    "\n",
    "# prior for babble noise\n",
    "bblmη = mean(cmη, dims=1)\n",
    "bblvη = mean(cvη, dims=1)[1, :, :]\n",
    "bblτ  = (cτ[end][1], cτ[end][2]);"
   ]
  },
  {
   "cell_type": "markdown",
   "id": "welcome-enough",
   "metadata": {},
   "source": [
    "## Source seperation\n",
    "When priors for the contexts are indentified, we can run noise reduction algorithm based on coupled AR: AR_speech + AR_envrionment = output. This algorithm seperates speech (**z**) and noise (**x**)\n",
    "\n",
    "We will split our dataset into training and test set. We use signals from training set to learn the mapping function between the gains proposed by agent and aprraisals provided by user. Bare in mind that this split is not necessary and in theory we can get along without it."
   ]
  },
  {
   "cell_type": "code",
   "execution_count": 11,
   "id": "wooden-blocking",
   "metadata": {},
   "outputs": [
    {
     "data": {
      "text/plain": [
       "prior_to_priors (generic function with 1 method)"
      ]
     },
     "execution_count": 11,
     "metadata": {},
     "output_type": "execute_result"
    }
   ],
   "source": [
    "# coupled AR model is deisgned to work with time-varying priors for both speech and environmental noise\n",
    "# prior_to_priors map \"static\" priors to the corresponding matrices with equal elements\n",
    "function prior_to_priors(mη, vη, τ, totseg)\n",
    "    ar_order = size(mη, 2)\n",
    "    rmη = zeros(totseg, ar_order)\n",
    "    rvη = zeros(totseg, ar_order, ar_order)\n",
    "    for segnum in 1:totseg\n",
    "        rmη[segnum, :], rvη[segnum, :, :] = reshape(mη, (ar_order,)), vη\n",
    "    end\n",
    "    priors_eta = rmη, rvη\n",
    "    priors_tau = [τ for _ in 1:totseg]\n",
    "    priors_eta[1], priors_eta[2], priors_tau\n",
    "end"
   ]
  },
  {
   "cell_type": "code",
   "execution_count": 12,
   "id": "biological-magnitude",
   "metadata": {},
   "outputs": [],
   "source": [
    "trmη_arr, trvη_arr, trτ_arr = prior_to_priors(trmη, trvη, trτ, tr_totseg)\n",
    "bblmη_arr, bblvη_arr, bblτ_arr = prior_to_priors(bblmη, bblvη, bblτ, bbl_totseg);"
   ]
  },
  {
   "cell_type": "code",
   "execution_count": 13,
   "id": "golden-revelation",
   "metadata": {},
   "outputs": [
    {
     "data": {
      "text/plain": [
       "HA_algorithm (generic function with 1 method)"
      ]
     },
     "execution_count": 13,
     "metadata": {},
     "output_type": "execute_result"
    }
   ],
   "source": [
    "function HA_algorithm(segments, priors_η, priors_τ, ar_1_order, ar_2_order, vmp_its)\n",
    "    \"\"\"Source seperation based on coupled AR model. Inference is performed in batch manner\n",
    "\n",
    "       segments: segmented audio signal\n",
    "       priors_η:   matrix of means and covariances of AR coefficients (see output formal of prior_to_priors\n",
    "       priors_τ:   array of tupes contatining the prior of environmental noise precision\n",
    "       ar_1_order: order of speech signal\n",
    "       ar_2_order: order of environmental noise signal\n",
    "       vmp_its:    number of variational iterations\n",
    "    \"\"\"\n",
    "    n_sources = 2\n",
    "    totseg = size(segments, 1)\n",
    "    l      = size(segments, 2) # dimensionality of the buffer\n",
    "    \n",
    "    rmx = zeros(totseg, l)\n",
    "    rvx = zeros(totseg, l)\n",
    "    rmθ = zeros(totseg, ar_1_order)\n",
    "    rvθ = zeros(totseg, ar_1_order, ar_1_order)\n",
    "    rγ = fill(tuple(.0, .0), totseg)\n",
    "    \n",
    "    rmz = zeros(totseg, l)\n",
    "    rvz = zeros(totseg, l)\n",
    "    rmη = zeros(totseg, ar_2_order)\n",
    "    rvη = zeros(totseg, ar_2_order, ar_2_order)\n",
    "    rτ = fill(tuple(.0, .0), totseg)\n",
    "    \n",
    "    fe  = zeros(totseg, vmp_its)\n",
    "    \n",
    "    rmo = zeros(totseg, l)\n",
    "    \n",
    "    # agent proposes gains according to its beliefs\n",
    "    ProgressMeter.@showprogress for segnum in 1:totseg\n",
    "        prior_η                           = (priors_η[1][segnum, :], priors_η[2][segnum, :, :])\n",
    "        prior_τ                           = priors_τ[segnum]\n",
    "        γ, θ, zs, τ, η, xs, fe[segnum, :] = coupled_inference(segments[segnum, :], prior_η, prior_τ, ar_1_order, ar_2_order, vmp_its)\n",
    "        mz, vz                            = mean.(zs), cov.(zs)\n",
    "        mθ, vθ                            = mean(θ), cov(θ)\n",
    "        rmz[segnum, :], rvz[segnum, :]    = first.(mz), first.(vz)\n",
    "        rmθ[segnum, :], rvθ[segnum, :, :] = mθ, vθ\n",
    "        rγ[segnum]                        = shape(γ), rate(γ)\n",
    "        \n",
    "        mx, vx                            = mean.(xs), cov.(xs)\n",
    "        mη, vη                            = mean(η), cov(η)\n",
    "        rmx[segnum, :], rvx[segnum, :]    = first.(mx), first.(vx)\n",
    "        rmη[segnum, :], rvη[segnum, :, :] = mη, vη\n",
    "        rτ[segnum]                        = shape(τ), rate(τ)\n",
    "        \n",
    "        # HA part\n",
    "        speech = rmz[segnum, :]\n",
    "        noise  = rmx[segnum, :]\n",
    "        rmo[segnum, :] = speech .+ noise\n",
    "    end\n",
    "    rmz, rvz, rmθ, rvθ, rγ, rmx, rvx, rmη, rvη, rτ, fe, rmo\n",
    "end"
   ]
  },
  {
   "cell_type": "markdown",
   "id": "ambient-cookbook",
   "metadata": {},
   "source": [
    "#### Obtain the outputs from HA"
   ]
  },
  {
   "cell_type": "code",
   "execution_count": 5,
   "id": "adequate-secondary",
   "metadata": {},
   "outputs": [
    {
     "data": {
      "text/plain": [
       "get_sounds_fn (generic function with 1 method)"
      ]
     },
     "execution_count": 5,
     "metadata": {},
     "output_type": "execute_result"
    }
   ],
   "source": [
    "# return list of files from dir_name\n",
    "function get_sounds_fn(dir_name)\n",
    "    file_names = []\n",
    "    for (root, dirs, files) in walkdir(dir_name)\n",
    "        for file in files\n",
    "            push!(file_names, joinpath(root, file)) # path to files\n",
    "        end\n",
    "    end\n",
    "    file_names\n",
    "end"
   ]
  },
  {
   "cell_type": "code",
   "execution_count": 7,
   "id": "laughing-logic",
   "metadata": {},
   "outputs": [],
   "source": [
    "training_files = get_sounds_fn(\"sound/AIDA/training/\");"
   ]
  },
  {
   "cell_type": "code",
   "execution_count": 8,
   "id": "genuine-drove",
   "metadata": {},
   "outputs": [
    {
     "name": "stdout",
     "output_type": "stream",
     "text": [
      "sound/AIDA/training/sp08_babble_sn0.wav\n"
     ]
    },
    {
     "data": {
      "text/plain": [
       "380×80 Matrix{Float64}:\n",
       "  0.0542314   0.0467544    0.00265511  …  -0.126011    -0.206244\n",
       "  0.033723    0.0573443    0.0773339      -0.0227058   -0.0657979\n",
       "  0.140538    0.106693     0.0360118       0.146092     0.0616169\n",
       "  0.0662252  -0.018128    -0.032075       -0.0811182    0.0431227\n",
       "  0.0480972   0.0445875    0.0498367      -0.0253609   -0.0185553\n",
       " -0.0292673  -0.0645466   -0.103793    …   0.14066      0.123875\n",
       " -0.0381481  -0.0107425    0.0104678       0.0936613    0.0746178\n",
       " -0.028077   -0.0843837   -0.0903348      -0.036256    -0.0307016\n",
       "  0.0492569   0.0639973    0.0399182       0.050264    -0.0648824\n",
       "  0.0670797   0.00317392   0.00521867      0.044496     0.0498978\n",
       " -0.101077   -0.0573138   -0.014069    …  -0.0697348   -0.0841395\n",
       "  0.0554827   0.0452589   -0.0309763       0.156255     0.0937223\n",
       " -0.0675069   0.0357677    0.0458998      -0.156713    -0.0555437\n",
       "  ⋮                                    ⋱               \n",
       "  0.0116581  -0.00210578  -0.0115665      -0.0350963   -0.0211493\n",
       " -0.0178533  -0.0216987   -0.0550859      -0.0550249   -0.0961638\n",
       "  0.0670492   0.0895108    0.0596026   …   0.0244758    0.0264901\n",
       " -0.0633869  -0.0693991   -0.0431227       0.032197     0.0103153\n",
       "  0.0513932   0.0548112    0.0653096      -0.00201422  -0.0256661\n",
       "  0.009064   -0.00671407  -0.00466933      0.0665609    0.028901\n",
       " -0.0514847   0.00173956   0.0195929      -0.0431532   -0.0391552\n",
       "  0.0169378  -0.00396741  -0.0189825   …   0.0251473   -0.0334788\n",
       " -0.0783105  -0.120151    -0.0912198       0.0107425   -0.0112003\n",
       " -0.0747703  -0.0825526   -0.0419324       0.0646992    0.10184\n",
       "  0.0134587   0.0128178    0.0318918       0.0203558    0.0274667\n",
       " -0.0343638  -0.0481277   -0.0563677       0.0          0.0"
      ]
     },
     "execution_count": 8,
     "metadata": {},
     "output_type": "execute_result"
    }
   ],
   "source": [
    "# Check for how the data is organized\n",
    "training_file = training_files[8]\n",
    "println(training_file)\n",
    "speech, fs = WAV.wavread(training_file)\n",
    "speech_seg = get_frames(speech, fs)"
   ]
  },
  {
   "cell_type": "markdown",
   "id": "amino-quick",
   "metadata": {},
   "source": [
    "At this stage we run our inference algorithm to seperate **z** and **x**. We write the output into *.jld* files.\n",
    "\n",
    "You don't need to run this snippet if you haven't changed the default parameters of HA_algorithm and priors (just see *sound/AIDA/separated_jld/training/*)"
   ]
  },
  {
   "cell_type": "code",
   "execution_count": 312,
   "id": "convertible-creature",
   "metadata": {},
   "outputs": [
    {
     "name": "stdout",
     "output_type": "stream",
     "text": [
      "sound/AIDA/training/sp08_babble_sn0.wav\n"
     ]
    },
    {
     "name": "stderr",
     "output_type": "stream",
     "text": [
      "\u001b[32mProgress: 100%|█████████████████████████████████████████| Time: 0:03:39\u001b[39m\n"
     ]
    },
    {
     "name": "stdout",
     "output_type": "stream",
     "text": [
      "sound/AIDA/training/sp09_babble_sn0.wav\n"
     ]
    },
    {
     "name": "stderr",
     "output_type": "stream",
     "text": [
      "\u001b[32mProgress: 100%|█████████████████████████████████████████| Time: 0:03:46\u001b[39m\n"
     ]
    },
    {
     "name": "stdout",
     "output_type": "stream",
     "text": [
      "sound/AIDA/training/sp10_babble_sn0.wav\n"
     ]
    },
    {
     "name": "stderr",
     "output_type": "stream",
     "text": [
      "\u001b[32mProgress: 100%|█████████████████████████████████████████| Time: 0:03:20\u001b[39m\n"
     ]
    },
    {
     "name": "stdout",
     "output_type": "stream",
     "text": [
      "sound/AIDA/training/sp11_train_sn0.wav\n"
     ]
    },
    {
     "name": "stderr",
     "output_type": "stream",
     "text": [
      "\u001b[32mProgress: 100%|█████████████████████████████████████████| Time: 0:03:39\u001b[39m\n"
     ]
    },
    {
     "name": "stdout",
     "output_type": "stream",
     "text": [
      "sound/AIDA/training/sp12_train_sn0.wav\n"
     ]
    },
    {
     "name": "stderr",
     "output_type": "stream",
     "text": [
      "\u001b[32mProgress: 100%|█████████████████████████████████████████| Time: 0:03:26\u001b[39m\n"
     ]
    },
    {
     "name": "stdout",
     "output_type": "stream",
     "text": [
      "sound/AIDA/training/sp13_train_sn0.wav\n"
     ]
    },
    {
     "name": "stderr",
     "output_type": "stream",
     "text": [
      "\u001b[32mProgress: 100%|█████████████████████████████████████████| Time: 0:03:10\u001b[39m\n"
     ]
    },
    {
     "name": "stdout",
     "output_type": "stream",
     "text": [
      "sound/AIDA/training/sp14_train_sn0.wav\n"
     ]
    },
    {
     "name": "stderr",
     "output_type": "stream",
     "text": [
      "\u001b[32mProgress: 100%|█████████████████████████████████████████| Time: 0:03:39\u001b[39m\n"
     ]
    },
    {
     "name": "stdout",
     "output_type": "stream",
     "text": [
      "sound/AIDA/training/sp15_train_sn0.wav\n"
     ]
    },
    {
     "name": "stderr",
     "output_type": "stream",
     "text": [
      "\u001b[32mProgress: 100%|█████████████████████████████████████████| Time: 0:03:41\u001b[39m\n"
     ]
    },
    {
     "name": "stdout",
     "output_type": "stream",
     "text": [
      "sound/AIDA/training/sp16_train_sn0.wav\n"
     ]
    },
    {
     "name": "stderr",
     "output_type": "stream",
     "text": [
      "\u001b[32mProgress: 100%|█████████████████████████████████████████| Time: 0:02:54\u001b[39m\n"
     ]
    },
    {
     "name": "stdout",
     "output_type": "stream",
     "text": [
      "sound/AIDA/training/sp17_train_sn0.wav\n"
     ]
    },
    {
     "name": "stderr",
     "output_type": "stream",
     "text": [
      "\u001b[32mProgress: 100%|█████████████████████████████████████████| Time: 0:03:00\u001b[39m\n"
     ]
    },
    {
     "name": "stdout",
     "output_type": "stream",
     "text": [
      "sound/AIDA/training/sp18_train_sn0.wav\n"
     ]
    },
    {
     "name": "stderr",
     "output_type": "stream",
     "text": [
      "\u001b[32mProgress: 100%|█████████████████████████████████████████| Time: 0:02:51\u001b[39m\n"
     ]
    },
    {
     "name": "stdout",
     "output_type": "stream",
     "text": [
      "sound/AIDA/training/sp19_train_sn0.wav\n"
     ]
    },
    {
     "name": "stderr",
     "output_type": "stream",
     "text": [
      "\u001b[32mProgress: 100%|█████████████████████████████████████████| Time: 0:03:20\u001b[39m\n"
     ]
    },
    {
     "name": "stdout",
     "output_type": "stream",
     "text": [
      "sound/AIDA/training/sp20_train_sn0.wav\n"
     ]
    },
    {
     "name": "stderr",
     "output_type": "stream",
     "text": [
      "\u001b[32mProgress: 100%|█████████████████████████████████████████| Time: 0:03:14\u001b[39m\n"
     ]
    }
   ],
   "source": [
    "import JLD\n",
    "# r for recovered\n",
    "for training_file in training_files\n",
    "    println(training_file)\n",
    "    speech, fs = WAV.wavread(training_file)\n",
    "    speech_seg = get_frames(speech, fs)\n",
    "    # choose priors\n",
    "    priors_eta = occursin(\"babble\", training_file) ? (bblmη_arr, bblvη_arr) : (trmη_arr, trvη_arr)\n",
    "    priors_tau = occursin(\"babble\", training_file) ? bblτ_arr : trτ_arr\n",
    "    # make sure that 1D of priors and speech_seg are equal\n",
    "    if size(priors_eta, 1) != size(speech_seg, 1)\n",
    "        totseg = size(speech_seg, 1)\n",
    "        priors_eta_m, priors_eta_v, priors_tau = prior_to_priors(priors_eta[1][1, :]', priors_eta[2][1, :, :], priors_tau[1], totseg)\n",
    "        priors_eta = priors_eta_m, priors_eta_v\n",
    "    end\n",
    "    rmz, rvz, rmθ, rvθ, rγ, rmx, rvx, rmη, rvη, rτ, fe, rmo = HA_algorithm(speech_seg, priors_eta, priors_tau, 10, 2, 10);\n",
    "    \n",
    "    JLD.save(\"sound/AIDA/separated_jld/training/\"*training_file[findfirst(\"sp\", training_file)[1]:end][1:end-3]*\"jld\",\n",
    "         \"rmz\", rmz, \"rvz\", rvz, \"rmθ\", rmθ, \"rvθ\", rvθ, \"rγ\", rγ, \n",
    "         \"rmx\", rmx, \"rvx\", rvx, \"rmη\", rmη, \"rvη\", rvη, \"rτ\", rτ,\n",
    "         \"fe\", fe, \"rmo\", rmo, \"filename\", training_file,\n",
    "         \"audio\", speech)\n",
    "end"
   ]
  },
  {
   "cell_type": "markdown",
   "id": "fleet-somalia",
   "metadata": {},
   "source": [
    "### Preference learning stage"
   ]
  },
  {
   "cell_type": "markdown",
   "id": "skilled-consultation",
   "metadata": {},
   "source": [
    "#### Generate outputs of HA from JLD files"
   ]
  },
  {
   "cell_type": "code",
   "execution_count": 12,
   "id": "proud-madagascar",
   "metadata": {},
   "outputs": [],
   "source": [
    "# obtain saved jld files containing inference result\n",
    "training_jlds = get_sounds_fn(\"sound/AIDA/separated_jld/training/\");"
   ]
  },
  {
   "cell_type": "code",
   "execution_count": 13,
   "id": "antique-jurisdiction",
   "metadata": {},
   "outputs": [],
   "source": [
    "# initialize gains that agent randomly assigns to the outputs of HA\n",
    "agent_gains = [[2.0, 1.0], [1.0, 0.0], [0.5, 0.5], [0.9, 0.3], [2.5, 1.0]];"
   ]
  },
  {
   "cell_type": "code",
   "execution_count": null,
   "id": "silver-lancaster",
   "metadata": {},
   "outputs": [],
   "source": [
    "# this snippet generates new ha outputs\n",
    "for training_jld in training_jlds\n",
    "    # read file\n",
    "    d = JLD.load(training_jld)\n",
    "    filename = d[\"filename\"]\n",
    "    # extract speech\n",
    "    rmz, rmx = d[\"rmz\"], d[\"rmx\"]\n",
    "    # extract noise\n",
    "    rz, rx = get_signal(rmz, fs), get_signal(rmx, fs)\n",
    "    # pick weights \n",
    "    whgs = rand(agent_gains) # can be changed to a smarter function\n",
    "    # create output\n",
    "    ha_out = whgs[1] .* rz + whgs[2] .* rx\n",
    "    # write wav file\n",
    "    WAV.wavwrite(ha_out, fs, \"sound/AIDA/preference_learning/ha_out_$(whgs[1])_$(whgs[2])_\"*filename[findfirst(\"sp\", filename)[1]:end])\n",
    "end"
   ]
  },
  {
   "cell_type": "markdown",
   "id": "numerical-spirituality",
   "metadata": {},
   "source": [
    "#### Create pairs (gains, context) <-> appraisals"
   ]
  },
  {
   "cell_type": "code",
   "execution_count": 8,
   "id": "radical-logic",
   "metadata": {},
   "outputs": [],
   "source": [
    "# Recorded gains and appraisals \n",
    "# If you want to generate new pairs, please procceed with listening\n",
    "gains = [[0.5, 0.5], [0.9, 0.3], [0.9, 0.3], [0.9, 0.3], [0.9, 0.3], [0.9, 0.3], [0.9, 0.3], [0.9, 0.3], [0.9, 0.3], [0.9, 0.3], [1.0, 0.0], [1.0, 0.0], [1.0, 0.0], [1.0, 0.0], [1.0, 0.0], [2.0, 1.0], [2.0, 1.0], [2.5, 1.0], [2.5, 1.0], [2.5, 1.0]]\n",
    "appraisals = [0.0, 0.0, 0.0, 0.0, 0.0, 0.0, 0.0, 0.0, 0.0, 1.0, 1.0, 0.0, 1.0, 1.0, 1.0, 1.0, 0.0, 1.0, 0.0, 0.0]\n",
    "contexts = [1.0, 1.0, 1.0, 1.0, 1.0, 0.0, 0.0, 0.0, 0.0, 0.0, 1.0, 1.0, 1.0, 0.0, 0.0, 0.0, 0.0, 1.0, 1.0, 0.0];"
   ]
  },
  {
   "cell_type": "code",
   "execution_count": 7,
   "id": "constant-dubai",
   "metadata": {},
   "outputs": [],
   "source": [
    "prl_files = get_sounds_fn(\"sound/AIDA/preference_learning/\");"
   ]
  },
  {
   "cell_type": "markdown",
   "id": "backed-adventure",
   "metadata": {},
   "source": [
    "#### Listening"
   ]
  },
  {
   "cell_type": "markdown",
   "id": "controlling-amendment",
   "metadata": {},
   "source": [
    "User gets to listen new audio samples with proposed gains. After each listening he/she evaluates the performance of HA output by binary feedback."
   ]
  },
  {
   "cell_type": "code",
   "execution_count": null,
   "id": "macro-stack",
   "metadata": {},
   "outputs": [],
   "source": [
    "# This snippet creates interactive loop where user can like/dislike hearing aid output\n",
    "nnum = 8 # prefix for gains\n",
    "appraisals = []\n",
    "gains = []\n",
    "contexts = []\n",
    "for prl_file in prl_files\n",
    "    \n",
    "    if !occursin(\"wav\", prl_file)\n",
    "        continue\n",
    "    end\n",
    "    WAV.wavplay(prl_file)\n",
    "    println(\"How's HA output 1, 0 ?\")\n",
    "    appraisal = readline()\n",
    "    push!(appraisals, parse(Float64, appraisal))\n",
    "    \n",
    "    # extract gains routine\n",
    "    pref_id = findfirst(\"out_\", prl_file)[end]\n",
    "    gains_str = prl_file[pref_id+1:pref_id+nnum-1]\n",
    "    push!(gains, parse.(Float64, split(gains_str, \"_\")))\n",
    "    \n",
    "    # extract context routine\n",
    "    push!(contexts, occursin(\"babble\", prl_file) ? 1.0 : 0.0)\n",
    "end"
   ]
  },
  {
   "cell_type": "code",
   "execution_count": 7,
   "id": "historic-police",
   "metadata": {},
   "outputs": [
    {
     "name": "stdout",
     "output_type": "stream",
     "text": [
      "[[0.5, 0.5], [0.9, 0.3], [0.9, 0.3], [0.9, 0.3], [0.9, 0.3], [0.9, 0.3], [0.9, 0.3], [0.9, 0.3], [0.9, 0.3], [0.9, 0.3], [1.0, 0.0], [1.0, 0.0], [1.0, 0.0], [1.0, 0.0], [1.0, 0.0], [2.0, 1.0], [2.0, 1.0], [2.5, 1.0], [2.5, 1.0], [2.5, 1.0]]\n",
      "[0.0, 0.0, 0.0, 0.0, 0.0, 0.0, 0.0, 0.0, 0.0, 1.0, 1.0, 0.0, 1.0, 1.0, 1.0, 1.0, 0.0, 1.0, 0.0, 0.0]\n",
      "[1.0, 1.0, 1.0, 1.0, 1.0, 0.0, 0.0, 0.0, 0.0, 0.0, 1.0, 1.0, 1.0, 0.0, 0.0, 0.0, 0.0, 1.0, 1.0, 0.0]\n"
     ]
    }
   ],
   "source": [
    "println(gains)\n",
    "println(appraisals)\n",
    "println(contexts)"
   ]
  },
  {
   "cell_type": "code",
   "execution_count": 6,
   "id": "marked-termination",
   "metadata": {},
   "outputs": [
    {
     "data": {
      "text/plain": [
       "inference_flow_classifier (generic function with 1 method)"
      ]
     },
     "execution_count": 6,
     "metadata": {},
     "output_type": "execute_result"
    }
   ],
   "source": [
    "# normalizing flows agent\n",
    "include(\"agent/agent_Bart/flow_agent.jl\")"
   ]
  },
  {
   "cell_type": "code",
   "execution_count": 10,
   "id": "still-transcription",
   "metadata": {},
   "outputs": [
    {
     "data": {
      "text/plain": [
       "60-element Vector{Float64}:\n",
       " 0.0\n",
       " 0.0\n",
       " 0.0\n",
       " 0.0\n",
       " 0.0\n",
       " 0.0\n",
       " 0.0\n",
       " 0.0\n",
       " 0.0\n",
       " 1.0\n",
       " 1.0\n",
       " 0.0\n",
       " 1.0\n",
       " ⋮\n",
       " 0.0\n",
       " 1.0\n",
       " 1.0\n",
       " 0.0\n",
       " 1.0\n",
       " 1.0\n",
       " 1.0\n",
       " 1.0\n",
       " 0.0\n",
       " 1.0\n",
       " 0.0\n",
       " 0.0"
      ]
     },
     "execution_count": 10,
     "metadata": {},
     "output_type": "execute_result"
    }
   ],
   "source": [
    "# augmentation of the dataset with copies\n",
    "n_gains = vcat(hcat(gains...)', hcat(gains...)', hcat(gains...)')\n",
    "n_appraisals = vcat(appraisals, appraisals, appraisals)"
   ]
  },
  {
   "cell_type": "code",
   "execution_count": 11,
   "id": "seasonal-green",
   "metadata": {},
   "outputs": [
    {
     "data": {
      "text/plain": [
       "60×2 Matrix{Float64}:\n",
       " 0.498166   0.533579\n",
       " 0.860584   0.332214\n",
       " 0.895456   0.349178\n",
       " 0.876483   0.293213\n",
       " 0.875832   0.256159\n",
       " 0.843882   0.297398\n",
       " 0.910456   0.235826\n",
       " 0.892451   0.267385\n",
       " 0.848872   0.325207\n",
       " 0.982053   0.33322\n",
       " 1.0008     0.0225247\n",
       " 1.02617    0.0442901\n",
       " 1.00971   -0.0405394\n",
       " ⋮         \n",
       " 0.905812   0.330923\n",
       " 0.918801   0.316021\n",
       " 1.00204   -0.0298526\n",
       " 0.976789   0.00434763\n",
       " 0.986067  -0.00939942\n",
       " 1.0168     0.00244771\n",
       " 0.956319   0.0102045\n",
       " 2.0711     0.986427\n",
       " 1.99447    0.957464\n",
       " 2.44617    1.01633\n",
       " 2.52935    0.94399\n",
       " 2.53377    1.00691"
      ]
     },
     "execution_count": 11,
     "metadata": {},
     "output_type": "execute_result"
    }
   ],
   "source": [
    "# augmentation of the dataset with copies\n",
    "data_y = n_appraisals\n",
    "m_gains = n_gains .+ sqrt(1e-3)*randn(size(n_gains))\n",
    "data_x = m_gains"
   ]
  },
  {
   "cell_type": "code",
   "execution_count": 153,
   "id": "israeli-australia",
   "metadata": {},
   "outputs": [
    {
     "data": {
      "image/svg+xml": [
       "<?xml version=\"1.0\" encoding=\"utf-8\"?>\n",
       "<svg xmlns=\"http://www.w3.org/2000/svg\" xmlns:xlink=\"http://www.w3.org/1999/xlink\" width=\"600\" height=\"400\" viewBox=\"0 0 2400 1600\">\n",
       "<defs>\n",
       "  <clipPath id=\"clip150\">\n",
       "    <rect x=\"0\" y=\"0\" width=\"2400\" height=\"1600\"/>\n",
       "  </clipPath>\n",
       "</defs>\n",
       "<path clip-path=\"url(#clip150)\" d=\"\n",
       "M0 1600 L2400 1600 L2400 0 L0 0  Z\n",
       "  \" fill=\"#ffffff\" fill-rule=\"evenodd\" fill-opacity=\"1\"/>\n",
       "<defs>\n",
       "  <clipPath id=\"clip151\">\n",
       "    <rect x=\"480\" y=\"0\" width=\"1681\" height=\"1600\"/>\n",
       "  </clipPath>\n",
       "</defs>\n",
       "<path clip-path=\"url(#clip150)\" d=\"\n",
       "M249.542 1423.18 L2352.76 1423.18 L2352.76 47.2441 L249.542 47.2441  Z\n",
       "  \" fill=\"#ffffff\" fill-rule=\"evenodd\" fill-opacity=\"1\"/>\n",
       "<defs>\n",
       "  <clipPath id=\"clip152\">\n",
       "    <rect x=\"249\" y=\"47\" width=\"2104\" height=\"1377\"/>\n",
       "  </clipPath>\n",
       "</defs>\n",
       "<polyline clip-path=\"url(#clip152)\" style=\"stroke:#000000; stroke-linecap:butt; stroke-linejoin:round; stroke-width:2; stroke-opacity:0.1; fill:none\" points=\"\n",
       "  350.268,1423.18 350.268,47.2441 \n",
       "  \"/>\n",
       "<polyline clip-path=\"url(#clip152)\" style=\"stroke:#000000; stroke-linecap:butt; stroke-linejoin:round; stroke-width:2; stroke-opacity:0.1; fill:none\" points=\"\n",
       "  820.718,1423.18 820.718,47.2441 \n",
       "  \"/>\n",
       "<polyline clip-path=\"url(#clip152)\" style=\"stroke:#000000; stroke-linecap:butt; stroke-linejoin:round; stroke-width:2; stroke-opacity:0.1; fill:none\" points=\"\n",
       "  1291.17,1423.18 1291.17,47.2441 \n",
       "  \"/>\n",
       "<polyline clip-path=\"url(#clip152)\" style=\"stroke:#000000; stroke-linecap:butt; stroke-linejoin:round; stroke-width:2; stroke-opacity:0.1; fill:none\" points=\"\n",
       "  1761.62,1423.18 1761.62,47.2441 \n",
       "  \"/>\n",
       "<polyline clip-path=\"url(#clip152)\" style=\"stroke:#000000; stroke-linecap:butt; stroke-linejoin:round; stroke-width:2; stroke-opacity:0.1; fill:none\" points=\"\n",
       "  2232.07,1423.18 2232.07,47.2441 \n",
       "  \"/>\n",
       "<polyline clip-path=\"url(#clip150)\" style=\"stroke:#000000; stroke-linecap:butt; stroke-linejoin:round; stroke-width:4; stroke-opacity:1; fill:none\" points=\"\n",
       "  249.542,1423.18 2352.76,1423.18 \n",
       "  \"/>\n",
       "<polyline clip-path=\"url(#clip150)\" style=\"stroke:#000000; stroke-linecap:butt; stroke-linejoin:round; stroke-width:4; stroke-opacity:1; fill:none\" points=\"\n",
       "  350.268,1423.18 350.268,1404.28 \n",
       "  \"/>\n",
       "<polyline clip-path=\"url(#clip150)\" style=\"stroke:#000000; stroke-linecap:butt; stroke-linejoin:round; stroke-width:4; stroke-opacity:1; fill:none\" points=\"\n",
       "  820.718,1423.18 820.718,1404.28 \n",
       "  \"/>\n",
       "<polyline clip-path=\"url(#clip150)\" style=\"stroke:#000000; stroke-linecap:butt; stroke-linejoin:round; stroke-width:4; stroke-opacity:1; fill:none\" points=\"\n",
       "  1291.17,1423.18 1291.17,1404.28 \n",
       "  \"/>\n",
       "<polyline clip-path=\"url(#clip150)\" style=\"stroke:#000000; stroke-linecap:butt; stroke-linejoin:round; stroke-width:4; stroke-opacity:1; fill:none\" points=\"\n",
       "  1761.62,1423.18 1761.62,1404.28 \n",
       "  \"/>\n",
       "<polyline clip-path=\"url(#clip150)\" style=\"stroke:#000000; stroke-linecap:butt; stroke-linejoin:round; stroke-width:4; stroke-opacity:1; fill:none\" points=\"\n",
       "  2232.07,1423.18 2232.07,1404.28 \n",
       "  \"/>\n",
       "<path clip-path=\"url(#clip150)\" d=\"M328.15 1452.37 Q324.539 1452.37 322.71 1455.94 Q320.904 1459.48 320.904 1466.61 Q320.904 1473.71 322.71 1477.28 Q324.539 1480.82 328.15 1480.82 Q331.784 1480.82 333.59 1477.28 Q335.418 1473.71 335.418 1466.61 Q335.418 1459.48 333.59 1455.94 Q331.784 1452.37 328.15 1452.37 M328.15 1448.67 Q333.96 1448.67 337.016 1453.27 Q340.094 1457.86 340.094 1466.61 Q340.094 1475.33 337.016 1479.94 Q333.96 1484.52 328.15 1484.52 Q322.34 1484.52 319.261 1479.94 Q316.205 1475.33 316.205 1466.61 Q316.205 1457.86 319.261 1453.27 Q322.34 1448.67 328.15 1448.67 Z\" fill=\"#000000\" fill-rule=\"evenodd\" fill-opacity=\"1\" /><path clip-path=\"url(#clip150)\" d=\"M348.312 1477.97 L353.196 1477.97 L353.196 1483.85 L348.312 1483.85 L348.312 1477.97 Z\" fill=\"#000000\" fill-rule=\"evenodd\" fill-opacity=\"1\" /><path clip-path=\"url(#clip150)\" d=\"M363.427 1449.29 L381.784 1449.29 L381.784 1453.23 L367.71 1453.23 L367.71 1461.7 Q368.728 1461.35 369.747 1461.19 Q370.765 1461 371.784 1461 Q377.571 1461 380.95 1464.18 Q384.33 1467.35 384.33 1472.76 Q384.33 1478.34 380.858 1481.44 Q377.386 1484.52 371.066 1484.52 Q368.89 1484.52 366.622 1484.15 Q364.376 1483.78 361.969 1483.04 L361.969 1478.34 Q364.052 1479.48 366.275 1480.03 Q368.497 1480.59 370.974 1480.59 Q374.978 1480.59 377.316 1478.48 Q379.654 1476.38 379.654 1472.76 Q379.654 1469.15 377.316 1467.05 Q374.978 1464.94 370.974 1464.94 Q369.099 1464.94 367.224 1465.36 Q365.372 1465.77 363.427 1466.65 L363.427 1449.29 Z\" fill=\"#000000\" fill-rule=\"evenodd\" fill-opacity=\"1\" /><path clip-path=\"url(#clip150)\" d=\"M787.871 1479.92 L795.51 1479.92 L795.51 1453.55 L787.199 1455.22 L787.199 1450.96 L795.463 1449.29 L800.139 1449.29 L800.139 1479.92 L807.778 1479.92 L807.778 1483.85 L787.871 1483.85 L787.871 1479.92 Z\" fill=\"#000000\" fill-rule=\"evenodd\" fill-opacity=\"1\" /><path clip-path=\"url(#clip150)\" d=\"M817.222 1477.97 L822.107 1477.97 L822.107 1483.85 L817.222 1483.85 L817.222 1477.97 Z\" fill=\"#000000\" fill-rule=\"evenodd\" fill-opacity=\"1\" /><path clip-path=\"url(#clip150)\" d=\"M842.292 1452.37 Q838.681 1452.37 836.852 1455.94 Q835.046 1459.48 835.046 1466.61 Q835.046 1473.71 836.852 1477.28 Q838.681 1480.82 842.292 1480.82 Q845.926 1480.82 847.732 1477.28 Q849.56 1473.71 849.56 1466.61 Q849.56 1459.48 847.732 1455.94 Q845.926 1452.37 842.292 1452.37 M842.292 1448.67 Q848.102 1448.67 851.157 1453.27 Q854.236 1457.86 854.236 1466.61 Q854.236 1475.33 851.157 1479.94 Q848.102 1484.52 842.292 1484.52 Q836.482 1484.52 833.403 1479.94 Q830.347 1475.33 830.347 1466.61 Q830.347 1457.86 833.403 1453.27 Q836.482 1448.67 842.292 1448.67 Z\" fill=\"#000000\" fill-rule=\"evenodd\" fill-opacity=\"1\" /><path clip-path=\"url(#clip150)\" d=\"M1258.82 1479.92 L1266.46 1479.92 L1266.46 1453.55 L1258.15 1455.22 L1258.15 1450.96 L1266.41 1449.29 L1271.09 1449.29 L1271.09 1479.92 L1278.73 1479.92 L1278.73 1483.85 L1258.82 1483.85 L1258.82 1479.92 Z\" fill=\"#000000\" fill-rule=\"evenodd\" fill-opacity=\"1\" /><path clip-path=\"url(#clip150)\" d=\"M1288.17 1477.97 L1293.05 1477.97 L1293.05 1483.85 L1288.17 1483.85 L1288.17 1477.97 Z\" fill=\"#000000\" fill-rule=\"evenodd\" fill-opacity=\"1\" /><path clip-path=\"url(#clip150)\" d=\"M1303.29 1449.29 L1321.64 1449.29 L1321.64 1453.23 L1307.57 1453.23 L1307.57 1461.7 Q1308.59 1461.35 1309.61 1461.19 Q1310.62 1461 1311.64 1461 Q1317.43 1461 1320.81 1464.18 Q1324.19 1467.35 1324.19 1472.76 Q1324.19 1478.34 1320.72 1481.44 Q1317.24 1484.52 1310.92 1484.52 Q1308.75 1484.52 1306.48 1484.15 Q1304.23 1483.78 1301.83 1483.04 L1301.83 1478.34 Q1303.91 1479.48 1306.13 1480.03 Q1308.36 1480.59 1310.83 1480.59 Q1314.84 1480.59 1317.17 1478.48 Q1319.51 1476.38 1319.51 1472.76 Q1319.51 1469.15 1317.17 1467.05 Q1314.84 1464.94 1310.83 1464.94 Q1308.96 1464.94 1307.08 1465.36 Q1305.23 1465.77 1303.29 1466.65 L1303.29 1449.29 Z\" fill=\"#000000\" fill-rule=\"evenodd\" fill-opacity=\"1\" /><path clip-path=\"url(#clip150)\" d=\"M1732.86 1479.92 L1749.18 1479.92 L1749.18 1483.85 L1727.23 1483.85 L1727.23 1479.92 Q1729.89 1477.16 1734.48 1472.53 Q1739.08 1467.88 1740.26 1466.54 Q1742.51 1464.01 1743.39 1462.28 Q1744.29 1460.52 1744.29 1458.83 Q1744.29 1456.07 1742.35 1454.34 Q1740.43 1452.6 1737.32 1452.6 Q1735.13 1452.6 1732.67 1453.37 Q1730.24 1454.13 1727.46 1455.68 L1727.46 1450.96 Q1730.29 1449.82 1732.74 1449.25 Q1735.19 1448.67 1737.23 1448.67 Q1742.6 1448.67 1745.8 1451.35 Q1748.99 1454.04 1748.99 1458.53 Q1748.99 1460.66 1748.18 1462.58 Q1747.39 1464.48 1745.29 1467.07 Q1744.71 1467.74 1741.61 1470.96 Q1738.5 1474.15 1732.86 1479.92 Z\" fill=\"#000000\" fill-rule=\"evenodd\" fill-opacity=\"1\" /><path clip-path=\"url(#clip150)\" d=\"M1758.99 1477.97 L1763.87 1477.97 L1763.87 1483.85 L1758.99 1483.85 L1758.99 1477.97 Z\" fill=\"#000000\" fill-rule=\"evenodd\" fill-opacity=\"1\" /><path clip-path=\"url(#clip150)\" d=\"M1784.06 1452.37 Q1780.45 1452.37 1778.62 1455.94 Q1776.81 1459.48 1776.81 1466.61 Q1776.81 1473.71 1778.62 1477.28 Q1780.45 1480.82 1784.06 1480.82 Q1787.69 1480.82 1789.5 1477.28 Q1791.33 1473.71 1791.33 1466.61 Q1791.33 1459.48 1789.5 1455.94 Q1787.69 1452.37 1784.06 1452.37 M1784.06 1448.67 Q1789.87 1448.67 1792.93 1453.27 Q1796 1457.86 1796 1466.61 Q1796 1475.33 1792.93 1479.94 Q1789.87 1484.52 1784.06 1484.52 Q1778.25 1484.52 1775.17 1479.94 Q1772.12 1475.33 1772.12 1466.61 Q1772.12 1457.86 1775.17 1453.27 Q1778.25 1448.67 1784.06 1448.67 Z\" fill=\"#000000\" fill-rule=\"evenodd\" fill-opacity=\"1\" /><path clip-path=\"url(#clip150)\" d=\"M2203.8 1479.92 L2220.12 1479.92 L2220.12 1483.85 L2198.18 1483.85 L2198.18 1479.92 Q2200.84 1477.16 2205.42 1472.53 Q2210.03 1467.88 2211.21 1466.54 Q2213.46 1464.01 2214.34 1462.28 Q2215.24 1460.52 2215.24 1458.83 Q2215.24 1456.07 2213.29 1454.34 Q2211.37 1452.6 2208.27 1452.6 Q2206.07 1452.6 2203.62 1453.37 Q2201.19 1454.13 2198.41 1455.68 L2198.41 1450.96 Q2201.23 1449.82 2203.69 1449.25 Q2206.14 1448.67 2208.18 1448.67 Q2213.55 1448.67 2216.74 1451.35 Q2219.94 1454.04 2219.94 1458.53 Q2219.94 1460.66 2219.13 1462.58 Q2218.34 1464.48 2216.23 1467.07 Q2215.66 1467.74 2212.55 1470.96 Q2209.45 1474.15 2203.8 1479.92 Z\" fill=\"#000000\" fill-rule=\"evenodd\" fill-opacity=\"1\" /><path clip-path=\"url(#clip150)\" d=\"M2229.94 1477.97 L2234.82 1477.97 L2234.82 1483.85 L2229.94 1483.85 L2229.94 1477.97 Z\" fill=\"#000000\" fill-rule=\"evenodd\" fill-opacity=\"1\" /><path clip-path=\"url(#clip150)\" d=\"M2245.05 1449.29 L2263.41 1449.29 L2263.41 1453.23 L2249.34 1453.23 L2249.34 1461.7 Q2250.35 1461.35 2251.37 1461.19 Q2252.39 1461 2253.41 1461 Q2259.2 1461 2262.58 1464.18 Q2265.96 1467.35 2265.96 1472.76 Q2265.96 1478.34 2262.48 1481.44 Q2259.01 1484.52 2252.69 1484.52 Q2250.52 1484.52 2248.25 1484.15 Q2246 1483.78 2243.6 1483.04 L2243.6 1478.34 Q2245.68 1479.48 2247.9 1480.03 Q2250.12 1480.59 2252.6 1480.59 Q2256.6 1480.59 2258.94 1478.48 Q2261.28 1476.38 2261.28 1472.76 Q2261.28 1469.15 2258.94 1467.05 Q2256.6 1464.94 2252.6 1464.94 Q2250.73 1464.94 2248.85 1465.36 Q2247 1465.77 2245.05 1466.65 L2245.05 1449.29 Z\" fill=\"#000000\" fill-rule=\"evenodd\" fill-opacity=\"1\" /><path clip-path=\"url(#clip150)\" d=\"M1290.53 1549.81 Q1290.53 1543.44 1287.89 1539.94 Q1285.28 1536.44 1280.54 1536.44 Q1275.83 1536.44 1273.19 1539.94 Q1270.58 1543.44 1270.58 1549.81 Q1270.58 1556.14 1273.19 1559.64 Q1275.83 1563.14 1280.54 1563.14 Q1285.28 1563.14 1287.89 1559.64 Q1290.53 1556.14 1290.53 1549.81 M1296.39 1563.62 Q1296.39 1572.72 1292.35 1577.15 Q1288.31 1581.6 1279.97 1581.6 Q1276.88 1581.6 1274.14 1581.13 Q1271.41 1580.68 1268.83 1579.72 L1268.83 1574.03 Q1271.41 1575.43 1273.92 1576.1 Q1276.43 1576.76 1279.04 1576.76 Q1284.81 1576.76 1287.67 1573.74 Q1290.53 1570.75 1290.53 1564.67 L1290.53 1561.77 Q1288.72 1564.92 1285.89 1566.48 Q1283.05 1568.04 1279.11 1568.04 Q1272.55 1568.04 1268.54 1563.05 Q1264.53 1558.05 1264.53 1549.81 Q1264.53 1541.53 1268.54 1536.53 Q1272.55 1531.54 1279.11 1531.54 Q1283.05 1531.54 1285.89 1533.1 Q1288.72 1534.66 1290.53 1537.81 L1290.53 1532.4 L1296.39 1532.4 L1296.39 1563.62 Z\" fill=\"#000000\" fill-rule=\"evenodd\" fill-opacity=\"1\" /><path clip-path=\"url(#clip150)\" d=\"M1310.4 1562.63 L1320.9 1562.63 L1320.9 1526.38 L1309.47 1528.67 L1309.47 1522.82 L1320.83 1520.52 L1327.26 1520.52 L1327.26 1562.63 L1337.77 1562.63 L1337.77 1568.04 L1310.4 1568.04 L1310.4 1562.63 Z\" fill=\"#000000\" fill-rule=\"evenodd\" fill-opacity=\"1\" /><polyline clip-path=\"url(#clip152)\" style=\"stroke:#000000; stroke-linecap:butt; stroke-linejoin:round; stroke-width:2; stroke-opacity:0.1; fill:none\" points=\"\n",
       "  249.542,1310.44 2352.76,1310.44 \n",
       "  \"/>\n",
       "<polyline clip-path=\"url(#clip152)\" style=\"stroke:#000000; stroke-linecap:butt; stroke-linejoin:round; stroke-width:2; stroke-opacity:0.1; fill:none\" points=\"\n",
       "  249.542,1026.28 2352.76,1026.28 \n",
       "  \"/>\n",
       "<polyline clip-path=\"url(#clip152)\" style=\"stroke:#000000; stroke-linecap:butt; stroke-linejoin:round; stroke-width:2; stroke-opacity:0.1; fill:none\" points=\"\n",
       "  249.542,742.114 2352.76,742.114 \n",
       "  \"/>\n",
       "<polyline clip-path=\"url(#clip152)\" style=\"stroke:#000000; stroke-linecap:butt; stroke-linejoin:round; stroke-width:2; stroke-opacity:0.1; fill:none\" points=\"\n",
       "  249.542,457.952 2352.76,457.952 \n",
       "  \"/>\n",
       "<polyline clip-path=\"url(#clip152)\" style=\"stroke:#000000; stroke-linecap:butt; stroke-linejoin:round; stroke-width:2; stroke-opacity:0.1; fill:none\" points=\"\n",
       "  249.542,173.79 2352.76,173.79 \n",
       "  \"/>\n",
       "<polyline clip-path=\"url(#clip150)\" style=\"stroke:#000000; stroke-linecap:butt; stroke-linejoin:round; stroke-width:4; stroke-opacity:1; fill:none\" points=\"\n",
       "  249.542,1423.18 249.542,47.2441 \n",
       "  \"/>\n",
       "<polyline clip-path=\"url(#clip150)\" style=\"stroke:#000000; stroke-linecap:butt; stroke-linejoin:round; stroke-width:4; stroke-opacity:1; fill:none\" points=\"\n",
       "  249.542,1310.44 268.44,1310.44 \n",
       "  \"/>\n",
       "<polyline clip-path=\"url(#clip150)\" style=\"stroke:#000000; stroke-linecap:butt; stroke-linejoin:round; stroke-width:4; stroke-opacity:1; fill:none\" points=\"\n",
       "  249.542,1026.28 268.44,1026.28 \n",
       "  \"/>\n",
       "<polyline clip-path=\"url(#clip150)\" style=\"stroke:#000000; stroke-linecap:butt; stroke-linejoin:round; stroke-width:4; stroke-opacity:1; fill:none\" points=\"\n",
       "  249.542,742.114 268.44,742.114 \n",
       "  \"/>\n",
       "<polyline clip-path=\"url(#clip150)\" style=\"stroke:#000000; stroke-linecap:butt; stroke-linejoin:round; stroke-width:4; stroke-opacity:1; fill:none\" points=\"\n",
       "  249.542,457.952 268.44,457.952 \n",
       "  \"/>\n",
       "<polyline clip-path=\"url(#clip150)\" style=\"stroke:#000000; stroke-linecap:butt; stroke-linejoin:round; stroke-width:4; stroke-opacity:1; fill:none\" points=\"\n",
       "  249.542,173.79 268.44,173.79 \n",
       "  \"/>\n",
       "<path clip-path=\"url(#clip150)\" d=\"M126.205 1296.24 Q122.593 1296.24 120.765 1299.8 Q118.959 1303.34 118.959 1310.47 Q118.959 1317.58 120.765 1321.14 Q122.593 1324.69 126.205 1324.69 Q129.839 1324.69 131.644 1321.14 Q133.473 1317.58 133.473 1310.47 Q133.473 1303.34 131.644 1299.8 Q129.839 1296.24 126.205 1296.24 M126.205 1292.53 Q132.015 1292.53 135.07 1297.14 Q138.149 1301.72 138.149 1310.47 Q138.149 1319.2 135.07 1323.81 Q132.015 1328.39 126.205 1328.39 Q120.394 1328.39 117.316 1323.81 Q114.26 1319.2 114.26 1310.47 Q114.26 1301.72 117.316 1297.14 Q120.394 1292.53 126.205 1292.53 Z\" fill=\"#000000\" fill-rule=\"evenodd\" fill-opacity=\"1\" /><path clip-path=\"url(#clip150)\" d=\"M146.366 1321.84 L151.251 1321.84 L151.251 1327.72 L146.366 1327.72 L146.366 1321.84 Z\" fill=\"#000000\" fill-rule=\"evenodd\" fill-opacity=\"1\" /><path clip-path=\"url(#clip150)\" d=\"M171.436 1296.24 Q167.825 1296.24 165.996 1299.8 Q164.19 1303.34 164.19 1310.47 Q164.19 1317.58 165.996 1321.14 Q167.825 1324.69 171.436 1324.69 Q175.07 1324.69 176.876 1321.14 Q178.704 1317.58 178.704 1310.47 Q178.704 1303.34 176.876 1299.8 Q175.07 1296.24 171.436 1296.24 M171.436 1292.53 Q177.246 1292.53 180.301 1297.14 Q183.38 1301.72 183.38 1310.47 Q183.38 1319.2 180.301 1323.81 Q177.246 1328.39 171.436 1328.39 Q165.626 1328.39 162.547 1323.81 Q159.491 1319.2 159.491 1310.47 Q159.491 1301.72 162.547 1297.14 Q165.626 1292.53 171.436 1292.53 Z\" fill=\"#000000\" fill-rule=\"evenodd\" fill-opacity=\"1\" /><path clip-path=\"url(#clip150)\" d=\"M201.598 1296.24 Q197.987 1296.24 196.158 1299.8 Q194.352 1303.34 194.352 1310.47 Q194.352 1317.58 196.158 1321.14 Q197.987 1324.69 201.598 1324.69 Q205.232 1324.69 207.037 1321.14 Q208.866 1317.58 208.866 1310.47 Q208.866 1303.34 207.037 1299.8 Q205.232 1296.24 201.598 1296.24 M201.598 1292.53 Q207.408 1292.53 210.463 1297.14 Q213.542 1301.72 213.542 1310.47 Q213.542 1319.2 210.463 1323.81 Q207.408 1328.39 201.598 1328.39 Q195.787 1328.39 192.709 1323.81 Q189.653 1319.2 189.653 1310.47 Q189.653 1301.72 192.709 1297.14 Q195.787 1292.53 201.598 1292.53 Z\" fill=\"#000000\" fill-rule=\"evenodd\" fill-opacity=\"1\" /><path clip-path=\"url(#clip150)\" d=\"M127.2 1012.07 Q123.589 1012.07 121.76 1015.64 Q119.955 1019.18 119.955 1026.31 Q119.955 1033.42 121.76 1036.98 Q123.589 1040.52 127.2 1040.52 Q130.834 1040.52 132.64 1036.98 Q134.468 1033.42 134.468 1026.31 Q134.468 1019.18 132.64 1015.64 Q130.834 1012.07 127.2 1012.07 M127.2 1008.37 Q133.01 1008.37 136.066 1012.98 Q139.144 1017.56 139.144 1026.31 Q139.144 1035.04 136.066 1039.64 Q133.01 1044.23 127.2 1044.23 Q121.39 1044.23 118.311 1039.64 Q115.256 1035.04 115.256 1026.31 Q115.256 1017.56 118.311 1012.98 Q121.39 1008.37 127.2 1008.37 Z\" fill=\"#000000\" fill-rule=\"evenodd\" fill-opacity=\"1\" /><path clip-path=\"url(#clip150)\" d=\"M147.362 1037.68 L152.246 1037.68 L152.246 1043.56 L147.362 1043.56 L147.362 1037.68 Z\" fill=\"#000000\" fill-rule=\"evenodd\" fill-opacity=\"1\" /><path clip-path=\"url(#clip150)\" d=\"M166.459 1039.62 L182.778 1039.62 L182.778 1043.56 L160.834 1043.56 L160.834 1039.62 Q163.496 1036.87 168.079 1032.24 Q172.686 1027.58 173.866 1026.24 Q176.112 1023.72 176.991 1021.98 Q177.894 1020.22 177.894 1018.53 Q177.894 1015.78 175.95 1014.04 Q174.028 1012.31 170.927 1012.31 Q168.727 1012.31 166.274 1013.07 Q163.843 1013.83 161.065 1015.38 L161.065 1010.66 Q163.89 1009.53 166.343 1008.95 Q168.797 1008.37 170.834 1008.37 Q176.204 1008.37 179.399 1011.06 Q182.593 1013.74 182.593 1018.23 Q182.593 1020.36 181.783 1022.28 Q180.996 1024.18 178.889 1026.77 Q178.311 1027.44 175.209 1030.66 Q172.107 1033.86 166.459 1039.62 Z\" fill=\"#000000\" fill-rule=\"evenodd\" fill-opacity=\"1\" /><path clip-path=\"url(#clip150)\" d=\"M192.639 1009 L210.996 1009 L210.996 1012.93 L196.922 1012.93 L196.922 1021.4 Q197.94 1021.06 198.959 1020.89 Q199.977 1020.71 200.996 1020.71 Q206.783 1020.71 210.162 1023.88 Q213.542 1027.05 213.542 1032.47 Q213.542 1038.05 210.07 1041.15 Q206.598 1044.23 200.278 1044.23 Q198.102 1044.23 195.834 1043.86 Q193.588 1043.49 191.181 1042.75 L191.181 1038.05 Q193.264 1039.18 195.487 1039.74 Q197.709 1040.29 200.186 1040.29 Q204.19 1040.29 206.528 1038.19 Q208.866 1036.08 208.866 1032.47 Q208.866 1028.86 206.528 1026.75 Q204.19 1024.64 200.186 1024.64 Q198.311 1024.64 196.436 1025.06 Q194.584 1025.48 192.639 1026.36 L192.639 1009 Z\" fill=\"#000000\" fill-rule=\"evenodd\" fill-opacity=\"1\" /><path clip-path=\"url(#clip150)\" d=\"M126.205 727.912 Q122.593 727.912 120.765 731.477 Q118.959 735.019 118.959 742.148 Q118.959 749.255 120.765 752.82 Q122.593 756.361 126.205 756.361 Q129.839 756.361 131.644 752.82 Q133.473 749.255 133.473 742.148 Q133.473 735.019 131.644 731.477 Q129.839 727.912 126.205 727.912 M126.205 724.209 Q132.015 724.209 135.07 728.815 Q138.149 733.399 138.149 742.148 Q138.149 750.875 135.07 755.482 Q132.015 760.065 126.205 760.065 Q120.394 760.065 117.316 755.482 Q114.26 750.875 114.26 742.148 Q114.26 733.399 117.316 728.815 Q120.394 724.209 126.205 724.209 Z\" fill=\"#000000\" fill-rule=\"evenodd\" fill-opacity=\"1\" /><path clip-path=\"url(#clip150)\" d=\"M146.366 753.514 L151.251 753.514 L151.251 759.394 L146.366 759.394 L146.366 753.514 Z\" fill=\"#000000\" fill-rule=\"evenodd\" fill-opacity=\"1\" /><path clip-path=\"url(#clip150)\" d=\"M161.482 724.834 L179.839 724.834 L179.839 728.769 L165.765 728.769 L165.765 737.241 Q166.783 736.894 167.802 736.732 Q168.82 736.547 169.839 736.547 Q175.626 736.547 179.005 739.718 Q182.385 742.889 182.385 748.306 Q182.385 753.885 178.913 756.986 Q175.44 760.065 169.121 760.065 Q166.945 760.065 164.677 759.695 Q162.431 759.324 160.024 758.584 L160.024 753.885 Q162.107 755.019 164.329 755.574 Q166.552 756.13 169.028 756.13 Q173.033 756.13 175.371 754.023 Q177.709 751.917 177.709 748.306 Q177.709 744.695 175.371 742.588 Q173.033 740.482 169.028 740.482 Q167.153 740.482 165.278 740.898 Q163.427 741.315 161.482 742.195 L161.482 724.834 Z\" fill=\"#000000\" fill-rule=\"evenodd\" fill-opacity=\"1\" /><path clip-path=\"url(#clip150)\" d=\"M201.598 727.912 Q197.987 727.912 196.158 731.477 Q194.352 735.019 194.352 742.148 Q194.352 749.255 196.158 752.82 Q197.987 756.361 201.598 756.361 Q205.232 756.361 207.037 752.82 Q208.866 749.255 208.866 742.148 Q208.866 735.019 207.037 731.477 Q205.232 727.912 201.598 727.912 M201.598 724.209 Q207.408 724.209 210.463 728.815 Q213.542 733.399 213.542 742.148 Q213.542 750.875 210.463 755.482 Q207.408 760.065 201.598 760.065 Q195.787 760.065 192.709 755.482 Q189.653 750.875 189.653 742.148 Q189.653 733.399 192.709 728.815 Q195.787 724.209 201.598 724.209 Z\" fill=\"#000000\" fill-rule=\"evenodd\" fill-opacity=\"1\" /><path clip-path=\"url(#clip150)\" d=\"M127.2 443.751 Q123.589 443.751 121.76 447.315 Q119.955 450.857 119.955 457.987 Q119.955 465.093 121.76 468.658 Q123.589 472.199 127.2 472.199 Q130.834 472.199 132.64 468.658 Q134.468 465.093 134.468 457.987 Q134.468 450.857 132.64 447.315 Q130.834 443.751 127.2 443.751 M127.2 440.047 Q133.01 440.047 136.066 444.653 Q139.144 449.237 139.144 457.987 Q139.144 466.713 136.066 471.32 Q133.01 475.903 127.2 475.903 Q121.39 475.903 118.311 471.32 Q115.256 466.713 115.256 457.987 Q115.256 449.237 118.311 444.653 Q121.39 440.047 127.2 440.047 Z\" fill=\"#000000\" fill-rule=\"evenodd\" fill-opacity=\"1\" /><path clip-path=\"url(#clip150)\" d=\"M147.362 469.352 L152.246 469.352 L152.246 475.232 L147.362 475.232 L147.362 469.352 Z\" fill=\"#000000\" fill-rule=\"evenodd\" fill-opacity=\"1\" /><path clip-path=\"url(#clip150)\" d=\"M161.251 440.672 L183.473 440.672 L183.473 442.663 L170.927 475.232 L166.042 475.232 L177.848 444.607 L161.251 444.607 L161.251 440.672 Z\" fill=\"#000000\" fill-rule=\"evenodd\" fill-opacity=\"1\" /><path clip-path=\"url(#clip150)\" d=\"M192.639 440.672 L210.996 440.672 L210.996 444.607 L196.922 444.607 L196.922 453.079 Q197.94 452.732 198.959 452.57 Q199.977 452.385 200.996 452.385 Q206.783 452.385 210.162 455.556 Q213.542 458.727 213.542 464.144 Q213.542 469.723 210.07 472.824 Q206.598 475.903 200.278 475.903 Q198.102 475.903 195.834 475.533 Q193.588 475.162 191.181 474.422 L191.181 469.723 Q193.264 470.857 195.487 471.412 Q197.709 471.968 200.186 471.968 Q204.19 471.968 206.528 469.862 Q208.866 467.755 208.866 464.144 Q208.866 460.533 206.528 458.426 Q204.19 456.32 200.186 456.32 Q198.311 456.32 196.436 456.737 Q194.584 457.153 192.639 458.033 L192.639 440.672 Z\" fill=\"#000000\" fill-rule=\"evenodd\" fill-opacity=\"1\" /><path clip-path=\"url(#clip150)\" d=\"M117.015 187.135 L124.654 187.135 L124.654 160.769 L116.343 162.436 L116.343 158.177 L124.607 156.51 L129.283 156.51 L129.283 187.135 L136.922 187.135 L136.922 191.07 L117.015 191.07 L117.015 187.135 Z\" fill=\"#000000\" fill-rule=\"evenodd\" fill-opacity=\"1\" /><path clip-path=\"url(#clip150)\" d=\"M146.366 185.19 L151.251 185.19 L151.251 191.07 L146.366 191.07 L146.366 185.19 Z\" fill=\"#000000\" fill-rule=\"evenodd\" fill-opacity=\"1\" /><path clip-path=\"url(#clip150)\" d=\"M171.436 159.589 Q167.825 159.589 165.996 163.153 Q164.19 166.695 164.19 173.825 Q164.19 180.931 165.996 184.496 Q167.825 188.038 171.436 188.038 Q175.07 188.038 176.876 184.496 Q178.704 180.931 178.704 173.825 Q178.704 166.695 176.876 163.153 Q175.07 159.589 171.436 159.589 M171.436 155.885 Q177.246 155.885 180.301 160.491 Q183.38 165.075 183.38 173.825 Q183.38 182.552 180.301 187.158 Q177.246 191.741 171.436 191.741 Q165.626 191.741 162.547 187.158 Q159.491 182.552 159.491 173.825 Q159.491 165.075 162.547 160.491 Q165.626 155.885 171.436 155.885 Z\" fill=\"#000000\" fill-rule=\"evenodd\" fill-opacity=\"1\" /><path clip-path=\"url(#clip150)\" d=\"M201.598 159.589 Q197.987 159.589 196.158 163.153 Q194.352 166.695 194.352 173.825 Q194.352 180.931 196.158 184.496 Q197.987 188.038 201.598 188.038 Q205.232 188.038 207.037 184.496 Q208.866 180.931 208.866 173.825 Q208.866 166.695 207.037 163.153 Q205.232 159.589 201.598 159.589 M201.598 155.885 Q207.408 155.885 210.463 160.491 Q213.542 165.075 213.542 173.825 Q213.542 182.552 210.463 187.158 Q207.408 191.741 201.598 191.741 Q195.787 191.741 192.709 187.158 Q189.653 182.552 189.653 173.825 Q189.653 165.075 192.709 160.491 Q195.787 155.885 201.598 155.885 Z\" fill=\"#000000\" fill-rule=\"evenodd\" fill-opacity=\"1\" /><path clip-path=\"url(#clip150)\" d=\"M45.7664 745.572 Q39.4007 745.572 35.8996 748.214 Q32.3984 750.824 32.3984 755.566 Q32.3984 760.277 35.8996 762.919 Q39.4007 765.529 45.7664 765.529 Q52.1003 765.529 55.6014 762.919 Q59.1026 760.277 59.1026 755.566 Q59.1026 750.824 55.6014 748.214 Q52.1003 745.572 45.7664 745.572 M59.58 739.716 Q68.683 739.716 73.1071 743.758 Q77.5631 747.8 77.5631 756.139 Q77.5631 759.227 77.0857 761.964 Q76.6401 764.701 75.6852 767.279 L69.9879 767.279 Q71.3884 764.701 72.0568 762.187 Q72.7252 759.672 72.7252 757.062 Q72.7252 751.301 69.7015 748.437 Q66.7096 745.572 60.6303 745.572 L57.7339 745.572 Q60.885 747.386 62.4446 750.219 Q64.0042 753.052 64.0042 756.999 Q64.0042 763.555 59.0071 767.566 Q54.01 771.576 45.7664 771.576 Q37.491 771.576 32.4939 767.566 Q27.4968 763.555 27.4968 756.999 Q27.4968 753.052 29.0564 750.219 Q30.616 747.386 33.7671 745.572 L28.3562 745.572 L28.3562 739.716 L59.58 739.716 Z\" fill=\"#000000\" fill-rule=\"evenodd\" fill-opacity=\"1\" /><path clip-path=\"url(#clip150)\" d=\"M58.5933 721.287 L58.5933 698.848 L64.0042 698.848 L64.0042 729.021 L58.5933 729.021 Q54.8057 725.361 48.44 719.059 Q42.0425 712.725 40.1964 711.102 Q36.7271 708.014 34.34 706.805 Q31.921 705.564 29.5975 705.564 Q25.8099 705.564 23.4228 708.237 Q21.0356 710.879 21.0356 715.144 Q21.0356 718.168 22.086 721.542 Q23.1363 724.884 25.2688 728.703 L18.7758 728.703 Q17.2162 724.82 16.4205 721.446 Q15.6248 718.072 15.6248 715.271 Q15.6248 707.887 19.3169 703.495 Q23.009 699.102 29.1837 699.102 Q32.112 699.102 34.7537 700.216 Q37.3637 701.299 40.9285 704.195 Q41.8515 704.991 46.2757 709.256 Q50.668 713.521 58.5933 721.287 Z\" fill=\"#000000\" fill-rule=\"evenodd\" fill-opacity=\"1\" /><circle clip-path=\"url(#clip152)\" cx=\"316.552\" cy=\"708.666\" r=\"14\" fill=\"#6b9e32\" fill-rule=\"evenodd\" fill-opacity=\"1\" stroke=\"#000000\" stroke-opacity=\"1\" stroke-width=\"3.2\"/>\n",
       "<circle clip-path=\"url(#clip152)\" cx=\"755.798\" cy=\"950.423\" r=\"14\" fill=\"#6b9e32\" fill-rule=\"evenodd\" fill-opacity=\"1\" stroke=\"#000000\" stroke-opacity=\"1\" stroke-width=\"3.2\"/>\n",
       "<circle clip-path=\"url(#clip152)\" cx=\"748.782\" cy=\"956.275\" r=\"14\" fill=\"#6b9e32\" fill-rule=\"evenodd\" fill-opacity=\"1\" stroke=\"#000000\" stroke-opacity=\"1\" stroke-width=\"3.2\"/>\n",
       "<circle clip-path=\"url(#clip152)\" cx=\"696.446\" cy=\"975.688\" r=\"14\" fill=\"#6b9e32\" fill-rule=\"evenodd\" fill-opacity=\"1\" stroke=\"#000000\" stroke-opacity=\"1\" stroke-width=\"3.2\"/>\n",
       "<circle clip-path=\"url(#clip152)\" cx=\"736.052\" cy=\"957.202\" r=\"14\" fill=\"#6b9e32\" fill-rule=\"evenodd\" fill-opacity=\"1\" stroke=\"#000000\" stroke-opacity=\"1\" stroke-width=\"3.2\"/>\n",
       "<circle clip-path=\"url(#clip152)\" cx=\"741.15\" cy=\"954.188\" r=\"14\" fill=\"#6b9e32\" fill-rule=\"evenodd\" fill-opacity=\"1\" stroke=\"#000000\" stroke-opacity=\"1\" stroke-width=\"3.2\"/>\n",
       "<circle clip-path=\"url(#clip152)\" cx=\"701.734\" cy=\"977.165\" r=\"14\" fill=\"#6b9e32\" fill-rule=\"evenodd\" fill-opacity=\"1\" stroke=\"#000000\" stroke-opacity=\"1\" stroke-width=\"3.2\"/>\n",
       "<circle clip-path=\"url(#clip152)\" cx=\"705.789\" cy=\"993.962\" r=\"14\" fill=\"#6b9e32\" fill-rule=\"evenodd\" fill-opacity=\"1\" stroke=\"#000000\" stroke-opacity=\"1\" stroke-width=\"3.2\"/>\n",
       "<circle clip-path=\"url(#clip152)\" cx=\"778.205\" cy=\"938.077\" r=\"14\" fill=\"#6b9e32\" fill-rule=\"evenodd\" fill-opacity=\"1\" stroke=\"#000000\" stroke-opacity=\"1\" stroke-width=\"3.2\"/>\n",
       "<circle clip-path=\"url(#clip152)\" cx=\"714.717\" cy=\"946.7\" r=\"14\" fill=\"#009af9\" fill-rule=\"evenodd\" fill-opacity=\"1\" stroke=\"#000000\" stroke-opacity=\"1\" stroke-width=\"3.2\"/>\n",
       "<circle clip-path=\"url(#clip152)\" cx=\"792.669\" cy=\"1307.89\" r=\"14\" fill=\"#009af9\" fill-rule=\"evenodd\" fill-opacity=\"1\" stroke=\"#000000\" stroke-opacity=\"1\" stroke-width=\"3.2\"/>\n",
       "<circle clip-path=\"url(#clip152)\" cx=\"804.463\" cy=\"1343.99\" r=\"14\" fill=\"#6b9e32\" fill-rule=\"evenodd\" fill-opacity=\"1\" stroke=\"#000000\" stroke-opacity=\"1\" stroke-width=\"3.2\"/>\n",
       "<circle clip-path=\"url(#clip152)\" cx=\"750.95\" cy=\"1284.75\" r=\"14\" fill=\"#009af9\" fill-rule=\"evenodd\" fill-opacity=\"1\" stroke=\"#000000\" stroke-opacity=\"1\" stroke-width=\"3.2\"/>\n",
       "<circle clip-path=\"url(#clip152)\" cx=\"845.798\" cy=\"1297.87\" r=\"14\" fill=\"#009af9\" fill-rule=\"evenodd\" fill-opacity=\"1\" stroke=\"#000000\" stroke-opacity=\"1\" stroke-width=\"3.2\"/>\n",
       "<circle clip-path=\"url(#clip152)\" cx=\"805.742\" cy=\"1290.85\" r=\"14\" fill=\"#009af9\" fill-rule=\"evenodd\" fill-opacity=\"1\" stroke=\"#000000\" stroke-opacity=\"1\" stroke-width=\"3.2\"/>\n",
       "<circle clip-path=\"url(#clip152)\" cx=\"1791.57\" cy=\"187.532\" r=\"14\" fill=\"#009af9\" fill-rule=\"evenodd\" fill-opacity=\"1\" stroke=\"#000000\" stroke-opacity=\"1\" stroke-width=\"3.2\"/>\n",
       "<circle clip-path=\"url(#clip152)\" cx=\"1729.32\" cy=\"86.1857\" r=\"14\" fill=\"#6b9e32\" fill-rule=\"evenodd\" fill-opacity=\"1\" stroke=\"#000000\" stroke-opacity=\"1\" stroke-width=\"3.2\"/>\n",
       "<circle clip-path=\"url(#clip152)\" cx=\"2236.31\" cy=\"158.807\" r=\"14\" fill=\"#009af9\" fill-rule=\"evenodd\" fill-opacity=\"1\" stroke=\"#000000\" stroke-opacity=\"1\" stroke-width=\"3.2\"/>\n",
       "<circle clip-path=\"url(#clip152)\" cx=\"2260.01\" cy=\"182.812\" r=\"14\" fill=\"#6b9e32\" fill-rule=\"evenodd\" fill-opacity=\"1\" stroke=\"#000000\" stroke-opacity=\"1\" stroke-width=\"3.2\"/>\n",
       "<circle clip-path=\"url(#clip152)\" cx=\"2198.91\" cy=\"213.816\" r=\"14\" fill=\"#6b9e32\" fill-rule=\"evenodd\" fill-opacity=\"1\" stroke=\"#000000\" stroke-opacity=\"1\" stroke-width=\"3.2\"/>\n",
       "<circle clip-path=\"url(#clip152)\" cx=\"309.067\" cy=\"736.207\" r=\"14\" fill=\"#6b9e32\" fill-rule=\"evenodd\" fill-opacity=\"1\" stroke=\"#000000\" stroke-opacity=\"1\" stroke-width=\"3.2\"/>\n",
       "<circle clip-path=\"url(#clip152)\" cx=\"739.48\" cy=\"917.637\" r=\"14\" fill=\"#6b9e32\" fill-rule=\"evenodd\" fill-opacity=\"1\" stroke=\"#000000\" stroke-opacity=\"1\" stroke-width=\"3.2\"/>\n",
       "<circle clip-path=\"url(#clip152)\" cx=\"691.877\" cy=\"955.15\" r=\"14\" fill=\"#6b9e32\" fill-rule=\"evenodd\" fill-opacity=\"1\" stroke=\"#000000\" stroke-opacity=\"1\" stroke-width=\"3.2\"/>\n",
       "<circle clip-path=\"url(#clip152)\" cx=\"739.788\" cy=\"991.01\" r=\"14\" fill=\"#6b9e32\" fill-rule=\"evenodd\" fill-opacity=\"1\" stroke=\"#000000\" stroke-opacity=\"1\" stroke-width=\"3.2\"/>\n",
       "<circle clip-path=\"url(#clip152)\" cx=\"699.12\" cy=\"1022.73\" r=\"14\" fill=\"#6b9e32\" fill-rule=\"evenodd\" fill-opacity=\"1\" stroke=\"#000000\" stroke-opacity=\"1\" stroke-width=\"3.2\"/>\n",
       "<circle clip-path=\"url(#clip152)\" cx=\"731.94\" cy=\"913.373\" r=\"14\" fill=\"#6b9e32\" fill-rule=\"evenodd\" fill-opacity=\"1\" stroke=\"#000000\" stroke-opacity=\"1\" stroke-width=\"3.2\"/>\n",
       "<circle clip-path=\"url(#clip152)\" cx=\"714.031\" cy=\"971.197\" r=\"14\" fill=\"#6b9e32\" fill-rule=\"evenodd\" fill-opacity=\"1\" stroke=\"#000000\" stroke-opacity=\"1\" stroke-width=\"3.2\"/>\n",
       "<circle clip-path=\"url(#clip152)\" cx=\"734.998\" cy=\"921.229\" r=\"14\" fill=\"#6b9e32\" fill-rule=\"evenodd\" fill-opacity=\"1\" stroke=\"#000000\" stroke-opacity=\"1\" stroke-width=\"3.2\"/>\n",
       "<circle clip-path=\"url(#clip152)\" cx=\"714.95\" cy=\"994.732\" r=\"14\" fill=\"#6b9e32\" fill-rule=\"evenodd\" fill-opacity=\"1\" stroke=\"#000000\" stroke-opacity=\"1\" stroke-width=\"3.2\"/>\n",
       "<circle clip-path=\"url(#clip152)\" cx=\"748.21\" cy=\"977.471\" r=\"14\" fill=\"#009af9\" fill-rule=\"evenodd\" fill-opacity=\"1\" stroke=\"#000000\" stroke-opacity=\"1\" stroke-width=\"3.2\"/>\n",
       "<circle clip-path=\"url(#clip152)\" cx=\"893.895\" cy=\"1269.44\" r=\"14\" fill=\"#009af9\" fill-rule=\"evenodd\" fill-opacity=\"1\" stroke=\"#000000\" stroke-opacity=\"1\" stroke-width=\"3.2\"/>\n",
       "<circle clip-path=\"url(#clip152)\" cx=\"830.765\" cy=\"1308.23\" r=\"14\" fill=\"#6b9e32\" fill-rule=\"evenodd\" fill-opacity=\"1\" stroke=\"#000000\" stroke-opacity=\"1\" stroke-width=\"3.2\"/>\n",
       "<circle clip-path=\"url(#clip152)\" cx=\"858.885\" cy=\"1274.72\" r=\"14\" fill=\"#009af9\" fill-rule=\"evenodd\" fill-opacity=\"1\" stroke=\"#000000\" stroke-opacity=\"1\" stroke-width=\"3.2\"/>\n",
       "<circle clip-path=\"url(#clip152)\" cx=\"822.043\" cy=\"1384.24\" r=\"14\" fill=\"#009af9\" fill-rule=\"evenodd\" fill-opacity=\"1\" stroke=\"#000000\" stroke-opacity=\"1\" stroke-width=\"3.2\"/>\n",
       "<circle clip-path=\"url(#clip152)\" cx=\"811.269\" cy=\"1271.33\" r=\"14\" fill=\"#009af9\" fill-rule=\"evenodd\" fill-opacity=\"1\" stroke=\"#000000\" stroke-opacity=\"1\" stroke-width=\"3.2\"/>\n",
       "<circle clip-path=\"url(#clip152)\" cx=\"1794.01\" cy=\"226.576\" r=\"14\" fill=\"#009af9\" fill-rule=\"evenodd\" fill-opacity=\"1\" stroke=\"#000000\" stroke-opacity=\"1\" stroke-width=\"3.2\"/>\n",
       "<circle clip-path=\"url(#clip152)\" cx=\"1768.08\" cy=\"253.711\" r=\"14\" fill=\"#6b9e32\" fill-rule=\"evenodd\" fill-opacity=\"1\" stroke=\"#000000\" stroke-opacity=\"1\" stroke-width=\"3.2\"/>\n",
       "<circle clip-path=\"url(#clip152)\" cx=\"2284.22\" cy=\"188.722\" r=\"14\" fill=\"#009af9\" fill-rule=\"evenodd\" fill-opacity=\"1\" stroke=\"#000000\" stroke-opacity=\"1\" stroke-width=\"3.2\"/>\n",
       "<circle clip-path=\"url(#clip152)\" cx=\"2243.14\" cy=\"254.397\" r=\"14\" fill=\"#6b9e32\" fill-rule=\"evenodd\" fill-opacity=\"1\" stroke=\"#000000\" stroke-opacity=\"1\" stroke-width=\"3.2\"/>\n",
       "<circle clip-path=\"url(#clip152)\" cx=\"2293.23\" cy=\"155.717\" r=\"14\" fill=\"#6b9e32\" fill-rule=\"evenodd\" fill-opacity=\"1\" stroke=\"#000000\" stroke-opacity=\"1\" stroke-width=\"3.2\"/>\n",
       "<circle clip-path=\"url(#clip152)\" cx=\"324.117\" cy=\"742.519\" r=\"14\" fill=\"#6b9e32\" fill-rule=\"evenodd\" fill-opacity=\"1\" stroke=\"#000000\" stroke-opacity=\"1\" stroke-width=\"3.2\"/>\n",
       "<circle clip-path=\"url(#clip152)\" cx=\"729.444\" cy=\"947.104\" r=\"14\" fill=\"#6b9e32\" fill-rule=\"evenodd\" fill-opacity=\"1\" stroke=\"#000000\" stroke-opacity=\"1\" stroke-width=\"3.2\"/>\n",
       "<circle clip-path=\"url(#clip152)\" cx=\"732.33\" cy=\"956.203\" r=\"14\" fill=\"#6b9e32\" fill-rule=\"evenodd\" fill-opacity=\"1\" stroke=\"#000000\" stroke-opacity=\"1\" stroke-width=\"3.2\"/>\n",
       "<circle clip-path=\"url(#clip152)\" cx=\"736.162\" cy=\"962.858\" r=\"14\" fill=\"#6b9e32\" fill-rule=\"evenodd\" fill-opacity=\"1\" stroke=\"#000000\" stroke-opacity=\"1\" stroke-width=\"3.2\"/>\n",
       "<circle clip-path=\"url(#clip152)\" cx=\"730.693\" cy=\"952.576\" r=\"14\" fill=\"#6b9e32\" fill-rule=\"evenodd\" fill-opacity=\"1\" stroke=\"#000000\" stroke-opacity=\"1\" stroke-width=\"3.2\"/>\n",
       "<circle clip-path=\"url(#clip152)\" cx=\"777.141\" cy=\"1018.86\" r=\"14\" fill=\"#6b9e32\" fill-rule=\"evenodd\" fill-opacity=\"1\" stroke=\"#000000\" stroke-opacity=\"1\" stroke-width=\"3.2\"/>\n",
       "<circle clip-path=\"url(#clip152)\" cx=\"764.634\" cy=\"948.78\" r=\"14\" fill=\"#6b9e32\" fill-rule=\"evenodd\" fill-opacity=\"1\" stroke=\"#000000\" stroke-opacity=\"1\" stroke-width=\"3.2\"/>\n",
       "<circle clip-path=\"url(#clip152)\" cx=\"768.923\" cy=\"985.212\" r=\"14\" fill=\"#6b9e32\" fill-rule=\"evenodd\" fill-opacity=\"1\" stroke=\"#000000\" stroke-opacity=\"1\" stroke-width=\"3.2\"/>\n",
       "<circle clip-path=\"url(#clip152)\" cx=\"735.813\" cy=\"946.271\" r=\"14\" fill=\"#6b9e32\" fill-rule=\"evenodd\" fill-opacity=\"1\" stroke=\"#000000\" stroke-opacity=\"1\" stroke-width=\"3.2\"/>\n",
       "<circle clip-path=\"url(#clip152)\" cx=\"736.262\" cy=\"945.967\" r=\"14\" fill=\"#009af9\" fill-rule=\"evenodd\" fill-opacity=\"1\" stroke=\"#000000\" stroke-opacity=\"1\" stroke-width=\"3.2\"/>\n",
       "<circle clip-path=\"url(#clip152)\" cx=\"777.618\" cy=\"1268.58\" r=\"14\" fill=\"#009af9\" fill-rule=\"evenodd\" fill-opacity=\"1\" stroke=\"#000000\" stroke-opacity=\"1\" stroke-width=\"3.2\"/>\n",
       "<circle clip-path=\"url(#clip152)\" cx=\"779.368\" cy=\"1324.64\" r=\"14\" fill=\"#6b9e32\" fill-rule=\"evenodd\" fill-opacity=\"1\" stroke=\"#000000\" stroke-opacity=\"1\" stroke-width=\"3.2\"/>\n",
       "<circle clip-path=\"url(#clip152)\" cx=\"798.298\" cy=\"1379.39\" r=\"14\" fill=\"#009af9\" fill-rule=\"evenodd\" fill-opacity=\"1\" stroke=\"#000000\" stroke-opacity=\"1\" stroke-width=\"3.2\"/>\n",
       "<circle clip-path=\"url(#clip152)\" cx=\"794.105\" cy=\"1306.38\" r=\"14\" fill=\"#009af9\" fill-rule=\"evenodd\" fill-opacity=\"1\" stroke=\"#000000\" stroke-opacity=\"1\" stroke-width=\"3.2\"/>\n",
       "<circle clip-path=\"url(#clip152)\" cx=\"847.162\" cy=\"1343.71\" r=\"14\" fill=\"#009af9\" fill-rule=\"evenodd\" fill-opacity=\"1\" stroke=\"#000000\" stroke-opacity=\"1\" stroke-width=\"3.2\"/>\n",
       "<circle clip-path=\"url(#clip152)\" cx=\"1742.71\" cy=\"111.892\" r=\"14\" fill=\"#009af9\" fill-rule=\"evenodd\" fill-opacity=\"1\" stroke=\"#000000\" stroke-opacity=\"1\" stroke-width=\"3.2\"/>\n",
       "<circle clip-path=\"url(#clip152)\" cx=\"1847.96\" cy=\"188.49\" r=\"14\" fill=\"#6b9e32\" fill-rule=\"evenodd\" fill-opacity=\"1\" stroke=\"#000000\" stroke-opacity=\"1\" stroke-width=\"3.2\"/>\n",
       "<circle clip-path=\"url(#clip152)\" cx=\"2237.82\" cy=\"197.84\" r=\"14\" fill=\"#009af9\" fill-rule=\"evenodd\" fill-opacity=\"1\" stroke=\"#000000\" stroke-opacity=\"1\" stroke-width=\"3.2\"/>\n",
       "<circle clip-path=\"url(#clip152)\" cx=\"2120.43\" cy=\"155.291\" r=\"14\" fill=\"#6b9e32\" fill-rule=\"evenodd\" fill-opacity=\"1\" stroke=\"#000000\" stroke-opacity=\"1\" stroke-width=\"3.2\"/>\n",
       "<circle clip-path=\"url(#clip152)\" cx=\"2243.5\" cy=\"115.99\" r=\"14\" fill=\"#6b9e32\" fill-rule=\"evenodd\" fill-opacity=\"1\" stroke=\"#000000\" stroke-opacity=\"1\" stroke-width=\"3.2\"/>\n",
       "</svg>\n"
      ]
     },
     "execution_count": 153,
     "metadata": {},
     "output_type": "execute_result"
    }
   ],
   "source": [
    "scatter(data_x[:,1], data_x[:,2], color=Int64.(data_y), legend=false)\n",
    "xlabel!(\"g1\")\n",
    "ylabel!(\"g2\")"
   ]
  },
  {
   "cell_type": "code",
   "execution_count": 15,
   "id": "fancy-ticket",
   "metadata": {},
   "outputs": [],
   "source": [
    "function f(params)\n",
    "    fe = inference_flow_classifier(data_y, [data_x[k,:] for k=1:size(data_x,1)], params)\n",
    "    return fe\n",
    "end;"
   ]
  },
  {
   "cell_type": "code",
   "execution_count": 16,
   "id": "burning-browse",
   "metadata": {},
   "outputs": [],
   "source": [
    "using Random "
   ]
  },
  {
   "cell_type": "code",
   "execution_count": 17,
   "id": "indirect-nowhere",
   "metadata": {},
   "outputs": [
    {
     "data": {
      "text/plain": [
       "2144.1353223332085"
      ]
     },
     "execution_count": 17,
     "metadata": {},
     "output_type": "execute_result"
    }
   ],
   "source": [
    "rng = MersenneTwister(1)\n",
    "\n",
    "f(randn(rng, 12))"
   ]
  },
  {
   "cell_type": "code",
   "execution_count": 18,
   "id": "extensive-stroke",
   "metadata": {},
   "outputs": [
    {
     "name": "stdout",
     "output_type": "stream",
     "text": [
      "Iter     Function value   Gradient norm \n",
      "     0     4.827390e+03     2.487494e+03\n",
      " * time: 0.017110824584960938\n",
      "     1     6.911067e+02     2.234734e+02\n",
      " * time: 1.782470941543579\n",
      "     2     3.306684e+02     1.576267e+02\n",
      " * time: 1.8383359909057617\n",
      "     3     1.053015e+02     2.139047e+02\n",
      " * time: 1.906177043914795\n",
      "     4     6.371654e+01     5.797125e+01\n",
      " * time: 1.9312870502471924\n",
      "     5     5.072392e+01     1.911113e+02\n",
      " * time: 1.9565129280090332\n",
      "     6     4.242221e+01     4.948201e+01\n",
      " * time: 1.989684820175171\n",
      "     7     4.202263e+01     2.135730e+01\n",
      " * time: 2.0169010162353516\n",
      "     8     4.094515e+01     2.916562e+01\n",
      " * time: 2.092797040939331\n",
      "     9     4.025085e+01     3.011016e+01\n",
      " * time: 2.1309309005737305\n",
      "    10     3.602878e+01     1.123091e+02\n",
      " * time: 2.178644895553589\n",
      "    11     3.348154e+01     5.284903e+01\n",
      " * time: 2.2037129402160645\n",
      "    12     3.295780e+01     3.842654e+01\n",
      " * time: 2.25137996673584\n",
      "    13     3.219574e+01     2.267407e+01\n",
      " * time: 2.2779009342193604\n",
      "    14     3.210854e+01     1.793985e+01\n",
      " * time: 2.977756977081299\n",
      "    15     3.006958e+01     6.038097e+01\n",
      " * time: 3.0264298915863037\n",
      "    16     3.002413e+01     6.048583e+01\n",
      " * time: 3.8706798553466797\n",
      "    17     3.002410e+01     6.048407e+01\n",
      " * time: 4.785197019577026\n",
      "    18     2.949831e+01     2.782832e+01\n",
      " * time: 5.450459003448486\n",
      "    19     2.926715e+01     1.669041e+01\n",
      " * time: 5.534265995025635\n",
      "    20     2.926672e+01     1.670644e+01\n",
      " * time: 6.2412989139556885\n",
      "    21     2.894964e+01     2.360548e+01\n",
      " * time: 6.979559898376465\n",
      "    22     2.894871e+01     2.361912e+01\n",
      " * time: 7.777400970458984\n",
      "    23     2.894851e+01     2.362122e+01\n",
      " * time: 8.480687856674194\n",
      "    24     2.892487e+01     2.384785e+01\n",
      " * time: 9.191484928131104\n",
      "    25     2.892476e+01     2.384863e+01\n",
      " * time: 9.951058864593506\n",
      "    26     2.873408e+01     1.702883e+01\n",
      " * time: 10.0760018825531\n",
      "    27     2.873274e+01     1.703446e+01\n",
      " * time: 10.81133484840393\n",
      "    28     2.872099e+01     1.708191e+01\n",
      " * time: 11.578306913375854\n",
      "    29     2.848966e+01     4.382574e+01\n",
      " * time: 11.660537958145142\n",
      "    30     2.826779e+01     5.032442e+01\n",
      " * time: 11.730355024337769\n",
      "    31     2.706693e+01     5.352104e+01\n",
      " * time: 11.790128946304321\n",
      "    32     2.693870e+01     5.548917e+01\n",
      " * time: 12.474475860595703\n",
      "    33     2.693842e+01     5.548849e+01\n",
      " * time: 13.17164397239685\n",
      "    34     2.660175e+01     6.547393e+01\n",
      " * time: 13.868849039077759\n",
      "    35     2.636053e+01     8.152682e+01\n",
      " * time: 14.605617046356201\n",
      "    36     2.599498e+01     4.274568e+01\n",
      " * time: 15.294114828109741\n",
      "    37     2.599495e+01     4.274590e+01\n",
      " * time: 16.14255404472351\n",
      "    38     2.588741e+01     4.053145e+01\n",
      " * time: 16.90582299232483\n",
      "    39     2.586667e+01     3.998157e+01\n",
      " * time: 17.554497957229614\n",
      "    40     2.586663e+01     3.998128e+01\n",
      " * time: 18.395997047424316\n",
      "    41     2.585200e+01     3.947630e+01\n",
      " * time: 19.107825994491577\n",
      "    42     2.584932e+01     3.937446e+01\n",
      " * time: 19.867998838424683\n",
      "    43     2.578983e+01     3.710446e+01\n",
      " * time: 20.660686016082764\n",
      "    44     2.552501e+01     2.995523e+02\n",
      " * time: 21.396000862121582\n",
      "    45     2.552491e+01     2.994425e+02\n",
      " * time: 22.249022960662842\n",
      "    46     2.551987e+01     2.972324e+02\n",
      " * time: 23.06219983100891\n",
      "    47     2.537084e+01     4.483420e+02\n",
      " * time: 23.10297703742981\n",
      "    48     2.537043e+01     4.479568e+02\n",
      " * time: 23.849913835525513\n",
      "    49     2.534433e+01     2.573227e+02\n",
      " * time: 24.589874982833862\n",
      "    50     2.290748e+01     9.590270e+01\n",
      " * time: 24.746397018432617\n",
      "    51     2.290745e+01     9.591290e+01\n",
      " * time: 25.61900782585144\n",
      "    52     2.290736e+01     9.593450e+01\n",
      " * time: 26.333093881607056\n"
     ]
    },
    {
     "data": {
      "text/plain": [
       " * Status: success\n",
       "\n",
       " * Candidate solution\n",
       "    Final objective value:     2.290736e+01\n",
       "\n",
       " * Found with\n",
       "    Algorithm:     L-BFGS\n",
       "\n",
       " * Convergence measures\n",
       "    |x - x'|               = 4.06e-07 ≰ 0.0e+00\n",
       "    |x - x'|/|x'|          = 1.07e-07 ≰ 0.0e+00\n",
       "    |f(x) - f(x')|         = 9.31e-05 ≰ 0.0e+00\n",
       "    |f(x) - f(x')|/|f(x')| = 4.07e-06 ≤ 1.0e-05\n",
       "    |g(x)|                 = 9.59e+01 ≰ 1.0e-08\n",
       "\n",
       " * Work counters\n",
       "    Seconds run:   26  (vs limit Inf)\n",
       "    Iterations:    52\n",
       "    f(x) calls:    1842\n",
       "    ∇f(x) calls:   1842\n"
      ]
     },
     "execution_count": 18,
     "metadata": {},
     "output_type": "execute_result"
    }
   ],
   "source": [
    "using Optim\n",
    "\n",
    "res = optimize(f, randn(12), LBFGS(), Optim.Options(store_trace = true, show_trace = true, f_tol=1e-5), autodiff=:forward)"
   ]
  },
  {
   "cell_type": "code",
   "execution_count": 19,
   "id": "further-steal",
   "metadata": {
    "tags": []
   },
   "outputs": [
    {
     "data": {
      "image/svg+xml": [
       "<?xml version=\"1.0\" encoding=\"utf-8\"?>\n",
       "<svg xmlns=\"http://www.w3.org/2000/svg\" xmlns:xlink=\"http://www.w3.org/1999/xlink\" width=\"1000\" height=\"300\" viewBox=\"0 0 4000 1200\">\n",
       "<defs>\n",
       "  <clipPath id=\"clip390\">\n",
       "    <rect x=\"0\" y=\"0\" width=\"4000\" height=\"1200\"/>\n",
       "  </clipPath>\n",
       "</defs>\n",
       "<path clip-path=\"url(#clip390)\" d=\"\n",
       "M0 1200 L4000 1200 L4000 0 L0 0  Z\n",
       "  \" fill=\"#ffffff\" fill-rule=\"evenodd\" fill-opacity=\"1\"/>\n",
       "<defs>\n",
       "  <clipPath id=\"clip391\">\n",
       "    <rect x=\"800\" y=\"0\" width=\"2801\" height=\"1200\"/>\n",
       "  </clipPath>\n",
       "</defs>\n",
       "<path clip-path=\"url(#clip390)\" d=\"\n",
       "M202.274 1109.46 L1948.92 1109.46 L1948.92 47.2441 L202.274 47.2441  Z\n",
       "  \" fill=\"#ffffff\" fill-rule=\"evenodd\" fill-opacity=\"1\"/>\n",
       "<defs>\n",
       "  <clipPath id=\"clip392\">\n",
       "    <rect x=\"202\" y=\"47\" width=\"1748\" height=\"1063\"/>\n",
       "  </clipPath>\n",
       "</defs>\n",
       "<polyline clip-path=\"url(#clip392)\" style=\"stroke:#000000; stroke-linecap:butt; stroke-linejoin:round; stroke-width:2; stroke-opacity:0.1; fill:none\" points=\"\n",
       "  257.019,1109.46 257.019,47.2441 \n",
       "  \"/>\n",
       "<polyline clip-path=\"url(#clip392)\" style=\"stroke:#000000; stroke-linecap:butt; stroke-linejoin:round; stroke-width:2; stroke-opacity:0.1; fill:none\" points=\"\n",
       "  652.966,1109.46 652.966,47.2441 \n",
       "  \"/>\n",
       "<polyline clip-path=\"url(#clip392)\" style=\"stroke:#000000; stroke-linecap:butt; stroke-linejoin:round; stroke-width:2; stroke-opacity:0.1; fill:none\" points=\"\n",
       "  1048.91,1109.46 1048.91,47.2441 \n",
       "  \"/>\n",
       "<polyline clip-path=\"url(#clip392)\" style=\"stroke:#000000; stroke-linecap:butt; stroke-linejoin:round; stroke-width:2; stroke-opacity:0.1; fill:none\" points=\"\n",
       "  1444.86,1109.46 1444.86,47.2441 \n",
       "  \"/>\n",
       "<polyline clip-path=\"url(#clip392)\" style=\"stroke:#000000; stroke-linecap:butt; stroke-linejoin:round; stroke-width:2; stroke-opacity:0.1; fill:none\" points=\"\n",
       "  1840.81,1109.46 1840.81,47.2441 \n",
       "  \"/>\n",
       "<polyline clip-path=\"url(#clip390)\" style=\"stroke:#000000; stroke-linecap:butt; stroke-linejoin:round; stroke-width:4; stroke-opacity:1; fill:none\" points=\"\n",
       "  202.274,1109.46 1948.92,1109.46 \n",
       "  \"/>\n",
       "<polyline clip-path=\"url(#clip390)\" style=\"stroke:#000000; stroke-linecap:butt; stroke-linejoin:round; stroke-width:4; stroke-opacity:1; fill:none\" points=\"\n",
       "  257.019,1109.46 257.019,1090.56 \n",
       "  \"/>\n",
       "<polyline clip-path=\"url(#clip390)\" style=\"stroke:#000000; stroke-linecap:butt; stroke-linejoin:round; stroke-width:4; stroke-opacity:1; fill:none\" points=\"\n",
       "  652.966,1109.46 652.966,1090.56 \n",
       "  \"/>\n",
       "<polyline clip-path=\"url(#clip390)\" style=\"stroke:#000000; stroke-linecap:butt; stroke-linejoin:round; stroke-width:4; stroke-opacity:1; fill:none\" points=\"\n",
       "  1048.91,1109.46 1048.91,1090.56 \n",
       "  \"/>\n",
       "<polyline clip-path=\"url(#clip390)\" style=\"stroke:#000000; stroke-linecap:butt; stroke-linejoin:round; stroke-width:4; stroke-opacity:1; fill:none\" points=\"\n",
       "  1444.86,1109.46 1444.86,1090.56 \n",
       "  \"/>\n",
       "<polyline clip-path=\"url(#clip390)\" style=\"stroke:#000000; stroke-linecap:butt; stroke-linejoin:round; stroke-width:4; stroke-opacity:1; fill:none\" points=\"\n",
       "  1840.81,1109.46 1840.81,1090.56 \n",
       "  \"/>\n",
       "<path clip-path=\"url(#clip390)\" d=\"M234.901 1151.45 Q231.29 1151.45 229.461 1155.01 Q227.655 1158.55 227.655 1165.68 Q227.655 1172.79 229.461 1176.35 Q231.29 1179.9 234.901 1179.9 Q238.535 1179.9 240.341 1176.35 Q242.169 1172.79 242.169 1165.68 Q242.169 1158.55 240.341 1155.01 Q238.535 1151.45 234.901 1151.45 M234.901 1147.74 Q240.711 1147.74 243.766 1152.35 Q246.845 1156.93 246.845 1165.68 Q246.845 1174.41 243.766 1179.02 Q240.711 1183.6 234.901 1183.6 Q229.091 1183.6 226.012 1179.02 Q222.956 1174.41 222.956 1165.68 Q222.956 1156.93 226.012 1152.35 Q229.091 1147.74 234.901 1147.74 Z\" fill=\"#000000\" fill-rule=\"evenodd\" fill-opacity=\"1\" /><path clip-path=\"url(#clip390)\" d=\"M255.063 1177.05 L259.947 1177.05 L259.947 1182.93 L255.063 1182.93 L255.063 1177.05 Z\" fill=\"#000000\" fill-rule=\"evenodd\" fill-opacity=\"1\" /><path clip-path=\"url(#clip390)\" d=\"M270.178 1148.37 L288.535 1148.37 L288.535 1152.3 L274.461 1152.3 L274.461 1160.78 Q275.479 1160.43 276.498 1160.27 Q277.516 1160.08 278.535 1160.08 Q284.322 1160.08 287.701 1163.25 Q291.081 1166.42 291.081 1171.84 Q291.081 1177.42 287.609 1180.52 Q284.137 1183.6 277.817 1183.6 Q275.641 1183.6 273.373 1183.23 Q271.127 1182.86 268.72 1182.12 L268.72 1177.42 Q270.803 1178.55 273.026 1179.11 Q275.248 1179.66 277.725 1179.66 Q281.729 1179.66 284.067 1177.56 Q286.405 1175.45 286.405 1171.84 Q286.405 1168.23 284.067 1166.12 Q281.729 1164.02 277.725 1164.02 Q275.85 1164.02 273.975 1164.43 Q272.123 1164.85 270.178 1165.73 L270.178 1148.37 Z\" fill=\"#000000\" fill-rule=\"evenodd\" fill-opacity=\"1\" /><path clip-path=\"url(#clip390)\" d=\"M620.119 1178.99 L627.758 1178.99 L627.758 1152.63 L619.448 1154.29 L619.448 1150.03 L627.711 1148.37 L632.387 1148.37 L632.387 1178.99 L640.026 1178.99 L640.026 1182.93 L620.119 1182.93 L620.119 1178.99 Z\" fill=\"#000000\" fill-rule=\"evenodd\" fill-opacity=\"1\" /><path clip-path=\"url(#clip390)\" d=\"M649.471 1177.05 L654.355 1177.05 L654.355 1182.93 L649.471 1182.93 L649.471 1177.05 Z\" fill=\"#000000\" fill-rule=\"evenodd\" fill-opacity=\"1\" /><path clip-path=\"url(#clip390)\" d=\"M674.54 1151.45 Q670.929 1151.45 669.1 1155.01 Q667.295 1158.55 667.295 1165.68 Q667.295 1172.79 669.1 1176.35 Q670.929 1179.9 674.54 1179.9 Q678.174 1179.9 679.98 1176.35 Q681.808 1172.79 681.808 1165.68 Q681.808 1158.55 679.98 1155.01 Q678.174 1151.45 674.54 1151.45 M674.54 1147.74 Q680.35 1147.74 683.406 1152.35 Q686.484 1156.93 686.484 1165.68 Q686.484 1174.41 683.406 1179.02 Q680.35 1183.6 674.54 1183.6 Q668.73 1183.6 665.651 1179.02 Q662.596 1174.41 662.596 1165.68 Q662.596 1156.93 665.651 1152.35 Q668.73 1147.74 674.54 1147.74 Z\" fill=\"#000000\" fill-rule=\"evenodd\" fill-opacity=\"1\" /><path clip-path=\"url(#clip390)\" d=\"M1016.56 1178.99 L1024.2 1178.99 L1024.2 1152.63 L1015.89 1154.29 L1015.89 1150.03 L1024.16 1148.37 L1028.83 1148.37 L1028.83 1178.99 L1036.47 1178.99 L1036.47 1182.93 L1016.56 1182.93 L1016.56 1178.99 Z\" fill=\"#000000\" fill-rule=\"evenodd\" fill-opacity=\"1\" /><path clip-path=\"url(#clip390)\" d=\"M1045.92 1177.05 L1050.8 1177.05 L1050.8 1182.93 L1045.92 1182.93 L1045.92 1177.05 Z\" fill=\"#000000\" fill-rule=\"evenodd\" fill-opacity=\"1\" /><path clip-path=\"url(#clip390)\" d=\"M1061.03 1148.37 L1079.39 1148.37 L1079.39 1152.3 L1065.31 1152.3 L1065.31 1160.78 Q1066.33 1160.43 1067.35 1160.27 Q1068.37 1160.08 1069.39 1160.08 Q1075.17 1160.08 1078.55 1163.25 Q1081.93 1166.42 1081.93 1171.84 Q1081.93 1177.42 1078.46 1180.52 Q1074.99 1183.6 1068.67 1183.6 Q1066.49 1183.6 1064.23 1183.23 Q1061.98 1182.86 1059.57 1182.12 L1059.57 1177.42 Q1061.66 1178.55 1063.88 1179.11 Q1066.1 1179.66 1068.58 1179.66 Q1072.58 1179.66 1074.92 1177.56 Q1077.26 1175.45 1077.26 1171.84 Q1077.26 1168.23 1074.92 1166.12 Q1072.58 1164.02 1068.58 1164.02 Q1066.7 1164.02 1064.83 1164.43 Q1062.98 1164.85 1061.03 1165.73 L1061.03 1148.37 Z\" fill=\"#000000\" fill-rule=\"evenodd\" fill-opacity=\"1\" /><path clip-path=\"url(#clip390)\" d=\"M1416.1 1178.99 L1432.42 1178.99 L1432.42 1182.93 L1410.47 1182.93 L1410.47 1178.99 Q1413.14 1176.24 1417.72 1171.61 Q1422.33 1166.96 1423.51 1165.61 Q1425.75 1163.09 1426.63 1161.35 Q1427.53 1159.59 1427.53 1157.9 Q1427.53 1155.15 1425.59 1153.41 Q1423.67 1151.68 1420.57 1151.68 Q1418.37 1151.68 1415.91 1152.44 Q1413.48 1153.21 1410.71 1154.76 L1410.71 1150.03 Q1413.53 1148.9 1415.98 1148.32 Q1418.44 1147.74 1420.47 1147.74 Q1425.84 1147.74 1429.04 1150.43 Q1432.23 1153.11 1432.23 1157.6 Q1432.23 1159.73 1431.42 1161.65 Q1430.64 1163.55 1428.53 1166.15 Q1427.95 1166.82 1424.85 1170.03 Q1421.75 1173.23 1416.1 1178.99 Z\" fill=\"#000000\" fill-rule=\"evenodd\" fill-opacity=\"1\" /><path clip-path=\"url(#clip390)\" d=\"M1442.23 1177.05 L1447.12 1177.05 L1447.12 1182.93 L1442.23 1182.93 L1442.23 1177.05 Z\" fill=\"#000000\" fill-rule=\"evenodd\" fill-opacity=\"1\" /><path clip-path=\"url(#clip390)\" d=\"M1467.3 1151.45 Q1463.69 1151.45 1461.86 1155.01 Q1460.06 1158.55 1460.06 1165.68 Q1460.06 1172.79 1461.86 1176.35 Q1463.69 1179.9 1467.3 1179.9 Q1470.94 1179.9 1472.74 1176.35 Q1474.57 1172.79 1474.57 1165.68 Q1474.57 1158.55 1472.74 1155.01 Q1470.94 1151.45 1467.3 1151.45 M1467.3 1147.74 Q1473.11 1147.74 1476.17 1152.35 Q1479.25 1156.93 1479.25 1165.68 Q1479.25 1174.41 1476.17 1179.02 Q1473.11 1183.6 1467.3 1183.6 Q1461.49 1183.6 1458.41 1179.02 Q1455.36 1174.41 1455.36 1165.68 Q1455.36 1156.93 1458.41 1152.35 Q1461.49 1147.74 1467.3 1147.74 Z\" fill=\"#000000\" fill-rule=\"evenodd\" fill-opacity=\"1\" /><path clip-path=\"url(#clip390)\" d=\"M1812.54 1178.99 L1828.86 1178.99 L1828.86 1182.93 L1806.92 1182.93 L1806.92 1178.99 Q1809.58 1176.24 1814.16 1171.61 Q1818.77 1166.96 1819.95 1165.61 Q1822.2 1163.09 1823.08 1161.35 Q1823.98 1159.59 1823.98 1157.9 Q1823.98 1155.15 1822.03 1153.41 Q1820.11 1151.68 1817.01 1151.68 Q1814.81 1151.68 1812.36 1152.44 Q1809.93 1153.21 1807.15 1154.76 L1807.15 1150.03 Q1809.97 1148.9 1812.43 1148.32 Q1814.88 1147.74 1816.92 1147.74 Q1822.29 1147.74 1825.48 1150.43 Q1828.68 1153.11 1828.68 1157.6 Q1828.68 1159.73 1827.87 1161.65 Q1827.08 1163.55 1824.97 1166.15 Q1824.4 1166.82 1821.29 1170.03 Q1818.19 1173.23 1812.54 1178.99 Z\" fill=\"#000000\" fill-rule=\"evenodd\" fill-opacity=\"1\" /><path clip-path=\"url(#clip390)\" d=\"M1838.68 1177.05 L1843.56 1177.05 L1843.56 1182.93 L1838.68 1182.93 L1838.68 1177.05 Z\" fill=\"#000000\" fill-rule=\"evenodd\" fill-opacity=\"1\" /><path clip-path=\"url(#clip390)\" d=\"M1853.79 1148.37 L1872.15 1148.37 L1872.15 1152.3 L1858.08 1152.3 L1858.08 1160.78 Q1859.09 1160.43 1860.11 1160.27 Q1861.13 1160.08 1862.15 1160.08 Q1867.94 1160.08 1871.32 1163.25 Q1874.7 1166.42 1874.7 1171.84 Q1874.7 1177.42 1871.22 1180.52 Q1867.75 1183.6 1861.43 1183.6 Q1859.26 1183.6 1856.99 1183.23 Q1854.74 1182.86 1852.34 1182.12 L1852.34 1177.42 Q1854.42 1178.55 1856.64 1179.11 Q1858.86 1179.66 1861.34 1179.66 Q1865.34 1179.66 1867.68 1177.56 Q1870.02 1175.45 1870.02 1171.84 Q1870.02 1168.23 1867.68 1166.12 Q1865.34 1164.02 1861.34 1164.02 Q1859.46 1164.02 1857.59 1164.43 Q1855.74 1164.85 1853.79 1165.73 L1853.79 1148.37 Z\" fill=\"#000000\" fill-rule=\"evenodd\" fill-opacity=\"1\" /><polyline clip-path=\"url(#clip392)\" style=\"stroke:#000000; stroke-linecap:butt; stroke-linejoin:round; stroke-width:2; stroke-opacity:0.1; fill:none\" points=\"\n",
       "  202.274,1013.03 1948.92,1013.03 \n",
       "  \"/>\n",
       "<polyline clip-path=\"url(#clip392)\" style=\"stroke:#000000; stroke-linecap:butt; stroke-linejoin:round; stroke-width:2; stroke-opacity:0.1; fill:none\" points=\"\n",
       "  202.274,786.909 1948.92,786.909 \n",
       "  \"/>\n",
       "<polyline clip-path=\"url(#clip392)\" style=\"stroke:#000000; stroke-linecap:butt; stroke-linejoin:round; stroke-width:2; stroke-opacity:0.1; fill:none\" points=\"\n",
       "  202.274,560.793 1948.92,560.793 \n",
       "  \"/>\n",
       "<polyline clip-path=\"url(#clip392)\" style=\"stroke:#000000; stroke-linecap:butt; stroke-linejoin:round; stroke-width:2; stroke-opacity:0.1; fill:none\" points=\"\n",
       "  202.274,334.677 1948.92,334.677 \n",
       "  \"/>\n",
       "<polyline clip-path=\"url(#clip392)\" style=\"stroke:#000000; stroke-linecap:butt; stroke-linejoin:round; stroke-width:2; stroke-opacity:0.1; fill:none\" points=\"\n",
       "  202.274,108.56 1948.92,108.56 \n",
       "  \"/>\n",
       "<polyline clip-path=\"url(#clip390)\" style=\"stroke:#000000; stroke-linecap:butt; stroke-linejoin:round; stroke-width:4; stroke-opacity:1; fill:none\" points=\"\n",
       "  202.274,1109.46 202.274,47.2441 \n",
       "  \"/>\n",
       "<polyline clip-path=\"url(#clip390)\" style=\"stroke:#000000; stroke-linecap:butt; stroke-linejoin:round; stroke-width:4; stroke-opacity:1; fill:none\" points=\"\n",
       "  202.274,1013.03 221.172,1013.03 \n",
       "  \"/>\n",
       "<polyline clip-path=\"url(#clip390)\" style=\"stroke:#000000; stroke-linecap:butt; stroke-linejoin:round; stroke-width:4; stroke-opacity:1; fill:none\" points=\"\n",
       "  202.274,786.909 221.172,786.909 \n",
       "  \"/>\n",
       "<polyline clip-path=\"url(#clip390)\" style=\"stroke:#000000; stroke-linecap:butt; stroke-linejoin:round; stroke-width:4; stroke-opacity:1; fill:none\" points=\"\n",
       "  202.274,560.793 221.172,560.793 \n",
       "  \"/>\n",
       "<polyline clip-path=\"url(#clip390)\" style=\"stroke:#000000; stroke-linecap:butt; stroke-linejoin:round; stroke-width:4; stroke-opacity:1; fill:none\" points=\"\n",
       "  202.274,334.677 221.172,334.677 \n",
       "  \"/>\n",
       "<polyline clip-path=\"url(#clip390)\" style=\"stroke:#000000; stroke-linecap:butt; stroke-linejoin:round; stroke-width:4; stroke-opacity:1; fill:none\" points=\"\n",
       "  202.274,108.56 221.172,108.56 \n",
       "  \"/>\n",
       "<path clip-path=\"url(#clip390)\" d=\"M54.9365 998.824 Q51.3254 998.824 49.4967 1002.39 Q47.6912 1005.93 47.6912 1013.06 Q47.6912 1020.17 49.4967 1023.73 Q51.3254 1027.27 54.9365 1027.27 Q58.5707 1027.27 60.3763 1023.73 Q62.205 1020.17 62.205 1013.06 Q62.205 1005.93 60.3763 1002.39 Q58.5707 998.824 54.9365 998.824 M54.9365 995.121 Q60.7467 995.121 63.8022 999.727 Q66.8809 1004.31 66.8809 1013.06 Q66.8809 1021.79 63.8022 1026.39 Q60.7467 1030.98 54.9365 1030.98 Q49.1264 1030.98 46.0477 1026.39 Q42.9921 1021.79 42.9921 1013.06 Q42.9921 1004.31 46.0477 999.727 Q49.1264 995.121 54.9365 995.121 Z\" fill=\"#000000\" fill-rule=\"evenodd\" fill-opacity=\"1\" /><path clip-path=\"url(#clip390)\" d=\"M75.0984 1024.43 L79.9827 1024.43 L79.9827 1030.31 L75.0984 1030.31 L75.0984 1024.43 Z\" fill=\"#000000\" fill-rule=\"evenodd\" fill-opacity=\"1\" /><path clip-path=\"url(#clip390)\" d=\"M100.168 998.824 Q96.5567 998.824 94.728 1002.39 Q92.9224 1005.93 92.9224 1013.06 Q92.9224 1020.17 94.728 1023.73 Q96.5567 1027.27 100.168 1027.27 Q103.802 1027.27 105.608 1023.73 Q107.436 1020.17 107.436 1013.06 Q107.436 1005.93 105.608 1002.39 Q103.802 998.824 100.168 998.824 M100.168 995.121 Q105.978 995.121 109.033 999.727 Q112.112 1004.31 112.112 1013.06 Q112.112 1021.79 109.033 1026.39 Q105.978 1030.98 100.168 1030.98 Q94.3576 1030.98 91.2789 1026.39 Q88.2234 1021.79 88.2234 1013.06 Q88.2234 1004.31 91.2789 999.727 Q94.3576 995.121 100.168 995.121 Z\" fill=\"#000000\" fill-rule=\"evenodd\" fill-opacity=\"1\" /><path clip-path=\"url(#clip390)\" d=\"M130.33 998.824 Q126.719 998.824 124.89 1002.39 Q123.084 1005.93 123.084 1013.06 Q123.084 1020.17 124.89 1023.73 Q126.719 1027.27 130.33 1027.27 Q133.964 1027.27 135.769 1023.73 Q137.598 1020.17 137.598 1013.06 Q137.598 1005.93 135.769 1002.39 Q133.964 998.824 130.33 998.824 M130.33 995.121 Q136.14 995.121 139.195 999.727 Q142.274 1004.31 142.274 1013.06 Q142.274 1021.79 139.195 1026.39 Q136.14 1030.98 130.33 1030.98 Q124.519 1030.98 121.441 1026.39 Q118.385 1021.79 118.385 1013.06 Q118.385 1004.31 121.441 999.727 Q124.519 995.121 130.33 995.121 Z\" fill=\"#000000\" fill-rule=\"evenodd\" fill-opacity=\"1\" /><path clip-path=\"url(#clip390)\" d=\"M55.9319 772.708 Q52.3208 772.708 50.4921 776.273 Q48.6865 779.814 48.6865 786.944 Q48.6865 794.05 50.4921 797.615 Q52.3208 801.157 55.9319 801.157 Q59.5661 801.157 61.3717 797.615 Q63.2004 794.05 63.2004 786.944 Q63.2004 779.814 61.3717 776.273 Q59.5661 772.708 55.9319 772.708 M55.9319 769.004 Q61.742 769.004 64.7976 773.611 Q67.8763 778.194 67.8763 786.944 Q67.8763 795.671 64.7976 800.277 Q61.742 804.861 55.9319 804.861 Q50.1217 804.861 47.043 800.277 Q43.9875 795.671 43.9875 786.944 Q43.9875 778.194 47.043 773.611 Q50.1217 769.004 55.9319 769.004 Z\" fill=\"#000000\" fill-rule=\"evenodd\" fill-opacity=\"1\" /><path clip-path=\"url(#clip390)\" d=\"M76.0938 798.31 L80.978 798.31 L80.978 804.189 L76.0938 804.189 L76.0938 798.31 Z\" fill=\"#000000\" fill-rule=\"evenodd\" fill-opacity=\"1\" /><path clip-path=\"url(#clip390)\" d=\"M95.1909 800.254 L111.51 800.254 L111.51 804.189 L89.566 804.189 L89.566 800.254 Q92.228 797.499 96.8113 792.87 Q101.418 788.217 102.598 786.875 Q104.844 784.351 105.723 782.615 Q106.626 780.856 106.626 779.166 Q106.626 776.412 104.682 774.676 Q102.76 772.939 99.6585 772.939 Q97.4594 772.939 95.0057 773.703 Q92.5752 774.467 89.7974 776.018 L89.7974 771.296 Q92.6215 770.162 95.0752 769.583 Q97.5289 769.004 99.5659 769.004 Q104.936 769.004 108.131 771.689 Q111.325 774.375 111.325 778.865 Q111.325 780.995 110.515 782.916 Q109.728 784.814 107.621 787.407 Q107.043 788.078 103.941 791.296 Q100.839 794.49 95.1909 800.254 Z\" fill=\"#000000\" fill-rule=\"evenodd\" fill-opacity=\"1\" /><path clip-path=\"url(#clip390)\" d=\"M121.371 769.629 L139.728 769.629 L139.728 773.564 L125.654 773.564 L125.654 782.037 Q126.672 781.689 127.691 781.527 Q128.709 781.342 129.728 781.342 Q135.515 781.342 138.894 784.513 Q142.274 787.685 142.274 793.101 Q142.274 798.68 138.802 801.782 Q135.33 804.861 129.01 804.861 Q126.834 804.861 124.566 804.49 Q122.32 804.12 119.913 803.379 L119.913 798.68 Q121.996 799.814 124.219 800.37 Q126.441 800.925 128.918 800.925 Q132.922 800.925 135.26 798.819 Q137.598 796.712 137.598 793.101 Q137.598 789.49 135.26 787.384 Q132.922 785.277 128.918 785.277 Q127.043 785.277 125.168 785.694 Q123.316 786.111 121.371 786.99 L121.371 769.629 Z\" fill=\"#000000\" fill-rule=\"evenodd\" fill-opacity=\"1\" /><path clip-path=\"url(#clip390)\" d=\"M54.9365 546.592 Q51.3254 546.592 49.4967 550.156 Q47.6912 553.698 47.6912 560.828 Q47.6912 567.934 49.4967 571.499 Q51.3254 575.041 54.9365 575.041 Q58.5707 575.041 60.3763 571.499 Q62.205 567.934 62.205 560.828 Q62.205 553.698 60.3763 550.156 Q58.5707 546.592 54.9365 546.592 M54.9365 542.888 Q60.7467 542.888 63.8022 547.494 Q66.8809 552.078 66.8809 560.828 Q66.8809 569.554 63.8022 574.161 Q60.7467 578.744 54.9365 578.744 Q49.1264 578.744 46.0477 574.161 Q42.9921 569.554 42.9921 560.828 Q42.9921 552.078 46.0477 547.494 Q49.1264 542.888 54.9365 542.888 Z\" fill=\"#000000\" fill-rule=\"evenodd\" fill-opacity=\"1\" /><path clip-path=\"url(#clip390)\" d=\"M75.0984 572.193 L79.9827 572.193 L79.9827 578.073 L75.0984 578.073 L75.0984 572.193 Z\" fill=\"#000000\" fill-rule=\"evenodd\" fill-opacity=\"1\" /><path clip-path=\"url(#clip390)\" d=\"M90.2141 543.513 L108.57 543.513 L108.57 547.448 L94.4965 547.448 L94.4965 555.92 Q95.515 555.573 96.5335 555.411 Q97.552 555.226 98.5705 555.226 Q104.358 555.226 107.737 558.397 Q111.117 561.568 111.117 566.985 Q111.117 572.564 107.645 575.666 Q104.172 578.744 97.8529 578.744 Q95.677 578.744 93.4085 578.374 Q91.1632 578.003 88.7558 577.263 L88.7558 572.564 Q90.8391 573.698 93.0613 574.254 Q95.2835 574.809 97.7604 574.809 Q101.765 574.809 104.103 572.703 Q106.441 570.596 106.441 566.985 Q106.441 563.374 104.103 561.267 Q101.765 559.161 97.7604 559.161 Q95.8854 559.161 94.0104 559.578 Q92.1585 559.994 90.2141 560.874 L90.2141 543.513 Z\" fill=\"#000000\" fill-rule=\"evenodd\" fill-opacity=\"1\" /><path clip-path=\"url(#clip390)\" d=\"M130.33 546.592 Q126.719 546.592 124.89 550.156 Q123.084 553.698 123.084 560.828 Q123.084 567.934 124.89 571.499 Q126.719 575.041 130.33 575.041 Q133.964 575.041 135.769 571.499 Q137.598 567.934 137.598 560.828 Q137.598 553.698 135.769 550.156 Q133.964 546.592 130.33 546.592 M130.33 542.888 Q136.14 542.888 139.195 547.494 Q142.274 552.078 142.274 560.828 Q142.274 569.554 139.195 574.161 Q136.14 578.744 130.33 578.744 Q124.519 578.744 121.441 574.161 Q118.385 569.554 118.385 560.828 Q118.385 552.078 121.441 547.494 Q124.519 542.888 130.33 542.888 Z\" fill=\"#000000\" fill-rule=\"evenodd\" fill-opacity=\"1\" /><path clip-path=\"url(#clip390)\" d=\"M55.9319 320.475 Q52.3208 320.475 50.4921 324.04 Q48.6865 327.582 48.6865 334.711 Q48.6865 341.818 50.4921 345.383 Q52.3208 348.924 55.9319 348.924 Q59.5661 348.924 61.3717 345.383 Q63.2004 341.818 63.2004 334.711 Q63.2004 327.582 61.3717 324.04 Q59.5661 320.475 55.9319 320.475 M55.9319 316.772 Q61.742 316.772 64.7976 321.378 Q67.8763 325.961 67.8763 334.711 Q67.8763 343.438 64.7976 348.045 Q61.742 352.628 55.9319 352.628 Q50.1217 352.628 47.043 348.045 Q43.9875 343.438 43.9875 334.711 Q43.9875 325.961 47.043 321.378 Q50.1217 316.772 55.9319 316.772 Z\" fill=\"#000000\" fill-rule=\"evenodd\" fill-opacity=\"1\" /><path clip-path=\"url(#clip390)\" d=\"M76.0938 346.077 L80.978 346.077 L80.978 351.957 L76.0938 351.957 L76.0938 346.077 Z\" fill=\"#000000\" fill-rule=\"evenodd\" fill-opacity=\"1\" /><path clip-path=\"url(#clip390)\" d=\"M89.9826 317.397 L112.205 317.397 L112.205 319.387 L99.6585 351.957 L94.7743 351.957 L106.58 321.332 L89.9826 321.332 L89.9826 317.397 Z\" fill=\"#000000\" fill-rule=\"evenodd\" fill-opacity=\"1\" /><path clip-path=\"url(#clip390)\" d=\"M121.371 317.397 L139.728 317.397 L139.728 321.332 L125.654 321.332 L125.654 329.804 Q126.672 329.457 127.691 329.295 Q128.709 329.11 129.728 329.11 Q135.515 329.11 138.894 332.281 Q142.274 335.452 142.274 340.869 Q142.274 346.447 138.802 349.549 Q135.33 352.628 129.01 352.628 Q126.834 352.628 124.566 352.258 Q122.32 351.887 119.913 351.146 L119.913 346.447 Q121.996 347.582 124.219 348.137 Q126.441 348.693 128.918 348.693 Q132.922 348.693 135.26 346.586 Q137.598 344.48 137.598 340.869 Q137.598 337.258 135.26 335.151 Q132.922 333.045 128.918 333.045 Q127.043 333.045 125.168 333.461 Q123.316 333.878 121.371 334.758 L121.371 317.397 Z\" fill=\"#000000\" fill-rule=\"evenodd\" fill-opacity=\"1\" /><path clip-path=\"url(#clip390)\" d=\"M45.7467 121.905 L53.3856 121.905 L53.3856 95.5396 L45.0754 97.2062 L45.0754 92.947 L53.3393 91.2803 L58.0152 91.2803 L58.0152 121.905 L65.654 121.905 L65.654 125.84 L45.7467 125.84 L45.7467 121.905 Z\" fill=\"#000000\" fill-rule=\"evenodd\" fill-opacity=\"1\" /><path clip-path=\"url(#clip390)\" d=\"M75.0984 119.961 L79.9827 119.961 L79.9827 125.84 L75.0984 125.84 L75.0984 119.961 Z\" fill=\"#000000\" fill-rule=\"evenodd\" fill-opacity=\"1\" /><path clip-path=\"url(#clip390)\" d=\"M100.168 94.359 Q96.5567 94.359 94.728 97.9238 Q92.9224 101.465 92.9224 108.595 Q92.9224 115.701 94.728 119.266 Q96.5567 122.808 100.168 122.808 Q103.802 122.808 105.608 119.266 Q107.436 115.701 107.436 108.595 Q107.436 101.465 105.608 97.9238 Q103.802 94.359 100.168 94.359 M100.168 90.6553 Q105.978 90.6553 109.033 95.2618 Q112.112 99.8451 112.112 108.595 Q112.112 117.322 109.033 121.928 Q105.978 126.512 100.168 126.512 Q94.3576 126.512 91.2789 121.928 Q88.2234 117.322 88.2234 108.595 Q88.2234 99.8451 91.2789 95.2618 Q94.3576 90.6553 100.168 90.6553 Z\" fill=\"#000000\" fill-rule=\"evenodd\" fill-opacity=\"1\" /><path clip-path=\"url(#clip390)\" d=\"M130.33 94.359 Q126.719 94.359 124.89 97.9238 Q123.084 101.465 123.084 108.595 Q123.084 115.701 124.89 119.266 Q126.719 122.808 130.33 122.808 Q133.964 122.808 135.769 119.266 Q137.598 115.701 137.598 108.595 Q137.598 101.465 135.769 97.9238 Q133.964 94.359 130.33 94.359 M130.33 90.6553 Q136.14 90.6553 139.195 95.2618 Q142.274 99.8451 142.274 108.595 Q142.274 117.322 139.195 121.928 Q136.14 126.512 130.33 126.512 Q124.519 126.512 121.441 121.928 Q118.385 117.322 118.385 108.595 Q118.385 99.8451 121.441 95.2618 Q124.519 90.6553 130.33 90.6553 Z\" fill=\"#000000\" fill-rule=\"evenodd\" fill-opacity=\"1\" /><circle clip-path=\"url(#clip392)\" cx=\"255.566\" cy=\"530.422\" r=\"14\" fill=\"#6b9e32\" fill-rule=\"evenodd\" fill-opacity=\"1\" stroke=\"#000000\" stroke-opacity=\"1\" stroke-width=\"2.4\"/>\n",
       "<circle clip-path=\"url(#clip392)\" cx=\"542.563\" cy=\"712.55\" r=\"14\" fill=\"#6b9e32\" fill-rule=\"evenodd\" fill-opacity=\"1\" stroke=\"#000000\" stroke-opacity=\"1\" stroke-width=\"2.4\"/>\n",
       "<circle clip-path=\"url(#clip392)\" cx=\"570.178\" cy=\"697.206\" r=\"14\" fill=\"#6b9e32\" fill-rule=\"evenodd\" fill-opacity=\"1\" stroke=\"#000000\" stroke-opacity=\"1\" stroke-width=\"2.4\"/>\n",
       "<circle clip-path=\"url(#clip392)\" cx=\"555.154\" cy=\"747.825\" r=\"14\" fill=\"#6b9e32\" fill-rule=\"evenodd\" fill-opacity=\"1\" stroke=\"#000000\" stroke-opacity=\"1\" stroke-width=\"2.4\"/>\n",
       "<circle clip-path=\"url(#clip392)\" cx=\"554.638\" cy=\"781.339\" r=\"14\" fill=\"#6b9e32\" fill-rule=\"evenodd\" fill-opacity=\"1\" stroke=\"#000000\" stroke-opacity=\"1\" stroke-width=\"2.4\"/>\n",
       "<circle clip-path=\"url(#clip392)\" cx=\"529.337\" cy=\"744.039\" r=\"14\" fill=\"#6b9e32\" fill-rule=\"evenodd\" fill-opacity=\"1\" stroke=\"#000000\" stroke-opacity=\"1\" stroke-width=\"2.4\"/>\n",
       "<circle clip-path=\"url(#clip392)\" cx=\"582.057\" cy=\"799.729\" r=\"14\" fill=\"#6b9e32\" fill-rule=\"evenodd\" fill-opacity=\"1\" stroke=\"#000000\" stroke-opacity=\"1\" stroke-width=\"2.4\"/>\n",
       "<circle clip-path=\"url(#clip392)\" cx=\"567.799\" cy=\"771.185\" r=\"14\" fill=\"#6b9e32\" fill-rule=\"evenodd\" fill-opacity=\"1\" stroke=\"#000000\" stroke-opacity=\"1\" stroke-width=\"2.4\"/>\n",
       "<circle clip-path=\"url(#clip392)\" cx=\"533.288\" cy=\"718.887\" r=\"14\" fill=\"#6b9e32\" fill-rule=\"evenodd\" fill-opacity=\"1\" stroke=\"#000000\" stroke-opacity=\"1\" stroke-width=\"2.4\"/>\n",
       "<circle clip-path=\"url(#clip392)\" cx=\"638.753\" cy=\"711.64\" r=\"14\" fill=\"#009af9\" fill-rule=\"evenodd\" fill-opacity=\"1\" stroke=\"#000000\" stroke-opacity=\"1\" stroke-width=\"2.4\"/>\n",
       "<circle clip-path=\"url(#clip392)\" cx=\"653.603\" cy=\"992.653\" r=\"14\" fill=\"#009af9\" fill-rule=\"evenodd\" fill-opacity=\"1\" stroke=\"#000000\" stroke-opacity=\"1\" stroke-width=\"2.4\"/>\n",
       "<circle clip-path=\"url(#clip392)\" cx=\"673.694\" cy=\"972.967\" r=\"14\" fill=\"#6b9e32\" fill-rule=\"evenodd\" fill-opacity=\"1\" stroke=\"#000000\" stroke-opacity=\"1\" stroke-width=\"2.4\"/>\n",
       "<circle clip-path=\"url(#clip392)\" cx=\"660.657\" cy=\"1049.69\" r=\"14\" fill=\"#009af9\" fill-rule=\"evenodd\" fill-opacity=\"1\" stroke=\"#000000\" stroke-opacity=\"1\" stroke-width=\"2.4\"/>\n",
       "<circle clip-path=\"url(#clip392)\" cx=\"614.5\" cy=\"1006.6\" r=\"14\" fill=\"#009af9\" fill-rule=\"evenodd\" fill-opacity=\"1\" stroke=\"#000000\" stroke-opacity=\"1\" stroke-width=\"2.4\"/>\n",
       "<circle clip-path=\"url(#clip392)\" cx=\"671.941\" cy=\"974.61\" r=\"14\" fill=\"#009af9\" fill-rule=\"evenodd\" fill-opacity=\"1\" stroke=\"#000000\" stroke-opacity=\"1\" stroke-width=\"2.4\"/>\n",
       "<circle clip-path=\"url(#clip392)\" cx=\"1465.7\" cy=\"119.289\" r=\"14\" fill=\"#009af9\" fill-rule=\"evenodd\" fill-opacity=\"1\" stroke=\"#000000\" stroke-opacity=\"1\" stroke-width=\"2.4\"/>\n",
       "<circle clip-path=\"url(#clip392)\" cx=\"1433.37\" cy=\"142.931\" r=\"14\" fill=\"#6b9e32\" fill-rule=\"evenodd\" fill-opacity=\"1\" stroke=\"#000000\" stroke-opacity=\"1\" stroke-width=\"2.4\"/>\n",
       "<circle clip-path=\"url(#clip392)\" cx=\"1840.94\" cy=\"105.17\" r=\"14\" fill=\"#009af9\" fill-rule=\"evenodd\" fill-opacity=\"1\" stroke=\"#000000\" stroke-opacity=\"1\" stroke-width=\"2.4\"/>\n",
       "<circle clip-path=\"url(#clip392)\" cx=\"1840.95\" cy=\"132.013\" r=\"14\" fill=\"#6b9e32\" fill-rule=\"evenodd\" fill-opacity=\"1\" stroke=\"#000000\" stroke-opacity=\"1\" stroke-width=\"2.4\"/>\n",
       "<circle clip-path=\"url(#clip392)\" cx=\"1858.9\" cy=\"95.1781\" r=\"14\" fill=\"#6b9e32\" fill-rule=\"evenodd\" fill-opacity=\"1\" stroke=\"#000000\" stroke-opacity=\"1\" stroke-width=\"2.4\"/>\n",
       "<circle clip-path=\"url(#clip392)\" cx=\"252.227\" cy=\"585.657\" r=\"14\" fill=\"#6b9e32\" fill-rule=\"evenodd\" fill-opacity=\"1\" stroke=\"#000000\" stroke-opacity=\"1\" stroke-width=\"2.4\"/>\n",
       "<circle clip-path=\"url(#clip392)\" cx=\"592.567\" cy=\"781.318\" r=\"14\" fill=\"#6b9e32\" fill-rule=\"evenodd\" fill-opacity=\"1\" stroke=\"#000000\" stroke-opacity=\"1\" stroke-width=\"2.4\"/>\n",
       "<circle clip-path=\"url(#clip392)\" cx=\"538.018\" cy=\"730.619\" r=\"14\" fill=\"#6b9e32\" fill-rule=\"evenodd\" fill-opacity=\"1\" stroke=\"#000000\" stroke-opacity=\"1\" stroke-width=\"2.4\"/>\n",
       "<circle clip-path=\"url(#clip392)\" cx=\"524.357\" cy=\"712.241\" r=\"14\" fill=\"#6b9e32\" fill-rule=\"evenodd\" fill-opacity=\"1\" stroke=\"#000000\" stroke-opacity=\"1\" stroke-width=\"2.4\"/>\n",
       "<circle clip-path=\"url(#clip392)\" cx=\"566.088\" cy=\"747.137\" r=\"14\" fill=\"#6b9e32\" fill-rule=\"evenodd\" fill-opacity=\"1\" stroke=\"#000000\" stroke-opacity=\"1\" stroke-width=\"2.4\"/>\n",
       "<circle clip-path=\"url(#clip392)\" cx=\"583.207\" cy=\"759.299\" r=\"14\" fill=\"#6b9e32\" fill-rule=\"evenodd\" fill-opacity=\"1\" stroke=\"#000000\" stroke-opacity=\"1\" stroke-width=\"2.4\"/>\n",
       "<circle clip-path=\"url(#clip392)\" cx=\"567.936\" cy=\"736.027\" r=\"14\" fill=\"#6b9e32\" fill-rule=\"evenodd\" fill-opacity=\"1\" stroke=\"#000000\" stroke-opacity=\"1\" stroke-width=\"2.4\"/>\n",
       "<circle clip-path=\"url(#clip392)\" cx=\"554.467\" cy=\"734.73\" r=\"14\" fill=\"#6b9e32\" fill-rule=\"evenodd\" fill-opacity=\"1\" stroke=\"#000000\" stroke-opacity=\"1\" stroke-width=\"2.4\"/>\n",
       "<circle clip-path=\"url(#clip392)\" cx=\"551.589\" cy=\"717.516\" r=\"14\" fill=\"#6b9e32\" fill-rule=\"evenodd\" fill-opacity=\"1\" stroke=\"#000000\" stroke-opacity=\"1\" stroke-width=\"2.4\"/>\n",
       "<circle clip-path=\"url(#clip392)\" cx=\"562.996\" cy=\"763.896\" r=\"14\" fill=\"#009af9\" fill-rule=\"evenodd\" fill-opacity=\"1\" stroke=\"#000000\" stroke-opacity=\"1\" stroke-width=\"2.4\"/>\n",
       "<circle clip-path=\"url(#clip392)\" cx=\"636.174\" cy=\"1021.77\" r=\"14\" fill=\"#009af9\" fill-rule=\"evenodd\" fill-opacity=\"1\" stroke=\"#000000\" stroke-opacity=\"1\" stroke-width=\"2.4\"/>\n",
       "<circle clip-path=\"url(#clip392)\" cx=\"639.652\" cy=\"1025.57\" r=\"14\" fill=\"#6b9e32\" fill-rule=\"evenodd\" fill-opacity=\"1\" stroke=\"#000000\" stroke-opacity=\"1\" stroke-width=\"2.4\"/>\n",
       "<circle clip-path=\"url(#clip392)\" cx=\"625.734\" cy=\"1015.29\" r=\"14\" fill=\"#009af9\" fill-rule=\"evenodd\" fill-opacity=\"1\" stroke=\"#000000\" stroke-opacity=\"1\" stroke-width=\"2.4\"/>\n",
       "<circle clip-path=\"url(#clip392)\" cx=\"684.979\" cy=\"1032.72\" r=\"14\" fill=\"#009af9\" fill-rule=\"evenodd\" fill-opacity=\"1\" stroke=\"#000000\" stroke-opacity=\"1\" stroke-width=\"2.4\"/>\n",
       "<circle clip-path=\"url(#clip392)\" cx=\"667.491\" cy=\"1079.39\" r=\"14\" fill=\"#009af9\" fill-rule=\"evenodd\" fill-opacity=\"1\" stroke=\"#000000\" stroke-opacity=\"1\" stroke-width=\"2.4\"/>\n",
       "<circle clip-path=\"url(#clip392)\" cx=\"1465.98\" cy=\"139.209\" r=\"14\" fill=\"#009af9\" fill-rule=\"evenodd\" fill-opacity=\"1\" stroke=\"#000000\" stroke-opacity=\"1\" stroke-width=\"2.4\"/>\n",
       "<circle clip-path=\"url(#clip392)\" cx=\"1439.77\" cy=\"98.3659\" r=\"14\" fill=\"#6b9e32\" fill-rule=\"evenodd\" fill-opacity=\"1\" stroke=\"#000000\" stroke-opacity=\"1\" stroke-width=\"2.4\"/>\n",
       "<circle clip-path=\"url(#clip392)\" cx=\"1822.48\" cy=\"130.097\" r=\"14\" fill=\"#009af9\" fill-rule=\"evenodd\" fill-opacity=\"1\" stroke=\"#000000\" stroke-opacity=\"1\" stroke-width=\"2.4\"/>\n",
       "<circle clip-path=\"url(#clip392)\" cx=\"1806.81\" cy=\"116.81\" r=\"14\" fill=\"#6b9e32\" fill-rule=\"evenodd\" fill-opacity=\"1\" stroke=\"#000000\" stroke-opacity=\"1\" stroke-width=\"2.4\"/>\n",
       "<circle clip-path=\"url(#clip392)\" cx=\"1899.49\" cy=\"77.3067\" r=\"14\" fill=\"#6b9e32\" fill-rule=\"evenodd\" fill-opacity=\"1\" stroke=\"#000000\" stroke-opacity=\"1\" stroke-width=\"2.4\"/>\n",
       "<circle clip-path=\"url(#clip392)\" cx=\"251.708\" cy=\"567.452\" r=\"14\" fill=\"#6b9e32\" fill-rule=\"evenodd\" fill-opacity=\"1\" stroke=\"#000000\" stroke-opacity=\"1\" stroke-width=\"2.4\"/>\n",
       "<circle clip-path=\"url(#clip392)\" cx=\"542.718\" cy=\"739.027\" r=\"14\" fill=\"#6b9e32\" fill-rule=\"evenodd\" fill-opacity=\"1\" stroke=\"#000000\" stroke-opacity=\"1\" stroke-width=\"2.4\"/>\n",
       "<circle clip-path=\"url(#clip392)\" cx=\"587.609\" cy=\"757.29\" r=\"14\" fill=\"#6b9e32\" fill-rule=\"evenodd\" fill-opacity=\"1\" stroke=\"#000000\" stroke-opacity=\"1\" stroke-width=\"2.4\"/>\n",
       "<circle clip-path=\"url(#clip392)\" cx=\"566.005\" cy=\"695.902\" r=\"14\" fill=\"#6b9e32\" fill-rule=\"evenodd\" fill-opacity=\"1\" stroke=\"#000000\" stroke-opacity=\"1\" stroke-width=\"2.4\"/>\n",
       "<circle clip-path=\"url(#clip392)\" cx=\"584.863\" cy=\"686.17\" r=\"14\" fill=\"#6b9e32\" fill-rule=\"evenodd\" fill-opacity=\"1\" stroke=\"#000000\" stroke-opacity=\"1\" stroke-width=\"2.4\"/>\n",
       "<circle clip-path=\"url(#clip392)\" cx=\"608.634\" cy=\"718.044\" r=\"14\" fill=\"#6b9e32\" fill-rule=\"evenodd\" fill-opacity=\"1\" stroke=\"#000000\" stroke-opacity=\"1\" stroke-width=\"2.4\"/>\n",
       "<circle clip-path=\"url(#clip392)\" cx=\"592.192\" cy=\"743.588\" r=\"14\" fill=\"#6b9e32\" fill-rule=\"evenodd\" fill-opacity=\"1\" stroke=\"#000000\" stroke-opacity=\"1\" stroke-width=\"2.4\"/>\n",
       "<circle clip-path=\"url(#clip392)\" cx=\"546.212\" cy=\"772.327\" r=\"14\" fill=\"#6b9e32\" fill-rule=\"evenodd\" fill-opacity=\"1\" stroke=\"#000000\" stroke-opacity=\"1\" stroke-width=\"2.4\"/>\n",
       "<circle clip-path=\"url(#clip392)\" cx=\"578.379\" cy=\"713.717\" r=\"14\" fill=\"#6b9e32\" fill-rule=\"evenodd\" fill-opacity=\"1\" stroke=\"#000000\" stroke-opacity=\"1\" stroke-width=\"2.4\"/>\n",
       "<circle clip-path=\"url(#clip392)\" cx=\"588.665\" cy=\"727.196\" r=\"14\" fill=\"#009af9\" fill-rule=\"evenodd\" fill-opacity=\"1\" stroke=\"#000000\" stroke-opacity=\"1\" stroke-width=\"2.4\"/>\n",
       "<circle clip-path=\"url(#clip392)\" cx=\"654.584\" cy=\"1040.03\" r=\"14\" fill=\"#009af9\" fill-rule=\"evenodd\" fill-opacity=\"1\" stroke=\"#000000\" stroke-opacity=\"1\" stroke-width=\"2.4\"/>\n",
       "<circle clip-path=\"url(#clip392)\" cx=\"634.586\" cy=\"1009.09\" r=\"14\" fill=\"#6b9e32\" fill-rule=\"evenodd\" fill-opacity=\"1\" stroke=\"#000000\" stroke-opacity=\"1\" stroke-width=\"2.4\"/>\n",
       "<circle clip-path=\"url(#clip392)\" cx=\"641.932\" cy=\"1021.53\" r=\"14\" fill=\"#009af9\" fill-rule=\"evenodd\" fill-opacity=\"1\" stroke=\"#000000\" stroke-opacity=\"1\" stroke-width=\"2.4\"/>\n",
       "<circle clip-path=\"url(#clip392)\" cx=\"666.267\" cy=\"1010.81\" r=\"14\" fill=\"#009af9\" fill-rule=\"evenodd\" fill-opacity=\"1\" stroke=\"#000000\" stroke-opacity=\"1\" stroke-width=\"2.4\"/>\n",
       "<circle clip-path=\"url(#clip392)\" cx=\"618.375\" cy=\"1003.8\" r=\"14\" fill=\"#009af9\" fill-rule=\"evenodd\" fill-opacity=\"1\" stroke=\"#000000\" stroke-opacity=\"1\" stroke-width=\"2.4\"/>\n",
       "<circle clip-path=\"url(#clip392)\" cx=\"1501.16\" cy=\"120.836\" r=\"14\" fill=\"#009af9\" fill-rule=\"evenodd\" fill-opacity=\"1\" stroke=\"#000000\" stroke-opacity=\"1\" stroke-width=\"2.4\"/>\n",
       "<circle clip-path=\"url(#clip392)\" cx=\"1440.48\" cy=\"147.032\" r=\"14\" fill=\"#6b9e32\" fill-rule=\"evenodd\" fill-opacity=\"1\" stroke=\"#000000\" stroke-opacity=\"1\" stroke-width=\"2.4\"/>\n",
       "<circle clip-path=\"url(#clip392)\" cx=\"1798.18\" cy=\"93.7894\" r=\"14\" fill=\"#009af9\" fill-rule=\"evenodd\" fill-opacity=\"1\" stroke=\"#000000\" stroke-opacity=\"1\" stroke-width=\"2.4\"/>\n",
       "<circle clip-path=\"url(#clip392)\" cx=\"1864.05\" cy=\"159.22\" r=\"14\" fill=\"#6b9e32\" fill-rule=\"evenodd\" fill-opacity=\"1\" stroke=\"#000000\" stroke-opacity=\"1\" stroke-width=\"2.4\"/>\n",
       "<circle clip-path=\"url(#clip392)\" cx=\"1867.55\" cy=\"102.313\" r=\"14\" fill=\"#6b9e32\" fill-rule=\"evenodd\" fill-opacity=\"1\" stroke=\"#000000\" stroke-opacity=\"1\" stroke-width=\"2.4\"/>\n",
       "<path clip-path=\"url(#clip390)\" d=\"\n",
       "M2206.1 1109.46 L3952.76 1109.46 L3952.76 47.2441 L2206.1 47.2441  Z\n",
       "  \" fill=\"#ffffff\" fill-rule=\"evenodd\" fill-opacity=\"1\"/>\n",
       "<defs>\n",
       "  <clipPath id=\"clip393\">\n",
       "    <rect x=\"2206\" y=\"47\" width=\"1748\" height=\"1063\"/>\n",
       "  </clipPath>\n",
       "</defs>\n",
       "<polyline clip-path=\"url(#clip393)\" style=\"stroke:#000000; stroke-linecap:butt; stroke-linejoin:round; stroke-width:2; stroke-opacity:0.1; fill:none\" points=\"\n",
       "  2296.16,1109.46 2296.16,47.2441 \n",
       "  \"/>\n",
       "<polyline clip-path=\"url(#clip393)\" style=\"stroke:#000000; stroke-linecap:butt; stroke-linejoin:round; stroke-width:2; stroke-opacity:0.1; fill:none\" points=\"\n",
       "  2573.81,1109.46 2573.81,47.2441 \n",
       "  \"/>\n",
       "<polyline clip-path=\"url(#clip393)\" style=\"stroke:#000000; stroke-linecap:butt; stroke-linejoin:round; stroke-width:2; stroke-opacity:0.1; fill:none\" points=\"\n",
       "  2851.46,1109.46 2851.46,47.2441 \n",
       "  \"/>\n",
       "<polyline clip-path=\"url(#clip393)\" style=\"stroke:#000000; stroke-linecap:butt; stroke-linejoin:round; stroke-width:2; stroke-opacity:0.1; fill:none\" points=\"\n",
       "  3129.11,1109.46 3129.11,47.2441 \n",
       "  \"/>\n",
       "<polyline clip-path=\"url(#clip393)\" style=\"stroke:#000000; stroke-linecap:butt; stroke-linejoin:round; stroke-width:2; stroke-opacity:0.1; fill:none\" points=\"\n",
       "  3406.76,1109.46 3406.76,47.2441 \n",
       "  \"/>\n",
       "<polyline clip-path=\"url(#clip393)\" style=\"stroke:#000000; stroke-linecap:butt; stroke-linejoin:round; stroke-width:2; stroke-opacity:0.1; fill:none\" points=\"\n",
       "  3684.41,1109.46 3684.41,47.2441 \n",
       "  \"/>\n",
       "<polyline clip-path=\"url(#clip390)\" style=\"stroke:#000000; stroke-linecap:butt; stroke-linejoin:round; stroke-width:4; stroke-opacity:1; fill:none\" points=\"\n",
       "  2206.1,1109.46 3952.76,1109.46 \n",
       "  \"/>\n",
       "<polyline clip-path=\"url(#clip390)\" style=\"stroke:#000000; stroke-linecap:butt; stroke-linejoin:round; stroke-width:4; stroke-opacity:1; fill:none\" points=\"\n",
       "  2296.16,1109.46 2296.16,1090.56 \n",
       "  \"/>\n",
       "<polyline clip-path=\"url(#clip390)\" style=\"stroke:#000000; stroke-linecap:butt; stroke-linejoin:round; stroke-width:4; stroke-opacity:1; fill:none\" points=\"\n",
       "  2573.81,1109.46 2573.81,1090.56 \n",
       "  \"/>\n",
       "<polyline clip-path=\"url(#clip390)\" style=\"stroke:#000000; stroke-linecap:butt; stroke-linejoin:round; stroke-width:4; stroke-opacity:1; fill:none\" points=\"\n",
       "  2851.46,1109.46 2851.46,1090.56 \n",
       "  \"/>\n",
       "<polyline clip-path=\"url(#clip390)\" style=\"stroke:#000000; stroke-linecap:butt; stroke-linejoin:round; stroke-width:4; stroke-opacity:1; fill:none\" points=\"\n",
       "  3129.11,1109.46 3129.11,1090.56 \n",
       "  \"/>\n",
       "<polyline clip-path=\"url(#clip390)\" style=\"stroke:#000000; stroke-linecap:butt; stroke-linejoin:round; stroke-width:4; stroke-opacity:1; fill:none\" points=\"\n",
       "  3406.76,1109.46 3406.76,1090.56 \n",
       "  \"/>\n",
       "<polyline clip-path=\"url(#clip390)\" style=\"stroke:#000000; stroke-linecap:butt; stroke-linejoin:round; stroke-width:4; stroke-opacity:1; fill:none\" points=\"\n",
       "  3684.41,1109.46 3684.41,1090.56 \n",
       "  \"/>\n",
       "<path clip-path=\"url(#clip390)\" d=\"M2243.18 1166.1 L2272.86 1166.1 L2272.86 1170.03 L2243.18 1170.03 L2243.18 1166.1 Z\" fill=\"#000000\" fill-rule=\"evenodd\" fill-opacity=\"1\" /><path clip-path=\"url(#clip390)\" d=\"M2292.95 1151.45 Q2289.34 1151.45 2287.51 1155.01 Q2285.7 1158.55 2285.7 1165.68 Q2285.7 1172.79 2287.51 1176.35 Q2289.34 1179.9 2292.95 1179.9 Q2296.58 1179.9 2298.39 1176.35 Q2300.22 1172.79 2300.22 1165.68 Q2300.22 1158.55 2298.39 1155.01 Q2296.58 1151.45 2292.95 1151.45 M2292.95 1147.74 Q2298.76 1147.74 2301.82 1152.35 Q2304.89 1156.93 2304.89 1165.68 Q2304.89 1174.41 2301.82 1179.02 Q2298.76 1183.6 2292.95 1183.6 Q2287.14 1183.6 2284.06 1179.02 Q2281 1174.41 2281 1165.68 Q2281 1156.93 2284.06 1152.35 Q2287.14 1147.74 2292.95 1147.74 Z\" fill=\"#000000\" fill-rule=\"evenodd\" fill-opacity=\"1\" /><path clip-path=\"url(#clip390)\" d=\"M2313.11 1177.05 L2318 1177.05 L2318 1182.93 L2313.11 1182.93 L2313.11 1177.05 Z\" fill=\"#000000\" fill-rule=\"evenodd\" fill-opacity=\"1\" /><path clip-path=\"url(#clip390)\" d=\"M2328.23 1148.37 L2346.58 1148.37 L2346.58 1152.3 L2332.51 1152.3 L2332.51 1160.78 Q2333.53 1160.43 2334.55 1160.27 Q2335.56 1160.08 2336.58 1160.08 Q2342.37 1160.08 2345.75 1163.25 Q2349.13 1166.42 2349.13 1171.84 Q2349.13 1177.42 2345.66 1180.52 Q2342.19 1183.6 2335.87 1183.6 Q2333.69 1183.6 2331.42 1183.23 Q2329.18 1182.86 2326.77 1182.12 L2326.77 1177.42 Q2328.85 1178.55 2331.07 1179.11 Q2333.3 1179.66 2335.77 1179.66 Q2339.78 1179.66 2342.12 1177.56 Q2344.45 1175.45 2344.45 1171.84 Q2344.45 1168.23 2342.12 1166.12 Q2339.78 1164.02 2335.77 1164.02 Q2333.9 1164.02 2332.02 1164.43 Q2330.17 1164.85 2328.23 1165.73 L2328.23 1148.37 Z\" fill=\"#000000\" fill-rule=\"evenodd\" fill-opacity=\"1\" /><path clip-path=\"url(#clip390)\" d=\"M2551.19 1151.45 Q2547.58 1151.45 2545.75 1155.01 Q2543.94 1158.55 2543.94 1165.68 Q2543.94 1172.79 2545.75 1176.35 Q2547.58 1179.9 2551.19 1179.9 Q2554.82 1179.9 2556.63 1176.35 Q2558.46 1172.79 2558.46 1165.68 Q2558.46 1158.55 2556.63 1155.01 Q2554.82 1151.45 2551.19 1151.45 M2551.19 1147.74 Q2557 1147.74 2560.06 1152.35 Q2563.13 1156.93 2563.13 1165.68 Q2563.13 1174.41 2560.06 1179.02 Q2557 1183.6 2551.19 1183.6 Q2545.38 1183.6 2542.3 1179.02 Q2539.25 1174.41 2539.25 1165.68 Q2539.25 1156.93 2542.3 1152.35 Q2545.38 1147.74 2551.19 1147.74 Z\" fill=\"#000000\" fill-rule=\"evenodd\" fill-opacity=\"1\" /><path clip-path=\"url(#clip390)\" d=\"M2571.35 1177.05 L2576.24 1177.05 L2576.24 1182.93 L2571.35 1182.93 L2571.35 1177.05 Z\" fill=\"#000000\" fill-rule=\"evenodd\" fill-opacity=\"1\" /><path clip-path=\"url(#clip390)\" d=\"M2596.42 1151.45 Q2592.81 1151.45 2590.98 1155.01 Q2589.18 1158.55 2589.18 1165.68 Q2589.18 1172.79 2590.98 1176.35 Q2592.81 1179.9 2596.42 1179.9 Q2600.06 1179.9 2601.86 1176.35 Q2603.69 1172.79 2603.69 1165.68 Q2603.69 1158.55 2601.86 1155.01 Q2600.06 1151.45 2596.42 1151.45 M2596.42 1147.74 Q2602.23 1147.74 2605.29 1152.35 Q2608.37 1156.93 2608.37 1165.68 Q2608.37 1174.41 2605.29 1179.02 Q2602.23 1183.6 2596.42 1183.6 Q2590.61 1183.6 2587.53 1179.02 Q2584.48 1174.41 2584.48 1165.68 Q2584.48 1156.93 2587.53 1152.35 Q2590.61 1147.74 2596.42 1147.74 Z\" fill=\"#000000\" fill-rule=\"evenodd\" fill-opacity=\"1\" /><path clip-path=\"url(#clip390)\" d=\"M2829.34 1151.45 Q2825.73 1151.45 2823.9 1155.01 Q2822.09 1158.55 2822.09 1165.68 Q2822.09 1172.79 2823.9 1176.35 Q2825.73 1179.9 2829.34 1179.9 Q2832.97 1179.9 2834.78 1176.35 Q2836.61 1172.79 2836.61 1165.68 Q2836.61 1158.55 2834.78 1155.01 Q2832.97 1151.45 2829.34 1151.45 M2829.34 1147.74 Q2835.15 1147.74 2838.2 1152.35 Q2841.28 1156.93 2841.28 1165.68 Q2841.28 1174.41 2838.2 1179.02 Q2835.15 1183.6 2829.34 1183.6 Q2823.53 1183.6 2820.45 1179.02 Q2817.39 1174.41 2817.39 1165.68 Q2817.39 1156.93 2820.45 1152.35 Q2823.53 1147.74 2829.34 1147.74 Z\" fill=\"#000000\" fill-rule=\"evenodd\" fill-opacity=\"1\" /><path clip-path=\"url(#clip390)\" d=\"M2849.5 1177.05 L2854.38 1177.05 L2854.38 1182.93 L2849.5 1182.93 L2849.5 1177.05 Z\" fill=\"#000000\" fill-rule=\"evenodd\" fill-opacity=\"1\" /><path clip-path=\"url(#clip390)\" d=\"M2864.62 1148.37 L2882.97 1148.37 L2882.97 1152.3 L2868.9 1152.3 L2868.9 1160.78 Q2869.92 1160.43 2870.94 1160.27 Q2871.95 1160.08 2872.97 1160.08 Q2878.76 1160.08 2882.14 1163.25 Q2885.52 1166.42 2885.52 1171.84 Q2885.52 1177.42 2882.05 1180.52 Q2878.57 1183.6 2872.25 1183.6 Q2870.08 1183.6 2867.81 1183.23 Q2865.56 1182.86 2863.16 1182.12 L2863.16 1177.42 Q2865.24 1178.55 2867.46 1179.11 Q2869.69 1179.66 2872.16 1179.66 Q2876.17 1179.66 2878.5 1177.56 Q2880.84 1175.45 2880.84 1171.84 Q2880.84 1168.23 2878.5 1166.12 Q2876.17 1164.02 2872.16 1164.02 Q2870.29 1164.02 2868.41 1164.43 Q2866.56 1164.85 2864.62 1165.73 L2864.62 1148.37 Z\" fill=\"#000000\" fill-rule=\"evenodd\" fill-opacity=\"1\" /><path clip-path=\"url(#clip390)\" d=\"M3096.26 1178.99 L3103.9 1178.99 L3103.9 1152.63 L3095.59 1154.29 L3095.59 1150.03 L3103.85 1148.37 L3108.53 1148.37 L3108.53 1178.99 L3116.17 1178.99 L3116.17 1182.93 L3096.26 1182.93 L3096.26 1178.99 Z\" fill=\"#000000\" fill-rule=\"evenodd\" fill-opacity=\"1\" /><path clip-path=\"url(#clip390)\" d=\"M3125.61 1177.05 L3130.5 1177.05 L3130.5 1182.93 L3125.61 1182.93 L3125.61 1177.05 Z\" fill=\"#000000\" fill-rule=\"evenodd\" fill-opacity=\"1\" /><path clip-path=\"url(#clip390)\" d=\"M3150.68 1151.45 Q3147.07 1151.45 3145.24 1155.01 Q3143.43 1158.55 3143.43 1165.68 Q3143.43 1172.79 3145.24 1176.35 Q3147.07 1179.9 3150.68 1179.9 Q3154.31 1179.9 3156.12 1176.35 Q3157.95 1172.79 3157.95 1165.68 Q3157.95 1158.55 3156.12 1155.01 Q3154.31 1151.45 3150.68 1151.45 M3150.68 1147.74 Q3156.49 1147.74 3159.55 1152.35 Q3162.62 1156.93 3162.62 1165.68 Q3162.62 1174.41 3159.55 1179.02 Q3156.49 1183.6 3150.68 1183.6 Q3144.87 1183.6 3141.79 1179.02 Q3138.74 1174.41 3138.74 1165.68 Q3138.74 1156.93 3141.79 1152.35 Q3144.87 1147.74 3150.68 1147.74 Z\" fill=\"#000000\" fill-rule=\"evenodd\" fill-opacity=\"1\" /><path clip-path=\"url(#clip390)\" d=\"M3374.41 1178.99 L3382.05 1178.99 L3382.05 1152.63 L3373.74 1154.29 L3373.74 1150.03 L3382 1148.37 L3386.68 1148.37 L3386.68 1178.99 L3394.31 1178.99 L3394.31 1182.93 L3374.41 1182.93 L3374.41 1178.99 Z\" fill=\"#000000\" fill-rule=\"evenodd\" fill-opacity=\"1\" /><path clip-path=\"url(#clip390)\" d=\"M3403.76 1177.05 L3408.64 1177.05 L3408.64 1182.93 L3403.76 1182.93 L3403.76 1177.05 Z\" fill=\"#000000\" fill-rule=\"evenodd\" fill-opacity=\"1\" /><path clip-path=\"url(#clip390)\" d=\"M3418.87 1148.37 L3437.23 1148.37 L3437.23 1152.3 L3423.16 1152.3 L3423.16 1160.78 Q3424.18 1160.43 3425.19 1160.27 Q3426.21 1160.08 3427.23 1160.08 Q3433.02 1160.08 3436.4 1163.25 Q3439.78 1166.42 3439.78 1171.84 Q3439.78 1177.42 3436.31 1180.52 Q3432.83 1183.6 3426.51 1183.6 Q3424.34 1183.6 3422.07 1183.23 Q3419.82 1182.86 3417.42 1182.12 L3417.42 1177.42 Q3419.5 1178.55 3421.72 1179.11 Q3423.94 1179.66 3426.42 1179.66 Q3430.43 1179.66 3432.76 1177.56 Q3435.1 1175.45 3435.1 1171.84 Q3435.1 1168.23 3432.76 1166.12 Q3430.43 1164.02 3426.42 1164.02 Q3424.55 1164.02 3422.67 1164.43 Q3420.82 1164.85 3418.87 1165.73 L3418.87 1148.37 Z\" fill=\"#000000\" fill-rule=\"evenodd\" fill-opacity=\"1\" /><path clip-path=\"url(#clip390)\" d=\"M3655.65 1178.99 L3671.96 1178.99 L3671.96 1182.93 L3650.02 1182.93 L3650.02 1178.99 Q3652.68 1176.24 3657.27 1171.61 Q3661.87 1166.96 3663.05 1165.61 Q3665.3 1163.09 3666.18 1161.35 Q3667.08 1159.59 3667.08 1157.9 Q3667.08 1155.15 3665.14 1153.41 Q3663.21 1151.68 3660.11 1151.68 Q3657.91 1151.68 3655.46 1152.44 Q3653.03 1153.21 3650.25 1154.76 L3650.25 1150.03 Q3653.08 1148.9 3655.53 1148.32 Q3657.98 1147.74 3660.02 1147.74 Q3665.39 1147.74 3668.59 1150.43 Q3671.78 1153.11 3671.78 1157.6 Q3671.78 1159.73 3670.97 1161.65 Q3670.18 1163.55 3668.08 1166.15 Q3667.5 1166.82 3664.4 1170.03 Q3661.29 1173.23 3655.65 1178.99 Z\" fill=\"#000000\" fill-rule=\"evenodd\" fill-opacity=\"1\" /><path clip-path=\"url(#clip390)\" d=\"M3681.78 1177.05 L3686.66 1177.05 L3686.66 1182.93 L3681.78 1182.93 L3681.78 1177.05 Z\" fill=\"#000000\" fill-rule=\"evenodd\" fill-opacity=\"1\" /><path clip-path=\"url(#clip390)\" d=\"M3706.85 1151.45 Q3703.24 1151.45 3701.41 1155.01 Q3699.6 1158.55 3699.6 1165.68 Q3699.6 1172.79 3701.41 1176.35 Q3703.24 1179.9 3706.85 1179.9 Q3710.48 1179.9 3712.29 1176.35 Q3714.12 1172.79 3714.12 1165.68 Q3714.12 1158.55 3712.29 1155.01 Q3710.48 1151.45 3706.85 1151.45 M3706.85 1147.74 Q3712.66 1147.74 3715.71 1152.35 Q3718.79 1156.93 3718.79 1165.68 Q3718.79 1174.41 3715.71 1179.02 Q3712.66 1183.6 3706.85 1183.6 Q3701.04 1183.6 3697.96 1179.02 Q3694.9 1174.41 3694.9 1165.68 Q3694.9 1156.93 3697.96 1152.35 Q3701.04 1147.74 3706.85 1147.74 Z\" fill=\"#000000\" fill-rule=\"evenodd\" fill-opacity=\"1\" /><polyline clip-path=\"url(#clip393)\" style=\"stroke:#000000; stroke-linecap:butt; stroke-linejoin:round; stroke-width:2; stroke-opacity:0.1; fill:none\" points=\"\n",
       "  2206.1,1093.67 3952.76,1093.67 \n",
       "  \"/>\n",
       "<polyline clip-path=\"url(#clip393)\" style=\"stroke:#000000; stroke-linecap:butt; stroke-linejoin:round; stroke-width:2; stroke-opacity:0.1; fill:none\" points=\"\n",
       "  2206.1,937.362 3952.76,937.362 \n",
       "  \"/>\n",
       "<polyline clip-path=\"url(#clip393)\" style=\"stroke:#000000; stroke-linecap:butt; stroke-linejoin:round; stroke-width:2; stroke-opacity:0.1; fill:none\" points=\"\n",
       "  2206.1,781.058 3952.76,781.058 \n",
       "  \"/>\n",
       "<polyline clip-path=\"url(#clip393)\" style=\"stroke:#000000; stroke-linecap:butt; stroke-linejoin:round; stroke-width:2; stroke-opacity:0.1; fill:none\" points=\"\n",
       "  2206.1,624.753 3952.76,624.753 \n",
       "  \"/>\n",
       "<polyline clip-path=\"url(#clip393)\" style=\"stroke:#000000; stroke-linecap:butt; stroke-linejoin:round; stroke-width:2; stroke-opacity:0.1; fill:none\" points=\"\n",
       "  2206.1,468.448 3952.76,468.448 \n",
       "  \"/>\n",
       "<polyline clip-path=\"url(#clip393)\" style=\"stroke:#000000; stroke-linecap:butt; stroke-linejoin:round; stroke-width:2; stroke-opacity:0.1; fill:none\" points=\"\n",
       "  2206.1,312.144 3952.76,312.144 \n",
       "  \"/>\n",
       "<polyline clip-path=\"url(#clip393)\" style=\"stroke:#000000; stroke-linecap:butt; stroke-linejoin:round; stroke-width:2; stroke-opacity:0.1; fill:none\" points=\"\n",
       "  2206.1,155.839 3952.76,155.839 \n",
       "  \"/>\n",
       "<polyline clip-path=\"url(#clip390)\" style=\"stroke:#000000; stroke-linecap:butt; stroke-linejoin:round; stroke-width:4; stroke-opacity:1; fill:none\" points=\"\n",
       "  2206.1,1109.46 2206.1,47.2441 \n",
       "  \"/>\n",
       "<polyline clip-path=\"url(#clip390)\" style=\"stroke:#000000; stroke-linecap:butt; stroke-linejoin:round; stroke-width:4; stroke-opacity:1; fill:none\" points=\"\n",
       "  2206.1,1093.67 2225,1093.67 \n",
       "  \"/>\n",
       "<polyline clip-path=\"url(#clip390)\" style=\"stroke:#000000; stroke-linecap:butt; stroke-linejoin:round; stroke-width:4; stroke-opacity:1; fill:none\" points=\"\n",
       "  2206.1,937.362 2225,937.362 \n",
       "  \"/>\n",
       "<polyline clip-path=\"url(#clip390)\" style=\"stroke:#000000; stroke-linecap:butt; stroke-linejoin:round; stroke-width:4; stroke-opacity:1; fill:none\" points=\"\n",
       "  2206.1,781.058 2225,781.058 \n",
       "  \"/>\n",
       "<polyline clip-path=\"url(#clip390)\" style=\"stroke:#000000; stroke-linecap:butt; stroke-linejoin:round; stroke-width:4; stroke-opacity:1; fill:none\" points=\"\n",
       "  2206.1,624.753 2225,624.753 \n",
       "  \"/>\n",
       "<polyline clip-path=\"url(#clip390)\" style=\"stroke:#000000; stroke-linecap:butt; stroke-linejoin:round; stroke-width:4; stroke-opacity:1; fill:none\" points=\"\n",
       "  2206.1,468.448 2225,468.448 \n",
       "  \"/>\n",
       "<polyline clip-path=\"url(#clip390)\" style=\"stroke:#000000; stroke-linecap:butt; stroke-linejoin:round; stroke-width:4; stroke-opacity:1; fill:none\" points=\"\n",
       "  2206.1,312.144 2225,312.144 \n",
       "  \"/>\n",
       "<polyline clip-path=\"url(#clip390)\" style=\"stroke:#000000; stroke-linecap:butt; stroke-linejoin:round; stroke-width:4; stroke-opacity:1; fill:none\" points=\"\n",
       "  2206.1,155.839 2225,155.839 \n",
       "  \"/>\n",
       "<path clip-path=\"url(#clip390)\" d=\"M2040.16 1094.12 L2069.83 1094.12 L2069.83 1098.05 L2040.16 1098.05 L2040.16 1094.12 Z\" fill=\"#000000\" fill-rule=\"evenodd\" fill-opacity=\"1\" /><path clip-path=\"url(#clip390)\" d=\"M2083.95 1107.01 L2100.27 1107.01 L2100.27 1110.95 L2078.33 1110.95 L2078.33 1107.01 Q2080.99 1104.26 2085.57 1099.63 Q2090.18 1094.97 2091.36 1093.63 Q2093.61 1091.11 2094.48 1089.37 Q2095.39 1087.61 2095.39 1085.92 Q2095.39 1083.17 2093.44 1081.43 Q2091.52 1079.7 2088.42 1079.7 Q2086.22 1079.7 2083.77 1080.46 Q2081.34 1081.23 2078.56 1082.78 L2078.56 1078.05 Q2081.38 1076.92 2083.84 1076.34 Q2086.29 1075.76 2088.33 1075.76 Q2093.7 1075.76 2096.89 1078.45 Q2100.09 1081.13 2100.09 1085.62 Q2100.09 1087.75 2099.28 1089.67 Q2098.49 1091.57 2096.38 1094.16 Q2095.8 1094.84 2092.7 1098.05 Q2089.6 1101.25 2083.95 1107.01 Z\" fill=\"#000000\" fill-rule=\"evenodd\" fill-opacity=\"1\" /><path clip-path=\"url(#clip390)\" d=\"M2110.09 1105.07 L2114.97 1105.07 L2114.97 1110.95 L2110.09 1110.95 L2110.09 1105.07 Z\" fill=\"#000000\" fill-rule=\"evenodd\" fill-opacity=\"1\" /><path clip-path=\"url(#clip390)\" d=\"M2125.2 1076.39 L2143.56 1076.39 L2143.56 1080.32 L2129.48 1080.32 L2129.48 1088.79 Q2130.5 1088.45 2131.52 1088.29 Q2132.54 1088.1 2133.56 1088.1 Q2139.35 1088.1 2142.73 1091.27 Q2146.1 1094.44 2146.1 1099.86 Q2146.1 1105.44 2142.63 1108.54 Q2139.16 1111.62 2132.84 1111.62 Q2130.67 1111.62 2128.4 1111.25 Q2126.15 1110.88 2123.74 1110.14 L2123.74 1105.44 Q2125.83 1106.57 2128.05 1107.13 Q2130.27 1107.68 2132.75 1107.68 Q2136.75 1107.68 2139.09 1105.58 Q2141.43 1103.47 2141.43 1099.86 Q2141.43 1096.25 2139.09 1094.14 Q2136.75 1092.04 2132.75 1092.04 Q2130.87 1092.04 2129 1092.45 Q2127.15 1092.87 2125.2 1093.75 L2125.2 1076.39 Z\" fill=\"#000000\" fill-rule=\"evenodd\" fill-opacity=\"1\" /><path clip-path=\"url(#clip390)\" d=\"M2039.16 937.814 L2068.84 937.814 L2068.84 941.749 L2039.16 941.749 L2039.16 937.814 Z\" fill=\"#000000\" fill-rule=\"evenodd\" fill-opacity=\"1\" /><path clip-path=\"url(#clip390)\" d=\"M2082.96 950.707 L2099.28 950.707 L2099.28 954.642 L2077.33 954.642 L2077.33 950.707 Q2079.99 947.953 2084.58 943.323 Q2089.18 938.67 2090.36 937.328 Q2092.61 934.805 2093.49 933.068 Q2094.39 931.309 2094.39 929.619 Q2094.39 926.865 2092.45 925.129 Q2090.53 923.393 2087.42 923.393 Q2085.23 923.393 2082.77 924.156 Q2080.34 924.92 2077.56 926.471 L2077.56 921.749 Q2080.39 920.615 2082.84 920.036 Q2085.3 919.457 2087.33 919.457 Q2092.7 919.457 2095.9 922.143 Q2099.09 924.828 2099.09 929.318 Q2099.09 931.448 2098.28 933.369 Q2097.49 935.268 2095.39 937.86 Q2094.81 938.531 2091.71 941.749 Q2088.61 944.943 2082.96 950.707 Z\" fill=\"#000000\" fill-rule=\"evenodd\" fill-opacity=\"1\" /><path clip-path=\"url(#clip390)\" d=\"M2109.09 948.763 L2113.98 948.763 L2113.98 954.642 L2109.09 954.642 L2109.09 948.763 Z\" fill=\"#000000\" fill-rule=\"evenodd\" fill-opacity=\"1\" /><path clip-path=\"url(#clip390)\" d=\"M2134.16 923.161 Q2130.55 923.161 2128.72 926.726 Q2126.92 930.268 2126.92 937.397 Q2126.92 944.504 2128.72 948.068 Q2130.55 951.61 2134.16 951.61 Q2137.79 951.61 2139.6 948.068 Q2141.43 944.504 2141.43 937.397 Q2141.43 930.268 2139.6 926.726 Q2137.79 923.161 2134.16 923.161 M2134.16 919.457 Q2139.97 919.457 2143.03 924.064 Q2146.1 928.647 2146.1 937.397 Q2146.1 946.124 2143.03 950.73 Q2139.97 955.314 2134.16 955.314 Q2128.35 955.314 2125.27 950.73 Q2122.22 946.124 2122.22 937.397 Q2122.22 928.647 2125.27 924.064 Q2128.35 919.457 2134.16 919.457 Z\" fill=\"#000000\" fill-rule=\"evenodd\" fill-opacity=\"1\" /><path clip-path=\"url(#clip390)\" d=\"M2040.16 781.509 L2069.83 781.509 L2069.83 785.444 L2040.16 785.444 L2040.16 781.509 Z\" fill=\"#000000\" fill-rule=\"evenodd\" fill-opacity=\"1\" /><path clip-path=\"url(#clip390)\" d=\"M2080.73 794.403 L2088.37 794.403 L2088.37 768.037 L2080.06 769.704 L2080.06 765.444 L2088.33 763.778 L2093 763.778 L2093 794.403 L2100.64 794.403 L2100.64 798.338 L2080.73 798.338 L2080.73 794.403 Z\" fill=\"#000000\" fill-rule=\"evenodd\" fill-opacity=\"1\" /><path clip-path=\"url(#clip390)\" d=\"M2110.09 792.458 L2114.97 792.458 L2114.97 798.338 L2110.09 798.338 L2110.09 792.458 Z\" fill=\"#000000\" fill-rule=\"evenodd\" fill-opacity=\"1\" /><path clip-path=\"url(#clip390)\" d=\"M2125.2 763.778 L2143.56 763.778 L2143.56 767.713 L2129.48 767.713 L2129.48 776.185 Q2130.5 775.838 2131.52 775.676 Q2132.54 775.491 2133.56 775.491 Q2139.35 775.491 2142.73 778.662 Q2146.1 781.833 2146.1 787.25 Q2146.1 792.828 2142.63 795.93 Q2139.16 799.009 2132.84 799.009 Q2130.67 799.009 2128.4 798.639 Q2126.15 798.268 2123.74 797.528 L2123.74 792.828 Q2125.83 793.963 2128.05 794.518 Q2130.27 795.074 2132.75 795.074 Q2136.75 795.074 2139.09 792.967 Q2141.43 790.861 2141.43 787.25 Q2141.43 783.639 2139.09 781.532 Q2136.75 779.426 2132.75 779.426 Q2130.87 779.426 2129 779.842 Q2127.15 780.259 2125.2 781.139 L2125.2 763.778 Z\" fill=\"#000000\" fill-rule=\"evenodd\" fill-opacity=\"1\" /><path clip-path=\"url(#clip390)\" d=\"M2039.16 625.204 L2068.84 625.204 L2068.84 629.14 L2039.16 629.14 L2039.16 625.204 Z\" fill=\"#000000\" fill-rule=\"evenodd\" fill-opacity=\"1\" /><path clip-path=\"url(#clip390)\" d=\"M2079.74 638.098 L2087.38 638.098 L2087.38 611.732 L2079.07 613.399 L2079.07 609.14 L2087.33 607.473 L2092.01 607.473 L2092.01 638.098 L2099.65 638.098 L2099.65 642.033 L2079.74 642.033 L2079.74 638.098 Z\" fill=\"#000000\" fill-rule=\"evenodd\" fill-opacity=\"1\" /><path clip-path=\"url(#clip390)\" d=\"M2109.09 636.153 L2113.98 636.153 L2113.98 642.033 L2109.09 642.033 L2109.09 636.153 Z\" fill=\"#000000\" fill-rule=\"evenodd\" fill-opacity=\"1\" /><path clip-path=\"url(#clip390)\" d=\"M2134.16 610.552 Q2130.55 610.552 2128.72 614.116 Q2126.92 617.658 2126.92 624.788 Q2126.92 631.894 2128.72 635.459 Q2130.55 639.001 2134.16 639.001 Q2137.79 639.001 2139.6 635.459 Q2141.43 631.894 2141.43 624.788 Q2141.43 617.658 2139.6 614.116 Q2137.79 610.552 2134.16 610.552 M2134.16 606.848 Q2139.97 606.848 2143.03 611.454 Q2146.1 616.038 2146.1 624.788 Q2146.1 633.515 2143.03 638.121 Q2139.97 642.704 2134.16 642.704 Q2128.35 642.704 2125.27 638.121 Q2122.22 633.515 2122.22 624.788 Q2122.22 616.038 2125.27 611.454 Q2128.35 606.848 2134.16 606.848 Z\" fill=\"#000000\" fill-rule=\"evenodd\" fill-opacity=\"1\" /><path clip-path=\"url(#clip390)\" d=\"M2040.16 468.9 L2069.83 468.9 L2069.83 472.835 L2040.16 472.835 L2040.16 468.9 Z\" fill=\"#000000\" fill-rule=\"evenodd\" fill-opacity=\"1\" /><path clip-path=\"url(#clip390)\" d=\"M2089.92 454.247 Q2086.31 454.247 2084.48 457.812 Q2082.68 461.353 2082.68 468.483 Q2082.68 475.589 2084.48 479.154 Q2086.31 482.696 2089.92 482.696 Q2093.56 482.696 2095.36 479.154 Q2097.19 475.589 2097.19 468.483 Q2097.19 461.353 2095.36 457.812 Q2093.56 454.247 2089.92 454.247 M2089.92 450.543 Q2095.73 450.543 2098.79 455.15 Q2101.87 459.733 2101.87 468.483 Q2101.87 477.21 2098.79 481.816 Q2095.73 486.4 2089.92 486.4 Q2084.11 486.4 2081.04 481.816 Q2077.98 477.21 2077.98 468.483 Q2077.98 459.733 2081.04 455.15 Q2084.11 450.543 2089.92 450.543 Z\" fill=\"#000000\" fill-rule=\"evenodd\" fill-opacity=\"1\" /><path clip-path=\"url(#clip390)\" d=\"M2110.09 479.849 L2114.97 479.849 L2114.97 485.728 L2110.09 485.728 L2110.09 479.849 Z\" fill=\"#000000\" fill-rule=\"evenodd\" fill-opacity=\"1\" /><path clip-path=\"url(#clip390)\" d=\"M2125.2 451.168 L2143.56 451.168 L2143.56 455.103 L2129.48 455.103 L2129.48 463.576 Q2130.5 463.228 2131.52 463.066 Q2132.54 462.881 2133.56 462.881 Q2139.35 462.881 2142.73 466.052 Q2146.1 469.224 2146.1 474.64 Q2146.1 480.219 2142.63 483.321 Q2139.16 486.4 2132.84 486.4 Q2130.67 486.4 2128.4 486.029 Q2126.15 485.659 2123.74 484.918 L2123.74 480.219 Q2125.83 481.353 2128.05 481.909 Q2130.27 482.464 2132.75 482.464 Q2136.75 482.464 2139.09 480.358 Q2141.43 478.251 2141.43 474.64 Q2141.43 471.029 2139.09 468.923 Q2136.75 466.816 2132.75 466.816 Q2130.87 466.816 2129 467.233 Q2127.15 467.65 2125.2 468.529 L2125.2 451.168 Z\" fill=\"#000000\" fill-rule=\"evenodd\" fill-opacity=\"1\" /><path clip-path=\"url(#clip390)\" d=\"M2088.93 297.942 Q2085.32 297.942 2083.49 301.507 Q2081.68 305.049 2081.68 312.178 Q2081.68 319.285 2083.49 322.85 Q2085.32 326.391 2088.93 326.391 Q2092.56 326.391 2094.37 322.85 Q2096.2 319.285 2096.2 312.178 Q2096.2 305.049 2094.37 301.507 Q2092.56 297.942 2088.93 297.942 M2088.93 294.239 Q2094.74 294.239 2097.8 298.845 Q2100.87 303.428 2100.87 312.178 Q2100.87 320.905 2097.8 325.512 Q2094.74 330.095 2088.93 330.095 Q2083.12 330.095 2080.04 325.512 Q2076.98 320.905 2076.98 312.178 Q2076.98 303.428 2080.04 298.845 Q2083.12 294.239 2088.93 294.239 Z\" fill=\"#000000\" fill-rule=\"evenodd\" fill-opacity=\"1\" /><path clip-path=\"url(#clip390)\" d=\"M2109.09 323.544 L2113.98 323.544 L2113.98 329.424 L2109.09 329.424 L2109.09 323.544 Z\" fill=\"#000000\" fill-rule=\"evenodd\" fill-opacity=\"1\" /><path clip-path=\"url(#clip390)\" d=\"M2134.16 297.942 Q2130.55 297.942 2128.72 301.507 Q2126.92 305.049 2126.92 312.178 Q2126.92 319.285 2128.72 322.85 Q2130.55 326.391 2134.16 326.391 Q2137.79 326.391 2139.6 322.85 Q2141.43 319.285 2141.43 312.178 Q2141.43 305.049 2139.6 301.507 Q2137.79 297.942 2134.16 297.942 M2134.16 294.239 Q2139.97 294.239 2143.03 298.845 Q2146.1 303.428 2146.1 312.178 Q2146.1 320.905 2143.03 325.512 Q2139.97 330.095 2134.16 330.095 Q2128.35 330.095 2125.27 325.512 Q2122.22 320.905 2122.22 312.178 Q2122.22 303.428 2125.27 298.845 Q2128.35 294.239 2134.16 294.239 Z\" fill=\"#000000\" fill-rule=\"evenodd\" fill-opacity=\"1\" /><path clip-path=\"url(#clip390)\" d=\"M2089.92 141.638 Q2086.31 141.638 2084.48 145.202 Q2082.68 148.744 2082.68 155.874 Q2082.68 162.98 2084.48 166.545 Q2086.31 170.086 2089.92 170.086 Q2093.56 170.086 2095.36 166.545 Q2097.19 162.98 2097.19 155.874 Q2097.19 148.744 2095.36 145.202 Q2093.56 141.638 2089.92 141.638 M2089.92 137.934 Q2095.73 137.934 2098.79 142.54 Q2101.87 147.124 2101.87 155.874 Q2101.87 164.6 2098.79 169.207 Q2095.73 173.79 2089.92 173.79 Q2084.11 173.79 2081.04 169.207 Q2077.98 164.6 2077.98 155.874 Q2077.98 147.124 2081.04 142.54 Q2084.11 137.934 2089.92 137.934 Z\" fill=\"#000000\" fill-rule=\"evenodd\" fill-opacity=\"1\" /><path clip-path=\"url(#clip390)\" d=\"M2110.09 167.239 L2114.97 167.239 L2114.97 173.119 L2110.09 173.119 L2110.09 167.239 Z\" fill=\"#000000\" fill-rule=\"evenodd\" fill-opacity=\"1\" /><path clip-path=\"url(#clip390)\" d=\"M2125.2 138.559 L2143.56 138.559 L2143.56 142.494 L2129.48 142.494 L2129.48 150.966 Q2130.5 150.619 2131.52 150.457 Q2132.54 150.272 2133.56 150.272 Q2139.35 150.272 2142.73 153.443 Q2146.1 156.614 2146.1 162.031 Q2146.1 167.61 2142.63 170.711 Q2139.16 173.79 2132.84 173.79 Q2130.67 173.79 2128.4 173.42 Q2126.15 173.049 2123.74 172.309 L2123.74 167.61 Q2125.83 168.744 2128.05 169.299 Q2130.27 169.855 2132.75 169.855 Q2136.75 169.855 2139.09 167.749 Q2141.43 165.642 2141.43 162.031 Q2141.43 158.42 2139.09 156.313 Q2136.75 154.207 2132.75 154.207 Q2130.87 154.207 2129 154.624 Q2127.15 155.04 2125.2 155.92 L2125.2 138.559 Z\" fill=\"#000000\" fill-rule=\"evenodd\" fill-opacity=\"1\" /><circle clip-path=\"url(#clip393)\" cx=\"2873.83\" cy=\"822.183\" r=\"14\" fill=\"#6b9e32\" fill-rule=\"evenodd\" fill-opacity=\"1\" stroke=\"#000000\" stroke-opacity=\"1\" stroke-width=\"2.4\"/>\n",
       "<circle clip-path=\"url(#clip393)\" cx=\"2412.12\" cy=\"976.721\" r=\"14\" fill=\"#6b9e32\" fill-rule=\"evenodd\" fill-opacity=\"1\" stroke=\"#000000\" stroke-opacity=\"1\" stroke-width=\"2.4\"/>\n",
       "<circle clip-path=\"url(#clip393)\" cx=\"2543.05\" cy=\"891.054\" r=\"14\" fill=\"#6b9e32\" fill-rule=\"evenodd\" fill-opacity=\"1\" stroke=\"#000000\" stroke-opacity=\"1\" stroke-width=\"2.4\"/>\n",
       "<circle clip-path=\"url(#clip393)\" cx=\"2667.99\" cy=\"811.729\" r=\"14\" fill=\"#6b9e32\" fill-rule=\"evenodd\" fill-opacity=\"1\" stroke=\"#000000\" stroke-opacity=\"1\" stroke-width=\"2.4\"/>\n",
       "<circle clip-path=\"url(#clip393)\" cx=\"2815.83\" cy=\"716.337\" r=\"14\" fill=\"#6b9e32\" fill-rule=\"evenodd\" fill-opacity=\"1\" stroke=\"#000000\" stroke-opacity=\"1\" stroke-width=\"2.4\"/>\n",
       "<circle clip-path=\"url(#clip393)\" cx=\"2427.32\" cy=\"967.694\" r=\"14\" fill=\"#6b9e32\" fill-rule=\"evenodd\" fill-opacity=\"1\" stroke=\"#000000\" stroke-opacity=\"1\" stroke-width=\"2.4\"/>\n",
       "<circle clip-path=\"url(#clip393)\" cx=\"3055.93\" cy=\"551.797\" r=\"14\" fill=\"#6b9e32\" fill-rule=\"evenodd\" fill-opacity=\"1\" stroke=\"#000000\" stroke-opacity=\"1\" stroke-width=\"2.4\"/>\n",
       "<circle clip-path=\"url(#clip393)\" cx=\"2862.06\" cy=\"685.413\" r=\"14\" fill=\"#6b9e32\" fill-rule=\"evenodd\" fill-opacity=\"1\" stroke=\"#000000\" stroke-opacity=\"1\" stroke-width=\"2.4\"/>\n",
       "<circle clip-path=\"url(#clip393)\" cx=\"2359.7\" cy=\"1011.12\" r=\"14\" fill=\"#6b9e32\" fill-rule=\"evenodd\" fill-opacity=\"1\" stroke=\"#000000\" stroke-opacity=\"1\" stroke-width=\"2.4\"/>\n",
       "<circle clip-path=\"url(#clip393)\" cx=\"2829.83\" cy=\"702.664\" r=\"14\" fill=\"#009af9\" fill-rule=\"evenodd\" fill-opacity=\"1\" stroke=\"#000000\" stroke-opacity=\"1\" stroke-width=\"2.4\"/>\n",
       "<circle clip-path=\"url(#clip393)\" cx=\"2727.62\" cy=\"126.892\" r=\"14\" fill=\"#009af9\" fill-rule=\"evenodd\" fill-opacity=\"1\" stroke=\"#000000\" stroke-opacity=\"1\" stroke-width=\"2.4\"/>\n",
       "<circle clip-path=\"url(#clip393)\" cx=\"2832.97\" cy=\"156.218\" r=\"14\" fill=\"#6b9e32\" fill-rule=\"evenodd\" fill-opacity=\"1\" stroke=\"#000000\" stroke-opacity=\"1\" stroke-width=\"2.4\"/>\n",
       "<circle clip-path=\"url(#clip393)\" cx=\"2576.67\" cy=\"87.8762\" r=\"14\" fill=\"#009af9\" fill-rule=\"evenodd\" fill-opacity=\"1\" stroke=\"#000000\" stroke-opacity=\"1\" stroke-width=\"2.4\"/>\n",
       "<circle clip-path=\"url(#clip393)\" cx=\"2681.07\" cy=\"111.736\" r=\"14\" fill=\"#009af9\" fill-rule=\"evenodd\" fill-opacity=\"1\" stroke=\"#000000\" stroke-opacity=\"1\" stroke-width=\"2.4\"/>\n",
       "<circle clip-path=\"url(#clip393)\" cx=\"2822.83\" cy=\"153.372\" r=\"14\" fill=\"#009af9\" fill-rule=\"evenodd\" fill-opacity=\"1\" stroke=\"#000000\" stroke-opacity=\"1\" stroke-width=\"2.4\"/>\n",
       "<circle clip-path=\"url(#clip393)\" cx=\"3425.47\" cy=\"983.589\" r=\"14\" fill=\"#009af9\" fill-rule=\"evenodd\" fill-opacity=\"1\" stroke=\"#000000\" stroke-opacity=\"1\" stroke-width=\"2.4\"/>\n",
       "<circle clip-path=\"url(#clip393)\" cx=\"3352.01\" cy=\"1014.68\" r=\"14\" fill=\"#6b9e32\" fill-rule=\"evenodd\" fill-opacity=\"1\" stroke=\"#000000\" stroke-opacity=\"1\" stroke-width=\"2.4\"/>\n",
       "<circle clip-path=\"url(#clip393)\" cx=\"3821.08\" cy=\"795.687\" r=\"14\" fill=\"#009af9\" fill-rule=\"evenodd\" fill-opacity=\"1\" stroke=\"#000000\" stroke-opacity=\"1\" stroke-width=\"2.4\"/>\n",
       "<circle clip-path=\"url(#clip393)\" cx=\"3827.7\" cy=\"798.473\" r=\"14\" fill=\"#6b9e32\" fill-rule=\"evenodd\" fill-opacity=\"1\" stroke=\"#000000\" stroke-opacity=\"1\" stroke-width=\"2.4\"/>\n",
       "<circle clip-path=\"url(#clip393)\" cx=\"3842.09\" cy=\"784.463\" r=\"14\" fill=\"#6b9e32\" fill-rule=\"evenodd\" fill-opacity=\"1\" stroke=\"#000000\" stroke-opacity=\"1\" stroke-width=\"2.4\"/>\n",
       "<circle clip-path=\"url(#clip393)\" cx=\"2883.14\" cy=\"808.02\" r=\"14\" fill=\"#6b9e32\" fill-rule=\"evenodd\" fill-opacity=\"1\" stroke=\"#000000\" stroke-opacity=\"1\" stroke-width=\"2.4\"/>\n",
       "<circle clip-path=\"url(#clip393)\" cx=\"3026.11\" cy=\"572.718\" r=\"14\" fill=\"#6b9e32\" fill-rule=\"evenodd\" fill-opacity=\"1\" stroke=\"#000000\" stroke-opacity=\"1\" stroke-width=\"2.4\"/>\n",
       "<circle clip-path=\"url(#clip393)\" cx=\"2449.92\" cy=\"952.641\" r=\"14\" fill=\"#6b9e32\" fill-rule=\"evenodd\" fill-opacity=\"1\" stroke=\"#000000\" stroke-opacity=\"1\" stroke-width=\"2.4\"/>\n",
       "<circle clip-path=\"url(#clip393)\" cx=\"2255.54\" cy=\"1079.39\" r=\"14\" fill=\"#6b9e32\" fill-rule=\"evenodd\" fill-opacity=\"1\" stroke=\"#000000\" stroke-opacity=\"1\" stroke-width=\"2.4\"/>\n",
       "<circle clip-path=\"url(#clip393)\" cx=\"2742.77\" cy=\"763.036\" r=\"14\" fill=\"#6b9e32\" fill-rule=\"evenodd\" fill-opacity=\"1\" stroke=\"#000000\" stroke-opacity=\"1\" stroke-width=\"2.4\"/>\n",
       "<circle clip-path=\"url(#clip393)\" cx=\"2895\" cy=\"662.843\" r=\"14\" fill=\"#6b9e32\" fill-rule=\"evenodd\" fill-opacity=\"1\" stroke=\"#000000\" stroke-opacity=\"1\" stroke-width=\"2.4\"/>\n",
       "<circle clip-path=\"url(#clip393)\" cx=\"2704.29\" cy=\"787.719\" r=\"14\" fill=\"#6b9e32\" fill-rule=\"evenodd\" fill-opacity=\"1\" stroke=\"#000000\" stroke-opacity=\"1\" stroke-width=\"2.4\"/>\n",
       "<circle clip-path=\"url(#clip393)\" cx=\"2603.62\" cy=\"853.07\" r=\"14\" fill=\"#6b9e32\" fill-rule=\"evenodd\" fill-opacity=\"1\" stroke=\"#000000\" stroke-opacity=\"1\" stroke-width=\"2.4\"/>\n",
       "<circle clip-path=\"url(#clip393)\" cx=\"2505.13\" cy=\"916.403\" r=\"14\" fill=\"#6b9e32\" fill-rule=\"evenodd\" fill-opacity=\"1\" stroke=\"#000000\" stroke-opacity=\"1\" stroke-width=\"2.4\"/>\n",
       "<circle clip-path=\"url(#clip393)\" cx=\"2797.87\" cy=\"727.56\" r=\"14\" fill=\"#009af9\" fill-rule=\"evenodd\" fill-opacity=\"1\" stroke=\"#000000\" stroke-opacity=\"1\" stroke-width=\"2.4\"/>\n",
       "<circle clip-path=\"url(#clip393)\" cx=\"2625.7\" cy=\"98.4297\" r=\"14\" fill=\"#009af9\" fill-rule=\"evenodd\" fill-opacity=\"1\" stroke=\"#000000\" stroke-opacity=\"1\" stroke-width=\"2.4\"/>\n",
       "<circle clip-path=\"url(#clip393)\" cx=\"2616.49\" cy=\"96.2574\" r=\"14\" fill=\"#6b9e32\" fill-rule=\"evenodd\" fill-opacity=\"1\" stroke=\"#000000\" stroke-opacity=\"1\" stroke-width=\"2.4\"/>\n",
       "<circle clip-path=\"url(#clip393)\" cx=\"2644.87\" cy=\"102.747\" r=\"14\" fill=\"#009af9\" fill-rule=\"evenodd\" fill-opacity=\"1\" stroke=\"#000000\" stroke-opacity=\"1\" stroke-width=\"2.4\"/>\n",
       "<circle clip-path=\"url(#clip393)\" cx=\"2655.87\" cy=\"110.68\" r=\"14\" fill=\"#009af9\" fill-rule=\"evenodd\" fill-opacity=\"1\" stroke=\"#000000\" stroke-opacity=\"1\" stroke-width=\"2.4\"/>\n",
       "<circle clip-path=\"url(#clip393)\" cx=\"2530.64\" cy=\"77.3067\" r=\"14\" fill=\"#009af9\" fill-rule=\"evenodd\" fill-opacity=\"1\" stroke=\"#000000\" stroke-opacity=\"1\" stroke-width=\"2.4\"/>\n",
       "<circle clip-path=\"url(#clip393)\" cx=\"3418.49\" cy=\"988.945\" r=\"14\" fill=\"#009af9\" fill-rule=\"evenodd\" fill-opacity=\"1\" stroke=\"#000000\" stroke-opacity=\"1\" stroke-width=\"2.4\"/>\n",
       "<circle clip-path=\"url(#clip393)\" cx=\"3386.18\" cy=\"996.101\" r=\"14\" fill=\"#6b9e32\" fill-rule=\"evenodd\" fill-opacity=\"1\" stroke=\"#000000\" stroke-opacity=\"1\" stroke-width=\"2.4\"/>\n",
       "<circle clip-path=\"url(#clip393)\" cx=\"3808.15\" cy=\"807.316\" r=\"14\" fill=\"#009af9\" fill-rule=\"evenodd\" fill-opacity=\"1\" stroke=\"#000000\" stroke-opacity=\"1\" stroke-width=\"2.4\"/>\n",
       "<circle clip-path=\"url(#clip393)\" cx=\"3787.92\" cy=\"813.825\" r=\"14\" fill=\"#6b9e32\" fill-rule=\"evenodd\" fill-opacity=\"1\" stroke=\"#000000\" stroke-opacity=\"1\" stroke-width=\"2.4\"/>\n",
       "<circle clip-path=\"url(#clip393)\" cx=\"3903.32\" cy=\"755.991\" r=\"14\" fill=\"#6b9e32\" fill-rule=\"evenodd\" fill-opacity=\"1\" stroke=\"#000000\" stroke-opacity=\"1\" stroke-width=\"2.4\"/>\n",
       "<circle clip-path=\"url(#clip393)\" cx=\"2877.37\" cy=\"818.644\" r=\"14\" fill=\"#6b9e32\" fill-rule=\"evenodd\" fill-opacity=\"1\" stroke=\"#000000\" stroke-opacity=\"1\" stroke-width=\"2.4\"/>\n",
       "<circle clip-path=\"url(#clip393)\" cx=\"2527.2\" cy=\"902.727\" r=\"14\" fill=\"#6b9e32\" fill-rule=\"evenodd\" fill-opacity=\"1\" stroke=\"#000000\" stroke-opacity=\"1\" stroke-width=\"2.4\"/>\n",
       "<circle clip-path=\"url(#clip393)\" cx=\"2906.51\" cy=\"654.949\" r=\"14\" fill=\"#6b9e32\" fill-rule=\"evenodd\" fill-opacity=\"1\" stroke=\"#000000\" stroke-opacity=\"1\" stroke-width=\"2.4\"/>\n",
       "<circle clip-path=\"url(#clip393)\" cx=\"2511.38\" cy=\"911.591\" r=\"14\" fill=\"#6b9e32\" fill-rule=\"evenodd\" fill-opacity=\"1\" stroke=\"#000000\" stroke-opacity=\"1\" stroke-width=\"2.4\"/>\n",
       "<circle clip-path=\"url(#clip393)\" cx=\"2573.12\" cy=\"870.987\" r=\"14\" fill=\"#6b9e32\" fill-rule=\"evenodd\" fill-opacity=\"1\" stroke=\"#000000\" stroke-opacity=\"1\" stroke-width=\"2.4\"/>\n",
       "<circle clip-path=\"url(#clip393)\" cx=\"2808.64\" cy=\"718.105\" r=\"14\" fill=\"#6b9e32\" fill-rule=\"evenodd\" fill-opacity=\"1\" stroke=\"#000000\" stroke-opacity=\"1\" stroke-width=\"2.4\"/>\n",
       "<circle clip-path=\"url(#clip393)\" cx=\"2865.91\" cy=\"681.548\" r=\"14\" fill=\"#6b9e32\" fill-rule=\"evenodd\" fill-opacity=\"1\" stroke=\"#000000\" stroke-opacity=\"1\" stroke-width=\"2.4\"/>\n",
       "<circle clip-path=\"url(#clip393)\" cx=\"2706.63\" cy=\"787.374\" r=\"14\" fill=\"#6b9e32\" fill-rule=\"evenodd\" fill-opacity=\"1\" stroke=\"#000000\" stroke-opacity=\"1\" stroke-width=\"2.4\"/>\n",
       "<circle clip-path=\"url(#clip393)\" cx=\"2664.71\" cy=\"812.598\" r=\"14\" fill=\"#6b9e32\" fill-rule=\"evenodd\" fill-opacity=\"1\" stroke=\"#000000\" stroke-opacity=\"1\" stroke-width=\"2.4\"/>\n",
       "<circle clip-path=\"url(#clip393)\" cx=\"2777.23\" cy=\"739.559\" r=\"14\" fill=\"#009af9\" fill-rule=\"evenodd\" fill-opacity=\"1\" stroke=\"#000000\" stroke-opacity=\"1\" stroke-width=\"2.4\"/>\n",
       "<circle clip-path=\"url(#clip393)\" cx=\"2591.42\" cy=\"91.0481\" r=\"14\" fill=\"#009af9\" fill-rule=\"evenodd\" fill-opacity=\"1\" stroke=\"#000000\" stroke-opacity=\"1\" stroke-width=\"2.4\"/>\n",
       "<circle clip-path=\"url(#clip393)\" cx=\"2662.84\" cy=\"108.294\" r=\"14\" fill=\"#6b9e32\" fill-rule=\"evenodd\" fill-opacity=\"1\" stroke=\"#000000\" stroke-opacity=\"1\" stroke-width=\"2.4\"/>\n",
       "<circle clip-path=\"url(#clip393)\" cx=\"2628.45\" cy=\"99.6741\" r=\"14\" fill=\"#009af9\" fill-rule=\"evenodd\" fill-opacity=\"1\" stroke=\"#000000\" stroke-opacity=\"1\" stroke-width=\"2.4\"/>\n",
       "<circle clip-path=\"url(#clip393)\" cx=\"2684.04\" cy=\"116.378\" r=\"14\" fill=\"#009af9\" fill-rule=\"evenodd\" fill-opacity=\"1\" stroke=\"#000000\" stroke-opacity=\"1\" stroke-width=\"2.4\"/>\n",
       "<circle clip-path=\"url(#clip393)\" cx=\"2686.73\" cy=\"113.541\" r=\"14\" fill=\"#009af9\" fill-rule=\"evenodd\" fill-opacity=\"1\" stroke=\"#000000\" stroke-opacity=\"1\" stroke-width=\"2.4\"/>\n",
       "<circle clip-path=\"url(#clip393)\" cx=\"3484.5\" cy=\"960.289\" r=\"14\" fill=\"#009af9\" fill-rule=\"evenodd\" fill-opacity=\"1\" stroke=\"#000000\" stroke-opacity=\"1\" stroke-width=\"2.4\"/>\n",
       "<circle clip-path=\"url(#clip393)\" cx=\"3364.31\" cy=\"1010.53\" r=\"14\" fill=\"#6b9e32\" fill-rule=\"evenodd\" fill-opacity=\"1\" stroke=\"#000000\" stroke-opacity=\"1\" stroke-width=\"2.4\"/>\n",
       "<circle clip-path=\"url(#clip393)\" cx=\"3771.23\" cy=\"816.25\" r=\"14\" fill=\"#009af9\" fill-rule=\"evenodd\" fill-opacity=\"1\" stroke=\"#000000\" stroke-opacity=\"1\" stroke-width=\"2.4\"/>\n",
       "<circle clip-path=\"url(#clip393)\" cx=\"3860.21\" cy=\"789.436\" r=\"14\" fill=\"#6b9e32\" fill-rule=\"evenodd\" fill-opacity=\"1\" stroke=\"#000000\" stroke-opacity=\"1\" stroke-width=\"2.4\"/>\n",
       "<circle clip-path=\"url(#clip393)\" cx=\"3853.99\" cy=\"780.624\" r=\"14\" fill=\"#6b9e32\" fill-rule=\"evenodd\" fill-opacity=\"1\" stroke=\"#000000\" stroke-opacity=\"1\" stroke-width=\"2.4\"/>\n",
       "</svg>\n"
      ]
     },
     "execution_count": 19,
     "metadata": {},
     "output_type": "execute_result"
    }
   ],
   "source": [
    "params = Optim.minimizer(res)\n",
    "inferred_model = FlowModel( (NiceLayer(         PlanarMap(params[1],  params[2],  params[3])),\n",
    "                             ReverseNiceLayer(  PlanarMap(params[4],  params[5],  params[6])),\n",
    "                             NiceLayer(         PlanarMap(params[7],  params[8],  params[9])),\n",
    "                             ReverseNiceLayer(  PlanarMap(params[10], params[11], params[12]))))\n",
    "trans_data_x_1 = hcat(map((x) -> forward(inferred_model, x), [data_x[k,:] for k=1:size(data_x,1)])...)'\n",
    "trans_data_x_2 = map((x) -> dot([1, 1], x), [trans_data_x_1[k,:] for k=1:size(data_x,1)])\n",
    "trans_data_x_2_split = [trans_data_x_2[data_y .== 1.0], trans_data_x_2[data_y .== 0.0]]\n",
    "plt1 = scatter(data_x[:,1], data_x[:,2], color=Int64.(data_y))\n",
    "plt2 = scatter(trans_data_x_1[:,1], trans_data_x_1[:,2], color=Int64.(data_y))\n",
    "plot(plt1, plt2, size=(1000, 300), legend=false)"
   ]
  },
  {
   "cell_type": "code",
   "execution_count": 158,
   "id": "protective-bangkok",
   "metadata": {},
   "outputs": [
    {
     "data": {
      "image/svg+xml": [
       "<?xml version=\"1.0\" encoding=\"utf-8\"?>\n",
       "<svg xmlns=\"http://www.w3.org/2000/svg\" xmlns:xlink=\"http://www.w3.org/1999/xlink\" width=\"600\" height=\"400\" viewBox=\"0 0 2400 1600\">\n",
       "<defs>\n",
       "  <clipPath id=\"clip230\">\n",
       "    <rect x=\"0\" y=\"0\" width=\"2400\" height=\"1600\"/>\n",
       "  </clipPath>\n",
       "</defs>\n",
       "<path clip-path=\"url(#clip230)\" d=\"\n",
       "M0 1600 L2400 1600 L2400 0 L0 0  Z\n",
       "  \" fill=\"#ffffff\" fill-rule=\"evenodd\" fill-opacity=\"1\"/>\n",
       "<defs>\n",
       "  <clipPath id=\"clip231\">\n",
       "    <rect x=\"480\" y=\"0\" width=\"1681\" height=\"1600\"/>\n",
       "  </clipPath>\n",
       "</defs>\n",
       "<path clip-path=\"url(#clip230)\" d=\"\n",
       "M112.177 1486.45 L2352.76 1486.45 L2352.76 47.2441 L112.177 47.2441  Z\n",
       "  \" fill=\"#ffffff\" fill-rule=\"evenodd\" fill-opacity=\"1\"/>\n",
       "<defs>\n",
       "  <clipPath id=\"clip232\">\n",
       "    <rect x=\"112\" y=\"47\" width=\"2242\" height=\"1440\"/>\n",
       "  </clipPath>\n",
       "</defs>\n",
       "<polyline clip-path=\"url(#clip232)\" style=\"stroke:#000000; stroke-linecap:butt; stroke-linejoin:round; stroke-width:2; stroke-opacity:0.1; fill:none\" points=\"\n",
       "  230.998,1486.45 230.998,47.2441 \n",
       "  \"/>\n",
       "<polyline clip-path=\"url(#clip232)\" style=\"stroke:#000000; stroke-linecap:butt; stroke-linejoin:round; stroke-width:2; stroke-opacity:0.1; fill:none\" points=\"\n",
       "  623.962,1486.45 623.962,47.2441 \n",
       "  \"/>\n",
       "<polyline clip-path=\"url(#clip232)\" style=\"stroke:#000000; stroke-linecap:butt; stroke-linejoin:round; stroke-width:2; stroke-opacity:0.1; fill:none\" points=\"\n",
       "  1016.93,1486.45 1016.93,47.2441 \n",
       "  \"/>\n",
       "<polyline clip-path=\"url(#clip232)\" style=\"stroke:#000000; stroke-linecap:butt; stroke-linejoin:round; stroke-width:2; stroke-opacity:0.1; fill:none\" points=\"\n",
       "  1409.89,1486.45 1409.89,47.2441 \n",
       "  \"/>\n",
       "<polyline clip-path=\"url(#clip232)\" style=\"stroke:#000000; stroke-linecap:butt; stroke-linejoin:round; stroke-width:2; stroke-opacity:0.1; fill:none\" points=\"\n",
       "  1802.85,1486.45 1802.85,47.2441 \n",
       "  \"/>\n",
       "<polyline clip-path=\"url(#clip232)\" style=\"stroke:#000000; stroke-linecap:butt; stroke-linejoin:round; stroke-width:2; stroke-opacity:0.1; fill:none\" points=\"\n",
       "  2195.82,1486.45 2195.82,47.2441 \n",
       "  \"/>\n",
       "<polyline clip-path=\"url(#clip230)\" style=\"stroke:#000000; stroke-linecap:butt; stroke-linejoin:round; stroke-width:4; stroke-opacity:1; fill:none\" points=\"\n",
       "  112.177,1486.45 2352.76,1486.45 \n",
       "  \"/>\n",
       "<polyline clip-path=\"url(#clip230)\" style=\"stroke:#000000; stroke-linecap:butt; stroke-linejoin:round; stroke-width:4; stroke-opacity:1; fill:none\" points=\"\n",
       "  230.998,1486.45 230.998,1467.55 \n",
       "  \"/>\n",
       "<polyline clip-path=\"url(#clip230)\" style=\"stroke:#000000; stroke-linecap:butt; stroke-linejoin:round; stroke-width:4; stroke-opacity:1; fill:none\" points=\"\n",
       "  623.962,1486.45 623.962,1467.55 \n",
       "  \"/>\n",
       "<polyline clip-path=\"url(#clip230)\" style=\"stroke:#000000; stroke-linecap:butt; stroke-linejoin:round; stroke-width:4; stroke-opacity:1; fill:none\" points=\"\n",
       "  1016.93,1486.45 1016.93,1467.55 \n",
       "  \"/>\n",
       "<polyline clip-path=\"url(#clip230)\" style=\"stroke:#000000; stroke-linecap:butt; stroke-linejoin:round; stroke-width:4; stroke-opacity:1; fill:none\" points=\"\n",
       "  1409.89,1486.45 1409.89,1467.55 \n",
       "  \"/>\n",
       "<polyline clip-path=\"url(#clip230)\" style=\"stroke:#000000; stroke-linecap:butt; stroke-linejoin:round; stroke-width:4; stroke-opacity:1; fill:none\" points=\"\n",
       "  1802.85,1486.45 1802.85,1467.55 \n",
       "  \"/>\n",
       "<polyline clip-path=\"url(#clip230)\" style=\"stroke:#000000; stroke-linecap:butt; stroke-linejoin:round; stroke-width:4; stroke-opacity:1; fill:none\" points=\"\n",
       "  2195.82,1486.45 2195.82,1467.55 \n",
       "  \"/>\n",
       "<path clip-path=\"url(#clip230)\" d=\"M178.023 1530.29 L207.699 1530.29 L207.699 1534.23 L178.023 1534.23 L178.023 1530.29 Z\" fill=\"#000000\" fill-rule=\"evenodd\" fill-opacity=\"1\" /><path clip-path=\"url(#clip230)\" d=\"M218.602 1543.18 L226.241 1543.18 L226.241 1516.82 L217.931 1518.49 L217.931 1514.23 L226.194 1512.56 L230.87 1512.56 L230.87 1543.18 L238.509 1543.18 L238.509 1547.12 L218.602 1547.12 L218.602 1543.18 Z\" fill=\"#000000\" fill-rule=\"evenodd\" fill-opacity=\"1\" /><path clip-path=\"url(#clip230)\" d=\"M247.954 1541.24 L252.838 1541.24 L252.838 1547.12 L247.954 1547.12 L247.954 1541.24 Z\" fill=\"#000000\" fill-rule=\"evenodd\" fill-opacity=\"1\" /><path clip-path=\"url(#clip230)\" d=\"M263.069 1512.56 L281.426 1512.56 L281.426 1516.5 L267.352 1516.5 L267.352 1524.97 Q268.37 1524.62 269.389 1524.46 Q270.407 1524.27 271.426 1524.27 Q277.213 1524.27 280.592 1527.44 Q283.972 1530.62 283.972 1536.03 Q283.972 1541.61 280.5 1544.71 Q277.028 1547.79 270.708 1547.79 Q268.532 1547.79 266.264 1547.42 Q264.018 1547.05 261.611 1546.31 L261.611 1541.61 Q263.694 1542.74 265.917 1543.3 Q268.139 1543.86 270.616 1543.86 Q274.62 1543.86 276.958 1541.75 Q279.296 1539.64 279.296 1536.03 Q279.296 1532.42 276.958 1530.31 Q274.62 1528.21 270.616 1528.21 Q268.741 1528.21 266.866 1528.62 Q265.014 1529.04 263.069 1529.92 L263.069 1512.56 Z\" fill=\"#000000\" fill-rule=\"evenodd\" fill-opacity=\"1\" /><path clip-path=\"url(#clip230)\" d=\"M570.49 1530.29 L600.166 1530.29 L600.166 1534.23 L570.49 1534.23 L570.49 1530.29 Z\" fill=\"#000000\" fill-rule=\"evenodd\" fill-opacity=\"1\" /><path clip-path=\"url(#clip230)\" d=\"M611.068 1543.18 L618.707 1543.18 L618.707 1516.82 L610.397 1518.49 L610.397 1514.23 L618.661 1512.56 L623.337 1512.56 L623.337 1543.18 L630.976 1543.18 L630.976 1547.12 L611.068 1547.12 L611.068 1543.18 Z\" fill=\"#000000\" fill-rule=\"evenodd\" fill-opacity=\"1\" /><path clip-path=\"url(#clip230)\" d=\"M640.42 1541.24 L645.304 1541.24 L645.304 1547.12 L640.42 1547.12 L640.42 1541.24 Z\" fill=\"#000000\" fill-rule=\"evenodd\" fill-opacity=\"1\" /><path clip-path=\"url(#clip230)\" d=\"M665.489 1515.64 Q661.878 1515.64 660.05 1519.2 Q658.244 1522.75 658.244 1529.87 Q658.244 1536.98 660.05 1540.55 Q661.878 1544.09 665.489 1544.09 Q669.124 1544.09 670.929 1540.55 Q672.758 1536.98 672.758 1529.87 Q672.758 1522.75 670.929 1519.2 Q669.124 1515.64 665.489 1515.64 M665.489 1511.93 Q671.299 1511.93 674.355 1516.54 Q677.434 1521.12 677.434 1529.87 Q677.434 1538.6 674.355 1543.21 Q671.299 1547.79 665.489 1547.79 Q659.679 1547.79 656.6 1543.21 Q653.545 1538.6 653.545 1529.87 Q653.545 1521.12 656.6 1516.54 Q659.679 1511.93 665.489 1511.93 Z\" fill=\"#000000\" fill-rule=\"evenodd\" fill-opacity=\"1\" /><path clip-path=\"url(#clip230)\" d=\"M963.952 1530.29 L993.627 1530.29 L993.627 1534.23 L963.952 1534.23 L963.952 1530.29 Z\" fill=\"#000000\" fill-rule=\"evenodd\" fill-opacity=\"1\" /><path clip-path=\"url(#clip230)\" d=\"M1013.72 1515.64 Q1010.11 1515.64 1008.28 1519.2 Q1006.47 1522.75 1006.47 1529.87 Q1006.47 1536.98 1008.28 1540.55 Q1010.11 1544.09 1013.72 1544.09 Q1017.35 1544.09 1019.16 1540.55 Q1020.99 1536.98 1020.99 1529.87 Q1020.99 1522.75 1019.16 1519.2 Q1017.35 1515.64 1013.72 1515.64 M1013.72 1511.93 Q1019.53 1511.93 1022.59 1516.54 Q1025.66 1521.12 1025.66 1529.87 Q1025.66 1538.6 1022.59 1543.21 Q1019.53 1547.79 1013.72 1547.79 Q1007.91 1547.79 1004.83 1543.21 Q1001.78 1538.6 1001.78 1529.87 Q1001.78 1521.12 1004.83 1516.54 Q1007.91 1511.93 1013.72 1511.93 Z\" fill=\"#000000\" fill-rule=\"evenodd\" fill-opacity=\"1\" /><path clip-path=\"url(#clip230)\" d=\"M1033.88 1541.24 L1038.77 1541.24 L1038.77 1547.12 L1033.88 1547.12 L1033.88 1541.24 Z\" fill=\"#000000\" fill-rule=\"evenodd\" fill-opacity=\"1\" /><path clip-path=\"url(#clip230)\" d=\"M1049 1512.56 L1067.35 1512.56 L1067.35 1516.5 L1053.28 1516.5 L1053.28 1524.97 Q1054.3 1524.62 1055.32 1524.46 Q1056.34 1524.27 1057.35 1524.27 Q1063.14 1524.27 1066.52 1527.44 Q1069.9 1530.62 1069.9 1536.03 Q1069.9 1541.61 1066.43 1544.71 Q1062.96 1547.79 1056.64 1547.79 Q1054.46 1547.79 1052.19 1547.42 Q1049.95 1547.05 1047.54 1546.31 L1047.54 1541.61 Q1049.62 1542.74 1051.84 1543.3 Q1054.07 1543.86 1056.54 1543.86 Q1060.55 1543.86 1062.89 1541.75 Q1065.22 1539.64 1065.22 1536.03 Q1065.22 1532.42 1062.89 1530.31 Q1060.55 1528.21 1056.54 1528.21 Q1054.67 1528.21 1052.79 1528.62 Q1050.94 1529.04 1049 1529.92 L1049 1512.56 Z\" fill=\"#000000\" fill-rule=\"evenodd\" fill-opacity=\"1\" /><path clip-path=\"url(#clip230)\" d=\"M1387.27 1515.64 Q1383.66 1515.64 1381.83 1519.2 Q1380.03 1522.75 1380.03 1529.87 Q1380.03 1536.98 1381.83 1540.55 Q1383.66 1544.09 1387.27 1544.09 Q1390.91 1544.09 1392.71 1540.55 Q1394.54 1536.98 1394.54 1529.87 Q1394.54 1522.75 1392.71 1519.2 Q1390.91 1515.64 1387.27 1515.64 M1387.27 1511.93 Q1393.08 1511.93 1396.14 1516.54 Q1399.22 1521.12 1399.22 1529.87 Q1399.22 1538.6 1396.14 1543.21 Q1393.08 1547.79 1387.27 1547.79 Q1381.46 1547.79 1378.39 1543.21 Q1375.33 1538.6 1375.33 1529.87 Q1375.33 1521.12 1378.39 1516.54 Q1381.46 1511.93 1387.27 1511.93 Z\" fill=\"#000000\" fill-rule=\"evenodd\" fill-opacity=\"1\" /><path clip-path=\"url(#clip230)\" d=\"M1407.44 1541.24 L1412.32 1541.24 L1412.32 1547.12 L1407.44 1547.12 L1407.44 1541.24 Z\" fill=\"#000000\" fill-rule=\"evenodd\" fill-opacity=\"1\" /><path clip-path=\"url(#clip230)\" d=\"M1432.51 1515.64 Q1428.89 1515.64 1427.07 1519.2 Q1425.26 1522.75 1425.26 1529.87 Q1425.26 1536.98 1427.07 1540.55 Q1428.89 1544.09 1432.51 1544.09 Q1436.14 1544.09 1437.95 1540.55 Q1439.77 1536.98 1439.77 1529.87 Q1439.77 1522.75 1437.95 1519.2 Q1436.14 1515.64 1432.51 1515.64 M1432.51 1511.93 Q1438.32 1511.93 1441.37 1516.54 Q1444.45 1521.12 1444.45 1529.87 Q1444.45 1538.6 1441.37 1543.21 Q1438.32 1547.79 1432.51 1547.79 Q1426.7 1547.79 1423.62 1543.21 Q1420.56 1538.6 1420.56 1529.87 Q1420.56 1521.12 1423.62 1516.54 Q1426.7 1511.93 1432.51 1511.93 Z\" fill=\"#000000\" fill-rule=\"evenodd\" fill-opacity=\"1\" /><path clip-path=\"url(#clip230)\" d=\"M1780.74 1515.64 Q1777.12 1515.64 1775.3 1519.2 Q1773.49 1522.75 1773.49 1529.87 Q1773.49 1536.98 1775.3 1540.55 Q1777.12 1544.09 1780.74 1544.09 Q1784.37 1544.09 1786.18 1540.55 Q1788 1536.98 1788 1529.87 Q1788 1522.75 1786.18 1519.2 Q1784.37 1515.64 1780.74 1515.64 M1780.74 1511.93 Q1786.55 1511.93 1789.6 1516.54 Q1792.68 1521.12 1792.68 1529.87 Q1792.68 1538.6 1789.6 1543.21 Q1786.55 1547.79 1780.74 1547.79 Q1774.93 1547.79 1771.85 1543.21 Q1768.79 1538.6 1768.79 1529.87 Q1768.79 1521.12 1771.85 1516.54 Q1774.93 1511.93 1780.74 1511.93 Z\" fill=\"#000000\" fill-rule=\"evenodd\" fill-opacity=\"1\" /><path clip-path=\"url(#clip230)\" d=\"M1800.9 1541.24 L1805.78 1541.24 L1805.78 1547.12 L1800.9 1547.12 L1800.9 1541.24 Z\" fill=\"#000000\" fill-rule=\"evenodd\" fill-opacity=\"1\" /><path clip-path=\"url(#clip230)\" d=\"M1816.01 1512.56 L1834.37 1512.56 L1834.37 1516.5 L1820.3 1516.5 L1820.3 1524.97 Q1821.31 1524.62 1822.33 1524.46 Q1823.35 1524.27 1824.37 1524.27 Q1830.16 1524.27 1833.54 1527.44 Q1836.92 1530.62 1836.92 1536.03 Q1836.92 1541.61 1833.44 1544.71 Q1829.97 1547.79 1823.65 1547.79 Q1821.48 1547.79 1819.21 1547.42 Q1816.96 1547.05 1814.56 1546.31 L1814.56 1541.61 Q1816.64 1542.74 1818.86 1543.3 Q1821.08 1543.86 1823.56 1543.86 Q1827.56 1543.86 1829.9 1541.75 Q1832.24 1539.64 1832.24 1536.03 Q1832.24 1532.42 1829.9 1530.31 Q1827.56 1528.21 1823.56 1528.21 Q1821.68 1528.21 1819.81 1528.62 Q1817.96 1529.04 1816.01 1529.92 L1816.01 1512.56 Z\" fill=\"#000000\" fill-rule=\"evenodd\" fill-opacity=\"1\" /><path clip-path=\"url(#clip230)\" d=\"M2162.97 1543.18 L2170.61 1543.18 L2170.61 1516.82 L2162.3 1518.49 L2162.3 1514.23 L2170.56 1512.56 L2175.24 1512.56 L2175.24 1543.18 L2182.88 1543.18 L2182.88 1547.12 L2162.97 1547.12 L2162.97 1543.18 Z\" fill=\"#000000\" fill-rule=\"evenodd\" fill-opacity=\"1\" /><path clip-path=\"url(#clip230)\" d=\"M2192.32 1541.24 L2197.21 1541.24 L2197.21 1547.12 L2192.32 1547.12 L2192.32 1541.24 Z\" fill=\"#000000\" fill-rule=\"evenodd\" fill-opacity=\"1\" /><path clip-path=\"url(#clip230)\" d=\"M2217.39 1515.64 Q2213.78 1515.64 2211.95 1519.2 Q2210.15 1522.75 2210.15 1529.87 Q2210.15 1536.98 2211.95 1540.55 Q2213.78 1544.09 2217.39 1544.09 Q2221.03 1544.09 2222.83 1540.55 Q2224.66 1536.98 2224.66 1529.87 Q2224.66 1522.75 2222.83 1519.2 Q2221.03 1515.64 2217.39 1515.64 M2217.39 1511.93 Q2223.2 1511.93 2226.26 1516.54 Q2229.34 1521.12 2229.34 1529.87 Q2229.34 1538.6 2226.26 1543.21 Q2223.2 1547.79 2217.39 1547.79 Q2211.58 1547.79 2208.5 1543.21 Q2205.45 1538.6 2205.45 1529.87 Q2205.45 1521.12 2208.5 1516.54 Q2211.58 1511.93 2217.39 1511.93 Z\" fill=\"#000000\" fill-rule=\"evenodd\" fill-opacity=\"1\" /><polyline clip-path=\"url(#clip232)\" style=\"stroke:#000000; stroke-linecap:butt; stroke-linejoin:round; stroke-width:2; stroke-opacity:0.1; fill:none\" points=\"\n",
       "  112.177,1445.72 2352.76,1445.72 \n",
       "  \"/>\n",
       "<polyline clip-path=\"url(#clip232)\" style=\"stroke:#000000; stroke-linecap:butt; stroke-linejoin:round; stroke-width:2; stroke-opacity:0.1; fill:none\" points=\"\n",
       "  112.177,1106.28 2352.76,1106.28 \n",
       "  \"/>\n",
       "<polyline clip-path=\"url(#clip232)\" style=\"stroke:#000000; stroke-linecap:butt; stroke-linejoin:round; stroke-width:2; stroke-opacity:0.1; fill:none\" points=\"\n",
       "  112.177,766.846 2352.76,766.846 \n",
       "  \"/>\n",
       "<polyline clip-path=\"url(#clip232)\" style=\"stroke:#000000; stroke-linecap:butt; stroke-linejoin:round; stroke-width:2; stroke-opacity:0.1; fill:none\" points=\"\n",
       "  112.177,427.411 2352.76,427.411 \n",
       "  \"/>\n",
       "<polyline clip-path=\"url(#clip232)\" style=\"stroke:#000000; stroke-linecap:butt; stroke-linejoin:round; stroke-width:2; stroke-opacity:0.1; fill:none\" points=\"\n",
       "  112.177,87.9763 2352.76,87.9763 \n",
       "  \"/>\n",
       "<polyline clip-path=\"url(#clip230)\" style=\"stroke:#000000; stroke-linecap:butt; stroke-linejoin:round; stroke-width:4; stroke-opacity:1; fill:none\" points=\"\n",
       "  112.177,1486.45 112.177,47.2441 \n",
       "  \"/>\n",
       "<polyline clip-path=\"url(#clip230)\" style=\"stroke:#000000; stroke-linecap:butt; stroke-linejoin:round; stroke-width:4; stroke-opacity:1; fill:none\" points=\"\n",
       "  112.177,1445.72 131.075,1445.72 \n",
       "  \"/>\n",
       "<polyline clip-path=\"url(#clip230)\" style=\"stroke:#000000; stroke-linecap:butt; stroke-linejoin:round; stroke-width:4; stroke-opacity:1; fill:none\" points=\"\n",
       "  112.177,1106.28 131.075,1106.28 \n",
       "  \"/>\n",
       "<polyline clip-path=\"url(#clip230)\" style=\"stroke:#000000; stroke-linecap:butt; stroke-linejoin:round; stroke-width:4; stroke-opacity:1; fill:none\" points=\"\n",
       "  112.177,766.846 131.075,766.846 \n",
       "  \"/>\n",
       "<polyline clip-path=\"url(#clip230)\" style=\"stroke:#000000; stroke-linecap:butt; stroke-linejoin:round; stroke-width:4; stroke-opacity:1; fill:none\" points=\"\n",
       "  112.177,427.411 131.075,427.411 \n",
       "  \"/>\n",
       "<polyline clip-path=\"url(#clip230)\" style=\"stroke:#000000; stroke-linecap:butt; stroke-linejoin:round; stroke-width:4; stroke-opacity:1; fill:none\" points=\"\n",
       "  112.177,87.9763 131.075,87.9763 \n",
       "  \"/>\n",
       "<path clip-path=\"url(#clip230)\" d=\"M64.2328 1431.51 Q60.6217 1431.51 58.793 1435.08 Q56.9875 1438.62 56.9875 1445.75 Q56.9875 1452.86 58.793 1456.42 Q60.6217 1459.96 64.2328 1459.96 Q67.867 1459.96 69.6726 1456.42 Q71.5013 1452.86 71.5013 1445.75 Q71.5013 1438.62 69.6726 1435.08 Q67.867 1431.51 64.2328 1431.51 M64.2328 1427.81 Q70.0429 1427.81 73.0985 1432.42 Q76.1772 1437 76.1772 1445.75 Q76.1772 1454.48 73.0985 1459.08 Q70.0429 1463.67 64.2328 1463.67 Q58.4226 1463.67 55.344 1459.08 Q52.2884 1454.48 52.2884 1445.75 Q52.2884 1437 55.344 1432.42 Q58.4226 1427.81 64.2328 1427.81 Z\" fill=\"#000000\" fill-rule=\"evenodd\" fill-opacity=\"1\" /><path clip-path=\"url(#clip230)\" d=\"M56.2699 1119.63 L63.9087 1119.63 L63.9087 1093.26 L55.5986 1094.93 L55.5986 1090.67 L63.8624 1089 L68.5383 1089 L68.5383 1119.63 L76.1772 1119.63 L76.1772 1123.56 L56.2699 1123.56 L56.2699 1119.63 Z\" fill=\"#000000\" fill-rule=\"evenodd\" fill-opacity=\"1\" /><path clip-path=\"url(#clip230)\" d=\"M59.8578 780.191 L76.1772 780.191 L76.1772 784.126 L54.2328 784.126 L54.2328 780.191 Q56.8949 777.436 61.4782 772.807 Q66.0846 768.154 67.2652 766.811 Q69.5105 764.288 70.3902 762.552 Q71.2929 760.793 71.2929 759.103 Q71.2929 756.348 69.3485 754.612 Q67.4272 752.876 64.3254 752.876 Q62.1263 752.876 59.6726 753.64 Q57.2421 754.404 54.4643 755.955 L54.4643 751.233 Q57.2884 750.098 59.7421 749.52 Q62.1958 748.941 64.2328 748.941 Q69.6031 748.941 72.7976 751.626 Q75.992 754.311 75.992 758.802 Q75.992 760.932 75.1818 762.853 Q74.3948 764.751 72.2883 767.344 Q71.7096 768.015 68.6078 771.233 Q65.5059 774.427 59.8578 780.191 Z\" fill=\"#000000\" fill-rule=\"evenodd\" fill-opacity=\"1\" /><path clip-path=\"url(#clip230)\" d=\"M69.0476 426.057 Q72.404 426.775 74.279 429.043 Q76.1772 431.312 76.1772 434.645 Q76.1772 439.761 72.6587 442.562 Q69.1402 445.362 62.6587 445.362 Q60.4828 445.362 58.168 444.923 Q55.8764 444.506 53.4227 443.649 L53.4227 439.136 Q55.3671 440.27 57.6819 440.849 Q59.9967 441.427 62.5198 441.427 Q66.918 441.427 69.2096 439.691 Q71.5244 437.955 71.5244 434.645 Q71.5244 431.589 69.3717 429.876 Q67.242 428.14 63.4226 428.14 L59.3949 428.14 L59.3949 424.298 L63.6078 424.298 Q67.0569 424.298 68.8855 422.932 Q70.7142 421.543 70.7142 418.951 Q70.7142 416.289 68.8161 414.876 Q66.9411 413.441 63.4226 413.441 Q61.5013 413.441 59.3023 413.858 Q57.1032 414.275 54.4643 415.154 L54.4643 410.988 Q57.1264 410.247 59.4412 409.877 Q61.7791 409.506 63.8393 409.506 Q69.1633 409.506 72.2652 411.937 Q75.367 414.344 75.367 418.464 Q75.367 421.335 73.7235 423.326 Q72.08 425.293 69.0476 426.057 Z\" fill=\"#000000\" fill-rule=\"evenodd\" fill-opacity=\"1\" /><path clip-path=\"url(#clip230)\" d=\"M66.5939 74.7703 L54.7884 93.2193 L66.5939 93.2193 L66.5939 74.7703 M65.367 70.6963 L71.2466 70.6963 L71.2466 93.2193 L76.1772 93.2193 L76.1772 97.1082 L71.2466 97.1082 L71.2466 105.256 L66.5939 105.256 L66.5939 97.1082 L50.9921 97.1082 L50.9921 92.5943 L65.367 70.6963 Z\" fill=\"#000000\" fill-rule=\"evenodd\" fill-opacity=\"1\" /><path clip-path=\"url(#clip232)\" d=\"\n",
       "M427.48 1106.28 L427.48 1445.72 L466.776 1445.72 L466.776 1106.28 L427.48 1106.28 L427.48 1106.28  Z\n",
       "  \" fill=\"#009af9\" fill-rule=\"evenodd\" fill-opacity=\"1\"/>\n",
       "<polyline clip-path=\"url(#clip232)\" style=\"stroke:#000000; stroke-linecap:butt; stroke-linejoin:round; stroke-width:4; stroke-opacity:1; fill:none\" points=\"\n",
       "  427.48,1106.28 427.48,1445.72 466.776,1445.72 466.776,1106.28 427.48,1106.28 \n",
       "  \"/>\n",
       "<path clip-path=\"url(#clip232)\" d=\"\n",
       "M466.776 1445.72 L466.776 1445.72 L506.073 1445.72 L506.073 1445.72 L466.776 1445.72 L466.776 1445.72  Z\n",
       "  \" fill=\"#009af9\" fill-rule=\"evenodd\" fill-opacity=\"1\"/>\n",
       "<polyline clip-path=\"url(#clip232)\" style=\"stroke:#000000; stroke-linecap:butt; stroke-linejoin:round; stroke-width:4; stroke-opacity:1; fill:none\" points=\"\n",
       "  466.776,1445.72 466.776,1445.72 506.073,1445.72 466.776,1445.72 \n",
       "  \"/>\n",
       "<path clip-path=\"url(#clip232)\" d=\"\n",
       "M506.073 1106.28 L506.073 1445.72 L545.369 1445.72 L545.369 1106.28 L506.073 1106.28 L506.073 1106.28  Z\n",
       "  \" fill=\"#009af9\" fill-rule=\"evenodd\" fill-opacity=\"1\"/>\n",
       "<polyline clip-path=\"url(#clip232)\" style=\"stroke:#000000; stroke-linecap:butt; stroke-linejoin:round; stroke-width:4; stroke-opacity:1; fill:none\" points=\"\n",
       "  506.073,1106.28 506.073,1445.72 545.369,1445.72 545.369,1106.28 506.073,1106.28 \n",
       "  \"/>\n",
       "<path clip-path=\"url(#clip232)\" d=\"\n",
       "M545.369 1106.28 L545.369 1445.72 L584.665 1445.72 L584.665 1106.28 L545.369 1106.28 L545.369 1106.28  Z\n",
       "  \" fill=\"#009af9\" fill-rule=\"evenodd\" fill-opacity=\"1\"/>\n",
       "<polyline clip-path=\"url(#clip232)\" style=\"stroke:#000000; stroke-linecap:butt; stroke-linejoin:round; stroke-width:4; stroke-opacity:1; fill:none\" points=\"\n",
       "  545.369,1106.28 545.369,1445.72 584.665,1445.72 584.665,1106.28 545.369,1106.28 \n",
       "  \"/>\n",
       "<path clip-path=\"url(#clip232)\" d=\"\n",
       "M584.665 1445.72 L584.665 1445.72 L623.962 1445.72 L623.962 1445.72 L584.665 1445.72 L584.665 1445.72  Z\n",
       "  \" fill=\"#009af9\" fill-rule=\"evenodd\" fill-opacity=\"1\"/>\n",
       "<polyline clip-path=\"url(#clip232)\" style=\"stroke:#000000; stroke-linecap:butt; stroke-linejoin:round; stroke-width:4; stroke-opacity:1; fill:none\" points=\"\n",
       "  584.665,1445.72 584.665,1445.72 623.962,1445.72 584.665,1445.72 \n",
       "  \"/>\n",
       "<path clip-path=\"url(#clip232)\" d=\"\n",
       "M623.962 1445.72 L623.962 1445.72 L663.258 1445.72 L663.258 1445.72 L623.962 1445.72 L623.962 1445.72  Z\n",
       "  \" fill=\"#009af9\" fill-rule=\"evenodd\" fill-opacity=\"1\"/>\n",
       "<polyline clip-path=\"url(#clip232)\" style=\"stroke:#000000; stroke-linecap:butt; stroke-linejoin:round; stroke-width:4; stroke-opacity:1; fill:none\" points=\"\n",
       "  623.962,1445.72 623.962,1445.72 663.258,1445.72 623.962,1445.72 \n",
       "  \"/>\n",
       "<path clip-path=\"url(#clip232)\" d=\"\n",
       "M663.258 1445.72 L663.258 1445.72 L702.555 1445.72 L702.555 1445.72 L663.258 1445.72 L663.258 1445.72  Z\n",
       "  \" fill=\"#009af9\" fill-rule=\"evenodd\" fill-opacity=\"1\"/>\n",
       "<polyline clip-path=\"url(#clip232)\" style=\"stroke:#000000; stroke-linecap:butt; stroke-linejoin:round; stroke-width:4; stroke-opacity:1; fill:none\" points=\"\n",
       "  663.258,1445.72 663.258,1445.72 702.555,1445.72 663.258,1445.72 \n",
       "  \"/>\n",
       "<path clip-path=\"url(#clip232)\" d=\"\n",
       "M702.555 1445.72 L702.555 1445.72 L741.851 1445.72 L741.851 1445.72 L702.555 1445.72 L702.555 1445.72  Z\n",
       "  \" fill=\"#009af9\" fill-rule=\"evenodd\" fill-opacity=\"1\"/>\n",
       "<polyline clip-path=\"url(#clip232)\" style=\"stroke:#000000; stroke-linecap:butt; stroke-linejoin:round; stroke-width:4; stroke-opacity:1; fill:none\" points=\"\n",
       "  702.555,1445.72 702.555,1445.72 741.851,1445.72 702.555,1445.72 \n",
       "  \"/>\n",
       "<path clip-path=\"url(#clip232)\" d=\"\n",
       "M741.851 1445.72 L741.851 1445.72 L781.147 1445.72 L781.147 1445.72 L741.851 1445.72 L741.851 1445.72  Z\n",
       "  \" fill=\"#009af9\" fill-rule=\"evenodd\" fill-opacity=\"1\"/>\n",
       "<polyline clip-path=\"url(#clip232)\" style=\"stroke:#000000; stroke-linecap:butt; stroke-linejoin:round; stroke-width:4; stroke-opacity:1; fill:none\" points=\"\n",
       "  741.851,1445.72 741.851,1445.72 781.147,1445.72 741.851,1445.72 \n",
       "  \"/>\n",
       "<path clip-path=\"url(#clip232)\" d=\"\n",
       "M781.147 1445.72 L781.147 1445.72 L820.444 1445.72 L820.444 1445.72 L781.147 1445.72 L781.147 1445.72  Z\n",
       "  \" fill=\"#009af9\" fill-rule=\"evenodd\" fill-opacity=\"1\"/>\n",
       "<polyline clip-path=\"url(#clip232)\" style=\"stroke:#000000; stroke-linecap:butt; stroke-linejoin:round; stroke-width:4; stroke-opacity:1; fill:none\" points=\"\n",
       "  781.147,1445.72 781.147,1445.72 820.444,1445.72 781.147,1445.72 \n",
       "  \"/>\n",
       "<path clip-path=\"url(#clip232)\" d=\"\n",
       "M820.444 1445.72 L820.444 1445.72 L859.74 1445.72 L859.74 1445.72 L820.444 1445.72 L820.444 1445.72  Z\n",
       "  \" fill=\"#009af9\" fill-rule=\"evenodd\" fill-opacity=\"1\"/>\n",
       "<polyline clip-path=\"url(#clip232)\" style=\"stroke:#000000; stroke-linecap:butt; stroke-linejoin:round; stroke-width:4; stroke-opacity:1; fill:none\" points=\"\n",
       "  820.444,1445.72 820.444,1445.72 859.74,1445.72 820.444,1445.72 \n",
       "  \"/>\n",
       "<path clip-path=\"url(#clip232)\" d=\"\n",
       "M859.74 1445.72 L859.74 1445.72 L899.037 1445.72 L899.037 1445.72 L859.74 1445.72 L859.74 1445.72  Z\n",
       "  \" fill=\"#009af9\" fill-rule=\"evenodd\" fill-opacity=\"1\"/>\n",
       "<polyline clip-path=\"url(#clip232)\" style=\"stroke:#000000; stroke-linecap:butt; stroke-linejoin:round; stroke-width:4; stroke-opacity:1; fill:none\" points=\"\n",
       "  859.74,1445.72 859.74,1445.72 899.037,1445.72 859.74,1445.72 \n",
       "  \"/>\n",
       "<path clip-path=\"url(#clip232)\" d=\"\n",
       "M899.037 1445.72 L899.037 1445.72 L938.333 1445.72 L938.333 1445.72 L899.037 1445.72 L899.037 1445.72  Z\n",
       "  \" fill=\"#009af9\" fill-rule=\"evenodd\" fill-opacity=\"1\"/>\n",
       "<polyline clip-path=\"url(#clip232)\" style=\"stroke:#000000; stroke-linecap:butt; stroke-linejoin:round; stroke-width:4; stroke-opacity:1; fill:none\" points=\"\n",
       "  899.037,1445.72 899.037,1445.72 938.333,1445.72 899.037,1445.72 \n",
       "  \"/>\n",
       "<path clip-path=\"url(#clip232)\" d=\"\n",
       "M938.333 1445.72 L938.333 1445.72 L977.629 1445.72 L977.629 1445.72 L938.333 1445.72 L938.333 1445.72  Z\n",
       "  \" fill=\"#009af9\" fill-rule=\"evenodd\" fill-opacity=\"1\"/>\n",
       "<polyline clip-path=\"url(#clip232)\" style=\"stroke:#000000; stroke-linecap:butt; stroke-linejoin:round; stroke-width:4; stroke-opacity:1; fill:none\" points=\"\n",
       "  938.333,1445.72 938.333,1445.72 977.629,1445.72 938.333,1445.72 \n",
       "  \"/>\n",
       "<path clip-path=\"url(#clip232)\" d=\"\n",
       "M977.629 1445.72 L977.629 1445.72 L1016.93 1445.72 L1016.93 1445.72 L977.629 1445.72 L977.629 1445.72  Z\n",
       "  \" fill=\"#009af9\" fill-rule=\"evenodd\" fill-opacity=\"1\"/>\n",
       "<polyline clip-path=\"url(#clip232)\" style=\"stroke:#000000; stroke-linecap:butt; stroke-linejoin:round; stroke-width:4; stroke-opacity:1; fill:none\" points=\"\n",
       "  977.629,1445.72 977.629,1445.72 1016.93,1445.72 977.629,1445.72 \n",
       "  \"/>\n",
       "<path clip-path=\"url(#clip232)\" d=\"\n",
       "M1016.93 1445.72 L1016.93 1445.72 L1056.22 1445.72 L1056.22 1445.72 L1016.93 1445.72 L1016.93 1445.72  Z\n",
       "  \" fill=\"#009af9\" fill-rule=\"evenodd\" fill-opacity=\"1\"/>\n",
       "<polyline clip-path=\"url(#clip232)\" style=\"stroke:#000000; stroke-linecap:butt; stroke-linejoin:round; stroke-width:4; stroke-opacity:1; fill:none\" points=\"\n",
       "  1016.93,1445.72 1016.93,1445.72 1056.22,1445.72 1016.93,1445.72 \n",
       "  \"/>\n",
       "<path clip-path=\"url(#clip232)\" d=\"\n",
       "M1056.22 1106.28 L1056.22 1445.72 L1095.52 1445.72 L1095.52 1106.28 L1056.22 1106.28 L1056.22 1106.28  Z\n",
       "  \" fill=\"#009af9\" fill-rule=\"evenodd\" fill-opacity=\"1\"/>\n",
       "<polyline clip-path=\"url(#clip232)\" style=\"stroke:#000000; stroke-linecap:butt; stroke-linejoin:round; stroke-width:4; stroke-opacity:1; fill:none\" points=\"\n",
       "  1056.22,1106.28 1056.22,1445.72 1095.52,1445.72 1095.52,1106.28 1056.22,1106.28 \n",
       "  \"/>\n",
       "<path clip-path=\"url(#clip232)\" d=\"\n",
       "M1095.52 766.846 L1095.52 1445.72 L1134.81 1445.72 L1134.81 766.846 L1095.52 766.846 L1095.52 766.846  Z\n",
       "  \" fill=\"#009af9\" fill-rule=\"evenodd\" fill-opacity=\"1\"/>\n",
       "<polyline clip-path=\"url(#clip232)\" style=\"stroke:#000000; stroke-linecap:butt; stroke-linejoin:round; stroke-width:4; stroke-opacity:1; fill:none\" points=\"\n",
       "  1095.52,766.846 1095.52,1445.72 1134.81,1445.72 1134.81,766.846 1095.52,766.846 \n",
       "  \"/>\n",
       "<path clip-path=\"url(#clip232)\" d=\"\n",
       "M1134.81 1445.72 L1134.81 1445.72 L1174.11 1445.72 L1174.11 1445.72 L1134.81 1445.72 L1134.81 1445.72  Z\n",
       "  \" fill=\"#009af9\" fill-rule=\"evenodd\" fill-opacity=\"1\"/>\n",
       "<polyline clip-path=\"url(#clip232)\" style=\"stroke:#000000; stroke-linecap:butt; stroke-linejoin:round; stroke-width:4; stroke-opacity:1; fill:none\" points=\"\n",
       "  1134.81,1445.72 1134.81,1445.72 1174.11,1445.72 1134.81,1445.72 \n",
       "  \"/>\n",
       "<path clip-path=\"url(#clip232)\" d=\"\n",
       "M1174.11 1106.28 L1174.11 1445.72 L1213.41 1445.72 L1213.41 1106.28 L1174.11 1106.28 L1174.11 1106.28  Z\n",
       "  \" fill=\"#009af9\" fill-rule=\"evenodd\" fill-opacity=\"1\"/>\n",
       "<polyline clip-path=\"url(#clip232)\" style=\"stroke:#000000; stroke-linecap:butt; stroke-linejoin:round; stroke-width:4; stroke-opacity:1; fill:none\" points=\"\n",
       "  1174.11,1106.28 1174.11,1445.72 1213.41,1445.72 1213.41,1106.28 1174.11,1106.28 \n",
       "  \"/>\n",
       "<path clip-path=\"url(#clip232)\" d=\"\n",
       "M1213.41 1445.72 L1213.41 1445.72 L1252.7 1445.72 L1252.7 1445.72 L1213.41 1445.72 L1213.41 1445.72  Z\n",
       "  \" fill=\"#009af9\" fill-rule=\"evenodd\" fill-opacity=\"1\"/>\n",
       "<polyline clip-path=\"url(#clip232)\" style=\"stroke:#000000; stroke-linecap:butt; stroke-linejoin:round; stroke-width:4; stroke-opacity:1; fill:none\" points=\"\n",
       "  1213.41,1445.72 1213.41,1445.72 1252.7,1445.72 1213.41,1445.72 \n",
       "  \"/>\n",
       "<path clip-path=\"url(#clip232)\" d=\"\n",
       "M1252.7 1445.72 L1252.7 1445.72 L1292 1445.72 L1292 1445.72 L1252.7 1445.72 L1252.7 1445.72  Z\n",
       "  \" fill=\"#009af9\" fill-rule=\"evenodd\" fill-opacity=\"1\"/>\n",
       "<polyline clip-path=\"url(#clip232)\" style=\"stroke:#000000; stroke-linecap:butt; stroke-linejoin:round; stroke-width:4; stroke-opacity:1; fill:none\" points=\"\n",
       "  1252.7,1445.72 1252.7,1445.72 1292,1445.72 1252.7,1445.72 \n",
       "  \"/>\n",
       "<path clip-path=\"url(#clip232)\" d=\"\n",
       "M1292 1445.72 L1292 1445.72 L1331.3 1445.72 L1331.3 1445.72 L1292 1445.72 L1292 1445.72  Z\n",
       "  \" fill=\"#009af9\" fill-rule=\"evenodd\" fill-opacity=\"1\"/>\n",
       "<polyline clip-path=\"url(#clip232)\" style=\"stroke:#000000; stroke-linecap:butt; stroke-linejoin:round; stroke-width:4; stroke-opacity:1; fill:none\" points=\"\n",
       "  1292,1445.72 1292,1445.72 1331.3,1445.72 1292,1445.72 \n",
       "  \"/>\n",
       "<path clip-path=\"url(#clip232)\" d=\"\n",
       "M1331.3 1445.72 L1331.3 1445.72 L1370.59 1445.72 L1370.59 1445.72 L1331.3 1445.72 L1331.3 1445.72  Z\n",
       "  \" fill=\"#009af9\" fill-rule=\"evenodd\" fill-opacity=\"1\"/>\n",
       "<polyline clip-path=\"url(#clip232)\" style=\"stroke:#000000; stroke-linecap:butt; stroke-linejoin:round; stroke-width:4; stroke-opacity:1; fill:none\" points=\"\n",
       "  1331.3,1445.72 1331.3,1445.72 1370.59,1445.72 1331.3,1445.72 \n",
       "  \"/>\n",
       "<path clip-path=\"url(#clip232)\" d=\"\n",
       "M1370.59 1106.28 L1370.59 1445.72 L1409.89 1445.72 L1409.89 1106.28 L1370.59 1106.28 L1370.59 1106.28  Z\n",
       "  \" fill=\"#009af9\" fill-rule=\"evenodd\" fill-opacity=\"1\"/>\n",
       "<polyline clip-path=\"url(#clip232)\" style=\"stroke:#000000; stroke-linecap:butt; stroke-linejoin:round; stroke-width:4; stroke-opacity:1; fill:none\" points=\"\n",
       "  1370.59,1106.28 1370.59,1445.72 1409.89,1445.72 1409.89,1106.28 1370.59,1106.28 \n",
       "  \"/>\n",
       "<path clip-path=\"url(#clip232)\" d=\"\n",
       "M1409.89 1445.72 L1409.89 1445.72 L1449.19 1445.72 L1449.19 1445.72 L1409.89 1445.72 L1409.89 1445.72  Z\n",
       "  \" fill=\"#009af9\" fill-rule=\"evenodd\" fill-opacity=\"1\"/>\n",
       "<polyline clip-path=\"url(#clip232)\" style=\"stroke:#000000; stroke-linecap:butt; stroke-linejoin:round; stroke-width:4; stroke-opacity:1; fill:none\" points=\"\n",
       "  1409.89,1445.72 1409.89,1445.72 1449.19,1445.72 1409.89,1445.72 \n",
       "  \"/>\n",
       "<path clip-path=\"url(#clip232)\" d=\"\n",
       "M1449.19 1106.28 L1449.19 1445.72 L1488.48 1445.72 L1488.48 1106.28 L1449.19 1106.28 L1449.19 1106.28  Z\n",
       "  \" fill=\"#009af9\" fill-rule=\"evenodd\" fill-opacity=\"1\"/>\n",
       "<polyline clip-path=\"url(#clip232)\" style=\"stroke:#000000; stroke-linecap:butt; stroke-linejoin:round; stroke-width:4; stroke-opacity:1; fill:none\" points=\"\n",
       "  1449.19,1106.28 1449.19,1445.72 1488.48,1445.72 1488.48,1106.28 1449.19,1106.28 \n",
       "  \"/>\n",
       "<path clip-path=\"url(#clip232)\" d=\"\n",
       "M1488.48 1106.28 L1488.48 1445.72 L1527.78 1445.72 L1527.78 1106.28 L1488.48 1106.28 L1488.48 1106.28  Z\n",
       "  \" fill=\"#009af9\" fill-rule=\"evenodd\" fill-opacity=\"1\"/>\n",
       "<polyline clip-path=\"url(#clip232)\" style=\"stroke:#000000; stroke-linecap:butt; stroke-linejoin:round; stroke-width:4; stroke-opacity:1; fill:none\" points=\"\n",
       "  1488.48,1106.28 1488.48,1445.72 1527.78,1445.72 1527.78,1106.28 1488.48,1106.28 \n",
       "  \"/>\n",
       "<path clip-path=\"url(#clip232)\" d=\"\n",
       "M1527.78 1445.72 L1527.78 1445.72 L1567.08 1445.72 L1567.08 1445.72 L1527.78 1445.72 L1527.78 1445.72  Z\n",
       "  \" fill=\"#009af9\" fill-rule=\"evenodd\" fill-opacity=\"1\"/>\n",
       "<polyline clip-path=\"url(#clip232)\" style=\"stroke:#000000; stroke-linecap:butt; stroke-linejoin:round; stroke-width:4; stroke-opacity:1; fill:none\" points=\"\n",
       "  1527.78,1445.72 1527.78,1445.72 1567.08,1445.72 1527.78,1445.72 \n",
       "  \"/>\n",
       "<path clip-path=\"url(#clip232)\" d=\"\n",
       "M1567.08 1106.28 L1567.08 1445.72 L1606.37 1445.72 L1606.37 1106.28 L1567.08 1106.28 L1567.08 1106.28  Z\n",
       "  \" fill=\"#009af9\" fill-rule=\"evenodd\" fill-opacity=\"1\"/>\n",
       "<polyline clip-path=\"url(#clip232)\" style=\"stroke:#000000; stroke-linecap:butt; stroke-linejoin:round; stroke-width:4; stroke-opacity:1; fill:none\" points=\"\n",
       "  1567.08,1106.28 1567.08,1445.72 1606.37,1445.72 1606.37,1106.28 1567.08,1106.28 \n",
       "  \"/>\n",
       "<path clip-path=\"url(#clip232)\" d=\"\n",
       "M1606.37 1445.72 L1606.37 1445.72 L1645.67 1445.72 L1645.67 1445.72 L1606.37 1445.72 L1606.37 1445.72  Z\n",
       "  \" fill=\"#009af9\" fill-rule=\"evenodd\" fill-opacity=\"1\"/>\n",
       "<polyline clip-path=\"url(#clip232)\" style=\"stroke:#000000; stroke-linecap:butt; stroke-linejoin:round; stroke-width:4; stroke-opacity:1; fill:none\" points=\"\n",
       "  1606.37,1445.72 1606.37,1445.72 1645.67,1445.72 1606.37,1445.72 \n",
       "  \"/>\n",
       "<path clip-path=\"url(#clip232)\" d=\"\n",
       "M1645.67 1445.72 L1645.67 1445.72 L1684.96 1445.72 L1684.96 1445.72 L1645.67 1445.72 L1645.67 1445.72  Z\n",
       "  \" fill=\"#009af9\" fill-rule=\"evenodd\" fill-opacity=\"1\"/>\n",
       "<polyline clip-path=\"url(#clip232)\" style=\"stroke:#000000; stroke-linecap:butt; stroke-linejoin:round; stroke-width:4; stroke-opacity:1; fill:none\" points=\"\n",
       "  1645.67,1445.72 1645.67,1445.72 1684.96,1445.72 1645.67,1445.72 \n",
       "  \"/>\n",
       "<path clip-path=\"url(#clip232)\" d=\"\n",
       "M1684.96 1106.28 L1684.96 1445.72 L1724.26 1445.72 L1724.26 1106.28 L1684.96 1106.28 L1684.96 1106.28  Z\n",
       "  \" fill=\"#009af9\" fill-rule=\"evenodd\" fill-opacity=\"1\"/>\n",
       "<polyline clip-path=\"url(#clip232)\" style=\"stroke:#000000; stroke-linecap:butt; stroke-linejoin:round; stroke-width:4; stroke-opacity:1; fill:none\" points=\"\n",
       "  1684.96,1106.28 1684.96,1445.72 1724.26,1445.72 1724.26,1106.28 1684.96,1106.28 \n",
       "  \"/>\n",
       "<path clip-path=\"url(#clip232)\" d=\"\n",
       "M1724.26 1106.28 L1724.26 1445.72 L1763.56 1445.72 L1763.56 1106.28 L1724.26 1106.28 L1724.26 1106.28  Z\n",
       "  \" fill=\"#009af9\" fill-rule=\"evenodd\" fill-opacity=\"1\"/>\n",
       "<polyline clip-path=\"url(#clip232)\" style=\"stroke:#000000; stroke-linecap:butt; stroke-linejoin:round; stroke-width:4; stroke-opacity:1; fill:none\" points=\"\n",
       "  1724.26,1106.28 1724.26,1445.72 1763.56,1445.72 1763.56,1106.28 1724.26,1106.28 \n",
       "  \"/>\n",
       "<path clip-path=\"url(#clip232)\" d=\"\n",
       "M1763.56 1106.28 L1763.56 1445.72 L1802.85 1445.72 L1802.85 1106.28 L1763.56 1106.28 L1763.56 1106.28  Z\n",
       "  \" fill=\"#009af9\" fill-rule=\"evenodd\" fill-opacity=\"1\"/>\n",
       "<polyline clip-path=\"url(#clip232)\" style=\"stroke:#000000; stroke-linecap:butt; stroke-linejoin:round; stroke-width:4; stroke-opacity:1; fill:none\" points=\"\n",
       "  1763.56,1106.28 1763.56,1445.72 1802.85,1445.72 1802.85,1106.28 1763.56,1106.28 \n",
       "  \"/>\n",
       "<path clip-path=\"url(#clip232)\" d=\"\n",
       "M1802.85 1106.28 L1802.85 1445.72 L1842.15 1445.72 L1842.15 1106.28 L1802.85 1106.28 L1802.85 1106.28  Z\n",
       "  \" fill=\"#009af9\" fill-rule=\"evenodd\" fill-opacity=\"1\"/>\n",
       "<polyline clip-path=\"url(#clip232)\" style=\"stroke:#000000; stroke-linecap:butt; stroke-linejoin:round; stroke-width:4; stroke-opacity:1; fill:none\" points=\"\n",
       "  1802.85,1106.28 1802.85,1445.72 1842.15,1445.72 1842.15,1106.28 1802.85,1106.28 \n",
       "  \"/>\n",
       "<path clip-path=\"url(#clip232)\" d=\"\n",
       "M1842.15 1445.72 L1842.15 1445.72 L1881.45 1445.72 L1881.45 1445.72 L1842.15 1445.72 L1842.15 1445.72  Z\n",
       "  \" fill=\"#009af9\" fill-rule=\"evenodd\" fill-opacity=\"1\"/>\n",
       "<polyline clip-path=\"url(#clip232)\" style=\"stroke:#000000; stroke-linecap:butt; stroke-linejoin:round; stroke-width:4; stroke-opacity:1; fill:none\" points=\"\n",
       "  1842.15,1445.72 1842.15,1445.72 1881.45,1445.72 1842.15,1445.72 \n",
       "  \"/>\n",
       "<path clip-path=\"url(#clip232)\" d=\"\n",
       "M1881.45 766.846 L1881.45 1445.72 L1920.74 1445.72 L1920.74 766.846 L1881.45 766.846 L1881.45 766.846  Z\n",
       "  \" fill=\"#009af9\" fill-rule=\"evenodd\" fill-opacity=\"1\"/>\n",
       "<polyline clip-path=\"url(#clip232)\" style=\"stroke:#000000; stroke-linecap:butt; stroke-linejoin:round; stroke-width:4; stroke-opacity:1; fill:none\" points=\"\n",
       "  1881.45,766.846 1881.45,1445.72 1920.74,1445.72 1920.74,766.846 1881.45,766.846 \n",
       "  \"/>\n",
       "<path clip-path=\"url(#clip232)\" d=\"\n",
       "M1920.74 766.846 L1920.74 1445.72 L1960.04 1445.72 L1960.04 766.846 L1920.74 766.846 L1920.74 766.846  Z\n",
       "  \" fill=\"#009af9\" fill-rule=\"evenodd\" fill-opacity=\"1\"/>\n",
       "<polyline clip-path=\"url(#clip232)\" style=\"stroke:#000000; stroke-linecap:butt; stroke-linejoin:round; stroke-width:4; stroke-opacity:1; fill:none\" points=\"\n",
       "  1920.74,766.846 1920.74,1445.72 1960.04,1445.72 1960.04,766.846 1920.74,766.846 \n",
       "  \"/>\n",
       "<path clip-path=\"url(#clip232)\" d=\"\n",
       "M1960.04 1445.72 L1960.04 1445.72 L1999.34 1445.72 L1999.34 1445.72 L1960.04 1445.72 L1960.04 1445.72  Z\n",
       "  \" fill=\"#009af9\" fill-rule=\"evenodd\" fill-opacity=\"1\"/>\n",
       "<polyline clip-path=\"url(#clip232)\" style=\"stroke:#000000; stroke-linecap:butt; stroke-linejoin:round; stroke-width:4; stroke-opacity:1; fill:none\" points=\"\n",
       "  1960.04,1445.72 1960.04,1445.72 1999.34,1445.72 1960.04,1445.72 \n",
       "  \"/>\n",
       "<path clip-path=\"url(#clip232)\" d=\"\n",
       "M1999.34 1445.72 L1999.34 1445.72 L2038.63 1445.72 L2038.63 1445.72 L1999.34 1445.72 L1999.34 1445.72  Z\n",
       "  \" fill=\"#009af9\" fill-rule=\"evenodd\" fill-opacity=\"1\"/>\n",
       "<polyline clip-path=\"url(#clip232)\" style=\"stroke:#000000; stroke-linecap:butt; stroke-linejoin:round; stroke-width:4; stroke-opacity:1; fill:none\" points=\"\n",
       "  1999.34,1445.72 1999.34,1445.72 2038.63,1445.72 1999.34,1445.72 \n",
       "  \"/>\n",
       "<path clip-path=\"url(#clip232)\" d=\"\n",
       "M2038.63 1445.72 L2038.63 1445.72 L2077.93 1445.72 L2077.93 1445.72 L2038.63 1445.72 L2038.63 1445.72  Z\n",
       "  \" fill=\"#009af9\" fill-rule=\"evenodd\" fill-opacity=\"1\"/>\n",
       "<polyline clip-path=\"url(#clip232)\" style=\"stroke:#000000; stroke-linecap:butt; stroke-linejoin:round; stroke-width:4; stroke-opacity:1; fill:none\" points=\"\n",
       "  2038.63,1445.72 2038.63,1445.72 2077.93,1445.72 2038.63,1445.72 \n",
       "  \"/>\n",
       "<path clip-path=\"url(#clip232)\" d=\"\n",
       "M2077.93 1445.72 L2077.93 1445.72 L2117.23 1445.72 L2117.23 1445.72 L2077.93 1445.72 L2077.93 1445.72  Z\n",
       "  \" fill=\"#009af9\" fill-rule=\"evenodd\" fill-opacity=\"1\"/>\n",
       "<polyline clip-path=\"url(#clip232)\" style=\"stroke:#000000; stroke-linecap:butt; stroke-linejoin:round; stroke-width:4; stroke-opacity:1; fill:none\" points=\"\n",
       "  2077.93,1445.72 2077.93,1445.72 2117.23,1445.72 2077.93,1445.72 \n",
       "  \"/>\n",
       "<path clip-path=\"url(#clip232)\" d=\"\n",
       "M2117.23 1445.72 L2117.23 1445.72 L2156.52 1445.72 L2156.52 1445.72 L2117.23 1445.72 L2117.23 1445.72  Z\n",
       "  \" fill=\"#009af9\" fill-rule=\"evenodd\" fill-opacity=\"1\"/>\n",
       "<polyline clip-path=\"url(#clip232)\" style=\"stroke:#000000; stroke-linecap:butt; stroke-linejoin:round; stroke-width:4; stroke-opacity:1; fill:none\" points=\"\n",
       "  2117.23,1445.72 2117.23,1445.72 2156.52,1445.72 2117.23,1445.72 \n",
       "  \"/>\n",
       "<path clip-path=\"url(#clip232)\" d=\"\n",
       "M2156.52 1106.28 L2156.52 1445.72 L2195.82 1445.72 L2195.82 1106.28 L2156.52 1106.28 L2156.52 1106.28  Z\n",
       "  \" fill=\"#009af9\" fill-rule=\"evenodd\" fill-opacity=\"1\"/>\n",
       "<polyline clip-path=\"url(#clip232)\" style=\"stroke:#000000; stroke-linecap:butt; stroke-linejoin:round; stroke-width:4; stroke-opacity:1; fill:none\" points=\"\n",
       "  2156.52,1106.28 2156.52,1445.72 2195.82,1445.72 2195.82,1106.28 2156.52,1106.28 \n",
       "  \"/>\n",
       "<path clip-path=\"url(#clip232)\" d=\"\n",
       "M2195.82 1106.28 L2195.82 1445.72 L2235.11 1445.72 L2235.11 1106.28 L2195.82 1106.28 L2195.82 1106.28  Z\n",
       "  \" fill=\"#009af9\" fill-rule=\"evenodd\" fill-opacity=\"1\"/>\n",
       "<polyline clip-path=\"url(#clip232)\" style=\"stroke:#000000; stroke-linecap:butt; stroke-linejoin:round; stroke-width:4; stroke-opacity:1; fill:none\" points=\"\n",
       "  2195.82,1106.28 2195.82,1445.72 2235.11,1445.72 2235.11,1106.28 2195.82,1106.28 \n",
       "  \"/>\n",
       "<circle clip-path=\"url(#clip232)\" style=\"fill:#009af9; stroke:none; fill-opacity:0\" cx=\"447.128\" cy=\"1106.28\" r=\"2\"/>\n",
       "<circle clip-path=\"url(#clip232)\" style=\"fill:#009af9; stroke:none; fill-opacity:0\" cx=\"486.424\" cy=\"1445.72\" r=\"2\"/>\n",
       "<circle clip-path=\"url(#clip232)\" style=\"fill:#009af9; stroke:none; fill-opacity:0\" cx=\"525.721\" cy=\"1106.28\" r=\"2\"/>\n",
       "<circle clip-path=\"url(#clip232)\" style=\"fill:#009af9; stroke:none; fill-opacity:0\" cx=\"565.017\" cy=\"1106.28\" r=\"2\"/>\n",
       "<circle clip-path=\"url(#clip232)\" style=\"fill:#009af9; stroke:none; fill-opacity:0\" cx=\"604.314\" cy=\"1445.72\" r=\"2\"/>\n",
       "<circle clip-path=\"url(#clip232)\" style=\"fill:#009af9; stroke:none; fill-opacity:0\" cx=\"643.61\" cy=\"1445.72\" r=\"2\"/>\n",
       "<circle clip-path=\"url(#clip232)\" style=\"fill:#009af9; stroke:none; fill-opacity:0\" cx=\"682.906\" cy=\"1445.72\" r=\"2\"/>\n",
       "<circle clip-path=\"url(#clip232)\" style=\"fill:#009af9; stroke:none; fill-opacity:0\" cx=\"722.203\" cy=\"1445.72\" r=\"2\"/>\n",
       "<circle clip-path=\"url(#clip232)\" style=\"fill:#009af9; stroke:none; fill-opacity:0\" cx=\"761.499\" cy=\"1445.72\" r=\"2\"/>\n",
       "<circle clip-path=\"url(#clip232)\" style=\"fill:#009af9; stroke:none; fill-opacity:0\" cx=\"800.796\" cy=\"1445.72\" r=\"2\"/>\n",
       "<circle clip-path=\"url(#clip232)\" style=\"fill:#009af9; stroke:none; fill-opacity:0\" cx=\"840.092\" cy=\"1445.72\" r=\"2\"/>\n",
       "<circle clip-path=\"url(#clip232)\" style=\"fill:#009af9; stroke:none; fill-opacity:0\" cx=\"879.388\" cy=\"1445.72\" r=\"2\"/>\n",
       "<circle clip-path=\"url(#clip232)\" style=\"fill:#009af9; stroke:none; fill-opacity:0\" cx=\"918.685\" cy=\"1445.72\" r=\"2\"/>\n",
       "<circle clip-path=\"url(#clip232)\" style=\"fill:#009af9; stroke:none; fill-opacity:0\" cx=\"957.981\" cy=\"1445.72\" r=\"2\"/>\n",
       "<circle clip-path=\"url(#clip232)\" style=\"fill:#009af9; stroke:none; fill-opacity:0\" cx=\"997.278\" cy=\"1445.72\" r=\"2\"/>\n",
       "<circle clip-path=\"url(#clip232)\" style=\"fill:#009af9; stroke:none; fill-opacity:0\" cx=\"1036.57\" cy=\"1445.72\" r=\"2\"/>\n",
       "<circle clip-path=\"url(#clip232)\" style=\"fill:#009af9; stroke:none; fill-opacity:0\" cx=\"1075.87\" cy=\"1106.28\" r=\"2\"/>\n",
       "<circle clip-path=\"url(#clip232)\" style=\"fill:#009af9; stroke:none; fill-opacity:0\" cx=\"1115.17\" cy=\"766.846\" r=\"2\"/>\n",
       "<circle clip-path=\"url(#clip232)\" style=\"fill:#009af9; stroke:none; fill-opacity:0\" cx=\"1154.46\" cy=\"1445.72\" r=\"2\"/>\n",
       "<circle clip-path=\"url(#clip232)\" style=\"fill:#009af9; stroke:none; fill-opacity:0\" cx=\"1193.76\" cy=\"1106.28\" r=\"2\"/>\n",
       "<circle clip-path=\"url(#clip232)\" style=\"fill:#009af9; stroke:none; fill-opacity:0\" cx=\"1233.06\" cy=\"1445.72\" r=\"2\"/>\n",
       "<circle clip-path=\"url(#clip232)\" style=\"fill:#009af9; stroke:none; fill-opacity:0\" cx=\"1272.35\" cy=\"1445.72\" r=\"2\"/>\n",
       "<circle clip-path=\"url(#clip232)\" style=\"fill:#009af9; stroke:none; fill-opacity:0\" cx=\"1311.65\" cy=\"1445.72\" r=\"2\"/>\n",
       "<circle clip-path=\"url(#clip232)\" style=\"fill:#009af9; stroke:none; fill-opacity:0\" cx=\"1350.95\" cy=\"1445.72\" r=\"2\"/>\n",
       "<circle clip-path=\"url(#clip232)\" style=\"fill:#009af9; stroke:none; fill-opacity:0\" cx=\"1390.24\" cy=\"1106.28\" r=\"2\"/>\n",
       "<circle clip-path=\"url(#clip232)\" style=\"fill:#009af9; stroke:none; fill-opacity:0\" cx=\"1429.54\" cy=\"1445.72\" r=\"2\"/>\n",
       "<circle clip-path=\"url(#clip232)\" style=\"fill:#009af9; stroke:none; fill-opacity:0\" cx=\"1468.83\" cy=\"1106.28\" r=\"2\"/>\n",
       "<circle clip-path=\"url(#clip232)\" style=\"fill:#009af9; stroke:none; fill-opacity:0\" cx=\"1508.13\" cy=\"1106.28\" r=\"2\"/>\n",
       "<circle clip-path=\"url(#clip232)\" style=\"fill:#009af9; stroke:none; fill-opacity:0\" cx=\"1547.43\" cy=\"1445.72\" r=\"2\"/>\n",
       "<circle clip-path=\"url(#clip232)\" style=\"fill:#009af9; stroke:none; fill-opacity:0\" cx=\"1586.72\" cy=\"1106.28\" r=\"2\"/>\n",
       "<circle clip-path=\"url(#clip232)\" style=\"fill:#009af9; stroke:none; fill-opacity:0\" cx=\"1626.02\" cy=\"1445.72\" r=\"2\"/>\n",
       "<circle clip-path=\"url(#clip232)\" style=\"fill:#009af9; stroke:none; fill-opacity:0\" cx=\"1665.32\" cy=\"1445.72\" r=\"2\"/>\n",
       "<circle clip-path=\"url(#clip232)\" style=\"fill:#009af9; stroke:none; fill-opacity:0\" cx=\"1704.61\" cy=\"1106.28\" r=\"2\"/>\n",
       "<circle clip-path=\"url(#clip232)\" style=\"fill:#009af9; stroke:none; fill-opacity:0\" cx=\"1743.91\" cy=\"1106.28\" r=\"2\"/>\n",
       "<circle clip-path=\"url(#clip232)\" style=\"fill:#009af9; stroke:none; fill-opacity:0\" cx=\"1783.21\" cy=\"1106.28\" r=\"2\"/>\n",
       "<circle clip-path=\"url(#clip232)\" style=\"fill:#009af9; stroke:none; fill-opacity:0\" cx=\"1822.5\" cy=\"1106.28\" r=\"2\"/>\n",
       "<circle clip-path=\"url(#clip232)\" style=\"fill:#009af9; stroke:none; fill-opacity:0\" cx=\"1861.8\" cy=\"1445.72\" r=\"2\"/>\n",
       "<circle clip-path=\"url(#clip232)\" style=\"fill:#009af9; stroke:none; fill-opacity:0\" cx=\"1901.09\" cy=\"766.846\" r=\"2\"/>\n",
       "<circle clip-path=\"url(#clip232)\" style=\"fill:#009af9; stroke:none; fill-opacity:0\" cx=\"1940.39\" cy=\"766.846\" r=\"2\"/>\n",
       "<circle clip-path=\"url(#clip232)\" style=\"fill:#009af9; stroke:none; fill-opacity:0\" cx=\"1979.69\" cy=\"1445.72\" r=\"2\"/>\n",
       "<circle clip-path=\"url(#clip232)\" style=\"fill:#009af9; stroke:none; fill-opacity:0\" cx=\"2018.98\" cy=\"1445.72\" r=\"2\"/>\n",
       "<circle clip-path=\"url(#clip232)\" style=\"fill:#009af9; stroke:none; fill-opacity:0\" cx=\"2058.28\" cy=\"1445.72\" r=\"2\"/>\n",
       "<circle clip-path=\"url(#clip232)\" style=\"fill:#009af9; stroke:none; fill-opacity:0\" cx=\"2097.58\" cy=\"1445.72\" r=\"2\"/>\n",
       "<circle clip-path=\"url(#clip232)\" style=\"fill:#009af9; stroke:none; fill-opacity:0\" cx=\"2136.87\" cy=\"1445.72\" r=\"2\"/>\n",
       "<circle clip-path=\"url(#clip232)\" style=\"fill:#009af9; stroke:none; fill-opacity:0\" cx=\"2176.17\" cy=\"1106.28\" r=\"2\"/>\n",
       "<circle clip-path=\"url(#clip232)\" style=\"fill:#009af9; stroke:none; fill-opacity:0\" cx=\"2215.47\" cy=\"1106.28\" r=\"2\"/>\n",
       "<path clip-path=\"url(#clip232)\" d=\"\n",
       "M230.998 1106.28 L230.998 1445.72 L270.294 1445.72 L270.294 1106.28 L230.998 1106.28 L230.998 1106.28  Z\n",
       "  \" fill=\"#e26f46\" fill-rule=\"evenodd\" fill-opacity=\"1\"/>\n",
       "<polyline clip-path=\"url(#clip232)\" style=\"stroke:#000000; stroke-linecap:butt; stroke-linejoin:round; stroke-width:4; stroke-opacity:1; fill:none\" points=\"\n",
       "  230.998,1106.28 230.998,1445.72 270.294,1445.72 270.294,1106.28 230.998,1106.28 \n",
       "  \"/>\n",
       "<path clip-path=\"url(#clip232)\" d=\"\n",
       "M270.294 766.846 L270.294 1445.72 L309.591 1445.72 L309.591 766.846 L270.294 766.846 L270.294 766.846  Z\n",
       "  \" fill=\"#e26f46\" fill-rule=\"evenodd\" fill-opacity=\"1\"/>\n",
       "<polyline clip-path=\"url(#clip232)\" style=\"stroke:#000000; stroke-linecap:butt; stroke-linejoin:round; stroke-width:4; stroke-opacity:1; fill:none\" points=\"\n",
       "  270.294,766.846 270.294,1445.72 309.591,1445.72 309.591,766.846 270.294,766.846 \n",
       "  \"/>\n",
       "<path clip-path=\"url(#clip232)\" d=\"\n",
       "M309.591 1106.28 L309.591 1445.72 L348.887 1445.72 L348.887 1106.28 L309.591 1106.28 L309.591 1106.28  Z\n",
       "  \" fill=\"#e26f46\" fill-rule=\"evenodd\" fill-opacity=\"1\"/>\n",
       "<polyline clip-path=\"url(#clip232)\" style=\"stroke:#000000; stroke-linecap:butt; stroke-linejoin:round; stroke-width:4; stroke-opacity:1; fill:none\" points=\"\n",
       "  309.591,1106.28 309.591,1445.72 348.887,1445.72 348.887,1106.28 309.591,1106.28 \n",
       "  \"/>\n",
       "<path clip-path=\"url(#clip232)\" d=\"\n",
       "M348.887 1106.28 L348.887 1445.72 L388.183 1445.72 L388.183 1106.28 L348.887 1106.28 L348.887 1106.28  Z\n",
       "  \" fill=\"#e26f46\" fill-rule=\"evenodd\" fill-opacity=\"1\"/>\n",
       "<polyline clip-path=\"url(#clip232)\" style=\"stroke:#000000; stroke-linecap:butt; stroke-linejoin:round; stroke-width:4; stroke-opacity:1; fill:none\" points=\"\n",
       "  348.887,1106.28 348.887,1445.72 388.183,1445.72 388.183,1106.28 348.887,1106.28 \n",
       "  \"/>\n",
       "<path clip-path=\"url(#clip232)\" d=\"\n",
       "M388.183 1106.28 L388.183 1445.72 L427.48 1445.72 L427.48 1106.28 L388.183 1106.28 L388.183 1106.28  Z\n",
       "  \" fill=\"#e26f46\" fill-rule=\"evenodd\" fill-opacity=\"1\"/>\n",
       "<polyline clip-path=\"url(#clip232)\" style=\"stroke:#000000; stroke-linecap:butt; stroke-linejoin:round; stroke-width:4; stroke-opacity:1; fill:none\" points=\"\n",
       "  388.183,1106.28 388.183,1445.72 427.48,1445.72 427.48,1106.28 388.183,1106.28 \n",
       "  \"/>\n",
       "<path clip-path=\"url(#clip232)\" d=\"\n",
       "M427.48 427.411 L427.48 1445.72 L466.776 1445.72 L466.776 427.411 L427.48 427.411 L427.48 427.411  Z\n",
       "  \" fill=\"#e26f46\" fill-rule=\"evenodd\" fill-opacity=\"1\"/>\n",
       "<polyline clip-path=\"url(#clip232)\" style=\"stroke:#000000; stroke-linecap:butt; stroke-linejoin:round; stroke-width:4; stroke-opacity:1; fill:none\" points=\"\n",
       "  427.48,427.411 427.48,1445.72 466.776,1445.72 466.776,427.411 427.48,427.411 \n",
       "  \"/>\n",
       "<path clip-path=\"url(#clip232)\" d=\"\n",
       "M466.776 87.9763 L466.776 1445.72 L506.073 1445.72 L506.073 87.9763 L466.776 87.9763 L466.776 87.9763  Z\n",
       "  \" fill=\"#e26f46\" fill-rule=\"evenodd\" fill-opacity=\"1\"/>\n",
       "<polyline clip-path=\"url(#clip232)\" style=\"stroke:#000000; stroke-linecap:butt; stroke-linejoin:round; stroke-width:4; stroke-opacity:1; fill:none\" points=\"\n",
       "  466.776,87.9763 466.776,1445.72 506.073,1445.72 506.073,87.9763 466.776,87.9763 \n",
       "  \"/>\n",
       "<path clip-path=\"url(#clip232)\" d=\"\n",
       "M506.073 766.846 L506.073 1445.72 L545.369 1445.72 L545.369 766.846 L506.073 766.846 L506.073 766.846  Z\n",
       "  \" fill=\"#e26f46\" fill-rule=\"evenodd\" fill-opacity=\"1\"/>\n",
       "<polyline clip-path=\"url(#clip232)\" style=\"stroke:#000000; stroke-linecap:butt; stroke-linejoin:round; stroke-width:4; stroke-opacity:1; fill:none\" points=\"\n",
       "  506.073,766.846 506.073,1445.72 545.369,1445.72 545.369,766.846 506.073,766.846 \n",
       "  \"/>\n",
       "<path clip-path=\"url(#clip232)\" d=\"\n",
       "M545.369 1445.72 L545.369 1445.72 L584.665 1445.72 L584.665 1445.72 L545.369 1445.72 L545.369 1445.72  Z\n",
       "  \" fill=\"#e26f46\" fill-rule=\"evenodd\" fill-opacity=\"1\"/>\n",
       "<polyline clip-path=\"url(#clip232)\" style=\"stroke:#000000; stroke-linecap:butt; stroke-linejoin:round; stroke-width:4; stroke-opacity:1; fill:none\" points=\"\n",
       "  545.369,1445.72 545.369,1445.72 584.665,1445.72 545.369,1445.72 \n",
       "  \"/>\n",
       "<path clip-path=\"url(#clip232)\" d=\"\n",
       "M584.665 1106.28 L584.665 1445.72 L623.962 1445.72 L623.962 1106.28 L584.665 1106.28 L584.665 1106.28  Z\n",
       "  \" fill=\"#e26f46\" fill-rule=\"evenodd\" fill-opacity=\"1\"/>\n",
       "<polyline clip-path=\"url(#clip232)\" style=\"stroke:#000000; stroke-linecap:butt; stroke-linejoin:round; stroke-width:4; stroke-opacity:1; fill:none\" points=\"\n",
       "  584.665,1106.28 584.665,1445.72 623.962,1445.72 623.962,1106.28 584.665,1106.28 \n",
       "  \"/>\n",
       "<path clip-path=\"url(#clip232)\" d=\"\n",
       "M623.962 87.9763 L623.962 1445.72 L663.258 1445.72 L663.258 87.9763 L623.962 87.9763 L623.962 87.9763  Z\n",
       "  \" fill=\"#e26f46\" fill-rule=\"evenodd\" fill-opacity=\"1\"/>\n",
       "<polyline clip-path=\"url(#clip232)\" style=\"stroke:#000000; stroke-linecap:butt; stroke-linejoin:round; stroke-width:4; stroke-opacity:1; fill:none\" points=\"\n",
       "  623.962,87.9763 623.962,1445.72 663.258,1445.72 663.258,87.9763 623.962,87.9763 \n",
       "  \"/>\n",
       "<path clip-path=\"url(#clip232)\" d=\"\n",
       "M663.258 1106.28 L663.258 1445.72 L702.555 1445.72 L702.555 1106.28 L663.258 1106.28 L663.258 1106.28  Z\n",
       "  \" fill=\"#e26f46\" fill-rule=\"evenodd\" fill-opacity=\"1\"/>\n",
       "<polyline clip-path=\"url(#clip232)\" style=\"stroke:#000000; stroke-linecap:butt; stroke-linejoin:round; stroke-width:4; stroke-opacity:1; fill:none\" points=\"\n",
       "  663.258,1106.28 663.258,1445.72 702.555,1445.72 702.555,1106.28 663.258,1106.28 \n",
       "  \"/>\n",
       "<path clip-path=\"url(#clip232)\" d=\"\n",
       "M702.555 766.846 L702.555 1445.72 L741.851 1445.72 L741.851 766.846 L702.555 766.846 L702.555 766.846  Z\n",
       "  \" fill=\"#e26f46\" fill-rule=\"evenodd\" fill-opacity=\"1\"/>\n",
       "<polyline clip-path=\"url(#clip232)\" style=\"stroke:#000000; stroke-linecap:butt; stroke-linejoin:round; stroke-width:4; stroke-opacity:1; fill:none\" points=\"\n",
       "  702.555,766.846 702.555,1445.72 741.851,1445.72 741.851,766.846 702.555,766.846 \n",
       "  \"/>\n",
       "<path clip-path=\"url(#clip232)\" d=\"\n",
       "M741.851 427.411 L741.851 1445.72 L781.147 1445.72 L781.147 427.411 L741.851 427.411 L741.851 427.411  Z\n",
       "  \" fill=\"#e26f46\" fill-rule=\"evenodd\" fill-opacity=\"1\"/>\n",
       "<polyline clip-path=\"url(#clip232)\" style=\"stroke:#000000; stroke-linecap:butt; stroke-linejoin:round; stroke-width:4; stroke-opacity:1; fill:none\" points=\"\n",
       "  741.851,427.411 741.851,1445.72 781.147,1445.72 781.147,427.411 741.851,427.411 \n",
       "  \"/>\n",
       "<path clip-path=\"url(#clip232)\" d=\"\n",
       "M781.147 1445.72 L781.147 1445.72 L820.444 1445.72 L820.444 1445.72 L781.147 1445.72 L781.147 1445.72  Z\n",
       "  \" fill=\"#e26f46\" fill-rule=\"evenodd\" fill-opacity=\"1\"/>\n",
       "<polyline clip-path=\"url(#clip232)\" style=\"stroke:#000000; stroke-linecap:butt; stroke-linejoin:round; stroke-width:4; stroke-opacity:1; fill:none\" points=\"\n",
       "  781.147,1445.72 781.147,1445.72 820.444,1445.72 781.147,1445.72 \n",
       "  \"/>\n",
       "<path clip-path=\"url(#clip232)\" d=\"\n",
       "M820.444 1445.72 L820.444 1445.72 L859.74 1445.72 L859.74 1445.72 L820.444 1445.72 L820.444 1445.72  Z\n",
       "  \" fill=\"#e26f46\" fill-rule=\"evenodd\" fill-opacity=\"1\"/>\n",
       "<polyline clip-path=\"url(#clip232)\" style=\"stroke:#000000; stroke-linecap:butt; stroke-linejoin:round; stroke-width:4; stroke-opacity:1; fill:none\" points=\"\n",
       "  820.444,1445.72 820.444,1445.72 859.74,1445.72 820.444,1445.72 \n",
       "  \"/>\n",
       "<path clip-path=\"url(#clip232)\" d=\"\n",
       "M859.74 1445.72 L859.74 1445.72 L899.037 1445.72 L899.037 1445.72 L859.74 1445.72 L859.74 1445.72  Z\n",
       "  \" fill=\"#e26f46\" fill-rule=\"evenodd\" fill-opacity=\"1\"/>\n",
       "<polyline clip-path=\"url(#clip232)\" style=\"stroke:#000000; stroke-linecap:butt; stroke-linejoin:round; stroke-width:4; stroke-opacity:1; fill:none\" points=\"\n",
       "  859.74,1445.72 859.74,1445.72 899.037,1445.72 859.74,1445.72 \n",
       "  \"/>\n",
       "<path clip-path=\"url(#clip232)\" d=\"\n",
       "M899.037 1106.28 L899.037 1445.72 L938.333 1445.72 L938.333 1106.28 L899.037 1106.28 L899.037 1106.28  Z\n",
       "  \" fill=\"#e26f46\" fill-rule=\"evenodd\" fill-opacity=\"1\"/>\n",
       "<polyline clip-path=\"url(#clip232)\" style=\"stroke:#000000; stroke-linecap:butt; stroke-linejoin:round; stroke-width:4; stroke-opacity:1; fill:none\" points=\"\n",
       "  899.037,1106.28 899.037,1445.72 938.333,1445.72 938.333,1106.28 899.037,1106.28 \n",
       "  \"/>\n",
       "<path clip-path=\"url(#clip232)\" d=\"\n",
       "M938.333 1445.72 L938.333 1445.72 L977.629 1445.72 L977.629 1445.72 L938.333 1445.72 L938.333 1445.72  Z\n",
       "  \" fill=\"#e26f46\" fill-rule=\"evenodd\" fill-opacity=\"1\"/>\n",
       "<polyline clip-path=\"url(#clip232)\" style=\"stroke:#000000; stroke-linecap:butt; stroke-linejoin:round; stroke-width:4; stroke-opacity:1; fill:none\" points=\"\n",
       "  938.333,1445.72 938.333,1445.72 977.629,1445.72 938.333,1445.72 \n",
       "  \"/>\n",
       "<path clip-path=\"url(#clip232)\" d=\"\n",
       "M977.629 1106.28 L977.629 1445.72 L1016.93 1445.72 L1016.93 1106.28 L977.629 1106.28 L977.629 1106.28  Z\n",
       "  \" fill=\"#e26f46\" fill-rule=\"evenodd\" fill-opacity=\"1\"/>\n",
       "<polyline clip-path=\"url(#clip232)\" style=\"stroke:#000000; stroke-linecap:butt; stroke-linejoin:round; stroke-width:4; stroke-opacity:1; fill:none\" points=\"\n",
       "  977.629,1106.28 977.629,1445.72 1016.93,1445.72 1016.93,1106.28 977.629,1106.28 \n",
       "  \"/>\n",
       "<path clip-path=\"url(#clip232)\" d=\"\n",
       "M1016.93 1106.28 L1016.93 1445.72 L1056.22 1445.72 L1056.22 1106.28 L1016.93 1106.28 L1016.93 1106.28  Z\n",
       "  \" fill=\"#e26f46\" fill-rule=\"evenodd\" fill-opacity=\"1\"/>\n",
       "<polyline clip-path=\"url(#clip232)\" style=\"stroke:#000000; stroke-linecap:butt; stroke-linejoin:round; stroke-width:4; stroke-opacity:1; fill:none\" points=\"\n",
       "  1016.93,1106.28 1016.93,1445.72 1056.22,1445.72 1056.22,1106.28 1016.93,1106.28 \n",
       "  \"/>\n",
       "<path clip-path=\"url(#clip232)\" d=\"\n",
       "M1056.22 1106.28 L1056.22 1445.72 L1095.52 1445.72 L1095.52 1106.28 L1056.22 1106.28 L1056.22 1106.28  Z\n",
       "  \" fill=\"#e26f46\" fill-rule=\"evenodd\" fill-opacity=\"1\"/>\n",
       "<polyline clip-path=\"url(#clip232)\" style=\"stroke:#000000; stroke-linecap:butt; stroke-linejoin:round; stroke-width:4; stroke-opacity:1; fill:none\" points=\"\n",
       "  1056.22,1106.28 1056.22,1445.72 1095.52,1445.72 1095.52,1106.28 1056.22,1106.28 \n",
       "  \"/>\n",
       "<path clip-path=\"url(#clip232)\" d=\"\n",
       "M1095.52 1106.28 L1095.52 1445.72 L1134.81 1445.72 L1134.81 1106.28 L1095.52 1106.28 L1095.52 1106.28  Z\n",
       "  \" fill=\"#e26f46\" fill-rule=\"evenodd\" fill-opacity=\"1\"/>\n",
       "<polyline clip-path=\"url(#clip232)\" style=\"stroke:#000000; stroke-linecap:butt; stroke-linejoin:round; stroke-width:4; stroke-opacity:1; fill:none\" points=\"\n",
       "  1095.52,1106.28 1095.52,1445.72 1134.81,1445.72 1134.81,1106.28 1095.52,1106.28 \n",
       "  \"/>\n",
       "<path clip-path=\"url(#clip232)\" d=\"\n",
       "M1134.81 766.846 L1134.81 1445.72 L1174.11 1445.72 L1174.11 766.846 L1134.81 766.846 L1134.81 766.846  Z\n",
       "  \" fill=\"#e26f46\" fill-rule=\"evenodd\" fill-opacity=\"1\"/>\n",
       "<polyline clip-path=\"url(#clip232)\" style=\"stroke:#000000; stroke-linecap:butt; stroke-linejoin:round; stroke-width:4; stroke-opacity:1; fill:none\" points=\"\n",
       "  1134.81,766.846 1134.81,1445.72 1174.11,1445.72 1174.11,766.846 1134.81,766.846 \n",
       "  \"/>\n",
       "<path clip-path=\"url(#clip232)\" d=\"\n",
       "M1174.11 1445.72 L1174.11 1445.72 L1213.41 1445.72 L1213.41 1445.72 L1174.11 1445.72 L1174.11 1445.72  Z\n",
       "  \" fill=\"#e26f46\" fill-rule=\"evenodd\" fill-opacity=\"1\"/>\n",
       "<polyline clip-path=\"url(#clip232)\" style=\"stroke:#000000; stroke-linecap:butt; stroke-linejoin:round; stroke-width:4; stroke-opacity:1; fill:none\" points=\"\n",
       "  1174.11,1445.72 1174.11,1445.72 1213.41,1445.72 1174.11,1445.72 \n",
       "  \"/>\n",
       "<path clip-path=\"url(#clip232)\" d=\"\n",
       "M1213.41 1106.28 L1213.41 1445.72 L1252.7 1445.72 L1252.7 1106.28 L1213.41 1106.28 L1213.41 1106.28  Z\n",
       "  \" fill=\"#e26f46\" fill-rule=\"evenodd\" fill-opacity=\"1\"/>\n",
       "<polyline clip-path=\"url(#clip232)\" style=\"stroke:#000000; stroke-linecap:butt; stroke-linejoin:round; stroke-width:4; stroke-opacity:1; fill:none\" points=\"\n",
       "  1213.41,1106.28 1213.41,1445.72 1252.7,1445.72 1252.7,1106.28 1213.41,1106.28 \n",
       "  \"/>\n",
       "<path clip-path=\"url(#clip232)\" d=\"\n",
       "M1252.7 1445.72 L1252.7 1445.72 L1292 1445.72 L1292 1445.72 L1252.7 1445.72 L1252.7 1445.72  Z\n",
       "  \" fill=\"#e26f46\" fill-rule=\"evenodd\" fill-opacity=\"1\"/>\n",
       "<polyline clip-path=\"url(#clip232)\" style=\"stroke:#000000; stroke-linecap:butt; stroke-linejoin:round; stroke-width:4; stroke-opacity:1; fill:none\" points=\"\n",
       "  1252.7,1445.72 1252.7,1445.72 1292,1445.72 1252.7,1445.72 \n",
       "  \"/>\n",
       "<path clip-path=\"url(#clip232)\" d=\"\n",
       "M1292 1106.28 L1292 1445.72 L1331.3 1445.72 L1331.3 1106.28 L1292 1106.28 L1292 1106.28  Z\n",
       "  \" fill=\"#e26f46\" fill-rule=\"evenodd\" fill-opacity=\"1\"/>\n",
       "<polyline clip-path=\"url(#clip232)\" style=\"stroke:#000000; stroke-linecap:butt; stroke-linejoin:round; stroke-width:4; stroke-opacity:1; fill:none\" points=\"\n",
       "  1292,1106.28 1292,1445.72 1331.3,1445.72 1331.3,1106.28 1292,1106.28 \n",
       "  \"/>\n",
       "<path clip-path=\"url(#clip232)\" d=\"\n",
       "M1331.3 1445.72 L1331.3 1445.72 L1370.59 1445.72 L1370.59 1445.72 L1331.3 1445.72 L1331.3 1445.72  Z\n",
       "  \" fill=\"#e26f46\" fill-rule=\"evenodd\" fill-opacity=\"1\"/>\n",
       "<polyline clip-path=\"url(#clip232)\" style=\"stroke:#000000; stroke-linecap:butt; stroke-linejoin:round; stroke-width:4; stroke-opacity:1; fill:none\" points=\"\n",
       "  1331.3,1445.72 1331.3,1445.72 1370.59,1445.72 1331.3,1445.72 \n",
       "  \"/>\n",
       "<path clip-path=\"url(#clip232)\" d=\"\n",
       "M1370.59 1445.72 L1370.59 1445.72 L1409.89 1445.72 L1409.89 1445.72 L1370.59 1445.72 L1370.59 1445.72  Z\n",
       "  \" fill=\"#e26f46\" fill-rule=\"evenodd\" fill-opacity=\"1\"/>\n",
       "<polyline clip-path=\"url(#clip232)\" style=\"stroke:#000000; stroke-linecap:butt; stroke-linejoin:round; stroke-width:4; stroke-opacity:1; fill:none\" points=\"\n",
       "  1370.59,1445.72 1370.59,1445.72 1409.89,1445.72 1370.59,1445.72 \n",
       "  \"/>\n",
       "<path clip-path=\"url(#clip232)\" d=\"\n",
       "M1409.89 1445.72 L1409.89 1445.72 L1449.19 1445.72 L1449.19 1445.72 L1409.89 1445.72 L1409.89 1445.72  Z\n",
       "  \" fill=\"#e26f46\" fill-rule=\"evenodd\" fill-opacity=\"1\"/>\n",
       "<polyline clip-path=\"url(#clip232)\" style=\"stroke:#000000; stroke-linecap:butt; stroke-linejoin:round; stroke-width:4; stroke-opacity:1; fill:none\" points=\"\n",
       "  1409.89,1445.72 1409.89,1445.72 1449.19,1445.72 1409.89,1445.72 \n",
       "  \"/>\n",
       "<path clip-path=\"url(#clip232)\" d=\"\n",
       "M1449.19 1445.72 L1449.19 1445.72 L1488.48 1445.72 L1488.48 1445.72 L1449.19 1445.72 L1449.19 1445.72  Z\n",
       "  \" fill=\"#e26f46\" fill-rule=\"evenodd\" fill-opacity=\"1\"/>\n",
       "<polyline clip-path=\"url(#clip232)\" style=\"stroke:#000000; stroke-linecap:butt; stroke-linejoin:round; stroke-width:4; stroke-opacity:1; fill:none\" points=\"\n",
       "  1449.19,1445.72 1449.19,1445.72 1488.48,1445.72 1449.19,1445.72 \n",
       "  \"/>\n",
       "<path clip-path=\"url(#clip232)\" d=\"\n",
       "M1488.48 1445.72 L1488.48 1445.72 L1527.78 1445.72 L1527.78 1445.72 L1488.48 1445.72 L1488.48 1445.72  Z\n",
       "  \" fill=\"#e26f46\" fill-rule=\"evenodd\" fill-opacity=\"1\"/>\n",
       "<polyline clip-path=\"url(#clip232)\" style=\"stroke:#000000; stroke-linecap:butt; stroke-linejoin:round; stroke-width:4; stroke-opacity:1; fill:none\" points=\"\n",
       "  1488.48,1445.72 1488.48,1445.72 1527.78,1445.72 1488.48,1445.72 \n",
       "  \"/>\n",
       "<path clip-path=\"url(#clip232)\" d=\"\n",
       "M1527.78 1445.72 L1527.78 1445.72 L1567.08 1445.72 L1567.08 1445.72 L1527.78 1445.72 L1527.78 1445.72  Z\n",
       "  \" fill=\"#e26f46\" fill-rule=\"evenodd\" fill-opacity=\"1\"/>\n",
       "<polyline clip-path=\"url(#clip232)\" style=\"stroke:#000000; stroke-linecap:butt; stroke-linejoin:round; stroke-width:4; stroke-opacity:1; fill:none\" points=\"\n",
       "  1527.78,1445.72 1527.78,1445.72 1567.08,1445.72 1527.78,1445.72 \n",
       "  \"/>\n",
       "<path clip-path=\"url(#clip232)\" d=\"\n",
       "M1567.08 1445.72 L1567.08 1445.72 L1606.37 1445.72 L1606.37 1445.72 L1567.08 1445.72 L1567.08 1445.72  Z\n",
       "  \" fill=\"#e26f46\" fill-rule=\"evenodd\" fill-opacity=\"1\"/>\n",
       "<polyline clip-path=\"url(#clip232)\" style=\"stroke:#000000; stroke-linecap:butt; stroke-linejoin:round; stroke-width:4; stroke-opacity:1; fill:none\" points=\"\n",
       "  1567.08,1445.72 1567.08,1445.72 1606.37,1445.72 1567.08,1445.72 \n",
       "  \"/>\n",
       "<path clip-path=\"url(#clip232)\" d=\"\n",
       "M1606.37 1106.28 L1606.37 1445.72 L1645.67 1445.72 L1645.67 1106.28 L1606.37 1106.28 L1606.37 1106.28  Z\n",
       "  \" fill=\"#e26f46\" fill-rule=\"evenodd\" fill-opacity=\"1\"/>\n",
       "<polyline clip-path=\"url(#clip232)\" style=\"stroke:#000000; stroke-linecap:butt; stroke-linejoin:round; stroke-width:4; stroke-opacity:1; fill:none\" points=\"\n",
       "  1606.37,1106.28 1606.37,1445.72 1645.67,1445.72 1645.67,1106.28 1606.37,1106.28 \n",
       "  \"/>\n",
       "<path clip-path=\"url(#clip232)\" d=\"\n",
       "M1645.67 1445.72 L1645.67 1445.72 L1684.96 1445.72 L1684.96 1445.72 L1645.67 1445.72 L1645.67 1445.72  Z\n",
       "  \" fill=\"#e26f46\" fill-rule=\"evenodd\" fill-opacity=\"1\"/>\n",
       "<polyline clip-path=\"url(#clip232)\" style=\"stroke:#000000; stroke-linecap:butt; stroke-linejoin:round; stroke-width:4; stroke-opacity:1; fill:none\" points=\"\n",
       "  1645.67,1445.72 1645.67,1445.72 1684.96,1445.72 1645.67,1445.72 \n",
       "  \"/>\n",
       "<path clip-path=\"url(#clip232)\" d=\"\n",
       "M1684.96 1445.72 L1684.96 1445.72 L1724.26 1445.72 L1724.26 1445.72 L1684.96 1445.72 L1684.96 1445.72  Z\n",
       "  \" fill=\"#e26f46\" fill-rule=\"evenodd\" fill-opacity=\"1\"/>\n",
       "<polyline clip-path=\"url(#clip232)\" style=\"stroke:#000000; stroke-linecap:butt; stroke-linejoin:round; stroke-width:4; stroke-opacity:1; fill:none\" points=\"\n",
       "  1684.96,1445.72 1684.96,1445.72 1724.26,1445.72 1684.96,1445.72 \n",
       "  \"/>\n",
       "<path clip-path=\"url(#clip232)\" d=\"\n",
       "M1724.26 1445.72 L1724.26 1445.72 L1763.56 1445.72 L1763.56 1445.72 L1724.26 1445.72 L1724.26 1445.72  Z\n",
       "  \" fill=\"#e26f46\" fill-rule=\"evenodd\" fill-opacity=\"1\"/>\n",
       "<polyline clip-path=\"url(#clip232)\" style=\"stroke:#000000; stroke-linecap:butt; stroke-linejoin:round; stroke-width:4; stroke-opacity:1; fill:none\" points=\"\n",
       "  1724.26,1445.72 1724.26,1445.72 1763.56,1445.72 1724.26,1445.72 \n",
       "  \"/>\n",
       "<path clip-path=\"url(#clip232)\" d=\"\n",
       "M1763.56 1445.72 L1763.56 1445.72 L1802.85 1445.72 L1802.85 1445.72 L1763.56 1445.72 L1763.56 1445.72  Z\n",
       "  \" fill=\"#e26f46\" fill-rule=\"evenodd\" fill-opacity=\"1\"/>\n",
       "<polyline clip-path=\"url(#clip232)\" style=\"stroke:#000000; stroke-linecap:butt; stroke-linejoin:round; stroke-width:4; stroke-opacity:1; fill:none\" points=\"\n",
       "  1763.56,1445.72 1763.56,1445.72 1802.85,1445.72 1763.56,1445.72 \n",
       "  \"/>\n",
       "<path clip-path=\"url(#clip232)\" d=\"\n",
       "M1802.85 1106.28 L1802.85 1445.72 L1842.15 1445.72 L1842.15 1106.28 L1802.85 1106.28 L1802.85 1106.28  Z\n",
       "  \" fill=\"#e26f46\" fill-rule=\"evenodd\" fill-opacity=\"1\"/>\n",
       "<polyline clip-path=\"url(#clip232)\" style=\"stroke:#000000; stroke-linecap:butt; stroke-linejoin:round; stroke-width:4; stroke-opacity:1; fill:none\" points=\"\n",
       "  1802.85,1106.28 1802.85,1445.72 1842.15,1445.72 1842.15,1106.28 1802.85,1106.28 \n",
       "  \"/>\n",
       "<path clip-path=\"url(#clip232)\" d=\"\n",
       "M1842.15 1445.72 L1842.15 1445.72 L1881.45 1445.72 L1881.45 1445.72 L1842.15 1445.72 L1842.15 1445.72  Z\n",
       "  \" fill=\"#e26f46\" fill-rule=\"evenodd\" fill-opacity=\"1\"/>\n",
       "<polyline clip-path=\"url(#clip232)\" style=\"stroke:#000000; stroke-linecap:butt; stroke-linejoin:round; stroke-width:4; stroke-opacity:1; fill:none\" points=\"\n",
       "  1842.15,1445.72 1842.15,1445.72 1881.45,1445.72 1842.15,1445.72 \n",
       "  \"/>\n",
       "<path clip-path=\"url(#clip232)\" d=\"\n",
       "M1881.45 1445.72 L1881.45 1445.72 L1920.74 1445.72 L1920.74 1445.72 L1881.45 1445.72 L1881.45 1445.72  Z\n",
       "  \" fill=\"#e26f46\" fill-rule=\"evenodd\" fill-opacity=\"1\"/>\n",
       "<polyline clip-path=\"url(#clip232)\" style=\"stroke:#000000; stroke-linecap:butt; stroke-linejoin:round; stroke-width:4; stroke-opacity:1; fill:none\" points=\"\n",
       "  1881.45,1445.72 1881.45,1445.72 1920.74,1445.72 1881.45,1445.72 \n",
       "  \"/>\n",
       "<path clip-path=\"url(#clip232)\" d=\"\n",
       "M1920.74 1445.72 L1920.74 1445.72 L1960.04 1445.72 L1960.04 1445.72 L1920.74 1445.72 L1920.74 1445.72  Z\n",
       "  \" fill=\"#e26f46\" fill-rule=\"evenodd\" fill-opacity=\"1\"/>\n",
       "<polyline clip-path=\"url(#clip232)\" style=\"stroke:#000000; stroke-linecap:butt; stroke-linejoin:round; stroke-width:4; stroke-opacity:1; fill:none\" points=\"\n",
       "  1920.74,1445.72 1920.74,1445.72 1960.04,1445.72 1920.74,1445.72 \n",
       "  \"/>\n",
       "<path clip-path=\"url(#clip232)\" d=\"\n",
       "M1960.04 1445.72 L1960.04 1445.72 L1999.34 1445.72 L1999.34 1445.72 L1960.04 1445.72 L1960.04 1445.72  Z\n",
       "  \" fill=\"#e26f46\" fill-rule=\"evenodd\" fill-opacity=\"1\"/>\n",
       "<polyline clip-path=\"url(#clip232)\" style=\"stroke:#000000; stroke-linecap:butt; stroke-linejoin:round; stroke-width:4; stroke-opacity:1; fill:none\" points=\"\n",
       "  1960.04,1445.72 1960.04,1445.72 1999.34,1445.72 1960.04,1445.72 \n",
       "  \"/>\n",
       "<path clip-path=\"url(#clip232)\" d=\"\n",
       "M1999.34 1106.28 L1999.34 1445.72 L2038.63 1445.72 L2038.63 1106.28 L1999.34 1106.28 L1999.34 1106.28  Z\n",
       "  \" fill=\"#e26f46\" fill-rule=\"evenodd\" fill-opacity=\"1\"/>\n",
       "<polyline clip-path=\"url(#clip232)\" style=\"stroke:#000000; stroke-linecap:butt; stroke-linejoin:round; stroke-width:4; stroke-opacity:1; fill:none\" points=\"\n",
       "  1999.34,1106.28 1999.34,1445.72 2038.63,1445.72 2038.63,1106.28 1999.34,1106.28 \n",
       "  \"/>\n",
       "<path clip-path=\"url(#clip232)\" d=\"\n",
       "M2038.63 1106.28 L2038.63 1445.72 L2077.93 1445.72 L2077.93 1106.28 L2038.63 1106.28 L2038.63 1106.28  Z\n",
       "  \" fill=\"#e26f46\" fill-rule=\"evenodd\" fill-opacity=\"1\"/>\n",
       "<polyline clip-path=\"url(#clip232)\" style=\"stroke:#000000; stroke-linecap:butt; stroke-linejoin:round; stroke-width:4; stroke-opacity:1; fill:none\" points=\"\n",
       "  2038.63,1106.28 2038.63,1445.72 2077.93,1445.72 2077.93,1106.28 2038.63,1106.28 \n",
       "  \"/>\n",
       "<circle clip-path=\"url(#clip232)\" style=\"fill:#e26f46; stroke:none; fill-opacity:0\" cx=\"250.646\" cy=\"1106.28\" r=\"2\"/>\n",
       "<circle clip-path=\"url(#clip232)\" style=\"fill:#e26f46; stroke:none; fill-opacity:0\" cx=\"289.942\" cy=\"766.846\" r=\"2\"/>\n",
       "<circle clip-path=\"url(#clip232)\" style=\"fill:#e26f46; stroke:none; fill-opacity:0\" cx=\"329.239\" cy=\"1106.28\" r=\"2\"/>\n",
       "<circle clip-path=\"url(#clip232)\" style=\"fill:#e26f46; stroke:none; fill-opacity:0\" cx=\"368.535\" cy=\"1106.28\" r=\"2\"/>\n",
       "<circle clip-path=\"url(#clip232)\" style=\"fill:#e26f46; stroke:none; fill-opacity:0\" cx=\"407.832\" cy=\"1106.28\" r=\"2\"/>\n",
       "<circle clip-path=\"url(#clip232)\" style=\"fill:#e26f46; stroke:none; fill-opacity:0\" cx=\"447.128\" cy=\"427.411\" r=\"2\"/>\n",
       "<circle clip-path=\"url(#clip232)\" style=\"fill:#e26f46; stroke:none; fill-opacity:0\" cx=\"486.424\" cy=\"87.9763\" r=\"2\"/>\n",
       "<circle clip-path=\"url(#clip232)\" style=\"fill:#e26f46; stroke:none; fill-opacity:0\" cx=\"525.721\" cy=\"766.846\" r=\"2\"/>\n",
       "<circle clip-path=\"url(#clip232)\" style=\"fill:#e26f46; stroke:none; fill-opacity:0\" cx=\"565.017\" cy=\"1445.72\" r=\"2\"/>\n",
       "<circle clip-path=\"url(#clip232)\" style=\"fill:#e26f46; stroke:none; fill-opacity:0\" cx=\"604.314\" cy=\"1106.28\" r=\"2\"/>\n",
       "<circle clip-path=\"url(#clip232)\" style=\"fill:#e26f46; stroke:none; fill-opacity:0\" cx=\"643.61\" cy=\"87.9763\" r=\"2\"/>\n",
       "<circle clip-path=\"url(#clip232)\" style=\"fill:#e26f46; stroke:none; fill-opacity:0\" cx=\"682.906\" cy=\"1106.28\" r=\"2\"/>\n",
       "<circle clip-path=\"url(#clip232)\" style=\"fill:#e26f46; stroke:none; fill-opacity:0\" cx=\"722.203\" cy=\"766.846\" r=\"2\"/>\n",
       "<circle clip-path=\"url(#clip232)\" style=\"fill:#e26f46; stroke:none; fill-opacity:0\" cx=\"761.499\" cy=\"427.411\" r=\"2\"/>\n",
       "<circle clip-path=\"url(#clip232)\" style=\"fill:#e26f46; stroke:none; fill-opacity:0\" cx=\"800.796\" cy=\"1445.72\" r=\"2\"/>\n",
       "<circle clip-path=\"url(#clip232)\" style=\"fill:#e26f46; stroke:none; fill-opacity:0\" cx=\"840.092\" cy=\"1445.72\" r=\"2\"/>\n",
       "<circle clip-path=\"url(#clip232)\" style=\"fill:#e26f46; stroke:none; fill-opacity:0\" cx=\"879.388\" cy=\"1445.72\" r=\"2\"/>\n",
       "<circle clip-path=\"url(#clip232)\" style=\"fill:#e26f46; stroke:none; fill-opacity:0\" cx=\"918.685\" cy=\"1106.28\" r=\"2\"/>\n",
       "<circle clip-path=\"url(#clip232)\" style=\"fill:#e26f46; stroke:none; fill-opacity:0\" cx=\"957.981\" cy=\"1445.72\" r=\"2\"/>\n",
       "<circle clip-path=\"url(#clip232)\" style=\"fill:#e26f46; stroke:none; fill-opacity:0\" cx=\"997.278\" cy=\"1106.28\" r=\"2\"/>\n",
       "<circle clip-path=\"url(#clip232)\" style=\"fill:#e26f46; stroke:none; fill-opacity:0\" cx=\"1036.57\" cy=\"1106.28\" r=\"2\"/>\n",
       "<circle clip-path=\"url(#clip232)\" style=\"fill:#e26f46; stroke:none; fill-opacity:0\" cx=\"1075.87\" cy=\"1106.28\" r=\"2\"/>\n",
       "<circle clip-path=\"url(#clip232)\" style=\"fill:#e26f46; stroke:none; fill-opacity:0\" cx=\"1115.17\" cy=\"1106.28\" r=\"2\"/>\n",
       "<circle clip-path=\"url(#clip232)\" style=\"fill:#e26f46; stroke:none; fill-opacity:0\" cx=\"1154.46\" cy=\"766.846\" r=\"2\"/>\n",
       "<circle clip-path=\"url(#clip232)\" style=\"fill:#e26f46; stroke:none; fill-opacity:0\" cx=\"1193.76\" cy=\"1445.72\" r=\"2\"/>\n",
       "<circle clip-path=\"url(#clip232)\" style=\"fill:#e26f46; stroke:none; fill-opacity:0\" cx=\"1233.06\" cy=\"1106.28\" r=\"2\"/>\n",
       "<circle clip-path=\"url(#clip232)\" style=\"fill:#e26f46; stroke:none; fill-opacity:0\" cx=\"1272.35\" cy=\"1445.72\" r=\"2\"/>\n",
       "<circle clip-path=\"url(#clip232)\" style=\"fill:#e26f46; stroke:none; fill-opacity:0\" cx=\"1311.65\" cy=\"1106.28\" r=\"2\"/>\n",
       "<circle clip-path=\"url(#clip232)\" style=\"fill:#e26f46; stroke:none; fill-opacity:0\" cx=\"1350.95\" cy=\"1445.72\" r=\"2\"/>\n",
       "<circle clip-path=\"url(#clip232)\" style=\"fill:#e26f46; stroke:none; fill-opacity:0\" cx=\"1390.24\" cy=\"1445.72\" r=\"2\"/>\n",
       "<circle clip-path=\"url(#clip232)\" style=\"fill:#e26f46; stroke:none; fill-opacity:0\" cx=\"1429.54\" cy=\"1445.72\" r=\"2\"/>\n",
       "<circle clip-path=\"url(#clip232)\" style=\"fill:#e26f46; stroke:none; fill-opacity:0\" cx=\"1468.83\" cy=\"1445.72\" r=\"2\"/>\n",
       "<circle clip-path=\"url(#clip232)\" style=\"fill:#e26f46; stroke:none; fill-opacity:0\" cx=\"1508.13\" cy=\"1445.72\" r=\"2\"/>\n",
       "<circle clip-path=\"url(#clip232)\" style=\"fill:#e26f46; stroke:none; fill-opacity:0\" cx=\"1547.43\" cy=\"1445.72\" r=\"2\"/>\n",
       "<circle clip-path=\"url(#clip232)\" style=\"fill:#e26f46; stroke:none; fill-opacity:0\" cx=\"1586.72\" cy=\"1445.72\" r=\"2\"/>\n",
       "<circle clip-path=\"url(#clip232)\" style=\"fill:#e26f46; stroke:none; fill-opacity:0\" cx=\"1626.02\" cy=\"1106.28\" r=\"2\"/>\n",
       "<circle clip-path=\"url(#clip232)\" style=\"fill:#e26f46; stroke:none; fill-opacity:0\" cx=\"1665.32\" cy=\"1445.72\" r=\"2\"/>\n",
       "<circle clip-path=\"url(#clip232)\" style=\"fill:#e26f46; stroke:none; fill-opacity:0\" cx=\"1704.61\" cy=\"1445.72\" r=\"2\"/>\n",
       "<circle clip-path=\"url(#clip232)\" style=\"fill:#e26f46; stroke:none; fill-opacity:0\" cx=\"1743.91\" cy=\"1445.72\" r=\"2\"/>\n",
       "<circle clip-path=\"url(#clip232)\" style=\"fill:#e26f46; stroke:none; fill-opacity:0\" cx=\"1783.21\" cy=\"1445.72\" r=\"2\"/>\n",
       "<circle clip-path=\"url(#clip232)\" style=\"fill:#e26f46; stroke:none; fill-opacity:0\" cx=\"1822.5\" cy=\"1106.28\" r=\"2\"/>\n",
       "<circle clip-path=\"url(#clip232)\" style=\"fill:#e26f46; stroke:none; fill-opacity:0\" cx=\"1861.8\" cy=\"1445.72\" r=\"2\"/>\n",
       "<circle clip-path=\"url(#clip232)\" style=\"fill:#e26f46; stroke:none; fill-opacity:0\" cx=\"1901.09\" cy=\"1445.72\" r=\"2\"/>\n",
       "<circle clip-path=\"url(#clip232)\" style=\"fill:#e26f46; stroke:none; fill-opacity:0\" cx=\"1940.39\" cy=\"1445.72\" r=\"2\"/>\n",
       "<circle clip-path=\"url(#clip232)\" style=\"fill:#e26f46; stroke:none; fill-opacity:0\" cx=\"1979.69\" cy=\"1445.72\" r=\"2\"/>\n",
       "<circle clip-path=\"url(#clip232)\" style=\"fill:#e26f46; stroke:none; fill-opacity:0\" cx=\"2018.98\" cy=\"1106.28\" r=\"2\"/>\n",
       "<circle clip-path=\"url(#clip232)\" style=\"fill:#e26f46; stroke:none; fill-opacity:0\" cx=\"2058.28\" cy=\"1106.28\" r=\"2\"/>\n",
       "<path clip-path=\"url(#clip230)\" d=\"\n",
       "M1976.69 250.738 L2278.07 250.738 L2278.07 95.2176 L1976.69 95.2176  Z\n",
       "  \" fill=\"#ffffff\" fill-rule=\"evenodd\" fill-opacity=\"1\"/>\n",
       "<polyline clip-path=\"url(#clip230)\" style=\"stroke:#000000; stroke-linecap:butt; stroke-linejoin:round; stroke-width:4; stroke-opacity:1; fill:none\" points=\"\n",
       "  1976.69,250.738 2278.07,250.738 2278.07,95.2176 1976.69,95.2176 1976.69,250.738 \n",
       "  \"/>\n",
       "<path clip-path=\"url(#clip230)\" d=\"\n",
       "M2001.58 167.794 L2150.95 167.794 L2150.95 126.322 L2001.58 126.322 L2001.58 167.794  Z\n",
       "  \" fill=\"#009af9\" fill-rule=\"evenodd\" fill-opacity=\"1\"/>\n",
       "<polyline clip-path=\"url(#clip230)\" style=\"stroke:#000000; stroke-linecap:butt; stroke-linejoin:round; stroke-width:4; stroke-opacity:1; fill:none\" points=\"\n",
       "  2001.58,167.794 2150.95,167.794 2150.95,126.322 2001.58,126.322 2001.58,167.794 \n",
       "  \"/>\n",
       "<path clip-path=\"url(#clip230)\" d=\"M2189.69 166.745 Q2187.89 171.375 2186.17 172.787 Q2184.46 174.199 2181.59 174.199 L2178.19 174.199 L2178.19 170.634 L2180.69 170.634 Q2182.45 170.634 2183.42 169.8 Q2184.39 168.967 2185.57 165.865 L2186.34 163.921 L2175.85 138.412 L2180.36 138.412 L2188.46 158.689 L2196.57 138.412 L2201.08 138.412 L2189.69 166.745 Z\" fill=\"#000000\" fill-rule=\"evenodd\" fill-opacity=\"1\" /><path clip-path=\"url(#clip230)\" d=\"M2208.37 160.402 L2216.01 160.402 L2216.01 134.037 L2207.7 135.703 L2207.7 131.444 L2215.96 129.778 L2220.64 129.778 L2220.64 160.402 L2228.28 160.402 L2228.28 164.338 L2208.37 164.338 L2208.37 160.402 Z\" fill=\"#000000\" fill-rule=\"evenodd\" fill-opacity=\"1\" /><path clip-path=\"url(#clip230)\" d=\"\n",
       "M2001.58 219.634 L2150.95 219.634 L2150.95 178.162 L2001.58 178.162 L2001.58 219.634  Z\n",
       "  \" fill=\"#e26f46\" fill-rule=\"evenodd\" fill-opacity=\"1\"/>\n",
       "<polyline clip-path=\"url(#clip230)\" style=\"stroke:#000000; stroke-linecap:butt; stroke-linejoin:round; stroke-width:4; stroke-opacity:1; fill:none\" points=\"\n",
       "  2001.58,219.634 2150.95,219.634 2150.95,178.162 2001.58,178.162 2001.58,219.634 \n",
       "  \"/>\n",
       "<path clip-path=\"url(#clip230)\" d=\"M2189.69 218.585 Q2187.89 223.215 2186.17 224.627 Q2184.46 226.039 2181.59 226.039 L2178.19 226.039 L2178.19 222.474 L2180.69 222.474 Q2182.45 222.474 2183.42 221.64 Q2184.39 220.807 2185.57 217.705 L2186.34 215.761 L2175.85 190.252 L2180.36 190.252 L2188.46 210.529 L2196.57 190.252 L2201.08 190.252 L2189.69 218.585 Z\" fill=\"#000000\" fill-rule=\"evenodd\" fill-opacity=\"1\" /><path clip-path=\"url(#clip230)\" d=\"M2211.59 212.242 L2227.91 212.242 L2227.91 216.178 L2205.96 216.178 L2205.96 212.242 Q2208.63 209.488 2213.21 204.858 Q2217.82 200.205 2219 198.863 Q2221.24 196.34 2222.12 194.604 Q2223.02 192.844 2223.02 191.155 Q2223.02 188.4 2221.08 186.664 Q2219.16 184.928 2216.06 184.928 Q2213.86 184.928 2211.4 185.692 Q2208.97 186.455 2206.2 188.006 L2206.2 183.284 Q2209.02 182.15 2211.47 181.571 Q2213.93 180.993 2215.96 180.993 Q2221.33 180.993 2224.53 183.678 Q2227.72 186.363 2227.72 190.854 Q2227.72 192.983 2226.91 194.905 Q2226.13 196.803 2224.02 199.395 Q2223.44 200.067 2220.34 203.284 Q2217.24 206.479 2211.59 212.242 Z\" fill=\"#000000\" fill-rule=\"evenodd\" fill-opacity=\"1\" /></svg>\n"
      ]
     },
     "execution_count": 158,
     "metadata": {},
     "output_type": "execute_result"
    }
   ],
   "source": [
    "hist= histogram(trans_data_x_2_split; stacked=true, bins=60, colors=[\"red\", \"blue\"])"
   ]
  },
  {
   "cell_type": "code",
   "execution_count": null,
   "id": "figured-muslim",
   "metadata": {},
   "outputs": [],
   "source": [
    "# sampling based agent. \n",
    "include(\"agent/agent_Albert/agent_sampling.jl\");"
   ]
  },
  {
   "cell_type": "code",
   "execution_count": 22,
   "id": "creative-triangle",
   "metadata": {},
   "outputs": [
    {
     "data": {
      "text/plain": [
       "learning (generic function with 2 methods)"
      ]
     },
     "execution_count": 22,
     "metadata": {},
     "output_type": "execute_result"
    }
   ],
   "source": [
    "# Returns paramaters of a neural netwrok that provides the highest log posterior.\n",
    "function learning(gains, contexts, appraisals, N=1000; g_jitter=1e-4)\n",
    "    # adding jitter to gains might be useful when dealing with small number of observations\n",
    "    gains = [g .+ sqrt(g_jitter)*randn(length(g)) for g in gains]\n",
    "    inputs = [vcat(g, c) for (g, c) in zip(gains, contexts)]\n",
    "    ch = Turing.sample(prefernce_learning(hcat(inputs...), appraisals, 1.0), Turing.HMC(0.05, 10), N);\n",
    "    # Extract all weight and bias parameters.\n",
    "    theta = Turing.MCMCChains.group(ch, :nn_params).value;\n",
    "    # Find the index that provided the highest log posterior in the chain.\n",
    "    _, i = findmax(ch[:lp])\n",
    "    i = i.I[1]\n",
    "    θ = Float64.(theta[i, :])\n",
    "end"
   ]
  },
  {
   "cell_type": "code",
   "execution_count": 32,
   "id": "inner-malaysia",
   "metadata": {},
   "outputs": [
    {
     "name": "stderr",
     "output_type": "stream",
     "text": [
      "\u001b[32mSampling: 100%|█████████████████████████████████████████| Time: 0:00:00\u001b[39m\n"
     ]
    }
   ],
   "source": [
    "nn_params = learning(gains, contexts, appraisals);"
   ]
  },
  {
   "cell_type": "code",
   "execution_count": 33,
   "id": "innocent-ladder",
   "metadata": {},
   "outputs": [
    {
     "name": "stderr",
     "output_type": "stream",
     "text": [
      "\u001b[32mSampling: 100%|█████████████████████████████████████████| Time: 0:00:00\u001b[39m\n"
     ]
    }
   ],
   "source": [
    "# Alternative (in case you don't want to use learning function)\n",
    "gains₊ = [g .+ sqrt(1e-4)*randn(length(g)) for g in gains]\n",
    "inputs = [vcat(g, c) for (g, c) in zip(gains, contexts)]\n",
    "ch = Turing.sample(prefernce_learning(hcat(inputs...), appraisals, 1.0), Turing.HMC(0.05, 10), 1000);"
   ]
  },
  {
   "cell_type": "code",
   "execution_count": null,
   "id": "radical-occasion",
   "metadata": {},
   "outputs": [],
   "source": [
    "sumstats = Turing.summarize(ch, Turing.mean, Turing.std)\n",
    "mθ, vθ   = sumstats.nt.mean, sumstats.nt.std;"
   ]
  },
  {
   "cell_type": "code",
   "execution_count": 27,
   "id": "unable-baking",
   "metadata": {},
   "outputs": [],
   "source": [
    "theta = Turing.MCMCChains.group(ch, :nn_params).value;\n",
    "# Find the index that provided the highest log posterior in the chain.\n",
    "_, i = findmax(ch[:lp])\n",
    "i = i.I[1]\n",
    "θ = theta[i, :];"
   ]
  },
  {
   "cell_type": "code",
   "execution_count": 28,
   "id": "third-manhattan",
   "metadata": {},
   "outputs": [],
   "source": [
    "predictions = []\n",
    "for n in 1:length(appraisals)\n",
    "    push!(predictions, nn_forward(inputs[n], θ))\n",
    "end"
   ]
  },
  {
   "cell_type": "code",
   "execution_count": 33,
   "id": "coupled-shirt",
   "metadata": {},
   "outputs": [
    {
     "data": {
      "text/plain": [
       "7.0"
      ]
     },
     "execution_count": 33,
     "metadata": {},
     "output_type": "execute_result"
    }
   ],
   "source": [
    "# Check for errors on training set\n",
    "appraisals_ = [rand(Distributions.Bernoulli(p[1])) for p in predictions]\n",
    "err = sum(abs.(appraisals .- appraisals_))"
   ]
  },
  {
   "cell_type": "markdown",
   "id": "compressed-norfolk",
   "metadata": {},
   "source": [
    "## Planning\n",
    "Few things must be said about the planning stage. \n",
    "First of all, the idea of planning is a reverse problem to prefernce learning. \n",
    "Given the parameters of neural network, the goal prior for the appraisal (1.0) and an informative prior for the future context (we have an idea of how the environment evolves), we want to infer the most suitable gains.\n",
    "The evolution of the context will be based on HMM model, where the observations are \n",
    "\n",
    "For illustration purposes, we will first run the inference algorithm to obtain **z** and **x**. Secondly, we run our agent that proposes gains."
   ]
  },
  {
   "cell_type": "code",
   "execution_count": 72,
   "id": "referenced-catalyst",
   "metadata": {},
   "outputs": [
    {
     "data": {
      "text/plain": [
       "sample_gains (generic function with 2 methods)"
      ]
     },
     "execution_count": 72,
     "metadata": {},
     "output_type": "execute_result"
    },
    {
     "name": "stderr",
     "output_type": "stream",
     "text": [
      "WARNING: both Flux and Distributions export \"params\"; uses of it in module Main must be qualified\n"
     ]
    }
   ],
   "source": [
    "# infer gains\n",
    "function sample_gains(context, nn_params, N=1000)\n",
    "    ch = Turing.sample(planning(nn_params, [1.0], context), Turing.HMC(0.01, 4), N);\n",
    "    gains_context = Turing.MCMCChains.group(ch, :gs).value\n",
    "    # Find the index that provided the highest log posterior in the chain.\n",
    "    _, i = findmax(ch[:lp])\n",
    "    i = i.I[1]\n",
    "    Float64.(gains_context[i, :])\n",
    "end"
   ]
  },
  {
   "cell_type": "code",
   "execution_count": 34,
   "id": "instrumental-death",
   "metadata": {},
   "outputs": [],
   "source": [
    "test_files = get_sounds_fn(\"sound/AIDA/test/\");"
   ]
  },
  {
   "cell_type": "code",
   "execution_count": 25,
   "id": "molecular-vegetarian",
   "metadata": {},
   "outputs": [
    {
     "name": "stdout",
     "output_type": "stream",
     "text": [
      "sound/AIDA/test/sp09_train_sn0.wav\n"
     ]
    },
    {
     "name": "stderr",
     "output_type": "stream",
     "text": [
      "\u001b[32mProgress: 100%|█████████████████████████████████████████| Time: 0:04:12\u001b[39m\n"
     ]
    },
    {
     "name": "stdout",
     "output_type": "stream",
     "text": [
      "sound/AIDA/test/sp10_train_sn0.wav\n"
     ]
    },
    {
     "name": "stderr",
     "output_type": "stream",
     "text": [
      "\u001b[32mProgress: 100%|█████████████████████████████████████████| Time: 0:04:19\u001b[39m\n"
     ]
    },
    {
     "name": "stdout",
     "output_type": "stream",
     "text": [
      "sound/AIDA/test/sp11_babble_sn0.wav\n"
     ]
    },
    {
     "name": "stderr",
     "output_type": "stream",
     "text": [
      "\u001b[32mProgress: 100%|█████████████████████████████████████████| Time: 0:05:01\u001b[39m\n"
     ]
    },
    {
     "name": "stdout",
     "output_type": "stream",
     "text": [
      "sound/AIDA/test/sp12_babble_sn0.wav\n"
     ]
    },
    {
     "name": "stderr",
     "output_type": "stream",
     "text": [
      "\u001b[32mProgress: 100%|█████████████████████████████████████████| Time: 0:04:01\u001b[39m\n"
     ]
    },
    {
     "name": "stdout",
     "output_type": "stream",
     "text": [
      "sound/AIDA/test/sp13_babble_sn0.wav\n"
     ]
    },
    {
     "name": "stderr",
     "output_type": "stream",
     "text": [
      "\u001b[32mProgress: 100%|█████████████████████████████████████████| Time: 0:03:17\u001b[39m\n"
     ]
    },
    {
     "name": "stdout",
     "output_type": "stream",
     "text": [
      "sound/AIDA/test/sp14_babble_sn0.wav\n"
     ]
    },
    {
     "name": "stderr",
     "output_type": "stream",
     "text": [
      "\u001b[32mProgress: 100%|█████████████████████████████████████████| Time: 0:03:43\u001b[39m\n"
     ]
    },
    {
     "name": "stdout",
     "output_type": "stream",
     "text": [
      "sound/AIDA/test/sp15_babble_sn0.wav\n"
     ]
    },
    {
     "name": "stderr",
     "output_type": "stream",
     "text": [
      "\u001b[32mProgress: 100%|█████████████████████████████████████████| Time: 0:03:42\u001b[39m\n"
     ]
    },
    {
     "name": "stdout",
     "output_type": "stream",
     "text": [
      "sound/AIDA/test/sp16_babble_sn0.wav\n"
     ]
    },
    {
     "name": "stderr",
     "output_type": "stream",
     "text": [
      "\u001b[32mProgress: 100%|█████████████████████████████████████████| Time: 0:02:57\u001b[39m\n"
     ]
    },
    {
     "name": "stdout",
     "output_type": "stream",
     "text": [
      "sound/AIDA/test/sp17_babble_sn0.wav\n"
     ]
    },
    {
     "name": "stderr",
     "output_type": "stream",
     "text": [
      "\u001b[32mProgress: 100%|█████████████████████████████████████████| Time: 0:03:01\u001b[39m\n"
     ]
    },
    {
     "name": "stdout",
     "output_type": "stream",
     "text": [
      "sound/AIDA/test/sp18_babble_sn0.wav\n"
     ]
    },
    {
     "name": "stderr",
     "output_type": "stream",
     "text": [
      "\u001b[32mProgress: 100%|█████████████████████████████████████████| Time: 0:03:04\u001b[39m\n"
     ]
    },
    {
     "name": "stdout",
     "output_type": "stream",
     "text": [
      "sound/AIDA/test/sp19_babble_sn0.wav\n"
     ]
    },
    {
     "name": "stderr",
     "output_type": "stream",
     "text": [
      "\u001b[32mProgress: 100%|█████████████████████████████████████████| Time: 0:03:49\u001b[39m\n"
     ]
    },
    {
     "name": "stdout",
     "output_type": "stream",
     "text": [
      "sound/AIDA/test/sp20_babble_sn0.wav\n"
     ]
    },
    {
     "name": "stderr",
     "output_type": "stream",
     "text": [
      "\u001b[32mProgress: 100%|█████████████████████████████████████████| Time: 0:03:48\u001b[39m\n"
     ]
    }
   ],
   "source": [
    "# obtain HA output for test set (data for acting)\n",
    "using JLD\n",
    "# r for recovered\n",
    "for test_file in test_files\n",
    "    println(test_file)\n",
    "    speech, fs = WAV.wavread(test_file)\n",
    "    speech_seg = get_frames(speech, fs)\n",
    "    # choose priors\n",
    "    priors_eta = occursin(\"babble\", test_file) ? (bblmη_arr, bblvη_arr) : (trmη_arr, trvη_arr)\n",
    "    priors_tau = occursin(\"babble\", test_file) ? bblτ_arr : trτ_arr\n",
    "    \n",
    "    # make sure that 1D of priors and speech_seg are equal\n",
    "    if size(priors_eta, 1) != size(speech_seg, 1)\n",
    "        totseg = size(speech_seg, 1)\n",
    "        priors_eta_m, priors_eta_v, priors_tau = prior_to_priors(priors_eta[1][1, :]', priors_eta[2][1, :, :], priors_tau[1], totseg)\n",
    "        priors_eta = priors_eta_m, priors_eta_v\n",
    "    end\n",
    "    rmz, rvz, rmθ, rvθ, rγ, rmx, rvx, rmη, rvη, rτ, fe, rmo = HA_algorithm(speech_seg, priors_eta, priors_tau, 10, 2, 10);\n",
    "    \n",
    "    JLD.save(\"sound/AIDA/separated_jld/test/\"*test_file[findfirst(\"sp\", test_file)[1]:end][1:end-3]*\"jld\",\n",
    "         \"rmz\", rmz, \"rvz\", rvz, \"rmθ\", rmθ, \"rvθ\", rvθ, \"rγ\", rγ, \n",
    "         \"rmx\", rmx, \"rvx\", rvx, \"rmη\", rmη, \"rvη\", rvη, \"rτ\", rτ,\n",
    "         \"fe\", fe, \"rmo\", rmo, \"filename\", test_file,\n",
    "         \"audio\", speech)\n",
    "end"
   ]
  },
  {
   "cell_type": "code",
   "execution_count": 87,
   "id": "cutting-third",
   "metadata": {},
   "outputs": [],
   "source": [
    "test_jlds = get_sounds_fn(\"sound/AIDA/separated_jld/test/\");"
   ]
  },
  {
   "cell_type": "code",
   "execution_count": 89,
   "id": "fiscal-friendship",
   "metadata": {},
   "outputs": [],
   "source": [
    "# Here agent plans and learns\n",
    "for test_jld in test_jlds\n",
    "    d = JLD.load(test_jld)\n",
    "    rmz, rmx = d[\"rmz\"], d[\"rmx\"]\n",
    "    filename = d[\"filename\"]\n",
    "    context = occursin(\"babble\", filename) ? 1.0 : 0.0\n",
    "    rz, rx = get_signal(rmz, fs), get_signal(rmx, fs)\n",
    "    # TODO change to the output of flow_nn\n",
    "    gs = sample_gains(context, Float64.(θ))\n",
    "    ha_out = gs[1] .* rz + gs[2] .* rx\n",
    "    # TODO: we can learn here as well. If the user provides a feedback to each proposal, we can feed this information back to our learning function.\n",
    "    WAV.wavwrite(ha_out, fs, \"sound/AIDA/planning/ha_out_$(gs[1])_$(gs[2])_\"*filename[findfirst(\"sp\", filename)[1]:end])\n",
    "end"
   ]
  }
 ],
 "metadata": {
  "kernelspec": {
   "display_name": "Julia 1.6.0",
   "language": "julia",
   "name": "julia-1.6"
  },
  "language_info": {
   "file_extension": ".jl",
   "mimetype": "application/julia",
   "name": "julia",
   "version": "1.6.0"
  }
 },
 "nbformat": 4,
 "nbformat_minor": 5
}
