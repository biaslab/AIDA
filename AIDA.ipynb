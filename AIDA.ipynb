{
 "cells": [
  {
   "cell_type": "markdown",
   "id": "ignored-blanket",
   "metadata": {},
   "source": [
    "# Active Inference Design Agent (demo)"
   ]
  },
  {
   "cell_type": "code",
   "execution_count": 36,
   "id": "sonic-abraham",
   "metadata": {},
   "outputs": [
    {
     "name": "stderr",
     "output_type": "stream",
     "text": [
      "┌ Info: Precompiling JLD [4138dd39-2aa7-5051-a626-17a0bb65d9c8]\n",
      "└ @ Base loading.jl:1317\n"
     ]
    }
   ],
   "source": [
    "using JLD\n",
    "using Revise\n",
    "using Rocket\n",
    "using ReactiveMP\n",
    "using GraphPPL\n",
    "using Distributions\n",
    "using LinearAlgebra\n",
    "import ProgressMeter\n",
    "using WAV\n",
    "using Plots"
   ]
  },
  {
   "cell_type": "code",
   "execution_count": 3,
   "id": "harmful-comfort",
   "metadata": {},
   "outputs": [
    {
     "data": {
      "text/plain": [
       "batch_coupled_learning (generic function with 1 method)"
      ]
     },
     "execution_count": 3,
     "metadata": {},
     "output_type": "execute_result"
    }
   ],
   "source": [
    "# include auxilary functions for data processing\n",
    "include(\"helpers/aida_segmentation.jl\")\n",
    "# include SNR quality metric\n",
    "include(\"helpers/aida_snr.jl\")\n",
    "# include SNR quality metric\n",
    "include(\"helpers/aida_ar.jl\")\n",
    "# include models and corresponding inference algos\n",
    "include(\"models_inferences.jl\")"
   ]
  },
  {
   "cell_type": "code",
   "execution_count": 4,
   "id": "subjective-powell",
   "metadata": {},
   "outputs": [
    {
     "data": {
      "text/plain": [
       "8000"
      ]
     },
     "execution_count": 4,
     "metadata": {},
     "output_type": "execute_result"
    }
   ],
   "source": [
    "fs = 8000"
   ]
  },
  {
   "cell_type": "markdown",
   "id": "equal-potato",
   "metadata": {},
   "source": [
    "In this demo we will work with two different contexts (environemtns): babble and train noises. \n",
    "\n",
    "You can think of a user who keeps wandering around a train station: sometimes train arrives and he/she hears the train noises. When there is no train arriving to the platform, the user hears the babble from people waiting for the train.\n",
    "When someone starts talking to the user he would (maybe) prefer to damp the environmental noise and focus only on the speaker.\n",
    "\n",
    "Another possible scenario you can think of is the user who steps out of the train and goes to the bar, where people produce babble noise :D "
   ]
  },
  {
   "cell_type": "markdown",
   "id": "floating-editing",
   "metadata": {},
   "source": [
    "## Let's obtain priors for the environment"
   ]
  },
  {
   "cell_type": "markdown",
   "id": "medical-spectrum",
   "metadata": {},
   "source": [
    "To make our model identifiabile, we would like to obtain priors for the environmental noises. To do this, we use Voice-Activity-Detection (VAD) to find the silent segments (with no speech). When those frames are identified, we fit them to AR model of order 2 to learn the parameters of AR.\n",
    "\n",
    "Surely, you can obtain the priors based on different logic. (to discuss (1) it doesn't have to be AR, (2) it doesn't have to be VAD)"
   ]
  },
  {
   "cell_type": "code",
   "execution_count": 5,
   "id": "economic-soundtrack",
   "metadata": {},
   "outputs": [
    {
     "data": {
      "text/plain": [
       "376"
      ]
     },
     "execution_count": 5,
     "metadata": {},
     "output_type": "execute_result"
    }
   ],
   "source": [
    "# Load sound from .wav\n",
    "babble, fs = wavread(\"sound/AIDA/training/sp01_babble_sn0.wav\")\n",
    "# split babble into overlapping segments (default 0.01s=10ms, 0.0025=2.5ms)\n",
    "bbl_seg = get_frames(babble, fs)\n",
    "# compute number of segments\n",
    "bbl_totseg = size(bbl_seg, 1)"
   ]
  },
  {
   "cell_type": "code",
   "execution_count": 6,
   "id": "signal-japanese",
   "metadata": {},
   "outputs": [
    {
     "data": {
      "text/plain": [
       "391"
      ]
     },
     "execution_count": 6,
     "metadata": {},
     "output_type": "execute_result"
    }
   ],
   "source": [
    "train, fs = wavread(\"sound/AIDA/training/sp11_train_sn0.wav\")\n",
    "tr_seg = get_frames(train, fs)\n",
    "tr_totseg = size(tr_seg, 1)"
   ]
  },
  {
   "cell_type": "code",
   "execution_count": 7,
   "id": "republican-spectacular",
   "metadata": {},
   "outputs": [],
   "source": [
    "# Priors for contexts were obtained through running VAD-AR block\n",
    "# prior for train noise\n",
    "trmη = [0.4132104755921993 -0.16961911841949667]\n",
    "trvη = [0.00972993440498344 -0.0027103005529199036; -0.0027103005529199036 0.004281987640515784]\n",
    "# trτ  = (41.0, 0.03644943410647206)\n",
    "trτ  = (41.0, 0.05)\n",
    "\n",
    "# prior for babble noise\n",
    "bblmη = [1.1192255902602752 -0.43086292293101314]\n",
    "bblvη = [0.007837790430663492 -0.005039080815241558; -0.005039080815241558 0.00596413119195013]\n",
    "# bblτ  = (41.0, 0.0029780512310493387);\n",
    "bblτ  = (41.0, 0.05);"
   ]
  },
  {
   "cell_type": "markdown",
   "id": "spread-albania",
   "metadata": {},
   "source": [
    "### VAD block\n",
    "You can skip this entire block if you used priors from the above cell."
   ]
  },
  {
   "cell_type": "code",
   "execution_count": 7,
   "id": "amazing-passenger",
   "metadata": {},
   "outputs": [
    {
     "data": {
      "text/plain": [
       "lar_inference_ex (generic function with 1 method)"
      ]
     },
     "execution_count": 7,
     "metadata": {},
     "output_type": "execute_result"
    }
   ],
   "source": [
    "include(\"models/everything.jl\")"
   ]
  },
  {
   "cell_type": "code",
   "execution_count": 8,
   "id": "fifteen-handle",
   "metadata": {},
   "outputs": [
    {
     "data": {
      "text/plain": [
       "ar_ssm (generic function with 1 method)"
      ]
     },
     "execution_count": 8,
     "metadata": {},
     "output_type": "execute_result"
    }
   ],
   "source": [
    "import WAV\n",
    "include(\"helpers/aida_segmentation.jl\")\n",
    "include(\"helpers/aida_ar.jl\")"
   ]
  },
  {
   "cell_type": "code",
   "execution_count": 9,
   "id": "solved-general",
   "metadata": {},
   "outputs": [
    {
     "data": {
      "text/plain": [
       "376"
      ]
     },
     "execution_count": 9,
     "metadata": {},
     "output_type": "execute_result"
    }
   ],
   "source": [
    "# Choose the auido signal from where you intend to extract the parameters\n",
    "context_seg = bbl_seg\n",
    "totseg = bbl_totseg\n",
    "# context_seg = tr_seg\n",
    "# totseg = tr_totseg"
   ]
  },
  {
   "cell_type": "code",
   "execution_count": 10,
   "id": "english-electricity",
   "metadata": {},
   "outputs": [],
   "source": [
    "ar_order = 10\n",
    "vmp_iter = 50\n",
    "fe_ar = zeros(totseg, vmp_iter)\n",
    "fe_gaussian = zeros(totseg, vmp_iter);"
   ]
  },
  {
   "cell_type": "code",
   "execution_count": 56,
   "id": "loved-potter",
   "metadata": {},
   "outputs": [
    {
     "name": "stderr",
     "output_type": "stream",
     "text": [
      "\u001b[32mProgress: 100%|█████████████████████████████████████████| Time: 0:08:47\u001b[39m\n"
     ]
    }
   ],
   "source": [
    "ProgressMeter.@showprogress for segnum in 1:totseg\n",
    "    inputs, outputs = ar_ssm(context_seg[segnum, :], ar_order)\n",
    "    γ, τ, θ, x, fe = lar_inference_ex(outputs, ar_order, vmp_iter)\n",
    "    mθ, vθ = mean(θ), cov(θ)\n",
    "    mγ = mean(γ)\n",
    "    fe_ar[segnum, :] = fe\n",
    "    \n",
    "    x, γ, fe = inference_gaussian(outputs, vmp_iter, 1e4)\n",
    "    mx, vx = mean(x), cov(x)\n",
    "    mγ = mean(γ)\n",
    "    fe_gaussian[segnum, :] = fe\n",
    "end"
   ]
  },
  {
   "cell_type": "code",
   "execution_count": 57,
   "id": "optical-correspondence",
   "metadata": {},
   "outputs": [],
   "source": [
    "# detect silent frames based on model comparison\n",
    "vad = [x[end] < y[end] for (x, y) in zip(eachrow(fe_ar), eachrow(fe_gaussian))];"
   ]
  },
  {
   "cell_type": "code",
   "execution_count": 58,
   "id": "capital-photographer",
   "metadata": {},
   "outputs": [],
   "source": [
    "rsegs = findall(isequal(1), vad)\n",
    "nsegs = findall(isequal(0), vad);"
   ]
  },
  {
   "cell_type": "code",
   "execution_count": 59,
   "id": "floating-norwegian",
   "metadata": {},
   "outputs": [
    {
     "data": {
      "text/plain": [
       "17.938993996124832"
      ]
     },
     "execution_count": 59,
     "metadata": {},
     "output_type": "execute_result"
    }
   ],
   "source": [
    "inv(var(sum([context_seg[nseg, :] for nseg in nsegs])))"
   ]
  },
  {
   "cell_type": "code",
   "execution_count": 60,
   "id": "protecting-cameroon",
   "metadata": {},
   "outputs": [
    {
     "name": "stderr",
     "output_type": "stream",
     "text": [
      "\u001b[32mProgress: 100%|█████████████████████████████████████████| Time: 0:00:06\u001b[39m\n"
     ]
    }
   ],
   "source": [
    "cmx, cvx, cmη, cvη, cτ = lar_batch_learning(hcat([context_seg[nseg, :] for nseg in nsegs]...)', 2, 10, 1e-12);"
   ]
  },
  {
   "cell_type": "code",
   "execution_count": 64,
   "id": "false-split",
   "metadata": {},
   "outputs": [
    {
     "name": "stdout",
     "output_type": "stream",
     "text": [
      "[1.1192255902602752 -0.43086292293101314], [0.007837790430663492 -0.005039080815241558; -0.005039080815241558 0.00596413119195013], , (41.0, 0.0029780512310493387)\n"
     ]
    }
   ],
   "source": [
    "println(\"$(mean(cmη, dims=1)), $(mean(cvη, dims=1)[1, :, :]), , $((cτ[end][1], cτ[end][2]))\")"
   ]
  },
  {
   "cell_type": "code",
   "execution_count": null,
   "id": "legitimate-infrastructure",
   "metadata": {},
   "outputs": [],
   "source": [
    "# Priors for contexts were obtained through running VAD block\n",
    "trmη = mean(cmη, dims=1)\n",
    "trvη = mean(cvη, dims=1)[1, :, :]\n",
    "trτ  = (cτ[end][1], cτ[end][2])\n",
    "\n",
    "# prior for babble noise\n",
    "bblmη = mean(cmη, dims=1)\n",
    "bblvη = mean(cvη, dims=1)[1, :, :]\n",
    "bblτ  = (cτ[end][1], cτ[end][2]);"
   ]
  },
  {
   "cell_type": "markdown",
   "id": "appreciated-habitat",
   "metadata": {},
   "source": [
    "## Source seperation\n",
    "When priors for the contexts are indentified, we can run noise reduction algorithm based on coupled AR: AR_speech + AR_envrionment = output. This algorithm seperates speech (**z**) and noise (**x**)\n",
    "\n",
    "We will split our dataset into training and test set. We use signals from training set to learn the mapping function between the gains proposed by agent and aprraisals provided by user. Bare in mind that this split is not necessary and in theory we can get along without it."
   ]
  },
  {
   "cell_type": "code",
   "execution_count": 11,
   "id": "textile-promise",
   "metadata": {},
   "outputs": [
    {
     "data": {
      "text/plain": [
       "prior_to_priors (generic function with 1 method)"
      ]
     },
     "execution_count": 11,
     "metadata": {},
     "output_type": "execute_result"
    }
   ],
   "source": [
    "# coupled AR model is deisgned to work with time-varying priors for both speech and environmental noise\n",
    "# prior_to_priors map \"static\" priors to the corresponding matrices with equal elements\n",
    "function prior_to_priors(mη, vη, τ, totseg)\n",
    "    ar_order = size(mη, 2)\n",
    "    rmη = zeros(totseg, ar_order)\n",
    "    rvη = zeros(totseg, ar_order, ar_order)\n",
    "    for segnum in 1:totseg\n",
    "        rmη[segnum, :], rvη[segnum, :, :] = reshape(mη, (ar_order,)), vη\n",
    "    end\n",
    "    priors_eta = rmη, rvη\n",
    "    priors_tau = [τ for _ in 1:totseg]\n",
    "    priors_eta[1], priors_eta[2], priors_tau\n",
    "end"
   ]
  },
  {
   "cell_type": "code",
   "execution_count": 12,
   "id": "tired-cowboy",
   "metadata": {},
   "outputs": [],
   "source": [
    "trmη_arr, trvη_arr, trτ_arr = prior_to_priors(trmη, trvη, trτ, tr_totseg)\n",
    "bblmη_arr, bblvη_arr, bblτ_arr = prior_to_priors(bblmη, bblvη, bblτ, bbl_totseg);"
   ]
  },
  {
   "cell_type": "code",
   "execution_count": 13,
   "id": "preceding-moses",
   "metadata": {},
   "outputs": [
    {
     "data": {
      "text/plain": [
       "HA_algorithm (generic function with 1 method)"
      ]
     },
     "execution_count": 13,
     "metadata": {},
     "output_type": "execute_result"
    }
   ],
   "source": [
    "function HA_algorithm(segments, priors_η, priors_τ, ar_1_order, ar_2_order, vmp_its)\n",
    "    \"\"\"Source seperation based on coupled AR model. Inference is performed in batch manner\n",
    "\n",
    "       segments: segmented audio signal\n",
    "       priors_η:   matrix of means and covariances of AR coefficients (see output formal of prior_to_priors\n",
    "       priors_τ:   array of tupes contatining the prior of environmental noise precision\n",
    "       ar_1_order: order of speech signal\n",
    "       ar_2_order: order of environmental noise signal\n",
    "       vmp_its:    number of variational iterations\n",
    "    \"\"\"\n",
    "    n_sources = 2\n",
    "    totseg = size(segments, 1)\n",
    "    l      = size(segments, 2) # dimensionality of the buffer\n",
    "    \n",
    "    rmx = zeros(totseg, l)\n",
    "    rvx = zeros(totseg, l)\n",
    "    rmθ = zeros(totseg, ar_1_order)\n",
    "    rvθ = zeros(totseg, ar_1_order, ar_1_order)\n",
    "    rγ = fill(tuple(.0, .0), totseg)\n",
    "    \n",
    "    rmz = zeros(totseg, l)\n",
    "    rvz = zeros(totseg, l)\n",
    "    rmη = zeros(totseg, ar_2_order)\n",
    "    rvη = zeros(totseg, ar_2_order, ar_2_order)\n",
    "    rτ = fill(tuple(.0, .0), totseg)\n",
    "    \n",
    "    fe  = zeros(totseg, vmp_its)\n",
    "    \n",
    "    rmo = zeros(totseg, l)\n",
    "    \n",
    "    # agent proposes gains according to its beliefs\n",
    "    ProgressMeter.@showprogress for segnum in 1:totseg\n",
    "        prior_η                           = (priors_η[1][segnum, :], priors_η[2][segnum, :, :])\n",
    "        prior_τ                           = priors_τ[segnum]\n",
    "        γ, θ, zs, τ, η, xs, fe[segnum, :] = coupled_inference(segments[segnum, :], prior_η, prior_τ, ar_1_order, ar_2_order, vmp_its)\n",
    "        mz, vz                            = mean.(zs), cov.(zs)\n",
    "        mθ, vθ                            = mean(θ), cov(θ)\n",
    "        rmz[segnum, :], rvz[segnum, :]    = first.(mz), first.(vz)\n",
    "        rmθ[segnum, :], rvθ[segnum, :, :] = mθ, vθ\n",
    "        rγ[segnum]                        = shape(γ), rate(γ)\n",
    "        \n",
    "        mx, vx                            = mean.(xs), cov.(xs)\n",
    "        mη, vη                            = mean(η), cov(η)\n",
    "        rmx[segnum, :], rvx[segnum, :]    = first.(mx), first.(vx)\n",
    "        rmη[segnum, :], rvη[segnum, :, :] = mη, vη\n",
    "        rτ[segnum]                        = shape(τ), rate(τ)\n",
    "        \n",
    "        # HA part\n",
    "        speech = rmz[segnum, :]\n",
    "        noise  = rmx[segnum, :]\n",
    "        rmo[segnum, :] = speech .+ noise\n",
    "    end\n",
    "    rmz, rvz, rmθ, rvθ, rγ, rmx, rvx, rmη, rvη, rτ, fe, rmo\n",
    "end"
   ]
  },
  {
   "cell_type": "markdown",
   "id": "surface-elevation",
   "metadata": {},
   "source": [
    "#### Obtain the outputs from HA"
   ]
  },
  {
   "cell_type": "code",
   "execution_count": 9,
   "id": "sufficient-thermal",
   "metadata": {},
   "outputs": [
    {
     "data": {
      "text/plain": [
       "get_sounds_fn (generic function with 1 method)"
      ]
     },
     "execution_count": 9,
     "metadata": {},
     "output_type": "execute_result"
    }
   ],
   "source": [
    "# return list of files from dir_name\n",
    "function get_sounds_fn(dir_name)\n",
    "    file_names = []\n",
    "    for (root, dirs, files) in walkdir(dir_name)\n",
    "        for file in files\n",
    "            push!(file_names, joinpath(root, file)) # path to files\n",
    "        end\n",
    "    end\n",
    "    file_names\n",
    "end"
   ]
  },
  {
   "cell_type": "code",
   "execution_count": 7,
   "id": "experienced-romantic",
   "metadata": {},
   "outputs": [],
   "source": [
    "training_files = get_sounds_fn(\"sound/AIDA/training/\");"
   ]
  },
  {
   "cell_type": "code",
   "execution_count": 8,
   "id": "flexible-glass",
   "metadata": {},
   "outputs": [
    {
     "name": "stdout",
     "output_type": "stream",
     "text": [
      "sound/AIDA/training/sp08_babble_sn0.wav\n"
     ]
    },
    {
     "data": {
      "text/plain": [
       "380×80 Matrix{Float64}:\n",
       "  0.0542314   0.0467544    0.00265511  …  -0.126011    -0.206244\n",
       "  0.033723    0.0573443    0.0773339      -0.0227058   -0.0657979\n",
       "  0.140538    0.106693     0.0360118       0.146092     0.0616169\n",
       "  0.0662252  -0.018128    -0.032075       -0.0811182    0.0431227\n",
       "  0.0480972   0.0445875    0.0498367      -0.0253609   -0.0185553\n",
       " -0.0292673  -0.0645466   -0.103793    …   0.14066      0.123875\n",
       " -0.0381481  -0.0107425    0.0104678       0.0936613    0.0746178\n",
       " -0.028077   -0.0843837   -0.0903348      -0.036256    -0.0307016\n",
       "  0.0492569   0.0639973    0.0399182       0.050264    -0.0648824\n",
       "  0.0670797   0.00317392   0.00521867      0.044496     0.0498978\n",
       " -0.101077   -0.0573138   -0.014069    …  -0.0697348   -0.0841395\n",
       "  0.0554827   0.0452589   -0.0309763       0.156255     0.0937223\n",
       " -0.0675069   0.0357677    0.0458998      -0.156713    -0.0555437\n",
       "  ⋮                                    ⋱               \n",
       "  0.0116581  -0.00210578  -0.0115665      -0.0350963   -0.0211493\n",
       " -0.0178533  -0.0216987   -0.0550859      -0.0550249   -0.0961638\n",
       "  0.0670492   0.0895108    0.0596026   …   0.0244758    0.0264901\n",
       " -0.0633869  -0.0693991   -0.0431227       0.032197     0.0103153\n",
       "  0.0513932   0.0548112    0.0653096      -0.00201422  -0.0256661\n",
       "  0.009064   -0.00671407  -0.00466933      0.0665609    0.028901\n",
       " -0.0514847   0.00173956   0.0195929      -0.0431532   -0.0391552\n",
       "  0.0169378  -0.00396741  -0.0189825   …   0.0251473   -0.0334788\n",
       " -0.0783105  -0.120151    -0.0912198       0.0107425   -0.0112003\n",
       " -0.0747703  -0.0825526   -0.0419324       0.0646992    0.10184\n",
       "  0.0134587   0.0128178    0.0318918       0.0203558    0.0274667\n",
       " -0.0343638  -0.0481277   -0.0563677       0.0          0.0"
      ]
     },
     "execution_count": 8,
     "metadata": {},
     "output_type": "execute_result"
    }
   ],
   "source": [
    "# Check for how the data is organized\n",
    "training_file = training_files[8]\n",
    "println(training_file)\n",
    "speech, fs = WAV.wavread(training_file)\n",
    "speech_seg = get_frames(speech, fs)"
   ]
  },
  {
   "cell_type": "markdown",
   "id": "experienced-training",
   "metadata": {},
   "source": [
    "At this stage we run our inference algorithm to seperate **z** and **x**. We write the output into *.jld* files.\n",
    "\n",
    "You don't need to run this snippet if you haven't changed the default parameters of HA_algorithm and priors (just see *sound/AIDA/separated_jld/training/*)"
   ]
  },
  {
   "cell_type": "code",
   "execution_count": 312,
   "id": "altered-consensus",
   "metadata": {},
   "outputs": [
    {
     "name": "stdout",
     "output_type": "stream",
     "text": [
      "sound/AIDA/training/sp08_babble_sn0.wav\n"
     ]
    },
    {
     "name": "stderr",
     "output_type": "stream",
     "text": [
      "\u001b[32mProgress: 100%|█████████████████████████████████████████| Time: 0:03:39\u001b[39m\n"
     ]
    },
    {
     "name": "stdout",
     "output_type": "stream",
     "text": [
      "sound/AIDA/training/sp09_babble_sn0.wav\n"
     ]
    },
    {
     "name": "stderr",
     "output_type": "stream",
     "text": [
      "\u001b[32mProgress: 100%|█████████████████████████████████████████| Time: 0:03:46\u001b[39m\n"
     ]
    },
    {
     "name": "stdout",
     "output_type": "stream",
     "text": [
      "sound/AIDA/training/sp10_babble_sn0.wav\n"
     ]
    },
    {
     "name": "stderr",
     "output_type": "stream",
     "text": [
      "\u001b[32mProgress: 100%|█████████████████████████████████████████| Time: 0:03:20\u001b[39m\n"
     ]
    },
    {
     "name": "stdout",
     "output_type": "stream",
     "text": [
      "sound/AIDA/training/sp11_train_sn0.wav\n"
     ]
    },
    {
     "name": "stderr",
     "output_type": "stream",
     "text": [
      "\u001b[32mProgress: 100%|█████████████████████████████████████████| Time: 0:03:39\u001b[39m\n"
     ]
    },
    {
     "name": "stdout",
     "output_type": "stream",
     "text": [
      "sound/AIDA/training/sp12_train_sn0.wav\n"
     ]
    },
    {
     "name": "stderr",
     "output_type": "stream",
     "text": [
      "\u001b[32mProgress: 100%|█████████████████████████████████████████| Time: 0:03:26\u001b[39m\n"
     ]
    },
    {
     "name": "stdout",
     "output_type": "stream",
     "text": [
      "sound/AIDA/training/sp13_train_sn0.wav\n"
     ]
    },
    {
     "name": "stderr",
     "output_type": "stream",
     "text": [
      "\u001b[32mProgress: 100%|█████████████████████████████████████████| Time: 0:03:10\u001b[39m\n"
     ]
    },
    {
     "name": "stdout",
     "output_type": "stream",
     "text": [
      "sound/AIDA/training/sp14_train_sn0.wav\n"
     ]
    },
    {
     "name": "stderr",
     "output_type": "stream",
     "text": [
      "\u001b[32mProgress: 100%|█████████████████████████████████████████| Time: 0:03:39\u001b[39m\n"
     ]
    },
    {
     "name": "stdout",
     "output_type": "stream",
     "text": [
      "sound/AIDA/training/sp15_train_sn0.wav\n"
     ]
    },
    {
     "name": "stderr",
     "output_type": "stream",
     "text": [
      "\u001b[32mProgress: 100%|█████████████████████████████████████████| Time: 0:03:41\u001b[39m\n"
     ]
    },
    {
     "name": "stdout",
     "output_type": "stream",
     "text": [
      "sound/AIDA/training/sp16_train_sn0.wav\n"
     ]
    },
    {
     "name": "stderr",
     "output_type": "stream",
     "text": [
      "\u001b[32mProgress: 100%|█████████████████████████████████████████| Time: 0:02:54\u001b[39m\n"
     ]
    },
    {
     "name": "stdout",
     "output_type": "stream",
     "text": [
      "sound/AIDA/training/sp17_train_sn0.wav\n"
     ]
    },
    {
     "name": "stderr",
     "output_type": "stream",
     "text": [
      "\u001b[32mProgress: 100%|█████████████████████████████████████████| Time: 0:03:00\u001b[39m\n"
     ]
    },
    {
     "name": "stdout",
     "output_type": "stream",
     "text": [
      "sound/AIDA/training/sp18_train_sn0.wav\n"
     ]
    },
    {
     "name": "stderr",
     "output_type": "stream",
     "text": [
      "\u001b[32mProgress: 100%|█████████████████████████████████████████| Time: 0:02:51\u001b[39m\n"
     ]
    },
    {
     "name": "stdout",
     "output_type": "stream",
     "text": [
      "sound/AIDA/training/sp19_train_sn0.wav\n"
     ]
    },
    {
     "name": "stderr",
     "output_type": "stream",
     "text": [
      "\u001b[32mProgress: 100%|█████████████████████████████████████████| Time: 0:03:20\u001b[39m\n"
     ]
    },
    {
     "name": "stdout",
     "output_type": "stream",
     "text": [
      "sound/AIDA/training/sp20_train_sn0.wav\n"
     ]
    },
    {
     "name": "stderr",
     "output_type": "stream",
     "text": [
      "\u001b[32mProgress: 100%|█████████████████████████████████████████| Time: 0:03:14\u001b[39m\n"
     ]
    }
   ],
   "source": [
    "# r for recovered\n",
    "for training_file in training_files\n",
    "    println(training_file)\n",
    "    speech, fs = WAV.wavread(training_file)\n",
    "    speech_seg = get_frames(speech, fs)\n",
    "    # choose priors\n",
    "    priors_eta = occursin(\"babble\", training_file) ? (bblmη_arr, bblvη_arr) : (trmη_arr, trvη_arr)\n",
    "    priors_tau = occursin(\"babble\", training_file) ? bblτ_arr : trτ_arr\n",
    "    # make sure that 1D of priors and speech_seg are equal\n",
    "    if size(priors_eta, 1) != size(speech_seg, 1)\n",
    "        totseg = size(speech_seg, 1)\n",
    "        priors_eta_m, priors_eta_v, priors_tau = prior_to_priors(priors_eta[1][1, :]', priors_eta[2][1, :, :], priors_tau[1], totseg)\n",
    "        priors_eta = priors_eta_m, priors_eta_v\n",
    "    end\n",
    "    rmz, rvz, rmθ, rvθ, rγ, rmx, rvx, rmη, rvη, rτ, fe, rmo = HA_algorithm(speech_seg, priors_eta, priors_tau, 10, 2, 10);\n",
    "    \n",
    "    JLD.save(\"sound/AIDA/separated_jld/training/\"*training_file[findfirst(\"sp\", training_file)[1]:end][1:end-3]*\"jld\",\n",
    "         \"rmz\", rmz, \"rvz\", rvz, \"rmθ\", rmθ, \"rvθ\", rvθ, \"rγ\", rγ, \n",
    "         \"rmx\", rmx, \"rvx\", rvx, \"rmη\", rmη, \"rvη\", rvη, \"rτ\", rτ,\n",
    "         \"fe\", fe, \"rmo\", rmo, \"filename\", training_file,\n",
    "         \"audio\", speech)\n",
    "end"
   ]
  },
  {
   "cell_type": "markdown",
   "id": "organizational-salmon",
   "metadata": {},
   "source": [
    "### Preference learning stage"
   ]
  },
  {
   "cell_type": "markdown",
   "id": "frank-found",
   "metadata": {},
   "source": [
    "#### Generate outputs of HA from JLD files"
   ]
  },
  {
   "cell_type": "code",
   "execution_count": 33,
   "id": "original-fashion",
   "metadata": {},
   "outputs": [],
   "source": [
    "# obtain saved jld files containing inference result\n",
    "training_jlds = get_sounds_fn(\"sound/AIDA/separated_jld/training/\");"
   ]
  },
  {
   "cell_type": "code",
   "execution_count": 34,
   "id": "departmental-privacy",
   "metadata": {},
   "outputs": [],
   "source": [
    "# initialize gains that agent randomly assigns to the outputs of HA\n",
    "agent_gains = [[2.0, 1.0], [1.0, 0.0], [0.5, 0.5], [0.9, 0.3], [2.5, 1.0]];"
   ]
  },
  {
   "cell_type": "code",
   "execution_count": 35,
   "id": "flush-madison",
   "metadata": {},
   "outputs": [
    {
     "ename": "LoadError",
     "evalue": "UndefVarError: JLD not defined",
     "output_type": "error",
     "traceback": [
      "UndefVarError: JLD not defined",
      "",
      "Stacktrace:",
      " [1] top-level scope",
      "   @ ./In[35]:4",
      " [2] eval",
      "   @ ./boot.jl:360 [inlined]",
      " [3] include_string(mapexpr::typeof(REPL.softscope), mod::Module, code::String, filename::String)",
      "   @ Base ./loading.jl:1094"
     ]
    }
   ],
   "source": [
    "# this snippet generates new ha outputs\n",
    "for training_jld in training_jlds\n",
    "    # read file\n",
    "    d = JLD.load(training_jld)\n",
    "    filename = d[\"filename\"]\n",
    "    # extract speech\n",
    "    rmz, rmx = d[\"rmz\"], d[\"rmx\"]\n",
    "    # extract noise\n",
    "    rz, rx = get_signal(rmz, fs), get_signal(rmx, fs)\n",
    "    # pick weights \n",
    "    whgs = rand(agent_gains) # can be changed to a smarter function\n",
    "    # create output\n",
    "    ha_out = whgs[1] .* rz + whgs[2] .* rx\n",
    "    # write wav file\n",
    "    WAV.wavwrite(ha_out, fs, \"sound/AIDA/preference_learning/ha_out_$(whgs[1])_$(whgs[2])_\"*filename[findfirst(\"sp\", filename)[1]:end])\n",
    "end"
   ]
  },
  {
   "cell_type": "markdown",
   "id": "embedded-algorithm",
   "metadata": {},
   "source": [
    "#### Create pairs (gains, context) <-> appraisals"
   ]
  },
  {
   "cell_type": "code",
   "execution_count": 68,
   "id": "great-travel",
   "metadata": {},
   "outputs": [],
   "source": [
    "# Recorded gains and appraisals \n",
    "# If you want to generate new pairs, please procceed with listening\n",
    "gains = [[0.5, 0.5], [0.9, 0.3], [0.9, 0.3], [0.9, 0.3], [0.9, 0.3], [0.9, 0.3], [0.9, 0.3], [0.9, 0.3], [0.9, 0.3], [0.9, 0.3], [1.0, 0.0], [1.0, 0.0], [1.0, 0.0], [1.0, 0.0], [1.0, 0.0], [2.0, 1.0], [2.0, 1.0], [2.5, 1.0], [2.5, 1.0], [2.5, 1.0]]\n",
    "appraisals = [0.0, 0.0, 0.0, 0.0, 0.0, 0.0, 0.0, 0.0, 0.0, 1.0, 1.0, 0.0, 1.0, 1.0, 1.0, 1.0, 0.0, 1.0, 0.0, 0.0]\n",
    "contexts = [1.0, 1.0, 1.0, 1.0, 1.0, 0.0, 0.0, 0.0, 0.0, 0.0, 1.0, 1.0, 1.0, 0.0, 0.0, 0.0, 0.0, 1.0, 1.0, 0.0];"
   ]
  },
  {
   "cell_type": "code",
   "execution_count": 37,
   "id": "pleasant-commodity",
   "metadata": {},
   "outputs": [],
   "source": [
    "prl_files = get_sounds_fn(\"sound/AIDA/preference_learning/\");"
   ]
  },
  {
   "cell_type": "markdown",
   "id": "communist-paintball",
   "metadata": {},
   "source": [
    "#### Listening"
   ]
  },
  {
   "cell_type": "markdown",
   "id": "exceptional-smoke",
   "metadata": {},
   "source": [
    "User gets to listen new audio samples with proposed gains. After each listening he/she evaluates the performance of HA output by binary feedback."
   ]
  },
  {
   "cell_type": "code",
   "execution_count": 38,
   "id": "martial-wholesale",
   "metadata": {},
   "outputs": [
    {
     "name": "stdout",
     "output_type": "stream",
     "text": [
      "How's HA output 1, 0 ?\n"
     ]
    },
    {
     "name": "stdin",
     "output_type": "stream",
     "text": [
      "stdin>  1\n"
     ]
    },
    {
     "name": "stdout",
     "output_type": "stream",
     "text": [
      "How's HA output 1, 0 ?\n"
     ]
    },
    {
     "name": "stdin",
     "output_type": "stream",
     "text": [
      "stdin>  0\n"
     ]
    },
    {
     "name": "stdout",
     "output_type": "stream",
     "text": [
      "How's HA output 1, 0 ?\n"
     ]
    },
    {
     "name": "stdin",
     "output_type": "stream",
     "text": [
      "stdin>  0\n"
     ]
    },
    {
     "name": "stdout",
     "output_type": "stream",
     "text": [
      "How's HA output 1, 0 ?\n"
     ]
    },
    {
     "name": "stdin",
     "output_type": "stream",
     "text": [
      "stdin>  0\n"
     ]
    },
    {
     "name": "stdout",
     "output_type": "stream",
     "text": [
      "How's HA output 1, 0 ?\n"
     ]
    },
    {
     "name": "stdin",
     "output_type": "stream",
     "text": [
      "stdin>  1\n"
     ]
    },
    {
     "name": "stdout",
     "output_type": "stream",
     "text": [
      "How's HA output 1, 0 ?\n"
     ]
    },
    {
     "name": "stdin",
     "output_type": "stream",
     "text": [
      "stdin>  0\n"
     ]
    },
    {
     "name": "stdout",
     "output_type": "stream",
     "text": [
      "How's HA output 1, 0 ?\n"
     ]
    },
    {
     "name": "stdin",
     "output_type": "stream",
     "text": [
      "stdin>  1\n"
     ]
    },
    {
     "name": "stdout",
     "output_type": "stream",
     "text": [
      "How's HA output 1, 0 ?\n"
     ]
    },
    {
     "name": "stdin",
     "output_type": "stream",
     "text": [
      "stdin>  1\n"
     ]
    },
    {
     "name": "stdout",
     "output_type": "stream",
     "text": [
      "How's HA output 1, 0 ?\n"
     ]
    },
    {
     "name": "stdin",
     "output_type": "stream",
     "text": [
      "stdin>  0\n"
     ]
    },
    {
     "name": "stdout",
     "output_type": "stream",
     "text": [
      "How's HA output 1, 0 ?\n"
     ]
    },
    {
     "name": "stdin",
     "output_type": "stream",
     "text": [
      "stdin>  1\n"
     ]
    },
    {
     "name": "stdout",
     "output_type": "stream",
     "text": [
      "How's HA output 1, 0 ?\n"
     ]
    },
    {
     "name": "stdin",
     "output_type": "stream",
     "text": [
      "stdin>  1\n"
     ]
    },
    {
     "name": "stdout",
     "output_type": "stream",
     "text": [
      "How's HA output 1, 0 ?\n"
     ]
    },
    {
     "name": "stdin",
     "output_type": "stream",
     "text": [
      "stdin>  0\n"
     ]
    },
    {
     "name": "stdout",
     "output_type": "stream",
     "text": [
      "How's HA output 1, 0 ?\n"
     ]
    },
    {
     "name": "stdin",
     "output_type": "stream",
     "text": [
      "stdin>  0\n"
     ]
    },
    {
     "name": "stdout",
     "output_type": "stream",
     "text": [
      "How's HA output 1, 0 ?\n"
     ]
    },
    {
     "name": "stdin",
     "output_type": "stream",
     "text": [
      "stdin>  1\n"
     ]
    },
    {
     "name": "stdout",
     "output_type": "stream",
     "text": [
      "How's HA output 1, 0 ?\n"
     ]
    },
    {
     "name": "stdin",
     "output_type": "stream",
     "text": [
      "stdin>  1\n"
     ]
    },
    {
     "name": "stdout",
     "output_type": "stream",
     "text": [
      "How's HA output 1, 0 ?\n"
     ]
    },
    {
     "name": "stdin",
     "output_type": "stream",
     "text": [
      "stdin>  0\n"
     ]
    },
    {
     "name": "stdout",
     "output_type": "stream",
     "text": [
      "How's HA output 1, 0 ?\n"
     ]
    },
    {
     "name": "stdin",
     "output_type": "stream",
     "text": [
      "stdin>  0\n"
     ]
    },
    {
     "name": "stdout",
     "output_type": "stream",
     "text": [
      "How's HA output 1, 0 ?\n"
     ]
    },
    {
     "name": "stdin",
     "output_type": "stream",
     "text": [
      "stdin>  0\n"
     ]
    },
    {
     "name": "stdout",
     "output_type": "stream",
     "text": [
      "How's HA output 1, 0 ?\n"
     ]
    },
    {
     "name": "stdin",
     "output_type": "stream",
     "text": [
      "stdin>  1\n"
     ]
    },
    {
     "name": "stdout",
     "output_type": "stream",
     "text": [
      "How's HA output 1, 0 ?\n"
     ]
    },
    {
     "name": "stdin",
     "output_type": "stream",
     "text": [
      "stdin>  0\n"
     ]
    }
   ],
   "source": [
    "# This snippet creates interactive loop where user can like/dislike hearing aid output\n",
    "nnum = 8 # prefix for gains\n",
    "appraisals = []\n",
    "gains = []\n",
    "contexts = []\n",
    "for prl_file in prl_files\n",
    "    \n",
    "    if !occursin(\"wav\", prl_file)\n",
    "        continue\n",
    "    end\n",
    "    WAV.wavplay(prl_file)\n",
    "    println(\"How's HA output 1, 0 ?\")\n",
    "    appraisal = readline()\n",
    "    push!(appraisals, parse(Float64, appraisal))\n",
    "    \n",
    "    # extract gains routine\n",
    "    pref_id = findfirst(\"out_\", prl_file)[end]\n",
    "    gains_str = prl_file[pref_id+1:pref_id+nnum-1]\n",
    "    push!(gains, parse.(Float64, split(gains_str, \"_\")))\n",
    "    \n",
    "    # extract context routine\n",
    "    push!(contexts, occursin(\"babble\", prl_file) ? 1.0 : 0.0)\n",
    "end"
   ]
  },
  {
   "cell_type": "code",
   "execution_count": 143,
   "id": "threaded-elite",
   "metadata": {},
   "outputs": [
    {
     "name": "stdout",
     "output_type": "stream",
     "text": [
      "[[0.5, 0.5], [0.9, 0.3], [0.9, 0.3], [0.9, 0.3], [0.9, 0.3], [0.9, 0.3], [0.9, 0.3], [0.9, 0.3], [0.9, 0.3], [0.9, 0.3], [1.0, 0.0], [1.0, 0.0], [1.0, 0.0], [1.0, 0.0], [1.0, 0.0], [2.0, 1.0], [2.0, 1.0], [2.5, 1.0], [2.5, 1.0], [2.5, 1.0]]\n",
      "[0.0, 0.0, 0.0, 0.0, 0.0, 0.0, 0.0, 0.0, 0.0, 1.0, 1.0, 0.0, 1.0, 1.0, 1.0, 1.0, 0.0, 1.0, 0.0, 0.0]\n",
      "[1.0, 1.0, 1.0, 1.0, 1.0, 0.0, 0.0, 0.0, 0.0, 0.0, 1.0, 1.0, 1.0, 0.0, 0.0, 0.0, 0.0, 1.0, 1.0, 0.0]\n"
     ]
    }
   ],
   "source": [
    "println(gains)\n",
    "println(appraisals)\n",
    "println(contexts)"
   ]
  },
  {
   "cell_type": "code",
   "execution_count": 40,
   "id": "sitting-genealogy",
   "metadata": {},
   "outputs": [
    {
     "data": {
      "text/plain": [
       "inference_flow_classifier (generic function with 1 method)"
      ]
     },
     "execution_count": 40,
     "metadata": {},
     "output_type": "execute_result"
    }
   ],
   "source": [
    "# normalizing flows agent\n",
    "include(\"agent/agent_Bart/flow_agent.jl\")"
   ]
  },
  {
   "cell_type": "code",
   "execution_count": 49,
   "id": "imposed-reputation",
   "metadata": {},
   "outputs": [
    {
     "data": {
      "text/plain": [
       "60-element Vector{Any}:\n",
       " 1.0\n",
       " 0.0\n",
       " 0.0\n",
       " 0.0\n",
       " 1.0\n",
       " 0.0\n",
       " 1.0\n",
       " 1.0\n",
       " 0.0\n",
       " 1.0\n",
       " 1.0\n",
       " 0.0\n",
       " 0.0\n",
       " ⋮\n",
       " 0.0\n",
       " 1.0\n",
       " 1.0\n",
       " 0.0\n",
       " 0.0\n",
       " 1.0\n",
       " 1.0\n",
       " 0.0\n",
       " 0.0\n",
       " 0.0\n",
       " 1.0\n",
       " 0.0"
      ]
     },
     "execution_count": 49,
     "metadata": {},
     "output_type": "execute_result"
    }
   ],
   "source": [
    "# augmentation of the dataset with copies\n",
    "n_gains = vcat(hcat(gains...)', hcat(gains...)', hcat(gains...)')\n",
    "n_appraisals = vcat(appraisals, appraisals, appraisals)"
   ]
  },
  {
   "cell_type": "code",
   "execution_count": 167,
   "id": "documented-youth",
   "metadata": {},
   "outputs": [
    {
     "data": {
      "text/plain": [
       "60×2 Matrix{Float64}:\n",
       " 0.535564   0.507377\n",
       " 0.887775   0.310797\n",
       " 0.933013   0.305188\n",
       " 0.867606   0.316981\n",
       " 0.893119   0.306771\n",
       " 0.847986   0.303444\n",
       " 0.849208   0.286668\n",
       " 0.900703   0.343049\n",
       " 0.876972   0.280064\n",
       " 0.921609   0.291313\n",
       " 0.999054   0.00969698\n",
       " 1.00708   -0.0340945\n",
       " 0.988574  -0.011882\n",
       " ⋮         \n",
       " 0.88706    0.269997\n",
       " 0.862251   0.289718\n",
       " 1.00992   -0.00756387\n",
       " 1.02372    0.0403913\n",
       " 1.02346    0.0126125\n",
       " 0.979192   0.0371735\n",
       " 1.06088   -0.0501518\n",
       " 1.9875     0.99723\n",
       " 1.99637    0.989613\n",
       " 2.47845    0.979726\n",
       " 2.47743    1.03465\n",
       " 2.49691    0.963343"
      ]
     },
     "execution_count": 167,
     "metadata": {},
     "output_type": "execute_result"
    }
   ],
   "source": [
    "# augmentation of the dataset with copies\n",
    "data_y = n_appraisals\n",
    "m_gains = n_gains .+ sqrt(1e-3)*randn(size(n_gains))\n",
    "data_x = m_gains"
   ]
  },
  {
   "cell_type": "code",
   "execution_count": 168,
   "id": "defined-crash",
   "metadata": {},
   "outputs": [
    {
     "data": {
      "image/svg+xml": [
       "<?xml version=\"1.0\" encoding=\"utf-8\"?>\n",
       "<svg xmlns=\"http://www.w3.org/2000/svg\" xmlns:xlink=\"http://www.w3.org/1999/xlink\" width=\"600\" height=\"400\" viewBox=\"0 0 2400 1600\">\n",
       "<defs>\n",
       "  <clipPath id=\"clip490\">\n",
       "    <rect x=\"0\" y=\"0\" width=\"2400\" height=\"1600\"/>\n",
       "  </clipPath>\n",
       "</defs>\n",
       "<path clip-path=\"url(#clip490)\" d=\"\n",
       "M0 1600 L2400 1600 L2400 0 L0 0  Z\n",
       "  \" fill=\"#ffffff\" fill-rule=\"evenodd\" fill-opacity=\"1\"/>\n",
       "<defs>\n",
       "  <clipPath id=\"clip491\">\n",
       "    <rect x=\"480\" y=\"0\" width=\"1681\" height=\"1600\"/>\n",
       "  </clipPath>\n",
       "</defs>\n",
       "<path clip-path=\"url(#clip490)\" d=\"\n",
       "M249.542 1423.18 L2352.76 1423.18 L2352.76 47.2441 L249.542 47.2441  Z\n",
       "  \" fill=\"#ffffff\" fill-rule=\"evenodd\" fill-opacity=\"1\"/>\n",
       "<defs>\n",
       "  <clipPath id=\"clip492\">\n",
       "    <rect x=\"249\" y=\"47\" width=\"2104\" height=\"1377\"/>\n",
       "  </clipPath>\n",
       "</defs>\n",
       "<polyline clip-path=\"url(#clip492)\" style=\"stroke:#000000; stroke-linecap:butt; stroke-linejoin:round; stroke-width:2; stroke-opacity:0.1; fill:none\" points=\"\n",
       "  345.497,1423.18 345.497,47.2441 \n",
       "  \"/>\n",
       "<polyline clip-path=\"url(#clip492)\" style=\"stroke:#000000; stroke-linecap:butt; stroke-linejoin:round; stroke-width:2; stroke-opacity:0.1; fill:none\" points=\"\n",
       "  819.475,1423.18 819.475,47.2441 \n",
       "  \"/>\n",
       "<polyline clip-path=\"url(#clip492)\" style=\"stroke:#000000; stroke-linecap:butt; stroke-linejoin:round; stroke-width:2; stroke-opacity:0.1; fill:none\" points=\"\n",
       "  1293.45,1423.18 1293.45,47.2441 \n",
       "  \"/>\n",
       "<polyline clip-path=\"url(#clip492)\" style=\"stroke:#000000; stroke-linecap:butt; stroke-linejoin:round; stroke-width:2; stroke-opacity:0.1; fill:none\" points=\"\n",
       "  1767.43,1423.18 1767.43,47.2441 \n",
       "  \"/>\n",
       "<polyline clip-path=\"url(#clip492)\" style=\"stroke:#000000; stroke-linecap:butt; stroke-linejoin:round; stroke-width:2; stroke-opacity:0.1; fill:none\" points=\"\n",
       "  2241.41,1423.18 2241.41,47.2441 \n",
       "  \"/>\n",
       "<polyline clip-path=\"url(#clip490)\" style=\"stroke:#000000; stroke-linecap:butt; stroke-linejoin:round; stroke-width:4; stroke-opacity:1; fill:none\" points=\"\n",
       "  249.542,1423.18 2352.76,1423.18 \n",
       "  \"/>\n",
       "<polyline clip-path=\"url(#clip490)\" style=\"stroke:#000000; stroke-linecap:butt; stroke-linejoin:round; stroke-width:4; stroke-opacity:1; fill:none\" points=\"\n",
       "  345.497,1423.18 345.497,1404.28 \n",
       "  \"/>\n",
       "<polyline clip-path=\"url(#clip490)\" style=\"stroke:#000000; stroke-linecap:butt; stroke-linejoin:round; stroke-width:4; stroke-opacity:1; fill:none\" points=\"\n",
       "  819.475,1423.18 819.475,1404.28 \n",
       "  \"/>\n",
       "<polyline clip-path=\"url(#clip490)\" style=\"stroke:#000000; stroke-linecap:butt; stroke-linejoin:round; stroke-width:4; stroke-opacity:1; fill:none\" points=\"\n",
       "  1293.45,1423.18 1293.45,1404.28 \n",
       "  \"/>\n",
       "<polyline clip-path=\"url(#clip490)\" style=\"stroke:#000000; stroke-linecap:butt; stroke-linejoin:round; stroke-width:4; stroke-opacity:1; fill:none\" points=\"\n",
       "  1767.43,1423.18 1767.43,1404.28 \n",
       "  \"/>\n",
       "<polyline clip-path=\"url(#clip490)\" style=\"stroke:#000000; stroke-linecap:butt; stroke-linejoin:round; stroke-width:4; stroke-opacity:1; fill:none\" points=\"\n",
       "  2241.41,1423.18 2241.41,1404.28 \n",
       "  \"/>\n",
       "<path clip-path=\"url(#clip490)\" d=\"M323.379 1452.37 Q319.768 1452.37 317.939 1455.94 Q316.134 1459.48 316.134 1466.61 Q316.134 1473.71 317.939 1477.28 Q319.768 1480.82 323.379 1480.82 Q327.013 1480.82 328.819 1477.28 Q330.647 1473.71 330.647 1466.61 Q330.647 1459.48 328.819 1455.94 Q327.013 1452.37 323.379 1452.37 M323.379 1448.67 Q329.189 1448.67 332.245 1453.27 Q335.323 1457.86 335.323 1466.61 Q335.323 1475.33 332.245 1479.94 Q329.189 1484.52 323.379 1484.52 Q317.569 1484.52 314.49 1479.94 Q311.435 1475.33 311.435 1466.61 Q311.435 1457.86 314.49 1453.27 Q317.569 1448.67 323.379 1448.67 Z\" fill=\"#000000\" fill-rule=\"evenodd\" fill-opacity=\"1\" /><path clip-path=\"url(#clip490)\" d=\"M343.541 1477.97 L348.425 1477.97 L348.425 1483.85 L343.541 1483.85 L343.541 1477.97 Z\" fill=\"#000000\" fill-rule=\"evenodd\" fill-opacity=\"1\" /><path clip-path=\"url(#clip490)\" d=\"M358.657 1449.29 L377.013 1449.29 L377.013 1453.23 L362.939 1453.23 L362.939 1461.7 Q363.957 1461.35 364.976 1461.19 Q365.995 1461 367.013 1461 Q372.8 1461 376.18 1464.18 Q379.559 1467.35 379.559 1472.76 Q379.559 1478.34 376.087 1481.44 Q372.615 1484.52 366.295 1484.52 Q364.12 1484.52 361.851 1484.15 Q359.606 1483.78 357.198 1483.04 L357.198 1478.34 Q359.282 1479.48 361.504 1480.03 Q363.726 1480.59 366.203 1480.59 Q370.207 1480.59 372.545 1478.48 Q374.883 1476.38 374.883 1472.76 Q374.883 1469.15 372.545 1467.05 Q370.207 1464.94 366.203 1464.94 Q364.328 1464.94 362.453 1465.36 Q360.601 1465.77 358.657 1466.65 L358.657 1449.29 Z\" fill=\"#000000\" fill-rule=\"evenodd\" fill-opacity=\"1\" /><path clip-path=\"url(#clip490)\" d=\"M786.628 1479.92 L794.267 1479.92 L794.267 1453.55 L785.957 1455.22 L785.957 1450.96 L794.221 1449.29 L798.897 1449.29 L798.897 1479.92 L806.536 1479.92 L806.536 1483.85 L786.628 1483.85 L786.628 1479.92 Z\" fill=\"#000000\" fill-rule=\"evenodd\" fill-opacity=\"1\" /><path clip-path=\"url(#clip490)\" d=\"M815.98 1477.97 L820.864 1477.97 L820.864 1483.85 L815.98 1483.85 L815.98 1477.97 Z\" fill=\"#000000\" fill-rule=\"evenodd\" fill-opacity=\"1\" /><path clip-path=\"url(#clip490)\" d=\"M841.049 1452.37 Q837.438 1452.37 835.61 1455.94 Q833.804 1459.48 833.804 1466.61 Q833.804 1473.71 835.61 1477.28 Q837.438 1480.82 841.049 1480.82 Q844.684 1480.82 846.489 1477.28 Q848.318 1473.71 848.318 1466.61 Q848.318 1459.48 846.489 1455.94 Q844.684 1452.37 841.049 1452.37 M841.049 1448.67 Q846.86 1448.67 849.915 1453.27 Q852.994 1457.86 852.994 1466.61 Q852.994 1475.33 849.915 1479.94 Q846.86 1484.52 841.049 1484.52 Q835.239 1484.52 832.161 1479.94 Q829.105 1475.33 829.105 1466.61 Q829.105 1457.86 832.161 1453.27 Q835.239 1448.67 841.049 1448.67 Z\" fill=\"#000000\" fill-rule=\"evenodd\" fill-opacity=\"1\" /><path clip-path=\"url(#clip490)\" d=\"M1261.1 1479.92 L1268.74 1479.92 L1268.74 1453.55 L1260.43 1455.22 L1260.43 1450.96 L1268.7 1449.29 L1273.37 1449.29 L1273.37 1479.92 L1281.01 1479.92 L1281.01 1483.85 L1261.1 1483.85 L1261.1 1479.92 Z\" fill=\"#000000\" fill-rule=\"evenodd\" fill-opacity=\"1\" /><path clip-path=\"url(#clip490)\" d=\"M1290.46 1477.97 L1295.34 1477.97 L1295.34 1483.85 L1290.46 1483.85 L1290.46 1477.97 Z\" fill=\"#000000\" fill-rule=\"evenodd\" fill-opacity=\"1\" /><path clip-path=\"url(#clip490)\" d=\"M1305.57 1449.29 L1323.93 1449.29 L1323.93 1453.23 L1309.85 1453.23 L1309.85 1461.7 Q1310.87 1461.35 1311.89 1461.19 Q1312.91 1461 1313.93 1461 Q1319.72 1461 1323.1 1464.18 Q1326.47 1467.35 1326.47 1472.76 Q1326.47 1478.34 1323 1481.44 Q1319.53 1484.52 1313.21 1484.52 Q1311.03 1484.52 1308.77 1484.15 Q1306.52 1483.78 1304.11 1483.04 L1304.11 1478.34 Q1306.2 1479.48 1308.42 1480.03 Q1310.64 1480.59 1313.12 1480.59 Q1317.12 1480.59 1319.46 1478.48 Q1321.8 1476.38 1321.8 1472.76 Q1321.8 1469.15 1319.46 1467.05 Q1317.12 1464.94 1313.12 1464.94 Q1311.24 1464.94 1309.37 1465.36 Q1307.52 1465.77 1305.57 1466.65 L1305.57 1449.29 Z\" fill=\"#000000\" fill-rule=\"evenodd\" fill-opacity=\"1\" /><path clip-path=\"url(#clip490)\" d=\"M1738.67 1479.92 L1754.99 1479.92 L1754.99 1483.85 L1733.05 1483.85 L1733.05 1479.92 Q1735.71 1477.16 1740.29 1472.53 Q1744.9 1467.88 1746.08 1466.54 Q1748.32 1464.01 1749.2 1462.28 Q1750.11 1460.52 1750.11 1458.83 Q1750.11 1456.07 1748.16 1454.34 Q1746.24 1452.6 1743.14 1452.6 Q1740.94 1452.6 1738.49 1453.37 Q1736.06 1454.13 1733.28 1455.68 L1733.28 1450.96 Q1736.1 1449.82 1738.56 1449.25 Q1741.01 1448.67 1743.05 1448.67 Q1748.42 1448.67 1751.61 1451.35 Q1754.81 1454.04 1754.81 1458.53 Q1754.81 1460.66 1754 1462.58 Q1753.21 1464.48 1751.1 1467.07 Q1750.52 1467.74 1747.42 1470.96 Q1744.32 1474.15 1738.67 1479.92 Z\" fill=\"#000000\" fill-rule=\"evenodd\" fill-opacity=\"1\" /><path clip-path=\"url(#clip490)\" d=\"M1764.81 1477.97 L1769.69 1477.97 L1769.69 1483.85 L1764.81 1483.85 L1764.81 1477.97 Z\" fill=\"#000000\" fill-rule=\"evenodd\" fill-opacity=\"1\" /><path clip-path=\"url(#clip490)\" d=\"M1789.87 1452.37 Q1786.26 1452.37 1784.43 1455.94 Q1782.63 1459.48 1782.63 1466.61 Q1782.63 1473.71 1784.43 1477.28 Q1786.26 1480.82 1789.87 1480.82 Q1793.51 1480.82 1795.31 1477.28 Q1797.14 1473.71 1797.14 1466.61 Q1797.14 1459.48 1795.31 1455.94 Q1793.51 1452.37 1789.87 1452.37 M1789.87 1448.67 Q1795.68 1448.67 1798.74 1453.27 Q1801.82 1457.86 1801.82 1466.61 Q1801.82 1475.33 1798.74 1479.94 Q1795.68 1484.52 1789.87 1484.52 Q1784.06 1484.52 1780.99 1479.94 Q1777.93 1475.33 1777.93 1466.61 Q1777.93 1457.86 1780.99 1453.27 Q1784.06 1448.67 1789.87 1448.67 Z\" fill=\"#000000\" fill-rule=\"evenodd\" fill-opacity=\"1\" /><path clip-path=\"url(#clip490)\" d=\"M2213.15 1479.92 L2229.47 1479.92 L2229.47 1483.85 L2207.52 1483.85 L2207.52 1479.92 Q2210.18 1477.16 2214.77 1472.53 Q2219.37 1467.88 2220.55 1466.54 Q2222.8 1464.01 2223.68 1462.28 Q2224.58 1460.52 2224.58 1458.83 Q2224.58 1456.07 2222.64 1454.34 Q2220.72 1452.6 2217.61 1452.6 Q2215.42 1452.6 2212.96 1453.37 Q2210.53 1454.13 2207.75 1455.68 L2207.75 1450.96 Q2210.58 1449.82 2213.03 1449.25 Q2215.49 1448.67 2217.52 1448.67 Q2222.89 1448.67 2226.09 1451.35 Q2229.28 1454.04 2229.28 1458.53 Q2229.28 1460.66 2228.47 1462.58 Q2227.68 1464.48 2225.58 1467.07 Q2225 1467.74 2221.9 1470.96 Q2218.8 1474.15 2213.15 1479.92 Z\" fill=\"#000000\" fill-rule=\"evenodd\" fill-opacity=\"1\" /><path clip-path=\"url(#clip490)\" d=\"M2239.28 1477.97 L2244.17 1477.97 L2244.17 1483.85 L2239.28 1483.85 L2239.28 1477.97 Z\" fill=\"#000000\" fill-rule=\"evenodd\" fill-opacity=\"1\" /><path clip-path=\"url(#clip490)\" d=\"M2254.4 1449.29 L2272.75 1449.29 L2272.75 1453.23 L2258.68 1453.23 L2258.68 1461.7 Q2259.7 1461.35 2260.72 1461.19 Q2261.73 1461 2262.75 1461 Q2268.54 1461 2271.92 1464.18 Q2275.3 1467.35 2275.3 1472.76 Q2275.3 1478.34 2271.83 1481.44 Q2268.36 1484.52 2262.04 1484.52 Q2259.86 1484.52 2257.59 1484.15 Q2255.35 1483.78 2252.94 1483.04 L2252.94 1478.34 Q2255.02 1479.48 2257.24 1480.03 Q2259.47 1480.59 2261.94 1480.59 Q2265.95 1480.59 2268.29 1478.48 Q2270.62 1476.38 2270.62 1472.76 Q2270.62 1469.15 2268.29 1467.05 Q2265.95 1464.94 2261.94 1464.94 Q2260.07 1464.94 2258.19 1465.36 Q2256.34 1465.77 2254.4 1466.65 L2254.4 1449.29 Z\" fill=\"#000000\" fill-rule=\"evenodd\" fill-opacity=\"1\" /><path clip-path=\"url(#clip490)\" d=\"M1290.53 1549.81 Q1290.53 1543.44 1287.89 1539.94 Q1285.28 1536.44 1280.54 1536.44 Q1275.83 1536.44 1273.19 1539.94 Q1270.58 1543.44 1270.58 1549.81 Q1270.58 1556.14 1273.19 1559.64 Q1275.83 1563.14 1280.54 1563.14 Q1285.28 1563.14 1287.89 1559.64 Q1290.53 1556.14 1290.53 1549.81 M1296.39 1563.62 Q1296.39 1572.72 1292.35 1577.15 Q1288.31 1581.6 1279.97 1581.6 Q1276.88 1581.6 1274.14 1581.13 Q1271.41 1580.68 1268.83 1579.72 L1268.83 1574.03 Q1271.41 1575.43 1273.92 1576.1 Q1276.43 1576.76 1279.04 1576.76 Q1284.81 1576.76 1287.67 1573.74 Q1290.53 1570.75 1290.53 1564.67 L1290.53 1561.77 Q1288.72 1564.92 1285.89 1566.48 Q1283.05 1568.04 1279.11 1568.04 Q1272.55 1568.04 1268.54 1563.05 Q1264.53 1558.05 1264.53 1549.81 Q1264.53 1541.53 1268.54 1536.53 Q1272.55 1531.54 1279.11 1531.54 Q1283.05 1531.54 1285.89 1533.1 Q1288.72 1534.66 1290.53 1537.81 L1290.53 1532.4 L1296.39 1532.4 L1296.39 1563.62 Z\" fill=\"#000000\" fill-rule=\"evenodd\" fill-opacity=\"1\" /><path clip-path=\"url(#clip490)\" d=\"M1310.4 1562.63 L1320.9 1562.63 L1320.9 1526.38 L1309.47 1528.67 L1309.47 1522.82 L1320.83 1520.52 L1327.26 1520.52 L1327.26 1562.63 L1337.77 1562.63 L1337.77 1568.04 L1310.4 1568.04 L1310.4 1562.63 Z\" fill=\"#000000\" fill-rule=\"evenodd\" fill-opacity=\"1\" /><polyline clip-path=\"url(#clip492)\" style=\"stroke:#000000; stroke-linecap:butt; stroke-linejoin:round; stroke-width:2; stroke-opacity:0.1; fill:none\" points=\"\n",
       "  249.542,1317.22 2352.76,1317.22 \n",
       "  \"/>\n",
       "<polyline clip-path=\"url(#clip492)\" style=\"stroke:#000000; stroke-linecap:butt; stroke-linejoin:round; stroke-width:2; stroke-opacity:0.1; fill:none\" points=\"\n",
       "  249.542,1025.58 2352.76,1025.58 \n",
       "  \"/>\n",
       "<polyline clip-path=\"url(#clip492)\" style=\"stroke:#000000; stroke-linecap:butt; stroke-linejoin:round; stroke-width:2; stroke-opacity:0.1; fill:none\" points=\"\n",
       "  249.542,733.953 2352.76,733.953 \n",
       "  \"/>\n",
       "<polyline clip-path=\"url(#clip492)\" style=\"stroke:#000000; stroke-linecap:butt; stroke-linejoin:round; stroke-width:2; stroke-opacity:0.1; fill:none\" points=\"\n",
       "  249.542,442.32 2352.76,442.32 \n",
       "  \"/>\n",
       "<polyline clip-path=\"url(#clip492)\" style=\"stroke:#000000; stroke-linecap:butt; stroke-linejoin:round; stroke-width:2; stroke-opacity:0.1; fill:none\" points=\"\n",
       "  249.542,150.688 2352.76,150.688 \n",
       "  \"/>\n",
       "<polyline clip-path=\"url(#clip490)\" style=\"stroke:#000000; stroke-linecap:butt; stroke-linejoin:round; stroke-width:4; stroke-opacity:1; fill:none\" points=\"\n",
       "  249.542,1423.18 249.542,47.2441 \n",
       "  \"/>\n",
       "<polyline clip-path=\"url(#clip490)\" style=\"stroke:#000000; stroke-linecap:butt; stroke-linejoin:round; stroke-width:4; stroke-opacity:1; fill:none\" points=\"\n",
       "  249.542,1317.22 268.44,1317.22 \n",
       "  \"/>\n",
       "<polyline clip-path=\"url(#clip490)\" style=\"stroke:#000000; stroke-linecap:butt; stroke-linejoin:round; stroke-width:4; stroke-opacity:1; fill:none\" points=\"\n",
       "  249.542,1025.58 268.44,1025.58 \n",
       "  \"/>\n",
       "<polyline clip-path=\"url(#clip490)\" style=\"stroke:#000000; stroke-linecap:butt; stroke-linejoin:round; stroke-width:4; stroke-opacity:1; fill:none\" points=\"\n",
       "  249.542,733.953 268.44,733.953 \n",
       "  \"/>\n",
       "<polyline clip-path=\"url(#clip490)\" style=\"stroke:#000000; stroke-linecap:butt; stroke-linejoin:round; stroke-width:4; stroke-opacity:1; fill:none\" points=\"\n",
       "  249.542,442.32 268.44,442.32 \n",
       "  \"/>\n",
       "<polyline clip-path=\"url(#clip490)\" style=\"stroke:#000000; stroke-linecap:butt; stroke-linejoin:round; stroke-width:4; stroke-opacity:1; fill:none\" points=\"\n",
       "  249.542,150.688 268.44,150.688 \n",
       "  \"/>\n",
       "<path clip-path=\"url(#clip490)\" d=\"M126.205 1303.02 Q122.593 1303.02 120.765 1306.58 Q118.959 1310.12 118.959 1317.25 Q118.959 1324.36 120.765 1327.92 Q122.593 1331.46 126.205 1331.46 Q129.839 1331.46 131.644 1327.92 Q133.473 1324.36 133.473 1317.25 Q133.473 1310.12 131.644 1306.58 Q129.839 1303.02 126.205 1303.02 M126.205 1299.31 Q132.015 1299.31 135.07 1303.92 Q138.149 1308.5 138.149 1317.25 Q138.149 1325.98 135.07 1330.58 Q132.015 1335.17 126.205 1335.17 Q120.394 1335.17 117.316 1330.58 Q114.26 1325.98 114.26 1317.25 Q114.26 1308.5 117.316 1303.92 Q120.394 1299.31 126.205 1299.31 Z\" fill=\"#000000\" fill-rule=\"evenodd\" fill-opacity=\"1\" /><path clip-path=\"url(#clip490)\" d=\"M146.366 1328.62 L151.251 1328.62 L151.251 1334.5 L146.366 1334.5 L146.366 1328.62 Z\" fill=\"#000000\" fill-rule=\"evenodd\" fill-opacity=\"1\" /><path clip-path=\"url(#clip490)\" d=\"M171.436 1303.02 Q167.825 1303.02 165.996 1306.58 Q164.19 1310.12 164.19 1317.25 Q164.19 1324.36 165.996 1327.92 Q167.825 1331.46 171.436 1331.46 Q175.07 1331.46 176.876 1327.92 Q178.704 1324.36 178.704 1317.25 Q178.704 1310.12 176.876 1306.58 Q175.07 1303.02 171.436 1303.02 M171.436 1299.31 Q177.246 1299.31 180.301 1303.92 Q183.38 1308.5 183.38 1317.25 Q183.38 1325.98 180.301 1330.58 Q177.246 1335.17 171.436 1335.17 Q165.626 1335.17 162.547 1330.58 Q159.491 1325.98 159.491 1317.25 Q159.491 1308.5 162.547 1303.92 Q165.626 1299.31 171.436 1299.31 Z\" fill=\"#000000\" fill-rule=\"evenodd\" fill-opacity=\"1\" /><path clip-path=\"url(#clip490)\" d=\"M201.598 1303.02 Q197.987 1303.02 196.158 1306.58 Q194.352 1310.12 194.352 1317.25 Q194.352 1324.36 196.158 1327.92 Q197.987 1331.46 201.598 1331.46 Q205.232 1331.46 207.037 1327.92 Q208.866 1324.36 208.866 1317.25 Q208.866 1310.12 207.037 1306.58 Q205.232 1303.02 201.598 1303.02 M201.598 1299.31 Q207.408 1299.31 210.463 1303.92 Q213.542 1308.5 213.542 1317.25 Q213.542 1325.98 210.463 1330.58 Q207.408 1335.17 201.598 1335.17 Q195.787 1335.17 192.709 1330.58 Q189.653 1325.98 189.653 1317.25 Q189.653 1308.5 192.709 1303.92 Q195.787 1299.31 201.598 1299.31 Z\" fill=\"#000000\" fill-rule=\"evenodd\" fill-opacity=\"1\" /><path clip-path=\"url(#clip490)\" d=\"M127.2 1011.38 Q123.589 1011.38 121.76 1014.95 Q119.955 1018.49 119.955 1025.62 Q119.955 1032.73 121.76 1036.29 Q123.589 1039.83 127.2 1039.83 Q130.834 1039.83 132.64 1036.29 Q134.468 1032.73 134.468 1025.62 Q134.468 1018.49 132.64 1014.95 Q130.834 1011.38 127.2 1011.38 M127.2 1007.68 Q133.01 1007.68 136.066 1012.29 Q139.144 1016.87 139.144 1025.62 Q139.144 1034.35 136.066 1038.95 Q133.01 1043.54 127.2 1043.54 Q121.39 1043.54 118.311 1038.95 Q115.256 1034.35 115.256 1025.62 Q115.256 1016.87 118.311 1012.29 Q121.39 1007.68 127.2 1007.68 Z\" fill=\"#000000\" fill-rule=\"evenodd\" fill-opacity=\"1\" /><path clip-path=\"url(#clip490)\" d=\"M147.362 1036.99 L152.246 1036.99 L152.246 1042.86 L147.362 1042.86 L147.362 1036.99 Z\" fill=\"#000000\" fill-rule=\"evenodd\" fill-opacity=\"1\" /><path clip-path=\"url(#clip490)\" d=\"M166.459 1038.93 L182.778 1038.93 L182.778 1042.86 L160.834 1042.86 L160.834 1038.93 Q163.496 1036.18 168.079 1031.55 Q172.686 1026.89 173.866 1025.55 Q176.112 1023.03 176.991 1021.29 Q177.894 1019.53 177.894 1017.84 Q177.894 1015.09 175.95 1013.35 Q174.028 1011.61 170.927 1011.61 Q168.727 1011.61 166.274 1012.38 Q163.843 1013.14 161.065 1014.69 L161.065 1009.97 Q163.89 1008.84 166.343 1008.26 Q168.797 1007.68 170.834 1007.68 Q176.204 1007.68 179.399 1010.36 Q182.593 1013.05 182.593 1017.54 Q182.593 1019.67 181.783 1021.59 Q180.996 1023.49 178.889 1026.08 Q178.311 1026.75 175.209 1029.97 Q172.107 1033.17 166.459 1038.93 Z\" fill=\"#000000\" fill-rule=\"evenodd\" fill-opacity=\"1\" /><path clip-path=\"url(#clip490)\" d=\"M192.639 1008.3 L210.996 1008.3 L210.996 1012.24 L196.922 1012.24 L196.922 1020.71 Q197.94 1020.36 198.959 1020.2 Q199.977 1020.02 200.996 1020.02 Q206.783 1020.02 210.162 1023.19 Q213.542 1026.36 213.542 1031.78 Q213.542 1037.36 210.07 1040.46 Q206.598 1043.54 200.278 1043.54 Q198.102 1043.54 195.834 1043.17 Q193.588 1042.8 191.181 1042.05 L191.181 1037.36 Q193.264 1038.49 195.487 1039.05 Q197.709 1039.6 200.186 1039.6 Q204.19 1039.6 206.528 1037.49 Q208.866 1035.39 208.866 1031.78 Q208.866 1028.17 206.528 1026.06 Q204.19 1023.95 200.186 1023.95 Q198.311 1023.95 196.436 1024.37 Q194.584 1024.79 192.639 1025.67 L192.639 1008.3 Z\" fill=\"#000000\" fill-rule=\"evenodd\" fill-opacity=\"1\" /><path clip-path=\"url(#clip490)\" d=\"M126.205 719.751 Q122.593 719.751 120.765 723.316 Q118.959 726.858 118.959 733.987 Q118.959 741.094 120.765 744.659 Q122.593 748.2 126.205 748.2 Q129.839 748.2 131.644 744.659 Q133.473 741.094 133.473 733.987 Q133.473 726.858 131.644 723.316 Q129.839 719.751 126.205 719.751 M126.205 716.048 Q132.015 716.048 135.07 720.654 Q138.149 725.237 138.149 733.987 Q138.149 742.714 135.07 747.321 Q132.015 751.904 126.205 751.904 Q120.394 751.904 117.316 747.321 Q114.26 742.714 114.26 733.987 Q114.26 725.237 117.316 720.654 Q120.394 716.048 126.205 716.048 Z\" fill=\"#000000\" fill-rule=\"evenodd\" fill-opacity=\"1\" /><path clip-path=\"url(#clip490)\" d=\"M146.366 745.353 L151.251 745.353 L151.251 751.233 L146.366 751.233 L146.366 745.353 Z\" fill=\"#000000\" fill-rule=\"evenodd\" fill-opacity=\"1\" /><path clip-path=\"url(#clip490)\" d=\"M161.482 716.673 L179.839 716.673 L179.839 720.608 L165.765 720.608 L165.765 729.08 Q166.783 728.733 167.802 728.571 Q168.82 728.386 169.839 728.386 Q175.626 728.386 179.005 731.557 Q182.385 734.728 182.385 740.145 Q182.385 745.723 178.913 748.825 Q175.44 751.904 169.121 751.904 Q166.945 751.904 164.677 751.534 Q162.431 751.163 160.024 750.422 L160.024 745.723 Q162.107 746.858 164.329 747.413 Q166.552 747.969 169.028 747.969 Q173.033 747.969 175.371 745.862 Q177.709 743.756 177.709 740.145 Q177.709 736.534 175.371 734.427 Q173.033 732.321 169.028 732.321 Q167.153 732.321 165.278 732.737 Q163.427 733.154 161.482 734.034 L161.482 716.673 Z\" fill=\"#000000\" fill-rule=\"evenodd\" fill-opacity=\"1\" /><path clip-path=\"url(#clip490)\" d=\"M201.598 719.751 Q197.987 719.751 196.158 723.316 Q194.352 726.858 194.352 733.987 Q194.352 741.094 196.158 744.659 Q197.987 748.2 201.598 748.2 Q205.232 748.2 207.037 744.659 Q208.866 741.094 208.866 733.987 Q208.866 726.858 207.037 723.316 Q205.232 719.751 201.598 719.751 M201.598 716.048 Q207.408 716.048 210.463 720.654 Q213.542 725.237 213.542 733.987 Q213.542 742.714 210.463 747.321 Q207.408 751.904 201.598 751.904 Q195.787 751.904 192.709 747.321 Q189.653 742.714 189.653 733.987 Q189.653 725.237 192.709 720.654 Q195.787 716.048 201.598 716.048 Z\" fill=\"#000000\" fill-rule=\"evenodd\" fill-opacity=\"1\" /><path clip-path=\"url(#clip490)\" d=\"M127.2 428.119 Q123.589 428.119 121.76 431.684 Q119.955 435.226 119.955 442.355 Q119.955 449.462 121.76 453.026 Q123.589 456.568 127.2 456.568 Q130.834 456.568 132.64 453.026 Q134.468 449.462 134.468 442.355 Q134.468 435.226 132.64 431.684 Q130.834 428.119 127.2 428.119 M127.2 424.415 Q133.01 424.415 136.066 429.022 Q139.144 433.605 139.144 442.355 Q139.144 451.082 136.066 455.688 Q133.01 460.272 127.2 460.272 Q121.39 460.272 118.311 455.688 Q115.256 451.082 115.256 442.355 Q115.256 433.605 118.311 429.022 Q121.39 424.415 127.2 424.415 Z\" fill=\"#000000\" fill-rule=\"evenodd\" fill-opacity=\"1\" /><path clip-path=\"url(#clip490)\" d=\"M147.362 453.721 L152.246 453.721 L152.246 459.6 L147.362 459.6 L147.362 453.721 Z\" fill=\"#000000\" fill-rule=\"evenodd\" fill-opacity=\"1\" /><path clip-path=\"url(#clip490)\" d=\"M161.251 425.04 L183.473 425.04 L183.473 427.031 L170.927 459.6 L166.042 459.6 L177.848 428.976 L161.251 428.976 L161.251 425.04 Z\" fill=\"#000000\" fill-rule=\"evenodd\" fill-opacity=\"1\" /><path clip-path=\"url(#clip490)\" d=\"M192.639 425.04 L210.996 425.04 L210.996 428.976 L196.922 428.976 L196.922 437.448 Q197.94 437.101 198.959 436.939 Q199.977 436.753 200.996 436.753 Q206.783 436.753 210.162 439.925 Q213.542 443.096 213.542 448.513 Q213.542 454.091 210.07 457.193 Q206.598 460.272 200.278 460.272 Q198.102 460.272 195.834 459.901 Q193.588 459.531 191.181 458.79 L191.181 454.091 Q193.264 455.225 195.487 455.781 Q197.709 456.337 200.186 456.337 Q204.19 456.337 206.528 454.23 Q208.866 452.124 208.866 448.513 Q208.866 444.901 206.528 442.795 Q204.19 440.689 200.186 440.689 Q198.311 440.689 196.436 441.105 Q194.584 441.522 192.639 442.401 L192.639 425.04 Z\" fill=\"#000000\" fill-rule=\"evenodd\" fill-opacity=\"1\" /><path clip-path=\"url(#clip490)\" d=\"M117.015 164.033 L124.654 164.033 L124.654 137.668 L116.343 139.334 L116.343 135.075 L124.607 133.408 L129.283 133.408 L129.283 164.033 L136.922 164.033 L136.922 167.968 L117.015 167.968 L117.015 164.033 Z\" fill=\"#000000\" fill-rule=\"evenodd\" fill-opacity=\"1\" /><path clip-path=\"url(#clip490)\" d=\"M146.366 162.089 L151.251 162.089 L151.251 167.968 L146.366 167.968 L146.366 162.089 Z\" fill=\"#000000\" fill-rule=\"evenodd\" fill-opacity=\"1\" /><path clip-path=\"url(#clip490)\" d=\"M171.436 136.487 Q167.825 136.487 165.996 140.052 Q164.19 143.593 164.19 150.723 Q164.19 157.829 165.996 161.394 Q167.825 164.936 171.436 164.936 Q175.07 164.936 176.876 161.394 Q178.704 157.829 178.704 150.723 Q178.704 143.593 176.876 140.052 Q175.07 136.487 171.436 136.487 M171.436 132.783 Q177.246 132.783 180.301 137.39 Q183.38 141.973 183.38 150.723 Q183.38 159.45 180.301 164.056 Q177.246 168.64 171.436 168.64 Q165.626 168.64 162.547 164.056 Q159.491 159.45 159.491 150.723 Q159.491 141.973 162.547 137.39 Q165.626 132.783 171.436 132.783 Z\" fill=\"#000000\" fill-rule=\"evenodd\" fill-opacity=\"1\" /><path clip-path=\"url(#clip490)\" d=\"M201.598 136.487 Q197.987 136.487 196.158 140.052 Q194.352 143.593 194.352 150.723 Q194.352 157.829 196.158 161.394 Q197.987 164.936 201.598 164.936 Q205.232 164.936 207.037 161.394 Q208.866 157.829 208.866 150.723 Q208.866 143.593 207.037 140.052 Q205.232 136.487 201.598 136.487 M201.598 132.783 Q207.408 132.783 210.463 137.39 Q213.542 141.973 213.542 150.723 Q213.542 159.45 210.463 164.056 Q207.408 168.64 201.598 168.64 Q195.787 168.64 192.709 164.056 Q189.653 159.45 189.653 150.723 Q189.653 141.973 192.709 137.39 Q195.787 132.783 201.598 132.783 Z\" fill=\"#000000\" fill-rule=\"evenodd\" fill-opacity=\"1\" /><path clip-path=\"url(#clip490)\" d=\"M45.7664 745.572 Q39.4007 745.572 35.8996 748.214 Q32.3984 750.824 32.3984 755.566 Q32.3984 760.277 35.8996 762.919 Q39.4007 765.529 45.7664 765.529 Q52.1003 765.529 55.6014 762.919 Q59.1026 760.277 59.1026 755.566 Q59.1026 750.824 55.6014 748.214 Q52.1003 745.572 45.7664 745.572 M59.58 739.716 Q68.683 739.716 73.1071 743.758 Q77.5631 747.8 77.5631 756.139 Q77.5631 759.227 77.0857 761.964 Q76.6401 764.701 75.6852 767.279 L69.9879 767.279 Q71.3884 764.701 72.0568 762.187 Q72.7252 759.672 72.7252 757.062 Q72.7252 751.301 69.7015 748.437 Q66.7096 745.572 60.6303 745.572 L57.7339 745.572 Q60.885 747.386 62.4446 750.219 Q64.0042 753.052 64.0042 756.999 Q64.0042 763.555 59.0071 767.566 Q54.01 771.576 45.7664 771.576 Q37.491 771.576 32.4939 767.566 Q27.4968 763.555 27.4968 756.999 Q27.4968 753.052 29.0564 750.219 Q30.616 747.386 33.7671 745.572 L28.3562 745.572 L28.3562 739.716 L59.58 739.716 Z\" fill=\"#000000\" fill-rule=\"evenodd\" fill-opacity=\"1\" /><path clip-path=\"url(#clip490)\" d=\"M58.5933 721.287 L58.5933 698.848 L64.0042 698.848 L64.0042 729.021 L58.5933 729.021 Q54.8057 725.361 48.44 719.059 Q42.0425 712.725 40.1964 711.102 Q36.7271 708.014 34.34 706.805 Q31.921 705.564 29.5975 705.564 Q25.8099 705.564 23.4228 708.237 Q21.0356 710.879 21.0356 715.144 Q21.0356 718.168 22.086 721.542 Q23.1363 724.884 25.2688 728.703 L18.7758 728.703 Q17.2162 724.82 16.4205 721.446 Q15.6248 718.072 15.6248 715.271 Q15.6248 707.887 19.3169 703.495 Q23.009 699.102 29.1837 699.102 Q32.112 699.102 34.7537 700.216 Q37.3637 701.299 40.9285 704.195 Q41.8515 704.991 46.2757 709.256 Q50.668 713.521 58.5933 721.287 Z\" fill=\"#000000\" fill-rule=\"evenodd\" fill-opacity=\"1\" /><circle clip-path=\"url(#clip492)\" cx=\"379.21\" cy=\"725.348\" r=\"14\" fill=\"#009af9\" fill-rule=\"evenodd\" fill-opacity=\"1\" stroke=\"#000000\" stroke-opacity=\"1\" stroke-width=\"3.2\"/>\n",
       "<circle clip-path=\"url(#clip492)\" cx=\"713.091\" cy=\"954.663\" r=\"14\" fill=\"#6b9e32\" fill-rule=\"evenodd\" fill-opacity=\"1\" stroke=\"#000000\" stroke-opacity=\"1\" stroke-width=\"3.2\"/>\n",
       "<circle clip-path=\"url(#clip492)\" cx=\"755.975\" cy=\"961.206\" r=\"14\" fill=\"#6b9e32\" fill-rule=\"evenodd\" fill-opacity=\"1\" stroke=\"#000000\" stroke-opacity=\"1\" stroke-width=\"3.2\"/>\n",
       "<circle clip-path=\"url(#clip492)\" cx=\"693.972\" cy=\"947.449\" r=\"14\" fill=\"#6b9e32\" fill-rule=\"evenodd\" fill-opacity=\"1\" stroke=\"#000000\" stroke-opacity=\"1\" stroke-width=\"3.2\"/>\n",
       "<circle clip-path=\"url(#clip492)\" cx=\"718.157\" cy=\"959.36\" r=\"14\" fill=\"#009af9\" fill-rule=\"evenodd\" fill-opacity=\"1\" stroke=\"#000000\" stroke-opacity=\"1\" stroke-width=\"3.2\"/>\n",
       "<circle clip-path=\"url(#clip492)\" cx=\"675.373\" cy=\"963.241\" r=\"14\" fill=\"#6b9e32\" fill-rule=\"evenodd\" fill-opacity=\"1\" stroke=\"#000000\" stroke-opacity=\"1\" stroke-width=\"3.2\"/>\n",
       "<circle clip-path=\"url(#clip492)\" cx=\"676.531\" cy=\"982.81\" r=\"14\" fill=\"#009af9\" fill-rule=\"evenodd\" fill-opacity=\"1\" stroke=\"#000000\" stroke-opacity=\"1\" stroke-width=\"3.2\"/>\n",
       "<circle clip-path=\"url(#clip492)\" cx=\"725.346\" cy=\"917.04\" r=\"14\" fill=\"#009af9\" fill-rule=\"evenodd\" fill-opacity=\"1\" stroke=\"#000000\" stroke-opacity=\"1\" stroke-width=\"3.2\"/>\n",
       "<circle clip-path=\"url(#clip492)\" cx=\"702.851\" cy=\"990.514\" r=\"14\" fill=\"#6b9e32\" fill-rule=\"evenodd\" fill-opacity=\"1\" stroke=\"#000000\" stroke-opacity=\"1\" stroke-width=\"3.2\"/>\n",
       "<circle clip-path=\"url(#clip492)\" cx=\"745.164\" cy=\"977.393\" r=\"14\" fill=\"#009af9\" fill-rule=\"evenodd\" fill-opacity=\"1\" stroke=\"#000000\" stroke-opacity=\"1\" stroke-width=\"3.2\"/>\n",
       "<circle clip-path=\"url(#clip492)\" cx=\"818.579\" cy=\"1305.91\" r=\"14\" fill=\"#009af9\" fill-rule=\"evenodd\" fill-opacity=\"1\" stroke=\"#000000\" stroke-opacity=\"1\" stroke-width=\"3.2\"/>\n",
       "<circle clip-path=\"url(#clip492)\" cx=\"826.186\" cy=\"1356.99\" r=\"14\" fill=\"#6b9e32\" fill-rule=\"evenodd\" fill-opacity=\"1\" stroke=\"#000000\" stroke-opacity=\"1\" stroke-width=\"3.2\"/>\n",
       "<circle clip-path=\"url(#clip492)\" cx=\"808.644\" cy=\"1331.08\" r=\"14\" fill=\"#6b9e32\" fill-rule=\"evenodd\" fill-opacity=\"1\" stroke=\"#000000\" stroke-opacity=\"1\" stroke-width=\"3.2\"/>\n",
       "<circle clip-path=\"url(#clip492)\" cx=\"825.927\" cy=\"1324.75\" r=\"14\" fill=\"#009af9\" fill-rule=\"evenodd\" fill-opacity=\"1\" stroke=\"#000000\" stroke-opacity=\"1\" stroke-width=\"3.2\"/>\n",
       "<circle clip-path=\"url(#clip492)\" cx=\"822.862\" cy=\"1293.96\" r=\"14\" fill=\"#009af9\" fill-rule=\"evenodd\" fill-opacity=\"1\" stroke=\"#000000\" stroke-opacity=\"1\" stroke-width=\"3.2\"/>\n",
       "<circle clip-path=\"url(#clip492)\" cx=\"1759.22\" cy=\"168.259\" r=\"14\" fill=\"#6b9e32\" fill-rule=\"evenodd\" fill-opacity=\"1\" stroke=\"#000000\" stroke-opacity=\"1\" stroke-width=\"3.2\"/>\n",
       "<circle clip-path=\"url(#clip492)\" cx=\"1799.34\" cy=\"127.399\" r=\"14\" fill=\"#6b9e32\" fill-rule=\"evenodd\" fill-opacity=\"1\" stroke=\"#000000\" stroke-opacity=\"1\" stroke-width=\"3.2\"/>\n",
       "<circle clip-path=\"url(#clip492)\" cx=\"2293.23\" cy=\"159.156\" r=\"14\" fill=\"#6b9e32\" fill-rule=\"evenodd\" fill-opacity=\"1\" stroke=\"#000000\" stroke-opacity=\"1\" stroke-width=\"3.2\"/>\n",
       "<circle clip-path=\"url(#clip492)\" cx=\"2268.99\" cy=\"186.382\" r=\"14\" fill=\"#009af9\" fill-rule=\"evenodd\" fill-opacity=\"1\" stroke=\"#000000\" stroke-opacity=\"1\" stroke-width=\"3.2\"/>\n",
       "<circle clip-path=\"url(#clip492)\" cx=\"2200.35\" cy=\"86.1857\" r=\"14\" fill=\"#6b9e32\" fill-rule=\"evenodd\" fill-opacity=\"1\" stroke=\"#000000\" stroke-opacity=\"1\" stroke-width=\"3.2\"/>\n",
       "<circle clip-path=\"url(#clip492)\" cx=\"339.824\" cy=\"692.985\" r=\"14\" fill=\"#009af9\" fill-rule=\"evenodd\" fill-opacity=\"1\" stroke=\"#000000\" stroke-opacity=\"1\" stroke-width=\"3.2\"/>\n",
       "<circle clip-path=\"url(#clip492)\" cx=\"717.483\" cy=\"936.566\" r=\"14\" fill=\"#6b9e32\" fill-rule=\"evenodd\" fill-opacity=\"1\" stroke=\"#000000\" stroke-opacity=\"1\" stroke-width=\"3.2\"/>\n",
       "<circle clip-path=\"url(#clip492)\" cx=\"742.965\" cy=\"945.355\" r=\"14\" fill=\"#6b9e32\" fill-rule=\"evenodd\" fill-opacity=\"1\" stroke=\"#000000\" stroke-opacity=\"1\" stroke-width=\"3.2\"/>\n",
       "<circle clip-path=\"url(#clip492)\" cx=\"718.833\" cy=\"958.068\" r=\"14\" fill=\"#6b9e32\" fill-rule=\"evenodd\" fill-opacity=\"1\" stroke=\"#000000\" stroke-opacity=\"1\" stroke-width=\"3.2\"/>\n",
       "<circle clip-path=\"url(#clip492)\" cx=\"709.951\" cy=\"949.219\" r=\"14\" fill=\"#009af9\" fill-rule=\"evenodd\" fill-opacity=\"1\" stroke=\"#000000\" stroke-opacity=\"1\" stroke-width=\"3.2\"/>\n",
       "<circle clip-path=\"url(#clip492)\" cx=\"693.312\" cy=\"924.731\" r=\"14\" fill=\"#6b9e32\" fill-rule=\"evenodd\" fill-opacity=\"1\" stroke=\"#000000\" stroke-opacity=\"1\" stroke-width=\"3.2\"/>\n",
       "<circle clip-path=\"url(#clip492)\" cx=\"691.754\" cy=\"1001.68\" r=\"14\" fill=\"#009af9\" fill-rule=\"evenodd\" fill-opacity=\"1\" stroke=\"#000000\" stroke-opacity=\"1\" stroke-width=\"3.2\"/>\n",
       "<circle clip-path=\"url(#clip492)\" cx=\"733.204\" cy=\"1017.75\" r=\"14\" fill=\"#009af9\" fill-rule=\"evenodd\" fill-opacity=\"1\" stroke=\"#000000\" stroke-opacity=\"1\" stroke-width=\"3.2\"/>\n",
       "<circle clip-path=\"url(#clip492)\" cx=\"738.73\" cy=\"925.297\" r=\"14\" fill=\"#6b9e32\" fill-rule=\"evenodd\" fill-opacity=\"1\" stroke=\"#000000\" stroke-opacity=\"1\" stroke-width=\"3.2\"/>\n",
       "<circle clip-path=\"url(#clip492)\" cx=\"760.056\" cy=\"962.15\" r=\"14\" fill=\"#009af9\" fill-rule=\"evenodd\" fill-opacity=\"1\" stroke=\"#000000\" stroke-opacity=\"1\" stroke-width=\"3.2\"/>\n",
       "<circle clip-path=\"url(#clip492)\" cx=\"857.422\" cy=\"1308.38\" r=\"14\" fill=\"#009af9\" fill-rule=\"evenodd\" fill-opacity=\"1\" stroke=\"#000000\" stroke-opacity=\"1\" stroke-width=\"3.2\"/>\n",
       "<circle clip-path=\"url(#clip492)\" cx=\"782.324\" cy=\"1326.91\" r=\"14\" fill=\"#6b9e32\" fill-rule=\"evenodd\" fill-opacity=\"1\" stroke=\"#000000\" stroke-opacity=\"1\" stroke-width=\"3.2\"/>\n",
       "<circle clip-path=\"url(#clip492)\" cx=\"748.944\" cy=\"1287.79\" r=\"14\" fill=\"#6b9e32\" fill-rule=\"evenodd\" fill-opacity=\"1\" stroke=\"#000000\" stroke-opacity=\"1\" stroke-width=\"3.2\"/>\n",
       "<circle clip-path=\"url(#clip492)\" cx=\"814.038\" cy=\"1384.24\" r=\"14\" fill=\"#009af9\" fill-rule=\"evenodd\" fill-opacity=\"1\" stroke=\"#000000\" stroke-opacity=\"1\" stroke-width=\"3.2\"/>\n",
       "<circle clip-path=\"url(#clip492)\" cx=\"786.085\" cy=\"1318.78\" r=\"14\" fill=\"#009af9\" fill-rule=\"evenodd\" fill-opacity=\"1\" stroke=\"#000000\" stroke-opacity=\"1\" stroke-width=\"3.2\"/>\n",
       "<circle clip-path=\"url(#clip492)\" cx=\"1761.84\" cy=\"145.358\" r=\"14\" fill=\"#6b9e32\" fill-rule=\"evenodd\" fill-opacity=\"1\" stroke=\"#000000\" stroke-opacity=\"1\" stroke-width=\"3.2\"/>\n",
       "<circle clip-path=\"url(#clip492)\" cx=\"1805.71\" cy=\"207.132\" r=\"14\" fill=\"#6b9e32\" fill-rule=\"evenodd\" fill-opacity=\"1\" stroke=\"#000000\" stroke-opacity=\"1\" stroke-width=\"3.2\"/>\n",
       "<circle clip-path=\"url(#clip492)\" cx=\"2280.28\" cy=\"100.205\" r=\"14\" fill=\"#6b9e32\" fill-rule=\"evenodd\" fill-opacity=\"1\" stroke=\"#000000\" stroke-opacity=\"1\" stroke-width=\"3.2\"/>\n",
       "<circle clip-path=\"url(#clip492)\" cx=\"2245.06\" cy=\"143.263\" r=\"14\" fill=\"#009af9\" fill-rule=\"evenodd\" fill-opacity=\"1\" stroke=\"#000000\" stroke-opacity=\"1\" stroke-width=\"3.2\"/>\n",
       "<circle clip-path=\"url(#clip492)\" cx=\"2251.87\" cy=\"119.8\" r=\"14\" fill=\"#6b9e32\" fill-rule=\"evenodd\" fill-opacity=\"1\" stroke=\"#000000\" stroke-opacity=\"1\" stroke-width=\"3.2\"/>\n",
       "<circle clip-path=\"url(#clip492)\" cx=\"309.067\" cy=\"753.459\" r=\"14\" fill=\"#009af9\" fill-rule=\"evenodd\" fill-opacity=\"1\" stroke=\"#000000\" stroke-opacity=\"1\" stroke-width=\"3.2\"/>\n",
       "<circle clip-path=\"url(#clip492)\" cx=\"742.006\" cy=\"1003.35\" r=\"14\" fill=\"#6b9e32\" fill-rule=\"evenodd\" fill-opacity=\"1\" stroke=\"#000000\" stroke-opacity=\"1\" stroke-width=\"3.2\"/>\n",
       "<circle clip-path=\"url(#clip492)\" cx=\"738.919\" cy=\"951.928\" r=\"14\" fill=\"#6b9e32\" fill-rule=\"evenodd\" fill-opacity=\"1\" stroke=\"#000000\" stroke-opacity=\"1\" stroke-width=\"3.2\"/>\n",
       "<circle clip-path=\"url(#clip492)\" cx=\"770.317\" cy=\"1015.84\" r=\"14\" fill=\"#6b9e32\" fill-rule=\"evenodd\" fill-opacity=\"1\" stroke=\"#000000\" stroke-opacity=\"1\" stroke-width=\"3.2\"/>\n",
       "<circle clip-path=\"url(#clip492)\" cx=\"714.542\" cy=\"1035.01\" r=\"14\" fill=\"#009af9\" fill-rule=\"evenodd\" fill-opacity=\"1\" stroke=\"#000000\" stroke-opacity=\"1\" stroke-width=\"3.2\"/>\n",
       "<circle clip-path=\"url(#clip492)\" cx=\"738.366\" cy=\"980.047\" r=\"14\" fill=\"#6b9e32\" fill-rule=\"evenodd\" fill-opacity=\"1\" stroke=\"#000000\" stroke-opacity=\"1\" stroke-width=\"3.2\"/>\n",
       "<circle clip-path=\"url(#clip492)\" cx=\"710.796\" cy=\"984.76\" r=\"14\" fill=\"#009af9\" fill-rule=\"evenodd\" fill-opacity=\"1\" stroke=\"#000000\" stroke-opacity=\"1\" stroke-width=\"3.2\"/>\n",
       "<circle clip-path=\"url(#clip492)\" cx=\"742.638\" cy=\"932.274\" r=\"14\" fill=\"#009af9\" fill-rule=\"evenodd\" fill-opacity=\"1\" stroke=\"#000000\" stroke-opacity=\"1\" stroke-width=\"3.2\"/>\n",
       "<circle clip-path=\"url(#clip492)\" cx=\"712.413\" cy=\"1002.26\" r=\"14\" fill=\"#6b9e32\" fill-rule=\"evenodd\" fill-opacity=\"1\" stroke=\"#000000\" stroke-opacity=\"1\" stroke-width=\"3.2\"/>\n",
       "<circle clip-path=\"url(#clip492)\" cx=\"688.895\" cy=\"979.253\" r=\"14\" fill=\"#009af9\" fill-rule=\"evenodd\" fill-opacity=\"1\" stroke=\"#000000\" stroke-opacity=\"1\" stroke-width=\"3.2\"/>\n",
       "<circle clip-path=\"url(#clip492)\" cx=\"828.882\" cy=\"1326.04\" r=\"14\" fill=\"#009af9\" fill-rule=\"evenodd\" fill-opacity=\"1\" stroke=\"#000000\" stroke-opacity=\"1\" stroke-width=\"3.2\"/>\n",
       "<circle clip-path=\"url(#clip492)\" cx=\"841.965\" cy=\"1270.1\" r=\"14\" fill=\"#6b9e32\" fill-rule=\"evenodd\" fill-opacity=\"1\" stroke=\"#000000\" stroke-opacity=\"1\" stroke-width=\"3.2\"/>\n",
       "<circle clip-path=\"url(#clip492)\" cx=\"841.716\" cy=\"1302.5\" r=\"14\" fill=\"#6b9e32\" fill-rule=\"evenodd\" fill-opacity=\"1\" stroke=\"#000000\" stroke-opacity=\"1\" stroke-width=\"3.2\"/>\n",
       "<circle clip-path=\"url(#clip492)\" cx=\"799.75\" cy=\"1273.85\" r=\"14\" fill=\"#009af9\" fill-rule=\"evenodd\" fill-opacity=\"1\" stroke=\"#000000\" stroke-opacity=\"1\" stroke-width=\"3.2\"/>\n",
       "<circle clip-path=\"url(#clip492)\" cx=\"877.19\" cy=\"1375.72\" r=\"14\" fill=\"#009af9\" fill-rule=\"evenodd\" fill-opacity=\"1\" stroke=\"#000000\" stroke-opacity=\"1\" stroke-width=\"3.2\"/>\n",
       "<circle clip-path=\"url(#clip492)\" cx=\"1755.58\" cy=\"153.919\" r=\"14\" fill=\"#6b9e32\" fill-rule=\"evenodd\" fill-opacity=\"1\" stroke=\"#000000\" stroke-opacity=\"1\" stroke-width=\"3.2\"/>\n",
       "<circle clip-path=\"url(#clip492)\" cx=\"1763.99\" cy=\"162.805\" r=\"14\" fill=\"#6b9e32\" fill-rule=\"evenodd\" fill-opacity=\"1\" stroke=\"#000000\" stroke-opacity=\"1\" stroke-width=\"3.2\"/>\n",
       "<circle clip-path=\"url(#clip492)\" cx=\"2220.98\" cy=\"174.338\" r=\"14\" fill=\"#6b9e32\" fill-rule=\"evenodd\" fill-opacity=\"1\" stroke=\"#000000\" stroke-opacity=\"1\" stroke-width=\"3.2\"/>\n",
       "<circle clip-path=\"url(#clip492)\" cx=\"2220.02\" cy=\"110.269\" r=\"14\" fill=\"#009af9\" fill-rule=\"evenodd\" fill-opacity=\"1\" stroke=\"#000000\" stroke-opacity=\"1\" stroke-width=\"3.2\"/>\n",
       "<circle clip-path=\"url(#clip492)\" cx=\"2238.48\" cy=\"193.449\" r=\"14\" fill=\"#6b9e32\" fill-rule=\"evenodd\" fill-opacity=\"1\" stroke=\"#000000\" stroke-opacity=\"1\" stroke-width=\"3.2\"/>\n",
       "</svg>\n"
      ]
     },
     "execution_count": 168,
     "metadata": {},
     "output_type": "execute_result"
    }
   ],
   "source": [
    "scatter(data_x[:,1], data_x[:,2], color=Int64.(data_y), legend=false)\n",
    "xlabel!(\"g1\")\n",
    "ylabel!(\"g2\")"
   ]
  },
  {
   "cell_type": "code",
   "execution_count": 169,
   "id": "tutorial-boating",
   "metadata": {},
   "outputs": [],
   "source": [
    "function f(params)\n",
    "    fe = inference_flow_classifier(Float64.(data_y), [data_x[k,:] for k=1:size(data_x,1)], params)\n",
    "    return fe\n",
    "end;"
   ]
  },
  {
   "cell_type": "code",
   "execution_count": 170,
   "id": "rubber-conspiracy",
   "metadata": {},
   "outputs": [],
   "source": [
    "using Random "
   ]
  },
  {
   "cell_type": "code",
   "execution_count": 171,
   "id": "composed-probe",
   "metadata": {},
   "outputs": [
    {
     "data": {
      "text/plain": [
       "2527.1579697848897"
      ]
     },
     "execution_count": 171,
     "metadata": {},
     "output_type": "execute_result"
    }
   ],
   "source": [
    "rng = MersenneTwister(1)\n",
    "\n",
    "f(randn(rng, 12))"
   ]
  },
  {
   "cell_type": "code",
   "execution_count": 253,
   "id": "essential-average",
   "metadata": {},
   "outputs": [
    {
     "name": "stdout",
     "output_type": "stream",
     "text": [
      "Iter     Function value   Gradient norm \n",
      "     0     6.310683e+03     2.825073e+03\n",
      " * time: 5.698204040527344e-5\n",
      "     1     1.162873e+02     3.531039e+02\n",
      " * time: 0.12451291084289551\n",
      "     2     8.228617e+01     1.408339e+02\n",
      " * time: 0.17194294929504395\n",
      "     3     5.653905e+01     6.193579e+01\n",
      " * time: 0.21811985969543457\n",
      "     4     4.552666e+01     7.266771e+01\n",
      " * time: 0.2442319393157959\n",
      "     5     3.753179e+01     2.261080e+01\n",
      " * time: 0.2811119556427002\n",
      "     6     3.677656e+01     1.456008e+01\n",
      " * time: 0.3168959617614746\n",
      "     7     3.646161e+01     5.805042e+00\n",
      " * time: 0.39934277534484863\n",
      "     8     3.619449e+01     1.075977e+01\n",
      " * time: 0.4352998733520508\n",
      "     9     3.579204e+01     7.876954e+00\n",
      " * time: 0.48360490798950195\n",
      "    10     3.559320e+01     4.025924e+00\n",
      " * time: 0.5201668739318848\n",
      "    11     3.554043e+01     2.871991e+00\n",
      " * time: 0.5569789409637451\n",
      "    12     3.522513e+01     2.053219e+00\n",
      " * time: 0.6033837795257568\n",
      "    13     3.519265e+01     2.322398e+00\n",
      " * time: 0.6371397972106934\n",
      "    14     3.513430e+01     1.775785e+00\n",
      " * time: 0.711906909942627\n",
      "    15     3.505422e+01     3.027992e+00\n",
      " * time: 0.7455978393554688\n",
      "    16     3.497892e+01     2.418133e+00\n",
      " * time: 0.779869794845581\n",
      "    17     3.493966e+01     2.568185e+00\n",
      " * time: 0.814741849899292\n",
      "    18     3.488420e+01     5.276452e+00\n",
      " * time: 0.8402578830718994\n",
      "    19     3.481742e+01     1.522721e+00\n",
      " * time: 0.8763649463653564\n",
      "    20     3.477356e+01     1.742341e+00\n",
      " * time: 0.9121999740600586\n",
      "    21     3.475985e+01     3.066732e+00\n",
      " * time: 0.9362478256225586\n",
      "    22     3.473092e+01     2.048497e+00\n",
      " * time: 1.0254719257354736\n",
      "    23     3.469857e+01     9.213319e-01\n",
      " * time: 1.062506914138794\n",
      "    24     3.468471e+01     1.413032e+00\n",
      " * time: 1.0998728275299072\n",
      "    25     3.431429e+01     3.486353e+01\n",
      " * time: 1.1609888076782227\n",
      "    26     3.332640e+01     5.913719e+00\n",
      " * time: 1.1965439319610596\n",
      "    27     3.262525e+01     1.079915e+02\n",
      " * time: 1.2545127868652344\n",
      "    28     3.262231e+01     1.080270e+02\n",
      " * time: 2.064978837966919\n",
      "    29     3.262202e+01     1.078805e+02\n",
      " * time: 2.7516520023345947\n",
      "    30     3.262198e+01     1.080128e+02\n",
      " * time: 3.233872890472412\n",
      "    31     3.262174e+01     1.079980e+02\n",
      " * time: 4.096153974533081\n",
      "    32     3.258538e+01     5.761465e+01\n",
      " * time: 4.808504819869995\n",
      "    33     3.258535e+01     5.761185e+01\n",
      " * time: 5.5181708335876465\n",
      "    34     3.216549e+01     5.092732e+01\n",
      " * time: 5.542372941970825\n",
      "    35     3.216540e+01     5.082035e+01\n",
      " * time: 6.413041830062866\n",
      "    36     3.216169e+01     4.855285e+01\n",
      " * time: 7.112120866775513\n",
      "    37     3.211740e+01     6.322085e+00\n",
      " * time: 7.738112926483154\n",
      "    38     3.211724e+01     6.336942e+00\n",
      " * time: 8.363688945770264\n",
      "    39     3.211046e+01     5.640665e+00\n",
      " * time: 9.019599914550781\n",
      "    40     3.208012e+01     7.809769e+00\n",
      " * time: 9.04420781135559\n",
      "    41     3.207028e+01     1.098223e+01\n",
      " * time: 9.120507001876831\n",
      "    42     3.206992e+01     1.100815e+01\n",
      " * time: 9.81614899635315\n",
      "    43     3.206806e+01     1.111918e+01\n",
      " * time: 10.579174995422363\n",
      "    44     3.206525e+01     1.110636e+01\n",
      " * time: 11.27150297164917\n",
      "    45     3.206064e+01     1.114135e+01\n",
      " * time: 12.025869846343994\n",
      "    46     3.174097e+01     7.057424e+01\n",
      " * time: 12.10362195968628\n",
      "    47     3.167696e+01     3.442662e+01\n",
      " * time: 12.706280946731567\n",
      "    48     3.151327e+01     7.359993e+00\n",
      " * time: 12.762232780456543\n",
      "    49     3.146833e+01     1.348479e+01\n",
      " * time: 12.785007953643799\n",
      "    50     3.146763e+01     1.076739e+01\n",
      " * time: 13.496871948242188\n",
      "    51     3.146761e+01     1.075992e+01\n",
      " * time: 14.379823923110962\n",
      "    52     3.145245e+01     1.109829e+01\n",
      " * time: 15.07341194152832\n",
      "    53     3.145216e+01     1.113491e+01\n",
      " * time: 15.820034980773926\n",
      "    54     3.143056e+01     1.839568e+01\n",
      " * time: 16.512459993362427\n",
      "    55     3.143058e+01     1.839581e+01\n",
      " * time: 17.505201816558838\n",
      "    56     3.142224e+01     1.493749e+01\n",
      " * time: 17.54063081741333\n",
      "    57     3.141394e+01     9.678621e+00\n",
      " * time: 17.565446853637695\n",
      "    58     3.141318e+01     8.951492e+00\n",
      " * time: 18.225416898727417\n",
      "    59     3.141317e+01     8.948354e+00\n",
      " * time: 18.958311796188354\n",
      "    60     3.140788e+01     4.911190e+00\n",
      " * time: 19.651620864868164\n",
      "    61     3.140221e+01     2.803782e+00\n",
      " * time: 19.67434287071228\n",
      "    62     3.140214e+01     2.818019e+00\n",
      " * time: 20.189706802368164\n",
      "    63     3.140212e+01     2.901220e+00\n",
      " * time: 20.96526598930359\n",
      "    64     3.140213e+01     2.901184e+00\n",
      " * time: 21.93603277206421\n",
      "    65     3.140213e+01     2.901143e+00\n",
      " * time: 22.637712955474854\n",
      "    66     3.140216e+01     2.629315e+00\n",
      " * time: 23.269051790237427\n",
      "    67     3.140184e+01     2.914922e+00\n",
      " * time: 23.88428783416748\n",
      "    68     3.140184e+01     2.914931e+00\n",
      " * time: 24.73139476776123\n",
      "    69     3.140185e+01     2.912191e+00\n",
      " * time: 25.41986083984375\n",
      "    70     3.140185e+01     2.912247e+00\n",
      " * time: 26.19450283050537\n",
      "    71     3.140183e+01     2.909767e+00\n",
      " * time: 26.799826860427856\n",
      "    72     3.140185e+01     2.904775e+00\n",
      " * time: 27.420243978500366\n",
      "    73     3.140185e+01     2.904775e+00\n",
      " * time: 28.200004816055298\n"
     ]
    },
    {
     "data": {
      "text/plain": [
       " * Status: success\n",
       "\n",
       " * Candidate solution\n",
       "    Final objective value:     3.140185e+01\n",
       "\n",
       " * Found with\n",
       "    Algorithm:     L-BFGS\n",
       "\n",
       " * Convergence measures\n",
       "    |x - x'|               = 0.00e+00 ≤ 0.0e+00\n",
       "    |x - x'|/|x'|          = 0.00e+00 ≤ 0.0e+00\n",
       "    |f(x) - f(x')|         = 0.00e+00 ≤ 0.0e+00\n",
       "    |f(x) - f(x')|/|f(x')| = 0.00e+00 ≤ 1.0e-12\n",
       "    |g(x)|                 = 2.90e+00 ≰ 1.0e-08\n",
       "\n",
       " * Work counters\n",
       "    Seconds run:   28  (vs limit Inf)\n",
       "    Iterations:    73\n",
       "    f(x) calls:    2245\n",
       "    ∇f(x) calls:   2245\n"
      ]
     },
     "execution_count": 253,
     "metadata": {},
     "output_type": "execute_result"
    }
   ],
   "source": [
    "using Optim\n",
    "\n",
    "res = optimize(f, randn(12), LBFGS(), Optim.Options(store_trace = true, show_trace = true, f_tol=1e-12), autodiff=:forward)"
   ]
  },
  {
   "cell_type": "code",
   "execution_count": 254,
   "id": "taken-shannon",
   "metadata": {},
   "outputs": [
    {
     "data": {
      "text/plain": [
       "dat_to_col (generic function with 1 method)"
      ]
     },
     "execution_count": 254,
     "metadata": {},
     "output_type": "execute_result"
    }
   ],
   "source": [
    "dat_to_col(data) = map(x -> x == 1 ? \"red\" : \"blue\", Int64.(data))"
   ]
  },
  {
   "cell_type": "code",
   "execution_count": 255,
   "id": "collective-sleeping",
   "metadata": {
    "tags": []
   },
   "outputs": [
    {
     "data": {
      "image/svg+xml": [
       "<?xml version=\"1.0\" encoding=\"utf-8\"?>\n",
       "<svg xmlns=\"http://www.w3.org/2000/svg\" xmlns:xlink=\"http://www.w3.org/1999/xlink\" width=\"1600\" height=\"400\" viewBox=\"0 0 6400 1600\">\n",
       "<defs>\n",
       "  <clipPath id=\"clip810\">\n",
       "    <rect x=\"0\" y=\"0\" width=\"6400\" height=\"1600\"/>\n",
       "  </clipPath>\n",
       "</defs>\n",
       "<path clip-path=\"url(#clip810)\" d=\"\n",
       "M0 1600 L6400 1600 L6400 0 L0 0  Z\n",
       "  \" fill=\"#ffffff\" fill-rule=\"evenodd\" fill-opacity=\"1\"/>\n",
       "<defs>\n",
       "  <clipPath id=\"clip811\">\n",
       "    <rect x=\"1280\" y=\"0\" width=\"4481\" height=\"1600\"/>\n",
       "  </clipPath>\n",
       "</defs>\n",
       "<path clip-path=\"url(#clip810)\" d=\"\n",
       "M226.274 1508.05 L2123.72 1508.05 L2123.72 47.2441 L226.274 47.2441  Z\n",
       "  \" fill=\"#ffffff\" fill-rule=\"evenodd\" fill-opacity=\"1\"/>\n",
       "<defs>\n",
       "  <clipPath id=\"clip812\">\n",
       "    <rect x=\"226\" y=\"47\" width=\"1898\" height=\"1462\"/>\n",
       "  </clipPath>\n",
       "</defs>\n",
       "<polyline clip-path=\"url(#clip812)\" style=\"stroke:#000000; stroke-linecap:butt; stroke-linejoin:round; stroke-width:2; stroke-opacity:0.1; fill:none\" points=\"\n",
       "  312.841,1508.05 312.841,47.2441 \n",
       "  \"/>\n",
       "<polyline clip-path=\"url(#clip812)\" style=\"stroke:#000000; stroke-linecap:butt; stroke-linejoin:round; stroke-width:2; stroke-opacity:0.1; fill:none\" points=\"\n",
       "  740.448,1508.05 740.448,47.2441 \n",
       "  \"/>\n",
       "<polyline clip-path=\"url(#clip812)\" style=\"stroke:#000000; stroke-linecap:butt; stroke-linejoin:round; stroke-width:2; stroke-opacity:0.1; fill:none\" points=\"\n",
       "  1168.05,1508.05 1168.05,47.2441 \n",
       "  \"/>\n",
       "<polyline clip-path=\"url(#clip812)\" style=\"stroke:#000000; stroke-linecap:butt; stroke-linejoin:round; stroke-width:2; stroke-opacity:0.1; fill:none\" points=\"\n",
       "  1595.66,1508.05 1595.66,47.2441 \n",
       "  \"/>\n",
       "<polyline clip-path=\"url(#clip812)\" style=\"stroke:#000000; stroke-linecap:butt; stroke-linejoin:round; stroke-width:2; stroke-opacity:0.1; fill:none\" points=\"\n",
       "  2023.27,1508.05 2023.27,47.2441 \n",
       "  \"/>\n",
       "<polyline clip-path=\"url(#clip810)\" style=\"stroke:#000000; stroke-linecap:butt; stroke-linejoin:round; stroke-width:4; stroke-opacity:1; fill:none\" points=\"\n",
       "  226.274,1508.05 2123.72,1508.05 \n",
       "  \"/>\n",
       "<polyline clip-path=\"url(#clip810)\" style=\"stroke:#000000; stroke-linecap:butt; stroke-linejoin:round; stroke-width:4; stroke-opacity:1; fill:none\" points=\"\n",
       "  312.841,1508.05 312.841,1489.15 \n",
       "  \"/>\n",
       "<polyline clip-path=\"url(#clip810)\" style=\"stroke:#000000; stroke-linecap:butt; stroke-linejoin:round; stroke-width:4; stroke-opacity:1; fill:none\" points=\"\n",
       "  740.448,1508.05 740.448,1489.15 \n",
       "  \"/>\n",
       "<polyline clip-path=\"url(#clip810)\" style=\"stroke:#000000; stroke-linecap:butt; stroke-linejoin:round; stroke-width:4; stroke-opacity:1; fill:none\" points=\"\n",
       "  1168.05,1508.05 1168.05,1489.15 \n",
       "  \"/>\n",
       "<polyline clip-path=\"url(#clip810)\" style=\"stroke:#000000; stroke-linecap:butt; stroke-linejoin:round; stroke-width:4; stroke-opacity:1; fill:none\" points=\"\n",
       "  1595.66,1508.05 1595.66,1489.15 \n",
       "  \"/>\n",
       "<polyline clip-path=\"url(#clip810)\" style=\"stroke:#000000; stroke-linecap:butt; stroke-linejoin:round; stroke-width:4; stroke-opacity:1; fill:none\" points=\"\n",
       "  2023.27,1508.05 2023.27,1489.15 \n",
       "  \"/>\n",
       "<path clip-path=\"url(#clip810)\" d=\"M290.723 1569.24 Q287.112 1569.24 285.283 1572.8 Q283.478 1576.35 283.478 1583.47 Q283.478 1590.58 285.283 1594.15 Q287.112 1597.69 290.723 1597.69 Q294.357 1597.69 296.163 1594.15 Q297.992 1590.58 297.992 1583.47 Q297.992 1576.35 296.163 1572.8 Q294.357 1569.24 290.723 1569.24 M290.723 1565.53 Q296.533 1565.53 299.589 1570.14 Q302.668 1574.72 302.668 1583.47 Q302.668 1592.2 299.589 1596.81 Q296.533 1601.39 290.723 1601.39 Q284.913 1601.39 281.834 1596.81 Q278.779 1592.2 278.779 1583.47 Q278.779 1574.72 281.834 1570.14 Q284.913 1565.53 290.723 1565.53 Z\" fill=\"#000000\" fill-rule=\"evenodd\" fill-opacity=\"1\" /><path clip-path=\"url(#clip810)\" d=\"M310.885 1594.84 L315.769 1594.84 L315.769 1600.72 L310.885 1600.72 L310.885 1594.84 Z\" fill=\"#000000\" fill-rule=\"evenodd\" fill-opacity=\"1\" /><path clip-path=\"url(#clip810)\" d=\"M326.001 1566.16 L344.357 1566.16 L344.357 1570.1 L330.283 1570.1 L330.283 1578.57 Q331.302 1578.22 332.32 1578.06 Q333.339 1577.87 334.357 1577.87 Q340.144 1577.87 343.524 1581.04 Q346.903 1584.22 346.903 1589.63 Q346.903 1595.21 343.431 1598.31 Q339.959 1601.39 333.64 1601.39 Q331.464 1601.39 329.195 1601.02 Q326.95 1600.65 324.543 1599.91 L324.543 1595.21 Q326.626 1596.34 328.848 1596.9 Q331.07 1597.46 333.547 1597.46 Q337.552 1597.46 339.89 1595.35 Q342.228 1593.24 342.228 1589.63 Q342.228 1586.02 339.89 1583.91 Q337.552 1581.81 333.547 1581.81 Q331.672 1581.81 329.797 1582.22 Q327.945 1582.64 326.001 1583.52 L326.001 1566.16 Z\" fill=\"#000000\" fill-rule=\"evenodd\" fill-opacity=\"1\" /><path clip-path=\"url(#clip810)\" d=\"M707.601 1596.78 L715.24 1596.78 L715.24 1570.42 L706.93 1572.09 L706.93 1567.83 L715.194 1566.16 L719.869 1566.16 L719.869 1596.78 L727.508 1596.78 L727.508 1600.72 L707.601 1600.72 L707.601 1596.78 Z\" fill=\"#000000\" fill-rule=\"evenodd\" fill-opacity=\"1\" /><path clip-path=\"url(#clip810)\" d=\"M736.953 1594.84 L741.837 1594.84 L741.837 1600.72 L736.953 1600.72 L736.953 1594.84 Z\" fill=\"#000000\" fill-rule=\"evenodd\" fill-opacity=\"1\" /><path clip-path=\"url(#clip810)\" d=\"M762.022 1569.24 Q758.411 1569.24 756.582 1572.8 Q754.777 1576.35 754.777 1583.47 Q754.777 1590.58 756.582 1594.15 Q758.411 1597.69 762.022 1597.69 Q765.656 1597.69 767.462 1594.15 Q769.29 1590.58 769.29 1583.47 Q769.29 1576.35 767.462 1572.8 Q765.656 1569.24 762.022 1569.24 M762.022 1565.53 Q767.832 1565.53 770.888 1570.14 Q773.966 1574.72 773.966 1583.47 Q773.966 1592.2 770.888 1596.81 Q767.832 1601.39 762.022 1601.39 Q756.212 1601.39 753.133 1596.81 Q750.078 1592.2 750.078 1583.47 Q750.078 1574.72 753.133 1570.14 Q756.212 1565.53 762.022 1565.53 Z\" fill=\"#000000\" fill-rule=\"evenodd\" fill-opacity=\"1\" /><path clip-path=\"url(#clip810)\" d=\"M1135.71 1596.78 L1143.34 1596.78 L1143.34 1570.42 L1135.03 1572.09 L1135.03 1567.83 L1143.3 1566.16 L1147.97 1566.16 L1147.97 1596.78 L1155.61 1596.78 L1155.61 1600.72 L1135.71 1600.72 L1135.71 1596.78 Z\" fill=\"#000000\" fill-rule=\"evenodd\" fill-opacity=\"1\" /><path clip-path=\"url(#clip810)\" d=\"M1165.06 1594.84 L1169.94 1594.84 L1169.94 1600.72 L1165.06 1600.72 L1165.06 1594.84 Z\" fill=\"#000000\" fill-rule=\"evenodd\" fill-opacity=\"1\" /><path clip-path=\"url(#clip810)\" d=\"M1180.17 1566.16 L1198.53 1566.16 L1198.53 1570.1 L1184.46 1570.1 L1184.46 1578.57 Q1185.47 1578.22 1186.49 1578.06 Q1187.51 1577.87 1188.53 1577.87 Q1194.32 1577.87 1197.7 1581.04 Q1201.08 1584.22 1201.08 1589.63 Q1201.08 1595.21 1197.6 1598.31 Q1194.13 1601.39 1187.81 1601.39 Q1185.64 1601.39 1183.37 1601.02 Q1181.12 1600.65 1178.71 1599.91 L1178.71 1595.21 Q1180.8 1596.34 1183.02 1596.9 Q1185.24 1597.46 1187.72 1597.46 Q1191.72 1597.46 1194.06 1595.35 Q1196.4 1593.24 1196.4 1589.63 Q1196.4 1586.02 1194.06 1583.91 Q1191.72 1581.81 1187.72 1581.81 Q1185.84 1581.81 1183.97 1582.22 Q1182.12 1582.64 1180.17 1583.52 L1180.17 1566.16 Z\" fill=\"#000000\" fill-rule=\"evenodd\" fill-opacity=\"1\" /><path clip-path=\"url(#clip810)\" d=\"M1566.9 1596.78 L1583.22 1596.78 L1583.22 1600.72 L1561.28 1600.72 L1561.28 1596.78 Q1563.94 1594.03 1568.52 1589.4 Q1573.13 1584.75 1574.31 1583.41 Q1576.55 1580.88 1577.43 1579.15 Q1578.34 1577.39 1578.34 1575.7 Q1578.34 1572.94 1576.39 1571.21 Q1574.47 1569.47 1571.37 1569.47 Q1569.17 1569.47 1566.72 1570.23 Q1564.28 1571 1561.51 1572.55 L1561.51 1567.83 Q1564.33 1566.69 1566.78 1566.11 Q1569.24 1565.53 1571.28 1565.53 Q1576.65 1565.53 1579.84 1568.22 Q1583.03 1570.91 1583.03 1575.4 Q1583.03 1577.53 1582.22 1579.45 Q1581.44 1581.34 1579.33 1583.94 Q1578.75 1584.61 1575.65 1587.83 Q1572.55 1591.02 1566.9 1596.78 Z\" fill=\"#000000\" fill-rule=\"evenodd\" fill-opacity=\"1\" /><path clip-path=\"url(#clip810)\" d=\"M1593.03 1594.84 L1597.92 1594.84 L1597.92 1600.72 L1593.03 1600.72 L1593.03 1594.84 Z\" fill=\"#000000\" fill-rule=\"evenodd\" fill-opacity=\"1\" /><path clip-path=\"url(#clip810)\" d=\"M1618.1 1569.24 Q1614.49 1569.24 1612.66 1572.8 Q1610.86 1576.35 1610.86 1583.47 Q1610.86 1590.58 1612.66 1594.15 Q1614.49 1597.69 1618.1 1597.69 Q1621.74 1597.69 1623.54 1594.15 Q1625.37 1590.58 1625.37 1583.47 Q1625.37 1576.35 1623.54 1572.8 Q1621.74 1569.24 1618.1 1569.24 M1618.1 1565.53 Q1623.91 1565.53 1626.97 1570.14 Q1630.05 1574.72 1630.05 1583.47 Q1630.05 1592.2 1626.97 1596.81 Q1623.91 1601.39 1618.1 1601.39 Q1612.29 1601.39 1609.22 1596.81 Q1606.16 1592.2 1606.16 1583.47 Q1606.16 1574.72 1609.22 1570.14 Q1612.29 1565.53 1618.1 1565.53 Z\" fill=\"#000000\" fill-rule=\"evenodd\" fill-opacity=\"1\" /><path clip-path=\"url(#clip810)\" d=\"M1995 1596.78 L2011.32 1596.78 L2011.32 1600.72 L1989.38 1600.72 L1989.38 1596.78 Q1992.04 1594.03 1996.63 1589.4 Q2001.23 1584.75 2002.41 1583.41 Q2004.66 1580.88 2005.54 1579.15 Q2006.44 1577.39 2006.44 1575.7 Q2006.44 1572.94 2004.5 1571.21 Q2002.57 1569.47 1999.47 1569.47 Q1997.27 1569.47 1994.82 1570.23 Q1992.39 1571 1989.61 1572.55 L1989.61 1567.83 Q1992.44 1566.69 1994.89 1566.11 Q1997.34 1565.53 1999.38 1565.53 Q2004.75 1565.53 2007.94 1568.22 Q2011.14 1570.91 2011.14 1575.4 Q2011.14 1577.53 2010.33 1579.45 Q2009.54 1581.34 2007.44 1583.94 Q2006.86 1584.61 2003.75 1587.83 Q2000.65 1591.02 1995 1596.78 Z\" fill=\"#000000\" fill-rule=\"evenodd\" fill-opacity=\"1\" /><path clip-path=\"url(#clip810)\" d=\"M2021.14 1594.84 L2026.02 1594.84 L2026.02 1600.72 L2021.14 1600.72 L2021.14 1594.84 Z\" fill=\"#000000\" fill-rule=\"evenodd\" fill-opacity=\"1\" /><path clip-path=\"url(#clip810)\" d=\"M2036.25 1566.16 L2054.61 1566.16 L2054.61 1570.1 L2040.54 1570.1 L2040.54 1578.57 Q2041.56 1578.22 2042.57 1578.06 Q2043.59 1577.87 2044.61 1577.87 Q2050.4 1577.87 2053.78 1581.04 Q2057.16 1584.22 2057.16 1589.63 Q2057.16 1595.21 2053.69 1598.31 Q2050.21 1601.39 2043.89 1601.39 Q2041.72 1601.39 2039.45 1601.02 Q2037.2 1600.65 2034.8 1599.91 L2034.8 1595.21 Q2036.88 1596.34 2039.1 1596.9 Q2041.32 1597.46 2043.8 1597.46 Q2047.81 1597.46 2050.14 1595.35 Q2052.48 1593.24 2052.48 1589.63 Q2052.48 1586.02 2050.14 1583.91 Q2047.81 1581.81 2043.8 1581.81 Q2041.93 1581.81 2040.05 1582.22 Q2038.2 1582.64 2036.25 1583.52 L2036.25 1566.16 Z\" fill=\"#000000\" fill-rule=\"evenodd\" fill-opacity=\"1\" /><polyline clip-path=\"url(#clip812)\" style=\"stroke:#000000; stroke-linecap:butt; stroke-linejoin:round; stroke-width:2; stroke-opacity:0.1; fill:none\" points=\"\n",
       "  226.274,1395.55 2123.72,1395.55 \n",
       "  \"/>\n",
       "<polyline clip-path=\"url(#clip812)\" style=\"stroke:#000000; stroke-linecap:butt; stroke-linejoin:round; stroke-width:2; stroke-opacity:0.1; fill:none\" points=\"\n",
       "  226.274,1085.93 2123.72,1085.93 \n",
       "  \"/>\n",
       "<polyline clip-path=\"url(#clip812)\" style=\"stroke:#000000; stroke-linecap:butt; stroke-linejoin:round; stroke-width:2; stroke-opacity:0.1; fill:none\" points=\"\n",
       "  226.274,776.309 2123.72,776.309 \n",
       "  \"/>\n",
       "<polyline clip-path=\"url(#clip812)\" style=\"stroke:#000000; stroke-linecap:butt; stroke-linejoin:round; stroke-width:2; stroke-opacity:0.1; fill:none\" points=\"\n",
       "  226.274,466.689 2123.72,466.689 \n",
       "  \"/>\n",
       "<polyline clip-path=\"url(#clip812)\" style=\"stroke:#000000; stroke-linecap:butt; stroke-linejoin:round; stroke-width:2; stroke-opacity:0.1; fill:none\" points=\"\n",
       "  226.274,157.069 2123.72,157.069 \n",
       "  \"/>\n",
       "<polyline clip-path=\"url(#clip810)\" style=\"stroke:#000000; stroke-linecap:butt; stroke-linejoin:round; stroke-width:4; stroke-opacity:1; fill:none\" points=\"\n",
       "  226.274,1508.05 226.274,47.2441 \n",
       "  \"/>\n",
       "<polyline clip-path=\"url(#clip810)\" style=\"stroke:#000000; stroke-linecap:butt; stroke-linejoin:round; stroke-width:4; stroke-opacity:1; fill:none\" points=\"\n",
       "  226.274,1395.55 245.172,1395.55 \n",
       "  \"/>\n",
       "<polyline clip-path=\"url(#clip810)\" style=\"stroke:#000000; stroke-linecap:butt; stroke-linejoin:round; stroke-width:4; stroke-opacity:1; fill:none\" points=\"\n",
       "  226.274,1085.93 245.172,1085.93 \n",
       "  \"/>\n",
       "<polyline clip-path=\"url(#clip810)\" style=\"stroke:#000000; stroke-linecap:butt; stroke-linejoin:round; stroke-width:4; stroke-opacity:1; fill:none\" points=\"\n",
       "  226.274,776.309 245.172,776.309 \n",
       "  \"/>\n",
       "<polyline clip-path=\"url(#clip810)\" style=\"stroke:#000000; stroke-linecap:butt; stroke-linejoin:round; stroke-width:4; stroke-opacity:1; fill:none\" points=\"\n",
       "  226.274,466.689 245.172,466.689 \n",
       "  \"/>\n",
       "<polyline clip-path=\"url(#clip810)\" style=\"stroke:#000000; stroke-linecap:butt; stroke-linejoin:round; stroke-width:4; stroke-opacity:1; fill:none\" points=\"\n",
       "  226.274,157.069 245.172,157.069 \n",
       "  \"/>\n",
       "<path clip-path=\"url(#clip810)\" d=\"M42.9365 1381.35 Q39.3254 1381.35 37.4967 1384.91 Q35.6912 1388.45 35.6912 1395.58 Q35.6912 1402.69 37.4967 1406.26 Q39.3254 1409.8 42.9365 1409.8 Q46.5707 1409.8 48.3763 1406.26 Q50.205 1402.69 50.205 1395.58 Q50.205 1388.45 48.3763 1384.91 Q46.5707 1381.35 42.9365 1381.35 M42.9365 1377.64 Q48.7467 1377.64 51.8022 1382.25 Q54.8809 1386.83 54.8809 1395.58 Q54.8809 1404.31 51.8022 1408.92 Q48.7467 1413.5 42.9365 1413.5 Q37.1264 1413.5 34.0477 1408.92 Q30.9921 1404.31 30.9921 1395.58 Q30.9921 1386.83 34.0477 1382.25 Q37.1264 1377.64 42.9365 1377.64 Z\" fill=\"#000000\" fill-rule=\"evenodd\" fill-opacity=\"1\" /><path clip-path=\"url(#clip810)\" d=\"M63.0984 1406.95 L67.9827 1406.95 L67.9827 1412.83 L63.0984 1412.83 L63.0984 1406.95 Z\" fill=\"#000000\" fill-rule=\"evenodd\" fill-opacity=\"1\" /><path clip-path=\"url(#clip810)\" d=\"M88.1677 1381.35 Q84.5567 1381.35 82.728 1384.91 Q80.9224 1388.45 80.9224 1395.58 Q80.9224 1402.69 82.728 1406.26 Q84.5567 1409.8 88.1677 1409.8 Q91.802 1409.8 93.6075 1406.26 Q95.4362 1402.69 95.4362 1395.58 Q95.4362 1388.45 93.6075 1384.91 Q91.802 1381.35 88.1677 1381.35 M88.1677 1377.64 Q93.9779 1377.64 97.0334 1382.25 Q100.112 1386.83 100.112 1395.58 Q100.112 1404.31 97.0334 1408.92 Q93.9779 1413.5 88.1677 1413.5 Q82.3576 1413.5 79.2789 1408.92 Q76.2234 1404.31 76.2234 1395.58 Q76.2234 1386.83 79.2789 1382.25 Q82.3576 1377.64 88.1677 1377.64 Z\" fill=\"#000000\" fill-rule=\"evenodd\" fill-opacity=\"1\" /><path clip-path=\"url(#clip810)\" d=\"M118.33 1381.35 Q114.719 1381.35 112.89 1384.91 Q111.084 1388.45 111.084 1395.58 Q111.084 1402.69 112.89 1406.26 Q114.719 1409.8 118.33 1409.8 Q121.964 1409.8 123.769 1406.26 Q125.598 1402.69 125.598 1395.58 Q125.598 1388.45 123.769 1384.91 Q121.964 1381.35 118.33 1381.35 M118.33 1377.64 Q124.14 1377.64 127.195 1382.25 Q130.274 1386.83 130.274 1395.58 Q130.274 1404.31 127.195 1408.92 Q124.14 1413.5 118.33 1413.5 Q112.519 1413.5 109.441 1408.92 Q106.385 1404.31 106.385 1395.58 Q106.385 1386.83 109.441 1382.25 Q112.519 1377.64 118.33 1377.64 Z\" fill=\"#000000\" fill-rule=\"evenodd\" fill-opacity=\"1\" /><path clip-path=\"url(#clip810)\" d=\"M43.9319 1071.73 Q40.3208 1071.73 38.4921 1075.29 Q36.6865 1078.83 36.6865 1085.96 Q36.6865 1093.07 38.4921 1096.64 Q40.3208 1100.18 43.9319 1100.18 Q47.5661 1100.18 49.3717 1096.64 Q51.2004 1093.07 51.2004 1085.96 Q51.2004 1078.83 49.3717 1075.29 Q47.5661 1071.73 43.9319 1071.73 M43.9319 1068.02 Q49.742 1068.02 52.7976 1072.63 Q55.8763 1077.21 55.8763 1085.96 Q55.8763 1094.69 52.7976 1099.3 Q49.742 1103.88 43.9319 1103.88 Q38.1217 1103.88 35.043 1099.3 Q31.9875 1094.69 31.9875 1085.96 Q31.9875 1077.21 35.043 1072.63 Q38.1217 1068.02 43.9319 1068.02 Z\" fill=\"#000000\" fill-rule=\"evenodd\" fill-opacity=\"1\" /><path clip-path=\"url(#clip810)\" d=\"M64.0938 1097.33 L68.978 1097.33 L68.978 1103.21 L64.0938 1103.21 L64.0938 1097.33 Z\" fill=\"#000000\" fill-rule=\"evenodd\" fill-opacity=\"1\" /><path clip-path=\"url(#clip810)\" d=\"M83.1909 1099.27 L99.5103 1099.27 L99.5103 1103.21 L77.566 1103.21 L77.566 1099.27 Q80.228 1096.52 84.8113 1091.89 Q89.4177 1087.24 90.5983 1085.89 Q92.8436 1083.37 93.7233 1081.64 Q94.626 1079.88 94.626 1078.19 Q94.626 1075.43 92.6816 1073.7 Q90.7603 1071.96 87.6585 1071.96 Q85.4594 1071.96 83.0057 1072.72 Q80.5752 1073.49 77.7974 1075.04 L77.7974 1070.32 Q80.6215 1069.18 83.0752 1068.6 Q85.5289 1068.02 87.5659 1068.02 Q92.9362 1068.02 96.1307 1070.71 Q99.3251 1073.39 99.3251 1077.89 Q99.3251 1080.01 98.5149 1081.94 Q97.7279 1083.83 95.6214 1086.43 Q95.0427 1087.1 91.9409 1090.32 Q88.839 1093.51 83.1909 1099.27 Z\" fill=\"#000000\" fill-rule=\"evenodd\" fill-opacity=\"1\" /><path clip-path=\"url(#clip810)\" d=\"M109.371 1068.65 L127.728 1068.65 L127.728 1072.58 L113.654 1072.58 L113.654 1081.06 Q114.672 1080.71 115.691 1080.55 Q116.709 1080.36 117.728 1080.36 Q123.515 1080.36 126.894 1083.53 Q130.274 1086.7 130.274 1092.12 Q130.274 1097.7 126.802 1100.8 Q123.33 1103.88 117.01 1103.88 Q114.834 1103.88 112.566 1103.51 Q110.32 1103.14 107.913 1102.4 L107.913 1097.7 Q109.996 1098.83 112.219 1099.39 Q114.441 1099.95 116.918 1099.95 Q120.922 1099.95 123.26 1097.84 Q125.598 1095.73 125.598 1092.12 Q125.598 1088.51 123.26 1086.4 Q120.922 1084.3 116.918 1084.3 Q115.043 1084.3 113.168 1084.71 Q111.316 1085.13 109.371 1086.01 L109.371 1068.65 Z\" fill=\"#000000\" fill-rule=\"evenodd\" fill-opacity=\"1\" /><path clip-path=\"url(#clip810)\" d=\"M42.9365 762.108 Q39.3254 762.108 37.4967 765.672 Q35.6912 769.214 35.6912 776.344 Q35.6912 783.45 37.4967 787.015 Q39.3254 790.557 42.9365 790.557 Q46.5707 790.557 48.3763 787.015 Q50.205 783.45 50.205 776.344 Q50.205 769.214 48.3763 765.672 Q46.5707 762.108 42.9365 762.108 M42.9365 758.404 Q48.7467 758.404 51.8022 763.01 Q54.8809 767.594 54.8809 776.344 Q54.8809 785.07 51.8022 789.677 Q48.7467 794.26 42.9365 794.26 Q37.1264 794.26 34.0477 789.677 Q30.9921 785.07 30.9921 776.344 Q30.9921 767.594 34.0477 763.01 Q37.1264 758.404 42.9365 758.404 Z\" fill=\"#000000\" fill-rule=\"evenodd\" fill-opacity=\"1\" /><path clip-path=\"url(#clip810)\" d=\"M63.0984 787.709 L67.9827 787.709 L67.9827 793.589 L63.0984 793.589 L63.0984 787.709 Z\" fill=\"#000000\" fill-rule=\"evenodd\" fill-opacity=\"1\" /><path clip-path=\"url(#clip810)\" d=\"M78.2141 759.029 L96.5705 759.029 L96.5705 762.964 L82.4965 762.964 L82.4965 771.436 Q83.515 771.089 84.5335 770.927 Q85.552 770.742 86.5705 770.742 Q92.3575 770.742 95.7371 773.913 Q99.1168 777.084 99.1168 782.501 Q99.1168 788.08 95.6446 791.182 Q92.1724 794.26 85.8529 794.26 Q83.677 794.26 81.4085 793.89 Q79.1632 793.52 76.7558 792.779 L76.7558 788.08 Q78.8391 789.214 81.0613 789.77 Q83.2835 790.325 85.7604 790.325 Q89.765 790.325 92.1029 788.219 Q94.4409 786.112 94.4409 782.501 Q94.4409 778.89 92.1029 776.784 Q89.765 774.677 85.7604 774.677 Q83.8854 774.677 82.0104 775.094 Q80.1585 775.51 78.2141 776.39 L78.2141 759.029 Z\" fill=\"#000000\" fill-rule=\"evenodd\" fill-opacity=\"1\" /><path clip-path=\"url(#clip810)\" d=\"M118.33 762.108 Q114.719 762.108 112.89 765.672 Q111.084 769.214 111.084 776.344 Q111.084 783.45 112.89 787.015 Q114.719 790.557 118.33 790.557 Q121.964 790.557 123.769 787.015 Q125.598 783.45 125.598 776.344 Q125.598 769.214 123.769 765.672 Q121.964 762.108 118.33 762.108 M118.33 758.404 Q124.14 758.404 127.195 763.01 Q130.274 767.594 130.274 776.344 Q130.274 785.07 127.195 789.677 Q124.14 794.26 118.33 794.26 Q112.519 794.26 109.441 789.677 Q106.385 785.07 106.385 776.344 Q106.385 767.594 109.441 763.01 Q112.519 758.404 118.33 758.404 Z\" fill=\"#000000\" fill-rule=\"evenodd\" fill-opacity=\"1\" /><path clip-path=\"url(#clip810)\" d=\"M43.9319 452.488 Q40.3208 452.488 38.4921 456.052 Q36.6865 459.594 36.6865 466.724 Q36.6865 473.83 38.4921 477.395 Q40.3208 480.936 43.9319 480.936 Q47.5661 480.936 49.3717 477.395 Q51.2004 473.83 51.2004 466.724 Q51.2004 459.594 49.3717 456.052 Q47.5661 452.488 43.9319 452.488 M43.9319 448.784 Q49.742 448.784 52.7976 453.39 Q55.8763 457.974 55.8763 466.724 Q55.8763 475.45 52.7976 480.057 Q49.742 484.64 43.9319 484.64 Q38.1217 484.64 35.043 480.057 Q31.9875 475.45 31.9875 466.724 Q31.9875 457.974 35.043 453.39 Q38.1217 448.784 43.9319 448.784 Z\" fill=\"#000000\" fill-rule=\"evenodd\" fill-opacity=\"1\" /><path clip-path=\"url(#clip810)\" d=\"M64.0938 478.089 L68.978 478.089 L68.978 483.969 L64.0938 483.969 L64.0938 478.089 Z\" fill=\"#000000\" fill-rule=\"evenodd\" fill-opacity=\"1\" /><path clip-path=\"url(#clip810)\" d=\"M77.9826 449.409 L100.205 449.409 L100.205 451.4 L87.6585 483.969 L82.7743 483.969 L94.5797 453.344 L77.9826 453.344 L77.9826 449.409 Z\" fill=\"#000000\" fill-rule=\"evenodd\" fill-opacity=\"1\" /><path clip-path=\"url(#clip810)\" d=\"M109.371 449.409 L127.728 449.409 L127.728 453.344 L113.654 453.344 L113.654 461.816 Q114.672 461.469 115.691 461.307 Q116.709 461.122 117.728 461.122 Q123.515 461.122 126.894 464.293 Q130.274 467.464 130.274 472.881 Q130.274 478.46 126.802 481.561 Q123.33 484.64 117.01 484.64 Q114.834 484.64 112.566 484.27 Q110.32 483.899 107.913 483.159 L107.913 478.46 Q109.996 479.594 112.219 480.149 Q114.441 480.705 116.918 480.705 Q120.922 480.705 123.26 478.599 Q125.598 476.492 125.598 472.881 Q125.598 469.27 123.26 467.163 Q120.922 465.057 116.918 465.057 Q115.043 465.057 113.168 465.474 Q111.316 465.89 109.371 466.77 L109.371 449.409 Z\" fill=\"#000000\" fill-rule=\"evenodd\" fill-opacity=\"1\" /><path clip-path=\"url(#clip810)\" d=\"M33.7467 170.414 L41.3856 170.414 L41.3856 144.048 L33.0754 145.715 L33.0754 141.455 L41.3393 139.789 L46.0152 139.789 L46.0152 170.414 L53.654 170.414 L53.654 174.349 L33.7467 174.349 L33.7467 170.414 Z\" fill=\"#000000\" fill-rule=\"evenodd\" fill-opacity=\"1\" /><path clip-path=\"url(#clip810)\" d=\"M63.0984 168.469 L67.9827 168.469 L67.9827 174.349 L63.0984 174.349 L63.0984 168.469 Z\" fill=\"#000000\" fill-rule=\"evenodd\" fill-opacity=\"1\" /><path clip-path=\"url(#clip810)\" d=\"M88.1677 142.867 Q84.5567 142.867 82.728 146.432 Q80.9224 149.974 80.9224 157.103 Q80.9224 164.21 82.728 167.775 Q84.5567 171.316 88.1677 171.316 Q91.802 171.316 93.6075 167.775 Q95.4362 164.21 95.4362 157.103 Q95.4362 149.974 93.6075 146.432 Q91.802 142.867 88.1677 142.867 M88.1677 139.164 Q93.9779 139.164 97.0334 143.77 Q100.112 148.353 100.112 157.103 Q100.112 165.83 97.0334 170.437 Q93.9779 175.02 88.1677 175.02 Q82.3576 175.02 79.2789 170.437 Q76.2234 165.83 76.2234 157.103 Q76.2234 148.353 79.2789 143.77 Q82.3576 139.164 88.1677 139.164 Z\" fill=\"#000000\" fill-rule=\"evenodd\" fill-opacity=\"1\" /><path clip-path=\"url(#clip810)\" d=\"M118.33 142.867 Q114.719 142.867 112.89 146.432 Q111.084 149.974 111.084 157.103 Q111.084 164.21 112.89 167.775 Q114.719 171.316 118.33 171.316 Q121.964 171.316 123.769 167.775 Q125.598 164.21 125.598 157.103 Q125.598 149.974 123.769 146.432 Q121.964 142.867 118.33 142.867 M118.33 139.164 Q124.14 139.164 127.195 143.77 Q130.274 148.353 130.274 157.103 Q130.274 165.83 127.195 170.437 Q124.14 175.02 118.33 175.02 Q112.519 175.02 109.441 170.437 Q106.385 165.83 106.385 157.103 Q106.385 148.353 109.441 143.77 Q112.519 139.164 118.33 139.164 Z\" fill=\"#000000\" fill-rule=\"evenodd\" fill-opacity=\"1\" /><circle clip-path=\"url(#clip812)\" cx=\"343.256\" cy=\"767.173\" r=\"14\" fill=\"#ff0000\" fill-rule=\"evenodd\" fill-opacity=\"1\" stroke=\"#000000\" stroke-opacity=\"1\" stroke-width=\"3.2\"/>\n",
       "<circle clip-path=\"url(#clip812)\" cx=\"644.472\" cy=\"1010.63\" r=\"14\" fill=\"#0000ff\" fill-rule=\"evenodd\" fill-opacity=\"1\" stroke=\"#000000\" stroke-opacity=\"1\" stroke-width=\"3.2\"/>\n",
       "<circle clip-path=\"url(#clip812)\" cx=\"683.16\" cy=\"1017.58\" r=\"14\" fill=\"#0000ff\" fill-rule=\"evenodd\" fill-opacity=\"1\" stroke=\"#000000\" stroke-opacity=\"1\" stroke-width=\"3.2\"/>\n",
       "<circle clip-path=\"url(#clip812)\" cx=\"627.223\" cy=\"1002.97\" r=\"14\" fill=\"#0000ff\" fill-rule=\"evenodd\" fill-opacity=\"1\" stroke=\"#000000\" stroke-opacity=\"1\" stroke-width=\"3.2\"/>\n",
       "<circle clip-path=\"url(#clip812)\" cx=\"649.042\" cy=\"1015.62\" r=\"14\" fill=\"#ff0000\" fill-rule=\"evenodd\" fill-opacity=\"1\" stroke=\"#000000\" stroke-opacity=\"1\" stroke-width=\"3.2\"/>\n",
       "<circle clip-path=\"url(#clip812)\" cx=\"610.444\" cy=\"1019.74\" r=\"14\" fill=\"#0000ff\" fill-rule=\"evenodd\" fill-opacity=\"1\" stroke=\"#000000\" stroke-opacity=\"1\" stroke-width=\"3.2\"/>\n",
       "<circle clip-path=\"url(#clip812)\" cx=\"611.489\" cy=\"1040.52\" r=\"14\" fill=\"#ff0000\" fill-rule=\"evenodd\" fill-opacity=\"1\" stroke=\"#000000\" stroke-opacity=\"1\" stroke-width=\"3.2\"/>\n",
       "<circle clip-path=\"url(#clip812)\" cx=\"655.528\" cy=\"970.689\" r=\"14\" fill=\"#ff0000\" fill-rule=\"evenodd\" fill-opacity=\"1\" stroke=\"#000000\" stroke-opacity=\"1\" stroke-width=\"3.2\"/>\n",
       "<circle clip-path=\"url(#clip812)\" cx=\"635.233\" cy=\"1048.7\" r=\"14\" fill=\"#0000ff\" fill-rule=\"evenodd\" fill-opacity=\"1\" stroke=\"#000000\" stroke-opacity=\"1\" stroke-width=\"3.2\"/>\n",
       "<circle clip-path=\"url(#clip812)\" cx=\"673.407\" cy=\"1034.76\" r=\"14\" fill=\"#ff0000\" fill-rule=\"evenodd\" fill-opacity=\"1\" stroke=\"#000000\" stroke-opacity=\"1\" stroke-width=\"3.2\"/>\n",
       "<circle clip-path=\"url(#clip812)\" cx=\"739.639\" cy=\"1383.54\" r=\"14\" fill=\"#ff0000\" fill-rule=\"evenodd\" fill-opacity=\"1\" stroke=\"#000000\" stroke-opacity=\"1\" stroke-width=\"3.2\"/>\n",
       "<circle clip-path=\"url(#clip812)\" cx=\"746.502\" cy=\"1437.77\" r=\"14\" fill=\"#0000ff\" fill-rule=\"evenodd\" fill-opacity=\"1\" stroke=\"#000000\" stroke-opacity=\"1\" stroke-width=\"3.2\"/>\n",
       "<circle clip-path=\"url(#clip812)\" cx=\"730.676\" cy=\"1410.26\" r=\"14\" fill=\"#0000ff\" fill-rule=\"evenodd\" fill-opacity=\"1\" stroke=\"#000000\" stroke-opacity=\"1\" stroke-width=\"3.2\"/>\n",
       "<circle clip-path=\"url(#clip812)\" cx=\"746.268\" cy=\"1403.55\" r=\"14\" fill=\"#ff0000\" fill-rule=\"evenodd\" fill-opacity=\"1\" stroke=\"#000000\" stroke-opacity=\"1\" stroke-width=\"3.2\"/>\n",
       "<circle clip-path=\"url(#clip812)\" cx=\"743.504\" cy=\"1370.86\" r=\"14\" fill=\"#ff0000\" fill-rule=\"evenodd\" fill-opacity=\"1\" stroke=\"#000000\" stroke-opacity=\"1\" stroke-width=\"3.2\"/>\n",
       "<circle clip-path=\"url(#clip812)\" cx=\"1588.26\" cy=\"175.723\" r=\"14\" fill=\"#0000ff\" fill-rule=\"evenodd\" fill-opacity=\"1\" stroke=\"#000000\" stroke-opacity=\"1\" stroke-width=\"3.2\"/>\n",
       "<circle clip-path=\"url(#clip812)\" cx=\"1624.44\" cy=\"132.343\" r=\"14\" fill=\"#0000ff\" fill-rule=\"evenodd\" fill-opacity=\"1\" stroke=\"#000000\" stroke-opacity=\"1\" stroke-width=\"3.2\"/>\n",
       "<circle clip-path=\"url(#clip812)\" cx=\"2070.02\" cy=\"166.058\" r=\"14\" fill=\"#0000ff\" fill-rule=\"evenodd\" fill-opacity=\"1\" stroke=\"#000000\" stroke-opacity=\"1\" stroke-width=\"3.2\"/>\n",
       "<circle clip-path=\"url(#clip812)\" cx=\"2048.15\" cy=\"194.964\" r=\"14\" fill=\"#ff0000\" fill-rule=\"evenodd\" fill-opacity=\"1\" stroke=\"#000000\" stroke-opacity=\"1\" stroke-width=\"3.2\"/>\n",
       "<circle clip-path=\"url(#clip812)\" cx=\"1986.22\" cy=\"88.5876\" r=\"14\" fill=\"#0000ff\" fill-rule=\"evenodd\" fill-opacity=\"1\" stroke=\"#000000\" stroke-opacity=\"1\" stroke-width=\"3.2\"/>\n",
       "<circle clip-path=\"url(#clip812)\" cx=\"307.723\" cy=\"732.814\" r=\"14\" fill=\"#ff0000\" fill-rule=\"evenodd\" fill-opacity=\"1\" stroke=\"#000000\" stroke-opacity=\"1\" stroke-width=\"3.2\"/>\n",
       "<circle clip-path=\"url(#clip812)\" cx=\"648.434\" cy=\"991.419\" r=\"14\" fill=\"#0000ff\" fill-rule=\"evenodd\" fill-opacity=\"1\" stroke=\"#000000\" stroke-opacity=\"1\" stroke-width=\"3.2\"/>\n",
       "<circle clip-path=\"url(#clip812)\" cx=\"671.423\" cy=\"1000.75\" r=\"14\" fill=\"#0000ff\" fill-rule=\"evenodd\" fill-opacity=\"1\" stroke=\"#000000\" stroke-opacity=\"1\" stroke-width=\"3.2\"/>\n",
       "<circle clip-path=\"url(#clip812)\" cx=\"649.652\" cy=\"1014.25\" r=\"14\" fill=\"#0000ff\" fill-rule=\"evenodd\" fill-opacity=\"1\" stroke=\"#000000\" stroke-opacity=\"1\" stroke-width=\"3.2\"/>\n",
       "<circle clip-path=\"url(#clip812)\" cx=\"641.639\" cy=\"1004.85\" r=\"14\" fill=\"#ff0000\" fill-rule=\"evenodd\" fill-opacity=\"1\" stroke=\"#000000\" stroke-opacity=\"1\" stroke-width=\"3.2\"/>\n",
       "<circle clip-path=\"url(#clip812)\" cx=\"626.628\" cy=\"978.854\" r=\"14\" fill=\"#0000ff\" fill-rule=\"evenodd\" fill-opacity=\"1\" stroke=\"#000000\" stroke-opacity=\"1\" stroke-width=\"3.2\"/>\n",
       "<circle clip-path=\"url(#clip812)\" cx=\"625.222\" cy=\"1060.55\" r=\"14\" fill=\"#ff0000\" fill-rule=\"evenodd\" fill-opacity=\"1\" stroke=\"#000000\" stroke-opacity=\"1\" stroke-width=\"3.2\"/>\n",
       "<circle clip-path=\"url(#clip812)\" cx=\"662.617\" cy=\"1077.61\" r=\"14\" fill=\"#ff0000\" fill-rule=\"evenodd\" fill-opacity=\"1\" stroke=\"#000000\" stroke-opacity=\"1\" stroke-width=\"3.2\"/>\n",
       "<circle clip-path=\"url(#clip812)\" cx=\"667.602\" cy=\"979.456\" r=\"14\" fill=\"#0000ff\" fill-rule=\"evenodd\" fill-opacity=\"1\" stroke=\"#000000\" stroke-opacity=\"1\" stroke-width=\"3.2\"/>\n",
       "<circle clip-path=\"url(#clip812)\" cx=\"686.842\" cy=\"1018.58\" r=\"14\" fill=\"#ff0000\" fill-rule=\"evenodd\" fill-opacity=\"1\" stroke=\"#000000\" stroke-opacity=\"1\" stroke-width=\"3.2\"/>\n",
       "<circle clip-path=\"url(#clip812)\" cx=\"774.682\" cy=\"1386.17\" r=\"14\" fill=\"#ff0000\" fill-rule=\"evenodd\" fill-opacity=\"1\" stroke=\"#000000\" stroke-opacity=\"1\" stroke-width=\"3.2\"/>\n",
       "<circle clip-path=\"url(#clip812)\" cx=\"706.932\" cy=\"1405.84\" r=\"14\" fill=\"#0000ff\" fill-rule=\"evenodd\" fill-opacity=\"1\" stroke=\"#000000\" stroke-opacity=\"1\" stroke-width=\"3.2\"/>\n",
       "<circle clip-path=\"url(#clip812)\" cx=\"676.817\" cy=\"1364.31\" r=\"14\" fill=\"#0000ff\" fill-rule=\"evenodd\" fill-opacity=\"1\" stroke=\"#000000\" stroke-opacity=\"1\" stroke-width=\"3.2\"/>\n",
       "<circle clip-path=\"url(#clip812)\" cx=\"735.543\" cy=\"1466.7\" r=\"14\" fill=\"#ff0000\" fill-rule=\"evenodd\" fill-opacity=\"1\" stroke=\"#000000\" stroke-opacity=\"1\" stroke-width=\"3.2\"/>\n",
       "<circle clip-path=\"url(#clip812)\" cx=\"710.324\" cy=\"1397.21\" r=\"14\" fill=\"#ff0000\" fill-rule=\"evenodd\" fill-opacity=\"1\" stroke=\"#000000\" stroke-opacity=\"1\" stroke-width=\"3.2\"/>\n",
       "<circle clip-path=\"url(#clip812)\" cx=\"1590.62\" cy=\"151.41\" r=\"14\" fill=\"#0000ff\" fill-rule=\"evenodd\" fill-opacity=\"1\" stroke=\"#000000\" stroke-opacity=\"1\" stroke-width=\"3.2\"/>\n",
       "<circle clip-path=\"url(#clip812)\" cx=\"1630.2\" cy=\"216.994\" r=\"14\" fill=\"#0000ff\" fill-rule=\"evenodd\" fill-opacity=\"1\" stroke=\"#000000\" stroke-opacity=\"1\" stroke-width=\"3.2\"/>\n",
       "<circle clip-path=\"url(#clip812)\" cx=\"2058.33\" cy=\"103.472\" r=\"14\" fill=\"#0000ff\" fill-rule=\"evenodd\" fill-opacity=\"1\" stroke=\"#000000\" stroke-opacity=\"1\" stroke-width=\"3.2\"/>\n",
       "<circle clip-path=\"url(#clip812)\" cx=\"2026.56\" cy=\"149.185\" r=\"14\" fill=\"#ff0000\" fill-rule=\"evenodd\" fill-opacity=\"1\" stroke=\"#000000\" stroke-opacity=\"1\" stroke-width=\"3.2\"/>\n",
       "<circle clip-path=\"url(#clip812)\" cx=\"2032.71\" cy=\"124.275\" r=\"14\" fill=\"#0000ff\" fill-rule=\"evenodd\" fill-opacity=\"1\" stroke=\"#000000\" stroke-opacity=\"1\" stroke-width=\"3.2\"/>\n",
       "<circle clip-path=\"url(#clip812)\" cx=\"279.975\" cy=\"797.019\" r=\"14\" fill=\"#ff0000\" fill-rule=\"evenodd\" fill-opacity=\"1\" stroke=\"#000000\" stroke-opacity=\"1\" stroke-width=\"3.2\"/>\n",
       "<circle clip-path=\"url(#clip812)\" cx=\"670.558\" cy=\"1062.32\" r=\"14\" fill=\"#0000ff\" fill-rule=\"evenodd\" fill-opacity=\"1\" stroke=\"#000000\" stroke-opacity=\"1\" stroke-width=\"3.2\"/>\n",
       "<circle clip-path=\"url(#clip812)\" cx=\"667.773\" cy=\"1007.73\" r=\"14\" fill=\"#0000ff\" fill-rule=\"evenodd\" fill-opacity=\"1\" stroke=\"#000000\" stroke-opacity=\"1\" stroke-width=\"3.2\"/>\n",
       "<circle clip-path=\"url(#clip812)\" cx=\"696.099\" cy=\"1075.58\" r=\"14\" fill=\"#0000ff\" fill-rule=\"evenodd\" fill-opacity=\"1\" stroke=\"#000000\" stroke-opacity=\"1\" stroke-width=\"3.2\"/>\n",
       "<circle clip-path=\"url(#clip812)\" cx=\"645.781\" cy=\"1095.94\" r=\"14\" fill=\"#ff0000\" fill-rule=\"evenodd\" fill-opacity=\"1\" stroke=\"#000000\" stroke-opacity=\"1\" stroke-width=\"3.2\"/>\n",
       "<circle clip-path=\"url(#clip812)\" cx=\"667.274\" cy=\"1037.58\" r=\"14\" fill=\"#0000ff\" fill-rule=\"evenodd\" fill-opacity=\"1\" stroke=\"#000000\" stroke-opacity=\"1\" stroke-width=\"3.2\"/>\n",
       "<circle clip-path=\"url(#clip812)\" cx=\"642.401\" cy=\"1042.59\" r=\"14\" fill=\"#ff0000\" fill-rule=\"evenodd\" fill-opacity=\"1\" stroke=\"#000000\" stroke-opacity=\"1\" stroke-width=\"3.2\"/>\n",
       "<circle clip-path=\"url(#clip812)\" cx=\"671.128\" cy=\"986.863\" r=\"14\" fill=\"#ff0000\" fill-rule=\"evenodd\" fill-opacity=\"1\" stroke=\"#000000\" stroke-opacity=\"1\" stroke-width=\"3.2\"/>\n",
       "<circle clip-path=\"url(#clip812)\" cx=\"643.86\" cy=\"1061.16\" r=\"14\" fill=\"#0000ff\" fill-rule=\"evenodd\" fill-opacity=\"1\" stroke=\"#000000\" stroke-opacity=\"1\" stroke-width=\"3.2\"/>\n",
       "<circle clip-path=\"url(#clip812)\" cx=\"622.643\" cy=\"1036.74\" r=\"14\" fill=\"#ff0000\" fill-rule=\"evenodd\" fill-opacity=\"1\" stroke=\"#000000\" stroke-opacity=\"1\" stroke-width=\"3.2\"/>\n",
       "<circle clip-path=\"url(#clip812)\" cx=\"748.935\" cy=\"1404.92\" r=\"14\" fill=\"#ff0000\" fill-rule=\"evenodd\" fill-opacity=\"1\" stroke=\"#000000\" stroke-opacity=\"1\" stroke-width=\"3.2\"/>\n",
       "<circle clip-path=\"url(#clip812)\" cx=\"760.738\" cy=\"1345.53\" r=\"14\" fill=\"#0000ff\" fill-rule=\"evenodd\" fill-opacity=\"1\" stroke=\"#000000\" stroke-opacity=\"1\" stroke-width=\"3.2\"/>\n",
       "<circle clip-path=\"url(#clip812)\" cx=\"760.512\" cy=\"1379.93\" r=\"14\" fill=\"#0000ff\" fill-rule=\"evenodd\" fill-opacity=\"1\" stroke=\"#000000\" stroke-opacity=\"1\" stroke-width=\"3.2\"/>\n",
       "<circle clip-path=\"url(#clip812)\" cx=\"722.653\" cy=\"1349.51\" r=\"14\" fill=\"#ff0000\" fill-rule=\"evenodd\" fill-opacity=\"1\" stroke=\"#000000\" stroke-opacity=\"1\" stroke-width=\"3.2\"/>\n",
       "<circle clip-path=\"url(#clip812)\" cx=\"792.516\" cy=\"1457.66\" r=\"14\" fill=\"#ff0000\" fill-rule=\"evenodd\" fill-opacity=\"1\" stroke=\"#000000\" stroke-opacity=\"1\" stroke-width=\"3.2\"/>\n",
       "<circle clip-path=\"url(#clip812)\" cx=\"1584.97\" cy=\"160.499\" r=\"14\" fill=\"#0000ff\" fill-rule=\"evenodd\" fill-opacity=\"1\" stroke=\"#000000\" stroke-opacity=\"1\" stroke-width=\"3.2\"/>\n",
       "<circle clip-path=\"url(#clip812)\" cx=\"1592.56\" cy=\"169.933\" r=\"14\" fill=\"#0000ff\" fill-rule=\"evenodd\" fill-opacity=\"1\" stroke=\"#000000\" stroke-opacity=\"1\" stroke-width=\"3.2\"/>\n",
       "<circle clip-path=\"url(#clip812)\" cx=\"2004.84\" cy=\"182.178\" r=\"14\" fill=\"#0000ff\" fill-rule=\"evenodd\" fill-opacity=\"1\" stroke=\"#000000\" stroke-opacity=\"1\" stroke-width=\"3.2\"/>\n",
       "<circle clip-path=\"url(#clip812)\" cx=\"2003.97\" cy=\"114.157\" r=\"14\" fill=\"#ff0000\" fill-rule=\"evenodd\" fill-opacity=\"1\" stroke=\"#000000\" stroke-opacity=\"1\" stroke-width=\"3.2\"/>\n",
       "<circle clip-path=\"url(#clip812)\" cx=\"2020.62\" cy=\"202.467\" r=\"14\" fill=\"#0000ff\" fill-rule=\"evenodd\" fill-opacity=\"1\" stroke=\"#000000\" stroke-opacity=\"1\" stroke-width=\"3.2\"/>\n",
       "<path clip-path=\"url(#clip810)\" d=\"\n",
       "M2358.44 1508.05 L4255.89 1508.05 L4255.89 47.2441 L2358.44 47.2441  Z\n",
       "  \" fill=\"#ffffff\" fill-rule=\"evenodd\" fill-opacity=\"1\"/>\n",
       "<defs>\n",
       "  <clipPath id=\"clip813\">\n",
       "    <rect x=\"2358\" y=\"47\" width=\"1898\" height=\"1462\"/>\n",
       "  </clipPath>\n",
       "</defs>\n",
       "<polyline clip-path=\"url(#clip813)\" style=\"stroke:#000000; stroke-linecap:butt; stroke-linejoin:round; stroke-width:2; stroke-opacity:0.1; fill:none\" points=\"\n",
       "  2444.05,1508.05 2444.05,47.2441 \n",
       "  \"/>\n",
       "<polyline clip-path=\"url(#clip813)\" style=\"stroke:#000000; stroke-linecap:butt; stroke-linejoin:round; stroke-width:2; stroke-opacity:0.1; fill:none\" points=\"\n",
       "  2846.21,1508.05 2846.21,47.2441 \n",
       "  \"/>\n",
       "<polyline clip-path=\"url(#clip813)\" style=\"stroke:#000000; stroke-linecap:butt; stroke-linejoin:round; stroke-width:2; stroke-opacity:0.1; fill:none\" points=\"\n",
       "  3248.37,1508.05 3248.37,47.2441 \n",
       "  \"/>\n",
       "<polyline clip-path=\"url(#clip813)\" style=\"stroke:#000000; stroke-linecap:butt; stroke-linejoin:round; stroke-width:2; stroke-opacity:0.1; fill:none\" points=\"\n",
       "  3650.53,1508.05 3650.53,47.2441 \n",
       "  \"/>\n",
       "<polyline clip-path=\"url(#clip813)\" style=\"stroke:#000000; stroke-linecap:butt; stroke-linejoin:round; stroke-width:2; stroke-opacity:0.1; fill:none\" points=\"\n",
       "  4052.69,1508.05 4052.69,47.2441 \n",
       "  \"/>\n",
       "<polyline clip-path=\"url(#clip810)\" style=\"stroke:#000000; stroke-linecap:butt; stroke-linejoin:round; stroke-width:4; stroke-opacity:1; fill:none\" points=\"\n",
       "  2358.44,1508.05 4255.89,1508.05 \n",
       "  \"/>\n",
       "<polyline clip-path=\"url(#clip810)\" style=\"stroke:#000000; stroke-linecap:butt; stroke-linejoin:round; stroke-width:4; stroke-opacity:1; fill:none\" points=\"\n",
       "  2444.05,1508.05 2444.05,1489.15 \n",
       "  \"/>\n",
       "<polyline clip-path=\"url(#clip810)\" style=\"stroke:#000000; stroke-linecap:butt; stroke-linejoin:round; stroke-width:4; stroke-opacity:1; fill:none\" points=\"\n",
       "  2846.21,1508.05 2846.21,1489.15 \n",
       "  \"/>\n",
       "<polyline clip-path=\"url(#clip810)\" style=\"stroke:#000000; stroke-linecap:butt; stroke-linejoin:round; stroke-width:4; stroke-opacity:1; fill:none\" points=\"\n",
       "  3248.37,1508.05 3248.37,1489.15 \n",
       "  \"/>\n",
       "<polyline clip-path=\"url(#clip810)\" style=\"stroke:#000000; stroke-linecap:butt; stroke-linejoin:round; stroke-width:4; stroke-opacity:1; fill:none\" points=\"\n",
       "  3650.53,1508.05 3650.53,1489.15 \n",
       "  \"/>\n",
       "<polyline clip-path=\"url(#clip810)\" style=\"stroke:#000000; stroke-linecap:butt; stroke-linejoin:round; stroke-width:4; stroke-opacity:1; fill:none\" points=\"\n",
       "  4052.69,1508.05 4052.69,1489.15 \n",
       "  \"/>\n",
       "<path clip-path=\"url(#clip810)\" d=\"M2413.81 1583.89 L2443.48 1583.89 L2443.48 1587.83 L2413.81 1587.83 L2413.81 1583.89 Z\" fill=\"#000000\" fill-rule=\"evenodd\" fill-opacity=\"1\" /><path clip-path=\"url(#clip810)\" d=\"M2454.38 1596.78 L2462.02 1596.78 L2462.02 1570.42 L2453.71 1572.09 L2453.71 1567.83 L2461.98 1566.16 L2466.65 1566.16 L2466.65 1596.78 L2474.29 1596.78 L2474.29 1600.72 L2454.38 1600.72 L2454.38 1596.78 Z\" fill=\"#000000\" fill-rule=\"evenodd\" fill-opacity=\"1\" /><path clip-path=\"url(#clip810)\" d=\"M2846.21 1569.24 Q2842.6 1569.24 2840.77 1572.8 Q2838.96 1576.35 2838.96 1583.47 Q2838.96 1590.58 2840.77 1594.15 Q2842.6 1597.69 2846.21 1597.69 Q2849.84 1597.69 2851.65 1594.15 Q2853.48 1590.58 2853.48 1583.47 Q2853.48 1576.35 2851.65 1572.8 Q2849.84 1569.24 2846.21 1569.24 M2846.21 1565.53 Q2852.02 1565.53 2855.07 1570.14 Q2858.15 1574.72 2858.15 1583.47 Q2858.15 1592.2 2855.07 1596.81 Q2852.02 1601.39 2846.21 1601.39 Q2840.4 1601.39 2837.32 1596.81 Q2834.26 1592.2 2834.26 1583.47 Q2834.26 1574.72 2837.32 1570.14 Q2840.4 1565.53 2846.21 1565.53 Z\" fill=\"#000000\" fill-rule=\"evenodd\" fill-opacity=\"1\" /><path clip-path=\"url(#clip810)\" d=\"M3238.75 1596.78 L3246.39 1596.78 L3246.39 1570.42 L3238.08 1572.09 L3238.08 1567.83 L3246.34 1566.16 L3251.02 1566.16 L3251.02 1596.78 L3258.66 1596.78 L3258.66 1600.72 L3238.75 1600.72 L3238.75 1596.78 Z\" fill=\"#000000\" fill-rule=\"evenodd\" fill-opacity=\"1\" /><path clip-path=\"url(#clip810)\" d=\"M3645.18 1596.78 L3661.5 1596.78 L3661.5 1600.72 L3639.55 1600.72 L3639.55 1596.78 Q3642.22 1594.03 3646.8 1589.4 Q3651.41 1584.75 3652.59 1583.41 Q3654.83 1580.88 3655.71 1579.15 Q3656.61 1577.39 3656.61 1575.7 Q3656.61 1572.94 3654.67 1571.21 Q3652.75 1569.47 3649.65 1569.47 Q3647.45 1569.47 3644.99 1570.23 Q3642.56 1571 3639.79 1572.55 L3639.79 1567.83 Q3642.61 1566.69 3645.06 1566.11 Q3647.52 1565.53 3649.55 1565.53 Q3654.92 1565.53 3658.12 1568.22 Q3661.31 1570.91 3661.31 1575.4 Q3661.31 1577.53 3660.5 1579.45 Q3659.72 1581.34 3657.61 1583.94 Q3657.03 1584.61 3653.93 1587.83 Q3650.83 1591.02 3645.18 1596.78 Z\" fill=\"#000000\" fill-rule=\"evenodd\" fill-opacity=\"1\" /><path clip-path=\"url(#clip810)\" d=\"M4056.93 1582.09 Q4060.29 1582.8 4062.16 1585.07 Q4064.06 1587.34 4064.06 1590.67 Q4064.06 1595.79 4060.54 1598.59 Q4057.03 1601.39 4050.54 1601.39 Q4048.37 1601.39 4046.05 1600.95 Q4043.76 1600.53 4041.31 1599.68 L4041.31 1595.16 Q4043.25 1596.3 4045.57 1596.88 Q4047.88 1597.46 4050.41 1597.46 Q4054.8 1597.46 4057.1 1595.72 Q4059.41 1593.98 4059.41 1590.67 Q4059.41 1587.62 4057.26 1585.91 Q4055.13 1584.17 4051.31 1584.17 L4047.28 1584.17 L4047.28 1580.33 L4051.49 1580.33 Q4054.94 1580.33 4056.77 1578.96 Q4058.6 1577.57 4058.6 1574.98 Q4058.6 1572.32 4056.7 1570.91 Q4054.83 1569.47 4051.31 1569.47 Q4049.39 1569.47 4047.19 1569.89 Q4044.99 1570.3 4042.35 1571.18 L4042.35 1567.02 Q4045.01 1566.28 4047.33 1565.91 Q4049.66 1565.53 4051.73 1565.53 Q4057.05 1565.53 4060.15 1567.97 Q4063.25 1570.37 4063.25 1574.49 Q4063.25 1577.36 4061.61 1579.35 Q4059.97 1581.32 4056.93 1582.09 Z\" fill=\"#000000\" fill-rule=\"evenodd\" fill-opacity=\"1\" /><polyline clip-path=\"url(#clip813)\" style=\"stroke:#000000; stroke-linecap:butt; stroke-linejoin:round; stroke-width:2; stroke-opacity:0.1; fill:none\" points=\"\n",
       "  2358.44,1310.01 4255.89,1310.01 \n",
       "  \"/>\n",
       "<polyline clip-path=\"url(#clip813)\" style=\"stroke:#000000; stroke-linecap:butt; stroke-linejoin:round; stroke-width:2; stroke-opacity:0.1; fill:none\" points=\"\n",
       "  2358.44,1033.23 4255.89,1033.23 \n",
       "  \"/>\n",
       "<polyline clip-path=\"url(#clip813)\" style=\"stroke:#000000; stroke-linecap:butt; stroke-linejoin:round; stroke-width:2; stroke-opacity:0.1; fill:none\" points=\"\n",
       "  2358.44,756.451 4255.89,756.451 \n",
       "  \"/>\n",
       "<polyline clip-path=\"url(#clip813)\" style=\"stroke:#000000; stroke-linecap:butt; stroke-linejoin:round; stroke-width:2; stroke-opacity:0.1; fill:none\" points=\"\n",
       "  2358.44,479.673 4255.89,479.673 \n",
       "  \"/>\n",
       "<polyline clip-path=\"url(#clip813)\" style=\"stroke:#000000; stroke-linecap:butt; stroke-linejoin:round; stroke-width:2; stroke-opacity:0.1; fill:none\" points=\"\n",
       "  2358.44,202.896 4255.89,202.896 \n",
       "  \"/>\n",
       "<polyline clip-path=\"url(#clip810)\" style=\"stroke:#000000; stroke-linecap:butt; stroke-linejoin:round; stroke-width:4; stroke-opacity:1; fill:none\" points=\"\n",
       "  2358.44,1508.05 2358.44,47.2441 \n",
       "  \"/>\n",
       "<polyline clip-path=\"url(#clip810)\" style=\"stroke:#000000; stroke-linecap:butt; stroke-linejoin:round; stroke-width:4; stroke-opacity:1; fill:none\" points=\"\n",
       "  2358.44,1310.01 2377.34,1310.01 \n",
       "  \"/>\n",
       "<polyline clip-path=\"url(#clip810)\" style=\"stroke:#000000; stroke-linecap:butt; stroke-linejoin:round; stroke-width:4; stroke-opacity:1; fill:none\" points=\"\n",
       "  2358.44,1033.23 2377.34,1033.23 \n",
       "  \"/>\n",
       "<polyline clip-path=\"url(#clip810)\" style=\"stroke:#000000; stroke-linecap:butt; stroke-linejoin:round; stroke-width:4; stroke-opacity:1; fill:none\" points=\"\n",
       "  2358.44,756.451 2377.34,756.451 \n",
       "  \"/>\n",
       "<polyline clip-path=\"url(#clip810)\" style=\"stroke:#000000; stroke-linecap:butt; stroke-linejoin:round; stroke-width:4; stroke-opacity:1; fill:none\" points=\"\n",
       "  2358.44,479.673 2377.34,479.673 \n",
       "  \"/>\n",
       "<polyline clip-path=\"url(#clip810)\" style=\"stroke:#000000; stroke-linecap:butt; stroke-linejoin:round; stroke-width:4; stroke-opacity:1; fill:none\" points=\"\n",
       "  2358.44,202.896 2377.34,202.896 \n",
       "  \"/>\n",
       "<path clip-path=\"url(#clip810)\" d=\"M2201.96 1310.46 L2231.63 1310.46 L2231.63 1314.39 L2201.96 1314.39 L2201.96 1310.46 Z\" fill=\"#000000\" fill-rule=\"evenodd\" fill-opacity=\"1\" /><path clip-path=\"url(#clip810)\" d=\"M2242.53 1323.35 L2250.17 1323.35 L2250.17 1296.99 L2241.86 1298.65 L2241.86 1294.39 L2250.13 1292.73 L2254.8 1292.73 L2254.8 1323.35 L2262.44 1323.35 L2262.44 1327.29 L2242.53 1327.29 L2242.53 1323.35 Z\" fill=\"#000000\" fill-rule=\"evenodd\" fill-opacity=\"1\" /><path clip-path=\"url(#clip810)\" d=\"M2250.5 1019.03 Q2246.89 1019.03 2245.06 1022.59 Q2243.25 1026.13 2243.25 1033.26 Q2243.25 1040.37 2245.06 1043.93 Q2246.89 1047.48 2250.5 1047.48 Q2254.13 1047.48 2255.94 1043.93 Q2257.77 1040.37 2257.77 1033.26 Q2257.77 1026.13 2255.94 1022.59 Q2254.13 1019.03 2250.5 1019.03 M2250.5 1015.32 Q2256.31 1015.32 2259.36 1019.93 Q2262.44 1024.51 2262.44 1033.26 Q2262.44 1041.99 2259.36 1046.6 Q2256.31 1051.18 2250.5 1051.18 Q2244.69 1051.18 2241.61 1046.6 Q2238.55 1041.99 2238.55 1033.26 Q2238.55 1024.51 2241.61 1019.93 Q2244.69 1015.32 2250.5 1015.32 Z\" fill=\"#000000\" fill-rule=\"evenodd\" fill-opacity=\"1\" /><path clip-path=\"url(#clip810)\" d=\"M2242.53 769.796 L2250.17 769.796 L2250.17 743.43 L2241.86 745.097 L2241.86 740.838 L2250.13 739.171 L2254.8 739.171 L2254.8 769.796 L2262.44 769.796 L2262.44 773.731 L2242.53 773.731 L2242.53 769.796 Z\" fill=\"#000000\" fill-rule=\"evenodd\" fill-opacity=\"1\" /><path clip-path=\"url(#clip810)\" d=\"M2246.12 493.018 L2262.44 493.018 L2262.44 496.953 L2240.5 496.953 L2240.5 493.018 Q2243.16 490.264 2247.74 485.634 Q2252.35 480.981 2253.53 479.639 Q2255.78 477.116 2256.66 475.379 Q2257.56 473.62 2257.56 471.93 Q2257.56 469.176 2255.61 467.44 Q2253.69 465.704 2250.59 465.704 Q2248.39 465.704 2245.94 466.467 Q2243.51 467.231 2240.73 468.782 L2240.73 464.06 Q2243.55 462.926 2246.01 462.347 Q2248.46 461.768 2250.5 461.768 Q2255.87 461.768 2259.06 464.454 Q2262.26 467.139 2262.26 471.629 Q2262.26 473.759 2261.45 475.68 Q2260.66 477.578 2258.55 480.171 Q2257.97 480.842 2254.87 484.06 Q2251.77 487.254 2246.12 493.018 Z\" fill=\"#000000\" fill-rule=\"evenodd\" fill-opacity=\"1\" /><path clip-path=\"url(#clip810)\" d=\"M2255.31 201.541 Q2258.67 202.259 2260.54 204.527 Q2262.44 206.796 2262.44 210.129 Q2262.44 215.245 2258.92 218.046 Q2255.41 220.847 2248.92 220.847 Q2246.75 220.847 2244.43 220.407 Q2242.14 219.99 2239.69 219.134 L2239.69 214.62 Q2241.63 215.754 2243.95 216.333 Q2246.26 216.912 2248.78 216.912 Q2253.18 216.912 2255.47 215.176 Q2257.79 213.439 2257.79 210.129 Q2257.79 207.074 2255.64 205.361 Q2253.51 203.625 2249.69 203.625 L2245.66 203.625 L2245.66 199.782 L2249.87 199.782 Q2253.32 199.782 2255.15 198.416 Q2256.98 197.028 2256.98 194.435 Q2256.98 191.773 2255.08 190.361 Q2253.21 188.926 2249.69 188.926 Q2247.77 188.926 2245.57 189.342 Q2243.37 189.759 2240.73 190.639 L2240.73 186.472 Q2243.39 185.731 2245.71 185.361 Q2248.04 184.991 2250.1 184.991 Q2255.43 184.991 2258.53 187.421 Q2261.63 189.828 2261.63 193.949 Q2261.63 196.819 2259.99 198.81 Q2258.35 200.777 2255.31 201.541 Z\" fill=\"#000000\" fill-rule=\"evenodd\" fill-opacity=\"1\" /><circle clip-path=\"url(#clip813)\" cx=\"3316.79\" cy=\"819.052\" r=\"14\" fill=\"#ff0000\" fill-rule=\"evenodd\" fill-opacity=\"1\" stroke=\"#000000\" stroke-opacity=\"1\" stroke-width=\"3.2\"/>\n",
       "<circle clip-path=\"url(#clip813)\" cx=\"3271.95\" cy=\"1401.22\" r=\"14\" fill=\"#0000ff\" fill-rule=\"evenodd\" fill-opacity=\"1\" stroke=\"#000000\" stroke-opacity=\"1\" stroke-width=\"3.2\"/>\n",
       "<circle clip-path=\"url(#clip813)\" cx=\"3336.46\" cy=\"1384.8\" r=\"14\" fill=\"#0000ff\" fill-rule=\"evenodd\" fill-opacity=\"1\" stroke=\"#000000\" stroke-opacity=\"1\" stroke-width=\"3.2\"/>\n",
       "<circle clip-path=\"url(#clip813)\" cx=\"3235.6\" cy=\"1409.98\" r=\"14\" fill=\"#0000ff\" fill-rule=\"evenodd\" fill-opacity=\"1\" stroke=\"#000000\" stroke-opacity=\"1\" stroke-width=\"3.2\"/>\n",
       "<circle clip-path=\"url(#clip813)\" cx=\"3283.13\" cy=\"1398.66\" r=\"14\" fill=\"#ff0000\" fill-rule=\"evenodd\" fill-opacity=\"1\" stroke=\"#000000\" stroke-opacity=\"1\" stroke-width=\"3.2\"/>\n",
       "<circle clip-path=\"url(#clip813)\" cx=\"3216.16\" cy=\"1415.75\" r=\"14\" fill=\"#0000ff\" fill-rule=\"evenodd\" fill-opacity=\"1\" stroke=\"#000000\" stroke-opacity=\"1\" stroke-width=\"3.2\"/>\n",
       "<circle clip-path=\"url(#clip813)\" cx=\"3233.84\" cy=\"1412.5\" r=\"14\" fill=\"#ff0000\" fill-rule=\"evenodd\" fill-opacity=\"1\" stroke=\"#000000\" stroke-opacity=\"1\" stroke-width=\"3.2\"/>\n",
       "<circle clip-path=\"url(#clip813)\" cx=\"3260.58\" cy=\"1401.66\" r=\"14\" fill=\"#ff0000\" fill-rule=\"evenodd\" fill-opacity=\"1\" stroke=\"#000000\" stroke-opacity=\"1\" stroke-width=\"3.2\"/>\n",
       "<circle clip-path=\"url(#clip813)\" cx=\"3282.53\" cy=\"1400.89\" r=\"14\" fill=\"#0000ff\" fill-rule=\"evenodd\" fill-opacity=\"1\" stroke=\"#000000\" stroke-opacity=\"1\" stroke-width=\"3.2\"/>\n",
       "<circle clip-path=\"url(#clip813)\" cx=\"3333.47\" cy=\"1386.87\" r=\"14\" fill=\"#ff0000\" fill-rule=\"evenodd\" fill-opacity=\"1\" stroke=\"#000000\" stroke-opacity=\"1\" stroke-width=\"3.2\"/>\n",
       "<circle clip-path=\"url(#clip813)\" cx=\"3503.13\" cy=\"1371.96\" r=\"14\" fill=\"#ff0000\" fill-rule=\"evenodd\" fill-opacity=\"1\" stroke=\"#000000\" stroke-opacity=\"1\" stroke-width=\"3.2\"/>\n",
       "<circle clip-path=\"url(#clip813)\" cx=\"3504.59\" cy=\"1377.03\" r=\"14\" fill=\"#0000ff\" fill-rule=\"evenodd\" fill-opacity=\"1\" stroke=\"#000000\" stroke-opacity=\"1\" stroke-width=\"3.2\"/>\n",
       "<circle clip-path=\"url(#clip813)\" cx=\"3491.67\" cy=\"1378.03\" r=\"14\" fill=\"#0000ff\" fill-rule=\"evenodd\" fill-opacity=\"1\" stroke=\"#000000\" stroke-opacity=\"1\" stroke-width=\"3.2\"/>\n",
       "<circle clip-path=\"url(#clip813)\" cx=\"3508.46\" cy=\"1372.4\" r=\"14\" fill=\"#ff0000\" fill-rule=\"evenodd\" fill-opacity=\"1\" stroke=\"#000000\" stroke-opacity=\"1\" stroke-width=\"3.2\"/>\n",
       "<circle clip-path=\"url(#clip813)\" cx=\"3507.82\" cy=\"1369.29\" r=\"14\" fill=\"#ff0000\" fill-rule=\"evenodd\" fill-opacity=\"1\" stroke=\"#000000\" stroke-opacity=\"1\" stroke-width=\"3.2\"/>\n",
       "<circle clip-path=\"url(#clip813)\" cx=\"2412.14\" cy=\"1466.35\" r=\"14\" fill=\"#0000ff\" fill-rule=\"evenodd\" fill-opacity=\"1\" stroke=\"#000000\" stroke-opacity=\"1\" stroke-width=\"3.2\"/>\n",
       "<circle clip-path=\"url(#clip813)\" cx=\"2448.86\" cy=\"1443.18\" r=\"14\" fill=\"#0000ff\" fill-rule=\"evenodd\" fill-opacity=\"1\" stroke=\"#000000\" stroke-opacity=\"1\" stroke-width=\"3.2\"/>\n",
       "<circle clip-path=\"url(#clip813)\" cx=\"3018.91\" cy=\"1238.9\" r=\"14\" fill=\"#0000ff\" fill-rule=\"evenodd\" fill-opacity=\"1\" stroke=\"#000000\" stroke-opacity=\"1\" stroke-width=\"3.2\"/>\n",
       "<circle clip-path=\"url(#clip813)\" cx=\"2957.15\" cy=\"1263.67\" r=\"14\" fill=\"#ff0000\" fill-rule=\"evenodd\" fill-opacity=\"1\" stroke=\"#000000\" stroke-opacity=\"1\" stroke-width=\"3.2\"/>\n",
       "<circle clip-path=\"url(#clip813)\" cx=\"2907.05\" cy=\"1276.52\" r=\"14\" fill=\"#0000ff\" fill-rule=\"evenodd\" fill-opacity=\"1\" stroke=\"#000000\" stroke-opacity=\"1\" stroke-width=\"3.2\"/>\n",
       "<circle clip-path=\"url(#clip813)\" cx=\"4194.76\" cy=\"130.261\" r=\"14\" fill=\"#ff0000\" fill-rule=\"evenodd\" fill-opacity=\"1\" stroke=\"#000000\" stroke-opacity=\"1\" stroke-width=\"3.2\"/>\n",
       "<circle clip-path=\"url(#clip813)\" cx=\"3264.53\" cy=\"1401.93\" r=\"14\" fill=\"#0000ff\" fill-rule=\"evenodd\" fill-opacity=\"1\" stroke=\"#000000\" stroke-opacity=\"1\" stroke-width=\"3.2\"/>\n",
       "<circle clip-path=\"url(#clip813)\" cx=\"3308.02\" cy=\"1391.18\" r=\"14\" fill=\"#0000ff\" fill-rule=\"evenodd\" fill-opacity=\"1\" stroke=\"#000000\" stroke-opacity=\"1\" stroke-width=\"3.2\"/>\n",
       "<circle clip-path=\"url(#clip813)\" cx=\"3283.17\" cy=\"1398.57\" r=\"14\" fill=\"#0000ff\" fill-rule=\"evenodd\" fill-opacity=\"1\" stroke=\"#000000\" stroke-opacity=\"1\" stroke-width=\"3.2\"/>\n",
       "<circle clip-path=\"url(#clip813)\" cx=\"3262.89\" cy=\"1403.18\" r=\"14\" fill=\"#ff0000\" fill-rule=\"evenodd\" fill-opacity=\"1\" stroke=\"#000000\" stroke-opacity=\"1\" stroke-width=\"3.2\"/>\n",
       "<circle clip-path=\"url(#clip813)\" cx=\"3215.31\" cy=\"1413.77\" r=\"14\" fill=\"#0000ff\" fill-rule=\"evenodd\" fill-opacity=\"1\" stroke=\"#000000\" stroke-opacity=\"1\" stroke-width=\"3.2\"/>\n",
       "<circle clip-path=\"url(#clip813)\" cx=\"3273.04\" cy=\"1403.98\" r=\"14\" fill=\"#ff0000\" fill-rule=\"evenodd\" fill-opacity=\"1\" stroke=\"#000000\" stroke-opacity=\"1\" stroke-width=\"3.2\"/>\n",
       "<circle clip-path=\"url(#clip813)\" cx=\"3343.07\" cy=\"1387.45\" r=\"14\" fill=\"#ff0000\" fill-rule=\"evenodd\" fill-opacity=\"1\" stroke=\"#000000\" stroke-opacity=\"1\" stroke-width=\"3.2\"/>\n",
       "<circle clip-path=\"url(#clip813)\" cx=\"3286.79\" cy=\"1395.35\" r=\"14\" fill=\"#0000ff\" fill-rule=\"evenodd\" fill-opacity=\"1\" stroke=\"#000000\" stroke-opacity=\"1\" stroke-width=\"3.2\"/>\n",
       "<circle clip-path=\"url(#clip813)\" cx=\"3342.27\" cy=\"1383.31\" r=\"14\" fill=\"#ff0000\" fill-rule=\"evenodd\" fill-opacity=\"1\" stroke=\"#000000\" stroke-opacity=\"1\" stroke-width=\"3.2\"/>\n",
       "<circle clip-path=\"url(#clip813)\" cx=\"3539.67\" cy=\"1361.02\" r=\"14\" fill=\"#ff0000\" fill-rule=\"evenodd\" fill-opacity=\"1\" stroke=\"#000000\" stroke-opacity=\"1\" stroke-width=\"3.2\"/>\n",
       "<circle clip-path=\"url(#clip813)\" cx=\"3467.81\" cy=\"1384.28\" r=\"14\" fill=\"#0000ff\" fill-rule=\"evenodd\" fill-opacity=\"1\" stroke=\"#000000\" stroke-opacity=\"1\" stroke-width=\"3.2\"/>\n",
       "<circle clip-path=\"url(#clip813)\" cx=\"3438.44\" cy=\"1387.71\" r=\"14\" fill=\"#0000ff\" fill-rule=\"evenodd\" fill-opacity=\"1\" stroke=\"#000000\" stroke-opacity=\"1\" stroke-width=\"3.2\"/>\n",
       "<circle clip-path=\"url(#clip813)\" cx=\"3488.51\" cy=\"1384.75\" r=\"14\" fill=\"#ff0000\" fill-rule=\"evenodd\" fill-opacity=\"1\" stroke=\"#000000\" stroke-opacity=\"1\" stroke-width=\"3.2\"/>\n",
       "<circle clip-path=\"url(#clip813)\" cx=\"3471.94\" cy=\"1382.26\" r=\"14\" fill=\"#ff0000\" fill-rule=\"evenodd\" fill-opacity=\"1\" stroke=\"#000000\" stroke-opacity=\"1\" stroke-width=\"3.2\"/>\n",
       "<circle clip-path=\"url(#clip813)\" cx=\"2422.05\" cy=\"1457.45\" r=\"14\" fill=\"#0000ff\" fill-rule=\"evenodd\" fill-opacity=\"1\" stroke=\"#000000\" stroke-opacity=\"1\" stroke-width=\"3.2\"/>\n",
       "<circle clip-path=\"url(#clip813)\" cx=\"2426.52\" cy=\"1466.7\" r=\"14\" fill=\"#0000ff\" fill-rule=\"evenodd\" fill-opacity=\"1\" stroke=\"#000000\" stroke-opacity=\"1\" stroke-width=\"3.2\"/>\n",
       "<circle clip-path=\"url(#clip813)\" cx=\"3039.01\" cy=\"1228.1\" r=\"14\" fill=\"#0000ff\" fill-rule=\"evenodd\" fill-opacity=\"1\" stroke=\"#000000\" stroke-opacity=\"1\" stroke-width=\"3.2\"/>\n",
       "<circle clip-path=\"url(#clip813)\" cx=\"2945.05\" cy=\"1265.7\" r=\"14\" fill=\"#ff0000\" fill-rule=\"evenodd\" fill-opacity=\"1\" stroke=\"#000000\" stroke-opacity=\"1\" stroke-width=\"3.2\"/>\n",
       "<circle clip-path=\"url(#clip813)\" cx=\"2973.35\" cy=\"1253.76\" r=\"14\" fill=\"#0000ff\" fill-rule=\"evenodd\" fill-opacity=\"1\" stroke=\"#000000\" stroke-opacity=\"1\" stroke-width=\"3.2\"/>\n",
       "<circle clip-path=\"url(#clip813)\" cx=\"4202.19\" cy=\"88.5876\" r=\"14\" fill=\"#ff0000\" fill-rule=\"evenodd\" fill-opacity=\"1\" stroke=\"#000000\" stroke-opacity=\"1\" stroke-width=\"3.2\"/>\n",
       "<circle clip-path=\"url(#clip813)\" cx=\"3345.9\" cy=\"1385.6\" r=\"14\" fill=\"#0000ff\" fill-rule=\"evenodd\" fill-opacity=\"1\" stroke=\"#000000\" stroke-opacity=\"1\" stroke-width=\"3.2\"/>\n",
       "<circle clip-path=\"url(#clip813)\" cx=\"3307.33\" cy=\"1391.85\" r=\"14\" fill=\"#0000ff\" fill-rule=\"evenodd\" fill-opacity=\"1\" stroke=\"#000000\" stroke-opacity=\"1\" stroke-width=\"3.2\"/>\n",
       "<circle clip-path=\"url(#clip813)\" cx=\"3387.73\" cy=\"1375.45\" r=\"14\" fill=\"#0000ff\" fill-rule=\"evenodd\" fill-opacity=\"1\" stroke=\"#000000\" stroke-opacity=\"1\" stroke-width=\"3.2\"/>\n",
       "<circle clip-path=\"url(#clip813)\" cx=\"3328\" cy=\"1392.58\" r=\"14\" fill=\"#ff0000\" fill-rule=\"evenodd\" fill-opacity=\"1\" stroke=\"#000000\" stroke-opacity=\"1\" stroke-width=\"3.2\"/>\n",
       "<circle clip-path=\"url(#clip813)\" cx=\"3326.24\" cy=\"1388.97\" r=\"14\" fill=\"#0000ff\" fill-rule=\"evenodd\" fill-opacity=\"1\" stroke=\"#000000\" stroke-opacity=\"1\" stroke-width=\"3.2\"/>\n",
       "<circle clip-path=\"url(#clip813)\" cx=\"3290.51\" cy=\"1398.5\" r=\"14\" fill=\"#ff0000\" fill-rule=\"evenodd\" fill-opacity=\"1\" stroke=\"#000000\" stroke-opacity=\"1\" stroke-width=\"3.2\"/>\n",
       "<circle clip-path=\"url(#clip813)\" cx=\"3297.69\" cy=\"1392.96\" r=\"14\" fill=\"#ff0000\" fill-rule=\"evenodd\" fill-opacity=\"1\" stroke=\"#000000\" stroke-opacity=\"1\" stroke-width=\"3.2\"/>\n",
       "<circle clip-path=\"url(#clip813)\" cx=\"3304.75\" cy=\"1396.1\" r=\"14\" fill=\"#0000ff\" fill-rule=\"evenodd\" fill-opacity=\"1\" stroke=\"#000000\" stroke-opacity=\"1\" stroke-width=\"3.2\"/>\n",
       "<circle clip-path=\"url(#clip813)\" cx=\"3252.13\" cy=\"1407.77\" r=\"14\" fill=\"#ff0000\" fill-rule=\"evenodd\" fill-opacity=\"1\" stroke=\"#000000\" stroke-opacity=\"1\" stroke-width=\"3.2\"/>\n",
       "<circle clip-path=\"url(#clip813)\" cx=\"3511.11\" cy=\"1371.74\" r=\"14\" fill=\"#ff0000\" fill-rule=\"evenodd\" fill-opacity=\"1\" stroke=\"#000000\" stroke-opacity=\"1\" stroke-width=\"3.2\"/>\n",
       "<circle clip-path=\"url(#clip813)\" cx=\"3526.45\" cy=\"1361.09\" r=\"14\" fill=\"#0000ff\" fill-rule=\"evenodd\" fill-opacity=\"1\" stroke=\"#000000\" stroke-opacity=\"1\" stroke-width=\"3.2\"/>\n",
       "<circle clip-path=\"url(#clip813)\" cx=\"3525.16\" cy=\"1364.94\" r=\"14\" fill=\"#0000ff\" fill-rule=\"evenodd\" fill-opacity=\"1\" stroke=\"#000000\" stroke-opacity=\"1\" stroke-width=\"3.2\"/>\n",
       "<circle clip-path=\"url(#clip813)\" cx=\"3486.51\" cy=\"1373.36\" r=\"14\" fill=\"#ff0000\" fill-rule=\"evenodd\" fill-opacity=\"1\" stroke=\"#000000\" stroke-opacity=\"1\" stroke-width=\"3.2\"/>\n",
       "<circle clip-path=\"url(#clip813)\" cx=\"3550.1\" cy=\"1364.71\" r=\"14\" fill=\"#ff0000\" fill-rule=\"evenodd\" fill-opacity=\"1\" stroke=\"#000000\" stroke-opacity=\"1\" stroke-width=\"3.2\"/>\n",
       "<circle clip-path=\"url(#clip813)\" cx=\"2415.45\" cy=\"1462.07\" r=\"14\" fill=\"#0000ff\" fill-rule=\"evenodd\" fill-opacity=\"1\" stroke=\"#000000\" stroke-opacity=\"1\" stroke-width=\"3.2\"/>\n",
       "<circle clip-path=\"url(#clip813)\" cx=\"2416.59\" cy=\"1463.24\" r=\"14\" fill=\"#0000ff\" fill-rule=\"evenodd\" fill-opacity=\"1\" stroke=\"#000000\" stroke-opacity=\"1\" stroke-width=\"3.2\"/>\n",
       "<circle clip-path=\"url(#clip813)\" cx=\"2883.98\" cy=\"1290.4\" r=\"14\" fill=\"#0000ff\" fill-rule=\"evenodd\" fill-opacity=\"1\" stroke=\"#000000\" stroke-opacity=\"1\" stroke-width=\"3.2\"/>\n",
       "<circle clip-path=\"url(#clip813)\" cx=\"2924.37\" cy=\"1271.49\" r=\"14\" fill=\"#ff0000\" fill-rule=\"evenodd\" fill-opacity=\"1\" stroke=\"#000000\" stroke-opacity=\"1\" stroke-width=\"3.2\"/>\n",
       "<circle clip-path=\"url(#clip813)\" cx=\"2900.87\" cy=\"1285.23\" r=\"14\" fill=\"#0000ff\" fill-rule=\"evenodd\" fill-opacity=\"1\" stroke=\"#000000\" stroke-opacity=\"1\" stroke-width=\"3.2\"/>\n",
       "<path clip-path=\"url(#clip810)\" d=\"\n",
       "M4455.31 1508.05 L6352.76 1508.05 L6352.76 47.2441 L4455.31 47.2441  Z\n",
       "  \" fill=\"#ffffff\" fill-rule=\"evenodd\" fill-opacity=\"1\"/>\n",
       "<defs>\n",
       "  <clipPath id=\"clip814\">\n",
       "    <rect x=\"4455\" y=\"47\" width=\"1898\" height=\"1462\"/>\n",
       "  </clipPath>\n",
       "</defs>\n",
       "<polyline clip-path=\"url(#clip814)\" style=\"stroke:#000000; stroke-linecap:butt; stroke-linejoin:round; stroke-width:2; stroke-opacity:0.1; fill:none\" points=\"\n",
       "  4645.64,1508.05 4645.64,47.2441 \n",
       "  \"/>\n",
       "<polyline clip-path=\"url(#clip814)\" style=\"stroke:#000000; stroke-linecap:butt; stroke-linejoin:round; stroke-width:2; stroke-opacity:0.1; fill:none\" points=\"\n",
       "  5011.92,1508.05 5011.92,47.2441 \n",
       "  \"/>\n",
       "<polyline clip-path=\"url(#clip814)\" style=\"stroke:#000000; stroke-linecap:butt; stroke-linejoin:round; stroke-width:2; stroke-opacity:0.1; fill:none\" points=\"\n",
       "  5378.21,1508.05 5378.21,47.2441 \n",
       "  \"/>\n",
       "<polyline clip-path=\"url(#clip814)\" style=\"stroke:#000000; stroke-linecap:butt; stroke-linejoin:round; stroke-width:2; stroke-opacity:0.1; fill:none\" points=\"\n",
       "  5744.5,1508.05 5744.5,47.2441 \n",
       "  \"/>\n",
       "<polyline clip-path=\"url(#clip814)\" style=\"stroke:#000000; stroke-linecap:butt; stroke-linejoin:round; stroke-width:2; stroke-opacity:0.1; fill:none\" points=\"\n",
       "  6110.78,1508.05 6110.78,47.2441 \n",
       "  \"/>\n",
       "<polyline clip-path=\"url(#clip810)\" style=\"stroke:#000000; stroke-linecap:butt; stroke-linejoin:round; stroke-width:4; stroke-opacity:1; fill:none\" points=\"\n",
       "  4455.31,1508.05 6352.76,1508.05 \n",
       "  \"/>\n",
       "<polyline clip-path=\"url(#clip810)\" style=\"stroke:#000000; stroke-linecap:butt; stroke-linejoin:round; stroke-width:4; stroke-opacity:1; fill:none\" points=\"\n",
       "  4645.64,1508.05 4645.64,1489.15 \n",
       "  \"/>\n",
       "<polyline clip-path=\"url(#clip810)\" style=\"stroke:#000000; stroke-linecap:butt; stroke-linejoin:round; stroke-width:4; stroke-opacity:1; fill:none\" points=\"\n",
       "  5011.92,1508.05 5011.92,1489.15 \n",
       "  \"/>\n",
       "<polyline clip-path=\"url(#clip810)\" style=\"stroke:#000000; stroke-linecap:butt; stroke-linejoin:round; stroke-width:4; stroke-opacity:1; fill:none\" points=\"\n",
       "  5378.21,1508.05 5378.21,1489.15 \n",
       "  \"/>\n",
       "<polyline clip-path=\"url(#clip810)\" style=\"stroke:#000000; stroke-linecap:butt; stroke-linejoin:round; stroke-width:4; stroke-opacity:1; fill:none\" points=\"\n",
       "  5744.5,1508.05 5744.5,1489.15 \n",
       "  \"/>\n",
       "<polyline clip-path=\"url(#clip810)\" style=\"stroke:#000000; stroke-linecap:butt; stroke-linejoin:round; stroke-width:4; stroke-opacity:1; fill:none\" points=\"\n",
       "  6110.78,1508.05 6110.78,1489.15 \n",
       "  \"/>\n",
       "<path clip-path=\"url(#clip810)\" d=\"M4615.58 1583.89 L4645.25 1583.89 L4645.25 1587.83 L4615.58 1587.83 L4615.58 1583.89 Z\" fill=\"#000000\" fill-rule=\"evenodd\" fill-opacity=\"1\" /><path clip-path=\"url(#clip810)\" d=\"M4659.37 1596.78 L4675.69 1596.78 L4675.69 1600.72 L4653.75 1600.72 L4653.75 1596.78 Q4656.41 1594.03 4660.99 1589.4 Q4665.6 1584.75 4666.78 1583.41 Q4669.03 1580.88 4669.91 1579.15 Q4670.81 1577.39 4670.81 1575.7 Q4670.81 1572.94 4668.87 1571.21 Q4666.94 1569.47 4663.84 1569.47 Q4661.64 1569.47 4659.19 1570.23 Q4656.76 1571 4653.98 1572.55 L4653.98 1567.83 Q4656.8 1566.69 4659.26 1566.11 Q4661.71 1565.53 4663.75 1565.53 Q4669.12 1565.53 4672.31 1568.22 Q4675.51 1570.91 4675.51 1575.4 Q4675.51 1577.53 4674.7 1579.45 Q4673.91 1581.34 4671.8 1583.94 Q4671.23 1584.61 4668.12 1587.83 Q4665.02 1591.02 4659.37 1596.78 Z\" fill=\"#000000\" fill-rule=\"evenodd\" fill-opacity=\"1\" /><path clip-path=\"url(#clip810)\" d=\"M5011.92 1569.24 Q5008.31 1569.24 5006.48 1572.8 Q5004.68 1576.35 5004.68 1583.47 Q5004.68 1590.58 5006.48 1594.15 Q5008.31 1597.69 5011.92 1597.69 Q5015.56 1597.69 5017.36 1594.15 Q5019.19 1590.58 5019.19 1583.47 Q5019.19 1576.35 5017.36 1572.8 Q5015.56 1569.24 5011.92 1569.24 M5011.92 1565.53 Q5017.73 1565.53 5020.79 1570.14 Q5023.87 1574.72 5023.87 1583.47 Q5023.87 1592.2 5020.79 1596.81 Q5017.73 1601.39 5011.92 1601.39 Q5006.11 1601.39 5003.03 1596.81 Q4999.98 1592.2 4999.98 1583.47 Q4999.98 1574.72 5003.03 1570.14 Q5006.11 1565.53 5011.92 1565.53 Z\" fill=\"#000000\" fill-rule=\"evenodd\" fill-opacity=\"1\" /><path clip-path=\"url(#clip810)\" d=\"M5372.86 1596.78 L5389.18 1596.78 L5389.18 1600.72 L5367.24 1600.72 L5367.24 1596.78 Q5369.9 1594.03 5374.48 1589.4 Q5379.09 1584.75 5380.27 1583.41 Q5382.52 1580.88 5383.39 1579.15 Q5384.3 1577.39 5384.3 1575.7 Q5384.3 1572.94 5382.35 1571.21 Q5380.43 1569.47 5377.33 1569.47 Q5375.13 1569.47 5372.68 1570.23 Q5370.25 1571 5367.47 1572.55 L5367.47 1567.83 Q5370.29 1566.69 5372.75 1566.11 Q5375.2 1565.53 5377.24 1565.53 Q5382.61 1565.53 5385.8 1568.22 Q5389 1570.91 5389 1575.4 Q5389 1577.53 5388.19 1579.45 Q5387.4 1581.34 5385.29 1583.94 Q5384.71 1584.61 5381.61 1587.83 Q5378.51 1591.02 5372.86 1596.78 Z\" fill=\"#000000\" fill-rule=\"evenodd\" fill-opacity=\"1\" /><path clip-path=\"url(#clip810)\" d=\"M5747.51 1570.23 L5735.7 1588.68 L5747.51 1588.68 L5747.51 1570.23 M5746.28 1566.16 L5752.16 1566.16 L5752.16 1588.68 L5757.09 1588.68 L5757.09 1592.57 L5752.16 1592.57 L5752.16 1600.72 L5747.51 1600.72 L5747.51 1592.57 L5731.9 1592.57 L5731.9 1588.06 L5746.28 1566.16 Z\" fill=\"#000000\" fill-rule=\"evenodd\" fill-opacity=\"1\" /><path clip-path=\"url(#clip810)\" d=\"M6111.19 1581.58 Q6108.04 1581.58 6106.19 1583.73 Q6104.36 1585.88 6104.36 1589.63 Q6104.36 1593.36 6106.19 1595.53 Q6108.04 1597.69 6111.19 1597.69 Q6114.34 1597.69 6116.17 1595.53 Q6118.02 1593.36 6118.02 1589.63 Q6118.02 1585.88 6116.17 1583.73 Q6114.34 1581.58 6111.19 1581.58 M6120.47 1566.92 L6120.47 1571.18 Q6118.71 1570.35 6116.91 1569.91 Q6115.12 1569.47 6113.36 1569.47 Q6108.73 1569.47 6106.28 1572.6 Q6103.85 1575.72 6103.5 1582.04 Q6104.87 1580.03 6106.93 1578.96 Q6108.99 1577.87 6111.47 1577.87 Q6116.67 1577.87 6119.68 1581.04 Q6122.72 1584.19 6122.72 1589.63 Q6122.72 1594.96 6119.57 1598.17 Q6116.42 1601.39 6111.19 1601.39 Q6105.19 1601.39 6102.02 1596.81 Q6098.85 1592.2 6098.85 1583.47 Q6098.85 1575.28 6102.74 1570.42 Q6106.63 1565.53 6113.18 1565.53 Q6114.94 1565.53 6116.72 1565.88 Q6118.53 1566.23 6120.47 1566.92 Z\" fill=\"#000000\" fill-rule=\"evenodd\" fill-opacity=\"1\" /><polyline clip-path=\"url(#clip814)\" style=\"stroke:#000000; stroke-linecap:butt; stroke-linejoin:round; stroke-width:2; stroke-opacity:0.1; fill:none\" points=\"\n",
       "  4455.31,1466.7 6352.76,1466.7 \n",
       "  \"/>\n",
       "<polyline clip-path=\"url(#clip814)\" style=\"stroke:#000000; stroke-linecap:butt; stroke-linejoin:round; stroke-width:2; stroke-opacity:0.1; fill:none\" points=\"\n",
       "  4455.31,1237.02 6352.76,1237.02 \n",
       "  \"/>\n",
       "<polyline clip-path=\"url(#clip814)\" style=\"stroke:#000000; stroke-linecap:butt; stroke-linejoin:round; stroke-width:2; stroke-opacity:0.1; fill:none\" points=\"\n",
       "  4455.31,1007.33 6352.76,1007.33 \n",
       "  \"/>\n",
       "<polyline clip-path=\"url(#clip814)\" style=\"stroke:#000000; stroke-linecap:butt; stroke-linejoin:round; stroke-width:2; stroke-opacity:0.1; fill:none\" points=\"\n",
       "  4455.31,777.646 6352.76,777.646 \n",
       "  \"/>\n",
       "<polyline clip-path=\"url(#clip814)\" style=\"stroke:#000000; stroke-linecap:butt; stroke-linejoin:round; stroke-width:2; stroke-opacity:0.1; fill:none\" points=\"\n",
       "  4455.31,547.96 6352.76,547.96 \n",
       "  \"/>\n",
       "<polyline clip-path=\"url(#clip814)\" style=\"stroke:#000000; stroke-linecap:butt; stroke-linejoin:round; stroke-width:2; stroke-opacity:0.1; fill:none\" points=\"\n",
       "  4455.31,318.274 6352.76,318.274 \n",
       "  \"/>\n",
       "<polyline clip-path=\"url(#clip814)\" style=\"stroke:#000000; stroke-linecap:butt; stroke-linejoin:round; stroke-width:2; stroke-opacity:0.1; fill:none\" points=\"\n",
       "  4455.31,88.5876 6352.76,88.5876 \n",
       "  \"/>\n",
       "<polyline clip-path=\"url(#clip810)\" style=\"stroke:#000000; stroke-linecap:butt; stroke-linejoin:round; stroke-width:4; stroke-opacity:1; fill:none\" points=\"\n",
       "  4455.31,1508.05 4455.31,47.2441 \n",
       "  \"/>\n",
       "<polyline clip-path=\"url(#clip810)\" style=\"stroke:#000000; stroke-linecap:butt; stroke-linejoin:round; stroke-width:4; stroke-opacity:1; fill:none\" points=\"\n",
       "  4455.31,1466.7 4474.21,1466.7 \n",
       "  \"/>\n",
       "<polyline clip-path=\"url(#clip810)\" style=\"stroke:#000000; stroke-linecap:butt; stroke-linejoin:round; stroke-width:4; stroke-opacity:1; fill:none\" points=\"\n",
       "  4455.31,1237.02 4474.21,1237.02 \n",
       "  \"/>\n",
       "<polyline clip-path=\"url(#clip810)\" style=\"stroke:#000000; stroke-linecap:butt; stroke-linejoin:round; stroke-width:4; stroke-opacity:1; fill:none\" points=\"\n",
       "  4455.31,1007.33 4474.21,1007.33 \n",
       "  \"/>\n",
       "<polyline clip-path=\"url(#clip810)\" style=\"stroke:#000000; stroke-linecap:butt; stroke-linejoin:round; stroke-width:4; stroke-opacity:1; fill:none\" points=\"\n",
       "  4455.31,777.646 4474.21,777.646 \n",
       "  \"/>\n",
       "<polyline clip-path=\"url(#clip810)\" style=\"stroke:#000000; stroke-linecap:butt; stroke-linejoin:round; stroke-width:4; stroke-opacity:1; fill:none\" points=\"\n",
       "  4455.31,547.96 4474.21,547.96 \n",
       "  \"/>\n",
       "<polyline clip-path=\"url(#clip810)\" style=\"stroke:#000000; stroke-linecap:butt; stroke-linejoin:round; stroke-width:4; stroke-opacity:1; fill:none\" points=\"\n",
       "  4455.31,318.274 4474.21,318.274 \n",
       "  \"/>\n",
       "<polyline clip-path=\"url(#clip810)\" style=\"stroke:#000000; stroke-linecap:butt; stroke-linejoin:round; stroke-width:4; stroke-opacity:1; fill:none\" points=\"\n",
       "  4455.31,88.5876 4474.21,88.5876 \n",
       "  \"/>\n",
       "<path clip-path=\"url(#clip810)\" d=\"M4347.37 1452.5 Q4343.75 1452.5 4341.93 1456.07 Q4340.12 1459.61 4340.12 1466.74 Q4340.12 1473.85 4341.93 1477.41 Q4343.75 1480.95 4347.37 1480.95 Q4351 1480.95 4352.81 1477.41 Q4354.63 1473.85 4354.63 1466.74 Q4354.63 1459.61 4352.81 1456.07 Q4351 1452.5 4347.37 1452.5 M4347.37 1448.8 Q4353.18 1448.8 4356.23 1453.41 Q4359.31 1457.99 4359.31 1466.74 Q4359.31 1475.47 4356.23 1480.07 Q4353.18 1484.66 4347.37 1484.66 Q4341.56 1484.66 4338.48 1480.07 Q4335.42 1475.47 4335.42 1466.74 Q4335.42 1457.99 4338.48 1453.41 Q4341.56 1448.8 4347.37 1448.8 Z\" fill=\"#000000\" fill-rule=\"evenodd\" fill-opacity=\"1\" /><path clip-path=\"url(#clip810)\" d=\"M4339.4 1250.36 L4347.04 1250.36 L4347.04 1224 L4338.73 1225.66 L4338.73 1221.4 L4346.99 1219.74 L4351.67 1219.74 L4351.67 1250.36 L4359.31 1250.36 L4359.31 1254.3 L4339.4 1254.3 L4339.4 1250.36 Z\" fill=\"#000000\" fill-rule=\"evenodd\" fill-opacity=\"1\" /><path clip-path=\"url(#clip810)\" d=\"M4342.99 1020.68 L4359.31 1020.68 L4359.31 1024.61 L4337.37 1024.61 L4337.37 1020.68 Q4340.03 1017.92 4344.61 1013.29 Q4349.22 1008.64 4350.4 1007.3 Q4352.64 1004.77 4353.52 1003.04 Q4354.43 1001.28 4354.43 999.589 Q4354.43 996.834 4352.48 995.098 Q4350.56 993.362 4347.46 993.362 Q4345.26 993.362 4342.81 994.126 Q4340.37 994.89 4337.6 996.441 L4337.6 991.719 Q4340.42 990.585 4342.87 990.006 Q4345.33 989.427 4347.37 989.427 Q4352.74 989.427 4355.93 992.112 Q4359.12 994.797 4359.12 999.288 Q4359.12 1001.42 4358.31 1003.34 Q4357.53 1005.24 4355.42 1007.83 Q4354.84 1008.5 4351.74 1011.72 Q4348.64 1014.91 4342.99 1020.68 Z\" fill=\"#000000\" fill-rule=\"evenodd\" fill-opacity=\"1\" /><path clip-path=\"url(#clip810)\" d=\"M4352.18 776.292 Q4355.54 777.009 4357.41 779.278 Q4359.31 781.546 4359.31 784.88 Q4359.31 789.995 4355.79 792.796 Q4352.27 795.597 4345.79 795.597 Q4343.62 795.597 4341.3 795.157 Q4339.01 794.741 4336.56 793.884 L4336.56 789.37 Q4338.5 790.505 4340.81 791.083 Q4343.13 791.662 4345.65 791.662 Q4350.05 791.662 4352.34 789.926 Q4354.66 788.19 4354.66 784.88 Q4354.66 781.824 4352.5 780.111 Q4350.37 778.375 4346.56 778.375 L4342.53 778.375 L4342.53 774.533 L4346.74 774.533 Q4350.19 774.533 4352.02 773.167 Q4353.85 771.778 4353.85 769.185 Q4353.85 766.523 4351.95 765.111 Q4350.07 763.676 4346.56 763.676 Q4344.63 763.676 4342.43 764.093 Q4340.24 764.509 4337.6 765.389 L4337.6 761.222 Q4340.26 760.482 4342.57 760.111 Q4344.91 759.741 4346.97 759.741 Q4352.3 759.741 4355.4 762.172 Q4358.5 764.579 4358.5 768.699 Q4358.5 771.57 4356.86 773.56 Q4355.21 775.528 4352.18 776.292 Z\" fill=\"#000000\" fill-rule=\"evenodd\" fill-opacity=\"1\" /><path clip-path=\"url(#clip810)\" d=\"M4349.73 534.754 L4337.92 553.203 L4349.73 553.203 L4349.73 534.754 M4348.5 530.68 L4354.38 530.68 L4354.38 553.203 L4359.31 553.203 L4359.31 557.092 L4354.38 557.092 L4354.38 565.24 L4349.73 565.24 L4349.73 557.092 L4334.12 557.092 L4334.12 552.578 L4348.5 530.68 Z\" fill=\"#000000\" fill-rule=\"evenodd\" fill-opacity=\"1\" /><path clip-path=\"url(#clip810)\" d=\"M4338.41 300.994 L4356.76 300.994 L4356.76 304.929 L4342.69 304.929 L4342.69 313.401 Q4343.71 313.054 4344.73 312.892 Q4345.74 312.707 4346.76 312.707 Q4352.55 312.707 4355.93 315.878 Q4359.31 319.049 4359.31 324.466 Q4359.31 330.044 4355.84 333.146 Q4352.37 336.225 4346.05 336.225 Q4343.87 336.225 4341.6 335.855 Q4339.36 335.484 4336.95 334.744 L4336.95 330.044 Q4339.03 331.179 4341.25 331.734 Q4343.48 332.29 4345.95 332.29 Q4349.96 332.29 4352.3 330.183 Q4354.63 328.077 4354.63 324.466 Q4354.63 320.855 4352.3 318.748 Q4349.96 316.642 4345.95 316.642 Q4344.08 316.642 4342.2 317.058 Q4340.35 317.475 4338.41 318.355 L4338.41 300.994 Z\" fill=\"#000000\" fill-rule=\"evenodd\" fill-opacity=\"1\" /><path clip-path=\"url(#clip810)\" d=\"M4347.78 86.7242 Q4344.63 86.7242 4342.78 88.8769 Q4340.95 91.0297 4340.95 94.7797 Q4340.95 98.5065 4342.78 100.682 Q4344.63 102.835 4347.78 102.835 Q4350.93 102.835 4352.76 100.682 Q4354.61 98.5065 4354.61 94.7797 Q4354.61 91.0297 4352.76 88.8769 Q4350.93 86.7242 4347.78 86.7242 M4357.06 72.0715 L4357.06 76.3307 Q4355.31 75.4974 4353.5 75.0576 Q4351.72 74.6178 4349.96 74.6178 Q4345.33 74.6178 4342.87 77.7427 Q4340.44 80.8677 4340.1 87.1871 Q4341.46 85.1733 4343.52 84.1085 Q4345.58 83.0205 4348.06 83.0205 Q4353.27 83.0205 4356.28 86.1918 Q4359.31 89.3399 4359.31 94.7797 Q4359.31 100.104 4356.16 103.321 Q4353.01 106.539 4347.78 106.539 Q4341.79 106.539 4338.62 101.956 Q4335.44 97.3491 4335.44 88.6223 Q4335.44 80.4279 4339.33 75.5668 Q4343.22 70.6826 4349.77 70.6826 Q4351.53 70.6826 4353.31 71.0298 Q4355.12 71.377 4357.06 72.0715 Z\" fill=\"#000000\" fill-rule=\"evenodd\" fill-opacity=\"1\" /><path clip-path=\"url(#clip814)\" d=\"\n",
       "M4865.41 1237.02 L4865.41 1466.7 L4902.04 1466.7 L4902.04 1237.02 L4865.41 1237.02 L4865.41 1237.02  Z\n",
       "  \" fill=\"#ff0000\" fill-rule=\"evenodd\" fill-opacity=\"1\"/>\n",
       "<polyline clip-path=\"url(#clip814)\" style=\"stroke:#000000; stroke-linecap:butt; stroke-linejoin:round; stroke-width:4; stroke-opacity:1; fill:none\" points=\"\n",
       "  4865.41,1237.02 4865.41,1466.7 4902.04,1466.7 4902.04,1237.02 4865.41,1237.02 \n",
       "  \"/>\n",
       "<path clip-path=\"url(#clip814)\" d=\"\n",
       "M4902.04 777.646 L4902.04 1466.7 L4938.67 1466.7 L4938.67 777.646 L4902.04 777.646 L4902.04 777.646  Z\n",
       "  \" fill=\"#ff0000\" fill-rule=\"evenodd\" fill-opacity=\"1\"/>\n",
       "<polyline clip-path=\"url(#clip814)\" style=\"stroke:#000000; stroke-linecap:butt; stroke-linejoin:round; stroke-width:4; stroke-opacity:1; fill:none\" points=\"\n",
       "  4902.04,777.646 4902.04,1466.7 4938.67,1466.7 4938.67,777.646 4902.04,777.646 \n",
       "  \"/>\n",
       "<path clip-path=\"url(#clip814)\" d=\"\n",
       "M4938.67 88.5876 L4938.67 1466.7 L4975.29 1466.7 L4975.29 88.5876 L4938.67 88.5876 L4938.67 88.5876  Z\n",
       "  \" fill=\"#ff0000\" fill-rule=\"evenodd\" fill-opacity=\"1\"/>\n",
       "<polyline clip-path=\"url(#clip814)\" style=\"stroke:#000000; stroke-linecap:butt; stroke-linejoin:round; stroke-width:4; stroke-opacity:1; fill:none\" points=\"\n",
       "  4938.67,88.5876 4938.67,1466.7 4975.29,1466.7 4975.29,88.5876 4938.67,88.5876 \n",
       "  \"/>\n",
       "<path clip-path=\"url(#clip814)\" d=\"\n",
       "M4975.29 318.274 L4975.29 1466.7 L5011.92 1466.7 L5011.92 318.274 L4975.29 318.274 L4975.29 318.274  Z\n",
       "  \" fill=\"#ff0000\" fill-rule=\"evenodd\" fill-opacity=\"1\"/>\n",
       "<polyline clip-path=\"url(#clip814)\" style=\"stroke:#000000; stroke-linecap:butt; stroke-linejoin:round; stroke-width:4; stroke-opacity:1; fill:none\" points=\"\n",
       "  4975.29,318.274 4975.29,1466.7 5011.92,1466.7 5011.92,318.274 4975.29,318.274 \n",
       "  \"/>\n",
       "<path clip-path=\"url(#clip814)\" d=\"\n",
       "M5011.92 1466.7 L5011.92 1466.7 L5048.55 1466.7 L5048.55 1466.7 L5011.92 1466.7 L5011.92 1466.7  Z\n",
       "  \" fill=\"#ff0000\" fill-rule=\"evenodd\" fill-opacity=\"1\"/>\n",
       "<polyline clip-path=\"url(#clip814)\" style=\"stroke:#000000; stroke-linecap:butt; stroke-linejoin:round; stroke-width:4; stroke-opacity:1; fill:none\" points=\"\n",
       "  5011.92,1466.7 5011.92,1466.7 5048.55,1466.7 5011.92,1466.7 \n",
       "  \"/>\n",
       "<path clip-path=\"url(#clip814)\" d=\"\n",
       "M5048.55 777.646 L5048.55 1466.7 L5085.18 1466.7 L5085.18 777.646 L5048.55 777.646 L5048.55 777.646  Z\n",
       "  \" fill=\"#ff0000\" fill-rule=\"evenodd\" fill-opacity=\"1\"/>\n",
       "<polyline clip-path=\"url(#clip814)\" style=\"stroke:#000000; stroke-linecap:butt; stroke-linejoin:round; stroke-width:4; stroke-opacity:1; fill:none\" points=\"\n",
       "  5048.55,777.646 5048.55,1466.7 5085.18,1466.7 5085.18,777.646 5048.55,777.646 \n",
       "  \"/>\n",
       "<path clip-path=\"url(#clip814)\" d=\"\n",
       "M5085.18 88.5876 L5085.18 1466.7 L5121.81 1466.7 L5121.81 88.5876 L5085.18 88.5876 L5085.18 88.5876  Z\n",
       "  \" fill=\"#ff0000\" fill-rule=\"evenodd\" fill-opacity=\"1\"/>\n",
       "<polyline clip-path=\"url(#clip814)\" style=\"stroke:#000000; stroke-linecap:butt; stroke-linejoin:round; stroke-width:4; stroke-opacity:1; fill:none\" points=\"\n",
       "  5085.18,88.5876 5085.18,1466.7 5121.81,1466.7 5121.81,88.5876 5085.18,88.5876 \n",
       "  \"/>\n",
       "<path clip-path=\"url(#clip814)\" d=\"\n",
       "M5121.81 1466.7 L5121.81 1466.7 L5158.44 1466.7 L5158.44 1466.7 L5121.81 1466.7 L5121.81 1466.7  Z\n",
       "  \" fill=\"#ff0000\" fill-rule=\"evenodd\" fill-opacity=\"1\"/>\n",
       "<polyline clip-path=\"url(#clip814)\" style=\"stroke:#000000; stroke-linecap:butt; stroke-linejoin:round; stroke-width:4; stroke-opacity:1; fill:none\" points=\"\n",
       "  5121.81,1466.7 5121.81,1466.7 5158.44,1466.7 5121.81,1466.7 \n",
       "  \"/>\n",
       "<path clip-path=\"url(#clip814)\" d=\"\n",
       "M5158.44 1466.7 L5158.44 1466.7 L5195.07 1466.7 L5195.07 1466.7 L5158.44 1466.7 L5158.44 1466.7  Z\n",
       "  \" fill=\"#ff0000\" fill-rule=\"evenodd\" fill-opacity=\"1\"/>\n",
       "<polyline clip-path=\"url(#clip814)\" style=\"stroke:#000000; stroke-linecap:butt; stroke-linejoin:round; stroke-width:4; stroke-opacity:1; fill:none\" points=\"\n",
       "  5158.44,1466.7 5158.44,1466.7 5195.07,1466.7 5158.44,1466.7 \n",
       "  \"/>\n",
       "<path clip-path=\"url(#clip814)\" d=\"\n",
       "M5195.07 1466.7 L5195.07 1466.7 L5231.69 1466.7 L5231.69 1466.7 L5195.07 1466.7 L5195.07 1466.7  Z\n",
       "  \" fill=\"#ff0000\" fill-rule=\"evenodd\" fill-opacity=\"1\"/>\n",
       "<polyline clip-path=\"url(#clip814)\" style=\"stroke:#000000; stroke-linecap:butt; stroke-linejoin:round; stroke-width:4; stroke-opacity:1; fill:none\" points=\"\n",
       "  5195.07,1466.7 5195.07,1466.7 5231.69,1466.7 5195.07,1466.7 \n",
       "  \"/>\n",
       "<path clip-path=\"url(#clip814)\" d=\"\n",
       "M5231.69 1466.7 L5231.69 1466.7 L5268.32 1466.7 L5268.32 1466.7 L5231.69 1466.7 L5231.69 1466.7  Z\n",
       "  \" fill=\"#ff0000\" fill-rule=\"evenodd\" fill-opacity=\"1\"/>\n",
       "<polyline clip-path=\"url(#clip814)\" style=\"stroke:#000000; stroke-linecap:butt; stroke-linejoin:round; stroke-width:4; stroke-opacity:1; fill:none\" points=\"\n",
       "  5231.69,1466.7 5231.69,1466.7 5268.32,1466.7 5231.69,1466.7 \n",
       "  \"/>\n",
       "<path clip-path=\"url(#clip814)\" d=\"\n",
       "M5268.32 1466.7 L5268.32 1466.7 L5304.95 1466.7 L5304.95 1466.7 L5268.32 1466.7 L5268.32 1466.7  Z\n",
       "  \" fill=\"#ff0000\" fill-rule=\"evenodd\" fill-opacity=\"1\"/>\n",
       "<polyline clip-path=\"url(#clip814)\" style=\"stroke:#000000; stroke-linecap:butt; stroke-linejoin:round; stroke-width:4; stroke-opacity:1; fill:none\" points=\"\n",
       "  5268.32,1466.7 5268.32,1466.7 5304.95,1466.7 5268.32,1466.7 \n",
       "  \"/>\n",
       "<path clip-path=\"url(#clip814)\" d=\"\n",
       "M5304.95 1466.7 L5304.95 1466.7 L5341.58 1466.7 L5341.58 1466.7 L5304.95 1466.7 L5304.95 1466.7  Z\n",
       "  \" fill=\"#ff0000\" fill-rule=\"evenodd\" fill-opacity=\"1\"/>\n",
       "<polyline clip-path=\"url(#clip814)\" style=\"stroke:#000000; stroke-linecap:butt; stroke-linejoin:round; stroke-width:4; stroke-opacity:1; fill:none\" points=\"\n",
       "  5304.95,1466.7 5304.95,1466.7 5341.58,1466.7 5304.95,1466.7 \n",
       "  \"/>\n",
       "<path clip-path=\"url(#clip814)\" d=\"\n",
       "M5341.58 1237.02 L5341.58 1466.7 L5378.21 1466.7 L5378.21 1237.02 L5341.58 1237.02 L5341.58 1237.02  Z\n",
       "  \" fill=\"#ff0000\" fill-rule=\"evenodd\" fill-opacity=\"1\"/>\n",
       "<polyline clip-path=\"url(#clip814)\" style=\"stroke:#000000; stroke-linecap:butt; stroke-linejoin:round; stroke-width:4; stroke-opacity:1; fill:none\" points=\"\n",
       "  5341.58,1237.02 5341.58,1466.7 5378.21,1466.7 5378.21,1237.02 5341.58,1237.02 \n",
       "  \"/>\n",
       "<path clip-path=\"url(#clip814)\" d=\"\n",
       "M5378.21 1466.7 L5378.21 1466.7 L5414.84 1466.7 L5414.84 1466.7 L5378.21 1466.7 L5378.21 1466.7  Z\n",
       "  \" fill=\"#ff0000\" fill-rule=\"evenodd\" fill-opacity=\"1\"/>\n",
       "<polyline clip-path=\"url(#clip814)\" style=\"stroke:#000000; stroke-linecap:butt; stroke-linejoin:round; stroke-width:4; stroke-opacity:1; fill:none\" points=\"\n",
       "  5378.21,1466.7 5378.21,1466.7 5414.84,1466.7 5378.21,1466.7 \n",
       "  \"/>\n",
       "<path clip-path=\"url(#clip814)\" d=\"\n",
       "M5414.84 1466.7 L5414.84 1466.7 L5451.47 1466.7 L5451.47 1466.7 L5414.84 1466.7 L5414.84 1466.7  Z\n",
       "  \" fill=\"#ff0000\" fill-rule=\"evenodd\" fill-opacity=\"1\"/>\n",
       "<polyline clip-path=\"url(#clip814)\" style=\"stroke:#000000; stroke-linecap:butt; stroke-linejoin:round; stroke-width:4; stroke-opacity:1; fill:none\" points=\"\n",
       "  5414.84,1466.7 5414.84,1466.7 5451.47,1466.7 5414.84,1466.7 \n",
       "  \"/>\n",
       "<path clip-path=\"url(#clip814)\" d=\"\n",
       "M5451.47 1466.7 L5451.47 1466.7 L5488.1 1466.7 L5488.1 1466.7 L5451.47 1466.7 L5451.47 1466.7  Z\n",
       "  \" fill=\"#ff0000\" fill-rule=\"evenodd\" fill-opacity=\"1\"/>\n",
       "<polyline clip-path=\"url(#clip814)\" style=\"stroke:#000000; stroke-linecap:butt; stroke-linejoin:round; stroke-width:4; stroke-opacity:1; fill:none\" points=\"\n",
       "  5451.47,1466.7 5451.47,1466.7 5488.1,1466.7 5451.47,1466.7 \n",
       "  \"/>\n",
       "<path clip-path=\"url(#clip814)\" d=\"\n",
       "M5488.1 1466.7 L5488.1 1466.7 L5524.72 1466.7 L5524.72 1466.7 L5488.1 1466.7 L5488.1 1466.7  Z\n",
       "  \" fill=\"#ff0000\" fill-rule=\"evenodd\" fill-opacity=\"1\"/>\n",
       "<polyline clip-path=\"url(#clip814)\" style=\"stroke:#000000; stroke-linecap:butt; stroke-linejoin:round; stroke-width:4; stroke-opacity:1; fill:none\" points=\"\n",
       "  5488.1,1466.7 5488.1,1466.7 5524.72,1466.7 5488.1,1466.7 \n",
       "  \"/>\n",
       "<path clip-path=\"url(#clip814)\" d=\"\n",
       "M5524.72 1466.7 L5524.72 1466.7 L5561.35 1466.7 L5561.35 1466.7 L5524.72 1466.7 L5524.72 1466.7  Z\n",
       "  \" fill=\"#ff0000\" fill-rule=\"evenodd\" fill-opacity=\"1\"/>\n",
       "<polyline clip-path=\"url(#clip814)\" style=\"stroke:#000000; stroke-linecap:butt; stroke-linejoin:round; stroke-width:4; stroke-opacity:1; fill:none\" points=\"\n",
       "  5524.72,1466.7 5524.72,1466.7 5561.35,1466.7 5524.72,1466.7 \n",
       "  \"/>\n",
       "<path clip-path=\"url(#clip814)\" d=\"\n",
       "M5561.35 1466.7 L5561.35 1466.7 L5597.98 1466.7 L5597.98 1466.7 L5561.35 1466.7 L5561.35 1466.7  Z\n",
       "  \" fill=\"#ff0000\" fill-rule=\"evenodd\" fill-opacity=\"1\"/>\n",
       "<polyline clip-path=\"url(#clip814)\" style=\"stroke:#000000; stroke-linecap:butt; stroke-linejoin:round; stroke-width:4; stroke-opacity:1; fill:none\" points=\"\n",
       "  5561.35,1466.7 5561.35,1466.7 5597.98,1466.7 5561.35,1466.7 \n",
       "  \"/>\n",
       "<path clip-path=\"url(#clip814)\" d=\"\n",
       "M5597.98 1466.7 L5597.98 1466.7 L5634.61 1466.7 L5634.61 1466.7 L5597.98 1466.7 L5597.98 1466.7  Z\n",
       "  \" fill=\"#ff0000\" fill-rule=\"evenodd\" fill-opacity=\"1\"/>\n",
       "<polyline clip-path=\"url(#clip814)\" style=\"stroke:#000000; stroke-linecap:butt; stroke-linejoin:round; stroke-width:4; stroke-opacity:1; fill:none\" points=\"\n",
       "  5597.98,1466.7 5597.98,1466.7 5634.61,1466.7 5597.98,1466.7 \n",
       "  \"/>\n",
       "<path clip-path=\"url(#clip814)\" d=\"\n",
       "M5634.61 1466.7 L5634.61 1466.7 L5671.24 1466.7 L5671.24 1466.7 L5634.61 1466.7 L5634.61 1466.7  Z\n",
       "  \" fill=\"#ff0000\" fill-rule=\"evenodd\" fill-opacity=\"1\"/>\n",
       "<polyline clip-path=\"url(#clip814)\" style=\"stroke:#000000; stroke-linecap:butt; stroke-linejoin:round; stroke-width:4; stroke-opacity:1; fill:none\" points=\"\n",
       "  5634.61,1466.7 5634.61,1466.7 5671.24,1466.7 5634.61,1466.7 \n",
       "  \"/>\n",
       "<path clip-path=\"url(#clip814)\" d=\"\n",
       "M5671.24 1466.7 L5671.24 1466.7 L5707.87 1466.7 L5707.87 1466.7 L5671.24 1466.7 L5671.24 1466.7  Z\n",
       "  \" fill=\"#ff0000\" fill-rule=\"evenodd\" fill-opacity=\"1\"/>\n",
       "<polyline clip-path=\"url(#clip814)\" style=\"stroke:#000000; stroke-linecap:butt; stroke-linejoin:round; stroke-width:4; stroke-opacity:1; fill:none\" points=\"\n",
       "  5671.24,1466.7 5671.24,1466.7 5707.87,1466.7 5671.24,1466.7 \n",
       "  \"/>\n",
       "<path clip-path=\"url(#clip814)\" d=\"\n",
       "M5707.87 1466.7 L5707.87 1466.7 L5744.5 1466.7 L5744.5 1466.7 L5707.87 1466.7 L5707.87 1466.7  Z\n",
       "  \" fill=\"#ff0000\" fill-rule=\"evenodd\" fill-opacity=\"1\"/>\n",
       "<polyline clip-path=\"url(#clip814)\" style=\"stroke:#000000; stroke-linecap:butt; stroke-linejoin:round; stroke-width:4; stroke-opacity:1; fill:none\" points=\"\n",
       "  5707.87,1466.7 5707.87,1466.7 5744.5,1466.7 5707.87,1466.7 \n",
       "  \"/>\n",
       "<path clip-path=\"url(#clip814)\" d=\"\n",
       "M5744.5 1466.7 L5744.5 1466.7 L5781.13 1466.7 L5781.13 1466.7 L5744.5 1466.7 L5744.5 1466.7  Z\n",
       "  \" fill=\"#ff0000\" fill-rule=\"evenodd\" fill-opacity=\"1\"/>\n",
       "<polyline clip-path=\"url(#clip814)\" style=\"stroke:#000000; stroke-linecap:butt; stroke-linejoin:round; stroke-width:4; stroke-opacity:1; fill:none\" points=\"\n",
       "  5744.5,1466.7 5744.5,1466.7 5781.13,1466.7 5744.5,1466.7 \n",
       "  \"/>\n",
       "<path clip-path=\"url(#clip814)\" d=\"\n",
       "M5781.13 1466.7 L5781.13 1466.7 L5817.75 1466.7 L5817.75 1466.7 L5781.13 1466.7 L5781.13 1466.7  Z\n",
       "  \" fill=\"#ff0000\" fill-rule=\"evenodd\" fill-opacity=\"1\"/>\n",
       "<polyline clip-path=\"url(#clip814)\" style=\"stroke:#000000; stroke-linecap:butt; stroke-linejoin:round; stroke-width:4; stroke-opacity:1; fill:none\" points=\"\n",
       "  5781.13,1466.7 5781.13,1466.7 5817.75,1466.7 5781.13,1466.7 \n",
       "  \"/>\n",
       "<path clip-path=\"url(#clip814)\" d=\"\n",
       "M5817.75 1466.7 L5817.75 1466.7 L5854.38 1466.7 L5854.38 1466.7 L5817.75 1466.7 L5817.75 1466.7  Z\n",
       "  \" fill=\"#ff0000\" fill-rule=\"evenodd\" fill-opacity=\"1\"/>\n",
       "<polyline clip-path=\"url(#clip814)\" style=\"stroke:#000000; stroke-linecap:butt; stroke-linejoin:round; stroke-width:4; stroke-opacity:1; fill:none\" points=\"\n",
       "  5817.75,1466.7 5817.75,1466.7 5854.38,1466.7 5817.75,1466.7 \n",
       "  \"/>\n",
       "<path clip-path=\"url(#clip814)\" d=\"\n",
       "M5854.38 1466.7 L5854.38 1466.7 L5891.01 1466.7 L5891.01 1466.7 L5854.38 1466.7 L5854.38 1466.7  Z\n",
       "  \" fill=\"#ff0000\" fill-rule=\"evenodd\" fill-opacity=\"1\"/>\n",
       "<polyline clip-path=\"url(#clip814)\" style=\"stroke:#000000; stroke-linecap:butt; stroke-linejoin:round; stroke-width:4; stroke-opacity:1; fill:none\" points=\"\n",
       "  5854.38,1466.7 5854.38,1466.7 5891.01,1466.7 5854.38,1466.7 \n",
       "  \"/>\n",
       "<path clip-path=\"url(#clip814)\" d=\"\n",
       "M5891.01 1466.7 L5891.01 1466.7 L5927.64 1466.7 L5927.64 1466.7 L5891.01 1466.7 L5891.01 1466.7  Z\n",
       "  \" fill=\"#ff0000\" fill-rule=\"evenodd\" fill-opacity=\"1\"/>\n",
       "<polyline clip-path=\"url(#clip814)\" style=\"stroke:#000000; stroke-linecap:butt; stroke-linejoin:round; stroke-width:4; stroke-opacity:1; fill:none\" points=\"\n",
       "  5891.01,1466.7 5891.01,1466.7 5927.64,1466.7 5891.01,1466.7 \n",
       "  \"/>\n",
       "<path clip-path=\"url(#clip814)\" d=\"\n",
       "M5927.64 1466.7 L5927.64 1466.7 L5964.27 1466.7 L5964.27 1466.7 L5927.64 1466.7 L5927.64 1466.7  Z\n",
       "  \" fill=\"#ff0000\" fill-rule=\"evenodd\" fill-opacity=\"1\"/>\n",
       "<polyline clip-path=\"url(#clip814)\" style=\"stroke:#000000; stroke-linecap:butt; stroke-linejoin:round; stroke-width:4; stroke-opacity:1; fill:none\" points=\"\n",
       "  5927.64,1466.7 5927.64,1466.7 5964.27,1466.7 5927.64,1466.7 \n",
       "  \"/>\n",
       "<path clip-path=\"url(#clip814)\" d=\"\n",
       "M5964.27 1466.7 L5964.27 1466.7 L6000.9 1466.7 L6000.9 1466.7 L5964.27 1466.7 L5964.27 1466.7  Z\n",
       "  \" fill=\"#ff0000\" fill-rule=\"evenodd\" fill-opacity=\"1\"/>\n",
       "<polyline clip-path=\"url(#clip814)\" style=\"stroke:#000000; stroke-linecap:butt; stroke-linejoin:round; stroke-width:4; stroke-opacity:1; fill:none\" points=\"\n",
       "  5964.27,1466.7 5964.27,1466.7 6000.9,1466.7 5964.27,1466.7 \n",
       "  \"/>\n",
       "<path clip-path=\"url(#clip814)\" d=\"\n",
       "M6000.9 1466.7 L6000.9 1466.7 L6037.53 1466.7 L6037.53 1466.7 L6000.9 1466.7 L6000.9 1466.7  Z\n",
       "  \" fill=\"#ff0000\" fill-rule=\"evenodd\" fill-opacity=\"1\"/>\n",
       "<polyline clip-path=\"url(#clip814)\" style=\"stroke:#000000; stroke-linecap:butt; stroke-linejoin:round; stroke-width:4; stroke-opacity:1; fill:none\" points=\"\n",
       "  6000.9,1466.7 6000.9,1466.7 6037.53,1466.7 6000.9,1466.7 \n",
       "  \"/>\n",
       "<path clip-path=\"url(#clip814)\" d=\"\n",
       "M6037.53 1466.7 L6037.53 1466.7 L6074.15 1466.7 L6074.15 1466.7 L6037.53 1466.7 L6037.53 1466.7  Z\n",
       "  \" fill=\"#ff0000\" fill-rule=\"evenodd\" fill-opacity=\"1\"/>\n",
       "<polyline clip-path=\"url(#clip814)\" style=\"stroke:#000000; stroke-linecap:butt; stroke-linejoin:round; stroke-width:4; stroke-opacity:1; fill:none\" points=\"\n",
       "  6037.53,1466.7 6037.53,1466.7 6074.15,1466.7 6037.53,1466.7 \n",
       "  \"/>\n",
       "<path clip-path=\"url(#clip814)\" d=\"\n",
       "M6074.15 1466.7 L6074.15 1466.7 L6110.78 1466.7 L6110.78 1466.7 L6074.15 1466.7 L6074.15 1466.7  Z\n",
       "  \" fill=\"#ff0000\" fill-rule=\"evenodd\" fill-opacity=\"1\"/>\n",
       "<polyline clip-path=\"url(#clip814)\" style=\"stroke:#000000; stroke-linecap:butt; stroke-linejoin:round; stroke-width:4; stroke-opacity:1; fill:none\" points=\"\n",
       "  6074.15,1466.7 6074.15,1466.7 6110.78,1466.7 6074.15,1466.7 \n",
       "  \"/>\n",
       "<path clip-path=\"url(#clip814)\" d=\"\n",
       "M6110.78 1466.7 L6110.78 1466.7 L6147.41 1466.7 L6147.41 1466.7 L6110.78 1466.7 L6110.78 1466.7  Z\n",
       "  \" fill=\"#ff0000\" fill-rule=\"evenodd\" fill-opacity=\"1\"/>\n",
       "<polyline clip-path=\"url(#clip814)\" style=\"stroke:#000000; stroke-linecap:butt; stroke-linejoin:round; stroke-width:4; stroke-opacity:1; fill:none\" points=\"\n",
       "  6110.78,1466.7 6110.78,1466.7 6147.41,1466.7 6110.78,1466.7 \n",
       "  \"/>\n",
       "<path clip-path=\"url(#clip814)\" d=\"\n",
       "M6147.41 1466.7 L6147.41 1466.7 L6184.04 1466.7 L6184.04 1466.7 L6147.41 1466.7 L6147.41 1466.7  Z\n",
       "  \" fill=\"#ff0000\" fill-rule=\"evenodd\" fill-opacity=\"1\"/>\n",
       "<polyline clip-path=\"url(#clip814)\" style=\"stroke:#000000; stroke-linecap:butt; stroke-linejoin:round; stroke-width:4; stroke-opacity:1; fill:none\" points=\"\n",
       "  6147.41,1466.7 6147.41,1466.7 6184.04,1466.7 6147.41,1466.7 \n",
       "  \"/>\n",
       "<path clip-path=\"url(#clip814)\" d=\"\n",
       "M6184.04 1466.7 L6184.04 1466.7 L6220.67 1466.7 L6220.67 1466.7 L6184.04 1466.7 L6184.04 1466.7  Z\n",
       "  \" fill=\"#ff0000\" fill-rule=\"evenodd\" fill-opacity=\"1\"/>\n",
       "<polyline clip-path=\"url(#clip814)\" style=\"stroke:#000000; stroke-linecap:butt; stroke-linejoin:round; stroke-width:4; stroke-opacity:1; fill:none\" points=\"\n",
       "  6184.04,1466.7 6184.04,1466.7 6220.67,1466.7 6184.04,1466.7 \n",
       "  \"/>\n",
       "<path clip-path=\"url(#clip814)\" d=\"\n",
       "M6220.67 1007.33 L6220.67 1466.7 L6257.3 1466.7 L6257.3 1007.33 L6220.67 1007.33 L6220.67 1007.33  Z\n",
       "  \" fill=\"#ff0000\" fill-rule=\"evenodd\" fill-opacity=\"1\"/>\n",
       "<polyline clip-path=\"url(#clip814)\" style=\"stroke:#000000; stroke-linecap:butt; stroke-linejoin:round; stroke-width:4; stroke-opacity:1; fill:none\" points=\"\n",
       "  6220.67,1007.33 6220.67,1466.7 6257.3,1466.7 6257.3,1007.33 6220.67,1007.33 \n",
       "  \"/>\n",
       "<circle clip-path=\"url(#clip814)\" style=\"fill:#009af9; stroke:none; fill-opacity:0\" cx=\"4883.72\" cy=\"1237.02\" r=\"2\"/>\n",
       "<circle clip-path=\"url(#clip814)\" style=\"fill:#009af9; stroke:none; fill-opacity:0\" cx=\"4920.35\" cy=\"777.646\" r=\"2\"/>\n",
       "<circle clip-path=\"url(#clip814)\" style=\"fill:#009af9; stroke:none; fill-opacity:0\" cx=\"4956.98\" cy=\"88.5876\" r=\"2\"/>\n",
       "<circle clip-path=\"url(#clip814)\" style=\"fill:#009af9; stroke:none; fill-opacity:0\" cx=\"4993.61\" cy=\"318.274\" r=\"2\"/>\n",
       "<circle clip-path=\"url(#clip814)\" style=\"fill:#009af9; stroke:none; fill-opacity:0\" cx=\"5030.24\" cy=\"1466.7\" r=\"2\"/>\n",
       "<circle clip-path=\"url(#clip814)\" style=\"fill:#009af9; stroke:none; fill-opacity:0\" cx=\"5066.87\" cy=\"777.646\" r=\"2\"/>\n",
       "<circle clip-path=\"url(#clip814)\" style=\"fill:#009af9; stroke:none; fill-opacity:0\" cx=\"5103.49\" cy=\"88.5876\" r=\"2\"/>\n",
       "<circle clip-path=\"url(#clip814)\" style=\"fill:#009af9; stroke:none; fill-opacity:0\" cx=\"5140.12\" cy=\"1466.7\" r=\"2\"/>\n",
       "<circle clip-path=\"url(#clip814)\" style=\"fill:#009af9; stroke:none; fill-opacity:0\" cx=\"5176.75\" cy=\"1466.7\" r=\"2\"/>\n",
       "<circle clip-path=\"url(#clip814)\" style=\"fill:#009af9; stroke:none; fill-opacity:0\" cx=\"5213.38\" cy=\"1466.7\" r=\"2\"/>\n",
       "<circle clip-path=\"url(#clip814)\" style=\"fill:#009af9; stroke:none; fill-opacity:0\" cx=\"5250.01\" cy=\"1466.7\" r=\"2\"/>\n",
       "<circle clip-path=\"url(#clip814)\" style=\"fill:#009af9; stroke:none; fill-opacity:0\" cx=\"5286.64\" cy=\"1466.7\" r=\"2\"/>\n",
       "<circle clip-path=\"url(#clip814)\" style=\"fill:#009af9; stroke:none; fill-opacity:0\" cx=\"5323.27\" cy=\"1466.7\" r=\"2\"/>\n",
       "<circle clip-path=\"url(#clip814)\" style=\"fill:#009af9; stroke:none; fill-opacity:0\" cx=\"5359.9\" cy=\"1237.02\" r=\"2\"/>\n",
       "<circle clip-path=\"url(#clip814)\" style=\"fill:#009af9; stroke:none; fill-opacity:0\" cx=\"5396.52\" cy=\"1466.7\" r=\"2\"/>\n",
       "<circle clip-path=\"url(#clip814)\" style=\"fill:#009af9; stroke:none; fill-opacity:0\" cx=\"5433.15\" cy=\"1466.7\" r=\"2\"/>\n",
       "<circle clip-path=\"url(#clip814)\" style=\"fill:#009af9; stroke:none; fill-opacity:0\" cx=\"5469.78\" cy=\"1466.7\" r=\"2\"/>\n",
       "<circle clip-path=\"url(#clip814)\" style=\"fill:#009af9; stroke:none; fill-opacity:0\" cx=\"5506.41\" cy=\"1466.7\" r=\"2\"/>\n",
       "<circle clip-path=\"url(#clip814)\" style=\"fill:#009af9; stroke:none; fill-opacity:0\" cx=\"5543.04\" cy=\"1466.7\" r=\"2\"/>\n",
       "<circle clip-path=\"url(#clip814)\" style=\"fill:#009af9; stroke:none; fill-opacity:0\" cx=\"5579.67\" cy=\"1466.7\" r=\"2\"/>\n",
       "<circle clip-path=\"url(#clip814)\" style=\"fill:#009af9; stroke:none; fill-opacity:0\" cx=\"5616.3\" cy=\"1466.7\" r=\"2\"/>\n",
       "<circle clip-path=\"url(#clip814)\" style=\"fill:#009af9; stroke:none; fill-opacity:0\" cx=\"5652.92\" cy=\"1466.7\" r=\"2\"/>\n",
       "<circle clip-path=\"url(#clip814)\" style=\"fill:#009af9; stroke:none; fill-opacity:0\" cx=\"5689.55\" cy=\"1466.7\" r=\"2\"/>\n",
       "<circle clip-path=\"url(#clip814)\" style=\"fill:#009af9; stroke:none; fill-opacity:0\" cx=\"5726.18\" cy=\"1466.7\" r=\"2\"/>\n",
       "<circle clip-path=\"url(#clip814)\" style=\"fill:#009af9; stroke:none; fill-opacity:0\" cx=\"5762.81\" cy=\"1466.7\" r=\"2\"/>\n",
       "<circle clip-path=\"url(#clip814)\" style=\"fill:#009af9; stroke:none; fill-opacity:0\" cx=\"5799.44\" cy=\"1466.7\" r=\"2\"/>\n",
       "<circle clip-path=\"url(#clip814)\" style=\"fill:#009af9; stroke:none; fill-opacity:0\" cx=\"5836.07\" cy=\"1466.7\" r=\"2\"/>\n",
       "<circle clip-path=\"url(#clip814)\" style=\"fill:#009af9; stroke:none; fill-opacity:0\" cx=\"5872.7\" cy=\"1466.7\" r=\"2\"/>\n",
       "<circle clip-path=\"url(#clip814)\" style=\"fill:#009af9; stroke:none; fill-opacity:0\" cx=\"5909.33\" cy=\"1466.7\" r=\"2\"/>\n",
       "<circle clip-path=\"url(#clip814)\" style=\"fill:#009af9; stroke:none; fill-opacity:0\" cx=\"5945.95\" cy=\"1466.7\" r=\"2\"/>\n",
       "<circle clip-path=\"url(#clip814)\" style=\"fill:#009af9; stroke:none; fill-opacity:0\" cx=\"5982.58\" cy=\"1466.7\" r=\"2\"/>\n",
       "<circle clip-path=\"url(#clip814)\" style=\"fill:#009af9; stroke:none; fill-opacity:0\" cx=\"6019.21\" cy=\"1466.7\" r=\"2\"/>\n",
       "<circle clip-path=\"url(#clip814)\" style=\"fill:#009af9; stroke:none; fill-opacity:0\" cx=\"6055.84\" cy=\"1466.7\" r=\"2\"/>\n",
       "<circle clip-path=\"url(#clip814)\" style=\"fill:#009af9; stroke:none; fill-opacity:0\" cx=\"6092.47\" cy=\"1466.7\" r=\"2\"/>\n",
       "<circle clip-path=\"url(#clip814)\" style=\"fill:#009af9; stroke:none; fill-opacity:0\" cx=\"6129.1\" cy=\"1466.7\" r=\"2\"/>\n",
       "<circle clip-path=\"url(#clip814)\" style=\"fill:#009af9; stroke:none; fill-opacity:0\" cx=\"6165.73\" cy=\"1466.7\" r=\"2\"/>\n",
       "<circle clip-path=\"url(#clip814)\" style=\"fill:#009af9; stroke:none; fill-opacity:0\" cx=\"6202.35\" cy=\"1466.7\" r=\"2\"/>\n",
       "<circle clip-path=\"url(#clip814)\" style=\"fill:#009af9; stroke:none; fill-opacity:0\" cx=\"6238.98\" cy=\"1007.33\" r=\"2\"/>\n",
       "<path clip-path=\"url(#clip814)\" d=\"\n",
       "M4526.59 547.96 L4526.59 1466.7 L4535.75 1466.7 L4535.75 547.96 L4526.59 547.96 L4526.59 547.96  Z\n",
       "  \" fill=\"#0000ff\" fill-rule=\"evenodd\" fill-opacity=\"1\"/>\n",
       "<polyline clip-path=\"url(#clip814)\" style=\"stroke:#000000; stroke-linecap:butt; stroke-linejoin:round; stroke-width:4; stroke-opacity:1; fill:none\" points=\"\n",
       "  4526.59,547.96 4526.59,1466.7 4535.75,1466.7 4535.75,547.96 4526.59,547.96 \n",
       "  \"/>\n",
       "<path clip-path=\"url(#clip814)\" d=\"\n",
       "M4535.75 1237.02 L4535.75 1466.7 L4544.91 1466.7 L4544.91 1237.02 L4535.75 1237.02 L4535.75 1237.02  Z\n",
       "  \" fill=\"#0000ff\" fill-rule=\"evenodd\" fill-opacity=\"1\"/>\n",
       "<polyline clip-path=\"url(#clip814)\" style=\"stroke:#000000; stroke-linecap:butt; stroke-linejoin:round; stroke-width:4; stroke-opacity:1; fill:none\" points=\"\n",
       "  4535.75,1237.02 4535.75,1466.7 4544.91,1466.7 4544.91,1237.02 4535.75,1237.02 \n",
       "  \"/>\n",
       "<path clip-path=\"url(#clip814)\" d=\"\n",
       "M4544.91 1466.7 L4544.91 1466.7 L4554.06 1466.7 L4554.06 1466.7 L4544.91 1466.7 L4544.91 1466.7  Z\n",
       "  \" fill=\"#0000ff\" fill-rule=\"evenodd\" fill-opacity=\"1\"/>\n",
       "<polyline clip-path=\"url(#clip814)\" style=\"stroke:#000000; stroke-linecap:butt; stroke-linejoin:round; stroke-width:4; stroke-opacity:1; fill:none\" points=\"\n",
       "  4544.91,1466.7 4544.91,1466.7 4554.06,1466.7 4544.91,1466.7 \n",
       "  \"/>\n",
       "<path clip-path=\"url(#clip814)\" d=\"\n",
       "M4554.06 1237.02 L4554.06 1466.7 L4563.22 1466.7 L4563.22 1237.02 L4554.06 1237.02 L4554.06 1237.02  Z\n",
       "  \" fill=\"#0000ff\" fill-rule=\"evenodd\" fill-opacity=\"1\"/>\n",
       "<polyline clip-path=\"url(#clip814)\" style=\"stroke:#000000; stroke-linecap:butt; stroke-linejoin:round; stroke-width:4; stroke-opacity:1; fill:none\" points=\"\n",
       "  4554.06,1237.02 4554.06,1466.7 4563.22,1466.7 4563.22,1237.02 4554.06,1237.02 \n",
       "  \"/>\n",
       "<path clip-path=\"url(#clip814)\" d=\"\n",
       "M4563.22 1466.7 L4563.22 1466.7 L4572.38 1466.7 L4572.38 1466.7 L4563.22 1466.7 L4563.22 1466.7  Z\n",
       "  \" fill=\"#0000ff\" fill-rule=\"evenodd\" fill-opacity=\"1\"/>\n",
       "<polyline clip-path=\"url(#clip814)\" style=\"stroke:#000000; stroke-linecap:butt; stroke-linejoin:round; stroke-width:4; stroke-opacity:1; fill:none\" points=\"\n",
       "  4563.22,1466.7 4563.22,1466.7 4572.38,1466.7 4563.22,1466.7 \n",
       "  \"/>\n",
       "<path clip-path=\"url(#clip814)\" d=\"\n",
       "M4572.38 1466.7 L4572.38 1466.7 L4581.54 1466.7 L4581.54 1466.7 L4572.38 1466.7 L4572.38 1466.7  Z\n",
       "  \" fill=\"#0000ff\" fill-rule=\"evenodd\" fill-opacity=\"1\"/>\n",
       "<polyline clip-path=\"url(#clip814)\" style=\"stroke:#000000; stroke-linecap:butt; stroke-linejoin:round; stroke-width:4; stroke-opacity:1; fill:none\" points=\"\n",
       "  4572.38,1466.7 4572.38,1466.7 4581.54,1466.7 4572.38,1466.7 \n",
       "  \"/>\n",
       "<path clip-path=\"url(#clip814)\" d=\"\n",
       "M4581.54 1466.7 L4581.54 1466.7 L4590.69 1466.7 L4590.69 1466.7 L4581.54 1466.7 L4581.54 1466.7  Z\n",
       "  \" fill=\"#0000ff\" fill-rule=\"evenodd\" fill-opacity=\"1\"/>\n",
       "<polyline clip-path=\"url(#clip814)\" style=\"stroke:#000000; stroke-linecap:butt; stroke-linejoin:round; stroke-width:4; stroke-opacity:1; fill:none\" points=\"\n",
       "  4581.54,1466.7 4581.54,1466.7 4590.69,1466.7 4581.54,1466.7 \n",
       "  \"/>\n",
       "<path clip-path=\"url(#clip814)\" d=\"\n",
       "M4590.69 1466.7 L4590.69 1466.7 L4599.85 1466.7 L4599.85 1466.7 L4590.69 1466.7 L4590.69 1466.7  Z\n",
       "  \" fill=\"#0000ff\" fill-rule=\"evenodd\" fill-opacity=\"1\"/>\n",
       "<polyline clip-path=\"url(#clip814)\" style=\"stroke:#000000; stroke-linecap:butt; stroke-linejoin:round; stroke-width:4; stroke-opacity:1; fill:none\" points=\"\n",
       "  4590.69,1466.7 4590.69,1466.7 4599.85,1466.7 4590.69,1466.7 \n",
       "  \"/>\n",
       "<path clip-path=\"url(#clip814)\" d=\"\n",
       "M4599.85 1466.7 L4599.85 1466.7 L4609.01 1466.7 L4609.01 1466.7 L4599.85 1466.7 L4599.85 1466.7  Z\n",
       "  \" fill=\"#0000ff\" fill-rule=\"evenodd\" fill-opacity=\"1\"/>\n",
       "<polyline clip-path=\"url(#clip814)\" style=\"stroke:#000000; stroke-linecap:butt; stroke-linejoin:round; stroke-width:4; stroke-opacity:1; fill:none\" points=\"\n",
       "  4599.85,1466.7 4599.85,1466.7 4609.01,1466.7 4599.85,1466.7 \n",
       "  \"/>\n",
       "<path clip-path=\"url(#clip814)\" d=\"\n",
       "M4609.01 1466.7 L4609.01 1466.7 L4618.16 1466.7 L4618.16 1466.7 L4609.01 1466.7 L4609.01 1466.7  Z\n",
       "  \" fill=\"#0000ff\" fill-rule=\"evenodd\" fill-opacity=\"1\"/>\n",
       "<polyline clip-path=\"url(#clip814)\" style=\"stroke:#000000; stroke-linecap:butt; stroke-linejoin:round; stroke-width:4; stroke-opacity:1; fill:none\" points=\"\n",
       "  4609.01,1466.7 4609.01,1466.7 4618.16,1466.7 4609.01,1466.7 \n",
       "  \"/>\n",
       "<path clip-path=\"url(#clip814)\" d=\"\n",
       "M4618.16 1466.7 L4618.16 1466.7 L4627.32 1466.7 L4627.32 1466.7 L4618.16 1466.7 L4618.16 1466.7  Z\n",
       "  \" fill=\"#0000ff\" fill-rule=\"evenodd\" fill-opacity=\"1\"/>\n",
       "<polyline clip-path=\"url(#clip814)\" style=\"stroke:#000000; stroke-linecap:butt; stroke-linejoin:round; stroke-width:4; stroke-opacity:1; fill:none\" points=\"\n",
       "  4618.16,1466.7 4618.16,1466.7 4627.32,1466.7 4618.16,1466.7 \n",
       "  \"/>\n",
       "<path clip-path=\"url(#clip814)\" d=\"\n",
       "M4627.32 1466.7 L4627.32 1466.7 L4636.48 1466.7 L4636.48 1466.7 L4627.32 1466.7 L4627.32 1466.7  Z\n",
       "  \" fill=\"#0000ff\" fill-rule=\"evenodd\" fill-opacity=\"1\"/>\n",
       "<polyline clip-path=\"url(#clip814)\" style=\"stroke:#000000; stroke-linecap:butt; stroke-linejoin:round; stroke-width:4; stroke-opacity:1; fill:none\" points=\"\n",
       "  4627.32,1466.7 4627.32,1466.7 4636.48,1466.7 4627.32,1466.7 \n",
       "  \"/>\n",
       "<path clip-path=\"url(#clip814)\" d=\"\n",
       "M4636.48 1466.7 L4636.48 1466.7 L4645.64 1466.7 L4645.64 1466.7 L4636.48 1466.7 L4636.48 1466.7  Z\n",
       "  \" fill=\"#0000ff\" fill-rule=\"evenodd\" fill-opacity=\"1\"/>\n",
       "<polyline clip-path=\"url(#clip814)\" style=\"stroke:#000000; stroke-linecap:butt; stroke-linejoin:round; stroke-width:4; stroke-opacity:1; fill:none\" points=\"\n",
       "  4636.48,1466.7 4636.48,1466.7 4645.64,1466.7 4636.48,1466.7 \n",
       "  \"/>\n",
       "<path clip-path=\"url(#clip814)\" d=\"\n",
       "M4645.64 1466.7 L4645.64 1466.7 L4654.79 1466.7 L4654.79 1466.7 L4645.64 1466.7 L4645.64 1466.7  Z\n",
       "  \" fill=\"#0000ff\" fill-rule=\"evenodd\" fill-opacity=\"1\"/>\n",
       "<polyline clip-path=\"url(#clip814)\" style=\"stroke:#000000; stroke-linecap:butt; stroke-linejoin:round; stroke-width:4; stroke-opacity:1; fill:none\" points=\"\n",
       "  4645.64,1466.7 4645.64,1466.7 4654.79,1466.7 4645.64,1466.7 \n",
       "  \"/>\n",
       "<path clip-path=\"url(#clip814)\" d=\"\n",
       "M4654.79 1466.7 L4654.79 1466.7 L4663.95 1466.7 L4663.95 1466.7 L4654.79 1466.7 L4654.79 1466.7  Z\n",
       "  \" fill=\"#0000ff\" fill-rule=\"evenodd\" fill-opacity=\"1\"/>\n",
       "<polyline clip-path=\"url(#clip814)\" style=\"stroke:#000000; stroke-linecap:butt; stroke-linejoin:round; stroke-width:4; stroke-opacity:1; fill:none\" points=\"\n",
       "  4654.79,1466.7 4654.79,1466.7 4663.95,1466.7 4654.79,1466.7 \n",
       "  \"/>\n",
       "<path clip-path=\"url(#clip814)\" d=\"\n",
       "M4663.95 1466.7 L4663.95 1466.7 L4673.11 1466.7 L4673.11 1466.7 L4663.95 1466.7 L4663.95 1466.7  Z\n",
       "  \" fill=\"#0000ff\" fill-rule=\"evenodd\" fill-opacity=\"1\"/>\n",
       "<polyline clip-path=\"url(#clip814)\" style=\"stroke:#000000; stroke-linecap:butt; stroke-linejoin:round; stroke-width:4; stroke-opacity:1; fill:none\" points=\"\n",
       "  4663.95,1466.7 4663.95,1466.7 4673.11,1466.7 4663.95,1466.7 \n",
       "  \"/>\n",
       "<path clip-path=\"url(#clip814)\" d=\"\n",
       "M4673.11 1466.7 L4673.11 1466.7 L4682.26 1466.7 L4682.26 1466.7 L4673.11 1466.7 L4673.11 1466.7  Z\n",
       "  \" fill=\"#0000ff\" fill-rule=\"evenodd\" fill-opacity=\"1\"/>\n",
       "<polyline clip-path=\"url(#clip814)\" style=\"stroke:#000000; stroke-linecap:butt; stroke-linejoin:round; stroke-width:4; stroke-opacity:1; fill:none\" points=\"\n",
       "  4673.11,1466.7 4673.11,1466.7 4682.26,1466.7 4673.11,1466.7 \n",
       "  \"/>\n",
       "<path clip-path=\"url(#clip814)\" d=\"\n",
       "M4682.26 1466.7 L4682.26 1466.7 L4691.42 1466.7 L4691.42 1466.7 L4682.26 1466.7 L4682.26 1466.7  Z\n",
       "  \" fill=\"#0000ff\" fill-rule=\"evenodd\" fill-opacity=\"1\"/>\n",
       "<polyline clip-path=\"url(#clip814)\" style=\"stroke:#000000; stroke-linecap:butt; stroke-linejoin:round; stroke-width:4; stroke-opacity:1; fill:none\" points=\"\n",
       "  4682.26,1466.7 4682.26,1466.7 4691.42,1466.7 4682.26,1466.7 \n",
       "  \"/>\n",
       "<path clip-path=\"url(#clip814)\" d=\"\n",
       "M4691.42 1466.7 L4691.42 1466.7 L4700.58 1466.7 L4700.58 1466.7 L4691.42 1466.7 L4691.42 1466.7  Z\n",
       "  \" fill=\"#0000ff\" fill-rule=\"evenodd\" fill-opacity=\"1\"/>\n",
       "<polyline clip-path=\"url(#clip814)\" style=\"stroke:#000000; stroke-linecap:butt; stroke-linejoin:round; stroke-width:4; stroke-opacity:1; fill:none\" points=\"\n",
       "  4691.42,1466.7 4691.42,1466.7 4700.58,1466.7 4691.42,1466.7 \n",
       "  \"/>\n",
       "<path clip-path=\"url(#clip814)\" d=\"\n",
       "M4700.58 1466.7 L4700.58 1466.7 L4709.74 1466.7 L4709.74 1466.7 L4700.58 1466.7 L4700.58 1466.7  Z\n",
       "  \" fill=\"#0000ff\" fill-rule=\"evenodd\" fill-opacity=\"1\"/>\n",
       "<polyline clip-path=\"url(#clip814)\" style=\"stroke:#000000; stroke-linecap:butt; stroke-linejoin:round; stroke-width:4; stroke-opacity:1; fill:none\" points=\"\n",
       "  4700.58,1466.7 4700.58,1466.7 4709.74,1466.7 4700.58,1466.7 \n",
       "  \"/>\n",
       "<path clip-path=\"url(#clip814)\" d=\"\n",
       "M4709.74 1466.7 L4709.74 1466.7 L4718.89 1466.7 L4718.89 1466.7 L4709.74 1466.7 L4709.74 1466.7  Z\n",
       "  \" fill=\"#0000ff\" fill-rule=\"evenodd\" fill-opacity=\"1\"/>\n",
       "<polyline clip-path=\"url(#clip814)\" style=\"stroke:#000000; stroke-linecap:butt; stroke-linejoin:round; stroke-width:4; stroke-opacity:1; fill:none\" points=\"\n",
       "  4709.74,1466.7 4709.74,1466.7 4718.89,1466.7 4709.74,1466.7 \n",
       "  \"/>\n",
       "<path clip-path=\"url(#clip814)\" d=\"\n",
       "M4718.89 1466.7 L4718.89 1466.7 L4728.05 1466.7 L4728.05 1466.7 L4718.89 1466.7 L4718.89 1466.7  Z\n",
       "  \" fill=\"#0000ff\" fill-rule=\"evenodd\" fill-opacity=\"1\"/>\n",
       "<polyline clip-path=\"url(#clip814)\" style=\"stroke:#000000; stroke-linecap:butt; stroke-linejoin:round; stroke-width:4; stroke-opacity:1; fill:none\" points=\"\n",
       "  4718.89,1466.7 4718.89,1466.7 4728.05,1466.7 4718.89,1466.7 \n",
       "  \"/>\n",
       "<path clip-path=\"url(#clip814)\" d=\"\n",
       "M4728.05 1466.7 L4728.05 1466.7 L4737.21 1466.7 L4737.21 1466.7 L4728.05 1466.7 L4728.05 1466.7  Z\n",
       "  \" fill=\"#0000ff\" fill-rule=\"evenodd\" fill-opacity=\"1\"/>\n",
       "<polyline clip-path=\"url(#clip814)\" style=\"stroke:#000000; stroke-linecap:butt; stroke-linejoin:round; stroke-width:4; stroke-opacity:1; fill:none\" points=\"\n",
       "  4728.05,1466.7 4728.05,1466.7 4737.21,1466.7 4728.05,1466.7 \n",
       "  \"/>\n",
       "<path clip-path=\"url(#clip814)\" d=\"\n",
       "M4737.21 1466.7 L4737.21 1466.7 L4746.36 1466.7 L4746.36 1466.7 L4737.21 1466.7 L4737.21 1466.7  Z\n",
       "  \" fill=\"#0000ff\" fill-rule=\"evenodd\" fill-opacity=\"1\"/>\n",
       "<polyline clip-path=\"url(#clip814)\" style=\"stroke:#000000; stroke-linecap:butt; stroke-linejoin:round; stroke-width:4; stroke-opacity:1; fill:none\" points=\"\n",
       "  4737.21,1466.7 4737.21,1466.7 4746.36,1466.7 4737.21,1466.7 \n",
       "  \"/>\n",
       "<path clip-path=\"url(#clip814)\" d=\"\n",
       "M4746.36 1466.7 L4746.36 1466.7 L4755.52 1466.7 L4755.52 1466.7 L4746.36 1466.7 L4746.36 1466.7  Z\n",
       "  \" fill=\"#0000ff\" fill-rule=\"evenodd\" fill-opacity=\"1\"/>\n",
       "<polyline clip-path=\"url(#clip814)\" style=\"stroke:#000000; stroke-linecap:butt; stroke-linejoin:round; stroke-width:4; stroke-opacity:1; fill:none\" points=\"\n",
       "  4746.36,1466.7 4746.36,1466.7 4755.52,1466.7 4746.36,1466.7 \n",
       "  \"/>\n",
       "<path clip-path=\"url(#clip814)\" d=\"\n",
       "M4755.52 1466.7 L4755.52 1466.7 L4764.68 1466.7 L4764.68 1466.7 L4755.52 1466.7 L4755.52 1466.7  Z\n",
       "  \" fill=\"#0000ff\" fill-rule=\"evenodd\" fill-opacity=\"1\"/>\n",
       "<polyline clip-path=\"url(#clip814)\" style=\"stroke:#000000; stroke-linecap:butt; stroke-linejoin:round; stroke-width:4; stroke-opacity:1; fill:none\" points=\"\n",
       "  4755.52,1466.7 4755.52,1466.7 4764.68,1466.7 4755.52,1466.7 \n",
       "  \"/>\n",
       "<path clip-path=\"url(#clip814)\" d=\"\n",
       "M4764.68 1466.7 L4764.68 1466.7 L4773.84 1466.7 L4773.84 1466.7 L4764.68 1466.7 L4764.68 1466.7  Z\n",
       "  \" fill=\"#0000ff\" fill-rule=\"evenodd\" fill-opacity=\"1\"/>\n",
       "<polyline clip-path=\"url(#clip814)\" style=\"stroke:#000000; stroke-linecap:butt; stroke-linejoin:round; stroke-width:4; stroke-opacity:1; fill:none\" points=\"\n",
       "  4764.68,1466.7 4764.68,1466.7 4773.84,1466.7 4764.68,1466.7 \n",
       "  \"/>\n",
       "<path clip-path=\"url(#clip814)\" d=\"\n",
       "M4773.84 1466.7 L4773.84 1466.7 L4782.99 1466.7 L4782.99 1466.7 L4773.84 1466.7 L4773.84 1466.7  Z\n",
       "  \" fill=\"#0000ff\" fill-rule=\"evenodd\" fill-opacity=\"1\"/>\n",
       "<polyline clip-path=\"url(#clip814)\" style=\"stroke:#000000; stroke-linecap:butt; stroke-linejoin:round; stroke-width:4; stroke-opacity:1; fill:none\" points=\"\n",
       "  4773.84,1466.7 4773.84,1466.7 4782.99,1466.7 4773.84,1466.7 \n",
       "  \"/>\n",
       "<path clip-path=\"url(#clip814)\" d=\"\n",
       "M4782.99 1466.7 L4782.99 1466.7 L4792.15 1466.7 L4792.15 1466.7 L4782.99 1466.7 L4782.99 1466.7  Z\n",
       "  \" fill=\"#0000ff\" fill-rule=\"evenodd\" fill-opacity=\"1\"/>\n",
       "<polyline clip-path=\"url(#clip814)\" style=\"stroke:#000000; stroke-linecap:butt; stroke-linejoin:round; stroke-width:4; stroke-opacity:1; fill:none\" points=\"\n",
       "  4782.99,1466.7 4782.99,1466.7 4792.15,1466.7 4782.99,1466.7 \n",
       "  \"/>\n",
       "<path clip-path=\"url(#clip814)\" d=\"\n",
       "M4792.15 1466.7 L4792.15 1466.7 L4801.31 1466.7 L4801.31 1466.7 L4792.15 1466.7 L4792.15 1466.7  Z\n",
       "  \" fill=\"#0000ff\" fill-rule=\"evenodd\" fill-opacity=\"1\"/>\n",
       "<polyline clip-path=\"url(#clip814)\" style=\"stroke:#000000; stroke-linecap:butt; stroke-linejoin:round; stroke-width:4; stroke-opacity:1; fill:none\" points=\"\n",
       "  4792.15,1466.7 4792.15,1466.7 4801.31,1466.7 4792.15,1466.7 \n",
       "  \"/>\n",
       "<path clip-path=\"url(#clip814)\" d=\"\n",
       "M4801.31 1466.7 L4801.31 1466.7 L4810.47 1466.7 L4810.47 1466.7 L4801.31 1466.7 L4801.31 1466.7  Z\n",
       "  \" fill=\"#0000ff\" fill-rule=\"evenodd\" fill-opacity=\"1\"/>\n",
       "<polyline clip-path=\"url(#clip814)\" style=\"stroke:#000000; stroke-linecap:butt; stroke-linejoin:round; stroke-width:4; stroke-opacity:1; fill:none\" points=\"\n",
       "  4801.31,1466.7 4801.31,1466.7 4810.47,1466.7 4801.31,1466.7 \n",
       "  \"/>\n",
       "<path clip-path=\"url(#clip814)\" d=\"\n",
       "M4810.47 1466.7 L4810.47 1466.7 L4819.62 1466.7 L4819.62 1466.7 L4810.47 1466.7 L4810.47 1466.7  Z\n",
       "  \" fill=\"#0000ff\" fill-rule=\"evenodd\" fill-opacity=\"1\"/>\n",
       "<polyline clip-path=\"url(#clip814)\" style=\"stroke:#000000; stroke-linecap:butt; stroke-linejoin:round; stroke-width:4; stroke-opacity:1; fill:none\" points=\"\n",
       "  4810.47,1466.7 4810.47,1466.7 4819.62,1466.7 4810.47,1466.7 \n",
       "  \"/>\n",
       "<path clip-path=\"url(#clip814)\" d=\"\n",
       "M4819.62 1466.7 L4819.62 1466.7 L4828.78 1466.7 L4828.78 1466.7 L4819.62 1466.7 L4819.62 1466.7  Z\n",
       "  \" fill=\"#0000ff\" fill-rule=\"evenodd\" fill-opacity=\"1\"/>\n",
       "<polyline clip-path=\"url(#clip814)\" style=\"stroke:#000000; stroke-linecap:butt; stroke-linejoin:round; stroke-width:4; stroke-opacity:1; fill:none\" points=\"\n",
       "  4819.62,1466.7 4819.62,1466.7 4828.78,1466.7 4819.62,1466.7 \n",
       "  \"/>\n",
       "<path clip-path=\"url(#clip814)\" d=\"\n",
       "M4828.78 1466.7 L4828.78 1466.7 L4837.94 1466.7 L4837.94 1466.7 L4828.78 1466.7 L4828.78 1466.7  Z\n",
       "  \" fill=\"#0000ff\" fill-rule=\"evenodd\" fill-opacity=\"1\"/>\n",
       "<polyline clip-path=\"url(#clip814)\" style=\"stroke:#000000; stroke-linecap:butt; stroke-linejoin:round; stroke-width:4; stroke-opacity:1; fill:none\" points=\"\n",
       "  4828.78,1466.7 4828.78,1466.7 4837.94,1466.7 4828.78,1466.7 \n",
       "  \"/>\n",
       "<path clip-path=\"url(#clip814)\" d=\"\n",
       "M4837.94 1466.7 L4837.94 1466.7 L4847.09 1466.7 L4847.09 1466.7 L4837.94 1466.7 L4837.94 1466.7  Z\n",
       "  \" fill=\"#0000ff\" fill-rule=\"evenodd\" fill-opacity=\"1\"/>\n",
       "<polyline clip-path=\"url(#clip814)\" style=\"stroke:#000000; stroke-linecap:butt; stroke-linejoin:round; stroke-width:4; stroke-opacity:1; fill:none\" points=\"\n",
       "  4837.94,1466.7 4837.94,1466.7 4847.09,1466.7 4837.94,1466.7 \n",
       "  \"/>\n",
       "<path clip-path=\"url(#clip814)\" d=\"\n",
       "M4847.09 1466.7 L4847.09 1466.7 L4856.25 1466.7 L4856.25 1466.7 L4847.09 1466.7 L4847.09 1466.7  Z\n",
       "  \" fill=\"#0000ff\" fill-rule=\"evenodd\" fill-opacity=\"1\"/>\n",
       "<polyline clip-path=\"url(#clip814)\" style=\"stroke:#000000; stroke-linecap:butt; stroke-linejoin:round; stroke-width:4; stroke-opacity:1; fill:none\" points=\"\n",
       "  4847.09,1466.7 4847.09,1466.7 4856.25,1466.7 4847.09,1466.7 \n",
       "  \"/>\n",
       "<path clip-path=\"url(#clip814)\" d=\"\n",
       "M4856.25 1237.02 L4856.25 1466.7 L4865.41 1466.7 L4865.41 1237.02 L4856.25 1237.02 L4856.25 1237.02  Z\n",
       "  \" fill=\"#0000ff\" fill-rule=\"evenodd\" fill-opacity=\"1\"/>\n",
       "<polyline clip-path=\"url(#clip814)\" style=\"stroke:#000000; stroke-linecap:butt; stroke-linejoin:round; stroke-width:4; stroke-opacity:1; fill:none\" points=\"\n",
       "  4856.25,1237.02 4856.25,1466.7 4865.41,1466.7 4865.41,1237.02 4856.25,1237.02 \n",
       "  \"/>\n",
       "<path clip-path=\"url(#clip814)\" d=\"\n",
       "M4865.41 1237.02 L4865.41 1466.7 L4874.57 1466.7 L4874.57 1237.02 L4865.41 1237.02 L4865.41 1237.02  Z\n",
       "  \" fill=\"#0000ff\" fill-rule=\"evenodd\" fill-opacity=\"1\"/>\n",
       "<polyline clip-path=\"url(#clip814)\" style=\"stroke:#000000; stroke-linecap:butt; stroke-linejoin:round; stroke-width:4; stroke-opacity:1; fill:none\" points=\"\n",
       "  4865.41,1237.02 4865.41,1466.7 4874.57,1466.7 4874.57,1237.02 4865.41,1237.02 \n",
       "  \"/>\n",
       "<path clip-path=\"url(#clip814)\" d=\"\n",
       "M4874.57 1237.02 L4874.57 1466.7 L4883.72 1466.7 L4883.72 1237.02 L4874.57 1237.02 L4874.57 1237.02  Z\n",
       "  \" fill=\"#0000ff\" fill-rule=\"evenodd\" fill-opacity=\"1\"/>\n",
       "<polyline clip-path=\"url(#clip814)\" style=\"stroke:#000000; stroke-linecap:butt; stroke-linejoin:round; stroke-width:4; stroke-opacity:1; fill:none\" points=\"\n",
       "  4874.57,1237.02 4874.57,1466.7 4883.72,1466.7 4883.72,1237.02 4874.57,1237.02 \n",
       "  \"/>\n",
       "<path clip-path=\"url(#clip814)\" d=\"\n",
       "M4883.72 1466.7 L4883.72 1466.7 L4892.88 1466.7 L4892.88 1466.7 L4883.72 1466.7 L4883.72 1466.7  Z\n",
       "  \" fill=\"#0000ff\" fill-rule=\"evenodd\" fill-opacity=\"1\"/>\n",
       "<polyline clip-path=\"url(#clip814)\" style=\"stroke:#000000; stroke-linecap:butt; stroke-linejoin:round; stroke-width:4; stroke-opacity:1; fill:none\" points=\"\n",
       "  4883.72,1466.7 4883.72,1466.7 4892.88,1466.7 4883.72,1466.7 \n",
       "  \"/>\n",
       "<path clip-path=\"url(#clip814)\" d=\"\n",
       "M4892.88 1466.7 L4892.88 1466.7 L4902.04 1466.7 L4902.04 1466.7 L4892.88 1466.7 L4892.88 1466.7  Z\n",
       "  \" fill=\"#0000ff\" fill-rule=\"evenodd\" fill-opacity=\"1\"/>\n",
       "<polyline clip-path=\"url(#clip814)\" style=\"stroke:#000000; stroke-linecap:butt; stroke-linejoin:round; stroke-width:4; stroke-opacity:1; fill:none\" points=\"\n",
       "  4892.88,1466.7 4892.88,1466.7 4902.04,1466.7 4892.88,1466.7 \n",
       "  \"/>\n",
       "<path clip-path=\"url(#clip814)\" d=\"\n",
       "M4902.04 1466.7 L4902.04 1466.7 L4911.19 1466.7 L4911.19 1466.7 L4902.04 1466.7 L4902.04 1466.7  Z\n",
       "  \" fill=\"#0000ff\" fill-rule=\"evenodd\" fill-opacity=\"1\"/>\n",
       "<polyline clip-path=\"url(#clip814)\" style=\"stroke:#000000; stroke-linecap:butt; stroke-linejoin:round; stroke-width:4; stroke-opacity:1; fill:none\" points=\"\n",
       "  4902.04,1466.7 4902.04,1466.7 4911.19,1466.7 4902.04,1466.7 \n",
       "  \"/>\n",
       "<path clip-path=\"url(#clip814)\" d=\"\n",
       "M4911.19 1466.7 L4911.19 1466.7 L4920.35 1466.7 L4920.35 1466.7 L4911.19 1466.7 L4911.19 1466.7  Z\n",
       "  \" fill=\"#0000ff\" fill-rule=\"evenodd\" fill-opacity=\"1\"/>\n",
       "<polyline clip-path=\"url(#clip814)\" style=\"stroke:#000000; stroke-linecap:butt; stroke-linejoin:round; stroke-width:4; stroke-opacity:1; fill:none\" points=\"\n",
       "  4911.19,1466.7 4911.19,1466.7 4920.35,1466.7 4911.19,1466.7 \n",
       "  \"/>\n",
       "<path clip-path=\"url(#clip814)\" d=\"\n",
       "M4920.35 777.646 L4920.35 1466.7 L4929.51 1466.7 L4929.51 777.646 L4920.35 777.646 L4920.35 777.646  Z\n",
       "  \" fill=\"#0000ff\" fill-rule=\"evenodd\" fill-opacity=\"1\"/>\n",
       "<polyline clip-path=\"url(#clip814)\" style=\"stroke:#000000; stroke-linecap:butt; stroke-linejoin:round; stroke-width:4; stroke-opacity:1; fill:none\" points=\"\n",
       "  4920.35,777.646 4920.35,1466.7 4929.51,1466.7 4929.51,777.646 4920.35,777.646 \n",
       "  \"/>\n",
       "<path clip-path=\"url(#clip814)\" d=\"\n",
       "M4929.51 1466.7 L4929.51 1466.7 L4938.67 1466.7 L4938.67 1466.7 L4929.51 1466.7 L4929.51 1466.7  Z\n",
       "  \" fill=\"#0000ff\" fill-rule=\"evenodd\" fill-opacity=\"1\"/>\n",
       "<polyline clip-path=\"url(#clip814)\" style=\"stroke:#000000; stroke-linecap:butt; stroke-linejoin:round; stroke-width:4; stroke-opacity:1; fill:none\" points=\"\n",
       "  4929.51,1466.7 4929.51,1466.7 4938.67,1466.7 4929.51,1466.7 \n",
       "  \"/>\n",
       "<path clip-path=\"url(#clip814)\" d=\"\n",
       "M4938.67 1237.02 L4938.67 1466.7 L4947.82 1466.7 L4947.82 1237.02 L4938.67 1237.02 L4938.67 1237.02  Z\n",
       "  \" fill=\"#0000ff\" fill-rule=\"evenodd\" fill-opacity=\"1\"/>\n",
       "<polyline clip-path=\"url(#clip814)\" style=\"stroke:#000000; stroke-linecap:butt; stroke-linejoin:round; stroke-width:4; stroke-opacity:1; fill:none\" points=\"\n",
       "  4938.67,1237.02 4938.67,1466.7 4947.82,1466.7 4947.82,1237.02 4938.67,1237.02 \n",
       "  \"/>\n",
       "<path clip-path=\"url(#clip814)\" d=\"\n",
       "M4947.82 1237.02 L4947.82 1466.7 L4956.98 1466.7 L4956.98 1237.02 L4947.82 1237.02 L4947.82 1237.02  Z\n",
       "  \" fill=\"#0000ff\" fill-rule=\"evenodd\" fill-opacity=\"1\"/>\n",
       "<polyline clip-path=\"url(#clip814)\" style=\"stroke:#000000; stroke-linecap:butt; stroke-linejoin:round; stroke-width:4; stroke-opacity:1; fill:none\" points=\"\n",
       "  4947.82,1237.02 4947.82,1466.7 4956.98,1466.7 4956.98,1237.02 4947.82,1237.02 \n",
       "  \"/>\n",
       "<path clip-path=\"url(#clip814)\" d=\"\n",
       "M4956.98 1007.33 L4956.98 1466.7 L4966.14 1466.7 L4966.14 1007.33 L4956.98 1007.33 L4956.98 1007.33  Z\n",
       "  \" fill=\"#0000ff\" fill-rule=\"evenodd\" fill-opacity=\"1\"/>\n",
       "<polyline clip-path=\"url(#clip814)\" style=\"stroke:#000000; stroke-linecap:butt; stroke-linejoin:round; stroke-width:4; stroke-opacity:1; fill:none\" points=\"\n",
       "  4956.98,1007.33 4956.98,1466.7 4966.14,1466.7 4966.14,1007.33 4956.98,1007.33 \n",
       "  \"/>\n",
       "<path clip-path=\"url(#clip814)\" d=\"\n",
       "M4966.14 547.96 L4966.14 1466.7 L4975.29 1466.7 L4975.29 547.96 L4966.14 547.96 L4966.14 547.96  Z\n",
       "  \" fill=\"#0000ff\" fill-rule=\"evenodd\" fill-opacity=\"1\"/>\n",
       "<polyline clip-path=\"url(#clip814)\" style=\"stroke:#000000; stroke-linecap:butt; stroke-linejoin:round; stroke-width:4; stroke-opacity:1; fill:none\" points=\"\n",
       "  4966.14,547.96 4966.14,1466.7 4975.29,1466.7 4975.29,547.96 4966.14,547.96 \n",
       "  \"/>\n",
       "<path clip-path=\"url(#clip814)\" d=\"\n",
       "M4975.29 1237.02 L4975.29 1466.7 L4984.45 1466.7 L4984.45 1237.02 L4975.29 1237.02 L4975.29 1237.02  Z\n",
       "  \" fill=\"#0000ff\" fill-rule=\"evenodd\" fill-opacity=\"1\"/>\n",
       "<polyline clip-path=\"url(#clip814)\" style=\"stroke:#000000; stroke-linecap:butt; stroke-linejoin:round; stroke-width:4; stroke-opacity:1; fill:none\" points=\"\n",
       "  4975.29,1237.02 4975.29,1466.7 4984.45,1466.7 4984.45,1237.02 4975.29,1237.02 \n",
       "  \"/>\n",
       "<path clip-path=\"url(#clip814)\" d=\"\n",
       "M4984.45 1007.33 L4984.45 1466.7 L4993.61 1466.7 L4993.61 1007.33 L4984.45 1007.33 L4984.45 1007.33  Z\n",
       "  \" fill=\"#0000ff\" fill-rule=\"evenodd\" fill-opacity=\"1\"/>\n",
       "<polyline clip-path=\"url(#clip814)\" style=\"stroke:#000000; stroke-linecap:butt; stroke-linejoin:round; stroke-width:4; stroke-opacity:1; fill:none\" points=\"\n",
       "  4984.45,1007.33 4984.45,1466.7 4993.61,1466.7 4993.61,1007.33 4984.45,1007.33 \n",
       "  \"/>\n",
       "<path clip-path=\"url(#clip814)\" d=\"\n",
       "M4993.61 1007.33 L4993.61 1466.7 L5002.77 1466.7 L5002.77 1007.33 L4993.61 1007.33 L4993.61 1007.33  Z\n",
       "  \" fill=\"#0000ff\" fill-rule=\"evenodd\" fill-opacity=\"1\"/>\n",
       "<polyline clip-path=\"url(#clip814)\" style=\"stroke:#000000; stroke-linecap:butt; stroke-linejoin:round; stroke-width:4; stroke-opacity:1; fill:none\" points=\"\n",
       "  4993.61,1007.33 4993.61,1466.7 5002.77,1466.7 5002.77,1007.33 4993.61,1007.33 \n",
       "  \"/>\n",
       "<path clip-path=\"url(#clip814)\" d=\"\n",
       "M5002.77 1237.02 L5002.77 1466.7 L5011.92 1466.7 L5011.92 1237.02 L5002.77 1237.02 L5002.77 1237.02  Z\n",
       "  \" fill=\"#0000ff\" fill-rule=\"evenodd\" fill-opacity=\"1\"/>\n",
       "<polyline clip-path=\"url(#clip814)\" style=\"stroke:#000000; stroke-linecap:butt; stroke-linejoin:round; stroke-width:4; stroke-opacity:1; fill:none\" points=\"\n",
       "  5002.77,1237.02 5002.77,1466.7 5011.92,1466.7 5011.92,1237.02 5002.77,1237.02 \n",
       "  \"/>\n",
       "<path clip-path=\"url(#clip814)\" d=\"\n",
       "M5011.92 1466.7 L5011.92 1466.7 L5021.08 1466.7 L5021.08 1466.7 L5011.92 1466.7 L5011.92 1466.7  Z\n",
       "  \" fill=\"#0000ff\" fill-rule=\"evenodd\" fill-opacity=\"1\"/>\n",
       "<polyline clip-path=\"url(#clip814)\" style=\"stroke:#000000; stroke-linecap:butt; stroke-linejoin:round; stroke-width:4; stroke-opacity:1; fill:none\" points=\"\n",
       "  5011.92,1466.7 5011.92,1466.7 5021.08,1466.7 5011.92,1466.7 \n",
       "  \"/>\n",
       "<path clip-path=\"url(#clip814)\" d=\"\n",
       "M5021.08 1466.7 L5021.08 1466.7 L5030.24 1466.7 L5030.24 1466.7 L5021.08 1466.7 L5021.08 1466.7  Z\n",
       "  \" fill=\"#0000ff\" fill-rule=\"evenodd\" fill-opacity=\"1\"/>\n",
       "<polyline clip-path=\"url(#clip814)\" style=\"stroke:#000000; stroke-linecap:butt; stroke-linejoin:round; stroke-width:4; stroke-opacity:1; fill:none\" points=\"\n",
       "  5021.08,1466.7 5021.08,1466.7 5030.24,1466.7 5021.08,1466.7 \n",
       "  \"/>\n",
       "<path clip-path=\"url(#clip814)\" d=\"\n",
       "M5030.24 1237.02 L5030.24 1466.7 L5039.39 1466.7 L5039.39 1237.02 L5030.24 1237.02 L5030.24 1237.02  Z\n",
       "  \" fill=\"#0000ff\" fill-rule=\"evenodd\" fill-opacity=\"1\"/>\n",
       "<polyline clip-path=\"url(#clip814)\" style=\"stroke:#000000; stroke-linecap:butt; stroke-linejoin:round; stroke-width:4; stroke-opacity:1; fill:none\" points=\"\n",
       "  5030.24,1237.02 5030.24,1466.7 5039.39,1466.7 5039.39,1237.02 5030.24,1237.02 \n",
       "  \"/>\n",
       "<path clip-path=\"url(#clip814)\" d=\"\n",
       "M5039.39 1237.02 L5039.39 1466.7 L5048.55 1466.7 L5048.55 1237.02 L5039.39 1237.02 L5039.39 1237.02  Z\n",
       "  \" fill=\"#0000ff\" fill-rule=\"evenodd\" fill-opacity=\"1\"/>\n",
       "<polyline clip-path=\"url(#clip814)\" style=\"stroke:#000000; stroke-linecap:butt; stroke-linejoin:round; stroke-width:4; stroke-opacity:1; fill:none\" points=\"\n",
       "  5039.39,1237.02 5039.39,1466.7 5048.55,1466.7 5048.55,1237.02 5039.39,1237.02 \n",
       "  \"/>\n",
       "<path clip-path=\"url(#clip814)\" d=\"\n",
       "M5048.55 1466.7 L5048.55 1466.7 L5057.71 1466.7 L5057.71 1466.7 L5048.55 1466.7 L5048.55 1466.7  Z\n",
       "  \" fill=\"#0000ff\" fill-rule=\"evenodd\" fill-opacity=\"1\"/>\n",
       "<polyline clip-path=\"url(#clip814)\" style=\"stroke:#000000; stroke-linecap:butt; stroke-linejoin:round; stroke-width:4; stroke-opacity:1; fill:none\" points=\"\n",
       "  5048.55,1466.7 5048.55,1466.7 5057.71,1466.7 5048.55,1466.7 \n",
       "  \"/>\n",
       "<path clip-path=\"url(#clip814)\" d=\"\n",
       "M5057.71 1237.02 L5057.71 1466.7 L5066.87 1466.7 L5066.87 1237.02 L5057.71 1237.02 L5057.71 1237.02  Z\n",
       "  \" fill=\"#0000ff\" fill-rule=\"evenodd\" fill-opacity=\"1\"/>\n",
       "<polyline clip-path=\"url(#clip814)\" style=\"stroke:#000000; stroke-linecap:butt; stroke-linejoin:round; stroke-width:4; stroke-opacity:1; fill:none\" points=\"\n",
       "  5057.71,1237.02 5057.71,1466.7 5066.87,1466.7 5066.87,1237.02 5057.71,1237.02 \n",
       "  \"/>\n",
       "<path clip-path=\"url(#clip814)\" d=\"\n",
       "M5066.87 1466.7 L5066.87 1466.7 L5076.02 1466.7 L5076.02 1466.7 L5066.87 1466.7 L5066.87 1466.7  Z\n",
       "  \" fill=\"#0000ff\" fill-rule=\"evenodd\" fill-opacity=\"1\"/>\n",
       "<polyline clip-path=\"url(#clip814)\" style=\"stroke:#000000; stroke-linecap:butt; stroke-linejoin:round; stroke-width:4; stroke-opacity:1; fill:none\" points=\"\n",
       "  5066.87,1466.7 5066.87,1466.7 5076.02,1466.7 5066.87,1466.7 \n",
       "  \"/>\n",
       "<path clip-path=\"url(#clip814)\" d=\"\n",
       "M5076.02 1007.33 L5076.02 1466.7 L5085.18 1466.7 L5085.18 1007.33 L5076.02 1007.33 L5076.02 1007.33  Z\n",
       "  \" fill=\"#0000ff\" fill-rule=\"evenodd\" fill-opacity=\"1\"/>\n",
       "<polyline clip-path=\"url(#clip814)\" style=\"stroke:#000000; stroke-linecap:butt; stroke-linejoin:round; stroke-width:4; stroke-opacity:1; fill:none\" points=\"\n",
       "  5076.02,1007.33 5076.02,1466.7 5085.18,1466.7 5085.18,1007.33 5076.02,1007.33 \n",
       "  \"/>\n",
       "<path clip-path=\"url(#clip814)\" d=\"\n",
       "M5085.18 1466.7 L5085.18 1466.7 L5094.34 1466.7 L5094.34 1466.7 L5085.18 1466.7 L5085.18 1466.7  Z\n",
       "  \" fill=\"#0000ff\" fill-rule=\"evenodd\" fill-opacity=\"1\"/>\n",
       "<polyline clip-path=\"url(#clip814)\" style=\"stroke:#000000; stroke-linecap:butt; stroke-linejoin:round; stroke-width:4; stroke-opacity:1; fill:none\" points=\"\n",
       "  5085.18,1466.7 5085.18,1466.7 5094.34,1466.7 5085.18,1466.7 \n",
       "  \"/>\n",
       "<path clip-path=\"url(#clip814)\" d=\"\n",
       "M5094.34 1237.02 L5094.34 1466.7 L5103.49 1466.7 L5103.49 1237.02 L5094.34 1237.02 L5094.34 1237.02  Z\n",
       "  \" fill=\"#0000ff\" fill-rule=\"evenodd\" fill-opacity=\"1\"/>\n",
       "<polyline clip-path=\"url(#clip814)\" style=\"stroke:#000000; stroke-linecap:butt; stroke-linejoin:round; stroke-width:4; stroke-opacity:1; fill:none\" points=\"\n",
       "  5094.34,1237.02 5094.34,1466.7 5103.49,1466.7 5103.49,1237.02 5094.34,1237.02 \n",
       "  \"/>\n",
       "<path clip-path=\"url(#clip814)\" d=\"\n",
       "M5103.49 1237.02 L5103.49 1466.7 L5112.65 1466.7 L5112.65 1237.02 L5103.49 1237.02 L5103.49 1237.02  Z\n",
       "  \" fill=\"#0000ff\" fill-rule=\"evenodd\" fill-opacity=\"1\"/>\n",
       "<polyline clip-path=\"url(#clip814)\" style=\"stroke:#000000; stroke-linecap:butt; stroke-linejoin:round; stroke-width:4; stroke-opacity:1; fill:none\" points=\"\n",
       "  5103.49,1237.02 5103.49,1466.7 5112.65,1466.7 5112.65,1237.02 5103.49,1237.02 \n",
       "  \"/>\n",
       "<circle clip-path=\"url(#clip814)\" style=\"fill:#e26f46; stroke:none; fill-opacity:0\" cx=\"4531.17\" cy=\"547.96\" r=\"2\"/>\n",
       "<circle clip-path=\"url(#clip814)\" style=\"fill:#e26f46; stroke:none; fill-opacity:0\" cx=\"4540.33\" cy=\"1237.02\" r=\"2\"/>\n",
       "<circle clip-path=\"url(#clip814)\" style=\"fill:#e26f46; stroke:none; fill-opacity:0\" cx=\"4549.49\" cy=\"1466.7\" r=\"2\"/>\n",
       "<circle clip-path=\"url(#clip814)\" style=\"fill:#e26f46; stroke:none; fill-opacity:0\" cx=\"4558.64\" cy=\"1237.02\" r=\"2\"/>\n",
       "<circle clip-path=\"url(#clip814)\" style=\"fill:#e26f46; stroke:none; fill-opacity:0\" cx=\"4567.8\" cy=\"1466.7\" r=\"2\"/>\n",
       "<circle clip-path=\"url(#clip814)\" style=\"fill:#e26f46; stroke:none; fill-opacity:0\" cx=\"4576.96\" cy=\"1466.7\" r=\"2\"/>\n",
       "<circle clip-path=\"url(#clip814)\" style=\"fill:#e26f46; stroke:none; fill-opacity:0\" cx=\"4586.11\" cy=\"1466.7\" r=\"2\"/>\n",
       "<circle clip-path=\"url(#clip814)\" style=\"fill:#e26f46; stroke:none; fill-opacity:0\" cx=\"4595.27\" cy=\"1466.7\" r=\"2\"/>\n",
       "<circle clip-path=\"url(#clip814)\" style=\"fill:#e26f46; stroke:none; fill-opacity:0\" cx=\"4604.43\" cy=\"1466.7\" r=\"2\"/>\n",
       "<circle clip-path=\"url(#clip814)\" style=\"fill:#e26f46; stroke:none; fill-opacity:0\" cx=\"4613.59\" cy=\"1466.7\" r=\"2\"/>\n",
       "<circle clip-path=\"url(#clip814)\" style=\"fill:#e26f46; stroke:none; fill-opacity:0\" cx=\"4622.74\" cy=\"1466.7\" r=\"2\"/>\n",
       "<circle clip-path=\"url(#clip814)\" style=\"fill:#e26f46; stroke:none; fill-opacity:0\" cx=\"4631.9\" cy=\"1466.7\" r=\"2\"/>\n",
       "<circle clip-path=\"url(#clip814)\" style=\"fill:#e26f46; stroke:none; fill-opacity:0\" cx=\"4641.06\" cy=\"1466.7\" r=\"2\"/>\n",
       "<circle clip-path=\"url(#clip814)\" style=\"fill:#e26f46; stroke:none; fill-opacity:0\" cx=\"4650.21\" cy=\"1466.7\" r=\"2\"/>\n",
       "<circle clip-path=\"url(#clip814)\" style=\"fill:#e26f46; stroke:none; fill-opacity:0\" cx=\"4659.37\" cy=\"1466.7\" r=\"2\"/>\n",
       "<circle clip-path=\"url(#clip814)\" style=\"fill:#e26f46; stroke:none; fill-opacity:0\" cx=\"4668.53\" cy=\"1466.7\" r=\"2\"/>\n",
       "<circle clip-path=\"url(#clip814)\" style=\"fill:#e26f46; stroke:none; fill-opacity:0\" cx=\"4677.69\" cy=\"1466.7\" r=\"2\"/>\n",
       "<circle clip-path=\"url(#clip814)\" style=\"fill:#e26f46; stroke:none; fill-opacity:0\" cx=\"4686.84\" cy=\"1466.7\" r=\"2\"/>\n",
       "<circle clip-path=\"url(#clip814)\" style=\"fill:#e26f46; stroke:none; fill-opacity:0\" cx=\"4696\" cy=\"1466.7\" r=\"2\"/>\n",
       "<circle clip-path=\"url(#clip814)\" style=\"fill:#e26f46; stroke:none; fill-opacity:0\" cx=\"4705.16\" cy=\"1466.7\" r=\"2\"/>\n",
       "<circle clip-path=\"url(#clip814)\" style=\"fill:#e26f46; stroke:none; fill-opacity:0\" cx=\"4714.31\" cy=\"1466.7\" r=\"2\"/>\n",
       "<circle clip-path=\"url(#clip814)\" style=\"fill:#e26f46; stroke:none; fill-opacity:0\" cx=\"4723.47\" cy=\"1466.7\" r=\"2\"/>\n",
       "<circle clip-path=\"url(#clip814)\" style=\"fill:#e26f46; stroke:none; fill-opacity:0\" cx=\"4732.63\" cy=\"1466.7\" r=\"2\"/>\n",
       "<circle clip-path=\"url(#clip814)\" style=\"fill:#e26f46; stroke:none; fill-opacity:0\" cx=\"4741.79\" cy=\"1466.7\" r=\"2\"/>\n",
       "<circle clip-path=\"url(#clip814)\" style=\"fill:#e26f46; stroke:none; fill-opacity:0\" cx=\"4750.94\" cy=\"1466.7\" r=\"2\"/>\n",
       "<circle clip-path=\"url(#clip814)\" style=\"fill:#e26f46; stroke:none; fill-opacity:0\" cx=\"4760.1\" cy=\"1466.7\" r=\"2\"/>\n",
       "<circle clip-path=\"url(#clip814)\" style=\"fill:#e26f46; stroke:none; fill-opacity:0\" cx=\"4769.26\" cy=\"1466.7\" r=\"2\"/>\n",
       "<circle clip-path=\"url(#clip814)\" style=\"fill:#e26f46; stroke:none; fill-opacity:0\" cx=\"4778.41\" cy=\"1466.7\" r=\"2\"/>\n",
       "<circle clip-path=\"url(#clip814)\" style=\"fill:#e26f46; stroke:none; fill-opacity:0\" cx=\"4787.57\" cy=\"1466.7\" r=\"2\"/>\n",
       "<circle clip-path=\"url(#clip814)\" style=\"fill:#e26f46; stroke:none; fill-opacity:0\" cx=\"4796.73\" cy=\"1466.7\" r=\"2\"/>\n",
       "<circle clip-path=\"url(#clip814)\" style=\"fill:#e26f46; stroke:none; fill-opacity:0\" cx=\"4805.89\" cy=\"1466.7\" r=\"2\"/>\n",
       "<circle clip-path=\"url(#clip814)\" style=\"fill:#e26f46; stroke:none; fill-opacity:0\" cx=\"4815.04\" cy=\"1466.7\" r=\"2\"/>\n",
       "<circle clip-path=\"url(#clip814)\" style=\"fill:#e26f46; stroke:none; fill-opacity:0\" cx=\"4824.2\" cy=\"1466.7\" r=\"2\"/>\n",
       "<circle clip-path=\"url(#clip814)\" style=\"fill:#e26f46; stroke:none; fill-opacity:0\" cx=\"4833.36\" cy=\"1466.7\" r=\"2\"/>\n",
       "<circle clip-path=\"url(#clip814)\" style=\"fill:#e26f46; stroke:none; fill-opacity:0\" cx=\"4842.52\" cy=\"1466.7\" r=\"2\"/>\n",
       "<circle clip-path=\"url(#clip814)\" style=\"fill:#e26f46; stroke:none; fill-opacity:0\" cx=\"4851.67\" cy=\"1466.7\" r=\"2\"/>\n",
       "<circle clip-path=\"url(#clip814)\" style=\"fill:#e26f46; stroke:none; fill-opacity:0\" cx=\"4860.83\" cy=\"1237.02\" r=\"2\"/>\n",
       "<circle clip-path=\"url(#clip814)\" style=\"fill:#e26f46; stroke:none; fill-opacity:0\" cx=\"4869.99\" cy=\"1237.02\" r=\"2\"/>\n",
       "<circle clip-path=\"url(#clip814)\" style=\"fill:#e26f46; stroke:none; fill-opacity:0\" cx=\"4879.14\" cy=\"1237.02\" r=\"2\"/>\n",
       "<circle clip-path=\"url(#clip814)\" style=\"fill:#e26f46; stroke:none; fill-opacity:0\" cx=\"4888.3\" cy=\"1466.7\" r=\"2\"/>\n",
       "<circle clip-path=\"url(#clip814)\" style=\"fill:#e26f46; stroke:none; fill-opacity:0\" cx=\"4897.46\" cy=\"1466.7\" r=\"2\"/>\n",
       "<circle clip-path=\"url(#clip814)\" style=\"fill:#e26f46; stroke:none; fill-opacity:0\" cx=\"4906.62\" cy=\"1466.7\" r=\"2\"/>\n",
       "<circle clip-path=\"url(#clip814)\" style=\"fill:#e26f46; stroke:none; fill-opacity:0\" cx=\"4915.77\" cy=\"1466.7\" r=\"2\"/>\n",
       "<circle clip-path=\"url(#clip814)\" style=\"fill:#e26f46; stroke:none; fill-opacity:0\" cx=\"4924.93\" cy=\"777.646\" r=\"2\"/>\n",
       "<circle clip-path=\"url(#clip814)\" style=\"fill:#e26f46; stroke:none; fill-opacity:0\" cx=\"4934.09\" cy=\"1466.7\" r=\"2\"/>\n",
       "<circle clip-path=\"url(#clip814)\" style=\"fill:#e26f46; stroke:none; fill-opacity:0\" cx=\"4943.24\" cy=\"1237.02\" r=\"2\"/>\n",
       "<circle clip-path=\"url(#clip814)\" style=\"fill:#e26f46; stroke:none; fill-opacity:0\" cx=\"4952.4\" cy=\"1237.02\" r=\"2\"/>\n",
       "<circle clip-path=\"url(#clip814)\" style=\"fill:#e26f46; stroke:none; fill-opacity:0\" cx=\"4961.56\" cy=\"1007.33\" r=\"2\"/>\n",
       "<circle clip-path=\"url(#clip814)\" style=\"fill:#e26f46; stroke:none; fill-opacity:0\" cx=\"4970.72\" cy=\"547.96\" r=\"2\"/>\n",
       "<circle clip-path=\"url(#clip814)\" style=\"fill:#e26f46; stroke:none; fill-opacity:0\" cx=\"4979.87\" cy=\"1237.02\" r=\"2\"/>\n",
       "<circle clip-path=\"url(#clip814)\" style=\"fill:#e26f46; stroke:none; fill-opacity:0\" cx=\"4989.03\" cy=\"1007.33\" r=\"2\"/>\n",
       "<circle clip-path=\"url(#clip814)\" style=\"fill:#e26f46; stroke:none; fill-opacity:0\" cx=\"4998.19\" cy=\"1007.33\" r=\"2\"/>\n",
       "<circle clip-path=\"url(#clip814)\" style=\"fill:#e26f46; stroke:none; fill-opacity:0\" cx=\"5007.34\" cy=\"1237.02\" r=\"2\"/>\n",
       "<circle clip-path=\"url(#clip814)\" style=\"fill:#e26f46; stroke:none; fill-opacity:0\" cx=\"5016.5\" cy=\"1466.7\" r=\"2\"/>\n",
       "<circle clip-path=\"url(#clip814)\" style=\"fill:#e26f46; stroke:none; fill-opacity:0\" cx=\"5025.66\" cy=\"1466.7\" r=\"2\"/>\n",
       "<circle clip-path=\"url(#clip814)\" style=\"fill:#e26f46; stroke:none; fill-opacity:0\" cx=\"5034.82\" cy=\"1237.02\" r=\"2\"/>\n",
       "<circle clip-path=\"url(#clip814)\" style=\"fill:#e26f46; stroke:none; fill-opacity:0\" cx=\"5043.97\" cy=\"1237.02\" r=\"2\"/>\n",
       "<circle clip-path=\"url(#clip814)\" style=\"fill:#e26f46; stroke:none; fill-opacity:0\" cx=\"5053.13\" cy=\"1466.7\" r=\"2\"/>\n",
       "<circle clip-path=\"url(#clip814)\" style=\"fill:#e26f46; stroke:none; fill-opacity:0\" cx=\"5062.29\" cy=\"1237.02\" r=\"2\"/>\n",
       "<circle clip-path=\"url(#clip814)\" style=\"fill:#e26f46; stroke:none; fill-opacity:0\" cx=\"5071.44\" cy=\"1466.7\" r=\"2\"/>\n",
       "<circle clip-path=\"url(#clip814)\" style=\"fill:#e26f46; stroke:none; fill-opacity:0\" cx=\"5080.6\" cy=\"1007.33\" r=\"2\"/>\n",
       "<circle clip-path=\"url(#clip814)\" style=\"fill:#e26f46; stroke:none; fill-opacity:0\" cx=\"5089.76\" cy=\"1466.7\" r=\"2\"/>\n",
       "<circle clip-path=\"url(#clip814)\" style=\"fill:#e26f46; stroke:none; fill-opacity:0\" cx=\"5098.92\" cy=\"1237.02\" r=\"2\"/>\n",
       "<circle clip-path=\"url(#clip814)\" style=\"fill:#e26f46; stroke:none; fill-opacity:0\" cx=\"5108.07\" cy=\"1237.02\" r=\"2\"/>\n",
       "</svg>\n"
      ]
     },
     "execution_count": 255,
     "metadata": {},
     "output_type": "execute_result"
    }
   ],
   "source": [
    "params = Optim.minimizer(res)\n",
    "inferred_model = FlowModel( (AdditiveCouplingLayer(         PlanarFlow(params[1],  params[2],  params[3])),\n",
    "                             ReverseAdditiveCouplingLayer(  PlanarFlow(params[4],  params[5],  params[6])),\n",
    "                             AdditiveCouplingLayer(         PlanarFlow(params[7],  params[8],  params[9])),\n",
    "                             ReverseAdditiveCouplingLayer(  PlanarFlow(params[10], params[11], params[12]))))\n",
    "trans_data_x_1 = hcat(map((x) -> forward(inferred_model, x), [data_x[k,:] for k=1:size(data_x,1)])...)'\n",
    "trans_data_x_2 = map((x) -> dot([1, 1], x), [trans_data_x_1[k,:] for k=1:size(data_x,1)])\n",
    "trans_data_x_2_split = [trans_data_x_2[data_y .== 1.0], trans_data_x_2[data_y .== 0.0]]\n",
    "plt1 = scatter(data_x[:,1], data_x[:,2], color=dat_to_col(data_y))\n",
    "plt2 = scatter(trans_data_x_1[:,1], trans_data_x_1[:,2], color=dat_to_col(data_y))\n",
    "hist = histogram(trans_data_x_2_split; stacked=true, bins=60,  fillcolor=[\"red\" \"blue\"], label = [\"Positive\" \"Negative\"], legend=:topleft)\n",
    "plot(plt1, plt2, hist, size=(1600, 400), legend=false, layout=(1, 3))"
   ]
  },
  {
   "cell_type": "code",
   "execution_count": 262,
   "id": "extra-transport",
   "metadata": {},
   "outputs": [
    {
     "data": {
      "image/svg+xml": [
       "<?xml version=\"1.0\" encoding=\"utf-8\"?>\n",
       "<svg xmlns=\"http://www.w3.org/2000/svg\" xmlns:xlink=\"http://www.w3.org/1999/xlink\" width=\"1200\" height=\"300\" viewBox=\"0 0 4800 1200\">\n",
       "<defs>\n",
       "  <clipPath id=\"clip090\">\n",
       "    <rect x=\"0\" y=\"0\" width=\"4800\" height=\"1200\"/>\n",
       "  </clipPath>\n",
       "</defs>\n",
       "<path clip-path=\"url(#clip090)\" d=\"\n",
       "M0 1200 L4800 1200 L4800 0 L0 0  Z\n",
       "  \" fill=\"#ffffff\" fill-rule=\"evenodd\" fill-opacity=\"1\"/>\n",
       "<defs>\n",
       "  <clipPath id=\"clip091\">\n",
       "    <rect x=\"960\" y=\"0\" width=\"3361\" height=\"1200\"/>\n",
       "  </clipPath>\n",
       "</defs>\n",
       "<path clip-path=\"url(#clip090)\" d=\"\n",
       "M243.842 1078.48 L1573.84 1078.48 L1573.84 47.2441 L243.842 47.2441  Z\n",
       "  \" fill=\"#ffffff\" fill-rule=\"evenodd\" fill-opacity=\"1\"/>\n",
       "<defs>\n",
       "  <clipPath id=\"clip092\">\n",
       "    <rect x=\"243\" y=\"47\" width=\"1331\" height=\"1032\"/>\n",
       "  </clipPath>\n",
       "</defs>\n",
       "<polyline clip-path=\"url(#clip092)\" style=\"stroke:#000000; stroke-linecap:butt; stroke-linejoin:round; stroke-width:2; stroke-opacity:0.1; fill:none\" points=\"\n",
       "  304.52,1078.48 304.52,47.2441 \n",
       "  \"/>\n",
       "<polyline clip-path=\"url(#clip092)\" style=\"stroke:#000000; stroke-linecap:butt; stroke-linejoin:round; stroke-width:2; stroke-opacity:0.1; fill:none\" points=\"\n",
       "  604.247,1078.48 604.247,47.2441 \n",
       "  \"/>\n",
       "<polyline clip-path=\"url(#clip092)\" style=\"stroke:#000000; stroke-linecap:butt; stroke-linejoin:round; stroke-width:2; stroke-opacity:0.1; fill:none\" points=\"\n",
       "  903.974,1078.48 903.974,47.2441 \n",
       "  \"/>\n",
       "<polyline clip-path=\"url(#clip092)\" style=\"stroke:#000000; stroke-linecap:butt; stroke-linejoin:round; stroke-width:2; stroke-opacity:0.1; fill:none\" points=\"\n",
       "  1203.7,1078.48 1203.7,47.2441 \n",
       "  \"/>\n",
       "<polyline clip-path=\"url(#clip092)\" style=\"stroke:#000000; stroke-linecap:butt; stroke-linejoin:round; stroke-width:2; stroke-opacity:0.1; fill:none\" points=\"\n",
       "  1503.43,1078.48 1503.43,47.2441 \n",
       "  \"/>\n",
       "<polyline clip-path=\"url(#clip090)\" style=\"stroke:#000000; stroke-linecap:butt; stroke-linejoin:round; stroke-width:4; stroke-opacity:1; fill:none\" points=\"\n",
       "  243.842,1078.48 1573.84,1078.48 \n",
       "  \"/>\n",
       "<polyline clip-path=\"url(#clip090)\" style=\"stroke:#000000; stroke-linecap:butt; stroke-linejoin:round; stroke-width:4; stroke-opacity:1; fill:none\" points=\"\n",
       "  304.52,1078.48 304.52,1059.58 \n",
       "  \"/>\n",
       "<polyline clip-path=\"url(#clip090)\" style=\"stroke:#000000; stroke-linecap:butt; stroke-linejoin:round; stroke-width:4; stroke-opacity:1; fill:none\" points=\"\n",
       "  604.247,1078.48 604.247,1059.58 \n",
       "  \"/>\n",
       "<polyline clip-path=\"url(#clip090)\" style=\"stroke:#000000; stroke-linecap:butt; stroke-linejoin:round; stroke-width:4; stroke-opacity:1; fill:none\" points=\"\n",
       "  903.974,1078.48 903.974,1059.58 \n",
       "  \"/>\n",
       "<polyline clip-path=\"url(#clip090)\" style=\"stroke:#000000; stroke-linecap:butt; stroke-linejoin:round; stroke-width:4; stroke-opacity:1; fill:none\" points=\"\n",
       "  1203.7,1078.48 1203.7,1059.58 \n",
       "  \"/>\n",
       "<polyline clip-path=\"url(#clip090)\" style=\"stroke:#000000; stroke-linecap:butt; stroke-linejoin:round; stroke-width:4; stroke-opacity:1; fill:none\" points=\"\n",
       "  1503.43,1078.48 1503.43,1059.58 \n",
       "  \"/>\n",
       "<path clip-path=\"url(#clip090)\" d=\"M282.402 1126.87 Q278.791 1126.87 276.963 1130.44 Q275.157 1133.98 275.157 1141.11 Q275.157 1148.21 276.963 1151.78 Q278.791 1155.32 282.402 1155.32 Q286.037 1155.32 287.842 1151.78 Q289.671 1148.21 289.671 1141.11 Q289.671 1133.98 287.842 1130.44 Q286.037 1126.87 282.402 1126.87 M282.402 1123.17 Q288.213 1123.17 291.268 1127.77 Q294.347 1132.36 294.347 1141.11 Q294.347 1149.83 291.268 1154.44 Q288.213 1159.02 282.402 1159.02 Q276.592 1159.02 273.514 1154.44 Q270.458 1149.83 270.458 1141.11 Q270.458 1132.36 273.514 1127.77 Q276.592 1123.17 282.402 1123.17 Z\" fill=\"#000000\" fill-rule=\"evenodd\" fill-opacity=\"1\" /><path clip-path=\"url(#clip090)\" d=\"M302.564 1152.47 L307.449 1152.47 L307.449 1158.35 L302.564 1158.35 L302.564 1152.47 Z\" fill=\"#000000\" fill-rule=\"evenodd\" fill-opacity=\"1\" /><path clip-path=\"url(#clip090)\" d=\"M317.68 1123.79 L336.036 1123.79 L336.036 1127.73 L321.962 1127.73 L321.962 1136.2 Q322.981 1135.85 323.999 1135.69 Q325.018 1135.5 326.036 1135.5 Q331.823 1135.5 335.203 1138.68 Q338.583 1141.85 338.583 1147.26 Q338.583 1152.84 335.111 1155.94 Q331.638 1159.02 325.319 1159.02 Q323.143 1159.02 320.874 1158.65 Q318.629 1158.28 316.222 1157.54 L316.222 1152.84 Q318.305 1153.98 320.527 1154.53 Q322.749 1155.09 325.226 1155.09 Q329.231 1155.09 331.569 1152.98 Q333.907 1150.88 333.907 1147.26 Q333.907 1143.65 331.569 1141.55 Q329.231 1139.44 325.226 1139.44 Q323.351 1139.44 321.476 1139.86 Q319.624 1140.27 317.68 1141.15 L317.68 1123.79 Z\" fill=\"#000000\" fill-rule=\"evenodd\" fill-opacity=\"1\" /><path clip-path=\"url(#clip090)\" d=\"M571.4 1154.42 L579.039 1154.42 L579.039 1128.05 L570.729 1129.72 L570.729 1125.46 L578.992 1123.79 L583.668 1123.79 L583.668 1154.42 L591.307 1154.42 L591.307 1158.35 L571.4 1158.35 L571.4 1154.42 Z\" fill=\"#000000\" fill-rule=\"evenodd\" fill-opacity=\"1\" /><path clip-path=\"url(#clip090)\" d=\"M600.752 1152.47 L605.636 1152.47 L605.636 1158.35 L600.752 1158.35 L600.752 1152.47 Z\" fill=\"#000000\" fill-rule=\"evenodd\" fill-opacity=\"1\" /><path clip-path=\"url(#clip090)\" d=\"M625.821 1126.87 Q622.21 1126.87 620.381 1130.44 Q618.576 1133.98 618.576 1141.11 Q618.576 1148.21 620.381 1151.78 Q622.21 1155.32 625.821 1155.32 Q629.455 1155.32 631.261 1151.78 Q633.089 1148.21 633.089 1141.11 Q633.089 1133.98 631.261 1130.44 Q629.455 1126.87 625.821 1126.87 M625.821 1123.17 Q631.631 1123.17 634.687 1127.77 Q637.765 1132.36 637.765 1141.11 Q637.765 1149.83 634.687 1154.44 Q631.631 1159.02 625.821 1159.02 Q620.011 1159.02 616.932 1154.44 Q613.877 1149.83 613.877 1141.11 Q613.877 1132.36 616.932 1127.77 Q620.011 1123.17 625.821 1123.17 Z\" fill=\"#000000\" fill-rule=\"evenodd\" fill-opacity=\"1\" /><path clip-path=\"url(#clip090)\" d=\"M871.624 1154.42 L879.263 1154.42 L879.263 1128.05 L870.953 1129.72 L870.953 1125.46 L879.217 1123.79 L883.893 1123.79 L883.893 1154.42 L891.532 1154.42 L891.532 1158.35 L871.624 1158.35 L871.624 1154.42 Z\" fill=\"#000000\" fill-rule=\"evenodd\" fill-opacity=\"1\" /><path clip-path=\"url(#clip090)\" d=\"M900.976 1152.47 L905.86 1152.47 L905.86 1158.35 L900.976 1158.35 L900.976 1152.47 Z\" fill=\"#000000\" fill-rule=\"evenodd\" fill-opacity=\"1\" /><path clip-path=\"url(#clip090)\" d=\"M916.092 1123.79 L934.448 1123.79 L934.448 1127.73 L920.374 1127.73 L920.374 1136.2 Q921.392 1135.85 922.411 1135.69 Q923.429 1135.5 924.448 1135.5 Q930.235 1135.5 933.615 1138.68 Q936.994 1141.85 936.994 1147.26 Q936.994 1152.84 933.522 1155.94 Q930.05 1159.02 923.73 1159.02 Q921.554 1159.02 919.286 1158.65 Q917.041 1158.28 914.633 1157.54 L914.633 1152.84 Q916.717 1153.98 918.939 1154.53 Q921.161 1155.09 923.638 1155.09 Q927.642 1155.09 929.98 1152.98 Q932.318 1150.88 932.318 1147.26 Q932.318 1143.65 929.98 1141.55 Q927.642 1139.44 923.638 1139.44 Q921.763 1139.44 919.888 1139.86 Q918.036 1140.27 916.092 1141.15 L916.092 1123.79 Z\" fill=\"#000000\" fill-rule=\"evenodd\" fill-opacity=\"1\" /><path clip-path=\"url(#clip090)\" d=\"M1174.94 1154.42 L1191.26 1154.42 L1191.26 1158.35 L1169.31 1158.35 L1169.31 1154.42 Q1171.98 1151.66 1176.56 1147.03 Q1181.17 1142.38 1182.35 1141.04 Q1184.59 1138.51 1185.47 1136.78 Q1186.37 1135.02 1186.37 1133.33 Q1186.37 1130.57 1184.43 1128.84 Q1182.51 1127.1 1179.41 1127.1 Q1177.21 1127.1 1174.75 1127.87 Q1172.32 1128.63 1169.55 1130.18 L1169.55 1125.46 Q1172.37 1124.32 1174.82 1123.75 Q1177.28 1123.17 1179.31 1123.17 Q1184.68 1123.17 1187.88 1125.85 Q1191.07 1128.54 1191.07 1133.03 Q1191.07 1135.16 1190.26 1137.08 Q1189.48 1138.98 1187.37 1141.57 Q1186.79 1142.24 1183.69 1145.46 Q1180.59 1148.65 1174.94 1154.42 Z\" fill=\"#000000\" fill-rule=\"evenodd\" fill-opacity=\"1\" /><path clip-path=\"url(#clip090)\" d=\"M1201.07 1152.47 L1205.96 1152.47 L1205.96 1158.35 L1201.07 1158.35 L1201.07 1152.47 Z\" fill=\"#000000\" fill-rule=\"evenodd\" fill-opacity=\"1\" /><path clip-path=\"url(#clip090)\" d=\"M1226.14 1126.87 Q1222.53 1126.87 1220.7 1130.44 Q1218.9 1133.98 1218.9 1141.11 Q1218.9 1148.21 1220.7 1151.78 Q1222.53 1155.32 1226.14 1155.32 Q1229.78 1155.32 1231.58 1151.78 Q1233.41 1148.21 1233.41 1141.11 Q1233.41 1133.98 1231.58 1130.44 Q1229.78 1126.87 1226.14 1126.87 M1226.14 1123.17 Q1231.95 1123.17 1235.01 1127.77 Q1238.09 1132.36 1238.09 1141.11 Q1238.09 1149.83 1235.01 1154.44 Q1231.95 1159.02 1226.14 1159.02 Q1220.33 1159.02 1217.25 1154.44 Q1214.2 1149.83 1214.2 1141.11 Q1214.2 1132.36 1217.25 1127.77 Q1220.33 1123.17 1226.14 1123.17 Z\" fill=\"#000000\" fill-rule=\"evenodd\" fill-opacity=\"1\" /><path clip-path=\"url(#clip090)\" d=\"M1475.16 1154.42 L1491.48 1154.42 L1491.48 1158.35 L1469.54 1158.35 L1469.54 1154.42 Q1472.2 1151.66 1476.78 1147.03 Q1481.39 1142.38 1482.57 1141.04 Q1484.82 1138.51 1485.7 1136.78 Q1486.6 1135.02 1486.6 1133.33 Q1486.6 1130.57 1484.65 1128.84 Q1482.73 1127.1 1479.63 1127.1 Q1477.43 1127.1 1474.98 1127.87 Q1472.55 1128.63 1469.77 1130.18 L1469.77 1125.46 Q1472.59 1124.32 1475.05 1123.75 Q1477.5 1123.17 1479.54 1123.17 Q1484.91 1123.17 1488.1 1125.85 Q1491.3 1128.54 1491.3 1133.03 Q1491.3 1135.16 1490.49 1137.08 Q1489.7 1138.98 1487.59 1141.57 Q1487.01 1142.24 1483.91 1145.46 Q1480.81 1148.65 1475.16 1154.42 Z\" fill=\"#000000\" fill-rule=\"evenodd\" fill-opacity=\"1\" /><path clip-path=\"url(#clip090)\" d=\"M1501.3 1152.47 L1506.18 1152.47 L1506.18 1158.35 L1501.3 1158.35 L1501.3 1152.47 Z\" fill=\"#000000\" fill-rule=\"evenodd\" fill-opacity=\"1\" /><path clip-path=\"url(#clip090)\" d=\"M1516.41 1123.79 L1534.77 1123.79 L1534.77 1127.73 L1520.7 1127.73 L1520.7 1136.2 Q1521.71 1135.85 1522.73 1135.69 Q1523.75 1135.5 1524.77 1135.5 Q1530.56 1135.5 1533.94 1138.68 Q1537.32 1141.85 1537.32 1147.26 Q1537.32 1152.84 1533.84 1155.94 Q1530.37 1159.02 1524.05 1159.02 Q1521.88 1159.02 1519.61 1158.65 Q1517.36 1158.28 1514.95 1157.54 L1514.95 1152.84 Q1517.04 1153.98 1519.26 1154.53 Q1521.48 1155.09 1523.96 1155.09 Q1527.96 1155.09 1530.3 1152.98 Q1532.64 1150.88 1532.64 1147.26 Q1532.64 1143.65 1530.3 1141.55 Q1527.96 1139.44 1523.96 1139.44 Q1522.08 1139.44 1520.21 1139.86 Q1518.36 1140.27 1516.41 1141.15 L1516.41 1123.79 Z\" fill=\"#000000\" fill-rule=\"evenodd\" fill-opacity=\"1\" /><path clip-path=\"url(#clip090)\" d=\"M838.18 1241.11 Q838.18 1234.74 835.538 1231.24 Q832.929 1227.74 828.186 1227.74 Q823.475 1227.74 820.834 1231.24 Q818.224 1234.74 818.224 1241.11 Q818.224 1247.44 820.834 1250.94 Q823.475 1254.44 828.186 1254.44 Q832.929 1254.44 835.538 1250.94 Q838.18 1247.44 838.18 1241.11 M844.037 1254.92 Q844.037 1264.02 839.994 1268.45 Q835.952 1272.9 827.613 1272.9 Q824.526 1272.9 821.789 1272.43 Q819.051 1271.98 816.473 1271.02 L816.473 1265.33 Q819.051 1266.73 821.566 1267.4 Q824.08 1268.06 826.69 1268.06 Q832.451 1268.06 835.316 1265.04 Q838.18 1262.05 838.18 1255.97 L838.18 1253.07 Q836.366 1256.22 833.533 1257.78 Q830.701 1259.34 826.754 1259.34 Q820.197 1259.34 816.187 1254.35 Q812.176 1249.35 812.176 1241.11 Q812.176 1232.83 816.187 1227.83 Q820.197 1222.84 826.754 1222.84 Q830.701 1222.84 833.533 1224.4 Q836.366 1225.96 838.18 1229.11 L838.18 1223.7 L844.037 1223.7 L844.037 1254.92 Z\" fill=\"#000000\" fill-rule=\"evenodd\" fill-opacity=\"1\" /><path clip-path=\"url(#clip090)\" d=\"M872.3 1241.42 Q865.203 1241.42 862.465 1243.05 Q859.728 1244.67 859.728 1248.59 Q859.728 1251.7 861.765 1253.55 Q863.834 1255.37 867.367 1255.37 Q872.237 1255.37 875.165 1251.93 Q878.125 1248.46 878.125 1242.73 L878.125 1241.42 L872.3 1241.42 M883.982 1239.01 L883.982 1259.34 L878.125 1259.34 L878.125 1253.93 Q876.12 1257.18 873.128 1258.74 Q870.136 1260.27 865.807 1260.27 Q860.333 1260.27 857.086 1257.21 Q853.872 1254.12 853.872 1248.97 Q853.872 1242.95 857.882 1239.9 Q861.924 1236.84 869.913 1236.84 L878.125 1236.84 L878.125 1236.27 Q878.125 1232.23 875.451 1230.03 Q872.81 1227.8 868.004 1227.8 Q864.948 1227.8 862.052 1228.53 Q859.155 1229.27 856.482 1230.73 L856.482 1225.32 Q859.696 1224.08 862.72 1223.47 Q865.744 1222.84 868.608 1222.84 Q876.343 1222.84 880.162 1226.85 Q883.982 1230.86 883.982 1239.01 Z\" fill=\"#000000\" fill-rule=\"evenodd\" fill-opacity=\"1\" /><path clip-path=\"url(#clip090)\" d=\"M896.045 1223.7 L901.901 1223.7 L901.901 1259.34 L896.045 1259.34 L896.045 1223.7 M896.045 1209.82 L901.901 1209.82 L901.901 1217.23 L896.045 1217.23 L896.045 1209.82 Z\" fill=\"#000000\" fill-rule=\"evenodd\" fill-opacity=\"1\" /><path clip-path=\"url(#clip090)\" d=\"M943.787 1237.83 L943.787 1259.34 L937.931 1259.34 L937.931 1238.02 Q937.931 1232.96 935.958 1230.44 Q933.984 1227.93 930.037 1227.93 Q925.295 1227.93 922.558 1230.95 Q919.82 1233.98 919.82 1239.2 L919.82 1259.34 L913.932 1259.34 L913.932 1223.7 L919.82 1223.7 L919.82 1229.23 Q921.921 1226.02 924.754 1224.43 Q927.618 1222.84 931.342 1222.84 Q937.485 1222.84 940.636 1226.66 Q943.787 1230.44 943.787 1237.83 Z\" fill=\"#000000\" fill-rule=\"evenodd\" fill-opacity=\"1\" /><path clip-path=\"url(#clip090)\" d=\"M978.13 1253.93 L988.634 1253.93 L988.634 1217.68 L977.207 1219.97 L977.207 1214.12 L988.57 1211.82 L994.999 1211.82 L994.999 1253.93 L1005.5 1253.93 L1005.5 1259.34 L978.13 1259.34 L978.13 1253.93 Z\" fill=\"#000000\" fill-rule=\"evenodd\" fill-opacity=\"1\" /><polyline clip-path=\"url(#clip092)\" style=\"stroke:#000000; stroke-linecap:butt; stroke-linejoin:round; stroke-width:2; stroke-opacity:0.1; fill:none\" points=\"\n",
       "  243.842,999.063 1573.84,999.063 \n",
       "  \"/>\n",
       "<polyline clip-path=\"url(#clip092)\" style=\"stroke:#000000; stroke-linecap:butt; stroke-linejoin:round; stroke-width:2; stroke-opacity:0.1; fill:none\" points=\"\n",
       "  243.842,780.49 1573.84,780.49 \n",
       "  \"/>\n",
       "<polyline clip-path=\"url(#clip092)\" style=\"stroke:#000000; stroke-linecap:butt; stroke-linejoin:round; stroke-width:2; stroke-opacity:0.1; fill:none\" points=\"\n",
       "  243.842,561.918 1573.84,561.918 \n",
       "  \"/>\n",
       "<polyline clip-path=\"url(#clip092)\" style=\"stroke:#000000; stroke-linecap:butt; stroke-linejoin:round; stroke-width:2; stroke-opacity:0.1; fill:none\" points=\"\n",
       "  243.842,343.346 1573.84,343.346 \n",
       "  \"/>\n",
       "<polyline clip-path=\"url(#clip092)\" style=\"stroke:#000000; stroke-linecap:butt; stroke-linejoin:round; stroke-width:2; stroke-opacity:0.1; fill:none\" points=\"\n",
       "  243.842,124.773 1573.84,124.773 \n",
       "  \"/>\n",
       "<polyline clip-path=\"url(#clip090)\" style=\"stroke:#000000; stroke-linecap:butt; stroke-linejoin:round; stroke-width:4; stroke-opacity:1; fill:none\" points=\"\n",
       "  243.842,1078.48 243.842,47.2441 \n",
       "  \"/>\n",
       "<polyline clip-path=\"url(#clip090)\" style=\"stroke:#000000; stroke-linecap:butt; stroke-linejoin:round; stroke-width:4; stroke-opacity:1; fill:none\" points=\"\n",
       "  243.842,999.063 262.74,999.063 \n",
       "  \"/>\n",
       "<polyline clip-path=\"url(#clip090)\" style=\"stroke:#000000; stroke-linecap:butt; stroke-linejoin:round; stroke-width:4; stroke-opacity:1; fill:none\" points=\"\n",
       "  243.842,780.49 262.74,780.49 \n",
       "  \"/>\n",
       "<polyline clip-path=\"url(#clip090)\" style=\"stroke:#000000; stroke-linecap:butt; stroke-linejoin:round; stroke-width:4; stroke-opacity:1; fill:none\" points=\"\n",
       "  243.842,561.918 262.74,561.918 \n",
       "  \"/>\n",
       "<polyline clip-path=\"url(#clip090)\" style=\"stroke:#000000; stroke-linecap:butt; stroke-linejoin:round; stroke-width:4; stroke-opacity:1; fill:none\" points=\"\n",
       "  243.842,343.346 262.74,343.346 \n",
       "  \"/>\n",
       "<polyline clip-path=\"url(#clip090)\" style=\"stroke:#000000; stroke-linecap:butt; stroke-linejoin:round; stroke-width:4; stroke-opacity:1; fill:none\" points=\"\n",
       "  243.842,124.773 262.74,124.773 \n",
       "  \"/>\n",
       "<path clip-path=\"url(#clip090)\" d=\"M84.5045 984.862 Q80.8934 984.862 79.0648 988.426 Q77.2592 991.968 77.2592 999.098 Q77.2592 1006.2 79.0648 1009.77 Q80.8934 1013.31 84.5045 1013.31 Q88.1388 1013.31 89.9443 1009.77 Q91.773 1006.2 91.773 999.098 Q91.773 991.968 89.9443 988.426 Q88.1388 984.862 84.5045 984.862 M84.5045 981.158 Q90.3147 981.158 93.3702 985.764 Q96.4489 990.348 96.4489 999.098 Q96.4489 1007.82 93.3702 1012.43 Q90.3147 1017.01 84.5045 1017.01 Q78.6944 1017.01 75.6157 1012.43 Q72.5602 1007.82 72.5602 999.098 Q72.5602 990.348 75.6157 985.764 Q78.6944 981.158 84.5045 981.158 Z\" fill=\"#000000\" fill-rule=\"evenodd\" fill-opacity=\"1\" /><path clip-path=\"url(#clip090)\" d=\"M104.666 1010.46 L109.551 1010.46 L109.551 1016.34 L104.666 1016.34 L104.666 1010.46 Z\" fill=\"#000000\" fill-rule=\"evenodd\" fill-opacity=\"1\" /><path clip-path=\"url(#clip090)\" d=\"M129.736 984.862 Q126.125 984.862 124.296 988.426 Q122.49 991.968 122.49 999.098 Q122.49 1006.2 124.296 1009.77 Q126.125 1013.31 129.736 1013.31 Q133.37 1013.31 135.176 1009.77 Q137.004 1006.2 137.004 999.098 Q137.004 991.968 135.176 988.426 Q133.37 984.862 129.736 984.862 M129.736 981.158 Q135.546 981.158 138.601 985.764 Q141.68 990.348 141.68 999.098 Q141.68 1007.82 138.601 1012.43 Q135.546 1017.01 129.736 1017.01 Q123.926 1017.01 120.847 1012.43 Q117.791 1007.82 117.791 999.098 Q117.791 990.348 120.847 985.764 Q123.926 981.158 129.736 981.158 Z\" fill=\"#000000\" fill-rule=\"evenodd\" fill-opacity=\"1\" /><path clip-path=\"url(#clip090)\" d=\"M159.898 984.862 Q156.287 984.862 154.458 988.426 Q152.652 991.968 152.652 999.098 Q152.652 1006.2 154.458 1009.77 Q156.287 1013.31 159.898 1013.31 Q163.532 1013.31 165.337 1009.77 Q167.166 1006.2 167.166 999.098 Q167.166 991.968 165.337 988.426 Q163.532 984.862 159.898 984.862 M159.898 981.158 Q165.708 981.158 168.763 985.764 Q171.842 990.348 171.842 999.098 Q171.842 1007.82 168.763 1012.43 Q165.708 1017.01 159.898 1017.01 Q154.087 1017.01 151.009 1012.43 Q147.953 1007.82 147.953 999.098 Q147.953 990.348 151.009 985.764 Q154.087 981.158 159.898 981.158 Z\" fill=\"#000000\" fill-rule=\"evenodd\" fill-opacity=\"1\" /><path clip-path=\"url(#clip090)\" d=\"M85.4999 766.289 Q81.8888 766.289 80.0601 769.854 Q78.2546 773.396 78.2546 780.525 Q78.2546 787.632 80.0601 791.196 Q81.8888 794.738 85.4999 794.738 Q89.1341 794.738 90.9397 791.196 Q92.7684 787.632 92.7684 780.525 Q92.7684 773.396 90.9397 769.854 Q89.1341 766.289 85.4999 766.289 M85.4999 762.585 Q91.3101 762.585 94.3656 767.192 Q97.4443 771.775 97.4443 780.525 Q97.4443 789.252 94.3656 793.858 Q91.3101 798.442 85.4999 798.442 Q79.6897 798.442 76.6111 793.858 Q73.5555 789.252 73.5555 780.525 Q73.5555 771.775 76.6111 767.192 Q79.6897 762.585 85.4999 762.585 Z\" fill=\"#000000\" fill-rule=\"evenodd\" fill-opacity=\"1\" /><path clip-path=\"url(#clip090)\" d=\"M105.662 791.891 L110.546 791.891 L110.546 797.77 L105.662 797.77 L105.662 791.891 Z\" fill=\"#000000\" fill-rule=\"evenodd\" fill-opacity=\"1\" /><path clip-path=\"url(#clip090)\" d=\"M124.759 793.835 L141.078 793.835 L141.078 797.77 L119.134 797.77 L119.134 793.835 Q121.796 791.081 126.379 786.451 Q130.986 781.798 132.166 780.456 Q134.412 777.933 135.291 776.197 Q136.194 774.437 136.194 772.747 Q136.194 769.993 134.25 768.257 Q132.328 766.521 129.227 766.521 Q127.027 766.521 124.574 767.285 Q122.143 768.048 119.365 769.599 L119.365 764.877 Q122.19 763.743 124.643 763.164 Q127.097 762.585 129.134 762.585 Q134.504 762.585 137.699 765.271 Q140.893 767.956 140.893 772.447 Q140.893 774.576 140.083 776.497 Q139.296 778.396 137.189 780.988 Q136.611 781.659 133.509 784.877 Q130.407 788.071 124.759 793.835 Z\" fill=\"#000000\" fill-rule=\"evenodd\" fill-opacity=\"1\" /><path clip-path=\"url(#clip090)\" d=\"M150.939 763.21 L169.296 763.21 L169.296 767.146 L155.222 767.146 L155.222 775.618 Q156.24 775.271 157.259 775.109 Q158.277 774.923 159.296 774.923 Q165.083 774.923 168.462 778.095 Q171.842 781.266 171.842 786.683 Q171.842 792.261 168.37 795.363 Q164.898 798.442 158.578 798.442 Q156.402 798.442 154.134 798.071 Q151.888 797.701 149.481 796.96 L149.481 792.261 Q151.564 793.396 153.787 793.951 Q156.009 794.507 158.486 794.507 Q162.49 794.507 164.828 792.4 Q167.166 790.294 167.166 786.683 Q167.166 783.071 164.828 780.965 Q162.49 778.859 158.486 778.859 Q156.611 778.859 154.736 779.275 Q152.884 779.692 150.939 780.572 L150.939 763.21 Z\" fill=\"#000000\" fill-rule=\"evenodd\" fill-opacity=\"1\" /><path clip-path=\"url(#clip090)\" d=\"M84.5045 547.717 Q80.8934 547.717 79.0648 551.282 Q77.2592 554.823 77.2592 561.953 Q77.2592 569.059 79.0648 572.624 Q80.8934 576.166 84.5045 576.166 Q88.1388 576.166 89.9443 572.624 Q91.773 569.059 91.773 561.953 Q91.773 554.823 89.9443 551.282 Q88.1388 547.717 84.5045 547.717 M84.5045 544.013 Q90.3147 544.013 93.3702 548.62 Q96.4489 553.203 96.4489 561.953 Q96.4489 570.68 93.3702 575.286 Q90.3147 579.869 84.5045 579.869 Q78.6944 579.869 75.6157 575.286 Q72.5602 570.68 72.5602 561.953 Q72.5602 553.203 75.6157 548.62 Q78.6944 544.013 84.5045 544.013 Z\" fill=\"#000000\" fill-rule=\"evenodd\" fill-opacity=\"1\" /><path clip-path=\"url(#clip090)\" d=\"M104.666 573.319 L109.551 573.319 L109.551 579.198 L104.666 579.198 L104.666 573.319 Z\" fill=\"#000000\" fill-rule=\"evenodd\" fill-opacity=\"1\" /><path clip-path=\"url(#clip090)\" d=\"M119.782 544.638 L138.139 544.638 L138.139 548.573 L124.065 548.573 L124.065 557.045 Q125.083 556.698 126.102 556.536 Q127.12 556.351 128.139 556.351 Q133.926 556.351 137.305 559.522 Q140.685 562.694 140.685 568.11 Q140.685 573.689 137.213 576.791 Q133.74 579.869 127.421 579.869 Q125.245 579.869 122.977 579.499 Q120.731 579.129 118.324 578.388 L118.324 573.689 Q120.407 574.823 122.629 575.379 Q124.852 575.934 127.328 575.934 Q131.333 575.934 133.671 573.828 Q136.009 571.721 136.009 568.11 Q136.009 564.499 133.671 562.393 Q131.333 560.286 127.328 560.286 Q125.453 560.286 123.578 560.703 Q121.727 561.12 119.782 561.999 L119.782 544.638 Z\" fill=\"#000000\" fill-rule=\"evenodd\" fill-opacity=\"1\" /><path clip-path=\"url(#clip090)\" d=\"M159.898 547.717 Q156.287 547.717 154.458 551.282 Q152.652 554.823 152.652 561.953 Q152.652 569.059 154.458 572.624 Q156.287 576.166 159.898 576.166 Q163.532 576.166 165.337 572.624 Q167.166 569.059 167.166 561.953 Q167.166 554.823 165.337 551.282 Q163.532 547.717 159.898 547.717 M159.898 544.013 Q165.708 544.013 168.763 548.62 Q171.842 553.203 171.842 561.953 Q171.842 570.68 168.763 575.286 Q165.708 579.869 159.898 579.869 Q154.087 579.869 151.009 575.286 Q147.953 570.68 147.953 561.953 Q147.953 553.203 151.009 548.62 Q154.087 544.013 159.898 544.013 Z\" fill=\"#000000\" fill-rule=\"evenodd\" fill-opacity=\"1\" /><path clip-path=\"url(#clip090)\" d=\"M85.4999 329.144 Q81.8888 329.144 80.0601 332.709 Q78.2546 336.251 78.2546 343.38 Q78.2546 350.487 80.0601 354.052 Q81.8888 357.593 85.4999 357.593 Q89.1341 357.593 90.9397 354.052 Q92.7684 350.487 92.7684 343.38 Q92.7684 336.251 90.9397 332.709 Q89.1341 329.144 85.4999 329.144 M85.4999 325.441 Q91.3101 325.441 94.3656 330.047 Q97.4443 334.631 97.4443 343.38 Q97.4443 352.107 94.3656 356.714 Q91.3101 361.297 85.4999 361.297 Q79.6897 361.297 76.6111 356.714 Q73.5555 352.107 73.5555 343.38 Q73.5555 334.631 76.6111 330.047 Q79.6897 325.441 85.4999 325.441 Z\" fill=\"#000000\" fill-rule=\"evenodd\" fill-opacity=\"1\" /><path clip-path=\"url(#clip090)\" d=\"M105.662 354.746 L110.546 354.746 L110.546 360.626 L105.662 360.626 L105.662 354.746 Z\" fill=\"#000000\" fill-rule=\"evenodd\" fill-opacity=\"1\" /><path clip-path=\"url(#clip090)\" d=\"M119.551 326.066 L141.773 326.066 L141.773 328.056 L129.227 360.626 L124.342 360.626 L136.148 330.001 L119.551 330.001 L119.551 326.066 Z\" fill=\"#000000\" fill-rule=\"evenodd\" fill-opacity=\"1\" /><path clip-path=\"url(#clip090)\" d=\"M150.939 326.066 L169.296 326.066 L169.296 330.001 L155.222 330.001 L155.222 338.473 Q156.24 338.126 157.259 337.964 Q158.277 337.779 159.296 337.779 Q165.083 337.779 168.462 340.95 Q171.842 344.121 171.842 349.538 Q171.842 355.117 168.37 358.218 Q164.898 361.297 158.578 361.297 Q156.402 361.297 154.134 360.927 Q151.888 360.556 149.481 359.816 L149.481 355.117 Q151.564 356.251 153.787 356.806 Q156.009 357.362 158.486 357.362 Q162.49 357.362 164.828 355.255 Q167.166 353.149 167.166 349.538 Q167.166 345.927 164.828 343.82 Q162.49 341.714 158.486 341.714 Q156.611 341.714 154.736 342.13 Q152.884 342.547 150.939 343.427 L150.939 326.066 Z\" fill=\"#000000\" fill-rule=\"evenodd\" fill-opacity=\"1\" /><path clip-path=\"url(#clip090)\" d=\"M75.3148 138.118 L82.9536 138.118 L82.9536 111.753 L74.6435 113.419 L74.6435 109.16 L82.9073 107.493 L87.5832 107.493 L87.5832 138.118 L95.2221 138.118 L95.2221 142.053 L75.3148 142.053 L75.3148 138.118 Z\" fill=\"#000000\" fill-rule=\"evenodd\" fill-opacity=\"1\" /><path clip-path=\"url(#clip090)\" d=\"M104.666 136.174 L109.551 136.174 L109.551 142.053 L104.666 142.053 L104.666 136.174 Z\" fill=\"#000000\" fill-rule=\"evenodd\" fill-opacity=\"1\" /><path clip-path=\"url(#clip090)\" d=\"M129.736 110.572 Q126.125 110.572 124.296 114.137 Q122.49 117.679 122.49 124.808 Q122.49 131.915 124.296 135.479 Q126.125 139.021 129.736 139.021 Q133.37 139.021 135.176 135.479 Q137.004 131.915 137.004 124.808 Q137.004 117.679 135.176 114.137 Q133.37 110.572 129.736 110.572 M129.736 106.868 Q135.546 106.868 138.601 111.475 Q141.68 116.058 141.68 124.808 Q141.68 133.535 138.601 138.141 Q135.546 142.725 129.736 142.725 Q123.926 142.725 120.847 138.141 Q117.791 133.535 117.791 124.808 Q117.791 116.058 120.847 111.475 Q123.926 106.868 129.736 106.868 Z\" fill=\"#000000\" fill-rule=\"evenodd\" fill-opacity=\"1\" /><path clip-path=\"url(#clip090)\" d=\"M159.898 110.572 Q156.287 110.572 154.458 114.137 Q152.652 117.679 152.652 124.808 Q152.652 131.915 154.458 135.479 Q156.287 139.021 159.898 139.021 Q163.532 139.021 165.337 135.479 Q167.166 131.915 167.166 124.808 Q167.166 117.679 165.337 114.137 Q163.532 110.572 159.898 110.572 M159.898 106.868 Q165.708 106.868 168.763 111.475 Q171.842 116.058 171.842 124.808 Q171.842 133.535 168.763 138.141 Q165.708 142.725 159.898 142.725 Q154.087 142.725 151.009 138.141 Q147.953 133.535 147.953 124.808 Q147.953 116.058 151.009 111.475 Q154.087 106.868 159.898 106.868 Z\" fill=\"#000000\" fill-rule=\"evenodd\" fill-opacity=\"1\" /><path clip-path=\"url(#clip090)\" d=\"M-31.9336 633.267 Q-38.2993 633.267 -41.8004 635.908 Q-45.3016 638.518 -45.3016 643.261 Q-45.3016 647.971 -41.8004 650.613 Q-38.2993 653.223 -31.9336 653.223 Q-25.5997 653.223 -22.0986 650.613 Q-18.5974 647.971 -18.5974 643.261 Q-18.5974 638.518 -22.0986 635.908 Q-25.5997 633.267 -31.9336 633.267 M-18.12 627.41 Q-9.01705 627.41 -4.59288 631.452 Q-0.136887 635.495 -0.136887 643.834 Q-0.136887 646.921 -0.614315 649.658 Q-1.05991 652.396 -2.01477 654.974 L-7.71208 654.974 Q-6.31162 652.396 -5.64322 649.881 Q-4.97482 647.367 -4.97482 644.757 Q-4.97482 638.996 -7.99854 636.131 Q-10.9904 633.267 -17.0697 633.267 L-19.9661 633.267 Q-16.815 635.081 -15.2554 637.914 Q-13.6958 640.746 -13.6958 644.693 Q-13.6958 651.25 -18.6929 655.26 Q-23.69 659.271 -31.9336 659.271 Q-40.209 659.271 -45.2061 655.26 Q-50.2032 651.25 -50.2032 644.693 Q-50.2032 640.746 -48.6436 637.914 Q-47.084 635.081 -43.9329 633.267 L-49.3438 633.267 L-49.3438 627.41 L-18.12 627.41 Z\" fill=\"#000000\" fill-rule=\"evenodd\" fill-opacity=\"1\" /><path clip-path=\"url(#clip090)\" d=\"M-31.6153 599.146 Q-31.6153 606.244 -29.9921 608.982 Q-28.3688 611.719 -24.4539 611.719 Q-21.3347 611.719 -19.4886 609.682 Q-17.6744 607.613 -17.6744 604.08 Q-17.6744 599.21 -21.1119 596.282 Q-24.5812 593.322 -30.3103 593.322 L-31.6153 593.322 L-31.6153 599.146 M-34.0343 587.465 L-13.6958 587.465 L-13.6958 593.322 L-19.1067 593.322 Q-15.8602 595.327 -14.3006 598.319 Q-12.7728 601.311 -12.7728 605.64 Q-12.7728 611.114 -15.8284 614.361 Q-18.9157 617.575 -24.0719 617.575 Q-30.0875 617.575 -33.1431 613.565 Q-36.1986 609.523 -36.1986 601.534 L-36.1986 593.322 L-36.7715 593.322 Q-40.8138 593.322 -43.0099 595.995 Q-45.2379 598.637 -45.2379 603.443 Q-45.2379 606.499 -44.5059 609.395 Q-43.7738 612.292 -42.3097 614.965 L-47.7205 614.965 Q-48.9619 611.751 -49.5666 608.727 Q-50.2032 605.703 -50.2032 602.839 Q-50.2032 595.104 -46.1928 591.285 Q-42.1824 587.465 -34.0343 587.465 Z\" fill=\"#000000\" fill-rule=\"evenodd\" fill-opacity=\"1\" /><path clip-path=\"url(#clip090)\" d=\"M-49.3438 575.402 L-49.3438 569.546 L-13.6958 569.546 L-13.6958 575.402 L-49.3438 575.402 M-63.221 575.402 L-63.221 569.546 L-55.805 569.546 L-55.805 575.402 L-63.221 575.402 Z\" fill=\"#000000\" fill-rule=\"evenodd\" fill-opacity=\"1\" /><path clip-path=\"url(#clip090)\" d=\"M-35.2119 527.66 L-13.6958 527.66 L-13.6958 533.516 L-35.021 533.516 Q-40.0817 533.516 -42.5962 535.489 Q-45.1106 537.463 -45.1106 541.41 Q-45.1106 546.152 -42.0869 548.889 Q-39.0632 551.626 -33.8433 551.626 L-13.6958 551.626 L-13.6958 557.515 L-49.3438 557.515 L-49.3438 551.626 L-43.8056 551.626 Q-47.0203 549.526 -48.6117 546.693 Q-50.2032 543.829 -50.2032 540.105 Q-50.2032 533.962 -46.3837 530.811 Q-42.5962 527.66 -35.2119 527.66 Z\" fill=\"#000000\" fill-rule=\"evenodd\" fill-opacity=\"1\" /><path clip-path=\"url(#clip090)\" d=\"M-19.1067 488.892 L-19.1067 466.453 L-13.6958 466.453 L-13.6958 496.627 L-19.1067 496.627 Q-22.8943 492.967 -29.26 486.664 Q-35.6575 480.331 -37.5036 478.707 Q-40.9729 475.62 -43.36 474.41 Q-45.779 473.169 -48.1025 473.169 Q-51.8901 473.169 -54.2772 475.843 Q-56.6644 478.485 -56.6644 482.75 Q-56.6644 485.773 -55.614 489.147 Q-54.5637 492.489 -52.4312 496.309 L-58.9242 496.309 Q-60.4838 492.425 -61.2795 489.052 Q-62.0752 485.678 -62.0752 482.877 Q-62.0752 475.493 -58.3831 471.1 Q-54.691 466.708 -48.5163 466.708 Q-45.588 466.708 -42.9463 467.822 Q-40.3363 468.904 -36.7715 471.801 Q-35.8485 472.596 -31.4243 476.861 Q-27.032 481.126 -19.1067 488.892 Z\" fill=\"#000000\" fill-rule=\"evenodd\" fill-opacity=\"1\" /><circle clip-path=\"url(#clip092)\" cx=\"325.839\" cy=\"555.469\" r=\"14\" fill=\"#ff0000\" fill-rule=\"evenodd\" fill-opacity=\"1\" stroke=\"#000000\" stroke-opacity=\"1\" stroke-width=\"2.4\"/>\n",
       "<circle clip-path=\"url(#clip092)\" cx=\"536.974\" cy=\"727.336\" r=\"14\" fill=\"#0000ff\" fill-rule=\"evenodd\" fill-opacity=\"1\" stroke=\"#000000\" stroke-opacity=\"1\" stroke-width=\"2.4\"/>\n",
       "<circle clip-path=\"url(#clip092)\" cx=\"564.091\" cy=\"732.24\" r=\"14\" fill=\"#0000ff\" fill-rule=\"evenodd\" fill-opacity=\"1\" stroke=\"#000000\" stroke-opacity=\"1\" stroke-width=\"2.4\"/>\n",
       "<circle clip-path=\"url(#clip092)\" cx=\"524.883\" cy=\"721.929\" r=\"14\" fill=\"#0000ff\" fill-rule=\"evenodd\" fill-opacity=\"1\" stroke=\"#000000\" stroke-opacity=\"1\" stroke-width=\"2.4\"/>\n",
       "<circle clip-path=\"url(#clip092)\" cx=\"540.177\" cy=\"730.856\" r=\"14\" fill=\"#ff0000\" fill-rule=\"evenodd\" fill-opacity=\"1\" stroke=\"#000000\" stroke-opacity=\"1\" stroke-width=\"2.4\"/>\n",
       "<circle clip-path=\"url(#clip092)\" cx=\"513.122\" cy=\"733.765\" r=\"14\" fill=\"#0000ff\" fill-rule=\"evenodd\" fill-opacity=\"1\" stroke=\"#000000\" stroke-opacity=\"1\" stroke-width=\"2.4\"/>\n",
       "<circle clip-path=\"url(#clip092)\" cx=\"513.854\" cy=\"748.432\" r=\"14\" fill=\"#ff0000\" fill-rule=\"evenodd\" fill-opacity=\"1\" stroke=\"#000000\" stroke-opacity=\"1\" stroke-width=\"2.4\"/>\n",
       "<circle clip-path=\"url(#clip092)\" cx=\"544.723\" cy=\"699.138\" r=\"14\" fill=\"#ff0000\" fill-rule=\"evenodd\" fill-opacity=\"1\" stroke=\"#000000\" stroke-opacity=\"1\" stroke-width=\"2.4\"/>\n",
       "<circle clip-path=\"url(#clip092)\" cx=\"530.498\" cy=\"754.206\" r=\"14\" fill=\"#0000ff\" fill-rule=\"evenodd\" fill-opacity=\"1\" stroke=\"#000000\" stroke-opacity=\"1\" stroke-width=\"2.4\"/>\n",
       "<circle clip-path=\"url(#clip092)\" cx=\"557.255\" cy=\"744.371\" r=\"14\" fill=\"#ff0000\" fill-rule=\"evenodd\" fill-opacity=\"1\" stroke=\"#000000\" stroke-opacity=\"1\" stroke-width=\"2.4\"/>\n",
       "<circle clip-path=\"url(#clip092)\" cx=\"603.68\" cy=\"990.585\" r=\"14\" fill=\"#ff0000\" fill-rule=\"evenodd\" fill-opacity=\"1\" stroke=\"#000000\" stroke-opacity=\"1\" stroke-width=\"2.4\"/>\n",
       "<circle clip-path=\"url(#clip092)\" cx=\"608.49\" cy=\"1028.87\" r=\"14\" fill=\"#0000ff\" fill-rule=\"evenodd\" fill-opacity=\"1\" stroke=\"#000000\" stroke-opacity=\"1\" stroke-width=\"2.4\"/>\n",
       "<circle clip-path=\"url(#clip092)\" cx=\"597.398\" cy=\"1009.45\" r=\"14\" fill=\"#0000ff\" fill-rule=\"evenodd\" fill-opacity=\"1\" stroke=\"#000000\" stroke-opacity=\"1\" stroke-width=\"2.4\"/>\n",
       "<circle clip-path=\"url(#clip092)\" cx=\"608.327\" cy=\"1004.71\" r=\"14\" fill=\"#ff0000\" fill-rule=\"evenodd\" fill-opacity=\"1\" stroke=\"#000000\" stroke-opacity=\"1\" stroke-width=\"2.4\"/>\n",
       "<circle clip-path=\"url(#clip092)\" cx=\"606.389\" cy=\"981.631\" r=\"14\" fill=\"#ff0000\" fill-rule=\"evenodd\" fill-opacity=\"1\" stroke=\"#000000\" stroke-opacity=\"1\" stroke-width=\"2.4\"/>\n",
       "<circle clip-path=\"url(#clip092)\" cx=\"1198.51\" cy=\"137.942\" r=\"14\" fill=\"#0000ff\" fill-rule=\"evenodd\" fill-opacity=\"1\" stroke=\"#000000\" stroke-opacity=\"1\" stroke-width=\"2.4\"/>\n",
       "<circle clip-path=\"url(#clip092)\" cx=\"1223.87\" cy=\"107.319\" r=\"14\" fill=\"#0000ff\" fill-rule=\"evenodd\" fill-opacity=\"1\" stroke=\"#000000\" stroke-opacity=\"1\" stroke-width=\"2.4\"/>\n",
       "<circle clip-path=\"url(#clip092)\" cx=\"1536.2\" cy=\"131.12\" r=\"14\" fill=\"#0000ff\" fill-rule=\"evenodd\" fill-opacity=\"1\" stroke=\"#000000\" stroke-opacity=\"1\" stroke-width=\"2.4\"/>\n",
       "<circle clip-path=\"url(#clip092)\" cx=\"1520.87\" cy=\"151.525\" r=\"14\" fill=\"#ff0000\" fill-rule=\"evenodd\" fill-opacity=\"1\" stroke=\"#000000\" stroke-opacity=\"1\" stroke-width=\"2.4\"/>\n",
       "<circle clip-path=\"url(#clip092)\" cx=\"1477.46\" cy=\"76.43\" r=\"14\" fill=\"#0000ff\" fill-rule=\"evenodd\" fill-opacity=\"1\" stroke=\"#000000\" stroke-opacity=\"1\" stroke-width=\"2.4\"/>\n",
       "<circle clip-path=\"url(#clip092)\" cx=\"300.933\" cy=\"531.214\" r=\"14\" fill=\"#ff0000\" fill-rule=\"evenodd\" fill-opacity=\"1\" stroke=\"#000000\" stroke-opacity=\"1\" stroke-width=\"2.4\"/>\n",
       "<circle clip-path=\"url(#clip092)\" cx=\"539.751\" cy=\"713.772\" r=\"14\" fill=\"#0000ff\" fill-rule=\"evenodd\" fill-opacity=\"1\" stroke=\"#000000\" stroke-opacity=\"1\" stroke-width=\"2.4\"/>\n",
       "<circle clip-path=\"url(#clip092)\" cx=\"555.865\" cy=\"720.36\" r=\"14\" fill=\"#0000ff\" fill-rule=\"evenodd\" fill-opacity=\"1\" stroke=\"#000000\" stroke-opacity=\"1\" stroke-width=\"2.4\"/>\n",
       "<circle clip-path=\"url(#clip092)\" cx=\"540.605\" cy=\"729.888\" r=\"14\" fill=\"#0000ff\" fill-rule=\"evenodd\" fill-opacity=\"1\" stroke=\"#000000\" stroke-opacity=\"1\" stroke-width=\"2.4\"/>\n",
       "<circle clip-path=\"url(#clip092)\" cx=\"534.988\" cy=\"723.256\" r=\"14\" fill=\"#ff0000\" fill-rule=\"evenodd\" fill-opacity=\"1\" stroke=\"#000000\" stroke-opacity=\"1\" stroke-width=\"2.4\"/>\n",
       "<circle clip-path=\"url(#clip092)\" cx=\"524.466\" cy=\"704.902\" r=\"14\" fill=\"#0000ff\" fill-rule=\"evenodd\" fill-opacity=\"1\" stroke=\"#000000\" stroke-opacity=\"1\" stroke-width=\"2.4\"/>\n",
       "<circle clip-path=\"url(#clip092)\" cx=\"523.481\" cy=\"762.574\" r=\"14\" fill=\"#ff0000\" fill-rule=\"evenodd\" fill-opacity=\"1\" stroke=\"#000000\" stroke-opacity=\"1\" stroke-width=\"2.4\"/>\n",
       "<circle clip-path=\"url(#clip092)\" cx=\"549.692\" cy=\"774.617\" r=\"14\" fill=\"#ff0000\" fill-rule=\"evenodd\" fill-opacity=\"1\" stroke=\"#000000\" stroke-opacity=\"1\" stroke-width=\"2.4\"/>\n",
       "<circle clip-path=\"url(#clip092)\" cx=\"553.187\" cy=\"705.327\" r=\"14\" fill=\"#0000ff\" fill-rule=\"evenodd\" fill-opacity=\"1\" stroke=\"#000000\" stroke-opacity=\"1\" stroke-width=\"2.4\"/>\n",
       "<circle clip-path=\"url(#clip092)\" cx=\"566.672\" cy=\"732.947\" r=\"14\" fill=\"#ff0000\" fill-rule=\"evenodd\" fill-opacity=\"1\" stroke=\"#000000\" stroke-opacity=\"1\" stroke-width=\"2.4\"/>\n",
       "<circle clip-path=\"url(#clip092)\" cx=\"628.243\" cy=\"992.44\" r=\"14\" fill=\"#ff0000\" fill-rule=\"evenodd\" fill-opacity=\"1\" stroke=\"#000000\" stroke-opacity=\"1\" stroke-width=\"2.4\"/>\n",
       "<circle clip-path=\"url(#clip092)\" cx=\"580.754\" cy=\"1006.33\" r=\"14\" fill=\"#0000ff\" fill-rule=\"evenodd\" fill-opacity=\"1\" stroke=\"#000000\" stroke-opacity=\"1\" stroke-width=\"2.4\"/>\n",
       "<circle clip-path=\"url(#clip092)\" cx=\"559.645\" cy=\"977.007\" r=\"14\" fill=\"#0000ff\" fill-rule=\"evenodd\" fill-opacity=\"1\" stroke=\"#000000\" stroke-opacity=\"1\" stroke-width=\"2.4\"/>\n",
       "<circle clip-path=\"url(#clip092)\" cx=\"600.809\" cy=\"1049.29\" r=\"14\" fill=\"#ff0000\" fill-rule=\"evenodd\" fill-opacity=\"1\" stroke=\"#000000\" stroke-opacity=\"1\" stroke-width=\"2.4\"/>\n",
       "<circle clip-path=\"url(#clip092)\" cx=\"583.132\" cy=\"1000.24\" r=\"14\" fill=\"#ff0000\" fill-rule=\"evenodd\" fill-opacity=\"1\" stroke=\"#000000\" stroke-opacity=\"1\" stroke-width=\"2.4\"/>\n",
       "<circle clip-path=\"url(#clip092)\" cx=\"1200.16\" cy=\"120.779\" r=\"14\" fill=\"#0000ff\" fill-rule=\"evenodd\" fill-opacity=\"1\" stroke=\"#000000\" stroke-opacity=\"1\" stroke-width=\"2.4\"/>\n",
       "<circle clip-path=\"url(#clip092)\" cx=\"1227.91\" cy=\"167.077\" r=\"14\" fill=\"#0000ff\" fill-rule=\"evenodd\" fill-opacity=\"1\" stroke=\"#000000\" stroke-opacity=\"1\" stroke-width=\"2.4\"/>\n",
       "<circle clip-path=\"url(#clip092)\" cx=\"1528.01\" cy=\"86.9371\" r=\"14\" fill=\"#0000ff\" fill-rule=\"evenodd\" fill-opacity=\"1\" stroke=\"#000000\" stroke-opacity=\"1\" stroke-width=\"2.4\"/>\n",
       "<circle clip-path=\"url(#clip092)\" cx=\"1505.73\" cy=\"119.208\" r=\"14\" fill=\"#ff0000\" fill-rule=\"evenodd\" fill-opacity=\"1\" stroke=\"#000000\" stroke-opacity=\"1\" stroke-width=\"2.4\"/>\n",
       "<circle clip-path=\"url(#clip092)\" cx=\"1510.04\" cy=\"101.623\" r=\"14\" fill=\"#0000ff\" fill-rule=\"evenodd\" fill-opacity=\"1\" stroke=\"#000000\" stroke-opacity=\"1\" stroke-width=\"2.4\"/>\n",
       "<circle clip-path=\"url(#clip092)\" cx=\"281.483\" cy=\"576.538\" r=\"14\" fill=\"#ff0000\" fill-rule=\"evenodd\" fill-opacity=\"1\" stroke=\"#000000\" stroke-opacity=\"1\" stroke-width=\"2.4\"/>\n",
       "<circle clip-path=\"url(#clip092)\" cx=\"555.258\" cy=\"763.826\" r=\"14\" fill=\"#0000ff\" fill-rule=\"evenodd\" fill-opacity=\"1\" stroke=\"#000000\" stroke-opacity=\"1\" stroke-width=\"2.4\"/>\n",
       "<circle clip-path=\"url(#clip092)\" cx=\"553.306\" cy=\"725.286\" r=\"14\" fill=\"#0000ff\" fill-rule=\"evenodd\" fill-opacity=\"1\" stroke=\"#000000\" stroke-opacity=\"1\" stroke-width=\"2.4\"/>\n",
       "<circle clip-path=\"url(#clip092)\" cx=\"573.161\" cy=\"773.188\" r=\"14\" fill=\"#0000ff\" fill-rule=\"evenodd\" fill-opacity=\"1\" stroke=\"#000000\" stroke-opacity=\"1\" stroke-width=\"2.4\"/>\n",
       "<circle clip-path=\"url(#clip092)\" cx=\"537.891\" cy=\"787.554\" r=\"14\" fill=\"#ff0000\" fill-rule=\"evenodd\" fill-opacity=\"1\" stroke=\"#000000\" stroke-opacity=\"1\" stroke-width=\"2.4\"/>\n",
       "<circle clip-path=\"url(#clip092)\" cx=\"552.956\" cy=\"746.36\" r=\"14\" fill=\"#0000ff\" fill-rule=\"evenodd\" fill-opacity=\"1\" stroke=\"#000000\" stroke-opacity=\"1\" stroke-width=\"2.4\"/>\n",
       "<circle clip-path=\"url(#clip092)\" cx=\"535.522\" cy=\"749.893\" r=\"14\" fill=\"#ff0000\" fill-rule=\"evenodd\" fill-opacity=\"1\" stroke=\"#000000\" stroke-opacity=\"1\" stroke-width=\"2.4\"/>\n",
       "<circle clip-path=\"url(#clip092)\" cx=\"555.657\" cy=\"710.556\" r=\"14\" fill=\"#ff0000\" fill-rule=\"evenodd\" fill-opacity=\"1\" stroke=\"#000000\" stroke-opacity=\"1\" stroke-width=\"2.4\"/>\n",
       "<circle clip-path=\"url(#clip092)\" cx=\"536.545\" cy=\"763.007\" r=\"14\" fill=\"#0000ff\" fill-rule=\"evenodd\" fill-opacity=\"1\" stroke=\"#000000\" stroke-opacity=\"1\" stroke-width=\"2.4\"/>\n",
       "<circle clip-path=\"url(#clip092)\" cx=\"521.673\" cy=\"745.766\" r=\"14\" fill=\"#ff0000\" fill-rule=\"evenodd\" fill-opacity=\"1\" stroke=\"#000000\" stroke-opacity=\"1\" stroke-width=\"2.4\"/>\n",
       "<circle clip-path=\"url(#clip092)\" cx=\"610.196\" cy=\"1005.68\" r=\"14\" fill=\"#ff0000\" fill-rule=\"evenodd\" fill-opacity=\"1\" stroke=\"#000000\" stroke-opacity=\"1\" stroke-width=\"2.4\"/>\n",
       "<circle clip-path=\"url(#clip092)\" cx=\"618.469\" cy=\"963.749\" r=\"14\" fill=\"#0000ff\" fill-rule=\"evenodd\" fill-opacity=\"1\" stroke=\"#000000\" stroke-opacity=\"1\" stroke-width=\"2.4\"/>\n",
       "<circle clip-path=\"url(#clip092)\" cx=\"618.311\" cy=\"988.036\" r=\"14\" fill=\"#0000ff\" fill-rule=\"evenodd\" fill-opacity=\"1\" stroke=\"#000000\" stroke-opacity=\"1\" stroke-width=\"2.4\"/>\n",
       "<circle clip-path=\"url(#clip092)\" cx=\"591.774\" cy=\"966.562\" r=\"14\" fill=\"#ff0000\" fill-rule=\"evenodd\" fill-opacity=\"1\" stroke=\"#000000\" stroke-opacity=\"1\" stroke-width=\"2.4\"/>\n",
       "<circle clip-path=\"url(#clip092)\" cx=\"640.743\" cy=\"1042.91\" r=\"14\" fill=\"#ff0000\" fill-rule=\"evenodd\" fill-opacity=\"1\" stroke=\"#000000\" stroke-opacity=\"1\" stroke-width=\"2.4\"/>\n",
       "<circle clip-path=\"url(#clip092)\" cx=\"1196.2\" cy=\"127.195\" r=\"14\" fill=\"#0000ff\" fill-rule=\"evenodd\" fill-opacity=\"1\" stroke=\"#000000\" stroke-opacity=\"1\" stroke-width=\"2.4\"/>\n",
       "<circle clip-path=\"url(#clip092)\" cx=\"1201.52\" cy=\"133.854\" r=\"14\" fill=\"#0000ff\" fill-rule=\"evenodd\" fill-opacity=\"1\" stroke=\"#000000\" stroke-opacity=\"1\" stroke-width=\"2.4\"/>\n",
       "<circle clip-path=\"url(#clip092)\" cx=\"1490.51\" cy=\"142.499\" r=\"14\" fill=\"#0000ff\" fill-rule=\"evenodd\" fill-opacity=\"1\" stroke=\"#000000\" stroke-opacity=\"1\" stroke-width=\"2.4\"/>\n",
       "<circle clip-path=\"url(#clip092)\" cx=\"1489.9\" cy=\"94.4801\" r=\"14\" fill=\"#ff0000\" fill-rule=\"evenodd\" fill-opacity=\"1\" stroke=\"#000000\" stroke-opacity=\"1\" stroke-width=\"2.4\"/>\n",
       "<circle clip-path=\"url(#clip092)\" cx=\"1501.57\" cy=\"156.822\" r=\"14\" fill=\"#0000ff\" fill-rule=\"evenodd\" fill-opacity=\"1\" stroke=\"#000000\" stroke-opacity=\"1\" stroke-width=\"2.4\"/>\n",
       "<path clip-path=\"url(#clip090)\" d=\"\n",
       "M1864.92 1078.48 L3194.92 1078.48 L3194.92 47.2441 L1864.92 47.2441  Z\n",
       "  \" fill=\"#ffffff\" fill-rule=\"evenodd\" fill-opacity=\"1\"/>\n",
       "<defs>\n",
       "  <clipPath id=\"clip093\">\n",
       "    <rect x=\"1864\" y=\"47\" width=\"1331\" height=\"1032\"/>\n",
       "  </clipPath>\n",
       "</defs>\n",
       "<polyline clip-path=\"url(#clip093)\" style=\"stroke:#000000; stroke-linecap:butt; stroke-linejoin:round; stroke-width:2; stroke-opacity:0.1; fill:none\" points=\"\n",
       "  1925.6,1078.48 1925.6,47.2441 \n",
       "  \"/>\n",
       "<polyline clip-path=\"url(#clip093)\" style=\"stroke:#000000; stroke-linecap:butt; stroke-linejoin:round; stroke-width:2; stroke-opacity:0.1; fill:none\" points=\"\n",
       "  2225.33,1078.48 2225.33,47.2441 \n",
       "  \"/>\n",
       "<polyline clip-path=\"url(#clip093)\" style=\"stroke:#000000; stroke-linecap:butt; stroke-linejoin:round; stroke-width:2; stroke-opacity:0.1; fill:none\" points=\"\n",
       "  2525.05,1078.48 2525.05,47.2441 \n",
       "  \"/>\n",
       "<polyline clip-path=\"url(#clip093)\" style=\"stroke:#000000; stroke-linecap:butt; stroke-linejoin:round; stroke-width:2; stroke-opacity:0.1; fill:none\" points=\"\n",
       "  2824.78,1078.48 2824.78,47.2441 \n",
       "  \"/>\n",
       "<polyline clip-path=\"url(#clip093)\" style=\"stroke:#000000; stroke-linecap:butt; stroke-linejoin:round; stroke-width:2; stroke-opacity:0.1; fill:none\" points=\"\n",
       "  3124.51,1078.48 3124.51,47.2441 \n",
       "  \"/>\n",
       "<polyline clip-path=\"url(#clip090)\" style=\"stroke:#000000; stroke-linecap:butt; stroke-linejoin:round; stroke-width:4; stroke-opacity:1; fill:none\" points=\"\n",
       "  1864.92,1078.48 3194.92,1078.48 \n",
       "  \"/>\n",
       "<polyline clip-path=\"url(#clip090)\" style=\"stroke:#000000; stroke-linecap:butt; stroke-linejoin:round; stroke-width:4; stroke-opacity:1; fill:none\" points=\"\n",
       "  1925.6,1078.48 1925.6,1059.58 \n",
       "  \"/>\n",
       "<polyline clip-path=\"url(#clip090)\" style=\"stroke:#000000; stroke-linecap:butt; stroke-linejoin:round; stroke-width:4; stroke-opacity:1; fill:none\" points=\"\n",
       "  2225.33,1078.48 2225.33,1059.58 \n",
       "  \"/>\n",
       "<polyline clip-path=\"url(#clip090)\" style=\"stroke:#000000; stroke-linecap:butt; stroke-linejoin:round; stroke-width:4; stroke-opacity:1; fill:none\" points=\"\n",
       "  2525.05,1078.48 2525.05,1059.58 \n",
       "  \"/>\n",
       "<polyline clip-path=\"url(#clip090)\" style=\"stroke:#000000; stroke-linecap:butt; stroke-linejoin:round; stroke-width:4; stroke-opacity:1; fill:none\" points=\"\n",
       "  2824.78,1078.48 2824.78,1059.58 \n",
       "  \"/>\n",
       "<polyline clip-path=\"url(#clip090)\" style=\"stroke:#000000; stroke-linecap:butt; stroke-linejoin:round; stroke-width:4; stroke-opacity:1; fill:none\" points=\"\n",
       "  3124.51,1078.48 3124.51,1059.58 \n",
       "  \"/>\n",
       "<path clip-path=\"url(#clip090)\" d=\"M1903.48 1126.87 Q1899.87 1126.87 1898.04 1130.44 Q1896.24 1133.98 1896.24 1141.11 Q1896.24 1148.21 1898.04 1151.78 Q1899.87 1155.32 1903.48 1155.32 Q1907.12 1155.32 1908.92 1151.78 Q1910.75 1148.21 1910.75 1141.11 Q1910.75 1133.98 1908.92 1130.44 Q1907.12 1126.87 1903.48 1126.87 M1903.48 1123.17 Q1909.29 1123.17 1912.35 1127.77 Q1915.43 1132.36 1915.43 1141.11 Q1915.43 1149.83 1912.35 1154.44 Q1909.29 1159.02 1903.48 1159.02 Q1897.67 1159.02 1894.59 1154.44 Q1891.54 1149.83 1891.54 1141.11 Q1891.54 1132.36 1894.59 1127.77 Q1897.67 1123.17 1903.48 1123.17 Z\" fill=\"#000000\" fill-rule=\"evenodd\" fill-opacity=\"1\" /><path clip-path=\"url(#clip090)\" d=\"M1923.65 1152.47 L1928.53 1152.47 L1928.53 1158.35 L1923.65 1158.35 L1923.65 1152.47 Z\" fill=\"#000000\" fill-rule=\"evenodd\" fill-opacity=\"1\" /><path clip-path=\"url(#clip090)\" d=\"M1938.76 1123.79 L1957.12 1123.79 L1957.12 1127.73 L1943.04 1127.73 L1943.04 1136.2 Q1944.06 1135.85 1945.08 1135.69 Q1946.1 1135.5 1947.12 1135.5 Q1952.9 1135.5 1956.28 1138.68 Q1959.66 1141.85 1959.66 1147.26 Q1959.66 1152.84 1956.19 1155.94 Q1952.72 1159.02 1946.4 1159.02 Q1944.22 1159.02 1941.96 1158.65 Q1939.71 1158.28 1937.3 1157.54 L1937.3 1152.84 Q1939.39 1153.98 1941.61 1154.53 Q1943.83 1155.09 1946.31 1155.09 Q1950.31 1155.09 1952.65 1152.98 Q1954.99 1150.88 1954.99 1147.26 Q1954.99 1143.65 1952.65 1141.55 Q1950.31 1139.44 1946.31 1139.44 Q1944.43 1139.44 1942.56 1139.86 Q1940.71 1140.27 1938.76 1141.15 L1938.76 1123.79 Z\" fill=\"#000000\" fill-rule=\"evenodd\" fill-opacity=\"1\" /><path clip-path=\"url(#clip090)\" d=\"M2192.48 1154.42 L2200.12 1154.42 L2200.12 1128.05 L2191.81 1129.72 L2191.81 1125.46 L2200.07 1123.79 L2204.75 1123.79 L2204.75 1154.42 L2212.39 1154.42 L2212.39 1158.35 L2192.48 1158.35 L2192.48 1154.42 Z\" fill=\"#000000\" fill-rule=\"evenodd\" fill-opacity=\"1\" /><path clip-path=\"url(#clip090)\" d=\"M2221.83 1152.47 L2226.72 1152.47 L2226.72 1158.35 L2221.83 1158.35 L2221.83 1152.47 Z\" fill=\"#000000\" fill-rule=\"evenodd\" fill-opacity=\"1\" /><path clip-path=\"url(#clip090)\" d=\"M2246.9 1126.87 Q2243.29 1126.87 2241.46 1130.44 Q2239.66 1133.98 2239.66 1141.11 Q2239.66 1148.21 2241.46 1151.78 Q2243.29 1155.32 2246.9 1155.32 Q2250.54 1155.32 2252.34 1151.78 Q2254.17 1148.21 2254.17 1141.11 Q2254.17 1133.98 2252.34 1130.44 Q2250.54 1126.87 2246.9 1126.87 M2246.9 1123.17 Q2252.71 1123.17 2255.77 1127.77 Q2258.85 1132.36 2258.85 1141.11 Q2258.85 1149.83 2255.77 1154.44 Q2252.71 1159.02 2246.9 1159.02 Q2241.09 1159.02 2238.01 1154.44 Q2234.96 1149.83 2234.96 1141.11 Q2234.96 1132.36 2238.01 1127.77 Q2241.09 1123.17 2246.9 1123.17 Z\" fill=\"#000000\" fill-rule=\"evenodd\" fill-opacity=\"1\" /><path clip-path=\"url(#clip090)\" d=\"M2492.71 1154.42 L2500.34 1154.42 L2500.34 1128.05 L2492.03 1129.72 L2492.03 1125.46 L2500.3 1123.79 L2504.97 1123.79 L2504.97 1154.42 L2512.61 1154.42 L2512.61 1158.35 L2492.71 1158.35 L2492.71 1154.42 Z\" fill=\"#000000\" fill-rule=\"evenodd\" fill-opacity=\"1\" /><path clip-path=\"url(#clip090)\" d=\"M2522.06 1152.47 L2526.94 1152.47 L2526.94 1158.35 L2522.06 1158.35 L2522.06 1152.47 Z\" fill=\"#000000\" fill-rule=\"evenodd\" fill-opacity=\"1\" /><path clip-path=\"url(#clip090)\" d=\"M2537.17 1123.79 L2555.53 1123.79 L2555.53 1127.73 L2541.46 1127.73 L2541.46 1136.2 Q2542.47 1135.85 2543.49 1135.69 Q2544.51 1135.5 2545.53 1135.5 Q2551.32 1135.5 2554.7 1138.68 Q2558.08 1141.85 2558.08 1147.26 Q2558.08 1152.84 2554.6 1155.94 Q2551.13 1159.02 2544.81 1159.02 Q2542.64 1159.02 2540.37 1158.65 Q2538.12 1158.28 2535.71 1157.54 L2535.71 1152.84 Q2537.8 1153.98 2540.02 1154.53 Q2542.24 1155.09 2544.72 1155.09 Q2548.72 1155.09 2551.06 1152.98 Q2553.4 1150.88 2553.4 1147.26 Q2553.4 1143.65 2551.06 1141.55 Q2548.72 1139.44 2544.72 1139.44 Q2542.84 1139.44 2540.97 1139.86 Q2539.12 1140.27 2537.17 1141.15 L2537.17 1123.79 Z\" fill=\"#000000\" fill-rule=\"evenodd\" fill-opacity=\"1\" /><path clip-path=\"url(#clip090)\" d=\"M2796.02 1154.42 L2812.34 1154.42 L2812.34 1158.35 L2790.4 1158.35 L2790.4 1154.42 Q2793.06 1151.66 2797.64 1147.03 Q2802.25 1142.38 2803.43 1141.04 Q2805.67 1138.51 2806.55 1136.78 Q2807.46 1135.02 2807.46 1133.33 Q2807.46 1130.57 2805.51 1128.84 Q2803.59 1127.1 2800.49 1127.1 Q2798.29 1127.1 2795.83 1127.87 Q2793.4 1128.63 2790.63 1130.18 L2790.63 1125.46 Q2793.45 1124.32 2795.9 1123.75 Q2798.36 1123.17 2800.39 1123.17 Q2805.77 1123.17 2808.96 1125.85 Q2812.15 1128.54 2812.15 1133.03 Q2812.15 1135.16 2811.34 1137.08 Q2810.56 1138.98 2808.45 1141.57 Q2807.87 1142.24 2804.77 1145.46 Q2801.67 1148.65 2796.02 1154.42 Z\" fill=\"#000000\" fill-rule=\"evenodd\" fill-opacity=\"1\" /><path clip-path=\"url(#clip090)\" d=\"M2822.15 1152.47 L2827.04 1152.47 L2827.04 1158.35 L2822.15 1158.35 L2822.15 1152.47 Z\" fill=\"#000000\" fill-rule=\"evenodd\" fill-opacity=\"1\" /><path clip-path=\"url(#clip090)\" d=\"M2847.22 1126.87 Q2843.61 1126.87 2841.78 1130.44 Q2839.98 1133.98 2839.98 1141.11 Q2839.98 1148.21 2841.78 1151.78 Q2843.61 1155.32 2847.22 1155.32 Q2850.86 1155.32 2852.66 1151.78 Q2854.49 1148.21 2854.49 1141.11 Q2854.49 1133.98 2852.66 1130.44 Q2850.86 1126.87 2847.22 1126.87 M2847.22 1123.17 Q2853.03 1123.17 2856.09 1127.77 Q2859.17 1132.36 2859.17 1141.11 Q2859.17 1149.83 2856.09 1154.44 Q2853.03 1159.02 2847.22 1159.02 Q2841.41 1159.02 2838.33 1154.44 Q2835.28 1149.83 2835.28 1141.11 Q2835.28 1132.36 2838.33 1127.77 Q2841.41 1123.17 2847.22 1123.17 Z\" fill=\"#000000\" fill-rule=\"evenodd\" fill-opacity=\"1\" /><path clip-path=\"url(#clip090)\" d=\"M3096.24 1154.42 L3112.56 1154.42 L3112.56 1158.35 L3090.62 1158.35 L3090.62 1154.42 Q3093.28 1151.66 3097.86 1147.03 Q3102.47 1142.38 3103.65 1141.04 Q3105.9 1138.51 3106.78 1136.78 Q3107.68 1135.02 3107.68 1133.33 Q3107.68 1130.57 3105.73 1128.84 Q3103.81 1127.1 3100.71 1127.1 Q3098.51 1127.1 3096.06 1127.87 Q3093.63 1128.63 3090.85 1130.18 L3090.85 1125.46 Q3093.67 1124.32 3096.13 1123.75 Q3098.58 1123.17 3100.62 1123.17 Q3105.99 1123.17 3109.18 1125.85 Q3112.38 1128.54 3112.38 1133.03 Q3112.38 1135.16 3111.57 1137.08 Q3110.78 1138.98 3108.67 1141.57 Q3108.1 1142.24 3104.99 1145.46 Q3101.89 1148.65 3096.24 1154.42 Z\" fill=\"#000000\" fill-rule=\"evenodd\" fill-opacity=\"1\" /><path clip-path=\"url(#clip090)\" d=\"M3122.38 1152.47 L3127.26 1152.47 L3127.26 1158.35 L3122.38 1158.35 L3122.38 1152.47 Z\" fill=\"#000000\" fill-rule=\"evenodd\" fill-opacity=\"1\" /><path clip-path=\"url(#clip090)\" d=\"M3137.49 1123.79 L3155.85 1123.79 L3155.85 1127.73 L3141.78 1127.73 L3141.78 1136.2 Q3142.79 1135.85 3143.81 1135.69 Q3144.83 1135.5 3145.85 1135.5 Q3151.64 1135.5 3155.02 1138.68 Q3158.4 1141.85 3158.4 1147.26 Q3158.4 1152.84 3154.92 1155.94 Q3151.45 1159.02 3145.13 1159.02 Q3142.96 1159.02 3140.69 1158.65 Q3138.44 1158.28 3136.04 1157.54 L3136.04 1152.84 Q3138.12 1153.98 3140.34 1154.53 Q3142.56 1155.09 3145.04 1155.09 Q3149.04 1155.09 3151.38 1152.98 Q3153.72 1150.88 3153.72 1147.26 Q3153.72 1143.65 3151.38 1141.55 Q3149.04 1139.44 3145.04 1139.44 Q3143.17 1139.44 3141.29 1139.86 Q3139.44 1140.27 3137.49 1141.15 L3137.49 1123.79 Z\" fill=\"#000000\" fill-rule=\"evenodd\" fill-opacity=\"1\" /><path clip-path=\"url(#clip090)\" d=\"M2459.26 1241.11 Q2459.26 1234.74 2456.62 1231.24 Q2454.01 1227.74 2449.27 1227.74 Q2444.56 1227.74 2441.91 1231.24 Q2439.31 1234.74 2439.31 1241.11 Q2439.31 1247.44 2441.91 1250.94 Q2444.56 1254.44 2449.27 1254.44 Q2454.01 1254.44 2456.62 1250.94 Q2459.26 1247.44 2459.26 1241.11 M2465.12 1254.92 Q2465.12 1264.02 2461.08 1268.45 Q2457.03 1272.9 2448.69 1272.9 Q2445.61 1272.9 2442.87 1272.43 Q2440.13 1271.98 2437.55 1271.02 L2437.55 1265.33 Q2440.13 1266.73 2442.65 1267.4 Q2445.16 1268.06 2447.77 1268.06 Q2453.53 1268.06 2456.4 1265.04 Q2459.26 1262.05 2459.26 1255.97 L2459.26 1253.07 Q2457.45 1256.22 2454.61 1257.78 Q2451.78 1259.34 2447.84 1259.34 Q2441.28 1259.34 2437.27 1254.35 Q2433.26 1249.35 2433.26 1241.11 Q2433.26 1232.83 2437.27 1227.83 Q2441.28 1222.84 2447.84 1222.84 Q2451.78 1222.84 2454.61 1224.4 Q2457.45 1225.96 2459.26 1229.11 L2459.26 1223.7 L2465.12 1223.7 L2465.12 1254.92 Z\" fill=\"#000000\" fill-rule=\"evenodd\" fill-opacity=\"1\" /><path clip-path=\"url(#clip090)\" d=\"M2493.38 1241.42 Q2486.28 1241.42 2483.55 1243.05 Q2480.81 1244.67 2480.81 1248.59 Q2480.81 1251.7 2482.85 1253.55 Q2484.92 1255.37 2488.45 1255.37 Q2493.32 1255.37 2496.25 1251.93 Q2499.21 1248.46 2499.21 1242.73 L2499.21 1241.42 L2493.38 1241.42 M2505.06 1239.01 L2505.06 1259.34 L2499.21 1259.34 L2499.21 1253.93 Q2497.2 1257.18 2494.21 1258.74 Q2491.22 1260.27 2486.89 1260.27 Q2481.41 1260.27 2478.17 1257.21 Q2474.95 1254.12 2474.95 1248.97 Q2474.95 1242.95 2478.96 1239.9 Q2483.01 1236.84 2490.99 1236.84 L2499.21 1236.84 L2499.21 1236.27 Q2499.21 1232.23 2496.53 1230.03 Q2493.89 1227.8 2489.08 1227.8 Q2486.03 1227.8 2483.13 1228.53 Q2480.24 1229.27 2477.56 1230.73 L2477.56 1225.32 Q2480.78 1224.08 2483.8 1223.47 Q2486.83 1222.84 2489.69 1222.84 Q2497.42 1222.84 2501.24 1226.85 Q2505.06 1230.86 2505.06 1239.01 Z\" fill=\"#000000\" fill-rule=\"evenodd\" fill-opacity=\"1\" /><path clip-path=\"url(#clip090)\" d=\"M2517.13 1223.7 L2522.98 1223.7 L2522.98 1259.34 L2517.13 1259.34 L2517.13 1223.7 M2517.13 1209.82 L2522.98 1209.82 L2522.98 1217.23 L2517.13 1217.23 L2517.13 1209.82 Z\" fill=\"#000000\" fill-rule=\"evenodd\" fill-opacity=\"1\" /><path clip-path=\"url(#clip090)\" d=\"M2564.87 1237.83 L2564.87 1259.34 L2559.01 1259.34 L2559.01 1238.02 Q2559.01 1232.96 2557.04 1230.44 Q2555.07 1227.93 2551.12 1227.93 Q2546.38 1227.93 2543.64 1230.95 Q2540.9 1233.98 2540.9 1239.2 L2540.9 1259.34 L2535.01 1259.34 L2535.01 1223.7 L2540.9 1223.7 L2540.9 1229.23 Q2543 1226.02 2545.84 1224.43 Q2548.7 1222.84 2552.42 1222.84 Q2558.57 1222.84 2561.72 1226.66 Q2564.87 1230.44 2564.87 1237.83 Z\" fill=\"#000000\" fill-rule=\"evenodd\" fill-opacity=\"1\" /><path clip-path=\"url(#clip090)\" d=\"M2599.21 1253.93 L2609.72 1253.93 L2609.72 1217.68 L2598.29 1219.97 L2598.29 1214.12 L2609.65 1211.82 L2616.08 1211.82 L2616.08 1253.93 L2626.58 1253.93 L2626.58 1259.34 L2599.21 1259.34 L2599.21 1253.93 Z\" fill=\"#000000\" fill-rule=\"evenodd\" fill-opacity=\"1\" /><polyline clip-path=\"url(#clip093)\" style=\"stroke:#000000; stroke-linecap:butt; stroke-linejoin:round; stroke-width:2; stroke-opacity:0.1; fill:none\" points=\"\n",
       "  1864.92,999.063 3194.92,999.063 \n",
       "  \"/>\n",
       "<polyline clip-path=\"url(#clip093)\" style=\"stroke:#000000; stroke-linecap:butt; stroke-linejoin:round; stroke-width:2; stroke-opacity:0.1; fill:none\" points=\"\n",
       "  1864.92,780.49 3194.92,780.49 \n",
       "  \"/>\n",
       "<polyline clip-path=\"url(#clip093)\" style=\"stroke:#000000; stroke-linecap:butt; stroke-linejoin:round; stroke-width:2; stroke-opacity:0.1; fill:none\" points=\"\n",
       "  1864.92,561.918 3194.92,561.918 \n",
       "  \"/>\n",
       "<polyline clip-path=\"url(#clip093)\" style=\"stroke:#000000; stroke-linecap:butt; stroke-linejoin:round; stroke-width:2; stroke-opacity:0.1; fill:none\" points=\"\n",
       "  1864.92,343.346 3194.92,343.346 \n",
       "  \"/>\n",
       "<polyline clip-path=\"url(#clip093)\" style=\"stroke:#000000; stroke-linecap:butt; stroke-linejoin:round; stroke-width:2; stroke-opacity:0.1; fill:none\" points=\"\n",
       "  1864.92,124.773 3194.92,124.773 \n",
       "  \"/>\n",
       "<polyline clip-path=\"url(#clip090)\" style=\"stroke:#000000; stroke-linecap:butt; stroke-linejoin:round; stroke-width:4; stroke-opacity:1; fill:none\" points=\"\n",
       "  1864.92,1078.48 1864.92,47.2441 \n",
       "  \"/>\n",
       "<polyline clip-path=\"url(#clip090)\" style=\"stroke:#000000; stroke-linecap:butt; stroke-linejoin:round; stroke-width:4; stroke-opacity:1; fill:none\" points=\"\n",
       "  1864.92,999.063 1883.82,999.063 \n",
       "  \"/>\n",
       "<polyline clip-path=\"url(#clip090)\" style=\"stroke:#000000; stroke-linecap:butt; stroke-linejoin:round; stroke-width:4; stroke-opacity:1; fill:none\" points=\"\n",
       "  1864.92,780.49 1883.82,780.49 \n",
       "  \"/>\n",
       "<polyline clip-path=\"url(#clip090)\" style=\"stroke:#000000; stroke-linecap:butt; stroke-linejoin:round; stroke-width:4; stroke-opacity:1; fill:none\" points=\"\n",
       "  1864.92,561.918 1883.82,561.918 \n",
       "  \"/>\n",
       "<polyline clip-path=\"url(#clip090)\" style=\"stroke:#000000; stroke-linecap:butt; stroke-linejoin:round; stroke-width:4; stroke-opacity:1; fill:none\" points=\"\n",
       "  1864.92,343.346 1883.82,343.346 \n",
       "  \"/>\n",
       "<polyline clip-path=\"url(#clip090)\" style=\"stroke:#000000; stroke-linecap:butt; stroke-linejoin:round; stroke-width:4; stroke-opacity:1; fill:none\" points=\"\n",
       "  1864.92,124.773 1883.82,124.773 \n",
       "  \"/>\n",
       "<path clip-path=\"url(#clip090)\" d=\"M1705.59 984.862 Q1701.97 984.862 1700.15 988.426 Q1698.34 991.968 1698.34 999.098 Q1698.34 1006.2 1700.15 1009.77 Q1701.97 1013.31 1705.59 1013.31 Q1709.22 1013.31 1711.03 1009.77 Q1712.85 1006.2 1712.85 999.098 Q1712.85 991.968 1711.03 988.426 Q1709.22 984.862 1705.59 984.862 M1705.59 981.158 Q1711.4 981.158 1714.45 985.764 Q1717.53 990.348 1717.53 999.098 Q1717.53 1007.82 1714.45 1012.43 Q1711.4 1017.01 1705.59 1017.01 Q1699.78 1017.01 1696.7 1012.43 Q1693.64 1007.82 1693.64 999.098 Q1693.64 990.348 1696.7 985.764 Q1699.78 981.158 1705.59 981.158 Z\" fill=\"#000000\" fill-rule=\"evenodd\" fill-opacity=\"1\" /><path clip-path=\"url(#clip090)\" d=\"M1725.75 1010.46 L1730.63 1010.46 L1730.63 1016.34 L1725.75 1016.34 L1725.75 1010.46 Z\" fill=\"#000000\" fill-rule=\"evenodd\" fill-opacity=\"1\" /><path clip-path=\"url(#clip090)\" d=\"M1750.82 984.862 Q1747.21 984.862 1745.38 988.426 Q1743.57 991.968 1743.57 999.098 Q1743.57 1006.2 1745.38 1009.77 Q1747.21 1013.31 1750.82 1013.31 Q1754.45 1013.31 1756.26 1009.77 Q1758.09 1006.2 1758.09 999.098 Q1758.09 991.968 1756.26 988.426 Q1754.45 984.862 1750.82 984.862 M1750.82 981.158 Q1756.63 981.158 1759.68 985.764 Q1762.76 990.348 1762.76 999.098 Q1762.76 1007.82 1759.68 1012.43 Q1756.63 1017.01 1750.82 1017.01 Q1745.01 1017.01 1741.93 1012.43 Q1738.87 1007.82 1738.87 999.098 Q1738.87 990.348 1741.93 985.764 Q1745.01 981.158 1750.82 981.158 Z\" fill=\"#000000\" fill-rule=\"evenodd\" fill-opacity=\"1\" /><path clip-path=\"url(#clip090)\" d=\"M1780.98 984.862 Q1777.37 984.862 1775.54 988.426 Q1773.73 991.968 1773.73 999.098 Q1773.73 1006.2 1775.54 1009.77 Q1777.37 1013.31 1780.98 1013.31 Q1784.61 1013.31 1786.42 1009.77 Q1788.25 1006.2 1788.25 999.098 Q1788.25 991.968 1786.42 988.426 Q1784.61 984.862 1780.98 984.862 M1780.98 981.158 Q1786.79 981.158 1789.84 985.764 Q1792.92 990.348 1792.92 999.098 Q1792.92 1007.82 1789.84 1012.43 Q1786.79 1017.01 1780.98 1017.01 Q1775.17 1017.01 1772.09 1012.43 Q1769.03 1007.82 1769.03 999.098 Q1769.03 990.348 1772.09 985.764 Q1775.17 981.158 1780.98 981.158 Z\" fill=\"#000000\" fill-rule=\"evenodd\" fill-opacity=\"1\" /><path clip-path=\"url(#clip090)\" d=\"M1706.58 766.289 Q1702.97 766.289 1701.14 769.854 Q1699.34 773.396 1699.34 780.525 Q1699.34 787.632 1701.14 791.196 Q1702.97 794.738 1706.58 794.738 Q1710.22 794.738 1712.02 791.196 Q1713.85 787.632 1713.85 780.525 Q1713.85 773.396 1712.02 769.854 Q1710.22 766.289 1706.58 766.289 M1706.58 762.585 Q1712.39 762.585 1715.45 767.192 Q1718.53 771.775 1718.53 780.525 Q1718.53 789.252 1715.45 793.858 Q1712.39 798.442 1706.58 798.442 Q1700.77 798.442 1697.69 793.858 Q1694.64 789.252 1694.64 780.525 Q1694.64 771.775 1697.69 767.192 Q1700.77 762.585 1706.58 762.585 Z\" fill=\"#000000\" fill-rule=\"evenodd\" fill-opacity=\"1\" /><path clip-path=\"url(#clip090)\" d=\"M1726.74 791.891 L1731.63 791.891 L1731.63 797.77 L1726.74 797.77 L1726.74 791.891 Z\" fill=\"#000000\" fill-rule=\"evenodd\" fill-opacity=\"1\" /><path clip-path=\"url(#clip090)\" d=\"M1745.84 793.835 L1762.16 793.835 L1762.16 797.77 L1740.22 797.77 L1740.22 793.835 Q1742.88 791.081 1747.46 786.451 Q1752.07 781.798 1753.25 780.456 Q1755.49 777.933 1756.37 776.197 Q1757.28 774.437 1757.28 772.747 Q1757.28 769.993 1755.33 768.257 Q1753.41 766.521 1750.31 766.521 Q1748.11 766.521 1745.66 767.285 Q1743.22 768.048 1740.45 769.599 L1740.45 764.877 Q1743.27 763.743 1745.72 763.164 Q1748.18 762.585 1750.22 762.585 Q1755.59 762.585 1758.78 765.271 Q1761.97 767.956 1761.97 772.447 Q1761.97 774.576 1761.16 776.497 Q1760.38 778.396 1758.27 780.988 Q1757.69 781.659 1754.59 784.877 Q1751.49 788.071 1745.84 793.835 Z\" fill=\"#000000\" fill-rule=\"evenodd\" fill-opacity=\"1\" /><path clip-path=\"url(#clip090)\" d=\"M1772.02 763.21 L1790.38 763.21 L1790.38 767.146 L1776.3 767.146 L1776.3 775.618 Q1777.32 775.271 1778.34 775.109 Q1779.36 774.923 1780.38 774.923 Q1786.16 774.923 1789.54 778.095 Q1792.92 781.266 1792.92 786.683 Q1792.92 792.261 1789.45 795.363 Q1785.98 798.442 1779.66 798.442 Q1777.48 798.442 1775.22 798.071 Q1772.97 797.701 1770.56 796.96 L1770.56 792.261 Q1772.65 793.396 1774.87 793.951 Q1777.09 794.507 1779.57 794.507 Q1783.57 794.507 1785.91 792.4 Q1788.25 790.294 1788.25 786.683 Q1788.25 783.071 1785.91 780.965 Q1783.57 778.859 1779.57 778.859 Q1777.69 778.859 1775.82 779.275 Q1773.97 779.692 1772.02 780.572 L1772.02 763.21 Z\" fill=\"#000000\" fill-rule=\"evenodd\" fill-opacity=\"1\" /><path clip-path=\"url(#clip090)\" d=\"M1705.59 547.717 Q1701.97 547.717 1700.15 551.282 Q1698.34 554.823 1698.34 561.953 Q1698.34 569.059 1700.15 572.624 Q1701.97 576.166 1705.59 576.166 Q1709.22 576.166 1711.03 572.624 Q1712.85 569.059 1712.85 561.953 Q1712.85 554.823 1711.03 551.282 Q1709.22 547.717 1705.59 547.717 M1705.59 544.013 Q1711.4 544.013 1714.45 548.62 Q1717.53 553.203 1717.53 561.953 Q1717.53 570.68 1714.45 575.286 Q1711.4 579.869 1705.59 579.869 Q1699.78 579.869 1696.7 575.286 Q1693.64 570.68 1693.64 561.953 Q1693.64 553.203 1696.7 548.62 Q1699.78 544.013 1705.59 544.013 Z\" fill=\"#000000\" fill-rule=\"evenodd\" fill-opacity=\"1\" /><path clip-path=\"url(#clip090)\" d=\"M1725.75 573.319 L1730.63 573.319 L1730.63 579.198 L1725.75 579.198 L1725.75 573.319 Z\" fill=\"#000000\" fill-rule=\"evenodd\" fill-opacity=\"1\" /><path clip-path=\"url(#clip090)\" d=\"M1740.86 544.638 L1759.22 544.638 L1759.22 548.573 L1745.15 548.573 L1745.15 557.045 Q1746.16 556.698 1747.18 556.536 Q1748.2 556.351 1749.22 556.351 Q1755.01 556.351 1758.39 559.522 Q1761.77 562.694 1761.77 568.11 Q1761.77 573.689 1758.29 576.791 Q1754.82 579.869 1748.5 579.869 Q1746.33 579.869 1744.06 579.499 Q1741.81 579.129 1739.41 578.388 L1739.41 573.689 Q1741.49 574.823 1743.71 575.379 Q1745.93 575.934 1748.41 575.934 Q1752.41 575.934 1754.75 573.828 Q1757.09 571.721 1757.09 568.11 Q1757.09 564.499 1754.75 562.393 Q1752.41 560.286 1748.41 560.286 Q1746.53 560.286 1744.66 560.703 Q1742.81 561.12 1740.86 561.999 L1740.86 544.638 Z\" fill=\"#000000\" fill-rule=\"evenodd\" fill-opacity=\"1\" /><path clip-path=\"url(#clip090)\" d=\"M1780.98 547.717 Q1777.37 547.717 1775.54 551.282 Q1773.73 554.823 1773.73 561.953 Q1773.73 569.059 1775.54 572.624 Q1777.37 576.166 1780.98 576.166 Q1784.61 576.166 1786.42 572.624 Q1788.25 569.059 1788.25 561.953 Q1788.25 554.823 1786.42 551.282 Q1784.61 547.717 1780.98 547.717 M1780.98 544.013 Q1786.79 544.013 1789.84 548.62 Q1792.92 553.203 1792.92 561.953 Q1792.92 570.68 1789.84 575.286 Q1786.79 579.869 1780.98 579.869 Q1775.17 579.869 1772.09 575.286 Q1769.03 570.68 1769.03 561.953 Q1769.03 553.203 1772.09 548.62 Q1775.17 544.013 1780.98 544.013 Z\" fill=\"#000000\" fill-rule=\"evenodd\" fill-opacity=\"1\" /><path clip-path=\"url(#clip090)\" d=\"M1706.58 329.144 Q1702.97 329.144 1701.14 332.709 Q1699.34 336.251 1699.34 343.38 Q1699.34 350.487 1701.14 354.052 Q1702.97 357.593 1706.58 357.593 Q1710.22 357.593 1712.02 354.052 Q1713.85 350.487 1713.85 343.38 Q1713.85 336.251 1712.02 332.709 Q1710.22 329.144 1706.58 329.144 M1706.58 325.441 Q1712.39 325.441 1715.45 330.047 Q1718.53 334.631 1718.53 343.38 Q1718.53 352.107 1715.45 356.714 Q1712.39 361.297 1706.58 361.297 Q1700.77 361.297 1697.69 356.714 Q1694.64 352.107 1694.64 343.38 Q1694.64 334.631 1697.69 330.047 Q1700.77 325.441 1706.58 325.441 Z\" fill=\"#000000\" fill-rule=\"evenodd\" fill-opacity=\"1\" /><path clip-path=\"url(#clip090)\" d=\"M1726.74 354.746 L1731.63 354.746 L1731.63 360.626 L1726.74 360.626 L1726.74 354.746 Z\" fill=\"#000000\" fill-rule=\"evenodd\" fill-opacity=\"1\" /><path clip-path=\"url(#clip090)\" d=\"M1740.63 326.066 L1762.85 326.066 L1762.85 328.056 L1750.31 360.626 L1745.42 360.626 L1757.23 330.001 L1740.63 330.001 L1740.63 326.066 Z\" fill=\"#000000\" fill-rule=\"evenodd\" fill-opacity=\"1\" /><path clip-path=\"url(#clip090)\" d=\"M1772.02 326.066 L1790.38 326.066 L1790.38 330.001 L1776.3 330.001 L1776.3 338.473 Q1777.32 338.126 1778.34 337.964 Q1779.36 337.779 1780.38 337.779 Q1786.16 337.779 1789.54 340.95 Q1792.92 344.121 1792.92 349.538 Q1792.92 355.117 1789.45 358.218 Q1785.98 361.297 1779.66 361.297 Q1777.48 361.297 1775.22 360.927 Q1772.97 360.556 1770.56 359.816 L1770.56 355.117 Q1772.65 356.251 1774.87 356.806 Q1777.09 357.362 1779.57 357.362 Q1783.57 357.362 1785.91 355.255 Q1788.25 353.149 1788.25 349.538 Q1788.25 345.927 1785.91 343.82 Q1783.57 341.714 1779.57 341.714 Q1777.69 341.714 1775.82 342.13 Q1773.97 342.547 1772.02 343.427 L1772.02 326.066 Z\" fill=\"#000000\" fill-rule=\"evenodd\" fill-opacity=\"1\" /><path clip-path=\"url(#clip090)\" d=\"M1696.4 138.118 L1704.03 138.118 L1704.03 111.753 L1695.72 113.419 L1695.72 109.16 L1703.99 107.493 L1708.66 107.493 L1708.66 138.118 L1716.3 138.118 L1716.3 142.053 L1696.4 142.053 L1696.4 138.118 Z\" fill=\"#000000\" fill-rule=\"evenodd\" fill-opacity=\"1\" /><path clip-path=\"url(#clip090)\" d=\"M1725.75 136.174 L1730.63 136.174 L1730.63 142.053 L1725.75 142.053 L1725.75 136.174 Z\" fill=\"#000000\" fill-rule=\"evenodd\" fill-opacity=\"1\" /><path clip-path=\"url(#clip090)\" d=\"M1750.82 110.572 Q1747.21 110.572 1745.38 114.137 Q1743.57 117.679 1743.57 124.808 Q1743.57 131.915 1745.38 135.479 Q1747.21 139.021 1750.82 139.021 Q1754.45 139.021 1756.26 135.479 Q1758.09 131.915 1758.09 124.808 Q1758.09 117.679 1756.26 114.137 Q1754.45 110.572 1750.82 110.572 M1750.82 106.868 Q1756.63 106.868 1759.68 111.475 Q1762.76 116.058 1762.76 124.808 Q1762.76 133.535 1759.68 138.141 Q1756.63 142.725 1750.82 142.725 Q1745.01 142.725 1741.93 138.141 Q1738.87 133.535 1738.87 124.808 Q1738.87 116.058 1741.93 111.475 Q1745.01 106.868 1750.82 106.868 Z\" fill=\"#000000\" fill-rule=\"evenodd\" fill-opacity=\"1\" /><path clip-path=\"url(#clip090)\" d=\"M1780.98 110.572 Q1777.37 110.572 1775.54 114.137 Q1773.73 117.679 1773.73 124.808 Q1773.73 131.915 1775.54 135.479 Q1777.37 139.021 1780.98 139.021 Q1784.61 139.021 1786.42 135.479 Q1788.25 131.915 1788.25 124.808 Q1788.25 117.679 1786.42 114.137 Q1784.61 110.572 1780.98 110.572 M1780.98 106.868 Q1786.79 106.868 1789.84 111.475 Q1792.92 116.058 1792.92 124.808 Q1792.92 133.535 1789.84 138.141 Q1786.79 142.725 1780.98 142.725 Q1775.17 142.725 1772.09 138.141 Q1769.03 133.535 1769.03 124.808 Q1769.03 116.058 1772.09 111.475 Q1775.17 106.868 1780.98 106.868 Z\" fill=\"#000000\" fill-rule=\"evenodd\" fill-opacity=\"1\" /><path clip-path=\"url(#clip090)\" d=\"M1589.15 633.267 Q1582.78 633.267 1579.28 635.908 Q1575.78 638.518 1575.78 643.261 Q1575.78 647.971 1579.28 650.613 Q1582.78 653.223 1589.15 653.223 Q1595.48 653.223 1598.98 650.613 Q1602.48 647.971 1602.48 643.261 Q1602.48 638.518 1598.98 635.908 Q1595.48 633.267 1589.15 633.267 M1602.96 627.41 Q1612.06 627.41 1616.49 631.452 Q1620.94 635.495 1620.94 643.834 Q1620.94 646.921 1620.47 649.658 Q1620.02 652.396 1619.07 654.974 L1613.37 654.974 Q1614.77 652.396 1615.44 649.881 Q1616.11 647.367 1616.11 644.757 Q1616.11 638.996 1613.08 636.131 Q1610.09 633.267 1604.01 633.267 L1601.12 633.267 Q1604.27 635.081 1605.83 637.914 Q1607.39 640.746 1607.39 644.693 Q1607.39 651.25 1602.39 655.26 Q1597.39 659.271 1589.15 659.271 Q1580.87 659.271 1575.88 655.26 Q1570.88 651.25 1570.88 644.693 Q1570.88 640.746 1572.44 637.914 Q1574 635.081 1577.15 633.267 L1571.74 633.267 L1571.74 627.41 L1602.96 627.41 Z\" fill=\"#000000\" fill-rule=\"evenodd\" fill-opacity=\"1\" /><path clip-path=\"url(#clip090)\" d=\"M1589.47 599.146 Q1589.47 606.244 1591.09 608.982 Q1592.71 611.719 1596.63 611.719 Q1599.75 611.719 1601.59 609.682 Q1603.41 607.613 1603.41 604.08 Q1603.41 599.21 1599.97 596.282 Q1596.5 593.322 1590.77 593.322 L1589.47 593.322 L1589.47 599.146 M1587.05 587.465 L1607.39 587.465 L1607.39 593.322 L1601.97 593.322 Q1605.22 595.327 1606.78 598.319 Q1608.31 601.311 1608.31 605.64 Q1608.31 611.114 1605.25 614.361 Q1602.17 617.575 1597.01 617.575 Q1590.99 617.575 1587.94 613.565 Q1584.88 609.523 1584.88 601.534 L1584.88 593.322 L1584.31 593.322 Q1580.27 593.322 1578.07 595.995 Q1575.84 598.637 1575.84 603.443 Q1575.84 606.499 1576.58 609.395 Q1577.31 612.292 1578.77 614.965 L1573.36 614.965 Q1572.12 611.751 1571.51 608.727 Q1570.88 605.703 1570.88 602.839 Q1570.88 595.104 1574.89 591.285 Q1578.9 587.465 1587.05 587.465 Z\" fill=\"#000000\" fill-rule=\"evenodd\" fill-opacity=\"1\" /><path clip-path=\"url(#clip090)\" d=\"M1571.74 575.402 L1571.74 569.546 L1607.39 569.546 L1607.39 575.402 L1571.74 575.402 M1557.86 575.402 L1557.86 569.546 L1565.28 569.546 L1565.28 575.402 L1557.86 575.402 Z\" fill=\"#000000\" fill-rule=\"evenodd\" fill-opacity=\"1\" /><path clip-path=\"url(#clip090)\" d=\"M1585.87 527.66 L1607.39 527.66 L1607.39 533.516 L1586.06 533.516 Q1581 533.516 1578.49 535.489 Q1575.97 537.463 1575.97 541.41 Q1575.97 546.152 1578.99 548.889 Q1582.02 551.626 1587.24 551.626 L1607.39 551.626 L1607.39 557.515 L1571.74 557.515 L1571.74 551.626 L1577.28 551.626 Q1574.06 549.526 1572.47 546.693 Q1570.88 543.829 1570.88 540.105 Q1570.88 533.962 1574.7 530.811 Q1578.49 527.66 1585.87 527.66 Z\" fill=\"#000000\" fill-rule=\"evenodd\" fill-opacity=\"1\" /><path clip-path=\"url(#clip090)\" d=\"M1601.97 488.892 L1601.97 466.453 L1607.39 466.453 L1607.39 496.627 L1601.97 496.627 Q1598.19 492.967 1591.82 486.664 Q1585.42 480.331 1583.58 478.707 Q1580.11 475.62 1577.72 474.41 Q1575.3 473.169 1572.98 473.169 Q1569.19 473.169 1566.8 475.843 Q1564.42 478.485 1564.42 482.75 Q1564.42 485.773 1565.47 489.147 Q1566.52 492.489 1568.65 496.309 L1562.16 496.309 Q1560.6 492.425 1559.8 489.052 Q1559.01 485.678 1559.01 482.877 Q1559.01 475.493 1562.7 471.1 Q1566.39 466.708 1572.57 466.708 Q1575.49 466.708 1578.14 467.822 Q1580.74 468.904 1584.31 471.801 Q1585.23 472.596 1589.66 476.861 Q1594.05 481.126 1601.97 488.892 Z\" fill=\"#000000\" fill-rule=\"evenodd\" fill-opacity=\"1\" /><circle clip-path=\"url(#clip093)\" cx=\"1946.92\" cy=\"555.469\" r=\"14\" fill=\"#ff0000\" fill-rule=\"evenodd\" fill-opacity=\"1\" stroke=\"#000000\" stroke-opacity=\"1\" stroke-width=\"2.4\"/>\n",
       "<circle clip-path=\"url(#clip093)\" cx=\"2158.05\" cy=\"727.336\" r=\"14\" fill=\"#0000ff\" fill-rule=\"evenodd\" fill-opacity=\"1\" stroke=\"#000000\" stroke-opacity=\"1\" stroke-width=\"2.4\"/>\n",
       "<circle clip-path=\"url(#clip093)\" cx=\"2185.17\" cy=\"732.24\" r=\"14\" fill=\"#0000ff\" fill-rule=\"evenodd\" fill-opacity=\"1\" stroke=\"#000000\" stroke-opacity=\"1\" stroke-width=\"2.4\"/>\n",
       "<circle clip-path=\"url(#clip093)\" cx=\"2145.96\" cy=\"721.929\" r=\"14\" fill=\"#0000ff\" fill-rule=\"evenodd\" fill-opacity=\"1\" stroke=\"#000000\" stroke-opacity=\"1\" stroke-width=\"2.4\"/>\n",
       "<circle clip-path=\"url(#clip093)\" cx=\"2161.26\" cy=\"730.856\" r=\"14\" fill=\"#0000ff\" fill-rule=\"evenodd\" fill-opacity=\"1\" stroke=\"#000000\" stroke-opacity=\"1\" stroke-width=\"2.4\"/>\n",
       "<circle clip-path=\"url(#clip093)\" cx=\"2134.2\" cy=\"733.765\" r=\"14\" fill=\"#0000ff\" fill-rule=\"evenodd\" fill-opacity=\"1\" stroke=\"#000000\" stroke-opacity=\"1\" stroke-width=\"2.4\"/>\n",
       "<circle clip-path=\"url(#clip093)\" cx=\"2134.94\" cy=\"748.432\" r=\"14\" fill=\"#0000ff\" fill-rule=\"evenodd\" fill-opacity=\"1\" stroke=\"#000000\" stroke-opacity=\"1\" stroke-width=\"2.4\"/>\n",
       "<circle clip-path=\"url(#clip093)\" cx=\"2165.8\" cy=\"699.138\" r=\"14\" fill=\"#0000ff\" fill-rule=\"evenodd\" fill-opacity=\"1\" stroke=\"#000000\" stroke-opacity=\"1\" stroke-width=\"2.4\"/>\n",
       "<circle clip-path=\"url(#clip093)\" cx=\"2151.58\" cy=\"754.206\" r=\"14\" fill=\"#0000ff\" fill-rule=\"evenodd\" fill-opacity=\"1\" stroke=\"#000000\" stroke-opacity=\"1\" stroke-width=\"2.4\"/>\n",
       "<circle clip-path=\"url(#clip093)\" cx=\"2178.34\" cy=\"744.371\" r=\"14\" fill=\"#0000ff\" fill-rule=\"evenodd\" fill-opacity=\"1\" stroke=\"#000000\" stroke-opacity=\"1\" stroke-width=\"2.4\"/>\n",
       "<circle clip-path=\"url(#clip093)\" cx=\"2224.76\" cy=\"990.585\" r=\"14\" fill=\"#ff0000\" fill-rule=\"evenodd\" fill-opacity=\"1\" stroke=\"#000000\" stroke-opacity=\"1\" stroke-width=\"2.4\"/>\n",
       "<circle clip-path=\"url(#clip093)\" cx=\"2229.57\" cy=\"1028.87\" r=\"14\" fill=\"#ff0000\" fill-rule=\"evenodd\" fill-opacity=\"1\" stroke=\"#000000\" stroke-opacity=\"1\" stroke-width=\"2.4\"/>\n",
       "<circle clip-path=\"url(#clip093)\" cx=\"2218.48\" cy=\"1009.45\" r=\"14\" fill=\"#ff0000\" fill-rule=\"evenodd\" fill-opacity=\"1\" stroke=\"#000000\" stroke-opacity=\"1\" stroke-width=\"2.4\"/>\n",
       "<circle clip-path=\"url(#clip093)\" cx=\"2229.41\" cy=\"1004.71\" r=\"14\" fill=\"#ff0000\" fill-rule=\"evenodd\" fill-opacity=\"1\" stroke=\"#000000\" stroke-opacity=\"1\" stroke-width=\"2.4\"/>\n",
       "<circle clip-path=\"url(#clip093)\" cx=\"2227.47\" cy=\"981.631\" r=\"14\" fill=\"#ff0000\" fill-rule=\"evenodd\" fill-opacity=\"1\" stroke=\"#000000\" stroke-opacity=\"1\" stroke-width=\"2.4\"/>\n",
       "<circle clip-path=\"url(#clip093)\" cx=\"2819.59\" cy=\"137.942\" r=\"14\" fill=\"#0000ff\" fill-rule=\"evenodd\" fill-opacity=\"1\" stroke=\"#000000\" stroke-opacity=\"1\" stroke-width=\"2.4\"/>\n",
       "<circle clip-path=\"url(#clip093)\" cx=\"2844.96\" cy=\"107.319\" r=\"14\" fill=\"#0000ff\" fill-rule=\"evenodd\" fill-opacity=\"1\" stroke=\"#000000\" stroke-opacity=\"1\" stroke-width=\"2.4\"/>\n",
       "<circle clip-path=\"url(#clip093)\" cx=\"3157.28\" cy=\"131.12\" r=\"14\" fill=\"#0000ff\" fill-rule=\"evenodd\" fill-opacity=\"1\" stroke=\"#000000\" stroke-opacity=\"1\" stroke-width=\"2.4\"/>\n",
       "<circle clip-path=\"url(#clip093)\" cx=\"3141.95\" cy=\"151.525\" r=\"14\" fill=\"#0000ff\" fill-rule=\"evenodd\" fill-opacity=\"1\" stroke=\"#000000\" stroke-opacity=\"1\" stroke-width=\"2.4\"/>\n",
       "<circle clip-path=\"url(#clip093)\" cx=\"3098.54\" cy=\"76.43\" r=\"14\" fill=\"#0000ff\" fill-rule=\"evenodd\" fill-opacity=\"1\" stroke=\"#000000\" stroke-opacity=\"1\" stroke-width=\"2.4\"/>\n",
       "<circle clip-path=\"url(#clip093)\" cx=\"1922.01\" cy=\"531.214\" r=\"14\" fill=\"#ff0000\" fill-rule=\"evenodd\" fill-opacity=\"1\" stroke=\"#000000\" stroke-opacity=\"1\" stroke-width=\"2.4\"/>\n",
       "<circle clip-path=\"url(#clip093)\" cx=\"2160.83\" cy=\"713.772\" r=\"14\" fill=\"#0000ff\" fill-rule=\"evenodd\" fill-opacity=\"1\" stroke=\"#000000\" stroke-opacity=\"1\" stroke-width=\"2.4\"/>\n",
       "<circle clip-path=\"url(#clip093)\" cx=\"2176.95\" cy=\"720.36\" r=\"14\" fill=\"#0000ff\" fill-rule=\"evenodd\" fill-opacity=\"1\" stroke=\"#000000\" stroke-opacity=\"1\" stroke-width=\"2.4\"/>\n",
       "<circle clip-path=\"url(#clip093)\" cx=\"2161.69\" cy=\"729.888\" r=\"14\" fill=\"#0000ff\" fill-rule=\"evenodd\" fill-opacity=\"1\" stroke=\"#000000\" stroke-opacity=\"1\" stroke-width=\"2.4\"/>\n",
       "<circle clip-path=\"url(#clip093)\" cx=\"2156.07\" cy=\"723.256\" r=\"14\" fill=\"#0000ff\" fill-rule=\"evenodd\" fill-opacity=\"1\" stroke=\"#000000\" stroke-opacity=\"1\" stroke-width=\"2.4\"/>\n",
       "<circle clip-path=\"url(#clip093)\" cx=\"2145.55\" cy=\"704.902\" r=\"14\" fill=\"#0000ff\" fill-rule=\"evenodd\" fill-opacity=\"1\" stroke=\"#000000\" stroke-opacity=\"1\" stroke-width=\"2.4\"/>\n",
       "<circle clip-path=\"url(#clip093)\" cx=\"2144.56\" cy=\"762.574\" r=\"14\" fill=\"#0000ff\" fill-rule=\"evenodd\" fill-opacity=\"1\" stroke=\"#000000\" stroke-opacity=\"1\" stroke-width=\"2.4\"/>\n",
       "<circle clip-path=\"url(#clip093)\" cx=\"2170.77\" cy=\"774.617\" r=\"14\" fill=\"#0000ff\" fill-rule=\"evenodd\" fill-opacity=\"1\" stroke=\"#000000\" stroke-opacity=\"1\" stroke-width=\"2.4\"/>\n",
       "<circle clip-path=\"url(#clip093)\" cx=\"2174.27\" cy=\"705.327\" r=\"14\" fill=\"#0000ff\" fill-rule=\"evenodd\" fill-opacity=\"1\" stroke=\"#000000\" stroke-opacity=\"1\" stroke-width=\"2.4\"/>\n",
       "<circle clip-path=\"url(#clip093)\" cx=\"2187.75\" cy=\"732.947\" r=\"14\" fill=\"#0000ff\" fill-rule=\"evenodd\" fill-opacity=\"1\" stroke=\"#000000\" stroke-opacity=\"1\" stroke-width=\"2.4\"/>\n",
       "<circle clip-path=\"url(#clip093)\" cx=\"2249.32\" cy=\"992.44\" r=\"14\" fill=\"#ff0000\" fill-rule=\"evenodd\" fill-opacity=\"1\" stroke=\"#000000\" stroke-opacity=\"1\" stroke-width=\"2.4\"/>\n",
       "<circle clip-path=\"url(#clip093)\" cx=\"2201.84\" cy=\"1006.33\" r=\"14\" fill=\"#ff0000\" fill-rule=\"evenodd\" fill-opacity=\"1\" stroke=\"#000000\" stroke-opacity=\"1\" stroke-width=\"2.4\"/>\n",
       "<circle clip-path=\"url(#clip093)\" cx=\"2180.73\" cy=\"977.007\" r=\"14\" fill=\"#ff0000\" fill-rule=\"evenodd\" fill-opacity=\"1\" stroke=\"#000000\" stroke-opacity=\"1\" stroke-width=\"2.4\"/>\n",
       "<circle clip-path=\"url(#clip093)\" cx=\"2221.89\" cy=\"1049.29\" r=\"14\" fill=\"#ff0000\" fill-rule=\"evenodd\" fill-opacity=\"1\" stroke=\"#000000\" stroke-opacity=\"1\" stroke-width=\"2.4\"/>\n",
       "<circle clip-path=\"url(#clip093)\" cx=\"2204.21\" cy=\"1000.24\" r=\"14\" fill=\"#ff0000\" fill-rule=\"evenodd\" fill-opacity=\"1\" stroke=\"#000000\" stroke-opacity=\"1\" stroke-width=\"2.4\"/>\n",
       "<circle clip-path=\"url(#clip093)\" cx=\"2821.25\" cy=\"120.779\" r=\"14\" fill=\"#0000ff\" fill-rule=\"evenodd\" fill-opacity=\"1\" stroke=\"#000000\" stroke-opacity=\"1\" stroke-width=\"2.4\"/>\n",
       "<circle clip-path=\"url(#clip093)\" cx=\"2848.99\" cy=\"167.077\" r=\"14\" fill=\"#0000ff\" fill-rule=\"evenodd\" fill-opacity=\"1\" stroke=\"#000000\" stroke-opacity=\"1\" stroke-width=\"2.4\"/>\n",
       "<circle clip-path=\"url(#clip093)\" cx=\"3149.09\" cy=\"86.9371\" r=\"14\" fill=\"#0000ff\" fill-rule=\"evenodd\" fill-opacity=\"1\" stroke=\"#000000\" stroke-opacity=\"1\" stroke-width=\"2.4\"/>\n",
       "<circle clip-path=\"url(#clip093)\" cx=\"3126.82\" cy=\"119.208\" r=\"14\" fill=\"#0000ff\" fill-rule=\"evenodd\" fill-opacity=\"1\" stroke=\"#000000\" stroke-opacity=\"1\" stroke-width=\"2.4\"/>\n",
       "<circle clip-path=\"url(#clip093)\" cx=\"3131.12\" cy=\"101.623\" r=\"14\" fill=\"#0000ff\" fill-rule=\"evenodd\" fill-opacity=\"1\" stroke=\"#000000\" stroke-opacity=\"1\" stroke-width=\"2.4\"/>\n",
       "<circle clip-path=\"url(#clip093)\" cx=\"1902.56\" cy=\"576.538\" r=\"14\" fill=\"#ff0000\" fill-rule=\"evenodd\" fill-opacity=\"1\" stroke=\"#000000\" stroke-opacity=\"1\" stroke-width=\"2.4\"/>\n",
       "<circle clip-path=\"url(#clip093)\" cx=\"2176.34\" cy=\"763.826\" r=\"14\" fill=\"#0000ff\" fill-rule=\"evenodd\" fill-opacity=\"1\" stroke=\"#000000\" stroke-opacity=\"1\" stroke-width=\"2.4\"/>\n",
       "<circle clip-path=\"url(#clip093)\" cx=\"2174.39\" cy=\"725.286\" r=\"14\" fill=\"#0000ff\" fill-rule=\"evenodd\" fill-opacity=\"1\" stroke=\"#000000\" stroke-opacity=\"1\" stroke-width=\"2.4\"/>\n",
       "<circle clip-path=\"url(#clip093)\" cx=\"2194.24\" cy=\"773.188\" r=\"14\" fill=\"#ff0000\" fill-rule=\"evenodd\" fill-opacity=\"1\" stroke=\"#000000\" stroke-opacity=\"1\" stroke-width=\"2.4\"/>\n",
       "<circle clip-path=\"url(#clip093)\" cx=\"2158.97\" cy=\"787.554\" r=\"14\" fill=\"#0000ff\" fill-rule=\"evenodd\" fill-opacity=\"1\" stroke=\"#000000\" stroke-opacity=\"1\" stroke-width=\"2.4\"/>\n",
       "<circle clip-path=\"url(#clip093)\" cx=\"2174.04\" cy=\"746.36\" r=\"14\" fill=\"#0000ff\" fill-rule=\"evenodd\" fill-opacity=\"1\" stroke=\"#000000\" stroke-opacity=\"1\" stroke-width=\"2.4\"/>\n",
       "<circle clip-path=\"url(#clip093)\" cx=\"2156.6\" cy=\"749.893\" r=\"14\" fill=\"#0000ff\" fill-rule=\"evenodd\" fill-opacity=\"1\" stroke=\"#000000\" stroke-opacity=\"1\" stroke-width=\"2.4\"/>\n",
       "<circle clip-path=\"url(#clip093)\" cx=\"2176.74\" cy=\"710.556\" r=\"14\" fill=\"#0000ff\" fill-rule=\"evenodd\" fill-opacity=\"1\" stroke=\"#000000\" stroke-opacity=\"1\" stroke-width=\"2.4\"/>\n",
       "<circle clip-path=\"url(#clip093)\" cx=\"2157.63\" cy=\"763.007\" r=\"14\" fill=\"#0000ff\" fill-rule=\"evenodd\" fill-opacity=\"1\" stroke=\"#000000\" stroke-opacity=\"1\" stroke-width=\"2.4\"/>\n",
       "<circle clip-path=\"url(#clip093)\" cx=\"2142.75\" cy=\"745.766\" r=\"14\" fill=\"#0000ff\" fill-rule=\"evenodd\" fill-opacity=\"1\" stroke=\"#000000\" stroke-opacity=\"1\" stroke-width=\"2.4\"/>\n",
       "<circle clip-path=\"url(#clip093)\" cx=\"2231.28\" cy=\"1005.68\" r=\"14\" fill=\"#ff0000\" fill-rule=\"evenodd\" fill-opacity=\"1\" stroke=\"#000000\" stroke-opacity=\"1\" stroke-width=\"2.4\"/>\n",
       "<circle clip-path=\"url(#clip093)\" cx=\"2239.55\" cy=\"963.749\" r=\"14\" fill=\"#ff0000\" fill-rule=\"evenodd\" fill-opacity=\"1\" stroke=\"#000000\" stroke-opacity=\"1\" stroke-width=\"2.4\"/>\n",
       "<circle clip-path=\"url(#clip093)\" cx=\"2239.39\" cy=\"988.036\" r=\"14\" fill=\"#ff0000\" fill-rule=\"evenodd\" fill-opacity=\"1\" stroke=\"#000000\" stroke-opacity=\"1\" stroke-width=\"2.4\"/>\n",
       "<circle clip-path=\"url(#clip093)\" cx=\"2212.85\" cy=\"966.562\" r=\"14\" fill=\"#ff0000\" fill-rule=\"evenodd\" fill-opacity=\"1\" stroke=\"#000000\" stroke-opacity=\"1\" stroke-width=\"2.4\"/>\n",
       "<circle clip-path=\"url(#clip093)\" cx=\"2261.82\" cy=\"1042.91\" r=\"14\" fill=\"#ff0000\" fill-rule=\"evenodd\" fill-opacity=\"1\" stroke=\"#000000\" stroke-opacity=\"1\" stroke-width=\"2.4\"/>\n",
       "<circle clip-path=\"url(#clip093)\" cx=\"2817.29\" cy=\"127.195\" r=\"14\" fill=\"#0000ff\" fill-rule=\"evenodd\" fill-opacity=\"1\" stroke=\"#000000\" stroke-opacity=\"1\" stroke-width=\"2.4\"/>\n",
       "<circle clip-path=\"url(#clip093)\" cx=\"2822.61\" cy=\"133.854\" r=\"14\" fill=\"#0000ff\" fill-rule=\"evenodd\" fill-opacity=\"1\" stroke=\"#000000\" stroke-opacity=\"1\" stroke-width=\"2.4\"/>\n",
       "<circle clip-path=\"url(#clip093)\" cx=\"3111.59\" cy=\"142.499\" r=\"14\" fill=\"#0000ff\" fill-rule=\"evenodd\" fill-opacity=\"1\" stroke=\"#000000\" stroke-opacity=\"1\" stroke-width=\"2.4\"/>\n",
       "<circle clip-path=\"url(#clip093)\" cx=\"3110.98\" cy=\"94.4801\" r=\"14\" fill=\"#0000ff\" fill-rule=\"evenodd\" fill-opacity=\"1\" stroke=\"#000000\" stroke-opacity=\"1\" stroke-width=\"2.4\"/>\n",
       "<circle clip-path=\"url(#clip093)\" cx=\"3122.65\" cy=\"156.822\" r=\"14\" fill=\"#0000ff\" fill-rule=\"evenodd\" fill-opacity=\"1\" stroke=\"#000000\" stroke-opacity=\"1\" stroke-width=\"2.4\"/>\n",
       "<path clip-path=\"url(#clip090)\" d=\"\n",
       "M3422.76 1078.48 L4272.76 1078.48 L4272.76 47.2441 L3422.76 47.2441  Z\n",
       "  \" fill=\"#ffffff\" fill-rule=\"evenodd\" fill-opacity=\"1\"/>\n",
       "<defs>\n",
       "  <clipPath id=\"clip094\">\n",
       "    <rect x=\"3422\" y=\"47\" width=\"851\" height=\"1032\"/>\n",
       "  </clipPath>\n",
       "</defs>\n",
       "<polyline clip-path=\"url(#clip094)\" style=\"stroke:#000000; stroke-linecap:butt; stroke-linejoin:round; stroke-width:2; stroke-opacity:0.1; fill:none\" points=\"\n",
       "  3422.76,1078.48 3422.76,47.2441 \n",
       "  \"/>\n",
       "<polyline clip-path=\"url(#clip094)\" style=\"stroke:#000000; stroke-linecap:butt; stroke-linejoin:round; stroke-width:2; stroke-opacity:0.1; fill:none\" points=\"\n",
       "  3592.76,1078.48 3592.76,47.2441 \n",
       "  \"/>\n",
       "<polyline clip-path=\"url(#clip094)\" style=\"stroke:#000000; stroke-linecap:butt; stroke-linejoin:round; stroke-width:2; stroke-opacity:0.1; fill:none\" points=\"\n",
       "  3762.76,1078.48 3762.76,47.2441 \n",
       "  \"/>\n",
       "<polyline clip-path=\"url(#clip094)\" style=\"stroke:#000000; stroke-linecap:butt; stroke-linejoin:round; stroke-width:2; stroke-opacity:0.1; fill:none\" points=\"\n",
       "  3932.76,1078.48 3932.76,47.2441 \n",
       "  \"/>\n",
       "<polyline clip-path=\"url(#clip094)\" style=\"stroke:#000000; stroke-linecap:butt; stroke-linejoin:round; stroke-width:2; stroke-opacity:0.1; fill:none\" points=\"\n",
       "  4102.76,1078.48 4102.76,47.2441 \n",
       "  \"/>\n",
       "<polyline clip-path=\"url(#clip094)\" style=\"stroke:#000000; stroke-linecap:butt; stroke-linejoin:round; stroke-width:2; stroke-opacity:0.1; fill:none\" points=\"\n",
       "  4272.76,1078.48 4272.76,47.2441 \n",
       "  \"/>\n",
       "<polyline clip-path=\"url(#clip090)\" style=\"stroke:#000000; stroke-linecap:butt; stroke-linejoin:round; stroke-width:4; stroke-opacity:1; fill:none\" points=\"\n",
       "  3422.76,1078.48 4272.76,1078.48 \n",
       "  \"/>\n",
       "<polyline clip-path=\"url(#clip090)\" style=\"stroke:#000000; stroke-linecap:butt; stroke-linejoin:round; stroke-width:4; stroke-opacity:1; fill:none\" points=\"\n",
       "  3422.76,1078.48 3422.76,1059.58 \n",
       "  \"/>\n",
       "<polyline clip-path=\"url(#clip090)\" style=\"stroke:#000000; stroke-linecap:butt; stroke-linejoin:round; stroke-width:4; stroke-opacity:1; fill:none\" points=\"\n",
       "  3592.76,1078.48 3592.76,1059.58 \n",
       "  \"/>\n",
       "<polyline clip-path=\"url(#clip090)\" style=\"stroke:#000000; stroke-linecap:butt; stroke-linejoin:round; stroke-width:4; stroke-opacity:1; fill:none\" points=\"\n",
       "  3762.76,1078.48 3762.76,1059.58 \n",
       "  \"/>\n",
       "<polyline clip-path=\"url(#clip090)\" style=\"stroke:#000000; stroke-linecap:butt; stroke-linejoin:round; stroke-width:4; stroke-opacity:1; fill:none\" points=\"\n",
       "  3932.76,1078.48 3932.76,1059.58 \n",
       "  \"/>\n",
       "<polyline clip-path=\"url(#clip090)\" style=\"stroke:#000000; stroke-linecap:butt; stroke-linejoin:round; stroke-width:4; stroke-opacity:1; fill:none\" points=\"\n",
       "  4102.76,1078.48 4102.76,1059.58 \n",
       "  \"/>\n",
       "<polyline clip-path=\"url(#clip090)\" style=\"stroke:#000000; stroke-linecap:butt; stroke-linejoin:round; stroke-width:4; stroke-opacity:1; fill:none\" points=\"\n",
       "  4272.76,1078.48 4272.76,1059.58 \n",
       "  \"/>\n",
       "<path clip-path=\"url(#clip090)\" d=\"M3400.15 1126.87 Q3396.53 1126.87 3394.71 1130.44 Q3392.9 1133.98 3392.9 1141.11 Q3392.9 1148.21 3394.71 1151.78 Q3396.53 1155.32 3400.15 1155.32 Q3403.78 1155.32 3405.58 1151.78 Q3407.41 1148.21 3407.41 1141.11 Q3407.41 1133.98 3405.58 1130.44 Q3403.78 1126.87 3400.15 1126.87 M3400.15 1123.17 Q3405.96 1123.17 3409.01 1127.77 Q3412.09 1132.36 3412.09 1141.11 Q3412.09 1149.83 3409.01 1154.44 Q3405.96 1159.02 3400.15 1159.02 Q3394.33 1159.02 3391.26 1154.44 Q3388.2 1149.83 3388.2 1141.11 Q3388.2 1132.36 3391.26 1127.77 Q3394.33 1123.17 3400.15 1123.17 Z\" fill=\"#000000\" fill-rule=\"evenodd\" fill-opacity=\"1\" /><path clip-path=\"url(#clip090)\" d=\"M3420.31 1152.47 L3425.19 1152.47 L3425.19 1158.35 L3420.31 1158.35 L3420.31 1152.47 Z\" fill=\"#000000\" fill-rule=\"evenodd\" fill-opacity=\"1\" /><path clip-path=\"url(#clip090)\" d=\"M3445.38 1126.87 Q3441.77 1126.87 3439.94 1130.44 Q3438.13 1133.98 3438.13 1141.11 Q3438.13 1148.21 3439.94 1151.78 Q3441.77 1155.32 3445.38 1155.32 Q3449.01 1155.32 3450.82 1151.78 Q3452.64 1148.21 3452.64 1141.11 Q3452.64 1133.98 3450.82 1130.44 Q3449.01 1126.87 3445.38 1126.87 M3445.38 1123.17 Q3451.19 1123.17 3454.24 1127.77 Q3457.32 1132.36 3457.32 1141.11 Q3457.32 1149.83 3454.24 1154.44 Q3451.19 1159.02 3445.38 1159.02 Q3439.57 1159.02 3436.49 1154.44 Q3433.43 1149.83 3433.43 1141.11 Q3433.43 1132.36 3436.49 1127.77 Q3439.57 1123.17 3445.38 1123.17 Z\" fill=\"#000000\" fill-rule=\"evenodd\" fill-opacity=\"1\" /><path clip-path=\"url(#clip090)\" d=\"M3570.64 1126.87 Q3567.03 1126.87 3565.2 1130.44 Q3563.4 1133.98 3563.4 1141.11 Q3563.4 1148.21 3565.2 1151.78 Q3567.03 1155.32 3570.64 1155.32 Q3574.28 1155.32 3576.08 1151.78 Q3577.91 1148.21 3577.91 1141.11 Q3577.91 1133.98 3576.08 1130.44 Q3574.28 1126.87 3570.64 1126.87 M3570.64 1123.17 Q3576.45 1123.17 3579.51 1127.77 Q3582.59 1132.36 3582.59 1141.11 Q3582.59 1149.83 3579.51 1154.44 Q3576.45 1159.02 3570.64 1159.02 Q3564.83 1159.02 3561.75 1154.44 Q3558.7 1149.83 3558.7 1141.11 Q3558.7 1132.36 3561.75 1127.77 Q3564.83 1123.17 3570.64 1123.17 Z\" fill=\"#000000\" fill-rule=\"evenodd\" fill-opacity=\"1\" /><path clip-path=\"url(#clip090)\" d=\"M3590.8 1152.47 L3595.69 1152.47 L3595.69 1158.35 L3590.8 1158.35 L3590.8 1152.47 Z\" fill=\"#000000\" fill-rule=\"evenodd\" fill-opacity=\"1\" /><path clip-path=\"url(#clip090)\" d=\"M3605.92 1123.79 L3624.28 1123.79 L3624.28 1127.73 L3610.2 1127.73 L3610.2 1136.2 Q3611.22 1135.85 3612.24 1135.69 Q3613.26 1135.5 3614.28 1135.5 Q3620.06 1135.5 3623.44 1138.68 Q3626.82 1141.85 3626.82 1147.26 Q3626.82 1152.84 3623.35 1155.94 Q3619.88 1159.02 3613.56 1159.02 Q3611.38 1159.02 3609.11 1158.65 Q3606.87 1158.28 3604.46 1157.54 L3604.46 1152.84 Q3606.54 1153.98 3608.77 1154.53 Q3610.99 1155.09 3613.47 1155.09 Q3617.47 1155.09 3619.81 1152.98 Q3622.15 1150.88 3622.15 1147.26 Q3622.15 1143.65 3619.81 1141.55 Q3617.47 1139.44 3613.47 1139.44 Q3611.59 1139.44 3609.72 1139.86 Q3607.86 1140.27 3605.92 1141.15 L3605.92 1123.79 Z\" fill=\"#000000\" fill-rule=\"evenodd\" fill-opacity=\"1\" /><path clip-path=\"url(#clip090)\" d=\"M3729.91 1154.42 L3737.55 1154.42 L3737.55 1128.05 L3729.24 1129.72 L3729.24 1125.46 L3737.5 1123.79 L3742.18 1123.79 L3742.18 1154.42 L3749.82 1154.42 L3749.82 1158.35 L3729.91 1158.35 L3729.91 1154.42 Z\" fill=\"#000000\" fill-rule=\"evenodd\" fill-opacity=\"1\" /><path clip-path=\"url(#clip090)\" d=\"M3759.26 1152.47 L3764.15 1152.47 L3764.15 1158.35 L3759.26 1158.35 L3759.26 1152.47 Z\" fill=\"#000000\" fill-rule=\"evenodd\" fill-opacity=\"1\" /><path clip-path=\"url(#clip090)\" d=\"M3784.33 1126.87 Q3780.72 1126.87 3778.89 1130.44 Q3777.09 1133.98 3777.09 1141.11 Q3777.09 1148.21 3778.89 1151.78 Q3780.72 1155.32 3784.33 1155.32 Q3787.97 1155.32 3789.77 1151.78 Q3791.6 1148.21 3791.6 1141.11 Q3791.6 1133.98 3789.77 1130.44 Q3787.97 1126.87 3784.33 1126.87 M3784.33 1123.17 Q3790.14 1123.17 3793.2 1127.77 Q3796.28 1132.36 3796.28 1141.11 Q3796.28 1149.83 3793.2 1154.44 Q3790.14 1159.02 3784.33 1159.02 Q3778.52 1159.02 3775.44 1154.44 Q3772.39 1149.83 3772.39 1141.11 Q3772.39 1132.36 3775.44 1127.77 Q3778.52 1123.17 3784.33 1123.17 Z\" fill=\"#000000\" fill-rule=\"evenodd\" fill-opacity=\"1\" /><path clip-path=\"url(#clip090)\" d=\"M3900.41 1154.42 L3908.05 1154.42 L3908.05 1128.05 L3899.74 1129.72 L3899.74 1125.46 L3908 1123.79 L3912.68 1123.79 L3912.68 1154.42 L3920.32 1154.42 L3920.32 1158.35 L3900.41 1158.35 L3900.41 1154.42 Z\" fill=\"#000000\" fill-rule=\"evenodd\" fill-opacity=\"1\" /><path clip-path=\"url(#clip090)\" d=\"M3929.76 1152.47 L3934.64 1152.47 L3934.64 1158.35 L3929.76 1158.35 L3929.76 1152.47 Z\" fill=\"#000000\" fill-rule=\"evenodd\" fill-opacity=\"1\" /><path clip-path=\"url(#clip090)\" d=\"M3944.88 1123.79 L3963.23 1123.79 L3963.23 1127.73 L3949.16 1127.73 L3949.16 1136.2 Q3950.18 1135.85 3951.2 1135.69 Q3952.21 1135.5 3953.23 1135.5 Q3959.02 1135.5 3962.4 1138.68 Q3965.78 1141.85 3965.78 1147.26 Q3965.78 1152.84 3962.31 1155.94 Q3958.83 1159.02 3952.51 1159.02 Q3950.34 1159.02 3948.07 1158.65 Q3945.82 1158.28 3943.42 1157.54 L3943.42 1152.84 Q3945.5 1153.98 3947.72 1154.53 Q3949.95 1155.09 3952.42 1155.09 Q3956.43 1155.09 3958.76 1152.98 Q3961.1 1150.88 3961.1 1147.26 Q3961.1 1143.65 3958.76 1141.55 Q3956.43 1139.44 3952.42 1139.44 Q3950.55 1139.44 3948.67 1139.86 Q3946.82 1140.27 3944.88 1141.15 L3944.88 1123.79 Z\" fill=\"#000000\" fill-rule=\"evenodd\" fill-opacity=\"1\" /><path clip-path=\"url(#clip090)\" d=\"M4074 1154.42 L4090.31 1154.42 L4090.31 1158.35 L4068.37 1158.35 L4068.37 1154.42 Q4071.03 1151.66 4075.62 1147.03 Q4080.22 1142.38 4081.4 1141.04 Q4083.65 1138.51 4084.53 1136.78 Q4085.43 1135.02 4085.43 1133.33 Q4085.43 1130.57 4083.49 1128.84 Q4081.56 1127.1 4078.46 1127.1 Q4076.26 1127.1 4073.81 1127.87 Q4071.38 1128.63 4068.6 1130.18 L4068.6 1125.46 Q4071.43 1124.32 4073.88 1123.75 Q4076.33 1123.17 4078.37 1123.17 Q4083.74 1123.17 4086.94 1125.85 Q4090.13 1128.54 4090.13 1133.03 Q4090.13 1135.16 4089.32 1137.08 Q4088.53 1138.98 4086.43 1141.57 Q4085.85 1142.24 4082.75 1145.46 Q4079.64 1148.65 4074 1154.42 Z\" fill=\"#000000\" fill-rule=\"evenodd\" fill-opacity=\"1\" /><path clip-path=\"url(#clip090)\" d=\"M4100.13 1152.47 L4105.01 1152.47 L4105.01 1158.35 L4100.13 1158.35 L4100.13 1152.47 Z\" fill=\"#000000\" fill-rule=\"evenodd\" fill-opacity=\"1\" /><path clip-path=\"url(#clip090)\" d=\"M4125.2 1126.87 Q4121.59 1126.87 4119.76 1130.44 Q4117.95 1133.98 4117.95 1141.11 Q4117.95 1148.21 4119.76 1151.78 Q4121.59 1155.32 4125.2 1155.32 Q4128.83 1155.32 4130.64 1151.78 Q4132.47 1148.21 4132.47 1141.11 Q4132.47 1133.98 4130.64 1130.44 Q4128.83 1126.87 4125.2 1126.87 M4125.2 1123.17 Q4131.01 1123.17 4134.06 1127.77 Q4137.14 1132.36 4137.14 1141.11 Q4137.14 1149.83 4134.06 1154.44 Q4131.01 1159.02 4125.2 1159.02 Q4119.39 1159.02 4116.31 1154.44 Q4113.25 1149.83 4113.25 1141.11 Q4113.25 1132.36 4116.31 1127.77 Q4119.39 1123.17 4125.2 1123.17 Z\" fill=\"#000000\" fill-rule=\"evenodd\" fill-opacity=\"1\" /><path clip-path=\"url(#clip090)\" d=\"M4244.49 1154.42 L4260.81 1154.42 L4260.81 1158.35 L4238.87 1158.35 L4238.87 1154.42 Q4241.53 1151.66 4246.11 1147.03 Q4250.72 1142.38 4251.9 1141.04 Q4254.14 1138.51 4255.02 1136.78 Q4255.93 1135.02 4255.93 1133.33 Q4255.93 1130.57 4253.98 1128.84 Q4252.06 1127.1 4248.96 1127.1 Q4246.76 1127.1 4244.31 1127.87 Q4241.88 1128.63 4239.1 1130.18 L4239.1 1125.46 Q4241.92 1124.32 4244.38 1123.75 Q4246.83 1123.17 4248.87 1123.17 Q4254.24 1123.17 4257.43 1125.85 Q4260.63 1128.54 4260.63 1133.03 Q4260.63 1135.16 4259.82 1137.08 Q4259.03 1138.98 4256.92 1141.57 Q4256.34 1142.24 4253.24 1145.46 Q4250.14 1148.65 4244.49 1154.42 Z\" fill=\"#000000\" fill-rule=\"evenodd\" fill-opacity=\"1\" /><path clip-path=\"url(#clip090)\" d=\"M4270.63 1152.47 L4275.51 1152.47 L4275.51 1158.35 L4270.63 1158.35 L4270.63 1152.47 Z\" fill=\"#000000\" fill-rule=\"evenodd\" fill-opacity=\"1\" /><path clip-path=\"url(#clip090)\" d=\"M4285.74 1123.79 L4304.1 1123.79 L4304.1 1127.73 L4290.02 1127.73 L4290.02 1136.2 Q4291.04 1135.85 4292.06 1135.69 Q4293.08 1135.5 4294.1 1135.5 Q4299.89 1135.5 4303.27 1138.68 Q4306.64 1141.85 4306.64 1147.26 Q4306.64 1152.84 4303.17 1155.94 Q4299.7 1159.02 4293.38 1159.02 Q4291.2 1159.02 4288.94 1158.65 Q4286.69 1158.28 4284.28 1157.54 L4284.28 1152.84 Q4286.37 1153.98 4288.59 1154.53 Q4290.81 1155.09 4293.29 1155.09 Q4297.29 1155.09 4299.63 1152.98 Q4301.97 1150.88 4301.97 1147.26 Q4301.97 1143.65 4299.63 1141.55 Q4297.29 1139.44 4293.29 1139.44 Q4291.41 1139.44 4289.54 1139.86 Q4287.69 1140.27 4285.74 1141.15 L4285.74 1123.79 Z\" fill=\"#000000\" fill-rule=\"evenodd\" fill-opacity=\"1\" /><polyline clip-path=\"url(#clip094)\" style=\"stroke:#000000; stroke-linecap:butt; stroke-linejoin:round; stroke-width:2; stroke-opacity:0.1; fill:none\" points=\"\n",
       "  3422.76,1078.48 4272.76,1078.48 \n",
       "  \"/>\n",
       "<polyline clip-path=\"url(#clip094)\" style=\"stroke:#000000; stroke-linecap:butt; stroke-linejoin:round; stroke-width:2; stroke-opacity:0.1; fill:none\" points=\"\n",
       "  3422.76,872.233 4272.76,872.233 \n",
       "  \"/>\n",
       "<polyline clip-path=\"url(#clip094)\" style=\"stroke:#000000; stroke-linecap:butt; stroke-linejoin:round; stroke-width:2; stroke-opacity:0.1; fill:none\" points=\"\n",
       "  3422.76,665.986 4272.76,665.986 \n",
       "  \"/>\n",
       "<polyline clip-path=\"url(#clip094)\" style=\"stroke:#000000; stroke-linecap:butt; stroke-linejoin:round; stroke-width:2; stroke-opacity:0.1; fill:none\" points=\"\n",
       "  3422.76,459.738 4272.76,459.738 \n",
       "  \"/>\n",
       "<polyline clip-path=\"url(#clip094)\" style=\"stroke:#000000; stroke-linecap:butt; stroke-linejoin:round; stroke-width:2; stroke-opacity:0.1; fill:none\" points=\"\n",
       "  3422.76,253.491 4272.76,253.491 \n",
       "  \"/>\n",
       "<polyline clip-path=\"url(#clip094)\" style=\"stroke:#000000; stroke-linecap:butt; stroke-linejoin:round; stroke-width:2; stroke-opacity:0.1; fill:none\" points=\"\n",
       "  3422.76,47.2441 4272.76,47.2441 \n",
       "  \"/>\n",
       "<polyline clip-path=\"url(#clip090)\" style=\"stroke:#000000; stroke-linecap:butt; stroke-linejoin:round; stroke-width:4; stroke-opacity:1; fill:none\" points=\"\n",
       "  3422.76,1078.48 3422.76,47.2441 \n",
       "  \"/>\n",
       "<polyline clip-path=\"url(#clip090)\" style=\"stroke:#000000; stroke-linecap:butt; stroke-linejoin:round; stroke-width:4; stroke-opacity:1; fill:none\" points=\"\n",
       "  3422.76,1078.48 3434.84,1078.48 \n",
       "  \"/>\n",
       "<polyline clip-path=\"url(#clip090)\" style=\"stroke:#000000; stroke-linecap:butt; stroke-linejoin:round; stroke-width:4; stroke-opacity:1; fill:none\" points=\"\n",
       "  3422.76,872.233 3434.84,872.233 \n",
       "  \"/>\n",
       "<polyline clip-path=\"url(#clip090)\" style=\"stroke:#000000; stroke-linecap:butt; stroke-linejoin:round; stroke-width:4; stroke-opacity:1; fill:none\" points=\"\n",
       "  3422.76,665.986 3434.84,665.986 \n",
       "  \"/>\n",
       "<polyline clip-path=\"url(#clip090)\" style=\"stroke:#000000; stroke-linecap:butt; stroke-linejoin:round; stroke-width:4; stroke-opacity:1; fill:none\" points=\"\n",
       "  3422.76,459.738 3434.84,459.738 \n",
       "  \"/>\n",
       "<polyline clip-path=\"url(#clip090)\" style=\"stroke:#000000; stroke-linecap:butt; stroke-linejoin:round; stroke-width:4; stroke-opacity:1; fill:none\" points=\"\n",
       "  3422.76,253.491 3434.84,253.491 \n",
       "  \"/>\n",
       "<polyline clip-path=\"url(#clip090)\" style=\"stroke:#000000; stroke-linecap:butt; stroke-linejoin:round; stroke-width:4; stroke-opacity:1; fill:none\" points=\"\n",
       "  3422.76,47.2441 3434.84,47.2441 \n",
       "  \"/>\n",
       "<path clip-path=\"url(#clip090)\" d=\"M3293.59 1064.28 Q3289.97 1064.28 3288.15 1067.84 Q3286.34 1071.38 3286.34 1078.51 Q3286.34 1085.62 3288.15 1089.19 Q3289.97 1092.73 3293.59 1092.73 Q3297.22 1092.73 3299.02 1089.19 Q3300.85 1085.62 3300.85 1078.51 Q3300.85 1071.38 3299.02 1067.84 Q3297.22 1064.28 3293.59 1064.28 M3293.59 1060.57 Q3299.4 1060.57 3302.45 1065.18 Q3305.53 1069.76 3305.53 1078.51 Q3305.53 1087.24 3302.45 1091.85 Q3299.4 1096.43 3293.59 1096.43 Q3287.77 1096.43 3284.7 1091.85 Q3281.64 1087.24 3281.64 1078.51 Q3281.64 1069.76 3284.7 1065.18 Q3287.77 1060.57 3293.59 1060.57 Z\" fill=\"#000000\" fill-rule=\"evenodd\" fill-opacity=\"1\" /><path clip-path=\"url(#clip090)\" d=\"M3313.75 1089.88 L3318.63 1089.88 L3318.63 1095.76 L3313.75 1095.76 L3313.75 1089.88 Z\" fill=\"#000000\" fill-rule=\"evenodd\" fill-opacity=\"1\" /><path clip-path=\"url(#clip090)\" d=\"M3338.82 1064.28 Q3335.21 1064.28 3333.38 1067.84 Q3331.57 1071.38 3331.57 1078.51 Q3331.57 1085.62 3333.38 1089.19 Q3335.21 1092.73 3338.82 1092.73 Q3342.45 1092.73 3344.26 1089.19 Q3346.08 1085.62 3346.08 1078.51 Q3346.08 1071.38 3344.26 1067.84 Q3342.45 1064.28 3338.82 1064.28 M3338.82 1060.57 Q3344.63 1060.57 3347.68 1065.18 Q3350.76 1069.76 3350.76 1078.51 Q3350.76 1087.24 3347.68 1091.85 Q3344.63 1096.43 3338.82 1096.43 Q3333.01 1096.43 3329.93 1091.85 Q3326.87 1087.24 3326.87 1078.51 Q3326.87 1069.76 3329.93 1065.18 Q3333.01 1060.57 3338.82 1060.57 Z\" fill=\"#000000\" fill-rule=\"evenodd\" fill-opacity=\"1\" /><path clip-path=\"url(#clip090)\" d=\"M3295.18 858.031 Q3291.57 858.031 3289.74 861.596 Q3287.94 865.138 3287.94 872.267 Q3287.94 879.374 3289.74 882.939 Q3291.57 886.48 3295.18 886.48 Q3298.82 886.48 3300.62 882.939 Q3302.45 879.374 3302.45 872.267 Q3302.45 865.138 3300.62 861.596 Q3298.82 858.031 3295.18 858.031 M3295.18 854.328 Q3300.99 854.328 3304.05 858.934 Q3307.13 863.517 3307.13 872.267 Q3307.13 880.994 3304.05 885.601 Q3300.99 890.184 3295.18 890.184 Q3289.37 890.184 3286.29 885.601 Q3283.24 880.994 3283.24 872.267 Q3283.24 863.517 3286.29 858.934 Q3289.37 854.328 3295.18 854.328 Z\" fill=\"#000000\" fill-rule=\"evenodd\" fill-opacity=\"1\" /><path clip-path=\"url(#clip090)\" d=\"M3315.34 883.633 L3320.23 883.633 L3320.23 889.513 L3315.34 889.513 L3315.34 883.633 Z\" fill=\"#000000\" fill-rule=\"evenodd\" fill-opacity=\"1\" /><path clip-path=\"url(#clip090)\" d=\"M3334.44 885.578 L3350.76 885.578 L3350.76 889.513 L3328.82 889.513 L3328.82 885.578 Q3331.48 882.823 3336.06 878.193 Q3340.67 873.541 3341.85 872.198 Q3344.09 869.675 3344.97 867.939 Q3345.88 866.179 3345.88 864.49 Q3345.88 861.735 3343.93 859.999 Q3342.01 858.263 3338.91 858.263 Q3336.71 858.263 3334.26 859.027 Q3331.83 859.791 3329.05 861.342 L3329.05 856.619 Q3331.87 855.485 3334.33 854.906 Q3336.78 854.328 3338.82 854.328 Q3344.19 854.328 3347.38 857.013 Q3350.58 859.698 3350.58 864.189 Q3350.58 866.318 3349.77 868.24 Q3348.98 870.138 3346.87 872.73 Q3346.29 873.402 3343.19 876.619 Q3340.09 879.814 3334.44 885.578 Z\" fill=\"#000000\" fill-rule=\"evenodd\" fill-opacity=\"1\" /><path clip-path=\"url(#clip090)\" d=\"M3293.1 651.784 Q3289.49 651.784 3287.66 655.349 Q3285.85 658.891 3285.85 666.02 Q3285.85 673.127 3287.66 676.692 Q3289.49 680.233 3293.1 680.233 Q3296.73 680.233 3298.54 676.692 Q3300.37 673.127 3300.37 666.02 Q3300.37 658.891 3298.54 655.349 Q3296.73 651.784 3293.1 651.784 M3293.1 648.081 Q3298.91 648.081 3301.96 652.687 Q3305.04 657.27 3305.04 666.02 Q3305.04 674.747 3301.96 679.354 Q3298.91 683.937 3293.1 683.937 Q3287.29 683.937 3284.21 679.354 Q3281.15 674.747 3281.15 666.02 Q3281.15 657.27 3284.21 652.687 Q3287.29 648.081 3293.1 648.081 Z\" fill=\"#000000\" fill-rule=\"evenodd\" fill-opacity=\"1\" /><path clip-path=\"url(#clip090)\" d=\"M3313.26 677.386 L3318.15 677.386 L3318.15 683.266 L3313.26 683.266 L3313.26 677.386 Z\" fill=\"#000000\" fill-rule=\"evenodd\" fill-opacity=\"1\" /><path clip-path=\"url(#clip090)\" d=\"M3341.18 652.78 L3329.37 671.229 L3341.18 671.229 L3341.18 652.78 M3339.95 648.706 L3345.83 648.706 L3345.83 671.229 L3350.76 671.229 L3350.76 675.117 L3345.83 675.117 L3345.83 683.266 L3341.18 683.266 L3341.18 675.117 L3325.58 675.117 L3325.58 670.604 L3339.95 648.706 Z\" fill=\"#000000\" fill-rule=\"evenodd\" fill-opacity=\"1\" /><path clip-path=\"url(#clip090)\" d=\"M3293.42 445.537 Q3289.81 445.537 3287.98 449.102 Q3286.18 452.644 3286.18 459.773 Q3286.18 466.88 3287.98 470.444 Q3289.81 473.986 3293.42 473.986 Q3297.06 473.986 3298.86 470.444 Q3300.69 466.88 3300.69 459.773 Q3300.69 452.644 3298.86 449.102 Q3297.06 445.537 3293.42 445.537 M3293.42 441.833 Q3299.23 441.833 3302.29 446.44 Q3305.37 451.023 3305.37 459.773 Q3305.37 468.5 3302.29 473.106 Q3299.23 477.69 3293.42 477.69 Q3287.61 477.69 3284.53 473.106 Q3281.48 468.5 3281.48 459.773 Q3281.48 451.023 3284.53 446.44 Q3287.61 441.833 3293.42 441.833 Z\" fill=\"#000000\" fill-rule=\"evenodd\" fill-opacity=\"1\" /><path clip-path=\"url(#clip090)\" d=\"M3313.59 471.139 L3318.47 471.139 L3318.47 477.018 L3313.59 477.018 L3313.59 471.139 Z\" fill=\"#000000\" fill-rule=\"evenodd\" fill-opacity=\"1\" /><path clip-path=\"url(#clip090)\" d=\"M3339.23 457.875 Q3336.08 457.875 3334.23 460.028 Q3332.4 462.181 3332.4 465.93 Q3332.4 469.657 3334.23 471.833 Q3336.08 473.986 3339.23 473.986 Q3342.38 473.986 3344.21 471.833 Q3346.06 469.657 3346.06 465.93 Q3346.06 462.181 3344.21 460.028 Q3342.38 457.875 3339.23 457.875 M3348.52 443.222 L3348.52 447.482 Q3346.76 446.648 3344.95 446.208 Q3343.17 445.769 3341.41 445.769 Q3336.78 445.769 3334.33 448.894 Q3331.9 452.019 3331.55 458.338 Q3332.91 456.324 3334.97 455.259 Q3337.03 454.171 3339.51 454.171 Q3344.72 454.171 3347.73 457.343 Q3350.76 460.491 3350.76 465.93 Q3350.76 471.255 3347.61 474.472 Q3344.46 477.69 3339.23 477.69 Q3333.24 477.69 3330.07 473.106 Q3326.9 468.5 3326.9 459.773 Q3326.9 451.579 3330.78 446.718 Q3334.67 441.833 3341.22 441.833 Q3342.98 441.833 3344.77 442.181 Q3346.57 442.528 3348.52 443.222 Z\" fill=\"#000000\" fill-rule=\"evenodd\" fill-opacity=\"1\" /><path clip-path=\"url(#clip090)\" d=\"M3293.68 239.29 Q3290.07 239.29 3288.24 242.855 Q3286.43 246.396 3286.43 253.526 Q3286.43 260.632 3288.24 264.197 Q3290.07 267.739 3293.68 267.739 Q3297.31 267.739 3299.12 264.197 Q3300.95 260.632 3300.95 253.526 Q3300.95 246.396 3299.12 242.855 Q3297.31 239.29 3293.68 239.29 M3293.68 235.586 Q3299.49 235.586 3302.54 240.193 Q3305.62 244.776 3305.62 253.526 Q3305.62 262.253 3302.54 266.859 Q3299.49 271.443 3293.68 271.443 Q3287.87 271.443 3284.79 266.859 Q3281.73 262.253 3281.73 253.526 Q3281.73 244.776 3284.79 240.193 Q3287.87 235.586 3293.68 235.586 Z\" fill=\"#000000\" fill-rule=\"evenodd\" fill-opacity=\"1\" /><path clip-path=\"url(#clip090)\" d=\"M3313.84 264.892 L3318.72 264.892 L3318.72 270.771 L3313.84 270.771 L3313.84 264.892 Z\" fill=\"#000000\" fill-rule=\"evenodd\" fill-opacity=\"1\" /><path clip-path=\"url(#clip090)\" d=\"M3338.91 254.359 Q3335.58 254.359 3333.65 256.142 Q3331.76 257.924 3331.76 261.049 Q3331.76 264.174 3333.65 265.956 Q3335.58 267.739 3338.91 267.739 Q3342.24 267.739 3344.16 265.956 Q3346.08 264.151 3346.08 261.049 Q3346.08 257.924 3344.16 256.142 Q3342.27 254.359 3338.91 254.359 M3334.23 252.369 Q3331.22 251.628 3329.53 249.568 Q3327.87 247.507 3327.87 244.545 Q3327.87 240.401 3330.81 237.994 Q3333.77 235.586 3338.91 235.586 Q3344.07 235.586 3347.01 237.994 Q3349.95 240.401 3349.95 244.545 Q3349.95 247.507 3348.26 249.568 Q3346.59 251.628 3343.61 252.369 Q3346.99 253.156 3348.86 255.447 Q3350.76 257.739 3350.76 261.049 Q3350.76 266.072 3347.68 268.757 Q3344.63 271.443 3338.91 271.443 Q3333.19 271.443 3330.11 268.757 Q3327.06 266.072 3327.06 261.049 Q3327.06 257.739 3328.96 255.447 Q3330.85 253.156 3334.23 252.369 M3332.52 244.984 Q3332.52 247.67 3334.19 249.174 Q3335.88 250.679 3338.91 250.679 Q3341.92 250.679 3343.61 249.174 Q3345.32 247.67 3345.32 244.984 Q3345.32 242.299 3343.61 240.795 Q3341.92 239.29 3338.91 239.29 Q3335.88 239.29 3334.19 240.795 Q3332.52 242.299 3332.52 244.984 Z\" fill=\"#000000\" fill-rule=\"evenodd\" fill-opacity=\"1\" /><path clip-path=\"url(#clip090)\" d=\"M3284.4 60.5889 L3292.03 60.5889 L3292.03 34.2233 L3283.72 35.89 L3283.72 31.6308 L3291.99 29.9641 L3296.66 29.9641 L3296.66 60.5889 L3304.3 60.5889 L3304.3 64.5241 L3284.4 64.5241 L3284.4 60.5889 Z\" fill=\"#000000\" fill-rule=\"evenodd\" fill-opacity=\"1\" /><path clip-path=\"url(#clip090)\" d=\"M3313.75 58.6445 L3318.63 58.6445 L3318.63 64.5241 L3313.75 64.5241 L3313.75 58.6445 Z\" fill=\"#000000\" fill-rule=\"evenodd\" fill-opacity=\"1\" /><path clip-path=\"url(#clip090)\" d=\"M3338.82 33.0428 Q3335.21 33.0428 3333.38 36.6076 Q3331.57 40.1492 3331.57 47.2788 Q3331.57 54.3853 3333.38 57.9501 Q3335.21 61.4917 3338.82 61.4917 Q3342.45 61.4917 3344.26 57.9501 Q3346.08 54.3853 3346.08 47.2788 Q3346.08 40.1492 3344.26 36.6076 Q3342.45 33.0428 3338.82 33.0428 M3338.82 29.3391 Q3344.63 29.3391 3347.68 33.9456 Q3350.76 38.5289 3350.76 47.2788 Q3350.76 56.0056 3347.68 60.6121 Q3344.63 65.1954 3338.82 65.1954 Q3333.01 65.1954 3329.93 60.6121 Q3326.87 56.0056 3326.87 47.2788 Q3326.87 38.5289 3329.93 33.9456 Q3333.01 29.3391 3338.82 29.3391 Z\" fill=\"#000000\" fill-rule=\"evenodd\" fill-opacity=\"1\" /><polyline clip-path=\"url(#clip094)\" style=\"stroke:#7f0080; stroke-linecap:butt; stroke-linejoin:round; stroke-width:4; stroke-opacity:1; fill:none\" points=\"\n",
       "  3557.76,1078.48 3558.76,1077.76 3568.56,1068.17 3573.11,1057.86 3574.91,1047.54 3575.53,1037.23 3575.71,1026.92 3575.75,1016.61 3575.76,1006.29 3575.76,995.981 \n",
       "  3575.76,985.669 3575.76,975.356 3575.76,965.044 3575.76,954.732 3575.76,944.419 3575.76,934.107 3575.76,923.794 3575.76,913.482 3575.76,903.17 3575.76,892.857 \n",
       "  3575.76,882.545 3575.76,872.233 3575.76,861.92 3575.76,851.608 3575.76,841.296 3575.76,830.983 3575.76,820.671 3575.76,810.359 3575.76,800.046 3575.77,789.734 \n",
       "  3575.79,779.421 3575.85,769.109 3576.03,758.797 3576.52,748.484 3577.79,738.172 3580.86,727.86 3588.05,717.547 3592.76,713.717 3600.03,707.235 3605.96,696.923 \n",
       "  3608.43,686.61 3609.37,676.298 3609.66,665.986 3609.74,655.673 3609.76,645.361 3609.76,635.048 3609.76,624.736 3609.76,614.424 3609.76,604.111 3609.76,593.799 \n",
       "  3609.76,583.487 3609.76,573.174 3609.76,562.862 3609.76,552.55 3609.76,542.237 3609.76,531.925 3609.76,521.613 3609.76,511.3 3609.76,500.988 3609.76,490.675 \n",
       "  3609.76,480.363 3609.77,470.051 3609.78,459.738 3609.83,449.426 3609.94,439.114 3610.26,428.801 3611.06,418.489 3613.01,408.177 3617.49,397.864 3626.76,388.27 \n",
       "  3627.69,387.552 3637.02,377.24 3641.14,366.927 3642.86,356.615 3643.5,346.302 3643.69,335.99 3643.75,325.678 3643.76,315.365 3643.76,305.053 3643.76,294.741 \n",
       "  3643.76,284.428 3643.76,274.116 3643.76,263.804 3643.76,253.491 3643.76,243.179 3643.76,232.867 3643.76,222.554 3643.77,212.242 3643.78,201.929 3643.81,191.617 \n",
       "  3643.9,181.305 3644.12,170.992 3644.67,160.68 3646,150.368 3648.98,140.055 3655.54,129.743 3660.76,125.094 3666.91,119.431 3673.17,109.118 3675.99,98.8059 \n",
       "  3677.16,88.4935 3677.58,78.1812 3677.72,67.8688 3677.75,57.5565 3677.76,47.2441 \n",
       "  \"/>\n",
       "<polyline clip-path=\"url(#clip094)\" style=\"stroke:#0f00f0; stroke-linecap:butt; stroke-linejoin:round; stroke-width:4; stroke-opacity:1; fill:none\" points=\"\n",
       "  3692.64,47.2441 3692.64,57.5565 3692.63,67.8688 3692.61,78.1812 3692.56,88.4935 3692.41,98.8059 3692.06,109.118 3691.28,119.431 3689.57,129.743 3685.71,140.055 \n",
       "  3676.48,150.368 3660.76,158.865 3660.35,160.68 3659.31,170.992 3658.89,181.305 3658.73,191.617 3658.67,201.929 3658.65,212.242 3658.64,222.554 3658.64,232.867 \n",
       "  3658.64,243.179 3658.64,253.491 3658.64,263.804 3658.63,274.116 3658.63,284.428 3658.63,294.741 3658.63,305.053 3658.63,315.365 3658.63,325.678 3658.63,335.99 \n",
       "  3658.6,346.302 3658.52,356.615 3658.31,366.927 3657.79,377.24 3656.63,387.552 3653.96,397.864 3647.53,408.177 3630.93,418.489 3626.76,420.589 3625.56,428.801 \n",
       "  3624.98,439.114 3624.76,449.426 3624.68,459.738 3624.65,470.051 3624.64,480.363 3624.64,490.675 3624.64,500.988 3624.64,511.3 3624.64,521.613 3624.63,531.925 \n",
       "  3624.63,542.237 3624.63,552.55 3624.63,562.862 3624.63,573.174 3624.63,583.487 3624.63,593.799 3624.63,604.111 3624.63,614.424 3624.63,624.736 3624.64,635.048 \n",
       "  3624.63,645.361 3624.63,655.673 3624.62,665.986 3624.59,676.298 3624.47,686.61 3624.16,696.923 3623.42,707.235 3621.71,717.547 3617.57,727.86 3606.86,738.172 \n",
       "  3592.76,745.303 3592.06,748.484 3591.14,758.797 3590.81,769.109 3590.7,779.421 3590.66,789.734 3590.64,800.046 3590.64,810.359 3590.64,820.671 3590.64,830.983 \n",
       "  3590.64,841.296 3590.64,851.608 3590.63,861.92 3590.63,872.233 3590.63,882.545 3590.63,892.857 3590.63,903.17 3590.63,913.482 3590.63,923.794 3590.63,934.107 \n",
       "  3590.63,944.419 3590.64,954.732 3590.64,965.044 3590.64,975.356 3590.64,985.669 3590.64,995.981 3590.64,1006.29 3590.64,1016.61 3590.63,1026.92 3590.61,1037.23 \n",
       "  3590.53,1047.54 3590.31,1057.86 3589.74,1068.17 3588.39,1078.48 \n",
       "  \"/>\n",
       "<polyline clip-path=\"url(#clip094)\" style=\"stroke:#1f00e0; stroke-linecap:butt; stroke-linejoin:round; stroke-width:4; stroke-opacity:1; fill:none\" points=\"\n",
       "  3584.01,1078.48 3586.72,1068.17 3587.85,1057.86 3588.3,1047.54 3588.46,1037.23 3588.5,1026.92 3588.51,1016.61 3588.51,1006.29 3588.51,995.981 3588.51,985.669 \n",
       "  3588.51,975.356 3588.51,965.044 3588.51,954.732 3588.51,944.419 3588.51,934.107 3588.51,923.794 3588.51,913.482 3588.51,903.17 3588.51,892.857 3588.51,882.545 \n",
       "  3588.51,872.233 3588.51,861.92 3588.51,851.608 3588.51,841.296 3588.51,830.983 3588.51,820.671 3588.51,810.359 3588.52,800.046 3588.53,789.734 3588.57,779.421 \n",
       "  3588.67,769.109 3588.98,758.797 3589.84,748.484 3592.06,738.172 3592.76,736.645 3608.35,727.86 3616.64,717.547 3620.08,707.235 3621.56,696.923 3622.18,686.61 \n",
       "  3622.41,676.298 3622.49,665.986 3622.51,655.673 3622.51,645.361 3622.51,635.048 3622.51,624.736 3622.51,614.424 3622.51,604.111 3622.51,593.799 3622.51,583.487 \n",
       "  3622.51,573.174 3622.51,562.862 3622.51,552.55 3622.51,542.237 3622.51,531.925 3622.51,521.613 3622.51,511.3 3622.51,500.988 3622.51,490.675 3622.52,480.363 \n",
       "  3622.53,470.051 3622.55,459.738 3622.63,449.426 3622.83,439.114 3623.38,428.801 3624.79,418.489 3626.76,412.285 3634.3,408.177 3647.16,397.864 3652.49,387.552 \n",
       "  3654.82,377.24 3655.85,366.927 3656.29,356.615 3656.44,346.302 3656.49,335.99 3656.51,325.678 3656.51,315.365 3656.51,305.053 3656.51,294.741 3656.51,284.428 \n",
       "  3656.51,274.116 3656.51,263.804 3656.51,253.491 3656.51,243.179 3656.51,232.867 3656.52,222.554 3656.53,212.242 3656.55,201.929 3656.6,191.617 3656.75,181.305 \n",
       "  3657.14,170.992 3658.11,160.68 3660.42,150.368 3660.76,149.606 3676.66,140.055 3684.38,129.743 3687.8,119.431 3689.36,109.118 3690.07,98.8059 3690.36,88.4935 \n",
       "  3690.47,78.1812 3690.5,67.8688 3690.51,57.5565 3690.51,47.2441 \n",
       "  \"/>\n",
       "<polyline clip-path=\"url(#clip094)\" style=\"stroke:#2f00d0; stroke-linecap:butt; stroke-linejoin:round; stroke-width:4; stroke-opacity:1; fill:none\" points=\"\n",
       "  3688.39,47.2441 3688.38,57.5565 3688.37,67.8688 3688.32,78.1812 3688.16,88.4935 3687.72,98.8059 3686.66,109.118 3684.32,119.431 3679.19,129.743 3667.61,140.055 \n",
       "  3660.76,144.17 3658.02,150.368 3655.87,160.68 3654.97,170.992 3654.61,181.305 3654.47,191.617 3654.42,201.929 3654.4,212.242 3654.39,222.554 3654.39,232.867 \n",
       "  3654.39,243.179 3654.39,253.491 3654.39,263.804 3654.38,274.116 3654.38,284.428 3654.38,294.741 3654.38,305.053 3654.38,315.365 3654.38,325.678 3654.36,335.99 \n",
       "  3654.29,346.302 3654.05,356.615 3653.4,366.927 3651.86,377.24 3648.36,387.552 3640.36,397.864 3626.76,406.35 3625.67,408.177 3622.5,418.489 3621.19,428.801 \n",
       "  3620.68,439.114 3620.49,449.426 3620.42,459.738 3620.4,470.051 3620.39,480.363 3620.39,490.675 3620.39,500.988 3620.39,511.3 3620.39,521.613 3620.38,531.925 \n",
       "  3620.38,542.237 3620.38,552.55 3620.38,562.862 3620.38,573.174 3620.38,583.487 3620.38,593.799 3620.38,604.111 3620.38,614.424 3620.38,624.736 3620.38,635.048 \n",
       "  3620.38,645.361 3620.38,655.673 3620.35,665.986 3620.24,676.298 3619.89,686.61 3618.96,696.923 3616.74,707.235 3611.58,717.547 3599.13,727.86 3592.76,731.45 \n",
       "  3589.68,738.172 3587.62,748.484 3586.82,758.797 3586.54,769.109 3586.44,779.421 3586.4,789.734 3586.39,800.046 3586.39,810.359 3586.39,820.671 3586.39,830.983 \n",
       "  3586.39,841.296 3586.39,851.608 3586.38,861.92 3586.38,872.233 3586.38,882.545 3586.38,892.857 3586.38,903.17 3586.38,913.482 3586.38,923.794 3586.38,934.107 \n",
       "  3586.38,944.419 3586.39,954.732 3586.39,965.044 3586.39,975.356 3586.39,985.669 3586.39,995.981 3586.39,1006.29 3586.38,1016.61 3586.37,1026.92 3586.3,1037.23 \n",
       "  3586.07,1047.54 3585.4,1057.86 3583.69,1068.17 3579.62,1078.48 \n",
       "  \"/>\n",
       "<polyline clip-path=\"url(#clip094)\" style=\"stroke:#3f00c0; stroke-linecap:butt; stroke-linejoin:round; stroke-width:4; stroke-opacity:1; fill:none\" points=\"\n",
       "  3575.24,1078.48 3580.66,1068.17 3582.94,1057.86 3583.84,1047.54 3584.15,1037.23 3584.24,1026.92 3584.26,1016.61 3584.26,1006.29 3584.26,995.981 3584.26,985.669 \n",
       "  3584.26,975.356 3584.26,965.044 3584.26,954.732 3584.26,944.419 3584.26,934.107 3584.26,923.794 3584.26,913.482 3584.26,903.17 3584.26,892.857 3584.26,882.545 \n",
       "  3584.26,872.233 3584.26,861.92 3584.26,851.608 3584.26,841.296 3584.26,830.983 3584.26,820.671 3584.26,810.359 3584.27,800.046 3584.28,789.734 3584.31,779.421 \n",
       "  3584.4,769.109 3584.67,758.797 3585.4,748.484 3587.3,738.172 3591.91,727.86 3592.76,726.807 3606.51,717.547 3613.4,707.235 3616.36,696.923 3617.6,686.61 \n",
       "  3618.06,676.298 3618.21,665.986 3618.25,655.673 3618.26,645.361 3618.26,635.048 3618.26,624.736 3618.26,614.424 3618.26,604.111 3618.26,593.799 3618.26,583.487 \n",
       "  3618.26,573.174 3618.26,562.862 3618.26,552.55 3618.26,542.237 3618.26,531.925 3618.26,521.613 3618.26,511.3 3618.26,500.988 3618.26,490.675 3618.27,480.363 \n",
       "  3618.27,470.051 3618.3,459.738 3618.36,449.426 3618.53,439.114 3619,428.801 3620.22,418.489 3623.14,408.177 3626.76,402.108 3633.56,397.864 3644.22,387.552 \n",
       "  3648.89,377.24 3650.95,366.927 3651.81,356.615 3652.13,346.302 3652.23,335.99 3652.25,325.678 3652.26,315.365 3652.26,305.053 3652.26,294.741 3652.26,284.428 \n",
       "  3652.26,274.116 3652.26,263.804 3652.26,253.491 3652.26,243.179 3652.26,232.867 3652.27,222.554 3652.27,212.242 3652.29,201.929 3652.34,191.617 3652.47,181.305 \n",
       "  3652.8,170.992 3653.63,160.68 3655.61,150.368 3660.08,140.055 3660.76,139.158 3674,129.743 3680.83,119.431 3683.96,109.118 3685.37,98.8059 3685.96,88.4935 \n",
       "  3686.17,78.1812 3686.24,67.8688 3686.26,57.5565 3686.26,47.2441 \n",
       "  \"/>\n",
       "<polyline clip-path=\"url(#clip094)\" style=\"stroke:#4f00b0; stroke-linecap:butt; stroke-linejoin:round; stroke-width:4; stroke-opacity:1; fill:none\" points=\"\n",
       "  3684.14,47.2441 3684.13,57.5565 3684.11,67.8688 3684.03,78.1812 3683.76,88.4935 3683.03,98.8059 3681.27,109.118 3677.35,119.431 3668.81,129.743 3660.76,135.466 \n",
       "  3657.31,140.055 3653.21,150.368 3651.39,160.68 3650.63,170.992 3650.32,181.305 3650.21,191.617 3650.16,201.929 3650.15,212.242 3650.14,222.554 3650.14,232.867 \n",
       "  3650.14,243.179 3650.14,253.491 3650.14,263.804 3650.13,274.116 3650.13,284.428 3650.13,294.741 3650.13,305.053 3650.13,315.365 3650.13,325.678 3650.09,335.99 \n",
       "  3649.97,346.302 3649.57,356.615 3648.5,366.927 3645.92,377.24 3640.09,387.552 3626.76,397.864 3626.76,397.865 3620.61,408.177 3617.93,418.489 3616.82,428.801 \n",
       "  3616.38,439.114 3616.23,449.426 3616.17,459.738 3616.15,470.051 3616.14,480.363 3616.14,490.675 3616.14,500.988 3616.14,511.3 3616.14,521.613 3616.13,531.925 \n",
       "  3616.13,542.237 3616.13,552.55 3616.13,562.862 3616.13,573.174 3616.13,583.487 3616.13,593.799 3616.13,604.111 3616.13,614.424 3616.13,624.736 3616.13,635.048 \n",
       "  3616.13,645.361 3616.12,655.673 3616.07,665.986 3615.89,676.298 3615.31,686.61 3613.76,696.923 3610.05,707.235 3601.45,717.547 3592.76,723.396 3589.14,727.86 \n",
       "  3584.92,738.172 3583.18,748.484 3582.51,758.797 3582.26,769.109 3582.18,779.421 3582.15,789.734 3582.14,800.046 3582.14,810.359 3582.14,820.671 3582.14,830.983 \n",
       "  3582.14,841.296 3582.14,851.608 3582.13,861.92 3582.13,872.233 3582.13,882.545 3582.13,892.857 3582.13,903.17 3582.13,913.482 3582.13,923.794 3582.13,934.107 \n",
       "  3582.13,944.419 3582.14,954.732 3582.14,965.044 3582.14,975.356 3582.14,985.669 3582.14,995.981 3582.13,1006.29 3582.13,1016.61 3582.1,1026.92 3581.99,1037.23 \n",
       "  3581.61,1047.54 3580.48,1057.86 3577.64,1068.17 3570.85,1078.48 \n",
       "  \"/>\n",
       "<polyline clip-path=\"url(#clip094)\" style=\"stroke:#5f00a0; stroke-linecap:butt; stroke-linejoin:round; stroke-width:4; stroke-opacity:1; fill:none\" points=\"\n",
       "  3566.47,1078.48 3574.61,1068.17 3578.03,1057.86 3579.38,1047.54 3579.84,1037.23 3579.97,1026.92 3580,1016.61 3580.01,1006.29 3580.01,995.981 3580.01,985.669 \n",
       "  3580.01,975.356 3580.01,965.044 3580.01,954.732 3580.01,944.419 3580.01,934.107 3580.01,923.794 3580.01,913.482 3580.01,903.17 3580.01,892.857 3580.01,882.545 \n",
       "  3580.01,872.233 3580.01,861.92 3580.01,851.608 3580.01,841.296 3580.01,830.983 3580.01,820.671 3580.01,810.359 3580.02,800.046 3580.03,789.734 3580.05,779.421 \n",
       "  3580.13,769.109 3580.35,758.797 3580.96,748.484 3582.55,738.172 3586.38,727.86 3592.76,719.986 3596.38,717.547 3606.71,707.235 3611.16,696.923 3613.02,686.61 \n",
       "  3613.71,676.298 3613.94,665.986 3613.99,655.673 3614.01,645.361 3614.01,635.048 3614.01,624.736 3614.01,614.424 3614.01,604.111 3614.01,593.799 3614.01,583.487 \n",
       "  3614.01,573.174 3614.01,562.862 3614.01,552.55 3614.01,542.237 3614.01,531.925 3614.01,521.613 3614.01,511.3 3614.01,500.988 3614.01,490.675 3614.01,480.363 \n",
       "  3614.02,470.051 3614.04,459.738 3614.09,449.426 3614.24,439.114 3614.63,428.801 3615.64,418.489 3618.08,408.177 3623.67,397.864 3626.76,394.666 3635.96,387.552 \n",
       "  3642.95,377.24 3646.04,366.927 3647.34,356.615 3647.81,346.302 3647.96,335.99 3648,325.678 3648.01,315.365 3648.01,305.053 3648.01,294.741 3648.01,284.428 \n",
       "  3648.01,274.116 3648.01,263.804 3648.01,253.491 3648.01,243.179 3648.01,232.867 3648.01,222.554 3648.02,212.242 3648.04,201.929 3648.08,191.617 3648.18,181.305 \n",
       "  3648.46,170.992 3649.15,160.68 3650.8,150.368 3654.53,140.055 3660.76,131.774 3663.61,129.743 3673.87,119.431 3678.57,109.118 3680.68,98.8059 3681.56,88.4935 \n",
       "  3681.88,78.1812 3681.98,67.8688 3682,57.5565 3682.01,47.2441 \n",
       "  \"/>\n",
       "<polyline clip-path=\"url(#clip094)\" style=\"stroke:#6f0090; stroke-linecap:butt; stroke-linejoin:round; stroke-width:4; stroke-opacity:1; fill:none\" points=\"\n",
       "  3679.88,47.2441 3679.88,57.5565 3679.85,67.8688 3679.73,78.1812 3679.36,88.4935 3678.33,98.8059 3675.87,109.118 3670.39,119.431 3660.76,128.3 3659.14,129.743 \n",
       "  3651.75,140.055 3648.4,150.368 3646.91,160.68 3646.29,170.992 3646.04,181.305 3645.94,191.617 3645.91,201.929 3645.89,212.242 3645.89,222.554 3645.89,232.867 \n",
       "  3645.89,243.179 3645.89,253.491 3645.88,263.804 3645.88,274.116 3645.88,284.428 3645.88,294.741 3645.88,305.053 3645.88,315.365 3645.87,325.678 3645.83,335.99 \n",
       "  3645.65,346.302 3645.1,356.615 3643.59,366.927 3639.98,377.24 3631.82,387.552 3626.76,391.468 3620.58,397.864 3615.54,408.177 3613.35,418.489 3612.44,428.801 \n",
       "  3612.09,439.114 3611.96,449.426 3611.91,459.738 3611.9,470.051 3611.89,480.363 3611.89,490.675 3611.89,500.988 3611.89,511.3 3611.89,521.613 3611.88,531.925 \n",
       "  3611.88,542.237 3611.88,552.55 3611.88,562.862 3611.88,573.174 3611.88,583.487 3611.88,593.799 3611.88,604.111 3611.88,614.424 3611.88,624.736 3611.88,635.048 \n",
       "  3611.88,645.361 3611.87,655.673 3611.8,665.986 3611.54,676.298 3610.73,686.61 3608.56,696.923 3603.37,707.235 3592.76,716.698 3591.72,717.547 3583.62,727.86 \n",
       "  3580.17,738.172 3578.74,748.484 3578.19,758.797 3577.99,769.109 3577.92,779.421 3577.9,789.734 3577.89,800.046 3577.89,810.359 3577.89,820.671 3577.89,830.983 \n",
       "  3577.89,841.296 3577.89,851.608 3577.88,861.92 3577.88,872.233 3577.88,882.545 3577.88,892.857 3577.88,903.17 3577.88,913.482 3577.88,923.794 3577.88,934.107 \n",
       "  3577.88,944.419 3577.89,954.732 3577.89,965.044 3577.89,975.356 3577.89,985.669 3577.89,995.981 3577.88,1006.29 3577.88,1016.61 3577.84,1026.92 3577.69,1037.23 \n",
       "  3577.14,1047.54 3575.57,1057.86 3571.59,1068.17 3562.09,1078.48 \n",
       "  \"/>\n",
       "<polyline clip-path=\"url(#clip094)\" style=\"stroke:#8f0070; stroke-linecap:butt; stroke-linejoin:round; stroke-width:4; stroke-opacity:1; fill:none\" points=\"\n",
       "  3553.64,1078.48 3558.76,1074.8 3565.53,1068.17 3570.65,1057.86 3572.68,1047.54 3573.38,1037.23 3573.58,1026.92 3573.62,1016.61 3573.63,1006.29 3573.63,995.981 \n",
       "  3573.64,985.669 3573.64,975.356 3573.64,965.044 3573.64,954.732 3573.63,944.419 3573.63,934.107 3573.63,923.794 3573.63,913.482 3573.63,903.17 3573.63,892.857 \n",
       "  3573.63,882.545 3573.63,872.233 3573.63,861.92 3573.64,851.608 3573.64,841.296 3573.64,830.983 3573.64,820.671 3573.64,810.359 3573.64,800.046 3573.65,789.734 \n",
       "  3573.66,779.421 3573.72,769.109 3573.87,758.797 3574.3,748.484 3575.41,738.172 3578.1,727.86 3584.39,717.547 3592.76,710.736 3596.69,707.235 3603.36,696.923 \n",
       "  3606.14,686.61 3607.19,676.298 3607.52,665.986 3607.61,655.673 3607.63,645.361 3607.63,635.048 3607.63,624.736 3607.63,614.424 3607.63,604.111 3607.63,593.799 \n",
       "  3607.63,583.487 3607.63,573.174 3607.63,562.862 3607.63,552.55 3607.63,542.237 3607.63,531.925 3607.63,521.613 3607.64,511.3 3607.64,500.988 3607.64,490.675 \n",
       "  3607.64,480.363 3607.64,470.051 3607.66,459.738 3607.69,449.426 3607.79,439.114 3608.07,428.801 3608.78,418.489 3610.48,408.177 3614.4,397.864 3623.37,387.552 \n",
       "  3626.76,385.076 3634.05,377.24 3638.69,366.927 3640.62,356.615 3641.34,346.302 3641.56,335.99 3641.62,325.678 3641.63,315.365 3641.63,305.053 3641.63,294.741 \n",
       "  3641.63,284.428 3641.63,274.116 3641.63,263.804 3641.64,253.491 3641.64,243.179 3641.64,232.867 3641.64,222.554 3641.64,212.242 3641.65,201.929 3641.68,191.617 \n",
       "  3641.75,181.305 3641.95,170.992 3642.43,160.68 3643.59,150.368 3646.2,140.055 3651.94,129.743 3660.76,121.887 3663.43,119.431 3670.47,109.118 3673.64,98.8059 \n",
       "  3674.96,88.4935 3675.44,78.1812 3675.59,67.8688 3675.62,57.5565 3675.63,47.2441 \n",
       "  \"/>\n",
       "<polyline clip-path=\"url(#clip094)\" style=\"stroke:#9f0060; stroke-linecap:butt; stroke-linejoin:round; stroke-width:4; stroke-opacity:1; fill:none\" points=\"\n",
       "  3673.51,47.2441 3673.5,57.5565 3673.45,67.8688 3673.29,78.1812 3672.76,88.4935 3671.29,98.8059 3667.77,109.118 3660.76,118.579 3659.48,119.431 3648.35,129.743 \n",
       "  3643.42,140.055 3641.19,150.368 3640.19,160.68 3639.78,170.992 3639.61,181.305 3639.55,191.617 3639.53,201.929 3639.52,212.242 3639.51,222.554 3639.51,232.867 \n",
       "  3639.51,243.179 3639.51,253.491 3639.51,263.804 3639.51,274.116 3639.51,284.428 3639.51,294.741 3639.51,305.053 3639.51,315.365 3639.49,325.678 3639.43,335.99 \n",
       "  3639.18,346.302 3638.39,356.615 3636.23,366.927 3631.08,377.24 3626.76,381.885 3619,387.552 3611.31,397.864 3607.95,408.177 3606.49,418.489 3605.88,428.801 \n",
       "  3605.65,439.114 3605.56,449.426 3605.53,459.738 3605.52,470.051 3605.51,480.363 3605.51,490.675 3605.51,500.988 3605.51,511.3 3605.51,521.613 3605.51,531.925 \n",
       "  3605.51,542.237 3605.51,552.55 3605.51,562.862 3605.51,573.174 3605.51,583.487 3605.51,593.799 3605.51,604.111 3605.51,614.424 3605.51,624.736 3605.51,635.048 \n",
       "  3605.5,645.361 3605.48,655.673 3605.39,665.986 3605.02,676.298 3603.85,686.61 3600.75,696.923 3593.34,707.235 3592.76,707.755 3580.73,717.547 3575.33,727.86 \n",
       "  3573.03,738.172 3572.08,748.484 3571.71,758.797 3571.58,769.109 3571.53,779.421 3571.52,789.734 3571.51,800.046 3571.51,810.359 3571.51,820.671 3571.51,830.983 \n",
       "  3571.51,841.296 3571.51,851.608 3571.51,861.92 3571.51,872.233 3571.51,882.545 3571.51,892.857 3571.51,903.17 3571.51,913.482 3571.51,923.794 3571.51,934.107 \n",
       "  3571.51,944.419 3571.51,954.732 3571.51,965.044 3571.51,975.356 3571.51,985.669 3571.51,995.981 3571.51,1006.29 3571.5,1016.61 3571.45,1026.92 3571.23,1037.23 \n",
       "  3570.45,1047.54 3568.2,1057.86 3562.51,1068.17 3558.76,1071.84 3549.51,1078.48 \n",
       "  \"/>\n",
       "<polyline clip-path=\"url(#clip094)\" style=\"stroke:#af0050; stroke-linecap:butt; stroke-linejoin:round; stroke-width:4; stroke-opacity:1; fill:none\" points=\"\n",
       "  3545.39,1078.48 3558.76,1068.87 3559.48,1068.17 3565.74,1057.86 3568.22,1047.54 3569.07,1037.23 3569.31,1026.92 3569.37,1016.61 3569.38,1006.29 3569.38,995.981 \n",
       "  3569.39,985.669 3569.39,975.356 3569.39,965.044 3569.39,954.732 3569.38,944.419 3569.38,934.107 3569.38,923.794 3569.38,913.482 3569.38,903.17 3569.38,892.857 \n",
       "  3569.38,882.545 3569.38,872.233 3569.38,861.92 3569.39,851.608 3569.39,841.296 3569.39,830.983 3569.39,820.671 3569.39,810.359 3569.39,800.046 3569.39,789.734 \n",
       "  3569.41,779.421 3569.44,769.109 3569.55,758.797 3569.86,748.484 3570.65,738.172 3572.57,727.86 3577.07,717.547 3587.94,707.235 3592.76,704.299 3598.15,696.923 \n",
       "  3601.56,686.61 3602.84,676.298 3603.25,665.986 3603.36,655.673 3603.38,645.361 3603.38,635.048 3603.38,624.736 3603.38,614.424 3603.38,604.111 3603.38,593.799 \n",
       "  3603.38,583.487 3603.38,573.174 3603.38,562.862 3603.38,552.55 3603.38,542.237 3603.38,531.925 3603.38,521.613 3603.39,511.3 3603.39,500.988 3603.39,490.675 \n",
       "  3603.39,480.363 3603.39,470.051 3603.4,459.738 3603.43,449.426 3603.5,439.114 3603.69,428.801 3604.2,418.489 3605.42,408.177 3608.21,397.864 3614.62,387.552 \n",
       "  3626.76,378.693 3628.11,377.24 3633.78,366.927 3636.15,356.615 3637.02,346.302 3637.29,335.99 3637.37,325.678 3637.38,315.365 3637.38,305.053 3637.38,294.741 \n",
       "  3637.38,284.428 3637.38,274.116 3637.38,263.804 3637.38,253.491 3637.39,243.179 3637.39,232.867 3637.39,222.554 3637.39,212.242 3637.4,201.929 3637.42,191.617 \n",
       "  3637.47,181.305 3637.61,170.992 3637.96,160.68 3638.78,150.368 3640.64,140.055 3644.75,129.743 3654.03,119.431 3660.76,114.937 3665.07,109.118 3668.95,98.8059 \n",
       "  3670.56,88.4935 3671.14,78.1812 3671.32,67.8688 3671.37,57.5565 3671.38,47.2441 \n",
       "  \"/>\n",
       "<polyline clip-path=\"url(#clip094)\" style=\"stroke:#bf0040; stroke-linecap:butt; stroke-linejoin:round; stroke-width:4; stroke-opacity:1; fill:none\" points=\"\n",
       "  3669.26,47.2441 3669.25,57.5565 3669.19,67.8688 3669,78.1812 3668.36,88.4935 3666.6,98.8059 3662.37,109.118 3660.76,111.295 3648.58,119.431 3641.15,129.743 \n",
       "  3637.87,140.055 3636.38,150.368 3635.72,160.68 3635.44,170.992 3635.33,181.305 3635.29,191.617 3635.27,201.929 3635.26,212.242 3635.26,222.554 3635.26,232.867 \n",
       "  3635.26,243.179 3635.26,253.491 3635.26,263.804 3635.26,274.116 3635.26,284.428 3635.26,294.741 3635.26,305.053 3635.26,315.365 3635.24,325.678 3635.16,335.99 \n",
       "  3634.87,346.302 3633.91,356.615 3631.33,366.927 3626.76,374.907 3622.69,377.24 3610.25,387.552 3605.12,397.864 3602.89,408.177 3601.91,418.489 3601.51,428.801 \n",
       "  3601.35,439.114 3601.29,449.426 3601.27,459.738 3601.26,470.051 3601.26,480.363 3601.26,490.675 3601.26,500.988 3601.26,511.3 3601.26,521.613 3601.26,531.925 \n",
       "  3601.26,542.237 3601.26,552.55 3601.26,562.862 3601.26,573.174 3601.26,583.487 3601.26,593.799 3601.26,604.111 3601.26,614.424 3601.26,624.736 3601.26,635.048 \n",
       "  3601.25,645.361 3601.23,655.673 3601.11,665.986 3600.67,676.298 3599.27,686.61 3595.55,696.923 3592.76,700.742 3582.11,707.235 3573.41,717.547 3569.81,727.86 \n",
       "  3568.27,738.172 3567.64,748.484 3567.4,758.797 3567.31,769.109 3567.28,779.421 3567.27,789.734 3567.26,800.046 3567.26,810.359 3567.26,820.671 3567.26,830.983 \n",
       "  3567.26,841.296 3567.26,851.608 3567.26,861.92 3567.26,872.233 3567.26,882.545 3567.26,892.857 3567.26,903.17 3567.26,913.482 3567.26,923.794 3567.26,934.107 \n",
       "  3567.26,944.419 3567.26,954.732 3567.26,965.044 3567.26,975.356 3567.26,985.669 3567.26,995.981 3567.26,1006.29 3567.25,1016.61 3567.18,1026.92 3566.92,1037.23 \n",
       "  3565.99,1047.54 3563.28,1057.86 3558.76,1065.15 3553.32,1068.17 3541.26,1078.48 \n",
       "  \"/>\n",
       "<polyline clip-path=\"url(#clip094)\" style=\"stroke:#cf0030; stroke-linecap:butt; stroke-linejoin:round; stroke-width:4; stroke-opacity:1; fill:none\" points=\"\n",
       "  3537.14,1078.48 3546.18,1068.17 3558.76,1061.19 3560.83,1057.86 3563.76,1047.54 3564.76,1037.23 3565.05,1026.92 3565.12,1016.61 3565.13,1006.29 3565.13,995.981 \n",
       "  3565.14,985.669 3565.14,975.356 3565.14,965.044 3565.13,954.732 3565.13,944.419 3565.13,934.107 3565.13,923.794 3565.13,913.482 3565.13,903.17 3565.13,892.857 \n",
       "  3565.13,882.545 3565.13,872.233 3565.13,861.92 3565.13,851.608 3565.14,841.296 3565.14,830.983 3565.14,820.671 3565.14,810.359 3565.14,800.046 3565.14,789.734 \n",
       "  3565.15,779.421 3565.17,769.109 3565.24,758.797 3565.42,748.484 3565.9,738.172 3567.05,727.86 3569.75,717.547 3576.27,707.235 3592.76,697.185 3592.95,696.923 \n",
       "  3596.98,686.61 3598.49,676.298 3598.97,665.986 3599.1,655.673 3599.13,645.361 3599.13,635.048 3599.13,624.736 3599.13,614.424 3599.13,604.111 3599.13,593.799 \n",
       "  3599.13,583.487 3599.13,573.174 3599.13,562.862 3599.13,552.55 3599.13,542.237 3599.13,531.925 3599.13,521.613 3599.13,511.3 3599.14,500.988 3599.14,490.675 \n",
       "  3599.14,480.363 3599.14,470.051 3599.14,459.738 3599.16,449.426 3599.2,439.114 3599.32,428.801 3599.62,418.489 3600.35,408.177 3602.03,397.864 3605.88,387.552 \n",
       "  3615.2,377.24 3626.76,370.623 3628.88,366.927 3631.68,356.615 3632.71,346.302 3633.03,335.99 3633.11,325.678 3633.13,315.365 3633.13,305.053 3633.13,294.741 \n",
       "  3633.13,284.428 3633.13,274.116 3633.13,263.804 3633.13,253.491 3633.13,243.179 3633.14,232.867 3633.14,222.554 3633.14,212.242 3633.14,201.929 3633.15,191.617 \n",
       "  3633.19,181.305 3633.27,170.992 3633.48,160.68 3633.97,150.368 3635.09,140.055 3637.55,129.743 3643.12,119.431 3656.74,109.118 3660.76,106.926 3664.25,98.8059 \n",
       "  3666.16,88.4935 3666.85,78.1812 3667.06,67.8688 3667.12,57.5565 3667.13,47.2441 \n",
       "  \"/>\n",
       "<polyline clip-path=\"url(#clip094)\" style=\"stroke:#df0020; stroke-linecap:butt; stroke-linejoin:round; stroke-width:4; stroke-opacity:1; fill:none\" points=\"\n",
       "  3665.01,47.2441 3664.99,57.5565 3664.93,67.8688 3664.7,78.1812 3663.96,88.4935 3661.91,98.8059 3660.76,101.475 3646.75,109.118 3637.67,119.431 3633.96,129.743 \n",
       "  3632.31,140.055 3631.57,150.368 3631.24,160.68 3631.1,170.992 3631.04,181.305 3631.02,191.617 3631.01,201.929 3631.01,212.242 3631.01,222.554 3631.01,232.867 \n",
       "  3631.01,243.179 3631.01,253.491 3631.01,263.804 3631.01,274.116 3631.01,284.428 3631.01,294.741 3631.01,305.053 3631,315.365 3630.98,325.678 3630.89,335.99 \n",
       "  3630.55,346.302 3629.44,356.615 3626.76,365.868 3624.58,366.927 3607.72,377.24 3601.51,387.552 3598.94,397.864 3597.82,408.177 3597.34,418.489 3597.13,428.801 \n",
       "  3597.06,439.114 3597.03,449.426 3597.02,459.738 3597.01,470.051 3597.01,480.363 3597.01,490.675 3597.01,500.988 3597.01,511.3 3597.01,521.613 3597.01,531.925 \n",
       "  3597.01,542.237 3597.01,552.55 3597.01,562.862 3597.01,573.174 3597.01,583.487 3597.01,593.799 3597.01,604.111 3597.01,614.424 3597.01,624.736 3597.01,635.048 \n",
       "  3597,645.361 3596.97,655.673 3596.84,665.986 3596.32,676.298 3594.69,686.61 3592.76,691.522 3582,696.923 3570.43,707.235 3566.08,717.547 3564.28,727.86 \n",
       "  3563.52,738.172 3563.2,748.484 3563.08,758.797 3563.03,769.109 3563.02,779.421 3563.01,789.734 3563.01,800.046 3563.01,810.359 3563.01,820.671 3563.01,830.983 \n",
       "  3563.01,841.296 3563.01,851.608 3563.01,861.92 3563.01,872.233 3563.01,882.545 3563.01,892.857 3563.01,903.17 3563.01,913.482 3563.01,923.794 3563.01,934.107 \n",
       "  3563.01,944.419 3563.01,954.732 3563.01,965.044 3563.01,975.356 3563.01,985.669 3563.01,995.981 3563.01,1006.29 3562.99,1016.61 3562.92,1026.92 3562.61,1037.23 \n",
       "  3561.53,1047.54 3558.76,1056.69 3556.27,1057.86 3539.04,1068.17 3533.01,1078.48 \n",
       "  \"/>\n",
       "<polyline clip-path=\"url(#clip094)\" style=\"stroke:#ef0010; stroke-linecap:butt; stroke-linejoin:round; stroke-width:4; stroke-opacity:1; fill:none\" points=\"\n",
       "  3528.89,1078.48 3531.9,1068.17 3540.51,1057.86 3558.76,1049.31 3559.29,1047.54 3560.46,1037.23 3560.79,1026.92 3560.87,1016.61 3560.88,1006.29 3560.88,995.981 \n",
       "  3560.88,985.669 3560.88,975.356 3560.88,965.044 3560.88,954.732 3560.88,944.419 3560.88,934.107 3560.88,923.794 3560.88,913.482 3560.88,903.17 3560.88,892.857 \n",
       "  3560.88,882.545 3560.88,872.233 3560.88,861.92 3560.88,851.608 3560.89,841.296 3560.89,830.983 3560.89,820.671 3560.89,810.359 3560.89,800.046 3560.89,789.734 \n",
       "  3560.89,779.421 3560.9,769.109 3560.92,758.797 3560.98,748.484 3561.14,738.172 3561.52,727.86 3562.42,717.547 3564.6,707.235 3570.38,696.923 3588.13,686.61 \n",
       "  3592.76,684.566 3594.15,676.298 3594.7,665.986 3594.85,655.673 3594.88,645.361 3594.88,635.048 3594.88,624.736 3594.88,614.424 3594.88,604.111 3594.88,593.799 \n",
       "  3594.88,583.487 3594.88,573.174 3594.88,562.862 3594.88,552.55 3594.88,542.237 3594.88,531.925 3594.88,521.613 3594.88,511.3 3594.88,500.988 3594.89,490.675 \n",
       "  3594.89,480.363 3594.89,470.051 3594.89,459.738 3594.89,449.426 3594.91,439.114 3594.95,428.801 3595.05,418.489 3595.29,408.177 3595.85,397.864 3597.13,387.552 \n",
       "  3600.24,377.24 3608.67,366.927 3626.76,358.139 3627.2,356.615 3628.39,346.302 3628.76,335.99 3628.86,325.678 3628.88,315.365 3628.88,305.053 3628.88,294.741 \n",
       "  3628.88,284.428 3628.88,274.116 3628.88,263.804 3628.88,253.491 3628.88,243.179 3628.88,232.867 3628.89,222.554 3628.89,212.242 3628.89,201.929 3628.89,191.617 \n",
       "  3628.9,181.305 3628.93,170.992 3629,160.68 3629.16,150.368 3629.54,140.055 3630.36,129.743 3632.21,119.431 3636.75,109.118 3649.27,98.8059 3660.76,93.3497 \n",
       "  3661.76,88.4935 3662.56,78.1812 3662.8,67.8688 3662.87,57.5565 3662.88,47.2441 \n",
       "  \"/>\n",
       "<polyline clip-path=\"url(#clip094)\" style=\"stroke:#0f00f0; stroke-linecap:butt; stroke-linejoin:round; stroke-width:4; stroke-opacity:1; fill:none\" points=\"\n",
       "  4214.64,47.2441 4216.16,57.5565 4217.75,67.8688 4219.4,78.1812 4221.11,88.4935 4222.89,98.8059 4224.74,109.118 4226.65,119.431 4228.63,129.743 4230.68,140.055 \n",
       "  4232.8,150.368 4234.99,160.68 4237.25,170.992 4238.76,177.761 4239.09,181.305 4240.06,191.617 4241.06,201.929 4242.08,212.242 4243.12,222.554 4244.18,232.867 \n",
       "  4245.27,243.179 4246.38,253.491 4247.51,263.804 4248.66,274.116 4249.83,284.428 4251.02,294.741 4252.23,305.053 4253.46,315.365 4254.69,325.678 4255.94,335.99 \n",
       "  4257.2,346.302 4258.46,356.615 4259.72,366.927 4260.98,377.24 4262.24,387.552 4263.48,397.864 4264.7,408.177 4265.9,418.489 4267.08,428.801 4268.22,439.114 \n",
       "  4269.32,449.426 4270.37,459.738 4271.37,470.051 4272.3,480.363 4272.76,485.839 \n",
       "  \"/>\n",
       "<polyline clip-path=\"url(#clip094)\" style=\"stroke:#0f00f0; stroke-linecap:butt; stroke-linejoin:round; stroke-width:4; stroke-opacity:1; fill:none\" points=\"\n",
       "  4272.76,623.846 4272.65,624.736 4271.07,635.048 4269.12,645.361 4266.71,655.673 4263.78,665.986 4260.2,676.298 4255.83,686.61 4250.45,696.923 4243.76,707.235 \n",
       "  4238.76,713.552 4204.76,710.817 4200.86,707.235 4188.05,696.923 4171.52,686.61 4170.76,686.177 4163.2,676.298 4153.95,665.986 4142.95,655.673 4136.76,650.463 \n",
       "  4133.51,645.361 4126.42,635.048 4118.23,624.736 4108.73,614.424 4102.76,608.546 4100.17,604.111 4093.79,593.799 4086.52,583.487 4078.2,573.174 4068.76,563.029 \n",
       "  4068.66,562.862 4062.84,552.55 4056.29,542.237 4048.87,531.925 4040.38,521.613 4034.76,515.368 4032.45,511.3 4026.37,500.988 4019.54,490.675 4011.81,480.363 \n",
       "  4002.98,470.051 4000.76,467.57 3996.11,459.738 3989.49,449.426 3982.07,439.114 3973.67,428.801 3966.76,421.12 3965.01,418.489 3958.04,408.177 3950.31,397.864 \n",
       "  3941.63,387.552 3932.76,378.164 3932.01,377.24 3923.67,366.927 3914.47,356.615 3904.19,346.302 3898.76,341.174 3892.7,335.99 3880.17,325.678 3866.34,315.365 \n",
       "  3864.76,314.205 3838.85,305.053 3830.76,302.182 3821.14,305.053 3796.76,312.574 3794.09,315.365 3784.63,325.678 3776.22,335.99 3768.69,346.302 3762.76,355.19 \n",
       "  3761.95,356.615 3756.3,366.927 3751.28,377.24 3746.8,387.552 3742.76,397.864 3739.08,408.177 3735.71,418.489 3732.59,428.801 3729.68,439.114 3728.76,442.435 \n",
       "  3725.86,449.426 3721.96,459.738 3718.51,470.051 3715.44,480.363 3712.68,490.675 3710.18,500.988 3707.89,511.3 3705.79,521.613 3703.84,531.925 3702.01,542.237 \n",
       "  3700.29,552.55 3698.65,562.862 3697.07,573.174 3695.54,583.487 3694.76,588.828 3693.04,593.799 3689.76,604.111 3686.86,614.424 3684.3,624.736 3682.01,635.048 \n",
       "  3679.96,645.361 3678.1,655.673 3676.42,665.986 3674.87,676.298 3673.44,686.61 3672.12,696.923 3670.87,707.235 3669.7,717.547 3668.58,727.86 3667.5,738.172 \n",
       "  3666.47,748.484 3665.45,758.797 3664.46,769.109 3663.48,779.421 3662.51,789.734 3661.54,800.046 3660.76,808.244 3660.13,810.359 3657.22,820.671 3654.66,830.983 \n",
       "  3652.38,841.296 3650.35,851.608 3648.54,861.92 3646.91,872.233 3645.43,882.545 3644.09,892.857 3642.86,903.17 3641.73,913.482 3640.69,923.794 3639.71,934.107 \n",
       "  3638.8,944.419 3637.94,954.732 3637.11,965.044 3636.33,975.356 3635.57,985.669 3634.83,995.981 3634.11,1006.29 3633.4,1016.61 3632.69,1026.92 3631.98,1037.23 \n",
       "  3631.28,1047.54 3630.57,1057.86 3629.84,1068.17 3629.11,1078.48 \n",
       "  \"/>\n",
       "<polyline clip-path=\"url(#clip094)\" style=\"stroke:#1f00e0; stroke-linecap:butt; stroke-linejoin:round; stroke-width:4; stroke-opacity:1; fill:none\" points=\"\n",
       "  3639.78,1078.48 3640.6,1068.17 3641.45,1057.86 3642.31,1047.54 3643.19,1037.23 3644.11,1026.92 3645.06,1016.61 3646.05,1006.29 3647.1,995.981 3648.2,985.669 \n",
       "  3649.38,975.356 3650.63,965.044 3651.98,954.732 3653.43,944.419 3655.01,934.107 3656.73,923.794 3658.61,913.482 3660.67,903.17 3660.76,902.742 3661.89,892.857 \n",
       "  3663.05,882.545 3664.2,872.233 3665.35,861.92 3666.49,851.608 3667.64,841.296 3668.8,830.983 3669.96,820.671 3671.15,810.359 3672.36,800.046 3673.61,789.734 \n",
       "  3674.9,779.421 3676.23,769.109 3677.63,758.797 3679.11,748.484 3680.67,738.172 3682.33,727.86 3684.11,717.547 3686.04,707.235 3688.13,696.923 3690.41,686.61 \n",
       "  3692.92,676.298 3694.76,669.279 3695.3,665.986 3696.99,655.673 3698.71,645.361 3700.46,635.048 3702.25,624.736 3704.1,614.424 3706.02,604.111 3708.02,593.799 \n",
       "  3710.13,583.487 3712.36,573.174 3714.73,562.862 3717.27,552.55 3720.02,542.237 3723.01,531.925 3726.29,521.613 3728.76,514.409 3729.65,511.3 3732.62,500.988 \n",
       "  3735.73,490.675 3739.01,480.363 3742.48,470.051 3746.19,459.738 3750.17,449.426 3754.49,439.114 3759.2,428.801 3762.76,421.549 3764.67,418.489 3771.31,408.177 \n",
       "  3778.5,397.864 3786.35,387.552 3794.97,377.24 3796.76,375.171 3817.73,366.927 3830.76,362.139 3846.33,366.927 3864.76,372.388 3871.35,377.24 3884.98,387.552 \n",
       "  3897.93,397.864 3898.76,398.513 3908.6,408.177 3918.35,418.489 3927.46,428.801 3932.76,434.975 3936.48,439.114 3945.35,449.426 3953.49,459.738 3961.03,470.051 \n",
       "  3966.76,478.263 3968.54,480.363 3977.02,490.675 3984.71,500.988 3991.76,511.3 3998.31,521.613 4000.76,525.539 4006.01,531.925 4013.92,542.237 4021.08,552.55 \n",
       "  4027.63,562.862 4033.7,573.174 4034.76,574.977 4041.74,583.487 4049.45,593.799 4056.41,604.111 4062.76,614.424 4068.61,624.736 4068.76,624.99 4077.17,635.048 \n",
       "  4084.88,645.361 4091.81,655.673 4098.11,665.986 4102.76,674.131 4104.68,676.298 4113.47,686.61 4121.27,696.923 4128.27,707.235 4134.59,717.547 4136.76,721.225 \n",
       "  4143.08,727.86 4152.04,738.172 4159.95,748.484 4167,758.797 4170.76,764.69 4175.66,769.109 4186.15,779.421 4195.21,789.734 4203.12,800.046 4204.76,802.298 \n",
       "  4216.54,810.359 4229.15,820.671 4238.76,830.14 4242.75,830.983 4272.76,839.365 \n",
       "  \"/>\n",
       "<polyline clip-path=\"url(#clip094)\" style=\"stroke:#2f00d0; stroke-linecap:butt; stroke-linejoin:round; stroke-width:4; stroke-opacity:1; fill:none\" points=\"\n",
       "  4272.76,917.689 4268.19,913.482 4255.51,903.17 4239.75,892.857 4238.76,892.265 4231.14,882.545 4222.02,872.233 4211.57,861.92 4204.76,855.856 4201.95,851.608 \n",
       "  4194.79,841.296 4186.86,830.983 4177.99,820.671 4170.76,813.016 4169.14,810.359 4162.7,800.046 4155.69,789.734 4147.98,779.421 4139.43,769.109 4136.76,766.029 \n",
       "  4132.53,758.797 4126.2,748.484 4119.34,738.172 4111.85,727.86 4103.58,717.547 4102.76,716.542 4097.41,707.235 4091.13,696.923 4084.38,686.61 4077.03,676.298 \n",
       "  4068.97,665.986 4068.76,665.72 4062.93,655.673 4056.61,645.361 4049.85,635.048 4042.53,624.736 4034.76,614.696 4034.59,614.424 4028.39,604.111 4021.85,593.799 \n",
       "  4014.9,583.487 4007.4,573.174 4000.76,564.674 3999.58,562.862 3992.87,552.55 3985.84,542.237 3978.38,531.925 3970.35,521.613 3966.76,517.175 3962.45,511.3 \n",
       "  3954.76,500.988 3946.69,490.675 3938.13,480.363 3932.76,474.173 3929.01,470.051 3919.59,459.738 3909.81,449.426 3899.5,439.114 3898.76,438.374 3885.87,428.801 \n",
       "  3871.74,418.489 3864.76,413.449 3843.11,408.177 3830.76,404.995 3823.38,408.177 3801.07,418.489 3796.76,420.613 3790.36,428.801 3782.84,439.114 3775.85,449.426 \n",
       "  3769.33,459.738 3763.21,470.051 3762.76,470.82 3758.57,480.363 3754.36,490.675 3750.42,500.988 3746.71,511.3 3743.21,521.613 3739.87,531.925 3736.67,542.237 \n",
       "  3733.59,552.55 3730.62,562.862 3728.76,569.42 3727.64,573.174 3724.71,583.487 3721.99,593.799 3719.44,604.111 3717.04,614.424 3714.77,624.736 3712.61,635.048 \n",
       "  3710.53,645.361 3708.54,655.673 3706.6,665.986 3704.72,676.298 3702.88,686.61 3701.07,696.923 3699.29,707.235 3697.52,717.547 3695.77,727.86 3694.76,733.808 \n",
       "  3693.83,738.172 3691.75,748.484 3689.82,758.797 3688.01,769.109 3686.31,779.421 3684.71,789.734 3683.19,800.046 3681.74,810.359 3680.35,820.671 3679,830.983 \n",
       "  3677.7,841.296 3676.44,851.608 3675.2,861.92 3673.98,872.233 3672.78,882.545 3671.59,892.857 3670.41,903.17 3669.23,913.482 3668.05,923.794 3666.87,934.107 \n",
       "  3665.69,944.419 3664.49,954.732 3663.28,965.044 3662.06,975.356 3660.82,985.669 3660.76,986.2 3659.37,995.981 3658,1006.29 3656.72,1016.61 3655.52,1026.92 \n",
       "  3654.4,1037.23 3653.33,1047.54 3652.32,1057.86 3651.36,1068.17 3650.44,1078.48 \n",
       "  \"/>\n",
       "<polyline clip-path=\"url(#clip094)\" style=\"stroke:#3f00c0; stroke-linecap:butt; stroke-linejoin:round; stroke-width:4; stroke-opacity:1; fill:none\" points=\"\n",
       "  3661.17,1078.48 3662.3,1068.17 3663.42,1057.86 3664.54,1047.54 3665.65,1037.23 3666.76,1026.92 3667.86,1016.61 3668.96,1006.29 3670.05,995.981 3671.15,985.669 \n",
       "  3672.24,975.356 3673.34,965.044 3674.44,954.732 3675.55,944.419 3676.67,934.107 3677.8,923.794 3678.94,913.482 3680.11,903.17 3681.3,892.857 3682.51,882.545 \n",
       "  3683.76,872.233 3685.05,861.92 3686.38,851.608 3687.77,841.296 3689.21,830.983 3690.73,820.671 3692.33,810.359 3694.02,800.046 3694.76,795.71 3695.75,789.734 \n",
       "  3697.48,779.421 3699.21,769.109 3700.95,758.797 3702.7,748.484 3704.47,738.172 3706.26,727.86 3708.08,717.547 3709.94,707.235 3711.84,696.923 3713.8,686.61 \n",
       "  3715.81,676.298 3717.9,665.986 3720.08,655.673 3722.35,645.361 3724.75,635.048 3727.29,624.736 3728.76,619.011 3730.02,614.424 3732.89,604.111 3735.82,593.799 \n",
       "  3738.84,583.487 3741.95,573.174 3745.17,562.862 3748.53,552.55 3752.04,542.237 3755.73,531.925 3759.63,521.613 3762.76,513.759 3764.1,511.3 3769.86,500.988 \n",
       "  3775.94,490.675 3782.37,480.363 3789.22,470.051 3796.54,459.738 3796.76,459.442 3814.43,449.426 3830.76,441.056 3864.76,447.617 3867.34,449.426 3882.17,459.738 \n",
       "  3897.05,470.051 3898.76,471.204 3907.92,480.363 3917.94,490.675 3927.78,500.988 3932.76,506.183 3937.11,511.3 3945.64,521.613 3953.82,531.925 3961.78,542.237 \n",
       "  3966.76,548.733 3969.76,552.55 3977.63,562.862 3985.09,573.174 3992.24,583.487 3999.2,593.799 4000.76,596.098 4006.79,604.111 4014.14,614.424 4021.09,624.736 \n",
       "  4027.73,635.048 4034.16,645.361 4034.76,646.319 4041.7,655.673 4048.87,665.986 4055.6,676.298 4062,686.61 4068.17,696.923 4068.76,697.907 4075.73,707.235 \n",
       "  4082.92,717.547 4089.63,727.86 4095.97,738.172 4102.03,748.484 4102.76,749.713 4109.72,758.797 4117.06,769.109 4123.88,779.421 4130.28,789.734 4136.36,800.046 \n",
       "  4136.76,800.719 4144.47,810.359 4152.06,820.671 4159.08,830.983 4165.62,841.296 4170.76,849.814 4172.33,851.608 4181.02,861.92 4188.93,872.233 4196.18,882.545 \n",
       "  4202.9,892.857 4204.76,895.781 4211.94,903.17 4221.1,913.482 4229.33,923.794 4236.81,934.107 4238.76,936.888 4247.81,944.419 4258.78,954.732 4268.31,965.044 \n",
       "  4272.76,970.271 \n",
       "  \"/>\n",
       "<polyline clip-path=\"url(#clip094)\" style=\"stroke:#4f00b0; stroke-linecap:butt; stroke-linejoin:round; stroke-width:4; stroke-opacity:1; fill:none\" points=\"\n",
       "  4272.76,1011.43 4268.86,1006.29 4260.58,995.981 4251.41,985.669 4241.14,975.356 4238.76,973.093 4233.35,965.044 4226.03,954.732 4218.12,944.419 4209.49,934.107 \n",
       "  4204.76,928.794 4201.63,923.794 4195,913.482 4187.97,903.17 4180.43,892.857 4172.28,882.545 4170.76,880.684 4165.65,872.233 4159.21,861.92 4152.42,851.608 \n",
       "  4145.2,841.296 4137.44,830.983 4136.76,830.102 4131.14,820.671 4124.81,810.359 4118.2,800.046 4111.2,789.734 4103.73,779.421 4102.76,778.103 4097.37,769.109 \n",
       "  4091.06,758.797 4084.52,748.484 4077.65,738.172 4070.35,727.86 4068.76,725.66 4063.77,717.547 4057.36,707.235 4050.75,696.923 4043.86,686.61 4036.59,676.298 \n",
       "  4034.76,673.767 4029.74,665.986 4023.05,655.673 4016.19,645.361 4009.08,635.048 4001.61,624.736 4000.76,623.573 3994.37,614.424 3987.13,604.111 3979.74,593.799 \n",
       "  3972.11,583.487 3966.76,576.486 3964.09,573.174 3955.89,562.862 3947.62,552.55 3939.2,542.237 3932.76,534.542 3930.1,531.925 3919.83,521.613 3909.58,511.3 \n",
       "  3899.23,500.988 3898.76,500.516 3883.38,490.675 3867.73,480.363 3864.76,478.364 3830.76,473.888 3819.73,480.363 3803.56,490.675 3796.76,495.341 3793.04,500.988 \n",
       "  3786.54,511.3 3780.41,521.613 3774.58,531.925 3769.03,542.237 3763.71,552.55 3762.76,554.445 3759.73,562.862 3756.18,573.174 3752.79,583.487 3749.53,593.799 \n",
       "  3746.39,604.111 3743.36,614.424 3740.41,624.736 3737.53,635.048 3734.72,645.361 3731.97,655.673 3729.26,665.986 3728.76,667.939 3726.9,676.298 3724.71,686.61 \n",
       "  3722.62,696.923 3720.6,707.235 3718.65,717.547 3716.76,727.86 3714.92,738.172 3713.12,748.484 3711.36,758.797 3709.63,769.109 3707.93,779.421 3706.25,789.734 \n",
       "  3704.59,800.046 3702.95,810.359 3701.32,820.671 3699.71,830.983 3698.1,841.296 3696.51,851.608 3694.92,861.92 3694.76,862.972 3693.54,872.233 3692.24,882.545 \n",
       "  3691,892.857 3689.81,903.17 3688.65,913.482 3687.54,923.794 3686.46,934.107 3685.41,944.419 3684.39,954.732 3683.39,965.044 3682.42,975.356 3681.47,985.669 \n",
       "  3680.53,995.981 3679.62,1006.29 3678.72,1016.61 3677.84,1026.92 3676.97,1037.23 3676.12,1047.54 3675.29,1057.86 3674.47,1068.17 3673.68,1078.48 \n",
       "  \"/>\n",
       "<polyline clip-path=\"url(#clip094)\" style=\"stroke:#5f00a0; stroke-linecap:butt; stroke-linejoin:round; stroke-width:4; stroke-opacity:1; fill:none\" points=\"\n",
       "  3686.18,1078.48 3686.65,1068.17 3687.15,1057.86 3687.7,1047.54 3688.29,1037.23 3688.92,1026.92 3689.58,1016.61 3690.28,1006.29 3691.02,995.981 3691.79,985.669 \n",
       "  3692.6,975.356 3693.45,965.044 3694.34,954.732 3694.76,950.156 3695.43,944.419 3696.69,934.107 3697.97,923.794 3699.27,913.482 3700.6,903.17 3701.96,892.857 \n",
       "  3703.34,882.545 3704.73,872.233 3706.15,861.92 3707.59,851.608 3709.06,841.296 3710.54,830.983 3712.05,820.671 3713.59,810.359 3715.16,800.046 3716.75,789.734 \n",
       "  3718.39,779.421 3720.06,769.109 3721.77,758.797 3723.54,748.484 3725.36,738.172 3727.25,727.86 3728.76,719.906 3729.31,717.547 3731.8,707.235 3734.32,696.923 \n",
       "  3736.89,686.61 3739.51,676.298 3742.18,665.986 3744.92,655.673 3747.73,645.361 3750.63,635.048 3753.61,624.736 3756.69,614.424 3759.9,604.111 3762.76,595.262 \n",
       "  3763.43,593.799 3768.27,583.487 3773.3,573.174 3778.55,562.862 3784.03,552.55 3789.77,542.237 3795.82,531.925 3796.76,530.376 3807.81,521.613 3821.98,511.3 \n",
       "  3830.76,505.373 3864.76,507.485 3870.81,511.3 3887.74,521.613 3898.76,528.004 3902.73,531.925 3913.23,542.237 3923.88,552.55 3932.76,560.942 3934.35,562.862 \n",
       "  3942.88,573.174 3951.32,583.487 3959.79,593.799 3966.76,602.167 3968.22,604.111 3975.89,614.424 3983.38,624.736 3990.8,635.048 3998.23,645.361 4000.76,648.817 \n",
       "  4005.64,655.673 4012.78,665.986 4019.73,676.298 4026.59,686.61 4033.43,696.923 4034.76,698.896 4040.55,707.235 4047.46,717.547 4054.15,727.86 4060.71,738.172 \n",
       "  4067.21,748.484 4068.76,750.911 4074.23,758.797 4081.11,769.109 4087.72,779.421 4094.15,789.734 4100.48,800.046 4102.76,803.739 4107.43,810.359 4114.42,820.671 \n",
       "  4121.09,830.983 4127.53,841.296 4133.82,851.608 4136.76,856.442 4140.75,861.92 4147.97,872.233 4154.82,882.545 4161.37,892.857 4167.73,903.17 4170.76,908.133 \n",
       "  4174.86,913.482 4182.42,923.794 4189.53,934.107 4196.3,944.419 4202.8,954.732 4204.76,957.872 4210.67,965.044 4218.67,975.356 4226.14,985.669 4233.18,995.981 \n",
       "  4238.76,1004.5 4240.45,1006.29 4249.79,1016.61 4258.32,1026.92 4266.2,1037.23 4272.76,1046.38 \n",
       "  \"/>\n",
       "<polyline clip-path=\"url(#clip094)\" style=\"stroke:#af0050; stroke-linecap:butt; stroke-linejoin:round; stroke-width:4; stroke-opacity:1; fill:none\" points=\"\n",
       "  4199.84,1078.48 4193.16,1068.17 4186.69,1057.86 4180.37,1047.54 4174.1,1037.23 4170.76,1031.76 4167.47,1026.92 4160.68,1016.61 4154.18,1006.29 4147.88,995.981 \n",
       "  4141.7,985.669 4136.76,977.387 4135.35,975.356 4128.34,965.044 4121.69,954.732 4115.3,944.419 4109.1,934.107 4103,923.794 4102.76,923.393 4095.73,913.482 \n",
       "  4088.83,903.17 4082.25,892.857 4075.92,882.545 4069.74,872.233 4068.76,870.604 4062.29,861.92 4055.03,851.608 4048.17,841.296 4041.6,830.983 4035.24,820.671 \n",
       "  4034.76,819.899 4027.13,810.359 4019.41,800.046 4012.14,789.734 4005.22,779.421 4000.76,772.6 3997.59,769.109 3988.61,758.797 3980.27,748.484 3972.44,738.172 \n",
       "  3966.76,730.356 3963.99,727.86 3953.06,717.547 3943.07,707.235 3933.83,696.923 3932.76,695.703 3918.3,686.61 3903.79,676.298 3898.76,672.454 3864.76,666.381 \n",
       "  3847.48,676.298 3832.13,686.61 3830.76,687.637 3825.33,696.923 3819.68,707.235 3814.38,717.547 3809.4,727.86 3804.74,738.172 3800.36,748.484 3796.76,757.535 \n",
       "  3796.43,758.797 3793.91,769.109 3791.5,779.421 3789.22,789.734 3787.06,800.046 3785.01,810.359 3783.09,820.671 3781.28,830.983 3779.59,841.296 3778.02,851.608 \n",
       "  3776.56,861.92 3775.22,872.233 3774,882.545 3772.89,892.857 3771.9,903.17 3771.03,913.482 3770.27,923.794 3769.63,934.107 3769.1,944.419 3768.69,954.732 \n",
       "  3768.38,965.044 3768.19,975.356 3768.11,985.669 3768.14,995.981 3768.27,1006.29 3768.51,1016.61 3768.85,1026.92 3769.28,1037.23 3769.81,1047.54 3770.43,1057.86 \n",
       "  3771.15,1068.17 3771.95,1078.48 \n",
       "  \"/>\n",
       "<polyline clip-path=\"url(#clip094)\" style=\"stroke:#bf0040; stroke-linecap:butt; stroke-linejoin:round; stroke-width:4; stroke-opacity:1; fill:none\" points=\"\n",
       "  3790.99,1078.48 3790.31,1068.17 3789.71,1057.86 3789.2,1047.54 3788.77,1037.23 3788.43,1026.92 3788.18,1016.61 3788.02,1006.29 3787.95,995.981 3787.97,985.669 \n",
       "  3788.1,975.356 3788.32,965.044 3788.64,954.732 3789.07,944.419 3789.59,934.107 3790.22,923.794 3790.96,913.482 3791.8,903.17 3792.75,892.857 3793.81,882.545 \n",
       "  3794.98,872.233 3796.25,861.92 3796.76,858.156 3798.02,851.608 3800.19,841.296 3802.56,830.983 3805.12,820.671 3807.9,810.359 3810.88,800.046 3814.09,789.734 \n",
       "  3817.53,779.421 3821.22,769.109 3825.16,758.797 3829.38,748.484 3830.76,745.314 3836.8,738.172 3846.5,727.86 3857.45,717.547 3864.76,711.389 3898.76,710.924 \n",
       "  3909.26,717.547 3928.02,727.86 3932.76,730.228 3940.23,738.172 3950.78,748.484 3962.56,758.797 3966.76,762.258 3971.83,769.109 3979.88,779.421 3988.62,789.734 \n",
       "  3998.2,800.046 4000.76,802.691 4005.76,810.359 4012.79,820.671 4020.31,830.983 4028.43,841.296 4034.76,848.794 4036.47,851.608 4042.8,861.92 4049.46,872.233 \n",
       "  4056.56,882.545 4064.2,892.857 4068.76,898.693 4071.38,903.17 4077.48,913.482 4083.86,923.794 4090.63,934.107 4097.86,944.419 4102.76,951.031 4104.89,954.732 \n",
       "  4110.86,965.044 4117.05,975.356 4123.55,985.669 4130.46,995.981 4136.76,1004.81 4137.61,1006.29 4143.53,1016.61 4149.62,1026.92 4155.95,1037.23 4162.63,1047.54 \n",
       "  4169.74,1057.86 4170.76,1059.31 4175.91,1068.17 4182,1078.48 \n",
       "  \"/>\n",
       "<polyline clip-path=\"url(#clip094)\" style=\"stroke:#8f0070; stroke-linecap:butt; stroke-linejoin:round; stroke-width:4; stroke-opacity:1; fill:none\" points=\"\n",
       "  4233.89,1078.48 4227.19,1068.17 4220.44,1057.86 4213.56,1047.54 4206.46,1037.23 4204.76,1034.81 4199.68,1026.92 4193.13,1016.61 4186.59,1006.29 4179.98,995.981 \n",
       "  4173.22,985.669 4170.76,981.99 4166.49,975.356 4159.97,965.044 4153.52,954.732 4147.06,944.419 4140.52,934.107 4136.76,928.284 4133.83,923.794 4127.22,913.482 \n",
       "  4120.75,903.17 4114.34,892.857 4107.89,882.545 4102.76,874.436 4101.28,872.233 4094.48,861.92 4087.87,851.608 4081.38,841.296 4074.91,830.983 4068.76,821.23 \n",
       "  4068.37,820.671 4061.25,810.359 4054.38,800.046 4047.68,789.734 4041.07,779.421 4034.76,769.591 4034.4,769.109 4026.82,758.797 4019.55,748.484 4012.49,738.172 \n",
       "  4005.56,727.86 4000.76,720.692 3998.17,717.547 3989.92,707.235 3982.03,696.923 3974.4,686.61 3966.93,676.298 3966.76,676.057 3957.13,665.986 3947.82,655.673 \n",
       "  3938.94,645.361 3932.76,637.975 3928.93,635.048 3916.05,624.736 3904.1,614.424 3898.76,609.615 3884.36,604.111 3864.76,595.769 3830.76,603.779 3830.44,604.111 \n",
       "  3821.14,614.424 3812.5,624.736 3804.43,635.048 3796.9,645.361 3796.76,645.563 3792.66,655.673 3788.66,665.986 3784.8,676.298 3781.1,686.61 3777.53,696.923 \n",
       "  3774.1,707.235 3770.79,717.547 3767.61,727.86 3764.55,738.172 3762.76,744.461 3761.94,748.484 3759.93,758.797 3757.99,769.109 3756.12,779.421 3754.3,789.734 \n",
       "  3752.56,800.046 3750.87,810.359 3749.26,820.671 3747.7,830.983 3746.21,841.296 3744.79,851.608 3743.44,861.92 3742.16,872.233 3740.96,882.545 3739.82,892.857 \n",
       "  3738.77,903.17 3737.8,913.482 3736.91,923.794 3736.1,934.107 3735.38,944.419 3734.76,954.732 3734.22,965.044 3733.78,975.356 3733.44,985.669 3733.19,995.981 \n",
       "  3733.05,1006.29 3733.01,1016.61 3733.08,1026.92 3733.25,1037.23 3733.53,1047.54 3733.91,1057.86 3734.41,1068.17 3735.02,1078.48 \n",
       "  \"/>\n",
       "<polyline clip-path=\"url(#clip094)\" style=\"stroke:#9f0060; stroke-linecap:butt; stroke-linejoin:round; stroke-width:4; stroke-opacity:1; fill:none\" points=\"\n",
       "  3753.3,1078.48 3752.56,1068.17 3751.92,1057.86 3751.39,1047.54 3750.97,1037.23 3750.65,1026.92 3750.43,1016.61 3750.32,1006.29 3750.3,995.981 3750.38,985.669 \n",
       "  3750.56,975.356 3750.83,965.044 3751.2,954.732 3751.65,944.419 3752.2,934.107 3752.83,923.794 3753.54,913.482 3754.34,903.17 3755.22,892.857 3756.17,882.545 \n",
       "  3757.2,872.233 3758.31,861.92 3759.49,851.608 3760.74,841.296 3762.07,830.983 3762.76,825.885 3763.72,820.671 3765.73,810.359 3767.87,800.046 3770.12,789.734 \n",
       "  3772.5,779.421 3774.99,769.109 3777.61,758.797 3780.35,748.484 3783.21,738.172 3786.2,727.86 3789.32,717.547 3792.57,707.235 3795.96,696.923 3796.76,694.601 \n",
       "  3801.25,686.61 3807.4,676.298 3813.96,665.986 3820.97,655.673 3828.46,645.361 3830.76,642.382 3847.96,635.048 3864.76,628.92 3883.65,635.048 3898.76,639.413 \n",
       "  3905.84,645.361 3918.94,655.673 3932.76,665.524 3933.15,665.986 3942,676.298 3951.38,686.61 3961.42,696.923 3966.76,702.137 3970.44,707.235 3978.03,717.547 \n",
       "  3985.95,727.86 3994.32,738.172 4000.76,745.702 4002.6,748.484 4009.44,758.797 4016.48,769.109 4023.8,779.421 4031.51,789.734 4034.76,793.941 4038.6,800.046 \n",
       "  4045.13,810.359 4051.8,820.671 4058.71,830.983 4065.94,841.296 4068.76,845.191 4072.71,851.608 4079.06,861.92 4085.51,872.233 4092.14,882.545 4099.03,892.857 \n",
       "  4102.76,898.266 4105.78,903.17 4112.07,913.482 4118.41,923.794 4124.87,934.107 4131.54,944.419 4136.76,952.229 4138.32,954.732 4144.68,965.044 4151.03,975.356 \n",
       "  4157.43,985.669 4163.98,995.981 4170.75,1006.29 4170.76,1006.31 4177.29,1016.61 4183.75,1026.92 4190.22,1037.23 4196.76,1047.54 4203.45,1057.86 4204.76,1059.83 \n",
       "  4210.29,1068.17 4216.99,1078.48 \n",
       "  \"/>\n",
       "<polyline clip-path=\"url(#clip094)\" style=\"stroke:#7f0080; stroke-linecap:butt; stroke-linejoin:round; stroke-width:4; stroke-opacity:1; fill:none\" points=\"\n",
       "  4253.14,1078.48 4245.35,1068.17 4238.76,1059.88 4237.44,1057.86 4230.75,1047.54 4223.94,1037.23 4216.94,1026.92 4209.64,1016.61 4204.76,1009.97 4202.42,1006.29 \n",
       "  4195.9,995.981 4189.32,985.669 4182.6,975.356 4175.67,965.044 4170.76,957.973 4168.71,954.732 4162.25,944.419 4155.79,934.107 4149.26,923.794 4142.57,913.482 \n",
       "  4136.76,904.781 4135.73,903.17 4129.22,892.857 4122.78,882.545 4116.32,872.233 4109.77,861.92 4103.04,851.608 4102.76,851.182 4096.37,841.296 4089.83,830.983 \n",
       "  4083.32,820.671 4076.78,810.359 4070.11,800.046 4068.76,797.981 4063.22,789.734 4056.44,779.421 4049.76,769.109 4043.08,758.797 4036.34,748.484 4034.76,746.096 \n",
       "  4029.11,738.172 4021.94,727.86 4014.92,717.547 4007.94,707.235 4000.93,696.923 4000.76,696.664 3992.91,686.61 3985.13,676.298 3977.53,665.986 3970.01,655.673 \n",
       "  3966.76,651.223 3961.39,645.361 3952.26,635.048 3943.45,624.736 3934.86,614.424 3932.76,611.883 3923.46,604.111 3911.76,593.799 3900.63,583.487 3898.76,581.722 \n",
       "  3880.34,573.174 3864.76,565.244 3830.76,569.164 3826.32,573.174 3815.6,583.487 3805.67,593.799 3796.76,603.77 3796.59,604.111 3791.75,614.424 3787.11,624.736 \n",
       "  3782.66,635.048 3778.37,645.361 3774.24,655.673 3770.26,665.986 3766.41,676.298 3762.76,686.427 3762.71,686.61 3760.19,696.923 3757.75,707.235 3755.38,717.547 \n",
       "  3753.08,727.86 3750.84,738.172 3748.67,748.484 3746.55,758.797 3744.49,769.109 3742.49,779.421 3740.54,789.734 3738.66,800.046 3736.82,810.359 3735.05,820.671 \n",
       "  3733.34,830.983 3731.69,841.296 3730.1,851.608 3728.76,860.696 3728.62,861.92 3727.52,872.233 3726.47,882.545 3725.46,892.857 3724.5,903.17 3723.58,913.482 \n",
       "  3722.72,923.794 3721.9,934.107 3721.14,944.419 3720.43,954.732 3719.78,965.044 3719.19,975.356 3718.66,985.669 3718.19,995.981 3717.8,1006.29 3717.48,1016.61 \n",
       "  3717.24,1026.92 3717.09,1037.23 3717.02,1047.54 3717.05,1057.86 3717.18,1068.17 3717.42,1078.48 \n",
       "  \"/>\n",
       "<polyline clip-path=\"url(#clip094)\" style=\"stroke:#6f0090; stroke-linecap:butt; stroke-linejoin:round; stroke-width:4; stroke-opacity:1; fill:none\" points=\"\n",
       "  3700.18,1078.48 3700.37,1068.17 3700.65,1057.86 3701.01,1047.54 3701.46,1037.23 3701.97,1026.92 3702.56,1016.61 3703.21,1006.29 3703.93,995.981 3704.7,985.669 \n",
       "  3705.52,975.356 3706.4,965.044 3707.32,954.732 3708.29,944.419 3709.29,934.107 3710.34,923.794 3711.43,913.482 3712.55,903.17 3713.71,892.857 3714.9,882.545 \n",
       "  3716.13,872.233 3717.39,861.92 3718.68,851.608 3720.01,841.296 3721.38,830.983 3722.78,820.671 3724.23,810.359 3725.72,800.046 3727.25,789.734 3728.76,779.947 \n",
       "  3728.86,779.421 3730.99,769.109 3733.17,758.797 3735.39,748.484 3737.66,738.172 3739.98,727.86 3742.35,717.547 3744.77,707.235 3747.25,696.923 3749.8,686.61 \n",
       "  3752.41,676.298 3755.1,665.986 3757.88,655.673 3760.75,645.361 3762.76,638.365 3764.12,635.048 3768.48,624.736 3772.99,614.424 3777.67,604.111 3782.54,593.799 \n",
       "  3787.62,583.487 3792.92,573.174 3796.76,566.032 3800.05,562.862 3811.39,552.55 3823.74,542.237 3830.76,536.763 3864.76,536.136 3875.33,542.237 3894.37,552.55 \n",
       "  3898.76,554.799 3907.11,562.862 3918.04,573.174 3929.39,583.487 3932.76,586.455 3938.83,593.799 3947.38,604.111 3956.04,614.424 3964.92,624.736 3966.76,626.817 \n",
       "  3972.83,635.048 3980.36,645.361 3987.89,655.673 3995.51,665.986 4000.76,672.933 4003.1,676.298 4010.2,686.61 4017.18,696.923 4024.14,707.235 4031.16,717.547 \n",
       "  4034.76,722.743 4038.23,727.86 4045.07,738.172 4051.78,748.484 4058.41,758.797 4065.07,769.109 4068.76,774.753 4071.91,779.421 4078.7,789.734 4085.3,800.046 \n",
       "  4091.78,810.359 4098.24,820.671 4102.76,827.836 4104.91,830.983 4111.79,841.296 4118.43,851.608 4124.9,861.92 4131.29,872.233 4136.76,881.069 4137.8,882.545 \n",
       "  4144.9,892.857 4151.69,903.17 4158.26,913.482 4164.69,923.794 4170.76,933.612 4171.12,934.107 4178.56,944.419 4185.62,954.732 4192.39,965.044 4198.97,975.356 \n",
       "  4204.76,984.594 4205.6,985.669 4213.49,995.981 4220.93,1006.29 4228,1016.61 4234.81,1026.92 4238.76,1033.01 4242.39,1037.23 4250.88,1047.54 4258.79,1057.86 \n",
       "  4266.24,1068.17 4272.76,1077.59 \n",
       "  \"/>\n",
       "<polyline clip-path=\"url(#clip094)\" style=\"stroke:#cf0030; stroke-linecap:butt; stroke-linejoin:round; stroke-width:4; stroke-opacity:1; fill:none\" points=\"\n",
       "  4161.98,1078.48 4155.21,1068.17 4148.91,1057.86 4142.95,1047.54 4137.27,1037.23 4136.76,1036.31 4129.78,1026.92 4122.72,1016.61 4116.18,1006.29 4110.07,995.981 \n",
       "  4104.29,985.669 4102.76,982.928 4096.9,975.356 4089.46,965.044 4082.63,954.732 4076.29,944.419 4070.33,934.107 4068.76,931.349 4062.56,923.794 4054.71,913.482 \n",
       "  4047.54,903.17 4040.91,892.857 4034.76,882.605 4034.7,882.545 4025.51,872.233 4017.2,861.92 4009.64,851.608 4002.69,841.296 4000.76,838.352 3993.08,830.983 \n",
       "  3983.26,820.671 3974.45,810.359 3966.76,800.442 3966.2,800.046 3952.26,789.734 3940.21,779.421 3932.76,772.331 3923.42,769.109 3898.76,759.023 3867.96,769.109 \n",
       "  3864.76,770.433 3858.39,779.421 3851.77,789.734 3845.79,800.046 3840.37,810.359 3835.46,820.671 3831,830.983 3830.76,831.583 3828.46,841.296 3826.2,851.608 \n",
       "  3824.13,861.92 3822.22,872.233 3820.49,882.545 3818.92,892.857 3817.51,903.17 3816.25,913.482 3815.14,923.794 3814.17,934.107 3813.34,944.419 3812.65,954.732 \n",
       "  3812.08,965.044 3811.64,975.356 3811.31,985.669 3811.1,995.981 3811.01,1006.29 3811.02,1016.61 3811.13,1026.92 3811.33,1037.23 3811.63,1047.54 3812.02,1057.86 \n",
       "  3812.49,1068.17 3813.03,1078.48 \n",
       "  \"/>\n",
       "<polyline clip-path=\"url(#clip094)\" style=\"stroke:#df0020; stroke-linecap:butt; stroke-linejoin:round; stroke-width:4; stroke-opacity:1; fill:none\" points=\"\n",
       "  3839.21,1078.48 3838.93,1068.17 3838.76,1057.86 3838.69,1047.54 3838.74,1037.23 3838.92,1026.92 3839.22,1016.61 3839.67,1006.29 3840.26,995.981 3841,985.669 \n",
       "  3841.9,975.356 3842.98,965.044 3844.23,954.732 3845.67,944.419 3847.32,934.107 3849.18,923.794 3851.26,913.482 3853.59,903.17 3856.17,892.857 3859.03,882.545 \n",
       "  3862.19,872.233 3864.76,864.6 3866.6,861.92 3874.61,851.608 3883.94,841.296 3894.91,830.983 3898.76,827.831 3932.76,829.612 3934.57,830.983 3949.4,841.296 \n",
       "  3966.76,851.127 3967.16,851.608 3976.09,861.92 3986.3,872.233 3998.09,882.545 4000.76,884.748 4006.3,892.857 4014,903.17 4022.63,913.482 4032.4,923.794 \n",
       "  4034.76,926.167 4039.54,934.107 4046.23,944.419 4053.63,954.732 4061.89,965.044 4068.76,972.852 4070.16,975.356 4076.05,985.669 4082.47,995.981 4089.54,1006.29 \n",
       "  4097.4,1016.61 4102.76,1023.11 4104.8,1026.92 4110.49,1037.23 4116.64,1047.54 4123.38,1057.86 4130.84,1068.17 4136.76,1075.7 4138.23,1078.48 \n",
       "  \"/>\n",
       "<polyline clip-path=\"url(#clip094)\" style=\"stroke:#ef0010; stroke-linecap:butt; stroke-linejoin:round; stroke-width:4; stroke-opacity:1; fill:none\" points=\"\n",
       "  4097.96,1078.48 4089.31,1068.17 4081.77,1057.86 4075.13,1047.54 4069.25,1037.23 4068.76,1036.35 4059.42,1026.92 4050.52,1016.61 4042.79,1006.29 4036.02,995.981 \n",
       "  4034.76,993.976 4025.02,985.669 4014.52,975.356 4005.57,965.044 4000.76,958.892 3993.64,954.732 3978.19,944.419 3966.76,935.018 3958.72,934.107 3932.76,930.556 \n",
       "  3928.29,934.107 3917.29,944.419 3908.24,954.732 3900.66,965.044 3898.76,968.018 3896.69,975.356 3894.1,985.669 3891.8,995.981 3889.77,1006.29 3887.99,1016.61 \n",
       "  3886.44,1026.92 3885.1,1037.23 3883.95,1047.54 3882.99,1057.86 3882.2,1068.17 3881.57,1078.48 \n",
       "  \"/>\n",
       "<polyline clip-path=\"url(#clip094)\" style=\"stroke:#1f00e0; stroke-linecap:butt; stroke-linejoin:round; stroke-width:4; stroke-opacity:1; fill:none\" points=\"\n",
       "  4272.76,233.007 4272.73,232.867 4270.53,222.554 4268.4,212.242 4266.33,201.929 4264.33,191.617 4262.39,181.305 4260.52,170.992 4258.7,160.68 4256.94,150.368 \n",
       "  4255.24,140.055 4253.59,129.743 4252,119.431 4250.45,109.118 4248.95,98.8059 4247.5,88.4935 4246.09,78.1812 4244.72,67.8688 4243.38,57.5565 4242.08,47.2441 \n",
       "  \n",
       "  \"/>\n",
       "<polyline clip-path=\"url(#clip094)\" style=\"stroke:#2f00d0; stroke-linecap:butt; stroke-linejoin:round; stroke-width:4; stroke-opacity:1; fill:none\" points=\"\n",
       "  4256.14,47.2441 4257.96,57.5565 4259.84,67.8688 4261.79,78.1812 4263.81,88.4935 4265.9,98.8059 4268.07,109.118 4270.32,119.431 4272.65,129.743 4272.76,130.201 \n",
       "  \n",
       "  \"/>\n",
       "<polyline clip-path=\"url(#clip094)\" style=\"stroke:#3f00c0; stroke-linecap:butt; stroke-linejoin:round; stroke-width:4; stroke-opacity:1; fill:none\" points=\"\n",
       "  4272.76,58.4903 4272.54,57.5565 4270.2,47.2441 \n",
       "  \"/>\n",
       "<defs>\n",
       "  <clipPath id=\"clip095\">\n",
       "    <rect x=\"4368\" y=\"47\" width=\"145\" height=\"1032\"/>\n",
       "  </clipPath>\n",
       "</defs>\n",
       "<polyline clip-path=\"url(#clip095)\" style=\"stroke:#1000ef; stroke-linecap:butt; stroke-linejoin:round; stroke-width:4; stroke-opacity:1; fill:none\" points=\"\n",
       "  4368.76,1014.03 4512.76,1014.03 \n",
       "  \"/>\n",
       "<polyline clip-path=\"url(#clip095)\" style=\"stroke:#2000df; stroke-linecap:butt; stroke-linejoin:round; stroke-width:4; stroke-opacity:1; fill:none\" points=\"\n",
       "  4368.76,949.575 4512.76,949.575 \n",
       "  \"/>\n",
       "<polyline clip-path=\"url(#clip095)\" style=\"stroke:#3000cf; stroke-linecap:butt; stroke-linejoin:round; stroke-width:4; stroke-opacity:1; fill:none\" points=\"\n",
       "  4368.76,885.123 4512.76,885.123 \n",
       "  \"/>\n",
       "<polyline clip-path=\"url(#clip095)\" style=\"stroke:#4000bf; stroke-linecap:butt; stroke-linejoin:round; stroke-width:4; stroke-opacity:1; fill:none\" points=\"\n",
       "  4368.76,820.671 4512.76,820.671 \n",
       "  \"/>\n",
       "<polyline clip-path=\"url(#clip095)\" style=\"stroke:#5000af; stroke-linecap:butt; stroke-linejoin:round; stroke-width:4; stroke-opacity:1; fill:none\" points=\"\n",
       "  4368.76,756.219 4512.76,756.219 \n",
       "  \"/>\n",
       "<polyline clip-path=\"url(#clip095)\" style=\"stroke:#60009f; stroke-linecap:butt; stroke-linejoin:round; stroke-width:4; stroke-opacity:1; fill:none\" points=\"\n",
       "  4368.76,691.766 4512.76,691.766 \n",
       "  \"/>\n",
       "<polyline clip-path=\"url(#clip095)\" style=\"stroke:#70008f; stroke-linecap:butt; stroke-linejoin:round; stroke-width:4; stroke-opacity:1; fill:none\" points=\"\n",
       "  4368.76,627.314 4512.76,627.314 \n",
       "  \"/>\n",
       "<polyline clip-path=\"url(#clip095)\" style=\"stroke:#80007f; stroke-linecap:butt; stroke-linejoin:round; stroke-width:4; stroke-opacity:1; fill:none\" points=\"\n",
       "  4368.76,562.862 4512.76,562.862 \n",
       "  \"/>\n",
       "<polyline clip-path=\"url(#clip095)\" style=\"stroke:#8f0070; stroke-linecap:butt; stroke-linejoin:round; stroke-width:4; stroke-opacity:1; fill:none\" points=\"\n",
       "  4368.76,498.41 4512.76,498.41 \n",
       "  \"/>\n",
       "<polyline clip-path=\"url(#clip095)\" style=\"stroke:#9f0060; stroke-linecap:butt; stroke-linejoin:round; stroke-width:4; stroke-opacity:1; fill:none\" points=\"\n",
       "  4368.76,433.957 4512.76,433.957 \n",
       "  \"/>\n",
       "<polyline clip-path=\"url(#clip095)\" style=\"stroke:#af0050; stroke-linecap:butt; stroke-linejoin:round; stroke-width:4; stroke-opacity:1; fill:none\" points=\"\n",
       "  4368.76,369.505 4512.76,369.505 \n",
       "  \"/>\n",
       "<polyline clip-path=\"url(#clip095)\" style=\"stroke:#bf0040; stroke-linecap:butt; stroke-linejoin:round; stroke-width:4; stroke-opacity:1; fill:none\" points=\"\n",
       "  4368.76,305.053 4512.76,305.053 \n",
       "  \"/>\n",
       "<polyline clip-path=\"url(#clip095)\" style=\"stroke:#cf0030; stroke-linecap:butt; stroke-linejoin:round; stroke-width:4; stroke-opacity:1; fill:none\" points=\"\n",
       "  4368.76,240.601 4512.76,240.601 \n",
       "  \"/>\n",
       "<polyline clip-path=\"url(#clip095)\" style=\"stroke:#df0020; stroke-linecap:butt; stroke-linejoin:round; stroke-width:4; stroke-opacity:1; fill:none\" points=\"\n",
       "  4368.76,176.149 4512.76,176.149 \n",
       "  \"/>\n",
       "<polyline clip-path=\"url(#clip095)\" style=\"stroke:#ef0010; stroke-linecap:butt; stroke-linejoin:round; stroke-width:4; stroke-opacity:1; fill:none\" points=\"\n",
       "  4368.76,111.696 4512.76,111.696 \n",
       "  \"/>\n",
       "<path clip-path=\"url(#clip090)\" d=\"M4596.7 957.534 Q4593.09 957.534 4591.26 961.098 Q4589.45 964.64 4589.45 971.77 Q4589.45 978.876 4591.26 982.441 Q4593.09 985.983 4596.7 985.983 Q4600.33 985.983 4602.14 982.441 Q4603.97 978.876 4603.97 971.77 Q4603.97 964.64 4602.14 961.098 Q4600.33 957.534 4596.7 957.534 M4596.7 953.83 Q4602.51 953.83 4605.57 958.436 Q4608.64 963.02 4608.64 971.77 Q4608.64 980.496 4605.57 985.103 Q4602.51 989.686 4596.7 989.686 Q4590.89 989.686 4587.81 985.103 Q4584.76 980.496 4584.76 971.77 Q4584.76 963.02 4587.81 958.436 Q4590.89 953.83 4596.7 953.83 Z\" fill=\"#000000\" fill-rule=\"evenodd\" fill-opacity=\"1\" /><path clip-path=\"url(#clip090)\" d=\"M4616.86 983.135 L4621.75 983.135 L4621.75 989.015 L4616.86 989.015 L4616.86 983.135 Z\" fill=\"#000000\" fill-rule=\"evenodd\" fill-opacity=\"1\" /><path clip-path=\"url(#clip090)\" d=\"M4632.74 985.08 L4640.38 985.08 L4640.38 958.714 L4632.07 960.381 L4632.07 956.122 L4640.33 954.455 L4645.01 954.455 L4645.01 985.08 L4652.65 985.08 L4652.65 989.015 L4632.74 989.015 L4632.74 985.08 Z\" fill=\"#000000\" fill-rule=\"evenodd\" fill-opacity=\"1\" /><path clip-path=\"url(#clip090)\" d=\"M4596.7 854.409 Q4593.09 854.409 4591.26 857.974 Q4589.45 861.516 4589.45 868.645 Q4589.45 875.752 4591.26 879.316 Q4593.09 882.858 4596.7 882.858 Q4600.33 882.858 4602.14 879.316 Q4603.97 875.752 4603.97 868.645 Q4603.97 861.516 4602.14 857.974 Q4600.33 854.409 4596.7 854.409 M4596.7 850.706 Q4602.51 850.706 4605.57 855.312 Q4608.64 859.895 4608.64 868.645 Q4608.64 877.372 4605.57 881.978 Q4602.51 886.562 4596.7 886.562 Q4590.89 886.562 4587.81 881.978 Q4584.76 877.372 4584.76 868.645 Q4584.76 859.895 4587.81 855.312 Q4590.89 850.706 4596.7 850.706 Z\" fill=\"#000000\" fill-rule=\"evenodd\" fill-opacity=\"1\" /><path clip-path=\"url(#clip090)\" d=\"M4616.86 880.011 L4621.75 880.011 L4621.75 885.891 L4616.86 885.891 L4616.86 880.011 Z\" fill=\"#000000\" fill-rule=\"evenodd\" fill-opacity=\"1\" /><path clip-path=\"url(#clip090)\" d=\"M4635.96 881.955 L4652.28 881.955 L4652.28 885.891 L4630.33 885.891 L4630.33 881.955 Q4633 879.201 4637.58 874.571 Q4642.19 869.918 4643.37 868.576 Q4645.61 866.053 4646.49 864.317 Q4647.39 862.557 4647.39 860.867 Q4647.39 858.113 4645.45 856.377 Q4643.53 854.641 4640.43 854.641 Q4638.23 854.641 4635.77 855.405 Q4633.34 856.168 4630.57 857.719 L4630.57 852.997 Q4633.39 851.863 4635.84 851.284 Q4638.3 850.706 4640.33 850.706 Q4645.7 850.706 4648.9 853.391 Q4652.09 856.076 4652.09 860.567 Q4652.09 862.696 4651.28 864.617 Q4650.5 866.516 4648.39 869.108 Q4647.81 869.779 4644.71 872.997 Q4641.61 876.191 4635.96 881.955 Z\" fill=\"#000000\" fill-rule=\"evenodd\" fill-opacity=\"1\" /><path clip-path=\"url(#clip090)\" d=\"M4596.7 751.285 Q4593.09 751.285 4591.26 754.85 Q4589.45 758.391 4589.45 765.521 Q4589.45 772.627 4591.26 776.192 Q4593.09 779.734 4596.7 779.734 Q4600.33 779.734 4602.14 776.192 Q4603.97 772.627 4603.97 765.521 Q4603.97 758.391 4602.14 754.85 Q4600.33 751.285 4596.7 751.285 M4596.7 747.581 Q4602.51 747.581 4605.57 752.188 Q4608.64 756.771 4608.64 765.521 Q4608.64 774.248 4605.57 778.854 Q4602.51 783.437 4596.7 783.437 Q4590.89 783.437 4587.81 778.854 Q4584.76 774.248 4584.76 765.521 Q4584.76 756.771 4587.81 752.188 Q4590.89 747.581 4596.7 747.581 Z\" fill=\"#000000\" fill-rule=\"evenodd\" fill-opacity=\"1\" /><path clip-path=\"url(#clip090)\" d=\"M4616.86 776.887 L4621.75 776.887 L4621.75 782.766 L4616.86 782.766 L4616.86 776.887 Z\" fill=\"#000000\" fill-rule=\"evenodd\" fill-opacity=\"1\" /><path clip-path=\"url(#clip090)\" d=\"M4646.1 764.132 Q4649.45 764.85 4651.33 767.118 Q4653.23 769.387 4653.23 772.72 Q4653.23 777.836 4649.71 780.636 Q4646.19 783.437 4639.71 783.437 Q4637.53 783.437 4635.22 782.998 Q4632.93 782.581 4630.47 781.724 L4630.47 777.211 Q4632.42 778.345 4634.73 778.924 Q4637.05 779.502 4639.57 779.502 Q4643.97 779.502 4646.26 777.766 Q4648.58 776.03 4648.58 772.72 Q4648.58 769.664 4646.42 767.951 Q4644.29 766.215 4640.47 766.215 L4636.45 766.215 L4636.45 762.373 L4640.66 762.373 Q4644.11 762.373 4645.94 761.007 Q4647.76 759.618 4647.76 757.026 Q4647.76 754.363 4645.87 752.951 Q4643.99 751.516 4640.47 751.516 Q4638.55 751.516 4636.35 751.933 Q4634.15 752.35 4631.51 753.229 L4631.51 749.063 Q4634.18 748.322 4636.49 747.951 Q4638.83 747.581 4640.89 747.581 Q4646.21 747.581 4649.32 750.012 Q4652.42 752.419 4652.42 756.539 Q4652.42 759.41 4650.77 761.4 Q4649.13 763.368 4646.1 764.132 Z\" fill=\"#000000\" fill-rule=\"evenodd\" fill-opacity=\"1\" /><path clip-path=\"url(#clip090)\" d=\"M4596.7 648.16 Q4593.09 648.16 4591.26 651.725 Q4589.45 655.267 4589.45 662.396 Q4589.45 669.503 4591.26 673.068 Q4593.09 676.609 4596.7 676.609 Q4600.33 676.609 4602.14 673.068 Q4603.97 669.503 4603.97 662.396 Q4603.97 655.267 4602.14 651.725 Q4600.33 648.16 4596.7 648.16 M4596.7 644.457 Q4602.51 644.457 4605.57 649.063 Q4608.64 653.646 4608.64 662.396 Q4608.64 671.123 4605.57 675.73 Q4602.51 680.313 4596.7 680.313 Q4590.89 680.313 4587.81 675.73 Q4584.76 671.123 4584.76 662.396 Q4584.76 653.646 4587.81 649.063 Q4590.89 644.457 4596.7 644.457 Z\" fill=\"#000000\" fill-rule=\"evenodd\" fill-opacity=\"1\" /><path clip-path=\"url(#clip090)\" d=\"M4616.86 673.762 L4621.75 673.762 L4621.75 679.642 L4616.86 679.642 L4616.86 673.762 Z\" fill=\"#000000\" fill-rule=\"evenodd\" fill-opacity=\"1\" /><path clip-path=\"url(#clip090)\" d=\"M4644.78 649.156 L4632.97 667.605 L4644.78 667.605 L4644.78 649.156 M4643.55 645.082 L4649.43 645.082 L4649.43 667.605 L4654.36 667.605 L4654.36 671.494 L4649.43 671.494 L4649.43 679.642 L4644.78 679.642 L4644.78 671.494 L4629.18 671.494 L4629.18 666.98 L4643.55 645.082 Z\" fill=\"#000000\" fill-rule=\"evenodd\" fill-opacity=\"1\" /><path clip-path=\"url(#clip090)\" d=\"M4596.7 545.036 Q4593.09 545.036 4591.26 548.601 Q4589.45 552.142 4589.45 559.272 Q4589.45 566.378 4591.26 569.943 Q4593.09 573.485 4596.7 573.485 Q4600.33 573.485 4602.14 569.943 Q4603.97 566.378 4603.97 559.272 Q4603.97 552.142 4602.14 548.601 Q4600.33 545.036 4596.7 545.036 M4596.7 541.332 Q4602.51 541.332 4605.57 545.939 Q4608.64 550.522 4608.64 559.272 Q4608.64 567.999 4605.57 572.605 Q4602.51 577.189 4596.7 577.189 Q4590.89 577.189 4587.81 572.605 Q4584.76 567.999 4584.76 559.272 Q4584.76 550.522 4587.81 545.939 Q4590.89 541.332 4596.7 541.332 Z\" fill=\"#000000\" fill-rule=\"evenodd\" fill-opacity=\"1\" /><path clip-path=\"url(#clip090)\" d=\"M4616.86 570.638 L4621.75 570.638 L4621.75 576.517 L4616.86 576.517 L4616.86 570.638 Z\" fill=\"#000000\" fill-rule=\"evenodd\" fill-opacity=\"1\" /><path clip-path=\"url(#clip090)\" d=\"M4631.98 541.957 L4650.33 541.957 L4650.33 545.892 L4636.26 545.892 L4636.26 554.365 Q4637.28 554.017 4638.3 553.855 Q4639.32 553.67 4640.33 553.67 Q4646.12 553.67 4649.5 556.841 Q4652.88 560.013 4652.88 565.429 Q4652.88 571.008 4649.41 574.11 Q4645.94 577.189 4639.62 577.189 Q4637.44 577.189 4635.17 576.818 Q4632.93 576.448 4630.52 575.707 L4630.52 571.008 Q4632.6 572.142 4634.83 572.698 Q4637.05 573.253 4639.52 573.253 Q4643.53 573.253 4645.87 571.147 Q4648.2 569.04 4648.2 565.429 Q4648.2 561.818 4645.87 559.712 Q4643.53 557.605 4639.52 557.605 Q4637.65 557.605 4635.77 558.022 Q4633.92 558.439 4631.98 559.318 L4631.98 541.957 Z\" fill=\"#000000\" fill-rule=\"evenodd\" fill-opacity=\"1\" /><path clip-path=\"url(#clip090)\" d=\"M4596.7 441.912 Q4593.09 441.912 4591.26 445.476 Q4589.45 449.018 4589.45 456.148 Q4589.45 463.254 4591.26 466.819 Q4593.09 470.361 4596.7 470.361 Q4600.33 470.361 4602.14 466.819 Q4603.97 463.254 4603.97 456.148 Q4603.97 449.018 4602.14 445.476 Q4600.33 441.912 4596.7 441.912 M4596.7 438.208 Q4602.51 438.208 4605.57 442.814 Q4608.64 447.398 4608.64 456.148 Q4608.64 464.874 4605.57 469.481 Q4602.51 474.064 4596.7 474.064 Q4590.89 474.064 4587.81 469.481 Q4584.76 464.874 4584.76 456.148 Q4584.76 447.398 4587.81 442.814 Q4590.89 438.208 4596.7 438.208 Z\" fill=\"#000000\" fill-rule=\"evenodd\" fill-opacity=\"1\" /><path clip-path=\"url(#clip090)\" d=\"M4616.86 467.513 L4621.75 467.513 L4621.75 473.393 L4616.86 473.393 L4616.86 467.513 Z\" fill=\"#000000\" fill-rule=\"evenodd\" fill-opacity=\"1\" /><path clip-path=\"url(#clip090)\" d=\"M4642.51 454.249 Q4639.36 454.249 4637.51 456.402 Q4635.68 458.555 4635.68 462.305 Q4635.68 466.032 4637.51 468.208 Q4639.36 470.361 4642.51 470.361 Q4645.66 470.361 4647.49 468.208 Q4649.34 466.032 4649.34 462.305 Q4649.34 458.555 4647.49 456.402 Q4645.66 454.249 4642.51 454.249 M4651.79 439.597 L4651.79 443.856 Q4650.03 443.023 4648.23 442.583 Q4646.45 442.143 4644.69 442.143 Q4640.06 442.143 4637.6 445.268 Q4635.17 448.393 4634.83 454.712 Q4636.19 452.699 4638.25 451.634 Q4640.31 450.546 4642.79 450.546 Q4648 450.546 4651.01 453.717 Q4654.04 456.865 4654.04 462.305 Q4654.04 467.629 4650.89 470.847 Q4647.74 474.064 4642.51 474.064 Q4636.51 474.064 4633.34 469.481 Q4630.17 464.874 4630.17 456.148 Q4630.17 447.953 4634.06 443.092 Q4637.95 438.208 4644.5 438.208 Q4646.26 438.208 4648.04 438.555 Q4649.85 438.902 4651.79 439.597 Z\" fill=\"#000000\" fill-rule=\"evenodd\" fill-opacity=\"1\" /><path clip-path=\"url(#clip090)\" d=\"M4596.7 338.787 Q4593.09 338.787 4591.26 342.352 Q4589.45 345.894 4589.45 353.023 Q4589.45 360.13 4591.26 363.694 Q4593.09 367.236 4596.7 367.236 Q4600.33 367.236 4602.14 363.694 Q4603.97 360.13 4603.97 353.023 Q4603.97 345.894 4602.14 342.352 Q4600.33 338.787 4596.7 338.787 M4596.7 335.084 Q4602.51 335.084 4605.57 339.69 Q4608.64 344.273 4608.64 353.023 Q4608.64 361.75 4605.57 366.356 Q4602.51 370.94 4596.7 370.94 Q4590.89 370.94 4587.81 366.356 Q4584.76 361.75 4584.76 353.023 Q4584.76 344.273 4587.81 339.69 Q4590.89 335.084 4596.7 335.084 Z\" fill=\"#000000\" fill-rule=\"evenodd\" fill-opacity=\"1\" /><path clip-path=\"url(#clip090)\" d=\"M4616.86 364.389 L4621.75 364.389 L4621.75 370.268 L4616.86 370.268 L4616.86 364.389 Z\" fill=\"#000000\" fill-rule=\"evenodd\" fill-opacity=\"1\" /><path clip-path=\"url(#clip090)\" d=\"M4630.75 335.708 L4652.97 335.708 L4652.97 337.699 L4640.43 370.268 L4635.54 370.268 L4647.35 339.644 L4630.75 339.644 L4630.75 335.708 Z\" fill=\"#000000\" fill-rule=\"evenodd\" fill-opacity=\"1\" /><path clip-path=\"url(#clip090)\" d=\"M4596.7 235.663 Q4593.09 235.663 4591.26 239.228 Q4589.45 242.769 4589.45 249.899 Q4589.45 257.005 4591.26 260.57 Q4593.09 264.112 4596.7 264.112 Q4600.33 264.112 4602.14 260.57 Q4603.97 257.005 4603.97 249.899 Q4603.97 242.769 4602.14 239.228 Q4600.33 235.663 4596.7 235.663 M4596.7 231.959 Q4602.51 231.959 4605.57 236.566 Q4608.64 241.149 4608.64 249.899 Q4608.64 258.626 4605.57 263.232 Q4602.51 267.815 4596.7 267.815 Q4590.89 267.815 4587.81 263.232 Q4584.76 258.626 4584.76 249.899 Q4584.76 241.149 4587.81 236.566 Q4590.89 231.959 4596.7 231.959 Z\" fill=\"#000000\" fill-rule=\"evenodd\" fill-opacity=\"1\" /><path clip-path=\"url(#clip090)\" d=\"M4616.86 261.264 L4621.75 261.264 L4621.75 267.144 L4616.86 267.144 L4616.86 261.264 Z\" fill=\"#000000\" fill-rule=\"evenodd\" fill-opacity=\"1\" /><path clip-path=\"url(#clip090)\" d=\"M4641.93 250.732 Q4638.6 250.732 4636.68 252.515 Q4634.78 254.297 4634.78 257.422 Q4634.78 260.547 4636.68 262.329 Q4638.6 264.112 4641.93 264.112 Q4645.26 264.112 4647.19 262.329 Q4649.11 260.524 4649.11 257.422 Q4649.11 254.297 4647.19 252.515 Q4645.29 250.732 4641.93 250.732 M4637.26 248.741 Q4634.25 248.001 4632.56 245.941 Q4630.89 243.88 4630.89 240.917 Q4630.89 236.774 4633.83 234.366 Q4636.79 231.959 4641.93 231.959 Q4647.09 231.959 4650.03 234.366 Q4652.97 236.774 4652.97 240.917 Q4652.97 243.88 4651.28 245.941 Q4649.62 248.001 4646.63 248.741 Q4650.01 249.528 4651.89 251.82 Q4653.78 254.112 4653.78 257.422 Q4653.78 262.445 4650.7 265.13 Q4647.65 267.815 4641.93 267.815 Q4636.21 267.815 4633.14 265.13 Q4630.08 262.445 4630.08 257.422 Q4630.08 254.112 4631.98 251.82 Q4633.88 249.528 4637.26 248.741 M4635.54 241.357 Q4635.54 244.042 4637.21 245.547 Q4638.9 247.052 4641.93 247.052 Q4644.94 247.052 4646.63 245.547 Q4648.34 244.042 4648.34 241.357 Q4648.34 238.672 4646.63 237.167 Q4644.94 235.663 4641.93 235.663 Q4638.9 235.663 4637.21 237.167 Q4635.54 238.672 4635.54 241.357 Z\" fill=\"#000000\" fill-rule=\"evenodd\" fill-opacity=\"1\" /><path clip-path=\"url(#clip090)\" d=\"M4596.7 132.538 Q4593.09 132.538 4591.26 136.103 Q4589.45 139.645 4589.45 146.774 Q4589.45 153.881 4591.26 157.446 Q4593.09 160.987 4596.7 160.987 Q4600.33 160.987 4602.14 157.446 Q4603.97 153.881 4603.97 146.774 Q4603.97 139.645 4602.14 136.103 Q4600.33 132.538 4596.7 132.538 M4596.7 128.835 Q4602.51 128.835 4605.57 133.441 Q4608.64 138.024 4608.64 146.774 Q4608.64 155.501 4605.57 160.108 Q4602.51 164.691 4596.7 164.691 Q4590.89 164.691 4587.81 160.108 Q4584.76 155.501 4584.76 146.774 Q4584.76 138.024 4587.81 133.441 Q4590.89 128.835 4596.7 128.835 Z\" fill=\"#000000\" fill-rule=\"evenodd\" fill-opacity=\"1\" /><path clip-path=\"url(#clip090)\" d=\"M4616.86 158.14 L4621.75 158.14 L4621.75 164.02 L4616.86 164.02 L4616.86 158.14 Z\" fill=\"#000000\" fill-rule=\"evenodd\" fill-opacity=\"1\" /><path clip-path=\"url(#clip090)\" d=\"M4632.07 163.302 L4632.07 159.043 Q4633.83 159.876 4635.64 160.316 Q4637.44 160.756 4639.18 160.756 Q4643.81 160.756 4646.24 157.654 Q4648.69 154.529 4649.04 148.186 Q4647.7 150.177 4645.64 151.242 Q4643.58 152.307 4641.08 152.307 Q4635.89 152.307 4632.86 149.182 Q4629.85 146.034 4629.85 140.594 Q4629.85 135.27 4633 132.052 Q4636.14 128.835 4641.38 128.835 Q4647.37 128.835 4650.52 133.441 Q4653.69 138.024 4653.69 146.774 Q4653.69 154.946 4649.8 159.83 Q4645.94 164.691 4639.39 164.691 Q4637.63 164.691 4635.82 164.344 Q4634.01 163.997 4632.07 163.302 M4641.38 148.649 Q4644.52 148.649 4646.35 146.497 Q4648.2 144.344 4648.2 140.594 Q4648.2 136.867 4646.35 134.714 Q4644.52 132.538 4641.38 132.538 Q4638.23 132.538 4636.38 134.714 Q4634.55 136.867 4634.55 140.594 Q4634.55 144.344 4636.38 146.497 Q4638.23 148.649 4641.38 148.649 Z\" fill=\"#000000\" fill-rule=\"evenodd\" fill-opacity=\"1\" /><path clip-path=\"url(#clip090)\" d=\"M4585.43 56.9601 L4593.07 56.9601 L4593.07 30.5945 L4584.76 32.2612 L4584.76 28.002 L4593.02 26.3353 L4597.7 26.3353 L4597.7 56.9601 L4605.33 56.9601 L4605.33 60.8953 L4585.43 60.8953 L4585.43 56.9601 Z\" fill=\"#000000\" fill-rule=\"evenodd\" fill-opacity=\"1\" /><path clip-path=\"url(#clip090)\" d=\"M4614.78 55.0157 L4619.66 55.0157 L4619.66 60.8953 L4614.78 60.8953 L4614.78 55.0157 Z\" fill=\"#000000\" fill-rule=\"evenodd\" fill-opacity=\"1\" /><path clip-path=\"url(#clip090)\" d=\"M4639.85 29.414 Q4636.24 29.414 4634.41 32.9788 Q4632.6 36.5204 4632.6 43.65 Q4632.6 50.7565 4634.41 54.3213 Q4636.24 57.8629 4639.85 57.8629 Q4643.48 57.8629 4645.29 54.3213 Q4647.12 50.7565 4647.12 43.65 Q4647.12 36.5204 4645.29 32.9788 Q4643.48 29.414 4639.85 29.414 M4639.85 25.7103 Q4645.66 25.7103 4648.71 30.3168 Q4651.79 34.9001 4651.79 43.65 Q4651.79 52.3768 4648.71 56.9833 Q4645.66 61.5666 4639.85 61.5666 Q4634.04 61.5666 4630.96 56.9833 Q4627.9 52.3768 4627.9 43.65 Q4627.9 34.9001 4630.96 30.3168 Q4634.04 25.7103 4639.85 25.7103 Z\" fill=\"#000000\" fill-rule=\"evenodd\" fill-opacity=\"1\" /><polyline clip-path=\"url(#clip090)\" style=\"stroke:#000000; stroke-linecap:butt; stroke-linejoin:round; stroke-width:4; stroke-opacity:1; fill:none\" points=\"\n",
       "  4512.76,1078.48 4512.76,975.364 4560.76,975.364 4512.76,975.364 4512.76,872.239 4560.76,872.239 4512.76,872.239 4512.76,769.115 4560.76,769.115 4512.76,769.115 \n",
       "  4512.76,665.991 4560.76,665.991 4512.76,665.991 4512.76,562.866 4560.76,562.866 4512.76,562.866 4512.76,459.742 4560.76,459.742 4512.76,459.742 4512.76,356.617 \n",
       "  4560.76,356.617 4512.76,356.617 4512.76,253.493 4560.76,253.493 4512.76,253.493 4512.76,150.368 4560.76,150.368 4512.76,150.368 4512.76,47.2441 4560.76,47.2441 \n",
       "  4512.76,47.2441 \n",
       "  \"/>\n",
       "</svg>\n"
      ]
     },
     "execution_count": 262,
     "metadata": {},
     "output_type": "execute_result"
    }
   ],
   "source": [
    "using StatsFuns: normcdf\n",
    "classification_map = map((x) -> normcdf(dot([1,1],x)), map((x) -> forward(inferred_model, [x...]), collect(Iterators.product(0:0.01:3, 0:0.01:1))))\n",
    "im1 = scatter(data_x[:,1], data_x[:,2], xlabel=\"gain 1\", ylabel=\"gain 2\", color=dat_to_col(data_y))\n",
    "im2 = scatter(data_x[:,1], data_x[:,2], xlabel=\"gain 1\", ylabel=\"gain 2\", color=dat_to_col(round.(normcdf.(trans_data_x_2))))\n",
    "im3 = contour(0.0:0.1:2.5, 0.0:0.01:1, (x, y) -> normcdf(dot([1, 1], forward(inferred_model, [x, y]))), color=[\"blue\", \"red\"])\n",
    "plot(im1, im2, im3, legend=false, layout=(1, 3), size=(1200, 300))"
   ]
  },
  {
   "cell_type": "markdown",
   "id": "superior-fetish",
   "metadata": {},
   "source": [
    "## Planning\n",
    "Few things must be said about the planning stage. \n",
    "First of all, the idea of planning is a reverse problem to prefernce learning. \n",
    "Given the parameters of neural network, the goal prior for the appraisal (1.0) and an informative prior for the future context (we have an idea of how the environment evolves), we want to infer the most suitable gains.\n",
    "The evolution of the context will be based on HMM model, where the observations are \n",
    "\n",
    "For illustration purposes, we will first run the inference algorithm to obtain **z** and **x**. Secondly, we run our agent that proposes gains."
   ]
  },
  {
   "cell_type": "code",
   "execution_count": 325,
   "id": "demographic-language",
   "metadata": {},
   "outputs": [
    {
     "data": {
      "text/plain": [
       "flow_planner (generic function with 1 method)"
      ]
     },
     "execution_count": 325,
     "metadata": {},
     "output_type": "execute_result"
    }
   ],
   "source": [
    "@model function flow_planner(params)\n",
    "    \n",
    "    # initialize variables\n",
    "    y_goal = datavar(Float64)\n",
    "\n",
    "    # specify model\n",
    "    model = FlowModel( (AdditiveCouplingLayer(         PlanarFlow(params[1],  params[2],  params[3])),\n",
    "                        ReverseAdditiveCouplingLayer(  PlanarFlow(params[4],  params[5],  params[6])),\n",
    "                        AdditiveCouplingLayer(         PlanarFlow(params[7],  params[8],  params[9])),\n",
    "                        ReverseAdditiveCouplingLayer(  PlanarFlow(params[10], params[11], params[12]))))\n",
    "    meta  = FlowMeta(model) \n",
    "\n",
    "    x_lat ~ MvNormalMeanPrecision(ones(2), 1e-5*diagm(ones(2)))\n",
    "\n",
    "    # specify transformed latent value\n",
    "    y_lat1 ~ Flow(x_lat) where { meta = meta }\n",
    "    y_lat2 ~ dot(y_lat1, [1, 1])\n",
    "\n",
    "    # specify observations\n",
    "    y_goal ~ Probit(y_lat2)\n",
    "#     y_goal ~ Bernoulli(y_goal)\n",
    "    \n",
    "\n",
    "    # return variables\n",
    "    return x_lat, y_lat1, y_lat2, y_goal\n",
    "\n",
    "end"
   ]
  },
  {
   "cell_type": "code",
   "execution_count": 326,
   "id": "happy-gospel",
   "metadata": {},
   "outputs": [],
   "source": [
    "function inference_flow_planner(data_y::Float64, params)\n",
    "    \n",
    "\n",
    "    # define model\n",
    "    model, (x_lat, y_lat1, y_lat2, y_goal) = flow_planner(params)\n",
    "\n",
    "    x_buffer = nothing\n",
    "    xsub = subscribe!(getmarginal(x_lat), (mx) -> x_buffer = mx)\n",
    "    \n",
    "    # initialize free energy\n",
    "    fe_buffer = keep(Real)\n",
    "    \n",
    "    # subscribe\n",
    "    fe_sub = subscribe!(score(BetheFreeEnergy(), model), fe_buffer)\n",
    "    \n",
    "#     setmarginal!(y_lat3, vague(Bernoulli))\n",
    "    \n",
    "    # update y and x according to observations (i.e. perform inference)\n",
    "    for i in 1:10\n",
    "        ReactiveMP.update!(y_goal, data_y)\n",
    "    end\n",
    "    # unsubscribe\n",
    "    unsubscribe!(fe_sub)\n",
    "    \n",
    "    # return the marginal values\n",
    "    return fe_buffer, x_buffer\n",
    "\n",
    "end;"
   ]
  },
  {
   "cell_type": "code",
   "execution_count": 327,
   "id": "elect-killer",
   "metadata": {},
   "outputs": [
    {
     "data": {
      "text/plain": [
       "(KeepActor{Real}(Real[Inf, Inf, Inf, Inf, Inf, Inf, Inf, Inf, Inf, Inf]), Marginal(MvNormalWeightedMeanPrecision(\n",
       "xi: [-0.004803072782765448, -0.0029981704891187968]\n",
       "Λ: [2.3787826134614766e-5 8.617391084134228e-6; 8.617391084134226e-6 1.5385869302583892e-5]\n",
       ")\n",
       "))"
      ]
     },
     "execution_count": 327,
     "metadata": {},
     "output_type": "execute_result"
    }
   ],
   "source": [
    "fe, gains = inference_flow_planner(0.1, params)"
   ]
  },
  {
   "cell_type": "code",
   "execution_count": 328,
   "id": "developing-experience",
   "metadata": {},
   "outputs": [
    {
     "data": {
      "text/plain": [
       "2-element Vector{Float64}:\n",
       " -164.74787185346287\n",
       " -102.59242529855561"
      ]
     },
     "execution_count": 328,
     "metadata": {},
     "output_type": "execute_result"
    }
   ],
   "source": [
    "mean(gains)"
   ]
  },
  {
   "cell_type": "code",
   "execution_count": 34,
   "id": "differential-simulation",
   "metadata": {},
   "outputs": [],
   "source": [
    "test_files = get_sounds_fn(\"sound/AIDA/test/\");"
   ]
  },
  {
   "cell_type": "code",
   "execution_count": 25,
   "id": "virtual-contact",
   "metadata": {},
   "outputs": [
    {
     "name": "stdout",
     "output_type": "stream",
     "text": [
      "sound/AIDA/test/sp09_train_sn0.wav\n"
     ]
    },
    {
     "name": "stderr",
     "output_type": "stream",
     "text": [
      "\u001b[32mProgress: 100%|█████████████████████████████████████████| Time: 0:04:12\u001b[39m\n"
     ]
    },
    {
     "name": "stdout",
     "output_type": "stream",
     "text": [
      "sound/AIDA/test/sp10_train_sn0.wav\n"
     ]
    },
    {
     "name": "stderr",
     "output_type": "stream",
     "text": [
      "\u001b[32mProgress: 100%|█████████████████████████████████████████| Time: 0:04:19\u001b[39m\n"
     ]
    },
    {
     "name": "stdout",
     "output_type": "stream",
     "text": [
      "sound/AIDA/test/sp11_babble_sn0.wav\n"
     ]
    },
    {
     "name": "stderr",
     "output_type": "stream",
     "text": [
      "\u001b[32mProgress: 100%|█████████████████████████████████████████| Time: 0:05:01\u001b[39m\n"
     ]
    },
    {
     "name": "stdout",
     "output_type": "stream",
     "text": [
      "sound/AIDA/test/sp12_babble_sn0.wav\n"
     ]
    },
    {
     "name": "stderr",
     "output_type": "stream",
     "text": [
      "\u001b[32mProgress: 100%|█████████████████████████████████████████| Time: 0:04:01\u001b[39m\n"
     ]
    },
    {
     "name": "stdout",
     "output_type": "stream",
     "text": [
      "sound/AIDA/test/sp13_babble_sn0.wav\n"
     ]
    },
    {
     "name": "stderr",
     "output_type": "stream",
     "text": [
      "\u001b[32mProgress: 100%|█████████████████████████████████████████| Time: 0:03:17\u001b[39m\n"
     ]
    },
    {
     "name": "stdout",
     "output_type": "stream",
     "text": [
      "sound/AIDA/test/sp14_babble_sn0.wav\n"
     ]
    },
    {
     "name": "stderr",
     "output_type": "stream",
     "text": [
      "\u001b[32mProgress: 100%|█████████████████████████████████████████| Time: 0:03:43\u001b[39m\n"
     ]
    },
    {
     "name": "stdout",
     "output_type": "stream",
     "text": [
      "sound/AIDA/test/sp15_babble_sn0.wav\n"
     ]
    },
    {
     "name": "stderr",
     "output_type": "stream",
     "text": [
      "\u001b[32mProgress: 100%|█████████████████████████████████████████| Time: 0:03:42\u001b[39m\n"
     ]
    },
    {
     "name": "stdout",
     "output_type": "stream",
     "text": [
      "sound/AIDA/test/sp16_babble_sn0.wav\n"
     ]
    },
    {
     "name": "stderr",
     "output_type": "stream",
     "text": [
      "\u001b[32mProgress: 100%|█████████████████████████████████████████| Time: 0:02:57\u001b[39m\n"
     ]
    },
    {
     "name": "stdout",
     "output_type": "stream",
     "text": [
      "sound/AIDA/test/sp17_babble_sn0.wav\n"
     ]
    },
    {
     "name": "stderr",
     "output_type": "stream",
     "text": [
      "\u001b[32mProgress: 100%|█████████████████████████████████████████| Time: 0:03:01\u001b[39m\n"
     ]
    },
    {
     "name": "stdout",
     "output_type": "stream",
     "text": [
      "sound/AIDA/test/sp18_babble_sn0.wav\n"
     ]
    },
    {
     "name": "stderr",
     "output_type": "stream",
     "text": [
      "\u001b[32mProgress: 100%|█████████████████████████████████████████| Time: 0:03:04\u001b[39m\n"
     ]
    },
    {
     "name": "stdout",
     "output_type": "stream",
     "text": [
      "sound/AIDA/test/sp19_babble_sn0.wav\n"
     ]
    },
    {
     "name": "stderr",
     "output_type": "stream",
     "text": [
      "\u001b[32mProgress: 100%|█████████████████████████████████████████| Time: 0:03:49\u001b[39m\n"
     ]
    },
    {
     "name": "stdout",
     "output_type": "stream",
     "text": [
      "sound/AIDA/test/sp20_babble_sn0.wav\n"
     ]
    },
    {
     "name": "stderr",
     "output_type": "stream",
     "text": [
      "\u001b[32mProgress: 100%|█████████████████████████████████████████| Time: 0:03:48\u001b[39m\n"
     ]
    }
   ],
   "source": [
    "# obtain HA output for test set (data for acting)\n",
    "using JLD\n",
    "# r for recovered\n",
    "for test_file in test_files\n",
    "    println(test_file)\n",
    "    speech, fs = WAV.wavread(test_file)\n",
    "    speech_seg = get_frames(speech, fs)\n",
    "    # choose priors\n",
    "    priors_eta = occursin(\"babble\", test_file) ? (bblmη_arr, bblvη_arr) : (trmη_arr, trvη_arr)\n",
    "    priors_tau = occursin(\"babble\", test_file) ? bblτ_arr : trτ_arr\n",
    "    \n",
    "    # make sure that 1D of priors and speech_seg are equal\n",
    "    if size(priors_eta, 1) != size(speech_seg, 1)\n",
    "        totseg = size(speech_seg, 1)\n",
    "        priors_eta_m, priors_eta_v, priors_tau = prior_to_priors(priors_eta[1][1, :]', priors_eta[2][1, :, :], priors_tau[1], totseg)\n",
    "        priors_eta = priors_eta_m, priors_eta_v\n",
    "    end\n",
    "    rmz, rvz, rmθ, rvθ, rγ, rmx, rvx, rmη, rvη, rτ, fe, rmo = HA_algorithm(speech_seg, priors_eta, priors_tau, 10, 2, 10);\n",
    "    \n",
    "    JLD.save(\"sound/AIDA/separated_jld/test/\"*test_file[findfirst(\"sp\", test_file)[1]:end][1:end-3]*\"jld\",\n",
    "         \"rmz\", rmz, \"rvz\", rvz, \"rmθ\", rmθ, \"rvθ\", rvθ, \"rγ\", rγ, \n",
    "         \"rmx\", rmx, \"rvx\", rvx, \"rmη\", rmη, \"rvη\", rvη, \"rτ\", rτ,\n",
    "         \"fe\", fe, \"rmo\", rmo, \"filename\", test_file,\n",
    "         \"audio\", speech)\n",
    "end"
   ]
  },
  {
   "cell_type": "code",
   "execution_count": 87,
   "id": "physical-surface",
   "metadata": {},
   "outputs": [],
   "source": [
    "test_jlds = get_sounds_fn(\"sound/AIDA/separated_jld/test/\");"
   ]
  },
  {
   "cell_type": "code",
   "execution_count": 89,
   "id": "historic-quarterly",
   "metadata": {},
   "outputs": [],
   "source": [
    "# Here agent plans and learns\n",
    "for test_jld in test_jlds\n",
    "    d = JLD.load(test_jld)\n",
    "    rmz, rmx = d[\"rmz\"], d[\"rmx\"]\n",
    "    filename = d[\"filename\"]\n",
    "    context = occursin(\"babble\", filename) ? 1.0 : 0.0\n",
    "    rz, rx = get_signal(rmz, fs), get_signal(rmx, fs)\n",
    "    # TODO change to the output of flow_nn\n",
    "    gs = sample_gains(context, Float64.(θ))\n",
    "    ha_out = gs[1] .* rz + gs[2] .* rx\n",
    "    # TODO: we can learn here as well. If the user provides a feedback to each proposal, we can feed this information back to our learning function.\n",
    "    WAV.wavwrite(ha_out, fs, \"sound/AIDA/planning/ha_out_$(gs[1])_$(gs[2])_\"*filename[findfirst(\"sp\", filename)[1]:end])\n",
    "end"
   ]
  }
 ],
 "metadata": {
  "kernelspec": {
   "display_name": "Julia 1.6.0",
   "language": "julia",
   "name": "julia-1.6"
  },
  "language_info": {
   "file_extension": ".jl",
   "mimetype": "application/julia",
   "name": "julia",
   "version": "1.6.0"
  }
 },
 "nbformat": 4,
 "nbformat_minor": 5
}
