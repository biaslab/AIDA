{
 "cells": [
  {
   "cell_type": "markdown",
   "id": "indirect-female",
   "metadata": {},
   "source": [
    "# Active Inference Design Agent (demo)"
   ]
  },
  {
   "cell_type": "code",
   "execution_count": 1,
   "id": "encouraging-crime",
   "metadata": {},
   "outputs": [
    {
     "name": "stderr",
     "output_type": "stream",
     "text": [
      "┌ Info: Precompiling ReactiveMP [a194aa59-28ba-4574-a09c-4a745416d6e3]\n",
      "└ @ Base loading.jl:1317\n",
      "┌ Info: Precompiling Plots [91a5bcdd-55d7-5caf-9e0b-520d859cae80]\n",
      "└ @ Base loading.jl:1317\n"
     ]
    }
   ],
   "source": [
    "using JLD\n",
    "using Revise\n",
    "using Rocket\n",
    "using ReactiveMP\n",
    "using GraphPPL\n",
    "using Distributions\n",
    "using LinearAlgebra\n",
    "using Random \n",
    "import ProgressMeter\n",
    "using WAV\n",
    "using Plots\n",
    "using ImageCore"
   ]
  },
  {
   "cell_type": "code",
   "execution_count": 2,
   "id": "polished-plastic",
   "metadata": {},
   "outputs": [
    {
     "ename": "InterruptException",
     "evalue": "InterruptException:",
     "output_type": "error",
     "traceback": [
      "InterruptException:",
      "",
      "Stacktrace:",
      "  [1] limitstringmime(mime::MIME{Symbol(\"text/plain\")}, x::Function)",
      "    @ IJulia ~/.julia/packages/IJulia/e8kqU/src/inline.jl:43",
      "  [2] display_mimestring(m::MIME{Symbol(\"text/plain\")}, x::Function)",
      "    @ IJulia ~/.julia/packages/IJulia/e8kqU/src/display.jl:71",
      "  [3] display_dict(x::Function)",
      "    @ IJulia ~/.julia/packages/IJulia/e8kqU/src/display.jl:102",
      "  [4] #invokelatest#2",
      "    @ ./essentials.jl:708 [inlined]",
      "  [5] invokelatest",
      "    @ ./essentials.jl:706 [inlined]",
      "  [6] execute_request(socket::ZMQ.Socket, msg::IJulia.Msg)",
      "    @ IJulia ~/.julia/packages/IJulia/e8kqU/src/execute_request.jl:112",
      "  [7] #invokelatest#2",
      "    @ ./essentials.jl:708 [inlined]",
      "  [8] invokelatest",
      "    @ ./essentials.jl:706 [inlined]",
      "  [9] eventloop(socket::ZMQ.Socket)",
      "    @ IJulia ~/.julia/packages/IJulia/e8kqU/src/eventloop.jl:8",
      " [10] (::IJulia.var\"#15#18\")()",
      "    @ IJulia ./task.jl:406"
     ]
    }
   ],
   "source": [
    "# include auxilary functions for data processing\n",
    "include(\"helpers/aida_segmentation.jl\")\n",
    "# include SNR quality metric\n",
    "include(\"helpers/aida_snr.jl\")\n",
    "# include SNR quality metric\n",
    "include(\"helpers/aida_ar.jl\")\n",
    "# include models and corresponding inference algos\n",
    "include(\"models_inferences.jl\")"
   ]
  },
  {
   "cell_type": "code",
   "execution_count": 3,
   "id": "tamil-paraguay",
   "metadata": {},
   "outputs": [
    {
     "data": {
      "text/plain": [
       "get_sounds_fn (generic function with 1 method)"
      ]
     },
     "execution_count": 3,
     "metadata": {},
     "output_type": "execute_result"
    }
   ],
   "source": [
    "# return list of files from dir_name\n",
    "function get_sounds_fn(dir_name)\n",
    "    file_names = []\n",
    "    for (root, dirs, files) in walkdir(dir_name)\n",
    "        for file in files\n",
    "            push!(file_names, joinpath(root, file)) # path to files\n",
    "        end\n",
    "    end\n",
    "    file_names\n",
    "end"
   ]
  },
  {
   "cell_type": "code",
   "execution_count": 4,
   "id": "standing-dakota",
   "metadata": {},
   "outputs": [
    {
     "data": {
      "text/plain": [
       "8000"
      ]
     },
     "execution_count": 4,
     "metadata": {},
     "output_type": "execute_result"
    }
   ],
   "source": [
    "fs = 8000"
   ]
  },
  {
   "cell_type": "markdown",
   "id": "controlling-elite",
   "metadata": {},
   "source": [
    "In this demo we will work with two different contexts (environemtns): babble and train noises. \n",
    "\n",
    "You can think of a user who keeps wandering around a train station: sometimes train arrives and he/she hears the train noises. When there is no train arriving to the platform, the user hears the babble from people waiting for the train.\n",
    "When someone starts talking to the user he would (maybe) prefer to damp the environmental noise and focus only on the speaker.\n",
    "\n",
    "Another possible scenario you can think of is the user who steps out of the train and goes to the bar, where people produce babble noise :D "
   ]
  },
  {
   "cell_type": "markdown",
   "id": "deadly-acrobat",
   "metadata": {},
   "source": [
    "## Let's obtain priors for the environment"
   ]
  },
  {
   "cell_type": "markdown",
   "id": "foster-reduction",
   "metadata": {},
   "source": [
    "To make our model identifiabile, we would like to obtain priors for the environmental noises. To do this, we use Voice-Activity-Detection (VAD) to find the silent segments (with no speech). When those frames are identified, we fit them to AR model of order 2 to learn the parameters of AR.\n",
    "\n",
    "Surely, you can obtain the priors based on different logic. (to discuss (1) it doesn't have to be AR, (2) it doesn't have to be VAD)"
   ]
  },
  {
   "cell_type": "code",
   "execution_count": 5,
   "id": "economic-station",
   "metadata": {},
   "outputs": [
    {
     "data": {
      "text/plain": [
       "376"
      ]
     },
     "execution_count": 5,
     "metadata": {},
     "output_type": "execute_result"
    }
   ],
   "source": [
    "# Load sound from .wav\n",
    "babble, fs = wavread(\"sound/AIDA/training/babble/0dB/sp01_babble_sn0.wav\")\n",
    "# split babble into overlapping segments (default 0.01s=10ms, 0.0025=2.5ms)\n",
    "bbl_seg = get_frames(babble, fs)\n",
    "# compute number of segments\n",
    "bbl_totseg = size(bbl_seg, 1)"
   ]
  },
  {
   "cell_type": "code",
   "execution_count": 6,
   "id": "nearby-auction",
   "metadata": {},
   "outputs": [
    {
     "data": {
      "text/plain": [
       "376"
      ]
     },
     "execution_count": 6,
     "metadata": {},
     "output_type": "execute_result"
    }
   ],
   "source": [
    "train, fs = wavread(\"sound/AIDA/training/train/0dB/sp01_train_sn0.wav\")\n",
    "tr_seg = get_frames(train, fs)\n",
    "tr_totseg = size(tr_seg, 1)"
   ]
  },
  {
   "cell_type": "code",
   "execution_count": 7,
   "id": "likely-complexity",
   "metadata": {},
   "outputs": [],
   "source": [
    "# Priors for contexts were obtained through running VAD-AR block\n",
    "# prior for train noise\n",
    "trmη = [0.34546575880691316 -0.16774278649436555]\n",
    "trvη = [0.00972993440498344 -0.0027103005529199036; -0.0027103005529199036 0.004281987640515784]\n",
    "# trτ  = (41.0, 0.03644943410647206)\n",
    "trτ  = (41.0, 0.05)\n",
    "\n",
    "# prior for babble noise\n",
    "bblmη = [1.1192255902602752 -0.43086292293101314]\n",
    "bblvη = [0.007837790430663492 -0.005039080815241558; -0.005039080815241558 0.00596413119195013]\n",
    "# bblτ  = (41.0, 0.0029780512310493387);\n",
    "bblτ  = (41.0, 0.05);"
   ]
  },
  {
   "cell_type": "markdown",
   "id": "recognized-lincoln",
   "metadata": {},
   "source": [
    "### VAD block\n",
    "You can skip this entire block if you used priors from the above cell."
   ]
  },
  {
   "cell_type": "code",
   "execution_count": 132,
   "id": "affiliated-rubber",
   "metadata": {},
   "outputs": [
    {
     "data": {
      "text/plain": [
       "lar_inference_ex (generic function with 1 method)"
      ]
     },
     "execution_count": 132,
     "metadata": {},
     "output_type": "execute_result"
    }
   ],
   "source": [
    "include(\"models/everything.jl\")"
   ]
  },
  {
   "cell_type": "code",
   "execution_count": 133,
   "id": "hundred-ranch",
   "metadata": {},
   "outputs": [
    {
     "data": {
      "text/plain": [
       "ar_ssm (generic function with 1 method)"
      ]
     },
     "execution_count": 133,
     "metadata": {},
     "output_type": "execute_result"
    }
   ],
   "source": [
    "import WAV\n",
    "include(\"helpers/aida_segmentation.jl\")\n",
    "include(\"helpers/aida_ar.jl\")"
   ]
  },
  {
   "cell_type": "code",
   "execution_count": 13,
   "id": "agreed-spell",
   "metadata": {},
   "outputs": [
    {
     "data": {
      "text/plain": [
       "376"
      ]
     },
     "execution_count": 13,
     "metadata": {},
     "output_type": "execute_result"
    }
   ],
   "source": [
    "# Choose the auido signal from where you intend to extract the parameters\n",
    "# context_seg = bbl_seg\n",
    "# totseg = bbl_totseg\n",
    "context_seg = tr_seg\n",
    "totseg = tr_totseg"
   ]
  },
  {
   "cell_type": "code",
   "execution_count": 144,
   "id": "electoral-interference",
   "metadata": {},
   "outputs": [],
   "source": [
    "ar_order = 10\n",
    "vmp_iter = 50\n",
    "fe_ar = zeros(totseg, vmp_iter)\n",
    "fe_gaussian = zeros(totseg, vmp_iter);"
   ]
  },
  {
   "cell_type": "code",
   "execution_count": 145,
   "id": "computational-stanford",
   "metadata": {},
   "outputs": [
    {
     "name": "stderr",
     "output_type": "stream",
     "text": [
      "\u001b[32mProgress: 100%|█████████████████████████████████████████| Time: 0:10:28\u001b[39m\n"
     ]
    }
   ],
   "source": [
    "ProgressMeter.@showprogress for segnum in 1:totseg\n",
    "    inputs, outputs = ar_ssm(context_seg[segnum, :], ar_order)\n",
    "    γ, τ, θ, x, fe = lar_inference_ex(outputs, ar_order, vmp_iter)\n",
    "    mθ, vθ = mean(θ), cov(θ)\n",
    "    mγ = mean(γ)\n",
    "    fe_ar[segnum, :] = fe\n",
    "    \n",
    "    x, γ, fe = inference_gaussian(outputs, vmp_iter, 1e4)\n",
    "    mx, vx = mean(x), cov(x)\n",
    "    mγ = mean(γ)\n",
    "    fe_gaussian[segnum, :] = fe\n",
    "end"
   ]
  },
  {
   "cell_type": "code",
   "execution_count": 146,
   "id": "atomic-malta",
   "metadata": {},
   "outputs": [],
   "source": [
    "# detect silent frames based on model comparison\n",
    "vad = [x[end] < y[end] for (x, y) in zip(eachrow(fe_ar), eachrow(fe_gaussian))];"
   ]
  },
  {
   "cell_type": "code",
   "execution_count": 147,
   "id": "rubber-induction",
   "metadata": {},
   "outputs": [],
   "source": [
    "rsegs = findall(isequal(1), vad)\n",
    "nsegs = findall(isequal(0), vad);"
   ]
  },
  {
   "cell_type": "code",
   "execution_count": 148,
   "id": "single-gregory",
   "metadata": {},
   "outputs": [
    {
     "data": {
      "text/plain": [
       "15.743337043226559"
      ]
     },
     "execution_count": 148,
     "metadata": {},
     "output_type": "execute_result"
    }
   ],
   "source": [
    "inv(var(sum([context_seg[nseg, :] for nseg in nsegs])))"
   ]
  },
  {
   "cell_type": "code",
   "execution_count": 149,
   "id": "thorough-valve",
   "metadata": {},
   "outputs": [
    {
     "name": "stderr",
     "output_type": "stream",
     "text": [
      "\u001b[32mProgress: 100%|█████████████████████████████████████████| Time: 0:00:08\u001b[39m\n"
     ]
    }
   ],
   "source": [
    "cmx, cvx, cmη, cvη, cτ = lar_batch_learning(hcat([context_seg[nseg, :] for nseg in nsegs]...)', 2, 10, 1e-12);"
   ]
  },
  {
   "cell_type": "code",
   "execution_count": 152,
   "id": "located-partner",
   "metadata": {},
   "outputs": [
    {
     "name": "stdout",
     "output_type": "stream",
     "text": [
      "[0.34546575880691316 -0.16774278649436555], [0.009534157580617082 -0.0023172071341109046; -0.0023172071341109046 0.004737992984855385], , (41.0, 0.005006868523501751)\n"
     ]
    }
   ],
   "source": [
    "println(\"$(mean(cmη, dims=1)), $(mean(cvη, dims=1)[1, :, :]), , $((cτ[end][1], cτ[end][2]))\")"
   ]
  },
  {
   "cell_type": "code",
   "execution_count": 141,
   "id": "corrected-pencil",
   "metadata": {},
   "outputs": [],
   "source": [
    "# prior for babble noise\n",
    "bblmη = mean(cmη, dims=1)\n",
    "bblvη = mean(cvη, dims=1)[1, :, :]\n",
    "bblτ  = (cτ[end][1], cτ[end][2]);"
   ]
  },
  {
   "cell_type": "code",
   "execution_count": 151,
   "id": "illegal-atlantic",
   "metadata": {},
   "outputs": [
    {
     "data": {
      "text/plain": [
       "(41.0, 0.005006868523501751)"
      ]
     },
     "execution_count": 151,
     "metadata": {},
     "output_type": "execute_result"
    }
   ],
   "source": [
    "# Priors for contexts were obtained through running VAD block\n",
    "trmη = mean(cmη, dims=1)\n",
    "trvη = mean(cvη, dims=1)[1, :, :]\n",
    "trτ  = (cτ[end][1], cτ[end][2])"
   ]
  },
  {
   "cell_type": "markdown",
   "id": "unusual-pendant",
   "metadata": {},
   "source": [
    "## Source seperation\n",
    "When priors for the contexts are indentified, we can run noise reduction algorithm based on coupled AR: AR_speech + AR_envrionment = output. This algorithm seperates speech (**z**) and noise (**x**)\n",
    "\n",
    "We will split our dataset into training and test set. We use signals from training set to learn the mapping function between the gains proposed by agent and aprraisals provided by user. Bare in mind that this split is not necessary and in theory we can get along without it."
   ]
  },
  {
   "cell_type": "code",
   "execution_count": 39,
   "id": "prompt-windows",
   "metadata": {},
   "outputs": [
    {
     "data": {
      "text/plain": [
       "prior_to_priors (generic function with 1 method)"
      ]
     },
     "execution_count": 39,
     "metadata": {},
     "output_type": "execute_result"
    }
   ],
   "source": [
    "# coupled AR model is deisgned to work with time-varying priors for both speech and environmental noise\n",
    "# prior_to_priors map \"static\" priors to the corresponding matrices with equal elements\n",
    "function prior_to_priors(mη, vη, τ, totseg)\n",
    "    ar_order = size(mη, 2)\n",
    "    rmη = zeros(totseg, ar_order)\n",
    "    rvη = zeros(totseg, ar_order, ar_order)\n",
    "    for segnum in 1:totseg\n",
    "        rmη[segnum, :], rvη[segnum, :, :] = reshape(mη, (ar_order,)), vη\n",
    "    end\n",
    "    priors_eta = rmη, rvη\n",
    "    priors_tau = [τ for _ in 1:totseg]\n",
    "    priors_eta[1], priors_eta[2], priors_tau\n",
    "end"
   ]
  },
  {
   "cell_type": "code",
   "execution_count": 40,
   "id": "discrete-lexington",
   "metadata": {},
   "outputs": [],
   "source": [
    "trmη_arr, trvη_arr, trτ_arr = prior_to_priors(trmη, trvη, trτ, tr_totseg)\n",
    "bblmη_arr, bblvη_arr, bblτ_arr = prior_to_priors(bblmη, bblvη, bblτ, bbl_totseg);"
   ]
  },
  {
   "cell_type": "code",
   "execution_count": 42,
   "id": "oriented-charleston",
   "metadata": {},
   "outputs": [
    {
     "data": {
      "text/plain": [
       "HA_algorithm (generic function with 1 method)"
      ]
     },
     "execution_count": 42,
     "metadata": {},
     "output_type": "execute_result"
    }
   ],
   "source": [
    "function HA_algorithm(segments, priors_η, priors_τ, ar_1_order, ar_2_order, vmp_its)\n",
    "    \"\"\"Source seperation based on coupled AR model. Inference is performed in batch manner\n",
    "\n",
    "       segments: segmented audio signal\n",
    "       priors_η:   matrix of means and covariances of AR coefficients (see output formal of prior_to_priors\n",
    "       priors_τ:   array of tupes contatining the prior of environmental noise precision\n",
    "       ar_1_order: order of speech signal\n",
    "       ar_2_order: order of environmental noise signal\n",
    "       vmp_its:    number of variational iterations\n",
    "    \"\"\"\n",
    "    n_sources = 2\n",
    "    totseg = size(segments, 1)\n",
    "    l      = size(segments, 2) # dimensionality of the buffer\n",
    "    \n",
    "    rmx = zeros(totseg, l)\n",
    "    rvx = zeros(totseg, l)\n",
    "    rmθ = zeros(totseg, ar_1_order)\n",
    "    rvθ = zeros(totseg, ar_1_order, ar_1_order)\n",
    "    rγ = fill(tuple(.0, .0), totseg)\n",
    "    \n",
    "    rmz = zeros(totseg, l)\n",
    "    rvz = zeros(totseg, l)\n",
    "    rmη = zeros(totseg, ar_2_order)\n",
    "    rvη = zeros(totseg, ar_2_order, ar_2_order)\n",
    "    rτ = fill(tuple(.0, .0), totseg)\n",
    "    \n",
    "    fe  = zeros(totseg, vmp_its)\n",
    "    \n",
    "    rmo = zeros(totseg, l)\n",
    "    \n",
    "    # agent proposes gains according to its beliefs\n",
    "    ProgressMeter.@showprogress for segnum in 1:totseg\n",
    "        prior_η                           = (priors_η[1][segnum, :], priors_η[2][segnum, :, :])\n",
    "        prior_τ                           = priors_τ[segnum]\n",
    "        γ, θ, zs, τ, η, xs, fe[segnum, :] = coupled_inference(segments[segnum, :], prior_η, prior_τ, ar_1_order, ar_2_order, vmp_its)\n",
    "        mz, vz                            = mean.(zs), cov.(zs)\n",
    "        mθ, vθ                            = mean(θ), cov(θ)\n",
    "        rmz[segnum, :], rvz[segnum, :]    = first.(mz), first.(vz)\n",
    "        rmθ[segnum, :], rvθ[segnum, :, :] = mθ, vθ\n",
    "        rγ[segnum]                        = shape(γ), rate(γ)\n",
    "        \n",
    "        mx, vx                            = mean.(xs), cov.(xs)\n",
    "        mη, vη                            = mean(η), cov(η)\n",
    "        rmx[segnum, :], rvx[segnum, :]    = first.(mx), first.(vx)\n",
    "        rmη[segnum, :], rvη[segnum, :, :] = mη, vη\n",
    "        rτ[segnum]                        = shape(τ), rate(τ)\n",
    "        \n",
    "        # HA part\n",
    "        speech = rmz[segnum, :]\n",
    "        noise  = rmx[segnum, :]\n",
    "        rmo[segnum, :] = speech .+ noise\n",
    "    end\n",
    "    rmz, rvz, rmθ, rvθ, rγ, rmx, rvx, rmη, rvη, rτ, fe, rmo\n",
    "end"
   ]
  },
  {
   "cell_type": "markdown",
   "id": "indie-guyana",
   "metadata": {},
   "source": [
    "#### Obtain the outputs from HA"
   ]
  },
  {
   "cell_type": "code",
   "execution_count": 16,
   "id": "parliamentary-wichita",
   "metadata": {},
   "outputs": [
    {
     "data": {
      "text/plain": [
       "89-element Vector{Any}:\n",
       " \"sound/AIDA/training/.DS_Store\"\n",
       " \"sound/AIDA/training/babble/.DS_Store\"\n",
       " \"sound/AIDA/training/babble/0dB/.DS_Store\"\n",
       " \"sound/AIDA/training/babble/0dB/sp01_babble_sn0.wav\"\n",
       " \"sound/AIDA/training/babble/0dB/sp02_babble_sn0.wav\"\n",
       " \"sound/AIDA/training/babble/0dB/sp03_babble_sn0.wav\"\n",
       " \"sound/AIDA/training/babble/0dB/sp04_babble_sn0.wav\"\n",
       " \"sound/AIDA/training/babble/0dB/sp05_babble_sn0.wav\"\n",
       " \"sound/AIDA/training/babble/0dB/sp06_babble_sn0.wav\"\n",
       " \"sound/AIDA/training/babble/0dB/sp07_babble_sn0.wav\"\n",
       " \"sound/AIDA/training/babble/0dB/sp08_babble_sn0.wav\"\n",
       " \"sound/AIDA/training/babble/0dB/sp09_babble_sn0.wav\"\n",
       " \"sound/AIDA/training/babble/0dB/sp10_babble_sn0.wav\"\n",
       " ⋮\n",
       " \"sound/AIDA/training/train/0dB/sp09_train_sn0.wav\"\n",
       " \"sound/AIDA/training/train/0dB/sp10_train_sn0.wav\"\n",
       " \"sound/AIDA/training/train/0dB/sp11_train_sn0.wav\"\n",
       " \"sound/AIDA/training/train/0dB/sp12_train_sn0.wav\"\n",
       " \"sound/AIDA/training/train/0dB/sp13_train_sn0.wav\"\n",
       " \"sound/AIDA/training/train/0dB/sp14_train_sn0.wav\"\n",
       " \"sound/AIDA/training/train/0dB/sp15_train_sn0.wav\"\n",
       " \"sound/AIDA/training/train/0dB/sp16_train_sn0.wav\"\n",
       " \"sound/AIDA/training/train/0dB/sp17_train_sn0.wav\"\n",
       " \"sound/AIDA/training/train/0dB/sp18_train_sn0.wav\"\n",
       " \"sound/AIDA/training/train/0dB/sp19_train_sn0.wav\"\n",
       " \"sound/AIDA/training/train/0dB/sp20_train_sn0.wav\""
      ]
     },
     "execution_count": 16,
     "metadata": {},
     "output_type": "execute_result"
    }
   ],
   "source": [
    "training_files = get_sounds_fn(\"sound/AIDA/training\")"
   ]
  },
  {
   "cell_type": "code",
   "execution_count": 17,
   "id": "suitable-companion",
   "metadata": {},
   "outputs": [
    {
     "name": "stdout",
     "output_type": "stream",
     "text": [
      "sound/AIDA/training/babble/0dB/sp05_babble_sn0.wav\n"
     ]
    },
    {
     "data": {
      "text/plain": [
       "294×80 Matrix{Float64}:\n",
       " -0.0101016   -0.0143132   -0.0397656    …   0.00061037  -0.0360118\n",
       "  0.0959502    0.102451     0.0734275       -0.132481    -0.096408\n",
       " -0.0475784   -0.0173345   -0.0341197        0.00979644   0.017304\n",
       " -0.0299387   -0.0424512   -0.0852382        0.0191046    0.0619221\n",
       " -0.00543229  -0.0138249    0.0266427        0.0713218    0.0814844\n",
       "  0.0159612    0.0746178    0.0951567    …   0.0327769    0.0158696\n",
       " -0.123508    -0.0682394   -0.0294809       -0.0438246   -0.0236824\n",
       " -0.113529    -0.11359     -0.0176092       -0.0545671   -0.0472121\n",
       " -0.0150761   -0.0573138   -0.0483413        0.0200812    0.023072\n",
       "  0.00305185  -0.00897244  -0.037141         0.0422071    0.00637837\n",
       "  0.112766     0.0451064   -0.0314646    …   0.00613422  -0.0160833\n",
       " -0.037843    -0.00888089   0.00585955      -0.0687887   -0.13831\n",
       " -0.0147099   -0.00366222  -0.00299081       0.0211188   -0.0129398\n",
       "  ⋮                                      ⋱               \n",
       " -0.0194708   -0.042787    -0.0336314       -0.0878933    0.0401624\n",
       "  0.067629     0.0655843    0.0366222        0.058565     0.0552995\n",
       " -0.0913419   -0.046968     0.0317392        0.0103153   -0.0137638\n",
       " -0.0725425   -0.0450758   -0.000305185  …  -0.0285348   -0.0578936\n",
       " -0.0176397    0.017304     0.123325         0.0674154    0.0620746\n",
       "  0.0460524    0.0390027    0.0194403        0.0846889    0.0543229\n",
       "  0.0837123    0.143895     0.115726        -0.0175787   -0.0802942\n",
       " -0.00570696  -0.0339976   -0.0308847       -0.0219123   -0.0514542\n",
       " -0.0317392   -0.064272    -0.0553301    …  -0.0624409    0.0660726\n",
       "  0.00454726   0.0267953    0.0021363        0.110019     0.0631733\n",
       "  0.0765099    0.0745872    0.0749229       -0.0473037   -0.0616169\n",
       "  0.00375378  -0.00933866  -0.00183111       0.0          0.0"
      ]
     },
     "execution_count": 17,
     "metadata": {},
     "output_type": "execute_result"
    }
   ],
   "source": [
    "# Check for how the data is organized\n",
    "training_file = training_files[8]\n",
    "println(training_file)\n",
    "speech, fs = WAV.wavread(training_file)\n",
    "speech_seg = get_frames(speech, fs)"
   ]
  },
  {
   "cell_type": "markdown",
   "id": "european-recipient",
   "metadata": {},
   "source": [
    "At this stage we run our inference algorithm to seperate **z** and **x**. We write the output into *.jld* files.\n",
    "\n",
    "You don't need to run this snippet if you haven't changed the default parameters of HA_algorithm and priors (just see *sound/AIDA/separated_jld/training/*)"
   ]
  },
  {
   "cell_type": "code",
   "execution_count": 19,
   "id": "satisfied-pakistan",
   "metadata": {},
   "outputs": [
    {
     "name": "stdout",
     "output_type": "stream",
     "text": [
      "sound/AIDA/training/babble/0dB/sp01_babble_sn0.wav\n"
     ]
    },
    {
     "name": "stderr",
     "output_type": "stream",
     "text": [
      "\u001b[32mProgress: 100%|█████████████████████████████████████████| Time: 0:04:10\u001b[39m\n"
     ]
    },
    {
     "name": "stdout",
     "output_type": "stream",
     "text": [
      "sound/AIDA/training/babble/0dB/sp02_babble_sn0.wav\n"
     ]
    },
    {
     "name": "stderr",
     "output_type": "stream",
     "text": [
      "\u001b[32mProgress: 100%|█████████████████████████████████████████| Time: 0:03:44\u001b[39m\n"
     ]
    },
    {
     "name": "stdout",
     "output_type": "stream",
     "text": [
      "sound/AIDA/training/babble/0dB/sp03_babble_sn0.wav\n"
     ]
    },
    {
     "name": "stderr",
     "output_type": "stream",
     "text": [
      "\u001b[32mProgress: 100%|█████████████████████████████████████████| Time: 0:03:14\u001b[39m\n"
     ]
    },
    {
     "name": "stdout",
     "output_type": "stream",
     "text": [
      "sound/AIDA/training/babble/0dB/sp04_babble_sn0.wav\n"
     ]
    },
    {
     "name": "stderr",
     "output_type": "stream",
     "text": [
      "\u001b[32mProgress: 100%|█████████████████████████████████████████| Time: 0:03:01\u001b[39m\n"
     ]
    },
    {
     "name": "stdout",
     "output_type": "stream",
     "text": [
      "sound/AIDA/training/babble/0dB/sp05_babble_sn0.wav\n"
     ]
    },
    {
     "name": "stderr",
     "output_type": "stream",
     "text": [
      "\u001b[32mProgress: 100%|█████████████████████████████████████████| Time: 0:03:09\u001b[39m\n"
     ]
    },
    {
     "name": "stdout",
     "output_type": "stream",
     "text": [
      "sound/AIDA/training/babble/0dB/sp06_babble_sn0.wav\n"
     ]
    },
    {
     "name": "stderr",
     "output_type": "stream",
     "text": [
      "\u001b[32mProgress: 100%|█████████████████████████████████████████| Time: 0:03:43\u001b[39m\n"
     ]
    },
    {
     "name": "stdout",
     "output_type": "stream",
     "text": [
      "sound/AIDA/training/babble/0dB/sp07_babble_sn0.wav\n"
     ]
    },
    {
     "name": "stderr",
     "output_type": "stream",
     "text": [
      "\u001b[32mProgress: 100%|█████████████████████████████████████████| Time: 0:03:25\u001b[39m\n"
     ]
    },
    {
     "name": "stdout",
     "output_type": "stream",
     "text": [
      "sound/AIDA/training/babble/0dB/sp08_babble_sn0.wav\n"
     ]
    },
    {
     "name": "stderr",
     "output_type": "stream",
     "text": [
      "\u001b[32mProgress: 100%|█████████████████████████████████████████| Time: 0:03:53\u001b[39m\n"
     ]
    },
    {
     "name": "stdout",
     "output_type": "stream",
     "text": [
      "sound/AIDA/training/babble/0dB/sp09_babble_sn0.wav\n"
     ]
    },
    {
     "name": "stderr",
     "output_type": "stream",
     "text": [
      "\u001b[32mProgress: 100%|█████████████████████████████████████████| Time: 0:04:19\u001b[39m\n"
     ]
    },
    {
     "name": "stdout",
     "output_type": "stream",
     "text": [
      "sound/AIDA/training/babble/0dB/sp10_babble_sn0.wav\n"
     ]
    },
    {
     "name": "stderr",
     "output_type": "stream",
     "text": [
      "\u001b[32mProgress: 100%|█████████████████████████████████████████| Time: 0:04:11\u001b[39m\n"
     ]
    },
    {
     "name": "stdout",
     "output_type": "stream",
     "text": [
      "sound/AIDA/training/babble/0dB/sp11_babble_sn0.wav\n"
     ]
    },
    {
     "name": "stderr",
     "output_type": "stream",
     "text": [
      "\u001b[32mProgress: 100%|█████████████████████████████████████████| Time: 0:04:29\u001b[39m\n"
     ]
    },
    {
     "name": "stdout",
     "output_type": "stream",
     "text": [
      "sound/AIDA/training/babble/0dB/sp12_babble_sn0.wav\n"
     ]
    },
    {
     "name": "stderr",
     "output_type": "stream",
     "text": [
      "\u001b[32mProgress: 100%|█████████████████████████████████████████| Time: 0:04:12\u001b[39m\n"
     ]
    },
    {
     "name": "stdout",
     "output_type": "stream",
     "text": [
      "sound/AIDA/training/babble/0dB/sp13_babble_sn0.wav\n"
     ]
    },
    {
     "name": "stderr",
     "output_type": "stream",
     "text": [
      "\u001b[32mProgress: 100%|█████████████████████████████████████████| Time: 0:03:46\u001b[39m\n"
     ]
    },
    {
     "name": "stdout",
     "output_type": "stream",
     "text": [
      "sound/AIDA/training/babble/0dB/sp14_babble_sn0.wav\n"
     ]
    },
    {
     "name": "stderr",
     "output_type": "stream",
     "text": [
      "\u001b[32mProgress: 100%|█████████████████████████████████████████| Time: 0:04:36\u001b[39m\n"
     ]
    },
    {
     "name": "stdout",
     "output_type": "stream",
     "text": [
      "sound/AIDA/training/babble/0dB/sp15_babble_sn0.wav\n"
     ]
    },
    {
     "name": "stderr",
     "output_type": "stream",
     "text": [
      "\u001b[32mProgress: 100%|█████████████████████████████████████████| Time: 0:04:36\u001b[39m\n"
     ]
    },
    {
     "name": "stdout",
     "output_type": "stream",
     "text": [
      "sound/AIDA/training/babble/0dB/sp16_babble_sn0.wav\n"
     ]
    },
    {
     "name": "stderr",
     "output_type": "stream",
     "text": [
      "\u001b[32mProgress: 100%|█████████████████████████████████████████| Time: 0:03:41\u001b[39m\n"
     ]
    },
    {
     "name": "stdout",
     "output_type": "stream",
     "text": [
      "sound/AIDA/training/babble/0dB/sp17_babble_sn0.wav\n"
     ]
    },
    {
     "name": "stderr",
     "output_type": "stream",
     "text": [
      "\u001b[32mProgress: 100%|█████████████████████████████████████████| Time: 0:03:34\u001b[39m\n"
     ]
    },
    {
     "name": "stdout",
     "output_type": "stream",
     "text": [
      "sound/AIDA/training/babble/0dB/sp18_babble_sn0.wav\n"
     ]
    },
    {
     "name": "stderr",
     "output_type": "stream",
     "text": [
      "\u001b[32mProgress: 100%|█████████████████████████████████████████| Time: 0:03:09\u001b[39m\n"
     ]
    },
    {
     "name": "stdout",
     "output_type": "stream",
     "text": [
      "sound/AIDA/training/babble/0dB/sp19_babble_sn0.wav\n"
     ]
    },
    {
     "name": "stderr",
     "output_type": "stream",
     "text": [
      "\u001b[32mProgress: 100%|█████████████████████████████████████████| Time: 0:03:38\u001b[39m\n"
     ]
    },
    {
     "name": "stdout",
     "output_type": "stream",
     "text": [
      "sound/AIDA/training/babble/0dB/sp20_babble_sn0.wav\n"
     ]
    },
    {
     "name": "stderr",
     "output_type": "stream",
     "text": [
      "\u001b[32mProgress: 100%|█████████████████████████████████████████| Time: 0:03:32\u001b[39m\n"
     ]
    },
    {
     "name": "stdout",
     "output_type": "stream",
     "text": [
      "sound/AIDA/training/car/0dB/sp01_car_sn0.wav\n"
     ]
    },
    {
     "name": "stderr",
     "output_type": "stream",
     "text": [
      "\u001b[32mProgress: 100%|█████████████████████████████████████████| Time: 0:03:51\u001b[39m\n"
     ]
    },
    {
     "name": "stdout",
     "output_type": "stream",
     "text": [
      "sound/AIDA/training/car/0dB/sp02_car_sn0.wav\n"
     ]
    },
    {
     "name": "stderr",
     "output_type": "stream",
     "text": [
      "\u001b[32mProgress: 100%|█████████████████████████████████████████| Time: 0:03:36\u001b[39m\n"
     ]
    },
    {
     "name": "stdout",
     "output_type": "stream",
     "text": [
      "sound/AIDA/training/car/0dB/sp03_car_sn0.wav\n"
     ]
    },
    {
     "name": "stderr",
     "output_type": "stream",
     "text": [
      "\u001b[32mProgress: 100%|█████████████████████████████████████████| Time: 0:03:04\u001b[39m\n"
     ]
    },
    {
     "name": "stdout",
     "output_type": "stream",
     "text": [
      "sound/AIDA/training/car/0dB/sp04_car_sn0.wav\n"
     ]
    },
    {
     "name": "stderr",
     "output_type": "stream",
     "text": [
      "\u001b[32mProgress: 100%|█████████████████████████████████████████| Time: 0:02:53\u001b[39m\n"
     ]
    },
    {
     "name": "stdout",
     "output_type": "stream",
     "text": [
      "sound/AIDA/training/car/0dB/sp05_car_sn0.wav\n"
     ]
    },
    {
     "name": "stderr",
     "output_type": "stream",
     "text": [
      "\u001b[32mProgress: 100%|█████████████████████████████████████████| Time: 0:03:00\u001b[39m\n"
     ]
    },
    {
     "name": "stdout",
     "output_type": "stream",
     "text": [
      "sound/AIDA/training/car/0dB/sp06_car_sn0.wav\n"
     ]
    },
    {
     "name": "stderr",
     "output_type": "stream",
     "text": [
      "\u001b[32mProgress: 100%|█████████████████████████████████████████| Time: 0:03:43\u001b[39m\n"
     ]
    },
    {
     "name": "stdout",
     "output_type": "stream",
     "text": [
      "sound/AIDA/training/car/0dB/sp07_car_sn0.wav\n"
     ]
    },
    {
     "name": "stderr",
     "output_type": "stream",
     "text": [
      "\u001b[32mProgress: 100%|█████████████████████████████████████████| Time: 0:03:26\u001b[39m\n"
     ]
    },
    {
     "name": "stdout",
     "output_type": "stream",
     "text": [
      "sound/AIDA/training/car/0dB/sp08_car_sn0.wav\n"
     ]
    },
    {
     "name": "stderr",
     "output_type": "stream",
     "text": [
      "\u001b[32mProgress: 100%|█████████████████████████████████████████| Time: 0:03:52\u001b[39m\n"
     ]
    },
    {
     "name": "stdout",
     "output_type": "stream",
     "text": [
      "sound/AIDA/training/car/0dB/sp09_car_sn0.wav\n"
     ]
    },
    {
     "name": "stderr",
     "output_type": "stream",
     "text": [
      "\u001b[32mProgress: 100%|█████████████████████████████████████████| Time: 0:04:07\u001b[39m\n"
     ]
    },
    {
     "name": "stdout",
     "output_type": "stream",
     "text": [
      "sound/AIDA/training/car/0dB/sp10_car_sn0.wav\n"
     ]
    },
    {
     "name": "stderr",
     "output_type": "stream",
     "text": [
      "\u001b[32mProgress: 100%|█████████████████████████████████████████| Time: 0:03:40\u001b[39m\n"
     ]
    },
    {
     "name": "stdout",
     "output_type": "stream",
     "text": [
      "sound/AIDA/training/car/0dB/sp11_car_sn0.wav\n"
     ]
    },
    {
     "name": "stderr",
     "output_type": "stream",
     "text": [
      "\u001b[32mProgress: 100%|█████████████████████████████████████████| Time: 0:04:00\u001b[39m\n"
     ]
    },
    {
     "name": "stdout",
     "output_type": "stream",
     "text": [
      "sound/AIDA/training/car/0dB/sp12_car_sn0.wav\n"
     ]
    },
    {
     "name": "stderr",
     "output_type": "stream",
     "text": [
      "\u001b[32mProgress: 100%|█████████████████████████████████████████| Time: 0:03:46\u001b[39m\n"
     ]
    },
    {
     "name": "stdout",
     "output_type": "stream",
     "text": [
      "sound/AIDA/training/car/0dB/sp13_car_sn0.wav\n"
     ]
    },
    {
     "name": "stderr",
     "output_type": "stream",
     "text": [
      "\u001b[32mProgress: 100%|█████████████████████████████████████████| Time: 0:03:28\u001b[39m\n"
     ]
    },
    {
     "name": "stdout",
     "output_type": "stream",
     "text": [
      "sound/AIDA/training/car/0dB/sp14_car_sn0.wav\n"
     ]
    },
    {
     "name": "stderr",
     "output_type": "stream",
     "text": [
      "\u001b[32mProgress: 100%|█████████████████████████████████████████| Time: 0:04:02\u001b[39m\n"
     ]
    },
    {
     "name": "stdout",
     "output_type": "stream",
     "text": [
      "sound/AIDA/training/car/0dB/sp15_car_sn0.wav\n"
     ]
    },
    {
     "name": "stderr",
     "output_type": "stream",
     "text": [
      "\u001b[32mProgress: 100%|█████████████████████████████████████████| Time: 0:03:59\u001b[39m\n"
     ]
    },
    {
     "name": "stdout",
     "output_type": "stream",
     "text": [
      "sound/AIDA/training/car/0dB/sp16_car_sn0.wav\n"
     ]
    },
    {
     "name": "stderr",
     "output_type": "stream",
     "text": [
      "\u001b[32mProgress: 100%|█████████████████████████████████████████| Time: 0:03:10\u001b[39m\n"
     ]
    },
    {
     "name": "stdout",
     "output_type": "stream",
     "text": [
      "sound/AIDA/training/car/0dB/sp17_car_sn0.wav\n"
     ]
    },
    {
     "name": "stderr",
     "output_type": "stream",
     "text": [
      "\u001b[32mProgress: 100%|█████████████████████████████████████████| Time: 0:03:17\u001b[39m\n"
     ]
    },
    {
     "name": "stdout",
     "output_type": "stream",
     "text": [
      "sound/AIDA/training/car/0dB/sp18_car_sn0.wav\n"
     ]
    },
    {
     "name": "stderr",
     "output_type": "stream",
     "text": [
      "\u001b[32mProgress: 100%|█████████████████████████████████████████| Time: 0:03:07\u001b[39m\n"
     ]
    },
    {
     "name": "stdout",
     "output_type": "stream",
     "text": [
      "sound/AIDA/training/car/0dB/sp19_car_sn0.wav\n"
     ]
    },
    {
     "name": "stderr",
     "output_type": "stream",
     "text": [
      "\u001b[32mProgress: 100%|█████████████████████████████████████████| Time: 0:03:39\u001b[39m\n"
     ]
    },
    {
     "name": "stdout",
     "output_type": "stream",
     "text": [
      "sound/AIDA/training/car/0dB/sp20_car_sn0.wav\n"
     ]
    },
    {
     "name": "stderr",
     "output_type": "stream",
     "text": [
      "\u001b[32mProgress: 100%|█████████████████████████████████████████| Time: 0:03:32\u001b[39m\n"
     ]
    },
    {
     "name": "stdout",
     "output_type": "stream",
     "text": [
      "sound/AIDA/training/station/0dB/sp01_station_sn0.wav\n"
     ]
    },
    {
     "name": "stderr",
     "output_type": "stream",
     "text": [
      "\u001b[32mProgress: 100%|█████████████████████████████████████████| Time: 0:03:50\u001b[39m\n"
     ]
    },
    {
     "name": "stdout",
     "output_type": "stream",
     "text": [
      "sound/AIDA/training/station/0dB/sp02_station_sn0.wav\n"
     ]
    },
    {
     "name": "stderr",
     "output_type": "stream",
     "text": [
      "\u001b[32mProgress: 100%|█████████████████████████████████████████| Time: 0:03:35\u001b[39m\n"
     ]
    },
    {
     "name": "stdout",
     "output_type": "stream",
     "text": [
      "sound/AIDA/training/station/0dB/sp03_station_sn0.wav\n"
     ]
    },
    {
     "name": "stderr",
     "output_type": "stream",
     "text": [
      "\u001b[32mProgress: 100%|█████████████████████████████████████████| Time: 0:03:04\u001b[39m\n"
     ]
    },
    {
     "name": "stdout",
     "output_type": "stream",
     "text": [
      "sound/AIDA/training/station/0dB/sp04_station_sn0.wav\n"
     ]
    },
    {
     "name": "stderr",
     "output_type": "stream",
     "text": [
      "\u001b[32mProgress: 100%|█████████████████████████████████████████| Time: 0:02:54\u001b[39m\n"
     ]
    },
    {
     "name": "stdout",
     "output_type": "stream",
     "text": [
      "sound/AIDA/training/station/0dB/sp05_station_sn0.wav\n"
     ]
    },
    {
     "name": "stderr",
     "output_type": "stream",
     "text": [
      "\u001b[32mProgress: 100%|█████████████████████████████████████████| Time: 0:03:00\u001b[39m\n"
     ]
    },
    {
     "name": "stdout",
     "output_type": "stream",
     "text": [
      "sound/AIDA/training/station/0dB/sp06_station_sn0.wav\n"
     ]
    },
    {
     "name": "stderr",
     "output_type": "stream",
     "text": [
      "\u001b[32mProgress: 100%|█████████████████████████████████████████| Time: 0:03:45\u001b[39m\n"
     ]
    },
    {
     "name": "stdout",
     "output_type": "stream",
     "text": [
      "sound/AIDA/training/station/0dB/sp07_station_sn0.wav\n"
     ]
    },
    {
     "name": "stderr",
     "output_type": "stream",
     "text": [
      "\u001b[32mProgress: 100%|█████████████████████████████████████████| Time: 0:03:27\u001b[39m\n"
     ]
    },
    {
     "name": "stdout",
     "output_type": "stream",
     "text": [
      "sound/AIDA/training/station/0dB/sp08_station_sn0.wav\n"
     ]
    },
    {
     "name": "stderr",
     "output_type": "stream",
     "text": [
      "\u001b[32mProgress: 100%|█████████████████████████████████████████| Time: 0:03:53\u001b[39m\n"
     ]
    },
    {
     "name": "stdout",
     "output_type": "stream",
     "text": [
      "sound/AIDA/training/station/0dB/sp09_station_sn0.wav\n"
     ]
    },
    {
     "name": "stderr",
     "output_type": "stream",
     "text": [
      "\u001b[32mProgress: 100%|█████████████████████████████████████████| Time: 0:04:07\u001b[39m\n"
     ]
    },
    {
     "name": "stdout",
     "output_type": "stream",
     "text": [
      "sound/AIDA/training/station/0dB/sp10_station_sn0.wav\n"
     ]
    },
    {
     "name": "stderr",
     "output_type": "stream",
     "text": [
      "\u001b[32mProgress: 100%|█████████████████████████████████████████| Time: 0:03:40\u001b[39m\n"
     ]
    },
    {
     "name": "stdout",
     "output_type": "stream",
     "text": [
      "sound/AIDA/training/station/0dB/sp11_station_sn0.wav\n"
     ]
    },
    {
     "name": "stderr",
     "output_type": "stream",
     "text": [
      "\u001b[32mProgress: 100%|█████████████████████████████████████████| Time: 0:04:00\u001b[39m\n"
     ]
    },
    {
     "name": "stdout",
     "output_type": "stream",
     "text": [
      "sound/AIDA/training/station/0dB/sp12_station_sn0.wav\n"
     ]
    },
    {
     "name": "stderr",
     "output_type": "stream",
     "text": [
      "\u001b[32mProgress: 100%|█████████████████████████████████████████| Time: 0:03:46\u001b[39m\n"
     ]
    },
    {
     "name": "stdout",
     "output_type": "stream",
     "text": [
      "sound/AIDA/training/station/0dB/sp13_station_sn0.wav\n"
     ]
    },
    {
     "name": "stderr",
     "output_type": "stream",
     "text": [
      "\u001b[32mProgress: 100%|█████████████████████████████████████████| Time: 0:03:28\u001b[39m\n"
     ]
    },
    {
     "name": "stdout",
     "output_type": "stream",
     "text": [
      "sound/AIDA/training/station/0dB/sp14_station_sn0.wav\n"
     ]
    },
    {
     "name": "stderr",
     "output_type": "stream",
     "text": [
      "\u001b[32mProgress: 100%|█████████████████████████████████████████| Time: 0:04:00\u001b[39m\n"
     ]
    },
    {
     "name": "stdout",
     "output_type": "stream",
     "text": [
      "sound/AIDA/training/station/0dB/sp15_station_sn0.wav\n"
     ]
    },
    {
     "name": "stderr",
     "output_type": "stream",
     "text": [
      "\u001b[32mProgress: 100%|█████████████████████████████████████████| Time: 0:03:59\u001b[39m\n"
     ]
    },
    {
     "name": "stdout",
     "output_type": "stream",
     "text": [
      "sound/AIDA/training/station/0dB/sp16_station_sn0.wav\n"
     ]
    },
    {
     "name": "stderr",
     "output_type": "stream",
     "text": [
      "\u001b[32mProgress: 100%|█████████████████████████████████████████| Time: 0:03:09\u001b[39m\n"
     ]
    },
    {
     "name": "stdout",
     "output_type": "stream",
     "text": [
      "sound/AIDA/training/station/0dB/sp17_station_sn0.wav\n"
     ]
    },
    {
     "name": "stderr",
     "output_type": "stream",
     "text": [
      "\u001b[32mProgress: 100%|█████████████████████████████████████████| Time: 0:03:18\u001b[39m\n"
     ]
    },
    {
     "name": "stdout",
     "output_type": "stream",
     "text": [
      "sound/AIDA/training/station/0dB/sp18_station_sn0.wav\n"
     ]
    },
    {
     "name": "stderr",
     "output_type": "stream",
     "text": [
      "\u001b[32mProgress: 100%|█████████████████████████████████████████| Time: 0:03:08\u001b[39m\n"
     ]
    },
    {
     "name": "stdout",
     "output_type": "stream",
     "text": [
      "sound/AIDA/training/station/0dB/sp19_station_sn0.wav\n"
     ]
    },
    {
     "name": "stderr",
     "output_type": "stream",
     "text": [
      "\u001b[32mProgress: 100%|█████████████████████████████████████████| Time: 0:03:38\u001b[39m\n"
     ]
    },
    {
     "name": "stdout",
     "output_type": "stream",
     "text": [
      "sound/AIDA/training/station/0dB/sp20_station_sn0.wav\n"
     ]
    },
    {
     "name": "stderr",
     "output_type": "stream",
     "text": [
      "\u001b[32mProgress: 100%|█████████████████████████████████████████| Time: 0:03:33\u001b[39m\n"
     ]
    },
    {
     "name": "stdout",
     "output_type": "stream",
     "text": [
      "sound/AIDA/training/train/0dB/sp01_train_sn0.wav\n"
     ]
    },
    {
     "name": "stderr",
     "output_type": "stream",
     "text": [
      "\u001b[32mProgress: 100%|█████████████████████████████████████████| Time: 0:03:51\u001b[39m\n"
     ]
    },
    {
     "name": "stdout",
     "output_type": "stream",
     "text": [
      "sound/AIDA/training/train/0dB/sp02_train_sn0.wav\n"
     ]
    },
    {
     "name": "stderr",
     "output_type": "stream",
     "text": [
      "\u001b[32mProgress: 100%|█████████████████████████████████████████| Time: 0:03:37\u001b[39m\n"
     ]
    },
    {
     "name": "stdout",
     "output_type": "stream",
     "text": [
      "sound/AIDA/training/train/0dB/sp03_train_sn0.wav\n"
     ]
    },
    {
     "name": "stderr",
     "output_type": "stream",
     "text": [
      "\u001b[32mProgress: 100%|█████████████████████████████████████████| Time: 0:03:04\u001b[39m\n"
     ]
    },
    {
     "name": "stdout",
     "output_type": "stream",
     "text": [
      "sound/AIDA/training/train/0dB/sp04_train_sn0.wav\n"
     ]
    },
    {
     "name": "stderr",
     "output_type": "stream",
     "text": [
      "\u001b[32mProgress: 100%|█████████████████████████████████████████| Time: 0:02:54\u001b[39m\n"
     ]
    },
    {
     "name": "stdout",
     "output_type": "stream",
     "text": [
      "sound/AIDA/training/train/0dB/sp05_train_sn0.wav\n"
     ]
    },
    {
     "name": "stderr",
     "output_type": "stream",
     "text": [
      "\u001b[32mProgress: 100%|█████████████████████████████████████████| Time: 0:03:00\u001b[39m\n"
     ]
    },
    {
     "name": "stdout",
     "output_type": "stream",
     "text": [
      "sound/AIDA/training/train/0dB/sp06_train_sn0.wav\n"
     ]
    },
    {
     "name": "stderr",
     "output_type": "stream",
     "text": [
      "\u001b[32mProgress: 100%|█████████████████████████████████████████| Time: 0:03:44\u001b[39m\n"
     ]
    },
    {
     "name": "stdout",
     "output_type": "stream",
     "text": [
      "sound/AIDA/training/train/0dB/sp07_train_sn0.wav\n"
     ]
    },
    {
     "name": "stderr",
     "output_type": "stream",
     "text": [
      "\u001b[32mProgress: 100%|█████████████████████████████████████████| Time: 0:03:26\u001b[39m\n"
     ]
    },
    {
     "name": "stdout",
     "output_type": "stream",
     "text": [
      "sound/AIDA/training/train/0dB/sp08_train_sn0.wav\n"
     ]
    },
    {
     "name": "stderr",
     "output_type": "stream",
     "text": [
      "\u001b[32mProgress: 100%|█████████████████████████████████████████| Time: 0:03:54\u001b[39m\n"
     ]
    },
    {
     "name": "stdout",
     "output_type": "stream",
     "text": [
      "sound/AIDA/training/train/0dB/sp09_train_sn0.wav\n"
     ]
    },
    {
     "name": "stderr",
     "output_type": "stream",
     "text": [
      "\u001b[32mProgress: 100%|█████████████████████████████████████████| Time: 0:04:08\u001b[39m\n"
     ]
    },
    {
     "name": "stdout",
     "output_type": "stream",
     "text": [
      "sound/AIDA/training/train/0dB/sp10_train_sn0.wav\n"
     ]
    },
    {
     "name": "stderr",
     "output_type": "stream",
     "text": [
      "\u001b[32mProgress: 100%|█████████████████████████████████████████| Time: 0:03:39\u001b[39m\n"
     ]
    },
    {
     "name": "stdout",
     "output_type": "stream",
     "text": [
      "sound/AIDA/training/train/0dB/sp11_train_sn0.wav\n"
     ]
    },
    {
     "name": "stderr",
     "output_type": "stream",
     "text": [
      "\u001b[32mProgress: 100%|█████████████████████████████████████████| Time: 0:04:00\u001b[39m\n"
     ]
    },
    {
     "name": "stdout",
     "output_type": "stream",
     "text": [
      "sound/AIDA/training/train/0dB/sp12_train_sn0.wav\n"
     ]
    },
    {
     "name": "stderr",
     "output_type": "stream",
     "text": [
      "\u001b[32mProgress: 100%|█████████████████████████████████████████| Time: 0:03:46\u001b[39m\n"
     ]
    },
    {
     "name": "stdout",
     "output_type": "stream",
     "text": [
      "sound/AIDA/training/train/0dB/sp13_train_sn0.wav\n"
     ]
    },
    {
     "name": "stderr",
     "output_type": "stream",
     "text": [
      "\u001b[32mProgress: 100%|█████████████████████████████████████████| Time: 0:03:28\u001b[39m\n"
     ]
    },
    {
     "name": "stdout",
     "output_type": "stream",
     "text": [
      "sound/AIDA/training/train/0dB/sp14_train_sn0.wav\n"
     ]
    },
    {
     "name": "stderr",
     "output_type": "stream",
     "text": [
      "\u001b[32mProgress: 100%|█████████████████████████████████████████| Time: 0:04:00\u001b[39m\n"
     ]
    },
    {
     "name": "stdout",
     "output_type": "stream",
     "text": [
      "sound/AIDA/training/train/0dB/sp15_train_sn0.wav\n"
     ]
    },
    {
     "name": "stderr",
     "output_type": "stream",
     "text": [
      "\u001b[32mProgress: 100%|█████████████████████████████████████████| Time: 0:03:59\u001b[39m\n"
     ]
    },
    {
     "name": "stdout",
     "output_type": "stream",
     "text": [
      "sound/AIDA/training/train/0dB/sp16_train_sn0.wav\n"
     ]
    },
    {
     "name": "stderr",
     "output_type": "stream",
     "text": [
      "\u001b[32mProgress: 100%|█████████████████████████████████████████| Time: 0:03:11\u001b[39m\n"
     ]
    },
    {
     "name": "stdout",
     "output_type": "stream",
     "text": [
      "sound/AIDA/training/train/0dB/sp17_train_sn0.wav\n"
     ]
    },
    {
     "name": "stderr",
     "output_type": "stream",
     "text": [
      "\u001b[32mProgress: 100%|█████████████████████████████████████████| Time: 0:03:17\u001b[39m\n"
     ]
    },
    {
     "name": "stdout",
     "output_type": "stream",
     "text": [
      "sound/AIDA/training/train/0dB/sp18_train_sn0.wav\n"
     ]
    },
    {
     "name": "stderr",
     "output_type": "stream",
     "text": [
      "\u001b[32mProgress: 100%|█████████████████████████████████████████| Time: 0:03:09\u001b[39m\n"
     ]
    },
    {
     "name": "stdout",
     "output_type": "stream",
     "text": [
      "sound/AIDA/training/train/0dB/sp19_train_sn0.wav\n"
     ]
    },
    {
     "name": "stderr",
     "output_type": "stream",
     "text": [
      "\u001b[32mProgress: 100%|█████████████████████████████████████████| Time: 0:03:38\u001b[39m\n"
     ]
    },
    {
     "name": "stdout",
     "output_type": "stream",
     "text": [
      "sound/AIDA/training/train/0dB/sp20_train_sn0.wav\n"
     ]
    },
    {
     "name": "stderr",
     "output_type": "stream",
     "text": [
      "\u001b[32mProgress: 100%|█████████████████████████████████████████| Time: 0:03:32\u001b[39m\n"
     ]
    }
   ],
   "source": [
    "# r for recovered\n",
    "for training_file in training_files\n",
    "    if !occursin(\".wav\", training_file)\n",
    "        continue\n",
    "    end\n",
    "    \n",
    "    if occursin(\"/babble/\", training_file)\n",
    "        priors_eta = (bblmη_arr, bblvη_arr)\n",
    "        priors_tau = bblτ_arr\n",
    "    elseif occursin(\"/train/\", training_file)\n",
    "        priors_eta = (trmη_arr, trvη_arr)\n",
    "        priors_tau = trτ_arr\n",
    "    else\n",
    "        continue\n",
    "    end\n",
    "    println(training_file)\n",
    "    speech, fs = WAV.wavread(training_file)\n",
    "    speech_seg = get_frames(speech, fs)\n",
    "    \n",
    "    # make sure that 1D of priors and speech_seg are equal\n",
    "    if size(priors_eta, 1) != size(speech_seg, 1)\n",
    "        totseg = size(speech_seg, 1)\n",
    "        priors_eta_m, priors_eta_v, priors_tau = prior_to_priors(priors_eta[1][1, :]', priors_eta[2][1, :, :], priors_tau[1], totseg)\n",
    "        priors_eta = priors_eta_m, priors_eta_v\n",
    "    end\n",
    "    rmz, rvz, rmθ, rvθ, rγ, rmx, rvx, rmη, rvη, rτ, fe, rmo = HA_algorithm(speech_seg, priors_eta, priors_tau, 10, 2, 10);\n",
    "    \n",
    "    JLD.save(\"sound/AIDA/separated_jld/training/\"*training_file[findfirst(\"sp\", training_file)[1]:end][1:end-3]*\"jld\",\n",
    "         \"rmz\", rmz, \"rvz\", rvz, \"rmθ\", rmθ, \"rvθ\", rvθ, \"rγ\", rγ, \n",
    "         \"rmx\", rmx, \"rvx\", rvx, \"rmη\", rmη, \"rvη\", rvη, \"rτ\", rτ,\n",
    "         \"fe\", fe, \"rmo\", rmo, \"filename\", training_file,\n",
    "         \"audio\", speech)\n",
    "end"
   ]
  },
  {
   "cell_type": "markdown",
   "id": "interim-support",
   "metadata": {},
   "source": [
    "### Preference learning stage"
   ]
  },
  {
   "cell_type": "markdown",
   "id": "unable-universe",
   "metadata": {},
   "source": [
    "#### Generate outputs of HA from JLD files"
   ]
  },
  {
   "cell_type": "code",
   "execution_count": 28,
   "id": "western-genome",
   "metadata": {},
   "outputs": [],
   "source": [
    "# obtain saved jld files containing inference result\n",
    "training_jlds = get_sounds_fn(\"sound/AIDA/separated_jld/training/\");"
   ]
  },
  {
   "cell_type": "code",
   "execution_count": 33,
   "id": "encouraging-battlefield",
   "metadata": {},
   "outputs": [],
   "source": [
    "# initialize gains that agent randomly assigns to the outputs of HA\n",
    "agent_gains = [[2.0, 1.0], [1.0, 0.0], [0.5, 0.5], [0.9, 0.3], [2.5, 1.0], [0.9, 0.1], [0.7, 0.2], [0.2, 0.7], [2.0, 0.0]];"
   ]
  },
  {
   "cell_type": "code",
   "execution_count": 34,
   "id": "wrapped-catholic",
   "metadata": {},
   "outputs": [],
   "source": [
    "# this snippet generates new ha outputs\n",
    "for training_jld in training_jlds\n",
    "    # read file\n",
    "    d = JLD.load(training_jld)\n",
    "    filename = d[\"filename\"]\n",
    "    # extract speech\n",
    "    rmz, rmx = d[\"rmz\"], d[\"rmx\"]\n",
    "    # extract noise\n",
    "    rz, rx = get_signal(rmz, fs), get_signal(rmx, fs)\n",
    "    # pick weights \n",
    "    whgs = rand(agent_gains) # can be changed to a smarter function\n",
    "    # create output\n",
    "    ha_out = whgs[1] .* rz + whgs[2] .* rx\n",
    "    # write wav file\n",
    "    WAV.wavwrite(ha_out, fs, \"sound/AIDA/preference_learning/ha_out_$(whgs[1])_$(whgs[2])_\"*filename[findfirst(\"sp\", filename)[1]:end])\n",
    "end"
   ]
  },
  {
   "cell_type": "markdown",
   "id": "fantastic-chart",
   "metadata": {},
   "source": [
    "#### Create pairs (gains, context) <-> appraisals"
   ]
  },
  {
   "cell_type": "code",
   "execution_count": 8,
   "id": "proved-petroleum",
   "metadata": {},
   "outputs": [],
   "source": [
    "# Recorded gains and appraisals \n",
    "# If you want to generate new pairs, please procceed with listening\n",
    "gains = [[0.2, 0.7], [0.2, 0.7], [0.2, 0.7], [0.2, 0.7], [0.2, 0.7], [0.5, 0.5], [0.5, 0.5], [0.5, 0.5], [0.7, 0.2], [0.7, 0.2], [0.7, 0.2], [0.7, 0.2], [0.7, 0.2], [0.7, 0.2], [0.7, 0.2], [0.7, 0.2], [0.9, 0.1], [0.9, 0.1], [0.9, 0.1], [0.9, 0.3], [0.9, 0.3], [1.0, 0.0], [1.0, 0.0], [1.0, 0.0], [1.0, 0.0], [1.0, 0.0], [1.0, 0.0], [1.0, 0.0], [2.0, 0.0], [2.0, 0.0], [2.0, 0.0], [2.0, 0.0], [2.0, 0.0], [2.0, 0.0], [2.0, 0.0], [2.0, 1.0], [2.0, 1.0], [2.5, 1.0], [2.5, 1.0], [2.5, 1.0]]\n",
    "appraisals = [0.6, 0.0, 0.0, 0.7, 0.0, 1.0, 0.5, 0.2, 0.0, 0.8, 1.0, 1.0, 0.3, 0.0, 0.0, 1.0, 1.0, 0.4, 0.8, 0.0, 0.3, 0.5, 0.9, 0.7, 1.0, 0.4, 0.5, 0.8, 0.9, 0.8, 0.6, 0.1, 0.1, 0.1, 0.3, 0.9, 0.0, 0.1, 0.5, 0.5]\n",
    "contexts = [1.0, 1.0, 1.0, 0.0, 1.0, 0.0, 0.0, 1.0, 1.0, 0.0, 1.0, 1.0, 0.0, 1.0, 1.0, 1.0, 1.0, 0.0, 0.0, 1.0, 0.0, 1.0, 0.0, 0.0, 1.0, 0.0, 0.0, 0.0, 1.0, 1.0, 0.0, 0.0, 1.0, 0.0, 0.0, 0.0, 0.0, 1.0, 0.0, 1.0];\n",
    "pl_dict = Dict(:gains => gains, :appraisals => appraisals, :contexts => contexts);"
   ]
  },
  {
   "cell_type": "code",
   "execution_count": 9,
   "id": "unlikely-watershed",
   "metadata": {},
   "outputs": [],
   "source": [
    "prl_files = get_sounds_fn(\"sound/AIDA/preference_learning/\");"
   ]
  },
  {
   "cell_type": "markdown",
   "id": "posted-tissue",
   "metadata": {},
   "source": [
    "#### Listening"
   ]
  },
  {
   "cell_type": "markdown",
   "id": "stone-still",
   "metadata": {},
   "source": [
    "User gets to listen new audio samples with proposed gains. After each listening he/she evaluates the performance of HA output by binary feedback."
   ]
  },
  {
   "cell_type": "code",
   "execution_count": 13,
   "id": "caroline-singer",
   "metadata": {},
   "outputs": [
    {
     "data": {
      "text/plain": [
       "get_learning_data (generic function with 2 methods)"
      ]
     },
     "execution_count": 13,
     "metadata": {},
     "output_type": "execute_result"
    }
   ],
   "source": [
    "function get_learning_data(preferences::Dict, context, jitter=1e-3)\n",
    "    idx = findall(isequal(context), preferences[:contexts])\n",
    "    gains = preferences[:gains]\n",
    "    appraisals = preferences[:appraisals]\n",
    "    tgains = vcat(hcat(gains...)', hcat(gains...)', hcat(gains...)')\n",
    "    tappraisals = vcat(appraisals, appraisals, appraisals)\n",
    "    \n",
    "    # augmentation of the dataset with copies\n",
    "    y = tappraisals\n",
    "    X = tgains .+ sqrt(jitter)*randn(size(tgains))\n",
    "    \n",
    "    return X, y\n",
    "end"
   ]
  },
  {
   "cell_type": "code",
   "execution_count": 11,
   "id": "addressed-departure",
   "metadata": {},
   "outputs": [
    {
     "name": "stdout",
     "output_type": "stream",
     "text": [
      "How's HA output 1, 0 ?\n"
     ]
    },
    {
     "name": "stdin",
     "output_type": "stream",
     "text": [
      "stdin>  0.6\n"
     ]
    },
    {
     "name": "stdout",
     "output_type": "stream",
     "text": [
      "How's HA output 1, 0 ?\n"
     ]
    },
    {
     "name": "stdin",
     "output_type": "stream",
     "text": [
      "stdin>  0\n"
     ]
    },
    {
     "name": "stdout",
     "output_type": "stream",
     "text": [
      "How's HA output 1, 0 ?\n"
     ]
    },
    {
     "name": "stdin",
     "output_type": "stream",
     "text": [
      "stdin>  0\n"
     ]
    },
    {
     "name": "stdout",
     "output_type": "stream",
     "text": [
      "How's HA output 1, 0 ?\n"
     ]
    },
    {
     "name": "stdin",
     "output_type": "stream",
     "text": [
      "stdin>  0.7\n"
     ]
    },
    {
     "name": "stdout",
     "output_type": "stream",
     "text": [
      "How's HA output 1, 0 ?\n"
     ]
    },
    {
     "name": "stdin",
     "output_type": "stream",
     "text": [
      "stdin>  0.0\n"
     ]
    },
    {
     "name": "stdout",
     "output_type": "stream",
     "text": [
      "How's HA output 1, 0 ?\n"
     ]
    },
    {
     "name": "stdin",
     "output_type": "stream",
     "text": [
      "stdin>  1\n"
     ]
    },
    {
     "name": "stdout",
     "output_type": "stream",
     "text": [
      "How's HA output 1, 0 ?\n"
     ]
    },
    {
     "name": "stdin",
     "output_type": "stream",
     "text": [
      "stdin>  0.5\n"
     ]
    },
    {
     "name": "stdout",
     "output_type": "stream",
     "text": [
      "How's HA output 1, 0 ?\n"
     ]
    },
    {
     "name": "stdin",
     "output_type": "stream",
     "text": [
      "stdin>  0.2\n"
     ]
    },
    {
     "name": "stdout",
     "output_type": "stream",
     "text": [
      "How's HA output 1, 0 ?\n"
     ]
    },
    {
     "name": "stdin",
     "output_type": "stream",
     "text": [
      "stdin>  0\n"
     ]
    },
    {
     "name": "stdout",
     "output_type": "stream",
     "text": [
      "How's HA output 1, 0 ?\n"
     ]
    },
    {
     "name": "stdin",
     "output_type": "stream",
     "text": [
      "stdin>  0.8\n"
     ]
    },
    {
     "name": "stdout",
     "output_type": "stream",
     "text": [
      "How's HA output 1, 0 ?\n"
     ]
    },
    {
     "name": "stdin",
     "output_type": "stream",
     "text": [
      "stdin>  1\n"
     ]
    },
    {
     "name": "stdout",
     "output_type": "stream",
     "text": [
      "How's HA output 1, 0 ?\n"
     ]
    },
    {
     "name": "stdin",
     "output_type": "stream",
     "text": [
      "stdin>  1\n"
     ]
    },
    {
     "name": "stdout",
     "output_type": "stream",
     "text": [
      "How's HA output 1, 0 ?\n"
     ]
    },
    {
     "name": "stdin",
     "output_type": "stream",
     "text": [
      "stdin>  0.3\n"
     ]
    },
    {
     "name": "stdout",
     "output_type": "stream",
     "text": [
      "How's HA output 1, 0 ?\n"
     ]
    },
    {
     "name": "stdin",
     "output_type": "stream",
     "text": [
      "stdin>  0.0\n"
     ]
    },
    {
     "name": "stdout",
     "output_type": "stream",
     "text": [
      "How's HA output 1, 0 ?\n"
     ]
    },
    {
     "name": "stdin",
     "output_type": "stream",
     "text": [
      "stdin>  0.0\n"
     ]
    },
    {
     "name": "stdout",
     "output_type": "stream",
     "text": [
      "How's HA output 1, 0 ?\n"
     ]
    },
    {
     "name": "stdin",
     "output_type": "stream",
     "text": [
      "stdin>  1.0\n"
     ]
    },
    {
     "name": "stdout",
     "output_type": "stream",
     "text": [
      "How's HA output 1, 0 ?\n"
     ]
    },
    {
     "name": "stdin",
     "output_type": "stream",
     "text": [
      "stdin>  1.0\n"
     ]
    },
    {
     "name": "stdout",
     "output_type": "stream",
     "text": [
      "How's HA output 1, 0 ?\n"
     ]
    },
    {
     "name": "stdin",
     "output_type": "stream",
     "text": [
      "stdin>  0.4\n"
     ]
    },
    {
     "name": "stdout",
     "output_type": "stream",
     "text": [
      "How's HA output 1, 0 ?\n"
     ]
    },
    {
     "name": "stdin",
     "output_type": "stream",
     "text": [
      "stdin>  0.8\n"
     ]
    },
    {
     "name": "stdout",
     "output_type": "stream",
     "text": [
      "How's HA output 1, 0 ?\n"
     ]
    },
    {
     "name": "stdin",
     "output_type": "stream",
     "text": [
      "stdin>  0.0\n"
     ]
    },
    {
     "name": "stdout",
     "output_type": "stream",
     "text": [
      "How's HA output 1, 0 ?\n"
     ]
    },
    {
     "name": "stdin",
     "output_type": "stream",
     "text": [
      "stdin>  0.3\n"
     ]
    },
    {
     "name": "stdout",
     "output_type": "stream",
     "text": [
      "How's HA output 1, 0 ?\n"
     ]
    },
    {
     "name": "stdin",
     "output_type": "stream",
     "text": [
      "stdin>  0.5\n"
     ]
    },
    {
     "name": "stdout",
     "output_type": "stream",
     "text": [
      "How's HA output 1, 0 ?\n"
     ]
    },
    {
     "name": "stdin",
     "output_type": "stream",
     "text": [
      "stdin>  0.9\n"
     ]
    },
    {
     "name": "stdout",
     "output_type": "stream",
     "text": [
      "How's HA output 1, 0 ?\n"
     ]
    },
    {
     "name": "stdin",
     "output_type": "stream",
     "text": [
      "stdin>  0.7\n"
     ]
    },
    {
     "name": "stdout",
     "output_type": "stream",
     "text": [
      "How's HA output 1, 0 ?\n"
     ]
    },
    {
     "name": "stdin",
     "output_type": "stream",
     "text": [
      "stdin>  1.0\n"
     ]
    },
    {
     "name": "stdout",
     "output_type": "stream",
     "text": [
      "How's HA output 1, 0 ?\n"
     ]
    },
    {
     "name": "stdin",
     "output_type": "stream",
     "text": [
      "stdin>  0.4\n"
     ]
    },
    {
     "name": "stdout",
     "output_type": "stream",
     "text": [
      "How's HA output 1, 0 ?\n"
     ]
    },
    {
     "name": "stdin",
     "output_type": "stream",
     "text": [
      "stdin>  0.5\n"
     ]
    },
    {
     "name": "stdout",
     "output_type": "stream",
     "text": [
      "How's HA output 1, 0 ?\n"
     ]
    },
    {
     "name": "stdin",
     "output_type": "stream",
     "text": [
      "stdin>  0.8\n"
     ]
    },
    {
     "name": "stdout",
     "output_type": "stream",
     "text": [
      "How's HA output 1, 0 ?\n"
     ]
    },
    {
     "name": "stdin",
     "output_type": "stream",
     "text": [
      "stdin>  0.9\n"
     ]
    },
    {
     "name": "stdout",
     "output_type": "stream",
     "text": [
      "How's HA output 1, 0 ?\n"
     ]
    },
    {
     "name": "stdin",
     "output_type": "stream",
     "text": [
      "stdin>  0.8\n"
     ]
    },
    {
     "name": "stdout",
     "output_type": "stream",
     "text": [
      "How's HA output 1, 0 ?\n"
     ]
    },
    {
     "name": "stdin",
     "output_type": "stream",
     "text": [
      "stdin>  0.6\n"
     ]
    },
    {
     "name": "stdout",
     "output_type": "stream",
     "text": [
      "How's HA output 1, 0 ?\n"
     ]
    },
    {
     "name": "stdin",
     "output_type": "stream",
     "text": [
      "stdin>  0.1\n"
     ]
    },
    {
     "name": "stdout",
     "output_type": "stream",
     "text": [
      "How's HA output 1, 0 ?\n"
     ]
    },
    {
     "name": "stdin",
     "output_type": "stream",
     "text": [
      "stdin>  0.1\n"
     ]
    },
    {
     "name": "stdout",
     "output_type": "stream",
     "text": [
      "How's HA output 1, 0 ?\n"
     ]
    },
    {
     "name": "stdin",
     "output_type": "stream",
     "text": [
      "stdin>  0.1\n"
     ]
    },
    {
     "name": "stdout",
     "output_type": "stream",
     "text": [
      "How's HA output 1, 0 ?\n"
     ]
    },
    {
     "name": "stdin",
     "output_type": "stream",
     "text": [
      "stdin>  0.3\n"
     ]
    },
    {
     "name": "stdout",
     "output_type": "stream",
     "text": [
      "How's HA output 1, 0 ?\n"
     ]
    },
    {
     "name": "stdin",
     "output_type": "stream",
     "text": [
      "stdin>  0.9\n"
     ]
    },
    {
     "name": "stdout",
     "output_type": "stream",
     "text": [
      "How's HA output 1, 0 ?\n"
     ]
    },
    {
     "name": "stdin",
     "output_type": "stream",
     "text": [
      "stdin>  0.0\n"
     ]
    },
    {
     "name": "stdout",
     "output_type": "stream",
     "text": [
      "How's HA output 1, 0 ?\n"
     ]
    },
    {
     "name": "stdin",
     "output_type": "stream",
     "text": [
      "stdin>  0.1\n"
     ]
    },
    {
     "name": "stdout",
     "output_type": "stream",
     "text": [
      "How's HA output 1, 0 ?\n"
     ]
    },
    {
     "name": "stdin",
     "output_type": "stream",
     "text": [
      "stdin>  0.5\n"
     ]
    },
    {
     "name": "stdout",
     "output_type": "stream",
     "text": [
      "How's HA output 1, 0 ?\n"
     ]
    },
    {
     "name": "stdin",
     "output_type": "stream",
     "text": [
      "stdin>  0.5\n"
     ]
    }
   ],
   "source": [
    "# This snippet creates interactive loop where user can like/dislike hearing aid output\n",
    "nnum = 8 # prefix for gains\n",
    "pl_dict = Dict(:appraisals => [], :gains => [], :contexts => [])\n",
    "\n",
    "for prl_file in prl_files\n",
    "    \n",
    "    if !occursin(\"wav\", prl_file)\n",
    "        continue\n",
    "    end\n",
    "    WAV.wavplay(prl_file)\n",
    "    println(\"How's HA output 1, 0 ?\")\n",
    "    appraisal = readline()\n",
    "    push!(pl_dict[:appraisals], parse(Float64, appraisal))\n",
    "    \n",
    "    # extract gains routine\n",
    "    pref_id = findfirst(\"out_\", prl_file)[end]\n",
    "    gains_str = prl_file[pref_id+1:pref_id+nnum-1]\n",
    "    push!(pl_dict[:gains], parse.(Float64, split(gains_str, \"_\")))\n",
    "    \n",
    "    # extract context routine\n",
    "    push!(pl_dict[:contexts], occursin(\"babble\", prl_file) ? 1.0 : 0.0)\n",
    "end"
   ]
  },
  {
   "cell_type": "code",
   "execution_count": 12,
   "id": "private-dealing",
   "metadata": {},
   "outputs": [
    {
     "name": "stdout",
     "output_type": "stream",
     "text": [
      "Any[[0.2, 0.7], [0.2, 0.7], [0.2, 0.7], [0.2, 0.7], [0.2, 0.7], [0.5, 0.5], [0.5, 0.5], [0.5, 0.5], [0.7, 0.2], [0.7, 0.2], [0.7, 0.2], [0.7, 0.2], [0.7, 0.2], [0.7, 0.2], [0.7, 0.2], [0.7, 0.2], [0.9, 0.1], [0.9, 0.1], [0.9, 0.1], [0.9, 0.3], [0.9, 0.3], [1.0, 0.0], [1.0, 0.0], [1.0, 0.0], [1.0, 0.0], [1.0, 0.0], [1.0, 0.0], [1.0, 0.0], [2.0, 0.0], [2.0, 0.0], [2.0, 0.0], [2.0, 0.0], [2.0, 0.0], [2.0, 0.0], [2.0, 0.0], [2.0, 1.0], [2.0, 1.0], [2.5, 1.0], [2.5, 1.0], [2.5, 1.0]]\n",
      "Any[0.6, 0.0, 0.0, 0.7, 0.0, 1.0, 0.5, 0.2, 0.0, 0.8, 1.0, 1.0, 0.3, 0.0, 0.0, 1.0, 1.0, 0.4, 0.8, 0.0, 0.3, 0.5, 0.9, 0.7, 1.0, 0.4, 0.5, 0.8, 0.9, 0.8, 0.6, 0.1, 0.1, 0.1, 0.3, 0.9, 0.0, 0.1, 0.5, 0.5]\n",
      "Any[1.0, 1.0, 1.0, 0.0, 1.0, 0.0, 0.0, 1.0, 1.0, 0.0, 1.0, 1.0, 0.0, 1.0, 1.0, 1.0, 1.0, 0.0, 0.0, 1.0, 0.0, 1.0, 0.0, 0.0, 1.0, 0.0, 0.0, 0.0, 1.0, 1.0, 0.0, 0.0, 1.0, 0.0, 0.0, 0.0, 0.0, 1.0, 0.0, 1.0]\n"
     ]
    }
   ],
   "source": [
    "println(pl_dict[:gains])\n",
    "println(pl_dict[:appraisals])\n",
    "println(pl_dict[:contexts])"
   ]
  },
  {
   "cell_type": "code",
   "execution_count": 7,
   "id": "female-detail",
   "metadata": {},
   "outputs": [
    {
     "data": {
      "text/plain": [
       "inference_flow_planner (generic function with 1 method)"
      ]
     },
     "execution_count": 7,
     "metadata": {},
     "output_type": "execute_result"
    }
   ],
   "source": [
    "# normalizing flows agent\n",
    "include(\"agent/agent_Bart/flow_agent.jl\")"
   ]
  },
  {
   "cell_type": "code",
   "execution_count": 10,
   "id": "processed-nelson",
   "metadata": {},
   "outputs": [],
   "source": [
    "function f(params)\n",
    "    fe = inference_flow_classifier(Float64.(data_y), [data_x[k,:] for k=1:size(data_x,1)], params)\n",
    "    return fe\n",
    "end;"
   ]
  },
  {
   "cell_type": "code",
   "execution_count": 15,
   "id": "several-kazakhstan",
   "metadata": {},
   "outputs": [
    {
     "data": {
      "text/plain": [
       "11656.566467615081"
      ]
     },
     "execution_count": 15,
     "metadata": {},
     "output_type": "execute_result"
    }
   ],
   "source": [
    "f(randn(nr_params(model)))"
   ]
  },
  {
   "cell_type": "code",
   "execution_count": 14,
   "id": "elegant-carnival",
   "metadata": {},
   "outputs": [
    {
     "data": {
      "text/plain": [
       "([0.2383935789973567 0.6622055770281338; 0.17607421096783046 0.6143056706029623; … ; 2.487060487991934 1.0235320575057179; 2.544042119895013 0.9934173674001752], [0.6, 0.0, 0.0, 0.7, 0.0, 1.0, 0.5, 0.2, 0.0, 0.8  …  0.6, 0.1, 0.1, 0.1, 0.3, 0.9, 0.0, 0.1, 0.5, 0.5])"
      ]
     },
     "execution_count": 14,
     "metadata": {},
     "output_type": "execute_result"
    }
   ],
   "source": [
    "context = 1.0 #babble\n",
    "# context = 0.0 #train\n",
    "data_x, data_y = get_learning_data(pl_dict, context)"
   ]
  },
  {
   "cell_type": "code",
   "execution_count": 18,
   "id": "greatest-bargain",
   "metadata": {},
   "outputs": [
    {
     "data": {
      "text/plain": [
       "2973.160552835964"
      ]
     },
     "execution_count": 18,
     "metadata": {},
     "output_type": "execute_result"
    }
   ],
   "source": [
    "rng = MersenneTwister(1)\n",
    "\n",
    "f(randn(rng, 12))"
   ]
  },
  {
   "cell_type": "code",
   "execution_count": 17,
   "id": "matched-bedroom",
   "metadata": {},
   "outputs": [
    {
     "name": "stdout",
     "output_type": "stream",
     "text": [
      "Iter     Function value   Gradient norm \n",
      "     0     8.211600e+03     3.483091e+03\n",
      " * time: 0.018218040466308594\n",
      "     1     6.189602e+02     1.926403e+03\n",
      " * time: 1.8884270191192627\n",
      "     2     4.408251e+02     8.591661e+02\n",
      " * time: 1.9695069789886475\n",
      "     3     1.845081e+02     1.910008e+02\n",
      " * time: 2.045825958251953\n",
      "     4     9.038318e+01     2.470970e+02\n",
      " * time: 2.1791090965270996\n",
      "     5     8.985161e+01     4.120364e+02\n",
      " * time: 2.281553030014038\n",
      "     6     8.804019e+01     8.557298e+01\n",
      " * time: 2.3327090740203857\n",
      "     7     7.679915e+01     2.589645e+02\n",
      " * time: 2.4364728927612305\n",
      "     8     6.755423e+01     2.031343e+02\n",
      " * time: 2.4872939586639404\n",
      "     9     6.755427e+01     2.031344e+02\n",
      " * time: 4.386914014816284\n",
      "    10     6.755416e+01     2.031219e+02\n",
      " * time: 6.324338912963867\n",
      "    11     6.598743e+01     1.937159e+02\n",
      " * time: 8.115959882736206\n",
      "    12     6.598744e+01     1.937160e+02\n",
      " * time: 10.132663011550903\n",
      "    13     6.598735e+01     1.937121e+02\n",
      " * time: 12.116513013839722\n",
      "    14     6.598737e+01     1.937115e+02\n",
      " * time: 14.797189950942993\n",
      "    15     6.598735e+01     1.937118e+02\n",
      " * time: 16.79216504096985\n",
      "    16     6.598735e+01     1.937119e+02\n",
      " * time: 19.929119110107422\n",
      "    17     6.598737e+01     1.937118e+02\n",
      " * time: 22.796977043151855\n",
      "    18     6.598735e+01     1.937118e+02\n",
      " * time: 24.623805046081543\n",
      "    19     6.598733e+01     1.937113e+02\n",
      " * time: 26.150532007217407\n",
      "    20     6.598735e+01     1.937106e+02\n",
      " * time: 28.23597002029419\n",
      "    21     6.598736e+01     1.937106e+02\n",
      " * time: 30.093570947647095\n",
      "    22     6.598737e+01     1.937107e+02\n",
      " * time: 32.533544063568115\n",
      "    23     6.598735e+01     1.937106e+02\n",
      " * time: 34.76120901107788\n",
      "    24     6.598737e+01     1.937104e+02\n",
      " * time: 36.90632700920105\n",
      "    25     6.598737e+01     1.937104e+02\n",
      " * time: 38.73271203041077\n",
      "    26     6.598735e+01     1.937100e+02\n",
      " * time: 40.387792110443115\n",
      "    27     6.598732e+01     1.937093e+02\n",
      " * time: 42.15512299537659\n",
      "    28     6.598735e+01     1.937085e+02\n",
      " * time: 44.14847803115845\n",
      "    29     6.598734e+01     1.937086e+02\n",
      " * time: 46.34536695480347\n",
      "    30     6.598736e+01     1.937078e+02\n",
      " * time: 48.396738052368164\n",
      "    31     6.598735e+01     1.937077e+02\n",
      " * time: 50.73693895339966\n",
      "    32     6.598733e+01     1.937083e+02\n",
      " * time: 52.49092411994934\n",
      "    33     6.598735e+01     1.937081e+02\n",
      " * time: 55.17003607749939\n",
      "    34     6.598737e+01     1.937079e+02\n",
      " * time: 56.99624490737915\n",
      "    35     6.598737e+01     1.937079e+02\n",
      " * time: 58.94043588638306\n"
     ]
    }
   ],
   "source": [
    "using Optim\n",
    "\n",
    "data_x, data_y = get_learning_data(pl_dict, 1.0)\n",
    "res_babble = optimize(f, randn(nr_params(model)), LBFGS(), Optim.Options(store_trace = true, show_trace = true, f_tol=1e-12), autodiff=:forward);"
   ]
  },
  {
   "cell_type": "code",
   "execution_count": 27,
   "id": "reflected-kitty",
   "metadata": {},
   "outputs": [
    {
     "name": "stdout",
     "output_type": "stream",
     "text": [
      "Iter     Function value   Gradient norm \n",
      "     0     2.409616e+03     1.690262e+03\n",
      " * time: 8.893013000488281e-5\n",
      "     1     1.361555e+03     5.350935e+02\n",
      " * time: 0.18096590042114258\n",
      "     2     6.606388e+02     6.147264e+02\n",
      " * time: 0.2675638198852539\n",
      "     3     3.640130e+02     3.803317e+02\n",
      " * time: 0.39049291610717773\n",
      "     4     1.450419e+02     9.888548e+01\n",
      " * time: 0.5116407871246338\n",
      "     5     1.085244e+02     8.319457e+01\n",
      " * time: 0.5974018573760986\n",
      "     6     9.336104e+01     6.453681e+01\n",
      " * time: 0.6893048286437988\n",
      "     7     8.892770e+01     1.928385e+01\n",
      " * time: 0.7458779811859131\n",
      "     8     8.796273e+01     3.023846e+01\n",
      " * time: 0.8333029747009277\n",
      "     9     8.535407e+01     2.396622e+01\n",
      " * time: 0.9704649448394775\n",
      "    10     8.447115e+01     1.478055e+01\n",
      " * time: 1.0333168506622314\n",
      "    11     8.356605e+01     1.452133e+01\n",
      " * time: 1.1265349388122559\n",
      "    12     8.272468e+01     1.165610e+01\n",
      " * time: 1.252830982208252\n",
      "    13     8.195918e+01     8.281360e+00\n",
      " * time: 1.3481779098510742\n",
      "    14     8.170041e+01     2.285445e+00\n",
      " * time: 1.4132678508758545\n",
      "    15     8.164179e+01     6.603627e+00\n",
      " * time: 1.5528569221496582\n",
      "    16     8.153789e+01     8.484571e+00\n",
      " * time: 1.647458791732788\n",
      "    17     8.140824e+01     6.528760e+00\n",
      " * time: 1.7096879482269287\n",
      "    18     7.918058e+01     3.443056e+01\n",
      " * time: 1.9469878673553467\n",
      "    19     7.865282e+01     1.105373e+01\n",
      " * time: 2.1572089195251465\n",
      "    20     7.734817e+01     1.356666e+01\n",
      " * time: 2.2234268188476562\n",
      "    21     7.680513e+01     9.807838e+00\n",
      " * time: 2.2889978885650635\n",
      "    22     7.644623e+01     9.804385e+00\n",
      " * time: 4.230072021484375\n",
      "    23     7.644623e+01     9.804373e+00\n",
      " * time: 6.267552852630615\n",
      "    24     7.631138e+01     9.798140e+00\n",
      " * time: 8.208562850952148\n",
      "    25     7.579170e+01     9.792551e+00\n",
      " * time: 10.086488008499146\n",
      "    26     7.570434e+01     1.124448e+01\n",
      " * time: 11.940006971359253\n",
      "    27     7.521264e+01     1.312080e+01\n",
      " * time: 14.255897998809814\n",
      "    28     7.521264e+01     1.312080e+01\n",
      " * time: 16.671960830688477\n",
      "    29     7.521264e+01     1.312080e+01\n",
      " * time: 19.23990797996521\n",
      "    30     7.521264e+01     1.312080e+01\n",
      " * time: 21.40122079849243\n",
      "    31     7.521264e+01     1.312080e+01\n",
      " * time: 23.812564849853516\n",
      "    32     7.521264e+01     1.312080e+01\n",
      " * time: 26.349815845489502\n"
     ]
    }
   ],
   "source": [
    "data_x, data_y = learning_data(pl_dict, 0.0)\n",
    "res_train = optimize(f, randn(12), LBFGS(), Optim.Options(store_trace = true, show_trace = true, f_tol=1e-12), autodiff=:forward);"
   ]
  },
  {
   "cell_type": "code",
   "execution_count": 18,
   "id": "framed-alcohol",
   "metadata": {},
   "outputs": [
    {
     "data": {
      "text/plain": [
       "dat_to_col (generic function with 1 method)"
      ]
     },
     "execution_count": 18,
     "metadata": {},
     "output_type": "execute_result"
    }
   ],
   "source": [
    "dat_to_col(data) = map(x -> x == 1 ? \"red\" : \"blue\", Int64.(round.(data)))"
   ]
  },
  {
   "cell_type": "code",
   "execution_count": 23,
   "id": "eligible-dietary",
   "metadata": {
    "tags": []
   },
   "outputs": [
    {
     "data": {
      "image/svg+xml": [
       "<?xml version=\"1.0\" encoding=\"utf-8\"?>\n",
       "<svg xmlns=\"http://www.w3.org/2000/svg\" xmlns:xlink=\"http://www.w3.org/1999/xlink\" width=\"1600\" height=\"400\" viewBox=\"0 0 6400 1600\">\n",
       "<defs>\n",
       "  <clipPath id=\"clip090\">\n",
       "    <rect x=\"0\" y=\"0\" width=\"6400\" height=\"1600\"/>\n",
       "  </clipPath>\n",
       "</defs>\n",
       "<path clip-path=\"url(#clip090)\" d=\"\n",
       "M0 1600 L6400 1600 L6400 0 L0 0  Z\n",
       "  \" fill=\"#ffffff\" fill-rule=\"evenodd\" fill-opacity=\"1\"/>\n",
       "<defs>\n",
       "  <clipPath id=\"clip091\">\n",
       "    <rect x=\"1280\" y=\"0\" width=\"4481\" height=\"1600\"/>\n",
       "  </clipPath>\n",
       "</defs>\n",
       "<path clip-path=\"url(#clip090)\" d=\"\n",
       "M226.274 1508.05 L2108.23 1508.05 L2108.23 47.2441 L226.274 47.2441  Z\n",
       "  \" fill=\"#ffffff\" fill-rule=\"evenodd\" fill-opacity=\"1\"/>\n",
       "<defs>\n",
       "  <clipPath id=\"clip092\">\n",
       "    <rect x=\"226\" y=\"47\" width=\"1883\" height=\"1462\"/>\n",
       "  </clipPath>\n",
       "</defs>\n",
       "<polyline clip-path=\"url(#clip092)\" style=\"stroke:#000000; stroke-linecap:butt; stroke-linejoin:round; stroke-width:2; stroke-opacity:0.1; fill:none\" points=\"\n",
       "  527.765,1508.05 527.765,47.2441 \n",
       "  \"/>\n",
       "<polyline clip-path=\"url(#clip092)\" style=\"stroke:#000000; stroke-linecap:butt; stroke-linejoin:round; stroke-width:2; stroke-opacity:0.1; fill:none\" points=\"\n",
       "  899.931,1508.05 899.931,47.2441 \n",
       "  \"/>\n",
       "<polyline clip-path=\"url(#clip092)\" style=\"stroke:#000000; stroke-linecap:butt; stroke-linejoin:round; stroke-width:2; stroke-opacity:0.1; fill:none\" points=\"\n",
       "  1272.1,1508.05 1272.1,47.2441 \n",
       "  \"/>\n",
       "<polyline clip-path=\"url(#clip092)\" style=\"stroke:#000000; stroke-linecap:butt; stroke-linejoin:round; stroke-width:2; stroke-opacity:0.1; fill:none\" points=\"\n",
       "  1644.26,1508.05 1644.26,47.2441 \n",
       "  \"/>\n",
       "<polyline clip-path=\"url(#clip092)\" style=\"stroke:#000000; stroke-linecap:butt; stroke-linejoin:round; stroke-width:2; stroke-opacity:0.1; fill:none\" points=\"\n",
       "  2016.43,1508.05 2016.43,47.2441 \n",
       "  \"/>\n",
       "<polyline clip-path=\"url(#clip090)\" style=\"stroke:#000000; stroke-linecap:butt; stroke-linejoin:round; stroke-width:4; stroke-opacity:1; fill:none\" points=\"\n",
       "  226.274,1508.05 2108.23,1508.05 \n",
       "  \"/>\n",
       "<polyline clip-path=\"url(#clip090)\" style=\"stroke:#000000; stroke-linecap:butt; stroke-linejoin:round; stroke-width:4; stroke-opacity:1; fill:none\" points=\"\n",
       "  527.765,1508.05 527.765,1489.15 \n",
       "  \"/>\n",
       "<polyline clip-path=\"url(#clip090)\" style=\"stroke:#000000; stroke-linecap:butt; stroke-linejoin:round; stroke-width:4; stroke-opacity:1; fill:none\" points=\"\n",
       "  899.931,1508.05 899.931,1489.15 \n",
       "  \"/>\n",
       "<polyline clip-path=\"url(#clip090)\" style=\"stroke:#000000; stroke-linecap:butt; stroke-linejoin:round; stroke-width:4; stroke-opacity:1; fill:none\" points=\"\n",
       "  1272.1,1508.05 1272.1,1489.15 \n",
       "  \"/>\n",
       "<polyline clip-path=\"url(#clip090)\" style=\"stroke:#000000; stroke-linecap:butt; stroke-linejoin:round; stroke-width:4; stroke-opacity:1; fill:none\" points=\"\n",
       "  1644.26,1508.05 1644.26,1489.15 \n",
       "  \"/>\n",
       "<polyline clip-path=\"url(#clip090)\" style=\"stroke:#000000; stroke-linecap:butt; stroke-linejoin:round; stroke-width:4; stroke-opacity:1; fill:none\" points=\"\n",
       "  2016.43,1508.05 2016.43,1489.15 \n",
       "  \"/>\n",
       "<path clip-path=\"url(#clip090)\" d=\"M505.647 1569.24 Q502.036 1569.24 500.207 1572.8 Q498.402 1576.35 498.402 1583.47 Q498.402 1590.58 500.207 1594.15 Q502.036 1597.69 505.647 1597.69 Q509.281 1597.69 511.087 1594.15 Q512.915 1590.58 512.915 1583.47 Q512.915 1576.35 511.087 1572.8 Q509.281 1569.24 505.647 1569.24 M505.647 1565.53 Q511.457 1565.53 514.513 1570.14 Q517.591 1574.72 517.591 1583.47 Q517.591 1592.2 514.513 1596.81 Q511.457 1601.39 505.647 1601.39 Q499.837 1601.39 496.758 1596.81 Q493.703 1592.2 493.703 1583.47 Q493.703 1574.72 496.758 1570.14 Q499.837 1565.53 505.647 1565.53 Z\" fill=\"#000000\" fill-rule=\"evenodd\" fill-opacity=\"1\" /><path clip-path=\"url(#clip090)\" d=\"M525.809 1594.84 L530.693 1594.84 L530.693 1600.72 L525.809 1600.72 L525.809 1594.84 Z\" fill=\"#000000\" fill-rule=\"evenodd\" fill-opacity=\"1\" /><path clip-path=\"url(#clip090)\" d=\"M540.925 1566.16 L559.281 1566.16 L559.281 1570.1 L545.207 1570.1 L545.207 1578.57 Q546.225 1578.22 547.244 1578.06 Q548.263 1577.87 549.281 1577.87 Q555.068 1577.87 558.448 1581.04 Q561.827 1584.22 561.827 1589.63 Q561.827 1595.21 558.355 1598.31 Q554.883 1601.39 548.563 1601.39 Q546.388 1601.39 544.119 1601.02 Q541.874 1600.65 539.466 1599.91 L539.466 1595.21 Q541.55 1596.34 543.772 1596.9 Q545.994 1597.46 548.471 1597.46 Q552.475 1597.46 554.813 1595.35 Q557.151 1593.24 557.151 1589.63 Q557.151 1586.02 554.813 1583.91 Q552.475 1581.81 548.471 1581.81 Q546.596 1581.81 544.721 1582.22 Q542.869 1582.64 540.925 1583.52 L540.925 1566.16 Z\" fill=\"#000000\" fill-rule=\"evenodd\" fill-opacity=\"1\" /><path clip-path=\"url(#clip090)\" d=\"M867.084 1596.78 L874.723 1596.78 L874.723 1570.42 L866.413 1572.09 L866.413 1567.83 L874.677 1566.16 L879.353 1566.16 L879.353 1596.78 L886.992 1596.78 L886.992 1600.72 L867.084 1600.72 L867.084 1596.78 Z\" fill=\"#000000\" fill-rule=\"evenodd\" fill-opacity=\"1\" /><path clip-path=\"url(#clip090)\" d=\"M896.436 1594.84 L901.32 1594.84 L901.32 1600.72 L896.436 1600.72 L896.436 1594.84 Z\" fill=\"#000000\" fill-rule=\"evenodd\" fill-opacity=\"1\" /><path clip-path=\"url(#clip090)\" d=\"M921.505 1569.24 Q917.894 1569.24 916.065 1572.8 Q914.26 1576.35 914.26 1583.47 Q914.26 1590.58 916.065 1594.15 Q917.894 1597.69 921.505 1597.69 Q925.139 1597.69 926.945 1594.15 Q928.774 1590.58 928.774 1583.47 Q928.774 1576.35 926.945 1572.8 Q925.139 1569.24 921.505 1569.24 M921.505 1565.53 Q927.315 1565.53 930.371 1570.14 Q933.45 1574.72 933.45 1583.47 Q933.45 1592.2 930.371 1596.81 Q927.315 1601.39 921.505 1601.39 Q915.695 1601.39 912.616 1596.81 Q909.561 1592.2 909.561 1583.47 Q909.561 1574.72 912.616 1570.14 Q915.695 1565.53 921.505 1565.53 Z\" fill=\"#000000\" fill-rule=\"evenodd\" fill-opacity=\"1\" /><path clip-path=\"url(#clip090)\" d=\"M1239.75 1596.78 L1247.39 1596.78 L1247.39 1570.42 L1239.08 1572.09 L1239.08 1567.83 L1247.34 1566.16 L1252.02 1566.16 L1252.02 1596.78 L1259.66 1596.78 L1259.66 1600.72 L1239.75 1600.72 L1239.75 1596.78 Z\" fill=\"#000000\" fill-rule=\"evenodd\" fill-opacity=\"1\" /><path clip-path=\"url(#clip090)\" d=\"M1269.1 1594.84 L1273.98 1594.84 L1273.98 1600.72 L1269.1 1600.72 L1269.1 1594.84 Z\" fill=\"#000000\" fill-rule=\"evenodd\" fill-opacity=\"1\" /><path clip-path=\"url(#clip090)\" d=\"M1284.22 1566.16 L1302.57 1566.16 L1302.57 1570.1 L1288.5 1570.1 L1288.5 1578.57 Q1289.52 1578.22 1290.54 1578.06 Q1291.55 1577.87 1292.57 1577.87 Q1298.36 1577.87 1301.74 1581.04 Q1305.12 1584.22 1305.12 1589.63 Q1305.12 1595.21 1301.65 1598.31 Q1298.17 1601.39 1291.85 1601.39 Q1289.68 1601.39 1287.41 1601.02 Q1285.16 1600.65 1282.76 1599.91 L1282.76 1595.21 Q1284.84 1596.34 1287.06 1596.9 Q1289.29 1597.46 1291.76 1597.46 Q1295.77 1597.46 1298.1 1595.35 Q1300.44 1593.24 1300.44 1589.63 Q1300.44 1586.02 1298.1 1583.91 Q1295.77 1581.81 1291.76 1581.81 Q1289.89 1581.81 1288.01 1582.22 Q1286.16 1582.64 1284.22 1583.52 L1284.22 1566.16 Z\" fill=\"#000000\" fill-rule=\"evenodd\" fill-opacity=\"1\" /><path clip-path=\"url(#clip090)\" d=\"M1615.5 1596.78 L1631.82 1596.78 L1631.82 1600.72 L1609.88 1600.72 L1609.88 1596.78 Q1612.54 1594.03 1617.12 1589.4 Q1621.73 1584.75 1622.91 1583.41 Q1625.16 1580.88 1626.03 1579.15 Q1626.94 1577.39 1626.94 1575.7 Q1626.94 1572.94 1624.99 1571.21 Q1623.07 1569.47 1619.97 1569.47 Q1617.77 1569.47 1615.32 1570.23 Q1612.89 1571 1610.11 1572.55 L1610.11 1567.83 Q1612.93 1566.69 1615.39 1566.11 Q1617.84 1565.53 1619.88 1565.53 Q1625.25 1565.53 1628.44 1568.22 Q1631.64 1570.91 1631.64 1575.4 Q1631.64 1577.53 1630.83 1579.45 Q1630.04 1581.34 1627.93 1583.94 Q1627.35 1584.61 1624.25 1587.83 Q1621.15 1591.02 1615.5 1596.78 Z\" fill=\"#000000\" fill-rule=\"evenodd\" fill-opacity=\"1\" /><path clip-path=\"url(#clip090)\" d=\"M1641.64 1594.84 L1646.52 1594.84 L1646.52 1600.72 L1641.64 1600.72 L1641.64 1594.84 Z\" fill=\"#000000\" fill-rule=\"evenodd\" fill-opacity=\"1\" /><path clip-path=\"url(#clip090)\" d=\"M1666.71 1569.24 Q1663.09 1569.24 1661.27 1572.8 Q1659.46 1576.35 1659.46 1583.47 Q1659.46 1590.58 1661.27 1594.15 Q1663.09 1597.69 1666.71 1597.69 Q1670.34 1597.69 1672.15 1594.15 Q1673.97 1590.58 1673.97 1583.47 Q1673.97 1576.35 1672.15 1572.8 Q1670.34 1569.24 1666.71 1569.24 M1666.71 1565.53 Q1672.52 1565.53 1675.57 1570.14 Q1678.65 1574.72 1678.65 1583.47 Q1678.65 1592.2 1675.57 1596.81 Q1672.52 1601.39 1666.71 1601.39 Q1660.9 1601.39 1657.82 1596.81 Q1654.76 1592.2 1654.76 1583.47 Q1654.76 1574.72 1657.82 1570.14 Q1660.9 1565.53 1666.71 1565.53 Z\" fill=\"#000000\" fill-rule=\"evenodd\" fill-opacity=\"1\" /><path clip-path=\"url(#clip090)\" d=\"M1988.17 1596.78 L2004.49 1596.78 L2004.49 1600.72 L1982.54 1600.72 L1982.54 1596.78 Q1985.2 1594.03 1989.79 1589.4 Q1994.39 1584.75 1995.57 1583.41 Q1997.82 1580.88 1998.7 1579.15 Q1999.6 1577.39 1999.6 1575.7 Q1999.6 1572.94 1997.66 1571.21 Q1995.74 1569.47 1992.63 1569.47 Q1990.44 1569.47 1987.98 1570.23 Q1985.55 1571 1982.77 1572.55 L1982.77 1567.83 Q1985.6 1566.69 1988.05 1566.11 Q1990.5 1565.53 1992.54 1565.53 Q1997.91 1565.53 2001.11 1568.22 Q2004.3 1570.91 2004.3 1575.4 Q2004.3 1577.53 2003.49 1579.45 Q2002.7 1581.34 2000.6 1583.94 Q2000.02 1584.61 1996.92 1587.83 Q1993.81 1591.02 1988.17 1596.78 Z\" fill=\"#000000\" fill-rule=\"evenodd\" fill-opacity=\"1\" /><path clip-path=\"url(#clip090)\" d=\"M2014.3 1594.84 L2019.18 1594.84 L2019.18 1600.72 L2014.3 1600.72 L2014.3 1594.84 Z\" fill=\"#000000\" fill-rule=\"evenodd\" fill-opacity=\"1\" /><path clip-path=\"url(#clip090)\" d=\"M2029.42 1566.16 L2047.77 1566.16 L2047.77 1570.1 L2033.7 1570.1 L2033.7 1578.57 Q2034.72 1578.22 2035.74 1578.06 Q2036.75 1577.87 2037.77 1577.87 Q2043.56 1577.87 2046.94 1581.04 Q2050.32 1584.22 2050.32 1589.63 Q2050.32 1595.21 2046.85 1598.31 Q2043.37 1601.39 2037.06 1601.39 Q2034.88 1601.39 2032.61 1601.02 Q2030.37 1600.65 2027.96 1599.91 L2027.96 1595.21 Q2030.04 1596.34 2032.26 1596.9 Q2034.49 1597.46 2036.96 1597.46 Q2040.97 1597.46 2043.31 1595.35 Q2045.64 1593.24 2045.64 1589.63 Q2045.64 1586.02 2043.31 1583.91 Q2040.97 1581.81 2036.96 1581.81 Q2035.09 1581.81 2033.21 1582.22 Q2031.36 1582.64 2029.42 1583.52 L2029.42 1566.16 Z\" fill=\"#000000\" fill-rule=\"evenodd\" fill-opacity=\"1\" /><polyline clip-path=\"url(#clip092)\" style=\"stroke:#000000; stroke-linecap:butt; stroke-linejoin:round; stroke-width:2; stroke-opacity:0.1; fill:none\" points=\"\n",
       "  226.274,1371.54 2108.23,1371.54 \n",
       "  \"/>\n",
       "<polyline clip-path=\"url(#clip092)\" style=\"stroke:#000000; stroke-linecap:butt; stroke-linejoin:round; stroke-width:2; stroke-opacity:0.1; fill:none\" points=\"\n",
       "  226.274,1071.08 2108.23,1071.08 \n",
       "  \"/>\n",
       "<polyline clip-path=\"url(#clip092)\" style=\"stroke:#000000; stroke-linecap:butt; stroke-linejoin:round; stroke-width:2; stroke-opacity:0.1; fill:none\" points=\"\n",
       "  226.274,770.61 2108.23,770.61 \n",
       "  \"/>\n",
       "<polyline clip-path=\"url(#clip092)\" style=\"stroke:#000000; stroke-linecap:butt; stroke-linejoin:round; stroke-width:2; stroke-opacity:0.1; fill:none\" points=\"\n",
       "  226.274,470.144 2108.23,470.144 \n",
       "  \"/>\n",
       "<polyline clip-path=\"url(#clip092)\" style=\"stroke:#000000; stroke-linecap:butt; stroke-linejoin:round; stroke-width:2; stroke-opacity:0.1; fill:none\" points=\"\n",
       "  226.274,169.679 2108.23,169.679 \n",
       "  \"/>\n",
       "<polyline clip-path=\"url(#clip090)\" style=\"stroke:#000000; stroke-linecap:butt; stroke-linejoin:round; stroke-width:4; stroke-opacity:1; fill:none\" points=\"\n",
       "  226.274,1508.05 226.274,47.2441 \n",
       "  \"/>\n",
       "<polyline clip-path=\"url(#clip090)\" style=\"stroke:#000000; stroke-linecap:butt; stroke-linejoin:round; stroke-width:4; stroke-opacity:1; fill:none\" points=\"\n",
       "  226.274,1371.54 245.172,1371.54 \n",
       "  \"/>\n",
       "<polyline clip-path=\"url(#clip090)\" style=\"stroke:#000000; stroke-linecap:butt; stroke-linejoin:round; stroke-width:4; stroke-opacity:1; fill:none\" points=\"\n",
       "  226.274,1071.08 245.172,1071.08 \n",
       "  \"/>\n",
       "<polyline clip-path=\"url(#clip090)\" style=\"stroke:#000000; stroke-linecap:butt; stroke-linejoin:round; stroke-width:4; stroke-opacity:1; fill:none\" points=\"\n",
       "  226.274,770.61 245.172,770.61 \n",
       "  \"/>\n",
       "<polyline clip-path=\"url(#clip090)\" style=\"stroke:#000000; stroke-linecap:butt; stroke-linejoin:round; stroke-width:4; stroke-opacity:1; fill:none\" points=\"\n",
       "  226.274,470.144 245.172,470.144 \n",
       "  \"/>\n",
       "<polyline clip-path=\"url(#clip090)\" style=\"stroke:#000000; stroke-linecap:butt; stroke-linejoin:round; stroke-width:4; stroke-opacity:1; fill:none\" points=\"\n",
       "  226.274,169.679 245.172,169.679 \n",
       "  \"/>\n",
       "<path clip-path=\"url(#clip090)\" d=\"M42.9365 1357.34 Q39.3254 1357.34 37.4967 1360.9 Q35.6912 1364.45 35.6912 1371.58 Q35.6912 1378.68 37.4967 1382.25 Q39.3254 1385.79 42.9365 1385.79 Q46.5707 1385.79 48.3763 1382.25 Q50.205 1378.68 50.205 1371.58 Q50.205 1364.45 48.3763 1360.9 Q46.5707 1357.34 42.9365 1357.34 M42.9365 1353.64 Q48.7467 1353.64 51.8022 1358.24 Q54.8809 1362.83 54.8809 1371.58 Q54.8809 1380.3 51.8022 1384.91 Q48.7467 1389.49 42.9365 1389.49 Q37.1264 1389.49 34.0477 1384.91 Q30.9921 1380.3 30.9921 1371.58 Q30.9921 1362.83 34.0477 1358.24 Q37.1264 1353.64 42.9365 1353.64 Z\" fill=\"#000000\" fill-rule=\"evenodd\" fill-opacity=\"1\" /><path clip-path=\"url(#clip090)\" d=\"M63.0984 1382.94 L67.9827 1382.94 L67.9827 1388.82 L63.0984 1388.82 L63.0984 1382.94 Z\" fill=\"#000000\" fill-rule=\"evenodd\" fill-opacity=\"1\" /><path clip-path=\"url(#clip090)\" d=\"M88.1677 1357.34 Q84.5567 1357.34 82.728 1360.9 Q80.9224 1364.45 80.9224 1371.58 Q80.9224 1378.68 82.728 1382.25 Q84.5567 1385.79 88.1677 1385.79 Q91.802 1385.79 93.6075 1382.25 Q95.4362 1378.68 95.4362 1371.58 Q95.4362 1364.45 93.6075 1360.9 Q91.802 1357.34 88.1677 1357.34 M88.1677 1353.64 Q93.9779 1353.64 97.0334 1358.24 Q100.112 1362.83 100.112 1371.58 Q100.112 1380.3 97.0334 1384.91 Q93.9779 1389.49 88.1677 1389.49 Q82.3576 1389.49 79.2789 1384.91 Q76.2234 1380.3 76.2234 1371.58 Q76.2234 1362.83 79.2789 1358.24 Q82.3576 1353.64 88.1677 1353.64 Z\" fill=\"#000000\" fill-rule=\"evenodd\" fill-opacity=\"1\" /><path clip-path=\"url(#clip090)\" d=\"M118.33 1357.34 Q114.719 1357.34 112.89 1360.9 Q111.084 1364.45 111.084 1371.58 Q111.084 1378.68 112.89 1382.25 Q114.719 1385.79 118.33 1385.79 Q121.964 1385.79 123.769 1382.25 Q125.598 1378.68 125.598 1371.58 Q125.598 1364.45 123.769 1360.9 Q121.964 1357.34 118.33 1357.34 M118.33 1353.64 Q124.14 1353.64 127.195 1358.24 Q130.274 1362.83 130.274 1371.58 Q130.274 1380.3 127.195 1384.91 Q124.14 1389.49 118.33 1389.49 Q112.519 1389.49 109.441 1384.91 Q106.385 1380.3 106.385 1371.58 Q106.385 1362.83 109.441 1358.24 Q112.519 1353.64 118.33 1353.64 Z\" fill=\"#000000\" fill-rule=\"evenodd\" fill-opacity=\"1\" /><path clip-path=\"url(#clip090)\" d=\"M43.9319 1056.87 Q40.3208 1056.87 38.4921 1060.44 Q36.6865 1063.98 36.6865 1071.11 Q36.6865 1078.22 38.4921 1081.78 Q40.3208 1085.32 43.9319 1085.32 Q47.5661 1085.32 49.3717 1081.78 Q51.2004 1078.22 51.2004 1071.11 Q51.2004 1063.98 49.3717 1060.44 Q47.5661 1056.87 43.9319 1056.87 M43.9319 1053.17 Q49.742 1053.17 52.7976 1057.78 Q55.8763 1062.36 55.8763 1071.11 Q55.8763 1079.84 52.7976 1084.44 Q49.742 1089.03 43.9319 1089.03 Q38.1217 1089.03 35.043 1084.44 Q31.9875 1079.84 31.9875 1071.11 Q31.9875 1062.36 35.043 1057.78 Q38.1217 1053.17 43.9319 1053.17 Z\" fill=\"#000000\" fill-rule=\"evenodd\" fill-opacity=\"1\" /><path clip-path=\"url(#clip090)\" d=\"M64.0938 1082.48 L68.978 1082.48 L68.978 1088.36 L64.0938 1088.36 L64.0938 1082.48 Z\" fill=\"#000000\" fill-rule=\"evenodd\" fill-opacity=\"1\" /><path clip-path=\"url(#clip090)\" d=\"M83.1909 1084.42 L99.5103 1084.42 L99.5103 1088.36 L77.566 1088.36 L77.566 1084.42 Q80.228 1081.67 84.8113 1077.04 Q89.4177 1072.38 90.5983 1071.04 Q92.8436 1068.52 93.7233 1066.78 Q94.626 1065.02 94.626 1063.33 Q94.626 1060.58 92.6816 1058.84 Q90.7603 1057.11 87.6585 1057.11 Q85.4594 1057.11 83.0057 1057.87 Q80.5752 1058.63 77.7974 1060.18 L77.7974 1055.46 Q80.6215 1054.33 83.0752 1053.75 Q85.5289 1053.17 87.5659 1053.17 Q92.9362 1053.17 96.1307 1055.86 Q99.3251 1058.54 99.3251 1063.03 Q99.3251 1065.16 98.5149 1067.08 Q97.7279 1068.98 95.6214 1071.57 Q95.0427 1072.24 91.9409 1075.46 Q88.839 1078.66 83.1909 1084.42 Z\" fill=\"#000000\" fill-rule=\"evenodd\" fill-opacity=\"1\" /><path clip-path=\"url(#clip090)\" d=\"M109.371 1053.8 L127.728 1053.8 L127.728 1057.73 L113.654 1057.73 L113.654 1066.2 Q114.672 1065.86 115.691 1065.69 Q116.709 1065.51 117.728 1065.51 Q123.515 1065.51 126.894 1068.68 Q130.274 1071.85 130.274 1077.27 Q130.274 1082.85 126.802 1085.95 Q123.33 1089.03 117.01 1089.03 Q114.834 1089.03 112.566 1088.66 Q110.32 1088.29 107.913 1087.55 L107.913 1082.85 Q109.996 1083.98 112.219 1084.54 Q114.441 1085.09 116.918 1085.09 Q120.922 1085.09 123.26 1082.98 Q125.598 1080.88 125.598 1077.27 Q125.598 1073.66 123.26 1071.55 Q120.922 1069.44 116.918 1069.44 Q115.043 1069.44 113.168 1069.86 Q111.316 1070.28 109.371 1071.16 L109.371 1053.8 Z\" fill=\"#000000\" fill-rule=\"evenodd\" fill-opacity=\"1\" /><path clip-path=\"url(#clip090)\" d=\"M42.9365 756.408 Q39.3254 756.408 37.4967 759.973 Q35.6912 763.515 35.6912 770.644 Q35.6912 777.751 37.4967 781.316 Q39.3254 784.857 42.9365 784.857 Q46.5707 784.857 48.3763 781.316 Q50.205 777.751 50.205 770.644 Q50.205 763.515 48.3763 759.973 Q46.5707 756.408 42.9365 756.408 M42.9365 752.705 Q48.7467 752.705 51.8022 757.311 Q54.8809 761.895 54.8809 770.644 Q54.8809 779.371 51.8022 783.978 Q48.7467 788.561 42.9365 788.561 Q37.1264 788.561 34.0477 783.978 Q30.9921 779.371 30.9921 770.644 Q30.9921 761.895 34.0477 757.311 Q37.1264 752.705 42.9365 752.705 Z\" fill=\"#000000\" fill-rule=\"evenodd\" fill-opacity=\"1\" /><path clip-path=\"url(#clip090)\" d=\"M63.0984 782.01 L67.9827 782.01 L67.9827 787.89 L63.0984 787.89 L63.0984 782.01 Z\" fill=\"#000000\" fill-rule=\"evenodd\" fill-opacity=\"1\" /><path clip-path=\"url(#clip090)\" d=\"M78.2141 753.33 L96.5705 753.33 L96.5705 757.265 L82.4965 757.265 L82.4965 765.737 Q83.515 765.39 84.5335 765.228 Q85.552 765.043 86.5705 765.043 Q92.3575 765.043 95.7371 768.214 Q99.1168 771.385 99.1168 776.802 Q99.1168 782.381 95.6446 785.482 Q92.1724 788.561 85.8529 788.561 Q83.677 788.561 81.4085 788.191 Q79.1632 787.82 76.7558 787.08 L76.7558 782.381 Q78.8391 783.515 81.0613 784.07 Q83.2835 784.626 85.7604 784.626 Q89.765 784.626 92.1029 782.519 Q94.4409 780.413 94.4409 776.802 Q94.4409 773.191 92.1029 771.084 Q89.765 768.978 85.7604 768.978 Q83.8854 768.978 82.0104 769.394 Q80.1585 769.811 78.2141 770.691 L78.2141 753.33 Z\" fill=\"#000000\" fill-rule=\"evenodd\" fill-opacity=\"1\" /><path clip-path=\"url(#clip090)\" d=\"M118.33 756.408 Q114.719 756.408 112.89 759.973 Q111.084 763.515 111.084 770.644 Q111.084 777.751 112.89 781.316 Q114.719 784.857 118.33 784.857 Q121.964 784.857 123.769 781.316 Q125.598 777.751 125.598 770.644 Q125.598 763.515 123.769 759.973 Q121.964 756.408 118.33 756.408 M118.33 752.705 Q124.14 752.705 127.195 757.311 Q130.274 761.895 130.274 770.644 Q130.274 779.371 127.195 783.978 Q124.14 788.561 118.33 788.561 Q112.519 788.561 109.441 783.978 Q106.385 779.371 106.385 770.644 Q106.385 761.895 109.441 757.311 Q112.519 752.705 118.33 752.705 Z\" fill=\"#000000\" fill-rule=\"evenodd\" fill-opacity=\"1\" /><path clip-path=\"url(#clip090)\" d=\"M43.9319 455.943 Q40.3208 455.943 38.4921 459.508 Q36.6865 463.049 36.6865 470.179 Q36.6865 477.285 38.4921 480.85 Q40.3208 484.392 43.9319 484.392 Q47.5661 484.392 49.3717 480.85 Q51.2004 477.285 51.2004 470.179 Q51.2004 463.049 49.3717 459.508 Q47.5661 455.943 43.9319 455.943 M43.9319 452.239 Q49.742 452.239 52.7976 456.846 Q55.8763 461.429 55.8763 470.179 Q55.8763 478.906 52.7976 483.512 Q49.742 488.096 43.9319 488.096 Q38.1217 488.096 35.043 483.512 Q31.9875 478.906 31.9875 470.179 Q31.9875 461.429 35.043 456.846 Q38.1217 452.239 43.9319 452.239 Z\" fill=\"#000000\" fill-rule=\"evenodd\" fill-opacity=\"1\" /><path clip-path=\"url(#clip090)\" d=\"M64.0938 481.545 L68.978 481.545 L68.978 487.424 L64.0938 487.424 L64.0938 481.545 Z\" fill=\"#000000\" fill-rule=\"evenodd\" fill-opacity=\"1\" /><path clip-path=\"url(#clip090)\" d=\"M77.9826 452.864 L100.205 452.864 L100.205 454.855 L87.6585 487.424 L82.7743 487.424 L94.5797 456.799 L77.9826 456.799 L77.9826 452.864 Z\" fill=\"#000000\" fill-rule=\"evenodd\" fill-opacity=\"1\" /><path clip-path=\"url(#clip090)\" d=\"M109.371 452.864 L127.728 452.864 L127.728 456.799 L113.654 456.799 L113.654 465.272 Q114.672 464.924 115.691 464.762 Q116.709 464.577 117.728 464.577 Q123.515 464.577 126.894 467.748 Q130.274 470.92 130.274 476.336 Q130.274 481.915 126.802 485.017 Q123.33 488.096 117.01 488.096 Q114.834 488.096 112.566 487.725 Q110.32 487.355 107.913 486.614 L107.913 481.915 Q109.996 483.049 112.219 483.605 Q114.441 484.16 116.918 484.16 Q120.922 484.16 123.26 482.054 Q125.598 479.947 125.598 476.336 Q125.598 472.725 123.26 470.619 Q120.922 468.512 116.918 468.512 Q115.043 468.512 113.168 468.929 Q111.316 469.346 109.371 470.225 L109.371 452.864 Z\" fill=\"#000000\" fill-rule=\"evenodd\" fill-opacity=\"1\" /><path clip-path=\"url(#clip090)\" d=\"M33.7467 183.024 L41.3856 183.024 L41.3856 156.658 L33.0754 158.325 L33.0754 154.065 L41.3393 152.399 L46.0152 152.399 L46.0152 183.024 L53.654 183.024 L53.654 186.959 L33.7467 186.959 L33.7467 183.024 Z\" fill=\"#000000\" fill-rule=\"evenodd\" fill-opacity=\"1\" /><path clip-path=\"url(#clip090)\" d=\"M63.0984 181.079 L67.9827 181.079 L67.9827 186.959 L63.0984 186.959 L63.0984 181.079 Z\" fill=\"#000000\" fill-rule=\"evenodd\" fill-opacity=\"1\" /><path clip-path=\"url(#clip090)\" d=\"M88.1677 155.477 Q84.5567 155.477 82.728 159.042 Q80.9224 162.584 80.9224 169.713 Q80.9224 176.82 82.728 180.385 Q84.5567 183.926 88.1677 183.926 Q91.802 183.926 93.6075 180.385 Q95.4362 176.82 95.4362 169.713 Q95.4362 162.584 93.6075 159.042 Q91.802 155.477 88.1677 155.477 M88.1677 151.774 Q93.9779 151.774 97.0334 156.38 Q100.112 160.963 100.112 169.713 Q100.112 178.44 97.0334 183.047 Q93.9779 187.63 88.1677 187.63 Q82.3576 187.63 79.2789 183.047 Q76.2234 178.44 76.2234 169.713 Q76.2234 160.963 79.2789 156.38 Q82.3576 151.774 88.1677 151.774 Z\" fill=\"#000000\" fill-rule=\"evenodd\" fill-opacity=\"1\" /><path clip-path=\"url(#clip090)\" d=\"M118.33 155.477 Q114.719 155.477 112.89 159.042 Q111.084 162.584 111.084 169.713 Q111.084 176.82 112.89 180.385 Q114.719 183.926 118.33 183.926 Q121.964 183.926 123.769 180.385 Q125.598 176.82 125.598 169.713 Q125.598 162.584 123.769 159.042 Q121.964 155.477 118.33 155.477 M118.33 151.774 Q124.14 151.774 127.195 156.38 Q130.274 160.963 130.274 169.713 Q130.274 178.44 127.195 183.047 Q124.14 187.63 118.33 187.63 Q112.519 187.63 109.441 183.047 Q106.385 178.44 106.385 169.713 Q106.385 160.963 109.441 156.38 Q112.519 151.774 118.33 151.774 Z\" fill=\"#000000\" fill-rule=\"evenodd\" fill-opacity=\"1\" /><circle clip-path=\"url(#clip092)\" cx=\"320.37\" cy=\"520.539\" r=\"14\" fill=\"#ff00cc\" fill-rule=\"evenodd\" fill-opacity=\"1\" stroke=\"#000000\" stroke-opacity=\"1\" stroke-width=\"3.2\"/>\n",
       "<circle clip-path=\"url(#clip092)\" cx=\"328.776\" cy=\"599.257\" r=\"14\" fill=\"#0000ff\" fill-rule=\"evenodd\" fill-opacity=\"1\" stroke=\"#000000\" stroke-opacity=\"1\" stroke-width=\"3.2\"/>\n",
       "<circle clip-path=\"url(#clip092)\" cx=\"288.81\" cy=\"537.505\" r=\"14\" fill=\"#0000ff\" fill-rule=\"evenodd\" fill-opacity=\"1\" stroke=\"#000000\" stroke-opacity=\"1\" stroke-width=\"3.2\"/>\n",
       "<circle clip-path=\"url(#clip092)\" cx=\"309.192\" cy=\"600.483\" r=\"14\" fill=\"#ff0099\" fill-rule=\"evenodd\" fill-opacity=\"1\" stroke=\"#000000\" stroke-opacity=\"1\" stroke-width=\"3.2\"/>\n",
       "<circle clip-path=\"url(#clip092)\" cx=\"299.002\" cy=\"555.352\" r=\"14\" fill=\"#0000ff\" fill-rule=\"evenodd\" fill-opacity=\"1\" stroke=\"#000000\" stroke-opacity=\"1\" stroke-width=\"3.2\"/>\n",
       "<circle clip-path=\"url(#clip092)\" cx=\"561.452\" cy=\"750.761\" r=\"14\" fill=\"#ff0000\" fill-rule=\"evenodd\" fill-opacity=\"1\" stroke=\"#000000\" stroke-opacity=\"1\" stroke-width=\"3.2\"/>\n",
       "<circle clip-path=\"url(#clip092)\" cx=\"525.909\" cy=\"764.599\" r=\"14\" fill=\"#ff00ff\" fill-rule=\"evenodd\" fill-opacity=\"1\" stroke=\"#000000\" stroke-opacity=\"1\" stroke-width=\"3.2\"/>\n",
       "<circle clip-path=\"url(#clip092)\" cx=\"554.53\" cy=\"755.566\" r=\"14\" fill=\"#6600ff\" fill-rule=\"evenodd\" fill-opacity=\"1\" stroke=\"#000000\" stroke-opacity=\"1\" stroke-width=\"3.2\"/>\n",
       "<circle clip-path=\"url(#clip092)\" cx=\"715.393\" cy=\"1146.62\" r=\"14\" fill=\"#0000ff\" fill-rule=\"evenodd\" fill-opacity=\"1\" stroke=\"#000000\" stroke-opacity=\"1\" stroke-width=\"3.2\"/>\n",
       "<circle clip-path=\"url(#clip092)\" cx=\"654.664\" cy=\"1132.26\" r=\"14\" fill=\"#ff0066\" fill-rule=\"evenodd\" fill-opacity=\"1\" stroke=\"#000000\" stroke-opacity=\"1\" stroke-width=\"3.2\"/>\n",
       "<circle clip-path=\"url(#clip092)\" cx=\"719.391\" cy=\"1184.08\" r=\"14\" fill=\"#ff0000\" fill-rule=\"evenodd\" fill-opacity=\"1\" stroke=\"#000000\" stroke-opacity=\"1\" stroke-width=\"3.2\"/>\n",
       "<circle clip-path=\"url(#clip092)\" cx=\"657.018\" cy=\"1096.85\" r=\"14\" fill=\"#ff0000\" fill-rule=\"evenodd\" fill-opacity=\"1\" stroke=\"#000000\" stroke-opacity=\"1\" stroke-width=\"3.2\"/>\n",
       "<circle clip-path=\"url(#clip092)\" cx=\"667.929\" cy=\"1135.29\" r=\"14\" fill=\"#9900ff\" fill-rule=\"evenodd\" fill-opacity=\"1\" stroke=\"#000000\" stroke-opacity=\"1\" stroke-width=\"3.2\"/>\n",
       "<circle clip-path=\"url(#clip092)\" cx=\"657.762\" cy=\"1081.04\" r=\"14\" fill=\"#0000ff\" fill-rule=\"evenodd\" fill-opacity=\"1\" stroke=\"#000000\" stroke-opacity=\"1\" stroke-width=\"3.2\"/>\n",
       "<circle clip-path=\"url(#clip092)\" cx=\"685.824\" cy=\"1080.78\" r=\"14\" fill=\"#0000ff\" fill-rule=\"evenodd\" fill-opacity=\"1\" stroke=\"#000000\" stroke-opacity=\"1\" stroke-width=\"3.2\"/>\n",
       "<circle clip-path=\"url(#clip092)\" cx=\"662.041\" cy=\"1124.34\" r=\"14\" fill=\"#ff0000\" fill-rule=\"evenodd\" fill-opacity=\"1\" stroke=\"#000000\" stroke-opacity=\"1\" stroke-width=\"3.2\"/>\n",
       "<circle clip-path=\"url(#clip092)\" cx=\"827.213\" cy=\"1216.45\" r=\"14\" fill=\"#ff0000\" fill-rule=\"evenodd\" fill-opacity=\"1\" stroke=\"#000000\" stroke-opacity=\"1\" stroke-width=\"3.2\"/>\n",
       "<circle clip-path=\"url(#clip092)\" cx=\"836.638\" cy=\"1305.89\" r=\"14\" fill=\"#cc00ff\" fill-rule=\"evenodd\" fill-opacity=\"1\" stroke=\"#000000\" stroke-opacity=\"1\" stroke-width=\"3.2\"/>\n",
       "<circle clip-path=\"url(#clip092)\" cx=\"821.628\" cy=\"1209.43\" r=\"14\" fill=\"#ff0066\" fill-rule=\"evenodd\" fill-opacity=\"1\" stroke=\"#000000\" stroke-opacity=\"1\" stroke-width=\"3.2\"/>\n",
       "<circle clip-path=\"url(#clip092)\" cx=\"822.181\" cy=\"989.786\" r=\"14\" fill=\"#0000ff\" fill-rule=\"evenodd\" fill-opacity=\"1\" stroke=\"#000000\" stroke-opacity=\"1\" stroke-width=\"3.2\"/>\n",
       "<circle clip-path=\"url(#clip092)\" cx=\"838.174\" cy=\"997.18\" r=\"14\" fill=\"#9900ff\" fill-rule=\"evenodd\" fill-opacity=\"1\" stroke=\"#000000\" stroke-opacity=\"1\" stroke-width=\"3.2\"/>\n",
       "<circle clip-path=\"url(#clip092)\" cx=\"893.104\" cy=\"1408.58\" r=\"14\" fill=\"#ff00ff\" fill-rule=\"evenodd\" fill-opacity=\"1\" stroke=\"#000000\" stroke-opacity=\"1\" stroke-width=\"3.2\"/>\n",
       "<circle clip-path=\"url(#clip092)\" cx=\"940.534\" cy=\"1318.49\" r=\"14\" fill=\"#ff0033\" fill-rule=\"evenodd\" fill-opacity=\"1\" stroke=\"#000000\" stroke-opacity=\"1\" stroke-width=\"3.2\"/>\n",
       "<circle clip-path=\"url(#clip092)\" cx=\"936.055\" cy=\"1371.23\" r=\"14\" fill=\"#ff0099\" fill-rule=\"evenodd\" fill-opacity=\"1\" stroke=\"#000000\" stroke-opacity=\"1\" stroke-width=\"3.2\"/>\n",
       "<circle clip-path=\"url(#clip092)\" cx=\"903.26\" cy=\"1347.55\" r=\"14\" fill=\"#ff0000\" fill-rule=\"evenodd\" fill-opacity=\"1\" stroke=\"#000000\" stroke-opacity=\"1\" stroke-width=\"3.2\"/>\n",
       "<circle clip-path=\"url(#clip092)\" cx=\"907.822\" cy=\"1371.5\" r=\"14\" fill=\"#cc00ff\" fill-rule=\"evenodd\" fill-opacity=\"1\" stroke=\"#000000\" stroke-opacity=\"1\" stroke-width=\"3.2\"/>\n",
       "<circle clip-path=\"url(#clip092)\" cx=\"904.514\" cy=\"1380.36\" r=\"14\" fill=\"#ff00ff\" fill-rule=\"evenodd\" fill-opacity=\"1\" stroke=\"#000000\" stroke-opacity=\"1\" stroke-width=\"3.2\"/>\n",
       "<circle clip-path=\"url(#clip092)\" cx=\"906.915\" cy=\"1347.92\" r=\"14\" fill=\"#ff0066\" fill-rule=\"evenodd\" fill-opacity=\"1\" stroke=\"#000000\" stroke-opacity=\"1\" stroke-width=\"3.2\"/>\n",
       "<circle clip-path=\"url(#clip092)\" cx=\"1623.13\" cy=\"1407.72\" r=\"14\" fill=\"#ff0033\" fill-rule=\"evenodd\" fill-opacity=\"1\" stroke=\"#000000\" stroke-opacity=\"1\" stroke-width=\"3.2\"/>\n",
       "<circle clip-path=\"url(#clip092)\" cx=\"1670.17\" cy=\"1383.92\" r=\"14\" fill=\"#ff0066\" fill-rule=\"evenodd\" fill-opacity=\"1\" stroke=\"#000000\" stroke-opacity=\"1\" stroke-width=\"3.2\"/>\n",
       "<circle clip-path=\"url(#clip092)\" cx=\"1666.51\" cy=\"1418.42\" r=\"14\" fill=\"#ff00cc\" fill-rule=\"evenodd\" fill-opacity=\"1\" stroke=\"#000000\" stroke-opacity=\"1\" stroke-width=\"3.2\"/>\n",
       "<circle clip-path=\"url(#clip092)\" cx=\"1686.14\" cy=\"1414.86\" r=\"14\" fill=\"#3300ff\" fill-rule=\"evenodd\" fill-opacity=\"1\" stroke=\"#000000\" stroke-opacity=\"1\" stroke-width=\"3.2\"/>\n",
       "<circle clip-path=\"url(#clip092)\" cx=\"1656.92\" cy=\"1396.82\" r=\"14\" fill=\"#3300ff\" fill-rule=\"evenodd\" fill-opacity=\"1\" stroke=\"#000000\" stroke-opacity=\"1\" stroke-width=\"3.2\"/>\n",
       "<circle clip-path=\"url(#clip092)\" cx=\"1653.84\" cy=\"1368.57\" r=\"14\" fill=\"#3300ff\" fill-rule=\"evenodd\" fill-opacity=\"1\" stroke=\"#000000\" stroke-opacity=\"1\" stroke-width=\"3.2\"/>\n",
       "<circle clip-path=\"url(#clip092)\" cx=\"1623.28\" cy=\"1330.49\" r=\"14\" fill=\"#9900ff\" fill-rule=\"evenodd\" fill-opacity=\"1\" stroke=\"#000000\" stroke-opacity=\"1\" stroke-width=\"3.2\"/>\n",
       "<circle clip-path=\"url(#clip092)\" cx=\"1674.65\" cy=\"176.188\" r=\"14\" fill=\"#ff0033\" fill-rule=\"evenodd\" fill-opacity=\"1\" stroke=\"#000000\" stroke-opacity=\"1\" stroke-width=\"3.2\"/>\n",
       "<circle clip-path=\"url(#clip092)\" cx=\"1670.46\" cy=\"157.069\" r=\"14\" fill=\"#0000ff\" fill-rule=\"evenodd\" fill-opacity=\"1\" stroke=\"#000000\" stroke-opacity=\"1\" stroke-width=\"3.2\"/>\n",
       "<circle clip-path=\"url(#clip092)\" cx=\"1997.43\" cy=\"88.5876\" r=\"14\" fill=\"#3300ff\" fill-rule=\"evenodd\" fill-opacity=\"1\" stroke=\"#000000\" stroke-opacity=\"1\" stroke-width=\"3.2\"/>\n",
       "<circle clip-path=\"url(#clip092)\" cx=\"2020.13\" cy=\"230.792\" r=\"14\" fill=\"#ff00ff\" fill-rule=\"evenodd\" fill-opacity=\"1\" stroke=\"#000000\" stroke-opacity=\"1\" stroke-width=\"3.2\"/>\n",
       "<circle clip-path=\"url(#clip092)\" cx=\"2038.75\" cy=\"151.915\" r=\"14\" fill=\"#ff00ff\" fill-rule=\"evenodd\" fill-opacity=\"1\" stroke=\"#000000\" stroke-opacity=\"1\" stroke-width=\"3.2\"/>\n",
       "<circle clip-path=\"url(#clip092)\" cx=\"310.985\" cy=\"534.755\" r=\"14\" fill=\"#ff00cc\" fill-rule=\"evenodd\" fill-opacity=\"1\" stroke=\"#000000\" stroke-opacity=\"1\" stroke-width=\"3.2\"/>\n",
       "<circle clip-path=\"url(#clip092)\" cx=\"328.276\" cy=\"511.967\" r=\"14\" fill=\"#0000ff\" fill-rule=\"evenodd\" fill-opacity=\"1\" stroke=\"#000000\" stroke-opacity=\"1\" stroke-width=\"3.2\"/>\n",
       "<circle clip-path=\"url(#clip092)\" cx=\"314.939\" cy=\"561.426\" r=\"14\" fill=\"#0000ff\" fill-rule=\"evenodd\" fill-opacity=\"1\" stroke=\"#000000\" stroke-opacity=\"1\" stroke-width=\"3.2\"/>\n",
       "<circle clip-path=\"url(#clip092)\" cx=\"297.566\" cy=\"497.303\" r=\"14\" fill=\"#ff0099\" fill-rule=\"evenodd\" fill-opacity=\"1\" stroke=\"#000000\" stroke-opacity=\"1\" stroke-width=\"3.2\"/>\n",
       "<circle clip-path=\"url(#clip092)\" cx=\"279.537\" cy=\"492.747\" r=\"14\" fill=\"#0000ff\" fill-rule=\"evenodd\" fill-opacity=\"1\" stroke=\"#000000\" stroke-opacity=\"1\" stroke-width=\"3.2\"/>\n",
       "<circle clip-path=\"url(#clip092)\" cx=\"531.219\" cy=\"766.771\" r=\"14\" fill=\"#ff0000\" fill-rule=\"evenodd\" fill-opacity=\"1\" stroke=\"#000000\" stroke-opacity=\"1\" stroke-width=\"3.2\"/>\n",
       "<circle clip-path=\"url(#clip092)\" cx=\"551.087\" cy=\"810.419\" r=\"14\" fill=\"#ff00ff\" fill-rule=\"evenodd\" fill-opacity=\"1\" stroke=\"#000000\" stroke-opacity=\"1\" stroke-width=\"3.2\"/>\n",
       "<circle clip-path=\"url(#clip092)\" cx=\"547.921\" cy=\"797.396\" r=\"14\" fill=\"#6600ff\" fill-rule=\"evenodd\" fill-opacity=\"1\" stroke=\"#000000\" stroke-opacity=\"1\" stroke-width=\"3.2\"/>\n",
       "<circle clip-path=\"url(#clip092)\" cx=\"671.286\" cy=\"1168.07\" r=\"14\" fill=\"#0000ff\" fill-rule=\"evenodd\" fill-opacity=\"1\" stroke=\"#000000\" stroke-opacity=\"1\" stroke-width=\"3.2\"/>\n",
       "<circle clip-path=\"url(#clip092)\" cx=\"679.459\" cy=\"1183.88\" r=\"14\" fill=\"#ff0066\" fill-rule=\"evenodd\" fill-opacity=\"1\" stroke=\"#000000\" stroke-opacity=\"1\" stroke-width=\"3.2\"/>\n",
       "<circle clip-path=\"url(#clip092)\" cx=\"651.602\" cy=\"1122.95\" r=\"14\" fill=\"#ff0000\" fill-rule=\"evenodd\" fill-opacity=\"1\" stroke=\"#000000\" stroke-opacity=\"1\" stroke-width=\"3.2\"/>\n",
       "<circle clip-path=\"url(#clip092)\" cx=\"686.733\" cy=\"1101.73\" r=\"14\" fill=\"#ff0000\" fill-rule=\"evenodd\" fill-opacity=\"1\" stroke=\"#000000\" stroke-opacity=\"1\" stroke-width=\"3.2\"/>\n",
       "<circle clip-path=\"url(#clip092)\" cx=\"665.103\" cy=\"1069.69\" r=\"14\" fill=\"#9900ff\" fill-rule=\"evenodd\" fill-opacity=\"1\" stroke=\"#000000\" stroke-opacity=\"1\" stroke-width=\"3.2\"/>\n",
       "<circle clip-path=\"url(#clip092)\" cx=\"661.875\" cy=\"1139.91\" r=\"14\" fill=\"#0000ff\" fill-rule=\"evenodd\" fill-opacity=\"1\" stroke=\"#000000\" stroke-opacity=\"1\" stroke-width=\"3.2\"/>\n",
       "<circle clip-path=\"url(#clip092)\" cx=\"670.443\" cy=\"1104.93\" r=\"14\" fill=\"#0000ff\" fill-rule=\"evenodd\" fill-opacity=\"1\" stroke=\"#000000\" stroke-opacity=\"1\" stroke-width=\"3.2\"/>\n",
       "<circle clip-path=\"url(#clip092)\" cx=\"644.158\" cy=\"1091.3\" r=\"14\" fill=\"#ff0000\" fill-rule=\"evenodd\" fill-opacity=\"1\" stroke=\"#000000\" stroke-opacity=\"1\" stroke-width=\"3.2\"/>\n",
       "<circle clip-path=\"url(#clip092)\" cx=\"831.286\" cy=\"1215.91\" r=\"14\" fill=\"#ff0000\" fill-rule=\"evenodd\" fill-opacity=\"1\" stroke=\"#000000\" stroke-opacity=\"1\" stroke-width=\"3.2\"/>\n",
       "<circle clip-path=\"url(#clip092)\" cx=\"821.293\" cy=\"1267.5\" r=\"14\" fill=\"#cc00ff\" fill-rule=\"evenodd\" fill-opacity=\"1\" stroke=\"#000000\" stroke-opacity=\"1\" stroke-width=\"3.2\"/>\n",
       "<circle clip-path=\"url(#clip092)\" cx=\"828.555\" cy=\"1271.99\" r=\"14\" fill=\"#ff0066\" fill-rule=\"evenodd\" fill-opacity=\"1\" stroke=\"#000000\" stroke-opacity=\"1\" stroke-width=\"3.2\"/>\n",
       "<circle clip-path=\"url(#clip092)\" cx=\"836.155\" cy=\"1062.08\" r=\"14\" fill=\"#0000ff\" fill-rule=\"evenodd\" fill-opacity=\"1\" stroke=\"#000000\" stroke-opacity=\"1\" stroke-width=\"3.2\"/>\n",
       "<circle clip-path=\"url(#clip092)\" cx=\"838.908\" cy=\"1019.37\" r=\"14\" fill=\"#9900ff\" fill-rule=\"evenodd\" fill-opacity=\"1\" stroke=\"#000000\" stroke-opacity=\"1\" stroke-width=\"3.2\"/>\n",
       "<circle clip-path=\"url(#clip092)\" cx=\"897.537\" cy=\"1411.66\" r=\"14\" fill=\"#ff00ff\" fill-rule=\"evenodd\" fill-opacity=\"1\" stroke=\"#000000\" stroke-opacity=\"1\" stroke-width=\"3.2\"/>\n",
       "<circle clip-path=\"url(#clip092)\" cx=\"911.964\" cy=\"1328.17\" r=\"14\" fill=\"#ff0033\" fill-rule=\"evenodd\" fill-opacity=\"1\" stroke=\"#000000\" stroke-opacity=\"1\" stroke-width=\"3.2\"/>\n",
       "<circle clip-path=\"url(#clip092)\" cx=\"883.531\" cy=\"1392.68\" r=\"14\" fill=\"#ff0099\" fill-rule=\"evenodd\" fill-opacity=\"1\" stroke=\"#000000\" stroke-opacity=\"1\" stroke-width=\"3.2\"/>\n",
       "<circle clip-path=\"url(#clip092)\" cx=\"886.225\" cy=\"1318.13\" r=\"14\" fill=\"#ff0000\" fill-rule=\"evenodd\" fill-opacity=\"1\" stroke=\"#000000\" stroke-opacity=\"1\" stroke-width=\"3.2\"/>\n",
       "<circle clip-path=\"url(#clip092)\" cx=\"924.238\" cy=\"1316.95\" r=\"14\" fill=\"#cc00ff\" fill-rule=\"evenodd\" fill-opacity=\"1\" stroke=\"#000000\" stroke-opacity=\"1\" stroke-width=\"3.2\"/>\n",
       "<circle clip-path=\"url(#clip092)\" cx=\"894.527\" cy=\"1389.37\" r=\"14\" fill=\"#ff00ff\" fill-rule=\"evenodd\" fill-opacity=\"1\" stroke=\"#000000\" stroke-opacity=\"1\" stroke-width=\"3.2\"/>\n",
       "<circle clip-path=\"url(#clip092)\" cx=\"918.431\" cy=\"1365.39\" r=\"14\" fill=\"#ff0066\" fill-rule=\"evenodd\" fill-opacity=\"1\" stroke=\"#000000\" stroke-opacity=\"1\" stroke-width=\"3.2\"/>\n",
       "<circle clip-path=\"url(#clip092)\" cx=\"1677.51\" cy=\"1427.62\" r=\"14\" fill=\"#ff0033\" fill-rule=\"evenodd\" fill-opacity=\"1\" stroke=\"#000000\" stroke-opacity=\"1\" stroke-width=\"3.2\"/>\n",
       "<circle clip-path=\"url(#clip092)\" cx=\"1621.4\" cy=\"1381.28\" r=\"14\" fill=\"#ff0066\" fill-rule=\"evenodd\" fill-opacity=\"1\" stroke=\"#000000\" stroke-opacity=\"1\" stroke-width=\"3.2\"/>\n",
       "<circle clip-path=\"url(#clip092)\" cx=\"1664.48\" cy=\"1466.7\" r=\"14\" fill=\"#ff00cc\" fill-rule=\"evenodd\" fill-opacity=\"1\" stroke=\"#000000\" stroke-opacity=\"1\" stroke-width=\"3.2\"/>\n",
       "<circle clip-path=\"url(#clip092)\" cx=\"1638.07\" cy=\"1332.59\" r=\"14\" fill=\"#3300ff\" fill-rule=\"evenodd\" fill-opacity=\"1\" stroke=\"#000000\" stroke-opacity=\"1\" stroke-width=\"3.2\"/>\n",
       "<circle clip-path=\"url(#clip092)\" cx=\"1621.83\" cy=\"1356.92\" r=\"14\" fill=\"#3300ff\" fill-rule=\"evenodd\" fill-opacity=\"1\" stroke=\"#000000\" stroke-opacity=\"1\" stroke-width=\"3.2\"/>\n",
       "<circle clip-path=\"url(#clip092)\" cx=\"1637.21\" cy=\"1344.63\" r=\"14\" fill=\"#3300ff\" fill-rule=\"evenodd\" fill-opacity=\"1\" stroke=\"#000000\" stroke-opacity=\"1\" stroke-width=\"3.2\"/>\n",
       "<circle clip-path=\"url(#clip092)\" cx=\"1640.66\" cy=\"1372\" r=\"14\" fill=\"#9900ff\" fill-rule=\"evenodd\" fill-opacity=\"1\" stroke=\"#000000\" stroke-opacity=\"1\" stroke-width=\"3.2\"/>\n",
       "<circle clip-path=\"url(#clip092)\" cx=\"1645.69\" cy=\"126.82\" r=\"14\" fill=\"#ff0033\" fill-rule=\"evenodd\" fill-opacity=\"1\" stroke=\"#000000\" stroke-opacity=\"1\" stroke-width=\"3.2\"/>\n",
       "<circle clip-path=\"url(#clip092)\" cx=\"1637.47\" cy=\"229.126\" r=\"14\" fill=\"#0000ff\" fill-rule=\"evenodd\" fill-opacity=\"1\" stroke=\"#000000\" stroke-opacity=\"1\" stroke-width=\"3.2\"/>\n",
       "<circle clip-path=\"url(#clip092)\" cx=\"2000.03\" cy=\"194.683\" r=\"14\" fill=\"#3300ff\" fill-rule=\"evenodd\" fill-opacity=\"1\" stroke=\"#000000\" stroke-opacity=\"1\" stroke-width=\"3.2\"/>\n",
       "<circle clip-path=\"url(#clip092)\" cx=\"2026.04\" cy=\"142.66\" r=\"14\" fill=\"#ff00ff\" fill-rule=\"evenodd\" fill-opacity=\"1\" stroke=\"#000000\" stroke-opacity=\"1\" stroke-width=\"3.2\"/>\n",
       "<circle clip-path=\"url(#clip092)\" cx=\"2007.08\" cy=\"89.128\" r=\"14\" fill=\"#ff00ff\" fill-rule=\"evenodd\" fill-opacity=\"1\" stroke=\"#000000\" stroke-opacity=\"1\" stroke-width=\"3.2\"/>\n",
       "<circle clip-path=\"url(#clip092)\" cx=\"285.444\" cy=\"461.267\" r=\"14\" fill=\"#ff00cc\" fill-rule=\"evenodd\" fill-opacity=\"1\" stroke=\"#000000\" stroke-opacity=\"1\" stroke-width=\"3.2\"/>\n",
       "<circle clip-path=\"url(#clip092)\" cx=\"317.947\" cy=\"485.776\" r=\"14\" fill=\"#0000ff\" fill-rule=\"evenodd\" fill-opacity=\"1\" stroke=\"#000000\" stroke-opacity=\"1\" stroke-width=\"3.2\"/>\n",
       "<circle clip-path=\"url(#clip092)\" cx=\"307.765\" cy=\"584.249\" r=\"14\" fill=\"#0000ff\" fill-rule=\"evenodd\" fill-opacity=\"1\" stroke=\"#000000\" stroke-opacity=\"1\" stroke-width=\"3.2\"/>\n",
       "<circle clip-path=\"url(#clip092)\" cx=\"323.119\" cy=\"565.325\" r=\"14\" fill=\"#ff0099\" fill-rule=\"evenodd\" fill-opacity=\"1\" stroke=\"#000000\" stroke-opacity=\"1\" stroke-width=\"3.2\"/>\n",
       "<circle clip-path=\"url(#clip092)\" cx=\"296.904\" cy=\"487.134\" r=\"14\" fill=\"#0000ff\" fill-rule=\"evenodd\" fill-opacity=\"1\" stroke=\"#000000\" stroke-opacity=\"1\" stroke-width=\"3.2\"/>\n",
       "<circle clip-path=\"url(#clip092)\" cx=\"519.864\" cy=\"798.079\" r=\"14\" fill=\"#ff0000\" fill-rule=\"evenodd\" fill-opacity=\"1\" stroke=\"#000000\" stroke-opacity=\"1\" stroke-width=\"3.2\"/>\n",
       "<circle clip-path=\"url(#clip092)\" cx=\"559.945\" cy=\"736.252\" r=\"14\" fill=\"#ff00ff\" fill-rule=\"evenodd\" fill-opacity=\"1\" stroke=\"#000000\" stroke-opacity=\"1\" stroke-width=\"3.2\"/>\n",
       "<circle clip-path=\"url(#clip092)\" cx=\"518.97\" cy=\"713.394\" r=\"14\" fill=\"#6600ff\" fill-rule=\"evenodd\" fill-opacity=\"1\" stroke=\"#000000\" stroke-opacity=\"1\" stroke-width=\"3.2\"/>\n",
       "<circle clip-path=\"url(#clip092)\" cx=\"627.448\" cy=\"1181.16\" r=\"14\" fill=\"#0000ff\" fill-rule=\"evenodd\" fill-opacity=\"1\" stroke=\"#000000\" stroke-opacity=\"1\" stroke-width=\"3.2\"/>\n",
       "<circle clip-path=\"url(#clip092)\" cx=\"648.974\" cy=\"1056.26\" r=\"14\" fill=\"#ff0066\" fill-rule=\"evenodd\" fill-opacity=\"1\" stroke=\"#000000\" stroke-opacity=\"1\" stroke-width=\"3.2\"/>\n",
       "<circle clip-path=\"url(#clip092)\" cx=\"699.162\" cy=\"1145.06\" r=\"14\" fill=\"#ff0000\" fill-rule=\"evenodd\" fill-opacity=\"1\" stroke=\"#000000\" stroke-opacity=\"1\" stroke-width=\"3.2\"/>\n",
       "<circle clip-path=\"url(#clip092)\" cx=\"657.257\" cy=\"1167.71\" r=\"14\" fill=\"#ff0000\" fill-rule=\"evenodd\" fill-opacity=\"1\" stroke=\"#000000\" stroke-opacity=\"1\" stroke-width=\"3.2\"/>\n",
       "<circle clip-path=\"url(#clip092)\" cx=\"688.659\" cy=\"1073.62\" r=\"14\" fill=\"#9900ff\" fill-rule=\"evenodd\" fill-opacity=\"1\" stroke=\"#000000\" stroke-opacity=\"1\" stroke-width=\"3.2\"/>\n",
       "<circle clip-path=\"url(#clip092)\" cx=\"692.002\" cy=\"1130.8\" r=\"14\" fill=\"#0000ff\" fill-rule=\"evenodd\" fill-opacity=\"1\" stroke=\"#000000\" stroke-opacity=\"1\" stroke-width=\"3.2\"/>\n",
       "<circle clip-path=\"url(#clip092)\" cx=\"676.717\" cy=\"1126.2\" r=\"14\" fill=\"#0000ff\" fill-rule=\"evenodd\" fill-opacity=\"1\" stroke=\"#000000\" stroke-opacity=\"1\" stroke-width=\"3.2\"/>\n",
       "<circle clip-path=\"url(#clip092)\" cx=\"680.606\" cy=\"1153.65\" r=\"14\" fill=\"#ff0000\" fill-rule=\"evenodd\" fill-opacity=\"1\" stroke=\"#000000\" stroke-opacity=\"1\" stroke-width=\"3.2\"/>\n",
       "<circle clip-path=\"url(#clip092)\" cx=\"846.109\" cy=\"1229.59\" r=\"14\" fill=\"#ff0000\" fill-rule=\"evenodd\" fill-opacity=\"1\" stroke=\"#000000\" stroke-opacity=\"1\" stroke-width=\"3.2\"/>\n",
       "<circle clip-path=\"url(#clip092)\" cx=\"831.229\" cy=\"1207.47\" r=\"14\" fill=\"#cc00ff\" fill-rule=\"evenodd\" fill-opacity=\"1\" stroke=\"#000000\" stroke-opacity=\"1\" stroke-width=\"3.2\"/>\n",
       "<circle clip-path=\"url(#clip092)\" cx=\"836.649\" cy=\"1212.48\" r=\"14\" fill=\"#ff0066\" fill-rule=\"evenodd\" fill-opacity=\"1\" stroke=\"#000000\" stroke-opacity=\"1\" stroke-width=\"3.2\"/>\n",
       "<circle clip-path=\"url(#clip092)\" cx=\"819.068\" cy=\"942.827\" r=\"14\" fill=\"#0000ff\" fill-rule=\"evenodd\" fill-opacity=\"1\" stroke=\"#000000\" stroke-opacity=\"1\" stroke-width=\"3.2\"/>\n",
       "<circle clip-path=\"url(#clip092)\" cx=\"791.455\" cy=\"1003.45\" r=\"14\" fill=\"#9900ff\" fill-rule=\"evenodd\" fill-opacity=\"1\" stroke=\"#000000\" stroke-opacity=\"1\" stroke-width=\"3.2\"/>\n",
       "<circle clip-path=\"url(#clip092)\" cx=\"903.37\" cy=\"1372.76\" r=\"14\" fill=\"#ff00ff\" fill-rule=\"evenodd\" fill-opacity=\"1\" stroke=\"#000000\" stroke-opacity=\"1\" stroke-width=\"3.2\"/>\n",
       "<circle clip-path=\"url(#clip092)\" cx=\"876.591\" cy=\"1273.49\" r=\"14\" fill=\"#ff0033\" fill-rule=\"evenodd\" fill-opacity=\"1\" stroke=\"#000000\" stroke-opacity=\"1\" stroke-width=\"3.2\"/>\n",
       "<circle clip-path=\"url(#clip092)\" cx=\"906.37\" cy=\"1374.57\" r=\"14\" fill=\"#ff0099\" fill-rule=\"evenodd\" fill-opacity=\"1\" stroke=\"#000000\" stroke-opacity=\"1\" stroke-width=\"3.2\"/>\n",
       "<circle clip-path=\"url(#clip092)\" cx=\"904.203\" cy=\"1456.12\" r=\"14\" fill=\"#ff0000\" fill-rule=\"evenodd\" fill-opacity=\"1\" stroke=\"#000000\" stroke-opacity=\"1\" stroke-width=\"3.2\"/>\n",
       "<circle clip-path=\"url(#clip092)\" cx=\"869.498\" cy=\"1388.31\" r=\"14\" fill=\"#cc00ff\" fill-rule=\"evenodd\" fill-opacity=\"1\" stroke=\"#000000\" stroke-opacity=\"1\" stroke-width=\"3.2\"/>\n",
       "<circle clip-path=\"url(#clip092)\" cx=\"889.259\" cy=\"1391.98\" r=\"14\" fill=\"#ff00ff\" fill-rule=\"evenodd\" fill-opacity=\"1\" stroke=\"#000000\" stroke-opacity=\"1\" stroke-width=\"3.2\"/>\n",
       "<circle clip-path=\"url(#clip092)\" cx=\"890.749\" cy=\"1393.12\" r=\"14\" fill=\"#ff0066\" fill-rule=\"evenodd\" fill-opacity=\"1\" stroke=\"#000000\" stroke-opacity=\"1\" stroke-width=\"3.2\"/>\n",
       "<circle clip-path=\"url(#clip092)\" cx=\"1647.76\" cy=\"1440.18\" r=\"14\" fill=\"#ff0033\" fill-rule=\"evenodd\" fill-opacity=\"1\" stroke=\"#000000\" stroke-opacity=\"1\" stroke-width=\"3.2\"/>\n",
       "<circle clip-path=\"url(#clip092)\" cx=\"1661.46\" cy=\"1403.06\" r=\"14\" fill=\"#ff0066\" fill-rule=\"evenodd\" fill-opacity=\"1\" stroke=\"#000000\" stroke-opacity=\"1\" stroke-width=\"3.2\"/>\n",
       "<circle clip-path=\"url(#clip092)\" cx=\"1622.36\" cy=\"1382.82\" r=\"14\" fill=\"#ff00cc\" fill-rule=\"evenodd\" fill-opacity=\"1\" stroke=\"#000000\" stroke-opacity=\"1\" stroke-width=\"3.2\"/>\n",
       "<circle clip-path=\"url(#clip092)\" cx=\"1642.14\" cy=\"1370.48\" r=\"14\" fill=\"#3300ff\" fill-rule=\"evenodd\" fill-opacity=\"1\" stroke=\"#000000\" stroke-opacity=\"1\" stroke-width=\"3.2\"/>\n",
       "<circle clip-path=\"url(#clip092)\" cx=\"1603.79\" cy=\"1409.26\" r=\"14\" fill=\"#3300ff\" fill-rule=\"evenodd\" fill-opacity=\"1\" stroke=\"#000000\" stroke-opacity=\"1\" stroke-width=\"3.2\"/>\n",
       "<circle clip-path=\"url(#clip092)\" cx=\"1604.37\" cy=\"1346.81\" r=\"14\" fill=\"#3300ff\" fill-rule=\"evenodd\" fill-opacity=\"1\" stroke=\"#000000\" stroke-opacity=\"1\" stroke-width=\"3.2\"/>\n",
       "<circle clip-path=\"url(#clip092)\" cx=\"1651.04\" cy=\"1378.11\" r=\"14\" fill=\"#9900ff\" fill-rule=\"evenodd\" fill-opacity=\"1\" stroke=\"#000000\" stroke-opacity=\"1\" stroke-width=\"3.2\"/>\n",
       "<circle clip-path=\"url(#clip092)\" cx=\"1687.46\" cy=\"206.72\" r=\"14\" fill=\"#ff0033\" fill-rule=\"evenodd\" fill-opacity=\"1\" stroke=\"#000000\" stroke-opacity=\"1\" stroke-width=\"3.2\"/>\n",
       "<circle clip-path=\"url(#clip092)\" cx=\"1640.76\" cy=\"173.846\" r=\"14\" fill=\"#0000ff\" fill-rule=\"evenodd\" fill-opacity=\"1\" stroke=\"#000000\" stroke-opacity=\"1\" stroke-width=\"3.2\"/>\n",
       "<circle clip-path=\"url(#clip092)\" cx=\"2054.97\" cy=\"190.875\" r=\"14\" fill=\"#3300ff\" fill-rule=\"evenodd\" fill-opacity=\"1\" stroke=\"#000000\" stroke-opacity=\"1\" stroke-width=\"3.2\"/>\n",
       "<circle clip-path=\"url(#clip092)\" cx=\"1994.14\" cy=\"176.688\" r=\"14\" fill=\"#ff00ff\" fill-rule=\"evenodd\" fill-opacity=\"1\" stroke=\"#000000\" stroke-opacity=\"1\" stroke-width=\"3.2\"/>\n",
       "<circle clip-path=\"url(#clip092)\" cx=\"2034.41\" cy=\"213.512\" r=\"14\" fill=\"#ff00ff\" fill-rule=\"evenodd\" fill-opacity=\"1\" stroke=\"#000000\" stroke-opacity=\"1\" stroke-width=\"3.2\"/>\n",
       "<path clip-path=\"url(#clip090)\" d=\"\n",
       "M2389.41 1508.05 L4271.37 1508.05 L4271.37 47.2441 L2389.41 47.2441  Z\n",
       "  \" fill=\"#ffffff\" fill-rule=\"evenodd\" fill-opacity=\"1\"/>\n",
       "<defs>\n",
       "  <clipPath id=\"clip093\">\n",
       "    <rect x=\"2389\" y=\"47\" width=\"1883\" height=\"1462\"/>\n",
       "  </clipPath>\n",
       "</defs>\n",
       "<polyline clip-path=\"url(#clip093)\" style=\"stroke:#000000; stroke-linecap:butt; stroke-linejoin:round; stroke-width:2; stroke-opacity:0.1; fill:none\" points=\"\n",
       "  2601.15,1508.05 2601.15,47.2441 \n",
       "  \"/>\n",
       "<polyline clip-path=\"url(#clip093)\" style=\"stroke:#000000; stroke-linecap:butt; stroke-linejoin:round; stroke-width:2; stroke-opacity:0.1; fill:none\" points=\"\n",
       "  2854.17,1508.05 2854.17,47.2441 \n",
       "  \"/>\n",
       "<polyline clip-path=\"url(#clip093)\" style=\"stroke:#000000; stroke-linecap:butt; stroke-linejoin:round; stroke-width:2; stroke-opacity:0.1; fill:none\" points=\"\n",
       "  3107.19,1508.05 3107.19,47.2441 \n",
       "  \"/>\n",
       "<polyline clip-path=\"url(#clip093)\" style=\"stroke:#000000; stroke-linecap:butt; stroke-linejoin:round; stroke-width:2; stroke-opacity:0.1; fill:none\" points=\"\n",
       "  3360.21,1508.05 3360.21,47.2441 \n",
       "  \"/>\n",
       "<polyline clip-path=\"url(#clip093)\" style=\"stroke:#000000; stroke-linecap:butt; stroke-linejoin:round; stroke-width:2; stroke-opacity:0.1; fill:none\" points=\"\n",
       "  3613.22,1508.05 3613.22,47.2441 \n",
       "  \"/>\n",
       "<polyline clip-path=\"url(#clip093)\" style=\"stroke:#000000; stroke-linecap:butt; stroke-linejoin:round; stroke-width:2; stroke-opacity:0.1; fill:none\" points=\"\n",
       "  3866.24,1508.05 3866.24,47.2441 \n",
       "  \"/>\n",
       "<polyline clip-path=\"url(#clip093)\" style=\"stroke:#000000; stroke-linecap:butt; stroke-linejoin:round; stroke-width:2; stroke-opacity:0.1; fill:none\" points=\"\n",
       "  4119.26,1508.05 4119.26,47.2441 \n",
       "  \"/>\n",
       "<polyline clip-path=\"url(#clip090)\" style=\"stroke:#000000; stroke-linecap:butt; stroke-linejoin:round; stroke-width:4; stroke-opacity:1; fill:none\" points=\"\n",
       "  2389.41,1508.05 4271.37,1508.05 \n",
       "  \"/>\n",
       "<polyline clip-path=\"url(#clip090)\" style=\"stroke:#000000; stroke-linecap:butt; stroke-linejoin:round; stroke-width:4; stroke-opacity:1; fill:none\" points=\"\n",
       "  2601.15,1508.05 2601.15,1489.15 \n",
       "  \"/>\n",
       "<polyline clip-path=\"url(#clip090)\" style=\"stroke:#000000; stroke-linecap:butt; stroke-linejoin:round; stroke-width:4; stroke-opacity:1; fill:none\" points=\"\n",
       "  2854.17,1508.05 2854.17,1489.15 \n",
       "  \"/>\n",
       "<polyline clip-path=\"url(#clip090)\" style=\"stroke:#000000; stroke-linecap:butt; stroke-linejoin:round; stroke-width:4; stroke-opacity:1; fill:none\" points=\"\n",
       "  3107.19,1508.05 3107.19,1489.15 \n",
       "  \"/>\n",
       "<polyline clip-path=\"url(#clip090)\" style=\"stroke:#000000; stroke-linecap:butt; stroke-linejoin:round; stroke-width:4; stroke-opacity:1; fill:none\" points=\"\n",
       "  3360.21,1508.05 3360.21,1489.15 \n",
       "  \"/>\n",
       "<polyline clip-path=\"url(#clip090)\" style=\"stroke:#000000; stroke-linecap:butt; stroke-linejoin:round; stroke-width:4; stroke-opacity:1; fill:none\" points=\"\n",
       "  3613.22,1508.05 3613.22,1489.15 \n",
       "  \"/>\n",
       "<polyline clip-path=\"url(#clip090)\" style=\"stroke:#000000; stroke-linecap:butt; stroke-linejoin:round; stroke-width:4; stroke-opacity:1; fill:none\" points=\"\n",
       "  3866.24,1508.05 3866.24,1489.15 \n",
       "  \"/>\n",
       "<polyline clip-path=\"url(#clip090)\" style=\"stroke:#000000; stroke-linecap:butt; stroke-linejoin:round; stroke-width:4; stroke-opacity:1; fill:none\" points=\"\n",
       "  4119.26,1508.05 4119.26,1489.15 \n",
       "  \"/>\n",
       "<path clip-path=\"url(#clip090)\" d=\"M2548.18 1583.89 L2577.85 1583.89 L2577.85 1587.83 L2548.18 1587.83 L2548.18 1583.89 Z\" fill=\"#000000\" fill-rule=\"evenodd\" fill-opacity=\"1\" /><path clip-path=\"url(#clip090)\" d=\"M2588.76 1596.78 L2596.4 1596.78 L2596.4 1570.42 L2588.09 1572.09 L2588.09 1567.83 L2596.35 1566.16 L2601.03 1566.16 L2601.03 1596.78 L2608.66 1596.78 L2608.66 1600.72 L2588.76 1600.72 L2588.76 1596.78 Z\" fill=\"#000000\" fill-rule=\"evenodd\" fill-opacity=\"1\" /><path clip-path=\"url(#clip090)\" d=\"M2618.11 1594.84 L2622.99 1594.84 L2622.99 1600.72 L2618.11 1600.72 L2618.11 1594.84 Z\" fill=\"#000000\" fill-rule=\"evenodd\" fill-opacity=\"1\" /><path clip-path=\"url(#clip090)\" d=\"M2633.22 1566.16 L2651.58 1566.16 L2651.58 1570.1 L2637.51 1570.1 L2637.51 1578.57 Q2638.53 1578.22 2639.54 1578.06 Q2640.56 1577.87 2641.58 1577.87 Q2647.37 1577.87 2650.75 1581.04 Q2654.13 1584.22 2654.13 1589.63 Q2654.13 1595.21 2650.65 1598.31 Q2647.18 1601.39 2640.86 1601.39 Q2638.69 1601.39 2636.42 1601.02 Q2634.17 1600.65 2631.77 1599.91 L2631.77 1595.21 Q2633.85 1596.34 2636.07 1596.9 Q2638.29 1597.46 2640.77 1597.46 Q2644.78 1597.46 2647.11 1595.35 Q2649.45 1593.24 2649.45 1589.63 Q2649.45 1586.02 2647.11 1583.91 Q2644.78 1581.81 2640.77 1581.81 Q2638.9 1581.81 2637.02 1582.22 Q2635.17 1582.64 2633.22 1583.52 L2633.22 1566.16 Z\" fill=\"#000000\" fill-rule=\"evenodd\" fill-opacity=\"1\" /><path clip-path=\"url(#clip090)\" d=\"M2800.7 1583.89 L2830.37 1583.89 L2830.37 1587.83 L2800.7 1587.83 L2800.7 1583.89 Z\" fill=\"#000000\" fill-rule=\"evenodd\" fill-opacity=\"1\" /><path clip-path=\"url(#clip090)\" d=\"M2841.28 1596.78 L2848.92 1596.78 L2848.92 1570.42 L2840.61 1572.09 L2840.61 1567.83 L2848.87 1566.16 L2853.55 1566.16 L2853.55 1596.78 L2861.18 1596.78 L2861.18 1600.72 L2841.28 1600.72 L2841.28 1596.78 Z\" fill=\"#000000\" fill-rule=\"evenodd\" fill-opacity=\"1\" /><path clip-path=\"url(#clip090)\" d=\"M2870.63 1594.84 L2875.51 1594.84 L2875.51 1600.72 L2870.63 1600.72 L2870.63 1594.84 Z\" fill=\"#000000\" fill-rule=\"evenodd\" fill-opacity=\"1\" /><path clip-path=\"url(#clip090)\" d=\"M2895.7 1569.24 Q2892.09 1569.24 2890.26 1572.8 Q2888.45 1576.35 2888.45 1583.47 Q2888.45 1590.58 2890.26 1594.15 Q2892.09 1597.69 2895.7 1597.69 Q2899.33 1597.69 2901.14 1594.15 Q2902.97 1590.58 2902.97 1583.47 Q2902.97 1576.35 2901.14 1572.8 Q2899.33 1569.24 2895.7 1569.24 M2895.7 1565.53 Q2901.51 1565.53 2904.56 1570.14 Q2907.64 1574.72 2907.64 1583.47 Q2907.64 1592.2 2904.56 1596.81 Q2901.51 1601.39 2895.7 1601.39 Q2889.89 1601.39 2886.81 1596.81 Q2883.75 1592.2 2883.75 1583.47 Q2883.75 1574.72 2886.81 1570.14 Q2889.89 1565.53 2895.7 1565.53 Z\" fill=\"#000000\" fill-rule=\"evenodd\" fill-opacity=\"1\" /><path clip-path=\"url(#clip090)\" d=\"M3054.21 1583.89 L3083.89 1583.89 L3083.89 1587.83 L3054.21 1587.83 L3054.21 1583.89 Z\" fill=\"#000000\" fill-rule=\"evenodd\" fill-opacity=\"1\" /><path clip-path=\"url(#clip090)\" d=\"M3103.98 1569.24 Q3100.37 1569.24 3098.54 1572.8 Q3096.74 1576.35 3096.74 1583.47 Q3096.74 1590.58 3098.54 1594.15 Q3100.37 1597.69 3103.98 1597.69 Q3107.62 1597.69 3109.42 1594.15 Q3111.25 1590.58 3111.25 1583.47 Q3111.25 1576.35 3109.42 1572.8 Q3107.62 1569.24 3103.98 1569.24 M3103.98 1565.53 Q3109.79 1565.53 3112.85 1570.14 Q3115.93 1574.72 3115.93 1583.47 Q3115.93 1592.2 3112.85 1596.81 Q3109.79 1601.39 3103.98 1601.39 Q3098.17 1601.39 3095.09 1596.81 Q3092.04 1592.2 3092.04 1583.47 Q3092.04 1574.72 3095.09 1570.14 Q3098.17 1565.53 3103.98 1565.53 Z\" fill=\"#000000\" fill-rule=\"evenodd\" fill-opacity=\"1\" /><path clip-path=\"url(#clip090)\" d=\"M3124.14 1594.84 L3129.03 1594.84 L3129.03 1600.72 L3124.14 1600.72 L3124.14 1594.84 Z\" fill=\"#000000\" fill-rule=\"evenodd\" fill-opacity=\"1\" /><path clip-path=\"url(#clip090)\" d=\"M3139.26 1566.16 L3157.62 1566.16 L3157.62 1570.1 L3143.54 1570.1 L3143.54 1578.57 Q3144.56 1578.22 3145.58 1578.06 Q3146.6 1577.87 3147.62 1577.87 Q3153.4 1577.87 3156.78 1581.04 Q3160.16 1584.22 3160.16 1589.63 Q3160.16 1595.21 3156.69 1598.31 Q3153.22 1601.39 3146.9 1601.39 Q3144.72 1601.39 3142.45 1601.02 Q3140.21 1600.65 3137.8 1599.91 L3137.8 1595.21 Q3139.88 1596.34 3142.11 1596.9 Q3144.33 1597.46 3146.81 1597.46 Q3150.81 1597.46 3153.15 1595.35 Q3155.49 1593.24 3155.49 1589.63 Q3155.49 1586.02 3153.15 1583.91 Q3150.81 1581.81 3146.81 1581.81 Q3144.93 1581.81 3143.06 1582.22 Q3141.2 1582.64 3139.26 1583.52 L3139.26 1566.16 Z\" fill=\"#000000\" fill-rule=\"evenodd\" fill-opacity=\"1\" /><path clip-path=\"url(#clip090)\" d=\"M3337.59 1569.24 Q3333.98 1569.24 3332.15 1572.8 Q3330.34 1576.35 3330.34 1583.47 Q3330.34 1590.58 3332.15 1594.15 Q3333.98 1597.69 3337.59 1597.69 Q3341.22 1597.69 3343.03 1594.15 Q3344.86 1590.58 3344.86 1583.47 Q3344.86 1576.35 3343.03 1572.8 Q3341.22 1569.24 3337.59 1569.24 M3337.59 1565.53 Q3343.4 1565.53 3346.46 1570.14 Q3349.53 1574.72 3349.53 1583.47 Q3349.53 1592.2 3346.46 1596.81 Q3343.4 1601.39 3337.59 1601.39 Q3331.78 1601.39 3328.7 1596.81 Q3325.65 1592.2 3325.65 1583.47 Q3325.65 1574.72 3328.7 1570.14 Q3331.78 1565.53 3337.59 1565.53 Z\" fill=\"#000000\" fill-rule=\"evenodd\" fill-opacity=\"1\" /><path clip-path=\"url(#clip090)\" d=\"M3357.75 1594.84 L3362.64 1594.84 L3362.64 1600.72 L3357.75 1600.72 L3357.75 1594.84 Z\" fill=\"#000000\" fill-rule=\"evenodd\" fill-opacity=\"1\" /><path clip-path=\"url(#clip090)\" d=\"M3382.82 1569.24 Q3379.21 1569.24 3377.38 1572.8 Q3375.58 1576.35 3375.58 1583.47 Q3375.58 1590.58 3377.38 1594.15 Q3379.21 1597.69 3382.82 1597.69 Q3386.46 1597.69 3388.26 1594.15 Q3390.09 1590.58 3390.09 1583.47 Q3390.09 1576.35 3388.26 1572.8 Q3386.46 1569.24 3382.82 1569.24 M3382.82 1565.53 Q3388.63 1565.53 3391.69 1570.14 Q3394.77 1574.72 3394.77 1583.47 Q3394.77 1592.2 3391.69 1596.81 Q3388.63 1601.39 3382.82 1601.39 Q3377.01 1601.39 3373.93 1596.81 Q3370.88 1592.2 3370.88 1583.47 Q3370.88 1574.72 3373.93 1570.14 Q3377.01 1565.53 3382.82 1565.53 Z\" fill=\"#000000\" fill-rule=\"evenodd\" fill-opacity=\"1\" /><path clip-path=\"url(#clip090)\" d=\"M3591.1 1569.24 Q3587.49 1569.24 3585.67 1572.8 Q3583.86 1576.35 3583.86 1583.47 Q3583.86 1590.58 3585.67 1594.15 Q3587.49 1597.69 3591.1 1597.69 Q3594.74 1597.69 3596.54 1594.15 Q3598.37 1590.58 3598.37 1583.47 Q3598.37 1576.35 3596.54 1572.8 Q3594.74 1569.24 3591.1 1569.24 M3591.1 1565.53 Q3596.92 1565.53 3599.97 1570.14 Q3603.05 1574.72 3603.05 1583.47 Q3603.05 1592.2 3599.97 1596.81 Q3596.92 1601.39 3591.1 1601.39 Q3585.29 1601.39 3582.22 1596.81 Q3579.16 1592.2 3579.16 1583.47 Q3579.16 1574.72 3582.22 1570.14 Q3585.29 1565.53 3591.1 1565.53 Z\" fill=\"#000000\" fill-rule=\"evenodd\" fill-opacity=\"1\" /><path clip-path=\"url(#clip090)\" d=\"M3611.27 1594.84 L3616.15 1594.84 L3616.15 1600.72 L3611.27 1600.72 L3611.27 1594.84 Z\" fill=\"#000000\" fill-rule=\"evenodd\" fill-opacity=\"1\" /><path clip-path=\"url(#clip090)\" d=\"M3626.38 1566.16 L3644.74 1566.16 L3644.74 1570.1 L3630.66 1570.1 L3630.66 1578.57 Q3631.68 1578.22 3632.7 1578.06 Q3633.72 1577.87 3634.74 1577.87 Q3640.53 1577.87 3643.91 1581.04 Q3647.29 1584.22 3647.29 1589.63 Q3647.29 1595.21 3643.81 1598.31 Q3640.34 1601.39 3634.02 1601.39 Q3631.85 1601.39 3629.58 1601.02 Q3627.33 1600.65 3624.92 1599.91 L3624.92 1595.21 Q3627.01 1596.34 3629.23 1596.9 Q3631.45 1597.46 3633.93 1597.46 Q3637.93 1597.46 3640.27 1595.35 Q3642.61 1593.24 3642.61 1589.63 Q3642.61 1586.02 3640.27 1583.91 Q3637.93 1581.81 3633.93 1581.81 Q3632.05 1581.81 3630.18 1582.22 Q3628.33 1582.64 3626.38 1583.52 L3626.38 1566.16 Z\" fill=\"#000000\" fill-rule=\"evenodd\" fill-opacity=\"1\" /><path clip-path=\"url(#clip090)\" d=\"M3833.39 1596.78 L3841.03 1596.78 L3841.03 1570.42 L3832.72 1572.09 L3832.72 1567.83 L3840.99 1566.16 L3845.66 1566.16 L3845.66 1596.78 L3853.3 1596.78 L3853.3 1600.72 L3833.39 1600.72 L3833.39 1596.78 Z\" fill=\"#000000\" fill-rule=\"evenodd\" fill-opacity=\"1\" /><path clip-path=\"url(#clip090)\" d=\"M3862.75 1594.84 L3867.63 1594.84 L3867.63 1600.72 L3862.75 1600.72 L3862.75 1594.84 Z\" fill=\"#000000\" fill-rule=\"evenodd\" fill-opacity=\"1\" /><path clip-path=\"url(#clip090)\" d=\"M3887.81 1569.24 Q3884.2 1569.24 3882.37 1572.8 Q3880.57 1576.35 3880.57 1583.47 Q3880.57 1590.58 3882.37 1594.15 Q3884.2 1597.69 3887.81 1597.69 Q3891.45 1597.69 3893.25 1594.15 Q3895.08 1590.58 3895.08 1583.47 Q3895.08 1576.35 3893.25 1572.8 Q3891.45 1569.24 3887.81 1569.24 M3887.81 1565.53 Q3893.62 1565.53 3896.68 1570.14 Q3899.76 1574.72 3899.76 1583.47 Q3899.76 1592.2 3896.68 1596.81 Q3893.62 1601.39 3887.81 1601.39 Q3882 1601.39 3878.93 1596.81 Q3875.87 1592.2 3875.87 1583.47 Q3875.87 1574.72 3878.93 1570.14 Q3882 1565.53 3887.81 1565.53 Z\" fill=\"#000000\" fill-rule=\"evenodd\" fill-opacity=\"1\" /><path clip-path=\"url(#clip090)\" d=\"M4086.91 1596.78 L4094.55 1596.78 L4094.55 1570.42 L4086.24 1572.09 L4086.24 1567.83 L4094.5 1566.16 L4099.18 1566.16 L4099.18 1596.78 L4106.82 1596.78 L4106.82 1600.72 L4086.91 1600.72 L4086.91 1596.78 Z\" fill=\"#000000\" fill-rule=\"evenodd\" fill-opacity=\"1\" /><path clip-path=\"url(#clip090)\" d=\"M4116.26 1594.84 L4121.14 1594.84 L4121.14 1600.72 L4116.26 1600.72 L4116.26 1594.84 Z\" fill=\"#000000\" fill-rule=\"evenodd\" fill-opacity=\"1\" /><path clip-path=\"url(#clip090)\" d=\"M4131.38 1566.16 L4149.73 1566.16 L4149.73 1570.1 L4135.66 1570.1 L4135.66 1578.57 Q4136.68 1578.22 4137.7 1578.06 Q4138.71 1577.87 4139.73 1577.87 Q4145.52 1577.87 4148.9 1581.04 Q4152.28 1584.22 4152.28 1589.63 Q4152.28 1595.21 4148.81 1598.31 Q4145.33 1601.39 4139.01 1601.39 Q4136.84 1601.39 4134.57 1601.02 Q4132.33 1600.65 4129.92 1599.91 L4129.92 1595.21 Q4132 1596.34 4134.22 1596.9 Q4136.45 1597.46 4138.92 1597.46 Q4142.93 1597.46 4145.26 1595.35 Q4147.6 1593.24 4147.6 1589.63 Q4147.6 1586.02 4145.26 1583.91 Q4142.93 1581.81 4138.92 1581.81 Q4137.05 1581.81 4135.17 1582.22 Q4133.32 1582.64 4131.38 1583.52 L4131.38 1566.16 Z\" fill=\"#000000\" fill-rule=\"evenodd\" fill-opacity=\"1\" /><polyline clip-path=\"url(#clip093)\" style=\"stroke:#000000; stroke-linecap:butt; stroke-linejoin:round; stroke-width:2; stroke-opacity:0.1; fill:none\" points=\"\n",
       "  2389.41,1447.86 4271.37,1447.86 \n",
       "  \"/>\n",
       "<polyline clip-path=\"url(#clip093)\" style=\"stroke:#000000; stroke-linecap:butt; stroke-linejoin:round; stroke-width:2; stroke-opacity:0.1; fill:none\" points=\"\n",
       "  2389.41,1226.27 4271.37,1226.27 \n",
       "  \"/>\n",
       "<polyline clip-path=\"url(#clip093)\" style=\"stroke:#000000; stroke-linecap:butt; stroke-linejoin:round; stroke-width:2; stroke-opacity:0.1; fill:none\" points=\"\n",
       "  2389.41,1004.68 4271.37,1004.68 \n",
       "  \"/>\n",
       "<polyline clip-path=\"url(#clip093)\" style=\"stroke:#000000; stroke-linecap:butt; stroke-linejoin:round; stroke-width:2; stroke-opacity:0.1; fill:none\" points=\"\n",
       "  2389.41,783.097 4271.37,783.097 \n",
       "  \"/>\n",
       "<polyline clip-path=\"url(#clip093)\" style=\"stroke:#000000; stroke-linecap:butt; stroke-linejoin:round; stroke-width:2; stroke-opacity:0.1; fill:none\" points=\"\n",
       "  2389.41,561.509 4271.37,561.509 \n",
       "  \"/>\n",
       "<polyline clip-path=\"url(#clip093)\" style=\"stroke:#000000; stroke-linecap:butt; stroke-linejoin:round; stroke-width:2; stroke-opacity:0.1; fill:none\" points=\"\n",
       "  2389.41,339.921 4271.37,339.921 \n",
       "  \"/>\n",
       "<polyline clip-path=\"url(#clip093)\" style=\"stroke:#000000; stroke-linecap:butt; stroke-linejoin:round; stroke-width:2; stroke-opacity:0.1; fill:none\" points=\"\n",
       "  2389.41,118.333 4271.37,118.333 \n",
       "  \"/>\n",
       "<polyline clip-path=\"url(#clip090)\" style=\"stroke:#000000; stroke-linecap:butt; stroke-linejoin:round; stroke-width:4; stroke-opacity:1; fill:none\" points=\"\n",
       "  2389.41,1508.05 2389.41,47.2441 \n",
       "  \"/>\n",
       "<polyline clip-path=\"url(#clip090)\" style=\"stroke:#000000; stroke-linecap:butt; stroke-linejoin:round; stroke-width:4; stroke-opacity:1; fill:none\" points=\"\n",
       "  2389.41,1447.86 2408.31,1447.86 \n",
       "  \"/>\n",
       "<polyline clip-path=\"url(#clip090)\" style=\"stroke:#000000; stroke-linecap:butt; stroke-linejoin:round; stroke-width:4; stroke-opacity:1; fill:none\" points=\"\n",
       "  2389.41,1226.27 2408.31,1226.27 \n",
       "  \"/>\n",
       "<polyline clip-path=\"url(#clip090)\" style=\"stroke:#000000; stroke-linecap:butt; stroke-linejoin:round; stroke-width:4; stroke-opacity:1; fill:none\" points=\"\n",
       "  2389.41,1004.68 2408.31,1004.68 \n",
       "  \"/>\n",
       "<polyline clip-path=\"url(#clip090)\" style=\"stroke:#000000; stroke-linecap:butt; stroke-linejoin:round; stroke-width:4; stroke-opacity:1; fill:none\" points=\"\n",
       "  2389.41,783.097 2408.31,783.097 \n",
       "  \"/>\n",
       "<polyline clip-path=\"url(#clip090)\" style=\"stroke:#000000; stroke-linecap:butt; stroke-linejoin:round; stroke-width:4; stroke-opacity:1; fill:none\" points=\"\n",
       "  2389.41,561.509 2408.31,561.509 \n",
       "  \"/>\n",
       "<polyline clip-path=\"url(#clip090)\" style=\"stroke:#000000; stroke-linecap:butt; stroke-linejoin:round; stroke-width:4; stroke-opacity:1; fill:none\" points=\"\n",
       "  2389.41,339.921 2408.31,339.921 \n",
       "  \"/>\n",
       "<polyline clip-path=\"url(#clip090)\" style=\"stroke:#000000; stroke-linecap:butt; stroke-linejoin:round; stroke-width:4; stroke-opacity:1; fill:none\" points=\"\n",
       "  2389.41,118.333 2408.31,118.333 \n",
       "  \"/>\n",
       "<path clip-path=\"url(#clip090)\" d=\"M2187.47 1448.31 L2217.14 1448.31 L2217.14 1452.25 L2187.47 1452.25 L2187.47 1448.31 Z\" fill=\"#000000\" fill-rule=\"evenodd\" fill-opacity=\"1\" /><path clip-path=\"url(#clip090)\" d=\"M2228.04 1461.21 L2235.68 1461.21 L2235.68 1434.84 L2227.37 1436.51 L2227.37 1432.25 L2235.64 1430.58 L2240.31 1430.58 L2240.31 1461.21 L2247.95 1461.21 L2247.95 1465.14 L2228.04 1465.14 L2228.04 1461.21 Z\" fill=\"#000000\" fill-rule=\"evenodd\" fill-opacity=\"1\" /><path clip-path=\"url(#clip090)\" d=\"M2257.4 1459.26 L2262.28 1459.26 L2262.28 1465.14 L2257.4 1465.14 L2257.4 1459.26 Z\" fill=\"#000000\" fill-rule=\"evenodd\" fill-opacity=\"1\" /><path clip-path=\"url(#clip090)\" d=\"M2272.51 1430.58 L2290.87 1430.58 L2290.87 1434.52 L2276.79 1434.52 L2276.79 1442.99 Q2277.81 1442.64 2278.83 1442.48 Q2279.85 1442.29 2280.87 1442.29 Q2286.66 1442.29 2290.03 1445.46 Q2293.41 1448.64 2293.41 1454.05 Q2293.41 1459.63 2289.94 1462.73 Q2286.47 1465.81 2280.15 1465.81 Q2277.97 1465.81 2275.71 1465.44 Q2273.46 1465.07 2271.05 1464.33 L2271.05 1459.63 Q2273.14 1460.77 2275.36 1461.32 Q2277.58 1461.88 2280.06 1461.88 Q2284.06 1461.88 2286.4 1459.77 Q2288.74 1457.66 2288.74 1454.05 Q2288.74 1450.44 2286.4 1448.33 Q2284.06 1446.23 2280.06 1446.23 Q2278.18 1446.23 2276.31 1446.64 Q2274.46 1447.06 2272.51 1447.94 L2272.51 1430.58 Z\" fill=\"#000000\" fill-rule=\"evenodd\" fill-opacity=\"1\" /><path clip-path=\"url(#clip090)\" d=\"M2186.47 1226.72 L2216.15 1226.72 L2216.15 1230.66 L2186.47 1230.66 L2186.47 1226.72 Z\" fill=\"#000000\" fill-rule=\"evenodd\" fill-opacity=\"1\" /><path clip-path=\"url(#clip090)\" d=\"M2227.05 1239.62 L2234.69 1239.62 L2234.69 1213.25 L2226.38 1214.92 L2226.38 1210.66 L2234.64 1208.99 L2239.32 1208.99 L2239.32 1239.62 L2246.96 1239.62 L2246.96 1243.55 L2227.05 1243.55 L2227.05 1239.62 Z\" fill=\"#000000\" fill-rule=\"evenodd\" fill-opacity=\"1\" /><path clip-path=\"url(#clip090)\" d=\"M2256.4 1237.67 L2261.28 1237.67 L2261.28 1243.55 L2256.4 1243.55 L2256.4 1237.67 Z\" fill=\"#000000\" fill-rule=\"evenodd\" fill-opacity=\"1\" /><path clip-path=\"url(#clip090)\" d=\"M2281.47 1212.07 Q2277.86 1212.07 2276.03 1215.64 Q2274.22 1219.18 2274.22 1226.31 Q2274.22 1233.41 2276.03 1236.98 Q2277.86 1240.52 2281.47 1240.52 Q2285.1 1240.52 2286.91 1236.98 Q2288.74 1233.41 2288.74 1226.31 Q2288.74 1219.18 2286.91 1215.64 Q2285.1 1212.07 2281.47 1212.07 M2281.47 1208.37 Q2287.28 1208.37 2290.34 1212.97 Q2293.41 1217.56 2293.41 1226.31 Q2293.41 1235.03 2290.34 1239.64 Q2287.28 1244.22 2281.47 1244.22 Q2275.66 1244.22 2272.58 1239.64 Q2269.53 1235.03 2269.53 1226.31 Q2269.53 1217.56 2272.58 1212.97 Q2275.66 1208.37 2281.47 1208.37 Z\" fill=\"#000000\" fill-rule=\"evenodd\" fill-opacity=\"1\" /><path clip-path=\"url(#clip090)\" d=\"M2187.47 1005.14 L2217.14 1005.14 L2217.14 1009.07 L2187.47 1009.07 L2187.47 1005.14 Z\" fill=\"#000000\" fill-rule=\"evenodd\" fill-opacity=\"1\" /><path clip-path=\"url(#clip090)\" d=\"M2237.23 990.483 Q2233.62 990.483 2231.79 994.048 Q2229.99 997.59 2229.99 1004.72 Q2229.99 1011.83 2231.79 1015.39 Q2233.62 1018.93 2237.23 1018.93 Q2240.87 1018.93 2242.67 1015.39 Q2244.5 1011.83 2244.5 1004.72 Q2244.5 997.59 2242.67 994.048 Q2240.87 990.483 2237.23 990.483 M2237.23 986.779 Q2243.04 986.779 2246.1 991.386 Q2249.18 995.969 2249.18 1004.72 Q2249.18 1013.45 2246.1 1018.05 Q2243.04 1022.64 2237.23 1022.64 Q2231.42 1022.64 2228.35 1018.05 Q2225.29 1013.45 2225.29 1004.72 Q2225.29 995.969 2228.35 991.386 Q2231.42 986.779 2237.23 986.779 Z\" fill=\"#000000\" fill-rule=\"evenodd\" fill-opacity=\"1\" /><path clip-path=\"url(#clip090)\" d=\"M2257.4 1016.08 L2262.28 1016.08 L2262.28 1021.96 L2257.4 1021.96 L2257.4 1016.08 Z\" fill=\"#000000\" fill-rule=\"evenodd\" fill-opacity=\"1\" /><path clip-path=\"url(#clip090)\" d=\"M2272.51 987.404 L2290.87 987.404 L2290.87 991.34 L2276.79 991.34 L2276.79 999.812 Q2277.81 999.465 2278.83 999.303 Q2279.85 999.117 2280.87 999.117 Q2286.66 999.117 2290.03 1002.29 Q2293.41 1005.46 2293.41 1010.88 Q2293.41 1016.46 2289.94 1019.56 Q2286.47 1022.64 2280.15 1022.64 Q2277.97 1022.64 2275.71 1022.27 Q2273.46 1021.89 2271.05 1021.15 L2271.05 1016.46 Q2273.14 1017.59 2275.36 1018.15 Q2277.58 1018.7 2280.06 1018.7 Q2284.06 1018.7 2286.4 1016.59 Q2288.74 1014.49 2288.74 1010.88 Q2288.74 1007.27 2286.4 1005.16 Q2284.06 1003.05 2280.06 1003.05 Q2278.18 1003.05 2276.31 1003.47 Q2274.46 1003.89 2272.51 1004.77 L2272.51 987.404 Z\" fill=\"#000000\" fill-rule=\"evenodd\" fill-opacity=\"1\" /><path clip-path=\"url(#clip090)\" d=\"M2236.24 768.895 Q2232.63 768.895 2230.8 772.46 Q2228.99 776.002 2228.99 783.131 Q2228.99 790.238 2230.8 793.803 Q2232.63 797.344 2236.24 797.344 Q2239.87 797.344 2241.68 793.803 Q2243.51 790.238 2243.51 783.131 Q2243.51 776.002 2241.68 772.46 Q2239.87 768.895 2236.24 768.895 M2236.24 765.192 Q2242.05 765.192 2245.1 769.798 Q2248.18 774.381 2248.18 783.131 Q2248.18 791.858 2245.1 796.465 Q2242.05 801.048 2236.24 801.048 Q2230.43 801.048 2227.35 796.465 Q2224.29 791.858 2224.29 783.131 Q2224.29 774.381 2227.35 769.798 Q2230.43 765.192 2236.24 765.192 Z\" fill=\"#000000\" fill-rule=\"evenodd\" fill-opacity=\"1\" /><path clip-path=\"url(#clip090)\" d=\"M2256.4 794.497 L2261.28 794.497 L2261.28 800.377 L2256.4 800.377 L2256.4 794.497 Z\" fill=\"#000000\" fill-rule=\"evenodd\" fill-opacity=\"1\" /><path clip-path=\"url(#clip090)\" d=\"M2281.47 768.895 Q2277.86 768.895 2276.03 772.46 Q2274.22 776.002 2274.22 783.131 Q2274.22 790.238 2276.03 793.803 Q2277.86 797.344 2281.47 797.344 Q2285.1 797.344 2286.91 793.803 Q2288.74 790.238 2288.74 783.131 Q2288.74 776.002 2286.91 772.46 Q2285.1 768.895 2281.47 768.895 M2281.47 765.192 Q2287.28 765.192 2290.34 769.798 Q2293.41 774.381 2293.41 783.131 Q2293.41 791.858 2290.34 796.465 Q2287.28 801.048 2281.47 801.048 Q2275.66 801.048 2272.58 796.465 Q2269.53 791.858 2269.53 783.131 Q2269.53 774.381 2272.58 769.798 Q2275.66 765.192 2281.47 765.192 Z\" fill=\"#000000\" fill-rule=\"evenodd\" fill-opacity=\"1\" /><path clip-path=\"url(#clip090)\" d=\"M2237.23 547.307 Q2233.62 547.307 2231.79 550.872 Q2229.99 554.414 2229.99 561.543 Q2229.99 568.65 2231.79 572.215 Q2233.62 575.756 2237.23 575.756 Q2240.87 575.756 2242.67 572.215 Q2244.5 568.65 2244.5 561.543 Q2244.5 554.414 2242.67 550.872 Q2240.87 547.307 2237.23 547.307 M2237.23 543.604 Q2243.04 543.604 2246.1 548.21 Q2249.18 552.793 2249.18 561.543 Q2249.18 570.27 2246.1 574.877 Q2243.04 579.46 2237.23 579.46 Q2231.42 579.46 2228.35 574.877 Q2225.29 570.27 2225.29 561.543 Q2225.29 552.793 2228.35 548.21 Q2231.42 543.604 2237.23 543.604 Z\" fill=\"#000000\" fill-rule=\"evenodd\" fill-opacity=\"1\" /><path clip-path=\"url(#clip090)\" d=\"M2257.4 572.909 L2262.28 572.909 L2262.28 578.789 L2257.4 578.789 L2257.4 572.909 Z\" fill=\"#000000\" fill-rule=\"evenodd\" fill-opacity=\"1\" /><path clip-path=\"url(#clip090)\" d=\"M2272.51 544.229 L2290.87 544.229 L2290.87 548.164 L2276.79 548.164 L2276.79 556.636 Q2277.81 556.289 2278.83 556.127 Q2279.85 555.942 2280.87 555.942 Q2286.66 555.942 2290.03 559.113 Q2293.41 562.284 2293.41 567.701 Q2293.41 573.279 2289.94 576.381 Q2286.47 579.46 2280.15 579.46 Q2277.97 579.46 2275.71 579.09 Q2273.46 578.719 2271.05 577.978 L2271.05 573.279 Q2273.14 574.414 2275.36 574.969 Q2277.58 575.525 2280.06 575.525 Q2284.06 575.525 2286.4 573.418 Q2288.74 571.312 2288.74 567.701 Q2288.74 564.09 2286.4 561.983 Q2284.06 559.877 2280.06 559.877 Q2278.18 559.877 2276.31 560.293 Q2274.46 560.71 2272.51 561.59 L2272.51 544.229 Z\" fill=\"#000000\" fill-rule=\"evenodd\" fill-opacity=\"1\" /><path clip-path=\"url(#clip090)\" d=\"M2227.05 353.266 L2234.69 353.266 L2234.69 326.9 L2226.38 328.567 L2226.38 324.307 L2234.64 322.641 L2239.32 322.641 L2239.32 353.266 L2246.96 353.266 L2246.96 357.201 L2227.05 357.201 L2227.05 353.266 Z\" fill=\"#000000\" fill-rule=\"evenodd\" fill-opacity=\"1\" /><path clip-path=\"url(#clip090)\" d=\"M2256.4 351.321 L2261.28 351.321 L2261.28 357.201 L2256.4 357.201 L2256.4 351.321 Z\" fill=\"#000000\" fill-rule=\"evenodd\" fill-opacity=\"1\" /><path clip-path=\"url(#clip090)\" d=\"M2281.47 325.719 Q2277.86 325.719 2276.03 329.284 Q2274.22 332.826 2274.22 339.955 Q2274.22 347.062 2276.03 350.627 Q2277.86 354.168 2281.47 354.168 Q2285.1 354.168 2286.91 350.627 Q2288.74 347.062 2288.74 339.955 Q2288.74 332.826 2286.91 329.284 Q2285.1 325.719 2281.47 325.719 M2281.47 322.016 Q2287.28 322.016 2290.34 326.622 Q2293.41 331.206 2293.41 339.955 Q2293.41 348.682 2290.34 353.289 Q2287.28 357.872 2281.47 357.872 Q2275.66 357.872 2272.58 353.289 Q2269.53 348.682 2269.53 339.955 Q2269.53 331.206 2272.58 326.622 Q2275.66 322.016 2281.47 322.016 Z\" fill=\"#000000\" fill-rule=\"evenodd\" fill-opacity=\"1\" /><path clip-path=\"url(#clip090)\" d=\"M2228.04 131.678 L2235.68 131.678 L2235.68 105.312 L2227.37 106.979 L2227.37 102.72 L2235.64 101.053 L2240.31 101.053 L2240.31 131.678 L2247.95 131.678 L2247.95 135.613 L2228.04 135.613 L2228.04 131.678 Z\" fill=\"#000000\" fill-rule=\"evenodd\" fill-opacity=\"1\" /><path clip-path=\"url(#clip090)\" d=\"M2257.4 129.733 L2262.28 129.733 L2262.28 135.613 L2257.4 135.613 L2257.4 129.733 Z\" fill=\"#000000\" fill-rule=\"evenodd\" fill-opacity=\"1\" /><path clip-path=\"url(#clip090)\" d=\"M2272.51 101.053 L2290.87 101.053 L2290.87 104.988 L2276.79 104.988 L2276.79 113.46 Q2277.81 113.113 2278.83 112.951 Q2279.85 112.766 2280.87 112.766 Q2286.66 112.766 2290.03 115.937 Q2293.41 119.108 2293.41 124.525 Q2293.41 130.104 2289.94 133.205 Q2286.47 136.284 2280.15 136.284 Q2277.97 136.284 2275.71 135.914 Q2273.46 135.543 2271.05 134.803 L2271.05 130.104 Q2273.14 131.238 2275.36 131.793 Q2277.58 132.349 2280.06 132.349 Q2284.06 132.349 2286.4 130.243 Q2288.74 128.136 2288.74 124.525 Q2288.74 120.914 2286.4 118.807 Q2284.06 116.701 2280.06 116.701 Q2278.18 116.701 2276.31 117.118 Q2274.46 117.534 2272.51 118.414 L2272.51 101.053 Z\" fill=\"#000000\" fill-rule=\"evenodd\" fill-opacity=\"1\" /><circle clip-path=\"url(#clip093)\" cx=\"2639.27\" cy=\"666.446\" r=\"14\" fill=\"#ff00cc\" fill-rule=\"evenodd\" fill-opacity=\"1\" stroke=\"#000000\" stroke-opacity=\"1\" stroke-width=\"3.2\"/>\n",
       "<circle clip-path=\"url(#clip093)\" cx=\"2709.42\" cy=\"723.147\" r=\"14\" fill=\"#0000ff\" fill-rule=\"evenodd\" fill-opacity=\"1\" stroke=\"#000000\" stroke-opacity=\"1\" stroke-width=\"3.2\"/>\n",
       "<circle clip-path=\"url(#clip093)\" cx=\"2532.77\" cy=\"602.05\" r=\"14\" fill=\"#0000ff\" fill-rule=\"evenodd\" fill-opacity=\"1\" stroke=\"#000000\" stroke-opacity=\"1\" stroke-width=\"3.2\"/>\n",
       "<circle clip-path=\"url(#clip093)\" cx=\"2658.59\" cy=\"686.002\" r=\"14\" fill=\"#ff0099\" fill-rule=\"evenodd\" fill-opacity=\"1\" stroke=\"#000000\" stroke-opacity=\"1\" stroke-width=\"3.2\"/>\n",
       "<circle clip-path=\"url(#clip093)\" cx=\"2590.82\" cy=\"638.051\" r=\"14\" fill=\"#0000ff\" fill-rule=\"evenodd\" fill-opacity=\"1\" stroke=\"#000000\" stroke-opacity=\"1\" stroke-width=\"3.2\"/>\n",
       "<circle clip-path=\"url(#clip093)\" cx=\"3050.76\" cy=\"742.848\" r=\"14\" fill=\"#ff0000\" fill-rule=\"evenodd\" fill-opacity=\"1\" stroke=\"#000000\" stroke-opacity=\"1\" stroke-width=\"3.2\"/>\n",
       "<circle clip-path=\"url(#clip093)\" cx=\"3034.92\" cy=\"769.304\" r=\"14\" fill=\"#ff00ff\" fill-rule=\"evenodd\" fill-opacity=\"1\" stroke=\"#000000\" stroke-opacity=\"1\" stroke-width=\"3.2\"/>\n",
       "<circle clip-path=\"url(#clip093)\" cx=\"3049.49\" cy=\"747.499\" r=\"14\" fill=\"#6600ff\" fill-rule=\"evenodd\" fill-opacity=\"1\" stroke=\"#000000\" stroke-opacity=\"1\" stroke-width=\"3.2\"/>\n",
       "<circle clip-path=\"url(#clip093)\" cx=\"3122.7\" cy=\"515.039\" r=\"14\" fill=\"#0000ff\" fill-rule=\"evenodd\" fill-opacity=\"1\" stroke=\"#000000\" stroke-opacity=\"1\" stroke-width=\"3.2\"/>\n",
       "<circle clip-path=\"url(#clip093)\" cx=\"3134.43\" cy=\"544.577\" r=\"14\" fill=\"#ff0066\" fill-rule=\"evenodd\" fill-opacity=\"1\" stroke=\"#000000\" stroke-opacity=\"1\" stroke-width=\"3.2\"/>\n",
       "<circle clip-path=\"url(#clip093)\" cx=\"3146.29\" cy=\"507.961\" r=\"14\" fill=\"#ff0000\" fill-rule=\"evenodd\" fill-opacity=\"1\" stroke=\"#000000\" stroke-opacity=\"1\" stroke-width=\"3.2\"/>\n",
       "<circle clip-path=\"url(#clip093)\" cx=\"3124.65\" cy=\"555.478\" r=\"14\" fill=\"#ff0000\" fill-rule=\"evenodd\" fill-opacity=\"1\" stroke=\"#000000\" stroke-opacity=\"1\" stroke-width=\"3.2\"/>\n",
       "<circle clip-path=\"url(#clip093)\" cx=\"3131.69\" cy=\"536.982\" r=\"14\" fill=\"#9900ff\" fill-rule=\"evenodd\" fill-opacity=\"1\" stroke=\"#000000\" stroke-opacity=\"1\" stroke-width=\"3.2\"/>\n",
       "<circle clip-path=\"url(#clip093)\" cx=\"3121.23\" cy=\"560.874\" r=\"14\" fill=\"#0000ff\" fill-rule=\"evenodd\" fill-opacity=\"1\" stroke=\"#000000\" stroke-opacity=\"1\" stroke-width=\"3.2\"/>\n",
       "<circle clip-path=\"url(#clip093)\" cx=\"3110.02\" cy=\"546.362\" r=\"14\" fill=\"#0000ff\" fill-rule=\"evenodd\" fill-opacity=\"1\" stroke=\"#000000\" stroke-opacity=\"1\" stroke-width=\"3.2\"/>\n",
       "<circle clip-path=\"url(#clip093)\" cx=\"3129.88\" cy=\"543.312\" r=\"14\" fill=\"#ff0000\" fill-rule=\"evenodd\" fill-opacity=\"1\" stroke=\"#000000\" stroke-opacity=\"1\" stroke-width=\"3.2\"/>\n",
       "<circle clip-path=\"url(#clip093)\" cx=\"3129.78\" cy=\"480.69\" r=\"14\" fill=\"#ff0000\" fill-rule=\"evenodd\" fill-opacity=\"1\" stroke=\"#000000\" stroke-opacity=\"1\" stroke-width=\"3.2\"/>\n",
       "<circle clip-path=\"url(#clip093)\" cx=\"3291.88\" cy=\"517.375\" r=\"14\" fill=\"#cc00ff\" fill-rule=\"evenodd\" fill-opacity=\"1\" stroke=\"#000000\" stroke-opacity=\"1\" stroke-width=\"3.2\"/>\n",
       "<circle clip-path=\"url(#clip093)\" cx=\"3125.53\" cy=\"481.556\" r=\"14\" fill=\"#ff0066\" fill-rule=\"evenodd\" fill-opacity=\"1\" stroke=\"#000000\" stroke-opacity=\"1\" stroke-width=\"3.2\"/>\n",
       "<circle clip-path=\"url(#clip093)\" cx=\"3020.35\" cy=\"529.667\" r=\"14\" fill=\"#0000ff\" fill-rule=\"evenodd\" fill-opacity=\"1\" stroke=\"#000000\" stroke-opacity=\"1\" stroke-width=\"3.2\"/>\n",
       "<circle clip-path=\"url(#clip093)\" cx=\"3011.7\" cy=\"523.063\" r=\"14\" fill=\"#9900ff\" fill-rule=\"evenodd\" fill-opacity=\"1\" stroke=\"#000000\" stroke-opacity=\"1\" stroke-width=\"3.2\"/>\n",
       "<circle clip-path=\"url(#clip093)\" cx=\"3614.62\" cy=\"635.251\" r=\"14\" fill=\"#ff00ff\" fill-rule=\"evenodd\" fill-opacity=\"1\" stroke=\"#000000\" stroke-opacity=\"1\" stroke-width=\"3.2\"/>\n",
       "<circle clip-path=\"url(#clip093)\" cx=\"3173.15\" cy=\"471.995\" r=\"14\" fill=\"#ff0033\" fill-rule=\"evenodd\" fill-opacity=\"1\" stroke=\"#000000\" stroke-opacity=\"1\" stroke-width=\"3.2\"/>\n",
       "<circle clip-path=\"url(#clip093)\" cx=\"3332.68\" cy=\"523.248\" r=\"14\" fill=\"#ff0099\" fill-rule=\"evenodd\" fill-opacity=\"1\" stroke=\"#000000\" stroke-opacity=\"1\" stroke-width=\"3.2\"/>\n",
       "<circle clip-path=\"url(#clip093)\" cx=\"3319.62\" cy=\"521.066\" r=\"14\" fill=\"#ff0000\" fill-rule=\"evenodd\" fill-opacity=\"1\" stroke=\"#000000\" stroke-opacity=\"1\" stroke-width=\"3.2\"/>\n",
       "<circle clip-path=\"url(#clip093)\" cx=\"3400.25\" cy=\"549.144\" r=\"14\" fill=\"#cc00ff\" fill-rule=\"evenodd\" fill-opacity=\"1\" stroke=\"#000000\" stroke-opacity=\"1\" stroke-width=\"3.2\"/>\n",
       "<circle clip-path=\"url(#clip093)\" cx=\"3446.36\" cy=\"566.401\" r=\"14\" fill=\"#ff00ff\" fill-rule=\"evenodd\" fill-opacity=\"1\" stroke=\"#000000\" stroke-opacity=\"1\" stroke-width=\"3.2\"/>\n",
       "<circle clip-path=\"url(#clip093)\" cx=\"3313.66\" cy=\"518.776\" r=\"14\" fill=\"#ff0066\" fill-rule=\"evenodd\" fill-opacity=\"1\" stroke=\"#000000\" stroke-opacity=\"1\" stroke-width=\"3.2\"/>\n",
       "<circle clip-path=\"url(#clip093)\" cx=\"2771.45\" cy=\"131.214\" r=\"14\" fill=\"#ff0033\" fill-rule=\"evenodd\" fill-opacity=\"1\" stroke=\"#000000\" stroke-opacity=\"1\" stroke-width=\"3.2\"/>\n",
       "<circle clip-path=\"url(#clip093)\" cx=\"2808.09\" cy=\"88.5876\" r=\"14\" fill=\"#ff0066\" fill-rule=\"evenodd\" fill-opacity=\"1\" stroke=\"#000000\" stroke-opacity=\"1\" stroke-width=\"3.2\"/>\n",
       "<circle clip-path=\"url(#clip093)\" cx=\"2802.2\" cy=\"103.725\" r=\"14\" fill=\"#ff00cc\" fill-rule=\"evenodd\" fill-opacity=\"1\" stroke=\"#000000\" stroke-opacity=\"1\" stroke-width=\"3.2\"/>\n",
       "<circle clip-path=\"url(#clip093)\" cx=\"2818.6\" cy=\"89.7554\" r=\"14\" fill=\"#3300ff\" fill-rule=\"evenodd\" fill-opacity=\"1\" stroke=\"#000000\" stroke-opacity=\"1\" stroke-width=\"3.2\"/>\n",
       "<circle clip-path=\"url(#clip093)\" cx=\"2795.81\" cy=\"102.459\" r=\"14\" fill=\"#3300ff\" fill-rule=\"evenodd\" fill-opacity=\"1\" stroke=\"#000000\" stroke-opacity=\"1\" stroke-width=\"3.2\"/>\n",
       "<circle clip-path=\"url(#clip093)\" cx=\"2795.42\" cy=\"94.3004\" r=\"14\" fill=\"#3300ff\" fill-rule=\"evenodd\" fill-opacity=\"1\" stroke=\"#000000\" stroke-opacity=\"1\" stroke-width=\"3.2\"/>\n",
       "<circle clip-path=\"url(#clip093)\" cx=\"2772.48\" cy=\"103.649\" r=\"14\" fill=\"#9900ff\" fill-rule=\"evenodd\" fill-opacity=\"1\" stroke=\"#000000\" stroke-opacity=\"1\" stroke-width=\"3.2\"/>\n",
       "<circle clip-path=\"url(#clip093)\" cx=\"3530.31\" cy=\"506.862\" r=\"14\" fill=\"#ff0033\" fill-rule=\"evenodd\" fill-opacity=\"1\" stroke=\"#000000\" stroke-opacity=\"1\" stroke-width=\"3.2\"/>\n",
       "<circle clip-path=\"url(#clip093)\" cx=\"3547.99\" cy=\"514.405\" r=\"14\" fill=\"#0000ff\" fill-rule=\"evenodd\" fill-opacity=\"1\" stroke=\"#000000\" stroke-opacity=\"1\" stroke-width=\"3.2\"/>\n",
       "<circle clip-path=\"url(#clip093)\" cx=\"4163.55\" cy=\"1409.06\" r=\"14\" fill=\"#3300ff\" fill-rule=\"evenodd\" fill-opacity=\"1\" stroke=\"#000000\" stroke-opacity=\"1\" stroke-width=\"3.2\"/>\n",
       "<circle clip-path=\"url(#clip093)\" cx=\"4078.25\" cy=\"1462.63\" r=\"14\" fill=\"#ff00ff\" fill-rule=\"evenodd\" fill-opacity=\"1\" stroke=\"#000000\" stroke-opacity=\"1\" stroke-width=\"3.2\"/>\n",
       "<circle clip-path=\"url(#clip093)\" cx=\"4213.35\" cy=\"1389.78\" r=\"14\" fill=\"#ff00ff\" fill-rule=\"evenodd\" fill-opacity=\"1\" stroke=\"#000000\" stroke-opacity=\"1\" stroke-width=\"3.2\"/>\n",
       "<circle clip-path=\"url(#clip093)\" cx=\"2618.59\" cy=\"654.152\" r=\"14\" fill=\"#ff00cc\" fill-rule=\"evenodd\" fill-opacity=\"1\" stroke=\"#000000\" stroke-opacity=\"1\" stroke-width=\"3.2\"/>\n",
       "<circle clip-path=\"url(#clip093)\" cx=\"2657.35\" cy=\"677.665\" r=\"14\" fill=\"#0000ff\" fill-rule=\"evenodd\" fill-opacity=\"1\" stroke=\"#000000\" stroke-opacity=\"1\" stroke-width=\"3.2\"/>\n",
       "<circle clip-path=\"url(#clip093)\" cx=\"2650.52\" cy=\"677.216\" r=\"14\" fill=\"#0000ff\" fill-rule=\"evenodd\" fill-opacity=\"1\" stroke=\"#000000\" stroke-opacity=\"1\" stroke-width=\"3.2\"/>\n",
       "<circle clip-path=\"url(#clip093)\" cx=\"2534.59\" cy=\"600.833\" r=\"14\" fill=\"#ff0099\" fill-rule=\"evenodd\" fill-opacity=\"1\" stroke=\"#000000\" stroke-opacity=\"1\" stroke-width=\"3.2\"/>\n",
       "<circle clip-path=\"url(#clip093)\" cx=\"2444.81\" cy=\"549.508\" r=\"14\" fill=\"#0000ff\" fill-rule=\"evenodd\" fill-opacity=\"1\" stroke=\"#000000\" stroke-opacity=\"1\" stroke-width=\"3.2\"/>\n",
       "<circle clip-path=\"url(#clip093)\" cx=\"3039.93\" cy=\"764.61\" r=\"14\" fill=\"#ff0000\" fill-rule=\"evenodd\" fill-opacity=\"1\" stroke=\"#000000\" stroke-opacity=\"1\" stroke-width=\"3.2\"/>\n",
       "<circle clip-path=\"url(#clip093)\" cx=\"3070.79\" cy=\"739.326\" r=\"14\" fill=\"#ff00ff\" fill-rule=\"evenodd\" fill-opacity=\"1\" stroke=\"#000000\" stroke-opacity=\"1\" stroke-width=\"3.2\"/>\n",
       "<circle clip-path=\"url(#clip093)\" cx=\"3063.77\" cy=\"744.902\" r=\"14\" fill=\"#6600ff\" fill-rule=\"evenodd\" fill-opacity=\"1\" stroke=\"#000000\" stroke-opacity=\"1\" stroke-width=\"3.2\"/>\n",
       "<circle clip-path=\"url(#clip093)\" cx=\"3144.95\" cy=\"526.82\" r=\"14\" fill=\"#0000ff\" fill-rule=\"evenodd\" fill-opacity=\"1\" stroke=\"#000000\" stroke-opacity=\"1\" stroke-width=\"3.2\"/>\n",
       "<circle clip-path=\"url(#clip093)\" cx=\"3152.96\" cy=\"520.62\" r=\"14\" fill=\"#ff0066\" fill-rule=\"evenodd\" fill-opacity=\"1\" stroke=\"#000000\" stroke-opacity=\"1\" stroke-width=\"3.2\"/>\n",
       "<circle clip-path=\"url(#clip093)\" cx=\"3132.69\" cy=\"549.317\" r=\"14\" fill=\"#ff0000\" fill-rule=\"evenodd\" fill-opacity=\"1\" stroke=\"#000000\" stroke-opacity=\"1\" stroke-width=\"3.2\"/>\n",
       "<circle clip-path=\"url(#clip093)\" cx=\"3114.93\" cy=\"538.797\" r=\"14\" fill=\"#ff0000\" fill-rule=\"evenodd\" fill-opacity=\"1\" stroke=\"#000000\" stroke-opacity=\"1\" stroke-width=\"3.2\"/>\n",
       "<circle clip-path=\"url(#clip093)\" cx=\"3116.25\" cy=\"561.012\" r=\"14\" fill=\"#9900ff\" fill-rule=\"evenodd\" fill-opacity=\"1\" stroke=\"#000000\" stroke-opacity=\"1\" stroke-width=\"3.2\"/>\n",
       "<circle clip-path=\"url(#clip093)\" cx=\"3134.95\" cy=\"538.519\" r=\"14\" fill=\"#0000ff\" fill-rule=\"evenodd\" fill-opacity=\"1\" stroke=\"#000000\" stroke-opacity=\"1\" stroke-width=\"3.2\"/>\n",
       "<circle clip-path=\"url(#clip093)\" cx=\"3121.73\" cy=\"545.515\" r=\"14\" fill=\"#0000ff\" fill-rule=\"evenodd\" fill-opacity=\"1\" stroke=\"#000000\" stroke-opacity=\"1\" stroke-width=\"3.2\"/>\n",
       "<circle clip-path=\"url(#clip093)\" cx=\"3128.26\" cy=\"565.078\" r=\"14\" fill=\"#ff0000\" fill-rule=\"evenodd\" fill-opacity=\"1\" stroke=\"#000000\" stroke-opacity=\"1\" stroke-width=\"3.2\"/>\n",
       "<circle clip-path=\"url(#clip093)\" cx=\"3126.16\" cy=\"479.516\" r=\"14\" fill=\"#ff0000\" fill-rule=\"evenodd\" fill-opacity=\"1\" stroke=\"#000000\" stroke-opacity=\"1\" stroke-width=\"3.2\"/>\n",
       "<circle clip-path=\"url(#clip093)\" cx=\"3214.59\" cy=\"497.1\" r=\"14\" fill=\"#cc00ff\" fill-rule=\"evenodd\" fill-opacity=\"1\" stroke=\"#000000\" stroke-opacity=\"1\" stroke-width=\"3.2\"/>\n",
       "<circle clip-path=\"url(#clip093)\" cx=\"3217.46\" cy=\"496.928\" r=\"14\" fill=\"#ff0066\" fill-rule=\"evenodd\" fill-opacity=\"1\" stroke=\"#000000\" stroke-opacity=\"1\" stroke-width=\"3.2\"/>\n",
       "<circle clip-path=\"url(#clip093)\" cx=\"3028.02\" cy=\"503.346\" r=\"14\" fill=\"#0000ff\" fill-rule=\"evenodd\" fill-opacity=\"1\" stroke=\"#000000\" stroke-opacity=\"1\" stroke-width=\"3.2\"/>\n",
       "<circle clip-path=\"url(#clip093)\" cx=\"3015.79\" cy=\"515.899\" r=\"14\" fill=\"#9900ff\" fill-rule=\"evenodd\" fill-opacity=\"1\" stroke=\"#000000\" stroke-opacity=\"1\" stroke-width=\"3.2\"/>\n",
       "<circle clip-path=\"url(#clip093)\" cx=\"3619.69\" cy=\"637.295\" r=\"14\" fill=\"#ff00ff\" fill-rule=\"evenodd\" fill-opacity=\"1\" stroke=\"#000000\" stroke-opacity=\"1\" stroke-width=\"3.2\"/>\n",
       "<circle clip-path=\"url(#clip093)\" cx=\"3244.21\" cy=\"495.786\" r=\"14\" fill=\"#ff0033\" fill-rule=\"evenodd\" fill-opacity=\"1\" stroke=\"#000000\" stroke-opacity=\"1\" stroke-width=\"3.2\"/>\n",
       "<circle clip-path=\"url(#clip093)\" cx=\"3555.49\" cy=\"610.448\" r=\"14\" fill=\"#ff0099\" fill-rule=\"evenodd\" fill-opacity=\"1\" stroke=\"#000000\" stroke-opacity=\"1\" stroke-width=\"3.2\"/>\n",
       "<circle clip-path=\"url(#clip093)\" cx=\"3258.93\" cy=\"502.698\" r=\"14\" fill=\"#ff0000\" fill-rule=\"evenodd\" fill-opacity=\"1\" stroke=\"#000000\" stroke-opacity=\"1\" stroke-width=\"3.2\"/>\n",
       "<circle clip-path=\"url(#clip093)\" cx=\"3195.69\" cy=\"480.11\" r=\"14\" fill=\"#cc00ff\" fill-rule=\"evenodd\" fill-opacity=\"1\" stroke=\"#000000\" stroke-opacity=\"1\" stroke-width=\"3.2\"/>\n",
       "<circle clip-path=\"url(#clip093)\" cx=\"3512.89\" cy=\"592.643\" r=\"14\" fill=\"#ff00ff\" fill-rule=\"evenodd\" fill-opacity=\"1\" stroke=\"#000000\" stroke-opacity=\"1\" stroke-width=\"3.2\"/>\n",
       "<circle clip-path=\"url(#clip093)\" cx=\"3351.73\" cy=\"531.109\" r=\"14\" fill=\"#ff0066\" fill-rule=\"evenodd\" fill-opacity=\"1\" stroke=\"#000000\" stroke-opacity=\"1\" stroke-width=\"3.2\"/>\n",
       "<circle clip-path=\"url(#clip093)\" cx=\"2810.37\" cy=\"99.8601\" r=\"14\" fill=\"#ff0033\" fill-rule=\"evenodd\" fill-opacity=\"1\" stroke=\"#000000\" stroke-opacity=\"1\" stroke-width=\"3.2\"/>\n",
       "<circle clip-path=\"url(#clip093)\" cx=\"2769.56\" cy=\"123.334\" r=\"14\" fill=\"#ff0066\" fill-rule=\"evenodd\" fill-opacity=\"1\" stroke=\"#000000\" stroke-opacity=\"1\" stroke-width=\"3.2\"/>\n",
       "<circle clip-path=\"url(#clip093)\" cx=\"2799.97\" cy=\"122.601\" r=\"14\" fill=\"#ff00cc\" fill-rule=\"evenodd\" fill-opacity=\"1\" stroke=\"#000000\" stroke-opacity=\"1\" stroke-width=\"3.2\"/>\n",
       "<circle clip-path=\"url(#clip093)\" cx=\"2785.12\" cy=\"92.7852\" r=\"14\" fill=\"#3300ff\" fill-rule=\"evenodd\" fill-opacity=\"1\" stroke=\"#000000\" stroke-opacity=\"1\" stroke-width=\"3.2\"/>\n",
       "<circle clip-path=\"url(#clip093)\" cx=\"2770.06\" cy=\"114.358\" r=\"14\" fill=\"#3300ff\" fill-rule=\"evenodd\" fill-opacity=\"1\" stroke=\"#000000\" stroke-opacity=\"1\" stroke-width=\"3.2\"/>\n",
       "<circle clip-path=\"url(#clip093)\" cx=\"2783.22\" cy=\"97.891\" r=\"14\" fill=\"#3300ff\" fill-rule=\"evenodd\" fill-opacity=\"1\" stroke=\"#000000\" stroke-opacity=\"1\" stroke-width=\"3.2\"/>\n",
       "<circle clip-path=\"url(#clip093)\" cx=\"2784.18\" cy=\"105.266\" r=\"14\" fill=\"#9900ff\" fill-rule=\"evenodd\" fill-opacity=\"1\" stroke=\"#000000\" stroke-opacity=\"1\" stroke-width=\"3.2\"/>\n",
       "<circle clip-path=\"url(#clip093)\" cx=\"3296.1\" cy=\"392.885\" r=\"14\" fill=\"#ff0033\" fill-rule=\"evenodd\" fill-opacity=\"1\" stroke=\"#000000\" stroke-opacity=\"1\" stroke-width=\"3.2\"/>\n",
       "<circle clip-path=\"url(#clip093)\" cx=\"3055.54\" cy=\"162.7\" r=\"14\" fill=\"#0000ff\" fill-rule=\"evenodd\" fill-opacity=\"1\" stroke=\"#000000\" stroke-opacity=\"1\" stroke-width=\"3.2\"/>\n",
       "<circle clip-path=\"url(#clip093)\" cx=\"4061.69\" cy=\"1466.7\" r=\"14\" fill=\"#3300ff\" fill-rule=\"evenodd\" fill-opacity=\"1\" stroke=\"#000000\" stroke-opacity=\"1\" stroke-width=\"3.2\"/>\n",
       "<circle clip-path=\"url(#clip093)\" cx=\"4186.84\" cy=\"1402.34\" r=\"14\" fill=\"#ff00ff\" fill-rule=\"evenodd\" fill-opacity=\"1\" stroke=\"#000000\" stroke-opacity=\"1\" stroke-width=\"3.2\"/>\n",
       "<circle clip-path=\"url(#clip093)\" cx=\"4190.12\" cy=\"1395.98\" r=\"14\" fill=\"#ff00ff\" fill-rule=\"evenodd\" fill-opacity=\"1\" stroke=\"#000000\" stroke-opacity=\"1\" stroke-width=\"3.2\"/>\n",
       "<circle clip-path=\"url(#clip093)\" cx=\"2442.68\" cy=\"546.736\" r=\"14\" fill=\"#ff00cc\" fill-rule=\"evenodd\" fill-opacity=\"1\" stroke=\"#000000\" stroke-opacity=\"1\" stroke-width=\"3.2\"/>\n",
       "<circle clip-path=\"url(#clip093)\" cx=\"2605.05\" cy=\"642.15\" r=\"14\" fill=\"#0000ff\" fill-rule=\"evenodd\" fill-opacity=\"1\" stroke=\"#000000\" stroke-opacity=\"1\" stroke-width=\"3.2\"/>\n",
       "<circle clip-path=\"url(#clip093)\" cx=\"2643.41\" cy=\"674.21\" r=\"14\" fill=\"#0000ff\" fill-rule=\"evenodd\" fill-opacity=\"1\" stroke=\"#000000\" stroke-opacity=\"1\" stroke-width=\"3.2\"/>\n",
       "<circle clip-path=\"url(#clip093)\" cx=\"2676.67\" cy=\"695.68\" r=\"14\" fill=\"#ff0099\" fill-rule=\"evenodd\" fill-opacity=\"1\" stroke=\"#000000\" stroke-opacity=\"1\" stroke-width=\"3.2\"/>\n",
       "<circle clip-path=\"url(#clip093)\" cx=\"2522.25\" cy=\"593.123\" r=\"14\" fill=\"#0000ff\" fill-rule=\"evenodd\" fill-opacity=\"1\" stroke=\"#000000\" stroke-opacity=\"1\" stroke-width=\"3.2\"/>\n",
       "<circle clip-path=\"url(#clip093)\" cx=\"3045.03\" cy=\"769.116\" r=\"14\" fill=\"#ff0000\" fill-rule=\"evenodd\" fill-opacity=\"1\" stroke=\"#000000\" stroke-opacity=\"1\" stroke-width=\"3.2\"/>\n",
       "<circle clip-path=\"url(#clip093)\" cx=\"3043.96\" cy=\"746.506\" r=\"14\" fill=\"#ff00ff\" fill-rule=\"evenodd\" fill-opacity=\"1\" stroke=\"#000000\" stroke-opacity=\"1\" stroke-width=\"3.2\"/>\n",
       "<circle clip-path=\"url(#clip093)\" cx=\"3006.33\" cy=\"780.511\" r=\"14\" fill=\"#6600ff\" fill-rule=\"evenodd\" fill-opacity=\"1\" stroke=\"#000000\" stroke-opacity=\"1\" stroke-width=\"3.2\"/>\n",
       "<circle clip-path=\"url(#clip093)\" cx=\"3156.81\" cy=\"544.542\" r=\"14\" fill=\"#0000ff\" fill-rule=\"evenodd\" fill-opacity=\"1\" stroke=\"#000000\" stroke-opacity=\"1\" stroke-width=\"3.2\"/>\n",
       "<circle clip-path=\"url(#clip093)\" cx=\"3120.69\" cy=\"575.613\" r=\"14\" fill=\"#ff0066\" fill-rule=\"evenodd\" fill-opacity=\"1\" stroke=\"#000000\" stroke-opacity=\"1\" stroke-width=\"3.2\"/>\n",
       "<circle clip-path=\"url(#clip093)\" cx=\"3126.91\" cy=\"521.173\" r=\"14\" fill=\"#ff0000\" fill-rule=\"evenodd\" fill-opacity=\"1\" stroke=\"#000000\" stroke-opacity=\"1\" stroke-width=\"3.2\"/>\n",
       "<circle clip-path=\"url(#clip093)\" cx=\"3147.09\" cy=\"533.008\" r=\"14\" fill=\"#ff0000\" fill-rule=\"evenodd\" fill-opacity=\"1\" stroke=\"#000000\" stroke-opacity=\"1\" stroke-width=\"3.2\"/>\n",
       "<circle clip-path=\"url(#clip093)\" cx=\"3107.27\" cy=\"547.555\" r=\"14\" fill=\"#9900ff\" fill-rule=\"evenodd\" fill-opacity=\"1\" stroke=\"#000000\" stroke-opacity=\"1\" stroke-width=\"3.2\"/>\n",
       "<circle clip-path=\"url(#clip093)\" cx=\"3122.84\" cy=\"527.661\" r=\"14\" fill=\"#0000ff\" fill-rule=\"evenodd\" fill-opacity=\"1\" stroke=\"#000000\" stroke-opacity=\"1\" stroke-width=\"3.2\"/>\n",
       "<circle clip-path=\"url(#clip093)\" cx=\"3125.95\" cy=\"535.621\" r=\"14\" fill=\"#0000ff\" fill-rule=\"evenodd\" fill-opacity=\"1\" stroke=\"#000000\" stroke-opacity=\"1\" stroke-width=\"3.2\"/>\n",
       "<circle clip-path=\"url(#clip093)\" cx=\"3135.93\" cy=\"526.365\" r=\"14\" fill=\"#ff0000\" fill-rule=\"evenodd\" fill-opacity=\"1\" stroke=\"#000000\" stroke-opacity=\"1\" stroke-width=\"3.2\"/>\n",
       "<circle clip-path=\"url(#clip093)\" cx=\"3131.64\" cy=\"477.123\" r=\"14\" fill=\"#ff0000\" fill-rule=\"evenodd\" fill-opacity=\"1\" stroke=\"#000000\" stroke-opacity=\"1\" stroke-width=\"3.2\"/>\n",
       "<circle clip-path=\"url(#clip093)\" cx=\"3116.6\" cy=\"478.867\" r=\"14\" fill=\"#cc00ff\" fill-rule=\"evenodd\" fill-opacity=\"1\" stroke=\"#000000\" stroke-opacity=\"1\" stroke-width=\"3.2\"/>\n",
       "<circle clip-path=\"url(#clip093)\" cx=\"3118.19\" cy=\"477.742\" r=\"14\" fill=\"#ff0066\" fill-rule=\"evenodd\" fill-opacity=\"1\" stroke=\"#000000\" stroke-opacity=\"1\" stroke-width=\"3.2\"/>\n",
       "<circle clip-path=\"url(#clip093)\" cx=\"3014.1\" cy=\"545.467\" r=\"14\" fill=\"#0000ff\" fill-rule=\"evenodd\" fill-opacity=\"1\" stroke=\"#000000\" stroke-opacity=\"1\" stroke-width=\"3.2\"/>\n",
       "<circle clip-path=\"url(#clip093)\" cx=\"3041.34\" cy=\"533.888\" r=\"14\" fill=\"#9900ff\" fill-rule=\"evenodd\" fill-opacity=\"1\" stroke=\"#000000\" stroke-opacity=\"1\" stroke-width=\"3.2\"/>\n",
       "<circle clip-path=\"url(#clip093)\" cx=\"3415.87\" cy=\"555.121\" r=\"14\" fill=\"#ff00ff\" fill-rule=\"evenodd\" fill-opacity=\"1\" stroke=\"#000000\" stroke-opacity=\"1\" stroke-width=\"3.2\"/>\n",
       "<circle clip-path=\"url(#clip093)\" cx=\"3170.59\" cy=\"479.393\" r=\"14\" fill=\"#ff0033\" fill-rule=\"evenodd\" fill-opacity=\"1\" stroke=\"#000000\" stroke-opacity=\"1\" stroke-width=\"3.2\"/>\n",
       "<circle clip-path=\"url(#clip093)\" cx=\"3416.57\" cy=\"555.201\" r=\"14\" fill=\"#ff0099\" fill-rule=\"evenodd\" fill-opacity=\"1\" stroke=\"#000000\" stroke-opacity=\"1\" stroke-width=\"3.2\"/>\n",
       "<circle clip-path=\"url(#clip093)\" cx=\"3833.81\" cy=\"754.739\" r=\"14\" fill=\"#ff0000\" fill-rule=\"evenodd\" fill-opacity=\"1\" stroke=\"#000000\" stroke-opacity=\"1\" stroke-width=\"3.2\"/>\n",
       "<circle clip-path=\"url(#clip093)\" cx=\"3564.38\" cy=\"614.835\" r=\"14\" fill=\"#cc00ff\" fill-rule=\"evenodd\" fill-opacity=\"1\" stroke=\"#000000\" stroke-opacity=\"1\" stroke-width=\"3.2\"/>\n",
       "<circle clip-path=\"url(#clip093)\" cx=\"3538.49\" cy=\"603.194\" r=\"14\" fill=\"#ff00ff\" fill-rule=\"evenodd\" fill-opacity=\"1\" stroke=\"#000000\" stroke-opacity=\"1\" stroke-width=\"3.2\"/>\n",
       "<circle clip-path=\"url(#clip093)\" cx=\"3540.61\" cy=\"603.98\" r=\"14\" fill=\"#ff0066\" fill-rule=\"evenodd\" fill-opacity=\"1\" stroke=\"#000000\" stroke-opacity=\"1\" stroke-width=\"3.2\"/>\n",
       "<circle clip-path=\"url(#clip093)\" cx=\"2788.38\" cy=\"124.544\" r=\"14\" fill=\"#ff0033\" fill-rule=\"evenodd\" fill-opacity=\"1\" stroke=\"#000000\" stroke-opacity=\"1\" stroke-width=\"3.2\"/>\n",
       "<circle clip-path=\"url(#clip093)\" cx=\"2799.08\" cy=\"101.565\" r=\"14\" fill=\"#ff0066\" fill-rule=\"evenodd\" fill-opacity=\"1\" stroke=\"#000000\" stroke-opacity=\"1\" stroke-width=\"3.2\"/>\n",
       "<circle clip-path=\"url(#clip093)\" cx=\"2770.24\" cy=\"123.123\" r=\"14\" fill=\"#ff00cc\" fill-rule=\"evenodd\" fill-opacity=\"1\" stroke=\"#000000\" stroke-opacity=\"1\" stroke-width=\"3.2\"/>\n",
       "<circle clip-path=\"url(#clip093)\" cx=\"2785.45\" cy=\"103.611\" r=\"14\" fill=\"#3300ff\" fill-rule=\"evenodd\" fill-opacity=\"1\" stroke=\"#000000\" stroke-opacity=\"1\" stroke-width=\"3.2\"/>\n",
       "<circle clip-path=\"url(#clip093)\" cx=\"2760.48\" cy=\"146.559\" r=\"14\" fill=\"#3300ff\" fill-rule=\"evenodd\" fill-opacity=\"1\" stroke=\"#000000\" stroke-opacity=\"1\" stroke-width=\"3.2\"/>\n",
       "<circle clip-path=\"url(#clip093)\" cx=\"2757.42\" cy=\"124.832\" r=\"14\" fill=\"#3300ff\" fill-rule=\"evenodd\" fill-opacity=\"1\" stroke=\"#000000\" stroke-opacity=\"1\" stroke-width=\"3.2\"/>\n",
       "<circle clip-path=\"url(#clip093)\" cx=\"2792.26\" cy=\"99.8332\" r=\"14\" fill=\"#9900ff\" fill-rule=\"evenodd\" fill-opacity=\"1\" stroke=\"#000000\" stroke-opacity=\"1\" stroke-width=\"3.2\"/>\n",
       "<circle clip-path=\"url(#clip093)\" cx=\"3605.84\" cy=\"540.619\" r=\"14\" fill=\"#ff0033\" fill-rule=\"evenodd\" fill-opacity=\"1\" stroke=\"#000000\" stroke-opacity=\"1\" stroke-width=\"3.2\"/>\n",
       "<circle clip-path=\"url(#clip093)\" cx=\"3126.1\" cy=\"272.196\" r=\"14\" fill=\"#0000ff\" fill-rule=\"evenodd\" fill-opacity=\"1\" stroke=\"#000000\" stroke-opacity=\"1\" stroke-width=\"3.2\"/>\n",
       "<circle clip-path=\"url(#clip093)\" cx=\"4218.11\" cy=\"1390.72\" r=\"14\" fill=\"#3300ff\" fill-rule=\"evenodd\" fill-opacity=\"1\" stroke=\"#000000\" stroke-opacity=\"1\" stroke-width=\"3.2\"/>\n",
       "<circle clip-path=\"url(#clip093)\" cx=\"4064.3\" cy=\"1463.8\" r=\"14\" fill=\"#ff00ff\" fill-rule=\"evenodd\" fill-opacity=\"1\" stroke=\"#000000\" stroke-opacity=\"1\" stroke-width=\"3.2\"/>\n",
       "<circle clip-path=\"url(#clip093)\" cx=\"4135.19\" cy=\"1434.09\" r=\"14\" fill=\"#ff00ff\" fill-rule=\"evenodd\" fill-opacity=\"1\" stroke=\"#000000\" stroke-opacity=\"1\" stroke-width=\"3.2\"/>\n",
       "<path clip-path=\"url(#clip090)\" d=\"\n",
       "M4470.8 1508.05 L6352.76 1508.05 L6352.76 47.2441 L4470.8 47.2441  Z\n",
       "  \" fill=\"#ffffff\" fill-rule=\"evenodd\" fill-opacity=\"1\"/>\n",
       "<defs>\n",
       "  <clipPath id=\"clip094\">\n",
       "    <rect x=\"4470\" y=\"47\" width=\"1883\" height=\"1462\"/>\n",
       "  </clipPath>\n",
       "</defs>\n",
       "<polyline clip-path=\"url(#clip094)\" style=\"stroke:#000000; stroke-linecap:butt; stroke-linejoin:round; stroke-width:2; stroke-opacity:0.1; fill:none\" points=\"\n",
       "  4792.78,1508.05 4792.78,47.2441 \n",
       "  \"/>\n",
       "<polyline clip-path=\"url(#clip094)\" style=\"stroke:#000000; stroke-linecap:butt; stroke-linejoin:round; stroke-width:2; stroke-opacity:0.1; fill:none\" points=\"\n",
       "  5156.89,1508.05 5156.89,47.2441 \n",
       "  \"/>\n",
       "<polyline clip-path=\"url(#clip094)\" style=\"stroke:#000000; stroke-linecap:butt; stroke-linejoin:round; stroke-width:2; stroke-opacity:0.1; fill:none\" points=\"\n",
       "  5521.01,1508.05 5521.01,47.2441 \n",
       "  \"/>\n",
       "<polyline clip-path=\"url(#clip094)\" style=\"stroke:#000000; stroke-linecap:butt; stroke-linejoin:round; stroke-width:2; stroke-opacity:0.1; fill:none\" points=\"\n",
       "  5885.13,1508.05 5885.13,47.2441 \n",
       "  \"/>\n",
       "<polyline clip-path=\"url(#clip094)\" style=\"stroke:#000000; stroke-linecap:butt; stroke-linejoin:round; stroke-width:2; stroke-opacity:0.1; fill:none\" points=\"\n",
       "  6249.24,1508.05 6249.24,47.2441 \n",
       "  \"/>\n",
       "<polyline clip-path=\"url(#clip090)\" style=\"stroke:#000000; stroke-linecap:butt; stroke-linejoin:round; stroke-width:4; stroke-opacity:1; fill:none\" points=\"\n",
       "  4470.8,1508.05 6352.76,1508.05 \n",
       "  \"/>\n",
       "<polyline clip-path=\"url(#clip090)\" style=\"stroke:#000000; stroke-linecap:butt; stroke-linejoin:round; stroke-width:4; stroke-opacity:1; fill:none\" points=\"\n",
       "  4792.78,1508.05 4792.78,1489.15 \n",
       "  \"/>\n",
       "<polyline clip-path=\"url(#clip090)\" style=\"stroke:#000000; stroke-linecap:butt; stroke-linejoin:round; stroke-width:4; stroke-opacity:1; fill:none\" points=\"\n",
       "  5156.89,1508.05 5156.89,1489.15 \n",
       "  \"/>\n",
       "<polyline clip-path=\"url(#clip090)\" style=\"stroke:#000000; stroke-linecap:butt; stroke-linejoin:round; stroke-width:4; stroke-opacity:1; fill:none\" points=\"\n",
       "  5521.01,1508.05 5521.01,1489.15 \n",
       "  \"/>\n",
       "<polyline clip-path=\"url(#clip090)\" style=\"stroke:#000000; stroke-linecap:butt; stroke-linejoin:round; stroke-width:4; stroke-opacity:1; fill:none\" points=\"\n",
       "  5885.13,1508.05 5885.13,1489.15 \n",
       "  \"/>\n",
       "<polyline clip-path=\"url(#clip090)\" style=\"stroke:#000000; stroke-linecap:butt; stroke-linejoin:round; stroke-width:4; stroke-opacity:1; fill:none\" points=\"\n",
       "  6249.24,1508.05 6249.24,1489.15 \n",
       "  \"/>\n",
       "<path clip-path=\"url(#clip090)\" d=\"M4739.31 1583.89 L4768.98 1583.89 L4768.98 1587.83 L4739.31 1587.83 L4739.31 1583.89 Z\" fill=\"#000000\" fill-rule=\"evenodd\" fill-opacity=\"1\" /><path clip-path=\"url(#clip090)\" d=\"M4779.88 1596.78 L4787.52 1596.78 L4787.52 1570.42 L4779.21 1572.09 L4779.21 1567.83 L4787.48 1566.16 L4792.15 1566.16 L4792.15 1596.78 L4799.79 1596.78 L4799.79 1600.72 L4779.88 1600.72 L4779.88 1596.78 Z\" fill=\"#000000\" fill-rule=\"evenodd\" fill-opacity=\"1\" /><path clip-path=\"url(#clip090)\" d=\"M4809.24 1594.84 L4814.12 1594.84 L4814.12 1600.72 L4809.24 1600.72 L4809.24 1594.84 Z\" fill=\"#000000\" fill-rule=\"evenodd\" fill-opacity=\"1\" /><path clip-path=\"url(#clip090)\" d=\"M4834.3 1569.24 Q4830.69 1569.24 4828.86 1572.8 Q4827.06 1576.35 4827.06 1583.47 Q4827.06 1590.58 4828.86 1594.15 Q4830.69 1597.69 4834.3 1597.69 Q4837.94 1597.69 4839.74 1594.15 Q4841.57 1590.58 4841.57 1583.47 Q4841.57 1576.35 4839.74 1572.8 Q4837.94 1569.24 4834.3 1569.24 M4834.3 1565.53 Q4840.11 1565.53 4843.17 1570.14 Q4846.25 1574.72 4846.25 1583.47 Q4846.25 1592.2 4843.17 1596.81 Q4840.11 1601.39 4834.3 1601.39 Q4828.49 1601.39 4825.42 1596.81 Q4822.36 1592.2 4822.36 1583.47 Q4822.36 1574.72 4825.42 1570.14 Q4828.49 1565.53 4834.3 1565.53 Z\" fill=\"#000000\" fill-rule=\"evenodd\" fill-opacity=\"1\" /><path clip-path=\"url(#clip090)\" d=\"M5103.92 1583.89 L5133.6 1583.89 L5133.6 1587.83 L5103.92 1587.83 L5103.92 1583.89 Z\" fill=\"#000000\" fill-rule=\"evenodd\" fill-opacity=\"1\" /><path clip-path=\"url(#clip090)\" d=\"M5153.69 1569.24 Q5150.08 1569.24 5148.25 1572.8 Q5146.44 1576.35 5146.44 1583.47 Q5146.44 1590.58 5148.25 1594.15 Q5150.08 1597.69 5153.69 1597.69 Q5157.32 1597.69 5159.13 1594.15 Q5160.96 1590.58 5160.96 1583.47 Q5160.96 1576.35 5159.13 1572.8 Q5157.32 1569.24 5153.69 1569.24 M5153.69 1565.53 Q5159.5 1565.53 5162.55 1570.14 Q5165.63 1574.72 5165.63 1583.47 Q5165.63 1592.2 5162.55 1596.81 Q5159.5 1601.39 5153.69 1601.39 Q5147.88 1601.39 5144.8 1596.81 Q5141.74 1592.2 5141.74 1583.47 Q5141.74 1574.72 5144.8 1570.14 Q5147.88 1565.53 5153.69 1565.53 Z\" fill=\"#000000\" fill-rule=\"evenodd\" fill-opacity=\"1\" /><path clip-path=\"url(#clip090)\" d=\"M5173.85 1594.84 L5178.73 1594.84 L5178.73 1600.72 L5173.85 1600.72 L5173.85 1594.84 Z\" fill=\"#000000\" fill-rule=\"evenodd\" fill-opacity=\"1\" /><path clip-path=\"url(#clip090)\" d=\"M5188.97 1566.16 L5207.32 1566.16 L5207.32 1570.1 L5193.25 1570.1 L5193.25 1578.57 Q5194.27 1578.22 5195.28 1578.06 Q5196.3 1577.87 5197.32 1577.87 Q5203.11 1577.87 5206.49 1581.04 Q5209.87 1584.22 5209.87 1589.63 Q5209.87 1595.21 5206.4 1598.31 Q5202.92 1601.39 5196.6 1601.39 Q5194.43 1601.39 5192.16 1601.02 Q5189.91 1600.65 5187.51 1599.91 L5187.51 1595.21 Q5189.59 1596.34 5191.81 1596.9 Q5194.03 1597.46 5196.51 1597.46 Q5200.52 1597.46 5202.85 1595.35 Q5205.19 1593.24 5205.19 1589.63 Q5205.19 1586.02 5202.85 1583.91 Q5200.52 1581.81 5196.51 1581.81 Q5194.64 1581.81 5192.76 1582.22 Q5190.91 1582.64 5188.97 1583.52 L5188.97 1566.16 Z\" fill=\"#000000\" fill-rule=\"evenodd\" fill-opacity=\"1\" /><path clip-path=\"url(#clip090)\" d=\"M5498.4 1569.24 Q5494.78 1569.24 5492.96 1572.8 Q5491.15 1576.35 5491.15 1583.47 Q5491.15 1590.58 5492.96 1594.15 Q5494.78 1597.69 5498.4 1597.69 Q5502.03 1597.69 5503.84 1594.15 Q5505.66 1590.58 5505.66 1583.47 Q5505.66 1576.35 5503.84 1572.8 Q5502.03 1569.24 5498.4 1569.24 M5498.4 1565.53 Q5504.21 1565.53 5507.26 1570.14 Q5510.34 1574.72 5510.34 1583.47 Q5510.34 1592.2 5507.26 1596.81 Q5504.21 1601.39 5498.4 1601.39 Q5492.59 1601.39 5489.51 1596.81 Q5486.45 1592.2 5486.45 1583.47 Q5486.45 1574.72 5489.51 1570.14 Q5492.59 1565.53 5498.4 1565.53 Z\" fill=\"#000000\" fill-rule=\"evenodd\" fill-opacity=\"1\" /><path clip-path=\"url(#clip090)\" d=\"M5518.56 1594.84 L5523.44 1594.84 L5523.44 1600.72 L5518.56 1600.72 L5518.56 1594.84 Z\" fill=\"#000000\" fill-rule=\"evenodd\" fill-opacity=\"1\" /><path clip-path=\"url(#clip090)\" d=\"M5543.63 1569.24 Q5540.02 1569.24 5538.19 1572.8 Q5536.38 1576.35 5536.38 1583.47 Q5536.38 1590.58 5538.19 1594.15 Q5540.02 1597.69 5543.63 1597.69 Q5547.26 1597.69 5549.07 1594.15 Q5550.89 1590.58 5550.89 1583.47 Q5550.89 1576.35 5549.07 1572.8 Q5547.26 1569.24 5543.63 1569.24 M5543.63 1565.53 Q5549.44 1565.53 5552.49 1570.14 Q5555.57 1574.72 5555.57 1583.47 Q5555.57 1592.2 5552.49 1596.81 Q5549.44 1601.39 5543.63 1601.39 Q5537.82 1601.39 5534.74 1596.81 Q5531.68 1592.2 5531.68 1583.47 Q5531.68 1574.72 5534.74 1570.14 Q5537.82 1565.53 5543.63 1565.53 Z\" fill=\"#000000\" fill-rule=\"evenodd\" fill-opacity=\"1\" /><path clip-path=\"url(#clip090)\" d=\"M5863.01 1569.24 Q5859.4 1569.24 5857.57 1572.8 Q5855.76 1576.35 5855.76 1583.47 Q5855.76 1590.58 5857.57 1594.15 Q5859.4 1597.69 5863.01 1597.69 Q5866.64 1597.69 5868.45 1594.15 Q5870.28 1590.58 5870.28 1583.47 Q5870.28 1576.35 5868.45 1572.8 Q5866.64 1569.24 5863.01 1569.24 M5863.01 1565.53 Q5868.82 1565.53 5871.88 1570.14 Q5874.95 1574.72 5874.95 1583.47 Q5874.95 1592.2 5871.88 1596.81 Q5868.82 1601.39 5863.01 1601.39 Q5857.2 1601.39 5854.12 1596.81 Q5851.07 1592.2 5851.07 1583.47 Q5851.07 1574.72 5854.12 1570.14 Q5857.2 1565.53 5863.01 1565.53 Z\" fill=\"#000000\" fill-rule=\"evenodd\" fill-opacity=\"1\" /><path clip-path=\"url(#clip090)\" d=\"M5883.17 1594.84 L5888.06 1594.84 L5888.06 1600.72 L5883.17 1600.72 L5883.17 1594.84 Z\" fill=\"#000000\" fill-rule=\"evenodd\" fill-opacity=\"1\" /><path clip-path=\"url(#clip090)\" d=\"M5898.29 1566.16 L5916.64 1566.16 L5916.64 1570.1 L5902.57 1570.1 L5902.57 1578.57 Q5903.59 1578.22 5904.61 1578.06 Q5905.63 1577.87 5906.64 1577.87 Q5912.43 1577.87 5915.81 1581.04 Q5919.19 1584.22 5919.19 1589.63 Q5919.19 1595.21 5915.72 1598.31 Q5912.25 1601.39 5905.93 1601.39 Q5903.75 1601.39 5901.48 1601.02 Q5899.24 1600.65 5896.83 1599.91 L5896.83 1595.21 Q5898.91 1596.34 5901.13 1596.9 Q5903.36 1597.46 5905.83 1597.46 Q5909.84 1597.46 5912.18 1595.35 Q5914.51 1593.24 5914.51 1589.63 Q5914.51 1586.02 5912.18 1583.91 Q5909.84 1581.81 5905.83 1581.81 Q5903.96 1581.81 5902.08 1582.22 Q5900.23 1582.64 5898.29 1583.52 L5898.29 1566.16 Z\" fill=\"#000000\" fill-rule=\"evenodd\" fill-opacity=\"1\" /><path clip-path=\"url(#clip090)\" d=\"M6216.4 1596.78 L6224.04 1596.78 L6224.04 1570.42 L6215.73 1572.09 L6215.73 1567.83 L6223.99 1566.16 L6228.67 1566.16 L6228.67 1596.78 L6236.31 1596.78 L6236.31 1600.72 L6216.4 1600.72 L6216.4 1596.78 Z\" fill=\"#000000\" fill-rule=\"evenodd\" fill-opacity=\"1\" /><path clip-path=\"url(#clip090)\" d=\"M6245.75 1594.84 L6250.63 1594.84 L6250.63 1600.72 L6245.75 1600.72 L6245.75 1594.84 Z\" fill=\"#000000\" fill-rule=\"evenodd\" fill-opacity=\"1\" /><path clip-path=\"url(#clip090)\" d=\"M6270.82 1569.24 Q6267.21 1569.24 6265.38 1572.8 Q6263.57 1576.35 6263.57 1583.47 Q6263.57 1590.58 6265.38 1594.15 Q6267.21 1597.69 6270.82 1597.69 Q6274.45 1597.69 6276.26 1594.15 Q6278.09 1590.58 6278.09 1583.47 Q6278.09 1576.35 6276.26 1572.8 Q6274.45 1569.24 6270.82 1569.24 M6270.82 1565.53 Q6276.63 1565.53 6279.68 1570.14 Q6282.76 1574.72 6282.76 1583.47 Q6282.76 1592.2 6279.68 1596.81 Q6276.63 1601.39 6270.82 1601.39 Q6265.01 1601.39 6261.93 1596.81 Q6258.87 1592.2 6258.87 1583.47 Q6258.87 1574.72 6261.93 1570.14 Q6265.01 1565.53 6270.82 1565.53 Z\" fill=\"#000000\" fill-rule=\"evenodd\" fill-opacity=\"1\" /><polyline clip-path=\"url(#clip094)\" style=\"stroke:#000000; stroke-linecap:butt; stroke-linejoin:round; stroke-width:2; stroke-opacity:0.1; fill:none\" points=\"\n",
       "  4470.8,1466.7 6352.76,1466.7 \n",
       "  \"/>\n",
       "<polyline clip-path=\"url(#clip094)\" style=\"stroke:#000000; stroke-linecap:butt; stroke-linejoin:round; stroke-width:2; stroke-opacity:0.1; fill:none\" points=\"\n",
       "  4470.8,1237.02 6352.76,1237.02 \n",
       "  \"/>\n",
       "<polyline clip-path=\"url(#clip094)\" style=\"stroke:#000000; stroke-linecap:butt; stroke-linejoin:round; stroke-width:2; stroke-opacity:0.1; fill:none\" points=\"\n",
       "  4470.8,1007.33 6352.76,1007.33 \n",
       "  \"/>\n",
       "<polyline clip-path=\"url(#clip094)\" style=\"stroke:#000000; stroke-linecap:butt; stroke-linejoin:round; stroke-width:2; stroke-opacity:0.1; fill:none\" points=\"\n",
       "  4470.8,777.646 6352.76,777.646 \n",
       "  \"/>\n",
       "<polyline clip-path=\"url(#clip094)\" style=\"stroke:#000000; stroke-linecap:butt; stroke-linejoin:round; stroke-width:2; stroke-opacity:0.1; fill:none\" points=\"\n",
       "  4470.8,547.96 6352.76,547.96 \n",
       "  \"/>\n",
       "<polyline clip-path=\"url(#clip094)\" style=\"stroke:#000000; stroke-linecap:butt; stroke-linejoin:round; stroke-width:2; stroke-opacity:0.1; fill:none\" points=\"\n",
       "  4470.8,318.274 6352.76,318.274 \n",
       "  \"/>\n",
       "<polyline clip-path=\"url(#clip094)\" style=\"stroke:#000000; stroke-linecap:butt; stroke-linejoin:round; stroke-width:2; stroke-opacity:0.1; fill:none\" points=\"\n",
       "  4470.8,88.5876 6352.76,88.5876 \n",
       "  \"/>\n",
       "<polyline clip-path=\"url(#clip090)\" style=\"stroke:#000000; stroke-linecap:butt; stroke-linejoin:round; stroke-width:4; stroke-opacity:1; fill:none\" points=\"\n",
       "  4470.8,1508.05 4470.8,47.2441 \n",
       "  \"/>\n",
       "<polyline clip-path=\"url(#clip090)\" style=\"stroke:#000000; stroke-linecap:butt; stroke-linejoin:round; stroke-width:4; stroke-opacity:1; fill:none\" points=\"\n",
       "  4470.8,1466.7 4489.69,1466.7 \n",
       "  \"/>\n",
       "<polyline clip-path=\"url(#clip090)\" style=\"stroke:#000000; stroke-linecap:butt; stroke-linejoin:round; stroke-width:4; stroke-opacity:1; fill:none\" points=\"\n",
       "  4470.8,1237.02 4489.69,1237.02 \n",
       "  \"/>\n",
       "<polyline clip-path=\"url(#clip090)\" style=\"stroke:#000000; stroke-linecap:butt; stroke-linejoin:round; stroke-width:4; stroke-opacity:1; fill:none\" points=\"\n",
       "  4470.8,1007.33 4489.69,1007.33 \n",
       "  \"/>\n",
       "<polyline clip-path=\"url(#clip090)\" style=\"stroke:#000000; stroke-linecap:butt; stroke-linejoin:round; stroke-width:4; stroke-opacity:1; fill:none\" points=\"\n",
       "  4470.8,777.646 4489.69,777.646 \n",
       "  \"/>\n",
       "<polyline clip-path=\"url(#clip090)\" style=\"stroke:#000000; stroke-linecap:butt; stroke-linejoin:round; stroke-width:4; stroke-opacity:1; fill:none\" points=\"\n",
       "  4470.8,547.96 4489.69,547.96 \n",
       "  \"/>\n",
       "<polyline clip-path=\"url(#clip090)\" style=\"stroke:#000000; stroke-linecap:butt; stroke-linejoin:round; stroke-width:4; stroke-opacity:1; fill:none\" points=\"\n",
       "  4470.8,318.274 4489.69,318.274 \n",
       "  \"/>\n",
       "<polyline clip-path=\"url(#clip090)\" style=\"stroke:#000000; stroke-linecap:butt; stroke-linejoin:round; stroke-width:4; stroke-opacity:1; fill:none\" points=\"\n",
       "  4470.8,88.5876 4489.69,88.5876 \n",
       "  \"/>\n",
       "<path clip-path=\"url(#clip090)\" d=\"M4362.85 1452.5 Q4359.24 1452.5 4357.41 1456.07 Q4355.61 1459.61 4355.61 1466.74 Q4355.61 1473.85 4357.41 1477.41 Q4359.24 1480.95 4362.85 1480.95 Q4366.49 1480.95 4368.29 1477.41 Q4370.12 1473.85 4370.12 1466.74 Q4370.12 1459.61 4368.29 1456.07 Q4366.49 1452.5 4362.85 1452.5 M4362.85 1448.8 Q4368.66 1448.8 4371.72 1453.41 Q4374.8 1457.99 4374.8 1466.74 Q4374.8 1475.47 4371.72 1480.07 Q4368.66 1484.66 4362.85 1484.66 Q4357.04 1484.66 4353.96 1480.07 Q4350.91 1475.47 4350.91 1466.74 Q4350.91 1457.99 4353.96 1453.41 Q4357.04 1448.8 4362.85 1448.8 Z\" fill=\"#000000\" fill-rule=\"evenodd\" fill-opacity=\"1\" /><path clip-path=\"url(#clip090)\" d=\"M4354.89 1250.36 L4362.53 1250.36 L4362.53 1224 L4354.22 1225.66 L4354.22 1221.4 L4362.48 1219.74 L4367.16 1219.74 L4367.16 1250.36 L4374.8 1250.36 L4374.8 1254.3 L4354.89 1254.3 L4354.89 1250.36 Z\" fill=\"#000000\" fill-rule=\"evenodd\" fill-opacity=\"1\" /><path clip-path=\"url(#clip090)\" d=\"M4358.48 1020.68 L4374.8 1020.68 L4374.8 1024.61 L4352.85 1024.61 L4352.85 1020.68 Q4355.51 1017.92 4360.1 1013.29 Q4364.7 1008.64 4365.88 1007.3 Q4368.13 1004.77 4369.01 1003.04 Q4369.91 1001.28 4369.91 999.589 Q4369.91 996.834 4367.97 995.098 Q4366.05 993.362 4362.94 993.362 Q4360.74 993.362 4358.29 994.126 Q4355.86 994.89 4353.08 996.441 L4353.08 991.719 Q4355.91 990.585 4358.36 990.006 Q4360.81 989.427 4362.85 989.427 Q4368.22 989.427 4371.42 992.112 Q4374.61 994.797 4374.61 999.288 Q4374.61 1001.42 4373.8 1003.34 Q4373.01 1005.24 4370.91 1007.83 Q4370.33 1008.5 4367.23 1011.72 Q4364.12 1014.91 4358.48 1020.68 Z\" fill=\"#000000\" fill-rule=\"evenodd\" fill-opacity=\"1\" /><path clip-path=\"url(#clip090)\" d=\"M4367.67 776.292 Q4371.02 777.009 4372.9 779.278 Q4374.8 781.546 4374.8 784.88 Q4374.8 789.995 4371.28 792.796 Q4367.76 795.597 4361.28 795.597 Q4359.1 795.597 4356.79 795.157 Q4354.49 794.741 4352.04 793.884 L4352.04 789.37 Q4353.99 790.505 4356.3 791.083 Q4358.62 791.662 4361.14 791.662 Q4365.54 791.662 4367.83 789.926 Q4370.14 788.19 4370.14 784.88 Q4370.14 781.824 4367.99 780.111 Q4365.86 778.375 4362.04 778.375 L4358.01 778.375 L4358.01 774.533 L4362.23 774.533 Q4365.68 774.533 4367.5 773.167 Q4369.33 771.778 4369.33 769.185 Q4369.33 766.523 4367.43 765.111 Q4365.56 763.676 4362.04 763.676 Q4360.12 763.676 4357.92 764.093 Q4355.72 764.509 4353.08 765.389 L4353.08 761.222 Q4355.74 760.482 4358.06 760.111 Q4360.4 759.741 4362.46 759.741 Q4367.78 759.741 4370.88 762.172 Q4373.99 764.579 4373.99 768.699 Q4373.99 771.57 4372.34 773.56 Q4370.7 775.528 4367.67 776.292 Z\" fill=\"#000000\" fill-rule=\"evenodd\" fill-opacity=\"1\" /><path clip-path=\"url(#clip090)\" d=\"M4365.21 534.754 L4353.41 553.203 L4365.21 553.203 L4365.21 534.754 M4363.99 530.68 L4369.87 530.68 L4369.87 553.203 L4374.8 553.203 L4374.8 557.092 L4369.87 557.092 L4369.87 565.24 L4365.21 565.24 L4365.21 557.092 L4349.61 557.092 L4349.61 552.578 L4363.99 530.68 Z\" fill=\"#000000\" fill-rule=\"evenodd\" fill-opacity=\"1\" /><path clip-path=\"url(#clip090)\" d=\"M4353.89 300.994 L4372.25 300.994 L4372.25 304.929 L4358.18 304.929 L4358.18 313.401 Q4359.19 313.054 4360.21 312.892 Q4361.23 312.707 4362.25 312.707 Q4368.04 312.707 4371.42 315.878 Q4374.8 319.049 4374.8 324.466 Q4374.8 330.044 4371.32 333.146 Q4367.85 336.225 4361.53 336.225 Q4359.36 336.225 4357.09 335.855 Q4354.84 335.484 4352.43 334.744 L4352.43 330.044 Q4354.52 331.179 4356.74 331.734 Q4358.96 332.29 4361.44 332.29 Q4365.44 332.29 4367.78 330.183 Q4370.12 328.077 4370.12 324.466 Q4370.12 320.855 4367.78 318.748 Q4365.44 316.642 4361.44 316.642 Q4359.56 316.642 4357.69 317.058 Q4355.84 317.475 4353.89 318.355 L4353.89 300.994 Z\" fill=\"#000000\" fill-rule=\"evenodd\" fill-opacity=\"1\" /><path clip-path=\"url(#clip090)\" d=\"M4363.27 86.7242 Q4360.12 86.7242 4358.27 88.8769 Q4356.44 91.0297 4356.44 94.7797 Q4356.44 98.5065 4358.27 100.682 Q4360.12 102.835 4363.27 102.835 Q4366.42 102.835 4368.24 100.682 Q4370.1 98.5065 4370.1 94.7797 Q4370.1 91.0297 4368.24 88.8769 Q4366.42 86.7242 4363.27 86.7242 M4372.55 72.0715 L4372.55 76.3307 Q4370.79 75.4974 4368.99 75.0576 Q4367.2 74.6178 4365.44 74.6178 Q4360.81 74.6178 4358.36 77.7427 Q4355.93 80.8677 4355.58 87.1871 Q4356.95 85.1733 4359.01 84.1085 Q4361.07 83.0205 4363.55 83.0205 Q4368.75 83.0205 4371.76 86.1918 Q4374.8 89.3399 4374.8 94.7797 Q4374.8 100.104 4371.65 103.321 Q4368.5 106.539 4363.27 106.539 Q4357.27 106.539 4354.1 101.956 Q4350.93 97.3491 4350.93 88.6223 Q4350.93 80.4279 4354.82 75.5668 Q4358.71 70.6826 4365.26 70.6826 Q4367.02 70.6826 4368.8 71.0298 Q4370.61 71.377 4372.55 72.0715 Z\" fill=\"#000000\" fill-rule=\"evenodd\" fill-opacity=\"1\" /><path clip-path=\"url(#clip094)\" d=\"\n",
       "M5084.07 1007.33 L5084.07 1466.7 L5120.48 1466.7 L5120.48 1007.33 L5084.07 1007.33 L5084.07 1007.33  Z\n",
       "  \" fill=\"#ff0000\" fill-rule=\"evenodd\" fill-opacity=\"1\"/>\n",
       "<polyline clip-path=\"url(#clip094)\" style=\"stroke:#000000; stroke-linecap:butt; stroke-linejoin:round; stroke-width:4; stroke-opacity:1; fill:none\" points=\"\n",
       "  5084.07,1007.33 5084.07,1466.7 5120.48,1466.7 5120.48,1007.33 5084.07,1007.33 \n",
       "  \"/>\n",
       "<path clip-path=\"url(#clip094)\" d=\"\n",
       "M5120.48 1237.02 L5120.48 1466.7 L5156.89 1466.7 L5156.89 1237.02 L5120.48 1237.02 L5120.48 1237.02  Z\n",
       "  \" fill=\"#ff0000\" fill-rule=\"evenodd\" fill-opacity=\"1\"/>\n",
       "<polyline clip-path=\"url(#clip094)\" style=\"stroke:#000000; stroke-linecap:butt; stroke-linejoin:round; stroke-width:4; stroke-opacity:1; fill:none\" points=\"\n",
       "  5120.48,1237.02 5120.48,1466.7 5156.89,1466.7 5156.89,1237.02 5120.48,1237.02 \n",
       "  \"/>\n",
       "<path clip-path=\"url(#clip094)\" d=\"\n",
       "M5156.89 1466.7 L5156.89 1466.7 L5193.31 1466.7 L5193.31 1466.7 L5156.89 1466.7 L5156.89 1466.7  Z\n",
       "  \" fill=\"#ff0000\" fill-rule=\"evenodd\" fill-opacity=\"1\"/>\n",
       "<polyline clip-path=\"url(#clip094)\" style=\"stroke:#000000; stroke-linecap:butt; stroke-linejoin:round; stroke-width:4; stroke-opacity:1; fill:none\" points=\"\n",
       "  5156.89,1466.7 5156.89,1466.7 5193.31,1466.7 5156.89,1466.7 \n",
       "  \"/>\n",
       "<path clip-path=\"url(#clip094)\" d=\"\n",
       "M5193.31 1466.7 L5193.31 1466.7 L5229.72 1466.7 L5229.72 1466.7 L5193.31 1466.7 L5193.31 1466.7  Z\n",
       "  \" fill=\"#ff0000\" fill-rule=\"evenodd\" fill-opacity=\"1\"/>\n",
       "<polyline clip-path=\"url(#clip094)\" style=\"stroke:#000000; stroke-linecap:butt; stroke-linejoin:round; stroke-width:4; stroke-opacity:1; fill:none\" points=\"\n",
       "  5193.31,1466.7 5193.31,1466.7 5229.72,1466.7 5193.31,1466.7 \n",
       "  \"/>\n",
       "<path clip-path=\"url(#clip094)\" d=\"\n",
       "M5229.72 1466.7 L5229.72 1466.7 L5266.13 1466.7 L5266.13 1466.7 L5229.72 1466.7 L5229.72 1466.7  Z\n",
       "  \" fill=\"#ff0000\" fill-rule=\"evenodd\" fill-opacity=\"1\"/>\n",
       "<polyline clip-path=\"url(#clip094)\" style=\"stroke:#000000; stroke-linecap:butt; stroke-linejoin:round; stroke-width:4; stroke-opacity:1; fill:none\" points=\"\n",
       "  5229.72,1466.7 5229.72,1466.7 5266.13,1466.7 5229.72,1466.7 \n",
       "  \"/>\n",
       "<path clip-path=\"url(#clip094)\" d=\"\n",
       "M5266.13 1466.7 L5266.13 1466.7 L5302.54 1466.7 L5302.54 1466.7 L5266.13 1466.7 L5266.13 1466.7  Z\n",
       "  \" fill=\"#ff0000\" fill-rule=\"evenodd\" fill-opacity=\"1\"/>\n",
       "<polyline clip-path=\"url(#clip094)\" style=\"stroke:#000000; stroke-linecap:butt; stroke-linejoin:round; stroke-width:4; stroke-opacity:1; fill:none\" points=\"\n",
       "  5266.13,1466.7 5266.13,1466.7 5302.54,1466.7 5266.13,1466.7 \n",
       "  \"/>\n",
       "<path clip-path=\"url(#clip094)\" d=\"\n",
       "M5302.54 1466.7 L5302.54 1466.7 L5338.95 1466.7 L5338.95 1466.7 L5302.54 1466.7 L5302.54 1466.7  Z\n",
       "  \" fill=\"#ff0000\" fill-rule=\"evenodd\" fill-opacity=\"1\"/>\n",
       "<polyline clip-path=\"url(#clip094)\" style=\"stroke:#000000; stroke-linecap:butt; stroke-linejoin:round; stroke-width:4; stroke-opacity:1; fill:none\" points=\"\n",
       "  5302.54,1466.7 5302.54,1466.7 5338.95,1466.7 5302.54,1466.7 \n",
       "  \"/>\n",
       "<path clip-path=\"url(#clip094)\" d=\"\n",
       "M5338.95 1466.7 L5338.95 1466.7 L5375.36 1466.7 L5375.36 1466.7 L5338.95 1466.7 L5338.95 1466.7  Z\n",
       "  \" fill=\"#ff0000\" fill-rule=\"evenodd\" fill-opacity=\"1\"/>\n",
       "<polyline clip-path=\"url(#clip094)\" style=\"stroke:#000000; stroke-linecap:butt; stroke-linejoin:round; stroke-width:4; stroke-opacity:1; fill:none\" points=\"\n",
       "  5338.95,1466.7 5338.95,1466.7 5375.36,1466.7 5338.95,1466.7 \n",
       "  \"/>\n",
       "<path clip-path=\"url(#clip094)\" d=\"\n",
       "M5375.36 1466.7 L5375.36 1466.7 L5411.78 1466.7 L5411.78 1466.7 L5375.36 1466.7 L5375.36 1466.7  Z\n",
       "  \" fill=\"#ff0000\" fill-rule=\"evenodd\" fill-opacity=\"1\"/>\n",
       "<polyline clip-path=\"url(#clip094)\" style=\"stroke:#000000; stroke-linecap:butt; stroke-linejoin:round; stroke-width:4; stroke-opacity:1; fill:none\" points=\"\n",
       "  5375.36,1466.7 5375.36,1466.7 5411.78,1466.7 5375.36,1466.7 \n",
       "  \"/>\n",
       "<path clip-path=\"url(#clip094)\" d=\"\n",
       "M5411.78 1466.7 L5411.78 1466.7 L5448.19 1466.7 L5448.19 1466.7 L5411.78 1466.7 L5411.78 1466.7  Z\n",
       "  \" fill=\"#ff0000\" fill-rule=\"evenodd\" fill-opacity=\"1\"/>\n",
       "<polyline clip-path=\"url(#clip094)\" style=\"stroke:#000000; stroke-linecap:butt; stroke-linejoin:round; stroke-width:4; stroke-opacity:1; fill:none\" points=\"\n",
       "  5411.78,1466.7 5411.78,1466.7 5448.19,1466.7 5411.78,1466.7 \n",
       "  \"/>\n",
       "<path clip-path=\"url(#clip094)\" d=\"\n",
       "M5448.19 1466.7 L5448.19 1466.7 L5484.6 1466.7 L5484.6 1466.7 L5448.19 1466.7 L5448.19 1466.7  Z\n",
       "  \" fill=\"#ff0000\" fill-rule=\"evenodd\" fill-opacity=\"1\"/>\n",
       "<polyline clip-path=\"url(#clip094)\" style=\"stroke:#000000; stroke-linecap:butt; stroke-linejoin:round; stroke-width:4; stroke-opacity:1; fill:none\" points=\"\n",
       "  5448.19,1466.7 5448.19,1466.7 5484.6,1466.7 5448.19,1466.7 \n",
       "  \"/>\n",
       "<path clip-path=\"url(#clip094)\" d=\"\n",
       "M5484.6 1466.7 L5484.6 1466.7 L5521.01 1466.7 L5521.01 1466.7 L5484.6 1466.7 L5484.6 1466.7  Z\n",
       "  \" fill=\"#ff0000\" fill-rule=\"evenodd\" fill-opacity=\"1\"/>\n",
       "<polyline clip-path=\"url(#clip094)\" style=\"stroke:#000000; stroke-linecap:butt; stroke-linejoin:round; stroke-width:4; stroke-opacity:1; fill:none\" points=\"\n",
       "  5484.6,1466.7 5484.6,1466.7 5521.01,1466.7 5484.6,1466.7 \n",
       "  \"/>\n",
       "<path clip-path=\"url(#clip094)\" d=\"\n",
       "M5521.01 1007.33 L5521.01 1466.7 L5557.42 1466.7 L5557.42 1007.33 L5521.01 1007.33 L5521.01 1007.33  Z\n",
       "  \" fill=\"#ff0000\" fill-rule=\"evenodd\" fill-opacity=\"1\"/>\n",
       "<polyline clip-path=\"url(#clip094)\" style=\"stroke:#000000; stroke-linecap:butt; stroke-linejoin:round; stroke-width:4; stroke-opacity:1; fill:none\" points=\"\n",
       "  5521.01,1007.33 5521.01,1466.7 5557.42,1466.7 5557.42,1007.33 5521.01,1007.33 \n",
       "  \"/>\n",
       "<path clip-path=\"url(#clip094)\" d=\"\n",
       "M5557.42 777.646 L5557.42 1466.7 L5593.83 1466.7 L5593.83 777.646 L5557.42 777.646 L5557.42 777.646  Z\n",
       "  \" fill=\"#ff0000\" fill-rule=\"evenodd\" fill-opacity=\"1\"/>\n",
       "<polyline clip-path=\"url(#clip094)\" style=\"stroke:#000000; stroke-linecap:butt; stroke-linejoin:round; stroke-width:4; stroke-opacity:1; fill:none\" points=\"\n",
       "  5557.42,777.646 5557.42,1466.7 5593.83,1466.7 5593.83,777.646 5557.42,777.646 \n",
       "  \"/>\n",
       "<path clip-path=\"url(#clip094)\" d=\"\n",
       "M5593.83 777.646 L5593.83 1466.7 L5630.25 1466.7 L5630.25 777.646 L5593.83 777.646 L5593.83 777.646  Z\n",
       "  \" fill=\"#ff0000\" fill-rule=\"evenodd\" fill-opacity=\"1\"/>\n",
       "<polyline clip-path=\"url(#clip094)\" style=\"stroke:#000000; stroke-linecap:butt; stroke-linejoin:round; stroke-width:4; stroke-opacity:1; fill:none\" points=\"\n",
       "  5593.83,777.646 5593.83,1466.7 5630.25,1466.7 5630.25,777.646 5593.83,777.646 \n",
       "  \"/>\n",
       "<path clip-path=\"url(#clip094)\" d=\"\n",
       "M5630.25 1237.02 L5630.25 1466.7 L5666.66 1466.7 L5666.66 1237.02 L5630.25 1237.02 L5630.25 1237.02  Z\n",
       "  \" fill=\"#ff0000\" fill-rule=\"evenodd\" fill-opacity=\"1\"/>\n",
       "<polyline clip-path=\"url(#clip094)\" style=\"stroke:#000000; stroke-linecap:butt; stroke-linejoin:round; stroke-width:4; stroke-opacity:1; fill:none\" points=\"\n",
       "  5630.25,1237.02 5630.25,1466.7 5666.66,1466.7 5666.66,1237.02 5630.25,1237.02 \n",
       "  \"/>\n",
       "<path clip-path=\"url(#clip094)\" d=\"\n",
       "M5666.66 777.646 L5666.66 1466.7 L5703.07 1466.7 L5703.07 777.646 L5666.66 777.646 L5666.66 777.646  Z\n",
       "  \" fill=\"#ff0000\" fill-rule=\"evenodd\" fill-opacity=\"1\"/>\n",
       "<polyline clip-path=\"url(#clip094)\" style=\"stroke:#000000; stroke-linecap:butt; stroke-linejoin:round; stroke-width:4; stroke-opacity:1; fill:none\" points=\"\n",
       "  5666.66,777.646 5666.66,1466.7 5703.07,1466.7 5703.07,777.646 5666.66,777.646 \n",
       "  \"/>\n",
       "<path clip-path=\"url(#clip094)\" d=\"\n",
       "M5703.07 1466.7 L5703.07 1466.7 L5739.48 1466.7 L5739.48 1466.7 L5703.07 1466.7 L5703.07 1466.7  Z\n",
       "  \" fill=\"#ff0000\" fill-rule=\"evenodd\" fill-opacity=\"1\"/>\n",
       "<polyline clip-path=\"url(#clip094)\" style=\"stroke:#000000; stroke-linecap:butt; stroke-linejoin:round; stroke-width:4; stroke-opacity:1; fill:none\" points=\"\n",
       "  5703.07,1466.7 5703.07,1466.7 5739.48,1466.7 5703.07,1466.7 \n",
       "  \"/>\n",
       "<path clip-path=\"url(#clip094)\" d=\"\n",
       "M5739.48 1466.7 L5739.48 1466.7 L5775.89 1466.7 L5775.89 1466.7 L5739.48 1466.7 L5739.48 1466.7  Z\n",
       "  \" fill=\"#ff0000\" fill-rule=\"evenodd\" fill-opacity=\"1\"/>\n",
       "<polyline clip-path=\"url(#clip094)\" style=\"stroke:#000000; stroke-linecap:butt; stroke-linejoin:round; stroke-width:4; stroke-opacity:1; fill:none\" points=\"\n",
       "  5739.48,1466.7 5739.48,1466.7 5775.89,1466.7 5739.48,1466.7 \n",
       "  \"/>\n",
       "<path clip-path=\"url(#clip094)\" d=\"\n",
       "M5775.89 1466.7 L5775.89 1466.7 L5812.3 1466.7 L5812.3 1466.7 L5775.89 1466.7 L5775.89 1466.7  Z\n",
       "  \" fill=\"#ff0000\" fill-rule=\"evenodd\" fill-opacity=\"1\"/>\n",
       "<polyline clip-path=\"url(#clip094)\" style=\"stroke:#000000; stroke-linecap:butt; stroke-linejoin:round; stroke-width:4; stroke-opacity:1; fill:none\" points=\"\n",
       "  5775.89,1466.7 5775.89,1466.7 5812.3,1466.7 5775.89,1466.7 \n",
       "  \"/>\n",
       "<path clip-path=\"url(#clip094)\" d=\"\n",
       "M5812.3 1237.02 L5812.3 1466.7 L5848.72 1466.7 L5848.72 1237.02 L5812.3 1237.02 L5812.3 1237.02  Z\n",
       "  \" fill=\"#ff0000\" fill-rule=\"evenodd\" fill-opacity=\"1\"/>\n",
       "<polyline clip-path=\"url(#clip094)\" style=\"stroke:#000000; stroke-linecap:butt; stroke-linejoin:round; stroke-width:4; stroke-opacity:1; fill:none\" points=\"\n",
       "  5812.3,1237.02 5812.3,1466.7 5848.72,1466.7 5848.72,1237.02 5812.3,1237.02 \n",
       "  \"/>\n",
       "<path clip-path=\"url(#clip094)\" d=\"\n",
       "M5848.72 1466.7 L5848.72 1466.7 L5885.13 1466.7 L5885.13 1466.7 L5848.72 1466.7 L5848.72 1466.7  Z\n",
       "  \" fill=\"#ff0000\" fill-rule=\"evenodd\" fill-opacity=\"1\"/>\n",
       "<polyline clip-path=\"url(#clip094)\" style=\"stroke:#000000; stroke-linecap:butt; stroke-linejoin:round; stroke-width:4; stroke-opacity:1; fill:none\" points=\"\n",
       "  5848.72,1466.7 5848.72,1466.7 5885.13,1466.7 5848.72,1466.7 \n",
       "  \"/>\n",
       "<path clip-path=\"url(#clip094)\" d=\"\n",
       "M5885.13 1237.02 L5885.13 1466.7 L5921.54 1466.7 L5921.54 1237.02 L5885.13 1237.02 L5885.13 1237.02  Z\n",
       "  \" fill=\"#ff0000\" fill-rule=\"evenodd\" fill-opacity=\"1\"/>\n",
       "<polyline clip-path=\"url(#clip094)\" style=\"stroke:#000000; stroke-linecap:butt; stroke-linejoin:round; stroke-width:4; stroke-opacity:1; fill:none\" points=\"\n",
       "  5885.13,1237.02 5885.13,1466.7 5921.54,1466.7 5921.54,1237.02 5885.13,1237.02 \n",
       "  \"/>\n",
       "<path clip-path=\"url(#clip094)\" d=\"\n",
       "M5921.54 1466.7 L5921.54 1466.7 L5957.95 1466.7 L5957.95 1466.7 L5921.54 1466.7 L5921.54 1466.7  Z\n",
       "  \" fill=\"#ff0000\" fill-rule=\"evenodd\" fill-opacity=\"1\"/>\n",
       "<polyline clip-path=\"url(#clip094)\" style=\"stroke:#000000; stroke-linecap:butt; stroke-linejoin:round; stroke-width:4; stroke-opacity:1; fill:none\" points=\"\n",
       "  5921.54,1466.7 5921.54,1466.7 5957.95,1466.7 5921.54,1466.7 \n",
       "  \"/>\n",
       "<path clip-path=\"url(#clip094)\" d=\"\n",
       "M5957.95 1466.7 L5957.95 1466.7 L5994.36 1466.7 L5994.36 1466.7 L5957.95 1466.7 L5957.95 1466.7  Z\n",
       "  \" fill=\"#ff0000\" fill-rule=\"evenodd\" fill-opacity=\"1\"/>\n",
       "<polyline clip-path=\"url(#clip094)\" style=\"stroke:#000000; stroke-linecap:butt; stroke-linejoin:round; stroke-width:4; stroke-opacity:1; fill:none\" points=\"\n",
       "  5957.95,1466.7 5957.95,1466.7 5994.36,1466.7 5957.95,1466.7 \n",
       "  \"/>\n",
       "<path clip-path=\"url(#clip094)\" d=\"\n",
       "M5994.36 1466.7 L5994.36 1466.7 L6030.77 1466.7 L6030.77 1466.7 L5994.36 1466.7 L5994.36 1466.7  Z\n",
       "  \" fill=\"#ff0000\" fill-rule=\"evenodd\" fill-opacity=\"1\"/>\n",
       "<polyline clip-path=\"url(#clip094)\" style=\"stroke:#000000; stroke-linecap:butt; stroke-linejoin:round; stroke-width:4; stroke-opacity:1; fill:none\" points=\"\n",
       "  5994.36,1466.7 5994.36,1466.7 6030.77,1466.7 5994.36,1466.7 \n",
       "  \"/>\n",
       "<path clip-path=\"url(#clip094)\" d=\"\n",
       "M6030.77 1466.7 L6030.77 1466.7 L6067.19 1466.7 L6067.19 1466.7 L6030.77 1466.7 L6030.77 1466.7  Z\n",
       "  \" fill=\"#ff0000\" fill-rule=\"evenodd\" fill-opacity=\"1\"/>\n",
       "<polyline clip-path=\"url(#clip094)\" style=\"stroke:#000000; stroke-linecap:butt; stroke-linejoin:round; stroke-width:4; stroke-opacity:1; fill:none\" points=\"\n",
       "  6030.77,1466.7 6030.77,1466.7 6067.19,1466.7 6030.77,1466.7 \n",
       "  \"/>\n",
       "<path clip-path=\"url(#clip094)\" d=\"\n",
       "M6067.19 1466.7 L6067.19 1466.7 L6103.6 1466.7 L6103.6 1466.7 L6067.19 1466.7 L6067.19 1466.7  Z\n",
       "  \" fill=\"#ff0000\" fill-rule=\"evenodd\" fill-opacity=\"1\"/>\n",
       "<polyline clip-path=\"url(#clip094)\" style=\"stroke:#000000; stroke-linecap:butt; stroke-linejoin:round; stroke-width:4; stroke-opacity:1; fill:none\" points=\"\n",
       "  6067.19,1466.7 6067.19,1466.7 6103.6,1466.7 6067.19,1466.7 \n",
       "  \"/>\n",
       "<path clip-path=\"url(#clip094)\" d=\"\n",
       "M6103.6 1466.7 L6103.6 1466.7 L6140.01 1466.7 L6140.01 1466.7 L6103.6 1466.7 L6103.6 1466.7  Z\n",
       "  \" fill=\"#ff0000\" fill-rule=\"evenodd\" fill-opacity=\"1\"/>\n",
       "<polyline clip-path=\"url(#clip094)\" style=\"stroke:#000000; stroke-linecap:butt; stroke-linejoin:round; stroke-width:4; stroke-opacity:1; fill:none\" points=\"\n",
       "  6103.6,1466.7 6103.6,1466.7 6140.01,1466.7 6103.6,1466.7 \n",
       "  \"/>\n",
       "<path clip-path=\"url(#clip094)\" d=\"\n",
       "M6140.01 1466.7 L6140.01 1466.7 L6176.42 1466.7 L6176.42 1466.7 L6140.01 1466.7 L6140.01 1466.7  Z\n",
       "  \" fill=\"#ff0000\" fill-rule=\"evenodd\" fill-opacity=\"1\"/>\n",
       "<polyline clip-path=\"url(#clip094)\" style=\"stroke:#000000; stroke-linecap:butt; stroke-linejoin:round; stroke-width:4; stroke-opacity:1; fill:none\" points=\"\n",
       "  6140.01,1466.7 6140.01,1466.7 6176.42,1466.7 6140.01,1466.7 \n",
       "  \"/>\n",
       "<path clip-path=\"url(#clip094)\" d=\"\n",
       "M6176.42 1466.7 L6176.42 1466.7 L6212.83 1466.7 L6212.83 1466.7 L6176.42 1466.7 L6176.42 1466.7  Z\n",
       "  \" fill=\"#ff0000\" fill-rule=\"evenodd\" fill-opacity=\"1\"/>\n",
       "<polyline clip-path=\"url(#clip094)\" style=\"stroke:#000000; stroke-linecap:butt; stroke-linejoin:round; stroke-width:4; stroke-opacity:1; fill:none\" points=\"\n",
       "  6176.42,1466.7 6176.42,1466.7 6212.83,1466.7 6176.42,1466.7 \n",
       "  \"/>\n",
       "<path clip-path=\"url(#clip094)\" d=\"\n",
       "M6212.83 1237.02 L6212.83 1466.7 L6249.24 1466.7 L6249.24 1237.02 L6212.83 1237.02 L6212.83 1237.02  Z\n",
       "  \" fill=\"#ff0000\" fill-rule=\"evenodd\" fill-opacity=\"1\"/>\n",
       "<polyline clip-path=\"url(#clip094)\" style=\"stroke:#000000; stroke-linecap:butt; stroke-linejoin:round; stroke-width:4; stroke-opacity:1; fill:none\" points=\"\n",
       "  6212.83,1237.02 6212.83,1466.7 6249.24,1466.7 6249.24,1237.02 6212.83,1237.02 \n",
       "  \"/>\n",
       "<circle clip-path=\"url(#clip094)\" style=\"fill:#009af9; stroke:none; fill-opacity:0\" cx=\"5102.28\" cy=\"1007.33\" r=\"2\"/>\n",
       "<circle clip-path=\"url(#clip094)\" style=\"fill:#009af9; stroke:none; fill-opacity:0\" cx=\"5138.69\" cy=\"1237.02\" r=\"2\"/>\n",
       "<circle clip-path=\"url(#clip094)\" style=\"fill:#009af9; stroke:none; fill-opacity:0\" cx=\"5175.1\" cy=\"1466.7\" r=\"2\"/>\n",
       "<circle clip-path=\"url(#clip094)\" style=\"fill:#009af9; stroke:none; fill-opacity:0\" cx=\"5211.51\" cy=\"1466.7\" r=\"2\"/>\n",
       "<circle clip-path=\"url(#clip094)\" style=\"fill:#009af9; stroke:none; fill-opacity:0\" cx=\"5247.92\" cy=\"1466.7\" r=\"2\"/>\n",
       "<circle clip-path=\"url(#clip094)\" style=\"fill:#009af9; stroke:none; fill-opacity:0\" cx=\"5284.33\" cy=\"1466.7\" r=\"2\"/>\n",
       "<circle clip-path=\"url(#clip094)\" style=\"fill:#009af9; stroke:none; fill-opacity:0\" cx=\"5320.75\" cy=\"1466.7\" r=\"2\"/>\n",
       "<circle clip-path=\"url(#clip094)\" style=\"fill:#009af9; stroke:none; fill-opacity:0\" cx=\"5357.16\" cy=\"1466.7\" r=\"2\"/>\n",
       "<circle clip-path=\"url(#clip094)\" style=\"fill:#009af9; stroke:none; fill-opacity:0\" cx=\"5393.57\" cy=\"1466.7\" r=\"2\"/>\n",
       "<circle clip-path=\"url(#clip094)\" style=\"fill:#009af9; stroke:none; fill-opacity:0\" cx=\"5429.98\" cy=\"1466.7\" r=\"2\"/>\n",
       "<circle clip-path=\"url(#clip094)\" style=\"fill:#009af9; stroke:none; fill-opacity:0\" cx=\"5466.39\" cy=\"1466.7\" r=\"2\"/>\n",
       "<circle clip-path=\"url(#clip094)\" style=\"fill:#009af9; stroke:none; fill-opacity:0\" cx=\"5502.81\" cy=\"1466.7\" r=\"2\"/>\n",
       "<circle clip-path=\"url(#clip094)\" style=\"fill:#009af9; stroke:none; fill-opacity:0\" cx=\"5539.22\" cy=\"1007.33\" r=\"2\"/>\n",
       "<circle clip-path=\"url(#clip094)\" style=\"fill:#009af9; stroke:none; fill-opacity:0\" cx=\"5575.63\" cy=\"777.646\" r=\"2\"/>\n",
       "<circle clip-path=\"url(#clip094)\" style=\"fill:#009af9; stroke:none; fill-opacity:0\" cx=\"5612.04\" cy=\"777.646\" r=\"2\"/>\n",
       "<circle clip-path=\"url(#clip094)\" style=\"fill:#009af9; stroke:none; fill-opacity:0\" cx=\"5648.45\" cy=\"1237.02\" r=\"2\"/>\n",
       "<circle clip-path=\"url(#clip094)\" style=\"fill:#009af9; stroke:none; fill-opacity:0\" cx=\"5684.86\" cy=\"777.646\" r=\"2\"/>\n",
       "<circle clip-path=\"url(#clip094)\" style=\"fill:#009af9; stroke:none; fill-opacity:0\" cx=\"5721.28\" cy=\"1466.7\" r=\"2\"/>\n",
       "<circle clip-path=\"url(#clip094)\" style=\"fill:#009af9; stroke:none; fill-opacity:0\" cx=\"5757.69\" cy=\"1466.7\" r=\"2\"/>\n",
       "<circle clip-path=\"url(#clip094)\" style=\"fill:#009af9; stroke:none; fill-opacity:0\" cx=\"5794.1\" cy=\"1466.7\" r=\"2\"/>\n",
       "<circle clip-path=\"url(#clip094)\" style=\"fill:#009af9; stroke:none; fill-opacity:0\" cx=\"5830.51\" cy=\"1237.02\" r=\"2\"/>\n",
       "<circle clip-path=\"url(#clip094)\" style=\"fill:#009af9; stroke:none; fill-opacity:0\" cx=\"5866.92\" cy=\"1466.7\" r=\"2\"/>\n",
       "<circle clip-path=\"url(#clip094)\" style=\"fill:#009af9; stroke:none; fill-opacity:0\" cx=\"5903.33\" cy=\"1237.02\" r=\"2\"/>\n",
       "<circle clip-path=\"url(#clip094)\" style=\"fill:#009af9; stroke:none; fill-opacity:0\" cx=\"5939.75\" cy=\"1466.7\" r=\"2\"/>\n",
       "<circle clip-path=\"url(#clip094)\" style=\"fill:#009af9; stroke:none; fill-opacity:0\" cx=\"5976.16\" cy=\"1466.7\" r=\"2\"/>\n",
       "<circle clip-path=\"url(#clip094)\" style=\"fill:#009af9; stroke:none; fill-opacity:0\" cx=\"6012.57\" cy=\"1466.7\" r=\"2\"/>\n",
       "<circle clip-path=\"url(#clip094)\" style=\"fill:#009af9; stroke:none; fill-opacity:0\" cx=\"6048.98\" cy=\"1466.7\" r=\"2\"/>\n",
       "<circle clip-path=\"url(#clip094)\" style=\"fill:#009af9; stroke:none; fill-opacity:0\" cx=\"6085.39\" cy=\"1466.7\" r=\"2\"/>\n",
       "<circle clip-path=\"url(#clip094)\" style=\"fill:#009af9; stroke:none; fill-opacity:0\" cx=\"6121.8\" cy=\"1466.7\" r=\"2\"/>\n",
       "<circle clip-path=\"url(#clip094)\" style=\"fill:#009af9; stroke:none; fill-opacity:0\" cx=\"6158.22\" cy=\"1466.7\" r=\"2\"/>\n",
       "<circle clip-path=\"url(#clip094)\" style=\"fill:#009af9; stroke:none; fill-opacity:0\" cx=\"6194.63\" cy=\"1466.7\" r=\"2\"/>\n",
       "<circle clip-path=\"url(#clip094)\" style=\"fill:#009af9; stroke:none; fill-opacity:0\" cx=\"6231.04\" cy=\"1237.02\" r=\"2\"/>\n",
       "<path clip-path=\"url(#clip094)\" d=\"\n",
       "M4574.31 1237.02 L4574.31 1466.7 L4610.72 1466.7 L4610.72 1237.02 L4574.31 1237.02 L4574.31 1237.02  Z\n",
       "  \" fill=\"#0000ff\" fill-rule=\"evenodd\" fill-opacity=\"1\"/>\n",
       "<polyline clip-path=\"url(#clip094)\" style=\"stroke:#000000; stroke-linecap:butt; stroke-linejoin:round; stroke-width:4; stroke-opacity:1; fill:none\" points=\"\n",
       "  4574.31,1237.02 4574.31,1466.7 4610.72,1466.7 4610.72,1237.02 4574.31,1237.02 \n",
       "  \"/>\n",
       "<path clip-path=\"url(#clip094)\" d=\"\n",
       "M4610.72 1007.33 L4610.72 1466.7 L4647.13 1466.7 L4647.13 1007.33 L4610.72 1007.33 L4610.72 1007.33  Z\n",
       "  \" fill=\"#0000ff\" fill-rule=\"evenodd\" fill-opacity=\"1\"/>\n",
       "<polyline clip-path=\"url(#clip094)\" style=\"stroke:#000000; stroke-linecap:butt; stroke-linejoin:round; stroke-width:4; stroke-opacity:1; fill:none\" points=\"\n",
       "  4610.72,1007.33 4610.72,1466.7 4647.13,1466.7 4647.13,1007.33 4610.72,1007.33 \n",
       "  \"/>\n",
       "<path clip-path=\"url(#clip094)\" d=\"\n",
       "M4647.13 88.5876 L4647.13 1466.7 L4683.54 1466.7 L4683.54 88.5876 L4647.13 88.5876 L4647.13 88.5876  Z\n",
       "  \" fill=\"#0000ff\" fill-rule=\"evenodd\" fill-opacity=\"1\"/>\n",
       "<polyline clip-path=\"url(#clip094)\" style=\"stroke:#000000; stroke-linecap:butt; stroke-linejoin:round; stroke-width:4; stroke-opacity:1; fill:none\" points=\"\n",
       "  4647.13,88.5876 4647.13,1466.7 4683.54,1466.7 4683.54,88.5876 4647.13,88.5876 \n",
       "  \"/>\n",
       "<path clip-path=\"url(#clip094)\" d=\"\n",
       "M4683.54 1466.7 L4683.54 1466.7 L4719.95 1466.7 L4719.95 1466.7 L4683.54 1466.7 L4683.54 1466.7  Z\n",
       "  \" fill=\"#0000ff\" fill-rule=\"evenodd\" fill-opacity=\"1\"/>\n",
       "<polyline clip-path=\"url(#clip094)\" style=\"stroke:#000000; stroke-linecap:butt; stroke-linejoin:round; stroke-width:4; stroke-opacity:1; fill:none\" points=\"\n",
       "  4683.54,1466.7 4683.54,1466.7 4719.95,1466.7 4683.54,1466.7 \n",
       "  \"/>\n",
       "<path clip-path=\"url(#clip094)\" d=\"\n",
       "M4719.95 1466.7 L4719.95 1466.7 L4756.37 1466.7 L4756.37 1466.7 L4719.95 1466.7 L4719.95 1466.7  Z\n",
       "  \" fill=\"#0000ff\" fill-rule=\"evenodd\" fill-opacity=\"1\"/>\n",
       "<polyline clip-path=\"url(#clip094)\" style=\"stroke:#000000; stroke-linecap:butt; stroke-linejoin:round; stroke-width:4; stroke-opacity:1; fill:none\" points=\"\n",
       "  4719.95,1466.7 4719.95,1466.7 4756.37,1466.7 4719.95,1466.7 \n",
       "  \"/>\n",
       "<path clip-path=\"url(#clip094)\" d=\"\n",
       "M4756.37 1466.7 L4756.37 1466.7 L4792.78 1466.7 L4792.78 1466.7 L4756.37 1466.7 L4756.37 1466.7  Z\n",
       "  \" fill=\"#0000ff\" fill-rule=\"evenodd\" fill-opacity=\"1\"/>\n",
       "<polyline clip-path=\"url(#clip094)\" style=\"stroke:#000000; stroke-linecap:butt; stroke-linejoin:round; stroke-width:4; stroke-opacity:1; fill:none\" points=\"\n",
       "  4756.37,1466.7 4756.37,1466.7 4792.78,1466.7 4756.37,1466.7 \n",
       "  \"/>\n",
       "<path clip-path=\"url(#clip094)\" d=\"\n",
       "M4792.78 1466.7 L4792.78 1466.7 L4829.19 1466.7 L4829.19 1466.7 L4792.78 1466.7 L4792.78 1466.7  Z\n",
       "  \" fill=\"#0000ff\" fill-rule=\"evenodd\" fill-opacity=\"1\"/>\n",
       "<polyline clip-path=\"url(#clip094)\" style=\"stroke:#000000; stroke-linecap:butt; stroke-linejoin:round; stroke-width:4; stroke-opacity:1; fill:none\" points=\"\n",
       "  4792.78,1466.7 4792.78,1466.7 4829.19,1466.7 4792.78,1466.7 \n",
       "  \"/>\n",
       "<path clip-path=\"url(#clip094)\" d=\"\n",
       "M4829.19 1466.7 L4829.19 1466.7 L4865.6 1466.7 L4865.6 1466.7 L4829.19 1466.7 L4829.19 1466.7  Z\n",
       "  \" fill=\"#0000ff\" fill-rule=\"evenodd\" fill-opacity=\"1\"/>\n",
       "<polyline clip-path=\"url(#clip094)\" style=\"stroke:#000000; stroke-linecap:butt; stroke-linejoin:round; stroke-width:4; stroke-opacity:1; fill:none\" points=\"\n",
       "  4829.19,1466.7 4829.19,1466.7 4865.6,1466.7 4829.19,1466.7 \n",
       "  \"/>\n",
       "<path clip-path=\"url(#clip094)\" d=\"\n",
       "M4865.6 1466.7 L4865.6 1466.7 L4902.01 1466.7 L4902.01 1466.7 L4865.6 1466.7 L4865.6 1466.7  Z\n",
       "  \" fill=\"#0000ff\" fill-rule=\"evenodd\" fill-opacity=\"1\"/>\n",
       "<polyline clip-path=\"url(#clip094)\" style=\"stroke:#000000; stroke-linecap:butt; stroke-linejoin:round; stroke-width:4; stroke-opacity:1; fill:none\" points=\"\n",
       "  4865.6,1466.7 4865.6,1466.7 4902.01,1466.7 4865.6,1466.7 \n",
       "  \"/>\n",
       "<path clip-path=\"url(#clip094)\" d=\"\n",
       "M4902.01 1466.7 L4902.01 1466.7 L4938.42 1466.7 L4938.42 1466.7 L4902.01 1466.7 L4902.01 1466.7  Z\n",
       "  \" fill=\"#0000ff\" fill-rule=\"evenodd\" fill-opacity=\"1\"/>\n",
       "<polyline clip-path=\"url(#clip094)\" style=\"stroke:#000000; stroke-linecap:butt; stroke-linejoin:round; stroke-width:4; stroke-opacity:1; fill:none\" points=\"\n",
       "  4902.01,1466.7 4902.01,1466.7 4938.42,1466.7 4902.01,1466.7 \n",
       "  \"/>\n",
       "<path clip-path=\"url(#clip094)\" d=\"\n",
       "M4938.42 1466.7 L4938.42 1466.7 L4974.84 1466.7 L4974.84 1466.7 L4938.42 1466.7 L4938.42 1466.7  Z\n",
       "  \" fill=\"#0000ff\" fill-rule=\"evenodd\" fill-opacity=\"1\"/>\n",
       "<polyline clip-path=\"url(#clip094)\" style=\"stroke:#000000; stroke-linecap:butt; stroke-linejoin:round; stroke-width:4; stroke-opacity:1; fill:none\" points=\"\n",
       "  4938.42,1466.7 4938.42,1466.7 4974.84,1466.7 4938.42,1466.7 \n",
       "  \"/>\n",
       "<path clip-path=\"url(#clip094)\" d=\"\n",
       "M4974.84 1466.7 L4974.84 1466.7 L5011.25 1466.7 L5011.25 1466.7 L4974.84 1466.7 L4974.84 1466.7  Z\n",
       "  \" fill=\"#0000ff\" fill-rule=\"evenodd\" fill-opacity=\"1\"/>\n",
       "<polyline clip-path=\"url(#clip094)\" style=\"stroke:#000000; stroke-linecap:butt; stroke-linejoin:round; stroke-width:4; stroke-opacity:1; fill:none\" points=\"\n",
       "  4974.84,1466.7 4974.84,1466.7 5011.25,1466.7 4974.84,1466.7 \n",
       "  \"/>\n",
       "<path clip-path=\"url(#clip094)\" d=\"\n",
       "M5011.25 1466.7 L5011.25 1466.7 L5047.66 1466.7 L5047.66 1466.7 L5011.25 1466.7 L5011.25 1466.7  Z\n",
       "  \" fill=\"#0000ff\" fill-rule=\"evenodd\" fill-opacity=\"1\"/>\n",
       "<polyline clip-path=\"url(#clip094)\" style=\"stroke:#000000; stroke-linecap:butt; stroke-linejoin:round; stroke-width:4; stroke-opacity:1; fill:none\" points=\"\n",
       "  5011.25,1466.7 5011.25,1466.7 5047.66,1466.7 5011.25,1466.7 \n",
       "  \"/>\n",
       "<path clip-path=\"url(#clip094)\" d=\"\n",
       "M5047.66 1466.7 L5047.66 1466.7 L5084.07 1466.7 L5084.07 1466.7 L5047.66 1466.7 L5047.66 1466.7  Z\n",
       "  \" fill=\"#0000ff\" fill-rule=\"evenodd\" fill-opacity=\"1\"/>\n",
       "<polyline clip-path=\"url(#clip094)\" style=\"stroke:#000000; stroke-linecap:butt; stroke-linejoin:round; stroke-width:4; stroke-opacity:1; fill:none\" points=\"\n",
       "  5047.66,1466.7 5047.66,1466.7 5084.07,1466.7 5047.66,1466.7 \n",
       "  \"/>\n",
       "<path clip-path=\"url(#clip094)\" d=\"\n",
       "M5084.07 1466.7 L5084.07 1466.7 L5120.48 1466.7 L5120.48 1466.7 L5084.07 1466.7 L5084.07 1466.7  Z\n",
       "  \" fill=\"#0000ff\" fill-rule=\"evenodd\" fill-opacity=\"1\"/>\n",
       "<polyline clip-path=\"url(#clip094)\" style=\"stroke:#000000; stroke-linecap:butt; stroke-linejoin:round; stroke-width:4; stroke-opacity:1; fill:none\" points=\"\n",
       "  5084.07,1466.7 5084.07,1466.7 5120.48,1466.7 5084.07,1466.7 \n",
       "  \"/>\n",
       "<path clip-path=\"url(#clip094)\" d=\"\n",
       "M5120.48 1466.7 L5120.48 1466.7 L5156.89 1466.7 L5156.89 1466.7 L5120.48 1466.7 L5120.48 1466.7  Z\n",
       "  \" fill=\"#0000ff\" fill-rule=\"evenodd\" fill-opacity=\"1\"/>\n",
       "<polyline clip-path=\"url(#clip094)\" style=\"stroke:#000000; stroke-linecap:butt; stroke-linejoin:round; stroke-width:4; stroke-opacity:1; fill:none\" points=\"\n",
       "  5120.48,1466.7 5120.48,1466.7 5156.89,1466.7 5120.48,1466.7 \n",
       "  \"/>\n",
       "<path clip-path=\"url(#clip094)\" d=\"\n",
       "M5156.89 1466.7 L5156.89 1466.7 L5193.31 1466.7 L5193.31 1466.7 L5156.89 1466.7 L5156.89 1466.7  Z\n",
       "  \" fill=\"#0000ff\" fill-rule=\"evenodd\" fill-opacity=\"1\"/>\n",
       "<polyline clip-path=\"url(#clip094)\" style=\"stroke:#000000; stroke-linecap:butt; stroke-linejoin:round; stroke-width:4; stroke-opacity:1; fill:none\" points=\"\n",
       "  5156.89,1466.7 5156.89,1466.7 5193.31,1466.7 5156.89,1466.7 \n",
       "  \"/>\n",
       "<path clip-path=\"url(#clip094)\" d=\"\n",
       "M5193.31 1466.7 L5193.31 1466.7 L5229.72 1466.7 L5229.72 1466.7 L5193.31 1466.7 L5193.31 1466.7  Z\n",
       "  \" fill=\"#0000ff\" fill-rule=\"evenodd\" fill-opacity=\"1\"/>\n",
       "<polyline clip-path=\"url(#clip094)\" style=\"stroke:#000000; stroke-linecap:butt; stroke-linejoin:round; stroke-width:4; stroke-opacity:1; fill:none\" points=\"\n",
       "  5193.31,1466.7 5193.31,1466.7 5229.72,1466.7 5193.31,1466.7 \n",
       "  \"/>\n",
       "<path clip-path=\"url(#clip094)\" d=\"\n",
       "M5229.72 1466.7 L5229.72 1466.7 L5266.13 1466.7 L5266.13 1466.7 L5229.72 1466.7 L5229.72 1466.7  Z\n",
       "  \" fill=\"#0000ff\" fill-rule=\"evenodd\" fill-opacity=\"1\"/>\n",
       "<polyline clip-path=\"url(#clip094)\" style=\"stroke:#000000; stroke-linecap:butt; stroke-linejoin:round; stroke-width:4; stroke-opacity:1; fill:none\" points=\"\n",
       "  5229.72,1466.7 5229.72,1466.7 5266.13,1466.7 5229.72,1466.7 \n",
       "  \"/>\n",
       "<path clip-path=\"url(#clip094)\" d=\"\n",
       "M5266.13 1466.7 L5266.13 1466.7 L5302.54 1466.7 L5302.54 1466.7 L5266.13 1466.7 L5266.13 1466.7  Z\n",
       "  \" fill=\"#0000ff\" fill-rule=\"evenodd\" fill-opacity=\"1\"/>\n",
       "<polyline clip-path=\"url(#clip094)\" style=\"stroke:#000000; stroke-linecap:butt; stroke-linejoin:round; stroke-width:4; stroke-opacity:1; fill:none\" points=\"\n",
       "  5266.13,1466.7 5266.13,1466.7 5302.54,1466.7 5266.13,1466.7 \n",
       "  \"/>\n",
       "<path clip-path=\"url(#clip094)\" d=\"\n",
       "M5302.54 1466.7 L5302.54 1466.7 L5338.95 1466.7 L5338.95 1466.7 L5302.54 1466.7 L5302.54 1466.7  Z\n",
       "  \" fill=\"#0000ff\" fill-rule=\"evenodd\" fill-opacity=\"1\"/>\n",
       "<polyline clip-path=\"url(#clip094)\" style=\"stroke:#000000; stroke-linecap:butt; stroke-linejoin:round; stroke-width:4; stroke-opacity:1; fill:none\" points=\"\n",
       "  5302.54,1466.7 5302.54,1466.7 5338.95,1466.7 5302.54,1466.7 \n",
       "  \"/>\n",
       "<path clip-path=\"url(#clip094)\" d=\"\n",
       "M5338.95 1466.7 L5338.95 1466.7 L5375.36 1466.7 L5375.36 1466.7 L5338.95 1466.7 L5338.95 1466.7  Z\n",
       "  \" fill=\"#0000ff\" fill-rule=\"evenodd\" fill-opacity=\"1\"/>\n",
       "<polyline clip-path=\"url(#clip094)\" style=\"stroke:#000000; stroke-linecap:butt; stroke-linejoin:round; stroke-width:4; stroke-opacity:1; fill:none\" points=\"\n",
       "  5338.95,1466.7 5338.95,1466.7 5375.36,1466.7 5338.95,1466.7 \n",
       "  \"/>\n",
       "<path clip-path=\"url(#clip094)\" d=\"\n",
       "M5375.36 1466.7 L5375.36 1466.7 L5411.78 1466.7 L5411.78 1466.7 L5375.36 1466.7 L5375.36 1466.7  Z\n",
       "  \" fill=\"#0000ff\" fill-rule=\"evenodd\" fill-opacity=\"1\"/>\n",
       "<polyline clip-path=\"url(#clip094)\" style=\"stroke:#000000; stroke-linecap:butt; stroke-linejoin:round; stroke-width:4; stroke-opacity:1; fill:none\" points=\"\n",
       "  5375.36,1466.7 5375.36,1466.7 5411.78,1466.7 5375.36,1466.7 \n",
       "  \"/>\n",
       "<path clip-path=\"url(#clip094)\" d=\"\n",
       "M5411.78 1237.02 L5411.78 1466.7 L5448.19 1466.7 L5448.19 1237.02 L5411.78 1237.02 L5411.78 1237.02  Z\n",
       "  \" fill=\"#0000ff\" fill-rule=\"evenodd\" fill-opacity=\"1\"/>\n",
       "<polyline clip-path=\"url(#clip094)\" style=\"stroke:#000000; stroke-linecap:butt; stroke-linejoin:round; stroke-width:4; stroke-opacity:1; fill:none\" points=\"\n",
       "  5411.78,1237.02 5411.78,1466.7 5448.19,1466.7 5448.19,1237.02 5411.78,1237.02 \n",
       "  \"/>\n",
       "<path clip-path=\"url(#clip094)\" d=\"\n",
       "M5448.19 1237.02 L5448.19 1466.7 L5484.6 1466.7 L5484.6 1237.02 L5448.19 1237.02 L5448.19 1237.02  Z\n",
       "  \" fill=\"#0000ff\" fill-rule=\"evenodd\" fill-opacity=\"1\"/>\n",
       "<polyline clip-path=\"url(#clip094)\" style=\"stroke:#000000; stroke-linecap:butt; stroke-linejoin:round; stroke-width:4; stroke-opacity:1; fill:none\" points=\"\n",
       "  5448.19,1237.02 5448.19,1466.7 5484.6,1466.7 5484.6,1237.02 5448.19,1237.02 \n",
       "  \"/>\n",
       "<path clip-path=\"url(#clip094)\" d=\"\n",
       "M5484.6 1237.02 L5484.6 1466.7 L5521.01 1466.7 L5521.01 1237.02 L5484.6 1237.02 L5484.6 1237.02  Z\n",
       "  \" fill=\"#0000ff\" fill-rule=\"evenodd\" fill-opacity=\"1\"/>\n",
       "<polyline clip-path=\"url(#clip094)\" style=\"stroke:#000000; stroke-linecap:butt; stroke-linejoin:round; stroke-width:4; stroke-opacity:1; fill:none\" points=\"\n",
       "  5484.6,1237.02 5484.6,1466.7 5521.01,1466.7 5521.01,1237.02 5484.6,1237.02 \n",
       "  \"/>\n",
       "<path clip-path=\"url(#clip094)\" d=\"\n",
       "M5521.01 1007.33 L5521.01 1466.7 L5557.42 1466.7 L5557.42 1007.33 L5521.01 1007.33 L5521.01 1007.33  Z\n",
       "  \" fill=\"#0000ff\" fill-rule=\"evenodd\" fill-opacity=\"1\"/>\n",
       "<polyline clip-path=\"url(#clip094)\" style=\"stroke:#000000; stroke-linecap:butt; stroke-linejoin:round; stroke-width:4; stroke-opacity:1; fill:none\" points=\"\n",
       "  5521.01,1007.33 5521.01,1466.7 5557.42,1466.7 5557.42,1007.33 5521.01,1007.33 \n",
       "  \"/>\n",
       "<path clip-path=\"url(#clip094)\" d=\"\n",
       "M5557.42 1007.33 L5557.42 1466.7 L5593.83 1466.7 L5593.83 1007.33 L5557.42 1007.33 L5557.42 1007.33  Z\n",
       "  \" fill=\"#0000ff\" fill-rule=\"evenodd\" fill-opacity=\"1\"/>\n",
       "<polyline clip-path=\"url(#clip094)\" style=\"stroke:#000000; stroke-linecap:butt; stroke-linejoin:round; stroke-width:4; stroke-opacity:1; fill:none\" points=\"\n",
       "  5557.42,1007.33 5557.42,1466.7 5593.83,1466.7 5593.83,1007.33 5557.42,1007.33 \n",
       "  \"/>\n",
       "<path clip-path=\"url(#clip094)\" d=\"\n",
       "M5593.83 547.96 L5593.83 1466.7 L5630.25 1466.7 L5630.25 547.96 L5593.83 547.96 L5593.83 547.96  Z\n",
       "  \" fill=\"#0000ff\" fill-rule=\"evenodd\" fill-opacity=\"1\"/>\n",
       "<polyline clip-path=\"url(#clip094)\" style=\"stroke:#000000; stroke-linecap:butt; stroke-linejoin:round; stroke-width:4; stroke-opacity:1; fill:none\" points=\"\n",
       "  5593.83,547.96 5593.83,1466.7 5630.25,1466.7 5630.25,547.96 5593.83,547.96 \n",
       "  \"/>\n",
       "<path clip-path=\"url(#clip094)\" d=\"\n",
       "M5630.25 1237.02 L5630.25 1466.7 L5666.66 1466.7 L5666.66 1237.02 L5630.25 1237.02 L5630.25 1237.02  Z\n",
       "  \" fill=\"#0000ff\" fill-rule=\"evenodd\" fill-opacity=\"1\"/>\n",
       "<polyline clip-path=\"url(#clip094)\" style=\"stroke:#000000; stroke-linecap:butt; stroke-linejoin:round; stroke-width:4; stroke-opacity:1; fill:none\" points=\"\n",
       "  5630.25,1237.02 5630.25,1466.7 5666.66,1466.7 5666.66,1237.02 5630.25,1237.02 \n",
       "  \"/>\n",
       "<path clip-path=\"url(#clip094)\" d=\"\n",
       "M5666.66 1466.7 L5666.66 1466.7 L5703.07 1466.7 L5703.07 1466.7 L5666.66 1466.7 L5666.66 1466.7  Z\n",
       "  \" fill=\"#0000ff\" fill-rule=\"evenodd\" fill-opacity=\"1\"/>\n",
       "<polyline clip-path=\"url(#clip094)\" style=\"stroke:#000000; stroke-linecap:butt; stroke-linejoin:round; stroke-width:4; stroke-opacity:1; fill:none\" points=\"\n",
       "  5666.66,1466.7 5666.66,1466.7 5703.07,1466.7 5666.66,1466.7 \n",
       "  \"/>\n",
       "<path clip-path=\"url(#clip094)\" d=\"\n",
       "M5703.07 1466.7 L5703.07 1466.7 L5739.48 1466.7 L5739.48 1466.7 L5703.07 1466.7 L5703.07 1466.7  Z\n",
       "  \" fill=\"#0000ff\" fill-rule=\"evenodd\" fill-opacity=\"1\"/>\n",
       "<polyline clip-path=\"url(#clip094)\" style=\"stroke:#000000; stroke-linecap:butt; stroke-linejoin:round; stroke-width:4; stroke-opacity:1; fill:none\" points=\"\n",
       "  5703.07,1466.7 5703.07,1466.7 5739.48,1466.7 5703.07,1466.7 \n",
       "  \"/>\n",
       "<path clip-path=\"url(#clip094)\" d=\"\n",
       "M5739.48 1466.7 L5739.48 1466.7 L5775.89 1466.7 L5775.89 1466.7 L5739.48 1466.7 L5739.48 1466.7  Z\n",
       "  \" fill=\"#0000ff\" fill-rule=\"evenodd\" fill-opacity=\"1\"/>\n",
       "<polyline clip-path=\"url(#clip094)\" style=\"stroke:#000000; stroke-linecap:butt; stroke-linejoin:round; stroke-width:4; stroke-opacity:1; fill:none\" points=\"\n",
       "  5739.48,1466.7 5739.48,1466.7 5775.89,1466.7 5739.48,1466.7 \n",
       "  \"/>\n",
       "<path clip-path=\"url(#clip094)\" d=\"\n",
       "M5775.89 1466.7 L5775.89 1466.7 L5812.3 1466.7 L5812.3 1466.7 L5775.89 1466.7 L5775.89 1466.7  Z\n",
       "  \" fill=\"#0000ff\" fill-rule=\"evenodd\" fill-opacity=\"1\"/>\n",
       "<polyline clip-path=\"url(#clip094)\" style=\"stroke:#000000; stroke-linecap:butt; stroke-linejoin:round; stroke-width:4; stroke-opacity:1; fill:none\" points=\"\n",
       "  5775.89,1466.7 5775.89,1466.7 5812.3,1466.7 5775.89,1466.7 \n",
       "  \"/>\n",
       "<path clip-path=\"url(#clip094)\" d=\"\n",
       "M5812.3 1466.7 L5812.3 1466.7 L5848.72 1466.7 L5848.72 1466.7 L5812.3 1466.7 L5812.3 1466.7  Z\n",
       "  \" fill=\"#0000ff\" fill-rule=\"evenodd\" fill-opacity=\"1\"/>\n",
       "<polyline clip-path=\"url(#clip094)\" style=\"stroke:#000000; stroke-linecap:butt; stroke-linejoin:round; stroke-width:4; stroke-opacity:1; fill:none\" points=\"\n",
       "  5812.3,1466.7 5812.3,1466.7 5848.72,1466.7 5812.3,1466.7 \n",
       "  \"/>\n",
       "<path clip-path=\"url(#clip094)\" d=\"\n",
       "M5848.72 1466.7 L5848.72 1466.7 L5885.13 1466.7 L5885.13 1466.7 L5848.72 1466.7 L5848.72 1466.7  Z\n",
       "  \" fill=\"#0000ff\" fill-rule=\"evenodd\" fill-opacity=\"1\"/>\n",
       "<polyline clip-path=\"url(#clip094)\" style=\"stroke:#000000; stroke-linecap:butt; stroke-linejoin:round; stroke-width:4; stroke-opacity:1; fill:none\" points=\"\n",
       "  5848.72,1466.7 5848.72,1466.7 5885.13,1466.7 5848.72,1466.7 \n",
       "  \"/>\n",
       "<path clip-path=\"url(#clip094)\" d=\"\n",
       "M5885.13 1466.7 L5885.13 1466.7 L5921.54 1466.7 L5921.54 1466.7 L5885.13 1466.7 L5885.13 1466.7  Z\n",
       "  \" fill=\"#0000ff\" fill-rule=\"evenodd\" fill-opacity=\"1\"/>\n",
       "<polyline clip-path=\"url(#clip094)\" style=\"stroke:#000000; stroke-linecap:butt; stroke-linejoin:round; stroke-width:4; stroke-opacity:1; fill:none\" points=\"\n",
       "  5885.13,1466.7 5885.13,1466.7 5921.54,1466.7 5885.13,1466.7 \n",
       "  \"/>\n",
       "<path clip-path=\"url(#clip094)\" d=\"\n",
       "M5921.54 1466.7 L5921.54 1466.7 L5957.95 1466.7 L5957.95 1466.7 L5921.54 1466.7 L5921.54 1466.7  Z\n",
       "  \" fill=\"#0000ff\" fill-rule=\"evenodd\" fill-opacity=\"1\"/>\n",
       "<polyline clip-path=\"url(#clip094)\" style=\"stroke:#000000; stroke-linecap:butt; stroke-linejoin:round; stroke-width:4; stroke-opacity:1; fill:none\" points=\"\n",
       "  5921.54,1466.7 5921.54,1466.7 5957.95,1466.7 5921.54,1466.7 \n",
       "  \"/>\n",
       "<path clip-path=\"url(#clip094)\" d=\"\n",
       "M5957.95 1466.7 L5957.95 1466.7 L5994.36 1466.7 L5994.36 1466.7 L5957.95 1466.7 L5957.95 1466.7  Z\n",
       "  \" fill=\"#0000ff\" fill-rule=\"evenodd\" fill-opacity=\"1\"/>\n",
       "<polyline clip-path=\"url(#clip094)\" style=\"stroke:#000000; stroke-linecap:butt; stroke-linejoin:round; stroke-width:4; stroke-opacity:1; fill:none\" points=\"\n",
       "  5957.95,1466.7 5957.95,1466.7 5994.36,1466.7 5957.95,1466.7 \n",
       "  \"/>\n",
       "<path clip-path=\"url(#clip094)\" d=\"\n",
       "M5994.36 1237.02 L5994.36 1466.7 L6030.77 1466.7 L6030.77 1237.02 L5994.36 1237.02 L5994.36 1237.02  Z\n",
       "  \" fill=\"#0000ff\" fill-rule=\"evenodd\" fill-opacity=\"1\"/>\n",
       "<polyline clip-path=\"url(#clip094)\" style=\"stroke:#000000; stroke-linecap:butt; stroke-linejoin:round; stroke-width:4; stroke-opacity:1; fill:none\" points=\"\n",
       "  5994.36,1237.02 5994.36,1466.7 6030.77,1466.7 6030.77,1237.02 5994.36,1237.02 \n",
       "  \"/>\n",
       "<path clip-path=\"url(#clip094)\" d=\"\n",
       "M6030.77 1466.7 L6030.77 1466.7 L6067.19 1466.7 L6067.19 1466.7 L6030.77 1466.7 L6030.77 1466.7  Z\n",
       "  \" fill=\"#0000ff\" fill-rule=\"evenodd\" fill-opacity=\"1\"/>\n",
       "<polyline clip-path=\"url(#clip094)\" style=\"stroke:#000000; stroke-linecap:butt; stroke-linejoin:round; stroke-width:4; stroke-opacity:1; fill:none\" points=\"\n",
       "  6030.77,1466.7 6030.77,1466.7 6067.19,1466.7 6030.77,1466.7 \n",
       "  \"/>\n",
       "<path clip-path=\"url(#clip094)\" d=\"\n",
       "M6067.19 1237.02 L6067.19 1466.7 L6103.6 1466.7 L6103.6 1237.02 L6067.19 1237.02 L6067.19 1237.02  Z\n",
       "  \" fill=\"#0000ff\" fill-rule=\"evenodd\" fill-opacity=\"1\"/>\n",
       "<polyline clip-path=\"url(#clip094)\" style=\"stroke:#000000; stroke-linecap:butt; stroke-linejoin:round; stroke-width:4; stroke-opacity:1; fill:none\" points=\"\n",
       "  6067.19,1237.02 6067.19,1466.7 6103.6,1466.7 6103.6,1237.02 6067.19,1237.02 \n",
       "  \"/>\n",
       "<path clip-path=\"url(#clip094)\" d=\"\n",
       "M6103.6 1466.7 L6103.6 1466.7 L6140.01 1466.7 L6140.01 1466.7 L6103.6 1466.7 L6103.6 1466.7  Z\n",
       "  \" fill=\"#0000ff\" fill-rule=\"evenodd\" fill-opacity=\"1\"/>\n",
       "<polyline clip-path=\"url(#clip094)\" style=\"stroke:#000000; stroke-linecap:butt; stroke-linejoin:round; stroke-width:4; stroke-opacity:1; fill:none\" points=\"\n",
       "  6103.6,1466.7 6103.6,1466.7 6140.01,1466.7 6103.6,1466.7 \n",
       "  \"/>\n",
       "<path clip-path=\"url(#clip094)\" d=\"\n",
       "M6140.01 1466.7 L6140.01 1466.7 L6176.42 1466.7 L6176.42 1466.7 L6140.01 1466.7 L6140.01 1466.7  Z\n",
       "  \" fill=\"#0000ff\" fill-rule=\"evenodd\" fill-opacity=\"1\"/>\n",
       "<polyline clip-path=\"url(#clip094)\" style=\"stroke:#000000; stroke-linecap:butt; stroke-linejoin:round; stroke-width:4; stroke-opacity:1; fill:none\" points=\"\n",
       "  6140.01,1466.7 6140.01,1466.7 6176.42,1466.7 6140.01,1466.7 \n",
       "  \"/>\n",
       "<path clip-path=\"url(#clip094)\" d=\"\n",
       "M6176.42 1466.7 L6176.42 1466.7 L6212.83 1466.7 L6212.83 1466.7 L6176.42 1466.7 L6176.42 1466.7  Z\n",
       "  \" fill=\"#0000ff\" fill-rule=\"evenodd\" fill-opacity=\"1\"/>\n",
       "<polyline clip-path=\"url(#clip094)\" style=\"stroke:#000000; stroke-linecap:butt; stroke-linejoin:round; stroke-width:4; stroke-opacity:1; fill:none\" points=\"\n",
       "  6176.42,1466.7 6176.42,1466.7 6212.83,1466.7 6176.42,1466.7 \n",
       "  \"/>\n",
       "<path clip-path=\"url(#clip094)\" d=\"\n",
       "M6212.83 1237.02 L6212.83 1466.7 L6249.24 1466.7 L6249.24 1237.02 L6212.83 1237.02 L6212.83 1237.02  Z\n",
       "  \" fill=\"#0000ff\" fill-rule=\"evenodd\" fill-opacity=\"1\"/>\n",
       "<polyline clip-path=\"url(#clip094)\" style=\"stroke:#000000; stroke-linecap:butt; stroke-linejoin:round; stroke-width:4; stroke-opacity:1; fill:none\" points=\"\n",
       "  6212.83,1237.02 6212.83,1466.7 6249.24,1466.7 6249.24,1237.02 6212.83,1237.02 \n",
       "  \"/>\n",
       "<circle clip-path=\"url(#clip094)\" style=\"fill:#e26f46; stroke:none; fill-opacity:0\" cx=\"4592.51\" cy=\"1237.02\" r=\"2\"/>\n",
       "<circle clip-path=\"url(#clip094)\" style=\"fill:#e26f46; stroke:none; fill-opacity:0\" cx=\"4628.92\" cy=\"1007.33\" r=\"2\"/>\n",
       "<circle clip-path=\"url(#clip094)\" style=\"fill:#e26f46; stroke:none; fill-opacity:0\" cx=\"4665.34\" cy=\"88.5876\" r=\"2\"/>\n",
       "<circle clip-path=\"url(#clip094)\" style=\"fill:#e26f46; stroke:none; fill-opacity:0\" cx=\"4701.75\" cy=\"1466.7\" r=\"2\"/>\n",
       "<circle clip-path=\"url(#clip094)\" style=\"fill:#e26f46; stroke:none; fill-opacity:0\" cx=\"4738.16\" cy=\"1466.7\" r=\"2\"/>\n",
       "<circle clip-path=\"url(#clip094)\" style=\"fill:#e26f46; stroke:none; fill-opacity:0\" cx=\"4774.57\" cy=\"1466.7\" r=\"2\"/>\n",
       "<circle clip-path=\"url(#clip094)\" style=\"fill:#e26f46; stroke:none; fill-opacity:0\" cx=\"4810.98\" cy=\"1466.7\" r=\"2\"/>\n",
       "<circle clip-path=\"url(#clip094)\" style=\"fill:#e26f46; stroke:none; fill-opacity:0\" cx=\"4847.39\" cy=\"1466.7\" r=\"2\"/>\n",
       "<circle clip-path=\"url(#clip094)\" style=\"fill:#e26f46; stroke:none; fill-opacity:0\" cx=\"4883.81\" cy=\"1466.7\" r=\"2\"/>\n",
       "<circle clip-path=\"url(#clip094)\" style=\"fill:#e26f46; stroke:none; fill-opacity:0\" cx=\"4920.22\" cy=\"1466.7\" r=\"2\"/>\n",
       "<circle clip-path=\"url(#clip094)\" style=\"fill:#e26f46; stroke:none; fill-opacity:0\" cx=\"4956.63\" cy=\"1466.7\" r=\"2\"/>\n",
       "<circle clip-path=\"url(#clip094)\" style=\"fill:#e26f46; stroke:none; fill-opacity:0\" cx=\"4993.04\" cy=\"1466.7\" r=\"2\"/>\n",
       "<circle clip-path=\"url(#clip094)\" style=\"fill:#e26f46; stroke:none; fill-opacity:0\" cx=\"5029.45\" cy=\"1466.7\" r=\"2\"/>\n",
       "<circle clip-path=\"url(#clip094)\" style=\"fill:#e26f46; stroke:none; fill-opacity:0\" cx=\"5065.86\" cy=\"1466.7\" r=\"2\"/>\n",
       "<circle clip-path=\"url(#clip094)\" style=\"fill:#e26f46; stroke:none; fill-opacity:0\" cx=\"5102.28\" cy=\"1466.7\" r=\"2\"/>\n",
       "<circle clip-path=\"url(#clip094)\" style=\"fill:#e26f46; stroke:none; fill-opacity:0\" cx=\"5138.69\" cy=\"1466.7\" r=\"2\"/>\n",
       "<circle clip-path=\"url(#clip094)\" style=\"fill:#e26f46; stroke:none; fill-opacity:0\" cx=\"5175.1\" cy=\"1466.7\" r=\"2\"/>\n",
       "<circle clip-path=\"url(#clip094)\" style=\"fill:#e26f46; stroke:none; fill-opacity:0\" cx=\"5211.51\" cy=\"1466.7\" r=\"2\"/>\n",
       "<circle clip-path=\"url(#clip094)\" style=\"fill:#e26f46; stroke:none; fill-opacity:0\" cx=\"5247.92\" cy=\"1466.7\" r=\"2\"/>\n",
       "<circle clip-path=\"url(#clip094)\" style=\"fill:#e26f46; stroke:none; fill-opacity:0\" cx=\"5284.33\" cy=\"1466.7\" r=\"2\"/>\n",
       "<circle clip-path=\"url(#clip094)\" style=\"fill:#e26f46; stroke:none; fill-opacity:0\" cx=\"5320.75\" cy=\"1466.7\" r=\"2\"/>\n",
       "<circle clip-path=\"url(#clip094)\" style=\"fill:#e26f46; stroke:none; fill-opacity:0\" cx=\"5357.16\" cy=\"1466.7\" r=\"2\"/>\n",
       "<circle clip-path=\"url(#clip094)\" style=\"fill:#e26f46; stroke:none; fill-opacity:0\" cx=\"5393.57\" cy=\"1466.7\" r=\"2\"/>\n",
       "<circle clip-path=\"url(#clip094)\" style=\"fill:#e26f46; stroke:none; fill-opacity:0\" cx=\"5429.98\" cy=\"1237.02\" r=\"2\"/>\n",
       "<circle clip-path=\"url(#clip094)\" style=\"fill:#e26f46; stroke:none; fill-opacity:0\" cx=\"5466.39\" cy=\"1237.02\" r=\"2\"/>\n",
       "<circle clip-path=\"url(#clip094)\" style=\"fill:#e26f46; stroke:none; fill-opacity:0\" cx=\"5502.81\" cy=\"1237.02\" r=\"2\"/>\n",
       "<circle clip-path=\"url(#clip094)\" style=\"fill:#e26f46; stroke:none; fill-opacity:0\" cx=\"5539.22\" cy=\"1007.33\" r=\"2\"/>\n",
       "<circle clip-path=\"url(#clip094)\" style=\"fill:#e26f46; stroke:none; fill-opacity:0\" cx=\"5575.63\" cy=\"1007.33\" r=\"2\"/>\n",
       "<circle clip-path=\"url(#clip094)\" style=\"fill:#e26f46; stroke:none; fill-opacity:0\" cx=\"5612.04\" cy=\"547.96\" r=\"2\"/>\n",
       "<circle clip-path=\"url(#clip094)\" style=\"fill:#e26f46; stroke:none; fill-opacity:0\" cx=\"5648.45\" cy=\"1237.02\" r=\"2\"/>\n",
       "<circle clip-path=\"url(#clip094)\" style=\"fill:#e26f46; stroke:none; fill-opacity:0\" cx=\"5684.86\" cy=\"1466.7\" r=\"2\"/>\n",
       "<circle clip-path=\"url(#clip094)\" style=\"fill:#e26f46; stroke:none; fill-opacity:0\" cx=\"5721.28\" cy=\"1466.7\" r=\"2\"/>\n",
       "<circle clip-path=\"url(#clip094)\" style=\"fill:#e26f46; stroke:none; fill-opacity:0\" cx=\"5757.69\" cy=\"1466.7\" r=\"2\"/>\n",
       "<circle clip-path=\"url(#clip094)\" style=\"fill:#e26f46; stroke:none; fill-opacity:0\" cx=\"5794.1\" cy=\"1466.7\" r=\"2\"/>\n",
       "<circle clip-path=\"url(#clip094)\" style=\"fill:#e26f46; stroke:none; fill-opacity:0\" cx=\"5830.51\" cy=\"1466.7\" r=\"2\"/>\n",
       "<circle clip-path=\"url(#clip094)\" style=\"fill:#e26f46; stroke:none; fill-opacity:0\" cx=\"5866.92\" cy=\"1466.7\" r=\"2\"/>\n",
       "<circle clip-path=\"url(#clip094)\" style=\"fill:#e26f46; stroke:none; fill-opacity:0\" cx=\"5903.33\" cy=\"1466.7\" r=\"2\"/>\n",
       "<circle clip-path=\"url(#clip094)\" style=\"fill:#e26f46; stroke:none; fill-opacity:0\" cx=\"5939.75\" cy=\"1466.7\" r=\"2\"/>\n",
       "<circle clip-path=\"url(#clip094)\" style=\"fill:#e26f46; stroke:none; fill-opacity:0\" cx=\"5976.16\" cy=\"1466.7\" r=\"2\"/>\n",
       "<circle clip-path=\"url(#clip094)\" style=\"fill:#e26f46; stroke:none; fill-opacity:0\" cx=\"6012.57\" cy=\"1237.02\" r=\"2\"/>\n",
       "<circle clip-path=\"url(#clip094)\" style=\"fill:#e26f46; stroke:none; fill-opacity:0\" cx=\"6048.98\" cy=\"1466.7\" r=\"2\"/>\n",
       "<circle clip-path=\"url(#clip094)\" style=\"fill:#e26f46; stroke:none; fill-opacity:0\" cx=\"6085.39\" cy=\"1237.02\" r=\"2\"/>\n",
       "<circle clip-path=\"url(#clip094)\" style=\"fill:#e26f46; stroke:none; fill-opacity:0\" cx=\"6121.8\" cy=\"1466.7\" r=\"2\"/>\n",
       "<circle clip-path=\"url(#clip094)\" style=\"fill:#e26f46; stroke:none; fill-opacity:0\" cx=\"6158.22\" cy=\"1466.7\" r=\"2\"/>\n",
       "<circle clip-path=\"url(#clip094)\" style=\"fill:#e26f46; stroke:none; fill-opacity:0\" cx=\"6194.63\" cy=\"1466.7\" r=\"2\"/>\n",
       "<circle clip-path=\"url(#clip094)\" style=\"fill:#e26f46; stroke:none; fill-opacity:0\" cx=\"6231.04\" cy=\"1237.02\" r=\"2\"/>\n",
       "</svg>\n"
      ]
     },
     "execution_count": 23,
     "metadata": {},
     "output_type": "execute_result"
    }
   ],
   "source": [
    "params = Optim.minimizer(res_babble)\n",
    "cmap = colorsigned(color(\"blue\"), color(\"magenta\"), color(\"red\")) ∘ scalesigned(0, 0.5, 1.0)\n",
    "colors = cmap.(data_y)\n",
    "inferred_model = deepcopy(compile(model, params))\n",
    "trans_data_x_1 = hcat(map((x) -> forward(inferred_model, x), [data_x[k,:] for k=1:size(data_x,1)])...)'\n",
    "trans_data_x_2 = map((x) -> dot([1, 1], x), [trans_data_x_1[k,:] for k=1:size(data_x,1)])\n",
    "trans_data_x_2_split = [trans_data_x_2[data_y .== 1.0], trans_data_x_2[data_y .== 0.0]]\n",
    "plt1 = scatter(data_x[:,1], data_x[:,2], color=colors)\n",
    "plt2 = scatter(trans_data_x_1[:,1], trans_data_x_1[:,2], color=colors)\n",
    "hist = histogram(trans_data_x_2_split; stacked=true, bins=60,  fillcolor=[\"red\" \"blue\"], label = [\"Positive\" \"Negative\"], legend=:topleft)\n",
    "plot(plt1, plt2, hist, size=(1600, 400), legend=false, layout=(1, 3))"
   ]
  },
  {
   "cell_type": "code",
   "execution_count": 24,
   "id": "designed-perth",
   "metadata": {},
   "outputs": [
    {
     "data": {
      "image/svg+xml": [
       "<?xml version=\"1.0\" encoding=\"utf-8\"?>\n",
       "<svg xmlns=\"http://www.w3.org/2000/svg\" xmlns:xlink=\"http://www.w3.org/1999/xlink\" width=\"1200\" height=\"300\" viewBox=\"0 0 4800 1200\">\n",
       "<defs>\n",
       "  <clipPath id=\"clip130\">\n",
       "    <rect x=\"0\" y=\"0\" width=\"4800\" height=\"1200\"/>\n",
       "  </clipPath>\n",
       "</defs>\n",
       "<path clip-path=\"url(#clip130)\" d=\"\n",
       "M0 1200 L4800 1200 L4800 0 L0 0  Z\n",
       "  \" fill=\"#ffffff\" fill-rule=\"evenodd\" fill-opacity=\"1\"/>\n",
       "<defs>\n",
       "  <clipPath id=\"clip131\">\n",
       "    <rect x=\"960\" y=\"0\" width=\"3361\" height=\"1200\"/>\n",
       "  </clipPath>\n",
       "</defs>\n",
       "<path clip-path=\"url(#clip130)\" d=\"\n",
       "M243.842 1078.48 L1573.84 1078.48 L1573.84 47.2441 L243.842 47.2441  Z\n",
       "  \" fill=\"#ffffff\" fill-rule=\"evenodd\" fill-opacity=\"1\"/>\n",
       "<defs>\n",
       "  <clipPath id=\"clip132\">\n",
       "    <rect x=\"243\" y=\"47\" width=\"1331\" height=\"1032\"/>\n",
       "  </clipPath>\n",
       "</defs>\n",
       "<polyline clip-path=\"url(#clip132)\" style=\"stroke:#000000; stroke-linecap:butt; stroke-linejoin:round; stroke-width:2; stroke-opacity:0.1; fill:none\" points=\"\n",
       "  456.908,1078.48 456.908,47.2441 \n",
       "  \"/>\n",
       "<polyline clip-path=\"url(#clip132)\" style=\"stroke:#000000; stroke-linecap:butt; stroke-linejoin:round; stroke-width:2; stroke-opacity:0.1; fill:none\" points=\"\n",
       "  719.921,1078.48 719.921,47.2441 \n",
       "  \"/>\n",
       "<polyline clip-path=\"url(#clip132)\" style=\"stroke:#000000; stroke-linecap:butt; stroke-linejoin:round; stroke-width:2; stroke-opacity:0.1; fill:none\" points=\"\n",
       "  982.933,1078.48 982.933,47.2441 \n",
       "  \"/>\n",
       "<polyline clip-path=\"url(#clip132)\" style=\"stroke:#000000; stroke-linecap:butt; stroke-linejoin:round; stroke-width:2; stroke-opacity:0.1; fill:none\" points=\"\n",
       "  1245.95,1078.48 1245.95,47.2441 \n",
       "  \"/>\n",
       "<polyline clip-path=\"url(#clip132)\" style=\"stroke:#000000; stroke-linecap:butt; stroke-linejoin:round; stroke-width:2; stroke-opacity:0.1; fill:none\" points=\"\n",
       "  1508.96,1078.48 1508.96,47.2441 \n",
       "  \"/>\n",
       "<polyline clip-path=\"url(#clip130)\" style=\"stroke:#000000; stroke-linecap:butt; stroke-linejoin:round; stroke-width:4; stroke-opacity:1; fill:none\" points=\"\n",
       "  243.842,1078.48 1573.84,1078.48 \n",
       "  \"/>\n",
       "<polyline clip-path=\"url(#clip130)\" style=\"stroke:#000000; stroke-linecap:butt; stroke-linejoin:round; stroke-width:4; stroke-opacity:1; fill:none\" points=\"\n",
       "  456.908,1078.48 456.908,1059.58 \n",
       "  \"/>\n",
       "<polyline clip-path=\"url(#clip130)\" style=\"stroke:#000000; stroke-linecap:butt; stroke-linejoin:round; stroke-width:4; stroke-opacity:1; fill:none\" points=\"\n",
       "  719.921,1078.48 719.921,1059.58 \n",
       "  \"/>\n",
       "<polyline clip-path=\"url(#clip130)\" style=\"stroke:#000000; stroke-linecap:butt; stroke-linejoin:round; stroke-width:4; stroke-opacity:1; fill:none\" points=\"\n",
       "  982.933,1078.48 982.933,1059.58 \n",
       "  \"/>\n",
       "<polyline clip-path=\"url(#clip130)\" style=\"stroke:#000000; stroke-linecap:butt; stroke-linejoin:round; stroke-width:4; stroke-opacity:1; fill:none\" points=\"\n",
       "  1245.95,1078.48 1245.95,1059.58 \n",
       "  \"/>\n",
       "<polyline clip-path=\"url(#clip130)\" style=\"stroke:#000000; stroke-linecap:butt; stroke-linejoin:round; stroke-width:4; stroke-opacity:1; fill:none\" points=\"\n",
       "  1508.96,1078.48 1508.96,1059.58 \n",
       "  \"/>\n",
       "<path clip-path=\"url(#clip130)\" d=\"M434.79 1126.87 Q431.179 1126.87 429.35 1130.44 Q427.545 1133.98 427.545 1141.11 Q427.545 1148.21 429.35 1151.78 Q431.179 1155.32 434.79 1155.32 Q438.424 1155.32 440.23 1151.78 Q442.058 1148.21 442.058 1141.11 Q442.058 1133.98 440.23 1130.44 Q438.424 1126.87 434.79 1126.87 M434.79 1123.17 Q440.6 1123.17 443.656 1127.77 Q446.734 1132.36 446.734 1141.11 Q446.734 1149.83 443.656 1154.44 Q440.6 1159.02 434.79 1159.02 Q428.98 1159.02 425.901 1154.44 Q422.846 1149.83 422.846 1141.11 Q422.846 1132.36 425.901 1127.77 Q428.98 1123.17 434.79 1123.17 Z\" fill=\"#000000\" fill-rule=\"evenodd\" fill-opacity=\"1\" /><path clip-path=\"url(#clip130)\" d=\"M454.952 1152.47 L459.836 1152.47 L459.836 1158.35 L454.952 1158.35 L454.952 1152.47 Z\" fill=\"#000000\" fill-rule=\"evenodd\" fill-opacity=\"1\" /><path clip-path=\"url(#clip130)\" d=\"M470.068 1123.79 L488.424 1123.79 L488.424 1127.73 L474.35 1127.73 L474.35 1136.2 Q475.368 1135.85 476.387 1135.69 Q477.405 1135.5 478.424 1135.5 Q484.211 1135.5 487.591 1138.68 Q490.97 1141.85 490.97 1147.26 Q490.97 1152.84 487.498 1155.94 Q484.026 1159.02 477.706 1159.02 Q475.53 1159.02 473.262 1158.65 Q471.017 1158.28 468.609 1157.54 L468.609 1152.84 Q470.693 1153.98 472.915 1154.53 Q475.137 1155.09 477.614 1155.09 Q481.618 1155.09 483.956 1152.98 Q486.294 1150.88 486.294 1147.26 Q486.294 1143.65 483.956 1141.55 Q481.618 1139.44 477.614 1139.44 Q475.739 1139.44 473.864 1139.86 Q472.012 1140.27 470.068 1141.15 L470.068 1123.79 Z\" fill=\"#000000\" fill-rule=\"evenodd\" fill-opacity=\"1\" /><path clip-path=\"url(#clip130)\" d=\"M687.074 1154.42 L694.712 1154.42 L694.712 1128.05 L686.402 1129.72 L686.402 1125.46 L694.666 1123.79 L699.342 1123.79 L699.342 1154.42 L706.981 1154.42 L706.981 1158.35 L687.074 1158.35 L687.074 1154.42 Z\" fill=\"#000000\" fill-rule=\"evenodd\" fill-opacity=\"1\" /><path clip-path=\"url(#clip130)\" d=\"M716.425 1152.47 L721.309 1152.47 L721.309 1158.35 L716.425 1158.35 L716.425 1152.47 Z\" fill=\"#000000\" fill-rule=\"evenodd\" fill-opacity=\"1\" /><path clip-path=\"url(#clip130)\" d=\"M741.495 1126.87 Q737.883 1126.87 736.055 1130.44 Q734.249 1133.98 734.249 1141.11 Q734.249 1148.21 736.055 1151.78 Q737.883 1155.32 741.495 1155.32 Q745.129 1155.32 746.934 1151.78 Q748.763 1148.21 748.763 1141.11 Q748.763 1133.98 746.934 1130.44 Q745.129 1126.87 741.495 1126.87 M741.495 1123.17 Q747.305 1123.17 750.36 1127.77 Q753.439 1132.36 753.439 1141.11 Q753.439 1149.83 750.36 1154.44 Q747.305 1159.02 741.495 1159.02 Q735.684 1159.02 732.606 1154.44 Q729.55 1149.83 729.55 1141.11 Q729.55 1132.36 732.606 1127.77 Q735.684 1123.17 741.495 1123.17 Z\" fill=\"#000000\" fill-rule=\"evenodd\" fill-opacity=\"1\" /><path clip-path=\"url(#clip130)\" d=\"M950.584 1154.42 L958.223 1154.42 L958.223 1128.05 L949.913 1129.72 L949.913 1125.46 L958.177 1123.79 L962.852 1123.79 L962.852 1154.42 L970.491 1154.42 L970.491 1158.35 L950.584 1158.35 L950.584 1154.42 Z\" fill=\"#000000\" fill-rule=\"evenodd\" fill-opacity=\"1\" /><path clip-path=\"url(#clip130)\" d=\"M979.936 1152.47 L984.82 1152.47 L984.82 1158.35 L979.936 1158.35 L979.936 1152.47 Z\" fill=\"#000000\" fill-rule=\"evenodd\" fill-opacity=\"1\" /><path clip-path=\"url(#clip130)\" d=\"M995.051 1123.79 L1013.41 1123.79 L1013.41 1127.73 L999.334 1127.73 L999.334 1136.2 Q1000.35 1135.85 1001.37 1135.69 Q1002.39 1135.5 1003.41 1135.5 Q1009.19 1135.5 1012.57 1138.68 Q1015.95 1141.85 1015.95 1147.26 Q1015.95 1152.84 1012.48 1155.94 Q1009.01 1159.02 1002.69 1159.02 Q1000.51 1159.02 998.246 1158.65 Q996 1158.28 993.593 1157.54 L993.593 1152.84 Q995.676 1153.98 997.899 1154.53 Q1000.12 1155.09 1002.6 1155.09 Q1006.6 1155.09 1008.94 1152.98 Q1011.28 1150.88 1011.28 1147.26 Q1011.28 1143.65 1008.94 1141.55 Q1006.6 1139.44 1002.6 1139.44 Q1000.72 1139.44 998.848 1139.86 Q996.996 1140.27 995.051 1141.15 L995.051 1123.79 Z\" fill=\"#000000\" fill-rule=\"evenodd\" fill-opacity=\"1\" /><path clip-path=\"url(#clip130)\" d=\"M1217.18 1154.42 L1233.5 1154.42 L1233.5 1158.35 L1211.56 1158.35 L1211.56 1154.42 Q1214.22 1151.66 1218.8 1147.03 Q1223.41 1142.38 1224.59 1141.04 Q1226.84 1138.51 1227.72 1136.78 Q1228.62 1135.02 1228.62 1133.33 Q1228.62 1130.57 1226.68 1128.84 Q1224.75 1127.1 1221.65 1127.1 Q1219.45 1127.1 1217 1127.87 Q1214.57 1128.63 1211.79 1130.18 L1211.79 1125.46 Q1214.62 1124.32 1217.07 1123.75 Q1219.52 1123.17 1221.56 1123.17 Q1226.93 1123.17 1230.12 1125.85 Q1233.32 1128.54 1233.32 1133.03 Q1233.32 1135.16 1232.51 1137.08 Q1231.72 1138.98 1229.62 1141.57 Q1229.04 1142.24 1225.93 1145.46 Q1222.83 1148.65 1217.18 1154.42 Z\" fill=\"#000000\" fill-rule=\"evenodd\" fill-opacity=\"1\" /><path clip-path=\"url(#clip130)\" d=\"M1243.32 1152.47 L1248.2 1152.47 L1248.2 1158.35 L1243.32 1158.35 L1243.32 1152.47 Z\" fill=\"#000000\" fill-rule=\"evenodd\" fill-opacity=\"1\" /><path clip-path=\"url(#clip130)\" d=\"M1268.39 1126.87 Q1264.78 1126.87 1262.95 1130.44 Q1261.14 1133.98 1261.14 1141.11 Q1261.14 1148.21 1262.95 1151.78 Q1264.78 1155.32 1268.39 1155.32 Q1272.02 1155.32 1273.83 1151.78 Q1275.66 1148.21 1275.66 1141.11 Q1275.66 1133.98 1273.83 1130.44 Q1272.02 1126.87 1268.39 1126.87 M1268.39 1123.17 Q1274.2 1123.17 1277.25 1127.77 Q1280.33 1132.36 1280.33 1141.11 Q1280.33 1149.83 1277.25 1154.44 Q1274.2 1159.02 1268.39 1159.02 Q1262.58 1159.02 1259.5 1154.44 Q1256.44 1149.83 1256.44 1141.11 Q1256.44 1132.36 1259.5 1127.77 Q1262.58 1123.17 1268.39 1123.17 Z\" fill=\"#000000\" fill-rule=\"evenodd\" fill-opacity=\"1\" /><path clip-path=\"url(#clip130)\" d=\"M1480.7 1154.42 L1497.01 1154.42 L1497.01 1158.35 L1475.07 1158.35 L1475.07 1154.42 Q1477.73 1151.66 1482.32 1147.03 Q1486.92 1142.38 1488.1 1141.04 Q1490.35 1138.51 1491.23 1136.78 Q1492.13 1135.02 1492.13 1133.33 Q1492.13 1130.57 1490.19 1128.84 Q1488.26 1127.1 1485.16 1127.1 Q1482.96 1127.1 1480.51 1127.87 Q1478.08 1128.63 1475.3 1130.18 L1475.3 1125.46 Q1478.13 1124.32 1480.58 1123.75 Q1483.03 1123.17 1485.07 1123.17 Q1490.44 1123.17 1493.63 1125.85 Q1496.83 1128.54 1496.83 1133.03 Q1496.83 1135.16 1496.02 1137.08 Q1495.23 1138.98 1493.13 1141.57 Q1492.55 1142.24 1489.44 1145.46 Q1486.34 1148.65 1480.7 1154.42 Z\" fill=\"#000000\" fill-rule=\"evenodd\" fill-opacity=\"1\" /><path clip-path=\"url(#clip130)\" d=\"M1506.83 1152.47 L1511.71 1152.47 L1511.71 1158.35 L1506.83 1158.35 L1506.83 1152.47 Z\" fill=\"#000000\" fill-rule=\"evenodd\" fill-opacity=\"1\" /><path clip-path=\"url(#clip130)\" d=\"M1521.94 1123.79 L1540.3 1123.79 L1540.3 1127.73 L1526.23 1127.73 L1526.23 1136.2 Q1527.25 1135.85 1528.26 1135.69 Q1529.28 1135.5 1530.3 1135.5 Q1536.09 1135.5 1539.47 1138.68 Q1542.85 1141.85 1542.85 1147.26 Q1542.85 1152.84 1539.38 1155.94 Q1535.9 1159.02 1529.58 1159.02 Q1527.41 1159.02 1525.14 1158.65 Q1522.89 1158.28 1520.49 1157.54 L1520.49 1152.84 Q1522.57 1153.98 1524.79 1154.53 Q1527.01 1155.09 1529.49 1155.09 Q1533.5 1155.09 1535.83 1152.98 Q1538.17 1150.88 1538.17 1147.26 Q1538.17 1143.65 1535.83 1141.55 Q1533.5 1139.44 1529.49 1139.44 Q1527.62 1139.44 1525.74 1139.86 Q1523.89 1140.27 1521.94 1141.15 L1521.94 1123.79 Z\" fill=\"#000000\" fill-rule=\"evenodd\" fill-opacity=\"1\" /><path clip-path=\"url(#clip130)\" d=\"M838.18 1241.11 Q838.18 1234.74 835.538 1231.24 Q832.929 1227.74 828.186 1227.74 Q823.475 1227.74 820.834 1231.24 Q818.224 1234.74 818.224 1241.11 Q818.224 1247.44 820.834 1250.94 Q823.475 1254.44 828.186 1254.44 Q832.929 1254.44 835.538 1250.94 Q838.18 1247.44 838.18 1241.11 M844.037 1254.92 Q844.037 1264.02 839.994 1268.45 Q835.952 1272.9 827.613 1272.9 Q824.526 1272.9 821.789 1272.43 Q819.051 1271.98 816.473 1271.02 L816.473 1265.33 Q819.051 1266.73 821.566 1267.4 Q824.08 1268.06 826.69 1268.06 Q832.451 1268.06 835.316 1265.04 Q838.18 1262.05 838.18 1255.97 L838.18 1253.07 Q836.366 1256.22 833.533 1257.78 Q830.701 1259.34 826.754 1259.34 Q820.197 1259.34 816.187 1254.35 Q812.176 1249.35 812.176 1241.11 Q812.176 1232.83 816.187 1227.83 Q820.197 1222.84 826.754 1222.84 Q830.701 1222.84 833.533 1224.4 Q836.366 1225.96 838.18 1229.11 L838.18 1223.7 L844.037 1223.7 L844.037 1254.92 Z\" fill=\"#000000\" fill-rule=\"evenodd\" fill-opacity=\"1\" /><path clip-path=\"url(#clip130)\" d=\"M872.3 1241.42 Q865.203 1241.42 862.465 1243.05 Q859.728 1244.67 859.728 1248.59 Q859.728 1251.7 861.765 1253.55 Q863.834 1255.37 867.367 1255.37 Q872.237 1255.37 875.165 1251.93 Q878.125 1248.46 878.125 1242.73 L878.125 1241.42 L872.3 1241.42 M883.982 1239.01 L883.982 1259.34 L878.125 1259.34 L878.125 1253.93 Q876.12 1257.18 873.128 1258.74 Q870.136 1260.27 865.807 1260.27 Q860.333 1260.27 857.086 1257.21 Q853.872 1254.12 853.872 1248.97 Q853.872 1242.95 857.882 1239.9 Q861.924 1236.84 869.913 1236.84 L878.125 1236.84 L878.125 1236.27 Q878.125 1232.23 875.451 1230.03 Q872.81 1227.8 868.004 1227.8 Q864.948 1227.8 862.052 1228.53 Q859.155 1229.27 856.482 1230.73 L856.482 1225.32 Q859.696 1224.08 862.72 1223.47 Q865.744 1222.84 868.608 1222.84 Q876.343 1222.84 880.162 1226.85 Q883.982 1230.86 883.982 1239.01 Z\" fill=\"#000000\" fill-rule=\"evenodd\" fill-opacity=\"1\" /><path clip-path=\"url(#clip130)\" d=\"M896.045 1223.7 L901.901 1223.7 L901.901 1259.34 L896.045 1259.34 L896.045 1223.7 M896.045 1209.82 L901.901 1209.82 L901.901 1217.23 L896.045 1217.23 L896.045 1209.82 Z\" fill=\"#000000\" fill-rule=\"evenodd\" fill-opacity=\"1\" /><path clip-path=\"url(#clip130)\" d=\"M943.787 1237.83 L943.787 1259.34 L937.931 1259.34 L937.931 1238.02 Q937.931 1232.96 935.958 1230.44 Q933.984 1227.93 930.037 1227.93 Q925.295 1227.93 922.558 1230.95 Q919.82 1233.98 919.82 1239.2 L919.82 1259.34 L913.932 1259.34 L913.932 1223.7 L919.82 1223.7 L919.82 1229.23 Q921.921 1226.02 924.754 1224.43 Q927.618 1222.84 931.342 1222.84 Q937.485 1222.84 940.636 1226.66 Q943.787 1230.44 943.787 1237.83 Z\" fill=\"#000000\" fill-rule=\"evenodd\" fill-opacity=\"1\" /><path clip-path=\"url(#clip130)\" d=\"M978.13 1253.93 L988.634 1253.93 L988.634 1217.68 L977.207 1219.97 L977.207 1214.12 L988.57 1211.82 L994.999 1211.82 L994.999 1253.93 L1005.5 1253.93 L1005.5 1259.34 L978.13 1259.34 L978.13 1253.93 Z\" fill=\"#000000\" fill-rule=\"evenodd\" fill-opacity=\"1\" /><polyline clip-path=\"url(#clip132)\" style=\"stroke:#000000; stroke-linecap:butt; stroke-linejoin:round; stroke-width:2; stroke-opacity:0.1; fill:none\" points=\"\n",
       "  243.842,982.114 1573.84,982.114 \n",
       "  \"/>\n",
       "<polyline clip-path=\"url(#clip132)\" style=\"stroke:#000000; stroke-linecap:butt; stroke-linejoin:round; stroke-width:2; stroke-opacity:0.1; fill:none\" points=\"\n",
       "  243.842,770.005 1573.84,770.005 \n",
       "  \"/>\n",
       "<polyline clip-path=\"url(#clip132)\" style=\"stroke:#000000; stroke-linecap:butt; stroke-linejoin:round; stroke-width:2; stroke-opacity:0.1; fill:none\" points=\"\n",
       "  243.842,557.895 1573.84,557.895 \n",
       "  \"/>\n",
       "<polyline clip-path=\"url(#clip132)\" style=\"stroke:#000000; stroke-linecap:butt; stroke-linejoin:round; stroke-width:2; stroke-opacity:0.1; fill:none\" points=\"\n",
       "  243.842,345.785 1573.84,345.785 \n",
       "  \"/>\n",
       "<polyline clip-path=\"url(#clip132)\" style=\"stroke:#000000; stroke-linecap:butt; stroke-linejoin:round; stroke-width:2; stroke-opacity:0.1; fill:none\" points=\"\n",
       "  243.842,133.675 1573.84,133.675 \n",
       "  \"/>\n",
       "<polyline clip-path=\"url(#clip130)\" style=\"stroke:#000000; stroke-linecap:butt; stroke-linejoin:round; stroke-width:4; stroke-opacity:1; fill:none\" points=\"\n",
       "  243.842,1078.48 243.842,47.2441 \n",
       "  \"/>\n",
       "<polyline clip-path=\"url(#clip130)\" style=\"stroke:#000000; stroke-linecap:butt; stroke-linejoin:round; stroke-width:4; stroke-opacity:1; fill:none\" points=\"\n",
       "  243.842,982.114 262.74,982.114 \n",
       "  \"/>\n",
       "<polyline clip-path=\"url(#clip130)\" style=\"stroke:#000000; stroke-linecap:butt; stroke-linejoin:round; stroke-width:4; stroke-opacity:1; fill:none\" points=\"\n",
       "  243.842,770.005 262.74,770.005 \n",
       "  \"/>\n",
       "<polyline clip-path=\"url(#clip130)\" style=\"stroke:#000000; stroke-linecap:butt; stroke-linejoin:round; stroke-width:4; stroke-opacity:1; fill:none\" points=\"\n",
       "  243.842,557.895 262.74,557.895 \n",
       "  \"/>\n",
       "<polyline clip-path=\"url(#clip130)\" style=\"stroke:#000000; stroke-linecap:butt; stroke-linejoin:round; stroke-width:4; stroke-opacity:1; fill:none\" points=\"\n",
       "  243.842,345.785 262.74,345.785 \n",
       "  \"/>\n",
       "<polyline clip-path=\"url(#clip130)\" style=\"stroke:#000000; stroke-linecap:butt; stroke-linejoin:round; stroke-width:4; stroke-opacity:1; fill:none\" points=\"\n",
       "  243.842,133.675 262.74,133.675 \n",
       "  \"/>\n",
       "<path clip-path=\"url(#clip130)\" d=\"M84.5045 967.913 Q80.8934 967.913 79.0648 971.478 Q77.2592 975.02 77.2592 982.149 Q77.2592 989.256 79.0648 992.82 Q80.8934 996.362 84.5045 996.362 Q88.1388 996.362 89.9443 992.82 Q91.773 989.256 91.773 982.149 Q91.773 975.02 89.9443 971.478 Q88.1388 967.913 84.5045 967.913 M84.5045 964.209 Q90.3147 964.209 93.3702 968.816 Q96.4489 973.399 96.4489 982.149 Q96.4489 990.876 93.3702 995.482 Q90.3147 1000.07 84.5045 1000.07 Q78.6944 1000.07 75.6157 995.482 Q72.5602 990.876 72.5602 982.149 Q72.5602 973.399 75.6157 968.816 Q78.6944 964.209 84.5045 964.209 Z\" fill=\"#000000\" fill-rule=\"evenodd\" fill-opacity=\"1\" /><path clip-path=\"url(#clip130)\" d=\"M104.666 993.515 L109.551 993.515 L109.551 999.394 L104.666 999.394 L104.666 993.515 Z\" fill=\"#000000\" fill-rule=\"evenodd\" fill-opacity=\"1\" /><path clip-path=\"url(#clip130)\" d=\"M129.736 967.913 Q126.125 967.913 124.296 971.478 Q122.49 975.02 122.49 982.149 Q122.49 989.256 124.296 992.82 Q126.125 996.362 129.736 996.362 Q133.37 996.362 135.176 992.82 Q137.004 989.256 137.004 982.149 Q137.004 975.02 135.176 971.478 Q133.37 967.913 129.736 967.913 M129.736 964.209 Q135.546 964.209 138.601 968.816 Q141.68 973.399 141.68 982.149 Q141.68 990.876 138.601 995.482 Q135.546 1000.07 129.736 1000.07 Q123.926 1000.07 120.847 995.482 Q117.791 990.876 117.791 982.149 Q117.791 973.399 120.847 968.816 Q123.926 964.209 129.736 964.209 Z\" fill=\"#000000\" fill-rule=\"evenodd\" fill-opacity=\"1\" /><path clip-path=\"url(#clip130)\" d=\"M159.898 967.913 Q156.287 967.913 154.458 971.478 Q152.652 975.02 152.652 982.149 Q152.652 989.256 154.458 992.82 Q156.287 996.362 159.898 996.362 Q163.532 996.362 165.337 992.82 Q167.166 989.256 167.166 982.149 Q167.166 975.02 165.337 971.478 Q163.532 967.913 159.898 967.913 M159.898 964.209 Q165.708 964.209 168.763 968.816 Q171.842 973.399 171.842 982.149 Q171.842 990.876 168.763 995.482 Q165.708 1000.07 159.898 1000.07 Q154.087 1000.07 151.009 995.482 Q147.953 990.876 147.953 982.149 Q147.953 973.399 151.009 968.816 Q154.087 964.209 159.898 964.209 Z\" fill=\"#000000\" fill-rule=\"evenodd\" fill-opacity=\"1\" /><path clip-path=\"url(#clip130)\" d=\"M85.4999 755.803 Q81.8888 755.803 80.0601 759.368 Q78.2546 762.91 78.2546 770.039 Q78.2546 777.146 80.0601 780.711 Q81.8888 784.252 85.4999 784.252 Q89.1341 784.252 90.9397 780.711 Q92.7684 777.146 92.7684 770.039 Q92.7684 762.91 90.9397 759.368 Q89.1341 755.803 85.4999 755.803 M85.4999 752.1 Q91.3101 752.1 94.3656 756.706 Q97.4443 761.289 97.4443 770.039 Q97.4443 778.766 94.3656 783.373 Q91.3101 787.956 85.4999 787.956 Q79.6897 787.956 76.6111 783.373 Q73.5555 778.766 73.5555 770.039 Q73.5555 761.289 76.6111 756.706 Q79.6897 752.1 85.4999 752.1 Z\" fill=\"#000000\" fill-rule=\"evenodd\" fill-opacity=\"1\" /><path clip-path=\"url(#clip130)\" d=\"M105.662 781.405 L110.546 781.405 L110.546 787.285 L105.662 787.285 L105.662 781.405 Z\" fill=\"#000000\" fill-rule=\"evenodd\" fill-opacity=\"1\" /><path clip-path=\"url(#clip130)\" d=\"M124.759 783.349 L141.078 783.349 L141.078 787.285 L119.134 787.285 L119.134 783.349 Q121.796 780.595 126.379 775.965 Q130.986 771.313 132.166 769.97 Q134.412 767.447 135.291 765.711 Q136.194 763.951 136.194 762.262 Q136.194 759.507 134.25 757.771 Q132.328 756.035 129.227 756.035 Q127.027 756.035 124.574 756.799 Q122.143 757.563 119.365 759.114 L119.365 754.391 Q122.19 753.257 124.643 752.678 Q127.097 752.1 129.134 752.1 Q134.504 752.1 137.699 754.785 Q140.893 757.47 140.893 761.961 Q140.893 764.09 140.083 766.012 Q139.296 767.91 137.189 770.502 Q136.611 771.174 133.509 774.391 Q130.407 777.586 124.759 783.349 Z\" fill=\"#000000\" fill-rule=\"evenodd\" fill-opacity=\"1\" /><path clip-path=\"url(#clip130)\" d=\"M150.939 752.725 L169.296 752.725 L169.296 756.66 L155.222 756.66 L155.222 765.132 Q156.24 764.785 157.259 764.623 Q158.277 764.438 159.296 764.438 Q165.083 764.438 168.462 767.609 Q171.842 770.78 171.842 776.197 Q171.842 781.775 168.37 784.877 Q164.898 787.956 158.578 787.956 Q156.402 787.956 154.134 787.586 Q151.888 787.215 149.481 786.474 L149.481 781.775 Q151.564 782.91 153.787 783.465 Q156.009 784.021 158.486 784.021 Q162.49 784.021 164.828 781.914 Q167.166 779.808 167.166 776.197 Q167.166 772.586 164.828 770.479 Q162.49 768.373 158.486 768.373 Q156.611 768.373 154.736 768.789 Q152.884 769.206 150.939 770.086 L150.939 752.725 Z\" fill=\"#000000\" fill-rule=\"evenodd\" fill-opacity=\"1\" /><path clip-path=\"url(#clip130)\" d=\"M84.5045 543.694 Q80.8934 543.694 79.0648 547.258 Q77.2592 550.8 77.2592 557.93 Q77.2592 565.036 79.0648 568.601 Q80.8934 572.142 84.5045 572.142 Q88.1388 572.142 89.9443 568.601 Q91.773 565.036 91.773 557.93 Q91.773 550.8 89.9443 547.258 Q88.1388 543.694 84.5045 543.694 M84.5045 539.99 Q90.3147 539.99 93.3702 544.596 Q96.4489 549.18 96.4489 557.93 Q96.4489 566.656 93.3702 571.263 Q90.3147 575.846 84.5045 575.846 Q78.6944 575.846 75.6157 571.263 Q72.5602 566.656 72.5602 557.93 Q72.5602 549.18 75.6157 544.596 Q78.6944 539.99 84.5045 539.99 Z\" fill=\"#000000\" fill-rule=\"evenodd\" fill-opacity=\"1\" /><path clip-path=\"url(#clip130)\" d=\"M104.666 569.295 L109.551 569.295 L109.551 575.175 L104.666 575.175 L104.666 569.295 Z\" fill=\"#000000\" fill-rule=\"evenodd\" fill-opacity=\"1\" /><path clip-path=\"url(#clip130)\" d=\"M119.782 540.615 L138.139 540.615 L138.139 544.55 L124.065 544.55 L124.065 553.022 Q125.083 552.675 126.102 552.513 Q127.12 552.328 128.139 552.328 Q133.926 552.328 137.305 555.499 Q140.685 558.67 140.685 564.087 Q140.685 569.666 137.213 572.767 Q133.74 575.846 127.421 575.846 Q125.245 575.846 122.977 575.476 Q120.731 575.105 118.324 574.365 L118.324 569.666 Q120.407 570.8 122.629 571.355 Q124.852 571.911 127.328 571.911 Q131.333 571.911 133.671 569.804 Q136.009 567.698 136.009 564.087 Q136.009 560.476 133.671 558.369 Q131.333 556.263 127.328 556.263 Q125.453 556.263 123.578 556.68 Q121.727 557.096 119.782 557.976 L119.782 540.615 Z\" fill=\"#000000\" fill-rule=\"evenodd\" fill-opacity=\"1\" /><path clip-path=\"url(#clip130)\" d=\"M159.898 543.694 Q156.287 543.694 154.458 547.258 Q152.652 550.8 152.652 557.93 Q152.652 565.036 154.458 568.601 Q156.287 572.142 159.898 572.142 Q163.532 572.142 165.337 568.601 Q167.166 565.036 167.166 557.93 Q167.166 550.8 165.337 547.258 Q163.532 543.694 159.898 543.694 M159.898 539.99 Q165.708 539.99 168.763 544.596 Q171.842 549.18 171.842 557.93 Q171.842 566.656 168.763 571.263 Q165.708 575.846 159.898 575.846 Q154.087 575.846 151.009 571.263 Q147.953 566.656 147.953 557.93 Q147.953 549.18 151.009 544.596 Q154.087 539.99 159.898 539.99 Z\" fill=\"#000000\" fill-rule=\"evenodd\" fill-opacity=\"1\" /><path clip-path=\"url(#clip130)\" d=\"M85.4999 331.584 Q81.8888 331.584 80.0601 335.149 Q78.2546 338.69 78.2546 345.82 Q78.2546 352.926 80.0601 356.491 Q81.8888 360.033 85.4999 360.033 Q89.1341 360.033 90.9397 356.491 Q92.7684 352.926 92.7684 345.82 Q92.7684 338.69 90.9397 335.149 Q89.1341 331.584 85.4999 331.584 M85.4999 327.88 Q91.3101 327.88 94.3656 332.486 Q97.4443 337.07 97.4443 345.82 Q97.4443 354.547 94.3656 359.153 Q91.3101 363.736 85.4999 363.736 Q79.6897 363.736 76.6111 359.153 Q73.5555 354.547 73.5555 345.82 Q73.5555 337.07 76.6111 332.486 Q79.6897 327.88 85.4999 327.88 Z\" fill=\"#000000\" fill-rule=\"evenodd\" fill-opacity=\"1\" /><path clip-path=\"url(#clip130)\" d=\"M105.662 357.185 L110.546 357.185 L110.546 363.065 L105.662 363.065 L105.662 357.185 Z\" fill=\"#000000\" fill-rule=\"evenodd\" fill-opacity=\"1\" /><path clip-path=\"url(#clip130)\" d=\"M119.551 328.505 L141.773 328.505 L141.773 330.496 L129.227 363.065 L124.342 363.065 L136.148 332.44 L119.551 332.44 L119.551 328.505 Z\" fill=\"#000000\" fill-rule=\"evenodd\" fill-opacity=\"1\" /><path clip-path=\"url(#clip130)\" d=\"M150.939 328.505 L169.296 328.505 L169.296 332.44 L155.222 332.44 L155.222 340.912 Q156.24 340.565 157.259 340.403 Q158.277 340.218 159.296 340.218 Q165.083 340.218 168.462 343.389 Q171.842 346.56 171.842 351.977 Q171.842 357.556 168.37 360.658 Q164.898 363.736 158.578 363.736 Q156.402 363.736 154.134 363.366 Q151.888 362.996 149.481 362.255 L149.481 357.556 Q151.564 358.69 153.787 359.246 Q156.009 359.801 158.486 359.801 Q162.49 359.801 164.828 357.695 Q167.166 355.588 167.166 351.977 Q167.166 348.366 164.828 346.26 Q162.49 344.153 158.486 344.153 Q156.611 344.153 154.736 344.57 Q152.884 344.986 150.939 345.866 L150.939 328.505 Z\" fill=\"#000000\" fill-rule=\"evenodd\" fill-opacity=\"1\" /><path clip-path=\"url(#clip130)\" d=\"M75.3148 147.02 L82.9536 147.02 L82.9536 120.654 L74.6435 122.321 L74.6435 118.062 L82.9073 116.395 L87.5832 116.395 L87.5832 147.02 L95.2221 147.02 L95.2221 150.955 L75.3148 150.955 L75.3148 147.02 Z\" fill=\"#000000\" fill-rule=\"evenodd\" fill-opacity=\"1\" /><path clip-path=\"url(#clip130)\" d=\"M104.666 145.076 L109.551 145.076 L109.551 150.955 L104.666 150.955 L104.666 145.076 Z\" fill=\"#000000\" fill-rule=\"evenodd\" fill-opacity=\"1\" /><path clip-path=\"url(#clip130)\" d=\"M129.736 119.474 Q126.125 119.474 124.296 123.039 Q122.49 126.58 122.49 133.71 Q122.49 140.816 124.296 144.381 Q126.125 147.923 129.736 147.923 Q133.37 147.923 135.176 144.381 Q137.004 140.816 137.004 133.71 Q137.004 126.58 135.176 123.039 Q133.37 119.474 129.736 119.474 M129.736 115.77 Q135.546 115.77 138.601 120.377 Q141.68 124.96 141.68 133.71 Q141.68 142.437 138.601 147.043 Q135.546 151.627 129.736 151.627 Q123.926 151.627 120.847 147.043 Q117.791 142.437 117.791 133.71 Q117.791 124.96 120.847 120.377 Q123.926 115.77 129.736 115.77 Z\" fill=\"#000000\" fill-rule=\"evenodd\" fill-opacity=\"1\" /><path clip-path=\"url(#clip130)\" d=\"M159.898 119.474 Q156.287 119.474 154.458 123.039 Q152.652 126.58 152.652 133.71 Q152.652 140.816 154.458 144.381 Q156.287 147.923 159.898 147.923 Q163.532 147.923 165.337 144.381 Q167.166 140.816 167.166 133.71 Q167.166 126.58 165.337 123.039 Q163.532 119.474 159.898 119.474 M159.898 115.77 Q165.708 115.77 168.763 120.377 Q171.842 124.96 171.842 133.71 Q171.842 142.437 168.763 147.043 Q165.708 151.627 159.898 151.627 Q154.087 151.627 151.009 147.043 Q147.953 142.437 147.953 133.71 Q147.953 124.96 151.009 120.377 Q154.087 115.77 159.898 115.77 Z\" fill=\"#000000\" fill-rule=\"evenodd\" fill-opacity=\"1\" /><path clip-path=\"url(#clip130)\" d=\"M-31.9336 633.267 Q-38.2993 633.267 -41.8004 635.908 Q-45.3016 638.518 -45.3016 643.261 Q-45.3016 647.971 -41.8004 650.613 Q-38.2993 653.223 -31.9336 653.223 Q-25.5997 653.223 -22.0986 650.613 Q-18.5974 647.971 -18.5974 643.261 Q-18.5974 638.518 -22.0986 635.908 Q-25.5997 633.267 -31.9336 633.267 M-18.12 627.41 Q-9.01705 627.41 -4.59288 631.452 Q-0.136887 635.495 -0.136887 643.834 Q-0.136887 646.921 -0.614315 649.658 Q-1.05991 652.396 -2.01477 654.974 L-7.71208 654.974 Q-6.31162 652.396 -5.64322 649.881 Q-4.97482 647.367 -4.97482 644.757 Q-4.97482 638.996 -7.99854 636.131 Q-10.9904 633.267 -17.0697 633.267 L-19.9661 633.267 Q-16.815 635.081 -15.2554 637.914 Q-13.6958 640.746 -13.6958 644.693 Q-13.6958 651.25 -18.6929 655.26 Q-23.69 659.271 -31.9336 659.271 Q-40.209 659.271 -45.2061 655.26 Q-50.2032 651.25 -50.2032 644.693 Q-50.2032 640.746 -48.6436 637.914 Q-47.084 635.081 -43.9329 633.267 L-49.3438 633.267 L-49.3438 627.41 L-18.12 627.41 Z\" fill=\"#000000\" fill-rule=\"evenodd\" fill-opacity=\"1\" /><path clip-path=\"url(#clip130)\" d=\"M-31.6153 599.146 Q-31.6153 606.244 -29.9921 608.982 Q-28.3688 611.719 -24.4539 611.719 Q-21.3347 611.719 -19.4886 609.682 Q-17.6744 607.613 -17.6744 604.08 Q-17.6744 599.21 -21.1119 596.282 Q-24.5812 593.322 -30.3103 593.322 L-31.6153 593.322 L-31.6153 599.146 M-34.0343 587.465 L-13.6958 587.465 L-13.6958 593.322 L-19.1067 593.322 Q-15.8602 595.327 -14.3006 598.319 Q-12.7728 601.311 -12.7728 605.64 Q-12.7728 611.114 -15.8284 614.361 Q-18.9157 617.575 -24.0719 617.575 Q-30.0875 617.575 -33.1431 613.565 Q-36.1986 609.523 -36.1986 601.534 L-36.1986 593.322 L-36.7715 593.322 Q-40.8138 593.322 -43.0099 595.995 Q-45.2379 598.637 -45.2379 603.443 Q-45.2379 606.499 -44.5059 609.395 Q-43.7738 612.292 -42.3097 614.965 L-47.7205 614.965 Q-48.9619 611.751 -49.5666 608.727 Q-50.2032 605.703 -50.2032 602.839 Q-50.2032 595.104 -46.1928 591.285 Q-42.1824 587.465 -34.0343 587.465 Z\" fill=\"#000000\" fill-rule=\"evenodd\" fill-opacity=\"1\" /><path clip-path=\"url(#clip130)\" d=\"M-49.3438 575.402 L-49.3438 569.546 L-13.6958 569.546 L-13.6958 575.402 L-49.3438 575.402 M-63.221 575.402 L-63.221 569.546 L-55.805 569.546 L-55.805 575.402 L-63.221 575.402 Z\" fill=\"#000000\" fill-rule=\"evenodd\" fill-opacity=\"1\" /><path clip-path=\"url(#clip130)\" d=\"M-35.2119 527.66 L-13.6958 527.66 L-13.6958 533.516 L-35.021 533.516 Q-40.0817 533.516 -42.5962 535.489 Q-45.1106 537.463 -45.1106 541.41 Q-45.1106 546.152 -42.0869 548.889 Q-39.0632 551.626 -33.8433 551.626 L-13.6958 551.626 L-13.6958 557.515 L-49.3438 557.515 L-49.3438 551.626 L-43.8056 551.626 Q-47.0203 549.526 -48.6117 546.693 Q-50.2032 543.829 -50.2032 540.105 Q-50.2032 533.962 -46.3837 530.811 Q-42.5962 527.66 -35.2119 527.66 Z\" fill=\"#000000\" fill-rule=\"evenodd\" fill-opacity=\"1\" /><path clip-path=\"url(#clip130)\" d=\"M-19.1067 488.892 L-19.1067 466.453 L-13.6958 466.453 L-13.6958 496.627 L-19.1067 496.627 Q-22.8943 492.967 -29.26 486.664 Q-35.6575 480.331 -37.5036 478.707 Q-40.9729 475.62 -43.36 474.41 Q-45.779 473.169 -48.1025 473.169 Q-51.8901 473.169 -54.2772 475.843 Q-56.6644 478.485 -56.6644 482.75 Q-56.6644 485.773 -55.614 489.147 Q-54.5637 492.489 -52.4312 496.309 L-58.9242 496.309 Q-60.4838 492.425 -61.2795 489.052 Q-62.0752 485.678 -62.0752 482.877 Q-62.0752 475.493 -58.3831 471.1 Q-54.691 466.708 -48.5163 466.708 Q-45.588 466.708 -42.9463 467.822 Q-40.3363 468.904 -36.7715 471.801 Q-35.8485 472.596 -31.4243 476.861 Q-27.032 481.126 -19.1067 488.892 Z\" fill=\"#000000\" fill-rule=\"evenodd\" fill-opacity=\"1\" /><circle clip-path=\"url(#clip132)\" cx=\"310.34\" cy=\"381.361\" r=\"14\" fill=\"#ff0000\" fill-rule=\"evenodd\" fill-opacity=\"1\" stroke=\"#000000\" stroke-opacity=\"1\" stroke-width=\"2.4\"/>\n",
       "<circle clip-path=\"url(#clip132)\" cx=\"316.281\" cy=\"436.93\" r=\"14\" fill=\"#0000ff\" fill-rule=\"evenodd\" fill-opacity=\"1\" stroke=\"#000000\" stroke-opacity=\"1\" stroke-width=\"2.4\"/>\n",
       "<circle clip-path=\"url(#clip132)\" cx=\"288.036\" cy=\"393.337\" r=\"14\" fill=\"#0000ff\" fill-rule=\"evenodd\" fill-opacity=\"1\" stroke=\"#000000\" stroke-opacity=\"1\" stroke-width=\"2.4\"/>\n",
       "<circle clip-path=\"url(#clip132)\" cx=\"302.441\" cy=\"437.796\" r=\"14\" fill=\"#ff0000\" fill-rule=\"evenodd\" fill-opacity=\"1\" stroke=\"#000000\" stroke-opacity=\"1\" stroke-width=\"2.4\"/>\n",
       "<circle clip-path=\"url(#clip132)\" cx=\"295.24\" cy=\"405.936\" r=\"14\" fill=\"#0000ff\" fill-rule=\"evenodd\" fill-opacity=\"1\" stroke=\"#000000\" stroke-opacity=\"1\" stroke-width=\"2.4\"/>\n",
       "<circle clip-path=\"url(#clip132)\" cx=\"480.715\" cy=\"543.883\" r=\"14\" fill=\"#ff0000\" fill-rule=\"evenodd\" fill-opacity=\"1\" stroke=\"#000000\" stroke-opacity=\"1\" stroke-width=\"2.4\"/>\n",
       "<circle clip-path=\"url(#clip132)\" cx=\"455.596\" cy=\"553.652\" r=\"14\" fill=\"#0000ff\" fill-rule=\"evenodd\" fill-opacity=\"1\" stroke=\"#000000\" stroke-opacity=\"1\" stroke-width=\"2.4\"/>\n",
       "<circle clip-path=\"url(#clip132)\" cx=\"475.823\" cy=\"547.275\" r=\"14\" fill=\"#0000ff\" fill-rule=\"evenodd\" fill-opacity=\"1\" stroke=\"#000000\" stroke-opacity=\"1\" stroke-width=\"2.4\"/>\n",
       "<circle clip-path=\"url(#clip132)\" cx=\"589.506\" cy=\"823.337\" r=\"14\" fill=\"#0000ff\" fill-rule=\"evenodd\" fill-opacity=\"1\" stroke=\"#000000\" stroke-opacity=\"1\" stroke-width=\"2.4\"/>\n",
       "<circle clip-path=\"url(#clip132)\" cx=\"546.588\" cy=\"813.197\" r=\"14\" fill=\"#ff0000\" fill-rule=\"evenodd\" fill-opacity=\"1\" stroke=\"#000000\" stroke-opacity=\"1\" stroke-width=\"2.4\"/>\n",
       "<circle clip-path=\"url(#clip132)\" cx=\"592.332\" cy=\"849.779\" r=\"14\" fill=\"#ff0000\" fill-rule=\"evenodd\" fill-opacity=\"1\" stroke=\"#000000\" stroke-opacity=\"1\" stroke-width=\"2.4\"/>\n",
       "<circle clip-path=\"url(#clip132)\" cx=\"548.252\" cy=\"788.199\" r=\"14\" fill=\"#ff0000\" fill-rule=\"evenodd\" fill-opacity=\"1\" stroke=\"#000000\" stroke-opacity=\"1\" stroke-width=\"2.4\"/>\n",
       "<circle clip-path=\"url(#clip132)\" cx=\"555.963\" cy=\"815.338\" r=\"14\" fill=\"#0000ff\" fill-rule=\"evenodd\" fill-opacity=\"1\" stroke=\"#000000\" stroke-opacity=\"1\" stroke-width=\"2.4\"/>\n",
       "<circle clip-path=\"url(#clip132)\" cx=\"548.778\" cy=\"777.043\" r=\"14\" fill=\"#0000ff\" fill-rule=\"evenodd\" fill-opacity=\"1\" stroke=\"#000000\" stroke-opacity=\"1\" stroke-width=\"2.4\"/>\n",
       "<circle clip-path=\"url(#clip132)\" cx=\"568.61\" cy=\"776.857\" r=\"14\" fill=\"#0000ff\" fill-rule=\"evenodd\" fill-opacity=\"1\" stroke=\"#000000\" stroke-opacity=\"1\" stroke-width=\"2.4\"/>\n",
       "<circle clip-path=\"url(#clip132)\" cx=\"551.802\" cy=\"807.604\" r=\"14\" fill=\"#ff0000\" fill-rule=\"evenodd\" fill-opacity=\"1\" stroke=\"#000000\" stroke-opacity=\"1\" stroke-width=\"2.4\"/>\n",
       "<circle clip-path=\"url(#clip132)\" cx=\"668.53\" cy=\"872.628\" r=\"14\" fill=\"#ff0000\" fill-rule=\"evenodd\" fill-opacity=\"1\" stroke=\"#000000\" stroke-opacity=\"1\" stroke-width=\"2.4\"/>\n",
       "<circle clip-path=\"url(#clip132)\" cx=\"675.19\" cy=\"935.769\" r=\"14\" fill=\"#0000ff\" fill-rule=\"evenodd\" fill-opacity=\"1\" stroke=\"#000000\" stroke-opacity=\"1\" stroke-width=\"2.4\"/>\n",
       "<circle clip-path=\"url(#clip132)\" cx=\"664.583\" cy=\"867.673\" r=\"14\" fill=\"#ff0000\" fill-rule=\"evenodd\" fill-opacity=\"1\" stroke=\"#000000\" stroke-opacity=\"1\" stroke-width=\"2.4\"/>\n",
       "<circle clip-path=\"url(#clip132)\" cx=\"664.974\" cy=\"712.619\" r=\"14\" fill=\"#0000ff\" fill-rule=\"evenodd\" fill-opacity=\"1\" stroke=\"#000000\" stroke-opacity=\"1\" stroke-width=\"2.4\"/>\n",
       "<circle clip-path=\"url(#clip132)\" cx=\"676.276\" cy=\"717.839\" r=\"14\" fill=\"#0000ff\" fill-rule=\"evenodd\" fill-opacity=\"1\" stroke=\"#000000\" stroke-opacity=\"1\" stroke-width=\"2.4\"/>\n",
       "<circle clip-path=\"url(#clip132)\" cx=\"715.096\" cy=\"1008.26\" r=\"14\" fill=\"#0000ff\" fill-rule=\"evenodd\" fill-opacity=\"1\" stroke=\"#000000\" stroke-opacity=\"1\" stroke-width=\"2.4\"/>\n",
       "<circle clip-path=\"url(#clip132)\" cx=\"748.615\" cy=\"944.664\" r=\"14\" fill=\"#ff0000\" fill-rule=\"evenodd\" fill-opacity=\"1\" stroke=\"#000000\" stroke-opacity=\"1\" stroke-width=\"2.4\"/>\n",
       "<circle clip-path=\"url(#clip132)\" cx=\"745.449\" cy=\"981.895\" r=\"14\" fill=\"#ff0000\" fill-rule=\"evenodd\" fill-opacity=\"1\" stroke=\"#000000\" stroke-opacity=\"1\" stroke-width=\"2.4\"/>\n",
       "<circle clip-path=\"url(#clip132)\" cx=\"722.273\" cy=\"965.18\" r=\"14\" fill=\"#ff0000\" fill-rule=\"evenodd\" fill-opacity=\"1\" stroke=\"#000000\" stroke-opacity=\"1\" stroke-width=\"2.4\"/>\n",
       "<circle clip-path=\"url(#clip132)\" cx=\"725.497\" cy=\"982.083\" r=\"14\" fill=\"#0000ff\" fill-rule=\"evenodd\" fill-opacity=\"1\" stroke=\"#000000\" stroke-opacity=\"1\" stroke-width=\"2.4\"/>\n",
       "<circle clip-path=\"url(#clip132)\" cx=\"723.159\" cy=\"988.339\" r=\"14\" fill=\"#0000ff\" fill-rule=\"evenodd\" fill-opacity=\"1\" stroke=\"#000000\" stroke-opacity=\"1\" stroke-width=\"2.4\"/>\n",
       "<circle clip-path=\"url(#clip132)\" cx=\"724.856\" cy=\"965.438\" r=\"14\" fill=\"#ff0000\" fill-rule=\"evenodd\" fill-opacity=\"1\" stroke=\"#000000\" stroke-opacity=\"1\" stroke-width=\"2.4\"/>\n",
       "<circle clip-path=\"url(#clip132)\" cx=\"1231.01\" cy=\"1007.66\" r=\"14\" fill=\"#ff0000\" fill-rule=\"evenodd\" fill-opacity=\"1\" stroke=\"#000000\" stroke-opacity=\"1\" stroke-width=\"2.4\"/>\n",
       "<circle clip-path=\"url(#clip132)\" cx=\"1264.25\" cy=\"990.852\" r=\"14\" fill=\"#ff0000\" fill-rule=\"evenodd\" fill-opacity=\"1\" stroke=\"#000000\" stroke-opacity=\"1\" stroke-width=\"2.4\"/>\n",
       "<circle clip-path=\"url(#clip132)\" cx=\"1261.67\" cy=\"1015.21\" r=\"14\" fill=\"#ff0000\" fill-rule=\"evenodd\" fill-opacity=\"1\" stroke=\"#000000\" stroke-opacity=\"1\" stroke-width=\"2.4\"/>\n",
       "<circle clip-path=\"url(#clip132)\" cx=\"1275.54\" cy=\"1012.7\" r=\"14\" fill=\"#0000ff\" fill-rule=\"evenodd\" fill-opacity=\"1\" stroke=\"#000000\" stroke-opacity=\"1\" stroke-width=\"2.4\"/>\n",
       "<circle clip-path=\"url(#clip132)\" cx=\"1254.89\" cy=\"999.963\" r=\"14\" fill=\"#0000ff\" fill-rule=\"evenodd\" fill-opacity=\"1\" stroke=\"#000000\" stroke-opacity=\"1\" stroke-width=\"2.4\"/>\n",
       "<circle clip-path=\"url(#clip132)\" cx=\"1252.71\" cy=\"980.017\" r=\"14\" fill=\"#0000ff\" fill-rule=\"evenodd\" fill-opacity=\"1\" stroke=\"#000000\" stroke-opacity=\"1\" stroke-width=\"2.4\"/>\n",
       "<circle clip-path=\"url(#clip132)\" cx=\"1231.12\" cy=\"953.135\" r=\"14\" fill=\"#0000ff\" fill-rule=\"evenodd\" fill-opacity=\"1\" stroke=\"#000000\" stroke-opacity=\"1\" stroke-width=\"2.4\"/>\n",
       "<circle clip-path=\"url(#clip132)\" cx=\"1267.42\" cy=\"138.27\" r=\"14\" fill=\"#ff0000\" fill-rule=\"evenodd\" fill-opacity=\"1\" stroke=\"#000000\" stroke-opacity=\"1\" stroke-width=\"2.4\"/>\n",
       "<circle clip-path=\"url(#clip132)\" cx=\"1264.46\" cy=\"124.773\" r=\"14\" fill=\"#0000ff\" fill-rule=\"evenodd\" fill-opacity=\"1\" stroke=\"#000000\" stroke-opacity=\"1\" stroke-width=\"2.4\"/>\n",
       "<circle clip-path=\"url(#clip132)\" cx=\"1495.53\" cy=\"76.43\" r=\"14\" fill=\"#0000ff\" fill-rule=\"evenodd\" fill-opacity=\"1\" stroke=\"#000000\" stroke-opacity=\"1\" stroke-width=\"2.4\"/>\n",
       "<circle clip-path=\"url(#clip132)\" cx=\"1511.58\" cy=\"176.818\" r=\"14\" fill=\"#0000ff\" fill-rule=\"evenodd\" fill-opacity=\"1\" stroke=\"#000000\" stroke-opacity=\"1\" stroke-width=\"2.4\"/>\n",
       "<circle clip-path=\"url(#clip132)\" cx=\"1524.74\" cy=\"121.135\" r=\"14\" fill=\"#0000ff\" fill-rule=\"evenodd\" fill-opacity=\"1\" stroke=\"#000000\" stroke-opacity=\"1\" stroke-width=\"2.4\"/>\n",
       "<circle clip-path=\"url(#clip132)\" cx=\"303.708\" cy=\"391.396\" r=\"14\" fill=\"#ff0000\" fill-rule=\"evenodd\" fill-opacity=\"1\" stroke=\"#000000\" stroke-opacity=\"1\" stroke-width=\"2.4\"/>\n",
       "<circle clip-path=\"url(#clip132)\" cx=\"315.927\" cy=\"375.309\" r=\"14\" fill=\"#0000ff\" fill-rule=\"evenodd\" fill-opacity=\"1\" stroke=\"#000000\" stroke-opacity=\"1\" stroke-width=\"2.4\"/>\n",
       "<circle clip-path=\"url(#clip132)\" cx=\"306.502\" cy=\"410.224\" r=\"14\" fill=\"#0000ff\" fill-rule=\"evenodd\" fill-opacity=\"1\" stroke=\"#000000\" stroke-opacity=\"1\" stroke-width=\"2.4\"/>\n",
       "<circle clip-path=\"url(#clip132)\" cx=\"294.225\" cy=\"364.957\" r=\"14\" fill=\"#ff0000\" fill-rule=\"evenodd\" fill-opacity=\"1\" stroke=\"#000000\" stroke-opacity=\"1\" stroke-width=\"2.4\"/>\n",
       "<circle clip-path=\"url(#clip132)\" cx=\"281.483\" cy=\"361.741\" r=\"14\" fill=\"#0000ff\" fill-rule=\"evenodd\" fill-opacity=\"1\" stroke=\"#000000\" stroke-opacity=\"1\" stroke-width=\"2.4\"/>\n",
       "<circle clip-path=\"url(#clip132)\" cx=\"459.349\" cy=\"555.185\" r=\"14\" fill=\"#ff0000\" fill-rule=\"evenodd\" fill-opacity=\"1\" stroke=\"#000000\" stroke-opacity=\"1\" stroke-width=\"2.4\"/>\n",
       "<circle clip-path=\"url(#clip132)\" cx=\"473.39\" cy=\"585.998\" r=\"14\" fill=\"#0000ff\" fill-rule=\"evenodd\" fill-opacity=\"1\" stroke=\"#000000\" stroke-opacity=\"1\" stroke-width=\"2.4\"/>\n",
       "<circle clip-path=\"url(#clip132)\" cx=\"471.152\" cy=\"576.804\" r=\"14\" fill=\"#0000ff\" fill-rule=\"evenodd\" fill-opacity=\"1\" stroke=\"#000000\" stroke-opacity=\"1\" stroke-width=\"2.4\"/>\n",
       "<circle clip-path=\"url(#clip132)\" cx=\"558.336\" cy=\"838.474\" r=\"14\" fill=\"#0000ff\" fill-rule=\"evenodd\" fill-opacity=\"1\" stroke=\"#000000\" stroke-opacity=\"1\" stroke-width=\"2.4\"/>\n",
       "<circle clip-path=\"url(#clip132)\" cx=\"564.111\" cy=\"849.635\" r=\"14\" fill=\"#ff0000\" fill-rule=\"evenodd\" fill-opacity=\"1\" stroke=\"#000000\" stroke-opacity=\"1\" stroke-width=\"2.4\"/>\n",
       "<circle clip-path=\"url(#clip132)\" cx=\"544.425\" cy=\"806.625\" r=\"14\" fill=\"#ff0000\" fill-rule=\"evenodd\" fill-opacity=\"1\" stroke=\"#000000\" stroke-opacity=\"1\" stroke-width=\"2.4\"/>\n",
       "<circle clip-path=\"url(#clip132)\" cx=\"569.252\" cy=\"791.645\" r=\"14\" fill=\"#ff0000\" fill-rule=\"evenodd\" fill-opacity=\"1\" stroke=\"#000000\" stroke-opacity=\"1\" stroke-width=\"2.4\"/>\n",
       "<circle clip-path=\"url(#clip132)\" cx=\"553.966\" cy=\"769.027\" r=\"14\" fill=\"#0000ff\" fill-rule=\"evenodd\" fill-opacity=\"1\" stroke=\"#000000\" stroke-opacity=\"1\" stroke-width=\"2.4\"/>\n",
       "<circle clip-path=\"url(#clip132)\" cx=\"551.684\" cy=\"818.599\" r=\"14\" fill=\"#0000ff\" fill-rule=\"evenodd\" fill-opacity=\"1\" stroke=\"#000000\" stroke-opacity=\"1\" stroke-width=\"2.4\"/>\n",
       "<circle clip-path=\"url(#clip132)\" cx=\"557.74\" cy=\"793.902\" r=\"14\" fill=\"#0000ff\" fill-rule=\"evenodd\" fill-opacity=\"1\" stroke=\"#000000\" stroke-opacity=\"1\" stroke-width=\"2.4\"/>\n",
       "<circle clip-path=\"url(#clip132)\" cx=\"539.164\" cy=\"784.281\" r=\"14\" fill=\"#ff0000\" fill-rule=\"evenodd\" fill-opacity=\"1\" stroke=\"#000000\" stroke-opacity=\"1\" stroke-width=\"2.4\"/>\n",
       "<circle clip-path=\"url(#clip132)\" cx=\"671.409\" cy=\"872.25\" r=\"14\" fill=\"#ff0000\" fill-rule=\"evenodd\" fill-opacity=\"1\" stroke=\"#000000\" stroke-opacity=\"1\" stroke-width=\"2.4\"/>\n",
       "<circle clip-path=\"url(#clip132)\" cx=\"664.347\" cy=\"908.667\" r=\"14\" fill=\"#0000ff\" fill-rule=\"evenodd\" fill-opacity=\"1\" stroke=\"#000000\" stroke-opacity=\"1\" stroke-width=\"2.4\"/>\n",
       "<circle clip-path=\"url(#clip132)\" cx=\"669.478\" cy=\"911.836\" r=\"14\" fill=\"#ff0000\" fill-rule=\"evenodd\" fill-opacity=\"1\" stroke=\"#000000\" stroke-opacity=\"1\" stroke-width=\"2.4\"/>\n",
       "<circle clip-path=\"url(#clip132)\" cx=\"674.849\" cy=\"763.655\" r=\"14\" fill=\"#0000ff\" fill-rule=\"evenodd\" fill-opacity=\"1\" stroke=\"#000000\" stroke-opacity=\"1\" stroke-width=\"2.4\"/>\n",
       "<circle clip-path=\"url(#clip132)\" cx=\"676.795\" cy=\"733.501\" r=\"14\" fill=\"#0000ff\" fill-rule=\"evenodd\" fill-opacity=\"1\" stroke=\"#000000\" stroke-opacity=\"1\" stroke-width=\"2.4\"/>\n",
       "<circle clip-path=\"url(#clip132)\" cx=\"718.229\" cy=\"1010.44\" r=\"14\" fill=\"#0000ff\" fill-rule=\"evenodd\" fill-opacity=\"1\" stroke=\"#000000\" stroke-opacity=\"1\" stroke-width=\"2.4\"/>\n",
       "<circle clip-path=\"url(#clip132)\" cx=\"728.424\" cy=\"951.495\" r=\"14\" fill=\"#ff0000\" fill-rule=\"evenodd\" fill-opacity=\"1\" stroke=\"#000000\" stroke-opacity=\"1\" stroke-width=\"2.4\"/>\n",
       "<circle clip-path=\"url(#clip132)\" cx=\"708.331\" cy=\"997.04\" r=\"14\" fill=\"#ff0000\" fill-rule=\"evenodd\" fill-opacity=\"1\" stroke=\"#000000\" stroke-opacity=\"1\" stroke-width=\"2.4\"/>\n",
       "<circle clip-path=\"url(#clip132)\" cx=\"710.234\" cy=\"944.407\" r=\"14\" fill=\"#ff0000\" fill-rule=\"evenodd\" fill-opacity=\"1\" stroke=\"#000000\" stroke-opacity=\"1\" stroke-width=\"2.4\"/>\n",
       "<circle clip-path=\"url(#clip132)\" cx=\"737.099\" cy=\"943.58\" r=\"14\" fill=\"#0000ff\" fill-rule=\"evenodd\" fill-opacity=\"1\" stroke=\"#000000\" stroke-opacity=\"1\" stroke-width=\"2.4\"/>\n",
       "<circle clip-path=\"url(#clip132)\" cx=\"716.101\" cy=\"994.698\" r=\"14\" fill=\"#0000ff\" fill-rule=\"evenodd\" fill-opacity=\"1\" stroke=\"#000000\" stroke-opacity=\"1\" stroke-width=\"2.4\"/>\n",
       "<circle clip-path=\"url(#clip132)\" cx=\"732.995\" cy=\"977.772\" r=\"14\" fill=\"#ff0000\" fill-rule=\"evenodd\" fill-opacity=\"1\" stroke=\"#000000\" stroke-opacity=\"1\" stroke-width=\"2.4\"/>\n",
       "<circle clip-path=\"url(#clip132)\" cx=\"1269.44\" cy=\"1021.7\" r=\"14\" fill=\"#ff0000\" fill-rule=\"evenodd\" fill-opacity=\"1\" stroke=\"#000000\" stroke-opacity=\"1\" stroke-width=\"2.4\"/>\n",
       "<circle clip-path=\"url(#clip132)\" cx=\"1229.79\" cy=\"988.992\" r=\"14\" fill=\"#ff0000\" fill-rule=\"evenodd\" fill-opacity=\"1\" stroke=\"#000000\" stroke-opacity=\"1\" stroke-width=\"2.4\"/>\n",
       "<circle clip-path=\"url(#clip132)\" cx=\"1260.23\" cy=\"1049.29\" r=\"14\" fill=\"#ff0000\" fill-rule=\"evenodd\" fill-opacity=\"1\" stroke=\"#000000\" stroke-opacity=\"1\" stroke-width=\"2.4\"/>\n",
       "<circle clip-path=\"url(#clip132)\" cx=\"1241.57\" cy=\"954.615\" r=\"14\" fill=\"#0000ff\" fill-rule=\"evenodd\" fill-opacity=\"1\" stroke=\"#000000\" stroke-opacity=\"1\" stroke-width=\"2.4\"/>\n",
       "<circle clip-path=\"url(#clip132)\" cx=\"1230.09\" cy=\"971.79\" r=\"14\" fill=\"#0000ff\" fill-rule=\"evenodd\" fill-opacity=\"1\" stroke=\"#000000\" stroke-opacity=\"1\" stroke-width=\"2.4\"/>\n",
       "<circle clip-path=\"url(#clip132)\" cx=\"1240.96\" cy=\"963.119\" r=\"14\" fill=\"#0000ff\" fill-rule=\"evenodd\" fill-opacity=\"1\" stroke=\"#000000\" stroke-opacity=\"1\" stroke-width=\"2.4\"/>\n",
       "<circle clip-path=\"url(#clip132)\" cx=\"1243.4\" cy=\"982.442\" r=\"14\" fill=\"#0000ff\" fill-rule=\"evenodd\" fill-opacity=\"1\" stroke=\"#000000\" stroke-opacity=\"1\" stroke-width=\"2.4\"/>\n",
       "<circle clip-path=\"url(#clip132)\" cx=\"1246.96\" cy=\"103.42\" r=\"14\" fill=\"#ff0000\" fill-rule=\"evenodd\" fill-opacity=\"1\" stroke=\"#000000\" stroke-opacity=\"1\" stroke-width=\"2.4\"/>\n",
       "<circle clip-path=\"url(#clip132)\" cx=\"1241.14\" cy=\"175.641\" r=\"14\" fill=\"#0000ff\" fill-rule=\"evenodd\" fill-opacity=\"1\" stroke=\"#000000\" stroke-opacity=\"1\" stroke-width=\"2.4\"/>\n",
       "<circle clip-path=\"url(#clip132)\" cx=\"1497.37\" cy=\"151.327\" r=\"14\" fill=\"#0000ff\" fill-rule=\"evenodd\" fill-opacity=\"1\" stroke=\"#000000\" stroke-opacity=\"1\" stroke-width=\"2.4\"/>\n",
       "<circle clip-path=\"url(#clip132)\" cx=\"1515.75\" cy=\"114.602\" r=\"14\" fill=\"#0000ff\" fill-rule=\"evenodd\" fill-opacity=\"1\" stroke=\"#000000\" stroke-opacity=\"1\" stroke-width=\"2.4\"/>\n",
       "<circle clip-path=\"url(#clip132)\" cx=\"1502.35\" cy=\"76.8115\" r=\"14\" fill=\"#0000ff\" fill-rule=\"evenodd\" fill-opacity=\"1\" stroke=\"#000000\" stroke-opacity=\"1\" stroke-width=\"2.4\"/>\n",
       "<circle clip-path=\"url(#clip132)\" cx=\"285.658\" cy=\"339.518\" r=\"14\" fill=\"#ff0000\" fill-rule=\"evenodd\" fill-opacity=\"1\" stroke=\"#000000\" stroke-opacity=\"1\" stroke-width=\"2.4\"/>\n",
       "<circle clip-path=\"url(#clip132)\" cx=\"308.628\" cy=\"356.82\" r=\"14\" fill=\"#0000ff\" fill-rule=\"evenodd\" fill-opacity=\"1\" stroke=\"#000000\" stroke-opacity=\"1\" stroke-width=\"2.4\"/>\n",
       "<circle clip-path=\"url(#clip132)\" cx=\"301.432\" cy=\"426.336\" r=\"14\" fill=\"#0000ff\" fill-rule=\"evenodd\" fill-opacity=\"1\" stroke=\"#000000\" stroke-opacity=\"1\" stroke-width=\"2.4\"/>\n",
       "<circle clip-path=\"url(#clip132)\" cx=\"312.283\" cy=\"412.977\" r=\"14\" fill=\"#ff0000\" fill-rule=\"evenodd\" fill-opacity=\"1\" stroke=\"#000000\" stroke-opacity=\"1\" stroke-width=\"2.4\"/>\n",
       "<circle clip-path=\"url(#clip132)\" cx=\"293.757\" cy=\"357.779\" r=\"14\" fill=\"#0000ff\" fill-rule=\"evenodd\" fill-opacity=\"1\" stroke=\"#000000\" stroke-opacity=\"1\" stroke-width=\"2.4\"/>\n",
       "<circle clip-path=\"url(#clip132)\" cx=\"451.324\" cy=\"577.286\" r=\"14\" fill=\"#ff0000\" fill-rule=\"evenodd\" fill-opacity=\"1\" stroke=\"#000000\" stroke-opacity=\"1\" stroke-width=\"2.4\"/>\n",
       "<circle clip-path=\"url(#clip132)\" cx=\"479.65\" cy=\"533.64\" r=\"14\" fill=\"#0000ff\" fill-rule=\"evenodd\" fill-opacity=\"1\" stroke=\"#000000\" stroke-opacity=\"1\" stroke-width=\"2.4\"/>\n",
       "<circle clip-path=\"url(#clip132)\" cx=\"450.693\" cy=\"517.504\" r=\"14\" fill=\"#0000ff\" fill-rule=\"evenodd\" fill-opacity=\"1\" stroke=\"#000000\" stroke-opacity=\"1\" stroke-width=\"2.4\"/>\n",
       "<circle clip-path=\"url(#clip132)\" cx=\"527.355\" cy=\"847.717\" r=\"14\" fill=\"#0000ff\" fill-rule=\"evenodd\" fill-opacity=\"1\" stroke=\"#000000\" stroke-opacity=\"1\" stroke-width=\"2.4\"/>\n",
       "<circle clip-path=\"url(#clip132)\" cx=\"542.568\" cy=\"759.544\" r=\"14\" fill=\"#ff0000\" fill-rule=\"evenodd\" fill-opacity=\"1\" stroke=\"#000000\" stroke-opacity=\"1\" stroke-width=\"2.4\"/>\n",
       "<circle clip-path=\"url(#clip132)\" cx=\"578.035\" cy=\"822.236\" r=\"14\" fill=\"#ff0000\" fill-rule=\"evenodd\" fill-opacity=\"1\" stroke=\"#000000\" stroke-opacity=\"1\" stroke-width=\"2.4\"/>\n",
       "<circle clip-path=\"url(#clip132)\" cx=\"548.421\" cy=\"838.222\" r=\"14\" fill=\"#ff0000\" fill-rule=\"evenodd\" fill-opacity=\"1\" stroke=\"#000000\" stroke-opacity=\"1\" stroke-width=\"2.4\"/>\n",
       "<circle clip-path=\"url(#clip132)\" cx=\"570.613\" cy=\"771.804\" r=\"14\" fill=\"#0000ff\" fill-rule=\"evenodd\" fill-opacity=\"1\" stroke=\"#000000\" stroke-opacity=\"1\" stroke-width=\"2.4\"/>\n",
       "<circle clip-path=\"url(#clip132)\" cx=\"572.975\" cy=\"812.165\" r=\"14\" fill=\"#0000ff\" fill-rule=\"evenodd\" fill-opacity=\"1\" stroke=\"#000000\" stroke-opacity=\"1\" stroke-width=\"2.4\"/>\n",
       "<circle clip-path=\"url(#clip132)\" cx=\"562.173\" cy=\"808.921\" r=\"14\" fill=\"#0000ff\" fill-rule=\"evenodd\" fill-opacity=\"1\" stroke=\"#000000\" stroke-opacity=\"1\" stroke-width=\"2.4\"/>\n",
       "<circle clip-path=\"url(#clip132)\" cx=\"564.922\" cy=\"828.3\" r=\"14\" fill=\"#ff0000\" fill-rule=\"evenodd\" fill-opacity=\"1\" stroke=\"#000000\" stroke-opacity=\"1\" stroke-width=\"2.4\"/>\n",
       "<circle clip-path=\"url(#clip132)\" cx=\"681.884\" cy=\"881.909\" r=\"14\" fill=\"#ff0000\" fill-rule=\"evenodd\" fill-opacity=\"1\" stroke=\"#000000\" stroke-opacity=\"1\" stroke-width=\"2.4\"/>\n",
       "<circle clip-path=\"url(#clip132)\" cx=\"671.368\" cy=\"866.294\" r=\"14\" fill=\"#0000ff\" fill-rule=\"evenodd\" fill-opacity=\"1\" stroke=\"#000000\" stroke-opacity=\"1\" stroke-width=\"2.4\"/>\n",
       "<circle clip-path=\"url(#clip132)\" cx=\"675.199\" cy=\"869.824\" r=\"14\" fill=\"#ff0000\" fill-rule=\"evenodd\" fill-opacity=\"1\" stroke=\"#000000\" stroke-opacity=\"1\" stroke-width=\"2.4\"/>\n",
       "<circle clip-path=\"url(#clip132)\" cx=\"662.774\" cy=\"679.47\" r=\"14\" fill=\"#0000ff\" fill-rule=\"evenodd\" fill-opacity=\"1\" stroke=\"#000000\" stroke-opacity=\"1\" stroke-width=\"2.4\"/>\n",
       "<circle clip-path=\"url(#clip132)\" cx=\"643.259\" cy=\"722.263\" r=\"14\" fill=\"#0000ff\" fill-rule=\"evenodd\" fill-opacity=\"1\" stroke=\"#000000\" stroke-opacity=\"1\" stroke-width=\"2.4\"/>\n",
       "<circle clip-path=\"url(#clip132)\" cx=\"722.35\" cy=\"982.975\" r=\"14\" fill=\"#0000ff\" fill-rule=\"evenodd\" fill-opacity=\"1\" stroke=\"#000000\" stroke-opacity=\"1\" stroke-width=\"2.4\"/>\n",
       "<circle clip-path=\"url(#clip132)\" cx=\"703.426\" cy=\"912.9\" r=\"14\" fill=\"#ff0000\" fill-rule=\"evenodd\" fill-opacity=\"1\" stroke=\"#000000\" stroke-opacity=\"1\" stroke-width=\"2.4\"/>\n",
       "<circle clip-path=\"url(#clip132)\" cx=\"724.471\" cy=\"984.25\" r=\"14\" fill=\"#ff0000\" fill-rule=\"evenodd\" fill-opacity=\"1\" stroke=\"#000000\" stroke-opacity=\"1\" stroke-width=\"2.4\"/>\n",
       "<circle clip-path=\"url(#clip132)\" cx=\"722.939\" cy=\"1041.82\" r=\"14\" fill=\"#ff0000\" fill-rule=\"evenodd\" fill-opacity=\"1\" stroke=\"#000000\" stroke-opacity=\"1\" stroke-width=\"2.4\"/>\n",
       "<circle clip-path=\"url(#clip132)\" cx=\"698.413\" cy=\"993.955\" r=\"14\" fill=\"#0000ff\" fill-rule=\"evenodd\" fill-opacity=\"1\" stroke=\"#000000\" stroke-opacity=\"1\" stroke-width=\"2.4\"/>\n",
       "<circle clip-path=\"url(#clip132)\" cx=\"712.378\" cy=\"996.543\" r=\"14\" fill=\"#0000ff\" fill-rule=\"evenodd\" fill-opacity=\"1\" stroke=\"#000000\" stroke-opacity=\"1\" stroke-width=\"2.4\"/>\n",
       "<circle clip-path=\"url(#clip132)\" cx=\"713.431\" cy=\"997.348\" r=\"14\" fill=\"#ff0000\" fill-rule=\"evenodd\" fill-opacity=\"1\" stroke=\"#000000\" stroke-opacity=\"1\" stroke-width=\"2.4\"/>\n",
       "<circle clip-path=\"url(#clip132)\" cx=\"1248.41\" cy=\"1030.57\" r=\"14\" fill=\"#ff0000\" fill-rule=\"evenodd\" fill-opacity=\"1\" stroke=\"#000000\" stroke-opacity=\"1\" stroke-width=\"2.4\"/>\n",
       "<circle clip-path=\"url(#clip132)\" cx=\"1258.1\" cy=\"1004.37\" r=\"14\" fill=\"#ff0000\" fill-rule=\"evenodd\" fill-opacity=\"1\" stroke=\"#000000\" stroke-opacity=\"1\" stroke-width=\"2.4\"/>\n",
       "<circle clip-path=\"url(#clip132)\" cx=\"1230.47\" cy=\"990.073\" r=\"14\" fill=\"#ff0000\" fill-rule=\"evenodd\" fill-opacity=\"1\" stroke=\"#000000\" stroke-opacity=\"1\" stroke-width=\"2.4\"/>\n",
       "<circle clip-path=\"url(#clip132)\" cx=\"1244.44\" cy=\"981.369\" r=\"14\" fill=\"#0000ff\" fill-rule=\"evenodd\" fill-opacity=\"1\" stroke=\"#000000\" stroke-opacity=\"1\" stroke-width=\"2.4\"/>\n",
       "<circle clip-path=\"url(#clip132)\" cx=\"1217.34\" cy=\"1008.74\" r=\"14\" fill=\"#0000ff\" fill-rule=\"evenodd\" fill-opacity=\"1\" stroke=\"#000000\" stroke-opacity=\"1\" stroke-width=\"2.4\"/>\n",
       "<circle clip-path=\"url(#clip132)\" cx=\"1217.75\" cy=\"964.657\" r=\"14\" fill=\"#0000ff\" fill-rule=\"evenodd\" fill-opacity=\"1\" stroke=\"#000000\" stroke-opacity=\"1\" stroke-width=\"2.4\"/>\n",
       "<circle clip-path=\"url(#clip132)\" cx=\"1250.73\" cy=\"986.755\" r=\"14\" fill=\"#0000ff\" fill-rule=\"evenodd\" fill-opacity=\"1\" stroke=\"#000000\" stroke-opacity=\"1\" stroke-width=\"2.4\"/>\n",
       "<circle clip-path=\"url(#clip132)\" cx=\"1276.47\" cy=\"159.824\" r=\"14\" fill=\"#ff0000\" fill-rule=\"evenodd\" fill-opacity=\"1\" stroke=\"#000000\" stroke-opacity=\"1\" stroke-width=\"2.4\"/>\n",
       "<circle clip-path=\"url(#clip132)\" cx=\"1243.47\" cy=\"136.617\" r=\"14\" fill=\"#0000ff\" fill-rule=\"evenodd\" fill-opacity=\"1\" stroke=\"#000000\" stroke-opacity=\"1\" stroke-width=\"2.4\"/>\n",
       "<circle clip-path=\"url(#clip132)\" cx=\"1536.2\" cy=\"148.639\" r=\"14\" fill=\"#0000ff\" fill-rule=\"evenodd\" fill-opacity=\"1\" stroke=\"#000000\" stroke-opacity=\"1\" stroke-width=\"2.4\"/>\n",
       "<circle clip-path=\"url(#clip132)\" cx=\"1493.2\" cy=\"138.623\" r=\"14\" fill=\"#0000ff\" fill-rule=\"evenodd\" fill-opacity=\"1\" stroke=\"#000000\" stroke-opacity=\"1\" stroke-width=\"2.4\"/>\n",
       "<circle clip-path=\"url(#clip132)\" cx=\"1521.66\" cy=\"164.619\" r=\"14\" fill=\"#0000ff\" fill-rule=\"evenodd\" fill-opacity=\"1\" stroke=\"#000000\" stroke-opacity=\"1\" stroke-width=\"2.4\"/>\n",
       "<path clip-path=\"url(#clip130)\" d=\"\n",
       "M1864.92 1078.48 L3194.92 1078.48 L3194.92 47.2441 L1864.92 47.2441  Z\n",
       "  \" fill=\"#ffffff\" fill-rule=\"evenodd\" fill-opacity=\"1\"/>\n",
       "<defs>\n",
       "  <clipPath id=\"clip133\">\n",
       "    <rect x=\"1864\" y=\"47\" width=\"1331\" height=\"1032\"/>\n",
       "  </clipPath>\n",
       "</defs>\n",
       "<polyline clip-path=\"url(#clip133)\" style=\"stroke:#000000; stroke-linecap:butt; stroke-linejoin:round; stroke-width:2; stroke-opacity:0.1; fill:none\" points=\"\n",
       "  2077.99,1078.48 2077.99,47.2441 \n",
       "  \"/>\n",
       "<polyline clip-path=\"url(#clip133)\" style=\"stroke:#000000; stroke-linecap:butt; stroke-linejoin:round; stroke-width:2; stroke-opacity:0.1; fill:none\" points=\"\n",
       "  2341,1078.48 2341,47.2441 \n",
       "  \"/>\n",
       "<polyline clip-path=\"url(#clip133)\" style=\"stroke:#000000; stroke-linecap:butt; stroke-linejoin:round; stroke-width:2; stroke-opacity:0.1; fill:none\" points=\"\n",
       "  2604.01,1078.48 2604.01,47.2441 \n",
       "  \"/>\n",
       "<polyline clip-path=\"url(#clip133)\" style=\"stroke:#000000; stroke-linecap:butt; stroke-linejoin:round; stroke-width:2; stroke-opacity:0.1; fill:none\" points=\"\n",
       "  2867.03,1078.48 2867.03,47.2441 \n",
       "  \"/>\n",
       "<polyline clip-path=\"url(#clip133)\" style=\"stroke:#000000; stroke-linecap:butt; stroke-linejoin:round; stroke-width:2; stroke-opacity:0.1; fill:none\" points=\"\n",
       "  3130.04,1078.48 3130.04,47.2441 \n",
       "  \"/>\n",
       "<polyline clip-path=\"url(#clip130)\" style=\"stroke:#000000; stroke-linecap:butt; stroke-linejoin:round; stroke-width:4; stroke-opacity:1; fill:none\" points=\"\n",
       "  1864.92,1078.48 3194.92,1078.48 \n",
       "  \"/>\n",
       "<polyline clip-path=\"url(#clip130)\" style=\"stroke:#000000; stroke-linecap:butt; stroke-linejoin:round; stroke-width:4; stroke-opacity:1; fill:none\" points=\"\n",
       "  2077.99,1078.48 2077.99,1059.58 \n",
       "  \"/>\n",
       "<polyline clip-path=\"url(#clip130)\" style=\"stroke:#000000; stroke-linecap:butt; stroke-linejoin:round; stroke-width:4; stroke-opacity:1; fill:none\" points=\"\n",
       "  2341,1078.48 2341,1059.58 \n",
       "  \"/>\n",
       "<polyline clip-path=\"url(#clip130)\" style=\"stroke:#000000; stroke-linecap:butt; stroke-linejoin:round; stroke-width:4; stroke-opacity:1; fill:none\" points=\"\n",
       "  2604.01,1078.48 2604.01,1059.58 \n",
       "  \"/>\n",
       "<polyline clip-path=\"url(#clip130)\" style=\"stroke:#000000; stroke-linecap:butt; stroke-linejoin:round; stroke-width:4; stroke-opacity:1; fill:none\" points=\"\n",
       "  2867.03,1078.48 2867.03,1059.58 \n",
       "  \"/>\n",
       "<polyline clip-path=\"url(#clip130)\" style=\"stroke:#000000; stroke-linecap:butt; stroke-linejoin:round; stroke-width:4; stroke-opacity:1; fill:none\" points=\"\n",
       "  3130.04,1078.48 3130.04,1059.58 \n",
       "  \"/>\n",
       "<path clip-path=\"url(#clip130)\" d=\"M2055.87 1126.87 Q2052.26 1126.87 2050.43 1130.44 Q2048.63 1133.98 2048.63 1141.11 Q2048.63 1148.21 2050.43 1151.78 Q2052.26 1155.32 2055.87 1155.32 Q2059.51 1155.32 2061.31 1151.78 Q2063.14 1148.21 2063.14 1141.11 Q2063.14 1133.98 2061.31 1130.44 Q2059.51 1126.87 2055.87 1126.87 M2055.87 1123.17 Q2061.68 1123.17 2064.74 1127.77 Q2067.82 1132.36 2067.82 1141.11 Q2067.82 1149.83 2064.74 1154.44 Q2061.68 1159.02 2055.87 1159.02 Q2050.06 1159.02 2046.98 1154.44 Q2043.93 1149.83 2043.93 1141.11 Q2043.93 1132.36 2046.98 1127.77 Q2050.06 1123.17 2055.87 1123.17 Z\" fill=\"#000000\" fill-rule=\"evenodd\" fill-opacity=\"1\" /><path clip-path=\"url(#clip130)\" d=\"M2076.03 1152.47 L2080.92 1152.47 L2080.92 1158.35 L2076.03 1158.35 L2076.03 1152.47 Z\" fill=\"#000000\" fill-rule=\"evenodd\" fill-opacity=\"1\" /><path clip-path=\"url(#clip130)\" d=\"M2091.15 1123.79 L2109.51 1123.79 L2109.51 1127.73 L2095.43 1127.73 L2095.43 1136.2 Q2096.45 1135.85 2097.47 1135.69 Q2098.49 1135.5 2099.51 1135.5 Q2105.29 1135.5 2108.67 1138.68 Q2112.05 1141.85 2112.05 1147.26 Q2112.05 1152.84 2108.58 1155.94 Q2105.11 1159.02 2098.79 1159.02 Q2096.61 1159.02 2094.34 1158.65 Q2092.1 1158.28 2089.69 1157.54 L2089.69 1152.84 Q2091.77 1153.98 2094 1154.53 Q2096.22 1155.09 2098.7 1155.09 Q2102.7 1155.09 2105.04 1152.98 Q2107.38 1150.88 2107.38 1147.26 Q2107.38 1143.65 2105.04 1141.55 Q2102.7 1139.44 2098.7 1139.44 Q2096.82 1139.44 2094.95 1139.86 Q2093.09 1140.27 2091.15 1141.15 L2091.15 1123.79 Z\" fill=\"#000000\" fill-rule=\"evenodd\" fill-opacity=\"1\" /><path clip-path=\"url(#clip130)\" d=\"M2308.15 1154.42 L2315.79 1154.42 L2315.79 1128.05 L2307.48 1129.72 L2307.48 1125.46 L2315.75 1123.79 L2320.42 1123.79 L2320.42 1154.42 L2328.06 1154.42 L2328.06 1158.35 L2308.15 1158.35 L2308.15 1154.42 Z\" fill=\"#000000\" fill-rule=\"evenodd\" fill-opacity=\"1\" /><path clip-path=\"url(#clip130)\" d=\"M2337.51 1152.47 L2342.39 1152.47 L2342.39 1158.35 L2337.51 1158.35 L2337.51 1152.47 Z\" fill=\"#000000\" fill-rule=\"evenodd\" fill-opacity=\"1\" /><path clip-path=\"url(#clip130)\" d=\"M2362.58 1126.87 Q2358.96 1126.87 2357.14 1130.44 Q2355.33 1133.98 2355.33 1141.11 Q2355.33 1148.21 2357.14 1151.78 Q2358.96 1155.32 2362.58 1155.32 Q2366.21 1155.32 2368.02 1151.78 Q2369.84 1148.21 2369.84 1141.11 Q2369.84 1133.98 2368.02 1130.44 Q2366.21 1126.87 2362.58 1126.87 M2362.58 1123.17 Q2368.39 1123.17 2371.44 1127.77 Q2374.52 1132.36 2374.52 1141.11 Q2374.52 1149.83 2371.44 1154.44 Q2368.39 1159.02 2362.58 1159.02 Q2356.77 1159.02 2353.69 1154.44 Q2350.63 1149.83 2350.63 1141.11 Q2350.63 1132.36 2353.69 1127.77 Q2356.77 1123.17 2362.58 1123.17 Z\" fill=\"#000000\" fill-rule=\"evenodd\" fill-opacity=\"1\" /><path clip-path=\"url(#clip130)\" d=\"M2571.67 1154.42 L2579.3 1154.42 L2579.3 1128.05 L2570.99 1129.72 L2570.99 1125.46 L2579.26 1123.79 L2583.93 1123.79 L2583.93 1154.42 L2591.57 1154.42 L2591.57 1158.35 L2571.67 1158.35 L2571.67 1154.42 Z\" fill=\"#000000\" fill-rule=\"evenodd\" fill-opacity=\"1\" /><path clip-path=\"url(#clip130)\" d=\"M2601.02 1152.47 L2605.9 1152.47 L2605.9 1158.35 L2601.02 1158.35 L2601.02 1152.47 Z\" fill=\"#000000\" fill-rule=\"evenodd\" fill-opacity=\"1\" /><path clip-path=\"url(#clip130)\" d=\"M2616.13 1123.79 L2634.49 1123.79 L2634.49 1127.73 L2620.41 1127.73 L2620.41 1136.2 Q2621.43 1135.85 2622.45 1135.69 Q2623.47 1135.5 2624.49 1135.5 Q2630.28 1135.5 2633.66 1138.68 Q2637.04 1141.85 2637.04 1147.26 Q2637.04 1152.84 2633.56 1155.94 Q2630.09 1159.02 2623.77 1159.02 Q2621.6 1159.02 2619.33 1158.65 Q2617.08 1158.28 2614.67 1157.54 L2614.67 1152.84 Q2616.76 1153.98 2618.98 1154.53 Q2621.2 1155.09 2623.68 1155.09 Q2627.68 1155.09 2630.02 1152.98 Q2632.36 1150.88 2632.36 1147.26 Q2632.36 1143.65 2630.02 1141.55 Q2627.68 1139.44 2623.68 1139.44 Q2621.8 1139.44 2619.93 1139.86 Q2618.08 1140.27 2616.13 1141.15 L2616.13 1123.79 Z\" fill=\"#000000\" fill-rule=\"evenodd\" fill-opacity=\"1\" /><path clip-path=\"url(#clip130)\" d=\"M2838.27 1154.42 L2854.59 1154.42 L2854.59 1158.35 L2832.64 1158.35 L2832.64 1154.42 Q2835.3 1151.66 2839.89 1147.03 Q2844.49 1142.38 2845.67 1141.04 Q2847.92 1138.51 2848.8 1136.78 Q2849.7 1135.02 2849.7 1133.33 Q2849.7 1130.57 2847.76 1128.84 Q2845.84 1127.1 2842.73 1127.1 Q2840.53 1127.1 2838.08 1127.87 Q2835.65 1128.63 2832.87 1130.18 L2832.87 1125.46 Q2835.7 1124.32 2838.15 1123.75 Q2840.6 1123.17 2842.64 1123.17 Q2848.01 1123.17 2851.21 1125.85 Q2854.4 1128.54 2854.4 1133.03 Q2854.4 1135.16 2853.59 1137.08 Q2852.8 1138.98 2850.7 1141.57 Q2850.12 1142.24 2847.02 1145.46 Q2843.91 1148.65 2838.27 1154.42 Z\" fill=\"#000000\" fill-rule=\"evenodd\" fill-opacity=\"1\" /><path clip-path=\"url(#clip130)\" d=\"M2864.4 1152.47 L2869.28 1152.47 L2869.28 1158.35 L2864.4 1158.35 L2864.4 1152.47 Z\" fill=\"#000000\" fill-rule=\"evenodd\" fill-opacity=\"1\" /><path clip-path=\"url(#clip130)\" d=\"M2889.47 1126.87 Q2885.86 1126.87 2884.03 1130.44 Q2882.22 1133.98 2882.22 1141.11 Q2882.22 1148.21 2884.03 1151.78 Q2885.86 1155.32 2889.47 1155.32 Q2893.1 1155.32 2894.91 1151.78 Q2896.74 1148.21 2896.74 1141.11 Q2896.74 1133.98 2894.91 1130.44 Q2893.1 1126.87 2889.47 1126.87 M2889.47 1123.17 Q2895.28 1123.17 2898.34 1127.77 Q2901.41 1132.36 2901.41 1141.11 Q2901.41 1149.83 2898.34 1154.44 Q2895.28 1159.02 2889.47 1159.02 Q2883.66 1159.02 2880.58 1154.44 Q2877.52 1149.83 2877.52 1141.11 Q2877.52 1132.36 2880.58 1127.77 Q2883.66 1123.17 2889.47 1123.17 Z\" fill=\"#000000\" fill-rule=\"evenodd\" fill-opacity=\"1\" /><path clip-path=\"url(#clip130)\" d=\"M3101.78 1154.42 L3118.1 1154.42 L3118.1 1158.35 L3096.15 1158.35 L3096.15 1154.42 Q3098.81 1151.66 3103.4 1147.03 Q3108 1142.38 3109.18 1141.04 Q3111.43 1138.51 3112.31 1136.78 Q3113.21 1135.02 3113.21 1133.33 Q3113.21 1130.57 3111.27 1128.84 Q3109.35 1127.1 3106.24 1127.1 Q3104.04 1127.1 3101.59 1127.87 Q3099.16 1128.63 3096.38 1130.18 L3096.38 1125.46 Q3099.21 1124.32 3101.66 1123.75 Q3104.11 1123.17 3106.15 1123.17 Q3111.52 1123.17 3114.72 1125.85 Q3117.91 1128.54 3117.91 1133.03 Q3117.91 1135.16 3117.1 1137.08 Q3116.31 1138.98 3114.21 1141.57 Q3113.63 1142.24 3110.53 1145.46 Q3107.42 1148.65 3101.78 1154.42 Z\" fill=\"#000000\" fill-rule=\"evenodd\" fill-opacity=\"1\" /><path clip-path=\"url(#clip130)\" d=\"M3127.91 1152.47 L3132.79 1152.47 L3132.79 1158.35 L3127.91 1158.35 L3127.91 1152.47 Z\" fill=\"#000000\" fill-rule=\"evenodd\" fill-opacity=\"1\" /><path clip-path=\"url(#clip130)\" d=\"M3143.03 1123.79 L3161.38 1123.79 L3161.38 1127.73 L3147.31 1127.73 L3147.31 1136.2 Q3148.33 1135.85 3149.35 1135.69 Q3150.36 1135.5 3151.38 1135.5 Q3157.17 1135.5 3160.55 1138.68 Q3163.93 1141.85 3163.93 1147.26 Q3163.93 1152.84 3160.46 1155.94 Q3156.98 1159.02 3150.66 1159.02 Q3148.49 1159.02 3146.22 1158.65 Q3143.98 1158.28 3141.57 1157.54 L3141.57 1152.84 Q3143.65 1153.98 3145.87 1154.53 Q3148.1 1155.09 3150.57 1155.09 Q3154.58 1155.09 3156.91 1152.98 Q3159.25 1150.88 3159.25 1147.26 Q3159.25 1143.65 3156.91 1141.55 Q3154.58 1139.44 3150.57 1139.44 Q3148.7 1139.44 3146.82 1139.86 Q3144.97 1140.27 3143.03 1141.15 L3143.03 1123.79 Z\" fill=\"#000000\" fill-rule=\"evenodd\" fill-opacity=\"1\" /><path clip-path=\"url(#clip130)\" d=\"M2459.26 1241.11 Q2459.26 1234.74 2456.62 1231.24 Q2454.01 1227.74 2449.27 1227.74 Q2444.56 1227.74 2441.91 1231.24 Q2439.31 1234.74 2439.31 1241.11 Q2439.31 1247.44 2441.91 1250.94 Q2444.56 1254.44 2449.27 1254.44 Q2454.01 1254.44 2456.62 1250.94 Q2459.26 1247.44 2459.26 1241.11 M2465.12 1254.92 Q2465.12 1264.02 2461.08 1268.45 Q2457.03 1272.9 2448.69 1272.9 Q2445.61 1272.9 2442.87 1272.43 Q2440.13 1271.98 2437.55 1271.02 L2437.55 1265.33 Q2440.13 1266.73 2442.65 1267.4 Q2445.16 1268.06 2447.77 1268.06 Q2453.53 1268.06 2456.4 1265.04 Q2459.26 1262.05 2459.26 1255.97 L2459.26 1253.07 Q2457.45 1256.22 2454.61 1257.78 Q2451.78 1259.34 2447.84 1259.34 Q2441.28 1259.34 2437.27 1254.35 Q2433.26 1249.35 2433.26 1241.11 Q2433.26 1232.83 2437.27 1227.83 Q2441.28 1222.84 2447.84 1222.84 Q2451.78 1222.84 2454.61 1224.4 Q2457.45 1225.96 2459.26 1229.11 L2459.26 1223.7 L2465.12 1223.7 L2465.12 1254.92 Z\" fill=\"#000000\" fill-rule=\"evenodd\" fill-opacity=\"1\" /><path clip-path=\"url(#clip130)\" d=\"M2493.38 1241.42 Q2486.28 1241.42 2483.55 1243.05 Q2480.81 1244.67 2480.81 1248.59 Q2480.81 1251.7 2482.85 1253.55 Q2484.92 1255.37 2488.45 1255.37 Q2493.32 1255.37 2496.25 1251.93 Q2499.21 1248.46 2499.21 1242.73 L2499.21 1241.42 L2493.38 1241.42 M2505.06 1239.01 L2505.06 1259.34 L2499.21 1259.34 L2499.21 1253.93 Q2497.2 1257.18 2494.21 1258.74 Q2491.22 1260.27 2486.89 1260.27 Q2481.41 1260.27 2478.17 1257.21 Q2474.95 1254.12 2474.95 1248.97 Q2474.95 1242.95 2478.96 1239.9 Q2483.01 1236.84 2490.99 1236.84 L2499.21 1236.84 L2499.21 1236.27 Q2499.21 1232.23 2496.53 1230.03 Q2493.89 1227.8 2489.08 1227.8 Q2486.03 1227.8 2483.13 1228.53 Q2480.24 1229.27 2477.56 1230.73 L2477.56 1225.32 Q2480.78 1224.08 2483.8 1223.47 Q2486.83 1222.84 2489.69 1222.84 Q2497.42 1222.84 2501.24 1226.85 Q2505.06 1230.86 2505.06 1239.01 Z\" fill=\"#000000\" fill-rule=\"evenodd\" fill-opacity=\"1\" /><path clip-path=\"url(#clip130)\" d=\"M2517.13 1223.7 L2522.98 1223.7 L2522.98 1259.34 L2517.13 1259.34 L2517.13 1223.7 M2517.13 1209.82 L2522.98 1209.82 L2522.98 1217.23 L2517.13 1217.23 L2517.13 1209.82 Z\" fill=\"#000000\" fill-rule=\"evenodd\" fill-opacity=\"1\" /><path clip-path=\"url(#clip130)\" d=\"M2564.87 1237.83 L2564.87 1259.34 L2559.01 1259.34 L2559.01 1238.02 Q2559.01 1232.96 2557.04 1230.44 Q2555.07 1227.93 2551.12 1227.93 Q2546.38 1227.93 2543.64 1230.95 Q2540.9 1233.98 2540.9 1239.2 L2540.9 1259.34 L2535.01 1259.34 L2535.01 1223.7 L2540.9 1223.7 L2540.9 1229.23 Q2543 1226.02 2545.84 1224.43 Q2548.7 1222.84 2552.42 1222.84 Q2558.57 1222.84 2561.72 1226.66 Q2564.87 1230.44 2564.87 1237.83 Z\" fill=\"#000000\" fill-rule=\"evenodd\" fill-opacity=\"1\" /><path clip-path=\"url(#clip130)\" d=\"M2599.21 1253.93 L2609.72 1253.93 L2609.72 1217.68 L2598.29 1219.97 L2598.29 1214.12 L2609.65 1211.82 L2616.08 1211.82 L2616.08 1253.93 L2626.58 1253.93 L2626.58 1259.34 L2599.21 1259.34 L2599.21 1253.93 Z\" fill=\"#000000\" fill-rule=\"evenodd\" fill-opacity=\"1\" /><polyline clip-path=\"url(#clip133)\" style=\"stroke:#000000; stroke-linecap:butt; stroke-linejoin:round; stroke-width:2; stroke-opacity:0.1; fill:none\" points=\"\n",
       "  1864.92,982.114 3194.92,982.114 \n",
       "  \"/>\n",
       "<polyline clip-path=\"url(#clip133)\" style=\"stroke:#000000; stroke-linecap:butt; stroke-linejoin:round; stroke-width:2; stroke-opacity:0.1; fill:none\" points=\"\n",
       "  1864.92,770.005 3194.92,770.005 \n",
       "  \"/>\n",
       "<polyline clip-path=\"url(#clip133)\" style=\"stroke:#000000; stroke-linecap:butt; stroke-linejoin:round; stroke-width:2; stroke-opacity:0.1; fill:none\" points=\"\n",
       "  1864.92,557.895 3194.92,557.895 \n",
       "  \"/>\n",
       "<polyline clip-path=\"url(#clip133)\" style=\"stroke:#000000; stroke-linecap:butt; stroke-linejoin:round; stroke-width:2; stroke-opacity:0.1; fill:none\" points=\"\n",
       "  1864.92,345.785 3194.92,345.785 \n",
       "  \"/>\n",
       "<polyline clip-path=\"url(#clip133)\" style=\"stroke:#000000; stroke-linecap:butt; stroke-linejoin:round; stroke-width:2; stroke-opacity:0.1; fill:none\" points=\"\n",
       "  1864.92,133.675 3194.92,133.675 \n",
       "  \"/>\n",
       "<polyline clip-path=\"url(#clip130)\" style=\"stroke:#000000; stroke-linecap:butt; stroke-linejoin:round; stroke-width:4; stroke-opacity:1; fill:none\" points=\"\n",
       "  1864.92,1078.48 1864.92,47.2441 \n",
       "  \"/>\n",
       "<polyline clip-path=\"url(#clip130)\" style=\"stroke:#000000; stroke-linecap:butt; stroke-linejoin:round; stroke-width:4; stroke-opacity:1; fill:none\" points=\"\n",
       "  1864.92,982.114 1883.82,982.114 \n",
       "  \"/>\n",
       "<polyline clip-path=\"url(#clip130)\" style=\"stroke:#000000; stroke-linecap:butt; stroke-linejoin:round; stroke-width:4; stroke-opacity:1; fill:none\" points=\"\n",
       "  1864.92,770.005 1883.82,770.005 \n",
       "  \"/>\n",
       "<polyline clip-path=\"url(#clip130)\" style=\"stroke:#000000; stroke-linecap:butt; stroke-linejoin:round; stroke-width:4; stroke-opacity:1; fill:none\" points=\"\n",
       "  1864.92,557.895 1883.82,557.895 \n",
       "  \"/>\n",
       "<polyline clip-path=\"url(#clip130)\" style=\"stroke:#000000; stroke-linecap:butt; stroke-linejoin:round; stroke-width:4; stroke-opacity:1; fill:none\" points=\"\n",
       "  1864.92,345.785 1883.82,345.785 \n",
       "  \"/>\n",
       "<polyline clip-path=\"url(#clip130)\" style=\"stroke:#000000; stroke-linecap:butt; stroke-linejoin:round; stroke-width:4; stroke-opacity:1; fill:none\" points=\"\n",
       "  1864.92,133.675 1883.82,133.675 \n",
       "  \"/>\n",
       "<path clip-path=\"url(#clip130)\" d=\"M1705.59 967.913 Q1701.97 967.913 1700.15 971.478 Q1698.34 975.02 1698.34 982.149 Q1698.34 989.256 1700.15 992.82 Q1701.97 996.362 1705.59 996.362 Q1709.22 996.362 1711.03 992.82 Q1712.85 989.256 1712.85 982.149 Q1712.85 975.02 1711.03 971.478 Q1709.22 967.913 1705.59 967.913 M1705.59 964.209 Q1711.4 964.209 1714.45 968.816 Q1717.53 973.399 1717.53 982.149 Q1717.53 990.876 1714.45 995.482 Q1711.4 1000.07 1705.59 1000.07 Q1699.78 1000.07 1696.7 995.482 Q1693.64 990.876 1693.64 982.149 Q1693.64 973.399 1696.7 968.816 Q1699.78 964.209 1705.59 964.209 Z\" fill=\"#000000\" fill-rule=\"evenodd\" fill-opacity=\"1\" /><path clip-path=\"url(#clip130)\" d=\"M1725.75 993.515 L1730.63 993.515 L1730.63 999.394 L1725.75 999.394 L1725.75 993.515 Z\" fill=\"#000000\" fill-rule=\"evenodd\" fill-opacity=\"1\" /><path clip-path=\"url(#clip130)\" d=\"M1750.82 967.913 Q1747.21 967.913 1745.38 971.478 Q1743.57 975.02 1743.57 982.149 Q1743.57 989.256 1745.38 992.82 Q1747.21 996.362 1750.82 996.362 Q1754.45 996.362 1756.26 992.82 Q1758.09 989.256 1758.09 982.149 Q1758.09 975.02 1756.26 971.478 Q1754.45 967.913 1750.82 967.913 M1750.82 964.209 Q1756.63 964.209 1759.68 968.816 Q1762.76 973.399 1762.76 982.149 Q1762.76 990.876 1759.68 995.482 Q1756.63 1000.07 1750.82 1000.07 Q1745.01 1000.07 1741.93 995.482 Q1738.87 990.876 1738.87 982.149 Q1738.87 973.399 1741.93 968.816 Q1745.01 964.209 1750.82 964.209 Z\" fill=\"#000000\" fill-rule=\"evenodd\" fill-opacity=\"1\" /><path clip-path=\"url(#clip130)\" d=\"M1780.98 967.913 Q1777.37 967.913 1775.54 971.478 Q1773.73 975.02 1773.73 982.149 Q1773.73 989.256 1775.54 992.82 Q1777.37 996.362 1780.98 996.362 Q1784.61 996.362 1786.42 992.82 Q1788.25 989.256 1788.25 982.149 Q1788.25 975.02 1786.42 971.478 Q1784.61 967.913 1780.98 967.913 M1780.98 964.209 Q1786.79 964.209 1789.84 968.816 Q1792.92 973.399 1792.92 982.149 Q1792.92 990.876 1789.84 995.482 Q1786.79 1000.07 1780.98 1000.07 Q1775.17 1000.07 1772.09 995.482 Q1769.03 990.876 1769.03 982.149 Q1769.03 973.399 1772.09 968.816 Q1775.17 964.209 1780.98 964.209 Z\" fill=\"#000000\" fill-rule=\"evenodd\" fill-opacity=\"1\" /><path clip-path=\"url(#clip130)\" d=\"M1706.58 755.803 Q1702.97 755.803 1701.14 759.368 Q1699.34 762.91 1699.34 770.039 Q1699.34 777.146 1701.14 780.711 Q1702.97 784.252 1706.58 784.252 Q1710.22 784.252 1712.02 780.711 Q1713.85 777.146 1713.85 770.039 Q1713.85 762.91 1712.02 759.368 Q1710.22 755.803 1706.58 755.803 M1706.58 752.1 Q1712.39 752.1 1715.45 756.706 Q1718.53 761.289 1718.53 770.039 Q1718.53 778.766 1715.45 783.373 Q1712.39 787.956 1706.58 787.956 Q1700.77 787.956 1697.69 783.373 Q1694.64 778.766 1694.64 770.039 Q1694.64 761.289 1697.69 756.706 Q1700.77 752.1 1706.58 752.1 Z\" fill=\"#000000\" fill-rule=\"evenodd\" fill-opacity=\"1\" /><path clip-path=\"url(#clip130)\" d=\"M1726.74 781.405 L1731.63 781.405 L1731.63 787.285 L1726.74 787.285 L1726.74 781.405 Z\" fill=\"#000000\" fill-rule=\"evenodd\" fill-opacity=\"1\" /><path clip-path=\"url(#clip130)\" d=\"M1745.84 783.349 L1762.16 783.349 L1762.16 787.285 L1740.22 787.285 L1740.22 783.349 Q1742.88 780.595 1747.46 775.965 Q1752.07 771.313 1753.25 769.97 Q1755.49 767.447 1756.37 765.711 Q1757.28 763.951 1757.28 762.262 Q1757.28 759.507 1755.33 757.771 Q1753.41 756.035 1750.31 756.035 Q1748.11 756.035 1745.66 756.799 Q1743.22 757.563 1740.45 759.114 L1740.45 754.391 Q1743.27 753.257 1745.72 752.678 Q1748.18 752.1 1750.22 752.1 Q1755.59 752.1 1758.78 754.785 Q1761.97 757.47 1761.97 761.961 Q1761.97 764.09 1761.16 766.012 Q1760.38 767.91 1758.27 770.502 Q1757.69 771.174 1754.59 774.391 Q1751.49 777.586 1745.84 783.349 Z\" fill=\"#000000\" fill-rule=\"evenodd\" fill-opacity=\"1\" /><path clip-path=\"url(#clip130)\" d=\"M1772.02 752.725 L1790.38 752.725 L1790.38 756.66 L1776.3 756.66 L1776.3 765.132 Q1777.32 764.785 1778.34 764.623 Q1779.36 764.438 1780.38 764.438 Q1786.16 764.438 1789.54 767.609 Q1792.92 770.78 1792.92 776.197 Q1792.92 781.775 1789.45 784.877 Q1785.98 787.956 1779.66 787.956 Q1777.48 787.956 1775.22 787.586 Q1772.97 787.215 1770.56 786.474 L1770.56 781.775 Q1772.65 782.91 1774.87 783.465 Q1777.09 784.021 1779.57 784.021 Q1783.57 784.021 1785.91 781.914 Q1788.25 779.808 1788.25 776.197 Q1788.25 772.586 1785.91 770.479 Q1783.57 768.373 1779.57 768.373 Q1777.69 768.373 1775.82 768.789 Q1773.97 769.206 1772.02 770.086 L1772.02 752.725 Z\" fill=\"#000000\" fill-rule=\"evenodd\" fill-opacity=\"1\" /><path clip-path=\"url(#clip130)\" d=\"M1705.59 543.694 Q1701.97 543.694 1700.15 547.258 Q1698.34 550.8 1698.34 557.93 Q1698.34 565.036 1700.15 568.601 Q1701.97 572.142 1705.59 572.142 Q1709.22 572.142 1711.03 568.601 Q1712.85 565.036 1712.85 557.93 Q1712.85 550.8 1711.03 547.258 Q1709.22 543.694 1705.59 543.694 M1705.59 539.99 Q1711.4 539.99 1714.45 544.596 Q1717.53 549.18 1717.53 557.93 Q1717.53 566.656 1714.45 571.263 Q1711.4 575.846 1705.59 575.846 Q1699.78 575.846 1696.7 571.263 Q1693.64 566.656 1693.64 557.93 Q1693.64 549.18 1696.7 544.596 Q1699.78 539.99 1705.59 539.99 Z\" fill=\"#000000\" fill-rule=\"evenodd\" fill-opacity=\"1\" /><path clip-path=\"url(#clip130)\" d=\"M1725.75 569.295 L1730.63 569.295 L1730.63 575.175 L1725.75 575.175 L1725.75 569.295 Z\" fill=\"#000000\" fill-rule=\"evenodd\" fill-opacity=\"1\" /><path clip-path=\"url(#clip130)\" d=\"M1740.86 540.615 L1759.22 540.615 L1759.22 544.55 L1745.15 544.55 L1745.15 553.022 Q1746.16 552.675 1747.18 552.513 Q1748.2 552.328 1749.22 552.328 Q1755.01 552.328 1758.39 555.499 Q1761.77 558.67 1761.77 564.087 Q1761.77 569.666 1758.29 572.767 Q1754.82 575.846 1748.5 575.846 Q1746.33 575.846 1744.06 575.476 Q1741.81 575.105 1739.41 574.365 L1739.41 569.666 Q1741.49 570.8 1743.71 571.355 Q1745.93 571.911 1748.41 571.911 Q1752.41 571.911 1754.75 569.804 Q1757.09 567.698 1757.09 564.087 Q1757.09 560.476 1754.75 558.369 Q1752.41 556.263 1748.41 556.263 Q1746.53 556.263 1744.66 556.68 Q1742.81 557.096 1740.86 557.976 L1740.86 540.615 Z\" fill=\"#000000\" fill-rule=\"evenodd\" fill-opacity=\"1\" /><path clip-path=\"url(#clip130)\" d=\"M1780.98 543.694 Q1777.37 543.694 1775.54 547.258 Q1773.73 550.8 1773.73 557.93 Q1773.73 565.036 1775.54 568.601 Q1777.37 572.142 1780.98 572.142 Q1784.61 572.142 1786.42 568.601 Q1788.25 565.036 1788.25 557.93 Q1788.25 550.8 1786.42 547.258 Q1784.61 543.694 1780.98 543.694 M1780.98 539.99 Q1786.79 539.99 1789.84 544.596 Q1792.92 549.18 1792.92 557.93 Q1792.92 566.656 1789.84 571.263 Q1786.79 575.846 1780.98 575.846 Q1775.17 575.846 1772.09 571.263 Q1769.03 566.656 1769.03 557.93 Q1769.03 549.18 1772.09 544.596 Q1775.17 539.99 1780.98 539.99 Z\" fill=\"#000000\" fill-rule=\"evenodd\" fill-opacity=\"1\" /><path clip-path=\"url(#clip130)\" d=\"M1706.58 331.584 Q1702.97 331.584 1701.14 335.149 Q1699.34 338.69 1699.34 345.82 Q1699.34 352.926 1701.14 356.491 Q1702.97 360.033 1706.58 360.033 Q1710.22 360.033 1712.02 356.491 Q1713.85 352.926 1713.85 345.82 Q1713.85 338.69 1712.02 335.149 Q1710.22 331.584 1706.58 331.584 M1706.58 327.88 Q1712.39 327.88 1715.45 332.486 Q1718.53 337.07 1718.53 345.82 Q1718.53 354.547 1715.45 359.153 Q1712.39 363.736 1706.58 363.736 Q1700.77 363.736 1697.69 359.153 Q1694.64 354.547 1694.64 345.82 Q1694.64 337.07 1697.69 332.486 Q1700.77 327.88 1706.58 327.88 Z\" fill=\"#000000\" fill-rule=\"evenodd\" fill-opacity=\"1\" /><path clip-path=\"url(#clip130)\" d=\"M1726.74 357.185 L1731.63 357.185 L1731.63 363.065 L1726.74 363.065 L1726.74 357.185 Z\" fill=\"#000000\" fill-rule=\"evenodd\" fill-opacity=\"1\" /><path clip-path=\"url(#clip130)\" d=\"M1740.63 328.505 L1762.85 328.505 L1762.85 330.496 L1750.31 363.065 L1745.42 363.065 L1757.23 332.44 L1740.63 332.44 L1740.63 328.505 Z\" fill=\"#000000\" fill-rule=\"evenodd\" fill-opacity=\"1\" /><path clip-path=\"url(#clip130)\" d=\"M1772.02 328.505 L1790.38 328.505 L1790.38 332.44 L1776.3 332.44 L1776.3 340.912 Q1777.32 340.565 1778.34 340.403 Q1779.36 340.218 1780.38 340.218 Q1786.16 340.218 1789.54 343.389 Q1792.92 346.56 1792.92 351.977 Q1792.92 357.556 1789.45 360.658 Q1785.98 363.736 1779.66 363.736 Q1777.48 363.736 1775.22 363.366 Q1772.97 362.996 1770.56 362.255 L1770.56 357.556 Q1772.65 358.69 1774.87 359.246 Q1777.09 359.801 1779.57 359.801 Q1783.57 359.801 1785.91 357.695 Q1788.25 355.588 1788.25 351.977 Q1788.25 348.366 1785.91 346.26 Q1783.57 344.153 1779.57 344.153 Q1777.69 344.153 1775.82 344.57 Q1773.97 344.986 1772.02 345.866 L1772.02 328.505 Z\" fill=\"#000000\" fill-rule=\"evenodd\" fill-opacity=\"1\" /><path clip-path=\"url(#clip130)\" d=\"M1696.4 147.02 L1704.03 147.02 L1704.03 120.654 L1695.72 122.321 L1695.72 118.062 L1703.99 116.395 L1708.66 116.395 L1708.66 147.02 L1716.3 147.02 L1716.3 150.955 L1696.4 150.955 L1696.4 147.02 Z\" fill=\"#000000\" fill-rule=\"evenodd\" fill-opacity=\"1\" /><path clip-path=\"url(#clip130)\" d=\"M1725.75 145.076 L1730.63 145.076 L1730.63 150.955 L1725.75 150.955 L1725.75 145.076 Z\" fill=\"#000000\" fill-rule=\"evenodd\" fill-opacity=\"1\" /><path clip-path=\"url(#clip130)\" d=\"M1750.82 119.474 Q1747.21 119.474 1745.38 123.039 Q1743.57 126.58 1743.57 133.71 Q1743.57 140.816 1745.38 144.381 Q1747.21 147.923 1750.82 147.923 Q1754.45 147.923 1756.26 144.381 Q1758.09 140.816 1758.09 133.71 Q1758.09 126.58 1756.26 123.039 Q1754.45 119.474 1750.82 119.474 M1750.82 115.77 Q1756.63 115.77 1759.68 120.377 Q1762.76 124.96 1762.76 133.71 Q1762.76 142.437 1759.68 147.043 Q1756.63 151.627 1750.82 151.627 Q1745.01 151.627 1741.93 147.043 Q1738.87 142.437 1738.87 133.71 Q1738.87 124.96 1741.93 120.377 Q1745.01 115.77 1750.82 115.77 Z\" fill=\"#000000\" fill-rule=\"evenodd\" fill-opacity=\"1\" /><path clip-path=\"url(#clip130)\" d=\"M1780.98 119.474 Q1777.37 119.474 1775.54 123.039 Q1773.73 126.58 1773.73 133.71 Q1773.73 140.816 1775.54 144.381 Q1777.37 147.923 1780.98 147.923 Q1784.61 147.923 1786.42 144.381 Q1788.25 140.816 1788.25 133.71 Q1788.25 126.58 1786.42 123.039 Q1784.61 119.474 1780.98 119.474 M1780.98 115.77 Q1786.79 115.77 1789.84 120.377 Q1792.92 124.96 1792.92 133.71 Q1792.92 142.437 1789.84 147.043 Q1786.79 151.627 1780.98 151.627 Q1775.17 151.627 1772.09 147.043 Q1769.03 142.437 1769.03 133.71 Q1769.03 124.96 1772.09 120.377 Q1775.17 115.77 1780.98 115.77 Z\" fill=\"#000000\" fill-rule=\"evenodd\" fill-opacity=\"1\" /><path clip-path=\"url(#clip130)\" d=\"M1589.15 633.267 Q1582.78 633.267 1579.28 635.908 Q1575.78 638.518 1575.78 643.261 Q1575.78 647.971 1579.28 650.613 Q1582.78 653.223 1589.15 653.223 Q1595.48 653.223 1598.98 650.613 Q1602.48 647.971 1602.48 643.261 Q1602.48 638.518 1598.98 635.908 Q1595.48 633.267 1589.15 633.267 M1602.96 627.41 Q1612.06 627.41 1616.49 631.452 Q1620.94 635.495 1620.94 643.834 Q1620.94 646.921 1620.47 649.658 Q1620.02 652.396 1619.07 654.974 L1613.37 654.974 Q1614.77 652.396 1615.44 649.881 Q1616.11 647.367 1616.11 644.757 Q1616.11 638.996 1613.08 636.131 Q1610.09 633.267 1604.01 633.267 L1601.12 633.267 Q1604.27 635.081 1605.83 637.914 Q1607.39 640.746 1607.39 644.693 Q1607.39 651.25 1602.39 655.26 Q1597.39 659.271 1589.15 659.271 Q1580.87 659.271 1575.88 655.26 Q1570.88 651.25 1570.88 644.693 Q1570.88 640.746 1572.44 637.914 Q1574 635.081 1577.15 633.267 L1571.74 633.267 L1571.74 627.41 L1602.96 627.41 Z\" fill=\"#000000\" fill-rule=\"evenodd\" fill-opacity=\"1\" /><path clip-path=\"url(#clip130)\" d=\"M1589.47 599.146 Q1589.47 606.244 1591.09 608.982 Q1592.71 611.719 1596.63 611.719 Q1599.75 611.719 1601.59 609.682 Q1603.41 607.613 1603.41 604.08 Q1603.41 599.21 1599.97 596.282 Q1596.5 593.322 1590.77 593.322 L1589.47 593.322 L1589.47 599.146 M1587.05 587.465 L1607.39 587.465 L1607.39 593.322 L1601.97 593.322 Q1605.22 595.327 1606.78 598.319 Q1608.31 601.311 1608.31 605.64 Q1608.31 611.114 1605.25 614.361 Q1602.17 617.575 1597.01 617.575 Q1590.99 617.575 1587.94 613.565 Q1584.88 609.523 1584.88 601.534 L1584.88 593.322 L1584.31 593.322 Q1580.27 593.322 1578.07 595.995 Q1575.84 598.637 1575.84 603.443 Q1575.84 606.499 1576.58 609.395 Q1577.31 612.292 1578.77 614.965 L1573.36 614.965 Q1572.12 611.751 1571.51 608.727 Q1570.88 605.703 1570.88 602.839 Q1570.88 595.104 1574.89 591.285 Q1578.9 587.465 1587.05 587.465 Z\" fill=\"#000000\" fill-rule=\"evenodd\" fill-opacity=\"1\" /><path clip-path=\"url(#clip130)\" d=\"M1571.74 575.402 L1571.74 569.546 L1607.39 569.546 L1607.39 575.402 L1571.74 575.402 M1557.86 575.402 L1557.86 569.546 L1565.28 569.546 L1565.28 575.402 L1557.86 575.402 Z\" fill=\"#000000\" fill-rule=\"evenodd\" fill-opacity=\"1\" /><path clip-path=\"url(#clip130)\" d=\"M1585.87 527.66 L1607.39 527.66 L1607.39 533.516 L1586.06 533.516 Q1581 533.516 1578.49 535.489 Q1575.97 537.463 1575.97 541.41 Q1575.97 546.152 1578.99 548.889 Q1582.02 551.626 1587.24 551.626 L1607.39 551.626 L1607.39 557.515 L1571.74 557.515 L1571.74 551.626 L1577.28 551.626 Q1574.06 549.526 1572.47 546.693 Q1570.88 543.829 1570.88 540.105 Q1570.88 533.962 1574.7 530.811 Q1578.49 527.66 1585.87 527.66 Z\" fill=\"#000000\" fill-rule=\"evenodd\" fill-opacity=\"1\" /><path clip-path=\"url(#clip130)\" d=\"M1601.97 488.892 L1601.97 466.453 L1607.39 466.453 L1607.39 496.627 L1601.97 496.627 Q1598.19 492.967 1591.82 486.664 Q1585.42 480.331 1583.58 478.707 Q1580.11 475.62 1577.72 474.41 Q1575.3 473.169 1572.98 473.169 Q1569.19 473.169 1566.8 475.843 Q1564.42 478.485 1564.42 482.75 Q1564.42 485.773 1565.47 489.147 Q1566.52 492.489 1568.65 496.309 L1562.16 496.309 Q1560.6 492.425 1559.8 489.052 Q1559.01 485.678 1559.01 482.877 Q1559.01 475.493 1562.7 471.1 Q1566.39 466.708 1572.57 466.708 Q1575.49 466.708 1578.14 467.822 Q1580.74 468.904 1584.31 471.801 Q1585.23 472.596 1589.66 476.861 Q1594.05 481.126 1601.97 488.892 Z\" fill=\"#000000\" fill-rule=\"evenodd\" fill-opacity=\"1\" /><circle clip-path=\"url(#clip133)\" cx=\"1931.42\" cy=\"381.361\" r=\"14\" fill=\"#3f00ff\" fill-rule=\"evenodd\" fill-opacity=\"1\" stroke=\"#000000\" stroke-opacity=\"1\" stroke-width=\"2.4\"/>\n",
       "<circle clip-path=\"url(#clip133)\" cx=\"1937.36\" cy=\"436.93\" r=\"14\" fill=\"#4000ff\" fill-rule=\"evenodd\" fill-opacity=\"1\" stroke=\"#000000\" stroke-opacity=\"1\" stroke-width=\"2.4\"/>\n",
       "<circle clip-path=\"url(#clip133)\" cx=\"1909.12\" cy=\"393.337\" r=\"14\" fill=\"#3800ff\" fill-rule=\"evenodd\" fill-opacity=\"1\" stroke=\"#000000\" stroke-opacity=\"1\" stroke-width=\"2.4\"/>\n",
       "<circle clip-path=\"url(#clip133)\" cx=\"1923.52\" cy=\"437.796\" r=\"14\" fill=\"#3e00ff\" fill-rule=\"evenodd\" fill-opacity=\"1\" stroke=\"#000000\" stroke-opacity=\"1\" stroke-width=\"2.4\"/>\n",
       "<circle clip-path=\"url(#clip133)\" cx=\"1916.32\" cy=\"405.936\" r=\"14\" fill=\"#3b00ff\" fill-rule=\"evenodd\" fill-opacity=\"1\" stroke=\"#000000\" stroke-opacity=\"1\" stroke-width=\"2.4\"/>\n",
       "<circle clip-path=\"url(#clip133)\" cx=\"2101.8\" cy=\"543.883\" r=\"14\" fill=\"#9a00ff\" fill-rule=\"evenodd\" fill-opacity=\"1\" stroke=\"#000000\" stroke-opacity=\"1\" stroke-width=\"2.4\"/>\n",
       "<circle clip-path=\"url(#clip133)\" cx=\"2076.68\" cy=\"553.652\" r=\"14\" fill=\"#8a00ff\" fill-rule=\"evenodd\" fill-opacity=\"1\" stroke=\"#000000\" stroke-opacity=\"1\" stroke-width=\"2.4\"/>\n",
       "<circle clip-path=\"url(#clip133)\" cx=\"2096.9\" cy=\"547.275\" r=\"14\" fill=\"#9700ff\" fill-rule=\"evenodd\" fill-opacity=\"1\" stroke=\"#000000\" stroke-opacity=\"1\" stroke-width=\"2.4\"/>\n",
       "<circle clip-path=\"url(#clip133)\" cx=\"2210.59\" cy=\"823.337\" r=\"14\" fill=\"#ff00e4\" fill-rule=\"evenodd\" fill-opacity=\"1\" stroke=\"#000000\" stroke-opacity=\"1\" stroke-width=\"2.4\"/>\n",
       "<circle clip-path=\"url(#clip133)\" cx=\"2167.67\" cy=\"813.197\" r=\"14\" fill=\"#ff00ec\" fill-rule=\"evenodd\" fill-opacity=\"1\" stroke=\"#000000\" stroke-opacity=\"1\" stroke-width=\"2.4\"/>\n",
       "<circle clip-path=\"url(#clip133)\" cx=\"2213.41\" cy=\"849.779\" r=\"14\" fill=\"#ff00d7\" fill-rule=\"evenodd\" fill-opacity=\"1\" stroke=\"#000000\" stroke-opacity=\"1\" stroke-width=\"2.4\"/>\n",
       "<circle clip-path=\"url(#clip133)\" cx=\"2169.33\" cy=\"788.199\" r=\"14\" fill=\"#ff00f5\" fill-rule=\"evenodd\" fill-opacity=\"1\" stroke=\"#000000\" stroke-opacity=\"1\" stroke-width=\"2.4\"/>\n",
       "<circle clip-path=\"url(#clip133)\" cx=\"2177.04\" cy=\"815.338\" r=\"14\" fill=\"#ff00ea\" fill-rule=\"evenodd\" fill-opacity=\"1\" stroke=\"#000000\" stroke-opacity=\"1\" stroke-width=\"2.4\"/>\n",
       "<circle clip-path=\"url(#clip133)\" cx=\"2169.86\" cy=\"777.043\" r=\"14\" fill=\"#ff00f9\" fill-rule=\"evenodd\" fill-opacity=\"1\" stroke=\"#000000\" stroke-opacity=\"1\" stroke-width=\"2.4\"/>\n",
       "<circle clip-path=\"url(#clip133)\" cx=\"2189.69\" cy=\"776.857\" r=\"14\" fill=\"#ff00f7\" fill-rule=\"evenodd\" fill-opacity=\"1\" stroke=\"#000000\" stroke-opacity=\"1\" stroke-width=\"2.4\"/>\n",
       "<circle clip-path=\"url(#clip133)\" cx=\"2172.88\" cy=\"807.604\" r=\"14\" fill=\"#ff00ee\" fill-rule=\"evenodd\" fill-opacity=\"1\" stroke=\"#000000\" stroke-opacity=\"1\" stroke-width=\"2.4\"/>\n",
       "<circle clip-path=\"url(#clip133)\" cx=\"2289.61\" cy=\"872.628\" r=\"14\" fill=\"#ff00d1\" fill-rule=\"evenodd\" fill-opacity=\"1\" stroke=\"#000000\" stroke-opacity=\"1\" stroke-width=\"2.4\"/>\n",
       "<circle clip-path=\"url(#clip133)\" cx=\"2296.27\" cy=\"935.769\" r=\"14\" fill=\"#ff00a4\" fill-rule=\"evenodd\" fill-opacity=\"1\" stroke=\"#000000\" stroke-opacity=\"1\" stroke-width=\"2.4\"/>\n",
       "<circle clip-path=\"url(#clip133)\" cx=\"2285.66\" cy=\"867.673\" r=\"14\" fill=\"#ff00d3\" fill-rule=\"evenodd\" fill-opacity=\"1\" stroke=\"#000000\" stroke-opacity=\"1\" stroke-width=\"2.4\"/>\n",
       "<circle clip-path=\"url(#clip133)\" cx=\"2286.06\" cy=\"712.619\" r=\"14\" fill=\"#eb00ff\" fill-rule=\"evenodd\" fill-opacity=\"1\" stroke=\"#000000\" stroke-opacity=\"1\" stroke-width=\"2.4\"/>\n",
       "<circle clip-path=\"url(#clip133)\" cx=\"2297.36\" cy=\"717.839\" r=\"14\" fill=\"#ea00ff\" fill-rule=\"evenodd\" fill-opacity=\"1\" stroke=\"#000000\" stroke-opacity=\"1\" stroke-width=\"2.4\"/>\n",
       "<circle clip-path=\"url(#clip133)\" cx=\"2336.18\" cy=\"1008.26\" r=\"14\" fill=\"#ff0067\" fill-rule=\"evenodd\" fill-opacity=\"1\" stroke=\"#000000\" stroke-opacity=\"1\" stroke-width=\"2.4\"/>\n",
       "<circle clip-path=\"url(#clip133)\" cx=\"2369.7\" cy=\"944.664\" r=\"14\" fill=\"#ff00bd\" fill-rule=\"evenodd\" fill-opacity=\"1\" stroke=\"#000000\" stroke-opacity=\"1\" stroke-width=\"2.4\"/>\n",
       "<circle clip-path=\"url(#clip133)\" cx=\"2366.53\" cy=\"981.895\" r=\"14\" fill=\"#ff0098\" fill-rule=\"evenodd\" fill-opacity=\"1\" stroke=\"#000000\" stroke-opacity=\"1\" stroke-width=\"2.4\"/>\n",
       "<circle clip-path=\"url(#clip133)\" cx=\"2343.35\" cy=\"965.18\" r=\"14\" fill=\"#ff009b\" fill-rule=\"evenodd\" fill-opacity=\"1\" stroke=\"#000000\" stroke-opacity=\"1\" stroke-width=\"2.4\"/>\n",
       "<circle clip-path=\"url(#clip133)\" cx=\"2346.58\" cy=\"982.083\" r=\"14\" fill=\"#ff008b\" fill-rule=\"evenodd\" fill-opacity=\"1\" stroke=\"#000000\" stroke-opacity=\"1\" stroke-width=\"2.4\"/>\n",
       "<circle clip-path=\"url(#clip133)\" cx=\"2344.24\" cy=\"988.339\" r=\"14\" fill=\"#ff0082\" fill-rule=\"evenodd\" fill-opacity=\"1\" stroke=\"#000000\" stroke-opacity=\"1\" stroke-width=\"2.4\"/>\n",
       "<circle clip-path=\"url(#clip133)\" cx=\"2345.94\" cy=\"965.438\" r=\"14\" fill=\"#ff009d\" fill-rule=\"evenodd\" fill-opacity=\"1\" stroke=\"#000000\" stroke-opacity=\"1\" stroke-width=\"2.4\"/>\n",
       "<circle clip-path=\"url(#clip133)\" cx=\"2852.09\" cy=\"1007.66\" r=\"14\" fill=\"#ff00c1\" fill-rule=\"evenodd\" fill-opacity=\"1\" stroke=\"#000000\" stroke-opacity=\"1\" stroke-width=\"2.4\"/>\n",
       "<circle clip-path=\"url(#clip133)\" cx=\"2885.33\" cy=\"990.852\" r=\"14\" fill=\"#ff00a2\" fill-rule=\"evenodd\" fill-opacity=\"1\" stroke=\"#000000\" stroke-opacity=\"1\" stroke-width=\"2.4\"/>\n",
       "<circle clip-path=\"url(#clip133)\" cx=\"2882.75\" cy=\"1015.21\" r=\"14\" fill=\"#ff00aa\" fill-rule=\"evenodd\" fill-opacity=\"1\" stroke=\"#000000\" stroke-opacity=\"1\" stroke-width=\"2.4\"/>\n",
       "<circle clip-path=\"url(#clip133)\" cx=\"2896.62\" cy=\"1012.7\" r=\"14\" fill=\"#ff009e\" fill-rule=\"evenodd\" fill-opacity=\"1\" stroke=\"#000000\" stroke-opacity=\"1\" stroke-width=\"2.4\"/>\n",
       "<circle clip-path=\"url(#clip133)\" cx=\"2875.97\" cy=\"999.963\" r=\"14\" fill=\"#ff00ac\" fill-rule=\"evenodd\" fill-opacity=\"1\" stroke=\"#000000\" stroke-opacity=\"1\" stroke-width=\"2.4\"/>\n",
       "<circle clip-path=\"url(#clip133)\" cx=\"2873.79\" cy=\"980.017\" r=\"14\" fill=\"#ff00a9\" fill-rule=\"evenodd\" fill-opacity=\"1\" stroke=\"#000000\" stroke-opacity=\"1\" stroke-width=\"2.4\"/>\n",
       "<circle clip-path=\"url(#clip133)\" cx=\"2852.2\" cy=\"953.135\" r=\"14\" fill=\"#ff00b5\" fill-rule=\"evenodd\" fill-opacity=\"1\" stroke=\"#000000\" stroke-opacity=\"1\" stroke-width=\"2.4\"/>\n",
       "<circle clip-path=\"url(#clip133)\" cx=\"2888.5\" cy=\"138.27\" r=\"14\" fill=\"#ff0056\" fill-rule=\"evenodd\" fill-opacity=\"1\" stroke=\"#000000\" stroke-opacity=\"1\" stroke-width=\"2.4\"/>\n",
       "<circle clip-path=\"url(#clip133)\" cx=\"2885.54\" cy=\"124.773\" r=\"14\" fill=\"#ff0054\" fill-rule=\"evenodd\" fill-opacity=\"1\" stroke=\"#000000\" stroke-opacity=\"1\" stroke-width=\"2.4\"/>\n",
       "<circle clip-path=\"url(#clip133)\" cx=\"3116.61\" cy=\"76.43\" r=\"14\" fill=\"#ff00dc\" fill-rule=\"evenodd\" fill-opacity=\"1\" stroke=\"#000000\" stroke-opacity=\"1\" stroke-width=\"2.4\"/>\n",
       "<circle clip-path=\"url(#clip133)\" cx=\"3132.66\" cy=\"176.818\" r=\"14\" fill=\"#e800ff\" fill-rule=\"evenodd\" fill-opacity=\"1\" stroke=\"#000000\" stroke-opacity=\"1\" stroke-width=\"2.4\"/>\n",
       "<circle clip-path=\"url(#clip133)\" cx=\"3145.82\" cy=\"121.135\" r=\"14\" fill=\"#ff00c0\" fill-rule=\"evenodd\" fill-opacity=\"1\" stroke=\"#000000\" stroke-opacity=\"1\" stroke-width=\"2.4\"/>\n",
       "<circle clip-path=\"url(#clip133)\" cx=\"1924.79\" cy=\"391.396\" r=\"14\" fill=\"#3d00ff\" fill-rule=\"evenodd\" fill-opacity=\"1\" stroke=\"#000000\" stroke-opacity=\"1\" stroke-width=\"2.4\"/>\n",
       "<circle clip-path=\"url(#clip133)\" cx=\"1937.01\" cy=\"375.309\" r=\"14\" fill=\"#4000ff\" fill-rule=\"evenodd\" fill-opacity=\"1\" stroke=\"#000000\" stroke-opacity=\"1\" stroke-width=\"2.4\"/>\n",
       "<circle clip-path=\"url(#clip133)\" cx=\"1927.58\" cy=\"410.224\" r=\"14\" fill=\"#3e00ff\" fill-rule=\"evenodd\" fill-opacity=\"1\" stroke=\"#000000\" stroke-opacity=\"1\" stroke-width=\"2.4\"/>\n",
       "<circle clip-path=\"url(#clip133)\" cx=\"1915.31\" cy=\"364.957\" r=\"14\" fill=\"#3900ff\" fill-rule=\"evenodd\" fill-opacity=\"1\" stroke=\"#000000\" stroke-opacity=\"1\" stroke-width=\"2.4\"/>\n",
       "<circle clip-path=\"url(#clip133)\" cx=\"1902.56\" cy=\"361.741\" r=\"14\" fill=\"#3300ff\" fill-rule=\"evenodd\" fill-opacity=\"1\" stroke=\"#000000\" stroke-opacity=\"1\" stroke-width=\"2.4\"/>\n",
       "<circle clip-path=\"url(#clip133)\" cx=\"2080.43\" cy=\"555.185\" r=\"14\" fill=\"#8d00ff\" fill-rule=\"evenodd\" fill-opacity=\"1\" stroke=\"#000000\" stroke-opacity=\"1\" stroke-width=\"2.4\"/>\n",
       "<circle clip-path=\"url(#clip133)\" cx=\"2094.47\" cy=\"585.998\" r=\"14\" fill=\"#a200ff\" fill-rule=\"evenodd\" fill-opacity=\"1\" stroke=\"#000000\" stroke-opacity=\"1\" stroke-width=\"2.4\"/>\n",
       "<circle clip-path=\"url(#clip133)\" cx=\"2092.23\" cy=\"576.804\" r=\"14\" fill=\"#9d00ff\" fill-rule=\"evenodd\" fill-opacity=\"1\" stroke=\"#000000\" stroke-opacity=\"1\" stroke-width=\"2.4\"/>\n",
       "<circle clip-path=\"url(#clip133)\" cx=\"2179.42\" cy=\"838.474\" r=\"14\" fill=\"#ff00e0\" fill-rule=\"evenodd\" fill-opacity=\"1\" stroke=\"#000000\" stroke-opacity=\"1\" stroke-width=\"2.4\"/>\n",
       "<circle clip-path=\"url(#clip133)\" cx=\"2185.19\" cy=\"849.635\" r=\"14\" fill=\"#ff00da\" fill-rule=\"evenodd\" fill-opacity=\"1\" stroke=\"#000000\" stroke-opacity=\"1\" stroke-width=\"2.4\"/>\n",
       "<circle clip-path=\"url(#clip133)\" cx=\"2165.51\" cy=\"806.625\" r=\"14\" fill=\"#ff00ef\" fill-rule=\"evenodd\" fill-opacity=\"1\" stroke=\"#000000\" stroke-opacity=\"1\" stroke-width=\"2.4\"/>\n",
       "<circle clip-path=\"url(#clip133)\" cx=\"2190.33\" cy=\"791.645\" r=\"14\" fill=\"#ff00f1\" fill-rule=\"evenodd\" fill-opacity=\"1\" stroke=\"#000000\" stroke-opacity=\"1\" stroke-width=\"2.4\"/>\n",
       "<circle clip-path=\"url(#clip133)\" cx=\"2175.05\" cy=\"769.027\" r=\"14\" fill=\"#ff00fb\" fill-rule=\"evenodd\" fill-opacity=\"1\" stroke=\"#000000\" stroke-opacity=\"1\" stroke-width=\"2.4\"/>\n",
       "<circle clip-path=\"url(#clip133)\" cx=\"2172.77\" cy=\"818.599\" r=\"14\" fill=\"#ff00e9\" fill-rule=\"evenodd\" fill-opacity=\"1\" stroke=\"#000000\" stroke-opacity=\"1\" stroke-width=\"2.4\"/>\n",
       "<circle clip-path=\"url(#clip133)\" cx=\"2178.82\" cy=\"793.902\" r=\"14\" fill=\"#ff00f2\" fill-rule=\"evenodd\" fill-opacity=\"1\" stroke=\"#000000\" stroke-opacity=\"1\" stroke-width=\"2.4\"/>\n",
       "<circle clip-path=\"url(#clip133)\" cx=\"2160.24\" cy=\"784.281\" r=\"14\" fill=\"#ff00f8\" fill-rule=\"evenodd\" fill-opacity=\"1\" stroke=\"#000000\" stroke-opacity=\"1\" stroke-width=\"2.4\"/>\n",
       "<circle clip-path=\"url(#clip133)\" cx=\"2292.49\" cy=\"872.25\" r=\"14\" fill=\"#ff00d2\" fill-rule=\"evenodd\" fill-opacity=\"1\" stroke=\"#000000\" stroke-opacity=\"1\" stroke-width=\"2.4\"/>\n",
       "<circle clip-path=\"url(#clip133)\" cx=\"2285.43\" cy=\"908.667\" r=\"14\" fill=\"#ff00b8\" fill-rule=\"evenodd\" fill-opacity=\"1\" stroke=\"#000000\" stroke-opacity=\"1\" stroke-width=\"2.4\"/>\n",
       "<circle clip-path=\"url(#clip133)\" cx=\"2290.56\" cy=\"911.836\" r=\"14\" fill=\"#ff00b7\" fill-rule=\"evenodd\" fill-opacity=\"1\" stroke=\"#000000\" stroke-opacity=\"1\" stroke-width=\"2.4\"/>\n",
       "<circle clip-path=\"url(#clip133)\" cx=\"2295.93\" cy=\"763.655\" r=\"14\" fill=\"#fa00ff\" fill-rule=\"evenodd\" fill-opacity=\"1\" stroke=\"#000000\" stroke-opacity=\"1\" stroke-width=\"2.4\"/>\n",
       "<circle clip-path=\"url(#clip133)\" cx=\"2297.88\" cy=\"733.501\" r=\"14\" fill=\"#ef00ff\" fill-rule=\"evenodd\" fill-opacity=\"1\" stroke=\"#000000\" stroke-opacity=\"1\" stroke-width=\"2.4\"/>\n",
       "<circle clip-path=\"url(#clip133)\" cx=\"2339.31\" cy=\"1010.44\" r=\"14\" fill=\"#ff0066\" fill-rule=\"evenodd\" fill-opacity=\"1\" stroke=\"#000000\" stroke-opacity=\"1\" stroke-width=\"2.4\"/>\n",
       "<circle clip-path=\"url(#clip133)\" cx=\"2349.51\" cy=\"951.495\" r=\"14\" fill=\"#ff00ac\" fill-rule=\"evenodd\" fill-opacity=\"1\" stroke=\"#000000\" stroke-opacity=\"1\" stroke-width=\"2.4\"/>\n",
       "<circle clip-path=\"url(#clip133)\" cx=\"2329.41\" cy=\"997.04\" r=\"14\" fill=\"#ff0070\" fill-rule=\"evenodd\" fill-opacity=\"1\" stroke=\"#000000\" stroke-opacity=\"1\" stroke-width=\"2.4\"/>\n",
       "<circle clip-path=\"url(#clip133)\" cx=\"2331.32\" cy=\"944.407\" r=\"14\" fill=\"#ff00aa\" fill-rule=\"evenodd\" fill-opacity=\"1\" stroke=\"#000000\" stroke-opacity=\"1\" stroke-width=\"2.4\"/>\n",
       "<circle clip-path=\"url(#clip133)\" cx=\"2358.18\" cy=\"943.58\" r=\"14\" fill=\"#ff00b8\" fill-rule=\"evenodd\" fill-opacity=\"1\" stroke=\"#000000\" stroke-opacity=\"1\" stroke-width=\"2.4\"/>\n",
       "<circle clip-path=\"url(#clip133)\" cx=\"2337.18\" cy=\"994.698\" r=\"14\" fill=\"#ff0076\" fill-rule=\"evenodd\" fill-opacity=\"1\" stroke=\"#000000\" stroke-opacity=\"1\" stroke-width=\"2.4\"/>\n",
       "<circle clip-path=\"url(#clip133)\" cx=\"2354.08\" cy=\"977.772\" r=\"14\" fill=\"#ff0094\" fill-rule=\"evenodd\" fill-opacity=\"1\" stroke=\"#000000\" stroke-opacity=\"1\" stroke-width=\"2.4\"/>\n",
       "<circle clip-path=\"url(#clip133)\" cx=\"2890.53\" cy=\"1021.7\" r=\"14\" fill=\"#ff00a6\" fill-rule=\"evenodd\" fill-opacity=\"1\" stroke=\"#000000\" stroke-opacity=\"1\" stroke-width=\"2.4\"/>\n",
       "<circle clip-path=\"url(#clip133)\" cx=\"2850.87\" cy=\"988.992\" r=\"14\" fill=\"#ff00bf\" fill-rule=\"evenodd\" fill-opacity=\"1\" stroke=\"#000000\" stroke-opacity=\"1\" stroke-width=\"2.4\"/>\n",
       "<circle clip-path=\"url(#clip133)\" cx=\"2881.31\" cy=\"1049.29\" r=\"14\" fill=\"#ff00b3\" fill-rule=\"evenodd\" fill-opacity=\"1\" stroke=\"#000000\" stroke-opacity=\"1\" stroke-width=\"2.4\"/>\n",
       "<circle clip-path=\"url(#clip133)\" cx=\"2862.65\" cy=\"954.615\" r=\"14\" fill=\"#ff00ac\" fill-rule=\"evenodd\" fill-opacity=\"1\" stroke=\"#000000\" stroke-opacity=\"1\" stroke-width=\"2.4\"/>\n",
       "<circle clip-path=\"url(#clip133)\" cx=\"2851.17\" cy=\"971.79\" r=\"14\" fill=\"#ff00bb\" fill-rule=\"evenodd\" fill-opacity=\"1\" stroke=\"#000000\" stroke-opacity=\"1\" stroke-width=\"2.4\"/>\n",
       "<circle clip-path=\"url(#clip133)\" cx=\"2862.04\" cy=\"963.119\" r=\"14\" fill=\"#ff00af\" fill-rule=\"evenodd\" fill-opacity=\"1\" stroke=\"#000000\" stroke-opacity=\"1\" stroke-width=\"2.4\"/>\n",
       "<circle clip-path=\"url(#clip133)\" cx=\"2864.48\" cy=\"982.442\" r=\"14\" fill=\"#ff00b1\" fill-rule=\"evenodd\" fill-opacity=\"1\" stroke=\"#000000\" stroke-opacity=\"1\" stroke-width=\"2.4\"/>\n",
       "<circle clip-path=\"url(#clip133)\" cx=\"2868.04\" cy=\"103.42\" r=\"14\" fill=\"#ff0073\" fill-rule=\"evenodd\" fill-opacity=\"1\" stroke=\"#000000\" stroke-opacity=\"1\" stroke-width=\"2.4\"/>\n",
       "<circle clip-path=\"url(#clip133)\" cx=\"2862.22\" cy=\"175.641\" r=\"14\" fill=\"#ff006c\" fill-rule=\"evenodd\" fill-opacity=\"1\" stroke=\"#000000\" stroke-opacity=\"1\" stroke-width=\"2.4\"/>\n",
       "<circle clip-path=\"url(#clip133)\" cx=\"3118.45\" cy=\"151.327\" r=\"14\" fill=\"#df00ff\" fill-rule=\"evenodd\" fill-opacity=\"1\" stroke=\"#000000\" stroke-opacity=\"1\" stroke-width=\"2.4\"/>\n",
       "<circle clip-path=\"url(#clip133)\" cx=\"3136.83\" cy=\"114.602\" r=\"14\" fill=\"#ff00cf\" fill-rule=\"evenodd\" fill-opacity=\"1\" stroke=\"#000000\" stroke-opacity=\"1\" stroke-width=\"2.4\"/>\n",
       "<circle clip-path=\"url(#clip133)\" cx=\"3123.43\" cy=\"76.8115\" r=\"14\" fill=\"#ff00cb\" fill-rule=\"evenodd\" fill-opacity=\"1\" stroke=\"#000000\" stroke-opacity=\"1\" stroke-width=\"2.4\"/>\n",
       "<circle clip-path=\"url(#clip133)\" cx=\"1906.74\" cy=\"339.518\" r=\"14\" fill=\"#3300ff\" fill-rule=\"evenodd\" fill-opacity=\"1\" stroke=\"#000000\" stroke-opacity=\"1\" stroke-width=\"2.4\"/>\n",
       "<circle clip-path=\"url(#clip133)\" cx=\"1929.71\" cy=\"356.82\" r=\"14\" fill=\"#3d00ff\" fill-rule=\"evenodd\" fill-opacity=\"1\" stroke=\"#000000\" stroke-opacity=\"1\" stroke-width=\"2.4\"/>\n",
       "<circle clip-path=\"url(#clip133)\" cx=\"1922.51\" cy=\"426.336\" r=\"14\" fill=\"#3e00ff\" fill-rule=\"evenodd\" fill-opacity=\"1\" stroke=\"#000000\" stroke-opacity=\"1\" stroke-width=\"2.4\"/>\n",
       "<circle clip-path=\"url(#clip133)\" cx=\"1933.36\" cy=\"412.977\" r=\"14\" fill=\"#3f00ff\" fill-rule=\"evenodd\" fill-opacity=\"1\" stroke=\"#000000\" stroke-opacity=\"1\" stroke-width=\"2.4\"/>\n",
       "<circle clip-path=\"url(#clip133)\" cx=\"1914.84\" cy=\"357.779\" r=\"14\" fill=\"#3800ff\" fill-rule=\"evenodd\" fill-opacity=\"1\" stroke=\"#000000\" stroke-opacity=\"1\" stroke-width=\"2.4\"/>\n",
       "<circle clip-path=\"url(#clip133)\" cx=\"2072.41\" cy=\"577.286\" r=\"14\" fill=\"#8d00ff\" fill-rule=\"evenodd\" fill-opacity=\"1\" stroke=\"#000000\" stroke-opacity=\"1\" stroke-width=\"2.4\"/>\n",
       "<circle clip-path=\"url(#clip133)\" cx=\"2100.73\" cy=\"533.64\" r=\"14\" fill=\"#9600ff\" fill-rule=\"evenodd\" fill-opacity=\"1\" stroke=\"#000000\" stroke-opacity=\"1\" stroke-width=\"2.4\"/>\n",
       "<circle clip-path=\"url(#clip133)\" cx=\"2071.77\" cy=\"517.504\" r=\"14\" fill=\"#7c00ff\" fill-rule=\"evenodd\" fill-opacity=\"1\" stroke=\"#000000\" stroke-opacity=\"1\" stroke-width=\"2.4\"/>\n",
       "<circle clip-path=\"url(#clip133)\" cx=\"2148.44\" cy=\"847.717\" r=\"14\" fill=\"#ff00e3\" fill-rule=\"evenodd\" fill-opacity=\"1\" stroke=\"#000000\" stroke-opacity=\"1\" stroke-width=\"2.4\"/>\n",
       "<circle clip-path=\"url(#clip133)\" cx=\"2163.65\" cy=\"759.544\" r=\"14\" fill=\"#fe00ff\" fill-rule=\"evenodd\" fill-opacity=\"1\" stroke=\"#000000\" stroke-opacity=\"1\" stroke-width=\"2.4\"/>\n",
       "<circle clip-path=\"url(#clip133)\" cx=\"2199.12\" cy=\"822.236\" r=\"14\" fill=\"#ff00e5\" fill-rule=\"evenodd\" fill-opacity=\"1\" stroke=\"#000000\" stroke-opacity=\"1\" stroke-width=\"2.4\"/>\n",
       "<circle clip-path=\"url(#clip133)\" cx=\"2169.5\" cy=\"838.222\" r=\"14\" fill=\"#ff00e2\" fill-rule=\"evenodd\" fill-opacity=\"1\" stroke=\"#000000\" stroke-opacity=\"1\" stroke-width=\"2.4\"/>\n",
       "<circle clip-path=\"url(#clip133)\" cx=\"2191.69\" cy=\"771.804\" r=\"14\" fill=\"#ff00f9\" fill-rule=\"evenodd\" fill-opacity=\"1\" stroke=\"#000000\" stroke-opacity=\"1\" stroke-width=\"2.4\"/>\n",
       "<circle clip-path=\"url(#clip133)\" cx=\"2194.06\" cy=\"812.165\" r=\"14\" fill=\"#ff00e9\" fill-rule=\"evenodd\" fill-opacity=\"1\" stroke=\"#000000\" stroke-opacity=\"1\" stroke-width=\"2.4\"/>\n",
       "<circle clip-path=\"url(#clip133)\" cx=\"2183.25\" cy=\"808.921\" r=\"14\" fill=\"#ff00ec\" fill-rule=\"evenodd\" fill-opacity=\"1\" stroke=\"#000000\" stroke-opacity=\"1\" stroke-width=\"2.4\"/>\n",
       "<circle clip-path=\"url(#clip133)\" cx=\"2186\" cy=\"828.3\" r=\"14\" fill=\"#ff00e3\" fill-rule=\"evenodd\" fill-opacity=\"1\" stroke=\"#000000\" stroke-opacity=\"1\" stroke-width=\"2.4\"/>\n",
       "<circle clip-path=\"url(#clip133)\" cx=\"2302.96\" cy=\"881.909\" r=\"14\" fill=\"#ff00cf\" fill-rule=\"evenodd\" fill-opacity=\"1\" stroke=\"#000000\" stroke-opacity=\"1\" stroke-width=\"2.4\"/>\n",
       "<circle clip-path=\"url(#clip133)\" cx=\"2292.45\" cy=\"866.294\" r=\"14\" fill=\"#ff00d6\" fill-rule=\"evenodd\" fill-opacity=\"1\" stroke=\"#000000\" stroke-opacity=\"1\" stroke-width=\"2.4\"/>\n",
       "<circle clip-path=\"url(#clip133)\" cx=\"2296.28\" cy=\"869.824\" r=\"14\" fill=\"#ff00d4\" fill-rule=\"evenodd\" fill-opacity=\"1\" stroke=\"#000000\" stroke-opacity=\"1\" stroke-width=\"2.4\"/>\n",
       "<circle clip-path=\"url(#clip133)\" cx=\"2283.86\" cy=\"679.47\" r=\"14\" fill=\"#e100ff\" fill-rule=\"evenodd\" fill-opacity=\"1\" stroke=\"#000000\" stroke-opacity=\"1\" stroke-width=\"2.4\"/>\n",
       "<circle clip-path=\"url(#clip133)\" cx=\"2264.34\" cy=\"722.263\" r=\"14\" fill=\"#f100ff\" fill-rule=\"evenodd\" fill-opacity=\"1\" stroke=\"#000000\" stroke-opacity=\"1\" stroke-width=\"2.4\"/>\n",
       "<circle clip-path=\"url(#clip133)\" cx=\"2343.43\" cy=\"982.975\" r=\"14\" fill=\"#ff0088\" fill-rule=\"evenodd\" fill-opacity=\"1\" stroke=\"#000000\" stroke-opacity=\"1\" stroke-width=\"2.4\"/>\n",
       "<circle clip-path=\"url(#clip133)\" cx=\"2324.51\" cy=\"912.9\" r=\"14\" fill=\"#ff00c1\" fill-rule=\"evenodd\" fill-opacity=\"1\" stroke=\"#000000\" stroke-opacity=\"1\" stroke-width=\"2.4\"/>\n",
       "<circle clip-path=\"url(#clip133)\" cx=\"2345.55\" cy=\"984.25\" r=\"14\" fill=\"#ff0088\" fill-rule=\"evenodd\" fill-opacity=\"1\" stroke=\"#000000\" stroke-opacity=\"1\" stroke-width=\"2.4\"/>\n",
       "<circle clip-path=\"url(#clip133)\" cx=\"2344.02\" cy=\"1041.82\" r=\"14\" fill=\"#ff0051\" fill-rule=\"evenodd\" fill-opacity=\"1\" stroke=\"#000000\" stroke-opacity=\"1\" stroke-width=\"2.4\"/>\n",
       "<circle clip-path=\"url(#clip133)\" cx=\"2319.49\" cy=\"993.955\" r=\"14\" fill=\"#ff006f\" fill-rule=\"evenodd\" fill-opacity=\"1\" stroke=\"#000000\" stroke-opacity=\"1\" stroke-width=\"2.4\"/>\n",
       "<circle clip-path=\"url(#clip133)\" cx=\"2333.46\" cy=\"996.543\" r=\"14\" fill=\"#ff0072\" fill-rule=\"evenodd\" fill-opacity=\"1\" stroke=\"#000000\" stroke-opacity=\"1\" stroke-width=\"2.4\"/>\n",
       "<circle clip-path=\"url(#clip133)\" cx=\"2334.51\" cy=\"997.348\" r=\"14\" fill=\"#ff0072\" fill-rule=\"evenodd\" fill-opacity=\"1\" stroke=\"#000000\" stroke-opacity=\"1\" stroke-width=\"2.4\"/>\n",
       "<circle clip-path=\"url(#clip133)\" cx=\"2869.5\" cy=\"1030.57\" r=\"14\" fill=\"#ff00b8\" fill-rule=\"evenodd\" fill-opacity=\"1\" stroke=\"#000000\" stroke-opacity=\"1\" stroke-width=\"2.4\"/>\n",
       "<circle clip-path=\"url(#clip133)\" cx=\"2879.18\" cy=\"1004.37\" r=\"14\" fill=\"#ff00aa\" fill-rule=\"evenodd\" fill-opacity=\"1\" stroke=\"#000000\" stroke-opacity=\"1\" stroke-width=\"2.4\"/>\n",
       "<circle clip-path=\"url(#clip133)\" cx=\"2851.55\" cy=\"990.073\" r=\"14\" fill=\"#ff00be\" fill-rule=\"evenodd\" fill-opacity=\"1\" stroke=\"#000000\" stroke-opacity=\"1\" stroke-width=\"2.4\"/>\n",
       "<circle clip-path=\"url(#clip133)\" cx=\"2865.52\" cy=\"981.369\" r=\"14\" fill=\"#ff00b0\" fill-rule=\"evenodd\" fill-opacity=\"1\" stroke=\"#000000\" stroke-opacity=\"1\" stroke-width=\"2.4\"/>\n",
       "<circle clip-path=\"url(#clip133)\" cx=\"2838.42\" cy=\"1008.74\" r=\"14\" fill=\"#ff00cc\" fill-rule=\"evenodd\" fill-opacity=\"1\" stroke=\"#000000\" stroke-opacity=\"1\" stroke-width=\"2.4\"/>\n",
       "<circle clip-path=\"url(#clip133)\" cx=\"2838.83\" cy=\"964.657\" r=\"14\" fill=\"#ff00c4\" fill-rule=\"evenodd\" fill-opacity=\"1\" stroke=\"#000000\" stroke-opacity=\"1\" stroke-width=\"2.4\"/>\n",
       "<circle clip-path=\"url(#clip133)\" cx=\"2871.81\" cy=\"986.755\" r=\"14\" fill=\"#ff00ac\" fill-rule=\"evenodd\" fill-opacity=\"1\" stroke=\"#000000\" stroke-opacity=\"1\" stroke-width=\"2.4\"/>\n",
       "<circle clip-path=\"url(#clip133)\" cx=\"2897.55\" cy=\"159.824\" r=\"14\" fill=\"#ff004d\" fill-rule=\"evenodd\" fill-opacity=\"1\" stroke=\"#000000\" stroke-opacity=\"1\" stroke-width=\"2.4\"/>\n",
       "<circle clip-path=\"url(#clip133)\" cx=\"2864.55\" cy=\"136.617\" r=\"14\" fill=\"#ff007d\" fill-rule=\"evenodd\" fill-opacity=\"1\" stroke=\"#000000\" stroke-opacity=\"1\" stroke-width=\"2.4\"/>\n",
       "<circle clip-path=\"url(#clip133)\" cx=\"3157.28\" cy=\"148.639\" r=\"14\" fill=\"#ff00be\" fill-rule=\"evenodd\" fill-opacity=\"1\" stroke=\"#000000\" stroke-opacity=\"1\" stroke-width=\"2.4\"/>\n",
       "<circle clip-path=\"url(#clip133)\" cx=\"3114.29\" cy=\"138.623\" r=\"14\" fill=\"#e200ff\" fill-rule=\"evenodd\" fill-opacity=\"1\" stroke=\"#000000\" stroke-opacity=\"1\" stroke-width=\"2.4\"/>\n",
       "<circle clip-path=\"url(#clip133)\" cx=\"3142.75\" cy=\"164.619\" r=\"14\" fill=\"#ff00f2\" fill-rule=\"evenodd\" fill-opacity=\"1\" stroke=\"#000000\" stroke-opacity=\"1\" stroke-width=\"2.4\"/>\n",
       "<path clip-path=\"url(#clip130)\" d=\"\n",
       "M3422.76 1078.48 L4272.76 1078.48 L4272.76 47.2441 L3422.76 47.2441  Z\n",
       "  \" fill=\"#ffffff\" fill-rule=\"evenodd\" fill-opacity=\"1\"/>\n",
       "<defs>\n",
       "  <clipPath id=\"clip134\">\n",
       "    <rect x=\"3422\" y=\"47\" width=\"851\" height=\"1032\"/>\n",
       "  </clipPath>\n",
       "</defs>\n",
       "<polyline clip-path=\"url(#clip134)\" style=\"stroke:#000000; stroke-linecap:butt; stroke-linejoin:round; stroke-width:2; stroke-opacity:0.1; fill:none\" points=\"\n",
       "  3422.76,1078.48 3422.76,47.2441 \n",
       "  \"/>\n",
       "<polyline clip-path=\"url(#clip134)\" style=\"stroke:#000000; stroke-linecap:butt; stroke-linejoin:round; stroke-width:2; stroke-opacity:0.1; fill:none\" points=\"\n",
       "  3592.76,1078.48 3592.76,47.2441 \n",
       "  \"/>\n",
       "<polyline clip-path=\"url(#clip134)\" style=\"stroke:#000000; stroke-linecap:butt; stroke-linejoin:round; stroke-width:2; stroke-opacity:0.1; fill:none\" points=\"\n",
       "  3762.76,1078.48 3762.76,47.2441 \n",
       "  \"/>\n",
       "<polyline clip-path=\"url(#clip134)\" style=\"stroke:#000000; stroke-linecap:butt; stroke-linejoin:round; stroke-width:2; stroke-opacity:0.1; fill:none\" points=\"\n",
       "  3932.76,1078.48 3932.76,47.2441 \n",
       "  \"/>\n",
       "<polyline clip-path=\"url(#clip134)\" style=\"stroke:#000000; stroke-linecap:butt; stroke-linejoin:round; stroke-width:2; stroke-opacity:0.1; fill:none\" points=\"\n",
       "  4102.76,1078.48 4102.76,47.2441 \n",
       "  \"/>\n",
       "<polyline clip-path=\"url(#clip134)\" style=\"stroke:#000000; stroke-linecap:butt; stroke-linejoin:round; stroke-width:2; stroke-opacity:0.1; fill:none\" points=\"\n",
       "  4272.76,1078.48 4272.76,47.2441 \n",
       "  \"/>\n",
       "<polyline clip-path=\"url(#clip130)\" style=\"stroke:#000000; stroke-linecap:butt; stroke-linejoin:round; stroke-width:4; stroke-opacity:1; fill:none\" points=\"\n",
       "  3422.76,1078.48 4272.76,1078.48 \n",
       "  \"/>\n",
       "<polyline clip-path=\"url(#clip130)\" style=\"stroke:#000000; stroke-linecap:butt; stroke-linejoin:round; stroke-width:4; stroke-opacity:1; fill:none\" points=\"\n",
       "  3422.76,1078.48 3422.76,1059.58 \n",
       "  \"/>\n",
       "<polyline clip-path=\"url(#clip130)\" style=\"stroke:#000000; stroke-linecap:butt; stroke-linejoin:round; stroke-width:4; stroke-opacity:1; fill:none\" points=\"\n",
       "  3592.76,1078.48 3592.76,1059.58 \n",
       "  \"/>\n",
       "<polyline clip-path=\"url(#clip130)\" style=\"stroke:#000000; stroke-linecap:butt; stroke-linejoin:round; stroke-width:4; stroke-opacity:1; fill:none\" points=\"\n",
       "  3762.76,1078.48 3762.76,1059.58 \n",
       "  \"/>\n",
       "<polyline clip-path=\"url(#clip130)\" style=\"stroke:#000000; stroke-linecap:butt; stroke-linejoin:round; stroke-width:4; stroke-opacity:1; fill:none\" points=\"\n",
       "  3932.76,1078.48 3932.76,1059.58 \n",
       "  \"/>\n",
       "<polyline clip-path=\"url(#clip130)\" style=\"stroke:#000000; stroke-linecap:butt; stroke-linejoin:round; stroke-width:4; stroke-opacity:1; fill:none\" points=\"\n",
       "  4102.76,1078.48 4102.76,1059.58 \n",
       "  \"/>\n",
       "<polyline clip-path=\"url(#clip130)\" style=\"stroke:#000000; stroke-linecap:butt; stroke-linejoin:round; stroke-width:4; stroke-opacity:1; fill:none\" points=\"\n",
       "  4272.76,1078.48 4272.76,1059.58 \n",
       "  \"/>\n",
       "<path clip-path=\"url(#clip130)\" d=\"M3400.15 1126.87 Q3396.53 1126.87 3394.71 1130.44 Q3392.9 1133.98 3392.9 1141.11 Q3392.9 1148.21 3394.71 1151.78 Q3396.53 1155.32 3400.15 1155.32 Q3403.78 1155.32 3405.58 1151.78 Q3407.41 1148.21 3407.41 1141.11 Q3407.41 1133.98 3405.58 1130.44 Q3403.78 1126.87 3400.15 1126.87 M3400.15 1123.17 Q3405.96 1123.17 3409.01 1127.77 Q3412.09 1132.36 3412.09 1141.11 Q3412.09 1149.83 3409.01 1154.44 Q3405.96 1159.02 3400.15 1159.02 Q3394.33 1159.02 3391.26 1154.44 Q3388.2 1149.83 3388.2 1141.11 Q3388.2 1132.36 3391.26 1127.77 Q3394.33 1123.17 3400.15 1123.17 Z\" fill=\"#000000\" fill-rule=\"evenodd\" fill-opacity=\"1\" /><path clip-path=\"url(#clip130)\" d=\"M3420.31 1152.47 L3425.19 1152.47 L3425.19 1158.35 L3420.31 1158.35 L3420.31 1152.47 Z\" fill=\"#000000\" fill-rule=\"evenodd\" fill-opacity=\"1\" /><path clip-path=\"url(#clip130)\" d=\"M3445.38 1126.87 Q3441.77 1126.87 3439.94 1130.44 Q3438.13 1133.98 3438.13 1141.11 Q3438.13 1148.21 3439.94 1151.78 Q3441.77 1155.32 3445.38 1155.32 Q3449.01 1155.32 3450.82 1151.78 Q3452.64 1148.21 3452.64 1141.11 Q3452.64 1133.98 3450.82 1130.44 Q3449.01 1126.87 3445.38 1126.87 M3445.38 1123.17 Q3451.19 1123.17 3454.24 1127.77 Q3457.32 1132.36 3457.32 1141.11 Q3457.32 1149.83 3454.24 1154.44 Q3451.19 1159.02 3445.38 1159.02 Q3439.57 1159.02 3436.49 1154.44 Q3433.43 1149.83 3433.43 1141.11 Q3433.43 1132.36 3436.49 1127.77 Q3439.57 1123.17 3445.38 1123.17 Z\" fill=\"#000000\" fill-rule=\"evenodd\" fill-opacity=\"1\" /><path clip-path=\"url(#clip130)\" d=\"M3570.64 1126.87 Q3567.03 1126.87 3565.2 1130.44 Q3563.4 1133.98 3563.4 1141.11 Q3563.4 1148.21 3565.2 1151.78 Q3567.03 1155.32 3570.64 1155.32 Q3574.28 1155.32 3576.08 1151.78 Q3577.91 1148.21 3577.91 1141.11 Q3577.91 1133.98 3576.08 1130.44 Q3574.28 1126.87 3570.64 1126.87 M3570.64 1123.17 Q3576.45 1123.17 3579.51 1127.77 Q3582.59 1132.36 3582.59 1141.11 Q3582.59 1149.83 3579.51 1154.44 Q3576.45 1159.02 3570.64 1159.02 Q3564.83 1159.02 3561.75 1154.44 Q3558.7 1149.83 3558.7 1141.11 Q3558.7 1132.36 3561.75 1127.77 Q3564.83 1123.17 3570.64 1123.17 Z\" fill=\"#000000\" fill-rule=\"evenodd\" fill-opacity=\"1\" /><path clip-path=\"url(#clip130)\" d=\"M3590.8 1152.47 L3595.69 1152.47 L3595.69 1158.35 L3590.8 1158.35 L3590.8 1152.47 Z\" fill=\"#000000\" fill-rule=\"evenodd\" fill-opacity=\"1\" /><path clip-path=\"url(#clip130)\" d=\"M3605.92 1123.79 L3624.28 1123.79 L3624.28 1127.73 L3610.2 1127.73 L3610.2 1136.2 Q3611.22 1135.85 3612.24 1135.69 Q3613.26 1135.5 3614.28 1135.5 Q3620.06 1135.5 3623.44 1138.68 Q3626.82 1141.85 3626.82 1147.26 Q3626.82 1152.84 3623.35 1155.94 Q3619.88 1159.02 3613.56 1159.02 Q3611.38 1159.02 3609.11 1158.65 Q3606.87 1158.28 3604.46 1157.54 L3604.46 1152.84 Q3606.54 1153.98 3608.77 1154.53 Q3610.99 1155.09 3613.47 1155.09 Q3617.47 1155.09 3619.81 1152.98 Q3622.15 1150.88 3622.15 1147.26 Q3622.15 1143.65 3619.81 1141.55 Q3617.47 1139.44 3613.47 1139.44 Q3611.59 1139.44 3609.72 1139.86 Q3607.86 1140.27 3605.92 1141.15 L3605.92 1123.79 Z\" fill=\"#000000\" fill-rule=\"evenodd\" fill-opacity=\"1\" /><path clip-path=\"url(#clip130)\" d=\"M3729.91 1154.42 L3737.55 1154.42 L3737.55 1128.05 L3729.24 1129.72 L3729.24 1125.46 L3737.5 1123.79 L3742.18 1123.79 L3742.18 1154.42 L3749.82 1154.42 L3749.82 1158.35 L3729.91 1158.35 L3729.91 1154.42 Z\" fill=\"#000000\" fill-rule=\"evenodd\" fill-opacity=\"1\" /><path clip-path=\"url(#clip130)\" d=\"M3759.26 1152.47 L3764.15 1152.47 L3764.15 1158.35 L3759.26 1158.35 L3759.26 1152.47 Z\" fill=\"#000000\" fill-rule=\"evenodd\" fill-opacity=\"1\" /><path clip-path=\"url(#clip130)\" d=\"M3784.33 1126.87 Q3780.72 1126.87 3778.89 1130.44 Q3777.09 1133.98 3777.09 1141.11 Q3777.09 1148.21 3778.89 1151.78 Q3780.72 1155.32 3784.33 1155.32 Q3787.97 1155.32 3789.77 1151.78 Q3791.6 1148.21 3791.6 1141.11 Q3791.6 1133.98 3789.77 1130.44 Q3787.97 1126.87 3784.33 1126.87 M3784.33 1123.17 Q3790.14 1123.17 3793.2 1127.77 Q3796.28 1132.36 3796.28 1141.11 Q3796.28 1149.83 3793.2 1154.44 Q3790.14 1159.02 3784.33 1159.02 Q3778.52 1159.02 3775.44 1154.44 Q3772.39 1149.83 3772.39 1141.11 Q3772.39 1132.36 3775.44 1127.77 Q3778.52 1123.17 3784.33 1123.17 Z\" fill=\"#000000\" fill-rule=\"evenodd\" fill-opacity=\"1\" /><path clip-path=\"url(#clip130)\" d=\"M3900.41 1154.42 L3908.05 1154.42 L3908.05 1128.05 L3899.74 1129.72 L3899.74 1125.46 L3908 1123.79 L3912.68 1123.79 L3912.68 1154.42 L3920.32 1154.42 L3920.32 1158.35 L3900.41 1158.35 L3900.41 1154.42 Z\" fill=\"#000000\" fill-rule=\"evenodd\" fill-opacity=\"1\" /><path clip-path=\"url(#clip130)\" d=\"M3929.76 1152.47 L3934.64 1152.47 L3934.64 1158.35 L3929.76 1158.35 L3929.76 1152.47 Z\" fill=\"#000000\" fill-rule=\"evenodd\" fill-opacity=\"1\" /><path clip-path=\"url(#clip130)\" d=\"M3944.88 1123.79 L3963.23 1123.79 L3963.23 1127.73 L3949.16 1127.73 L3949.16 1136.2 Q3950.18 1135.85 3951.2 1135.69 Q3952.21 1135.5 3953.23 1135.5 Q3959.02 1135.5 3962.4 1138.68 Q3965.78 1141.85 3965.78 1147.26 Q3965.78 1152.84 3962.31 1155.94 Q3958.83 1159.02 3952.51 1159.02 Q3950.34 1159.02 3948.07 1158.65 Q3945.82 1158.28 3943.42 1157.54 L3943.42 1152.84 Q3945.5 1153.98 3947.72 1154.53 Q3949.95 1155.09 3952.42 1155.09 Q3956.43 1155.09 3958.76 1152.98 Q3961.1 1150.88 3961.1 1147.26 Q3961.1 1143.65 3958.76 1141.55 Q3956.43 1139.44 3952.42 1139.44 Q3950.55 1139.44 3948.67 1139.86 Q3946.82 1140.27 3944.88 1141.15 L3944.88 1123.79 Z\" fill=\"#000000\" fill-rule=\"evenodd\" fill-opacity=\"1\" /><path clip-path=\"url(#clip130)\" d=\"M4074 1154.42 L4090.31 1154.42 L4090.31 1158.35 L4068.37 1158.35 L4068.37 1154.42 Q4071.03 1151.66 4075.62 1147.03 Q4080.22 1142.38 4081.4 1141.04 Q4083.65 1138.51 4084.53 1136.78 Q4085.43 1135.02 4085.43 1133.33 Q4085.43 1130.57 4083.49 1128.84 Q4081.56 1127.1 4078.46 1127.1 Q4076.26 1127.1 4073.81 1127.87 Q4071.38 1128.63 4068.6 1130.18 L4068.6 1125.46 Q4071.43 1124.32 4073.88 1123.75 Q4076.33 1123.17 4078.37 1123.17 Q4083.74 1123.17 4086.94 1125.85 Q4090.13 1128.54 4090.13 1133.03 Q4090.13 1135.16 4089.32 1137.08 Q4088.53 1138.98 4086.43 1141.57 Q4085.85 1142.24 4082.75 1145.46 Q4079.64 1148.65 4074 1154.42 Z\" fill=\"#000000\" fill-rule=\"evenodd\" fill-opacity=\"1\" /><path clip-path=\"url(#clip130)\" d=\"M4100.13 1152.47 L4105.01 1152.47 L4105.01 1158.35 L4100.13 1158.35 L4100.13 1152.47 Z\" fill=\"#000000\" fill-rule=\"evenodd\" fill-opacity=\"1\" /><path clip-path=\"url(#clip130)\" d=\"M4125.2 1126.87 Q4121.59 1126.87 4119.76 1130.44 Q4117.95 1133.98 4117.95 1141.11 Q4117.95 1148.21 4119.76 1151.78 Q4121.59 1155.32 4125.2 1155.32 Q4128.83 1155.32 4130.64 1151.78 Q4132.47 1148.21 4132.47 1141.11 Q4132.47 1133.98 4130.64 1130.44 Q4128.83 1126.87 4125.2 1126.87 M4125.2 1123.17 Q4131.01 1123.17 4134.06 1127.77 Q4137.14 1132.36 4137.14 1141.11 Q4137.14 1149.83 4134.06 1154.44 Q4131.01 1159.02 4125.2 1159.02 Q4119.39 1159.02 4116.31 1154.44 Q4113.25 1149.83 4113.25 1141.11 Q4113.25 1132.36 4116.31 1127.77 Q4119.39 1123.17 4125.2 1123.17 Z\" fill=\"#000000\" fill-rule=\"evenodd\" fill-opacity=\"1\" /><path clip-path=\"url(#clip130)\" d=\"M4244.49 1154.42 L4260.81 1154.42 L4260.81 1158.35 L4238.87 1158.35 L4238.87 1154.42 Q4241.53 1151.66 4246.11 1147.03 Q4250.72 1142.38 4251.9 1141.04 Q4254.14 1138.51 4255.02 1136.78 Q4255.93 1135.02 4255.93 1133.33 Q4255.93 1130.57 4253.98 1128.84 Q4252.06 1127.1 4248.96 1127.1 Q4246.76 1127.1 4244.31 1127.87 Q4241.88 1128.63 4239.1 1130.18 L4239.1 1125.46 Q4241.92 1124.32 4244.38 1123.75 Q4246.83 1123.17 4248.87 1123.17 Q4254.24 1123.17 4257.43 1125.85 Q4260.63 1128.54 4260.63 1133.03 Q4260.63 1135.16 4259.82 1137.08 Q4259.03 1138.98 4256.92 1141.57 Q4256.34 1142.24 4253.24 1145.46 Q4250.14 1148.65 4244.49 1154.42 Z\" fill=\"#000000\" fill-rule=\"evenodd\" fill-opacity=\"1\" /><path clip-path=\"url(#clip130)\" d=\"M4270.63 1152.47 L4275.51 1152.47 L4275.51 1158.35 L4270.63 1158.35 L4270.63 1152.47 Z\" fill=\"#000000\" fill-rule=\"evenodd\" fill-opacity=\"1\" /><path clip-path=\"url(#clip130)\" d=\"M4285.74 1123.79 L4304.1 1123.79 L4304.1 1127.73 L4290.02 1127.73 L4290.02 1136.2 Q4291.04 1135.85 4292.06 1135.69 Q4293.08 1135.5 4294.1 1135.5 Q4299.89 1135.5 4303.27 1138.68 Q4306.64 1141.85 4306.64 1147.26 Q4306.64 1152.84 4303.17 1155.94 Q4299.7 1159.02 4293.38 1159.02 Q4291.2 1159.02 4288.94 1158.65 Q4286.69 1158.28 4284.28 1157.54 L4284.28 1152.84 Q4286.37 1153.98 4288.59 1154.53 Q4290.81 1155.09 4293.29 1155.09 Q4297.29 1155.09 4299.63 1152.98 Q4301.97 1150.88 4301.97 1147.26 Q4301.97 1143.65 4299.63 1141.55 Q4297.29 1139.44 4293.29 1139.44 Q4291.41 1139.44 4289.54 1139.86 Q4287.69 1140.27 4285.74 1141.15 L4285.74 1123.79 Z\" fill=\"#000000\" fill-rule=\"evenodd\" fill-opacity=\"1\" /><polyline clip-path=\"url(#clip134)\" style=\"stroke:#000000; stroke-linecap:butt; stroke-linejoin:round; stroke-width:2; stroke-opacity:0.1; fill:none\" points=\"\n",
       "  3422.76,1078.48 4272.76,1078.48 \n",
       "  \"/>\n",
       "<polyline clip-path=\"url(#clip134)\" style=\"stroke:#000000; stroke-linecap:butt; stroke-linejoin:round; stroke-width:2; stroke-opacity:0.1; fill:none\" points=\"\n",
       "  3422.76,872.233 4272.76,872.233 \n",
       "  \"/>\n",
       "<polyline clip-path=\"url(#clip134)\" style=\"stroke:#000000; stroke-linecap:butt; stroke-linejoin:round; stroke-width:2; stroke-opacity:0.1; fill:none\" points=\"\n",
       "  3422.76,665.986 4272.76,665.986 \n",
       "  \"/>\n",
       "<polyline clip-path=\"url(#clip134)\" style=\"stroke:#000000; stroke-linecap:butt; stroke-linejoin:round; stroke-width:2; stroke-opacity:0.1; fill:none\" points=\"\n",
       "  3422.76,459.738 4272.76,459.738 \n",
       "  \"/>\n",
       "<polyline clip-path=\"url(#clip134)\" style=\"stroke:#000000; stroke-linecap:butt; stroke-linejoin:round; stroke-width:2; stroke-opacity:0.1; fill:none\" points=\"\n",
       "  3422.76,253.491 4272.76,253.491 \n",
       "  \"/>\n",
       "<polyline clip-path=\"url(#clip134)\" style=\"stroke:#000000; stroke-linecap:butt; stroke-linejoin:round; stroke-width:2; stroke-opacity:0.1; fill:none\" points=\"\n",
       "  3422.76,47.2441 4272.76,47.2441 \n",
       "  \"/>\n",
       "<polyline clip-path=\"url(#clip130)\" style=\"stroke:#000000; stroke-linecap:butt; stroke-linejoin:round; stroke-width:4; stroke-opacity:1; fill:none\" points=\"\n",
       "  3422.76,1078.48 3422.76,47.2441 \n",
       "  \"/>\n",
       "<polyline clip-path=\"url(#clip130)\" style=\"stroke:#000000; stroke-linecap:butt; stroke-linejoin:round; stroke-width:4; stroke-opacity:1; fill:none\" points=\"\n",
       "  3422.76,1078.48 3434.84,1078.48 \n",
       "  \"/>\n",
       "<polyline clip-path=\"url(#clip130)\" style=\"stroke:#000000; stroke-linecap:butt; stroke-linejoin:round; stroke-width:4; stroke-opacity:1; fill:none\" points=\"\n",
       "  3422.76,872.233 3434.84,872.233 \n",
       "  \"/>\n",
       "<polyline clip-path=\"url(#clip130)\" style=\"stroke:#000000; stroke-linecap:butt; stroke-linejoin:round; stroke-width:4; stroke-opacity:1; fill:none\" points=\"\n",
       "  3422.76,665.986 3434.84,665.986 \n",
       "  \"/>\n",
       "<polyline clip-path=\"url(#clip130)\" style=\"stroke:#000000; stroke-linecap:butt; stroke-linejoin:round; stroke-width:4; stroke-opacity:1; fill:none\" points=\"\n",
       "  3422.76,459.738 3434.84,459.738 \n",
       "  \"/>\n",
       "<polyline clip-path=\"url(#clip130)\" style=\"stroke:#000000; stroke-linecap:butt; stroke-linejoin:round; stroke-width:4; stroke-opacity:1; fill:none\" points=\"\n",
       "  3422.76,253.491 3434.84,253.491 \n",
       "  \"/>\n",
       "<polyline clip-path=\"url(#clip130)\" style=\"stroke:#000000; stroke-linecap:butt; stroke-linejoin:round; stroke-width:4; stroke-opacity:1; fill:none\" points=\"\n",
       "  3422.76,47.2441 3434.84,47.2441 \n",
       "  \"/>\n",
       "<path clip-path=\"url(#clip130)\" d=\"M3293.59 1064.28 Q3289.97 1064.28 3288.15 1067.84 Q3286.34 1071.38 3286.34 1078.51 Q3286.34 1085.62 3288.15 1089.19 Q3289.97 1092.73 3293.59 1092.73 Q3297.22 1092.73 3299.02 1089.19 Q3300.85 1085.62 3300.85 1078.51 Q3300.85 1071.38 3299.02 1067.84 Q3297.22 1064.28 3293.59 1064.28 M3293.59 1060.57 Q3299.4 1060.57 3302.45 1065.18 Q3305.53 1069.76 3305.53 1078.51 Q3305.53 1087.24 3302.45 1091.85 Q3299.4 1096.43 3293.59 1096.43 Q3287.77 1096.43 3284.7 1091.85 Q3281.64 1087.24 3281.64 1078.51 Q3281.64 1069.76 3284.7 1065.18 Q3287.77 1060.57 3293.59 1060.57 Z\" fill=\"#000000\" fill-rule=\"evenodd\" fill-opacity=\"1\" /><path clip-path=\"url(#clip130)\" d=\"M3313.75 1089.88 L3318.63 1089.88 L3318.63 1095.76 L3313.75 1095.76 L3313.75 1089.88 Z\" fill=\"#000000\" fill-rule=\"evenodd\" fill-opacity=\"1\" /><path clip-path=\"url(#clip130)\" d=\"M3338.82 1064.28 Q3335.21 1064.28 3333.38 1067.84 Q3331.57 1071.38 3331.57 1078.51 Q3331.57 1085.62 3333.38 1089.19 Q3335.21 1092.73 3338.82 1092.73 Q3342.45 1092.73 3344.26 1089.19 Q3346.08 1085.62 3346.08 1078.51 Q3346.08 1071.38 3344.26 1067.84 Q3342.45 1064.28 3338.82 1064.28 M3338.82 1060.57 Q3344.63 1060.57 3347.68 1065.18 Q3350.76 1069.76 3350.76 1078.51 Q3350.76 1087.24 3347.68 1091.85 Q3344.63 1096.43 3338.82 1096.43 Q3333.01 1096.43 3329.93 1091.85 Q3326.87 1087.24 3326.87 1078.51 Q3326.87 1069.76 3329.93 1065.18 Q3333.01 1060.57 3338.82 1060.57 Z\" fill=\"#000000\" fill-rule=\"evenodd\" fill-opacity=\"1\" /><path clip-path=\"url(#clip130)\" d=\"M3295.18 858.031 Q3291.57 858.031 3289.74 861.596 Q3287.94 865.138 3287.94 872.267 Q3287.94 879.374 3289.74 882.939 Q3291.57 886.48 3295.18 886.48 Q3298.82 886.48 3300.62 882.939 Q3302.45 879.374 3302.45 872.267 Q3302.45 865.138 3300.62 861.596 Q3298.82 858.031 3295.18 858.031 M3295.18 854.328 Q3300.99 854.328 3304.05 858.934 Q3307.13 863.517 3307.13 872.267 Q3307.13 880.994 3304.05 885.601 Q3300.99 890.184 3295.18 890.184 Q3289.37 890.184 3286.29 885.601 Q3283.24 880.994 3283.24 872.267 Q3283.24 863.517 3286.29 858.934 Q3289.37 854.328 3295.18 854.328 Z\" fill=\"#000000\" fill-rule=\"evenodd\" fill-opacity=\"1\" /><path clip-path=\"url(#clip130)\" d=\"M3315.34 883.633 L3320.23 883.633 L3320.23 889.513 L3315.34 889.513 L3315.34 883.633 Z\" fill=\"#000000\" fill-rule=\"evenodd\" fill-opacity=\"1\" /><path clip-path=\"url(#clip130)\" d=\"M3334.44 885.578 L3350.76 885.578 L3350.76 889.513 L3328.82 889.513 L3328.82 885.578 Q3331.48 882.823 3336.06 878.193 Q3340.67 873.541 3341.85 872.198 Q3344.09 869.675 3344.97 867.939 Q3345.88 866.179 3345.88 864.49 Q3345.88 861.735 3343.93 859.999 Q3342.01 858.263 3338.91 858.263 Q3336.71 858.263 3334.26 859.027 Q3331.83 859.791 3329.05 861.342 L3329.05 856.619 Q3331.87 855.485 3334.33 854.906 Q3336.78 854.328 3338.82 854.328 Q3344.19 854.328 3347.38 857.013 Q3350.58 859.698 3350.58 864.189 Q3350.58 866.318 3349.77 868.24 Q3348.98 870.138 3346.87 872.73 Q3346.29 873.402 3343.19 876.619 Q3340.09 879.814 3334.44 885.578 Z\" fill=\"#000000\" fill-rule=\"evenodd\" fill-opacity=\"1\" /><path clip-path=\"url(#clip130)\" d=\"M3293.1 651.784 Q3289.49 651.784 3287.66 655.349 Q3285.85 658.891 3285.85 666.02 Q3285.85 673.127 3287.66 676.692 Q3289.49 680.233 3293.1 680.233 Q3296.73 680.233 3298.54 676.692 Q3300.37 673.127 3300.37 666.02 Q3300.37 658.891 3298.54 655.349 Q3296.73 651.784 3293.1 651.784 M3293.1 648.081 Q3298.91 648.081 3301.96 652.687 Q3305.04 657.27 3305.04 666.02 Q3305.04 674.747 3301.96 679.354 Q3298.91 683.937 3293.1 683.937 Q3287.29 683.937 3284.21 679.354 Q3281.15 674.747 3281.15 666.02 Q3281.15 657.27 3284.21 652.687 Q3287.29 648.081 3293.1 648.081 Z\" fill=\"#000000\" fill-rule=\"evenodd\" fill-opacity=\"1\" /><path clip-path=\"url(#clip130)\" d=\"M3313.26 677.386 L3318.15 677.386 L3318.15 683.266 L3313.26 683.266 L3313.26 677.386 Z\" fill=\"#000000\" fill-rule=\"evenodd\" fill-opacity=\"1\" /><path clip-path=\"url(#clip130)\" d=\"M3341.18 652.78 L3329.37 671.229 L3341.18 671.229 L3341.18 652.78 M3339.95 648.706 L3345.83 648.706 L3345.83 671.229 L3350.76 671.229 L3350.76 675.117 L3345.83 675.117 L3345.83 683.266 L3341.18 683.266 L3341.18 675.117 L3325.58 675.117 L3325.58 670.604 L3339.95 648.706 Z\" fill=\"#000000\" fill-rule=\"evenodd\" fill-opacity=\"1\" /><path clip-path=\"url(#clip130)\" d=\"M3293.42 445.537 Q3289.81 445.537 3287.98 449.102 Q3286.18 452.644 3286.18 459.773 Q3286.18 466.88 3287.98 470.444 Q3289.81 473.986 3293.42 473.986 Q3297.06 473.986 3298.86 470.444 Q3300.69 466.88 3300.69 459.773 Q3300.69 452.644 3298.86 449.102 Q3297.06 445.537 3293.42 445.537 M3293.42 441.833 Q3299.23 441.833 3302.29 446.44 Q3305.37 451.023 3305.37 459.773 Q3305.37 468.5 3302.29 473.106 Q3299.23 477.69 3293.42 477.69 Q3287.61 477.69 3284.53 473.106 Q3281.48 468.5 3281.48 459.773 Q3281.48 451.023 3284.53 446.44 Q3287.61 441.833 3293.42 441.833 Z\" fill=\"#000000\" fill-rule=\"evenodd\" fill-opacity=\"1\" /><path clip-path=\"url(#clip130)\" d=\"M3313.59 471.139 L3318.47 471.139 L3318.47 477.018 L3313.59 477.018 L3313.59 471.139 Z\" fill=\"#000000\" fill-rule=\"evenodd\" fill-opacity=\"1\" /><path clip-path=\"url(#clip130)\" d=\"M3339.23 457.875 Q3336.08 457.875 3334.23 460.028 Q3332.4 462.181 3332.4 465.93 Q3332.4 469.657 3334.23 471.833 Q3336.08 473.986 3339.23 473.986 Q3342.38 473.986 3344.21 471.833 Q3346.06 469.657 3346.06 465.93 Q3346.06 462.181 3344.21 460.028 Q3342.38 457.875 3339.23 457.875 M3348.52 443.222 L3348.52 447.482 Q3346.76 446.648 3344.95 446.208 Q3343.17 445.769 3341.41 445.769 Q3336.78 445.769 3334.33 448.894 Q3331.9 452.019 3331.55 458.338 Q3332.91 456.324 3334.97 455.259 Q3337.03 454.171 3339.51 454.171 Q3344.72 454.171 3347.73 457.343 Q3350.76 460.491 3350.76 465.93 Q3350.76 471.255 3347.61 474.472 Q3344.46 477.69 3339.23 477.69 Q3333.24 477.69 3330.07 473.106 Q3326.9 468.5 3326.9 459.773 Q3326.9 451.579 3330.78 446.718 Q3334.67 441.833 3341.22 441.833 Q3342.98 441.833 3344.77 442.181 Q3346.57 442.528 3348.52 443.222 Z\" fill=\"#000000\" fill-rule=\"evenodd\" fill-opacity=\"1\" /><path clip-path=\"url(#clip130)\" d=\"M3293.68 239.29 Q3290.07 239.29 3288.24 242.855 Q3286.43 246.396 3286.43 253.526 Q3286.43 260.632 3288.24 264.197 Q3290.07 267.739 3293.68 267.739 Q3297.31 267.739 3299.12 264.197 Q3300.95 260.632 3300.95 253.526 Q3300.95 246.396 3299.12 242.855 Q3297.31 239.29 3293.68 239.29 M3293.68 235.586 Q3299.49 235.586 3302.54 240.193 Q3305.62 244.776 3305.62 253.526 Q3305.62 262.253 3302.54 266.859 Q3299.49 271.443 3293.68 271.443 Q3287.87 271.443 3284.79 266.859 Q3281.73 262.253 3281.73 253.526 Q3281.73 244.776 3284.79 240.193 Q3287.87 235.586 3293.68 235.586 Z\" fill=\"#000000\" fill-rule=\"evenodd\" fill-opacity=\"1\" /><path clip-path=\"url(#clip130)\" d=\"M3313.84 264.892 L3318.72 264.892 L3318.72 270.771 L3313.84 270.771 L3313.84 264.892 Z\" fill=\"#000000\" fill-rule=\"evenodd\" fill-opacity=\"1\" /><path clip-path=\"url(#clip130)\" d=\"M3338.91 254.359 Q3335.58 254.359 3333.65 256.142 Q3331.76 257.924 3331.76 261.049 Q3331.76 264.174 3333.65 265.956 Q3335.58 267.739 3338.91 267.739 Q3342.24 267.739 3344.16 265.956 Q3346.08 264.151 3346.08 261.049 Q3346.08 257.924 3344.16 256.142 Q3342.27 254.359 3338.91 254.359 M3334.23 252.369 Q3331.22 251.628 3329.53 249.568 Q3327.87 247.507 3327.87 244.545 Q3327.87 240.401 3330.81 237.994 Q3333.77 235.586 3338.91 235.586 Q3344.07 235.586 3347.01 237.994 Q3349.95 240.401 3349.95 244.545 Q3349.95 247.507 3348.26 249.568 Q3346.59 251.628 3343.61 252.369 Q3346.99 253.156 3348.86 255.447 Q3350.76 257.739 3350.76 261.049 Q3350.76 266.072 3347.68 268.757 Q3344.63 271.443 3338.91 271.443 Q3333.19 271.443 3330.11 268.757 Q3327.06 266.072 3327.06 261.049 Q3327.06 257.739 3328.96 255.447 Q3330.85 253.156 3334.23 252.369 M3332.52 244.984 Q3332.52 247.67 3334.19 249.174 Q3335.88 250.679 3338.91 250.679 Q3341.92 250.679 3343.61 249.174 Q3345.32 247.67 3345.32 244.984 Q3345.32 242.299 3343.61 240.795 Q3341.92 239.29 3338.91 239.29 Q3335.88 239.29 3334.19 240.795 Q3332.52 242.299 3332.52 244.984 Z\" fill=\"#000000\" fill-rule=\"evenodd\" fill-opacity=\"1\" /><path clip-path=\"url(#clip130)\" d=\"M3284.4 60.5889 L3292.03 60.5889 L3292.03 34.2233 L3283.72 35.89 L3283.72 31.6308 L3291.99 29.9641 L3296.66 29.9641 L3296.66 60.5889 L3304.3 60.5889 L3304.3 64.5241 L3284.4 64.5241 L3284.4 60.5889 Z\" fill=\"#000000\" fill-rule=\"evenodd\" fill-opacity=\"1\" /><path clip-path=\"url(#clip130)\" d=\"M3313.75 58.6445 L3318.63 58.6445 L3318.63 64.5241 L3313.75 64.5241 L3313.75 58.6445 Z\" fill=\"#000000\" fill-rule=\"evenodd\" fill-opacity=\"1\" /><path clip-path=\"url(#clip130)\" d=\"M3338.82 33.0428 Q3335.21 33.0428 3333.38 36.6076 Q3331.57 40.1492 3331.57 47.2788 Q3331.57 54.3853 3333.38 57.9501 Q3335.21 61.4917 3338.82 61.4917 Q3342.45 61.4917 3344.26 57.9501 Q3346.08 54.3853 3346.08 47.2788 Q3346.08 40.1492 3344.26 36.6076 Q3342.45 33.0428 3338.82 33.0428 M3338.82 29.3391 Q3344.63 29.3391 3347.68 33.9456 Q3350.76 38.5289 3350.76 47.2788 Q3350.76 56.0056 3347.68 60.6121 Q3344.63 65.1954 3338.82 65.1954 Q3333.01 65.1954 3329.93 60.6121 Q3326.87 56.0056 3326.87 47.2788 Q3326.87 38.5289 3329.93 33.9456 Q3333.01 29.3391 3338.82 29.3391 Z\" fill=\"#000000\" fill-rule=\"evenodd\" fill-opacity=\"1\" /><polyline clip-path=\"url(#clip134)\" style=\"stroke:#0f00f0; stroke-linecap:butt; stroke-linejoin:round; stroke-width:4; stroke-opacity:1; fill:none\" points=\"\n",
       "  3493.38,1078.48 3493.84,1068.17 3494.31,1057.86 3494.78,1047.54 3495.25,1037.23 3495.73,1026.92 3496.21,1016.61 3496.7,1006.29 3497.2,995.981 3497.7,985.669 \n",
       "  3498.21,975.356 3498.73,965.044 3499.26,954.732 3499.8,944.419 3500.34,934.107 3500.9,923.794 3501.46,913.482 3502.04,903.17 3502.62,892.857 3503.22,882.545 \n",
       "  3503.83,872.233 3504.44,861.92 3505.07,851.608 3505.71,841.296 3506.36,830.983 3507.02,820.671 3507.69,810.359 3508.37,800.046 3509.06,789.734 3509.77,779.421 \n",
       "  3510.48,769.109 3511.21,758.797 3511.95,748.484 3512.7,738.172 3513.46,727.86 3514.23,717.547 3515.02,707.235 3515.81,696.923 3516.61,686.61 3517.42,676.298 \n",
       "  3518.24,665.986 3519.05,655.673 3519.86,645.361 3520.66,635.048 3521.43,624.736 3522.17,614.424 3522.85,604.111 3523.46,593.799 3523.96,583.487 3524.32,573.174 \n",
       "  3524.51,562.862 3524.48,552.55 3524.2,542.237 3523.66,531.925 3522.82,521.613 3521.73,511.3 3520.4,500.988 3518.92,490.675 3517.37,480.363 3515.83,470.051 \n",
       "  3514.38,459.738 3513.09,449.426 3512,439.114 3511.11,428.801 3510.43,418.489 3509.94,408.177 3509.63,397.864 3509.47,387.552 3509.44,377.24 3509.51,366.927 \n",
       "  3509.67,356.615 3509.9,346.302 3510.18,335.99 3510.51,325.678 3510.88,315.365 3511.28,305.053 3511.71,294.741 3512.16,284.428 3512.63,274.116 3513.11,263.804 \n",
       "  3513.62,253.491 3514.14,243.179 3514.67,232.867 3515.23,222.554 3515.8,212.242 3516.4,201.929 3517.01,191.617 3517.65,181.305 3518.32,170.992 3519.02,160.68 \n",
       "  3519.75,150.368 3520.52,140.055 3521.33,129.743 3522.19,119.431 3523.11,109.118 3524.09,98.8059 3524.76,92.1497 3525.28,88.4935 3526.75,78.1812 3528.21,67.8688 \n",
       "  3529.67,57.5565 3531.1,47.2441 \n",
       "  \"/>\n",
       "<polyline clip-path=\"url(#clip134)\" style=\"stroke:#1f00e0; stroke-linecap:butt; stroke-linejoin:round; stroke-width:4; stroke-opacity:1; fill:none\" points=\"\n",
       "  3603.67,47.2441 3602.2,57.5565 3600.83,67.8688 3599.56,78.1812 3598.37,88.4935 3597.25,98.8059 3596.2,109.118 3595.21,119.431 3594.27,129.743 3593.37,140.055 \n",
       "  3592.76,147.387 3592.49,150.368 3591.57,160.68 3590.67,170.992 3589.79,181.305 3588.92,191.617 3588.06,201.929 3587.21,212.242 3586.36,222.554 3585.52,232.867 \n",
       "  3584.69,243.179 3583.86,253.491 3583.02,263.804 3582.19,274.116 3581.36,284.428 3580.52,294.741 3579.68,305.053 3578.83,315.365 3577.98,325.678 3577.13,335.99 \n",
       "  3576.27,346.302 3575.41,356.615 3574.54,366.927 3573.67,377.24 3572.79,387.552 3571.9,397.864 3571.01,408.177 3570.12,418.489 3569.22,428.801 3568.31,439.114 \n",
       "  3567.41,449.426 3566.49,459.738 3565.57,470.051 3564.65,480.363 3563.72,490.675 3562.79,500.988 3561.85,511.3 3560.9,521.613 3559.95,531.925 3558.99,542.237 \n",
       "  3558.76,544.625 3557.66,552.55 3556.25,562.862 3554.88,573.174 3553.54,583.487 3552.24,593.799 3550.97,604.111 3549.73,614.424 3548.52,624.736 3547.35,635.048 \n",
       "  3546.2,645.361 3545.08,655.673 3543.98,665.986 3542.92,676.298 3541.87,686.61 3540.85,696.923 3539.85,707.235 3538.87,717.547 3537.91,727.86 3536.96,738.172 \n",
       "  3536.04,748.484 3535.13,758.797 3534.23,769.109 3533.35,779.421 3532.47,789.734 3531.61,800.046 3530.75,810.359 3529.9,820.671 3529.06,830.983 3528.22,841.296 \n",
       "  3527.38,851.608 3526.53,861.92 3525.69,872.233 3524.84,882.545 3524.76,883.446 3523.29,892.857 3521.75,903.17 3520.28,913.482 3518.87,923.794 3517.53,934.107 \n",
       "  3516.25,944.419 3515.02,954.732 3513.84,965.044 3512.71,975.356 3511.62,985.669 3510.58,995.981 3509.58,1006.29 3508.62,1016.61 3507.69,1026.92 3506.79,1037.23 \n",
       "  3505.92,1047.54 3505.08,1057.86 3504.27,1068.17 3503.48,1078.48 \n",
       "  \"/>\n",
       "<polyline clip-path=\"url(#clip134)\" style=\"stroke:#2f00d0; stroke-linecap:butt; stroke-linejoin:round; stroke-width:4; stroke-opacity:1; fill:none\" points=\"\n",
       "  3513.58,1078.48 3514.7,1068.17 3515.86,1057.86 3517.07,1047.54 3518.33,1037.23 3519.64,1026.92 3521.02,1016.61 3522.46,1006.29 3523.97,995.981 3524.76,990.716 \n",
       "  3525.32,985.669 3526.43,975.356 3527.53,965.044 3528.61,954.732 3529.68,944.419 3530.74,934.107 3531.8,923.794 3532.86,913.482 3533.91,903.17 3534.97,892.857 \n",
       "  3536.04,882.545 3537.11,872.233 3538.2,861.92 3539.31,851.608 3540.43,841.296 3541.58,830.983 3542.75,820.671 3543.94,810.359 3545.16,800.046 3546.42,789.734 \n",
       "  3547.71,779.421 3549.03,769.109 3550.4,758.797 3551.81,748.484 3553.26,738.172 3554.76,727.86 3556.31,717.547 3557.91,707.235 3558.76,701.868 3559.48,696.923 \n",
       "  3560.95,686.61 3562.4,676.298 3563.85,665.986 3565.3,655.673 3566.75,645.361 3568.19,635.048 3569.64,624.736 3571.1,614.424 3572.57,604.111 3574.05,593.799 \n",
       "  3575.54,583.487 3577.05,573.174 3578.58,562.862 3580.12,552.55 3581.69,542.237 3583.28,531.925 3584.89,521.613 3586.53,511.3 3588.2,500.988 3589.9,490.675 \n",
       "  3591.62,480.363 3592.76,473.615 3593.46,470.051 3595.43,459.738 3597.38,449.426 3599.32,439.114 3601.24,428.801 3603.16,418.489 3605.06,408.177 3606.96,397.864 \n",
       "  3608.86,387.552 3610.75,377.24 3612.64,366.927 3614.53,356.615 3616.43,346.302 3618.33,335.99 3620.23,325.678 3622.15,315.365 3624.08,305.053 3626.02,294.741 \n",
       "  3626.76,290.771 3628.49,284.428 3631.26,274.116 3634.02,263.804 3636.79,253.491 3639.56,243.179 3642.35,232.867 3645.16,222.554 3648.02,212.242 3650.92,201.929 \n",
       "  3653.89,191.617 3656.93,181.305 3660.07,170.992 3660.76,168.74 3667.15,160.68 3675.85,150.368 3685.27,140.055 3694.76,130.535 3712.93,140.055 3728.76,147.722 \n",
       "  3730.96,150.368 3739.39,160.68 3747.6,170.992 3755.64,181.305 3762.76,190.547 3763.83,191.617 3773.36,201.929 3781.67,212.242 3789.11,222.554 3795.91,232.867 \n",
       "  3796.76,234.192 3799.61,232.867 3813.51,222.554 3820.18,212.242 3823.65,201.929 3825.44,191.617 3826.26,181.305 3826.46,170.992 3826.25,160.68 3825.76,150.368 \n",
       "  3825.07,140.055 3824.24,129.743 3823.3,119.431 3822.29,109.118 3821.22,98.8059 3820.11,88.4935 3818.97,78.1812 3817.81,67.8688 3816.63,57.5565 3815.45,47.2441 \n",
       "  \n",
       "  \"/>\n",
       "<polyline clip-path=\"url(#clip134)\" style=\"stroke:#3f00c0; stroke-linecap:butt; stroke-linejoin:round; stroke-width:4; stroke-opacity:1; fill:none\" points=\"\n",
       "  3843.57,47.2441 3845.09,57.5565 3846.64,67.8688 3848.23,78.1812 3849.86,88.4935 3851.53,98.8059 3853.25,109.118 3855.02,119.431 3856.85,129.743 3858.73,140.055 \n",
       "  3860.69,150.368 3862.71,160.68 3864.76,170.726 3864.79,170.992 3865.8,181.305 3866.82,191.617 3867.83,201.929 3868.84,212.242 3869.85,222.554 3870.85,232.867 \n",
       "  3871.85,243.179 3872.84,253.491 3873.83,263.804 3874.81,274.116 3875.78,284.428 3876.74,294.741 3877.69,305.053 3878.62,315.365 3879.52,325.678 3880.41,335.99 \n",
       "  3881.26,346.302 3882.08,356.615 3882.86,366.927 3883.58,377.24 3884.24,387.552 3884.83,397.864 3885.33,408.177 3885.71,418.489 3885.97,428.801 3886.06,439.114 \n",
       "  3885.95,449.426 3885.6,459.738 3884.94,470.051 3883.88,480.363 3882.33,490.675 3880.13,500.988 3877.07,511.3 3872.82,521.613 3866.93,531.925 3864.76,534.951 \n",
       "  3862.53,531.925 3854.4,521.613 3844.98,511.3 3833.7,500.988 3830.76,498.597 3826.47,490.675 3820.75,480.363 3814.83,470.051 3808.67,459.738 3802.22,449.426 \n",
       "  3796.76,441.085 3795.63,439.114 3789.68,428.801 3783.64,418.489 3777.51,408.177 3771.28,397.864 3764.93,387.552 3762.76,384.05 3757.1,377.24 3748.47,366.927 \n",
       "  3739.77,356.615 3731.01,346.302 3728.76,343.646 3694.76,336.058 3685.92,346.302 3676.81,356.615 3667.42,366.927 3660.76,374.001 3659.58,377.24 3655.78,387.552 \n",
       "  3651.94,397.864 3648.04,408.177 3644.09,418.489 3640.08,428.801 3635.98,439.114 3631.8,449.426 3627.52,459.738 3626.76,461.516 3624.7,470.051 3622.22,480.363 \n",
       "  3619.74,490.675 3617.27,500.988 3614.8,511.3 3612.32,521.613 3609.84,531.925 3607.35,542.237 3604.84,552.55 3602.3,562.862 3599.74,573.174 3597.15,583.487 \n",
       "  3594.52,593.799 3592.76,600.576 3592.11,604.111 3590.21,614.424 3588.34,624.736 3586.51,635.048 3584.71,645.361 3582.94,655.673 3581.18,665.986 3579.45,676.298 \n",
       "  3577.73,686.61 3576.02,696.923 3574.33,707.235 3572.63,717.547 3570.94,727.86 3569.24,738.172 3567.54,748.484 3565.82,758.797 3564.08,769.109 3562.32,779.421 \n",
       "  3560.53,789.734 3558.76,799.778 3558.72,800.046 3557.13,810.359 3555.59,820.671 3554.09,830.983 3552.65,841.296 3551.24,851.608 3549.87,861.92 3548.54,872.233 \n",
       "  3547.24,882.545 3545.96,892.857 3544.71,903.17 3543.49,913.482 3542.27,923.794 3541.08,934.107 3539.89,944.419 3538.71,954.732 3537.53,965.044 3536.36,975.356 \n",
       "  3535.17,985.669 3533.98,995.981 3532.78,1006.29 3531.57,1016.61 3530.33,1026.92 3529.07,1037.23 3527.78,1047.54 3526.46,1057.86 3525.11,1068.17 3524.76,1070.73 \n",
       "  3523.69,1078.48 \n",
       "  \"/>\n",
       "<polyline clip-path=\"url(#clip134)\" style=\"stroke:#4f00b0; stroke-linecap:butt; stroke-linejoin:round; stroke-width:4; stroke-opacity:1; fill:none\" points=\"\n",
       "  3533.59,1078.48 3534.93,1068.17 3536.24,1057.86 3537.53,1047.54 3538.8,1037.23 3540.06,1026.92 3541.31,1016.61 3542.55,1006.29 3543.79,995.981 3545.03,985.669 \n",
       "  3546.28,975.356 3547.53,965.044 3548.81,954.732 3550.1,944.419 3551.41,934.107 3552.75,923.794 3554.12,913.482 3555.52,903.17 3556.96,892.857 3558.44,882.545 \n",
       "  3558.76,880.353 3560.43,872.233 3562.51,861.92 3564.54,851.608 3566.52,841.296 3568.46,830.983 3570.36,820.671 3572.24,810.359 3574.1,800.046 3575.94,789.734 \n",
       "  3577.76,779.421 3579.59,769.109 3581.41,758.797 3583.23,748.484 3585.06,738.172 3586.91,727.86 3588.77,717.547 3590.66,707.235 3592.57,696.923 3592.76,695.903 \n",
       "  3595.65,686.61 3598.78,676.298 3601.85,665.986 3604.84,655.673 3607.79,645.361 3610.68,635.048 3613.54,624.736 3616.37,614.424 3619.17,604.111 3621.96,593.799 \n",
       "  3624.73,583.487 3626.76,575.908 3628.31,573.174 3633.99,562.862 3639.47,552.55 3644.78,542.237 3649.92,531.925 3654.93,521.613 3659.8,511.3 3660.76,509.232 \n",
       "  3674.27,500.988 3689.79,490.675 3694.76,487.157 3703.25,490.675 3726.51,500.988 3728.76,502.04 3736.49,511.3 3744.9,521.613 3753.11,531.925 3761.12,542.237 \n",
       "  3762.76,544.374 3767.68,552.55 3773.82,562.862 3779.88,573.174 3785.88,583.487 3791.8,593.799 3796.76,602.517 3797.66,604.111 3803.49,614.424 3809.22,624.736 \n",
       "  3814.88,635.048 3820.47,645.361 3825.99,655.673 3830.76,664.654 3831.64,665.986 3838.37,676.298 3844.87,686.61 3851.18,696.923 3857.32,707.235 3863.31,717.547 \n",
       "  3864.76,720.062 3873.29,727.86 3883.46,738.172 3892.62,748.484 3898.76,755.943 3911.15,748.484 3922.49,738.172 3929.81,727.86 3932.76,721.98 3933.22,717.547 \n",
       "  3934.1,707.235 3934.78,696.923 3935.29,686.61 3935.66,676.298 3935.89,665.986 3936,655.673 3936.01,645.361 3935.93,635.048 3935.76,624.736 3935.52,614.424 \n",
       "  3935.21,604.111 3934.84,593.799 3934.42,583.487 3933.95,573.174 3933.44,562.862 3932.88,552.55 3932.76,550.477 3931.77,542.237 3930.51,531.925 3929.23,521.613 \n",
       "  3927.94,511.3 3926.65,500.988 3925.36,490.675 3924.07,480.363 3922.78,470.051 3921.49,459.738 3920.21,449.426 3918.94,439.114 3917.67,428.801 3916.41,418.489 \n",
       "  3915.16,408.177 3913.92,397.864 3912.68,387.552 3911.45,377.24 3910.23,366.927 3909.02,356.615 3907.82,346.302 3906.62,335.99 3905.42,325.678 3904.24,315.365 \n",
       "  3903.05,305.053 3901.87,294.741 3900.69,284.428 3899.51,274.116 3898.76,267.607 3898,263.804 3895.94,253.491 3893.94,243.179 3892.01,232.867 3890.14,222.554 \n",
       "  3888.32,212.242 3886.55,201.929 3884.82,191.617 3883.13,181.305 3881.49,170.992 3879.88,160.68 3878.3,150.368 3876.75,140.055 3875.23,129.743 3873.73,119.431 \n",
       "  3872.26,109.118 3870.8,98.8059 3869.36,88.4935 3867.93,78.1812 3866.51,67.8688 3865.1,57.5565 3864.76,55.1165 3862.97,47.2441 \n",
       "  \"/>\n",
       "<polyline clip-path=\"url(#clip134)\" style=\"stroke:#5f00a0; stroke-linecap:butt; stroke-linejoin:round; stroke-width:4; stroke-opacity:1; fill:none\" points=\"\n",
       "  3875.32,47.2441 3877.01,57.5565 3878.73,67.8688 3880.47,78.1812 3882.25,88.4935 3884.07,98.8059 3885.93,109.118 3887.83,119.431 3889.79,129.743 3891.79,140.055 \n",
       "  3893.86,150.368 3895.99,160.68 3898.19,170.992 3898.76,173.641 3899.86,181.305 3901.34,191.617 3902.82,201.929 3904.3,212.242 3905.79,222.554 3907.29,232.867 \n",
       "  3908.8,243.179 3910.33,253.491 3911.88,263.804 3913.45,274.116 3915.04,284.428 3916.67,294.741 3918.32,305.053 3920,315.365 3921.72,325.678 3923.48,335.99 \n",
       "  3925.28,346.302 3927.12,356.615 3929.01,366.927 3930.95,377.24 3932.76,386.582 3932.88,387.552 3934.14,397.864 3935.4,408.177 3936.66,418.489 3937.91,428.801 \n",
       "  3939.17,439.114 3940.42,449.426 3941.68,459.738 3942.94,470.051 3944.21,480.363 3945.48,490.675 3946.76,500.988 3948.05,511.3 3949.35,521.613 3950.65,531.925 \n",
       "  3951.96,542.237 3953.28,552.55 3954.61,562.862 3955.95,573.174 3957.29,583.487 3958.65,593.799 3960.01,604.111 3961.38,614.424 3962.75,624.736 3964.13,635.048 \n",
       "  3965.5,645.361 3966.76,654.784 3966.83,655.673 3967.58,665.986 3968.31,676.298 3969.01,686.61 3969.67,696.923 3970.3,707.235 3970.89,717.547 3971.43,727.86 \n",
       "  3971.93,738.172 3972.38,748.484 3972.77,758.797 3973.11,769.109 3973.37,779.421 3973.55,789.734 3973.65,800.046 3973.65,810.359 3973.55,820.671 3973.32,830.983 \n",
       "  3972.96,841.296 3972.44,851.608 3971.75,861.92 3970.86,872.233 3969.74,882.545 3968.37,892.857 3966.76,902.793 3966.49,903.17 3957.01,913.482 3942.38,923.794 \n",
       "  3932.76,928.55 3927.86,923.794 3916.3,913.482 3903.04,903.17 3898.76,900.123 3893.82,892.857 3886.61,882.545 3879.12,872.233 3871.32,861.92 3864.76,853.558 \n",
       "  3863.6,851.608 3857.5,841.296 3851.3,830.983 3845.01,820.671 3838.63,810.359 3832.16,800.046 3830.76,797.813 3826.18,789.734 3820.33,779.421 3814.44,769.109 \n",
       "  3808.53,758.797 3802.59,748.484 3796.76,738.41 3796.62,738.172 3790.5,727.86 3784.37,717.547 3778.21,707.235 3772.03,696.923 3765.81,686.61 3762.76,681.553 \n",
       "  3758.92,676.298 3751.35,665.986 3743.69,655.673 3735.91,645.361 3728.76,636.03 3727.42,635.048 3712.95,624.736 3697.67,614.424 3694.76,612.525 3688.4,614.424 \n",
       "  3660.76,621.923 3659.13,624.736 3653,635.048 3646.6,645.361 3639.91,655.673 3632.92,665.986 3626.76,674.679 3626.3,676.298 3623.34,686.61 3620.33,696.923 \n",
       "  3617.27,707.235 3614.15,717.547 3610.96,727.86 3607.69,738.172 3604.33,748.484 3600.88,758.797 3597.32,769.109 3593.66,779.421 3592.76,781.897 3591.34,789.734 \n",
       "  3589.48,800.046 3587.63,810.359 3585.77,820.671 3583.91,830.983 3582.04,841.296 3580.15,851.608 3578.23,861.92 3576.28,872.233 3574.3,882.545 3572.27,892.857 \n",
       "  3570.2,903.17 3568.08,913.482 3565.9,923.794 3563.66,934.107 3561.37,944.419 3559.01,954.732 3558.76,955.799 3557.54,965.044 3556.2,975.356 3554.88,985.669 \n",
       "  3553.59,995.981 3552.31,1006.29 3551.05,1016.61 3549.79,1026.92 3548.54,1037.23 3547.29,1047.54 3546.03,1057.86 3544.76,1068.17 3543.47,1078.48 \n",
       "  \"/>\n",
       "<polyline clip-path=\"url(#clip134)\" style=\"stroke:#6f0090; stroke-linecap:butt; stroke-linejoin:round; stroke-width:4; stroke-opacity:1; fill:none\" points=\"\n",
       "  3553.35,1078.48 3554.58,1068.17 3555.81,1057.86 3557.04,1047.54 3558.28,1037.23 3558.76,1033.24 3560.27,1026.92 3562.71,1016.61 3565.13,1006.29 3567.51,995.981 \n",
       "  3569.84,985.669 3572.12,975.356 3574.34,965.044 3576.5,954.732 3578.61,944.419 3580.66,934.107 3582.67,923.794 3584.63,913.482 3586.55,903.17 3588.44,892.857 \n",
       "  3590.29,882.545 3592.13,872.233 3592.76,868.666 3595.39,861.92 3599.37,851.608 3603.26,841.296 3607.06,830.983 3610.75,820.671 3614.33,810.359 3617.81,800.046 \n",
       "  3621.19,789.734 3624.47,779.421 3626.76,772.044 3629.29,769.109 3638.01,758.797 3646.42,748.484 3654.49,738.172 3660.76,729.817 3694.76,728.441 3707.29,738.172 \n",
       "  3720.5,748.484 3728.76,754.912 3731.79,758.797 3739.89,769.109 3748.02,779.421 3756.17,789.734 3762.76,798.006 3764.1,800.046 3770.92,810.359 3777.75,820.671 \n",
       "  3784.58,830.983 3791.39,841.296 3796.76,849.413 3798.14,851.608 3804.7,861.92 3811.22,872.233 3817.69,882.545 3824.09,892.857 3830.42,903.17 3830.76,903.724 \n",
       "  3837.21,913.482 3843.92,923.794 3850.51,934.107 3856.97,944.419 3863.29,954.732 3864.76,957.135 3870.59,965.044 3878,975.356 3885.15,985.669 3892.05,995.981 \n",
       "  3898.7,1006.29 3898.76,1006.39 3908.19,1016.61 3917.06,1026.92 3925.35,1037.23 3932.76,1047.06 3933.64,1047.54 3950.47,1057.86 3964.15,1068.17 3966.76,1070.34 \n",
       "  3970.81,1068.17 3985.42,1057.86 3995.15,1047.54 4000.76,1039.15 4001.11,1037.23 4002.74,1026.92 4004.09,1016.61 4005.17,1006.29 4006.04,995.981 4006.72,985.669 \n",
       "  4007.22,975.356 4007.57,965.044 4007.79,954.732 4007.89,944.419 4007.88,934.107 4007.78,923.794 4007.59,913.482 4007.33,903.17 4006.99,892.857 4006.59,882.545 \n",
       "  4006.13,872.233 4005.63,861.92 4005.07,851.608 4004.47,841.296 4003.82,830.983 4003.14,820.671 4002.42,810.359 4001.67,800.046 4000.89,789.734 4000.76,788.14 \n",
       "  3999.68,779.421 3998.39,769.109 3997.09,758.797 3995.79,748.484 3994.48,738.172 3993.18,727.86 3991.88,717.547 3990.58,707.235 3989.28,696.923 3987.98,686.61 \n",
       "  3986.69,676.298 3985.4,665.986 3984.11,655.673 3982.83,645.361 3981.55,635.048 3980.27,624.736 3978.99,614.424 3977.71,604.111 3976.44,593.799 3975.16,583.487 \n",
       "  3973.88,573.174 3972.6,562.862 3971.31,552.55 3970.01,542.237 3968.71,531.925 3967.4,521.613 3966.76,516.674 3965.78,511.3 3963.92,500.988 3962.1,490.675 \n",
       "  3960.32,480.363 3958.57,470.051 3956.86,459.738 3955.17,449.426 3953.52,439.114 3951.88,428.801 3950.28,418.489 3948.69,408.177 3947.12,397.864 3945.57,387.552 \n",
       "  3944.02,377.24 3942.49,366.927 3940.97,356.615 3939.45,346.302 3937.93,335.99 3936.41,325.678 3934.88,315.365 3933.35,305.053 3932.76,301.128 3931.46,294.741 \n",
       "  3929.4,284.428 3927.39,274.116 3925.43,263.804 3923.52,253.491 3921.65,243.179 3919.82,232.867 3918.02,222.554 3916.25,212.242 3914.5,201.929 3912.79,191.617 \n",
       "  3911.08,181.305 3909.4,170.992 3907.73,160.68 3906.06,150.368 3904.39,140.055 3902.73,129.743 3901.06,119.431 3899.38,109.118 3898.76,105.343 3897.34,98.8059 \n",
       "  3895.15,88.4935 3893.02,78.1812 3890.94,67.8688 3888.92,57.5565 3886.94,47.2441 \n",
       "  \"/>\n",
       "<polyline clip-path=\"url(#clip134)\" style=\"stroke:#7f0080; stroke-linecap:butt; stroke-linejoin:round; stroke-width:4; stroke-opacity:1; fill:none\" points=\"\n",
       "  3898.57,47.2441 3898.76,48.1312 3900.46,57.5565 3902.3,67.8688 3904.11,78.1812 3905.92,88.4935 3907.71,98.8059 3909.5,109.118 3911.29,119.431 3913.09,129.743 \n",
       "  3914.89,140.055 3916.71,150.368 3918.55,160.68 3920.42,170.992 3922.31,181.305 3924.23,191.617 3926.19,201.929 3928.19,212.242 3930.24,222.554 3932.34,232.867 \n",
       "  3932.76,234.913 3934.16,243.179 3935.89,253.491 3937.6,263.804 3939.3,274.116 3940.98,284.428 3942.67,294.741 3944.35,305.053 3946.04,315.365 3947.73,325.678 \n",
       "  3949.44,335.99 3951.16,346.302 3952.89,356.615 3954.65,366.927 3956.44,377.24 3958.25,387.552 3960.1,397.864 3961.98,408.177 3963.9,418.489 3965.86,428.801 \n",
       "  3966.76,433.488 3967.64,439.114 3969.22,449.426 3970.79,459.738 3972.35,470.051 3973.9,480.363 3975.44,490.675 3976.98,500.988 3978.52,511.3 3980.06,521.613 \n",
       "  3981.6,531.925 3983.16,542.237 3984.72,552.55 3986.3,562.862 3987.89,573.174 3989.49,583.487 3991.12,593.799 3992.77,604.111 3994.44,614.424 3996.14,624.736 \n",
       "  3997.86,635.048 3999.61,645.361 4000.76,652.051 4001.25,655.673 4002.6,665.986 4003.95,676.298 4005.27,686.61 4006.59,696.923 4007.89,707.235 4009.18,717.547 \n",
       "  4010.47,727.86 4011.74,738.172 4013.01,748.484 4014.28,758.797 4015.54,769.109 4016.79,779.421 4018.04,789.734 4019.29,800.046 4020.54,810.359 4021.78,820.671 \n",
       "  4023.02,830.983 4024.26,841.296 4025.49,851.608 4026.71,861.92 4027.94,872.233 4029.15,882.545 4030.36,892.857 4031.55,903.17 4032.74,913.482 4033.91,923.794 \n",
       "  4034.76,931.489 4034.96,934.107 4035.73,944.419 4036.45,954.732 4037.13,965.044 4037.77,975.356 4038.36,985.669 4038.91,995.981 4039.4,1006.29 4039.83,1016.61 \n",
       "  4040.21,1026.92 4040.51,1037.23 4040.74,1047.54 4040.89,1057.86 4040.95,1068.17 4040.91,1078.48 \n",
       "  \"/>\n",
       "<polyline clip-path=\"url(#clip134)\" style=\"stroke:#8f0070; stroke-linecap:butt; stroke-linejoin:round; stroke-width:4; stroke-opacity:1; fill:none\" points=\"\n",
       "  4069.93,1078.48 4069.09,1068.17 4068.76,1064.32 4068.05,1057.86 4066.89,1047.54 4065.71,1037.23 4064.53,1026.92 4063.34,1016.61 4062.14,1006.29 4060.94,995.981 \n",
       "  4059.73,985.669 4058.51,975.356 4057.29,965.044 4056.06,954.732 4054.83,944.419 4053.59,934.107 4052.34,923.794 4051.08,913.482 4049.82,903.17 4048.55,892.857 \n",
       "  4047.27,882.545 4045.99,872.233 4044.69,861.92 4043.37,851.608 4042.05,841.296 4040.7,830.983 4039.34,820.671 4037.96,810.359 4036.56,800.046 4035.13,789.734 \n",
       "  4034.76,787.077 4033.51,779.421 4031.84,769.109 4030.2,758.797 4028.57,748.484 4026.96,738.172 4025.37,727.86 4023.79,717.547 4022.22,707.235 4020.65,696.923 \n",
       "  4019.1,686.61 4017.55,676.298 4016.01,665.986 4014.46,655.673 4012.91,645.361 4011.36,635.048 4009.8,624.736 4008.22,614.424 4006.64,604.111 4005.03,593.799 \n",
       "  4003.41,583.487 4001.75,573.174 4000.76,567.064 3999.99,562.862 3998.13,552.55 3996.3,542.237 3994.5,531.925 3992.72,521.613 3990.96,511.3 3989.23,500.988 \n",
       "  3987.5,490.675 3985.8,480.363 3984.1,470.051 3982.41,459.738 3980.72,449.426 3979.02,439.114 3977.33,428.801 3975.62,418.489 3973.9,408.177 3972.17,397.864 \n",
       "  3970.41,387.552 3968.63,377.24 3966.81,366.927 3966.76,366.632 3964.82,356.615 3962.87,346.302 3960.94,335.99 3959.05,325.678 3957.19,315.365 3955.35,305.053 \n",
       "  3953.53,294.741 3951.72,284.428 3949.93,274.116 3948.14,263.804 3946.35,253.491 3944.56,243.179 3942.76,232.867 3940.95,222.554 3939.12,212.242 3937.26,201.929 \n",
       "  3935.38,191.617 3933.47,181.305 3932.76,177.559 3931.43,170.992 3929.38,160.68 3927.37,150.368 3925.39,140.055 3923.44,129.743 3921.52,119.431 3919.62,109.118 \n",
       "  3917.73,98.8059 3915.86,88.4935 3913.99,78.1812 3912.12,67.8688 3910.24,57.5565 3908.36,47.2441 \n",
       "  \"/>\n",
       "<polyline clip-path=\"url(#clip134)\" style=\"stroke:#9f0060; stroke-linecap:butt; stroke-linejoin:round; stroke-width:4; stroke-opacity:1; fill:none\" points=\"\n",
       "  3918.12,47.2441 3920.02,57.5565 3921.94,67.8688 3923.86,78.1812 3925.8,88.4935 3927.75,98.8059 3929.74,109.118 3931.75,119.431 3932.76,124.547 3933.83,129.743 \n",
       "  3935.91,140.055 3937.94,150.368 3939.92,160.68 3941.87,170.992 3943.79,181.305 3945.68,191.617 3947.55,201.929 3949.41,212.242 3951.26,222.554 3953.1,232.867 \n",
       "  3954.95,243.179 3956.81,253.491 3958.67,263.804 3960.56,274.116 3962.46,284.428 3964.39,294.741 3966.35,305.053 3966.76,307.181 3968.37,315.365 3970.35,325.678 \n",
       "  3972.28,335.99 3974.18,346.302 3976.04,356.615 3977.88,366.927 3979.7,377.24 3981.5,387.552 3983.29,397.864 3985.07,408.177 3986.85,418.489 3988.63,428.801 \n",
       "  3990.41,439.114 3992.21,449.426 3994.02,459.738 3995.85,470.051 3997.69,480.363 3999.57,490.675 4000.76,497.156 4001.48,500.988 4003.37,511.3 4005.23,521.613 \n",
       "  4007.05,531.925 4008.84,542.237 4010.6,552.55 4012.34,562.862 4014.06,573.174 4015.77,583.487 4017.47,593.799 4019.16,604.111 4020.86,614.424 4022.55,624.736 \n",
       "  4024.25,635.048 4025.96,645.361 4027.67,655.673 4029.41,665.986 4031.16,676.298 4032.93,686.61 4034.72,696.923 4034.76,697.131 4036.5,707.235 4038.24,717.547 \n",
       "  4039.95,727.86 4041.63,738.172 4043.28,748.484 4044.91,758.797 4046.52,769.109 4048.12,779.421 4049.71,789.734 4051.29,800.046 4052.86,810.359 4054.43,820.671 \n",
       "  4056,830.983 4057.57,841.296 4059.15,851.608 4060.73,861.92 4062.33,872.233 4063.93,882.545 4065.55,892.857 4067.19,903.17 4068.76,912.982 4068.84,913.482 \n",
       "  4070.42,923.794 4071.98,934.107 4073.5,944.419 4075,954.732 4076.47,965.044 4077.93,975.356 4079.37,985.669 4080.79,995.981 4082.2,1006.29 4083.6,1016.61 \n",
       "  4084.99,1026.92 4086.37,1037.23 4087.75,1047.54 4089.13,1057.86 4090.5,1068.17 4091.88,1078.48 \n",
       "  \"/>\n",
       "<polyline clip-path=\"url(#clip134)\" style=\"stroke:#af0050; stroke-linecap:butt; stroke-linejoin:round; stroke-width:4; stroke-opacity:1; fill:none\" points=\"\n",
       "  4114.29,1078.48 4112.48,1068.17 4110.64,1057.86 4108.77,1047.54 4106.86,1037.23 4104.91,1026.92 4102.9,1016.61 4102.76,1015.86 4101.15,1006.29 4099.44,995.981 \n",
       "  4097.74,985.669 4096.06,975.356 4094.38,965.044 4092.7,954.732 4091.03,944.419 4089.35,934.107 4087.67,923.794 4085.98,913.482 4084.28,903.17 4082.55,892.857 \n",
       "  4080.81,882.545 4079.04,872.233 4077.24,861.92 4075.41,851.608 4073.53,841.296 4071.61,830.983 4069.63,820.671 4068.76,816.231 4067.76,810.359 4066.02,800.046 \n",
       "  4064.29,789.734 4062.56,779.421 4060.85,769.109 4059.14,758.797 4057.43,748.484 4055.71,738.172 4053.99,727.86 4052.26,717.547 4050.51,707.235 4048.74,696.923 \n",
       "  4046.95,686.61 4045.12,676.298 4043.27,665.986 4041.37,655.673 4039.43,645.361 4037.44,635.048 4035.39,624.736 4034.76,621.649 4033.49,614.424 4031.69,604.111 \n",
       "  4029.91,593.799 4028.13,583.487 4026.37,573.174 4024.6,562.862 4022.84,552.55 4021.06,542.237 4019.28,531.925 4017.49,521.613 4015.67,511.3 4013.83,500.988 \n",
       "  4011.96,490.675 4010.06,480.363 4008.11,470.051 4006.12,459.738 4004.07,449.426 4001.96,439.114 4000.76,433.41 3999.92,428.801 3998.07,418.489 3996.23,408.177 \n",
       "  3994.4,397.864 3992.58,387.552 3990.77,377.24 3988.95,366.927 3987.13,356.615 3985.3,346.302 3983.45,335.99 3981.58,325.678 3979.68,315.365 3977.75,305.053 \n",
       "  3975.78,294.741 3973.76,284.428 3971.69,274.116 3969.55,263.804 3967.35,253.491 3966.76,250.775 3965.35,243.179 3963.45,232.867 3961.57,222.554 3959.7,212.242 \n",
       "  3957.83,201.929 3955.97,191.617 3954.11,181.305 3952.23,170.992 3950.34,160.68 3948.43,150.368 3946.49,140.055 3944.52,129.743 3942.51,119.431 3940.45,109.118 \n",
       "  3938.33,98.8059 3936.15,88.4935 3933.9,78.1812 3932.76,73.1074 3931.76,67.8688 3929.81,57.5565 3927.88,47.2441 \n",
       "  \"/>\n",
       "<polyline clip-path=\"url(#clip134)\" style=\"stroke:#bf0040; stroke-linecap:butt; stroke-linejoin:round; stroke-width:4; stroke-opacity:1; fill:none\" points=\"\n",
       "  3938.92,47.2441 3941.17,57.5565 3943.34,67.8688 3945.44,78.1812 3947.48,88.4935 3949.47,98.8059 3951.42,109.118 3953.33,119.431 3955.22,129.743 3957.08,140.055 \n",
       "  3958.92,150.368 3960.76,160.68 3962.59,170.992 3964.43,181.305 3966.27,191.617 3966.76,194.353 3968.56,201.929 3970.92,212.242 3973.2,222.554 3975.39,232.867 \n",
       "  3977.51,243.179 3979.56,253.491 3981.57,263.804 3983.52,274.116 3985.43,284.428 3987.31,294.741 3989.16,305.053 3990.99,315.365 3992.81,325.678 3994.62,335.99 \n",
       "  3996.42,346.302 3998.22,356.615 4000.02,366.927 4000.76,371.092 4002.19,377.24 4004.53,387.552 4006.78,397.864 4008.94,408.177 4011.04,418.489 4013.08,428.801 \n",
       "  4015.06,439.114 4016.99,449.426 4018.89,459.738 4020.75,470.051 4022.58,480.363 4024.39,490.675 4026.19,500.988 4027.97,511.3 4029.74,521.613 4031.52,531.925 \n",
       "  4033.29,542.237 4034.76,550.716 4035.18,552.55 4037.53,562.862 4039.79,573.174 4041.97,583.487 4044.07,593.799 4046.11,604.111 4048.1,614.424 4050.04,624.736 \n",
       "  4051.94,635.048 4053.8,645.361 4055.63,655.673 4057.43,665.986 4059.22,676.298 4061,686.61 4062.76,696.923 4064.52,707.235 4066.27,717.547 4068.03,727.86 \n",
       "  4068.76,732.098 4070.18,738.172 4072.51,748.484 4074.75,758.797 4076.91,769.109 4079.01,779.421 4081.05,789.734 4083.03,800.046 4084.97,810.359 4086.87,820.671 \n",
       "  4088.74,830.983 4090.58,841.296 4092.4,851.608 4094.2,861.92 4096,872.233 4097.78,882.545 4099.56,892.857 4101.34,903.17 4102.76,911.353 4103.3,913.482 \n",
       "  4105.86,923.794 4108.31,934.107 4110.67,944.419 4112.94,954.732 4115.15,965.044 4117.3,975.356 4119.39,985.669 4121.44,995.981 4123.46,1006.29 4125.45,1016.61 \n",
       "  4127.42,1026.92 4129.38,1037.23 4131.32,1047.54 4133.27,1057.86 4135.21,1068.17 4136.76,1076.31 4137.52,1078.48 \n",
       "  \"/>\n",
       "<polyline clip-path=\"url(#clip134)\" style=\"stroke:#bf0040; stroke-linecap:butt; stroke-linejoin:round; stroke-width:4; stroke-opacity:1; fill:none\" points=\"\n",
       "  4229.31,1078.48 4234.73,1068.17 4238.76,1063.24 4239.26,1068.17 4240.14,1078.48 \n",
       "  \"/>\n",
       "<polyline clip-path=\"url(#clip134)\" style=\"stroke:#cf0030; stroke-linecap:butt; stroke-linejoin:round; stroke-width:4; stroke-opacity:1; fill:none\" points=\"\n",
       "  4251.79,1078.48 4251.32,1068.17 4250.8,1057.86 4250.2,1047.54 4249.5,1037.23 4248.66,1026.92 4247.58,1016.61 4246.14,1006.29 4244.05,995.981 4240.64,985.669 \n",
       "  4238.76,981.947 4235.01,975.356 4230.68,965.044 4227.61,954.732 4225.36,944.419 4223.67,934.107 4222.39,923.794 4221.39,913.482 4220.62,903.17 4220.02,892.857 \n",
       "  4219.54,882.545 4219.17,872.233 4218.87,861.92 4218.62,851.608 4218.41,841.296 4218.22,830.983 4218.03,820.671 4217.83,810.359 4217.61,800.046 4217.34,789.734 \n",
       "  4217.01,779.421 4216.58,769.109 4216.02,758.797 4215.26,748.484 4214.18,738.172 4212.53,727.86 4209.69,717.547 4204.76,708.744 4190.23,707.235 4181.92,696.923 \n",
       "  4181.11,686.61 4180.89,676.298 4180.86,665.986 4180.92,655.673 4181.05,645.361 4181.21,635.048 4181.4,624.736 4181.61,614.424 4181.82,604.111 4182.02,593.799 \n",
       "  4182.22,583.487 4182.38,573.174 4182.51,562.862 4182.59,552.55 4182.61,542.237 4182.54,531.925 4182.37,521.613 4182.06,511.3 4181.55,500.988 4180.75,490.675 \n",
       "  4179.44,480.363 4177.16,470.051 4172.34,459.738 4170.76,457.823 4168.79,459.738 4162.45,470.051 4159.3,480.363 4157.51,490.675 4156.44,500.988 4155.82,511.3 \n",
       "  4155.49,521.613 4155.37,531.925 4155.43,542.237 4155.63,552.55 4155.95,562.862 4156.37,573.174 4156.89,583.487 4157.5,593.799 4158.19,604.111 4158.97,614.424 \n",
       "  4159.83,624.736 4160.77,635.048 4161.8,645.361 4162.91,655.673 4164.1,665.986 4165.39,676.298 4166.77,686.61 4168.26,696.923 4169.86,707.235 4170.76,712.791 \n",
       "  4176.34,717.547 4178.27,727.86 4178.8,738.172 4179.08,748.484 4179.28,758.797 4179.45,769.109 4179.6,779.421 4179.76,789.734 4179.91,800.046 4180.07,810.359 \n",
       "  4180.22,820.671 4180.38,830.983 4180.53,841.296 4180.67,851.608 4180.8,861.92 4180.91,872.233 4181,882.545 4181.06,892.857 4181.09,903.17 4181.08,913.482 \n",
       "  4181.01,923.794 4180.87,934.107 4180.66,944.419 4180.36,954.732 4179.95,965.044 4179.4,975.356 4178.7,985.669 4177.8,995.981 4176.67,1006.29 4175.26,1016.61 \n",
       "  4173.5,1026.92 4171.3,1037.23 4170.76,1039.45 4170.18,1037.23 4167.44,1026.92 4164.48,1016.61 4161.25,1006.29 4157.65,995.981 4153.56,985.669 4148.77,975.356 \n",
       "  4142.99,965.044 4136.76,956.027 4136.51,954.732 4134.56,944.419 4132.57,934.107 4130.55,923.794 4128.48,913.482 4126.35,903.17 4124.15,892.857 4121.87,882.545 \n",
       "  4119.49,872.233 4117,861.92 4114.37,851.608 4111.58,841.296 4108.6,830.983 4105.4,820.671 4102.76,812.698 4102.35,810.359 4100.58,800.046 4098.78,789.734 \n",
       "  4096.97,779.421 4095.12,769.109 4093.24,758.797 4091.32,748.484 4089.35,738.172 4087.33,727.86 4085.23,717.547 4083.07,707.235 4080.81,696.923 4078.45,686.61 \n",
       "  4075.98,676.298 4073.39,665.986 4070.64,655.673 4068.76,648.908 4068.16,645.361 4066.43,635.048 4064.69,624.736 4062.93,614.424 4061.15,604.111 4059.34,593.799 \n",
       "  4057.49,583.487 4055.6,573.174 4053.66,562.862 4051.67,552.55 4049.61,542.237 4047.48,531.925 4045.26,521.613 4042.95,511.3 4040.53,500.988 4037.99,490.675 \n",
       "  4035.32,480.363 4034.76,478.256 4033.39,470.051 4031.66,459.738 4029.92,449.426 4028.16,439.114 4026.38,428.801 4024.57,418.489 4022.72,408.177 4020.83,397.864 \n",
       "  4018.89,387.552 4016.89,377.24 4014.83,366.927 4012.69,356.615 4010.46,346.302 4008.14,335.99 4005.71,325.678 4003.16,315.365 4000.76,306.115 4000.58,305.053 \n",
       "  3998.84,294.741 3997.1,284.428 3995.35,274.116 3993.58,263.804 3991.78,253.491 3989.95,243.179 3988.08,232.867 3986.17,222.554 3984.2,212.242 3982.17,201.929 \n",
       "  3980.08,191.617 3977.9,181.305 3975.63,170.992 3973.26,160.68 3970.77,150.368 3968.16,140.055 3966.76,134.705 3965.91,129.743 3964.15,119.431 3962.39,109.118 \n",
       "  3960.61,98.8059 3958.81,88.4935 3956.98,78.1812 3955.11,67.8688 3953.21,57.5565 3951.25,47.2441 \n",
       "  \"/>\n",
       "<polyline clip-path=\"url(#clip134)\" style=\"stroke:#df0020; stroke-linecap:butt; stroke-linejoin:round; stroke-width:4; stroke-opacity:1; fill:none\" points=\"\n",
       "  3963.58,47.2441 3965.25,57.5565 3966.76,67.0025 3967.01,67.8688 3969.98,78.1812 3972.77,88.4935 3975.39,98.8059 3977.87,109.118 3980.22,119.431 3982.45,129.743 \n",
       "  3984.58,140.055 3986.62,150.368 3988.58,160.68 3990.46,170.992 3992.29,181.305 3994.06,191.617 3995.79,201.929 3997.48,212.242 3999.14,222.554 4000.76,232.769 \n",
       "  4000.79,232.867 4003.81,243.179 4006.64,253.491 4009.31,263.804 4011.82,274.116 4014.2,284.428 4016.45,294.741 4018.61,305.053 4020.66,315.365 4022.64,325.678 \n",
       "  4024.54,335.99 4026.37,346.302 4028.16,356.615 4029.89,366.927 4031.59,377.24 4033.25,387.552 4034.76,397.053 4035.01,397.864 4038.17,408.177 4041.11,418.489 \n",
       "  4043.86,428.801 4046.44,439.114 4048.87,449.426 4051.17,459.738 4053.36,470.051 4055.45,480.363 4057.45,490.675 4059.38,500.988 4061.23,511.3 4063.03,521.613 \n",
       "  4064.78,531.925 4066.49,542.237 4068.16,552.55 4068.76,556.273 4071.12,562.862 4074.56,573.174 4077.7,583.487 4080.6,593.799 4083.28,604.111 4085.79,614.424 \n",
       "  4088.15,624.736 4090.38,635.048 4092.5,645.361 4094.52,655.673 4096.45,665.986 4098.32,676.298 4100.12,686.61 4101.88,696.923 4102.76,702.167 4105.95,707.235 \n",
       "  4111.46,717.547 4115.94,727.86 4119.72,738.172 4122.98,748.484 4125.87,758.797 4128.47,769.109 4130.85,779.421 4133.05,789.734 4135.11,800.046 4136.76,808.735 \n",
       "  4139.18,800.046 4141.32,789.734 4142.88,779.421 4144.01,769.109 4144.82,758.797 4145.38,748.484 4145.75,738.172 4145.96,727.86 4146.04,717.547 4146.03,707.235 \n",
       "  4145.94,696.923 4145.78,686.61 4145.57,676.298 4145.32,665.986 4145.04,655.673 4144.72,645.361 4144.39,635.048 4144.03,624.736 4143.66,614.424 4143.28,604.111 \n",
       "  4142.88,593.799 4142.45,583.487 4142.01,573.174 4141.54,562.862 4141.02,552.55 4140.45,542.237 4139.8,531.925 4139.03,521.613 4138.07,511.3 4136.83,500.988 \n",
       "  4136.76,500.482 4134.64,490.675 4132.59,480.363 4130.71,470.051 4128.97,459.738 4127.36,449.426 4125.86,439.114 4124.46,428.801 4123.16,418.489 4121.95,408.177 \n",
       "  4120.83,397.864 4119.78,387.552 4118.82,377.24 4117.92,366.927 4117.09,356.615 4116.32,346.302 4115.61,335.99 4114.96,325.678 4114.36,315.365 4113.8,305.053 \n",
       "  4113.28,294.741 4112.79,284.428 4112.32,274.116 4111.85,263.804 4111.34,253.491 4110.76,243.179 4110.01,232.867 4108.9,222.554 4106.94,212.242 4102.76,202.318 \n",
       "  4102.66,201.929 4100.16,191.617 4097.9,181.305 4095.83,170.992 4093.96,160.68 4092.27,150.368 4090.74,140.055 4089.36,129.743 4088.12,119.431 4087.01,109.118 \n",
       "  4086.03,98.8059 4085.17,88.4935 4084.41,78.1812 4083.76,67.8688 4083.21,57.5565 4082.76,47.2441 \n",
       "  \"/>\n",
       "<polyline clip-path=\"url(#clip134)\" style=\"stroke:#cf0030; stroke-linecap:butt; stroke-linejoin:round; stroke-width:4; stroke-opacity:1; fill:none\" points=\"\n",
       "  4094.1,47.2441 4094.31,57.5565 4094.76,67.8688 4095.45,78.1812 4096.36,88.4935 4097.48,98.8059 4098.83,109.118 4100.4,119.431 4102.2,129.743 4102.76,132.652 \n",
       "  4103.57,129.743 4105.91,119.431 4107.68,109.118 4109.07,98.8059 4110.18,88.4935 4111.04,78.1812 4111.7,67.8688 4112.16,57.5565 4112.41,47.2441 \n",
       "  \"/>\n",
       "<polyline clip-path=\"url(#clip134)\" style=\"stroke:#df0020; stroke-linecap:butt; stroke-linejoin:round; stroke-width:4; stroke-opacity:1; fill:none\" points=\"\n",
       "  4125.05,47.2441 4124.5,57.5565 4124.01,67.8688 4123.56,78.1812 4123.15,88.4935 4122.79,98.8059 4122.51,109.118 4122.33,119.431 4122.34,129.743 4122.66,140.055 \n",
       "  4123.55,150.368 4125.75,160.68 4132.14,170.992 4136.76,174.048 4138.23,170.992 4141.22,160.68 4142.69,150.368 4143.43,140.055 4143.74,129.743 4143.8,119.431 \n",
       "  4143.69,109.118 4143.46,98.8059 4143.14,88.4935 4142.76,78.1812 4142.33,67.8688 4141.84,57.5565 4141.31,47.2441 \n",
       "  \"/>\n",
       "<polyline clip-path=\"url(#clip134)\" style=\"stroke:#8f0070; stroke-linecap:butt; stroke-linejoin:round; stroke-width:4; stroke-opacity:1; fill:none\" points=\"\n",
       "  4165.91,47.2441 4167.47,57.5565 4169.22,67.8688 4170.76,75.8282 4171.28,78.1812 4173.48,88.4935 4175.47,98.8059 4177.3,109.118 4178.97,119.431 4180.5,129.743 \n",
       "  4181.92,140.055 4183.23,150.368 4184.46,160.68 4185.62,170.992 4186.71,181.305 4187.76,191.617 4188.77,201.929 4189.77,212.242 4190.76,222.554 4191.76,232.867 \n",
       "  4192.79,243.179 4193.87,253.491 4195.01,263.804 4196.24,274.116 4197.58,284.428 4199.07,294.741 4200.75,305.053 4202.66,315.365 4204.76,325.169 4204.87,325.678 \n",
       "  4206.99,335.99 4208.92,346.302 4210.69,356.615 4212.31,366.927 4213.8,377.24 4215.17,387.552 4216.45,397.864 4217.63,408.177 4218.75,418.489 4219.81,428.801 \n",
       "  4220.83,439.114 4221.82,449.426 4222.79,459.738 4223.76,470.051 4224.75,480.363 4225.78,490.675 4226.85,500.988 4227.99,511.3 4229.23,521.613 4230.59,531.925 \n",
       "  4232.1,542.237 4233.81,552.55 4235.76,562.862 4238.01,573.174 4238.76,576.23 4240.2,583.487 4242.1,593.799 4243.83,604.111 4245.41,614.424 4246.87,624.736 \n",
       "  4248.2,635.048 4249.44,645.361 4250.6,655.673 4251.68,665.986 4252.71,676.298 4253.69,686.61 4254.65,696.923 4255.59,707.235 4256.52,717.547 4257.47,727.86 \n",
       "  4258.45,738.172 4259.47,748.484 4260.56,758.797 4261.72,769.109 4262.99,779.421 4264.39,789.734 4265.96,800.046 4267.72,810.359 4269.73,820.671 4272.05,830.983 \n",
       "  4272.76,833.82 \n",
       "  \"/>\n",
       "<polyline clip-path=\"url(#clip134)\" style=\"stroke:#7f0080; stroke-linecap:butt; stroke-linejoin:round; stroke-width:4; stroke-opacity:1; fill:none\" points=\"\n",
       "  4272.76,810.886 4272.64,810.359 4270.59,800.046 4268.79,789.734 4267.19,779.421 4265.76,769.109 4264.45,758.797 4263.26,748.484 4262.14,738.172 4261.1,727.86 \n",
       "  4260.1,717.547 4259.13,707.235 4258.18,696.923 4257.23,686.61 4256.27,676.298 4255.28,665.986 4254.25,655.673 4253.17,645.361 4252.02,635.048 4250.79,624.736 \n",
       "  4249.47,614.424 4248.04,604.111 4246.49,593.799 4244.8,583.487 4242.95,573.174 4240.92,562.862 4238.76,552.818 4238.7,552.55 4236.73,542.237 4235,531.925 \n",
       "  4233.46,521.613 4232.08,511.3 4230.82,500.988 4229.65,490.675 4228.56,480.363 4227.53,470.051 4226.53,459.738 4225.55,449.426 4224.58,439.114 4223.59,428.801 \n",
       "  4222.58,418.489 4221.54,408.177 4220.44,397.864 4219.28,387.552 4218.04,377.24 4216.72,366.927 4215.28,356.615 4213.73,346.302 4212.04,335.99 4210.19,325.678 \n",
       "  4208.17,315.365 4205.95,305.053 4204.76,299.823 4203.83,294.741 4202.14,284.428 4200.64,274.116 4199.28,263.804 4198.04,253.491 4196.89,243.179 4195.81,232.867 \n",
       "  4194.79,222.554 4193.79,212.242 4192.81,201.929 4191.84,191.617 4190.85,181.305 4189.84,170.992 4188.79,160.68 4187.7,150.368 4186.54,140.055 4185.3,129.743 \n",
       "  4183.98,119.431 4182.56,109.118 4181.02,98.8059 4179.34,88.4935 4177.52,78.1812 4175.51,67.8688 4173.31,57.5565 4170.87,47.2441 \n",
       "  \"/>\n",
       "<polyline clip-path=\"url(#clip134)\" style=\"stroke:#3f00c0; stroke-linecap:butt; stroke-linejoin:round; stroke-width:4; stroke-opacity:1; fill:none\" points=\"\n",
       "  4201.64,47.2441 4201.86,57.5565 4202.14,67.8688 4202.45,78.1812 4202.8,88.4935 4203.18,98.8059 4203.6,109.118 4204.04,119.431 4204.51,129.743 4204.76,134.805 \n",
       "  4206.74,140.055 4209.94,150.368 4212.45,160.68 4214.55,170.992 4216.36,181.305 4217.98,191.617 4219.46,201.929 4220.82,212.242 4222.08,222.554 4223.26,232.867 \n",
       "  4224.38,243.179 4225.43,253.491 4226.42,263.804 4227.37,274.116 4228.27,284.428 4229.13,294.741 4229.95,305.053 4230.73,315.365 4231.49,325.678 4232.23,335.99 \n",
       "  4232.94,346.302 4233.64,356.615 4234.33,366.927 4235.02,377.24 4235.72,387.552 4236.43,397.864 4237.15,408.177 4237.91,418.489 4238.71,428.801 4238.76,429.295 \n",
       "  4241.5,439.114 4244.08,449.426 4246.41,459.738 4248.52,470.051 4250.44,480.363 4252.2,490.675 4253.82,500.988 4255.31,511.3 4256.69,521.613 4257.97,531.925 \n",
       "  4259.16,542.237 4260.26,552.55 4261.3,562.862 4262.27,573.174 4263.19,583.487 4264.07,593.799 4264.91,604.111 4265.72,614.424 4266.51,624.736 4267.29,635.048 \n",
       "  4268.07,645.361 4268.86,655.673 4269.66,665.986 4270.5,676.298 4271.38,686.61 4272.31,696.923 4272.76,701.482 \n",
       "  \"/>\n",
       "<polyline clip-path=\"url(#clip134)\" style=\"stroke:#4f00b0; stroke-linecap:butt; stroke-linejoin:round; stroke-width:4; stroke-opacity:1; fill:none\" points=\"\n",
       "  4272.76,734.347 4271.97,727.86 4270.83,717.547 4269.77,707.235 4268.78,696.923 4267.84,686.61 4266.94,676.298 4266.07,665.986 4265.2,655.673 4264.34,645.361 \n",
       "  4263.47,635.048 4262.58,624.736 4261.66,614.424 4260.69,604.111 4259.67,593.799 4258.59,583.487 4257.44,573.174 4256.2,562.862 4254.87,552.55 4253.43,542.237 \n",
       "  4251.87,531.925 4250.17,521.613 4248.31,511.3 4246.29,500.988 4244.06,490.675 4241.62,480.363 4238.93,470.051 4238.76,469.413 4237.75,459.738 4236.75,449.426 \n",
       "  4235.82,439.114 4234.93,428.801 4234.08,418.489 4233.25,408.177 4232.43,397.864 4231.61,387.552 4230.78,377.24 4229.93,366.927 4229.05,356.615 4228.14,346.302 \n",
       "  4227.18,335.99 4226.17,325.678 4225.09,315.365 4223.95,305.053 4222.72,294.741 4221.41,284.428 4219.99,274.116 4218.45,263.804 4216.78,253.491 4214.95,243.179 \n",
       "  4212.94,232.867 4210.72,222.554 4208.23,212.242 4205.4,201.929 4204.76,199.67 4204.09,191.617 4203.28,181.305 4202.52,170.992 4201.79,160.68 4201.08,150.368 \n",
       "  4200.39,140.055 4199.7,129.743 4199.02,119.431 4198.34,109.118 4197.64,98.8059 4196.94,88.4935 4196.22,78.1812 4195.48,67.8688 4194.72,57.5565 4193.95,47.2441 \n",
       "  \n",
       "  \"/>\n",
       "<polyline clip-path=\"url(#clip134)\" style=\"stroke:#5f00a0; stroke-linecap:butt; stroke-linejoin:round; stroke-width:4; stroke-opacity:1; fill:none\" points=\"\n",
       "  4186.26,47.2441 4187.59,57.5565 4188.82,67.8688 4189.98,78.1812 4191.07,88.4935 4192.1,98.8059 4193.08,109.118 4194.01,119.431 4194.9,129.743 4195.77,140.055 \n",
       "  4196.62,150.368 4197.46,160.68 4198.29,170.992 4199.14,181.305 4200,191.617 4200.9,201.929 4201.84,212.242 4202.84,222.554 4203.92,232.867 4204.76,240.252 \n",
       "  4205.53,243.179 4208.13,253.491 4210.48,263.804 4212.61,274.116 4214.55,284.428 4216.32,294.741 4217.95,305.053 4219.45,315.365 4220.84,325.678 4222.13,335.99 \n",
       "  4223.33,346.302 4224.46,356.615 4225.52,366.927 4226.53,377.24 4227.5,387.552 4228.43,397.864 4229.35,408.177 4230.25,418.489 4231.15,428.801 4232.07,439.114 \n",
       "  4233.02,449.426 4234.01,459.738 4235.06,470.051 4236.18,480.363 4237.41,490.675 4238.75,500.988 4238.76,501.016 4241.31,511.3 4243.64,521.613 4245.76,531.925 \n",
       "  4247.7,542.237 4249.48,552.55 4251.11,562.862 4252.61,573.174 4254,583.487 4255.28,593.799 4256.47,604.111 4257.59,614.424 4258.65,624.736 4259.65,635.048 \n",
       "  4260.62,645.361 4261.55,655.673 4262.47,665.986 4263.38,676.298 4264.3,686.61 4265.25,696.923 4266.22,707.235 4267.25,717.547 4268.35,727.86 4269.53,738.172 \n",
       "  4270.82,748.484 4272.24,758.797 4272.76,762.244 \n",
       "  \"/>\n",
       "<polyline clip-path=\"url(#clip134)\" style=\"stroke:#6f0090; stroke-linecap:butt; stroke-linejoin:round; stroke-width:4; stroke-opacity:1; fill:none\" points=\"\n",
       "  4272.76,787.331 4271.39,779.421 4269.79,769.109 4268.35,758.797 4267.04,748.484 4265.84,738.172 4264.72,727.86 4263.68,717.547 4262.68,707.235 4261.71,696.923 \n",
       "  4260.77,686.61 4259.82,676.298 4258.87,665.986 4257.9,655.673 4256.89,645.361 4255.84,635.048 4254.72,624.736 4253.53,614.424 4252.26,604.111 4250.89,593.799 \n",
       "  4249.4,583.487 4247.78,573.174 4246.01,562.862 4244.09,552.55 4241.98,542.237 4239.66,531.925 4238.76,528.11 4237.69,521.613 4236.16,511.3 4234.78,500.988 \n",
       "  4233.53,490.675 4232.37,480.363 4231.29,470.051 4230.27,459.738 4229.28,449.426 4228.32,439.114 4227.37,428.801 4226.42,418.489 4225.44,408.177 4224.44,397.864 \n",
       "  4223.39,387.552 4222.29,377.24 4221.12,366.927 4219.87,356.615 4218.53,346.302 4217.08,335.99 4215.52,325.678 4213.81,315.365 4211.95,305.053 4209.92,294.741 \n",
       "  4207.68,284.428 4205.22,274.116 4204.76,272.225 4203.55,263.804 4202.21,253.491 4200.99,243.179 4199.87,232.867 4198.81,222.554 4197.82,212.242 4196.86,201.929 \n",
       "  4195.92,191.617 4195,181.305 4194.07,170.992 4193.13,160.68 4192.16,150.368 4191.15,140.055 4190.1,129.743 4188.99,119.431 4187.82,109.118 4186.56,98.8059 \n",
       "  4185.21,88.4935 4183.75,78.1812 4182.17,67.8688 4180.45,57.5565 4178.57,47.2441 \n",
       "  \"/>\n",
       "<polyline clip-path=\"url(#clip134)\" style=\"stroke:#3f00c0; stroke-linecap:butt; stroke-linejoin:round; stroke-width:4; stroke-opacity:1; fill:none\" points=\"\n",
       "  4220.79,47.2441 4225.1,57.5565 4231.96,67.8688 4238.76,74.0045 4239.44,78.1812 4241.14,88.4935 4242.89,98.8059 4244.7,109.118 4246.59,119.431 4248.57,129.743 \n",
       "  4250.67,140.055 4252.92,150.368 4255.34,160.68 4257.99,170.992 4260.9,181.305 4264.17,191.617 4267.89,201.929 4272.22,212.242 4272.76,213.44 \n",
       "  \"/>\n",
       "<polyline clip-path=\"url(#clip134)\" style=\"stroke:#4f00b0; stroke-linecap:butt; stroke-linejoin:round; stroke-width:4; stroke-opacity:1; fill:none\" points=\"\n",
       "  4272.76,166.4 4270.73,160.68 4267.34,150.368 4264.25,140.055 4261.41,129.743 4258.78,119.431 4256.32,109.118 4254,98.8059 4251.8,88.4935 4249.7,78.1812 \n",
       "  4247.68,67.8688 4245.72,57.5565 4243.82,47.2441 \n",
       "  \"/>\n",
       "<polyline clip-path=\"url(#clip134)\" style=\"stroke:#5f00a0; stroke-linecap:butt; stroke-linejoin:round; stroke-width:4; stroke-opacity:1; fill:none\" points=\"\n",
       "  4253.11,47.2441 4255.3,57.5565 4257.57,67.8688 4259.95,78.1812 4262.45,88.4935 4265.11,98.8059 4267.94,109.118 4270.97,119.431 4272.76,125.157 \n",
       "  \"/>\n",
       "<polyline clip-path=\"url(#clip134)\" style=\"stroke:#6f0090; stroke-linecap:butt; stroke-linejoin:round; stroke-width:4; stroke-opacity:1; fill:none\" points=\"\n",
       "  4272.76,87.2749 4270.2,78.1812 4267.47,67.8688 4264.87,57.5565 4262.4,47.2441 \n",
       "  \"/>\n",
       "<polyline clip-path=\"url(#clip134)\" style=\"stroke:#7f0080; stroke-linecap:butt; stroke-linejoin:round; stroke-width:4; stroke-opacity:1; fill:none\" points=\"\n",
       "  4271.7,47.2441 4272.76,51.2905 \n",
       "  \"/>\n",
       "<polyline clip-path=\"url(#clip134)\" style=\"stroke:#9f0060; stroke-linecap:butt; stroke-linejoin:round; stroke-width:4; stroke-opacity:1; fill:none\" points=\"\n",
       "  4160.99,47.2441 4162.34,57.5565 4163.84,67.8688 4165.54,78.1812 4167.49,88.4935 4169.78,98.8059 4170.76,102.715 4172.04,109.118 4173.95,119.431 4175.7,129.743 \n",
       "  4177.3,140.055 4178.77,150.368 4180.13,160.68 4181.39,170.992 4182.57,181.305 4183.68,191.617 4184.73,201.929 4185.74,212.242 4186.73,222.554 4187.71,232.867 \n",
       "  4188.69,243.179 4189.69,253.491 4190.74,263.804 4191.84,274.116 4193.02,284.428 4194.31,294.741 4195.73,305.053 4197.34,315.365 4199.18,325.678 4201.32,335.99 \n",
       "  4203.86,346.302 4204.76,349.506 4206.1,356.615 4207.91,366.927 4209.55,377.24 4211.06,387.552 4212.45,397.864 4213.73,408.177 4214.92,418.489 4216.03,428.801 \n",
       "  4217.08,439.114 4218.08,449.426 4219.05,459.738 4220,470.051 4220.94,480.363 4221.9,490.675 4222.88,500.988 4223.91,511.3 4225,521.613 4226.18,531.925 \n",
       "  4227.48,542.237 4228.92,552.55 4230.54,562.862 4232.4,573.174 4234.57,583.487 4237.15,593.799 4238.76,599.374 4239.61,604.111 4241.35,614.424 4242.94,624.736 \n",
       "  4244.39,635.048 4245.72,645.361 4246.94,655.673 4248.08,665.986 4249.15,676.298 4250.15,686.61 4251.11,696.923 4252.04,707.235 4252.95,717.547 4253.85,727.86 \n",
       "  4254.76,738.172 4255.69,748.484 4256.66,758.797 4257.69,769.109 4258.8,779.421 4260,789.734 4261.32,800.046 4262.79,810.359 4264.46,820.671 4266.37,830.983 \n",
       "  4268.58,841.296 4271.2,851.608 4272.76,857.002 \n",
       "  \"/>\n",
       "<polyline clip-path=\"url(#clip134)\" style=\"stroke:#af0050; stroke-linecap:butt; stroke-linejoin:round; stroke-width:4; stroke-opacity:1; fill:none\" points=\"\n",
       "  4272.76,881.353 4269.63,872.233 4266.75,861.92 4264.39,851.608 4262.4,841.296 4260.69,830.983 4259.19,820.671 4257.87,810.359 4256.68,800.046 4255.6,789.734 \n",
       "  4254.6,779.421 4253.66,769.109 4252.77,758.797 4251.91,748.484 4251.06,738.172 4250.22,727.86 4249.37,717.547 4248.49,707.235 4247.58,696.923 4246.62,686.61 \n",
       "  4245.59,676.298 4244.49,665.986 4243.29,655.673 4241.99,645.361 4240.57,635.048 4239.01,624.736 4238.76,623.179 4235.69,614.424 4232.8,604.111 4230.44,593.799 \n",
       "  4228.48,583.487 4226.79,573.174 4225.33,562.862 4224.03,552.55 4222.85,542.237 4221.78,531.925 4220.77,521.613 4219.83,511.3 4218.91,500.988 4218.02,490.675 \n",
       "  4217.13,480.363 4216.23,470.051 4215.31,459.738 4214.35,449.426 4213.33,439.114 4212.25,428.801 4211.08,418.489 4209.82,408.177 4208.45,397.864 4206.95,387.552 \n",
       "  4205.31,377.24 4204.76,373.996 4202.34,366.927 4199.46,356.615 4197.12,346.302 4195.16,335.99 4193.49,325.678 4192.03,315.365 4190.72,305.053 4189.54,294.741 \n",
       "  4188.46,284.428 4187.44,274.116 4186.46,263.804 4185.52,253.491 4184.59,243.179 4183.66,232.867 4182.7,222.554 4181.72,212.242 4180.69,201.929 4179.59,191.617 \n",
       "  4178.42,181.305 4177.16,170.992 4175.8,160.68 4174.31,150.368 4172.68,140.055 4170.9,129.743 4170.76,128.956 4167.85,119.431 4165.31,109.118 4163.2,98.8059 \n",
       "  4161.4,88.4935 4159.85,78.1812 4158.46,67.8688 4157.22,57.5565 4156.07,47.2441 \n",
       "  \"/>\n",
       "<polyline clip-path=\"url(#clip134)\" style=\"stroke:#bf0040; stroke-linecap:butt; stroke-linejoin:round; stroke-width:4; stroke-opacity:1; fill:none\" points=\"\n",
       "  4151.15,47.2441 4152.09,57.5565 4153.08,67.8688 4154.15,78.1812 4155.32,88.4935 4156.62,98.8059 4158.1,109.118 4159.83,119.431 4161.93,129.743 4164.59,140.055 \n",
       "  4168.16,150.368 4170.76,156.083 4171.47,160.68 4172.94,170.992 4174.28,181.305 4175.51,191.617 4176.64,201.929 4177.7,212.242 4178.68,222.554 4179.6,232.867 \n",
       "  4180.49,243.179 4181.35,253.491 4182.19,263.804 4183.04,274.116 4183.89,284.428 4184.78,294.741 4185.71,305.053 4186.71,315.365 4187.8,325.678 4189.01,335.99 \n",
       "  4190.37,346.302 4191.96,356.615 4193.85,366.927 4196.21,377.24 4199.3,387.552 4203.67,397.864 4204.76,399.932 4205.92,408.177 4207.25,418.489 4208.47,428.801 \n",
       "  4209.58,439.114 4210.61,449.426 4211.57,459.738 4212.47,470.051 4213.32,480.363 4214.14,490.675 4214.95,500.988 4215.74,511.3 4216.55,521.613 4217.37,531.925 \n",
       "  4218.23,542.237 4219.13,552.55 4220.11,562.862 4221.18,573.174 4222.38,583.487 4223.73,593.799 4225.31,604.111 4227.2,614.424 4229.54,624.736 4232.6,635.048 \n",
       "  4236.85,645.361 4238.76,648.986 4239.64,655.673 4240.89,665.986 4242.03,676.298 4243.08,686.61 4244.05,696.923 4244.95,707.235 4245.79,717.547 4246.6,727.86 \n",
       "  4247.37,738.172 4248.13,748.484 4248.87,758.797 4249.63,769.109 4250.4,779.421 4251.2,789.734 4252.04,800.046 4252.95,810.359 4253.93,820.671 4255,830.983 \n",
       "  4256.21,841.296 4257.58,851.608 4259.17,861.92 4261.05,872.233 4263.36,882.545 4266.3,892.857 4270.23,903.17 4272.76,908.38 \n",
       "  \"/>\n",
       "<polyline clip-path=\"url(#clip134)\" style=\"stroke:#cf0030; stroke-linecap:butt; stroke-linejoin:round; stroke-width:4; stroke-opacity:1; fill:none\" points=\"\n",
       "  4272.76,940.681 4266.32,934.107 4261.09,923.794 4258.15,913.482 4256.18,903.17 4254.7,892.857 4253.5,882.545 4252.48,872.233 4251.58,861.92 4250.77,851.608 \n",
       "  4250.02,841.296 4249.32,830.983 4248.66,820.671 4248.02,810.359 4247.41,800.046 4246.8,789.734 4246.2,779.421 4245.6,769.109 4244.98,758.797 4244.34,748.484 \n",
       "  4243.68,738.172 4242.97,727.86 4242.22,717.547 4241.4,707.235 4240.51,696.923 4239.54,686.61 4238.76,679.016 4234.99,676.298 4227.65,665.986 4224.34,655.673 \n",
       "  4222.32,645.361 4220.86,635.048 4219.7,624.736 4218.71,614.424 4217.83,604.111 4217.03,593.799 4216.28,583.487 4215.57,573.174 4214.9,562.862 4214.24,552.55 \n",
       "  4213.6,542.237 4212.96,531.925 4212.32,521.613 4211.66,511.3 4210.98,500.988 4210.27,490.675 4209.51,480.363 4208.7,470.051 4207.83,459.738 4206.88,449.426 \n",
       "  4205.84,439.114 4204.76,429.418 4203.79,428.801 4194.86,418.489 4191.22,408.177 4189.09,397.864 4187.58,387.552 4186.38,377.24 4185.36,366.927 4184.46,356.615 \n",
       "  4183.62,346.302 4182.85,335.99 4182.11,325.678 4181.4,315.365 4180.7,305.053 4180.02,294.741 4179.33,284.428 4178.64,274.116 4177.92,263.804 4177.18,253.491 \n",
       "  4176.39,243.179 4175.55,232.867 4174.65,222.554 4173.67,212.242 4172.6,201.929 4171.43,191.617 4170.76,186.208 4165.63,181.305 4160.15,170.992 4157.3,160.68 \n",
       "  4155.43,150.368 4154.01,140.055 4152.84,129.743 4151.82,119.431 4150.89,109.118 4150.04,98.8059 4149.23,88.4935 4148.46,78.1812 4147.71,67.8688 4146.97,57.5565 \n",
       "  4146.23,47.2441 \n",
       "  \"/>\n",
       "<polyline clip-path=\"url(#clip134)\" style=\"stroke:#ef0010; stroke-linecap:butt; stroke-linejoin:round; stroke-width:4; stroke-opacity:1; fill:none\" points=\"\n",
       "  4071.42,47.2441 4072.12,57.5565 4072.76,67.8688 4073.37,78.1812 4073.98,88.4935 4074.58,98.8059 4075.2,109.118 4075.84,119.431 4076.52,129.743 4077.23,140.055 \n",
       "  4077.99,150.368 4078.79,160.68 4079.64,170.992 4080.56,181.305 4081.53,191.617 4082.56,201.929 4083.66,212.242 4084.83,222.554 4086.08,232.867 4087.41,243.179 \n",
       "  4088.83,253.491 4090.34,263.804 4091.96,274.116 4093.72,284.428 4095.62,294.741 4097.73,305.053 4100.09,315.365 4102.76,325.534 4102.76,325.678 4103.25,335.99 \n",
       "  4103.69,346.302 4104.08,356.615 4104.45,366.927 4104.79,377.24 4105.1,387.552 4105.39,397.864 4105.64,408.177 4105.86,418.489 4106.04,428.801 4106.18,439.114 \n",
       "  4106.25,449.426 4106.26,459.738 4106.17,470.051 4105.98,480.363 4105.65,490.675 4105.14,500.988 4104.42,511.3 4103.41,521.613 4102.76,526.785 4101.93,521.613 \n",
       "  4100.21,511.3 4098.33,500.988 4096.22,490.675 4093.81,480.363 4090.97,470.051 4087.47,459.738 4082.92,449.426 4076.46,439.114 4068.76,430.941 4068.43,428.801 \n",
       "  4066.84,418.489 4065.18,408.177 4063.44,397.864 4061.59,387.552 4059.63,377.24 4057.54,366.927 4055.29,356.615 4052.85,346.302 4050.19,335.99 4047.27,325.678 \n",
       "  4044.03,315.365 4040.41,305.053 4036.3,294.741 4034.76,291.14 4033.76,284.428 4032.2,274.116 4030.57,263.804 4028.88,253.491 4027.1,243.179 4025.23,232.867 \n",
       "  4023.26,222.554 4021.17,212.242 4018.93,201.929 4016.55,191.617 4013.99,181.305 4011.22,170.992 4008.22,160.68 4004.95,150.368 4001.37,140.055 4000.76,138.347 \n",
       "  3999.5,129.743 3997.94,119.431 3996.34,109.118 3994.67,98.8059 3992.93,88.4935 3991.1,78.1812 3989.18,67.8688 3987.14,57.5565 3984.99,47.2441 \n",
       "  \"/>\n",
       "<polyline clip-path=\"url(#clip134)\" style=\"stroke:#0f00f0; stroke-linecap:butt; stroke-linejoin:round; stroke-width:4; stroke-opacity:1; fill:none\" points=\"\n",
       "  3469.29,47.2441 3467.04,57.5565 3464.44,67.8688 3461.34,78.1812 3457.6,88.4935 3456.76,90.5977 3456.44,98.8059 3456.04,109.118 3455.63,119.431 3455.23,129.743 \n",
       "  3454.81,140.055 3454.39,150.368 3453.97,160.68 3453.53,170.992 3453.08,181.305 3452.61,191.617 3452.13,201.929 3451.63,212.242 3451.11,222.554 3450.57,232.867 \n",
       "  3449.99,243.179 3449.39,253.491 3448.76,263.804 3448.08,274.116 3447.37,284.428 3446.6,294.741 3445.79,305.053 3444.91,315.365 3443.96,325.678 3442.93,335.99 \n",
       "  3441.81,346.302 3440.58,356.615 3439.22,366.927 3437.7,377.24 3435.99,387.552 3434.06,397.864 3431.82,408.177 3429.22,418.489 3426.12,428.801 3422.76,438.118 \n",
       "  \n",
       "  \"/>\n",
       "<polyline clip-path=\"url(#clip134)\" style=\"stroke:#1f00e0; stroke-linecap:butt; stroke-linejoin:round; stroke-width:4; stroke-opacity:1; fill:none\" points=\"\n",
       "  3422.76,352.967 3424.46,346.302 3426.89,335.99 3429.09,325.678 3431.07,315.365 3432.88,305.053 3434.54,294.741 3436.06,284.428 3437.47,274.116 3438.77,263.804 \n",
       "  3439.97,253.491 3441.09,243.179 3442.14,232.867 3443.12,222.554 3444.05,212.242 3444.91,201.929 3445.73,191.617 3446.51,181.305 3447.25,170.992 3447.95,160.68 \n",
       "  3448.62,150.368 3449.26,140.055 3449.88,129.743 3450.48,119.431 3451.06,109.118 3451.63,98.8059 3452.18,88.4935 3452.72,78.1812 3453.25,67.8688 3453.78,57.5565 \n",
       "  3454.31,47.2441 \n",
       "  \"/>\n",
       "<polyline clip-path=\"url(#clip134)\" style=\"stroke:#2f00d0; stroke-linecap:butt; stroke-linejoin:round; stroke-width:4; stroke-opacity:1; fill:none\" points=\"\n",
       "  3450.13,47.2441 3449.5,57.5565 3448.86,67.8688 3448.2,78.1812 3447.52,88.4935 3446.81,98.8059 3446.09,109.118 3445.33,119.431 3444.54,129.743 3443.71,140.055 \n",
       "  3442.84,150.368 3441.93,160.68 3440.96,170.992 3439.94,181.305 3438.85,191.617 3437.69,201.929 3436.46,212.242 3435.14,222.554 3433.72,232.867 3432.19,243.179 \n",
       "  3430.55,253.491 3428.78,263.804 3426.85,274.116 3424.76,284.428 3422.76,293.539 \n",
       "  \"/>\n",
       "<polyline clip-path=\"url(#clip134)\" style=\"stroke:#3f00c0; stroke-linecap:butt; stroke-linejoin:round; stroke-width:4; stroke-opacity:1; fill:none\" points=\"\n",
       "  3422.76,245.829 3423.29,243.179 3425.29,232.867 3427.15,222.554 3428.87,212.242 3430.47,201.929 3431.97,191.617 3433.37,181.305 3434.68,170.992 3435.91,160.68 \n",
       "  3437.07,150.368 3438.16,140.055 3439.2,129.743 3440.18,119.431 3441.11,109.118 3442,98.8059 3442.85,88.4935 3443.67,78.1812 3444.46,67.8688 3445.22,57.5565 \n",
       "  3445.96,47.2441 \n",
       "  \"/>\n",
       "<polyline clip-path=\"url(#clip134)\" style=\"stroke:#4f00b0; stroke-linecap:butt; stroke-linejoin:round; stroke-width:4; stroke-opacity:1; fill:none\" points=\"\n",
       "  3441.78,47.2441 3440.94,57.5565 3440.06,67.8688 3439.15,78.1812 3438.19,88.4935 3437.19,98.8059 3436.14,109.118 3435.03,119.431 3433.85,129.743 3432.61,140.055 \n",
       "  3431.29,150.368 3429.89,160.68 3428.39,170.992 3426.8,181.305 3425.09,191.617 3423.25,201.929 3422.76,204.592 \n",
       "  \"/>\n",
       "<polyline clip-path=\"url(#clip134)\" style=\"stroke:#5f00a0; stroke-linecap:butt; stroke-linejoin:round; stroke-width:4; stroke-opacity:1; fill:none\" points=\"\n",
       "  3422.76,167.279 3423.87,160.68 3425.52,150.368 3427.06,140.055 3428.51,129.743 3429.88,119.431 3431.16,109.118 3432.38,98.8059 3433.53,88.4935 3434.62,78.1812 \n",
       "  3435.66,67.8688 3436.65,57.5565 3437.6,47.2441 \n",
       "  \"/>\n",
       "<polyline clip-path=\"url(#clip134)\" style=\"stroke:#6f0090; stroke-linecap:butt; stroke-linejoin:round; stroke-width:4; stroke-opacity:1; fill:none\" points=\"\n",
       "  3433.43,47.2441 3432.37,57.5565 3431.26,67.8688 3430.1,78.1812 3428.87,88.4935 3427.57,98.8059 3426.19,109.118 3424.72,119.431 3423.17,129.743 3422.76,132.349 \n",
       "  \n",
       "  \"/>\n",
       "<polyline clip-path=\"url(#clip134)\" style=\"stroke:#7f0080; stroke-linecap:butt; stroke-linejoin:round; stroke-width:4; stroke-opacity:1; fill:none\" points=\"\n",
       "  3422.76,98.7518 3424.2,88.4935 3425.57,78.1812 3426.86,67.8688 3428.09,57.5565 3429.25,47.2441 \n",
       "  \"/>\n",
       "<polyline clip-path=\"url(#clip134)\" style=\"stroke:#8f0070; stroke-linecap:butt; stroke-linejoin:round; stroke-width:4; stroke-opacity:1; fill:none\" points=\"\n",
       "  3425.07,47.2441 3423.81,57.5565 3422.76,65.6529 \n",
       "  \"/>\n",
       "<polyline clip-path=\"url(#clip134)\" style=\"stroke:#2f00d0; stroke-linecap:butt; stroke-linejoin:round; stroke-width:4; stroke-opacity:1; fill:none\" points=\"\n",
       "  4272.76,271.428 4266.82,263.804 4261.15,253.491 4257.01,243.179 4253.75,232.867 4251.06,222.554 4248.73,212.242 4246.67,201.929 4244.81,191.617 4243.08,181.305 \n",
       "  4241.47,170.992 4239.95,160.68 4238.76,152.321 4236.86,160.68 4235.33,170.992 4234.38,181.305 4233.81,191.617 4233.51,201.929 4233.41,212.242 4233.44,222.554 \n",
       "  4233.58,232.867 4233.8,243.179 4234.08,253.491 4234.4,263.804 4234.75,274.116 4235.13,284.428 4235.53,294.741 4235.95,305.053 4236.38,315.365 4236.82,325.678 \n",
       "  4237.27,335.99 4237.74,346.302 4238.23,356.615 4238.74,366.927 4238.76,367.295 4241.94,377.24 4244.69,387.552 4247.03,397.864 4249.09,408.177 4250.94,418.489 \n",
       "  4252.61,428.801 4254.15,439.114 4255.56,449.426 4256.88,459.738 4258.11,470.051 4259.26,480.363 4260.34,490.675 4261.36,500.988 4262.32,511.3 4263.22,521.613 \n",
       "  4264.07,531.925 4264.88,542.237 4265.65,552.55 4266.39,562.862 4267.1,573.174 4267.79,583.487 4268.46,593.799 4269.12,604.111 4269.78,614.424 4270.44,624.736 \n",
       "  4271.1,635.048 4271.79,645.361 4272.51,655.673 4272.76,659.053 \n",
       "  \"/>\n",
       "<polyline clip-path=\"url(#clip134)\" style=\"stroke:#1f00e0; stroke-linecap:butt; stroke-linejoin:round; stroke-width:4; stroke-opacity:1; fill:none\" points=\"\n",
       "  4272.76,591.545 4272.39,583.487 4271.93,573.174 4271.49,562.862 4271.05,552.55 4270.61,542.237 4270.18,531.925 4269.74,521.613 4269.32,511.3 4268.9,500.988 \n",
       "  4268.48,490.675 4268.09,480.363 4267.71,470.051 4267.36,459.738 4267.05,449.426 4266.79,439.114 4266.62,428.801 4266.55,418.489 4266.62,408.177 4266.9,397.864 \n",
       "  4267.46,387.552 4268.44,377.24 4270.06,366.927 4272.72,356.615 4272.76,356.517 \n",
       "  \"/>\n",
       "<polyline clip-path=\"url(#clip134)\" style=\"stroke:#df0020; stroke-linecap:butt; stroke-linejoin:round; stroke-width:4; stroke-opacity:1; fill:none\" points=\"\n",
       "  4272.76,985.755 4268.71,995.981 4266.49,1006.29 4265.17,1016.61 4264.36,1026.92 4263.85,1037.23 4263.56,1047.54 4263.41,1057.86 4263.38,1068.17 4263.44,1078.48 \n",
       "  \n",
       "  \"/>\n",
       "<polyline clip-path=\"url(#clip134)\" style=\"stroke:#7f0080; stroke-linecap:butt; stroke-linejoin:round; stroke-width:4; stroke-opacity:1; fill:none\" points=\"\n",
       "  3891.52,1078.48 3884.95,1068.17 3878.08,1057.86 3870.91,1047.54 3864.76,1038.96 3863.72,1037.23 3857.46,1026.92 3850.96,1016.61 3844.23,1006.29 3837.3,995.981 \n",
       "  3830.76,986.48 3830.24,985.669 3823.66,975.356 3816.88,965.044 3809.94,954.732 3802.85,944.419 3796.76,935.671 3795.62,934.107 3788.15,923.794 3780.55,913.482 \n",
       "  3772.86,903.17 3765.1,892.857 3762.76,889.719 3756.08,882.545 3746.53,872.233 3737.02,861.92 3728.76,852.898 3726.63,851.608 3710.21,841.296 3694.76,831.228 \n",
       "  3660.76,833.477 3653.67,841.296 3644.37,851.608 3635.26,861.92 3626.76,871.891 3626.64,872.233 3622.88,882.545 3619.01,892.857 3615.07,903.17 3611.08,913.482 \n",
       "  3607.06,923.794 3603.05,934.107 3599.09,944.419 3595.21,954.732 3592.76,961.44 3592.09,965.044 3590.12,975.356 3588.1,985.669 3586.01,995.981 3583.86,1006.29 \n",
       "  3581.65,1016.61 3579.38,1026.92 3577.06,1037.23 3574.7,1047.54 3572.32,1057.86 3569.92,1068.17 3567.52,1078.48 \n",
       "  \"/>\n",
       "<polyline clip-path=\"url(#clip134)\" style=\"stroke:#8f0070; stroke-linecap:butt; stroke-linejoin:round; stroke-width:4; stroke-opacity:1; fill:none\" points=\"\n",
       "  3586.87,1078.48 3589.32,1068.17 3591.73,1057.86 3592.76,1053.3 3594.47,1047.54 3597.69,1037.23 3601.14,1026.92 3604.8,1016.61 3608.66,1006.29 3612.7,995.981 \n",
       "  3616.89,985.669 3621.19,975.356 3625.56,965.044 3626.76,962.197 3631.9,954.732 3639.51,944.419 3647.76,934.107 3656.64,923.794 3660.76,919.182 3683.59,913.482 \n",
       "  3694.76,910.892 3700.05,913.482 3722.11,923.794 3728.76,926.753 3736.57,934.107 3747.52,944.419 3758.34,954.732 3762.76,958.939 3767.8,965.044 3776.25,975.356 \n",
       "  3784.47,985.669 3792.4,995.981 3796.76,1001.77 3800.09,1006.29 3807.64,1016.61 3814.92,1026.92 3821.89,1037.23 3828.5,1047.54 3830.76,1051.14 3835.52,1057.86 \n",
       "  3842.66,1068.17 3849.48,1078.48 \n",
       "  \"/>\n",
       "<polyline clip-path=\"url(#clip134)\" style=\"stroke:#9f0060; stroke-linecap:butt; stroke-linejoin:round; stroke-width:4; stroke-opacity:1; fill:none\" points=\"\n",
       "  3816.7,1078.48 3809.34,1068.17 3801.53,1057.86 3796.76,1051.72 3793.52,1047.54 3785.4,1037.23 3776.85,1026.92 3767.9,1016.61 3762.76,1010.79 3757.6,1006.29 \n",
       "  3745.77,995.981 3733.62,985.669 3728.76,981.532 3710.57,975.356 3694.76,969.663 3679.45,975.356 3660.76,983.016 3658.57,985.669 3650.34,995.981 3642.79,1006.29 \n",
       "  3635.89,1016.61 3629.59,1026.92 3626.76,1031.83 3624.35,1037.23 3619.87,1047.54 3615.62,1057.86 3611.61,1068.17 3607.85,1078.48 \n",
       "  \"/>\n",
       "<polyline clip-path=\"url(#clip134)\" style=\"stroke:#af0050; stroke-linecap:butt; stroke-linejoin:round; stroke-width:4; stroke-opacity:1; fill:none\" points=\"\n",
       "  3629.99,1078.48 3635.75,1068.17 3641.95,1057.86 3648.7,1047.54 3656.08,1037.23 3660.76,1031.08 3668.42,1026.92 3689.19,1016.61 3694.76,1014.04 3704.03,1016.61 \n",
       "  3728.76,1022.95 3733.78,1026.92 3746.84,1037.23 3759.67,1047.54 3762.76,1049.97 3770.02,1057.86 3779.14,1068.17 3787.85,1078.48 \n",
       "  \"/>\n",
       "<polyline clip-path=\"url(#clip134)\" style=\"stroke:#bf0040; stroke-linecap:butt; stroke-linejoin:round; stroke-width:4; stroke-opacity:1; fill:none\" points=\"\n",
       "  3758.17,1078.48 3744.07,1068.17 3730.34,1057.86 3728.76,1056.66 3694.76,1050.21 3681.06,1057.86 3664.18,1068.17 3660.76,1070.35 3655.21,1078.48 \n",
       "  \"/>\n",
       "<polyline clip-path=\"url(#clip134)\" style=\"stroke:#bf0040; stroke-linecap:butt; stroke-linejoin:round; stroke-width:4; stroke-opacity:1; fill:none\" points=\"\n",
       "  4204.48,923.794 4204.76,927.103 4204.96,923.794 4205.53,913.482 4206,903.17 4206.38,892.857 4206.69,882.545 4206.93,872.233 4207.1,861.92 4207.2,851.608 \n",
       "  4207.23,841.296 4207.16,830.983 4207,820.671 4206.71,810.359 4206.26,800.046 4205.63,789.734 4204.76,779.605 4203.02,789.734 4201.84,800.046 4201.07,810.359 \n",
       "  4200.61,820.671 4200.4,830.983 4200.37,841.296 4200.51,851.608 4200.78,861.92 4201.16,872.233 4201.65,882.545 4202.24,892.857 4202.91,903.17 4203.65,913.482 \n",
       "  4204.48,923.794 \n",
       "  \"/>\n",
       "<polyline clip-path=\"url(#clip134)\" style=\"stroke:#df0020; stroke-linecap:butt; stroke-linejoin:round; stroke-width:4; stroke-opacity:1; fill:none\" points=\"\n",
       "  4237.26,913.482 4238.76,919.776 4240.43,913.482 4242.13,903.17 4243.09,892.857 4243.63,882.545 4243.9,872.233 4243.99,861.92 4243.96,851.608 4243.83,841.296 \n",
       "  4243.64,830.983 4243.39,820.671 4243.1,810.359 4242.77,800.046 4242.4,789.734 4242,779.421 4241.56,769.109 4241.09,758.797 4240.56,748.484 4239.98,738.172 \n",
       "  4239.34,727.86 4238.76,719.287 4235.09,727.86 4232.63,738.172 4231.17,748.484 4230.25,758.797 4229.65,769.109 4229.27,779.421 4229.05,789.734 4228.95,800.046 \n",
       "  4228.95,810.359 4229.06,820.671 4229.27,830.983 4229.59,841.296 4230.04,851.608 4230.63,861.92 4231.41,872.233 4232.4,882.545 4233.66,892.857 4235.25,903.17 \n",
       "  4237.26,913.482 \n",
       "  \"/>\n",
       "<polyline clip-path=\"url(#clip134)\" style=\"stroke:#df0020; stroke-linecap:butt; stroke-linejoin:round; stroke-width:4; stroke-opacity:1; fill:none\" points=\"\n",
       "  4204.76,657.265 4204.07,655.673 4200.66,645.361 4198.37,635.048 4196.79,624.736 4195.7,614.424 4194.95,604.111 4194.45,593.799 4194.14,583.487 4193.98,573.174 \n",
       "  4193.95,562.862 4194.02,552.55 4194.2,542.237 4194.48,531.925 4194.9,521.613 4195.49,511.3 4196.35,500.988 4197.64,490.675 4199.72,480.363 4203.47,470.051 \n",
       "  4204.76,467.835 4204.94,470.051 4205.7,480.363 4206.39,490.675 4207.01,500.988 4207.58,511.3 4208.09,521.613 4208.55,531.925 4208.97,542.237 4209.35,552.55 \n",
       "  4209.68,562.862 4209.96,573.174 4210.18,583.487 4210.32,593.799 4210.35,604.111 4210.21,614.424 4209.85,624.736 4209.12,635.048 4207.79,645.361 4205.32,655.673 \n",
       "  4204.76,657.265 \n",
       "  \"/>\n",
       "<polyline clip-path=\"url(#clip134)\" style=\"stroke:#bf0040; stroke-linecap:butt; stroke-linejoin:round; stroke-width:4; stroke-opacity:1; fill:none\" points=\"\n",
       "  4170.76,573.651 4170.73,573.174 4170.36,562.862 4170.24,552.55 4170.41,542.237 4170.76,535.564 4171.02,542.237 4171.16,552.55 4171.07,562.862 4170.78,573.174 \n",
       "  4170.76,573.651 \n",
       "  \"/>\n",
       "<polyline clip-path=\"url(#clip134)\" style=\"stroke:#df0020; stroke-linecap:butt; stroke-linejoin:round; stroke-width:4; stroke-opacity:1; fill:none\" points=\"\n",
       "  4170.76,411.148 4168.62,408.177 4163.97,397.864 4161.47,387.552 4160.03,377.24 4159.2,366.927 4158.74,356.615 4158.54,346.302 4158.51,335.99 4158.6,325.678 \n",
       "  4158.8,315.365 4159.07,305.053 4159.43,294.741 4159.88,284.428 4160.46,274.116 4161.22,263.804 4162.28,253.491 4163.87,243.179 4166.54,232.867 4170.76,224.134 \n",
       "  4171.5,232.867 4172.29,243.179 4173,253.491 4173.65,263.804 4174.24,274.116 4174.77,284.428 4175.25,294.741 4175.69,305.053 4176.08,315.365 4176.42,325.678 \n",
       "  4176.69,335.99 4176.88,346.302 4176.96,356.615 4176.87,366.927 4176.55,377.24 4175.85,387.552 4174.51,397.864 4171.93,408.177 4170.76,411.148 \n",
       "  \"/>\n",
       "<polyline clip-path=\"url(#clip134)\" style=\"stroke:#cf0030; stroke-linecap:butt; stroke-linejoin:round; stroke-width:4; stroke-opacity:1; fill:none\" points=\"\n",
       "  4136.76,400.474 4136.27,397.864 4134.47,387.552 4132.84,377.24 4131.38,366.927 4130.09,356.615 4128.96,346.302 4127.98,335.99 4127.16,325.678 4126.5,315.365 \n",
       "  4126,305.053 4125.7,294.741 4125.6,284.428 4125.74,274.116 4126.18,263.804 4127.02,253.491 4128.41,243.179 4130.66,232.867 4134.39,222.554 4136.76,218.254 \n",
       "  4139.73,222.554 4143.55,232.867 4145.47,243.179 4146.54,253.491 4147.14,263.804 4147.44,274.116 4147.53,284.428 4147.44,294.741 4147.21,305.053 4146.85,315.365 \n",
       "  4146.38,325.678 4145.79,335.99 4145.07,346.302 4144.21,356.615 4143.16,366.927 4141.84,377.24 4140.09,387.552 4137.58,397.864 4136.76,400.474 \n",
       "  \"/>\n",
       "<polyline clip-path=\"url(#clip134)\" style=\"stroke:#ef0010; stroke-linecap:butt; stroke-linejoin:round; stroke-width:4; stroke-opacity:1; fill:none\" points=\"\n",
       "  4170.76,317.715 4170.74,315.365 4170.76,314.369 4170.77,315.365 4170.76,317.715 \n",
       "  \"/>\n",
       "<polyline clip-path=\"url(#clip134)\" style=\"stroke:#ef0010; stroke-linecap:butt; stroke-linejoin:round; stroke-width:4; stroke-opacity:1; fill:none\" points=\"\n",
       "  4136.76,102.081 4136.51,98.8059 4136.13,88.4935 4136.08,78.1812 4136.32,67.8688 4136.76,59.3694 4136.95,67.8688 4137.07,78.1812 4137.05,88.4935 4136.87,98.8059 \n",
       "  4136.76,102.081 \n",
       "  \"/>\n",
       "<defs>\n",
       "  <clipPath id=\"clip135\">\n",
       "    <rect x=\"4368\" y=\"47\" width=\"145\" height=\"1032\"/>\n",
       "  </clipPath>\n",
       "</defs>\n",
       "<polyline clip-path=\"url(#clip135)\" style=\"stroke:#1000ef; stroke-linecap:butt; stroke-linejoin:round; stroke-width:4; stroke-opacity:1; fill:none\" points=\"\n",
       "  4368.76,1014.03 4512.76,1014.03 \n",
       "  \"/>\n",
       "<polyline clip-path=\"url(#clip135)\" style=\"stroke:#2000df; stroke-linecap:butt; stroke-linejoin:round; stroke-width:4; stroke-opacity:1; fill:none\" points=\"\n",
       "  4368.76,949.575 4512.76,949.575 \n",
       "  \"/>\n",
       "<polyline clip-path=\"url(#clip135)\" style=\"stroke:#3000cf; stroke-linecap:butt; stroke-linejoin:round; stroke-width:4; stroke-opacity:1; fill:none\" points=\"\n",
       "  4368.76,885.123 4512.76,885.123 \n",
       "  \"/>\n",
       "<polyline clip-path=\"url(#clip135)\" style=\"stroke:#4000bf; stroke-linecap:butt; stroke-linejoin:round; stroke-width:4; stroke-opacity:1; fill:none\" points=\"\n",
       "  4368.76,820.671 4512.76,820.671 \n",
       "  \"/>\n",
       "<polyline clip-path=\"url(#clip135)\" style=\"stroke:#5000af; stroke-linecap:butt; stroke-linejoin:round; stroke-width:4; stroke-opacity:1; fill:none\" points=\"\n",
       "  4368.76,756.219 4512.76,756.219 \n",
       "  \"/>\n",
       "<polyline clip-path=\"url(#clip135)\" style=\"stroke:#60009f; stroke-linecap:butt; stroke-linejoin:round; stroke-width:4; stroke-opacity:1; fill:none\" points=\"\n",
       "  4368.76,691.766 4512.76,691.766 \n",
       "  \"/>\n",
       "<polyline clip-path=\"url(#clip135)\" style=\"stroke:#70008f; stroke-linecap:butt; stroke-linejoin:round; stroke-width:4; stroke-opacity:1; fill:none\" points=\"\n",
       "  4368.76,627.314 4512.76,627.314 \n",
       "  \"/>\n",
       "<polyline clip-path=\"url(#clip135)\" style=\"stroke:#80007f; stroke-linecap:butt; stroke-linejoin:round; stroke-width:4; stroke-opacity:1; fill:none\" points=\"\n",
       "  4368.76,562.862 4512.76,562.862 \n",
       "  \"/>\n",
       "<polyline clip-path=\"url(#clip135)\" style=\"stroke:#8f0070; stroke-linecap:butt; stroke-linejoin:round; stroke-width:4; stroke-opacity:1; fill:none\" points=\"\n",
       "  4368.76,498.41 4512.76,498.41 \n",
       "  \"/>\n",
       "<polyline clip-path=\"url(#clip135)\" style=\"stroke:#9f0060; stroke-linecap:butt; stroke-linejoin:round; stroke-width:4; stroke-opacity:1; fill:none\" points=\"\n",
       "  4368.76,433.958 4512.76,433.958 \n",
       "  \"/>\n",
       "<polyline clip-path=\"url(#clip135)\" style=\"stroke:#af0050; stroke-linecap:butt; stroke-linejoin:round; stroke-width:4; stroke-opacity:1; fill:none\" points=\"\n",
       "  4368.76,369.505 4512.76,369.505 \n",
       "  \"/>\n",
       "<polyline clip-path=\"url(#clip135)\" style=\"stroke:#bf0040; stroke-linecap:butt; stroke-linejoin:round; stroke-width:4; stroke-opacity:1; fill:none\" points=\"\n",
       "  4368.76,305.053 4512.76,305.053 \n",
       "  \"/>\n",
       "<polyline clip-path=\"url(#clip135)\" style=\"stroke:#cf0030; stroke-linecap:butt; stroke-linejoin:round; stroke-width:4; stroke-opacity:1; fill:none\" points=\"\n",
       "  4368.76,240.601 4512.76,240.601 \n",
       "  \"/>\n",
       "<polyline clip-path=\"url(#clip135)\" style=\"stroke:#df0020; stroke-linecap:butt; stroke-linejoin:round; stroke-width:4; stroke-opacity:1; fill:none\" points=\"\n",
       "  4368.76,176.149 4512.76,176.149 \n",
       "  \"/>\n",
       "<polyline clip-path=\"url(#clip135)\" style=\"stroke:#ef0010; stroke-linecap:butt; stroke-linejoin:round; stroke-width:4; stroke-opacity:1; fill:none\" points=\"\n",
       "  4368.76,111.696 4512.76,111.696 \n",
       "  \"/>\n",
       "<path clip-path=\"url(#clip130)\" d=\"M4596.7 1026.71 Q4593.09 1026.71 4591.26 1030.27 Q4589.45 1033.81 4589.45 1040.94 Q4589.45 1048.05 4591.26 1051.62 Q4593.09 1055.16 4596.7 1055.16 Q4600.33 1055.16 4602.14 1051.62 Q4603.97 1048.05 4603.97 1040.94 Q4603.97 1033.81 4602.14 1030.27 Q4600.33 1026.71 4596.7 1026.71 M4596.7 1023 Q4602.51 1023 4605.57 1027.61 Q4608.64 1032.19 4608.64 1040.94 Q4608.64 1049.67 4605.57 1054.28 Q4602.51 1058.86 4596.7 1058.86 Q4590.89 1058.86 4587.81 1054.28 Q4584.76 1049.67 4584.76 1040.94 Q4584.76 1032.19 4587.81 1027.61 Q4590.89 1023 4596.7 1023 Z\" fill=\"#000000\" fill-rule=\"evenodd\" fill-opacity=\"1\" /><path clip-path=\"url(#clip130)\" d=\"M4616.86 1052.31 L4621.75 1052.31 L4621.75 1058.19 L4616.86 1058.19 L4616.86 1052.31 Z\" fill=\"#000000\" fill-rule=\"evenodd\" fill-opacity=\"1\" /><path clip-path=\"url(#clip130)\" d=\"M4632.74 1054.25 L4640.38 1054.25 L4640.38 1027.89 L4632.07 1029.56 L4632.07 1025.3 L4640.33 1023.63 L4645.01 1023.63 L4645.01 1054.25 L4652.65 1054.25 L4652.65 1058.19 L4632.74 1058.19 L4632.74 1054.25 Z\" fill=\"#000000\" fill-rule=\"evenodd\" fill-opacity=\"1\" /><path clip-path=\"url(#clip130)\" d=\"M4596.7 911.289 Q4593.09 911.289 4591.26 914.854 Q4589.45 918.395 4589.45 925.525 Q4589.45 932.631 4591.26 936.196 Q4593.09 939.738 4596.7 939.738 Q4600.33 939.738 4602.14 936.196 Q4603.97 932.631 4603.97 925.525 Q4603.97 918.395 4602.14 914.854 Q4600.33 911.289 4596.7 911.289 M4596.7 907.585 Q4602.51 907.585 4605.57 912.192 Q4608.64 916.775 4608.64 925.525 Q4608.64 934.252 4605.57 938.858 Q4602.51 943.442 4596.7 943.442 Q4590.89 943.442 4587.81 938.858 Q4584.76 934.252 4584.76 925.525 Q4584.76 916.775 4587.81 912.192 Q4590.89 907.585 4596.7 907.585 Z\" fill=\"#000000\" fill-rule=\"evenodd\" fill-opacity=\"1\" /><path clip-path=\"url(#clip130)\" d=\"M4616.86 936.891 L4621.75 936.891 L4621.75 942.77 L4616.86 942.77 L4616.86 936.891 Z\" fill=\"#000000\" fill-rule=\"evenodd\" fill-opacity=\"1\" /><path clip-path=\"url(#clip130)\" d=\"M4635.96 938.835 L4652.28 938.835 L4652.28 942.77 L4630.33 942.77 L4630.33 938.835 Q4633 936.08 4637.58 931.451 Q4642.19 926.798 4643.37 925.455 Q4645.61 922.932 4646.49 921.196 Q4647.39 919.437 4647.39 917.747 Q4647.39 914.993 4645.45 913.256 Q4643.53 911.52 4640.43 911.52 Q4638.23 911.52 4635.77 912.284 Q4633.34 913.048 4630.57 914.599 L4630.57 909.877 Q4633.39 908.743 4635.84 908.164 Q4638.3 907.585 4640.33 907.585 Q4645.7 907.585 4648.9 910.27 Q4652.09 912.956 4652.09 917.446 Q4652.09 919.576 4651.28 921.497 Q4650.5 923.395 4648.39 925.988 Q4647.81 926.659 4644.71 929.877 Q4641.61 933.071 4635.96 938.835 Z\" fill=\"#000000\" fill-rule=\"evenodd\" fill-opacity=\"1\" /><path clip-path=\"url(#clip130)\" d=\"M4596.7 795.87 Q4593.09 795.87 4591.26 799.435 Q4589.45 802.976 4589.45 810.106 Q4589.45 817.212 4591.26 820.777 Q4593.09 824.319 4596.7 824.319 Q4600.33 824.319 4602.14 820.777 Q4603.97 817.212 4603.97 810.106 Q4603.97 802.976 4602.14 799.435 Q4600.33 795.87 4596.7 795.87 M4596.7 792.166 Q4602.51 792.166 4605.57 796.773 Q4608.64 801.356 4608.64 810.106 Q4608.64 818.833 4605.57 823.439 Q4602.51 828.023 4596.7 828.023 Q4590.89 828.023 4587.81 823.439 Q4584.76 818.833 4584.76 810.106 Q4584.76 801.356 4587.81 796.773 Q4590.89 792.166 4596.7 792.166 Z\" fill=\"#000000\" fill-rule=\"evenodd\" fill-opacity=\"1\" /><path clip-path=\"url(#clip130)\" d=\"M4616.86 821.472 L4621.75 821.472 L4621.75 827.351 L4616.86 827.351 L4616.86 821.472 Z\" fill=\"#000000\" fill-rule=\"evenodd\" fill-opacity=\"1\" /><path clip-path=\"url(#clip130)\" d=\"M4646.1 808.717 Q4649.45 809.435 4651.33 811.703 Q4653.23 813.972 4653.23 817.305 Q4653.23 822.421 4649.71 825.222 Q4646.19 828.023 4639.71 828.023 Q4637.53 828.023 4635.22 827.583 Q4632.93 827.166 4630.47 826.31 L4630.47 821.796 Q4632.42 822.93 4634.73 823.509 Q4637.05 824.087 4639.57 824.087 Q4643.97 824.087 4646.26 822.351 Q4648.58 820.615 4648.58 817.305 Q4648.58 814.249 4646.42 812.537 Q4644.29 810.8 4640.47 810.8 L4636.45 810.8 L4636.45 806.958 L4640.66 806.958 Q4644.11 806.958 4645.94 805.592 Q4647.76 804.203 4647.76 801.611 Q4647.76 798.949 4645.87 797.537 Q4643.99 796.101 4640.47 796.101 Q4638.55 796.101 4636.35 796.518 Q4634.15 796.935 4631.51 797.814 L4631.51 793.648 Q4634.18 792.907 4636.49 792.537 Q4638.83 792.166 4640.89 792.166 Q4646.21 792.166 4649.32 794.597 Q4652.42 797.004 4652.42 801.125 Q4652.42 803.995 4650.77 805.986 Q4649.13 807.953 4646.1 808.717 Z\" fill=\"#000000\" fill-rule=\"evenodd\" fill-opacity=\"1\" /><path clip-path=\"url(#clip130)\" d=\"M4596.7 680.451 Q4593.09 680.451 4591.26 684.016 Q4589.45 687.557 4589.45 694.687 Q4589.45 701.793 4591.26 705.358 Q4593.09 708.9 4596.7 708.9 Q4600.33 708.9 4602.14 705.358 Q4603.97 701.793 4603.97 694.687 Q4603.97 687.557 4602.14 684.016 Q4600.33 680.451 4596.7 680.451 M4596.7 676.747 Q4602.51 676.747 4605.57 681.354 Q4608.64 685.937 4608.64 694.687 Q4608.64 703.414 4605.57 708.02 Q4602.51 712.604 4596.7 712.604 Q4590.89 712.604 4587.81 708.02 Q4584.76 703.414 4584.76 694.687 Q4584.76 685.937 4587.81 681.354 Q4590.89 676.747 4596.7 676.747 Z\" fill=\"#000000\" fill-rule=\"evenodd\" fill-opacity=\"1\" /><path clip-path=\"url(#clip130)\" d=\"M4616.86 706.053 L4621.75 706.053 L4621.75 711.932 L4616.86 711.932 L4616.86 706.053 Z\" fill=\"#000000\" fill-rule=\"evenodd\" fill-opacity=\"1\" /><path clip-path=\"url(#clip130)\" d=\"M4644.78 681.446 L4632.97 699.895 L4644.78 699.895 L4644.78 681.446 M4643.55 677.372 L4649.43 677.372 L4649.43 699.895 L4654.36 699.895 L4654.36 703.784 L4649.43 703.784 L4649.43 711.932 L4644.78 711.932 L4644.78 703.784 L4629.18 703.784 L4629.18 699.27 L4643.55 677.372 Z\" fill=\"#000000\" fill-rule=\"evenodd\" fill-opacity=\"1\" /><path clip-path=\"url(#clip130)\" d=\"M4596.7 565.032 Q4593.09 565.032 4591.26 568.597 Q4589.45 572.138 4589.45 579.268 Q4589.45 586.375 4591.26 589.939 Q4593.09 593.481 4596.7 593.481 Q4600.33 593.481 4602.14 589.939 Q4603.97 586.375 4603.97 579.268 Q4603.97 572.138 4602.14 568.597 Q4600.33 565.032 4596.7 565.032 M4596.7 561.328 Q4602.51 561.328 4605.57 565.935 Q4608.64 570.518 4608.64 579.268 Q4608.64 587.995 4605.57 592.601 Q4602.51 597.185 4596.7 597.185 Q4590.89 597.185 4587.81 592.601 Q4584.76 587.995 4584.76 579.268 Q4584.76 570.518 4587.81 565.935 Q4590.89 561.328 4596.7 561.328 Z\" fill=\"#000000\" fill-rule=\"evenodd\" fill-opacity=\"1\" /><path clip-path=\"url(#clip130)\" d=\"M4616.86 590.634 L4621.75 590.634 L4621.75 596.513 L4616.86 596.513 L4616.86 590.634 Z\" fill=\"#000000\" fill-rule=\"evenodd\" fill-opacity=\"1\" /><path clip-path=\"url(#clip130)\" d=\"M4631.98 561.953 L4650.33 561.953 L4650.33 565.889 L4636.26 565.889 L4636.26 574.361 Q4637.28 574.013 4638.3 573.851 Q4639.32 573.666 4640.33 573.666 Q4646.12 573.666 4649.5 576.838 Q4652.88 580.009 4652.88 585.425 Q4652.88 591.004 4649.41 594.106 Q4645.94 597.185 4639.62 597.185 Q4637.44 597.185 4635.17 596.814 Q4632.93 596.444 4630.52 595.703 L4630.52 591.004 Q4632.6 592.138 4634.83 592.694 Q4637.05 593.249 4639.52 593.249 Q4643.53 593.249 4645.87 591.143 Q4648.2 589.037 4648.2 585.425 Q4648.2 581.814 4645.87 579.708 Q4643.53 577.601 4639.52 577.601 Q4637.65 577.601 4635.77 578.018 Q4633.92 578.435 4631.98 579.314 L4631.98 561.953 Z\" fill=\"#000000\" fill-rule=\"evenodd\" fill-opacity=\"1\" /><path clip-path=\"url(#clip130)\" d=\"M4596.7 449.613 Q4593.09 449.613 4591.26 453.178 Q4589.45 456.72 4589.45 463.849 Q4589.45 470.956 4591.26 474.52 Q4593.09 478.062 4596.7 478.062 Q4600.33 478.062 4602.14 474.52 Q4603.97 470.956 4603.97 463.849 Q4603.97 456.72 4602.14 453.178 Q4600.33 449.613 4596.7 449.613 M4596.7 445.909 Q4602.51 445.909 4605.57 450.516 Q4608.64 455.099 4608.64 463.849 Q4608.64 472.576 4605.57 477.182 Q4602.51 481.766 4596.7 481.766 Q4590.89 481.766 4587.81 477.182 Q4584.76 472.576 4584.76 463.849 Q4584.76 455.099 4587.81 450.516 Q4590.89 445.909 4596.7 445.909 Z\" fill=\"#000000\" fill-rule=\"evenodd\" fill-opacity=\"1\" /><path clip-path=\"url(#clip130)\" d=\"M4616.86 475.215 L4621.75 475.215 L4621.75 481.094 L4616.86 481.094 L4616.86 475.215 Z\" fill=\"#000000\" fill-rule=\"evenodd\" fill-opacity=\"1\" /><path clip-path=\"url(#clip130)\" d=\"M4642.51 461.951 Q4639.36 461.951 4637.51 464.104 Q4635.68 466.257 4635.68 470.006 Q4635.68 473.733 4637.51 475.909 Q4639.36 478.062 4642.51 478.062 Q4645.66 478.062 4647.49 475.909 Q4649.34 473.733 4649.34 470.006 Q4649.34 466.257 4647.49 464.104 Q4645.66 461.951 4642.51 461.951 M4651.79 447.298 L4651.79 451.558 Q4650.03 450.724 4648.23 450.284 Q4646.45 449.845 4644.69 449.845 Q4640.06 449.845 4637.6 452.97 Q4635.17 456.095 4634.83 462.414 Q4636.19 460.4 4638.25 459.335 Q4640.31 458.247 4642.79 458.247 Q4648 458.247 4651.01 461.419 Q4654.04 464.567 4654.04 470.006 Q4654.04 475.331 4650.89 478.548 Q4647.74 481.766 4642.51 481.766 Q4636.51 481.766 4633.34 477.182 Q4630.17 472.576 4630.17 463.849 Q4630.17 455.655 4634.06 450.794 Q4637.95 445.909 4644.5 445.909 Q4646.26 445.909 4648.04 446.257 Q4649.85 446.604 4651.79 447.298 Z\" fill=\"#000000\" fill-rule=\"evenodd\" fill-opacity=\"1\" /><path clip-path=\"url(#clip130)\" d=\"M4596.7 334.194 Q4593.09 334.194 4591.26 337.759 Q4589.45 341.301 4589.45 348.43 Q4589.45 355.537 4591.26 359.101 Q4593.09 362.643 4596.7 362.643 Q4600.33 362.643 4602.14 359.101 Q4603.97 355.537 4603.97 348.43 Q4603.97 341.301 4602.14 337.759 Q4600.33 334.194 4596.7 334.194 M4596.7 330.49 Q4602.51 330.49 4605.57 335.097 Q4608.64 339.68 4608.64 348.43 Q4608.64 357.157 4605.57 361.763 Q4602.51 366.347 4596.7 366.347 Q4590.89 366.347 4587.81 361.763 Q4584.76 357.157 4584.76 348.43 Q4584.76 339.68 4587.81 335.097 Q4590.89 330.49 4596.7 330.49 Z\" fill=\"#000000\" fill-rule=\"evenodd\" fill-opacity=\"1\" /><path clip-path=\"url(#clip130)\" d=\"M4616.86 359.796 L4621.75 359.796 L4621.75 365.675 L4616.86 365.675 L4616.86 359.796 Z\" fill=\"#000000\" fill-rule=\"evenodd\" fill-opacity=\"1\" /><path clip-path=\"url(#clip130)\" d=\"M4630.75 331.115 L4652.97 331.115 L4652.97 333.106 L4640.43 365.675 L4635.54 365.675 L4647.35 335.051 L4630.75 335.051 L4630.75 331.115 Z\" fill=\"#000000\" fill-rule=\"evenodd\" fill-opacity=\"1\" /><path clip-path=\"url(#clip130)\" d=\"M4596.7 218.775 Q4593.09 218.775 4591.26 222.34 Q4589.45 225.882 4589.45 233.011 Q4589.45 240.118 4591.26 243.682 Q4593.09 247.224 4596.7 247.224 Q4600.33 247.224 4602.14 243.682 Q4603.97 240.118 4603.97 233.011 Q4603.97 225.882 4602.14 222.34 Q4600.33 218.775 4596.7 218.775 M4596.7 215.071 Q4602.51 215.071 4605.57 219.678 Q4608.64 224.261 4608.64 233.011 Q4608.64 241.738 4605.57 246.344 Q4602.51 250.928 4596.7 250.928 Q4590.89 250.928 4587.81 246.344 Q4584.76 241.738 4584.76 233.011 Q4584.76 224.261 4587.81 219.678 Q4590.89 215.071 4596.7 215.071 Z\" fill=\"#000000\" fill-rule=\"evenodd\" fill-opacity=\"1\" /><path clip-path=\"url(#clip130)\" d=\"M4616.86 244.377 L4621.75 244.377 L4621.75 250.256 L4616.86 250.256 L4616.86 244.377 Z\" fill=\"#000000\" fill-rule=\"evenodd\" fill-opacity=\"1\" /><path clip-path=\"url(#clip130)\" d=\"M4641.93 233.845 Q4638.6 233.845 4636.68 235.627 Q4634.78 237.409 4634.78 240.534 Q4634.78 243.659 4636.68 245.442 Q4638.6 247.224 4641.93 247.224 Q4645.26 247.224 4647.19 245.442 Q4649.11 243.636 4649.11 240.534 Q4649.11 237.409 4647.19 235.627 Q4645.29 233.845 4641.93 233.845 M4637.26 231.854 Q4634.25 231.113 4632.56 229.053 Q4630.89 226.993 4630.89 224.03 Q4630.89 219.886 4633.83 217.479 Q4636.79 215.071 4641.93 215.071 Q4647.09 215.071 4650.03 217.479 Q4652.97 219.886 4652.97 224.03 Q4652.97 226.993 4651.28 229.053 Q4649.62 231.113 4646.63 231.854 Q4650.01 232.641 4651.89 234.932 Q4653.78 237.224 4653.78 240.534 Q4653.78 245.557 4650.7 248.243 Q4647.65 250.928 4641.93 250.928 Q4636.21 250.928 4633.14 248.243 Q4630.08 245.557 4630.08 240.534 Q4630.08 237.224 4631.98 234.932 Q4633.88 232.641 4637.26 231.854 M4635.54 224.47 Q4635.54 227.155 4637.21 228.659 Q4638.9 230.164 4641.93 230.164 Q4644.94 230.164 4646.63 228.659 Q4648.34 227.155 4648.34 224.47 Q4648.34 221.784 4646.63 220.28 Q4644.94 218.775 4641.93 218.775 Q4638.9 218.775 4637.21 220.28 Q4635.54 221.784 4635.54 224.47 Z\" fill=\"#000000\" fill-rule=\"evenodd\" fill-opacity=\"1\" /><path clip-path=\"url(#clip130)\" d=\"M4596.7 103.356 Q4593.09 103.356 4591.26 106.921 Q4589.45 110.463 4589.45 117.592 Q4589.45 124.699 4591.26 128.263 Q4593.09 131.805 4596.7 131.805 Q4600.33 131.805 4602.14 128.263 Q4603.97 124.699 4603.97 117.592 Q4603.97 110.463 4602.14 106.921 Q4600.33 103.356 4596.7 103.356 M4596.7 99.6525 Q4602.51 99.6525 4605.57 104.259 Q4608.64 108.842 4608.64 117.592 Q4608.64 126.319 4605.57 130.926 Q4602.51 135.509 4596.7 135.509 Q4590.89 135.509 4587.81 130.926 Q4584.76 126.319 4584.76 117.592 Q4584.76 108.842 4587.81 104.259 Q4590.89 99.6525 4596.7 99.6525 Z\" fill=\"#000000\" fill-rule=\"evenodd\" fill-opacity=\"1\" /><path clip-path=\"url(#clip130)\" d=\"M4616.86 128.958 L4621.75 128.958 L4621.75 134.838 L4616.86 134.838 L4616.86 128.958 Z\" fill=\"#000000\" fill-rule=\"evenodd\" fill-opacity=\"1\" /><path clip-path=\"url(#clip130)\" d=\"M4632.07 134.12 L4632.07 129.861 Q4633.83 130.694 4635.64 131.134 Q4637.44 131.574 4639.18 131.574 Q4643.81 131.574 4646.24 128.472 Q4648.69 125.347 4649.04 119.004 Q4647.7 120.995 4645.64 122.06 Q4643.58 123.125 4641.08 123.125 Q4635.89 123.125 4632.86 120 Q4629.85 116.852 4629.85 111.412 Q4629.85 106.088 4633 102.87 Q4636.14 99.6525 4641.38 99.6525 Q4647.37 99.6525 4650.52 104.259 Q4653.69 108.842 4653.69 117.592 Q4653.69 125.763 4649.8 130.648 Q4645.94 135.509 4639.39 135.509 Q4637.63 135.509 4635.82 135.162 Q4634.01 134.814 4632.07 134.12 M4641.38 119.467 Q4644.52 119.467 4646.35 117.314 Q4648.2 115.162 4648.2 111.412 Q4648.2 107.685 4646.35 105.532 Q4644.52 103.356 4641.38 103.356 Q4638.23 103.356 4636.38 105.532 Q4634.55 107.685 4634.55 111.412 Q4634.55 115.162 4636.38 117.314 Q4638.23 119.467 4641.38 119.467 Z\" fill=\"#000000\" fill-rule=\"evenodd\" fill-opacity=\"1\" /><polyline clip-path=\"url(#clip130)\" style=\"stroke:#000000; stroke-linecap:butt; stroke-linejoin:round; stroke-width:4; stroke-opacity:1; fill:none\" points=\"\n",
       "  4512.76,1078.48 4512.76,1044.54 4560.76,1044.54 4512.76,1044.54 4512.76,929.119 4560.76,929.119 4512.76,929.119 4512.76,813.7 4560.76,813.7 4512.76,813.7 \n",
       "  4512.76,698.281 4560.76,698.281 4512.76,698.281 4512.76,582.862 4560.76,582.862 4512.76,582.862 4512.76,467.443 4560.76,467.443 4512.76,467.443 4512.76,352.024 \n",
       "  4560.76,352.024 4512.76,352.024 4512.76,236.605 4560.76,236.605 4512.76,236.605 4512.76,121.186 4560.76,121.186 4512.76,121.186 4512.76,47.2441 \n",
       "  \"/>\n",
       "</svg>\n"
      ]
     },
     "execution_count": 24,
     "metadata": {},
     "output_type": "execute_result"
    }
   ],
   "source": [
    "using StatsFuns: normcdf\n",
    "classification_map = map((x) -> normcdf(dot([1,1],x)), map((x) -> forward(inferred_model, [x...]), collect(Iterators.product(0:0.01:3, 0:0.01:1))))\n",
    "im1 = scatter(data_x[:,1], data_x[:,2], xlabel=\"gain 1\", ylabel=\"gain 2\", color=dat_to_col(data_y))\n",
    "im2 = scatter(data_x[:,1], data_x[:,2], xlabel=\"gain 1\", ylabel=\"gain 2\", color=cmap.(normcdf.(trans_data_x_2)))\n",
    "im3 = contour(0.0:0.1:2.5, 0.0:0.01:1, (x, y) -> normcdf(dot([1, 1], forward(inferred_model, [x, y]))), color=[\"blue\", \"red\"])\n",
    "plot(im1, im2, im3, legend=false, layout=(1, 3), size=(1200, 300))"
   ]
  },
  {
   "cell_type": "markdown",
   "id": "approved-melissa",
   "metadata": {},
   "source": [
    "## Planning\n",
    "Few things must be said about the planning stage. \n",
    "First of all, the idea of planning is a reverse problem to prefernce learning. \n",
    "Given the parameters of neural network, the goal prior for the appraisal (1.0) and an informative prior for the future context (we have an idea of how the environment evolves), we want to infer the most suitable gains.\n",
    "The evolution of the context will be based on HMM model, where the observations are \n",
    "\n",
    "For illustration purposes, we will first run the inference algorithm to obtain **z** and **x**. Secondly, we run our agent that proposes gains."
   ]
  },
  {
   "cell_type": "code",
   "execution_count": 24,
   "id": "thousand-adaptation",
   "metadata": {},
   "outputs": [
    {
     "data": {
      "text/plain": [
       "(KeepActor{Real}(Real[1.2087418129214136, 1.2087418129214136, 1.2087418129214136, 1.2087418129214136, 1.2087418129214136, 1.2087418129214136, 1.2087418129214136, 1.2087418129214136, 1.2087418129214136, 1.2087418129214136  …  1.2087418129214136, 1.2087418129214136, 1.2087418129214136, 1.2087418129214136, 1.2087418129214136, 1.2087418129214136, 1.2087418129214136, 1.2087418129214136, 1.2087418129214136, 1.2087418129214136]), Marginal(MvNormalWeightedMeanPrecision(\n",
       "xi: [71.8229818259273, 67.26083242197328]\n",
       "Λ: [113.44139067812844 10.631434048018336; 10.631434048018336 108.40890594016291]\n",
       ")\n",
       "))"
      ]
     },
     "execution_count": 24,
     "metadata": {},
     "output_type": "execute_result"
    }
   ],
   "source": [
    "# test\n",
    "mgs, covgs = repeat([0.5], 2), 1e-2*diagm(ones(2))\n",
    "fe, gains = inference_flow_planner(mgs, covgs, 1.0, params)"
   ]
  },
  {
   "cell_type": "code",
   "execution_count": 25,
   "id": "hundred-python",
   "metadata": {},
   "outputs": [],
   "source": [
    "test_files = get_sounds_fn(\"sound/AIDA/test/\");"
   ]
  },
  {
   "cell_type": "code",
   "execution_count": 43,
   "id": "initial-cancer",
   "metadata": {},
   "outputs": [
    {
     "name": "stdout",
     "output_type": "stream",
     "text": [
      "sound/AIDA/test/babble/0dB/sp21_babble_sn0.wav\n"
     ]
    },
    {
     "name": "stderr",
     "output_type": "stream",
     "text": [
      "\u001b[32mProgress: 100%|█████████████████████████████████████████| Time: 0:05:27\u001b[39m\n"
     ]
    },
    {
     "name": "stdout",
     "output_type": "stream",
     "text": [
      "sound/AIDA/test/babble/0dB/sp22_babble_sn0.wav\n"
     ]
    },
    {
     "name": "stderr",
     "output_type": "stream",
     "text": [
      "\u001b[32mProgress: 100%|█████████████████████████████████████████| Time: 0:04:05\u001b[39m\n"
     ]
    },
    {
     "name": "stdout",
     "output_type": "stream",
     "text": [
      "sound/AIDA/test/babble/0dB/sp23_babble_sn0.wav\n"
     ]
    },
    {
     "name": "stderr",
     "output_type": "stream",
     "text": [
      "\u001b[32mProgress: 100%|█████████████████████████████████████████| Time: 0:03:35\u001b[39m\n"
     ]
    },
    {
     "name": "stdout",
     "output_type": "stream",
     "text": [
      "sound/AIDA/test/babble/0dB/sp24_babble_sn0.wav\n"
     ]
    },
    {
     "name": "stderr",
     "output_type": "stream",
     "text": [
      "\u001b[32mProgress: 100%|█████████████████████████████████████████| Time: 0:04:43\u001b[39m\n"
     ]
    },
    {
     "name": "stdout",
     "output_type": "stream",
     "text": [
      "sound/AIDA/test/babble/0dB/sp25_babble_sn0.wav\n"
     ]
    },
    {
     "name": "stderr",
     "output_type": "stream",
     "text": [
      "\u001b[32mProgress: 100%|█████████████████████████████████████████| Time: 0:04:19\u001b[39m\n"
     ]
    },
    {
     "name": "stdout",
     "output_type": "stream",
     "text": [
      "sound/AIDA/test/babble/0dB/sp26_babble_sn0.wav\n"
     ]
    },
    {
     "name": "stderr",
     "output_type": "stream",
     "text": [
      "\u001b[32mProgress: 100%|█████████████████████████████████████████| Time: 0:03:45\u001b[39m\n"
     ]
    },
    {
     "name": "stdout",
     "output_type": "stream",
     "text": [
      "sound/AIDA/test/babble/0dB/sp27_babble_sn0.wav\n"
     ]
    },
    {
     "name": "stderr",
     "output_type": "stream",
     "text": [
      "\u001b[32mProgress: 100%|█████████████████████████████████████████| Time: 0:04:35\u001b[39m\n"
     ]
    },
    {
     "name": "stdout",
     "output_type": "stream",
     "text": [
      "sound/AIDA/test/babble/0dB/sp28_babble_sn0.wav\n"
     ]
    },
    {
     "name": "stderr",
     "output_type": "stream",
     "text": [
      "\u001b[32mProgress: 100%|█████████████████████████████████████████| Time: 0:04:39\u001b[39m\n"
     ]
    },
    {
     "name": "stdout",
     "output_type": "stream",
     "text": [
      "sound/AIDA/test/babble/0dB/sp29_babble_sn0.wav\n"
     ]
    },
    {
     "name": "stderr",
     "output_type": "stream",
     "text": [
      "\u001b[32mProgress: 100%|█████████████████████████████████████████| Time: 0:04:02\u001b[39m\n"
     ]
    },
    {
     "name": "stdout",
     "output_type": "stream",
     "text": [
      "sound/AIDA/test/babble/0dB/sp30_babble_sn0.wav\n"
     ]
    },
    {
     "name": "stderr",
     "output_type": "stream",
     "text": [
      "\u001b[32mProgress: 100%|█████████████████████████████████████████| Time: 0:03:44\u001b[39m\n"
     ]
    },
    {
     "name": "stdout",
     "output_type": "stream",
     "text": [
      "sound/AIDA/test/train/0dB/sp21_train_sn0.wav\n"
     ]
    },
    {
     "name": "stderr",
     "output_type": "stream",
     "text": [
      "\u001b[32mProgress: 100%|█████████████████████████████████████████| Time: 0:05:13\u001b[39m\n"
     ]
    },
    {
     "name": "stdout",
     "output_type": "stream",
     "text": [
      "sound/AIDA/test/train/0dB/sp22_train_sn0.wav\n"
     ]
    },
    {
     "name": "stderr",
     "output_type": "stream",
     "text": [
      "\u001b[32mProgress: 100%|█████████████████████████████████████████| Time: 0:03:32\u001b[39m\n"
     ]
    },
    {
     "name": "stdout",
     "output_type": "stream",
     "text": [
      "sound/AIDA/test/train/0dB/sp23_train_sn0.wav\n"
     ]
    },
    {
     "name": "stderr",
     "output_type": "stream",
     "text": [
      "\u001b[32mProgress: 100%|█████████████████████████████████████████| Time: 0:03:36\u001b[39m\n"
     ]
    },
    {
     "name": "stdout",
     "output_type": "stream",
     "text": [
      "sound/AIDA/test/train/0dB/sp24_train_sn0.wav\n"
     ]
    },
    {
     "name": "stderr",
     "output_type": "stream",
     "text": [
      "\u001b[32mProgress: 100%|█████████████████████████████████████████| Time: 0:04:37\u001b[39m\n"
     ]
    },
    {
     "name": "stdout",
     "output_type": "stream",
     "text": [
      "sound/AIDA/test/train/0dB/sp25_train_sn0.wav\n"
     ]
    },
    {
     "name": "stderr",
     "output_type": "stream",
     "text": [
      "\u001b[32mProgress: 100%|█████████████████████████████████████████| Time: 0:04:05\u001b[39m\n"
     ]
    },
    {
     "name": "stdout",
     "output_type": "stream",
     "text": [
      "sound/AIDA/test/train/0dB/sp26_train_sn0.wav\n"
     ]
    },
    {
     "name": "stderr",
     "output_type": "stream",
     "text": [
      "\u001b[32mProgress: 100%|█████████████████████████████████████████| Time: 0:03:19\u001b[39m\n"
     ]
    },
    {
     "name": "stdout",
     "output_type": "stream",
     "text": [
      "sound/AIDA/test/train/0dB/sp27_train_sn0.wav\n"
     ]
    },
    {
     "name": "stderr",
     "output_type": "stream",
     "text": [
      "\u001b[32mProgress: 100%|█████████████████████████████████████████| Time: 0:03:18\u001b[39m\n"
     ]
    },
    {
     "name": "stdout",
     "output_type": "stream",
     "text": [
      "sound/AIDA/test/train/0dB/sp28_train_sn0.wav\n"
     ]
    },
    {
     "name": "stderr",
     "output_type": "stream",
     "text": [
      "\u001b[32mProgress: 100%|█████████████████████████████████████████| Time: 0:03:09\u001b[39m\n"
     ]
    },
    {
     "name": "stdout",
     "output_type": "stream",
     "text": [
      "sound/AIDA/test/train/0dB/sp29_train_sn0.wav\n"
     ]
    },
    {
     "name": "stderr",
     "output_type": "stream",
     "text": [
      "\u001b[32mProgress: 100%|█████████████████████████████████████████| Time: 0:03:30\u001b[39m\n"
     ]
    },
    {
     "name": "stdout",
     "output_type": "stream",
     "text": [
      "sound/AIDA/test/train/0dB/sp30_train_sn0.wav\n"
     ]
    },
    {
     "name": "stderr",
     "output_type": "stream",
     "text": [
      "\u001b[32mProgress: 100%|█████████████████████████████████████████| Time: 0:03:26\u001b[39m\n"
     ]
    }
   ],
   "source": [
    "# obtain HA output for test set (data for acting)\n",
    "using JLD\n",
    "# r for recovered\n",
    "for test_file in test_files\n",
    "    if !occursin(\".wav\", test_file)\n",
    "        continue\n",
    "    end\n",
    "    \n",
    "    speech, fs = WAV.wavread(test_file)\n",
    "    speech_seg = get_frames(speech, fs)\n",
    "    \n",
    "    # choose priors\n",
    "    # TODO: infer context\n",
    "    if occursin(\"/babble/\", test_file)\n",
    "        priors_eta = (bblmη_arr, bblvη_arr)\n",
    "        priors_tau = bblτ_arr\n",
    "    elseif occursin(\"/train/\", test_file)\n",
    "        priors_eta = (trmη_arr, trvη_arr)\n",
    "        priors_tau = trτ_arr\n",
    "    else\n",
    "        continue\n",
    "    end\n",
    "    println(test_file)\n",
    "    \n",
    "    # make sure that 1D of priors and speech_seg are equal\n",
    "    if size(priors_eta, 1) != size(speech_seg, 1)\n",
    "        totseg = size(speech_seg, 1)\n",
    "        priors_eta_m, priors_eta_v, priors_tau = prior_to_priors(priors_eta[1][1, :]', priors_eta[2][1, :, :], priors_tau[1], totseg)\n",
    "        priors_eta = priors_eta_m, priors_eta_v\n",
    "    end\n",
    "    rmz, rvz, rmθ, rvθ, rγ, rmx, rvx, rmη, rvη, rτ, fe, rmo = HA_algorithm(speech_seg, priors_eta, priors_tau, 10, 2, 10);\n",
    "    \n",
    "    JLD.save(\"sound/AIDA/separated_jld/test/\"*test_file[findfirst(\"sp\", test_file)[1]:end][1:end-3]*\"jld\",\n",
    "         \"rmz\", rmz, \"rvz\", rvz, \"rmθ\", rmθ, \"rvθ\", rvθ, \"rγ\", rγ, \n",
    "         \"rmx\", rmx, \"rvx\", rvx, \"rmη\", rmη, \"rvη\", rvη, \"rτ\", rτ,\n",
    "         \"fe\", fe, \"rmo\", rmo, \"filename\", test_file,\n",
    "         \"audio\", speech)\n",
    "end"
   ]
  },
  {
   "cell_type": "code",
   "execution_count": 45,
   "id": "derived-miller",
   "metadata": {},
   "outputs": [],
   "source": [
    "test_jlds = get_sounds_fn(\"sound/AIDA/separated_jld/test/\");"
   ]
  },
  {
   "cell_type": "code",
   "execution_count": 46,
   "id": "norman-racing",
   "metadata": {},
   "outputs": [
    {
     "data": {
      "text/plain": [
       "Dict{String, Any} with 14 entries:\n",
       "  \"audio\"    => [0.0659505; 0.0466628; … ; 0.0177007; 0.0260323]\n",
       "  \"rvz\"      => [0.00132598 0.000487292 … 0.000435906 0.000557015; 0.00136346 0…\n",
       "  \"rmz\"      => [0.0146437 0.0158006 … -0.0175001 -0.019014; -0.0264399 0.00196…\n",
       "  \"rvθ\"      => [0.00718847 -0.000881056 … 4.45185e-5 1.15663e-5; 0.00689001 -0…\n",
       "  \"rvη\"      => [0.0135076 -0.00793697; 0.014867 -0.00958109; … ; 0.0152392 -0.…\n",
       "  \"rmη\"      => [0.745136 -0.190553; 0.726476 -0.0568321; … ; 0.907209 -0.26019…\n",
       "  \"rγ\"       => [(41.0, 0.0260959), (41.0, 0.0245033), (41.0, 0.0303322), (41.0…\n",
       "  \"fe\"       => [444.712 259.632 … 21.4958 -6.58402; 444.711 259.63 … 21.7304 -…\n",
       "  \"rmo\"      => [0.0658367 0.0470218 … -0.0603806 -0.0624228; -0.0501297 -0.003…\n",
       "  \"rmx\"      => [0.051193 0.0312213 … -0.0428805 -0.0434088; -0.0236898 -0.0055…\n",
       "  \"rτ\"       => [(81.0, 0.0833871), (81.0, 0.0810728), (81.0, 0.0837156), (81.0…\n",
       "  \"filename\" => \"sound/AIDA/test/babble/0dB/sp21_babble_sn0.wav\"\n",
       "  \"rvx\"      => [0.00138101 0.000485686 … 0.000490908 0.000550814; 0.00139781 0…\n",
       "  \"rmθ\"      => [0.167088 -0.0331565 … -0.00283989 -0.00178122; 0.195652 0.0089…"
      ]
     },
     "execution_count": 46,
     "metadata": {},
     "output_type": "execute_result"
    }
   ],
   "source": [
    "JLD.load(test_jlds[1])"
   ]
  },
  {
   "cell_type": "code",
   "execution_count": 47,
   "id": "imported-ceramic",
   "metadata": {},
   "outputs": [
    {
     "name": "stdout",
     "output_type": "stream",
     "text": [
      "How's HA output 1, 0 ?\n"
     ]
    },
    {
     "name": "stdin",
     "output_type": "stream",
     "text": [
      "stdin>  0.0\n"
     ]
    },
    {
     "name": "stdout",
     "output_type": "stream",
     "text": [
      "How's HA output 1, 0 ?\n"
     ]
    },
    {
     "name": "stdin",
     "output_type": "stream",
     "text": [
      "stdin>  0.0\n"
     ]
    },
    {
     "name": "stdout",
     "output_type": "stream",
     "text": [
      "How's HA output 1, 0 ?\n"
     ]
    },
    {
     "name": "stdin",
     "output_type": "stream",
     "text": [
      "stdin>  0.5\n"
     ]
    },
    {
     "name": "stdout",
     "output_type": "stream",
     "text": [
      "How's HA output 1, 0 ?\n"
     ]
    },
    {
     "name": "stdin",
     "output_type": "stream",
     "text": [
      "stdin>  1.0\n"
     ]
    },
    {
     "name": "stdout",
     "output_type": "stream",
     "text": [
      "How's HA output 1, 0 ?\n"
     ]
    },
    {
     "name": "stdin",
     "output_type": "stream",
     "text": [
      "stdin>  0.0\n"
     ]
    },
    {
     "name": "stdout",
     "output_type": "stream",
     "text": [
      "How's HA output 1, 0 ?\n"
     ]
    },
    {
     "name": "stdin",
     "output_type": "stream",
     "text": [
      "stdin>  0.0\n"
     ]
    },
    {
     "name": "stdout",
     "output_type": "stream",
     "text": [
      "How's HA output 1, 0 ?\n"
     ]
    },
    {
     "name": "stdin",
     "output_type": "stream",
     "text": [
      "stdin>  0.0\n"
     ]
    },
    {
     "name": "stdout",
     "output_type": "stream",
     "text": [
      "How's HA output 1, 0 ?\n"
     ]
    },
    {
     "name": "stdin",
     "output_type": "stream",
     "text": [
      "stdin>  .\n"
     ]
    },
    {
     "name": "stdout",
     "output_type": "stream",
     "text": [
      "How's HA output 1, 0 ?\n"
     ]
    },
    {
     "name": "stdin",
     "output_type": "stream",
     "text": [
      "stdin>  0.0\n"
     ]
    },
    {
     "name": "stdout",
     "output_type": "stream",
     "text": [
      "How's HA output 1, 0 ?\n"
     ]
    },
    {
     "name": "stdin",
     "output_type": "stream",
     "text": [
      "stdin>  0.0\n"
     ]
    },
    {
     "name": "stdout",
     "output_type": "stream",
     "text": [
      "How's HA output 1, 0 ?\n"
     ]
    },
    {
     "name": "stdin",
     "output_type": "stream",
     "text": [
      "stdin>  0.8\n"
     ]
    },
    {
     "name": "stdout",
     "output_type": "stream",
     "text": [
      "How's HA output 1, 0 ?\n"
     ]
    },
    {
     "name": "stdin",
     "output_type": "stream",
     "text": [
      "stdin>  0.0\n"
     ]
    },
    {
     "name": "stdout",
     "output_type": "stream",
     "text": [
      "How's HA output 1, 0 ?\n"
     ]
    },
    {
     "name": "stdin",
     "output_type": "stream",
     "text": [
      "stdin>  1.0\n"
     ]
    },
    {
     "name": "stdout",
     "output_type": "stream",
     "text": [
      "How's HA output 1, 0 ?\n"
     ]
    },
    {
     "name": "stdin",
     "output_type": "stream",
     "text": [
      "stdin>  0.1\n"
     ]
    },
    {
     "name": "stdout",
     "output_type": "stream",
     "text": [
      "How's HA output 1, 0 ?\n"
     ]
    },
    {
     "name": "stdin",
     "output_type": "stream",
     "text": [
      "stdin>  0.2\n"
     ]
    },
    {
     "name": "stdout",
     "output_type": "stream",
     "text": [
      "How's HA output 1, 0 ?\n"
     ]
    },
    {
     "name": "stdin",
     "output_type": "stream",
     "text": [
      "stdin>  0.2\n"
     ]
    },
    {
     "name": "stdout",
     "output_type": "stream",
     "text": [
      "How's HA output 1, 0 ?\n"
     ]
    },
    {
     "name": "stdin",
     "output_type": "stream",
     "text": [
      "stdin>  0.0\n"
     ]
    },
    {
     "name": "stdout",
     "output_type": "stream",
     "text": [
      "How's HA output 1, 0 ?\n"
     ]
    },
    {
     "name": "stdin",
     "output_type": "stream",
     "text": [
      "stdin>  0.0\n"
     ]
    },
    {
     "name": "stdout",
     "output_type": "stream",
     "text": [
      "How's HA output 1, 0 ?\n"
     ]
    },
    {
     "name": "stdin",
     "output_type": "stream",
     "text": [
      "stdin>  0.0\n"
     ]
    },
    {
     "name": "stdout",
     "output_type": "stream",
     "text": [
      "How's HA output 1, 0 ?\n"
     ]
    },
    {
     "name": "stdin",
     "output_type": "stream",
     "text": [
      "stdin>  0\n"
     ]
    }
   ],
   "source": [
    "# Here agent plans and learns\n",
    "gs = [0.5, 0.5]\n",
    "covgs = diageye(2)\n",
    "for test_jld in test_jlds\n",
    "    d = JLD.load(test_jld)\n",
    "    rmz, rmx = d[\"rmz\"], d[\"rmx\"]\n",
    "    filename = d[\"filename\"]\n",
    "    if occursin(\"/babble/\", filename)\n",
    "        context = 1.0\n",
    "        params = Optim.minimizer(res_babble)\n",
    "        fe, gains = inference_flow_planner(gs, covgs, 1.0, params)\n",
    "    elseif occursin(\"/train/\", filename)\n",
    "        context = 0.0\n",
    "        params = Optim.minimizer(res_train)\n",
    "        fe, gains = inference_flow_planner(gs, covgs, 1.0, params)\n",
    "    else\n",
    "        continue\n",
    "    end\n",
    "    rz, rx = get_signal(rmz, fs), get_signal(rmx, fs)\n",
    "    # TODO change to the output of flow_nn\n",
    "    gs = mean(gains)\n",
    "    ha_out = gs[1] .* rz + gs[2] .* rx\n",
    "    # TODO: we can learn here as well. If the user provides a feedback to each proposal, we can feed this information back to our learning function.\n",
    "\n",
    "    \n",
    "    full_name = \"sound/AIDA/planning/ha_out_$(gs[1])_$(gs[2])_\"*filename[findfirst(\"sp\", filename)[1]:end]\n",
    "    WAV.wavwrite(ha_out, fs, full_name)\n",
    "    WAV.wavplay(full_name)\n",
    "    println(\"How's HA output 1, 0 ?\")\n",
    "    appraisal = readline()\n",
    "end"
   ]
  },
  {
   "cell_type": "code",
   "execution_count": 34,
   "id": "painted-contact",
   "metadata": {},
   "outputs": [
    {
     "name": "stderr",
     "output_type": "stream",
     "text": [
      "\u001b[32m\u001b[1m    Updating\u001b[22m\u001b[39m registry at `~/.julia/registries/General`\n",
      "\u001b[32m\u001b[1m   Resolving\u001b[22m\u001b[39m package versions...\n",
      "\u001b[32m\u001b[1m   Installed\u001b[22m\u001b[39m MemPool ─ v0.3.6\n",
      "\u001b[32m\u001b[1m   Installed\u001b[22m\u001b[39m Tables ── v1.5.2\n",
      "\u001b[32m\u001b[1m   Installed\u001b[22m\u001b[39m Dagger ── v0.13.2\n",
      "\u001b[32m\u001b[1m    Updating\u001b[22m\u001b[39m `~/Documents/Julia/AIDA/Project.toml`\n",
      " \u001b[90m [d58978e5] \u001b[39m\u001b[92m+ Dagger v0.13.2\u001b[39m\n",
      "\u001b[32m\u001b[1m    Updating\u001b[22m\u001b[39m `~/Documents/Julia/AIDA/Manifest.toml`\n",
      " \u001b[90m [d58978e5] \u001b[39m\u001b[92m+ Dagger v0.13.2\u001b[39m\n",
      " \u001b[90m [e2d170a0] \u001b[39m\u001b[92m+ DataValueInterfaces v1.0.0\u001b[39m\n",
      " \u001b[90m [82899510] \u001b[39m\u001b[92m+ IteratorInterfaceExtensions v1.0.0\u001b[39m\n",
      " \u001b[90m [f9f48841] \u001b[39m\u001b[92m+ MemPool v0.3.6\u001b[39m\n",
      " \u001b[90m [91c51154] \u001b[39m\u001b[92m+ SentinelArrays v1.3.7\u001b[39m\n",
      " \u001b[90m [ab02a1b2] \u001b[39m\u001b[92m+ TableOperations v1.1.0\u001b[39m\n",
      " \u001b[90m [3783bdb8] \u001b[39m\u001b[92m+ TableTraits v1.0.1\u001b[39m\n",
      " \u001b[90m [bd369af6] \u001b[39m\u001b[92m+ Tables v1.5.2\u001b[39m\n",
      "\u001b[32m\u001b[1mPrecompiling\u001b[22m\u001b[39m project...\n",
      "\u001b[32m  ✓ \u001b[39m\u001b[90mMemPool\u001b[39m\n",
      "\u001b[32m  ✓ \u001b[39m\u001b[90mTables\u001b[39m\n",
      "\u001b[33m  ? \u001b[39m\u001b[90mTableOperations\u001b[39m\n",
      "\u001b[33m  ? \u001b[39mDagger\n",
      "2 dependencies successfully precompiled in 5 seconds (111 already precompiled)\n",
      "\u001b[33m2\u001b[39m dependencies failed but may be precompilable after restarting julia\n"
     ]
    }
   ],
   "source": [
    "] add Dagger"
   ]
  },
  {
   "cell_type": "code",
   "execution_count": null,
   "id": "comic-parking",
   "metadata": {},
   "outputs": [],
   "source": []
  }
 ],
 "metadata": {
  "kernelspec": {
   "display_name": "Julia 1.6.0",
   "language": "julia",
   "name": "julia-1.6"
  },
  "language_info": {
   "file_extension": ".jl",
   "mimetype": "application/julia",
   "name": "julia",
   "version": "1.6.0"
  }
 },
 "nbformat": 4,
 "nbformat_minor": 5
}
