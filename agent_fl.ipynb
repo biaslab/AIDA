{
 "cells": [
  {
   "cell_type": "code",
   "execution_count": 1,
   "id": "rapid-hebrew",
   "metadata": {},
   "outputs": [
    {
     "data": {
      "text/plain": [
       "10-element Vector{Bool}:\n",
       " 1\n",
       " 1\n",
       " 1\n",
       " 1\n",
       " 0\n",
       " 1\n",
       " 1\n",
       " 0\n",
       " 1\n",
       " 1"
      ]
     },
     "execution_count": 1,
     "metadata": {},
     "output_type": "execute_result"
    }
   ],
   "source": [
    "# generate data\n",
    "import Distributions\n",
    "using Random\n",
    "\n",
    "Random.seed!(42)\n",
    "\n",
    "n_samples = 10\n",
    "dimensionality = 2\n",
    "order = dimensionality\n",
    "rθ = [-0.5, 0.2]\n",
    "inputs = randn(n_samples, dimensionality)\n",
    "σ(w, x) = 1/(1+exp(-w'x))\n",
    "πs = [σ(rθ, inputs[i, :]) for i in 1:n_samples]\n",
    "outputs = [rand(Distributions.Bernoulli(πs[i])) for i in 1:n_samples]"
   ]
  },
  {
   "cell_type": "code",
   "execution_count": 2,
   "id": "increasing-friendship",
   "metadata": {},
   "outputs": [],
   "source": [
    "# test nonlinear\n",
    "using Revise\n",
    "using ForneyLab\n",
    "import ForneyLab: unsafeMean, unsafeCov\n",
    "\n",
    "graph = FactorGraph()\n",
    "\n",
    "T = n_samples\n",
    "x = Vector{Variable}(undef, T)\n",
    "y = Vector{Variable}(undef, T)\n",
    "\n",
    "# Hearing aid parameters\n",
    "@RV θ  ~ GaussianMeanPrecision(placeholder(:m_θ, dims=(order,)), placeholder(:W_θ, dims=(order, order)))\n",
    "f(w,x) = 1/(1+exp(-w'x))\n",
    "for i in 1:T\n",
    "    @eval $(Symbol(\"func$i\"))(θ) = f(θ,inputs[$i, :])\n",
    "    @RV x[i] ~ Nonlinear{Sampling}(θ, g=eval(Symbol(\"func$i\")), in_variates=[Multivariate], out_variate=Univariate)\n",
    "    @RV y[i] ~ Bernoulli(x[i])\n",
    "    placeholder(y[i], :y, index=i)\n",
    "end"
   ]
  },
  {
   "cell_type": "code",
   "execution_count": 3,
   "id": "protecting-gamma",
   "metadata": {},
   "outputs": [],
   "source": [
    "algo = messagePassingAlgorithm(θ, free_energy=true)\n",
    "src_code = algorithmSourceCode(algo, free_energy=true);"
   ]
  },
  {
   "cell_type": "code",
   "execution_count": 4,
   "id": "expensive-julian",
   "metadata": {},
   "outputs": [
    {
     "name": "stdout",
     "output_type": "stream",
     "text": [
      "begin\n",
      "\n",
      "function step!(data::Dict, marginals::Dict=Dict(), messages::Vector{Message}=Array{Message}(undef, 58))\n",
      "\n",
      "messages[1] = ruleSPGaussianMeanPrecisionOutNPP(nothing, Message(Multivariate, PointMass, m=data[:m_θ]), Message(MatrixVariate, PointMass, m=data[:W_θ]))\n",
      "messages[2] = ruleSPBernoulliIn1PN(Message(Univariate, PointMass, m=data[:y][10]), nothing)\n",
      "messages[3] = ruleSPNonlinearSIn1MN(func10, messages[2], nothing, variate=Multivariate)\n",
      "messages[4] = ruleSPBernoulliIn1PN(Message(Univariate, PointMass, m=data[:y][9]), nothing)\n",
      "messages[5] = ruleSPNonlinearSIn1MN(func9, messages[4], nothing, variate=Multivariate)\n",
      "messages[6] = ruleSPEqualityFn(messages[5], nothing, messages[3])\n",
      "messages[7] = ruleSPBernoulliIn1PN(Message(Univariate, PointMass, m=data[:y][8]), nothing)\n",
      "messages[8] = ruleSPNonlinearSIn1MN(func8, messages[7], nothing, variate=Multivariate)\n",
      "messages[9] = ruleSPEqualityFn(messages[8], nothing, messages[6])\n",
      "messages[10] = ruleSPBernoulliIn1PN(Message(Univariate, PointMass, m=data[:y][7]), nothing)\n",
      "messages[11] = ruleSPNonlinearSIn1MN(func7, messages[10], nothing, variate=Multivariate)\n",
      "messages[12] = ruleSPEqualityFn(messages[11], nothing, messages[9])\n",
      "messages[13] = ruleSPBernoulliIn1PN(Message(Univariate, PointMass, m=data[:y][6]), nothing)\n",
      "messages[14] = ruleSPNonlinearSIn1MN(func6, messages[13], nothing, variate=Multivariate)\n",
      "messages[15] = ruleSPEqualityFn(messages[14], nothing, messages[12])\n",
      "messages[16] = ruleSPBernoulliIn1PN(Message(Univariate, PointMass, m=data[:y][5]), nothing)\n",
      "messages[17] = ruleSPNonlinearSIn1MN(func5, messages[16], nothing, variate=Multivariate)\n",
      "messages[18] = ruleSPEqualityFn(messages[17], nothing, messages[15])\n",
      "messages[19] = ruleSPBernoulliIn1PN(Message(Univariate, PointMass, m=data[:y][4]), nothing)\n",
      "messages[20] = ruleSPNonlinearSIn1MN(func4, messages[19], nothing, variate=Multivariate)\n",
      "messages[21] = ruleSPEqualityFn(messages[20], nothing, messages[18])\n",
      "messages[22] = ruleSPBernoulliIn1PN(Message(Univariate, PointMass, m=data[:y][3]), nothing)\n",
      "messages[23] = ruleSPNonlinearSIn1MN(func3, messages[22], nothing, variate=Multivariate)\n",
      "messages[24] = ruleSPEqualityFn(messages[23], nothing, messages[21])\n",
      "messages[25] = ruleSPBernoulliIn1PN(Message(Univariate, PointMass, m=data[:y][2]), nothing)\n",
      "messages[26] = ruleSPNonlinearSIn1MN(func2, messages[25], nothing, variate=Multivariate)\n",
      "messages[27] = ruleSPEqualityFn(messages[26], nothing, messages[24])\n",
      "messages[28] = ruleSPBernoulliIn1PN(Message(Univariate, PointMass, m=data[:y][1]), nothing)\n",
      "messages[29] = ruleSPNonlinearSIn1MN(func1, messages[28], nothing, variate=Multivariate)\n",
      "messages[30] = ruleSPEqualityFn(nothing, messages[29], messages[27])\n",
      "messages[31] = ruleSPEqualityFnG(messages[1], messages[29], nothing)\n",
      "messages[32] = ruleSPEqualityFnG(messages[26], messages[31], nothing)\n",
      "messages[33] = ruleSPEqualityFnG(messages[23], messages[32], nothing)\n",
      "messages[34] = ruleSPEqualityFnG(messages[20], messages[33], nothing)\n",
      "messages[35] = ruleSPEqualityFnG(messages[17], messages[34], nothing)\n",
      "messages[36] = ruleSPEqualityFnG(messages[14], messages[35], nothing)\n",
      "messages[37] = ruleSPEqualityFnG(messages[11], messages[36], nothing)\n",
      "messages[38] = ruleSPEqualityFnG(messages[8], messages[37], nothing)\n",
      "messages[39] = ruleSPEqualityFnG(nothing, messages[38], messages[3])\n",
      "messages[40] = ruleSPNonlinearSOutNM(func9, nothing, messages[39], variate=Univariate)\n",
      "messages[41] = ruleSPEqualityFnG(nothing, messages[37], messages[6])\n",
      "messages[42] = ruleSPNonlinearSOutNM(func8, nothing, messages[41], variate=Univariate)\n",
      "messages[43] = ruleSPEqualityFnG(nothing, messages[36], messages[9])\n",
      "messages[44] = ruleSPNonlinearSOutNM(func7, nothing, messages[43], variate=Univariate)\n",
      "messages[45] = ruleSPEqualityFnG(nothing, messages[35], messages[12])\n",
      "messages[46] = ruleSPNonlinearSOutNM(func6, nothing, messages[45], variate=Univariate)\n",
      "messages[47] = ruleSPEqualityFnG(nothing, messages[34], messages[15])\n",
      "messages[48] = ruleSPNonlinearSOutNM(func5, nothing, messages[47], variate=Univariate)\n",
      "messages[49] = ruleSPEqualityFnG(nothing, messages[33], messages[18])\n",
      "messages[50] = ruleSPNonlinearSOutNM(func4, nothing, messages[49], variate=Univariate)\n",
      "messages[51] = ruleSPEqualityFnG(nothing, messages[32], messages[21])\n",
      "messages[52] = ruleSPNonlinearSOutNM(func3, nothing, messages[51], variate=Univariate)\n",
      "messages[53] = ruleSPEqualityFnG(nothing, messages[31], messages[24])\n",
      "messages[54] = ruleSPNonlinearSOutNM(func2, nothing, messages[53], variate=Univariate)\n",
      "messages[55] = ruleSPEqualityFnG(messages[5], messages[38], nothing)\n",
      "messages[56] = ruleSPNonlinearSOutNM(func10, nothing, messages[55], variate=Univariate)\n",
      "messages[57] = ruleSPEqualityFnG(messages[1], nothing, messages[27])\n",
      "messages[58] = ruleSPNonlinearSOutNM(func1, nothing, messages[57], variate=Univariate)\n",
      "\n",
      "marginals[:x_1] = messages[58].dist * messages[28].dist\n",
      "marginals[:x_10] = messages[56].dist * messages[2].dist\n",
      "marginals[:x_2] = messages[54].dist * messages[25].dist\n",
      "marginals[:x_3] = messages[52].dist * messages[22].dist\n",
      "marginals[:x_4] = messages[50].dist * messages[19].dist\n",
      "marginals[:x_5] = messages[48].dist * messages[16].dist\n",
      "marginals[:x_6] = messages[46].dist * messages[13].dist\n",
      "marginals[:x_7] = messages[44].dist * messages[10].dist\n",
      "marginals[:x_8] = messages[42].dist * messages[7].dist\n",
      "marginals[:x_9] = messages[40].dist * messages[4].dist\n",
      "marginals[:θ] = messages[1].dist * messages[30].dist\n",
      "\n",
      "return marginals\n",
      "\n",
      "end\n",
      "\n",
      "function freeEnergy(data::Dict, marginals::Dict)\n",
      "\n",
      "F = 0.0\n",
      "\n",
      "F += averageEnergy(Bernoulli, ProbabilityDistribution(Univariate, PointMass, m=data[:y][1]), marginals[:x_1])\n",
      "F += averageEnergy(Bernoulli, ProbabilityDistribution(Univariate, PointMass, m=data[:y][10]), marginals[:x_10])\n",
      "F += averageEnergy(Bernoulli, ProbabilityDistribution(Univariate, PointMass, m=data[:y][2]), marginals[:x_2])\n",
      "F += averageEnergy(Bernoulli, ProbabilityDistribution(Univariate, PointMass, m=data[:y][3]), marginals[:x_3])\n",
      "F += averageEnergy(Bernoulli, ProbabilityDistribution(Univariate, PointMass, m=data[:y][4]), marginals[:x_4])\n",
      "F += averageEnergy(Bernoulli, ProbabilityDistribution(Univariate, PointMass, m=data[:y][5]), marginals[:x_5])\n",
      "F += averageEnergy(Bernoulli, ProbabilityDistribution(Univariate, PointMass, m=data[:y][6]), marginals[:x_6])\n",
      "F += averageEnergy(Bernoulli, ProbabilityDistribution(Univariate, PointMass, m=data[:y][7]), marginals[:x_7])\n",
      "F += averageEnergy(Bernoulli, ProbabilityDistribution(Univariate, PointMass, m=data[:y][8]), marginals[:x_8])\n",
      "F += averageEnergy(Bernoulli, ProbabilityDistribution(Univariate, PointMass, m=data[:y][9]), marginals[:x_9])\n",
      "F += averageEnergy(GaussianMeanPrecision, marginals[:θ], ProbabilityDistribution(Multivariate, PointMass, m=data[:m_θ]), ProbabilityDistribution(MatrixVariate, PointMass, m=data[:W_θ]))\n",
      "\n",
      "F -= differentialEntropy(marginals[:θ])\n",
      "\n",
      "return F\n",
      "\n",
      "end\n",
      "\n",
      "end # block\n"
     ]
    }
   ],
   "source": [
    "println(src_code);"
   ]
  },
  {
   "cell_type": "code",
   "execution_count": 5,
   "id": "dirty-scoop",
   "metadata": {},
   "outputs": [
    {
     "data": {
      "text/plain": [
       "freeEnergy (generic function with 1 method)"
      ]
     },
     "execution_count": 5,
     "metadata": {},
     "output_type": "execute_result"
    }
   ],
   "source": [
    "# Load algorithm\n",
    "eval(Meta.parse(src_code))"
   ]
  },
  {
   "cell_type": "code",
   "execution_count": 6,
   "id": "controlled-hindu",
   "metadata": {},
   "outputs": [
    {
     "data": {
      "text/plain": [
       "Dict{Any, Any} with 11 entries:\n",
       "  :x_3  => SampleList(s=[0.66, 0.61, 0.67, 0.65, 0.49, 0.53, 0.62, 0.44, 0.67, …\n",
       "  :x_10 => SampleList(s=[0.02, 5.62e-03, 0.14, 4.36e-03, 0.02, 2.25e-03, 0.01, …\n",
       "  :x_2  => SampleList(s=[0.64, 0.65, 0.65, 0.67, 0.65, 0.40, 0.80, 0.50, 0.57, …\n",
       "  :x_5  => SampleList(s=[0.20, 0.26, 0.01, 0.04, 0.28, 0.15, 0.61, 0.04, 0.02, …\n",
       "  :x_1  => SampleList(s=[0.85, 0.79, 0.73, 0.94, 0.23, 0.75, 0.86, 0.84, 0.95, …\n",
       "  :x_4  => SampleList(s=[0.96, 0.83, 0.43, 0.50, 0.95, 0.72, 0.07, 0.57, 0.86, …\n",
       "  :x_9  => SampleList(s=[0.36, 0.92, 1.00, 1.00, 0.99, 0.01, 1.00, 0.96, 0.93, …\n",
       "  :θ    => 𝒩(m=[-1.33, 0.81], w=[[1.08, -0.08][-0.08, 1.36]])…\n",
       "  :x_6  => SampleList(s=[0.55, 0.01, 0.02, 0.66, 0.25, 0.63, 0.85, 0.02, 0.71, …\n",
       "  :x_7  => SampleList(s=[0.75, 0.84, 0.87, 0.54, 0.81, 0.87, 0.64, 0.91, 0.75, …\n",
       "  :x_8  => SampleList(s=[0.14, 0.39, 0.18, 0.32, 0.24, 0.68, 0.84, 0.13, 0.45, …"
      ]
     },
     "execution_count": 6,
     "metadata": {},
     "output_type": "execute_result"
    }
   ],
   "source": [
    "data = Dict(:y => outputs, :m_θ => zeros(dimensionality), :W_θ => 0.1*diageye(dimensionality))\n",
    "marginals = step!(data)"
   ]
  },
  {
   "cell_type": "code",
   "execution_count": 7,
   "id": "sound-secondary",
   "metadata": {},
   "outputs": [
    {
     "data": {
      "text/plain": [
       "2-element Vector{Float64}:\n",
       " -1.3319520146225503\n",
       "  0.8149393727598759"
      ]
     },
     "execution_count": 7,
     "metadata": {},
     "output_type": "execute_result"
    }
   ],
   "source": [
    "meθ = unsafeMean(marginals[:θ])"
   ]
  },
  {
   "cell_type": "code",
   "execution_count": 8,
   "id": "substantial-slovenia",
   "metadata": {},
   "outputs": [
    {
     "data": {
      "text/plain": [
       "2×2 Matrix{Float64}:\n",
       " 0.929187   0.0559767\n",
       " 0.0559767  0.737735"
      ]
     },
     "execution_count": 8,
     "metadata": {},
     "output_type": "execute_result"
    }
   ],
   "source": [
    "weθ = unsafeCov(marginals[:θ])"
   ]
  },
  {
   "cell_type": "code",
   "execution_count": 9,
   "id": "virtual-private",
   "metadata": {},
   "outputs": [
    {
     "name": "stdout",
     "output_type": "stream",
     "text": [
      "training errors = 0.0\n"
     ]
    }
   ],
   "source": [
    "println(\"training errors = $(sum(abs.([round(f(meθ, inputs[i, :])) - round(πs[i]) for i in 1:n_samples])))\")"
   ]
  },
  {
   "cell_type": "code",
   "execution_count": 10,
   "id": "decreased-belle",
   "metadata": {},
   "outputs": [],
   "source": [
    "# test nonlinear\n",
    "using Revise\n",
    "using ForneyLab\n",
    "using LinearAlgebra\n",
    "import ForneyLab: unsafeMean, unsafeCov\n",
    "\n",
    "graph = FactorGraph()\n",
    "\n",
    "T = 2\n",
    "x = Vector{Variable}(undef, T)\n",
    "z = Vector{Variable}(undef, T)\n",
    "y = Vector{Variable}(undef, T)\n",
    "\n",
    "# Hearing aid parameters\n",
    "@RV θ  ~ GaussianMeanPrecision(placeholder(:m_θ, dims=(dimensionality,)), placeholder(:W_θ, dims=(dimensionality, dimensionality)))\n",
    "f(w, x) = 1/(1+exp(-w'x))\n",
    "for i in 1:T\n",
    "    @RV z[i] ~ GaussianMeanPrecision(inputs[i, :], 1e4*diageye(dimensionality))\n",
    "    @RV x[i] ~ Nonlinear{Sampling}(θ, z[i], g=f, in_variates=[Multivariate, Multivariate], out_variate=Univariate)\n",
    "    @RV y[i] ~ Bernoulli(x[i])\n",
    "    placeholder(y[i], :y, index=i)\n",
    "end"
   ]
  },
  {
   "cell_type": "code",
   "execution_count": 11,
   "id": "sonic-bibliography",
   "metadata": {},
   "outputs": [
    {
     "data": {
      "text/html": [
       "<?xml version=\"1.0\" encoding=\"UTF-8\" standalone=\"no\"?>\n",
       "<!DOCTYPE svg PUBLIC \"-//W3C//DTD SVG 1.1//EN\"\n",
       " \"http://www.w3.org/Graphics/SVG/1.1/DTD/svg11.dtd\">\n",
       "<!-- Generated by graphviz version 2.47.2 (20210527.0053)\n",
       " -->\n",
       "<!-- Title: G Pages: 1 -->\n",
       "<svg width=\"841pt\" height=\"512pt\"\n",
       " viewBox=\"0.00 0.00 841.00 512.00\" xmlns=\"http://www.w3.org/2000/svg\" xmlns:xlink=\"http://www.w3.org/1999/xlink\">\n",
       "<g id=\"graph0\" class=\"graph\" transform=\"scale(1 1) rotate(0) translate(4 508)\">\n",
       "<title>G</title>\n",
       "<polygon fill=\"white\" stroke=\"transparent\" points=\"-4,4 -4,-508 837,-508 837,4 -4,4\"/>\n",
       "<!-- 2929344861303102662 -->\n",
       "<g id=\"node1\" class=\"node\">\n",
       "<title>2929344861303102662</title>\n",
       "<polygon fill=\"none\" stroke=\"black\" points=\"477.5,-288 370.5,-288 370.5,-216 477.5,-216 477.5,-288\"/>\n",
       "<text text-anchor=\"middle\" x=\"424\" y=\"-254.8\" font-family=\"Times,serif\" font-size=\"9.00\">𝒩</text>\n",
       "<text text-anchor=\"middle\" x=\"424\" y=\"-244.8\" font-family=\"Times,serif\" font-size=\"9.00\">gaussianmeanprecision_1</text>\n",
       "</g>\n",
       "<!-- 9643130187140608370 -->\n",
       "<g id=\"node5\" class=\"node\">\n",
       "<title>9643130187140608370</title>\n",
       "<polygon fill=\"lightgrey\" stroke=\"black\" points=\"360,-162 280,-162 280,-108 360,-108 360,-162\"/>\n",
       "<text text-anchor=\"middle\" x=\"320\" y=\"-132.8\" font-family=\"Times,serif\" font-size=\"9.00\">placeholder_W_θ</text>\n",
       "</g>\n",
       "<!-- 2929344861303102662&#45;&#45;9643130187140608370 -->\n",
       "<g id=\"edge12\" class=\"edge\">\n",
       "<title>2929344861303102662&#45;&#45;9643130187140608370</title>\n",
       "<path fill=\"none\" stroke=\"black\" d=\"M392.23,-215.87C376.58,-198.57 358.03,-178.06 343.65,-162.15\"/>\n",
       "<text text-anchor=\"start\" x=\"376\" y=\"-191.6\" font-family=\"Times,serif\" font-size=\"8.00\" fill=\"red\">W_θ</text>\n",
       "<text text-anchor=\"start\" x=\"324.65\" y=\"-164.75\" font-family=\"Times,serif\" font-size=\"8.00\">1 out </text>\n",
       "<text text-anchor=\"start\" x=\"377.23\" y=\"-209.47\" font-family=\"Times,serif\" font-size=\"8.00\">3 w </text>\n",
       "</g>\n",
       "<!-- 17707422377843947055 -->\n",
       "<g id=\"node7\" class=\"node\">\n",
       "<title>17707422377843947055</title>\n",
       "<polygon fill=\"lightgrey\" stroke=\"black\" points=\"553,-162 475,-162 475,-108 553,-108 553,-162\"/>\n",
       "<text text-anchor=\"middle\" x=\"514\" y=\"-132.8\" font-family=\"Times,serif\" font-size=\"9.00\">placeholder_m_θ</text>\n",
       "</g>\n",
       "<!-- 2929344861303102662&#45;&#45;17707422377843947055 -->\n",
       "<g id=\"edge6\" class=\"edge\">\n",
       "<title>2929344861303102662&#45;&#45;17707422377843947055</title>\n",
       "<path fill=\"none\" stroke=\"black\" d=\"M451.49,-215.87C465.04,-198.57 481.09,-178.06 493.53,-162.15\"/>\n",
       "<text text-anchor=\"start\" x=\"472\" y=\"-191.6\" font-family=\"Times,serif\" font-size=\"8.00\" fill=\"red\">m_θ</text>\n",
       "<text text-anchor=\"start\" x=\"474.53\" y=\"-164.75\" font-family=\"Times,serif\" font-size=\"8.00\">1 out </text>\n",
       "<text text-anchor=\"start\" x=\"436.49\" y=\"-209.47\" font-family=\"Times,serif\" font-size=\"8.00\">2 m </text>\n",
       "</g>\n",
       "<!-- 7208174809755892839 -->\n",
       "<g id=\"node2\" class=\"node\">\n",
       "<title>7208174809755892839</title>\n",
       "<polygon fill=\"lightgrey\" stroke=\"black\" points=\"664,-54 610,-54 610,0 664,0 664,-54\"/>\n",
       "<text text-anchor=\"middle\" x=\"637\" y=\"-24.8\" font-family=\"Times,serif\" font-size=\"9.00\">clamp_4</text>\n",
       "</g>\n",
       "<!-- 4655151314031304132 -->\n",
       "<g id=\"node3\" class=\"node\">\n",
       "<title>4655151314031304132</title>\n",
       "<polygon fill=\"lightgrey\" stroke=\"black\" points=\"54,-54 0,-54 0,0 54,0 54,-54\"/>\n",
       "<text text-anchor=\"middle\" x=\"27\" y=\"-24.8\" font-family=\"Times,serif\" font-size=\"9.00\">clamp_2</text>\n",
       "</g>\n",
       "<!-- 8177849662292221457 -->\n",
       "<g id=\"node4\" class=\"node\">\n",
       "<title>8177849662292221457</title>\n",
       "<polygon fill=\"none\" stroke=\"black\" points=\"164,-288 92,-288 92,-216 164,-216 164,-288\"/>\n",
       "<text text-anchor=\"middle\" x=\"128\" y=\"-254.8\" font-family=\"Times,serif\" font-size=\"9.00\">g{Sampling}</text>\n",
       "<text text-anchor=\"middle\" x=\"128\" y=\"-244.8\" font-family=\"Times,serif\" font-size=\"9.00\">nonlinear_1</text>\n",
       "</g>\n",
       "<!-- 7051081533820749676 -->\n",
       "<g id=\"node14\" class=\"node\">\n",
       "<title>7051081533820749676</title>\n",
       "<polygon fill=\"none\" stroke=\"black\" points=\"164.5,-171 57.5,-171 57.5,-99 164.5,-99 164.5,-171\"/>\n",
       "<text text-anchor=\"middle\" x=\"111\" y=\"-137.8\" font-family=\"Times,serif\" font-size=\"9.00\">𝒩</text>\n",
       "<text text-anchor=\"middle\" x=\"111\" y=\"-127.8\" font-family=\"Times,serif\" font-size=\"9.00\">gaussianmeanprecision_2</text>\n",
       "</g>\n",
       "<!-- 8177849662292221457&#45;&#45;7051081533820749676 -->\n",
       "<g id=\"edge7\" class=\"edge\">\n",
       "<title>8177849662292221457&#45;&#45;7051081533820749676</title>\n",
       "<path fill=\"none\" stroke=\"black\" d=\"M122.81,-215.87C120.72,-201.74 118.31,-185.46 116.22,-171.31\"/>\n",
       "<text text-anchor=\"start\" x=\"121\" y=\"-191.6\" font-family=\"Times,serif\" font-size=\"8.00\" fill=\"red\">z_1</text>\n",
       "<text text-anchor=\"start\" x=\"97.22\" y=\"-173.91\" font-family=\"Times,serif\" font-size=\"8.00\">1 out </text>\n",
       "<text text-anchor=\"start\" x=\"103.81\" y=\"-209.47\" font-family=\"Times,serif\" font-size=\"8.00\">3 in2 </text>\n",
       "</g>\n",
       "<!-- 3956432887097769494 -->\n",
       "<g id=\"node6\" class=\"node\">\n",
       "<title>3956432887097769494</title>\n",
       "<polygon fill=\"lightgrey\" stroke=\"black\" points=\"223,-54 169,-54 169,0 223,0 223,-54\"/>\n",
       "<text text-anchor=\"middle\" x=\"196\" y=\"-24.8\" font-family=\"Times,serif\" font-size=\"9.00\">clamp_1</text>\n",
       "</g>\n",
       "<!-- 11255939621104102397 -->\n",
       "<g id=\"node8\" class=\"node\">\n",
       "<title>11255939621104102397</title>\n",
       "<polygon fill=\"none\" stroke=\"black\" points=\"719,-405 647,-405 647,-333 719,-333 719,-405\"/>\n",
       "<text text-anchor=\"middle\" x=\"683\" y=\"-371.8\" font-family=\"Times,serif\" font-size=\"9.00\">Ber</text>\n",
       "<text text-anchor=\"middle\" x=\"683\" y=\"-361.8\" font-family=\"Times,serif\" font-size=\"9.00\">bernoulli_2</text>\n",
       "</g>\n",
       "<!-- 112209210487119503 -->\n",
       "<g id=\"node13\" class=\"node\">\n",
       "<title>112209210487119503</title>\n",
       "<polygon fill=\"none\" stroke=\"black\" points=\"719,-288 647,-288 647,-216 719,-216 719,-288\"/>\n",
       "<text text-anchor=\"middle\" x=\"683\" y=\"-254.8\" font-family=\"Times,serif\" font-size=\"9.00\">g{Sampling}</text>\n",
       "<text text-anchor=\"middle\" x=\"683\" y=\"-244.8\" font-family=\"Times,serif\" font-size=\"9.00\">nonlinear_2</text>\n",
       "</g>\n",
       "<!-- 11255939621104102397&#45;&#45;112209210487119503 -->\n",
       "<g id=\"edge9\" class=\"edge\">\n",
       "<title>11255939621104102397&#45;&#45;112209210487119503</title>\n",
       "<path fill=\"none\" stroke=\"black\" d=\"M683,-332.87C683,-318.74 683,-302.46 683,-288.31\"/>\n",
       "<text text-anchor=\"start\" x=\"683\" y=\"-308.6\" font-family=\"Times,serif\" font-size=\"8.00\" fill=\"red\">x_2</text>\n",
       "<text text-anchor=\"start\" x=\"664\" y=\"-290.91\" font-family=\"Times,serif\" font-size=\"8.00\">1 out </text>\n",
       "<text text-anchor=\"start\" x=\"670\" y=\"-326.47\" font-family=\"Times,serif\" font-size=\"8.00\">2 p </text>\n",
       "</g>\n",
       "<!-- 3105371082948783497 -->\n",
       "<g id=\"node9\" class=\"node\">\n",
       "<title>3105371082948783497</title>\n",
       "<polygon fill=\"none\" stroke=\"black\" points=\"164,-405 92,-405 92,-333 164,-333 164,-405\"/>\n",
       "<text text-anchor=\"middle\" x=\"128\" y=\"-371.8\" font-family=\"Times,serif\" font-size=\"9.00\">Ber</text>\n",
       "<text text-anchor=\"middle\" x=\"128\" y=\"-361.8\" font-family=\"Times,serif\" font-size=\"9.00\">bernoulli_1</text>\n",
       "</g>\n",
       "<!-- 3105371082948783497&#45;&#45;8177849662292221457 -->\n",
       "<g id=\"edge1\" class=\"edge\">\n",
       "<title>3105371082948783497&#45;&#45;8177849662292221457</title>\n",
       "<path fill=\"none\" stroke=\"black\" d=\"M128,-332.87C128,-318.74 128,-302.46 128,-288.31\"/>\n",
       "<text text-anchor=\"start\" x=\"128\" y=\"-308.6\" font-family=\"Times,serif\" font-size=\"8.00\" fill=\"red\">x_1</text>\n",
       "<text text-anchor=\"start\" x=\"109\" y=\"-290.91\" font-family=\"Times,serif\" font-size=\"8.00\">1 out </text>\n",
       "<text text-anchor=\"start\" x=\"115\" y=\"-326.47\" font-family=\"Times,serif\" font-size=\"8.00\">2 p </text>\n",
       "</g>\n",
       "<!-- 3107973171706399681 -->\n",
       "<g id=\"node10\" class=\"node\">\n",
       "<title>3107973171706399681</title>\n",
       "<polygon fill=\"none\" stroke=\"black\" points=\"460,-405 388,-405 388,-333 460,-333 460,-405\"/>\n",
       "<text text-anchor=\"middle\" x=\"424\" y=\"-371.8\" font-family=\"Times,serif\" font-size=\"9.00\">=</text>\n",
       "<text text-anchor=\"middle\" x=\"424\" y=\"-361.8\" font-family=\"Times,serif\" font-size=\"9.00\">equ_θ_1</text>\n",
       "</g>\n",
       "<!-- 3107973171706399681&#45;&#45;2929344861303102662 -->\n",
       "<g id=\"edge8\" class=\"edge\">\n",
       "<title>3107973171706399681&#45;&#45;2929344861303102662</title>\n",
       "<path fill=\"none\" stroke=\"black\" d=\"M424,-332.87C424,-318.74 424,-302.46 424,-288.31\"/>\n",
       "<text text-anchor=\"start\" x=\"424\" y=\"-308.6\" font-family=\"Times,serif\" font-size=\"8.00\" fill=\"red\">θ</text>\n",
       "<text text-anchor=\"start\" x=\"405\" y=\"-290.91\" font-family=\"Times,serif\" font-size=\"8.00\">1 out </text>\n",
       "<text text-anchor=\"start\" x=\"411\" y=\"-326.47\" font-family=\"Times,serif\" font-size=\"8.00\">1 1 </text>\n",
       "</g>\n",
       "<!-- 3107973171706399681&#45;&#45;8177849662292221457 -->\n",
       "<g id=\"edge13\" class=\"edge\">\n",
       "<title>3107973171706399681&#45;&#45;8177849662292221457</title>\n",
       "<path fill=\"none\" stroke=\"black\" d=\"M387.7,-353.9C330.74,-331.77 220.99,-289.13 164.13,-267.04\"/>\n",
       "<text text-anchor=\"start\" x=\"285\" y=\"-308.6\" font-family=\"Times,serif\" font-size=\"8.00\" fill=\"red\">θ</text>\n",
       "<text text-anchor=\"start\" x=\"164.13\" y=\"-269.64\" font-family=\"Times,serif\" font-size=\"8.00\">2 in1 </text>\n",
       "<text text-anchor=\"start\" x=\"374.7\" y=\"-356.5\" font-family=\"Times,serif\" font-size=\"8.00\">2 2 </text>\n",
       "</g>\n",
       "<!-- 3107973171706399681&#45;&#45;112209210487119503 -->\n",
       "<g id=\"edge14\" class=\"edge\">\n",
       "<title>3107973171706399681&#45;&#45;112209210487119503</title>\n",
       "<path fill=\"none\" stroke=\"black\" d=\"M460.01,-352.01C509.36,-330.1 597.47,-290.97 646.88,-269.04\"/>\n",
       "<text text-anchor=\"start\" x=\"562\" y=\"-308.6\" font-family=\"Times,serif\" font-size=\"8.00\" fill=\"red\">θ</text>\n",
       "<text text-anchor=\"start\" x=\"627.88\" y=\"-271.64\" font-family=\"Times,serif\" font-size=\"8.00\">2 in1 </text>\n",
       "<text text-anchor=\"start\" x=\"460.01\" y=\"-354.61\" font-family=\"Times,serif\" font-size=\"8.00\">3 3 </text>\n",
       "</g>\n",
       "<!-- 9129987650567176776 -->\n",
       "<g id=\"node11\" class=\"node\">\n",
       "<title>9129987650567176776</title>\n",
       "<polygon fill=\"lightgrey\" stroke=\"black\" points=\"833,-54 779,-54 779,0 833,0 833,-54\"/>\n",
       "<text text-anchor=\"middle\" x=\"806\" y=\"-24.8\" font-family=\"Times,serif\" font-size=\"9.00\">clamp_3</text>\n",
       "</g>\n",
       "<!-- 10369311190857547765 -->\n",
       "<g id=\"node12\" class=\"node\">\n",
       "<title>10369311190857547765</title>\n",
       "<polygon fill=\"none\" stroke=\"black\" points=\"775.5,-171 668.5,-171 668.5,-99 775.5,-99 775.5,-171\"/>\n",
       "<text text-anchor=\"middle\" x=\"722\" y=\"-137.8\" font-family=\"Times,serif\" font-size=\"9.00\">𝒩</text>\n",
       "<text text-anchor=\"middle\" x=\"722\" y=\"-127.8\" font-family=\"Times,serif\" font-size=\"9.00\">gaussianmeanprecision_3</text>\n",
       "</g>\n",
       "<!-- 10369311190857547765&#45;&#45;7208174809755892839 -->\n",
       "<g id=\"edge10\" class=\"edge\">\n",
       "<title>10369311190857547765&#45;&#45;7208174809755892839</title>\n",
       "<path fill=\"none\" stroke=\"black\" d=\"M693.93,-99C682.23,-84.4 668.87,-67.75 658.04,-54.23\"/>\n",
       "<text text-anchor=\"start\" x=\"680\" y=\"-74.6\" font-family=\"Times,serif\" font-size=\"8.00\" fill=\"red\">clamp_4</text>\n",
       "<text text-anchor=\"start\" x=\"639.04\" y=\"-56.83\" font-family=\"Times,serif\" font-size=\"8.00\">1 out </text>\n",
       "<text text-anchor=\"start\" x=\"678.93\" y=\"-92.6\" font-family=\"Times,serif\" font-size=\"8.00\">3 w </text>\n",
       "</g>\n",
       "<!-- 10369311190857547765&#45;&#45;9129987650567176776 -->\n",
       "<g id=\"edge2\" class=\"edge\">\n",
       "<title>10369311190857547765&#45;&#45;9129987650567176776</title>\n",
       "<path fill=\"none\" stroke=\"black\" d=\"M749.74,-99C761.3,-84.4 774.5,-67.75 785.21,-54.23\"/>\n",
       "<text text-anchor=\"start\" x=\"769\" y=\"-74.6\" font-family=\"Times,serif\" font-size=\"8.00\" fill=\"red\">clamp_3</text>\n",
       "<text text-anchor=\"start\" x=\"766.21\" y=\"-56.83\" font-family=\"Times,serif\" font-size=\"8.00\">1 out </text>\n",
       "<text text-anchor=\"start\" x=\"734.74\" y=\"-92.6\" font-family=\"Times,serif\" font-size=\"8.00\">2 m </text>\n",
       "</g>\n",
       "<!-- 112209210487119503&#45;&#45;10369311190857547765 -->\n",
       "<g id=\"edge5\" class=\"edge\">\n",
       "<title>112209210487119503&#45;&#45;10369311190857547765</title>\n",
       "<path fill=\"none\" stroke=\"black\" d=\"M694.91,-215.87C699.71,-201.74 705.23,-185.46 710.03,-171.31\"/>\n",
       "<text text-anchor=\"start\" x=\"703\" y=\"-191.6\" font-family=\"Times,serif\" font-size=\"8.00\" fill=\"red\">z_2</text>\n",
       "<text text-anchor=\"start\" x=\"691.03\" y=\"-173.91\" font-family=\"Times,serif\" font-size=\"8.00\">1 out </text>\n",
       "<text text-anchor=\"start\" x=\"675.91\" y=\"-209.47\" font-family=\"Times,serif\" font-size=\"8.00\">3 in2 </text>\n",
       "</g>\n",
       "<!-- 7051081533820749676&#45;&#45;4655151314031304132 -->\n",
       "<g id=\"edge15\" class=\"edge\">\n",
       "<title>7051081533820749676&#45;&#45;4655151314031304132</title>\n",
       "<path fill=\"none\" stroke=\"black\" d=\"M57.32,-112.35C44.47,-104.47 32.35,-94.17 25,-81 20.51,-72.96 19.83,-63.11 20.68,-54.1\"/>\n",
       "<text text-anchor=\"start\" x=\"25\" y=\"-74.6\" font-family=\"Times,serif\" font-size=\"8.00\" fill=\"red\">clamp_2</text>\n",
       "<text text-anchor=\"start\" x=\"1.68\" y=\"-56.7\" font-family=\"Times,serif\" font-size=\"8.00\">1 out </text>\n",
       "<text text-anchor=\"start\" x=\"42.32\" y=\"-114.95\" font-family=\"Times,serif\" font-size=\"8.00\">3 w </text>\n",
       "</g>\n",
       "<!-- 7051081533820749676&#45;&#45;3956432887097769494 -->\n",
       "<g id=\"edge4\" class=\"edge\">\n",
       "<title>7051081533820749676&#45;&#45;3956432887097769494</title>\n",
       "<path fill=\"none\" stroke=\"black\" d=\"M139.07,-99C150.77,-84.4 164.13,-67.75 174.96,-54.23\"/>\n",
       "<text text-anchor=\"start\" x=\"159\" y=\"-74.6\" font-family=\"Times,serif\" font-size=\"8.00\" fill=\"red\">clamp_1</text>\n",
       "<text text-anchor=\"start\" x=\"155.96\" y=\"-56.83\" font-family=\"Times,serif\" font-size=\"8.00\">1 out </text>\n",
       "<text text-anchor=\"start\" x=\"124.07\" y=\"-92.6\" font-family=\"Times,serif\" font-size=\"8.00\">2 m </text>\n",
       "</g>\n",
       "<!-- 7099486234168610497 -->\n",
       "<g id=\"node15\" class=\"node\">\n",
       "<title>7099486234168610497</title>\n",
       "<polygon fill=\"lightgrey\" stroke=\"black\" points=\"720.5,-504 645.5,-504 645.5,-450 720.5,-450 720.5,-504\"/>\n",
       "<text text-anchor=\"middle\" x=\"683\" y=\"-474.8\" font-family=\"Times,serif\" font-size=\"9.00\">placeholder_y_2</text>\n",
       "</g>\n",
       "<!-- 7099486234168610497&#45;&#45;11255939621104102397 -->\n",
       "<g id=\"edge3\" class=\"edge\">\n",
       "<title>7099486234168610497&#45;&#45;11255939621104102397</title>\n",
       "<path fill=\"none\" stroke=\"black\" d=\"M683,-449.8C683,-436.31 683,-419.68 683,-405.1\"/>\n",
       "<text text-anchor=\"start\" x=\"683\" y=\"-425.6\" font-family=\"Times,serif\" font-size=\"8.00\" fill=\"red\">y_2</text>\n",
       "<text text-anchor=\"start\" x=\"664\" y=\"-407.7\" font-family=\"Times,serif\" font-size=\"8.00\">1 out </text>\n",
       "<text text-anchor=\"start\" x=\"664\" y=\"-443.4\" font-family=\"Times,serif\" font-size=\"8.00\">1 out </text>\n",
       "</g>\n",
       "<!-- 215911138147715210 -->\n",
       "<g id=\"node16\" class=\"node\">\n",
       "<title>215911138147715210</title>\n",
       "<polygon fill=\"lightgrey\" stroke=\"black\" points=\"165.5,-504 90.5,-504 90.5,-450 165.5,-450 165.5,-504\"/>\n",
       "<text text-anchor=\"middle\" x=\"128\" y=\"-474.8\" font-family=\"Times,serif\" font-size=\"9.00\">placeholder_y_1</text>\n",
       "</g>\n",
       "<!-- 215911138147715210&#45;&#45;3105371082948783497 -->\n",
       "<g id=\"edge11\" class=\"edge\">\n",
       "<title>215911138147715210&#45;&#45;3105371082948783497</title>\n",
       "<path fill=\"none\" stroke=\"black\" d=\"M128,-449.8C128,-436.31 128,-419.68 128,-405.1\"/>\n",
       "<text text-anchor=\"start\" x=\"128\" y=\"-425.6\" font-family=\"Times,serif\" font-size=\"8.00\" fill=\"red\">y_1</text>\n",
       "<text text-anchor=\"start\" x=\"109\" y=\"-407.7\" font-family=\"Times,serif\" font-size=\"8.00\">1 out </text>\n",
       "<text text-anchor=\"start\" x=\"109\" y=\"-443.4\" font-family=\"Times,serif\" font-size=\"8.00\">1 out </text>\n",
       "</g>\n",
       "</g>\n",
       "</svg>\n"
      ]
     },
     "metadata": {},
     "output_type": "display_data"
    }
   ],
   "source": [
    "draw()"
   ]
  },
  {
   "cell_type": "code",
   "execution_count": 12,
   "id": "turned-mills",
   "metadata": {},
   "outputs": [
    {
     "data": {
      "text/plain": [
       "PosteriorFactorization(FactorGraph(Dict{Symbol, FactorNode}(:nonlinear_1 => Nonlinear{Sampling} with id nonlinear_1\n",
       ", :equ_θ_1 => Equality with id equ_θ_1\n",
       ", :clamp_3 => Clamp{Multivariate} with id clamp_3\n",
       ", :placeholder_W_θ => Clamp{MatrixVariate} with id placeholder_W_θ\n",
       ", :clamp_1 => Clamp{Multivariate} with id clamp_1\n",
       ", :bernoulli_1 => Bernoulli with id bernoulli_1\n",
       ", :gaussianmeanprecision_1 => GaussianMeanPrecision with id gaussianmeanprecision_1\n",
       ", :gaussianmeanprecision_2 => GaussianMeanPrecision with id gaussianmeanprecision_2\n",
       ", :clamp_2 => Clamp{MatrixVariate} with id clamp_2\n",
       ", :placeholder_y_2 => Clamp{Univariate} with id placeholder_y_2\n",
       "…), Edges:\n",
       "Edge belonging to variable m_θ: ( placeholder_m_θ.i[out] )----( gaussianmeanprecision_1.i[m] ).\n",
       "Edge belonging to variable W_θ: ( placeholder_W_θ.i[out] )----( gaussianmeanprecision_1.i[w] ).\n",
       "Edge belonging to variable θ: ( gaussianmeanprecision_1.i[out] )----( equ_θ_1.i[1] ).\n",
       "Edge belonging to variable clamp_1: ( clamp_1.i[out] )----( gaussianmeanprecision_2.i[m] ).\n",
       "Edge belonging to variable clamp_2: ( clamp_2.i[out] )----( gaussianmeanprecision_2.i[w] ).\n",
       "Edge belonging to variable z_1: ( gaussianmeanprecision_2.i[out] )----( nonlinear_1.i[in2] ).\n",
       "Edge belonging to variable x_1: ( nonlinear_1.i[out] )----( bernoulli_1.i[p] ).\n",
       "Edge belonging to variable y_1: ( bernoulli_1.i[out] )----( placeholder_y_1.i[out] ).\n",
       "Edge belonging to variable clamp_3: ( clamp_3.i[out] )----( gaussianmeanprecision_3.i[m] ).\n",
       "Edge belonging to variable clamp_4: ( clamp_4.i[out] )----( gaussianmeanprecision_3.i[w] ).\n",
       "Edge belonging to variable z_2: ( gaussianmeanprecision_3.i[out] )----( nonlinear_2.i[in2] ).\n",
       "Edge belonging to variable x_2: ( nonlinear_2.i[out] )----( bernoulli_2.i[p] ).\n",
       "Edge belonging to variable θ: ( nonlinear_1.i[in1] )----( equ_θ_1.i[2] ).\n",
       "Edge belonging to variable θ: ( nonlinear_2.i[in1] )----( equ_θ_1.i[3] ).\n",
       "Edge belonging to variable y_2: ( bernoulli_2.i[out] )----( placeholder_y_2.i[out] ).\n",
       ", Dict{Symbol, Variable}(:z_1 => Variable(:z_1, Edges:\n",
       "Edge belonging to variable z_1: ( gaussianmeanprecision_2.i[out] )----( nonlinear_1.i[in2] ).\n",
       "), :clamp_3 => Variable(:clamp_3, Edges:\n",
       "Edge belonging to variable clamp_3: ( clamp_3.i[out] )----( gaussianmeanprecision_3.i[m] ).\n",
       "), :y_1 => Variable(:y_1, Edges:\n",
       "Edge belonging to variable y_1: ( bernoulli_1.i[out] )----( placeholder_y_1.i[out] ).\n",
       "), :clamp_1 => Variable(:clamp_1, Edges:\n",
       "Edge belonging to variable clamp_1: ( clamp_1.i[out] )----( gaussianmeanprecision_2.i[m] ).\n",
       "), :x_2 => Variable(:x_2, Edges:\n",
       "Edge belonging to variable x_2: ( nonlinear_2.i[out] )----( bernoulli_2.i[p] ).\n",
       "), :y_2 => Variable(:y_2, Edges:\n",
       "Edge belonging to variable y_2: ( bernoulli_2.i[out] )----( placeholder_y_2.i[out] ).\n",
       "), :x_1 => Variable(:x_1, Edges:\n",
       "Edge belonging to variable x_1: ( nonlinear_1.i[out] )----( bernoulli_1.i[p] ).\n",
       "), :clamp_2 => Variable(:clamp_2, Edges:\n",
       "Edge belonging to variable clamp_2: ( clamp_2.i[out] )----( gaussianmeanprecision_2.i[w] ).\n",
       "), :m_θ => Variable(:m_θ, Edges:\n",
       "Edge belonging to variable m_θ: ( placeholder_m_θ.i[out] )----( gaussianmeanprecision_1.i[m] ).\n",
       "), :θ => Variable(:θ, Edges:\n",
       "Edge belonging to variable θ: ( gaussianmeanprecision_1.i[out] )----( equ_θ_1.i[1] ).\n",
       "Edge belonging to variable θ: ( nonlinear_1.i[in1] )----( equ_θ_1.i[2] ).\n",
       "Edge belonging to variable θ: ( nonlinear_2.i[in1] )----( equ_θ_1.i[3] ).\n",
       ")…), Dict(\"gaussianmeanprecision\" => 3, \"clamp\" => 4, \"nonlinear\" => 2, \"bernoulli\" => 2), Dict{Clamp, Tuple{Symbol, Int64}}(Clamp{Multivariate} with id placeholder_m_θ\n",
       " => (:m_θ, 0), Clamp{MatrixVariate} with id placeholder_W_θ\n",
       " => (:W_θ, 0), Clamp{Univariate} with id placeholder_y_2\n",
       " => (:y, 2), Clamp{Univariate} with id placeholder_y_1\n",
       " => (:y, 1))), Dict{Symbol, PosteriorFactor}(), Dict{Edge, PosteriorFactor}(), Dict{Tuple{FactorNode, Edge}, ForneyLab.Cluster}(), Edges:\n",
       "Edge belonging to variable clamp_3: ( clamp_3.i[out] )----( gaussianmeanprecision_3.i[m] ).\n",
       "Edge belonging to variable y_2: ( bernoulli_2.i[out] )----( placeholder_y_2.i[out] ).\n",
       "Edge belonging to variable clamp_4: ( clamp_4.i[out] )----( gaussianmeanprecision_3.i[w] ).\n",
       "Edge belonging to variable clamp_1: ( clamp_1.i[out] )----( gaussianmeanprecision_2.i[m] ).\n",
       "Edge belonging to variable W_θ: ( placeholder_W_θ.i[out] )----( gaussianmeanprecision_1.i[w] ).\n",
       "Edge belonging to variable m_θ: ( placeholder_m_θ.i[out] )----( gaussianmeanprecision_1.i[m] ).\n",
       "Edge belonging to variable y_1: ( bernoulli_1.i[out] )----( placeholder_y_1.i[out] ).\n",
       "Edge belonging to variable clamp_2: ( clamp_2.i[out] )----( gaussianmeanprecision_2.i[w] ).\n",
       ", Dict{FactorNode, Int64}(), Dict{ForneyLab.Region, Int64}(), false)"
      ]
     },
     "execution_count": 12,
     "metadata": {},
     "output_type": "execute_result"
    }
   ],
   "source": [
    "# Define posterior factorization\n",
    "pfz = PosteriorFactorization()"
   ]
  },
  {
   "cell_type": "code",
   "execution_count": 13,
   "id": "invalid-velvet",
   "metadata": {},
   "outputs": [],
   "source": [
    "# Compile algorithm\n",
    "algo = messagePassingAlgorithm(free_energy=true)\n",
    "\n",
    "# Generate source code\n",
    "src_code = algorithmSourceCode(algo, free_energy=true);"
   ]
  },
  {
   "cell_type": "code",
   "execution_count": 14,
   "id": "psychological-canvas",
   "metadata": {},
   "outputs": [
    {
     "name": "stdout",
     "output_type": "stream",
     "text": [
      "begin\n",
      "\n",
      "function init()\n",
      "\n",
      "messages = Array{Message}(undef, 14)\n",
      "\n",
      "messages[1] = Message(vague(GaussianMeanPrecision))\n",
      "messages[2] = Message(vague(GaussianMeanPrecision))\n",
      "messages[6] = Message(vague(GaussianWeightedMeanPrecision))\n",
      "messages[9] = Message(vague(GaussianWeightedMeanPrecision))\n",
      "\n",
      "return messages\n",
      "\n",
      "end\n",
      "\n",
      "function step!(data::Dict, marginals::Dict=Dict(), messages::Vector{Message}=Array{Message}(undef, 14))\n",
      "\n",
      "messages[1] = ruleSPGaussianMeanPrecisionOutNPP(nothing, Message(Multivariate, PointMass, m=[-0.444383357109696, 0.18702790710363]), Message(MatrixVariate, PointMass, m=Diagonal([10000.0, 10000.0])))\n",
      "messages[2] = ruleSPGaussianMeanPrecisionOutNPP(nothing, Message(Multivariate, PointMass, m=[-0.5560268761463861, 1.0823812056084292]), Message(MatrixVariate, PointMass, m=Diagonal([10000.0, 10000.0])))\n",
      "messages[3] = ruleSPGaussianMeanPrecisionOutNPP(nothing, Message(Multivariate, PointMass, m=data[:m_θ]), Message(MatrixVariate, PointMass, m=data[:W_θ]))\n",
      "messages[4] = ruleSPBernoulliIn1PN(Message(Univariate, PointMass, m=data[:y][1]), nothing)\n",
      "messages[5] = ruleSPNonlinearSInGX(f, 1, messages[4], messages[9], messages[2], variate=Multivariate)\n",
      "messages[6] = ruleSPEqualityGaussian(messages[3], messages[5], nothing)\n",
      "messages[7] = ruleSPBernoulliIn1PN(Message(Univariate, PointMass, m=data[:y][2]), nothing)\n",
      "messages[8] = ruleSPNonlinearSInGX(f, 1, messages[7], messages[6], messages[1], variate=Multivariate)\n",
      "messages[9] = ruleSPEqualityGaussian(messages[3], nothing, messages[8])\n",
      "messages[10] = ruleSPEqualityGaussian(nothing, messages[5], messages[8])\n",
      "messages[11] = ruleSPNonlinearSInGX(f, 2, messages[7], messages[6], messages[1], variate=Multivariate)\n",
      "messages[12] = ruleSPNonlinearSInGX(f, 2, messages[4], messages[9], messages[2], variate=Multivariate)\n",
      "messages[13] = ruleSPNonlinearSOutNGX(f, nothing, messages[6], messages[1], variate=Univariate)\n",
      "messages[14] = ruleSPNonlinearSOutNGX(f, nothing, messages[9], messages[2], variate=Univariate)\n",
      "\n",
      "marginals[:x_1] = messages[14].dist * messages[4].dist\n",
      "marginals[:x_2] = messages[13].dist * messages[7].dist\n",
      "marginals[:z_1] = messages[2].dist * messages[12].dist\n",
      "marginals[:z_2] = messages[1].dist * messages[11].dist\n",
      "marginals[:θ] = messages[3].dist * messages[10].dist\n",
      "marginals[:θ_z_1] = ruleMNonlinearSInGX(f, messages[4], messages[9], messages[2])\n",
      "marginals[:θ_z_2] = ruleMNonlinearSInGX(f, messages[7], messages[6], messages[1])\n",
      "\n",
      "return marginals\n",
      "\n",
      "end\n",
      "\n",
      "function freeEnergy(data::Dict, marginals::Dict)\n",
      "\n",
      "F = 0.0\n",
      "\n",
      "F += averageEnergy(Bernoulli, ProbabilityDistribution(Univariate, PointMass, m=data[:y][1]), marginals[:x_1])\n",
      "F += averageEnergy(Bernoulli, ProbabilityDistribution(Univariate, PointMass, m=data[:y][2]), marginals[:x_2])\n",
      "F += averageEnergy(GaussianMeanPrecision, marginals[:θ], ProbabilityDistribution(Multivariate, PointMass, m=data[:m_θ]), ProbabilityDistribution(MatrixVariate, PointMass, m=data[:W_θ]))\n",
      "F += averageEnergy(GaussianMeanPrecision, marginals[:z_1], ProbabilityDistribution(Multivariate, PointMass, m=[-0.5560268761463861, 1.0823812056084292]), ProbabilityDistribution(MatrixVariate, PointMass, m=Diagonal([10000.0, 10000.0])))\n",
      "F += averageEnergy(GaussianMeanPrecision, marginals[:z_2], ProbabilityDistribution(Multivariate, PointMass, m=[-0.444383357109696, 0.18702790710363]), ProbabilityDistribution(MatrixVariate, PointMass, m=Diagonal([10000.0, 10000.0])))\n",
      "\n",
      "F -= -1*differentialEntropy(marginals[:θ])\n",
      "F -= differentialEntropy(marginals[:θ_z_1])\n",
      "F -= differentialEntropy(marginals[:θ_z_2])\n",
      "\n",
      "return F\n",
      "\n",
      "end\n",
      "\n",
      "end # block\n"
     ]
    }
   ],
   "source": [
    "println(src_code)"
   ]
  },
  {
   "cell_type": "code",
   "execution_count": 15,
   "id": "artificial-franklin",
   "metadata": {},
   "outputs": [
    {
     "data": {
      "text/plain": [
       "freeEnergy (generic function with 1 method)"
      ]
     },
     "execution_count": 15,
     "metadata": {},
     "output_type": "execute_result"
    }
   ],
   "source": [
    "# Load algorithm\n",
    "eval(Meta.parse(src_code))"
   ]
  },
  {
   "cell_type": "code",
   "execution_count": 16,
   "id": "agreed-activity",
   "metadata": {},
   "outputs": [
    {
     "data": {
      "text/plain": [
       "Message: 𝒩(m=[0.16, -1.59], w=diag[1.00e+04, 1.00e+04])\n"
      ]
     },
     "execution_count": 16,
     "metadata": {},
     "output_type": "execute_result"
    }
   ],
   "source": [
    "ruleSPGaussianMeanPrecisionOutNPP(nothing, Message(Multivariate, PointMass, m=[0.15614346264074028, -1.590579974922555]), Message(MatrixVariate, PointMass, m=Diagonal([10000.0, 10000.0])))"
   ]
  },
  {
   "cell_type": "code",
   "execution_count": 26,
   "id": "coated-algebra",
   "metadata": {},
   "outputs": [
    {
     "data": {
      "text/plain": [
       "init (generic function with 1 method)"
      ]
     },
     "execution_count": 26,
     "metadata": {},
     "output_type": "execute_result"
    }
   ],
   "source": [
    "function init()\n",
    "    messages = Array{Message}(undef, 14)\n",
    "    for i in 1:length(messages)\n",
    "        messages[i] = Message(vague(GaussianMeanPrecision, 2))\n",
    "    end\n",
    "    messages\n",
    "end"
   ]
  },
  {
   "cell_type": "code",
   "execution_count": 28,
   "id": "productive-giving",
   "metadata": {},
   "outputs": [
    {
     "ename": "LoadError",
     "evalue": "MethodError: no method matching ruleSPNonlinearSOutNGX(::typeof(f), ::Nothing, ::Message{GaussianWeightedMeanPrecision, Multivariate}, ::Message{GaussianMeanPrecision, Multivariate}; variate=Univariate)\n\u001b[0mClosest candidates are:\n\u001b[0m  ruleSPNonlinearSOutNGX(::Function, ::Nothing, ::Message{var\"#s103\", V} where var\"#s103\"<:Gaussian...; n_samples) where V<:VariateType at In[27]:4\u001b[91m got unsupported keyword argument \"variate\"\u001b[39m\n\u001b[0m  ruleSPNonlinearSOutNGX(::Function, ::Nothing, ::Message{var\"#s148\", var\"#s147\"} where {var\"#s148\"<:Gaussian, var\"#s147\"<:VariateType}...; n_samples, variate) at /Users/apodusenko/.julia/dev/ForneyLab/src/engines/julia/update_rules/nonlinear_sampling.jl:72",
     "output_type": "error",
     "traceback": [
      "MethodError: no method matching ruleSPNonlinearSOutNGX(::typeof(f), ::Nothing, ::Message{GaussianWeightedMeanPrecision, Multivariate}, ::Message{GaussianMeanPrecision, Multivariate}; variate=Univariate)\n\u001b[0mClosest candidates are:\n\u001b[0m  ruleSPNonlinearSOutNGX(::Function, ::Nothing, ::Message{var\"#s103\", V} where var\"#s103\"<:Gaussian...; n_samples) where V<:VariateType at In[27]:4\u001b[91m got unsupported keyword argument \"variate\"\u001b[39m\n\u001b[0m  ruleSPNonlinearSOutNGX(::Function, ::Nothing, ::Message{var\"#s148\", var\"#s147\"} where {var\"#s148\"<:Gaussian, var\"#s147\"<:VariateType}...; n_samples, variate) at /Users/apodusenko/.julia/dev/ForneyLab/src/engines/julia/update_rules/nonlinear_sampling.jl:72",
      "",
      "Stacktrace:",
      " [1] kwerr(::NamedTuple{(:variate,), Tuple{DataType}}, ::Function, ::Function, ::Nothing, ::Message{GaussianWeightedMeanPrecision, Multivariate}, ::Message{GaussianMeanPrecision, Multivariate})",
      "   @ Base ./error.jl:157",
      " [2] step!(data::Dict{Symbol, AbstractArray}, marginals::Dict{Any, Any}, messages::Vector{Message})",
      "   @ Main ./none:30",
      " [3] top-level scope",
      "   @ In[28]:4",
      " [4] eval",
      "   @ ./boot.jl:360 [inlined]",
      " [5] include_string(mapexpr::typeof(REPL.softscope), mod::Module, code::String, filename::String)",
      "   @ Base ./loading.jl:1094"
     ]
    }
   ],
   "source": [
    "data = Dict(:y => outputs, :m_θ => zeros(dimensionality), :W_θ => 0.1*diageye(dimensionality))\n",
    "messages = init()\n",
    "marginals = Dict()\n",
    "step!(data, marginals, messages)"
   ]
  },
  {
   "cell_type": "code",
   "execution_count": 383,
   "id": "elementary-dinner",
   "metadata": {},
   "outputs": [
    {
     "data": {
      "text/plain": [
       "14-element Vector{Message}:\n",
       "    Message: 𝒩(m=[-0.44, 0.19], w=diag[1.00e+04, 1.00e+04])\n",
       "\n",
       "    Message: 𝒩(m=[-0.56, 1.08], w=diag[1.00e+04, 1.00e+04])\n",
       "\n",
       "    Message: 𝒩(m=[0.00, 0.00], w=diag[0.10, 0.10])\n",
       "\n",
       "    Message: Beta(a=2, b=1)\n",
       "\n",
       " #undef\n",
       "    Message: 𝒩(xi=0.00, w=1.00e-12)\n",
       "\n",
       " #undef\n",
       " #undef\n",
       "    Message: 𝒩(xi=0.00, w=1.00e-12)\n",
       "\n",
       " #undef\n",
       " #undef\n",
       " #undef\n",
       " #undef\n",
       " #undef"
      ]
     },
     "execution_count": 383,
     "metadata": {},
     "output_type": "execute_result"
    }
   ],
   "source": [
    "messages"
   ]
  },
  {
   "cell_type": "code",
   "execution_count": 391,
   "id": "accepted-timeline",
   "metadata": {},
   "outputs": [
    {
     "ename": "LoadError",
     "evalue": "MethodError: no method matching ruleSPNonlinearSOutNGX(::typeof(f), ::Nothing, ::Message{GaussianWeightedMeanPrecision, Multivariate}, ::Message{GaussianMeanPrecision, Multivariate}; variate=Univariate)\n\u001b[0mClosest candidates are:\n\u001b[0m  ruleSPNonlinearSOutNGX(::Function, ::Nothing, ::Message{var\"#s158\", V} where var\"#s158\"<:Gaussian...; n_samples) where V<:ForneyLab.VariateType at /Users/apodusenko/.julia/dev/ForneyLab/src/engines/julia/update_rules/nonlinear_sampling.jl:73\u001b[91m got unsupported keyword argument \"variate\"\u001b[39m\n\u001b[0m  ruleSPNonlinearSOutNGX(::Function, ::Nothing, ::Message{var\"#s148\", var\"#s147\"} where {var\"#s148\"<:Gaussian, var\"#s147\"<:ForneyLab.VariateType}...; n_samples, variate) at /Users/apodusenko/.julia/dev/ForneyLab/src/engines/julia/update_rules/nonlinear_sampling.jl:65",
     "output_type": "error",
     "traceback": [
      "MethodError: no method matching ruleSPNonlinearSOutNGX(::typeof(f), ::Nothing, ::Message{GaussianWeightedMeanPrecision, Multivariate}, ::Message{GaussianMeanPrecision, Multivariate}; variate=Univariate)\n\u001b[0mClosest candidates are:\n\u001b[0m  ruleSPNonlinearSOutNGX(::Function, ::Nothing, ::Message{var\"#s158\", V} where var\"#s158\"<:Gaussian...; n_samples) where V<:ForneyLab.VariateType at /Users/apodusenko/.julia/dev/ForneyLab/src/engines/julia/update_rules/nonlinear_sampling.jl:73\u001b[91m got unsupported keyword argument \"variate\"\u001b[39m\n\u001b[0m  ruleSPNonlinearSOutNGX(::Function, ::Nothing, ::Message{var\"#s148\", var\"#s147\"} where {var\"#s148\"<:Gaussian, var\"#s147\"<:ForneyLab.VariateType}...; n_samples, variate) at /Users/apodusenko/.julia/dev/ForneyLab/src/engines/julia/update_rules/nonlinear_sampling.jl:65",
      "",
      "Stacktrace:",
      " [1] kwerr(::NamedTuple{(:variate,), Tuple{DataType}}, ::Function, ::Function, ::Nothing, ::Message{GaussianWeightedMeanPrecision, Multivariate}, ::Message{GaussianMeanPrecision, Multivariate})",
      "   @ Base ./error.jl:157",
      " [2] top-level scope",
      "   @ In[391]:13",
      " [3] eval",
      "   @ ./boot.jl:360 [inlined]",
      " [4] include_string(mapexpr::typeof(REPL.softscope), mod::Module, code::String, filename::String)",
      "   @ Base ./loading.jl:1094"
     ]
    }
   ],
   "source": [
    "messages[1] = ruleSPGaussianMeanPrecisionOutNPP(nothing, Message(Multivariate, PointMass, m=[-0.444383357109696, 0.18702790710363]), Message(MatrixVariate, PointMass, m=Diagonal([10000.0, 10000.0])))\n",
    "messages[2] = ruleSPGaussianMeanPrecisionOutNPP(nothing, Message(Multivariate, PointMass, m=[-0.5560268761463861, 1.0823812056084292]), Message(MatrixVariate, PointMass, m=Diagonal([10000.0, 10000.0])))\n",
    "messages[3] = ruleSPGaussianMeanPrecisionOutNPP(nothing, Message(Multivariate, PointMass, m=data[:m_θ]), Message(MatrixVariate, PointMass, m=data[:W_θ]))\n",
    "messages[4] = ruleSPBernoulliIn1PN(Message(Univariate, PointMass, m=data[:y][1]), nothing)\n",
    "messages[5] = ruleSPNonlinearSInGX(f, 1, messages[4], messages[9], messages[2], variate=Multivariate)\n",
    "messages[6] = ruleSPEqualityGaussian(messages[3], messages[5], nothing)\n",
    "messages[7] = ruleSPBernoulliIn1PN(Message(Univariate, PointMass, m=data[:y][2]), nothing)\n",
    "messages[8] = ruleSPNonlinearSInGX(f, 1, messages[7], messages[6], messages[1], variate=Multivariate)\n",
    "messages[9] = ruleSPEqualityGaussian(messages[3], nothing, messages[8])\n",
    "messages[10] = ruleSPEqualityGaussian(nothing, messages[5], messages[8])\n",
    "messages[11] = ruleSPNonlinearSInGX(f, 2, messages[7], messages[6], messages[1], variate=Multivariate)\n",
    "messages[12] = ruleSPNonlinearSInGX(f, 2, messages[4], messages[9], messages[2], variate=Multivariate)\n",
    "messages[13] = ruleSPNonlinearSOutNGX(f, nothing, messages[6], messages[1], variate=Univariate)"
   ]
  },
  {
   "cell_type": "code",
   "execution_count": null,
   "id": "affected-finder",
   "metadata": {},
   "outputs": [],
   "source": []
  }
 ],
 "metadata": {
  "kernelspec": {
   "display_name": "Julia 1.6.0",
   "language": "julia",
   "name": "julia-1.6"
  },
  "language_info": {
   "file_extension": ".jl",
   "mimetype": "application/julia",
   "name": "julia",
   "version": "1.6.0"
  }
 },
 "nbformat": 4,
 "nbformat_minor": 5
}
