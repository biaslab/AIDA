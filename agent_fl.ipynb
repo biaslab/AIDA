{
 "cells": [
  {
   "cell_type": "code",
   "execution_count": 34,
   "id": "figured-stephen",
   "metadata": {},
   "outputs": [
    {
     "data": {
      "text/plain": [
       "100-element Vector{Bool}:\n",
       " 0\n",
       " 1\n",
       " 1\n",
       " 0\n",
       " 0\n",
       " 1\n",
       " 1\n",
       " 1\n",
       " 1\n",
       " 1\n",
       " 1\n",
       " 1\n",
       " 1\n",
       " ⋮\n",
       " 0\n",
       " 0\n",
       " 0\n",
       " 0\n",
       " 1\n",
       " 0\n",
       " 1\n",
       " 0\n",
       " 0\n",
       " 1\n",
       " 1\n",
       " 0"
      ]
     },
     "execution_count": 34,
     "metadata": {},
     "output_type": "execute_result"
    }
   ],
   "source": [
    "# generate data\n",
    "import Distributions\n",
    "using Random\n",
    "\n",
    "Random.seed!(42)\n",
    "\n",
    "n_samples = 100\n",
    "dimensionality = 2\n",
    "order = dimensionality\n",
    "rθ = [-0.5, 0.2]\n",
    "inputs = randn(n_samples, dimensionality)\n",
    "σ(w, x) = 1/(1+exp(-w'x))\n",
    "πs = [σ(rθ, inputs[i, :]) for i in 1:n_samples]\n",
    "outputs = [rand(Distributions.Bernoulli(πs[i])) for i in 1:n_samples]"
   ]
  },
  {
   "cell_type": "code",
   "execution_count": 2,
   "id": "interstate-occasions",
   "metadata": {},
   "outputs": [
    {
     "name": "stderr",
     "output_type": "stream",
     "text": [
      "┌ Info: Precompiling ForneyLab [9fc3f58a-c2cc-5bff-9419-6a294fefdca9]\n",
      "└ @ Base loading.jl:1317\n"
     ]
    }
   ],
   "source": [
    "# test nonlinear\n",
    "using Revise\n",
    "using ForneyLab\n",
    "import ForneyLab: unsafeMean, unsafeCov\n",
    "\n",
    "graph = FactorGraph()\n",
    "\n",
    "T = n_samples\n",
    "x = Vector{Variable}(undef, T)\n",
    "y = Vector{Variable}(undef, T)\n",
    "\n",
    "# Hearing aid parameters\n",
    "@RV θ  ~ GaussianMeanPrecision(placeholder(:m_θ, dims=(order,)), placeholder(:W_θ, dims=(order, order)))\n",
    "f(w,x) = 1/(1+exp(-w'x))\n",
    "for i in 1:T\n",
    "    @eval $(Symbol(\"func$i\"))(θ) = f(θ,inputs[$i, :])\n",
    "    @RV x[i] ~ Nonlinear{Sampling}(θ, g=eval(Symbol(\"func$i\")), in_variates=[Multivariate], out_variate=Univariate)\n",
    "    @RV y[i] ~ Bernoulli(x[i])\n",
    "    placeholder(y[i], :y, index=i)\n",
    "end"
   ]
  },
  {
   "cell_type": "code",
   "execution_count": 9,
   "id": "irish-humidity",
   "metadata": {},
   "outputs": [],
   "source": [
    "algo = messagePassingAlgorithm(θ, free_energy=true)\n",
    "src_code = algorithmSourceCode(algo, free_energy=true);"
   ]
  },
  {
   "cell_type": "code",
   "execution_count": 10,
   "id": "accessible-approach",
   "metadata": {},
   "outputs": [
    {
     "name": "stdout",
     "output_type": "stream",
     "text": [
      "begin\n",
      "\n",
      "function step!(data::Dict, marginals::Dict=Dict(), messages::Vector{Message}=Array{Message}(undef, 58))\n",
      "\n",
      "messages[1] = ruleSPGaussianMeanPrecisionOutNPP(nothing, Message(Multivariate, PointMass, m=data[:m_θ]), Message(MatrixVariate, PointMass, m=data[:W_θ]))\n",
      "messages[2] = ruleSPBernoulliIn1PN(Message(Univariate, PointMass, m=data[:y][10]), nothing)\n",
      "messages[3] = ruleSPNonlinearSIn1MN(func10, messages[2], nothing, variate=Multivariate)\n",
      "messages[4] = ruleSPBernoulliIn1PN(Message(Univariate, PointMass, m=data[:y][9]), nothing)\n",
      "messages[5] = ruleSPNonlinearSIn1MN(func9, messages[4], nothing, variate=Multivariate)\n",
      "messages[6] = ruleSPEqualityFn(messages[5], nothing, messages[3])\n",
      "messages[7] = ruleSPBernoulliIn1PN(Message(Univariate, PointMass, m=data[:y][8]), nothing)\n",
      "messages[8] = ruleSPNonlinearSIn1MN(func8, messages[7], nothing, variate=Multivariate)\n",
      "messages[9] = ruleSPEqualityFn(messages[8], nothing, messages[6])\n",
      "messages[10] = ruleSPBernoulliIn1PN(Message(Univariate, PointMass, m=data[:y][7]), nothing)\n",
      "messages[11] = ruleSPNonlinearSIn1MN(func7, messages[10], nothing, variate=Multivariate)\n",
      "messages[12] = ruleSPEqualityFn(messages[11], nothing, messages[9])\n",
      "messages[13] = ruleSPBernoulliIn1PN(Message(Univariate, PointMass, m=data[:y][6]), nothing)\n",
      "messages[14] = ruleSPNonlinearSIn1MN(func6, messages[13], nothing, variate=Multivariate)\n",
      "messages[15] = ruleSPEqualityFn(messages[14], nothing, messages[12])\n",
      "messages[16] = ruleSPBernoulliIn1PN(Message(Univariate, PointMass, m=data[:y][5]), nothing)\n",
      "messages[17] = ruleSPNonlinearSIn1MN(func5, messages[16], nothing, variate=Multivariate)\n",
      "messages[18] = ruleSPEqualityFn(messages[17], nothing, messages[15])\n",
      "messages[19] = ruleSPBernoulliIn1PN(Message(Univariate, PointMass, m=data[:y][4]), nothing)\n",
      "messages[20] = ruleSPNonlinearSIn1MN(func4, messages[19], nothing, variate=Multivariate)\n",
      "messages[21] = ruleSPEqualityFn(messages[20], nothing, messages[18])\n",
      "messages[22] = ruleSPBernoulliIn1PN(Message(Univariate, PointMass, m=data[:y][3]), nothing)\n",
      "messages[23] = ruleSPNonlinearSIn1MN(func3, messages[22], nothing, variate=Multivariate)\n",
      "messages[24] = ruleSPEqualityFn(messages[23], nothing, messages[21])\n",
      "messages[25] = ruleSPBernoulliIn1PN(Message(Univariate, PointMass, m=data[:y][2]), nothing)\n",
      "messages[26] = ruleSPNonlinearSIn1MN(func2, messages[25], nothing, variate=Multivariate)\n",
      "messages[27] = ruleSPEqualityFn(messages[26], nothing, messages[24])\n",
      "messages[28] = ruleSPBernoulliIn1PN(Message(Univariate, PointMass, m=data[:y][1]), nothing)\n",
      "messages[29] = ruleSPNonlinearSIn1MN(func1, messages[28], nothing, variate=Multivariate)\n",
      "messages[30] = ruleSPEqualityFn(nothing, messages[29], messages[27])\n",
      "messages[31] = ruleSPEqualityFnG(messages[1], messages[29], nothing)\n",
      "messages[32] = ruleSPEqualityFnG(messages[26], messages[31], nothing)\n",
      "messages[33] = ruleSPEqualityFnG(messages[23], messages[32], nothing)\n",
      "messages[34] = ruleSPEqualityFnG(messages[20], messages[33], nothing)\n",
      "messages[35] = ruleSPEqualityFnG(messages[17], messages[34], nothing)\n",
      "messages[36] = ruleSPEqualityFnG(messages[14], messages[35], nothing)\n",
      "messages[37] = ruleSPEqualityFnG(messages[11], messages[36], nothing)\n",
      "messages[38] = ruleSPEqualityFnG(messages[8], messages[37], nothing)\n",
      "messages[39] = ruleSPEqualityFnG(nothing, messages[38], messages[3])\n",
      "messages[40] = ruleSPNonlinearSOutNM(func9, nothing, messages[39], variate=Univariate)\n",
      "messages[41] = ruleSPEqualityFnG(nothing, messages[37], messages[6])\n",
      "messages[42] = ruleSPNonlinearSOutNM(func8, nothing, messages[41], variate=Univariate)\n",
      "messages[43] = ruleSPEqualityFnG(nothing, messages[36], messages[9])\n",
      "messages[44] = ruleSPNonlinearSOutNM(func7, nothing, messages[43], variate=Univariate)\n",
      "messages[45] = ruleSPEqualityFnG(nothing, messages[35], messages[12])\n",
      "messages[46] = ruleSPNonlinearSOutNM(func6, nothing, messages[45], variate=Univariate)\n",
      "messages[47] = ruleSPEqualityFnG(nothing, messages[34], messages[15])\n",
      "messages[48] = ruleSPNonlinearSOutNM(func5, nothing, messages[47], variate=Univariate)\n",
      "messages[49] = ruleSPEqualityFnG(nothing, messages[33], messages[18])\n",
      "messages[50] = ruleSPNonlinearSOutNM(func4, nothing, messages[49], variate=Univariate)\n",
      "messages[51] = ruleSPEqualityFnG(nothing, messages[32], messages[21])\n",
      "messages[52] = ruleSPNonlinearSOutNM(func3, nothing, messages[51], variate=Univariate)\n",
      "messages[53] = ruleSPEqualityFnG(nothing, messages[31], messages[24])\n",
      "messages[54] = ruleSPNonlinearSOutNM(func2, nothing, messages[53], variate=Univariate)\n",
      "messages[55] = ruleSPEqualityFnG(messages[5], messages[38], nothing)\n",
      "messages[56] = ruleSPNonlinearSOutNM(func10, nothing, messages[55], variate=Univariate)\n",
      "messages[57] = ruleSPEqualityFnG(messages[1], nothing, messages[27])\n",
      "messages[58] = ruleSPNonlinearSOutNM(func1, nothing, messages[57], variate=Univariate)\n",
      "\n",
      "marginals[:x_1] = messages[58].dist * messages[28].dist\n",
      "marginals[:x_10] = messages[56].dist * messages[2].dist\n",
      "marginals[:x_2] = messages[54].dist * messages[25].dist\n",
      "marginals[:x_3] = messages[52].dist * messages[22].dist\n",
      "marginals[:x_4] = messages[50].dist * messages[19].dist\n",
      "marginals[:x_5] = messages[48].dist * messages[16].dist\n",
      "marginals[:x_6] = messages[46].dist * messages[13].dist\n",
      "marginals[:x_7] = messages[44].dist * messages[10].dist\n",
      "marginals[:x_8] = messages[42].dist * messages[7].dist\n",
      "marginals[:x_9] = messages[40].dist * messages[4].dist\n",
      "marginals[:θ] = messages[1].dist * messages[30].dist\n",
      "\n",
      "return marginals\n",
      "\n",
      "end\n",
      "\n",
      "function freeEnergy(data::Dict, marginals::Dict)\n",
      "\n",
      "F = 0.0\n",
      "\n",
      "F += averageEnergy(Bernoulli, ProbabilityDistribution(Univariate, PointMass, m=data[:y][1]), marginals[:x_1])\n",
      "F += averageEnergy(Bernoulli, ProbabilityDistribution(Univariate, PointMass, m=data[:y][10]), marginals[:x_10])\n",
      "F += averageEnergy(Bernoulli, ProbabilityDistribution(Univariate, PointMass, m=data[:y][2]), marginals[:x_2])\n",
      "F += averageEnergy(Bernoulli, ProbabilityDistribution(Univariate, PointMass, m=data[:y][3]), marginals[:x_3])\n",
      "F += averageEnergy(Bernoulli, ProbabilityDistribution(Univariate, PointMass, m=data[:y][4]), marginals[:x_4])\n",
      "F += averageEnergy(Bernoulli, ProbabilityDistribution(Univariate, PointMass, m=data[:y][5]), marginals[:x_5])\n",
      "F += averageEnergy(Bernoulli, ProbabilityDistribution(Univariate, PointMass, m=data[:y][6]), marginals[:x_6])\n",
      "F += averageEnergy(Bernoulli, ProbabilityDistribution(Univariate, PointMass, m=data[:y][7]), marginals[:x_7])\n",
      "F += averageEnergy(Bernoulli, ProbabilityDistribution(Univariate, PointMass, m=data[:y][8]), marginals[:x_8])\n",
      "F += averageEnergy(Bernoulli, ProbabilityDistribution(Univariate, PointMass, m=data[:y][9]), marginals[:x_9])\n",
      "F += averageEnergy(GaussianMeanPrecision, marginals[:θ], ProbabilityDistribution(Multivariate, PointMass, m=data[:m_θ]), ProbabilityDistribution(MatrixVariate, PointMass, m=data[:W_θ]))\n",
      "\n",
      "F -= differentialEntropy(marginals[:θ])\n",
      "\n",
      "return F\n",
      "\n",
      "end\n",
      "\n",
      "end # block\n"
     ]
    }
   ],
   "source": [
    "println(src_code);"
   ]
  },
  {
   "cell_type": "code",
   "execution_count": 11,
   "id": "quiet-wound",
   "metadata": {},
   "outputs": [
    {
     "data": {
      "text/plain": [
       "freeEnergy (generic function with 1 method)"
      ]
     },
     "execution_count": 11,
     "metadata": {},
     "output_type": "execute_result"
    }
   ],
   "source": [
    "# Load algorithm\n",
    "eval(Meta.parse(src_code))"
   ]
  },
  {
   "cell_type": "code",
   "execution_count": 12,
   "id": "stylish-commonwealth",
   "metadata": {},
   "outputs": [
    {
     "data": {
      "text/plain": [
       "Dict{Any, Any} with 11 entries:\n",
       "  :x_3  => SampleList(s=[0.62, 0.57, 0.57, 0.58, 0.63, 0.51, 0.54, 0.53, 0.51, …\n",
       "  :x_10 => SampleList(s=[0.02, 1.22e-03, 9.13e-03, 0.09, 0.01, 3.69e-03, 0.03, …\n",
       "  :x_2  => SampleList(s=[0.76, 0.67, 0.77, 0.64, 0.76, 0.63, 0.79, 0.70, 0.81, …\n",
       "  :x_5  => SampleList(s=[0.14, 0.92, 5.34e-03, 0.11, 0.14, 4.05e-03, 0.35, 0.67…\n",
       "  :x_1  => SampleList(s=[0.72, 0.79, 0.68, 0.75, 0.86, 0.94, 0.66, 0.92, 0.50, …\n",
       "  :x_4  => SampleList(s=[0.85, 0.94, 0.90, 0.48, 0.72, 0.80, 0.88, 0.69, 0.83, …\n",
       "  :x_9  => SampleList(s=[1.00, 1.00, 1.00, 0.04, 1.00, 1.00, 0.97, 5.02e-03, 1.…\n",
       "  :θ    => 𝒩(m=[-1.33, 0.81], w=[[1.08, -0.08][-0.08, 1.36]])…\n",
       "  :x_6  => SampleList(s=[0.24, 0.90, 0.22, 0.91, 0.12, 0.40, 0.03, 0.75, 0.18, …\n",
       "  :x_7  => SampleList(s=[0.73, 0.66, 0.82, 0.64, 0.85, 0.75, 0.75, 0.71, 0.52, …\n",
       "  :x_8  => SampleList(s=[0.18, 0.44, 0.43, 0.46, 0.07, 0.89, 0.49, 0.89, 0.34, …"
      ]
     },
     "execution_count": 12,
     "metadata": {},
     "output_type": "execute_result"
    }
   ],
   "source": [
    "data = Dict(:y => outputs, :m_θ => zeros(dimensionality), :W_θ => 0.1*diageye(dimensionality))\n",
    "marginals = step!(data)"
   ]
  },
  {
   "cell_type": "code",
   "execution_count": 13,
   "id": "following-intake",
   "metadata": {},
   "outputs": [
    {
     "data": {
      "text/plain": [
       "2-element Vector{Float64}:\n",
       " -1.3319520146225503\n",
       "  0.8149393727598759"
      ]
     },
     "execution_count": 13,
     "metadata": {},
     "output_type": "execute_result"
    }
   ],
   "source": [
    "meθ = unsafeMean(marginals[:θ])"
   ]
  },
  {
   "cell_type": "code",
   "execution_count": 14,
   "id": "latest-damages",
   "metadata": {},
   "outputs": [
    {
     "data": {
      "text/plain": [
       "2×2 Matrix{Float64}:\n",
       " 0.929187   0.0559767\n",
       " 0.0559767  0.737735"
      ]
     },
     "execution_count": 14,
     "metadata": {},
     "output_type": "execute_result"
    }
   ],
   "source": [
    "weθ = unsafeCov(marginals[:θ])"
   ]
  },
  {
   "cell_type": "code",
   "execution_count": 15,
   "id": "applied-mistake",
   "metadata": {},
   "outputs": [
    {
     "name": "stdout",
     "output_type": "stream",
     "text": [
      "training errors = 0.0\n"
     ]
    }
   ],
   "source": [
    "println(\"training errors = $(sum(abs.([round(f(meθ, inputs[i, :])) - round(πs[i]) for i in 1:n_samples])))\")"
   ]
  },
  {
   "cell_type": "code",
   "execution_count": 58,
   "id": "nuclear-dividend",
   "metadata": {},
   "outputs": [],
   "source": [
    "# test nonlinear\n",
    "using Revise\n",
    "using ForneyLab\n",
    "using LinearAlgebra\n",
    "import ForneyLab: unsafeMean, unsafeCov\n",
    "\n",
    "graph = FactorGraph()\n",
    "\n",
    "T = 100\n",
    "x = Vector{Variable}(undef, T)\n",
    "z = Vector{Variable}(undef, T)\n",
    "y = Vector{Variable}(undef, T)\n",
    "\n",
    "# Hearing aid parameters\n",
    "@RV θ  ~ GaussianMeanPrecision(placeholder(:m_θ, dims=(dimensionality,)), placeholder(:W_θ, dims=(dimensionality, dimensionality)))\n",
    "f(w, x) = 1/(1+exp(-w'x))\n",
    "for i in 1:T\n",
    "    @RV z[i] ~ GaussianMeanPrecision(inputs[i, :], diageye(dimensionality))\n",
    "    @RV x[i] ~ Nonlinear{Sampling}(θ, z[i], g=f, in_variates=[Multivariate, Multivariate], out_variate=Univariate)\n",
    "    @RV y[i] ~ Bernoulli(x[i])\n",
    "    placeholder(y[i], :y, index=i)\n",
    "end"
   ]
  },
  {
   "cell_type": "code",
   "execution_count": 57,
   "id": "false-commerce",
   "metadata": {},
   "outputs": [
    {
     "data": {
      "text/html": [
       "<?xml version=\"1.0\" encoding=\"UTF-8\" standalone=\"no\"?>\n",
       "<!DOCTYPE svg PUBLIC \"-//W3C//DTD SVG 1.1//EN\"\n",
       " \"http://www.w3.org/Graphics/SVG/1.1/DTD/svg11.dtd\">\n",
       "<!-- Generated by graphviz version 2.47.2 (20210527.0053)\n",
       " -->\n",
       "<!-- Title: G Pages: 1 -->\n",
       "<svg width=\"639pt\" height=\"512pt\"\n",
       " viewBox=\"0.00 0.00 639.00 512.00\" xmlns=\"http://www.w3.org/2000/svg\" xmlns:xlink=\"http://www.w3.org/1999/xlink\">\n",
       "<g id=\"graph0\" class=\"graph\" transform=\"scale(1 1) rotate(0) translate(4 508)\">\n",
       "<title>G</title>\n",
       "<polygon fill=\"white\" stroke=\"transparent\" points=\"-4,4 -4,-508 635,-508 635,4 -4,4\"/>\n",
       "<!-- 12764655011879149886 -->\n",
       "<g id=\"node1\" class=\"node\">\n",
       "<title>12764655011879149886</title>\n",
       "<polygon fill=\"lightgrey\" stroke=\"black\" points=\"462,-54 408,-54 408,0 462,0 462,-54\"/>\n",
       "<text text-anchor=\"middle\" x=\"435\" y=\"-24.8\" font-family=\"Times,serif\" font-size=\"9.00\">clamp_1</text>\n",
       "</g>\n",
       "<!-- 4451042610805912515 -->\n",
       "<g id=\"node2\" class=\"node\">\n",
       "<title>4451042610805912515</title>\n",
       "<polygon fill=\"none\" stroke=\"black\" points=\"369,-288 297,-288 297,-216 369,-216 369,-288\"/>\n",
       "<text text-anchor=\"middle\" x=\"333\" y=\"-254.8\" font-family=\"Times,serif\" font-size=\"9.00\">g{Sampling}</text>\n",
       "<text text-anchor=\"middle\" x=\"333\" y=\"-244.8\" font-family=\"Times,serif\" font-size=\"9.00\">nonlinear_1</text>\n",
       "</g>\n",
       "<!-- 4333391909692546734 -->\n",
       "<g id=\"node5\" class=\"node\">\n",
       "<title>4333391909692546734</title>\n",
       "<polygon fill=\"none\" stroke=\"black\" points=\"276.5,-171 169.5,-171 169.5,-99 276.5,-99 276.5,-171\"/>\n",
       "<text text-anchor=\"middle\" x=\"223\" y=\"-137.8\" font-family=\"Times,serif\" font-size=\"9.00\">𝒩</text>\n",
       "<text text-anchor=\"middle\" x=\"223\" y=\"-127.8\" font-family=\"Times,serif\" font-size=\"9.00\">gaussianmeanprecision_1</text>\n",
       "</g>\n",
       "<!-- 4451042610805912515&#45;&#45;4333391909692546734 -->\n",
       "<g id=\"edge4\" class=\"edge\">\n",
       "<title>4451042610805912515&#45;&#45;4333391909692546734</title>\n",
       "<path fill=\"none\" stroke=\"black\" d=\"M296.82,-218.53C289.78,-211.88 282.55,-204.83 276,-198 267.86,-189.52 259.43,-180.02 251.75,-171.05\"/>\n",
       "<text text-anchor=\"start\" x=\"276\" y=\"-191.6\" font-family=\"Times,serif\" font-size=\"8.00\" fill=\"red\">θ</text>\n",
       "<text text-anchor=\"start\" x=\"232.75\" y=\"-173.65\" font-family=\"Times,serif\" font-size=\"8.00\">1 out </text>\n",
       "<text text-anchor=\"start\" x=\"277.82\" y=\"-221.13\" font-family=\"Times,serif\" font-size=\"8.00\">2 in1 </text>\n",
       "</g>\n",
       "<!-- 9993778010155936215 -->\n",
       "<g id=\"node6\" class=\"node\">\n",
       "<title>9993778010155936215</title>\n",
       "<polygon fill=\"none\" stroke=\"black\" points=\"498.5,-171 391.5,-171 391.5,-99 498.5,-99 498.5,-171\"/>\n",
       "<text text-anchor=\"middle\" x=\"445\" y=\"-137.8\" font-family=\"Times,serif\" font-size=\"9.00\">𝒩</text>\n",
       "<text text-anchor=\"middle\" x=\"445\" y=\"-127.8\" font-family=\"Times,serif\" font-size=\"9.00\">gaussianmeanprecision_2</text>\n",
       "</g>\n",
       "<!-- 4451042610805912515&#45;&#45;9993778010155936215 -->\n",
       "<g id=\"edge3\" class=\"edge\">\n",
       "<title>4451042610805912515&#45;&#45;9993778010155936215</title>\n",
       "<path fill=\"none\" stroke=\"black\" d=\"M367.21,-215.87C380.98,-201.74 396.83,-185.46 410.61,-171.31\"/>\n",
       "<text text-anchor=\"start\" x=\"392\" y=\"-191.6\" font-family=\"Times,serif\" font-size=\"8.00\" fill=\"red\">z_1</text>\n",
       "<text text-anchor=\"start\" x=\"391.61\" y=\"-173.91\" font-family=\"Times,serif\" font-size=\"8.00\">1 out </text>\n",
       "<text text-anchor=\"start\" x=\"348.21\" y=\"-209.47\" font-family=\"Times,serif\" font-size=\"8.00\">3 in2 </text>\n",
       "</g>\n",
       "<!-- 5900961454772051466 -->\n",
       "<g id=\"node3\" class=\"node\">\n",
       "<title>5900961454772051466</title>\n",
       "<polygon fill=\"lightgrey\" stroke=\"black\" points=\"631,-54 577,-54 577,0 631,0 631,-54\"/>\n",
       "<text text-anchor=\"middle\" x=\"604\" y=\"-24.8\" font-family=\"Times,serif\" font-size=\"9.00\">clamp_2</text>\n",
       "</g>\n",
       "<!-- 14516079555066491045 -->\n",
       "<g id=\"node4\" class=\"node\">\n",
       "<title>14516079555066491045</title>\n",
       "<polygon fill=\"lightgrey\" stroke=\"black\" points=\"80,-54 0,-54 0,0 80,0 80,-54\"/>\n",
       "<text text-anchor=\"middle\" x=\"40\" y=\"-24.8\" font-family=\"Times,serif\" font-size=\"9.00\">placeholder_W_θ</text>\n",
       "</g>\n",
       "<!-- 4333391909692546734&#45;&#45;14516079555066491045 -->\n",
       "<g id=\"edge7\" class=\"edge\">\n",
       "<title>4333391909692546734&#45;&#45;14516079555066491045</title>\n",
       "<path fill=\"none\" stroke=\"black\" d=\"M169.08,-102.77C140.62,-86.28 106.28,-66.39 80.17,-51.27\"/>\n",
       "<text text-anchor=\"start\" x=\"132\" y=\"-74.6\" font-family=\"Times,serif\" font-size=\"8.00\" fill=\"red\">W_θ</text>\n",
       "<text text-anchor=\"start\" x=\"80.17\" y=\"-53.87\" font-family=\"Times,serif\" font-size=\"8.00\">1 out </text>\n",
       "<text text-anchor=\"start\" x=\"154.08\" y=\"-105.37\" font-family=\"Times,serif\" font-size=\"8.00\">3 w </text>\n",
       "</g>\n",
       "<!-- 14146103472072149722 -->\n",
       "<g id=\"node8\" class=\"node\">\n",
       "<title>14146103472072149722</title>\n",
       "<polygon fill=\"lightgrey\" stroke=\"black\" points=\"273,-54 195,-54 195,0 273,0 273,-54\"/>\n",
       "<text text-anchor=\"middle\" x=\"234\" y=\"-24.8\" font-family=\"Times,serif\" font-size=\"9.00\">placeholder_m_θ</text>\n",
       "</g>\n",
       "<!-- 4333391909692546734&#45;&#45;14146103472072149722 -->\n",
       "<g id=\"edge1\" class=\"edge\">\n",
       "<title>4333391909692546734&#45;&#45;14146103472072149722</title>\n",
       "<path fill=\"none\" stroke=\"black\" d=\"M226.63,-99C228.15,-84.4 229.88,-67.75 231.28,-54.23\"/>\n",
       "<text text-anchor=\"start\" x=\"230\" y=\"-74.6\" font-family=\"Times,serif\" font-size=\"8.00\" fill=\"red\">m_θ</text>\n",
       "<text text-anchor=\"start\" x=\"212.28\" y=\"-56.83\" font-family=\"Times,serif\" font-size=\"8.00\">1 out </text>\n",
       "<text text-anchor=\"start\" x=\"211.63\" y=\"-92.6\" font-family=\"Times,serif\" font-size=\"8.00\">2 m </text>\n",
       "</g>\n",
       "<!-- 9993778010155936215&#45;&#45;12764655011879149886 -->\n",
       "<g id=\"edge8\" class=\"edge\">\n",
       "<title>9993778010155936215&#45;&#45;12764655011879149886</title>\n",
       "<path fill=\"none\" stroke=\"black\" d=\"M435.89,-98.84C434.69,-92.92 433.65,-86.81 433,-81 432.56,-77.02 432.91,-76 433,-72 433.13,-66.19 433.36,-59.95 433.62,-54.05\"/>\n",
       "<text text-anchor=\"start\" x=\"433\" y=\"-74.6\" font-family=\"Times,serif\" font-size=\"8.00\" fill=\"red\">clamp_1</text>\n",
       "<text text-anchor=\"start\" x=\"414.62\" y=\"-56.65\" font-family=\"Times,serif\" font-size=\"8.00\">1 out </text>\n",
       "<text text-anchor=\"start\" x=\"420.89\" y=\"-92.44\" font-family=\"Times,serif\" font-size=\"8.00\">2 m </text>\n",
       "</g>\n",
       "<!-- 9993778010155936215&#45;&#45;5900961454772051466 -->\n",
       "<g id=\"edge6\" class=\"edge\">\n",
       "<title>9993778010155936215&#45;&#45;5900961454772051466</title>\n",
       "<path fill=\"none\" stroke=\"black\" d=\"M497.5,-99C524.1,-81.27 555.26,-60.49 576.98,-46.01\"/>\n",
       "<text text-anchor=\"start\" x=\"534\" y=\"-74.6\" font-family=\"Times,serif\" font-size=\"8.00\" fill=\"red\">clamp_2</text>\n",
       "<text text-anchor=\"start\" x=\"557.98\" y=\"-48.61\" font-family=\"Times,serif\" font-size=\"8.00\">1 out </text>\n",
       "<text text-anchor=\"start\" x=\"482.5\" y=\"-92.6\" font-family=\"Times,serif\" font-size=\"8.00\">3 w </text>\n",
       "</g>\n",
       "<!-- 8976897356498411441 -->\n",
       "<g id=\"node7\" class=\"node\">\n",
       "<title>8976897356498411441</title>\n",
       "<polygon fill=\"none\" stroke=\"black\" points=\"369,-405 297,-405 297,-333 369,-333 369,-405\"/>\n",
       "<text text-anchor=\"middle\" x=\"333\" y=\"-371.8\" font-family=\"Times,serif\" font-size=\"9.00\">Ber</text>\n",
       "<text text-anchor=\"middle\" x=\"333\" y=\"-361.8\" font-family=\"Times,serif\" font-size=\"9.00\">bernoulli_1</text>\n",
       "</g>\n",
       "<!-- 8976897356498411441&#45;&#45;4451042610805912515 -->\n",
       "<g id=\"edge2\" class=\"edge\">\n",
       "<title>8976897356498411441&#45;&#45;4451042610805912515</title>\n",
       "<path fill=\"none\" stroke=\"black\" d=\"M333,-332.87C333,-318.74 333,-302.46 333,-288.31\"/>\n",
       "<text text-anchor=\"start\" x=\"333\" y=\"-308.6\" font-family=\"Times,serif\" font-size=\"8.00\" fill=\"red\">x_1</text>\n",
       "<text text-anchor=\"start\" x=\"314\" y=\"-290.91\" font-family=\"Times,serif\" font-size=\"8.00\">1 out </text>\n",
       "<text text-anchor=\"start\" x=\"320\" y=\"-326.47\" font-family=\"Times,serif\" font-size=\"8.00\">2 p </text>\n",
       "</g>\n",
       "<!-- 16049484018292568377 -->\n",
       "<g id=\"node9\" class=\"node\">\n",
       "<title>16049484018292568377</title>\n",
       "<polygon fill=\"lightgrey\" stroke=\"black\" points=\"370.5,-504 295.5,-504 295.5,-450 370.5,-450 370.5,-504\"/>\n",
       "<text text-anchor=\"middle\" x=\"333\" y=\"-474.8\" font-family=\"Times,serif\" font-size=\"9.00\">placeholder_y_1</text>\n",
       "</g>\n",
       "<!-- 16049484018292568377&#45;&#45;8976897356498411441 -->\n",
       "<g id=\"edge5\" class=\"edge\">\n",
       "<title>16049484018292568377&#45;&#45;8976897356498411441</title>\n",
       "<path fill=\"none\" stroke=\"black\" d=\"M333,-449.8C333,-436.31 333,-419.68 333,-405.1\"/>\n",
       "<text text-anchor=\"start\" x=\"333\" y=\"-425.6\" font-family=\"Times,serif\" font-size=\"8.00\" fill=\"red\">y_1</text>\n",
       "<text text-anchor=\"start\" x=\"314\" y=\"-407.7\" font-family=\"Times,serif\" font-size=\"8.00\">1 out </text>\n",
       "<text text-anchor=\"start\" x=\"314\" y=\"-443.4\" font-family=\"Times,serif\" font-size=\"8.00\">1 out </text>\n",
       "</g>\n",
       "</g>\n",
       "</svg>\n"
      ]
     },
     "metadata": {},
     "output_type": "display_data"
    }
   ],
   "source": [
    "draw();"
   ]
  },
  {
   "cell_type": "code",
   "execution_count": 59,
   "id": "fitting-deviation",
   "metadata": {},
   "outputs": [],
   "source": [
    "# Define posterior factorization\n",
    "pfz = PosteriorFactorization();"
   ]
  },
  {
   "cell_type": "code",
   "execution_count": 60,
   "id": "smart-communication",
   "metadata": {},
   "outputs": [],
   "source": [
    "# Compile algorithm\n",
    "algo = messagePassingAlgorithm(free_energy=true)\n",
    "\n",
    "# Generate source code\n",
    "src_code = algorithmSourceCode(algo, free_energy=true);"
   ]
  },
  {
   "cell_type": "code",
   "execution_count": 61,
   "id": "necessary-consent",
   "metadata": {},
   "outputs": [],
   "source": [
    "# println(src_code)"
   ]
  },
  {
   "cell_type": "code",
   "execution_count": 62,
   "id": "curious-personal",
   "metadata": {},
   "outputs": [
    {
     "data": {
      "text/plain": [
       "freeEnergy (generic function with 1 method)"
      ]
     },
     "execution_count": 62,
     "metadata": {},
     "output_type": "execute_result"
    }
   ],
   "source": [
    "# Load algorithm\n",
    "eval(Meta.parse(src_code))"
   ]
  },
  {
   "cell_type": "code",
   "execution_count": 63,
   "id": "crude-roommate",
   "metadata": {},
   "outputs": [
    {
     "data": {
      "text/plain": [
       "798"
      ]
     },
     "execution_count": 63,
     "metadata": {},
     "output_type": "execute_result"
    }
   ],
   "source": [
    "messages = init();\n",
    "n_messages = length(messages)"
   ]
  },
  {
   "cell_type": "code",
   "execution_count": 64,
   "id": "fossil-county",
   "metadata": {},
   "outputs": [
    {
     "data": {
      "text/plain": [
       "Message: 𝒩(m=[0.16, -1.59], w=diag[1.00e+04, 1.00e+04])\n"
      ]
     },
     "execution_count": 64,
     "metadata": {},
     "output_type": "execute_result"
    }
   ],
   "source": [
    "ruleSPGaussianMeanPrecisionOutNPP(nothing, Message(Multivariate, PointMass, m=[0.15614346264074028, -1.590579974922555]), Message(MatrixVariate, PointMass, m=Diagonal([10000.0, 10000.0])))"
   ]
  },
  {
   "cell_type": "code",
   "execution_count": 65,
   "id": "supported-sussex",
   "metadata": {},
   "outputs": [
    {
     "data": {
      "text/plain": [
       "init (generic function with 1 method)"
      ]
     },
     "execution_count": 65,
     "metadata": {},
     "output_type": "execute_result"
    }
   ],
   "source": [
    "function init()\n",
    "    global n_messages\n",
    "    messages = Array{Message}(undef, n_messages)\n",
    "    for i in 1:length(messages)\n",
    "        messages[i] = Message(vague(GaussianMeanPrecision, 2))\n",
    "    end\n",
    "    messages\n",
    "end"
   ]
  },
  {
   "cell_type": "code",
   "execution_count": null,
   "id": "plain-ethnic",
   "metadata": {},
   "outputs": [],
   "source": [
    "data = Dict(:y => outputs, :m_θ => zeros(dimensionality), :W_θ => 0.1*diageye(dimensionality))\n",
    "messages = init()\n",
    "marginals = Dict()\n",
    "step!(data, marginals, messages)"
   ]
  },
  {
   "cell_type": "code",
   "execution_count": 45,
   "id": "fuzzy-medication",
   "metadata": {},
   "outputs": [
    {
     "data": {
      "text/plain": [
       "2-element Vector{Float64}:\n",
       " -0.6590887856212173\n",
       "  1.0557047930386412"
      ]
     },
     "execution_count": 45,
     "metadata": {},
     "output_type": "execute_result"
    }
   ],
   "source": [
    "unsafeMean(marginals[:θ])"
   ]
  },
  {
   "cell_type": "code",
   "execution_count": 46,
   "id": "pressed-reform",
   "metadata": {},
   "outputs": [
    {
     "data": {
      "text/plain": [
       "2×2 Matrix{Float64}:\n",
       "  1.31983   -0.010104\n",
       " -0.010104   0.7657"
      ]
     },
     "execution_count": 46,
     "metadata": {},
     "output_type": "execute_result"
    }
   ],
   "source": [
    "weθ = unsafeCov(marginals[:θ])"
   ]
  },
  {
   "cell_type": "code",
   "execution_count": 47,
   "id": "respective-stand",
   "metadata": {},
   "outputs": [
    {
     "name": "stdout",
     "output_type": "stream",
     "text": [
      "training errors = 5.0\n"
     ]
    }
   ],
   "source": [
    "println(\"training errors = $(sum(abs.([round(f(meθ, inputs[i, :])) - round(πs[i]) for i in 1:n_samples])))\")"
   ]
  },
  {
   "cell_type": "code",
   "execution_count": 52,
   "id": "minute-corruption",
   "metadata": {},
   "outputs": [
    {
     "data": {
      "text/plain": [
       "2-element Vector{Float64}:\n",
       " -0.4444077176392397\n",
       " -0.025615236621922645"
      ]
     },
     "execution_count": 52,
     "metadata": {},
     "output_type": "execute_result"
    }
   ],
   "source": [
    "unsafeMean(marginals[:z_2])"
   ]
  },
  {
   "cell_type": "code",
   "execution_count": 51,
   "id": "powerful-tulsa",
   "metadata": {},
   "outputs": [
    {
     "data": {
      "text/plain": [
       "2-element Vector{Float64}:\n",
       " -0.444383357109696\n",
       " -0.02566249380406308"
      ]
     },
     "execution_count": 51,
     "metadata": {},
     "output_type": "execute_result"
    }
   ],
   "source": [
    "inputs[2, :]"
   ]
  },
  {
   "cell_type": "code",
   "execution_count": null,
   "id": "external-tactics",
   "metadata": {},
   "outputs": [],
   "source": []
  }
 ],
 "metadata": {
  "kernelspec": {
   "display_name": "Julia 1.6.0",
   "language": "julia",
   "name": "julia-1.6"
  },
  "language_info": {
   "file_extension": ".jl",
   "mimetype": "application/julia",
   "name": "julia",
   "version": "1.6.0"
  }
 },
 "nbformat": 4,
 "nbformat_minor": 5
}
