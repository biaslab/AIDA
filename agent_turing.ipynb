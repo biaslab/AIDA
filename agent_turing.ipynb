{
 "cells": [
  {
   "cell_type": "code",
   "execution_count": 133,
   "id": "behavioral-central",
   "metadata": {},
   "outputs": [
    {
     "data": {
      "text/plain": [
       "100-element Vector{Bool}:\n",
       " 0\n",
       " 1\n",
       " 1\n",
       " 0\n",
       " 0\n",
       " 1\n",
       " 1\n",
       " 1\n",
       " 1\n",
       " 0\n",
       " 1\n",
       " 1\n",
       " 1\n",
       " ⋮\n",
       " 0\n",
       " 0\n",
       " 0\n",
       " 1\n",
       " 1\n",
       " 1\n",
       " 1\n",
       " 0\n",
       " 0\n",
       " 1\n",
       " 1\n",
       " 0"
      ]
     },
     "execution_count": 133,
     "metadata": {},
     "output_type": "execute_result"
    }
   ],
   "source": [
    "# generate data\n",
    "import Distributions\n",
    "using Random\n",
    "\n",
    "Random.seed!(42)\n",
    "\n",
    "n_samples = 100\n",
    "dimensionality = 2\n",
    "rθ = [-0.9, 0.5]\n",
    "inputs = randn(n_samples, dimensionality)\n",
    "σ(w, x) = 1/(1+exp(-w'x))\n",
    "πs = [σ(rθ, inputs[i, :]) for i in 1:n_samples]\n",
    "outputs = [rand(Distributions.Bernoulli(πs[i])) for i in 1:n_samples]"
   ]
  },
  {
   "cell_type": "code",
   "execution_count": 134,
   "id": "worse-export",
   "metadata": {},
   "outputs": [
    {
     "data": {
      "text/plain": [
       "100-element Vector{Float64}:\n",
       " 0.6511341085084169\n",
       " 0.5955877066136283\n",
       " 0.41569281403288216\n",
       " 0.4401202616771189\n",
       " 0.0948478615047964\n",
       " 0.7980167159032031\n",
       " 0.5925325939573203\n",
       " 0.4297422164226539\n",
       " 0.9010022425685328\n",
       " 0.27875157627555786\n",
       " 0.3567134898728285\n",
       " 0.6348073825555255\n",
       " 0.35346337423728474\n",
       " ⋮\n",
       " 0.24237193452009162\n",
       " 0.5967636594091411\n",
       " 0.35118819613650737\n",
       " 0.8995973133106453\n",
       " 0.8071131893153088\n",
       " 0.8281026193563655\n",
       " 0.946293396612311\n",
       " 0.4445554826173346\n",
       " 0.030654537619569756\n",
       " 0.7083517955565383\n",
       " 0.6905272043138534\n",
       " 0.664220963467057"
      ]
     },
     "execution_count": 134,
     "metadata": {},
     "output_type": "execute_result"
    }
   ],
   "source": [
    "πs"
   ]
  },
  {
   "cell_type": "code",
   "execution_count": 135,
   "id": "needed-shirt",
   "metadata": {},
   "outputs": [],
   "source": [
    "using Turing"
   ]
  },
  {
   "cell_type": "code",
   "execution_count": 146,
   "id": "rural-backup",
   "metadata": {},
   "outputs": [],
   "source": [
    "logistic(w,x) = 1/(1+exp(-w'x))\n",
    "\n",
    "@model user_preferences(inputs, outputs, σ²; D=2, K=2) = begin\n",
    "    \n",
    "    n_samples = length(outputs)\n",
    "    weights   = Vector{Vector}(undef, n_samples)\n",
    "    \n",
    "    # State sequence.\n",
    "    s = tzeros(Int, n_samples)\n",
    "\n",
    "    m = Vector(undef, K)\n",
    "\n",
    "    # Transition matrix.\n",
    "    T = Vector{Vector}(undef, K)\n",
    "    for i in 1:K\n",
    "        T[i] ~ Dirichlet(ones(K)/K)\n",
    "        m[i] ~ Normal(i, 0.5)\n",
    "    end\n",
    "    \n",
    "    θ ~ MvNormal(zeros(D), sqrt(σ²)) \n",
    "    \n",
    "    s[1] ~ Categorical(K)\n",
    "    y[1] ~ Normal(m[s[1]], 0.1)\n",
    "    \n",
    "    for i in 1:n_samples\n",
    "        weights[i] ~ MvNormal(inputs[i, :], sqrt(10.0))\n",
    "    end\n",
    "\n",
    "    for i in 1:n_samples\n",
    "        π = logistic(weights[i], θ)\n",
    "        outputs[i] ~ Bernoulli(π)\n",
    "    end\n",
    "end;"
   ]
  },
  {
   "cell_type": "code",
   "execution_count": 147,
   "id": "golden-garlic",
   "metadata": {},
   "outputs": [
    {
     "name": "stderr",
     "output_type": "stream",
     "text": [
      "\u001b[32mSampling: 100%|█████████████████████████████████████████| Time: 0:00:53\u001b[39m\n"
     ]
    },
    {
     "data": {
      "text/plain": [
       "Chains MCMC chain (2000×211×1 Array{Float64, 3}):\n",
       "\n",
       "Iterations        = 1:2000\n",
       "Thinning interval = 1\n",
       "Number of chains  = 1\n",
       "Samples per chain = 2000\n",
       "Wall duration     = 57.9 seconds\n",
       "Compute duration  = 57.9 seconds\n",
       "parameters        = weights[23][2], weights[71][1], weights[13][1], weights[50][2], θ[1], weights[64][2], weights[16][1], weights[94][2], weights[54][2], weights[61][1], weights[10][1], weights[100][2], weights[3][1], weights[36][1], weights[48][2], weights[68][2], weights[26][1], weights[97][2], weights[22][1], weights[73][1], weights[95][2], weights[47][1], weights[50][1], weights[86][2], weights[94][1], weights[8][1], weights[35][2], weights[21][1], weights[63][1], weights[70][2], weights[23][1], weights[79][1], weights[52][1], weights[14][2], weights[43][2], weights[67][1], weights[85][2], weights[37][1], weights[91][1], weights[55][2], weights[27][1], weights[7][2], weights[55][1], weights[59][1], weights[63][2], weights[81][2], weights[84][2], weights[53][1], weights[17][1], weights[32][1], weights[83][2], weights[15][1], weights[68][1], weights[18][2], weights[96][1], weights[82][1], weights[25][2], weights[29][2], weights[27][2], weights[57][2], weights[40][1], weights[38][2], weights[65][2], weights[19][2], weights[41][2], weights[56][1], weights[75][2], weights[11][2], weights[30][1], weights[10][2], weights[37][2], weights[79][2], weights[78][1], weights[61][2], weights[58][2], weights[65][1], weights[99][1], weights[26][2], weights[20][1], weights[88][2], weights[98][1], weights[30][2], weights[6][1], weights[71][2], weights[80][2], weights[45][2], weights[69][2], weights[4][2], weights[43][1], weights[56][2], weights[35][1], weights[95][1], weights[80][1], weights[60][1], weights[19][1], weights[12][2], weights[60][2], weights[24][1], weights[21][2], weights[62][2], weights[89][1], weights[89][2], weights[4][1], weights[12][1], weights[59][2], weights[73][2], weights[91][2], weights[45][1], weights[9][1], weights[24][2], weights[85][1], weights[76][2], weights[90][2], weights[17][2], weights[69][1], weights[58][1], weights[72][1], weights[14][1], weights[34][1], weights[64][1], weights[34][2], weights[38][1], weights[74][1], weights[100][1], weights[32][2], weights[99][2], weights[84][1], weights[39][2], weights[42][1], weights[28][1], weights[54][1], weights[1][2], weights[40][2], weights[36][2], weights[15][2], weights[3][2], weights[48][1], weights[90][1], weights[98][2], weights[44][1], weights[78][2], weights[66][2], weights[62][1], weights[1][1], weights[8][2], weights[76][1], weights[66][1], weights[20][2], weights[77][1], weights[5][2], weights[31][1], weights[46][2], weights[6][2], weights[75][1], weights[93][1], weights[77][2], weights[83][1], weights[52][2], weights[18][1], weights[96][2], weights[25][1], weights[28][2], weights[74][2], weights[97][1], weights[31][2], weights[88][1], weights[67][2], weights[72][2], weights[39][1], weights[16][2], θ[2], weights[92][2], weights[46][1], weights[41][1], weights[11][1], weights[2][1], weights[7][1], weights[51][1], weights[51][2], weights[92][1], weights[13][2], weights[2][2], weights[53][2], weights[57][1], weights[49][1], weights[70][1], weights[42][2], weights[82][2], weights[93][2], weights[81][1], weights[87][2], weights[9][2], weights[33][1], weights[29][1], weights[33][2], weights[22][2], weights[49][2], weights[44][2], weights[5][1], weights[87][1], weights[86][1], weights[47][2]\n",
       "internals         = lp, n_steps, is_accept, acceptance_rate, log_density, hamiltonian_energy, hamiltonian_energy_error, step_size, nom_step_size\n",
       "\n",
       "Summary Statistics\n",
       " \u001b[1m     parameters \u001b[0m \u001b[1m    mean \u001b[0m \u001b[1m     std \u001b[0m \u001b[1m naive_se \u001b[0m \u001b[1m    mcse \u001b[0m \u001b[1m     ess \u001b[0m \u001b[1m    rhat \u001b[0m ⋯\n",
       " \u001b[90m         Symbol \u001b[0m \u001b[90m Float64 \u001b[0m \u001b[90m Float64 \u001b[0m \u001b[90m  Float64 \u001b[0m \u001b[90m Float64 \u001b[0m \u001b[90m Float64 \u001b[0m \u001b[90m Float64 \u001b[0m ⋯\n",
       "\n",
       "            θ[1]   -0.4969    0.1912     0.0043    0.0311   14.3802    1.0280  ⋯\n",
       "            θ[2]    0.2744    0.1982     0.0044    0.0379    6.2264    1.5407  ⋯\n",
       "   weights[1][1]    1.3637    2.7066     0.0605    0.4913   11.9925    1.0903  ⋯\n",
       "   weights[1][2]   -0.1818    2.7684     0.0619    0.5211   17.7586    1.0098  ⋯\n",
       "   weights[2][1]   -2.1701    2.6090     0.0583    0.4774   23.4486    0.9997  ⋯\n",
       "   weights[2][2]    0.6576    2.5379     0.0567    0.3478   35.2886    1.0282  ⋯\n",
       "   weights[3][1]   -1.0656    2.1176     0.0474    0.3173   31.7235    1.0010  ⋯\n",
       "   weights[3][2]   -0.0335    2.3296     0.0521    0.3970   17.8005    1.0344  ⋯\n",
       "   weights[4][1]    0.9656    2.3208     0.0519    0.4205   12.5267    1.0694  ⋯\n",
       "   weights[4][2]   -0.7866    3.2490     0.0726    0.6057    9.1863    1.3030  ⋯\n",
       "   weights[5][1]    2.5602    3.1838     0.0712    0.6112    9.7559    1.1399  ⋯\n",
       "   weights[5][2]   -2.2880    3.6518     0.0817    0.7386    6.7279    1.3269  ⋯\n",
       "   weights[6][1]   -2.0245    2.8578     0.0639    0.5550   17.9021    1.0327  ⋯\n",
       "   weights[6][2]    2.4147    2.9770     0.0666    0.5406   23.8471    1.0049  ⋯\n",
       "   weights[7][1]   -2.2623    2.3617     0.0528    0.4277   29.1793    1.0158  ⋯\n",
       "   weights[7][2]   -0.0260    2.9619     0.0662    0.5840   15.8615    1.0315  ⋯\n",
       "   weights[8][1]   -1.1153    2.6365     0.0590    0.4808   14.6152    1.0043  ⋯\n",
       "   weights[8][2]    0.8089    2.6640     0.0596    0.4838   20.1527    1.0393  ⋯\n",
       "   weights[9][1]   -2.6098    2.8624     0.0640    0.5424   19.1995    0.9999  ⋯\n",
       "   weights[9][2]    0.9070    2.8945     0.0647    0.5413   11.3788    1.1728  ⋯\n",
       "  weights[10][1]    2.2746    2.3461     0.0525    0.4215   14.8399    1.0273  ⋯\n",
       "  weights[10][2]   -0.6423    2.6951     0.0603    0.4565   20.7581    1.0918  ⋯\n",
       "  weights[11][1]   -1.1294    2.6642     0.0596    0.4826    8.9082    1.2796  ⋯\n",
       "        ⋮             ⋮         ⋮         ⋮          ⋮         ⋮         ⋮     ⋱\n",
       "\u001b[36m                                                   1 column and 179 rows omitted\u001b[0m\n",
       "\n",
       "Quantiles\n",
       " \u001b[1m     parameters \u001b[0m \u001b[1m    2.5% \u001b[0m \u001b[1m   25.0% \u001b[0m \u001b[1m   50.0% \u001b[0m \u001b[1m   75.0% \u001b[0m \u001b[1m   97.5% \u001b[0m\n",
       " \u001b[90m         Symbol \u001b[0m \u001b[90m Float64 \u001b[0m \u001b[90m Float64 \u001b[0m \u001b[90m Float64 \u001b[0m \u001b[90m Float64 \u001b[0m \u001b[90m Float64 \u001b[0m\n",
       "\n",
       "            θ[1]   -0.9020   -0.6197   -0.4899   -0.3638   -0.1412\n",
       "            θ[2]   -0.0735    0.1272    0.2734    0.4058    0.6738\n",
       "   weights[1][1]   -5.4644   -0.0346    1.5935    3.0131    6.3772\n",
       "   weights[1][2]   -5.8727   -2.1124   -0.0521    1.8291    4.8752\n",
       "   weights[2][1]   -7.4306   -3.9501   -2.1913   -0.4572    3.2519\n",
       "   weights[2][2]   -4.0993   -1.2506    0.6357    2.7682    4.9198\n",
       "   weights[3][1]   -5.1411   -2.6839   -0.8409    0.4401    2.7348\n",
       "   weights[3][2]   -4.5025   -1.6702   -0.0537    1.7150    4.1825\n",
       "   weights[4][1]   -3.1852   -0.6283    0.8471    2.4909    5.7135\n",
       "   weights[4][2]   -7.6448   -2.8059   -1.0739    0.9883    5.8021\n",
       "   weights[5][1]   -3.0987    0.2222    2.6140    4.8841    8.6103\n",
       "   weights[5][2]   -9.5370   -4.5969   -2.1093    0.2463    4.4022\n",
       "   weights[6][1]   -7.4433   -4.1376   -2.0076    0.0748    3.2906\n",
       "   weights[6][2]   -3.5677    0.5472    2.1355    4.3254    7.9577\n",
       "   weights[7][1]   -6.5330   -3.8644   -2.3850   -0.8068    2.8073\n",
       "   weights[7][2]   -7.0030   -1.8376    0.2656    2.1920    4.6660\n",
       "   weights[8][1]   -6.0673   -3.1410   -1.1247    1.0460    3.6744\n",
       "   weights[8][2]   -4.8100   -0.9078    1.0541    2.6423    5.4954\n",
       "   weights[9][1]   -7.7764   -4.8158   -2.6199   -0.5920    3.0596\n",
       "   weights[9][2]   -4.6788   -1.0588    0.6822    2.9303    6.5654\n",
       "  weights[10][1]   -1.6536    0.4639    2.0540    4.1527    7.0698\n",
       "  weights[10][2]   -5.8866   -2.3640   -0.6880    1.2781    4.7164\n",
       "  weights[11][1]   -6.6417   -2.8203   -1.0494    0.6109    4.1672\n",
       "        ⋮             ⋮         ⋮         ⋮         ⋮         ⋮\n",
       "\u001b[36m                                                    179 rows omitted\u001b[0m\n"
      ]
     },
     "execution_count": 147,
     "metadata": {},
     "output_type": "execute_result"
    }
   ],
   "source": [
    "# Settings of the Hamiltonian Monte Carlo (HMC) sampler.\n",
    "iterations = 2000\n",
    "ϵ = 0.05\n",
    "τ = 10\n",
    "\n",
    "chains = sample(user_preferences(inputs, outputs, 0.1), HMC(ϵ, τ), iterations)"
   ]
  },
  {
   "cell_type": "code",
   "execution_count": 143,
   "id": "discrete-israeli",
   "metadata": {},
   "outputs": [
    {
     "data": {
      "text/plain": [
       "100-element Vector{Vector{Float64}}:\n",
       " [-0.3707910707212212, 0.10978605027468057]\n",
       " [-0.6446666563145693, 0.06717351737636983]\n",
       " [-0.25525664403644993, -0.4512387887354433]\n",
       " [-0.10749051898140538, -1.2292644445478855]\n",
       " [1.9248749644648147, -1.3448797286421503]\n",
       " [-1.2899085176062282, 0.9202588989138918]\n",
       " [-0.7085719764023278, -0.08443717833487417]\n",
       " [-0.20936265676234958, -0.09501313409301644]\n",
       " [-2.7531792125640666, -0.18630473757698693]\n",
       " [1.2793799926371148, -0.06325146360812399]\n",
       " [0.6676239456599308, 0.8426771642600577]\n",
       " [0.02439750162156193, 1.4961241621475294]\n",
       " [0.1597748525973603, -0.1590707063080306]\n",
       " ⋮\n",
       " [0.823484460352815, -1.0666512819434288]\n",
       " [0.6795790419771863, 1.2806736975993103]\n",
       " [0.440946461022478, -0.8640322692545783]\n",
       " [-1.6402924538516876, 1.4604938242156038]\n",
       " [-1.1688977937419558, 1.3804005630694323]\n",
       " [-0.9787819220013382, 1.6242655471971208]\n",
       " [-2.130502370652669, 2.2312911097091113]\n",
       " [0.3238102979171723, -0.3767963371931768]\n",
       " [3.2506938920253976, -1.340027464418827]\n",
       " [-0.8748839912151479, 0.6681534673498705]\n",
       " [-0.8687391461629316, 0.6979891176732758]\n",
       " [0.5674157847680912, 1.8517030545252087]"
      ]
     },
     "execution_count": 143,
     "metadata": {},
     "output_type": "execute_result"
    }
   ],
   "source": [
    "d = 2\n",
    "\n",
    "sumstats = summarize(chains, mean, std)\n",
    "mθ, vθ   = sumstats.nt.mean[1:2], sumstats.nt.std[1:2]\n",
    "mw       = [sumstats.nt.mean[i:i+d-1] for i in d+1:d:d*n_samples+d]"
   ]
  },
  {
   "cell_type": "code",
   "execution_count": 144,
   "id": "straight-asset",
   "metadata": {},
   "outputs": [
    {
     "data": {
      "text/plain": [
       "100-element Vector{Float64}:\n",
       " 1.0\n",
       " 1.0\n",
       " 0.0\n",
       " 0.0\n",
       " 0.0\n",
       " 1.0\n",
       " 1.0\n",
       " 1.0\n",
       " 1.0\n",
       " 0.0\n",
       " 0.0\n",
       " 1.0\n",
       " 0.0\n",
       " ⋮\n",
       " 0.0\n",
       " 1.0\n",
       " 0.0\n",
       " 1.0\n",
       " 1.0\n",
       " 1.0\n",
       " 1.0\n",
       " 0.0\n",
       " 0.0\n",
       " 1.0\n",
       " 1.0\n",
       " 1.0"
      ]
     },
     "execution_count": 144,
     "metadata": {},
     "output_type": "execute_result"
    }
   ],
   "source": [
    "e_outputs = round.([logistic(mθ, mw[i]) for i in 1:n_samples])"
   ]
  },
  {
   "cell_type": "code",
   "execution_count": 145,
   "id": "given-charity",
   "metadata": {},
   "outputs": [
    {
     "data": {
      "text/plain": [
       "81"
      ]
     },
     "execution_count": 145,
     "metadata": {},
     "output_type": "execute_result"
    }
   ],
   "source": [
    "sum(outputs .== e_outputs)"
   ]
  },
  {
   "cell_type": "code",
   "execution_count": null,
   "id": "constant-latvia",
   "metadata": {},
   "outputs": [],
   "source": []
  }
 ],
 "metadata": {
  "kernelspec": {
   "display_name": "Julia 1.6.0",
   "language": "julia",
   "name": "julia-1.6"
  },
  "language_info": {
   "file_extension": ".jl",
   "mimetype": "application/julia",
   "name": "julia",
   "version": "1.6.0"
  }
 },
 "nbformat": 4,
 "nbformat_minor": 5
}
