{
 "cells": [
  {
   "cell_type": "code",
   "execution_count": 1,
   "id": "crucial-router",
   "metadata": {},
   "outputs": [],
   "source": [
    "using Revise\n",
    "using Rocket\n",
    "using ReactiveMP\n",
    "using GraphPPL\n",
    "using Distributions\n",
    "using Plots\n",
    "using Random\n",
    "import ProgressMeter\n",
    "using LinearAlgebra\n",
    "using WAV"
   ]
  },
  {
   "cell_type": "code",
   "execution_count": null,
   "id": "minimal-interview",
   "metadata": {},
   "outputs": [],
   "source": [
    "include(\"helpers/aida_segmentation.jl\")\n",
    "include(\"helpers/aida_snr.jl\")\n",
    "include(\"helpers/aida_ar.jl\")\n",
    "include(\"models_inferences.jl\")"
   ]
  },
  {
   "cell_type": "code",
   "execution_count": null,
   "id": "amended-scientist",
   "metadata": {},
   "outputs": [],
   "source": [
    "# load bar sound\n",
    "br, fs = wavread(\"sound/environment/bar.wav\");\n",
    "# train sound\n",
    "tr, fs = wavread(\"sound/environment/train.wav\")"
   ]
  },
  {
   "cell_type": "code",
   "execution_count": 2,
   "id": "broad-marking",
   "metadata": {},
   "outputs": [
    {
     "name": "stderr",
     "output_type": "stream",
     "text": [
      "┌ Error: Failed to revise /Users/apodusenko/.julia/dev/ReactiveMP/src/node.jl\n",
      "│   exception = Revise.ReviseEvalException(\"/Users/apodusenko/.julia/dev/ReactiveMP/src/node.jl:399\", UndefVarError(:AbstractNodeFunctionalDependenciesPipeline), Any[(top-level scope at node.jl:399, 1)])\n",
      "└ @ Revise /Users/apodusenko/.julia/packages/Revise/9lZUE/src/packagedef.jl:707\n",
      "┌ Warning: The running code does not match the saved version for the following files:\n",
      "│ \n",
      "│   /Users/apodusenko/.julia/dev/ReactiveMP/src/node.jl\n",
      "│ \n",
      "│ If the error was due to evaluation order, it can sometimes be resolved by calling `Revise.retry()`.\n",
      "│ Use Revise.errors() to report errors again. Only the first error in each file is shown.\n",
      "│ Your prompt color may be yellow until the errors are resolved.\n",
      "└ @ Revise /Users/apodusenko/.julia/packages/Revise/9lZUE/src/packagedef.jl:805\n"
     ]
    },
    {
     "ename": "LoadError",
     "evalue": "UndefVarError: get_frames not defined",
     "output_type": "error",
     "traceback": [
      "UndefVarError: get_frames not defined",
      "",
      "Stacktrace:",
      " [1] top-level scope",
      "   @ In[2]:1",
      " [2] eval",
      "   @ ./boot.jl:360 [inlined]",
      " [3] include_string(mapexpr::typeof(REPL.softscope), mod::Module, code::String, filename::String)",
      "   @ Base ./loading.jl:1094"
     ]
    }
   ],
   "source": [
    "br_seg = get_frames(br, fs)"
   ]
  },
  {
   "cell_type": "code",
   "execution_count": null,
   "id": "affecting-runner",
   "metadata": {},
   "outputs": [],
   "source": [
    "br_seg = get_frames(br, fs)\n",
    "bmx, bvx, bmθ, bvθ, bγ = lar_batch_learning(br_seg, 2, 10, 1e-12);"
   ]
  },
  {
   "cell_type": "code",
   "execution_count": null,
   "id": "tropical-spectacular",
   "metadata": {},
   "outputs": [],
   "source": [
    "tr_seg = get_frames(tr, fs)\n",
    "trmx, trvx, trmθ, trvθ, trγ = lar_batch_learning(tr_seg, 2, 10, 1e-12);"
   ]
  },
  {
   "cell_type": "markdown",
   "id": "supreme-novelty",
   "metadata": {},
   "source": [
    "### Markov model"
   ]
  },
  {
   "cell_type": "code",
   "execution_count": null,
   "id": "stupid-boxing",
   "metadata": {},
   "outputs": [],
   "source": [
    "@model [ default_factorisation = MeanField() ] function transition_hmm_model(n)\n",
    "    \n",
    "    A ~ MatrixDirichlet(ones(3, 3)) \n",
    "    B ~ MatrixDirichlet([ 10.0 1.0 1.0; 1.0 10.0 1.0; 1.0 1.0 10.0 ])\n",
    "    \n",
    "    s_0 ~ Categorical(fill(1.0 / 3.0, 3))\n",
    "    \n",
    "    s = randomvar(n)\n",
    "    x = datavar(Vector{Float64}, n)\n",
    "    \n",
    "    s_prev = s_0\n",
    "    \n",
    "    for t in 1:n\n",
    "        s[t] ~ Transition(s_prev, A) where { q = q(out, in)q(a) }\n",
    "        x[t] ~ Transition(s[t], B)\n",
    "        s_prev = s[t]\n",
    "    end\n",
    "    \n",
    "    return s, x, A, B\n",
    "end"
   ]
  },
  {
   "cell_type": "code",
   "execution_count": null,
   "id": "utility-guinea",
   "metadata": {},
   "outputs": [],
   "source": [
    "function inference_hmm(data, criterion)\n",
    "    n = length(data)\n",
    "    \n",
    "    model, (s, x, A, B) = transition_model(n, options = (limit_stack_depth = 500, ))\n",
    "    \n",
    "    sbuffer = keep(Vector{Marginal})\n",
    "    Abuffer = keep(Marginal)\n",
    "    Bbuffer = keep(Marginal)\n",
    "    fe      = ScoreActor(Float64)\n",
    "    \n",
    "    ssub  = subscribe!(getmarginals(s), sbuffer)\n",
    "    Asub  = subscribe!(getmarginal(A), Abuffer)\n",
    "    Bsub  = subscribe!(getmarginal(B), Bbuffer)\n",
    "    fesub = subscribe!(score(Float64, BetheFreeEnergy(), model), fe)\n",
    "    \n",
    "    setmarginal!(A, vague(MatrixDirichlet, 3, 3))\n",
    "    setmarginal!(B, vague(MatrixDirichlet, 3, 3))\n",
    "    \n",
    "    foreach(s) do svar\n",
    "        setmarginal!(svar, vague(Categorical, 3))\n",
    "    end\n",
    "    \n",
    "    update!(x, data)\n",
    "    repeat!(model, criterion)\n",
    "    \n",
    "    unsubscribe!(ssub)\n",
    "    unsubscribe!(Asub)\n",
    "    unsubscribe!(Bsub)\n",
    "    unsubscribe!(fesub)\n",
    "    \n",
    "    return map(getvalues, (sbuffer, Abuffer, Bbuffer, fe))\n",
    "end"
   ]
  }
 ],
 "metadata": {
  "kernelspec": {
   "display_name": "Julia 1.6.0",
   "language": "julia",
   "name": "julia-1.6"
  },
  "language_info": {
   "file_extension": ".jl",
   "mimetype": "application/julia",
   "name": "julia",
   "version": "1.6.0"
  }
 },
 "nbformat": 4,
 "nbformat_minor": 5
}
