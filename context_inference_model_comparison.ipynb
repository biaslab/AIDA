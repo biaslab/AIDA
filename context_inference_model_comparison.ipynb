{
 "cells": [
  {
   "cell_type": "code",
   "execution_count": 4,
   "id": "concerned-fiber",
   "metadata": {},
   "outputs": [],
   "source": [
    "using Revise\n",
    "using Rocket\n",
    "using ReactiveMP\n",
    "using GraphPPL\n",
    "using Distributions\n",
    "using Plots\n",
    "using Random\n",
    "import ProgressMeter\n",
    "using LinearAlgebra\n",
    "using WAV"
   ]
  },
  {
   "cell_type": "code",
   "execution_count": 184,
   "id": "prescription-release",
   "metadata": {},
   "outputs": [
    {
     "data": {
      "text/plain": [
       "batch_coupled_learning (generic function with 1 method)"
      ]
     },
     "execution_count": 184,
     "metadata": {},
     "output_type": "execute_result"
    }
   ],
   "source": [
    "include(\"helpers/aida_segmentation.jl\")\n",
    "include(\"helpers/aida_snr.jl\")\n",
    "include(\"helpers/aida_ar.jl\")\n",
    "include(\"models_inferences.jl\")"
   ]
  },
  {
   "cell_type": "code",
   "execution_count": 185,
   "id": "ethical-making",
   "metadata": {},
   "outputs": [
    {
     "data": {
      "text/plain": [
       "([0.003204443494979705; 3.051850947599719e-5; … ; -0.007019257179479354; 0.0022583697012237922], 8000.0f0, 0x0010, WAVChunk[WAVChunk(Symbol(\"fmt \"), UInt8[0x10, 0x00, 0x00, 0x00, 0x01, 0x00, 0x01, 0x00, 0x40, 0x1f, 0x00, 0x00, 0x80, 0x3e, 0x00, 0x00, 0x02, 0x00, 0x10, 0x00]), WAVChunk(:LIST, UInt8[0x49, 0x4e, 0x46, 0x4f, 0x49, 0x4e, 0x41, 0x4d, 0x08, 0x00  …  0x73, 0x70, 0x65, 0x63, 0x74, 0x6f, 0x72, 0x4a, 0x00, 0x00]), WAVChunk(Symbol(\"id3 \"), UInt8[0x49, 0x44, 0x33, 0x03, 0x00, 0x00, 0x00, 0x00, 0x00, 0x26  …  0x07, 0x00, 0x00, 0x00, 0x38, 0x2e, 0x38, 0x2e, 0x31, 0x37])])"
      ]
     },
     "execution_count": 185,
     "metadata": {},
     "output_type": "execute_result"
    }
   ],
   "source": [
    "# load bar sound\n",
    "br, fs = wavread(\"sound/environment/bar.wav\");\n",
    "# train sound\n",
    "tr, fs = wavread(\"sound/environment/train.wav\")"
   ]
  },
  {
   "cell_type": "code",
   "execution_count": 186,
   "id": "friendly-immunology",
   "metadata": {},
   "outputs": [
    {
     "data": {
      "text/plain": [
       "352×80 Matrix{Float64}:\n",
       "  0.00320444    3.05185e-5  -0.00689718  …  -0.0013123    -0.00341807\n",
       " -0.0234993    -0.0253914   -0.035371       -0.0144047    -0.0124516\n",
       "  0.00573748   -0.00305185   0.00762963     -0.00976592   -0.00824\n",
       "  0.00332652   -0.00738548  -0.00473037      0.0120548     0.0036317\n",
       " -0.00146489    0.00338755   0.00112918      0.016419      0.00628681\n",
       "  0.00253304    0.00723289   0.00515763  …   0.022187      0.0114139\n",
       " -0.00338755   -0.00964385  -0.0119938       0.0158696     0.00735496\n",
       "  0.00344859    0.00189215   0.0108341      -0.0477615    -0.0412305\n",
       "  0.0707419     0.0713218    0.0561235       0.0297555     0.0493484\n",
       " -0.0222175    -0.00524918   0.0011597      -0.000640889   0.00384533\n",
       "  0.0139164     0.0117191    0.0143132   …  -0.00744652   -0.000183111\n",
       " -0.00354015   -0.00341807   0.00845363      0.035493      0.0387585\n",
       " -0.0104373    -0.0148625    0.00830103      0.0458388     0.0269173\n",
       "  ⋮                                      ⋱                \n",
       " -0.000885037   9.15555e-5  -0.00708029  …   0.0134587     0.00555437\n",
       "  0.00534074   -0.00302133  -0.00570696     -0.0206915    -0.021485\n",
       " -0.00952177   -0.00839259  -0.00430311     -0.007416     -0.00750755\n",
       "  0.0160833     0.015717     0.00399792     -0.00277718   -0.000579852\n",
       "  0.00427259    0.00955229  -0.00225837      0.00814844    0.0123295\n",
       "  0.006592     -0.00396741   0.0113834   …  -0.0341502    -0.0324717\n",
       "  0.00744652    0.00399792   0.0117801      -0.00784326    0.00338755\n",
       " -0.00582904    0.0119327    0.0129398      -0.0259102    -0.00485244\n",
       " -0.0144047     0.00170904   0.00158696     -0.00961333   -0.0144963\n",
       "  0.0157781     0.011536     0.00299081      0.000396741   0.00393689\n",
       "  0.00173956    0.00723289  -0.00582904  …  -0.00601215    0.00866726\n",
       " -0.0180364    -0.00180059   0.00149541      0.0           0.0"
      ]
     },
     "execution_count": 186,
     "metadata": {},
     "output_type": "execute_result"
    }
   ],
   "source": [
    "br_seg = get_frames(br, fs)\n",
    "tr_seg = get_frames(tr, fs)"
   ]
  },
  {
   "cell_type": "code",
   "execution_count": 200,
   "id": "blank-headquarters",
   "metadata": {},
   "outputs": [
    {
     "name": "stderr",
     "output_type": "stream",
     "text": [
      "\u001b[32mProgress: 100%|█████████████████████████████████████████| Time: 0:00:12\u001b[39m\n"
     ]
    }
   ],
   "source": [
    "vmp_iter = 50\n",
    "totseg = 10\n",
    "# totseg = size(br_seg, 1)\n",
    "ar_order_1 = 2\n",
    "ar_order_2 = 2\n",
    "\n",
    "fe_br = zeros(totseg, vmp_iter)\n",
    "fe_tr = zeros(totseg, vmp_iter)\n",
    "fe_gaussian = zeros(totseg, vmp_iter);\n",
    "priors_ar_1 = Dict(:mθ => zeros(ar_order_1), \n",
    "                   :vθ =>Matrix{Float64}(I, ar_order_1, ar_order_1)\n",
    "                   :aγ => 1.0, :bγ => 1e-4)\n",
    "\n",
    "priors_ar_1 = Dict(:mθ => ones(ar_order_1), \n",
    "                   :vθ =>1e2*Matrix{Float64}(I, ar_order_1, ar_order_1)\n",
    "                   :aγ => 2.0, :bγ => 1e-4)\n",
    "\n",
    "segments = tr_seg\n",
    "ProgressMeter.@showprogress for segnum in 1:totseg\n",
    "    γ, θ, xs, fe = lar_inference(segments[segnum, :], ar_order_1, vmp_iter, 1e-12, priors=priors_ar_1)\n",
    "    mθ, vθ = mean(θ), cov(θ)\n",
    "    mγ = mean(γ)\n",
    "    fe_br[segnum, :] = fe\n",
    "    \n",
    "    γ, θ, xs, fe = lar_inference(segments[segnum, :], ar_order_2, vmp_iter, 1e-12, priors=priors_ar_2)\n",
    "    mθ, vθ = mean(θ), cov(θ)\n",
    "    mγ = mean(γ)\n",
    "    fe_tr[segnum, :] = fe\n",
    "    \n",
    "    x, γ, fe = inference_gaussian(segments[segnum, :], vmp_iter)\n",
    "    mx, vx = mean(x), cov(x)\n",
    "    mγ = mean(γ)\n",
    "    fe_gaussian[segnum, :] = fe\n",
    "end"
   ]
  },
  {
   "cell_type": "code",
   "execution_count": 203,
   "id": "shaped-sleeve",
   "metadata": {},
   "outputs": [
    {
     "data": {
      "text/plain": [
       "3-element Vector{Int64}:\n",
       " 3\n",
       " 4\n",
       " 6"
      ]
     },
     "execution_count": 203,
     "metadata": {},
     "output_type": "execute_result"
    }
   ],
   "source": [
    "lowest_fe = [findmin([x[end], y[end], z[end]])[2] for (x, y, z) in zip(eachrow(fe_br), eachrow(fe_tr), eachrow(fe_gaussian))]\n",
    "findall(isequal(1), lowest_fe)"
   ]
  },
  {
   "cell_type": "code",
   "execution_count": 149,
   "id": "ecological-formula",
   "metadata": {},
   "outputs": [
    {
     "data": {
      "text/plain": [
       "model_posteriors (generic function with 1 method)"
      ]
     },
     "execution_count": 149,
     "metadata": {},
     "output_type": "execute_result"
    }
   ],
   "source": [
    "function model_posteriors(m_lh, m_pr)\n",
    "    model_evidence = mapreduce(x -> x[1]*x[2], +, zip(m_lh, m_pr))\n",
    "    posteriors = map(x -> x[1]*x[2], zip(m_lh, m_pr)) ./ model_evidence\n",
    "end"
   ]
  },
  {
   "cell_type": "markdown",
   "id": "banned-delaware",
   "metadata": {},
   "source": [
    "### Markov model"
   ]
  },
  {
   "cell_type": "code",
   "execution_count": 139,
   "id": "polyphonic-amber",
   "metadata": {},
   "outputs": [
    {
     "data": {
      "text/plain": [
       "generate_data (generic function with 2 methods)"
      ]
     },
     "execution_count": 139,
     "metadata": {},
     "output_type": "execute_result"
    }
   ],
   "source": [
    "using Random\n",
    "\n",
    "function rand_vec(distribution::Categorical) \n",
    "    k = ncategories(distribution)\n",
    "    s = zeros(k)\n",
    "    s[ rand(distribution) ] = 1.0\n",
    "    s\n",
    "end\n",
    "\n",
    "function generate_data(n_samples, Â, B̂; seed = 124)\n",
    "    Random.seed!(seed)\n",
    "    \n",
    "    # Transition probabilities (some transitions are impossible)\n",
    "    A = Â\n",
    "    # Observation noise\n",
    "    B = B̂\n",
    "    # Initial state\n",
    "    s_0 = zeros(size(A, 1)); s_0[1] = 1.0\n",
    "    # Generate some data\n",
    "    s = Vector{Vector{Float64}}(undef, n_samples) # one-hot encoding of the states\n",
    "    x = Vector{Vector{Float64}}(undef, n_samples) # one-hot encoding of the observations\n",
    "    \n",
    "    s_prev = s_0\n",
    "    \n",
    "    for t = 1:n_samples\n",
    "        a = A * s_prev\n",
    "        s[t] = rand_vec(Categorical(a ./ sum(a)))\n",
    "        b = B * s[t]\n",
    "        x[t] = rand_vec(Categorical(b ./ sum(b)))\n",
    "        s_prev = s[t]\n",
    "    end\n",
    "    \n",
    "    return x, s\n",
    "end"
   ]
  },
  {
   "cell_type": "code",
   "execution_count": 125,
   "id": "bright-representative",
   "metadata": {},
   "outputs": [
    {
     "data": {
      "text/plain": [
       "create_B (generic function with 1 method)"
      ]
     },
     "execution_count": 125,
     "metadata": {},
     "output_type": "execute_result"
    }
   ],
   "source": [
    "function create_B(dims)\n",
    "    base = ones(dims); base[1] = 1e2\n",
    "    B = hcat(base)'\n",
    "    for i in 1:dims-1\n",
    "        base = circshift(base, 1)\n",
    "        B = vcat(B, hcat(base)')\n",
    "    end\n",
    "    B\n",
    "end"
   ]
  },
  {
   "cell_type": "code",
   "execution_count": 133,
   "id": "arabic-sponsorship",
   "metadata": {},
   "outputs": [
    {
     "data": {
      "text/plain": [
       "hmm (generic function with 2 methods)"
      ]
     },
     "execution_count": 133,
     "metadata": {},
     "output_type": "execute_result"
    }
   ],
   "source": [
    "@model [ default_factorisation = MeanField() ] function hmm(n, order)\n",
    "    \n",
    "    A ~ MatrixDirichlet(ones(order, order)) \n",
    "    B ~ MatrixDirichlet(create_B(order))\n",
    "    \n",
    "    s_0 ~ Categorical(fill(1.0 / order, order))\n",
    "    \n",
    "    s = randomvar(n)\n",
    "    x = datavar(Vector{Float64}, n)\n",
    "    \n",
    "    s_prev = s_0\n",
    "    \n",
    "    for t in 1:n\n",
    "        s[t] ~ Transition(s_prev, A) where { q = q(out, in)q(a) }\n",
    "        x[t] ~ Transition(s[t], B)\n",
    "        s_prev = s[t]\n",
    "    end\n",
    "    \n",
    "    return s, x, A, B\n",
    "end"
   ]
  },
  {
   "cell_type": "code",
   "execution_count": 134,
   "id": "associate-luxury",
   "metadata": {},
   "outputs": [
    {
     "data": {
      "text/plain": [
       "inference_hmm (generic function with 2 methods)"
      ]
     },
     "execution_count": 134,
     "metadata": {},
     "output_type": "execute_result"
    }
   ],
   "source": [
    "function inference_hmm(data, vmp_iter, order)\n",
    "    n = length(data)\n",
    "    \n",
    "    model, (s, x, A, B) = hmm(n, order, options = (limit_stack_depth = 500, ))\n",
    "    \n",
    "    sbuffer = keep(Vector{Marginal})\n",
    "    Abuffer = keep(Marginal)\n",
    "    Bbuffer = keep(Marginal)\n",
    "    fe      = ScoreActor(Float64)\n",
    "    \n",
    "    ssub  = subscribe!(getmarginals(s), sbuffer)\n",
    "    Asub  = subscribe!(getmarginal(A), Abuffer)\n",
    "    Bsub  = subscribe!(getmarginal(B), Bbuffer)\n",
    "    fesub = subscribe!(score(Float64, BetheFreeEnergy(), model), fe)\n",
    "    \n",
    "    setmarginal!(A, vague(MatrixDirichlet, order, order))\n",
    "    setmarginal!(B, MatrixDirichlet(create_B(order)))\n",
    "    \n",
    "    foreach(s) do svar\n",
    "        setmarginal!(svar, vague(Categorical, 3))\n",
    "    end\n",
    "    \n",
    "    ProgressMeter.@showprogress for i in 1:vmp_iter\n",
    "        update!(x, data)\n",
    "    end\n",
    "    \n",
    "    return map(getvalues, (sbuffer, Abuffer, Bbuffer, fe))\n",
    "end"
   ]
  },
  {
   "cell_type": "code",
   "execution_count": 140,
   "id": "intimate-output",
   "metadata": {},
   "outputs": [],
   "source": [
    "A = [0.7 0.3; 0.1 0.9] \n",
    "B = [0.9 0.1; 0.1 0.9] \n",
    "x_data, s_data = generate_data(100, A, B);"
   ]
  },
  {
   "cell_type": "code",
   "execution_count": 141,
   "id": "level-april",
   "metadata": {},
   "outputs": [
    {
     "name": "stderr",
     "output_type": "stream",
     "text": [
      "\u001b[32mProgress: 100%|█████████████████████████████████████████| Time: 0:00:00\u001b[39m\n"
     ]
    }
   ],
   "source": [
    "s, A, B, fe = inference_hmm(x_data, 100, 2);"
   ]
  },
  {
   "cell_type": "code",
   "execution_count": 142,
   "id": "gothic-burns",
   "metadata": {},
   "outputs": [
    {
     "data": {
      "text/plain": [
       "2×2 Matrix{Float64}:\n",
       " 0.821648  0.387479\n",
       " 0.178352  0.612521"
      ]
     },
     "execution_count": 142,
     "metadata": {},
     "output_type": "execute_result"
    }
   ],
   "source": [
    "mean(A[end])"
   ]
  },
  {
   "cell_type": "code",
   "execution_count": 143,
   "id": "piano-battlefield",
   "metadata": {},
   "outputs": [
    {
     "data": {
      "text/plain": [
       "2×2 Matrix{Float64}:\n",
       " 0.990903    0.00879125\n",
       " 0.00909659  0.991209"
      ]
     },
     "execution_count": 143,
     "metadata": {},
     "output_type": "execute_result"
    }
   ],
   "source": [
    "mean(B[end])"
   ]
  },
  {
   "cell_type": "code",
   "execution_count": 144,
   "id": "compressed-shelter",
   "metadata": {},
   "outputs": [
    {
     "data": {
      "image/svg+xml": [
       "<?xml version=\"1.0\" encoding=\"utf-8\"?>\n",
       "<svg xmlns=\"http://www.w3.org/2000/svg\" xmlns:xlink=\"http://www.w3.org/1999/xlink\" width=\"600\" height=\"400\" viewBox=\"0 0 2400 1600\">\n",
       "<defs>\n",
       "  <clipPath id=\"clip2300\">\n",
       "    <rect x=\"0\" y=\"0\" width=\"2400\" height=\"1600\"/>\n",
       "  </clipPath>\n",
       "</defs>\n",
       "<path clip-path=\"url(#clip2300)\" d=\"\n",
       "M0 1600 L2400 1600 L2400 0 L0 0  Z\n",
       "  \" fill=\"#ffffff\" fill-rule=\"evenodd\" fill-opacity=\"1\"/>\n",
       "<defs>\n",
       "  <clipPath id=\"clip2301\">\n",
       "    <rect x=\"480\" y=\"0\" width=\"1681\" height=\"1600\"/>\n",
       "  </clipPath>\n",
       "</defs>\n",
       "<path clip-path=\"url(#clip2300)\" d=\"\n",
       "M153.898 1487.47 L2352.76 1487.47 L2352.76 47.2441 L153.898 47.2441  Z\n",
       "  \" fill=\"#ffffff\" fill-rule=\"evenodd\" fill-opacity=\"1\"/>\n",
       "<defs>\n",
       "  <clipPath id=\"clip2302\">\n",
       "    <rect x=\"153\" y=\"47\" width=\"2200\" height=\"1441\"/>\n",
       "  </clipPath>\n",
       "</defs>\n",
       "<polyline clip-path=\"url(#clip2302)\" style=\"stroke:#000000; stroke-width:2; stroke-opacity:0.1; fill:none\" points=\"\n",
       "  195.176,1487.47 195.176,47.2441 \n",
       "  \"/>\n",
       "<polyline clip-path=\"url(#clip2302)\" style=\"stroke:#000000; stroke-width:2; stroke-opacity:0.1; fill:none\" points=\"\n",
       "  719.013,1487.47 719.013,47.2441 \n",
       "  \"/>\n",
       "<polyline clip-path=\"url(#clip2302)\" style=\"stroke:#000000; stroke-width:2; stroke-opacity:0.1; fill:none\" points=\"\n",
       "  1242.85,1487.47 1242.85,47.2441 \n",
       "  \"/>\n",
       "<polyline clip-path=\"url(#clip2302)\" style=\"stroke:#000000; stroke-width:2; stroke-opacity:0.1; fill:none\" points=\"\n",
       "  1766.69,1487.47 1766.69,47.2441 \n",
       "  \"/>\n",
       "<polyline clip-path=\"url(#clip2302)\" style=\"stroke:#000000; stroke-width:2; stroke-opacity:0.1; fill:none\" points=\"\n",
       "  2290.52,1487.47 2290.52,47.2441 \n",
       "  \"/>\n",
       "<polyline clip-path=\"url(#clip2302)\" style=\"stroke:#000000; stroke-width:2; stroke-opacity:0.1; fill:none\" points=\"\n",
       "  153.898,1174.97 2352.76,1174.97 \n",
       "  \"/>\n",
       "<polyline clip-path=\"url(#clip2302)\" style=\"stroke:#000000; stroke-width:2; stroke-opacity:0.1; fill:none\" points=\"\n",
       "  153.898,767.359 2352.76,767.359 \n",
       "  \"/>\n",
       "<polyline clip-path=\"url(#clip2302)\" style=\"stroke:#000000; stroke-width:2; stroke-opacity:0.1; fill:none\" points=\"\n",
       "  153.898,359.747 2352.76,359.747 \n",
       "  \"/>\n",
       "<polyline clip-path=\"url(#clip2302)\" style=\"stroke:#000000; stroke-width:2; stroke-opacity:0.1; fill:none\" points=\"\n",
       "  153.898,88.0053 2352.76,88.0053 \n",
       "  \"/>\n",
       "<polyline clip-path=\"url(#clip2300)\" style=\"stroke:#000000; stroke-width:4; stroke-opacity:1; fill:none\" points=\"\n",
       "  153.898,1487.47 2352.76,1487.47 \n",
       "  \"/>\n",
       "<polyline clip-path=\"url(#clip2300)\" style=\"stroke:#000000; stroke-width:4; stroke-opacity:1; fill:none\" points=\"\n",
       "  153.898,1487.47 153.898,47.2441 \n",
       "  \"/>\n",
       "<polyline clip-path=\"url(#clip2300)\" style=\"stroke:#000000; stroke-width:4; stroke-opacity:1; fill:none\" points=\"\n",
       "  195.176,1487.47 195.176,1470.19 \n",
       "  \"/>\n",
       "<polyline clip-path=\"url(#clip2300)\" style=\"stroke:#000000; stroke-width:4; stroke-opacity:1; fill:none\" points=\"\n",
       "  719.013,1487.47 719.013,1470.19 \n",
       "  \"/>\n",
       "<polyline clip-path=\"url(#clip2300)\" style=\"stroke:#000000; stroke-width:4; stroke-opacity:1; fill:none\" points=\"\n",
       "  1242.85,1487.47 1242.85,1470.19 \n",
       "  \"/>\n",
       "<polyline clip-path=\"url(#clip2300)\" style=\"stroke:#000000; stroke-width:4; stroke-opacity:1; fill:none\" points=\"\n",
       "  1766.69,1487.47 1766.69,1470.19 \n",
       "  \"/>\n",
       "<polyline clip-path=\"url(#clip2300)\" style=\"stroke:#000000; stroke-width:4; stroke-opacity:1; fill:none\" points=\"\n",
       "  2290.52,1487.47 2290.52,1470.19 \n",
       "  \"/>\n",
       "<polyline clip-path=\"url(#clip2300)\" style=\"stroke:#000000; stroke-width:4; stroke-opacity:1; fill:none\" points=\"\n",
       "  153.898,1174.97 180.284,1174.97 \n",
       "  \"/>\n",
       "<polyline clip-path=\"url(#clip2300)\" style=\"stroke:#000000; stroke-width:4; stroke-opacity:1; fill:none\" points=\"\n",
       "  153.898,767.359 180.284,767.359 \n",
       "  \"/>\n",
       "<polyline clip-path=\"url(#clip2300)\" style=\"stroke:#000000; stroke-width:4; stroke-opacity:1; fill:none\" points=\"\n",
       "  153.898,359.747 180.284,359.747 \n",
       "  \"/>\n",
       "<polyline clip-path=\"url(#clip2300)\" style=\"stroke:#000000; stroke-width:4; stroke-opacity:1; fill:none\" points=\"\n",
       "  153.898,88.0053 180.284,88.0053 \n",
       "  \"/>\n",
       "<g clip-path=\"url(#clip2300)\">\n",
       "<text style=\"fill:#000000; fill-opacity:1; font-family:Arial,Helvetica Neue,Helvetica,sans-serif; font-size:48px; text-anchor:middle;\" transform=\"rotate(0, 195.176, 1541.47)\" x=\"195.176\" y=\"1541.47\">0</text>\n",
       "</g>\n",
       "<g clip-path=\"url(#clip2300)\">\n",
       "<text style=\"fill:#000000; fill-opacity:1; font-family:Arial,Helvetica Neue,Helvetica,sans-serif; font-size:48px; text-anchor:middle;\" transform=\"rotate(0, 719.013, 1541.47)\" x=\"719.013\" y=\"1541.47\">25</text>\n",
       "</g>\n",
       "<g clip-path=\"url(#clip2300)\">\n",
       "<text style=\"fill:#000000; fill-opacity:1; font-family:Arial,Helvetica Neue,Helvetica,sans-serif; font-size:48px; text-anchor:middle;\" transform=\"rotate(0, 1242.85, 1541.47)\" x=\"1242.85\" y=\"1541.47\">50</text>\n",
       "</g>\n",
       "<g clip-path=\"url(#clip2300)\">\n",
       "<text style=\"fill:#000000; fill-opacity:1; font-family:Arial,Helvetica Neue,Helvetica,sans-serif; font-size:48px; text-anchor:middle;\" transform=\"rotate(0, 1766.69, 1541.47)\" x=\"1766.69\" y=\"1541.47\">75</text>\n",
       "</g>\n",
       "<g clip-path=\"url(#clip2300)\">\n",
       "<text style=\"fill:#000000; fill-opacity:1; font-family:Arial,Helvetica Neue,Helvetica,sans-serif; font-size:48px; text-anchor:middle;\" transform=\"rotate(0, 2290.52, 1541.47)\" x=\"2290.52\" y=\"1541.47\">100</text>\n",
       "</g>\n",
       "<g clip-path=\"url(#clip2300)\">\n",
       "<text style=\"fill:#000000; fill-opacity:1; font-family:Arial,Helvetica Neue,Helvetica,sans-serif; font-size:48px; text-anchor:end;\" transform=\"rotate(0, 129.898, 1192.47)\" x=\"129.898\" y=\"1192.47\">1.2</text>\n",
       "</g>\n",
       "<g clip-path=\"url(#clip2300)\">\n",
       "<text style=\"fill:#000000; fill-opacity:1; font-family:Arial,Helvetica Neue,Helvetica,sans-serif; font-size:48px; text-anchor:end;\" transform=\"rotate(0, 129.898, 784.859)\" x=\"129.898\" y=\"784.859\">1.5</text>\n",
       "</g>\n",
       "<g clip-path=\"url(#clip2300)\">\n",
       "<text style=\"fill:#000000; fill-opacity:1; font-family:Arial,Helvetica Neue,Helvetica,sans-serif; font-size:48px; text-anchor:end;\" transform=\"rotate(0, 129.898, 377.247)\" x=\"129.898\" y=\"377.247\">1.8</text>\n",
       "</g>\n",
       "<g clip-path=\"url(#clip2300)\">\n",
       "<text style=\"fill:#000000; fill-opacity:1; font-family:Arial,Helvetica Neue,Helvetica,sans-serif; font-size:48px; text-anchor:end;\" transform=\"rotate(0, 129.898, 105.505)\" x=\"129.898\" y=\"105.505\">2.0</text>\n",
       "</g>\n",
       "<polyline clip-path=\"url(#clip2302)\" style=\"stroke:#009af9; stroke-width:4; stroke-opacity:1; fill:none\" points=\"\n",
       "  216.13,88.0053 237.083,1446.71 258.037,1446.71 278.99,1446.71 299.944,88.0053 320.897,1446.71 341.851,1446.71 362.804,1446.71 383.758,1446.71 404.711,1446.71 \n",
       "  425.665,1446.71 446.618,1446.71 467.572,1446.71 488.525,1446.71 509.478,1446.71 530.432,1446.71 551.385,1446.71 572.339,1446.71 593.292,88.0053 614.246,88.0053 \n",
       "  635.199,1446.71 656.153,1446.71 677.106,88.0053 698.06,88.0053 719.013,88.0053 739.967,88.0053 760.92,88.0053 781.874,88.0053 802.827,88.0053 823.781,88.0053 \n",
       "  844.734,88.0053 865.688,88.0053 886.641,88.0053 907.595,88.0053 928.548,88.0053 949.502,88.0053 970.455,88.0053 991.408,1446.71 1012.36,1446.71 1033.32,1446.71 \n",
       "  1054.27,1446.71 1075.22,1446.71 1096.18,1446.71 1117.13,1446.71 1138.08,1446.71 1159.04,1446.71 1179.99,1446.71 1200.94,1446.71 1221.9,1446.71 1242.85,1446.71 \n",
       "  1263.8,1446.71 1284.76,1446.71 1305.71,1446.71 1326.66,1446.71 1347.62,88.0053 1368.57,1446.71 1389.52,1446.71 1410.48,1446.71 1431.43,1446.71 1452.38,1446.71 \n",
       "  1473.34,88.0053 1494.29,1446.71 1515.25,88.0053 1536.2,1446.71 1557.15,1446.71 1578.11,1446.71 1599.06,1446.71 1620.01,1446.71 1640.97,1446.71 1661.92,1446.71 \n",
       "  1682.87,88.0053 1703.83,88.0053 1724.78,1446.71 1745.73,1446.71 1766.69,1446.71 1787.64,1446.71 1808.59,1446.71 1829.55,88.0053 1850.5,1446.71 1871.45,88.0053 \n",
       "  1892.41,1446.71 1913.36,1446.71 1934.31,1446.71 1955.27,1446.71 1976.22,1446.71 1997.18,88.0053 2018.13,1446.71 2039.08,1446.71 2060.04,1446.71 2080.99,88.0053 \n",
       "  2101.94,88.0053 2122.9,1446.71 2143.85,1446.71 2164.8,1446.71 2185.76,1446.71 2206.71,1446.71 2227.66,1446.71 2248.62,1446.71 2269.57,88.0053 2290.52,88.0053 \n",
       "  \n",
       "  \"/>\n",
       "<polyline clip-path=\"url(#clip2302)\" style=\"stroke:#e26f46; stroke-width:4; stroke-opacity:1; fill:none\" points=\"\n",
       "  216.13,1446.71 237.083,1446.71 258.037,1446.71 278.99,1446.71 299.944,1446.71 320.897,1446.71 341.851,1446.71 362.804,1446.71 383.758,1446.71 404.711,1446.71 \n",
       "  425.665,1446.71 446.618,1446.71 467.572,1446.71 488.525,1446.71 509.478,1446.71 530.432,88.0053 551.385,1446.71 572.339,1446.71 593.292,1446.71 614.246,1446.71 \n",
       "  635.199,1446.71 656.153,1446.71 677.106,88.0053 698.06,88.0053 719.013,88.0053 739.967,88.0053 760.92,88.0053 781.874,88.0053 802.827,88.0053 823.781,88.0053 \n",
       "  844.734,88.0053 865.688,88.0053 886.641,88.0053 907.595,88.0053 928.548,88.0053 949.502,88.0053 970.455,88.0053 991.408,88.0053 1012.36,88.0053 1033.32,1446.71 \n",
       "  1054.27,1446.71 1075.22,1446.71 1096.18,1446.71 1117.13,1446.71 1138.08,1446.71 1159.04,1446.71 1179.99,1446.71 1200.94,1446.71 1221.9,1446.71 1242.85,1446.71 \n",
       "  1263.8,1446.71 1284.76,1446.71 1305.71,1446.71 1326.66,1446.71 1347.62,1446.71 1368.57,1446.71 1389.52,1446.71 1410.48,1446.71 1431.43,1446.71 1452.38,1446.71 \n",
       "  1473.34,88.0053 1494.29,1446.71 1515.25,88.0053 1536.2,1446.71 1557.15,1446.71 1578.11,1446.71 1599.06,1446.71 1620.01,1446.71 1640.97,1446.71 1661.92,1446.71 \n",
       "  1682.87,88.0053 1703.83,88.0053 1724.78,1446.71 1745.73,1446.71 1766.69,1446.71 1787.64,1446.71 1808.59,1446.71 1829.55,1446.71 1850.5,1446.71 1871.45,88.0053 \n",
       "  1892.41,1446.71 1913.36,1446.71 1934.31,1446.71 1955.27,1446.71 1976.22,1446.71 1997.18,1446.71 2018.13,1446.71 2039.08,1446.71 2060.04,1446.71 2080.99,88.0053 \n",
       "  2101.94,88.0053 2122.9,1446.71 2143.85,1446.71 2164.8,1446.71 2185.76,1446.71 2206.71,1446.71 2227.66,1446.71 2248.62,1446.71 2269.57,88.0053 2290.52,1446.71 \n",
       "  \n",
       "  \"/>\n",
       "<path clip-path=\"url(#clip2300)\" d=\"\n",
       "M1989.93 312.204 L2280.76 312.204 L2280.76 130.764 L1989.93 130.764  Z\n",
       "  \" fill=\"#ffffff\" fill-rule=\"evenodd\" fill-opacity=\"1\"/>\n",
       "<polyline clip-path=\"url(#clip2300)\" style=\"stroke:#000000; stroke-width:4; stroke-opacity:1; fill:none\" points=\"\n",
       "  1989.93,312.204 2280.76,312.204 2280.76,130.764 1989.93,130.764 1989.93,312.204 \n",
       "  \"/>\n",
       "<polyline clip-path=\"url(#clip2300)\" style=\"stroke:#009af9; stroke-width:4; stroke-opacity:1; fill:none\" points=\"\n",
       "  2013.93,191.244 2157.93,191.244 \n",
       "  \"/>\n",
       "<g clip-path=\"url(#clip2300)\">\n",
       "<text style=\"fill:#000000; fill-opacity:1; font-family:Arial,Helvetica Neue,Helvetica,sans-serif; font-size:48px; text-anchor:start;\" transform=\"rotate(0, 2181.93, 208.744)\" x=\"2181.93\" y=\"208.744\">y1</text>\n",
       "</g>\n",
       "<polyline clip-path=\"url(#clip2300)\" style=\"stroke:#e26f46; stroke-width:4; stroke-opacity:1; fill:none\" points=\"\n",
       "  2013.93,251.724 2157.93,251.724 \n",
       "  \"/>\n",
       "<g clip-path=\"url(#clip2300)\">\n",
       "<text style=\"fill:#000000; fill-opacity:1; font-family:Arial,Helvetica Neue,Helvetica,sans-serif; font-size:48px; text-anchor:start;\" transform=\"rotate(0, 2181.93, 269.224)\" x=\"2181.93\" y=\"269.224\">y2</text>\n",
       "</g>\n",
       "</svg>\n"
      ]
     },
     "execution_count": 144,
     "metadata": {},
     "output_type": "execute_result"
    }
   ],
   "source": [
    "plot(round.(mean.(s[end])))\n",
    "plot!(argmax.(s_data))"
   ]
  },
  {
   "cell_type": "code",
   "execution_count": null,
   "id": "respective-means",
   "metadata": {},
   "outputs": [],
   "source": []
  }
 ],
 "metadata": {
  "kernelspec": {
   "display_name": "Julia 1.6.0",
   "language": "julia",
   "name": "julia-1.6"
  },
  "language_info": {
   "file_extension": ".jl",
   "mimetype": "application/julia",
   "name": "julia",
   "version": "1.6.0"
  }
 },
 "nbformat": 4,
 "nbformat_minor": 5
}
