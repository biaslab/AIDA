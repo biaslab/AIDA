{
 "cells": [
  {
   "cell_type": "code",
   "execution_count": 1,
   "id": "corrected-interface",
   "metadata": {},
   "outputs": [
    {
     "name": "stderr",
     "output_type": "stream",
     "text": [
      "┌ Info: Precompiling ReactiveMP [a194aa59-28ba-4574-a09c-4a745416d6e3]\n",
      "└ @ Base loading.jl:1317\n",
      "\u001b[33m\u001b[1m┌ \u001b[22m\u001b[39m\u001b[33m\u001b[1mWarning: \u001b[22m\u001b[39mPackage ReactiveMP does not have LineSearches in its dependencies:\n",
      "\u001b[33m\u001b[1m│ \u001b[22m\u001b[39m- If you have ReactiveMP checked out for development and have\n",
      "\u001b[33m\u001b[1m│ \u001b[22m\u001b[39m  added LineSearches as a dependency but haven't updated your primary\n",
      "\u001b[33m\u001b[1m│ \u001b[22m\u001b[39m  environment's manifest file, try `Pkg.resolve()`.\n",
      "\u001b[33m\u001b[1m│ \u001b[22m\u001b[39m- Otherwise you may need to report an issue with ReactiveMP\n",
      "\u001b[33m\u001b[1m└ \u001b[22m\u001b[39mLoading LineSearches into ReactiveMP from project dependency, future warnings for ReactiveMP are suppressed.\n"
     ]
    }
   ],
   "source": [
    "using Revise\n",
    "using Rocket\n",
    "using ReactiveMP\n",
    "using GraphPPL\n",
    "using Distributions\n",
    "using LinearAlgebra\n",
    "import ProgressMeter\n",
    "using WAV\n",
    "using Plots"
   ]
  },
  {
   "cell_type": "code",
   "execution_count": 5,
   "id": "polyphonic-better",
   "metadata": {},
   "outputs": [],
   "source": [
    "# clean speech\n",
    "cl, fs = wavread(\"speech/clean.wav\")\n",
    "σ² = 0.0001\n",
    "# white noise\n",
    "wn = sqrt(σ²)*randn(length(cl))\n",
    "# noised speech\n",
    "ns = cl .+ wn\n",
    "wavwrite(ns, \"speech/noised.wav\")"
   ]
  },
  {
   "cell_type": "code",
   "execution_count": 6,
   "id": "defined-december",
   "metadata": {},
   "outputs": [],
   "source": [
    "# dividing into 10ms frames with 2.5ms overlap\n",
    "start = 1\n",
    "l = Int(round(0.01*fs))\n",
    "overlap = Int(round(0.0025*fs))\n",
    "totseg = Int(ceil(length(ns)/(l-overlap)))\n",
    "segment = zeros(totseg, l)\n",
    "zseg = zeros(totseg, l)\n",
    "for i in 1:totseg - 1\n",
    "    global start\n",
    "    segment[i,1:l]=ns[start:start+l-1]\n",
    "    zseg[i, 1:l] = cl[start:start+l-1]\n",
    "    start = (l-overlap)*i+1\n",
    "end\n",
    "segment[totseg, 1:length(ns)-start+1] = ns[start:length(ns)]\n",
    "zseg[totseg, 1:length(cl)-start+1] = cl[start:length(cl)];"
   ]
  },
  {
   "cell_type": "code",
   "execution_count": 7,
   "id": "fresh-drawing",
   "metadata": {},
   "outputs": [
    {
     "data": {
      "text/plain": [
       "ar_ssm (generic function with 1 method)"
      ]
     },
     "execution_count": 7,
     "metadata": {},
     "output_type": "execute_result"
    }
   ],
   "source": [
    "function ar_ssm(series, order)\n",
    "    inputs = [reverse!(series[1:order])]\n",
    "    outputs = [series[order + 1]]\n",
    "    for x in series[order+2:end]\n",
    "        push!(inputs, vcat(outputs[end], inputs[end])[1:end-1])\n",
    "        push!(outputs, x)\n",
    "    end\n",
    "    return inputs, outputs\n",
    "end"
   ]
  },
  {
   "cell_type": "code",
   "execution_count": 90,
   "id": "headed-conclusion",
   "metadata": {},
   "outputs": [
    {
     "data": {
      "text/plain": [
       "lar_model (generic function with 1 method)"
      ]
     },
     "execution_count": 90,
     "metadata": {},
     "output_type": "execute_result"
    }
   ],
   "source": [
    "@model function lar_model(n, order, artype, c)\n",
    "\n",
    "    x = randomvar(n)\n",
    "    y = datavar(Float64, n)\n",
    "\n",
    "    γ ~ GammaShapeRate(1.0, 1.0) where {q=MeanField()}\n",
    "    θ ~ MvNormalMeanPrecision(randn(order), Matrix{Float64}(I, order, order)) where {q=MeanField()}\n",
    "    x0 ~ MvNormalMeanPrecision(100.0 * ones(order), Matrix{Float64}(I, order, order)) where {q=MeanField()}\n",
    "\n",
    "    x_prev = x0\n",
    "\n",
    "    ct  = constvar(c)\n",
    "    γ_y = constvar(1.0)\n",
    "\n",
    "    ar_nodes = Vector{FactorNode}(undef, n)\n",
    "\n",
    "    for i in 1:n\n",
    "        ar_nodes[i], x[i] ~ AR(x_prev, θ, γ) where { q = q(y, x)q(γ)q(θ), meta = ARMeta(artype, order, ARsafe) }\n",
    "\n",
    "        y[i] ~ NormalMeanPrecision(dot(ct, x[i]), γ_y) where {q=MeanField()}\n",
    "\n",
    "        x_prev = x[i]\n",
    "    end\n",
    "\n",
    "    return x, y, θ, γ, ar_nodes\n",
    "end"
   ]
  },
  {
   "cell_type": "code",
   "execution_count": 106,
   "id": "endangered-bunch",
   "metadata": {},
   "outputs": [
    {
     "data": {
      "text/plain": [
       "inference_lar (generic function with 1 method)"
      ]
     },
     "execution_count": 106,
     "metadata": {},
     "output_type": "execute_result"
    }
   ],
   "source": [
    "function inference_lar(data, order, niter)\n",
    "    n = length(data)\n",
    "    artype = Multivariate\n",
    "    c = zeros(order); c[1] = 1.0\n",
    "    model, (x, y, θ, γ, ar_nodes) = lar_model(n, order, artype, c)\n",
    "\n",
    "    γ_buffer = nothing\n",
    "    θ_buffer = nothing\n",
    "    x_buffer = Vector{Marginal}(undef, n)\n",
    "    fe = Vector{Float64}()\n",
    "\n",
    "    γsub = subscribe!(getmarginal(γ), (mγ) -> γ_buffer = mγ)\n",
    "    θsub = subscribe!(getmarginal(θ), (mθ) -> θ_buffer = mθ)\n",
    "    xsub = subscribe!(getmarginals(x), (mx) -> copyto!(x_buffer, mx))\n",
    "    fesub = subscribe!(score(Float64, BetheFreeEnergy(), model), (f) -> push!(fe, f))\n",
    "\n",
    "    setmarginal!(γ, GammaShapeRate(1.0, 1.0))\n",
    "    setmarginal!(θ, MvNormalMeanPrecision(zeros(order), Matrix{Float64}(I, order, order)))\n",
    "\n",
    "#     for i in 1:n\n",
    "#         setmarginal!(ar_nodes[i], :y_x, MvNormalMeanPrecision(100.0 * ones(2*order), Matrix{Float64}(I, 2*order, 2*order)))\n",
    "#     end\n",
    "\n",
    "    ProgressMeter.@showprogress for i in 1:niter\n",
    "        update!(y, data)\n",
    "    end\n",
    "\n",
    "    unsubscribe!(γsub)\n",
    "    unsubscribe!(θsub)\n",
    "    unsubscribe!(xsub)\n",
    "    unsubscribe!(fesub)\n",
    "\n",
    "    return γ_buffer, θ_buffer, x_buffer, fe\n",
    "end"
   ]
  },
  {
   "cell_type": "code",
   "execution_count": 95,
   "id": "silver-walnut",
   "metadata": {},
   "outputs": [
    {
     "data": {
      "text/plain": [
       "gaussian_model (generic function with 2 methods)"
      ]
     },
     "execution_count": 95,
     "metadata": {},
     "output_type": "execute_result"
    }
   ],
   "source": [
    "@model function gaussian_model(n)\n",
    "\n",
    "    y = datavar(Float64, n)\n",
    "\n",
    "    γ ~ GammaShapeRate(1.0, 1.0) where {q=MeanField()}\n",
    "    x ~ NormalMeanPrecision(0.0, 1.0) where {q=MeanField()}\n",
    "\n",
    "    for i in 1:n\n",
    "        y[i] ~ NormalMeanPrecision(x, γ) where {q=MeanField()}\n",
    "    end\n",
    "\n",
    "    return y, x, γ\n",
    "end"
   ]
  },
  {
   "cell_type": "code",
   "execution_count": 96,
   "id": "outdoor-fifteen",
   "metadata": {},
   "outputs": [
    {
     "data": {
      "text/plain": [
       "inference_gaussian (generic function with 1 method)"
      ]
     },
     "execution_count": 96,
     "metadata": {},
     "output_type": "execute_result"
    }
   ],
   "source": [
    "function inference_gaussian(outputs, niter)\n",
    "    n = length(outputs)\n",
    "    model, (y, x, γ) = gaussian_model(n, options = (limit_stack_depth = 500, ))\n",
    "\n",
    "    γ_buffer = nothing\n",
    "    x_buffer = nothing\n",
    "    fe = Vector{Float64}()\n",
    "\n",
    "    γsub = subscribe!(getmarginal(γ), (my) -> γ_buffer = my)\n",
    "    xsub = subscribe!(getmarginal(x), (mx) -> x_buffer = mx)\n",
    "    fesub = subscribe!(score(Float64, BetheFreeEnergy(), model), (f) -> push!(fe, f))\n",
    "\n",
    "    setmarginal!(γ, GammaShapeRate(1.0, 1.0))\n",
    "\n",
    "    for i in 1:niter\n",
    "        update!(y, outputs)\n",
    "    end\n",
    "\n",
    "    unsubscribe!(γsub)\n",
    "    unsubscribe!(xsub)\n",
    "    unsubscribe!(fesub)\n",
    "\n",
    "    return x_buffer, γ_buffer, fe\n",
    "end"
   ]
  },
  {
   "cell_type": "code",
   "execution_count": 97,
   "id": "collect-motivation",
   "metadata": {},
   "outputs": [],
   "source": [
    "ar_order = 10\n",
    "vmp_iter = 10\n",
    "fe_ar = zeros(totseg, vmp_iter)\n",
    "fe_gaussian = zeros(totseg, vmp_iter);"
   ]
  },
  {
   "cell_type": "code",
   "execution_count": 98,
   "id": "chicken-defendant",
   "metadata": {},
   "outputs": [
    {
     "ename": "LoadError",
     "evalue": "MethodError: no method matching iterate(::Rocket.CollectLatestObservable{Marginal, Vector{ProxyObservable{Marginal, ReactiveMP.MarginalObservable, Rocket.FilterProxy{ReactiveMP.var\"#30#31\"}}}, Vector{Marginal}, typeof(copy)})\n\u001b[0mClosest candidates are:\n\u001b[0m  iterate(\u001b[91m::Union{LinRange, StepRangeLen}\u001b[39m) at range.jl:664\n\u001b[0m  iterate(\u001b[91m::Union{LinRange, StepRangeLen}\u001b[39m, \u001b[91m::Int64\u001b[39m) at range.jl:664\n\u001b[0m  iterate(\u001b[91m::T\u001b[39m) where T<:Union{Base.KeySet{var\"#s79\", var\"#s78\"} where {var\"#s79\", var\"#s78\"<:Dict}, Base.ValueIterator{var\"#s77\"} where var\"#s77\"<:Dict} at dict.jl:693\n\u001b[0m  ...",
     "output_type": "error",
     "traceback": [
      "MethodError: no method matching iterate(::Rocket.CollectLatestObservable{Marginal, Vector{ProxyObservable{Marginal, ReactiveMP.MarginalObservable, Rocket.FilterProxy{ReactiveMP.var\"#30#31\"}}}, Vector{Marginal}, typeof(copy)})\n\u001b[0mClosest candidates are:\n\u001b[0m  iterate(\u001b[91m::Union{LinRange, StepRangeLen}\u001b[39m) at range.jl:664\n\u001b[0m  iterate(\u001b[91m::Union{LinRange, StepRangeLen}\u001b[39m, \u001b[91m::Int64\u001b[39m) at range.jl:664\n\u001b[0m  iterate(\u001b[91m::T\u001b[39m) where T<:Union{Base.KeySet{var\"#s79\", var\"#s78\"} where {var\"#s79\", var\"#s78\"<:Dict}, Base.ValueIterator{var\"#s77\"} where var\"#s77\"<:Dict} at dict.jl:693\n\u001b[0m  ...",
      "",
      "Stacktrace:",
      "  [1] iterate",
      "    @ ./generator.jl:44 [inlined]",
      "  [2] collect(itr::Base.Generator{Rocket.CollectLatestObservable{Marginal, Vector{ProxyObservable{Marginal, ReactiveMP.MarginalObservable, Rocket.FilterProxy{ReactiveMP.var\"#30#31\"}}}, Vector{Marginal}, typeof(copy)}, Rocket.var\"#5#6\"})",
      "    @ Base ./array.jl:678",
      "  [3] map(f::Function, A::Rocket.CollectLatestObservable{Marginal, Vector{ProxyObservable{Marginal, ReactiveMP.MarginalObservable, Rocket.FilterProxy{ReactiveMP.var\"#30#31\"}}}, Vector{Marginal}, typeof(copy)})",
      "    @ Base ./abstractarray.jl:2323",
      "  [4] union_type(sources::Rocket.CollectLatestObservable{Marginal, Vector{ProxyObservable{Marginal, ReactiveMP.MarginalObservable, Rocket.FilterProxy{ReactiveMP.var\"#30#31\"}}}, Vector{Marginal}, typeof(copy)})",
      "    @ Rocket ~/.julia/packages/Rocket/wveOj/src/utils.jl:55",
      "  [5] collectLatest(sources::Rocket.CollectLatestObservable{Marginal, Vector{ProxyObservable{Marginal, ReactiveMP.MarginalObservable, Rocket.FilterProxy{ReactiveMP.var\"#30#31\"}}}, Vector{Marginal}, typeof(copy)}, mappingFn::typeof(copy)) (repeats 2 times)",
      "    @ Rocket ~/.julia/packages/Rocket/wveOj/src/observable/collected.jl:39",
      "  [6] inference_lar(data::Vector{Float64}, order::Int64, niter::Int64)",
      "    @ Main ./In[94]:14",
      "  [7] macro expansion",
      "    @ ./In[98]:3 [inlined]",
      "  [8] top-level scope",
      "    @ ~/.julia/packages/ProgressMeter/TpeOV/src/ProgressMeter.jl:599",
      "  [9] eval",
      "    @ ./boot.jl:360 [inlined]",
      " [10] include_string(mapexpr::typeof(REPL.softscope), mod::Module, code::String, filename::String)",
      "    @ Base ./loading.jl:1094"
     ]
    }
   ],
   "source": [
    "ProgressMeter.@showprogress for segnum in 1:totseg\n",
    "    inputs, outputs = ar_ssm(zseg[segnum, :], ar_order)\n",
    "    γ, θ, x, fe = inference_lar(outputs, ar_order, vmp_iter)\n",
    "    mθ, vθ = mean(θ), cov(θ)\n",
    "    mγ = mean(γ)\n",
    "    fe_ar[segnum, :] = fe\n",
    "    \n",
    "    x, γ, fe = inference_gaussian(outputs, vmp_iter)\n",
    "    mx, vx = mean(x), cov(x)\n",
    "    mγ = mean(γ)\n",
    "    fe_gaussian[segnum, :] = fe\n",
    "end"
   ]
  },
  {
   "cell_type": "code",
   "execution_count": 108,
   "id": "arbitrary-stake",
   "metadata": {},
   "outputs": [
    {
     "ename": "LoadError",
     "evalue": "MethodError: no method matching ar_y_x_marginal(::Type{ARsafe}, ::MvNormalWeightedMeanPrecision{Float64, Vector{Float64}, Matrix{Float64}}, ::MvNormalMeanPrecision{Float64, Vector{Float64}, Matrix{Float64}}, ::MvNormalMeanPrecision{Float64, Vector{Float64}, Matrix{Float64}}, ::GammaShapeRate{Float64}, ::ARMeta{Multivariate, DataType})\n\u001b[0mClosest candidates are:\n\u001b[0m  ar_y_x_marginal(\u001b[91m::ARsafe\u001b[39m, ::Union{GaussianDistributionsFamily{T}, NormalDistributionsFamily{T}} where T, ::Union{GaussianDistributionsFamily{T}, NormalDistributionsFamily{T}} where T, ::Union{GaussianDistributionsFamily{T}, NormalDistributionsFamily{T}} where T, ::GammaShapeRate, ::ARMeta) at /Users/apodusenko/.julia/dev/ReactiveMP/src/rules/autoregressive/marginals.jl:7\n\u001b[0m  ar_y_x_marginal(\u001b[91m::ARunsafe\u001b[39m, ::Union{GaussianDistributionsFamily{T}, NormalDistributionsFamily{T}} where T, ::Union{GaussianDistributionsFamily{T}, NormalDistributionsFamily{T}} where T, ::Union{GaussianDistributionsFamily{T}, NormalDistributionsFamily{T}} where T, ::GammaShapeRate, ::ARMeta) at /Users/apodusenko/.julia/dev/ReactiveMP/src/rules/autoregressive/marginals.jl:23",
     "output_type": "error",
     "traceback": [
      "MethodError: no method matching ar_y_x_marginal(::Type{ARsafe}, ::MvNormalWeightedMeanPrecision{Float64, Vector{Float64}, Matrix{Float64}}, ::MvNormalMeanPrecision{Float64, Vector{Float64}, Matrix{Float64}}, ::MvNormalMeanPrecision{Float64, Vector{Float64}, Matrix{Float64}}, ::GammaShapeRate{Float64}, ::ARMeta{Multivariate, DataType})\n\u001b[0mClosest candidates are:\n\u001b[0m  ar_y_x_marginal(\u001b[91m::ARsafe\u001b[39m, ::Union{GaussianDistributionsFamily{T}, NormalDistributionsFamily{T}} where T, ::Union{GaussianDistributionsFamily{T}, NormalDistributionsFamily{T}} where T, ::Union{GaussianDistributionsFamily{T}, NormalDistributionsFamily{T}} where T, ::GammaShapeRate, ::ARMeta) at /Users/apodusenko/.julia/dev/ReactiveMP/src/rules/autoregressive/marginals.jl:7\n\u001b[0m  ar_y_x_marginal(\u001b[91m::ARunsafe\u001b[39m, ::Union{GaussianDistributionsFamily{T}, NormalDistributionsFamily{T}} where T, ::Union{GaussianDistributionsFamily{T}, NormalDistributionsFamily{T}} where T, ::Union{GaussianDistributionsFamily{T}, NormalDistributionsFamily{T}} where T, ::GammaShapeRate, ::ARMeta) at /Users/apodusenko/.julia/dev/ReactiveMP/src/rules/autoregressive/marginals.jl:23",
      "",
      "Stacktrace:",
      "    [1] macro expansion",
      "      @ ~/.julia/dev/ReactiveMP/src/rules/autoregressive/marginals.jl:4 [inlined]",
      "    [2] marginalrule(fform::Type{AR}, on::Type{Val{:y_x}}, messages_names::Type{Val{(:y, :x)}}, messages::Tuple{Message{MvNormalWeightedMeanPrecision{Float64, Vector{Float64}, Matrix{Float64}}}, Message{MvNormalMeanPrecision{Float64, Vector{Float64}, Matrix{Float64}}}}, marginals_names::Type{Val{(:θ, :γ)}}, marginals::Tuple{Marginal{MvNormalMeanPrecision{Float64, Vector{Float64}, Matrix{Float64}}}, Marginal{GammaShapeRate{Float64}}}, meta::ARMeta{Multivariate, DataType}, __node::FactorNode{Type{AR}, NTuple{4, NodeInterface}, Tuple{Tuple{Int64, Int64}, Tuple{Int64}, Tuple{Int64}}, ReactiveMP.FactorNodeLocalMarginals{Tuple{ReactiveMP.FactorNodeLocalMarginal, ReactiveMP.FactorNodeLocalMarginal, ReactiveMP.FactorNodeLocalMarginal}}, ARMeta{Multivariate, DataType}, EmptyPortal})",
      "      @ ReactiveMP ~/.julia/dev/ReactiveMP/src/rule.jl:293",
      "    [3] (::ReactiveMP.var\"#230#233\"{DataType, DataType, DataType, DataType, ARMeta{Multivariate, DataType}, FactorNode{Type{AR}, NTuple{4, NodeInterface}, Tuple{Tuple{Int64, Int64}, Tuple{Int64}, Tuple{Int64}}, ReactiveMP.FactorNodeLocalMarginals{Tuple{ReactiveMP.FactorNodeLocalMarginal, ReactiveMP.FactorNodeLocalMarginal, ReactiveMP.FactorNodeLocalMarginal}}, ARMeta{Multivariate, DataType}, EmptyPortal}})(dependencies::Tuple{Tuple{Message{MvNormalWeightedMeanPrecision{Float64, Vector{Float64}, Matrix{Float64}}}, Message{MvNormalMeanPrecision{Float64, Vector{Float64}, Matrix{Float64}}}}, Tuple{ReactiveMP.MarginalObservable, ReactiveMP.MarginalObservable}})",
      "      @ ReactiveMP ~/.julia/dev/ReactiveMP/src/node.jl:557",
      "    [4] on_next!(actor::Rocket.MapActor{Tuple{Tuple{ReactiveMP.AbstractMessage, ReactiveMP.AbstractMessage}, Tuple{ReactiveMP.MarginalObservable, ReactiveMP.MarginalObservable}}, Rocket.RecentSubjectInstance{Marginal, Subject{Marginal, AsapScheduler, AsapScheduler}}, ReactiveMP.var\"#230#233\"{DataType, DataType, DataType, DataType, ARMeta{Multivariate, DataType}, FactorNode{Type{AR}, NTuple{4, NodeInterface}, Tuple{Tuple{Int64, Int64}, Tuple{Int64}, Tuple{Int64}}, ReactiveMP.FactorNodeLocalMarginals{Tuple{ReactiveMP.FactorNodeLocalMarginal, ReactiveMP.FactorNodeLocalMarginal, ReactiveMP.FactorNodeLocalMarginal}}, ARMeta{Multivariate, DataType}, EmptyPortal}}}, data::Tuple{Tuple{Message{MvNormalWeightedMeanPrecision{Float64, Vector{Float64}, Matrix{Float64}}}, Message{MvNormalMeanPrecision{Float64, Vector{Float64}, Matrix{Float64}}}}, Tuple{ReactiveMP.MarginalObservable, ReactiveMP.MarginalObservable}})",
      "      @ Rocket ~/.julia/packages/Rocket/wveOj/src/operators/map.jl:60",
      "    [5] next!(actor::Rocket.MapActor{Tuple{Tuple{ReactiveMP.AbstractMessage, ReactiveMP.AbstractMessage}, Tuple{ReactiveMP.MarginalObservable, ReactiveMP.MarginalObservable}}, Rocket.RecentSubjectInstance{Marginal, Subject{Marginal, AsapScheduler, AsapScheduler}}, ReactiveMP.var\"#230#233\"{DataType, DataType, DataType, DataType, ARMeta{Multivariate, DataType}, FactorNode{Type{AR}, NTuple{4, NodeInterface}, Tuple{Tuple{Int64, Int64}, Tuple{Int64}, Tuple{Int64}}, ReactiveMP.FactorNodeLocalMarginals{Tuple{ReactiveMP.FactorNodeLocalMarginal, ReactiveMP.FactorNodeLocalMarginal, ReactiveMP.FactorNodeLocalMarginal}}, ARMeta{Multivariate, DataType}, EmptyPortal}}}, data::Tuple{Tuple{Message{MvNormalWeightedMeanPrecision{Float64, Vector{Float64}, Matrix{Float64}}}, Message{MvNormalMeanPrecision{Float64, Vector{Float64}, Matrix{Float64}}}}, Tuple{ReactiveMP.MarginalObservable, ReactiveMP.MarginalObservable}})",
      "      @ Rocket ~/.julia/packages/Rocket/wveOj/src/actor.jl:206",
      "    [6] on_next!",
      "      @ ~/.julia/packages/Rocket/wveOj/src/operators/discontinue.jl:67 [inlined]",
      "    [7] next!",
      "      @ ~/.julia/packages/Rocket/wveOj/src/actor.jl:206 [inlined]",
      "    [8] next_received!(wrapper::Rocket.CombineLatestActorWrapper{Rocket.MStorage2{Tuple{ReactiveMP.AbstractMessage, ReactiveMP.AbstractMessage}, Tuple{ReactiveMP.MarginalObservable, ReactiveMP.MarginalObservable}}, Rocket.DiscontinueActor{Tuple{Tuple{ReactiveMP.AbstractMessage, ReactiveMP.AbstractMessage}, Tuple{ReactiveMP.MarginalObservable, ReactiveMP.MarginalObservable}}, Rocket.MapActor{Tuple{Tuple{ReactiveMP.AbstractMessage, ReactiveMP.AbstractMessage}, Tuple{ReactiveMP.MarginalObservable, ReactiveMP.MarginalObservable}}, Rocket.RecentSubjectInstance{Marginal, Subject{Marginal, AsapScheduler, AsapScheduler}}, ReactiveMP.var\"#230#233\"{DataType, DataType, DataType, DataType, ARMeta{Multivariate, DataType}, FactorNode{Type{AR}, NTuple{4, NodeInterface}, Tuple{Tuple{Int64, Int64}, Tuple{Int64}, Tuple{Int64}}, ReactiveMP.FactorNodeLocalMarginals{Tuple{ReactiveMP.FactorNodeLocalMarginal, ReactiveMP.FactorNodeLocalMarginal, ReactiveMP.FactorNodeLocalMarginal}}, ARMeta{Multivariate, DataType}, EmptyPortal}}}}, PushNew}, data::Tuple{Message{MvNormalWeightedMeanPrecision{Float64, Vector{Float64}, Matrix{Float64}}}, Message{MvNormalMeanPrecision{Float64, Vector{Float64}, Matrix{Float64}}}}, index::Val{1})",
      "      @ Rocket ~/.julia/packages/Rocket/wveOj/src/observable/combined.jl:181",
      "    [9] on_next!",
      "      @ ~/.julia/packages/Rocket/wveOj/src/observable/combined.jl:139 [inlined]",
      "   [10] next!(actor::Rocket.CombineLatestInnerActor{Tuple{ReactiveMP.AbstractMessage, ReactiveMP.AbstractMessage}, Rocket.CombineLatestActorWrapper{Rocket.MStorage2{Tuple{ReactiveMP.AbstractMessage, ReactiveMP.AbstractMessage}, Tuple{ReactiveMP.MarginalObservable, ReactiveMP.MarginalObservable}}, Rocket.DiscontinueActor{Tuple{Tuple{ReactiveMP.AbstractMessage, ReactiveMP.AbstractMessage}, Tuple{ReactiveMP.MarginalObservable, ReactiveMP.MarginalObservable}}, Rocket.MapActor{Tuple{Tuple{ReactiveMP.AbstractMessage, ReactiveMP.AbstractMessage}, Tuple{ReactiveMP.MarginalObservable, ReactiveMP.MarginalObservable}}, Rocket.RecentSubjectInstance{Marginal, Subject{Marginal, AsapScheduler, AsapScheduler}}, ReactiveMP.var\"#230#233\"{DataType, DataType, DataType, DataType, ARMeta{Multivariate, DataType}, FactorNode{Type{AR}, NTuple{4, NodeInterface}, Tuple{Tuple{Int64, Int64}, Tuple{Int64}, Tuple{Int64}}, ReactiveMP.FactorNodeLocalMarginals{Tuple{ReactiveMP.FactorNodeLocalMarginal, ReactiveMP.FactorNodeLocalMarginal, ReactiveMP.FactorNodeLocalMarginal}}, ARMeta{Multivariate, DataType}, EmptyPortal}}}}, PushNew}, 1}, data::Tuple{Message{MvNormalWeightedMeanPrecision{Float64, Vector{Float64}, Matrix{Float64}}}, Message{MvNormalMeanPrecision{Float64, Vector{Float64}, Matrix{Float64}}}})",
      "      @ Rocket ~/.julia/packages/Rocket/wveOj/src/actor.jl:206",
      "--- the last 3 lines are repeated 1 more time ---",
      "   [14] next_received!(wrapper::Rocket.CollectLatestObservableWrapper{ReactiveMP.AbstractMessage, Rocket.CombineLatestInnerActor{ReactiveMP.AbstractMessage, Rocket.CombineLatestActorWrapper{Rocket.MStorage2{ReactiveMP.AbstractMessage, ReactiveMP.AbstractMessage}, Rocket.CombineLatestInnerActor{Tuple{ReactiveMP.AbstractMessage, ReactiveMP.AbstractMessage}, Rocket.CombineLatestActorWrapper{Rocket.MStorage2{Tuple{ReactiveMP.AbstractMessage, ReactiveMP.AbstractMessage}, Tuple{ReactiveMP.MarginalObservable, ReactiveMP.MarginalObservable}}, Rocket.DiscontinueActor{Tuple{Tuple{ReactiveMP.AbstractMessage, ReactiveMP.AbstractMessage}, Tuple{ReactiveMP.MarginalObservable, ReactiveMP.MarginalObservable}}, Rocket.MapActor{Tuple{Tuple{ReactiveMP.AbstractMessage, ReactiveMP.AbstractMessage}, Tuple{ReactiveMP.MarginalObservable, ReactiveMP.MarginalObservable}}, Rocket.RecentSubjectInstance{Marginal, Subject{Marginal, AsapScheduler, AsapScheduler}}, ReactiveMP.var\"#230#233\"{DataType, DataType, DataType, DataType, ARMeta{Multivariate, DataType}, FactorNode{Type{AR}, NTuple{4, NodeInterface}, Tuple{Tuple{Int64, Int64}, Tuple{Int64}, Tuple{Int64}}, ReactiveMP.FactorNodeLocalMarginals{Tuple{ReactiveMP.FactorNodeLocalMarginal, ReactiveMP.FactorNodeLocalMarginal, ReactiveMP.FactorNodeLocalMarginal}}, ARMeta{Multivariate, DataType}, EmptyPortal}}}}, PushNew}, 1}, PushNew}, 1}, Vector{ReactiveMP.AbstractMessage}, BitVector, Vector{Teardown}, typeof(ReactiveMP.reduce_messages)}, data::ReactiveMP.VariationalMessage{Tuple{Message{MvNormalWeightedMeanPrecision{Float64, Vector{Float64}, Matrix{Float64}}}}, Tuple{ReactiveMP.MarginalObservable, ReactiveMP.MarginalObservable}, ReactiveMP.var\"#222#225\"{DataType, DataType, Marginalisation, DataType, DataType, ARMeta{Multivariate, DataType}, FactorNode{Type{AR}, NTuple{4, NodeInterface}, Tuple{Tuple{Int64, Int64}, Tuple{Int64}, Tuple{Int64}}, ReactiveMP.FactorNodeLocalMarginals{Tuple{ReactiveMP.FactorNodeLocalMarginal, ReactiveMP.FactorNodeLocalMarginal, ReactiveMP.FactorNodeLocalMarginal}}, ARMeta{Multivariate, DataType}, EmptyPortal}}}, index::CartesianIndex{1})",
      "      @ Rocket ~/.julia/packages/Rocket/wveOj/src/observable/collected.jl:95",
      "   [15] on_next!",
      "      @ ~/.julia/packages/Rocket/wveOj/src/observable/collected.jl:85 [inlined]",
      "   [16] scheduled_next!(actor::Rocket.CollectLatestObservableInnerActor{ReactiveMP.AbstractMessage, CartesianIndex{1}, Rocket.CollectLatestObservableWrapper{ReactiveMP.AbstractMessage, Rocket.CombineLatestInnerActor{ReactiveMP.AbstractMessage, Rocket.CombineLatestActorWrapper{Rocket.MStorage2{ReactiveMP.AbstractMessage, ReactiveMP.AbstractMessage}, Rocket.CombineLatestInnerActor{Tuple{ReactiveMP.AbstractMessage, ReactiveMP.AbstractMessage}, Rocket.CombineLatestActorWrapper{Rocket.MStorage2{Tuple{ReactiveMP.AbstractMessage, ReactiveMP.AbstractMessage}, Tuple{ReactiveMP.MarginalObservable, ReactiveMP.MarginalObservable}}, Rocket.DiscontinueActor{Tuple{Tuple{ReactiveMP.AbstractMessage, ReactiveMP.AbstractMessage}, Tuple{ReactiveMP.MarginalObservable, ReactiveMP.MarginalObservable}}, Rocket.MapActor{Tuple{Tuple{ReactiveMP.AbstractMessage, ReactiveMP.AbstractMessage}, Tuple{ReactiveMP.MarginalObservable, ReactiveMP.MarginalObservable}}, Rocket.RecentSubjectInstance{Marginal, Subject{Marginal, AsapScheduler, AsapScheduler}}, ReactiveMP.var\"#230#233\"{DataType, DataType, DataType, DataType, ARMeta{Multivariate, DataType}, FactorNode{Type{AR}, NTuple{4, NodeInterface}, Tuple{Tuple{Int64, Int64}, Tuple{Int64}, Tuple{Int64}}, ReactiveMP.FactorNodeLocalMarginals{Tuple{ReactiveMP.FactorNodeLocalMarginal, ReactiveMP.FactorNodeLocalMarginal, ReactiveMP.FactorNodeLocalMarginal}}, ARMeta{Multivariate, DataType}, EmptyPortal}}}}, PushNew}, 1}, PushNew}, 1}, Vector{ReactiveMP.AbstractMessage}, BitVector, Vector{Teardown}, typeof(ReactiveMP.reduce_messages)}}, value::ReactiveMP.VariationalMessage{Tuple{Message{MvNormalWeightedMeanPrecision{Float64, Vector{Float64}, Matrix{Float64}}}}, Tuple{ReactiveMP.MarginalObservable, ReactiveMP.MarginalObservable}, ReactiveMP.var\"#222#225\"{DataType, DataType, Marginalisation, DataType, DataType, ARMeta{Multivariate, DataType}, FactorNode{Type{AR}, NTuple{4, NodeInterface}, Tuple{Tuple{Int64, Int64}, Tuple{Int64}, Tuple{Int64}}, ReactiveMP.FactorNodeLocalMarginals{Tuple{ReactiveMP.FactorNodeLocalMarginal, ReactiveMP.FactorNodeLocalMarginal, ReactiveMP.FactorNodeLocalMarginal}}, ARMeta{Multivariate, DataType}, EmptyPortal}}}, #unused#::AsapScheduler)",
      "      @ Rocket ~/.julia/packages/Rocket/wveOj/src/schedulers/asap.jl:23",
      "   [17] on_next!(subject::Subject{ReactiveMP.AbstractMessage, AsapScheduler, AsapScheduler}, data::ReactiveMP.VariationalMessage{Tuple{Message{MvNormalWeightedMeanPrecision{Float64, Vector{Float64}, Matrix{Float64}}}}, Tuple{ReactiveMP.MarginalObservable, ReactiveMP.MarginalObservable}, ReactiveMP.var\"#222#225\"{DataType, DataType, Marginalisation, DataType, DataType, ARMeta{Multivariate, DataType}, FactorNode{Type{AR}, NTuple{4, NodeInterface}, Tuple{Tuple{Int64, Int64}, Tuple{Int64}, Tuple{Int64}}, ReactiveMP.FactorNodeLocalMarginals{Tuple{ReactiveMP.FactorNodeLocalMarginal, ReactiveMP.FactorNodeLocalMarginal, ReactiveMP.FactorNodeLocalMarginal}}, ARMeta{Multivariate, DataType}, EmptyPortal}}})",
      "      @ Rocket ~/.julia/packages/Rocket/wveOj/src/subjects/subject.jl:62",
      "   [18] actor_on_next!",
      "      @ ~/.julia/packages/Rocket/wveOj/src/actor.jl:250 [inlined]",
      "   [19] next!",
      "      @ ~/.julia/packages/Rocket/wveOj/src/actor.jl:202 [inlined]",
      "   [20] on_next!",
      "      @ ~/.julia/packages/Rocket/wveOj/src/subjects/recent.jl:62 [inlined]",
      "   [21] actor_on_next!",
      "      @ ~/.julia/packages/Rocket/wveOj/src/actor.jl:250 [inlined]",
      "   [22] next!",
      "      @ ~/.julia/packages/Rocket/wveOj/src/actor.jl:202 [inlined]",
      "   [23] on_next!",
      "      @ ~/.julia/packages/Rocket/wveOj/src/operators/map.jl:60 [inlined]",
      "   [24] next!(actor::Rocket.MapActor{Tuple{Tuple{ReactiveMP.AbstractMessage}, Tuple{ReactiveMP.MarginalObservable, ReactiveMP.MarginalObservable}}, Rocket.RecentSubjectInstance{ReactiveMP.AbstractMessage, Subject{ReactiveMP.AbstractMessage, AsapScheduler, AsapScheduler}}, ReactiveMP.var\"#220#221\"{ReactiveMP.var\"#222#225\"{DataType, DataType, Marginalisation, DataType, DataType, ARMeta{Multivariate, DataType}, FactorNode{Type{AR}, NTuple{4, NodeInterface}, Tuple{Tuple{Int64, Int64}, Tuple{Int64}, Tuple{Int64}}, ReactiveMP.FactorNodeLocalMarginals{Tuple{ReactiveMP.FactorNodeLocalMarginal, ReactiveMP.FactorNodeLocalMarginal, ReactiveMP.FactorNodeLocalMarginal}}, ARMeta{Multivariate, DataType}, EmptyPortal}}}}, data::Tuple{Tuple{Message{MvNormalWeightedMeanPrecision{Float64, Vector{Float64}, Matrix{Float64}}}}, Tuple{ReactiveMP.MarginalObservable, ReactiveMP.MarginalObservable}})",
      "      @ Rocket ~/.julia/packages/Rocket/wveOj/src/actor.jl:206",
      "--- the last 17 lines are repeated 69 more times ---",
      " [1198] next_received!(wrapper::Rocket.CombineLatestActorWrapper{Rocket.MStorage2{Tuple{ReactiveMP.AbstractMessage, ReactiveMP.AbstractMessage}, Nothing}, Rocket.MapActor{Tuple{Tuple{ReactiveMP.AbstractMessage, ReactiveMP.AbstractMessage}, Nothing}, Rocket.RecentSubjectInstance{ReactiveMP.AbstractMessage, Subject{ReactiveMP.AbstractMessage, AsapScheduler, AsapScheduler}}, ReactiveMP.var\"#222#225\"{typeof(dot), DataType, Marginalisation, DataType, Nothing, Nothing, FactorNode{typeof(dot), Tuple{NodeInterface, NodeInterface, NodeInterface}, Tuple{Tuple{Int64, Int64, Int64}}, ReactiveMP.FactorNodeLocalMarginals{Tuple{ReactiveMP.FactorNodeLocalMarginal}}, Nothing, EmptyPortal}}}, PushNew}, data::Tuple{Message{NormalMeanPrecision{Float64}}, Message{PointMass{Vector{Float64}}}}, index::Val{1})",
      "      @ Rocket ~/.julia/packages/Rocket/wveOj/src/observable/combined.jl:181",
      " [1199] on_next!",
      "      @ ~/.julia/packages/Rocket/wveOj/src/observable/combined.jl:139 [inlined]",
      " [1200] next!(actor::Rocket.CombineLatestInnerActor{Tuple{ReactiveMP.AbstractMessage, ReactiveMP.AbstractMessage}, Rocket.CombineLatestActorWrapper{Rocket.MStorage2{Tuple{ReactiveMP.AbstractMessage, ReactiveMP.AbstractMessage}, Nothing}, Rocket.MapActor{Tuple{Tuple{ReactiveMP.AbstractMessage, ReactiveMP.AbstractMessage}, Nothing}, Rocket.RecentSubjectInstance{ReactiveMP.AbstractMessage, Subject{ReactiveMP.AbstractMessage, AsapScheduler, AsapScheduler}}, ReactiveMP.var\"#222#225\"{typeof(dot), DataType, Marginalisation, DataType, Nothing, Nothing, FactorNode{typeof(dot), Tuple{NodeInterface, NodeInterface, NodeInterface}, Tuple{Tuple{Int64, Int64, Int64}}, ReactiveMP.FactorNodeLocalMarginals{Tuple{ReactiveMP.FactorNodeLocalMarginal}}, Nothing, EmptyPortal}}}, PushNew}, 1}, data::Tuple{Message{NormalMeanPrecision{Float64}}, Message{PointMass{Vector{Float64}}}})",
      "      @ Rocket ~/.julia/packages/Rocket/wveOj/src/actor.jl:206",
      "--- the last 3 lines are repeated 1 more time ---",
      " [1204] next_received!(wrapper::Rocket.CollectLatestObservableWrapper{ReactiveMP.AbstractMessage, Rocket.CombineLatestInnerActor{ReactiveMP.AbstractMessage, Rocket.CombineLatestActorWrapper{Rocket.MStorage2{ReactiveMP.AbstractMessage, ReactiveMP.AbstractMessage}, Rocket.CombineLatestInnerActor{Tuple{ReactiveMP.AbstractMessage, ReactiveMP.AbstractMessage}, Rocket.CombineLatestActorWrapper{Rocket.MStorage2{Tuple{ReactiveMP.AbstractMessage, ReactiveMP.AbstractMessage}, Nothing}, Rocket.MapActor{Tuple{Tuple{ReactiveMP.AbstractMessage, ReactiveMP.AbstractMessage}, Nothing}, Rocket.RecentSubjectInstance{ReactiveMP.AbstractMessage, Subject{ReactiveMP.AbstractMessage, AsapScheduler, AsapScheduler}}, ReactiveMP.var\"#222#225\"{typeof(dot), DataType, Marginalisation, DataType, Nothing, Nothing, FactorNode{typeof(dot), Tuple{NodeInterface, NodeInterface, NodeInterface}, Tuple{Tuple{Int64, Int64, Int64}}, ReactiveMP.FactorNodeLocalMarginals{Tuple{ReactiveMP.FactorNodeLocalMarginal}}, Nothing, EmptyPortal}}}, PushNew}, 1}, PushNew}, 1}, Vector{ReactiveMP.AbstractMessage}, BitVector, Vector{Teardown}, typeof(ReactiveMP.reduce_messages)}, data::ReactiveMP.VariationalMessage{Nothing, Tuple{ReactiveMP.MarginalObservable, ReactiveMP.MarginalObservable}, ReactiveMP.var\"#222#225\"{UnionAll, DataType, Marginalisation, Nothing, DataType, Nothing, FactorNode{Type{NormalMeanPrecision}, Tuple{NodeInterface, NodeInterface, NodeInterface}, Tuple{Tuple{Int64}, Tuple{Int64}, Tuple{Int64}}, ReactiveMP.FactorNodeLocalMarginals{Tuple{ReactiveMP.FactorNodeLocalMarginal, ReactiveMP.FactorNodeLocalMarginal, ReactiveMP.FactorNodeLocalMarginal}}, Nothing, EmptyPortal}}}, index::CartesianIndex{1})",
      "      @ Rocket ~/.julia/packages/Rocket/wveOj/src/observable/collected.jl:95",
      " [1205] on_next!",
      "      @ ~/.julia/packages/Rocket/wveOj/src/observable/collected.jl:85 [inlined]",
      " [1206] scheduled_next!(actor::Rocket.CollectLatestObservableInnerActor{ReactiveMP.AbstractMessage, CartesianIndex{1}, Rocket.CollectLatestObservableWrapper{ReactiveMP.AbstractMessage, Rocket.CombineLatestInnerActor{ReactiveMP.AbstractMessage, Rocket.CombineLatestActorWrapper{Rocket.MStorage2{ReactiveMP.AbstractMessage, ReactiveMP.AbstractMessage}, Rocket.CombineLatestInnerActor{Tuple{ReactiveMP.AbstractMessage, ReactiveMP.AbstractMessage}, Rocket.CombineLatestActorWrapper{Rocket.MStorage2{Tuple{ReactiveMP.AbstractMessage, ReactiveMP.AbstractMessage}, Nothing}, Rocket.MapActor{Tuple{Tuple{ReactiveMP.AbstractMessage, ReactiveMP.AbstractMessage}, Nothing}, Rocket.RecentSubjectInstance{ReactiveMP.AbstractMessage, Subject{ReactiveMP.AbstractMessage, AsapScheduler, AsapScheduler}}, ReactiveMP.var\"#222#225\"{typeof(dot), DataType, Marginalisation, DataType, Nothing, Nothing, FactorNode{typeof(dot), Tuple{NodeInterface, NodeInterface, NodeInterface}, Tuple{Tuple{Int64, Int64, Int64}}, ReactiveMP.FactorNodeLocalMarginals{Tuple{ReactiveMP.FactorNodeLocalMarginal}}, Nothing, EmptyPortal}}}, PushNew}, 1}, PushNew}, 1}, Vector{ReactiveMP.AbstractMessage}, BitVector, Vector{Teardown}, typeof(ReactiveMP.reduce_messages)}}, value::ReactiveMP.VariationalMessage{Nothing, Tuple{ReactiveMP.MarginalObservable, ReactiveMP.MarginalObservable}, ReactiveMP.var\"#222#225\"{UnionAll, DataType, Marginalisation, Nothing, DataType, Nothing, FactorNode{Type{NormalMeanPrecision}, Tuple{NodeInterface, NodeInterface, NodeInterface}, Tuple{Tuple{Int64}, Tuple{Int64}, Tuple{Int64}}, ReactiveMP.FactorNodeLocalMarginals{Tuple{ReactiveMP.FactorNodeLocalMarginal, ReactiveMP.FactorNodeLocalMarginal, ReactiveMP.FactorNodeLocalMarginal}}, Nothing, EmptyPortal}}}, #unused#::AsapScheduler)",
      "      @ Rocket ~/.julia/packages/Rocket/wveOj/src/schedulers/asap.jl:23",
      " [1207] on_next!(subject::Subject{ReactiveMP.AbstractMessage, AsapScheduler, AsapScheduler}, data::ReactiveMP.VariationalMessage{Nothing, Tuple{ReactiveMP.MarginalObservable, ReactiveMP.MarginalObservable}, ReactiveMP.var\"#222#225\"{UnionAll, DataType, Marginalisation, Nothing, DataType, Nothing, FactorNode{Type{NormalMeanPrecision}, Tuple{NodeInterface, NodeInterface, NodeInterface}, Tuple{Tuple{Int64}, Tuple{Int64}, Tuple{Int64}}, ReactiveMP.FactorNodeLocalMarginals{Tuple{ReactiveMP.FactorNodeLocalMarginal, ReactiveMP.FactorNodeLocalMarginal, ReactiveMP.FactorNodeLocalMarginal}}, Nothing, EmptyPortal}}})",
      "      @ Rocket ~/.julia/packages/Rocket/wveOj/src/subjects/subject.jl:62",
      " [1208] actor_on_next!",
      "      @ ~/.julia/packages/Rocket/wveOj/src/actor.jl:250 [inlined]",
      " [1209] next!",
      "      @ ~/.julia/packages/Rocket/wveOj/src/actor.jl:202 [inlined]",
      " [1210] on_next!",
      "      @ ~/.julia/packages/Rocket/wveOj/src/subjects/recent.jl:62 [inlined]",
      " [1211] actor_on_next!",
      "      @ ~/.julia/packages/Rocket/wveOj/src/actor.jl:250 [inlined]",
      " [1212] next!",
      "      @ ~/.julia/packages/Rocket/wveOj/src/actor.jl:202 [inlined]",
      " [1213] on_next!",
      "      @ ~/.julia/packages/Rocket/wveOj/src/operators/map.jl:60 [inlined]",
      " [1214] next!",
      "      @ ~/.julia/packages/Rocket/wveOj/src/actor.jl:206 [inlined]",
      " [1215] next_received!(wrapper::Rocket.CombineLatestActorWrapper{Rocket.MStorage2{Nothing, Tuple{ReactiveMP.MarginalObservable, ReactiveMP.MarginalObservable}}, Rocket.MapActor{Tuple{Nothing, Tuple{ReactiveMP.MarginalObservable, ReactiveMP.MarginalObservable}}, Rocket.RecentSubjectInstance{ReactiveMP.AbstractMessage, Subject{ReactiveMP.AbstractMessage, AsapScheduler, AsapScheduler}}, ReactiveMP.var\"#220#221\"{ReactiveMP.var\"#222#225\"{UnionAll, DataType, Marginalisation, Nothing, DataType, Nothing, FactorNode{Type{NormalMeanPrecision}, Tuple{NodeInterface, NodeInterface, NodeInterface}, Tuple{Tuple{Int64}, Tuple{Int64}, Tuple{Int64}}, ReactiveMP.FactorNodeLocalMarginals{Tuple{ReactiveMP.FactorNodeLocalMarginal, ReactiveMP.FactorNodeLocalMarginal, ReactiveMP.FactorNodeLocalMarginal}}, Nothing, EmptyPortal}}}}, PushNew}, data::Tuple{ReactiveMP.MarginalObservable, ReactiveMP.MarginalObservable}, index::Val{2})",
      "      @ Rocket ~/.julia/packages/Rocket/wveOj/src/observable/combined.jl:181",
      " [1216] on_next!",
      "      @ ~/.julia/packages/Rocket/wveOj/src/observable/combined.jl:139 [inlined]",
      " [1217] next!",
      "      @ ~/.julia/packages/Rocket/wveOj/src/actor.jl:206 [inlined]",
      " [1218] next_received!(wrapper::Rocket.CombineLatestUpdatesActorWrapper{Tuple{ReactiveMP.MarginalObservable, ReactiveMP.MarginalObservable}, Rocket.CombineLatestInnerActor{Tuple{ReactiveMP.MarginalObservable, ReactiveMP.MarginalObservable}, Rocket.CombineLatestActorWrapper{Rocket.MStorage2{Nothing, Tuple{ReactiveMP.MarginalObservable, ReactiveMP.MarginalObservable}}, Rocket.MapActor{Tuple{Nothing, Tuple{ReactiveMP.MarginalObservable, ReactiveMP.MarginalObservable}}, Rocket.RecentSubjectInstance{ReactiveMP.AbstractMessage, Subject{ReactiveMP.AbstractMessage, AsapScheduler, AsapScheduler}}, ReactiveMP.var\"#220#221\"{ReactiveMP.var\"#222#225\"{UnionAll, DataType, Marginalisation, Nothing, DataType, Nothing, FactorNode{Type{NormalMeanPrecision}, Tuple{NodeInterface, NodeInterface, NodeInterface}, Tuple{Tuple{Int64}, Tuple{Int64}, Tuple{Int64}}, ReactiveMP.FactorNodeLocalMarginals{Tuple{ReactiveMP.FactorNodeLocalMarginal, ReactiveMP.FactorNodeLocalMarginal, ReactiveMP.FactorNodeLocalMarginal}}, Nothing, EmptyPortal}}}}, PushNew}, 2}, PushNew}, data::Marginal{PointMass{Float64}}, index::Int64)",
      "      @ Rocket ~/.julia/packages/Rocket/wveOj/src/observable/combined_updates.jl:73",
      " [1219] on_next!",
      "      @ ~/.julia/packages/Rocket/wveOj/src/observable/combined_updates.jl:32 [inlined]",
      " [1220] scheduled_next!(actor::Rocket.CombineLatestUpdatesInnerActor{Marginal, Rocket.CombineLatestUpdatesActorWrapper{Tuple{ReactiveMP.MarginalObservable, ReactiveMP.MarginalObservable}, Rocket.CombineLatestInnerActor{Tuple{ReactiveMP.MarginalObservable, ReactiveMP.MarginalObservable}, Rocket.CombineLatestActorWrapper{Rocket.MStorage2{Nothing, Tuple{ReactiveMP.MarginalObservable, ReactiveMP.MarginalObservable}}, Rocket.MapActor{Tuple{Nothing, Tuple{ReactiveMP.MarginalObservable, ReactiveMP.MarginalObservable}}, Rocket.RecentSubjectInstance{ReactiveMP.AbstractMessage, Subject{ReactiveMP.AbstractMessage, AsapScheduler, AsapScheduler}}, ReactiveMP.var\"#220#221\"{ReactiveMP.var\"#222#225\"{UnionAll, DataType, Marginalisation, Nothing, DataType, Nothing, FactorNode{Type{NormalMeanPrecision}, Tuple{NodeInterface, NodeInterface, NodeInterface}, Tuple{Tuple{Int64}, Tuple{Int64}, Tuple{Int64}}, ReactiveMP.FactorNodeLocalMarginals{Tuple{ReactiveMP.FactorNodeLocalMarginal, ReactiveMP.FactorNodeLocalMarginal, ReactiveMP.FactorNodeLocalMarginal}}, Nothing, EmptyPortal}}}}, PushNew}, 2}, PushNew}}, value::Marginal{PointMass{Float64}}, #unused#::AsapScheduler)",
      "      @ Rocket ~/.julia/packages/Rocket/wveOj/src/schedulers/asap.jl:23",
      " [1221] on_next!(subject::Subject{Marginal, AsapScheduler, AsapScheduler}, data::Marginal{PointMass{Float64}})",
      "      @ Rocket ~/.julia/packages/Rocket/wveOj/src/subjects/subject.jl:62",
      " [1222] actor_on_next!",
      "      @ ~/.julia/packages/Rocket/wveOj/src/actor.jl:250 [inlined]",
      " [1223] next!",
      "      @ ~/.julia/packages/Rocket/wveOj/src/actor.jl:202 [inlined]",
      " [1224] on_next!",
      "      @ ~/.julia/packages/Rocket/wveOj/src/subjects/recent.jl:62 [inlined]",
      " [1225] actor_on_next!",
      "      @ ~/.julia/packages/Rocket/wveOj/src/actor.jl:250 [inlined]",
      " [1226] next!",
      "      @ ~/.julia/packages/Rocket/wveOj/src/actor.jl:202 [inlined]",
      " [1227] on_next!",
      "      @ ~/.julia/packages/Rocket/wveOj/src/operators/map.jl:60 [inlined]",
      " [1228] scheduled_next!(actor::Rocket.MapActor{Union{Message{Missing}, Message{PointMass{Float64}}}, Rocket.RecentSubjectInstance{Marginal, Subject{Marginal, AsapScheduler, AsapScheduler}}, typeof(as_marginal)}, value::Message{PointMass{Float64}}, #unused#::AsapScheduler)",
      "      @ Rocket ~/.julia/packages/Rocket/wveOj/src/schedulers/asap.jl:23",
      " [1229] on_next!(subject::Subject{Union{Message{Missing}, Message{PointMass{Float64}}}, AsapScheduler, AsapScheduler}, data::Message{PointMass{Float64}})",
      "      @ Rocket ~/.julia/packages/Rocket/wveOj/src/subjects/subject.jl:62",
      " [1230] actor_on_next!",
      "      @ ~/.julia/packages/Rocket/wveOj/src/actor.jl:250 [inlined]",
      " [1231] next!",
      "      @ ~/.julia/packages/Rocket/wveOj/src/actor.jl:202 [inlined]",
      " [1232] on_next!",
      "      @ ~/.julia/packages/Rocket/wveOj/src/subjects/recent.jl:62 [inlined]",
      " [1233] actor_on_next!",
      "      @ ~/.julia/packages/Rocket/wveOj/src/actor.jl:250 [inlined]",
      " [1234] next!",
      "      @ ~/.julia/packages/Rocket/wveOj/src/actor.jl:202 [inlined]",
      " [1235] update!",
      "      @ ~/.julia/dev/ReactiveMP/src/variables/data.jl:45 [inlined]",
      " [1236] #97",
      "      @ ~/.julia/dev/ReactiveMP/src/variables/data.jl:54 [inlined]",
      " [1237] foreach(f::ReactiveMP.var\"#97#98\", itr::Base.Iterators.Zip{Tuple{Vector{DataVariable{PointMass{Float64}, Rocket.RecentSubjectInstance{Union{Message{Missing}, Message{PointMass{Float64}}}, Subject{Union{Message{Missing}, Message{PointMass{Float64}}}, AsapScheduler, AsapScheduler}}}}, Vector{Float64}}})",
      "      @ Base ./abstractarray.jl:2141",
      " [1238] update!",
      "      @ ~/.julia/dev/ReactiveMP/src/variables/data.jl:53 [inlined]",
      " [1239] macro expansion",
      "      @ ./In[106]:25 [inlined]",
      " [1240] macro expansion",
      "      @ ~/.julia/packages/ProgressMeter/TpeOV/src/ProgressMeter.jl:599 [inlined]",
      " [1241] inference_lar(data::Vector{Float64}, order::Int64, niter::Int64)",
      "      @ Main ./In[106]:24",
      " [1242] top-level scope",
      "      @ In[108]:1",
      " [1243] eval",
      "      @ ./boot.jl:360 [inlined]"
     ]
    }
   ],
   "source": [
    "inference_lar(outputs, ar_order, vmp_iter)"
   ]
  },
  {
   "cell_type": "code",
   "execution_count": 100,
   "id": "authentic-exhibition",
   "metadata": {},
   "outputs": [
    {
     "data": {
      "text/plain": [
       "70-element Vector{Float64}:\n",
       " -6.103701895199438e-5\n",
       " -0.00015259254737998596\n",
       " -0.0003662221137119663\n",
       "  0.0\n",
       "  0.0005798516800439467\n",
       "  0.0004272591326639607\n",
       "  0.00024414807580797754\n",
       "  0.0003967406231879635\n",
       "  0.00024414807580797754\n",
       "  6.103701895199438e-5\n",
       " -0.0003662221137119663\n",
       " -0.0005188146610919523\n",
       "  6.103701895199438e-5\n",
       "  ⋮\n",
       " -6.103701895199438e-5\n",
       " -3.051850947599719e-5\n",
       " -0.00024414807580797754\n",
       " -0.0005493331705679495\n",
       " -0.0004882961516159551\n",
       " -0.00027466658528397473\n",
       " -0.00012207403790398877\n",
       " -9.155552842799158e-5\n",
       " -9.155552842799158e-5\n",
       " -0.00015259254737998596\n",
       " -0.00027466658528397473\n",
       " -3.051850947599719e-5"
      ]
     },
     "execution_count": 100,
     "metadata": {},
     "output_type": "execute_result"
    }
   ],
   "source": [
    "outputs"
   ]
  },
  {
   "cell_type": "code",
   "execution_count": 87,
   "id": "dramatic-estate",
   "metadata": {},
   "outputs": [
    {
     "data": {
      "text/plain": [
       "-27.809869504666494"
      ]
     },
     "execution_count": 87,
     "metadata": {},
     "output_type": "execute_result"
    }
   ],
   "source": [
    "minimum(fe_ar[1:end-1, :])"
   ]
  },
  {
   "cell_type": "code",
   "execution_count": 89,
   "id": "smart-burst",
   "metadata": {},
   "outputs": [
    {
     "data": {
      "text/plain": [
       "-23.897701140779446"
      ]
     },
     "execution_count": 89,
     "metadata": {},
     "output_type": "execute_result"
    }
   ],
   "source": [
    "minimum(fe_gaussian)"
   ]
  },
  {
   "cell_type": "code",
   "execution_count": null,
   "id": "secure-profession",
   "metadata": {},
   "outputs": [],
   "source": []
  }
 ],
 "metadata": {
  "kernelspec": {
   "display_name": "Julia 1.6.0",
   "language": "julia",
   "name": "julia-1.6"
  },
  "language_info": {
   "file_extension": ".jl",
   "mimetype": "application/julia",
   "name": "julia",
   "version": "1.6.0"
  }
 },
 "nbformat": 4,
 "nbformat_minor": 5
}
