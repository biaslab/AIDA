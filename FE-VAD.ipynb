{
 "cells": [
  {
   "cell_type": "code",
   "execution_count": 1,
   "id": "destroyed-panic",
   "metadata": {},
   "outputs": [
    {
     "name": "stderr",
     "output_type": "stream",
     "text": [
      "┌ Info: Precompiling ReactiveMP [a194aa59-28ba-4574-a09c-4a745416d6e3]\n",
      "└ @ Base loading.jl:1317\n",
      "\u001b[33m\u001b[1m┌ \u001b[22m\u001b[39m\u001b[33m\u001b[1mWarning: \u001b[22m\u001b[39mPackage ReactiveMP does not have LineSearches in its dependencies:\n",
      "\u001b[33m\u001b[1m│ \u001b[22m\u001b[39m- If you have ReactiveMP checked out for development and have\n",
      "\u001b[33m\u001b[1m│ \u001b[22m\u001b[39m  added LineSearches as a dependency but haven't updated your primary\n",
      "\u001b[33m\u001b[1m│ \u001b[22m\u001b[39m  environment's manifest file, try `Pkg.resolve()`.\n",
      "\u001b[33m\u001b[1m│ \u001b[22m\u001b[39m- Otherwise you may need to report an issue with ReactiveMP\n",
      "\u001b[33m\u001b[1m└ \u001b[22m\u001b[39mLoading LineSearches into ReactiveMP from project dependency, future warnings for ReactiveMP are suppressed.\n"
     ]
    }
   ],
   "source": [
    "using Revise\n",
    "using Rocket\n",
    "using ReactiveMP\n",
    "using GraphPPL\n",
    "using Distributions\n",
    "using LinearAlgebra\n",
    "import ProgressMeter\n",
    "using WAV\n",
    "using Plots"
   ]
  },
  {
   "cell_type": "code",
   "execution_count": 2,
   "id": "governmental-rates",
   "metadata": {},
   "outputs": [],
   "source": [
    "# clean speech\n",
    "cl, fs = wavread(\"speech/clean.wav\")\n",
    "σ² = 0.0001\n",
    "# white noise\n",
    "wn = sqrt(σ²)*randn(length(cl))\n",
    "# noised speech\n",
    "ns = cl .+ wn\n",
    "wavwrite(ns, \"speech/noised.wav\")"
   ]
  },
  {
   "cell_type": "code",
   "execution_count": 3,
   "id": "finished-suspect",
   "metadata": {},
   "outputs": [],
   "source": [
    "# dividing into 10ms frames with 2.5ms overlap\n",
    "start = 1\n",
    "l = Int(round(0.01*fs))\n",
    "overlap = Int(round(0.0025*fs))\n",
    "totseg = Int(ceil(length(ns)/(l-overlap)))\n",
    "segment = zeros(totseg, l)\n",
    "zseg = zeros(totseg, l)\n",
    "for i in 1:totseg - 1\n",
    "    global start\n",
    "    segment[i,1:l]=ns[start:start+l-1]\n",
    "    zseg[i, 1:l] = cl[start:start+l-1]\n",
    "    start = (l-overlap)*i+1\n",
    "end\n",
    "segment[totseg, 1:length(ns)-start+1] = ns[start:length(ns)]\n",
    "zseg[totseg, 1:length(cl)-start+1] = cl[start:length(cl)];"
   ]
  },
  {
   "cell_type": "code",
   "execution_count": 4,
   "id": "atlantic-booth",
   "metadata": {},
   "outputs": [
    {
     "data": {
      "text/plain": [
       "ar_ssm (generic function with 1 method)"
      ]
     },
     "execution_count": 4,
     "metadata": {},
     "output_type": "execute_result"
    }
   ],
   "source": [
    "function ar_ssm(series, order)\n",
    "    inputs = [reverse!(series[1:order])]\n",
    "    outputs = [series[order + 1]]\n",
    "    for x in series[order+2:end]\n",
    "        push!(inputs, vcat(outputs[end], inputs[end])[1:end-1])\n",
    "        push!(outputs, x)\n",
    "    end\n",
    "    return inputs, outputs\n",
    "end"
   ]
  },
  {
   "cell_type": "code",
   "execution_count": 31,
   "id": "statutory-armor",
   "metadata": {},
   "outputs": [
    {
     "data": {
      "text/plain": [
       "lar_model (generic function with 1 method)"
      ]
     },
     "execution_count": 31,
     "metadata": {},
     "output_type": "execute_result"
    }
   ],
   "source": [
    "@model function lar_model(n, order, artype, c)\n",
    "\n",
    "    x = randomvar(n)\n",
    "    y = datavar(Float64, n)\n",
    "\n",
    "    γ ~ GammaShapeRate(0.00001, 1.0) where {q=MeanField()}\n",
    "    θ ~ MvNormalMeanPrecision(randn(order), Matrix{Float64}(I, order, order)) where {q=MeanField()}\n",
    "    x0 ~ MvNormalMeanPrecision(100.0 * ones(order), Matrix{Float64}(I, order, order)) where {q=MeanField()}\n",
    "\n",
    "    x_prev = x0\n",
    "\n",
    "    ct  = constvar(c)\n",
    "    γ_y = constvar(inv(0.0001))\n",
    "\n",
    "    ar_nodes = Vector{FactorNode}(undef, n)\n",
    "\n",
    "    for i in 1:n\n",
    "        ar_nodes[i], x[i] ~ AR(x_prev, θ, γ) where { q = q(y, x)q(γ)q(θ), meta = ARMeta(artype, order, ARsafe()) }\n",
    "\n",
    "        y[i] ~ NormalMeanPrecision(dot(ct, x[i]), γ_y) where {q=MeanField()}\n",
    "\n",
    "        x_prev = x[i]\n",
    "    end\n",
    "\n",
    "    return x, y, θ, γ, ar_nodes\n",
    "end"
   ]
  },
  {
   "cell_type": "code",
   "execution_count": 32,
   "id": "molecular-waterproof",
   "metadata": {},
   "outputs": [
    {
     "data": {
      "text/plain": [
       "inference_lar (generic function with 1 method)"
      ]
     },
     "execution_count": 32,
     "metadata": {},
     "output_type": "execute_result"
    }
   ],
   "source": [
    "function inference_lar(data, order, niter)\n",
    "    n = length(data)\n",
    "    artype = Multivariate\n",
    "    c = zeros(order); c[1] = 1.0\n",
    "    model, (x, y, θ, γ, ar_nodes) = lar_model(n, order, artype, c)\n",
    "\n",
    "    γ_buffer = nothing\n",
    "    θ_buffer = nothing\n",
    "    x_buffer = Vector{Marginal}(undef, n)\n",
    "    fe = Vector{Float64}()\n",
    "\n",
    "    γsub = subscribe!(getmarginal(γ), (mγ) -> γ_buffer = mγ)\n",
    "    θsub = subscribe!(getmarginal(θ), (mθ) -> θ_buffer = mθ)\n",
    "    xsub = subscribe!(getmarginals(x), (mx) -> copyto!(x_buffer, mx))\n",
    "    fesub = subscribe!(score(Float64, BetheFreeEnergy(), model), (f) -> push!(fe, f))\n",
    "\n",
    "    setmarginal!(γ, GammaShapeRate(1.0, 1.0))\n",
    "    setmarginal!(θ, MvNormalMeanPrecision(zeros(order), Matrix{Float64}(I, order, order)))\n",
    "\n",
    "    for i in 1:n\n",
    "        setmarginal!(ar_nodes[i], :y_x, MvNormalMeanPrecision(100.0 * ones(2*order), Matrix{Float64}(I, 2*order, 2*order)))\n",
    "    end\n",
    "\n",
    "    for i in 1:niter\n",
    "        update!(y, data)\n",
    "    end\n",
    "\n",
    "    unsubscribe!(γsub)\n",
    "    unsubscribe!(θsub)\n",
    "    unsubscribe!(xsub)\n",
    "    unsubscribe!(fesub)\n",
    "\n",
    "    return γ_buffer, θ_buffer, x_buffer, fe\n",
    "end"
   ]
  },
  {
   "cell_type": "code",
   "execution_count": 33,
   "id": "correct-hazard",
   "metadata": {},
   "outputs": [
    {
     "data": {
      "text/plain": [
       "gaussian_model (generic function with 1 method)"
      ]
     },
     "execution_count": 33,
     "metadata": {},
     "output_type": "execute_result"
    }
   ],
   "source": [
    "@model function gaussian_model(n)\n",
    "\n",
    "    y = datavar(Float64, n)\n",
    "\n",
    "    γ ~ GammaShapeRate(1.0, 1.0) where {q=MeanField()}\n",
    "    x ~ NormalMeanPrecision(0.0, 1.0) where {q=MeanField()}\n",
    "\n",
    "    for i in 1:n\n",
    "        y[i] ~ NormalMeanPrecision(x, γ) where {q=MeanField()}\n",
    "    end\n",
    "\n",
    "    return y, x, γ\n",
    "end"
   ]
  },
  {
   "cell_type": "code",
   "execution_count": 34,
   "id": "restricted-language",
   "metadata": {},
   "outputs": [
    {
     "data": {
      "text/plain": [
       "inference_gaussian (generic function with 1 method)"
      ]
     },
     "execution_count": 34,
     "metadata": {},
     "output_type": "execute_result"
    }
   ],
   "source": [
    "function inference_gaussian(outputs, niter)\n",
    "    n = length(outputs)\n",
    "    model, (y, x, γ) = gaussian_model(n, options = (limit_stack_depth = 500, ))\n",
    "\n",
    "    γ_buffer = nothing\n",
    "    x_buffer = nothing\n",
    "    fe = Vector{Float64}()\n",
    "\n",
    "    γsub = subscribe!(getmarginal(γ), (my) -> γ_buffer = my)\n",
    "    xsub = subscribe!(getmarginal(x), (mx) -> x_buffer = mx)\n",
    "    fesub = subscribe!(score(Float64, BetheFreeEnergy(), model), (f) -> push!(fe, f))\n",
    "\n",
    "    setmarginal!(γ, GammaShapeRate(1.0, 1.0))\n",
    "\n",
    "    for i in 1:niter\n",
    "        update!(y, outputs)\n",
    "    end\n",
    "\n",
    "    unsubscribe!(γsub)\n",
    "    unsubscribe!(xsub)\n",
    "    unsubscribe!(fesub)\n",
    "\n",
    "    return x_buffer, γ_buffer, fe\n",
    "end"
   ]
  },
  {
   "cell_type": "code",
   "execution_count": 56,
   "id": "atmospheric-peter",
   "metadata": {},
   "outputs": [],
   "source": [
    "ar_order = 1\n",
    "vmp_iter = 10\n",
    "fe_ar = zeros(totseg, vmp_iter)\n",
    "fe_gaussian = zeros(totseg, vmp_iter);"
   ]
  },
  {
   "cell_type": "code",
   "execution_count": 57,
   "id": "blank-bacon",
   "metadata": {},
   "outputs": [
    {
     "name": "stderr",
     "output_type": "stream",
     "text": [
      "\u001b[32mProgress: 100%|█████████████████████████████████████████| Time: 0:00:02\u001b[39m\n"
     ]
    }
   ],
   "source": [
    "ProgressMeter.@showprogress for segnum in 100:120\n",
    "    inputs, outputs = ar_ssm(segment[segnum, :], ar_order)\n",
    "    γ, θ, x, fe = inference_lar(outputs, ar_order, vmp_iter)\n",
    "    mθ, vθ = mean(θ), cov(θ)\n",
    "    mγ = mean(γ)\n",
    "    fe_ar[segnum, :] = fe\n",
    "    \n",
    "    x, γ, fe = inference_gaussian(outputs, vmp_iter)\n",
    "    mx, vx = mean(x), cov(x)\n",
    "    mγ = mean(γ)\n",
    "    fe_gaussian[segnum, :] = fe\n",
    "end"
   ]
  },
  {
   "cell_type": "code",
   "execution_count": 58,
   "id": "selective-insert",
   "metadata": {},
   "outputs": [
    {
     "data": {
      "text/plain": [
       "-13.861258760096348"
      ]
     },
     "execution_count": 58,
     "metadata": {},
     "output_type": "execute_result"
    }
   ],
   "source": [
    "minimum(fe_ar[1:end-1, :])"
   ]
  },
  {
   "cell_type": "code",
   "execution_count": 59,
   "id": "driven-graham",
   "metadata": {},
   "outputs": [
    {
     "data": {
      "text/plain": [
       "-31.70147088109715"
      ]
     },
     "execution_count": 59,
     "metadata": {},
     "output_type": "execute_result"
    }
   ],
   "source": [
    "minimum(fe_gaussian)"
   ]
  },
  {
   "cell_type": "code",
   "execution_count": 60,
   "id": "hired-missile",
   "metadata": {},
   "outputs": [
    {
     "data": {
      "text/plain": [
       "21×10 Matrix{Float64}:\n",
       " 552.758  -12.8371  -13.3569  -13.357   …  -13.357   -13.357   -13.357\n",
       " 552.274  -13.3396  -13.8593  -13.8594     -13.8594  -13.8594  -13.8594\n",
       " 552.305  -13.3418  -13.8612  -13.8613     -13.8613  -13.8613  -13.8613\n",
       " 552.491  -13.2521  -13.7714  -13.7715     -13.7715  -13.7715  -13.7715\n",
       " 554.301  -11.2199  -11.74    -11.74       -11.74    -11.74    -11.74\n",
       " 552.461  -13.3039  -13.8235  -13.8236  …  -13.8236  -13.8236  -13.8236\n",
       " 552.392  -13.252   -13.7712  -13.7712     -13.7712  -13.7712  -13.7712\n",
       " 552.455  -13.1463  -13.6671  -13.6672     -13.6672  -13.6672  -13.6672\n",
       " 552.466  -13.141   -13.6607  -13.6608     -13.6608  -13.6608  -13.6608\n",
       " 552.595  -13.0982  -13.6171  -13.6172     -13.6172  -13.6172  -13.6172\n",
       " 553.628  -11.9688  -12.4874  -12.4875  …  -12.4875  -12.4875  -12.4875\n",
       " 552.622  -13.0039  -13.5223  -13.5224     -13.5224  -13.5224  -13.5224\n",
       " 552.698  -12.949   -13.4666  -13.4667     -13.4667  -13.4667  -13.4667\n",
       " 552.913  -12.6279  -13.1391  -13.1392     -13.1392  -13.1392  -13.1392\n",
       " 554.098  -11.6617  -12.1791  -12.1792     -12.1792  -12.1792  -12.1792\n",
       " 552.143  -13.3292  -13.8491  -13.8492  …  -13.8492  -13.8492  -13.8492\n",
       " 552.917  -12.8467  -13.3667  -13.3668     -13.3668  -13.3668  -13.3668\n",
       " 552.416  -13.3159  -13.8349  -13.835      -13.835   -13.835   -13.835\n",
       " 552.498  -13.2253  -13.7455  -13.7456     -13.7456  -13.7456  -13.7456\n",
       " 552.906  -12.8676  -13.3886  -13.3887     -13.3887  -13.3887  -13.3887\n",
       " 553.457  -12.3421  -12.8628  -12.8629  …  -12.8629  -12.8629  -12.8629"
      ]
     },
     "execution_count": 60,
     "metadata": {},
     "output_type": "execute_result"
    }
   ],
   "source": [
    "fe_ar[100:120, :]"
   ]
  },
  {
   "cell_type": "code",
   "execution_count": 54,
   "id": "smaller-remove",
   "metadata": {},
   "outputs": [
    {
     "data": {
      "text/plain": [
       "21×10 Matrix{Float64}:\n",
       " -11.6259  -23.6814  -23.7229  -23.7229  …  -23.7229  -23.7229  -23.7229\n",
       " -11.6312  -23.6891  -23.7306  -23.7307     -23.7307  -23.7307  -23.7307\n",
       " -11.6156  -23.6663  -23.7077  -23.7078     -23.7078  -23.7078  -23.7078\n",
       " -11.61    -23.658   -23.6995  -23.6995     -23.6995  -23.6995  -23.6995\n",
       " -11.6153  -23.6658  -23.7073  -23.7073     -23.7073  -23.7073  -23.7073\n",
       " -11.6272  -23.6832  -23.7247  -23.7247  …  -23.7247  -23.7247  -23.7247\n",
       " -11.6132  -23.6627  -23.7042  -23.7042     -23.7042  -23.7042  -23.7042\n",
       " -11.6764  -23.7555  -23.7972  -23.7972     -23.7972  -23.7972  -23.7972\n",
       " -11.6366  -23.6971  -23.7386  -23.7386     -23.7386  -23.7386  -23.7386\n",
       " -11.6008  -23.6445  -23.686   -23.686      -23.686   -23.686   -23.686\n",
       " -11.5618  -23.5874  -23.6288  -23.6288  …  -23.6288  -23.6288  -23.6288\n",
       " -11.5937  -23.6341  -23.6755  -23.6756     -23.6756  -23.6756  -23.6756\n",
       " -11.5614  -23.5867  -23.6281  -23.6281     -23.6281  -23.6281  -23.6281\n",
       " -11.2794  -23.1743  -23.2148  -23.2148     -23.2148  -23.2148  -23.2148\n",
       " -11.5702  -23.5998  -23.6411  -23.6411     -23.6411  -23.6411  -23.6411\n",
       " -11.6486  -23.7146  -23.7562  -23.7562  …  -23.7562  -23.7562  -23.7562\n",
       " -11.6453  -23.7098  -23.7514  -23.7514     -23.7514  -23.7514  -23.7514\n",
       " -11.6096  -23.6574  -23.6989  -23.6989     -23.6989  -23.6989  -23.6989\n",
       " -11.6552  -23.7243  -23.7659  -23.7659     -23.7659  -23.7659  -23.7659\n",
       " -11.6676  -23.7425  -23.7842  -23.7842     -23.7842  -23.7842  -23.7842\n",
       " -11.6466  -23.7117  -23.7533  -23.7533  …  -23.7533  -23.7533  -23.7533"
      ]
     },
     "execution_count": 54,
     "metadata": {},
     "output_type": "execute_result"
    }
   ],
   "source": [
    "fe_gaussian[100:120, :]"
   ]
  },
  {
   "cell_type": "code",
   "execution_count": 61,
   "id": "attractive-language",
   "metadata": {},
   "outputs": [
    {
     "data": {
      "image/svg+xml": [
       "<?xml version=\"1.0\" encoding=\"utf-8\"?>\n",
       "<svg xmlns=\"http://www.w3.org/2000/svg\" xmlns:xlink=\"http://www.w3.org/1999/xlink\" width=\"600\" height=\"400\" viewBox=\"0 0 2400 1600\">\n",
       "<defs>\n",
       "  <clipPath id=\"clip5200\">\n",
       "    <rect x=\"0\" y=\"0\" width=\"2400\" height=\"1600\"/>\n",
       "  </clipPath>\n",
       "</defs>\n",
       "<path clip-path=\"url(#clip5200)\" d=\"\n",
       "M0 1600 L2400 1600 L2400 0 L0 0  Z\n",
       "  \" fill=\"#ffffff\" fill-rule=\"evenodd\" fill-opacity=\"1\"/>\n",
       "<defs>\n",
       "  <clipPath id=\"clip5201\">\n",
       "    <rect x=\"480\" y=\"0\" width=\"1681\" height=\"1600\"/>\n",
       "  </clipPath>\n",
       "</defs>\n",
       "<path clip-path=\"url(#clip5200)\" d=\"\n",
       "M208.77 1487.47 L2352.76 1487.47 L2352.76 47.2441 L208.77 47.2441  Z\n",
       "  \" fill=\"#ffffff\" fill-rule=\"evenodd\" fill-opacity=\"1\"/>\n",
       "<defs>\n",
       "  <clipPath id=\"clip5202\">\n",
       "    <rect x=\"208\" y=\"47\" width=\"2145\" height=\"1441\"/>\n",
       "  </clipPath>\n",
       "</defs>\n",
       "<polyline clip-path=\"url(#clip5202)\" style=\"stroke:#000000; stroke-width:2; stroke-opacity:0.1; fill:none\" points=\"\n",
       "  243.846,1487.47 243.846,47.2441 \n",
       "  \"/>\n",
       "<polyline clip-path=\"url(#clip5202)\" style=\"stroke:#000000; stroke-width:2; stroke-opacity:0.1; fill:none\" points=\"\n",
       "  755.904,1487.47 755.904,47.2441 \n",
       "  \"/>\n",
       "<polyline clip-path=\"url(#clip5202)\" style=\"stroke:#000000; stroke-width:2; stroke-opacity:0.1; fill:none\" points=\"\n",
       "  1267.96,1487.47 1267.96,47.2441 \n",
       "  \"/>\n",
       "<polyline clip-path=\"url(#clip5202)\" style=\"stroke:#000000; stroke-width:2; stroke-opacity:0.1; fill:none\" points=\"\n",
       "  1780.02,1487.47 1780.02,47.2441 \n",
       "  \"/>\n",
       "<polyline clip-path=\"url(#clip5202)\" style=\"stroke:#000000; stroke-width:2; stroke-opacity:0.1; fill:none\" points=\"\n",
       "  2292.08,1487.47 2292.08,47.2441 \n",
       "  \"/>\n",
       "<polyline clip-path=\"url(#clip5202)\" style=\"stroke:#000000; stroke-width:2; stroke-opacity:0.1; fill:none\" points=\"\n",
       "  208.77,1342.81 2352.76,1342.81 \n",
       "  \"/>\n",
       "<polyline clip-path=\"url(#clip5202)\" style=\"stroke:#000000; stroke-width:2; stroke-opacity:0.1; fill:none\" points=\"\n",
       "  208.77,1148.38 2352.76,1148.38 \n",
       "  \"/>\n",
       "<polyline clip-path=\"url(#clip5202)\" style=\"stroke:#000000; stroke-width:2; stroke-opacity:0.1; fill:none\" points=\"\n",
       "  208.77,953.946 2352.76,953.946 \n",
       "  \"/>\n",
       "<polyline clip-path=\"url(#clip5202)\" style=\"stroke:#000000; stroke-width:2; stroke-opacity:0.1; fill:none\" points=\"\n",
       "  208.77,759.514 2352.76,759.514 \n",
       "  \"/>\n",
       "<polyline clip-path=\"url(#clip5202)\" style=\"stroke:#000000; stroke-width:2; stroke-opacity:0.1; fill:none\" points=\"\n",
       "  208.77,565.083 2352.76,565.083 \n",
       "  \"/>\n",
       "<polyline clip-path=\"url(#clip5202)\" style=\"stroke:#000000; stroke-width:2; stroke-opacity:0.1; fill:none\" points=\"\n",
       "  208.77,370.651 2352.76,370.651 \n",
       "  \"/>\n",
       "<polyline clip-path=\"url(#clip5202)\" style=\"stroke:#000000; stroke-width:2; stroke-opacity:0.1; fill:none\" points=\"\n",
       "  208.77,176.219 2352.76,176.219 \n",
       "  \"/>\n",
       "<polyline clip-path=\"url(#clip5200)\" style=\"stroke:#000000; stroke-width:4; stroke-opacity:1; fill:none\" points=\"\n",
       "  208.77,1487.47 2352.76,1487.47 \n",
       "  \"/>\n",
       "<polyline clip-path=\"url(#clip5200)\" style=\"stroke:#000000; stroke-width:4; stroke-opacity:1; fill:none\" points=\"\n",
       "  208.77,1487.47 208.77,47.2441 \n",
       "  \"/>\n",
       "<polyline clip-path=\"url(#clip5200)\" style=\"stroke:#000000; stroke-width:4; stroke-opacity:1; fill:none\" points=\"\n",
       "  243.846,1487.47 243.846,1470.19 \n",
       "  \"/>\n",
       "<polyline clip-path=\"url(#clip5200)\" style=\"stroke:#000000; stroke-width:4; stroke-opacity:1; fill:none\" points=\"\n",
       "  755.904,1487.47 755.904,1470.19 \n",
       "  \"/>\n",
       "<polyline clip-path=\"url(#clip5200)\" style=\"stroke:#000000; stroke-width:4; stroke-opacity:1; fill:none\" points=\"\n",
       "  1267.96,1487.47 1267.96,1470.19 \n",
       "  \"/>\n",
       "<polyline clip-path=\"url(#clip5200)\" style=\"stroke:#000000; stroke-width:4; stroke-opacity:1; fill:none\" points=\"\n",
       "  1780.02,1487.47 1780.02,1470.19 \n",
       "  \"/>\n",
       "<polyline clip-path=\"url(#clip5200)\" style=\"stroke:#000000; stroke-width:4; stroke-opacity:1; fill:none\" points=\"\n",
       "  2292.08,1487.47 2292.08,1470.19 \n",
       "  \"/>\n",
       "<polyline clip-path=\"url(#clip5200)\" style=\"stroke:#000000; stroke-width:4; stroke-opacity:1; fill:none\" points=\"\n",
       "  208.77,1342.81 234.498,1342.81 \n",
       "  \"/>\n",
       "<polyline clip-path=\"url(#clip5200)\" style=\"stroke:#000000; stroke-width:4; stroke-opacity:1; fill:none\" points=\"\n",
       "  208.77,1148.38 234.498,1148.38 \n",
       "  \"/>\n",
       "<polyline clip-path=\"url(#clip5200)\" style=\"stroke:#000000; stroke-width:4; stroke-opacity:1; fill:none\" points=\"\n",
       "  208.77,953.946 234.498,953.946 \n",
       "  \"/>\n",
       "<polyline clip-path=\"url(#clip5200)\" style=\"stroke:#000000; stroke-width:4; stroke-opacity:1; fill:none\" points=\"\n",
       "  208.77,759.514 234.498,759.514 \n",
       "  \"/>\n",
       "<polyline clip-path=\"url(#clip5200)\" style=\"stroke:#000000; stroke-width:4; stroke-opacity:1; fill:none\" points=\"\n",
       "  208.77,565.083 234.498,565.083 \n",
       "  \"/>\n",
       "<polyline clip-path=\"url(#clip5200)\" style=\"stroke:#000000; stroke-width:4; stroke-opacity:1; fill:none\" points=\"\n",
       "  208.77,370.651 234.498,370.651 \n",
       "  \"/>\n",
       "<polyline clip-path=\"url(#clip5200)\" style=\"stroke:#000000; stroke-width:4; stroke-opacity:1; fill:none\" points=\"\n",
       "  208.77,176.219 234.498,176.219 \n",
       "  \"/>\n",
       "<g clip-path=\"url(#clip5200)\">\n",
       "<text style=\"fill:#000000; fill-opacity:1; font-family:Arial,Helvetica Neue,Helvetica,sans-serif; font-size:48px; text-anchor:middle;\" transform=\"rotate(0, 243.846, 1541.47)\" x=\"243.846\" y=\"1541.47\">0</text>\n",
       "</g>\n",
       "<g clip-path=\"url(#clip5200)\">\n",
       "<text style=\"fill:#000000; fill-opacity:1; font-family:Arial,Helvetica Neue,Helvetica,sans-serif; font-size:48px; text-anchor:middle;\" transform=\"rotate(0, 755.904, 1541.47)\" x=\"755.904\" y=\"1541.47\">20</text>\n",
       "</g>\n",
       "<g clip-path=\"url(#clip5200)\">\n",
       "<text style=\"fill:#000000; fill-opacity:1; font-family:Arial,Helvetica Neue,Helvetica,sans-serif; font-size:48px; text-anchor:middle;\" transform=\"rotate(0, 1267.96, 1541.47)\" x=\"1267.96\" y=\"1541.47\">40</text>\n",
       "</g>\n",
       "<g clip-path=\"url(#clip5200)\">\n",
       "<text style=\"fill:#000000; fill-opacity:1; font-family:Arial,Helvetica Neue,Helvetica,sans-serif; font-size:48px; text-anchor:middle;\" transform=\"rotate(0, 1780.02, 1541.47)\" x=\"1780.02\" y=\"1541.47\">60</text>\n",
       "</g>\n",
       "<g clip-path=\"url(#clip5200)\">\n",
       "<text style=\"fill:#000000; fill-opacity:1; font-family:Arial,Helvetica Neue,Helvetica,sans-serif; font-size:48px; text-anchor:middle;\" transform=\"rotate(0, 2292.08, 1541.47)\" x=\"2292.08\" y=\"1541.47\">80</text>\n",
       "</g>\n",
       "<g clip-path=\"url(#clip5200)\">\n",
       "<text style=\"fill:#000000; fill-opacity:1; font-family:Arial,Helvetica Neue,Helvetica,sans-serif; font-size:48px; text-anchor:end;\" transform=\"rotate(0, 184.77, 1360.31)\" x=\"184.77\" y=\"1360.31\">-0.02</text>\n",
       "</g>\n",
       "<g clip-path=\"url(#clip5200)\">\n",
       "<text style=\"fill:#000000; fill-opacity:1; font-family:Arial,Helvetica Neue,Helvetica,sans-serif; font-size:48px; text-anchor:end;\" transform=\"rotate(0, 184.77, 1165.88)\" x=\"184.77\" y=\"1165.88\">-0.01</text>\n",
       "</g>\n",
       "<g clip-path=\"url(#clip5200)\">\n",
       "<text style=\"fill:#000000; fill-opacity:1; font-family:Arial,Helvetica Neue,Helvetica,sans-serif; font-size:48px; text-anchor:end;\" transform=\"rotate(0, 184.77, 971.446)\" x=\"184.77\" y=\"971.446\">0.00</text>\n",
       "</g>\n",
       "<g clip-path=\"url(#clip5200)\">\n",
       "<text style=\"fill:#000000; fill-opacity:1; font-family:Arial,Helvetica Neue,Helvetica,sans-serif; font-size:48px; text-anchor:end;\" transform=\"rotate(0, 184.77, 777.014)\" x=\"184.77\" y=\"777.014\">0.01</text>\n",
       "</g>\n",
       "<g clip-path=\"url(#clip5200)\">\n",
       "<text style=\"fill:#000000; fill-opacity:1; font-family:Arial,Helvetica Neue,Helvetica,sans-serif; font-size:48px; text-anchor:end;\" transform=\"rotate(0, 184.77, 582.583)\" x=\"184.77\" y=\"582.583\">0.02</text>\n",
       "</g>\n",
       "<g clip-path=\"url(#clip5200)\">\n",
       "<text style=\"fill:#000000; fill-opacity:1; font-family:Arial,Helvetica Neue,Helvetica,sans-serif; font-size:48px; text-anchor:end;\" transform=\"rotate(0, 184.77, 388.151)\" x=\"184.77\" y=\"388.151\">0.03</text>\n",
       "</g>\n",
       "<g clip-path=\"url(#clip5200)\">\n",
       "<text style=\"fill:#000000; fill-opacity:1; font-family:Arial,Helvetica Neue,Helvetica,sans-serif; font-size:48px; text-anchor:end;\" transform=\"rotate(0, 184.77, 193.719)\" x=\"184.77\" y=\"193.719\">0.04</text>\n",
       "</g>\n",
       "<polyline clip-path=\"url(#clip5202)\" style=\"stroke:#009af9; stroke-width:4; stroke-opacity:1; fill:none\" points=\"\n",
       "  269.449,935.685 295.052,1175.71 320.655,1347.01 346.258,946.333 371.861,1446.71 397.464,672.811 423.067,959.226 448.669,776.898 474.272,1154.37 499.875,809.146 \n",
       "  525.478,1050.56 551.081,997.194 576.684,1130.71 602.287,1243.8 627.89,975.579 653.492,1123.21 679.095,846.79 704.698,940.066 730.301,1174.16 755.904,1094.27 \n",
       "  781.507,562.406 807.11,88.0053 832.713,830.063 858.316,764.543 883.918,1161.19 909.521,961.104 935.124,1061.42 960.727,962.638 986.33,653.879 1011.93,719.858 \n",
       "  1037.54,1124.89 1063.14,1048.34 1088.74,708.729 1114.34,994.83 1139.95,811.234 1165.55,833.015 1191.15,734.173 1216.76,464.749 1242.36,1128.4 1267.96,841.959 \n",
       "  1293.56,783.768 1319.17,1100.22 1344.77,773.333 1370.37,1079.45 1395.98,897.388 1421.58,1213.76 1447.18,1003.03 1472.78,677.262 1498.39,925.362 1523.99,807.22 \n",
       "  1549.59,1135.39 1575.2,1067.42 1600.8,627.373 1626.4,1037.45 1652,692.329 1677.61,1023.75 1703.21,937.119 1728.81,1053.32 1754.42,950.777 1780.02,1174.4 \n",
       "  1805.62,914.731 1831.23,734.385 1856.83,888.12 1882.43,1052.64 1908.03,1100.1 1933.64,857.626 1959.24,1076.49 1984.84,1042.08 2010.45,1157.57 2036.05,1139.18 \n",
       "  2061.65,1198.52 2087.25,632.639 2112.86,677.564 2138.46,1182.08 2164.06,1299.14 2189.67,952.637 2215.27,1019.7 2240.87,1163.81 2266.47,817.102 2292.08,1024.4 \n",
       "  \n",
       "  \"/>\n",
       "<path clip-path=\"url(#clip5200)\" d=\"\n",
       "M1989.93 251.724 L2280.76 251.724 L2280.76 130.764 L1989.93 130.764  Z\n",
       "  \" fill=\"#ffffff\" fill-rule=\"evenodd\" fill-opacity=\"1\"/>\n",
       "<polyline clip-path=\"url(#clip5200)\" style=\"stroke:#000000; stroke-width:4; stroke-opacity:1; fill:none\" points=\"\n",
       "  1989.93,251.724 2280.76,251.724 2280.76,130.764 1989.93,130.764 1989.93,251.724 \n",
       "  \"/>\n",
       "<polyline clip-path=\"url(#clip5200)\" style=\"stroke:#009af9; stroke-width:4; stroke-opacity:1; fill:none\" points=\"\n",
       "  2013.93,191.244 2157.93,191.244 \n",
       "  \"/>\n",
       "<g clip-path=\"url(#clip5200)\">\n",
       "<text style=\"fill:#000000; fill-opacity:1; font-family:Arial,Helvetica Neue,Helvetica,sans-serif; font-size:48px; text-anchor:start;\" transform=\"rotate(0, 2181.93, 208.744)\" x=\"2181.93\" y=\"208.744\">y1</text>\n",
       "</g>\n",
       "</svg>\n"
      ]
     },
     "execution_count": 61,
     "metadata": {},
     "output_type": "execute_result"
    }
   ],
   "source": [
    "plot(segment[120, :])"
   ]
  },
  {
   "cell_type": "code",
   "execution_count": null,
   "id": "round-prototype",
   "metadata": {},
   "outputs": [],
   "source": []
  }
 ],
 "metadata": {
  "kernelspec": {
   "display_name": "Julia 1.6.0",
   "language": "julia",
   "name": "julia-1.6"
  },
  "language_info": {
   "file_extension": ".jl",
   "mimetype": "application/julia",
   "name": "julia",
   "version": "1.6.0"
  }
 },
 "nbformat": 4,
 "nbformat_minor": 5
}
